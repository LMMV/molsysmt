{
 "cells": [
  {
   "cell_type": "code",
   "execution_count": 1,
   "id": "e488f824-e1e7-4f77-8f2c-4e4b242818bf",
   "metadata": {},
   "outputs": [],
   "source": [
    "%load_ext autoreload\n",
    "%autoreload 2"
   ]
  },
  {
   "cell_type": "markdown",
   "id": "fed817c5-0903-4e7f-8400-f3d6fe43d8c6",
   "metadata": {},
   "source": [
    "# Test penta-R"
   ]
  },
  {
   "cell_type": "code",
   "execution_count": 3,
   "id": "1c624841-9f9d-449a-a3f7-20f803ea555a",
   "metadata": {},
   "outputs": [
    {
     "data": {
      "application/vnd.jupyter.widget-view+json": {
       "model_id": "3fc80a1742e945839330a3d8aa60b067",
       "version_major": 2,
       "version_minor": 0
      },
      "text/plain": []
     },
     "metadata": {},
     "output_type": "display_data"
    }
   ],
   "source": [
    "import molsysmt as msm"
   ]
  },
  {
   "cell_type": "code",
   "execution_count": null,
   "id": "2660db73-859e-4003-ae5b-fffa48154019",
   "metadata": {},
   "outputs": [],
   "source": [
    "import openmm as omm\n",
    "import openmm.app as app\n",
    "from openmm import unit\n",
    "from mdtraj.reporters import HDF5Reporter\n",
    "from sys import stdout"
   ]
  },
  {
   "cell_type": "code",
   "execution_count": null,
   "id": "4e0a3cda-fae5-4789-88da-7c30be7f17c4",
   "metadata": {},
   "outputs": [],
   "source": [
    "if False:\n",
    "    molecular_system = msm.build.build_peptide('RRRRRRR')\n",
    "    molecular_system = msm.build.add_missing_terminal_cappings(molecular_system, N_terminal='ACE', C_terminal='NME')\n",
    "    msm.structure.center(molecular_system, selection='molecule_type==\"peptide\"')\n",
    "    molecular_system = msm.build.solvate(molecular_system, box_shape='truncated octahedral', clearance='14.0 angstroms')\n",
    "    msm.convert(molecular_system, to_form='hepta-L-Arg_solv.pdb')"
   ]
  },
  {
   "cell_type": "code",
   "execution_count": null,
   "id": "1cc40dbe-072d-4d58-813a-6c29ab0f95a9",
   "metadata": {},
   "outputs": [],
   "source": [
    "if False:\n",
    "    pdb = app.PDBFile('hepta-L-Arg_solv.pdb')\n",
    "    forcefield = app.ForceField('amber14-all.xml', 'amber14/tip3p.xml')\n",
    "    system = forcefield.createSystem(pdb.topology, nonbondedMethod=app.PME,\n",
    "        nonbondedCutoff=1.2*unit.nanometer, constraints=app.HBonds)\n",
    "    integrator = omm.LangevinIntegrator(300*unit.kelvin, 1.0/unit.picosecond, 0.002*unit.picoseconds)\n",
    "    platform = omm.Platform.getPlatformByName('CUDA')\n",
    "    simulation = app.Simulation(pdb.topology, system, integrator, platform)\n",
    "    simulation.context.setPositions(pdb.positions)\n",
    "    simulation.minimizeEnergy()\n",
    "    h5_reporter = HDF5Reporter('traj.h5', 2500)\n",
    "    stdout_reporter = app.StateDataReporter(stdout, 5000, step=True,\n",
    "        potentialEnergy=True, temperature=True)\n",
    "    simulation.reporters.append(h5_reporter)\n",
    "    simulation.reporters.append(stdout_reporter)\n",
    "    simulation.step(50000)\n",
    "    h5_reporter.close()"
   ]
  },
  {
   "cell_type": "code",
   "execution_count": 4,
   "id": "f83f348e-2558-4bee-a701-20fda44b9ba0",
   "metadata": {},
   "outputs": [],
   "source": [
    "msm.get('traj.h5', n_entities=True)"
   ]
  },
  {
   "cell_type": "code",
   "execution_count": 5,
   "id": "422b5baa-4e3b-4100-84f7-8a2b535b2030",
   "metadata": {},
   "outputs": [
    {
     "data": {
      "text/html": [
       "<style type=\"text/css\">\n",
       "</style>\n",
       "<table id=\"T_bed94\">\n",
       "  <thead>\n",
       "    <tr>\n",
       "      <th id=\"T_bed94_level0_col0\" class=\"col_heading level0 col0\" >form</th>\n",
       "      <th id=\"T_bed94_level0_col1\" class=\"col_heading level0 col1\" >n_atoms</th>\n",
       "      <th id=\"T_bed94_level0_col2\" class=\"col_heading level0 col2\" >n_groups</th>\n",
       "      <th id=\"T_bed94_level0_col3\" class=\"col_heading level0 col3\" >n_components</th>\n",
       "      <th id=\"T_bed94_level0_col4\" class=\"col_heading level0 col4\" >n_chains</th>\n",
       "      <th id=\"T_bed94_level0_col5\" class=\"col_heading level0 col5\" >n_molecules</th>\n",
       "      <th id=\"T_bed94_level0_col6\" class=\"col_heading level0 col6\" >n_entities</th>\n",
       "      <th id=\"T_bed94_level0_col7\" class=\"col_heading level0 col7\" >n_waters</th>\n",
       "      <th id=\"T_bed94_level0_col8\" class=\"col_heading level0 col8\" >n_ions</th>\n",
       "      <th id=\"T_bed94_level0_col9\" class=\"col_heading level0 col9\" >n_peptides</th>\n",
       "      <th id=\"T_bed94_level0_col10\" class=\"col_heading level0 col10\" >n_structures</th>\n",
       "    </tr>\n",
       "  </thead>\n",
       "  <tbody>\n",
       "    <tr>\n",
       "      <td id=\"T_bed94_row0_col0\" class=\"data row0 col0\" >file:h5</td>\n",
       "      <td id=\"T_bed94_row0_col1\" class=\"data row0 col1\" >4720</td>\n",
       "      <td id=\"T_bed94_row0_col2\" class=\"data row0 col2\" >1527</td>\n",
       "      <td id=\"T_bed94_row0_col3\" class=\"data row0 col3\" >1519</td>\n",
       "      <td id=\"T_bed94_row0_col4\" class=\"data row0 col4\" >3</td>\n",
       "      <td id=\"T_bed94_row0_col5\" class=\"data row0 col5\" >1519</td>\n",
       "      <td id=\"T_bed94_row0_col6\" class=\"data row0 col6\" >None</td>\n",
       "      <td id=\"T_bed94_row0_col7\" class=\"data row0 col7\" >1511</td>\n",
       "      <td id=\"T_bed94_row0_col8\" class=\"data row0 col8\" >7</td>\n",
       "      <td id=\"T_bed94_row0_col9\" class=\"data row0 col9\" >1</td>\n",
       "      <td id=\"T_bed94_row0_col10\" class=\"data row0 col10\" >20</td>\n",
       "    </tr>\n",
       "  </tbody>\n",
       "</table>\n"
      ],
      "text/plain": [
       "<pandas.io.formats.style.Styler at 0x7f19bca86790>"
      ]
     },
     "execution_count": 5,
     "metadata": {},
     "output_type": "execute_result"
    }
   ],
   "source": [
    "msm.info('traj.h5')"
   ]
  },
  {
   "cell_type": "code",
   "execution_count": null,
   "id": "f01a1be7-5840-46ff-a815-058321f4c086",
   "metadata": {},
   "outputs": [],
   "source": []
  }
 ],
 "metadata": {
  "kernelspec": {
   "display_name": "Python 3 (ipykernel)",
   "language": "python",
   "name": "python3"
  },
  "language_info": {
   "codemirror_mode": {
    "name": "ipython",
    "version": 3
   },
   "file_extension": ".py",
   "mimetype": "text/x-python",
   "name": "python",
   "nbconvert_exporter": "python",
   "pygments_lexer": "ipython3",
   "version": "3.9.15"
  }
 },
 "nbformat": 4,
 "nbformat_minor": 5
}
