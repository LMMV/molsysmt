{
 "cells": [
  {
   "cell_type": "code",
   "execution_count": 1,
   "id": "e9ec11a2-30f6-49e8-aa19-e8045d6339e9",
   "metadata": {},
   "outputs": [],
   "source": [
    "import numba as nb"
   ]
  },
  {
   "cell_type": "code",
   "execution_count": 2,
   "id": "53968227-c8a1-4c15-bdcc-97872e91b6c2",
   "metadata": {},
   "outputs": [],
   "source": [
    "import numpy as np"
   ]
  },
  {
   "cell_type": "code",
   "execution_count": 3,
   "id": "d18c99ef-edf3-4962-8fa2-e09e3516d36f",
   "metadata": {},
   "outputs": [],
   "source": [
    "import networkx as nx"
   ]
  },
  {
   "cell_type": "code",
   "execution_count": 18,
   "id": "f8183957-7e84-4fbc-a337-07a718fb4109",
   "metadata": {},
   "outputs": [],
   "source": [
    "import math"
   ]
  },
  {
   "cell_type": "code",
   "execution_count": 20,
   "id": "540d90c1-0723-46fb-816f-9865d1b3eeec",
   "metadata": {},
   "outputs": [],
   "source": [
    "@nb.jit(nb.float64[:,:,:](nb.float64[:,:], nb.float64[:,:]), nopython=True)\n",
    "def lengths_and_angles_to_box(lengths, angles):\n",
    "\n",
    "    n_frames = lengths.shape[0]\n",
    "    \n",
    "    box = np.zeros((n_frames,3,3), dtype=nb.float64)\n",
    "    \n",
    "    for ii in range(n_frames):\n",
    "        \n",
    "        alpha=math.radians(angles[ii,0])\n",
    "        beta=math.radians(angles[ii,1])\n",
    "        gamm=math.radians(angles[ii,2])\n",
    "        x=lengths[ii,0]\n",
    "        y=lengths[ii,1]\n",
    "        z=lengths[ii,2]\n",
    "        box[ii,0,0]=x\n",
    "        box[ii,1,0]=y*math.cos(gamm)\n",
    "        box[ii,1,1]=y*math.sin(gamm)\n",
    "        box[ii,2,0]=z*math.cos(beta)\n",
    "        box[ii,2,1]=z*(math.cos(alpha)-math.cos(beta)*math.cos(gamm))/math.sin(gamm) \n",
    "        box[ii,2,2]=math.sqrt(z*z-box[ii,2,0]**2-box[ii,2,1]**2)\n",
    "\n",
    "    return box\n"
   ]
  },
  {
   "cell_type": "code",
   "execution_count": null,
   "id": "7fb0ca89-92e2-4ab9-8975-36f669f4837c",
   "metadata": {},
   "outputs": [],
   "source": []
  }
 ],
 "metadata": {
  "kernelspec": {
   "display_name": "Python 3 (ipykernel)",
   "language": "python",
   "name": "python3"
  },
  "language_info": {
   "codemirror_mode": {
    "name": "ipython",
    "version": 3
   },
   "file_extension": ".py",
   "mimetype": "text/x-python",
   "name": "python",
   "nbconvert_exporter": "python",
   "pygments_lexer": "ipython3",
   "version": "3.9.15"
  }
 },
 "nbformat": 4,
 "nbformat_minor": 5
}
