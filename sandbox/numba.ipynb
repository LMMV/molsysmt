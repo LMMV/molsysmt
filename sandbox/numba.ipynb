{
 "cells": [
  {
   "cell_type": "code",
   "execution_count": 1,
   "id": "e9ec11a2-30f6-49e8-aa19-e8045d6339e9",
   "metadata": {
    "tags": []
   },
   "outputs": [],
   "source": [
    "import numba as nb\n",
    "import numpy as np"
   ]
  },
  {
   "cell_type": "code",
   "execution_count": 2,
   "id": "5f5114e3-c7bc-4cf7-b183-08ac231abda1",
   "metadata": {
    "tags": []
   },
   "outputs": [],
   "source": [
    "aa=[]"
   ]
  },
  {
   "cell_type": "code",
   "execution_count": 3,
   "id": "afb1aa3d-a0ad-4d3e-8718-ad7a4a2bfec5",
   "metadata": {
    "tags": []
   },
   "outputs": [],
   "source": [
    "aa.append(nb.typed.List([0,1,2]))"
   ]
  },
  {
   "cell_type": "code",
   "execution_count": 4,
   "id": "f56a757c-0826-4d4c-b24c-a1391a6a30ea",
   "metadata": {
    "tags": []
   },
   "outputs": [],
   "source": [
    "aa.append(nb.typed.List([3,4]))"
   ]
  },
  {
   "cell_type": "code",
   "execution_count": 5,
   "id": "63a111f1-2e2d-4385-9dc5-b682744c10e7",
   "metadata": {
    "tags": []
   },
   "outputs": [],
   "source": [
    "aa.append(nb.typed.List([5]))"
   ]
  },
  {
   "cell_type": "code",
   "execution_count": 6,
   "id": "039687ac-c13a-4804-ad00-ec2fefddec3e",
   "metadata": {
    "tags": []
   },
   "outputs": [],
   "source": [
    "aa=nb.typed.List(aa)"
   ]
  },
  {
   "cell_type": "code",
   "execution_count": 7,
   "id": "b1a84ce0-3f0f-4c83-8008-938c172bce1b",
   "metadata": {
    "tags": []
   },
   "outputs": [
    {
     "data": {
      "text/plain": [
       "ListType[ListType[int64]]"
      ]
     },
     "execution_count": 7,
     "metadata": {},
     "output_type": "execute_result"
    }
   ],
   "source": [
    "nb.typeof(aa)"
   ]
  },
  {
   "cell_type": "code",
   "execution_count": 8,
   "id": "7083f68e-a992-417b-a15d-21668a45a0cd",
   "metadata": {
    "tags": []
   },
   "outputs": [
    {
     "data": {
      "text/plain": [
       "ListType[ListType[int64]]([[0, 1, 2, ...], [3, 4, ...], [5, ...], ...])"
      ]
     },
     "execution_count": 8,
     "metadata": {},
     "output_type": "execute_result"
    }
   ],
   "source": [
    "aa"
   ]
  },
  {
   "cell_type": "code",
   "execution_count": 10,
   "id": "92fb3d57-432e-4d92-9b3e-4cf72fbc4776",
   "metadata": {
    "tags": []
   },
   "outputs": [],
   "source": [
    "@nb.njit(nb.void(nb.types.ListType(nb.types.ListType(nb.int64))))\n",
    "def test(aa):\n",
    "    for ii in aa:\n",
    "        print(ii)\n",
    "    pass"
   ]
  },
  {
   "cell_type": "code",
   "execution_count": 11,
   "id": "306eaabe-2b29-4ebb-b355-2650972db2ce",
   "metadata": {
    "tags": []
   },
   "outputs": [
    {
     "name": "stdout",
     "output_type": "stream",
     "text": [
      "[0, 1, 2, ...]\n",
      "[3, 4, ...]\n",
      "[5, ...]\n"
     ]
    }
   ],
   "source": [
    "test(aa)"
   ]
  },
  {
   "cell_type": "code",
   "execution_count": null,
   "id": "a019bb6f-30bd-47fd-bc1f-60e74adf98f8",
   "metadata": {},
   "outputs": [],
   "source": []
  }
 ],
 "metadata": {
  "kernelspec": {
   "display_name": "Python 3 (ipykernel)",
   "language": "python",
   "name": "python3"
  },
  "language_info": {
   "codemirror_mode": {
    "name": "ipython",
    "version": 3
   },
   "file_extension": ".py",
   "mimetype": "text/x-python",
   "name": "python",
   "nbconvert_exporter": "python",
   "pygments_lexer": "ipython3",
   "version": "3.9.16"
  }
 },
 "nbformat": 4,
 "nbformat_minor": 5
}
