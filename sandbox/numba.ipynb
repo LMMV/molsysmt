{
 "cells": [
  {
   "cell_type": "code",
   "execution_count": 1,
   "id": "e9ec11a2-30f6-49e8-aa19-e8045d6339e9",
   "metadata": {},
   "outputs": [],
   "source": [
    "import numpy as np\n",
    "import numba as nb"
   ]
  },
  {
   "cell_type": "code",
   "execution_count": 69,
   "id": "96cc4c72-30e8-4d20-8691-69864363c9d8",
   "metadata": {},
   "outputs": [
    {
     "data": {
      "text/plain": [
       "'numba.core.types.containers'"
      ]
     },
     "execution_count": 69,
     "metadata": {},
     "output_type": "execute_result"
    }
   ],
   "source": [
    "nb.types.List.__module__"
   ]
  },
  {
   "cell_type": "code",
   "execution_count": 71,
   "id": "40004a94-9ae2-4f92-b6f8-482e9a0de625",
   "metadata": {},
   "outputs": [
    {
     "data": {
      "text/plain": [
       "numba.core.types.npytypes.Array"
      ]
     },
     "execution_count": 71,
     "metadata": {},
     "output_type": "execute_result"
    }
   ],
   "source": [
    "nb.float64[:].__class__"
   ]
  },
  {
   "cell_type": "code",
   "execution_count": 72,
   "id": "298bb5a2-1627-47b0-8fff-8c1746ed1014",
   "metadata": {},
   "outputs": [
    {
     "data": {
      "text/plain": [
       "'numba.core.types.npytypes'"
      ]
     },
     "execution_count": 72,
     "metadata": {},
     "output_type": "execute_result"
    }
   ],
   "source": [
    "nb.float64[:].__module__"
   ]
  },
  {
   "cell_type": "code",
   "execution_count": 74,
   "id": "1eb35a2b-f7af-4544-a177-1d431cacde02",
   "metadata": {},
   "outputs": [],
   "source": [
    "def make_numba_signature(arguments=None, output=None):\n",
    "    \n",
    "    aux_arguments=[]\n",
    "    aux_output=[]\n",
    "    \n",
    "    if isinstance(arguments, (list,tuple)):\n",
    "        optional_argument=False\n",
    "        if None in arguments:\n",
    "            _ = arguments.drop(None)\n",
    "            optional_argument=True\n",
    "        for argument in arguments:\n",
    "            if str(type(argument)).startswith('numba.core.types'):\n",
    "                if optional_argument:\n",
    "                    argument=nb.optional(argument)\n",
    "            else:\n",
    "                argument=nb.types.Omitted(argument)\n",
    "            aux_arguments.append(argument)\n",
    "                \n",
    "    return aux_arguments\n",
    "    #return output(arguments)"
   ]
  },
  {
   "cell_type": "code",
   "execution_count": 75,
   "id": "f794ef2f-9598-440d-b4a0-6f35cc30f876",
   "metadata": {},
   "outputs": [
    {
     "data": {
      "text/plain": [
       "[omitted(default=array(float64, 1d, A)), omitted(default='all')]"
      ]
     },
     "execution_count": 75,
     "metadata": {},
     "output_type": "execute_result"
    }
   ],
   "source": [
    "make_numba_signature(arguments=[nb.float64[:], 'all'])"
   ]
  },
  {
   "cell_type": "code",
   "execution_count": 42,
   "id": "3adcda64-6342-41da-a81a-b86cc47284d6",
   "metadata": {},
   "outputs": [],
   "source": [
    "@nb.njit([nb.float64(\n",
    "                     nb.float64[:],\n",
    "                     nb.float64[:],\n",
    "                     nb.types.Omitted('all'),\n",
    "                     nb.types.Omitted('all'),\n",
    "                    ),\n",
    "          nb.float64(\n",
    "                     nb.float64[:],\n",
    "                     nb.float64[:],\n",
    "                     nb.optional(nb.int64),\n",
    "                     nb.optional(nb.int64),\n",
    "                    ),\n",
    "          nb.float64(\n",
    "                     nb.float64[:],\n",
    "                     nb.float64[:],\n",
    "                     nb.types.unicode_type,\n",
    "                     nb.types.unicode_type,\n",
    "                    ),\n",
    "         ])\n",
    "def ddd(point1, point2, atom_indices='all', structure_indices='all'):\n",
    "\n",
    "    print(atom_indices)\n",
    "    print(structure_indices)\n",
    "\n",
    "    vect_aux=point1-point2\n",
    "\n",
    "    return 2.0"
   ]
  },
  {
   "cell_type": "code",
   "execution_count": 43,
   "id": "cc5d3215-9155-4a32-8e2f-dd172110cad7",
   "metadata": {},
   "outputs": [
    {
     "name": "stdout",
     "output_type": "stream",
     "text": [
      "None\n",
      "None\n"
     ]
    },
    {
     "data": {
      "text/plain": [
       "2.0"
      ]
     },
     "execution_count": 43,
     "metadata": {},
     "output_type": "execute_result"
    }
   ],
   "source": [
    "ddd(np.zeros((3)), np.zeros((3)), structure_indices=None, atom_indices=None)"
   ]
  },
  {
   "cell_type": "code",
   "execution_count": null,
   "id": "2514ed99-c0d9-451c-bdb0-09d648a73b56",
   "metadata": {},
   "outputs": [],
   "source": []
  }
 ],
 "metadata": {
  "kernelspec": {
   "display_name": "Python 3 (ipykernel)",
   "language": "python",
   "name": "python3"
  },
  "language_info": {
   "codemirror_mode": {
    "name": "ipython",
    "version": 3
   },
   "file_extension": ".py",
   "mimetype": "text/x-python",
   "name": "python",
   "nbconvert_exporter": "python",
   "pygments_lexer": "ipython3",
   "version": "3.9.15"
  }
 },
 "nbformat": 4,
 "nbformat_minor": 5
}
