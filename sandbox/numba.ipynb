{
 "cells": [
  {
   "cell_type": "code",
   "execution_count": 155,
   "id": "e9ec11a2-30f6-49e8-aa19-e8045d6339e9",
   "metadata": {},
   "outputs": [],
   "source": [
    "import numba as nb"
   ]
  },
  {
   "cell_type": "code",
   "execution_count": 156,
   "id": "53968227-c8a1-4c15-bdcc-97872e91b6c2",
   "metadata": {},
   "outputs": [],
   "source": [
    "import numpy as np"
   ]
  },
  {
   "cell_type": "code",
   "execution_count": 158,
   "id": "3adcda64-6342-41da-a81a-b86cc47284d6",
   "metadata": {},
   "outputs": [],
   "source": [
    "@nb.njit([nb.float64(\n",
    "                     nb.float64[:],\n",
    "                     nb.float64[:],\n",
    "                     nb.optional(nb.float64[:,:]),\n",
    "                     nb.optional(nb.float64[:,:]),\n",
    "                     nb.optional(nb.boolean),\n",
    "                     nb.types.Omitted(True),\n",
    "                    ),\n",
    "          nb.float64(\n",
    "                     nb.float64[:],\n",
    "                     nb.float64[:],\n",
    "                     nb.optional(nb.float64[:,:]),\n",
    "                     nb.optional(nb.float64[:,:]),\n",
    "                     nb.optional(nb.boolean),\n",
    "                     nb.boolean,\n",
    "                    )\n",
    "         ])\n",
    "def distance_2_points(point1, point2, box, inv, ortho, pbc=True):\n",
    "\n",
    "    if box is None:\n",
    "        pbc=False\n",
    "\n",
    "    vect_aux=point1-point2\n",
    "\n",
    "    print(pbc)\n",
    "    return 2.0"
   ]
  },
  {
   "cell_type": "code",
   "execution_count": null,
   "id": "4fc8795a-a37e-4cea-90be-5424ae6e0acf",
   "metadata": {},
   "outputs": [],
   "source": [
    "distance_2_points(np.array())"
   ]
  },
  {
   "cell_type": "code",
   "execution_count": 145,
   "id": "4e80bb77-a3f7-42d4-82d8-5dc73f6c7cfb",
   "metadata": {},
   "outputs": [],
   "source": [
    "@nb.njit([nb.int64(nb.float64, nb.float64, nb.optional(nb.float64),nb.optional(nb.float64),nb.optional(nb.boolean), nb.types.Omitted(False)),\n",
    "         nb.int64(nb.float64, nb.float64, nb.optional(nb.float64),nb.optional(nb.float64),nb.optional(nb.boolean), nb.boolean)])\n",
    "def test(point1, point2, box, inv, ortho, pbc=False):\n",
    "    print(point1)\n",
    "    print(point2)\n",
    "    print(box)\n",
    "    print(inv)\n",
    "    print(ortho)\n",
    "    print(pbc)\n",
    "    return 1"
   ]
  },
  {
   "cell_type": "code",
   "execution_count": 151,
   "id": "7bf1cb4e-f854-4633-a9ce-ea341f6056d1",
   "metadata": {},
   "outputs": [
    {
     "name": "stdout",
     "output_type": "stream",
     "text": [
      "1.0\n",
      "2.0\n",
      "3.0\n",
      "4.0\n",
      "None\n",
      "True\n"
     ]
    },
    {
     "data": {
      "text/plain": [
       "1"
      ]
     },
     "execution_count": 151,
     "metadata": {},
     "output_type": "execute_result"
    }
   ],
   "source": [
    "test(1.0, 2.0, 3.0, 4.0,ortho=None, pbc=True)"
   ]
  },
  {
   "cell_type": "code",
   "execution_count": 138,
   "id": "4ccde9b6-e199-4e86-b012-ac063e8accf1",
   "metadata": {},
   "outputs": [],
   "source": [
    "@nb.njit([(nb.int64, nb.types.Omitted(False)),\n",
    "         (nb.int64, nb.boolean)])\n",
    "def foo(a, b=False):\n",
    "    if b is None:\n",
    "        return 0\n",
    "    else:\n",
    "        return a+b"
   ]
  },
  {
   "cell_type": "code",
   "execution_count": 139,
   "id": "e716582a-85f9-434e-a91e-374401fa1bd3",
   "metadata": {},
   "outputs": [
    {
     "name": "stdout",
     "output_type": "stream",
     "text": [
      "1\n",
      "[(int64, omitted(default=False)), (int64, bool)]\n"
     ]
    }
   ],
   "source": [
    "print(foo(1))\n",
    "print(foo.signatures)"
   ]
  },
  {
   "cell_type": "code",
   "execution_count": 131,
   "id": "9dc6562e-b86c-4310-ae84-f31a7fa7ada0",
   "metadata": {},
   "outputs": [
    {
     "name": "stdout",
     "output_type": "stream",
     "text": [
      "10\n",
      "[(int64, omitted(default=False)), (int64, bool)]\n"
     ]
    }
   ],
   "source": [
    "print(foo(1,True))\n",
    "print(foo.signatures)"
   ]
  },
  {
   "cell_type": "code",
   "execution_count": 109,
   "id": "12f1a492-f6a1-46f9-ab09-054c689119a4",
   "metadata": {},
   "outputs": [
    {
     "ename": "TypeError",
     "evalue": "invalid type in signature: expected a type instance, got <class 'numba.core.types.misc.Omitted'>",
     "output_type": "error",
     "traceback": [
      "\u001b[0;31m---------------------------------------------------------------------------\u001b[0m",
      "\u001b[0;31mTypeError\u001b[0m                                 Traceback (most recent call last)",
      "Cell \u001b[0;32mIn[109], line 3\u001b[0m\n\u001b[1;32m      1\u001b[0m \u001b[38;5;129;43m@nb\u001b[39;49m\u001b[38;5;241;43m.\u001b[39;49m\u001b[43mnjit\u001b[49m\u001b[43m(\u001b[49m\u001b[43m[\u001b[49m\u001b[43mnb\u001b[49m\u001b[38;5;241;43m.\u001b[39;49m\u001b[43mfloat64\u001b[49m\u001b[43m(\u001b[49m\u001b[43mnb\u001b[49m\u001b[38;5;241;43m.\u001b[39;49m\u001b[43mfloat64\u001b[49m\u001b[43m,\u001b[49m\u001b[43m \u001b[49m\u001b[43mnb\u001b[49m\u001b[38;5;241;43m.\u001b[39;49m\u001b[43mfloat64\u001b[49m\u001b[43m,\u001b[49m\u001b[43m \u001b[49m\u001b[43mnb\u001b[49m\u001b[38;5;241;43m.\u001b[39;49m\u001b[43mboolean\u001b[49m\u001b[43m)\u001b[49m\u001b[43m,\u001b[49m\n\u001b[1;32m      2\u001b[0m \u001b[43m         \u001b[49m\u001b[43mnb\u001b[49m\u001b[38;5;241;43m.\u001b[39;49m\u001b[43mfloat64\u001b[49m\u001b[43m(\u001b[49m\u001b[43mnb\u001b[49m\u001b[38;5;241;43m.\u001b[39;49m\u001b[43mfloat64\u001b[49m\u001b[43m,\u001b[49m\u001b[43m \u001b[49m\u001b[43mnb\u001b[49m\u001b[38;5;241;43m.\u001b[39;49m\u001b[43mfloat64\u001b[49m\u001b[43m,\u001b[49m\u001b[43m \u001b[49m\u001b[43mnb\u001b[49m\u001b[38;5;241;43m.\u001b[39;49m\u001b[43mtypes\u001b[49m\u001b[38;5;241;43m.\u001b[39;49m\u001b[43mOmitted\u001b[49m\u001b[43m)\u001b[49m\u001b[43m]\u001b[49m\u001b[43m)\u001b[49m\n\u001b[0;32m----> 3\u001b[0m \u001b[38;5;28;43;01mdef\u001b[39;49;00m\u001b[43m \u001b[49m\u001b[38;5;21;43mdistance_2_points\u001b[39;49m\u001b[43m(\u001b[49m\u001b[43mpoint1\u001b[49m\u001b[43m,\u001b[49m\u001b[43m \u001b[49m\u001b[43mpoint2\u001b[49m\u001b[43m,\u001b[49m\u001b[43m \u001b[49m\u001b[43mbox\u001b[49m\u001b[38;5;241;43m=\u001b[39;49m\u001b[38;5;28;43;01mFalse\u001b[39;49;00m\u001b[43m)\u001b[49m\u001b[43m:\u001b[49m\n\u001b[1;32m      5\u001b[0m \u001b[43m    \u001b[49m\u001b[43mvect_aux\u001b[49m\u001b[38;5;241;43m=\u001b[39;49m\u001b[43mpoint1\u001b[49m\u001b[38;5;241;43m-\u001b[39;49m\u001b[43mpoint2\u001b[49m\n\u001b[1;32m      6\u001b[0m \u001b[43m    \u001b[49m\u001b[38;5;28;43;01mif\u001b[39;49;00m\u001b[43m \u001b[49m\u001b[43mbox\u001b[49m\u001b[43m:\u001b[49m\n",
      "File \u001b[0;32m~/Myopt/miniconda3/envs/MolSysMT@dprada_3.9/lib/python3.9/site-packages/numba/core/decorators.py:219\u001b[0m, in \u001b[0;36m_jit.<locals>.wrapper\u001b[0;34m(func)\u001b[0m\n\u001b[1;32m    217\u001b[0m     \u001b[38;5;28;01mwith\u001b[39;00m typeinfer\u001b[38;5;241m.\u001b[39mregister_dispatcher(disp):\n\u001b[1;32m    218\u001b[0m         \u001b[38;5;28;01mfor\u001b[39;00m sig \u001b[38;5;129;01min\u001b[39;00m sigs:\n\u001b[0;32m--> 219\u001b[0m             \u001b[43mdisp\u001b[49m\u001b[38;5;241;43m.\u001b[39;49m\u001b[43mcompile\u001b[49m\u001b[43m(\u001b[49m\u001b[43msig\u001b[49m\u001b[43m)\u001b[49m\n\u001b[1;32m    220\u001b[0m         disp\u001b[38;5;241m.\u001b[39mdisable_compile()\n\u001b[1;32m    221\u001b[0m \u001b[38;5;28;01mreturn\u001b[39;00m disp\n",
      "File \u001b[0;32m~/Myopt/miniconda3/envs/MolSysMT@dprada_3.9/lib/python3.9/site-packages/numba/core/dispatcher.py:940\u001b[0m, in \u001b[0;36mDispatcher.compile\u001b[0;34m(self, sig)\u001b[0m\n\u001b[1;32m    938\u001b[0m \u001b[38;5;66;03m# Use counter to track recursion compilation depth\u001b[39;00m\n\u001b[1;32m    939\u001b[0m \u001b[38;5;28;01mwith\u001b[39;00m \u001b[38;5;28mself\u001b[39m\u001b[38;5;241m.\u001b[39m_compiling_counter:\n\u001b[0;32m--> 940\u001b[0m     args, return_type \u001b[38;5;241m=\u001b[39m \u001b[43msigutils\u001b[49m\u001b[38;5;241;43m.\u001b[39;49m\u001b[43mnormalize_signature\u001b[49m\u001b[43m(\u001b[49m\u001b[43msig\u001b[49m\u001b[43m)\u001b[49m\n\u001b[1;32m    941\u001b[0m     \u001b[38;5;66;03m# Don't recompile if signature already exists\u001b[39;00m\n\u001b[1;32m    942\u001b[0m     existing \u001b[38;5;241m=\u001b[39m \u001b[38;5;28mself\u001b[39m\u001b[38;5;241m.\u001b[39moverloads\u001b[38;5;241m.\u001b[39mget(\u001b[38;5;28mtuple\u001b[39m(args))\n",
      "File \u001b[0;32m~/Myopt/miniconda3/envs/MolSysMT@dprada_3.9/lib/python3.9/site-packages/numba/core/sigutils.py:51\u001b[0m, in \u001b[0;36mnormalize_signature\u001b[0;34m(sig)\u001b[0m\n\u001b[1;32m     49\u001b[0m     check_type(return_type)\n\u001b[1;32m     50\u001b[0m \u001b[38;5;28;01mfor\u001b[39;00m ty \u001b[38;5;129;01min\u001b[39;00m args:\n\u001b[0;32m---> 51\u001b[0m     \u001b[43mcheck_type\u001b[49m\u001b[43m(\u001b[49m\u001b[43mty\u001b[49m\u001b[43m)\u001b[49m\n\u001b[1;32m     53\u001b[0m \u001b[38;5;28;01mreturn\u001b[39;00m args, return_type\n",
      "File \u001b[0;32m~/Myopt/miniconda3/envs/MolSysMT@dprada_3.9/lib/python3.9/site-packages/numba/core/sigutils.py:45\u001b[0m, in \u001b[0;36mnormalize_signature.<locals>.check_type\u001b[0;34m(ty)\u001b[0m\n\u001b[1;32m     43\u001b[0m \u001b[38;5;28;01mdef\u001b[39;00m \u001b[38;5;21mcheck_type\u001b[39m(ty):\n\u001b[1;32m     44\u001b[0m     \u001b[38;5;28;01mif\u001b[39;00m \u001b[38;5;129;01mnot\u001b[39;00m \u001b[38;5;28misinstance\u001b[39m(ty, types\u001b[38;5;241m.\u001b[39mType):\n\u001b[0;32m---> 45\u001b[0m         \u001b[38;5;28;01mraise\u001b[39;00m \u001b[38;5;167;01mTypeError\u001b[39;00m(\u001b[38;5;124m\"\u001b[39m\u001b[38;5;124minvalid type in signature: expected a type \u001b[39m\u001b[38;5;124m\"\u001b[39m\n\u001b[1;32m     46\u001b[0m                         \u001b[38;5;124m\"\u001b[39m\u001b[38;5;124minstance, got \u001b[39m\u001b[38;5;132;01m%r\u001b[39;00m\u001b[38;5;124m\"\u001b[39m \u001b[38;5;241m%\u001b[39m (ty,))\n",
      "\u001b[0;31mTypeError\u001b[0m: invalid type in signature: expected a type instance, got <class 'numba.core.types.misc.Omitted'>"
     ]
    }
   ],
   "source": [
    "@nb.njit([nb.float64(nb.float64, nb.float64, nb.boolean),\n",
    "         nb.float64(nb.float64, nb.float64, nb.types.Omitted)])\n",
    "def distance_2_points(point1, point2, box=False):\n",
    "\n",
    "    vect_aux=point1-point2\n",
    "    if box:\n",
    "        dist=0.0\n",
    "    else:\n",
    "        dist=1.0\n",
    "        \n",
    "    return dist"
   ]
  },
  {
   "cell_type": "code",
   "execution_count": 96,
   "id": "7fb0ca89-92e2-4ab9-8975-36f669f4837c",
   "metadata": {},
   "outputs": [
    {
     "data": {
      "text/plain": [
       "1.0"
      ]
     },
     "execution_count": 96,
     "metadata": {},
     "output_type": "execute_result"
    }
   ],
   "source": [
    "distance_2_points(4.0, 3.0, False)"
   ]
  },
  {
   "cell_type": "code",
   "execution_count": 63,
   "id": "540d90c1-0723-46fb-816f-9865d1b3eeec",
   "metadata": {},
   "outputs": [],
   "source": [
    "@nb.jit(nb.float64(nb.float64[:], nb.float64[:], nb.optional(nb.float64[:,:])))\n",
    "def distance_2_points(point1, point2, box):\n",
    "\n",
    "    vect_aux=point1-point2\n",
    "    if box is None:\n",
    "        dist=0.0\n",
    "    else:\n",
    "        dist=1.0\n",
    "        \n",
    "    return dist"
   ]
  },
  {
   "cell_type": "code",
   "execution_count": 60,
   "id": "b65ee867-4a23-4cdb-ae1a-c4a6d7ebab84",
   "metadata": {},
   "outputs": [],
   "source": [
    "@nb.njit(nb.float64(nb.float64[:],nb.float64[:],nb.optional(nb.float64[:,:])))\n",
    "def f(a,b,x):\n",
    "    if x is None:\n",
    "        d=0.0\n",
    "    else:\n",
    "        d=1.0\n",
    "    return d"
   ]
  },
  {
   "cell_type": "code",
   "execution_count": 62,
   "id": "2bd7a07e-2a2f-42f6-831a-dec8c386e9a7",
   "metadata": {},
   "outputs": [
    {
     "data": {
      "text/plain": [
       "0.0"
      ]
     },
     "execution_count": 62,
     "metadata": {},
     "output_type": "execute_result"
    }
   ],
   "source": [
    "f(np.zeros((3)),np.zeros((3)),None)"
   ]
  },
  {
   "cell_type": "code",
   "execution_count": 164,
   "id": "49e42994-a6db-4108-aa83-3cb4f35caad1",
   "metadata": {},
   "outputs": [],
   "source": [
    "aa=np.zeros((3,4,5,))"
   ]
  },
  {
   "cell_type": "code",
   "execution_count": 165,
   "id": "e0ac4a91-abf1-44b8-92c7-8b5dbc999abc",
   "metadata": {},
   "outputs": [
    {
     "data": {
      "text/plain": [
       "(3, 4)"
      ]
     },
     "execution_count": 165,
     "metadata": {},
     "output_type": "execute_result"
    }
   ],
   "source": [
    "aa.shape[:-1]"
   ]
  },
  {
   "cell_type": "code",
   "execution_count": null,
   "id": "cc5d3215-9155-4a32-8e2f-dd172110cad7",
   "metadata": {},
   "outputs": [],
   "source": []
  }
 ],
 "metadata": {
  "kernelspec": {
   "display_name": "Python 3 (ipykernel)",
   "language": "python",
   "name": "python3"
  },
  "language_info": {
   "codemirror_mode": {
    "name": "ipython",
    "version": 3
   },
   "file_extension": ".py",
   "mimetype": "text/x-python",
   "name": "python",
   "nbconvert_exporter": "python",
   "pygments_lexer": "ipython3",
   "version": "3.9.15"
  }
 },
 "nbformat": 4,
 "nbformat_minor": 5
}
