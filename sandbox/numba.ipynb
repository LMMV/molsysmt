{
 "cells": [
  {
   "cell_type": "code",
   "execution_count": 1,
   "id": "4d057677-4098-4013-b203-1354d411a9d4",
   "metadata": {
    "tags": []
   },
   "outputs": [
    {
     "data": {
      "application/vnd.jupyter.widget-view+json": {
       "model_id": "c5068c7bf2a9487a8eb0ef7f1dead34c",
       "version_major": 2,
       "version_minor": 0
      },
      "text/plain": []
     },
     "metadata": {},
     "output_type": "display_data"
    }
   ],
   "source": [
    "import molsysmt as msm"
   ]
  },
  {
   "cell_type": "code",
   "execution_count": null,
   "id": "e243fc93-ed82-4759-ac34-d8872d24f7bf",
   "metadata": {},
   "outputs": [],
   "source": [
    "import numpy as np"
   ]
  },
  {
   "cell_type": "code",
   "execution_count": null,
   "id": "1b8cb882-fa59-4525-88bf-c23d4c0a652d",
   "metadata": {},
   "outputs": [],
   "source": [
    "aa = np.zeros((3,3))"
   ]
  },
  {
   "cell_type": "code",
   "execution_count": null,
   "id": "70dae5c6-0e4b-4e83-8552-663eb60c7502",
   "metadata": {},
   "outputs": [],
   "source": [
    "aa.shape"
   ]
  },
  {
   "cell_type": "code",
   "execution_count": null,
   "id": "b9d49e91-5ec5-44a2-b7f1-e1d96eac30cd",
   "metadata": {},
   "outputs": [],
   "source": [
    "bb = aa[np.newaxis,:]"
   ]
  },
  {
   "cell_type": "code",
   "execution_count": null,
   "id": "7734102d-ff26-401d-b741-e5ed38d2d1a0",
   "metadata": {},
   "outputs": [],
   "source": [
    "bb.shape"
   ]
  },
  {
   "cell_type": "code",
   "execution_count": null,
   "id": "95d903be-aceb-4fd2-89a5-8a80d60c84e2",
   "metadata": {},
   "outputs": [],
   "source": [
    "bb = np.expand_dims(aa, 0)"
   ]
  },
  {
   "cell_type": "code",
   "execution_count": null,
   "id": "9b2f248e-a9b5-4c37-83b4-b683fd38b5fe",
   "metadata": {},
   "outputs": [],
   "source": [
    "bb.shape"
   ]
  },
  {
   "cell_type": "code",
   "execution_count": null,
   "id": "f46f4d4a-3952-4ef5-91c3-8797ccaa922c",
   "metadata": {},
   "outputs": [],
   "source": []
  }
 ],
 "metadata": {
  "kernelspec": {
   "display_name": "Python 3 (ipykernel)",
   "language": "python",
   "name": "python3"
  },
  "language_info": {
   "codemirror_mode": {
    "name": "ipython",
    "version": 3
   },
   "file_extension": ".py",
   "mimetype": "text/x-python",
   "name": "python",
   "nbconvert_exporter": "python",
   "pygments_lexer": "ipython3",
   "version": "3.10.11"
  }
 },
 "nbformat": 4,
 "nbformat_minor": 5
}
