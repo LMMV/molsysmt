{
 "cells": [
  {
   "cell_type": "code",
   "execution_count": 1,
   "id": "4d057677-4098-4013-b203-1354d411a9d4",
   "metadata": {},
   "outputs": [
    {
     "ename": "ImportError",
     "evalue": "cannot import name '__version__' from 'pyunitwizard._version' (/home/diego/projects@dprada/PyUnitWizard/pyunitwizard/_version.py)",
     "output_type": "error",
     "traceback": [
      "\u001b[0;31m---------------------------------------------------------------------------\u001b[0m",
      "\u001b[0;31mImportError\u001b[0m                               Traceback (most recent call last)",
      "Cell \u001b[0;32mIn[1], line 1\u001b[0m\n\u001b[0;32m----> 1\u001b[0m \u001b[38;5;28;01mimport\u001b[39;00m \u001b[38;5;21;01mmolsysmt\u001b[39;00m \u001b[38;5;28;01mas\u001b[39;00m \u001b[38;5;21;01mmsm\u001b[39;00m\n",
      "File \u001b[0;32m~/projects@dprada/MolSysMT/molsysmt/__init__.py:15\u001b[0m\n\u001b[1;32m      9\u001b[0m \u001b[38;5;66;03m#__documentation_web__ = 'https://www.uibcdf.org/MolSysMT'\u001b[39;00m\n\u001b[1;32m     10\u001b[0m \u001b[38;5;66;03m#__github_web__ = 'https://github.com/uibcdf/MolSysMT'\u001b[39;00m\n\u001b[1;32m     11\u001b[0m \u001b[38;5;66;03m#__github_issues_web__ = __github_web__ + '/issues'\u001b[39;00m\n\u001b[1;32m     13\u001b[0m \u001b[38;5;28;01mfrom\u001b[39;00m \u001b[38;5;21;01m.\u001b[39;00m \u001b[38;5;28;01mimport\u001b[39;00m config\n\u001b[0;32m---> 15\u001b[0m \u001b[38;5;28;01mfrom\u001b[39;00m \u001b[38;5;21;01m.\u001b[39;00m\u001b[38;5;21;01m_pyunitwizard\u001b[39;00m \u001b[38;5;28;01mimport\u001b[39;00m puw \u001b[38;5;28;01mas\u001b[39;00m pyunitwizard\n\u001b[1;32m     17\u001b[0m \u001b[38;5;28;01mfrom\u001b[39;00m \u001b[38;5;21;01m.\u001b[39;00m \u001b[38;5;28;01mimport\u001b[39;00m file\n\u001b[1;32m     19\u001b[0m \u001b[38;5;28;01mfrom\u001b[39;00m \u001b[38;5;21;01m.\u001b[39;00m\u001b[38;5;21;01mbasic\u001b[39;00m \u001b[38;5;28;01mimport\u001b[39;00m \u001b[38;5;241m*\u001b[39m\n",
      "File \u001b[0;32m~/projects@dprada/MolSysMT/molsysmt/_pyunitwizard.py:3\u001b[0m\n\u001b[1;32m      1\u001b[0m \u001b[38;5;66;03m# Configure PyUnitWizard\u001b[39;00m\n\u001b[0;32m----> 3\u001b[0m \u001b[38;5;28;01mimport\u001b[39;00m \u001b[38;5;21;01mpyunitwizard\u001b[39;00m \u001b[38;5;28;01mas\u001b[39;00m \u001b[38;5;21;01mpuw\u001b[39;00m\n\u001b[1;32m      5\u001b[0m puw\u001b[38;5;241m.\u001b[39mconfigure\u001b[38;5;241m.\u001b[39mset_default_form(\u001b[38;5;124m'\u001b[39m\u001b[38;5;124mpint\u001b[39m\u001b[38;5;124m'\u001b[39m)\n\u001b[1;32m      6\u001b[0m puw\u001b[38;5;241m.\u001b[39mconfigure\u001b[38;5;241m.\u001b[39mset_default_parser(\u001b[38;5;124m'\u001b[39m\u001b[38;5;124mpint\u001b[39m\u001b[38;5;124m'\u001b[39m)\n",
      "File \u001b[0;32m~/projects@dprada/PyUnitWizard/pyunitwizard/__init__.py:7\u001b[0m\n\u001b[1;32m      1\u001b[0m \u001b[38;5;124;03m\"\"\"\u001b[39;00m\n\u001b[1;32m      2\u001b[0m \u001b[38;5;124;03mPyUnitWizard\u001b[39;00m\n\u001b[1;32m      3\u001b[0m \u001b[38;5;124;03mQuantities and units assistant\u001b[39;00m\n\u001b[1;32m      4\u001b[0m \u001b[38;5;124;03m\"\"\"\u001b[39;00m\n\u001b[1;32m      6\u001b[0m \u001b[38;5;66;03m# versioningit\u001b[39;00m\n\u001b[0;32m----> 7\u001b[0m \u001b[38;5;28;01mfrom\u001b[39;00m \u001b[38;5;21;01m.\u001b[39;00m\u001b[38;5;21;01m_version\u001b[39;00m \u001b[38;5;28;01mimport\u001b[39;00m __version__\n\u001b[1;32m      9\u001b[0m \u001b[38;5;66;03m# Add imports here\u001b[39;00m\n\u001b[1;32m     10\u001b[0m \u001b[38;5;28;01mfrom\u001b[39;00m \u001b[38;5;21;01m.\u001b[39;00m\u001b[38;5;21;01mmain\u001b[39;00m \u001b[38;5;28;01mimport\u001b[39;00m unit, quantity, get_form, is_quantity, is_unit\n",
      "\u001b[0;31mImportError\u001b[0m: cannot import name '__version__' from 'pyunitwizard._version' (/home/diego/projects@dprada/PyUnitWizard/pyunitwizard/_version.py)"
     ]
    }
   ],
   "source": [
    "import molsysmt as msm"
   ]
  },
  {
   "cell_type": "code",
   "execution_count": null,
   "id": "04ae5768-2cff-41b4-a0f1-dbce793ec848",
   "metadata": {},
   "outputs": [],
   "source": []
  }
 ],
 "metadata": {
  "kernelspec": {
   "display_name": "Python 3 (ipykernel)",
   "language": "python",
   "name": "python3"
  },
  "language_info": {
   "codemirror_mode": {
    "name": "ipython",
    "version": 3
   },
   "file_extension": ".py",
   "mimetype": "text/x-python",
   "name": "python",
   "nbconvert_exporter": "python",
   "pygments_lexer": "ipython3",
   "version": "3.9.15"
  }
 },
 "nbformat": 4,
 "nbformat_minor": 5
}
