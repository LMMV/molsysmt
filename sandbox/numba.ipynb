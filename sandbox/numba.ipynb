{
 "cells": [
  {
   "cell_type": "code",
   "execution_count": 1,
   "id": "4d057677-4098-4013-b203-1354d411a9d4",
   "metadata": {
    "tags": []
   },
   "outputs": [
    {
     "data": {
      "application/vnd.jupyter.widget-view+json": {
       "model_id": "68996773c47d49fb8274135b8d15089a",
       "version_major": 2,
       "version_minor": 0
      },
      "text/plain": []
     },
     "metadata": {},
     "output_type": "display_data"
    }
   ],
   "source": [
    "import molsysmt as msm"
   ]
  },
  {
   "cell_type": "code",
   "execution_count": 2,
   "id": "f46f4d4a-3952-4ef5-91c3-8797ccaa922c",
   "metadata": {},
   "outputs": [],
   "source": [
    "molsys = msm.demo['pentalanine']['traj.h5']"
   ]
  },
  {
   "cell_type": "code",
   "execution_count": 3,
   "id": "f733e557-2b42-4bdc-b643-bf77c432649b",
   "metadata": {},
   "outputs": [
    {
     "data": {
      "text/plain": [
       "'/home/diego/projects@dprada/MolSysMT/molsysmt/demo/pentalanine/traj.h5'"
      ]
     },
     "execution_count": 3,
     "metadata": {},
     "output_type": "execute_result"
    }
   ],
   "source": [
    "molsys"
   ]
  },
  {
   "cell_type": "code",
   "execution_count": 4,
   "id": "13b6e3f9-6333-42f3-9e19-2c05e4b17622",
   "metadata": {},
   "outputs": [
    {
     "ename": "ArgumentError",
     "evalue": "Error in molsysmt.basic.convert.convert due to the molecular_system argument with value /home/diego/projects@dprada/MolSysMT/molsysmt/demo/pentalanine/traj.h5.Check  for more information. If you still need help, open a new issue in https://github.com/uibcdf/MolSysMT/issues.",
     "output_type": "error",
     "traceback": [
      "\u001b[0;31m---------------------------------------------------------------------------\u001b[0m",
      "\u001b[0;31mArgumentError\u001b[0m                             Traceback (most recent call last)",
      "Cell \u001b[0;32mIn[4], line 1\u001b[0m\n\u001b[0;32m----> 1\u001b[0m molsys \u001b[38;5;241m=\u001b[39m \u001b[43mmsm\u001b[49m\u001b[38;5;241;43m.\u001b[39;49m\u001b[43mconvert\u001b[49m\u001b[43m(\u001b[49m\u001b[43mmolsys\u001b[49m\u001b[43m,\u001b[49m\u001b[43m \u001b[49m\u001b[43mto_form\u001b[49m\u001b[38;5;241;43m=\u001b[39;49m\u001b[38;5;124;43m'\u001b[39;49m\u001b[38;5;124;43mmolsysmt.MolSys\u001b[39;49m\u001b[38;5;124;43m'\u001b[39;49m\u001b[43m)\u001b[49m\n",
      "File \u001b[0;32m~/projects@dprada/MolSysMT/molsysmt/_private/digestion/digest.py:105\u001b[0m, in \u001b[0;36mdigest.<locals>.digestor.<locals>.wrapper\u001b[0;34m(*args, **kwargs)\u001b[0m\n\u001b[1;32m    102\u001b[0m     \u001b[38;5;28;01mpass\u001b[39;00m\n\u001b[1;32m    104\u001b[0m \u001b[38;5;28;01mfor\u001b[39;00m arg_name \u001b[38;5;129;01min\u001b[39;00m all_args:\n\u001b[0;32m--> 105\u001b[0m     \u001b[43mgut\u001b[49m\u001b[43m(\u001b[49m\u001b[43marg_name\u001b[49m\u001b[43m)\u001b[49m\n\u001b[1;32m    107\u001b[0m \u001b[38;5;28;01mfor\u001b[39;00m arg_name \u001b[38;5;129;01min\u001b[39;00m not_digested_args:\n\u001b[1;32m    108\u001b[0m     \u001b[38;5;28;01mif\u001b[39;00m arg_name \u001b[38;5;129;01mnot\u001b[39;00m \u001b[38;5;129;01min\u001b[39;00m [\u001b[38;5;124m'\u001b[39m\u001b[38;5;124mself\u001b[39m\u001b[38;5;124m'\u001b[39m]:\n",
      "File \u001b[0;32m~/projects@dprada/MolSysMT/molsysmt/_private/digestion/digest.py:97\u001b[0m, in \u001b[0;36mdigest.<locals>.digestor.<locals>.wrapper.<locals>.gut\u001b[0;34m(arg_name)\u001b[0m\n\u001b[1;32m     95\u001b[0m         \u001b[38;5;28;01melse\u001b[39;00m:\n\u001b[1;32m     96\u001b[0m             parameters_dict[parameter] \u001b[38;5;241m=\u001b[39m \u001b[38;5;28;01mNone\u001b[39;00m\n\u001b[0;32m---> 97\u001b[0m     digested_args[arg_name] \u001b[38;5;241m=\u001b[39m \u001b[43mdigestion_functions\u001b[49m\u001b[43m[\u001b[49m\u001b[43marg_name\u001b[49m\u001b[43m]\u001b[49m\u001b[43m(\u001b[49m\u001b[43mall_args\u001b[49m\u001b[43m[\u001b[49m\u001b[43marg_name\u001b[49m\u001b[43m]\u001b[49m\u001b[43m,\u001b[49m\n\u001b[1;32m     98\u001b[0m \u001b[43m                                                  \u001b[49m\u001b[43mcaller\u001b[49m\u001b[38;5;241;43m=\u001b[39;49m\u001b[43mcaller\u001b[49m\u001b[43m,\u001b[49m\n\u001b[1;32m     99\u001b[0m \u001b[43m                                                  \u001b[49m\u001b[38;5;241;43m*\u001b[39;49m\u001b[38;5;241;43m*\u001b[39;49m\u001b[43mparameters_dict\u001b[49m\u001b[43m)\u001b[49m\n\u001b[1;32m    100\u001b[0m \u001b[38;5;28;01melse\u001b[39;00m:\n\u001b[1;32m    101\u001b[0m     not_digested_args[arg_name] \u001b[38;5;241m=\u001b[39m all_args[arg_name]\n",
      "File \u001b[0;32m~/projects@dprada/MolSysMT/molsysmt/_private/digestion/argument/molecular_system.py:34\u001b[0m, in \u001b[0;36mdigest_molecular_system\u001b[0;34m(molecular_system, caller)\u001b[0m\n\u001b[1;32m     31\u001b[0m \u001b[38;5;28;01mif\u001b[39;00m is_a_molecular_system(molecular_system):\n\u001b[1;32m     32\u001b[0m     \u001b[38;5;28;01mreturn\u001b[39;00m molecular_system\n\u001b[0;32m---> 34\u001b[0m \u001b[38;5;28;01mraise\u001b[39;00m ArgumentError(\u001b[38;5;124m'\u001b[39m\u001b[38;5;124mmolecular_system\u001b[39m\u001b[38;5;124m'\u001b[39m, value\u001b[38;5;241m=\u001b[39mmolecular_system, caller\u001b[38;5;241m=\u001b[39mcaller, message\u001b[38;5;241m=\u001b[39m\u001b[38;5;28;01mNone\u001b[39;00m)\n",
      "\u001b[0;31mArgumentError\u001b[0m: Error in molsysmt.basic.convert.convert due to the molecular_system argument with value /home/diego/projects@dprada/MolSysMT/molsysmt/demo/pentalanine/traj.h5.Check  for more information. If you still need help, open a new issue in https://github.com/uibcdf/MolSysMT/issues."
     ]
    }
   ],
   "source": [
    "molsys = msm.convert(molsys, to_form='molsysmt.MolSys')"
   ]
  },
  {
   "cell_type": "code",
   "execution_count": 5,
   "id": "532bce24-cb4a-484c-ac39-4d13d16341fb",
   "metadata": {},
   "outputs": [
    {
     "ename": "ModuleNotFoundError",
     "evalue": "No module named 'sabueso.tools'",
     "output_type": "error",
     "traceback": [
      "\u001b[0;31m---------------------------------------------------------------------------\u001b[0m",
      "\u001b[0;31mModuleNotFoundError\u001b[0m                       Traceback (most recent call last)",
      "Cell \u001b[0;32mIn[5], line 1\u001b[0m\n\u001b[0;32m----> 1\u001b[0m \u001b[43mmsm\u001b[49m\u001b[38;5;241;43m.\u001b[39;49m\u001b[43mget_form\u001b[49m\u001b[43m(\u001b[49m\u001b[43mmolsys\u001b[49m\u001b[43m)\u001b[49m\n",
      "File \u001b[0;32m~/projects@dprada/MolSysMT/molsysmt/basic/get_form.py:18\u001b[0m, in \u001b[0;36mget_form\u001b[0;34m(molecular_system)\u001b[0m\n\u001b[1;32m     15\u001b[0m output \u001b[38;5;241m=\u001b[39m \u001b[38;5;28;01mNone\u001b[39;00m\n\u001b[1;32m     17\u001b[0m \u001b[38;5;28;01mfor\u001b[39;00m form, module \u001b[38;5;129;01min\u001b[39;00m _dict_modules\u001b[38;5;241m.\u001b[39mitems():\n\u001b[0;32m---> 18\u001b[0m     \u001b[38;5;28;01mif\u001b[39;00m \u001b[43mmodule\u001b[49m\u001b[38;5;241;43m.\u001b[39;49m\u001b[43mis_form\u001b[49m\u001b[43m(\u001b[49m\u001b[43mmolecular_system\u001b[49m\u001b[43m)\u001b[49m:\n\u001b[1;32m     19\u001b[0m         output \u001b[38;5;241m=\u001b[39m form\n\u001b[1;32m     20\u001b[0m         \u001b[38;5;28;01mbreak\u001b[39;00m\n",
      "File \u001b[0;32m~/projects@dprada/MolSysMT/molsysmt/form/string_pdb_id/is_form.py:11\u001b[0m, in \u001b[0;36mis_form\u001b[0;34m(item)\u001b[0m\n\u001b[1;32m      9\u001b[0m         output \u001b[38;5;241m=\u001b[39m \u001b[38;5;28;01mTrue\u001b[39;00m\n\u001b[1;32m     10\u001b[0m     \u001b[38;5;28;01melse\u001b[39;00m:\n\u001b[0;32m---> 11\u001b[0m         \u001b[38;5;28;01mfrom\u001b[39;00m \u001b[38;5;21;01msabueso\u001b[39;00m\u001b[38;5;21;01m.\u001b[39;00m\u001b[38;5;21;01mtools\u001b[39;00m\u001b[38;5;21;01m.\u001b[39;00m\u001b[38;5;21;01mstring_pdb_id\u001b[39;00m \u001b[38;5;28;01mimport\u001b[39;00m is_string_pdb_id \u001b[38;5;28;01mas\u001b[39;00m sabueso_is_string_pdb_id\n\u001b[1;32m     12\u001b[0m         output \u001b[38;5;241m=\u001b[39m sabueso_is_string_pdb_id(item)\n\u001b[1;32m     14\u001b[0m \u001b[38;5;28;01mreturn\u001b[39;00m output\n",
      "\u001b[0;31mModuleNotFoundError\u001b[0m: No module named 'sabueso.tools'"
     ]
    }
   ],
   "source": [
    "msm.get_form(molsys)"
   ]
  },
  {
   "cell_type": "code",
   "execution_count": 6,
   "id": "274d7b8b-696e-4fb0-b428-ccc52dda834b",
   "metadata": {},
   "outputs": [],
   "source": [
    "import sabueso as sab"
   ]
  },
  {
   "cell_type": "code",
   "execution_count": null,
   "id": "6a0bb7f5-bee3-4a90-a7d9-595da109db6b",
   "metadata": {},
   "outputs": [],
   "source": [
    "sab."
   ]
  }
 ],
 "metadata": {
  "kernelspec": {
   "display_name": "Python 3 (ipykernel)",
   "language": "python",
   "name": "python3"
  },
  "language_info": {
   "codemirror_mode": {
    "name": "ipython",
    "version": 3
   },
   "file_extension": ".py",
   "mimetype": "text/x-python",
   "name": "python",
   "nbconvert_exporter": "python",
   "pygments_lexer": "ipython3",
   "version": "3.10.11"
  }
 },
 "nbformat": 4,
 "nbformat_minor": 5
}
