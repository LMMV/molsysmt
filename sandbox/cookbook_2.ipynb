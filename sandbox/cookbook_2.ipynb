{
 "cells": [
  {
   "cell_type": "code",
   "execution_count": 1,
   "id": "c7c15634-8b62-4c09-abce-c3fe52a9f423",
   "metadata": {},
   "outputs": [],
   "source": [
    "%load_ext autoreload\n",
    "%autoreload 2"
   ]
  },
  {
   "cell_type": "code",
   "execution_count": 2,
   "id": "1837b3fc-3eab-40a2-a724-f26b2ec36bca",
   "metadata": {},
   "outputs": [
    {
     "data": {
      "application/vnd.jupyter.widget-view+json": {
       "model_id": "72ec872e69af41788fa7840cef3b44f6",
       "version_major": 2,
       "version_minor": 0
      },
      "text/plain": []
     },
     "metadata": {},
     "output_type": "display_data"
    }
   ],
   "source": [
    "import molsysmt as msm"
   ]
  },
  {
   "cell_type": "code",
   "execution_count": 3,
   "id": "dc51b2b2-a06d-4f36-b9ee-8d3e465e287f",
   "metadata": {},
   "outputs": [],
   "source": [
    "trajectory = msm.demo['pentarginine']['traj.h5']"
   ]
  },
  {
   "cell_type": "code",
   "execution_count": 4,
   "id": "ed7a79f2-6641-4013-847a-d4a98f3d89c4",
   "metadata": {},
   "outputs": [
    {
     "data": {
      "text/html": [
       "<style type=\"text/css\">\n",
       "</style>\n",
       "<table id=\"T_ff5c4\">\n",
       "  <thead>\n",
       "    <tr>\n",
       "      <th id=\"T_ff5c4_level0_col0\" class=\"col_heading level0 col0\" >form</th>\n",
       "      <th id=\"T_ff5c4_level0_col1\" class=\"col_heading level0 col1\" >n_atoms</th>\n",
       "      <th id=\"T_ff5c4_level0_col2\" class=\"col_heading level0 col2\" >n_groups</th>\n",
       "      <th id=\"T_ff5c4_level0_col3\" class=\"col_heading level0 col3\" >n_components</th>\n",
       "      <th id=\"T_ff5c4_level0_col4\" class=\"col_heading level0 col4\" >n_chains</th>\n",
       "      <th id=\"T_ff5c4_level0_col5\" class=\"col_heading level0 col5\" >n_molecules</th>\n",
       "      <th id=\"T_ff5c4_level0_col6\" class=\"col_heading level0 col6\" >n_entities</th>\n",
       "      <th id=\"T_ff5c4_level0_col7\" class=\"col_heading level0 col7\" >n_waters</th>\n",
       "      <th id=\"T_ff5c4_level0_col8\" class=\"col_heading level0 col8\" >n_ions</th>\n",
       "      <th id=\"T_ff5c4_level0_col9\" class=\"col_heading level0 col9\" >n_peptides</th>\n",
       "      <th id=\"T_ff5c4_level0_col10\" class=\"col_heading level0 col10\" >n_structures</th>\n",
       "    </tr>\n",
       "  </thead>\n",
       "  <tbody>\n",
       "    <tr>\n",
       "      <td id=\"T_ff5c4_row0_col0\" class=\"data row0 col0\" >file:h5</td>\n",
       "      <td id=\"T_ff5c4_row0_col1\" class=\"data row0 col1\" >4822</td>\n",
       "      <td id=\"T_ff5c4_row0_col2\" class=\"data row0 col2\" >1561</td>\n",
       "      <td id=\"T_ff5c4_row0_col3\" class=\"data row0 col3\" >1553</td>\n",
       "      <td id=\"T_ff5c4_row0_col4\" class=\"data row0 col4\" >3</td>\n",
       "      <td id=\"T_ff5c4_row0_col5\" class=\"data row0 col5\" >1553</td>\n",
       "      <td id=\"T_ff5c4_row0_col6\" class=\"data row0 col6\" >None</td>\n",
       "      <td id=\"T_ff5c4_row0_col7\" class=\"data row0 col7\" >1545</td>\n",
       "      <td id=\"T_ff5c4_row0_col8\" class=\"data row0 col8\" >7</td>\n",
       "      <td id=\"T_ff5c4_row0_col9\" class=\"data row0 col9\" >1</td>\n",
       "      <td id=\"T_ff5c4_row0_col10\" class=\"data row0 col10\" >100</td>\n",
       "    </tr>\n",
       "  </tbody>\n",
       "</table>\n"
      ],
      "text/plain": [
       "<pandas.io.formats.style.Styler at 0x7fc93d7c5550>"
      ]
     },
     "execution_count": 4,
     "metadata": {},
     "output_type": "execute_result"
    }
   ],
   "source": [
    "msm.info(trajectory)"
   ]
  },
  {
   "cell_type": "code",
   "execution_count": 5,
   "id": "b7c1913e-9a2f-4981-b22e-1da85542714b",
   "metadata": {},
   "outputs": [
    {
     "data": {
      "application/vnd.jupyter.widget-view+json": {
       "model_id": "08e481268d3d4f76a5ac71862fd81216",
       "version_major": 2,
       "version_minor": 0
      },
      "text/plain": [
       "NGLWidget(max_frame=99)"
      ]
     },
     "metadata": {},
     "output_type": "display_data"
    }
   ],
   "source": [
    "msm.view(trajectory, standard=True, with_water_as='licorice')"
   ]
  },
  {
   "cell_type": "code",
   "execution_count": 6,
   "id": "d139dc4d-1bd9-424b-bec4-b75b8f2606fb",
   "metadata": {},
   "outputs": [],
   "source": [
    "iterator = msm.Iterator(trajectory)"
   ]
  },
  {
   "cell_type": "code",
   "execution_count": 7,
   "id": "c022072d-6702-4c8b-9101-491ea8a96b02",
   "metadata": {},
   "outputs": [
    {
     "name": "stdout",
     "output_type": "stream",
     "text": [
      "399500.0 picosecond 2.9528536796569824 nanometer\n",
      "399505.0 picosecond 1.5346109867095947 nanometer\n",
      "399510.0 picosecond 1.4757884740829468 nanometer\n",
      "399515.0 picosecond 1.5927174091339111 nanometer\n",
      "399520.0 picosecond 1.6885360479354858 nanometer\n",
      "399525.0 picosecond 1.6848112344741821 nanometer\n",
      "399530.0 picosecond 1.7412577867507935 nanometer\n",
      "399535.0 picosecond 3.141756772994995 nanometer\n",
      "399540.0 picosecond 2.9949772357940674 nanometer\n",
      "399545.0 picosecond 3.062687635421753 nanometer\n",
      "399550.0 picosecond 3.103278160095215 nanometer\n",
      "399555.0 picosecond 3.0693016052246094 nanometer\n",
      "399560.0 picosecond 3.116541862487793 nanometer\n",
      "399565.0 picosecond 2.9539082050323486 nanometer\n",
      "399570.0 picosecond 2.8881583213806152 nanometer\n",
      "399575.0 picosecond 2.9124884605407715 nanometer\n",
      "399580.0 picosecond 2.8056743144989014 nanometer\n",
      "399585.0 picosecond 2.8476309776306152 nanometer\n",
      "399590.0 picosecond 2.7222843170166016 nanometer\n",
      "399595.0 picosecond 2.7193603515625 nanometer\n",
      "399600.0 picosecond 2.7191922664642334 nanometer\n",
      "399605.0 picosecond 2.8366830348968506 nanometer\n",
      "399610.0 picosecond 2.775719165802002 nanometer\n",
      "399615.0 picosecond 2.857343912124634 nanometer\n",
      "399620.0 picosecond 2.8388400077819824 nanometer\n",
      "399625.0 picosecond 2.912044048309326 nanometer\n",
      "399630.0 picosecond 2.993671178817749 nanometer\n",
      "399635.0 picosecond 2.8965916633605957 nanometer\n",
      "399640.0 picosecond 2.923973560333252 nanometer\n",
      "399645.0 picosecond 2.854142904281616 nanometer\n",
      "399650.0 picosecond 2.9374160766601562 nanometer\n",
      "399655.0 picosecond 2.935541868209839 nanometer\n",
      "399660.0 picosecond 2.8529129028320312 nanometer\n",
      "399665.0 picosecond 2.8354265689849854 nanometer\n",
      "399670.0 picosecond 2.663769006729126 nanometer\n",
      "399675.0 picosecond 2.672334671020508 nanometer\n",
      "399680.0 picosecond 2.7245028018951416 nanometer\n",
      "399685.0 picosecond 2.7602365016937256 nanometer\n",
      "399690.0 picosecond 2.577336072921753 nanometer\n",
      "399695.0 picosecond 2.492870330810547 nanometer\n",
      "399700.0 picosecond 2.4726433753967285 nanometer\n",
      "399705.0 picosecond 2.3545901775360107 nanometer\n",
      "399710.0 picosecond 2.360579252243042 nanometer\n",
      "399715.0 picosecond 2.3376262187957764 nanometer\n",
      "399720.0 picosecond 2.357330799102783 nanometer\n",
      "399725.0 picosecond 2.315164566040039 nanometer\n",
      "399730.0 picosecond 2.3534576892852783 nanometer\n",
      "399735.0 picosecond 2.419309377670288 nanometer\n",
      "399740.0 picosecond 2.4465441703796387 nanometer\n",
      "399745.0 picosecond 2.32061505317688 nanometer\n",
      "399750.0 picosecond 2.2831671237945557 nanometer\n",
      "399755.0 picosecond 2.3037612438201904 nanometer\n",
      "399760.0 picosecond 2.228447914123535 nanometer\n",
      "399765.0 picosecond 2.1910905838012695 nanometer\n",
      "399770.0 picosecond 2.3452341556549072 nanometer\n",
      "399775.0 picosecond -0.44623640179634094 nanometer\n",
      "399780.0 picosecond -0.45838463306427 nanometer\n",
      "399785.0 picosecond -0.4558887779712677 nanometer\n",
      "399790.0 picosecond -0.3846082389354706 nanometer\n",
      "399795.0 picosecond -0.3313227593898773 nanometer\n",
      "399800.0 picosecond -0.3002238869667053 nanometer\n",
      "399805.0 picosecond 2.272900342941284 nanometer\n",
      "399810.0 picosecond -0.3058229088783264 nanometer\n",
      "399815.0 picosecond 2.386934518814087 nanometer\n",
      "399820.0 picosecond 2.413137912750244 nanometer\n",
      "399825.0 picosecond 2.2313718795776367 nanometer\n",
      "399830.0 picosecond 2.2175185680389404 nanometer\n",
      "399835.0 picosecond 2.09710955619812 nanometer\n",
      "399840.0 picosecond 1.885664701461792 nanometer\n",
      "399845.0 picosecond 1.8832157850265503 nanometer\n",
      "399850.0 picosecond 1.9761722087860107 nanometer\n",
      "399855.0 picosecond 2.049762010574341 nanometer\n",
      "399860.0 picosecond 2.0306637287139893 nanometer\n",
      "399865.0 picosecond 1.9885530471801758 nanometer\n",
      "399870.0 picosecond 1.9661030769348145 nanometer\n",
      "399875.0 picosecond 2.0073602199554443 nanometer\n",
      "399880.0 picosecond 1.9495488405227661 nanometer\n",
      "399885.0 picosecond 1.9296387434005737 nanometer\n",
      "399890.0 picosecond 2.0644571781158447 nanometer\n",
      "399895.0 picosecond 1.9035425186157227 nanometer\n",
      "399900.0 picosecond 1.787493348121643 nanometer\n",
      "399905.0 picosecond 1.6547430753707886 nanometer\n",
      "399910.0 picosecond 1.714447021484375 nanometer\n",
      "399915.0 picosecond 1.7381106615066528 nanometer\n",
      "399920.0 picosecond 1.781660795211792 nanometer\n",
      "399925.0 picosecond 1.7028495073318481 nanometer\n",
      "399930.0 picosecond 1.7326040267944336 nanometer\n",
      "399935.0 picosecond 1.6314860582351685 nanometer\n",
      "399940.0 picosecond 1.6880671977996826 nanometer\n",
      "399945.0 picosecond 1.7694125175476074 nanometer\n",
      "399950.0 picosecond 1.7296216487884521 nanometer\n",
      "399955.0 picosecond 1.7616450786590576 nanometer\n",
      "399960.0 picosecond 1.7338560819625854 nanometer\n",
      "399965.0 picosecond 1.7048394680023193 nanometer\n",
      "399970.0 picosecond 1.7178782224655151 nanometer\n",
      "399975.0 picosecond 1.6125948429107666 nanometer\n",
      "399980.0 picosecond 1.6172901391983032 nanometer\n",
      "399985.0 picosecond 1.5904570817947388 nanometer\n",
      "399990.0 picosecond 1.487646460533142 nanometer\n",
      "399995.0 picosecond 1.520349144935608 nanometer\n"
     ]
    }
   ],
   "source": [
    "for molecular_system in iterator:\n",
    "    coordinates, time = msm.get(molecular_system, coordinates=True, time=True)\n",
    "    print(time, coordinates[0,0,0])"
   ]
  },
  {
   "cell_type": "code",
   "execution_count": null,
   "id": "f32f085c-2fd6-4c2f-8b7e-2bb42509c0eb",
   "metadata": {},
   "outputs": [],
   "source": []
  },
  {
   "cell_type": "code",
   "execution_count": null,
   "id": "714ca1dd-4c3a-4c2a-ab60-0b9df81fcae8",
   "metadata": {},
   "outputs": [],
   "source": [
    "msm.set(aa, coordinates=coordinates)"
   ]
  },
  {
   "cell_type": "code",
   "execution_count": null,
   "id": "9a3fcf93-ba6d-4349-afeb-7532f660a2f2",
   "metadata": {},
   "outputs": [],
   "source": [
    "msm.set(aa, structure_id=structure_id)"
   ]
  },
  {
   "cell_type": "code",
   "execution_count": null,
   "id": "3c823cde-285e-4788-a5d4-81d41984b2cc",
   "metadata": {},
   "outputs": [],
   "source": [
    "msm.set(aa, time=time)"
   ]
  },
  {
   "cell_type": "code",
   "execution_count": null,
   "id": "49c14416-9658-4981-8367-dd7139ffd4ef",
   "metadata": {},
   "outputs": [],
   "source": [
    "msm.set(aa, box=box)"
   ]
  },
  {
   "cell_type": "code",
   "execution_count": null,
   "id": "abd52ea8-bc36-4aa0-bbc6-d447d81d604e",
   "metadata": {},
   "outputs": [],
   "source": [
    "for molecular_system in iterator:\n",
    "    print(msm.get(molecular_system, structure_ids=True))"
   ]
  },
  {
   "cell_type": "code",
   "execution_count": null,
   "id": "fde3f8ab-31d1-4af8-92db-422421578186",
   "metadata": {},
   "outputs": [],
   "source": [
    "iterator = msm.Iterator(trajectory, structure_indices=range(89,99))\n",
    "\n",
    "for molecular_system in iterator:\n",
    "    msm.append_structure('last_10_frames.h5', molecular_system)"
   ]
  },
  {
   "cell_type": "markdown",
   "id": "bd4cec02-18d5-4895-8460-055721251a7d",
   "metadata": {},
   "source": [
    "Or"
   ]
  },
  {
   "cell_type": "code",
   "execution_count": null,
   "id": "e98d977d-7be8-4ab5-b9a3-214a9a210e24",
   "metadata": {},
   "outputs": [],
   "source": [
    "iterator = msm.Iterator(trajectory, selection='molecule_type!=\"water\"')\n",
    "\n",
    "for molecular_system in iterator:\n",
    "    msm.append_structure('traj_ions_peptide.h5', molecular_system)"
   ]
  },
  {
   "cell_type": "markdown",
   "id": "0012728b-585b-4278-9cf0-63011d521274",
   "metadata": {},
   "source": [
    "## Fit, center, and wrap to MIC"
   ]
  },
  {
   "cell_type": "markdown",
   "id": "84cf0b0f-6ce0-4a35-b60c-c287f6b9bc31",
   "metadata": {},
   "source": [
    "### Working with a molecular system in memory"
   ]
  },
  {
   "cell_type": "code",
   "execution_count": null,
   "id": "93d50fc3-5df1-41d4-a964-4303ee1eaa40",
   "metadata": {},
   "outputs": [],
   "source": [
    "molecular_system = msm.convert(trajectory)"
   ]
  },
  {
   "cell_type": "code",
   "execution_count": null,
   "id": "ab69aa3c-83a1-4cd7-ba45-0bf908af81bf",
   "metadata": {},
   "outputs": [],
   "source": [
    "molecular_system = msm.structure.fit(molecular_system, selection='atom_name in [\"CA\", \"C\", \"N\"]')\n",
    "molecular_system = msm.structure.center(molecular_system, center_of_selection='atom_name in [\"CA\", \"C\", \"N\"]')\n",
    "molecular_system = msm.pbc.wrap_to_mic(molecular_system)"
   ]
  },
  {
   "cell_type": "code",
   "execution_count": null,
   "id": "d92135bd-fdc0-4e7f-9ac6-f8f1cdd7d21b",
   "metadata": {},
   "outputs": [],
   "source": [
    "msm.info(molecular_system)"
   ]
  },
  {
   "cell_type": "code",
   "execution_count": null,
   "id": "2e49bb36-71c1-4ab2-a309-56b44ad65b0c",
   "metadata": {},
   "outputs": [],
   "source": [
    "msm.view(molecular_system, standard=True, water_as_surface=True)"
   ]
  },
  {
   "cell_type": "markdown",
   "id": "555e25e7-b75e-4121-8de0-e8e332ec0552",
   "metadata": {},
   "source": [
    "With an interator and a molecular system in memory"
   ]
  },
  {
   "cell_type": "markdown",
   "id": "3ea7cffc-661d-4a0a-99e3-bf5bdf53fc21",
   "metadata": {},
   "source": [
    "### Using an iterator"
   ]
  },
  {
   "cell_type": "code",
   "execution_count": null,
   "id": "d2f3d85c-d7ac-4193-bc99-442e14921cac",
   "metadata": {},
   "outputs": [],
   "source": [
    "msm.file.open()"
   ]
  },
  {
   "cell_type": "code",
   "execution_count": null,
   "id": "37bcd85e-fdfd-4567-89f2-9556cd0c7c1b",
   "metadata": {},
   "outputs": [],
   "source": [
    "msm.file.get_status()"
   ]
  },
  {
   "cell_type": "code",
   "execution_count": null,
   "id": "e1a0f439-e45a-4d2b-bfa2-d12fcb1e91a3",
   "metadata": {},
   "outputs": [],
   "source": [
    "msm.file.close()"
   ]
  },
  {
   "cell_type": "code",
   "execution_count": null,
   "id": "ebb2c009-7d20-4a16-97cc-15f15e8a3eaf",
   "metadata": {},
   "outputs": [],
   "source": []
  },
  {
   "cell_type": "code",
   "execution_count": null,
   "id": "8a755171-70a7-4f05-b191-77b1483801b2",
   "metadata": {},
   "outputs": [],
   "source": [
    "iterator = msm.Iterator(trajectory)"
   ]
  },
  {
   "cell_type": "code",
   "execution_count": null,
   "id": "c7b0a47d-bb8b-4b43-8f54-1d2da4265e7f",
   "metadata": {},
   "outputs": [],
   "source": [
    "for molecular_system in iterator:\n",
    "    molecular_system = msm.structure.fit(aux_molecular_system, selection='atom_name in [\"CA\", \"C\", \"N\"]')\n",
    "    molecular_system = msm.structure.center(molecular_system, center_of_selection='atom_name in [\"CA\", \"C\", \"N\"]')\n",
    "    molecular_system = msm.pbc.wrap_to_mic(molecular_system)\n",
    "    msm.append_structures('asdf.h5', molecular_system)"
   ]
  },
  {
   "cell_type": "code",
   "execution_count": null,
   "id": "1dd53323-01d0-40bf-b398-b610d5b3c37e",
   "metadata": {},
   "outputs": [],
   "source": [
    "msm.info(final_molecular_system)"
   ]
  },
  {
   "cell_type": "code",
   "execution_count": null,
   "id": "5417c3a0-5592-4643-87e0-10a442d330bc",
   "metadata": {},
   "outputs": [],
   "source": [
    "msm.view(final_molecular_system, standard=True, water_as_surface=True)"
   ]
  },
  {
   "cell_type": "markdown",
   "id": "3323c0cc-f8b4-4bd6-8e40-0e032be59ba0",
   "metadata": {},
   "source": [
    "There is no need to work with an iterator and a molsysmt.MolSys object. You can explore other possilibities like iterating only the coordinates and boxes:"
   ]
  },
  {
   "cell_type": "code",
   "execution_count": null,
   "id": "c5bc8069-b48f-416e-a187-3c8fea2aeebf",
   "metadata": {},
   "outputs": [],
   "source": [
    "topology = msm.convert('last_100_frames.h5', 'molsysmt.Topology')\n",
    "\n",
    "all_coordinates = []\n",
    "all_boxes = []\n",
    "\n",
    "iterator = msm.Iterator('last_100_frames.h5', coordinates=True, box=True)\n",
    "\n",
    "for coordinates, box in iterator:\n",
    "    molecular_system = [topology, coordinates, box]\n",
    "    molecular_system = msm.structure.fit(molecular_system, selection='atom_name in [\"CA\", \"C\", \"N\"]')\n",
    "    molecular_system = msm.structure.center(molecular_system, center_of_selection='atom_name in [\"CA\", \"C\", \"N\"]')\n",
    "    molecular_system = msm.pbc.wrap_to_mic(molecular_system)\n",
    "    new_coordinates = msm.get(molecular_system, coordinates=True) # new_coordinates = molecular_system[1]\n",
    "    all_coordinates.append(new_coordinates)\n",
    "    all_box.append(box)"
   ]
  },
  {
   "cell_type": "code",
   "execution_count": null,
   "id": "8fa505b1-0d1f-4985-b59b-163418e048ff",
   "metadata": {},
   "outputs": [],
   "source": [
    "msm.info(molecular_system)"
   ]
  },
  {
   "cell_type": "code",
   "execution_count": null,
   "id": "76ef1841-6af3-489a-85a3-2f5fe2f1f947",
   "metadata": {},
   "outputs": [],
   "source": [
    "msm.view(molecular_system, standard=True, water_as_surface=True)"
   ]
  },
  {
   "cell_type": "markdown",
   "id": "030c2123-3e6d-4622-8396-f0f0c6ec4628",
   "metadata": {},
   "source": [
    "Or:"
   ]
  },
  {
   "cell_type": "code",
   "execution_count": null,
   "id": "7c400c22-3189-42db-af41-21d64d427d23",
   "metadata": {},
   "outputs": [],
   "source": [
    "atoms_to_fit_and_center = msm.select('last_100_frames.h5', selection='atom_name in [\"CA\", \"C\", \"N\"]')\n",
    "\n",
    "all_coordinates = []\n",
    "all_boxes = []\n",
    "\n",
    "iterator = msm.Iterator('last_100_frames.h5', coordinates=True, box=True)\n",
    "\n",
    "for coordinates, box in iterator:\n",
    "    coordinates = msm.structure.fit(coordinates, selection=atoms_to_fit_and_center)\n",
    "    coordinates = msm.structure.center(coordinates, center_of_selection=atoms_to_fit_and_center)\n",
    "    coordinates, _ = msm.pbc.wrap_to_mic([coordinates, box])\n",
    "    all_coordinates.append(coordinates)\n",
    "    all_boxes.append(box)"
   ]
  },
  {
   "cell_type": "code",
   "execution_count": null,
   "id": "527182ef-8c85-4150-bf50-4089767ba1f0",
   "metadata": {},
   "outputs": [],
   "source": [
    "msm.view(['last_100_frames.h5', coordinates, boxes], standard=True, water_as_surface=True)"
   ]
  },
  {
   "cell_type": "markdown",
   "id": "00c7ff5f-2aa4-4047-a43b-bf28214bc40d",
   "metadata": {},
   "source": [
    "################\n",
    "2 notebooks in the cookbook:\n",
    "    - writing a trajectory file\n",
    "    - analysing a trajectory file"
   ]
  }
 ],
 "metadata": {
  "kernelspec": {
   "display_name": "Python 3 (ipykernel)",
   "language": "python",
   "name": "python3"
  },
  "language_info": {
   "codemirror_mode": {
    "name": "ipython",
    "version": 3
   },
   "file_extension": ".py",
   "mimetype": "text/x-python",
   "name": "python",
   "nbconvert_exporter": "python",
   "pygments_lexer": "ipython3",
   "version": "3.9.15"
  }
 },
 "nbformat": 4,
 "nbformat_minor": 5
}
