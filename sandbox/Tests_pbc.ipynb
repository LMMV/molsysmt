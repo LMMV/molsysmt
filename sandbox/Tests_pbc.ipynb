{
 "cells": [
  {
   "cell_type": "markdown",
   "id": "c2f52c6d-731a-4ca3-b14b-0f83beafe76c",
   "metadata": {},
   "source": [
    "# Tests\n",
    "\n"
   ]
  },
  {
   "cell_type": "code",
   "execution_count": 1,
   "id": "1f40cd08-c65b-4252-bd33-013ee3d34f68",
   "metadata": {},
   "outputs": [
    {
     "data": {
      "application/vnd.jupyter.widget-view+json": {
       "model_id": "d22131ee1a264976a69b746e1bce0486",
       "version_major": 2,
       "version_minor": 0
      },
      "text/plain": []
     },
     "metadata": {},
     "output_type": "display_data"
    }
   ],
   "source": [
    "import molsysmt as msm\n",
    "from molsysmt import pyunitwizard as puw\n",
    "import numpy as np"
   ]
  },
  {
   "cell_type": "code",
   "execution_count": null,
   "id": "3e83ea62-edea-46d8-98bf-e653e93541cd",
   "metadata": {},
   "outputs": [],
   "source": [
    "origin=puw.quantity([0.0, 0.0, 0.0], 'nm')\n",
    "box=msm.pbc.get_box_with_shape(shape='rhombic dodecahedral', length='2.0 nm')\n",
    "coordinates= np.dot(box.T, np.array([1.0, 1.0, 1.0]))\n",
    "coordinates = coordinates.reshape(1, 1, 3)"
   ]
  },
  {
   "cell_type": "code",
   "execution_count": null,
   "id": "42c3f30e-97c7-41ba-ac77-0cec1cc53a4e",
   "metadata": {},
   "outputs": [],
   "source": [
    "box"
   ]
  },
  {
   "cell_type": "code",
   "execution_count": null,
   "id": "72c9536c-e65c-485f-bddf-62b698cd0efb",
   "metadata": {},
   "outputs": [],
   "source": [
    "coordinates"
   ]
  },
  {
   "cell_type": "code",
   "execution_count": null,
   "id": "e1f219ce-e2e5-416d-b293-c36b3c76cd3d",
   "metadata": {},
   "outputs": [],
   "source": [
    "molsys={'coordinates':coordinates, 'box':box}"
   ]
  },
  {
   "cell_type": "code",
   "execution_count": null,
   "id": "209cfee4-073c-4ec7-bd18-435224ea5e34",
   "metadata": {},
   "outputs": [],
   "source": [
    "molsys = msm.pbc.wrap_to_pbc(molsys, box_origin=origin)"
   ]
  },
  {
   "cell_type": "code",
   "execution_count": null,
   "id": "5fa0c47b-b501-4a0a-94ff-aeb3d42d15d2",
   "metadata": {},
   "outputs": [],
   "source": [
    "molsys"
   ]
  },
  {
   "cell_type": "code",
   "execution_count": 2,
   "id": "0102bbb3-cb2c-4f53-a0d5-32ac2395afc4",
   "metadata": {},
   "outputs": [],
   "source": [
    "coordinates=puw.quantity(np.random.uniform(-10.0, 10.0, size=(10,100,3)), 'nm')\n",
    "origin=puw.quantity([0.0, 0.0, 0.0], 'nm')\n",
    "box=msm.pbc.get_box_with_shape(shape='rhombic dodecahedral', length='2.0 nm')"
   ]
  },
  {
   "cell_type": "code",
   "execution_count": 3,
   "id": "0c808e85-9854-44ab-8fce-923065454dbd",
   "metadata": {},
   "outputs": [
    {
     "data": {
      "text/plain": [
       "(1, 3, 3)"
      ]
     },
     "execution_count": 3,
     "metadata": {},
     "output_type": "execute_result"
    }
   ],
   "source": [
    "box.shape"
   ]
  },
  {
   "cell_type": "code",
   "execution_count": 4,
   "id": "af780e06-93c7-44b5-952f-aecaf9dee193",
   "metadata": {},
   "outputs": [],
   "source": [
    "molsys={'coordinates':coordinates, 'box':box}"
   ]
  },
  {
   "cell_type": "code",
   "execution_count": 5,
   "id": "a82962f5-5de9-438d-84ef-1a7454c6b755",
   "metadata": {},
   "outputs": [],
   "source": [
    "molsys = msm.pbc.wrap_to_pbc(molsys, box_origin=origin)"
   ]
  },
  {
   "cell_type": "code",
   "execution_count": 6,
   "id": "1b06a0d2-6877-4889-98c5-56153a2cc7fc",
   "metadata": {},
   "outputs": [
    {
     "data": {
      "text/html": [
       "0.023094435522342138 nanometer"
      ],
      "text/latex": [
       "$0.023094435522342138\\ \\mathrm{nanometer}$"
      ],
      "text/plain": [
       "<Quantity(0.0230944355, 'nanometer')>"
      ]
     },
     "execution_count": 6,
     "metadata": {},
     "output_type": "execute_result"
    }
   ],
   "source": [
    "molsys['coordinates'][:,:,0].min()"
   ]
  },
  {
   "cell_type": "code",
   "execution_count": 7,
   "id": "21cdc0a5-05c7-49b4-abe1-4420b2d8ab6d",
   "metadata": {},
   "outputs": [
    {
     "data": {
      "text/html": [
       "0.086684148279069 nanometer"
      ],
      "text/latex": [
       "$0.086684148279069\\ \\mathrm{nanometer}$"
      ],
      "text/plain": [
       "<Quantity(0.0866841483, 'nanometer')>"
      ]
     },
     "execution_count": 7,
     "metadata": {},
     "output_type": "execute_result"
    }
   ],
   "source": [
    "molsys['coordinates'][:,:,1].min()"
   ]
  },
  {
   "cell_type": "code",
   "execution_count": 8,
   "id": "10562218-2919-4799-8733-9c30bf0b8bc9",
   "metadata": {},
   "outputs": [
    {
     "data": {
      "text/html": [
       "0.0001546353338536232 nanometer"
      ],
      "text/latex": [
       "$0.0001546353338536232\\ \\mathrm{nanometer}$"
      ],
      "text/plain": [
       "<Quantity(0.000154635334, 'nanometer')>"
      ]
     },
     "execution_count": 8,
     "metadata": {},
     "output_type": "execute_result"
    }
   ],
   "source": [
    "molsys['coordinates'][:,:,2].min()"
   ]
  },
  {
   "cell_type": "code",
   "execution_count": null,
   "id": "b2d59dff-5e35-45b3-bd4d-4ac84eb98c47",
   "metadata": {},
   "outputs": [],
   "source": [
    "molsys['coordinates'][:,:,2].max()"
   ]
  },
  {
   "cell_type": "code",
   "execution_count": null,
   "id": "9cc0471b-157d-4ae9-a4cc-6fcf83215966",
   "metadata": {},
   "outputs": [],
   "source": [
    "(box[0,0]+box[1,0]+box[2,0])"
   ]
  },
  {
   "cell_type": "code",
   "execution_count": null,
   "id": "9257dd11-2e47-4437-947c-aab826f6ebd1",
   "metadata": {},
   "outputs": [],
   "source": [
    "box = np.array([[1.0, 0.0, 0.0],\n",
    "                            [0.0, 1.0, 0.0],\n",
    "                            [0.5, 0.5, np.sqrt(2)/2]],\n",
    "                           dtype=np.float64)\n"
   ]
  },
  {
   "cell_type": "code",
   "execution_count": null,
   "id": "6cecb810-fafd-4dcb-b141-21ada2dd32c9",
   "metadata": {},
   "outputs": [],
   "source": [
    "np.reshape(box,(1,3,3)).shape"
   ]
  },
  {
   "cell_type": "code",
   "execution_count": null,
   "id": "42e7797c-dea8-4309-8ba4-ca478bac4cf6",
   "metadata": {},
   "outputs": [],
   "source": [
    "np.repeat(box, repeats=2, axis=0).shape"
   ]
  },
  {
   "cell_type": "code",
   "execution_count": null,
   "id": "bb2bb1d9-e8ba-4703-9f69-05caf40ea4e4",
   "metadata": {},
   "outputs": [],
   "source": []
  }
 ],
 "metadata": {
  "kernelspec": {
   "display_name": "Python 3 (ipykernel)",
   "language": "python",
   "name": "python3"
  },
  "language_info": {
   "codemirror_mode": {
    "name": "ipython",
    "version": 3
   },
   "file_extension": ".py",
   "mimetype": "text/x-python",
   "name": "python",
   "nbconvert_exporter": "python",
   "pygments_lexer": "ipython3",
   "version": "3.12.8"
  }
 },
 "nbformat": 4,
 "nbformat_minor": 5
}
