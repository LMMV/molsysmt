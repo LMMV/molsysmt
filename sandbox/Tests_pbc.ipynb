{
 "cells": [
  {
   "cell_type": "markdown",
   "id": "c2f52c6d-731a-4ca3-b14b-0f83beafe76c",
   "metadata": {},
   "source": [
    "# Tests\n",
    "\n"
   ]
  },
  {
   "cell_type": "code",
   "execution_count": 2,
   "id": "1f40cd08-c65b-4252-bd33-013ee3d34f68",
   "metadata": {},
   "outputs": [],
   "source": [
    "import molsysmt as msm\n",
    "from molsysmt import pyunitwizard as puw"
   ]
  },
  {
   "cell_type": "code",
   "execution_count": 3,
   "id": "0102bbb3-cb2c-4f53-a0d5-32ac2395afc4",
   "metadata": {},
   "outputs": [],
   "source": [
    "coordinates=puw.quantity([[[1.0, 1.0, 1.0]]], 'nm')\n",
    "box=puw.quantity([[[2.0, 0.0, 0.0]]], 'nm')"
   ]
  },
  {
   "cell_type": "code",
   "execution_count": 6,
   "id": "af780e06-93c7-44b5-952f-aecaf9dee193",
   "metadata": {},
   "outputs": [
    {
     "data": {
      "text/plain": [
       "(1, 1, 3)"
      ]
     },
     "execution_count": 6,
     "metadata": {},
     "output_type": "execute_result"
    }
   ],
   "source": []
  },
  {
   "cell_type": "code",
   "execution_count": null,
   "id": "17e8d563-fb3f-4ec7-ac03-bbc3fc6832ac",
   "metadata": {},
   "outputs": [],
   "source": []
  }
 ],
 "metadata": {
  "kernelspec": {
   "display_name": "Python 3 (ipykernel)",
   "language": "python",
   "name": "python3"
  },
  "language_info": {
   "codemirror_mode": {
    "name": "ipython",
    "version": 3
   },
   "file_extension": ".py",
   "mimetype": "text/x-python",
   "name": "python",
   "nbconvert_exporter": "python",
   "pygments_lexer": "ipython3",
   "version": "3.12.8"
  }
 },
 "nbformat": 4,
 "nbformat_minor": 5
}
