{
 "cells": [
  {
   "cell_type": "code",
   "execution_count": 1,
   "id": "27267251-f29d-42ff-b32f-87c7254debb2",
   "metadata": {},
   "outputs": [
    {
     "data": {
      "application/vnd.jupyter.widget-view+json": {
       "model_id": "3c66555b945e4de8932f9042f64a66a5",
       "version_major": 2,
       "version_minor": 0
      },
      "text/plain": []
     },
     "metadata": {},
     "output_type": "display_data"
    }
   ],
   "source": [
    "import molsysmt as msm\n",
    "import numpy as np\n",
    "from molsysmt import pyunitwizard as puw"
   ]
  },
  {
   "cell_type": "code",
   "execution_count": 2,
   "id": "086a9e7c-9bdb-4fdd-b8b3-0f6fc90dd891",
   "metadata": {},
   "outputs": [],
   "source": [
    "molsys = msm.convert(msm.systems['pentalanine']['traj_pentalanine.h5'], to_form='molsysmt.MolSys')\n",
    "d = msm.structure.get_distances(molsys, selection=8, selection_2=18, structure_indices=2000)"
   ]
  },
  {
   "cell_type": "code",
   "execution_count": 3,
   "id": "aa2c6469-06e7-4d03-8ac2-d01a045b8f0d",
   "metadata": {},
   "outputs": [
    {
     "data": {
      "text/html": [
       "<table><tbody><tr><th>Magnitude</th><td style='text-align:left;'><pre>[[[0.3874317590975941]]]</pre></td></tr><tr><th>Units</th><td style='text-align:left;'>nanometer</td></tr></tbody></table>"
      ],
      "text/latex": [
       "$arr[,0,:,:] = \\begin{pmatrix}\\end{pmatrix}\\ \\mathrm{nanometer}$"
      ],
      "text/plain": [
       "<Quantity([[[0.38743176]]], 'nanometer')>"
      ]
     },
     "execution_count": 3,
     "metadata": {},
     "output_type": "execute_result"
    }
   ],
   "source": [
    "d"
   ]
  },
  {
   "cell_type": "code",
   "execution_count": null,
   "id": "b050a5c1-8967-4e61-8f8a-82892839be94",
   "metadata": {},
   "outputs": [],
   "source": [
    "coors8 = msm.get(molsys, element='atom', selection=8, structure_indices=2000, coordinates=True)[0,0]\n",
    "coors18 = msm.get(molsys, element='atom', selection=18, structure_indices=2000, coordinates=True)[0,0]\n",
    "box = msm.get(molsys, element='system', structure_indices=2000, box=True)[0]"
   ]
  },
  {
   "cell_type": "code",
   "execution_count": null,
   "id": "78530cbf-6380-4c9a-bff5-cc4d94104cc8",
   "metadata": {},
   "outputs": [],
   "source": [
    "coors8"
   ]
  },
  {
   "cell_type": "code",
   "execution_count": null,
   "id": "e94f3513-bf1b-42c7-bcb9-3e5d567dd54c",
   "metadata": {},
   "outputs": [],
   "source": [
    "coors18"
   ]
  },
  {
   "cell_type": "code",
   "execution_count": null,
   "id": "e41022d7-2534-4518-8ab4-3e5fc1da3b9c",
   "metadata": {},
   "outputs": [],
   "source": [
    "box"
   ]
  },
  {
   "cell_type": "code",
   "execution_count": null,
   "id": "416828e8-6d2d-4259-bd57-50e4908988cc",
   "metadata": {},
   "outputs": [],
   "source": [
    "vector = coors18-coors8"
   ]
  },
  {
   "cell_type": "code",
   "execution_count": null,
   "id": "e4481b45-2157-48d2-b10f-c9ed4f00c22a",
   "metadata": {},
   "outputs": [],
   "source": [
    "np.linalg.norm(vector)"
   ]
  },
  {
   "cell_type": "code",
   "execution_count": null,
   "id": "38ebed66-6f7f-42df-86bf-9ce92e67f513",
   "metadata": {},
   "outputs": [],
   "source": [
    "np.round(-0.5)"
   ]
  },
  {
   "cell_type": "code",
   "execution_count": null,
   "id": "57ebd25c-a092-4abf-95d2-e04d850bc5c3",
   "metadata": {},
   "outputs": [],
   "source": [
    "np.floor(-0.5+0.5)"
   ]
  },
  {
   "cell_type": "code",
   "execution_count": null,
   "id": "70509bce-9fc8-4792-ad0d-3a71a9a959b9",
   "metadata": {},
   "outputs": [],
   "source": []
  }
 ],
 "metadata": {
  "kernelspec": {
   "display_name": "Python 3 (ipykernel)",
   "language": "python",
   "name": "python3"
  },
  "language_info": {
   "codemirror_mode": {
    "name": "ipython",
    "version": 3
   },
   "file_extension": ".py",
   "mimetype": "text/x-python",
   "name": "python",
   "nbconvert_exporter": "python",
   "pygments_lexer": "ipython3",
   "version": "3.12.8"
  }
 },
 "nbformat": 4,
 "nbformat_minor": 5
}
