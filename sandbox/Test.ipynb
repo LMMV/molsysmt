{
 "cells": [
  {
   "cell_type": "code",
   "execution_count": 1,
   "id": "27267251-f29d-42ff-b32f-87c7254debb2",
   "metadata": {},
   "outputs": [
    {
     "data": {
      "application/vnd.jupyter.widget-view+json": {
       "model_id": "71d90eca16d04fd5bf39032490146d14",
       "version_major": 2,
       "version_minor": 0
      },
      "text/plain": []
     },
     "metadata": {},
     "output_type": "display_data"
    }
   ],
   "source": [
    "import molsysmt as msm\n",
    "import numpy as np\n",
    "from molsysmt import pyunitwizard as puw"
   ]
  },
  {
   "cell_type": "code",
   "execution_count": 2,
   "id": "4ca077c6-4e10-454b-bf1f-ab159cd6093b",
   "metadata": {},
   "outputs": [],
   "source": [
    "molsys_AF = msm.convert('AF-P52789-F1')"
   ]
  },
  {
   "cell_type": "code",
   "execution_count": 3,
   "id": "a330ba3e-4289-46fa-9ff2-cf98c02b2996",
   "metadata": {},
   "outputs": [],
   "source": [
    "molsys_AF = msm.build.add_missing_hydrogens(molsys_AF, pH=7.4)"
   ]
  },
  {
   "cell_type": "code",
   "execution_count": 4,
   "id": "ca20d446-bcc9-402f-a86a-4f37b8c81b36",
   "metadata": {},
   "outputs": [],
   "source": [
    "msm.build.remove_bonds(molsys_AF)"
   ]
  },
  {
   "cell_type": "code",
   "execution_count": 5,
   "id": "a9e849dd-eed1-444c-b6cf-88103f075f70",
   "metadata": {},
   "outputs": [],
   "source": [
    "x = msm.build.get_missing_bonds(molsys_AF)"
   ]
  },
  {
   "cell_type": "code",
   "execution_count": 6,
   "id": "23633ab3-b116-4c83-8619-cebe53eef569",
   "metadata": {},
   "outputs": [
    {
     "data": {
      "application/vnd.jupyter.widget-view+json": {
       "model_id": "7bb12b9db782414b8912eb7f9b591a68",
       "version_major": 2,
       "version_minor": 0
      },
      "text/plain": [
       "NGLWidget()"
      ]
     },
     "metadata": {},
     "output_type": "display_data"
    }
   ],
   "source": [
    "msm.view(molsys_AF)"
   ]
  },
  {
   "cell_type": "code",
   "execution_count": null,
   "id": "27b81132-3c39-48d9-a764-943c442a7a1f",
   "metadata": {},
   "outputs": [],
   "source": []
  }
 ],
 "metadata": {
  "kernelspec": {
   "display_name": "Python 3 (ipykernel)",
   "language": "python",
   "name": "python3"
  },
  "language_info": {
   "codemirror_mode": {
    "name": "ipython",
    "version": 3
   },
   "file_extension": ".py",
   "mimetype": "text/x-python",
   "name": "python",
   "nbconvert_exporter": "python",
   "pygments_lexer": "ipython3",
   "version": "3.12.8"
  }
 },
 "nbformat": 4,
 "nbformat_minor": 5
}
