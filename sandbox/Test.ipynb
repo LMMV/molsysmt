{
 "cells": [
  {
   "cell_type": "code",
   "execution_count": 1,
   "id": "15140b3f-bbbc-4222-8cc8-3ae87532b76a",
   "metadata": {
    "tags": []
   },
   "outputs": [
    {
     "data": {
      "application/vnd.jupyter.widget-view+json": {
       "model_id": "53e789291faf432bb952e9dafa9edd32",
       "version_major": 2,
       "version_minor": 0
      },
      "text/plain": []
     },
     "metadata": {},
     "output_type": "display_data"
    }
   ],
   "source": [
    "import molsysmt as msm"
   ]
  },
  {
   "cell_type": "code",
   "execution_count": 2,
   "id": "c1604ef7-fff1-498e-85a2-3a7f0c77573b",
   "metadata": {
    "tags": []
   },
   "outputs": [],
   "source": [
    "prmtop_file = msm.demo['pentalanine']['pentalanine.prmtop']\n",
    "inpcrd_file = msm.demo['pentalanine']['pentalanine.inpcrd']"
   ]
  },
  {
   "cell_type": "code",
   "execution_count": 3,
   "id": "e4ccc5df-e0ca-448c-b70a-3de122a109bc",
   "metadata": {
    "tags": []
   },
   "outputs": [
    {
     "name": "stdout",
     "output_type": "stream",
     "text": [
      "file:prmtop {'item': '/home/diego/projects@dprada/MolSysMT/molsysmt/demo/pentalanine/pentalanine.prmtop', 'input_arguments': {'entity_type', 'salt_concentration', 'item', 'entity_id', 'solute_dielectric', 'hydrogen_mass', 'ewald_error_tolerance', 'solvent_dielectric', 'water_model', 'component_id', 'component_type', 'non_bonded_method', 'cutoff_distance', 'entity_name', 'implicit_solvent', 'time', 'box', 'component_name', 'partial_charge', 'flexible_constraints', 'velocities', 'switch_distance', 'kappa', 'forcefield', 'dispersion_correction', 'rigid_water', 'coordinates', 'constraints', 'formal_charge', 'structure_id'}, 'attributes_in_form': {'bond_index', 'molecule_name', 'chain_id', 'bond_id', 'bond_type', 'group_id', 'group_type', 'atom_id', 'inner_bond_index', 'bonded_atoms', 'group_index', 'atom_name', 'bond_order', 'molecule_id', 'group_name', 'box', 'chain_name', 'chain_index', 'inner_bonded_atoms', 'chain_type', 'molecule_type', 'atom_type', 'molecule_index', 'component_index'}, 'attributes_in_other_forms': {'velocities': ['/home/diego/projects@dprada/MolSysMT/molsysmt/demo/pentalanine/pentalanine.inpcrd', 'file:inpcrd'], 'coordinates': ['/home/diego/projects@dprada/MolSysMT/molsysmt/demo/pentalanine/pentalanine.inpcrd', 'file:inpcrd'], 'structure_id': ['/home/diego/projects@dprada/MolSysMT/molsysmt/demo/pentalanine/pentalanine.inpcrd', 'file:inpcrd']}, 'repeated_attributes': {'box': ['/home/diego/projects@dprada/MolSysMT/molsysmt/demo/pentalanine/pentalanine.inpcrd', 'file:inpcrd']}, 'status_input_attributes': True, 'status_set_attributes': True}\n",
      "----\n",
      "@@@@\n"
     ]
    }
   ],
   "source": [
    "molsys = msm.convert([prmtop_file, inpcrd_file], to_form='molsysmt.MolSys')"
   ]
  },
  {
   "cell_type": "code",
   "execution_count": 4,
   "id": "78a50c10-e4d2-4f00-aac2-f927c6625b70",
   "metadata": {
    "tags": []
   },
   "outputs": [
    {
     "data": {
      "text/html": [
       "<style type=\"text/css\">\n",
       "</style>\n",
       "<table id=\"T_3a6c0\">\n",
       "  <thead>\n",
       "    <tr>\n",
       "      <th id=\"T_3a6c0_level0_col0\" class=\"col_heading level0 col0\" >form</th>\n",
       "      <th id=\"T_3a6c0_level0_col1\" class=\"col_heading level0 col1\" >n_atoms</th>\n",
       "      <th id=\"T_3a6c0_level0_col2\" class=\"col_heading level0 col2\" >n_groups</th>\n",
       "      <th id=\"T_3a6c0_level0_col3\" class=\"col_heading level0 col3\" >n_components</th>\n",
       "      <th id=\"T_3a6c0_level0_col4\" class=\"col_heading level0 col4\" >n_chains</th>\n",
       "      <th id=\"T_3a6c0_level0_col5\" class=\"col_heading level0 col5\" >n_molecules</th>\n",
       "      <th id=\"T_3a6c0_level0_col6\" class=\"col_heading level0 col6\" >n_entities</th>\n",
       "      <th id=\"T_3a6c0_level0_col7\" class=\"col_heading level0 col7\" >n_waters</th>\n",
       "      <th id=\"T_3a6c0_level0_col8\" class=\"col_heading level0 col8\" >n_peptides</th>\n",
       "      <th id=\"T_3a6c0_level0_col9\" class=\"col_heading level0 col9\" >n_structures</th>\n",
       "    </tr>\n",
       "  </thead>\n",
       "  <tbody>\n",
       "    <tr>\n",
       "      <td id=\"T_3a6c0_row0_col0\" class=\"data row0 col0\" >molsysmt.MolSys</td>\n",
       "      <td id=\"T_3a6c0_row0_col1\" class=\"data row0 col1\" >5207</td>\n",
       "      <td id=\"T_3a6c0_row0_col2\" class=\"data row0 col2\" >1722</td>\n",
       "      <td id=\"T_3a6c0_row0_col3\" class=\"data row0 col3\" >1716</td>\n",
       "      <td id=\"T_3a6c0_row0_col4\" class=\"data row0 col4\" >1</td>\n",
       "      <td id=\"T_3a6c0_row0_col5\" class=\"data row0 col5\" >1716</td>\n",
       "      <td id=\"T_3a6c0_row0_col6\" class=\"data row0 col6\" >2</td>\n",
       "      <td id=\"T_3a6c0_row0_col7\" class=\"data row0 col7\" >1715</td>\n",
       "      <td id=\"T_3a6c0_row0_col8\" class=\"data row0 col8\" >1</td>\n",
       "      <td id=\"T_3a6c0_row0_col9\" class=\"data row0 col9\" >1</td>\n",
       "    </tr>\n",
       "  </tbody>\n",
       "</table>\n"
      ],
      "text/plain": [
       "<pandas.io.formats.style.Styler at 0x7f630c7d09d0>"
      ]
     },
     "execution_count": 4,
     "metadata": {},
     "output_type": "execute_result"
    }
   ],
   "source": [
    "msm.info(molsys)"
   ]
  },
  {
   "cell_type": "code",
   "execution_count": 5,
   "id": "c94187f4-b08d-4c14-a4df-7c498d3cdda2",
   "metadata": {},
   "outputs": [],
   "source": [
    "molsys.molecular_mechanics.constraints='xxx'"
   ]
  },
  {
   "cell_type": "code",
   "execution_count": 6,
   "id": "e403b871-ab8c-420f-a7f4-cbeab0d2a89f",
   "metadata": {
    "tags": []
   },
   "outputs": [
    {
     "name": "stdout",
     "output_type": "stream",
     "text": [
      "molsysmt.MolSys {'item': <molsysmt.native.molsys.MolSys object at 0x7f621673bc40>, 'input_arguments': {'item'}, 'attributes_in_form': {'entity_type', 'bond_index', 'molecule_name', 'chain_id', 'entity_id', 'bond_id', 'component_id', 'bond_type', 'group_id', 'group_type', 'atom_id', 'component_type', 'bonded_atoms', 'group_index', 'atom_name', 'bond_order', 'entity_name', 'molecule_id', 'group_name', 'component_name', 'chain_name', 'chain_index', 'chain_type', 'molecule_type', 'atom_type', 'molecule_index', 'entity_index', 'coordinates', 'constraints', 'component_index'}, 'attributes_in_other_forms': {'water_model': [{'forcefield': 'AMBER14', 'water_model': 'TIP3P'}, 'molsysmt.MolecularMechanicsDict'], 'forcefield': [{'forcefield': 'AMBER14', 'water_model': 'TIP3P'}, 'molsysmt.MolecularMechanicsDict']}, 'repeated_attributes': {}, 'status_input_attributes': False, 'status_set_attributes': True}\n",
      "----\n",
      "molsysmt.MolecularMechanicsDict {'item': {'forcefield': 'AMBER14', 'water_model': 'TIP3P'}, 'input_arguments': {'item'}, 'attributes_in_form': {'water_model', 'forcefield'}, 'attributes_in_other_forms': {'constraints': [<molsysmt.native.molsys.MolSys object at 0x7f621673bc40>, 'molsysmt.MolSys']}, 'repeated_attributes': {}, 'status_input_attributes': False, 'status_set_attributes': True}\n",
      "----\n",
      "@@@@\n"
     ]
    },
    {
     "ename": "NotImplementedConversionError",
     "evalue": "Error in conversion from ['molsysmt.MolSys', 'molsysmt.MolecularMechanicsDict'] to molsysmt.MolecularMechanics",
     "output_type": "error",
     "traceback": [
      "\u001b[0;31m---------------------------------------------------------------------------\u001b[0m",
      "\u001b[0;31mNotImplementedConversionError\u001b[0m             Traceback (most recent call last)",
      "Cell \u001b[0;32mIn[6], line 1\u001b[0m\n\u001b[0;32m----> 1\u001b[0m aa \u001b[38;5;241m=\u001b[39m \u001b[43mmsm\u001b[49m\u001b[38;5;241;43m.\u001b[39;49m\u001b[43mconvert\u001b[49m\u001b[43m(\u001b[49m\u001b[43m[\u001b[49m\u001b[43mmolsys\u001b[49m\u001b[43m,\u001b[49m\u001b[43m \u001b[49m\u001b[43m{\u001b[49m\u001b[38;5;124;43m'\u001b[39;49m\u001b[38;5;124;43mforcefield\u001b[39;49m\u001b[38;5;124;43m'\u001b[39;49m\u001b[43m:\u001b[49m\u001b[38;5;124;43m'\u001b[39;49m\u001b[38;5;124;43mAMBER14\u001b[39;49m\u001b[38;5;124;43m'\u001b[39;49m\u001b[43m,\u001b[49m\u001b[43m \u001b[49m\u001b[38;5;124;43m'\u001b[39;49m\u001b[38;5;124;43mwater_model\u001b[39;49m\u001b[38;5;124;43m'\u001b[39;49m\u001b[43m:\u001b[49m\u001b[38;5;124;43m'\u001b[39;49m\u001b[38;5;124;43mTIP3P\u001b[39;49m\u001b[38;5;124;43m'\u001b[39;49m\u001b[43m}\u001b[49m\u001b[43m]\u001b[49m\u001b[43m,\u001b[49m\u001b[43m \u001b[49m\u001b[43mto_form\u001b[49m\u001b[38;5;241;43m=\u001b[39;49m\u001b[38;5;124;43m'\u001b[39;49m\u001b[38;5;124;43mmolsysmt.MolecularMechanics\u001b[39;49m\u001b[38;5;124;43m'\u001b[39;49m\u001b[43m)\u001b[49m\n",
      "File \u001b[0;32m~/projects@dprada/MolSysMT/molsysmt/_private/digestion/digest.py:116\u001b[0m, in \u001b[0;36mdigest.<locals>.digestor.<locals>.wrapper\u001b[0;34m(*args, **kwargs)\u001b[0m\n\u001b[1;32m    114\u001b[0m     \u001b[38;5;28;01mreturn\u001b[39;00m func(all_args[\u001b[38;5;124m'\u001b[39m\u001b[38;5;124mself\u001b[39m\u001b[38;5;124m'\u001b[39m], \u001b[38;5;241m*\u001b[39m\u001b[38;5;241m*\u001b[39mfinal_args)\n\u001b[1;32m    115\u001b[0m \u001b[38;5;28;01melse\u001b[39;00m:\n\u001b[0;32m--> 116\u001b[0m     \u001b[38;5;28;01mreturn\u001b[39;00m \u001b[43mfunc\u001b[49m\u001b[43m(\u001b[49m\u001b[38;5;241;43m*\u001b[39;49m\u001b[38;5;241;43m*\u001b[39;49m\u001b[43mfinal_args\u001b[49m\u001b[43m)\u001b[49m\n",
      "File \u001b[0;32m~/projects@dprada/MolSysMT/molsysmt/basic/convert.py:354\u001b[0m, in \u001b[0;36mconvert\u001b[0;34m(molecular_system, to_form, selection, structure_indices, syntax, **kwargs)\u001b[0m\n\u001b[1;32m    352\u001b[0m     \u001b[38;5;28;01mif\u001b[39;00m \u001b[38;5;28mlen\u001b[39m(from_form)\u001b[38;5;241m==\u001b[39m\u001b[38;5;241m1\u001b[39m:\n\u001b[1;32m    353\u001b[0m         from_form\u001b[38;5;241m=\u001b[39mfrom_form[\u001b[38;5;241m0\u001b[39m]\n\u001b[0;32m--> 354\u001b[0m     \u001b[38;5;28;01mraise\u001b[39;00m NotImplementedConversionError(from_form, to_form)\n\u001b[1;32m    356\u001b[0m \u001b[38;5;28;01mif\u001b[39;00m \u001b[38;5;28misinstance\u001b[39m(tmp_item, (\u001b[38;5;28mlist\u001b[39m, \u001b[38;5;28mtuple\u001b[39m)):\n\u001b[1;32m    357\u001b[0m     \u001b[38;5;28;01mif\u001b[39;00m \u001b[38;5;28mlen\u001b[39m(tmp_item) \u001b[38;5;241m==\u001b[39m \u001b[38;5;241m1\u001b[39m:\n",
      "\u001b[0;31mNotImplementedConversionError\u001b[0m: Error in conversion from ['molsysmt.MolSys', 'molsysmt.MolecularMechanicsDict'] to molsysmt.MolecularMechanics"
     ]
    }
   ],
   "source": [
    "aa = msm.convert([molsys, {'forcefield':'AMBER14', 'water_model':'TIP3P'}], to_form='molsysmt.MolecularMechanics')"
   ]
  },
  {
   "cell_type": "code",
   "execution_count": null,
   "id": "e9b3ee2f-2ca1-4116-ae9b-2165bf7a16e7",
   "metadata": {},
   "outputs": [],
   "source": [
    "msm.has_attribute(molsys, 'constraints')"
   ]
  },
  {
   "cell_type": "code",
   "execution_count": null,
   "id": "c80faac4-c39e-4860-a8d3-07e0a6fef651",
   "metadata": {
    "tags": []
   },
   "outputs": [],
   "source": [
    "aa.constraints"
   ]
  },
  {
   "cell_type": "code",
   "execution_count": null,
   "id": "f97ce6d2-862e-421c-bfa3-d5906e7f212d",
   "metadata": {},
   "outputs": [],
   "source": [
    "msm.has_attribute([molsys, {'forcefield':'AMBER14', 'water_model':'TIP3P'}], 'kappa')"
   ]
  },
  {
   "cell_type": "code",
   "execution_count": null,
   "id": "535f58f5-8664-46a6-a69f-d678b545c2b2",
   "metadata": {},
   "outputs": [],
   "source": [
    "msm.where_is_attribute([molsys, {'forcefield':'AMBER14', 'water_model':'TIP3P'}], 'kappa')"
   ]
  },
  {
   "cell_type": "code",
   "execution_count": null,
   "id": "e918a9c7-6600-45c4-9cdf-b123b3e09e13",
   "metadata": {},
   "outputs": [],
   "source": [
    "molsys = msm.build.solvate([molsys, {'forcefield':'AMBER14', 'water_model':'TIP3P'}],\n",
    "                   box_shape='truncated octahedral', clearance='14.0 angstroms',\n",
    "                   to_form='molsysmt.MolSys', engine=\"OpenMM\")"
   ]
  },
  {
   "cell_type": "code",
   "execution_count": null,
   "id": "011b2546-251c-4d8b-8702-a6d75e862d4f",
   "metadata": {},
   "outputs": [],
   "source": [
    "molsys.molecular_mechanics.flexible_constraints"
   ]
  },
  {
   "cell_type": "code",
   "execution_count": null,
   "id": "14ec3c00-c6aa-49ce-9355-3cc627665701",
   "metadata": {
    "tags": []
   },
   "outputs": [],
   "source": [
    "import numpy as np"
   ]
  },
  {
   "cell_type": "code",
   "execution_count": null,
   "id": "4454b472-5479-4c4a-b2dc-606c1c553485",
   "metadata": {
    "tags": []
   },
   "outputs": [],
   "source": [
    "np.arange(0,10)"
   ]
  },
  {
   "cell_type": "code",
   "execution_count": null,
   "id": "24fa18b2-ed13-42f8-97b3-81267f079621",
   "metadata": {},
   "outputs": [],
   "source": [
    "list(range(2,0,-1))"
   ]
  },
  {
   "cell_type": "code",
   "execution_count": null,
   "id": "04962fbb-6f3f-41ad-83eb-a24845503071",
   "metadata": {},
   "outputs": [],
   "source": []
  }
 ],
 "metadata": {
  "kernelspec": {
   "display_name": "Python 3 (ipykernel)",
   "language": "python",
   "name": "python3"
  },
  "language_info": {
   "codemirror_mode": {
    "name": "ipython",
    "version": 3
   },
   "file_extension": ".py",
   "mimetype": "text/x-python",
   "name": "python",
   "nbconvert_exporter": "python",
   "pygments_lexer": "ipython3",
   "version": "3.9.15"
  }
 },
 "nbformat": 4,
 "nbformat_minor": 5
}
