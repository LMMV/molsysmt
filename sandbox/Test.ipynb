{
 "cells": [
  {
   "cell_type": "code",
   "execution_count": 1,
   "id": "27267251-f29d-42ff-b32f-87c7254debb2",
   "metadata": {},
   "outputs": [
    {
     "data": {
      "application/vnd.jupyter.widget-view+json": {
       "model_id": "634309b7bef6454fb115e0279a3123c2",
       "version_major": 2,
       "version_minor": 0
      },
      "text/plain": []
     },
     "metadata": {},
     "output_type": "display_data"
    }
   ],
   "source": [
    "import molsysmt as msm\n",
    "import numpy as np\n",
    "from molsysmt import pyunitwizard as puw"
   ]
  },
  {
   "cell_type": "code",
   "execution_count": 2,
   "id": "a8817102-c168-4e5a-8491-9b48e3adcf79",
   "metadata": {},
   "outputs": [],
   "source": [
    "import openmm as mm\n",
    "from openmm import unit\n",
    "from openmm import app\n",
    "from tqdm import tqdm\n",
    "import numpy as np\n",
    "from matplotlib import pyplot as plt"
   ]
  },
  {
   "cell_type": "code",
   "execution_count": 3,
   "id": "11c8b280-a707-4390-af4a-0bb8319b15de",
   "metadata": {},
   "outputs": [],
   "source": [
    "from parmed.openmm.reporters import EnergyMinimizerReporter"
   ]
  },
  {
   "cell_type": "code",
   "execution_count": 4,
   "id": "f8780d0b-0f6e-4842-970b-8224061e4604",
   "metadata": {},
   "outputs": [],
   "source": [
    "molsys_AF = msm.convert('1L2Y')"
   ]
  },
  {
   "cell_type": "code",
   "execution_count": 5,
   "id": "716b2d22-d11a-4f54-9e25-c02b43380aa9",
   "metadata": {},
   "outputs": [],
   "source": [
    "molsys_AF = msm.build.add_missing_hydrogens(molsys_AF, pH=7.4)"
   ]
  },
  {
   "cell_type": "code",
   "execution_count": 6,
   "id": "a4515fb4-f515-4b05-832e-78ee73e26136",
   "metadata": {},
   "outputs": [],
   "source": [
    "topology = msm.convert(molsys_AF, to_form='openmm.Topology')\n",
    "positions = msm.get(molsys_AF, element='atom', structure_indices=0, coordinates=True)\n",
    "positions = msm.pyunitwizard.convert(positions[0], to_form='openmm.unit')"
   ]
  },
  {
   "cell_type": "code",
   "execution_count": 7,
   "id": "dc83ea13-59c1-4c53-bbe0-21949bdedaed",
   "metadata": {},
   "outputs": [],
   "source": [
    "forcefield = app.ForceField(\"amber14-all.xml\")"
   ]
  },
  {
   "cell_type": "code",
   "execution_count": 8,
   "id": "7d370d5d-13b1-46d6-b716-972f17546684",
   "metadata": {},
   "outputs": [],
   "source": [
    "system = forcefield.createSystem(topology, nonbondedMethod=app.NoCutoff, constraints=app.HBonds)"
   ]
  },
  {
   "cell_type": "code",
   "execution_count": 9,
   "id": "4bf37475-5621-46c2-a8a3-c7d085731e9c",
   "metadata": {},
   "outputs": [],
   "source": [
    "temperature = 0*unit.kelvin\n",
    "\n",
    "integration_timestep = 2.0*unit.femtoseconds\n",
    "saving_interval = 1.00*unit.picoseconds\n",
    "logging_interval = 100.00*unit.picoseconds\n",
    "simulation_time = 500.*unit.picoseconds\n",
    "\n",
    "saving_steps = int(saving_interval/integration_timestep)\n",
    "logging_steps = int(logging_interval/integration_timestep)\n",
    "md_steps = int(simulation_time/integration_timestep)"
   ]
  },
  {
   "cell_type": "code",
   "execution_count": 10,
   "id": "2cb86a0d-54e5-468d-864e-76d40adafb47",
   "metadata": {},
   "outputs": [],
   "source": [
    "friction   = 1.0/unit.picoseconds\n",
    "integrator = mm.LangevinIntegrator(temperature, friction, integration_timestep)"
   ]
  },
  {
   "cell_type": "code",
   "execution_count": 11,
   "id": "44bc2d79-3a7a-466b-901f-a15138e5ccf2",
   "metadata": {},
   "outputs": [],
   "source": [
    "platform = mm.Platform.getPlatformByName('CPU')"
   ]
  },
  {
   "cell_type": "code",
   "execution_count": 12,
   "id": "2487fdce-75fd-4771-b8c1-d4dc9458bf34",
   "metadata": {},
   "outputs": [],
   "source": [
    "simulation = app.Simulation(topology, system, integrator, platform)\n",
    "simulation.context.setPositions(positions)"
   ]
  },
  {
   "cell_type": "code",
   "execution_count": 13,
   "id": "fbf01672-ce76-4971-8f4f-8c023e8e7204",
   "metadata": {},
   "outputs": [],
   "source": [
    "reporter = msm.thirds.openmm.reporters.StructuresDictReporter(1, coordinates=True, potentialEnergy=True)"
   ]
  },
  {
   "cell_type": "code",
   "execution_count": 14,
   "id": "ba39743c-032b-4e60-a2e8-8b898f9aea1c",
   "metadata": {},
   "outputs": [],
   "source": [
    "reporter = EnergyMinimizerReporter(open('nada.txt','w'))"
   ]
  },
  {
   "cell_type": "code",
   "execution_count": null,
   "id": "095ce561-358f-4785-80c9-02da3a362dd6",
   "metadata": {},
   "outputs": [],
   "source": [
    "#reporter = msm.thirds.openmm.reporters.StructuresDictReporter(100, coordinates=True, potentialEnergy=True)"
   ]
  },
  {
   "cell_type": "code",
   "execution_count": null,
   "id": "0621c7aa-5ffa-4dcb-afe7-236ca5386eaa",
   "metadata": {},
   "outputs": [],
   "source": [
    "#simulation.reporters.append(reporter)"
   ]
  },
  {
   "cell_type": "code",
   "execution_count": 15,
   "id": "bdba0eb1-3fdf-4328-b4d7-5f81800c02f1",
   "metadata": {},
   "outputs": [
    {
     "ename": "TypeError",
     "evalue": "Wrong number or type of arguments for overloaded function 'LocalEnergyMinimizer_minimize'.\n  Possible C/C++ prototypes are:\n    OpenMM::LocalEnergyMinimizer::minimize(OpenMM::Context &,double,int,OpenMM::MinimizationReporter *)\n    OpenMM::LocalEnergyMinimizer::minimize(OpenMM::Context &,double,int)\n    OpenMM::LocalEnergyMinimizer::minimize(OpenMM::Context &,double)\n    OpenMM::LocalEnergyMinimizer::minimize(OpenMM::Context &)\n",
     "output_type": "error",
     "traceback": [
      "\u001b[0;31m---------------------------------------------------------------------------\u001b[0m",
      "\u001b[0;31mTypeError\u001b[0m                                 Traceback (most recent call last)",
      "\u001b[0;32m/tmp/ipykernel_37485/2191297220.py\u001b[0m in \u001b[0;36m?\u001b[0;34m()\u001b[0m\n\u001b[0;32m----> 1\u001b[0;31m \u001b[0msimulation\u001b[0m\u001b[0;34m.\u001b[0m\u001b[0mminimizeEnergy\u001b[0m\u001b[0;34m(\u001b[0m\u001b[0mreporter\u001b[0m\u001b[0;34m=\u001b[0m\u001b[0mreporter\u001b[0m\u001b[0;34m)\u001b[0m\u001b[0;34m\u001b[0m\u001b[0;34m\u001b[0m\u001b[0m\n\u001b[0m",
      "\u001b[0;32m~/Myopt/miniconda3/envs/MolSysMT@uibcdf_3.12/lib/python3.12/site-packages/openmm/app/simulation.py\u001b[0m in \u001b[0;36m?\u001b[0;34m(self, tolerance, maxIterations, reporter)\u001b[0m\n\u001b[1;32m    139\u001b[0m         \u001b[0mreporter\u001b[0m \u001b[0;34m:\u001b[0m \u001b[0mMinimizationReporter\u001b[0m \u001b[0;34m=\u001b[0m \u001b[0;32mNone\u001b[0m\u001b[0;34m\u001b[0m\u001b[0;34m\u001b[0m\u001b[0m\n\u001b[1;32m    140\u001b[0m             \u001b[0man\u001b[0m \u001b[0moptional\u001b[0m \u001b[0mreporter\u001b[0m \u001b[0mto\u001b[0m \u001b[0minvoke\u001b[0m \u001b[0mafter\u001b[0m \u001b[0meach\u001b[0m \u001b[0miteration\u001b[0m\u001b[0;34m.\u001b[0m  \u001b[0mThis\u001b[0m \u001b[0mcan\u001b[0m \u001b[0mbe\u001b[0m \u001b[0mused\u001b[0m \u001b[0mto\u001b[0m \u001b[0mmonitor\u001b[0m \u001b[0mthe\u001b[0m \u001b[0mprogress\u001b[0m\u001b[0;34m\u001b[0m\u001b[0;34m\u001b[0m\u001b[0m\n\u001b[1;32m    141\u001b[0m             \u001b[0mof\u001b[0m \u001b[0mminimization\u001b[0m \u001b[0;32mor\u001b[0m \u001b[0mto\u001b[0m \u001b[0mstop\u001b[0m \u001b[0mminimization\u001b[0m \u001b[0mearly\u001b[0m\u001b[0;34m.\u001b[0m\u001b[0;34m\u001b[0m\u001b[0;34m\u001b[0m\u001b[0m\n\u001b[1;32m    142\u001b[0m         \"\"\"\n\u001b[0;32m--> 143\u001b[0;31m         \u001b[0mmm\u001b[0m\u001b[0;34m.\u001b[0m\u001b[0mLocalEnergyMinimizer\u001b[0m\u001b[0;34m.\u001b[0m\u001b[0mminimize\u001b[0m\u001b[0;34m(\u001b[0m\u001b[0mself\u001b[0m\u001b[0;34m.\u001b[0m\u001b[0mcontext\u001b[0m\u001b[0;34m,\u001b[0m \u001b[0mtolerance\u001b[0m\u001b[0;34m,\u001b[0m \u001b[0mmaxIterations\u001b[0m\u001b[0;34m,\u001b[0m \u001b[0mreporter\u001b[0m\u001b[0;34m)\u001b[0m\u001b[0;34m\u001b[0m\u001b[0;34m\u001b[0m\u001b[0m\n\u001b[0m",
      "\u001b[0;32m~/Myopt/miniconda3/envs/MolSysMT@uibcdf_3.12/lib/python3.12/site-packages/openmm/openmm.py\u001b[0m in \u001b[0;36m?\u001b[0;34m(context, tolerance, maxIterations, reporter)\u001b[0m\n\u001b[1;32m   5917\u001b[0m         \u001b[0;32mif\u001b[0m \u001b[0munit\u001b[0m\u001b[0;34m.\u001b[0m\u001b[0mis_quantity\u001b[0m\u001b[0;34m(\u001b[0m\u001b[0mtolerance\u001b[0m\u001b[0;34m)\u001b[0m\u001b[0;34m:\u001b[0m\u001b[0;34m\u001b[0m\u001b[0;34m\u001b[0m\u001b[0m\n\u001b[1;32m   5918\u001b[0m             \u001b[0mtolerance\u001b[0m \u001b[0;34m=\u001b[0m \u001b[0mtolerance\u001b[0m\u001b[0;34m.\u001b[0m\u001b[0mvalue_in_unit\u001b[0m\u001b[0;34m(\u001b[0m\u001b[0munit\u001b[0m\u001b[0;34m.\u001b[0m\u001b[0mkilojoules_per_mole\u001b[0m\u001b[0;34m/\u001b[0m\u001b[0munit\u001b[0m\u001b[0;34m.\u001b[0m\u001b[0mnanometer\u001b[0m\u001b[0;34m)\u001b[0m\u001b[0;34m\u001b[0m\u001b[0;34m\u001b[0m\u001b[0m\n\u001b[1;32m   5919\u001b[0m \u001b[0;34m\u001b[0m\u001b[0m\n\u001b[1;32m   5920\u001b[0m \u001b[0;34m\u001b[0m\u001b[0m\n\u001b[0;32m-> 5921\u001b[0;31m         \u001b[0;32mreturn\u001b[0m \u001b[0m_openmm\u001b[0m\u001b[0;34m.\u001b[0m\u001b[0mLocalEnergyMinimizer_minimize\u001b[0m\u001b[0;34m(\u001b[0m\u001b[0mcontext\u001b[0m\u001b[0;34m,\u001b[0m \u001b[0mtolerance\u001b[0m\u001b[0;34m,\u001b[0m \u001b[0mmaxIterations\u001b[0m\u001b[0;34m,\u001b[0m \u001b[0mreporter\u001b[0m\u001b[0;34m)\u001b[0m\u001b[0;34m\u001b[0m\u001b[0;34m\u001b[0m\u001b[0m\n\u001b[0m",
      "\u001b[0;31mTypeError\u001b[0m: Wrong number or type of arguments for overloaded function 'LocalEnergyMinimizer_minimize'.\n  Possible C/C++ prototypes are:\n    OpenMM::LocalEnergyMinimizer::minimize(OpenMM::Context &,double,int,OpenMM::MinimizationReporter *)\n    OpenMM::LocalEnergyMinimizer::minimize(OpenMM::Context &,double,int)\n    OpenMM::LocalEnergyMinimizer::minimize(OpenMM::Context &,double)\n    OpenMM::LocalEnergyMinimizer::minimize(OpenMM::Context &)\n"
     ]
    }
   ],
   "source": [
    "simulation.minimizeEnergy(reporter=reporter)"
   ]
  },
  {
   "cell_type": "code",
   "execution_count": null,
   "id": "6389f9eb-9f34-449a-bbfe-ca2e28cd7556",
   "metadata": {},
   "outputs": [],
   "source": [
    "reporter.finalize()"
   ]
  },
  {
   "cell_type": "code",
   "execution_count": null,
   "id": "63e7c8b4-fda8-4ef2-924e-e2166b3571fc",
   "metadata": {},
   "outputs": [],
   "source": [
    "reporter._out.close()"
   ]
  },
  {
   "cell_type": "code",
   "execution_count": null,
   "id": "3c737195-0738-46d0-82a9-31e772fdb202",
   "metadata": {},
   "outputs": [],
   "source": [
    "traj_dict=reporter.finalize()"
   ]
  },
  {
   "cell_type": "code",
   "execution_count": null,
   "id": "59894e91-82de-4a0a-9811-d7a28fda5ad7",
   "metadata": {},
   "outputs": [],
   "source": [
    "state=simulation.context.getState(getEnergy=True)\n",
    "state.getPotentialEnergy()"
   ]
  },
  {
   "cell_type": "code",
   "execution_count": null,
   "id": "cf9535f5-6693-41c5-a5de-d6bc2cc66fe6",
   "metadata": {},
   "outputs": [],
   "source": [
    "msm.view(simulation)"
   ]
  },
  {
   "cell_type": "code",
   "execution_count": null,
   "id": "ee139c51-5501-4ad2-9e66-4f6cc829133d",
   "metadata": {},
   "outputs": [],
   "source": []
  }
 ],
 "metadata": {
  "kernelspec": {
   "display_name": "Python 3 (ipykernel)",
   "language": "python",
   "name": "python3"
  },
  "language_info": {
   "codemirror_mode": {
    "name": "ipython",
    "version": 3
   },
   "file_extension": ".py",
   "mimetype": "text/x-python",
   "name": "python",
   "nbconvert_exporter": "python",
   "pygments_lexer": "ipython3",
   "version": "3.12.8"
  }
 },
 "nbformat": 4,
 "nbformat_minor": 5
}
