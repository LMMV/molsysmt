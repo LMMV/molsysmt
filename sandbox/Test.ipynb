{
 "cells": [
  {
   "cell_type": "code",
   "execution_count": 1,
   "id": "15140b3f-bbbc-4222-8cc8-3ae87532b76a",
   "metadata": {
    "tags": []
   },
   "outputs": [
    {
     "data": {
      "application/vnd.jupyter.widget-view+json": {
       "model_id": "c1957ad3a90d4e37bd446f4a67870a0d",
       "version_major": 2,
       "version_minor": 0
      },
      "text/plain": []
     },
     "metadata": {},
     "output_type": "display_data"
    }
   ],
   "source": [
    "import molsysmt as msm"
   ]
  },
  {
   "cell_type": "code",
   "execution_count": 2,
   "id": "f5709590-1487-485c-a5ec-1f0d93c78be8",
   "metadata": {},
   "outputs": [],
   "source": [
    "molsys = msm.convert('pdb_id:181l', to_form='molsysmt.MolSys')"
   ]
  },
  {
   "cell_type": "code",
   "execution_count": 3,
   "id": "99fad073-7fcd-4086-b42d-a508baa25fe2",
   "metadata": {},
   "outputs": [],
   "source": [
    "molsys = msm.basic.remove(molsys, selection='group_type in [\"ion\", \"water\"]')"
   ]
  },
  {
   "cell_type": "code",
   "execution_count": 4,
   "id": "ab45997d-78fb-41e1-8eb8-d74e83a16e55",
   "metadata": {},
   "outputs": [],
   "source": [
    "molsys = msm.basic.remove(molsys, selection='atom_type==\"H\"')"
   ]
  },
  {
   "cell_type": "code",
   "execution_count": 5,
   "id": "6ecf36db-6734-45d7-8f4a-94f46a9fa5d9",
   "metadata": {},
   "outputs": [
    {
     "data": {
      "text/html": [
       "<style type=\"text/css\">\n",
       "</style>\n",
       "<table id=\"T_ca513\">\n",
       "  <thead>\n",
       "    <tr>\n",
       "      <th id=\"T_ca513_level0_col0\" class=\"col_heading level0 col0\" >form</th>\n",
       "      <th id=\"T_ca513_level0_col1\" class=\"col_heading level0 col1\" >n_atoms</th>\n",
       "      <th id=\"T_ca513_level0_col2\" class=\"col_heading level0 col2\" >n_groups</th>\n",
       "      <th id=\"T_ca513_level0_col3\" class=\"col_heading level0 col3\" >n_components</th>\n",
       "      <th id=\"T_ca513_level0_col4\" class=\"col_heading level0 col4\" >n_chains</th>\n",
       "      <th id=\"T_ca513_level0_col5\" class=\"col_heading level0 col5\" >n_molecules</th>\n",
       "      <th id=\"T_ca513_level0_col6\" class=\"col_heading level0 col6\" >n_entities</th>\n",
       "      <th id=\"T_ca513_level0_col7\" class=\"col_heading level0 col7\" >n_small_molecules</th>\n",
       "      <th id=\"T_ca513_level0_col8\" class=\"col_heading level0 col8\" >n_proteins</th>\n",
       "      <th id=\"T_ca513_level0_col9\" class=\"col_heading level0 col9\" >n_structures</th>\n",
       "    </tr>\n",
       "  </thead>\n",
       "  <tbody>\n",
       "    <tr>\n",
       "      <td id=\"T_ca513_row0_col0\" class=\"data row0 col0\" >molsysmt.MolSys</td>\n",
       "      <td id=\"T_ca513_row0_col1\" class=\"data row0 col1\" >1303</td>\n",
       "      <td id=\"T_ca513_row0_col2\" class=\"data row0 col2\" >164</td>\n",
       "      <td id=\"T_ca513_row0_col3\" class=\"data row0 col3\" >3</td>\n",
       "      <td id=\"T_ca513_row0_col4\" class=\"data row0 col4\" >3</td>\n",
       "      <td id=\"T_ca513_row0_col5\" class=\"data row0 col5\" >3</td>\n",
       "      <td id=\"T_ca513_row0_col6\" class=\"data row0 col6\" >3</td>\n",
       "      <td id=\"T_ca513_row0_col7\" class=\"data row0 col7\" >2</td>\n",
       "      <td id=\"T_ca513_row0_col8\" class=\"data row0 col8\" >1</td>\n",
       "      <td id=\"T_ca513_row0_col9\" class=\"data row0 col9\" >1</td>\n",
       "    </tr>\n",
       "  </tbody>\n",
       "</table>\n"
      ],
      "text/plain": [
       "<pandas.io.formats.style.Styler at 0x7ff28f90b7f0>"
      ]
     },
     "execution_count": 5,
     "metadata": {},
     "output_type": "execute_result"
    }
   ],
   "source": [
    "msm.info(molsys)"
   ]
  },
  {
   "cell_type": "code",
   "execution_count": 6,
   "id": "b2006850-9727-40b9-87d6-9ca813d2b4f8",
   "metadata": {},
   "outputs": [],
   "source": [
    "aa = msm.convert(molsys, to_form='pdbfixer.PDBFixer')"
   ]
  },
  {
   "cell_type": "code",
   "execution_count": null,
   "id": "3cd2c336-7e9e-442f-9f85-d24743791de6",
   "metadata": {},
   "outputs": [],
   "source": [
    "molsys = msm.build.add_missing_terminal_cappings(molsys, N_terminal='ACE', C_terminal='NME')"
   ]
  },
  {
   "cell_type": "code",
   "execution_count": null,
   "id": "4ce88ff1-8bd1-4834-b82f-9a455da69dfc",
   "metadata": {
    "tags": []
   },
   "outputs": [],
   "source": [
    "molsys = msm.build.add_missing_terminal_cappings(molsys, N_terminal='ACE', C_terminal='NME')\n",
    "molsys = msm.build.add_missing_hydrogens(molsys, pH=7.4)"
   ]
  },
  {
   "cell_type": "code",
   "execution_count": null,
   "id": "e403b871-ab8c-420f-a7f4-cbeab0d2a89f",
   "metadata": {},
   "outputs": [],
   "source": [
    "aa = msm.convert([molsys, {'forcefield':'AMBER14', 'water_model':'TIP3P'}], to_form='molsysmt.MolecularMechanics')"
   ]
  },
  {
   "cell_type": "code",
   "execution_count": null,
   "id": "c80faac4-c39e-4860-a8d3-07e0a6fef651",
   "metadata": {},
   "outputs": [],
   "source": [
    "aa.forcefield"
   ]
  },
  {
   "cell_type": "code",
   "execution_count": null,
   "id": "f97ce6d2-862e-421c-bfa3-d5906e7f212d",
   "metadata": {},
   "outputs": [],
   "source": [
    "msm.has_attribute([molsys, {'forcefield':'AMBER14', 'water_model':'TIP3P'}], 'kappa')"
   ]
  },
  {
   "cell_type": "code",
   "execution_count": null,
   "id": "535f58f5-8664-46a6-a69f-d678b545c2b2",
   "metadata": {},
   "outputs": [],
   "source": [
    "msm.where_is_attribute([molsys, {'forcefield':'AMBER14', 'water_model':'TIP3P'}], 'kappa')"
   ]
  },
  {
   "cell_type": "code",
   "execution_count": null,
   "id": "e918a9c7-6600-45c4-9cdf-b123b3e09e13",
   "metadata": {},
   "outputs": [],
   "source": [
    "molsys = msm.build.solvate([molsys, {'forcefield':'AMBER14', 'water_model':'TIP3P'}],\n",
    "                   box_shape='truncated octahedral', clearance='14.0 angstroms',\n",
    "                   to_form='molsysmt.MolSys', engine=\"OpenMM\")"
   ]
  },
  {
   "cell_type": "code",
   "execution_count": null,
   "id": "011b2546-251c-4d8b-8702-a6d75e862d4f",
   "metadata": {},
   "outputs": [],
   "source": [
    "molsys.molecular_mechanics.flexible_constraints"
   ]
  },
  {
   "cell_type": "code",
   "execution_count": null,
   "id": "4d1dba46-081d-49ad-83fe-8e3c32d0d5f9",
   "metadata": {},
   "outputs": [],
   "source": []
  }
 ],
 "metadata": {
  "kernelspec": {
   "display_name": "Python 3 (ipykernel)",
   "language": "python",
   "name": "python3"
  },
  "language_info": {
   "codemirror_mode": {
    "name": "ipython",
    "version": 3
   },
   "file_extension": ".py",
   "mimetype": "text/x-python",
   "name": "python",
   "nbconvert_exporter": "python",
   "pygments_lexer": "ipython3",
   "version": "3.9.15"
  }
 },
 "nbformat": 4,
 "nbformat_minor": 5
}
