{
 "cells": [
  {
   "cell_type": "code",
   "execution_count": 1,
   "id": "15140b3f-bbbc-4222-8cc8-3ae87532b76a",
   "metadata": {
    "tags": []
   },
   "outputs": [
    {
     "data": {
      "application/vnd.jupyter.widget-view+json": {
       "model_id": "ec2360379c454cde89dfc0254ec92e49",
       "version_major": 2,
       "version_minor": 0
      },
      "text/plain": []
     },
     "metadata": {},
     "output_type": "display_data"
    }
   ],
   "source": [
    "import molsysmt as msm"
   ]
  },
  {
   "cell_type": "code",
   "execution_count": 2,
   "id": "508dc6d0-9f89-488e-9e3a-1683f47722c5",
   "metadata": {
    "tags": []
   },
   "outputs": [],
   "source": [
    "molsys = msm.convert(msm.demo['chicken villin HP35']['vacuum.msmpk'], to_form='molsysmt.MolSys')"
   ]
  },
  {
   "cell_type": "code",
   "execution_count": 3,
   "id": "f3488c57-63be-4b7a-85fa-73fede3edc93",
   "metadata": {
    "tags": []
   },
   "outputs": [],
   "source": [
    "molsys = msm.build.add_missing_terminal_cappings(molsys)"
   ]
  },
  {
   "cell_type": "code",
   "execution_count": 4,
   "id": "810be967-ec50-4507-885d-7bccf8c50871",
   "metadata": {
    "tags": []
   },
   "outputs": [],
   "source": [
    "molsys = msm.build.add_missing_hydrogens(molsys)"
   ]
  },
  {
   "cell_type": "code",
   "execution_count": 5,
   "id": "c0b9ff73-95ab-4c60-b766-a915d99a15e6",
   "metadata": {
    "tags": []
   },
   "outputs": [],
   "source": [
    "molsys = msm.build.solvate(molsys,\n",
    "                           box_shape='cubic', clearance='14.0 angstroms',\n",
    "                           to_form='molsysmt.MolSys', engine=\"OpenMM\")"
   ]
  },
  {
   "cell_type": "code",
   "execution_count": null,
   "id": "c63ce5a6-71a3-4e85-b726-5d8b8ed955c9",
   "metadata": {
    "tags": []
   },
   "outputs": [],
   "source": [
    "n_waters, box_shape, n_ions = msm.get(molsys, element='system', n_waters=True, box_shape=True, n_ions=True)"
   ]
  },
  {
   "cell_type": "code",
   "execution_count": null,
   "id": "48f92a8c-31a7-444f-9159-bec956e862d0",
   "metadata": {
    "tags": []
   },
   "outputs": [],
   "source": [
    "n_waters, box_shape, n_ions = msm.get(molsys, element='system', n_waters=True, box_shape=True, n_ions=True)\n",
    "check_n_waters = (n_waters > 400)\n",
    "check_shape = ('cubic'==box_shape)\n",
    "check_n_ions = (n_ions==2)"
   ]
  },
  {
   "cell_type": "code",
   "execution_count": null,
   "id": "90066f13-7be9-407b-9f79-6ca712c83d36",
   "metadata": {
    "tags": []
   },
   "outputs": [],
   "source": [
    "check_n_ions"
   ]
  },
  {
   "cell_type": "code",
   "execution_count": null,
   "id": "01346562-1afb-40ba-b110-914290020f72",
   "metadata": {},
   "outputs": [],
   "source": [
    "    check_n_waters = (n_waters > 400)\n",
    "    check_shape = ('cubic'==box_shape)\n",
    "    check_n_ions = (n_ions==2)\n",
    "    assert check_n_waters and check_shape and check_n_ions"
   ]
  }
 ],
 "metadata": {
  "kernelspec": {
   "display_name": "Python 3 (ipykernel)",
   "language": "python",
   "name": "python3"
  },
  "language_info": {
   "codemirror_mode": {
    "name": "ipython",
    "version": 3
   },
   "file_extension": ".py",
   "mimetype": "text/x-python",
   "name": "python",
   "nbconvert_exporter": "python",
   "pygments_lexer": "ipython3",
   "version": "3.9.16"
  }
 },
 "nbformat": 4,
 "nbformat_minor": 5
}
