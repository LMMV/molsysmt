{
 "cells": [
  {
   "cell_type": "markdown",
   "id": "85d75849-5640-43b7-8b93-87cdbf6b8792",
   "metadata": {},
   "source": [
    "# Test"
   ]
  },
  {
   "cell_type": "code",
   "execution_count": 1,
   "id": "cc406dee-f551-4e0a-a80c-0917a334b0d6",
   "metadata": {},
   "outputs": [
    {
     "data": {
      "application/vnd.jupyter.widget-view+json": {
       "model_id": "e26870a34f864f3389e2fb44340ade6f",
       "version_major": 2,
       "version_minor": 0
      },
      "text/plain": []
     },
     "metadata": {},
     "output_type": "display_data"
    }
   ],
   "source": [
    "import molsysmt as msm"
   ]
  },
  {
   "cell_type": "code",
   "execution_count": 2,
   "id": "5b9602f9-f45d-4be0-bd00-8c1302b9c53b",
   "metadata": {},
   "outputs": [],
   "source": [
    "psf = msm.systems.demo['POPC']['popc.psf']\n",
    "crd = msm.systems.demo['POPC']['popc.crd']"
   ]
  },
  {
   "cell_type": "code",
   "execution_count": 3,
   "id": "ce8bb454-d696-4f67-ab53-bfd355d95592",
   "metadata": {},
   "outputs": [
    {
     "data": {
      "text/html": [
       "<style type=\"text/css\">\n",
       "</style>\n",
       "<table id=\"T_22168\">\n",
       "  <thead>\n",
       "    <tr>\n",
       "      <th id=\"T_22168_level0_col0\" class=\"col_heading level0 col0\" >form</th>\n",
       "      <th id=\"T_22168_level0_col1\" class=\"col_heading level0 col1\" >n_atoms</th>\n",
       "      <th id=\"T_22168_level0_col2\" class=\"col_heading level0 col2\" >n_groups</th>\n",
       "      <th id=\"T_22168_level0_col3\" class=\"col_heading level0 col3\" >n_components</th>\n",
       "      <th id=\"T_22168_level0_col4\" class=\"col_heading level0 col4\" >n_chains</th>\n",
       "      <th id=\"T_22168_level0_col5\" class=\"col_heading level0 col5\" >n_molecules</th>\n",
       "      <th id=\"T_22168_level0_col6\" class=\"col_heading level0 col6\" >n_entities</th>\n",
       "      <th id=\"T_22168_level0_col7\" class=\"col_heading level0 col7\" >n_structures</th>\n",
       "    </tr>\n",
       "  </thead>\n",
       "  <tbody>\n",
       "    <tr>\n",
       "      <td id=\"T_22168_row0_col0\" class=\"data row0 col0\" >['file:psf', 'file:crd']</td>\n",
       "      <td id=\"T_22168_row0_col1\" class=\"data row0 col1\" >134</td>\n",
       "      <td id=\"T_22168_row0_col2\" class=\"data row0 col2\" >1</td>\n",
       "      <td id=\"T_22168_row0_col3\" class=\"data row0 col3\" >0</td>\n",
       "      <td id=\"T_22168_row0_col4\" class=\"data row0 col4\" >1</td>\n",
       "      <td id=\"T_22168_row0_col5\" class=\"data row0 col5\" >0</td>\n",
       "      <td id=\"T_22168_row0_col6\" class=\"data row0 col6\" >0</td>\n",
       "      <td id=\"T_22168_row0_col7\" class=\"data row0 col7\" >1</td>\n",
       "    </tr>\n",
       "  </tbody>\n",
       "</table>\n"
      ],
      "text/plain": [
       "<pandas.io.formats.style.Styler at 0x7fce283d9d50>"
      ]
     },
     "execution_count": 3,
     "metadata": {},
     "output_type": "execute_result"
    }
   ],
   "source": [
    "msm.info([psf, crd])"
   ]
  },
  {
   "cell_type": "code",
   "execution_count": 4,
   "id": "717c7c28-35b9-4444-8c16-6d2d407e5ffc",
   "metadata": {},
   "outputs": [],
   "source": [
    "aaa = msm.convert([psf, crd])"
   ]
  },
  {
   "cell_type": "code",
   "execution_count": 5,
   "id": "178bfc02-6e4e-49fa-826e-443c7b3b8215",
   "metadata": {},
   "outputs": [
    {
     "data": {
      "text/html": [
       "<style type=\"text/css\">\n",
       "</style>\n",
       "<table id=\"T_2082b\">\n",
       "  <thead>\n",
       "    <tr>\n",
       "      <th id=\"T_2082b_level0_col0\" class=\"col_heading level0 col0\" >form</th>\n",
       "      <th id=\"T_2082b_level0_col1\" class=\"col_heading level0 col1\" >n_atoms</th>\n",
       "      <th id=\"T_2082b_level0_col2\" class=\"col_heading level0 col2\" >n_groups</th>\n",
       "      <th id=\"T_2082b_level0_col3\" class=\"col_heading level0 col3\" >n_components</th>\n",
       "      <th id=\"T_2082b_level0_col4\" class=\"col_heading level0 col4\" >n_chains</th>\n",
       "      <th id=\"T_2082b_level0_col5\" class=\"col_heading level0 col5\" >n_molecules</th>\n",
       "      <th id=\"T_2082b_level0_col6\" class=\"col_heading level0 col6\" >n_entities</th>\n",
       "      <th id=\"T_2082b_level0_col7\" class=\"col_heading level0 col7\" >n_lipids</th>\n",
       "      <th id=\"T_2082b_level0_col8\" class=\"col_heading level0 col8\" >n_structures</th>\n",
       "    </tr>\n",
       "  </thead>\n",
       "  <tbody>\n",
       "    <tr>\n",
       "      <td id=\"T_2082b_row0_col0\" class=\"data row0 col0\" >molsysmt.MolSys</td>\n",
       "      <td id=\"T_2082b_row0_col1\" class=\"data row0 col1\" >134</td>\n",
       "      <td id=\"T_2082b_row0_col2\" class=\"data row0 col2\" >1</td>\n",
       "      <td id=\"T_2082b_row0_col3\" class=\"data row0 col3\" >1</td>\n",
       "      <td id=\"T_2082b_row0_col4\" class=\"data row0 col4\" >1</td>\n",
       "      <td id=\"T_2082b_row0_col5\" class=\"data row0 col5\" >1</td>\n",
       "      <td id=\"T_2082b_row0_col6\" class=\"data row0 col6\" >1</td>\n",
       "      <td id=\"T_2082b_row0_col7\" class=\"data row0 col7\" >1</td>\n",
       "      <td id=\"T_2082b_row0_col8\" class=\"data row0 col8\" >1</td>\n",
       "    </tr>\n",
       "  </tbody>\n",
       "</table>\n"
      ],
      "text/plain": [
       "<pandas.io.formats.style.Styler at 0x7fce27ff40a0>"
      ]
     },
     "execution_count": 5,
     "metadata": {},
     "output_type": "execute_result"
    }
   ],
   "source": [
    "msm.info(aaa)"
   ]
  },
  {
   "cell_type": "code",
   "execution_count": null,
   "id": "6137c17a-7b66-4936-9259-93dec5d44e91",
   "metadata": {},
   "outputs": [],
   "source": []
  }
 ],
 "metadata": {
  "kernelspec": {
   "display_name": "Python 3 (ipykernel)",
   "language": "python",
   "name": "python3"
  },
  "language_info": {
   "codemirror_mode": {
    "name": "ipython",
    "version": 3
   },
   "file_extension": ".py",
   "mimetype": "text/x-python",
   "name": "python",
   "nbconvert_exporter": "python",
   "pygments_lexer": "ipython3",
   "version": "3.10.12"
  }
 },
 "nbformat": 4,
 "nbformat_minor": 5
}
