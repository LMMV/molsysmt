{
 "cells": [
  {
   "cell_type": "markdown",
   "id": "85d75849-5640-43b7-8b93-87cdbf6b8792",
   "metadata": {},
   "source": [
    "# Test"
   ]
  },
  {
   "cell_type": "code",
   "execution_count": 1,
   "id": "08aee8bc-0efe-44a5-9aa6-24131ae8137e",
   "metadata": {},
   "outputs": [
    {
     "data": {
      "application/vnd.jupyter.widget-view+json": {
       "model_id": "79873948033a4bfdb96bf71372f7998f",
       "version_major": 2,
       "version_minor": 0
      },
      "text/plain": []
     },
     "metadata": {},
     "output_type": "display_data"
    }
   ],
   "source": [
    "import molsysmt as msm"
   ]
  },
  {
   "cell_type": "code",
   "execution_count": 2,
   "id": "2b932271-fce9-4e09-86b6-7198bb322224",
   "metadata": {},
   "outputs": [
    {
     "data": {
      "text/plain": [
       "'file:msmh5'"
      ]
     },
     "execution_count": 2,
     "metadata": {},
     "output_type": "execute_result"
    }
   ],
   "source": [
    "msm.get_form('traj.msmh5')"
   ]
  },
  {
   "cell_type": "code",
   "execution_count": 5,
   "id": "af89aba5-62c5-4718-a355-2b8b591c1097",
   "metadata": {},
   "outputs": [],
   "source": [
    "aa = msm.convert('traj.msmh5', 'molsysmt.MSMH5FileHandler')"
   ]
  },
  {
   "cell_type": "code",
   "execution_count": 14,
   "id": "677e2b3f-a1db-48c8-b56e-e13fca4efe7f",
   "metadata": {},
   "outputs": [],
   "source": [
    "output = aa.file['topology']['atoms']['id'][:].astype('int64')"
   ]
  },
  {
   "cell_type": "code",
   "execution_count": 15,
   "id": "02853906-0d4d-485c-9f51-fd65f00b8d98",
   "metadata": {},
   "outputs": [
    {
     "data": {
      "text/plain": [
       "array([    1,     2,     3, ..., 44525, 44526, 44527])"
      ]
     },
     "execution_count": 15,
     "metadata": {},
     "output_type": "execute_result"
    }
   ],
   "source": [
    "output"
   ]
  },
  {
   "cell_type": "code",
   "execution_count": 4,
   "id": "93a36f08-4177-48d6-b4cc-ac5d71e98a0a",
   "metadata": {},
   "outputs": [
    {
     "data": {
      "text/plain": [
       "51"
      ]
     },
     "execution_count": 4,
     "metadata": {},
     "output_type": "execute_result"
    }
   ],
   "source": [
    "msm.get('traj.msmh5', element='system', n_structures=True)"
   ]
  },
  {
   "cell_type": "code",
   "execution_count": null,
   "id": "29eaa993-ce18-425e-b692-1a62dc1ccc6b",
   "metadata": {},
   "outputs": [],
   "source": []
  }
 ],
 "metadata": {
  "kernelspec": {
   "display_name": "Python 3 (ipykernel)",
   "language": "python",
   "name": "python3"
  },
  "language_info": {
   "codemirror_mode": {
    "name": "ipython",
    "version": 3
   },
   "file_extension": ".py",
   "mimetype": "text/x-python",
   "name": "python",
   "nbconvert_exporter": "python",
   "pygments_lexer": "ipython3",
   "version": "3.10.13"
  }
 },
 "nbformat": 4,
 "nbformat_minor": 5
}
