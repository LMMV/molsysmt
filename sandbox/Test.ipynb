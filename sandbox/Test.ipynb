{
 "cells": [
  {
   "cell_type": "markdown",
   "id": "85d75849-5640-43b7-8b93-87cdbf6b8792",
   "metadata": {},
   "source": [
    "# Test"
   ]
  },
  {
   "cell_type": "code",
   "execution_count": 1,
   "id": "cc406dee-f551-4e0a-a80c-0917a334b0d6",
   "metadata": {},
   "outputs": [
    {
     "data": {
      "application/vnd.jupyter.widget-view+json": {
       "model_id": "5ee221e5bfd941d8a9a226c8d46b16fc",
       "version_major": 2,
       "version_minor": 0
      },
      "text/plain": []
     },
     "metadata": {},
     "output_type": "display_data"
    }
   ],
   "source": [
    "import molsysmt as msm"
   ]
  },
  {
   "cell_type": "code",
   "execution_count": 2,
   "id": "5b9602f9-f45d-4be0-bd00-8c1302b9c53b",
   "metadata": {},
   "outputs": [],
   "source": [
    "molsys = msm.systems.demo['TcTIM']['1tcd.mmtf']"
   ]
  },
  {
   "cell_type": "code",
   "execution_count": 3,
   "id": "d4041918-a6de-4ccd-a980-3050c2b558a0",
   "metadata": {},
   "outputs": [],
   "source": [
    "molsys = msm.convert(molsys)"
   ]
  },
  {
   "cell_type": "code",
   "execution_count": 4,
   "id": "6ef1b26d-c66e-4af4-a99d-7b9e0e62ea82",
   "metadata": {},
   "outputs": [
    {
     "data": {
      "text/plain": [
       "array(['A', 'A', 'A', ..., 'D', 'D', 'D'], dtype=object)"
      ]
     },
     "execution_count": 4,
     "metadata": {},
     "output_type": "execute_result"
    }
   ],
   "source": [
    "msm.get(molsys, element='atom', chain_id=True)"
   ]
  },
  {
   "cell_type": "code",
   "execution_count": null,
   "id": "4dd69a1a-a055-4424-b253-c728a8868291",
   "metadata": {},
   "outputs": [],
   "source": [
    "msm.set(molsys, element='atom', chain_id='X')"
   ]
  },
  {
   "cell_type": "code",
   "execution_count": null,
   "id": "b277b085-aebd-4608-b0db-0ac6441d866b",
   "metadata": {},
   "outputs": [],
   "source": [
    "msm.get(molsys, element='atom', chain_id=True)"
   ]
  },
  {
   "cell_type": "code",
   "execution_count": null,
   "id": "ed66999f-e475-47e3-af87-c93a67cb855c",
   "metadata": {},
   "outputs": [],
   "source": [
    "msm.info(molsys, element='chain')"
   ]
  },
  {
   "cell_type": "code",
   "execution_count": 5,
   "id": "1e6dabfa-6fd2-46b8-8b58-bbec76b80e4b",
   "metadata": {},
   "outputs": [
    {
     "data": {
      "text/plain": [
       "array(['A', 'B', 'C', 'D'], dtype=object)"
      ]
     },
     "execution_count": 5,
     "metadata": {},
     "output_type": "execute_result"
    }
   ],
   "source": [
    "molsys.topology.atoms_dataframe['chain_id'].unique()"
   ]
  },
  {
   "cell_type": "code",
   "execution_count": 11,
   "id": "9a97d171-7f8e-4e66-ab74-5b2c8dba6fc2",
   "metadata": {},
   "outputs": [],
   "source": [
    "molsys.topology.atoms_dataframe.loc[100, 'chain_id']='X'"
   ]
  },
  {
   "cell_type": "code",
   "execution_count": 13,
   "id": "4212252d-a97d-4e97-bc70-d4f7ae682b0e",
   "metadata": {},
   "outputs": [],
   "source": [
    "aux = molsys.topology.atoms_dataframe['chain_id'].unique()"
   ]
  },
  {
   "cell_type": "code",
   "execution_count": 15,
   "id": "44ef4628-032b-4f6a-bcd4-ceb7eac05082",
   "metadata": {},
   "outputs": [
    {
     "name": "stdout",
     "output_type": "stream",
     "text": [
      "0 A\n",
      "1 X\n",
      "2 B\n",
      "3 C\n",
      "4 D\n"
     ]
    }
   ],
   "source": [
    "for ii,jj in enumerate(aux):\n",
    "    print(ii,jj)"
   ]
  },
  {
   "cell_type": "code",
   "execution_count": null,
   "id": "8aae1876-4f18-4a82-87c0-278502e385d3",
   "metadata": {},
   "outputs": [],
   "source": []
  }
 ],
 "metadata": {
  "kernelspec": {
   "display_name": "Python 3 (ipykernel)",
   "language": "python",
   "name": "python3"
  },
  "language_info": {
   "codemirror_mode": {
    "name": "ipython",
    "version": 3
   },
   "file_extension": ".py",
   "mimetype": "text/x-python",
   "name": "python",
   "nbconvert_exporter": "python",
   "pygments_lexer": "ipython3",
   "version": "3.10.12"
  }
 },
 "nbformat": 4,
 "nbformat_minor": 5
}
