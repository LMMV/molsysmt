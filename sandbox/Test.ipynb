{
 "cells": [
  {
   "cell_type": "code",
   "execution_count": 1,
   "id": "15140b3f-bbbc-4222-8cc8-3ae87532b76a",
   "metadata": {
    "tags": []
   },
   "outputs": [
    {
     "data": {
      "application/vnd.jupyter.widget-view+json": {
       "model_id": "c47a06a948394ceba2ef21f9dee7ba4e",
       "version_major": 2,
       "version_minor": 0
      },
      "text/plain": []
     },
     "metadata": {},
     "output_type": "display_data"
    }
   ],
   "source": [
    "import molsysmt as msm"
   ]
  },
  {
   "cell_type": "code",
   "execution_count": 2,
   "id": "f7f85d18-9f05-4186-af1c-0da3bb650a4b",
   "metadata": {},
   "outputs": [],
   "source": [
    "import nglview as nv"
   ]
  },
  {
   "cell_type": "code",
   "execution_count": null,
   "id": "bcd10883-d530-4f95-bf80-436926002e2b",
   "metadata": {},
   "outputs": [],
   "source": []
  },
  {
   "cell_type": "code",
   "execution_count": 3,
   "id": "d6edbac3-9928-4b9d-b2ad-efa45c373e29",
   "metadata": {},
   "outputs": [],
   "source": [
    "molsys = msm.demo['T4 lysozyme L99A']['vacuum.msmpk']"
   ]
  },
  {
   "cell_type": "code",
   "execution_count": 4,
   "id": "c97afb11-eecf-47d0-862b-cae1c0480ab5",
   "metadata": {},
   "outputs": [],
   "source": [
    "molsys_ref = msm.convert(molsys, to_form='molsysmt.MolSys')"
   ]
  },
  {
   "cell_type": "code",
   "execution_count": 5,
   "id": "a4319cdf-572e-4af0-8cf1-d855a5d4e8f6",
   "metadata": {},
   "outputs": [
    {
     "data": {
      "text/plain": [
       "'/home/diego/projects@dprada/MolSysMT/molsysmt/demo/t4_lysozyme_L99A/vacuum.msmpk'"
      ]
     },
     "execution_count": 5,
     "metadata": {},
     "output_type": "execute_result"
    }
   ],
   "source": [
    "molsys"
   ]
  },
  {
   "cell_type": "code",
   "execution_count": 6,
   "id": "5a069530-46f0-4746-b4c3-5271d1468774",
   "metadata": {},
   "outputs": [],
   "source": [
    "molsys = msm.convert(molsys, to_form='nglview.NGLWidget')"
   ]
  },
  {
   "cell_type": "code",
   "execution_count": 7,
   "id": "bc709221-23b0-4425-999e-bd6b6226b866",
   "metadata": {},
   "outputs": [
    {
     "data": {
      "text/plain": [
       "True"
      ]
     },
     "execution_count": 7,
     "metadata": {},
     "output_type": "execute_result"
    }
   ],
   "source": [
    "('nglview.NGLWidget'==msm.get_form(molsys))"
   ]
  },
  {
   "cell_type": "code",
   "execution_count": 8,
   "id": "153191ea-b3e2-4298-b665-7d49e827c072",
   "metadata": {},
   "outputs": [
    {
     "data": {
      "text/plain": [
       "[3, 1]"
      ]
     },
     "execution_count": 8,
     "metadata": {},
     "output_type": "execute_result"
    }
   ],
   "source": [
    "msm.get(molsys, element='system', n_molecules=True, n_structures=True)"
   ]
  },
  {
   "cell_type": "code",
   "execution_count": 9,
   "id": "65543ade-9962-4ac3-8229-640d37ae5dfb",
   "metadata": {},
   "outputs": [
    {
     "data": {
      "text/plain": [
       "[3, 1]"
      ]
     },
     "execution_count": 9,
     "metadata": {},
     "output_type": "execute_result"
    }
   ],
   "source": [
    "msm.get(molsys_ref, element='system', n_molecules=True, n_structures=True)"
   ]
  },
  {
   "cell_type": "code",
   "execution_count": 10,
   "id": "3cbc224f-e9f4-4c7b-98b3-589aa8dfab63",
   "metadata": {},
   "outputs": [
    {
     "ename": "NameError",
     "evalue": "name 'n_molecules' is not defined",
     "output_type": "error",
     "traceback": [
      "\u001b[0;31m---------------------------------------------------------------------------\u001b[0m",
      "\u001b[0;31mNameError\u001b[0m                                 Traceback (most recent call last)",
      "Cell \u001b[0;32mIn[10], line 1\u001b[0m\n\u001b[0;32m----> 1\u001b[0m (\u001b[43mn_molecules\u001b[49m\u001b[38;5;241m==\u001b[39mn_molecules_ref)\n",
      "\u001b[0;31mNameError\u001b[0m: name 'n_molecules' is not defined"
     ]
    }
   ],
   "source": [
    "(n_molecules==n_molecules_ref)"
   ]
  },
  {
   "cell_type": "code",
   "execution_count": null,
   "id": "fd63f8de-4414-4b17-9fe7-938ffca13f9b",
   "metadata": {},
   "outputs": [],
   "source": [
    "\n",
    "check = ('nglview.NGLWidget'==msm.get_form(molsys))\n",
    "n_molecules, n_structures = msm.get(molsys, element='system', n_molecules=True, n_structures=True)\n",
    "n_molecules_ref, n_structures_ref = msm.get(molsys_ref, element='system', n_molecules=True, n_structures=True)\n",
    "check_n_molecules = (n_molecules==n_molecules_ref)\n",
    "check_n_structures = (n_structures==n_structures_ref)\n"
   ]
  },
  {
   "cell_type": "code",
   "execution_count": null,
   "id": "e918a9c7-6600-45c4-9cdf-b123b3e09e13",
   "metadata": {
    "tags": []
   },
   "outputs": [],
   "source": [
    "molsys = msm.build.solvate([molsys, {'forcefield':'AMBER14', 'water_model':'TIP3P'}],\n",
    "                   box_shape='truncated octahedral', clearance='14.0 angstroms',\n",
    "                   to_form='molsysmt.MolSys', engine=\"OpenMM\")"
   ]
  },
  {
   "cell_type": "code",
   "execution_count": null,
   "id": "011b2546-251c-4d8b-8702-a6d75e862d4f",
   "metadata": {},
   "outputs": [],
   "source": [
    "molsys.molecular_mechanics.flexible_constraints"
   ]
  },
  {
   "cell_type": "code",
   "execution_count": null,
   "id": "14ec3c00-c6aa-49ce-9355-3cc627665701",
   "metadata": {
    "tags": []
   },
   "outputs": [],
   "source": [
    "import numpy as np"
   ]
  },
  {
   "cell_type": "code",
   "execution_count": null,
   "id": "4454b472-5479-4c4a-b2dc-606c1c553485",
   "metadata": {
    "tags": []
   },
   "outputs": [],
   "source": [
    "np.arange(0,10)"
   ]
  },
  {
   "cell_type": "code",
   "execution_count": null,
   "id": "24fa18b2-ed13-42f8-97b3-81267f079621",
   "metadata": {},
   "outputs": [],
   "source": [
    "list(range(2,0,-1))"
   ]
  },
  {
   "cell_type": "code",
   "execution_count": null,
   "id": "04962fbb-6f3f-41ad-83eb-a24845503071",
   "metadata": {},
   "outputs": [],
   "source": [
    "compare"
   ]
  },
  {
   "cell_type": "code",
   "execution_count": null,
   "id": "b39252fc-b883-43ed-a6f2-13c092e2e4fe",
   "metadata": {},
   "outputs": [],
   "source": [
    "import numpy as np"
   ]
  },
  {
   "cell_type": "code",
   "execution_count": null,
   "id": "43961adc-393b-4c43-87f0-434ba870f43c",
   "metadata": {},
   "outputs": [],
   "source": [
    "np.all([0,1,2]==[0,1,2])"
   ]
  },
  {
   "cell_type": "code",
   "execution_count": null,
   "id": "bd7ed6f6-fc5a-4082-90ab-f822ae9bcb7f",
   "metadata": {},
   "outputs": [],
   "source": []
  }
 ],
 "metadata": {
  "kernelspec": {
   "display_name": "Python 3 (ipykernel)",
   "language": "python",
   "name": "python3"
  },
  "language_info": {
   "codemirror_mode": {
    "name": "ipython",
    "version": 3
   },
   "file_extension": ".py",
   "mimetype": "text/x-python",
   "name": "python",
   "nbconvert_exporter": "python",
   "pygments_lexer": "ipython3",
   "version": "3.9.15"
  }
 },
 "nbformat": 4,
 "nbformat_minor": 5
}
