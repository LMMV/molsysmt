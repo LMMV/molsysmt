{
 "cells": [
  {
   "cell_type": "code",
   "execution_count": 1,
   "id": "15140b3f-bbbc-4222-8cc8-3ae87532b76a",
   "metadata": {
    "tags": []
   },
   "outputs": [
    {
     "data": {
      "application/vnd.jupyter.widget-view+json": {
       "model_id": "c81ede61d0044aefa206ae662f2aa4e9",
       "version_major": 2,
       "version_minor": 0
      },
      "text/plain": []
     },
     "metadata": {},
     "output_type": "display_data"
    }
   ],
   "source": [
    "import molsysmt as msm"
   ]
  },
  {
   "cell_type": "code",
   "execution_count": 2,
   "id": "2c262ad7-55c7-461a-8ac3-4dd428a46f06",
   "metadata": {
    "tags": []
   },
   "outputs": [
    {
     "data": {
      "text/plain": [
       "{'atom_index': False,\n",
       " 'atom_name': False,\n",
       " 'atom_id': False,\n",
       " 'atom_type': False,\n",
       " 'group_index': False,\n",
       " 'group_name': False,\n",
       " 'group_id': False,\n",
       " 'group_type': False,\n",
       " 'component_index': False,\n",
       " 'component_name': False,\n",
       " 'component_id': False,\n",
       " 'component_type': False,\n",
       " 'chain_index': False,\n",
       " 'chain_name': False,\n",
       " 'chain_id': False,\n",
       " 'chain_type': False,\n",
       " 'molecule_index': False,\n",
       " 'molecule_name': False,\n",
       " 'molecule_id': False,\n",
       " 'molecule_type': False,\n",
       " 'entity_index': False,\n",
       " 'entity_name': False,\n",
       " 'entity_id': False,\n",
       " 'entity_type': False,\n",
       " 'bond_index': False,\n",
       " 'bond_id': False,\n",
       " 'bond_type': False,\n",
       " 'bond_order': False,\n",
       " 'bonded_atoms': False,\n",
       " 'inner_bonded_atoms': False,\n",
       " 'inner_bond_index': False,\n",
       " 'n_atoms': False,\n",
       " 'n_groups': False,\n",
       " 'n_components': False,\n",
       " 'n_chains': False,\n",
       " 'n_molecules': False,\n",
       " 'n_entities': False,\n",
       " 'n_bonds': False,\n",
       " 'n_inner_bonds': False,\n",
       " 'n_aminoacids': False,\n",
       " 'n_nucleotides': False,\n",
       " 'n_ions': False,\n",
       " 'n_waters': False,\n",
       " 'n_small_molecules': False,\n",
       " 'n_peptides': False,\n",
       " 'n_proteins': False,\n",
       " 'n_dnas': False,\n",
       " 'n_rnas': False,\n",
       " 'n_lipids': False,\n",
       " 'n_oligosaccharides': False,\n",
       " 'n_saccharides': False,\n",
       " 'structure_index': False,\n",
       " 'structure_id': False,\n",
       " 'time': False,\n",
       " 'box': False,\n",
       " 'box_shape': False,\n",
       " 'box_angles': False,\n",
       " 'box_lengths': False,\n",
       " 'box_volume': False,\n",
       " 'coordinates': False,\n",
       " 'n_structures': False,\n",
       " 'occupance': False,\n",
       " 'alternate_location': False,\n",
       " 'b_factor': False,\n",
       " 'temperature': False,\n",
       " 'formal_charge': False,\n",
       " 'partial_charge': False,\n",
       " 'forcefield': False,\n",
       " 'non_bonded_method': False,\n",
       " 'cutoff_distance': False,\n",
       " 'switch_distance': False,\n",
       " 'dispersion_correction': False,\n",
       " 'ewald_error_tolerance': False,\n",
       " 'hydrogen_mass': False,\n",
       " 'constraints': False,\n",
       " 'flexible_constraints': False,\n",
       " 'water_model': False,\n",
       " 'rigid_water': False,\n",
       " 'implicit_solvent': False,\n",
       " 'solute_dielectric': False,\n",
       " 'solvent_dielectric': False,\n",
       " 'salt_concentration': False,\n",
       " 'kappa': False}"
      ]
     },
     "execution_count": 2,
     "metadata": {},
     "output_type": "execute_result"
    }
   ],
   "source": [
    "msm.form.file_h5.attributes"
   ]
  },
  {
   "cell_type": "code",
   "execution_count": null,
   "id": "f8ea1e69-79fd-417e-a13e-352588df76cf",
   "metadata": {},
   "outputs": [],
   "source": []
  }
 ],
 "metadata": {
  "kernelspec": {
   "display_name": "Python 3 (ipykernel)",
   "language": "python",
   "name": "python3"
  },
  "language_info": {
   "codemirror_mode": {
    "name": "ipython",
    "version": 3
   },
   "file_extension": ".py",
   "mimetype": "text/x-python",
   "name": "python",
   "nbconvert_exporter": "python",
   "pygments_lexer": "ipython3",
   "version": "3.9.16"
  }
 },
 "nbformat": 4,
 "nbformat_minor": 5
}
