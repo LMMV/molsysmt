{
 "cells": [
  {
   "cell_type": "markdown",
   "id": "85d75849-5640-43b7-8b93-87cdbf6b8792",
   "metadata": {},
   "source": [
    "# Test"
   ]
  },
  {
   "cell_type": "code",
   "execution_count": 1,
   "id": "08aee8bc-0efe-44a5-9aa6-24131ae8137e",
   "metadata": {},
   "outputs": [
    {
     "data": {
      "application/vnd.jupyter.widget-view+json": {
       "model_id": "6a76954369644935bbad1ecc4164df7f",
       "version_major": 2,
       "version_minor": 0
      },
      "text/plain": []
     },
     "metadata": {},
     "output_type": "display_data"
    }
   ],
   "source": [
    "import molsysmt as msm\n",
    "from molsysmt.systems import tests as tests_systems"
   ]
  },
  {
   "cell_type": "code",
   "execution_count": 2,
   "id": "66ab3386-d6fa-4f56-b783-c407383cf8c9",
   "metadata": {},
   "outputs": [],
   "source": [
    "molsys = msm.convert(tests_systems['chicken villin HP35']['chicken_villin_HP35_solvated.msmpk'], to_form='molsysmt.MolSys')"
   ]
  },
  {
   "cell_type": "code",
   "execution_count": 3,
   "id": "1ae40987-508b-4fb7-92e0-718d5c7a80da",
   "metadata": {},
   "outputs": [
    {
     "data": {
      "text/html": [
       "<style type=\"text/css\">\n",
       "</style>\n",
       "<table id=\"T_e12d4\">\n",
       "  <thead>\n",
       "    <tr>\n",
       "      <th id=\"T_e12d4_level0_col0\" class=\"col_heading level0 col0\" >form</th>\n",
       "      <th id=\"T_e12d4_level0_col1\" class=\"col_heading level0 col1\" >n_atoms</th>\n",
       "      <th id=\"T_e12d4_level0_col2\" class=\"col_heading level0 col2\" >n_groups</th>\n",
       "      <th id=\"T_e12d4_level0_col3\" class=\"col_heading level0 col3\" >n_components</th>\n",
       "      <th id=\"T_e12d4_level0_col4\" class=\"col_heading level0 col4\" >n_chains</th>\n",
       "      <th id=\"T_e12d4_level0_col5\" class=\"col_heading level0 col5\" >n_molecules</th>\n",
       "      <th id=\"T_e12d4_level0_col6\" class=\"col_heading level0 col6\" >n_entities</th>\n",
       "      <th id=\"T_e12d4_level0_col7\" class=\"col_heading level0 col7\" >n_waters</th>\n",
       "      <th id=\"T_e12d4_level0_col8\" class=\"col_heading level0 col8\" >n_ions</th>\n",
       "      <th id=\"T_e12d4_level0_col9\" class=\"col_heading level0 col9\" >n_peptides</th>\n",
       "      <th id=\"T_e12d4_level0_col10\" class=\"col_heading level0 col10\" >n_structures</th>\n",
       "    </tr>\n",
       "  </thead>\n",
       "  <tbody>\n",
       "    <tr>\n",
       "      <td id=\"T_e12d4_row0_col0\" class=\"data row0 col0\" >molsysmt.MolSys</td>\n",
       "      <td id=\"T_e12d4_row0_col1\" class=\"data row0 col1\" >5050</td>\n",
       "      <td id=\"T_e12d4_row0_col2\" class=\"data row0 col2\" >1521</td>\n",
       "      <td id=\"T_e12d4_row0_col3\" class=\"data row0 col3\" >1484</td>\n",
       "      <td id=\"T_e12d4_row0_col4\" class=\"data row0 col4\" >3</td>\n",
       "      <td id=\"T_e12d4_row0_col5\" class=\"data row0 col5\" >1484</td>\n",
       "      <td id=\"T_e12d4_row0_col6\" class=\"data row0 col6\" >1</td>\n",
       "      <td id=\"T_e12d4_row0_col7\" class=\"data row0 col7\" >1481</td>\n",
       "      <td id=\"T_e12d4_row0_col8\" class=\"data row0 col8\" >2</td>\n",
       "      <td id=\"T_e12d4_row0_col9\" class=\"data row0 col9\" >1</td>\n",
       "      <td id=\"T_e12d4_row0_col10\" class=\"data row0 col10\" >1</td>\n",
       "    </tr>\n",
       "  </tbody>\n",
       "</table>\n"
      ],
      "text/plain": [
       "<pandas.io.formats.style.Styler at 0x7f71d8288820>"
      ]
     },
     "execution_count": 3,
     "metadata": {},
     "output_type": "execute_result"
    }
   ],
   "source": [
    "msm.info(molsys)"
   ]
  },
  {
   "cell_type": "code",
   "execution_count": null,
   "id": "3a458c82-e637-4f64-b3ff-2cadd0500128",
   "metadata": {},
   "outputs": [],
   "source": []
  }
 ],
 "metadata": {
  "kernelspec": {
   "display_name": "Python 3 (ipykernel)",
   "language": "python",
   "name": "python3"
  },
  "language_info": {
   "codemirror_mode": {
    "name": "ipython",
    "version": 3
   },
   "file_extension": ".py",
   "mimetype": "text/x-python",
   "name": "python",
   "nbconvert_exporter": "python",
   "pygments_lexer": "ipython3",
   "version": "3.10.12"
  }
 },
 "nbformat": 4,
 "nbformat_minor": 5
}
