{
 "cells": [
  {
   "cell_type": "markdown",
   "id": "85d75849-5640-43b7-8b93-87cdbf6b8792",
   "metadata": {},
   "source": [
    "# Test"
   ]
  },
  {
   "cell_type": "code",
   "execution_count": 1,
   "id": "08aee8bc-0efe-44a5-9aa6-24131ae8137e",
   "metadata": {},
   "outputs": [
    {
     "data": {
      "application/vnd.jupyter.widget-view+json": {
       "model_id": "b0e47ad849bd41b09028bda04d1a0fdf",
       "version_major": 2,
       "version_minor": 0
      },
      "text/plain": []
     },
     "metadata": {},
     "output_type": "display_data"
    }
   ],
   "source": [
    "import molsysmt as msm"
   ]
  },
  {
   "cell_type": "code",
   "execution_count": 2,
   "id": "4ad7bc96-0f77-4bb5-bfa0-fa5296ed5d3d",
   "metadata": {},
   "outputs": [],
   "source": [
    "import openmm as mm\n",
    "from openmm import app\n",
    "from openmm import unit"
   ]
  },
  {
   "cell_type": "code",
   "execution_count": 3,
   "id": "fb99ac8c-b8d1-4b7c-9fcd-5232289b8732",
   "metadata": {},
   "outputs": [],
   "source": [
    "molsys = msm.convert('4POC')"
   ]
  },
  {
   "cell_type": "code",
   "execution_count": 4,
   "id": "046c5eec-7ab2-409c-9291-da9c19e67728",
   "metadata": {},
   "outputs": [],
   "source": [
    "molsys = msm.extract(molsys, selection='molecule_type==\"protein\"')"
   ]
  },
  {
   "cell_type": "code",
   "execution_count": 5,
   "id": "72ecea0d-a32d-49da-b929-2ceb66136b8e",
   "metadata": {},
   "outputs": [],
   "source": [
    "molsys = msm.build.add_missing_hydrogens(molsys)"
   ]
  },
  {
   "cell_type": "code",
   "execution_count": 6,
   "id": "5b5471e7-546b-40fc-8bae-e4efd798a3fc",
   "metadata": {},
   "outputs": [],
   "source": [
    "molsys = msm.build.solvate(molsys)"
   ]
  },
  {
   "cell_type": "code",
   "execution_count": 7,
   "id": "faf46e30-3984-462d-b82a-67fa375d0dad",
   "metadata": {},
   "outputs": [],
   "source": [
    "forcefield = app.ForceField('amber14-all.xml', 'amber14/tip3p.xml')"
   ]
  },
  {
   "cell_type": "code",
   "execution_count": 8,
   "id": "610249ba-1992-4457-aa75-90f8ec791d9c",
   "metadata": {},
   "outputs": [],
   "source": [
    "topology = msm.convert(molsys, 'openmm.Topology')"
   ]
  },
  {
   "cell_type": "code",
   "execution_count": 9,
   "id": "a64d8439-6611-4129-9a4d-993cbf83ce67",
   "metadata": {},
   "outputs": [],
   "source": [
    "system = forcefield.createSystem(topology, nonbondedMethod=app.PME,\n",
    "        nonbondedCutoff=1.2*unit.nanometer, constraints=app.HBonds)"
   ]
  },
  {
   "cell_type": "code",
   "execution_count": 10,
   "id": "fc909c3f-345d-4c1f-b5f8-eb71eb22bf76",
   "metadata": {},
   "outputs": [],
   "source": [
    "integrator = mm.LangevinIntegrator(300*unit.kelvin, 1.0/unit.picosecond, 2.0*unit.femtoseconds)"
   ]
  },
  {
   "cell_type": "code",
   "execution_count": 11,
   "id": "a722c9e4-cfca-43f8-8710-1c028aea6569",
   "metadata": {},
   "outputs": [],
   "source": [
    "platform = mm.Platform.getPlatformByName(\"CPU\")"
   ]
  },
  {
   "cell_type": "code",
   "execution_count": 12,
   "id": "4102c0c6-7d97-4964-bbe9-f24356e97b08",
   "metadata": {},
   "outputs": [],
   "source": [
    "simulation = app.Simulation(topology, system, integrator, platform)"
   ]
  },
  {
   "cell_type": "code",
   "execution_count": 13,
   "id": "b3cbdb1e-1eb1-430e-be46-7b20a9e3928e",
   "metadata": {},
   "outputs": [],
   "source": [
    "coordinates = msm.get(molsys, coordinates=True)\n",
    "positions = msm.pyunitwizard.convert(coordinates[0], to_form='openmm.unit')"
   ]
  },
  {
   "cell_type": "code",
   "execution_count": 14,
   "id": "ec61ac73-777e-4d22-b3d7-cbc32b4a8cac",
   "metadata": {},
   "outputs": [],
   "source": [
    "simulation.context.setPositions(positions)\n",
    "simulation.minimizeEnergy()"
   ]
  },
  {
   "cell_type": "code",
   "execution_count": 15,
   "id": "21c83228-ba57-450b-967b-b7b6195e2a1a",
   "metadata": {},
   "outputs": [],
   "source": [
    "from molsysmt.thirds.openmm.reporters import MolSysMTTrajectoryDictReporter"
   ]
  },
  {
   "cell_type": "code",
   "execution_count": 16,
   "id": "7282a59c-8f33-45e9-914d-878659a93cac",
   "metadata": {},
   "outputs": [],
   "source": [
    "reporter = MolSysMTTrajectoryDictReporter(10)"
   ]
  },
  {
   "cell_type": "code",
   "execution_count": 17,
   "id": "341caca1-69fa-405b-b600-04d5f706c2fb",
   "metadata": {},
   "outputs": [],
   "source": [
    "simulation.reporters.append(reporter)"
   ]
  },
  {
   "cell_type": "code",
   "execution_count": 18,
   "id": "330346e6-fd22-4fb6-b37e-e399d5c4b054",
   "metadata": {},
   "outputs": [],
   "source": [
    "simulation.step(100)"
   ]
  },
  {
   "cell_type": "code",
   "execution_count": 19,
   "id": "698f41f6-803c-4865-a581-40fc5bbb4dd2",
   "metadata": {},
   "outputs": [],
   "source": [
    "traj = reporter.finalize()"
   ]
  },
  {
   "cell_type": "code",
   "execution_count": 20,
   "id": "bba307ec-7e89-4468-9ca0-cfb4750268db",
   "metadata": {},
   "outputs": [
    {
     "data": {
      "text/plain": [
       "{'time': Quantity(value=array([0.  , 0.02, 0.04, 0.06, 0.08, 0.1 , 0.12, 0.14, 0.16, 0.18, 0.2 ]), unit=picosecond),\n",
       " 'coordinates': Quantity(value=array([[[-0.45974578, -1.7492454 , -0.41946606],\n",
       "         [-0.54349788, -1.69396129, -0.40805317],\n",
       "         [-0.44343834, -1.80360854, -0.33592137],\n",
       "         ...,\n",
       "         [ 5.71245086, -0.83405943,  2.776235  ],\n",
       "         [-1.92531895, -2.0580962 ,  3.29697089],\n",
       "         [ 5.83888242, -1.61575717,  5.65570512]],\n",
       " \n",
       "        [[ 2.38045406,  6.28400774, -0.41962602],\n",
       "         [ 2.29794749,  6.34079759, -0.40664218],\n",
       "         [ 2.39939293,  6.22837663, -0.33748285],\n",
       "         ...,\n",
       "         [ 0.03252015,  7.19882329,  2.77531392],\n",
       "         [ 0.9143502 ,  5.97455063,  3.29787384],\n",
       "         [ 0.15883804,  6.41684034,  5.65552087]],\n",
       " \n",
       "        [[ 2.38009286,  6.28396525, -0.41958003],\n",
       "         [ 2.29745588,  6.34047984, -0.40622964],\n",
       "         [ 2.39935355,  6.22379059, -0.34078257],\n",
       "         ...,\n",
       "         [ 0.0310489 ,  7.19953919,  2.77491244],\n",
       "         [ 0.91378012,  5.9744004 ,  3.29886113],\n",
       "         [ 0.15724389,  6.41634945,  5.65356606]],\n",
       " \n",
       "        ...,\n",
       " \n",
       "        [[ 2.37584481,  6.29040361, -0.42262477],\n",
       "         [ 2.29412979,  6.34851653, -0.41051927],\n",
       "         [ 2.39128518,  6.23417047, -0.34016006],\n",
       "         ...,\n",
       "         [ 0.02357504,  7.19708297,  2.78455761],\n",
       "         [ 0.91273216,  5.96867117,  3.29712374],\n",
       "         [ 0.14261155,  6.40521459,  5.64380778]],\n",
       " \n",
       "        [[ 2.37609239,  6.28909375, -0.42234362],\n",
       "         [ 2.29373196,  6.34538327, -0.40655603],\n",
       "         [ 2.3913465 ,  6.23010498, -0.34179154],\n",
       "         ...,\n",
       "         [ 0.02486248,  7.19673447,  2.78655207],\n",
       "         [ 0.91227475,  5.96986986,  3.29727845],\n",
       "         [ 0.13876128,  6.4045164 ,  5.63963932]],\n",
       " \n",
       "        [[ 2.3779818 ,  6.29256986, -0.42192989],\n",
       "         [ 2.2989498 ,  6.35400932, -0.40850833],\n",
       "         [ 2.39243175,  6.24157439, -0.33595513],\n",
       "         ...,\n",
       "         [ 0.02685186,  7.19658334,  2.78651018],\n",
       "         [ 0.91222093,  5.97191723,  3.29658558],\n",
       "         [ 0.13421656,  6.40404302,  5.63793294]]]), unit=nanometer)}"
      ]
     },
     "execution_count": 20,
     "metadata": {},
     "output_type": "execute_result"
    }
   ],
   "source": [
    "traj"
   ]
  },
  {
   "cell_type": "code",
   "execution_count": 25,
   "id": "31117455-d921-49a8-a5f6-e4758605d58a",
   "metadata": {},
   "outputs": [
    {
     "data": {
      "text/plain": [
       "Quantity(value=0.002, unit=picosecond)"
      ]
     },
     "execution_count": 25,
     "metadata": {},
     "output_type": "execute_result"
    }
   ],
   "source": [
    "simulation.integrator.getStepSize()"
   ]
  },
  {
   "cell_type": "code",
   "execution_count": 27,
   "id": "e13cb4ef-c6c6-48f4-be0d-d503a7805dc5",
   "metadata": {},
   "outputs": [
    {
     "data": {
      "text/plain": [
       "0"
      ]
     },
     "execution_count": 27,
     "metadata": {},
     "output_type": "execute_result"
    }
   ],
   "source": [
    "int(0.6)"
   ]
  },
  {
   "cell_type": "code",
   "execution_count": null,
   "id": "4e0f2b4c-4248-4555-ba73-ad3cf315fb89",
   "metadata": {},
   "outputs": [],
   "source": []
  }
 ],
 "metadata": {
  "kernelspec": {
   "display_name": "Python 3 (ipykernel)",
   "language": "python",
   "name": "python3"
  },
  "language_info": {
   "codemirror_mode": {
    "name": "ipython",
    "version": 3
   },
   "file_extension": ".py",
   "mimetype": "text/x-python",
   "name": "python",
   "nbconvert_exporter": "python",
   "pygments_lexer": "ipython3",
   "version": "3.10.12"
  }
 },
 "nbformat": 4,
 "nbformat_minor": 5
}
