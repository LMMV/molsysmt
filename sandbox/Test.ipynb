{
 "cells": [
  {
   "cell_type": "code",
   "execution_count": 1,
   "id": "15140b3f-bbbc-4222-8cc8-3ae87532b76a",
   "metadata": {
    "tags": []
   },
   "outputs": [
    {
     "data": {
      "application/vnd.jupyter.widget-view+json": {
       "model_id": "eedb0e38ae824360aca0c9a5ea045b6c",
       "version_major": 2,
       "version_minor": 0
      },
      "text/plain": []
     },
     "metadata": {},
     "output_type": "display_data"
    }
   ],
   "source": [
    "import molsysmt as msm"
   ]
  },
  {
   "cell_type": "code",
   "execution_count": 2,
   "id": "c1604ef7-fff1-498e-85a2-3a7f0c77573b",
   "metadata": {
    "tags": []
   },
   "outputs": [],
   "source": [
    "prmtop_file = msm.demo['pentalanine']['pentalanine.prmtop']\n",
    "inpcrd_file = msm.demo['pentalanine']['pentalanine.inpcrd']"
   ]
  },
  {
   "cell_type": "code",
   "execution_count": 3,
   "id": "e4ccc5df-e0ca-448c-b70a-3de122a109bc",
   "metadata": {
    "tags": []
   },
   "outputs": [
    {
     "name": "stdout",
     "output_type": "stream",
     "text": [
      "{'file:prmtop': {'input_arguments': {'component_type', 'velocities', 'box', 'flexible_constraints', 'solvent_dielectric', 'forcefield', 'implicit_solvent', 'hydrogen_mass', 'entity_id', 'non_bonded_method', 'constraints', 'cutoff_distance', 'component_id', 'water_model', 'solute_dielectric', 'item', 'entity_name', 'component_name', 'salt_concentration', 'formal_charge', 'coordinates', 'kappa', 'structure_id', 'rigid_water', 'partial_charge', 'time', 'entity_type', 'switch_distance', 'dispersion_correction', 'ewald_error_tolerance'}, 'attributes_in_form': {'atom_id', 'molecule_index', 'box', 'chain_index', 'bond_name', 'group_id', 'atom_type', 'box_volumes', 'bond_type', 'group_index', 'atom_name', 'component_index', 'molecule_name', 'bond_index', 'bond_id', 'inner_bond_index', 'chain_id', 'group_name', 'bonded_atoms', 'group_type', 'bond_order', 'inner_bonded_atoms', 'chain_name', 'chain_type', 'molecule_id', 'molecule_type'}, 'attributes_in_other_forms': {'velocities': '/home/diego/projects@dprada/MolSysMT/molsysmt/demo/pentalanine/pentalanine.inpcrd', 'coordinates': '/home/diego/projects@dprada/MolSysMT/molsysmt/demo/pentalanine/pentalanine.inpcrd', 'structure_id': '/home/diego/projects@dprada/MolSysMT/molsysmt/demo/pentalanine/pentalanine.inpcrd'}, 'repeated_attributes': {'box': '/home/diego/projects@dprada/MolSysMT/molsysmt/demo/pentalanine/pentalanine.inpcrd'}, 'status_input_attributes': True, 'status_set_attributes': False}}\n"
     ]
    },
    {
     "ename": "NotImplementedConversionError",
     "evalue": "Error in conversion from ['file:prmtop', 'file:inpcrd'] to molsysmt.MolSys",
     "output_type": "error",
     "traceback": [
      "\u001b[0;31m---------------------------------------------------------------------------\u001b[0m",
      "\u001b[0;31mNotImplementedConversionError\u001b[0m             Traceback (most recent call last)",
      "Cell \u001b[0;32mIn[3], line 1\u001b[0m\n\u001b[0;32m----> 1\u001b[0m molsys \u001b[38;5;241m=\u001b[39m \u001b[43mmsm\u001b[49m\u001b[38;5;241;43m.\u001b[39;49m\u001b[43mconvert\u001b[49m\u001b[43m(\u001b[49m\u001b[43m[\u001b[49m\u001b[43mprmtop_file\u001b[49m\u001b[43m,\u001b[49m\u001b[43m \u001b[49m\u001b[43minpcrd_file\u001b[49m\u001b[43m]\u001b[49m\u001b[43m,\u001b[49m\u001b[43m \u001b[49m\u001b[43mto_form\u001b[49m\u001b[38;5;241;43m=\u001b[39;49m\u001b[38;5;124;43m'\u001b[39;49m\u001b[38;5;124;43mmolsysmt.MolSys\u001b[39;49m\u001b[38;5;124;43m'\u001b[39;49m\u001b[43m)\u001b[49m\n",
      "File \u001b[0;32m~/projects@dprada/MolSysMT/molsysmt/_private/digestion/digest.py:116\u001b[0m, in \u001b[0;36mdigest.<locals>.digestor.<locals>.wrapper\u001b[0;34m(*args, **kwargs)\u001b[0m\n\u001b[1;32m    114\u001b[0m     \u001b[38;5;28;01mreturn\u001b[39;00m func(all_args[\u001b[38;5;124m'\u001b[39m\u001b[38;5;124mself\u001b[39m\u001b[38;5;124m'\u001b[39m], \u001b[38;5;241m*\u001b[39m\u001b[38;5;241m*\u001b[39mfinal_args)\n\u001b[1;32m    115\u001b[0m \u001b[38;5;28;01melse\u001b[39;00m:\n\u001b[0;32m--> 116\u001b[0m     \u001b[38;5;28;01mreturn\u001b[39;00m \u001b[43mfunc\u001b[49m\u001b[43m(\u001b[49m\u001b[38;5;241;43m*\u001b[39;49m\u001b[38;5;241;43m*\u001b[39;49m\u001b[43mfinal_args\u001b[49m\u001b[43m)\u001b[49m\n",
      "File \u001b[0;32m~/projects@dprada/MolSysMT/molsysmt/basic/convert.py:297\u001b[0m, in \u001b[0;36mconvert\u001b[0;34m(molecular_system, to_form, selection, structure_indices, syntax, **kwargs)\u001b[0m\n\u001b[1;32m    295\u001b[0m     \u001b[38;5;28;01mif\u001b[39;00m \u001b[38;5;28mlen\u001b[39m(from_form)\u001b[38;5;241m==\u001b[39m\u001b[38;5;241m1\u001b[39m:\n\u001b[1;32m    296\u001b[0m         from_form\u001b[38;5;241m=\u001b[39mfrom_form[\u001b[38;5;241m0\u001b[39m]\n\u001b[0;32m--> 297\u001b[0m     \u001b[38;5;28;01mraise\u001b[39;00m NotImplementedConversionError(from_form, to_form)\n\u001b[1;32m    299\u001b[0m \u001b[38;5;28;01mif\u001b[39;00m \u001b[38;5;28misinstance\u001b[39m(tmp_item, (\u001b[38;5;28mlist\u001b[39m, \u001b[38;5;28mtuple\u001b[39m)):\n\u001b[1;32m    300\u001b[0m     \u001b[38;5;28;01mif\u001b[39;00m \u001b[38;5;28mlen\u001b[39m(tmp_item) \u001b[38;5;241m==\u001b[39m \u001b[38;5;241m1\u001b[39m:\n",
      "\u001b[0;31mNotImplementedConversionError\u001b[0m: Error in conversion from ['file:prmtop', 'file:inpcrd'] to molsysmt.MolSys"
     ]
    }
   ],
   "source": [
    "molsys = msm.convert([prmtop_file, inpcrd_file], to_form='molsysmt.MolSys')"
   ]
  },
  {
   "cell_type": "code",
   "execution_count": null,
   "id": "fff6265c-160b-45ec-9acc-c377c5b11342",
   "metadata": {
    "tags": []
   },
   "outputs": [],
   "source": [
    "aa = inspect.signature(msm.convert)"
   ]
  },
  {
   "cell_type": "code",
   "execution_count": null,
   "id": "1aa43d4e-2fc5-4103-b130-8e0053fe0985",
   "metadata": {
    "tags": []
   },
   "outputs": [],
   "source": [
    "list(aa.parameters)"
   ]
  },
  {
   "cell_type": "code",
   "execution_count": null,
   "id": "c4a409f8-35dc-4d6b-b6be-1efcbad47417",
   "metadata": {
    "tags": []
   },
   "outputs": [],
   "source": [
    "aa = set([0,1,2,3,4])"
   ]
  },
  {
   "cell_type": "code",
   "execution_count": null,
   "id": "f3fd5ab3-8817-4f38-b171-8e3dcf662d57",
   "metadata": {
    "tags": []
   },
   "outputs": [],
   "source": [
    "aa.discard(0,1,2)"
   ]
  },
  {
   "cell_type": "code",
   "execution_count": null,
   "id": "82f297ea-8117-44ee-a3e9-0e41dadbb463",
   "metadata": {
    "tags": []
   },
   "outputs": [],
   "source": [
    "aa = 'asdf'"
   ]
  },
  {
   "cell_type": "code",
   "execution_count": null,
   "id": "4e4b6fec-b45d-4733-9210-fb602751b885",
   "metadata": {},
   "outputs": [],
   "source": [
    "aa.st"
   ]
  },
  {
   "cell_type": "code",
   "execution_count": null,
   "id": "e403b871-ab8c-420f-a7f4-cbeab0d2a89f",
   "metadata": {},
   "outputs": [],
   "source": [
    "aa = msm.convert([molsys, {'forcefield':'AMBER14', 'water_model':'TIP3P'}], to_form='molsysmt.MolecularMechanics')"
   ]
  },
  {
   "cell_type": "code",
   "execution_count": null,
   "id": "c80faac4-c39e-4860-a8d3-07e0a6fef651",
   "metadata": {},
   "outputs": [],
   "source": [
    "aa.forcefield"
   ]
  },
  {
   "cell_type": "code",
   "execution_count": null,
   "id": "f97ce6d2-862e-421c-bfa3-d5906e7f212d",
   "metadata": {},
   "outputs": [],
   "source": [
    "msm.has_attribute([molsys, {'forcefield':'AMBER14', 'water_model':'TIP3P'}], 'kappa')"
   ]
  },
  {
   "cell_type": "code",
   "execution_count": null,
   "id": "535f58f5-8664-46a6-a69f-d678b545c2b2",
   "metadata": {},
   "outputs": [],
   "source": [
    "msm.where_is_attribute([molsys, {'forcefield':'AMBER14', 'water_model':'TIP3P'}], 'kappa')"
   ]
  },
  {
   "cell_type": "code",
   "execution_count": null,
   "id": "e918a9c7-6600-45c4-9cdf-b123b3e09e13",
   "metadata": {},
   "outputs": [],
   "source": [
    "molsys = msm.build.solvate([molsys, {'forcefield':'AMBER14', 'water_model':'TIP3P'}],\n",
    "                   box_shape='truncated octahedral', clearance='14.0 angstroms',\n",
    "                   to_form='molsysmt.MolSys', engine=\"OpenMM\")"
   ]
  },
  {
   "cell_type": "code",
   "execution_count": null,
   "id": "011b2546-251c-4d8b-8702-a6d75e862d4f",
   "metadata": {},
   "outputs": [],
   "source": [
    "molsys.molecular_mechanics.flexible_constraints"
   ]
  },
  {
   "cell_type": "code",
   "execution_count": null,
   "id": "4d1dba46-081d-49ad-83fe-8e3c32d0d5f9",
   "metadata": {
    "tags": []
   },
   "outputs": [],
   "source": [
    "aa = {}"
   ]
  },
  {
   "cell_type": "code",
   "execution_count": null,
   "id": "a936a83d-0fc9-41ca-86e8-bebd6945da08",
   "metadata": {
    "tags": []
   },
   "outputs": [],
   "source": [
    "aa[('asdf','dfsdf')]=3"
   ]
  },
  {
   "cell_type": "code",
   "execution_count": null,
   "id": "fa4976cd-6ecd-4226-88c1-7bcbbab87a02",
   "metadata": {
    "tags": []
   },
   "outputs": [],
   "source": [
    "aa = ('gsdf','dfsdf')"
   ]
  },
  {
   "cell_type": "code",
   "execution_count": null,
   "id": "c149a83d-54e1-4a10-bada-5ed9fdc8c7dd",
   "metadata": {
    "tags": []
   },
   "outputs": [],
   "source": [
    "tuple(sorted(aa))"
   ]
  },
  {
   "cell_type": "code",
   "execution_count": null,
   "id": "b42f7d35-5b2d-4797-bbef-2e5b154c6fba",
   "metadata": {},
   "outputs": [],
   "source": [
    "list(range(6,4,-1))"
   ]
  },
  {
   "cell_type": "code",
   "execution_count": null,
   "id": "97e89180-2c9a-4f5e-9360-d3dd121c9f62",
   "metadata": {},
   "outputs": [],
   "source": []
  }
 ],
 "metadata": {
  "kernelspec": {
   "display_name": "Python 3 (ipykernel)",
   "language": "python",
   "name": "python3"
  },
  "language_info": {
   "codemirror_mode": {
    "name": "ipython",
    "version": 3
   },
   "file_extension": ".py",
   "mimetype": "text/x-python",
   "name": "python",
   "nbconvert_exporter": "python",
   "pygments_lexer": "ipython3",
   "version": "3.9.16"
  }
 },
 "nbformat": 4,
 "nbformat_minor": 5
}
