{
 "cells": [
  {
   "cell_type": "markdown",
   "id": "85d75849-5640-43b7-8b93-87cdbf6b8792",
   "metadata": {},
   "source": [
    "# Test"
   ]
  },
  {
   "cell_type": "code",
   "execution_count": 1,
   "id": "cc406dee-f551-4e0a-a80c-0917a334b0d6",
   "metadata": {},
   "outputs": [
    {
     "data": {
      "application/vnd.jupyter.widget-view+json": {
       "model_id": "ffee04badb1c4e77ac0e9042b6919d0d",
       "version_major": 2,
       "version_minor": 0
      },
      "text/plain": []
     },
     "metadata": {},
     "output_type": "display_data"
    }
   ],
   "source": [
    "import molsysmt as msm"
   ]
  },
  {
   "cell_type": "code",
   "execution_count": 2,
   "id": "5b9602f9-f45d-4be0-bd00-8c1302b9c53b",
   "metadata": {},
   "outputs": [],
   "source": [
    "psf = msm.systems.demo['POPC']['popc.psf']\n",
    "crd = msm.systems.demo['POPC']['popc.crd']"
   ]
  },
  {
   "cell_type": "code",
   "execution_count": 3,
   "id": "717c7c28-35b9-4444-8c16-6d2d407e5ffc",
   "metadata": {},
   "outputs": [],
   "source": [
    "molsys = msm.convert([psf, crd])"
   ]
  },
  {
   "cell_type": "code",
   "execution_count": 4,
   "id": "69737f50-f674-451e-9603-f2afcbe63b22",
   "metadata": {},
   "outputs": [],
   "source": [
    "#msm.view(molsys)"
   ]
  },
  {
   "cell_type": "code",
   "execution_count": 5,
   "id": "6137c17a-7b66-4936-9259-93dec5d44e91",
   "metadata": {},
   "outputs": [],
   "source": [
    "context = msm.convert(molsys, to_form='openmm.Context')"
   ]
  },
  {
   "cell_type": "code",
   "execution_count": 6,
   "id": "56f0f17f-e468-456f-842f-54f5131eff77",
   "metadata": {},
   "outputs": [],
   "source": [
    "iterator = msm.Iterator(context, selection = 'all', coordinates = True)"
   ]
  },
  {
   "cell_type": "code",
   "execution_count": 7,
   "id": "f093edb5-9864-4f70-8789-6df9689a05f9",
   "metadata": {},
   "outputs": [
    {
     "name": "stdout",
     "output_type": "stream",
     "text": [
      "1\n"
     ]
    }
   ],
   "source": [
    "for aux_coordinates in iterator:\n",
    "    print(len(aux_coordinates))"
   ]
  },
  {
   "cell_type": "code",
   "execution_count": null,
   "id": "22b588a1-dfa0-4d1a-b4fc-777876bf4366",
   "metadata": {},
   "outputs": [],
   "source": []
  }
 ],
 "metadata": {
  "kernelspec": {
   "display_name": "Python 3 (ipykernel)",
   "language": "python",
   "name": "python3"
  },
  "language_info": {
   "codemirror_mode": {
    "name": "ipython",
    "version": 3
   },
   "file_extension": ".py",
   "mimetype": "text/x-python",
   "name": "python",
   "nbconvert_exporter": "python",
   "pygments_lexer": "ipython3",
   "version": "3.10.12"
  }
 },
 "nbformat": 4,
 "nbformat_minor": 5
}
