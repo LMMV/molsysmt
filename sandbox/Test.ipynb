{
 "cells": [
  {
   "cell_type": "markdown",
   "id": "85d75849-5640-43b7-8b93-87cdbf6b8792",
   "metadata": {},
   "source": [
    "# Test"
   ]
  },
  {
   "cell_type": "code",
   "execution_count": 1,
   "id": "08aee8bc-0efe-44a5-9aa6-24131ae8137e",
   "metadata": {},
   "outputs": [
    {
     "data": {
      "application/vnd.jupyter.widget-view+json": {
       "model_id": "bb10351d0a0548a698881062f85ee8e4",
       "version_major": 2,
       "version_minor": 0
      },
      "text/plain": []
     },
     "metadata": {},
     "output_type": "display_data"
    }
   ],
   "source": [
    "import molsysmt as msm"
   ]
  },
  {
   "cell_type": "code",
   "execution_count": 2,
   "id": "4ad7bc96-0f77-4bb5-bfa0-fa5296ed5d3d",
   "metadata": {},
   "outputs": [],
   "source": [
    "import openmm as mm\n",
    "from openmm import app\n",
    "from openmm import unit"
   ]
  },
  {
   "cell_type": "code",
   "execution_count": 3,
   "id": "fb99ac8c-b8d1-4b7c-9fcd-5232289b8732",
   "metadata": {},
   "outputs": [],
   "source": [
    "#molsys = msm.convert('4POC')\n",
    "#molsys = msm.extract(molsys, selection='molecule_type==\"protein\"')\n",
    "#molsys = msm.build.add_missing_hydrogens(molsys)\n",
    "#molsys = msm.build.solvate(molsys)"
   ]
  },
  {
   "cell_type": "code",
   "execution_count": 4,
   "id": "af701dd9-f4c2-4731-93c4-29eaea41fd06",
   "metadata": {},
   "outputs": [],
   "source": [
    "molsys = msm.convert('initial.msmpk')"
   ]
  },
  {
   "cell_type": "code",
   "execution_count": 5,
   "id": "8ae23b96-3d4b-425a-af14-34db7e2b6edc",
   "metadata": {},
   "outputs": [],
   "source": [
    "topology = msm.convert(molsys, 'openmm.Topology')\n",
    "coordinates = msm.get(molsys, coordinates=True)\n",
    "positions = msm.pyunitwizard.convert(coordinates[0], to_form='openmm.unit')"
   ]
  },
  {
   "cell_type": "code",
   "execution_count": 6,
   "id": "faf46e30-3984-462d-b82a-67fa375d0dad",
   "metadata": {},
   "outputs": [],
   "source": [
    "forcefield = app.ForceField('amber14-all.xml', 'amber14/tip3p.xml')"
   ]
  },
  {
   "cell_type": "code",
   "execution_count": 7,
   "id": "a64d8439-6611-4129-9a4d-993cbf83ce67",
   "metadata": {},
   "outputs": [],
   "source": [
    "system = forcefield.createSystem(topology, nonbondedMethod=app.PME,\n",
    "        nonbondedCutoff=1.2*unit.nanometer, constraints=app.HBonds)"
   ]
  },
  {
   "cell_type": "code",
   "execution_count": 8,
   "id": "fc909c3f-345d-4c1f-b5f8-eb71eb22bf76",
   "metadata": {},
   "outputs": [],
   "source": [
    "integrator = mm.LangevinIntegrator(300*unit.kelvin, 1.0/unit.picosecond, 2.0*unit.femtoseconds)"
   ]
  },
  {
   "cell_type": "code",
   "execution_count": 9,
   "id": "a722c9e4-cfca-43f8-8710-1c028aea6569",
   "metadata": {},
   "outputs": [],
   "source": [
    "platform = mm.Platform.getPlatformByName(\"CPU\")"
   ]
  },
  {
   "cell_type": "code",
   "execution_count": 10,
   "id": "4102c0c6-7d97-4964-bbe9-f24356e97b08",
   "metadata": {},
   "outputs": [],
   "source": [
    "simulation = app.Simulation(topology, system, integrator, platform)"
   ]
  },
  {
   "cell_type": "code",
   "execution_count": 11,
   "id": "ec61ac73-777e-4d22-b3d7-cbc32b4a8cac",
   "metadata": {},
   "outputs": [],
   "source": [
    "simulation.context.setPositions(positions)"
   ]
  },
  {
   "cell_type": "code",
   "execution_count": 12,
   "id": "20516706-23cc-476e-b330-b7bd22b88ef3",
   "metadata": {},
   "outputs": [],
   "source": [
    "#simulation.minimizeEnergy()\n",
    "#msm.convert(simulation, 'initial.msmpk')"
   ]
  },
  {
   "cell_type": "code",
   "execution_count": 13,
   "id": "21c83228-ba57-450b-967b-b7b6195e2a1a",
   "metadata": {},
   "outputs": [],
   "source": [
    "#from molsysmt.thirds.openmm.reporters import MolSysMTTrajectoryDictReporter\n",
    "from molsysmt.thirds.openmm.reporters import MSMH5Reporter\n",
    "from mdtraj.reporters import HDF5Reporter\n",
    "from molsysmt.thirds.openmm.reporters import TQDMReporter"
   ]
  },
  {
   "cell_type": "code",
   "execution_count": 14,
   "id": "1561ddce-b2b2-4d7a-911d-c05a92cd0fa4",
   "metadata": {},
   "outputs": [
    {
     "data": {
      "application/vnd.jupyter.widget-view+json": {
       "model_id": "7a2e3a3a37a546718ea50a67d4181e25",
       "version_major": 2,
       "version_minor": 0
      },
      "text/plain": [
       "  0%|          | 0/5000 [00:00<?, ?it/s]"
      ]
     },
     "metadata": {},
     "output_type": "display_data"
    }
   ],
   "source": [
    "tqdm_reporter = TQDMReporter(100, 5000)\n",
    "simulation.reporters.append(tqdm_reporter)"
   ]
  },
  {
   "cell_type": "code",
   "execution_count": 15,
   "id": "6e6dac3f-1ba1-4cb4-ba4d-e11067da6a77",
   "metadata": {},
   "outputs": [],
   "source": [
    "#h5_reporter = HDF5Reporter('test.h5', 100)\n",
    "#simulation.reporters.append(h5_reporter)"
   ]
  },
  {
   "cell_type": "code",
   "execution_count": 16,
   "id": "7282a59c-8f33-45e9-914d-878659a93cac",
   "metadata": {},
   "outputs": [],
   "source": [
    "#dict_reporter = MolSysMTTrajectoryDictReporter(10)\n",
    "#simulation.reporters.append(dict_reporter)"
   ]
  },
  {
   "cell_type": "code",
   "execution_count": 17,
   "id": "044d948f-1d5f-4f43-b4ca-eac0a29235a9",
   "metadata": {},
   "outputs": [],
   "source": [
    "msmh5_reporter = MSMH5Reporter('test.msmh5', 100, steps=5000, selection='all',\n",
    "            topology=True, time=True, box=True, coordinates=True, velocities=False,\n",
    "            potentialEnergy=True, kineticEnergy=True, temperature=True,\n",
    "            includeInitialContext=True, constantReportInterval=True,\n",
    "            constantStepSize=True, constantBox=True)\n",
    "simulation.reporters.append(msmh5_reporter)"
   ]
  },
  {
   "cell_type": "code",
   "execution_count": 18,
   "id": "330346e6-fd22-4fb6-b37e-e399d5c4b054",
   "metadata": {},
   "outputs": [
    {
     "name": "stdout",
     "output_type": "stream",
     "text": [
      "CPU times: user 47min 57s, sys: 18.4 s, total: 48min 15s\n",
      "Wall time: 2min 57s\n"
     ]
    }
   ],
   "source": [
    "%%time\n",
    "simulation.step(5000)"
   ]
  },
  {
   "cell_type": "code",
   "execution_count": null,
   "id": "69ad2b4f-0c98-4e01-9e4c-73ba0a00ff85",
   "metadata": {},
   "outputs": [],
   "source": [
    "h5_reporter.close()"
   ]
  },
  {
   "cell_type": "code",
   "execution_count": 19,
   "id": "164e05f5-dd74-4589-a483-da08e4db4561",
   "metadata": {},
   "outputs": [],
   "source": [
    "msmh5_reporter.close()"
   ]
  },
  {
   "cell_type": "code",
   "execution_count": null,
   "id": "698f41f6-803c-4865-a581-40fc5bbb4dd2",
   "metadata": {},
   "outputs": [],
   "source": [
    "traj = dict_reporter.finalize()\n",
    "msmh5_reporter.close()"
   ]
  },
  {
   "cell_type": "code",
   "execution_count": null,
   "id": "614409f6-4201-4c10-8983-c722e52a76ee",
   "metadata": {},
   "outputs": [],
   "source": [
    "tqdm : 30 it/s\n",
    "CPU times: user 47min 36s, sys: 18.1 s, total: 47min 54s\n",
    "Wall time: 2min 45s\n",
    "\n",
    "tqdm + h5: 30 it/s\n",
    "CPU times: user 46min 52s, sys: 17.9 s, total: 47min 10s\n",
    "Wall time: 2min 44s\n",
    "\n",
    "\n",
    "\n"
   ]
  }
 ],
 "metadata": {
  "kernelspec": {
   "display_name": "Python 3 (ipykernel)",
   "language": "python",
   "name": "python3"
  },
  "language_info": {
   "codemirror_mode": {
    "name": "ipython",
    "version": 3
   },
   "file_extension": ".py",
   "mimetype": "text/x-python",
   "name": "python",
   "nbconvert_exporter": "python",
   "pygments_lexer": "ipython3",
   "version": "3.10.12"
  }
 },
 "nbformat": 4,
 "nbformat_minor": 5
}
