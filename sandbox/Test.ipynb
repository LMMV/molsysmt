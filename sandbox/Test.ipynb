{
 "cells": [
  {
   "cell_type": "code",
   "execution_count": 1,
   "id": "15140b3f-bbbc-4222-8cc8-3ae87532b76a",
   "metadata": {
    "tags": []
   },
   "outputs": [
    {
     "data": {
      "application/vnd.jupyter.widget-view+json": {
       "model_id": "e867ff8798d042f29b7f55f1020ab9a8",
       "version_major": 2,
       "version_minor": 0
      },
      "text/plain": []
     },
     "metadata": {},
     "output_type": "display_data"
    }
   ],
   "source": [
    "import molsysmt as msm"
   ]
  },
  {
   "cell_type": "code",
   "execution_count": 2,
   "id": "c1604ef7-fff1-498e-85a2-3a7f0c77573b",
   "metadata": {
    "tags": []
   },
   "outputs": [],
   "source": [
    "prmtop_file = msm.demo['pentalanine']['pentalanine.prmtop']\n",
    "inpcrd_file = msm.demo['pentalanine']['pentalanine.inpcrd']"
   ]
  },
  {
   "cell_type": "code",
   "execution_count": 3,
   "id": "e4ccc5df-e0ca-448c-b70a-3de122a109bc",
   "metadata": {
    "tags": []
   },
   "outputs": [],
   "source": [
    "molsys = msm.convert([prmtop_file, inpcrd_file], to_form='molsysmt.MolSys')"
   ]
  },
  {
   "cell_type": "code",
   "execution_count": 4,
   "id": "78a50c10-e4d2-4f00-aac2-f927c6625b70",
   "metadata": {
    "tags": []
   },
   "outputs": [
    {
     "data": {
      "text/html": [
       "<style type=\"text/css\">\n",
       "</style>\n",
       "<table id=\"T_81310\">\n",
       "  <thead>\n",
       "    <tr>\n",
       "      <th id=\"T_81310_level0_col0\" class=\"col_heading level0 col0\" >form</th>\n",
       "      <th id=\"T_81310_level0_col1\" class=\"col_heading level0 col1\" >n_atoms</th>\n",
       "      <th id=\"T_81310_level0_col2\" class=\"col_heading level0 col2\" >n_groups</th>\n",
       "      <th id=\"T_81310_level0_col3\" class=\"col_heading level0 col3\" >n_components</th>\n",
       "      <th id=\"T_81310_level0_col4\" class=\"col_heading level0 col4\" >n_chains</th>\n",
       "      <th id=\"T_81310_level0_col5\" class=\"col_heading level0 col5\" >n_molecules</th>\n",
       "      <th id=\"T_81310_level0_col6\" class=\"col_heading level0 col6\" >n_entities</th>\n",
       "      <th id=\"T_81310_level0_col7\" class=\"col_heading level0 col7\" >n_waters</th>\n",
       "      <th id=\"T_81310_level0_col8\" class=\"col_heading level0 col8\" >n_peptides</th>\n",
       "      <th id=\"T_81310_level0_col9\" class=\"col_heading level0 col9\" >n_structures</th>\n",
       "    </tr>\n",
       "  </thead>\n",
       "  <tbody>\n",
       "    <tr>\n",
       "      <td id=\"T_81310_row0_col0\" class=\"data row0 col0\" >molsysmt.MolSys</td>\n",
       "      <td id=\"T_81310_row0_col1\" class=\"data row0 col1\" >5207</td>\n",
       "      <td id=\"T_81310_row0_col2\" class=\"data row0 col2\" >1722</td>\n",
       "      <td id=\"T_81310_row0_col3\" class=\"data row0 col3\" >1716</td>\n",
       "      <td id=\"T_81310_row0_col4\" class=\"data row0 col4\" >1</td>\n",
       "      <td id=\"T_81310_row0_col5\" class=\"data row0 col5\" >1716</td>\n",
       "      <td id=\"T_81310_row0_col6\" class=\"data row0 col6\" >2</td>\n",
       "      <td id=\"T_81310_row0_col7\" class=\"data row0 col7\" >1715</td>\n",
       "      <td id=\"T_81310_row0_col8\" class=\"data row0 col8\" >1</td>\n",
       "      <td id=\"T_81310_row0_col9\" class=\"data row0 col9\" >1</td>\n",
       "    </tr>\n",
       "  </tbody>\n",
       "</table>\n"
      ],
      "text/plain": [
       "<pandas.io.formats.style.Styler at 0x7f8fa825f730>"
      ]
     },
     "execution_count": 4,
     "metadata": {},
     "output_type": "execute_result"
    }
   ],
   "source": [
    "msm.info(molsys)"
   ]
  },
  {
   "cell_type": "code",
   "execution_count": 5,
   "id": "20b5690f-47f6-46de-bceb-fa870b4e092c",
   "metadata": {
    "tags": []
   },
   "outputs": [],
   "source": [
    "molsys = msm.convert(msm.demo['chicken villin HP35']['vacuum.msmpk'])"
   ]
  },
  {
   "cell_type": "code",
   "execution_count": 6,
   "id": "c94187f4-b08d-4c14-a4df-7c498d3cdda2",
   "metadata": {
    "tags": []
   },
   "outputs": [],
   "source": [
    "molsys.molecular_mechanics.dispersion_correction=True"
   ]
  },
  {
   "cell_type": "code",
   "execution_count": 7,
   "id": "e403b871-ab8c-420f-a7f4-cbeab0d2a89f",
   "metadata": {
    "tags": []
   },
   "outputs": [],
   "source": [
    "aa = msm.convert([molsys, {'forcefield':'AMBER14', 'water_model':'TIP3P'}], to_form='molsysmt.MolecularMechanics')"
   ]
  },
  {
   "cell_type": "code",
   "execution_count": 8,
   "id": "b46443d6-7cc8-4d1e-84bb-b4ea43e9af57",
   "metadata": {
    "tags": []
   },
   "outputs": [],
   "source": [
    "aa = msm.convert([molsys, {'forcefield':'AMBER14', 'water_model':'TIP3P'}], to_form='molsysmt.MolecularMechanicsDict')"
   ]
  },
  {
   "cell_type": "code",
   "execution_count": 9,
   "id": "e9b3ee2f-2ca1-4116-ae9b-2165bf7a16e7",
   "metadata": {
    "tags": []
   },
   "outputs": [
    {
     "data": {
      "text/plain": [
       "{'forcefield': 'AMBER14',\n",
       " 'water_model': 'TIP3P',\n",
       " 'dispersion_correction': True}"
      ]
     },
     "execution_count": 9,
     "metadata": {},
     "output_type": "execute_result"
    }
   ],
   "source": [
    "aa"
   ]
  },
  {
   "cell_type": "code",
   "execution_count": 10,
   "id": "47b2c582-82a5-4c75-87e2-5e33cdc9769e",
   "metadata": {
    "tags": []
   },
   "outputs": [],
   "source": [
    "aa = msm.convert([{'dispersion_correction':True}, {'forcefield':'AMBER14', 'water_model':'TIP3P'}], to_form='molsysmt.MolecularMechanics')"
   ]
  },
  {
   "cell_type": "code",
   "execution_count": 11,
   "id": "c2a5cdaa-f3cb-41cf-aeac-00dc81b69324",
   "metadata": {
    "tags": []
   },
   "outputs": [],
   "source": [
    "aa = msm.convert([{'dispersion_correction':True}, {'forcefield':'AMBER14', 'water_model':'TIP3P'}], to_form='molsysmt.MolecularMechanicsDict')"
   ]
  },
  {
   "cell_type": "code",
   "execution_count": 12,
   "id": "af4f5943-28a3-486f-9e34-dedbeb314388",
   "metadata": {
    "tags": []
   },
   "outputs": [
    {
     "data": {
      "text/plain": [
       "{'forcefield': 'AMBER14',\n",
       " 'water_model': 'TIP3P',\n",
       " 'dispersion_correction': True}"
      ]
     },
     "execution_count": 12,
     "metadata": {},
     "output_type": "execute_result"
    }
   ],
   "source": [
    "aa"
   ]
  },
  {
   "cell_type": "code",
   "execution_count": null,
   "id": "5ead7f34-3c38-4ad7-9ab9-3f1ef9359ab6",
   "metadata": {
    "tags": []
   },
   "outputs": [],
   "source": [
    "msm.has_attribute(aa, 'constraints')"
   ]
  },
  {
   "cell_type": "code",
   "execution_count": null,
   "id": "c80faac4-c39e-4860-a8d3-07e0a6fef651",
   "metadata": {
    "tags": []
   },
   "outputs": [],
   "source": [
    "aa.constraints"
   ]
  },
  {
   "cell_type": "code",
   "execution_count": null,
   "id": "f97ce6d2-862e-421c-bfa3-d5906e7f212d",
   "metadata": {
    "tags": []
   },
   "outputs": [],
   "source": [
    "msm.has_attribute([molsys, {'forcefield':'AMBER14', 'water_model':'TIP3P'}], 'kappa')"
   ]
  },
  {
   "cell_type": "code",
   "execution_count": null,
   "id": "535f58f5-8664-46a6-a69f-d678b545c2b2",
   "metadata": {
    "tags": []
   },
   "outputs": [],
   "source": [
    "msm.where_is_attribute([molsys, {'forcefield':'AMBER14', 'water_model':'TIP3P'}], 'kappa')"
   ]
  },
  {
   "cell_type": "code",
   "execution_count": null,
   "id": "e918a9c7-6600-45c4-9cdf-b123b3e09e13",
   "metadata": {
    "tags": []
   },
   "outputs": [],
   "source": [
    "molsys = msm.build.solvate([molsys, {'forcefield':'AMBER14', 'water_model':'TIP3P'}],\n",
    "                   box_shape='truncated octahedral', clearance='14.0 angstroms',\n",
    "                   to_form='molsysmt.MolSys', engine=\"OpenMM\")"
   ]
  },
  {
   "cell_type": "code",
   "execution_count": null,
   "id": "011b2546-251c-4d8b-8702-a6d75e862d4f",
   "metadata": {},
   "outputs": [],
   "source": [
    "molsys.molecular_mechanics.flexible_constraints"
   ]
  },
  {
   "cell_type": "code",
   "execution_count": null,
   "id": "14ec3c00-c6aa-49ce-9355-3cc627665701",
   "metadata": {
    "tags": []
   },
   "outputs": [],
   "source": [
    "import numpy as np"
   ]
  },
  {
   "cell_type": "code",
   "execution_count": null,
   "id": "4454b472-5479-4c4a-b2dc-606c1c553485",
   "metadata": {
    "tags": []
   },
   "outputs": [],
   "source": [
    "np.arange(0,10)"
   ]
  },
  {
   "cell_type": "code",
   "execution_count": null,
   "id": "24fa18b2-ed13-42f8-97b3-81267f079621",
   "metadata": {},
   "outputs": [],
   "source": [
    "list(range(2,0,-1))"
   ]
  },
  {
   "cell_type": "code",
   "execution_count": null,
   "id": "04962fbb-6f3f-41ad-83eb-a24845503071",
   "metadata": {},
   "outputs": [],
   "source": []
  }
 ],
 "metadata": {
  "kernelspec": {
   "display_name": "Python 3 (ipykernel)",
   "language": "python",
   "name": "python3"
  },
  "language_info": {
   "codemirror_mode": {
    "name": "ipython",
    "version": 3
   },
   "file_extension": ".py",
   "mimetype": "text/x-python",
   "name": "python",
   "nbconvert_exporter": "python",
   "pygments_lexer": "ipython3",
   "version": "3.9.16"
  }
 },
 "nbformat": 4,
 "nbformat_minor": 5
}
