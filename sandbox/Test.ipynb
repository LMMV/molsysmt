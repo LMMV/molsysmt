{
 "cells": [
  {
   "cell_type": "code",
   "execution_count": 1,
   "id": "15140b3f-bbbc-4222-8cc8-3ae87532b76a",
   "metadata": {
    "tags": []
   },
   "outputs": [
    {
     "data": {
      "application/vnd.jupyter.widget-view+json": {
       "model_id": "f2c6900385f840cebea26752a7dbd555",
       "version_major": 2,
       "version_minor": 0
      },
      "text/plain": []
     },
     "metadata": {},
     "output_type": "display_data"
    }
   ],
   "source": [
    "import molsysmt as msm"
   ]
  },
  {
   "cell_type": "code",
   "execution_count": 2,
   "id": "c1604ef7-fff1-498e-85a2-3a7f0c77573b",
   "metadata": {
    "tags": []
   },
   "outputs": [],
   "source": [
    "prmtop_file = msm.demo['pentalanine']['pentalanine.prmtop']\n",
    "inpcrd_file = msm.demo['pentalanine']['pentalanine.inpcrd']"
   ]
  },
  {
   "cell_type": "code",
   "execution_count": 3,
   "id": "e4ccc5df-e0ca-448c-b70a-3de122a109bc",
   "metadata": {
    "tags": []
   },
   "outputs": [
    {
     "name": "stdout",
     "output_type": "stream",
     "text": [
      "ENTRA\n"
     ]
    },
    {
     "ename": "ImportError",
     "evalue": "cannot import name 'file_prmtop_to_molsysmt_Topology' from 'molsysmt.form.file_prmtop' (/home/diego/projects@dprada/MolSysMT/molsysmt/form/file_prmtop/__init__.py)",
     "output_type": "error",
     "traceback": [
      "\u001b[0;31m---------------------------------------------------------------------------\u001b[0m",
      "\u001b[0;31mImportError\u001b[0m                               Traceback (most recent call last)",
      "Cell \u001b[0;32mIn[3], line 1\u001b[0m\n\u001b[0;32m----> 1\u001b[0m molsys \u001b[38;5;241m=\u001b[39m \u001b[43mmsm\u001b[49m\u001b[38;5;241;43m.\u001b[39;49m\u001b[43mconvert\u001b[49m\u001b[43m(\u001b[49m\u001b[43m[\u001b[49m\u001b[43mprmtop_file\u001b[49m\u001b[43m,\u001b[49m\u001b[43m \u001b[49m\u001b[43minpcrd_file\u001b[49m\u001b[43m]\u001b[49m\u001b[43m,\u001b[49m\u001b[43m \u001b[49m\u001b[43mto_form\u001b[49m\u001b[38;5;241;43m=\u001b[39;49m\u001b[38;5;124;43m'\u001b[39;49m\u001b[38;5;124;43mmolsysmt.MolSys\u001b[39;49m\u001b[38;5;124;43m'\u001b[39;49m\u001b[43m)\u001b[49m\n",
      "File \u001b[0;32m~/projects@dprada/MolSysMT/molsysmt/_private/digestion/digest.py:116\u001b[0m, in \u001b[0;36mdigest.<locals>.digestor.<locals>.wrapper\u001b[0;34m(*args, **kwargs)\u001b[0m\n\u001b[1;32m    114\u001b[0m     \u001b[38;5;28;01mreturn\u001b[39;00m func(all_args[\u001b[38;5;124m'\u001b[39m\u001b[38;5;124mself\u001b[39m\u001b[38;5;124m'\u001b[39m], \u001b[38;5;241m*\u001b[39m\u001b[38;5;241m*\u001b[39mfinal_args)\n\u001b[1;32m    115\u001b[0m \u001b[38;5;28;01melse\u001b[39;00m:\n\u001b[0;32m--> 116\u001b[0m     \u001b[38;5;28;01mreturn\u001b[39;00m \u001b[43mfunc\u001b[49m\u001b[43m(\u001b[49m\u001b[38;5;241;43m*\u001b[39;49m\u001b[38;5;241;43m*\u001b[39;49m\u001b[43mfinal_args\u001b[49m\u001b[43m)\u001b[49m\n",
      "File \u001b[0;32m~/projects@dprada/MolSysMT/molsysmt/basic/convert.py:180\u001b[0m, in \u001b[0;36mconvert\u001b[0;34m(molecular_system, to_form, selection, structure_indices, syntax, **kwargs)\u001b[0m\n\u001b[1;32m    176\u001b[0m \u001b[38;5;28;01mif\u001b[39;00m sorted_forms \u001b[38;5;129;01min\u001b[39;00m _multiple_conversion_shortcuts:\n\u001b[1;32m    178\u001b[0m     \u001b[38;5;28;01mif\u001b[39;00m to_form \u001b[38;5;129;01min\u001b[39;00m _multiple_conversion_shortcuts[sorted_forms]:\n\u001b[0;32m--> 180\u001b[0m         tmp_item \u001b[38;5;241m=\u001b[39m \u001b[43m_multiple_conversion_shortcuts\u001b[49m\u001b[43m[\u001b[49m\u001b[43msorted_forms\u001b[49m\u001b[43m]\u001b[49m\u001b[43m[\u001b[49m\u001b[43mto_form\u001b[49m\u001b[43m]\u001b[49m\u001b[43m(\u001b[49m\u001b[43mmolecular_system\u001b[49m\u001b[43m,\u001b[49m\u001b[43m \u001b[49m\u001b[38;5;241;43m*\u001b[39;49m\u001b[38;5;241;43m*\u001b[39;49m\u001b[43mconversion_arguments\u001b[49m\u001b[43m,\u001b[49m\u001b[43m \u001b[49m\u001b[38;5;241;43m*\u001b[39;49m\u001b[38;5;241;43m*\u001b[39;49m\u001b[43mkwargs\u001b[49m\u001b[43m)\u001b[49m\n\u001b[1;32m    182\u001b[0m     \u001b[38;5;28;01melif\u001b[39;00m (\u001b[38;5;124m'\u001b[39m\u001b[38;5;124mmolsysmt.MolSys\u001b[39m\u001b[38;5;124m'\u001b[39m \u001b[38;5;129;01min\u001b[39;00m _multiple_conversion_shortcuts[sorted_forms]) \u001b[38;5;129;01mand\u001b[39;00m (to_form \u001b[38;5;129;01min\u001b[39;00m _dict_modules[\u001b[38;5;124m'\u001b[39m\u001b[38;5;124mmolsysmt.MolSys\u001b[39m\u001b[38;5;124m'\u001b[39m]\u001b[38;5;241m.\u001b[39m_convert_to):\n\u001b[1;32m    184\u001b[0m         tmp_item \u001b[38;5;241m=\u001b[39m _multiple_conversion_shortcuts[sorted_forms][\u001b[38;5;124m'\u001b[39m\u001b[38;5;124mmolsysmt.MolSys\u001b[39m\u001b[38;5;124m'\u001b[39m](molecular_system, \u001b[38;5;241m*\u001b[39m\u001b[38;5;241m*\u001b[39mconversion_arguments, \u001b[38;5;241m*\u001b[39m\u001b[38;5;241m*\u001b[39mkwargs)\n",
      "File \u001b[0;32m~/projects@dprada/MolSysMT/molsysmt/_private/conversion_shortcuts/to_molsysmt_MolSys.py:6\u001b[0m, in \u001b[0;36mfile_prmtop_and_file_inpcrd_to_molsysmt_MolSys\u001b[0;34m(molecular_system, atom_indices, structure_indices)\u001b[0m\n\u001b[1;32m      3\u001b[0m \u001b[38;5;28mprint\u001b[39m(\u001b[38;5;124m'\u001b[39m\u001b[38;5;124mENTRA\u001b[39m\u001b[38;5;124m'\u001b[39m)\n\u001b[1;32m      5\u001b[0m \u001b[38;5;28;01mfrom\u001b[39;00m \u001b[38;5;21;01mmolsysmt\u001b[39;00m\u001b[38;5;21;01m.\u001b[39;00m\u001b[38;5;21;01mbasic\u001b[39;00m \u001b[38;5;28;01mimport\u001b[39;00m get_form\n\u001b[0;32m----> 6\u001b[0m \u001b[38;5;28;01mfrom\u001b[39;00m \u001b[38;5;21;01mmolsysmt\u001b[39;00m\u001b[38;5;21;01m.\u001b[39;00m\u001b[38;5;21;01mform\u001b[39;00m\u001b[38;5;21;01m.\u001b[39;00m\u001b[38;5;21;01mfile_prmtop\u001b[39;00m \u001b[38;5;28;01mimport\u001b[39;00m file_prmtop_to_molsysmt_Topology\n\u001b[1;32m      7\u001b[0m \u001b[38;5;28;01mfrom\u001b[39;00m \u001b[38;5;21;01mmolsysmt\u001b[39;00m\u001b[38;5;21;01m.\u001b[39;00m\u001b[38;5;21;01mform\u001b[39;00m\u001b[38;5;21;01m.\u001b[39;00m\u001b[38;5;21;01mfile_inpcrd\u001b[39;00m \u001b[38;5;28;01mimport\u001b[39;00m file_inpcrd_to_molsysmt_Structures\n\u001b[1;32m      8\u001b[0m \u001b[38;5;28;01mfrom\u001b[39;00m \u001b[38;5;21;01mmolsysmt\u001b[39;00m\u001b[38;5;21;01m.\u001b[39;00m\u001b[38;5;21;01mnative\u001b[39;00m \u001b[38;5;28;01mimport\u001b[39;00m MolSys\n",
      "\u001b[0;31mImportError\u001b[0m: cannot import name 'file_prmtop_to_molsysmt_Topology' from 'molsysmt.form.file_prmtop' (/home/diego/projects@dprada/MolSysMT/molsysmt/form/file_prmtop/__init__.py)"
     ]
    }
   ],
   "source": [
    "molsys = msm.convert([prmtop_file, inpcrd_file], to_form='molsysmt.MolSys')"
   ]
  },
  {
   "cell_type": "code",
   "execution_count": null,
   "id": "01d64589-3058-496d-81d1-5fe4e908a560",
   "metadata": {
    "tags": []
   },
   "outputs": [],
   "source": [
    "molsys = msm.convert([prmtop_file, inpcrd_file], to_form='molsysmt.MolSys')\n",
    "form = msm.get_form(molsys)"
   ]
  },
  {
   "cell_type": "code",
   "execution_count": null,
   "id": "e403b871-ab8c-420f-a7f4-cbeab0d2a89f",
   "metadata": {},
   "outputs": [],
   "source": [
    "aa = msm.convert([molsys, {'forcefield':'AMBER14', 'water_model':'TIP3P'}], to_form='molsysmt.MolecularMechanics')"
   ]
  },
  {
   "cell_type": "code",
   "execution_count": null,
   "id": "c80faac4-c39e-4860-a8d3-07e0a6fef651",
   "metadata": {},
   "outputs": [],
   "source": [
    "aa.forcefield"
   ]
  },
  {
   "cell_type": "code",
   "execution_count": null,
   "id": "f97ce6d2-862e-421c-bfa3-d5906e7f212d",
   "metadata": {},
   "outputs": [],
   "source": [
    "msm.has_attribute([molsys, {'forcefield':'AMBER14', 'water_model':'TIP3P'}], 'kappa')"
   ]
  },
  {
   "cell_type": "code",
   "execution_count": null,
   "id": "535f58f5-8664-46a6-a69f-d678b545c2b2",
   "metadata": {},
   "outputs": [],
   "source": [
    "msm.where_is_attribute([molsys, {'forcefield':'AMBER14', 'water_model':'TIP3P'}], 'kappa')"
   ]
  },
  {
   "cell_type": "code",
   "execution_count": null,
   "id": "e918a9c7-6600-45c4-9cdf-b123b3e09e13",
   "metadata": {},
   "outputs": [],
   "source": [
    "molsys = msm.build.solvate([molsys, {'forcefield':'AMBER14', 'water_model':'TIP3P'}],\n",
    "                   box_shape='truncated octahedral', clearance='14.0 angstroms',\n",
    "                   to_form='molsysmt.MolSys', engine=\"OpenMM\")"
   ]
  },
  {
   "cell_type": "code",
   "execution_count": null,
   "id": "011b2546-251c-4d8b-8702-a6d75e862d4f",
   "metadata": {},
   "outputs": [],
   "source": [
    "molsys.molecular_mechanics.flexible_constraints"
   ]
  },
  {
   "cell_type": "code",
   "execution_count": null,
   "id": "4d1dba46-081d-49ad-83fe-8e3c32d0d5f9",
   "metadata": {
    "tags": []
   },
   "outputs": [],
   "source": [
    "aa = {}"
   ]
  },
  {
   "cell_type": "code",
   "execution_count": null,
   "id": "a936a83d-0fc9-41ca-86e8-bebd6945da08",
   "metadata": {
    "tags": []
   },
   "outputs": [],
   "source": [
    "aa[('asdf','dfsdf')]=3"
   ]
  },
  {
   "cell_type": "code",
   "execution_count": null,
   "id": "fa4976cd-6ecd-4226-88c1-7bcbbab87a02",
   "metadata": {
    "tags": []
   },
   "outputs": [],
   "source": [
    "aa = ('gsdf','dfsdf')"
   ]
  },
  {
   "cell_type": "code",
   "execution_count": null,
   "id": "c149a83d-54e1-4a10-bada-5ed9fdc8c7dd",
   "metadata": {
    "tags": []
   },
   "outputs": [],
   "source": [
    "tuple(sorted(aa))"
   ]
  },
  {
   "cell_type": "code",
   "execution_count": null,
   "id": "b42f7d35-5b2d-4797-bbef-2e5b154c6fba",
   "metadata": {},
   "outputs": [],
   "source": []
  }
 ],
 "metadata": {
  "kernelspec": {
   "display_name": "Python 3 (ipykernel)",
   "language": "python",
   "name": "python3"
  },
  "language_info": {
   "codemirror_mode": {
    "name": "ipython",
    "version": 3
   },
   "file_extension": ".py",
   "mimetype": "text/x-python",
   "name": "python",
   "nbconvert_exporter": "python",
   "pygments_lexer": "ipython3",
   "version": "3.9.16"
  }
 },
 "nbformat": 4,
 "nbformat_minor": 5
}
