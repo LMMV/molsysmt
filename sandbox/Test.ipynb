{
 "cells": [
  {
   "cell_type": "code",
   "execution_count": 1,
   "id": "15140b3f-bbbc-4222-8cc8-3ae87532b76a",
   "metadata": {
    "tags": []
   },
   "outputs": [
    {
     "data": {
      "application/vnd.jupyter.widget-view+json": {
       "model_id": "2fbd41455753457d94fb036a4452481b",
       "version_major": 2,
       "version_minor": 0
      },
      "text/plain": []
     },
     "metadata": {},
     "output_type": "display_data"
    }
   ],
   "source": [
    "import molsysmt as msm"
   ]
  },
  {
   "cell_type": "code",
   "execution_count": 2,
   "id": "fda2988d-6a0e-46af-bce5-64b3e065f7a5",
   "metadata": {
    "tags": []
   },
   "outputs": [],
   "source": [
    "molsys = msm.demo['pentalanine']['traj.h5']"
   ]
  },
  {
   "cell_type": "code",
   "execution_count": 3,
   "id": "d37aae6f-ea6c-4c29-af83-5d388e77ff61",
   "metadata": {
    "tags": []
   },
   "outputs": [],
   "source": [
    "n_atoms, n_structures = msm.get(molsys, element='system', n_atoms=True, n_structures=True)"
   ]
  },
  {
   "cell_type": "code",
   "execution_count": 4,
   "id": "430d9cd7-acb6-40de-8e6a-e9e2a5e36b57",
   "metadata": {
    "tags": []
   },
   "outputs": [
    {
     "data": {
      "text/plain": [
       "62"
      ]
     },
     "execution_count": 4,
     "metadata": {},
     "output_type": "execute_result"
    }
   ],
   "source": [
    "n_atoms"
   ]
  },
  {
   "cell_type": "code",
   "execution_count": 5,
   "id": "48ba2ebe-5db8-4b1e-aed4-33caebd72ba8",
   "metadata": {
    "tags": []
   },
   "outputs": [
    {
     "data": {
      "text/plain": [
       "5000"
      ]
     },
     "execution_count": 5,
     "metadata": {},
     "output_type": "execute_result"
    }
   ],
   "source": [
    "n_structures"
   ]
  },
  {
   "cell_type": "code",
   "execution_count": null,
   "id": "99b55dfa-c7e0-41b4-aee1-d56bd321f616",
   "metadata": {},
   "outputs": [],
   "source": []
  }
 ],
 "metadata": {
  "kernelspec": {
   "display_name": "Python 3 (ipykernel)",
   "language": "python",
   "name": "python3"
  },
  "language_info": {
   "codemirror_mode": {
    "name": "ipython",
    "version": 3
   },
   "file_extension": ".py",
   "mimetype": "text/x-python",
   "name": "python",
   "nbconvert_exporter": "python",
   "pygments_lexer": "ipython3",
   "version": "3.9.16"
  }
 },
 "nbformat": 4,
 "nbformat_minor": 5
}
