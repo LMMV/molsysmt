{
 "cells": [
  {
   "cell_type": "markdown",
   "id": "85d75849-5640-43b7-8b93-87cdbf6b8792",
   "metadata": {},
   "source": [
    "# Test"
   ]
  },
  {
   "cell_type": "code",
   "execution_count": 1,
   "id": "cc406dee-f551-4e0a-a80c-0917a334b0d6",
   "metadata": {},
   "outputs": [
    {
     "data": {
      "application/vnd.jupyter.widget-view+json": {
       "model_id": "8132ec3c1e1944cdba79f7e470805013",
       "version_major": 2,
       "version_minor": 0
      },
      "text/plain": []
     },
     "metadata": {},
     "output_type": "display_data"
    }
   ],
   "source": [
    "import molsysmt as msm"
   ]
  },
  {
   "cell_type": "code",
   "execution_count": 2,
   "id": "5b9602f9-f45d-4be0-bd00-8c1302b9c53b",
   "metadata": {},
   "outputs": [],
   "source": [
    "psf = msm.systems.demo['POPC']['popc.psf']\n",
    "crd = msm.systems.demo['POPC']['popc.crd']"
   ]
  },
  {
   "cell_type": "code",
   "execution_count": 3,
   "id": "717c7c28-35b9-4444-8c16-6d2d407e5ffc",
   "metadata": {},
   "outputs": [],
   "source": [
    "molsys = msm.convert([psf, crd])"
   ]
  },
  {
   "cell_type": "code",
   "execution_count": 4,
   "id": "6137c17a-7b66-4936-9259-93dec5d44e91",
   "metadata": {},
   "outputs": [],
   "source": [
    "context = msm.convert(molsys, to_form='openmm.Context')"
   ]
  },
  {
   "cell_type": "code",
   "execution_count": 5,
   "id": "5280451b-e59f-48e2-ba31-663cc42dc944",
   "metadata": {},
   "outputs": [],
   "source": [
    "state_init = context.getState(getPositions=True)"
   ]
  },
  {
   "cell_type": "code",
   "execution_count": 6,
   "id": "6e97549c-ea0d-4b72-95cc-10d21983586d",
   "metadata": {},
   "outputs": [
    {
     "data": {
      "text/html": [
       "-261.0514221191406 kilojoule/mole"
      ],
      "text/latex": [
       "$-261.0514221191406\\ \\frac{\\mathrm{kilojoule}}{\\mathrm{mole}}$"
      ],
      "text/plain": [
       "-261.0514221191406 <Unit('kilojoule / mole')>"
      ]
     },
     "execution_count": 6,
     "metadata": {},
     "output_type": "execute_result"
    }
   ],
   "source": [
    "msm.molecular_mechanics.get_potential_energy(context)"
   ]
  },
  {
   "cell_type": "code",
   "execution_count": 7,
   "id": "d273712d-fe01-4b8e-8fb5-a22d11e45348",
   "metadata": {},
   "outputs": [],
   "source": [
    "msm.molecular_mechanics.potential_energy_minimization(context)"
   ]
  },
  {
   "cell_type": "code",
   "execution_count": 8,
   "id": "da942da9-e074-47d7-9219-b0ad78d3a246",
   "metadata": {},
   "outputs": [
    {
     "data": {
      "text/html": [
       "-771.6568603515625 kilojoule/mole"
      ],
      "text/latex": [
       "$-771.6568603515625\\ \\frac{\\mathrm{kilojoule}}{\\mathrm{mole}}$"
      ],
      "text/plain": [
       "-771.6568603515625 <Unit('kilojoule / mole')>"
      ]
     },
     "execution_count": 8,
     "metadata": {},
     "output_type": "execute_result"
    }
   ],
   "source": [
    "msm.molecular_mechanics.get_potential_energy(context)"
   ]
  },
  {
   "cell_type": "code",
   "execution_count": 9,
   "id": "31dceb62-fdb9-46d0-ae1b-d0ac53e1a1c5",
   "metadata": {},
   "outputs": [],
   "source": [
    "state_end = context.getState(getPositions=True)"
   ]
  },
  {
   "cell_type": "code",
   "execution_count": 10,
   "id": "d099e56e-4d7e-4bdc-83cb-5995e2fea7c6",
   "metadata": {},
   "outputs": [
    {
     "ename": "TypeError",
     "evalue": "Unit \"nanometer\" is not compatible with Unit \"nanometer\".",
     "output_type": "error",
     "traceback": [
      "\u001b[0;31m---------------------------------------------------------------------------\u001b[0m",
      "\u001b[0;31mTypeError\u001b[0m                                 Traceback (most recent call last)",
      "Cell \u001b[0;32mIn[10], line 1\u001b[0m\n\u001b[0;32m----> 1\u001b[0m \u001b[43mmsm\u001b[49m\u001b[38;5;241;43m.\u001b[39;49m\u001b[43mstructure\u001b[49m\u001b[38;5;241;43m.\u001b[39;49m\u001b[43mget_distances\u001b[49m\u001b[43m(\u001b[49m\u001b[43mmolecular_system\u001b[49m\u001b[38;5;241;43m=\u001b[39;49m\u001b[43mstate_init\u001b[49m\u001b[43m,\u001b[49m\u001b[43m \u001b[49m\u001b[43mmolecular_system_2\u001b[49m\u001b[38;5;241;43m=\u001b[39;49m\u001b[43mstate_end\u001b[49m\u001b[43m)\u001b[49m\n",
      "File \u001b[0;32m~/projects@uibcdf/MolSysMT/molsysmt/_private/digestion/digest.py:119\u001b[0m, in \u001b[0;36mdigest.<locals>.digestor.<locals>.wrapper\u001b[0;34m(*args, **kwargs)\u001b[0m\n\u001b[1;32m    117\u001b[0m     \u001b[38;5;28;01mreturn\u001b[39;00m func(all_args[\u001b[38;5;124m'\u001b[39m\u001b[38;5;124mself\u001b[39m\u001b[38;5;124m'\u001b[39m], \u001b[38;5;241m*\u001b[39m\u001b[38;5;241m*\u001b[39mfinal_args)\n\u001b[1;32m    118\u001b[0m \u001b[38;5;28;01melse\u001b[39;00m:\n\u001b[0;32m--> 119\u001b[0m     \u001b[38;5;28;01mreturn\u001b[39;00m \u001b[43mfunc\u001b[49m\u001b[43m(\u001b[49m\u001b[38;5;241;43m*\u001b[39;49m\u001b[38;5;241;43m*\u001b[39;49m\u001b[43mfinal_args\u001b[49m\u001b[43m)\u001b[49m\n",
      "File \u001b[0;32m~/projects@uibcdf/MolSysMT/molsysmt/structure/get_distances.py:80\u001b[0m, in \u001b[0;36mget_distances\u001b[0;34m(molecular_system, selection, structure_indices, center_of_atoms, weights, molecular_system_2, selection_2, structure_indices_2, center_of_atoms_2, weights_2, pairs, pbc, engine, syntax)\u001b[0m\n\u001b[1;32m     76\u001b[0m             in_memory \u001b[38;5;241m=\u001b[39m \u001b[38;5;28;01mFalse\u001b[39;00m\n\u001b[1;32m     78\u001b[0m \u001b[38;5;28;01mif\u001b[39;00m in_memory:\n\u001b[0;32m---> 80\u001b[0m     output \u001b[38;5;241m=\u001b[39m \u001b[43m_get_distances_in_memory\u001b[49m\u001b[43m(\u001b[49m\u001b[43mmolecular_system\u001b[49m\u001b[43m,\u001b[49m\n\u001b[1;32m     81\u001b[0m \u001b[43m            \u001b[49m\u001b[43mselection\u001b[49m\u001b[38;5;241;43m=\u001b[39;49m\u001b[43matom_indices\u001b[49m\u001b[43m,\u001b[49m\u001b[43m \u001b[49m\u001b[43mstructure_indices\u001b[49m\u001b[38;5;241;43m=\u001b[39;49m\u001b[43mstructure_indices\u001b[49m\u001b[43m,\u001b[49m\u001b[43m \u001b[49m\u001b[43mcenter_of_atoms\u001b[49m\u001b[38;5;241;43m=\u001b[39;49m\u001b[43mcenter_of_atoms\u001b[49m\u001b[43m,\u001b[49m\u001b[43m \u001b[49m\u001b[43mweights\u001b[49m\u001b[38;5;241;43m=\u001b[39;49m\u001b[43mweights\u001b[49m\u001b[43m,\u001b[49m\n\u001b[1;32m     82\u001b[0m \u001b[43m            \u001b[49m\u001b[43mmolecular_system_2\u001b[49m\u001b[38;5;241;43m=\u001b[39;49m\u001b[43mmolecular_system_2\u001b[49m\u001b[43m,\u001b[49m\u001b[43m \u001b[49m\u001b[43mselection_2\u001b[49m\u001b[38;5;241;43m=\u001b[39;49m\u001b[43matom_indices_2\u001b[49m\u001b[43m,\u001b[49m\u001b[43m \u001b[49m\u001b[43mstructure_indices_2\u001b[49m\u001b[38;5;241;43m=\u001b[39;49m\u001b[43mstructure_indices_2\u001b[49m\u001b[43m,\u001b[49m\n\u001b[1;32m     83\u001b[0m \u001b[43m            \u001b[49m\u001b[43mcenter_of_atoms_2\u001b[49m\u001b[38;5;241;43m=\u001b[39;49m\u001b[43mcenter_of_atoms_2\u001b[49m\u001b[43m,\u001b[49m\u001b[43m \u001b[49m\u001b[43mweights_2\u001b[49m\u001b[38;5;241;43m=\u001b[39;49m\u001b[43mweights_2\u001b[49m\u001b[43m,\u001b[49m\u001b[43m \u001b[49m\u001b[43mpairs\u001b[49m\u001b[38;5;241;43m=\u001b[39;49m\u001b[43mpairs\u001b[49m\u001b[43m,\u001b[49m\u001b[43m \u001b[49m\u001b[43mpbc\u001b[49m\u001b[38;5;241;43m=\u001b[39;49m\u001b[43mpbc\u001b[49m\u001b[43m,\u001b[49m\u001b[43m \u001b[49m\u001b[43msyntax\u001b[49m\u001b[38;5;241;43m=\u001b[39;49m\u001b[43msyntax\u001b[49m\u001b[43m)\u001b[49m\n\u001b[1;32m     85\u001b[0m \u001b[38;5;28;01melse\u001b[39;00m:\n\u001b[1;32m     87\u001b[0m     \u001b[38;5;28;01mraise\u001b[39;00m NotImplementedMethodError\n",
      "File \u001b[0;32m~/projects@uibcdf/MolSysMT/molsysmt/structure/get_distances.py:197\u001b[0m, in \u001b[0;36m_get_distances_in_memory\u001b[0;34m(molecular_system, selection, structure_indices, center_of_atoms, weights, molecular_system_2, selection_2, structure_indices_2, center_of_atoms_2, weights_2, pairs, pbc, aux_dict, syntax)\u001b[0m\n\u001b[1;32m    195\u001b[0m \u001b[38;5;28;01mif\u001b[39;00m box \u001b[38;5;129;01mis\u001b[39;00m \u001b[38;5;129;01mnot\u001b[39;00m \u001b[38;5;28;01mNone\u001b[39;00m:\n\u001b[1;32m    196\u001b[0m     \u001b[38;5;28;01mif\u001b[39;00m box[\u001b[38;5;241m0\u001b[39m] \u001b[38;5;129;01mis\u001b[39;00m \u001b[38;5;129;01mnot\u001b[39;00m \u001b[38;5;28;01mNone\u001b[39;00m:\n\u001b[0;32m--> 197\u001b[0m         box \u001b[38;5;241m=\u001b[39m \u001b[43mpuw\u001b[49m\u001b[38;5;241;43m.\u001b[39;49m\u001b[43mget_value\u001b[49m\u001b[43m(\u001b[49m\u001b[43mbox\u001b[49m\u001b[43m,\u001b[49m\u001b[43m \u001b[49m\u001b[43mto_unit\u001b[49m\u001b[38;5;241;43m=\u001b[39;49m\u001b[43mlength_unit\u001b[49m\u001b[43m)\u001b[49m\n\u001b[1;32m    198\u001b[0m         distances \u001b[38;5;241m=\u001b[39m msmlib\u001b[38;5;241m.\u001b[39mstructure\u001b[38;5;241m.\u001b[39mget_mic_distances(coordinates,\n\u001b[1;32m    199\u001b[0m                     coordinates_2, box)\n\u001b[1;32m    200\u001b[0m         \u001b[38;5;28;01mdel\u001b[39;00m(coordinates, coordinates_2, box)\n",
      "File \u001b[0;32m~/Myopt/miniconda3/envs/MolSysMT@uibcdf_3.10/lib/python3.10/site-packages/pyunitwizard/main.py:123\u001b[0m, in \u001b[0;36mget_value\u001b[0;34m(quantity, to_unit, parser, standardized)\u001b[0m\n\u001b[1;32m    120\u001b[0m     quantity \u001b[38;5;241m=\u001b[39m standardize(quantity)\n\u001b[1;32m    121\u001b[0m     to_unit \u001b[38;5;241m=\u001b[39m \u001b[38;5;28;01mNone\u001b[39;00m\n\u001b[0;32m--> 123\u001b[0m \u001b[38;5;28;01mreturn\u001b[39;00m \u001b[43mconvert\u001b[49m\u001b[43m(\u001b[49m\u001b[43mquantity\u001b[49m\u001b[43m,\u001b[49m\u001b[43m \u001b[49m\u001b[43mto_unit\u001b[49m\u001b[38;5;241;43m=\u001b[39;49m\u001b[43mto_unit\u001b[49m\u001b[43m,\u001b[49m\u001b[43m \u001b[49m\u001b[43mparser\u001b[49m\u001b[38;5;241;43m=\u001b[39;49m\u001b[43mparser\u001b[49m\u001b[43m,\u001b[49m\u001b[43m \u001b[49m\u001b[43mto_type\u001b[49m\u001b[38;5;241;43m=\u001b[39;49m\u001b[38;5;124;43m'\u001b[39;49m\u001b[38;5;124;43mvalue\u001b[39;49m\u001b[38;5;124;43m'\u001b[39;49m\u001b[43m)\u001b[49m\n",
      "File \u001b[0;32m~/Myopt/miniconda3/envs/MolSysMT@uibcdf_3.10/lib/python3.10/site-packages/pyunitwizard/main.py:625\u001b[0m, in \u001b[0;36mconvert\u001b[0;34m(quantity_or_unit, to_unit, to_form, parser, to_type)\u001b[0m\n\u001b[1;32m    622\u001b[0m         output \u001b[38;5;241m=\u001b[39m dict_translate_quantity[form_in][to_form](quantity_or_unit)\n\u001b[1;32m    624\u001b[0m \u001b[38;5;28;01mif\u001b[39;00m to_unit \u001b[38;5;129;01mis\u001b[39;00m \u001b[38;5;129;01mnot\u001b[39;00m \u001b[38;5;28;01mNone\u001b[39;00m:\n\u001b[0;32m--> 625\u001b[0m     output \u001b[38;5;241m=\u001b[39m \u001b[43mdict_convert\u001b[49m\u001b[43m[\u001b[49m\u001b[43mto_form\u001b[49m\u001b[43m]\u001b[49m\u001b[43m(\u001b[49m\u001b[43moutput\u001b[49m\u001b[43m,\u001b[49m\u001b[43m \u001b[49m\u001b[43mto_unit\u001b[49m\u001b[43m)\u001b[49m\n\u001b[1;32m    627\u001b[0m \u001b[38;5;28;01mif\u001b[39;00m to_type \u001b[38;5;241m==\u001b[39m \u001b[38;5;124m'\u001b[39m\u001b[38;5;124munit\u001b[39m\u001b[38;5;124m'\u001b[39m:\n\u001b[1;32m    628\u001b[0m     \u001b[38;5;28;01mif\u001b[39;00m is_unit(output):\n",
      "File \u001b[0;32m~/Myopt/miniconda3/envs/MolSysMT@uibcdf_3.10/lib/python3.10/site-packages/pyunitwizard/forms/api_openmm_unit.py:195\u001b[0m, in \u001b[0;36mconvert\u001b[0;34m(quantity, unit)\u001b[0m\n\u001b[1;32m    178\u001b[0m \u001b[38;5;28;01mdef\u001b[39;00m \u001b[38;5;21mconvert\u001b[39m(quantity: openmm_unit\u001b[38;5;241m.\u001b[39mQuantity, \n\u001b[1;32m    179\u001b[0m             unit: openmm_unit\u001b[38;5;241m.\u001b[39mUnit) \u001b[38;5;241m-\u001b[39m\u001b[38;5;241m>\u001b[39m openmm_unit\u001b[38;5;241m.\u001b[39mQuantity:\n\u001b[1;32m    180\u001b[0m \u001b[38;5;250m    \u001b[39m\u001b[38;5;124;03m\"\"\" Converts the quantity to a different unit.\u001b[39;00m\n\u001b[1;32m    181\u001b[0m \n\u001b[1;32m    182\u001b[0m \u001b[38;5;124;03m        Parameters\u001b[39;00m\n\u001b[0;32m   (...)\u001b[0m\n\u001b[1;32m    193\u001b[0m \u001b[38;5;124;03m            The converted quantity.\u001b[39;00m\n\u001b[1;32m    194\u001b[0m \u001b[38;5;124;03m    \"\"\"\u001b[39;00m\n\u001b[0;32m--> 195\u001b[0m     \u001b[38;5;28;01mreturn\u001b[39;00m \u001b[43mquantity\u001b[49m\u001b[38;5;241;43m.\u001b[39;49m\u001b[43min_units_of\u001b[49m\u001b[43m(\u001b[49m\u001b[43munit\u001b[49m\u001b[43m)\u001b[49m\n",
      "File \u001b[0;32m~/Myopt/miniconda3/envs/MolSysMT@uibcdf_3.10/lib/python3.10/site-packages/openmm/unit/quantity.py:659\u001b[0m, in \u001b[0;36mQuantity.in_units_of\u001b[0;34m(self, other_unit)\u001b[0m\n\u001b[1;32m    648\u001b[0m \u001b[38;5;250m\u001b[39m\u001b[38;5;124;03m\"\"\"\u001b[39;00m\n\u001b[1;32m    649\u001b[0m \u001b[38;5;124;03mReturns an equal Quantity expressed in different units.\u001b[39;00m\n\u001b[1;32m    650\u001b[0m \n\u001b[0;32m   (...)\u001b[0m\n\u001b[1;32m    656\u001b[0m \u001b[38;5;124;03m  and  result = value * factor when post_multiply is True\u001b[39;00m\n\u001b[1;32m    657\u001b[0m \u001b[38;5;124;03m\"\"\"\u001b[39;00m\n\u001b[1;32m    658\u001b[0m \u001b[38;5;28;01mif\u001b[39;00m \u001b[38;5;129;01mnot\u001b[39;00m \u001b[38;5;28mself\u001b[39m\u001b[38;5;241m.\u001b[39munit\u001b[38;5;241m.\u001b[39mis_compatible(other_unit):\n\u001b[0;32m--> 659\u001b[0m     \u001b[38;5;28;01mraise\u001b[39;00m \u001b[38;5;167;01mTypeError\u001b[39;00m(\u001b[38;5;124m'\u001b[39m\u001b[38;5;124mUnit \u001b[39m\u001b[38;5;124m\"\u001b[39m\u001b[38;5;132;01m%s\u001b[39;00m\u001b[38;5;124m\"\u001b[39m\u001b[38;5;124m is not compatible with Unit \u001b[39m\u001b[38;5;124m\"\u001b[39m\u001b[38;5;132;01m%s\u001b[39;00m\u001b[38;5;124m\"\u001b[39m\u001b[38;5;124m.\u001b[39m\u001b[38;5;124m'\u001b[39m \u001b[38;5;241m%\u001b[39m (\u001b[38;5;28mself\u001b[39m\u001b[38;5;241m.\u001b[39munit, other_unit))\n\u001b[1;32m    660\u001b[0m f \u001b[38;5;241m=\u001b[39m \u001b[38;5;28mself\u001b[39m\u001b[38;5;241m.\u001b[39munit\u001b[38;5;241m.\u001b[39mconversion_factor_to(other_unit)\n\u001b[1;32m    661\u001b[0m \u001b[38;5;28;01mreturn\u001b[39;00m \u001b[38;5;28mself\u001b[39m\u001b[38;5;241m.\u001b[39m_change_units_with_factor(other_unit, f)\n",
      "\u001b[0;31mTypeError\u001b[0m: Unit \"nanometer\" is not compatible with Unit \"nanometer\"."
     ]
    }
   ],
   "source": [
    "msm.structure.get_distances(molecular_system=state_init, molecular_system_2=state_end)"
   ]
  },
  {
   "cell_type": "code",
   "execution_count": null,
   "id": "f093edb5-9864-4f70-8789-6df9689a05f9",
   "metadata": {},
   "outputs": [],
   "source": []
  }
 ],
 "metadata": {
  "kernelspec": {
   "display_name": "Python 3 (ipykernel)",
   "language": "python",
   "name": "python3"
  },
  "language_info": {
   "codemirror_mode": {
    "name": "ipython",
    "version": 3
   },
   "file_extension": ".py",
   "mimetype": "text/x-python",
   "name": "python",
   "nbconvert_exporter": "python",
   "pygments_lexer": "ipython3",
   "version": "3.10.12"
  }
 },
 "nbformat": 4,
 "nbformat_minor": 5
}
