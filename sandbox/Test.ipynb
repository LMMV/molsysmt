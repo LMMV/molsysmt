{
 "cells": [
  {
   "cell_type": "code",
   "execution_count": 1,
   "id": "27267251-f29d-42ff-b32f-87c7254debb2",
   "metadata": {},
   "outputs": [
    {
     "data": {
      "application/vnd.jupyter.widget-view+json": {
       "model_id": "c834aca89c784a598add262c8ba65047",
       "version_major": 2,
       "version_minor": 0
      },
      "text/plain": []
     },
     "metadata": {},
     "output_type": "display_data"
    }
   ],
   "source": [
    "import molsysmt as msm\n",
    "import numpy as np\n",
    "from molsysmt import pyunitwizard as puw"
   ]
  },
  {
   "cell_type": "code",
   "execution_count": 2,
   "id": "086a9e7c-9bdb-4fdd-b8b3-0f6fc90dd891",
   "metadata": {},
   "outputs": [],
   "source": [
    "molsys = msm.convert(msm.systems['pentalanine']['traj_pentalanine.h5'], to_form='molsysmt.MolSys')\n",
    "CA_atoms_list = msm.select(molsys, selection='atom_name==\"CA\"')\n",
    "neighbors, distances = msm.structure.get_neighbors(molsys, selection=CA_atoms_list, n_neighbors=3)\n",
    "check_shape_1 = ((5000, 5, 3)==neighbors.shape)\n",
    "check_shape_2 = ((5000, 5, 3)==distances.shape)\n",
    "check_distance = np.isclose(puw.get_value(distances[2000,0,0], to_unit='nm'), 0.38743175)"
   ]
  },
  {
   "cell_type": "code",
   "execution_count": 3,
   "id": "a1dc12d5-3d7f-4341-92d0-3dd01bc04b40",
   "metadata": {},
   "outputs": [
    {
     "data": {
      "text/html": [
       "0.3874317590975941 nanometer"
      ],
      "text/latex": [
       "$0.3874317590975941\\ \\mathrm{nanometer}$"
      ],
      "text/plain": [
       "<Quantity(0.387431759, 'nanometer')>"
      ]
     },
     "execution_count": 3,
     "metadata": {},
     "output_type": "execute_result"
    }
   ],
   "source": [
    "distances[2000,0,0]"
   ]
  },
  {
   "cell_type": "code",
   "execution_count": null,
   "id": "1758a8fe-5fdb-4b88-88da-ee27697a2a6d",
   "metadata": {},
   "outputs": [],
   "source": []
  }
 ],
 "metadata": {
  "kernelspec": {
   "display_name": "Python 3 (ipykernel)",
   "language": "python",
   "name": "python3"
  },
  "language_info": {
   "codemirror_mode": {
    "name": "ipython",
    "version": 3
   },
   "file_extension": ".py",
   "mimetype": "text/x-python",
   "name": "python",
   "nbconvert_exporter": "python",
   "pygments_lexer": "ipython3",
   "version": "3.12.8"
  }
 },
 "nbformat": 4,
 "nbformat_minor": 5
}
