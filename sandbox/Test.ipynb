{
 "cells": [
  {
   "cell_type": "markdown",
   "id": "85d75849-5640-43b7-8b93-87cdbf6b8792",
   "metadata": {},
   "source": [
    "# Test"
   ]
  },
  {
   "cell_type": "code",
   "execution_count": 1,
   "id": "08aee8bc-0efe-44a5-9aa6-24131ae8137e",
   "metadata": {},
   "outputs": [
    {
     "data": {
      "application/vnd.jupyter.widget-view+json": {
       "model_id": "f53950909c83431ea90114792ce17106",
       "version_major": 2,
       "version_minor": 0
      },
      "text/plain": []
     },
     "metadata": {},
     "output_type": "display_data"
    }
   ],
   "source": [
    "import molsysmt as msm"
   ]
  },
  {
   "cell_type": "code",
   "execution_count": 2,
   "id": "4ad7bc96-0f77-4bb5-bfa0-fa5296ed5d3d",
   "metadata": {},
   "outputs": [],
   "source": [
    "import openmm as mm\n",
    "from openmm import app\n",
    "from openmm import unit"
   ]
  },
  {
   "cell_type": "code",
   "execution_count": 3,
   "id": "fb99ac8c-b8d1-4b7c-9fcd-5232289b8732",
   "metadata": {},
   "outputs": [],
   "source": [
    "molsys = msm.convert('4POC')"
   ]
  },
  {
   "cell_type": "code",
   "execution_count": 4,
   "id": "046c5eec-7ab2-409c-9291-da9c19e67728",
   "metadata": {},
   "outputs": [],
   "source": [
    "molsys = msm.extract(molsys, selection='molecule_type==\"protein\"')"
   ]
  },
  {
   "cell_type": "code",
   "execution_count": 5,
   "id": "72ecea0d-a32d-49da-b929-2ceb66136b8e",
   "metadata": {},
   "outputs": [],
   "source": [
    "molsys = msm.build.add_missing_hydrogens(molsys)"
   ]
  },
  {
   "cell_type": "code",
   "execution_count": 6,
   "id": "5b5471e7-546b-40fc-8bae-e4efd798a3fc",
   "metadata": {},
   "outputs": [],
   "source": [
    "molsys = msm.build.solvate(molsys)"
   ]
  },
  {
   "cell_type": "code",
   "execution_count": 7,
   "id": "faf46e30-3984-462d-b82a-67fa375d0dad",
   "metadata": {},
   "outputs": [],
   "source": [
    "forcefield = app.ForceField('amber14-all.xml', 'amber14/tip3p.xml')"
   ]
  },
  {
   "cell_type": "code",
   "execution_count": 8,
   "id": "610249ba-1992-4457-aa75-90f8ec791d9c",
   "metadata": {},
   "outputs": [],
   "source": [
    "topology = msm.convert(molsys, 'openmm.Topology')"
   ]
  },
  {
   "cell_type": "code",
   "execution_count": 9,
   "id": "a64d8439-6611-4129-9a4d-993cbf83ce67",
   "metadata": {},
   "outputs": [],
   "source": [
    "system = forcefield.createSystem(topology, nonbondedMethod=app.PME,\n",
    "        nonbondedCutoff=1.2*unit.nanometer, constraints=app.HBonds)"
   ]
  },
  {
   "cell_type": "code",
   "execution_count": 10,
   "id": "fc909c3f-345d-4c1f-b5f8-eb71eb22bf76",
   "metadata": {},
   "outputs": [],
   "source": [
    "integrator = mm.LangevinIntegrator(300*unit.kelvin, 1.0/unit.picosecond, 2.0*unit.femtoseconds)"
   ]
  },
  {
   "cell_type": "code",
   "execution_count": 11,
   "id": "4102c0c6-7d97-4964-bbe9-f24356e97b08",
   "metadata": {},
   "outputs": [],
   "source": [
    "simulation = app.Simulation(topology, system, integrator)"
   ]
  },
  {
   "cell_type": "code",
   "execution_count": 12,
   "id": "b3cbdb1e-1eb1-430e-be46-7b20a9e3928e",
   "metadata": {},
   "outputs": [],
   "source": [
    "coordinates = msm.get(molsys, coordinates=True)\n",
    "positions = msm.pyunitwizard.convert(coordinates[0], to_form='openmm.unit')"
   ]
  },
  {
   "cell_type": "code",
   "execution_count": 13,
   "id": "ec61ac73-777e-4d22-b3d7-cbc32b4a8cac",
   "metadata": {},
   "outputs": [],
   "source": [
    "simulation.context.setPositions(positions)\n",
    "simulation.minimizeEnergy()"
   ]
  },
  {
   "cell_type": "code",
   "execution_count": 14,
   "id": "21c83228-ba57-450b-967b-b7b6195e2a1a",
   "metadata": {},
   "outputs": [],
   "source": [
    "from molsysmt.thirds.openmm.reporters import MolSysMTTrajectoryDictReporter"
   ]
  },
  {
   "cell_type": "code",
   "execution_count": 15,
   "id": "7282a59c-8f33-45e9-914d-878659a93cac",
   "metadata": {},
   "outputs": [],
   "source": [
    "reporter = MolSysMTTrajectoryDictReporter(10)"
   ]
  },
  {
   "cell_type": "code",
   "execution_count": 16,
   "id": "341caca1-69fa-405b-b600-04d5f706c2fb",
   "metadata": {},
   "outputs": [],
   "source": [
    "simulation.reporters.append(reporter)"
   ]
  },
  {
   "cell_type": "code",
   "execution_count": 17,
   "id": "330346e6-fd22-4fb6-b37e-e399d5c4b054",
   "metadata": {},
   "outputs": [],
   "source": [
    "simulation.step(100)"
   ]
  },
  {
   "cell_type": "code",
   "execution_count": 18,
   "id": "698f41f6-803c-4865-a581-40fc5bbb4dd2",
   "metadata": {},
   "outputs": [],
   "source": [
    "traj = reporter.finalize()"
   ]
  },
  {
   "cell_type": "code",
   "execution_count": 19,
   "id": "bba307ec-7e89-4468-9ca0-cfb4750268db",
   "metadata": {},
   "outputs": [
    {
     "data": {
      "text/plain": [
       "{'time': Quantity(value=array([0.  , 0.02, 0.04, 0.06, 0.08, 0.1 , 0.12, 0.14, 0.16, 0.18, 0.2 ]), unit=picosecond),\n",
       " 'coordinates': Quantity(value=array([[[-0.52761507, -1.61110878, -0.43043712],\n",
       "         [-0.59581929, -1.53701353, -0.42274651],\n",
       "         [-0.54802489, -1.66715348, -0.51194501],\n",
       "         ...,\n",
       "         [-0.75094455,  2.58844328,  1.71957123],\n",
       "         [ 5.33549976,  3.03071833,  5.38550663],\n",
       "         [ 0.21965198, -3.46578407,  4.61602974]],\n",
       " \n",
       "        [[ 2.31212519,  6.42123636, -0.42993152],\n",
       "         [ 2.24291627,  6.49451229, -0.42346865],\n",
       "         [ 2.29350488,  6.36354849, -0.51071763],\n",
       "         ...,\n",
       "         [ 7.76926383,  2.58863664,  1.71946049],\n",
       "         [ 5.3344655 ,  3.03026676,  5.38542366],\n",
       "         [ 3.05988586,  4.5661467 ,  4.6149044 ]],\n",
       " \n",
       "        [[ 2.31282501,  6.42183921, -0.43007195],\n",
       "         [ 2.24720179,  6.49855932, -0.42713368],\n",
       "         [ 2.2928754 ,  6.36384901, -0.51032257],\n",
       "         ...,\n",
       "         [ 7.76894959,  2.58924079,  1.72070861],\n",
       "         [ 5.3335309 ,  3.03114295,  5.38555956],\n",
       "         [ 3.06009405,  4.56446585,  4.61411715]],\n",
       " \n",
       "        ...,\n",
       " \n",
       "        [[ 2.31008147,  6.42552706, -0.43585452],\n",
       "         [ 2.24282293,  6.50026521, -0.4262878 ],\n",
       "         [ 2.29221396,  6.36900017, -0.51762533],\n",
       "         ...,\n",
       "         [ 7.76051756,  2.58141446,  1.71395075],\n",
       "         [ 5.33837652,  3.03030634,  5.38467026],\n",
       "         [ 3.06430103,  4.57314214,  4.61558533]],\n",
       " \n",
       "        [[ 2.3107522 ,  6.42420217, -0.43787822],\n",
       "         [ 2.2457745 ,  6.50042769, -0.42489365],\n",
       "         [ 2.29207497,  6.37310728, -0.52297509],\n",
       "         ...,\n",
       "         [ 7.75853887,  2.58132243,  1.71800232],\n",
       "         [ 5.33875275,  3.03021359,  5.38564777],\n",
       "         [ 3.0644206 ,  4.5755032 ,  4.61535692]],\n",
       " \n",
       "        [[ 2.30892919,  6.42468938, -0.44276822],\n",
       "         [ 2.23791837,  6.49379453, -0.42320001],\n",
       "         [ 2.29039376,  6.37370071, -0.52795976],\n",
       "         ...,\n",
       "         [ 7.75857499,  2.58202696,  1.72276366],\n",
       "         [ 5.33716774,  3.03151321,  5.38751841],\n",
       "         [ 3.06540929,  4.57704672,  4.61386013]]]), unit=nanometer)}"
      ]
     },
     "execution_count": 19,
     "metadata": {},
     "output_type": "execute_result"
    }
   ],
   "source": [
    "traj"
   ]
  },
  {
   "cell_type": "code",
   "execution_count": null,
   "id": "31117455-d921-49a8-a5f6-e4758605d58a",
   "metadata": {},
   "outputs": [],
   "source": []
  }
 ],
 "metadata": {
  "kernelspec": {
   "display_name": "Python 3 (ipykernel)",
   "language": "python",
   "name": "python3"
  },
  "language_info": {
   "codemirror_mode": {
    "name": "ipython",
    "version": 3
   },
   "file_extension": ".py",
   "mimetype": "text/x-python",
   "name": "python",
   "nbconvert_exporter": "python",
   "pygments_lexer": "ipython3",
   "version": "3.10.12"
  }
 },
 "nbformat": 4,
 "nbformat_minor": 5
}
