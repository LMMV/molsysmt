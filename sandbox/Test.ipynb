{
 "cells": [
  {
   "cell_type": "code",
   "execution_count": 1,
   "id": "15140b3f-bbbc-4222-8cc8-3ae87532b76a",
   "metadata": {
    "tags": []
   },
   "outputs": [
    {
     "data": {
      "application/vnd.jupyter.widget-view+json": {
       "model_id": "279e33477de44152827749429ad4f8e7",
       "version_major": 2,
       "version_minor": 0
      },
      "text/plain": []
     },
     "metadata": {},
     "output_type": "display_data"
    }
   ],
   "source": [
    "import molsysmt as msm"
   ]
  },
  {
   "cell_type": "code",
   "execution_count": null,
   "id": "205358c6-9cda-4865-b4f7-7b0e460a109a",
   "metadata": {},
   "outputs": [],
   "source": [
    "molsys = msm.convert('aminoacids3:AlaValPro', to_form='string:aminoacids3')"
   ]
  },
  {
   "cell_type": "code",
   "execution_count": null,
   "id": "4ce88ff1-8bd1-4834-b82f-9a455da69dfc",
   "metadata": {
    "tags": []
   },
   "outputs": [],
   "source": [
    "molsys = msm.convert('pdb_id:1vii', to_form='molsysmt.MolSys')\n",
    "molsys = msm.basic.remove(molsys, selection='group_type==[\"water\", \"ion\"]')\n",
    "molsys = msm.basic.remove(molsys, selection='atom_type==\"H\"')\n",
    "molsys = msm.build.add_missing_terminal_cappings(molsys, N_terminal='ACE', C_terminal='NME')\n",
    "molsys = msm.build.add_missing_hydrogens(molsys, pH=7.4)"
   ]
  },
  {
   "cell_type": "code",
   "execution_count": null,
   "id": "e403b871-ab8c-420f-a7f4-cbeab0d2a89f",
   "metadata": {},
   "outputs": [],
   "source": [
    "aa = msm.convert([molsys, {'forcefield':'AMBER14', 'water_model':'TIP3P'}], to_form='molsysmt.MolecularMechanics')"
   ]
  },
  {
   "cell_type": "code",
   "execution_count": null,
   "id": "c80faac4-c39e-4860-a8d3-07e0a6fef651",
   "metadata": {},
   "outputs": [],
   "source": [
    "aa.forcefield"
   ]
  },
  {
   "cell_type": "code",
   "execution_count": null,
   "id": "f97ce6d2-862e-421c-bfa3-d5906e7f212d",
   "metadata": {},
   "outputs": [],
   "source": [
    "msm.has_attribute([molsys, {'forcefield':'AMBER14', 'water_model':'TIP3P'}], 'kappa')"
   ]
  },
  {
   "cell_type": "code",
   "execution_count": null,
   "id": "535f58f5-8664-46a6-a69f-d678b545c2b2",
   "metadata": {},
   "outputs": [],
   "source": [
    "msm.where_is_attribute([molsys, {'forcefield':'AMBER14', 'water_model':'TIP3P'}], 'kappa')"
   ]
  },
  {
   "cell_type": "code",
   "execution_count": null,
   "id": "e918a9c7-6600-45c4-9cdf-b123b3e09e13",
   "metadata": {},
   "outputs": [],
   "source": [
    "molsys = msm.build.solvate([molsys, {'forcefield':'AMBER14', 'water_model':'TIP3P'}],\n",
    "                   box_shape='truncated octahedral', clearance='14.0 angstroms',\n",
    "                   to_form='molsysmt.MolSys', engine=\"OpenMM\")"
   ]
  },
  {
   "cell_type": "code",
   "execution_count": null,
   "id": "011b2546-251c-4d8b-8702-a6d75e862d4f",
   "metadata": {},
   "outputs": [],
   "source": [
    "molsys.molecular_mechanics.flexible_constraints"
   ]
  },
  {
   "cell_type": "code",
   "execution_count": null,
   "id": "4d1dba46-081d-49ad-83fe-8e3c32d0d5f9",
   "metadata": {},
   "outputs": [],
   "source": []
  }
 ],
 "metadata": {
  "kernelspec": {
   "display_name": "Python 3 (ipykernel)",
   "language": "python",
   "name": "python3"
  },
  "language_info": {
   "codemirror_mode": {
    "name": "ipython",
    "version": 3
   },
   "file_extension": ".py",
   "mimetype": "text/x-python",
   "name": "python",
   "nbconvert_exporter": "python",
   "pygments_lexer": "ipython3",
   "version": "3.9.15"
  }
 },
 "nbformat": 4,
 "nbformat_minor": 5
}
