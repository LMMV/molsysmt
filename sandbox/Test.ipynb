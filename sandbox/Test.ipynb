{
 "cells": [
  {
   "cell_type": "code",
   "execution_count": 1,
   "id": "27267251-f29d-42ff-b32f-87c7254debb2",
   "metadata": {},
   "outputs": [
    {
     "data": {
      "application/vnd.jupyter.widget-view+json": {
       "model_id": "e5995cc9d2f340ae879d5717f8f42903",
       "version_major": 2,
       "version_minor": 0
      },
      "text/plain": []
     },
     "metadata": {},
     "output_type": "display_data"
    }
   ],
   "source": [
    "import molsysmt as msm\n",
    "import numpy as np\n",
    "from molsysmt import pyunitwizard as puw"
   ]
  },
  {
   "cell_type": "code",
   "execution_count": 5,
   "id": "f8780d0b-0f6e-4842-970b-8224061e4604",
   "metadata": {},
   "outputs": [],
   "source": [
    "molsys_AF = msm.convert('AF-P52789-F1')"
   ]
  },
  {
   "cell_type": "code",
   "execution_count": 10,
   "id": "716b2d22-d11a-4f54-9e25-c02b43380aa9",
   "metadata": {},
   "outputs": [],
   "source": [
    "molsys_AF = msm.build.add_missing_hydrogens(molsys_AF, pH=7.4)"
   ]
  },
  {
   "cell_type": "code",
   "execution_count": 11,
   "id": "a8817102-c168-4e5a-8491-9b48e3adcf79",
   "metadata": {},
   "outputs": [],
   "source": [
    "import openmm as mm\n",
    "from openmm import unit\n",
    "from openmm import app\n",
    "from tqdm import tqdm\n",
    "import numpy as np\n",
    "from matplotlib import pyplot as plt"
   ]
  },
  {
   "cell_type": "code",
   "execution_count": 13,
   "id": "a4515fb4-f515-4b05-832e-78ee73e26136",
   "metadata": {},
   "outputs": [],
   "source": [
    "topology = msm.convert(molsys_AF, to_form='openmm.Topology')\n",
    "positions = msm.get(molsys_AF, element='atom', structure_indices=0, coordinates=True)\n",
    "positions = msm.pyunitwizard.convert(positions[0], to_form='openmm.unit')"
   ]
  },
  {
   "cell_type": "code",
   "execution_count": 14,
   "id": "dc83ea13-59c1-4c53-bbe0-21949bdedaed",
   "metadata": {},
   "outputs": [],
   "source": [
    "forcefield = app.ForceField(\"amber14-all.xml\")"
   ]
  },
  {
   "cell_type": "code",
   "execution_count": 15,
   "id": "7d370d5d-13b1-46d6-b716-972f17546684",
   "metadata": {},
   "outputs": [],
   "source": [
    "system = forcefield.createSystem(topology, nonbondedMethod=app.NoCutoff, constraints=app.HBonds)"
   ]
  },
  {
   "cell_type": "code",
   "execution_count": 16,
   "id": "4bf37475-5621-46c2-a8a3-c7d085731e9c",
   "metadata": {},
   "outputs": [],
   "source": [
    "temperature = 0*unit.kelvin\n",
    "\n",
    "integration_timestep = 2.0*unit.femtoseconds\n",
    "saving_interval = 1.00*unit.picoseconds\n",
    "logging_interval = 100.00*unit.picoseconds\n",
    "simulation_time = 500.*unit.picoseconds\n",
    "\n",
    "saving_steps = int(saving_interval/integration_timestep)\n",
    "logging_steps = int(logging_interval/integration_timestep)\n",
    "md_steps = int(simulation_time/integration_timestep)"
   ]
  },
  {
   "cell_type": "code",
   "execution_count": 17,
   "id": "2cb86a0d-54e5-468d-864e-76d40adafb47",
   "metadata": {},
   "outputs": [],
   "source": [
    "friction   = 1.0/unit.picoseconds\n",
    "integrator = mm.LangevinIntegrator(temperature, friction, integration_timestep)"
   ]
  },
  {
   "cell_type": "code",
   "execution_count": 18,
   "id": "44bc2d79-3a7a-466b-901f-a15138e5ccf2",
   "metadata": {},
   "outputs": [],
   "source": [
    "platform = mm.Platform.getPlatformByName('OpenCL')"
   ]
  },
  {
   "cell_type": "code",
   "execution_count": 19,
   "id": "2487fdce-75fd-4771-b8c1-d4dc9458bf34",
   "metadata": {},
   "outputs": [],
   "source": [
    "simulation = app.Simulation(topology, system, integrator, platform)\n",
    "simulation.context.setPositions(positions)"
   ]
  },
  {
   "cell_type": "code",
   "execution_count": 20,
   "id": "59894e91-82de-4a0a-9811-d7a28fda5ad7",
   "metadata": {},
   "outputs": [
    {
     "data": {
      "text/plain": [
       "Quantity(value=112825.046875, unit=kilojoule/mole)"
      ]
     },
     "execution_count": 20,
     "metadata": {},
     "output_type": "execute_result"
    }
   ],
   "source": [
    "state=simulation.context.getState(getEnergy=True)\n",
    "state.getPotentialEnergy()"
   ]
  },
  {
   "cell_type": "code",
   "execution_count": 22,
   "id": "38c250e0-84d9-4692-b0a7-edc7b3389912",
   "metadata": {},
   "outputs": [
    {
     "data": {
      "text/plain": [
       "<openmm.openmm.State; proxy of <Swig Object of type 'OpenMM::State *' at 0x769e09a8a160> >"
      ]
     },
     "execution_count": 22,
     "metadata": {},
     "output_type": "execute_result"
    }
   ],
   "source": [
    "simulation.context.getState(getPositions=True)"
   ]
  },
  {
   "cell_type": "code",
   "execution_count": 21,
   "id": "abfd3047-e2ba-4b9d-aa61-d43633369c6f",
   "metadata": {},
   "outputs": [
    {
     "ename": "AttributeError",
     "evalue": "module 'molsysmt.form.openmm_Simulation' has no attribute 'get_coordinates_from_system'",
     "output_type": "error",
     "traceback": [
      "\u001b[0;31m---------------------------------------------------------------------------\u001b[0m",
      "\u001b[0;31mAttributeError\u001b[0m                            Traceback (most recent call last)",
      "Cell \u001b[0;32mIn[21], line 1\u001b[0m\n\u001b[0;32m----> 1\u001b[0m new_coordinates \u001b[38;5;241m=\u001b[39m \u001b[43mmsm\u001b[49m\u001b[38;5;241;43m.\u001b[39;49m\u001b[43mget\u001b[49m\u001b[43m(\u001b[49m\u001b[43msimulation\u001b[49m\u001b[43m,\u001b[49m\u001b[43m \u001b[49m\u001b[43mcoordinates\u001b[49m\u001b[38;5;241;43m=\u001b[39;49m\u001b[38;5;28;43;01mTrue\u001b[39;49;00m\u001b[43m)\u001b[49m\n",
      "File \u001b[0;32m~/repos@uibcdf/molsysmt/molsysmt/_private/digestion/digest.py:122\u001b[0m, in \u001b[0;36mdigest.<locals>.digestor.<locals>.wrapper\u001b[0;34m(*args, **kwargs)\u001b[0m\n\u001b[1;32m    120\u001b[0m     \u001b[38;5;28;01mreturn\u001b[39;00m func(all_args[\u001b[38;5;124m'\u001b[39m\u001b[38;5;124mself\u001b[39m\u001b[38;5;124m'\u001b[39m], \u001b[38;5;241m*\u001b[39m\u001b[38;5;241m*\u001b[39mfinal_args)\n\u001b[1;32m    121\u001b[0m \u001b[38;5;28;01melse\u001b[39;00m:\n\u001b[0;32m--> 122\u001b[0m     \u001b[38;5;28;01mreturn\u001b[39;00m \u001b[43mfunc\u001b[49m\u001b[43m(\u001b[49m\u001b[38;5;241;43m*\u001b[39;49m\u001b[38;5;241;43m*\u001b[39;49m\u001b[43mfinal_args\u001b[49m\u001b[43m)\u001b[49m\n",
      "File \u001b[0;32m~/repos@uibcdf/molsysmt/molsysmt/basic/get.py:201\u001b[0m, in \u001b[0;36mget\u001b[0;34m(molecular_system, element, selection, structure_indices, mask, syntax, get_missing_bonds, output_type, skip_digestion, **kwargs)\u001b[0m\n\u001b[1;32m    199\u001b[0m         result \u001b[38;5;241m=\u001b[39m \u001b[38;5;28;01mNone\u001b[39;00m\n\u001b[1;32m    200\u001b[0m     \u001b[38;5;28;01melse\u001b[39;00m:\n\u001b[0;32m--> 201\u001b[0m         aux_get \u001b[38;5;241m=\u001b[39m \u001b[38;5;28;43mgetattr\u001b[39;49m\u001b[43m(\u001b[49m\u001b[43m_dict_modules\u001b[49m\u001b[43m[\u001b[49m\u001b[43maux_form\u001b[49m\u001b[43m]\u001b[49m\u001b[43m,\u001b[49m\u001b[43m \u001b[49m\u001b[38;5;124;43mf\u001b[39;49m\u001b[38;5;124;43m'\u001b[39;49m\u001b[38;5;124;43mget_\u001b[39;49m\u001b[38;5;132;43;01m{\u001b[39;49;00m\u001b[43min_attribute\u001b[49m\u001b[38;5;132;43;01m}\u001b[39;49;00m\u001b[38;5;124;43m_from_\u001b[39;49m\u001b[38;5;132;43;01m{\u001b[39;49;00m\u001b[43melement\u001b[49m\u001b[38;5;132;43;01m}\u001b[39;49;00m\u001b[38;5;124;43m'\u001b[39;49m\u001b[43m)\u001b[49m\n\u001b[1;32m    202\u001b[0m         result \u001b[38;5;241m=\u001b[39m aux_get(aux_item, \u001b[38;5;241m*\u001b[39m\u001b[38;5;241m*\u001b[39mdict_indices)\n\u001b[1;32m    204\u001b[0m \u001b[38;5;28;01melse\u001b[39;00m:\n",
      "\u001b[0;31mAttributeError\u001b[0m: module 'molsysmt.form.openmm_Simulation' has no attribute 'get_coordinates_from_system'"
     ]
    }
   ],
   "source": [
    "new_coordinates = msm.get(simulation, coordinates=True)"
   ]
  },
  {
   "cell_type": "code",
   "execution_count": null,
   "id": "5c84729d-a86d-4d96-ab78-bae3a3f03c58",
   "metadata": {},
   "outputs": [],
   "source": []
  }
 ],
 "metadata": {
  "kernelspec": {
   "display_name": "Python 3 (ipykernel)",
   "language": "python",
   "name": "python3"
  },
  "language_info": {
   "codemirror_mode": {
    "name": "ipython",
    "version": 3
   },
   "file_extension": ".py",
   "mimetype": "text/x-python",
   "name": "python",
   "nbconvert_exporter": "python",
   "pygments_lexer": "ipython3",
   "version": "3.12.8"
  }
 },
 "nbformat": 4,
 "nbformat_minor": 5
}
