{
 "cells": [
  {
   "cell_type": "code",
   "execution_count": 1,
   "id": "b66433e0-2490-486b-9b95-7b78c31ea5b3",
   "metadata": {},
   "outputs": [
    {
     "data": {
      "application/vnd.jupyter.widget-view+json": {
       "model_id": "b74c554594d8475ebe8f09bee4e687b5",
       "version_major": 2,
       "version_minor": 0
      },
      "text/plain": []
     },
     "metadata": {},
     "output_type": "display_data"
    }
   ],
   "source": [
    "import molsysmt as msm"
   ]
  },
  {
   "cell_type": "code",
   "execution_count": 3,
   "id": "3d09005e-906b-4b85-acc2-1d080d2a369a",
   "metadata": {},
   "outputs": [],
   "source": [
    "molsys = msm.convert('2NZT')\n",
    "molsys = msm.remove(molsys, selection='group_type==[\"ion\",\"water\"]')"
   ]
  },
  {
   "cell_type": "code",
   "execution_count": 4,
   "id": "c5135803-5547-44be-a906-6af834e3ab59",
   "metadata": {},
   "outputs": [
    {
     "data": {
      "text/html": [
       "<style type=\"text/css\">\n",
       "</style>\n",
       "<table id=\"T_987d4\">\n",
       "  <thead>\n",
       "    <tr>\n",
       "      <th id=\"T_987d4_level0_col0\" class=\"col_heading level0 col0\" >form</th>\n",
       "      <th id=\"T_987d4_level0_col1\" class=\"col_heading level0 col1\" >n_atoms</th>\n",
       "      <th id=\"T_987d4_level0_col2\" class=\"col_heading level0 col2\" >n_groups</th>\n",
       "      <th id=\"T_987d4_level0_col3\" class=\"col_heading level0 col3\" >n_components</th>\n",
       "      <th id=\"T_987d4_level0_col4\" class=\"col_heading level0 col4\" >n_chains</th>\n",
       "      <th id=\"T_987d4_level0_col5\" class=\"col_heading level0 col5\" >n_molecules</th>\n",
       "      <th id=\"T_987d4_level0_col6\" class=\"col_heading level0 col6\" >n_entities</th>\n",
       "      <th id=\"T_987d4_level0_col7\" class=\"col_heading level0 col7\" >n_proteins</th>\n",
       "      <th id=\"T_987d4_level0_col8\" class=\"col_heading level0 col8\" >n_saccharides</th>\n",
       "      <th id=\"T_987d4_level0_col9\" class=\"col_heading level0 col9\" >n_structures</th>\n",
       "    </tr>\n",
       "  </thead>\n",
       "  <tbody>\n",
       "    <tr>\n",
       "      <td id=\"T_987d4_row0_col0\" class=\"data row0 col0\" >molsysmt.MolSys</td>\n",
       "      <td id=\"T_987d4_row0_col1\" class=\"data row0 col1\" >13421</td>\n",
       "      <td id=\"T_987d4_row0_col2\" class=\"data row0 col2\" >1746</td>\n",
       "      <td id=\"T_987d4_row0_col3\" class=\"data row0 col3\" >21</td>\n",
       "      <td id=\"T_987d4_row0_col4\" class=\"data row0 col4\" >10</td>\n",
       "      <td id=\"T_987d4_row0_col5\" class=\"data row0 col5\" >10</td>\n",
       "      <td id=\"T_987d4_row0_col6\" class=\"data row0 col6\" >3</td>\n",
       "      <td id=\"T_987d4_row0_col7\" class=\"data row0 col7\" >2</td>\n",
       "      <td id=\"T_987d4_row0_col8\" class=\"data row0 col8\" >8</td>\n",
       "      <td id=\"T_987d4_row0_col9\" class=\"data row0 col9\" >1</td>\n",
       "    </tr>\n",
       "  </tbody>\n",
       "</table>\n"
      ],
      "text/plain": [
       "<pandas.io.formats.style.Styler at 0x70acfd2d7cb0>"
      ]
     },
     "execution_count": 4,
     "metadata": {},
     "output_type": "execute_result"
    }
   ],
   "source": [
    "msm.info(molsys)"
   ]
  },
  {
   "cell_type": "code",
   "execution_count": null,
   "id": "8228c9fa-a508-4dde-a7e7-65976b2a0d09",
   "metadata": {},
   "outputs": [],
   "source": []
  }
 ],
 "metadata": {
  "kernelspec": {
   "display_name": "Python 3 (ipykernel)",
   "language": "python",
   "name": "python3"
  },
  "language_info": {
   "codemirror_mode": {
    "name": "ipython",
    "version": 3
   },
   "file_extension": ".py",
   "mimetype": "text/x-python",
   "name": "python",
   "nbconvert_exporter": "python",
   "pygments_lexer": "ipython3",
   "version": "3.12.8"
  }
 },
 "nbformat": 4,
 "nbformat_minor": 5
}
