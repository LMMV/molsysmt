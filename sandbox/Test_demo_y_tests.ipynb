{
 "cells": [
  {
   "cell_type": "code",
   "execution_count": 1,
   "id": "6849a3d6-9799-4a2a-b1bb-e03cef818178",
   "metadata": {},
   "outputs": [
    {
     "data": {
      "application/vnd.jupyter.widget-view+json": {
       "model_id": "8dbd8bf3a87044ae8b298caefba3664a",
       "version_major": 2,
       "version_minor": 0
      },
      "text/plain": []
     },
     "metadata": {},
     "output_type": "display_data"
    }
   ],
   "source": [
    "import molsysmt as msm"
   ]
  },
  {
   "cell_type": "code",
   "execution_count": 2,
   "id": "2533b1cd-6fef-4bc6-8e81-ee8c44589c4c",
   "metadata": {},
   "outputs": [],
   "source": [
    "molecular_system = msm.convert(msm.systems.demo['Barnase-Barstar']['barnase_barstar.msmpk'])"
   ]
  },
  {
   "cell_type": "code",
   "execution_count": 3,
   "id": "984aee1c-e921-4f84-8ce2-b811f8cd6cc7",
   "metadata": {},
   "outputs": [
    {
     "data": {
      "text/html": [
       "<style type=\"text/css\">\n",
       "</style>\n",
       "<table id=\"T_ee246\">\n",
       "  <thead>\n",
       "    <tr>\n",
       "      <th id=\"T_ee246_level0_col0\" class=\"col_heading level0 col0\" >index</th>\n",
       "      <th id=\"T_ee246_level0_col1\" class=\"col_heading level0 col1\" >name</th>\n",
       "      <th id=\"T_ee246_level0_col2\" class=\"col_heading level0 col2\" >type</th>\n",
       "      <th id=\"T_ee246_level0_col3\" class=\"col_heading level0 col3\" >n atoms</th>\n",
       "      <th id=\"T_ee246_level0_col4\" class=\"col_heading level0 col4\" >n groups</th>\n",
       "      <th id=\"T_ee246_level0_col5\" class=\"col_heading level0 col5\" >n components</th>\n",
       "      <th id=\"T_ee246_level0_col6\" class=\"col_heading level0 col6\" >chain index</th>\n",
       "      <th id=\"T_ee246_level0_col7\" class=\"col_heading level0 col7\" >entity index</th>\n",
       "      <th id=\"T_ee246_level0_col8\" class=\"col_heading level0 col8\" >entity name</th>\n",
       "    </tr>\n",
       "  </thead>\n",
       "  <tbody>\n",
       "    <tr>\n",
       "      <td id=\"T_ee246_row0_col0\" class=\"data row0 col0\" >0</td>\n",
       "      <td id=\"T_ee246_row0_col1\" class=\"data row0 col1\" >Barnase</td>\n",
       "      <td id=\"T_ee246_row0_col2\" class=\"data row0 col2\" >protein</td>\n",
       "      <td id=\"T_ee246_row0_col3\" class=\"data row0 col3\" >1727</td>\n",
       "      <td id=\"T_ee246_row0_col4\" class=\"data row0 col4\" >110</td>\n",
       "      <td id=\"T_ee246_row0_col5\" class=\"data row0 col5\" >1</td>\n",
       "      <td id=\"T_ee246_row0_col6\" class=\"data row0 col6\" >0</td>\n",
       "      <td id=\"T_ee246_row0_col7\" class=\"data row0 col7\" >0</td>\n",
       "      <td id=\"T_ee246_row0_col8\" class=\"data row0 col8\" >Barnase</td>\n",
       "    </tr>\n",
       "    <tr>\n",
       "      <td id=\"T_ee246_row1_col0\" class=\"data row1 col0\" >1</td>\n",
       "      <td id=\"T_ee246_row1_col1\" class=\"data row1 col1\" >Barstar</td>\n",
       "      <td id=\"T_ee246_row1_col2\" class=\"data row1 col2\" >protein</td>\n",
       "      <td id=\"T_ee246_row1_col3\" class=\"data row1 col3\" >1432</td>\n",
       "      <td id=\"T_ee246_row1_col4\" class=\"data row1 col4\" >89</td>\n",
       "      <td id=\"T_ee246_row1_col5\" class=\"data row1 col5\" >1</td>\n",
       "      <td id=\"T_ee246_row1_col6\" class=\"data row1 col6\" >1</td>\n",
       "      <td id=\"T_ee246_row1_col7\" class=\"data row1 col7\" >1</td>\n",
       "      <td id=\"T_ee246_row1_col8\" class=\"data row1 col8\" >Barstar</td>\n",
       "    </tr>\n",
       "  </tbody>\n",
       "</table>\n"
      ],
      "text/plain": [
       "<pandas.io.formats.style.Styler at 0x7f5f3d824b80>"
      ]
     },
     "execution_count": 3,
     "metadata": {},
     "output_type": "execute_result"
    }
   ],
   "source": [
    "msm.info(molecular_system, element='molecule')"
   ]
  },
  {
   "cell_type": "code",
   "execution_count": 4,
   "id": "cf21b555-9297-49ff-9db7-b3752204b49e",
   "metadata": {},
   "outputs": [],
   "source": [
    "msm.molecular_mechanics.potential_energy_minimization(molecular_system)"
   ]
  },
  {
   "cell_type": "code",
   "execution_count": 5,
   "id": "1d50552e-fe30-49bc-8672-ae7c1f917758",
   "metadata": {},
   "outputs": [
    {
     "data": {
      "text/plain": [
       "{'HarmonicBondForce': 410.2627258300781 <Unit('kilojoule / mole')>,\n",
       " 'PeriodicTorsionForce': 9531.5625 <Unit('kilojoule / mole')>,\n",
       " 'NonbondedForce': -36486.390625 <Unit('kilojoule / mole')>,\n",
       " 'CMMotionRemover': 0.0 <Unit('kilojoule / mole')>,\n",
       " 'HarmonicAngleForce': 1687.999755859375 <Unit('kilojoule / mole')>}"
      ]
     },
     "execution_count": 5,
     "metadata": {},
     "output_type": "execute_result"
    }
   ],
   "source": [
    "msm.molecular_mechanics.get_potential_energy(molecular_system, decomposition=True)"
   ]
  },
  {
   "cell_type": "code",
   "execution_count": 6,
   "id": "de8b4ace-73e5-4c7d-b14c-10032890c1ff",
   "metadata": {},
   "outputs": [],
   "source": [
    "U_interf= msm.molecular_mechanics.get_non_bonded_potential_energy(molecular_system, selection='molecule_name==\"Barnase\"',\n",
    "                                                                  selection_2='molecule_name==\"Barstar\"')"
   ]
  },
  {
   "cell_type": "code",
   "execution_count": 7,
   "id": "8ff89029-3d78-495e-892f-4ab621e0b03e",
   "metadata": {},
   "outputs": [
    {
     "data": {
      "text/html": [
       "-3168.12890625 kilojoule/mole"
      ],
      "text/latex": [
       "$-3168.12890625\\ \\frac{\\mathrm{kilojoule}}{\\mathrm{mole}}$"
      ],
      "text/plain": [
       "-3168.12890625 <Unit('kilojoule / mole')>"
      ]
     },
     "execution_count": 7,
     "metadata": {},
     "output_type": "execute_result"
    }
   ],
   "source": [
    "U_interf"
   ]
  },
  {
   "cell_type": "code",
   "execution_count": null,
   "id": "b6003f52-14ec-4951-ab5a-cc3b461a9e7c",
   "metadata": {},
   "outputs": [],
   "source": [
    "U_1= msm.molecular_mechanics.get_non_bonded_potential_energy(molecular_system, selection='molecule_name==\"Barnase\"')\n",
    "U_2= msm.molecular_mechanics.get_non_bonded_potential_energy(molecular_system, selection='molecule_name==\"Barstar\"')\n",
    "U_12= msm.molecular_mechanics.get_non_bonded_potential_energy(molecular_system, selection='all')"
   ]
  },
  {
   "cell_type": "code",
   "execution_count": null,
   "id": "0ba1011f-f644-4759-869e-ccd60ef793cd",
   "metadata": {},
   "outputs": [],
   "source": [
    "U_12-U_1-U_2"
   ]
  },
  {
   "cell_type": "code",
   "execution_count": null,
   "id": "22501be2-1f24-4381-8444-b8647b12a3ff",
   "metadata": {},
   "outputs": [],
   "source": []
  }
 ],
 "metadata": {
  "kernelspec": {
   "display_name": "Python 3 (ipykernel)",
   "language": "python",
   "name": "python3"
  },
  "language_info": {
   "codemirror_mode": {
    "name": "ipython",
    "version": 3
   },
   "file_extension": ".py",
   "mimetype": "text/x-python",
   "name": "python",
   "nbconvert_exporter": "python",
   "pygments_lexer": "ipython3",
   "version": "3.10.12"
  }
 },
 "nbformat": 4,
 "nbformat_minor": 5
}
