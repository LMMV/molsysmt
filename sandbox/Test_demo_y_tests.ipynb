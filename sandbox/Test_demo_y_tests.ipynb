{
 "cells": [
  {
   "cell_type": "code",
   "execution_count": 1,
   "id": "6849a3d6-9799-4a2a-b1bb-e03cef818178",
   "metadata": {},
   "outputs": [
    {
     "data": {
      "application/vnd.jupyter.widget-view+json": {
       "model_id": "b91e2d020b6b410b9d31b70edbf489fb",
       "version_major": 2,
       "version_minor": 0
      },
      "text/plain": []
     },
     "metadata": {},
     "output_type": "display_data"
    }
   ],
   "source": [
    "import molsysmt as msm"
   ]
  },
  {
   "cell_type": "code",
   "execution_count": 2,
   "id": "b9eb36e2-c58f-470e-9580-5119cb854cca",
   "metadata": {},
   "outputs": [],
   "source": [
    "molecular_system = msm.convert('1BRS')"
   ]
  },
  {
   "cell_type": "code",
   "execution_count": 3,
   "id": "2a086f9f-e1a7-4065-b92e-c9346f45c6f2",
   "metadata": {},
   "outputs": [],
   "source": [
    "molecular_system = msm.extract(molecular_system, selection='molecule_type==\"protein\"')"
   ]
  },
  {
   "cell_type": "code",
   "execution_count": 4,
   "id": "64cdc942-9266-4ea6-9984-5d2ef3f5637c",
   "metadata": {},
   "outputs": [],
   "source": [
    "barnase = msm.extract(molecular_system, selection=\"chain_name=='B'\")\n",
    "barstar_E = msm.extract(molecular_system, selection=\"chain_name=='E'\")\n",
    "barstar_F = msm.extract(molecular_system, selection=\"chain_name=='F'\")"
   ]
  },
  {
   "cell_type": "code",
   "execution_count": 5,
   "id": "c5fea49a-ae1e-4346-97e1-185180b622c1",
   "metadata": {},
   "outputs": [],
   "source": [
    "barstar_F_over_E = msm.structure.align(barstar_F, selection='atom_name==\"CA\"',\n",
    "                                       reference_molecular_system=barstar_E, reference_selection='atom_name==\"CA\"')"
   ]
  },
  {
   "cell_type": "code",
   "execution_count": 6,
   "id": "7f2ca2f0-dadf-41de-a5dd-34ef5b065e02",
   "metadata": {},
   "outputs": [],
   "source": [
    "barnase_barstar_a = msm.merge([barnase, barstar_F_over_E])"
   ]
  },
  {
   "cell_type": "code",
   "execution_count": 7,
   "id": "e2403648-c01f-4717-8bbd-986651eec4fc",
   "metadata": {},
   "outputs": [
    {
     "data": {
      "text/plain": [
       "[array([0, 0, 0, 0, 0, 0, 0, 0, 0, 0, 0, 0, 0, 0, 0, 0, 0, 0, 0, 0, 0, 0,\n",
       "        0, 0, 0, 0, 0, 0, 0, 0, 0, 0, 0, 0, 0, 0, 0, 0, 0, 0, 0, 0, 0, 0,\n",
       "        0, 0, 0, 0, 0, 0, 0, 0, 0, 0, 0, 0, 0, 0, 0, 0, 0, 0, 0, 0, 0, 0,\n",
       "        0, 0, 0, 0, 0, 0, 0, 0, 0, 0, 0, 0, 0, 0, 0, 0, 0, 0, 0, 0, 0, 0,\n",
       "        0, 0, 0, 0, 0, 0, 0, 0, 0, 0, 0, 0, 0, 0, 0, 0, 0, 0, 0, 0, 0, 0,\n",
       "        1, 1, 1, 1, 1, 1, 1, 1, 1, 1, 1, 1, 1, 1, 1, 1, 1, 1, 1, 1, 1, 1,\n",
       "        1, 1, 1, 1, 1, 1, 1, 1, 1, 1, 1, 1, 1, 1, 1, 1, 1, 1, 1, 1, 1, 1,\n",
       "        1, 1, 1, 1, 1, 1, 1, 1, 1, 1, 1, 1, 1, 1, 1, 1, 1, 1, 1, 1, 1, 1,\n",
       "        1, 1, 1, 1, 1, 1, 1, 1, 1, 1, 1, 1, 1, 1, 1, 1, 1, 1, 1, 1, 1, 1,\n",
       "        1]),\n",
       " array([1, 1, 1, 1, 1, 1, 1, 1, 1, 1, 1, 1, 1, 1, 1, 1, 1, 1, 1, 1, 1, 1,\n",
       "        1, 1, 1, 1, 1, 1, 1, 1, 1, 1, 1, 1, 1, 1, 1, 1, 1, 1, 1, 1, 1, 1,\n",
       "        1, 1, 1, 1, 1, 1, 1, 1, 1, 1, 1, 1, 1, 1, 1, 1, 1, 1, 1, 1, 1, 1,\n",
       "        1, 1, 1, 1, 1, 1, 1, 1, 1, 1, 1, 1, 1, 1, 1, 1, 1, 1, 1, 1, 1, 1,\n",
       "        1, 1, 1, 1, 1, 1, 1, 1, 1, 1, 1, 1, 1, 1, 1, 1, 1, 1, 1, 1, 1, 1,\n",
       "        5, 5, 5, 5, 5, 5, 5, 5, 5, 5, 5, 5, 5, 5, 5, 5, 5, 5, 5, 5, 5, 5,\n",
       "        5, 5, 5, 5, 5, 5, 5, 5, 5, 5, 5, 5, 5, 5, 5, 5, 5, 5, 5, 5, 5, 5,\n",
       "        5, 5, 5, 5, 5, 5, 5, 5, 5, 5, 5, 5, 5, 5, 5, 5, 5, 5, 5, 5, 5, 5,\n",
       "        5, 5, 5, 5, 5, 5, 5, 5, 5, 5, 5, 5, 5, 5, 5, 5, 5, 5, 5, 5, 5, 5,\n",
       "        5], dtype=object),\n",
       " array(['Barnase', 'Barnase', 'Barnase', 'Barnase', 'Barnase', 'Barnase',\n",
       "        'Barnase', 'Barnase', 'Barnase', 'Barnase', 'Barnase', 'Barnase',\n",
       "        'Barnase', 'Barnase', 'Barnase', 'Barnase', 'Barnase', 'Barnase',\n",
       "        'Barnase', 'Barnase', 'Barnase', 'Barnase', 'Barnase', 'Barnase',\n",
       "        'Barnase', 'Barnase', 'Barnase', 'Barnase', 'Barnase', 'Barnase',\n",
       "        'Barnase', 'Barnase', 'Barnase', 'Barnase', 'Barnase', 'Barnase',\n",
       "        'Barnase', 'Barnase', 'Barnase', 'Barnase', 'Barnase', 'Barnase',\n",
       "        'Barnase', 'Barnase', 'Barnase', 'Barnase', 'Barnase', 'Barnase',\n",
       "        'Barnase', 'Barnase', 'Barnase', 'Barnase', 'Barnase', 'Barnase',\n",
       "        'Barnase', 'Barnase', 'Barnase', 'Barnase', 'Barnase', 'Barnase',\n",
       "        'Barnase', 'Barnase', 'Barnase', 'Barnase', 'Barnase', 'Barnase',\n",
       "        'Barnase', 'Barnase', 'Barnase', 'Barnase', 'Barnase', 'Barnase',\n",
       "        'Barnase', 'Barnase', 'Barnase', 'Barnase', 'Barnase', 'Barnase',\n",
       "        'Barnase', 'Barnase', 'Barnase', 'Barnase', 'Barnase', 'Barnase',\n",
       "        'Barnase', 'Barnase', 'Barnase', 'Barnase', 'Barnase', 'Barnase',\n",
       "        'Barnase', 'Barnase', 'Barnase', 'Barnase', 'Barnase', 'Barnase',\n",
       "        'Barnase', 'Barnase', 'Barnase', 'Barnase', 'Barnase', 'Barnase',\n",
       "        'Barnase', 'Barnase', 'Barnase', 'Barnase', 'Barnase', 'Barnase',\n",
       "        'Barnase', 'Barnase', 'Barstar', 'Barstar', 'Barstar', 'Barstar',\n",
       "        'Barstar', 'Barstar', 'Barstar', 'Barstar', 'Barstar', 'Barstar',\n",
       "        'Barstar', 'Barstar', 'Barstar', 'Barstar', 'Barstar', 'Barstar',\n",
       "        'Barstar', 'Barstar', 'Barstar', 'Barstar', 'Barstar', 'Barstar',\n",
       "        'Barstar', 'Barstar', 'Barstar', 'Barstar', 'Barstar', 'Barstar',\n",
       "        'Barstar', 'Barstar', 'Barstar', 'Barstar', 'Barstar', 'Barstar',\n",
       "        'Barstar', 'Barstar', 'Barstar', 'Barstar', 'Barstar', 'Barstar',\n",
       "        'Barstar', 'Barstar', 'Barstar', 'Barstar', 'Barstar', 'Barstar',\n",
       "        'Barstar', 'Barstar', 'Barstar', 'Barstar', 'Barstar', 'Barstar',\n",
       "        'Barstar', 'Barstar', 'Barstar', 'Barstar', 'Barstar', 'Barstar',\n",
       "        'Barstar', 'Barstar', 'Barstar', 'Barstar', 'Barstar', 'Barstar',\n",
       "        'Barstar', 'Barstar', 'Barstar', 'Barstar', 'Barstar', 'Barstar',\n",
       "        'Barstar', 'Barstar', 'Barstar', 'Barstar', 'Barstar', 'Barstar',\n",
       "        'Barstar', 'Barstar', 'Barstar', 'Barstar', 'Barstar', 'Barstar',\n",
       "        'Barstar', 'Barstar', 'Barstar', 'Barstar', 'Barstar', 'Barstar',\n",
       "        'Barstar'], dtype=object),\n",
       " array(['protein', 'protein', 'protein', 'protein', 'protein', 'protein',\n",
       "        'protein', 'protein', 'protein', 'protein', 'protein', 'protein',\n",
       "        'protein', 'protein', 'protein', 'protein', 'protein', 'protein',\n",
       "        'protein', 'protein', 'protein', 'protein', 'protein', 'protein',\n",
       "        'protein', 'protein', 'protein', 'protein', 'protein', 'protein',\n",
       "        'protein', 'protein', 'protein', 'protein', 'protein', 'protein',\n",
       "        'protein', 'protein', 'protein', 'protein', 'protein', 'protein',\n",
       "        'protein', 'protein', 'protein', 'protein', 'protein', 'protein',\n",
       "        'protein', 'protein', 'protein', 'protein', 'protein', 'protein',\n",
       "        'protein', 'protein', 'protein', 'protein', 'protein', 'protein',\n",
       "        'protein', 'protein', 'protein', 'protein', 'protein', 'protein',\n",
       "        'protein', 'protein', 'protein', 'protein', 'protein', 'protein',\n",
       "        'protein', 'protein', 'protein', 'protein', 'protein', 'protein',\n",
       "        'protein', 'protein', 'protein', 'protein', 'protein', 'protein',\n",
       "        'protein', 'protein', 'protein', 'protein', 'protein', 'protein',\n",
       "        'protein', 'protein', 'protein', 'protein', 'protein', 'protein',\n",
       "        'protein', 'protein', 'protein', 'protein', 'protein', 'protein',\n",
       "        'protein', 'protein', 'protein', 'protein', 'protein', 'protein',\n",
       "        'protein', 'protein', 'protein', 'protein', 'protein', 'protein',\n",
       "        'protein', 'protein', 'protein', 'protein', 'protein', 'protein',\n",
       "        'protein', 'protein', 'protein', 'protein', 'protein', 'protein',\n",
       "        'protein', 'protein', 'protein', 'protein', 'protein', 'protein',\n",
       "        'protein', 'protein', 'protein', 'protein', 'protein', 'protein',\n",
       "        'protein', 'protein', 'protein', 'protein', 'protein', 'protein',\n",
       "        'protein', 'protein', 'protein', 'protein', 'protein', 'protein',\n",
       "        'protein', 'protein', 'protein', 'protein', 'protein', 'protein',\n",
       "        'protein', 'protein', 'protein', 'protein', 'protein', 'protein',\n",
       "        'protein', 'protein', 'protein', 'protein', 'protein', 'protein',\n",
       "        'protein', 'protein', 'protein', 'protein', 'protein', 'protein',\n",
       "        'protein', 'protein', 'protein', 'protein', 'protein', 'protein',\n",
       "        'protein', 'protein', 'protein', 'protein', 'protein', 'protein',\n",
       "        'protein', 'protein', 'protein', 'protein', 'protein', 'protein',\n",
       "        'protein', 'protein', 'protein', 'protein', 'protein', 'protein',\n",
       "        'protein'], dtype=object)]"
      ]
     },
     "execution_count": 7,
     "metadata": {},
     "output_type": "execute_result"
    }
   ],
   "source": [
    "msm.get(barnase_barstar_a, element='group', molecule_index=True, molecule_id=True,\n",
    "        molecule_name=True, molecule_type=True)"
   ]
  },
  {
   "cell_type": "code",
   "execution_count": 8,
   "id": "26697f3a-bd68-4717-832b-54504e3d9c68",
   "metadata": {},
   "outputs": [
    {
     "data": {
      "text/plain": [
       "[array([0, 1]),\n",
       " array([0, 1], dtype=object),\n",
       " array(['Barnase', 'Barstar'], dtype=object),\n",
       " array(['protein', 'protein'], dtype=object)]"
      ]
     },
     "execution_count": 8,
     "metadata": {},
     "output_type": "execute_result"
    }
   ],
   "source": [
    "msm.get(barnase_barstar_a, element='entity', entity_index=True, entity_id=True, entity_name=True, entity_type=True)"
   ]
  },
  {
   "cell_type": "code",
   "execution_count": 9,
   "id": "07614d93-12f9-462e-9811-d58c2c7c0733",
   "metadata": {},
   "outputs": [
    {
     "ename": "AttributeError",
     "evalue": "module 'molsysmt.form.molsysmt_MolSys' has no attribute 'set_component_id_to_group'",
     "output_type": "error",
     "traceback": [
      "\u001b[0;31m---------------------------------------------------------------------------\u001b[0m",
      "\u001b[0;31mAttributeError\u001b[0m                            Traceback (most recent call last)",
      "Cell \u001b[0;32mIn[9], line 1\u001b[0m\n\u001b[0;32m----> 1\u001b[0m barnase_barstar_b \u001b[38;5;241m=\u001b[39m \u001b[43mmsm\u001b[49m\u001b[38;5;241;43m.\u001b[39;49m\u001b[43mbuild\u001b[49m\u001b[38;5;241;43m.\u001b[39;49m\u001b[43madd_missing_heavy_atoms\u001b[49m\u001b[43m(\u001b[49m\u001b[43mbarnase_barstar_a\u001b[49m\u001b[43m)\u001b[49m\n",
      "File \u001b[0;32m~/projects@uibcdf/MolSysMT/molsysmt/_private/digestion/digest.py:117\u001b[0m, in \u001b[0;36mdigest.<locals>.digestor.<locals>.wrapper\u001b[0;34m(*args, **kwargs)\u001b[0m\n\u001b[1;32m    115\u001b[0m     \u001b[38;5;28;01mreturn\u001b[39;00m func(all_args[\u001b[38;5;124m'\u001b[39m\u001b[38;5;124mself\u001b[39m\u001b[38;5;124m'\u001b[39m], \u001b[38;5;241m*\u001b[39m\u001b[38;5;241m*\u001b[39mfinal_args)\n\u001b[1;32m    116\u001b[0m \u001b[38;5;28;01melse\u001b[39;00m:\n\u001b[0;32m--> 117\u001b[0m     \u001b[38;5;28;01mreturn\u001b[39;00m \u001b[43mfunc\u001b[49m\u001b[43m(\u001b[49m\u001b[38;5;241;43m*\u001b[39;49m\u001b[38;5;241;43m*\u001b[39;49m\u001b[43mfinal_args\u001b[49m\u001b[43m)\u001b[49m\n",
      "File \u001b[0;32m~/projects@uibcdf/MolSysMT/molsysmt/build/add_missing_heavy_atoms.py:45\u001b[0m, in \u001b[0;36madd_missing_heavy_atoms\u001b[0;34m(molecular_system, selection, syntax, engine)\u001b[0m\n\u001b[1;32m     41\u001b[0m     temp_molecular_system\u001b[38;5;241m.\u001b[39maddMissingAtoms()\n\u001b[1;32m     43\u001b[0m     output_molecular_system \u001b[38;5;241m=\u001b[39m convert(temp_molecular_system, to_form\u001b[38;5;241m=\u001b[39mform_out)\n\u001b[0;32m---> 45\u001b[0m     \u001b[38;5;28;43mset\u001b[39;49m\u001b[43m(\u001b[49m\u001b[43moutput_molecular_system\u001b[49m\u001b[43m,\u001b[49m\u001b[43m \u001b[49m\u001b[43melement\u001b[49m\u001b[38;5;241;43m=\u001b[39;49m\u001b[38;5;124;43m'\u001b[39;49m\u001b[38;5;124;43mgroup\u001b[39;49m\u001b[38;5;124;43m'\u001b[39;49m\u001b[43m,\u001b[49m\u001b[43m \u001b[49m\u001b[38;5;241;43m*\u001b[39;49m\u001b[38;5;241;43m*\u001b[39;49m\u001b[43matts_from_groups\u001b[49m\u001b[43m)\u001b[49m\n\u001b[1;32m     47\u001b[0m \u001b[38;5;28;01melse\u001b[39;00m:\n\u001b[1;32m     49\u001b[0m     \u001b[38;5;28;01mraise\u001b[39;00m NotImplementedMethodError\n",
      "File \u001b[0;32m~/projects@uibcdf/MolSysMT/molsysmt/_private/digestion/digest.py:117\u001b[0m, in \u001b[0;36mdigest.<locals>.digestor.<locals>.wrapper\u001b[0;34m(*args, **kwargs)\u001b[0m\n\u001b[1;32m    115\u001b[0m     \u001b[38;5;28;01mreturn\u001b[39;00m func(all_args[\u001b[38;5;124m'\u001b[39m\u001b[38;5;124mself\u001b[39m\u001b[38;5;124m'\u001b[39m], \u001b[38;5;241m*\u001b[39m\u001b[38;5;241m*\u001b[39mfinal_args)\n\u001b[1;32m    116\u001b[0m \u001b[38;5;28;01melse\u001b[39;00m:\n\u001b[0;32m--> 117\u001b[0m     \u001b[38;5;28;01mreturn\u001b[39;00m \u001b[43mfunc\u001b[49m\u001b[43m(\u001b[49m\u001b[38;5;241;43m*\u001b[39;49m\u001b[38;5;241;43m*\u001b[39;49m\u001b[43mfinal_args\u001b[49m\u001b[43m)\u001b[49m\n",
      "File \u001b[0;32m~/projects@uibcdf/MolSysMT/molsysmt/basic/set.py:168\u001b[0m, in \u001b[0;36mset\u001b[0;34m(molecular_system, element, selection, structure_indices, syntax, **kwargs)\u001b[0m\n\u001b[1;32m    166\u001b[0m         item, form \u001b[38;5;241m=\u001b[39m where_is_attribute(molecular_system, in_attribute, check_if_None\u001b[38;5;241m=\u001b[39m\u001b[38;5;28;01mFalse\u001b[39;00m)\n\u001b[1;32m    167\u001b[0m         in_value \u001b[38;5;241m=\u001b[39m value_of_in_attribute[in_attribute]\n\u001b[0;32m--> 168\u001b[0m         set_function \u001b[38;5;241m=\u001b[39m \u001b[38;5;28;43mgetattr\u001b[39;49m\u001b[43m(\u001b[49m\u001b[43m_dict_modules\u001b[49m\u001b[43m[\u001b[49m\u001b[43mform\u001b[49m\u001b[43m]\u001b[49m\u001b[43m,\u001b[49m\u001b[43m \u001b[49m\u001b[38;5;124;43mf\u001b[39;49m\u001b[38;5;124;43m'\u001b[39;49m\u001b[38;5;124;43mset_\u001b[39;49m\u001b[38;5;132;43;01m{\u001b[39;49;00m\u001b[43min_attribute\u001b[49m\u001b[38;5;132;43;01m}\u001b[39;49;00m\u001b[38;5;124;43m_to_\u001b[39;49m\u001b[38;5;132;43;01m{\u001b[39;49;00m\u001b[43melement\u001b[49m\u001b[38;5;132;43;01m}\u001b[39;49;00m\u001b[38;5;124;43m'\u001b[39;49m\u001b[43m)\u001b[49m\n\u001b[1;32m    169\u001b[0m         set_function(item, \u001b[38;5;241m*\u001b[39m\u001b[38;5;241m*\u001b[39mdict_indices, value\u001b[38;5;241m=\u001b[39min_value)\n\u001b[1;32m    171\u001b[0m \u001b[38;5;28;01mpass\u001b[39;00m\n",
      "\u001b[0;31mAttributeError\u001b[0m: module 'molsysmt.form.molsysmt_MolSys' has no attribute 'set_component_id_to_group'"
     ]
    }
   ],
   "source": [
    "barnase_barstar_b = msm.build.add_missing_heavy_atoms(barnase_barstar_a)"
   ]
  },
  {
   "cell_type": "code",
   "execution_count": null,
   "id": "550e3cc8-c3de-4e57-b212-e8c5e6ce3c16",
   "metadata": {},
   "outputs": [],
   "source": [
    "msm.get(barnase_barstar_b, element='entity', entity_index=True, entity_id=True, entity_name=True, entity_type=True)"
   ]
  },
  {
   "cell_type": "code",
   "execution_count": null,
   "id": "e290711d-40f1-4933-9b60-b5cd4a8f1aac",
   "metadata": {},
   "outputs": [],
   "source": [
    "msm.get(barnase_barstar_a, element='component', component_id=True, component_name=True, component_type=True)"
   ]
  },
  {
   "cell_type": "code",
   "execution_count": null,
   "id": "d6618e62-0c12-4e8e-8919-e55e4445f49f",
   "metadata": {},
   "outputs": [],
   "source": [
    "msm.get(barnase_barstar_b, element='component', component_id=True, component_name=True, component_type=True)"
   ]
  },
  {
   "cell_type": "code",
   "execution_count": null,
   "id": "37e563e2-2fd0-46bc-804e-55c32191b7c7",
   "metadata": {},
   "outputs": [],
   "source": [
    "msm.info(barnase_barstar, element='molecule')"
   ]
  },
  {
   "cell_type": "code",
   "execution_count": null,
   "id": "8d6417cd-5a68-48a3-a70d-dde0a42c10e4",
   "metadata": {},
   "outputs": [],
   "source": [
    "msm.info(barnase_barstar, element='molecule')"
   ]
  },
  {
   "cell_type": "code",
   "execution_count": null,
   "id": "3e8cdcd9-e545-4c95-9f29-4f551536a51c",
   "metadata": {},
   "outputs": [],
   "source": [
    "barnase_barstar = msm.build.add_missing_heavy_atoms(barnase_barstar)\n",
    "barnase_barstar = msm.build.add_missing_hydrogens(barnase_barstar, pH=7.4)\n",
    "_ = msm.convert(barnase_barstar, to_form='../../data/pdb/barnase_barstar.pdb')\n",
    "_ = msm.convert(barnase_barstar, to_form='../../data/msmpk/barnase_barstar.msmpk')"
   ]
  },
  {
   "cell_type": "code",
   "execution_count": null,
   "id": "04d072b2-ca79-4c91-b16b-67f3782b926a",
   "metadata": {},
   "outputs": [],
   "source": []
  },
  {
   "cell_type": "code",
   "execution_count": null,
   "id": "14e2e862-05d9-444b-afac-92c27f031fef",
   "metadata": {},
   "outputs": [],
   "source": []
  },
  {
   "cell_type": "code",
   "execution_count": null,
   "id": "de4979b9-1a21-4cf3-abc3-2d85456fed23",
   "metadata": {},
   "outputs": [],
   "source": []
  },
  {
   "cell_type": "code",
   "execution_count": null,
   "id": "2533b1cd-6fef-4bc6-8e81-ee8c44589c4c",
   "metadata": {},
   "outputs": [],
   "source": [
    "molecular_system = msm.convert(msm.systems.demo['Barnase-Barstar']['barnase_barstar.msmpk'])"
   ]
  },
  {
   "cell_type": "code",
   "execution_count": null,
   "id": "984aee1c-e921-4f84-8ce2-b811f8cd6cc7",
   "metadata": {},
   "outputs": [],
   "source": [
    "msm.info(molecular_system, element='molecule')"
   ]
  },
  {
   "cell_type": "code",
   "execution_count": null,
   "id": "098dedca-83df-4424-8bb6-21e2b123bc2b",
   "metadata": {},
   "outputs": [],
   "source": [
    "selection = msm.select(molecular_system, selection='groups of molecule_index==0')"
   ]
  },
  {
   "cell_type": "code",
   "execution_count": null,
   "id": "70c0a524-b306-4708-9782-12613adcca98",
   "metadata": {},
   "outputs": [],
   "source": [
    "msm.get(molecular_system, element='atoms', selection='molecule_index==0', atom_index=True)"
   ]
  },
  {
   "cell_type": "code",
   "execution_count": null,
   "id": "b70ce213-adbb-438d-8788-b025d5efe363",
   "metadata": {},
   "outputs": [],
   "source": [
    "msm.get(molecular_system, element='group', selection='molecule_index==0', atom_index=True)"
   ]
  },
  {
   "cell_type": "code",
   "execution_count": null,
   "id": "638f596f-d8c6-4ff7-b1a1-1d9a526e77df",
   "metadata": {},
   "outputs": [],
   "source": []
  }
 ],
 "metadata": {
  "kernelspec": {
   "display_name": "Python 3 (ipykernel)",
   "language": "python",
   "name": "python3"
  },
  "language_info": {
   "codemirror_mode": {
    "name": "ipython",
    "version": 3
   },
   "file_extension": ".py",
   "mimetype": "text/x-python",
   "name": "python",
   "nbconvert_exporter": "python",
   "pygments_lexer": "ipython3",
   "version": "3.10.12"
  }
 },
 "nbformat": 4,
 "nbformat_minor": 5
}
