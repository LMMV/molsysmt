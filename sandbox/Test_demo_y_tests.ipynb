{
 "cells": [
  {
   "cell_type": "code",
   "execution_count": 1,
   "id": "6849a3d6-9799-4a2a-b1bb-e03cef818178",
   "metadata": {},
   "outputs": [
    {
     "data": {
      "application/vnd.jupyter.widget-view+json": {
       "model_id": "028ed92e582546b2aea970cec53c9849",
       "version_major": 2,
       "version_minor": 0
      },
      "text/plain": []
     },
     "metadata": {},
     "output_type": "display_data"
    }
   ],
   "source": [
    "import molsysmt as msm"
   ]
  },
  {
   "cell_type": "code",
   "execution_count": 2,
   "id": "2533b1cd-6fef-4bc6-8e81-ee8c44589c4c",
   "metadata": {},
   "outputs": [],
   "source": [
    "molecular_system = msm.convert(msm.systems.demo['Barnase-Barstar']['barnase_barstar.msmpk'])"
   ]
  },
  {
   "cell_type": "code",
   "execution_count": 3,
   "id": "984aee1c-e921-4f84-8ce2-b811f8cd6cc7",
   "metadata": {},
   "outputs": [
    {
     "data": {
      "text/html": [
       "<style type=\"text/css\">\n",
       "</style>\n",
       "<table id=\"T_bd32b\">\n",
       "  <thead>\n",
       "    <tr>\n",
       "      <th id=\"T_bd32b_level0_col0\" class=\"col_heading level0 col0\" >index</th>\n",
       "      <th id=\"T_bd32b_level0_col1\" class=\"col_heading level0 col1\" >name</th>\n",
       "      <th id=\"T_bd32b_level0_col2\" class=\"col_heading level0 col2\" >type</th>\n",
       "      <th id=\"T_bd32b_level0_col3\" class=\"col_heading level0 col3\" >n atoms</th>\n",
       "      <th id=\"T_bd32b_level0_col4\" class=\"col_heading level0 col4\" >n groups</th>\n",
       "      <th id=\"T_bd32b_level0_col5\" class=\"col_heading level0 col5\" >n components</th>\n",
       "      <th id=\"T_bd32b_level0_col6\" class=\"col_heading level0 col6\" >chain index</th>\n",
       "      <th id=\"T_bd32b_level0_col7\" class=\"col_heading level0 col7\" >entity index</th>\n",
       "      <th id=\"T_bd32b_level0_col8\" class=\"col_heading level0 col8\" >entity name</th>\n",
       "    </tr>\n",
       "  </thead>\n",
       "  <tbody>\n",
       "    <tr>\n",
       "      <td id=\"T_bd32b_row0_col0\" class=\"data row0 col0\" >0</td>\n",
       "      <td id=\"T_bd32b_row0_col1\" class=\"data row0 col1\" >Barnase</td>\n",
       "      <td id=\"T_bd32b_row0_col2\" class=\"data row0 col2\" >protein</td>\n",
       "      <td id=\"T_bd32b_row0_col3\" class=\"data row0 col3\" >1727</td>\n",
       "      <td id=\"T_bd32b_row0_col4\" class=\"data row0 col4\" >110</td>\n",
       "      <td id=\"T_bd32b_row0_col5\" class=\"data row0 col5\" >1</td>\n",
       "      <td id=\"T_bd32b_row0_col6\" class=\"data row0 col6\" >0</td>\n",
       "      <td id=\"T_bd32b_row0_col7\" class=\"data row0 col7\" >0</td>\n",
       "      <td id=\"T_bd32b_row0_col8\" class=\"data row0 col8\" >Barnase</td>\n",
       "    </tr>\n",
       "    <tr>\n",
       "      <td id=\"T_bd32b_row1_col0\" class=\"data row1 col0\" >1</td>\n",
       "      <td id=\"T_bd32b_row1_col1\" class=\"data row1 col1\" >Barstar</td>\n",
       "      <td id=\"T_bd32b_row1_col2\" class=\"data row1 col2\" >protein</td>\n",
       "      <td id=\"T_bd32b_row1_col3\" class=\"data row1 col3\" >1432</td>\n",
       "      <td id=\"T_bd32b_row1_col4\" class=\"data row1 col4\" >89</td>\n",
       "      <td id=\"T_bd32b_row1_col5\" class=\"data row1 col5\" >1</td>\n",
       "      <td id=\"T_bd32b_row1_col6\" class=\"data row1 col6\" >1</td>\n",
       "      <td id=\"T_bd32b_row1_col7\" class=\"data row1 col7\" >1</td>\n",
       "      <td id=\"T_bd32b_row1_col8\" class=\"data row1 col8\" >Barstar</td>\n",
       "    </tr>\n",
       "  </tbody>\n",
       "</table>\n"
      ],
      "text/plain": [
       "<pandas.io.formats.style.Styler at 0x7f0293aa8550>"
      ]
     },
     "execution_count": 3,
     "metadata": {},
     "output_type": "execute_result"
    }
   ],
   "source": [
    "msm.info(molecular_system, element='molecule')"
   ]
  },
  {
   "cell_type": "code",
   "execution_count": 4,
   "id": "cf21b555-9297-49ff-9db7-b3752204b49e",
   "metadata": {},
   "outputs": [],
   "source": [
    "msm.molecular_mechanics.potential_energy_minimization(molecular_system)"
   ]
  },
  {
   "cell_type": "code",
   "execution_count": 5,
   "id": "1d50552e-fe30-49bc-8672-ae7c1f917758",
   "metadata": {},
   "outputs": [
    {
     "data": {
      "text/plain": [
       "{'HarmonicBondForce': 410.2627258300781 <Unit('kilojoule / mole')>,\n",
       " 'PeriodicTorsionForce': 9531.5625 <Unit('kilojoule / mole')>,\n",
       " 'NonbondedForce': -36486.390625 <Unit('kilojoule / mole')>,\n",
       " 'CMMotionRemover': 0.0 <Unit('kilojoule / mole')>,\n",
       " 'HarmonicAngleForce': 1687.999755859375 <Unit('kilojoule / mole')>}"
      ]
     },
     "execution_count": 5,
     "metadata": {},
     "output_type": "execute_result"
    }
   ],
   "source": [
    "msm.molecular_mechanics.get_potential_energy(molecular_system, decomposition=True)"
   ]
  },
  {
   "cell_type": "code",
   "execution_count": 9,
   "id": "be7470b7-11a6-47ef-b310-dd11d6a93218",
   "metadata": {},
   "outputs": [],
   "source": [
    "U_Barnase = msm.molecular_mechanics.get_non_bonded_potential_energy(molecular_system, selection='molecule_name==\"Barnase\"')"
   ]
  },
  {
   "cell_type": "code",
   "execution_count": 10,
   "id": "9c175fad-0b26-48ee-a6dc-ef6be95de9e5",
   "metadata": {},
   "outputs": [],
   "source": [
    "U_Barstar = msm.molecular_mechanics.get_non_bonded_potential_energy(molecular_system, selection='molecule_name==\"Barstar\"')"
   ]
  },
  {
   "cell_type": "code",
   "execution_count": 11,
   "id": "e6f051d2-0285-47db-8ce6-dbc64d7d4aaa",
   "metadata": {},
   "outputs": [],
   "source": [
    "U_all = msm.molecular_mechanics.get_non_bonded_potential_energy(molecular_system, selection='all')"
   ]
  },
  {
   "cell_type": "code",
   "execution_count": null,
   "id": "7063536b-b5e2-474e-a88c-d815c4f06e21",
   "metadata": {},
   "outputs": [],
   "source": []
  }
 ],
 "metadata": {
  "kernelspec": {
   "display_name": "Python 3 (ipykernel)",
   "language": "python",
   "name": "python3"
  },
  "language_info": {
   "codemirror_mode": {
    "name": "ipython",
    "version": 3
   },
   "file_extension": ".py",
   "mimetype": "text/x-python",
   "name": "python",
   "nbconvert_exporter": "python",
   "pygments_lexer": "ipython3",
   "version": "3.10.12"
  }
 },
 "nbformat": 4,
 "nbformat_minor": 5
}
