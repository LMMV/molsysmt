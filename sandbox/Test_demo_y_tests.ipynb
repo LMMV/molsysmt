{
 "cells": [
  {
   "cell_type": "code",
   "execution_count": 1,
   "id": "6849a3d6-9799-4a2a-b1bb-e03cef818178",
   "metadata": {},
   "outputs": [
    {
     "data": {
      "application/vnd.jupyter.widget-view+json": {
       "model_id": "66393d47b54141098f0abefe2c6d5c39",
       "version_major": 2,
       "version_minor": 0
      },
      "text/plain": []
     },
     "metadata": {},
     "output_type": "display_data"
    }
   ],
   "source": [
    "import molsysmt as msm"
   ]
  },
  {
   "cell_type": "code",
   "execution_count": 2,
   "id": "c2e50cf3-587e-4f3c-8e64-17bd9492f9bd",
   "metadata": {},
   "outputs": [],
   "source": [
    "molsys = msm.systems.tests['pentalanine']['traj_pentalanine.h5']"
   ]
  },
  {
   "cell_type": "code",
   "execution_count": 3,
   "id": "ccb327f9-25c7-4fb3-809e-e92f161c862e",
   "metadata": {},
   "outputs": [],
   "source": [
    "molsys = msm.convert(molsys, to_form='molsysmt.MolSys')"
   ]
  },
  {
   "cell_type": "code",
   "execution_count": 4,
   "id": "3af854e1-221f-4c0a-b611-b6c899a2cb24",
   "metadata": {},
   "outputs": [],
   "source": [
    "molsys_2 = msm.copy(molsys)"
   ]
  },
  {
   "cell_type": "code",
   "execution_count": 5,
   "id": "7769ede9-316d-415c-8473-26c0499dd3dd",
   "metadata": {},
   "outputs": [
    {
     "data": {
      "text/plain": [
       "True"
      ]
     },
     "execution_count": 5,
     "metadata": {},
     "output_type": "execute_result"
    }
   ],
   "source": [
    "msm.compare(molsys, molsys_2, attributes_type='topological', coordinates=True, box=True)"
   ]
  },
  {
   "cell_type": "code",
   "execution_count": null,
   "id": "6a617e94-5c93-44b2-bed6-2d15a6f29b37",
   "metadata": {},
   "outputs": [],
   "source": []
  }
 ],
 "metadata": {
  "kernelspec": {
   "display_name": "Python 3 (ipykernel)",
   "language": "python",
   "name": "python3"
  },
  "language_info": {
   "codemirror_mode": {
    "name": "ipython",
    "version": 3
   },
   "file_extension": ".py",
   "mimetype": "text/x-python",
   "name": "python",
   "nbconvert_exporter": "python",
   "pygments_lexer": "ipython3",
   "version": "3.10.11"
  }
 },
 "nbformat": 4,
 "nbformat_minor": 5
}
