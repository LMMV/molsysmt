{
 "cells": [
  {
   "cell_type": "code",
   "execution_count": 1,
   "id": "6849a3d6-9799-4a2a-b1bb-e03cef818178",
   "metadata": {},
   "outputs": [
    {
     "data": {
      "application/vnd.jupyter.widget-view+json": {
       "model_id": "3128a81611a04cb79e86972f66a00c89",
       "version_major": 2,
       "version_minor": 0
      },
      "text/plain": []
     },
     "metadata": {},
     "output_type": "display_data"
    }
   ],
   "source": [
    "import molsysmt as msm"
   ]
  },
  {
   "cell_type": "code",
   "execution_count": 4,
   "id": "2533b1cd-6fef-4bc6-8e81-ee8c44589c4c",
   "metadata": {},
   "outputs": [],
   "source": [
    "molecular_system = msm.convert(msm.systems.demo['Barnase-Barstar']['barnase_barstar.msmpk'])"
   ]
  },
  {
   "cell_type": "code",
   "execution_count": 5,
   "id": "984aee1c-e921-4f84-8ce2-b811f8cd6cc7",
   "metadata": {},
   "outputs": [
    {
     "data": {
      "text/html": [
       "<style type=\"text/css\">\n",
       "</style>\n",
       "<table id=\"T_92403\">\n",
       "  <thead>\n",
       "    <tr>\n",
       "      <th id=\"T_92403_level0_col0\" class=\"col_heading level0 col0\" >index</th>\n",
       "      <th id=\"T_92403_level0_col1\" class=\"col_heading level0 col1\" >name</th>\n",
       "      <th id=\"T_92403_level0_col2\" class=\"col_heading level0 col2\" >type</th>\n",
       "      <th id=\"T_92403_level0_col3\" class=\"col_heading level0 col3\" >n atoms</th>\n",
       "      <th id=\"T_92403_level0_col4\" class=\"col_heading level0 col4\" >n groups</th>\n",
       "      <th id=\"T_92403_level0_col5\" class=\"col_heading level0 col5\" >n components</th>\n",
       "      <th id=\"T_92403_level0_col6\" class=\"col_heading level0 col6\" >chain index</th>\n",
       "      <th id=\"T_92403_level0_col7\" class=\"col_heading level0 col7\" >entity index</th>\n",
       "      <th id=\"T_92403_level0_col8\" class=\"col_heading level0 col8\" >entity name</th>\n",
       "    </tr>\n",
       "  </thead>\n",
       "  <tbody>\n",
       "    <tr>\n",
       "      <td id=\"T_92403_row0_col0\" class=\"data row0 col0\" >0</td>\n",
       "      <td id=\"T_92403_row0_col1\" class=\"data row0 col1\" >Barnase</td>\n",
       "      <td id=\"T_92403_row0_col2\" class=\"data row0 col2\" >protein</td>\n",
       "      <td id=\"T_92403_row0_col3\" class=\"data row0 col3\" >1727</td>\n",
       "      <td id=\"T_92403_row0_col4\" class=\"data row0 col4\" >110</td>\n",
       "      <td id=\"T_92403_row0_col5\" class=\"data row0 col5\" >1</td>\n",
       "      <td id=\"T_92403_row0_col6\" class=\"data row0 col6\" >0</td>\n",
       "      <td id=\"T_92403_row0_col7\" class=\"data row0 col7\" >0</td>\n",
       "      <td id=\"T_92403_row0_col8\" class=\"data row0 col8\" >Barnase</td>\n",
       "    </tr>\n",
       "    <tr>\n",
       "      <td id=\"T_92403_row1_col0\" class=\"data row1 col0\" >1</td>\n",
       "      <td id=\"T_92403_row1_col1\" class=\"data row1 col1\" >Barstar</td>\n",
       "      <td id=\"T_92403_row1_col2\" class=\"data row1 col2\" >protein</td>\n",
       "      <td id=\"T_92403_row1_col3\" class=\"data row1 col3\" >1432</td>\n",
       "      <td id=\"T_92403_row1_col4\" class=\"data row1 col4\" >89</td>\n",
       "      <td id=\"T_92403_row1_col5\" class=\"data row1 col5\" >1</td>\n",
       "      <td id=\"T_92403_row1_col6\" class=\"data row1 col6\" >1</td>\n",
       "      <td id=\"T_92403_row1_col7\" class=\"data row1 col7\" >1</td>\n",
       "      <td id=\"T_92403_row1_col8\" class=\"data row1 col8\" >Barstar</td>\n",
       "    </tr>\n",
       "  </tbody>\n",
       "</table>\n"
      ],
      "text/plain": [
       "<pandas.io.formats.style.Styler at 0x7fd242a27c40>"
      ]
     },
     "execution_count": 5,
     "metadata": {},
     "output_type": "execute_result"
    }
   ],
   "source": [
    "msm.info(molecular_system, element='molecule')"
   ]
  },
  {
   "cell_type": "code",
   "execution_count": 16,
   "id": "098dedca-83df-4424-8bb6-21e2b123bc2b",
   "metadata": {},
   "outputs": [],
   "source": [
    "selection = msm.select(molecular_system, selection='groups of molecule_name==\"Barnase\"')"
   ]
  },
  {
   "cell_type": "code",
   "execution_count": 15,
   "id": "be70ca4c-a146-4f1c-9249-8e65380717a4",
   "metadata": {},
   "outputs": [
    {
     "data": {
      "text/plain": [
       "array([array([ 0,  1,  2,  3,  4,  5,  6,  7,  8,  9, 10, 11]),\n",
       "       array([147, 148, 149, 150, 151, 152, 153, 154, 155, 156]),\n",
       "       array([461, 462, 463, 464, 465, 466, 467, 468, 469, 470]),\n",
       "       array([488, 489, 490, 491, 492, 493, 494, 495, 496, 497]),\n",
       "       array([564, 565, 566, 567, 568, 569, 570, 571, 572, 573]),\n",
       "       array([647, 648, 649, 650, 651, 652, 653, 654, 655, 656]),\n",
       "       array([685, 686, 687, 688, 689, 690, 691, 692, 693, 694]),\n",
       "       array([1107, 1108, 1109, 1110, 1111, 1112, 1113, 1114, 1115, 1116])],\n",
       "      dtype=object)"
      ]
     },
     "execution_count": 15,
     "metadata": {},
     "output_type": "execute_result"
    }
   ],
   "source": [
    "selection"
   ]
  },
  {
   "cell_type": "code",
   "execution_count": null,
   "id": "638f596f-d8c6-4ff7-b1a1-1d9a526e77df",
   "metadata": {},
   "outputs": [],
   "source": []
  }
 ],
 "metadata": {
  "kernelspec": {
   "display_name": "Python 3 (ipykernel)",
   "language": "python",
   "name": "python3"
  },
  "language_info": {
   "codemirror_mode": {
    "name": "ipython",
    "version": 3
   },
   "file_extension": ".py",
   "mimetype": "text/x-python",
   "name": "python",
   "nbconvert_exporter": "python",
   "pygments_lexer": "ipython3",
   "version": "3.10.12"
  }
 },
 "nbformat": 4,
 "nbformat_minor": 5
}
