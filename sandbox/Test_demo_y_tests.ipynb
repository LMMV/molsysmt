{
 "cells": [
  {
   "cell_type": "code",
   "execution_count": 1,
   "id": "6849a3d6-9799-4a2a-b1bb-e03cef818178",
   "metadata": {},
   "outputs": [
    {
     "data": {
      "application/vnd.jupyter.widget-view+json": {
       "model_id": "531b536797f24a58b8da662478da4435",
       "version_major": 2,
       "version_minor": 0
      },
      "text/plain": []
     },
     "metadata": {},
     "output_type": "display_data"
    }
   ],
   "source": [
    "import molsysmt as msm"
   ]
  },
  {
   "cell_type": "code",
   "execution_count": 2,
   "id": "b9eb36e2-c58f-470e-9580-5119cb854cca",
   "metadata": {},
   "outputs": [],
   "source": [
    "molecular_system = msm.convert('1BRS')"
   ]
  },
  {
   "cell_type": "code",
   "execution_count": 7,
   "id": "80cd324c-8b8d-4fcb-b279-ebf2e5d21836",
   "metadata": {},
   "outputs": [],
   "source": [
    "temp_molecular_system = msm.convert(molecular_system, to_form='pdbfixer.PDBFixer')"
   ]
  },
  {
   "cell_type": "code",
   "execution_count": 5,
   "id": "90b37f07-0e6e-4834-8861-2962c3e50a17",
   "metadata": {},
   "outputs": [],
   "source": [
    "attributes = msm.get_attributes(molecular_system, output_type='list')"
   ]
  },
  {
   "cell_type": "code",
   "execution_count": 8,
   "id": "a5fb06bb-1538-4619-a09d-756e4b30f7a9",
   "metadata": {},
   "outputs": [],
   "source": [
    "temp_attributes = msm.get_attributes(molecular_system, output_type='list')"
   ]
  },
  {
   "cell_type": "code",
   "execution_count": 9,
   "id": "fb0684ca-e837-4bde-850a-68e1b1d12df2",
   "metadata": {},
   "outputs": [
    {
     "data": {
      "text/plain": [
       "['atom_index',\n",
       " 'atom_name',\n",
       " 'atom_id',\n",
       " 'atom_type',\n",
       " 'group_index',\n",
       " 'group_name',\n",
       " 'group_id',\n",
       " 'group_type',\n",
       " 'component_index',\n",
       " 'component_name',\n",
       " 'component_id',\n",
       " 'component_type',\n",
       " 'chain_index',\n",
       " 'chain_name',\n",
       " 'chain_id',\n",
       " 'chain_type',\n",
       " 'molecule_index',\n",
       " 'molecule_name',\n",
       " 'molecule_id',\n",
       " 'molecule_type',\n",
       " 'entity_index',\n",
       " 'entity_name',\n",
       " 'entity_id',\n",
       " 'entity_type',\n",
       " 'bond_index',\n",
       " 'bond_type',\n",
       " 'bond_order',\n",
       " 'bonded_atoms',\n",
       " 'inner_bonded_atoms',\n",
       " 'inner_bond_index',\n",
       " 'n_atoms',\n",
       " 'n_groups',\n",
       " 'n_components',\n",
       " 'n_chains',\n",
       " 'n_molecules',\n",
       " 'n_entities',\n",
       " 'n_bonds',\n",
       " 'n_inner_bonds',\n",
       " 'n_aminoacids',\n",
       " 'n_nucleotides',\n",
       " 'n_ions',\n",
       " 'n_waters',\n",
       " 'n_small_molecules',\n",
       " 'n_peptides',\n",
       " 'n_proteins',\n",
       " 'n_dnas',\n",
       " 'n_rnas',\n",
       " 'n_lipids',\n",
       " 'n_oligosaccharides',\n",
       " 'n_saccharides',\n",
       " 'structure_index',\n",
       " 'structure_id',\n",
       " 'time',\n",
       " 'box',\n",
       " 'box_shape',\n",
       " 'box_angles',\n",
       " 'box_lengths',\n",
       " 'box_volume',\n",
       " 'coordinates',\n",
       " 'velocities',\n",
       " 'n_structures',\n",
       " 'occupancy',\n",
       " 'b_factor',\n",
       " 'alternate_location',\n",
       " 'bioassembly',\n",
       " 'n_bioassemblies',\n",
       " 'formal_charge',\n",
       " 'partial_charge',\n",
       " 'forcefield',\n",
       " 'non_bonded_method',\n",
       " 'cutoff_distance',\n",
       " 'switch_distance',\n",
       " 'dispersion_correction',\n",
       " 'ewald_error_tolerance',\n",
       " 'hydrogen_mass',\n",
       " 'constraints',\n",
       " 'flexible_constraints',\n",
       " 'water_model',\n",
       " 'rigid_water',\n",
       " 'implicit_solvent',\n",
       " 'solute_dielectric',\n",
       " 'solvent_dielectric',\n",
       " 'salt_concentration',\n",
       " 'kappa']"
      ]
     },
     "execution_count": 9,
     "metadata": {},
     "output_type": "execute_result"
    }
   ],
   "source": [
    "temp_attributes"
   ]
  },
  {
   "cell_type": "code",
   "execution_count": 6,
   "id": "b2bdbc8d-cb26-4339-a1bc-9a6d2bcef859",
   "metadata": {},
   "outputs": [
    {
     "data": {
      "text/plain": [
       "['atom_index',\n",
       " 'atom_name',\n",
       " 'atom_id',\n",
       " 'atom_type',\n",
       " 'group_index',\n",
       " 'group_name',\n",
       " 'group_id',\n",
       " 'group_type',\n",
       " 'component_index',\n",
       " 'component_name',\n",
       " 'component_id',\n",
       " 'component_type',\n",
       " 'chain_index',\n",
       " 'chain_name',\n",
       " 'chain_id',\n",
       " 'chain_type',\n",
       " 'molecule_index',\n",
       " 'molecule_name',\n",
       " 'molecule_id',\n",
       " 'molecule_type',\n",
       " 'entity_index',\n",
       " 'entity_name',\n",
       " 'entity_id',\n",
       " 'entity_type',\n",
       " 'bond_index',\n",
       " 'bond_type',\n",
       " 'bond_order',\n",
       " 'bonded_atoms',\n",
       " 'inner_bonded_atoms',\n",
       " 'inner_bond_index',\n",
       " 'n_atoms',\n",
       " 'n_groups',\n",
       " 'n_components',\n",
       " 'n_chains',\n",
       " 'n_molecules',\n",
       " 'n_entities',\n",
       " 'n_bonds',\n",
       " 'n_inner_bonds',\n",
       " 'n_aminoacids',\n",
       " 'n_nucleotides',\n",
       " 'n_ions',\n",
       " 'n_waters',\n",
       " 'n_small_molecules',\n",
       " 'n_peptides',\n",
       " 'n_proteins',\n",
       " 'n_dnas',\n",
       " 'n_rnas',\n",
       " 'n_lipids',\n",
       " 'n_oligosaccharides',\n",
       " 'n_saccharides',\n",
       " 'structure_index',\n",
       " 'structure_id',\n",
       " 'time',\n",
       " 'box',\n",
       " 'box_shape',\n",
       " 'box_angles',\n",
       " 'box_lengths',\n",
       " 'box_volume',\n",
       " 'coordinates',\n",
       " 'velocities',\n",
       " 'n_structures',\n",
       " 'occupancy',\n",
       " 'b_factor',\n",
       " 'alternate_location',\n",
       " 'bioassembly',\n",
       " 'n_bioassemblies',\n",
       " 'formal_charge',\n",
       " 'partial_charge',\n",
       " 'forcefield',\n",
       " 'non_bonded_method',\n",
       " 'cutoff_distance',\n",
       " 'switch_distance',\n",
       " 'dispersion_correction',\n",
       " 'ewald_error_tolerance',\n",
       " 'hydrogen_mass',\n",
       " 'constraints',\n",
       " 'flexible_constraints',\n",
       " 'water_model',\n",
       " 'rigid_water',\n",
       " 'implicit_solvent',\n",
       " 'solute_dielectric',\n",
       " 'solvent_dielectric',\n",
       " 'salt_concentration',\n",
       " 'kappa']"
      ]
     },
     "execution_count": 6,
     "metadata": {},
     "output_type": "execute_result"
    }
   ],
   "source": [
    "attributes"
   ]
  },
  {
   "cell_type": "code",
   "execution_count": null,
   "id": "00816b2a-e62f-441c-a9ef-0e2d564088ec",
   "metadata": {},
   "outputs": [],
   "source": []
  },
  {
   "cell_type": "code",
   "execution_count": null,
   "id": "27d496f4-c770-4e8c-ab7c-a9321547648f",
   "metadata": {},
   "outputs": [],
   "source": []
  },
  {
   "cell_type": "code",
   "execution_count": null,
   "id": "2a086f9f-e1a7-4065-b92e-c9346f45c6f2",
   "metadata": {},
   "outputs": [],
   "source": [
    "molecular_system = msm.extract(molecular_system, selection='molecule_type==\"protein\"')"
   ]
  },
  {
   "cell_type": "code",
   "execution_count": null,
   "id": "64cdc942-9266-4ea6-9984-5d2ef3f5637c",
   "metadata": {},
   "outputs": [],
   "source": [
    "barnase = msm.extract(molecular_system, selection=\"chain_name=='B'\")\n",
    "barstar_E = msm.extract(molecular_system, selection=\"chain_name=='E'\")\n",
    "barstar_F = msm.extract(molecular_system, selection=\"chain_name=='F'\")"
   ]
  },
  {
   "cell_type": "code",
   "execution_count": null,
   "id": "c5fea49a-ae1e-4346-97e1-185180b622c1",
   "metadata": {},
   "outputs": [],
   "source": [
    "barstar_F_over_E = msm.structure.align(barstar_F, selection='atom_name==\"CA\"',\n",
    "                                       reference_molecular_system=barstar_E, reference_selection='atom_name==\"CA\"')"
   ]
  },
  {
   "cell_type": "code",
   "execution_count": null,
   "id": "7f2ca2f0-dadf-41de-a5dd-34ef5b065e02",
   "metadata": {},
   "outputs": [],
   "source": [
    "barnase_barstar = msm.merge([barnase, barstar_F_over_E])"
   ]
  },
  {
   "cell_type": "code",
   "execution_count": null,
   "id": "07614d93-12f9-462e-9811-d58c2c7c0733",
   "metadata": {},
   "outputs": [],
   "source": [
    "barnase_barstar = msm.build.add_missing_heavy_atoms(barnase_barstar)"
   ]
  },
  {
   "cell_type": "code",
   "execution_count": null,
   "id": "e290711d-40f1-4933-9b60-b5cd4a8f1aac",
   "metadata": {},
   "outputs": [],
   "source": []
  },
  {
   "cell_type": "code",
   "execution_count": null,
   "id": "37e563e2-2fd0-46bc-804e-55c32191b7c7",
   "metadata": {},
   "outputs": [],
   "source": [
    "msm.info(barnase_barstar, element='molecule')"
   ]
  },
  {
   "cell_type": "code",
   "execution_count": null,
   "id": "8d6417cd-5a68-48a3-a70d-dde0a42c10e4",
   "metadata": {},
   "outputs": [],
   "source": [
    "msm.info(barnase_barstar, element='molecule')"
   ]
  },
  {
   "cell_type": "code",
   "execution_count": null,
   "id": "3e8cdcd9-e545-4c95-9f29-4f551536a51c",
   "metadata": {},
   "outputs": [],
   "source": [
    "barnase_barstar = msm.build.add_missing_heavy_atoms(barnase_barstar)\n",
    "barnase_barstar = msm.build.add_missing_hydrogens(barnase_barstar, pH=7.4)\n",
    "_ = msm.convert(barnase_barstar, to_form='../../data/pdb/barnase_barstar.pdb')\n",
    "_ = msm.convert(barnase_barstar, to_form='../../data/msmpk/barnase_barstar.msmpk')"
   ]
  },
  {
   "cell_type": "code",
   "execution_count": null,
   "id": "04d072b2-ca79-4c91-b16b-67f3782b926a",
   "metadata": {},
   "outputs": [],
   "source": []
  },
  {
   "cell_type": "code",
   "execution_count": null,
   "id": "14e2e862-05d9-444b-afac-92c27f031fef",
   "metadata": {},
   "outputs": [],
   "source": []
  },
  {
   "cell_type": "code",
   "execution_count": null,
   "id": "de4979b9-1a21-4cf3-abc3-2d85456fed23",
   "metadata": {},
   "outputs": [],
   "source": []
  },
  {
   "cell_type": "code",
   "execution_count": null,
   "id": "2533b1cd-6fef-4bc6-8e81-ee8c44589c4c",
   "metadata": {},
   "outputs": [],
   "source": [
    "molecular_system = msm.convert(msm.systems.demo['Barnase-Barstar']['barnase_barstar.msmpk'])"
   ]
  },
  {
   "cell_type": "code",
   "execution_count": null,
   "id": "984aee1c-e921-4f84-8ce2-b811f8cd6cc7",
   "metadata": {},
   "outputs": [],
   "source": [
    "msm.info(molecular_system, element='molecule')"
   ]
  },
  {
   "cell_type": "code",
   "execution_count": null,
   "id": "098dedca-83df-4424-8bb6-21e2b123bc2b",
   "metadata": {},
   "outputs": [],
   "source": [
    "selection = msm.select(molecular_system, selection='groups of molecule_index==0')"
   ]
  },
  {
   "cell_type": "code",
   "execution_count": null,
   "id": "70c0a524-b306-4708-9782-12613adcca98",
   "metadata": {},
   "outputs": [],
   "source": [
    "msm.get(molecular_system, element='atoms', selection='molecule_index==0', atom_index=True)"
   ]
  },
  {
   "cell_type": "code",
   "execution_count": null,
   "id": "b70ce213-adbb-438d-8788-b025d5efe363",
   "metadata": {},
   "outputs": [],
   "source": [
    "msm.get(molecular_system, element='group', selection='molecule_index==0', atom_index=True)"
   ]
  },
  {
   "cell_type": "code",
   "execution_count": null,
   "id": "638f596f-d8c6-4ff7-b1a1-1d9a526e77df",
   "metadata": {},
   "outputs": [],
   "source": []
  }
 ],
 "metadata": {
  "kernelspec": {
   "display_name": "Python 3 (ipykernel)",
   "language": "python",
   "name": "python3"
  },
  "language_info": {
   "codemirror_mode": {
    "name": "ipython",
    "version": 3
   },
   "file_extension": ".py",
   "mimetype": "text/x-python",
   "name": "python",
   "nbconvert_exporter": "python",
   "pygments_lexer": "ipython3",
   "version": "3.10.12"
  }
 },
 "nbformat": 4,
 "nbformat_minor": 5
}
