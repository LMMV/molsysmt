{
 "cells": [
  {
   "cell_type": "code",
   "execution_count": 1,
   "id": "6849a3d6-9799-4a2a-b1bb-e03cef818178",
   "metadata": {},
   "outputs": [
    {
     "data": {
      "application/vnd.jupyter.widget-view+json": {
       "model_id": "ac3cb84af2544814a149be36aedc8950",
       "version_major": 2,
       "version_minor": 0
      },
      "text/plain": []
     },
     "metadata": {},
     "output_type": "display_data"
    }
   ],
   "source": [
    "import molsysmt as msm"
   ]
  },
  {
   "cell_type": "code",
   "execution_count": 2,
   "id": "74cdb44f-d254-4a24-9d2d-e3a5653850a1",
   "metadata": {},
   "outputs": [],
   "source": [
    "from molsysmt.systems import tests as tests_systems\n",
    "import numpy as np\n",
    "import os"
   ]
  },
  {
   "cell_type": "code",
   "execution_count": 3,
   "id": "2587264a-9f9d-460e-b30f-2608b0c516cb",
   "metadata": {},
   "outputs": [],
   "source": [
    "molecular_system = msm.convert(tests_systems['Barnase-Barstar']['1brs.mmtf'], to_form='molsysmt.MolSys')"
   ]
  },
  {
   "cell_type": "code",
   "execution_count": 4,
   "id": "c802bb68-9f2e-445a-9e07-24c0e81038e4",
   "metadata": {},
   "outputs": [],
   "source": [
    "msm.build.solve_atoms_with_alternate_location(molecular_system, location_id='B')"
   ]
  },
  {
   "cell_type": "code",
   "execution_count": 5,
   "id": "d902b28c-795c-405e-98f0-d5a8cab56ab5",
   "metadata": {},
   "outputs": [],
   "source": [
    "atom_id, b_factor, occupancy, coordinates = msm.get(molecular_system, element='atom', selection=[2686,2687],\n",
    "            atom_id=True, b_factor=True, occupancy=True, coordinates=True)"
   ]
  },
  {
   "cell_type": "code",
   "execution_count": 7,
   "id": "880712b4-1a43-41b4-bfc7-0ea53ea8ab1a",
   "metadata": {},
   "outputs": [
    {
     "data": {
      "text/plain": [
       "True"
      ]
     },
     "execution_count": 7,
     "metadata": {},
     "output_type": "execute_result"
    }
   ],
   "source": [
    "np.all(atom_id==np.array([2688,2690]))"
   ]
  },
  {
   "cell_type": "code",
   "execution_count": 8,
   "id": "d41f59da-c324-4ea6-bfe8-af7ef8369a2d",
   "metadata": {},
   "outputs": [
    {
     "data": {
      "text/plain": [
       "True"
      ]
     },
     "execution_count": 8,
     "metadata": {},
     "output_type": "execute_result"
    }
   ],
   "source": [
    "np.all(occupancy==np.array([[0.5,0.5]]))"
   ]
  },
  {
   "cell_type": "code",
   "execution_count": 9,
   "id": "efa807ff-ee80-4c7d-a685-0f4a947d859a",
   "metadata": {},
   "outputs": [
    {
     "ename": "NameError",
     "evalue": "name 'puw' is not defined",
     "output_type": "error",
     "traceback": [
      "\u001b[0;31m---------------------------------------------------------------------------\u001b[0m",
      "\u001b[0;31mNameError\u001b[0m                                 Traceback (most recent call last)",
      "Cell \u001b[0;32mIn[9], line 1\u001b[0m\n\u001b[0;32m----> 1\u001b[0m \u001b[43mpuw\u001b[49m\u001b[38;5;241m.\u001b[39mquantity(np\u001b[38;5;241m.\u001b[39marray([[[\u001b[38;5;241m3.2757\u001b[39m, \u001b[38;5;241m2.2571\u001b[39m, \u001b[38;5;241m0.1533\u001b[39m], [\u001b[38;5;241m3.3396\u001b[39m, \u001b[38;5;241m2.192\u001b[39m , \u001b[38;5;241m0.2619\u001b[39m]]]),\u001b[38;5;124m'\u001b[39m\u001b[38;5;124mnm\u001b[39m\u001b[38;5;124m'\u001b[39m)\n",
      "\u001b[0;31mNameError\u001b[0m: name 'puw' is not defined"
     ]
    }
   ],
   "source": [
    "puw.quantity(np.array([[[3.2757, 2.2571, 0.1533], [3.3396, 2.192 , 0.2619]]]),'nm')"
   ]
  },
  {
   "cell_type": "code",
   "execution_count": null,
   "id": "fb0a38ee-f516-46ef-b8fa-e2ca34c1195e",
   "metadata": {},
   "outputs": [],
   "source": [
    "puw.quantity(np.array([[[3.2757, 2.2571, 0.1533], [3.3396, 2.192 , 0.2619]]]),'nm')\n",
    "    assert puw.are_close(coordinates, aux_coors)\n",
    "    aux_b_factor = puw.quantity(np.array([[0.2467, 0.2596]]),'nm**2')\n",
    "    assert puw.are_close(b_factor, aux_b_factor)\n",
    "\n"
   ]
  }
 ],
 "metadata": {
  "kernelspec": {
   "display_name": "Python 3 (ipykernel)",
   "language": "python",
   "name": "python3"
  },
  "language_info": {
   "codemirror_mode": {
    "name": "ipython",
    "version": 3
   },
   "file_extension": ".py",
   "mimetype": "text/x-python",
   "name": "python",
   "nbconvert_exporter": "python",
   "pygments_lexer": "ipython3",
   "version": "3.10.11"
  }
 },
 "nbformat": 4,
 "nbformat_minor": 5
}
