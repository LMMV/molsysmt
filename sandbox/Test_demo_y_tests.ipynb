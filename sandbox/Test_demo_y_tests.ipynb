{
 "cells": [
  {
   "cell_type": "code",
   "execution_count": 1,
   "id": "6849a3d6-9799-4a2a-b1bb-e03cef818178",
   "metadata": {},
   "outputs": [
    {
     "data": {
      "application/vnd.jupyter.widget-view+json": {
       "model_id": "74a41ebe2f6346149c61de1f3fcf8b88",
       "version_major": 2,
       "version_minor": 0
      },
      "text/plain": []
     },
     "metadata": {},
     "output_type": "display_data"
    }
   ],
   "source": [
    "import molsysmt as msm"
   ]
  },
  {
   "cell_type": "code",
   "execution_count": 9,
   "id": "b9eb36e2-c58f-470e-9580-5119cb854cca",
   "metadata": {},
   "outputs": [],
   "source": [
    "molecular_system = msm.convert('1BRS')"
   ]
  },
  {
   "cell_type": "code",
   "execution_count": 10,
   "id": "2a086f9f-e1a7-4065-b92e-c9346f45c6f2",
   "metadata": {},
   "outputs": [],
   "source": [
    "molecular_system = msm.extract(molecular_system, selection='molecule_type==\"protein\"')"
   ]
  },
  {
   "cell_type": "code",
   "execution_count": 12,
   "id": "18c3788b-6984-4ddb-aff6-1c3b9a2cfd32",
   "metadata": {},
   "outputs": [
    {
     "data": {
      "text/html": [
       "<style type=\"text/css\">\n",
       "</style>\n",
       "<table id=\"T_0c751\">\n",
       "  <thead>\n",
       "    <tr>\n",
       "      <th id=\"T_0c751_level0_col0\" class=\"col_heading level0 col0\" >index</th>\n",
       "      <th id=\"T_0c751_level0_col1\" class=\"col_heading level0 col1\" >name</th>\n",
       "      <th id=\"T_0c751_level0_col2\" class=\"col_heading level0 col2\" >type</th>\n",
       "      <th id=\"T_0c751_level0_col3\" class=\"col_heading level0 col3\" >n atoms</th>\n",
       "      <th id=\"T_0c751_level0_col4\" class=\"col_heading level0 col4\" >n groups</th>\n",
       "      <th id=\"T_0c751_level0_col5\" class=\"col_heading level0 col5\" >n components</th>\n",
       "      <th id=\"T_0c751_level0_col6\" class=\"col_heading level0 col6\" >chain index</th>\n",
       "      <th id=\"T_0c751_level0_col7\" class=\"col_heading level0 col7\" >entity index</th>\n",
       "      <th id=\"T_0c751_level0_col8\" class=\"col_heading level0 col8\" >entity name</th>\n",
       "    </tr>\n",
       "  </thead>\n",
       "  <tbody>\n",
       "    <tr>\n",
       "      <td id=\"T_0c751_row0_col0\" class=\"data row0 col0\" >0</td>\n",
       "      <td id=\"T_0c751_row0_col1\" class=\"data row0 col1\" >Barnase</td>\n",
       "      <td id=\"T_0c751_row0_col2\" class=\"data row0 col2\" >protein</td>\n",
       "      <td id=\"T_0c751_row0_col3\" class=\"data row0 col3\" >864</td>\n",
       "      <td id=\"T_0c751_row0_col4\" class=\"data row0 col4\" >108</td>\n",
       "      <td id=\"T_0c751_row0_col5\" class=\"data row0 col5\" >1</td>\n",
       "      <td id=\"T_0c751_row0_col6\" class=\"data row0 col6\" >0</td>\n",
       "      <td id=\"T_0c751_row0_col7\" class=\"data row0 col7\" >0</td>\n",
       "      <td id=\"T_0c751_row0_col8\" class=\"data row0 col8\" >Barnase</td>\n",
       "    </tr>\n",
       "    <tr>\n",
       "      <td id=\"T_0c751_row1_col0\" class=\"data row1 col0\" >1</td>\n",
       "      <td id=\"T_0c751_row1_col1\" class=\"data row1 col1\" >Barnase</td>\n",
       "      <td id=\"T_0c751_row1_col2\" class=\"data row1 col2\" >protein</td>\n",
       "      <td id=\"T_0c751_row1_col3\" class=\"data row1 col3\" >878</td>\n",
       "      <td id=\"T_0c751_row1_col4\" class=\"data row1 col4\" >110</td>\n",
       "      <td id=\"T_0c751_row1_col5\" class=\"data row1 col5\" >1</td>\n",
       "      <td id=\"T_0c751_row1_col6\" class=\"data row1 col6\" >1</td>\n",
       "      <td id=\"T_0c751_row1_col7\" class=\"data row1 col7\" >0</td>\n",
       "      <td id=\"T_0c751_row1_col8\" class=\"data row1 col8\" >Barnase</td>\n",
       "    </tr>\n",
       "    <tr>\n",
       "      <td id=\"T_0c751_row2_col0\" class=\"data row2 col0\" >2</td>\n",
       "      <td id=\"T_0c751_row2_col1\" class=\"data row2 col1\" >Barnase</td>\n",
       "      <td id=\"T_0c751_row2_col2\" class=\"data row2 col2\" >protein</td>\n",
       "      <td id=\"T_0c751_row2_col3\" class=\"data row2 col3\" >839</td>\n",
       "      <td id=\"T_0c751_row2_col4\" class=\"data row2 col4\" >108</td>\n",
       "      <td id=\"T_0c751_row2_col5\" class=\"data row2 col5\" >1</td>\n",
       "      <td id=\"T_0c751_row2_col6\" class=\"data row2 col6\" >2</td>\n",
       "      <td id=\"T_0c751_row2_col7\" class=\"data row2 col7\" >0</td>\n",
       "      <td id=\"T_0c751_row2_col8\" class=\"data row2 col8\" >Barnase</td>\n",
       "    </tr>\n",
       "    <tr>\n",
       "      <td id=\"T_0c751_row3_col0\" class=\"data row3 col0\" >3</td>\n",
       "      <td id=\"T_0c751_row3_col1\" class=\"data row3 col1\" >Barstar</td>\n",
       "      <td id=\"T_0c751_row3_col2\" class=\"data row3 col2\" >protein</td>\n",
       "      <td id=\"T_0c751_row3_col3\" class=\"data row3 col3\" >693</td>\n",
       "      <td id=\"T_0c751_row3_col4\" class=\"data row3 col4\" >87</td>\n",
       "      <td id=\"T_0c751_row3_col5\" class=\"data row3 col5\" >2</td>\n",
       "      <td id=\"T_0c751_row3_col6\" class=\"data row3 col6\" >3</td>\n",
       "      <td id=\"T_0c751_row3_col7\" class=\"data row3 col7\" >1</td>\n",
       "      <td id=\"T_0c751_row3_col8\" class=\"data row3 col8\" >Barstar</td>\n",
       "    </tr>\n",
       "    <tr>\n",
       "      <td id=\"T_0c751_row4_col0\" class=\"data row4 col0\" >4</td>\n",
       "      <td id=\"T_0c751_row4_col1\" class=\"data row4 col1\" >Barstar</td>\n",
       "      <td id=\"T_0c751_row4_col2\" class=\"data row4 col2\" >protein</td>\n",
       "      <td id=\"T_0c751_row4_col3\" class=\"data row4 col3\" >665</td>\n",
       "      <td id=\"T_0c751_row4_col4\" class=\"data row4 col4\" >86</td>\n",
       "      <td id=\"T_0c751_row4_col5\" class=\"data row4 col5\" >2</td>\n",
       "      <td id=\"T_0c751_row4_col6\" class=\"data row4 col6\" >4</td>\n",
       "      <td id=\"T_0c751_row4_col7\" class=\"data row4 col7\" >1</td>\n",
       "      <td id=\"T_0c751_row4_col8\" class=\"data row4 col8\" >Barstar</td>\n",
       "    </tr>\n",
       "    <tr>\n",
       "      <td id=\"T_0c751_row5_col0\" class=\"data row5 col0\" >5</td>\n",
       "      <td id=\"T_0c751_row5_col1\" class=\"data row5 col1\" >Barstar</td>\n",
       "      <td id=\"T_0c751_row5_col2\" class=\"data row5 col2\" >protein</td>\n",
       "      <td id=\"T_0c751_row5_col3\" class=\"data row5 col3\" >699</td>\n",
       "      <td id=\"T_0c751_row5_col4\" class=\"data row5 col4\" >89</td>\n",
       "      <td id=\"T_0c751_row5_col5\" class=\"data row5 col5\" >1</td>\n",
       "      <td id=\"T_0c751_row5_col6\" class=\"data row5 col6\" >5</td>\n",
       "      <td id=\"T_0c751_row5_col7\" class=\"data row5 col7\" >1</td>\n",
       "      <td id=\"T_0c751_row5_col8\" class=\"data row5 col8\" >Barstar</td>\n",
       "    </tr>\n",
       "  </tbody>\n",
       "</table>\n"
      ],
      "text/plain": [
       "<pandas.io.formats.style.Styler at 0x7f74116401c0>"
      ]
     },
     "execution_count": 12,
     "metadata": {},
     "output_type": "execute_result"
    }
   ],
   "source": [
    "msm.info(molecular_system, element='molecule')"
   ]
  },
  {
   "cell_type": "code",
   "execution_count": 15,
   "id": "64cdc942-9266-4ea6-9984-5d2ef3f5637c",
   "metadata": {},
   "outputs": [],
   "source": [
    "barnase = msm.extract(molecular_system, selection=\"chain_name=='B'\")\n",
    "barstar_E = msm.extract(molecular_system, selection=\"chain_name=='E'\")\n",
    "barstar_F = msm.extract(molecular_system, selection=\"chain_name=='F'\")"
   ]
  },
  {
   "cell_type": "code",
   "execution_count": 19,
   "id": "c5fea49a-ae1e-4346-97e1-185180b622c1",
   "metadata": {},
   "outputs": [],
   "source": [
    "barstar_F_over_E = msm.structure.align(barstar_F, selection='atom_name==\"CA\"',\n",
    "                                       reference_molecular_system=barstar_E, reference_selection='atom_name==\"CA\"')"
   ]
  },
  {
   "cell_type": "code",
   "execution_count": 21,
   "id": "7f2ca2f0-dadf-41de-a5dd-34ef5b065e02",
   "metadata": {},
   "outputs": [],
   "source": [
    "barnase_barstar = msm.merge([barnase, barstar_F_over_E])"
   ]
  },
  {
   "cell_type": "code",
   "execution_count": 24,
   "id": "37e563e2-2fd0-46bc-804e-55c32191b7c7",
   "metadata": {},
   "outputs": [
    {
     "data": {
      "text/html": [
       "<style type=\"text/css\">\n",
       "</style>\n",
       "<table id=\"T_5ea93\">\n",
       "  <thead>\n",
       "    <tr>\n",
       "      <th id=\"T_5ea93_level0_col0\" class=\"col_heading level0 col0\" >index</th>\n",
       "      <th id=\"T_5ea93_level0_col1\" class=\"col_heading level0 col1\" >name</th>\n",
       "      <th id=\"T_5ea93_level0_col2\" class=\"col_heading level0 col2\" >type</th>\n",
       "      <th id=\"T_5ea93_level0_col3\" class=\"col_heading level0 col3\" >n atoms</th>\n",
       "      <th id=\"T_5ea93_level0_col4\" class=\"col_heading level0 col4\" >n groups</th>\n",
       "      <th id=\"T_5ea93_level0_col5\" class=\"col_heading level0 col5\" >n components</th>\n",
       "      <th id=\"T_5ea93_level0_col6\" class=\"col_heading level0 col6\" >chain index</th>\n",
       "      <th id=\"T_5ea93_level0_col7\" class=\"col_heading level0 col7\" >entity index</th>\n",
       "      <th id=\"T_5ea93_level0_col8\" class=\"col_heading level0 col8\" >entity name</th>\n",
       "    </tr>\n",
       "  </thead>\n",
       "  <tbody>\n",
       "    <tr>\n",
       "      <td id=\"T_5ea93_row0_col0\" class=\"data row0 col0\" >0</td>\n",
       "      <td id=\"T_5ea93_row0_col1\" class=\"data row0 col1\" >None</td>\n",
       "      <td id=\"T_5ea93_row0_col2\" class=\"data row0 col2\" >protein</td>\n",
       "      <td id=\"T_5ea93_row0_col3\" class=\"data row0 col3\" >878</td>\n",
       "      <td id=\"T_5ea93_row0_col4\" class=\"data row0 col4\" >110</td>\n",
       "      <td id=\"T_5ea93_row0_col5\" class=\"data row0 col5\" >1</td>\n",
       "      <td id=\"T_5ea93_row0_col6\" class=\"data row0 col6\" >0</td>\n",
       "      <td id=\"T_5ea93_row0_col7\" class=\"data row0 col7\" >0</td>\n",
       "      <td id=\"T_5ea93_row0_col8\" class=\"data row0 col8\" >None</td>\n",
       "    </tr>\n",
       "    <tr>\n",
       "      <td id=\"T_5ea93_row1_col0\" class=\"data row1 col0\" >1</td>\n",
       "      <td id=\"T_5ea93_row1_col1\" class=\"data row1 col1\" >None</td>\n",
       "      <td id=\"T_5ea93_row1_col2\" class=\"data row1 col2\" >protein</td>\n",
       "      <td id=\"T_5ea93_row1_col3\" class=\"data row1 col3\" >718</td>\n",
       "      <td id=\"T_5ea93_row1_col4\" class=\"data row1 col4\" >89</td>\n",
       "      <td id=\"T_5ea93_row1_col5\" class=\"data row1 col5\" >1</td>\n",
       "      <td id=\"T_5ea93_row1_col6\" class=\"data row1 col6\" >1</td>\n",
       "      <td id=\"T_5ea93_row1_col7\" class=\"data row1 col7\" >0</td>\n",
       "      <td id=\"T_5ea93_row1_col8\" class=\"data row1 col8\" >None</td>\n",
       "    </tr>\n",
       "  </tbody>\n",
       "</table>\n"
      ],
      "text/plain": [
       "<pandas.io.formats.style.Styler at 0x7f7410e11db0>"
      ]
     },
     "execution_count": 24,
     "metadata": {},
     "output_type": "execute_result"
    }
   ],
   "source": [
    "msm.info(barnase_barstar, element='molecule')"
   ]
  },
  {
   "cell_type": "code",
   "execution_count": 23,
   "id": "07614d93-12f9-462e-9811-d58c2c7c0733",
   "metadata": {},
   "outputs": [],
   "source": [
    "barnase_barstar = msm.build.add_missing_heavy_atoms(barnase_barstar)"
   ]
  },
  {
   "cell_type": "code",
   "execution_count": null,
   "id": "8d6417cd-5a68-48a3-a70d-dde0a42c10e4",
   "metadata": {},
   "outputs": [],
   "source": []
  },
  {
   "cell_type": "code",
   "execution_count": null,
   "id": "3e8cdcd9-e545-4c95-9f29-4f551536a51c",
   "metadata": {},
   "outputs": [],
   "source": [
    "barnase_barstar = msm.build.add_missing_heavy_atoms(barnase_barstar)\n",
    "barnase_barstar = msm.build.add_missing_hydrogens(barnase_barstar, pH=7.4)\n",
    "_ = msm.convert(barnase_barstar, to_form='../../data/pdb/barnase_barstar.pdb')\n",
    "_ = msm.convert(barnase_barstar, to_form='../../data/msmpk/barnase_barstar.msmpk')"
   ]
  },
  {
   "cell_type": "code",
   "execution_count": null,
   "id": "04d072b2-ca79-4c91-b16b-67f3782b926a",
   "metadata": {},
   "outputs": [],
   "source": []
  },
  {
   "cell_type": "code",
   "execution_count": null,
   "id": "14e2e862-05d9-444b-afac-92c27f031fef",
   "metadata": {},
   "outputs": [],
   "source": []
  },
  {
   "cell_type": "code",
   "execution_count": null,
   "id": "de4979b9-1a21-4cf3-abc3-2d85456fed23",
   "metadata": {},
   "outputs": [],
   "source": []
  },
  {
   "cell_type": "code",
   "execution_count": 2,
   "id": "2533b1cd-6fef-4bc6-8e81-ee8c44589c4c",
   "metadata": {},
   "outputs": [],
   "source": [
    "molecular_system = msm.convert(msm.systems.demo['Barnase-Barstar']['barnase_barstar.msmpk'])"
   ]
  },
  {
   "cell_type": "code",
   "execution_count": 3,
   "id": "984aee1c-e921-4f84-8ce2-b811f8cd6cc7",
   "metadata": {},
   "outputs": [
    {
     "data": {
      "text/html": [
       "<style type=\"text/css\">\n",
       "</style>\n",
       "<table id=\"T_c431d\">\n",
       "  <thead>\n",
       "    <tr>\n",
       "      <th id=\"T_c431d_level0_col0\" class=\"col_heading level0 col0\" >index</th>\n",
       "      <th id=\"T_c431d_level0_col1\" class=\"col_heading level0 col1\" >name</th>\n",
       "      <th id=\"T_c431d_level0_col2\" class=\"col_heading level0 col2\" >type</th>\n",
       "      <th id=\"T_c431d_level0_col3\" class=\"col_heading level0 col3\" >n atoms</th>\n",
       "      <th id=\"T_c431d_level0_col4\" class=\"col_heading level0 col4\" >n groups</th>\n",
       "      <th id=\"T_c431d_level0_col5\" class=\"col_heading level0 col5\" >n components</th>\n",
       "      <th id=\"T_c431d_level0_col6\" class=\"col_heading level0 col6\" >chain index</th>\n",
       "      <th id=\"T_c431d_level0_col7\" class=\"col_heading level0 col7\" >entity index</th>\n",
       "      <th id=\"T_c431d_level0_col8\" class=\"col_heading level0 col8\" >entity name</th>\n",
       "    </tr>\n",
       "  </thead>\n",
       "  <tbody>\n",
       "    <tr>\n",
       "      <td id=\"T_c431d_row0_col0\" class=\"data row0 col0\" >0</td>\n",
       "      <td id=\"T_c431d_row0_col1\" class=\"data row0 col1\" >None</td>\n",
       "      <td id=\"T_c431d_row0_col2\" class=\"data row0 col2\" >protein</td>\n",
       "      <td id=\"T_c431d_row0_col3\" class=\"data row0 col3\" >1727</td>\n",
       "      <td id=\"T_c431d_row0_col4\" class=\"data row0 col4\" >110</td>\n",
       "      <td id=\"T_c431d_row0_col5\" class=\"data row0 col5\" >1</td>\n",
       "      <td id=\"T_c431d_row0_col6\" class=\"data row0 col6\" >0</td>\n",
       "      <td id=\"T_c431d_row0_col7\" class=\"data row0 col7\" >0</td>\n",
       "      <td id=\"T_c431d_row0_col8\" class=\"data row0 col8\" >None</td>\n",
       "    </tr>\n",
       "    <tr>\n",
       "      <td id=\"T_c431d_row1_col0\" class=\"data row1 col0\" >1</td>\n",
       "      <td id=\"T_c431d_row1_col1\" class=\"data row1 col1\" >None</td>\n",
       "      <td id=\"T_c431d_row1_col2\" class=\"data row1 col2\" >protein</td>\n",
       "      <td id=\"T_c431d_row1_col3\" class=\"data row1 col3\" >1432</td>\n",
       "      <td id=\"T_c431d_row1_col4\" class=\"data row1 col4\" >89</td>\n",
       "      <td id=\"T_c431d_row1_col5\" class=\"data row1 col5\" >1</td>\n",
       "      <td id=\"T_c431d_row1_col6\" class=\"data row1 col6\" >1</td>\n",
       "      <td id=\"T_c431d_row1_col7\" class=\"data row1 col7\" >0</td>\n",
       "      <td id=\"T_c431d_row1_col8\" class=\"data row1 col8\" >None</td>\n",
       "    </tr>\n",
       "  </tbody>\n",
       "</table>\n"
      ],
      "text/plain": [
       "<pandas.io.formats.style.Styler at 0x7f7411c9e8f0>"
      ]
     },
     "execution_count": 3,
     "metadata": {},
     "output_type": "execute_result"
    }
   ],
   "source": [
    "msm.info(molecular_system, element='molecule')"
   ]
  },
  {
   "cell_type": "code",
   "execution_count": 8,
   "id": "098dedca-83df-4424-8bb6-21e2b123bc2b",
   "metadata": {},
   "outputs": [],
   "source": [
    "selection = msm.select(molecular_system, selection='groups of molecule_index==0')"
   ]
  },
  {
   "cell_type": "code",
   "execution_count": null,
   "id": "70c0a524-b306-4708-9782-12613adcca98",
   "metadata": {},
   "outputs": [],
   "source": [
    "msm.get(molecular_system, element='atoms', selection='molecule_index==0', atom_index=True)"
   ]
  },
  {
   "cell_type": "code",
   "execution_count": null,
   "id": "b70ce213-adbb-438d-8788-b025d5efe363",
   "metadata": {},
   "outputs": [],
   "source": [
    "msm.get(molecular_system, element='group', selection='molecule_index==0', atom_index=True)"
   ]
  },
  {
   "cell_type": "code",
   "execution_count": null,
   "id": "638f596f-d8c6-4ff7-b1a1-1d9a526e77df",
   "metadata": {},
   "outputs": [],
   "source": []
  }
 ],
 "metadata": {
  "kernelspec": {
   "display_name": "Python 3 (ipykernel)",
   "language": "python",
   "name": "python3"
  },
  "language_info": {
   "codemirror_mode": {
    "name": "ipython",
    "version": 3
   },
   "file_extension": ".py",
   "mimetype": "text/x-python",
   "name": "python",
   "nbconvert_exporter": "python",
   "pygments_lexer": "ipython3",
   "version": "3.10.12"
  }
 },
 "nbformat": 4,
 "nbformat_minor": 5
}
