{
 "cells": [
  {
   "cell_type": "code",
   "execution_count": 7,
   "id": "6849a3d6-9799-4a2a-b1bb-e03cef818178",
   "metadata": {},
   "outputs": [],
   "source": [
    "import molsysmt as msm"
   ]
  },
  {
   "cell_type": "code",
   "execution_count": 11,
   "id": "98c50234-f316-497f-b7ff-9ad98734f75f",
   "metadata": {},
   "outputs": [],
   "source": [
    "molsys = msm.convert(msm.systems.tests['Met-enkephalin']['met_enkephalin.msmpk'], to_form='molsysmt.MolSys')"
   ]
  },
  {
   "cell_type": "code",
   "execution_count": 12,
   "id": "e16ad486-0ff4-4743-92c8-89c7686f08b5",
   "metadata": {},
   "outputs": [
    {
     "ename": "TypeError",
     "evalue": "select() got an unexpected keyword argument 'mask'",
     "output_type": "error",
     "traceback": [
      "\u001b[0;31m---------------------------------------------------------------------------\u001b[0m",
      "\u001b[0;31mTypeError\u001b[0m                                 Traceback (most recent call last)",
      "Cell \u001b[0;32mIn[12], line 1\u001b[0m\n\u001b[0;32m----> 1\u001b[0m phi_chains \u001b[38;5;241m=\u001b[39m \u001b[43mmsm\u001b[49m\u001b[38;5;241;43m.\u001b[39;49m\u001b[43mtopology\u001b[49m\u001b[38;5;241;43m.\u001b[39;49m\u001b[43mget_dihedral_quartets\u001b[49m\u001b[43m(\u001b[49m\u001b[43mmolsys\u001b[49m\u001b[43m,\u001b[49m\u001b[43m \u001b[49m\u001b[43mphi\u001b[49m\u001b[38;5;241;43m=\u001b[39;49m\u001b[38;5;28;43;01mTrue\u001b[39;49;00m\u001b[43m)\u001b[49m\n",
      "File \u001b[0;32m~/projects@uibcdf/MolSysMT/molsysmt/_private/digestion/digest.py:117\u001b[0m, in \u001b[0;36mdigest.<locals>.digestor.<locals>.wrapper\u001b[0;34m(*args, **kwargs)\u001b[0m\n\u001b[1;32m    115\u001b[0m     \u001b[38;5;28;01mreturn\u001b[39;00m func(all_args[\u001b[38;5;124m'\u001b[39m\u001b[38;5;124mself\u001b[39m\u001b[38;5;124m'\u001b[39m], \u001b[38;5;241m*\u001b[39m\u001b[38;5;241m*\u001b[39mfinal_args)\n\u001b[1;32m    116\u001b[0m \u001b[38;5;28;01melse\u001b[39;00m:\n\u001b[0;32m--> 117\u001b[0m     \u001b[38;5;28;01mreturn\u001b[39;00m \u001b[43mfunc\u001b[49m\u001b[43m(\u001b[49m\u001b[38;5;241;43m*\u001b[39;49m\u001b[38;5;241;43m*\u001b[39;49m\u001b[43mfinal_args\u001b[49m\u001b[43m)\u001b[49m\n",
      "File \u001b[0;32m~/projects@uibcdf/MolSysMT/molsysmt/topology/get_dihedral_quartets.py:40\u001b[0m, in \u001b[0;36mget_dihedral_quartets\u001b[0;34m(molecular_system, with_blocks, selection, syntax, **kwargs)\u001b[0m\n\u001b[1;32m     37\u001b[0m \u001b[38;5;28;01melif\u001b[39;00m dihedral_angle\u001b[38;5;241m==\u001b[39m\u001b[38;5;124m'\u001b[39m\u001b[38;5;124mchi5\u001b[39m\u001b[38;5;124m'\u001b[39m:\n\u001b[1;32m     38\u001b[0m     chain\u001b[38;5;241m=\u001b[39m[\u001b[38;5;124m'\u001b[39m\u001b[38;5;124matom_name==\u001b[39m\u001b[38;5;124m\"\u001b[39m\u001b[38;5;124mCD\u001b[39m\u001b[38;5;124m\"\u001b[39m\u001b[38;5;124m'\u001b[39m, \u001b[38;5;124m'\u001b[39m\u001b[38;5;124matom_name==\u001b[39m\u001b[38;5;124m\"\u001b[39m\u001b[38;5;124mNE\u001b[39m\u001b[38;5;124m\"\u001b[39m\u001b[38;5;124m'\u001b[39m, \u001b[38;5;124m'\u001b[39m\u001b[38;5;124matom_name==\u001b[39m\u001b[38;5;124m\"\u001b[39m\u001b[38;5;124mCZ\u001b[39m\u001b[38;5;124m\"\u001b[39m\u001b[38;5;124m'\u001b[39m, \u001b[38;5;124m'\u001b[39m\u001b[38;5;124matom_name==\u001b[39m\u001b[38;5;124m\"\u001b[39m\u001b[38;5;124mNH1\u001b[39m\u001b[38;5;124m\"\u001b[39m\u001b[38;5;124m'\u001b[39m]\n\u001b[0;32m---> 40\u001b[0m quartets \u001b[38;5;241m=\u001b[39m \u001b[43mget_covalent_chains\u001b[49m\u001b[43m(\u001b[49m\u001b[43mmolecular_system\u001b[49m\u001b[43m,\u001b[49m\u001b[43m \u001b[49m\u001b[43mchain\u001b[49m\u001b[38;5;241;43m=\u001b[39;49m\u001b[43mchain\u001b[49m\u001b[43m,\u001b[49m\u001b[43m \u001b[49m\u001b[43mselection\u001b[49m\u001b[38;5;241;43m=\u001b[39;49m\u001b[43mselection\u001b[49m\u001b[43m,\u001b[49m\u001b[43m \u001b[49m\u001b[43msyntax\u001b[49m\u001b[38;5;241;43m=\u001b[39;49m\u001b[43msyntax\u001b[49m\u001b[43m)\u001b[49m\n\u001b[1;32m     42\u001b[0m all_quartets\u001b[38;5;241m.\u001b[39mappend(quartets)\n\u001b[1;32m     44\u001b[0m \u001b[38;5;28;01mif\u001b[39;00m with_blocks:\n",
      "File \u001b[0;32m~/projects@uibcdf/MolSysMT/molsysmt/_private/digestion/digest.py:117\u001b[0m, in \u001b[0;36mdigest.<locals>.digestor.<locals>.wrapper\u001b[0;34m(*args, **kwargs)\u001b[0m\n\u001b[1;32m    115\u001b[0m     \u001b[38;5;28;01mreturn\u001b[39;00m func(all_args[\u001b[38;5;124m'\u001b[39m\u001b[38;5;124mself\u001b[39m\u001b[38;5;124m'\u001b[39m], \u001b[38;5;241m*\u001b[39m\u001b[38;5;241m*\u001b[39mfinal_args)\n\u001b[1;32m    116\u001b[0m \u001b[38;5;28;01melse\u001b[39;00m:\n\u001b[0;32m--> 117\u001b[0m     \u001b[38;5;28;01mreturn\u001b[39;00m \u001b[43mfunc\u001b[49m\u001b[43m(\u001b[49m\u001b[38;5;241;43m*\u001b[39;49m\u001b[38;5;241;43m*\u001b[39;49m\u001b[43mfinal_args\u001b[49m\u001b[43m)\u001b[49m\n",
      "File \u001b[0;32m~/projects@uibcdf/MolSysMT/molsysmt/topology/get_covalent_chains.py:19\u001b[0m, in \u001b[0;36mget_covalent_chains\u001b[0;34m(molecular_system, chain, selection, syntax)\u001b[0m\n\u001b[1;32m     16\u001b[0m chain_atom_indices \u001b[38;5;241m=\u001b[39m []\n\u001b[1;32m     18\u001b[0m \u001b[38;5;28;01mfor\u001b[39;00m sel_in_chain \u001b[38;5;129;01min\u001b[39;00m chain:\n\u001b[0;32m---> 19\u001b[0m     atom_indices \u001b[38;5;241m=\u001b[39m \u001b[43mselect\u001b[49m\u001b[43m(\u001b[49m\u001b[43mmolecular_system\u001b[49m\u001b[43m,\u001b[49m\u001b[43m \u001b[49m\u001b[43mselection\u001b[49m\u001b[38;5;241;43m=\u001b[39;49m\u001b[43msel_in_chain\u001b[49m\u001b[43m,\u001b[49m\u001b[43m \u001b[49m\u001b[43mmask\u001b[49m\u001b[38;5;241;43m=\u001b[39;49m\u001b[43mmask\u001b[49m\u001b[43m)\u001b[49m\n\u001b[1;32m     20\u001b[0m     chain_atom_indices\u001b[38;5;241m.\u001b[39mappend(atom_indices)\n\u001b[1;32m     22\u001b[0m atom_indices \u001b[38;5;241m=\u001b[39m np\u001b[38;5;241m.\u001b[39msort(np\u001b[38;5;241m.\u001b[39munique(np\u001b[38;5;241m.\u001b[39mconcatenate(chain_atom_indices)))\n",
      "File \u001b[0;32m~/projects@uibcdf/MolSysMT/molsysmt/_private/digestion/digest.py:117\u001b[0m, in \u001b[0;36mdigest.<locals>.digestor.<locals>.wrapper\u001b[0;34m(*args, **kwargs)\u001b[0m\n\u001b[1;32m    115\u001b[0m     \u001b[38;5;28;01mreturn\u001b[39;00m func(all_args[\u001b[38;5;124m'\u001b[39m\u001b[38;5;124mself\u001b[39m\u001b[38;5;124m'\u001b[39m], \u001b[38;5;241m*\u001b[39m\u001b[38;5;241m*\u001b[39mfinal_args)\n\u001b[1;32m    116\u001b[0m \u001b[38;5;28;01melse\u001b[39;00m:\n\u001b[0;32m--> 117\u001b[0m     \u001b[38;5;28;01mreturn\u001b[39;00m \u001b[43mfunc\u001b[49m\u001b[43m(\u001b[49m\u001b[38;5;241;43m*\u001b[39;49m\u001b[38;5;241;43m*\u001b[39;49m\u001b[43mfinal_args\u001b[49m\u001b[43m)\u001b[49m\n",
      "\u001b[0;31mTypeError\u001b[0m: select() got an unexpected keyword argument 'mask'"
     ]
    }
   ],
   "source": [
    "phi_chains = msm.topology.get_dihedral_quartets(molsys, phi=True)"
   ]
  },
  {
   "cell_type": "code",
   "execution_count": null,
   "id": "7348dbf5-f5fd-4c32-a5c4-d412eda31156",
   "metadata": {},
   "outputs": [],
   "source": [
    "    molsys = msm.convert(tests_systems['Met-enkephalin']['met_enkephalin.msmpk'], to_form='molsysmt.MolSys')\n",
    "    phi_chains = msm.topology.get_dihedral_quartets(molsys, phi=True)\n",
    "    molecular_system = msm.structure.shift_dihedral_angles(molsys, quartets=phi_chains[2],\n",
    "                                                           angles_shifts='45.0 degrees', pbc=False)\n",
    "    dihedral_angles = msm.structure.get_dihedral_angles(molecular_system, quartets=phi_chains[2])\n",
    "    true_value = np.array([[-135.00]])\n",
    "    check = np.allclose(true_value,msm.pyunitwizard.get_value(dihedral_angles, to_unit='degrees'))\n",
    " "
   ]
  }
 ],
 "metadata": {
  "kernelspec": {
   "display_name": "Python 3 (ipykernel)",
   "language": "python",
   "name": "python3"
  },
  "language_info": {
   "codemirror_mode": {
    "name": "ipython",
    "version": 3
   },
   "file_extension": ".py",
   "mimetype": "text/x-python",
   "name": "python",
   "nbconvert_exporter": "python",
   "pygments_lexer": "ipython3",
   "version": "3.10.11"
  }
 },
 "nbformat": 4,
 "nbformat_minor": 5
}
