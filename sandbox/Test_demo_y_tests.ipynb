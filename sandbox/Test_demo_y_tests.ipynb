{
 "cells": [
  {
   "cell_type": "code",
   "execution_count": 1,
   "id": "6849a3d6-9799-4a2a-b1bb-e03cef818178",
   "metadata": {},
   "outputs": [
    {
     "data": {
      "application/vnd.jupyter.widget-view+json": {
       "model_id": "ba038cdde199407491108a40cbbf62d1",
       "version_major": 2,
       "version_minor": 0
      },
      "text/plain": []
     },
     "metadata": {},
     "output_type": "display_data"
    }
   ],
   "source": [
    "import molsysmt as msm"
   ]
  },
  {
   "cell_type": "code",
   "execution_count": 2,
   "id": "2533b1cd-6fef-4bc6-8e81-ee8c44589c4c",
   "metadata": {},
   "outputs": [],
   "source": [
    "molecular_system = msm.convert(msm.systems.demo['Barnase-Barstar']['barnase_barstar.msmpk'])"
   ]
  },
  {
   "cell_type": "code",
   "execution_count": 3,
   "id": "984aee1c-e921-4f84-8ce2-b811f8cd6cc7",
   "metadata": {},
   "outputs": [
    {
     "data": {
      "text/html": [
       "<style type=\"text/css\">\n",
       "</style>\n",
       "<table id=\"T_9bb62\">\n",
       "  <thead>\n",
       "    <tr>\n",
       "      <th id=\"T_9bb62_level0_col0\" class=\"col_heading level0 col0\" >index</th>\n",
       "      <th id=\"T_9bb62_level0_col1\" class=\"col_heading level0 col1\" >name</th>\n",
       "      <th id=\"T_9bb62_level0_col2\" class=\"col_heading level0 col2\" >type</th>\n",
       "      <th id=\"T_9bb62_level0_col3\" class=\"col_heading level0 col3\" >n atoms</th>\n",
       "      <th id=\"T_9bb62_level0_col4\" class=\"col_heading level0 col4\" >n groups</th>\n",
       "      <th id=\"T_9bb62_level0_col5\" class=\"col_heading level0 col5\" >n components</th>\n",
       "      <th id=\"T_9bb62_level0_col6\" class=\"col_heading level0 col6\" >chain index</th>\n",
       "      <th id=\"T_9bb62_level0_col7\" class=\"col_heading level0 col7\" >entity index</th>\n",
       "      <th id=\"T_9bb62_level0_col8\" class=\"col_heading level0 col8\" >entity name</th>\n",
       "    </tr>\n",
       "  </thead>\n",
       "  <tbody>\n",
       "    <tr>\n",
       "      <td id=\"T_9bb62_row0_col0\" class=\"data row0 col0\" >0</td>\n",
       "      <td id=\"T_9bb62_row0_col1\" class=\"data row0 col1\" >Barnase</td>\n",
       "      <td id=\"T_9bb62_row0_col2\" class=\"data row0 col2\" >protein</td>\n",
       "      <td id=\"T_9bb62_row0_col3\" class=\"data row0 col3\" >1727</td>\n",
       "      <td id=\"T_9bb62_row0_col4\" class=\"data row0 col4\" >110</td>\n",
       "      <td id=\"T_9bb62_row0_col5\" class=\"data row0 col5\" >1</td>\n",
       "      <td id=\"T_9bb62_row0_col6\" class=\"data row0 col6\" >0</td>\n",
       "      <td id=\"T_9bb62_row0_col7\" class=\"data row0 col7\" >0</td>\n",
       "      <td id=\"T_9bb62_row0_col8\" class=\"data row0 col8\" >Barnase</td>\n",
       "    </tr>\n",
       "    <tr>\n",
       "      <td id=\"T_9bb62_row1_col0\" class=\"data row1 col0\" >1</td>\n",
       "      <td id=\"T_9bb62_row1_col1\" class=\"data row1 col1\" >Barstar</td>\n",
       "      <td id=\"T_9bb62_row1_col2\" class=\"data row1 col2\" >protein</td>\n",
       "      <td id=\"T_9bb62_row1_col3\" class=\"data row1 col3\" >1432</td>\n",
       "      <td id=\"T_9bb62_row1_col4\" class=\"data row1 col4\" >89</td>\n",
       "      <td id=\"T_9bb62_row1_col5\" class=\"data row1 col5\" >1</td>\n",
       "      <td id=\"T_9bb62_row1_col6\" class=\"data row1 col6\" >1</td>\n",
       "      <td id=\"T_9bb62_row1_col7\" class=\"data row1 col7\" >1</td>\n",
       "      <td id=\"T_9bb62_row1_col8\" class=\"data row1 col8\" >Barstar</td>\n",
       "    </tr>\n",
       "  </tbody>\n",
       "</table>\n"
      ],
      "text/plain": [
       "<pandas.io.formats.style.Styler at 0x7f8c71b386d0>"
      ]
     },
     "execution_count": 3,
     "metadata": {},
     "output_type": "execute_result"
    }
   ],
   "source": [
    "msm.info(molecular_system, element='molecule')"
   ]
  },
  {
   "cell_type": "code",
   "execution_count": 4,
   "id": "1d50552e-fe30-49bc-8672-ae7c1f917758",
   "metadata": {},
   "outputs": [
    {
     "data": {
      "text/html": [
       "18582.79296875 kilojoule/mole"
      ],
      "text/latex": [
       "$18582.79296875\\ \\frac{\\mathrm{kilojoule}}{\\mathrm{mole}}$"
      ],
      "text/plain": [
       "18582.79296875 <Unit('kilojoule / mole')>"
      ]
     },
     "execution_count": 4,
     "metadata": {},
     "output_type": "execute_result"
    }
   ],
   "source": [
    "msm.molecular_mechanics.get_potential_energy(molecular_system)"
   ]
  },
  {
   "cell_type": "code",
   "execution_count": 5,
   "id": "3c9f30c9-2e3b-4618-8a1d-8fc07a6ba1e0",
   "metadata": {},
   "outputs": [
    {
     "name": "stdout",
     "output_type": "stream",
     "text": [
      "Potential Energy before minimization: 18582.79296875 kilojoule / mole\n",
      "Potential Energy after minimization: -24748.765625 kilojoule / mole\n"
     ]
    }
   ],
   "source": [
    "msm.molecular_mechanics.potential_energy_minimization(molecular_system, verbose=True)"
   ]
  },
  {
   "cell_type": "code",
   "execution_count": 6,
   "id": "b1d23530-4868-47e3-863c-92b11a2b381a",
   "metadata": {},
   "outputs": [
    {
     "data": {
      "text/html": [
       "-24748.765625 kilojoule/mole"
      ],
      "text/latex": [
       "$-24748.765625\\ \\frac{\\mathrm{kilojoule}}{\\mathrm{mole}}$"
      ],
      "text/plain": [
       "-24748.765625 <Unit('kilojoule / mole')>"
      ]
     },
     "execution_count": 6,
     "metadata": {},
     "output_type": "execute_result"
    }
   ],
   "source": [
    "msm.molecular_mechanics.get_potential_energy(molecular_system)"
   ]
  },
  {
   "cell_type": "code",
   "execution_count": 7,
   "id": "cd796b62-6cd7-4412-a989-b734659287ae",
   "metadata": {},
   "outputs": [
    {
     "data": {
      "text/html": [
       "<style type=\"text/css\">\n",
       "</style>\n",
       "<table id=\"T_f50be\">\n",
       "  <thead>\n",
       "    <tr>\n",
       "      <th id=\"T_f50be_level0_col0\" class=\"col_heading level0 col0\" >form</th>\n",
       "      <th id=\"T_f50be_level0_col1\" class=\"col_heading level0 col1\" >n_atoms</th>\n",
       "      <th id=\"T_f50be_level0_col2\" class=\"col_heading level0 col2\" >n_groups</th>\n",
       "      <th id=\"T_f50be_level0_col3\" class=\"col_heading level0 col3\" >n_components</th>\n",
       "      <th id=\"T_f50be_level0_col4\" class=\"col_heading level0 col4\" >n_chains</th>\n",
       "      <th id=\"T_f50be_level0_col5\" class=\"col_heading level0 col5\" >n_molecules</th>\n",
       "      <th id=\"T_f50be_level0_col6\" class=\"col_heading level0 col6\" >n_entities</th>\n",
       "      <th id=\"T_f50be_level0_col7\" class=\"col_heading level0 col7\" >n_proteins</th>\n",
       "      <th id=\"T_f50be_level0_col8\" class=\"col_heading level0 col8\" >n_structures</th>\n",
       "    </tr>\n",
       "  </thead>\n",
       "  <tbody>\n",
       "    <tr>\n",
       "      <td id=\"T_f50be_row0_col0\" class=\"data row0 col0\" >molsysmt.MolSys</td>\n",
       "      <td id=\"T_f50be_row0_col1\" class=\"data row0 col1\" >3159</td>\n",
       "      <td id=\"T_f50be_row0_col2\" class=\"data row0 col2\" >199</td>\n",
       "      <td id=\"T_f50be_row0_col3\" class=\"data row0 col3\" >2</td>\n",
       "      <td id=\"T_f50be_row0_col4\" class=\"data row0 col4\" >2</td>\n",
       "      <td id=\"T_f50be_row0_col5\" class=\"data row0 col5\" >2</td>\n",
       "      <td id=\"T_f50be_row0_col6\" class=\"data row0 col6\" >2</td>\n",
       "      <td id=\"T_f50be_row0_col7\" class=\"data row0 col7\" >2</td>\n",
       "      <td id=\"T_f50be_row0_col8\" class=\"data row0 col8\" >1</td>\n",
       "    </tr>\n",
       "  </tbody>\n",
       "</table>\n"
      ],
      "text/plain": [
       "<pandas.io.formats.style.Styler at 0x7f8c6608feb0>"
      ]
     },
     "execution_count": 7,
     "metadata": {},
     "output_type": "execute_result"
    }
   ],
   "source": [
    "msm.info(molecular_system)"
   ]
  },
  {
   "cell_type": "code",
   "execution_count": null,
   "id": "e67c8283-c8b7-4492-bb3e-b85b877a9c4c",
   "metadata": {},
   "outputs": [],
   "source": []
  }
 ],
 "metadata": {
  "kernelspec": {
   "display_name": "Python 3 (ipykernel)",
   "language": "python",
   "name": "python3"
  },
  "language_info": {
   "codemirror_mode": {
    "name": "ipython",
    "version": 3
   },
   "file_extension": ".py",
   "mimetype": "text/x-python",
   "name": "python",
   "nbconvert_exporter": "python",
   "pygments_lexer": "ipython3",
   "version": "3.10.12"
  }
 },
 "nbformat": 4,
 "nbformat_minor": 5
}
