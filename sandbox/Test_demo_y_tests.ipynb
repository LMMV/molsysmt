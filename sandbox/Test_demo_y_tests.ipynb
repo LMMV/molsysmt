{
 "cells": [
  {
   "cell_type": "code",
   "execution_count": 1,
   "id": "6849a3d6-9799-4a2a-b1bb-e03cef818178",
   "metadata": {},
   "outputs": [
    {
     "data": {
      "application/vnd.jupyter.widget-view+json": {
       "model_id": "e6b94a47b46e4834909afabab31d8ae5",
       "version_major": 2,
       "version_minor": 0
      },
      "text/plain": []
     },
     "metadata": {},
     "output_type": "display_data"
    }
   ],
   "source": [
    "import molsysmt as msm"
   ]
  },
  {
   "cell_type": "code",
   "execution_count": 2,
   "id": "74cdb44f-d254-4a24-9d2d-e3a5653850a1",
   "metadata": {},
   "outputs": [],
   "source": [
    "from molsysmt.systems import tests as tests_systems\n",
    "import numpy as np\n",
    "import os\n"
   ]
  },
  {
   "cell_type": "code",
   "execution_count": 3,
   "id": "79e1348f-28f1-46e4-98b5-46e99a5e7d4a",
   "metadata": {},
   "outputs": [],
   "source": [
    "seq = 'AlaValPro'"
   ]
  },
  {
   "cell_type": "code",
   "execution_count": 4,
   "id": "5b6b07bc-8d48-438c-9c37-5e7f5536cc61",
   "metadata": {},
   "outputs": [],
   "source": [
    "molsys = msm.build.build_peptide(seq)"
   ]
  },
  {
   "cell_type": "code",
   "execution_count": 5,
   "id": "54a38581-4655-4bdc-8372-3fcae9353749",
   "metadata": {},
   "outputs": [],
   "source": [
    "n_atoms_before = msm.get(molsys, element='system', n_atoms=True)"
   ]
  },
  {
   "cell_type": "code",
   "execution_count": 6,
   "id": "c0c01b09-9303-4b44-8307-8e29c946f143",
   "metadata": {},
   "outputs": [],
   "source": [
    "groups_before = msm.get(molsys, element='group', name=True)"
   ]
  },
  {
   "cell_type": "code",
   "execution_count": 7,
   "id": "3de6e154-1b96-4e57-abe0-111d14c63eee",
   "metadata": {},
   "outputs": [],
   "source": [
    "molsys = msm.build.add_missing_terminal_cappings(molsys, N_terminal=None, C_terminal=None)"
   ]
  },
  {
   "cell_type": "code",
   "execution_count": null,
   "id": "887b75ca-0129-46ce-a170-21ea5f4b8e06",
   "metadata": {},
   "outputs": [],
   "source": [
    "    seq = 'AlaValPro'\n",
    "    molsys = msm.build.build_peptide(seq)\n",
    "    n_atoms_before = msm.get(molsys, element='system', n_atoms=True)\n",
    "    groups_before = msm.get(molsys, element='group', name=True)\n",
    "    molsys = msm.build.add_missing_terminal_cappings(molsys, N_terminal=None, C_terminal=None)\n",
    "    n_atoms_after = msm.get(molsys, element='system', n_atoms=True)\n",
    "    groups_after = msm.get(molsys, element='group', name=True)\n",
    "    #charge_groups = msm.physchem.charge([molsys, {'forcefield':'AMBER14'}], element='group')\n",
    "    check_before = (n_atoms_before==40 and np.all(np.array(['ALA', 'VAL', 'PRO'], dtype=object)==groups_before))\n",
    "    check_after = (n_atoms_after==43 and np.all(np.array(['ALA', 'VAL', 'PRO'], dtype=object)==groups_after))\n",
    "    #check_charges = np.allclose([1.0, 0.0, -1.0], msm.pyunitwizard.get_value(charge_groups))\n",
    "    assert check_before and check_after\n"
   ]
  }
 ],
 "metadata": {
  "kernelspec": {
   "display_name": "Python 3 (ipykernel)",
   "language": "python",
   "name": "python3"
  },
  "language_info": {
   "codemirror_mode": {
    "name": "ipython",
    "version": 3
   },
   "file_extension": ".py",
   "mimetype": "text/x-python",
   "name": "python",
   "nbconvert_exporter": "python",
   "pygments_lexer": "ipython3",
   "version": "3.10.11"
  }
 },
 "nbformat": 4,
 "nbformat_minor": 5
}
