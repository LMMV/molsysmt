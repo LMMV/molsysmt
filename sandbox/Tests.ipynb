{
 "cells": [
  {
   "cell_type": "code",
   "execution_count": 1,
   "id": "77e6c021-6745-44dd-907e-6658f5b3820b",
   "metadata": {},
   "outputs": [],
   "source": [
    "%load_ext autoreload\n",
    "%autoreload 2"
   ]
  },
  {
   "cell_type": "markdown",
   "id": "36347de3-e9be-4e7e-a57c-75b89cb03bee",
   "metadata": {},
   "source": [
    "# Making systems"
   ]
  },
  {
   "cell_type": "code",
   "execution_count": 2,
   "id": "b4d434cd-f1c4-4b01-8d69-a7b4af5b0cd5",
   "metadata": {},
   "outputs": [
    {
     "data": {
      "application/vnd.jupyter.widget-view+json": {
       "model_id": "410191d20dd240878be5fcd9fb95b907",
       "version_major": 2,
       "version_minor": 0
      },
      "text/plain": []
     },
     "metadata": {},
     "output_type": "display_data"
    }
   ],
   "source": [
    "import molsysmt as msm"
   ]
  },
  {
   "cell_type": "code",
   "execution_count": 3,
   "id": "3f426a92-9fc6-4c1f-a987-cfc0e4792b99",
   "metadata": {},
   "outputs": [],
   "source": [
    "from molsysmt import systems\n",
    "import numpy as np"
   ]
  },
  {
   "cell_type": "code",
   "execution_count": 4,
   "id": "020376b7-c10e-4ef8-8b2a-fd04c900e938",
   "metadata": {},
   "outputs": [],
   "source": [
    "molsys = msm.convert(systems['TcTIM']['1tcd.h5msm'], to_form='molsysmt.MolSys')"
   ]
  },
  {
   "cell_type": "code",
   "execution_count": 5,
   "id": "1fc79724-d236-45f6-a2e7-838a87c522c1",
   "metadata": {},
   "outputs": [],
   "source": [
    "view = msm.convert(molsys, to_form='nglview.NGLWidget')"
   ]
  },
  {
   "cell_type": "code",
   "execution_count": 6,
   "id": "ea9c7b59-f1a2-4f46-8aa2-2c29aeba6c8c",
   "metadata": {},
   "outputs": [],
   "source": [
    "molecular_system = molsys"
   ]
  },
  {
   "cell_type": "code",
   "execution_count": 7,
   "id": "8fdd18d1-f7c7-4279-88cb-4035457fb4c7",
   "metadata": {},
   "outputs": [],
   "source": [
    "n_atoms = msm.get(molecular_system, n_atoms=True)\n",
    "atoms_water = msm.select(molecular_system, selection='group_type==\"water\"')\n",
    "atoms_not_water = msm._private.atom_indices.complementary_atom_indices(molecular_system, atoms_water)\n",
    "heavy_atoms_not_water = msm.select(molecular_system, selection='atom_type!=\"H\"', mask=atoms_not_water)\n",
    "h_atoms_not_water = [ii for ii in atoms_not_water if ii not in heavy_atoms_not_water] "
   ]
  },
  {
   "cell_type": "code",
   "execution_count": 12,
   "id": "c348d54a-0d07-4cba-a488-c7472cfeadfd",
   "metadata": {},
   "outputs": [
    {
     "ename": "ArgumentError",
     "evalue": "Error in molsysmt.structure.get_contacts.get_contacts due to the output_type argument with value pairs.Check  for more information. If you still need help, open a new issue in https://github.com/uibcdf/MolSysMT/issues.",
     "output_type": "error",
     "traceback": [
      "\u001b[0;31m---------------------------------------------------------------------------\u001b[0m",
      "\u001b[0;31mArgumentError\u001b[0m                             Traceback (most recent call last)",
      "File \u001b[0;32m<timed exec>:1\u001b[0m\n",
      "File \u001b[0;32m~/repos@uibcdf/MolSysMT/molsysmt/_private/digestion/digest.py:109\u001b[0m, in \u001b[0;36mdigest.<locals>.digestor.<locals>.wrapper\u001b[0;34m(*args, **kwargs)\u001b[0m\n\u001b[1;32m    105\u001b[0m     \u001b[38;5;28;01mpass\u001b[39;00m\n\u001b[1;32m    108\u001b[0m \u001b[38;5;28;01mfor\u001b[39;00m arg_name \u001b[38;5;129;01min\u001b[39;00m all_args:\n\u001b[0;32m--> 109\u001b[0m     \u001b[43mgut\u001b[49m\u001b[43m(\u001b[49m\u001b[43marg_name\u001b[49m\u001b[43m)\u001b[49m\n\u001b[1;32m    112\u001b[0m \u001b[38;5;28;01mfor\u001b[39;00m arg_name \u001b[38;5;129;01min\u001b[39;00m not_digested_args:\n\u001b[1;32m    113\u001b[0m     \u001b[38;5;28;01mif\u001b[39;00m arg_name \u001b[38;5;129;01mnot\u001b[39;00m \u001b[38;5;129;01min\u001b[39;00m [\u001b[38;5;124m'\u001b[39m\u001b[38;5;124mself\u001b[39m\u001b[38;5;124m'\u001b[39m]:\n",
      "File \u001b[0;32m~/repos@uibcdf/MolSysMT/molsysmt/_private/digestion/digest.py:100\u001b[0m, in \u001b[0;36mdigest.<locals>.digestor.<locals>.wrapper.<locals>.gut\u001b[0;34m(arg_name)\u001b[0m\n\u001b[1;32m     98\u001b[0m         \u001b[38;5;28;01melse\u001b[39;00m:\n\u001b[1;32m     99\u001b[0m             parameters_dict[parameter] \u001b[38;5;241m=\u001b[39m \u001b[38;5;28;01mNone\u001b[39;00m\n\u001b[0;32m--> 100\u001b[0m     digested_args[arg_name] \u001b[38;5;241m=\u001b[39m \u001b[43mdigestion_functions\u001b[49m\u001b[43m[\u001b[49m\u001b[43marg_name\u001b[49m\u001b[43m]\u001b[49m\u001b[43m(\u001b[49m\u001b[43mall_args\u001b[49m\u001b[43m[\u001b[49m\u001b[43marg_name\u001b[49m\u001b[43m]\u001b[49m\u001b[43m,\u001b[49m\n\u001b[1;32m    101\u001b[0m \u001b[43m                                                  \u001b[49m\u001b[43mcaller\u001b[49m\u001b[38;5;241;43m=\u001b[39;49m\u001b[43mcaller\u001b[49m\u001b[43m,\u001b[49m\n\u001b[1;32m    102\u001b[0m \u001b[43m                                                  \u001b[49m\u001b[38;5;241;43m*\u001b[39;49m\u001b[38;5;241;43m*\u001b[39;49m\u001b[43mparameters_dict\u001b[49m\u001b[43m)\u001b[49m\n\u001b[1;32m    103\u001b[0m \u001b[38;5;28;01melse\u001b[39;00m:\n\u001b[1;32m    104\u001b[0m     not_digested_args[arg_name] \u001b[38;5;241m=\u001b[39m all_args[arg_name]\n",
      "File \u001b[0;32m~/repos@uibcdf/MolSysMT/molsysmt/_private/digestion/argument/output_type.py:60\u001b[0m, in \u001b[0;36mdigest_output_type\u001b[0;34m(output_type, caller)\u001b[0m\n\u001b[1;32m     57\u001b[0m         \u001b[38;5;28;01mif\u001b[39;00m output_type\u001b[38;5;241m.\u001b[39mlower() \u001b[38;5;129;01min\u001b[39;00m [\u001b[38;5;124m'\u001b[39m\u001b[38;5;124mnumpy.ndarray\u001b[39m\u001b[38;5;124m'\u001b[39m, \u001b[38;5;124m'\u001b[39m\u001b[38;5;124mdictionary\u001b[39m\u001b[38;5;124m'\u001b[39m]:\n\u001b[1;32m     58\u001b[0m             \u001b[38;5;28;01mreturn\u001b[39;00m output_type\u001b[38;5;241m.\u001b[39mlower()\n\u001b[0;32m---> 60\u001b[0m \u001b[38;5;28;01mraise\u001b[39;00m ArgumentError(\u001b[38;5;124m'\u001b[39m\u001b[38;5;124moutput_type\u001b[39m\u001b[38;5;124m'\u001b[39m, value\u001b[38;5;241m=\u001b[39moutput_type, caller\u001b[38;5;241m=\u001b[39mcaller, message\u001b[38;5;241m=\u001b[39m\u001b[38;5;28;01mNone\u001b[39;00m)\n",
      "\u001b[0;31mArgumentError\u001b[0m: Error in molsysmt.structure.get_contacts.get_contacts due to the output_type argument with value pairs.Check  for more information. If you still need help, open a new issue in https://github.com/uibcdf/MolSysMT/issues."
     ]
    }
   ],
   "source": [
    "%%time\n",
    "aa = msm.structure.get_contacts(molecular_system, threshold='2 angstroms', selection=heavy_atoms_not_water, pbc=True,\n",
    "                           output_type='pairs', output_indices='atom_index', skip_digestion=False)"
   ]
  },
  {
   "cell_type": "code",
   "execution_count": 11,
   "id": "b66520e4-9c08-4808-825e-c24c2e9fc3dc",
   "metadata": {},
   "outputs": [
    {
     "data": {
      "text/plain": [
       "[0, 1]"
      ]
     },
     "execution_count": 11,
     "metadata": {},
     "output_type": "execute_result"
    }
   ],
   "source": []
  },
  {
   "cell_type": "code",
   "execution_count": null,
   "id": "c1fa6850-48a1-4fae-8b2b-d4e8d298f714",
   "metadata": {},
   "outputs": [],
   "source": [
    "msm.build.get_missing_bonds(view)"
   ]
  },
  {
   "cell_type": "code",
   "execution_count": null,
   "id": "7c34909f-e82f-41be-9a1a-a913143f7dba",
   "metadata": {},
   "outputs": [],
   "source": [
    "msm.get(view, n_bonds=True)"
   ]
  },
  {
   "cell_type": "code",
   "execution_count": null,
   "id": "60e2fdc5-6743-4733-aea7-8912685f8c68",
   "metadata": {},
   "outputs": [],
   "source": [
    "msm.get(molsys, n_bonds=True)"
   ]
  },
  {
   "cell_type": "code",
   "execution_count": null,
   "id": "b21c0d6d-56ed-4b24-b822-c9affa319316",
   "metadata": {},
   "outputs": [],
   "source": [
    "molsys.topology.components"
   ]
  },
  {
   "cell_type": "code",
   "execution_count": null,
   "id": "3d84aabd-c118-4b56-a699-a60f7b661706",
   "metadata": {},
   "outputs": [],
   "source": [
    "output = msm.compare(molsys, view, attribute_type='topological', rule='equal', output_type='dictionary')"
   ]
  },
  {
   "cell_type": "code",
   "execution_count": null,
   "id": "d4fb0697-d2e8-4710-a2a7-a8d8647f7f03",
   "metadata": {},
   "outputs": [],
   "source": [
    "output"
   ]
  },
  {
   "cell_type": "code",
   "execution_count": null,
   "id": "666242b2-f2ed-4790-a806-9d33042eb570",
   "metadata": {},
   "outputs": [],
   "source": [
    "aa = [0,1,0,2,3]"
   ]
  },
  {
   "cell_type": "code",
   "execution_count": null,
   "id": "2e331400-256b-468a-b527-427f045cfabd",
   "metadata": {},
   "outputs": [],
   "source": [
    "aa=np.array(aa)"
   ]
  },
  {
   "cell_type": "code",
   "execution_count": null,
   "id": "a86544c8-d676-4ac7-90d0-6ffa1db25360",
   "metadata": {},
   "outputs": [],
   "source": [
    "bb=[[[0,3,4],[1,2,3]]]"
   ]
  },
  {
   "cell_type": "code",
   "execution_count": null,
   "id": "033c5343-ebce-449d-b317-0edd359c26fd",
   "metadata": {},
   "outputs": [],
   "source": [
    "bb[0][:,1]"
   ]
  },
  {
   "cell_type": "code",
   "execution_count": null,
   "id": "bb376390-1cd7-45ab-8e29-a039ef0a09dd",
   "metadata": {},
   "outputs": [],
   "source": []
  }
 ],
 "metadata": {
  "kernelspec": {
   "display_name": "Python 3 (ipykernel)",
   "language": "python",
   "name": "python3"
  },
  "language_info": {
   "codemirror_mode": {
    "name": "ipython",
    "version": 3
   },
   "file_extension": ".py",
   "mimetype": "text/x-python",
   "name": "python",
   "nbconvert_exporter": "python",
   "pygments_lexer": "ipython3",
   "version": "3.10.14"
  }
 },
 "nbformat": 4,
 "nbformat_minor": 5
}
