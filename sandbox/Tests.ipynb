{
 "cells": [
  {
   "cell_type": "markdown",
   "id": "c2f52c6d-731a-4ca3-b14b-0f83beafe76c",
   "metadata": {},
   "source": [
    "# Testing basic tools in documentation\n",
    "\n",
    "\n",
    "[x] Add    \n",
    "[x] Get\n"
   ]
  },
  {
   "cell_type": "code",
   "execution_count": 1,
   "id": "89627ab5-532e-4815-ac94-3c3295fb685c",
   "metadata": {},
   "outputs": [
    {
     "data": {
      "application/vnd.jupyter.widget-view+json": {
       "model_id": "a4e8fb7ba002470d881083ff62b26554",
       "version_major": 2,
       "version_minor": 0
      },
      "text/plain": []
     },
     "metadata": {},
     "output_type": "display_data"
    }
   ],
   "source": [
    "import molsysmt as msm"
   ]
  },
  {
   "cell_type": "code",
   "execution_count": 2,
   "id": "4cdc4f01-cba8-494c-b029-e3cb4e801786",
   "metadata": {},
   "outputs": [],
   "source": [
    "molsys = msm.convert('1TCD')"
   ]
  },
  {
   "cell_type": "code",
   "execution_count": 3,
   "id": "b02a20f2-e896-4f69-9075-fc92642fafb0",
   "metadata": {},
   "outputs": [
    {
     "name": "stdout",
     "output_type": "stream",
     "text": [
      "CPU times: user 51.9 s, sys: 381 ms, total: 52.3 s\n",
      "Wall time: 52.4 s\n"
     ]
    }
   ],
   "source": [
    "%%time\n",
    "sel1 = msm.select(molsys, 'all in groups of all in components of all')"
   ]
  },
  {
   "cell_type": "code",
   "execution_count": null,
   "id": "d2ef1e2d-a120-4ed1-82f5-c18c1a4aa30b",
   "metadata": {},
   "outputs": [],
   "source": [
    "sel2 = msm.select(molsys, 'all in groups of all in components')"
   ]
  },
  {
   "cell_type": "code",
   "execution_count": null,
   "id": "f3513c99-3b57-452b-b57d-a01b30e692bb",
   "metadata": {},
   "outputs": [],
   "source": [
    "sel2"
   ]
  },
  {
   "cell_type": "code",
   "execution_count": null,
   "id": "5ab33dbf-a8b9-427a-969e-56bacc8a72a2",
   "metadata": {},
   "outputs": [],
   "source": [
    "sel1 = msm.select(molecular_system, 'all in groups of all in components of all')\n",
    "sel2 = msm.select(molecular_system, 'all in groups of all in components')\n",
    "sel3 = msm.select(molecular_system, 'all in groups in components of all')\n",
    "sel4 = msm.select(molecular_system, 'all in groups in components')\n",
    "sel5 = msm.select(molecular_system, 'in groups in components')"
   ]
  }
 ],
 "metadata": {
  "kernelspec": {
   "display_name": "Python 3 (ipykernel)",
   "language": "python",
   "name": "python3"
  },
  "language_info": {
   "codemirror_mode": {
    "name": "ipython",
    "version": 3
   },
   "file_extension": ".py",
   "mimetype": "text/x-python",
   "name": "python",
   "nbconvert_exporter": "python",
   "pygments_lexer": "ipython3",
   "version": "3.10.14"
  }
 },
 "nbformat": 4,
 "nbformat_minor": 5
}
