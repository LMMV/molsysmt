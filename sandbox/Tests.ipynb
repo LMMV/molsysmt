{
 "cells": [
  {
   "cell_type": "code",
   "execution_count": 1,
   "id": "77e6c021-6745-44dd-907e-6658f5b3820b",
   "metadata": {},
   "outputs": [],
   "source": [
    "%load_ext autoreload\n",
    "%autoreload 2"
   ]
  },
  {
   "cell_type": "markdown",
   "id": "36347de3-e9be-4e7e-a57c-75b89cb03bee",
   "metadata": {},
   "source": [
    "# Making systems"
   ]
  },
  {
   "cell_type": "code",
   "execution_count": 2,
   "id": "b4d434cd-f1c4-4b01-8d69-a7b4af5b0cd5",
   "metadata": {},
   "outputs": [
    {
     "data": {
      "application/vnd.jupyter.widget-view+json": {
       "model_id": "ee91a13b16be4b1b84d6f8951102a2c7",
       "version_major": 2,
       "version_minor": 0
      },
      "text/plain": []
     },
     "metadata": {},
     "output_type": "display_data"
    }
   ],
   "source": [
    "import molsysmt as msm"
   ]
  },
  {
   "cell_type": "code",
   "execution_count": 3,
   "id": "3f426a92-9fc6-4c1f-a987-cfc0e4792b99",
   "metadata": {},
   "outputs": [],
   "source": [
    "from molsysmt import systems\n",
    "import numpy as np"
   ]
  },
  {
   "cell_type": "code",
   "execution_count": 4,
   "id": "effbea99-d147-4c87-96bd-894cd565a116",
   "metadata": {},
   "outputs": [],
   "source": [
    "molsys = systems['T4 lysozyme L99A']['t4_lysozyme_L99A.h5msm']"
   ]
  },
  {
   "cell_type": "code",
   "execution_count": 5,
   "id": "aa0a59f4-725f-4d2e-b6d8-4f0a32e32726",
   "metadata": {},
   "outputs": [],
   "source": [
    "molsys = msm.convert(molsys, to_form='molsysmt.MolSys')"
   ]
  },
  {
   "cell_type": "code",
   "execution_count": 6,
   "id": "b0c4ea1d-d076-42e1-8259-5c22d52bf775",
   "metadata": {},
   "outputs": [
    {
     "data": {
      "text/plain": [
       "2645"
      ]
     },
     "execution_count": 6,
     "metadata": {},
     "output_type": "execute_result"
    }
   ],
   "source": [
    "msm.get(molsys, n_bonds=True)"
   ]
  },
  {
   "cell_type": "code",
   "execution_count": 7,
   "id": "9dc3125c-8c88-458a-839d-8e1fb5f08a94",
   "metadata": {},
   "outputs": [],
   "source": [
    "msm.build.remove_bonds(molsys)"
   ]
  },
  {
   "cell_type": "code",
   "execution_count": 8,
   "id": "2bfbe476-e055-4ba0-aaf4-7acefa3af748",
   "metadata": {},
   "outputs": [
    {
     "name": "stdout",
     "output_type": "stream",
     "text": [
      "CPU times: user 2.34 s, sys: 47.4 ms, total: 2.38 s\n",
      "Wall time: 2.38 s\n"
     ]
    }
   ],
   "source": [
    "%%time\n",
    "msm.build.add_missing_bonds(molsys)"
   ]
  },
  {
   "cell_type": "code",
   "execution_count": 9,
   "id": "333c0b7f-ff87-458f-8b17-3b39f3416b44",
   "metadata": {},
   "outputs": [
    {
     "data": {
      "text/plain": [
       "2645"
      ]
     },
     "execution_count": 9,
     "metadata": {},
     "output_type": "execute_result"
    }
   ],
   "source": [
    "msm.get(molsys, n_bonds=True)"
   ]
  },
  {
   "cell_type": "code",
   "execution_count": null,
   "id": "85eb504d-6b8c-49dd-b907-2badaffb61a9",
   "metadata": {},
   "outputs": [],
   "source": [
    "len(bb)"
   ]
  },
  {
   "cell_type": "code",
   "execution_count": null,
   "id": "5fda783f-e0d0-42f4-8d1e-b09173303e04",
   "metadata": {},
   "outputs": [],
   "source": [
    "msm.info(molsys_ref, element='atom', selection=[0,1,2,3,4,5,6,7,8,9])"
   ]
  },
  {
   "cell_type": "code",
   "execution_count": null,
   "id": "947878fd-4868-4ead-8e87-6b416c1803be",
   "metadata": {},
   "outputs": [],
   "source": [
    "for ii in aa:\n",
    "    if ii not in bb:\n",
    "        print(ii)"
   ]
  },
  {
   "cell_type": "code",
   "execution_count": null,
   "id": "60db1fdc-7ed5-4f3a-9da5-984952bb8a65",
   "metadata": {},
   "outputs": [],
   "source": [
    "molsys = msm.convert(molsys, to_form='nglview.NGLWidget')"
   ]
  },
  {
   "cell_type": "code",
   "execution_count": null,
   "id": "0a5d8789-a163-444d-a08c-7f04cc82e44e",
   "metadata": {},
   "outputs": [],
   "source": [
    "n_molecules_ref, n_structures_ref = msm.get(molsys_ref, element='system', n_molecules=True, n_structures=True)"
   ]
  },
  {
   "cell_type": "code",
   "execution_count": null,
   "id": "cdc1cceb-f9d2-4826-a80d-677a799eb0be",
   "metadata": {},
   "outputs": [],
   "source": [
    "msm.convert(molsys, to_form='molsysmt.Topology', get_missing_bonds=True)"
   ]
  },
  {
   "cell_type": "code",
   "execution_count": null,
   "id": "6db05926-2da0-408e-a18e-3a7c9a24cf6a",
   "metadata": {},
   "outputs": [],
   "source": [
    "msm.get(molsys, element='system', n_molecules=True)"
   ]
  },
  {
   "cell_type": "code",
   "execution_count": null,
   "id": "6edaa896-669c-4926-adaf-804cc59518da",
   "metadata": {},
   "outputs": [],
   "source": [
    "n_molecules, n_structures = msm.get(molsys, element='system', n_molecules=True, n_structures=True)"
   ]
  },
  {
   "cell_type": "code",
   "execution_count": null,
   "id": "0a294fc7-05e2-4a73-b6e7-b4cfd181a4bb",
   "metadata": {},
   "outputs": [],
   "source": [
    "if []:\n",
    "    print('si')"
   ]
  },
  {
   "cell_type": "code",
   "execution_count": null,
   "id": "8343990e-0e26-4afe-b110-78d915015a51",
   "metadata": {},
   "outputs": [],
   "source": []
  }
 ],
 "metadata": {
  "kernelspec": {
   "display_name": "Python 3 (ipykernel)",
   "language": "python",
   "name": "python3"
  },
  "language_info": {
   "codemirror_mode": {
    "name": "ipython",
    "version": 3
   },
   "file_extension": ".py",
   "mimetype": "text/x-python",
   "name": "python",
   "nbconvert_exporter": "python",
   "pygments_lexer": "ipython3",
   "version": "3.10.14"
  }
 },
 "nbformat": 4,
 "nbformat_minor": 5
}
