{
 "cells": [
  {
   "cell_type": "markdown",
   "id": "c2f52c6d-731a-4ca3-b14b-0f83beafe76c",
   "metadata": {},
   "source": [
    "# Tests\n",
    "\n"
   ]
  },
  {
   "cell_type": "code",
   "execution_count": 1,
   "id": "1f40cd08-c65b-4252-bd33-013ee3d34f68",
   "metadata": {},
   "outputs": [
    {
     "data": {
      "application/vnd.jupyter.widget-view+json": {
       "model_id": "0619b99e074e46f8a04fb6a7dab35a3e",
       "version_major": 2,
       "version_minor": 0
      },
      "text/plain": []
     },
     "metadata": {},
     "output_type": "display_data"
    }
   ],
   "source": [
    "from openmm import app\n",
    "from openmm import *\n",
    "from openmm import unit as u\n",
    "import molsysmt as msm\n",
    "from sys import stdout"
   ]
  },
  {
   "cell_type": "code",
   "execution_count": 2,
   "id": "9ad5a98b-4549-41cf-bf96-975de0523b97",
   "metadata": {},
   "outputs": [],
   "source": [
    "pdb = app.PDBFile('V5.pdb')"
   ]
  },
  {
   "cell_type": "code",
   "execution_count": 3,
   "id": "988e1738-da74-4fc2-8dc1-e0c4c290d13f",
   "metadata": {},
   "outputs": [],
   "source": [
    "modeller = app.Modeller(pdb.topology, pdb.positions)"
   ]
  },
  {
   "cell_type": "code",
   "execution_count": 4,
   "id": "12e927f6-6450-4c4a-81c1-55e79288b398",
   "metadata": {},
   "outputs": [],
   "source": [
    "forcefield = app.ForceField(\"amber14-all.xml\", \"amber14/tip3p.xml\")"
   ]
  },
  {
   "cell_type": "code",
   "execution_count": 5,
   "id": "8e2fb113-efb1-4766-b312-dac76a767d8a",
   "metadata": {},
   "outputs": [],
   "source": [
    "modeller.addSolvent(forcefield, model='tip3p', padding=1.4*u.nanometers, boxShape='cube')"
   ]
  },
  {
   "cell_type": "code",
   "execution_count": 6,
   "id": "ebf4eea3-0855-4897-a99f-6343342faba2",
   "metadata": {},
   "outputs": [],
   "source": [
    "aa = list(modeller.topology.atoms())"
   ]
  },
  {
   "cell_type": "code",
   "execution_count": 11,
   "id": "c86fa1f8-cb3d-434f-bcdf-704c7283b568",
   "metadata": {},
   "outputs": [
    {
     "ename": "AttributeError",
     "evalue": "property 'symbol' of 'Element' object has no setter",
     "output_type": "error",
     "traceback": [
      "\u001b[0;31m---------------------------------------------------------------------------\u001b[0m",
      "\u001b[0;31mAttributeError\u001b[0m                            Traceback (most recent call last)",
      "Cell \u001b[0;32mIn[11], line 1\u001b[0m\n\u001b[0;32m----> 1\u001b[0m \u001b[43maa\u001b[49m\u001b[43m[\u001b[49m\u001b[38;5;241;43m-\u001b[39;49m\u001b[38;5;241;43m1\u001b[39;49m\u001b[43m]\u001b[49m\u001b[38;5;241;43m.\u001b[39;49m\u001b[43melement\u001b[49m\u001b[38;5;241;43m.\u001b[39;49m\u001b[43msymbol\u001b[49m\u001b[38;5;241m=\u001b[39m\u001b[38;5;124m'\u001b[39m\u001b[38;5;124mCL\u001b[39m\u001b[38;5;124m'\u001b[39m\n",
      "\u001b[0;31mAttributeError\u001b[0m: property 'symbol' of 'Element' object has no setter"
     ]
    }
   ],
   "source": [
    "aa[-1].element.symbol='CL'"
   ]
  },
  {
   "cell_type": "code",
   "execution_count": null,
   "id": "c33deeab-1265-4ea2-9443-946d91814064",
   "metadata": {},
   "outputs": [],
   "source": [
    "app.PDBFile.writeFile(modeller.topology, modeller.positions, file=\"V5_solvated.pdb\")"
   ]
  },
  {
   "cell_type": "code",
   "execution_count": null,
   "id": "897596e5-8f57-436e-8e4a-131545a37db6",
   "metadata": {},
   "outputs": [],
   "source": [
    "msm.view(modeller, standard=True, with_water_as='licorice', with_ions_as='balls')"
   ]
  },
  {
   "cell_type": "code",
   "execution_count": null,
   "id": "1f1211f1-9065-466f-93e6-008575fb6bc0",
   "metadata": {},
   "outputs": [],
   "source": [
    "msm.info(modeller)"
   ]
  },
  {
   "cell_type": "code",
   "execution_count": null,
   "id": "db7fd8f0-2769-41dc-9d2e-ac72afe48a97",
   "metadata": {},
   "outputs": [],
   "source": [
    "system = forcefield.createSystem(modeller.topology, nonbondedMethod=app.PME, nonbondedCutoff=1.2*u.nanometer, constraints=app.HBonds)"
   ]
  },
  {
   "cell_type": "code",
   "execution_count": null,
   "id": "62ce2c8c-d38d-4973-984e-10c317a18b0b",
   "metadata": {},
   "outputs": [],
   "source": [
    "friction = 1 / u.picosecond\n",
    "timestep = 2 * u.femtoseconds\n",
    "temperature = 500 * u.kelvin\n",
    "integrator = LangevinIntegrator(temperature, friction, timestep)"
   ]
  },
  {
   "cell_type": "code",
   "execution_count": null,
   "id": "6d258d16-0c94-4e06-bf66-8263ba13ee78",
   "metadata": {},
   "outputs": [],
   "source": [
    "platform = Platform.getPlatformByName(\"CUDA\")  # Usa \"CPU\" si no tienes GPU"
   ]
  },
  {
   "cell_type": "code",
   "execution_count": null,
   "id": "0aff61fa-da0a-4678-8f56-bde71e1fa2ea",
   "metadata": {},
   "outputs": [],
   "source": [
    "simulation = app.Simulation(modeller.topology, system, integrator, platform)"
   ]
  },
  {
   "cell_type": "code",
   "execution_count": null,
   "id": "cface5cf-a7fa-4df4-91da-fdc3e11d6fd2",
   "metadata": {},
   "outputs": [],
   "source": [
    "simulation.context.setPositions(modeller.positions)"
   ]
  },
  {
   "cell_type": "code",
   "execution_count": null,
   "id": "de4b19ec-35ac-47d3-898b-6f909dfa817d",
   "metadata": {},
   "outputs": [],
   "source": [
    "simulation.minimizeEnergy()"
   ]
  },
  {
   "cell_type": "code",
   "execution_count": null,
   "id": "3ea1a731-ef78-4daa-be9f-9ef91a701762",
   "metadata": {},
   "outputs": [],
   "source": [
    "reporter1 = app.DCDReporter('traj.dcd', 2000)\n",
    "reporter2 = app.StateDataReporter(stdout, 10000, step=True, potentialEnergy=True, temperature=True)"
   ]
  },
  {
   "cell_type": "code",
   "execution_count": null,
   "id": "386fd3bd-b22f-428d-8bb8-c106b58cfcdc",
   "metadata": {},
   "outputs": [],
   "source": [
    "simulation.reporters = [reporter1, reporter2]"
   ]
  },
  {
   "cell_type": "code",
   "execution_count": null,
   "id": "3343a7f6-739e-4690-81b1-1a3861944051",
   "metadata": {},
   "outputs": [],
   "source": [
    "simulation.step(50000)"
   ]
  },
  {
   "cell_type": "code",
   "execution_count": null,
   "id": "82d070fd-5922-4989-ae19-bcea3fca0974",
   "metadata": {},
   "outputs": [],
   "source": [
    "molsys = msm.convert(['V5_solvated.pdb','traj.dcd'])"
   ]
  },
  {
   "cell_type": "code",
   "execution_count": null,
   "id": "6fab4260-b78c-4fd5-a61d-f928037bfcaf",
   "metadata": {},
   "outputs": [],
   "source": [
    "msm.info(molsys)"
   ]
  },
  {
   "cell_type": "code",
   "execution_count": null,
   "id": "3e626d48-d01f-4284-9b64-9a393db977a4",
   "metadata": {},
   "outputs": [],
   "source": [
    "msm.view(molsys, standard=True)"
   ]
  },
  {
   "cell_type": "code",
   "execution_count": null,
   "id": "d8593a28-3501-4a87-8650-42187e9a278c",
   "metadata": {},
   "outputs": [],
   "source": []
  },
  {
   "cell_type": "code",
   "execution_count": null,
   "id": "189e9904-d8ca-4f25-86e6-c22b8b4b906d",
   "metadata": {},
   "outputs": [],
   "source": [
    "msm.element.entity.get_entity_index(pdb.topology, element='atom', selection='all', redefine_molecules=True,\n",
    "                                    redefine_indices=True, skip_digestion=True)"
   ]
  },
  {
   "cell_type": "code",
   "execution_count": null,
   "id": "0605093c-a56b-4aa1-8a68-e82741f92e6d",
   "metadata": {},
   "outputs": [],
   "source": [
    "msm.get(pdb.topology, element='atom', entity_index=True)"
   ]
  },
  {
   "cell_type": "code",
   "execution_count": null,
   "id": "2d623284-58f8-466e-a6c3-8f861d1b3195",
   "metadata": {},
   "outputs": [],
   "source": [
    "msm.info(pdb.topology)"
   ]
  },
  {
   "cell_type": "code",
   "execution_count": null,
   "id": "0102bbb3-cb2c-4f53-a0d5-32ac2395afc4",
   "metadata": {},
   "outputs": [],
   "source": []
  }
 ],
 "metadata": {
  "kernelspec": {
   "display_name": "Python 3 (ipykernel)",
   "language": "python",
   "name": "python3"
  },
  "language_info": {
   "codemirror_mode": {
    "name": "ipython",
    "version": 3
   },
   "file_extension": ".py",
   "mimetype": "text/x-python",
   "name": "python",
   "nbconvert_exporter": "python",
   "pygments_lexer": "ipython3",
   "version": "3.11.10"
  }
 },
 "nbformat": 4,
 "nbformat_minor": 5
}
