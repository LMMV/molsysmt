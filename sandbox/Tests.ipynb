{
 "cells": [
  {
   "cell_type": "markdown",
   "id": "c2f52c6d-731a-4ca3-b14b-0f83beafe76c",
   "metadata": {},
   "source": [
    "# Tests\n",
    "\n"
   ]
  },
  {
   "cell_type": "code",
   "execution_count": 1,
   "id": "89627ab5-532e-4815-ac94-3c3295fb685c",
   "metadata": {},
   "outputs": [
    {
     "data": {
      "application/vnd.jupyter.widget-view+json": {
       "model_id": "48a31e76db0a4b61b2eb70c441b239af",
       "version_major": 2,
       "version_minor": 0
      },
      "text/plain": []
     },
     "metadata": {},
     "output_type": "display_data"
    }
   ],
   "source": [
    "import molsysmt as msm"
   ]
  },
  {
   "cell_type": "code",
   "execution_count": 10,
   "id": "0e199614-dae1-4654-9144-fc343bca8f35",
   "metadata": {},
   "outputs": [],
   "source": [
    "molsys = msm.convert(msm.systems['chicken villin HP35']['chicken_villin_HP35_solvated.h5msm'])"
   ]
  },
  {
   "cell_type": "code",
   "execution_count": 11,
   "id": "a211cb38-8e95-4c68-8dc3-9031804953eb",
   "metadata": {},
   "outputs": [
    {
     "data": {
      "text/plain": [
       "1236"
      ]
     },
     "execution_count": 11,
     "metadata": {},
     "output_type": "execute_result"
    }
   ],
   "source": [
    "msm.element.component.get_n_components(molsys, selection='all', redefine_components=False)"
   ]
  },
  {
   "cell_type": "code",
   "execution_count": 12,
   "id": "1968e865-1cdb-422a-bd3a-d483b2894bb5",
   "metadata": {},
   "outputs": [
    {
     "data": {
      "text/plain": [
       "1236"
      ]
     },
     "execution_count": 12,
     "metadata": {},
     "output_type": "execute_result"
    }
   ],
   "source": [
    "msm.element.component.get_n_components(molsys, selection='all', redefine_components=True)"
   ]
  },
  {
   "cell_type": "code",
   "execution_count": null,
   "id": "ced1720f-6835-4840-b8f8-168a246e68cd",
   "metadata": {},
   "outputs": [],
   "source": [
    "    molsys = msm.convert(msm.systems['chicken villin HP35']['chicken_villin_HP35_solvated.h5msm'])\n",
    "    n_components_1 = msm.element.component.get_n_components(molsys, selection='all', redefine_components=False)\n",
    "    n_components_2 = msm.element.component.get_n_components(molsys, selection='all', redefine_components=True)\n"
   ]
  }
 ],
 "metadata": {
  "kernelspec": {
   "display_name": "Python 3 (ipykernel)",
   "language": "python",
   "name": "python3"
  },
  "language_info": {
   "codemirror_mode": {
    "name": "ipython",
    "version": 3
   },
   "file_extension": ".py",
   "mimetype": "text/x-python",
   "name": "python",
   "nbconvert_exporter": "python",
   "pygments_lexer": "ipython3",
   "version": "3.11.10"
  }
 },
 "nbformat": 4,
 "nbformat_minor": 5
}
