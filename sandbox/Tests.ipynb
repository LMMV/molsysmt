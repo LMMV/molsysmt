{
 "cells": [
  {
   "cell_type": "markdown",
   "id": "c2f52c6d-731a-4ca3-b14b-0f83beafe76c",
   "metadata": {},
   "source": [
    "# Tests\n",
    "\n"
   ]
  },
  {
   "cell_type": "code",
   "execution_count": 1,
   "id": "89627ab5-532e-4815-ac94-3c3295fb685c",
   "metadata": {},
   "outputs": [
    {
     "data": {
      "application/vnd.jupyter.widget-view+json": {
       "model_id": "bb0e9bda4b2a4a9eb6e171ee76c6ea86",
       "version_major": 2,
       "version_minor": 0
      },
      "text/plain": []
     },
     "metadata": {},
     "output_type": "display_data"
    }
   ],
   "source": [
    "import molsysmt as msm\n",
    "from molsysmt import systems"
   ]
  },
  {
   "cell_type": "code",
   "execution_count": null,
   "id": "a673846b-5259-4acc-a751-9a9df5ba7a46",
   "metadata": {},
   "outputs": [],
   "source": [
    "molecular_system = msm.build.build_peptide('AlaValPro', to_form='molsysmt.MolSys')"
   ]
  },
  {
   "cell_type": "code",
   "execution_count": null,
   "id": "3cde5516-66de-4705-8539-ea9814f7ab2c",
   "metadata": {},
   "outputs": [],
   "source": [
    "temp_molecular_system = msm.convert(molecular_system, to_form='pdbfixer.PDBFixer')"
   ]
  },
  {
   "cell_type": "code",
   "execution_count": null,
   "id": "1b6627fa-c6cc-4262-a51c-ec50ed919840",
   "metadata": {},
   "outputs": [],
   "source": [
    "msm.select(temp_molecular_system, selection='component_type in [\"peptide\", \"protein\"]')"
   ]
  },
  {
   "cell_type": "code",
   "execution_count": null,
   "id": "b13310ce-2b0b-429c-a6e7-b0a53074d34c",
   "metadata": {},
   "outputs": [],
   "source": [
    "msm.get(temp_molecular_system, element='component', selection='component_type in [\"peptide\", \"protein\"]',\n",
    "                                     atom_index=True)"
   ]
  },
  {
   "cell_type": "code",
   "execution_count": null,
   "id": "a15ccef9-8872-4d86-83be-10c624e7a4d1",
   "metadata": {},
   "outputs": [],
   "source": [
    "msm.get(molecular_system, element='component', selection='component_type in [\"peptide\", \"protein\"]',\n",
    "                                     atom_index=True)"
   ]
  }
 ],
 "metadata": {
  "kernelspec": {
   "display_name": "Python 3 (ipykernel)",
   "language": "python",
   "name": "python3"
  },
  "language_info": {
   "codemirror_mode": {
    "name": "ipython",
    "version": 3
   },
   "file_extension": ".py",
   "mimetype": "text/x-python",
   "name": "python",
   "nbconvert_exporter": "python",
   "pygments_lexer": "ipython3",
   "version": "3.11.9"
  }
 },
 "nbformat": 4,
 "nbformat_minor": 5
}
