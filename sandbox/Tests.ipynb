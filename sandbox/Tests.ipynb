{
 "cells": [
  {
   "cell_type": "markdown",
   "id": "c2f52c6d-731a-4ca3-b14b-0f83beafe76c",
   "metadata": {},
   "source": [
    "# Tests\n",
    "\n"
   ]
  },
  {
   "cell_type": "code",
   "execution_count": 1,
   "id": "89627ab5-532e-4815-ac94-3c3295fb685c",
   "metadata": {},
   "outputs": [
    {
     "data": {
      "application/vnd.jupyter.widget-view+json": {
       "model_id": "856f25b97b82401b9744b7ad5797a8c3",
       "version_major": 2,
       "version_minor": 0
      },
      "text/plain": []
     },
     "metadata": {},
     "output_type": "display_data"
    }
   ],
   "source": [
    "import molsysmt as msm"
   ]
  },
  {
   "cell_type": "code",
   "execution_count": 2,
   "id": "5c41ecc4-c4a6-40e8-8693-3d899cc6e732",
   "metadata": {},
   "outputs": [],
   "source": [
    "molsys = msm.systems['chicken villin HP35']['chicken_villin_HP35_solvated.h5msm']"
   ]
  },
  {
   "cell_type": "code",
   "execution_count": null,
   "id": "67dc5e65-b576-4723-abbf-9b12530aa39b",
   "metadata": {},
   "outputs": [],
   "source": [
    "msm.view(molsys, standard=True)"
   ]
  },
  {
   "cell_type": "code",
   "execution_count": null,
   "id": "0466cc74-b60a-4931-a875-4bb52e0ba6a1",
   "metadata": {},
   "outputs": [],
   "source": []
  }
 ],
 "metadata": {
  "kernelspec": {
   "display_name": "Python 3 (ipykernel)",
   "language": "python",
   "name": "python3"
  },
  "language_info": {
   "codemirror_mode": {
    "name": "ipython",
    "version": 3
   },
   "file_extension": ".py",
   "mimetype": "text/x-python",
   "name": "python",
   "nbconvert_exporter": "python",
   "pygments_lexer": "ipython3",
   "version": "3.11.9"
  }
 },
 "nbformat": 4,
 "nbformat_minor": 5
}
