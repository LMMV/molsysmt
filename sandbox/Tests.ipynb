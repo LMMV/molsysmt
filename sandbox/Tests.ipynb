{
 "cells": [
  {
   "cell_type": "code",
   "execution_count": 1,
   "id": "77e6c021-6745-44dd-907e-6658f5b3820b",
   "metadata": {},
   "outputs": [],
   "source": [
    "%load_ext autoreload\n",
    "%autoreload 2"
   ]
  },
  {
   "cell_type": "markdown",
   "id": "36347de3-e9be-4e7e-a57c-75b89cb03bee",
   "metadata": {},
   "source": [
    "# Making systems"
   ]
  },
  {
   "cell_type": "code",
   "execution_count": 2,
   "id": "3f426a92-9fc6-4c1f-a987-cfc0e4792b99",
   "metadata": {},
   "outputs": [
    {
     "data": {
      "application/vnd.jupyter.widget-view+json": {
       "model_id": "a0e6212059344ca993fa151d60329b0c",
       "version_major": 2,
       "version_minor": 0
      },
      "text/plain": []
     },
     "metadata": {},
     "output_type": "display_data"
    }
   ],
   "source": [
    "import molsysmt as msm"
   ]
  },
  {
   "cell_type": "code",
   "execution_count": 3,
   "id": "5770402a-0076-4d55-a490-be02fc1ffe00",
   "metadata": {},
   "outputs": [],
   "source": [
    "from molsysmt import systems\n",
    "import numpy as np"
   ]
  },
  {
   "cell_type": "code",
   "execution_count": 4,
   "id": "5976ffbc-590e-4fc1-a7b9-30e11f4f17ca",
   "metadata": {},
   "outputs": [],
   "source": [
    "molsys_A = msm.convert(systems['T4 lysozyme L99A']['181l.mmtf'], to_form='openmm.Modeller')"
   ]
  },
  {
   "cell_type": "code",
   "execution_count": 5,
   "id": "825cfd0e-bce4-4af7-b33e-03f34a2f3b5d",
   "metadata": {},
   "outputs": [],
   "source": [
    "molsys_B = msm.convert(molsys_A, to_form='molsysmt.MolSys')\n"
   ]
  },
  {
   "cell_type": "code",
   "execution_count": 6,
   "id": "249b1600-e63b-4ff8-a4e4-313abecd7a31",
   "metadata": {},
   "outputs": [],
   "source": [
    "output = msm.compare(molsys_A, molsys_B, output_type='dictionary')"
   ]
  },
  {
   "cell_type": "code",
   "execution_count": 7,
   "id": "5a90cb18-6d2b-48cb-8f54-93587603c36c",
   "metadata": {},
   "outputs": [
    {
     "data": {
      "text/plain": [
       "{'atom_index': True,\n",
       " 'atom_name': True,\n",
       " 'atom_id': True,\n",
       " 'atom_type': True,\n",
       " 'group_index': True,\n",
       " 'group_name': True,\n",
       " 'group_id': True,\n",
       " 'group_type': True,\n",
       " 'component_index': True,\n",
       " 'component_type': True,\n",
       " 'chain_index': True,\n",
       " 'chain_name': False,\n",
       " 'chain_id': False,\n",
       " 'chain_type': False,\n",
       " 'molecule_index': True,\n",
       " 'molecule_type': True,\n",
       " 'bonded_atoms': True,\n",
       " 'n_atoms': True,\n",
       " 'n_groups': True,\n",
       " 'n_components': True,\n",
       " 'n_chains': True,\n",
       " 'n_molecules': True,\n",
       " 'n_bonds': True}"
      ]
     },
     "execution_count": 7,
     "metadata": {},
     "output_type": "execute_result"
    }
   ],
   "source": [
    "output"
   ]
  },
  {
   "cell_type": "code",
   "execution_count": null,
   "id": "be2a24ae-f8e2-4054-9e6b-cc5b76730cef",
   "metadata": {},
   "outputs": [],
   "source": [
    "molsys_B.topology.atoms"
   ]
  },
  {
   "cell_type": "code",
   "execution_count": null,
   "id": "c4a101fb-8e8d-4d5f-b499-81b4f20790e6",
   "metadata": {},
   "outputs": [],
   "source": [
    "msm.get(molsys_A, element='atom', atom_id=True)"
   ]
  },
  {
   "cell_type": "code",
   "execution_count": null,
   "id": "352cafb6-88f9-4827-a3e4-86fe934037cc",
   "metadata": {},
   "outputs": [],
   "source": []
  }
 ],
 "metadata": {
  "kernelspec": {
   "display_name": "Python 3 (ipykernel)",
   "language": "python",
   "name": "python3"
  },
  "language_info": {
   "codemirror_mode": {
    "name": "ipython",
    "version": 3
   },
   "file_extension": ".py",
   "mimetype": "text/x-python",
   "name": "python",
   "nbconvert_exporter": "python",
   "pygments_lexer": "ipython3",
   "version": "3.10.14"
  }
 },
 "nbformat": 4,
 "nbformat_minor": 5
}
