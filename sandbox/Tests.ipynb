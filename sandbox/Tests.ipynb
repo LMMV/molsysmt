{
 "cells": [
  {
   "cell_type": "markdown",
   "id": "c2f52c6d-731a-4ca3-b14b-0f83beafe76c",
   "metadata": {},
   "source": [
    "# Testing basic tools in documentation\n",
    "\n",
    "\n",
    "[x] Add    \n",
    "[x] Get\n"
   ]
  },
  {
   "cell_type": "code",
   "execution_count": 1,
   "id": "89627ab5-532e-4815-ac94-3c3295fb685c",
   "metadata": {},
   "outputs": [
    {
     "data": {
      "application/vnd.jupyter.widget-view+json": {
       "model_id": "52853f9ed2b14ab6a2abf4a767047c9d",
       "version_major": 2,
       "version_minor": 0
      },
      "text/plain": []
     },
     "metadata": {},
     "output_type": "display_data"
    },
    {
     "ename": "IndentationError",
     "evalue": "unexpected indent (to_molsysmt_MolSys.py, line 440)",
     "output_type": "error",
     "traceback": [
      "Traceback \u001b[0;36m(most recent call last)\u001b[0m:\n",
      "\u001b[0m  File \u001b[1;32m~/Myopt/miniconda3/envs/MolSysMT@uibcdf_3.10/lib/python3.10/site-packages/IPython/core/interactiveshell.py:3577\u001b[0m in \u001b[1;35mrun_code\u001b[0m\n    exec(code_obj, self.user_global_ns, self.user_ns)\u001b[0m\n",
      "\u001b[0m  Cell \u001b[1;32mIn[1], line 1\u001b[0m\n    import molsysmt as msm\u001b[0m\n",
      "\u001b[0m  File \u001b[1;32m~/repos@uibcdf/MolSysMT/molsysmt/__init__.py:22\u001b[0m\n    from . import form\u001b[0m\n",
      "\u001b[0m  File \u001b[1;32m~/repos@uibcdf/MolSysMT/molsysmt/form/__init__.py:15\u001b[0m\n    mod = import_module('molsysmt.form.'+f.name)\u001b[0m\n",
      "\u001b[0m  File \u001b[1;32m~/Myopt/miniconda3/envs/MolSysMT@uibcdf_3.10/lib/python3.10/importlib/__init__.py:126\u001b[0m in \u001b[1;35mimport_module\u001b[0m\n    return _bootstrap._gcd_import(name[level:], package, level)\u001b[0m\n",
      "\u001b[0;36m  File \u001b[0;32m~/repos@uibcdf/MolSysMT/molsysmt/form/mmcif_PdbxContainers_DataContainer/__init__.py:29\u001b[0;36m\n\u001b[0;31m    from .to_molsysmt_MolSys import to_molsysmt_MolSys\u001b[0;36m\n",
      "\u001b[0;36m  File \u001b[0;32m~/repos@uibcdf/MolSysMT/molsysmt/form/mmcif_PdbxContainers_DataContainer/to_molsysmt_MolSys.py:440\u001b[0;36m\u001b[0m\n\u001b[0;31m    entity_dict[record[index_att['entity_id']]]['seq'].append([record[index_att['num']],record[index_att['mon_id']]])\u001b[0m\n\u001b[0m    ^\u001b[0m\n\u001b[0;31mIndentationError\u001b[0m\u001b[0;31m:\u001b[0m unexpected indent\n"
     ]
    }
   ],
   "source": [
    "import molsysmt as msm"
   ]
  },
  {
   "cell_type": "code",
   "execution_count": 2,
   "id": "4cdc4f01-cba8-494c-b029-e3cb4e801786",
   "metadata": {},
   "outputs": [
    {
     "ename": "NameError",
     "evalue": "name 'msm' is not defined",
     "output_type": "error",
     "traceback": [
      "\u001b[0;31m---------------------------------------------------------------------------\u001b[0m",
      "\u001b[0;31mNameError\u001b[0m                                 Traceback (most recent call last)",
      "Cell \u001b[0;32mIn[2], line 1\u001b[0m\n\u001b[0;32m----> 1\u001b[0m item \u001b[38;5;241m=\u001b[39m \u001b[43mmsm\u001b[49m\u001b[38;5;241m.\u001b[39mconvert(\u001b[38;5;124m'\u001b[39m\u001b[38;5;124m1L2Y\u001b[39m\u001b[38;5;124m'\u001b[39m, \u001b[38;5;124m'\u001b[39m\u001b[38;5;124mmmcif.PDbxContainers.DataContainer\u001b[39m\u001b[38;5;124m'\u001b[39m)\n",
      "\u001b[0;31mNameError\u001b[0m: name 'msm' is not defined"
     ]
    }
   ],
   "source": [
    "item = msm.convert('1L2Y', 'mmcif.PDbxContainers.DataContainer')"
   ]
  },
  {
   "cell_type": "code",
   "execution_count": null,
   "id": "fc350d26-81d7-4e7f-b3d0-f9bbd667e75f",
   "metadata": {},
   "outputs": [],
   "source": [
    "molsys = msm.convert(item)"
   ]
  },
  {
   "cell_type": "code",
   "execution_count": null,
   "id": "5566a7ac-9928-4b79-a1dc-66d3c058e674",
   "metadata": {},
   "outputs": [],
   "source": [
    "molsys.topology.chains"
   ]
  },
  {
   "cell_type": "code",
   "execution_count": null,
   "id": "f0309fd0-27d9-46ea-9e78-3efee870797a",
   "metadata": {},
   "outputs": [],
   "source": [
    "molsys.topology.bonds[0:50]"
   ]
  },
  {
   "cell_type": "code",
   "execution_count": null,
   "id": "ca2d6306-550e-4f01-b28b-d3564b5b2044",
   "metadata": {},
   "outputs": [],
   "source": []
  }
 ],
 "metadata": {
  "kernelspec": {
   "display_name": "Python 3 (ipykernel)",
   "language": "python",
   "name": "python3"
  },
  "language_info": {
   "codemirror_mode": {
    "name": "ipython",
    "version": 3
   },
   "file_extension": ".py",
   "mimetype": "text/x-python",
   "name": "python",
   "nbconvert_exporter": "python",
   "pygments_lexer": "ipython3",
   "version": "3.10.14"
  }
 },
 "nbformat": 4,
 "nbformat_minor": 5
}
