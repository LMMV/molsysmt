{
 "cells": [
  {
   "cell_type": "markdown",
   "id": "c2f52c6d-731a-4ca3-b14b-0f83beafe76c",
   "metadata": {},
   "source": [
    "# Testing basic tools in documentation\n",
    "\n",
    "\n",
    "[x] Add    \n",
    "[x] Get\n"
   ]
  },
  {
   "cell_type": "code",
   "execution_count": 1,
   "id": "89627ab5-532e-4815-ac94-3c3295fb685c",
   "metadata": {},
   "outputs": [
    {
     "data": {
      "application/vnd.jupyter.widget-view+json": {
       "model_id": "5e336c341ec747f8aa5375a6a8344ecc",
       "version_major": 2,
       "version_minor": 0
      },
      "text/plain": []
     },
     "metadata": {},
     "output_type": "display_data"
    }
   ],
   "source": [
    "import molsysmt as msm"
   ]
  },
  {
   "cell_type": "code",
   "execution_count": 3,
   "id": "4cdc4f01-cba8-494c-b029-e3cb4e801786",
   "metadata": {},
   "outputs": [],
   "source": [
    "item = msm.convert('1L2Y', 'mmcif.PdbxContainers.DataContainer')"
   ]
  },
  {
   "cell_type": "code",
   "execution_count": 19,
   "id": "16e39fc3-548d-4ea0-8e08-7e6b717d9c04",
   "metadata": {},
   "outputs": [
    {
     "data": {
      "text/plain": [
       "True"
      ]
     },
     "execution_count": 19,
     "metadata": {},
     "output_type": "execute_result"
    }
   ],
   "source": [
    "item.exists('entry')"
   ]
  },
  {
   "cell_type": "markdown",
   "id": "6b9a0c93-43a6-4d3d-a5f8-57cb1fd83d9c",
   "metadata": {},
   "source": [
    "# entity info"
   ]
  },
  {
   "cell_type": "code",
   "execution_count": 37,
   "id": "bfe7fe96-8601-4fd4-ad93-880623cdc824",
   "metadata": {},
   "outputs": [
    {
     "data": {
      "text/plain": [
       "DataCategory(name:'entity'\n",
       "attrbuteList: ['id', 'type', 'src_method', 'pdbx_description', 'formula_weight', 'pdbx_number_of_molecules', 'pdbx_ec', 'pdbx_mutation', 'pdbx_fragment', 'details']\n",
       "Data: [[1, 'polymer', 'syn', 'TC5b', 2171.413, 1, '?', '?', '?', '?']]\n",
       ")"
      ]
     },
     "execution_count": 37,
     "metadata": {},
     "output_type": "execute_result"
    }
   ],
   "source": [
    "item.getObj('entity')"
   ]
  },
  {
   "cell_type": "code",
   "execution_count": 38,
   "id": "e6999407-b312-4033-8193-c66291325aa2",
   "metadata": {},
   "outputs": [
    {
     "data": {
      "text/plain": [
       "DataCategory(name:'entity_poly'\n",
       "attrbuteList: ['entity_id', 'type', 'nstd_linkage', 'nstd_monomer', 'pdbx_seq_one_letter_code', 'pdbx_seq_one_letter_code_can', 'pdbx_strand_id', 'pdbx_target_identifier']\n",
       "Data: [[1, 'polypeptide(L)', 'no', 'no', 'NLYIQWLKDGGPSSGRPPPS', 'NLYIQWLKDGGPSSGRPPPS', 'A', '?']]\n",
       ")"
      ]
     },
     "execution_count": 38,
     "metadata": {},
     "output_type": "execute_result"
    }
   ],
   "source": [
    "item.getObj('entity_poly')"
   ]
  },
  {
   "cell_type": "code",
   "execution_count": 39,
   "id": "8e82a2d1-889e-4e31-b428-8e49706ee7bd",
   "metadata": {},
   "outputs": [
    {
     "data": {
      "text/plain": [
       "DataCategory(name:'entity_poly_seq'\n",
       "attrbuteList: ['entity_id', 'num', 'mon_id', 'hetero']\n",
       "Data: [[1, 1, 'ASN', 'n'], [1, 2, 'LEU', 'n'], [1, 3, 'TYR', 'n'], [1, 4, 'ILE', 'n'], [1, 5, 'GLN', 'n'], [1, 6, 'TRP', 'n'], [1, 7, 'LEU', 'n'], [1, 8, 'LYS', 'n'], [1, 9, 'ASP', 'n'], [1, 10, 'GLY', 'n'], [1, 11, 'GLY', 'n'], [1, 12, 'PRO', 'n'], [1, 13, 'SER', 'n'], [1, 14, 'SER', 'n'], [1, 15, 'GLY', 'n'], [1, 16, 'ARG', 'n'], [1, 17, 'PRO', 'n'], [1, 18, 'PRO', 'n'], [1, 19, 'PRO', 'n'], [1, 20, 'SER', 'n']]\n",
       ")"
      ]
     },
     "execution_count": 39,
     "metadata": {},
     "output_type": "execute_result"
    }
   ],
   "source": [
    "item.getObj('entity_poly_seq')"
   ]
  },
  {
   "cell_type": "code",
   "execution_count": 41,
   "id": "d5200b58-18fd-4163-851a-e797a240733e",
   "metadata": {},
   "outputs": [
    {
     "data": {
      "text/plain": [
       "DataCategory(name:'chem_comp'\n",
       "attrbuteList: ['id', 'type', 'mon_nstd_flag', 'name', 'pdbx_synonyms', 'formula', 'formula_weight']\n",
       "Data: [['ARG', 'L-peptide linking', 'y', 'ARGININE', '?', 'C6 H15 N4 O2 1', 175.209], ['ASN', 'L-peptide linking', 'y', 'ASPARAGINE', '?', 'C4 H8 N2 O3', 132.118], ['ASP', 'L-peptide linking', 'y', 'ASPARTIC ACID', '?', 'C4 H7 N O4', 133.103], ['GLN', 'L-peptide linking', 'y', 'GLUTAMINE', '?', 'C5 H10 N2 O3', 146.144], ['GLY', 'peptide linking', 'y', 'GLYCINE', '?', 'C2 H5 N O2', 75.067], ['ILE', 'L-peptide linking', 'y', 'ISOLEUCINE', '?', 'C6 H13 N O2', 131.173], ['LEU', 'L-peptide linking', 'y', 'LEUCINE', '?', 'C6 H13 N O2', 131.173], ['LYS', 'L-peptide linking', 'y', 'LYSINE', '?', 'C6 H15 N2 O2 1', 147.195], ['PRO', 'L-peptide linking', 'y', 'PROLINE', '?', 'C5 H9 N O2', 115.13], ['SER', 'L-peptide linking', 'y', 'SERINE', '?', 'C3 H7 N O3', 105.093], ['TRP', 'L-peptide linking', 'y', 'TRYPTOPHAN', '?', 'C11 H12 N2 O2', 204.225], ['TYR', 'L-peptide linking', 'y', 'TYROSINE', '?', 'C9 H11 N O3', 181.189]]\n",
       ")"
      ]
     },
     "execution_count": 41,
     "metadata": {},
     "output_type": "execute_result"
    }
   ],
   "source": [
    "item.getObj('chem_comp')"
   ]
  },
  {
   "cell_type": "code",
   "execution_count": 42,
   "id": "cfe7c070-5735-4412-81b9-4f683d6d8391",
   "metadata": {},
   "outputs": [
    {
     "data": {
      "text/plain": [
       "DataCategory(name:'pdbx_poly_seq_scheme'\n",
       "attrbuteList: ['asym_id', 'entity_id', 'seq_id', 'mon_id', 'ndb_seq_num', 'pdb_seq_num', 'auth_seq_num', 'pdb_mon_id', 'auth_mon_id', 'pdb_strand_id', 'pdb_ins_code', 'hetero']\n",
       "Data: [['A', 1, 1, 'ASN', 1, 1, 1, 'ASN', 'ASN', 'A', '.', 'n'], ['A', 1, 2, 'LEU', 2, 2, 2, 'LEU', 'LEU', 'A', '.', 'n'], ['A', 1, 3, 'TYR', 3, 3, 3, 'TYR', 'TYR', 'A', '.', 'n'], ['A', 1, 4, 'ILE', 4, 4, 4, 'ILE', 'ILE', 'A', '.', 'n'], ['A', 1, 5, 'GLN', 5, 5, 5, 'GLN', 'GLN', 'A', '.', 'n'], ['A', 1, 6, 'TRP', 6, 6, 6, 'TRP', 'TRP', 'A', '.', 'n'], ['A', 1, 7, 'LEU', 7, 7, 7, 'LEU', 'LEU', 'A', '.', 'n'], ['A', 1, 8, 'LYS', 8, 8, 8, 'LYS', 'LYS', 'A', '.', 'n'], ['A', 1, 9, 'ASP', 9, 9, 9, 'ASP', 'ASP', 'A', '.', 'n'], ['A', 1, 10, 'GLY', 10, 10, 10, 'GLY', 'GLY', 'A', '.', 'n'], ['A', 1, 11, 'GLY', 11, 11, 11, 'GLY', 'GLY', 'A', '.', 'n'], ['A', 1, 12, 'PRO', 12, 12, 12, 'PRO', 'PRO', 'A', '.', 'n'], ['A', 1, 13, 'SER', 13, 13, 13, 'SER', 'SER', 'A', '.', 'n'], ['A', 1, 14, 'SER', 14, 14, 14, 'SER', 'SER', 'A', '.', 'n'], ['A', 1, 15, 'GLY', 15, 15, 15, 'GLY', 'GLY', 'A', '.', 'n'], ['A', 1, 16, 'ARG', 16, 16, 16, 'ARG', 'ARG', 'A', '.', 'n'], ['A', 1, 17, 'PRO', 17, 17, 17, 'PRO', 'PRO', 'A', '.', 'n'], ['A', 1, 18, 'PRO', 18, 18, 18, 'PRO', 'PRO', 'A', '.', 'n'], ['A', 1, 19, 'PRO', 19, 19, 19, 'PRO', 'PRO', 'A', '.', 'n'], ['A', 1, 20, 'SER', 20, 20, 20, 'SER', 'SER', 'A', '.', 'n']]\n",
       ")"
      ]
     },
     "execution_count": 42,
     "metadata": {},
     "output_type": "execute_result"
    }
   ],
   "source": [
    "item.getObj('pdbx_poly_seq_scheme')"
   ]
  },
  {
   "cell_type": "code",
   "execution_count": 45,
   "id": "1250fe63-51c4-4cd3-ad63-dd0bd94e2937",
   "metadata": {},
   "outputs": [
    {
     "data": {
      "text/plain": [
       "DataCategory(name:'database_PDB_matrix'\n",
       "attrbuteList: ['entry_id', 'origx[1][1]', 'origx[1][2]', 'origx[1][3]', 'origx[2][1]', 'origx[2][2]', 'origx[2][3]', 'origx[3][1]', 'origx[3][2]', 'origx[3][3]', 'origx_vector[1]', 'origx_vector[2]', 'origx_vector[3]']\n",
       "Data: [['1L2Y', 1.0, 0.0, 0.0, 0.0, 1.0, 0.0, 0.0, 0.0, 1.0, 0.0, 0.0, 0.0]]\n",
       ")"
      ]
     },
     "execution_count": 45,
     "metadata": {},
     "output_type": "execute_result"
    }
   ],
   "source": [
    "item.getObj('database_PDB_matrix')"
   ]
  },
  {
   "cell_type": "code",
   "execution_count": 52,
   "id": "9fe3c2df-806c-4b74-ba1f-b4ec66ab2926",
   "metadata": {},
   "outputs": [
    {
     "data": {
      "text/plain": [
       "DataCategory(name:'pdbx_struct_assembly'\n",
       "attrbuteList: ['id', 'details', 'method_details', 'oligomeric_details', 'oligomeric_count']\n",
       "Data: [[1, 'author_defined_assembly', '?', 'monomeric', 1]]\n",
       ")"
      ]
     },
     "execution_count": 52,
     "metadata": {},
     "output_type": "execute_result"
    }
   ],
   "source": [
    "item.getObj('pdbx_struct_assembly')"
   ]
  },
  {
   "cell_type": "code",
   "execution_count": 53,
   "id": "5bec9660-0688-41ae-8df0-8a7984eac26b",
   "metadata": {},
   "outputs": [
    {
     "data": {
      "text/plain": [
       "DataCategory(name:'pdbx_struct_assembly_gen'\n",
       "attrbuteList: ['assembly_id', 'oper_expression', 'asym_id_list']\n",
       "Data: [[1, 1, 'A']]\n",
       ")"
      ]
     },
     "execution_count": 53,
     "metadata": {},
     "output_type": "execute_result"
    }
   ],
   "source": [
    "item.getObj('pdbx_struct_assembly_gen')"
   ]
  },
  {
   "cell_type": "code",
   "execution_count": 55,
   "id": "4d082ba7-a82d-4779-b7df-c50fc0dd81fd",
   "metadata": {},
   "outputs": [
    {
     "data": {
      "text/plain": [
       "DataCategory(name:'pdbx_struct_oper_list'\n",
       "attrbuteList: ['id', 'type', 'name', 'symmetry_operation', 'matrix[1][1]', 'matrix[1][2]', 'matrix[1][3]', 'vector[1]', 'matrix[2][1]', 'matrix[2][2]', 'matrix[2][3]', 'vector[2]', 'matrix[3][1]', 'matrix[3][2]', 'matrix[3][3]', 'vector[3]']\n",
       "Data: [[1, 'identity operation', '1_555', '?', 1.0, 0.0, 0.0, 0.0, 0.0, 1.0, 0.0, 0.0, 0.0, 0.0, 1.0, 0.0]]\n",
       ")"
      ]
     },
     "execution_count": 55,
     "metadata": {},
     "output_type": "execute_result"
    }
   ],
   "source": [
    "item.getObj('pdbx_struct_oper_list')"
   ]
  },
  {
   "cell_type": "code",
   "execution_count": 56,
   "id": "2e07060d-a80f-4496-839c-3f3b1c21d15d",
   "metadata": {},
   "outputs": [
    {
     "data": {
      "text/plain": [
       "DataCategory(name:'struct_conf'\n",
       "attrbuteList: ['conf_type_id', 'id', 'pdbx_PDB_helix_id', 'beg_label_comp_id', 'beg_label_asym_id', 'beg_label_seq_id', 'pdbx_beg_PDB_ins_code', 'end_label_comp_id', 'end_label_asym_id', 'end_label_seq_id', 'pdbx_end_PDB_ins_code', 'beg_auth_comp_id', 'beg_auth_asym_id', 'beg_auth_seq_id', 'end_auth_comp_id', 'end_auth_asym_id', 'end_auth_seq_id', 'pdbx_PDB_helix_class', 'details', 'pdbx_PDB_helix_length']\n",
       "Data: [['HELX_P', 'HELX_P1', 1, 'ASN', 'A', 1, '?', 'ASP', 'A', 9, '?', 'ASN', 'A', 1, 'ASP', 'A', 9, 1, '?', 9], ['HELX_P', 'HELX_P2', 2, 'GLY', 'A', 10, '?', 'GLY', 'A', 15, '?', 'GLY', 'A', 10, 'GLY', 'A', 15, 5, '?', 6]]\n",
       ")"
      ]
     },
     "execution_count": 56,
     "metadata": {},
     "output_type": "execute_result"
    }
   ],
   "source": [
    "item.getObj('struct_conf')"
   ]
  },
  {
   "cell_type": "code",
   "execution_count": 57,
   "id": "2d355ee8-0b95-4ebb-9996-db468bfe8464",
   "metadata": {},
   "outputs": [
    {
     "data": {
      "text/plain": [
       "DataCategory(name:'struct_conf_type'\n",
       "attrbuteList: ['id', 'criteria', 'reference']\n",
       "Data: [['HELX_P', '?', '?']]\n",
       ")"
      ]
     },
     "execution_count": 57,
     "metadata": {},
     "output_type": "execute_result"
    }
   ],
   "source": [
    "item.getObj('struct_conf_type')"
   ]
  },
  {
   "cell_type": "code",
   "execution_count": 69,
   "id": "aba54dfa-45cf-4983-876b-0f9ece958909",
   "metadata": {},
   "outputs": [
    {
     "data": {
      "text/plain": [
       "DataCategory(name:'chem_comp_atom'\n",
       "attrbuteList: ['comp_id', 'atom_id', 'type_symbol', 'pdbx_aromatic_flag', 'pdbx_stereo_config', 'pdbx_ordinal']\n",
       "Data: [['ARG', 'N', 'N', 'N', 'N', 1], ['ARG', 'CA', 'C', 'N', 'S', 2], ['ARG', 'C', 'C', 'N', 'N', 3], ['ARG', 'O', 'O', 'N', 'N', 4], ['ARG', 'CB', 'C', 'N', 'N', 5], ['ARG', 'CG', 'C', 'N', 'N', 6], ['ARG', 'CD', 'C', 'N', 'N', 7], ['ARG', 'NE', 'N', 'N', 'N', 8], ['ARG', 'CZ', 'C', 'N', 'N', 9], ['ARG', 'NH1', 'N', 'N', 'N', 10], ['ARG', 'NH2', 'N', 'N', 'N', 11], ['ARG', 'OXT', 'O', 'N', 'N', 12], ['ARG', 'H', 'H', 'N', 'N', 13], ['ARG', 'H2', 'H', 'N', 'N', 14], ['ARG', 'HA', 'H', 'N', 'N', 15], ['ARG', 'HB2', 'H', 'N', 'N', 16], ['ARG', 'HB3', 'H', 'N', 'N', 17], ['ARG', 'HG2', 'H', 'N', 'N', 18], ['ARG', 'HG3', 'H', 'N', 'N', 19], ['ARG', 'HD2', 'H', 'N', 'N', 20], ['ARG', 'HD3', 'H', 'N', 'N', 21], ['ARG', 'HE', 'H', 'N', 'N', 22], ['ARG', 'HH11', 'H', 'N', 'N', 23], ['ARG', 'HH12', 'H', 'N', 'N', 24], ['ARG', 'HH21', 'H', 'N', 'N', 25], ['ARG', 'HH22', 'H', 'N', 'N', 26], ['ARG', 'HXT', 'H', 'N', 'N', 27], ['ASN', 'N', 'N', 'N', 'N', 28], ['ASN', 'CA', 'C', 'N', 'S', 29], ['ASN', 'C', 'C', 'N', 'N', 30], ['ASN', 'O', 'O', 'N', 'N', 31], ['ASN', 'CB', 'C', 'N', 'N', 32], ['ASN', 'CG', 'C', 'N', 'N', 33], ['ASN', 'OD1', 'O', 'N', 'N', 34], ['ASN', 'ND2', 'N', 'N', 'N', 35], ['ASN', 'OXT', 'O', 'N', 'N', 36], ['ASN', 'H', 'H', 'N', 'N', 37], ['ASN', 'H2', 'H', 'N', 'N', 38], ['ASN', 'HA', 'H', 'N', 'N', 39], ['ASN', 'HB2', 'H', 'N', 'N', 40], ['ASN', 'HB3', 'H', 'N', 'N', 41], ['ASN', 'HD21', 'H', 'N', 'N', 42], ['ASN', 'HD22', 'H', 'N', 'N', 43], ['ASN', 'HXT', 'H', 'N', 'N', 44], ['ASP', 'N', 'N', 'N', 'N', 45], ['ASP', 'CA', 'C', 'N', 'S', 46], ['ASP', 'C', 'C', 'N', 'N', 47], ['ASP', 'O', 'O', 'N', 'N', 48], ['ASP', 'CB', 'C', 'N', 'N', 49], ['ASP', 'CG', 'C', 'N', 'N', 50], ['ASP', 'OD1', 'O', 'N', 'N', 51], ['ASP', 'OD2', 'O', 'N', 'N', 52], ['ASP', 'OXT', 'O', 'N', 'N', 53], ['ASP', 'H', 'H', 'N', 'N', 54], ['ASP', 'H2', 'H', 'N', 'N', 55], ['ASP', 'HA', 'H', 'N', 'N', 56], ['ASP', 'HB2', 'H', 'N', 'N', 57], ['ASP', 'HB3', 'H', 'N', 'N', 58], ['ASP', 'HD2', 'H', 'N', 'N', 59], ['ASP', 'HXT', 'H', 'N', 'N', 60], ['GLN', 'N', 'N', 'N', 'N', 61], ['GLN', 'CA', 'C', 'N', 'S', 62], ['GLN', 'C', 'C', 'N', 'N', 63], ['GLN', 'O', 'O', 'N', 'N', 64], ['GLN', 'CB', 'C', 'N', 'N', 65], ['GLN', 'CG', 'C', 'N', 'N', 66], ['GLN', 'CD', 'C', 'N', 'N', 67], ['GLN', 'OE1', 'O', 'N', 'N', 68], ['GLN', 'NE2', 'N', 'N', 'N', 69], ['GLN', 'OXT', 'O', 'N', 'N', 70], ['GLN', 'H', 'H', 'N', 'N', 71], ['GLN', 'H2', 'H', 'N', 'N', 72], ['GLN', 'HA', 'H', 'N', 'N', 73], ['GLN', 'HB2', 'H', 'N', 'N', 74], ['GLN', 'HB3', 'H', 'N', 'N', 75], ['GLN', 'HG2', 'H', 'N', 'N', 76], ['GLN', 'HG3', 'H', 'N', 'N', 77], ['GLN', 'HE21', 'H', 'N', 'N', 78], ['GLN', 'HE22', 'H', 'N', 'N', 79], ['GLN', 'HXT', 'H', 'N', 'N', 80], ['GLY', 'N', 'N', 'N', 'N', 81], ['GLY', 'CA', 'C', 'N', 'N', 82], ['GLY', 'C', 'C', 'N', 'N', 83], ['GLY', 'O', 'O', 'N', 'N', 84], ['GLY', 'OXT', 'O', 'N', 'N', 85], ['GLY', 'H', 'H', 'N', 'N', 86], ['GLY', 'H2', 'H', 'N', 'N', 87], ['GLY', 'HA2', 'H', 'N', 'N', 88], ['GLY', 'HA3', 'H', 'N', 'N', 89], ['GLY', 'HXT', 'H', 'N', 'N', 90], ['ILE', 'N', 'N', 'N', 'N', 91], ['ILE', 'CA', 'C', 'N', 'S', 92], ['ILE', 'C', 'C', 'N', 'N', 93], ['ILE', 'O', 'O', 'N', 'N', 94], ['ILE', 'CB', 'C', 'N', 'S', 95], ['ILE', 'CG1', 'C', 'N', 'N', 96], ['ILE', 'CG2', 'C', 'N', 'N', 97], ['ILE', 'CD1', 'C', 'N', 'N', 98], ['ILE', 'OXT', 'O', 'N', 'N', 99], ['ILE', 'H', 'H', 'N', 'N', 100], ['ILE', 'H2', 'H', 'N', 'N', 101], ['ILE', 'HA', 'H', 'N', 'N', 102], ['ILE', 'HB', 'H', 'N', 'N', 103], ['ILE', 'HG12', 'H', 'N', 'N', 104], ['ILE', 'HG13', 'H', 'N', 'N', 105], ['ILE', 'HG21', 'H', 'N', 'N', 106], ['ILE', 'HG22', 'H', 'N', 'N', 107], ['ILE', 'HG23', 'H', 'N', 'N', 108], ['ILE', 'HD11', 'H', 'N', 'N', 109], ['ILE', 'HD12', 'H', 'N', 'N', 110], ['ILE', 'HD13', 'H', 'N', 'N', 111], ['ILE', 'HXT', 'H', 'N', 'N', 112], ['LEU', 'N', 'N', 'N', 'N', 113], ['LEU', 'CA', 'C', 'N', 'S', 114], ['LEU', 'C', 'C', 'N', 'N', 115], ['LEU', 'O', 'O', 'N', 'N', 116], ['LEU', 'CB', 'C', 'N', 'N', 117], ['LEU', 'CG', 'C', 'N', 'N', 118], ['LEU', 'CD1', 'C', 'N', 'N', 119], ['LEU', 'CD2', 'C', 'N', 'N', 120], ['LEU', 'OXT', 'O', 'N', 'N', 121], ['LEU', 'H', 'H', 'N', 'N', 122], ['LEU', 'H2', 'H', 'N', 'N', 123], ['LEU', 'HA', 'H', 'N', 'N', 124], ['LEU', 'HB2', 'H', 'N', 'N', 125], ['LEU', 'HB3', 'H', 'N', 'N', 126], ['LEU', 'HG', 'H', 'N', 'N', 127], ['LEU', 'HD11', 'H', 'N', 'N', 128], ['LEU', 'HD12', 'H', 'N', 'N', 129], ['LEU', 'HD13', 'H', 'N', 'N', 130], ['LEU', 'HD21', 'H', 'N', 'N', 131], ['LEU', 'HD22', 'H', 'N', 'N', 132], ['LEU', 'HD23', 'H', 'N', 'N', 133], ['LEU', 'HXT', 'H', 'N', 'N', 134], ['LYS', 'N', 'N', 'N', 'N', 135], ['LYS', 'CA', 'C', 'N', 'S', 136], ['LYS', 'C', 'C', 'N', 'N', 137], ['LYS', 'O', 'O', 'N', 'N', 138], ['LYS', 'CB', 'C', 'N', 'N', 139], ['LYS', 'CG', 'C', 'N', 'N', 140], ['LYS', 'CD', 'C', 'N', 'N', 141], ['LYS', 'CE', 'C', 'N', 'N', 142], ['LYS', 'NZ', 'N', 'N', 'N', 143], ['LYS', 'OXT', 'O', 'N', 'N', 144], ['LYS', 'H', 'H', 'N', 'N', 145], ['LYS', 'H2', 'H', 'N', 'N', 146], ['LYS', 'HA', 'H', 'N', 'N', 147], ['LYS', 'HB2', 'H', 'N', 'N', 148], ['LYS', 'HB3', 'H', 'N', 'N', 149], ['LYS', 'HG2', 'H', 'N', 'N', 150], ['LYS', 'HG3', 'H', 'N', 'N', 151], ['LYS', 'HD2', 'H', 'N', 'N', 152], ['LYS', 'HD3', 'H', 'N', 'N', 153], ['LYS', 'HE2', 'H', 'N', 'N', 154], ['LYS', 'HE3', 'H', 'N', 'N', 155], ['LYS', 'HZ1', 'H', 'N', 'N', 156], ['LYS', 'HZ2', 'H', 'N', 'N', 157], ['LYS', 'HZ3', 'H', 'N', 'N', 158], ['LYS', 'HXT', 'H', 'N', 'N', 159], ['PRO', 'N', 'N', 'N', 'N', 160], ['PRO', 'CA', 'C', 'N', 'S', 161], ['PRO', 'C', 'C', 'N', 'N', 162], ['PRO', 'O', 'O', 'N', 'N', 163], ['PRO', 'CB', 'C', 'N', 'N', 164], ['PRO', 'CG', 'C', 'N', 'N', 165], ['PRO', 'CD', 'C', 'N', 'N', 166], ['PRO', 'OXT', 'O', 'N', 'N', 167], ['PRO', 'H', 'H', 'N', 'N', 168], ['PRO', 'HA', 'H', 'N', 'N', 169], ['PRO', 'HB2', 'H', 'N', 'N', 170], ['PRO', 'HB3', 'H', 'N', 'N', 171], ['PRO', 'HG2', 'H', 'N', 'N', 172], ['PRO', 'HG3', 'H', 'N', 'N', 173], ['PRO', 'HD2', 'H', 'N', 'N', 174], ['PRO', 'HD3', 'H', 'N', 'N', 175], ['PRO', 'HXT', 'H', 'N', 'N', 176], ['SER', 'N', 'N', 'N', 'N', 177], ['SER', 'CA', 'C', 'N', 'S', 178], ['SER', 'C', 'C', 'N', 'N', 179], ['SER', 'O', 'O', 'N', 'N', 180], ['SER', 'CB', 'C', 'N', 'N', 181], ['SER', 'OG', 'O', 'N', 'N', 182], ['SER', 'OXT', 'O', 'N', 'N', 183], ['SER', 'H', 'H', 'N', 'N', 184], ['SER', 'H2', 'H', 'N', 'N', 185], ['SER', 'HA', 'H', 'N', 'N', 186], ['SER', 'HB2', 'H', 'N', 'N', 187], ['SER', 'HB3', 'H', 'N', 'N', 188], ['SER', 'HG', 'H', 'N', 'N', 189], ['SER', 'HXT', 'H', 'N', 'N', 190], ['TRP', 'N', 'N', 'N', 'N', 191], ['TRP', 'CA', 'C', 'N', 'S', 192], ['TRP', 'C', 'C', 'N', 'N', 193], ['TRP', 'O', 'O', 'N', 'N', 194], ['TRP', 'CB', 'C', 'N', 'N', 195], ['TRP', 'CG', 'C', 'Y', 'N', 196], ['TRP', 'CD1', 'C', 'Y', 'N', 197], ['TRP', 'CD2', 'C', 'Y', 'N', 198], ['TRP', 'NE1', 'N', 'Y', 'N', 199], ['TRP', 'CE2', 'C', 'Y', 'N', 200], ['TRP', 'CE3', 'C', 'Y', 'N', 201], ['TRP', 'CZ2', 'C', 'Y', 'N', 202], ['TRP', 'CZ3', 'C', 'Y', 'N', 203], ['TRP', 'CH2', 'C', 'Y', 'N', 204], ['TRP', 'OXT', 'O', 'N', 'N', 205], ['TRP', 'H', 'H', 'N', 'N', 206], ['TRP', 'H2', 'H', 'N', 'N', 207], ['TRP', 'HA', 'H', 'N', 'N', 208], ['TRP', 'HB2', 'H', 'N', 'N', 209], ['TRP', 'HB3', 'H', 'N', 'N', 210], ['TRP', 'HD1', 'H', 'N', 'N', 211], ['TRP', 'HE1', 'H', 'N', 'N', 212], ['TRP', 'HE3', 'H', 'N', 'N', 213], ['TRP', 'HZ2', 'H', 'N', 'N', 214], ['TRP', 'HZ3', 'H', 'N', 'N', 215], ['TRP', 'HH2', 'H', 'N', 'N', 216], ['TRP', 'HXT', 'H', 'N', 'N', 217], ['TYR', 'N', 'N', 'N', 'N', 218], ['TYR', 'CA', 'C', 'N', 'S', 219], ['TYR', 'C', 'C', 'N', 'N', 220], ['TYR', 'O', 'O', 'N', 'N', 221], ['TYR', 'CB', 'C', 'N', 'N', 222], ['TYR', 'CG', 'C', 'Y', 'N', 223], ['TYR', 'CD1', 'C', 'Y', 'N', 224], ['TYR', 'CD2', 'C', 'Y', 'N', 225], ['TYR', 'CE1', 'C', 'Y', 'N', 226], ['TYR', 'CE2', 'C', 'Y', 'N', 227], ['TYR', 'CZ', 'C', 'Y', 'N', 228], ['TYR', 'OH', 'O', 'N', 'N', 229], ['TYR', 'OXT', 'O', 'N', 'N', 230], ['TYR', 'H', 'H', 'N', 'N', 231], ['TYR', 'H2', 'H', 'N', 'N', 232], ['TYR', 'HA', 'H', 'N', 'N', 233], ['TYR', 'HB2', 'H', 'N', 'N', 234], ['TYR', 'HB3', 'H', 'N', 'N', 235], ['TYR', 'HD1', 'H', 'N', 'N', 236], ['TYR', 'HD2', 'H', 'N', 'N', 237], ['TYR', 'HE1', 'H', 'N', 'N', 238], ['TYR', 'HE2', 'H', 'N', 'N', 239], ['TYR', 'HH', 'H', 'N', 'N', 240], ['TYR', 'HXT', 'H', 'N', 'N', 241]]\n",
       ")"
      ]
     },
     "execution_count": 69,
     "metadata": {},
     "output_type": "execute_result"
    }
   ],
   "source": [
    "item.getObj('chem_comp_atom')"
   ]
  },
  {
   "cell_type": "code",
   "execution_count": 62,
   "id": "ae5cad70-f387-4fe7-b1da-086470d3660b",
   "metadata": {},
   "outputs": [
    {
     "data": {
      "text/plain": [
       "DataCategory(name:'chem_comp_bond'\n",
       "attrbuteList: ['comp_id', 'atom_id_1', 'atom_id_2', 'value_order', 'pdbx_aromatic_flag', 'pdbx_stereo_config', 'pdbx_ordinal']\n",
       "Data: [['ARG', 'N', 'CA', 'sing', 'N', 'N', 1], ['ARG', 'N', 'H', 'sing', 'N', 'N', 2], ['ARG', 'N', 'H2', 'sing', 'N', 'N', 3], ['ARG', 'CA', 'C', 'sing', 'N', 'N', 4], ['ARG', 'CA', 'CB', 'sing', 'N', 'N', 5], ['ARG', 'CA', 'HA', 'sing', 'N', 'N', 6], ['ARG', 'C', 'O', 'doub', 'N', 'N', 7], ['ARG', 'C', 'OXT', 'sing', 'N', 'N', 8], ['ARG', 'CB', 'CG', 'sing', 'N', 'N', 9], ['ARG', 'CB', 'HB2', 'sing', 'N', 'N', 10], ['ARG', 'CB', 'HB3', 'sing', 'N', 'N', 11], ['ARG', 'CG', 'CD', 'sing', 'N', 'N', 12], ['ARG', 'CG', 'HG2', 'sing', 'N', 'N', 13], ['ARG', 'CG', 'HG3', 'sing', 'N', 'N', 14], ['ARG', 'CD', 'NE', 'sing', 'N', 'N', 15], ['ARG', 'CD', 'HD2', 'sing', 'N', 'N', 16], ['ARG', 'CD', 'HD3', 'sing', 'N', 'N', 17], ['ARG', 'NE', 'CZ', 'sing', 'N', 'N', 18], ['ARG', 'NE', 'HE', 'sing', 'N', 'N', 19], ['ARG', 'CZ', 'NH1', 'sing', 'N', 'N', 20], ['ARG', 'CZ', 'NH2', 'doub', 'N', 'N', 21], ['ARG', 'NH1', 'HH11', 'sing', 'N', 'N', 22], ['ARG', 'NH1', 'HH12', 'sing', 'N', 'N', 23], ['ARG', 'NH2', 'HH21', 'sing', 'N', 'N', 24], ['ARG', 'NH2', 'HH22', 'sing', 'N', 'N', 25], ['ARG', 'OXT', 'HXT', 'sing', 'N', 'N', 26], ['ASN', 'N', 'CA', 'sing', 'N', 'N', 27], ['ASN', 'N', 'H', 'sing', 'N', 'N', 28], ['ASN', 'N', 'H2', 'sing', 'N', 'N', 29], ['ASN', 'CA', 'C', 'sing', 'N', 'N', 30], ['ASN', 'CA', 'CB', 'sing', 'N', 'N', 31], ['ASN', 'CA', 'HA', 'sing', 'N', 'N', 32], ['ASN', 'C', 'O', 'doub', 'N', 'N', 33], ['ASN', 'C', 'OXT', 'sing', 'N', 'N', 34], ['ASN', 'CB', 'CG', 'sing', 'N', 'N', 35], ['ASN', 'CB', 'HB2', 'sing', 'N', 'N', 36], ['ASN', 'CB', 'HB3', 'sing', 'N', 'N', 37], ['ASN', 'CG', 'OD1', 'doub', 'N', 'N', 38], ['ASN', 'CG', 'ND2', 'sing', 'N', 'N', 39], ['ASN', 'ND2', 'HD21', 'sing', 'N', 'N', 40], ['ASN', 'ND2', 'HD22', 'sing', 'N', 'N', 41], ['ASN', 'OXT', 'HXT', 'sing', 'N', 'N', 42], ['ASP', 'N', 'CA', 'sing', 'N', 'N', 43], ['ASP', 'N', 'H', 'sing', 'N', 'N', 44], ['ASP', 'N', 'H2', 'sing', 'N', 'N', 45], ['ASP', 'CA', 'C', 'sing', 'N', 'N', 46], ['ASP', 'CA', 'CB', 'sing', 'N', 'N', 47], ['ASP', 'CA', 'HA', 'sing', 'N', 'N', 48], ['ASP', 'C', 'O', 'doub', 'N', 'N', 49], ['ASP', 'C', 'OXT', 'sing', 'N', 'N', 50], ['ASP', 'CB', 'CG', 'sing', 'N', 'N', 51], ['ASP', 'CB', 'HB2', 'sing', 'N', 'N', 52], ['ASP', 'CB', 'HB3', 'sing', 'N', 'N', 53], ['ASP', 'CG', 'OD1', 'doub', 'N', 'N', 54], ['ASP', 'CG', 'OD2', 'sing', 'N', 'N', 55], ['ASP', 'OD2', 'HD2', 'sing', 'N', 'N', 56], ['ASP', 'OXT', 'HXT', 'sing', 'N', 'N', 57], ['GLN', 'N', 'CA', 'sing', 'N', 'N', 58], ['GLN', 'N', 'H', 'sing', 'N', 'N', 59], ['GLN', 'N', 'H2', 'sing', 'N', 'N', 60], ['GLN', 'CA', 'C', 'sing', 'N', 'N', 61], ['GLN', 'CA', 'CB', 'sing', 'N', 'N', 62], ['GLN', 'CA', 'HA', 'sing', 'N', 'N', 63], ['GLN', 'C', 'O', 'doub', 'N', 'N', 64], ['GLN', 'C', 'OXT', 'sing', 'N', 'N', 65], ['GLN', 'CB', 'CG', 'sing', 'N', 'N', 66], ['GLN', 'CB', 'HB2', 'sing', 'N', 'N', 67], ['GLN', 'CB', 'HB3', 'sing', 'N', 'N', 68], ['GLN', 'CG', 'CD', 'sing', 'N', 'N', 69], ['GLN', 'CG', 'HG2', 'sing', 'N', 'N', 70], ['GLN', 'CG', 'HG3', 'sing', 'N', 'N', 71], ['GLN', 'CD', 'OE1', 'doub', 'N', 'N', 72], ['GLN', 'CD', 'NE2', 'sing', 'N', 'N', 73], ['GLN', 'NE2', 'HE21', 'sing', 'N', 'N', 74], ['GLN', 'NE2', 'HE22', 'sing', 'N', 'N', 75], ['GLN', 'OXT', 'HXT', 'sing', 'N', 'N', 76], ['GLY', 'N', 'CA', 'sing', 'N', 'N', 77], ['GLY', 'N', 'H', 'sing', 'N', 'N', 78], ['GLY', 'N', 'H2', 'sing', 'N', 'N', 79], ['GLY', 'CA', 'C', 'sing', 'N', 'N', 80], ['GLY', 'CA', 'HA2', 'sing', 'N', 'N', 81], ['GLY', 'CA', 'HA3', 'sing', 'N', 'N', 82], ['GLY', 'C', 'O', 'doub', 'N', 'N', 83], ['GLY', 'C', 'OXT', 'sing', 'N', 'N', 84], ['GLY', 'OXT', 'HXT', 'sing', 'N', 'N', 85], ['ILE', 'N', 'CA', 'sing', 'N', 'N', 86], ['ILE', 'N', 'H', 'sing', 'N', 'N', 87], ['ILE', 'N', 'H2', 'sing', 'N', 'N', 88], ['ILE', 'CA', 'C', 'sing', 'N', 'N', 89], ['ILE', 'CA', 'CB', 'sing', 'N', 'N', 90], ['ILE', 'CA', 'HA', 'sing', 'N', 'N', 91], ['ILE', 'C', 'O', 'doub', 'N', 'N', 92], ['ILE', 'C', 'OXT', 'sing', 'N', 'N', 93], ['ILE', 'CB', 'CG1', 'sing', 'N', 'N', 94], ['ILE', 'CB', 'CG2', 'sing', 'N', 'N', 95], ['ILE', 'CB', 'HB', 'sing', 'N', 'N', 96], ['ILE', 'CG1', 'CD1', 'sing', 'N', 'N', 97], ['ILE', 'CG1', 'HG12', 'sing', 'N', 'N', 98], ['ILE', 'CG1', 'HG13', 'sing', 'N', 'N', 99], ['ILE', 'CG2', 'HG21', 'sing', 'N', 'N', 100], ['ILE', 'CG2', 'HG22', 'sing', 'N', 'N', 101], ['ILE', 'CG2', 'HG23', 'sing', 'N', 'N', 102], ['ILE', 'CD1', 'HD11', 'sing', 'N', 'N', 103], ['ILE', 'CD1', 'HD12', 'sing', 'N', 'N', 104], ['ILE', 'CD1', 'HD13', 'sing', 'N', 'N', 105], ['ILE', 'OXT', 'HXT', 'sing', 'N', 'N', 106], ['LEU', 'N', 'CA', 'sing', 'N', 'N', 107], ['LEU', 'N', 'H', 'sing', 'N', 'N', 108], ['LEU', 'N', 'H2', 'sing', 'N', 'N', 109], ['LEU', 'CA', 'C', 'sing', 'N', 'N', 110], ['LEU', 'CA', 'CB', 'sing', 'N', 'N', 111], ['LEU', 'CA', 'HA', 'sing', 'N', 'N', 112], ['LEU', 'C', 'O', 'doub', 'N', 'N', 113], ['LEU', 'C', 'OXT', 'sing', 'N', 'N', 114], ['LEU', 'CB', 'CG', 'sing', 'N', 'N', 115], ['LEU', 'CB', 'HB2', 'sing', 'N', 'N', 116], ['LEU', 'CB', 'HB3', 'sing', 'N', 'N', 117], ['LEU', 'CG', 'CD1', 'sing', 'N', 'N', 118], ['LEU', 'CG', 'CD2', 'sing', 'N', 'N', 119], ['LEU', 'CG', 'HG', 'sing', 'N', 'N', 120], ['LEU', 'CD1', 'HD11', 'sing', 'N', 'N', 121], ['LEU', 'CD1', 'HD12', 'sing', 'N', 'N', 122], ['LEU', 'CD1', 'HD13', 'sing', 'N', 'N', 123], ['LEU', 'CD2', 'HD21', 'sing', 'N', 'N', 124], ['LEU', 'CD2', 'HD22', 'sing', 'N', 'N', 125], ['LEU', 'CD2', 'HD23', 'sing', 'N', 'N', 126], ['LEU', 'OXT', 'HXT', 'sing', 'N', 'N', 127], ['LYS', 'N', 'CA', 'sing', 'N', 'N', 128], ['LYS', 'N', 'H', 'sing', 'N', 'N', 129], ['LYS', 'N', 'H2', 'sing', 'N', 'N', 130], ['LYS', 'CA', 'C', 'sing', 'N', 'N', 131], ['LYS', 'CA', 'CB', 'sing', 'N', 'N', 132], ['LYS', 'CA', 'HA', 'sing', 'N', 'N', 133], ['LYS', 'C', 'O', 'doub', 'N', 'N', 134], ['LYS', 'C', 'OXT', 'sing', 'N', 'N', 135], ['LYS', 'CB', 'CG', 'sing', 'N', 'N', 136], ['LYS', 'CB', 'HB2', 'sing', 'N', 'N', 137], ['LYS', 'CB', 'HB3', 'sing', 'N', 'N', 138], ['LYS', 'CG', 'CD', 'sing', 'N', 'N', 139], ['LYS', 'CG', 'HG2', 'sing', 'N', 'N', 140], ['LYS', 'CG', 'HG3', 'sing', 'N', 'N', 141], ['LYS', 'CD', 'CE', 'sing', 'N', 'N', 142], ['LYS', 'CD', 'HD2', 'sing', 'N', 'N', 143], ['LYS', 'CD', 'HD3', 'sing', 'N', 'N', 144], ['LYS', 'CE', 'NZ', 'sing', 'N', 'N', 145], ['LYS', 'CE', 'HE2', 'sing', 'N', 'N', 146], ['LYS', 'CE', 'HE3', 'sing', 'N', 'N', 147], ['LYS', 'NZ', 'HZ1', 'sing', 'N', 'N', 148], ['LYS', 'NZ', 'HZ2', 'sing', 'N', 'N', 149], ['LYS', 'NZ', 'HZ3', 'sing', 'N', 'N', 150], ['LYS', 'OXT', 'HXT', 'sing', 'N', 'N', 151], ['PRO', 'N', 'CA', 'sing', 'N', 'N', 152], ['PRO', 'N', 'CD', 'sing', 'N', 'N', 153], ['PRO', 'N', 'H', 'sing', 'N', 'N', 154], ['PRO', 'CA', 'C', 'sing', 'N', 'N', 155], ['PRO', 'CA', 'CB', 'sing', 'N', 'N', 156], ['PRO', 'CA', 'HA', 'sing', 'N', 'N', 157], ['PRO', 'C', 'O', 'doub', 'N', 'N', 158], ['PRO', 'C', 'OXT', 'sing', 'N', 'N', 159], ['PRO', 'CB', 'CG', 'sing', 'N', 'N', 160], ['PRO', 'CB', 'HB2', 'sing', 'N', 'N', 161], ['PRO', 'CB', 'HB3', 'sing', 'N', 'N', 162], ['PRO', 'CG', 'CD', 'sing', 'N', 'N', 163], ['PRO', 'CG', 'HG2', 'sing', 'N', 'N', 164], ['PRO', 'CG', 'HG3', 'sing', 'N', 'N', 165], ['PRO', 'CD', 'HD2', 'sing', 'N', 'N', 166], ['PRO', 'CD', 'HD3', 'sing', 'N', 'N', 167], ['PRO', 'OXT', 'HXT', 'sing', 'N', 'N', 168], ['SER', 'N', 'CA', 'sing', 'N', 'N', 169], ['SER', 'N', 'H', 'sing', 'N', 'N', 170], ['SER', 'N', 'H2', 'sing', 'N', 'N', 171], ['SER', 'CA', 'C', 'sing', 'N', 'N', 172], ['SER', 'CA', 'CB', 'sing', 'N', 'N', 173], ['SER', 'CA', 'HA', 'sing', 'N', 'N', 174], ['SER', 'C', 'O', 'doub', 'N', 'N', 175], ['SER', 'C', 'OXT', 'sing', 'N', 'N', 176], ['SER', 'CB', 'OG', 'sing', 'N', 'N', 177], ['SER', 'CB', 'HB2', 'sing', 'N', 'N', 178], ['SER', 'CB', 'HB3', 'sing', 'N', 'N', 179], ['SER', 'OG', 'HG', 'sing', 'N', 'N', 180], ['SER', 'OXT', 'HXT', 'sing', 'N', 'N', 181], ['TRP', 'N', 'CA', 'sing', 'N', 'N', 182], ['TRP', 'N', 'H', 'sing', 'N', 'N', 183], ['TRP', 'N', 'H2', 'sing', 'N', 'N', 184], ['TRP', 'CA', 'C', 'sing', 'N', 'N', 185], ['TRP', 'CA', 'CB', 'sing', 'N', 'N', 186], ['TRP', 'CA', 'HA', 'sing', 'N', 'N', 187], ['TRP', 'C', 'O', 'doub', 'N', 'N', 188], ['TRP', 'C', 'OXT', 'sing', 'N', 'N', 189], ['TRP', 'CB', 'CG', 'sing', 'N', 'N', 190], ['TRP', 'CB', 'HB2', 'sing', 'N', 'N', 191], ['TRP', 'CB', 'HB3', 'sing', 'N', 'N', 192], ['TRP', 'CG', 'CD1', 'doub', 'Y', 'N', 193], ['TRP', 'CG', 'CD2', 'sing', 'Y', 'N', 194], ['TRP', 'CD1', 'NE1', 'sing', 'Y', 'N', 195], ['TRP', 'CD1', 'HD1', 'sing', 'N', 'N', 196], ['TRP', 'CD2', 'CE2', 'doub', 'Y', 'N', 197], ['TRP', 'CD2', 'CE3', 'sing', 'Y', 'N', 198], ['TRP', 'NE1', 'CE2', 'sing', 'Y', 'N', 199], ['TRP', 'NE1', 'HE1', 'sing', 'N', 'N', 200], ['TRP', 'CE2', 'CZ2', 'sing', 'Y', 'N', 201], ['TRP', 'CE3', 'CZ3', 'doub', 'Y', 'N', 202], ['TRP', 'CE3', 'HE3', 'sing', 'N', 'N', 203], ['TRP', 'CZ2', 'CH2', 'doub', 'Y', 'N', 204], ['TRP', 'CZ2', 'HZ2', 'sing', 'N', 'N', 205], ['TRP', 'CZ3', 'CH2', 'sing', 'Y', 'N', 206], ['TRP', 'CZ3', 'HZ3', 'sing', 'N', 'N', 207], ['TRP', 'CH2', 'HH2', 'sing', 'N', 'N', 208], ['TRP', 'OXT', 'HXT', 'sing', 'N', 'N', 209], ['TYR', 'N', 'CA', 'sing', 'N', 'N', 210], ['TYR', 'N', 'H', 'sing', 'N', 'N', 211], ['TYR', 'N', 'H2', 'sing', 'N', 'N', 212], ['TYR', 'CA', 'C', 'sing', 'N', 'N', 213], ['TYR', 'CA', 'CB', 'sing', 'N', 'N', 214], ['TYR', 'CA', 'HA', 'sing', 'N', 'N', 215], ['TYR', 'C', 'O', 'doub', 'N', 'N', 216], ['TYR', 'C', 'OXT', 'sing', 'N', 'N', 217], ['TYR', 'CB', 'CG', 'sing', 'N', 'N', 218], ['TYR', 'CB', 'HB2', 'sing', 'N', 'N', 219], ['TYR', 'CB', 'HB3', 'sing', 'N', 'N', 220], ['TYR', 'CG', 'CD1', 'doub', 'Y', 'N', 221], ['TYR', 'CG', 'CD2', 'sing', 'Y', 'N', 222], ['TYR', 'CD1', 'CE1', 'sing', 'Y', 'N', 223], ['TYR', 'CD1', 'HD1', 'sing', 'N', 'N', 224], ['TYR', 'CD2', 'CE2', 'doub', 'Y', 'N', 225], ['TYR', 'CD2', 'HD2', 'sing', 'N', 'N', 226], ['TYR', 'CE1', 'CZ', 'doub', 'Y', 'N', 227], ['TYR', 'CE1', 'HE1', 'sing', 'N', 'N', 228], ['TYR', 'CE2', 'CZ', 'sing', 'Y', 'N', 229], ['TYR', 'CE2', 'HE2', 'sing', 'N', 'N', 230], ['TYR', 'CZ', 'OH', 'sing', 'N', 'N', 231], ['TYR', 'OH', 'HH', 'sing', 'N', 'N', 232], ['TYR', 'OXT', 'HXT', 'sing', 'N', 'N', 233]]\n",
       ")"
      ]
     },
     "execution_count": 62,
     "metadata": {},
     "output_type": "execute_result"
    }
   ],
   "source": [
    "item.getObj('chem_comp_bond')"
   ]
  },
  {
   "cell_type": "code",
   "execution_count": 65,
   "id": "965461c9-28c0-4f7a-a6b9-dc9d9f66ac3c",
   "metadata": {},
   "outputs": [
    {
     "data": {
      "text/plain": [
       "DataCategory(name:'atom_sites'\n",
       "attrbuteList: ['entry_id', 'fract_transf_matrix[1][1]', 'fract_transf_matrix[1][2]', 'fract_transf_matrix[1][3]', 'fract_transf_matrix[2][1]', 'fract_transf_matrix[2][2]', 'fract_transf_matrix[2][3]', 'fract_transf_matrix[3][1]', 'fract_transf_matrix[3][2]', 'fract_transf_matrix[3][3]', 'fract_transf_vector[1]', 'fract_transf_vector[2]', 'fract_transf_vector[3]']\n",
       "Data: [['1L2Y', 1.0, 0.0, 0.0, 0.0, 1.0, 0.0, 0.0, 0.0, 1.0, 0.0, 0.0, 0.0]]\n",
       ")"
      ]
     },
     "execution_count": 65,
     "metadata": {},
     "output_type": "execute_result"
    }
   ],
   "source": [
    "item.getObj('atom_sites')"
   ]
  },
  {
   "cell_type": "code",
   "execution_count": 66,
   "id": "5238f7ef-951c-4ea4-9682-0cfb3804451d",
   "metadata": {},
   "outputs": [
    {
     "data": {
      "text/plain": [
       "DataCategory(name:'atom_type'\n",
       "attrbuteList: ['symbol']\n",
       "Data: [['C'], ['H'], ['N'], ['O']]\n",
       ")"
      ]
     },
     "execution_count": 66,
     "metadata": {},
     "output_type": "execute_result"
    }
   ],
   "source": [
    "item.getObj('atom_type')"
   ]
  },
  {
   "cell_type": "code",
   "execution_count": 75,
   "id": "1cbd94b5-c3a2-4beb-8900-b13ff57cd98e",
   "metadata": {},
   "outputs": [],
   "source": [
    "datacategory_atom_site = item.getObj('atom_site')"
   ]
  },
  {
   "cell_type": "code",
   "execution_count": 104,
   "id": "0d4ba66b-0db7-42b0-ab24-533f4a3f79b5",
   "metadata": {},
   "outputs": [],
   "source": [
    "aa = { jj:ii for ii,jj in enumerate(datacategory_atom_site.getAttributeList())}"
   ]
  },
  {
   "cell_type": "code",
   "execution_count": 105,
   "id": "d08d57a0-d542-45a3-bd36-1cc02fb9d35e",
   "metadata": {},
   "outputs": [
    {
     "data": {
      "text/plain": [
       "{'group_PDB': 0,\n",
       " 'id': 1,\n",
       " 'type_symbol': 2,\n",
       " 'label_atom_id': 3,\n",
       " 'label_alt_id': 4,\n",
       " 'label_comp_id': 5,\n",
       " 'label_asym_id': 6,\n",
       " 'label_entity_id': 7,\n",
       " 'label_seq_id': 8,\n",
       " 'pdbx_PDB_ins_code': 9,\n",
       " 'Cartn_x': 10,\n",
       " 'Cartn_y': 11,\n",
       " 'Cartn_z': 12,\n",
       " 'occupancy': 13,\n",
       " 'B_iso_or_equiv': 14,\n",
       " 'pdbx_formal_charge': 15,\n",
       " 'auth_seq_id': 16,\n",
       " 'auth_comp_id': 17,\n",
       " 'auth_asym_id': 18,\n",
       " 'auth_atom_id': 19,\n",
       " 'pdbx_PDB_model_num': 20}"
      ]
     },
     "execution_count": 105,
     "metadata": {},
     "output_type": "execute_result"
    }
   ],
   "source": [
    "aa"
   ]
  },
  {
   "cell_type": "code",
   "execution_count": 116,
   "id": "22034e67-c065-4585-a0ea-4a9a0bcd25aa",
   "metadata": {},
   "outputs": [],
   "source": [
    "data = datacategory_atom_site.data"
   ]
  },
  {
   "cell_type": "code",
   "execution_count": 119,
   "id": "1814dc3d-06e8-454a-9125-50f9b082b4ff",
   "metadata": {},
   "outputs": [
    {
     "data": {
      "text/plain": [
       "'?'"
      ]
     },
     "execution_count": 119,
     "metadata": {},
     "output_type": "execute_result"
    }
   ],
   "source": [
    "data[1][15]"
   ]
  },
  {
   "cell_type": "code",
   "execution_count": 121,
   "id": "17732bcf-c56b-49cd-93b7-15a6ee5f0eb3",
   "metadata": {},
   "outputs": [
    {
     "name": "stdout",
     "output_type": "stream",
     "text": [
      "['ARG', 'N', 'N', 'N', 'N', 1]\n",
      "['ARG', 'CA', 'C', 'N', 'S', 2]\n",
      "['ARG', 'C', 'C', 'N', 'N', 3]\n",
      "['ARG', 'O', 'O', 'N', 'N', 4]\n",
      "['ARG', 'CB', 'C', 'N', 'N', 5]\n",
      "['ARG', 'CG', 'C', 'N', 'N', 6]\n",
      "['ARG', 'CD', 'C', 'N', 'N', 7]\n",
      "['ARG', 'NE', 'N', 'N', 'N', 8]\n",
      "['ARG', 'CZ', 'C', 'N', 'N', 9]\n",
      "['ARG', 'NH1', 'N', 'N', 'N', 10]\n",
      "['ARG', 'NH2', 'N', 'N', 'N', 11]\n",
      "['ARG', 'OXT', 'O', 'N', 'N', 12]\n",
      "['ARG', 'H', 'H', 'N', 'N', 13]\n",
      "['ARG', 'H2', 'H', 'N', 'N', 14]\n",
      "['ARG', 'HA', 'H', 'N', 'N', 15]\n",
      "['ARG', 'HB2', 'H', 'N', 'N', 16]\n",
      "['ARG', 'HB3', 'H', 'N', 'N', 17]\n",
      "['ARG', 'HG2', 'H', 'N', 'N', 18]\n",
      "['ARG', 'HG3', 'H', 'N', 'N', 19]\n",
      "['ARG', 'HD2', 'H', 'N', 'N', 20]\n",
      "['ARG', 'HD3', 'H', 'N', 'N', 21]\n",
      "['ARG', 'HE', 'H', 'N', 'N', 22]\n",
      "['ARG', 'HH11', 'H', 'N', 'N', 23]\n",
      "['ARG', 'HH12', 'H', 'N', 'N', 24]\n",
      "['ARG', 'HH21', 'H', 'N', 'N', 25]\n",
      "['ARG', 'HH22', 'H', 'N', 'N', 26]\n",
      "['ARG', 'HXT', 'H', 'N', 'N', 27]\n",
      "['ASN', 'N', 'N', 'N', 'N', 28]\n",
      "['ASN', 'CA', 'C', 'N', 'S', 29]\n",
      "['ASN', 'C', 'C', 'N', 'N', 30]\n",
      "['ASN', 'O', 'O', 'N', 'N', 31]\n",
      "['ASN', 'CB', 'C', 'N', 'N', 32]\n",
      "['ASN', 'CG', 'C', 'N', 'N', 33]\n",
      "['ASN', 'OD1', 'O', 'N', 'N', 34]\n",
      "['ASN', 'ND2', 'N', 'N', 'N', 35]\n",
      "['ASN', 'OXT', 'O', 'N', 'N', 36]\n",
      "['ASN', 'H', 'H', 'N', 'N', 37]\n",
      "['ASN', 'H2', 'H', 'N', 'N', 38]\n",
      "['ASN', 'HA', 'H', 'N', 'N', 39]\n",
      "['ASN', 'HB2', 'H', 'N', 'N', 40]\n",
      "['ASN', 'HB3', 'H', 'N', 'N', 41]\n",
      "['ASN', 'HD21', 'H', 'N', 'N', 42]\n",
      "['ASN', 'HD22', 'H', 'N', 'N', 43]\n",
      "['ASN', 'HXT', 'H', 'N', 'N', 44]\n",
      "['ASP', 'N', 'N', 'N', 'N', 45]\n",
      "['ASP', 'CA', 'C', 'N', 'S', 46]\n",
      "['ASP', 'C', 'C', 'N', 'N', 47]\n",
      "['ASP', 'O', 'O', 'N', 'N', 48]\n",
      "['ASP', 'CB', 'C', 'N', 'N', 49]\n",
      "['ASP', 'CG', 'C', 'N', 'N', 50]\n",
      "['ASP', 'OD1', 'O', 'N', 'N', 51]\n",
      "['ASP', 'OD2', 'O', 'N', 'N', 52]\n",
      "['ASP', 'OXT', 'O', 'N', 'N', 53]\n",
      "['ASP', 'H', 'H', 'N', 'N', 54]\n",
      "['ASP', 'H2', 'H', 'N', 'N', 55]\n",
      "['ASP', 'HA', 'H', 'N', 'N', 56]\n",
      "['ASP', 'HB2', 'H', 'N', 'N', 57]\n",
      "['ASP', 'HB3', 'H', 'N', 'N', 58]\n",
      "['ASP', 'HD2', 'H', 'N', 'N', 59]\n",
      "['ASP', 'HXT', 'H', 'N', 'N', 60]\n",
      "['GLN', 'N', 'N', 'N', 'N', 61]\n",
      "['GLN', 'CA', 'C', 'N', 'S', 62]\n",
      "['GLN', 'C', 'C', 'N', 'N', 63]\n",
      "['GLN', 'O', 'O', 'N', 'N', 64]\n",
      "['GLN', 'CB', 'C', 'N', 'N', 65]\n",
      "['GLN', 'CG', 'C', 'N', 'N', 66]\n",
      "['GLN', 'CD', 'C', 'N', 'N', 67]\n",
      "['GLN', 'OE1', 'O', 'N', 'N', 68]\n",
      "['GLN', 'NE2', 'N', 'N', 'N', 69]\n",
      "['GLN', 'OXT', 'O', 'N', 'N', 70]\n",
      "['GLN', 'H', 'H', 'N', 'N', 71]\n",
      "['GLN', 'H2', 'H', 'N', 'N', 72]\n",
      "['GLN', 'HA', 'H', 'N', 'N', 73]\n",
      "['GLN', 'HB2', 'H', 'N', 'N', 74]\n",
      "['GLN', 'HB3', 'H', 'N', 'N', 75]\n",
      "['GLN', 'HG2', 'H', 'N', 'N', 76]\n",
      "['GLN', 'HG3', 'H', 'N', 'N', 77]\n",
      "['GLN', 'HE21', 'H', 'N', 'N', 78]\n",
      "['GLN', 'HE22', 'H', 'N', 'N', 79]\n",
      "['GLN', 'HXT', 'H', 'N', 'N', 80]\n",
      "['GLY', 'N', 'N', 'N', 'N', 81]\n",
      "['GLY', 'CA', 'C', 'N', 'N', 82]\n",
      "['GLY', 'C', 'C', 'N', 'N', 83]\n",
      "['GLY', 'O', 'O', 'N', 'N', 84]\n",
      "['GLY', 'OXT', 'O', 'N', 'N', 85]\n",
      "['GLY', 'H', 'H', 'N', 'N', 86]\n",
      "['GLY', 'H2', 'H', 'N', 'N', 87]\n",
      "['GLY', 'HA2', 'H', 'N', 'N', 88]\n",
      "['GLY', 'HA3', 'H', 'N', 'N', 89]\n",
      "['GLY', 'HXT', 'H', 'N', 'N', 90]\n",
      "['ILE', 'N', 'N', 'N', 'N', 91]\n",
      "['ILE', 'CA', 'C', 'N', 'S', 92]\n",
      "['ILE', 'C', 'C', 'N', 'N', 93]\n",
      "['ILE', 'O', 'O', 'N', 'N', 94]\n",
      "['ILE', 'CB', 'C', 'N', 'S', 95]\n",
      "['ILE', 'CG1', 'C', 'N', 'N', 96]\n",
      "['ILE', 'CG2', 'C', 'N', 'N', 97]\n",
      "['ILE', 'CD1', 'C', 'N', 'N', 98]\n",
      "['ILE', 'OXT', 'O', 'N', 'N', 99]\n",
      "['ILE', 'H', 'H', 'N', 'N', 100]\n",
      "['ILE', 'H2', 'H', 'N', 'N', 101]\n",
      "['ILE', 'HA', 'H', 'N', 'N', 102]\n",
      "['ILE', 'HB', 'H', 'N', 'N', 103]\n",
      "['ILE', 'HG12', 'H', 'N', 'N', 104]\n",
      "['ILE', 'HG13', 'H', 'N', 'N', 105]\n",
      "['ILE', 'HG21', 'H', 'N', 'N', 106]\n",
      "['ILE', 'HG22', 'H', 'N', 'N', 107]\n",
      "['ILE', 'HG23', 'H', 'N', 'N', 108]\n",
      "['ILE', 'HD11', 'H', 'N', 'N', 109]\n",
      "['ILE', 'HD12', 'H', 'N', 'N', 110]\n",
      "['ILE', 'HD13', 'H', 'N', 'N', 111]\n",
      "['ILE', 'HXT', 'H', 'N', 'N', 112]\n",
      "['LEU', 'N', 'N', 'N', 'N', 113]\n",
      "['LEU', 'CA', 'C', 'N', 'S', 114]\n",
      "['LEU', 'C', 'C', 'N', 'N', 115]\n",
      "['LEU', 'O', 'O', 'N', 'N', 116]\n",
      "['LEU', 'CB', 'C', 'N', 'N', 117]\n",
      "['LEU', 'CG', 'C', 'N', 'N', 118]\n",
      "['LEU', 'CD1', 'C', 'N', 'N', 119]\n",
      "['LEU', 'CD2', 'C', 'N', 'N', 120]\n",
      "['LEU', 'OXT', 'O', 'N', 'N', 121]\n",
      "['LEU', 'H', 'H', 'N', 'N', 122]\n",
      "['LEU', 'H2', 'H', 'N', 'N', 123]\n",
      "['LEU', 'HA', 'H', 'N', 'N', 124]\n",
      "['LEU', 'HB2', 'H', 'N', 'N', 125]\n",
      "['LEU', 'HB3', 'H', 'N', 'N', 126]\n",
      "['LEU', 'HG', 'H', 'N', 'N', 127]\n",
      "['LEU', 'HD11', 'H', 'N', 'N', 128]\n",
      "['LEU', 'HD12', 'H', 'N', 'N', 129]\n",
      "['LEU', 'HD13', 'H', 'N', 'N', 130]\n",
      "['LEU', 'HD21', 'H', 'N', 'N', 131]\n",
      "['LEU', 'HD22', 'H', 'N', 'N', 132]\n",
      "['LEU', 'HD23', 'H', 'N', 'N', 133]\n",
      "['LEU', 'HXT', 'H', 'N', 'N', 134]\n",
      "['LYS', 'N', 'N', 'N', 'N', 135]\n",
      "['LYS', 'CA', 'C', 'N', 'S', 136]\n",
      "['LYS', 'C', 'C', 'N', 'N', 137]\n",
      "['LYS', 'O', 'O', 'N', 'N', 138]\n",
      "['LYS', 'CB', 'C', 'N', 'N', 139]\n",
      "['LYS', 'CG', 'C', 'N', 'N', 140]\n",
      "['LYS', 'CD', 'C', 'N', 'N', 141]\n",
      "['LYS', 'CE', 'C', 'N', 'N', 142]\n",
      "['LYS', 'NZ', 'N', 'N', 'N', 143]\n",
      "['LYS', 'OXT', 'O', 'N', 'N', 144]\n",
      "['LYS', 'H', 'H', 'N', 'N', 145]\n",
      "['LYS', 'H2', 'H', 'N', 'N', 146]\n",
      "['LYS', 'HA', 'H', 'N', 'N', 147]\n",
      "['LYS', 'HB2', 'H', 'N', 'N', 148]\n",
      "['LYS', 'HB3', 'H', 'N', 'N', 149]\n",
      "['LYS', 'HG2', 'H', 'N', 'N', 150]\n",
      "['LYS', 'HG3', 'H', 'N', 'N', 151]\n",
      "['LYS', 'HD2', 'H', 'N', 'N', 152]\n",
      "['LYS', 'HD3', 'H', 'N', 'N', 153]\n",
      "['LYS', 'HE2', 'H', 'N', 'N', 154]\n",
      "['LYS', 'HE3', 'H', 'N', 'N', 155]\n",
      "['LYS', 'HZ1', 'H', 'N', 'N', 156]\n",
      "['LYS', 'HZ2', 'H', 'N', 'N', 157]\n",
      "['LYS', 'HZ3', 'H', 'N', 'N', 158]\n",
      "['LYS', 'HXT', 'H', 'N', 'N', 159]\n",
      "['PRO', 'N', 'N', 'N', 'N', 160]\n",
      "['PRO', 'CA', 'C', 'N', 'S', 161]\n",
      "['PRO', 'C', 'C', 'N', 'N', 162]\n",
      "['PRO', 'O', 'O', 'N', 'N', 163]\n",
      "['PRO', 'CB', 'C', 'N', 'N', 164]\n",
      "['PRO', 'CG', 'C', 'N', 'N', 165]\n",
      "['PRO', 'CD', 'C', 'N', 'N', 166]\n",
      "['PRO', 'OXT', 'O', 'N', 'N', 167]\n",
      "['PRO', 'H', 'H', 'N', 'N', 168]\n",
      "['PRO', 'HA', 'H', 'N', 'N', 169]\n",
      "['PRO', 'HB2', 'H', 'N', 'N', 170]\n",
      "['PRO', 'HB3', 'H', 'N', 'N', 171]\n",
      "['PRO', 'HG2', 'H', 'N', 'N', 172]\n",
      "['PRO', 'HG3', 'H', 'N', 'N', 173]\n",
      "['PRO', 'HD2', 'H', 'N', 'N', 174]\n",
      "['PRO', 'HD3', 'H', 'N', 'N', 175]\n",
      "['PRO', 'HXT', 'H', 'N', 'N', 176]\n",
      "['SER', 'N', 'N', 'N', 'N', 177]\n",
      "['SER', 'CA', 'C', 'N', 'S', 178]\n",
      "['SER', 'C', 'C', 'N', 'N', 179]\n",
      "['SER', 'O', 'O', 'N', 'N', 180]\n",
      "['SER', 'CB', 'C', 'N', 'N', 181]\n",
      "['SER', 'OG', 'O', 'N', 'N', 182]\n",
      "['SER', 'OXT', 'O', 'N', 'N', 183]\n",
      "['SER', 'H', 'H', 'N', 'N', 184]\n",
      "['SER', 'H2', 'H', 'N', 'N', 185]\n",
      "['SER', 'HA', 'H', 'N', 'N', 186]\n",
      "['SER', 'HB2', 'H', 'N', 'N', 187]\n",
      "['SER', 'HB3', 'H', 'N', 'N', 188]\n",
      "['SER', 'HG', 'H', 'N', 'N', 189]\n",
      "['SER', 'HXT', 'H', 'N', 'N', 190]\n",
      "['TRP', 'N', 'N', 'N', 'N', 191]\n",
      "['TRP', 'CA', 'C', 'N', 'S', 192]\n",
      "['TRP', 'C', 'C', 'N', 'N', 193]\n",
      "['TRP', 'O', 'O', 'N', 'N', 194]\n",
      "['TRP', 'CB', 'C', 'N', 'N', 195]\n",
      "['TRP', 'CG', 'C', 'Y', 'N', 196]\n",
      "['TRP', 'CD1', 'C', 'Y', 'N', 197]\n",
      "['TRP', 'CD2', 'C', 'Y', 'N', 198]\n",
      "['TRP', 'NE1', 'N', 'Y', 'N', 199]\n",
      "['TRP', 'CE2', 'C', 'Y', 'N', 200]\n",
      "['TRP', 'CE3', 'C', 'Y', 'N', 201]\n",
      "['TRP', 'CZ2', 'C', 'Y', 'N', 202]\n",
      "['TRP', 'CZ3', 'C', 'Y', 'N', 203]\n",
      "['TRP', 'CH2', 'C', 'Y', 'N', 204]\n",
      "['TRP', 'OXT', 'O', 'N', 'N', 205]\n",
      "['TRP', 'H', 'H', 'N', 'N', 206]\n",
      "['TRP', 'H2', 'H', 'N', 'N', 207]\n",
      "['TRP', 'HA', 'H', 'N', 'N', 208]\n",
      "['TRP', 'HB2', 'H', 'N', 'N', 209]\n",
      "['TRP', 'HB3', 'H', 'N', 'N', 210]\n",
      "['TRP', 'HD1', 'H', 'N', 'N', 211]\n",
      "['TRP', 'HE1', 'H', 'N', 'N', 212]\n",
      "['TRP', 'HE3', 'H', 'N', 'N', 213]\n",
      "['TRP', 'HZ2', 'H', 'N', 'N', 214]\n",
      "['TRP', 'HZ3', 'H', 'N', 'N', 215]\n",
      "['TRP', 'HH2', 'H', 'N', 'N', 216]\n",
      "['TRP', 'HXT', 'H', 'N', 'N', 217]\n",
      "['TYR', 'N', 'N', 'N', 'N', 218]\n",
      "['TYR', 'CA', 'C', 'N', 'S', 219]\n",
      "['TYR', 'C', 'C', 'N', 'N', 220]\n",
      "['TYR', 'O', 'O', 'N', 'N', 221]\n",
      "['TYR', 'CB', 'C', 'N', 'N', 222]\n",
      "['TYR', 'CG', 'C', 'Y', 'N', 223]\n",
      "['TYR', 'CD1', 'C', 'Y', 'N', 224]\n",
      "['TYR', 'CD2', 'C', 'Y', 'N', 225]\n",
      "['TYR', 'CE1', 'C', 'Y', 'N', 226]\n",
      "['TYR', 'CE2', 'C', 'Y', 'N', 227]\n",
      "['TYR', 'CZ', 'C', 'Y', 'N', 228]\n",
      "['TYR', 'OH', 'O', 'N', 'N', 229]\n",
      "['TYR', 'OXT', 'O', 'N', 'N', 230]\n",
      "['TYR', 'H', 'H', 'N', 'N', 231]\n",
      "['TYR', 'H2', 'H', 'N', 'N', 232]\n",
      "['TYR', 'HA', 'H', 'N', 'N', 233]\n",
      "['TYR', 'HB2', 'H', 'N', 'N', 234]\n",
      "['TYR', 'HB3', 'H', 'N', 'N', 235]\n",
      "['TYR', 'HD1', 'H', 'N', 'N', 236]\n",
      "['TYR', 'HD2', 'H', 'N', 'N', 237]\n",
      "['TYR', 'HE1', 'H', 'N', 'N', 238]\n",
      "['TYR', 'HE2', 'H', 'N', 'N', 239]\n",
      "['TYR', 'HH', 'H', 'N', 'N', 240]\n",
      "['TYR', 'HXT', 'H', 'N', 'N', 241]\n"
     ]
    }
   ],
   "source": [
    "for ii in item.getObj('chem_comp_atom'):\n",
    "    print(ii)"
   ]
  },
  {
   "cell_type": "code",
   "execution_count": 120,
   "id": "f7a0329e-3bb3-4305-abb4-a2f261849b27",
   "metadata": {},
   "outputs": [
    {
     "name": "stdout",
     "output_type": "stream",
     "text": [
      "['ARG', 'N', 'CA', 'sing', 'N', 'N', 1]\n",
      "['ARG', 'N', 'H', 'sing', 'N', 'N', 2]\n",
      "['ARG', 'N', 'H2', 'sing', 'N', 'N', 3]\n",
      "['ARG', 'CA', 'C', 'sing', 'N', 'N', 4]\n",
      "['ARG', 'CA', 'CB', 'sing', 'N', 'N', 5]\n",
      "['ARG', 'CA', 'HA', 'sing', 'N', 'N', 6]\n",
      "['ARG', 'C', 'O', 'doub', 'N', 'N', 7]\n",
      "['ARG', 'C', 'OXT', 'sing', 'N', 'N', 8]\n",
      "['ARG', 'CB', 'CG', 'sing', 'N', 'N', 9]\n",
      "['ARG', 'CB', 'HB2', 'sing', 'N', 'N', 10]\n",
      "['ARG', 'CB', 'HB3', 'sing', 'N', 'N', 11]\n",
      "['ARG', 'CG', 'CD', 'sing', 'N', 'N', 12]\n",
      "['ARG', 'CG', 'HG2', 'sing', 'N', 'N', 13]\n",
      "['ARG', 'CG', 'HG3', 'sing', 'N', 'N', 14]\n",
      "['ARG', 'CD', 'NE', 'sing', 'N', 'N', 15]\n",
      "['ARG', 'CD', 'HD2', 'sing', 'N', 'N', 16]\n",
      "['ARG', 'CD', 'HD3', 'sing', 'N', 'N', 17]\n",
      "['ARG', 'NE', 'CZ', 'sing', 'N', 'N', 18]\n",
      "['ARG', 'NE', 'HE', 'sing', 'N', 'N', 19]\n",
      "['ARG', 'CZ', 'NH1', 'sing', 'N', 'N', 20]\n",
      "['ARG', 'CZ', 'NH2', 'doub', 'N', 'N', 21]\n",
      "['ARG', 'NH1', 'HH11', 'sing', 'N', 'N', 22]\n",
      "['ARG', 'NH1', 'HH12', 'sing', 'N', 'N', 23]\n",
      "['ARG', 'NH2', 'HH21', 'sing', 'N', 'N', 24]\n",
      "['ARG', 'NH2', 'HH22', 'sing', 'N', 'N', 25]\n",
      "['ARG', 'OXT', 'HXT', 'sing', 'N', 'N', 26]\n",
      "['ASN', 'N', 'CA', 'sing', 'N', 'N', 27]\n",
      "['ASN', 'N', 'H', 'sing', 'N', 'N', 28]\n",
      "['ASN', 'N', 'H2', 'sing', 'N', 'N', 29]\n",
      "['ASN', 'CA', 'C', 'sing', 'N', 'N', 30]\n",
      "['ASN', 'CA', 'CB', 'sing', 'N', 'N', 31]\n",
      "['ASN', 'CA', 'HA', 'sing', 'N', 'N', 32]\n",
      "['ASN', 'C', 'O', 'doub', 'N', 'N', 33]\n",
      "['ASN', 'C', 'OXT', 'sing', 'N', 'N', 34]\n",
      "['ASN', 'CB', 'CG', 'sing', 'N', 'N', 35]\n",
      "['ASN', 'CB', 'HB2', 'sing', 'N', 'N', 36]\n",
      "['ASN', 'CB', 'HB3', 'sing', 'N', 'N', 37]\n",
      "['ASN', 'CG', 'OD1', 'doub', 'N', 'N', 38]\n",
      "['ASN', 'CG', 'ND2', 'sing', 'N', 'N', 39]\n",
      "['ASN', 'ND2', 'HD21', 'sing', 'N', 'N', 40]\n",
      "['ASN', 'ND2', 'HD22', 'sing', 'N', 'N', 41]\n",
      "['ASN', 'OXT', 'HXT', 'sing', 'N', 'N', 42]\n",
      "['ASP', 'N', 'CA', 'sing', 'N', 'N', 43]\n",
      "['ASP', 'N', 'H', 'sing', 'N', 'N', 44]\n",
      "['ASP', 'N', 'H2', 'sing', 'N', 'N', 45]\n",
      "['ASP', 'CA', 'C', 'sing', 'N', 'N', 46]\n",
      "['ASP', 'CA', 'CB', 'sing', 'N', 'N', 47]\n",
      "['ASP', 'CA', 'HA', 'sing', 'N', 'N', 48]\n",
      "['ASP', 'C', 'O', 'doub', 'N', 'N', 49]\n",
      "['ASP', 'C', 'OXT', 'sing', 'N', 'N', 50]\n",
      "['ASP', 'CB', 'CG', 'sing', 'N', 'N', 51]\n",
      "['ASP', 'CB', 'HB2', 'sing', 'N', 'N', 52]\n",
      "['ASP', 'CB', 'HB3', 'sing', 'N', 'N', 53]\n",
      "['ASP', 'CG', 'OD1', 'doub', 'N', 'N', 54]\n",
      "['ASP', 'CG', 'OD2', 'sing', 'N', 'N', 55]\n",
      "['ASP', 'OD2', 'HD2', 'sing', 'N', 'N', 56]\n",
      "['ASP', 'OXT', 'HXT', 'sing', 'N', 'N', 57]\n",
      "['GLN', 'N', 'CA', 'sing', 'N', 'N', 58]\n",
      "['GLN', 'N', 'H', 'sing', 'N', 'N', 59]\n",
      "['GLN', 'N', 'H2', 'sing', 'N', 'N', 60]\n",
      "['GLN', 'CA', 'C', 'sing', 'N', 'N', 61]\n",
      "['GLN', 'CA', 'CB', 'sing', 'N', 'N', 62]\n",
      "['GLN', 'CA', 'HA', 'sing', 'N', 'N', 63]\n",
      "['GLN', 'C', 'O', 'doub', 'N', 'N', 64]\n",
      "['GLN', 'C', 'OXT', 'sing', 'N', 'N', 65]\n",
      "['GLN', 'CB', 'CG', 'sing', 'N', 'N', 66]\n",
      "['GLN', 'CB', 'HB2', 'sing', 'N', 'N', 67]\n",
      "['GLN', 'CB', 'HB3', 'sing', 'N', 'N', 68]\n",
      "['GLN', 'CG', 'CD', 'sing', 'N', 'N', 69]\n",
      "['GLN', 'CG', 'HG2', 'sing', 'N', 'N', 70]\n",
      "['GLN', 'CG', 'HG3', 'sing', 'N', 'N', 71]\n",
      "['GLN', 'CD', 'OE1', 'doub', 'N', 'N', 72]\n",
      "['GLN', 'CD', 'NE2', 'sing', 'N', 'N', 73]\n",
      "['GLN', 'NE2', 'HE21', 'sing', 'N', 'N', 74]\n",
      "['GLN', 'NE2', 'HE22', 'sing', 'N', 'N', 75]\n",
      "['GLN', 'OXT', 'HXT', 'sing', 'N', 'N', 76]\n",
      "['GLY', 'N', 'CA', 'sing', 'N', 'N', 77]\n",
      "['GLY', 'N', 'H', 'sing', 'N', 'N', 78]\n",
      "['GLY', 'N', 'H2', 'sing', 'N', 'N', 79]\n",
      "['GLY', 'CA', 'C', 'sing', 'N', 'N', 80]\n",
      "['GLY', 'CA', 'HA2', 'sing', 'N', 'N', 81]\n",
      "['GLY', 'CA', 'HA3', 'sing', 'N', 'N', 82]\n",
      "['GLY', 'C', 'O', 'doub', 'N', 'N', 83]\n",
      "['GLY', 'C', 'OXT', 'sing', 'N', 'N', 84]\n",
      "['GLY', 'OXT', 'HXT', 'sing', 'N', 'N', 85]\n",
      "['ILE', 'N', 'CA', 'sing', 'N', 'N', 86]\n",
      "['ILE', 'N', 'H', 'sing', 'N', 'N', 87]\n",
      "['ILE', 'N', 'H2', 'sing', 'N', 'N', 88]\n",
      "['ILE', 'CA', 'C', 'sing', 'N', 'N', 89]\n",
      "['ILE', 'CA', 'CB', 'sing', 'N', 'N', 90]\n",
      "['ILE', 'CA', 'HA', 'sing', 'N', 'N', 91]\n",
      "['ILE', 'C', 'O', 'doub', 'N', 'N', 92]\n",
      "['ILE', 'C', 'OXT', 'sing', 'N', 'N', 93]\n",
      "['ILE', 'CB', 'CG1', 'sing', 'N', 'N', 94]\n",
      "['ILE', 'CB', 'CG2', 'sing', 'N', 'N', 95]\n",
      "['ILE', 'CB', 'HB', 'sing', 'N', 'N', 96]\n",
      "['ILE', 'CG1', 'CD1', 'sing', 'N', 'N', 97]\n",
      "['ILE', 'CG1', 'HG12', 'sing', 'N', 'N', 98]\n",
      "['ILE', 'CG1', 'HG13', 'sing', 'N', 'N', 99]\n",
      "['ILE', 'CG2', 'HG21', 'sing', 'N', 'N', 100]\n",
      "['ILE', 'CG2', 'HG22', 'sing', 'N', 'N', 101]\n",
      "['ILE', 'CG2', 'HG23', 'sing', 'N', 'N', 102]\n",
      "['ILE', 'CD1', 'HD11', 'sing', 'N', 'N', 103]\n",
      "['ILE', 'CD1', 'HD12', 'sing', 'N', 'N', 104]\n",
      "['ILE', 'CD1', 'HD13', 'sing', 'N', 'N', 105]\n",
      "['ILE', 'OXT', 'HXT', 'sing', 'N', 'N', 106]\n",
      "['LEU', 'N', 'CA', 'sing', 'N', 'N', 107]\n",
      "['LEU', 'N', 'H', 'sing', 'N', 'N', 108]\n",
      "['LEU', 'N', 'H2', 'sing', 'N', 'N', 109]\n",
      "['LEU', 'CA', 'C', 'sing', 'N', 'N', 110]\n",
      "['LEU', 'CA', 'CB', 'sing', 'N', 'N', 111]\n",
      "['LEU', 'CA', 'HA', 'sing', 'N', 'N', 112]\n",
      "['LEU', 'C', 'O', 'doub', 'N', 'N', 113]\n",
      "['LEU', 'C', 'OXT', 'sing', 'N', 'N', 114]\n",
      "['LEU', 'CB', 'CG', 'sing', 'N', 'N', 115]\n",
      "['LEU', 'CB', 'HB2', 'sing', 'N', 'N', 116]\n",
      "['LEU', 'CB', 'HB3', 'sing', 'N', 'N', 117]\n",
      "['LEU', 'CG', 'CD1', 'sing', 'N', 'N', 118]\n",
      "['LEU', 'CG', 'CD2', 'sing', 'N', 'N', 119]\n",
      "['LEU', 'CG', 'HG', 'sing', 'N', 'N', 120]\n",
      "['LEU', 'CD1', 'HD11', 'sing', 'N', 'N', 121]\n",
      "['LEU', 'CD1', 'HD12', 'sing', 'N', 'N', 122]\n",
      "['LEU', 'CD1', 'HD13', 'sing', 'N', 'N', 123]\n",
      "['LEU', 'CD2', 'HD21', 'sing', 'N', 'N', 124]\n",
      "['LEU', 'CD2', 'HD22', 'sing', 'N', 'N', 125]\n",
      "['LEU', 'CD2', 'HD23', 'sing', 'N', 'N', 126]\n",
      "['LEU', 'OXT', 'HXT', 'sing', 'N', 'N', 127]\n",
      "['LYS', 'N', 'CA', 'sing', 'N', 'N', 128]\n",
      "['LYS', 'N', 'H', 'sing', 'N', 'N', 129]\n",
      "['LYS', 'N', 'H2', 'sing', 'N', 'N', 130]\n",
      "['LYS', 'CA', 'C', 'sing', 'N', 'N', 131]\n",
      "['LYS', 'CA', 'CB', 'sing', 'N', 'N', 132]\n",
      "['LYS', 'CA', 'HA', 'sing', 'N', 'N', 133]\n",
      "['LYS', 'C', 'O', 'doub', 'N', 'N', 134]\n",
      "['LYS', 'C', 'OXT', 'sing', 'N', 'N', 135]\n",
      "['LYS', 'CB', 'CG', 'sing', 'N', 'N', 136]\n",
      "['LYS', 'CB', 'HB2', 'sing', 'N', 'N', 137]\n",
      "['LYS', 'CB', 'HB3', 'sing', 'N', 'N', 138]\n",
      "['LYS', 'CG', 'CD', 'sing', 'N', 'N', 139]\n",
      "['LYS', 'CG', 'HG2', 'sing', 'N', 'N', 140]\n",
      "['LYS', 'CG', 'HG3', 'sing', 'N', 'N', 141]\n",
      "['LYS', 'CD', 'CE', 'sing', 'N', 'N', 142]\n",
      "['LYS', 'CD', 'HD2', 'sing', 'N', 'N', 143]\n",
      "['LYS', 'CD', 'HD3', 'sing', 'N', 'N', 144]\n",
      "['LYS', 'CE', 'NZ', 'sing', 'N', 'N', 145]\n",
      "['LYS', 'CE', 'HE2', 'sing', 'N', 'N', 146]\n",
      "['LYS', 'CE', 'HE3', 'sing', 'N', 'N', 147]\n",
      "['LYS', 'NZ', 'HZ1', 'sing', 'N', 'N', 148]\n",
      "['LYS', 'NZ', 'HZ2', 'sing', 'N', 'N', 149]\n",
      "['LYS', 'NZ', 'HZ3', 'sing', 'N', 'N', 150]\n",
      "['LYS', 'OXT', 'HXT', 'sing', 'N', 'N', 151]\n",
      "['PRO', 'N', 'CA', 'sing', 'N', 'N', 152]\n",
      "['PRO', 'N', 'CD', 'sing', 'N', 'N', 153]\n",
      "['PRO', 'N', 'H', 'sing', 'N', 'N', 154]\n",
      "['PRO', 'CA', 'C', 'sing', 'N', 'N', 155]\n",
      "['PRO', 'CA', 'CB', 'sing', 'N', 'N', 156]\n",
      "['PRO', 'CA', 'HA', 'sing', 'N', 'N', 157]\n",
      "['PRO', 'C', 'O', 'doub', 'N', 'N', 158]\n",
      "['PRO', 'C', 'OXT', 'sing', 'N', 'N', 159]\n",
      "['PRO', 'CB', 'CG', 'sing', 'N', 'N', 160]\n",
      "['PRO', 'CB', 'HB2', 'sing', 'N', 'N', 161]\n",
      "['PRO', 'CB', 'HB3', 'sing', 'N', 'N', 162]\n",
      "['PRO', 'CG', 'CD', 'sing', 'N', 'N', 163]\n",
      "['PRO', 'CG', 'HG2', 'sing', 'N', 'N', 164]\n",
      "['PRO', 'CG', 'HG3', 'sing', 'N', 'N', 165]\n",
      "['PRO', 'CD', 'HD2', 'sing', 'N', 'N', 166]\n",
      "['PRO', 'CD', 'HD3', 'sing', 'N', 'N', 167]\n",
      "['PRO', 'OXT', 'HXT', 'sing', 'N', 'N', 168]\n",
      "['SER', 'N', 'CA', 'sing', 'N', 'N', 169]\n",
      "['SER', 'N', 'H', 'sing', 'N', 'N', 170]\n",
      "['SER', 'N', 'H2', 'sing', 'N', 'N', 171]\n",
      "['SER', 'CA', 'C', 'sing', 'N', 'N', 172]\n",
      "['SER', 'CA', 'CB', 'sing', 'N', 'N', 173]\n",
      "['SER', 'CA', 'HA', 'sing', 'N', 'N', 174]\n",
      "['SER', 'C', 'O', 'doub', 'N', 'N', 175]\n",
      "['SER', 'C', 'OXT', 'sing', 'N', 'N', 176]\n",
      "['SER', 'CB', 'OG', 'sing', 'N', 'N', 177]\n",
      "['SER', 'CB', 'HB2', 'sing', 'N', 'N', 178]\n",
      "['SER', 'CB', 'HB3', 'sing', 'N', 'N', 179]\n",
      "['SER', 'OG', 'HG', 'sing', 'N', 'N', 180]\n",
      "['SER', 'OXT', 'HXT', 'sing', 'N', 'N', 181]\n",
      "['TRP', 'N', 'CA', 'sing', 'N', 'N', 182]\n",
      "['TRP', 'N', 'H', 'sing', 'N', 'N', 183]\n",
      "['TRP', 'N', 'H2', 'sing', 'N', 'N', 184]\n",
      "['TRP', 'CA', 'C', 'sing', 'N', 'N', 185]\n",
      "['TRP', 'CA', 'CB', 'sing', 'N', 'N', 186]\n",
      "['TRP', 'CA', 'HA', 'sing', 'N', 'N', 187]\n",
      "['TRP', 'C', 'O', 'doub', 'N', 'N', 188]\n",
      "['TRP', 'C', 'OXT', 'sing', 'N', 'N', 189]\n",
      "['TRP', 'CB', 'CG', 'sing', 'N', 'N', 190]\n",
      "['TRP', 'CB', 'HB2', 'sing', 'N', 'N', 191]\n",
      "['TRP', 'CB', 'HB3', 'sing', 'N', 'N', 192]\n",
      "['TRP', 'CG', 'CD1', 'doub', 'Y', 'N', 193]\n",
      "['TRP', 'CG', 'CD2', 'sing', 'Y', 'N', 194]\n",
      "['TRP', 'CD1', 'NE1', 'sing', 'Y', 'N', 195]\n",
      "['TRP', 'CD1', 'HD1', 'sing', 'N', 'N', 196]\n",
      "['TRP', 'CD2', 'CE2', 'doub', 'Y', 'N', 197]\n",
      "['TRP', 'CD2', 'CE3', 'sing', 'Y', 'N', 198]\n",
      "['TRP', 'NE1', 'CE2', 'sing', 'Y', 'N', 199]\n",
      "['TRP', 'NE1', 'HE1', 'sing', 'N', 'N', 200]\n",
      "['TRP', 'CE2', 'CZ2', 'sing', 'Y', 'N', 201]\n",
      "['TRP', 'CE3', 'CZ3', 'doub', 'Y', 'N', 202]\n",
      "['TRP', 'CE3', 'HE3', 'sing', 'N', 'N', 203]\n",
      "['TRP', 'CZ2', 'CH2', 'doub', 'Y', 'N', 204]\n",
      "['TRP', 'CZ2', 'HZ2', 'sing', 'N', 'N', 205]\n",
      "['TRP', 'CZ3', 'CH2', 'sing', 'Y', 'N', 206]\n",
      "['TRP', 'CZ3', 'HZ3', 'sing', 'N', 'N', 207]\n",
      "['TRP', 'CH2', 'HH2', 'sing', 'N', 'N', 208]\n",
      "['TRP', 'OXT', 'HXT', 'sing', 'N', 'N', 209]\n",
      "['TYR', 'N', 'CA', 'sing', 'N', 'N', 210]\n",
      "['TYR', 'N', 'H', 'sing', 'N', 'N', 211]\n",
      "['TYR', 'N', 'H2', 'sing', 'N', 'N', 212]\n",
      "['TYR', 'CA', 'C', 'sing', 'N', 'N', 213]\n",
      "['TYR', 'CA', 'CB', 'sing', 'N', 'N', 214]\n",
      "['TYR', 'CA', 'HA', 'sing', 'N', 'N', 215]\n",
      "['TYR', 'C', 'O', 'doub', 'N', 'N', 216]\n",
      "['TYR', 'C', 'OXT', 'sing', 'N', 'N', 217]\n",
      "['TYR', 'CB', 'CG', 'sing', 'N', 'N', 218]\n",
      "['TYR', 'CB', 'HB2', 'sing', 'N', 'N', 219]\n",
      "['TYR', 'CB', 'HB3', 'sing', 'N', 'N', 220]\n",
      "['TYR', 'CG', 'CD1', 'doub', 'Y', 'N', 221]\n",
      "['TYR', 'CG', 'CD2', 'sing', 'Y', 'N', 222]\n",
      "['TYR', 'CD1', 'CE1', 'sing', 'Y', 'N', 223]\n",
      "['TYR', 'CD1', 'HD1', 'sing', 'N', 'N', 224]\n",
      "['TYR', 'CD2', 'CE2', 'doub', 'Y', 'N', 225]\n",
      "['TYR', 'CD2', 'HD2', 'sing', 'N', 'N', 226]\n",
      "['TYR', 'CE1', 'CZ', 'doub', 'Y', 'N', 227]\n",
      "['TYR', 'CE1', 'HE1', 'sing', 'N', 'N', 228]\n",
      "['TYR', 'CE2', 'CZ', 'sing', 'Y', 'N', 229]\n",
      "['TYR', 'CE2', 'HE2', 'sing', 'N', 'N', 230]\n",
      "['TYR', 'CZ', 'OH', 'sing', 'N', 'N', 231]\n",
      "['TYR', 'OH', 'HH', 'sing', 'N', 'N', 232]\n",
      "['TYR', 'OXT', 'HXT', 'sing', 'N', 'N', 233]\n"
     ]
    }
   ],
   "source": [
    "for ii in item.getObj('chem_comp_bond'):\n",
    "    print(ii)"
   ]
  },
  {
   "cell_type": "code",
   "execution_count": null,
   "id": "1ca485ac-e179-49c5-8dbe-7f8a8394fd0c",
   "metadata": {},
   "outputs": [],
   "source": []
  }
 ],
 "metadata": {
  "kernelspec": {
   "display_name": "Python 3 (ipykernel)",
   "language": "python",
   "name": "python3"
  },
  "language_info": {
   "codemirror_mode": {
    "name": "ipython",
    "version": 3
   },
   "file_extension": ".py",
   "mimetype": "text/x-python",
   "name": "python",
   "nbconvert_exporter": "python",
   "pygments_lexer": "ipython3",
   "version": "3.10.14"
  }
 },
 "nbformat": 4,
 "nbformat_minor": 5
}
