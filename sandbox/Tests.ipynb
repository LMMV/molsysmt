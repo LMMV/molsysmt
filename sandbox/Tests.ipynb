{
 "cells": [
  {
   "cell_type": "markdown",
   "id": "c2f52c6d-731a-4ca3-b14b-0f83beafe76c",
   "metadata": {},
   "source": [
    "# Testing basic tools in documentation\n",
    "\n",
    "\n",
    "[x] Add    \n",
    "[x] Get\n"
   ]
  },
  {
   "cell_type": "code",
   "execution_count": null,
   "id": "89627ab5-532e-4815-ac94-3c3295fb685c",
   "metadata": {},
   "outputs": [],
   "source": [
    "import molsysmt as msm"
   ]
  },
  {
   "cell_type": "code",
   "execution_count": null,
   "id": "4cdc4f01-cba8-494c-b029-e3cb4e801786",
   "metadata": {},
   "outputs": [],
   "source": [
    "item = msm.convert('1L2Y', 'mmcif.PDbxContainers.DataContainer')"
   ]
  },
  {
   "cell_type": "code",
   "execution_count": null,
   "id": "fc350d26-81d7-4e7f-b3d0-f9bbd667e75f",
   "metadata": {},
   "outputs": [],
   "source": [
    "molsys = msm.convert('1L2Y')"
   ]
  },
  {
   "cell_type": "code",
   "execution_count": null,
   "id": "16e39fc3-548d-4ea0-8e08-7e6b717d9c04",
   "metadata": {},
   "outputs": [],
   "source": [
    "item.exists('entry')"
   ]
  },
  {
   "cell_type": "markdown",
   "id": "6b9a0c93-43a6-4d3d-a5f8-57cb1fd83d9c",
   "metadata": {},
   "source": [
    "# entity info"
   ]
  },
  {
   "cell_type": "code",
   "execution_count": null,
   "id": "bfe7fe96-8601-4fd4-ad93-880623cdc824",
   "metadata": {},
   "outputs": [],
   "source": [
    "item.getObj('entity')"
   ]
  },
  {
   "cell_type": "code",
   "execution_count": null,
   "id": "e6999407-b312-4033-8193-c66291325aa2",
   "metadata": {},
   "outputs": [],
   "source": [
    "item.getObj('entity_poly')"
   ]
  },
  {
   "cell_type": "code",
   "execution_count": null,
   "id": "8e82a2d1-889e-4e31-b428-8e49706ee7bd",
   "metadata": {},
   "outputs": [],
   "source": [
    "item.getObj('entity_poly_seq')"
   ]
  },
  {
   "cell_type": "code",
   "execution_count": null,
   "id": "cfe7c070-5735-4412-81b9-4f683d6d8391",
   "metadata": {},
   "outputs": [],
   "source": [
    "item.getObj('pdbx_poly_seq_scheme')"
   ]
  },
  {
   "cell_type": "code",
   "execution_count": null,
   "id": "1cbd94b5-c3a2-4beb-8900-b13ff57cd98e",
   "metadata": {},
   "outputs": [],
   "source": [
    "datacategory_atom_site = item.getObj('atom_site')"
   ]
  },
  {
   "cell_type": "code",
   "execution_count": null,
   "id": "0d4ba66b-0db7-42b0-ab24-533f4a3f79b5",
   "metadata": {},
   "outputs": [],
   "source": [
    "aa = { jj:ii for ii,jj in enumerate(datacategory_atom_site.getAttributeList())}"
   ]
  },
  {
   "cell_type": "code",
   "execution_count": null,
   "id": "d08d57a0-d542-45a3-bd36-1cc02fb9d35e",
   "metadata": {},
   "outputs": [],
   "source": [
    "aa"
   ]
  },
  {
   "cell_type": "code",
   "execution_count": null,
   "id": "22034e67-c065-4585-a0ea-4a9a0bcd25aa",
   "metadata": {},
   "outputs": [],
   "source": [
    "data = datacategory_atom_site.data"
   ]
  },
  {
   "cell_type": "code",
   "execution_count": null,
   "id": "1814dc3d-06e8-454a-9125-50f9b082b4ff",
   "metadata": {},
   "outputs": [],
   "source": [
    "data[1][15]"
   ]
  },
  {
   "cell_type": "code",
   "execution_count": null,
   "id": "17732bcf-c56b-49cd-93b7-15a6ee5f0eb3",
   "metadata": {},
   "outputs": [],
   "source": [
    "for ii in item.getObj('chem_comp_atom'):\n",
    "    print(ii)"
   ]
  },
  {
   "cell_type": "code",
   "execution_count": null,
   "id": "f7a0329e-3bb3-4305-abb4-a2f261849b27",
   "metadata": {},
   "outputs": [],
   "source": [
    "for ii in item.getObj('chem_comp_bond'):\n",
    "    print(ii)"
   ]
  },
  {
   "cell_type": "code",
   "execution_count": null,
   "id": "1ca485ac-e179-49c5-8dbe-7f8a8394fd0c",
   "metadata": {},
   "outputs": [],
   "source": [
    "item.getObjNameList()"
   ]
  },
  {
   "cell_type": "code",
   "execution_count": null,
   "id": "f0309fd0-27d9-46ea-9e78-3efee870797a",
   "metadata": {},
   "outputs": [],
   "source": []
  }
 ],
 "metadata": {
  "kernelspec": {
   "display_name": "Python 3 (ipykernel)",
   "language": "python",
   "name": "python3"
  },
  "language_info": {
   "codemirror_mode": {
    "name": "ipython",
    "version": 3
   },
   "file_extension": ".py",
   "mimetype": "text/x-python",
   "name": "python",
   "nbconvert_exporter": "python",
   "pygments_lexer": "ipython3",
   "version": "3.10.14"
  }
 },
 "nbformat": 4,
 "nbformat_minor": 5
}
