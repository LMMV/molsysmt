{
 "cells": [
  {
   "cell_type": "markdown",
   "id": "c2f52c6d-731a-4ca3-b14b-0f83beafe76c",
   "metadata": {},
   "source": [
    "# Testing basic tools in documentation\n",
    "\n",
    "\n",
    "[x] Add    \n",
    "[x] Get\n"
   ]
  },
  {
   "cell_type": "code",
   "execution_count": 1,
   "id": "89627ab5-532e-4815-ac94-3c3295fb685c",
   "metadata": {},
   "outputs": [
    {
     "data": {
      "application/vnd.jupyter.widget-view+json": {
       "model_id": "6624cf267c194ee4b4e6830259fe96b0",
       "version_major": 2,
       "version_minor": 0
      },
      "text/plain": []
     },
     "metadata": {},
     "output_type": "display_data"
    }
   ],
   "source": [
    "import molsysmt as msm"
   ]
  },
  {
   "cell_type": "code",
   "execution_count": 2,
   "id": "4cdc4f01-cba8-494c-b029-e3cb4e801786",
   "metadata": {},
   "outputs": [
    {
     "data": {
      "text/plain": [
       "'file:bcif'"
      ]
     },
     "execution_count": 2,
     "metadata": {},
     "output_type": "execute_result"
    }
   ],
   "source": [
    "msm.get_form('4hhb.bcif')"
   ]
  },
  {
   "cell_type": "code",
   "execution_count": null,
   "id": "6294af60-9cd8-4556-9f36-f25a3ef1cbe4",
   "metadata": {},
   "outputs": [],
   "source": [
    "type(aa)"
   ]
  },
  {
   "cell_type": "code",
   "execution_count": null,
   "id": "df7ec182-7a04-4885-8b63-35db44119fd0",
   "metadata": {},
   "outputs": [],
   "source": [
    "aa.deserialize('/home/diego/Downloads/5HVP.bcif')"
   ]
  },
  {
   "cell_type": "code",
   "execution_count": null,
   "id": "38bee25b-a464-4224-90e1-cefc4b67b9a4",
   "metadata": {},
   "outputs": [],
   "source": [
    "!wget https://models.rcsb.org/4hhb.bcif.gz"
   ]
  },
  {
   "cell_type": "code",
   "execution_count": null,
   "id": "0949d668-744d-45bf-9cfc-075af4d8ff31",
   "metadata": {},
   "outputs": [],
   "source": [
    "dd = aa.deserialize('https://models.rcsb.org/1L2Y.bcif.gz')"
   ]
  },
  {
   "cell_type": "code",
   "execution_count": null,
   "id": "86e53461-d0ae-4d48-a414-6e9309154058",
   "metadata": {},
   "outputs": [],
   "source": [
    "type(dd[0])"
   ]
  },
  {
   "cell_type": "code",
   "execution_count": null,
   "id": "837dff4a-b669-4158-aa6f-9aad02c9cb05",
   "metadata": {},
   "outputs": [],
   "source": [
    "cc.toJSON()"
   ]
  },
  {
   "cell_type": "code",
   "execution_count": null,
   "id": "55f911de-a504-4107-b168-2d264ea9b7d0",
   "metadata": {},
   "outputs": [],
   "source": [
    "!wget https://models.rcsb.org/4hhb.bcif"
   ]
  },
  {
   "cell_type": "code",
   "execution_count": null,
   "id": "2bb425d8-b6b0-4fab-8d34-9cb7f87785ad",
   "metadata": {},
   "outputs": [],
   "source": []
  }
 ],
 "metadata": {
  "kernelspec": {
   "display_name": "Python 3 (ipykernel)",
   "language": "python",
   "name": "python3"
  },
  "language_info": {
   "codemirror_mode": {
    "name": "ipython",
    "version": 3
   },
   "file_extension": ".py",
   "mimetype": "text/x-python",
   "name": "python",
   "nbconvert_exporter": "python",
   "pygments_lexer": "ipython3",
   "version": "3.10.14"
  }
 },
 "nbformat": 4,
 "nbformat_minor": 5
}
