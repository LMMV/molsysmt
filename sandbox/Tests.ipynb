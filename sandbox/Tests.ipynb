{
 "cells": [
  {
   "cell_type": "markdown",
   "id": "c2f52c6d-731a-4ca3-b14b-0f83beafe76c",
   "metadata": {},
   "source": [
    "# Tests\n",
    "\n"
   ]
  },
  {
   "cell_type": "code",
   "execution_count": 1,
   "id": "89627ab5-532e-4815-ac94-3c3295fb685c",
   "metadata": {},
   "outputs": [
    {
     "data": {
      "application/vnd.jupyter.widget-view+json": {
       "model_id": "46d949eecd564ca68a8a14520040513c",
       "version_major": 2,
       "version_minor": 0
      },
      "text/plain": []
     },
     "metadata": {},
     "output_type": "display_data"
    }
   ],
   "source": [
    "import molsysmt as msm"
   ]
  },
  {
   "cell_type": "code",
   "execution_count": 2,
   "id": "a075a7ea-85ce-4ce3-9719-94946b11f2d3",
   "metadata": {},
   "outputs": [],
   "source": [
    "alt_loc = msm.get('1BRS', alternate_location=True)"
   ]
  },
  {
   "cell_type": "code",
   "execution_count": null,
   "id": "310fef02-474d-4fe8-810a-078a535aeb02",
   "metadata": {},
   "outputs": [],
   "source": []
  },
  {
   "cell_type": "code",
   "execution_count": null,
   "id": "195cf9c5-e161-43c2-9f32-6658e6578554",
   "metadata": {},
   "outputs": [],
   "source": [
    "molsys = msm.convert('1BRS', to_form='molsysmt.MolSys')"
   ]
  },
  {
   "cell_type": "code",
   "execution_count": null,
   "id": "94c8f64a-1789-47a3-a72a-2e829ba1d397",
   "metadata": {},
   "outputs": [],
   "source": [
    "molsys = msm.build.mutate(molsys, mutations={1:'ALA', 2:'VAL'}, keys='group_index')"
   ]
  },
  {
   "cell_type": "code",
   "execution_count": null,
   "id": "6ff4d040-3ddd-4286-98f1-a2eb39a1d1e1",
   "metadata": {},
   "outputs": [],
   "source": [
    "msm.systems['Barnase-Barstar']['1brs.mmtf']"
   ]
  },
  {
   "cell_type": "code",
   "execution_count": null,
   "id": "7d349842-074d-46a9-80a1-b32c2199442b",
   "metadata": {},
   "outputs": [],
   "source": [
    "alt_loc = msm.get('1BRS', alternate_location=True)"
   ]
  }
 ],
 "metadata": {
  "kernelspec": {
   "display_name": "Python 3 (ipykernel)",
   "language": "python",
   "name": "python3"
  },
  "language_info": {
   "codemirror_mode": {
    "name": "ipython",
    "version": 3
   },
   "file_extension": ".py",
   "mimetype": "text/x-python",
   "name": "python",
   "nbconvert_exporter": "python",
   "pygments_lexer": "ipython3",
   "version": "3.11.9"
  }
 },
 "nbformat": 4,
 "nbformat_minor": 5
}
