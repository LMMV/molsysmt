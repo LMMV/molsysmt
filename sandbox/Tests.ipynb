{
 "cells": [
  {
   "cell_type": "markdown",
   "id": "c2f52c6d-731a-4ca3-b14b-0f83beafe76c",
   "metadata": {},
   "source": [
    "# Testing basic tools in documentation\n",
    "\n",
    "\n",
    "[x] Add    \n",
    "[x] Get\n"
   ]
  },
  {
   "cell_type": "code",
   "execution_count": 1,
   "id": "89627ab5-532e-4815-ac94-3c3295fb685c",
   "metadata": {},
   "outputs": [
    {
     "data": {
      "application/vnd.jupyter.widget-view+json": {
       "model_id": "899fb76405c546ffaa97be9f237d8ffc",
       "version_major": 2,
       "version_minor": 0
      },
      "text/plain": []
     },
     "metadata": {},
     "output_type": "display_data"
    }
   ],
   "source": [
    "import molsysmt as msm"
   ]
  },
  {
   "cell_type": "code",
   "execution_count": 2,
   "id": "4cdc4f01-cba8-494c-b029-e3cb4e801786",
   "metadata": {},
   "outputs": [],
   "source": [
    "item = msm.convert('1L2Y', 'mmcif.PDbxContainers.DataContainer')"
   ]
  },
  {
   "cell_type": "code",
   "execution_count": 3,
   "id": "fc350d26-81d7-4e7f-b3d0-f9bbd667e75f",
   "metadata": {},
   "outputs": [],
   "source": [
    "molsys = msm.convert(item)"
   ]
  },
  {
   "cell_type": "code",
   "execution_count": 9,
   "id": "5566a7ac-9928-4b79-a1dc-66d3c058e674",
   "metadata": {},
   "outputs": [
    {
     "data": {
      "text/html": [
       "<div>\n",
       "<style scoped>\n",
       "    .dataframe tbody tr th:only-of-type {\n",
       "        vertical-align: middle;\n",
       "    }\n",
       "\n",
       "    .dataframe tbody tr th {\n",
       "        vertical-align: top;\n",
       "    }\n",
       "\n",
       "    .dataframe thead th {\n",
       "        text-align: right;\n",
       "    }\n",
       "</style>\n",
       "<table border=\"1\" class=\"dataframe\">\n",
       "  <thead>\n",
       "    <tr style=\"text-align: right;\">\n",
       "      <th></th>\n",
       "      <th>chain_id</th>\n",
       "      <th>chain_name</th>\n",
       "      <th>chain_type</th>\n",
       "    </tr>\n",
       "  </thead>\n",
       "  <tbody>\n",
       "    <tr>\n",
       "      <th>0</th>\n",
       "      <td>A</td>\n",
       "      <td>A</td>\n",
       "      <td>nan</td>\n",
       "    </tr>\n",
       "  </tbody>\n",
       "</table>\n",
       "</div>"
      ],
      "text/plain": [
       "  chain_id chain_name chain_type\n",
       "0        A          A        nan"
      ]
     },
     "execution_count": 9,
     "metadata": {},
     "output_type": "execute_result"
    }
   ],
   "source": [
    "molsys.topology.chains"
   ]
  },
  {
   "cell_type": "code",
   "execution_count": null,
   "id": "f0309fd0-27d9-46ea-9e78-3efee870797a",
   "metadata": {},
   "outputs": [],
   "source": [
    "molsys.topology.bonds[0:50]"
   ]
  },
  {
   "cell_type": "code",
   "execution_count": null,
   "id": "ca2d6306-550e-4f01-b28b-d3564b5b2044",
   "metadata": {},
   "outputs": [],
   "source": []
  }
 ],
 "metadata": {
  "kernelspec": {
   "display_name": "Python 3 (ipykernel)",
   "language": "python",
   "name": "python3"
  },
  "language_info": {
   "codemirror_mode": {
    "name": "ipython",
    "version": 3
   },
   "file_extension": ".py",
   "mimetype": "text/x-python",
   "name": "python",
   "nbconvert_exporter": "python",
   "pygments_lexer": "ipython3",
   "version": "3.10.14"
  }
 },
 "nbformat": 4,
 "nbformat_minor": 5
}
