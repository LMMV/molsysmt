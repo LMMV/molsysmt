{
 "cells": [
  {
   "cell_type": "code",
   "execution_count": 1,
   "id": "77e6c021-6745-44dd-907e-6658f5b3820b",
   "metadata": {},
   "outputs": [],
   "source": [
    "%load_ext autoreload\n",
    "%autoreload 2"
   ]
  },
  {
   "cell_type": "markdown",
   "id": "36347de3-e9be-4e7e-a57c-75b89cb03bee",
   "metadata": {},
   "source": [
    "# Making systems"
   ]
  },
  {
   "cell_type": "code",
   "execution_count": 2,
   "id": "b4d434cd-f1c4-4b01-8d69-a7b4af5b0cd5",
   "metadata": {},
   "outputs": [
    {
     "data": {
      "application/vnd.jupyter.widget-view+json": {
       "model_id": "de4c9e812fa54ebe9159e5391aaff6f2",
       "version_major": 2,
       "version_minor": 0
      },
      "text/plain": []
     },
     "metadata": {},
     "output_type": "display_data"
    }
   ],
   "source": [
    "import molsysmt as msm"
   ]
  },
  {
   "cell_type": "code",
   "execution_count": 3,
   "id": "3f426a92-9fc6-4c1f-a987-cfc0e4792b99",
   "metadata": {},
   "outputs": [],
   "source": [
    "from molsysmt import systems\n",
    "import numpy as np"
   ]
  },
  {
   "cell_type": "code",
   "execution_count": 4,
   "id": "7fb51eda-0674-4bdf-bb44-5bc3d4f5aa62",
   "metadata": {},
   "outputs": [
    {
     "name": "stdout",
     "output_type": "stream",
     "text": [
      "Warning! The group name LRT is reserved in the Protein Data Bank for a small molecule, not for an amino acid.\n",
      "Warning! The group name YPL is reserved in the Protein Data Bank for a small molecule, not for an amino acid.\n",
      "Warning! The group name LRT is reserved in the Protein Data Bank for a small molecule, not for an amino acid.\n",
      "Warning! The group name YPL is reserved in the Protein Data Bank for a small molecule, not for an amino acid.\n"
     ]
    }
   ],
   "source": [
    "molsys = msm.convert([systems['nglview']['md_1u19.gro'], systems['nglview']['md_1u19.xtc']],\n",
    "                      to_form='molsysmt.MolSys')"
   ]
  },
  {
   "cell_type": "code",
   "execution_count": 5,
   "id": "37a521e3-5bc9-49f2-8102-358930d26844",
   "metadata": {},
   "outputs": [
    {
     "data": {
      "text/plain": [
       "5637"
      ]
     },
     "execution_count": 5,
     "metadata": {},
     "output_type": "execute_result"
    }
   ],
   "source": [
    "msm.get(molsys, n_bonds=True)"
   ]
  },
  {
   "cell_type": "code",
   "execution_count": 6,
   "id": "d7257bab-a411-43fc-b22e-ba5e57fa19ec",
   "metadata": {},
   "outputs": [],
   "source": [
    "view = msm.convert(molsys, to_form='nglview.NGLWidget')"
   ]
  },
  {
   "cell_type": "code",
   "execution_count": 7,
   "id": "43f2411f-799e-40d9-9dc1-7368c827c3e0",
   "metadata": {},
   "outputs": [
    {
     "name": "stdout",
     "output_type": "stream",
     "text": [
      "Warning! The group name LRT is reserved in the Protein Data Bank for a small molecule, not for an amino acid.\n",
      "Warning! The group name YPL is reserved in the Protein Data Bank for a small molecule, not for an amino acid.\n"
     ]
    },
    {
     "data": {
      "text/plain": [
       "5637"
      ]
     },
     "execution_count": 7,
     "metadata": {},
     "output_type": "execute_result"
    }
   ],
   "source": [
    "msm.get(view, n_bonds=True)"
   ]
  },
  {
   "cell_type": "code",
   "execution_count": 10,
   "id": "03fdc684-56a2-49b5-87c9-0acb191c59be",
   "metadata": {},
   "outputs": [
    {
     "name": "stdout",
     "output_type": "stream",
     "text": [
      "Warning! The group name LRT is reserved in the Protein Data Bank for a small molecule, not for an amino acid.\n",
      "Warning! The group name YPL is reserved in the Protein Data Bank for a small molecule, not for an amino acid.\n"
     ]
    }
   ],
   "source": [
    "check_comparison = msm.compare(molsys, view, attribute_type='topological', rule='equal')"
   ]
  },
  {
   "cell_type": "code",
   "execution_count": 11,
   "id": "cf504490-ba24-4a42-a1e7-bcbc75143d42",
   "metadata": {},
   "outputs": [
    {
     "data": {
      "text/plain": [
       "True"
      ]
     },
     "execution_count": 11,
     "metadata": {},
     "output_type": "execute_result"
    }
   ],
   "source": [
    "check_comparison"
   ]
  },
  {
   "cell_type": "code",
   "execution_count": null,
   "id": "b2925fb7-0ce7-4b4d-a8f6-baedc897eb55",
   "metadata": {},
   "outputs": [],
   "source": []
  }
 ],
 "metadata": {
  "kernelspec": {
   "display_name": "Python 3 (ipykernel)",
   "language": "python",
   "name": "python3"
  },
  "language_info": {
   "codemirror_mode": {
    "name": "ipython",
    "version": 3
   },
   "file_extension": ".py",
   "mimetype": "text/x-python",
   "name": "python",
   "nbconvert_exporter": "python",
   "pygments_lexer": "ipython3",
   "version": "3.10.14"
  }
 },
 "nbformat": 4,
 "nbformat_minor": 5
}
