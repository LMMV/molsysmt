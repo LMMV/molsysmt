{
 "cells": [
  {
   "cell_type": "code",
   "execution_count": 1,
   "id": "77e6c021-6745-44dd-907e-6658f5b3820b",
   "metadata": {},
   "outputs": [],
   "source": [
    "%load_ext autoreload\n",
    "%autoreload 2"
   ]
  },
  {
   "cell_type": "markdown",
   "id": "36347de3-e9be-4e7e-a57c-75b89cb03bee",
   "metadata": {},
   "source": [
    "# Making systems"
   ]
  },
  {
   "cell_type": "code",
   "execution_count": 2,
   "id": "b4d434cd-f1c4-4b01-8d69-a7b4af5b0cd5",
   "metadata": {},
   "outputs": [
    {
     "data": {
      "application/vnd.jupyter.widget-view+json": {
       "model_id": "19cd75824e8c421487894509d9ba7acf",
       "version_major": 2,
       "version_minor": 0
      },
      "text/plain": []
     },
     "metadata": {},
     "output_type": "display_data"
    }
   ],
   "source": [
    "import molsysmt as msm"
   ]
  },
  {
   "cell_type": "code",
   "execution_count": 3,
   "id": "3f426a92-9fc6-4c1f-a987-cfc0e4792b99",
   "metadata": {},
   "outputs": [],
   "source": [
    "from molsysmt import systems\n",
    "import numpy as np"
   ]
  },
  {
   "cell_type": "code",
   "execution_count": 8,
   "id": "6a3ac47f-9953-48b8-8ab4-3610761455a0",
   "metadata": {},
   "outputs": [],
   "source": [
    "item = msm.convert('pdb_id:1l2y', to_form='mmtf.MMTFDecoder')"
   ]
  },
  {
   "cell_type": "code",
   "execution_count": 9,
   "id": "031d1ebc-3c34-44ea-a6f2-524e8971ec30",
   "metadata": {},
   "outputs": [],
   "source": [
    "coordinates = np.column_stack([item.x_coord_list, item.y_coord_list, item.z_coord_list])"
   ]
  },
  {
   "cell_type": "code",
   "execution_count": 10,
   "id": "30beb7bd-36fd-49b6-b281-5a69e45de3a4",
   "metadata": {},
   "outputs": [],
   "source": [
    "coordinates = coordinates.reshape([-1, item.num_atoms, 3])"
   ]
  },
  {
   "cell_type": "code",
   "execution_count": 11,
   "id": "ee708c55-6981-4fa8-8623-7bf2938eae49",
   "metadata": {},
   "outputs": [
    {
     "data": {
      "text/plain": [
       "(1, 11552, 3)"
      ]
     },
     "execution_count": 11,
     "metadata": {},
     "output_type": "execute_result"
    }
   ],
   "source": [
    "coordinates.shape"
   ]
  },
  {
   "cell_type": "code",
   "execution_count": 14,
   "id": "04b29755-d938-4739-9435-c865a65ea76a",
   "metadata": {},
   "outputs": [
    {
     "data": {
      "text/plain": [
       "11552"
      ]
     },
     "execution_count": 14,
     "metadata": {},
     "output_type": "execute_result"
    }
   ],
   "source": [
    "item.num_atoms"
   ]
  },
  {
   "cell_type": "code",
   "execution_count": 19,
   "id": "5ffd8058-86d0-4f42-9fb3-c5781a41da9d",
   "metadata": {},
   "outputs": [
    {
     "data": {
      "text/plain": [
       "11552"
      ]
     },
     "execution_count": 19,
     "metadata": {},
     "output_type": "execute_result"
    }
   ],
   "source": [
    "item.num_models*304"
   ]
  },
  {
   "cell_type": "code",
   "execution_count": 65,
   "id": "227c1978-1155-4f8d-bf4e-2e2c2fd06bbb",
   "metadata": {},
   "outputs": [
    {
     "data": {
      "text/plain": [
       "760"
      ]
     },
     "execution_count": 65,
     "metadata": {},
     "output_type": "execute_result"
    }
   ],
   "source": [
    "len(item.sec_struct_list)"
   ]
  },
  {
   "cell_type": "code",
   "execution_count": 7,
   "id": "09122373-e2ed-4898-b60f-0bfd19b4ac57",
   "metadata": {},
   "outputs": [
    {
     "data": {
      "text/plain": [
       "11552"
      ]
     },
     "execution_count": 7,
     "metadata": {},
     "output_type": "execute_result"
    }
   ],
   "source": [
    "coordinates = np.column_stack([item.x_coord_list, item.y_coord_list, item.z_coord_list])\n",
    "coordinates = coordinates.reshape([-1, item.num_atoms, 3])\n",
    "coordinates = puw.quantity(coordinates, 'angstroms')\n",
    "coordinates = puw.standardize(coordinates)"
   ]
  },
  {
   "cell_type": "code",
   "execution_count": 66,
   "id": "8165caf4-39ef-4f07-87c8-92d32e71e93d",
   "metadata": {},
   "outputs": [
    {
     "data": {
      "text/plain": [
       "760"
      ]
     },
     "execution_count": 66,
     "metadata": {},
     "output_type": "execute_result"
    }
   ],
   "source": [
    "38*20"
   ]
  },
  {
   "cell_type": "code",
   "execution_count": 67,
   "id": "52146f9a-4d7c-409d-887a-1e3b3e082155",
   "metadata": {},
   "outputs": [],
   "source": [
    "item.unit_cell"
   ]
  },
  {
   "cell_type": "code",
   "execution_count": 69,
   "id": "5f54c17c-ae9e-4585-ab69-6cef9e1e846d",
   "metadata": {},
   "outputs": [],
   "source": [
    "import numpy as np"
   ]
  },
  {
   "cell_type": "code",
   "execution_count": 70,
   "id": "4ca0d174-a2cd-4db3-9e10-b2105acf2c03",
   "metadata": {},
   "outputs": [],
   "source": [
    "aa = np.array(item.alt_loc_list)"
   ]
  },
  {
   "cell_type": "code",
   "execution_count": null,
   "id": "ce984240-7d65-4115-8a8c-eb27681eb4b2",
   "metadata": {},
   "outputs": [],
   "source": []
  }
 ],
 "metadata": {
  "kernelspec": {
   "display_name": "Python 3 (ipykernel)",
   "language": "python",
   "name": "python3"
  },
  "language_info": {
   "codemirror_mode": {
    "name": "ipython",
    "version": 3
   },
   "file_extension": ".py",
   "mimetype": "text/x-python",
   "name": "python",
   "nbconvert_exporter": "python",
   "pygments_lexer": "ipython3",
   "version": "3.10.14"
  }
 },
 "nbformat": 4,
 "nbformat_minor": 5
}
