{
 "cells": [
  {
   "cell_type": "markdown",
   "id": "c2f52c6d-731a-4ca3-b14b-0f83beafe76c",
   "metadata": {},
   "source": [
    "# Testing basic tools in documentation\n",
    "\n",
    "\n",
    "[x] Add    \n",
    "[x] Get\n"
   ]
  },
  {
   "cell_type": "code",
   "execution_count": 1,
   "id": "89627ab5-532e-4815-ac94-3c3295fb685c",
   "metadata": {},
   "outputs": [
    {
     "data": {
      "application/vnd.jupyter.widget-view+json": {
       "model_id": "b530e942f6e445e98cd6a51db9614c96",
       "version_major": 2,
       "version_minor": 0
      },
      "text/plain": []
     },
     "metadata": {},
     "output_type": "display_data"
    }
   ],
   "source": [
    "import molsysmt as msm"
   ]
  },
  {
   "cell_type": "code",
   "execution_count": 2,
   "id": "4cdc4f01-cba8-494c-b029-e3cb4e801786",
   "metadata": {},
   "outputs": [],
   "source": [
    "item = msm.convert('1L2Y', 'mmcif.PdbxContainers.DataContainer')"
   ]
  },
  {
   "cell_type": "code",
   "execution_count": 3,
   "id": "16e39fc3-548d-4ea0-8e08-7e6b717d9c04",
   "metadata": {},
   "outputs": [
    {
     "data": {
      "text/plain": [
       "True"
      ]
     },
     "execution_count": 3,
     "metadata": {},
     "output_type": "execute_result"
    }
   ],
   "source": [
    "item.exists('entry')"
   ]
  },
  {
   "cell_type": "markdown",
   "id": "6b9a0c93-43a6-4d3d-a5f8-57cb1fd83d9c",
   "metadata": {},
   "source": [
    "# entity info"
   ]
  },
  {
   "cell_type": "code",
   "execution_count": 4,
   "id": "bfe7fe96-8601-4fd4-ad93-880623cdc824",
   "metadata": {},
   "outputs": [
    {
     "data": {
      "text/plain": [
       "DataCategory(name:'entity'\n",
       "attrbuteList: ['id', 'type', 'src_method', 'pdbx_description', 'formula_weight', 'pdbx_number_of_molecules', 'pdbx_ec', 'pdbx_mutation', 'pdbx_fragment', 'details']\n",
       "Data: [[1, 'polymer', 'syn', 'TC5b', 2171.413, 1, '?', '?', '?', '?']]\n",
       ")"
      ]
     },
     "execution_count": 4,
     "metadata": {},
     "output_type": "execute_result"
    }
   ],
   "source": [
    "item.getObj('entity')"
   ]
  },
  {
   "cell_type": "code",
   "execution_count": null,
   "id": "e6999407-b312-4033-8193-c66291325aa2",
   "metadata": {},
   "outputs": [],
   "source": [
    "item.getObj('entity_poly')"
   ]
  },
  {
   "cell_type": "code",
   "execution_count": null,
   "id": "8e82a2d1-889e-4e31-b428-8e49706ee7bd",
   "metadata": {},
   "outputs": [],
   "source": [
    "item.getObj('entity_poly_seq')"
   ]
  },
  {
   "cell_type": "code",
   "execution_count": null,
   "id": "d5200b58-18fd-4163-851a-e797a240733e",
   "metadata": {},
   "outputs": [],
   "source": [
    "item.getObj('chem_comp')"
   ]
  },
  {
   "cell_type": "code",
   "execution_count": null,
   "id": "cfe7c070-5735-4412-81b9-4f683d6d8391",
   "metadata": {},
   "outputs": [],
   "source": [
    "item.getObj('pdbx_poly_seq_scheme')"
   ]
  },
  {
   "cell_type": "code",
   "execution_count": null,
   "id": "1250fe63-51c4-4cd3-ad63-dd0bd94e2937",
   "metadata": {},
   "outputs": [],
   "source": [
    "item.getObj('database_PDB_matrix')"
   ]
  },
  {
   "cell_type": "code",
   "execution_count": null,
   "id": "9fe3c2df-806c-4b74-ba1f-b4ec66ab2926",
   "metadata": {},
   "outputs": [],
   "source": [
    "item.getObj('pdbx_struct_assembly')"
   ]
  },
  {
   "cell_type": "code",
   "execution_count": null,
   "id": "5bec9660-0688-41ae-8df0-8a7984eac26b",
   "metadata": {},
   "outputs": [],
   "source": [
    "item.getObj('pdbx_struct_assembly_gen')"
   ]
  },
  {
   "cell_type": "code",
   "execution_count": null,
   "id": "4d082ba7-a82d-4779-b7df-c50fc0dd81fd",
   "metadata": {},
   "outputs": [],
   "source": [
    "item.getObj('pdbx_struct_oper_list')"
   ]
  },
  {
   "cell_type": "code",
   "execution_count": null,
   "id": "2e07060d-a80f-4496-839c-3f3b1c21d15d",
   "metadata": {},
   "outputs": [],
   "source": [
    "item.getObj('struct_conf')"
   ]
  },
  {
   "cell_type": "code",
   "execution_count": null,
   "id": "2d355ee8-0b95-4ebb-9996-db468bfe8464",
   "metadata": {},
   "outputs": [],
   "source": [
    "item.getObj('struct_conf_type')"
   ]
  },
  {
   "cell_type": "code",
   "execution_count": null,
   "id": "aba54dfa-45cf-4983-876b-0f9ece958909",
   "metadata": {},
   "outputs": [],
   "source": [
    "item.getObj('chem_comp_atom')"
   ]
  },
  {
   "cell_type": "code",
   "execution_count": null,
   "id": "ae5cad70-f387-4fe7-b1da-086470d3660b",
   "metadata": {},
   "outputs": [],
   "source": [
    "item.exists('chem_comp_bond')"
   ]
  },
  {
   "cell_type": "code",
   "execution_count": null,
   "id": "965461c9-28c0-4f7a-a6b9-dc9d9f66ac3c",
   "metadata": {},
   "outputs": [],
   "source": [
    "item.getObj('atom_sites')"
   ]
  },
  {
   "cell_type": "code",
   "execution_count": null,
   "id": "5238f7ef-951c-4ea4-9682-0cfb3804451d",
   "metadata": {},
   "outputs": [],
   "source": [
    "item.getObj('atom_type')"
   ]
  },
  {
   "cell_type": "code",
   "execution_count": null,
   "id": "1cbd94b5-c3a2-4beb-8900-b13ff57cd98e",
   "metadata": {},
   "outputs": [],
   "source": [
    "datacategory_atom_site = item.getObj('atom_site')"
   ]
  },
  {
   "cell_type": "code",
   "execution_count": null,
   "id": "0d4ba66b-0db7-42b0-ab24-533f4a3f79b5",
   "metadata": {},
   "outputs": [],
   "source": [
    "aa = { jj:ii for ii,jj in enumerate(datacategory_atom_site.getAttributeList())}"
   ]
  },
  {
   "cell_type": "code",
   "execution_count": null,
   "id": "d08d57a0-d542-45a3-bd36-1cc02fb9d35e",
   "metadata": {},
   "outputs": [],
   "source": [
    "aa"
   ]
  },
  {
   "cell_type": "code",
   "execution_count": null,
   "id": "22034e67-c065-4585-a0ea-4a9a0bcd25aa",
   "metadata": {},
   "outputs": [],
   "source": [
    "data = datacategory_atom_site.data"
   ]
  },
  {
   "cell_type": "code",
   "execution_count": null,
   "id": "1814dc3d-06e8-454a-9125-50f9b082b4ff",
   "metadata": {},
   "outputs": [],
   "source": [
    "data[1][15]"
   ]
  },
  {
   "cell_type": "code",
   "execution_count": null,
   "id": "17732bcf-c56b-49cd-93b7-15a6ee5f0eb3",
   "metadata": {},
   "outputs": [],
   "source": [
    "for ii in item.getObj('chem_comp_atom'):\n",
    "    print(ii)"
   ]
  },
  {
   "cell_type": "code",
   "execution_count": null,
   "id": "f7a0329e-3bb3-4305-abb4-a2f261849b27",
   "metadata": {},
   "outputs": [],
   "source": [
    "for ii in item.getObj('chem_comp_bond'):\n",
    "    print(ii)"
   ]
  },
  {
   "cell_type": "code",
   "execution_count": null,
   "id": "1ca485ac-e179-49c5-8dbe-7f8a8394fd0c",
   "metadata": {},
   "outputs": [],
   "source": [
    "item.getObjNameList()"
   ]
  },
  {
   "cell_type": "code",
   "execution_count": null,
   "id": "f0309fd0-27d9-46ea-9e78-3efee870797a",
   "metadata": {},
   "outputs": [],
   "source": []
  }
 ],
 "metadata": {
  "kernelspec": {
   "display_name": "Python 3 (ipykernel)",
   "language": "python",
   "name": "python3"
  },
  "language_info": {
   "codemirror_mode": {
    "name": "ipython",
    "version": 3
   },
   "file_extension": ".py",
   "mimetype": "text/x-python",
   "name": "python",
   "nbconvert_exporter": "python",
   "pygments_lexer": "ipython3",
   "version": "3.10.14"
  }
 },
 "nbformat": 4,
 "nbformat_minor": 5
}
