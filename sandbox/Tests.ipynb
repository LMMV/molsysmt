{
 "cells": [
  {
   "cell_type": "code",
   "execution_count": 1,
   "id": "77e6c021-6745-44dd-907e-6658f5b3820b",
   "metadata": {},
   "outputs": [],
   "source": [
    "%load_ext autoreload\n",
    "%autoreload 2"
   ]
  },
  {
   "cell_type": "markdown",
   "id": "36347de3-e9be-4e7e-a57c-75b89cb03bee",
   "metadata": {},
   "source": [
    "# Making systems"
   ]
  },
  {
   "cell_type": "code",
   "execution_count": 2,
   "id": "b4d434cd-f1c4-4b01-8d69-a7b4af5b0cd5",
   "metadata": {},
   "outputs": [
    {
     "data": {
      "application/vnd.jupyter.widget-view+json": {
       "model_id": "0811f066e5394efeb5ee09e8c0319569",
       "version_major": 2,
       "version_minor": 0
      },
      "text/plain": []
     },
     "metadata": {},
     "output_type": "display_data"
    }
   ],
   "source": [
    "import molsysmt as msm"
   ]
  },
  {
   "cell_type": "code",
   "execution_count": 3,
   "id": "3f426a92-9fc6-4c1f-a987-cfc0e4792b99",
   "metadata": {},
   "outputs": [],
   "source": [
    "from molsysmt import systems\n",
    "import numpy as np"
   ]
  },
  {
   "cell_type": "code",
   "execution_count": null,
   "id": "175c9905-31b2-44a0-9d9f-8293035a16e5",
   "metadata": {},
   "outputs": [],
   "source": []
  }
 ],
 "metadata": {
  "kernelspec": {
   "display_name": "Python 3 (ipykernel)",
   "language": "python",
   "name": "python3"
  },
  "language_info": {
   "codemirror_mode": {
    "name": "ipython",
    "version": 3
   },
   "file_extension": ".py",
   "mimetype": "text/x-python",
   "name": "python",
   "nbconvert_exporter": "python",
   "pygments_lexer": "ipython3",
   "version": "3.10.14"
  }
 },
 "nbformat": 4,
 "nbformat_minor": 5
}
