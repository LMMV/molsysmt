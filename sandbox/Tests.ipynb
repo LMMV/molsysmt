{
 "cells": [
  {
   "cell_type": "code",
   "execution_count": 1,
   "id": "77e6c021-6745-44dd-907e-6658f5b3820b",
   "metadata": {},
   "outputs": [],
   "source": [
    "%load_ext autoreload\n",
    "%autoreload 2"
   ]
  },
  {
   "cell_type": "markdown",
   "id": "36347de3-e9be-4e7e-a57c-75b89cb03bee",
   "metadata": {},
   "source": [
    "# Making systems"
   ]
  },
  {
   "cell_type": "code",
   "execution_count": 2,
   "id": "b4d434cd-f1c4-4b01-8d69-a7b4af5b0cd5",
   "metadata": {},
   "outputs": [
    {
     "data": {
      "application/vnd.jupyter.widget-view+json": {
       "model_id": "bcca1485b2b54ed38c8c807319befc47",
       "version_major": 2,
       "version_minor": 0
      },
      "text/plain": []
     },
     "metadata": {},
     "output_type": "display_data"
    }
   ],
   "source": [
    "import molsysmt as msm"
   ]
  },
  {
   "cell_type": "code",
   "execution_count": 3,
   "id": "3f426a92-9fc6-4c1f-a987-cfc0e4792b99",
   "metadata": {},
   "outputs": [],
   "source": [
    "from molsysmt import systems\n",
    "import numpy as np"
   ]
  },
  {
   "cell_type": "code",
   "execution_count": 4,
   "id": "57c6cb1f-90da-46fc-851b-b0eb1d6c904d",
   "metadata": {},
   "outputs": [],
   "source": [
    "molsys = msm.convert(systems['Met-enkephalin']['met_enkephalin.h5msm'], to_form='molsysmt.MolSys')"
   ]
  },
  {
   "cell_type": "code",
   "execution_count": 7,
   "id": "1b804c29-a8cb-4fa0-857a-e278c7061ba3",
   "metadata": {},
   "outputs": [
    {
     "data": {
      "text/plain": [
       "[[0, 1],\n",
       " [0, 2],\n",
       " [2, 3],\n",
       " [2, 4],\n",
       " [2, 19],\n",
       " [4, 5],\n",
       " [4, 6],\n",
       " [4, 7],\n",
       " [7, 8],\n",
       " [7, 17],\n",
       " [8, 9],\n",
       " [8, 10],\n",
       " [10, 11],\n",
       " [10, 12],\n",
       " [12, 13],\n",
       " [12, 15],\n",
       " [13, 14],\n",
       " [15, 16],\n",
       " [15, 17],\n",
       " [17, 18],\n",
       " [19, 20],\n",
       " [19, 21],\n",
       " [21, 22],\n",
       " [21, 23],\n",
       " [23, 24],\n",
       " [23, 25],\n",
       " [23, 26],\n",
       " [26, 27],\n",
       " [26, 28],\n",
       " [28, 29],\n",
       " [28, 30],\n",
       " [30, 31],\n",
       " [30, 32],\n",
       " [30, 33],\n",
       " [33, 34],\n",
       " [33, 35],\n",
       " [35, 36],\n",
       " [35, 37],\n",
       " [37, 38],\n",
       " [37, 39],\n",
       " [37, 53],\n",
       " [39, 40],\n",
       " [39, 41],\n",
       " [39, 42],\n",
       " [42, 43],\n",
       " [42, 51],\n",
       " [43, 44],\n",
       " [43, 45],\n",
       " [45, 46],\n",
       " [45, 47],\n",
       " [47, 48],\n",
       " [47, 49],\n",
       " [49, 50],\n",
       " [49, 51],\n",
       " [51, 52],\n",
       " [53, 54],\n",
       " [53, 55],\n",
       " [55, 56],\n",
       " [55, 57],\n",
       " [57, 58],\n",
       " [57, 59],\n",
       " [57, 70],\n",
       " [59, 60],\n",
       " [59, 61],\n",
       " [59, 62],\n",
       " [62, 63],\n",
       " [62, 64],\n",
       " [62, 65],\n",
       " [65, 66],\n",
       " [66, 67],\n",
       " [66, 68],\n",
       " [66, 69],\n",
       " [70, 71]]"
      ]
     },
     "execution_count": 7,
     "metadata": {},
     "output_type": "execute_result"
    }
   ],
   "source": [
    "msm.get(molsys, element='atom', inner_bonded_atom_pairs=True)"
   ]
  },
  {
   "cell_type": "code",
   "execution_count": 5,
   "id": "42115b1d-d4a6-4ed1-aa5c-e5319b51bb71",
   "metadata": {},
   "outputs": [
    {
     "name": "stdout",
     "output_type": "stream",
     "text": [
      "[[2], [30, 35], [0, 19], [33, 37], [35, 53], [57], [2, 21], [19, 23], [37, 55], [21, 26], [53, 57], [55, 70], [23, 28], [26, 30], [28, 33]]\n"
     ]
    },
    {
     "ename": "NetworkXError",
     "evalue": "Edge tuple [2] must be a 2-tuple or 3-tuple.",
     "output_type": "error",
     "traceback": [
      "\u001b[0;31m---------------------------------------------------------------------------\u001b[0m",
      "\u001b[0;31mNetworkXError\u001b[0m                             Traceback (most recent call last)",
      "Cell \u001b[0;32mIn[5], line 1\u001b[0m\n\u001b[0;32m----> 1\u001b[0m covalent_chains \u001b[38;5;241m=\u001b[39m \u001b[43mmsm\u001b[49m\u001b[38;5;241;43m.\u001b[39;49m\u001b[43mtopology\u001b[49m\u001b[38;5;241;43m.\u001b[39;49m\u001b[43mget_covalent_chains\u001b[49m\u001b[43m(\u001b[49m\u001b[43mmolsys\u001b[49m\u001b[43m,\u001b[49m\u001b[43m \u001b[49m\u001b[43mchain\u001b[49m\u001b[38;5;241;43m=\u001b[39;49m\u001b[43m[\u001b[49m\u001b[38;5;124;43m'\u001b[39;49m\u001b[38;5;124;43matom_name==\u001b[39;49m\u001b[38;5;124;43m\"\u001b[39;49m\u001b[38;5;124;43mC\u001b[39;49m\u001b[38;5;124;43m\"\u001b[39;49m\u001b[38;5;124;43m'\u001b[39;49m\u001b[43m,\u001b[49m\u001b[43m \u001b[49m\u001b[38;5;124;43m'\u001b[39;49m\u001b[38;5;124;43matom_name==\u001b[39;49m\u001b[38;5;124;43m\"\u001b[39;49m\u001b[38;5;124;43mN\u001b[39;49m\u001b[38;5;124;43m\"\u001b[39;49m\u001b[38;5;124;43m'\u001b[39;49m\u001b[43m,\u001b[49m\n\u001b[1;32m      2\u001b[0m \u001b[43m                                                   \u001b[49m\u001b[38;5;124;43m'\u001b[39;49m\u001b[38;5;124;43matom_name==\u001b[39;49m\u001b[38;5;124;43m\"\u001b[39;49m\u001b[38;5;124;43mCA\u001b[39;49m\u001b[38;5;124;43m\"\u001b[39;49m\u001b[38;5;124;43m'\u001b[39;49m\u001b[43m,\u001b[49m\u001b[43m \u001b[49m\u001b[38;5;124;43m'\u001b[39;49m\u001b[38;5;124;43matom_name==\u001b[39;49m\u001b[38;5;124;43m\"\u001b[39;49m\u001b[38;5;124;43mC\u001b[39;49m\u001b[38;5;124;43m\"\u001b[39;49m\u001b[38;5;124;43m'\u001b[39;49m\u001b[43m]\u001b[49m\u001b[43m)\u001b[49m\n",
      "File \u001b[0;32m~/repos@uibcdf/MolSysMT/molsysmt/_private/digestion/digest.py:122\u001b[0m, in \u001b[0;36mdigest.<locals>.digestor.<locals>.wrapper\u001b[0;34m(*args, **kwargs)\u001b[0m\n\u001b[1;32m    120\u001b[0m     \u001b[38;5;28;01mreturn\u001b[39;00m func(all_args[\u001b[38;5;124m'\u001b[39m\u001b[38;5;124mself\u001b[39m\u001b[38;5;124m'\u001b[39m], \u001b[38;5;241m*\u001b[39m\u001b[38;5;241m*\u001b[39mfinal_args)\n\u001b[1;32m    121\u001b[0m \u001b[38;5;28;01melse\u001b[39;00m:\n\u001b[0;32m--> 122\u001b[0m     \u001b[38;5;28;01mreturn\u001b[39;00m \u001b[43mfunc\u001b[49m\u001b[43m(\u001b[49m\u001b[38;5;241;43m*\u001b[39;49m\u001b[38;5;241;43m*\u001b[39;49m\u001b[43mfinal_args\u001b[49m\u001b[43m)\u001b[49m\n",
      "File \u001b[0;32m~/repos@uibcdf/MolSysMT/molsysmt/topology/get_covalent_chains.py:27\u001b[0m, in \u001b[0;36mget_covalent_chains\u001b[0;34m(molecular_system, chain, selection, syntax)\u001b[0m\n\u001b[1;32m     23\u001b[0m     chain_atom_indices\u001b[38;5;241m.\u001b[39mappend(atom_indices)\n\u001b[1;32m     25\u001b[0m atom_indices \u001b[38;5;241m=\u001b[39m np\u001b[38;5;241m.\u001b[39msort(np\u001b[38;5;241m.\u001b[39munique(np\u001b[38;5;241m.\u001b[39mconcatenate(chain_atom_indices)))\n\u001b[0;32m---> 27\u001b[0m graph \u001b[38;5;241m=\u001b[39m \u001b[43mget_bondgraph\u001b[49m\u001b[43m(\u001b[49m\u001b[43mmolecular_system\u001b[49m\u001b[43m,\u001b[49m\u001b[43m \u001b[49m\u001b[43mselection\u001b[49m\u001b[38;5;241;43m=\u001b[39;49m\u001b[43matom_indices\u001b[49m\u001b[43m,\u001b[49m\u001b[43m \u001b[49m\u001b[43mnodes_name\u001b[49m\u001b[38;5;241;43m=\u001b[39;49m\u001b[38;5;124;43m'\u001b[39;49m\u001b[38;5;124;43matom_index\u001b[39;49m\u001b[38;5;124;43m'\u001b[39;49m\u001b[43m)\u001b[49m\n\u001b[1;32m     29\u001b[0m n_slaves \u001b[38;5;241m=\u001b[39m \u001b[38;5;28mlen\u001b[39m(chain_atom_indices)\n\u001b[1;32m     31\u001b[0m output \u001b[38;5;241m=\u001b[39m [[ii] \u001b[38;5;28;01mfor\u001b[39;00m ii \u001b[38;5;129;01min\u001b[39;00m chain_atom_indices[\u001b[38;5;241m0\u001b[39m]]\n",
      "File \u001b[0;32m~/repos@uibcdf/MolSysMT/molsysmt/_private/digestion/digest.py:122\u001b[0m, in \u001b[0;36mdigest.<locals>.digestor.<locals>.wrapper\u001b[0;34m(*args, **kwargs)\u001b[0m\n\u001b[1;32m    120\u001b[0m     \u001b[38;5;28;01mreturn\u001b[39;00m func(all_args[\u001b[38;5;124m'\u001b[39m\u001b[38;5;124mself\u001b[39m\u001b[38;5;124m'\u001b[39m], \u001b[38;5;241m*\u001b[39m\u001b[38;5;241m*\u001b[39mfinal_args)\n\u001b[1;32m    121\u001b[0m \u001b[38;5;28;01melse\u001b[39;00m:\n\u001b[0;32m--> 122\u001b[0m     \u001b[38;5;28;01mreturn\u001b[39;00m \u001b[43mfunc\u001b[49m\u001b[43m(\u001b[49m\u001b[38;5;241;43m*\u001b[39;49m\u001b[38;5;241;43m*\u001b[39;49m\u001b[43mfinal_args\u001b[49m\u001b[43m)\u001b[49m\n",
      "File \u001b[0;32m~/repos@uibcdf/MolSysMT/molsysmt/topology/get_bondgraph.py:34\u001b[0m, in \u001b[0;36mget_bondgraph\u001b[0;34m(molecular_system, nodes_name, selection, syntax, to_form)\u001b[0m\n\u001b[1;32m     32\u001b[0m     G\u001b[38;5;241m.\u001b[39madd_nodes_from(atom_indices)\n\u001b[1;32m     33\u001b[0m     \u001b[38;5;28mprint\u001b[39m(bonded_atoms)\n\u001b[0;32m---> 34\u001b[0m     \u001b[43mG\u001b[49m\u001b[38;5;241;43m.\u001b[39;49m\u001b[43madd_edges_from\u001b[49m\u001b[43m(\u001b[49m\u001b[43mbonded_atoms\u001b[49m\u001b[43m)\u001b[49m\n\u001b[1;32m     36\u001b[0m \u001b[38;5;28;01melse\u001b[39;00m:\n\u001b[1;32m     38\u001b[0m     \u001b[38;5;28;01mraise\u001b[39;00m \u001b[38;5;167;01mNotImplementedError\u001b[39;00m\n",
      "File \u001b[0;32m~/Myopt/miniconda3/envs/MolSysMT@uibcdf_3.10/lib/python3.10/site-packages/networkx/classes/graph.py:1024\u001b[0m, in \u001b[0;36mGraph.add_edges_from\u001b[0;34m(self, ebunch_to_add, **attr)\u001b[0m\n\u001b[1;32m   1022\u001b[0m     dd \u001b[38;5;241m=\u001b[39m {}  \u001b[38;5;66;03m# doesn't need edge_attr_dict_factory\u001b[39;00m\n\u001b[1;32m   1023\u001b[0m \u001b[38;5;28;01melse\u001b[39;00m:\n\u001b[0;32m-> 1024\u001b[0m     \u001b[38;5;28;01mraise\u001b[39;00m NetworkXError(\u001b[38;5;124mf\u001b[39m\u001b[38;5;124m\"\u001b[39m\u001b[38;5;124mEdge tuple \u001b[39m\u001b[38;5;132;01m{\u001b[39;00me\u001b[38;5;132;01m}\u001b[39;00m\u001b[38;5;124m must be a 2-tuple or 3-tuple.\u001b[39m\u001b[38;5;124m\"\u001b[39m)\n\u001b[1;32m   1025\u001b[0m \u001b[38;5;28;01mif\u001b[39;00m u \u001b[38;5;129;01mnot\u001b[39;00m \u001b[38;5;129;01min\u001b[39;00m \u001b[38;5;28mself\u001b[39m\u001b[38;5;241m.\u001b[39m_node:\n\u001b[1;32m   1026\u001b[0m     \u001b[38;5;28;01mif\u001b[39;00m u \u001b[38;5;129;01mis\u001b[39;00m \u001b[38;5;28;01mNone\u001b[39;00m:\n",
      "\u001b[0;31mNetworkXError\u001b[0m: Edge tuple [2] must be a 2-tuple or 3-tuple."
     ]
    }
   ],
   "source": [
    "covalent_chains = msm.topology.get_covalent_chains(molsys, chain=['atom_name==\"C\"', 'atom_name==\"N\"',\n",
    "                                                   'atom_name==\"CA\"', 'atom_name==\"C\"'])"
   ]
  },
  {
   "cell_type": "code",
   "execution_count": null,
   "id": "9d0956bf-ad74-4a93-9f7b-8e71c117d023",
   "metadata": {},
   "outputs": [],
   "source": [
    "    molsys = msm.convert(systems['Met-enkephalin']['met_enkephalin.h5msm'], to_form='molsysmt.MolSys')\n",
    "    covalent_chains = msm.topology.get_covalent_chains(molsys, chain=['atom_name==\"C\"', 'atom_name==\"N\"',\n",
    "                                                               'atom_name==\"CA\"', 'atom_name==\"C\"'])\n",
    "    dihedral_angles = msm.structure.get_dihedral_angles(molsys, quartets=covalent_chains[2])\n",
    "    check1 = np.allclose(np.array([[-180.0]]), msm.pyunitwizard.get_value(dihedral_angles, to_unit='degrees'))\n",
    "    check2 = np.allclose(np.array([[180.0]]), msm.pyunitwizard.get_value(dihedral_angles, to_unit='degrees'))\n",
    "    assert (check1 or check2)\n"
   ]
  }
 ],
 "metadata": {
  "kernelspec": {
   "display_name": "Python 3 (ipykernel)",
   "language": "python",
   "name": "python3"
  },
  "language_info": {
   "codemirror_mode": {
    "name": "ipython",
    "version": 3
   },
   "file_extension": ".py",
   "mimetype": "text/x-python",
   "name": "python",
   "nbconvert_exporter": "python",
   "pygments_lexer": "ipython3",
   "version": "3.10.14"
  }
 },
 "nbformat": 4,
 "nbformat_minor": 5
}
