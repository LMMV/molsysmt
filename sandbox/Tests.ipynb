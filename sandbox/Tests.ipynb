{
 "cells": [
  {
   "cell_type": "markdown",
   "id": "c2f52c6d-731a-4ca3-b14b-0f83beafe76c",
   "metadata": {},
   "source": [
    "# Testing basic tools in documentation"
   ]
  },
  {
   "cell_type": "code",
   "execution_count": null,
   "id": "3b398519-857b-4285-acda-2ab06dc1a500",
   "metadata": {},
   "outputs": [],
   "source": [
    "- add\n",
    "- get"
   ]
  },
  {
   "cell_type": "code",
   "execution_count": 1,
   "id": "38201afb-cab8-458e-80fd-5d4a2ba70998",
   "metadata": {
    "tags": []
   },
   "outputs": [
    {
     "data": {
      "application/vnd.jupyter.widget-view+json": {
       "model_id": "d620aba8e0c642e5bb323a114a996ebd",
       "version_major": 2,
       "version_minor": 0
      },
      "text/plain": []
     },
     "metadata": {},
     "output_type": "display_data"
    }
   ],
   "source": [
    "import molsysmt as msm"
   ]
  },
  {
   "cell_type": "code",
   "execution_count": 7,
   "id": "ea365ded-3b20-400f-b69d-22a3978acabf",
   "metadata": {},
   "outputs": [],
   "source": [
    "molecular_system_A = msm.build.build_peptide('AceProNme')\n",
    "molecular_system_B = msm.build.build_peptide('AceValNme')\n",
    "molecular_system_C = msm.build.build_peptide('AceLysNme')"
   ]
  },
  {
   "cell_type": "code",
   "execution_count": 8,
   "id": "985114ef-7534-44ea-91f9-4d23e87388a8",
   "metadata": {},
   "outputs": [],
   "source": [
    "molecular_system_B = msm.structure.translate(molecular_system_B, translation='[-1.0, 0.0, 0.0] nanometers')\n",
    "molecular_system_C = msm.structure.translate(molecular_system_C, translation='[1.0, 0.0, 0.0] nanometers')"
   ]
  },
  {
   "cell_type": "code",
   "execution_count": 9,
   "id": "8a4d4630-6940-4602-b0e5-fb82348e979a",
   "metadata": {},
   "outputs": [],
   "source": [
    "msm.add(molecular_system_A, molecular_system_B, keep_ids=False)"
   ]
  },
  {
   "cell_type": "code",
   "execution_count": 10,
   "id": "d3836b4c-f6a4-410a-a40c-db02c00b68e2",
   "metadata": {},
   "outputs": [
    {
     "data": {
      "text/html": [
       "<div>\n",
       "<style scoped>\n",
       "    .dataframe tbody tr th:only-of-type {\n",
       "        vertical-align: middle;\n",
       "    }\n",
       "\n",
       "    .dataframe tbody tr th {\n",
       "        vertical-align: top;\n",
       "    }\n",
       "\n",
       "    .dataframe thead th {\n",
       "        text-align: right;\n",
       "    }\n",
       "</style>\n",
       "<table border=\"1\" class=\"dataframe\">\n",
       "  <thead>\n",
       "    <tr style=\"text-align: right;\">\n",
       "      <th></th>\n",
       "      <th>chain_id</th>\n",
       "      <th>chain_name</th>\n",
       "      <th>chain_type</th>\n",
       "    </tr>\n",
       "  </thead>\n",
       "  <tbody>\n",
       "    <tr>\n",
       "      <th>0</th>\n",
       "      <td>0</td>\n",
       "      <td>A</td>\n",
       "      <td>peptide</td>\n",
       "    </tr>\n",
       "    <tr>\n",
       "      <th>1</th>\n",
       "      <td>1</td>\n",
       "      <td>A</td>\n",
       "      <td>peptide</td>\n",
       "    </tr>\n",
       "  </tbody>\n",
       "</table>\n",
       "</div>"
      ],
      "text/plain": [
       "   chain_id chain_name chain_type\n",
       "0         0          A    peptide\n",
       "1         1          A    peptide"
      ]
     },
     "execution_count": 10,
     "metadata": {},
     "output_type": "execute_result"
    }
   ],
   "source": [
    "molecular_system_A.topology.chains"
   ]
  },
  {
   "cell_type": "code",
   "execution_count": null,
   "id": "4fc959dc-9b4a-40b7-a9bb-0935e82fb249",
   "metadata": {},
   "outputs": [],
   "source": []
  }
 ],
 "metadata": {
  "kernelspec": {
   "display_name": "Python 3 (ipykernel)",
   "language": "python",
   "name": "python3"
  },
  "language_info": {
   "codemirror_mode": {
    "name": "ipython",
    "version": 3
   },
   "file_extension": ".py",
   "mimetype": "text/x-python",
   "name": "python",
   "nbconvert_exporter": "python",
   "pygments_lexer": "ipython3",
   "version": "3.10.14"
  }
 },
 "nbformat": 4,
 "nbformat_minor": 5
}
