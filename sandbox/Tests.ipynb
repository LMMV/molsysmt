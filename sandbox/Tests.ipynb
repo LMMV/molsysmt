{
 "cells": [
  {
   "cell_type": "markdown",
   "id": "c2f52c6d-731a-4ca3-b14b-0f83beafe76c",
   "metadata": {},
   "source": [
    "# Tests\n",
    "\n"
   ]
  },
  {
   "cell_type": "code",
   "execution_count": 1,
   "id": "89627ab5-532e-4815-ac94-3c3295fb685c",
   "metadata": {},
   "outputs": [
    {
     "data": {
      "application/vnd.jupyter.widget-view+json": {
       "model_id": "ea2e8c1e89bc4d219d42d82c9108c88f",
       "version_major": 2,
       "version_minor": 0
      },
      "text/plain": []
     },
     "metadata": {},
     "output_type": "display_data"
    }
   ],
   "source": [
    "import molsysmt as msm\n",
    "from molsysmt import systems"
   ]
  },
  {
   "cell_type": "code",
   "execution_count": 2,
   "id": "e4442462-d13a-4102-831e-53432b0b04de",
   "metadata": {},
   "outputs": [],
   "source": [
    "molsys_1 = msm.convert(systems['alanine dipeptide']['alanine_dipeptide.h5msm'], to_form='molsysmt.MolSys')"
   ]
  },
  {
   "cell_type": "code",
   "execution_count": 3,
   "id": "48649be7-9724-48f0-9f73-1c8ad9f577d2",
   "metadata": {},
   "outputs": [],
   "source": [
    "molsys_2 = msm.structure.translate(molsys_1, translation='[0.5, 0.0, 0.0] nm')"
   ]
  },
  {
   "cell_type": "code",
   "execution_count": 4,
   "id": "588d98cf-50f6-4a99-a562-d207ffb7e869",
   "metadata": {},
   "outputs": [],
   "source": [
    "molsys_merged = msm.merge([molsys_1, molsys_2], keep_ids=False)"
   ]
  },
  {
   "cell_type": "code",
   "execution_count": 5,
   "id": "038cd459-facb-47d5-ae4f-26deefc4a9e1",
   "metadata": {},
   "outputs": [],
   "source": [
    "msm.build.define_new_chain(molsys_merged)"
   ]
  },
  {
   "cell_type": "code",
   "execution_count": 6,
   "id": "8aa9e648-9c87-4701-bba5-3bf2d5aff9d9",
   "metadata": {},
   "outputs": [
    {
     "data": {
      "text/html": [
       "<div>\n",
       "<style scoped>\n",
       "    .dataframe tbody tr th:only-of-type {\n",
       "        vertical-align: middle;\n",
       "    }\n",
       "\n",
       "    .dataframe tbody tr th {\n",
       "        vertical-align: top;\n",
       "    }\n",
       "\n",
       "    .dataframe thead th {\n",
       "        text-align: right;\n",
       "    }\n",
       "</style>\n",
       "<table border=\"1\" class=\"dataframe\">\n",
       "  <thead>\n",
       "    <tr style=\"text-align: right;\">\n",
       "      <th></th>\n",
       "      <th>chain_id</th>\n",
       "      <th>chain_name</th>\n",
       "      <th>chain_type</th>\n",
       "    </tr>\n",
       "  </thead>\n",
       "  <tbody>\n",
       "    <tr>\n",
       "      <th>0</th>\n",
       "      <td>0</td>\n",
       "      <td>A</td>\n",
       "      <td>system</td>\n",
       "    </tr>\n",
       "  </tbody>\n",
       "</table>\n",
       "</div>"
      ],
      "text/plain": [
       "   chain_id chain_name chain_type\n",
       "0         0          A     system"
      ]
     },
     "execution_count": 6,
     "metadata": {},
     "output_type": "execute_result"
    }
   ],
   "source": [
    "molsys_merged.topology.chains"
   ]
  },
  {
   "cell_type": "code",
   "execution_count": 7,
   "id": "0d985652-a9f6-4617-b92e-c7fef89f24f6",
   "metadata": {},
   "outputs": [],
   "source": [
    "view = msm.view(molsys_merged, viewer='NGLView')"
   ]
  },
  {
   "cell_type": "code",
   "execution_count": 10,
   "id": "4eff5af0-50ea-4c4a-a6b9-73c21170159e",
   "metadata": {},
   "outputs": [],
   "source": [
    "comparison = msm.compare(view, molsys_merged, attribute_type='topological',\n",
    "             coordinates=True)"
   ]
  },
  {
   "cell_type": "code",
   "execution_count": 11,
   "id": "ddbf7195-e17f-43b4-a70a-8074f72d7ee5",
   "metadata": {},
   "outputs": [
    {
     "data": {
      "text/plain": [
       "True"
      ]
     },
     "execution_count": 11,
     "metadata": {},
     "output_type": "execute_result"
    }
   ],
   "source": [
    "comparison"
   ]
  },
  {
   "cell_type": "code",
   "execution_count": null,
   "id": "9c305a1e-1f6c-4ecf-8138-0f55ade00df8",
   "metadata": {},
   "outputs": [],
   "source": [
    "    molsys_1 = msm.convert(systems['alanine dipeptide']['alanine_dipeptide.h5msm'], to_form='molsysmt.MolSys')\n",
    "    molsys_2 = msm.structure.translate(molsys_1, translation='[0.5, 0.0, 0.0] nm')\n",
    "    molsys_merged = msm.merge([molsys_1, molsys_2], keep_ids=False)\n",
    "    msm.build.define_new_chain(molsys_merged, selection='all', chain_id=0, chain_name='A')\n",
    "    view = msm.view(molsys_merged, viewer='NGLView')\n",
    "    comparison = msm.compare(view, molsys_merged, attribute_type='topological',\n",
    "            coordinates=True)\n",
    "    assert comparison\n"
   ]
  }
 ],
 "metadata": {
  "kernelspec": {
   "display_name": "Python 3 (ipykernel)",
   "language": "python",
   "name": "python3"
  },
  "language_info": {
   "codemirror_mode": {
    "name": "ipython",
    "version": 3
   },
   "file_extension": ".py",
   "mimetype": "text/x-python",
   "name": "python",
   "nbconvert_exporter": "python",
   "pygments_lexer": "ipython3",
   "version": "3.11.9"
  }
 },
 "nbformat": 4,
 "nbformat_minor": 5
}
