{
 "cells": [
  {
   "cell_type": "markdown",
   "id": "c2f52c6d-731a-4ca3-b14b-0f83beafe76c",
   "metadata": {},
   "source": [
    "# Testing basic tools in documentation\n",
    "\n",
    "\n",
    "[x] \n",
    "\n",
    "\n"
   ]
  },
  {
   "cell_type": "code",
   "execution_count": null,
   "id": "89627ab5-532e-4815-ac94-3c3295fb685c",
   "metadata": {},
   "outputs": [],
   "source": [
    "import molsysmt as msm\n",
    "from molsysmt import systems"
   ]
  },
  {
   "cell_type": "code",
   "execution_count": null,
   "id": "a673846b-5259-4acc-a751-9a9df5ba7a46",
   "metadata": {},
   "outputs": [],
   "source": []
  }
 ],
 "metadata": {
  "kernelspec": {
   "display_name": "Python 3 (ipykernel)",
   "language": "python",
   "name": "python3"
  },
  "language_info": {
   "codemirror_mode": {
    "name": "ipython",
    "version": 3
   },
   "file_extension": ".py",
   "mimetype": "text/x-python",
   "name": "python",
   "nbconvert_exporter": "python",
   "pygments_lexer": "ipython3",
   "version": "3.10.14"
  }
 },
 "nbformat": 4,
 "nbformat_minor": 5
}
