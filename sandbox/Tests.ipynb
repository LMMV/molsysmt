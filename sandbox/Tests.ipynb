{
 "cells": [
  {
   "cell_type": "code",
   "execution_count": 1,
   "id": "77e6c021-6745-44dd-907e-6658f5b3820b",
   "metadata": {},
   "outputs": [],
   "source": [
    "%load_ext autoreload\n",
    "%autoreload 2"
   ]
  },
  {
   "cell_type": "markdown",
   "id": "36347de3-e9be-4e7e-a57c-75b89cb03bee",
   "metadata": {},
   "source": [
    "# Making systems"
   ]
  },
  {
   "cell_type": "code",
   "execution_count": 2,
   "id": "b4d434cd-f1c4-4b01-8d69-a7b4af5b0cd5",
   "metadata": {},
   "outputs": [
    {
     "data": {
      "application/vnd.jupyter.widget-view+json": {
       "model_id": "fb4ea09f623a435b8ab392f7b543b47d",
       "version_major": 2,
       "version_minor": 0
      },
      "text/plain": []
     },
     "metadata": {},
     "output_type": "display_data"
    }
   ],
   "source": [
    "import molsysmt as msm"
   ]
  },
  {
   "cell_type": "code",
   "execution_count": 3,
   "id": "3f426a92-9fc6-4c1f-a987-cfc0e4792b99",
   "metadata": {},
   "outputs": [],
   "source": [
    "from molsysmt import systems\n",
    "import numpy as np"
   ]
  },
  {
   "cell_type": "code",
   "execution_count": 4,
   "id": "effbea99-d147-4c87-96bd-894cd565a116",
   "metadata": {},
   "outputs": [],
   "source": [
    "molsys = systems['T4 lysozyme L99A']['t4_lysozyme_L99A.h5msm']"
   ]
  },
  {
   "cell_type": "code",
   "execution_count": 5,
   "id": "aa0a59f4-725f-4d2e-b6d8-4f0a32e32726",
   "metadata": {},
   "outputs": [],
   "source": [
    "molsys_ref = msm.convert(molsys, to_form='molsysmt.MolSys')"
   ]
  },
  {
   "cell_type": "code",
   "execution_count": 6,
   "id": "fafdcfd4-7339-4c7d-93ae-fb0627779dd9",
   "metadata": {},
   "outputs": [],
   "source": [
    "molecular_system = molsys_ref\n",
    "n_atoms = msm.get(molecular_system, n_atoms=True, skip_digestion=True)\n",
    "atoms_water = msm.select(molecular_system, selection='group_type==\"water\"', skip_digestion=True)\n",
    "atoms_not_water = msm._private.atom_indices.complementary_atom_indices(molecular_system, atoms_water)\n",
    "heavy_atoms_not_water = msm.select(molecular_system, selection='atom_type!=\"H\"', mask=atoms_not_water,\n",
    "                               skip_digestion=True)\n",
    "o_atoms_water = msm.select(molecular_system, selection='atom_type!=\"H\"', mask=atoms_water,\n",
    "                       skip_digestion=True)\n",
    "h_atoms_not_water = [ii for ii in atoms_not_water if ii not in heavy_atoms_not_water] \n",
    "h_atoms_water = [ii for ii in atoms_water if ii not in o_atoms_water] "
   ]
  },
  {
   "cell_type": "code",
   "execution_count": 19,
   "id": "ff4fd622-586d-428b-a6d4-a7df74af3cb5",
   "metadata": {},
   "outputs": [
    {
     "data": {
      "text/html": [
       "<table><tbody><tr><th>Magnitude</th><td style='text-align:left;'><pre>[[[0.1634146907261444]]]</pre></td></tr><tr><th>Units</th><td style='text-align:left;'>nanometer</td></tr></tbody></table>"
      ],
      "text/latex": [
       "$arr[,0,:,:] = \\begin{pmatrix}\\end{pmatrix}\\ \\mathrm{nanometer}$"
      ],
      "text/plain": [
       "array([[[0.16341469]]]) <Unit('nanometer')>"
      ]
     },
     "execution_count": 19,
     "metadata": {},
     "output_type": "execute_result"
    }
   ],
   "source": [
    "msm.structure.get_distances(molecular_system, selection=1, selection_2=6)"
   ]
  },
  {
   "cell_type": "code",
   "execution_count": 7,
   "id": "f83375bd-b82c-47c0-8afa-e424960b39d2",
   "metadata": {},
   "outputs": [
    {
     "data": {
      "text/plain": [
       "2645"
      ]
     },
     "execution_count": 7,
     "metadata": {},
     "output_type": "execute_result"
    }
   ],
   "source": [
    "msm.get(molsys_ref, n_bonds=True)"
   ]
  },
  {
   "cell_type": "code",
   "execution_count": 8,
   "id": "9dc3125c-8c88-458a-839d-8e1fb5f08a94",
   "metadata": {},
   "outputs": [],
   "source": [
    "msm.build.remove_bonds(molsys_ref)"
   ]
  },
  {
   "cell_type": "code",
   "execution_count": 9,
   "id": "0f2e011a-e04a-4eab-98f1-df632c2cc111",
   "metadata": {},
   "outputs": [
    {
     "data": {
      "text/plain": [
       "0"
      ]
     },
     "execution_count": 9,
     "metadata": {},
     "output_type": "execute_result"
    }
   ],
   "source": [
    "msm.get(molsys_ref, n_bonds=True)"
   ]
  },
  {
   "cell_type": "code",
   "execution_count": 10,
   "id": "2bfbe476-e055-4ba0-aaf4-7acefa3af748",
   "metadata": {},
   "outputs": [
    {
     "name": "stdout",
     "output_type": "stream",
     "text": [
      "templates and distances do not match\n"
     ]
    }
   ],
   "source": [
    "aa, bb = msm.build.get_missing_bonds(molsys_ref)"
   ]
  },
  {
   "cell_type": "code",
   "execution_count": 11,
   "id": "a03e5920-0979-4447-b51e-0bd06c02a49b",
   "metadata": {},
   "outputs": [
    {
     "data": {
      "text/plain": [
       "2699"
      ]
     },
     "execution_count": 11,
     "metadata": {},
     "output_type": "execute_result"
    }
   ],
   "source": [
    "len(aa)"
   ]
  },
  {
   "cell_type": "code",
   "execution_count": 16,
   "id": "333c0b7f-ff87-458f-8b17-3b39f3416b44",
   "metadata": {},
   "outputs": [
    {
     "data": {
      "text/plain": [
       "[0, 1]"
      ]
     },
     "execution_count": 16,
     "metadata": {},
     "output_type": "execute_result"
    }
   ],
   "source": [
    "aa[0]"
   ]
  },
  {
   "cell_type": "code",
   "execution_count": 13,
   "id": "85eb504d-6b8c-49dd-b907-2badaffb61a9",
   "metadata": {},
   "outputs": [
    {
     "data": {
      "text/plain": [
       "2645"
      ]
     },
     "execution_count": 13,
     "metadata": {},
     "output_type": "execute_result"
    }
   ],
   "source": [
    "len(bb)"
   ]
  },
  {
   "cell_type": "code",
   "execution_count": 15,
   "id": "5fda783f-e0d0-42f4-8d1e-b09173303e04",
   "metadata": {},
   "outputs": [
    {
     "data": {
      "text/html": [
       "<style type=\"text/css\">\n",
       "</style>\n",
       "<table id=\"T_3f218\">\n",
       "  <thead>\n",
       "    <tr>\n",
       "      <th id=\"T_3f218_level0_col0\" class=\"col_heading level0 col0\" >index</th>\n",
       "      <th id=\"T_3f218_level0_col1\" class=\"col_heading level0 col1\" >id</th>\n",
       "      <th id=\"T_3f218_level0_col2\" class=\"col_heading level0 col2\" >name</th>\n",
       "      <th id=\"T_3f218_level0_col3\" class=\"col_heading level0 col3\" >type</th>\n",
       "      <th id=\"T_3f218_level0_col4\" class=\"col_heading level0 col4\" >group index</th>\n",
       "      <th id=\"T_3f218_level0_col5\" class=\"col_heading level0 col5\" >group id</th>\n",
       "      <th id=\"T_3f218_level0_col6\" class=\"col_heading level0 col6\" >group name</th>\n",
       "      <th id=\"T_3f218_level0_col7\" class=\"col_heading level0 col7\" >group type</th>\n",
       "      <th id=\"T_3f218_level0_col8\" class=\"col_heading level0 col8\" >component index</th>\n",
       "      <th id=\"T_3f218_level0_col9\" class=\"col_heading level0 col9\" >chain index</th>\n",
       "      <th id=\"T_3f218_level0_col10\" class=\"col_heading level0 col10\" >molecule index</th>\n",
       "      <th id=\"T_3f218_level0_col11\" class=\"col_heading level0 col11\" >molecule type</th>\n",
       "      <th id=\"T_3f218_level0_col12\" class=\"col_heading level0 col12\" >entity index</th>\n",
       "      <th id=\"T_3f218_level0_col13\" class=\"col_heading level0 col13\" >entity name</th>\n",
       "    </tr>\n",
       "  </thead>\n",
       "  <tbody>\n",
       "    <tr>\n",
       "      <td id=\"T_3f218_row0_col0\" class=\"data row0 col0\" >0</td>\n",
       "      <td id=\"T_3f218_row0_col1\" class=\"data row0 col1\" >1</td>\n",
       "      <td id=\"T_3f218_row0_col2\" class=\"data row0 col2\" >C</td>\n",
       "      <td id=\"T_3f218_row0_col3\" class=\"data row0 col3\" >C</td>\n",
       "      <td id=\"T_3f218_row0_col4\" class=\"data row0 col4\" >0</td>\n",
       "      <td id=\"T_3f218_row0_col5\" class=\"data row0 col5\" >0</td>\n",
       "      <td id=\"T_3f218_row0_col6\" class=\"data row0 col6\" >ACE</td>\n",
       "      <td id=\"T_3f218_row0_col7\" class=\"data row0 col7\" >ACE</td>\n",
       "      <td id=\"T_3f218_row0_col8\" class=\"data row0 col8\" >0</td>\n",
       "      <td id=\"T_3f218_row0_col9\" class=\"data row0 col9\" >0</td>\n",
       "      <td id=\"T_3f218_row0_col10\" class=\"data row0 col10\" >0</td>\n",
       "      <td id=\"T_3f218_row0_col11\" class=\"data row0 col11\" >peptide</td>\n",
       "      <td id=\"T_3f218_row0_col12\" class=\"data row0 col12\" >0</td>\n",
       "      <td id=\"T_3f218_row0_col13\" class=\"data row0 col13\" >0</td>\n",
       "    </tr>\n",
       "    <tr>\n",
       "      <td id=\"T_3f218_row1_col0\" class=\"data row1 col0\" >1</td>\n",
       "      <td id=\"T_3f218_row1_col1\" class=\"data row1 col1\" >2</td>\n",
       "      <td id=\"T_3f218_row1_col2\" class=\"data row1 col2\" >O</td>\n",
       "      <td id=\"T_3f218_row1_col3\" class=\"data row1 col3\" >O</td>\n",
       "      <td id=\"T_3f218_row1_col4\" class=\"data row1 col4\" >0</td>\n",
       "      <td id=\"T_3f218_row1_col5\" class=\"data row1 col5\" >0</td>\n",
       "      <td id=\"T_3f218_row1_col6\" class=\"data row1 col6\" >ACE</td>\n",
       "      <td id=\"T_3f218_row1_col7\" class=\"data row1 col7\" >ACE</td>\n",
       "      <td id=\"T_3f218_row1_col8\" class=\"data row1 col8\" >0</td>\n",
       "      <td id=\"T_3f218_row1_col9\" class=\"data row1 col9\" >0</td>\n",
       "      <td id=\"T_3f218_row1_col10\" class=\"data row1 col10\" >0</td>\n",
       "      <td id=\"T_3f218_row1_col11\" class=\"data row1 col11\" >peptide</td>\n",
       "      <td id=\"T_3f218_row1_col12\" class=\"data row1 col12\" >0</td>\n",
       "      <td id=\"T_3f218_row1_col13\" class=\"data row1 col13\" >0</td>\n",
       "    </tr>\n",
       "    <tr>\n",
       "      <td id=\"T_3f218_row2_col0\" class=\"data row2 col0\" >2</td>\n",
       "      <td id=\"T_3f218_row2_col1\" class=\"data row2 col1\" >3</td>\n",
       "      <td id=\"T_3f218_row2_col2\" class=\"data row2 col2\" >CH3</td>\n",
       "      <td id=\"T_3f218_row2_col3\" class=\"data row2 col3\" >C</td>\n",
       "      <td id=\"T_3f218_row2_col4\" class=\"data row2 col4\" >0</td>\n",
       "      <td id=\"T_3f218_row2_col5\" class=\"data row2 col5\" >0</td>\n",
       "      <td id=\"T_3f218_row2_col6\" class=\"data row2 col6\" >ACE</td>\n",
       "      <td id=\"T_3f218_row2_col7\" class=\"data row2 col7\" >ACE</td>\n",
       "      <td id=\"T_3f218_row2_col8\" class=\"data row2 col8\" >0</td>\n",
       "      <td id=\"T_3f218_row2_col9\" class=\"data row2 col9\" >0</td>\n",
       "      <td id=\"T_3f218_row2_col10\" class=\"data row2 col10\" >0</td>\n",
       "      <td id=\"T_3f218_row2_col11\" class=\"data row2 col11\" >peptide</td>\n",
       "      <td id=\"T_3f218_row2_col12\" class=\"data row2 col12\" >0</td>\n",
       "      <td id=\"T_3f218_row2_col13\" class=\"data row2 col13\" >0</td>\n",
       "    </tr>\n",
       "    <tr>\n",
       "      <td id=\"T_3f218_row3_col0\" class=\"data row3 col0\" >3</td>\n",
       "      <td id=\"T_3f218_row3_col1\" class=\"data row3 col1\" >4</td>\n",
       "      <td id=\"T_3f218_row3_col2\" class=\"data row3 col2\" >H1</td>\n",
       "      <td id=\"T_3f218_row3_col3\" class=\"data row3 col3\" >H</td>\n",
       "      <td id=\"T_3f218_row3_col4\" class=\"data row3 col4\" >0</td>\n",
       "      <td id=\"T_3f218_row3_col5\" class=\"data row3 col5\" >0</td>\n",
       "      <td id=\"T_3f218_row3_col6\" class=\"data row3 col6\" >ACE</td>\n",
       "      <td id=\"T_3f218_row3_col7\" class=\"data row3 col7\" >ACE</td>\n",
       "      <td id=\"T_3f218_row3_col8\" class=\"data row3 col8\" >0</td>\n",
       "      <td id=\"T_3f218_row3_col9\" class=\"data row3 col9\" >0</td>\n",
       "      <td id=\"T_3f218_row3_col10\" class=\"data row3 col10\" >0</td>\n",
       "      <td id=\"T_3f218_row3_col11\" class=\"data row3 col11\" >peptide</td>\n",
       "      <td id=\"T_3f218_row3_col12\" class=\"data row3 col12\" >0</td>\n",
       "      <td id=\"T_3f218_row3_col13\" class=\"data row3 col13\" >0</td>\n",
       "    </tr>\n",
       "    <tr>\n",
       "      <td id=\"T_3f218_row4_col0\" class=\"data row4 col0\" >4</td>\n",
       "      <td id=\"T_3f218_row4_col1\" class=\"data row4 col1\" >5</td>\n",
       "      <td id=\"T_3f218_row4_col2\" class=\"data row4 col2\" >H2</td>\n",
       "      <td id=\"T_3f218_row4_col3\" class=\"data row4 col3\" >H</td>\n",
       "      <td id=\"T_3f218_row4_col4\" class=\"data row4 col4\" >0</td>\n",
       "      <td id=\"T_3f218_row4_col5\" class=\"data row4 col5\" >0</td>\n",
       "      <td id=\"T_3f218_row4_col6\" class=\"data row4 col6\" >ACE</td>\n",
       "      <td id=\"T_3f218_row4_col7\" class=\"data row4 col7\" >ACE</td>\n",
       "      <td id=\"T_3f218_row4_col8\" class=\"data row4 col8\" >0</td>\n",
       "      <td id=\"T_3f218_row4_col9\" class=\"data row4 col9\" >0</td>\n",
       "      <td id=\"T_3f218_row4_col10\" class=\"data row4 col10\" >0</td>\n",
       "      <td id=\"T_3f218_row4_col11\" class=\"data row4 col11\" >peptide</td>\n",
       "      <td id=\"T_3f218_row4_col12\" class=\"data row4 col12\" >0</td>\n",
       "      <td id=\"T_3f218_row4_col13\" class=\"data row4 col13\" >0</td>\n",
       "    </tr>\n",
       "    <tr>\n",
       "      <td id=\"T_3f218_row5_col0\" class=\"data row5 col0\" >5</td>\n",
       "      <td id=\"T_3f218_row5_col1\" class=\"data row5 col1\" >6</td>\n",
       "      <td id=\"T_3f218_row5_col2\" class=\"data row5 col2\" >H3</td>\n",
       "      <td id=\"T_3f218_row5_col3\" class=\"data row5 col3\" >H</td>\n",
       "      <td id=\"T_3f218_row5_col4\" class=\"data row5 col4\" >0</td>\n",
       "      <td id=\"T_3f218_row5_col5\" class=\"data row5 col5\" >0</td>\n",
       "      <td id=\"T_3f218_row5_col6\" class=\"data row5 col6\" >ACE</td>\n",
       "      <td id=\"T_3f218_row5_col7\" class=\"data row5 col7\" >ACE</td>\n",
       "      <td id=\"T_3f218_row5_col8\" class=\"data row5 col8\" >0</td>\n",
       "      <td id=\"T_3f218_row5_col9\" class=\"data row5 col9\" >0</td>\n",
       "      <td id=\"T_3f218_row5_col10\" class=\"data row5 col10\" >0</td>\n",
       "      <td id=\"T_3f218_row5_col11\" class=\"data row5 col11\" >peptide</td>\n",
       "      <td id=\"T_3f218_row5_col12\" class=\"data row5 col12\" >0</td>\n",
       "      <td id=\"T_3f218_row5_col13\" class=\"data row5 col13\" >0</td>\n",
       "    </tr>\n",
       "    <tr>\n",
       "      <td id=\"T_3f218_row6_col0\" class=\"data row6 col0\" >6</td>\n",
       "      <td id=\"T_3f218_row6_col1\" class=\"data row6 col1\" >7</td>\n",
       "      <td id=\"T_3f218_row6_col2\" class=\"data row6 col2\" >N</td>\n",
       "      <td id=\"T_3f218_row6_col3\" class=\"data row6 col3\" >N</td>\n",
       "      <td id=\"T_3f218_row6_col4\" class=\"data row6 col4\" >1</td>\n",
       "      <td id=\"T_3f218_row6_col5\" class=\"data row6 col5\" >1</td>\n",
       "      <td id=\"T_3f218_row6_col6\" class=\"data row6 col6\" >MET</td>\n",
       "      <td id=\"T_3f218_row6_col7\" class=\"data row6 col7\" >MET</td>\n",
       "      <td id=\"T_3f218_row6_col8\" class=\"data row6 col8\" >6</td>\n",
       "      <td id=\"T_3f218_row6_col9\" class=\"data row6 col9\" >0</td>\n",
       "      <td id=\"T_3f218_row6_col10\" class=\"data row6 col10\" >6</td>\n",
       "      <td id=\"T_3f218_row6_col11\" class=\"data row6 col11\" >peptide</td>\n",
       "      <td id=\"T_3f218_row6_col12\" class=\"data row6 col12\" >2</td>\n",
       "      <td id=\"T_3f218_row6_col13\" class=\"data row6 col13\" >2</td>\n",
       "    </tr>\n",
       "    <tr>\n",
       "      <td id=\"T_3f218_row7_col0\" class=\"data row7 col0\" >7</td>\n",
       "      <td id=\"T_3f218_row7_col1\" class=\"data row7 col1\" >8</td>\n",
       "      <td id=\"T_3f218_row7_col2\" class=\"data row7 col2\" >H</td>\n",
       "      <td id=\"T_3f218_row7_col3\" class=\"data row7 col3\" >H</td>\n",
       "      <td id=\"T_3f218_row7_col4\" class=\"data row7 col4\" >1</td>\n",
       "      <td id=\"T_3f218_row7_col5\" class=\"data row7 col5\" >1</td>\n",
       "      <td id=\"T_3f218_row7_col6\" class=\"data row7 col6\" >MET</td>\n",
       "      <td id=\"T_3f218_row7_col7\" class=\"data row7 col7\" >MET</td>\n",
       "      <td id=\"T_3f218_row7_col8\" class=\"data row7 col8\" >6</td>\n",
       "      <td id=\"T_3f218_row7_col9\" class=\"data row7 col9\" >0</td>\n",
       "      <td id=\"T_3f218_row7_col10\" class=\"data row7 col10\" >6</td>\n",
       "      <td id=\"T_3f218_row7_col11\" class=\"data row7 col11\" >peptide</td>\n",
       "      <td id=\"T_3f218_row7_col12\" class=\"data row7 col12\" >2</td>\n",
       "      <td id=\"T_3f218_row7_col13\" class=\"data row7 col13\" >2</td>\n",
       "    </tr>\n",
       "    <tr>\n",
       "      <td id=\"T_3f218_row8_col0\" class=\"data row8 col0\" >8</td>\n",
       "      <td id=\"T_3f218_row8_col1\" class=\"data row8 col1\" >9</td>\n",
       "      <td id=\"T_3f218_row8_col2\" class=\"data row8 col2\" >CA</td>\n",
       "      <td id=\"T_3f218_row8_col3\" class=\"data row8 col3\" >C</td>\n",
       "      <td id=\"T_3f218_row8_col4\" class=\"data row8 col4\" >1</td>\n",
       "      <td id=\"T_3f218_row8_col5\" class=\"data row8 col5\" >1</td>\n",
       "      <td id=\"T_3f218_row8_col6\" class=\"data row8 col6\" >MET</td>\n",
       "      <td id=\"T_3f218_row8_col7\" class=\"data row8 col7\" >MET</td>\n",
       "      <td id=\"T_3f218_row8_col8\" class=\"data row8 col8\" >6</td>\n",
       "      <td id=\"T_3f218_row8_col9\" class=\"data row8 col9\" >0</td>\n",
       "      <td id=\"T_3f218_row8_col10\" class=\"data row8 col10\" >6</td>\n",
       "      <td id=\"T_3f218_row8_col11\" class=\"data row8 col11\" >peptide</td>\n",
       "      <td id=\"T_3f218_row8_col12\" class=\"data row8 col12\" >2</td>\n",
       "      <td id=\"T_3f218_row8_col13\" class=\"data row8 col13\" >2</td>\n",
       "    </tr>\n",
       "    <tr>\n",
       "      <td id=\"T_3f218_row9_col0\" class=\"data row9 col0\" >9</td>\n",
       "      <td id=\"T_3f218_row9_col1\" class=\"data row9 col1\" >10</td>\n",
       "      <td id=\"T_3f218_row9_col2\" class=\"data row9 col2\" >HA</td>\n",
       "      <td id=\"T_3f218_row9_col3\" class=\"data row9 col3\" >H</td>\n",
       "      <td id=\"T_3f218_row9_col4\" class=\"data row9 col4\" >1</td>\n",
       "      <td id=\"T_3f218_row9_col5\" class=\"data row9 col5\" >1</td>\n",
       "      <td id=\"T_3f218_row9_col6\" class=\"data row9 col6\" >MET</td>\n",
       "      <td id=\"T_3f218_row9_col7\" class=\"data row9 col7\" >MET</td>\n",
       "      <td id=\"T_3f218_row9_col8\" class=\"data row9 col8\" >6</td>\n",
       "      <td id=\"T_3f218_row9_col9\" class=\"data row9 col9\" >0</td>\n",
       "      <td id=\"T_3f218_row9_col10\" class=\"data row9 col10\" >6</td>\n",
       "      <td id=\"T_3f218_row9_col11\" class=\"data row9 col11\" >peptide</td>\n",
       "      <td id=\"T_3f218_row9_col12\" class=\"data row9 col12\" >2</td>\n",
       "      <td id=\"T_3f218_row9_col13\" class=\"data row9 col13\" >2</td>\n",
       "    </tr>\n",
       "  </tbody>\n",
       "</table>\n"
      ],
      "text/plain": [
       "<pandas.io.formats.style.Styler at 0x7fb924f42140>"
      ]
     },
     "execution_count": 15,
     "metadata": {},
     "output_type": "execute_result"
    }
   ],
   "source": [
    "msm.info(molsys_ref, element='atom', selection=[0,1,2,3,4,5,6,7,8,9])"
   ]
  },
  {
   "cell_type": "code",
   "execution_count": 14,
   "id": "947878fd-4868-4ead-8e87-6b416c1803be",
   "metadata": {},
   "outputs": [
    {
     "name": "stdout",
     "output_type": "stream",
     "text": [
      "[1, 6]\n",
      "[2584, 2606]\n",
      "[2586, 2606]\n",
      "[6, 9]\n",
      "[37, 40]\n",
      "[132, 146]\n",
      "[144, 147]\n",
      "[240, 239]\n",
      "[240, 243]\n",
      "[412, 409]\n",
      "[433, 430]\n",
      "[520, 517]\n",
      "[523, 526]\n",
      "[546, 545]\n",
      "[597, 600]\n",
      "[648, 643]\n",
      "[658, 655]\n",
      "[661, 664]\n",
      "[717, 715]\n",
      "[717, 716]\n",
      "[725, 729]\n",
      "[731, 730]\n",
      "[783, 782]\n",
      "[801, 800]\n",
      "[829, 833]\n",
      "[865, 864]\n",
      "[1016, 1015]\n",
      "[1148, 1147]\n",
      "[1204, 1209]\n",
      "[1213, 1212]\n",
      "[1420, 1425]\n",
      "[1427, 1426]\n",
      "[1429, 1426]\n",
      "[1478, 1475]\n",
      "[1510, 1509]\n",
      "[1683, 1682]\n",
      "[1691, 1694]\n",
      "[1705, 1710]\n",
      "[1712, 1711]\n",
      "[1786, 1783]\n",
      "[1788, 1785]\n",
      "[1806, 1809]\n",
      "[1865, 1864]\n",
      "[1939, 1943]\n",
      "[1981, 1979]\n",
      "[2038, 2036]\n",
      "[2268, 2274]\n",
      "[2275, 2273]\n",
      "[2360, 2365]\n",
      "[2366, 2364]\n",
      "[2458, 2461]\n",
      "[2545, 2544]\n",
      "[2547, 2544]\n",
      "[2606, 2609]\n",
      "[2606, 2610]\n"
     ]
    }
   ],
   "source": [
    "for ii in aa:\n",
    "    if ii not in bb:\n",
    "        print(ii)"
   ]
  },
  {
   "cell_type": "code",
   "execution_count": null,
   "id": "60db1fdc-7ed5-4f3a-9da5-984952bb8a65",
   "metadata": {},
   "outputs": [],
   "source": [
    "molsys = msm.convert(molsys, to_form='nglview.NGLWidget')"
   ]
  },
  {
   "cell_type": "code",
   "execution_count": null,
   "id": "0a5d8789-a163-444d-a08c-7f04cc82e44e",
   "metadata": {},
   "outputs": [],
   "source": [
    "n_molecules_ref, n_structures_ref = msm.get(molsys_ref, element='system', n_molecules=True, n_structures=True)"
   ]
  },
  {
   "cell_type": "code",
   "execution_count": null,
   "id": "cdc1cceb-f9d2-4826-a80d-677a799eb0be",
   "metadata": {},
   "outputs": [],
   "source": [
    "msm.convert(molsys, to_form='molsysmt.Topology', get_missing_bonds=True)"
   ]
  },
  {
   "cell_type": "code",
   "execution_count": null,
   "id": "6db05926-2da0-408e-a18e-3a7c9a24cf6a",
   "metadata": {},
   "outputs": [],
   "source": [
    "msm.get(molsys, element='system', n_molecules=True)"
   ]
  },
  {
   "cell_type": "code",
   "execution_count": null,
   "id": "6edaa896-669c-4926-adaf-804cc59518da",
   "metadata": {},
   "outputs": [],
   "source": [
    "n_molecules, n_structures = msm.get(molsys, element='system', n_molecules=True, n_structures=True)"
   ]
  },
  {
   "cell_type": "code",
   "execution_count": null,
   "id": "0a294fc7-05e2-4a73-b6e7-b4cfd181a4bb",
   "metadata": {},
   "outputs": [],
   "source": []
  }
 ],
 "metadata": {
  "kernelspec": {
   "display_name": "Python 3 (ipykernel)",
   "language": "python",
   "name": "python3"
  },
  "language_info": {
   "codemirror_mode": {
    "name": "ipython",
    "version": 3
   },
   "file_extension": ".py",
   "mimetype": "text/x-python",
   "name": "python",
   "nbconvert_exporter": "python",
   "pygments_lexer": "ipython3",
   "version": "3.10.14"
  }
 },
 "nbformat": 4,
 "nbformat_minor": 5
}
