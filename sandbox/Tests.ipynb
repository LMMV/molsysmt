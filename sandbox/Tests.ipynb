{
 "cells": [
  {
   "cell_type": "markdown",
   "id": "c2f52c6d-731a-4ca3-b14b-0f83beafe76c",
   "metadata": {},
   "source": [
    "# Testing basic tools in documentation\n",
    "\n",
    "\n",
    "[x] Add    \n",
    "[x] Get\n"
   ]
  },
  {
   "cell_type": "code",
   "execution_count": 1,
   "id": "89627ab5-532e-4815-ac94-3c3295fb685c",
   "metadata": {},
   "outputs": [
    {
     "data": {
      "application/vnd.jupyter.widget-view+json": {
       "model_id": "81d2bf92f7a74c798ead0e59ca60dbda",
       "version_major": 2,
       "version_minor": 0
      },
      "text/plain": []
     },
     "metadata": {},
     "output_type": "display_data"
    }
   ],
   "source": [
    "import molsysmt as msm"
   ]
  },
  {
   "cell_type": "code",
   "execution_count": 2,
   "id": "4cdc4f01-cba8-494c-b029-e3cb4e801786",
   "metadata": {},
   "outputs": [],
   "source": [
    "item = msm.convert('1L2Y', 'mmcif.PdbxContainers.DataContainer')"
   ]
  },
  {
   "cell_type": "code",
   "execution_count": 3,
   "id": "16e39fc3-548d-4ea0-8e08-7e6b717d9c04",
   "metadata": {},
   "outputs": [
    {
     "data": {
      "text/plain": [
       "True"
      ]
     },
     "execution_count": 3,
     "metadata": {},
     "output_type": "execute_result"
    }
   ],
   "source": [
    "item.exists('entry')"
   ]
  },
  {
   "cell_type": "markdown",
   "id": "6b9a0c93-43a6-4d3d-a5f8-57cb1fd83d9c",
   "metadata": {},
   "source": [
    "# entity info"
   ]
  },
  {
   "cell_type": "code",
   "execution_count": 4,
   "id": "bfe7fe96-8601-4fd4-ad93-880623cdc824",
   "metadata": {},
   "outputs": [
    {
     "data": {
      "text/plain": [
       "DataCategory(name:'entity'\n",
       "attrbuteList: ['id', 'type', 'src_method', 'pdbx_description', 'formula_weight', 'pdbx_number_of_molecules', 'pdbx_ec', 'pdbx_mutation', 'pdbx_fragment', 'details']\n",
       "Data: [[1, 'polymer', 'syn', 'TC5b', 2171.413, 1, '?', '?', '?', '?']]\n",
       ")"
      ]
     },
     "execution_count": 4,
     "metadata": {},
     "output_type": "execute_result"
    }
   ],
   "source": [
    "item.getObj('entity')"
   ]
  },
  {
   "cell_type": "code",
   "execution_count": 5,
   "id": "e6999407-b312-4033-8193-c66291325aa2",
   "metadata": {},
   "outputs": [
    {
     "data": {
      "text/plain": [
       "DataCategory(name:'entity_poly'\n",
       "attrbuteList: ['entity_id', 'type', 'nstd_linkage', 'nstd_monomer', 'pdbx_seq_one_letter_code', 'pdbx_seq_one_letter_code_can', 'pdbx_strand_id', 'pdbx_target_identifier']\n",
       "Data: [[1, 'polypeptide(L)', 'no', 'no', 'NLYIQWLKDGGPSSGRPPPS', 'NLYIQWLKDGGPSSGRPPPS', 'A', '?']]\n",
       ")"
      ]
     },
     "execution_count": 5,
     "metadata": {},
     "output_type": "execute_result"
    }
   ],
   "source": [
    "item.getObj('entity_poly')"
   ]
  },
  {
   "cell_type": "code",
   "execution_count": 6,
   "id": "8e82a2d1-889e-4e31-b428-8e49706ee7bd",
   "metadata": {},
   "outputs": [
    {
     "data": {
      "text/plain": [
       "DataCategory(name:'entity_poly_seq'\n",
       "attrbuteList: ['entity_id', 'num', 'mon_id', 'hetero']\n",
       "Data: [[1, 1, 'ASN', 'n'], [1, 2, 'LEU', 'n'], [1, 3, 'TYR', 'n'], [1, 4, 'ILE', 'n'], [1, 5, 'GLN', 'n'], [1, 6, 'TRP', 'n'], [1, 7, 'LEU', 'n'], [1, 8, 'LYS', 'n'], [1, 9, 'ASP', 'n'], [1, 10, 'GLY', 'n'], [1, 11, 'GLY', 'n'], [1, 12, 'PRO', 'n'], [1, 13, 'SER', 'n'], [1, 14, 'SER', 'n'], [1, 15, 'GLY', 'n'], [1, 16, 'ARG', 'n'], [1, 17, 'PRO', 'n'], [1, 18, 'PRO', 'n'], [1, 19, 'PRO', 'n'], [1, 20, 'SER', 'n']]\n",
       ")"
      ]
     },
     "execution_count": 6,
     "metadata": {},
     "output_type": "execute_result"
    }
   ],
   "source": [
    "item.getObj('entity_poly_seq')"
   ]
  },
  {
   "cell_type": "code",
   "execution_count": 8,
   "id": "cfe7c070-5735-4412-81b9-4f683d6d8391",
   "metadata": {},
   "outputs": [
    {
     "data": {
      "text/plain": [
       "DataCategory(name:'pdbx_poly_seq_scheme'\n",
       "attrbuteList: ['asym_id', 'entity_id', 'seq_id', 'mon_id', 'ndb_seq_num', 'pdb_seq_num', 'auth_seq_num', 'pdb_mon_id', 'auth_mon_id', 'pdb_strand_id', 'pdb_ins_code', 'hetero']\n",
       "Data: [['A', 1, 1, 'ASN', 1, 1, 1, 'ASN', 'ASN', 'A', '.', 'n'], ['A', 1, 2, 'LEU', 2, 2, 2, 'LEU', 'LEU', 'A', '.', 'n'], ['A', 1, 3, 'TYR', 3, 3, 3, 'TYR', 'TYR', 'A', '.', 'n'], ['A', 1, 4, 'ILE', 4, 4, 4, 'ILE', 'ILE', 'A', '.', 'n'], ['A', 1, 5, 'GLN', 5, 5, 5, 'GLN', 'GLN', 'A', '.', 'n'], ['A', 1, 6, 'TRP', 6, 6, 6, 'TRP', 'TRP', 'A', '.', 'n'], ['A', 1, 7, 'LEU', 7, 7, 7, 'LEU', 'LEU', 'A', '.', 'n'], ['A', 1, 8, 'LYS', 8, 8, 8, 'LYS', 'LYS', 'A', '.', 'n'], ['A', 1, 9, 'ASP', 9, 9, 9, 'ASP', 'ASP', 'A', '.', 'n'], ['A', 1, 10, 'GLY', 10, 10, 10, 'GLY', 'GLY', 'A', '.', 'n'], ['A', 1, 11, 'GLY', 11, 11, 11, 'GLY', 'GLY', 'A', '.', 'n'], ['A', 1, 12, 'PRO', 12, 12, 12, 'PRO', 'PRO', 'A', '.', 'n'], ['A', 1, 13, 'SER', 13, 13, 13, 'SER', 'SER', 'A', '.', 'n'], ['A', 1, 14, 'SER', 14, 14, 14, 'SER', 'SER', 'A', '.', 'n'], ['A', 1, 15, 'GLY', 15, 15, 15, 'GLY', 'GLY', 'A', '.', 'n'], ['A', 1, 16, 'ARG', 16, 16, 16, 'ARG', 'ARG', 'A', '.', 'n'], ['A', 1, 17, 'PRO', 17, 17, 17, 'PRO', 'PRO', 'A', '.', 'n'], ['A', 1, 18, 'PRO', 18, 18, 18, 'PRO', 'PRO', 'A', '.', 'n'], ['A', 1, 19, 'PRO', 19, 19, 19, 'PRO', 'PRO', 'A', '.', 'n'], ['A', 1, 20, 'SER', 20, 20, 20, 'SER', 'SER', 'A', '.', 'n']]\n",
       ")"
      ]
     },
     "execution_count": 8,
     "metadata": {},
     "output_type": "execute_result"
    }
   ],
   "source": [
    "item.getObj('pdbx_poly_seq_scheme')"
   ]
  },
  {
   "cell_type": "code",
   "execution_count": null,
   "id": "1cbd94b5-c3a2-4beb-8900-b13ff57cd98e",
   "metadata": {},
   "outputs": [],
   "source": [
    "datacategory_atom_site = item.getObj('atom_site')"
   ]
  },
  {
   "cell_type": "code",
   "execution_count": null,
   "id": "0d4ba66b-0db7-42b0-ab24-533f4a3f79b5",
   "metadata": {},
   "outputs": [],
   "source": [
    "aa = { jj:ii for ii,jj in enumerate(datacategory_atom_site.getAttributeList())}"
   ]
  },
  {
   "cell_type": "code",
   "execution_count": null,
   "id": "d08d57a0-d542-45a3-bd36-1cc02fb9d35e",
   "metadata": {},
   "outputs": [],
   "source": [
    "aa"
   ]
  },
  {
   "cell_type": "code",
   "execution_count": null,
   "id": "22034e67-c065-4585-a0ea-4a9a0bcd25aa",
   "metadata": {},
   "outputs": [],
   "source": [
    "data = datacategory_atom_site.data"
   ]
  },
  {
   "cell_type": "code",
   "execution_count": null,
   "id": "1814dc3d-06e8-454a-9125-50f9b082b4ff",
   "metadata": {},
   "outputs": [],
   "source": [
    "data[1][15]"
   ]
  },
  {
   "cell_type": "code",
   "execution_count": null,
   "id": "17732bcf-c56b-49cd-93b7-15a6ee5f0eb3",
   "metadata": {},
   "outputs": [],
   "source": [
    "for ii in item.getObj('chem_comp_atom'):\n",
    "    print(ii)"
   ]
  },
  {
   "cell_type": "code",
   "execution_count": null,
   "id": "f7a0329e-3bb3-4305-abb4-a2f261849b27",
   "metadata": {},
   "outputs": [],
   "source": [
    "for ii in item.getObj('chem_comp_bond'):\n",
    "    print(ii)"
   ]
  },
  {
   "cell_type": "code",
   "execution_count": null,
   "id": "1ca485ac-e179-49c5-8dbe-7f8a8394fd0c",
   "metadata": {},
   "outputs": [],
   "source": [
    "item.getObjNameList()"
   ]
  },
  {
   "cell_type": "code",
   "execution_count": null,
   "id": "f0309fd0-27d9-46ea-9e78-3efee870797a",
   "metadata": {},
   "outputs": [],
   "source": []
  }
 ],
 "metadata": {
  "kernelspec": {
   "display_name": "Python 3 (ipykernel)",
   "language": "python",
   "name": "python3"
  },
  "language_info": {
   "codemirror_mode": {
    "name": "ipython",
    "version": 3
   },
   "file_extension": ".py",
   "mimetype": "text/x-python",
   "name": "python",
   "nbconvert_exporter": "python",
   "pygments_lexer": "ipython3",
   "version": "3.10.14"
  }
 },
 "nbformat": 4,
 "nbformat_minor": 5
}
