{
 "cells": [
  {
   "cell_type": "markdown",
   "id": "c2f52c6d-731a-4ca3-b14b-0f83beafe76c",
   "metadata": {},
   "source": [
    "# Tests\n",
    "\n"
   ]
  },
  {
   "cell_type": "code",
   "execution_count": 1,
   "id": "89627ab5-532e-4815-ac94-3c3295fb685c",
   "metadata": {},
   "outputs": [
    {
     "data": {
      "application/vnd.jupyter.widget-view+json": {
       "model_id": "95de59dde5df459d82c20bbf895a5d69",
       "version_major": 2,
       "version_minor": 0
      },
      "text/plain": []
     },
     "metadata": {},
     "output_type": "display_data"
    }
   ],
   "source": [
    "import molsysmt as msm\n",
    "from molsysmt import systems"
   ]
  },
  {
   "cell_type": "code",
   "execution_count": 2,
   "id": "a16f2547-2fb8-4db4-9016-9dec5ea6f43e",
   "metadata": {},
   "outputs": [],
   "source": [
    "from molsysmt.native import H5MSMFileHandler"
   ]
  },
  {
   "cell_type": "code",
   "execution_count": 4,
   "id": "dd50ad05-29ea-40f0-9559-e0879608c639",
   "metadata": {},
   "outputs": [],
   "source": [
    "molsys = msm.systems['chicken villin HP35']['traj_chicken_villin_HP35_solvated.h5msm']"
   ]
  },
  {
   "cell_type": "code",
   "execution_count": 5,
   "id": "77f6def6-7552-42fd-ba30-e0bdc269a5f3",
   "metadata": {},
   "outputs": [],
   "source": [
    "handler = H5MSMFileHandler(molsys)"
   ]
  },
  {
   "cell_type": "code",
   "execution_count": 25,
   "id": "765f4408-8691-4868-9e0f-fbcd00d9b526",
   "metadata": {},
   "outputs": [
    {
     "data": {
      "text/plain": [
       "4456"
      ]
     },
     "execution_count": 25,
     "metadata": {},
     "output_type": "execute_result"
    }
   ],
   "source": [
    "handler.file['topology']['atoms']['name'].shape[0]"
   ]
  },
  {
   "cell_type": "code",
   "execution_count": null,
   "id": "985a9ddf-8653-4212-8d69-319d9c439840",
   "metadata": {},
   "outputs": [],
   "source": [
    "pdb_file_handler.entry.crystallographic_and_coordinate_transformation.scale.u2"
   ]
  },
  {
   "cell_type": "code",
   "execution_count": null,
   "id": "1d7e2708-12cf-4bfe-8ed4-5f88c37430e7",
   "metadata": {},
   "outputs": [],
   "source": []
  }
 ],
 "metadata": {
  "kernelspec": {
   "display_name": "Python 3 (ipykernel)",
   "language": "python",
   "name": "python3"
  },
  "language_info": {
   "codemirror_mode": {
    "name": "ipython",
    "version": 3
   },
   "file_extension": ".py",
   "mimetype": "text/x-python",
   "name": "python",
   "nbconvert_exporter": "python",
   "pygments_lexer": "ipython3",
   "version": "3.11.9"
  }
 },
 "nbformat": 4,
 "nbformat_minor": 5
}
