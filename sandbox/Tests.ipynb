{
 "cells": [
  {
   "cell_type": "code",
   "execution_count": 1,
   "id": "77e6c021-6745-44dd-907e-6658f5b3820b",
   "metadata": {},
   "outputs": [],
   "source": [
    "%load_ext autoreload\n",
    "%autoreload 2"
   ]
  },
  {
   "cell_type": "markdown",
   "id": "36347de3-e9be-4e7e-a57c-75b89cb03bee",
   "metadata": {},
   "source": [
    "# Making systems"
   ]
  },
  {
   "cell_type": "code",
   "execution_count": 2,
   "id": "b4d434cd-f1c4-4b01-8d69-a7b4af5b0cd5",
   "metadata": {},
   "outputs": [
    {
     "data": {
      "application/vnd.jupyter.widget-view+json": {
       "model_id": "2e7d77da313748cf91d770450d1ec0d3",
       "version_major": 2,
       "version_minor": 0
      },
      "text/plain": []
     },
     "metadata": {},
     "output_type": "display_data"
    }
   ],
   "source": [
    "import molsysmt as msm"
   ]
  },
  {
   "cell_type": "code",
   "execution_count": 3,
   "id": "3f426a92-9fc6-4c1f-a987-cfc0e4792b99",
   "metadata": {},
   "outputs": [],
   "source": [
    "from molsysmt import systems\n",
    "import numpy as np"
   ]
  },
  {
   "cell_type": "code",
   "execution_count": 4,
   "id": "020376b7-c10e-4ef8-8b2a-fd04c900e938",
   "metadata": {},
   "outputs": [],
   "source": [
    "molsys = msm.convert(systems['TcTIM']['1tcd.h5msm'], to_form='molsysmt.MolSys')"
   ]
  },
  {
   "cell_type": "code",
   "execution_count": 5,
   "id": "1fc79724-d236-45f6-a2e7-838a87c522c1",
   "metadata": {},
   "outputs": [],
   "source": [
    "view = msm.convert(molsys, to_form='nglview.NGLWidget')"
   ]
  },
  {
   "cell_type": "code",
   "execution_count": 7,
   "id": "ea9c7b59-f1a2-4f46-8aa2-2c29aeba6c8c",
   "metadata": {},
   "outputs": [],
   "source": [
    "molecular_system = molsys"
   ]
  },
  {
   "cell_type": "code",
   "execution_count": 11,
   "id": "8fdd18d1-f7c7-4279-88cb-4035457fb4c7",
   "metadata": {},
   "outputs": [],
   "source": [
    "n_atoms = msm.get(molecular_system, n_atoms=True)\n",
    "atoms_water = msm.select(molecular_system, selection='group_type==\"water\"')\n",
    "atoms_not_water = msm._private.atom_indices.complementary_atom_indices(molecular_system, atoms_water)\n",
    "heavy_atoms_not_water = msm.select(molecular_system, selection='atom_type!=\"H\"', mask=atoms_not_water)\n",
    "h_atoms_not_water = [ii for ii in atoms_not_water if ii not in heavy_atoms_not_water] "
   ]
  },
  {
   "cell_type": "code",
   "execution_count": 15,
   "id": "c348d54a-0d07-4cba-a488-c7472cfeadfd",
   "metadata": {},
   "outputs": [
    {
     "data": {
      "text/plain": [
       "[array([[   0,    1],\n",
       "        [   1,    2],\n",
       "        [   1,    4],\n",
       "        ...,\n",
       "        [3813, 3814],\n",
       "        [3814, 3815],\n",
       "        [3815, 3816]])]"
      ]
     },
     "execution_count": 15,
     "metadata": {},
     "output_type": "execute_result"
    }
   ],
   "source": [
    "msm.structure.get_contacts(molecular_system, threshold='2 angstroms', selection=heavy_atoms_not_water, pbc=True,\n",
    "                           output_type='pairs')"
   ]
  },
  {
   "cell_type": "code",
   "execution_count": 6,
   "id": "c1fa6850-48a1-4fae-8b2b-d4e8d298f714",
   "metadata": {},
   "outputs": [
    {
     "ename": "NotImplementedFormError",
     "evalue": "None",
     "output_type": "error",
     "traceback": [
      "\u001b[0;31m---------------------------------------------------------------------------\u001b[0m",
      "\u001b[0;31mKeyError\u001b[0m                                  Traceback (most recent call last)",
      "File \u001b[0;32m/conda/miniconda3/envs/MolSysMT@uibcdf_3.10/lib/python3.10/site-packages/pyunitwizard/main.py:27\u001b[0m, in \u001b[0;36mget_form\u001b[0;34m(quantity_or_unit)\u001b[0m\n\u001b[1;32m     26\u001b[0m \u001b[38;5;28;01mtry\u001b[39;00m:\n\u001b[0;32m---> 27\u001b[0m     \u001b[38;5;28;01mreturn\u001b[39;00m \u001b[43mdict_is_form\u001b[49m\u001b[43m[\u001b[49m\u001b[38;5;28;43mtype\u001b[39;49m\u001b[43m(\u001b[49m\u001b[43mquantity_or_unit\u001b[49m\u001b[43m)\u001b[49m\u001b[43m]\u001b[49m\n\u001b[1;32m     28\u001b[0m \u001b[38;5;28;01mexcept\u001b[39;00m \u001b[38;5;167;01mKeyError\u001b[39;00m:\n",
      "\u001b[0;31mKeyError\u001b[0m: <class 'NoneType'>",
      "\nDuring handling of the above exception, another exception occurred:\n",
      "\u001b[0;31mKeyError\u001b[0m                                  Traceback (most recent call last)",
      "File \u001b[0;32m/conda/miniconda3/envs/MolSysMT@uibcdf_3.10/lib/python3.10/site-packages/pyunitwizard/main.py:30\u001b[0m, in \u001b[0;36mget_form\u001b[0;34m(quantity_or_unit)\u001b[0m\n\u001b[1;32m     29\u001b[0m \u001b[38;5;28;01mtry\u001b[39;00m:\n\u001b[0;32m---> 30\u001b[0m     \u001b[38;5;28;01mreturn\u001b[39;00m \u001b[43mdict_is_form\u001b[49m\u001b[43m[\u001b[49m\u001b[43mquantity_or_unit\u001b[49m\u001b[43m]\u001b[49m\n\u001b[1;32m     31\u001b[0m \u001b[38;5;28;01mexcept\u001b[39;00m \u001b[38;5;167;01mKeyError\u001b[39;00m:\n",
      "\u001b[0;31mKeyError\u001b[0m: None",
      "\nDuring handling of the above exception, another exception occurred:\n",
      "\u001b[0;31mNotImplementedFormError\u001b[0m                   Traceback (most recent call last)",
      "Cell \u001b[0;32mIn[6], line 1\u001b[0m\n\u001b[0;32m----> 1\u001b[0m \u001b[43mmsm\u001b[49m\u001b[38;5;241;43m.\u001b[39;49m\u001b[43mbuild\u001b[49m\u001b[38;5;241;43m.\u001b[39;49m\u001b[43mget_missing_bonds\u001b[49m\u001b[43m(\u001b[49m\u001b[43mview\u001b[49m\u001b[43m)\u001b[49m\n",
      "File \u001b[0;32m~/repos@uibcdf/MolSysMT/molsysmt/_private/digestion/digest.py:122\u001b[0m, in \u001b[0;36mdigest.<locals>.digestor.<locals>.wrapper\u001b[0;34m(*args, **kwargs)\u001b[0m\n\u001b[1;32m    120\u001b[0m     \u001b[38;5;28;01mreturn\u001b[39;00m func(all_args[\u001b[38;5;124m'\u001b[39m\u001b[38;5;124mself\u001b[39m\u001b[38;5;124m'\u001b[39m], \u001b[38;5;241m*\u001b[39m\u001b[38;5;241m*\u001b[39mfinal_args)\n\u001b[1;32m    121\u001b[0m \u001b[38;5;28;01melse\u001b[39;00m:\n\u001b[0;32m--> 122\u001b[0m     \u001b[38;5;28;01mreturn\u001b[39;00m \u001b[43mfunc\u001b[49m\u001b[43m(\u001b[49m\u001b[38;5;241;43m*\u001b[39;49m\u001b[38;5;241;43m*\u001b[39;49m\u001b[43mfinal_args\u001b[49m\u001b[43m)\u001b[49m\n",
      "File \u001b[0;32m~/repos@uibcdf/MolSysMT/molsysmt/build/get_missing_bonds.py:34\u001b[0m, in \u001b[0;36mget_missing_bonds\u001b[0;34m(molecular_system, threshold, selection, structure_indices, syntax, engine, with_templates, with_distances, sorted, skip_digestion)\u001b[0m\n\u001b[1;32m     31\u001b[0m bonds_distances \u001b[38;5;241m=\u001b[39m []\n\u001b[1;32m     33\u001b[0m n_atoms \u001b[38;5;241m=\u001b[39m get(molecular_system, n_atoms\u001b[38;5;241m=\u001b[39m\u001b[38;5;28;01mTrue\u001b[39;00m)\n\u001b[0;32m---> 34\u001b[0m atoms_water \u001b[38;5;241m=\u001b[39m \u001b[43mselect\u001b[49m\u001b[43m(\u001b[49m\u001b[43mmolecular_system\u001b[49m\u001b[43m,\u001b[49m\u001b[43m \u001b[49m\u001b[43mselection\u001b[49m\u001b[38;5;241;43m=\u001b[39;49m\u001b[38;5;124;43m'\u001b[39;49m\u001b[38;5;124;43mgroup_type==\u001b[39;49m\u001b[38;5;124;43m\"\u001b[39;49m\u001b[38;5;124;43mwater\u001b[39;49m\u001b[38;5;124;43m\"\u001b[39;49m\u001b[38;5;124;43m'\u001b[39;49m\u001b[43m)\u001b[49m\n\u001b[1;32m     35\u001b[0m atoms_not_water \u001b[38;5;241m=\u001b[39m complementary_atom_indices(molecular_system, atoms_water)\n\u001b[1;32m     36\u001b[0m heavy_atoms_not_water \u001b[38;5;241m=\u001b[39m select(molecular_system, selection\u001b[38;5;241m=\u001b[39m\u001b[38;5;124m'\u001b[39m\u001b[38;5;124matom_type!=\u001b[39m\u001b[38;5;124m\"\u001b[39m\u001b[38;5;124mH\u001b[39m\u001b[38;5;124m\"\u001b[39m\u001b[38;5;124m'\u001b[39m, mask\u001b[38;5;241m=\u001b[39matoms_not_water)\n",
      "File \u001b[0;32m~/repos@uibcdf/MolSysMT/molsysmt/_private/digestion/digest.py:122\u001b[0m, in \u001b[0;36mdigest.<locals>.digestor.<locals>.wrapper\u001b[0;34m(*args, **kwargs)\u001b[0m\n\u001b[1;32m    120\u001b[0m     \u001b[38;5;28;01mreturn\u001b[39;00m func(all_args[\u001b[38;5;124m'\u001b[39m\u001b[38;5;124mself\u001b[39m\u001b[38;5;124m'\u001b[39m], \u001b[38;5;241m*\u001b[39m\u001b[38;5;241m*\u001b[39mfinal_args)\n\u001b[1;32m    121\u001b[0m \u001b[38;5;28;01melse\u001b[39;00m:\n\u001b[0;32m--> 122\u001b[0m     \u001b[38;5;28;01mreturn\u001b[39;00m \u001b[43mfunc\u001b[49m\u001b[43m(\u001b[49m\u001b[38;5;241;43m*\u001b[39;49m\u001b[38;5;241;43m*\u001b[39;49m\u001b[43mfinal_args\u001b[49m\u001b[43m)\u001b[49m\n",
      "File \u001b[0;32m~/repos@uibcdf/MolSysMT/molsysmt/basic/select.py:157\u001b[0m, in \u001b[0;36mselect\u001b[0;34m(molecular_system, selection, structure_indices, element, mask, syntax, to_syntax, skip_digestion)\u001b[0m\n\u001b[1;32m    154\u001b[0m \u001b[38;5;28;01melse\u001b[39;00m:\n\u001b[1;32m    156\u001b[0m     \u001b[38;5;28;01mif\u001b[39;00m syntax \u001b[38;5;129;01min\u001b[39;00m _dict_select:\n\u001b[0;32m--> 157\u001b[0m         atom_indices \u001b[38;5;241m=\u001b[39m \u001b[43m_dict_select\u001b[49m\u001b[43m[\u001b[49m\u001b[43msyntax\u001b[49m\u001b[43m]\u001b[49m\u001b[43m(\u001b[49m\u001b[43mmolecular_system\u001b[49m\u001b[43m,\u001b[49m\u001b[43m \u001b[49m\u001b[43mselection\u001b[49m\u001b[43m,\u001b[49m\u001b[43m \u001b[49m\u001b[43mstructure_indices\u001b[49m\u001b[43m)\u001b[49m\n\u001b[1;32m    158\u001b[0m     \u001b[38;5;28;01melse\u001b[39;00m:\n\u001b[1;32m    160\u001b[0m         \u001b[38;5;28;01mraise\u001b[39;00m NotSupportedSyntaxError()\n",
      "File \u001b[0;32m~/repos@uibcdf/MolSysMT/molsysmt/basic/selector/molsysmt.py:34\u001b[0m, in \u001b[0;36mselect\u001b[0;34m(molecular_system, selection, structure_indices)\u001b[0m\n\u001b[1;32m     30\u001b[0m         atom_indices \u001b[38;5;241m=\u001b[39m select_bonded_to(molecular_system, selection)\n\u001b[1;32m     32\u001b[0m     \u001b[38;5;28;01melse\u001b[39;00m:\n\u001b[0;32m---> 34\u001b[0m         atom_indices \u001b[38;5;241m=\u001b[39m \u001b[43mselect_standard\u001b[49m\u001b[43m(\u001b[49m\u001b[43mmolecular_system\u001b[49m\u001b[43m,\u001b[49m\u001b[43m \u001b[49m\u001b[43mselection\u001b[49m\u001b[43m)\u001b[49m\n\u001b[1;32m     36\u001b[0m \u001b[38;5;28;01mreturn\u001b[39;00m atom_indices\n",
      "File \u001b[0;32m~/repos@uibcdf/MolSysMT/molsysmt/basic/selector/molsysmt.py:50\u001b[0m, in \u001b[0;36mselect_standard\u001b[0;34m(item, selection)\u001b[0m\n\u001b[1;32m     48\u001b[0m     tmp_item \u001b[38;5;241m=\u001b[39m item\n\u001b[1;32m     49\u001b[0m \u001b[38;5;28;01melse\u001b[39;00m:\n\u001b[0;32m---> 50\u001b[0m     tmp_item \u001b[38;5;241m=\u001b[39m \u001b[43mconvert\u001b[49m\u001b[43m(\u001b[49m\u001b[43mitem\u001b[49m\u001b[43m,\u001b[49m\u001b[43m \u001b[49m\u001b[43mto_form\u001b[49m\u001b[38;5;241;43m=\u001b[39;49m\u001b[38;5;124;43m'\u001b[39;49m\u001b[38;5;124;43mmolsysmt.Topology\u001b[39;49m\u001b[38;5;124;43m'\u001b[39;49m\u001b[43m,\u001b[49m\u001b[43m \u001b[49m\u001b[43mskip_digestion\u001b[49m\u001b[38;5;241;43m=\u001b[39;49m\u001b[38;5;28;43;01mTrue\u001b[39;49;00m\u001b[43m)\u001b[49m\n\u001b[1;32m     52\u001b[0m tmp_selection \u001b[38;5;241m=\u001b[39m selection\n\u001b[1;32m     55\u001b[0m \u001b[38;5;28;01mif\u001b[39;00m \u001b[38;5;124m'\u001b[39m\u001b[38;5;124m@\u001b[39m\u001b[38;5;124m'\u001b[39m \u001b[38;5;129;01min\u001b[39;00m selection:\n",
      "File \u001b[0;32m~/repos@uibcdf/MolSysMT/molsysmt/_private/digestion/digest.py:52\u001b[0m, in \u001b[0;36mdigest.<locals>.digestor.<locals>.wrapper\u001b[0;34m(*args, **kwargs)\u001b[0m\n\u001b[1;32m     48\u001b[0m \u001b[38;5;129m@functools\u001b[39m\u001b[38;5;241m.\u001b[39mwraps(func)\n\u001b[1;32m     49\u001b[0m \u001b[38;5;28;01mdef\u001b[39;00m \u001b[38;5;21mwrapper\u001b[39m(\u001b[38;5;241m*\u001b[39margs, \u001b[38;5;241m*\u001b[39m\u001b[38;5;241m*\u001b[39mkwargs):\n\u001b[1;32m     51\u001b[0m     \u001b[38;5;28;01mif\u001b[39;00m kwargs\u001b[38;5;241m.\u001b[39mget(\u001b[38;5;124m'\u001b[39m\u001b[38;5;124mskip_digestion\u001b[39m\u001b[38;5;124m'\u001b[39m, \u001b[38;5;28;01mFalse\u001b[39;00m):\n\u001b[0;32m---> 52\u001b[0m         \u001b[38;5;28;01mreturn\u001b[39;00m \u001b[43mfunc\u001b[49m\u001b[43m(\u001b[49m\u001b[38;5;241;43m*\u001b[39;49m\u001b[43margs\u001b[49m\u001b[43m,\u001b[49m\u001b[43m \u001b[49m\u001b[38;5;241;43m*\u001b[39;49m\u001b[38;5;241;43m*\u001b[39;49m\u001b[43mkwargs\u001b[49m\u001b[43m)\u001b[49m\n\u001b[1;32m     54\u001b[0m     \u001b[38;5;66;03m# Define caller\u001b[39;00m\n\u001b[1;32m     56\u001b[0m     caller \u001b[38;5;241m=\u001b[39m func\u001b[38;5;241m.\u001b[39m\u001b[38;5;18m__module__\u001b[39m\u001b[38;5;241m+\u001b[39m\u001b[38;5;124m'\u001b[39m\u001b[38;5;124m.\u001b[39m\u001b[38;5;124m'\u001b[39m\u001b[38;5;241m+\u001b[39mfunc\u001b[38;5;241m.\u001b[39m\u001b[38;5;18m__name__\u001b[39m\n",
      "File \u001b[0;32m~/repos@uibcdf/MolSysMT/molsysmt/basic/convert.py:532\u001b[0m, in \u001b[0;36mconvert\u001b[0;34m(molecular_system, to_form, selection, structure_indices, syntax, verbose, skip_digestion, **kwargs)\u001b[0m\n\u001b[1;32m    530\u001b[0m \u001b[38;5;66;03m# If one to one\u001b[39;00m\n\u001b[1;32m    531\u001b[0m \u001b[38;5;28;01mif\u001b[39;00m \u001b[38;5;129;01mnot\u001b[39;00m \u001b[38;5;28misinstance\u001b[39m(from_form, (\u001b[38;5;28mlist\u001b[39m, \u001b[38;5;28mtuple\u001b[39m)):\n\u001b[0;32m--> 532\u001b[0m     output \u001b[38;5;241m=\u001b[39m \u001b[43m_convert_one_to_one\u001b[49m\u001b[43m(\u001b[49m\u001b[43mmolecular_system\u001b[49m\u001b[43m,\u001b[49m\u001b[43m \u001b[49m\u001b[43mfrom_form\u001b[49m\u001b[43m,\u001b[49m\u001b[43m \u001b[49m\u001b[43mto_form\u001b[49m\u001b[38;5;241;43m=\u001b[39;49m\u001b[43mto_form\u001b[49m\u001b[43m,\u001b[49m\u001b[43m \u001b[49m\u001b[43mselection\u001b[49m\u001b[38;5;241;43m=\u001b[39;49m\u001b[43mselection\u001b[49m\u001b[43m,\u001b[49m\u001b[43m \u001b[49m\u001b[43mstructure_indices\u001b[49m\u001b[38;5;241;43m=\u001b[39;49m\u001b[43mstructure_indices\u001b[49m\u001b[43m,\u001b[49m\n\u001b[1;32m    533\u001b[0m \u001b[43m            \u001b[49m\u001b[43msyntax\u001b[49m\u001b[38;5;241;43m=\u001b[39;49m\u001b[43msyntax\u001b[49m\u001b[43m,\u001b[49m\u001b[43m \u001b[49m\u001b[43mverbose\u001b[49m\u001b[38;5;241;43m=\u001b[39;49m\u001b[43mverbose\u001b[49m\u001b[43m,\u001b[49m\u001b[43m \u001b[49m\u001b[43mskip_digestion\u001b[49m\u001b[38;5;241;43m=\u001b[39;49m\u001b[38;5;28;43;01mTrue\u001b[39;49;00m\u001b[43m,\u001b[49m\u001b[43m \u001b[49m\u001b[38;5;241;43m*\u001b[39;49m\u001b[38;5;241;43m*\u001b[39;49m\u001b[43mkwargs\u001b[49m\u001b[43m)\u001b[49m\n\u001b[1;32m    535\u001b[0m \u001b[38;5;66;03m# If multiple to one\u001b[39;00m\n\u001b[1;32m    536\u001b[0m \n\u001b[1;32m    537\u001b[0m \u001b[38;5;28;01melse\u001b[39;00m:\n\u001b[1;32m    538\u001b[0m \n\u001b[1;32m    539\u001b[0m     \u001b[38;5;66;03m# conversions in private shortcuts\u001b[39;00m\n\u001b[1;32m    540\u001b[0m     \u001b[38;5;28;01mif\u001b[39;00m \u001b[38;5;28mtuple\u001b[39m(\u001b[38;5;28msorted\u001b[39m(from_form)) \u001b[38;5;129;01min\u001b[39;00m _multiple_conversion_shortcuts:\n",
      "File \u001b[0;32m~/repos@uibcdf/MolSysMT/molsysmt/basic/convert.py:87\u001b[0m, in \u001b[0;36m_convert_one_to_one\u001b[0;34m(molecular_system, from_form, to_form, selection, structure_indices, syntax, verbose, **kwargs)\u001b[0m\n\u001b[1;32m     84\u001b[0m         \u001b[38;5;28;01mif\u001b[39;00m \u001b[38;5;28mlen\u001b[39m(missing_arguments)\u001b[38;5;241m>\u001b[39m\u001b[38;5;241m0\u001b[39m:\n\u001b[1;32m     85\u001b[0m             \u001b[38;5;28;01mraise\u001b[39;00m NotCompatibleConversionError(from_form, to_form, missing_arguments)\n\u001b[0;32m---> 87\u001b[0m     output \u001b[38;5;241m=\u001b[39m \u001b[43mfunction\u001b[49m\u001b[43m(\u001b[49m\u001b[43mmolecular_system\u001b[49m\u001b[43m,\u001b[49m\u001b[43m \u001b[49m\u001b[38;5;241;43m*\u001b[39;49m\u001b[38;5;241;43m*\u001b[39;49m\u001b[43mconversion_arguments\u001b[49m\u001b[43m,\u001b[49m\u001b[43m \u001b[49m\u001b[38;5;241;43m*\u001b[39;49m\u001b[38;5;241;43m*\u001b[39;49m\u001b[43mkwargs\u001b[49m\u001b[43m)\u001b[49m\n\u001b[1;32m     89\u001b[0m \u001b[38;5;28;01melif\u001b[39;00m (\u001b[38;5;124m'\u001b[39m\u001b[38;5;124mmolsysmt.MolSys\u001b[39m\u001b[38;5;124m'\u001b[39m \u001b[38;5;129;01min\u001b[39;00m _dict_modules[from_form]\u001b[38;5;241m.\u001b[39m_convert_to) \u001b[38;5;129;01mand\u001b[39;00m (to_form \u001b[38;5;129;01min\u001b[39;00m _dict_modules[\u001b[38;5;124m'\u001b[39m\u001b[38;5;124mmolsysmt.MolSys\u001b[39m\u001b[38;5;124m'\u001b[39m]\u001b[38;5;241m.\u001b[39m_convert_to):\n\u001b[1;32m     91\u001b[0m     output \u001b[38;5;241m=\u001b[39m _convert_one_to_one(molecular_system, from_form, to_form\u001b[38;5;241m=\u001b[39m\u001b[38;5;124m'\u001b[39m\u001b[38;5;124mmolsysmt.MolSys\u001b[39m\u001b[38;5;124m'\u001b[39m, selection\u001b[38;5;241m=\u001b[39mselection,\n\u001b[1;32m     92\u001b[0m             structure_indices\u001b[38;5;241m=\u001b[39mstructure_indices, syntax\u001b[38;5;241m=\u001b[39msyntax, \u001b[38;5;241m*\u001b[39m\u001b[38;5;241m*\u001b[39mkwargs)\n",
      "File \u001b[0;32m~/repos@uibcdf/MolSysMT/molsysmt/_private/digestion/digest.py:52\u001b[0m, in \u001b[0;36mdigest.<locals>.digestor.<locals>.wrapper\u001b[0;34m(*args, **kwargs)\u001b[0m\n\u001b[1;32m     48\u001b[0m \u001b[38;5;129m@functools\u001b[39m\u001b[38;5;241m.\u001b[39mwraps(func)\n\u001b[1;32m     49\u001b[0m \u001b[38;5;28;01mdef\u001b[39;00m \u001b[38;5;21mwrapper\u001b[39m(\u001b[38;5;241m*\u001b[39margs, \u001b[38;5;241m*\u001b[39m\u001b[38;5;241m*\u001b[39mkwargs):\n\u001b[1;32m     51\u001b[0m     \u001b[38;5;28;01mif\u001b[39;00m kwargs\u001b[38;5;241m.\u001b[39mget(\u001b[38;5;124m'\u001b[39m\u001b[38;5;124mskip_digestion\u001b[39m\u001b[38;5;124m'\u001b[39m, \u001b[38;5;28;01mFalse\u001b[39;00m):\n\u001b[0;32m---> 52\u001b[0m         \u001b[38;5;28;01mreturn\u001b[39;00m \u001b[43mfunc\u001b[49m\u001b[43m(\u001b[49m\u001b[38;5;241;43m*\u001b[39;49m\u001b[43margs\u001b[49m\u001b[43m,\u001b[49m\u001b[43m \u001b[49m\u001b[38;5;241;43m*\u001b[39;49m\u001b[38;5;241;43m*\u001b[39;49m\u001b[43mkwargs\u001b[49m\u001b[43m)\u001b[49m\n\u001b[1;32m     54\u001b[0m     \u001b[38;5;66;03m# Define caller\u001b[39;00m\n\u001b[1;32m     56\u001b[0m     caller \u001b[38;5;241m=\u001b[39m func\u001b[38;5;241m.\u001b[39m\u001b[38;5;18m__module__\u001b[39m\u001b[38;5;241m+\u001b[39m\u001b[38;5;124m'\u001b[39m\u001b[38;5;124m.\u001b[39m\u001b[38;5;124m'\u001b[39m\u001b[38;5;241m+\u001b[39mfunc\u001b[38;5;241m.\u001b[39m\u001b[38;5;18m__name__\u001b[39m\n",
      "File \u001b[0;32m~/repos@uibcdf/MolSysMT/molsysmt/form/nglview_NGLWidget/to_molsysmt_Topology.py:10\u001b[0m, in \u001b[0;36mto_molsysmt_Topology\u001b[0;34m(item, atom_indices, get_missing_bonds, skip_digestion)\u001b[0m\n\u001b[1;32m      7\u001b[0m \u001b[38;5;28;01mfrom\u001b[39;00m \u001b[38;5;21;01m.\u001b[39;00m\u001b[38;5;21;01m.\u001b[39;00m\u001b[38;5;21;01mstring_pdb_text\u001b[39;00m \u001b[38;5;28;01mimport\u001b[39;00m to_molsysmt_Topology \u001b[38;5;28;01mas\u001b[39;00m string_pdb_text_to_molsysmt_Topology\n\u001b[1;32m      9\u001b[0m tmp_item \u001b[38;5;241m=\u001b[39m to_string_pdb_text(item, skip_digestion\u001b[38;5;241m=\u001b[39m\u001b[38;5;28;01mTrue\u001b[39;00m)\n\u001b[0;32m---> 10\u001b[0m tmp_item \u001b[38;5;241m=\u001b[39m \u001b[43mstring_pdb_text_to_molsysmt_Topology\u001b[49m\u001b[43m(\u001b[49m\u001b[43mtmp_item\u001b[49m\u001b[43m,\u001b[49m\u001b[43m \u001b[49m\u001b[43matom_indices\u001b[49m\u001b[38;5;241;43m=\u001b[39;49m\u001b[43matom_indices\u001b[49m\u001b[43m,\u001b[49m\n\u001b[1;32m     11\u001b[0m \u001b[43m                                                \u001b[49m\u001b[43mget_missing_bonds\u001b[49m\u001b[38;5;241;43m=\u001b[39;49m\u001b[43mget_missing_bonds\u001b[49m\u001b[43m,\u001b[49m\u001b[43m \u001b[49m\u001b[43mskip_digestion\u001b[49m\u001b[38;5;241;43m=\u001b[39;49m\u001b[38;5;28;43;01mTrue\u001b[39;49;00m\u001b[43m)\u001b[49m\n\u001b[1;32m     13\u001b[0m \u001b[38;5;28;01mreturn\u001b[39;00m tmp_item\n",
      "File \u001b[0;32m~/repos@uibcdf/MolSysMT/molsysmt/_private/digestion/digest.py:52\u001b[0m, in \u001b[0;36mdigest.<locals>.digestor.<locals>.wrapper\u001b[0;34m(*args, **kwargs)\u001b[0m\n\u001b[1;32m     48\u001b[0m \u001b[38;5;129m@functools\u001b[39m\u001b[38;5;241m.\u001b[39mwraps(func)\n\u001b[1;32m     49\u001b[0m \u001b[38;5;28;01mdef\u001b[39;00m \u001b[38;5;21mwrapper\u001b[39m(\u001b[38;5;241m*\u001b[39margs, \u001b[38;5;241m*\u001b[39m\u001b[38;5;241m*\u001b[39mkwargs):\n\u001b[1;32m     51\u001b[0m     \u001b[38;5;28;01mif\u001b[39;00m kwargs\u001b[38;5;241m.\u001b[39mget(\u001b[38;5;124m'\u001b[39m\u001b[38;5;124mskip_digestion\u001b[39m\u001b[38;5;124m'\u001b[39m, \u001b[38;5;28;01mFalse\u001b[39;00m):\n\u001b[0;32m---> 52\u001b[0m         \u001b[38;5;28;01mreturn\u001b[39;00m \u001b[43mfunc\u001b[49m\u001b[43m(\u001b[49m\u001b[38;5;241;43m*\u001b[39;49m\u001b[43margs\u001b[49m\u001b[43m,\u001b[49m\u001b[43m \u001b[49m\u001b[38;5;241;43m*\u001b[39;49m\u001b[38;5;241;43m*\u001b[39;49m\u001b[43mkwargs\u001b[49m\u001b[43m)\u001b[49m\n\u001b[1;32m     54\u001b[0m     \u001b[38;5;66;03m# Define caller\u001b[39;00m\n\u001b[1;32m     56\u001b[0m     caller \u001b[38;5;241m=\u001b[39m func\u001b[38;5;241m.\u001b[39m\u001b[38;5;18m__module__\u001b[39m\u001b[38;5;241m+\u001b[39m\u001b[38;5;124m'\u001b[39m\u001b[38;5;124m.\u001b[39m\u001b[38;5;124m'\u001b[39m\u001b[38;5;241m+\u001b[39mfunc\u001b[38;5;241m.\u001b[39m\u001b[38;5;18m__name__\u001b[39m\n",
      "File \u001b[0;32m~/repos@uibcdf/MolSysMT/molsysmt/form/string_pdb_text/to_molsysmt_Topology.py:10\u001b[0m, in \u001b[0;36mto_molsysmt_Topology\u001b[0;34m(item, atom_indices, get_missing_bonds, skip_digestion)\u001b[0m\n\u001b[1;32m      7\u001b[0m \u001b[38;5;28;01mfrom\u001b[39;00m \u001b[38;5;21;01m.\u001b[39;00m\u001b[38;5;21;01m.\u001b[39;00m\u001b[38;5;21;01mmolsysmt_PDBFileHandler\u001b[39;00m \u001b[38;5;28;01mimport\u001b[39;00m to_molsysmt_Topology \u001b[38;5;28;01mas\u001b[39;00m molsysmt_PDBFileHandler_to_molsysmt_Topology\n\u001b[1;32m      9\u001b[0m tmp_item \u001b[38;5;241m=\u001b[39m to_molsysmt_PDBFileHandler(item, skip_digestion\u001b[38;5;241m=\u001b[39m\u001b[38;5;28;01mTrue\u001b[39;00m)\n\u001b[0;32m---> 10\u001b[0m tmp_item \u001b[38;5;241m=\u001b[39m \u001b[43mmolsysmt_PDBFileHandler_to_molsysmt_Topology\u001b[49m\u001b[43m(\u001b[49m\u001b[43mtmp_item\u001b[49m\u001b[43m,\u001b[49m\u001b[43m \u001b[49m\u001b[43matom_indices\u001b[49m\u001b[38;5;241;43m=\u001b[39;49m\u001b[43matom_indices\u001b[49m\u001b[43m,\u001b[49m\n\u001b[1;32m     11\u001b[0m \u001b[43m                                                        \u001b[49m\u001b[43mget_missing_bonds\u001b[49m\u001b[38;5;241;43m=\u001b[39;49m\u001b[43mget_missing_bonds\u001b[49m\u001b[43m,\u001b[49m\n\u001b[1;32m     12\u001b[0m \u001b[43m                                                        \u001b[49m\u001b[43mskip_digestion\u001b[49m\u001b[38;5;241;43m=\u001b[39;49m\u001b[38;5;28;43;01mTrue\u001b[39;49;00m\u001b[43m)\u001b[49m\n\u001b[1;32m     14\u001b[0m \u001b[38;5;28;01mreturn\u001b[39;00m tmp_item\n",
      "File \u001b[0;32m~/repos@uibcdf/MolSysMT/molsysmt/_private/digestion/digest.py:52\u001b[0m, in \u001b[0;36mdigest.<locals>.digestor.<locals>.wrapper\u001b[0;34m(*args, **kwargs)\u001b[0m\n\u001b[1;32m     48\u001b[0m \u001b[38;5;129m@functools\u001b[39m\u001b[38;5;241m.\u001b[39mwraps(func)\n\u001b[1;32m     49\u001b[0m \u001b[38;5;28;01mdef\u001b[39;00m \u001b[38;5;21mwrapper\u001b[39m(\u001b[38;5;241m*\u001b[39margs, \u001b[38;5;241m*\u001b[39m\u001b[38;5;241m*\u001b[39mkwargs):\n\u001b[1;32m     51\u001b[0m     \u001b[38;5;28;01mif\u001b[39;00m kwargs\u001b[38;5;241m.\u001b[39mget(\u001b[38;5;124m'\u001b[39m\u001b[38;5;124mskip_digestion\u001b[39m\u001b[38;5;124m'\u001b[39m, \u001b[38;5;28;01mFalse\u001b[39;00m):\n\u001b[0;32m---> 52\u001b[0m         \u001b[38;5;28;01mreturn\u001b[39;00m \u001b[43mfunc\u001b[49m\u001b[43m(\u001b[49m\u001b[38;5;241;43m*\u001b[39;49m\u001b[43margs\u001b[49m\u001b[43m,\u001b[49m\u001b[43m \u001b[49m\u001b[38;5;241;43m*\u001b[39;49m\u001b[38;5;241;43m*\u001b[39;49m\u001b[43mkwargs\u001b[49m\u001b[43m)\u001b[49m\n\u001b[1;32m     54\u001b[0m     \u001b[38;5;66;03m# Define caller\u001b[39;00m\n\u001b[1;32m     56\u001b[0m     caller \u001b[38;5;241m=\u001b[39m func\u001b[38;5;241m.\u001b[39m\u001b[38;5;18m__module__\u001b[39m\u001b[38;5;241m+\u001b[39m\u001b[38;5;124m'\u001b[39m\u001b[38;5;124m.\u001b[39m\u001b[38;5;124m'\u001b[39m\u001b[38;5;241m+\u001b[39mfunc\u001b[38;5;241m.\u001b[39m\u001b[38;5;18m__name__\u001b[39m\n",
      "File \u001b[0;32m~/repos@uibcdf/MolSysMT/molsysmt/form/molsysmt_PDBFileHandler/to_molsysmt_Topology.py:131\u001b[0m, in \u001b[0;36mto_molsysmt_Topology\u001b[0;34m(item, atom_indices, structure_indices, get_missing_bonds, skip_digestion)\u001b[0m\n\u001b[1;32m    127\u001b[0m tmp_item\u001b[38;5;241m.\u001b[39mrebuild_chains(redefine_ids\u001b[38;5;241m=\u001b[39m\u001b[38;5;28;01mTrue\u001b[39;00m, redefine_types\u001b[38;5;241m=\u001b[39m\u001b[38;5;28;01mFalse\u001b[39;00m )\n\u001b[1;32m    129\u001b[0m \u001b[38;5;28;01mif\u001b[39;00m get_missing_bonds:\n\u001b[0;32m--> 131\u001b[0m     bonds \u001b[38;5;241m=\u001b[39m \u001b[43m_get_missing_bonds\u001b[49m\u001b[43m(\u001b[49m\u001b[43mtmp_item\u001b[49m\u001b[43m,\u001b[49m\u001b[43m \u001b[49m\u001b[43mwith_distances\u001b[49m\u001b[38;5;241;43m=\u001b[39;49m\u001b[38;5;28;43;01mTrue\u001b[39;49;00m\u001b[43m)\u001b[49m\n\u001b[1;32m    132\u001b[0m     bonds \u001b[38;5;241m=\u001b[39m np\u001b[38;5;241m.\u001b[39marray(bonds)\n\u001b[1;32m    133\u001b[0m     tmp_item\u001b[38;5;241m.\u001b[39mreset_bonds(n_bonds\u001b[38;5;241m=\u001b[39mbonds\u001b[38;5;241m.\u001b[39mshape[\u001b[38;5;241m0\u001b[39m])\n",
      "File \u001b[0;32m~/repos@uibcdf/MolSysMT/molsysmt/_private/digestion/digest.py:122\u001b[0m, in \u001b[0;36mdigest.<locals>.digestor.<locals>.wrapper\u001b[0;34m(*args, **kwargs)\u001b[0m\n\u001b[1;32m    120\u001b[0m     \u001b[38;5;28;01mreturn\u001b[39;00m func(all_args[\u001b[38;5;124m'\u001b[39m\u001b[38;5;124mself\u001b[39m\u001b[38;5;124m'\u001b[39m], \u001b[38;5;241m*\u001b[39m\u001b[38;5;241m*\u001b[39mfinal_args)\n\u001b[1;32m    121\u001b[0m \u001b[38;5;28;01melse\u001b[39;00m:\n\u001b[0;32m--> 122\u001b[0m     \u001b[38;5;28;01mreturn\u001b[39;00m \u001b[43mfunc\u001b[49m\u001b[43m(\u001b[49m\u001b[38;5;241;43m*\u001b[39;49m\u001b[38;5;241;43m*\u001b[39;49m\u001b[43mfinal_args\u001b[49m\u001b[43m)\u001b[49m\n",
      "File \u001b[0;32m~/repos@uibcdf/MolSysMT/molsysmt/build/get_missing_bonds.py:41\u001b[0m, in \u001b[0;36mget_missing_bonds\u001b[0;34m(molecular_system, threshold, selection, structure_indices, syntax, engine, with_templates, with_distances, sorted, skip_digestion)\u001b[0m\n\u001b[1;32m     37\u001b[0m h_atoms_no_water \u001b[38;5;241m=\u001b[39m [ii \u001b[38;5;28;01mfor\u001b[39;00m ii \u001b[38;5;129;01min\u001b[39;00m atoms_not_water \u001b[38;5;28;01mif\u001b[39;00m ii \u001b[38;5;129;01mnot\u001b[39;00m \u001b[38;5;129;01min\u001b[39;00m heavy_atoms_not_water] \n\u001b[1;32m     39\u001b[0m \u001b[38;5;28;01mif\u001b[39;00m with_distances:\n\u001b[0;32m---> 41\u001b[0m     contacts_heavy_atoms \u001b[38;5;241m=\u001b[39m \u001b[43mget_contacts\u001b[49m\u001b[43m(\u001b[49m\u001b[43mmolecular_system\u001b[49m\u001b[43m,\u001b[49m\u001b[43m \u001b[49m\u001b[43mselection\u001b[49m\u001b[38;5;241;43m=\u001b[39;49m\u001b[43mheavy_atoms_not_water\u001b[49m\u001b[43m,\u001b[49m\n\u001b[1;32m     42\u001b[0m \u001b[43m                                        \u001b[49m\u001b[43mthreshold\u001b[49m\u001b[38;5;241;43m=\u001b[39;49m\u001b[43mthreshold\u001b[49m\u001b[43m,\u001b[49m\u001b[43m \u001b[49m\u001b[43moutput_type\u001b[49m\u001b[38;5;241;43m=\u001b[39;49m\u001b[38;5;124;43m'\u001b[39;49m\u001b[38;5;124;43mpairs\u001b[39;49m\u001b[38;5;124;43m'\u001b[39;49m\u001b[43m,\u001b[49m\n\u001b[1;32m     43\u001b[0m \u001b[43m                                        \u001b[49m\u001b[43moutput_indices\u001b[49m\u001b[38;5;241;43m=\u001b[39;49m\u001b[38;5;124;43m'\u001b[39;49m\u001b[38;5;124;43matom_index\u001b[39;49m\u001b[38;5;124;43m'\u001b[39;49m\u001b[43m,\u001b[49m\u001b[43m \u001b[49m\u001b[43mpbc\u001b[49m\u001b[38;5;241;43m=\u001b[39;49m\u001b[38;5;28;43;01mTrue\u001b[39;49;00m\u001b[43m)\u001b[49m\n\u001b[1;32m     45\u001b[0m     \u001b[38;5;28;01mreturn\u001b[39;00m contacts_heavy_atoms\n\u001b[1;32m     47\u001b[0m \u001b[38;5;28;01mif\u001b[39;00m with_templates:\n",
      "File \u001b[0;32m~/repos@uibcdf/MolSysMT/molsysmt/structure/get_contacts.py:30\u001b[0m, in \u001b[0;36mget_contacts\u001b[0;34m(molecular_system, selection, center_of_atoms, weights, structure_indices, selection_2, center_of_atoms_2, weights_2, structure_indices_2, threshold, pbc, syntax, output_type, output_indices)\u001b[0m\n\u001b[1;32m     27\u001b[0m \u001b[38;5;28;01melse\u001b[39;00m:\n\u001b[1;32m     28\u001b[0m     atom_indices_2 \u001b[38;5;241m=\u001b[39m select(molecular_system, selection\u001b[38;5;241m=\u001b[39mselection_2, syntax\u001b[38;5;241m=\u001b[39msyntax)\n\u001b[0;32m---> 30\u001b[0m all_dists \u001b[38;5;241m=\u001b[39m \u001b[43mget_distances\u001b[49m\u001b[43m(\u001b[49m\u001b[43mmolecular_system\u001b[49m\u001b[38;5;241;43m=\u001b[39;49m\u001b[43mmolecular_system\u001b[49m\u001b[43m,\u001b[49m\u001b[43m \u001b[49m\u001b[43mselection\u001b[49m\u001b[38;5;241;43m=\u001b[39;49m\u001b[43matom_indices\u001b[49m\u001b[43m,\u001b[49m\n\u001b[1;32m     31\u001b[0m \u001b[43m            \u001b[49m\u001b[43mcenter_of_atoms\u001b[49m\u001b[38;5;241;43m=\u001b[39;49m\u001b[43mcenter_of_atoms\u001b[49m\u001b[43m,\u001b[49m\u001b[43m \u001b[49m\u001b[43mweights\u001b[49m\u001b[38;5;241;43m=\u001b[39;49m\u001b[43mweights\u001b[49m\u001b[43m,\u001b[49m\u001b[43m \u001b[49m\u001b[43mstructure_indices\u001b[49m\u001b[38;5;241;43m=\u001b[39;49m\u001b[43mstructure_indices\u001b[49m\u001b[43m,\u001b[49m\n\u001b[1;32m     32\u001b[0m \u001b[43m            \u001b[49m\u001b[43mselection_2\u001b[49m\u001b[38;5;241;43m=\u001b[39;49m\u001b[43matom_indices_2\u001b[49m\u001b[43m,\u001b[49m\u001b[43m \u001b[49m\u001b[43mcenter_of_atoms_2\u001b[49m\u001b[38;5;241;43m=\u001b[39;49m\u001b[43mcenter_of_atoms_2\u001b[49m\u001b[43m,\u001b[49m\u001b[43m \u001b[49m\u001b[43mweights_2\u001b[49m\u001b[38;5;241;43m=\u001b[39;49m\u001b[43mweights_2\u001b[49m\u001b[43m,\u001b[49m\n\u001b[1;32m     33\u001b[0m \u001b[43m            \u001b[49m\u001b[43mstructure_indices_2\u001b[49m\u001b[38;5;241;43m=\u001b[39;49m\u001b[43mstructure_indices_2\u001b[49m\u001b[43m,\u001b[49m\u001b[43m \u001b[49m\u001b[43mpbc\u001b[49m\u001b[38;5;241;43m=\u001b[39;49m\u001b[43mpbc\u001b[49m\u001b[43m)\u001b[49m\n\u001b[1;32m     35\u001b[0m length_units \u001b[38;5;241m=\u001b[39m puw\u001b[38;5;241m.\u001b[39mget_unit(all_dists)\n\u001b[1;32m     36\u001b[0m threshold \u001b[38;5;241m=\u001b[39m puw\u001b[38;5;241m.\u001b[39mget_value(threshold, to_unit\u001b[38;5;241m=\u001b[39mlength_units)\n",
      "File \u001b[0;32m~/repos@uibcdf/MolSysMT/molsysmt/_private/digestion/digest.py:122\u001b[0m, in \u001b[0;36mdigest.<locals>.digestor.<locals>.wrapper\u001b[0;34m(*args, **kwargs)\u001b[0m\n\u001b[1;32m    120\u001b[0m     \u001b[38;5;28;01mreturn\u001b[39;00m func(all_args[\u001b[38;5;124m'\u001b[39m\u001b[38;5;124mself\u001b[39m\u001b[38;5;124m'\u001b[39m], \u001b[38;5;241m*\u001b[39m\u001b[38;5;241m*\u001b[39mfinal_args)\n\u001b[1;32m    121\u001b[0m \u001b[38;5;28;01melse\u001b[39;00m:\n\u001b[0;32m--> 122\u001b[0m     \u001b[38;5;28;01mreturn\u001b[39;00m \u001b[43mfunc\u001b[49m\u001b[43m(\u001b[49m\u001b[38;5;241;43m*\u001b[39;49m\u001b[38;5;241;43m*\u001b[39;49m\u001b[43mfinal_args\u001b[49m\u001b[43m)\u001b[49m\n",
      "File \u001b[0;32m~/repos@uibcdf/MolSysMT/molsysmt/structure/get_distances.py:84\u001b[0m, in \u001b[0;36mget_distances\u001b[0;34m(molecular_system, selection, structure_indices, center_of_atoms, weights, molecular_system_2, selection_2, structure_indices_2, center_of_atoms_2, weights_2, pairs, pbc, engine, syntax)\u001b[0m\n\u001b[1;32m     80\u001b[0m             in_memory \u001b[38;5;241m=\u001b[39m \u001b[38;5;28;01mFalse\u001b[39;00m\n\u001b[1;32m     82\u001b[0m \u001b[38;5;28;01mif\u001b[39;00m in_memory:\n\u001b[0;32m---> 84\u001b[0m     output \u001b[38;5;241m=\u001b[39m \u001b[43m_get_distances_in_memory\u001b[49m\u001b[43m(\u001b[49m\u001b[43mmolecular_system\u001b[49m\u001b[43m,\u001b[49m\n\u001b[1;32m     85\u001b[0m \u001b[43m            \u001b[49m\u001b[43mselection\u001b[49m\u001b[38;5;241;43m=\u001b[39;49m\u001b[43matom_indices\u001b[49m\u001b[43m,\u001b[49m\u001b[43m \u001b[49m\u001b[43mstructure_indices\u001b[49m\u001b[38;5;241;43m=\u001b[39;49m\u001b[43mstructure_indices\u001b[49m\u001b[43m,\u001b[49m\u001b[43m \u001b[49m\u001b[43mcenter_of_atoms\u001b[49m\u001b[38;5;241;43m=\u001b[39;49m\u001b[43mcenter_of_atoms\u001b[49m\u001b[43m,\u001b[49m\u001b[43m \u001b[49m\u001b[43mweights\u001b[49m\u001b[38;5;241;43m=\u001b[39;49m\u001b[43mweights\u001b[49m\u001b[43m,\u001b[49m\n\u001b[1;32m     86\u001b[0m \u001b[43m            \u001b[49m\u001b[43mmolecular_system_2\u001b[49m\u001b[38;5;241;43m=\u001b[39;49m\u001b[43mmolecular_system_2\u001b[49m\u001b[43m,\u001b[49m\u001b[43m \u001b[49m\u001b[43mselection_2\u001b[49m\u001b[38;5;241;43m=\u001b[39;49m\u001b[43matom_indices_2\u001b[49m\u001b[43m,\u001b[49m\u001b[43m \u001b[49m\u001b[43mstructure_indices_2\u001b[49m\u001b[38;5;241;43m=\u001b[39;49m\u001b[43mstructure_indices_2\u001b[49m\u001b[43m,\u001b[49m\n\u001b[1;32m     87\u001b[0m \u001b[43m            \u001b[49m\u001b[43mcenter_of_atoms_2\u001b[49m\u001b[38;5;241;43m=\u001b[39;49m\u001b[43mcenter_of_atoms_2\u001b[49m\u001b[43m,\u001b[49m\u001b[43m \u001b[49m\u001b[43mweights_2\u001b[49m\u001b[38;5;241;43m=\u001b[39;49m\u001b[43mweights_2\u001b[49m\u001b[43m,\u001b[49m\u001b[43m \u001b[49m\u001b[43mpairs\u001b[49m\u001b[38;5;241;43m=\u001b[39;49m\u001b[43mpairs\u001b[49m\u001b[43m,\u001b[49m\u001b[43m \u001b[49m\u001b[43mpbc\u001b[49m\u001b[38;5;241;43m=\u001b[39;49m\u001b[43mpbc\u001b[49m\u001b[43m,\u001b[49m\u001b[43m \u001b[49m\u001b[43msyntax\u001b[49m\u001b[38;5;241;43m=\u001b[39;49m\u001b[43msyntax\u001b[49m\u001b[43m)\u001b[49m\n\u001b[1;32m     89\u001b[0m \u001b[38;5;28;01melse\u001b[39;00m:\n\u001b[1;32m     91\u001b[0m     \u001b[38;5;28;01mraise\u001b[39;00m NotImplementedMethodError\n",
      "File \u001b[0;32m~/repos@uibcdf/MolSysMT/molsysmt/structure/get_distances.py:171\u001b[0m, in \u001b[0;36m_get_distances_in_memory\u001b[0;34m(molecular_system, selection, structure_indices, center_of_atoms, weights, molecular_system_2, selection_2, structure_indices_2, center_of_atoms_2, weights_2, pairs, pbc, aux_dict, syntax)\u001b[0m\n\u001b[1;32m    167\u001b[0m \u001b[38;5;28;01mif\u001b[39;00m \u001b[38;5;129;01mnot\u001b[39;00m pairs:\n\u001b[1;32m    169\u001b[0m     \u001b[38;5;28;01mif\u001b[39;00m coordinates_2 \u001b[38;5;129;01mis\u001b[39;00m \u001b[38;5;28;01mNone\u001b[39;00m:\n\u001b[0;32m--> 171\u001b[0m         coordinates, length_unit \u001b[38;5;241m=\u001b[39m \u001b[43mpuw\u001b[49m\u001b[38;5;241;43m.\u001b[39;49m\u001b[43mget_value_and_unit\u001b[49m\u001b[43m(\u001b[49m\u001b[43mcoordinates\u001b[49m\u001b[43m)\u001b[49m\n\u001b[1;32m    173\u001b[0m         \u001b[38;5;28;01mif\u001b[39;00m pbc:\n\u001b[1;32m    174\u001b[0m             box \u001b[38;5;241m=\u001b[39m get(molecular_system, element\u001b[38;5;241m=\u001b[39m\u001b[38;5;124m'\u001b[39m\u001b[38;5;124msystem\u001b[39m\u001b[38;5;124m'\u001b[39m, structure_indices\u001b[38;5;241m=\u001b[39mstructure_indices, box\u001b[38;5;241m=\u001b[39m\u001b[38;5;28;01mTrue\u001b[39;00m)\n",
      "File \u001b[0;32m/conda/miniconda3/envs/MolSysMT@uibcdf_3.10/lib/python3.10/site-packages/pyunitwizard/main.py:180\u001b[0m, in \u001b[0;36mget_value_and_unit\u001b[0;34m(quantity, to_unit, to_form, parser, standardized)\u001b[0m\n\u001b[1;32m    177\u001b[0m     quantity \u001b[38;5;241m=\u001b[39m standardize(quantity)\n\u001b[1;32m    178\u001b[0m     to_unit \u001b[38;5;241m=\u001b[39m \u001b[38;5;28;01mNone\u001b[39;00m\n\u001b[0;32m--> 180\u001b[0m value \u001b[38;5;241m=\u001b[39m \u001b[43mconvert\u001b[49m\u001b[43m(\u001b[49m\u001b[43mquantity\u001b[49m\u001b[43m,\u001b[49m\u001b[43m \u001b[49m\u001b[43mto_unit\u001b[49m\u001b[38;5;241;43m=\u001b[39;49m\u001b[43mto_unit\u001b[49m\u001b[43m,\u001b[49m\u001b[43m \u001b[49m\u001b[43mparser\u001b[49m\u001b[38;5;241;43m=\u001b[39;49m\u001b[43mparser\u001b[49m\u001b[43m,\u001b[49m\u001b[43m \u001b[49m\u001b[43mto_type\u001b[49m\u001b[38;5;241;43m=\u001b[39;49m\u001b[38;5;124;43m'\u001b[39;49m\u001b[38;5;124;43mvalue\u001b[39;49m\u001b[38;5;124;43m'\u001b[39;49m\u001b[43m)\u001b[49m\n\u001b[1;32m    181\u001b[0m unit \u001b[38;5;241m=\u001b[39m convert(quantity, to_unit\u001b[38;5;241m=\u001b[39mto_unit, to_form\u001b[38;5;241m=\u001b[39mto_form, parser\u001b[38;5;241m=\u001b[39mparser, to_type\u001b[38;5;241m=\u001b[39m\u001b[38;5;124m'\u001b[39m\u001b[38;5;124munit\u001b[39m\u001b[38;5;124m'\u001b[39m)\n\u001b[1;32m    183\u001b[0m \u001b[38;5;28;01mreturn\u001b[39;00m value, unit\n",
      "File \u001b[0;32m/conda/miniconda3/envs/MolSysMT@uibcdf_3.10/lib/python3.10/site-packages/pyunitwizard/main.py:547\u001b[0m, in \u001b[0;36mconvert\u001b[0;34m(quantity_or_unit, to_unit, to_form, parser, to_type)\u001b[0m\n\u001b[1;32m    522\u001b[0m \u001b[38;5;250m\u001b[39m\u001b[38;5;124;03m\"\"\" Converts a quantity or unit to a different unit and/or to a different\u001b[39;00m\n\u001b[1;32m    523\u001b[0m \u001b[38;5;124;03m    form and/or type. \u001b[39;00m\n\u001b[1;32m    524\u001b[0m \n\u001b[0;32m   (...)\u001b[0m\n\u001b[1;32m    543\u001b[0m \u001b[38;5;124;03m        be a float or a numpy array.\u001b[39;00m\n\u001b[1;32m    544\u001b[0m \u001b[38;5;124;03m\"\"\"\u001b[39;00m\n\u001b[1;32m    545\u001b[0m output \u001b[38;5;241m=\u001b[39m \u001b[38;5;28;01mNone\u001b[39;00m\n\u001b[0;32m--> 547\u001b[0m form_in \u001b[38;5;241m=\u001b[39m \u001b[43mget_form\u001b[49m\u001b[43m(\u001b[49m\u001b[43mquantity_or_unit\u001b[49m\u001b[43m)\u001b[49m\n\u001b[1;32m    548\u001b[0m to_form \u001b[38;5;241m=\u001b[39m digest_to_form(to_form, form_in)\n\u001b[1;32m    549\u001b[0m parser \u001b[38;5;241m=\u001b[39m digest_parser(parser)\n",
      "File \u001b[0;32m/conda/miniconda3/envs/MolSysMT@uibcdf_3.10/lib/python3.10/site-packages/pyunitwizard/main.py:32\u001b[0m, in \u001b[0;36mget_form\u001b[0;34m(quantity_or_unit)\u001b[0m\n\u001b[1;32m     30\u001b[0m     \u001b[38;5;28;01mreturn\u001b[39;00m dict_is_form[quantity_or_unit]\n\u001b[1;32m     31\u001b[0m \u001b[38;5;28;01mexcept\u001b[39;00m \u001b[38;5;167;01mKeyError\u001b[39;00m:\n\u001b[0;32m---> 32\u001b[0m     \u001b[38;5;28;01mraise\u001b[39;00m NotImplementedFormError(\u001b[38;5;28mtype\u001b[39m(quantity_or_unit))\n",
      "\u001b[0;31mNotImplementedFormError\u001b[0m: None"
     ]
    }
   ],
   "source": [
    "msm.build.get_missing_bonds(view)"
   ]
  },
  {
   "cell_type": "code",
   "execution_count": null,
   "id": "7c34909f-e82f-41be-9a1a-a913143f7dba",
   "metadata": {},
   "outputs": [],
   "source": [
    "msm.get(view, n_bonds=True)"
   ]
  },
  {
   "cell_type": "code",
   "execution_count": null,
   "id": "60e2fdc5-6743-4733-aea7-8912685f8c68",
   "metadata": {},
   "outputs": [],
   "source": [
    "msm.get(molsys, n_bonds=True)"
   ]
  },
  {
   "cell_type": "code",
   "execution_count": null,
   "id": "b21c0d6d-56ed-4b24-b822-c9affa319316",
   "metadata": {},
   "outputs": [],
   "source": [
    "molsys.topology.components"
   ]
  },
  {
   "cell_type": "code",
   "execution_count": null,
   "id": "3d84aabd-c118-4b56-a699-a60f7b661706",
   "metadata": {},
   "outputs": [],
   "source": [
    "output = msm.compare(molsys, view, attribute_type='topological', rule='equal', output_type='dictionary')"
   ]
  },
  {
   "cell_type": "code",
   "execution_count": null,
   "id": "d4fb0697-d2e8-4710-a2a7-a8d8647f7f03",
   "metadata": {},
   "outputs": [],
   "source": [
    "output"
   ]
  },
  {
   "cell_type": "code",
   "execution_count": null,
   "id": "666242b2-f2ed-4790-a806-9d33042eb570",
   "metadata": {},
   "outputs": [],
   "source": []
  }
 ],
 "metadata": {
  "kernelspec": {
   "display_name": "Python 3 (ipykernel)",
   "language": "python",
   "name": "python3"
  },
  "language_info": {
   "codemirror_mode": {
    "name": "ipython",
    "version": 3
   },
   "file_extension": ".py",
   "mimetype": "text/x-python",
   "name": "python",
   "nbconvert_exporter": "python",
   "pygments_lexer": "ipython3",
   "version": "3.10.14"
  }
 },
 "nbformat": 4,
 "nbformat_minor": 5
}
