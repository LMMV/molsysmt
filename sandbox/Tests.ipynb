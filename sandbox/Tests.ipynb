{
 "cells": [
  {
   "cell_type": "code",
   "execution_count": 1,
   "id": "77e6c021-6745-44dd-907e-6658f5b3820b",
   "metadata": {},
   "outputs": [],
   "source": [
    "%load_ext autoreload\n",
    "%autoreload 2"
   ]
  },
  {
   "cell_type": "markdown",
   "id": "36347de3-e9be-4e7e-a57c-75b89cb03bee",
   "metadata": {},
   "source": [
    "# Making systems"
   ]
  },
  {
   "cell_type": "code",
   "execution_count": 2,
   "id": "b4d434cd-f1c4-4b01-8d69-a7b4af5b0cd5",
   "metadata": {},
   "outputs": [
    {
     "data": {
      "application/vnd.jupyter.widget-view+json": {
       "model_id": "82d5bc588d6e43cd9ab5c70136bd76cf",
       "version_major": 2,
       "version_minor": 0
      },
      "text/plain": []
     },
     "metadata": {},
     "output_type": "display_data"
    }
   ],
   "source": [
    "import molsysmt as msm"
   ]
  },
  {
   "cell_type": "code",
   "execution_count": 3,
   "id": "3f426a92-9fc6-4c1f-a987-cfc0e4792b99",
   "metadata": {},
   "outputs": [],
   "source": [
    "from molsysmt import systems\n",
    "import numpy as np"
   ]
  },
  {
   "cell_type": "code",
   "execution_count": 4,
   "id": "020376b7-c10e-4ef8-8b2a-fd04c900e938",
   "metadata": {},
   "outputs": [],
   "source": [
    "molsys = msm.convert(systems['TcTIM']['1tcd.h5msm'], to_form='molsysmt.MolSys')"
   ]
  },
  {
   "cell_type": "code",
   "execution_count": 5,
   "id": "1fc79724-d236-45f6-a2e7-838a87c522c1",
   "metadata": {},
   "outputs": [],
   "source": [
    "view = msm.convert(molsys, to_form='nglview.NGLWidget')"
   ]
  },
  {
   "cell_type": "code",
   "execution_count": 6,
   "id": "7e0095fb-7afa-4f81-b9c8-79fe0988223d",
   "metadata": {},
   "outputs": [],
   "source": [
    "molecular_system = view\n",
    "n_atoms = msm.get(molecular_system, n_atoms=True)\n",
    "atoms_water = msm.select(molecular_system, selection='group_type==\"water\"')\n",
    "atoms_not_water = msm._private.atom_indices.complementary_atom_indices(molecular_system, atoms_water)\n",
    "heavy_atoms_not_water = msm.select(molecular_system, selection='atom_type!=\"H\"', mask=atoms_not_water)\n",
    "h_atoms_not_water = [ii for ii in atoms_not_water if ii not in heavy_atoms_not_water] "
   ]
  },
  {
   "cell_type": "code",
   "execution_count": 7,
   "id": "00985b36-1541-41a3-80c4-34389e22bbf9",
   "metadata": {},
   "outputs": [
    {
     "data": {
      "text/plain": [
       "165"
      ]
     },
     "execution_count": 7,
     "metadata": {},
     "output_type": "execute_result"
    }
   ],
   "source": [
    "len(atoms_water)"
   ]
  },
  {
   "cell_type": "code",
   "execution_count": null,
   "id": "3cbabe92-c07b-4a3f-a3fa-4836dbf189e2",
   "metadata": {},
   "outputs": [],
   "source": [
    "msm.structure.get_contacts(molecular_system, selection=h_atoms_not_water, # selection_2=heavy_atoms_not_water,\n",
    "                          threshold='2 angstroms', output_type='pairs', pbc=True, skip_digestion=False)"
   ]
  },
  {
   "cell_type": "code",
   "execution_count": 8,
   "id": "c1fa6850-48a1-4fae-8b2b-d4e8d298f714",
   "metadata": {},
   "outputs": [
    {
     "ename": "ValueError",
     "evalue": "not enough values to unpack (expected 2, got 1)",
     "output_type": "error",
     "traceback": [
      "\u001b[0;31m---------------------------------------------------------------------------\u001b[0m",
      "\u001b[0;31mValueError\u001b[0m                                Traceback (most recent call last)",
      "Cell \u001b[0;32mIn[8], line 1\u001b[0m\n\u001b[0;32m----> 1\u001b[0m dd, pp \u001b[38;5;241m=\u001b[39m msm\u001b[38;5;241m.\u001b[39mbuild\u001b[38;5;241m.\u001b[39mget_missing_bonds(view)\n",
      "\u001b[0;31mValueError\u001b[0m: not enough values to unpack (expected 2, got 1)"
     ]
    }
   ],
   "source": [
    "dd, pp = msm.build.get_missing_bonds(view)"
   ]
  },
  {
   "cell_type": "code",
   "execution_count": null,
   "id": "bb376390-1cd7-45ab-8e29-a039ef0a09dd",
   "metadata": {},
   "outputs": [],
   "source": [
    "aa"
   ]
  },
  {
   "cell_type": "code",
   "execution_count": null,
   "id": "0710eeba-ed65-4095-8a84-384f95263bae",
   "metadata": {},
   "outputs": [],
   "source": []
  }
 ],
 "metadata": {
  "kernelspec": {
   "display_name": "Python 3 (ipykernel)",
   "language": "python",
   "name": "python3"
  },
  "language_info": {
   "codemirror_mode": {
    "name": "ipython",
    "version": 3
   },
   "file_extension": ".py",
   "mimetype": "text/x-python",
   "name": "python",
   "nbconvert_exporter": "python",
   "pygments_lexer": "ipython3",
   "version": "3.10.14"
  }
 },
 "nbformat": 4,
 "nbformat_minor": 5
}
