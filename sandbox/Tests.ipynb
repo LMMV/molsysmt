{
 "cells": [
  {
   "cell_type": "code",
   "execution_count": 1,
   "id": "77e6c021-6745-44dd-907e-6658f5b3820b",
   "metadata": {},
   "outputs": [],
   "source": [
    "%load_ext autoreload\n",
    "%autoreload 2"
   ]
  },
  {
   "cell_type": "markdown",
   "id": "36347de3-e9be-4e7e-a57c-75b89cb03bee",
   "metadata": {},
   "source": [
    "# Making systems"
   ]
  },
  {
   "cell_type": "code",
   "execution_count": 2,
   "id": "b4d434cd-f1c4-4b01-8d69-a7b4af5b0cd5",
   "metadata": {},
   "outputs": [
    {
     "data": {
      "application/vnd.jupyter.widget-view+json": {
       "model_id": "038e2d3e1a2541d0a56bc59b00087c6e",
       "version_major": 2,
       "version_minor": 0
      },
      "text/plain": []
     },
     "metadata": {},
     "output_type": "display_data"
    }
   ],
   "source": [
    "import molsysmt as msm"
   ]
  },
  {
   "cell_type": "code",
   "execution_count": 3,
   "id": "3f426a92-9fc6-4c1f-a987-cfc0e4792b99",
   "metadata": {},
   "outputs": [],
   "source": [
    "from molsysmt import systems\n",
    "import numpy as np"
   ]
  },
  {
   "cell_type": "code",
   "execution_count": 4,
   "id": "b4fd5d87-1061-49c6-9d3a-c711b3586971",
   "metadata": {},
   "outputs": [
    {
     "name": "stdout",
     "output_type": "stream",
     "text": [
      "[2686 2687 2688 2689]\n"
     ]
    }
   ],
   "source": [
    "molsys = msm.convert('1BRS')"
   ]
  },
  {
   "cell_type": "code",
   "execution_count": 5,
   "id": "10c50058-2459-4e9e-a3f3-3cf520a6e5be",
   "metadata": {},
   "outputs": [
    {
     "ename": "TypeError",
     "evalue": "get_alternate_location_from_system() got an unexpected keyword argument 'structure_indices'",
     "output_type": "error",
     "traceback": [
      "\u001b[0;31m---------------------------------------------------------------------------\u001b[0m",
      "\u001b[0;31mTypeError\u001b[0m                                 Traceback (most recent call last)",
      "Cell \u001b[0;32mIn[5], line 1\u001b[0m\n\u001b[0;32m----> 1\u001b[0m alt_loc \u001b[38;5;241m=\u001b[39m \u001b[43mmsm\u001b[49m\u001b[38;5;241;43m.\u001b[39;49m\u001b[43mget\u001b[49m\u001b[43m(\u001b[49m\u001b[38;5;124;43m'\u001b[39;49m\u001b[38;5;124;43m1BRS\u001b[39;49m\u001b[38;5;124;43m'\u001b[39;49m\u001b[43m,\u001b[49m\u001b[43m \u001b[49m\u001b[43malternate_location\u001b[49m\u001b[38;5;241;43m=\u001b[39;49m\u001b[38;5;28;43;01mTrue\u001b[39;49;00m\u001b[43m)\u001b[49m\n",
      "File \u001b[0;32m~/repos@uibcdf/MolSysMT/molsysmt/_private/digestion/digest.py:122\u001b[0m, in \u001b[0;36mdigest.<locals>.digestor.<locals>.wrapper\u001b[0;34m(*args, **kwargs)\u001b[0m\n\u001b[1;32m    120\u001b[0m     \u001b[38;5;28;01mreturn\u001b[39;00m func(all_args[\u001b[38;5;124m'\u001b[39m\u001b[38;5;124mself\u001b[39m\u001b[38;5;124m'\u001b[39m], \u001b[38;5;241m*\u001b[39m\u001b[38;5;241m*\u001b[39mfinal_args)\n\u001b[1;32m    121\u001b[0m \u001b[38;5;28;01melse\u001b[39;00m:\n\u001b[0;32m--> 122\u001b[0m     \u001b[38;5;28;01mreturn\u001b[39;00m \u001b[43mfunc\u001b[49m\u001b[43m(\u001b[49m\u001b[38;5;241;43m*\u001b[39;49m\u001b[38;5;241;43m*\u001b[39;49m\u001b[43mfinal_args\u001b[49m\u001b[43m)\u001b[49m\n",
      "File \u001b[0;32m~/repos@uibcdf/MolSysMT/molsysmt/basic/get.py:200\u001b[0m, in \u001b[0;36mget\u001b[0;34m(molecular_system, element, selection, structure_indices, mask, syntax, get_missing_bonds, output_type, skip_digestion, **kwargs)\u001b[0m\n\u001b[1;32m    198\u001b[0m     \u001b[38;5;28;01melse\u001b[39;00m:\n\u001b[1;32m    199\u001b[0m         aux_get \u001b[38;5;241m=\u001b[39m \u001b[38;5;28mgetattr\u001b[39m(_dict_modules[aux_form], \u001b[38;5;124mf\u001b[39m\u001b[38;5;124m'\u001b[39m\u001b[38;5;124mget_\u001b[39m\u001b[38;5;132;01m{\u001b[39;00min_attribute\u001b[38;5;132;01m}\u001b[39;00m\u001b[38;5;124m_from_\u001b[39m\u001b[38;5;132;01m{\u001b[39;00melement\u001b[38;5;132;01m}\u001b[39;00m\u001b[38;5;124m'\u001b[39m)\n\u001b[0;32m--> 200\u001b[0m         result \u001b[38;5;241m=\u001b[39m \u001b[43maux_get\u001b[49m\u001b[43m(\u001b[49m\u001b[43maux_item\u001b[49m\u001b[43m,\u001b[49m\u001b[43m \u001b[49m\u001b[38;5;241;43m*\u001b[39;49m\u001b[38;5;241;43m*\u001b[39;49m\u001b[43mdict_indices\u001b[49m\u001b[43m)\u001b[49m\n\u001b[1;32m    202\u001b[0m \u001b[38;5;28;01melse\u001b[39;00m:\n\u001b[1;32m    204\u001b[0m     result \u001b[38;5;241m=\u001b[39m \u001b[38;5;28;01mNone\u001b[39;00m\n",
      "File \u001b[0;32m~/repos@uibcdf/MolSysMT/molsysmt/_private/digestion/digest.py:122\u001b[0m, in \u001b[0;36mdigest.<locals>.digestor.<locals>.wrapper\u001b[0;34m(*args, **kwargs)\u001b[0m\n\u001b[1;32m    120\u001b[0m     \u001b[38;5;28;01mreturn\u001b[39;00m func(all_args[\u001b[38;5;124m'\u001b[39m\u001b[38;5;124mself\u001b[39m\u001b[38;5;124m'\u001b[39m], \u001b[38;5;241m*\u001b[39m\u001b[38;5;241m*\u001b[39mfinal_args)\n\u001b[1;32m    121\u001b[0m \u001b[38;5;28;01melse\u001b[39;00m:\n\u001b[0;32m--> 122\u001b[0m     \u001b[38;5;28;01mreturn\u001b[39;00m \u001b[43mfunc\u001b[49m\u001b[43m(\u001b[49m\u001b[38;5;241;43m*\u001b[39;49m\u001b[38;5;241;43m*\u001b[39;49m\u001b[43mfinal_args\u001b[49m\u001b[43m)\u001b[49m\n",
      "\u001b[0;31mTypeError\u001b[0m: get_alternate_location_from_system() got an unexpected keyword argument 'structure_indices'"
     ]
    }
   ],
   "source": [
    "alt_loc = msm.get('1BRS', alternate_location=True)"
   ]
  },
  {
   "cell_type": "code",
   "execution_count": null,
   "id": "6ea69210-eccc-415b-9608-0b4cf842136e",
   "metadata": {},
   "outputs": [],
   "source": [
    "    alt_loc = msm.get('1BRS', alternate_location=True)\n",
    "    assert np.all(list(alt_loc[0].keys())==[2686,2687])\n",
    "\n",
    "    alt_loc_1 = alt_loc[0][2686]\n",
    "    assert np.all(alt_loc_1['location_id']==np.array(['A','B']))\n",
    "    assert np.all(alt_loc_1['occupancy']==np.array([0.5,0.5]))\n",
    "    assert np.all(alt_loc_1['atom_id']==np.array([2687,2688]))\n",
    "    aux_coors = puw.quantity(np.array([[3.2742, 2.2579, 0.1536], [3.2757, 2.2571, 0.1533]]),'nm')\n",
    "    assert puw.are_close(alt_loc_1['coordinates'], aux_coors)\n",
    "    aux_b_factor = puw.quantity(np.array([0.2466, 0.2467]),'nm**2')\n",
    "    assert puw.are_close(alt_loc_1['b_factor'], aux_b_factor)\n",
    "\n",
    "    alt_loc_2 = alt_loc[0][2687]\n",
    "    assert np.all(alt_loc_2['location_id']==np.array(['A','B']))\n",
    "    assert np.all(alt_loc_2['occupancy']==np.array([0.5,0.5]))\n",
    "    assert np.all(alt_loc_2['atom_id']==np.array([2689,2690]))\n",
    "    aux_coors = puw.quantity(np.array([[3.1412, 2.241 , 0.1076], [3.3396, 2.192 , 0.2619]]),'nm')\n",
    "    assert puw.are_close(alt_loc_2['coordinates'], aux_coors)\n",
    "    aux_b_factor = puw.quantity(np.array([0.2594, 0.2596]),'nm**2')\n",
    "    assert puw.are_close(alt_loc_2['b_factor'], aux_b_factor)\n"
   ]
  }
 ],
 "metadata": {
  "kernelspec": {
   "display_name": "Python 3 (ipykernel)",
   "language": "python",
   "name": "python3"
  },
  "language_info": {
   "codemirror_mode": {
    "name": "ipython",
    "version": 3
   },
   "file_extension": ".py",
   "mimetype": "text/x-python",
   "name": "python",
   "nbconvert_exporter": "python",
   "pygments_lexer": "ipython3",
   "version": "3.10.14"
  }
 },
 "nbformat": 4,
 "nbformat_minor": 5
}
