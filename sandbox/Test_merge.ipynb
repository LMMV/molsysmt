{
 "cells": [
  {
   "cell_type": "code",
   "execution_count": 1,
   "id": "ba4d087d-eba2-4ee0-95bd-c5c6e858d336",
   "metadata": {
    "tags": []
   },
   "outputs": [
    {
     "data": {
      "application/vnd.jupyter.widget-view+json": {
       "model_id": "8c26eda6ea414aa59e5e8286688665da",
       "version_major": 2,
       "version_minor": 0
      },
      "text/plain": []
     },
     "metadata": {},
     "output_type": "display_data"
    }
   ],
   "source": [
    "import molsysmt as msm"
   ]
  },
  {
   "cell_type": "code",
   "execution_count": 2,
   "id": "158d11bb-77e0-4b2c-b026-a5b9addd7ddc",
   "metadata": {
    "tags": []
   },
   "outputs": [],
   "source": [
    "from time import process_time"
   ]
  },
  {
   "cell_type": "code",
   "execution_count": 3,
   "id": "afd99ef0-686a-421d-8f7c-f9d0c7b0b8fb",
   "metadata": {
    "tags": []
   },
   "outputs": [],
   "source": [
    "structures = msm.convert('1QQP', to_form='molsysmt.Structures')"
   ]
  },
  {
   "cell_type": "code",
   "execution_count": 4,
   "id": "0383bff1-a5bd-4691-9a2e-901facdff4a7",
   "metadata": {
    "tags": []
   },
   "outputs": [],
   "source": [
    "list_structures = [msm.copy(structures) for ii in range(10)]"
   ]
  },
  {
   "cell_type": "code",
   "execution_count": 5,
   "id": "f1e0ef16-5fd9-434c-b63a-63933fac3845",
   "metadata": {
    "tags": []
   },
   "outputs": [
    {
     "ename": "TypeError",
     "evalue": "'NoneType' object is not subscriptable",
     "output_type": "error",
     "traceback": [
      "\u001b[0;31m---------------------------------------------------------------------------\u001b[0m",
      "\u001b[0;31mTypeError\u001b[0m                                 Traceback (most recent call last)",
      "File \u001b[0;32m<timed exec>:1\u001b[0m\n",
      "File \u001b[0;32m~/projects@dprada/MolSysMT/molsysmt/_private/digestion/digest.py:116\u001b[0m, in \u001b[0;36mdigest.<locals>.digestor.<locals>.wrapper\u001b[0;34m(*args, **kwargs)\u001b[0m\n\u001b[1;32m    114\u001b[0m     \u001b[38;5;28;01mreturn\u001b[39;00m func(all_args[\u001b[38;5;124m'\u001b[39m\u001b[38;5;124mself\u001b[39m\u001b[38;5;124m'\u001b[39m], \u001b[38;5;241m*\u001b[39m\u001b[38;5;241m*\u001b[39mfinal_args)\n\u001b[1;32m    115\u001b[0m \u001b[38;5;28;01melse\u001b[39;00m:\n\u001b[0;32m--> 116\u001b[0m     \u001b[38;5;28;01mreturn\u001b[39;00m \u001b[43mfunc\u001b[49m\u001b[43m(\u001b[49m\u001b[38;5;241;43m*\u001b[39;49m\u001b[38;5;241;43m*\u001b[39;49m\u001b[43mfinal_args\u001b[49m\u001b[43m)\u001b[49m\n",
      "File \u001b[0;32m~/projects@dprada/MolSysMT/molsysmt/form/molsysmt_Structures/merge.py:69\u001b[0m, in \u001b[0;36mmerge\u001b[0;34m(items, atom_indices, structure_indices)\u001b[0m\n\u001b[1;32m     66\u001b[0m     count_n_atoms \u001b[38;5;241m+\u001b[39m\u001b[38;5;241m=\u001b[39m aux_n_atoms\n\u001b[1;32m     68\u001b[0m output\u001b[38;5;241m.\u001b[39mcoordinates \u001b[38;5;241m=\u001b[39m puw\u001b[38;5;241m.\u001b[39mhstack(list_coordinates)\n\u001b[0;32m---> 69\u001b[0m output\u001b[38;5;241m.\u001b[39mvelocities \u001b[38;5;241m=\u001b[39m \u001b[43mpuw\u001b[49m\u001b[38;5;241;43m.\u001b[39;49m\u001b[43mhstack\u001b[49m\u001b[43m(\u001b[49m\u001b[43mlist_velocities\u001b[49m\u001b[43m)\u001b[49m\n\u001b[1;32m     70\u001b[0m output\u001b[38;5;241m.\u001b[39mb_factor \u001b[38;5;241m=\u001b[39m puw\u001b[38;5;241m.\u001b[39mhstack(list_b_factor)\n\u001b[1;32m     71\u001b[0m output\u001b[38;5;241m.\u001b[39moccupancy \u001b[38;5;241m=\u001b[39m np\u001b[38;5;241m.\u001b[39mhstack(occupancy)\n",
      "File \u001b[0;32m~/projects@dprada/PyUnitWizard/pyunitwizard/main.py:947\u001b[0m, in \u001b[0;36mhstack\u001b[0;34m(sequence, to_unit, to_form, type_value, standardized)\u001b[0m\n\u001b[1;32m    944\u001b[0m \u001b[38;5;28;01mdef\u001b[39;00m \u001b[38;5;21mhstack\u001b[39m(sequence, to_unit\u001b[38;5;241m=\u001b[39m\u001b[38;5;28;01mNone\u001b[39;00m, to_form\u001b[38;5;241m=\u001b[39m\u001b[38;5;28;01mNone\u001b[39;00m, type_value\u001b[38;5;241m=\u001b[39m\u001b[38;5;124m'\u001b[39m\u001b[38;5;124mtuple\u001b[39m\u001b[38;5;124m'\u001b[39m, standardized\u001b[38;5;241m=\u001b[39m\u001b[38;5;28;01mFalse\u001b[39;00m):\n\u001b[1;32m    946\u001b[0m     \u001b[38;5;28;01mif\u001b[39;00m to_unit \u001b[38;5;129;01mis\u001b[39;00m \u001b[38;5;28;01mNone\u001b[39;00m:\n\u001b[0;32m--> 947\u001b[0m         output_unit \u001b[38;5;241m=\u001b[39m get_unit(\u001b[43msequence\u001b[49m\u001b[43m[\u001b[49m\u001b[38;5;241;43m0\u001b[39;49m\u001b[43m]\u001b[49m\u001b[43m[\u001b[49m\u001b[38;5;241;43m0\u001b[39;49m\u001b[43m]\u001b[49m)\n\u001b[1;32m    948\u001b[0m     \u001b[38;5;28;01melse\u001b[39;00m:\n\u001b[1;32m    949\u001b[0m         output_unit \u001b[38;5;241m=\u001b[39m to_unit\n",
      "\u001b[0;31mTypeError\u001b[0m: 'NoneType' object is not subscriptable"
     ]
    }
   ],
   "source": [
    "%%time\n",
    "merged = msm.form.molsysmt_Structures.merge(list_structures)"
   ]
  },
  {
   "cell_type": "code",
   "execution_count": null,
   "id": "bff9de38-90a7-4bd7-af3a-d9cdc85db7aa",
   "metadata": {
    "tags": []
   },
   "outputs": [],
   "source": [
    "%%time\n",
    "merged = msm.merge(list_topologies)"
   ]
  },
  {
   "cell_type": "code",
   "execution_count": null,
   "id": "36d5ddfc-ad94-41d9-8b34-81a0abb7a9f6",
   "metadata": {},
   "outputs": [],
   "source": [
    "from molsysmt import pyunitwizard as puw"
   ]
  },
  {
   "cell_type": "code",
   "execution_count": null,
   "id": "d966a250-a88a-4a69-929d-b64b078cd0ab",
   "metadata": {},
   "outputs": [],
   "source": [
    "bf0=list_structures[0].b_factor"
   ]
  },
  {
   "cell_type": "code",
   "execution_count": null,
   "id": "62c1c3b4-2f8c-4425-b37c-2c0e939d0fc6",
   "metadata": {},
   "outputs": [],
   "source": [
    "bf1=list_structures[1].b_factor"
   ]
  },
  {
   "cell_type": "code",
   "execution_count": null,
   "id": "dd05bfde-5d10-49f8-8a0f-c613abb84617",
   "metadata": {},
   "outputs": [],
   "source": [
    "aa = puw.hstack([bf0,bf1])"
   ]
  },
  {
   "cell_type": "code",
   "execution_count": null,
   "id": "29ca8a17-596a-4f3c-b492-286a6f02511a",
   "metadata": {},
   "outputs": [],
   "source": [
    "aa.shape"
   ]
  },
  {
   "cell_type": "code",
   "execution_count": null,
   "id": "06d75a16-45c2-4204-9f1a-c7297107ab6f",
   "metadata": {},
   "outputs": [],
   "source": []
  }
 ],
 "metadata": {
  "kernelspec": {
   "display_name": "Python 3 (ipykernel)",
   "language": "python",
   "name": "python3"
  },
  "language_info": {
   "codemirror_mode": {
    "name": "ipython",
    "version": 3
   },
   "file_extension": ".py",
   "mimetype": "text/x-python",
   "name": "python",
   "nbconvert_exporter": "python",
   "pygments_lexer": "ipython3",
   "version": "3.9.15"
  }
 },
 "nbformat": 4,
 "nbformat_minor": 5
}
