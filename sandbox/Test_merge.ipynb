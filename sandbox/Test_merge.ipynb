{
 "cells": [
  {
   "cell_type": "code",
   "execution_count": 1,
   "id": "ba4d087d-eba2-4ee0-95bd-c5c6e858d336",
   "metadata": {
    "tags": []
   },
   "outputs": [
    {
     "data": {
      "application/vnd.jupyter.widget-view+json": {
       "model_id": "8916fad5fb8c44e386f90ede66fe04aa",
       "version_major": 2,
       "version_minor": 0
      },
      "text/plain": []
     },
     "metadata": {},
     "output_type": "display_data"
    }
   ],
   "source": [
    "import molsysmt as msm"
   ]
  },
  {
   "cell_type": "code",
   "execution_count": 17,
   "id": "c277ab88-56f5-4f47-9997-f98f8c3adc3b",
   "metadata": {},
   "outputs": [],
   "source": [
    "molsys = msm.convert('1QQP', to_form='molsysmt.MolSys')\n",
    "molsys_list = [molsys for ii in range(60)]"
   ]
  },
  {
   "cell_type": "code",
   "execution_count": 18,
   "id": "faf75eb2-517a-4d37-857a-1d6ec5c395de",
   "metadata": {},
   "outputs": [
    {
     "data": {
      "text/html": [
       "<style type=\"text/css\">\n",
       "</style>\n",
       "<table id=\"T_fa0b3\">\n",
       "  <thead>\n",
       "    <tr>\n",
       "      <th id=\"T_fa0b3_level0_col0\" class=\"col_heading level0 col0\" >form</th>\n",
       "      <th id=\"T_fa0b3_level0_col1\" class=\"col_heading level0 col1\" >n_atoms</th>\n",
       "      <th id=\"T_fa0b3_level0_col2\" class=\"col_heading level0 col2\" >n_groups</th>\n",
       "      <th id=\"T_fa0b3_level0_col3\" class=\"col_heading level0 col3\" >n_components</th>\n",
       "      <th id=\"T_fa0b3_level0_col4\" class=\"col_heading level0 col4\" >n_chains</th>\n",
       "      <th id=\"T_fa0b3_level0_col5\" class=\"col_heading level0 col5\" >n_molecules</th>\n",
       "      <th id=\"T_fa0b3_level0_col6\" class=\"col_heading level0 col6\" >n_entities</th>\n",
       "      <th id=\"T_fa0b3_level0_col7\" class=\"col_heading level0 col7\" >n_waters</th>\n",
       "      <th id=\"T_fa0b3_level0_col8\" class=\"col_heading level0 col8\" >n_proteins</th>\n",
       "      <th id=\"T_fa0b3_level0_col9\" class=\"col_heading level0 col9\" >n_oligosaccharides</th>\n",
       "      <th id=\"T_fa0b3_level0_col10\" class=\"col_heading level0 col10\" >n_structures</th>\n",
       "    </tr>\n",
       "  </thead>\n",
       "  <tbody>\n",
       "    <tr>\n",
       "      <td id=\"T_fa0b3_row0_col0\" class=\"data row0 col0\" >molsysmt.MolSys</td>\n",
       "      <td id=\"T_fa0b3_row0_col1\" class=\"data row0 col1\" >5917</td>\n",
       "      <td id=\"T_fa0b3_row0_col2\" class=\"data row0 col2\" >1306</td>\n",
       "      <td id=\"T_fa0b3_row0_col3\" class=\"data row0 col3\" >638</td>\n",
       "      <td id=\"T_fa0b3_row0_col4\" class=\"data row0 col4\" >9</td>\n",
       "      <td id=\"T_fa0b3_row0_col5\" class=\"data row0 col5\" >636</td>\n",
       "      <td id=\"T_fa0b3_row0_col6\" class=\"data row0 col6\" >2</td>\n",
       "      <td id=\"T_fa0b3_row0_col7\" class=\"data row0 col7\" >631</td>\n",
       "      <td id=\"T_fa0b3_row0_col8\" class=\"data row0 col8\" >4</td>\n",
       "      <td id=\"T_fa0b3_row0_col9\" class=\"data row0 col9\" >1</td>\n",
       "      <td id=\"T_fa0b3_row0_col10\" class=\"data row0 col10\" >1</td>\n",
       "    </tr>\n",
       "  </tbody>\n",
       "</table>\n"
      ],
      "text/plain": [
       "<pandas.io.formats.style.Styler at 0x7f31831de490>"
      ]
     },
     "execution_count": 18,
     "metadata": {},
     "output_type": "execute_result"
    }
   ],
   "source": [
    "msm.info(molsys)"
   ]
  },
  {
   "cell_type": "code",
   "execution_count": 19,
   "id": "2630fca9-34bd-4425-a2f6-695b8cbb1b68",
   "metadata": {},
   "outputs": [
    {
     "data": {
      "text/plain": [
       "5421"
      ]
     },
     "execution_count": 19,
     "metadata": {},
     "output_type": "execute_result"
    }
   ],
   "source": [
    "msm.get(molsys, n_bonds=True)"
   ]
  },
  {
   "cell_type": "code",
   "execution_count": 20,
   "id": "c892b1c7-1963-423a-8b80-d0ffd7dbce8c",
   "metadata": {},
   "outputs": [
    {
     "name": "stdout",
     "output_type": "stream",
     "text": [
      "CPU times: user 4.78 s, sys: 165 ms, total: 4.94 s\n",
      "Wall time: 4.95 s\n"
     ]
    }
   ],
   "source": [
    "%%time\n",
    "molsys_merged = msm.merge(molsys_list)"
   ]
  },
  {
   "cell_type": "code",
   "execution_count": 21,
   "id": "3e605781-6d1d-4433-8a7c-b86bd74ed3e6",
   "metadata": {},
   "outputs": [
    {
     "data": {
      "text/html": [
       "<style type=\"text/css\">\n",
       "</style>\n",
       "<table id=\"T_0195d\">\n",
       "  <thead>\n",
       "    <tr>\n",
       "      <th id=\"T_0195d_level0_col0\" class=\"col_heading level0 col0\" >form</th>\n",
       "      <th id=\"T_0195d_level0_col1\" class=\"col_heading level0 col1\" >n_atoms</th>\n",
       "      <th id=\"T_0195d_level0_col2\" class=\"col_heading level0 col2\" >n_groups</th>\n",
       "      <th id=\"T_0195d_level0_col3\" class=\"col_heading level0 col3\" >n_components</th>\n",
       "      <th id=\"T_0195d_level0_col4\" class=\"col_heading level0 col4\" >n_chains</th>\n",
       "      <th id=\"T_0195d_level0_col5\" class=\"col_heading level0 col5\" >n_molecules</th>\n",
       "      <th id=\"T_0195d_level0_col6\" class=\"col_heading level0 col6\" >n_entities</th>\n",
       "      <th id=\"T_0195d_level0_col7\" class=\"col_heading level0 col7\" >n_waters</th>\n",
       "      <th id=\"T_0195d_level0_col8\" class=\"col_heading level0 col8\" >n_proteins</th>\n",
       "      <th id=\"T_0195d_level0_col9\" class=\"col_heading level0 col9\" >n_oligosaccharides</th>\n",
       "      <th id=\"T_0195d_level0_col10\" class=\"col_heading level0 col10\" >n_structures</th>\n",
       "    </tr>\n",
       "  </thead>\n",
       "  <tbody>\n",
       "    <tr>\n",
       "      <td id=\"T_0195d_row0_col0\" class=\"data row0 col0\" >molsysmt.MolSys</td>\n",
       "      <td id=\"T_0195d_row0_col1\" class=\"data row0 col1\" >355020</td>\n",
       "      <td id=\"T_0195d_row0_col2\" class=\"data row0 col2\" >78360</td>\n",
       "      <td id=\"T_0195d_row0_col3\" class=\"data row0 col3\" >38280</td>\n",
       "      <td id=\"T_0195d_row0_col4\" class=\"data row0 col4\" >540</td>\n",
       "      <td id=\"T_0195d_row0_col5\" class=\"data row0 col5\" >38160</td>\n",
       "      <td id=\"T_0195d_row0_col6\" class=\"data row0 col6\" >2</td>\n",
       "      <td id=\"T_0195d_row0_col7\" class=\"data row0 col7\" >37860</td>\n",
       "      <td id=\"T_0195d_row0_col8\" class=\"data row0 col8\" >240</td>\n",
       "      <td id=\"T_0195d_row0_col9\" class=\"data row0 col9\" >60</td>\n",
       "      <td id=\"T_0195d_row0_col10\" class=\"data row0 col10\" >1</td>\n",
       "    </tr>\n",
       "  </tbody>\n",
       "</table>\n"
      ],
      "text/plain": [
       "<pandas.io.formats.style.Styler at 0x7f3183f2b1f0>"
      ]
     },
     "execution_count": 21,
     "metadata": {},
     "output_type": "execute_result"
    }
   ],
   "source": [
    "msm.info(molsys_merged)"
   ]
  },
  {
   "cell_type": "code",
   "execution_count": 22,
   "id": "2738a88a-2c4e-4491-ac4f-5f704305ef89",
   "metadata": {},
   "outputs": [],
   "source": [
    "pairs_bonds = msm.get(molsys, element='bond', bonded_atoms=True)\n",
    "pairs_bonds_merged = msm.get(molsys_merged, element='bond', bonded_atoms=True)\n",
    "atom_index = msm.get(molsys, element='atom', atom_index=True)\n",
    "atom_index_merged = msm.get(molsys_merged, element='atom', atom_index=True)"
   ]
  },
  {
   "cell_type": "code",
   "execution_count": 23,
   "id": "2d008a7d-4f52-405e-87cc-47b2a4f3240b",
   "metadata": {},
   "outputs": [],
   "source": [
    "import numpy as np"
   ]
  },
  {
   "cell_type": "code",
   "execution_count": 24,
   "id": "e7d6a3b3-246f-4926-a861-f19b503c2163",
   "metadata": {},
   "outputs": [
    {
     "data": {
      "text/plain": [
       "(5421, 2)"
      ]
     },
     "execution_count": 24,
     "metadata": {},
     "output_type": "execute_result"
    }
   ],
   "source": [
    "pairs_bonds.shape"
   ]
  },
  {
   "cell_type": "code",
   "execution_count": 25,
   "id": "3460faa9-ecf5-4044-83c9-ee0eeb075a65",
   "metadata": {},
   "outputs": [
    {
     "data": {
      "text/plain": [
       "(325260, 2)"
      ]
     },
     "execution_count": 25,
     "metadata": {},
     "output_type": "execute_result"
    }
   ],
   "source": [
    "pairs_bonds_merged.shape"
   ]
  },
  {
   "cell_type": "code",
   "execution_count": 11,
   "id": "462ae9a9-0a1c-4b13-adea-d98f6901ecfc",
   "metadata": {},
   "outputs": [
    {
     "data": {
      "text/plain": [
       "4750"
      ]
     },
     "execution_count": 11,
     "metadata": {},
     "output_type": "execute_result"
    }
   ],
   "source": [
    "np.argmax(pairs_bonds[:,0])"
   ]
  },
  {
   "cell_type": "code",
   "execution_count": 12,
   "id": "a1ccb26c-ca5d-4a16-a641-23472a464210",
   "metadata": {},
   "outputs": [
    {
     "data": {
      "text/plain": [
       "53539"
      ]
     },
     "execution_count": 12,
     "metadata": {},
     "output_type": "execute_result"
    }
   ],
   "source": [
    "np.argmax(pairs_bonds_merged[:,0])"
   ]
  },
  {
   "cell_type": "code",
   "execution_count": 13,
   "id": "cf530e6f-a621-43c0-b202-3cb3e6f6cc71",
   "metadata": {},
   "outputs": [
    {
     "data": {
      "text/plain": [
       "5282"
      ]
     },
     "execution_count": 13,
     "metadata": {},
     "output_type": "execute_result"
    }
   ],
   "source": [
    "np.max(pairs_bonds[:,0])"
   ]
  },
  {
   "cell_type": "code",
   "execution_count": 26,
   "id": "2b881158-2757-4456-bccd-52735cba9587",
   "metadata": {},
   "outputs": [
    {
     "data": {
      "text/plain": [
       "354385"
      ]
     },
     "execution_count": 26,
     "metadata": {},
     "output_type": "execute_result"
    }
   ],
   "source": [
    "np.max(pairs_bonds_merged[:,0])"
   ]
  },
  {
   "cell_type": "code",
   "execution_count": 15,
   "id": "223f684b-3508-4ca0-b5c9-bce4395d77b7",
   "metadata": {},
   "outputs": [
    {
     "data": {
      "text/html": [
       "<div>\n",
       "<style scoped>\n",
       "    .dataframe tbody tr th:only-of-type {\n",
       "        vertical-align: middle;\n",
       "    }\n",
       "\n",
       "    .dataframe tbody tr th {\n",
       "        vertical-align: top;\n",
       "    }\n",
       "\n",
       "    .dataframe thead th {\n",
       "        text-align: right;\n",
       "    }\n",
       "</style>\n",
       "<table border=\"1\" class=\"dataframe\">\n",
       "  <thead>\n",
       "    <tr style=\"text-align: right;\">\n",
       "      <th></th>\n",
       "      <th>atom1_index</th>\n",
       "      <th>atom2_index</th>\n",
       "      <th>order</th>\n",
       "      <th>type</th>\n",
       "    </tr>\n",
       "  </thead>\n",
       "  <tbody>\n",
       "    <tr>\n",
       "      <th>0</th>\n",
       "      <td>1</td>\n",
       "      <td>0</td>\n",
       "      <td>1</td>\n",
       "      <td>None</td>\n",
       "    </tr>\n",
       "    <tr>\n",
       "      <th>1</th>\n",
       "      <td>2</td>\n",
       "      <td>1</td>\n",
       "      <td>1</td>\n",
       "      <td>None</td>\n",
       "    </tr>\n",
       "    <tr>\n",
       "      <th>2</th>\n",
       "      <td>3</td>\n",
       "      <td>2</td>\n",
       "      <td>2</td>\n",
       "      <td>None</td>\n",
       "    </tr>\n",
       "    <tr>\n",
       "      <th>3</th>\n",
       "      <td>4</td>\n",
       "      <td>1</td>\n",
       "      <td>1</td>\n",
       "      <td>None</td>\n",
       "    </tr>\n",
       "    <tr>\n",
       "      <th>4</th>\n",
       "      <td>5</td>\n",
       "      <td>4</td>\n",
       "      <td>1</td>\n",
       "      <td>None</td>\n",
       "    </tr>\n",
       "    <tr>\n",
       "      <th>...</th>\n",
       "      <td>...</td>\n",
       "      <td>...</td>\n",
       "      <td>...</td>\n",
       "      <td>...</td>\n",
       "    </tr>\n",
       "    <tr>\n",
       "      <th>54205</th>\n",
       "      <td>58449</td>\n",
       "      <td>58443</td>\n",
       "      <td>1</td>\n",
       "      <td>None</td>\n",
       "    </tr>\n",
       "    <tr>\n",
       "      <th>54206</th>\n",
       "      <td>58470</td>\n",
       "      <td>58469</td>\n",
       "      <td>1</td>\n",
       "      <td>None</td>\n",
       "    </tr>\n",
       "    <tr>\n",
       "      <th>54207</th>\n",
       "      <td>58489</td>\n",
       "      <td>58478</td>\n",
       "      <td>1</td>\n",
       "      <td>None</td>\n",
       "    </tr>\n",
       "    <tr>\n",
       "      <th>54208</th>\n",
       "      <td>58505</td>\n",
       "      <td>58497</td>\n",
       "      <td>1</td>\n",
       "      <td>None</td>\n",
       "    </tr>\n",
       "    <tr>\n",
       "      <th>54209</th>\n",
       "      <td>58524</td>\n",
       "      <td>58513</td>\n",
       "      <td>1</td>\n",
       "      <td>None</td>\n",
       "    </tr>\n",
       "  </tbody>\n",
       "</table>\n",
       "<p>54210 rows × 4 columns</p>\n",
       "</div>"
      ],
      "text/plain": [
       "       atom1_index  atom2_index  order  type\n",
       "0                1            0      1  None\n",
       "1                2            1      1  None\n",
       "2                3            2      2  None\n",
       "3                4            1      1  None\n",
       "4                5            4      1  None\n",
       "...            ...          ...    ...   ...\n",
       "54205        58449        58443      1  None\n",
       "54206        58470        58469      1  None\n",
       "54207        58489        58478      1  None\n",
       "54208        58505        58497      1  None\n",
       "54209        58524        58513      1  None\n",
       "\n",
       "[54210 rows x 4 columns]"
      ]
     },
     "execution_count": 15,
     "metadata": {},
     "output_type": "execute_result"
    }
   ],
   "source": [
    "molsys_merged.topology.bonds_dataframe"
   ]
  },
  {
   "cell_type": "code",
   "execution_count": 16,
   "id": "02f78729-6d6c-4572-96e2-9f2e24014854",
   "metadata": {},
   "outputs": [
    {
     "data": {
      "text/plain": [
       "59169"
      ]
     },
     "execution_count": 16,
     "metadata": {},
     "output_type": "execute_result"
    }
   ],
   "source": [
    "np.max(atom_index_merged)"
   ]
  },
  {
   "cell_type": "code",
   "execution_count": null,
   "id": "c9ba8266-71c2-4c50-ab9b-8ebf3d1a2d8c",
   "metadata": {},
   "outputs": [],
   "source": [
    "aa = np.array([0,1,2,3,4,5,6,7,8,9,0,1,2,3,4,5,6,7,8,9,0,1,2,3,4,5,6,7,8,9])"
   ]
  },
  {
   "cell_type": "code",
   "execution_count": null,
   "id": "ff3a2812-7219-40a9-9584-5e32ea1eda95",
   "metadata": {},
   "outputs": [],
   "source": [
    "aa[10:20]+=10"
   ]
  },
  {
   "cell_type": "code",
   "execution_count": null,
   "id": "50ba3ae1-8d08-409c-985e-814f241a341b",
   "metadata": {},
   "outputs": [],
   "source": [
    "aa[20:30]+=20"
   ]
  },
  {
   "cell_type": "code",
   "execution_count": null,
   "id": "60aaaebe-dcb0-46ab-9916-1e08e798e855",
   "metadata": {},
   "outputs": [],
   "source": [
    "aa"
   ]
  },
  {
   "cell_type": "code",
   "execution_count": null,
   "id": "4d78f75b-8ac8-481a-9922-8ddbdb3571a7",
   "metadata": {},
   "outputs": [],
   "source": []
  }
 ],
 "metadata": {
  "kernelspec": {
   "display_name": "Python 3 (ipykernel)",
   "language": "python",
   "name": "python3"
  },
  "language_info": {
   "codemirror_mode": {
    "name": "ipython",
    "version": 3
   },
   "file_extension": ".py",
   "mimetype": "text/x-python",
   "name": "python",
   "nbconvert_exporter": "python",
   "pygments_lexer": "ipython3",
   "version": "3.9.15"
  }
 },
 "nbformat": 4,
 "nbformat_minor": 5
}
