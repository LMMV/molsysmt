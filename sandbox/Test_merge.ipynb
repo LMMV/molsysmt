{
 "cells": [
  {
   "cell_type": "code",
   "execution_count": 1,
   "id": "ba4d087d-eba2-4ee0-95bd-c5c6e858d336",
   "metadata": {
    "tags": []
   },
   "outputs": [
    {
     "data": {
      "application/vnd.jupyter.widget-view+json": {
       "model_id": "616606dbb47b48d48fea0dbffede2bb9",
       "version_major": 2,
       "version_minor": 0
      },
      "text/plain": []
     },
     "metadata": {},
     "output_type": "display_data"
    }
   ],
   "source": [
    "import molsysmt as msm"
   ]
  },
  {
   "cell_type": "code",
   "execution_count": 2,
   "id": "158d11bb-77e0-4b2c-b026-a5b9addd7ddc",
   "metadata": {
    "tags": []
   },
   "outputs": [],
   "source": [
    "from time import process_time"
   ]
  },
  {
   "cell_type": "code",
   "execution_count": 3,
   "id": "afd99ef0-686a-421d-8f7c-f9d0c7b0b8fb",
   "metadata": {
    "tags": []
   },
   "outputs": [],
   "source": [
    "mm = msm.convert('1QQP', to_form='molsysmt.MolecularMechanics')"
   ]
  },
  {
   "cell_type": "code",
   "execution_count": 4,
   "id": "0383bff1-a5bd-4691-9a2e-901facdff4a7",
   "metadata": {
    "tags": []
   },
   "outputs": [],
   "source": [
    "list_mms = [msm.copy(mm) for ii in range(10)]"
   ]
  },
  {
   "cell_type": "code",
   "execution_count": 5,
   "id": "f1e0ef16-5fd9-434c-b63a-63933fac3845",
   "metadata": {
    "tags": []
   },
   "outputs": [
    {
     "ename": "AttributeError",
     "evalue": "'str' object has no attribute 'formal_charge'",
     "output_type": "error",
     "traceback": [
      "\u001b[0;31m---------------------------------------------------------------------------\u001b[0m",
      "\u001b[0;31mAttributeError\u001b[0m                            Traceback (most recent call last)",
      "File \u001b[0;32m<timed exec>:1\u001b[0m\n",
      "File \u001b[0;32m~/projects@dprada/MolSysMT/molsysmt/_private/digestion/digest.py:116\u001b[0m, in \u001b[0;36mdigest.<locals>.digestor.<locals>.wrapper\u001b[0;34m(*args, **kwargs)\u001b[0m\n\u001b[1;32m    114\u001b[0m     \u001b[38;5;28;01mreturn\u001b[39;00m func(all_args[\u001b[38;5;124m'\u001b[39m\u001b[38;5;124mself\u001b[39m\u001b[38;5;124m'\u001b[39m], \u001b[38;5;241m*\u001b[39m\u001b[38;5;241m*\u001b[39mfinal_args)\n\u001b[1;32m    115\u001b[0m \u001b[38;5;28;01melse\u001b[39;00m:\n\u001b[0;32m--> 116\u001b[0m     \u001b[38;5;28;01mreturn\u001b[39;00m \u001b[43mfunc\u001b[49m\u001b[43m(\u001b[49m\u001b[38;5;241;43m*\u001b[39;49m\u001b[38;5;241;43m*\u001b[39;49m\u001b[43mfinal_args\u001b[49m\u001b[43m)\u001b[49m\n",
      "File \u001b[0;32m~/projects@dprada/MolSysMT/molsysmt/form/molsysmt_MolecularMechanics/merge.py:26\u001b[0m, in \u001b[0;36mmerge\u001b[0;34m(items, atom_indices)\u001b[0m\n\u001b[1;32m     22\u001b[0m \u001b[38;5;28;01mfor\u001b[39;00m aux_item, aux_atom_indices \u001b[38;5;129;01min\u001b[39;00m \u001b[38;5;28mzip\u001b[39m(items, atom_indices):\n\u001b[1;32m     24\u001b[0m     \u001b[38;5;28;01mif\u001b[39;00m is_all(aux_atom_indices):\n\u001b[0;32m---> 26\u001b[0m         list_formal_charge\u001b[38;5;241m.\u001b[39mappend(\u001b[43maux_atom_indices\u001b[49m\u001b[38;5;241;43m.\u001b[39;49m\u001b[43mformal_charge\u001b[49m)\n\u001b[1;32m     27\u001b[0m         list_partial_charge\u001b[38;5;241m.\u001b[39mappend(aux_atom_indices\u001b[38;5;241m.\u001b[39mpartial_charge)\n\u001b[1;32m     29\u001b[0m     \u001b[38;5;28;01melse\u001b[39;00m:\n",
      "\u001b[0;31mAttributeError\u001b[0m: 'str' object has no attribute 'formal_charge'"
     ]
    }
   ],
   "source": [
    "%%time\n",
    "merged = msm.form.molsysmt_MolecularMechanics.merge(list_mms)"
   ]
  },
  {
   "cell_type": "code",
   "execution_count": null,
   "id": "bff9de38-90a7-4bd7-af3a-d9cdc85db7aa",
   "metadata": {
    "tags": []
   },
   "outputs": [],
   "source": [
    "%%time\n",
    "merged = msm.merge(list_structures)"
   ]
  },
  {
   "cell_type": "code",
   "execution_count": null,
   "id": "7013b7d4-3c2f-4f22-9c4c-03ced1246f29",
   "metadata": {},
   "outputs": [],
   "source": [
    "msm.info(merged)"
   ]
  },
  {
   "cell_type": "code",
   "execution_count": null,
   "id": "c370f2a4-ad57-4f0e-9d01-720613f71908",
   "metadata": {},
   "outputs": [],
   "source": []
  }
 ],
 "metadata": {
  "kernelspec": {
   "display_name": "Python 3 (ipykernel)",
   "language": "python",
   "name": "python3"
  },
  "language_info": {
   "codemirror_mode": {
    "name": "ipython",
    "version": 3
   },
   "file_extension": ".py",
   "mimetype": "text/x-python",
   "name": "python",
   "nbconvert_exporter": "python",
   "pygments_lexer": "ipython3",
   "version": "3.9.15"
  }
 },
 "nbformat": 4,
 "nbformat_minor": 5
}
