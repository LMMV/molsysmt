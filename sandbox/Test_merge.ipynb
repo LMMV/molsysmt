{
 "cells": [
  {
   "cell_type": "code",
   "execution_count": 1,
   "id": "ba4d087d-eba2-4ee0-95bd-c5c6e858d336",
   "metadata": {},
   "outputs": [
    {
     "data": {
      "application/vnd.jupyter.widget-view+json": {
       "model_id": "a18c0942237945649ed81ad345ffde65",
       "version_major": 2,
       "version_minor": 0
      },
      "text/plain": []
     },
     "metadata": {},
     "output_type": "display_data"
    }
   ],
   "source": [
    "import molsysmt as msm"
   ]
  },
  {
   "cell_type": "code",
   "execution_count": 2,
   "id": "158d11bb-77e0-4b2c-b026-a5b9addd7ddc",
   "metadata": {},
   "outputs": [],
   "source": [
    "from time import process_time"
   ]
  },
  {
   "cell_type": "code",
   "execution_count": 3,
   "id": "afd99ef0-686a-421d-8f7c-f9d0c7b0b8fb",
   "metadata": {},
   "outputs": [],
   "source": [
    "topology = msm.convert('1QQP', to_form='molsysmt.Topology')"
   ]
  },
  {
   "cell_type": "code",
   "execution_count": 13,
   "id": "0383bff1-a5bd-4691-9a2e-901facdff4a7",
   "metadata": {},
   "outputs": [],
   "source": [
    "list_topologies = [msm.copy(topology) for ii in range(60)]"
   ]
  },
  {
   "cell_type": "code",
   "execution_count": 14,
   "id": "bff9de38-90a7-4bd7-af3a-d9cdc85db7aa",
   "metadata": {},
   "outputs": [
    {
     "name": "stdout",
     "output_type": "stream",
     "text": [
      "CPU times: user 31.6 s, sys: 2.89 s, total: 34.5 s\n",
      "Wall time: 34.5 s\n"
     ]
    }
   ],
   "source": [
    "%%time\n",
    "merged = msm.merge(list_topologies)"
   ]
  },
  {
   "cell_type": "code",
   "execution_count": 15,
   "id": "f1e0ef16-5fd9-434c-b63a-63933fac3845",
   "metadata": {},
   "outputs": [
    {
     "name": "stdout",
     "output_type": "stream",
     "text": [
      "CPU times: user 3.38 s, sys: 104 ms, total: 3.49 s\n",
      "Wall time: 3.49 s\n"
     ]
    }
   ],
   "source": [
    "%%time\n",
    "merged = msm.form.molsysmt_Topology.merge(list_topologies)"
   ]
  },
  {
   "cell_type": "code",
   "execution_count": null,
   "id": "85dcfa93-a54e-46d4-806e-713c84736584",
   "metadata": {},
   "outputs": [],
   "source": []
  }
 ],
 "metadata": {
  "kernelspec": {
   "display_name": "Python 3 (ipykernel)",
   "language": "python",
   "name": "python3"
  },
  "language_info": {
   "codemirror_mode": {
    "name": "ipython",
    "version": 3
   },
   "file_extension": ".py",
   "mimetype": "text/x-python",
   "name": "python",
   "nbconvert_exporter": "python",
   "pygments_lexer": "ipython3",
   "version": "3.9.15"
  }
 },
 "nbformat": 4,
 "nbformat_minor": 5
}
