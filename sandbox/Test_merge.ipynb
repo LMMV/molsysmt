{
 "cells": [
  {
   "cell_type": "code",
   "execution_count": 1,
   "id": "ba4d087d-eba2-4ee0-95bd-c5c6e858d336",
   "metadata": {
    "tags": []
   },
   "outputs": [
    {
     "data": {
      "application/vnd.jupyter.widget-view+json": {
       "model_id": "cc091a1fd4a548ff970bcefec3f92d13",
       "version_major": 2,
       "version_minor": 0
      },
      "text/plain": []
     },
     "metadata": {},
     "output_type": "display_data"
    }
   ],
   "source": [
    "import molsysmt as msm"
   ]
  },
  {
   "cell_type": "code",
   "execution_count": 2,
   "id": "c277ab88-56f5-4f47-9997-f98f8c3adc3b",
   "metadata": {},
   "outputs": [],
   "source": [
    "molsys_A = msm.convert(msm.demo['T4 lysozyme L99A']['181l.mmtf'], to_form='openmm.Modeller')\n",
    "molsys_B = msm.convert(molsys_A, to_form='molsysmt.MolSys')\n",
    "output = msm.compare(molsys_A, molsys_B)"
   ]
  },
  {
   "cell_type": "code",
   "execution_count": 3,
   "id": "c892b1c7-1963-423a-8b80-d0ffd7dbce8c",
   "metadata": {},
   "outputs": [
    {
     "data": {
      "text/plain": [
       "False"
      ]
     },
     "execution_count": 3,
     "metadata": {},
     "output_type": "execute_result"
    }
   ],
   "source": [
    "output"
   ]
  },
  {
   "cell_type": "code",
   "execution_count": null,
   "id": "3e605781-6d1d-4433-8a7c-b86bd74ed3e6",
   "metadata": {},
   "outputs": [],
   "source": [
    "msm.compare(molsys_A, molsys_B, report=True)"
   ]
  },
  {
   "cell_type": "code",
   "execution_count": null,
   "id": "f98299f6-9756-4516-ba33-4a34cd51cb3f",
   "metadata": {},
   "outputs": [],
   "source": []
  }
 ],
 "metadata": {
  "kernelspec": {
   "display_name": "Python 3 (ipykernel)",
   "language": "python",
   "name": "python3"
  },
  "language_info": {
   "codemirror_mode": {
    "name": "ipython",
    "version": 3
   },
   "file_extension": ".py",
   "mimetype": "text/x-python",
   "name": "python",
   "nbconvert_exporter": "python",
   "pygments_lexer": "ipython3",
   "version": "3.9.15"
  }
 },
 "nbformat": 4,
 "nbformat_minor": 5
}
