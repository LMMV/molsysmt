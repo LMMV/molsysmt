{
 "cells": [
  {
   "cell_type": "code",
   "execution_count": 1,
   "id": "ba4d087d-eba2-4ee0-95bd-c5c6e858d336",
   "metadata": {
    "tags": []
   },
   "outputs": [
    {
     "data": {
      "application/vnd.jupyter.widget-view+json": {
       "model_id": "620d7f8ede5649ad99c6ddea18b6f6e7",
       "version_major": 2,
       "version_minor": 0
      },
      "text/plain": []
     },
     "metadata": {},
     "output_type": "display_data"
    }
   ],
   "source": [
    "import molsysmt as msm"
   ]
  },
  {
   "cell_type": "code",
   "execution_count": 2,
   "id": "158d11bb-77e0-4b2c-b026-a5b9addd7ddc",
   "metadata": {
    "tags": []
   },
   "outputs": [],
   "source": [
    "from time import process_time"
   ]
  },
  {
   "cell_type": "code",
   "execution_count": 3,
   "id": "afd99ef0-686a-421d-8f7c-f9d0c7b0b8fb",
   "metadata": {
    "tags": []
   },
   "outputs": [],
   "source": [
    "structures = msm.convert('1QQP', to_form='molsysmt.Structures')"
   ]
  },
  {
   "cell_type": "code",
   "execution_count": 4,
   "id": "0383bff1-a5bd-4691-9a2e-901facdff4a7",
   "metadata": {
    "tags": []
   },
   "outputs": [],
   "source": [
    "list_structures = [msm.copy(structures) for ii in range(10)]"
   ]
  },
  {
   "cell_type": "code",
   "execution_count": 5,
   "id": "f1e0ef16-5fd9-434c-b63a-63933fac3845",
   "metadata": {
    "tags": []
   },
   "outputs": [
    {
     "name": "stdout",
     "output_type": "stream",
     "text": [
      "CPU times: user 752 µs, sys: 0 ns, total: 752 µs\n",
      "Wall time: 780 µs\n"
     ]
    }
   ],
   "source": [
    "%%time\n",
    "merged = msm.form.molsysmt_Structures.merge(list_structures)"
   ]
  },
  {
   "cell_type": "code",
   "execution_count": null,
   "id": "bff9de38-90a7-4bd7-af3a-d9cdc85db7aa",
   "metadata": {
    "tags": []
   },
   "outputs": [],
   "source": [
    "%%time\n",
    "merged = msm.merge(list_topologies)"
   ]
  },
  {
   "cell_type": "code",
   "execution_count": 6,
   "id": "85dcfa93-a54e-46d4-806e-713c84736584",
   "metadata": {
    "tags": []
   },
   "outputs": [],
   "source": [
    "aa = {1:10, 2:20, 3:30}"
   ]
  },
  {
   "cell_type": "code",
   "execution_count": 7,
   "id": "0cd53216-4bfc-47d4-ba37-214ab68535be",
   "metadata": {
    "tags": []
   },
   "outputs": [],
   "source": [
    "for key in aa.keys():\n",
    "    key+=10"
   ]
  },
  {
   "cell_type": "code",
   "execution_count": 8,
   "id": "2c8a543b-3877-4cf0-aec2-82c15455be4a",
   "metadata": {
    "tags": []
   },
   "outputs": [
    {
     "data": {
      "text/plain": [
       "{1: 10, 2: 20, 3: 30}"
      ]
     },
     "execution_count": 8,
     "metadata": {},
     "output_type": "execute_result"
    }
   ],
   "source": [
    "aa"
   ]
  },
  {
   "cell_type": "code",
   "execution_count": null,
   "id": "cfe66d00-a793-4247-bf0c-ca7f90b9d550",
   "metadata": {},
   "outputs": [],
   "source": []
  }
 ],
 "metadata": {
  "kernelspec": {
   "display_name": "Python 3 (ipykernel)",
   "language": "python",
   "name": "python3"
  },
  "language_info": {
   "codemirror_mode": {
    "name": "ipython",
    "version": 3
   },
   "file_extension": ".py",
   "mimetype": "text/x-python",
   "name": "python",
   "nbconvert_exporter": "python",
   "pygments_lexer": "ipython3",
   "version": "3.9.16"
  }
 },
 "nbformat": 4,
 "nbformat_minor": 5
}
