{
 "cells": [
  {
   "cell_type": "code",
   "execution_count": 1,
   "id": "ba4d087d-eba2-4ee0-95bd-c5c6e858d336",
   "metadata": {},
   "outputs": [
    {
     "data": {
      "application/vnd.jupyter.widget-view+json": {
       "model_id": "c48fe5480809437a9eb8ca15928ed87c",
       "version_major": 2,
       "version_minor": 0
      },
      "text/plain": []
     },
     "metadata": {},
     "output_type": "display_data"
    }
   ],
   "source": [
    "import molsysmt as msm"
   ]
  },
  {
   "cell_type": "code",
   "execution_count": 2,
   "id": "158d11bb-77e0-4b2c-b026-a5b9addd7ddc",
   "metadata": {},
   "outputs": [],
   "source": [
    "from time import process_time"
   ]
  },
  {
   "cell_type": "code",
   "execution_count": 3,
   "id": "afd99ef0-686a-421d-8f7c-f9d0c7b0b8fb",
   "metadata": {},
   "outputs": [],
   "source": [
    "topology = msm.convert('1QQP', to_form='molsysmt.Topology')"
   ]
  },
  {
   "cell_type": "code",
   "execution_count": 4,
   "id": "0383bff1-a5bd-4691-9a2e-901facdff4a7",
   "metadata": {},
   "outputs": [],
   "source": [
    "list_topologies = [msm.copy(topology) for ii in range(10)]"
   ]
  },
  {
   "cell_type": "code",
   "execution_count": 5,
   "id": "bff9de38-90a7-4bd7-af3a-d9cdc85db7aa",
   "metadata": {},
   "outputs": [
    {
     "name": "stdout",
     "output_type": "stream",
     "text": [
      "CPU times: user 3.62 s, sys: 92.8 ms, total: 3.72 s\n",
      "Wall time: 3.73 s\n"
     ]
    }
   ],
   "source": [
    "%%time\n",
    "merged = msm.merge(list_topologies)"
   ]
  },
  {
   "cell_type": "code",
   "execution_count": 6,
   "id": "f1e0ef16-5fd9-434c-b63a-63933fac3845",
   "metadata": {},
   "outputs": [
    {
     "name": "stdout",
     "output_type": "stream",
     "text": [
      "CPU times: user 556 ms, sys: 8.01 ms, total: 564 ms\n",
      "Wall time: 563 ms\n"
     ]
    }
   ],
   "source": [
    "%%time\n",
    "merged = msm.form.molsysmt_Topology.merge(list_topologies)"
   ]
  },
  {
   "cell_type": "code",
   "execution_count": 14,
   "id": "a76a42f0-827d-4836-bd60-36f3340f6f1a",
   "metadata": {},
   "outputs": [],
   "source": [
    "group_name = merged.atoms_dataframe['group_name'].to_numpy()\n",
    "molecule_index = merged.atoms_dataframe['molecule_index'].to_numpy()\n",
    "molecule_name = merged.atoms_dataframe['molecule_name'].to_numpy()\n",
    "molecule_type = merged.atoms_dataframe['molecule_type'].to_numpy()\n",
    "entity_index = merged.atoms_dataframe['entity_index'].to_numpy()\n",
    "entity_type = merged.atoms_dataframe['entity_type'].to_numpy()\n",
    "entity_name = merged.atoms_dataframe['entity_name'].to_numpy()\n",
    "entity_id = merged.atoms_dataframe['entity_id'].to_numpy()"
   ]
  },
  {
   "cell_type": "code",
   "execution_count": 11,
   "id": "6441ec5a-4857-4115-afd3-b2ed9daf9353",
   "metadata": {},
   "outputs": [],
   "source": [
    "aa = merged.atoms_dataframe['molecule_name'].to_numpy()"
   ]
  },
  {
   "cell_type": "code",
   "execution_count": 19,
   "id": "d9f8ae85-f66d-4832-9e8c-e6a6800772fe",
   "metadata": {},
   "outputs": [
    {
     "data": {
      "text/plain": [
       "'protein'"
      ]
     },
     "execution_count": 19,
     "metadata": {},
     "output_type": "execute_result"
    }
   ],
   "source": [
    "molecule_type[0]"
   ]
  },
  {
   "cell_type": "code",
   "execution_count": 10,
   "id": "79528848-6537-41a3-88f1-14030ab6414c",
   "metadata": {},
   "outputs": [],
   "source": [
    "n_atoms = len(merged.atoms_dataframe)\n",
    "entities= {}\n",
    "n_entities = 0\n",
    "n_peptides = 0\n",
    "n_proteins = 0"
   ]
  },
  {
   "cell_type": "code",
   "execution_count": null,
   "id": "65b5e9d7-f2cb-47b4-a055-df964595b6fa",
   "metadata": {},
   "outputs": [],
   "source": [
    "current_molecule_index = -1\n",
    "atom_indices_in_molecule = []\n",
    "group_names_in_molecule = []\n",
    "for ii in range(n_atoms):\n",
    "    if current_molecule_index!=molecule_index[ii]:\n",
    "        \n",
    "        current_molecule_index=molecule_index[ii]\n",
    "        current_molecule_name=molecule_name[ii]\n",
    "        current_molecule_type=molecule_type[ii]\n",
    "        \n",
    "        if current_molecule_type=='water':\n",
    "            \n",
    "            try:\n",
    "                current_entity_index = entities[current_molecule_name]['entity_index']\n",
    "                \n",
    "    else:\n",
    "        \n",
    "    "
   ]
  },
  {
   "cell_type": "code",
   "execution_count": 20,
   "id": "1495540c-4541-4930-9771-7b818bf8ae83",
   "metadata": {},
   "outputs": [
    {
     "data": {
      "text/plain": [
       "array([0, 0, 0, ..., 5, 5, 5], dtype=object)"
      ]
     },
     "execution_count": 20,
     "metadata": {},
     "output_type": "execute_result"
    }
   ],
   "source": [
    "entity_id"
   ]
  },
  {
   "cell_type": "code",
   "execution_count": null,
   "id": "85dcfa93-a54e-46d4-806e-713c84736584",
   "metadata": {},
   "outputs": [],
   "source": []
  }
 ],
 "metadata": {
  "kernelspec": {
   "display_name": "Python 3 (ipykernel)",
   "language": "python",
   "name": "python3"
  },
  "language_info": {
   "codemirror_mode": {
    "name": "ipython",
    "version": 3
   },
   "file_extension": ".py",
   "mimetype": "text/x-python",
   "name": "python",
   "nbconvert_exporter": "python",
   "pygments_lexer": "ipython3",
   "version": "3.9.15"
  }
 },
 "nbformat": 4,
 "nbformat_minor": 5
}
