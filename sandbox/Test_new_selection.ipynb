{
 "cells": [
  {
   "cell_type": "markdown",
   "id": "36347de3-e9be-4e7e-a57c-75b89cb03bee",
   "metadata": {},
   "source": [
    "# Test new selection"
   ]
  },
  {
   "cell_type": "code",
   "execution_count": 1,
   "id": "193b0c7b-7a28-48af-9619-47d935223fa3",
   "metadata": {},
   "outputs": [
    {
     "data": {
      "application/vnd.jupyter.widget-view+json": {
       "model_id": "3f52af83c26247edb424360b346939f2",
       "version_major": 2,
       "version_minor": 0
      },
      "text/plain": []
     },
     "metadata": {},
     "output_type": "display_data"
    }
   ],
   "source": [
    "import molsysmt as msm"
   ]
  },
  {
   "cell_type": "code",
   "execution_count": 2,
   "id": "659a8693-aa1b-48b8-b2cc-1d63ae0596b3",
   "metadata": {},
   "outputs": [],
   "source": [
    "molsys = msm.convert('traj.h5msm', to_form='molsysmt.TopologyNEW')"
   ]
  },
  {
   "cell_type": "code",
   "execution_count": 3,
   "id": "c674f681-037e-462c-979e-95e356aa6d18",
   "metadata": {},
   "outputs": [
    {
     "data": {
      "text/html": [
       "<style type=\"text/css\">\n",
       "</style>\n",
       "<table id=\"T_36d03\">\n",
       "  <thead>\n",
       "    <tr>\n",
       "      <th id=\"T_36d03_level0_col0\" class=\"col_heading level0 col0\" >form</th>\n",
       "      <th id=\"T_36d03_level0_col1\" class=\"col_heading level0 col1\" >n_atoms</th>\n",
       "      <th id=\"T_36d03_level0_col2\" class=\"col_heading level0 col2\" >n_groups</th>\n",
       "      <th id=\"T_36d03_level0_col3\" class=\"col_heading level0 col3\" >n_components</th>\n",
       "      <th id=\"T_36d03_level0_col4\" class=\"col_heading level0 col4\" >n_chains</th>\n",
       "      <th id=\"T_36d03_level0_col5\" class=\"col_heading level0 col5\" >n_molecules</th>\n",
       "      <th id=\"T_36d03_level0_col6\" class=\"col_heading level0 col6\" >n_entities</th>\n",
       "      <th id=\"T_36d03_level0_col7\" class=\"col_heading level0 col7\" >n_waters</th>\n",
       "      <th id=\"T_36d03_level0_col8\" class=\"col_heading level0 col8\" >n_ions</th>\n",
       "      <th id=\"T_36d03_level0_col9\" class=\"col_heading level0 col9\" >n_proteins</th>\n",
       "      <th id=\"T_36d03_level0_col10\" class=\"col_heading level0 col10\" >n_structures</th>\n",
       "    </tr>\n",
       "  </thead>\n",
       "  <tbody>\n",
       "    <tr>\n",
       "      <td id=\"T_36d03_row0_col0\" class=\"data row0 col0\" >molsysmt.TopologyNEW</td>\n",
       "      <td id=\"T_36d03_row0_col1\" class=\"data row0 col1\" >44527</td>\n",
       "      <td id=\"T_36d03_row0_col2\" class=\"data row0 col2\" >12850</td>\n",
       "      <td id=\"T_36d03_row0_col3\" class=\"data row0 col3\" >12359</td>\n",
       "      <td id=\"T_36d03_row0_col4\" class=\"data row0 col4\" >4</td>\n",
       "      <td id=\"T_36d03_row0_col5\" class=\"data row0 col5\" >12359</td>\n",
       "      <td id=\"T_36d03_row0_col6\" class=\"data row0 col6\" >1</td>\n",
       "      <td id=\"T_36d03_row0_col7\" class=\"data row0 col7\" >12351</td>\n",
       "      <td id=\"T_36d03_row0_col8\" class=\"data row0 col8\" >6</td>\n",
       "      <td id=\"T_36d03_row0_col9\" class=\"data row0 col9\" >2</td>\n",
       "      <td id=\"T_36d03_row0_col10\" class=\"data row0 col10\" >None</td>\n",
       "    </tr>\n",
       "  </tbody>\n",
       "</table>\n"
      ],
      "text/plain": [
       "<pandas.io.formats.style.Styler at 0x7f0f7b6e1f90>"
      ]
     },
     "execution_count": 3,
     "metadata": {},
     "output_type": "execute_result"
    }
   ],
   "source": [
    "msm.info(molsys)"
   ]
  },
  {
   "cell_type": "code",
   "execution_count": 4,
   "id": "a35fafda-1a67-43a4-a094-53872be92cf8",
   "metadata": {},
   "outputs": [
    {
     "data": {
      "text/plain": [
       "[[0], [1], [2], [3]]"
      ]
     },
     "execution_count": 4,
     "metadata": {},
     "output_type": "execute_result"
    }
   ],
   "source": [
    "msm.get(molsys, element='molecule', selection=[0,1,2,3], component_id=True)"
   ]
  },
  {
   "cell_type": "code",
   "execution_count": null,
   "id": "de4706b3-0a79-4eef-8838-84048bcf5557",
   "metadata": {},
   "outputs": [],
   "source": []
  }
 ],
 "metadata": {
  "kernelspec": {
   "display_name": "Python 3 (ipykernel)",
   "language": "python",
   "name": "python3"
  },
  "language_info": {
   "codemirror_mode": {
    "name": "ipython",
    "version": 3
   },
   "file_extension": ".py",
   "mimetype": "text/x-python",
   "name": "python",
   "nbconvert_exporter": "python",
   "pygments_lexer": "ipython3",
   "version": "3.10.12"
  }
 },
 "nbformat": 4,
 "nbformat_minor": 5
}
