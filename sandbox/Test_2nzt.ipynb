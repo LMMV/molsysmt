{
 "cells": [
  {
   "cell_type": "code",
   "execution_count": null,
   "id": "43ab27c3-05c6-4861-a6b7-66b456a1bfe8",
   "metadata": {},
   "outputs": [],
   "source": [
    "%load_ext autoreload\n",
    "%autoreload 2"
   ]
  },
  {
   "cell_type": "markdown",
   "id": "61640ba6-3c37-4f6b-a18c-1ec51b8fa7d5",
   "metadata": {},
   "source": [
    "# There we go!"
   ]
  },
  {
   "cell_type": "code",
   "execution_count": null,
   "id": "c37d1950-e7c8-4987-b58c-756bca754a4a",
   "metadata": {},
   "outputs": [],
   "source": [
    "import molsysmt as msm"
   ]
  },
  {
   "cell_type": "code",
   "execution_count": null,
   "id": "3bf5eb4c-2b5b-4c2a-9659-157db9eeb032",
   "metadata": {},
   "outputs": [],
   "source": [
    "#file = '/home/diego/Ixtlilton/hot_projects/hexii/AF-P52789-F1-model_v4.pdb'\n",
    "file = '/home/diego/Ixtlilton/hot_projects/hexii/em.gro'\n",
    "#file = '/home/diego/repos@uibcdf/MolSysMT/molsysmt/data/gro/gmx_coords.gro'"
   ]
  },
  {
   "cell_type": "code",
   "execution_count": null,
   "id": "78decf3e-a27b-4949-ba36-1d022c6aee24",
   "metadata": {},
   "outputs": [],
   "source": [
    "%%time\n",
    "molsys = msm.convert(file)"
   ]
  },
  {
   "cell_type": "code",
   "execution_count": null,
   "id": "9ef17c1d-de67-41ad-b6e4-9fae7f46446f",
   "metadata": {},
   "outputs": [],
   "source": [
    "msm.get(molsys, element='group', selection='group_name==\"SER\"', atom_name=True)"
   ]
  },
  {
   "cell_type": "code",
   "execution_count": null,
   "id": "58505b99-6ff3-4730-b698-2430d7a85393",
   "metadata": {},
   "outputs": [],
   "source": [
    "%%time\n",
    "msm.build.get_missing_bonds(molsys)"
   ]
  },
  {
   "cell_type": "code",
   "execution_count": null,
   "id": "52e21054-af1c-42e9-9873-1ae21d06d99e",
   "metadata": {},
   "outputs": [],
   "source": [
    "import numpy as np"
   ]
  },
  {
   "cell_type": "code",
   "execution_count": null,
   "id": "d8d10e10-13e0-4631-b676-293f05fb15d2",
   "metadata": {},
   "outputs": [],
   "source": []
  }
 ],
 "metadata": {
  "kernelspec": {
   "display_name": "Python 3 (ipykernel)",
   "language": "python",
   "name": "python3"
  },
  "language_info": {
   "codemirror_mode": {
    "name": "ipython",
    "version": 3
   },
   "file_extension": ".py",
   "mimetype": "text/x-python",
   "name": "python",
   "nbconvert_exporter": "python",
   "pygments_lexer": "ipython3",
   "version": "3.10.13"
  }
 },
 "nbformat": 4,
 "nbformat_minor": 5
}
