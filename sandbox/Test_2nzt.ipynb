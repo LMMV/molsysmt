{
 "cells": [
  {
   "cell_type": "code",
   "execution_count": 1,
   "id": "43ab27c3-05c6-4861-a6b7-66b456a1bfe8",
   "metadata": {},
   "outputs": [],
   "source": [
    "%load_ext autoreload\n",
    "%autoreload 2"
   ]
  },
  {
   "cell_type": "markdown",
   "id": "61640ba6-3c37-4f6b-a18c-1ec51b8fa7d5",
   "metadata": {},
   "source": [
    "# There we go!"
   ]
  },
  {
   "cell_type": "code",
   "execution_count": 2,
   "id": "c37d1950-e7c8-4987-b58c-756bca754a4a",
   "metadata": {},
   "outputs": [
    {
     "data": {
      "application/vnd.jupyter.widget-view+json": {
       "model_id": "398285219eb64fb1902b0c1d645f6357",
       "version_major": 2,
       "version_minor": 0
      },
      "text/plain": []
     },
     "metadata": {},
     "output_type": "display_data"
    }
   ],
   "source": [
    "import molsysmt as msm"
   ]
  },
  {
   "cell_type": "code",
   "execution_count": 3,
   "id": "78decf3e-a27b-4949-ba36-1d022c6aee24",
   "metadata": {},
   "outputs": [
    {
     "name": "stdout",
     "output_type": "stream",
     "text": [
      "5153\n"
     ]
    }
   ],
   "source": [
    "molsys = msm.convert('1BRS', 'molsysmt.Topology')"
   ]
  },
  {
   "cell_type": "code",
   "execution_count": 4,
   "id": "7d8bd689-4933-413e-8d17-dfb8b3217879",
   "metadata": {},
   "outputs": [
    {
     "data": {
      "text/plain": [
       "5151"
      ]
     },
     "execution_count": 4,
     "metadata": {},
     "output_type": "execute_result"
    }
   ],
   "source": [
    "msm.get(molsys, n_atoms=True)"
   ]
  },
  {
   "cell_type": "code",
   "execution_count": null,
   "id": "b0f0657d-e5e5-4d4f-8105-c034940879b1",
   "metadata": {},
   "outputs": [],
   "source": []
  }
 ],
 "metadata": {
  "kernelspec": {
   "display_name": "Python 3 (ipykernel)",
   "language": "python",
   "name": "python3"
  },
  "language_info": {
   "codemirror_mode": {
    "name": "ipython",
    "version": 3
   },
   "file_extension": ".py",
   "mimetype": "text/x-python",
   "name": "python",
   "nbconvert_exporter": "python",
   "pygments_lexer": "ipython3",
   "version": "3.10.13"
  }
 },
 "nbformat": 4,
 "nbformat_minor": 5
}
