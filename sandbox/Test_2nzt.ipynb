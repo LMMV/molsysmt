{
 "cells": [
  {
   "cell_type": "code",
   "execution_count": 1,
   "id": "43ab27c3-05c6-4861-a6b7-66b456a1bfe8",
   "metadata": {},
   "outputs": [],
   "source": [
    "%load_ext autoreload\n",
    "%autoreload 2"
   ]
  },
  {
   "cell_type": "markdown",
   "id": "61640ba6-3c37-4f6b-a18c-1ec51b8fa7d5",
   "metadata": {},
   "source": [
    "# There we go!"
   ]
  },
  {
   "cell_type": "code",
   "execution_count": 2,
   "id": "c37d1950-e7c8-4987-b58c-756bca754a4a",
   "metadata": {},
   "outputs": [
    {
     "data": {
      "application/vnd.jupyter.widget-view+json": {
       "model_id": "4e5ba950c2434dd49dcb698557ea70e6",
       "version_major": 2,
       "version_minor": 0
      },
      "text/plain": []
     },
     "metadata": {},
     "output_type": "display_data"
    }
   ],
   "source": [
    "import molsysmt as msm"
   ]
  },
  {
   "cell_type": "code",
   "execution_count": 3,
   "id": "a521ba75-1a05-4d64-b906-448f38e27101",
   "metadata": {},
   "outputs": [],
   "source": [
    "file = 'AF-P52789-F1-model_v4.pdb'"
   ]
  },
  {
   "cell_type": "code",
   "execution_count": 4,
   "id": "675072b0-c2db-4296-9363-7b287c564b03",
   "metadata": {},
   "outputs": [],
   "source": [
    "handler = msm.convert(file, 'molsysmt.PDBFileHandler')"
   ]
  },
  {
   "cell_type": "code",
   "execution_count": 22,
   "id": "02f89e93-a772-4faf-a824-886c0359ddd0",
   "metadata": {},
   "outputs": [],
   "source": [
    "model = handler.entry.coordinate.model[0]"
   ]
  },
  {
   "cell_type": "code",
   "execution_count": 26,
   "id": "cd2a6f84-2de1-4242-9d1b-8e6f7bae4061",
   "metadata": {},
   "outputs": [],
   "source": [
    "aa = model.record[0]"
   ]
  },
  {
   "cell_type": "code",
   "execution_count": 37,
   "id": "c0c9ecab-8ac7-469b-8573-cfa8a4f3ae42",
   "metadata": {},
   "outputs": [
    {
     "data": {
      "text/plain": [
       "' '"
      ]
     },
     "execution_count": 37,
     "metadata": {},
     "output_type": "execute_result"
    }
   ],
   "source": [
    "aa.altLoc"
   ]
  },
  {
   "cell_type": "code",
   "execution_count": null,
   "id": "74caa585-af95-44c6-a674-7f53d577b7e3",
   "metadata": {},
   "outputs": [],
   "source": [
    "top = msm.convert(handler, 'molsysmt.Topology')"
   ]
  },
  {
   "cell_type": "code",
   "execution_count": null,
   "id": "3bf5eb4c-2b5b-4c2a-9659-157db9eeb032",
   "metadata": {},
   "outputs": [],
   "source": [
    "#file = '/home/diego/Ixtlilton/hot_projects/hexii/AF-P52789-F1-model_v4.pdb'\n",
    "#file = '/home/diego/Ixtlilton/hot_projects/hexii/em.gro'\n",
    "#file = '/home/diego/repos@uibcdf/MolSysMT/molsysmt/data/gro/gmx_coords.gro'\n",
    "file = 'AF-P52789-F1-model_v4.pdb'"
   ]
  },
  {
   "cell_type": "code",
   "execution_count": null,
   "id": "1fb707ae-bc01-4820-80bb-c2a83a56e6e2",
   "metadata": {},
   "outputs": [],
   "source": [
    "#nv.show_file(file)"
   ]
  },
  {
   "cell_type": "code",
   "execution_count": null,
   "id": "78decf3e-a27b-4949-ba36-1d022c6aee24",
   "metadata": {},
   "outputs": [],
   "source": [
    "%%time\n",
    "molsys = msm.convert(file)"
   ]
  },
  {
   "cell_type": "code",
   "execution_count": null,
   "id": "857a03f1-1e03-45bd-bf7b-1ab640ac3f9f",
   "metadata": {},
   "outputs": [],
   "source": [
    "view = msm.view(molsys)"
   ]
  },
  {
   "cell_type": "code",
   "execution_count": null,
   "id": "9421934d-1e5a-453e-8eb6-871d11602529",
   "metadata": {},
   "outputs": [],
   "source": [
    "msm.convert(view)"
   ]
  },
  {
   "cell_type": "code",
   "execution_count": null,
   "id": "a4723578-dd6d-419c-b844-53689c2704a8",
   "metadata": {},
   "outputs": [],
   "source": []
  }
 ],
 "metadata": {
  "kernelspec": {
   "display_name": "Python 3 (ipykernel)",
   "language": "python",
   "name": "python3"
  },
  "language_info": {
   "codemirror_mode": {
    "name": "ipython",
    "version": 3
   },
   "file_extension": ".py",
   "mimetype": "text/x-python",
   "name": "python",
   "nbconvert_exporter": "python",
   "pygments_lexer": "ipython3",
   "version": "3.10.13"
  }
 },
 "nbformat": 4,
 "nbformat_minor": 5
}
