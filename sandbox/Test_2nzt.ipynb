{
 "cells": [
  {
   "cell_type": "code",
   "execution_count": 1,
   "id": "43ab27c3-05c6-4861-a6b7-66b456a1bfe8",
   "metadata": {},
   "outputs": [],
   "source": [
    "%load_ext autoreload\n",
    "%autoreload 2"
   ]
  },
  {
   "cell_type": "markdown",
   "id": "61640ba6-3c37-4f6b-a18c-1ec51b8fa7d5",
   "metadata": {},
   "source": [
    "# There we go!"
   ]
  },
  {
   "cell_type": "code",
   "execution_count": 2,
   "id": "c37d1950-e7c8-4987-b58c-756bca754a4a",
   "metadata": {},
   "outputs": [
    {
     "name": "stdout",
     "output_type": "stream",
     "text": [
      "The file molsysmt.data.databases.small_molecules.group_names.pkl.gz was not loaded.\n"
     ]
    },
    {
     "data": {
      "application/vnd.jupyter.widget-view+json": {
       "model_id": "61f7e32ed22e490c8aa15505d4655bbe",
       "version_major": 2,
       "version_minor": 0
      },
      "text/plain": []
     },
     "metadata": {},
     "output_type": "display_data"
    }
   ],
   "source": [
    "import molsysmt as msm"
   ]
  },
  {
   "cell_type": "code",
   "execution_count": 3,
   "id": "3bf5eb4c-2b5b-4c2a-9659-157db9eeb032",
   "metadata": {},
   "outputs": [],
   "source": [
    "#file = '/home/diego/Ixtlilton/hot_projects/hexii/AF-P52789-F1-model_v4.pdb'\n",
    "file = '/home/diego/Ixtlilton/hot_projects/hexii/em.gro'\n",
    "#file = '/home/diego/repos@uibcdf/MolSysMT/molsysmt/data/gro/gmx_coords.gro'"
   ]
  },
  {
   "cell_type": "code",
   "execution_count": 7,
   "id": "78decf3e-a27b-4949-ba36-1d022c6aee24",
   "metadata": {},
   "outputs": [
    {
     "name": "stdout",
     "output_type": "stream",
     "text": [
      "CPU times: user 43.5 s, sys: 297 ms, total: 43.8 s\n",
      "Wall time: 43.8 s\n"
     ]
    }
   ],
   "source": [
    "%%time\n",
    "molsys = msm.convert(file, get_missing_bonds=True)"
   ]
  },
  {
   "cell_type": "code",
   "execution_count": 12,
   "id": "92f32d7e-49ef-4735-bbf2-db0f67811399",
   "metadata": {},
   "outputs": [
    {
     "data": {
      "text/html": [
       "<div>\n",
       "<style scoped>\n",
       "    .dataframe tbody tr th:only-of-type {\n",
       "        vertical-align: middle;\n",
       "    }\n",
       "\n",
       "    .dataframe tbody tr th {\n",
       "        vertical-align: top;\n",
       "    }\n",
       "\n",
       "    .dataframe thead th {\n",
       "        text-align: right;\n",
       "    }\n",
       "</style>\n",
       "<table border=\"1\" class=\"dataframe\">\n",
       "  <thead>\n",
       "    <tr style=\"text-align: right;\">\n",
       "      <th></th>\n",
       "      <th>entity_id</th>\n",
       "      <th>entity_name</th>\n",
       "      <th>entity_type</th>\n",
       "    </tr>\n",
       "  </thead>\n",
       "  <tbody>\n",
       "    <tr>\n",
       "      <th>0</th>\n",
       "      <td>0</td>\n",
       "      <td>protein 0</td>\n",
       "      <td>protein</td>\n",
       "    </tr>\n",
       "    <tr>\n",
       "      <th>1</th>\n",
       "      <td>1</td>\n",
       "      <td>water</td>\n",
       "      <td>water</td>\n",
       "    </tr>\n",
       "    <tr>\n",
       "      <th>2</th>\n",
       "      <td>2</td>\n",
       "      <td>NA</td>\n",
       "      <td>ion</td>\n",
       "    </tr>\n",
       "    <tr>\n",
       "      <th>3</th>\n",
       "      <td>3</td>\n",
       "      <td>CL</td>\n",
       "      <td>ion</td>\n",
       "    </tr>\n",
       "  </tbody>\n",
       "</table>\n",
       "</div>"
      ],
      "text/plain": [
       "   entity_id entity_name entity_type\n",
       "0          0   protein 0     protein\n",
       "1          1       water       water\n",
       "2          2          NA         ion\n",
       "3          3          CL         ion"
      ]
     },
     "execution_count": 12,
     "metadata": {},
     "output_type": "execute_result"
    }
   ],
   "source": [
    "molsys.topology.entities"
   ]
  },
  {
   "cell_type": "code",
   "execution_count": 14,
   "id": "54064a25-e14d-4a1a-9c85-dccec66888f7",
   "metadata": {},
   "outputs": [
    {
     "data": {
      "text/plain": [
       "391"
      ]
     },
     "execution_count": 14,
     "metadata": {},
     "output_type": "execute_result"
    }
   ],
   "source": [
    "msm.get(molsys, element='group', selection='group_name==\"CL\"', n_groups=True)"
   ]
  },
  {
   "cell_type": "code",
   "execution_count": null,
   "id": "62912ece-6d76-4ee7-98c5-4fd2263eba4b",
   "metadata": {},
   "outputs": [],
   "source": []
  }
 ],
 "metadata": {
  "kernelspec": {
   "display_name": "Python 3 (ipykernel)",
   "language": "python",
   "name": "python3"
  },
  "language_info": {
   "codemirror_mode": {
    "name": "ipython",
    "version": 3
   },
   "file_extension": ".py",
   "mimetype": "text/x-python",
   "name": "python",
   "nbconvert_exporter": "python",
   "pygments_lexer": "ipython3",
   "version": "3.10.13"
  }
 },
 "nbformat": 4,
 "nbformat_minor": 5
}
