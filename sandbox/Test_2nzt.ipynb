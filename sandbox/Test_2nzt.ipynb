{
 "cells": [
  {
   "cell_type": "code",
   "execution_count": 1,
   "id": "43ab27c3-05c6-4861-a6b7-66b456a1bfe8",
   "metadata": {},
   "outputs": [],
   "source": [
    "%load_ext autoreload\n",
    "%autoreload 2"
   ]
  },
  {
   "cell_type": "markdown",
   "id": "61640ba6-3c37-4f6b-a18c-1ec51b8fa7d5",
   "metadata": {},
   "source": [
    "# There we go!"
   ]
  },
  {
   "cell_type": "code",
   "execution_count": 2,
   "id": "c37d1950-e7c8-4987-b58c-756bca754a4a",
   "metadata": {},
   "outputs": [
    {
     "data": {
      "application/vnd.jupyter.widget-view+json": {
       "model_id": "0ec0203640524c7589151625453fc7ff",
       "version_major": 2,
       "version_minor": 0
      },
      "text/plain": []
     },
     "metadata": {},
     "output_type": "display_data"
    }
   ],
   "source": [
    "import molsysmt as msm"
   ]
  },
  {
   "cell_type": "code",
   "execution_count": 3,
   "id": "f082ee0a-a16f-4b8e-ab9a-4dddd3a079ee",
   "metadata": {},
   "outputs": [],
   "source": [
    "file = '/usr/local/gromacs/share/gromacs/top/residues.xml'"
   ]
  },
  {
   "cell_type": "code",
   "execution_count": 14,
   "id": "b9c97e2b-0e2d-42fc-ba60-a32b5ca734d2",
   "metadata": {},
   "outputs": [],
   "source": [
    "residues={}\n",
    "with open(file,'r') as fff:\n",
    "    for line in fff:\n",
    "        if '<residue restype' in line:\n",
    "            resname=line.split('\"')[1]\n",
    "            residues[resname]={'atoms':[], 'bonds':[]}\n",
    "            tmp_dict=residues[resname]\n",
    "        elif '<ratom name=' in line:\n",
    "            tmp_dict['atoms'].append(line.split('\"')[1])\n",
    "        elif '<rbond a1' in line:\n",
    "            aux_list = line.split('\"')\n",
    "            tmp_dict['bonds'].append([aux_list[1], aux_list[3]])"
   ]
  },
  {
   "cell_type": "code",
   "execution_count": 27,
   "id": "87c6109b-15c5-4716-9f33-c8d767089920",
   "metadata": {},
   "outputs": [
    {
     "data": {
      "text/plain": [
       "{'atoms': ['N',\n",
       "  'H',\n",
       "  'CA',\n",
       "  'HA',\n",
       "  'CB',\n",
       "  'HB1',\n",
       "  'HB2',\n",
       "  'CG',\n",
       "  'OD1',\n",
       "  'OD2',\n",
       "  'C',\n",
       "  'O'],\n",
       " 'bonds': [['N', 'H'],\n",
       "  ['N', 'CA'],\n",
       "  ['CA', 'HA'],\n",
       "  ['CA', 'CB'],\n",
       "  ['CA', 'C'],\n",
       "  ['CB', 'HB1'],\n",
       "  ['CB', 'HB2'],\n",
       "  ['CB', 'CG'],\n",
       "  ['CG', 'OD1'],\n",
       "  ['CG', 'OD2'],\n",
       "  ['C', 'O'],\n",
       "  ['-C', 'N']]}"
      ]
     },
     "execution_count": 27,
     "metadata": {},
     "output_type": "execute_result"
    }
   ],
   "source": [
    "residues['ASP']"
   ]
  },
  {
   "cell_type": "code",
   "execution_count": 24,
   "id": "bea7cb72-73af-4730-949a-8815f1727b8f",
   "metadata": {},
   "outputs": [],
   "source": [
    "db = msm.element.group.amino_acid.get_group_db('ASP')"
   ]
  },
  {
   "cell_type": "code",
   "execution_count": 22,
   "id": "9049c63b-3c0e-4889-82e3-5dcb2ccebf77",
   "metadata": {},
   "outputs": [
    {
     "data": {
      "text/plain": [
       "{'name': '\"ASPARTIC ACID\"',\n",
       " 'three_letter_code': 'ASP',\n",
       " 'formal_charge': 0.0,\n",
       " 'atom_name': ['N',\n",
       "  'CA',\n",
       "  'C',\n",
       "  'O',\n",
       "  'CB',\n",
       "  'CG',\n",
       "  'OD1',\n",
       "  'OD2',\n",
       "  'OXT',\n",
       "  'H',\n",
       "  'H2',\n",
       "  'HA',\n",
       "  'HB2',\n",
       "  'HB3',\n",
       "  'HD2',\n",
       "  'HXT'],\n",
       " 'alt_atom_name': ['N',\n",
       "  'CA',\n",
       "  'C',\n",
       "  'O',\n",
       "  'CB',\n",
       "  'CG',\n",
       "  'OD1',\n",
       "  'OD2',\n",
       "  'OXT',\n",
       "  'H',\n",
       "  'HN2',\n",
       "  'HA',\n",
       "  'HB1',\n",
       "  'HB2',\n",
       "  'HD2',\n",
       "  'HXT'],\n",
       " 'atom_type': ['N',\n",
       "  'C',\n",
       "  'C',\n",
       "  'O',\n",
       "  'C',\n",
       "  'C',\n",
       "  'O',\n",
       "  'O',\n",
       "  'O',\n",
       "  'H',\n",
       "  'H',\n",
       "  'H',\n",
       "  'H',\n",
       "  'H',\n",
       "  'H',\n",
       "  'H'],\n",
       " 'charge': [0.0,\n",
       "  0.0,\n",
       "  0.0,\n",
       "  0.0,\n",
       "  0.0,\n",
       "  0.0,\n",
       "  0.0,\n",
       "  0.0,\n",
       "  0.0,\n",
       "  0.0,\n",
       "  0.0,\n",
       "  0.0,\n",
       "  0.0,\n",
       "  0.0,\n",
       "  0.0,\n",
       "  0.0],\n",
       " 'bonds': [[0, 1],\n",
       "  [0, 9],\n",
       "  [0, 10],\n",
       "  [1, 2],\n",
       "  [1, 4],\n",
       "  [1, 11],\n",
       "  [2, 3],\n",
       "  [2, 8],\n",
       "  [4, 5],\n",
       "  [4, 12],\n",
       "  [4, 13],\n",
       "  [5, 6],\n",
       "  [5, 7],\n",
       "  [7, 14],\n",
       "  [8, 15]]}"
      ]
     },
     "execution_count": 22,
     "metadata": {},
     "output_type": "execute_result"
    }
   ],
   "source": [
    "db"
   ]
  },
  {
   "cell_type": "code",
   "execution_count": null,
   "id": "3bf5eb4c-2b5b-4c2a-9659-157db9eeb032",
   "metadata": {},
   "outputs": [],
   "source": [
    "#file = '/home/diego/Ixtlilton/hot_projects/hexii/AF-P52789-F1-model_v4.pdb'\n",
    "file = '/home/diego/Ixtlilton/hot_projects/hexii/em.gro'\n",
    "#file = '/home/diego/repos@uibcdf/MolSysMT/molsysmt/data/gro/gmx_coords.gro'"
   ]
  },
  {
   "cell_type": "code",
   "execution_count": null,
   "id": "78decf3e-a27b-4949-ba36-1d022c6aee24",
   "metadata": {},
   "outputs": [],
   "source": [
    "%%time\n",
    "molsys = msm.convert(file, get_missing_bonds=False)"
   ]
  },
  {
   "cell_type": "code",
   "execution_count": null,
   "id": "9ef17c1d-de67-41ad-b6e4-9fae7f46446f",
   "metadata": {},
   "outputs": [],
   "source": [
    "msm.get(molsys, element='group', selection='group_name==\"SER\"', atom_name=True)"
   ]
  },
  {
   "cell_type": "code",
   "execution_count": null,
   "id": "58505b99-6ff3-4730-b698-2430d7a85393",
   "metadata": {},
   "outputs": [],
   "source": [
    "%%time\n",
    "msm.build.get_missing_bonds(molsys)"
   ]
  },
  {
   "cell_type": "code",
   "execution_count": null,
   "id": "52e21054-af1c-42e9-9873-1ae21d06d99e",
   "metadata": {},
   "outputs": [],
   "source": []
  }
 ],
 "metadata": {
  "kernelspec": {
   "display_name": "Python 3 (ipykernel)",
   "language": "python",
   "name": "python3"
  },
  "language_info": {
   "codemirror_mode": {
    "name": "ipython",
    "version": 3
   },
   "file_extension": ".py",
   "mimetype": "text/x-python",
   "name": "python",
   "nbconvert_exporter": "python",
   "pygments_lexer": "ipython3",
   "version": "3.10.13"
  }
 },
 "nbformat": 4,
 "nbformat_minor": 5
}
