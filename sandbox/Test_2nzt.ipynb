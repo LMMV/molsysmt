{
 "cells": [
  {
   "cell_type": "code",
   "execution_count": 1,
   "id": "43ab27c3-05c6-4861-a6b7-66b456a1bfe8",
   "metadata": {},
   "outputs": [],
   "source": [
    "%load_ext autoreload\n",
    "%autoreload 2"
   ]
  },
  {
   "cell_type": "markdown",
   "id": "61640ba6-3c37-4f6b-a18c-1ec51b8fa7d5",
   "metadata": {},
   "source": [
    "# There we go!"
   ]
  },
  {
   "cell_type": "code",
   "execution_count": null,
   "id": "c37d1950-e7c8-4987-b58c-756bca754a4a",
   "metadata": {},
   "outputs": [],
   "source": [
    "import molsysmt as msm"
   ]
  },
  {
   "cell_type": "code",
   "execution_count": null,
   "id": "fb4e2361-1bf7-4c05-8de7-a726b86084c4",
   "metadata": {},
   "outputs": [],
   "source": [
    "len(msm.element.group.amino_acid.group_names)"
   ]
  },
  {
   "cell_type": "code",
   "execution_count": null,
   "id": "bf0f3a94-7135-4b69-8e7e-26191c0e6814",
   "metadata": {},
   "outputs": [],
   "source": [
    "len(msm.element.group.amino_acid.names)"
   ]
  },
  {
   "cell_type": "code",
   "execution_count": null,
   "id": "ab4f1f7b-3a7b-4e3b-9be4-973552e9b142",
   "metadata": {},
   "outputs": [],
   "source": [
    "for ii in msm.element.group.amino_acid.names:\n",
    "    if ii not in msm.element.group.amino_acid.group_names:\n",
    "        print(ii)"
   ]
  },
  {
   "cell_type": "code",
   "execution_count": null,
   "id": "7fe1d77b-e851-4e05-9d29-946a019a1910",
   "metadata": {},
   "outputs": [],
   "source": [
    "msm.element.group.ion.group_names"
   ]
  },
  {
   "cell_type": "code",
   "execution_count": null,
   "id": "3bf5eb4c-2b5b-4c2a-9659-157db9eeb032",
   "metadata": {},
   "outputs": [],
   "source": [
    "#file = '/home/diego/Ixtlilton/hot_projects/hexii/AF-P52789-F1-model_v4.pdb'\n",
    "#file = '/home/diego/Ixtlilton/hot_projects/hexii/em.gro'\n",
    "file = '/home/diego/repos@uibcdf/MolSysMT/molsysmt/data/gro/gmx_coords.gro'"
   ]
  },
  {
   "cell_type": "code",
   "execution_count": null,
   "id": "78decf3e-a27b-4949-ba36-1d022c6aee24",
   "metadata": {},
   "outputs": [],
   "source": [
    "%%time\n",
    "molsys = msm.convert(file)"
   ]
  },
  {
   "cell_type": "code",
   "execution_count": null,
   "id": "73dcb76b-ee4f-4cc2-b7eb-9db04da288a9",
   "metadata": {},
   "outputs": [],
   "source": [
    "molsys.structures.coordinates"
   ]
  },
  {
   "cell_type": "code",
   "execution_count": null,
   "id": "19a5453d-2b57-4d85-8f86-fe423aa995d2",
   "metadata": {},
   "outputs": [],
   "source": [
    "%%time\n",
    "bonds = msm.build.get_missing_bonds(molsys)"
   ]
  },
  {
   "cell_type": "code",
   "execution_count": null,
   "id": "2069c19b-a8ff-4f2d-86b7-8d971b3da327",
   "metadata": {},
   "outputs": [],
   "source": [
    "len(bonds)"
   ]
  },
  {
   "cell_type": "code",
   "execution_count": null,
   "id": "fd60cf2e-0c48-4378-a071-eac7a91fadd7",
   "metadata": {},
   "outputs": [],
   "source": [
    "msm.get(molsys, n_waters=True)"
   ]
  },
  {
   "cell_type": "code",
   "execution_count": null,
   "id": "528fae7a-5aed-4bfc-949c-5ce5ca3ab2c6",
   "metadata": {},
   "outputs": [],
   "source": [
    "136392*2"
   ]
  },
  {
   "cell_type": "code",
   "execution_count": null,
   "id": "958598bc-159b-48ae-9acf-daa28f105816",
   "metadata": {},
   "outputs": [],
   "source": [
    "molsys.topology.groups.group_name.tolist()"
   ]
  },
  {
   "cell_type": "code",
   "execution_count": null,
   "id": "0074b23a-a798-492f-b956-2eeb81f175d3",
   "metadata": {},
   "outputs": [],
   "source": []
  }
 ],
 "metadata": {
  "kernelspec": {
   "display_name": "Python 3 (ipykernel)",
   "language": "python",
   "name": "python3"
  },
  "language_info": {
   "codemirror_mode": {
    "name": "ipython",
    "version": 3
   },
   "file_extension": ".py",
   "mimetype": "text/x-python",
   "name": "python",
   "nbconvert_exporter": "python",
   "pygments_lexer": "ipython3",
   "version": "3.10.13"
  }
 },
 "nbformat": 4,
 "nbformat_minor": 5
}
