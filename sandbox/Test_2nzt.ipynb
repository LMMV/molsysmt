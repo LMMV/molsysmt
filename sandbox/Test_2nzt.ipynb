{
 "cells": [
  {
   "cell_type": "code",
   "execution_count": 1,
   "id": "43ab27c3-05c6-4861-a6b7-66b456a1bfe8",
   "metadata": {},
   "outputs": [],
   "source": [
    "%load_ext autoreload\n",
    "%autoreload 2"
   ]
  },
  {
   "cell_type": "markdown",
   "id": "61640ba6-3c37-4f6b-a18c-1ec51b8fa7d5",
   "metadata": {},
   "source": [
    "# There we go!"
   ]
  },
  {
   "cell_type": "code",
   "execution_count": 2,
   "id": "c37d1950-e7c8-4987-b58c-756bca754a4a",
   "metadata": {},
   "outputs": [
    {
     "data": {
      "application/vnd.jupyter.widget-view+json": {
       "model_id": "212771dafed6424ab44d28c765a9e4ce",
       "version_major": 2,
       "version_minor": 0
      },
      "text/plain": []
     },
     "metadata": {},
     "output_type": "display_data"
    }
   ],
   "source": [
    "import molsysmt as msm"
   ]
  },
  {
   "cell_type": "code",
   "execution_count": 3,
   "id": "3bf5eb4c-2b5b-4c2a-9659-157db9eeb032",
   "metadata": {},
   "outputs": [],
   "source": [
    "#file = '/home/diego/Ixtlilton/hot_projects/hexii/AF-P52789-F1-model_v4.pdb'\n",
    "#file = '/home/diego/Ixtlilton/hot_projects/hexii/em.gro'\n",
    "file = '/home/diego/repos@uibcdf/MolSysMT/molsysmt/data/gro/gmx_coords.gro'"
   ]
  },
  {
   "cell_type": "code",
   "execution_count": 4,
   "id": "78decf3e-a27b-4949-ba36-1d022c6aee24",
   "metadata": {},
   "outputs": [
    {
     "name": "stdout",
     "output_type": "stream",
     "text": [
      "CPU times: user 81.4 ms, sys: 484 µs, total: 81.9 ms\n",
      "Wall time: 81.6 ms\n"
     ]
    }
   ],
   "source": [
    "%%time\n",
    "molsys = msm.convert(file)"
   ]
  },
  {
   "cell_type": "code",
   "execution_count": 5,
   "id": "19a5453d-2b57-4d85-8f86-fe423aa995d2",
   "metadata": {},
   "outputs": [
    {
     "name": "stdout",
     "output_type": "stream",
     "text": [
      "[0 3 2]\n"
     ]
    },
    {
     "ename": "TypeError",
     "evalue": "only integer scalar arrays can be converted to a scalar index",
     "output_type": "error",
     "traceback": [
      "\u001b[0;31m---------------------------------------------------------------------------\u001b[0m",
      "\u001b[0;31mTypeError\u001b[0m                                 Traceback (most recent call last)",
      "File \u001b[0;32m<timed exec>:1\u001b[0m\n",
      "File \u001b[0;32m~/repos@uibcdf/MolSysMT/molsysmt/_private/digestion/digest.py:122\u001b[0m, in \u001b[0;36mdigest.<locals>.digestor.<locals>.wrapper\u001b[0;34m(*args, **kwargs)\u001b[0m\n\u001b[1;32m    120\u001b[0m     \u001b[38;5;28;01mreturn\u001b[39;00m func(all_args[\u001b[38;5;124m'\u001b[39m\u001b[38;5;124mself\u001b[39m\u001b[38;5;124m'\u001b[39m], \u001b[38;5;241m*\u001b[39m\u001b[38;5;241m*\u001b[39mfinal_args)\n\u001b[1;32m    121\u001b[0m \u001b[38;5;28;01melse\u001b[39;00m:\n\u001b[0;32m--> 122\u001b[0m     \u001b[38;5;28;01mreturn\u001b[39;00m \u001b[43mfunc\u001b[49m\u001b[43m(\u001b[49m\u001b[38;5;241;43m*\u001b[39;49m\u001b[38;5;241;43m*\u001b[39;49m\u001b[43mfinal_args\u001b[49m\u001b[43m)\u001b[49m\n",
      "File \u001b[0;32m~/repos@uibcdf/MolSysMT/molsysmt/build/get_missing_bonds.py:98\u001b[0m, in \u001b[0;36mget_missing_bonds\u001b[0;34m(molecular_system, threshold, selection, structure_indices, syntax, engine, with_templates, skip_digestion)\u001b[0m\n\u001b[1;32m     96\u001b[0m         \u001b[38;5;28;01mfor\u001b[39;00m ii, nn \u001b[38;5;129;01min\u001b[39;00m \u001b[38;5;28mzip\u001b[39m(unk_atom_indices, neighbors[\u001b[38;5;241m0\u001b[39m]):\n\u001b[1;32m     97\u001b[0m             \u001b[38;5;28mprint\u001b[39m(nn[\u001b[38;5;241m1\u001b[39m:])\n\u001b[0;32m---> 98\u001b[0m             \u001b[38;5;28mprint\u001b[39m(atom_types[ii], \u001b[43matom_types\u001b[49m\u001b[43m[\u001b[49m\u001b[43mnn\u001b[49m\u001b[43m[\u001b[49m\u001b[38;5;241;43m1\u001b[39;49m\u001b[43m:\u001b[49m\u001b[43m]\u001b[49m\u001b[43m]\u001b[49m)\n\u001b[1;32m    102\u001b[0m \u001b[38;5;28;01melse\u001b[39;00m:\n\u001b[1;32m    103\u001b[0m     indices_with_distance \u001b[38;5;241m+\u001b[39m\u001b[38;5;241m=\u001b[39m atom_indices\n",
      "\u001b[0;31mTypeError\u001b[0m: only integer scalar arrays can be converted to a scalar index"
     ]
    }
   ],
   "source": [
    "%%time\n",
    "bonds = msm.build.get_missing_bonds(molsys)"
   ]
  },
  {
   "cell_type": "code",
   "execution_count": null,
   "id": "2069c19b-a8ff-4f2d-86b7-8d971b3da327",
   "metadata": {},
   "outputs": [],
   "source": [
    "len(bonds)"
   ]
  },
  {
   "cell_type": "code",
   "execution_count": null,
   "id": "fd60cf2e-0c48-4378-a071-eac7a91fadd7",
   "metadata": {},
   "outputs": [],
   "source": [
    "msm.get(molsys, n_waters=True)"
   ]
  },
  {
   "cell_type": "code",
   "execution_count": null,
   "id": "528fae7a-5aed-4bfc-949c-5ce5ca3ab2c6",
   "metadata": {},
   "outputs": [],
   "source": [
    "136392*2"
   ]
  },
  {
   "cell_type": "code",
   "execution_count": null,
   "id": "958598bc-159b-48ae-9acf-daa28f105816",
   "metadata": {},
   "outputs": [],
   "source": [
    "molsys.topology.groups.group_name.tolist()"
   ]
  },
  {
   "cell_type": "code",
   "execution_count": null,
   "id": "0074b23a-a798-492f-b956-2eeb81f175d3",
   "metadata": {},
   "outputs": [],
   "source": [
    "sorted([[1,0],[0,2],[4,3],[2,4]])"
   ]
  },
  {
   "cell_type": "code",
   "execution_count": null,
   "id": "52e21054-af1c-42e9-9873-1ae21d06d99e",
   "metadata": {},
   "outputs": [],
   "source": []
  }
 ],
 "metadata": {
  "kernelspec": {
   "display_name": "Python 3 (ipykernel)",
   "language": "python",
   "name": "python3"
  },
  "language_info": {
   "codemirror_mode": {
    "name": "ipython",
    "version": 3
   },
   "file_extension": ".py",
   "mimetype": "text/x-python",
   "name": "python",
   "nbconvert_exporter": "python",
   "pygments_lexer": "ipython3",
   "version": "3.10.13"
  }
 },
 "nbformat": 4,
 "nbformat_minor": 5
}
