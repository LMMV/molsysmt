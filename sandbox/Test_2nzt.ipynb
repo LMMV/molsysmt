{
 "cells": [
  {
   "cell_type": "code",
   "execution_count": 1,
   "id": "43ab27c3-05c6-4861-a6b7-66b456a1bfe8",
   "metadata": {},
   "outputs": [],
   "source": [
    "%load_ext autoreload\n",
    "%autoreload 2"
   ]
  },
  {
   "cell_type": "markdown",
   "id": "61640ba6-3c37-4f6b-a18c-1ec51b8fa7d5",
   "metadata": {},
   "source": [
    "# There we go!"
   ]
  },
  {
   "cell_type": "code",
   "execution_count": 2,
   "id": "c37d1950-e7c8-4987-b58c-756bca754a4a",
   "metadata": {},
   "outputs": [
    {
     "data": {
      "application/vnd.jupyter.widget-view+json": {
       "model_id": "ca2441b51f3040c3a51deb0eb0a61996",
       "version_major": 2,
       "version_minor": 0
      },
      "text/plain": []
     },
     "metadata": {},
     "output_type": "display_data"
    }
   ],
   "source": [
    "import molsysmt as msm"
   ]
  },
  {
   "cell_type": "code",
   "execution_count": 3,
   "id": "3bf5eb4c-2b5b-4c2a-9659-157db9eeb032",
   "metadata": {},
   "outputs": [],
   "source": [
    "#file = '/home/diego/Ixtlilton/hot_projects/hexii/AF-P52789-F1-model_v4.pdb'\n",
    "file = '/home/diego/Ixtlilton/hot_projects/hexii/em.gro'\n",
    "#file = '/home/diego/repos@uibcdf/MolSysMT/molsysmt/data/gro/gmx_coords.gro'"
   ]
  },
  {
   "cell_type": "code",
   "execution_count": 4,
   "id": "78decf3e-a27b-4949-ba36-1d022c6aee24",
   "metadata": {},
   "outputs": [
    {
     "name": "stdout",
     "output_type": "stream",
     "text": [
      "CPU times: user 497 ms, sys: 52.8 ms, total: 550 ms\n",
      "Wall time: 1.9 s\n"
     ]
    }
   ],
   "source": [
    "%%time\n",
    "molsys = msm.convert('2LAO')"
   ]
  },
  {
   "cell_type": "code",
   "execution_count": 5,
   "id": "278c8367-89aa-4b70-aad4-ac75d45e6779",
   "metadata": {},
   "outputs": [
    {
     "data": {
      "text/plain": [
       "<molsysmt.native.molsys.MolSys at 0x7f6b21da4a60>"
      ]
     },
     "execution_count": 5,
     "metadata": {},
     "output_type": "execute_result"
    }
   ],
   "source": [
    "msm.remove(molsys, [0,1,2])"
   ]
  },
  {
   "cell_type": "code",
   "execution_count": null,
   "id": "c8f802e5-6583-44ac-88cb-b05f7744328a",
   "metadata": {},
   "outputs": [],
   "source": [
    "msm.view(molsys)"
   ]
  },
  {
   "cell_type": "code",
   "execution_count": null,
   "id": "92f32d7e-49ef-4735-bbf2-db0f67811399",
   "metadata": {},
   "outputs": [],
   "source": [
    "molsys.topology.entities"
   ]
  },
  {
   "cell_type": "code",
   "execution_count": null,
   "id": "54064a25-e14d-4a1a-9c85-dccec66888f7",
   "metadata": {},
   "outputs": [],
   "source": [
    "msm.get(molsys, element='group', selection='group_name==\"CL\"', n_groups=True)"
   ]
  },
  {
   "cell_type": "code",
   "execution_count": null,
   "id": "62912ece-6d76-4ee7-98c5-4fd2263eba4b",
   "metadata": {},
   "outputs": [],
   "source": []
  }
 ],
 "metadata": {
  "kernelspec": {
   "display_name": "Python 3 (ipykernel)",
   "language": "python",
   "name": "python3"
  },
  "language_info": {
   "codemirror_mode": {
    "name": "ipython",
    "version": 3
   },
   "file_extension": ".py",
   "mimetype": "text/x-python",
   "name": "python",
   "nbconvert_exporter": "python",
   "pygments_lexer": "ipython3",
   "version": "3.10.13"
  }
 },
 "nbformat": 4,
 "nbformat_minor": 5
}
