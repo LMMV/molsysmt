{
 "cells": [
  {
   "cell_type": "code",
   "execution_count": 1,
   "id": "43ab27c3-05c6-4861-a6b7-66b456a1bfe8",
   "metadata": {},
   "outputs": [],
   "source": [
    "%load_ext autoreload\n",
    "%autoreload 2"
   ]
  },
  {
   "cell_type": "markdown",
   "id": "61640ba6-3c37-4f6b-a18c-1ec51b8fa7d5",
   "metadata": {},
   "source": [
    "# There we go!"
   ]
  },
  {
   "cell_type": "code",
   "execution_count": 2,
   "id": "c37d1950-e7c8-4987-b58c-756bca754a4a",
   "metadata": {},
   "outputs": [
    {
     "data": {
      "application/vnd.jupyter.widget-view+json": {
       "model_id": "f9a7184fab98490c88954d4722e27c02",
       "version_major": 2,
       "version_minor": 0
      },
      "text/plain": []
     },
     "metadata": {},
     "output_type": "display_data"
    }
   ],
   "source": [
    "import molsysmt as msm"
   ]
  },
  {
   "cell_type": "code",
   "execution_count": 3,
   "id": "a521ba75-1a05-4d64-b906-448f38e27101",
   "metadata": {},
   "outputs": [],
   "source": [
    "file = 'AF-P52789-F1-model_v4.pdb'"
   ]
  },
  {
   "cell_type": "code",
   "execution_count": 4,
   "id": "675072b0-c2db-4296-9363-7b287c564b03",
   "metadata": {},
   "outputs": [],
   "source": [
    "molsys = msm.convert(file, get_missing_bonds=False)"
   ]
  },
  {
   "cell_type": "code",
   "execution_count": 5,
   "id": "8d511c53-0ae3-49e1-a9cc-b4b76c6907ce",
   "metadata": {},
   "outputs": [
    {
     "data": {
      "text/html": [
       "<style type=\"text/css\">\n",
       "</style>\n",
       "<table id=\"T_ee150\">\n",
       "  <thead>\n",
       "    <tr>\n",
       "      <th id=\"T_ee150_level0_col0\" class=\"col_heading level0 col0\" >form</th>\n",
       "      <th id=\"T_ee150_level0_col1\" class=\"col_heading level0 col1\" >n_atoms</th>\n",
       "      <th id=\"T_ee150_level0_col2\" class=\"col_heading level0 col2\" >n_groups</th>\n",
       "      <th id=\"T_ee150_level0_col3\" class=\"col_heading level0 col3\" >n_components</th>\n",
       "      <th id=\"T_ee150_level0_col4\" class=\"col_heading level0 col4\" >n_chains</th>\n",
       "      <th id=\"T_ee150_level0_col5\" class=\"col_heading level0 col5\" >n_molecules</th>\n",
       "      <th id=\"T_ee150_level0_col6\" class=\"col_heading level0 col6\" >n_entities</th>\n",
       "      <th id=\"T_ee150_level0_col7\" class=\"col_heading level0 col7\" >n_structures</th>\n",
       "    </tr>\n",
       "  </thead>\n",
       "  <tbody>\n",
       "    <tr>\n",
       "      <td id=\"T_ee150_row0_col0\" class=\"data row0 col0\" >molsysmt.MolSys</td>\n",
       "      <td id=\"T_ee150_row0_col1\" class=\"data row0 col1\" >7158</td>\n",
       "      <td id=\"T_ee150_row0_col2\" class=\"data row0 col2\" >917</td>\n",
       "      <td id=\"T_ee150_row0_col3\" class=\"data row0 col3\" >0</td>\n",
       "      <td id=\"T_ee150_row0_col4\" class=\"data row0 col4\" >1</td>\n",
       "      <td id=\"T_ee150_row0_col5\" class=\"data row0 col5\" >0</td>\n",
       "      <td id=\"T_ee150_row0_col6\" class=\"data row0 col6\" >0</td>\n",
       "      <td id=\"T_ee150_row0_col7\" class=\"data row0 col7\" >1</td>\n",
       "    </tr>\n",
       "  </tbody>\n",
       "</table>\n"
      ],
      "text/plain": [
       "<pandas.io.formats.style.Styler at 0x7f4addf40070>"
      ]
     },
     "execution_count": 5,
     "metadata": {},
     "output_type": "execute_result"
    }
   ],
   "source": [
    "msm.info(molsys)"
   ]
  },
  {
   "cell_type": "code",
   "execution_count": 6,
   "id": "a74b9fa6-44fd-4c66-9430-a5fc93198b7a",
   "metadata": {},
   "outputs": [],
   "source": [
    "msm.build.add_missing_bonds(molsys)"
   ]
  },
  {
   "cell_type": "code",
   "execution_count": null,
   "id": "3bf5eb4c-2b5b-4c2a-9659-157db9eeb032",
   "metadata": {},
   "outputs": [],
   "source": [
    "#file = '/home/diego/Ixtlilton/hot_projects/hexii/AF-P52789-F1-model_v4.pdb'\n",
    "#file = '/home/diego/Ixtlilton/hot_projects/hexii/em.gro'\n",
    "#file = '/home/diego/repos@uibcdf/MolSysMT/molsysmt/data/gro/gmx_coords.gro'\n",
    "file = 'AF-P52789-F1-model_v4.pdb'"
   ]
  },
  {
   "cell_type": "code",
   "execution_count": null,
   "id": "1fb707ae-bc01-4820-80bb-c2a83a56e6e2",
   "metadata": {},
   "outputs": [],
   "source": [
    "#nv.show_file(file)"
   ]
  },
  {
   "cell_type": "code",
   "execution_count": null,
   "id": "78decf3e-a27b-4949-ba36-1d022c6aee24",
   "metadata": {},
   "outputs": [],
   "source": [
    "%%time\n",
    "molsys = msm.convert(file)"
   ]
  },
  {
   "cell_type": "code",
   "execution_count": null,
   "id": "857a03f1-1e03-45bd-bf7b-1ab640ac3f9f",
   "metadata": {},
   "outputs": [],
   "source": [
    "view = msm.view(molsys)"
   ]
  },
  {
   "cell_type": "code",
   "execution_count": null,
   "id": "9421934d-1e5a-453e-8eb6-871d11602529",
   "metadata": {},
   "outputs": [],
   "source": [
    "msm.convert(view)"
   ]
  },
  {
   "cell_type": "code",
   "execution_count": null,
   "id": "a4723578-dd6d-419c-b844-53689c2704a8",
   "metadata": {},
   "outputs": [],
   "source": []
  }
 ],
 "metadata": {
  "kernelspec": {
   "display_name": "Python 3 (ipykernel)",
   "language": "python",
   "name": "python3"
  },
  "language_info": {
   "codemirror_mode": {
    "name": "ipython",
    "version": 3
   },
   "file_extension": ".py",
   "mimetype": "text/x-python",
   "name": "python",
   "nbconvert_exporter": "python",
   "pygments_lexer": "ipython3",
   "version": "3.10.13"
  }
 },
 "nbformat": 4,
 "nbformat_minor": 5
}
