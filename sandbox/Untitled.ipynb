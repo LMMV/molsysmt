{
 "cells": [
  {
   "cell_type": "code",
   "execution_count": 1,
   "id": "1c6a5d67-39d9-4fe1-a2f8-9564026ac089",
   "metadata": {},
   "outputs": [
    {
     "name": "stderr",
     "output_type": "stream",
     "text": [
      "/home/diego/projects@dprada/MolSysMT/molsysmt/lib/box.py:44: NumbaPerformanceWarning: \u001b[1m\u001b[1m\u001b[1mnp.dot() is faster on contiguous arrays, called on (array(float64, 1d, A), array(float64, 1d, A))\u001b[0m\u001b[0m\u001b[0m\n",
      "  a=math.acos(np.dot(v1,v2)/(y*z)) # alpha: v2 and v3\n",
      "/home/diego/projects@dprada/MolSysMT/molsysmt/lib/box.py:44: NumbaPerformanceWarning: \u001b[1m\u001b[1mnp.dot() is faster on contiguous arrays, called on (array(float64, 1d, A), array(float64, 1d, A))\u001b[0m\u001b[0m\n",
      "  a=math.acos(np.dot(v1,v2)/(y*z)) # alpha: v2 and v3\n"
     ]
    },
    {
     "data": {
      "application/vnd.jupyter.widget-view+json": {
       "model_id": "97b6c4da0da14506890da5919f4006a1",
       "version_major": 2,
       "version_minor": 0
      },
      "text/plain": []
     },
     "metadata": {},
     "output_type": "display_data"
    }
   ],
   "source": [
    "import molsysmt as msm"
   ]
  },
  {
   "cell_type": "code",
   "execution_count": null,
   "id": "d8aafa6a-325a-49d4-b6ea-b518cf94ed9f",
   "metadata": {},
   "outputs": [],
   "source": [
    "molsys = msm.demo['pentalanine']['traj.h5']\n",
    "molsys = msm.convert(molsys, to_form='molsysmt.MolSys')\n",
    "molsys_2 = msm.copy(molsys)\n",
    "output = msm.compare(molsys, molsys_2, attributes_type='topological', coordinates=True, box=True)\n",
    "assert output==True\n"
   ]
  }
 ],
 "metadata": {
  "kernelspec": {
   "display_name": "Python 3 (ipykernel)",
   "language": "python",
   "name": "python3"
  },
  "language_info": {
   "codemirror_mode": {
    "name": "ipython",
    "version": 3
   },
   "file_extension": ".py",
   "mimetype": "text/x-python",
   "name": "python",
   "nbconvert_exporter": "python",
   "pygments_lexer": "ipython3",
   "version": "3.9.15"
  }
 },
 "nbformat": 4,
 "nbformat_minor": 5
}
