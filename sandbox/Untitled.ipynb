{
 "cells": [
  {
   "cell_type": "code",
   "execution_count": 1,
   "id": "4fc6e5df-34a9-413c-8365-b77ab87afe04",
   "metadata": {},
   "outputs": [
    {
     "data": {
      "application/vnd.jupyter.widget-view+json": {
       "model_id": "60413ab20e274bf7b0c069ce061449ce",
       "version_major": 2,
       "version_minor": 0
      },
      "text/plain": []
     },
     "metadata": {},
     "output_type": "display_data"
    }
   ],
   "source": [
    "import molsysmt as msm"
   ]
  },
  {
   "cell_type": "code",
   "execution_count": 2,
   "id": "e389e7b3-93da-4915-b954-8ed5aabde6e1",
   "metadata": {},
   "outputs": [],
   "source": [
    "psf_file = msm.demo['membrane']['membrane.psf']"
   ]
  },
  {
   "cell_type": "code",
   "execution_count": 3,
   "id": "d0e6a2eb-b616-483c-9524-9396e766f258",
   "metadata": {},
   "outputs": [],
   "source": [
    "dcd_file = msm.demo['membrane']['membrane.dcd']"
   ]
  },
  {
   "cell_type": "code",
   "execution_count": 4,
   "id": "723e802e-e8d5-454e-ab52-e338a54688a9",
   "metadata": {},
   "outputs": [],
   "source": [
    "molsys = msm.convert([psf_file, dcd_file], to_form='molsysmt.Structures')"
   ]
  },
  {
   "cell_type": "code",
   "execution_count": 5,
   "id": "43f2e385-e8bf-4aac-a20c-a83bce35828e",
   "metadata": {},
   "outputs": [],
   "source": [
    "    psf_file = msm.demo['membrane']['membrane.psf']\n",
    "    dcd_file = msm.demo['membrane']['membrane.dcd']\n",
    "    molsys = msm.convert([psf_file, dcd_file], to_form='molsysmt.Structures')\n",
    "    form = msm.get_form(molsys)\n",
    "    n_atoms, n_structures = msm.get(molsys, n_atoms=True, n_structures=True)\n",
    "    assert 'molsysmt.Structures'==form\n",
    "    assert n_atoms==78974\n",
    "    assert n_structures==50\n"
   ]
  },
  {
   "cell_type": "code",
   "execution_count": 8,
   "id": "f1ba5d73-b3ba-45f7-aac2-1e2c3fe8bfa5",
   "metadata": {},
   "outputs": [
    {
     "data": {
      "text/plain": [
       "50"
      ]
     },
     "execution_count": 8,
     "metadata": {},
     "output_type": "execute_result"
    }
   ],
   "source": [
    "n_structures"
   ]
  },
  {
   "cell_type": "code",
   "execution_count": null,
   "id": "26edd037-7d41-437a-a42e-0dd311ef8d7e",
   "metadata": {},
   "outputs": [],
   "source": []
  }
 ],
 "metadata": {
  "kernelspec": {
   "display_name": "Python 3 (ipykernel)",
   "language": "python",
   "name": "python3"
  },
  "language_info": {
   "codemirror_mode": {
    "name": "ipython",
    "version": 3
   },
   "file_extension": ".py",
   "mimetype": "text/x-python",
   "name": "python",
   "nbconvert_exporter": "python",
   "pygments_lexer": "ipython3",
   "version": "3.10.11"
  }
 },
 "nbformat": 4,
 "nbformat_minor": 5
}
