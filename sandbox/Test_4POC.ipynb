{
 "cells": [
  {
   "cell_type": "markdown",
   "id": "85d75849-5640-43b7-8b93-87cdbf6b8792",
   "metadata": {},
   "source": [
    "# Test 4POC"
   ]
  },
  {
   "cell_type": "code",
   "execution_count": 1,
   "id": "25e3878c-31e9-43e8-ae45-e364ca740f88",
   "metadata": {},
   "outputs": [
    {
     "data": {
      "application/vnd.jupyter.widget-view+json": {
       "model_id": "77d7ffa4c3764dcf91228be4d812b42b",
       "version_major": 2,
       "version_minor": 0
      },
      "text/plain": []
     },
     "metadata": {},
     "output_type": "display_data"
    }
   ],
   "source": [
    "import molsysmt as msm\n",
    "import openmm as mm\n",
    "from openmm import app\n",
    "from openmm import unit"
   ]
  },
  {
   "cell_type": "code",
   "execution_count": 2,
   "id": "997b0e01-6616-49b2-aee6-d59a6f0d3841",
   "metadata": {},
   "outputs": [],
   "source": [
    "molsys = msm.convert('4POC')\n",
    "molsys = msm.extract(molsys, selection='molecule_type==\"protein\"')\n",
    "molsys = msm.build.add_missing_hydrogens(molsys)\n",
    "molsys = msm.build.solvate(molsys)\n",
    "\n",
    "#molsys = msm.convert('initial.msmpk')"
   ]
  },
  {
   "cell_type": "code",
   "execution_count": 3,
   "id": "705fd193-4c0b-4769-a383-ed2cea4ed41e",
   "metadata": {},
   "outputs": [],
   "source": [
    "topology = msm.convert(molsys, 'openmm.Topology')\n",
    "coordinates = msm.get(molsys, coordinates=True)\n",
    "positions = msm.pyunitwizard.convert(coordinates[0], to_form='openmm.unit')"
   ]
  },
  {
   "cell_type": "code",
   "execution_count": 4,
   "id": "b457584e-7193-4fdc-a3fa-4ecef0e55cbc",
   "metadata": {},
   "outputs": [],
   "source": [
    "forcefield = app.ForceField('amber14-all.xml', 'amber14/tip3p.xml')"
   ]
  },
  {
   "cell_type": "code",
   "execution_count": 5,
   "id": "26977dc3-9bf6-487f-abb4-ac81c91b7b86",
   "metadata": {},
   "outputs": [],
   "source": [
    "system = forcefield.createSystem(topology, nonbondedMethod=app.PME,\n",
    "        nonbondedCutoff=1.2*unit.nanometer, constraints=app.HBonds)"
   ]
  },
  {
   "cell_type": "code",
   "execution_count": 6,
   "id": "1f76c614-5a50-444a-a950-6678cab1a454",
   "metadata": {},
   "outputs": [],
   "source": [
    "integrator = mm.LangevinIntegrator(300*unit.kelvin, 1.0/unit.picosecond, 2.0*unit.femtoseconds)"
   ]
  },
  {
   "cell_type": "code",
   "execution_count": 7,
   "id": "ed4997da-1b00-4664-8d9f-cf7ab6f7ea71",
   "metadata": {},
   "outputs": [],
   "source": [
    "platform = mm.Platform.getPlatformByName(\"CPU\")"
   ]
  },
  {
   "cell_type": "code",
   "execution_count": 8,
   "id": "bc19a710-d9e2-4d2a-a6b3-1aa4e22b318e",
   "metadata": {},
   "outputs": [],
   "source": [
    "simulation = app.Simulation(topology, system, integrator, platform)"
   ]
  },
  {
   "cell_type": "code",
   "execution_count": 9,
   "id": "0d12f6fd-0bd2-44fe-b108-a0e39c26a2a0",
   "metadata": {},
   "outputs": [],
   "source": [
    "simulation.context.setPositions(positions)"
   ]
  },
  {
   "cell_type": "code",
   "execution_count": 10,
   "id": "f59ef843-5cb1-4660-b4b3-feef261d18c7",
   "metadata": {},
   "outputs": [],
   "source": [
    "#simulation.minimizeEnergy()\n",
    "\n",
    "#msm.convert(simulation, 'initial.msmpk')"
   ]
  },
  {
   "cell_type": "code",
   "execution_count": 11,
   "id": "a8349276-0fb5-41c7-b641-70e44ff2b3ab",
   "metadata": {},
   "outputs": [],
   "source": [
    "simulation.context.setVelocitiesToTemperature(300*unit.kelvin)"
   ]
  },
  {
   "cell_type": "code",
   "execution_count": 12,
   "id": "c07b33db-d346-4732-b65c-26cb5174ceed",
   "metadata": {},
   "outputs": [],
   "source": [
    "from molsysmt.thirds.openmm.reporters import H5MSMReporter\n",
    "from molsysmt.thirds.openmm.reporters import TQDMReporter\n",
    "\n",
    "tqdm_reporter = TQDMReporter(10, 100)\n",
    "simulation.reporters.append(tqdm_reporter)\n",
    "\n",
    "msmh5_reporter = H5MSMReporter('traj.h5msm', 10, steps=100, selection='all',\n",
    "            topology=topology, time=True, box=True, coordinates=True, velocities=False,\n",
    "            potentialEnergy=True, kineticEnergy=True, temperature=True,\n",
    "            includeInitialContext=True, constantReportInterval=True,\n",
    "            constantStepSize=True, constantBox=True, auto_close=True)\n",
    "simulation.reporters.append(msmh5_reporter)"
   ]
  },
  {
   "cell_type": "code",
   "execution_count": 13,
   "id": "7a3b7e7f-7c24-4ddd-a286-22492905e7c7",
   "metadata": {},
   "outputs": [
    {
     "data": {
      "application/vnd.jupyter.widget-view+json": {
       "model_id": "1042967719ce49fc86b9f7e418cfd87b",
       "version_major": 2,
       "version_minor": 0
      },
      "text/plain": [
       "  0%|          | 0/100 [00:00<?, ?it/s]"
      ]
     },
     "metadata": {},
     "output_type": "display_data"
    },
    {
     "name": "stdout",
     "output_type": "stream",
     "text": [
      "\n",
      "Potential energy: -440514.74 kJ/mol ± 38312.31 kJ/mol\n",
      "Temperature: 519.46 K ± 80.45 K\n",
      "\n",
      "Execution time: 0 days, 0 hours, 0 minutes, and 15.54 seconds (1.112 ns/day).\n",
      "\n"
     ]
    }
   ],
   "source": [
    "simulation.step(100)"
   ]
  },
  {
   "cell_type": "code",
   "execution_count": null,
   "id": "7de00118-daec-4a61-a390-e60c8636c0f3",
   "metadata": {},
   "outputs": [],
   "source": []
  }
 ],
 "metadata": {
  "kernelspec": {
   "display_name": "Python 3 (ipykernel)",
   "language": "python",
   "name": "python3"
  },
  "language_info": {
   "codemirror_mode": {
    "name": "ipython",
    "version": 3
   },
   "file_extension": ".py",
   "mimetype": "text/x-python",
   "name": "python",
   "nbconvert_exporter": "python",
   "pygments_lexer": "ipython3",
   "version": "3.10.13"
  }
 },
 "nbformat": 4,
 "nbformat_minor": 5
}
