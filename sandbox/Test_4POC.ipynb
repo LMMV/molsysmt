{
 "cells": [
  {
   "cell_type": "markdown",
   "id": "85d75849-5640-43b7-8b93-87cdbf6b8792",
   "metadata": {},
   "source": [
    "# Test 4POC"
   ]
  },
  {
   "cell_type": "code",
   "execution_count": null,
   "id": "3a458c82-e637-4f64-b3ff-2cadd0500128",
   "metadata": {},
   "outputs": [],
   "source": [
    "import molsysmt as msm\n",
    "import openmm as mm\n",
    "from openmm import app\n",
    "from openmm import unit\n",
    "\n",
    "#molsys = msm.convert('4POC')\n",
    "#molsys = msm.extract(molsys, selection='molecule_type==\"protein\"')\n",
    "#molsys = msm.build.add_missing_hydrogens(molsys)\n",
    "#molsys = msm.build.solvate(molsys)\n",
    "\n",
    "molsys = msm.convert('initial.msmpk')\n",
    "\n",
    "topology = msm.convert(molsys, 'openmm.Topology')\n",
    "coordinates = msm.get(molsys, coordinates=True)\n",
    "positions = msm.pyunitwizard.convert(coordinates[0], to_form='openmm.unit')\n",
    "\n",
    "forcefield = app.ForceField('amber14-all.xml', 'amber14/tip3p.xml')\n",
    "\n",
    "\n",
    "system = forcefield.createSystem(topology, nonbondedMethod=app.PME,\n",
    "        nonbondedCutoff=1.2*unit.nanometer, constraints=app.HBonds)\n",
    "\n",
    "integrator = mm.LangevinIntegrator(300*unit.kelvin, 1.0/unit.picosecond, 2.0*unit.femtoseconds)\n",
    "\n",
    "platform = mm.Platform.getPlatformByName(\"CPU\")\n",
    "\n",
    "simulation = app.Simulation(topology, system, integrator, platform)\n",
    "\n",
    "simulation.context.setPositions(positions)\n",
    "\n",
    "#simulation.minimizeEnergy()\n",
    "#msm.convert(simulation, 'initial.msmpk')\n",
    "\n",
    "#from molsysmt.thirds.openmm.reporters import MolSysMTTrajectoryDictReporter\n",
    "from molsysmt.thirds.openmm.reporters import MSMH5Reporter\n",
    "from mdtraj.reporters import HDF5Reporter\n",
    "from molsysmt.thirds.openmm.reporters import TQDMReporter\n",
    "\n",
    "tqdm_reporter = TQDMReporter(100, 5000)\n",
    "simulation.reporters.append(tqdm_reporter)\n",
    "\n",
    "\n",
    "#h5_reporter = HDF5Reporter('test.h5', 100)\n",
    "#simulation.reporters.append(h5_reporter)\n",
    "\n",
    "#dict_reporter = MolSysMTTrajectoryDictReporter(10)\n",
    "#simulation.reporters.append(dict_reporter)\n",
    "\n",
    "msmh5_reporter = MSMH5Reporter('test.msmh5', 100, steps=5000, selection='all',\n",
    "            topology=topology, time=True, box=True, coordinates=True, velocities=False,\n",
    "            potentialEnergy=True, kineticEnergy=True, temperature=True,\n",
    "            includeInitialContext=True, constantReportInterval=True,\n",
    "            constantStepSize=True, constantBox=True)\n",
    "simulation.reporters.append(msmh5_reporter)\n",
    "\n",
    "%%time\n",
    "simulation.step(5000)\n",
    "\n",
    "h5_reporter.close()\n",
    "\n",
    "msmh5_reporter.close()\n",
    "\n",
    "traj = dict_reporter.finalize()\n",
    "msmh5_reporter.close()"
   ]
  },
  {
   "cell_type": "code",
   "execution_count": null,
   "id": "7de00118-daec-4a61-a390-e60c8636c0f3",
   "metadata": {},
   "outputs": [],
   "source": []
  }
 ],
 "metadata": {
  "kernelspec": {
   "display_name": "Python 3 (ipykernel)",
   "language": "python",
   "name": "python3"
  },
  "language_info": {
   "codemirror_mode": {
    "name": "ipython",
    "version": 3
   },
   "file_extension": ".py",
   "mimetype": "text/x-python",
   "name": "python",
   "nbconvert_exporter": "python",
   "pygments_lexer": "ipython3",
   "version": "3.10.12"
  }
 },
 "nbformat": 4,
 "nbformat_minor": 5
}
