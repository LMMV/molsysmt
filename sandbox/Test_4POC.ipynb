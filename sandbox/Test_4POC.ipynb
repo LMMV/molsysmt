{
 "cells": [
  {
   "cell_type": "markdown",
   "id": "85d75849-5640-43b7-8b93-87cdbf6b8792",
   "metadata": {},
   "source": [
    "# Test"
   ]
  },
  {
   "cell_type": "code",
   "execution_count": null,
   "id": "08aee8bc-0efe-44a5-9aa6-24131ae8137e",
   "metadata": {},
   "outputs": [],
   "source": [
    "import molsysmt as msm"
   ]
  },
  {
   "cell_type": "code",
   "execution_count": null,
   "id": "2b932271-fce9-4e09-86b6-7198bb322224",
   "metadata": {},
   "outputs": [],
   "source": [
    "msm.get_form('traj.msmh5')"
   ]
  },
  {
   "cell_type": "code",
   "execution_count": null,
   "id": "af89aba5-62c5-4718-a355-2b8b591c1097",
   "metadata": {},
   "outputs": [],
   "source": [
    "aa = msm.convert('traj.msmh5', 'molsysmt.MSMH5FileHandler')"
   ]
  },
  {
   "cell_type": "code",
   "execution_count": null,
   "id": "677e2b3f-a1db-48c8-b56e-e13fca4efe7f",
   "metadata": {},
   "outputs": [],
   "source": [
    "output = aa.file['topology']['atoms']['name'][:].astype('int64')"
   ]
  },
  {
   "cell_type": "code",
   "execution_count": null,
   "id": "02853906-0d4d-485c-9f51-fd65f00b8d98",
   "metadata": {},
   "outputs": [],
   "source": [
    "output"
   ]
  },
  {
   "cell_type": "code",
   "execution_count": null,
   "id": "93a36f08-4177-48d6-b4cc-ac5d71e98a0a",
   "metadata": {},
   "outputs": [],
   "source": [
    "msm.get('traj.msmh5', element='system', n_structures=True)"
   ]
  },
  {
   "cell_type": "code",
   "execution_count": 1,
   "id": "29eaa993-ce18-425e-b692-1a62dc1ccc6b",
   "metadata": {},
   "outputs": [
    {
     "ename": "NameError",
     "evalue": "name 'msm' is not defined",
     "output_type": "error",
     "traceback": [
      "\u001b[0;31m---------------------------------------------------------------------------\u001b[0m",
      "\u001b[0;31mNameError\u001b[0m                                 Traceback (most recent call last)",
      "Cell \u001b[0;32mIn[1], line 1\u001b[0m\n\u001b[0;32m----> 1\u001b[0m molsys \u001b[38;5;241m=\u001b[39m \u001b[43mmsm\u001b[49m\u001b[38;5;241m.\u001b[39mconvert(\u001b[38;5;124m'\u001b[39m\u001b[38;5;124m4POC\u001b[39m\u001b[38;5;124m'\u001b[39m)\n\u001b[1;32m      2\u001b[0m molsys \u001b[38;5;241m=\u001b[39m msm\u001b[38;5;241m.\u001b[39mextract(molsys, selection\u001b[38;5;241m=\u001b[39m\u001b[38;5;124m'\u001b[39m\u001b[38;5;124mmolecule_type==\u001b[39m\u001b[38;5;124m\"\u001b[39m\u001b[38;5;124mprotein\u001b[39m\u001b[38;5;124m\"\u001b[39m\u001b[38;5;124m'\u001b[39m)\n\u001b[1;32m      3\u001b[0m molsys \u001b[38;5;241m=\u001b[39m msm\u001b[38;5;241m.\u001b[39mbuild\u001b[38;5;241m.\u001b[39madd_missing_hydrogens(molsys)\n",
      "\u001b[0;31mNameError\u001b[0m: name 'msm' is not defined"
     ]
    }
   ],
   "source": [
    "molsys = msm.convert('4POC')\n",
    "molsys = msm.extract(molsys, selection='molecule_type==\"protein\"')\n",
    "molsys = msm.build.add_missing_hydrogens(molsys)\n",
    "molsys = msm.build.solvate(molsys)\n",
    "forcefield = app.ForceField('amber14-all.xml', 'amber14/tip3p.xml')\n",
    "topology = msm.convert(molsys, 'openmm.Topology')\n",
    "system = forcefield.createSystem(topology, nonbondedMethod=app.PME,\n",
    "        nonbondedCutoff=1.2*unit.nanometer, constraints=app.HBonds)\n",
    "integrator = mm.LangevinIntegrator(300*unit.kelvin, 1.0/unit.picosecond, 2.0*unit.femtoseconds)\n",
    "platform = mm.Platform.getPlatformByName(\"CPU\")\n",
    "simulation = app.Simulation(topology, system, integrator, platform)\n",
    "coordinates = msm.get(molsys, coordinates=True)\n",
    "positions = msm.pyunitwizard.convert(coordinates[0], to_form='openmm.unit')\n",
    "simulation.context.setPositions(positions)\n",
    "simulation.minimizeEnergy()\n",
    "from molsysmt.thirds.openmm.reporters import MolSysMTTrajectoryDictReporter\n",
    "from molsysmt.thirds.openmm.reporters import MSMH5Reporter\n",
    "dict_reporter = MolSysMTTrajectoryDictReporter(10)\n",
    "simulation.reporters.append(dict_reporter)\n",
    "msmh5_reporter = MSMH5Reporter('test.msmh5', 10, selection='all', steps=100,\n",
    "            topology=True, time=True, box=True, coordinates=True, velocities=False,\n",
    "            potentialEnergy=True, kineticEnergy=True, temperature=True,\n",
    "            includeInitialContext=True, constantReportInterval=True,\n",
    "            constantStepSize=True, constantBox=True,\n",
    "            compression='gzip', compression_opts=4,\n",
    "            int_precision='single', float_precision='single',\n",
    "            syntax='MolSysMT')\n",
    "simulation.reporters.append(msmh5_reporter)\n",
    "simulation.step(100)\n",
    "traj = dict_reporter.finalize()\n",
    "msmh5_reporter.close()"
   ]
  },
  {
   "cell_type": "code",
   "execution_count": null,
   "id": "85b83722-f246-42bc-ae6b-77b579318514",
   "metadata": {},
   "outputs": [],
   "source": []
  }
 ],
 "metadata": {
  "kernelspec": {
   "display_name": "Python 3 (ipykernel)",
   "language": "python",
   "name": "python3"
  },
  "language_info": {
   "codemirror_mode": {
    "name": "ipython",
    "version": 3
   },
   "file_extension": ".py",
   "mimetype": "text/x-python",
   "name": "python",
   "nbconvert_exporter": "python",
   "pygments_lexer": "ipython3",
   "version": "3.10.13"
  }
 },
 "nbformat": 4,
 "nbformat_minor": 5
}
