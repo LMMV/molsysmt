{
 "cells": [
  {
   "cell_type": "code",
   "execution_count": 1,
   "id": "18e06d1f-7800-42f4-b960-dc2db30a166c",
   "metadata": {},
   "outputs": [
    {
     "data": {
      "application/vnd.jupyter.widget-view+json": {
       "model_id": "db8923fba3104d1896f4df35691c90fc",
       "version_major": 2,
       "version_minor": 0
      },
      "text/plain": []
     },
     "metadata": {},
     "output_type": "display_data"
    }
   ],
   "source": [
    "import molsysmt as msm\n",
    "from molsysmt import pyunitwizard as puw\n",
    "import numpy as np"
   ]
  },
  {
   "cell_type": "code",
   "execution_count": 2,
   "id": "261f9702-8406-46c4-a877-500e4e26d301",
   "metadata": {},
   "outputs": [],
   "source": [
    "box = np.zeros((3,3))\n",
    "box[0,0] = 3.0\n",
    "box[1,1] = 3.0\n",
    "box[2,2] = 3.0\n",
    "box = msm.pyunitwizard.quantity(box, 'nm')"
   ]
  },
  {
   "cell_type": "code",
   "execution_count": 3,
   "id": "ffb226db-6971-4884-9ce5-996985acd49a",
   "metadata": {},
   "outputs": [],
   "source": [
    "water_box = msm.build.make_water_box(box)"
   ]
  },
  {
   "cell_type": "code",
   "execution_count": 4,
   "id": "c57fa2cb-69d0-40a3-b9f7-c635afddb275",
   "metadata": {},
   "outputs": [],
   "source": [
    "peptide = msm.build.build_peptide('ACEALAALANME')\n",
    "peptide = msm.structure.center(peptide, center_coordinates=0.5*box.diagonal())"
   ]
  },
  {
   "cell_type": "code",
   "execution_count": 5,
   "id": "96a04066-a9a4-4b75-bb3f-e86c2902ca43",
   "metadata": {},
   "outputs": [],
   "source": [
    "molsys = msm.merge([water_box, peptide])"
   ]
  },
  {
   "cell_type": "code",
   "execution_count": 6,
   "id": "ab238a4f-db3c-461c-a6e5-0a4d0264fb80",
   "metadata": {},
   "outputs": [
    {
     "data": {
      "text/html": [
       "<style type=\"text/css\">\n",
       "</style>\n",
       "<table id=\"T_69b1c\">\n",
       "  <thead>\n",
       "    <tr>\n",
       "      <th id=\"T_69b1c_level0_col0\" class=\"col_heading level0 col0\" >form</th>\n",
       "      <th id=\"T_69b1c_level0_col1\" class=\"col_heading level0 col1\" >n_atoms</th>\n",
       "      <th id=\"T_69b1c_level0_col2\" class=\"col_heading level0 col2\" >n_groups</th>\n",
       "      <th id=\"T_69b1c_level0_col3\" class=\"col_heading level0 col3\" >n_components</th>\n",
       "      <th id=\"T_69b1c_level0_col4\" class=\"col_heading level0 col4\" >n_chains</th>\n",
       "      <th id=\"T_69b1c_level0_col5\" class=\"col_heading level0 col5\" >n_molecules</th>\n",
       "      <th id=\"T_69b1c_level0_col6\" class=\"col_heading level0 col6\" >n_entities</th>\n",
       "      <th id=\"T_69b1c_level0_col7\" class=\"col_heading level0 col7\" >n_waters</th>\n",
       "      <th id=\"T_69b1c_level0_col8\" class=\"col_heading level0 col8\" >n_peptides</th>\n",
       "      <th id=\"T_69b1c_level0_col9\" class=\"col_heading level0 col9\" >n_structures</th>\n",
       "    </tr>\n",
       "  </thead>\n",
       "  <tbody>\n",
       "    <tr>\n",
       "      <td id=\"T_69b1c_row0_col0\" class=\"data row0 col0\" >molsysmt.MolSys</td>\n",
       "      <td id=\"T_69b1c_row0_col1\" class=\"data row0 col1\" >2729</td>\n",
       "      <td id=\"T_69b1c_row0_col2\" class=\"data row0 col2\" >903</td>\n",
       "      <td id=\"T_69b1c_row0_col3\" class=\"data row0 col3\" >900</td>\n",
       "      <td id=\"T_69b1c_row0_col4\" class=\"data row0 col4\" >2</td>\n",
       "      <td id=\"T_69b1c_row0_col5\" class=\"data row0 col5\" >900</td>\n",
       "      <td id=\"T_69b1c_row0_col6\" class=\"data row0 col6\" >2</td>\n",
       "      <td id=\"T_69b1c_row0_col7\" class=\"data row0 col7\" >899</td>\n",
       "      <td id=\"T_69b1c_row0_col8\" class=\"data row0 col8\" >1</td>\n",
       "      <td id=\"T_69b1c_row0_col9\" class=\"data row0 col9\" >1</td>\n",
       "    </tr>\n",
       "  </tbody>\n",
       "</table>\n"
      ],
      "text/plain": [
       "<pandas.io.formats.style.Styler at 0x7f4829fef850>"
      ]
     },
     "execution_count": 6,
     "metadata": {},
     "output_type": "execute_result"
    }
   ],
   "source": [
    "msm.info(molsys)"
   ]
  },
  {
   "cell_type": "code",
   "execution_count": 7,
   "id": "d2ec21d6-def0-41e4-8df3-e714238fa852",
   "metadata": {},
   "outputs": [],
   "source": [
    "new_molsys = msm.build.remove_overlapping_molecules(molsys, selection='molecule_type==\"water\"')"
   ]
  },
  {
   "cell_type": "code",
   "execution_count": 8,
   "id": "5970536b-7675-461f-96ff-21d9df33437d",
   "metadata": {},
   "outputs": [
    {
     "data": {
      "text/html": [
       "<style type=\"text/css\">\n",
       "</style>\n",
       "<table id=\"T_ec448\">\n",
       "  <thead>\n",
       "    <tr>\n",
       "      <th id=\"T_ec448_level0_col0\" class=\"col_heading level0 col0\" >form</th>\n",
       "      <th id=\"T_ec448_level0_col1\" class=\"col_heading level0 col1\" >n_atoms</th>\n",
       "      <th id=\"T_ec448_level0_col2\" class=\"col_heading level0 col2\" >n_groups</th>\n",
       "      <th id=\"T_ec448_level0_col3\" class=\"col_heading level0 col3\" >n_components</th>\n",
       "      <th id=\"T_ec448_level0_col4\" class=\"col_heading level0 col4\" >n_chains</th>\n",
       "      <th id=\"T_ec448_level0_col5\" class=\"col_heading level0 col5\" >n_molecules</th>\n",
       "      <th id=\"T_ec448_level0_col6\" class=\"col_heading level0 col6\" >n_entities</th>\n",
       "      <th id=\"T_ec448_level0_col7\" class=\"col_heading level0 col7\" >n_waters</th>\n",
       "      <th id=\"T_ec448_level0_col8\" class=\"col_heading level0 col8\" >n_peptides</th>\n",
       "      <th id=\"T_ec448_level0_col9\" class=\"col_heading level0 col9\" >n_structures</th>\n",
       "    </tr>\n",
       "  </thead>\n",
       "  <tbody>\n",
       "    <tr>\n",
       "      <td id=\"T_ec448_row0_col0\" class=\"data row0 col0\" >molsysmt.MolSys</td>\n",
       "      <td id=\"T_ec448_row0_col1\" class=\"data row0 col1\" >2621</td>\n",
       "      <td id=\"T_ec448_row0_col2\" class=\"data row0 col2\" >867</td>\n",
       "      <td id=\"T_ec448_row0_col3\" class=\"data row0 col3\" >864</td>\n",
       "      <td id=\"T_ec448_row0_col4\" class=\"data row0 col4\" >2</td>\n",
       "      <td id=\"T_ec448_row0_col5\" class=\"data row0 col5\" >864</td>\n",
       "      <td id=\"T_ec448_row0_col6\" class=\"data row0 col6\" >2</td>\n",
       "      <td id=\"T_ec448_row0_col7\" class=\"data row0 col7\" >863</td>\n",
       "      <td id=\"T_ec448_row0_col8\" class=\"data row0 col8\" >1</td>\n",
       "      <td id=\"T_ec448_row0_col9\" class=\"data row0 col9\" >1</td>\n",
       "    </tr>\n",
       "  </tbody>\n",
       "</table>\n"
      ],
      "text/plain": [
       "<pandas.io.formats.style.Styler at 0x7f4821b2c2b0>"
      ]
     },
     "execution_count": 8,
     "metadata": {},
     "output_type": "execute_result"
    }
   ],
   "source": [
    "msm.info(new_molsys)"
   ]
  },
  {
   "cell_type": "code",
   "execution_count": 17,
   "id": "353acbfb-bf4f-450e-9d70-7ab330bdcbf7",
   "metadata": {},
   "outputs": [],
   "source": [
    "new_molsys = msm.build.remove_overlapping_molecules(molsys, selection='atom_type!=\"H\" and molecule_type==\"water\"',\n",
    "                                                    selection_2='atom_type!=\"H\" and molecule_type==\"peptide\"',\n",
    "                                                    threshold='3 angstroms')"
   ]
  },
  {
   "cell_type": "code",
   "execution_count": 18,
   "id": "8d48cc73-b6ac-44ba-a3e2-1c5c25b86ab2",
   "metadata": {},
   "outputs": [
    {
     "data": {
      "text/html": [
       "<style type=\"text/css\">\n",
       "</style>\n",
       "<table id=\"T_96701\">\n",
       "  <thead>\n",
       "    <tr>\n",
       "      <th id=\"T_96701_level0_col0\" class=\"col_heading level0 col0\" >form</th>\n",
       "      <th id=\"T_96701_level0_col1\" class=\"col_heading level0 col1\" >n_atoms</th>\n",
       "      <th id=\"T_96701_level0_col2\" class=\"col_heading level0 col2\" >n_groups</th>\n",
       "      <th id=\"T_96701_level0_col3\" class=\"col_heading level0 col3\" >n_components</th>\n",
       "      <th id=\"T_96701_level0_col4\" class=\"col_heading level0 col4\" >n_chains</th>\n",
       "      <th id=\"T_96701_level0_col5\" class=\"col_heading level0 col5\" >n_molecules</th>\n",
       "      <th id=\"T_96701_level0_col6\" class=\"col_heading level0 col6\" >n_entities</th>\n",
       "      <th id=\"T_96701_level0_col7\" class=\"col_heading level0 col7\" >n_waters</th>\n",
       "      <th id=\"T_96701_level0_col8\" class=\"col_heading level0 col8\" >n_peptides</th>\n",
       "      <th id=\"T_96701_level0_col9\" class=\"col_heading level0 col9\" >n_structures</th>\n",
       "    </tr>\n",
       "  </thead>\n",
       "  <tbody>\n",
       "    <tr>\n",
       "      <td id=\"T_96701_row0_col0\" class=\"data row0 col0\" >molsysmt.MolSys</td>\n",
       "      <td id=\"T_96701_row0_col1\" class=\"data row0 col1\" >2675</td>\n",
       "      <td id=\"T_96701_row0_col2\" class=\"data row0 col2\" >885</td>\n",
       "      <td id=\"T_96701_row0_col3\" class=\"data row0 col3\" >882</td>\n",
       "      <td id=\"T_96701_row0_col4\" class=\"data row0 col4\" >2</td>\n",
       "      <td id=\"T_96701_row0_col5\" class=\"data row0 col5\" >882</td>\n",
       "      <td id=\"T_96701_row0_col6\" class=\"data row0 col6\" >2</td>\n",
       "      <td id=\"T_96701_row0_col7\" class=\"data row0 col7\" >881</td>\n",
       "      <td id=\"T_96701_row0_col8\" class=\"data row0 col8\" >1</td>\n",
       "      <td id=\"T_96701_row0_col9\" class=\"data row0 col9\" >1</td>\n",
       "    </tr>\n",
       "  </tbody>\n",
       "</table>\n"
      ],
      "text/plain": [
       "<pandas.io.formats.style.Styler at 0x7f4821943520>"
      ]
     },
     "execution_count": 18,
     "metadata": {},
     "output_type": "execute_result"
    }
   ],
   "source": [
    "msm.info(new_molsys)"
   ]
  },
  {
   "cell_type": "code",
   "execution_count": 20,
   "id": "9a6ddad6-73ec-45e5-9df9-288007ed8eb8",
   "metadata": {},
   "outputs": [],
   "source": [
    "contact_map = msm.structure.get_contacts(new_molsys, selection='atom_type!=\"H\" and molecule_type==\"water\"',\n",
    "                                         selection_2='atom_type!=\"H\" and molecule_type==\"peptide\"',\n",
    "                                         threshold='3 angstroms', pbc=True)"
   ]
  },
  {
   "cell_type": "code",
   "execution_count": 21,
   "id": "2d1a22c9-0cf9-498b-bf1a-dcfdac29f52b",
   "metadata": {},
   "outputs": [
    {
     "data": {
      "text/plain": [
       "False"
      ]
     },
     "execution_count": 21,
     "metadata": {},
     "output_type": "execute_result"
    }
   ],
   "source": [
    "np.any(contact_map)"
   ]
  },
  {
   "cell_type": "code",
   "execution_count": null,
   "id": "be139ef8-58c7-40ed-b430-909592693c03",
   "metadata": {},
   "outputs": [],
   "source": []
  }
 ],
 "metadata": {
  "kernelspec": {
   "display_name": "Python 3 (ipykernel)",
   "language": "python",
   "name": "python3"
  },
  "language_info": {
   "codemirror_mode": {
    "name": "ipython",
    "version": 3
   },
   "file_extension": ".py",
   "mimetype": "text/x-python",
   "name": "python",
   "nbconvert_exporter": "python",
   "pygments_lexer": "ipython3",
   "version": "3.10.14"
  }
 },
 "nbformat": 4,
 "nbformat_minor": 5
}
