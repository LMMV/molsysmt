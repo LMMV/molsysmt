{
 "cells": [
  {
   "cell_type": "code",
   "execution_count": 1,
   "id": "ba4d087d-eba2-4ee0-95bd-c5c6e858d336",
   "metadata": {},
   "outputs": [
    {
     "data": {
      "application/vnd.jupyter.widget-view+json": {
       "model_id": "00025667ccae4f97ba6fcfc8eca7321b",
       "version_major": 2,
       "version_minor": 0
      },
      "text/plain": []
     },
     "metadata": {},
     "output_type": "display_data"
    }
   ],
   "source": [
    "import molsysmt as msm"
   ]
  },
  {
   "cell_type": "code",
   "execution_count": 2,
   "id": "e8e97d07-f8cd-4e9a-8fba-d6640291c7fe",
   "metadata": {
    "tags": []
   },
   "outputs": [],
   "source": [
    "molecular_system = msm.convert('1BRS')"
   ]
  },
  {
   "cell_type": "code",
   "execution_count": 6,
   "id": "a29d496f-8015-41d4-93db-15b62fa4ad0c",
   "metadata": {
    "tags": []
   },
   "outputs": [],
   "source": [
    "barnase = msm.extract(molecular_system, selection=\"chain_name=='B'\")\n",
    "barstar_E = msm.extract(molecular_system, selection=\"chain_name=='E'\")\n",
    "barstar_F = msm.extract(molecular_system, selection=\"chain_name=='F'\")"
   ]
  },
  {
   "cell_type": "code",
   "execution_count": 7,
   "id": "0042b5b7-8f1f-4f75-a175-34c8e8dbd640",
   "metadata": {
    "tags": []
   },
   "outputs": [],
   "source": [
    "barstar_F_over_E = msm.structure.align(barstar_F, selection='atom_name==\"CA\"',\n",
    "                                       reference_molecular_system=barstar_E,\n",
    "                                       reference_selection='atom_name==\"CA\"')"
   ]
  },
  {
   "cell_type": "code",
   "execution_count": 8,
   "id": "12ed9baa-b013-47b9-95f2-bc3b46eb8b42",
   "metadata": {
    "tags": []
   },
   "outputs": [],
   "source": [
    "barnase_barstar = msm.merge([barnase, barstar_F_over_E])"
   ]
  },
  {
   "cell_type": "code",
   "execution_count": 9,
   "id": "f7c036b9-4b51-47c8-b55c-7d6474054b1b",
   "metadata": {
    "tags": []
   },
   "outputs": [
    {
     "data": {
      "text/plain": [
       "[]"
      ]
     },
     "execution_count": 9,
     "metadata": {},
     "output_type": "execute_result"
    }
   ],
   "source": [
    "msm.build.get_atoms_with_alternate_locations(barnase_barstar)"
   ]
  },
  {
   "cell_type": "code",
   "execution_count": 10,
   "id": "d4f6ec65-45ec-487e-b3ba-034f052af92c",
   "metadata": {
    "tags": []
   },
   "outputs": [
    {
     "data": {
      "text/plain": [
       "{131: ['CD', 'CE', 'NZ'],\n",
       " 137: ['CG', 'CD', 'OE1', 'OE2'],\n",
       " 155: ['CG', 'CD', 'OE1', 'OE2'],\n",
       " 173: ['CG', 'CD', 'OE1', 'OE2'],\n",
       " 174: ['CG', 'OD1', 'ND2'],\n",
       " 198: ['O']}"
      ]
     },
     "execution_count": 10,
     "metadata": {},
     "output_type": "execute_result"
    }
   ],
   "source": [
    "msm.build.get_missing_heavy_atoms(barnase_barstar)"
   ]
  },
  {
   "cell_type": "code",
   "execution_count": 11,
   "id": "b0a43a71-bebb-4b71-831e-dd8cd9260931",
   "metadata": {
    "tags": []
   },
   "outputs": [
    {
     "data": {
      "text/plain": [
       "{}"
      ]
     },
     "execution_count": 11,
     "metadata": {},
     "output_type": "execute_result"
    }
   ],
   "source": [
    "msm.build.get_missing_residues(barnase_barstar)"
   ]
  },
  {
   "cell_type": "code",
   "execution_count": 12,
   "id": "3cc8b2e9-690c-4e70-a3ca-e465e27abcf8",
   "metadata": {
    "tags": []
   },
   "outputs": [
    {
     "data": {
      "text/plain": [
       "False"
      ]
     },
     "execution_count": 12,
     "metadata": {},
     "output_type": "execute_result"
    }
   ],
   "source": [
    "msm.contains(barnase_barstar, hydrogens=True)"
   ]
  },
  {
   "cell_type": "code",
   "execution_count": 13,
   "id": "65453a00-2061-41d9-8cbc-53c707dadc1b",
   "metadata": {
    "tags": []
   },
   "outputs": [
    {
     "name": "stderr",
     "output_type": "stream",
     "text": [
      "Warning: importing 'simtk.openmm' is deprecated.  Import 'openmm' instead.\n"
     ]
    }
   ],
   "source": [
    "barnase_barstar = msm.build.add_missing_heavy_atoms(barnase_barstar)"
   ]
  },
  {
   "cell_type": "code",
   "execution_count": 14,
   "id": "8eb181d1-6ff8-4bc3-8fa4-4d683cc0c1c1",
   "metadata": {
    "tags": []
   },
   "outputs": [],
   "source": [
    "barnase_barstar = msm.build.add_missing_hydrogens(barnase_barstar, pH=7.4)"
   ]
  },
  {
   "cell_type": "code",
   "execution_count": 15,
   "id": "b98021c0-60e7-46ca-8372-328722fc3c1d",
   "metadata": {
    "tags": []
   },
   "outputs": [
    {
     "data": {
      "text/html": [
       "<style type=\"text/css\">\n",
       "</style>\n",
       "<table id=\"T_80c91\">\n",
       "  <thead>\n",
       "    <tr>\n",
       "      <th id=\"T_80c91_level0_col0\" class=\"col_heading level0 col0\" >form</th>\n",
       "      <th id=\"T_80c91_level0_col1\" class=\"col_heading level0 col1\" >n_atoms</th>\n",
       "      <th id=\"T_80c91_level0_col2\" class=\"col_heading level0 col2\" >n_groups</th>\n",
       "      <th id=\"T_80c91_level0_col3\" class=\"col_heading level0 col3\" >n_components</th>\n",
       "      <th id=\"T_80c91_level0_col4\" class=\"col_heading level0 col4\" >n_chains</th>\n",
       "      <th id=\"T_80c91_level0_col5\" class=\"col_heading level0 col5\" >n_molecules</th>\n",
       "      <th id=\"T_80c91_level0_col6\" class=\"col_heading level0 col6\" >n_entities</th>\n",
       "      <th id=\"T_80c91_level0_col7\" class=\"col_heading level0 col7\" >n_proteins</th>\n",
       "      <th id=\"T_80c91_level0_col8\" class=\"col_heading level0 col8\" >n_structures</th>\n",
       "    </tr>\n",
       "  </thead>\n",
       "  <tbody>\n",
       "    <tr>\n",
       "      <td id=\"T_80c91_row0_col0\" class=\"data row0 col0\" >molsysmt.MolSys</td>\n",
       "      <td id=\"T_80c91_row0_col1\" class=\"data row0 col1\" >3159</td>\n",
       "      <td id=\"T_80c91_row0_col2\" class=\"data row0 col2\" >199</td>\n",
       "      <td id=\"T_80c91_row0_col3\" class=\"data row0 col3\" >2</td>\n",
       "      <td id=\"T_80c91_row0_col4\" class=\"data row0 col4\" >2</td>\n",
       "      <td id=\"T_80c91_row0_col5\" class=\"data row0 col5\" >2</td>\n",
       "      <td id=\"T_80c91_row0_col6\" class=\"data row0 col6\" >2</td>\n",
       "      <td id=\"T_80c91_row0_col7\" class=\"data row0 col7\" >2</td>\n",
       "      <td id=\"T_80c91_row0_col8\" class=\"data row0 col8\" >1</td>\n",
       "    </tr>\n",
       "  </tbody>\n",
       "</table>\n"
      ],
      "text/plain": [
       "<pandas.io.formats.style.Styler at 0x7f6a04e47be0>"
      ]
     },
     "execution_count": 15,
     "metadata": {},
     "output_type": "execute_result"
    }
   ],
   "source": [
    "msm.info(barnase_barstar)"
   ]
  },
  {
   "cell_type": "code",
   "execution_count": 16,
   "id": "623251d1-6279-472f-90a7-275c590b99ee",
   "metadata": {},
   "outputs": [
    {
     "data": {
      "application/vnd.jupyter.widget-view+json": {
       "model_id": "5b9938ed472642e6b376a3744d4c739c",
       "version_major": 2,
       "version_minor": 0
      },
      "text/plain": [
       "NGLWidget()"
      ]
     },
     "metadata": {},
     "output_type": "display_data"
    }
   ],
   "source": [
    "msm.view(barnase_barstar)"
   ]
  },
  {
   "cell_type": "code",
   "execution_count": null,
   "id": "bb902660-108c-481f-98b9-5f916787d008",
   "metadata": {},
   "outputs": [],
   "source": [
    "msm.molecular_mechanics.energy_minimization(barnase_barstar)"
   ]
  }
 ],
 "metadata": {
  "kernelspec": {
   "display_name": "Python 3 (ipykernel)",
   "language": "python",
   "name": "python3"
  },
  "language_info": {
   "codemirror_mode": {
    "name": "ipython",
    "version": 3
   },
   "file_extension": ".py",
   "mimetype": "text/x-python",
   "name": "python",
   "nbconvert_exporter": "python",
   "pygments_lexer": "ipython3",
   "version": "3.10.12"
  }
 },
 "nbformat": 4,
 "nbformat_minor": 5
}
