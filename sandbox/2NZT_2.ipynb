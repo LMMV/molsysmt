{
 "cells": [
  {
   "cell_type": "code",
   "execution_count": 1,
   "id": "c6de0884-1ed8-4832-b0bc-ea0bdc94f714",
   "metadata": {},
   "outputs": [],
   "source": [
    "from pdbfixer import PDBFixer"
   ]
  },
  {
   "cell_type": "code",
   "execution_count": 2,
   "id": "f8e2f638-5399-4373-b127-29ccd71cb5eb",
   "metadata": {},
   "outputs": [],
   "source": [
    "aa = PDBFixer(pdbid='2NZT')"
   ]
  },
  {
   "cell_type": "code",
   "execution_count": 3,
   "id": "faf77eaa-a1c5-40ec-a39c-1a388d4eb7c7",
   "metadata": {},
   "outputs": [],
   "source": [
    "aa.findMissingResidues()"
   ]
  },
  {
   "cell_type": "code",
   "execution_count": 4,
   "id": "94e30bfc-c5f1-4ccb-af8d-b15e535e754f",
   "metadata": {},
   "outputs": [
    {
     "data": {
      "text/plain": [
       "{(0, 0): ['GLY', 'SER'],\n",
       " (0, 81): ['THR', 'ASP', 'ASN', 'GLY', 'LEU', 'GLN', 'LYS'],\n",
       " (0, 494): ['ALA', 'THR', 'PRO', 'ASP', 'GLY', 'THR', 'GLU', 'LYS'],\n",
       " (0, 515): ['ASN', 'GLY', 'LYS', 'TRP', 'GLY'],\n",
       " (0, 555): ['LYS', 'GLY', 'VAL'],\n",
       " (0, 605): ['GLU', 'GLU', 'PHE'],\n",
       " (0, 871): ['ALA', 'GLY', 'GLN'],\n",
       " (1, 0): ['GLY', 'SER'],\n",
       " (1, 81): ['THR', 'ASP', 'ASN', 'GLY', 'LEU', 'GLN', 'LYS'],\n",
       " (1, 322): ['LYS'],\n",
       " (1, 379): ['GLU', 'ARG'],\n",
       " (1, 491): ['ALA', 'THR', 'PRO', 'ASP', 'GLY', 'THR', 'GLU', 'LYS'],\n",
       " (1, 511): ['ARG', 'ASN', 'GLY', 'LYS', 'TRP', 'GLY', 'GLY'],\n",
       " (1, 603): ['GLU', 'GLU', 'PHE', 'ASP', 'LEU'],\n",
       " (1, 867): ['ALA', 'GLY', 'GLN']}"
      ]
     },
     "execution_count": 4,
     "metadata": {},
     "output_type": "execute_result"
    }
   ],
   "source": [
    "aa.missingResidues"
   ]
  },
  {
   "cell_type": "code",
   "execution_count": 5,
   "id": "0a561318-3ac5-4bd9-acca-8f546a06cd2a",
   "metadata": {},
   "outputs": [],
   "source": [
    "aa = 'AF-P52789-F1'"
   ]
  },
  {
   "cell_type": "code",
   "execution_count": 6,
   "id": "27267251-f29d-42ff-b32f-87c7254debb2",
   "metadata": {},
   "outputs": [
    {
     "data": {
      "application/vnd.jupyter.widget-view+json": {
       "model_id": "5a0a937ca57d43ada7be4bd301560e55",
       "version_major": 2,
       "version_minor": 0
      },
      "text/plain": []
     },
     "metadata": {},
     "output_type": "display_data"
    }
   ],
   "source": [
    "import molsysmt as msm"
   ]
  },
  {
   "cell_type": "code",
   "execution_count": 7,
   "id": "4efe2f28-2fee-438b-8c6b-6bb38a3f9475",
   "metadata": {},
   "outputs": [
    {
     "data": {
      "text/plain": [
       "'string:alphafold_id'"
      ]
     },
     "execution_count": 7,
     "metadata": {},
     "output_type": "execute_result"
    }
   ],
   "source": [
    "msm.get_form(aa)"
   ]
  },
  {
   "cell_type": "code",
   "execution_count": 8,
   "id": "19eb1d50-6714-4b80-8edd-064b625d2d64",
   "metadata": {},
   "outputs": [],
   "source": [
    "molsys = msm.convert(aa)"
   ]
  },
  {
   "cell_type": "code",
   "execution_count": 9,
   "id": "2367871c-e7ec-482b-9610-a9bba3e946d1",
   "metadata": {},
   "outputs": [
    {
     "data": {
      "text/html": [
       "<style type=\"text/css\">\n",
       "</style>\n",
       "<table id=\"T_bc593\">\n",
       "  <thead>\n",
       "    <tr>\n",
       "      <th id=\"T_bc593_level0_col0\" class=\"col_heading level0 col0\" >form</th>\n",
       "      <th id=\"T_bc593_level0_col1\" class=\"col_heading level0 col1\" >n_atoms</th>\n",
       "      <th id=\"T_bc593_level0_col2\" class=\"col_heading level0 col2\" >n_groups</th>\n",
       "      <th id=\"T_bc593_level0_col3\" class=\"col_heading level0 col3\" >n_components</th>\n",
       "      <th id=\"T_bc593_level0_col4\" class=\"col_heading level0 col4\" >n_chains</th>\n",
       "      <th id=\"T_bc593_level0_col5\" class=\"col_heading level0 col5\" >n_molecules</th>\n",
       "      <th id=\"T_bc593_level0_col6\" class=\"col_heading level0 col6\" >n_entities</th>\n",
       "      <th id=\"T_bc593_level0_col7\" class=\"col_heading level0 col7\" >n_proteins</th>\n",
       "      <th id=\"T_bc593_level0_col8\" class=\"col_heading level0 col8\" >n_structures</th>\n",
       "    </tr>\n",
       "  </thead>\n",
       "  <tbody>\n",
       "    <tr>\n",
       "      <td id=\"T_bc593_row0_col0\" class=\"data row0 col0\" >molsysmt.MolSys</td>\n",
       "      <td id=\"T_bc593_row0_col1\" class=\"data row0 col1\" >7158</td>\n",
       "      <td id=\"T_bc593_row0_col2\" class=\"data row0 col2\" >917</td>\n",
       "      <td id=\"T_bc593_row0_col3\" class=\"data row0 col3\" >1</td>\n",
       "      <td id=\"T_bc593_row0_col4\" class=\"data row0 col4\" >1</td>\n",
       "      <td id=\"T_bc593_row0_col5\" class=\"data row0 col5\" >1</td>\n",
       "      <td id=\"T_bc593_row0_col6\" class=\"data row0 col6\" >1</td>\n",
       "      <td id=\"T_bc593_row0_col7\" class=\"data row0 col7\" >1</td>\n",
       "      <td id=\"T_bc593_row0_col8\" class=\"data row0 col8\" >1</td>\n",
       "    </tr>\n",
       "  </tbody>\n",
       "</table>\n"
      ],
      "text/plain": [
       "<pandas.io.formats.style.Styler at 0x7fdaee6aeb70>"
      ]
     },
     "execution_count": 9,
     "metadata": {},
     "output_type": "execute_result"
    }
   ],
   "source": [
    "msm.info(molsys)"
   ]
  },
  {
   "cell_type": "code",
   "execution_count": 10,
   "id": "22e74083-94b4-49e1-b9be-50d4781a9191",
   "metadata": {},
   "outputs": [
    {
     "data": {
      "text/html": [
       "<style type=\"text/css\">\n",
       "</style>\n",
       "<table id=\"T_1a975\">\n",
       "  <thead>\n",
       "    <tr>\n",
       "      <th id=\"T_1a975_level0_col0\" class=\"col_heading level0 col0\" >index</th>\n",
       "      <th id=\"T_1a975_level0_col1\" class=\"col_heading level0 col1\" >name</th>\n",
       "      <th id=\"T_1a975_level0_col2\" class=\"col_heading level0 col2\" >type</th>\n",
       "      <th id=\"T_1a975_level0_col3\" class=\"col_heading level0 col3\" >n atoms</th>\n",
       "      <th id=\"T_1a975_level0_col4\" class=\"col_heading level0 col4\" >n groups</th>\n",
       "      <th id=\"T_1a975_level0_col5\" class=\"col_heading level0 col5\" >n components</th>\n",
       "      <th id=\"T_1a975_level0_col6\" class=\"col_heading level0 col6\" >n chains</th>\n",
       "      <th id=\"T_1a975_level0_col7\" class=\"col_heading level0 col7\" >n molecules</th>\n",
       "    </tr>\n",
       "  </thead>\n",
       "  <tbody>\n",
       "    <tr>\n",
       "      <td id=\"T_1a975_row0_col0\" class=\"data row0 col0\" >0</td>\n",
       "      <td id=\"T_1a975_row0_col1\" class=\"data row0 col1\" >Hexokinase-2</td>\n",
       "      <td id=\"T_1a975_row0_col2\" class=\"data row0 col2\" >protein</td>\n",
       "      <td id=\"T_1a975_row0_col3\" class=\"data row0 col3\" >7158</td>\n",
       "      <td id=\"T_1a975_row0_col4\" class=\"data row0 col4\" >917</td>\n",
       "      <td id=\"T_1a975_row0_col5\" class=\"data row0 col5\" >1</td>\n",
       "      <td id=\"T_1a975_row0_col6\" class=\"data row0 col6\" >1</td>\n",
       "      <td id=\"T_1a975_row0_col7\" class=\"data row0 col7\" >1</td>\n",
       "    </tr>\n",
       "  </tbody>\n",
       "</table>\n"
      ],
      "text/plain": [
       "<pandas.io.formats.style.Styler at 0x7fdad5143c50>"
      ]
     },
     "execution_count": 10,
     "metadata": {},
     "output_type": "execute_result"
    }
   ],
   "source": [
    "msm.info(molsys, element='entity')"
   ]
  },
  {
   "cell_type": "code",
   "execution_count": 11,
   "id": "411a0d2c-923c-4286-92cc-6208f2cd2f07",
   "metadata": {},
   "outputs": [
    {
     "data": {
      "application/vnd.jupyter.widget-view+json": {
       "model_id": "594b6ed68c5442a3849d9e523084a03a",
       "version_major": 2,
       "version_minor": 0
      },
      "text/plain": [
       "NGLWidget()"
      ]
     },
     "metadata": {},
     "output_type": "display_data"
    }
   ],
   "source": [
    "msm.view(molsys)"
   ]
  },
  {
   "cell_type": "code",
   "execution_count": null,
   "id": "bc523cdc-0cee-456a-a49e-341001aa1664",
   "metadata": {},
   "outputs": [],
   "source": []
  }
 ],
 "metadata": {
  "kernelspec": {
   "display_name": "Python 3 (ipykernel)",
   "language": "python",
   "name": "python3"
  },
  "language_info": {
   "codemirror_mode": {
    "name": "ipython",
    "version": 3
   },
   "file_extension": ".py",
   "mimetype": "text/x-python",
   "name": "python",
   "nbconvert_exporter": "python",
   "pygments_lexer": "ipython3",
   "version": "3.12.8"
  }
 },
 "nbformat": 4,
 "nbformat_minor": 5
}
