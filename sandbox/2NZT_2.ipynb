{
 "cells": [
  {
   "cell_type": "code",
   "execution_count": null,
   "id": "c6de0884-1ed8-4832-b0bc-ea0bdc94f714",
   "metadata": {},
   "outputs": [],
   "source": [
    "from pdbfixer import PDBFixer"
   ]
  },
  {
   "cell_type": "code",
   "execution_count": null,
   "id": "f8e2f638-5399-4373-b127-29ccd71cb5eb",
   "metadata": {},
   "outputs": [],
   "source": [
    "aa = PDBFixer(pdbid='2NZT')"
   ]
  },
  {
   "cell_type": "code",
   "execution_count": null,
   "id": "faf77eaa-a1c5-40ec-a39c-1a388d4eb7c7",
   "metadata": {},
   "outputs": [],
   "source": [
    "aa.findMissingResidues()"
   ]
  },
  {
   "cell_type": "code",
   "execution_count": null,
   "id": "94e30bfc-c5f1-4ccb-af8d-b15e535e754f",
   "metadata": {},
   "outputs": [],
   "source": [
    "aa.missingResidues"
   ]
  },
  {
   "cell_type": "code",
   "execution_count": 1,
   "id": "0a561318-3ac5-4bd9-acca-8f546a06cd2a",
   "metadata": {},
   "outputs": [],
   "source": [
    "aa = 'AF-P52789-F1'"
   ]
  },
  {
   "cell_type": "code",
   "execution_count": 2,
   "id": "27267251-f29d-42ff-b32f-87c7254debb2",
   "metadata": {},
   "outputs": [
    {
     "data": {
      "application/vnd.jupyter.widget-view+json": {
       "model_id": "c34f3a6f14474b31b3e94180cf083611",
       "version_major": 2,
       "version_minor": 0
      },
      "text/plain": []
     },
     "metadata": {},
     "output_type": "display_data"
    }
   ],
   "source": [
    "import molsysmt as msm"
   ]
  },
  {
   "cell_type": "code",
   "execution_count": 3,
   "id": "11988f33-5447-4f2e-adeb-0471c554ee1d",
   "metadata": {},
   "outputs": [
    {
     "data": {
      "text/plain": [
       "True"
      ]
     },
     "execution_count": 3,
     "metadata": {},
     "output_type": "execute_result"
    }
   ],
   "source": [
    "msm.form.string_alphafold_id.is_form(aa)"
   ]
  },
  {
   "cell_type": "code",
   "execution_count": 4,
   "id": "4efe2f28-2fee-438b-8c6b-6bb38a3f9475",
   "metadata": {},
   "outputs": [
    {
     "data": {
      "text/plain": [
       "'string:alphafold_id'"
      ]
     },
     "execution_count": 4,
     "metadata": {},
     "output_type": "execute_result"
    }
   ],
   "source": [
    "msm.get_form(aa)"
   ]
  },
  {
   "cell_type": "code",
   "execution_count": 6,
   "id": "19eb1d50-6714-4b80-8edd-064b625d2d64",
   "metadata": {},
   "outputs": [],
   "source": [
    "molsys = msm.convert(aa)"
   ]
  },
  {
   "cell_type": "code",
   "execution_count": 8,
   "id": "22e74083-94b4-49e1-b9be-50d4781a9191",
   "metadata": {},
   "outputs": [
    {
     "data": {
      "text/html": [
       "<style type=\"text/css\">\n",
       "</style>\n",
       "<table id=\"T_244e7\">\n",
       "  <thead>\n",
       "    <tr>\n",
       "      <th id=\"T_244e7_level0_col0\" class=\"col_heading level0 col0\" >index</th>\n",
       "      <th id=\"T_244e7_level0_col1\" class=\"col_heading level0 col1\" >name</th>\n",
       "      <th id=\"T_244e7_level0_col2\" class=\"col_heading level0 col2\" >type</th>\n",
       "      <th id=\"T_244e7_level0_col3\" class=\"col_heading level0 col3\" >n atoms</th>\n",
       "      <th id=\"T_244e7_level0_col4\" class=\"col_heading level0 col4\" >n groups</th>\n",
       "      <th id=\"T_244e7_level0_col5\" class=\"col_heading level0 col5\" >n components</th>\n",
       "      <th id=\"T_244e7_level0_col6\" class=\"col_heading level0 col6\" >n chains</th>\n",
       "      <th id=\"T_244e7_level0_col7\" class=\"col_heading level0 col7\" >n molecules</th>\n",
       "    </tr>\n",
       "  </thead>\n",
       "  <tbody>\n",
       "    <tr>\n",
       "      <td id=\"T_244e7_row0_col0\" class=\"data row0 col0\" >0</td>\n",
       "      <td id=\"T_244e7_row0_col1\" class=\"data row0 col1\" >Hexokinase-2</td>\n",
       "      <td id=\"T_244e7_row0_col2\" class=\"data row0 col2\" >protein</td>\n",
       "      <td id=\"T_244e7_row0_col3\" class=\"data row0 col3\" >7158</td>\n",
       "      <td id=\"T_244e7_row0_col4\" class=\"data row0 col4\" >917</td>\n",
       "      <td id=\"T_244e7_row0_col5\" class=\"data row0 col5\" >1</td>\n",
       "      <td id=\"T_244e7_row0_col6\" class=\"data row0 col6\" >1</td>\n",
       "      <td id=\"T_244e7_row0_col7\" class=\"data row0 col7\" >1</td>\n",
       "    </tr>\n",
       "  </tbody>\n",
       "</table>\n"
      ],
      "text/plain": [
       "<pandas.io.formats.style.Styler at 0x75cf49eaba70>"
      ]
     },
     "execution_count": 8,
     "metadata": {},
     "output_type": "execute_result"
    }
   ],
   "source": [
    "msm.info(molsys, element='entity')"
   ]
  },
  {
   "cell_type": "code",
   "execution_count": 9,
   "id": "411a0d2c-923c-4286-92cc-6208f2cd2f07",
   "metadata": {},
   "outputs": [
    {
     "data": {
      "application/vnd.jupyter.widget-view+json": {
       "model_id": "7a2d5adeb92347d4a01551f6c58deb72",
       "version_major": 2,
       "version_minor": 0
      },
      "text/plain": [
       "NGLWidget()"
      ]
     },
     "metadata": {},
     "output_type": "display_data"
    }
   ],
   "source": [
    "msm.view(molsys)"
   ]
  },
  {
   "cell_type": "code",
   "execution_count": null,
   "id": "bc523cdc-0cee-456a-a49e-341001aa1664",
   "metadata": {},
   "outputs": [],
   "source": []
  }
 ],
 "metadata": {
  "kernelspec": {
   "display_name": "Python 3 (ipykernel)",
   "language": "python",
   "name": "python3"
  },
  "language_info": {
   "codemirror_mode": {
    "name": "ipython",
    "version": 3
   },
   "file_extension": ".py",
   "mimetype": "text/x-python",
   "name": "python",
   "nbconvert_exporter": "python",
   "pygments_lexer": "ipython3",
   "version": "3.12.8"
  }
 },
 "nbformat": 4,
 "nbformat_minor": 5
}
