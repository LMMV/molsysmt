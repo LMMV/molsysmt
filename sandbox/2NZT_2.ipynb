{
 "cells": [
  {
   "cell_type": "code",
   "execution_count": 1,
   "id": "c6de0884-1ed8-4832-b0bc-ea0bdc94f714",
   "metadata": {},
   "outputs": [],
   "source": [
    "from pdbfixer import PDBFixer"
   ]
  },
  {
   "cell_type": "code",
   "execution_count": 2,
   "id": "f8e2f638-5399-4373-b127-29ccd71cb5eb",
   "metadata": {},
   "outputs": [],
   "source": [
    "aa = PDBFixer(pdbid='2NZT')"
   ]
  },
  {
   "cell_type": "code",
   "execution_count": 3,
   "id": "faf77eaa-a1c5-40ec-a39c-1a388d4eb7c7",
   "metadata": {},
   "outputs": [],
   "source": [
    "aa.findMissingResidues()"
   ]
  },
  {
   "cell_type": "code",
   "execution_count": 4,
   "id": "94e30bfc-c5f1-4ccb-af8d-b15e535e754f",
   "metadata": {},
   "outputs": [
    {
     "data": {
      "text/plain": [
       "{(0, 0): ['GLY', 'SER'],\n",
       " (0, 81): ['THR', 'ASP', 'ASN', 'GLY', 'LEU', 'GLN', 'LYS'],\n",
       " (0, 494): ['ALA', 'THR', 'PRO', 'ASP', 'GLY', 'THR', 'GLU', 'LYS'],\n",
       " (0, 515): ['ASN', 'GLY', 'LYS', 'TRP', 'GLY'],\n",
       " (0, 555): ['LYS', 'GLY', 'VAL'],\n",
       " (0, 605): ['GLU', 'GLU', 'PHE'],\n",
       " (0, 871): ['ALA', 'GLY', 'GLN'],\n",
       " (1, 0): ['GLY', 'SER'],\n",
       " (1, 81): ['THR', 'ASP', 'ASN', 'GLY', 'LEU', 'GLN', 'LYS'],\n",
       " (1, 322): ['LYS'],\n",
       " (1, 379): ['GLU', 'ARG'],\n",
       " (1, 491): ['ALA', 'THR', 'PRO', 'ASP', 'GLY', 'THR', 'GLU', 'LYS'],\n",
       " (1, 511): ['ARG', 'ASN', 'GLY', 'LYS', 'TRP', 'GLY', 'GLY'],\n",
       " (1, 603): ['GLU', 'GLU', 'PHE', 'ASP', 'LEU'],\n",
       " (1, 867): ['ALA', 'GLY', 'GLN']}"
      ]
     },
     "execution_count": 4,
     "metadata": {},
     "output_type": "execute_result"
    }
   ],
   "source": [
    "aa.missingResidues"
   ]
  },
  {
   "cell_type": "code",
   "execution_count": null,
   "id": "0a561318-3ac5-4bd9-acca-8f546a06cd2a",
   "metadata": {},
   "outputs": [],
   "source": [
    "aa = 'AF-P52789-F1'"
   ]
  },
  {
   "cell_type": "code",
   "execution_count": null,
   "id": "27267251-f29d-42ff-b32f-87c7254debb2",
   "metadata": {},
   "outputs": [],
   "source": [
    "import molsysmt as msm"
   ]
  },
  {
   "cell_type": "code",
   "execution_count": null,
   "id": "4efe2f28-2fee-438b-8c6b-6bb38a3f9475",
   "metadata": {},
   "outputs": [],
   "source": [
    "msm.get_form(aa)"
   ]
  },
  {
   "cell_type": "code",
   "execution_count": null,
   "id": "19eb1d50-6714-4b80-8edd-064b625d2d64",
   "metadata": {},
   "outputs": [],
   "source": [
    "molsys = msm.convert(aa)"
   ]
  },
  {
   "cell_type": "code",
   "execution_count": null,
   "id": "2367871c-e7ec-482b-9610-a9bba3e946d1",
   "metadata": {},
   "outputs": [],
   "source": [
    "msm.info(molsys)"
   ]
  },
  {
   "cell_type": "code",
   "execution_count": null,
   "id": "22e74083-94b4-49e1-b9be-50d4781a9191",
   "metadata": {},
   "outputs": [],
   "source": [
    "msm.info(molsys, element='entity')"
   ]
  },
  {
   "cell_type": "code",
   "execution_count": null,
   "id": "411a0d2c-923c-4286-92cc-6208f2cd2f07",
   "metadata": {},
   "outputs": [],
   "source": [
    "msm.view(molsys)"
   ]
  },
  {
   "cell_type": "code",
   "execution_count": null,
   "id": "bc523cdc-0cee-456a-a49e-341001aa1664",
   "metadata": {},
   "outputs": [],
   "source": []
  }
 ],
 "metadata": {
  "kernelspec": {
   "display_name": "Python 3 (ipykernel)",
   "language": "python",
   "name": "python3"
  },
  "language_info": {
   "codemirror_mode": {
    "name": "ipython",
    "version": 3
   },
   "file_extension": ".py",
   "mimetype": "text/x-python",
   "name": "python",
   "nbconvert_exporter": "python",
   "pygments_lexer": "ipython3",
   "version": "3.12.8"
  }
 },
 "nbformat": 4,
 "nbformat_minor": 5
}
