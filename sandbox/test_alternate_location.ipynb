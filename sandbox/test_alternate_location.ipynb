{
 "cells": [
  {
   "cell_type": "code",
   "execution_count": 1,
   "id": "22086aa9-8904-4000-a009-4fb1c891b443",
   "metadata": {
    "tags": []
   },
   "outputs": [
    {
     "data": {
      "application/vnd.jupyter.widget-view+json": {
       "model_id": "f5da1ff64241476f9a9f939a8b9e55d8",
       "version_major": 2,
       "version_minor": 0
      },
      "text/plain": []
     },
     "metadata": {},
     "output_type": "display_data"
    }
   ],
   "source": [
    "import molsysmt as msm"
   ]
  },
  {
   "cell_type": "code",
   "execution_count": 2,
   "id": "bbc053b2-c89f-4699-8206-872b345c4d44",
   "metadata": {
    "tags": []
   },
   "outputs": [],
   "source": [
    "import numpy as np"
   ]
  },
  {
   "cell_type": "code",
   "execution_count": 3,
   "id": "10fc85c9-8c3a-436d-a0a9-d56779725f36",
   "metadata": {
    "tags": []
   },
   "outputs": [],
   "source": [
    "mmtf = msm.convert('1BRS', to_form='mmtf.MMTFDecoder')"
   ]
  },
  {
   "cell_type": "code",
   "execution_count": 5,
   "id": "837292f8-d93f-401c-9437-1b10625cf69e",
   "metadata": {},
   "outputs": [
    {
     "data": {
      "text/plain": [
       "1"
      ]
     },
     "execution_count": 5,
     "metadata": {},
     "output_type": "execute_result"
    }
   ],
   "source": [
    "mmtf.num_models"
   ]
  },
  {
   "cell_type": "code",
   "execution_count": 4,
   "id": "e021c4fc-7205-4bb0-81b5-c68216b9898c",
   "metadata": {},
   "outputs": [
    {
     "name": "stdout",
     "output_type": "stream",
     "text": [
      "{2686: {'alternate_location': array(['A', 'B'], dtype='<U1'), 'occupancy': array([0.5, 0.5]), 'b_factor': <Quantity([0.2466 0.2467], 'nanometer ** 2')>, 'atom_id': array([2687, 2688])}, 2687: {'alternate_location': array(['A', 'B'], dtype='<U1'), 'occupancy': array([0.5, 0.5]), 'b_factor': <Quantity([0.2594 0.2596], 'nanometer ** 2')>, 'atom_id': array([2689, 2690])}}\n"
     ]
    },
    {
     "ename": "NameError",
     "evalue": "name 'tmp_item' is not defined",
     "output_type": "error",
     "traceback": [
      "\u001b[0;31m---------------------------------------------------------------------------\u001b[0m",
      "\u001b[0;31mNameError\u001b[0m                                 Traceback (most recent call last)",
      "Cell \u001b[0;32mIn[4], line 1\u001b[0m\n\u001b[0;32m----> 1\u001b[0m top \u001b[38;5;241m=\u001b[39m \u001b[43mmsm\u001b[49m\u001b[38;5;241;43m.\u001b[39;49m\u001b[43mconvert\u001b[49m\u001b[43m(\u001b[49m\u001b[43mmmtf\u001b[49m\u001b[43m,\u001b[49m\u001b[43m \u001b[49m\u001b[43mto_form\u001b[49m\u001b[38;5;241;43m=\u001b[39;49m\u001b[38;5;124;43m'\u001b[39;49m\u001b[38;5;124;43mmolsysmt.Structures\u001b[39;49m\u001b[38;5;124;43m'\u001b[39;49m\u001b[43m)\u001b[49m\n",
      "File \u001b[0;32m~/projects@dprada/MolSysMT/molsysmt/_private/digestion/digest.py:116\u001b[0m, in \u001b[0;36mdigest.<locals>.digestor.<locals>.wrapper\u001b[0;34m(*args, **kwargs)\u001b[0m\n\u001b[1;32m    114\u001b[0m     \u001b[38;5;28;01mreturn\u001b[39;00m func(all_args[\u001b[38;5;124m'\u001b[39m\u001b[38;5;124mself\u001b[39m\u001b[38;5;124m'\u001b[39m], \u001b[38;5;241m*\u001b[39m\u001b[38;5;241m*\u001b[39mfinal_args)\n\u001b[1;32m    115\u001b[0m \u001b[38;5;28;01melse\u001b[39;00m:\n\u001b[0;32m--> 116\u001b[0m     \u001b[38;5;28;01mreturn\u001b[39;00m \u001b[43mfunc\u001b[49m\u001b[43m(\u001b[49m\u001b[38;5;241;43m*\u001b[39;49m\u001b[38;5;241;43m*\u001b[39;49m\u001b[43mfinal_args\u001b[49m\u001b[43m)\u001b[49m\n",
      "File \u001b[0;32m~/projects@dprada/MolSysMT/molsysmt/basic/convert.py:420\u001b[0m, in \u001b[0;36mconvert\u001b[0;34m(molecular_system, to_form, selection, structure_indices, syntax, verbose, **kwargs)\u001b[0m\n\u001b[1;32m    416\u001b[0m \u001b[38;5;66;03m# If one to one\u001b[39;00m\n\u001b[1;32m    418\u001b[0m \u001b[38;5;28;01mif\u001b[39;00m \u001b[38;5;129;01mnot\u001b[39;00m \u001b[38;5;28misinstance\u001b[39m(from_form, (\u001b[38;5;28mlist\u001b[39m, \u001b[38;5;28mtuple\u001b[39m)):\n\u001b[0;32m--> 420\u001b[0m     output \u001b[38;5;241m=\u001b[39m \u001b[43m_convert_one_to_one\u001b[49m\u001b[43m(\u001b[49m\u001b[43mmolecular_system\u001b[49m\u001b[43m,\u001b[49m\u001b[43m \u001b[49m\u001b[43mto_form\u001b[49m\u001b[38;5;241;43m=\u001b[39;49m\u001b[43mto_form\u001b[49m\u001b[43m,\u001b[49m\u001b[43m \u001b[49m\u001b[43mselection\u001b[49m\u001b[38;5;241;43m=\u001b[39;49m\u001b[43mselection\u001b[49m\u001b[43m,\u001b[49m\u001b[43m \u001b[49m\u001b[43mstructure_indices\u001b[49m\u001b[38;5;241;43m=\u001b[39;49m\u001b[43mstructure_indices\u001b[49m\u001b[43m,\u001b[49m\n\u001b[1;32m    421\u001b[0m \u001b[43m            \u001b[49m\u001b[43msyntax\u001b[49m\u001b[38;5;241;43m=\u001b[39;49m\u001b[43msyntax\u001b[49m\u001b[43m,\u001b[49m\u001b[43m \u001b[49m\u001b[43mverbose\u001b[49m\u001b[38;5;241;43m=\u001b[39;49m\u001b[43mverbose\u001b[49m\u001b[43m,\u001b[49m\u001b[43m \u001b[49m\u001b[38;5;241;43m*\u001b[39;49m\u001b[38;5;241;43m*\u001b[39;49m\u001b[43mkwargs\u001b[49m\u001b[43m)\u001b[49m\n\u001b[1;32m    424\u001b[0m \u001b[38;5;66;03m# If multiple to one\u001b[39;00m\n\u001b[1;32m    425\u001b[0m \n\u001b[1;32m    426\u001b[0m \u001b[38;5;28;01melse\u001b[39;00m:\n\u001b[1;32m    427\u001b[0m \n\u001b[1;32m    428\u001b[0m     \u001b[38;5;66;03m# conversions in private shortcuts\u001b[39;00m\n\u001b[1;32m    429\u001b[0m     \u001b[38;5;28;01mif\u001b[39;00m \u001b[38;5;28mtuple\u001b[39m(\u001b[38;5;28msorted\u001b[39m(from_form)) \u001b[38;5;129;01min\u001b[39;00m _multiple_conversion_shortcuts:\n",
      "File \u001b[0;32m~/projects@dprada/MolSysMT/molsysmt/basic/convert.py:58\u001b[0m, in \u001b[0;36m_convert_one_to_one\u001b[0;34m(molecular_system, to_form, selection, structure_indices, syntax, verbose, **kwargs)\u001b[0m\n\u001b[1;32m     55\u001b[0m                 conversion_arguments[_element_indices[element]] \u001b[38;5;241m=\u001b[39m \u001b[38;5;124m'\u001b[39m\u001b[38;5;124mall\u001b[39m\u001b[38;5;124m'\u001b[39m\n\u001b[1;32m     56\u001b[0m             \u001b[38;5;28;01mbreak\u001b[39;00m\n\u001b[0;32m---> 58\u001b[0m     output \u001b[38;5;241m=\u001b[39m \u001b[43mfunction\u001b[49m\u001b[43m(\u001b[49m\u001b[43mmolecular_system\u001b[49m\u001b[43m,\u001b[49m\u001b[43m \u001b[49m\u001b[38;5;241;43m*\u001b[39;49m\u001b[38;5;241;43m*\u001b[39;49m\u001b[43mconversion_arguments\u001b[49m\u001b[43m,\u001b[49m\u001b[43m \u001b[49m\u001b[38;5;241;43m*\u001b[39;49m\u001b[38;5;241;43m*\u001b[39;49m\u001b[43mkwargs\u001b[49m\u001b[43m)\u001b[49m\n\u001b[1;32m     60\u001b[0m \u001b[38;5;28;01melif\u001b[39;00m (\u001b[38;5;124m'\u001b[39m\u001b[38;5;124mmolsysmt.MolSys\u001b[39m\u001b[38;5;124m'\u001b[39m \u001b[38;5;129;01min\u001b[39;00m _dict_modules[from_form]\u001b[38;5;241m.\u001b[39m_convert_to) \u001b[38;5;129;01mand\u001b[39;00m (to_form \u001b[38;5;129;01min\u001b[39;00m _dict_modules[\u001b[38;5;124m'\u001b[39m\u001b[38;5;124mmolsysmt.MolSys\u001b[39m\u001b[38;5;124m'\u001b[39m]\u001b[38;5;241m.\u001b[39m_convert_to):\n\u001b[1;32m     62\u001b[0m     output \u001b[38;5;241m=\u001b[39m _convert_one_to_one(molecular_system, to_form\u001b[38;5;241m=\u001b[39m\u001b[38;5;124m'\u001b[39m\u001b[38;5;124mmolsysmt.MolSys\u001b[39m\u001b[38;5;124m'\u001b[39m, selection\u001b[38;5;241m=\u001b[39mselection,\n\u001b[1;32m     63\u001b[0m             structure_indices\u001b[38;5;241m=\u001b[39mstructure_indices, syntax\u001b[38;5;241m=\u001b[39msyntax, \u001b[38;5;241m*\u001b[39m\u001b[38;5;241m*\u001b[39mkwargs)\n",
      "File \u001b[0;32m~/projects@dprada/MolSysMT/molsysmt/_private/digestion/digest.py:116\u001b[0m, in \u001b[0;36mdigest.<locals>.digestor.<locals>.wrapper\u001b[0;34m(*args, **kwargs)\u001b[0m\n\u001b[1;32m    114\u001b[0m     \u001b[38;5;28;01mreturn\u001b[39;00m func(all_args[\u001b[38;5;124m'\u001b[39m\u001b[38;5;124mself\u001b[39m\u001b[38;5;124m'\u001b[39m], \u001b[38;5;241m*\u001b[39m\u001b[38;5;241m*\u001b[39mfinal_args)\n\u001b[1;32m    115\u001b[0m \u001b[38;5;28;01melse\u001b[39;00m:\n\u001b[0;32m--> 116\u001b[0m     \u001b[38;5;28;01mreturn\u001b[39;00m \u001b[43mfunc\u001b[49m\u001b[43m(\u001b[49m\u001b[38;5;241;43m*\u001b[39;49m\u001b[38;5;241;43m*\u001b[39;49m\u001b[43mfinal_args\u001b[49m\u001b[43m)\u001b[49m\n",
      "File \u001b[0;32m~/projects@dprada/MolSysMT/molsysmt/form/mmtf_MMTFDecoder/to_molsysmt_Structures.py:114\u001b[0m, in \u001b[0;36mto_molsysmt_Structures\u001b[0;34m(item, atom_indices, structure_indices)\u001b[0m\n\u001b[1;32m     99\u001b[0m \u001b[38;5;28mprint\u001b[39m(alternate_location)\n\u001b[1;32m    101\u001b[0m \u001b[38;5;66;03m#structure_id = get_structure_id_from_system(item, structure_indices=structure_indices)\u001b[39;00m\n\u001b[1;32m    102\u001b[0m \u001b[38;5;66;03m#time = get_time_from_system(item, structure_indices=structure_indices)\u001b[39;00m\n\u001b[1;32m    103\u001b[0m \u001b[38;5;66;03m#coordinates = get_coordinates_from_atom(item, indices=atom_indices, structure_indices=structure_indices)\u001b[39;00m\n\u001b[0;32m   (...)\u001b[0m\n\u001b[1;32m    111\u001b[0m \u001b[38;5;66;03m#tmp_item.append_structures(structure_id=structure_id, time=time, coordinates=coordinates, box=box,\u001b[39;00m\n\u001b[1;32m    112\u001b[0m \u001b[38;5;66;03m#        occupancy=occupancy, b_factor=b_factor, formal_charge=formal_charge, alternate_location=alternate_location)\u001b[39;00m\n\u001b[0;32m--> 114\u001b[0m \u001b[38;5;28;01mreturn\u001b[39;00m \u001b[43mtmp_item\u001b[49m\n",
      "\u001b[0;31mNameError\u001b[0m: name 'tmp_item' is not defined"
     ]
    }
   ],
   "source": [
    "top = msm.convert(mmtf, to_form='molsysmt.Structures')"
   ]
  },
  {
   "cell_type": "code",
   "execution_count": null,
   "id": "abb83789-334b-47b6-ba28-dd69525248d7",
   "metadata": {},
   "outputs": [],
   "source": [
    "msm.info(top)"
   ]
  },
  {
   "cell_type": "code",
   "execution_count": null,
   "id": "b8a9047f-ee3c-4160-ad73-0b4c4ae92990",
   "metadata": {},
   "outputs": [],
   "source": [
    "mmtf.num_atoms"
   ]
  },
  {
   "cell_type": "code",
   "execution_count": null,
   "id": "e1a3e699-a2c8-4eae-b59a-073030b6e4f8",
   "metadata": {},
   "outputs": [],
   "source": [
    "np.where(np.array(['A', 'B'])=='A')[0][0]"
   ]
  },
  {
   "cell_type": "code",
   "execution_count": null,
   "id": "49abdb65-bea0-404b-badb-4963b55a2869",
   "metadata": {},
   "outputs": [],
   "source": [
    "np.argmax(np.array([0.4, 0.6]))"
   ]
  },
  {
   "cell_type": "code",
   "execution_count": null,
   "id": "a435ffb6-6b6f-427a-908e-04672a198a7f",
   "metadata": {},
   "outputs": [],
   "source": [
    "aux = {}"
   ]
  },
  {
   "cell_type": "code",
   "execution_count": null,
   "id": "0443ac03-ab53-4bf3-a268-4e7948379648",
   "metadata": {},
   "outputs": [],
   "source": [
    "aux[('CB',14,'D')]=3"
   ]
  },
  {
   "cell_type": "code",
   "execution_count": null,
   "id": "b7202ce0-88d3-4d22-bcf5-2e947689479b",
   "metadata": {},
   "outputs": [],
   "source": [
    "tuple(['CB',14,'D'])"
   ]
  },
  {
   "cell_type": "code",
   "execution_count": null,
   "id": "6c5849f8-fcd5-48f7-bcd2-ea8859ad11d7",
   "metadata": {},
   "outputs": [],
   "source": [
    "top.atoms_dataframe['atom_name'][[3,4,5]].to_numpy()"
   ]
  },
  {
   "cell_type": "code",
   "execution_count": null,
   "id": "3979f69c-bda5-408d-81d9-80f90e2598dc",
   "metadata": {},
   "outputs": [],
   "source": [
    "np.array([0,1,2,3]).tolist()"
   ]
  },
  {
   "cell_type": "code",
   "execution_count": null,
   "id": "a46b5e6c-cb46-45ce-b38a-31341cfd5732",
   "metadata": {
    "tags": []
   },
   "outputs": [],
   "source": [
    "mmtf.num_atoms"
   ]
  },
  {
   "cell_type": "code",
   "execution_count": null,
   "id": "e99ea65e-7e74-4295-a4c8-eb257ab559d5",
   "metadata": {},
   "outputs": [],
   "source": [
    "top.atoms_dataframe.iloc[[2686, 2687, 2688, 2689, 4857, 4866]]"
   ]
  },
  {
   "cell_type": "code",
   "execution_count": null,
   "id": "4d80de10-17dc-4f99-9310-b2fac74a01eb",
   "metadata": {
    "tags": []
   },
   "outputs": [],
   "source": [
    "np.where(molsys.occupancy_list < 1.0)"
   ]
  },
  {
   "cell_type": "code",
   "execution_count": null,
   "id": "c4f23fb9-ae5f-4594-89de-49de4174c068",
   "metadata": {
    "tags": []
   },
   "outputs": [],
   "source": [
    "for ii,jj in enumerate(molsys.alt_loc_list):\n",
    "    if jj != '\\x00':\n",
    "        print(ii,jj)"
   ]
  },
  {
   "cell_type": "code",
   "execution_count": null,
   "id": "c2c33dd6-5fdd-4072-a617-1df150120cd2",
   "metadata": {
    "tags": []
   },
   "outputs": [],
   "source": [
    "molsys.occupancy_list[4857]"
   ]
  },
  {
   "cell_type": "code",
   "execution_count": null,
   "id": "4f8d10af-3ea2-4aa1-9346-80e59bb6afc8",
   "metadata": {
    "tags": []
   },
   "outputs": [],
   "source": [
    "molsys.occupancy_list[4866]"
   ]
  },
  {
   "cell_type": "code",
   "execution_count": null,
   "id": "f06bfff9-933d-48dd-934d-97bee5cb40a0",
   "metadata": {
    "tags": []
   },
   "outputs": [],
   "source": [
    "molsys.alt_loc_list[4866]"
   ]
  },
  {
   "cell_type": "code",
   "execution_count": null,
   "id": "1280e203-1f9d-4ddf-be5f-661e26139691",
   "metadata": {
    "tags": []
   },
   "outputs": [],
   "source": [
    "molsys.atom_id_list[2688]"
   ]
  },
  {
   "cell_type": "code",
   "execution_count": null,
   "id": "d8962157-c5c7-49d5-9072-c75ff603299e",
   "metadata": {
    "tags": []
   },
   "outputs": [],
   "source": [
    "len(molsys.b_factor_list)"
   ]
  },
  {
   "cell_type": "code",
   "execution_count": null,
   "id": "90ff13e1-2c5f-4dec-aa19-041099741b88",
   "metadata": {},
   "outputs": [],
   "source": [
    "alternate_location = [None for ii in range(10)]"
   ]
  },
  {
   "cell_type": "code",
   "execution_count": null,
   "id": "82a5f7bd-51ec-480a-ae58-e75267a3570f",
   "metadata": {},
   "outputs": [],
   "source": [
    "alternate_location[9] = {'A':{'coordinates': [x,x,x], 'occupancy': []}}"
   ]
  }
 ],
 "metadata": {
  "kernelspec": {
   "display_name": "Python 3 (ipykernel)",
   "language": "python",
   "name": "python3"
  },
  "language_info": {
   "codemirror_mode": {
    "name": "ipython",
    "version": 3
   },
   "file_extension": ".py",
   "mimetype": "text/x-python",
   "name": "python",
   "nbconvert_exporter": "python",
   "pygments_lexer": "ipython3",
   "version": "3.9.15"
  }
 },
 "nbformat": 4,
 "nbformat_minor": 5
}
