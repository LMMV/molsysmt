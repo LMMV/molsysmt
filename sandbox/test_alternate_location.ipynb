{
 "cells": [
  {
   "cell_type": "code",
   "execution_count": 1,
   "id": "22086aa9-8904-4000-a009-4fb1c891b443",
   "metadata": {
    "tags": []
   },
   "outputs": [
    {
     "data": {
      "application/vnd.jupyter.widget-view+json": {
       "model_id": "f53041c946384297bd42a892ffc9c5b4",
       "version_major": 2,
       "version_minor": 0
      },
      "text/plain": []
     },
     "metadata": {},
     "output_type": "display_data"
    }
   ],
   "source": [
    "import molsysmt as msm"
   ]
  },
  {
   "cell_type": "code",
   "execution_count": 8,
   "id": "bbc053b2-c89f-4699-8206-872b345c4d44",
   "metadata": {
    "tags": []
   },
   "outputs": [],
   "source": [
    "import numpy as np"
   ]
  },
  {
   "cell_type": "code",
   "execution_count": 3,
   "id": "10fc85c9-8c3a-436d-a0a9-d56779725f36",
   "metadata": {
    "tags": []
   },
   "outputs": [],
   "source": [
    "molsys = msm.convert('1BRS', to_form='mmtf.MMTFDecoder')"
   ]
  },
  {
   "cell_type": "code",
   "execution_count": 4,
   "id": "a46b5e6c-cb46-45ce-b38a-31341cfd5732",
   "metadata": {
    "tags": []
   },
   "outputs": [
    {
     "data": {
      "text/plain": [
       "5153"
      ]
     },
     "execution_count": 4,
     "metadata": {},
     "output_type": "execute_result"
    }
   ],
   "source": [
    "molsys.num_atoms"
   ]
  },
  {
   "cell_type": "code",
   "execution_count": 9,
   "id": "4d80de10-17dc-4f99-9310-b2fac74a01eb",
   "metadata": {
    "tags": []
   },
   "outputs": [
    {
     "data": {
      "text/plain": [
       "(array([2686, 2687, 2688, 2689, 4857, 4866]),)"
      ]
     },
     "execution_count": 9,
     "metadata": {},
     "output_type": "execute_result"
    }
   ],
   "source": [
    "np.where(molsys.occupancy_list < 1.0)"
   ]
  },
  {
   "cell_type": "code",
   "execution_count": 13,
   "id": "c4f23fb9-ae5f-4594-89de-49de4174c068",
   "metadata": {
    "tags": []
   },
   "outputs": [
    {
     "name": "stdout",
     "output_type": "stream",
     "text": [
      "2686 A\n",
      "2687 A\n",
      "2688 B\n",
      "2689 B\n"
     ]
    }
   ],
   "source": [
    "for ii,jj in enumerate(molsys.alt_loc_list):\n",
    "    if jj != '\\x00':\n",
    "        print(ii,jj)"
   ]
  },
  {
   "cell_type": "code",
   "execution_count": 14,
   "id": "c2c33dd6-5fdd-4072-a617-1df150120cd2",
   "metadata": {
    "tags": []
   },
   "outputs": [
    {
     "data": {
      "text/plain": [
       "0.5"
      ]
     },
     "execution_count": 14,
     "metadata": {},
     "output_type": "execute_result"
    }
   ],
   "source": [
    "molsys.occupancy_list[4857]"
   ]
  },
  {
   "cell_type": "code",
   "execution_count": 15,
   "id": "4f8d10af-3ea2-4aa1-9346-80e59bb6afc8",
   "metadata": {
    "tags": []
   },
   "outputs": [
    {
     "data": {
      "text/plain": [
       "0.5"
      ]
     },
     "execution_count": 15,
     "metadata": {},
     "output_type": "execute_result"
    }
   ],
   "source": [
    "molsys.occupancy_list[4866]"
   ]
  },
  {
   "cell_type": "code",
   "execution_count": 17,
   "id": "f06bfff9-933d-48dd-934d-97bee5cb40a0",
   "metadata": {
    "tags": []
   },
   "outputs": [
    {
     "data": {
      "text/plain": [
       "'\\x00'"
      ]
     },
     "execution_count": 17,
     "metadata": {},
     "output_type": "execute_result"
    }
   ],
   "source": [
    "molsys.alt_loc_list[4866]"
   ]
  },
  {
   "cell_type": "code",
   "execution_count": 26,
   "id": "1280e203-1f9d-4ddf-be5f-661e26139691",
   "metadata": {
    "tags": []
   },
   "outputs": [
    {
     "data": {
      "text/plain": [
       "2690"
      ]
     },
     "execution_count": 26,
     "metadata": {},
     "output_type": "execute_result"
    }
   ],
   "source": [
    "molsys.atom_id_list[2689]"
   ]
  },
  {
   "cell_type": "code",
   "execution_count": 29,
   "id": "d8962157-c5c7-49d5-9072-c75ff603299e",
   "metadata": {
    "tags": []
   },
   "outputs": [
    {
     "data": {
      "text/plain": [
       "5153"
      ]
     },
     "execution_count": 29,
     "metadata": {},
     "output_type": "execute_result"
    }
   ],
   "source": [
    "len(molsys.b_factor_list)"
   ]
  },
  {
   "cell_type": "code",
   "execution_count": null,
   "id": "90ff13e1-2c5f-4dec-aa19-041099741b88",
   "metadata": {},
   "outputs": [],
   "source": []
  }
 ],
 "metadata": {
  "kernelspec": {
   "display_name": "Python 3 (ipykernel)",
   "language": "python",
   "name": "python3"
  },
  "language_info": {
   "codemirror_mode": {
    "name": "ipython",
    "version": 3
   },
   "file_extension": ".py",
   "mimetype": "text/x-python",
   "name": "python",
   "nbconvert_exporter": "python",
   "pygments_lexer": "ipython3",
   "version": "3.9.16"
  }
 },
 "nbformat": 4,
 "nbformat_minor": 5
}
