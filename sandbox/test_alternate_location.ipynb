{
 "cells": [
  {
   "cell_type": "code",
   "execution_count": 1,
   "id": "0b1640fe-860a-4d75-b06f-df58e035eccd",
   "metadata": {
    "tags": []
   },
   "outputs": [],
   "source": [
    "%load_ext autoreload\n",
    "%autoreload 2"
   ]
  },
  {
   "cell_type": "code",
   "execution_count": 2,
   "id": "22086aa9-8904-4000-a009-4fb1c891b443",
   "metadata": {
    "tags": []
   },
   "outputs": [
    {
     "data": {
      "application/vnd.jupyter.widget-view+json": {
       "model_id": "7f07a60fa23f4aa48b6aec63676c4dc2",
       "version_major": 2,
       "version_minor": 0
      },
      "text/plain": []
     },
     "metadata": {},
     "output_type": "display_data"
    }
   ],
   "source": [
    "import molsysmt as msm"
   ]
  },
  {
   "cell_type": "code",
   "execution_count": 3,
   "id": "e021c4fc-7205-4bb0-81b5-c68216b9898c",
   "metadata": {
    "tags": []
   },
   "outputs": [],
   "source": [
    "molsys = msm.convert('1BRS', to_form='molsysmt.MolSys')"
   ]
  },
  {
   "cell_type": "code",
   "execution_count": 4,
   "id": "f14669b0-67b1-4f26-b2f5-4e5b4e2114bb",
   "metadata": {
    "tags": []
   },
   "outputs": [
    {
     "data": {
      "text/plain": [
       "[{2686: {'id': array(['A', 'B'], dtype='<U1'),\n",
       "   'occupancy': array([0.5, 0.5]),\n",
       "   'b_factor': array([0.2466, 0.2467]) <Unit('nanometer ** 2')>,\n",
       "   'atom_id': array([2687, 2688]),\n",
       "   'coordinates': array([[3.2742, 2.2579, 0.1536],\n",
       "          [3.2757, 2.2571, 0.1533]]) <Unit('nanometer')>},\n",
       "  2687: {'id': array(['A', 'B'], dtype='<U1'),\n",
       "   'occupancy': array([0.5, 0.5]),\n",
       "   'b_factor': array([0.2594, 0.2596]) <Unit('nanometer ** 2')>,\n",
       "   'atom_id': array([2689, 2690]),\n",
       "   'coordinates': array([[3.1412, 2.241 , 0.1076],\n",
       "          [3.3396, 2.192 , 0.2619]]) <Unit('nanometer')>}}]"
      ]
     },
     "execution_count": 4,
     "metadata": {},
     "output_type": "execute_result"
    }
   ],
   "source": [
    "msm.get(molsys, alternate_location=True)"
   ]
  },
  {
   "cell_type": "code",
   "execution_count": null,
   "id": "7f63172a-cce0-42a1-b415-7366d19e0200",
   "metadata": {},
   "outputs": [],
   "source": [
    "msm.build.solve_atoms_with_alternate_location(molsys, selection='all', structure_indices='all', location_id='occupancy')"
   ]
  },
  {
   "cell_type": "code",
   "execution_count": null,
   "id": "46993ceb-d5c0-4ad5-b506-ea1dfd201ee4",
   "metadata": {},
   "outputs": [],
   "source": []
  },
  {
   "cell_type": "code",
   "execution_count": null,
   "id": "41493a65-6d6e-43c4-92d8-308f421f42f0",
   "metadata": {},
   "outputs": [],
   "source": []
  },
  {
   "cell_type": "code",
   "execution_count": null,
   "id": "ca0ec80c-c9d8-4cc9-8d05-1f74c68ee71c",
   "metadata": {},
   "outputs": [],
   "source": []
  },
  {
   "cell_type": "code",
   "execution_count": null,
   "id": "8593e4aa-0264-4f28-a3df-b623effc9be4",
   "metadata": {
    "tags": []
   },
   "outputs": [],
   "source": [
    "msm.get(molsys, bioassembly=True)"
   ]
  },
  {
   "cell_type": "code",
   "execution_count": null,
   "id": "0214c542-46cf-4f9d-8e14-339ea5e662d3",
   "metadata": {},
   "outputs": [],
   "source": []
  }
 ],
 "metadata": {
  "kernelspec": {
   "display_name": "Python 3 (ipykernel)",
   "language": "python",
   "name": "python3"
  },
  "language_info": {
   "codemirror_mode": {
    "name": "ipython",
    "version": 3
   },
   "file_extension": ".py",
   "mimetype": "text/x-python",
   "name": "python",
   "nbconvert_exporter": "python",
   "pygments_lexer": "ipython3",
   "version": "3.9.16"
  }
 },
 "nbformat": 4,
 "nbformat_minor": 5
}
