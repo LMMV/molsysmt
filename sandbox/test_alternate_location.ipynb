{
 "cells": [
  {
   "cell_type": "code",
   "execution_count": 1,
   "id": "0b1640fe-860a-4d75-b06f-df58e035eccd",
   "metadata": {
    "tags": []
   },
   "outputs": [],
   "source": [
    "%load_ext autoreload\n",
    "%autoreload 2"
   ]
  },
  {
   "cell_type": "code",
   "execution_count": 2,
   "id": "22086aa9-8904-4000-a009-4fb1c891b443",
   "metadata": {
    "tags": []
   },
   "outputs": [
    {
     "data": {
      "application/vnd.jupyter.widget-view+json": {
       "model_id": "b3545af5ca8a4d939ee7e94184b151cd",
       "version_major": 2,
       "version_minor": 0
      },
      "text/plain": []
     },
     "metadata": {},
     "output_type": "display_data"
    }
   ],
   "source": [
    "import molsysmt as msm"
   ]
  },
  {
   "cell_type": "code",
   "execution_count": 3,
   "id": "e021c4fc-7205-4bb0-81b5-c68216b9898c",
   "metadata": {
    "tags": []
   },
   "outputs": [],
   "source": [
    "molsys = msm.convert('1BRS', to_form='molsysmt.MolSys')"
   ]
  },
  {
   "cell_type": "code",
   "execution_count": 4,
   "id": "ff74350f-fbdd-4f21-a1d3-b84a18a26d86",
   "metadata": {
    "tags": []
   },
   "outputs": [
    {
     "data": {
      "text/html": [
       "<style type=\"text/css\">\n",
       "</style>\n",
       "<table id=\"T_5f907\">\n",
       "  <thead>\n",
       "    <tr>\n",
       "      <th id=\"T_5f907_level0_col0\" class=\"col_heading level0 col0\" >form</th>\n",
       "      <th id=\"T_5f907_level0_col1\" class=\"col_heading level0 col1\" >n_atoms</th>\n",
       "      <th id=\"T_5f907_level0_col2\" class=\"col_heading level0 col2\" >n_groups</th>\n",
       "      <th id=\"T_5f907_level0_col3\" class=\"col_heading level0 col3\" >n_components</th>\n",
       "      <th id=\"T_5f907_level0_col4\" class=\"col_heading level0 col4\" >n_chains</th>\n",
       "      <th id=\"T_5f907_level0_col5\" class=\"col_heading level0 col5\" >n_molecules</th>\n",
       "      <th id=\"T_5f907_level0_col6\" class=\"col_heading level0 col6\" >n_entities</th>\n",
       "      <th id=\"T_5f907_level0_col7\" class=\"col_heading level0 col7\" >n_waters</th>\n",
       "      <th id=\"T_5f907_level0_col8\" class=\"col_heading level0 col8\" >n_proteins</th>\n",
       "      <th id=\"T_5f907_level0_col9\" class=\"col_heading level0 col9\" >n_structures</th>\n",
       "    </tr>\n",
       "  </thead>\n",
       "  <tbody>\n",
       "    <tr>\n",
       "      <td id=\"T_5f907_row0_col0\" class=\"data row0 col0\" >molsysmt.MolSys</td>\n",
       "      <td id=\"T_5f907_row0_col1\" class=\"data row0 col1\" >5151</td>\n",
       "      <td id=\"T_5f907_row0_col2\" class=\"data row0 col2\" >1101</td>\n",
       "      <td id=\"T_5f907_row0_col3\" class=\"data row0 col3\" >521</td>\n",
       "      <td id=\"T_5f907_row0_col4\" class=\"data row0 col4\" >12</td>\n",
       "      <td id=\"T_5f907_row0_col5\" class=\"data row0 col5\" >519</td>\n",
       "      <td id=\"T_5f907_row0_col6\" class=\"data row0 col6\" >3</td>\n",
       "      <td id=\"T_5f907_row0_col7\" class=\"data row0 col7\" >513</td>\n",
       "      <td id=\"T_5f907_row0_col8\" class=\"data row0 col8\" >6</td>\n",
       "      <td id=\"T_5f907_row0_col9\" class=\"data row0 col9\" >1</td>\n",
       "    </tr>\n",
       "  </tbody>\n",
       "</table>\n"
      ],
      "text/plain": [
       "<pandas.io.formats.style.Styler at 0x7f6f53a74b50>"
      ]
     },
     "execution_count": 4,
     "metadata": {},
     "output_type": "execute_result"
    }
   ],
   "source": [
    "msm.info(molsys)"
   ]
  },
  {
   "cell_type": "code",
   "execution_count": 5,
   "id": "f14669b0-67b1-4f26-b2f5-4e5b4e2114bb",
   "metadata": {
    "tags": []
   },
   "outputs": [
    {
     "data": {
      "text/plain": [
       "[{2686: {'id': array(['A', 'B'], dtype='<U1'),\n",
       "   'occupancy': array([0.5, 0.5]),\n",
       "   'b_factor': array([0.2466, 0.2467]) <Unit('nanometer ** 2')>,\n",
       "   'atom_id': array([2687, 2688]),\n",
       "   'coordinates': array([[3.2742, 2.2579, 0.1536],\n",
       "          [3.2757, 2.2571, 0.1533]]) <Unit('nanometer')>},\n",
       "  2687: {'id': array(['A', 'B'], dtype='<U1'),\n",
       "   'occupancy': array([0.5, 0.5]),\n",
       "   'b_factor': array([0.2594, 0.2596]) <Unit('nanometer ** 2')>,\n",
       "   'atom_id': array([2689, 2690]),\n",
       "   'coordinates': array([[3.1412, 2.241 , 0.1076],\n",
       "          [3.3396, 2.192 , 0.2619]]) <Unit('nanometer')>}}]"
      ]
     },
     "execution_count": 5,
     "metadata": {},
     "output_type": "execute_result"
    }
   ],
   "source": [
    "msm.get(molsys, alternate_location=True)"
   ]
  },
  {
   "cell_type": "code",
   "execution_count": 6,
   "id": "8593e4aa-0264-4f28-a3df-b623effc9be4",
   "metadata": {
    "tags": []
   },
   "outputs": [
    {
     "data": {
      "text/plain": [
       "{'1': {'chain_indices': [array([0, 3, 6, 9])],\n",
       "  'rotations': [array([[1., 0., 0.],\n",
       "          [0., 1., 0.],\n",
       "          [0., 0., 1.]])],\n",
       "  'translations': [array([[[0., 0., 0.]]]) <Unit('nanometer')>]},\n",
       " '2': {'chain_indices': [array([ 1,  4,  7, 10])],\n",
       "  'rotations': [array([[1., 0., 0.],\n",
       "          [0., 1., 0.],\n",
       "          [0., 0., 1.]])],\n",
       "  'translations': [array([[[0., 0., 0.]]]) <Unit('nanometer')>]},\n",
       " '3': {'chain_indices': [array([ 2,  5,  8, 11])],\n",
       "  'rotations': [array([[1., 0., 0.],\n",
       "          [0., 1., 0.],\n",
       "          [0., 0., 1.]])],\n",
       "  'translations': [array([[[0., 0., 0.]]]) <Unit('nanometer')>]}}"
      ]
     },
     "execution_count": 6,
     "metadata": {},
     "output_type": "execute_result"
    }
   ],
   "source": [
    "msm.get(molsys, bioassembly=True)"
   ]
  },
  {
   "cell_type": "code",
   "execution_count": null,
   "id": "0214c542-46cf-4f9d-8e14-339ea5e662d3",
   "metadata": {},
   "outputs": [],
   "source": []
  }
 ],
 "metadata": {
  "kernelspec": {
   "display_name": "Python 3 (ipykernel)",
   "language": "python",
   "name": "python3"
  },
  "language_info": {
   "codemirror_mode": {
    "name": "ipython",
    "version": 3
   },
   "file_extension": ".py",
   "mimetype": "text/x-python",
   "name": "python",
   "nbconvert_exporter": "python",
   "pygments_lexer": "ipython3",
   "version": "3.9.15"
  }
 },
 "nbformat": 4,
 "nbformat_minor": 5
}
