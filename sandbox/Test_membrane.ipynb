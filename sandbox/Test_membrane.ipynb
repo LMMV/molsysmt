{
 "cells": [
  {
   "cell_type": "markdown",
   "id": "2c8c5f0e-d6b7-4790-9423-be6e62f66d96",
   "metadata": {},
   "source": [
    "# Test lipid"
   ]
  },
  {
   "cell_type": "code",
   "execution_count": 1,
   "id": "a0bcd34b-8c83-441c-ba6a-3e4a22b8016b",
   "metadata": {
    "tags": []
   },
   "outputs": [
    {
     "data": {
      "application/vnd.jupyter.widget-view+json": {
       "model_id": "913802e255244443826660676ace5499",
       "version_major": 2,
       "version_minor": 0
      },
      "text/plain": []
     },
     "metadata": {},
     "output_type": "display_data"
    }
   ],
   "source": [
    "import molsysmt as msm"
   ]
  },
  {
   "cell_type": "code",
   "execution_count": 2,
   "id": "5477e7a8-1a75-4ef2-b44d-47d122fc1358",
   "metadata": {
    "tags": []
   },
   "outputs": [],
   "source": [
    "psf = msm.demo['membrane']['membrane.psf']\n",
    "dcd = msm.demo['membrane']['membrane.dcd']"
   ]
  },
  {
   "cell_type": "code",
   "execution_count": 10,
   "id": "ee9d9efb-fbe8-4a23-8613-3dc8dfdcb52e",
   "metadata": {},
   "outputs": [],
   "source": [
    "atoms_P = msm.select([psf, dcd], selection='atom_name == \"P\"')"
   ]
  },
  {
   "cell_type": "code",
   "execution_count": 12,
   "id": "07498aa5-5b24-46c3-b1ba-678c725d341a",
   "metadata": {},
   "outputs": [],
   "source": [
    "iterator = msm.Iterator([psf, dcd], selection='atom_name == \"P\"', coordinates=True)"
   ]
  },
  {
   "cell_type": "code",
   "execution_count": 8,
   "id": "3c5b51f0-ff63-4420-a0ef-ee9b5ae709a7",
   "metadata": {},
   "outputs": [],
   "source": [
    "iterator = msm.Iterator(dcd, selection=atoms_P, coordinates=True)"
   ]
  },
  {
   "cell_type": "code",
   "execution_count": 13,
   "id": "0864df7a-eddc-4b1f-9219-d150182d1b0f",
   "metadata": {},
   "outputs": [
    {
     "name": "stdout",
     "output_type": "stream",
     "text": [
      "(1, 294, 3)\n",
      "(1, 294, 3)\n",
      "(1, 294, 3)\n",
      "(1, 294, 3)\n",
      "(1, 294, 3)\n",
      "(1, 294, 3)\n",
      "(1, 294, 3)\n",
      "(1, 294, 3)\n",
      "(1, 294, 3)\n",
      "(1, 294, 3)\n",
      "(1, 294, 3)\n",
      "(1, 294, 3)\n",
      "(1, 294, 3)\n",
      "(1, 294, 3)\n",
      "(1, 294, 3)\n",
      "(1, 294, 3)\n",
      "(1, 294, 3)\n",
      "(1, 294, 3)\n",
      "(1, 294, 3)\n",
      "(1, 294, 3)\n",
      "(1, 294, 3)\n",
      "(1, 294, 3)\n",
      "(1, 294, 3)\n",
      "(1, 294, 3)\n",
      "(1, 294, 3)\n",
      "(1, 294, 3)\n",
      "(1, 294, 3)\n",
      "(1, 294, 3)\n",
      "(1, 294, 3)\n",
      "(1, 294, 3)\n",
      "(1, 294, 3)\n",
      "(1, 294, 3)\n",
      "(1, 294, 3)\n",
      "(1, 294, 3)\n",
      "(1, 294, 3)\n",
      "(1, 294, 3)\n",
      "(1, 294, 3)\n",
      "(1, 294, 3)\n",
      "(1, 294, 3)\n",
      "(1, 294, 3)\n",
      "(1, 294, 3)\n",
      "(1, 294, 3)\n",
      "(1, 294, 3)\n",
      "(1, 294, 3)\n",
      "(1, 294, 3)\n",
      "(1, 294, 3)\n",
      "(1, 294, 3)\n",
      "(1, 294, 3)\n",
      "(1, 294, 3)\n",
      "(1, 294, 3)\n"
     ]
    }
   ],
   "source": [
    "for coors in iterator:\n",
    "    print(coors.shape)"
   ]
  },
  {
   "cell_type": "code",
   "execution_count": null,
   "id": "bcb73141-f409-47b6-8274-1bf34bdaa0c4",
   "metadata": {},
   "outputs": [],
   "source": []
  }
 ],
 "metadata": {
  "kernelspec": {
   "display_name": "Python 3 (ipykernel)",
   "language": "python",
   "name": "python3"
  },
  "language_info": {
   "codemirror_mode": {
    "name": "ipython",
    "version": 3
   },
   "file_extension": ".py",
   "mimetype": "text/x-python",
   "name": "python",
   "nbconvert_exporter": "python",
   "pygments_lexer": "ipython3",
   "version": "3.9.15"
  }
 },
 "nbformat": 4,
 "nbformat_minor": 5
}
