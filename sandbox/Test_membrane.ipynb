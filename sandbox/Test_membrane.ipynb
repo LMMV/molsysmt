{
 "cells": [
  {
   "cell_type": "markdown",
   "id": "2c8c5f0e-d6b7-4790-9423-be6e62f66d96",
   "metadata": {},
   "source": [
    "# Test lipid"
   ]
  },
  {
   "cell_type": "code",
   "execution_count": 1,
   "id": "a0bcd34b-8c83-441c-ba6a-3e4a22b8016b",
   "metadata": {
    "tags": []
   },
   "outputs": [
    {
     "data": {
      "application/vnd.jupyter.widget-view+json": {
       "model_id": "97276d77cb434c7a8ea01263b82ae707",
       "version_major": 2,
       "version_minor": 0
      },
      "text/plain": []
     },
     "metadata": {},
     "output_type": "display_data"
    }
   ],
   "source": [
    "import molsysmt as msm"
   ]
  },
  {
   "cell_type": "code",
   "execution_count": 2,
   "id": "65e22336-61e1-4792-b0cd-79c7a9de4021",
   "metadata": {},
   "outputs": [],
   "source": [
    "psf = msm.demo['membrane']['membrane.psf']"
   ]
  },
  {
   "cell_type": "code",
   "execution_count": 3,
   "id": "982802c6-5e5e-463a-a6d8-f98773d6ec0e",
   "metadata": {},
   "outputs": [
    {
     "ename": "NotSupportedFormError",
     "evalue": "The form <class 'str'> used in <module> is not supported by MolSysMT.",
     "output_type": "error",
     "traceback": [
      "\u001b[0;31m---------------------------------------------------------------------------\u001b[0m",
      "\u001b[0;31mNotSupportedFormError\u001b[0m                     Traceback (most recent call last)",
      "Cell \u001b[0;32mIn[3], line 1\u001b[0m\n\u001b[0;32m----> 1\u001b[0m \u001b[43mmsm\u001b[49m\u001b[38;5;241;43m.\u001b[39;49m\u001b[43mget_form\u001b[49m\u001b[43m(\u001b[49m\u001b[43mpsf\u001b[49m\u001b[43m)\u001b[49m\n",
      "File \u001b[0;32m~/projects@dprada/MolSysMT/molsysmt/basic/get_form.py:23\u001b[0m, in \u001b[0;36mget_form\u001b[0;34m(molecular_system)\u001b[0m\n\u001b[1;32m     20\u001b[0m         \u001b[38;5;28;01mbreak\u001b[39;00m\n\u001b[1;32m     22\u001b[0m \u001b[38;5;28;01mif\u001b[39;00m output \u001b[38;5;129;01mis\u001b[39;00m \u001b[38;5;28;01mNone\u001b[39;00m:\n\u001b[0;32m---> 23\u001b[0m     \u001b[38;5;28;01mraise\u001b[39;00m NotSupportedFormError(\u001b[38;5;28mtype\u001b[39m(molecular_system))\n\u001b[1;32m     25\u001b[0m \u001b[38;5;28;01mreturn\u001b[39;00m output\n",
      "\u001b[0;31mNotSupportedFormError\u001b[0m: The form <class 'str'> used in <module> is not supported by MolSysMT."
     ]
    }
   ],
   "source": [
    "msm.get_form(psf)"
   ]
  },
  {
   "cell_type": "code",
   "execution_count": 5,
   "id": "739b5643-7dc2-47c1-9549-b15628d9e9de",
   "metadata": {},
   "outputs": [],
   "source": [
    "import openmm as mm"
   ]
  },
  {
   "cell_type": "code",
   "execution_count": 6,
   "id": "dc0a15e3-3be3-417c-ab24-eba397904512",
   "metadata": {},
   "outputs": [],
   "source": [
    "from openmm import app"
   ]
  },
  {
   "cell_type": "code",
   "execution_count": null,
   "id": "f1c78758-bb9f-45d4-9f05-ceb824215db9",
   "metadata": {},
   "outputs": [],
   "source": [
    "app.CharmmPsfFile"
   ]
  },
  {
   "cell_type": "code",
   "execution_count": null,
   "id": "6928309d-bd38-4e0b-beb9-e42257614949",
   "metadata": {},
   "outputs": [],
   "source": [
    "molsys = msm.convert('./popc_1.crd', to_form='molsysmt.MolSys')"
   ]
  },
  {
   "cell_type": "code",
   "execution_count": null,
   "id": "d748eb97-92f8-4542-befc-f323dc5ad85c",
   "metadata": {},
   "outputs": [],
   "source": []
  }
 ],
 "metadata": {
  "kernelspec": {
   "display_name": "Python 3 (ipykernel)",
   "language": "python",
   "name": "python3"
  },
  "language_info": {
   "codemirror_mode": {
    "name": "ipython",
    "version": 3
   },
   "file_extension": ".py",
   "mimetype": "text/x-python",
   "name": "python",
   "nbconvert_exporter": "python",
   "pygments_lexer": "ipython3",
   "version": "3.9.15"
  }
 },
 "nbformat": 4,
 "nbformat_minor": 5
}
