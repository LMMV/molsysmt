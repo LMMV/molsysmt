{
 "cells": [
  {
   "cell_type": "markdown",
   "id": "2c8c5f0e-d6b7-4790-9423-be6e62f66d96",
   "metadata": {},
   "source": [
    "# Test lipid"
   ]
  },
  {
   "cell_type": "code",
   "execution_count": 1,
   "id": "a0bcd34b-8c83-441c-ba6a-3e4a22b8016b",
   "metadata": {
    "tags": []
   },
   "outputs": [
    {
     "data": {
      "application/vnd.jupyter.widget-view+json": {
       "model_id": "54ad983cd90545188188281dcc6d0e61",
       "version_major": 2,
       "version_minor": 0
      },
      "text/plain": []
     },
     "metadata": {},
     "output_type": "display_data"
    }
   ],
   "source": [
    "import molsysmt as msm"
   ]
  },
  {
   "cell_type": "code",
   "execution_count": 2,
   "id": "5477e7a8-1a75-4ef2-b44d-47d122fc1358",
   "metadata": {
    "tags": []
   },
   "outputs": [],
   "source": [
    "psf = msm.demo['membrane']['membrane.psf']\n",
    "dcd = msm.demo['membrane']['membrane.dcd']"
   ]
  },
  {
   "cell_type": "code",
   "execution_count": null,
   "id": "a376a730-8f20-4384-8d11-3427005d4a93",
   "metadata": {
    "tags": []
   },
   "outputs": [],
   "source": [
    "molsys = msm.convert([psf, dcd], to_form='molsysmt.MolSys')"
   ]
  },
  {
   "cell_type": "code",
   "execution_count": null,
   "id": "4c801c97-08be-4049-b51b-facd2cda3132",
   "metadata": {
    "tags": []
   },
   "outputs": [],
   "source": [
    "msm.info(molsys)"
   ]
  },
  {
   "cell_type": "code",
   "execution_count": null,
   "id": "ff399b3f-ae0c-4e3c-af42-a5630a2b7f62",
   "metadata": {},
   "outputs": [],
   "source": []
  }
 ],
 "metadata": {
  "kernelspec": {
   "display_name": "Python 3 (ipykernel)",
   "language": "python",
   "name": "python3"
  },
  "language_info": {
   "codemirror_mode": {
    "name": "ipython",
    "version": 3
   },
   "file_extension": ".py",
   "mimetype": "text/x-python",
   "name": "python",
   "nbconvert_exporter": "python",
   "pygments_lexer": "ipython3",
   "version": "3.9.16"
  }
 },
 "nbformat": 4,
 "nbformat_minor": 5
}
