{
 "cells": [
  {
   "cell_type": "code",
   "execution_count": 1,
   "id": "c7c15634-8b62-4c09-abce-c3fe52a9f423",
   "metadata": {},
   "outputs": [],
   "source": [
    "%load_ext autoreload\n",
    "%autoreload 2"
   ]
  },
  {
   "cell_type": "code",
   "execution_count": 2,
   "id": "1837b3fc-3eab-40a2-a724-f26b2ec36bca",
   "metadata": {},
   "outputs": [
    {
     "data": {
      "application/vnd.jupyter.widget-view+json": {
       "model_id": "c577891d019d478086e5a654645229b8",
       "version_major": 2,
       "version_minor": 0
      },
      "text/plain": []
     },
     "metadata": {},
     "output_type": "display_data"
    }
   ],
   "source": [
    "import molsysmt as msm"
   ]
  },
  {
   "cell_type": "markdown",
   "id": "8469d016-02ce-4689-ab70-eaa43b38f037",
   "metadata": {},
   "source": [
    "# How to extract, fit, center and wrap to MIC a trajectory"
   ]
  },
  {
   "cell_type": "code",
   "execution_count": 3,
   "id": "dc51b2b2-a06d-4f36-b9ee-8d3e465e287f",
   "metadata": {},
   "outputs": [],
   "source": [
    "trajectory = msm.demo['pentarginine']['traj.h5']"
   ]
  },
  {
   "cell_type": "code",
   "execution_count": 4,
   "id": "ed7a79f2-6641-4013-847a-d4a98f3d89c4",
   "metadata": {},
   "outputs": [
    {
     "data": {
      "text/html": [
       "<style type=\"text/css\">\n",
       "</style>\n",
       "<table id=\"T_c42d0\">\n",
       "  <thead>\n",
       "    <tr>\n",
       "      <th id=\"T_c42d0_level0_col0\" class=\"col_heading level0 col0\" >form</th>\n",
       "      <th id=\"T_c42d0_level0_col1\" class=\"col_heading level0 col1\" >n_atoms</th>\n",
       "      <th id=\"T_c42d0_level0_col2\" class=\"col_heading level0 col2\" >n_groups</th>\n",
       "      <th id=\"T_c42d0_level0_col3\" class=\"col_heading level0 col3\" >n_components</th>\n",
       "      <th id=\"T_c42d0_level0_col4\" class=\"col_heading level0 col4\" >n_chains</th>\n",
       "      <th id=\"T_c42d0_level0_col5\" class=\"col_heading level0 col5\" >n_molecules</th>\n",
       "      <th id=\"T_c42d0_level0_col6\" class=\"col_heading level0 col6\" >n_entities</th>\n",
       "      <th id=\"T_c42d0_level0_col7\" class=\"col_heading level0 col7\" >n_waters</th>\n",
       "      <th id=\"T_c42d0_level0_col8\" class=\"col_heading level0 col8\" >n_ions</th>\n",
       "      <th id=\"T_c42d0_level0_col9\" class=\"col_heading level0 col9\" >n_peptides</th>\n",
       "      <th id=\"T_c42d0_level0_col10\" class=\"col_heading level0 col10\" >n_structures</th>\n",
       "    </tr>\n",
       "  </thead>\n",
       "  <tbody>\n",
       "    <tr>\n",
       "      <td id=\"T_c42d0_row0_col0\" class=\"data row0 col0\" >file:h5</td>\n",
       "      <td id=\"T_c42d0_row0_col1\" class=\"data row0 col1\" >4822</td>\n",
       "      <td id=\"T_c42d0_row0_col2\" class=\"data row0 col2\" >1561</td>\n",
       "      <td id=\"T_c42d0_row0_col3\" class=\"data row0 col3\" >1553</td>\n",
       "      <td id=\"T_c42d0_row0_col4\" class=\"data row0 col4\" >3</td>\n",
       "      <td id=\"T_c42d0_row0_col5\" class=\"data row0 col5\" >1553</td>\n",
       "      <td id=\"T_c42d0_row0_col6\" class=\"data row0 col6\" >None</td>\n",
       "      <td id=\"T_c42d0_row0_col7\" class=\"data row0 col7\" >1545</td>\n",
       "      <td id=\"T_c42d0_row0_col8\" class=\"data row0 col8\" >7</td>\n",
       "      <td id=\"T_c42d0_row0_col9\" class=\"data row0 col9\" >1</td>\n",
       "      <td id=\"T_c42d0_row0_col10\" class=\"data row0 col10\" >100</td>\n",
       "    </tr>\n",
       "  </tbody>\n",
       "</table>\n"
      ],
      "text/plain": [
       "<pandas.io.formats.style.Styler at 0x7ff8f4b86ca0>"
      ]
     },
     "execution_count": 4,
     "metadata": {},
     "output_type": "execute_result"
    }
   ],
   "source": [
    "msm.info(trajectory)"
   ]
  },
  {
   "cell_type": "code",
   "execution_count": 5,
   "id": "b7c1913e-9a2f-4981-b22e-1da85542714b",
   "metadata": {},
   "outputs": [
    {
     "data": {
      "application/vnd.jupyter.widget-view+json": {
       "model_id": "eaedf6aa06b14ec7bbd9bf1b987a3432",
       "version_major": 2,
       "version_minor": 0
      },
      "text/plain": [
       "NGLWidget(max_frame=99)"
      ]
     },
     "metadata": {},
     "output_type": "display_data"
    }
   ],
   "source": [
    "msm.view(trajectory, standard=True, with_water_as='licorice')"
   ]
  },
  {
   "cell_type": "markdown",
   "id": "db3ec768-8709-416c-b3a7-65266d6e9f10",
   "metadata": {},
   "source": [
    "## Extract"
   ]
  },
  {
   "cell_type": "code",
   "execution_count": null,
   "id": "b1a3ef72-bc18-4b21-b4d9-cc14b253ce60",
   "metadata": {},
   "outputs": [],
   "source": [
    "molecular_system = '/home/diego/projects@dprada/CPP_permeability/peptide_preparation/traj.h5'"
   ]
  },
  {
   "cell_type": "code",
   "execution_count": null,
   "id": "89021b4e-8cf1-483f-8f48-37c29ce48e8a",
   "metadata": {},
   "outputs": [],
   "source": [
    "msm.convert(molecular_system, to_form='last_100_frames.h5', structure_indices=list(range(79899, 79999)))"
   ]
  },
  {
   "cell_type": "code",
   "execution_count": null,
   "id": "7f30c610-1858-4670-bfe9-864af3394669",
   "metadata": {},
   "outputs": [],
   "source": [
    "#msm.convert(molecular_system, to_form='traj_ions_peptide.h5', selection='molecule_type!=\"water\"', progress_bar=True)"
   ]
  },
  {
   "cell_type": "markdown",
   "id": "0012728b-585b-4278-9cf0-63011d521274",
   "metadata": {},
   "source": [
    "## Fit, center, and wrap to MIC"
   ]
  },
  {
   "cell_type": "markdown",
   "id": "54f364c3-0403-4b47-a0ef-a0ff6264a34f",
   "metadata": {},
   "source": [
    "### Using the molsysmt.basic.convert method"
   ]
  },
  {
   "cell_type": "code",
   "execution_count": null,
   "id": "5dcc520b-75eb-45fc-9154-e5832563f7fa",
   "metadata": {},
   "outputs": [],
   "source": [
    "molecular_system = msm.convert('last_100_frames.h5', fit='atom_name in [\"CA\", \"C\", \"N\"]',\n",
    "                   center='atom_name in [\"CA\", \"C\", \"N\"]', wrap_to_mic=True)"
   ]
  },
  {
   "cell_type": "code",
   "execution_count": null,
   "id": "f20c829a-9405-445a-8123-fd1bd33ba2b1",
   "metadata": {},
   "outputs": [],
   "source": [
    "msm.view(molecular_system, standard=True, water_as_surface=True)"
   ]
  },
  {
   "cell_type": "code",
   "execution_count": null,
   "id": "0b35e3a3-3102-4ca2-9dfd-b7ee9a4eb521",
   "metadata": {},
   "outputs": [],
   "source": [
    "msm.convert('last_100_frames.h5', to_form='fit_center_wrapped.h5', selection='molecule_type!=\"water\"',\n",
    "            fit='atom_name in [\"CA\", \"C\", \"N\"]', center='atom_name in [\"CA\", \"C\", \"N\"]',\n",
    "            wrap_to_mic=True)"
   ]
  },
  {
   "cell_type": "markdown",
   "id": "84cf0b0f-6ce0-4a35-b60c-c287f6b9bc31",
   "metadata": {},
   "source": [
    "### Working with the native molsysmt.MolSys form"
   ]
  },
  {
   "cell_type": "code",
   "execution_count": null,
   "id": "93d50fc3-5df1-41d4-a964-4303ee1eaa40",
   "metadata": {},
   "outputs": [],
   "source": [
    "molecular_system = msm.convert('last_100_frames.h5')"
   ]
  },
  {
   "cell_type": "code",
   "execution_count": null,
   "id": "ab69aa3c-83a1-4cd7-ba45-0bf908af81bf",
   "metadata": {},
   "outputs": [],
   "source": [
    "molecular_system = msm.structure.fit(molecular_system, selection='atom_name in [\"CA\", \"C\", \"N\"]')\n",
    "molecular_system = msm.structure.center(molecular_system, center_of_selection='atom_name in [\"CA\", \"C\", \"N\"]')\n",
    "molecular_system = msm.pbc.wrap_to_mic(molecular_system)"
   ]
  },
  {
   "cell_type": "code",
   "execution_count": null,
   "id": "d92135bd-fdc0-4e7f-9ac6-f8f1cdd7d21b",
   "metadata": {},
   "outputs": [],
   "source": [
    "msm.info(molecular_system)"
   ]
  },
  {
   "cell_type": "code",
   "execution_count": null,
   "id": "2e49bb36-71c1-4ab2-a309-56b44ad65b0c",
   "metadata": {},
   "outputs": [],
   "source": [
    "msm.view(molecular_system, standard=True, water_as_surface=True)"
   ]
  },
  {
   "cell_type": "markdown",
   "id": "3ea7cffc-661d-4a0a-99e3-bf5bdf53fc21",
   "metadata": {},
   "source": [
    "### Working with an iterator"
   ]
  },
  {
   "cell_type": "code",
   "execution_count": null,
   "id": "8a755171-70a7-4f05-b191-77b1483801b2",
   "metadata": {},
   "outputs": [],
   "source": [
    "iterator = msm.Iterator('last_100_frames.h5')"
   ]
  },
  {
   "cell_type": "code",
   "execution_count": null,
   "id": "a37a9d10-96cb-4f6d-af22-ec2e94dfbd6e",
   "metadata": {},
   "outputs": [],
   "source": [
    "final_molecular_system = None"
   ]
  },
  {
   "cell_type": "code",
   "execution_count": null,
   "id": "c7b0a47d-bb8b-4b43-8f54-1d2da4265e7f",
   "metadata": {},
   "outputs": [],
   "source": [
    "for molecular_system in iterator:\n",
    "    molecular_system = msm.structure.fit(aux_molecular_system, selection='atom_name in [\"CA\", \"C\", \"N\"]')\n",
    "    molecular_system = msm.structure.center(molecular_system, center_of_selection='atom_name in [\"CA\", \"C\", \"N\"]')\n",
    "    molecular_system = msm.pbc.wrap_to_mic(molecular_system)\n",
    "    final_molecular_system = msm.append_structures(final_molecular_system, molecular_system)"
   ]
  },
  {
   "cell_type": "code",
   "execution_count": null,
   "id": "1dd53323-01d0-40bf-b398-b610d5b3c37e",
   "metadata": {},
   "outputs": [],
   "source": [
    "msm.info(final_molecular_system)"
   ]
  },
  {
   "cell_type": "code",
   "execution_count": null,
   "id": "5417c3a0-5592-4643-87e0-10a442d330bc",
   "metadata": {},
   "outputs": [],
   "source": [
    "msm.view(final_molecular_system, standard=True, water_as_surface=True)"
   ]
  },
  {
   "cell_type": "markdown",
   "id": "3323c0cc-f8b4-4bd6-8e40-0e032be59ba0",
   "metadata": {},
   "source": [
    "There is no need to work with an iterator and a molsysmt.MolSys object. You can explore other possilibities like iterating only the coordinates and boxes:"
   ]
  },
  {
   "cell_type": "code",
   "execution_count": null,
   "id": "c5bc8069-b48f-416e-a187-3c8fea2aeebf",
   "metadata": {},
   "outputs": [],
   "source": [
    "topology = msm.convert('last_100_frames.h5', 'molsysmt.Topology')\n",
    "\n",
    "all_coordinates = []\n",
    "all_boxes = []\n",
    "\n",
    "iterator = msm.Iterator('last_100_frames.h5', coordinates=True, box=True)\n",
    "\n",
    "for coordinates, box in iterator:\n",
    "    molecular_system = [topology, coordinates, box]\n",
    "    molecular_system = msm.structure.fit(molecular_system, selection='atom_name in [\"CA\", \"C\", \"N\"]')\n",
    "    molecular_system = msm.structure.center(molecular_system, center_of_selection='atom_name in [\"CA\", \"C\", \"N\"]')\n",
    "    molecular_system = msm.pbc.wrap_to_mic(molecular_system)\n",
    "    new_coordinates = msm.get(molecular_system, coordinates=True) # new_coordinates = molecular_system[1]\n",
    "    all_coordinates.append(new_coordinates)\n",
    "    all_box.append(box)"
   ]
  },
  {
   "cell_type": "code",
   "execution_count": null,
   "id": "8fa505b1-0d1f-4985-b59b-163418e048ff",
   "metadata": {},
   "outputs": [],
   "source": [
    "msm.info(molecular_system)"
   ]
  },
  {
   "cell_type": "code",
   "execution_count": null,
   "id": "76ef1841-6af3-489a-85a3-2f5fe2f1f947",
   "metadata": {},
   "outputs": [],
   "source": [
    "msm.view(molecular_system, standard=True, water_as_surface=True)"
   ]
  },
  {
   "cell_type": "markdown",
   "id": "030c2123-3e6d-4622-8396-f0f0c6ec4628",
   "metadata": {},
   "source": [
    "Or:"
   ]
  },
  {
   "cell_type": "code",
   "execution_count": null,
   "id": "7c400c22-3189-42db-af41-21d64d427d23",
   "metadata": {},
   "outputs": [],
   "source": [
    "atoms_to_fit_and_center = msm.select('last_100_frames.h5', selection='atom_name in [\"CA\", \"C\", \"N\"]')\n",
    "\n",
    "all_coordinates = []\n",
    "all_boxes = []\n",
    "\n",
    "iterator = msm.Iterator('last_100_frames.h5', coordinates=True, box=True)\n",
    "\n",
    "for coordinates, box in iterator:\n",
    "    coordinates = msm.structure.fit(coordinates, selection=atoms_to_fit_and_center)\n",
    "    coordinates = msm.structure.center(coordinates, center_of_selection=atoms_to_fit_and_center)\n",
    "    coordinates, _ = msm.pbc.wrap_to_mic([coordinates, box])\n",
    "    all_coordinates.append(coordinates)\n",
    "    all_boxes.append(box)"
   ]
  },
  {
   "cell_type": "code",
   "execution_count": null,
   "id": "527182ef-8c85-4150-bf50-4089767ba1f0",
   "metadata": {},
   "outputs": [],
   "source": [
    "msm.view(['last_100_frames.h5', coordinates, boxes], standard=True, water_as_surface=True)"
   ]
  }
 ],
 "metadata": {
  "kernelspec": {
   "display_name": "Python 3 (ipykernel)",
   "language": "python",
   "name": "python3"
  },
  "language_info": {
   "codemirror_mode": {
    "name": "ipython",
    "version": 3
   },
   "file_extension": ".py",
   "mimetype": "text/x-python",
   "name": "python",
   "nbconvert_exporter": "python",
   "pygments_lexer": "ipython3",
   "version": "3.9.15"
  }
 },
 "nbformat": 4,
 "nbformat_minor": 5
}
