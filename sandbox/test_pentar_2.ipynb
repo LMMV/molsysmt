{
 "cells": [
  {
   "cell_type": "code",
   "execution_count": 1,
   "id": "c7c15634-8b62-4c09-abce-c3fe52a9f423",
   "metadata": {},
   "outputs": [],
   "source": [
    "%load_ext autoreload\n",
    "%autoreload 2"
   ]
  },
  {
   "cell_type": "code",
   "execution_count": 2,
   "id": "1837b3fc-3eab-40a2-a724-f26b2ec36bca",
   "metadata": {},
   "outputs": [
    {
     "data": {
      "application/vnd.jupyter.widget-view+json": {
       "model_id": "e7389da622c2427d819a0bff42f60b0c",
       "version_major": 2,
       "version_minor": 0
      },
      "text/plain": []
     },
     "metadata": {},
     "output_type": "display_data"
    }
   ],
   "source": [
    "import molsysmt as msm"
   ]
  },
  {
   "cell_type": "code",
   "execution_count": 3,
   "id": "d36d89cc-19d2-46ae-8311-c4238ab09378",
   "metadata": {},
   "outputs": [
    {
     "data": {
      "text/plain": [
       "'traj_ions.h5'"
      ]
     },
     "execution_count": 3,
     "metadata": {},
     "output_type": "execute_result"
    }
   ],
   "source": [
    "msm.convert('traj.h5', to_form='traj_ions.h5', selection='molecule_type==\"ion\"')"
   ]
  },
  {
   "cell_type": "code",
   "execution_count": 4,
   "id": "94e3f253-7871-4996-a7ab-c4f0564babf3",
   "metadata": {},
   "outputs": [
    {
     "data": {
      "text/html": [
       "<style type=\"text/css\">\n",
       "</style>\n",
       "<table id=\"T_a8513\">\n",
       "  <thead>\n",
       "    <tr>\n",
       "      <th id=\"T_a8513_level0_col0\" class=\"col_heading level0 col0\" >form</th>\n",
       "      <th id=\"T_a8513_level0_col1\" class=\"col_heading level0 col1\" >n_atoms</th>\n",
       "      <th id=\"T_a8513_level0_col2\" class=\"col_heading level0 col2\" >n_groups</th>\n",
       "      <th id=\"T_a8513_level0_col3\" class=\"col_heading level0 col3\" >n_components</th>\n",
       "      <th id=\"T_a8513_level0_col4\" class=\"col_heading level0 col4\" >n_chains</th>\n",
       "      <th id=\"T_a8513_level0_col5\" class=\"col_heading level0 col5\" >n_molecules</th>\n",
       "      <th id=\"T_a8513_level0_col6\" class=\"col_heading level0 col6\" >n_entities</th>\n",
       "      <th id=\"T_a8513_level0_col7\" class=\"col_heading level0 col7\" >n_waters</th>\n",
       "      <th id=\"T_a8513_level0_col8\" class=\"col_heading level0 col8\" >n_ions</th>\n",
       "      <th id=\"T_a8513_level0_col9\" class=\"col_heading level0 col9\" >n_peptides</th>\n",
       "      <th id=\"T_a8513_level0_col10\" class=\"col_heading level0 col10\" >n_structures</th>\n",
       "    </tr>\n",
       "  </thead>\n",
       "  <tbody>\n",
       "    <tr>\n",
       "      <td id=\"T_a8513_row0_col0\" class=\"data row0 col0\" >file:h5</td>\n",
       "      <td id=\"T_a8513_row0_col1\" class=\"data row0 col1\" >4720</td>\n",
       "      <td id=\"T_a8513_row0_col2\" class=\"data row0 col2\" >1527</td>\n",
       "      <td id=\"T_a8513_row0_col3\" class=\"data row0 col3\" >1519</td>\n",
       "      <td id=\"T_a8513_row0_col4\" class=\"data row0 col4\" >3</td>\n",
       "      <td id=\"T_a8513_row0_col5\" class=\"data row0 col5\" >1519</td>\n",
       "      <td id=\"T_a8513_row0_col6\" class=\"data row0 col6\" >None</td>\n",
       "      <td id=\"T_a8513_row0_col7\" class=\"data row0 col7\" >1511</td>\n",
       "      <td id=\"T_a8513_row0_col8\" class=\"data row0 col8\" >7</td>\n",
       "      <td id=\"T_a8513_row0_col9\" class=\"data row0 col9\" >1</td>\n",
       "      <td id=\"T_a8513_row0_col10\" class=\"data row0 col10\" >20</td>\n",
       "    </tr>\n",
       "  </tbody>\n",
       "</table>\n"
      ],
      "text/plain": [
       "<pandas.io.formats.style.Styler at 0x7f22d9c51070>"
      ]
     },
     "execution_count": 4,
     "metadata": {},
     "output_type": "execute_result"
    }
   ],
   "source": [
    "msm.info('traj.h5')"
   ]
  },
  {
   "cell_type": "code",
   "execution_count": 5,
   "id": "7d068d5d-2855-4a46-a274-0c7949d50f1c",
   "metadata": {},
   "outputs": [
    {
     "data": {
      "text/html": [
       "<style type=\"text/css\">\n",
       "</style>\n",
       "<table id=\"T_24e26\">\n",
       "  <thead>\n",
       "    <tr>\n",
       "      <th id=\"T_24e26_level0_col0\" class=\"col_heading level0 col0\" >form</th>\n",
       "      <th id=\"T_24e26_level0_col1\" class=\"col_heading level0 col1\" >n_atoms</th>\n",
       "      <th id=\"T_24e26_level0_col2\" class=\"col_heading level0 col2\" >n_groups</th>\n",
       "      <th id=\"T_24e26_level0_col3\" class=\"col_heading level0 col3\" >n_components</th>\n",
       "      <th id=\"T_24e26_level0_col4\" class=\"col_heading level0 col4\" >n_chains</th>\n",
       "      <th id=\"T_24e26_level0_col5\" class=\"col_heading level0 col5\" >n_molecules</th>\n",
       "      <th id=\"T_24e26_level0_col6\" class=\"col_heading level0 col6\" >n_entities</th>\n",
       "      <th id=\"T_24e26_level0_col7\" class=\"col_heading level0 col7\" >n_ions</th>\n",
       "      <th id=\"T_24e26_level0_col8\" class=\"col_heading level0 col8\" >n_structures</th>\n",
       "    </tr>\n",
       "  </thead>\n",
       "  <tbody>\n",
       "    <tr>\n",
       "      <td id=\"T_24e26_row0_col0\" class=\"data row0 col0\" >file:h5</td>\n",
       "      <td id=\"T_24e26_row0_col1\" class=\"data row0 col1\" >7</td>\n",
       "      <td id=\"T_24e26_row0_col2\" class=\"data row0 col2\" >7</td>\n",
       "      <td id=\"T_24e26_row0_col3\" class=\"data row0 col3\" >0</td>\n",
       "      <td id=\"T_24e26_row0_col4\" class=\"data row0 col4\" >1</td>\n",
       "      <td id=\"T_24e26_row0_col5\" class=\"data row0 col5\" >0</td>\n",
       "      <td id=\"T_24e26_row0_col6\" class=\"data row0 col6\" >None</td>\n",
       "      <td id=\"T_24e26_row0_col7\" class=\"data row0 col7\" >7</td>\n",
       "      <td id=\"T_24e26_row0_col8\" class=\"data row0 col8\" >20</td>\n",
       "    </tr>\n",
       "  </tbody>\n",
       "</table>\n"
      ],
      "text/plain": [
       "<pandas.io.formats.style.Styler at 0x7f22d9b76970>"
      ]
     },
     "execution_count": 5,
     "metadata": {},
     "output_type": "execute_result"
    }
   ],
   "source": [
    "msm.info('traj_ions.h5')"
   ]
  },
  {
   "cell_type": "code",
   "execution_count": null,
   "id": "d34f25ad-f2ac-457f-aaa6-bf01d0a2c289",
   "metadata": {},
   "outputs": [],
   "source": []
  }
 ],
 "metadata": {
  "kernelspec": {
   "display_name": "Python 3 (ipykernel)",
   "language": "python",
   "name": "python3"
  },
  "language_info": {
   "codemirror_mode": {
    "name": "ipython",
    "version": 3
   },
   "file_extension": ".py",
   "mimetype": "text/x-python",
   "name": "python",
   "nbconvert_exporter": "python",
   "pygments_lexer": "ipython3",
   "version": "3.9.15"
  }
 },
 "nbformat": 4,
 "nbformat_minor": 5
}
