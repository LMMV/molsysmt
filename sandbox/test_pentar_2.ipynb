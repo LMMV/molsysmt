{
 "cells": [
  {
   "cell_type": "code",
   "execution_count": 1,
   "id": "c7c15634-8b62-4c09-abce-c3fe52a9f423",
   "metadata": {},
   "outputs": [],
   "source": [
    "%load_ext autoreload\n",
    "%autoreload 2"
   ]
  },
  {
   "cell_type": "code",
   "execution_count": 2,
   "id": "1837b3fc-3eab-40a2-a724-f26b2ec36bca",
   "metadata": {},
   "outputs": [
    {
     "data": {
      "application/vnd.jupyter.widget-view+json": {
       "model_id": "f8522f929125498b93b246c4e658d821",
       "version_major": 2,
       "version_minor": 0
      },
      "text/plain": []
     },
     "metadata": {},
     "output_type": "display_data"
    }
   ],
   "source": [
    "import molsysmt as msm"
   ]
  },
  {
   "cell_type": "code",
   "execution_count": 3,
   "id": "b1a3ef72-bc18-4b21-b4d9-cc14b253ce60",
   "metadata": {},
   "outputs": [],
   "source": [
    "molecular_system = '/home/diego/projects@dprada/CPP_permeability/peptide_preparation/traj.h5'"
   ]
  },
  {
   "cell_type": "code",
   "execution_count": 4,
   "id": "22b71821-7e79-462b-897e-165a5d58a6aa",
   "metadata": {},
   "outputs": [
    {
     "data": {
      "text/html": [
       "<style type=\"text/css\">\n",
       "</style>\n",
       "<table id=\"T_9f15b\">\n",
       "  <thead>\n",
       "    <tr>\n",
       "      <th id=\"T_9f15b_level0_col0\" class=\"col_heading level0 col0\" >form</th>\n",
       "      <th id=\"T_9f15b_level0_col1\" class=\"col_heading level0 col1\" >n_atoms</th>\n",
       "      <th id=\"T_9f15b_level0_col2\" class=\"col_heading level0 col2\" >n_groups</th>\n",
       "      <th id=\"T_9f15b_level0_col3\" class=\"col_heading level0 col3\" >n_components</th>\n",
       "      <th id=\"T_9f15b_level0_col4\" class=\"col_heading level0 col4\" >n_chains</th>\n",
       "      <th id=\"T_9f15b_level0_col5\" class=\"col_heading level0 col5\" >n_molecules</th>\n",
       "      <th id=\"T_9f15b_level0_col6\" class=\"col_heading level0 col6\" >n_entities</th>\n",
       "      <th id=\"T_9f15b_level0_col7\" class=\"col_heading level0 col7\" >n_waters</th>\n",
       "      <th id=\"T_9f15b_level0_col8\" class=\"col_heading level0 col8\" >n_ions</th>\n",
       "      <th id=\"T_9f15b_level0_col9\" class=\"col_heading level0 col9\" >n_peptides</th>\n",
       "      <th id=\"T_9f15b_level0_col10\" class=\"col_heading level0 col10\" >n_structures</th>\n",
       "    </tr>\n",
       "  </thead>\n",
       "  <tbody>\n",
       "    <tr>\n",
       "      <td id=\"T_9f15b_row0_col0\" class=\"data row0 col0\" >file:h5</td>\n",
       "      <td id=\"T_9f15b_row0_col1\" class=\"data row0 col1\" >4822</td>\n",
       "      <td id=\"T_9f15b_row0_col2\" class=\"data row0 col2\" >1561</td>\n",
       "      <td id=\"T_9f15b_row0_col3\" class=\"data row0 col3\" >1553</td>\n",
       "      <td id=\"T_9f15b_row0_col4\" class=\"data row0 col4\" >3</td>\n",
       "      <td id=\"T_9f15b_row0_col5\" class=\"data row0 col5\" >1553</td>\n",
       "      <td id=\"T_9f15b_row0_col6\" class=\"data row0 col6\" >None</td>\n",
       "      <td id=\"T_9f15b_row0_col7\" class=\"data row0 col7\" >1545</td>\n",
       "      <td id=\"T_9f15b_row0_col8\" class=\"data row0 col8\" >7</td>\n",
       "      <td id=\"T_9f15b_row0_col9\" class=\"data row0 col9\" >1</td>\n",
       "      <td id=\"T_9f15b_row0_col10\" class=\"data row0 col10\" >80000</td>\n",
       "    </tr>\n",
       "  </tbody>\n",
       "</table>\n"
      ],
      "text/plain": [
       "<pandas.io.formats.style.Styler at 0x7fd17848aeb0>"
      ]
     },
     "execution_count": 4,
     "metadata": {},
     "output_type": "execute_result"
    }
   ],
   "source": [
    "msm.info(molecular_system)"
   ]
  },
  {
   "cell_type": "code",
   "execution_count": 6,
   "id": "a2b2c119-c403-49a1-aa2e-00e0148a067e",
   "metadata": {},
   "outputs": [
    {
     "data": {
      "application/vnd.jupyter.widget-view+json": {
       "model_id": "9b4ce08d89a64b19bf2100fbf11f3c16",
       "version_major": 2,
       "version_minor": 0
      },
      "text/plain": [
       "NGLWidget(max_frame=4)"
      ]
     },
     "metadata": {},
     "output_type": "display_data"
    }
   ],
   "source": [
    "msm.view(molecular_system, structure_indices=[79900, 79925, 79950, 79975, 79999], standardize=True)"
   ]
  },
  {
   "cell_type": "code",
   "execution_count": 7,
   "id": "d36d89cc-19d2-46ae-8311-c4238ab09378",
   "metadata": {},
   "outputs": [
    {
     "data": {
      "text/plain": [
       "'traj_ions_peptide.h5'"
      ]
     },
     "execution_count": 7,
     "metadata": {},
     "output_type": "execute_result"
    }
   ],
   "source": [
    "msm.convert(molecular_system, to_form='traj_ions_peptide.h5', selection='molecule_type==[\"ion\", \"peptide\"]')"
   ]
  },
  {
   "cell_type": "code",
   "execution_count": 8,
   "id": "94e3f253-7871-4996-a7ab-c4f0564babf3",
   "metadata": {},
   "outputs": [
    {
     "data": {
      "text/html": [
       "<style type=\"text/css\">\n",
       "</style>\n",
       "<table id=\"T_b77ec\">\n",
       "  <thead>\n",
       "    <tr>\n",
       "      <th id=\"T_b77ec_level0_col0\" class=\"col_heading level0 col0\" >form</th>\n",
       "      <th id=\"T_b77ec_level0_col1\" class=\"col_heading level0 col1\" >n_atoms</th>\n",
       "      <th id=\"T_b77ec_level0_col2\" class=\"col_heading level0 col2\" >n_groups</th>\n",
       "      <th id=\"T_b77ec_level0_col3\" class=\"col_heading level0 col3\" >n_components</th>\n",
       "      <th id=\"T_b77ec_level0_col4\" class=\"col_heading level0 col4\" >n_chains</th>\n",
       "      <th id=\"T_b77ec_level0_col5\" class=\"col_heading level0 col5\" >n_molecules</th>\n",
       "      <th id=\"T_b77ec_level0_col6\" class=\"col_heading level0 col6\" >n_entities</th>\n",
       "      <th id=\"T_b77ec_level0_col7\" class=\"col_heading level0 col7\" >n_ions</th>\n",
       "      <th id=\"T_b77ec_level0_col8\" class=\"col_heading level0 col8\" >n_peptides</th>\n",
       "      <th id=\"T_b77ec_level0_col9\" class=\"col_heading level0 col9\" >n_structures</th>\n",
       "    </tr>\n",
       "  </thead>\n",
       "  <tbody>\n",
       "    <tr>\n",
       "      <td id=\"T_b77ec_row0_col0\" class=\"data row0 col0\" >file:h5</td>\n",
       "      <td id=\"T_b77ec_row0_col1\" class=\"data row0 col1\" >187</td>\n",
       "      <td id=\"T_b77ec_row0_col2\" class=\"data row0 col2\" >16</td>\n",
       "      <td id=\"T_b77ec_row0_col3\" class=\"data row0 col3\" >8</td>\n",
       "      <td id=\"T_b77ec_row0_col4\" class=\"data row0 col4\" >2</td>\n",
       "      <td id=\"T_b77ec_row0_col5\" class=\"data row0 col5\" >8</td>\n",
       "      <td id=\"T_b77ec_row0_col6\" class=\"data row0 col6\" >None</td>\n",
       "      <td id=\"T_b77ec_row0_col7\" class=\"data row0 col7\" >7</td>\n",
       "      <td id=\"T_b77ec_row0_col8\" class=\"data row0 col8\" >1</td>\n",
       "      <td id=\"T_b77ec_row0_col9\" class=\"data row0 col9\" >80000</td>\n",
       "    </tr>\n",
       "  </tbody>\n",
       "</table>\n"
      ],
      "text/plain": [
       "<pandas.io.formats.style.Styler at 0x7fd1775ac2b0>"
      ]
     },
     "execution_count": 8,
     "metadata": {},
     "output_type": "execute_result"
    }
   ],
   "source": [
    "msm.info('traj_ions_peptide.h5')"
   ]
  },
  {
   "cell_type": "code",
   "execution_count": null,
   "id": "7d068d5d-2855-4a46-a274-0c7949d50f1c",
   "metadata": {},
   "outputs": [],
   "source": [
    "msm.info('traj_ions.h5')"
   ]
  },
  {
   "cell_type": "code",
   "execution_count": null,
   "id": "d34f25ad-f2ac-457f-aaa6-bf01d0a2c289",
   "metadata": {},
   "outputs": [],
   "source": []
  }
 ],
 "metadata": {
  "kernelspec": {
   "display_name": "Python 3 (ipykernel)",
   "language": "python",
   "name": "python3"
  },
  "language_info": {
   "codemirror_mode": {
    "name": "ipython",
    "version": 3
   },
   "file_extension": ".py",
   "mimetype": "text/x-python",
   "name": "python",
   "nbconvert_exporter": "python",
   "pygments_lexer": "ipython3",
   "version": "3.9.15"
  }
 },
 "nbformat": 4,
 "nbformat_minor": 5
}
