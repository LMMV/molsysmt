{
 "cells": [
  {
   "cell_type": "code",
   "execution_count": 1,
   "id": "281a3491-dbdf-45ad-aa39-0aedcdfabb0f",
   "metadata": {},
   "outputs": [],
   "source": [
    "%load_ext autoreload\n",
    "%autoreload 2"
   ]
  },
  {
   "cell_type": "code",
   "execution_count": 2,
   "id": "4fc6e5df-34a9-413c-8365-b77ab87afe04",
   "metadata": {},
   "outputs": [
    {
     "name": "stderr",
     "output_type": "stream",
     "text": [
      "/home/diego/projects@dprada/MolSysMT/molsysmt/lib/structure/get_least_rmsd.py:124: NumbaPerformanceWarning: \u001b[1m\u001b[1mnp.dot() is faster on contiguous arrays, called on (Array(float64, 1, 'A', False, aligned=True), Array(float64, 1, 'A', False, aligned=True))\u001b[0m\u001b[0m\n",
      "  print(np.dot(x[:,jj],x[:,jj]))\n"
     ]
    },
    {
     "data": {
      "application/vnd.jupyter.widget-view+json": {
       "model_id": "1bb7fa206fe04d5e931cf3aec77748fd",
       "version_major": 2,
       "version_minor": 0
      },
      "text/plain": []
     },
     "metadata": {},
     "output_type": "display_data"
    }
   ],
   "source": [
    "import molsysmt as msm"
   ]
  },
  {
   "cell_type": "code",
   "execution_count": 3,
   "id": "fab299e9-6b96-4f81-903a-d89f90f4a809",
   "metadata": {},
   "outputs": [],
   "source": [
    "import numpy as np\n",
    "import pyunitwizard as puw"
   ]
  },
  {
   "cell_type": "code",
   "execution_count": 4,
   "id": "7a8394ea-f747-444b-9f27-03ac64efeb8e",
   "metadata": {},
   "outputs": [],
   "source": [
    "molsys = msm.convert(msm.demo['pentalanine']['traj.h5'], to_form='molsysmt.MolSys')"
   ]
  },
  {
   "cell_type": "code",
   "execution_count": 5,
   "id": "36e31c39-9fd8-4a0f-9d97-487746f47a8d",
   "metadata": {},
   "outputs": [
    {
     "name": "stdout",
     "output_type": "stream",
     "text": [
      "[0.85137552 0.90254235 0.81313527 0.83751452 0.7175383  0.61188841\n",
      " 0.71354151 0.58682173 0.531708   0.43181896 0.61872309 0.60551941\n",
      " 0.7160573  0.82806903 0.68576849 0.78451401 0.89130831 0.84802151\n",
      " 1.02344716 1.11930859 1.14137459 1.23248768 1.0479331  1.04629266]\n",
      "0.8161128958066305\n",
      "[ 0.03526262  0.08642946 -0.00297763  0.02140162 -0.0985746  -0.20422449\n",
      " -0.10257139 -0.22929116 -0.28440489 -0.38429393 -0.1973898  -0.21059348\n",
      " -0.1000556   0.01195614 -0.13034441 -0.03159889  0.07519541  0.03190861\n",
      "  0.20733426  0.3031957   0.32526169  0.41637478  0.23182021  0.23017977]\n",
      "---\n",
      "0.9911969592730236\n",
      "---\n",
      "[0.42293516 0.36170018 0.55054837 0.65441507 0.73529732 0.711712\n",
      " 0.81294942 0.87189877 0.99466521 0.97998518 1.09405315 1.22421324\n",
      " 1.24733853 1.20428336 1.30286908 1.31743562 1.43024099 1.54714775\n",
      " 1.39984941 1.50970256 1.55845439 1.51622188 1.6531539  1.70181823]\n",
      "1.1167870325346787\n",
      "[-0.69385187 -0.75508686 -0.56623866 -0.46237196 -0.38148971 -0.40507503\n",
      " -0.30383761 -0.24488826 -0.12212183 -0.13680186 -0.02273388  0.10742621\n",
      "  0.1305515   0.08749632  0.18608205  0.20064859  0.31345396  0.43036072\n",
      "  0.28306238  0.39291553  0.44166736  0.39943485  0.53636686  0.5850312 ]\n",
      "---\n",
      "3.695719586993006\n",
      "---\n",
      "[ 0.03777996  0.1319517   0.02057472  0.11746408  0.14402969  0.08255041\n",
      "  0.24924472  0.30889443  0.2232651   0.15637547  0.20816553  0.14993359\n",
      "  0.04257278  0.06034212 -0.07685473 -0.17727304 -0.14477262 -0.12743379\n",
      " -0.14714585 -0.16037953 -0.30644175 -0.36860397 -0.35332438 -0.49608269]\n",
      "-0.01771533559076488\n",
      "[ 0.0554953   0.14966704  0.03829006  0.13517942  0.16174503  0.10026575\n",
      "  0.26696006  0.32660976  0.24098043  0.1740908   0.22588086  0.16764893\n",
      "  0.06028812  0.07805746 -0.05913939 -0.1595577  -0.12705728 -0.10971846\n",
      " -0.12943052 -0.14266419 -0.28872642 -0.35088864 -0.33560905 -0.47836736]\n",
      "---\n",
      "1.0788086572253093\n",
      "---\n"
     ]
    }
   ],
   "source": [
    "rmsd = msm.structure.get_least_rmsd(molsys, selection='backbone', structure_indices=1000,\n",
    "            reference_structure_indices=0)"
   ]
  },
  {
   "cell_type": "code",
   "execution_count": 6,
   "id": "1173a364-b346-43d1-a3cf-9899997dd498",
   "metadata": {},
   "outputs": [
    {
     "data": {
      "text/html": [
       "<table><tbody><tr><th>Magnitude</th><td style='text-align:left;'><pre>[0.08520249484716778]</pre></td></tr><tr><th>Units</th><td style='text-align:left;'>nanometer</td></tr></tbody></table>"
      ],
      "text/latex": [
       "$\\begin{pmatrix}0.08520249484716778\\end{pmatrix}\\ \\mathrm{nanometer}$"
      ],
      "text/plain": [
       "array([0.08520249]) <Unit('nanometer')>"
      ]
     },
     "execution_count": 6,
     "metadata": {},
     "output_type": "execute_result"
    }
   ],
   "source": [
    "rmsd"
   ]
  },
  {
   "cell_type": "code",
   "execution_count": null,
   "id": "e1b8f520-2159-4345-8d29-622c753a2a20",
   "metadata": {},
   "outputs": [],
   "source": [
    "rmsd[1000:1005]"
   ]
  },
  {
   "cell_type": "code",
   "execution_count": null,
   "id": "fae4ed6a-9c95-4873-b0d8-2924b10d26e3",
   "metadata": {},
   "outputs": [],
   "source": [
    "molsys = msm.convert(msm.demo['pentalanine']['traj.h5'], to_form='molsysmt.MolSys')\n",
    "    rmsd = msm.structure.get_least_rmsd(molsys, selection='backbone', structure_indices='all',\n",
    "            reference_structure_index=0)\n",
    "    true_value_1 = np.array([0.270763  , 0.22951274, 0.26526436, 0.24263974, 0.23508047])\n",
    "    check_value_1 = np.allclose(true_value_1, msm.pyunitwizard.get_value(rmsd[1000:1005], to_unit='nm'))\n",
    "    assert check_value_1\n"
   ]
  }
 ],
 "metadata": {
  "kernelspec": {
   "display_name": "Python 3 (ipykernel)",
   "language": "python",
   "name": "python3"
  },
  "language_info": {
   "codemirror_mode": {
    "name": "ipython",
    "version": 3
   },
   "file_extension": ".py",
   "mimetype": "text/x-python",
   "name": "python",
   "nbconvert_exporter": "python",
   "pygments_lexer": "ipython3",
   "version": "3.10.11"
  }
 },
 "nbformat": 4,
 "nbformat_minor": 5
}
