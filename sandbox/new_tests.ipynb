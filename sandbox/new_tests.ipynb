{
 "cells": [
  {
   "cell_type": "code",
   "execution_count": 1,
   "id": "281a3491-dbdf-45ad-aa39-0aedcdfabb0f",
   "metadata": {},
   "outputs": [],
   "source": [
    "%load_ext autoreload\n",
    "%autoreload 2"
   ]
  },
  {
   "cell_type": "code",
   "execution_count": 2,
   "id": "4fc6e5df-34a9-413c-8365-b77ab87afe04",
   "metadata": {},
   "outputs": [
    {
     "data": {
      "application/vnd.jupyter.widget-view+json": {
       "model_id": "c677d3aeb3064456b076209a2f060549",
       "version_major": 2,
       "version_minor": 0
      },
      "text/plain": []
     },
     "metadata": {},
     "output_type": "display_data"
    }
   ],
   "source": [
    "import molsysmt as msm"
   ]
  },
  {
   "cell_type": "code",
   "execution_count": 3,
   "id": "fab299e9-6b96-4f81-903a-d89f90f4a809",
   "metadata": {},
   "outputs": [],
   "source": [
    "import numpy as np\n",
    "import pyunitwizard as puw"
   ]
  },
  {
   "cell_type": "code",
   "execution_count": 4,
   "id": "729ab432-c3b3-4db1-9a36-143bada608ed",
   "metadata": {},
   "outputs": [],
   "source": [
    "molsys = msm.convert(msm.demo['pentalanine']['traj.h5'], to_form='molsysmt.MolSys')"
   ]
  },
  {
   "cell_type": "code",
   "execution_count": 5,
   "id": "402a7e1e-9d28-493d-a821-012e16de55df",
   "metadata": {},
   "outputs": [
    {
     "name": "stderr",
     "output_type": "stream",
     "text": [
      "/home/diego/projects@dprada/MolSysMT/molsysmt/structure/get_geometric_center.py:9: NotDigestedArgumentWarning: The center_of_mass from molsysmt.structure.get_center.get_center argument was not digested.Check  for more information. If you still need help, open a new issue in https://github.com/uibcdf/MolSysMT/issues.\n",
      "  return get_center(molecular_system, selection=selection, groups_of_atoms=groups_of_atoms, weights=None, structure_indices=structure_indices, syntax=syntax,\n"
     ]
    }
   ],
   "source": [
    "center = msm.structure.get_geometric_center(molsys)"
   ]
  },
  {
   "cell_type": "code",
   "execution_count": 7,
   "id": "f9927324-d568-43c8-a7ac-db0286bea0a6",
   "metadata": {},
   "outputs": [
    {
     "data": {
      "text/plain": [
       "(5000, 3)"
      ]
     },
     "execution_count": 7,
     "metadata": {},
     "output_type": "execute_result"
    }
   ],
   "source": [
    "center.shape"
   ]
  },
  {
   "cell_type": "code",
   "execution_count": null,
   "id": "d3c25311-d7ce-497b-9c5b-59718d4607e4",
   "metadata": {},
   "outputs": [],
   "source": []
  }
 ],
 "metadata": {
  "kernelspec": {
   "display_name": "Python 3 (ipykernel)",
   "language": "python",
   "name": "python3"
  },
  "language_info": {
   "codemirror_mode": {
    "name": "ipython",
    "version": 3
   },
   "file_extension": ".py",
   "mimetype": "text/x-python",
   "name": "python",
   "nbconvert_exporter": "python",
   "pygments_lexer": "ipython3",
   "version": "3.10.11"
  }
 },
 "nbformat": 4,
 "nbformat_minor": 5
}
