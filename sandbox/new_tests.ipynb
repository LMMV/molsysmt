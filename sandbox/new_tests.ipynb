{
 "cells": [
  {
   "cell_type": "code",
   "execution_count": 1,
   "id": "281a3491-dbdf-45ad-aa39-0aedcdfabb0f",
   "metadata": {},
   "outputs": [],
   "source": [
    "%load_ext autoreload\n",
    "%autoreload 2"
   ]
  },
  {
   "cell_type": "code",
   "execution_count": 2,
   "id": "4fc6e5df-34a9-413c-8365-b77ab87afe04",
   "metadata": {},
   "outputs": [
    {
     "data": {
      "application/vnd.jupyter.widget-view+json": {
       "model_id": "8caa57e58d534498a4870356a08ddb69",
       "version_major": 2,
       "version_minor": 0
      },
      "text/plain": []
     },
     "metadata": {},
     "output_type": "display_data"
    }
   ],
   "source": [
    "import molsysmt as msm"
   ]
  },
  {
   "cell_type": "code",
   "execution_count": 3,
   "id": "fab299e9-6b96-4f81-903a-d89f90f4a809",
   "metadata": {},
   "outputs": [],
   "source": [
    "import numpy as np\n",
    "import pyunitwizard as puw"
   ]
  },
  {
   "cell_type": "code",
   "execution_count": 4,
   "id": "3f8760cd-3749-49e5-9552-fbc2bf9014eb",
   "metadata": {},
   "outputs": [],
   "source": [
    "molsys = msm.convert(msm.demo['pentalanine']['traj.h5'], to_form='molsysmt.MolSys')"
   ]
  },
  {
   "cell_type": "code",
   "execution_count": 8,
   "id": "81c8d42e-e11a-454f-82b5-94cb0ea91480",
   "metadata": {},
   "outputs": [],
   "source": [
    "distances = msm.structure.get_distances(molsys, selection=\"group_index==0\", group_behavior=\"geometric center\",\n",
    "                         selection_2=\"group_index==6\", group_behavior_2=\"geometric center\", pbc=True)"
   ]
  },
  {
   "cell_type": "code",
   "execution_count": 9,
   "id": "159d0591-b3a4-4b20-a9f7-4de4061632e9",
   "metadata": {},
   "outputs": [
    {
     "data": {
      "text/html": [
       "0.8186242496985177 nanometer"
      ],
      "text/latex": [
       "$0.8186242496985177\\ \\mathrm{nanometer}$"
      ],
      "text/plain": [
       "0.8186242496985177 <Unit('nanometer')>"
      ]
     },
     "execution_count": 9,
     "metadata": {},
     "output_type": "execute_result"
    }
   ],
   "source": [
    "distances[1000,0,0]"
   ]
  },
  {
   "cell_type": "code",
   "execution_count": null,
   "id": "6aff8355-8a0a-4ad1-9d1f-060115f95d35",
   "metadata": {},
   "outputs": [],
   "source": [
    "distances = msm.structure.get_distances(molsys, selection=\"group_index==0\", group_behavior=\"geometric center\",\n",
    "                         selection_2=\"group_index==6\", group_behavior_2=\"geometric center\")\n",
    "    check_shape = ((5000,1,1)==distances.shape)\n",
    "    check_distance = np.isclose(puw.get_value(distances[1000, 0, 0], to_unit='nm'), 2.0584818)\n",
    "    assert check_shape and check_distance\n",
    "\n"
   ]
  },
  {
   "cell_type": "code",
   "execution_count": null,
   "id": "39d6ca11-2d4f-44cf-a982-4b8c9b52e3cb",
   "metadata": {},
   "outputs": [],
   "source": []
  }
 ],
 "metadata": {
  "kernelspec": {
   "display_name": "Python 3 (ipykernel)",
   "language": "python",
   "name": "python3"
  },
  "language_info": {
   "codemirror_mode": {
    "name": "ipython",
    "version": 3
   },
   "file_extension": ".py",
   "mimetype": "text/x-python",
   "name": "python",
   "nbconvert_exporter": "python",
   "pygments_lexer": "ipython3",
   "version": "3.10.11"
  }
 },
 "nbformat": 4,
 "nbformat_minor": 5
}
