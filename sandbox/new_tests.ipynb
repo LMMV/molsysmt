{
 "cells": [
  {
   "cell_type": "code",
   "execution_count": 1,
   "id": "281a3491-dbdf-45ad-aa39-0aedcdfabb0f",
   "metadata": {},
   "outputs": [],
   "source": [
    "%load_ext autoreload\n",
    "%autoreload 2"
   ]
  },
  {
   "cell_type": "code",
   "execution_count": 2,
   "id": "4fc6e5df-34a9-413c-8365-b77ab87afe04",
   "metadata": {},
   "outputs": [
    {
     "data": {
      "application/vnd.jupyter.widget-view+json": {
       "model_id": "497d4d6ea41b4bc6a84c811792656458",
       "version_major": 2,
       "version_minor": 0
      },
      "text/plain": []
     },
     "metadata": {},
     "output_type": "display_data"
    }
   ],
   "source": [
    "import molsysmt as msm"
   ]
  },
  {
   "cell_type": "code",
   "execution_count": null,
   "id": "fab299e9-6b96-4f81-903a-d89f90f4a809",
   "metadata": {},
   "outputs": [],
   "source": [
    "import numpy as np\n",
    "import pyunitwizard as puw"
   ]
  },
  {
   "cell_type": "code",
   "execution_count": null,
   "id": "fe834c42-3476-4e1b-b66c-6ef737c7f9aa",
   "metadata": {},
   "outputs": [],
   "source": [
    "molsys = msm.convert(msm.demo['Met-enkephalin']['vacuum.msmpk'], to_form='molsysmt.MolSys')"
   ]
  },
  {
   "cell_type": "code",
   "execution_count": null,
   "id": "9f3d757b-f1de-4ab3-988c-e6896f811ff9",
   "metadata": {},
   "outputs": [],
   "source": [
    "phi_chains = msm.topology.get_dihedral_quartets(molsys, phi=True)"
   ]
  },
  {
   "cell_type": "code",
   "execution_count": null,
   "id": "9c073778-b291-4c49-96b6-d5f841038f50",
   "metadata": {},
   "outputs": [],
   "source": [
    "msm.structure.get_dihedral_angles(molsys, quartets=phi_chains[2])"
   ]
  },
  {
   "cell_type": "code",
   "execution_count": null,
   "id": "d33e6c63-f3c7-4b84-af70-4a9f6ef37cdc",
   "metadata": {},
   "outputs": [],
   "source": [
    "angles = puw.quantity(np.array([[0.0]]), 'degrees')"
   ]
  },
  {
   "cell_type": "code",
   "execution_count": null,
   "id": "326d8321-7a4a-4cd1-a989-e8f0a178c5f9",
   "metadata": {},
   "outputs": [],
   "source": [
    "molecular_system = msm.structure.set_dihedral_angles(molsys, quartets=phi_chains[2], angles=angles, pbc=False)"
   ]
  },
  {
   "cell_type": "code",
   "execution_count": null,
   "id": "2eb4a821-312e-4a21-bf2f-3494709ea3f3",
   "metadata": {},
   "outputs": [],
   "source": [
    "np.bool_"
   ]
  },
  {
   "cell_type": "code",
   "execution_count": null,
   "id": "4b3f4111-229d-4c75-9141-6e5111a492de",
   "metadata": {},
   "outputs": [],
   "source": []
  },
  {
   "cell_type": "code",
   "execution_count": null,
   "id": "97d86aeb-11a0-42b1-bae9-d7bf209c736c",
   "metadata": {},
   "outputs": [],
   "source": []
  }
 ],
 "metadata": {
  "kernelspec": {
   "display_name": "Python 3 (ipykernel)",
   "language": "python",
   "name": "python3"
  },
  "language_info": {
   "codemirror_mode": {
    "name": "ipython",
    "version": 3
   },
   "file_extension": ".py",
   "mimetype": "text/x-python",
   "name": "python",
   "nbconvert_exporter": "python",
   "pygments_lexer": "ipython3",
   "version": "3.10.11"
  }
 },
 "nbformat": 4,
 "nbformat_minor": 5
}
