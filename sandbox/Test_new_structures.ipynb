{
 "cells": [
  {
   "cell_type": "code",
   "execution_count": 1,
   "id": "77e6c021-6745-44dd-907e-6658f5b3820b",
   "metadata": {},
   "outputs": [],
   "source": [
    "%load_ext autoreload\n",
    "%autoreload 2"
   ]
  },
  {
   "cell_type": "markdown",
   "id": "36347de3-e9be-4e7e-a57c-75b89cb03bee",
   "metadata": {},
   "source": [
    "# Test new structures"
   ]
  },
  {
   "cell_type": "code",
   "execution_count": 2,
   "id": "3f426a92-9fc6-4c1f-a987-cfc0e4792b99",
   "metadata": {},
   "outputs": [
    {
     "data": {
      "application/vnd.jupyter.widget-view+json": {
       "model_id": "e3483e54f48a4c9e97187df7ca594f6a",
       "version_major": 2,
       "version_minor": 0
      },
      "text/plain": []
     },
     "metadata": {},
     "output_type": "display_data"
    }
   ],
   "source": [
    "import molsysmt as msm"
   ]
  },
  {
   "cell_type": "code",
   "execution_count": 3,
   "id": "59e98218-c817-4b07-8708-6a843ef0831d",
   "metadata": {},
   "outputs": [],
   "source": [
    "openmm_Topology = msm.build.build_peptide('AceProNme', to_form='openmm.Topology')"
   ]
  },
  {
   "cell_type": "code",
   "execution_count": 4,
   "id": "b5d319ce-40a9-4155-a6a8-38b7eb6f921e",
   "metadata": {},
   "outputs": [],
   "source": [
    "molsysmt_Topology = msm.convert(openmm_Topology, 'molsysmt.Topology')"
   ]
  },
  {
   "cell_type": "code",
   "execution_count": 5,
   "id": "253f6d6f-59d7-42d5-a31e-22e3b704f6ae",
   "metadata": {},
   "outputs": [
    {
     "data": {
      "text/plain": [
       "[0, 0, 0, 0, 0, 0, 0, 0, 0, 0, 0, 0, 0, 0, 0, 0, 0, 0, 0, 0, 0, 0, 0, 0, 0, 0]"
      ]
     },
     "execution_count": 5,
     "metadata": {},
     "output_type": "execute_result"
    }
   ],
   "source": [
    "msm.element.component.get_components(molsysmt_Topology)"
   ]
  },
  {
   "cell_type": "code",
   "execution_count": null,
   "id": "2c90a877-cdda-44af-b026-1aa4d92fb0d0",
   "metadata": {},
   "outputs": [],
   "source": [
    "import numpy as np"
   ]
  },
  {
   "cell_type": "code",
   "execution_count": null,
   "id": "7e058457-3645-4174-bcd6-e7c455ecb9d5",
   "metadata": {},
   "outputs": [],
   "source": [
    "aa = np.zeros(3)"
   ]
  },
  {
   "cell_type": "code",
   "execution_count": null,
   "id": "f6a37996-31bc-4eec-81a0-a112dfb27523",
   "metadata": {},
   "outputs": [],
   "source": [
    "aa.to"
   ]
  }
 ],
 "metadata": {
  "kernelspec": {
   "display_name": "Python 3 (ipykernel)",
   "language": "python",
   "name": "python3"
  },
  "language_info": {
   "codemirror_mode": {
    "name": "ipython",
    "version": 3
   },
   "file_extension": ".py",
   "mimetype": "text/x-python",
   "name": "python",
   "nbconvert_exporter": "python",
   "pygments_lexer": "ipython3",
   "version": "3.10.12"
  }
 },
 "nbformat": 4,
 "nbformat_minor": 5
}
