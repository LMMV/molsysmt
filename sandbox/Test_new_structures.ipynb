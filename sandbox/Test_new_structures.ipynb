{
 "cells": [
  {
   "cell_type": "code",
   "execution_count": 1,
   "id": "77e6c021-6745-44dd-907e-6658f5b3820b",
   "metadata": {},
   "outputs": [],
   "source": [
    "%load_ext autoreload\n",
    "%autoreload 2"
   ]
  },
  {
   "cell_type": "markdown",
   "id": "36347de3-e9be-4e7e-a57c-75b89cb03bee",
   "metadata": {},
   "source": [
    "# Test new structures"
   ]
  },
  {
   "cell_type": "code",
   "execution_count": 2,
   "id": "3f426a92-9fc6-4c1f-a987-cfc0e4792b99",
   "metadata": {},
   "outputs": [
    {
     "data": {
      "application/vnd.jupyter.widget-view+json": {
       "model_id": "cc52222dd8744df689e6615239fa1744",
       "version_major": 2,
       "version_minor": 0
      },
      "text/plain": []
     },
     "metadata": {},
     "output_type": "display_data"
    }
   ],
   "source": [
    "import molsysmt as msm"
   ]
  },
  {
   "cell_type": "code",
   "execution_count": 3,
   "id": "59e98218-c817-4b07-8708-6a843ef0831d",
   "metadata": {},
   "outputs": [],
   "source": [
    "openmm_Topology = msm.build.build_peptide('AceProNme', to_form='openmm.Topology')"
   ]
  },
  {
   "cell_type": "code",
   "execution_count": 4,
   "id": "b5d319ce-40a9-4155-a6a8-38b7eb6f921e",
   "metadata": {},
   "outputs": [],
   "source": [
    "molsysmt_Topology = msm.convert(openmm_Topology, 'molsysmt.Topology')"
   ]
  },
  {
   "cell_type": "code",
   "execution_count": 6,
   "id": "253f6d6f-59d7-42d5-a31e-22e3b704f6ae",
   "metadata": {},
   "outputs": [
    {
     "data": {
      "text/plain": [
       "[0, 0, 0, 0, 0, 0, 0, 0, 0, 0, 0, 0, 0, 0, 0, 0, 0, 0, 0, 0, 0, 0, 0, 0, 0, 0]"
      ]
     },
     "execution_count": 6,
     "metadata": {},
     "output_type": "execute_result"
    }
   ],
   "source": [
    "msm.element.component.get_component_index(molsysmt_Topology)"
   ]
  },
  {
   "cell_type": "code",
   "execution_count": null,
   "id": "2c90a877-cdda-44af-b026-1aa4d92fb0d0",
   "metadata": {},
   "outputs": [],
   "source": [
    "import numpy as np"
   ]
  },
  {
   "cell_type": "code",
   "execution_count": null,
   "id": "7e058457-3645-4174-bcd6-e7c455ecb9d5",
   "metadata": {},
   "outputs": [],
   "source": [
    "aa = np.zeros(3)"
   ]
  },
  {
   "cell_type": "code",
   "execution_count": 7,
   "id": "f6a37996-31bc-4eec-81a0-a112dfb27523",
   "metadata": {},
   "outputs": [
    {
     "name": "stdout",
     "output_type": "stream",
     "text": [
      "Valores únicos: [0 1 2 3]\n",
      "Índices de la primera ocurrencia: [0 4 6 9]\n"
     ]
    },
    {
     "name": "stderr",
     "output_type": "stream",
     "text": [
      "[autoreload of molsysmt.element.component.get_component_index failed: Traceback (most recent call last):\n",
      "  File \"/conda/miniconda3/envs/MolSysMT@uibcdf_3.10/lib/python3.10/site-packages/IPython/extensions/autoreload.py\", line 276, in check\n",
      "    superreload(m, reload, self.old_objects)\n",
      "  File \"/conda/miniconda3/envs/MolSysMT@uibcdf_3.10/lib/python3.10/site-packages/IPython/extensions/autoreload.py\", line 475, in superreload\n",
      "    module = reload(module)\n",
      "  File \"/conda/miniconda3/envs/MolSysMT@uibcdf_3.10/lib/python3.10/importlib/__init__.py\", line 169, in reload\n",
      "    _bootstrap._exec(spec, module)\n",
      "  File \"<frozen importlib._bootstrap>\", line 619, in _exec\n",
      "  File \"<frozen importlib._bootstrap_external>\", line 879, in exec_module\n",
      "  File \"<frozen importlib._bootstrap_external>\", line 1017, in get_code\n",
      "  File \"<frozen importlib._bootstrap_external>\", line 947, in source_to_code\n",
      "  File \"<frozen importlib._bootstrap>\", line 241, in _call_with_frames_removed\n",
      "  File \"/home/diego/repos@uibcdf/MolSysMT/molsysmt/element/component/get_component_index.py\", line 63\n",
      "    else:\n",
      "    ^^^^\n",
      "SyntaxError: invalid syntax\n",
      "]\n"
     ]
    }
   ],
   "source": [
    "import numpy as np\n",
    "\n",
    "# Tu lista\n",
    "lista = [0, 0, 0, 0, 1, 1, 2, 2, 2, 3, 3]\n",
    "\n",
    "# Usar np.unique para obtener valores únicos y los índices de la primera ocurrencia\n",
    "valores_unicos, indices_primera_ocurrencia = np.unique(lista, return_index=True)\n",
    "\n",
    "print(\"Valores únicos:\", valores_unicos)\n",
    "print(\"Índices de la primera ocurrencia:\", indices_primera_ocurrencia)"
   ]
  },
  {
   "cell_type": "code",
   "execution_count": null,
   "id": "270ed854-ddda-4869-8b12-e9bfd0b24577",
   "metadata": {},
   "outputs": [],
   "source": []
  }
 ],
 "metadata": {
  "kernelspec": {
   "display_name": "Python 3 (ipykernel)",
   "language": "python",
   "name": "python3"
  },
  "language_info": {
   "codemirror_mode": {
    "name": "ipython",
    "version": 3
   },
   "file_extension": ".py",
   "mimetype": "text/x-python",
   "name": "python",
   "nbconvert_exporter": "python",
   "pygments_lexer": "ipython3",
   "version": "3.10.13"
  }
 },
 "nbformat": 4,
 "nbformat_minor": 5
}
