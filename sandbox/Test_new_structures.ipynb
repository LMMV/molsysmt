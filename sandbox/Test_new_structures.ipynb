{
 "cells": [
  {
   "cell_type": "code",
   "execution_count": 1,
   "id": "77e6c021-6745-44dd-907e-6658f5b3820b",
   "metadata": {},
   "outputs": [],
   "source": [
    "%load_ext autoreload\n",
    "%autoreload 2"
   ]
  },
  {
   "cell_type": "markdown",
   "id": "36347de3-e9be-4e7e-a57c-75b89cb03bee",
   "metadata": {},
   "source": [
    "# Making systems"
   ]
  },
  {
   "cell_type": "code",
   "execution_count": 2,
   "id": "3f426a92-9fc6-4c1f-a987-cfc0e4792b99",
   "metadata": {},
   "outputs": [
    {
     "data": {
      "application/vnd.jupyter.widget-view+json": {
       "model_id": "4dc6206ad0084aeda03b4677e1f63705",
       "version_major": 2,
       "version_minor": 0
      },
      "text/plain": []
     },
     "metadata": {},
     "output_type": "display_data"
    }
   ],
   "source": [
    "import molsysmt as msm"
   ]
  },
  {
   "cell_type": "code",
   "execution_count": 3,
   "id": "19802ea5-123e-44b3-89ae-03482bfe6a91",
   "metadata": {},
   "outputs": [],
   "source": [
    "molsys_1 = msm.convert(msm.systems['alanine dipeptide']['alanine_dipeptide.h5msm'])\n",
    "molsys_2 = msm.convert(msm.systems['valine dipeptide']['valine_dipeptide.h5msm'])\n",
    "molsys_3 = msm.convert(msm.systems['lysine dipeptide']['lysine_dipeptide.h5msm'])"
   ]
  },
  {
   "cell_type": "code",
   "execution_count": 4,
   "id": "e90f7ed0-a8a9-4771-82c2-2f7b75e63a1b",
   "metadata": {},
   "outputs": [],
   "source": [
    "aa = molsys_1.topology.extract([13,14,15,16])"
   ]
  },
  {
   "cell_type": "code",
   "execution_count": 5,
   "id": "39525b1b-07a5-4067-b102-bac904c9635e",
   "metadata": {},
   "outputs": [],
   "source": [
    "n_atoms_1 = msm.get(molsys_1, element='system', n_atoms=True)\n",
    "n_atoms_2 = msm.get(molsys_2, element='system', n_atoms=True)\n",
    "n_atoms_3 = msm.get(molsys_3, element='system', n_atoms=True)"
   ]
  },
  {
   "cell_type": "code",
   "execution_count": 6,
   "id": "94debb67-5ce4-4931-a02d-cb98f5a485ac",
   "metadata": {},
   "outputs": [
    {
     "ename": "AttributeError",
     "evalue": "'Structures' object has no attribute 'add'",
     "output_type": "error",
     "traceback": [
      "\u001b[0;31m---------------------------------------------------------------------------\u001b[0m",
      "\u001b[0;31mAttributeError\u001b[0m                            Traceback (most recent call last)",
      "Cell \u001b[0;32mIn[6], line 1\u001b[0m\n\u001b[0;32m----> 1\u001b[0m \u001b[43mmsm\u001b[49m\u001b[38;5;241;43m.\u001b[39;49m\u001b[43madd\u001b[49m\u001b[43m(\u001b[49m\u001b[43mmolsys_1\u001b[49m\u001b[43m,\u001b[49m\u001b[43m \u001b[49m\u001b[43mmolsys_2\u001b[49m\u001b[43m)\u001b[49m\n",
      "File \u001b[0;32m~/repos@uibcdf/MolSysMT/molsysmt/_private/digestion/digest.py:119\u001b[0m, in \u001b[0;36mdigest.<locals>.digestor.<locals>.wrapper\u001b[0;34m(*args, **kwargs)\u001b[0m\n\u001b[1;32m    117\u001b[0m     \u001b[38;5;28;01mreturn\u001b[39;00m func(all_args[\u001b[38;5;124m'\u001b[39m\u001b[38;5;124mself\u001b[39m\u001b[38;5;124m'\u001b[39m], \u001b[38;5;241m*\u001b[39m\u001b[38;5;241m*\u001b[39mfinal_args)\n\u001b[1;32m    118\u001b[0m \u001b[38;5;28;01melse\u001b[39;00m:\n\u001b[0;32m--> 119\u001b[0m     \u001b[38;5;28;01mreturn\u001b[39;00m \u001b[43mfunc\u001b[49m\u001b[43m(\u001b[49m\u001b[38;5;241;43m*\u001b[39;49m\u001b[38;5;241;43m*\u001b[39;49m\u001b[43mfinal_args\u001b[49m\u001b[43m)\u001b[49m\n",
      "File \u001b[0;32m~/repos@uibcdf/MolSysMT/molsysmt/basic/add.py:153\u001b[0m, in \u001b[0;36madd\u001b[0;34m(to_molecular_system, from_molecular_system, selection, structure_indices, syntax)\u001b[0m\n\u001b[1;32m    150\u001b[0m     \u001b[38;5;28;01mif\u001b[39;00m \u001b[38;5;124m'\u001b[39m\u001b[38;5;124mstructure_indices\u001b[39m\u001b[38;5;124m'\u001b[39m \u001b[38;5;129;01min\u001b[39;00m input_arguments:\n\u001b[1;32m    151\u001b[0m         add_arguments[\u001b[38;5;124m'\u001b[39m\u001b[38;5;124mstructure_indices\u001b[39m\u001b[38;5;124m'\u001b[39m]\u001b[38;5;241m=\u001b[39maux_structure_indices\n\u001b[0;32m--> 153\u001b[0m     \u001b[43madd_function\u001b[49m\u001b[43m(\u001b[49m\u001b[43mto_item\u001b[49m\u001b[43m,\u001b[49m\u001b[43m \u001b[49m\u001b[43maux_from_item\u001b[49m\u001b[43m,\u001b[49m\u001b[43m \u001b[49m\u001b[38;5;241;43m*\u001b[39;49m\u001b[38;5;241;43m*\u001b[39;49m\u001b[43madd_arguments\u001b[49m\u001b[43m)\u001b[49m\n\u001b[1;32m    155\u001b[0m \u001b[38;5;28;01mpass\u001b[39;00m\n",
      "File \u001b[0;32m~/repos@uibcdf/MolSysMT/molsysmt/_private/digestion/digest.py:119\u001b[0m, in \u001b[0;36mdigest.<locals>.digestor.<locals>.wrapper\u001b[0;34m(*args, **kwargs)\u001b[0m\n\u001b[1;32m    117\u001b[0m     \u001b[38;5;28;01mreturn\u001b[39;00m func(all_args[\u001b[38;5;124m'\u001b[39m\u001b[38;5;124mself\u001b[39m\u001b[38;5;124m'\u001b[39m], \u001b[38;5;241m*\u001b[39m\u001b[38;5;241m*\u001b[39mfinal_args)\n\u001b[1;32m    118\u001b[0m \u001b[38;5;28;01melse\u001b[39;00m:\n\u001b[0;32m--> 119\u001b[0m     \u001b[38;5;28;01mreturn\u001b[39;00m \u001b[43mfunc\u001b[49m\u001b[43m(\u001b[49m\u001b[38;5;241;43m*\u001b[39;49m\u001b[38;5;241;43m*\u001b[39;49m\u001b[43mfinal_args\u001b[49m\u001b[43m)\u001b[49m\n",
      "File \u001b[0;32m~/repos@uibcdf/MolSysMT/molsysmt/form/molsysmt_MolSys/add.py:9\u001b[0m, in \u001b[0;36madd\u001b[0;34m(to_item, item, atom_indices, structure_indices)\u001b[0m\n\u001b[1;32m      6\u001b[0m \u001b[38;5;129m@digest\u001b[39m(form\u001b[38;5;241m=\u001b[39m\u001b[38;5;124m'\u001b[39m\u001b[38;5;124mmolsysmt.MolSys\u001b[39m\u001b[38;5;124m'\u001b[39m, to_form\u001b[38;5;241m=\u001b[39m\u001b[38;5;124m'\u001b[39m\u001b[38;5;124mmolsysmt.MolSys\u001b[39m\u001b[38;5;124m'\u001b[39m)\n\u001b[1;32m      7\u001b[0m \u001b[38;5;28;01mdef\u001b[39;00m \u001b[38;5;21madd\u001b[39m(to_item, item, atom_indices\u001b[38;5;241m=\u001b[39m\u001b[38;5;124m'\u001b[39m\u001b[38;5;124mall\u001b[39m\u001b[38;5;124m'\u001b[39m, structure_indices\u001b[38;5;241m=\u001b[39m\u001b[38;5;124m'\u001b[39m\u001b[38;5;124mall\u001b[39m\u001b[38;5;124m'\u001b[39m):\n\u001b[0;32m----> 9\u001b[0m     \u001b[43mto_item\u001b[49m\u001b[38;5;241;43m.\u001b[39;49m\u001b[43madd\u001b[49m\u001b[43m(\u001b[49m\u001b[43mitem\u001b[49m\u001b[43m)\u001b[49m\n\u001b[1;32m     11\u001b[0m     \u001b[38;5;28;01mpass\u001b[39;00m\n",
      "File \u001b[0;32m~/repos@uibcdf/MolSysMT/molsysmt/native/molsys.py:35\u001b[0m, in \u001b[0;36mMolSys.add\u001b[0;34m(self, item, atom_indices, structure_indices)\u001b[0m\n\u001b[1;32m     32\u001b[0m \u001b[38;5;28;01mfrom\u001b[39;00m \u001b[38;5;21;01mmolsysmt\u001b[39;00m \u001b[38;5;28;01mimport\u001b[39;00m convert, get_form\n\u001b[1;32m     34\u001b[0m \u001b[38;5;28mself\u001b[39m\u001b[38;5;241m.\u001b[39mtopology\u001b[38;5;241m.\u001b[39madd(item\u001b[38;5;241m.\u001b[39mtopology, atom_indices\u001b[38;5;241m=\u001b[39matom_indices)\n\u001b[0;32m---> 35\u001b[0m \u001b[38;5;28;43mself\u001b[39;49m\u001b[38;5;241;43m.\u001b[39;49m\u001b[43mstructures\u001b[49m\u001b[38;5;241;43m.\u001b[39;49m\u001b[43madd\u001b[49m(item\u001b[38;5;241m.\u001b[39mstructures, atom_indices\u001b[38;5;241m=\u001b[39matom_indices, structure_indices\u001b[38;5;241m=\u001b[39mstructure_indices)\n",
      "\u001b[0;31mAttributeError\u001b[0m: 'Structures' object has no attribute 'add'"
     ]
    }
   ],
   "source": [
    "msm.add(molsys_1, molsys_2)"
   ]
  },
  {
   "cell_type": "code",
   "execution_count": null,
   "id": "8ba58d7c-d980-4b0a-8ae1-8d9590436dcd",
   "metadata": {},
   "outputs": [],
   "source": [
    "msm.add(molsys_1, molsys_2)\n",
    "msm.add(molsys_1, molsys_3)\n",
    "    n_atoms, n_structures = msm.get(molsys_1, element='system', n_atoms=True, n_structures=True)\n",
    "    assert 'molsysmt.MolSys'==msm.get_form(molsys_1)\n",
    "    assert n_atoms == n_atoms_1+n_atoms_2+n_atoms_3\n",
    "    assert n_structures == 1\n"
   ]
  },
  {
   "cell_type": "code",
   "execution_count": null,
   "id": "58453ba5-f90d-4c07-a605-f32abd40c22a",
   "metadata": {},
   "outputs": [],
   "source": []
  }
 ],
 "metadata": {
  "kernelspec": {
   "display_name": "Python 3 (ipykernel)",
   "language": "python",
   "name": "python3"
  },
  "language_info": {
   "codemirror_mode": {
    "name": "ipython",
    "version": 3
   },
   "file_extension": ".py",
   "mimetype": "text/x-python",
   "name": "python",
   "nbconvert_exporter": "python",
   "pygments_lexer": "ipython3",
   "version": "3.10.12"
  }
 },
 "nbformat": 4,
 "nbformat_minor": 5
}
