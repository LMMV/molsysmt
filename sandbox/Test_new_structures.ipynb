{
 "cells": [
  {
   "cell_type": "code",
   "execution_count": 1,
   "id": "77e6c021-6745-44dd-907e-6658f5b3820b",
   "metadata": {},
   "outputs": [],
   "source": [
    "%load_ext autoreload\n",
    "%autoreload 2"
   ]
  },
  {
   "cell_type": "markdown",
   "id": "36347de3-e9be-4e7e-a57c-75b89cb03bee",
   "metadata": {},
   "source": [
    "# Making systems"
   ]
  },
  {
   "cell_type": "code",
   "execution_count": 2,
   "id": "3f426a92-9fc6-4c1f-a987-cfc0e4792b99",
   "metadata": {},
   "outputs": [
    {
     "data": {
      "application/vnd.jupyter.widget-view+json": {
       "model_id": "010177d34e9b4412b88733b4a8cd6e75",
       "version_major": 2,
       "version_minor": 0
      },
      "text/plain": []
     },
     "metadata": {},
     "output_type": "display_data"
    }
   ],
   "source": [
    "import molsysmt as msm"
   ]
  },
  {
   "cell_type": "code",
   "execution_count": 3,
   "id": "19802ea5-123e-44b3-89ae-03482bfe6a91",
   "metadata": {},
   "outputs": [],
   "source": [
    "molsys_1 = msm.convert(msm.systems['alanine dipeptide']['alanine_dipeptide.h5msm'])\n",
    "molsys_2 = msm.convert(msm.systems['valine dipeptide']['valine_dipeptide.h5msm'])\n",
    "molsys_3 = msm.convert(msm.systems['lysine dipeptide']['lysine_dipeptide.h5msm'])"
   ]
  },
  {
   "cell_type": "code",
   "execution_count": 4,
   "id": "39525b1b-07a5-4067-b102-bac904c9635e",
   "metadata": {},
   "outputs": [],
   "source": [
    "n_atoms_1 = msm.get(molsys_1, element='system', n_atoms=True)\n",
    "n_atoms_2 = msm.get(molsys_2, element='system', n_atoms=True)\n",
    "n_atoms_3 = msm.get(molsys_3, element='system', n_atoms=True)"
   ]
  },
  {
   "cell_type": "code",
   "execution_count": 5,
   "id": "94debb67-5ce4-4931-a02d-cb98f5a485ac",
   "metadata": {},
   "outputs": [
    {
     "name": "stdout",
     "output_type": "stream",
     "text": [
      "<<< 0.3101050853729248\n",
      ">>> 0.8765256404876709\n",
      "<<< 0.31447744369506836\n",
      ">>> 1.230806827545166\n",
      "<<< 0.32506608963012695\n",
      ">>> 1.6198620796203613\n",
      "<<< 0.3381657600402832\n",
      ">>> 1.893113136291504\n",
      "<<< 0.3237612247467041\n",
      ">>> 2.295640468597412\n",
      "CPU times: user 10.2 s, sys: 167 ms, total: 10.4 s\n",
      "Wall time: 10.4 s\n"
     ]
    }
   ],
   "source": [
    "%%time\n",
    "msm.add(molsys_1, molsys_2)\n",
    "msm.add(molsys_1, molsys_2)\n",
    "msm.add(molsys_1, molsys_2)\n",
    "msm.add(molsys_1, molsys_2)\n",
    "msm.add(molsys_1, molsys_2)\n",
    "#msm.add(molsys_1, molsys_3)"
   ]
  },
  {
   "cell_type": "code",
   "execution_count": 6,
   "id": "065d0c4d-9a7b-49a4-87f0-07fe8adcd482",
   "metadata": {},
   "outputs": [
    {
     "name": "stdout",
     "output_type": "stream",
     "text": [
      "CPU times: user 1.04 s, sys: 11.8 ms, total: 1.05 s\n",
      "Wall time: 1.06 s\n"
     ]
    },
    {
     "data": {
      "text/plain": [
       "array(['peptide', 'peptide', 'peptide', 'peptide', 'peptide', 'peptide',\n",
       "       'peptide', 'peptide', 'peptide', 'peptide', 'peptide', 'peptide',\n",
       "       'peptide', 'peptide', 'peptide', 'peptide', 'peptide', 'peptide',\n",
       "       'peptide', 'peptide', 'peptide', 'peptide', 'peptide', 'peptide',\n",
       "       'peptide', 'peptide', 'peptide', 'peptide', 'peptide', 'peptide',\n",
       "       'peptide', 'peptide', 'peptide', 'peptide', 'peptide', 'peptide',\n",
       "       'peptide', 'peptide', 'peptide', 'peptide', 'peptide', 'peptide',\n",
       "       'peptide', 'peptide', 'peptide', 'peptide', 'peptide', 'peptide',\n",
       "       'peptide', 'peptide', 'peptide', 'peptide', 'peptide', 'peptide',\n",
       "       'peptide', 'peptide', 'peptide', 'peptide', 'peptide', 'peptide',\n",
       "       'peptide', 'peptide', 'peptide', 'peptide', 'peptide', 'peptide',\n",
       "       'peptide', 'peptide', 'peptide', 'peptide', 'peptide', 'peptide',\n",
       "       'peptide', 'peptide', 'peptide', 'peptide', 'peptide', 'peptide',\n",
       "       'peptide', 'peptide', 'peptide', 'peptide', 'peptide', 'peptide',\n",
       "       'peptide', 'peptide', 'peptide', 'peptide', 'peptide', 'peptide',\n",
       "       'peptide', 'peptide', 'peptide', 'peptide', 'peptide', 'peptide',\n",
       "       'peptide', 'peptide', 'peptide', 'peptide', 'peptide', 'peptide',\n",
       "       'peptide', 'peptide', 'peptide', 'peptide', 'peptide', 'peptide',\n",
       "       'peptide', 'peptide', 'peptide', 'peptide', 'peptide', 'peptide',\n",
       "       'peptide', 'peptide', 'peptide', 'peptide', 'peptide', 'peptide',\n",
       "       'peptide', 'peptide', 'peptide', 'peptide', 'peptide', 'peptide',\n",
       "       'peptide', 'peptide', 'peptide', 'peptide', 'peptide', 'peptide',\n",
       "       'peptide', 'peptide', 'peptide', 'peptide', 'peptide', 'peptide',\n",
       "       'peptide', 'peptide', 'peptide', 'peptide', 'peptide', 'peptide',\n",
       "       'peptide', 'peptide', 'peptide', 'peptide', 'peptide', 'peptide',\n",
       "       'peptide', 'peptide', 'peptide', 'peptide', 'peptide', 'peptide',\n",
       "       'peptide', 'peptide', 'peptide', 'peptide', 'peptide', 'peptide'],\n",
       "      dtype=object)"
      ]
     },
     "execution_count": 6,
     "metadata": {},
     "output_type": "execute_result"
    }
   ],
   "source": [
    "%time msm.element.component.get_component_type(molsys_1, redefine_types=True, skip_digestion=True)"
   ]
  },
  {
   "cell_type": "code",
   "execution_count": 7,
   "id": "237047c4-c5e6-4e57-a18c-538635b48011",
   "metadata": {},
   "outputs": [
    {
     "name": "stdout",
     "output_type": "stream",
     "text": [
      "<<< 0.5117533206939697\n",
      ">>> 2.8274693489074707\n",
      "CPU times: user 3.31 s, sys: 31.9 ms, total: 3.34 s\n",
      "Wall time: 3.34 s\n"
     ]
    },
    {
     "data": {
      "text/plain": [
       "['peptide 0',\n",
       " 'peptide 0',\n",
       " 'peptide 0',\n",
       " 'peptide 0',\n",
       " 'peptide 0',\n",
       " 'peptide 0',\n",
       " 'peptide 0',\n",
       " 'peptide 0',\n",
       " 'peptide 0',\n",
       " 'peptide 0',\n",
       " 'peptide 0',\n",
       " 'peptide 0',\n",
       " 'peptide 0',\n",
       " 'peptide 0',\n",
       " 'peptide 0',\n",
       " 'peptide 0',\n",
       " 'peptide 0',\n",
       " 'peptide 0',\n",
       " 'peptide 0',\n",
       " 'peptide 0',\n",
       " 'peptide 0',\n",
       " 'peptide 0',\n",
       " 'peptide 1',\n",
       " 'peptide 1',\n",
       " 'peptide 1',\n",
       " 'peptide 1',\n",
       " 'peptide 1',\n",
       " 'peptide 1',\n",
       " 'peptide 1',\n",
       " 'peptide 1',\n",
       " 'peptide 1',\n",
       " 'peptide 1',\n",
       " 'peptide 1',\n",
       " 'peptide 1',\n",
       " 'peptide 1',\n",
       " 'peptide 1',\n",
       " 'peptide 1',\n",
       " 'peptide 1',\n",
       " 'peptide 1',\n",
       " 'peptide 1',\n",
       " 'peptide 1',\n",
       " 'peptide 1',\n",
       " 'peptide 1',\n",
       " 'peptide 1',\n",
       " 'peptide 1',\n",
       " 'peptide 1',\n",
       " 'peptide 1',\n",
       " 'peptide 1',\n",
       " 'peptide 1',\n",
       " 'peptide 1',\n",
       " 'peptide 1',\n",
       " 'peptide 1',\n",
       " 'peptide 1',\n",
       " 'peptide 1',\n",
       " 'peptide 1',\n",
       " 'peptide 1',\n",
       " 'peptide 1',\n",
       " 'peptide 1',\n",
       " 'peptide 1',\n",
       " 'peptide 1',\n",
       " 'peptide 1',\n",
       " 'peptide 1',\n",
       " 'peptide 1',\n",
       " 'peptide 1',\n",
       " 'peptide 1',\n",
       " 'peptide 1',\n",
       " 'peptide 1',\n",
       " 'peptide 1',\n",
       " 'peptide 1',\n",
       " 'peptide 1',\n",
       " 'peptide 1',\n",
       " 'peptide 1',\n",
       " 'peptide 1',\n",
       " 'peptide 1',\n",
       " 'peptide 1',\n",
       " 'peptide 1',\n",
       " 'peptide 1',\n",
       " 'peptide 1',\n",
       " 'peptide 1',\n",
       " 'peptide 1',\n",
       " 'peptide 1',\n",
       " 'peptide 1',\n",
       " 'peptide 1',\n",
       " 'peptide 1',\n",
       " 'peptide 1',\n",
       " 'peptide 1',\n",
       " 'peptide 1',\n",
       " 'peptide 1',\n",
       " 'peptide 1',\n",
       " 'peptide 1',\n",
       " 'peptide 1',\n",
       " 'peptide 1',\n",
       " 'peptide 1',\n",
       " 'peptide 1',\n",
       " 'peptide 1',\n",
       " 'peptide 1',\n",
       " 'peptide 1',\n",
       " 'peptide 1',\n",
       " 'peptide 1',\n",
       " 'peptide 1',\n",
       " 'peptide 1',\n",
       " 'peptide 1',\n",
       " 'peptide 1',\n",
       " 'peptide 1',\n",
       " 'peptide 1',\n",
       " 'peptide 1',\n",
       " 'peptide 1',\n",
       " 'peptide 1',\n",
       " 'peptide 1',\n",
       " 'peptide 1',\n",
       " 'peptide 1',\n",
       " 'peptide 1',\n",
       " 'peptide 1',\n",
       " 'peptide 1',\n",
       " 'peptide 1',\n",
       " 'peptide 1',\n",
       " 'peptide 1',\n",
       " 'peptide 1',\n",
       " 'peptide 1',\n",
       " 'peptide 1',\n",
       " 'peptide 1',\n",
       " 'peptide 1',\n",
       " 'peptide 1',\n",
       " 'peptide 1',\n",
       " 'peptide 1',\n",
       " 'peptide 1',\n",
       " 'peptide 1',\n",
       " 'peptide 1',\n",
       " 'peptide 1',\n",
       " 'peptide 1',\n",
       " 'peptide 1',\n",
       " 'peptide 1',\n",
       " 'peptide 1',\n",
       " 'peptide 1',\n",
       " 'peptide 1',\n",
       " 'peptide 1',\n",
       " 'peptide 1',\n",
       " 'peptide 1',\n",
       " 'peptide 1',\n",
       " 'peptide 1',\n",
       " 'peptide 1',\n",
       " 'peptide 1',\n",
       " 'peptide 1',\n",
       " 'peptide 1',\n",
       " 'peptide 1',\n",
       " 'peptide 1',\n",
       " 'peptide 1',\n",
       " 'peptide 1',\n",
       " 'peptide 1',\n",
       " 'peptide 1',\n",
       " 'peptide 1',\n",
       " 'peptide 1',\n",
       " 'peptide 1',\n",
       " 'peptide 1',\n",
       " 'peptide 1',\n",
       " 'peptide 1',\n",
       " 'peptide 1',\n",
       " 'peptide 1',\n",
       " 'peptide 1',\n",
       " 'peptide 1',\n",
       " 'peptide 1',\n",
       " 'peptide 1']"
      ]
     },
     "execution_count": 7,
     "metadata": {},
     "output_type": "execute_result"
    }
   ],
   "source": [
    "%time msm.element.component.get_component_name(molsys_1, redefine_names=True, skip_digestion=True)"
   ]
  },
  {
   "cell_type": "code",
   "execution_count": null,
   "id": "6e053f9d-e71d-442a-bd23-a194fc5fc0d3",
   "metadata": {},
   "outputs": [],
   "source": [
    "#msm.add(molsys_1, molsys_3)"
   ]
  },
  {
   "cell_type": "code",
   "execution_count": null,
   "id": "d3780ad6-50b7-4af0-b790-d69c9a973c6e",
   "metadata": {},
   "outputs": [],
   "source": [
    "molsys_1.topology.atoms"
   ]
  },
  {
   "cell_type": "code",
   "execution_count": null,
   "id": "8ba58d7c-d980-4b0a-8ae1-8d9590436dcd",
   "metadata": {},
   "outputs": [],
   "source": [
    "n_atoms, n_structures = msm.get(molsys_1, element='system', n_atoms=True, n_structures=True)\n",
    "assert 'molsysmt.MolSys'==msm.get_form(molsys_1)\n",
    "assert n_atoms == n_atoms_1+n_atoms_2+n_atoms_3\n",
    "assert n_structures == 1\n"
   ]
  },
  {
   "cell_type": "code",
   "execution_count": 8,
   "id": "95bda730-2002-419c-8c8b-c73fc794601f",
   "metadata": {},
   "outputs": [],
   "source": [
    "import numpy as np"
   ]
  },
  {
   "cell_type": "code",
   "execution_count": 9,
   "id": "2159989c-20b6-470f-b812-72b25ed3f090",
   "metadata": {},
   "outputs": [],
   "source": [
    "a = [[0,1],[2,3,4],[6,7,8]]"
   ]
  },
  {
   "cell_type": "code",
   "execution_count": 10,
   "id": "88d7bea3-b7a0-4e89-b3da-eb68e1dff0ff",
   "metadata": {},
   "outputs": [
    {
     "ename": "ValueError",
     "evalue": "setting an array element with a sequence. The requested array has an inhomogeneous shape after 1 dimensions. The detected shape was (3,) + inhomogeneous part.",
     "output_type": "error",
     "traceback": [
      "\u001b[0;31m---------------------------------------------------------------------------\u001b[0m",
      "\u001b[0;31mValueError\u001b[0m                                Traceback (most recent call last)",
      "Cell \u001b[0;32mIn[10], line 1\u001b[0m\n\u001b[0;32m----> 1\u001b[0m \u001b[43mnp\u001b[49m\u001b[38;5;241;43m.\u001b[39;49m\u001b[43mravel\u001b[49m\u001b[43m(\u001b[49m\u001b[43ma\u001b[49m\u001b[43m)\u001b[49m\n",
      "File \u001b[0;32m/conda/miniconda3/envs/MolSysMT@uibcdf_3.10/lib/python3.10/site-packages/numpy/core/fromnumeric.py:1874\u001b[0m, in \u001b[0;36mravel\u001b[0;34m(a, order)\u001b[0m\n\u001b[1;32m   1872\u001b[0m     \u001b[38;5;28;01mreturn\u001b[39;00m asarray(a)\u001b[38;5;241m.\u001b[39mravel(order\u001b[38;5;241m=\u001b[39morder)\n\u001b[1;32m   1873\u001b[0m \u001b[38;5;28;01melse\u001b[39;00m:\n\u001b[0;32m-> 1874\u001b[0m     \u001b[38;5;28;01mreturn\u001b[39;00m \u001b[43masanyarray\u001b[49m\u001b[43m(\u001b[49m\u001b[43ma\u001b[49m\u001b[43m)\u001b[49m\u001b[38;5;241m.\u001b[39mravel(order\u001b[38;5;241m=\u001b[39morder)\n",
      "\u001b[0;31mValueError\u001b[0m: setting an array element with a sequence. The requested array has an inhomogeneous shape after 1 dimensions. The detected shape was (3,) + inhomogeneous part."
     ]
    }
   ],
   "source": [
    "np.ravel(a)"
   ]
  },
  {
   "cell_type": "code",
   "execution_count": null,
   "id": "12fe35ee-c86a-49a4-87f2-b7f84ee22ecc",
   "metadata": {},
   "outputs": [],
   "source": []
  }
 ],
 "metadata": {
  "kernelspec": {
   "display_name": "Python 3 (ipykernel)",
   "language": "python",
   "name": "python3"
  },
  "language_info": {
   "codemirror_mode": {
    "name": "ipython",
    "version": 3
   },
   "file_extension": ".py",
   "mimetype": "text/x-python",
   "name": "python",
   "nbconvert_exporter": "python",
   "pygments_lexer": "ipython3",
   "version": "3.10.13"
  }
 },
 "nbformat": 4,
 "nbformat_minor": 5
}
