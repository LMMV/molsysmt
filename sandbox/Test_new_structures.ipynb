{
 "cells": [
  {
   "cell_type": "code",
   "execution_count": 1,
   "id": "77e6c021-6745-44dd-907e-6658f5b3820b",
   "metadata": {},
   "outputs": [],
   "source": [
    "%load_ext autoreload\n",
    "%autoreload 2"
   ]
  },
  {
   "cell_type": "markdown",
   "id": "36347de3-e9be-4e7e-a57c-75b89cb03bee",
   "metadata": {},
   "source": [
    "# Making systems"
   ]
  },
  {
   "cell_type": "code",
   "execution_count": 2,
   "id": "3f426a92-9fc6-4c1f-a987-cfc0e4792b99",
   "metadata": {},
   "outputs": [
    {
     "data": {
      "application/vnd.jupyter.widget-view+json": {
       "model_id": "e9c5d755f1c441d5bbc95f1f89b33e15",
       "version_major": 2,
       "version_minor": 0
      },
      "text/plain": []
     },
     "metadata": {},
     "output_type": "display_data"
    }
   ],
   "source": [
    "import molsysmt as msm"
   ]
  },
  {
   "cell_type": "code",
   "execution_count": 3,
   "id": "19802ea5-123e-44b3-89ae-03482bfe6a91",
   "metadata": {},
   "outputs": [
    {
     "ename": "TypeError",
     "evalue": "to_molsysmt_MolSys() got an unexpected keyword argument 'skip_digestion'",
     "output_type": "error",
     "traceback": [
      "\u001b[0;31m---------------------------------------------------------------------------\u001b[0m",
      "\u001b[0;31mTypeError\u001b[0m                                 Traceback (most recent call last)",
      "Cell \u001b[0;32mIn[3], line 1\u001b[0m\n\u001b[0;32m----> 1\u001b[0m molsys_1 \u001b[38;5;241m=\u001b[39m \u001b[43mmsm\u001b[49m\u001b[38;5;241;43m.\u001b[39;49m\u001b[43mconvert\u001b[49m\u001b[43m(\u001b[49m\u001b[43mmsm\u001b[49m\u001b[38;5;241;43m.\u001b[39;49m\u001b[43msystems\u001b[49m\u001b[43m[\u001b[49m\u001b[38;5;124;43m'\u001b[39;49m\u001b[38;5;124;43malanine dipeptide\u001b[39;49m\u001b[38;5;124;43m'\u001b[39;49m\u001b[43m]\u001b[49m\u001b[43m[\u001b[49m\u001b[38;5;124;43m'\u001b[39;49m\u001b[38;5;124;43malanine_dipeptide.h5msm\u001b[39;49m\u001b[38;5;124;43m'\u001b[39;49m\u001b[43m]\u001b[49m\u001b[43m)\u001b[49m\n\u001b[1;32m      2\u001b[0m molsys_2 \u001b[38;5;241m=\u001b[39m msm\u001b[38;5;241m.\u001b[39mconvert(msm\u001b[38;5;241m.\u001b[39msystems[\u001b[38;5;124m'\u001b[39m\u001b[38;5;124mvaline dipeptide\u001b[39m\u001b[38;5;124m'\u001b[39m][\u001b[38;5;124m'\u001b[39m\u001b[38;5;124mvaline_dipeptide.h5msm\u001b[39m\u001b[38;5;124m'\u001b[39m])\n\u001b[1;32m      3\u001b[0m molsys_3 \u001b[38;5;241m=\u001b[39m msm\u001b[38;5;241m.\u001b[39mconvert(msm\u001b[38;5;241m.\u001b[39msystems[\u001b[38;5;124m'\u001b[39m\u001b[38;5;124mlysine dipeptide\u001b[39m\u001b[38;5;124m'\u001b[39m][\u001b[38;5;124m'\u001b[39m\u001b[38;5;124mlysine_dipeptide.h5msm\u001b[39m\u001b[38;5;124m'\u001b[39m])\n",
      "File \u001b[0;32m~/repos@uibcdf/MolSysMT/molsysmt/_private/digestion/digest.py:122\u001b[0m, in \u001b[0;36mdigest.<locals>.digestor.<locals>.wrapper\u001b[0;34m(*args, **kwargs)\u001b[0m\n\u001b[1;32m    120\u001b[0m     \u001b[38;5;28;01mreturn\u001b[39;00m func(all_args[\u001b[38;5;124m'\u001b[39m\u001b[38;5;124mself\u001b[39m\u001b[38;5;124m'\u001b[39m], \u001b[38;5;241m*\u001b[39m\u001b[38;5;241m*\u001b[39mfinal_args)\n\u001b[1;32m    121\u001b[0m \u001b[38;5;28;01melse\u001b[39;00m:\n\u001b[0;32m--> 122\u001b[0m     \u001b[38;5;28;01mreturn\u001b[39;00m \u001b[43mfunc\u001b[49m\u001b[43m(\u001b[49m\u001b[38;5;241;43m*\u001b[39;49m\u001b[38;5;241;43m*\u001b[39;49m\u001b[43mfinal_args\u001b[49m\u001b[43m)\u001b[49m\n",
      "File \u001b[0;32m~/repos@uibcdf/MolSysMT/molsysmt/basic/convert.py:529\u001b[0m, in \u001b[0;36mconvert\u001b[0;34m(molecular_system, to_form, selection, structure_indices, syntax, verbose, skip_digestion, **kwargs)\u001b[0m\n\u001b[1;32m    526\u001b[0m \u001b[38;5;66;03m# If one to one\u001b[39;00m\n\u001b[1;32m    527\u001b[0m \u001b[38;5;28;01mif\u001b[39;00m \u001b[38;5;129;01mnot\u001b[39;00m \u001b[38;5;28misinstance\u001b[39m(from_form, (\u001b[38;5;28mlist\u001b[39m, \u001b[38;5;28mtuple\u001b[39m)):\n\u001b[0;32m--> 529\u001b[0m     output \u001b[38;5;241m=\u001b[39m \u001b[43m_convert_one_to_one\u001b[49m\u001b[43m(\u001b[49m\u001b[43mmolecular_system\u001b[49m\u001b[43m,\u001b[49m\u001b[43m \u001b[49m\u001b[43mfrom_form\u001b[49m\u001b[43m,\u001b[49m\u001b[43m \u001b[49m\u001b[43mto_form\u001b[49m\u001b[38;5;241;43m=\u001b[39;49m\u001b[43mto_form\u001b[49m\u001b[43m,\u001b[49m\u001b[43m \u001b[49m\u001b[43mselection\u001b[49m\u001b[38;5;241;43m=\u001b[39;49m\u001b[43mselection\u001b[49m\u001b[43m,\u001b[49m\u001b[43m \u001b[49m\u001b[43mstructure_indices\u001b[49m\u001b[38;5;241;43m=\u001b[39;49m\u001b[43mstructure_indices\u001b[49m\u001b[43m,\u001b[49m\n\u001b[1;32m    530\u001b[0m \u001b[43m            \u001b[49m\u001b[43msyntax\u001b[49m\u001b[38;5;241;43m=\u001b[39;49m\u001b[43msyntax\u001b[49m\u001b[43m,\u001b[49m\u001b[43m \u001b[49m\u001b[43mverbose\u001b[49m\u001b[38;5;241;43m=\u001b[39;49m\u001b[43mverbose\u001b[49m\u001b[43m,\u001b[49m\u001b[43m \u001b[49m\u001b[38;5;241;43m*\u001b[39;49m\u001b[38;5;241;43m*\u001b[39;49m\u001b[43mkwargs\u001b[49m\u001b[43m)\u001b[49m\n\u001b[1;32m    532\u001b[0m \u001b[38;5;66;03m# If multiple to one\u001b[39;00m\n\u001b[1;32m    533\u001b[0m \n\u001b[1;32m    534\u001b[0m \u001b[38;5;28;01melse\u001b[39;00m:\n\u001b[1;32m    535\u001b[0m \n\u001b[1;32m    536\u001b[0m     \u001b[38;5;66;03m# conversions in private shortcuts\u001b[39;00m\n\u001b[1;32m    537\u001b[0m     \u001b[38;5;28;01mif\u001b[39;00m \u001b[38;5;28mtuple\u001b[39m(\u001b[38;5;28msorted\u001b[39m(from_form)) \u001b[38;5;129;01min\u001b[39;00m _multiple_conversion_shortcuts:\n",
      "File \u001b[0;32m~/repos@uibcdf/MolSysMT/molsysmt/basic/convert.py:83\u001b[0m, in \u001b[0;36m_convert_one_to_one\u001b[0;34m(molecular_system, from_form, to_form, selection, structure_indices, syntax, verbose, **kwargs)\u001b[0m\n\u001b[1;32m     80\u001b[0m         \u001b[38;5;28;01mif\u001b[39;00m \u001b[38;5;28mlen\u001b[39m(missing_arguments)\u001b[38;5;241m>\u001b[39m\u001b[38;5;241m0\u001b[39m:\n\u001b[1;32m     81\u001b[0m             \u001b[38;5;28;01mraise\u001b[39;00m NotCompatibleConversionError(from_form, to_form, missing_arguments)\n\u001b[0;32m---> 83\u001b[0m     output \u001b[38;5;241m=\u001b[39m \u001b[43mfunction\u001b[49m\u001b[43m(\u001b[49m\u001b[43mmolecular_system\u001b[49m\u001b[43m,\u001b[49m\u001b[43m \u001b[49m\u001b[38;5;241;43m*\u001b[39;49m\u001b[38;5;241;43m*\u001b[39;49m\u001b[43mconversion_arguments\u001b[49m\u001b[43m,\u001b[49m\u001b[43m \u001b[49m\u001b[38;5;241;43m*\u001b[39;49m\u001b[38;5;241;43m*\u001b[39;49m\u001b[43mkwargs\u001b[49m\u001b[43m)\u001b[49m\n\u001b[1;32m     85\u001b[0m \u001b[38;5;28;01melif\u001b[39;00m (\u001b[38;5;124m'\u001b[39m\u001b[38;5;124mmolsysmt.MolSys\u001b[39m\u001b[38;5;124m'\u001b[39m \u001b[38;5;129;01min\u001b[39;00m _dict_modules[from_form]\u001b[38;5;241m.\u001b[39m_convert_to) \u001b[38;5;129;01mand\u001b[39;00m (to_form \u001b[38;5;129;01min\u001b[39;00m _dict_modules[\u001b[38;5;124m'\u001b[39m\u001b[38;5;124mmolsysmt.MolSys\u001b[39m\u001b[38;5;124m'\u001b[39m]\u001b[38;5;241m.\u001b[39m_convert_to):\n\u001b[1;32m     87\u001b[0m     output \u001b[38;5;241m=\u001b[39m _convert_one_to_one(molecular_system, from_form, to_form\u001b[38;5;241m=\u001b[39m\u001b[38;5;124m'\u001b[39m\u001b[38;5;124mmolsysmt.MolSys\u001b[39m\u001b[38;5;124m'\u001b[39m, selection\u001b[38;5;241m=\u001b[39mselection,\n\u001b[1;32m     88\u001b[0m             structure_indices\u001b[38;5;241m=\u001b[39mstructure_indices, syntax\u001b[38;5;241m=\u001b[39msyntax, \u001b[38;5;241m*\u001b[39m\u001b[38;5;241m*\u001b[39mkwargs)\n",
      "File \u001b[0;32m~/repos@uibcdf/MolSysMT/molsysmt/_private/digestion/digest.py:52\u001b[0m, in \u001b[0;36mdigest.<locals>.digestor.<locals>.wrapper\u001b[0;34m(*args, **kwargs)\u001b[0m\n\u001b[1;32m     48\u001b[0m \u001b[38;5;129m@functools\u001b[39m\u001b[38;5;241m.\u001b[39mwraps(func)\n\u001b[1;32m     49\u001b[0m \u001b[38;5;28;01mdef\u001b[39;00m \u001b[38;5;21mwrapper\u001b[39m(\u001b[38;5;241m*\u001b[39margs, \u001b[38;5;241m*\u001b[39m\u001b[38;5;241m*\u001b[39mkwargs):\n\u001b[1;32m     51\u001b[0m     \u001b[38;5;28;01mif\u001b[39;00m kwargs\u001b[38;5;241m.\u001b[39mget(\u001b[38;5;124m'\u001b[39m\u001b[38;5;124mskip_digestion\u001b[39m\u001b[38;5;124m'\u001b[39m, \u001b[38;5;28;01mFalse\u001b[39;00m):\n\u001b[0;32m---> 52\u001b[0m         \u001b[38;5;28;01mreturn\u001b[39;00m \u001b[43mfunc\u001b[49m\u001b[43m(\u001b[49m\u001b[38;5;241;43m*\u001b[39;49m\u001b[43margs\u001b[49m\u001b[43m,\u001b[49m\u001b[43m \u001b[49m\u001b[38;5;241;43m*\u001b[39;49m\u001b[38;5;241;43m*\u001b[39;49m\u001b[43mkwargs\u001b[49m\u001b[43m)\u001b[49m\n\u001b[1;32m     54\u001b[0m     \u001b[38;5;66;03m# Define caller\u001b[39;00m\n\u001b[1;32m     56\u001b[0m     caller \u001b[38;5;241m=\u001b[39m func\u001b[38;5;241m.\u001b[39m\u001b[38;5;18m__module__\u001b[39m\u001b[38;5;241m+\u001b[39m\u001b[38;5;124m'\u001b[39m\u001b[38;5;124m.\u001b[39m\u001b[38;5;124m'\u001b[39m\u001b[38;5;241m+\u001b[39mfunc\u001b[38;5;241m.\u001b[39m\u001b[38;5;18m__name__\u001b[39m\n",
      "\u001b[0;31mTypeError\u001b[0m: to_molsysmt_MolSys() got an unexpected keyword argument 'skip_digestion'"
     ]
    }
   ],
   "source": [
    "molsys_1 = msm.convert(msm.systems['alanine dipeptide']['alanine_dipeptide.h5msm'])\n",
    "molsys_2 = msm.convert(msm.systems['valine dipeptide']['valine_dipeptide.h5msm'])\n",
    "molsys_3 = msm.convert(msm.systems['lysine dipeptide']['lysine_dipeptide.h5msm'])"
   ]
  },
  {
   "cell_type": "code",
   "execution_count": null,
   "id": "39525b1b-07a5-4067-b102-bac904c9635e",
   "metadata": {},
   "outputs": [],
   "source": [
    "n_atoms_1 = msm.get(molsys_1, element='system', n_atoms=True)\n",
    "n_atoms_2 = msm.get(molsys_2, element='system', n_atoms=True)\n",
    "n_atoms_3 = msm.get(molsys_3, element='system', n_atoms=True)"
   ]
  },
  {
   "cell_type": "code",
   "execution_count": null,
   "id": "94debb67-5ce4-4931-a02d-cb98f5a485ac",
   "metadata": {},
   "outputs": [],
   "source": [
    "%%time\n",
    "msm.add(molsys_1, molsys_2)\n",
    "msm.add(molsys_1, molsys_2)\n",
    "msm.add(molsys_1, molsys_2)\n",
    "#msm.add(molsys_1, molsys_3)"
   ]
  },
  {
   "cell_type": "code",
   "execution_count": null,
   "id": "705906b5-15ec-4a2c-a101-610c5586e51b",
   "metadata": {},
   "outputs": [],
   "source": [
    "%time msm.element.component.get_component_index(molsys_1, redefine_indices=True, skip_digestion=True)"
   ]
  },
  {
   "cell_type": "code",
   "execution_count": null,
   "id": "065d0c4d-9a7b-49a4-87f0-07fe8adcd482",
   "metadata": {},
   "outputs": [],
   "source": [
    "%time msm.element.component.get_component_type(molsys_1, redefine_indices=True, skip_digestion=True)"
   ]
  },
  {
   "cell_type": "code",
   "execution_count": null,
   "id": "237047c4-c5e6-4e57-a18c-538635b48011",
   "metadata": {},
   "outputs": [],
   "source": [
    "%time msm.element.component.get_component_name(molsys_1, redefine_names=True, skip_digestion=True)"
   ]
  },
  {
   "cell_type": "code",
   "execution_count": null,
   "id": "6e053f9d-e71d-442a-bd23-a194fc5fc0d3",
   "metadata": {},
   "outputs": [],
   "source": [
    "#msm.add(molsys_1, molsys_3)"
   ]
  },
  {
   "cell_type": "code",
   "execution_count": null,
   "id": "d3780ad6-50b7-4af0-b790-d69c9a973c6e",
   "metadata": {},
   "outputs": [],
   "source": [
    "molsys_1.topology.atoms"
   ]
  },
  {
   "cell_type": "code",
   "execution_count": null,
   "id": "8ba58d7c-d980-4b0a-8ae1-8d9590436dcd",
   "metadata": {},
   "outputs": [],
   "source": [
    "n_atoms, n_structures = msm.get(molsys_1, element='system', n_atoms=True, n_structures=True)\n",
    "assert 'molsysmt.MolSys'==msm.get_form(molsys_1)\n",
    "assert n_atoms == n_atoms_1+n_atoms_2+n_atoms_3\n",
    "assert n_structures == 1\n"
   ]
  },
  {
   "cell_type": "code",
   "execution_count": null,
   "id": "12fe35ee-c86a-49a4-87f2-b7f84ee22ecc",
   "metadata": {},
   "outputs": [],
   "source": []
  }
 ],
 "metadata": {
  "kernelspec": {
   "display_name": "Python 3 (ipykernel)",
   "language": "python",
   "name": "python3"
  },
  "language_info": {
   "codemirror_mode": {
    "name": "ipython",
    "version": 3
   },
   "file_extension": ".py",
   "mimetype": "text/x-python",
   "name": "python",
   "nbconvert_exporter": "python",
   "pygments_lexer": "ipython3",
   "version": "3.10.13"
  }
 },
 "nbformat": 4,
 "nbformat_minor": 5
}
