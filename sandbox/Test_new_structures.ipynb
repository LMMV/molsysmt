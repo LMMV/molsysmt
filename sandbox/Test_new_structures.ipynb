{
 "cells": [
  {
   "cell_type": "code",
   "execution_count": 1,
   "id": "77e6c021-6745-44dd-907e-6658f5b3820b",
   "metadata": {},
   "outputs": [],
   "source": [
    "%load_ext autoreload\n",
    "%autoreload 2"
   ]
  },
  {
   "cell_type": "markdown",
   "id": "36347de3-e9be-4e7e-a57c-75b89cb03bee",
   "metadata": {},
   "source": [
    "# Test new structures"
   ]
  },
  {
   "cell_type": "code",
   "execution_count": 2,
   "id": "3f426a92-9fc6-4c1f-a987-cfc0e4792b99",
   "metadata": {},
   "outputs": [
    {
     "data": {
      "application/vnd.jupyter.widget-view+json": {
       "model_id": "2072afd37e104b9ea01df69faae55625",
       "version_major": 2,
       "version_minor": 0
      },
      "text/plain": []
     },
     "metadata": {},
     "output_type": "display_data"
    }
   ],
   "source": [
    "import molsysmt as msm"
   ]
  },
  {
   "cell_type": "code",
   "execution_count": 3,
   "id": "59e98218-c817-4b07-8708-6a843ef0831d",
   "metadata": {},
   "outputs": [],
   "source": [
    "openmm_Topology = msm.build.build_peptide('AceProNme', to_form='openmm.Topology')"
   ]
  },
  {
   "cell_type": "code",
   "execution_count": 4,
   "id": "b5d319ce-40a9-4155-a6a8-38b7eb6f921e",
   "metadata": {},
   "outputs": [],
   "source": [
    "molsysmt_Topology = msm.convert(openmm_Topology, 'molsysmt.Topology')"
   ]
  },
  {
   "cell_type": "code",
   "execution_count": 5,
   "id": "a5f13231-8e73-4215-a354-b35d37bc8028",
   "metadata": {},
   "outputs": [
    {
     "data": {
      "text/html": [
       "<div>\n",
       "<style scoped>\n",
       "    .dataframe tbody tr th:only-of-type {\n",
       "        vertical-align: middle;\n",
       "    }\n",
       "\n",
       "    .dataframe tbody tr th {\n",
       "        vertical-align: top;\n",
       "    }\n",
       "\n",
       "    .dataframe thead th {\n",
       "        text-align: right;\n",
       "    }\n",
       "</style>\n",
       "<table border=\"1\" class=\"dataframe\">\n",
       "  <thead>\n",
       "    <tr style=\"text-align: right;\">\n",
       "      <th></th>\n",
       "      <th>molecule_name</th>\n",
       "      <th>molecule_id</th>\n",
       "      <th>molecule_type</th>\n",
       "      <th>entity_index</th>\n",
       "    </tr>\n",
       "  </thead>\n",
       "  <tbody>\n",
       "    <tr>\n",
       "      <th>0</th>\n",
       "      <td>&lt;NA&gt;</td>\n",
       "      <td>0</td>\n",
       "      <td>peptide</td>\n",
       "      <td>&lt;NA&gt;</td>\n",
       "    </tr>\n",
       "  </tbody>\n",
       "</table>\n",
       "</div>"
      ],
      "text/plain": [
       "  molecule_name  molecule_id molecule_type  entity_index\n",
       "0          <NA>            0       peptide          <NA>"
      ]
     },
     "execution_count": 5,
     "metadata": {},
     "output_type": "execute_result"
    }
   ],
   "source": [
    "molsysmt_Topology.molecules"
   ]
  },
  {
   "cell_type": "code",
   "execution_count": null,
   "id": "04ec3d9a-eed0-44de-a3e0-0745311ed9a9",
   "metadata": {},
   "outputs": [],
   "source": []
  }
 ],
 "metadata": {
  "kernelspec": {
   "display_name": "Python 3 (ipykernel)",
   "language": "python",
   "name": "python3"
  },
  "language_info": {
   "codemirror_mode": {
    "name": "ipython",
    "version": 3
   },
   "file_extension": ".py",
   "mimetype": "text/x-python",
   "name": "python",
   "nbconvert_exporter": "python",
   "pygments_lexer": "ipython3",
   "version": "3.10.12"
  }
 },
 "nbformat": 4,
 "nbformat_minor": 5
}
