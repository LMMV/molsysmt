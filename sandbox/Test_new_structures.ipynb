{
 "cells": [
  {
   "cell_type": "code",
   "execution_count": 1,
   "id": "77e6c021-6745-44dd-907e-6658f5b3820b",
   "metadata": {},
   "outputs": [],
   "source": [
    "%load_ext autoreload\n",
    "%autoreload 2"
   ]
  },
  {
   "cell_type": "markdown",
   "id": "36347de3-e9be-4e7e-a57c-75b89cb03bee",
   "metadata": {},
   "source": [
    "# Test new structures"
   ]
  },
  {
   "cell_type": "code",
   "execution_count": 2,
   "id": "3f426a92-9fc6-4c1f-a987-cfc0e4792b99",
   "metadata": {},
   "outputs": [
    {
     "data": {
      "application/vnd.jupyter.widget-view+json": {
       "model_id": "d6e0fdaabce14496a9f39cab687b1693",
       "version_major": 2,
       "version_minor": 0
      },
      "text/plain": []
     },
     "metadata": {},
     "output_type": "display_data"
    }
   ],
   "source": [
    "import molsysmt as msm"
   ]
  },
  {
   "cell_type": "code",
   "execution_count": 3,
   "id": "59e98218-c817-4b07-8708-6a843ef0831d",
   "metadata": {},
   "outputs": [],
   "source": [
    "openmm_Topology = msm.build.build_peptide('AceProNme', to_form='openmm.Topology')"
   ]
  },
  {
   "cell_type": "code",
   "execution_count": 4,
   "id": "54240358-49f5-439e-90e5-8cec37f9f0f5",
   "metadata": {},
   "outputs": [
    {
     "data": {
      "text/plain": [
       "[None]"
      ]
     },
     "execution_count": 4,
     "metadata": {},
     "output_type": "execute_result"
    }
   ],
   "source": [
    "msm.get(openmm_Topology, element='molecule', molecule_name=True)"
   ]
  },
  {
   "cell_type": "code",
   "execution_count": 5,
   "id": "b27c40eb-5ec0-4b3a-a24e-a167e687bf6a",
   "metadata": {},
   "outputs": [
    {
     "data": {
      "text/plain": [
       "[0]"
      ]
     },
     "execution_count": 5,
     "metadata": {},
     "output_type": "execute_result"
    }
   ],
   "source": [
    "msm.element.entity.get_entity_index(openmm_Topology, redefine_indices=True)"
   ]
  },
  {
   "cell_type": "code",
   "execution_count": null,
   "id": "ca91ebb8-daa8-42de-8e74-cb5b800b8e0e",
   "metadata": {},
   "outputs": [],
   "source": [
    "msm.get(openmm_Topology, element='entity', n_molecules=True)"
   ]
  },
  {
   "cell_type": "code",
   "execution_count": null,
   "id": "34711094-4335-4bf6-9b6f-fc786db82648",
   "metadata": {},
   "outputs": [],
   "source": [
    "msm.get(openmm_Topology, n_entities=True)"
   ]
  },
  {
   "cell_type": "code",
   "execution_count": null,
   "id": "b5d319ce-40a9-4155-a6a8-38b7eb6f921e",
   "metadata": {},
   "outputs": [],
   "source": [
    "molsysmt_Topology = msm.convert(openmm_Topology, 'molsysmt.Topology')"
   ]
  },
  {
   "cell_type": "code",
   "execution_count": null,
   "id": "a5f13231-8e73-4215-a354-b35d37bc8028",
   "metadata": {},
   "outputs": [],
   "source": [
    "molsysmt_Topology.entities"
   ]
  },
  {
   "cell_type": "code",
   "execution_count": null,
   "id": "04ec3d9a-eed0-44de-a3e0-0745311ed9a9",
   "metadata": {},
   "outputs": [],
   "source": [
    "aa = ['AAA', 'BBB', 'CCC']"
   ]
  },
  {
   "cell_type": "code",
   "execution_count": null,
   "id": "a027467b-e2de-4d85-ba9f-8002126cff54",
   "metadata": {},
   "outputs": [],
   "source": [
    "aa[0:2]"
   ]
  },
  {
   "cell_type": "code",
   "execution_count": null,
   "id": "263aea63-082d-4aee-930e-dbdb93a82b2a",
   "metadata": {},
   "outputs": [],
   "source": []
  }
 ],
 "metadata": {
  "kernelspec": {
   "display_name": "Python 3 (ipykernel)",
   "language": "python",
   "name": "python3"
  },
  "language_info": {
   "codemirror_mode": {
    "name": "ipython",
    "version": 3
   },
   "file_extension": ".py",
   "mimetype": "text/x-python",
   "name": "python",
   "nbconvert_exporter": "python",
   "pygments_lexer": "ipython3",
   "version": "3.10.12"
  }
 },
 "nbformat": 4,
 "nbformat_minor": 5
}
