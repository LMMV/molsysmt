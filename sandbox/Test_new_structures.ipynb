{
 "cells": [
  {
   "cell_type": "code",
   "execution_count": null,
   "id": "77e6c021-6745-44dd-907e-6658f5b3820b",
   "metadata": {},
   "outputs": [],
   "source": [
    "%load_ext autoreload\n",
    "%autoreload 2"
   ]
  },
  {
   "cell_type": "markdown",
   "id": "36347de3-e9be-4e7e-a57c-75b89cb03bee",
   "metadata": {},
   "source": [
    "# Making systems"
   ]
  },
  {
   "cell_type": "code",
   "execution_count": null,
   "id": "3f426a92-9fc6-4c1f-a987-cfc0e4792b99",
   "metadata": {},
   "outputs": [],
   "source": [
    "import molsysmt as msm"
   ]
  },
  {
   "cell_type": "code",
   "execution_count": null,
   "id": "19802ea5-123e-44b3-89ae-03482bfe6a91",
   "metadata": {},
   "outputs": [],
   "source": [
    "molsys_1 = msm.convert(msm.systems['alanine dipeptide']['alanine_dipeptide.h5msm'])\n",
    "molsys_2 = msm.convert(msm.systems['valine dipeptide']['valine_dipeptide.h5msm'])\n",
    "molsys_3 = msm.convert(msm.systems['lysine dipeptide']['lysine_dipeptide.h5msm'])"
   ]
  },
  {
   "cell_type": "code",
   "execution_count": null,
   "id": "39525b1b-07a5-4067-b102-bac904c9635e",
   "metadata": {},
   "outputs": [],
   "source": [
    "n_atoms_1 = msm.get(molsys_1, element='system', n_atoms=True)\n",
    "n_atoms_2 = msm.get(molsys_2, element='system', n_atoms=True)\n",
    "n_atoms_3 = msm.get(molsys_3, element='system', n_atoms=True)"
   ]
  },
  {
   "cell_type": "code",
   "execution_count": null,
   "id": "94debb67-5ce4-4931-a02d-cb98f5a485ac",
   "metadata": {},
   "outputs": [],
   "source": [
    "%%time\n",
    "msm.add(molsys_1, molsys_2)\n",
    "msm.add(molsys_1, molsys_2)\n",
    "msm.add(molsys_1, molsys_2)\n",
    "#msm.add(molsys_1, molsys_3)"
   ]
  },
  {
   "cell_type": "code",
   "execution_count": null,
   "id": "705906b5-15ec-4a2c-a101-610c5586e51b",
   "metadata": {},
   "outputs": [],
   "source": [
    "%time msm.element.component.get_component_index(molsys_1, redefine_indices=True, skip_digestion=True)"
   ]
  },
  {
   "cell_type": "code",
   "execution_count": null,
   "id": "065d0c4d-9a7b-49a4-87f0-07fe8adcd482",
   "metadata": {},
   "outputs": [],
   "source": [
    "%time msm.element.component.get_component_type(molsys_1, redefine_indices=True, skip_digestion=True)"
   ]
  },
  {
   "cell_type": "code",
   "execution_count": null,
   "id": "237047c4-c5e6-4e57-a18c-538635b48011",
   "metadata": {},
   "outputs": [],
   "source": [
    "%time msm.element.component.get_component_name(molsys_1, redefine_names=True, skip_digestion=True)"
   ]
  },
  {
   "cell_type": "code",
   "execution_count": null,
   "id": "6e053f9d-e71d-442a-bd23-a194fc5fc0d3",
   "metadata": {},
   "outputs": [],
   "source": [
    "#msm.add(molsys_1, molsys_3)"
   ]
  },
  {
   "cell_type": "code",
   "execution_count": null,
   "id": "d3780ad6-50b7-4af0-b790-d69c9a973c6e",
   "metadata": {},
   "outputs": [],
   "source": [
    "molsys_1.topology.atoms"
   ]
  },
  {
   "cell_type": "code",
   "execution_count": null,
   "id": "8ba58d7c-d980-4b0a-8ae1-8d9590436dcd",
   "metadata": {},
   "outputs": [],
   "source": [
    "n_atoms, n_structures = msm.get(molsys_1, element='system', n_atoms=True, n_structures=True)\n",
    "assert 'molsysmt.MolSys'==msm.get_form(molsys_1)\n",
    "assert n_atoms == n_atoms_1+n_atoms_2+n_atoms_3\n",
    "assert n_structures == 1\n"
   ]
  },
  {
   "cell_type": "code",
   "execution_count": null,
   "id": "12fe35ee-c86a-49a4-87f2-b7f84ee22ecc",
   "metadata": {},
   "outputs": [],
   "source": []
  }
 ],
 "metadata": {
  "kernelspec": {
   "display_name": "Python 3 (ipykernel)",
   "language": "python",
   "name": "python3"
  },
  "language_info": {
   "codemirror_mode": {
    "name": "ipython",
    "version": 3
   },
   "file_extension": ".py",
   "mimetype": "text/x-python",
   "name": "python",
   "nbconvert_exporter": "python",
   "pygments_lexer": "ipython3",
   "version": "3.10.13"
  }
 },
 "nbformat": 4,
 "nbformat_minor": 5
}
