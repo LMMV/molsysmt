{
 "cells": [
  {
   "cell_type": "code",
   "execution_count": 1,
   "id": "77e6c021-6745-44dd-907e-6658f5b3820b",
   "metadata": {},
   "outputs": [],
   "source": [
    "%load_ext autoreload\n",
    "%autoreload 2"
   ]
  },
  {
   "cell_type": "markdown",
   "id": "36347de3-e9be-4e7e-a57c-75b89cb03bee",
   "metadata": {},
   "source": [
    "# Making systems"
   ]
  },
  {
   "cell_type": "code",
   "execution_count": 2,
   "id": "3f426a92-9fc6-4c1f-a987-cfc0e4792b99",
   "metadata": {},
   "outputs": [
    {
     "data": {
      "application/vnd.jupyter.widget-view+json": {
       "model_id": "92d0be886878416d966bb2baa2f3abf3",
       "version_major": 2,
       "version_minor": 0
      },
      "text/plain": []
     },
     "metadata": {},
     "output_type": "display_data"
    }
   ],
   "source": [
    "import molsysmt as msm"
   ]
  },
  {
   "cell_type": "code",
   "execution_count": 3,
   "id": "afed12e4-31cd-4cad-8d15-93a42e084cac",
   "metadata": {},
   "outputs": [],
   "source": [
    "molsys_1 = msm.convert(msm.systems['alanine dipeptide']['alanine_dipeptide.h5msm'])"
   ]
  },
  {
   "cell_type": "code",
   "execution_count": null,
   "id": "19802ea5-123e-44b3-89ae-03482bfe6a91",
   "metadata": {},
   "outputs": [],
   "source": [
    "molsys_1 = msm.convert(msm.systems['alanine dipeptide']['alanine_dipeptide.h5msm'])\n",
    "molsys_2 = msm.convert(msm.systems['valine dipeptide']['valine_dipeptide.h5msm'], to_form='molsysmt.MolSys')\n",
    "molsys_3 = msm.convert(msm.systems['lysine dipeptide']['lysine_dipeptide.h5msm'], to_form='molsysmt.MolSys')"
   ]
  },
  {
   "cell_type": "code",
   "execution_count": null,
   "id": "9a46282f-39fd-47fb-9e15-af6757ba3352",
   "metadata": {},
   "outputs": [],
   "source": [
    "molsys_1.topology.atoms.shape"
   ]
  },
  {
   "cell_type": "code",
   "execution_count": null,
   "id": "39525b1b-07a5-4067-b102-bac904c9635e",
   "metadata": {},
   "outputs": [],
   "source": [
    "n_atoms_1 = msm.get(molsys_1, element='system', n_atoms=True)\n",
    "n_atoms_2 = msm.get(molsys_2, element='system', n_atoms=True)\n",
    "n_atoms_3 = msm.get(molsys_3, element='system', n_atoms=True)"
   ]
  },
  {
   "cell_type": "code",
   "execution_count": null,
   "id": "94debb67-5ce4-4931-a02d-cb98f5a485ac",
   "metadata": {},
   "outputs": [],
   "source": [
    "msm.add(molsys_1, molsys_2)"
   ]
  },
  {
   "cell_type": "code",
   "execution_count": null,
   "id": "8ba58d7c-d980-4b0a-8ae1-8d9590436dcd",
   "metadata": {},
   "outputs": [],
   "source": [
    "msm.add(molsys_1, molsys_2)\n",
    "msm.add(molsys_1, molsys_3)\n",
    "    n_atoms, n_structures = msm.get(molsys_1, element='system', n_atoms=True, n_structures=True)\n",
    "    assert 'molsysmt.MolSys'==msm.get_form(molsys_1)\n",
    "    assert n_atoms == n_atoms_1+n_atoms_2+n_atoms_3\n",
    "    assert n_structures == 1\n"
   ]
  },
  {
   "cell_type": "code",
   "execution_count": null,
   "id": "58453ba5-f90d-4c07-a605-f32abd40c22a",
   "metadata": {},
   "outputs": [],
   "source": []
  }
 ],
 "metadata": {
  "kernelspec": {
   "display_name": "Python 3 (ipykernel)",
   "language": "python",
   "name": "python3"
  },
  "language_info": {
   "codemirror_mode": {
    "name": "ipython",
    "version": 3
   },
   "file_extension": ".py",
   "mimetype": "text/x-python",
   "name": "python",
   "nbconvert_exporter": "python",
   "pygments_lexer": "ipython3",
   "version": "3.10.12"
  }
 },
 "nbformat": 4,
 "nbformat_minor": 5
}
