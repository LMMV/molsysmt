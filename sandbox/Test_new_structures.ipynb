{
 "cells": [
  {
   "cell_type": "markdown",
   "id": "36347de3-e9be-4e7e-a57c-75b89cb03bee",
   "metadata": {},
   "source": [
    "# Test new structures"
   ]
  },
  {
   "cell_type": "code",
   "execution_count": 1,
   "id": "193b0c7b-7a28-48af-9619-47d935223fa3",
   "metadata": {},
   "outputs": [
    {
     "data": {
      "application/vnd.jupyter.widget-view+json": {
       "model_id": "a0a954fbef7747b1af71d39d24f02819",
       "version_major": 2,
       "version_minor": 0
      },
      "text/plain": []
     },
     "metadata": {},
     "output_type": "display_data"
    },
    {
     "name": "stdout",
     "output_type": "stream",
     "text": [
      "file:trjpk\n",
      "openmm.Simulation\n",
      "file:crd\n",
      "networkx.Graph\n",
      "file:xtc\n",
      "molsysmt.TopologyOld\n",
      "file:prmtop\n",
      "openmm.CharmmCrdFile\n",
      "openmm.System\n",
      "openmm.Context\n",
      "file:xyznpy\n",
      "file:gro\n",
      "openmm.Modeller\n",
      "file:mmtf\n",
      "openmm.PDBFile\n",
      "molsysmt.MolecularMechanics\n",
      "molsysmt.StructuresDict\n",
      "file:h5\n",
      "MDAnalysis.Topology\n",
      "molsysmt.Topology\n",
      "mdtraj.HDF5TrajectoryFile\n",
      "string:aminoacids1\n",
      "file:inpcrd\n",
      "openmm.CharmmPsfFile\n",
      "molsysmt.H5MSMFileHandler\n",
      "openmm.State\n",
      "file:dcd\n",
      "openmm.GromacsGroFile\n",
      "openmm.AmberInpcrdFile\n",
      "molsysmt.Structures\n",
      "molsysmt.StructuresOld\n"
     ]
    },
    {
     "ename": "ValueError",
     "evalue": "list.remove(x): x not in list",
     "output_type": "error",
     "traceback": [
      "\u001b[0;31m---------------------------------------------------------------------------\u001b[0m",
      "\u001b[0;31mValueError\u001b[0m                                Traceback (most recent call last)",
      "Cell \u001b[0;32mIn[1], line 1\u001b[0m\n\u001b[0;32m----> 1\u001b[0m \u001b[38;5;28;01mimport\u001b[39;00m \u001b[38;5;21;01mmolsysmt\u001b[39;00m \u001b[38;5;28;01mas\u001b[39;00m \u001b[38;5;21;01mmsm\u001b[39;00m\n",
      "File \u001b[0;32m~/repos@uibcdf/MolSysMT/molsysmt/__init__.py:29\u001b[0m\n\u001b[1;32m     26\u001b[0m \u001b[38;5;28;01mfrom\u001b[39;00m \u001b[38;5;21;01m.\u001b[39;00m \u001b[38;5;28;01mimport\u001b[39;00m structure\n\u001b[1;32m     27\u001b[0m \u001b[38;5;28;01mfrom\u001b[39;00m \u001b[38;5;21;01m.\u001b[39;00m \u001b[38;5;28;01mimport\u001b[39;00m build\n\u001b[0;32m---> 29\u001b[0m \u001b[38;5;28;01mfrom\u001b[39;00m \u001b[38;5;21;01m.\u001b[39;00m \u001b[38;5;28;01mimport\u001b[39;00m supported\n\u001b[1;32m     30\u001b[0m \u001b[38;5;28;01mfrom\u001b[39;00m \u001b[38;5;21;01m.\u001b[39;00m \u001b[38;5;28;01mimport\u001b[39;00m pbc\n\u001b[1;32m     31\u001b[0m \u001b[38;5;28;01mfrom\u001b[39;00m \u001b[38;5;21;01m.\u001b[39;00m \u001b[38;5;28;01mimport\u001b[39;00m physchem\n",
      "File \u001b[0;32m~/repos@uibcdf/MolSysMT/molsysmt/supported/__init__.py:1\u001b[0m\n\u001b[0;32m----> 1\u001b[0m \u001b[38;5;28;01mfrom\u001b[39;00m \u001b[38;5;21;01m.\u001b[39;00m\u001b[38;5;21;01msupported\u001b[39;00m \u001b[38;5;28;01mimport\u001b[39;00m forms, conversions, viewers, syntaxes\n",
      "File \u001b[0;32m~/repos@uibcdf/MolSysMT/molsysmt/supported/supported.py:20\u001b[0m\n\u001b[1;32m     18\u001b[0m     aux_list \u001b[38;5;241m=\u001b[39m \u001b[38;5;28mlist\u001b[39m(_dict_modules[in_form]\u001b[38;5;241m.\u001b[39m_convert_to\u001b[38;5;241m.\u001b[39mkeys())\n\u001b[1;32m     19\u001b[0m     \u001b[38;5;28mprint\u001b[39m(in_form)\n\u001b[0;32m---> 20\u001b[0m     \u001b[43maux_list\u001b[49m\u001b[38;5;241;43m.\u001b[39;49m\u001b[43mremove\u001b[49m\u001b[43m(\u001b[49m\u001b[43min_form\u001b[49m\u001b[43m)\u001b[49m\n\u001b[1;32m     21\u001b[0m     convert_from[in_form] \u001b[38;5;241m=\u001b[39m aux_list\n\u001b[1;32m     23\u001b[0m \u001b[38;5;28;01mfor\u001b[39;00m in_form, out_forms \u001b[38;5;129;01min\u001b[39;00m convert_from\u001b[38;5;241m.\u001b[39mitems():\n",
      "\u001b[0;31mValueError\u001b[0m: list.remove(x): x not in list"
     ]
    }
   ],
   "source": [
    "import molsysmt as msm"
   ]
  },
  {
   "cell_type": "code",
   "execution_count": null,
   "id": "659a8693-aa1b-48b8-b2cc-1d63ae0596b3",
   "metadata": {},
   "outputs": [],
   "source": [
    "molsys = msm.convert('traj.h5msm', to_form='molsysmt.MolSys')"
   ]
  },
  {
   "cell_type": "code",
   "execution_count": null,
   "id": "821962aa-efb4-43c3-a2b0-2c74c63e7999",
   "metadata": {},
   "outputs": [],
   "source": [
    "msm.info(molsys)"
   ]
  },
  {
   "cell_type": "code",
   "execution_count": null,
   "id": "ad9023ac-31ad-4a00-8048-2aa8075a8be6",
   "metadata": {},
   "outputs": [],
   "source": []
  }
 ],
 "metadata": {
  "kernelspec": {
   "display_name": "Python 3 (ipykernel)",
   "language": "python",
   "name": "python3"
  },
  "language_info": {
   "codemirror_mode": {
    "name": "ipython",
    "version": 3
   },
   "file_extension": ".py",
   "mimetype": "text/x-python",
   "name": "python",
   "nbconvert_exporter": "python",
   "pygments_lexer": "ipython3",
   "version": "3.10.12"
  }
 },
 "nbformat": 4,
 "nbformat_minor": 5
}
