{
 "cells": [
  {
   "cell_type": "code",
   "execution_count": 1,
   "id": "77e6c021-6745-44dd-907e-6658f5b3820b",
   "metadata": {},
   "outputs": [],
   "source": [
    "%load_ext autoreload\n",
    "%autoreload 2"
   ]
  },
  {
   "cell_type": "markdown",
   "id": "36347de3-e9be-4e7e-a57c-75b89cb03bee",
   "metadata": {},
   "source": [
    "# Test new structures"
   ]
  },
  {
   "cell_type": "code",
   "execution_count": 2,
   "id": "3f426a92-9fc6-4c1f-a987-cfc0e4792b99",
   "metadata": {},
   "outputs": [
    {
     "data": {
      "application/vnd.jupyter.widget-view+json": {
       "model_id": "caff1656e4204c74994897b9ad37c7a0",
       "version_major": 2,
       "version_minor": 0
      },
      "text/plain": []
     },
     "metadata": {},
     "output_type": "display_data"
    }
   ],
   "source": [
    "import molsysmt as msm"
   ]
  },
  {
   "cell_type": "code",
   "execution_count": 3,
   "id": "59e98218-c817-4b07-8708-6a843ef0831d",
   "metadata": {},
   "outputs": [],
   "source": [
    "molsys = msm.build.build_peptide('AceProNme', to_form='molsysmt.MolSys')"
   ]
  },
  {
   "cell_type": "code",
   "execution_count": 4,
   "id": "5aff8dc6-29ac-4024-b4df-f2c8e100b0d5",
   "metadata": {},
   "outputs": [],
   "source": [
    "molsys = msm.build.build_peptide('AceProNme', to_form='openmm.Topology')"
   ]
  },
  {
   "cell_type": "code",
   "execution_count": 5,
   "id": "25d176b3-cc4c-407b-acea-c6c06ed492ff",
   "metadata": {},
   "outputs": [
    {
     "ename": "NameError",
     "evalue": "name 'np' is not defined",
     "output_type": "error",
     "traceback": [
      "\u001b[0;31m---------------------------------------------------------------------------\u001b[0m",
      "\u001b[0;31mNameError\u001b[0m                                 Traceback (most recent call last)",
      "Cell \u001b[0;32mIn[5], line 1\u001b[0m\n\u001b[0;32m----> 1\u001b[0m bond_order_array \u001b[38;5;241m=\u001b[39m \u001b[43mnp\u001b[49m\u001b[38;5;241m.\u001b[39mempty(n_bonds, dtype\u001b[38;5;241m=\u001b[39m\u001b[38;5;28mobject\u001b[39m)\n",
      "\u001b[0;31mNameError\u001b[0m: name 'np' is not defined"
     ]
    }
   ],
   "source": [
    "bond_order_array = np.empty(n_bonds, dtype=object)"
   ]
  },
  {
   "cell_type": "code",
   "execution_count": 6,
   "id": "5d7be63c-f134-4699-9ed4-a4c65c272c4b",
   "metadata": {},
   "outputs": [],
   "source": [
    "import numpy as np"
   ]
  },
  {
   "cell_type": "code",
   "execution_count": 7,
   "id": "c4dc0250-65a8-43f9-98f4-b453020c6021",
   "metadata": {},
   "outputs": [
    {
     "name": "stdout",
     "output_type": "stream",
     "text": [
      "None\n",
      "None\n",
      "None\n",
      "None\n",
      "None\n",
      "None\n",
      "None\n",
      "None\n",
      "None\n",
      "None\n",
      "None\n",
      "None\n",
      "None\n",
      "None\n",
      "None\n",
      "None\n",
      "None\n",
      "None\n",
      "None\n",
      "None\n",
      "None\n",
      "None\n",
      "None\n",
      "None\n",
      "None\n",
      "None\n"
     ]
    }
   ],
   "source": [
    "for bond in molsys.bonds():\n",
    "    print(bond.order)"
   ]
  },
  {
   "cell_type": "code",
   "execution_count": null,
   "id": "f8e7e6c3-0931-4335-99c5-3080e3ca5881",
   "metadata": {},
   "outputs": [],
   "source": [
    "molsys.topology.bonds"
   ]
  },
  {
   "cell_type": "code",
   "execution_count": null,
   "id": "32626d0a-3913-4e58-a717-2d13a163f617",
   "metadata": {},
   "outputs": [],
   "source": [
    "molsys.topology.chains['chain_type'].to_numpy(dtype=str, na_value=np.nan)"
   ]
  },
  {
   "cell_type": "code",
   "execution_count": null,
   "id": "e908bd05-cb84-4594-8812-7d1dbe66daf5",
   "metadata": {},
   "outputs": [],
   "source": [
    "msm.convert(molsys, to_form='proline_dipeptide.h5msm')"
   ]
  },
  {
   "cell_type": "code",
   "execution_count": null,
   "id": "63518558-573b-4681-bb28-a6e11098e69f",
   "metadata": {},
   "outputs": [],
   "source": [
    "# quiero llegar aqui:\n",
    "# msm.convert(tests_systems['proline dipeptide']['proline_dipeptide.msmpk'], to_form='molsysmt.MolSys')"
   ]
  }
 ],
 "metadata": {
  "kernelspec": {
   "display_name": "Python 3 (ipykernel)",
   "language": "python",
   "name": "python3"
  },
  "language_info": {
   "codemirror_mode": {
    "name": "ipython",
    "version": 3
   },
   "file_extension": ".py",
   "mimetype": "text/x-python",
   "name": "python",
   "nbconvert_exporter": "python",
   "pygments_lexer": "ipython3",
   "version": "3.10.12"
  }
 },
 "nbformat": 4,
 "nbformat_minor": 5
}
