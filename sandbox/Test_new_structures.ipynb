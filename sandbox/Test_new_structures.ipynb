{
 "cells": [
  {
   "cell_type": "code",
   "execution_count": 1,
   "id": "77e6c021-6745-44dd-907e-6658f5b3820b",
   "metadata": {},
   "outputs": [],
   "source": [
    "%load_ext autoreload\n",
    "%autoreload 2"
   ]
  },
  {
   "cell_type": "markdown",
   "id": "36347de3-e9be-4e7e-a57c-75b89cb03bee",
   "metadata": {},
   "source": [
    "# Making systems"
   ]
  },
  {
   "cell_type": "code",
   "execution_count": 2,
   "id": "3f426a92-9fc6-4c1f-a987-cfc0e4792b99",
   "metadata": {},
   "outputs": [
    {
     "data": {
      "application/vnd.jupyter.widget-view+json": {
       "model_id": "432899d937984335b89e737b3a7e7a7d",
       "version_major": 2,
       "version_minor": 0
      },
      "text/plain": []
     },
     "metadata": {},
     "output_type": "display_data"
    }
   ],
   "source": [
    "import molsysmt as msm"
   ]
  },
  {
   "cell_type": "code",
   "execution_count": 3,
   "id": "59e98218-c817-4b07-8708-6a843ef0831d",
   "metadata": {},
   "outputs": [],
   "source": [
    "molsys = msm.build.build_peptide('AceAlaNme', to_form='molsysmt.MolSys')"
   ]
  },
  {
   "cell_type": "code",
   "execution_count": 4,
   "id": "f74c3b2f-2373-45f7-97c9-4f703cb585ad",
   "metadata": {},
   "outputs": [
    {
     "data": {
      "text/html": [
       "<div>\n",
       "<style scoped>\n",
       "    .dataframe tbody tr th:only-of-type {\n",
       "        vertical-align: middle;\n",
       "    }\n",
       "\n",
       "    .dataframe tbody tr th {\n",
       "        vertical-align: top;\n",
       "    }\n",
       "\n",
       "    .dataframe thead th {\n",
       "        text-align: right;\n",
       "    }\n",
       "</style>\n",
       "<table border=\"1\" class=\"dataframe\">\n",
       "  <thead>\n",
       "    <tr style=\"text-align: right;\">\n",
       "      <th></th>\n",
       "      <th>chain_id</th>\n",
       "      <th>chain_name</th>\n",
       "      <th>chain_type</th>\n",
       "    </tr>\n",
       "  </thead>\n",
       "  <tbody>\n",
       "    <tr>\n",
       "      <th>0</th>\n",
       "      <td>0</td>\n",
       "      <td>1</td>\n",
       "      <td>system</td>\n",
       "    </tr>\n",
       "  </tbody>\n",
       "</table>\n",
       "</div>"
      ],
      "text/plain": [
       "   chain_id chain_name chain_type\n",
       "0         0          1     system"
      ]
     },
     "execution_count": 4,
     "metadata": {},
     "output_type": "execute_result"
    }
   ],
   "source": [
    "molsys.topology.chains"
   ]
  },
  {
   "cell_type": "code",
   "execution_count": null,
   "id": "139383ea-d2bb-4d40-87d4-7997851b8aaa",
   "metadata": {},
   "outputs": [],
   "source": [
    "msm.convert(molsys, to_form='alaline_dipeptide.h5msm')"
   ]
  },
  {
   "cell_type": "code",
   "execution_count": null,
   "id": "5aff8dc6-29ac-4024-b4df-f2c8e100b0d5",
   "metadata": {},
   "outputs": [],
   "source": [
    "molsys_Topology = msm.build.build_peptide('AceProNme', to_form='openmm.Topology')"
   ]
  },
  {
   "cell_type": "code",
   "execution_count": null,
   "id": "25d176b3-cc4c-407b-acea-c6c06ed492ff",
   "metadata": {},
   "outputs": [],
   "source": [
    "bond_order_array = np.empty(n_bonds, dtype=object)"
   ]
  },
  {
   "cell_type": "code",
   "execution_count": null,
   "id": "5d7be63c-f134-4699-9ed4-a4c65c272c4b",
   "metadata": {},
   "outputs": [],
   "source": [
    "import numpy as np"
   ]
  },
  {
   "cell_type": "code",
   "execution_count": null,
   "id": "c4dc0250-65a8-43f9-98f4-b453020c6021",
   "metadata": {},
   "outputs": [],
   "source": [
    "for bond in molsys.bonds():\n",
    "    print(bond.order)"
   ]
  },
  {
   "cell_type": "code",
   "execution_count": null,
   "id": "f8e7e6c3-0931-4335-99c5-3080e3ca5881",
   "metadata": {},
   "outputs": [],
   "source": [
    "molsys.topology.bonds"
   ]
  },
  {
   "cell_type": "code",
   "execution_count": null,
   "id": "32626d0a-3913-4e58-a717-2d13a163f617",
   "metadata": {},
   "outputs": [],
   "source": [
    "molsys.topology.chains['chain_type'].to_numpy(dtype=str, na_value=np.nan)"
   ]
  },
  {
   "cell_type": "code",
   "execution_count": null,
   "id": "e908bd05-cb84-4594-8812-7d1dbe66daf5",
   "metadata": {},
   "outputs": [],
   "source": [
    "msm.convert(molsys, to_form='proline_dipeptide.h5msm')"
   ]
  },
  {
   "cell_type": "code",
   "execution_count": null,
   "id": "63518558-573b-4681-bb28-a6e11098e69f",
   "metadata": {},
   "outputs": [],
   "source": [
    "# quiero llegar aqui:\n",
    "# msm.convert(tests_systems['proline dipeptide']['proline_dipeptide.msmpk'], to_form='molsysmt.MolSys')"
   ]
  },
  {
   "cell_type": "code",
   "execution_count": null,
   "id": "d39e49c9-6fb6-48e4-b9e5-114be3f40c92",
   "metadata": {},
   "outputs": [],
   "source": [
    "aux = ['aaa']"
   ]
  },
  {
   "cell_type": "code",
   "execution_count": null,
   "id": "0277ea35-4b8b-4126-bced-f9b025b425b5",
   "metadata": {},
   "outputs": [],
   "source": [
    "' + '.join(aux)"
   ]
  },
  {
   "cell_type": "code",
   "execution_count": null,
   "id": "19802ea5-123e-44b3-89ae-03482bfe6a91",
   "metadata": {},
   "outputs": [],
   "source": []
  }
 ],
 "metadata": {
  "kernelspec": {
   "display_name": "Python 3 (ipykernel)",
   "language": "python",
   "name": "python3"
  },
  "language_info": {
   "codemirror_mode": {
    "name": "ipython",
    "version": 3
   },
   "file_extension": ".py",
   "mimetype": "text/x-python",
   "name": "python",
   "nbconvert_exporter": "python",
   "pygments_lexer": "ipython3",
   "version": "3.10.13"
  }
 },
 "nbformat": 4,
 "nbformat_minor": 5
}
