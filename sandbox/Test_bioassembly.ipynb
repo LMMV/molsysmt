{
 "cells": [
  {
   "cell_type": "code",
   "execution_count": 1,
   "metadata": {},
   "outputs": [],
   "source": [
    "%load_ext autoreload\n",
    "%autoreload 2"
   ]
  },
  {
   "cell_type": "code",
   "execution_count": 2,
   "metadata": {},
   "outputs": [
    {
     "data": {
      "application/vnd.jupyter.widget-view+json": {
       "model_id": "0c2bb75e932a4e2c880371052ff61e8a",
       "version_major": 2,
       "version_minor": 0
      },
      "text/plain": []
     },
     "metadata": {},
     "output_type": "display_data"
    }
   ],
   "source": [
    "import molsysmt as msm"
   ]
  },
  {
   "cell_type": "code",
   "execution_count": 3,
   "metadata": {},
   "outputs": [],
   "source": [
    "molsys = msm.convert('1HKC')"
   ]
  },
  {
   "cell_type": "code",
   "execution_count": 4,
   "metadata": {},
   "outputs": [],
   "source": [
    "mmtf = msm.convert('1HKC', to_form='mmtf.MMTFDecoder')"
   ]
  },
  {
   "cell_type": "code",
   "execution_count": 5,
   "metadata": {},
   "outputs": [
    {
     "data": {
      "text/html": [
       "<style type=\"text/css\">\n",
       "</style>\n",
       "<table id=\"T_d9c78\">\n",
       "  <thead>\n",
       "    <tr>\n",
       "      <th id=\"T_d9c78_level0_col0\" class=\"col_heading level0 col0\" >index</th>\n",
       "      <th id=\"T_d9c78_level0_col1\" class=\"col_heading level0 col1\" >id</th>\n",
       "      <th id=\"T_d9c78_level0_col2\" class=\"col_heading level0 col2\" >name</th>\n",
       "      <th id=\"T_d9c78_level0_col3\" class=\"col_heading level0 col3\" >n atoms</th>\n",
       "      <th id=\"T_d9c78_level0_col4\" class=\"col_heading level0 col4\" >n groups</th>\n",
       "      <th id=\"T_d9c78_level0_col5\" class=\"col_heading level0 col5\" >n components</th>\n",
       "      <th id=\"T_d9c78_level0_col6\" class=\"col_heading level0 col6\" >molecule index</th>\n",
       "      <th id=\"T_d9c78_level0_col7\" class=\"col_heading level0 col7\" >molecule type</th>\n",
       "      <th id=\"T_d9c78_level0_col8\" class=\"col_heading level0 col8\" >entity index</th>\n",
       "      <th id=\"T_d9c78_level0_col9\" class=\"col_heading level0 col9\" >entity name</th>\n",
       "    </tr>\n",
       "  </thead>\n",
       "  <tbody>\n",
       "    <tr>\n",
       "      <td id=\"T_d9c78_row0_col0\" class=\"data row0 col0\" >0</td>\n",
       "      <td id=\"T_d9c78_row0_col1\" class=\"data row0 col1\" >A</td>\n",
       "      <td id=\"T_d9c78_row0_col2\" class=\"data row0 col2\" >A</td>\n",
       "      <td id=\"T_d9c78_row0_col3\" class=\"data row0 col3\" >7032</td>\n",
       "      <td id=\"T_d9c78_row0_col4\" class=\"data row0 col4\" >899</td>\n",
       "      <td id=\"T_d9c78_row0_col5\" class=\"data row0 col5\" >1</td>\n",
       "      <td id=\"T_d9c78_row0_col6\" class=\"data row0 col6\" >0</td>\n",
       "      <td id=\"T_d9c78_row0_col7\" class=\"data row0 col7\" >protein</td>\n",
       "      <td id=\"T_d9c78_row0_col8\" class=\"data row0 col8\" >0</td>\n",
       "      <td id=\"T_d9c78_row0_col9\" class=\"data row0 col9\" >D-glucose 6-phosphotransferase</td>\n",
       "    </tr>\n",
       "    <tr>\n",
       "      <td id=\"T_d9c78_row1_col0\" class=\"data row1 col0\" >1</td>\n",
       "      <td id=\"T_d9c78_row1_col1\" class=\"data row1 col1\" >B</td>\n",
       "      <td id=\"T_d9c78_row1_col2\" class=\"data row1 col2\" >A</td>\n",
       "      <td id=\"T_d9c78_row1_col3\" class=\"data row1 col3\" >12</td>\n",
       "      <td id=\"T_d9c78_row1_col4\" class=\"data row1 col4\" >1</td>\n",
       "      <td id=\"T_d9c78_row1_col5\" class=\"data row1 col5\" >1</td>\n",
       "      <td id=\"T_d9c78_row1_col6\" class=\"data row1 col6\" >1</td>\n",
       "      <td id=\"T_d9c78_row1_col7\" class=\"data row1 col7\" >small molecule</td>\n",
       "      <td id=\"T_d9c78_row1_col8\" class=\"data row1 col8\" >1</td>\n",
       "      <td id=\"T_d9c78_row1_col9\" class=\"data row1 col9\" >Beta-d-glucopyranose</td>\n",
       "    </tr>\n",
       "    <tr>\n",
       "      <td id=\"T_d9c78_row2_col0\" class=\"data row2 col0\" >2</td>\n",
       "      <td id=\"T_d9c78_row2_col1\" class=\"data row2 col1\" >C</td>\n",
       "      <td id=\"T_d9c78_row2_col2\" class=\"data row2 col2\" >A</td>\n",
       "      <td id=\"T_d9c78_row2_col3\" class=\"data row2 col3\" >5</td>\n",
       "      <td id=\"T_d9c78_row2_col4\" class=\"data row2 col4\" >1</td>\n",
       "      <td id=\"T_d9c78_row2_col5\" class=\"data row2 col5\" >1</td>\n",
       "      <td id=\"T_d9c78_row2_col6\" class=\"data row2 col6\" >2</td>\n",
       "      <td id=\"T_d9c78_row2_col7\" class=\"data row2 col7\" >ion</td>\n",
       "      <td id=\"T_d9c78_row2_col8\" class=\"data row2 col8\" >2</td>\n",
       "      <td id=\"T_d9c78_row2_col9\" class=\"data row2 col9\" >Phosphate ion</td>\n",
       "    </tr>\n",
       "    <tr>\n",
       "      <td id=\"T_d9c78_row3_col0\" class=\"data row3 col0\" >3</td>\n",
       "      <td id=\"T_d9c78_row3_col1\" class=\"data row3 col1\" >D</td>\n",
       "      <td id=\"T_d9c78_row3_col2\" class=\"data row3 col2\" >A</td>\n",
       "      <td id=\"T_d9c78_row3_col3\" class=\"data row3 col3\" >5</td>\n",
       "      <td id=\"T_d9c78_row3_col4\" class=\"data row3 col4\" >1</td>\n",
       "      <td id=\"T_d9c78_row3_col5\" class=\"data row3 col5\" >1</td>\n",
       "      <td id=\"T_d9c78_row3_col6\" class=\"data row3 col6\" >3</td>\n",
       "      <td id=\"T_d9c78_row3_col7\" class=\"data row3 col7\" >ion</td>\n",
       "      <td id=\"T_d9c78_row3_col8\" class=\"data row3 col8\" >2</td>\n",
       "      <td id=\"T_d9c78_row3_col9\" class=\"data row3 col9\" >Phosphate ion</td>\n",
       "    </tr>\n",
       "    <tr>\n",
       "      <td id=\"T_d9c78_row4_col0\" class=\"data row4 col0\" >4</td>\n",
       "      <td id=\"T_d9c78_row4_col1\" class=\"data row4 col1\" >E</td>\n",
       "      <td id=\"T_d9c78_row4_col2\" class=\"data row4 col2\" >A</td>\n",
       "      <td id=\"T_d9c78_row4_col3\" class=\"data row4 col3\" >1</td>\n",
       "      <td id=\"T_d9c78_row4_col4\" class=\"data row4 col4\" >1</td>\n",
       "      <td id=\"T_d9c78_row4_col5\" class=\"data row4 col5\" >1</td>\n",
       "      <td id=\"T_d9c78_row4_col6\" class=\"data row4 col6\" >4</td>\n",
       "      <td id=\"T_d9c78_row4_col7\" class=\"data row4 col7\" >ion</td>\n",
       "      <td id=\"T_d9c78_row4_col8\" class=\"data row4 col8\" >3</td>\n",
       "      <td id=\"T_d9c78_row4_col9\" class=\"data row4 col9\" >Potassium ion</td>\n",
       "    </tr>\n",
       "    <tr>\n",
       "      <td id=\"T_d9c78_row5_col0\" class=\"data row5 col0\" >5</td>\n",
       "      <td id=\"T_d9c78_row5_col1\" class=\"data row5 col1\" >F</td>\n",
       "      <td id=\"T_d9c78_row5_col2\" class=\"data row5 col2\" >A</td>\n",
       "      <td id=\"T_d9c78_row5_col3\" class=\"data row5 col3\" >1</td>\n",
       "      <td id=\"T_d9c78_row5_col4\" class=\"data row5 col4\" >1</td>\n",
       "      <td id=\"T_d9c78_row5_col5\" class=\"data row5 col5\" >1</td>\n",
       "      <td id=\"T_d9c78_row5_col6\" class=\"data row5 col6\" >5</td>\n",
       "      <td id=\"T_d9c78_row5_col7\" class=\"data row5 col7\" >ion</td>\n",
       "      <td id=\"T_d9c78_row5_col8\" class=\"data row5 col8\" >3</td>\n",
       "      <td id=\"T_d9c78_row5_col9\" class=\"data row5 col9\" >Potassium ion</td>\n",
       "    </tr>\n",
       "    <tr>\n",
       "      <td id=\"T_d9c78_row6_col0\" class=\"data row6 col0\" >6</td>\n",
       "      <td id=\"T_d9c78_row6_col1\" class=\"data row6 col1\" >G</td>\n",
       "      <td id=\"T_d9c78_row6_col2\" class=\"data row6 col2\" >A</td>\n",
       "      <td id=\"T_d9c78_row6_col3\" class=\"data row6 col3\" >150</td>\n",
       "      <td id=\"T_d9c78_row6_col4\" class=\"data row6 col4\" >150</td>\n",
       "      <td id=\"T_d9c78_row6_col5\" class=\"data row6 col5\" >150</td>\n",
       "      <td id=\"T_d9c78_row6_col6\" class=\"data row6 col6\" >[  6   7   8   9  10  11  12  13  14  15  16  17  18  19  20  21  22  23\n",
       "  24  25  26  27  28  29  30  31  32  33  34  35  36  37  38  39  40  41\n",
       "  42  43  44  45  46  47  48  49  50  51  52  53  54  55  56  57  58  59\n",
       "  60  61  62  63  64  65  66  67  68  69  70  71  72  73  74  75  76  77\n",
       "  78  79  80  81  82  83  84  85  86  87  88  89  90  91  92  93  94  95\n",
       "  96  97  98  99 100 101 102 103 104 105 106 107 108 109 110 111 112 113\n",
       " 114 115 116 117 118 119 120 121 122 123 124 125 126 127 128 129 130 131\n",
       " 132 133 134 135 136 137 138 139 140 141 142 143 144 145 146 147 148 149\n",
       " 150 151 152 153 154 155]</td>\n",
       "      <td id=\"T_d9c78_row6_col7\" class=\"data row6 col7\" >['water' 'water' 'water' 'water' 'water' 'water' 'water' 'water' 'water'\n",
       " 'water' 'water' 'water' 'water' 'water' 'water' 'water' 'water' 'water'\n",
       " 'water' 'water' 'water' 'water' 'water' 'water' 'water' 'water' 'water'\n",
       " 'water' 'water' 'water' 'water' 'water' 'water' 'water' 'water' 'water'\n",
       " 'water' 'water' 'water' 'water' 'water' 'water' 'water' 'water' 'water'\n",
       " 'water' 'water' 'water' 'water' 'water' 'water' 'water' 'water' 'water'\n",
       " 'water' 'water' 'water' 'water' 'water' 'water' 'water' 'water' 'water'\n",
       " 'water' 'water' 'water' 'water' 'water' 'water' 'water' 'water' 'water'\n",
       " 'water' 'water' 'water' 'water' 'water' 'water' 'water' 'water' 'water'\n",
       " 'water' 'water' 'water' 'water' 'water' 'water' 'water' 'water' 'water'\n",
       " 'water' 'water' 'water' 'water' 'water' 'water' 'water' 'water' 'water'\n",
       " 'water' 'water' 'water' 'water' 'water' 'water' 'water' 'water' 'water'\n",
       " 'water' 'water' 'water' 'water' 'water' 'water' 'water' 'water' 'water'\n",
       " 'water' 'water' 'water' 'water' 'water' 'water' 'water' 'water' 'water'\n",
       " 'water' 'water' 'water' 'water' 'water' 'water' 'water' 'water' 'water'\n",
       " 'water' 'water' 'water' 'water' 'water' 'water' 'water' 'water' 'water'\n",
       " 'water' 'water' 'water' 'water' 'water' 'water']</td>\n",
       "      <td id=\"T_d9c78_row6_col8\" class=\"data row6 col8\" >4</td>\n",
       "      <td id=\"T_d9c78_row6_col9\" class=\"data row6 col9\" >water</td>\n",
       "    </tr>\n",
       "  </tbody>\n",
       "</table>\n"
      ],
      "text/plain": [
       "<pandas.io.formats.style.Styler at 0x7ffa0ffb70a0>"
      ]
     },
     "execution_count": 5,
     "metadata": {},
     "output_type": "execute_result"
    }
   ],
   "source": [
    "msm.info(molsys, element='chain')"
   ]
  },
  {
   "cell_type": "code",
   "execution_count": 6,
   "metadata": {},
   "outputs": [],
   "source": [
    "bioassemblies = msm.item.mmtf_MMTFDecoder.get_bioassemblies_from_system(mmtf)"
   ]
  },
  {
   "cell_type": "code",
   "execution_count": 7,
   "metadata": {},
   "outputs": [
    {
     "data": {
      "text/plain": [
       "{'1': {'chains': [[0, 1, 2, 3, 4, 5, 6], [0, 1, 2, 3, 4, 5, 6]],\n",
       "  'rotations': [array([[1., 0., 0.],\n",
       "          [0., 1., 0.],\n",
       "          [0., 0., 1.]]),\n",
       "   array([[ 1.,  0.,  0.],\n",
       "          [ 0., -1.,  0.],\n",
       "          [ 0.,  0., -1.]])],\n",
       "  'translations': [array([0., 0., 0.]) <Unit('nanometer')>,\n",
       "   array([ 0.        , 30.32647759,  3.31566667]) <Unit('nanometer')>]}}"
      ]
     },
     "execution_count": 7,
     "metadata": {},
     "output_type": "execute_result"
    }
   ],
   "source": [
    "bioassemblies"
   ]
  },
  {
   "cell_type": "code",
   "execution_count": 8,
   "metadata": {},
   "outputs": [],
   "source": [
    "molsys = msm.build.make_bioassembly(molsys, bioassembly=bioassemblies['1'])"
   ]
  },
  {
   "cell_type": "code",
   "execution_count": 9,
   "metadata": {},
   "outputs": [
    {
     "data": {
      "application/vnd.jupyter.widget-view+json": {
       "model_id": "d4b4da6e7aeb420598e6e2a772d9d566",
       "version_major": 2,
       "version_minor": 0
      },
      "text/plain": [
       "NGLWidget()"
      ]
     },
     "metadata": {},
     "output_type": "display_data"
    }
   ],
   "source": [
    "msm.view(molsys, standardize=True)"
   ]
  },
  {
   "cell_type": "code",
   "execution_count": null,
   "metadata": {},
   "outputs": [],
   "source": []
  }
 ],
 "metadata": {
  "kernelspec": {
   "display_name": "Python 3 (ipykernel)",
   "language": "python",
   "name": "python3"
  },
  "language_info": {
   "codemirror_mode": {
    "name": "ipython",
    "version": 3
   },
   "file_extension": ".py",
   "mimetype": "text/x-python",
   "name": "python",
   "nbconvert_exporter": "python",
   "pygments_lexer": "ipython3",
   "version": "3.9.15"
  }
 },
 "nbformat": 4,
 "nbformat_minor": 4
}
