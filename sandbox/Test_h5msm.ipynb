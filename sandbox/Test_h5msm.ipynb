{
 "cells": [
  {
   "cell_type": "markdown",
   "id": "85d75849-5640-43b7-8b93-87cdbf6b8792",
   "metadata": {},
   "source": [
    "# Test h5msm"
   ]
  },
  {
   "cell_type": "code",
   "execution_count": 1,
   "id": "08aee8bc-0efe-44a5-9aa6-24131ae8137e",
   "metadata": {},
   "outputs": [
    {
     "data": {
      "application/vnd.jupyter.widget-view+json": {
       "model_id": "ffcb49f4d93341098858801ce5fb89aa",
       "version_major": 2,
       "version_minor": 0
      },
      "text/plain": []
     },
     "metadata": {},
     "output_type": "display_data"
    }
   ],
   "source": [
    "import molsysmt as msm"
   ]
  },
  {
   "cell_type": "code",
   "execution_count": 2,
   "id": "0b86f8ec-45bf-471a-9958-ebb3d1b07f3e",
   "metadata": {},
   "outputs": [
    {
     "data": {
      "text/plain": [
       "'file:h5msm'"
      ]
     },
     "execution_count": 2,
     "metadata": {},
     "output_type": "execute_result"
    }
   ],
   "source": [
    "msm.get_form('traj.h5msm')"
   ]
  },
  {
   "cell_type": "code",
   "execution_count": 3,
   "id": "4e71b99c-e054-4926-8eb3-e583ef94bc81",
   "metadata": {},
   "outputs": [],
   "source": [
    "box = msm.get('traj.h5msm', box=True)"
   ]
  },
  {
   "cell_type": "code",
   "execution_count": 5,
   "id": "e8907741-45f4-40b5-8699-66f92930605b",
   "metadata": {},
   "outputs": [
    {
     "data": {
      "application/vnd.jupyter.widget-view+json": {
       "model_id": "8a48c66821f048ccb25a950566fb7113",
       "version_major": 2,
       "version_minor": 0
      },
      "text/plain": [
       "NGLWidget(max_frame=10)"
      ]
     },
     "metadata": {},
     "output_type": "display_data"
    }
   ],
   "source": [
    "msm.view('traj.h5msm', selection='molecule_type==\"protein\"', with_water_as='licorice')"
   ]
  },
  {
   "cell_type": "code",
   "execution_count": null,
   "id": "937467c9-8335-4a58-b5a5-9862dfa1267a",
   "metadata": {},
   "outputs": [],
   "source": []
  }
 ],
 "metadata": {
  "kernelspec": {
   "display_name": "Python 3 (ipykernel)",
   "language": "python",
   "name": "python3"
  },
  "language_info": {
   "codemirror_mode": {
    "name": "ipython",
    "version": 3
   },
   "file_extension": ".py",
   "mimetype": "text/x-python",
   "name": "python",
   "nbconvert_exporter": "python",
   "pygments_lexer": "ipython3",
   "version": "3.10.13"
  }
 },
 "nbformat": 4,
 "nbformat_minor": 5
}
