{
 "cells": [
  {
   "cell_type": "code",
   "execution_count": 1,
   "id": "db4115ee-e057-4efc-9cb8-f021f9a10a13",
   "metadata": {},
   "outputs": [],
   "source": [
    "%load_ext autoreload\n",
    "%autoreload 2"
   ]
  },
  {
   "cell_type": "code",
   "execution_count": 2,
   "id": "296b503c-3406-4f67-a39a-ec594f505882",
   "metadata": {},
   "outputs": [
    {
     "data": {
      "application/vnd.jupyter.widget-view+json": {
       "model_id": "fed21d877e4548b486976f53576eac5a",
       "version_major": 2,
       "version_minor": 0
      },
      "text/plain": []
     },
     "metadata": {},
     "output_type": "display_data"
    }
   ],
   "source": [
    "import molsysmt as msm"
   ]
  },
  {
   "cell_type": "code",
   "execution_count": 3,
   "id": "44786158-748b-4eac-a92b-d9598b82edb3",
   "metadata": {},
   "outputs": [
    {
     "name": "stderr",
     "output_type": "stream",
     "text": [
      "/home/diego/projects@dprada/MolSysMT/molsysmt/file/file_handler.py:29: NotDigestedArgumentWarning: The mode from molsysmt.basic.convert.convert argument was not digested.Check  for more information. If you still need help, open a new issue in https://github.com/uibcdf/MolSysMT/issues.\n",
      "  self.handler = convert(self.absolute_path, to_form=self.handler_form, mode=self.mode)\n",
      "/home/diego/projects@dprada/MolSysMT/molsysmt/api_forms/api_file_h5.py:66: NotDigestedArgumentWarning: The mode from molsysmt.form.file_h5.to_mdtraj_HDF5TrajectoryFile.to_mdtraj_HDF5TrajectoryFile argument was not digested.Check  for more information. If you still need help, open a new issue in https://github.com/uibcdf/MolSysMT/issues.\n",
      "  tmp_item = file_h5_to_mdtraj_HDF5TrajectoryFile(item, atom_indices=atom_indices,\n"
     ]
    }
   ],
   "source": [
    "msm.file.open('test.h5')"
   ]
  },
  {
   "cell_type": "code",
   "execution_count": 4,
   "id": "827e3697-1827-48b5-85eb-736380e5778e",
   "metadata": {},
   "outputs": [
    {
     "data": {
      "text/plain": [
       "{'/home/diego/projects@dprada/MolSysMT/sandbox/test.h5': <molsysmt.file.file_handler.FileHandler at 0x7f2c206ae370>}"
      ]
     },
     "execution_count": 4,
     "metadata": {},
     "output_type": "execute_result"
    }
   ],
   "source": [
    "msm.file.handler"
   ]
  },
  {
   "cell_type": "code",
   "execution_count": 5,
   "id": "b20e4bb5-6dff-4347-ba9f-d2929eee3a20",
   "metadata": {},
   "outputs": [],
   "source": [
    "msm.file.close('test.h5')"
   ]
  },
  {
   "cell_type": "code",
   "execution_count": 6,
   "id": "cf19c02a-38a9-44a0-bdd9-5fc75c6fd392",
   "metadata": {},
   "outputs": [
    {
     "data": {
      "text/plain": [
       "{}"
      ]
     },
     "execution_count": 6,
     "metadata": {},
     "output_type": "execute_result"
    }
   ],
   "source": [
    "msm.file.handler"
   ]
  },
  {
   "cell_type": "code",
   "execution_count": null,
   "id": "4c6c7199-9a45-43e2-b9ae-a0fe51d4e48a",
   "metadata": {},
   "outputs": [],
   "source": []
  }
 ],
 "metadata": {
  "kernelspec": {
   "display_name": "Python 3 (ipykernel)",
   "language": "python",
   "name": "python3"
  },
  "language_info": {
   "codemirror_mode": {
    "name": "ipython",
    "version": 3
   },
   "file_extension": ".py",
   "mimetype": "text/x-python",
   "name": "python",
   "nbconvert_exporter": "python",
   "pygments_lexer": "ipython3",
   "version": "3.9.15"
  }
 },
 "nbformat": 4,
 "nbformat_minor": 5
}
