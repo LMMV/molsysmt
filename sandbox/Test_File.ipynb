{
 "cells": [
  {
   "cell_type": "code",
   "execution_count": 1,
   "id": "db4115ee-e057-4efc-9cb8-f021f9a10a13",
   "metadata": {},
   "outputs": [],
   "source": [
    "%load_ext autoreload\n",
    "%autoreload 2"
   ]
  },
  {
   "cell_type": "code",
   "execution_count": 2,
   "id": "296b503c-3406-4f67-a39a-ec594f505882",
   "metadata": {},
   "outputs": [
    {
     "data": {
      "application/vnd.jupyter.widget-view+json": {
       "model_id": "bfe6446e8c654beaa212b948d5920b8e",
       "version_major": 2,
       "version_minor": 0
      },
      "text/plain": []
     },
     "metadata": {},
     "output_type": "display_data"
    }
   ],
   "source": [
    "import molsysmt as msm"
   ]
  },
  {
   "cell_type": "code",
   "execution_count": 3,
   "id": "44786158-748b-4eac-a92b-d9598b82edb3",
   "metadata": {},
   "outputs": [],
   "source": [
    "msm.file.open('test.h5')"
   ]
  },
  {
   "cell_type": "code",
   "execution_count": 4,
   "id": "827e3697-1827-48b5-85eb-736380e5778e",
   "metadata": {},
   "outputs": [
    {
     "data": {
      "text/plain": [
       "{'/home/diego/projects@dprada/MolSysMT/sandbox/test.h5': <molsysmt.file.file_handler.FileHandler at 0x7fc6703dfa00>}"
      ]
     },
     "execution_count": 4,
     "metadata": {},
     "output_type": "execute_result"
    }
   ],
   "source": [
    "msm.file.files_handled"
   ]
  },
  {
   "cell_type": "code",
   "execution_count": 5,
   "id": "b20e4bb5-6dff-4347-ba9f-d2929eee3a20",
   "metadata": {},
   "outputs": [],
   "source": [
    "msm.file.close('test.h5')"
   ]
  },
  {
   "cell_type": "code",
   "execution_count": 6,
   "id": "4c6c7199-9a45-43e2-b9ae-a0fe51d4e48a",
   "metadata": {},
   "outputs": [],
   "source": [
    "msm.file.get_mode('test.h5')"
   ]
  },
  {
   "cell_type": "code",
   "execution_count": null,
   "id": "a3695be2-d9ad-4287-bd0d-cef98ddba67c",
   "metadata": {},
   "outputs": [],
   "source": []
  }
 ],
 "metadata": {
  "kernelspec": {
   "display_name": "Python 3 (ipykernel)",
   "language": "python",
   "name": "python3"
  },
  "language_info": {
   "codemirror_mode": {
    "name": "ipython",
    "version": 3
   },
   "file_extension": ".py",
   "mimetype": "text/x-python",
   "name": "python",
   "nbconvert_exporter": "python",
   "pygments_lexer": "ipython3",
   "version": "3.9.15"
  }
 },
 "nbformat": 4,
 "nbformat_minor": 5
}
