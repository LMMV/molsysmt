{
 "cells": [
  {
   "cell_type": "code",
   "execution_count": 1,
   "id": "b66433e0-2490-486b-9b95-7b78c31ea5b3",
   "metadata": {},
   "outputs": [
    {
     "data": {
      "application/vnd.jupyter.widget-view+json": {
       "model_id": "73dac89fba7049b6a15b42800f4e24b7",
       "version_major": 2,
       "version_minor": 0
      },
      "text/plain": []
     },
     "metadata": {},
     "output_type": "display_data"
    }
   ],
   "source": [
    "import molsysmt as msm"
   ]
  },
  {
   "cell_type": "code",
   "execution_count": 2,
   "id": "3d09005e-906b-4b85-acc2-1d080d2a369a",
   "metadata": {},
   "outputs": [],
   "source": [
    "molsys_2NZT = msm.convert('2NZT')\n",
    "molsys_2NZT = msm.remove(molsys_2NZT, selection='group_type==[\"ion\",\"water\"]')"
   ]
  },
  {
   "cell_type": "code",
   "execution_count": 3,
   "id": "c5135803-5547-44be-a906-6af834e3ab59",
   "metadata": {},
   "outputs": [],
   "source": [
    "molsys_model = msm.convert('AF-P52789-F1')"
   ]
  },
  {
   "cell_type": "code",
   "execution_count": 4,
   "id": "cbaafae5-2a38-452b-8597-e2b8cbd39c9e",
   "metadata": {},
   "outputs": [],
   "source": [
    "molsys_mon1 = msm.structure.least_rmsd_align(molsys_model, selection='atom_name==\"CA\"',\n",
    "                                             reference_molecular_system=molsys_2NZT,\n",
    "                                             reference_selection='molecule_index==0 and atom_name==\"CA\"',\n",
    "                                             in_place=False)\n",
    "\n",
    "molsys_mon2 = msm.structure.least_rmsd_align(molsys_model, selection='atom_name==\"CA\"',\n",
    "                                             reference_molecular_system=molsys_2NZT,\n",
    "                                             reference_selection='molecule_index==1 and atom_name==\"CA\"',\n",
    "                                             in_place=False)"
   ]
  },
  {
   "cell_type": "code",
   "execution_count": 5,
   "id": "6eb6cb27-d92f-402e-805b-f9bf8174b3ee",
   "metadata": {},
   "outputs": [],
   "source": [
    "molsys = msm.merge([molsys_mon1, molsys_mon2])"
   ]
  },
  {
   "cell_type": "code",
   "execution_count": 8,
   "id": "e3da72e4-de93-4289-aa93-6ee25bc5eea0",
   "metadata": {},
   "outputs": [],
   "source": [
    "view = msm.view([molsys_2NZT, molsys])"
   ]
  },
  {
   "cell_type": "code",
   "execution_count": 9,
   "id": "779f2801-e3b2-4fe7-b032-b6babffe803e",
   "metadata": {},
   "outputs": [
    {
     "data": {
      "application/vnd.jupyter.widget-view+json": {
       "model_id": "16759bba1ef84b18a55c2a101217964e",
       "version_major": 2,
       "version_minor": 0
      },
      "text/plain": [
       "NGLWidget()"
      ]
     },
     "metadata": {},
     "output_type": "display_data"
    }
   ],
   "source": [
    "view"
   ]
  },
  {
   "cell_type": "code",
   "execution_count": 13,
   "id": "497bc088-5549-41db-8362-fb9b5ebf5d4d",
   "metadata": {},
   "outputs": [],
   "source": [
    "msm.thirds.nglview.clear(view)"
   ]
  },
  {
   "cell_type": "code",
   "execution_count": 14,
   "id": "49ef82be-8c4d-4bcb-b0da-1ef721c85af0",
   "metadata": {},
   "outputs": [],
   "source": [
    "msm.thirds.nglview.show_as_cartoon(view, selection='component_index in [0,1,2,3,4,5]', color='purple')\n",
    "msm.thirds.nglview.show_as_cartoon(view, selection='component_index in [6,7,8,9,10,11,12]', color='purple')\n",
    "msm.thirds.nglview.show_as_cartoon(view, selection='component_index==21', color='orange')\n",
    "msm.thirds.nglview.show_as_cartoon(view, selection='component_index==22', color='orange')"
   ]
  },
  {
   "cell_type": "code",
   "execution_count": 15,
   "id": "3d4f5a01-aede-4baa-8d75-85d8ef064f8b",
   "metadata": {},
   "outputs": [],
   "source": [
    "msm.thirds.nglview.show_as_balls_and_sticks(view, selection='group_type==\"saccharide\"')"
   ]
  },
  {
   "cell_type": "code",
   "execution_count": null,
   "id": "851f422f-5d2c-4586-94ba-064f64d73f4e",
   "metadata": {},
   "outputs": [],
   "source": []
  }
 ],
 "metadata": {
  "kernelspec": {
   "display_name": "Python 3 (ipykernel)",
   "language": "python",
   "name": "python3"
  },
  "language_info": {
   "codemirror_mode": {
    "name": "ipython",
    "version": 3
   },
   "file_extension": ".py",
   "mimetype": "text/x-python",
   "name": "python",
   "nbconvert_exporter": "python",
   "pygments_lexer": "ipython3",
   "version": "3.12.8"
  }
 },
 "nbformat": 4,
 "nbformat_minor": 5
}
