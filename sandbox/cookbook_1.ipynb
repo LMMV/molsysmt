{
 "cells": [
  {
   "cell_type": "code",
   "execution_count": 1,
   "id": "c7c15634-8b62-4c09-abce-c3fe52a9f423",
   "metadata": {},
   "outputs": [],
   "source": [
    "%load_ext autoreload\n",
    "%autoreload 2"
   ]
  },
  {
   "cell_type": "code",
   "execution_count": 2,
   "id": "1837b3fc-3eab-40a2-a724-f26b2ec36bca",
   "metadata": {},
   "outputs": [
    {
     "data": {
      "application/vnd.jupyter.widget-view+json": {
       "model_id": "7328e6fbc343439d8feca570e8a835e6",
       "version_major": 2,
       "version_minor": 0
      },
      "text/plain": []
     },
     "metadata": {},
     "output_type": "display_data"
    }
   ],
   "source": [
    "import molsysmt as msm"
   ]
  },
  {
   "cell_type": "markdown",
   "id": "8469d016-02ce-4689-ab70-eaa43b38f037",
   "metadata": {},
   "source": [
    "# How to extract, fit, center and wrap to MIC a trajectory"
   ]
  },
  {
   "cell_type": "code",
   "execution_count": 3,
   "id": "dc51b2b2-a06d-4f36-b9ee-8d3e465e287f",
   "metadata": {},
   "outputs": [],
   "source": [
    "trajectory = msm.demo['pentarginine']['traj.h5']"
   ]
  },
  {
   "cell_type": "code",
   "execution_count": 4,
   "id": "ed7a79f2-6641-4013-847a-d4a98f3d89c4",
   "metadata": {},
   "outputs": [
    {
     "data": {
      "text/html": [
       "<style type=\"text/css\">\n",
       "</style>\n",
       "<table id=\"T_9110a\">\n",
       "  <thead>\n",
       "    <tr>\n",
       "      <th id=\"T_9110a_level0_col0\" class=\"col_heading level0 col0\" >form</th>\n",
       "      <th id=\"T_9110a_level0_col1\" class=\"col_heading level0 col1\" >n_atoms</th>\n",
       "      <th id=\"T_9110a_level0_col2\" class=\"col_heading level0 col2\" >n_groups</th>\n",
       "      <th id=\"T_9110a_level0_col3\" class=\"col_heading level0 col3\" >n_components</th>\n",
       "      <th id=\"T_9110a_level0_col4\" class=\"col_heading level0 col4\" >n_chains</th>\n",
       "      <th id=\"T_9110a_level0_col5\" class=\"col_heading level0 col5\" >n_molecules</th>\n",
       "      <th id=\"T_9110a_level0_col6\" class=\"col_heading level0 col6\" >n_entities</th>\n",
       "      <th id=\"T_9110a_level0_col7\" class=\"col_heading level0 col7\" >n_waters</th>\n",
       "      <th id=\"T_9110a_level0_col8\" class=\"col_heading level0 col8\" >n_ions</th>\n",
       "      <th id=\"T_9110a_level0_col9\" class=\"col_heading level0 col9\" >n_peptides</th>\n",
       "      <th id=\"T_9110a_level0_col10\" class=\"col_heading level0 col10\" >n_structures</th>\n",
       "    </tr>\n",
       "  </thead>\n",
       "  <tbody>\n",
       "    <tr>\n",
       "      <td id=\"T_9110a_row0_col0\" class=\"data row0 col0\" >file:h5</td>\n",
       "      <td id=\"T_9110a_row0_col1\" class=\"data row0 col1\" >4822</td>\n",
       "      <td id=\"T_9110a_row0_col2\" class=\"data row0 col2\" >1561</td>\n",
       "      <td id=\"T_9110a_row0_col3\" class=\"data row0 col3\" >1553</td>\n",
       "      <td id=\"T_9110a_row0_col4\" class=\"data row0 col4\" >3</td>\n",
       "      <td id=\"T_9110a_row0_col5\" class=\"data row0 col5\" >1553</td>\n",
       "      <td id=\"T_9110a_row0_col6\" class=\"data row0 col6\" >None</td>\n",
       "      <td id=\"T_9110a_row0_col7\" class=\"data row0 col7\" >1545</td>\n",
       "      <td id=\"T_9110a_row0_col8\" class=\"data row0 col8\" >7</td>\n",
       "      <td id=\"T_9110a_row0_col9\" class=\"data row0 col9\" >1</td>\n",
       "      <td id=\"T_9110a_row0_col10\" class=\"data row0 col10\" >100</td>\n",
       "    </tr>\n",
       "  </tbody>\n",
       "</table>\n"
      ],
      "text/plain": [
       "<pandas.io.formats.style.Styler at 0x7f7a2b942b20>"
      ]
     },
     "execution_count": 4,
     "metadata": {},
     "output_type": "execute_result"
    }
   ],
   "source": [
    "msm.info(trajectory)"
   ]
  },
  {
   "cell_type": "code",
   "execution_count": 5,
   "id": "b7c1913e-9a2f-4981-b22e-1da85542714b",
   "metadata": {},
   "outputs": [
    {
     "data": {
      "application/vnd.jupyter.widget-view+json": {
       "model_id": "d2c917a8b9e744a0b6f2450c48e3cfe0",
       "version_major": 2,
       "version_minor": 0
      },
      "text/plain": [
       "NGLWidget(max_frame=99)"
      ]
     },
     "metadata": {},
     "output_type": "display_data"
    }
   ],
   "source": [
    "msm.view(trajectory, standard=True, with_water_as='licorice')"
   ]
  },
  {
   "cell_type": "markdown",
   "id": "db3ec768-8709-416c-b3a7-65266d6e9f10",
   "metadata": {},
   "source": [
    "## Extract"
   ]
  },
  {
   "cell_type": "markdown",
   "id": "14eaf1b1-1448-4e6a-8ffd-da14cfbb7efe",
   "metadata": {},
   "source": [
    "## Using the method convert"
   ]
  },
  {
   "cell_type": "code",
   "execution_count": 6,
   "id": "89021b4e-8cf1-483f-8f48-37c29ce48e8a",
   "metadata": {},
   "outputs": [
    {
     "data": {
      "text/plain": [
       "'last_10_frames.h5'"
      ]
     },
     "execution_count": 6,
     "metadata": {},
     "output_type": "execute_result"
    }
   ],
   "source": [
    "msm.convert(trajectory, to_form='last_10_frames.h5', structure_indices=range(89,99))"
   ]
  },
  {
   "cell_type": "code",
   "execution_count": 7,
   "id": "424242ea-8da3-42de-aa65-b72fe665faff",
   "metadata": {},
   "outputs": [
    {
     "data": {
      "text/html": [
       "<style type=\"text/css\">\n",
       "</style>\n",
       "<table id=\"T_3a7ac\">\n",
       "  <thead>\n",
       "    <tr>\n",
       "      <th id=\"T_3a7ac_level0_col0\" class=\"col_heading level0 col0\" >form</th>\n",
       "      <th id=\"T_3a7ac_level0_col1\" class=\"col_heading level0 col1\" >n_atoms</th>\n",
       "      <th id=\"T_3a7ac_level0_col2\" class=\"col_heading level0 col2\" >n_groups</th>\n",
       "      <th id=\"T_3a7ac_level0_col3\" class=\"col_heading level0 col3\" >n_components</th>\n",
       "      <th id=\"T_3a7ac_level0_col4\" class=\"col_heading level0 col4\" >n_chains</th>\n",
       "      <th id=\"T_3a7ac_level0_col5\" class=\"col_heading level0 col5\" >n_molecules</th>\n",
       "      <th id=\"T_3a7ac_level0_col6\" class=\"col_heading level0 col6\" >n_entities</th>\n",
       "      <th id=\"T_3a7ac_level0_col7\" class=\"col_heading level0 col7\" >n_waters</th>\n",
       "      <th id=\"T_3a7ac_level0_col8\" class=\"col_heading level0 col8\" >n_ions</th>\n",
       "      <th id=\"T_3a7ac_level0_col9\" class=\"col_heading level0 col9\" >n_peptides</th>\n",
       "      <th id=\"T_3a7ac_level0_col10\" class=\"col_heading level0 col10\" >n_structures</th>\n",
       "    </tr>\n",
       "  </thead>\n",
       "  <tbody>\n",
       "    <tr>\n",
       "      <td id=\"T_3a7ac_row0_col0\" class=\"data row0 col0\" >file:h5</td>\n",
       "      <td id=\"T_3a7ac_row0_col1\" class=\"data row0 col1\" >4822</td>\n",
       "      <td id=\"T_3a7ac_row0_col2\" class=\"data row0 col2\" >1561</td>\n",
       "      <td id=\"T_3a7ac_row0_col3\" class=\"data row0 col3\" >1553</td>\n",
       "      <td id=\"T_3a7ac_row0_col4\" class=\"data row0 col4\" >3</td>\n",
       "      <td id=\"T_3a7ac_row0_col5\" class=\"data row0 col5\" >1553</td>\n",
       "      <td id=\"T_3a7ac_row0_col6\" class=\"data row0 col6\" >None</td>\n",
       "      <td id=\"T_3a7ac_row0_col7\" class=\"data row0 col7\" >1545</td>\n",
       "      <td id=\"T_3a7ac_row0_col8\" class=\"data row0 col8\" >7</td>\n",
       "      <td id=\"T_3a7ac_row0_col9\" class=\"data row0 col9\" >1</td>\n",
       "      <td id=\"T_3a7ac_row0_col10\" class=\"data row0 col10\" >10</td>\n",
       "    </tr>\n",
       "  </tbody>\n",
       "</table>\n"
      ],
      "text/plain": [
       "<pandas.io.formats.style.Styler at 0x7f7a2a517e20>"
      ]
     },
     "execution_count": 7,
     "metadata": {},
     "output_type": "execute_result"
    }
   ],
   "source": [
    "msm.info('last_10_frames.h5')"
   ]
  },
  {
   "cell_type": "code",
   "execution_count": 8,
   "id": "7f30c610-1858-4670-bfe9-864af3394669",
   "metadata": {},
   "outputs": [
    {
     "data": {
      "text/plain": [
       "'traj_ions_peptide.h5'"
      ]
     },
     "execution_count": 8,
     "metadata": {},
     "output_type": "execute_result"
    }
   ],
   "source": [
    "msm.convert(trajectory, to_form='traj_ions_peptide.h5', selection='molecule_type!=\"water\"')"
   ]
  },
  {
   "cell_type": "code",
   "execution_count": 9,
   "id": "c126340d-ffeb-4855-8c78-89f5537a46cf",
   "metadata": {},
   "outputs": [
    {
     "data": {
      "text/html": [
       "<style type=\"text/css\">\n",
       "</style>\n",
       "<table id=\"T_1a861\">\n",
       "  <thead>\n",
       "    <tr>\n",
       "      <th id=\"T_1a861_level0_col0\" class=\"col_heading level0 col0\" >form</th>\n",
       "      <th id=\"T_1a861_level0_col1\" class=\"col_heading level0 col1\" >n_atoms</th>\n",
       "      <th id=\"T_1a861_level0_col2\" class=\"col_heading level0 col2\" >n_groups</th>\n",
       "      <th id=\"T_1a861_level0_col3\" class=\"col_heading level0 col3\" >n_components</th>\n",
       "      <th id=\"T_1a861_level0_col4\" class=\"col_heading level0 col4\" >n_chains</th>\n",
       "      <th id=\"T_1a861_level0_col5\" class=\"col_heading level0 col5\" >n_molecules</th>\n",
       "      <th id=\"T_1a861_level0_col6\" class=\"col_heading level0 col6\" >n_entities</th>\n",
       "      <th id=\"T_1a861_level0_col7\" class=\"col_heading level0 col7\" >n_ions</th>\n",
       "      <th id=\"T_1a861_level0_col8\" class=\"col_heading level0 col8\" >n_peptides</th>\n",
       "      <th id=\"T_1a861_level0_col9\" class=\"col_heading level0 col9\" >n_structures</th>\n",
       "    </tr>\n",
       "  </thead>\n",
       "  <tbody>\n",
       "    <tr>\n",
       "      <td id=\"T_1a861_row0_col0\" class=\"data row0 col0\" >file:h5</td>\n",
       "      <td id=\"T_1a861_row0_col1\" class=\"data row0 col1\" >187</td>\n",
       "      <td id=\"T_1a861_row0_col2\" class=\"data row0 col2\" >16</td>\n",
       "      <td id=\"T_1a861_row0_col3\" class=\"data row0 col3\" >8</td>\n",
       "      <td id=\"T_1a861_row0_col4\" class=\"data row0 col4\" >2</td>\n",
       "      <td id=\"T_1a861_row0_col5\" class=\"data row0 col5\" >8</td>\n",
       "      <td id=\"T_1a861_row0_col6\" class=\"data row0 col6\" >None</td>\n",
       "      <td id=\"T_1a861_row0_col7\" class=\"data row0 col7\" >7</td>\n",
       "      <td id=\"T_1a861_row0_col8\" class=\"data row0 col8\" >1</td>\n",
       "      <td id=\"T_1a861_row0_col9\" class=\"data row0 col9\" >100</td>\n",
       "    </tr>\n",
       "  </tbody>\n",
       "</table>\n"
      ],
      "text/plain": [
       "<pandas.io.formats.style.Styler at 0x7f7a29b93670>"
      ]
     },
     "execution_count": 9,
     "metadata": {},
     "output_type": "execute_result"
    }
   ],
   "source": [
    "msm.info('traj_ions_peptide.h5')"
   ]
  },
  {
   "cell_type": "markdown",
   "id": "ad2a217d-6f03-4251-87c5-5f151d78aaf1",
   "metadata": {},
   "source": [
    "### Using an iterator"
   ]
  },
  {
   "cell_type": "code",
   "execution_count": 29,
   "id": "fde3f8ab-31d1-4af8-92db-422421578186",
   "metadata": {},
   "outputs": [
    {
     "ename": "NotImplementedMethodError",
     "evalue": "This method was not implemented yet.",
     "output_type": "error",
     "traceback": [
      "\u001b[0;31m---------------------------------------------------------------------------\u001b[0m",
      "\u001b[0;31mNotImplementedMethodError\u001b[0m                 Traceback (most recent call last)",
      "Cell \u001b[0;32mIn[29], line 4\u001b[0m\n\u001b[1;32m      1\u001b[0m iterator \u001b[38;5;241m=\u001b[39m msm\u001b[38;5;241m.\u001b[39mIterator(trajectory, structure_indices\u001b[38;5;241m=\u001b[39m\u001b[38;5;28mrange\u001b[39m(\u001b[38;5;241m89\u001b[39m,\u001b[38;5;241m99\u001b[39m))\n\u001b[1;32m      3\u001b[0m \u001b[38;5;28;01mfor\u001b[39;00m molecular_system \u001b[38;5;129;01min\u001b[39;00m iterator:\n\u001b[0;32m----> 4\u001b[0m     \u001b[43mmsm\u001b[49m\u001b[38;5;241;43m.\u001b[39;49m\u001b[43mappend_structures\u001b[49m\u001b[43m(\u001b[49m\u001b[38;5;124;43m'\u001b[39;49m\u001b[38;5;124;43mlast_10_frames.h5\u001b[39;49m\u001b[38;5;124;43m'\u001b[39;49m\u001b[43m,\u001b[49m\u001b[43m \u001b[49m\u001b[43mmolecular_system\u001b[49m\u001b[43m)\u001b[49m\n",
      "File \u001b[0;32m~/projects@dprada/MolSysMT/molsysmt/_private/digestion/digest.py:116\u001b[0m, in \u001b[0;36mdigest.<locals>.digestor.<locals>.wrapper\u001b[0;34m(*args, **kwargs)\u001b[0m\n\u001b[1;32m    114\u001b[0m     \u001b[38;5;28;01mreturn\u001b[39;00m func(all_args[\u001b[38;5;124m'\u001b[39m\u001b[38;5;124mself\u001b[39m\u001b[38;5;124m'\u001b[39m], \u001b[38;5;241m*\u001b[39m\u001b[38;5;241m*\u001b[39mfinal_args)\n\u001b[1;32m    115\u001b[0m \u001b[38;5;28;01melse\u001b[39;00m:\n\u001b[0;32m--> 116\u001b[0m     \u001b[38;5;28;01mreturn\u001b[39;00m \u001b[43mfunc\u001b[49m\u001b[43m(\u001b[49m\u001b[38;5;241;43m*\u001b[39;49m\u001b[38;5;241;43m*\u001b[39;49m\u001b[43mfinal_args\u001b[49m\u001b[43m)\u001b[49m\n",
      "File \u001b[0;32m~/projects@dprada/MolSysMT/molsysmt/basic/append_structures.py:42\u001b[0m, in \u001b[0;36mappend_structures\u001b[0;34m(to_molecular_system, from_molecular_systems, selections, structure_indices, syntax)\u001b[0m\n\u001b[1;32m     37\u001b[0m     structure_id, time, box \u001b[38;5;241m=\u001b[39m get(aux_molecular_system, element\u001b[38;5;241m=\u001b[39m\u001b[38;5;124m'\u001b[39m\u001b[38;5;124msystem\u001b[39m\u001b[38;5;124m'\u001b[39m, structure_indices\u001b[38;5;241m=\u001b[39maux_structure_indices,\n\u001b[1;32m     38\u001b[0m                           structure_id\u001b[38;5;241m=\u001b[39m\u001b[38;5;28;01mTrue\u001b[39;00m, time\u001b[38;5;241m=\u001b[39m\u001b[38;5;28;01mTrue\u001b[39;00m, box\u001b[38;5;241m=\u001b[39m\u001b[38;5;28;01mTrue\u001b[39;00m)\n\u001b[1;32m     40\u001b[0m     \u001b[38;5;28;01mfor\u001b[39;00m aux_to_item, aux_to_form \u001b[38;5;129;01min\u001b[39;00m \u001b[38;5;28mzip\u001b[39m(to_molecular_system, to_forms):\n\u001b[0;32m---> 42\u001b[0m         \u001b[43mdict_append_structures\u001b[49m\u001b[43m[\u001b[49m\u001b[43maux_to_form\u001b[49m\u001b[43m]\u001b[49m\u001b[43m(\u001b[49m\u001b[43maux_to_item\u001b[49m\u001b[43m,\u001b[49m\u001b[43m \u001b[49m\u001b[43mstructure_id\u001b[49m\u001b[38;5;241;43m=\u001b[39;49m\u001b[43mstructure_id\u001b[49m\u001b[43m,\u001b[49m\u001b[43m \u001b[49m\u001b[43mtime\u001b[49m\u001b[38;5;241;43m=\u001b[39;49m\u001b[43mtime\u001b[49m\u001b[43m,\u001b[49m\u001b[43m \u001b[49m\u001b[43mcoordinates\u001b[49m\u001b[38;5;241;43m=\u001b[39;49m\u001b[43mcoordinates\u001b[49m\u001b[43m,\u001b[49m\u001b[43m \u001b[49m\u001b[43mbox\u001b[49m\u001b[38;5;241;43m=\u001b[39;49m\u001b[43mbox\u001b[49m\u001b[43m,\u001b[49m\n\u001b[1;32m     43\u001b[0m \u001b[43m                \u001b[49m\u001b[43m)\u001b[49m\n\u001b[1;32m     45\u001b[0m \u001b[38;5;28;01mpass\u001b[39;00m\n",
      "File \u001b[0;32m~/projects@dprada/MolSysMT/molsysmt/_private/digestion/digest.py:116\u001b[0m, in \u001b[0;36mdigest.<locals>.digestor.<locals>.wrapper\u001b[0;34m(*args, **kwargs)\u001b[0m\n\u001b[1;32m    114\u001b[0m     \u001b[38;5;28;01mreturn\u001b[39;00m func(all_args[\u001b[38;5;124m'\u001b[39m\u001b[38;5;124mself\u001b[39m\u001b[38;5;124m'\u001b[39m], \u001b[38;5;241m*\u001b[39m\u001b[38;5;241m*\u001b[39mfinal_args)\n\u001b[1;32m    115\u001b[0m \u001b[38;5;28;01melse\u001b[39;00m:\n\u001b[0;32m--> 116\u001b[0m     \u001b[38;5;28;01mreturn\u001b[39;00m \u001b[43mfunc\u001b[49m\u001b[43m(\u001b[49m\u001b[38;5;241;43m*\u001b[39;49m\u001b[38;5;241;43m*\u001b[39;49m\u001b[43mfinal_args\u001b[49m\u001b[43m)\u001b[49m\n",
      "File \u001b[0;32m~/projects@dprada/MolSysMT/molsysmt/form/file_h5/append_structures.py:7\u001b[0m, in \u001b[0;36mappend_structures\u001b[0;34m(item, structure_id, time, coordinates, box)\u001b[0m\n\u001b[1;32m      4\u001b[0m \u001b[38;5;129m@digest\u001b[39m(form\u001b[38;5;241m=\u001b[39m\u001b[38;5;124m'\u001b[39m\u001b[38;5;124mfile:h5\u001b[39m\u001b[38;5;124m'\u001b[39m)\n\u001b[1;32m      5\u001b[0m \u001b[38;5;28;01mdef\u001b[39;00m \u001b[38;5;21mappend_structures\u001b[39m(item, structure_id\u001b[38;5;241m=\u001b[39m\u001b[38;5;28;01mNone\u001b[39;00m, time\u001b[38;5;241m=\u001b[39m\u001b[38;5;28;01mNone\u001b[39;00m, coordinates\u001b[38;5;241m=\u001b[39m\u001b[38;5;28;01mNone\u001b[39;00m, box\u001b[38;5;241m=\u001b[39m\u001b[38;5;28;01mNone\u001b[39;00m):\n\u001b[0;32m----> 7\u001b[0m     \u001b[38;5;28;01mraise\u001b[39;00m NotImplementedMethodError()\n",
      "\u001b[0;31mNotImplementedMethodError\u001b[0m: This method was not implemented yet."
     ]
    }
   ],
   "source": [
    "iterator = msm.Iterator(trajectory, structure_indices=range(89,99))\n",
    "\n",
    "for molecular_system in iterator:\n",
    "    msm.append_structures('last_10_frames.h5', molecular_system)"
   ]
  },
  {
   "cell_type": "markdown",
   "id": "bd4cec02-18d5-4895-8460-055721251a7d",
   "metadata": {},
   "source": [
    "Or"
   ]
  },
  {
   "cell_type": "code",
   "execution_count": null,
   "id": "e98d977d-7be8-4ab5-b9a3-214a9a210e24",
   "metadata": {},
   "outputs": [],
   "source": [
    "iterator = msm.Iterator(trajectory, selection='molecule_type!=\"water\"')\n",
    "\n",
    "for molecular_system in iterator:\n",
    "    msm.append_structure('traj_ions_peptide.h5', molecular_system)"
   ]
  },
  {
   "cell_type": "markdown",
   "id": "0012728b-585b-4278-9cf0-63011d521274",
   "metadata": {},
   "source": [
    "## Fit, center, and wrap to MIC"
   ]
  },
  {
   "cell_type": "markdown",
   "id": "84cf0b0f-6ce0-4a35-b60c-c287f6b9bc31",
   "metadata": {},
   "source": [
    "### Working with a molecular system in memory"
   ]
  },
  {
   "cell_type": "code",
   "execution_count": null,
   "id": "93d50fc3-5df1-41d4-a964-4303ee1eaa40",
   "metadata": {},
   "outputs": [],
   "source": [
    "molecular_system = msm.convert(trajectory)"
   ]
  },
  {
   "cell_type": "code",
   "execution_count": null,
   "id": "ab69aa3c-83a1-4cd7-ba45-0bf908af81bf",
   "metadata": {},
   "outputs": [],
   "source": [
    "molecular_system = msm.structure.fit(molecular_system, selection='atom_name in [\"CA\", \"C\", \"N\"]')\n",
    "molecular_system = msm.structure.center(molecular_system, center_of_selection='atom_name in [\"CA\", \"C\", \"N\"]')\n",
    "molecular_system = msm.pbc.wrap_to_mic(molecular_system)"
   ]
  },
  {
   "cell_type": "code",
   "execution_count": null,
   "id": "d92135bd-fdc0-4e7f-9ac6-f8f1cdd7d21b",
   "metadata": {},
   "outputs": [],
   "source": [
    "msm.info(molecular_system)"
   ]
  },
  {
   "cell_type": "code",
   "execution_count": null,
   "id": "2e49bb36-71c1-4ab2-a309-56b44ad65b0c",
   "metadata": {},
   "outputs": [],
   "source": [
    "msm.view(molecular_system, standard=True, water_as_surface=True)"
   ]
  },
  {
   "cell_type": "markdown",
   "id": "555e25e7-b75e-4121-8de0-e8e332ec0552",
   "metadata": {},
   "source": [
    "With an interator and a molecular system in memory"
   ]
  },
  {
   "cell_type": "markdown",
   "id": "3ea7cffc-661d-4a0a-99e3-bf5bdf53fc21",
   "metadata": {},
   "source": [
    "### Using an iterator"
   ]
  },
  {
   "cell_type": "code",
   "execution_count": null,
   "id": "d2f3d85c-d7ac-4193-bc99-442e14921cac",
   "metadata": {},
   "outputs": [],
   "source": [
    "msm.file.open()"
   ]
  },
  {
   "cell_type": "code",
   "execution_count": null,
   "id": "37bcd85e-fdfd-4567-89f2-9556cd0c7c1b",
   "metadata": {},
   "outputs": [],
   "source": [
    "msm.file.get_status()"
   ]
  },
  {
   "cell_type": "code",
   "execution_count": null,
   "id": "e1a0f439-e45a-4d2b-bfa2-d12fcb1e91a3",
   "metadata": {},
   "outputs": [],
   "source": [
    "msm.file.close()"
   ]
  },
  {
   "cell_type": "code",
   "execution_count": null,
   "id": "ebb2c009-7d20-4a16-97cc-15f15e8a3eaf",
   "metadata": {},
   "outputs": [],
   "source": []
  },
  {
   "cell_type": "code",
   "execution_count": null,
   "id": "8a755171-70a7-4f05-b191-77b1483801b2",
   "metadata": {},
   "outputs": [],
   "source": [
    "iterator = msm.Iterator(trajectory)"
   ]
  },
  {
   "cell_type": "code",
   "execution_count": null,
   "id": "c7b0a47d-bb8b-4b43-8f54-1d2da4265e7f",
   "metadata": {},
   "outputs": [],
   "source": [
    "for molecular_system in iterator:\n",
    "    molecular_system = msm.structure.fit(aux_molecular_system, selection='atom_name in [\"CA\", \"C\", \"N\"]')\n",
    "    molecular_system = msm.structure.center(molecular_system, center_of_selection='atom_name in [\"CA\", \"C\", \"N\"]')\n",
    "    molecular_system = msm.pbc.wrap_to_mic(molecular_system)\n",
    "    msm.append_structures('asdf.h5', molecular_system)"
   ]
  },
  {
   "cell_type": "code",
   "execution_count": null,
   "id": "1dd53323-01d0-40bf-b398-b610d5b3c37e",
   "metadata": {},
   "outputs": [],
   "source": [
    "msm.info(final_molecular_system)"
   ]
  },
  {
   "cell_type": "code",
   "execution_count": null,
   "id": "5417c3a0-5592-4643-87e0-10a442d330bc",
   "metadata": {},
   "outputs": [],
   "source": [
    "msm.view(final_molecular_system, standard=True, water_as_surface=True)"
   ]
  },
  {
   "cell_type": "markdown",
   "id": "3323c0cc-f8b4-4bd6-8e40-0e032be59ba0",
   "metadata": {},
   "source": [
    "There is no need to work with an iterator and a molsysmt.MolSys object. You can explore other possilibities like iterating only the coordinates and boxes:"
   ]
  },
  {
   "cell_type": "code",
   "execution_count": null,
   "id": "c5bc8069-b48f-416e-a187-3c8fea2aeebf",
   "metadata": {},
   "outputs": [],
   "source": [
    "topology = msm.convert('last_100_frames.h5', 'molsysmt.Topology')\n",
    "\n",
    "all_coordinates = []\n",
    "all_boxes = []\n",
    "\n",
    "iterator = msm.Iterator('last_100_frames.h5', coordinates=True, box=True)\n",
    "\n",
    "for coordinates, box in iterator:\n",
    "    molecular_system = [topology, coordinates, box]\n",
    "    molecular_system = msm.structure.fit(molecular_system, selection='atom_name in [\"CA\", \"C\", \"N\"]')\n",
    "    molecular_system = msm.structure.center(molecular_system, center_of_selection='atom_name in [\"CA\", \"C\", \"N\"]')\n",
    "    molecular_system = msm.pbc.wrap_to_mic(molecular_system)\n",
    "    new_coordinates = msm.get(molecular_system, coordinates=True) # new_coordinates = molecular_system[1]\n",
    "    all_coordinates.append(new_coordinates)\n",
    "    all_box.append(box)"
   ]
  },
  {
   "cell_type": "code",
   "execution_count": null,
   "id": "8fa505b1-0d1f-4985-b59b-163418e048ff",
   "metadata": {},
   "outputs": [],
   "source": [
    "msm.info(molecular_system)"
   ]
  },
  {
   "cell_type": "code",
   "execution_count": null,
   "id": "76ef1841-6af3-489a-85a3-2f5fe2f1f947",
   "metadata": {},
   "outputs": [],
   "source": [
    "msm.view(molecular_system, standard=True, water_as_surface=True)"
   ]
  },
  {
   "cell_type": "markdown",
   "id": "030c2123-3e6d-4622-8396-f0f0c6ec4628",
   "metadata": {},
   "source": [
    "Or:"
   ]
  },
  {
   "cell_type": "code",
   "execution_count": null,
   "id": "7c400c22-3189-42db-af41-21d64d427d23",
   "metadata": {},
   "outputs": [],
   "source": [
    "atoms_to_fit_and_center = msm.select('last_100_frames.h5', selection='atom_name in [\"CA\", \"C\", \"N\"]')\n",
    "\n",
    "all_coordinates = []\n",
    "all_boxes = []\n",
    "\n",
    "iterator = msm.Iterator('last_100_frames.h5', coordinates=True, box=True)\n",
    "\n",
    "for coordinates, box in iterator:\n",
    "    coordinates = msm.structure.fit(coordinates, selection=atoms_to_fit_and_center)\n",
    "    coordinates = msm.structure.center(coordinates, center_of_selection=atoms_to_fit_and_center)\n",
    "    coordinates, _ = msm.pbc.wrap_to_mic([coordinates, box])\n",
    "    all_coordinates.append(coordinates)\n",
    "    all_boxes.append(box)"
   ]
  },
  {
   "cell_type": "code",
   "execution_count": null,
   "id": "527182ef-8c85-4150-bf50-4089767ba1f0",
   "metadata": {},
   "outputs": [],
   "source": [
    "msm.view(['last_100_frames.h5', coordinates, boxes], standard=True, water_as_surface=True)"
   ]
  },
  {
   "cell_type": "markdown",
   "id": "00c7ff5f-2aa4-4047-a43b-bf28214bc40d",
   "metadata": {},
   "source": [
    "################\n",
    "2 notebooks in the cookbook:\n",
    "    - writing a trajectory file\n",
    "    - analysing a trajectory file"
   ]
  }
 ],
 "metadata": {
  "kernelspec": {
   "display_name": "Python 3 (ipykernel)",
   "language": "python",
   "name": "python3"
  },
  "language_info": {
   "codemirror_mode": {
    "name": "ipython",
    "version": 3
   },
   "file_extension": ".py",
   "mimetype": "text/x-python",
   "name": "python",
   "nbconvert_exporter": "python",
   "pygments_lexer": "ipython3",
   "version": "3.9.15"
  }
 },
 "nbformat": 4,
 "nbformat_minor": 5
}
