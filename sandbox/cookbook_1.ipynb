{
 "cells": [
  {
   "cell_type": "code",
   "execution_count": 1,
   "id": "c7c15634-8b62-4c09-abce-c3fe52a9f423",
   "metadata": {},
   "outputs": [],
   "source": [
    "%load_ext autoreload\n",
    "%autoreload 2"
   ]
  },
  {
   "cell_type": "code",
   "execution_count": 2,
   "id": "1837b3fc-3eab-40a2-a724-f26b2ec36bca",
   "metadata": {},
   "outputs": [
    {
     "data": {
      "application/vnd.jupyter.widget-view+json": {
       "model_id": "e292ec464d96457d85953d0d23bb4205",
       "version_major": 2,
       "version_minor": 0
      },
      "text/plain": []
     },
     "metadata": {},
     "output_type": "display_data"
    }
   ],
   "source": [
    "import molsysmt as msm"
   ]
  },
  {
   "cell_type": "markdown",
   "id": "8469d016-02ce-4689-ab70-eaa43b38f037",
   "metadata": {},
   "source": [
    "# How to extract, fit, center and wrap to MIC a trajectory"
   ]
  },
  {
   "cell_type": "code",
   "execution_count": 3,
   "id": "dc51b2b2-a06d-4f36-b9ee-8d3e465e287f",
   "metadata": {},
   "outputs": [],
   "source": [
    "trajectory = msm.demo['pentarginine']['traj.h5']"
   ]
  },
  {
   "cell_type": "code",
   "execution_count": null,
   "id": "ed7a79f2-6641-4013-847a-d4a98f3d89c4",
   "metadata": {},
   "outputs": [],
   "source": [
    "msm.info(trajectory)"
   ]
  },
  {
   "cell_type": "code",
   "execution_count": null,
   "id": "b7c1913e-9a2f-4981-b22e-1da85542714b",
   "metadata": {},
   "outputs": [],
   "source": [
    "msm.view(trajectory, standard=True, with_water_as='licorice')"
   ]
  },
  {
   "cell_type": "markdown",
   "id": "db3ec768-8709-416c-b3a7-65266d6e9f10",
   "metadata": {},
   "source": [
    "## Extract"
   ]
  },
  {
   "cell_type": "markdown",
   "id": "14eaf1b1-1448-4e6a-8ffd-da14cfbb7efe",
   "metadata": {},
   "source": [
    "## Using the method convert"
   ]
  },
  {
   "cell_type": "code",
   "execution_count": null,
   "id": "89021b4e-8cf1-483f-8f48-37c29ce48e8a",
   "metadata": {},
   "outputs": [],
   "source": [
    "msm.convert(trajectory, to_form='last_10_frames.h5', structure_indices=range(89,99))"
   ]
  },
  {
   "cell_type": "code",
   "execution_count": null,
   "id": "424242ea-8da3-42de-aa65-b72fe665faff",
   "metadata": {},
   "outputs": [],
   "source": [
    "msm.info('last_10_frames.h5')"
   ]
  },
  {
   "cell_type": "code",
   "execution_count": null,
   "id": "7f30c610-1858-4670-bfe9-864af3394669",
   "metadata": {},
   "outputs": [],
   "source": [
    "msm.convert(trajectory, to_form='traj_ions_peptide.h5', selection='molecule_type!=\"water\"')"
   ]
  },
  {
   "cell_type": "code",
   "execution_count": null,
   "id": "c126340d-ffeb-4855-8c78-89f5537a46cf",
   "metadata": {},
   "outputs": [],
   "source": [
    "msm.info('traj_ions_peptide.h5')"
   ]
  },
  {
   "cell_type": "markdown",
   "id": "ad2a217d-6f03-4251-87c5-5f151d78aaf1",
   "metadata": {},
   "source": [
    "### Using an iterator"
   ]
  },
  {
   "cell_type": "code",
   "execution_count": 4,
   "id": "d139dc4d-1bd9-424b-bec4-b75b8f2606fb",
   "metadata": {},
   "outputs": [
    {
     "name": "stderr",
     "output_type": "stream",
     "text": [
      "/home/diego/projects@dprada/MolSysMT/molsysmt/basic/iterator.py:69: NotDigestedArgumentWarning: The output from molsysmt.form.file_h5.iterators.__init__ argument was not digested.Check  for more information. If you still need help, open a new issue in https://github.com/uibcdf/MolSysMT/issues.\n",
      "  tmp_iterator = dict_structures_iterator[aux_items_forms[item]](item, atom_indices=self.atom_indices, start=self.start,\n",
      "/home/diego/projects@dprada/MolSysMT/molsysmt/form/file_h5/iterators.py:15: NotDigestedArgumentWarning: The output from molsysmt.form.mdtraj_HDF5TrajectoryFile.iterators.__init__ argument was not digested.Check  for more information. If you still need help, open a new issue in https://github.com/uibcdf/MolSysMT/issues.\n",
      "  super().__init__(molecular_system, atom_indices=atom_indices, start=start, step=step, stop=stop,\n"
     ]
    }
   ],
   "source": [
    "iterator = msm.Iterator(trajectory)"
   ]
  },
  {
   "cell_type": "code",
   "execution_count": null,
   "id": "fde3f8ab-31d1-4af8-92db-422421578186",
   "metadata": {},
   "outputs": [],
   "source": [
    "iterator = msm.Iterator(trajectory, structure_indices=range(89,99))\n",
    "\n",
    "for molecular_system in iterator:\n",
    "    msm.append_structure('last_10_frames.h5', molecular_system)"
   ]
  },
  {
   "cell_type": "markdown",
   "id": "bd4cec02-18d5-4895-8460-055721251a7d",
   "metadata": {},
   "source": [
    "Or"
   ]
  },
  {
   "cell_type": "code",
   "execution_count": null,
   "id": "e98d977d-7be8-4ab5-b9a3-214a9a210e24",
   "metadata": {},
   "outputs": [],
   "source": [
    "iterator = msm.Iterator(trajectory, selection='molecule_type!=\"water\"')\n",
    "\n",
    "for molecular_system in iterator:\n",
    "    msm.append_structure('traj_ions_peptide.h5', molecular_system)"
   ]
  },
  {
   "cell_type": "markdown",
   "id": "0012728b-585b-4278-9cf0-63011d521274",
   "metadata": {},
   "source": [
    "## Fit, center, and wrap to MIC"
   ]
  },
  {
   "cell_type": "markdown",
   "id": "84cf0b0f-6ce0-4a35-b60c-c287f6b9bc31",
   "metadata": {},
   "source": [
    "### Working with a molecular system in memory"
   ]
  },
  {
   "cell_type": "code",
   "execution_count": null,
   "id": "93d50fc3-5df1-41d4-a964-4303ee1eaa40",
   "metadata": {},
   "outputs": [],
   "source": [
    "molecular_system = msm.convert(trajectory)"
   ]
  },
  {
   "cell_type": "code",
   "execution_count": null,
   "id": "ab69aa3c-83a1-4cd7-ba45-0bf908af81bf",
   "metadata": {},
   "outputs": [],
   "source": [
    "molecular_system = msm.structure.fit(molecular_system, selection='atom_name in [\"CA\", \"C\", \"N\"]')\n",
    "molecular_system = msm.structure.center(molecular_system, center_of_selection='atom_name in [\"CA\", \"C\", \"N\"]')\n",
    "molecular_system = msm.pbc.wrap_to_mic(molecular_system)"
   ]
  },
  {
   "cell_type": "code",
   "execution_count": null,
   "id": "d92135bd-fdc0-4e7f-9ac6-f8f1cdd7d21b",
   "metadata": {},
   "outputs": [],
   "source": [
    "msm.info(molecular_system)"
   ]
  },
  {
   "cell_type": "code",
   "execution_count": null,
   "id": "2e49bb36-71c1-4ab2-a309-56b44ad65b0c",
   "metadata": {},
   "outputs": [],
   "source": [
    "msm.view(molecular_system, standard=True, water_as_surface=True)"
   ]
  },
  {
   "cell_type": "markdown",
   "id": "555e25e7-b75e-4121-8de0-e8e332ec0552",
   "metadata": {},
   "source": [
    "With an interator and a molecular system in memory"
   ]
  },
  {
   "cell_type": "markdown",
   "id": "3ea7cffc-661d-4a0a-99e3-bf5bdf53fc21",
   "metadata": {},
   "source": [
    "### Using an iterator"
   ]
  },
  {
   "cell_type": "code",
   "execution_count": null,
   "id": "d2f3d85c-d7ac-4193-bc99-442e14921cac",
   "metadata": {},
   "outputs": [],
   "source": [
    "msm.file.open()"
   ]
  },
  {
   "cell_type": "code",
   "execution_count": null,
   "id": "37bcd85e-fdfd-4567-89f2-9556cd0c7c1b",
   "metadata": {},
   "outputs": [],
   "source": [
    "msm.file.get_status()"
   ]
  },
  {
   "cell_type": "code",
   "execution_count": null,
   "id": "e1a0f439-e45a-4d2b-bfa2-d12fcb1e91a3",
   "metadata": {},
   "outputs": [],
   "source": [
    "msm.file.close()"
   ]
  },
  {
   "cell_type": "code",
   "execution_count": null,
   "id": "ebb2c009-7d20-4a16-97cc-15f15e8a3eaf",
   "metadata": {},
   "outputs": [],
   "source": []
  },
  {
   "cell_type": "code",
   "execution_count": null,
   "id": "8a755171-70a7-4f05-b191-77b1483801b2",
   "metadata": {},
   "outputs": [],
   "source": [
    "iterator = msm.Iterator(trajectory)"
   ]
  },
  {
   "cell_type": "code",
   "execution_count": null,
   "id": "c7b0a47d-bb8b-4b43-8f54-1d2da4265e7f",
   "metadata": {},
   "outputs": [],
   "source": [
    "for molecular_system in iterator:\n",
    "    molecular_system = msm.structure.fit(aux_molecular_system, selection='atom_name in [\"CA\", \"C\", \"N\"]')\n",
    "    molecular_system = msm.structure.center(molecular_system, center_of_selection='atom_name in [\"CA\", \"C\", \"N\"]')\n",
    "    molecular_system = msm.pbc.wrap_to_mic(molecular_system)\n",
    "    msm.append_structures('asdf.h5', molecular_system)"
   ]
  },
  {
   "cell_type": "code",
   "execution_count": null,
   "id": "1dd53323-01d0-40bf-b398-b610d5b3c37e",
   "metadata": {},
   "outputs": [],
   "source": [
    "msm.info(final_molecular_system)"
   ]
  },
  {
   "cell_type": "code",
   "execution_count": null,
   "id": "5417c3a0-5592-4643-87e0-10a442d330bc",
   "metadata": {},
   "outputs": [],
   "source": [
    "msm.view(final_molecular_system, standard=True, water_as_surface=True)"
   ]
  },
  {
   "cell_type": "markdown",
   "id": "3323c0cc-f8b4-4bd6-8e40-0e032be59ba0",
   "metadata": {},
   "source": [
    "There is no need to work with an iterator and a molsysmt.MolSys object. You can explore other possilibities like iterating only the coordinates and boxes:"
   ]
  },
  {
   "cell_type": "code",
   "execution_count": null,
   "id": "c5bc8069-b48f-416e-a187-3c8fea2aeebf",
   "metadata": {},
   "outputs": [],
   "source": [
    "topology = msm.convert('last_100_frames.h5', 'molsysmt.Topology')\n",
    "\n",
    "all_coordinates = []\n",
    "all_boxes = []\n",
    "\n",
    "iterator = msm.Iterator('last_100_frames.h5', coordinates=True, box=True)\n",
    "\n",
    "for coordinates, box in iterator:\n",
    "    molecular_system = [topology, coordinates, box]\n",
    "    molecular_system = msm.structure.fit(molecular_system, selection='atom_name in [\"CA\", \"C\", \"N\"]')\n",
    "    molecular_system = msm.structure.center(molecular_system, center_of_selection='atom_name in [\"CA\", \"C\", \"N\"]')\n",
    "    molecular_system = msm.pbc.wrap_to_mic(molecular_system)\n",
    "    new_coordinates = msm.get(molecular_system, coordinates=True) # new_coordinates = molecular_system[1]\n",
    "    all_coordinates.append(new_coordinates)\n",
    "    all_box.append(box)"
   ]
  },
  {
   "cell_type": "code",
   "execution_count": null,
   "id": "8fa505b1-0d1f-4985-b59b-163418e048ff",
   "metadata": {},
   "outputs": [],
   "source": [
    "msm.info(molecular_system)"
   ]
  },
  {
   "cell_type": "code",
   "execution_count": null,
   "id": "76ef1841-6af3-489a-85a3-2f5fe2f1f947",
   "metadata": {},
   "outputs": [],
   "source": [
    "msm.view(molecular_system, standard=True, water_as_surface=True)"
   ]
  },
  {
   "cell_type": "markdown",
   "id": "030c2123-3e6d-4622-8396-f0f0c6ec4628",
   "metadata": {},
   "source": [
    "Or:"
   ]
  },
  {
   "cell_type": "code",
   "execution_count": null,
   "id": "7c400c22-3189-42db-af41-21d64d427d23",
   "metadata": {},
   "outputs": [],
   "source": [
    "atoms_to_fit_and_center = msm.select('last_100_frames.h5', selection='atom_name in [\"CA\", \"C\", \"N\"]')\n",
    "\n",
    "all_coordinates = []\n",
    "all_boxes = []\n",
    "\n",
    "iterator = msm.Iterator('last_100_frames.h5', coordinates=True, box=True)\n",
    "\n",
    "for coordinates, box in iterator:\n",
    "    coordinates = msm.structure.fit(coordinates, selection=atoms_to_fit_and_center)\n",
    "    coordinates = msm.structure.center(coordinates, center_of_selection=atoms_to_fit_and_center)\n",
    "    coordinates, _ = msm.pbc.wrap_to_mic([coordinates, box])\n",
    "    all_coordinates.append(coordinates)\n",
    "    all_boxes.append(box)"
   ]
  },
  {
   "cell_type": "code",
   "execution_count": null,
   "id": "527182ef-8c85-4150-bf50-4089767ba1f0",
   "metadata": {},
   "outputs": [],
   "source": [
    "msm.view(['last_100_frames.h5', coordinates, boxes], standard=True, water_as_surface=True)"
   ]
  },
  {
   "cell_type": "markdown",
   "id": "00c7ff5f-2aa4-4047-a43b-bf28214bc40d",
   "metadata": {},
   "source": [
    "################\n",
    "2 notebooks in the cookbook:\n",
    "    - writing a trajectory file\n",
    "    - analysing a trajectory file"
   ]
  }
 ],
 "metadata": {
  "kernelspec": {
   "display_name": "Python 3 (ipykernel)",
   "language": "python",
   "name": "python3"
  },
  "language_info": {
   "codemirror_mode": {
    "name": "ipython",
    "version": 3
   },
   "file_extension": ".py",
   "mimetype": "text/x-python",
   "name": "python",
   "nbconvert_exporter": "python",
   "pygments_lexer": "ipython3",
   "version": "3.9.15"
  }
 },
 "nbformat": 4,
 "nbformat_minor": 5
}
