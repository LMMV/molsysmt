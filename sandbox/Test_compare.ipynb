{
 "cells": [
  {
   "cell_type": "code",
   "execution_count": 1,
   "id": "9daaf0e6-1474-469f-812d-4edc7b32528e",
   "metadata": {},
   "outputs": [
    {
     "data": {
      "application/vnd.jupyter.widget-view+json": {
       "model_id": "34b5e750a30e4739b2f04f21363c99f2",
       "version_major": 2,
       "version_minor": 0
      },
      "text/plain": []
     },
     "metadata": {},
     "output_type": "display_data"
    }
   ],
   "source": [
    "import molsysmt as msm"
   ]
  },
  {
   "cell_type": "code",
   "execution_count": 2,
   "id": "10fe9880-326b-435e-b293-2e75c36cd463",
   "metadata": {},
   "outputs": [],
   "source": [
    "molecular_system_A = msm.convert('pdb_id:181L', to_form='openmm.Modeller')\n",
    "molecular_system_B = msm.convert(molecular_system_A, to_form='molsysmt.MolSys')\n",
    "molecular_system_C = msm.extract(molecular_system_B, selection='molecule_type==\"protein\"')"
   ]
  },
  {
   "cell_type": "code",
   "execution_count": 4,
   "id": "9aa544e4-91ed-4927-a981-266241a5c5f9",
   "metadata": {},
   "outputs": [
    {
     "data": {
      "text/html": [
       "<style type=\"text/css\">\n",
       "</style>\n",
       "<table id=\"T_ba46d\">\n",
       "  <thead>\n",
       "    <tr>\n",
       "      <th id=\"T_ba46d_level0_col0\" class=\"col_heading level0 col0\" >index</th>\n",
       "      <th id=\"T_ba46d_level0_col1\" class=\"col_heading level0 col1\" >name</th>\n",
       "      <th id=\"T_ba46d_level0_col2\" class=\"col_heading level0 col2\" >type</th>\n",
       "      <th id=\"T_ba46d_level0_col3\" class=\"col_heading level0 col3\" >n atoms</th>\n",
       "      <th id=\"T_ba46d_level0_col4\" class=\"col_heading level0 col4\" >n groups</th>\n",
       "      <th id=\"T_ba46d_level0_col5\" class=\"col_heading level0 col5\" >n components</th>\n",
       "      <th id=\"T_ba46d_level0_col6\" class=\"col_heading level0 col6\" >n chains</th>\n",
       "      <th id=\"T_ba46d_level0_col7\" class=\"col_heading level0 col7\" >n molecules</th>\n",
       "    </tr>\n",
       "  </thead>\n",
       "  <tbody>\n",
       "    <tr>\n",
       "      <td id=\"T_ba46d_row0_col0\" class=\"data row0 col0\" >0</td>\n",
       "      <td id=\"T_ba46d_row0_col1\" class=\"data row0 col1\" >None</td>\n",
       "      <td id=\"T_ba46d_row0_col2\" class=\"data row0 col2\" >protein</td>\n",
       "      <td id=\"T_ba46d_row0_col3\" class=\"data row0 col3\" >1289</td>\n",
       "      <td id=\"T_ba46d_row0_col4\" class=\"data row0 col4\" >162</td>\n",
       "      <td id=\"T_ba46d_row0_col5\" class=\"data row0 col5\" >1</td>\n",
       "      <td id=\"T_ba46d_row0_col6\" class=\"data row0 col6\" >0</td>\n",
       "      <td id=\"T_ba46d_row0_col7\" class=\"data row0 col7\" >1</td>\n",
       "    </tr>\n",
       "    <tr>\n",
       "      <td id=\"T_ba46d_row1_col0\" class=\"data row1 col0\" >1</td>\n",
       "      <td id=\"T_ba46d_row1_col1\" class=\"data row1 col1\" >None</td>\n",
       "      <td id=\"T_ba46d_row1_col2\" class=\"data row1 col2\" >ion</td>\n",
       "      <td id=\"T_ba46d_row1_col3\" class=\"data row1 col3\" >2</td>\n",
       "      <td id=\"T_ba46d_row1_col4\" class=\"data row1 col4\" >2</td>\n",
       "      <td id=\"T_ba46d_row1_col5\" class=\"data row1 col5\" >2</td>\n",
       "      <td id=\"T_ba46d_row1_col6\" class=\"data row1 col6\" >0</td>\n",
       "      <td id=\"T_ba46d_row1_col7\" class=\"data row1 col7\" >2</td>\n",
       "    </tr>\n",
       "    <tr>\n",
       "      <td id=\"T_ba46d_row2_col0\" class=\"data row2 col0\" >2</td>\n",
       "      <td id=\"T_ba46d_row2_col1\" class=\"data row2 col1\" >None</td>\n",
       "      <td id=\"T_ba46d_row2_col2\" class=\"data row2 col2\" >small molecule</td>\n",
       "      <td id=\"T_ba46d_row2_col3\" class=\"data row2 col3\" >8</td>\n",
       "      <td id=\"T_ba46d_row2_col4\" class=\"data row2 col4\" >1</td>\n",
       "      <td id=\"T_ba46d_row2_col5\" class=\"data row2 col5\" >1</td>\n",
       "      <td id=\"T_ba46d_row2_col6\" class=\"data row2 col6\" >0</td>\n",
       "      <td id=\"T_ba46d_row2_col7\" class=\"data row2 col7\" >1</td>\n",
       "    </tr>\n",
       "    <tr>\n",
       "      <td id=\"T_ba46d_row3_col0\" class=\"data row3 col0\" >3</td>\n",
       "      <td id=\"T_ba46d_row3_col1\" class=\"data row3 col1\" >None</td>\n",
       "      <td id=\"T_ba46d_row3_col2\" class=\"data row3 col2\" >small molecule</td>\n",
       "      <td id=\"T_ba46d_row3_col3\" class=\"data row3 col3\" >6</td>\n",
       "      <td id=\"T_ba46d_row3_col4\" class=\"data row3 col4\" >1</td>\n",
       "      <td id=\"T_ba46d_row3_col5\" class=\"data row3 col5\" >1</td>\n",
       "      <td id=\"T_ba46d_row3_col6\" class=\"data row3 col6\" >0</td>\n",
       "      <td id=\"T_ba46d_row3_col7\" class=\"data row3 col7\" >1</td>\n",
       "    </tr>\n",
       "    <tr>\n",
       "      <td id=\"T_ba46d_row4_col0\" class=\"data row4 col0\" >4</td>\n",
       "      <td id=\"T_ba46d_row4_col1\" class=\"data row4 col1\" >None</td>\n",
       "      <td id=\"T_ba46d_row4_col2\" class=\"data row4 col2\" >water</td>\n",
       "      <td id=\"T_ba46d_row4_col3\" class=\"data row4 col3\" >136</td>\n",
       "      <td id=\"T_ba46d_row4_col4\" class=\"data row4 col4\" >136</td>\n",
       "      <td id=\"T_ba46d_row4_col5\" class=\"data row4 col5\" >136</td>\n",
       "      <td id=\"T_ba46d_row4_col6\" class=\"data row4 col6\" >0</td>\n",
       "      <td id=\"T_ba46d_row4_col7\" class=\"data row4 col7\" >136</td>\n",
       "    </tr>\n",
       "  </tbody>\n",
       "</table>\n"
      ],
      "text/plain": [
       "<pandas.io.formats.style.Styler at 0x7f9204241df0>"
      ]
     },
     "execution_count": 4,
     "metadata": {},
     "output_type": "execute_result"
    }
   ],
   "source": [
    "msm.info(molecular_system_A, element='entity')"
   ]
  },
  {
   "cell_type": "code",
   "execution_count": null,
   "id": "1926109e-2750-4540-9ced-2540d2427e07",
   "metadata": {},
   "outputs": [],
   "source": []
  }
 ],
 "metadata": {
  "kernelspec": {
   "display_name": "Python 3 (ipykernel)",
   "language": "python",
   "name": "python3"
  },
  "language_info": {
   "codemirror_mode": {
    "name": "ipython",
    "version": 3
   },
   "file_extension": ".py",
   "mimetype": "text/x-python",
   "name": "python",
   "nbconvert_exporter": "python",
   "pygments_lexer": "ipython3",
   "version": "3.9.15"
  }
 },
 "nbformat": 4,
 "nbformat_minor": 5
}
