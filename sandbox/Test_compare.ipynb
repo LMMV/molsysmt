{
 "cells": [
  {
   "cell_type": "code",
   "execution_count": 1,
   "id": "9daaf0e6-1474-469f-812d-4edc7b32528e",
   "metadata": {},
   "outputs": [
    {
     "data": {
      "application/vnd.jupyter.widget-view+json": {
       "model_id": "40b192258a0344ad927dc52e84a0be3c",
       "version_major": 2,
       "version_minor": 0
      },
      "text/plain": []
     },
     "metadata": {},
     "output_type": "display_data"
    }
   ],
   "source": [
    "import molsysmt as msm"
   ]
  },
  {
   "cell_type": "code",
   "execution_count": 2,
   "id": "060343a7-5eb1-47c2-9055-8ef0c881207e",
   "metadata": {},
   "outputs": [],
   "source": [
    "molsys_1 = msm.convert(msm.demo['alanine dipeptide']['vacuum.msmpk'], to_form='molsysmt.MolSys')\n",
    "molsys_2 = msm.structure.translate(molsys_1, translation='[0.5, 0.0, 0.0] nm')\n",
    "molsys_merged = msm.merge([molsys_1, molsys_2])\n",
    "view = msm.view(molsys_merged, viewer='NGLView')\n",
    "comparison = msm.compare(view, molsys_merged, rule='equal', attributes_type='topological',\n",
    "            coordinates=True, box=True, component_name=False, output_type='dictionary')"
   ]
  },
  {
   "cell_type": "code",
   "execution_count": 3,
   "id": "97e11b18-93fc-40f8-b4a0-4426f267eb3c",
   "metadata": {},
   "outputs": [
    {
     "data": {
      "text/plain": [
       "{'atom_index': True,\n",
       " 'atom_name': True,\n",
       " 'atom_id': False,\n",
       " 'atom_type': True,\n",
       " 'group_index': True,\n",
       " 'group_name': True,\n",
       " 'group_id': True,\n",
       " 'group_type': True,\n",
       " 'component_index': True,\n",
       " 'component_id': False,\n",
       " 'component_type': True,\n",
       " 'chain_index': True,\n",
       " 'chain_name': True,\n",
       " 'chain_id': True,\n",
       " 'chain_type': True,\n",
       " 'molecule_index': True,\n",
       " 'molecule_name': True,\n",
       " 'molecule_id': True,\n",
       " 'molecule_type': True,\n",
       " 'entity_index': True,\n",
       " 'entity_name': True,\n",
       " 'entity_id': True,\n",
       " 'entity_type': True,\n",
       " 'bond_index': False,\n",
       " 'bond_type': True,\n",
       " 'bond_order': True,\n",
       " 'bonded_atoms': False,\n",
       " 'inner_bonded_atoms': False,\n",
       " 'inner_bond_index': False,\n",
       " 'n_atoms': True,\n",
       " 'n_groups': True,\n",
       " 'n_components': True,\n",
       " 'n_chains': True,\n",
       " 'n_molecules': True,\n",
       " 'n_entities': True,\n",
       " 'n_bonds': True,\n",
       " 'n_inner_bonds': True,\n",
       " 'box': True,\n",
       " 'coordinates': True}"
      ]
     },
     "execution_count": 3,
     "metadata": {},
     "output_type": "execute_result"
    }
   ],
   "source": [
    "comparison"
   ]
  },
  {
   "cell_type": "code",
   "execution_count": null,
   "id": "d3ae9401-520e-4929-a01e-33b53cb103df",
   "metadata": {},
   "outputs": [],
   "source": []
  }
 ],
 "metadata": {
  "kernelspec": {
   "display_name": "Python 3 (ipykernel)",
   "language": "python",
   "name": "python3"
  },
  "language_info": {
   "codemirror_mode": {
    "name": "ipython",
    "version": 3
   },
   "file_extension": ".py",
   "mimetype": "text/x-python",
   "name": "python",
   "nbconvert_exporter": "python",
   "pygments_lexer": "ipython3",
   "version": "3.9.15"
  }
 },
 "nbformat": 4,
 "nbformat_minor": 5
}
