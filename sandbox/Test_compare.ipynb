{
 "cells": [
  {
   "cell_type": "code",
   "execution_count": 1,
   "id": "9daaf0e6-1474-469f-812d-4edc7b32528e",
   "metadata": {},
   "outputs": [
    {
     "data": {
      "application/vnd.jupyter.widget-view+json": {
       "model_id": "399b89dbaa204fb8b468ebbf14c14dd5",
       "version_major": 2,
       "version_minor": 0
      },
      "text/plain": []
     },
     "metadata": {},
     "output_type": "display_data"
    }
   ],
   "source": [
    "import molsysmt as msm"
   ]
  },
  {
   "cell_type": "code",
   "execution_count": 2,
   "id": "060343a7-5eb1-47c2-9055-8ef0c881207e",
   "metadata": {},
   "outputs": [],
   "source": [
    "molsys_1 = msm.convert(msm.demo['alanine dipeptide']['vacuum.msmpk'], to_form='molsysmt.MolSys')\n",
    "molsys_2 = msm.structure.translate(molsys_1, translation='[0.5, 0.0, 0.0] nm')\n",
    "molsys_concatenated = msm.concatenate_structures([molsys_1, molsys_2])\n",
    "view = msm.view(molsys_concatenated, viewer='NGLView')\n",
    "comparison = msm.compare(view, molsys_concatenated, attributes_type='topological',\n",
    "    coordinates=True, box=True, atom_id=False, component_name=False, component_id=False,\n",
    "    bond_index=False, inner_bond_index=False)"
   ]
  },
  {
   "cell_type": "code",
   "execution_count": 5,
   "id": "97c8fa09-addd-4071-8447-4d82f202ad88",
   "metadata": {},
   "outputs": [
    {
     "data": {
      "text/plain": [
       "{'atom_index': True,\n",
       " 'atom_name': True,\n",
       " 'atom_id': True,\n",
       " 'atom_type': True,\n",
       " 'group_index': True,\n",
       " 'group_name': True,\n",
       " 'group_id': True,\n",
       " 'group_type': True,\n",
       " 'component_index': True,\n",
       " 'component_name': True,\n",
       " 'component_id': True,\n",
       " 'component_type': True,\n",
       " 'chain_index': True,\n",
       " 'chain_name': True,\n",
       " 'chain_id': True,\n",
       " 'chain_type': True,\n",
       " 'molecule_index': True,\n",
       " 'molecule_name': True,\n",
       " 'molecule_id': True,\n",
       " 'molecule_type': True,\n",
       " 'entity_index': True,\n",
       " 'entity_name': True,\n",
       " 'entity_id': True,\n",
       " 'entity_type': True,\n",
       " 'bond_index': True,\n",
       " 'bond_type': True,\n",
       " 'bond_order': True,\n",
       " 'bonded_atoms': True,\n",
       " 'inner_bonded_atoms': True,\n",
       " 'inner_bond_index': True,\n",
       " 'n_atoms': True,\n",
       " 'n_groups': True,\n",
       " 'n_components': True,\n",
       " 'n_chains': True,\n",
       " 'n_molecules': True,\n",
       " 'n_entities': True,\n",
       " 'n_bonds': True,\n",
       " 'n_inner_bonds': True,\n",
       " 'box': True,\n",
       " 'coordinates': True}"
      ]
     },
     "execution_count": 5,
     "metadata": {},
     "output_type": "execute_result"
    }
   ],
   "source": [
    "msm.compare(view, molsys_concatenated, attributes_type='topological',\n",
    "    coordinates=True, box=True,\n",
    "    entity_name=False, entity_id=False,\n",
    "    bond_index=False, inner_bond_index=False, output_type='dictionary')"
   ]
  },
  {
   "cell_type": "code",
   "execution_count": null,
   "id": "d3ae9401-520e-4929-a01e-33b53cb103df",
   "metadata": {},
   "outputs": [],
   "source": []
  },
  {
   "cell_type": "code",
   "execution_count": null,
   "id": "612c0e9b-71f5-446d-a842-ac15c285651c",
   "metadata": {},
   "outputs": [],
   "source": []
  }
 ],
 "metadata": {
  "kernelspec": {
   "display_name": "Python 3 (ipykernel)",
   "language": "python",
   "name": "python3"
  },
  "language_info": {
   "codemirror_mode": {
    "name": "ipython",
    "version": 3
   },
   "file_extension": ".py",
   "mimetype": "text/x-python",
   "name": "python",
   "nbconvert_exporter": "python",
   "pygments_lexer": "ipython3",
   "version": "3.9.15"
  }
 },
 "nbformat": 4,
 "nbformat_minor": 5
}
