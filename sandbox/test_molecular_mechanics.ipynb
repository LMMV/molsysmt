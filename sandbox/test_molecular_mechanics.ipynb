{
 "cells": [
  {
   "cell_type": "markdown",
   "id": "64a347eb-f26e-460f-be8e-84a7bc14ba0b",
   "metadata": {},
   "source": [
    "# Test molecular mechanics"
   ]
  },
  {
   "cell_type": "code",
   "execution_count": 4,
   "id": "16aa93e1-372b-45e7-9246-57f0329404ce",
   "metadata": {},
   "outputs": [],
   "source": [
    "import molsysmt as msm"
   ]
  },
  {
   "cell_type": "code",
   "execution_count": 5,
   "id": "7f2fde8b-765d-4f5d-9870-d1a9aead918c",
   "metadata": {},
   "outputs": [],
   "source": [
    "psf = msm.demo['membrane']['membrane.psf']\n",
    "dcd = msm.demo['membrane']['membrane.dcd']"
   ]
  },
  {
   "cell_type": "code",
   "execution_count": 6,
   "id": "353ca8f0-b980-4fcb-89a5-cf1c6629e0c3",
   "metadata": {},
   "outputs": [],
   "source": [
    "molsys = msm.convert([psf,dcd])"
   ]
  },
  {
   "cell_type": "code",
   "execution_count": 7,
   "id": "e850bf67-e92f-4284-b1ac-9df16fafd650",
   "metadata": {},
   "outputs": [
    {
     "data": {
      "text/plain": [
       "'membrane.msmpk'"
      ]
     },
     "execution_count": 7,
     "metadata": {},
     "output_type": "execute_result"
    }
   ],
   "source": [
    "msm.convert(molsys, to_form='membrane.msmpk')"
   ]
  },
  {
   "cell_type": "code",
   "execution_count": 8,
   "id": "af30fc71-76c8-43ae-a1ea-823bc576ab80",
   "metadata": {},
   "outputs": [],
   "source": [
    "molsys = msm.convert(msm.demo['membrane']['membrane.msmpk'])"
   ]
  },
  {
   "cell_type": "code",
   "execution_count": 9,
   "id": "797181e0-e530-42d0-b582-3f267df84ea9",
   "metadata": {},
   "outputs": [
    {
     "data": {
      "text/html": [
       "<style type=\"text/css\">\n",
       "</style>\n",
       "<table id=\"T_3d999\">\n",
       "  <thead>\n",
       "    <tr>\n",
       "      <th id=\"T_3d999_level0_col0\" class=\"col_heading level0 col0\" >form</th>\n",
       "      <th id=\"T_3d999_level0_col1\" class=\"col_heading level0 col1\" >n_atoms</th>\n",
       "      <th id=\"T_3d999_level0_col2\" class=\"col_heading level0 col2\" >n_groups</th>\n",
       "      <th id=\"T_3d999_level0_col3\" class=\"col_heading level0 col3\" >n_components</th>\n",
       "      <th id=\"T_3d999_level0_col4\" class=\"col_heading level0 col4\" >n_chains</th>\n",
       "      <th id=\"T_3d999_level0_col5\" class=\"col_heading level0 col5\" >n_molecules</th>\n",
       "      <th id=\"T_3d999_level0_col6\" class=\"col_heading level0 col6\" >n_entities</th>\n",
       "      <th id=\"T_3d999_level0_col7\" class=\"col_heading level0 col7\" >n_waters</th>\n",
       "      <th id=\"T_3d999_level0_col8\" class=\"col_heading level0 col8\" >n_lipids</th>\n",
       "      <th id=\"T_3d999_level0_col9\" class=\"col_heading level0 col9\" >n_structures</th>\n",
       "    </tr>\n",
       "  </thead>\n",
       "  <tbody>\n",
       "    <tr>\n",
       "      <td id=\"T_3d999_row0_col0\" class=\"data row0 col0\" >molsysmt.MolSys</td>\n",
       "      <td id=\"T_3d999_row0_col1\" class=\"data row0 col1\" >78974</td>\n",
       "      <td id=\"T_3d999_row0_col2\" class=\"data row0 col2\" >13532</td>\n",
       "      <td id=\"T_3d999_row0_col3\" class=\"data row0 col3\" >13532</td>\n",
       "      <td id=\"T_3d999_row0_col4\" class=\"data row0 col4\" >3</td>\n",
       "      <td id=\"T_3d999_row0_col5\" class=\"data row0 col5\" >13532</td>\n",
       "      <td id=\"T_3d999_row0_col6\" class=\"data row0 col6\" >3</td>\n",
       "      <td id=\"T_3d999_row0_col7\" class=\"data row0 col7\" >13170</td>\n",
       "      <td id=\"T_3d999_row0_col8\" class=\"data row0 col8\" >294</td>\n",
       "      <td id=\"T_3d999_row0_col9\" class=\"data row0 col9\" >50</td>\n",
       "    </tr>\n",
       "  </tbody>\n",
       "</table>\n"
      ],
      "text/plain": [
       "<pandas.io.formats.style.Styler at 0x7f80c3de1fd0>"
      ]
     },
     "execution_count": 9,
     "metadata": {},
     "output_type": "execute_result"
    }
   ],
   "source": [
    "msm.info(molsys)"
   ]
  },
  {
   "cell_type": "code",
   "execution_count": null,
   "id": "90addc5f-23b8-4671-8c34-47d5a7b5335e",
   "metadata": {},
   "outputs": [],
   "source": [
    "Ps = msm.select(molsys, selection='atom_index==3')"
   ]
  },
  {
   "cell_type": "code",
   "execution_count": null,
   "id": "b8ed3b3e-d770-45a3-b272-c9718b8b1d13",
   "metadata": {},
   "outputs": [],
   "source": [
    "iterator = msm.Iterator(molsys, selection=Ps, coordinates=True)"
   ]
  },
  {
   "cell_type": "code",
   "execution_count": null,
   "id": "d6161630-8dfa-4c2c-8a05-fd727c133e60",
   "metadata": {},
   "outputs": [],
   "source": [
    "import molsysmt as msm"
   ]
  },
  {
   "cell_type": "code",
   "execution_count": null,
   "id": "7448bac2-e9cc-4298-beed-344ecf830126",
   "metadata": {},
   "outputs": [],
   "source": [
    "molsys = msm.convert(msm.demo['Barnase-Barstar']['barnase_barstar.msmpk'])"
   ]
  },
  {
   "cell_type": "code",
   "execution_count": null,
   "id": "b9092d9f-91b6-4257-bbc6-513f2dd9e09f",
   "metadata": {},
   "outputs": [],
   "source": [
    "msm.info(molsys)"
   ]
  },
  {
   "cell_type": "code",
   "execution_count": null,
   "id": "df4cfc5c-7972-4877-aa86-5899d660cc02",
   "metadata": {},
   "outputs": [],
   "source": [
    "msm.molecular_mechanics.get_potential_energy(molsys)"
   ]
  },
  {
   "cell_type": "code",
   "execution_count": null,
   "id": "38fa767f-19ed-4bd5-90c0-ca0f09b8454b",
   "metadata": {},
   "outputs": [],
   "source": []
  }
 ],
 "metadata": {
  "kernelspec": {
   "display_name": "Python 3 (ipykernel)",
   "language": "python",
   "name": "python3"
  },
  "language_info": {
   "codemirror_mode": {
    "name": "ipython",
    "version": 3
   },
   "file_extension": ".py",
   "mimetype": "text/x-python",
   "name": "python",
   "nbconvert_exporter": "python",
   "pygments_lexer": "ipython3",
   "version": "3.9.15"
  }
 },
 "nbformat": 4,
 "nbformat_minor": 5
}
