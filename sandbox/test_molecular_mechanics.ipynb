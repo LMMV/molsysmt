{
 "cells": [
  {
   "cell_type": "markdown",
   "id": "64a347eb-f26e-460f-be8e-84a7bc14ba0b",
   "metadata": {},
   "source": [
    "# Test molecular mechanics"
   ]
  },
  {
   "cell_type": "code",
   "execution_count": 1,
   "id": "d6161630-8dfa-4c2c-8a05-fd727c133e60",
   "metadata": {
    "tags": []
   },
   "outputs": [
    {
     "data": {
      "application/vnd.jupyter.widget-view+json": {
       "model_id": "ecb99c848735443794fd2d09ae7c3389",
       "version_major": 2,
       "version_minor": 0
      },
      "text/plain": []
     },
     "metadata": {},
     "output_type": "display_data"
    }
   ],
   "source": [
    "import molsysmt as msm"
   ]
  },
  {
   "cell_type": "code",
   "execution_count": 2,
   "id": "e674d3a1-6c65-461f-9c40-100ee038b5c5",
   "metadata": {
    "tags": []
   },
   "outputs": [],
   "source": [
    "molmech = {'forcefield': 'asf'}"
   ]
  },
  {
   "cell_type": "code",
   "execution_count": 3,
   "id": "0657478e-239c-42e1-90cf-ac919ef6e074",
   "metadata": {
    "tags": []
   },
   "outputs": [],
   "source": [
    "aa = msm.convert(molmech, to_form='molsysmt.MolecularMechanics')"
   ]
  },
  {
   "cell_type": "code",
   "execution_count": null,
   "id": "1aaa9279-9bda-47c1-9482-b16a11ecec36",
   "metadata": {
    "tags": []
   },
   "outputs": [],
   "source": [
    "aa.constraints"
   ]
  },
  {
   "cell_type": "code",
   "execution_count": 4,
   "id": "7448bac2-e9cc-4298-beed-344ecf830126",
   "metadata": {
    "tags": []
   },
   "outputs": [],
   "source": [
    "molsys = msm.convert(msm.demo['Barnase-Barstar']['barnase_barstar.msmpk'])"
   ]
  },
  {
   "cell_type": "code",
   "execution_count": 6,
   "id": "7053a279-ed30-4c9c-88c1-0b7365b8fc3e",
   "metadata": {},
   "outputs": [],
   "source": [
    "aa = msm.convert([molsys, molmech], to_form='molsysmt.MolecularMechanics')"
   ]
  },
  {
   "cell_type": "code",
   "execution_count": 7,
   "id": "426c34a8-67d1-420f-aa7d-bb5c39bec16f",
   "metadata": {},
   "outputs": [
    {
     "data": {
      "text/plain": [
       "'asf'"
      ]
     },
     "execution_count": 7,
     "metadata": {},
     "output_type": "execute_result"
    }
   ],
   "source": [
    "aa.forcefield"
   ]
  },
  {
   "cell_type": "code",
   "execution_count": null,
   "id": "6201715b-cab8-4885-b83a-c3381a87872f",
   "metadata": {},
   "outputs": [],
   "source": []
  }
 ],
 "metadata": {
  "kernelspec": {
   "display_name": "Python 3 (ipykernel)",
   "language": "python",
   "name": "python3"
  },
  "language_info": {
   "codemirror_mode": {
    "name": "ipython",
    "version": 3
   },
   "file_extension": ".py",
   "mimetype": "text/x-python",
   "name": "python",
   "nbconvert_exporter": "python",
   "pygments_lexer": "ipython3",
   "version": "3.9.15"
  }
 },
 "nbformat": 4,
 "nbformat_minor": 5
}
