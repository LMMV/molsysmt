{
 "cells": [
  {
   "cell_type": "markdown",
   "id": "64a347eb-f26e-460f-be8e-84a7bc14ba0b",
   "metadata": {},
   "source": [
    "# Test molecular mechanics"
   ]
  },
  {
   "cell_type": "code",
   "execution_count": 1,
   "id": "d6161630-8dfa-4c2c-8a05-fd727c133e60",
   "metadata": {},
   "outputs": [
    {
     "data": {
      "application/vnd.jupyter.widget-view+json": {
       "model_id": "13eb0c24d5b44027a4c035ec43bd2cd1",
       "version_major": 2,
       "version_minor": 0
      },
      "text/plain": []
     },
     "metadata": {},
     "output_type": "display_data"
    }
   ],
   "source": [
    "import molsysmt as msm"
   ]
  },
  {
   "cell_type": "code",
   "execution_count": 2,
   "id": "7448bac2-e9cc-4298-beed-344ecf830126",
   "metadata": {},
   "outputs": [],
   "source": [
    "molsys = msm.convert(msm.demo['Barnase-Barstar']['barnase_barstar.msmpk'])"
   ]
  },
  {
   "cell_type": "code",
   "execution_count": 3,
   "id": "b9092d9f-91b6-4257-bbc6-513f2dd9e09f",
   "metadata": {},
   "outputs": [
    {
     "data": {
      "text/html": [
       "<style type=\"text/css\">\n",
       "</style>\n",
       "<table id=\"T_6336a\">\n",
       "  <thead>\n",
       "    <tr>\n",
       "      <th id=\"T_6336a_level0_col0\" class=\"col_heading level0 col0\" >form</th>\n",
       "      <th id=\"T_6336a_level0_col1\" class=\"col_heading level0 col1\" >n_atoms</th>\n",
       "      <th id=\"T_6336a_level0_col2\" class=\"col_heading level0 col2\" >n_groups</th>\n",
       "      <th id=\"T_6336a_level0_col3\" class=\"col_heading level0 col3\" >n_components</th>\n",
       "      <th id=\"T_6336a_level0_col4\" class=\"col_heading level0 col4\" >n_chains</th>\n",
       "      <th id=\"T_6336a_level0_col5\" class=\"col_heading level0 col5\" >n_molecules</th>\n",
       "      <th id=\"T_6336a_level0_col6\" class=\"col_heading level0 col6\" >n_entities</th>\n",
       "      <th id=\"T_6336a_level0_col7\" class=\"col_heading level0 col7\" >n_proteins</th>\n",
       "      <th id=\"T_6336a_level0_col8\" class=\"col_heading level0 col8\" >n_structures</th>\n",
       "    </tr>\n",
       "  </thead>\n",
       "  <tbody>\n",
       "    <tr>\n",
       "      <td id=\"T_6336a_row0_col0\" class=\"data row0 col0\" >molsysmt.MolSys</td>\n",
       "      <td id=\"T_6336a_row0_col1\" class=\"data row0 col1\" >3159</td>\n",
       "      <td id=\"T_6336a_row0_col2\" class=\"data row0 col2\" >199</td>\n",
       "      <td id=\"T_6336a_row0_col3\" class=\"data row0 col3\" >2</td>\n",
       "      <td id=\"T_6336a_row0_col4\" class=\"data row0 col4\" >2</td>\n",
       "      <td id=\"T_6336a_row0_col5\" class=\"data row0 col5\" >2</td>\n",
       "      <td id=\"T_6336a_row0_col6\" class=\"data row0 col6\" >2</td>\n",
       "      <td id=\"T_6336a_row0_col7\" class=\"data row0 col7\" >2</td>\n",
       "      <td id=\"T_6336a_row0_col8\" class=\"data row0 col8\" >1</td>\n",
       "    </tr>\n",
       "  </tbody>\n",
       "</table>\n"
      ],
      "text/plain": [
       "<pandas.io.formats.style.Styler at 0x7fa06b666ca0>"
      ]
     },
     "execution_count": 3,
     "metadata": {},
     "output_type": "execute_result"
    }
   ],
   "source": [
    "msm.info(molsys)"
   ]
  },
  {
   "cell_type": "code",
   "execution_count": null,
   "id": "df4cfc5c-7972-4877-aa86-5899d660cc02",
   "metadata": {},
   "outputs": [],
   "source": [
    "msm.molecular_mechanics.get_potential_energy(molsys)"
   ]
  },
  {
   "cell_type": "code",
   "execution_count": null,
   "id": "38fa767f-19ed-4bd5-90c0-ca0f09b8454b",
   "metadata": {},
   "outputs": [],
   "source": []
  }
 ],
 "metadata": {
  "kernelspec": {
   "display_name": "Python 3 (ipykernel)",
   "language": "python",
   "name": "python3"
  },
  "language_info": {
   "codemirror_mode": {
    "name": "ipython",
    "version": 3
   },
   "file_extension": ".py",
   "mimetype": "text/x-python",
   "name": "python",
   "nbconvert_exporter": "python",
   "pygments_lexer": "ipython3",
   "version": "3.9.15"
  }
 },
 "nbformat": 4,
 "nbformat_minor": 5
}
