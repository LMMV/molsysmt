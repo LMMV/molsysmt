{
 "cells": [
  {
   "cell_type": "markdown",
   "id": "64a347eb-f26e-460f-be8e-84a7bc14ba0b",
   "metadata": {},
   "source": [
    "# Test molecular mechanics"
   ]
  },
  {
   "cell_type": "code",
   "execution_count": 1,
   "id": "d6161630-8dfa-4c2c-8a05-fd727c133e60",
   "metadata": {
    "tags": []
   },
   "outputs": [
    {
     "data": {
      "application/vnd.jupyter.widget-view+json": {
       "model_id": "bcf7c98984714bbebaa2c2d960763e09",
       "version_major": 2,
       "version_minor": 0
      },
      "text/plain": []
     },
     "metadata": {},
     "output_type": "display_data"
    }
   ],
   "source": [
    "import molsysmt as msm"
   ]
  },
  {
   "cell_type": "code",
   "execution_count": 2,
   "id": "7448bac2-e9cc-4298-beed-344ecf830126",
   "metadata": {
    "tags": []
   },
   "outputs": [],
   "source": [
    "molsys = msm.convert(msm.demo['Barnase-Barstar']['barnase_barstar.msmpk'])"
   ]
  },
  {
   "cell_type": "code",
   "execution_count": 10,
   "id": "51bd8442-a4e5-4c5e-abbc-d96126061598",
   "metadata": {},
   "outputs": [],
   "source": [
    "molsys.molecular_mechanics.forcefield='asdf'"
   ]
  },
  {
   "cell_type": "code",
   "execution_count": 12,
   "id": "01b7953b-a38c-4d14-a9ce-989db28ea79e",
   "metadata": {},
   "outputs": [
    {
     "data": {
      "text/plain": [
       "'asdf'"
      ]
     },
     "execution_count": 12,
     "metadata": {},
     "output_type": "execute_result"
    }
   ],
   "source": [
    "msm.get([molsys, {'forcefield':'AMBER99SB-ILDN'}], forcefield=True)"
   ]
  },
  {
   "cell_type": "code",
   "execution_count": 14,
   "id": "d4dede11-8042-4fed-95ed-45523cf001c1",
   "metadata": {},
   "outputs": [
    {
     "data": {
      "text/plain": [
       "(<molsysmt.native.molsys.MolSys at 0x7fe38e7f6ca0>, 'molsysmt.MolSys')"
      ]
     },
     "execution_count": 14,
     "metadata": {},
     "output_type": "execute_result"
    }
   ],
   "source": [
    "msm.where_is_attribute([molsys, {'forcefield':'AMBER99SB-ILDN'}], 'forcefield')"
   ]
  },
  {
   "cell_type": "code",
   "execution_count": null,
   "id": "f52e02e3-1150-476d-af31-35c556afea54",
   "metadata": {},
   "outputs": [],
   "source": [
    "msm.get(molsys, forcefield=True)"
   ]
  },
  {
   "cell_type": "code",
   "execution_count": null,
   "id": "561bd900-f5d6-48c7-b81d-8afe0b590999",
   "metadata": {},
   "outputs": [],
   "source": [
    "molsys.molecular_mechanics.forcefield"
   ]
  },
  {
   "cell_type": "code",
   "execution_count": null,
   "id": "ce2abd95-c78d-440d-9e52-9d1f158af313",
   "metadata": {},
   "outputs": [],
   "source": [
    "msm.info(molsys)"
   ]
  },
  {
   "cell_type": "code",
   "execution_count": null,
   "id": "f09fa61f-719d-4383-8cb0-05ea6312eff5",
   "metadata": {},
   "outputs": [],
   "source": [
    "msm.convert([molsys, {'forcefield':'AMBER99SB-ILDN'}], to_form='openmm.Context')"
   ]
  },
  {
   "cell_type": "code",
   "execution_count": null,
   "id": "d1ef0c5e-735b-490f-89da-a8216af67745",
   "metadata": {},
   "outputs": [],
   "source": [
    "msm.molecular_mechanics.get_potential_energy(molsys)"
   ]
  },
  {
   "cell_type": "code",
   "execution_count": null,
   "id": "e674d3a1-6c65-461f-9c40-100ee038b5c5",
   "metadata": {
    "tags": []
   },
   "outputs": [],
   "source": [
    "molmech = {'forcefield': 'asf'}"
   ]
  },
  {
   "cell_type": "code",
   "execution_count": null,
   "id": "0657478e-239c-42e1-90cf-ac919ef6e074",
   "metadata": {
    "tags": []
   },
   "outputs": [],
   "source": [
    "aa = msm.convert(molmech, to_form='molsysmt.MolecularMechanics')"
   ]
  },
  {
   "cell_type": "code",
   "execution_count": null,
   "id": "1aaa9279-9bda-47c1-9482-b16a11ecec36",
   "metadata": {
    "tags": []
   },
   "outputs": [],
   "source": [
    "aa.constraints"
   ]
  },
  {
   "cell_type": "code",
   "execution_count": null,
   "id": "7053a279-ed30-4c9c-88c1-0b7365b8fc3e",
   "metadata": {},
   "outputs": [],
   "source": [
    "aa = msm.convert([molsys, molmech], to_form='molsysmt.MolecularMechanics')"
   ]
  },
  {
   "cell_type": "code",
   "execution_count": null,
   "id": "426c34a8-67d1-420f-aa7d-bb5c39bec16f",
   "metadata": {},
   "outputs": [],
   "source": [
    "aa.forcefield"
   ]
  },
  {
   "cell_type": "code",
   "execution_count": null,
   "id": "6201715b-cab8-4885-b83a-c3381a87872f",
   "metadata": {},
   "outputs": [],
   "source": []
  }
 ],
 "metadata": {
  "kernelspec": {
   "display_name": "Python 3 (ipykernel)",
   "language": "python",
   "name": "python3"
  },
  "language_info": {
   "codemirror_mode": {
    "name": "ipython",
    "version": 3
   },
   "file_extension": ".py",
   "mimetype": "text/x-python",
   "name": "python",
   "nbconvert_exporter": "python",
   "pygments_lexer": "ipython3",
   "version": "3.9.15"
  }
 },
 "nbformat": 4,
 "nbformat_minor": 5
}
