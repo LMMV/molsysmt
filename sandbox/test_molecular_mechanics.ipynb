{
 "cells": [
  {
   "cell_type": "markdown",
   "id": "64a347eb-f26e-460f-be8e-84a7bc14ba0b",
   "metadata": {},
   "source": [
    "# Test molecular mechanics"
   ]
  },
  {
   "cell_type": "code",
   "execution_count": 1,
   "id": "d6161630-8dfa-4c2c-8a05-fd727c133e60",
   "metadata": {
    "tags": []
   },
   "outputs": [
    {
     "data": {
      "application/vnd.jupyter.widget-view+json": {
       "model_id": "11970482323c44e6a3c1501d3bd95578",
       "version_major": 2,
       "version_minor": 0
      },
      "text/plain": []
     },
     "metadata": {},
     "output_type": "display_data"
    }
   ],
   "source": [
    "import molsysmt as msm"
   ]
  },
  {
   "cell_type": "code",
   "execution_count": 2,
   "id": "6428194b-3682-4257-8607-5bb1f7f32d04",
   "metadata": {},
   "outputs": [
    {
     "data": {
      "text/plain": [
       "{'atom_index': False,\n",
       " 'atom_name': False,\n",
       " 'atom_id': False,\n",
       " 'atom_type': False,\n",
       " 'group_index': False,\n",
       " 'group_name': False,\n",
       " 'group_id': False,\n",
       " 'group_type': False,\n",
       " 'component_index': False,\n",
       " 'component_name': False,\n",
       " 'component_id': False,\n",
       " 'component_type': False,\n",
       " 'chain_index': False,\n",
       " 'chain_name': False,\n",
       " 'chain_id': False,\n",
       " 'chain_type': False,\n",
       " 'molecule_index': False,\n",
       " 'molecule_name': False,\n",
       " 'molecule_id': False,\n",
       " 'molecule_type': False,\n",
       " 'entity_index': False,\n",
       " 'entity_name': False,\n",
       " 'entity_id': False,\n",
       " 'entity_type': False,\n",
       " 'bond_index': False,\n",
       " 'bond_id': False,\n",
       " 'bond_type': False,\n",
       " 'bond_order': False,\n",
       " 'bonded_atoms': False,\n",
       " 'inner_bonded_atoms': False,\n",
       " 'inner_bond_index': False,\n",
       " 'n_atoms': False,\n",
       " 'n_groups': False,\n",
       " 'n_components': False,\n",
       " 'n_chains': False,\n",
       " 'n_molecules': False,\n",
       " 'n_entities': False,\n",
       " 'n_bonds': False,\n",
       " 'n_inner_bonds': False,\n",
       " 'n_aminoacids': False,\n",
       " 'n_nucleotides': False,\n",
       " 'n_ions': False,\n",
       " 'n_waters': False,\n",
       " 'n_small_molecules': False,\n",
       " 'n_peptides': False,\n",
       " 'n_proteins': False,\n",
       " 'n_dnas': False,\n",
       " 'n_rnas': False,\n",
       " 'n_lipids': False,\n",
       " 'n_oligosaccharides': False,\n",
       " 'n_saccharides': False,\n",
       " 'structure_index': False,\n",
       " 'structure_id': False,\n",
       " 'time': False,\n",
       " 'box': False,\n",
       " 'box_shape': False,\n",
       " 'box_angles': False,\n",
       " 'box_lengths': False,\n",
       " 'box_volume': False,\n",
       " 'coordinates': False,\n",
       " 'n_structures': False,\n",
       " 'occupance': False,\n",
       " 'alternate_location': False,\n",
       " 'b_factor': False,\n",
       " 'temperature': False,\n",
       " 'formal_charge': False,\n",
       " 'partial_charge': False,\n",
       " 'forcefield': False,\n",
       " 'non_bonded_method': False,\n",
       " 'cutoff_distance': False,\n",
       " 'switch_distance': False,\n",
       " 'dispersion_correction': False,\n",
       " 'ewald_error_tolerance': False,\n",
       " 'hydrogen_mass': False,\n",
       " 'constraints': False,\n",
       " 'flexible_constraints': False,\n",
       " 'water_model': False,\n",
       " 'rigid_water': False,\n",
       " 'implicit_solvent': False,\n",
       " 'solute_dielectric': False,\n",
       " 'solvent_dielectric': False,\n",
       " 'salt_concentration': False,\n",
       " 'kappa': False}"
      ]
     },
     "execution_count": 2,
     "metadata": {},
     "output_type": "execute_result"
    }
   ],
   "source": [
    "msm.form.molsysmt_MolSys.attributes"
   ]
  },
  {
   "cell_type": "code",
   "execution_count": null,
   "id": "7448bac2-e9cc-4298-beed-344ecf830126",
   "metadata": {
    "tags": []
   },
   "outputs": [],
   "source": [
    "molsys = msm.convert(msm.demo['Barnase-Barstar']['barnase_barstar.msmpk'])"
   ]
  },
  {
   "cell_type": "code",
   "execution_count": null,
   "id": "51bd8442-a4e5-4c5e-abbc-d96126061598",
   "metadata": {},
   "outputs": [],
   "source": [
    "molsys.molecular_mechanics.forcefield='asdf'"
   ]
  },
  {
   "cell_type": "code",
   "execution_count": null,
   "id": "01b7953b-a38c-4d14-a9ce-989db28ea79e",
   "metadata": {},
   "outputs": [],
   "source": [
    "msm.get([molsys, {'forcefield':'AMBER99SB-ILDN'}], forcefield=True)"
   ]
  },
  {
   "cell_type": "code",
   "execution_count": null,
   "id": "d4dede11-8042-4fed-95ed-45523cf001c1",
   "metadata": {},
   "outputs": [],
   "source": [
    "msm.where_is_attribute([molsys, {'forcefield':'AMBER99SB-ILDN'}], 'forcefield')"
   ]
  },
  {
   "cell_type": "code",
   "execution_count": null,
   "id": "f52e02e3-1150-476d-af31-35c556afea54",
   "metadata": {},
   "outputs": [],
   "source": [
    "msm.get(molsys, forcefield=True)"
   ]
  },
  {
   "cell_type": "code",
   "execution_count": null,
   "id": "561bd900-f5d6-48c7-b81d-8afe0b590999",
   "metadata": {},
   "outputs": [],
   "source": [
    "molsys.molecular_mechanics.forcefield"
   ]
  },
  {
   "cell_type": "code",
   "execution_count": null,
   "id": "ce2abd95-c78d-440d-9e52-9d1f158af313",
   "metadata": {},
   "outputs": [],
   "source": [
    "msm.info(molsys)"
   ]
  },
  {
   "cell_type": "code",
   "execution_count": null,
   "id": "f09fa61f-719d-4383-8cb0-05ea6312eff5",
   "metadata": {},
   "outputs": [],
   "source": [
    "msm.convert([molsys, {'forcefield':'AMBER99SB-ILDN'}], to_form='openmm.Context')"
   ]
  },
  {
   "cell_type": "code",
   "execution_count": null,
   "id": "d1ef0c5e-735b-490f-89da-a8216af67745",
   "metadata": {},
   "outputs": [],
   "source": [
    "msm.molecular_mechanics.get_potential_energy(molsys)"
   ]
  },
  {
   "cell_type": "code",
   "execution_count": null,
   "id": "e674d3a1-6c65-461f-9c40-100ee038b5c5",
   "metadata": {
    "tags": []
   },
   "outputs": [],
   "source": [
    "molmech = {'forcefield': 'asf'}"
   ]
  },
  {
   "cell_type": "code",
   "execution_count": null,
   "id": "0657478e-239c-42e1-90cf-ac919ef6e074",
   "metadata": {
    "tags": []
   },
   "outputs": [],
   "source": [
    "aa = msm.convert(molmech, to_form='molsysmt.MolecularMechanics')"
   ]
  },
  {
   "cell_type": "code",
   "execution_count": null,
   "id": "1aaa9279-9bda-47c1-9482-b16a11ecec36",
   "metadata": {
    "tags": []
   },
   "outputs": [],
   "source": [
    "aa.constraints"
   ]
  },
  {
   "cell_type": "code",
   "execution_count": null,
   "id": "7053a279-ed30-4c9c-88c1-0b7365b8fc3e",
   "metadata": {},
   "outputs": [],
   "source": [
    "aa = msm.convert([molsys, molmech], to_form='molsysmt.MolecularMechanics')"
   ]
  },
  {
   "cell_type": "code",
   "execution_count": null,
   "id": "426c34a8-67d1-420f-aa7d-bb5c39bec16f",
   "metadata": {},
   "outputs": [],
   "source": [
    "aa.forcefield"
   ]
  },
  {
   "cell_type": "code",
   "execution_count": null,
   "id": "6201715b-cab8-4885-b83a-c3381a87872f",
   "metadata": {},
   "outputs": [],
   "source": []
  }
 ],
 "metadata": {
  "kernelspec": {
   "display_name": "Python 3 (ipykernel)",
   "language": "python",
   "name": "python3"
  },
  "language_info": {
   "codemirror_mode": {
    "name": "ipython",
    "version": 3
   },
   "file_extension": ".py",
   "mimetype": "text/x-python",
   "name": "python",
   "nbconvert_exporter": "python",
   "pygments_lexer": "ipython3",
   "version": "3.9.15"
  }
 },
 "nbformat": 4,
 "nbformat_minor": 5
}
