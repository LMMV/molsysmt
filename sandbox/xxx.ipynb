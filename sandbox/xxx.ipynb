{
 "cells": [
  {
   "cell_type": "code",
   "execution_count": 1,
   "id": "0e66d01f-d931-4904-8eb1-c4fda466cdf0",
   "metadata": {},
   "outputs": [
    {
     "data": {
      "application/vnd.jupyter.widget-view+json": {
       "model_id": "613e759168614e619e2bedc1c1ddf5aa",
       "version_major": 2,
       "version_minor": 0
      },
      "text/plain": []
     },
     "metadata": {},
     "output_type": "display_data"
    }
   ],
   "source": [
    "import molsysmt as msm"
   ]
  },
  {
   "cell_type": "code",
   "execution_count": 2,
   "id": "ac2982bf-7b9a-462a-adf9-869c039d1381",
   "metadata": {},
   "outputs": [],
   "source": [
    "molsys = msm.convert(msm.demo['Met-enkephalin']['vacuum.pdb'], to_form='molsysmt.MolSys')"
   ]
  },
  {
   "cell_type": "code",
   "execution_count": 11,
   "id": "51960bd9-31d7-4715-8e01-7e8681ff8752",
   "metadata": {},
   "outputs": [
    {
     "name": "stderr",
     "output_type": "stream",
     "text": [
      "/tmp/ipykernel_34043/2883329740.py:1: SettingWithCopyWarning: \n",
      "A value is trying to be set on a copy of a slice from a DataFrame\n",
      "\n",
      "See the caveats in the documentation: https://pandas.pydata.org/pandas-docs/stable/user_guide/indexing.html#returning-a-view-versus-a-copy\n",
      "  molsys.topology.atoms_dataframe['group_id'][68]=3\n"
     ]
    }
   ],
   "source": [
    "molsys.topology.atoms_dataframe['group_id'][68]=3"
   ]
  },
  {
   "cell_type": "code",
   "execution_count": 3,
   "id": "98f5fe59-1c9e-4a41-affa-26d71e567b6a",
   "metadata": {},
   "outputs": [
    {
     "data": {
      "text/plain": [
       "array([1, 2, 3, 4, 5])"
      ]
     },
     "execution_count": 3,
     "metadata": {},
     "output_type": "execute_result"
    }
   ],
   "source": [
    "msm.get(molsys, element='group', group_id=True)"
   ]
  },
  {
   "cell_type": "code",
   "execution_count": 16,
   "id": "c855d2ca-7db4-48f9-bf3e-3978a7099162",
   "metadata": {},
   "outputs": [
    {
     "data": {
      "text/plain": [
       "array([4])"
      ]
     },
     "execution_count": 16,
     "metadata": {},
     "output_type": "execute_result"
    }
   ],
   "source": [
    "msm.get(molsys, element='group', selection='group_name==\"MET\"', group_index=True)"
   ]
  },
  {
   "cell_type": "code",
   "execution_count": 13,
   "id": "bfbd713b-c49a-43fc-a678-b6530f3a32eb",
   "metadata": {},
   "outputs": [],
   "source": [
    "aa = {0:1, 1:2}"
   ]
  },
  {
   "cell_type": "code",
   "execution_count": 14,
   "id": "254852e5-5285-4946-9002-1c5c66807e38",
   "metadata": {},
   "outputs": [
    {
     "name": "stdout",
     "output_type": "stream",
     "text": [
      "0 1\n",
      "1 2\n"
     ]
    }
   ],
   "source": [
    "for ii,jj in aa.items():\n",
    "    print(ii,jj)"
   ]
  },
  {
   "cell_type": "code",
   "execution_count": null,
   "id": "e1be8a0e-0957-411d-9f66-9333645473f1",
   "metadata": {},
   "outputs": [],
   "source": [
    "molsys = msm.build.mutate(molsys, residue_indices=[1,2], to_residue_names=['ALA', 'VAL'])"
   ]
  },
  {
   "cell_type": "code",
   "execution_count": null,
   "id": "6f32f43a-b77b-401d-819e-a90f51c66446",
   "metadata": {},
   "outputs": [],
   "source": [
    "molsys = msm.convert(msm.demo['Met-enkephalin']['vacuum.pdb'], to_form='molsysmt.MolSys')\n",
    "molsys = msm.build.mutate(molsys, residue_indices=[1,2], to_residue_names=['ALA', 'VAL'])\n",
    "seq = msm.convert(molsys, to_form='string:aminoacids3')\n",
    "check = (seq == 'TyrAlaValPheMet')\n",
    "assert check\n"
   ]
  }
 ],
 "metadata": {
  "kernelspec": {
   "display_name": "Python 3 (ipykernel)",
   "language": "python",
   "name": "python3"
  },
  "language_info": {
   "codemirror_mode": {
    "name": "ipython",
    "version": 3
   },
   "file_extension": ".py",
   "mimetype": "text/x-python",
   "name": "python",
   "nbconvert_exporter": "python",
   "pygments_lexer": "ipython3",
   "version": "3.9.15"
  }
 },
 "nbformat": 4,
 "nbformat_minor": 5
}
