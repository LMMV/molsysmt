{
 "cells": [
  {
   "cell_type": "code",
   "execution_count": 1,
   "id": "9035b2b8-a922-4c81-be34-37ff56d9d070",
   "metadata": {},
   "outputs": [
    {
     "data": {
      "application/vnd.jupyter.widget-view+json": {
       "model_id": "f6872d15a9834cf498cf6a8c05ce77e7",
       "version_major": 2,
       "version_minor": 0
      },
      "text/plain": []
     },
     "metadata": {},
     "output_type": "display_data"
    }
   ],
   "source": [
    "import molsysmt as msm"
   ]
  },
  {
   "cell_type": "code",
   "execution_count": 2,
   "id": "7a922ebe-a544-4a4e-b1ed-ae13b4f952eb",
   "metadata": {},
   "outputs": [],
   "source": [
    "molecular_system = msm.convert(msm.systems.demo['Barnase-Barstar']['barnase_barstar.msmpk'])"
   ]
  },
  {
   "cell_type": "code",
   "execution_count": 3,
   "id": "ea5b9924-d91b-4d9b-94eb-62b56a794c30",
   "metadata": {},
   "outputs": [],
   "source": [
    "modeller = msm.convert(molecular_system, to_form='openmm.Modeller')"
   ]
  },
  {
   "cell_type": "code",
   "execution_count": 4,
   "id": "26b73944-9aa3-4c56-bf71-8792d60933cb",
   "metadata": {},
   "outputs": [],
   "source": [
    "import openmm as mm\n",
    "from openmm import unit\n",
    "from openmm import app"
   ]
  },
  {
   "cell_type": "code",
   "execution_count": 5,
   "id": "88e1257c-6e25-4193-9b93-15d674a8ad87",
   "metadata": {},
   "outputs": [],
   "source": [
    "forcefield = app.ForceField('amber14-all.xml', 'amber14/tip3p.xml')"
   ]
  },
  {
   "cell_type": "code",
   "execution_count": 6,
   "id": "5ee94665-65f6-4c96-880b-64514c9e328b",
   "metadata": {},
   "outputs": [],
   "source": [
    "system = forcefield.createSystem(modeller.topology, nonbondedMethod=app.NoCutoff, constraints=app.HBonds)"
   ]
  },
  {
   "cell_type": "code",
   "execution_count": 7,
   "id": "8f3bd1c9-9383-4594-94f9-fb469a94afc3",
   "metadata": {},
   "outputs": [],
   "source": [
    "#forcegroups = {}\n",
    "#for ii in range(system.getNumForces()):\n",
    "#    force = system.getForce(ii)\n",
    "#    print(f'{force.getName()} was in force group {force.getForceGroup()} and it is now in group {ii}')\n",
    "#    force.setForceGroup(ii)\n",
    "#    forcegroups[force] = ii"
   ]
  },
  {
   "cell_type": "code",
   "execution_count": 8,
   "id": "1833da7f-6a40-4e3e-af6d-efdcd1a7038c",
   "metadata": {},
   "outputs": [],
   "source": [
    "# A simulation object is needed\n",
    "\n",
    "## Integrator\n",
    "step_size   = 0.002*unit.picoseconds\n",
    "temperature = 0.0*unit.kelvin\n",
    "friction    = 0.0/unit.picosecond # Damping para la dinámica de Langevin\n",
    "\n",
    "integrator = mm.LangevinIntegrator(temperature, friction, step_size)\n",
    "\n",
    "## Platform\n",
    "platform_name = 'CUDA'\n",
    "platform    = mm.Platform.getPlatformByName(platform_name)"
   ]
  },
  {
   "cell_type": "code",
   "execution_count": 9,
   "id": "0e79a93f-f2f2-474d-bc9c-86a9af8744a0",
   "metadata": {},
   "outputs": [],
   "source": [
    "# Creación del objeto context del sistema en vacio\n",
    "context = mm.Context(system, integrator, platform)"
   ]
  },
  {
   "cell_type": "code",
   "execution_count": 10,
   "id": "eddf9859-eb41-4585-8c73-26ae0d8119b9",
   "metadata": {},
   "outputs": [],
   "source": [
    "# Condiciones iniciales\n",
    "context.setPositions(modeller.positions)"
   ]
  },
  {
   "cell_type": "code",
   "execution_count": 11,
   "id": "a2de8c83-b66a-4a7e-b549-c47fa00de945",
   "metadata": {},
   "outputs": [],
   "source": [
    "# Minimizacion del sistema\n",
    "state_pre_minimization = context.getState(getEnergy=True)\n",
    "mm.LocalEnergyMinimizer.minimize(context)\n",
    "state_post_minimization = context.getState(getEnergy=True)"
   ]
  },
  {
   "cell_type": "code",
   "execution_count": 12,
   "id": "53a383bf-80c7-4d22-8bb3-d43cfcdc83e3",
   "metadata": {},
   "outputs": [
    {
     "name": "stdout",
     "output_type": "stream",
     "text": [
      "Energy before minimization: 18582.798828125 kJ/mol\n",
      "Energy after minimization: -24856.564453125 kJ/mol\n"
     ]
    }
   ],
   "source": [
    "print('Energy before minimization:', state_pre_minimization.getPotentialEnergy())\n",
    "print('Energy after minimization:', state_post_minimization.getPotentialEnergy())"
   ]
  },
  {
   "cell_type": "code",
   "execution_count": 13,
   "id": "4c0ad81b-bad0-42cf-acc0-bf1a8eaf92c8",
   "metadata": {},
   "outputs": [
    {
     "name": "stdout",
     "output_type": "stream",
     "text": [
      "HarmonicBondForce was in force group 0 and it is now in group 0\n",
      "NonbondedForce was in force group 0 and it is now in group 1\n",
      "PeriodicTorsionForce was in force group 0 and it is now in group 2\n",
      "CMMotionRemover was in force group 0 and it is now in group 3\n",
      "HarmonicAngleForce was in force group 0 and it is now in group 4\n"
     ]
    }
   ],
   "source": [
    "tmp_system = context.getSystem()\n",
    "forcegroups = {}\n",
    "for ii in range(tmp_system.getNumForces()):\n",
    "    force = system.getForce(ii)\n",
    "    print(f'{force.getName()} was in force group {force.getForceGroup()} and it is now in group {ii}')\n",
    "    force.setForceGroup(ii)\n",
    "    forcegroups[force] = ii\n",
    "\n",
    "\n",
    "tmp_context = mm.Context(tmp_system, mm.VerletIntegrator(0.001), context.getPlatform())\n",
    "tmp_context.setPositions(context.getState(getPositions=True).getPositions())\n",
    "energies = {}\n",
    "for ff, ii in forcegroups.items():\n",
    "    energies[ff.getName()] = tmp_context.getState(getEnergy=True, groups={ii}).getPotentialEnergy()"
   ]
  },
  {
   "cell_type": "code",
   "execution_count": 14,
   "id": "6f7f9245-4a56-4e5a-a691-6f55df082574",
   "metadata": {},
   "outputs": [
    {
     "name": "stdout",
     "output_type": "stream",
     "text": [
      "HarmonicBondForce -24856.564453125 kJ/mol\n",
      "NonbondedForce 0.0 kJ/mol\n",
      "PeriodicTorsionForce 0.0 kJ/mol\n",
      "CMMotionRemover 0.0 kJ/mol\n",
      "HarmonicAngleForce 0.0 kJ/mol\n"
     ]
    }
   ],
   "source": [
    "for ii,jj in energies.items():\n",
    "    print(ii,jj)"
   ]
  },
  {
   "cell_type": "code",
   "execution_count": null,
   "id": "f842fb4e-4b42-4c63-acfa-bd81f9ecad23",
   "metadata": {},
   "outputs": [],
   "source": [
    "context.getState(getPositions=True).getPositions()"
   ]
  },
  {
   "cell_type": "code",
   "execution_count": null,
   "id": "f8e8c9a6-83ed-41ee-80f8-d8bfad148771",
   "metadata": {},
   "outputs": [],
   "source": []
  }
 ],
 "metadata": {
  "kernelspec": {
   "display_name": "Python 3 (ipykernel)",
   "language": "python",
   "name": "python3"
  },
  "language_info": {
   "codemirror_mode": {
    "name": "ipython",
    "version": 3
   },
   "file_extension": ".py",
   "mimetype": "text/x-python",
   "name": "python",
   "nbconvert_exporter": "python",
   "pygments_lexer": "ipython3",
   "version": "3.10.12"
  }
 },
 "nbformat": 4,
 "nbformat_minor": 5
}
