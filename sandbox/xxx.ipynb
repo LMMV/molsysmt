{
 "cells": [
  {
   "cell_type": "code",
   "execution_count": 1,
   "id": "0e66d01f-d931-4904-8eb1-c4fda466cdf0",
   "metadata": {},
   "outputs": [
    {
     "ename": "SyntaxError",
     "evalue": "invalid syntax (mutate.py, line 29)",
     "output_type": "error",
     "traceback": [
      "Traceback \u001b[0;36m(most recent call last)\u001b[0m:\n",
      "\u001b[0m  File \u001b[1;32m~/Myopt/miniconda3/envs/MolSysMT@dprada_3.9/lib/python3.9/site-packages/IPython/core/interactiveshell.py:3442\u001b[0m in \u001b[1;35mrun_code\u001b[0m\n    exec(code_obj, self.user_global_ns, self.user_ns)\u001b[0m\n",
      "\u001b[0m  Cell \u001b[1;32mIn[1], line 1\u001b[0m\n    import molsysmt as msm\u001b[0m\n",
      "\u001b[0m  File \u001b[1;32m~/projects@dprada/MolSysMT/molsysmt/__init__.py:31\u001b[0m\n    from . import build\u001b[0m\n",
      "\u001b[0;36m  File \u001b[0;32m~/projects@dprada/MolSysMT/molsysmt/build/__init__.py:17\u001b[0;36m\n\u001b[0;31m    from .mutate import mutate\u001b[0;36m\n",
      "\u001b[0;36m  File \u001b[0;32m~/projects@dprada/MolSysMT/molsysmt/build/mutate.py:29\u001b[0;36m\u001b[0m\n\u001b[0;31m    aux_indices =\u001b[0m\n\u001b[0m                  ^\u001b[0m\n\u001b[0;31mSyntaxError\u001b[0m\u001b[0;31m:\u001b[0m invalid syntax\n"
     ]
    }
   ],
   "source": [
    "import molsysmt as msm"
   ]
  },
  {
   "cell_type": "code",
   "execution_count": null,
   "id": "ac2982bf-7b9a-462a-adf9-869c039d1381",
   "metadata": {},
   "outputs": [],
   "source": [
    "molsys = msm.convert(msm.demo['Met-enkephalin']['vacuum.pdb'], to_form='molsysmt.MolSys')"
   ]
  },
  {
   "cell_type": "code",
   "execution_count": null,
   "id": "51960bd9-31d7-4715-8e01-7e8681ff8752",
   "metadata": {},
   "outputs": [],
   "source": [
    "molsys.topology.atoms_dataframe['group_id'][68]=3"
   ]
  },
  {
   "cell_type": "code",
   "execution_count": null,
   "id": "98f5fe59-1c9e-4a41-affa-26d71e567b6a",
   "metadata": {},
   "outputs": [],
   "source": [
    "msm.get(molsys, element='group', group_id=True)"
   ]
  },
  {
   "cell_type": "code",
   "execution_count": null,
   "id": "c855d2ca-7db4-48f9-bf3e-3978a7099162",
   "metadata": {},
   "outputs": [],
   "source": [
    "msm.get(molsys, element='group', selection='group_name==\"MET\"', group_index=True)"
   ]
  },
  {
   "cell_type": "code",
   "execution_count": null,
   "id": "bfbd713b-c49a-43fc-a678-b6530f3a32eb",
   "metadata": {},
   "outputs": [],
   "source": [
    "aa = {0:1, 1:2}"
   ]
  },
  {
   "cell_type": "code",
   "execution_count": null,
   "id": "254852e5-5285-4946-9002-1c5c66807e38",
   "metadata": {},
   "outputs": [],
   "source": [
    "for ii,jj in aa.items():\n",
    "    print(ii,jj)"
   ]
  },
  {
   "cell_type": "code",
   "execution_count": null,
   "id": "e1be8a0e-0957-411d-9f66-9333645473f1",
   "metadata": {},
   "outputs": [],
   "source": [
    "molsys = msm.build.mutate(molsys, residue_indices=[1,2], to_residue_names=['ALA', 'VAL'])"
   ]
  },
  {
   "cell_type": "code",
   "execution_count": null,
   "id": "6f32f43a-b77b-401d-819e-a90f51c66446",
   "metadata": {},
   "outputs": [],
   "source": [
    "molsys = msm.convert(msm.demo['Met-enkephalin']['vacuum.pdb'], to_form='molsysmt.MolSys')\n",
    "molsys = msm.build.mutate(molsys, residue_indices=[1,2], to_residue_names=['ALA', 'VAL'])\n",
    "seq = msm.convert(molsys, to_form='string:aminoacids3')\n",
    "check = (seq == 'TyrAlaValPheMet')\n",
    "assert check\n"
   ]
  },
  {
   "cell_type": "code",
   "execution_count": 3,
   "id": "ac34a00d-f7e0-4783-ba6e-089081df7efd",
   "metadata": {},
   "outputs": [],
   "source": [
    "aa = 'ALA-37-VAL'"
   ]
  },
  {
   "cell_type": "code",
   "execution_count": 4,
   "id": "5a1c8bc4-cc52-41f1-bc87-0becc229648d",
   "metadata": {},
   "outputs": [],
   "source": [
    "a, b, c = aa.split('-')"
   ]
  },
  {
   "cell_type": "code",
   "execution_count": 5,
   "id": "06ee0e9a-67ef-4fa7-8584-3b0eecddbffd",
   "metadata": {},
   "outputs": [
    {
     "data": {
      "text/plain": [
       "'ALA'"
      ]
     },
     "execution_count": 5,
     "metadata": {},
     "output_type": "execute_result"
    }
   ],
   "source": [
    "a"
   ]
  },
  {
   "cell_type": "code",
   "execution_count": null,
   "id": "6282a12d-7cf9-4873-a80f-44ec0cb293ca",
   "metadata": {},
   "outputs": [],
   "source": []
  }
 ],
 "metadata": {
  "kernelspec": {
   "display_name": "Python 3 (ipykernel)",
   "language": "python",
   "name": "python3"
  },
  "language_info": {
   "codemirror_mode": {
    "name": "ipython",
    "version": 3
   },
   "file_extension": ".py",
   "mimetype": "text/x-python",
   "name": "python",
   "nbconvert_exporter": "python",
   "pygments_lexer": "ipython3",
   "version": "3.9.15"
  }
 },
 "nbformat": 4,
 "nbformat_minor": 5
}
