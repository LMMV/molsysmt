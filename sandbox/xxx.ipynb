{
 "cells": [
  {
   "cell_type": "code",
   "execution_count": 14,
   "id": "5803c50d-058f-46c4-9fa3-528ba01bb34b",
   "metadata": {},
   "outputs": [],
   "source": [
    "import molsysmt as msm\n",
    "import numpy as np"
   ]
  },
  {
   "cell_type": "code",
   "execution_count": 2,
   "id": "07398b6f-797c-4854-9a0c-950e500f95a2",
   "metadata": {},
   "outputs": [],
   "source": [
    "molsys_1 = msm.convert(msm.demo['T4 lysozyme L99A']['181l.msmpk'], to_form='molsysmt.MolSys')"
   ]
  },
  {
   "cell_type": "code",
   "execution_count": 3,
   "id": "21993164-3227-426f-a89a-1be969cd5e85",
   "metadata": {},
   "outputs": [],
   "source": [
    "molsys_1 = msm.extract(molsys_1, selection='molecule_type==\"protein\"')"
   ]
  },
  {
   "cell_type": "code",
   "execution_count": 4,
   "id": "824dafec-6dbe-4339-97a4-6af02c08338a",
   "metadata": {},
   "outputs": [],
   "source": [
    "molsys_2 = msm.convert(msm.demo['T4 lysozyme L99A']['1l17.msmpk'], to_form='molsysmt.MolSys')"
   ]
  },
  {
   "cell_type": "code",
   "execution_count": 5,
   "id": "18687322-b99f-4cc4-9032-473b0b83a7b3",
   "metadata": {},
   "outputs": [],
   "source": [
    "molsys_2 = msm.convert(molsys_2, to_form='molsysmt.MolSys', selection='molecule_type==\"protein\"')"
   ]
  },
  {
   "cell_type": "code",
   "execution_count": 6,
   "id": "bbc8e279-409e-436d-9634-395a63d40470",
   "metadata": {},
   "outputs": [],
   "source": [
    "molsys_2on1 = msm.structure.align(molsys_2, selection='backbone',\n",
    "                                      reference_molecular_system=molsys_1,\n",
    "                                      reference_selection='backbone')"
   ]
  },
  {
   "cell_type": "code",
   "execution_count": 7,
   "id": "858b83b6-eee4-4cf7-81d7-2e87ac556c80",
   "metadata": {},
   "outputs": [],
   "source": [
    "identity, int2, int1 = msm.topology.get_sequence_identity(molsys_2, reference_molecular_system=molsys_1)"
   ]
  },
  {
   "cell_type": "code",
   "execution_count": 8,
   "id": "e3721932-2efd-42eb-9515-ab63789ac41c",
   "metadata": {},
   "outputs": [],
   "source": [
    "aux1 = msm.select(molsys_1, selection='group_index==@int1')"
   ]
  },
  {
   "cell_type": "code",
   "execution_count": 9,
   "id": "12ab9784-11e5-4a45-a5bf-f3f1f3a4c528",
   "metadata": {},
   "outputs": [],
   "source": [
    "sel1 = msm.select(molsys_1, selection='backbone', mask=aux1)"
   ]
  },
  {
   "cell_type": "code",
   "execution_count": 10,
   "id": "748a5286-5117-4165-b832-e632253ad074",
   "metadata": {},
   "outputs": [],
   "source": [
    "aux2 = msm.select(molsys_2, selection='group_index==@int2')"
   ]
  },
  {
   "cell_type": "code",
   "execution_count": 11,
   "id": "8334a002-537f-49dd-abc4-4d28403a08c6",
   "metadata": {},
   "outputs": [],
   "source": [
    "sel2 = msm.select(molsys_2, selection='backbone', mask=aux2)"
   ]
  },
  {
   "cell_type": "code",
   "execution_count": 12,
   "id": "cfe76b96-a3cd-40cb-9879-e8ae2d6d7ec3",
   "metadata": {},
   "outputs": [],
   "source": [
    "rmsd = msm.structure.get_rmsd(molsys_2on1, selection=sel2, reference_molecular_system=molsys_1, reference_selection=sel1)"
   ]
  },
  {
   "cell_type": "code",
   "execution_count": 15,
   "id": "ae2b4f09-a5e6-452a-a615-d69afe15bd4f",
   "metadata": {},
   "outputs": [],
   "source": [
    "check = np.isclose(0.021332505947, msm.pyunitwizard.get_value(rmsd, to_unit='nm')[0])"
   ]
  },
  {
   "cell_type": "code",
   "execution_count": 16,
   "id": "fa2bf5d2-4309-4b4b-bfd7-23518c05f18a",
   "metadata": {},
   "outputs": [
    {
     "data": {
      "text/plain": [
       "False"
      ]
     },
     "execution_count": 16,
     "metadata": {},
     "output_type": "execute_result"
    }
   ],
   "source": [
    "check"
   ]
  },
  {
   "cell_type": "code",
   "execution_count": 17,
   "id": "93545153-ec88-49be-80cf-af639cf93e32",
   "metadata": {},
   "outputs": [
    {
     "data": {
      "text/plain": [
       "0.018528272410565524"
      ]
     },
     "execution_count": 17,
     "metadata": {},
     "output_type": "execute_result"
    }
   ],
   "source": [
    "msm.pyunitwizard.get_value(rmsd, to_unit='nm')[0]"
   ]
  },
  {
   "cell_type": "code",
   "execution_count": null,
   "id": "b4926d37-12c6-4b15-ab50-534fefca89c5",
   "metadata": {},
   "outputs": [],
   "source": [
    "check = np.isclose(0.021332505947, msm.pyunitwizard.get_value(rmsd, to_unit='nm')[0])\n",
    "print(msm.pyunitwizard.get_value(rmsd, to_unit='nm')[0])\n",
    "\n",
    "assert check\n"
   ]
  }
 ],
 "metadata": {
  "kernelspec": {
   "display_name": "Python 3 (ipykernel)",
   "language": "python",
   "name": "python3"
  },
  "language_info": {
   "codemirror_mode": {
    "name": "ipython",
    "version": 3
   },
   "file_extension": ".py",
   "mimetype": "text/x-python",
   "name": "python",
   "nbconvert_exporter": "python",
   "pygments_lexer": "ipython3",
   "version": "3.9.15"
  }
 },
 "nbformat": 4,
 "nbformat_minor": 5
}
