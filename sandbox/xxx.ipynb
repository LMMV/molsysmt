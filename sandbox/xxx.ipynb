{
 "cells": [
  {
   "cell_type": "code",
   "execution_count": 1,
   "id": "0e66d01f-d931-4904-8eb1-c4fda466cdf0",
   "metadata": {},
   "outputs": [
    {
     "data": {
      "application/vnd.jupyter.widget-view+json": {
       "model_id": "7029631aa99249f3872a3a7e0b657307",
       "version_major": 2,
       "version_minor": 0
      },
      "text/plain": []
     },
     "metadata": {},
     "output_type": "display_data"
    }
   ],
   "source": [
    "import molsysmt as msm"
   ]
  },
  {
   "cell_type": "code",
   "execution_count": 5,
   "id": "c2614862-7c10-48a7-80c5-1a76c642e39c",
   "metadata": {},
   "outputs": [],
   "source": [
    "molsys = msm.demo['chicken villin HP35']['1vii.mmtf']"
   ]
  },
  {
   "cell_type": "code",
   "execution_count": 6,
   "id": "6282a12d-7cf9-4873-a80f-44ec0cb293ca",
   "metadata": {},
   "outputs": [],
   "source": [
    "molsys = msm.convert(molsys)"
   ]
  },
  {
   "cell_type": "code",
   "execution_count": 7,
   "id": "6422495b-8b34-426b-8062-f823cd6b10fd",
   "metadata": {},
   "outputs": [
    {
     "data": {
      "text/html": [
       "<style type=\"text/css\">\n",
       "</style>\n",
       "<table id=\"T_957a2\">\n",
       "  <thead>\n",
       "    <tr>\n",
       "      <th id=\"T_957a2_level0_col0\" class=\"col_heading level0 col0\" >index</th>\n",
       "      <th id=\"T_957a2_level0_col1\" class=\"col_heading level0 col1\" >id</th>\n",
       "      <th id=\"T_957a2_level0_col2\" class=\"col_heading level0 col2\" >name</th>\n",
       "      <th id=\"T_957a2_level0_col3\" class=\"col_heading level0 col3\" >n atoms</th>\n",
       "      <th id=\"T_957a2_level0_col4\" class=\"col_heading level0 col4\" >n groups</th>\n",
       "      <th id=\"T_957a2_level0_col5\" class=\"col_heading level0 col5\" >n components</th>\n",
       "      <th id=\"T_957a2_level0_col6\" class=\"col_heading level0 col6\" >molecule index</th>\n",
       "      <th id=\"T_957a2_level0_col7\" class=\"col_heading level0 col7\" >molecule type</th>\n",
       "      <th id=\"T_957a2_level0_col8\" class=\"col_heading level0 col8\" >entity index</th>\n",
       "      <th id=\"T_957a2_level0_col9\" class=\"col_heading level0 col9\" >entity name</th>\n",
       "    </tr>\n",
       "  </thead>\n",
       "  <tbody>\n",
       "    <tr>\n",
       "      <td id=\"T_957a2_row0_col0\" class=\"data row0 col0\" >0</td>\n",
       "      <td id=\"T_957a2_row0_col1\" class=\"data row0 col1\" >A</td>\n",
       "      <td id=\"T_957a2_row0_col2\" class=\"data row0 col2\" >A</td>\n",
       "      <td id=\"T_957a2_row0_col3\" class=\"data row0 col3\" >596</td>\n",
       "      <td id=\"T_957a2_row0_col4\" class=\"data row0 col4\" >36</td>\n",
       "      <td id=\"T_957a2_row0_col5\" class=\"data row0 col5\" >3</td>\n",
       "      <td id=\"T_957a2_row0_col6\" class=\"data row0 col6\" >0</td>\n",
       "      <td id=\"T_957a2_row0_col7\" class=\"data row0 col7\" >protein</td>\n",
       "      <td id=\"T_957a2_row0_col8\" class=\"data row0 col8\" >0</td>\n",
       "      <td id=\"T_957a2_row0_col9\" class=\"data row0 col9\" >Villin</td>\n",
       "    </tr>\n",
       "  </tbody>\n",
       "</table>\n"
      ],
      "text/plain": [
       "<pandas.io.formats.style.Styler at 0x7f12447c5610>"
      ]
     },
     "execution_count": 7,
     "metadata": {},
     "output_type": "execute_result"
    }
   ],
   "source": [
    "msm.info(molsys, element='chain')"
   ]
  },
  {
   "cell_type": "code",
   "execution_count": 8,
   "id": "e59c394e-14dd-476a-b269-0f9147451eac",
   "metadata": {},
   "outputs": [],
   "source": [
    "molsys = msm.build.mutate(molsys, mutation=\"ALA-57-GLY\")"
   ]
  },
  {
   "cell_type": "code",
   "execution_count": 11,
   "id": "d8251bf5-1d86-428a-9956-f2d8e88c7010",
   "metadata": {},
   "outputs": [
    {
     "data": {
      "text/plain": [
       "[array(['GLY'], dtype=object), array([57])]"
      ]
     },
     "execution_count": 11,
     "metadata": {},
     "output_type": "execute_result"
    }
   ],
   "source": [
    "msm.get(molsys, element='group', selection=\"group_index==16\", group_name=True, group_id=True)"
   ]
  },
  {
   "cell_type": "code",
   "execution_count": 14,
   "id": "288f7d7b-c945-425a-ae05-e05b2fb15ed3",
   "metadata": {},
   "outputs": [],
   "source": [
    "bb = msm.get(molsys, element='atom', selection=\"group_index==16\", atom_name=True)"
   ]
  },
  {
   "cell_type": "code",
   "execution_count": 16,
   "id": "7c391409-ea78-478f-a5ef-1234e83d110e",
   "metadata": {},
   "outputs": [
    {
     "data": {
      "text/plain": [
       "False"
      ]
     },
     "execution_count": 16,
     "metadata": {},
     "output_type": "execute_result"
    }
   ],
   "source": [
    "set(['N', 'H', 'CA', 'HA2', 'HA3', 'C', 'O'])==set(bb)"
   ]
  },
  {
   "cell_type": "code",
   "execution_count": null,
   "id": "0d2453a7-b0da-429f-9a1d-62b1a2a2ef0e",
   "metadata": {},
   "outputs": [],
   "source": []
  },
  {
   "cell_type": "code",
   "execution_count": null,
   "id": "17df054b-6835-4b22-974a-1f3bebf679e0",
   "metadata": {},
   "outputs": [],
   "source": []
  }
 ],
 "metadata": {
  "kernelspec": {
   "display_name": "Python 3 (ipykernel)",
   "language": "python",
   "name": "python3"
  },
  "language_info": {
   "codemirror_mode": {
    "name": "ipython",
    "version": 3
   },
   "file_extension": ".py",
   "mimetype": "text/x-python",
   "name": "python",
   "nbconvert_exporter": "python",
   "pygments_lexer": "ipython3",
   "version": "3.9.15"
  }
 },
 "nbformat": 4,
 "nbformat_minor": 5
}
