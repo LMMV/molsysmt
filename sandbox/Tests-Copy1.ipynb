{
 "cells": [
  {
   "cell_type": "markdown",
   "id": "c2f52c6d-731a-4ca3-b14b-0f83beafe76c",
   "metadata": {},
   "source": [
    "# Testing basic tools in documentation\n",
    "\n",
    "\n",
    "[x] Add    \n",
    "[x] Get\n"
   ]
  },
  {
   "cell_type": "code",
   "execution_count": 1,
   "id": "89627ab5-532e-4815-ac94-3c3295fb685c",
   "metadata": {},
   "outputs": [
    {
     "data": {
      "application/vnd.jupyter.widget-view+json": {
       "model_id": "c2a12105e28940b5a52852311042c4b0",
       "version_major": 2,
       "version_minor": 0
      },
      "text/plain": []
     },
     "metadata": {},
     "output_type": "display_data"
    }
   ],
   "source": [
    "import molsysmt as msm"
   ]
  },
  {
   "cell_type": "code",
   "execution_count": null,
   "id": "264ae369-84bd-4985-8f3a-f0804f0663f8",
   "metadata": {},
   "outputs": [],
   "source": [
    "item = msm.convert('1BRS','mmcif.PdbxContainers.DataContainer')"
   ]
  },
  {
   "cell_type": "code",
   "execution_count": null,
   "id": "76911ffb-f9fb-4c6f-a723-d9baf6a2620b",
   "metadata": {},
   "outputs": [],
   "source": [
    "molsys = msm.convert(item)"
   ]
  },
  {
   "cell_type": "code",
   "execution_count": null,
   "id": "ba09db50-42bb-4294-bb5c-e9e4b77973d7",
   "metadata": {},
   "outputs": [],
   "source": [
    "molsys.topology.chains"
   ]
  },
  {
   "cell_type": "code",
   "execution_count": null,
   "id": "c91aa2fb-6ecd-46d8-8e91-025ff0e16282",
   "metadata": {},
   "outputs": [],
   "source": [
    "data = item.getObj('atom_site')"
   ]
  },
  {
   "cell_type": "code",
   "execution_count": null,
   "id": "ef3662fa-633e-47eb-8f36-209e46a86523",
   "metadata": {},
   "outputs": [],
   "source": [
    "item.getObj('entity')"
   ]
  },
  {
   "cell_type": "code",
   "execution_count": null,
   "id": "6179fc38-5d04-480e-a81d-90284a81a218",
   "metadata": {},
   "outputs": [],
   "source": [
    "item.getObj('entity_poly')"
   ]
  },
  {
   "cell_type": "code",
   "execution_count": null,
   "id": "95afb6e7-bcb2-4411-9156-b5911bdefd89",
   "metadata": {},
   "outputs": [],
   "source": [
    "item.getObj('entity_poly_seq')"
   ]
  },
  {
   "cell_type": "code",
   "execution_count": null,
   "id": "1816c6f7-cdd8-42a0-818c-324553a78bd8",
   "metadata": {},
   "outputs": [],
   "source": [
    "item.getObj('pdbx_poly_seq_scheme')"
   ]
  },
  {
   "cell_type": "code",
   "execution_count": null,
   "id": "a5fbc584-a4e5-426b-b576-f5e8bf54ed90",
   "metadata": {},
   "outputs": [],
   "source": [
    "import numpy as np"
   ]
  },
  {
   "cell_type": "code",
   "execution_count": null,
   "id": "485ce9d2-df91-4ac1-9a59-816021a44135",
   "metadata": {},
   "outputs": [],
   "source": [
    "xx = np.array(['A','B','C'])"
   ]
  },
  {
   "cell_type": "code",
   "execution_count": null,
   "id": "f88ef17e-dad2-4394-af01-7397b4a86826",
   "metadata": {},
   "outputs": [],
   "source": [
    "len(np.argwhere(xx=='D'))"
   ]
  },
  {
   "cell_type": "code",
   "execution_count": null,
   "id": "8dfb7851-5d2d-4487-a24e-04ea6318e48a",
   "metadata": {},
   "outputs": [],
   "source": [
    "item.exists('cell')"
   ]
  },
  {
   "cell_type": "code",
   "execution_count": null,
   "id": "8a0c3fdc-ca9b-40da-a312-94412be3de79",
   "metadata": {},
   "outputs": [],
   "source": [
    "item.getObj('pdbx_struct_assembly')"
   ]
  },
  {
   "cell_type": "code",
   "execution_count": null,
   "id": "bf47bd59-4d82-4482-ae01-fe2f11ccc2e1",
   "metadata": {},
   "outputs": [],
   "source": [
    "item.getObj('pdbx_struct_assembly_gen')"
   ]
  },
  {
   "cell_type": "code",
   "execution_count": null,
   "id": "e4eaca0f-a223-4228-b40f-d7365b11f807",
   "metadata": {},
   "outputs": [],
   "source": [
    "item.getObj('pdbx_struct_oper_list')"
   ]
  },
  {
   "cell_type": "code",
   "execution_count": null,
   "id": "3a649ba1-e0ff-42de-96fa-9b0bf29749b9",
   "metadata": {},
   "outputs": [],
   "source": [
    "item.getObjNameList()"
   ]
  },
  {
   "cell_type": "code",
   "execution_count": null,
   "id": "ba326333-0974-439d-b827-46d5e8ad6bd0",
   "metadata": {},
   "outputs": [],
   "source": []
  }
 ],
 "metadata": {
  "kernelspec": {
   "display_name": "Python 3 (ipykernel)",
   "language": "python",
   "name": "python3"
  },
  "language_info": {
   "codemirror_mode": {
    "name": "ipython",
    "version": 3
   },
   "file_extension": ".py",
   "mimetype": "text/x-python",
   "name": "python",
   "nbconvert_exporter": "python",
   "pygments_lexer": "ipython3",
   "version": "3.10.14"
  }
 },
 "nbformat": 4,
 "nbformat_minor": 5
}
