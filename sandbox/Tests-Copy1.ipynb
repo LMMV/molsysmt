{
 "cells": [
  {
   "cell_type": "markdown",
   "id": "c2f52c6d-731a-4ca3-b14b-0f83beafe76c",
   "metadata": {},
   "source": [
    "# Testing basic tools in documentation\n",
    "\n",
    "\n",
    "[x] Add    \n",
    "[x] Get\n"
   ]
  },
  {
   "cell_type": "code",
   "execution_count": 1,
   "id": "89627ab5-532e-4815-ac94-3c3295fb685c",
   "metadata": {},
   "outputs": [
    {
     "data": {
      "application/vnd.jupyter.widget-view+json": {
       "model_id": "a452dbf6cb2f44e8a0355f0b6bd0ef2f",
       "version_major": 2,
       "version_minor": 0
      },
      "text/plain": []
     },
     "metadata": {},
     "output_type": "display_data"
    }
   ],
   "source": [
    "import molsysmt as msm"
   ]
  },
  {
   "cell_type": "code",
   "execution_count": 2,
   "id": "264ae369-84bd-4985-8f3a-f0804f0663f8",
   "metadata": {},
   "outputs": [],
   "source": [
    "item = msm.convert('1BRS','mmcif.PdbxContainers.DataContainer')"
   ]
  },
  {
   "cell_type": "code",
   "execution_count": 3,
   "id": "76911ffb-f9fb-4c6f-a723-d9baf6a2620b",
   "metadata": {},
   "outputs": [],
   "source": [
    "molsys = msm.convert('1BRS')"
   ]
  },
  {
   "cell_type": "code",
   "execution_count": 6,
   "id": "9724ba30-50cd-4759-a05e-9bbb8f008afb",
   "metadata": {},
   "outputs": [
    {
     "data": {
      "text/html": [
       "<div>\n",
       "<style scoped>\n",
       "    .dataframe tbody tr th:only-of-type {\n",
       "        vertical-align: middle;\n",
       "    }\n",
       "\n",
       "    .dataframe tbody tr th {\n",
       "        vertical-align: top;\n",
       "    }\n",
       "\n",
       "    .dataframe thead th {\n",
       "        text-align: right;\n",
       "    }\n",
       "</style>\n",
       "<table border=\"1\" class=\"dataframe\">\n",
       "  <thead>\n",
       "    <tr style=\"text-align: right;\">\n",
       "      <th></th>\n",
       "      <th>group_id</th>\n",
       "      <th>group_name</th>\n",
       "      <th>group_type</th>\n",
       "      <th>component_index</th>\n",
       "    </tr>\n",
       "  </thead>\n",
       "  <tbody>\n",
       "    <tr>\n",
       "      <th>0</th>\n",
       "      <td>3</td>\n",
       "      <td>VAL</td>\n",
       "      <td>amino acid</td>\n",
       "      <td>0</td>\n",
       "    </tr>\n",
       "    <tr>\n",
       "      <th>1</th>\n",
       "      <td>4</td>\n",
       "      <td>ILE</td>\n",
       "      <td>amino acid</td>\n",
       "      <td>1</td>\n",
       "    </tr>\n",
       "    <tr>\n",
       "      <th>2</th>\n",
       "      <td>5</td>\n",
       "      <td>ASN</td>\n",
       "      <td>amino acid</td>\n",
       "      <td>2</td>\n",
       "    </tr>\n",
       "    <tr>\n",
       "      <th>3</th>\n",
       "      <td>6</td>\n",
       "      <td>THR</td>\n",
       "      <td>amino acid</td>\n",
       "      <td>3</td>\n",
       "    </tr>\n",
       "    <tr>\n",
       "      <th>4</th>\n",
       "      <td>7</td>\n",
       "      <td>PHE</td>\n",
       "      <td>amino acid</td>\n",
       "      <td>4</td>\n",
       "    </tr>\n",
       "    <tr>\n",
       "      <th>...</th>\n",
       "      <td>...</td>\n",
       "      <td>...</td>\n",
       "      <td>...</td>\n",
       "      <td>...</td>\n",
       "    </tr>\n",
       "    <tr>\n",
       "      <th>1096</th>\n",
       "      <td>125</td>\n",
       "      <td>HOH</td>\n",
       "      <td>water</td>\n",
       "      <td>1098</td>\n",
       "    </tr>\n",
       "    <tr>\n",
       "      <th>1097</th>\n",
       "      <td>126</td>\n",
       "      <td>HOH</td>\n",
       "      <td>water</td>\n",
       "      <td>1099</td>\n",
       "    </tr>\n",
       "    <tr>\n",
       "      <th>1098</th>\n",
       "      <td>127</td>\n",
       "      <td>HOH</td>\n",
       "      <td>water</td>\n",
       "      <td>1100</td>\n",
       "    </tr>\n",
       "    <tr>\n",
       "      <th>1099</th>\n",
       "      <td>128</td>\n",
       "      <td>HOH</td>\n",
       "      <td>water</td>\n",
       "      <td>1101</td>\n",
       "    </tr>\n",
       "    <tr>\n",
       "      <th>1100</th>\n",
       "      <td>129</td>\n",
       "      <td>HOH</td>\n",
       "      <td>water</td>\n",
       "      <td>1102</td>\n",
       "    </tr>\n",
       "  </tbody>\n",
       "</table>\n",
       "<p>1101 rows × 4 columns</p>\n",
       "</div>"
      ],
      "text/plain": [
       "      group_id group_name  group_type  component_index\n",
       "0            3        VAL  amino acid                0\n",
       "1            4        ILE  amino acid                1\n",
       "2            5        ASN  amino acid                2\n",
       "3            6        THR  amino acid                3\n",
       "4            7        PHE  amino acid                4\n",
       "...        ...        ...         ...              ...\n",
       "1096       125        HOH       water             1098\n",
       "1097       126        HOH       water             1099\n",
       "1098       127        HOH       water             1100\n",
       "1099       128        HOH       water             1101\n",
       "1100       129        HOH       water             1102\n",
       "\n",
       "[1101 rows x 4 columns]"
      ]
     },
     "execution_count": 6,
     "metadata": {},
     "output_type": "execute_result"
    }
   ],
   "source": [
    "molsys.topology.groups"
   ]
  },
  {
   "cell_type": "code",
   "execution_count": null,
   "id": "c91aa2fb-6ecd-46d8-8e91-025ff0e16282",
   "metadata": {},
   "outputs": [],
   "source": [
    "data = item.getObj('atom_site')"
   ]
  },
  {
   "cell_type": "code",
   "execution_count": null,
   "id": "ef3662fa-633e-47eb-8f36-209e46a86523",
   "metadata": {},
   "outputs": [],
   "source": [
    "item.getObj('entity')"
   ]
  },
  {
   "cell_type": "code",
   "execution_count": null,
   "id": "6179fc38-5d04-480e-a81d-90284a81a218",
   "metadata": {},
   "outputs": [],
   "source": [
    "item.getObj('entity_poly')"
   ]
  },
  {
   "cell_type": "code",
   "execution_count": null,
   "id": "95afb6e7-bcb2-4411-9156-b5911bdefd89",
   "metadata": {},
   "outputs": [],
   "source": [
    "item.getObj('entity_poly_seq')"
   ]
  },
  {
   "cell_type": "code",
   "execution_count": null,
   "id": "1816c6f7-cdd8-42a0-818c-324553a78bd8",
   "metadata": {},
   "outputs": [],
   "source": [
    "item.getObj('pdbx_poly_seq_scheme')"
   ]
  },
  {
   "cell_type": "code",
   "execution_count": null,
   "id": "a5fbc584-a4e5-426b-b576-f5e8bf54ed90",
   "metadata": {},
   "outputs": [],
   "source": [
    "import numpy as np"
   ]
  },
  {
   "cell_type": "code",
   "execution_count": null,
   "id": "485ce9d2-df91-4ac1-9a59-816021a44135",
   "metadata": {},
   "outputs": [],
   "source": [
    "xx = np.array(['A','B','C'])"
   ]
  },
  {
   "cell_type": "code",
   "execution_count": null,
   "id": "f88ef17e-dad2-4394-af01-7397b4a86826",
   "metadata": {},
   "outputs": [],
   "source": [
    "len(np.argwhere(xx=='D'))"
   ]
  },
  {
   "cell_type": "code",
   "execution_count": null,
   "id": "3a649ba1-e0ff-42de-96fa-9b0bf29749b9",
   "metadata": {},
   "outputs": [],
   "source": []
  }
 ],
 "metadata": {
  "kernelspec": {
   "display_name": "Python 3 (ipykernel)",
   "language": "python",
   "name": "python3"
  },
  "language_info": {
   "codemirror_mode": {
    "name": "ipython",
    "version": 3
   },
   "file_extension": ".py",
   "mimetype": "text/x-python",
   "name": "python",
   "nbconvert_exporter": "python",
   "pygments_lexer": "ipython3",
   "version": "3.10.14"
  }
 },
 "nbformat": 4,
 "nbformat_minor": 5
}
