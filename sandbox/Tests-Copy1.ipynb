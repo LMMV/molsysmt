{
 "cells": [
  {
   "cell_type": "markdown",
   "id": "c2f52c6d-731a-4ca3-b14b-0f83beafe76c",
   "metadata": {},
   "source": [
    "# Testing basic tools in documentation\n",
    "\n",
    "\n",
    "[x] Add    \n",
    "[x] Get\n"
   ]
  },
  {
   "cell_type": "code",
   "execution_count": 1,
   "id": "89627ab5-532e-4815-ac94-3c3295fb685c",
   "metadata": {},
   "outputs": [
    {
     "data": {
      "application/vnd.jupyter.widget-view+json": {
       "model_id": "c164adba1c4e4799ae48dc6a0c78bc6a",
       "version_major": 2,
       "version_minor": 0
      },
      "text/plain": []
     },
     "metadata": {},
     "output_type": "display_data"
    }
   ],
   "source": [
    "import molsysmt as msm"
   ]
  },
  {
   "cell_type": "code",
   "execution_count": 5,
   "id": "264ae369-84bd-4985-8f3a-f0804f0663f8",
   "metadata": {},
   "outputs": [],
   "source": [
    "molsys = msm.convert('1BRS')"
   ]
  },
  {
   "cell_type": "code",
   "execution_count": 6,
   "id": "a2822af8-7189-445e-a1f0-c90c64e2607f",
   "metadata": {},
   "outputs": [
    {
     "data": {
      "text/plain": [
       "{2686: {'location_id': array(['A', 'B'], dtype=object),\n",
       "  'occupancy': array([0.5, 0.5]),\n",
       "  'b_factor': array([24.66, 24.67]),\n",
       "  'atom_id': array([2687, 2688]),\n",
       "  'coordinates': array([[32.742, 22.579,  1.536],\n",
       "         [32.757, 22.571,  1.533]])},\n",
       " 2687: {'location_id': array(['A', 'B'], dtype=object),\n",
       "  'occupancy': array([0.5, 0.5]),\n",
       "  'b_factor': array([25.94, 25.96]),\n",
       "  'atom_id': array([2689, 2690]),\n",
       "  'coordinates': array([[31.412, 22.41 ,  1.076],\n",
       "         [33.396, 21.92 ,  2.619]])}}"
      ]
     },
     "execution_count": 6,
     "metadata": {},
     "output_type": "execute_result"
    }
   ],
   "source": [
    "molsys"
   ]
  },
  {
   "cell_type": "code",
   "execution_count": null,
   "id": "c91aa2fb-6ecd-46d8-8e91-025ff0e16282",
   "metadata": {},
   "outputs": [],
   "source": []
  }
 ],
 "metadata": {
  "kernelspec": {
   "display_name": "Python 3 (ipykernel)",
   "language": "python",
   "name": "python3"
  },
  "language_info": {
   "codemirror_mode": {
    "name": "ipython",
    "version": 3
   },
   "file_extension": ".py",
   "mimetype": "text/x-python",
   "name": "python",
   "nbconvert_exporter": "python",
   "pygments_lexer": "ipython3",
   "version": "3.10.14"
  }
 },
 "nbformat": 4,
 "nbformat_minor": 5
}
