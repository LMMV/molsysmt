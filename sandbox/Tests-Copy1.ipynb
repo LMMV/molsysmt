{
 "cells": [
  {
   "cell_type": "markdown",
   "id": "c2f52c6d-731a-4ca3-b14b-0f83beafe76c",
   "metadata": {},
   "source": [
    "# Testing basic tools in documentation\n",
    "\n",
    "\n",
    "[x] Add    \n",
    "[x] Get\n"
   ]
  },
  {
   "cell_type": "code",
   "execution_count": null,
   "id": "89627ab5-532e-4815-ac94-3c3295fb685c",
   "metadata": {},
   "outputs": [],
   "source": [
    "import molsysmt as msm"
   ]
  },
  {
   "cell_type": "code",
   "execution_count": null,
   "id": "264ae369-84bd-4985-8f3a-f0804f0663f8",
   "metadata": {},
   "outputs": [],
   "source": [
    "item = msm.convert('1BRS','mmcif.PdbxContainers.DataContainer')"
   ]
  },
  {
   "cell_type": "code",
   "execution_count": null,
   "id": "76911ffb-f9fb-4c6f-a723-d9baf6a2620b",
   "metadata": {},
   "outputs": [],
   "source": [
    "molsys = msm.convert('1BRS')"
   ]
  },
  {
   "cell_type": "code",
   "execution_count": null,
   "id": "9724ba30-50cd-4759-a05e-9bbb8f008afb",
   "metadata": {},
   "outputs": [],
   "source": [
    "molsys"
   ]
  },
  {
   "cell_type": "code",
   "execution_count": null,
   "id": "c91aa2fb-6ecd-46d8-8e91-025ff0e16282",
   "metadata": {},
   "outputs": [],
   "source": [
    "data = item.getObj('atom_site')"
   ]
  },
  {
   "cell_type": "code",
   "execution_count": null,
   "id": "ef3662fa-633e-47eb-8f36-209e46a86523",
   "metadata": {},
   "outputs": [],
   "source": [
    "item.getObj('entity')"
   ]
  },
  {
   "cell_type": "code",
   "execution_count": null,
   "id": "6179fc38-5d04-480e-a81d-90284a81a218",
   "metadata": {},
   "outputs": [],
   "source": [
    "item.getObj('entity_poly')"
   ]
  },
  {
   "cell_type": "code",
   "execution_count": null,
   "id": "95afb6e7-bcb2-4411-9156-b5911bdefd89",
   "metadata": {},
   "outputs": [],
   "source": [
    "item.getObj('entity_poly_seq')"
   ]
  },
  {
   "cell_type": "code",
   "execution_count": null,
   "id": "1816c6f7-cdd8-42a0-818c-324553a78bd8",
   "metadata": {},
   "outputs": [],
   "source": [
    "item.getObj('pdbx_poly_seq_scheme')"
   ]
  },
  {
   "cell_type": "code",
   "execution_count": null,
   "id": "a5fbc584-a4e5-426b-b576-f5e8bf54ed90",
   "metadata": {},
   "outputs": [],
   "source": [
    "import numpy as np"
   ]
  },
  {
   "cell_type": "code",
   "execution_count": null,
   "id": "485ce9d2-df91-4ac1-9a59-816021a44135",
   "metadata": {},
   "outputs": [],
   "source": [
    "xx = np.array(['A','B','C'])"
   ]
  },
  {
   "cell_type": "code",
   "execution_count": null,
   "id": "f88ef17e-dad2-4394-af01-7397b4a86826",
   "metadata": {},
   "outputs": [],
   "source": [
    "len(np.argwhere(xx=='D'))"
   ]
  },
  {
   "cell_type": "code",
   "execution_count": null,
   "id": "3a649ba1-e0ff-42de-96fa-9b0bf29749b9",
   "metadata": {},
   "outputs": [],
   "source": []
  }
 ],
 "metadata": {
  "kernelspec": {
   "display_name": "Python 3 (ipykernel)",
   "language": "python",
   "name": "python3"
  },
  "language_info": {
   "codemirror_mode": {
    "name": "ipython",
    "version": 3
   },
   "file_extension": ".py",
   "mimetype": "text/x-python",
   "name": "python",
   "nbconvert_exporter": "python",
   "pygments_lexer": "ipython3",
   "version": "3.10.14"
  }
 },
 "nbformat": 4,
 "nbformat_minor": 5
}
