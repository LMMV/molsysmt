{
 "cells": [
  {
   "cell_type": "markdown",
   "id": "c2f52c6d-731a-4ca3-b14b-0f83beafe76c",
   "metadata": {},
   "source": [
    "# Testing basic tools in documentation\n",
    "\n",
    "\n",
    "[x] Add    \n",
    "[x] Get\n"
   ]
  },
  {
   "cell_type": "code",
   "execution_count": 1,
   "id": "89627ab5-532e-4815-ac94-3c3295fb685c",
   "metadata": {},
   "outputs": [
    {
     "data": {
      "application/vnd.jupyter.widget-view+json": {
       "model_id": "5a49db8b49224634839034421a8d0953",
       "version_major": 2,
       "version_minor": 0
      },
      "text/plain": []
     },
     "metadata": {},
     "output_type": "display_data"
    }
   ],
   "source": [
    "import molsysmt as msm"
   ]
  },
  {
   "cell_type": "code",
   "execution_count": 2,
   "id": "264ae369-84bd-4985-8f3a-f0804f0663f8",
   "metadata": {},
   "outputs": [],
   "source": [
    "item = msm.convert('1BRS','mmcif.PdbxContainers.DataContainer')"
   ]
  },
  {
   "cell_type": "code",
   "execution_count": 3,
   "id": "c91aa2fb-6ecd-46d8-8e91-025ff0e16282",
   "metadata": {},
   "outputs": [],
   "source": [
    "data = item.getObj('atom_site')"
   ]
  },
  {
   "cell_type": "code",
   "execution_count": 4,
   "id": "ef3662fa-633e-47eb-8f36-209e46a86523",
   "metadata": {},
   "outputs": [
    {
     "data": {
      "text/plain": [
       "DataCategory(name:'entity'\n",
       "attrbuteList: ['id', 'type', 'src_method', 'pdbx_description', 'formula_weight', 'pdbx_number_of_molecules', 'pdbx_ec', 'pdbx_mutation', 'pdbx_fragment', 'details']\n",
       "Data: [[1, 'polymer', 'man', 'BARNASE', 12398.721, 3, '3.1.27.-', '?', '?', '?'], [2, 'polymer', 'man', 'BARSTAR', 10157.412, 3, '?', '?', '?', '?'], [3, 'water', 'nat', 'water', 18.015, 513, '?', '?', '?', '?']]\n",
       ")"
      ]
     },
     "execution_count": 4,
     "metadata": {},
     "output_type": "execute_result"
    }
   ],
   "source": [
    "item.getObj('entity')"
   ]
  },
  {
   "cell_type": "code",
   "execution_count": 5,
   "id": "6179fc38-5d04-480e-a81d-90284a81a218",
   "metadata": {},
   "outputs": [
    {
     "data": {
      "text/plain": [
       "DataCategory(name:'entity_poly'\n",
       "attrbuteList: ['entity_id', 'type', 'nstd_linkage', 'nstd_monomer', 'pdbx_seq_one_letter_code', 'pdbx_seq_one_letter_code_can', 'pdbx_strand_id', 'pdbx_target_identifier']\n",
       "Data: [[1, 'polypeptide(L)', 'no', 'no', 'AQVINTFDGVADYLQTYHKLPDNYITKSEAQALGWVASKGNLADVAPGKSIGGDIFSNREGKLPGKSGRTWREADINYTS\\nGFRNSDRILYSSDWLIYKTTDHYQTFTKIR', 'AQVINTFDGVADYLQTYHKLPDNYITKSEAQALGWVASKGNLADVAPGKSIGGDIFSNREGKLPGKSGRTWREADINYTS\\nGFRNSDRILYSSDWLIYKTTDHYQTFTKIR', 'A,B,C', '?'], [2, 'polypeptide(L)', 'no', 'no', 'KKAVINGEQIRSISDLHQTLKKELALPEYYGENLDALWDALTGWVEYPLVLEWRQFEQSKQLTENGAESVLQVFREAKAE\\nGADITIILS', 'KKAVINGEQIRSISDLHQTLKKELALPEYYGENLDALWDALTGWVEYPLVLEWRQFEQSKQLTENGAESVLQVFREAKAE\\nGADITIILS', 'D,E,F', '?']]\n",
       ")"
      ]
     },
     "execution_count": 5,
     "metadata": {},
     "output_type": "execute_result"
    }
   ],
   "source": [
    "item.getObj('entity_poly')"
   ]
  },
  {
   "cell_type": "code",
   "execution_count": 6,
   "id": "95afb6e7-bcb2-4411-9156-b5911bdefd89",
   "metadata": {},
   "outputs": [
    {
     "data": {
      "text/plain": [
       "DataCategory(name:'entity_poly_seq'\n",
       "attrbuteList: ['entity_id', 'num', 'mon_id', 'hetero']\n",
       "Data: [[1, 1, 'ALA', 'n'], [1, 2, 'GLN', 'n'], [1, 3, 'VAL', 'n'], [1, 4, 'ILE', 'n'], [1, 5, 'ASN', 'n'], [1, 6, 'THR', 'n'], [1, 7, 'PHE', 'n'], [1, 8, 'ASP', 'n'], [1, 9, 'GLY', 'n'], [1, 10, 'VAL', 'n'], [1, 11, 'ALA', 'n'], [1, 12, 'ASP', 'n'], [1, 13, 'TYR', 'n'], [1, 14, 'LEU', 'n'], [1, 15, 'GLN', 'n'], [1, 16, 'THR', 'n'], [1, 17, 'TYR', 'n'], [1, 18, 'HIS', 'n'], [1, 19, 'LYS', 'n'], [1, 20, 'LEU', 'n'], [1, 21, 'PRO', 'n'], [1, 22, 'ASP', 'n'], [1, 23, 'ASN', 'n'], [1, 24, 'TYR', 'n'], [1, 25, 'ILE', 'n'], [1, 26, 'THR', 'n'], [1, 27, 'LYS', 'n'], [1, 28, 'SER', 'n'], [1, 29, 'GLU', 'n'], [1, 30, 'ALA', 'n'], [1, 31, 'GLN', 'n'], [1, 32, 'ALA', 'n'], [1, 33, 'LEU', 'n'], [1, 34, 'GLY', 'n'], [1, 35, 'TRP', 'n'], [1, 36, 'VAL', 'n'], [1, 37, 'ALA', 'n'], [1, 38, 'SER', 'n'], [1, 39, 'LYS', 'n'], [1, 40, 'GLY', 'n'], [1, 41, 'ASN', 'n'], [1, 42, 'LEU', 'n'], [1, 43, 'ALA', 'n'], [1, 44, 'ASP', 'n'], [1, 45, 'VAL', 'n'], [1, 46, 'ALA', 'n'], [1, 47, 'PRO', 'n'], [1, 48, 'GLY', 'n'], [1, 49, 'LYS', 'n'], [1, 50, 'SER', 'n'], [1, 51, 'ILE', 'n'], [1, 52, 'GLY', 'n'], [1, 53, 'GLY', 'n'], [1, 54, 'ASP', 'n'], [1, 55, 'ILE', 'n'], [1, 56, 'PHE', 'n'], [1, 57, 'SER', 'n'], [1, 58, 'ASN', 'n'], [1, 59, 'ARG', 'n'], [1, 60, 'GLU', 'n'], [1, 61, 'GLY', 'n'], [1, 62, 'LYS', 'n'], [1, 63, 'LEU', 'n'], [1, 64, 'PRO', 'n'], [1, 65, 'GLY', 'n'], [1, 66, 'LYS', 'n'], [1, 67, 'SER', 'n'], [1, 68, 'GLY', 'n'], [1, 69, 'ARG', 'n'], [1, 70, 'THR', 'n'], [1, 71, 'TRP', 'n'], [1, 72, 'ARG', 'n'], [1, 73, 'GLU', 'n'], [1, 74, 'ALA', 'n'], [1, 75, 'ASP', 'n'], [1, 76, 'ILE', 'n'], [1, 77, 'ASN', 'n'], [1, 78, 'TYR', 'n'], [1, 79, 'THR', 'n'], [1, 80, 'SER', 'n'], [1, 81, 'GLY', 'n'], [1, 82, 'PHE', 'n'], [1, 83, 'ARG', 'n'], [1, 84, 'ASN', 'n'], [1, 85, 'SER', 'n'], [1, 86, 'ASP', 'n'], [1, 87, 'ARG', 'n'], [1, 88, 'ILE', 'n'], [1, 89, 'LEU', 'n'], [1, 90, 'TYR', 'n'], [1, 91, 'SER', 'n'], [1, 92, 'SER', 'n'], [1, 93, 'ASP', 'n'], [1, 94, 'TRP', 'n'], [1, 95, 'LEU', 'n'], [1, 96, 'ILE', 'n'], [1, 97, 'TYR', 'n'], [1, 98, 'LYS', 'n'], [1, 99, 'THR', 'n'], [1, 100, 'THR', 'n'], [1, 101, 'ASP', 'n'], [1, 102, 'HIS', 'n'], [1, 103, 'TYR', 'n'], [1, 104, 'GLN', 'n'], [1, 105, 'THR', 'n'], [1, 106, 'PHE', 'n'], [1, 107, 'THR', 'n'], [1, 108, 'LYS', 'n'], [1, 109, 'ILE', 'n'], [1, 110, 'ARG', 'n'], [2, 1, 'LYS', 'n'], [2, 2, 'LYS', 'n'], [2, 3, 'ALA', 'n'], [2, 4, 'VAL', 'n'], [2, 5, 'ILE', 'n'], [2, 6, 'ASN', 'n'], [2, 7, 'GLY', 'n'], [2, 8, 'GLU', 'n'], [2, 9, 'GLN', 'n'], [2, 10, 'ILE', 'n'], [2, 11, 'ARG', 'n'], [2, 12, 'SER', 'n'], [2, 13, 'ILE', 'n'], [2, 14, 'SER', 'n'], [2, 15, 'ASP', 'n'], [2, 16, 'LEU', 'n'], [2, 17, 'HIS', 'n'], [2, 18, 'GLN', 'n'], [2, 19, 'THR', 'n'], [2, 20, 'LEU', 'n'], [2, 21, 'LYS', 'n'], [2, 22, 'LYS', 'n'], [2, 23, 'GLU', 'n'], [2, 24, 'LEU', 'n'], [2, 25, 'ALA', 'n'], [2, 26, 'LEU', 'n'], [2, 27, 'PRO', 'n'], [2, 28, 'GLU', 'n'], [2, 29, 'TYR', 'n'], [2, 30, 'TYR', 'n'], [2, 31, 'GLY', 'n'], [2, 32, 'GLU', 'n'], [2, 33, 'ASN', 'n'], [2, 34, 'LEU', 'n'], [2, 35, 'ASP', 'n'], [2, 36, 'ALA', 'n'], [2, 37, 'LEU', 'n'], [2, 38, 'TRP', 'n'], [2, 39, 'ASP', 'n'], [2, 40, 'ALA', 'n'], [2, 41, 'LEU', 'n'], [2, 42, 'THR', 'n'], [2, 43, 'GLY', 'n'], [2, 44, 'TRP', 'n'], [2, 45, 'VAL', 'n'], [2, 46, 'GLU', 'n'], [2, 47, 'TYR', 'n'], [2, 48, 'PRO', 'n'], [2, 49, 'LEU', 'n'], [2, 50, 'VAL', 'n'], [2, 51, 'LEU', 'n'], [2, 52, 'GLU', 'n'], [2, 53, 'TRP', 'n'], [2, 54, 'ARG', 'n'], [2, 55, 'GLN', 'n'], [2, 56, 'PHE', 'n'], [2, 57, 'GLU', 'n'], [2, 58, 'GLN', 'n'], [2, 59, 'SER', 'n'], [2, 60, 'LYS', 'n'], [2, 61, 'GLN', 'n'], [2, 62, 'LEU', 'n'], [2, 63, 'THR', 'n'], [2, 64, 'GLU', 'n'], [2, 65, 'ASN', 'n'], [2, 66, 'GLY', 'n'], [2, 67, 'ALA', 'n'], [2, 68, 'GLU', 'n'], [2, 69, 'SER', 'n'], [2, 70, 'VAL', 'n'], [2, 71, 'LEU', 'n'], [2, 72, 'GLN', 'n'], [2, 73, 'VAL', 'n'], [2, 74, 'PHE', 'n'], [2, 75, 'ARG', 'n'], [2, 76, 'GLU', 'n'], [2, 77, 'ALA', 'n'], [2, 78, 'LYS', 'n'], [2, 79, 'ALA', 'n'], [2, 80, 'GLU', 'n'], [2, 81, 'GLY', 'n'], [2, 82, 'ALA', 'n'], [2, 83, 'ASP', 'n'], [2, 84, 'ILE', 'n'], [2, 85, 'THR', 'n'], [2, 86, 'ILE', 'n'], [2, 87, 'ILE', 'n'], [2, 88, 'LEU', 'n'], [2, 89, 'SER', 'n']]\n",
       ")"
      ]
     },
     "execution_count": 6,
     "metadata": {},
     "output_type": "execute_result"
    }
   ],
   "source": [
    "item.getObj('entity_poly_seq')"
   ]
  },
  {
   "cell_type": "code",
   "execution_count": null,
   "id": "1816c6f7-cdd8-42a0-818c-324553a78bd8",
   "metadata": {},
   "outputs": [],
   "source": []
  }
 ],
 "metadata": {
  "kernelspec": {
   "display_name": "Python 3 (ipykernel)",
   "language": "python",
   "name": "python3"
  },
  "language_info": {
   "codemirror_mode": {
    "name": "ipython",
    "version": 3
   },
   "file_extension": ".py",
   "mimetype": "text/x-python",
   "name": "python",
   "nbconvert_exporter": "python",
   "pygments_lexer": "ipython3",
   "version": "3.10.14"
  }
 },
 "nbformat": 4,
 "nbformat_minor": 5
}
