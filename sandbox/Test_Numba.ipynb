{
 "cells": [
  {
   "cell_type": "code",
   "execution_count": 1,
   "id": "0b5af2cc-83cb-4404-afa5-55dd535aa9b9",
   "metadata": {},
   "outputs": [],
   "source": [
    "import numpy as np\n",
    "import numba as nb"
   ]
  },
  {
   "cell_type": "code",
   "execution_count": 2,
   "id": "6acb117e-7174-4cdb-befe-3d16e693eb71",
   "metadata": {},
   "outputs": [],
   "source": [
    "%run ../molsysmt/lib/make_numba_signature.py\n",
    "%run ../molsysmt/lib/itertools.py"
   ]
  },
  {
   "cell_type": "code",
   "execution_count": 3,
   "id": "15f78536-4ba8-4892-b069-235dc380c5b8",
   "metadata": {},
   "outputs": [],
   "source": [
    "arguments=[\n",
    "    nb.float64[:,:], # coordinates [n_atoms,3]\n",
    "    nb.float64[:,:], # translation [n_atoms, 3]\n",
    "    nb.int64[:], # atom_indices [n_atoms]\n",
    "]\n",
    "output=nb.float64[:,:]\n",
    "@nb.njit(make_numba_signature(arguments,output))\n",
    "def translate_single_structure(coordinates, translation, atom_indices=None):\n",
    "\n",
    "    if translation.shape[0]==1:\n",
    "        iter_atoms_t=infinite_sequence(0,0)\n",
    "    else:\n",
    "        iter_atoms_t=infinite_sequence(0,1)    \n",
    "    \n",
    "    new_coordinates=coordinates.copy()\n",
    "\n",
    "    if atom_indices is None:\n",
    "        iter_atoms = range(coordinates.shape[0])\n",
    "        for ii in iter_atoms:\n",
    "            a_t = next(iter_atoms_t)\n",
    "            new_coordinates[ii,:]=coordinates[ii,:]+translation[a_t,:]        \n",
    "    else:\n",
    "        iter_atoms = atom_indices\n",
    "        for ii in iter_atoms:\n",
    "            a_t = next(iter_atoms_t)\n",
    "            new_coordinates[ii,:]=coordinates[ii,:]+translation[a_t,:]\n",
    "\n",
    "    return new_coordinates"
   ]
  },
  {
   "cell_type": "code",
   "execution_count": null,
   "id": "de039fb2-fa39-48ad-881f-fe2ce59a07d3",
   "metadata": {},
   "outputs": [],
   "source": []
  }
 ],
 "metadata": {
  "kernelspec": {
   "display_name": "Python 3 (ipykernel)",
   "language": "python",
   "name": "python3"
  },
  "language_info": {
   "codemirror_mode": {
    "name": "ipython",
    "version": 3
   },
   "file_extension": ".py",
   "mimetype": "text/x-python",
   "name": "python",
   "nbconvert_exporter": "python",
   "pygments_lexer": "ipython3",
   "version": "3.10.11"
  }
 },
 "nbformat": 4,
 "nbformat_minor": 5
}
