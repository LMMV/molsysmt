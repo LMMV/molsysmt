{
 "cells": [
  {
   "cell_type": "code",
   "execution_count": 1,
   "id": "970ba437-8b56-43aa-8323-aa955eac3a44",
   "metadata": {
    "tags": []
   },
   "outputs": [],
   "source": [
    "import numba as nb\n",
    "import numpy as np\n",
    "from itertools import repeat"
   ]
  },
  {
   "cell_type": "code",
   "execution_count": 2,
   "id": "d69f18af-85b5-4ca2-a893-800963a02b04",
   "metadata": {
    "tags": []
   },
   "outputs": [],
   "source": [
    "@nb.njit(nb.void(nb.int64, nb.int64))\n",
    "def inf_sequence(a,b):\n",
    "    num = a\n",
    "    while True:\n",
    "        yield num\n",
    "        num += b"
   ]
  },
  {
   "cell_type": "code",
   "execution_count": 3,
   "id": "fb83cb3c-7e09-4a60-9599-9851d6b9d79c",
   "metadata": {
    "tags": []
   },
   "outputs": [],
   "source": [
    "@nb.njit(nb.void(nb.int64))\n",
    "def repeat(a):\n",
    "    while True:\n",
    "        yield a"
   ]
  },
  {
   "cell_type": "code",
   "execution_count": 5,
   "id": "6563e59e-dd49-4f74-b066-7f12bcad7dee",
   "metadata": {
    "tags": []
   },
   "outputs": [],
   "source": [
    "@nb.njit(nb.int64(nb.int64))\n",
    "def test(x):\n",
    "    a=inf_sequence(10,2)\n",
    "    b=repeat(10)\n",
    "    for ii,jj,kk in zip(range(3),a,b):\n",
    "        print(ii, jj, kk)\n",
    "    return x"
   ]
  },
  {
   "cell_type": "code",
   "execution_count": null,
   "id": "48d9d346-0408-4f25-8caa-75b249cb6f0d",
   "metadata": {
    "tags": []
   },
   "outputs": [],
   "source": [
    "@nb.njit(nb.float64[:](nb.float64[:,:],nb.float64[:]))\n",
    "def matmul(m,v):\n",
    "    o = np.zeros(m.shape[0], nb.float64)\n",
    "    for ii in range(m.shape[0]):\n",
    "        for jj in range(m.shape[1]):\n",
    "            o[ii]+=m[ii,jj]*v[jj]\n",
    "    return o"
   ]
  },
  {
   "cell_type": "code",
   "execution_count": null,
   "id": "62866354-7b67-41d9-ab6b-e384c10ee882",
   "metadata": {
    "tags": []
   },
   "outputs": [],
   "source": [
    "@nb.njit(nb.float64[:](nb.float64[:,:],nb.float64[:]))\n",
    "def transpmatmul(m,v):\n",
    "    o = np.zeros(m.shape[1], nb.float64)\n",
    "    for jj in range(m.shape[0]):\n",
    "        for ii in range(m.shape[1]):\n",
    "            o[ii]+=m[jj,ii]*v[jj]\n",
    "    return o"
   ]
  },
  {
   "cell_type": "code",
   "execution_count": null,
   "id": "4daf6c16-4385-4b60-ba60-1b9ca6b2d6bf",
   "metadata": {
    "tags": []
   },
   "outputs": [],
   "source": [
    "m=np.ones((3,3))\n",
    "m[1,0]=0.0\n",
    "m[2,0]=0.0\n",
    "m[2,1]=0.0\n",
    "m"
   ]
  },
  {
   "cell_type": "code",
   "execution_count": null,
   "id": "05c9f87c-f630-4b9a-b979-fcb51cb9c92b",
   "metadata": {
    "tags": []
   },
   "outputs": [],
   "source": [
    "v=np.ones(3)"
   ]
  },
  {
   "cell_type": "code",
   "execution_count": null,
   "id": "d69fe096-a8d1-4123-9094-5901c6d13888",
   "metadata": {
    "tags": []
   },
   "outputs": [],
   "source": [
    "transpmatmul(m,v)"
   ]
  },
  {
   "cell_type": "code",
   "execution_count": 6,
   "id": "4056aee1-37db-4eff-bdca-2fdd6b12e8c2",
   "metadata": {},
   "outputs": [
    {
     "name": "stdout",
     "output_type": "stream",
     "text": [
      "0 10 10\n",
      "1 12 10\n",
      "2 14 10\n"
     ]
    },
    {
     "data": {
      "text/plain": [
       "10"
      ]
     },
     "execution_count": 6,
     "metadata": {},
     "output_type": "execute_result"
    }
   ],
   "source": [
    "test(10)"
   ]
  },
  {
   "cell_type": "code",
   "execution_count": null,
   "id": "1073eba1-0f06-4bf7-a780-efb34c47d2a8",
   "metadata": {},
   "outputs": [],
   "source": []
  },
  {
   "cell_type": "code",
   "execution_count": null,
   "id": "dd70a8fb-70b1-45a2-b3d0-a680082a4e56",
   "metadata": {},
   "outputs": [],
   "source": []
  }
 ],
 "metadata": {
  "kernelspec": {
   "display_name": "Python 3 (ipykernel)",
   "language": "python",
   "name": "python3"
  },
  "language_info": {
   "codemirror_mode": {
    "name": "ipython",
    "version": 3
   },
   "file_extension": ".py",
   "mimetype": "text/x-python",
   "name": "python",
   "nbconvert_exporter": "python",
   "pygments_lexer": "ipython3",
   "version": "3.9.16"
  }
 },
 "nbformat": 4,
 "nbformat_minor": 5
}
