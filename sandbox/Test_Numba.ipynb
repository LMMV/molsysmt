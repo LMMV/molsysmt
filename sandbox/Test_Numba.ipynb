{
 "cells": [
  {
   "cell_type": "code",
   "execution_count": 1,
   "id": "0b5af2cc-83cb-4404-afa5-55dd535aa9b9",
   "metadata": {
    "tags": []
   },
   "outputs": [],
   "source": [
    "import numpy as np\n",
    "import numba as nb"
   ]
  },
  {
   "cell_type": "code",
   "execution_count": 2,
   "id": "6acb117e-7174-4cdb-befe-3d16e693eb71",
   "metadata": {
    "tags": []
   },
   "outputs": [],
   "source": [
    "%run ../molsysmt/lib/make_numba_signature.py"
   ]
  },
  {
   "cell_type": "code",
   "execution_count": null,
   "id": "14bcfea0-d05d-46d3-bc26-da98e604a66b",
   "metadata": {},
   "outputs": [],
   "source": [
    "arguments=[\n",
    "    nb.float64[:], # coordinates: [n_atoms, 3]\n",
    "    nb.float64[:,:], # box: [3, 3]\n",
    "    nb.float64[:,:], # inv_box: [3, 3]\n",
    "    nb.boolean, # orthogonal\n",
    "]\n",
    "output=nb.float64 # distances\n",
    "def get_distance_two_points_mic(point1, point2, box, inv_box, ortho):\n",
    "    \n",
    "    vect_aux = point2-poin1\n",
    "    "
   ]
  },
  {
   "cell_type": "code",
   "execution_count": 10,
   "id": "63ac0632-34e0-4685-b4df-82877989556f",
   "metadata": {
    "tags": []
   },
   "outputs": [],
   "source": [
    "arguments=[\n",
    "    nb.float64[:,:], # coordinates: [n_atoms, 3]\n",
    "    nb.float64[:,:], # box: [3, 3]\n",
    "    [nb.float64[:,:], None], # inv_box: [n_structures, 3, 3]\n",
    "    [nb.boolean, None], # orthogonal\n",
    "    nb.int64[:], # atom_indices\n",
    "]\n",
    "output=nb.float64[:,:] # distances: [n_atoms, n_atoms]\n",
    "@nb.njit(make_numba_signature(arguments,output), cache=True)\n",
    "def get_distances_same_coordinates_same_atoms_single_structure(coordinates, box, inv_box, orthogonal,\n",
    "        atom_indices):\n",
    "\n",
    "    n_atoms = atom_indices.shape[0]\n",
    "    distances = np.empty((n_atoms, n_atoms), dtype=np.float)\n",
    "\n",
    "    if orthogonal is None:\n",
    "        orthogonal = box_is_orthogonal_single_structure(box[:,:])\n",
    "\n",
    "    if inv_box is None:\n",
    "        inv_box=inverse_matrix_3x3(box)\n",
    "\n",
    "    \n",
    "        \n",
    "    return distances\n"
   ]
  },
  {
   "cell_type": "code",
   "execution_count": null,
   "id": "de039fb2-fa39-48ad-881f-fe2ce59a07d3",
   "metadata": {},
   "outputs": [],
   "source": []
  }
 ],
 "metadata": {
  "kernelspec": {
   "display_name": "Python 3 (ipykernel)",
   "language": "python",
   "name": "python3"
  },
  "language_info": {
   "codemirror_mode": {
    "name": "ipython",
    "version": 3
   },
   "file_extension": ".py",
   "mimetype": "text/x-python",
   "name": "python",
   "nbconvert_exporter": "python",
   "pygments_lexer": "ipython3",
   "version": "3.10.11"
  }
 },
 "nbformat": 4,
 "nbformat_minor": 5
}
