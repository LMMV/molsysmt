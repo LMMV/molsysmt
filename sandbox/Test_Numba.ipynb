{
 "cells": [
  {
   "cell_type": "code",
   "execution_count": 1,
   "id": "970ba437-8b56-43aa-8323-aa955eac3a44",
   "metadata": {
    "tags": []
   },
   "outputs": [],
   "source": [
    "import numba as nb\n",
    "import numpy as np\n",
    "from itertools import repeat"
   ]
  },
  {
   "cell_type": "code",
   "execution_count": 127,
   "id": "d69f18af-85b5-4ca2-a893-800963a02b04",
   "metadata": {
    "tags": []
   },
   "outputs": [],
   "source": [
    "@nb.njit(nb.void(nb.int64, nb.int64))\n",
    "def inf_sequence(a,b):\n",
    "    num = a\n",
    "    while True:\n",
    "        yield num\n",
    "        num += b"
   ]
  },
  {
   "cell_type": "code",
   "execution_count": 128,
   "id": "fb83cb3c-7e09-4a60-9599-9851d6b9d79c",
   "metadata": {
    "tags": []
   },
   "outputs": [],
   "source": [
    "@nb.njit(nb.void(nb.int64))\n",
    "def repeat(a):\n",
    "    while True:\n",
    "        yield a"
   ]
  },
  {
   "cell_type": "code",
   "execution_count": 129,
   "id": "6563e59e-dd49-4f74-b066-7f12bcad7dee",
   "metadata": {
    "tags": []
   },
   "outputs": [],
   "source": [
    "@nb.njit(nb.int64(nb.int64))\n",
    "def test2(x):\n",
    "    a=inf_sequence(10,2)\n",
    "    b=repeat(10)\n",
    "    for ii in range(3):\n",
    "        print(next(a), next(b))\n",
    "    return x"
   ]
  },
  {
   "cell_type": "code",
   "execution_count": 132,
   "id": "48d9d346-0408-4f25-8caa-75b249cb6f0d",
   "metadata": {
    "tags": []
   },
   "outputs": [],
   "source": [
    "@nb.njit(nb.float64[:](nb.float64[:,:],nb.float64[:]))\n",
    "def matmul(m,v):\n",
    "    o = np.zeros(m.shape[0], nb.float64)\n",
    "    for ii in range(m.shape[0]):\n",
    "        for jj in range(m.shape[1]):\n",
    "            o[ii]+=m[ii,jj]*v[jj]\n",
    "    return o"
   ]
  },
  {
   "cell_type": "code",
   "execution_count": 143,
   "id": "62866354-7b67-41d9-ab6b-e384c10ee882",
   "metadata": {
    "tags": []
   },
   "outputs": [],
   "source": [
    "@nb.njit(nb.float64[:](nb.float64[:,:],nb.float64[:]))\n",
    "def transpmatmul(m,v):\n",
    "    o = np.zeros(m.shape[1], nb.float64)\n",
    "    for jj in range(m.shape[0]):\n",
    "        for ii in range(m.shape[1]):\n",
    "            o[ii]+=m[jj,ii]*v[jj]\n",
    "    return o"
   ]
  },
  {
   "cell_type": "code",
   "execution_count": 144,
   "id": "4daf6c16-4385-4b60-ba60-1b9ca6b2d6bf",
   "metadata": {
    "tags": []
   },
   "outputs": [
    {
     "data": {
      "text/plain": [
       "array([[1., 1., 1.],\n",
       "       [0., 1., 1.],\n",
       "       [0., 0., 1.]])"
      ]
     },
     "execution_count": 144,
     "metadata": {},
     "output_type": "execute_result"
    }
   ],
   "source": [
    "m=np.ones((3,3))\n",
    "m[1,0]=0.0\n",
    "m[2,0]=0.0\n",
    "m[2,1]=0.0\n",
    "m"
   ]
  },
  {
   "cell_type": "code",
   "execution_count": 145,
   "id": "05c9f87c-f630-4b9a-b979-fcb51cb9c92b",
   "metadata": {
    "tags": []
   },
   "outputs": [],
   "source": [
    "v=np.ones(3)"
   ]
  },
  {
   "cell_type": "code",
   "execution_count": 146,
   "id": "d69fe096-a8d1-4123-9094-5901c6d13888",
   "metadata": {
    "tags": []
   },
   "outputs": [
    {
     "data": {
      "text/plain": [
       "array([1., 2., 3.])"
      ]
     },
     "execution_count": 146,
     "metadata": {},
     "output_type": "execute_result"
    }
   ],
   "source": [
    "transpmatmul(m,v)"
   ]
  },
  {
   "cell_type": "code",
   "execution_count": 136,
   "id": "36c6bb00-7a0b-4e8b-a357-00e8373f5f91",
   "metadata": {
    "tags": []
   },
   "outputs": [],
   "source": [
    "@nb.njit()\n",
    "def test3(dd):\n",
    "    a=range(3)\n",
    "    for ii in range(3):\n",
    "        b=next(a)\n",
    "        print(b)\n",
    "    return dd"
   ]
  },
  {
   "cell_type": "code",
   "execution_count": 54,
   "id": "4056aee1-37db-4eff-bdca-2fdd6b12e8c2",
   "metadata": {},
   "outputs": [
    {
     "ename": "TypingError",
     "evalue": "Failed in nopython mode pipeline (step: nopython frontend)\n\u001b[1m\u001b[1m\u001b[1mNo implementation of function Function(<built-in function next>) found for signature:\n \n >>> next(range_state_int64)\n \nThere are 2 candidate implementations:\n\u001b[1m      - Of which 2 did not match due to:\n      Overload of function 'next': File: numba/core/typing/builtins.py: Line 1056.\n        With argument(s): '(range_state_int64)':\u001b[0m\n\u001b[1m       No match.\u001b[0m\n\u001b[0m\n\u001b[0m\u001b[1mDuring: resolving callee type: Function(<built-in function next>)\u001b[0m\n\u001b[0m\u001b[1mDuring: typing of call at /tmp/ipykernel_12592/3831854670.py (5)\n\u001b[0m\n\u001b[1m\nFile \"../../../../../tmp/ipykernel_12592/3831854670.py\", line 5:\u001b[0m\n\u001b[1m<source missing, REPL/exec in use?>\u001b[0m\n",
     "output_type": "error",
     "traceback": [
      "\u001b[0;31m---------------------------------------------------------------------------\u001b[0m",
      "\u001b[0;31mTypingError\u001b[0m                               Traceback (most recent call last)",
      "Cell \u001b[0;32mIn[54], line 1\u001b[0m\n\u001b[0;32m----> 1\u001b[0m \u001b[43mtest3\u001b[49m\u001b[43m(\u001b[49m\u001b[38;5;241;43m10\u001b[39;49m\u001b[43m)\u001b[49m\n",
      "File \u001b[0;32m/conda/miniconda3/envs/MolSysMT@dprada_3.9/lib/python3.9/site-packages/numba/core/dispatcher.py:468\u001b[0m, in \u001b[0;36m_DispatcherBase._compile_for_args\u001b[0;34m(self, *args, **kws)\u001b[0m\n\u001b[1;32m    464\u001b[0m         msg \u001b[38;5;241m=\u001b[39m (\u001b[38;5;124mf\u001b[39m\u001b[38;5;124m\"\u001b[39m\u001b[38;5;132;01m{\u001b[39;00m\u001b[38;5;28mstr\u001b[39m(e)\u001b[38;5;241m.\u001b[39mrstrip()\u001b[38;5;132;01m}\u001b[39;00m\u001b[38;5;124m \u001b[39m\u001b[38;5;130;01m\\n\u001b[39;00m\u001b[38;5;130;01m\\n\u001b[39;00m\u001b[38;5;124mThis error may have been caused \u001b[39m\u001b[38;5;124m\"\u001b[39m\n\u001b[1;32m    465\u001b[0m                \u001b[38;5;124mf\u001b[39m\u001b[38;5;124m\"\u001b[39m\u001b[38;5;124mby the following argument(s):\u001b[39m\u001b[38;5;130;01m\\n\u001b[39;00m\u001b[38;5;132;01m{\u001b[39;00margs_str\u001b[38;5;132;01m}\u001b[39;00m\u001b[38;5;130;01m\\n\u001b[39;00m\u001b[38;5;124m\"\u001b[39m)\n\u001b[1;32m    466\u001b[0m         e\u001b[38;5;241m.\u001b[39mpatch_message(msg)\n\u001b[0;32m--> 468\u001b[0m     \u001b[43merror_rewrite\u001b[49m\u001b[43m(\u001b[49m\u001b[43me\u001b[49m\u001b[43m,\u001b[49m\u001b[43m \u001b[49m\u001b[38;5;124;43m'\u001b[39;49m\u001b[38;5;124;43mtyping\u001b[39;49m\u001b[38;5;124;43m'\u001b[39;49m\u001b[43m)\u001b[49m\n\u001b[1;32m    469\u001b[0m \u001b[38;5;28;01mexcept\u001b[39;00m errors\u001b[38;5;241m.\u001b[39mUnsupportedError \u001b[38;5;28;01mas\u001b[39;00m e:\n\u001b[1;32m    470\u001b[0m     \u001b[38;5;66;03m# Something unsupported is present in the user code, add help info\u001b[39;00m\n\u001b[1;32m    471\u001b[0m     error_rewrite(e, \u001b[38;5;124m'\u001b[39m\u001b[38;5;124munsupported_error\u001b[39m\u001b[38;5;124m'\u001b[39m)\n",
      "File \u001b[0;32m/conda/miniconda3/envs/MolSysMT@dprada_3.9/lib/python3.9/site-packages/numba/core/dispatcher.py:409\u001b[0m, in \u001b[0;36m_DispatcherBase._compile_for_args.<locals>.error_rewrite\u001b[0;34m(e, issue_type)\u001b[0m\n\u001b[1;32m    407\u001b[0m     \u001b[38;5;28;01mraise\u001b[39;00m e\n\u001b[1;32m    408\u001b[0m \u001b[38;5;28;01melse\u001b[39;00m:\n\u001b[0;32m--> 409\u001b[0m     \u001b[38;5;28;01mraise\u001b[39;00m e\u001b[38;5;241m.\u001b[39mwith_traceback(\u001b[38;5;28;01mNone\u001b[39;00m)\n",
      "\u001b[0;31mTypingError\u001b[0m: Failed in nopython mode pipeline (step: nopython frontend)\n\u001b[1m\u001b[1m\u001b[1mNo implementation of function Function(<built-in function next>) found for signature:\n \n >>> next(range_state_int64)\n \nThere are 2 candidate implementations:\n\u001b[1m      - Of which 2 did not match due to:\n      Overload of function 'next': File: numba/core/typing/builtins.py: Line 1056.\n        With argument(s): '(range_state_int64)':\u001b[0m\n\u001b[1m       No match.\u001b[0m\n\u001b[0m\n\u001b[0m\u001b[1mDuring: resolving callee type: Function(<built-in function next>)\u001b[0m\n\u001b[0m\u001b[1mDuring: typing of call at /tmp/ipykernel_12592/3831854670.py (5)\n\u001b[0m\n\u001b[1m\nFile \"../../../../../tmp/ipykernel_12592/3831854670.py\", line 5:\u001b[0m\n\u001b[1m<source missing, REPL/exec in use?>\u001b[0m\n"
     ]
    }
   ],
   "source": [
    "test3(10)"
   ]
  },
  {
   "cell_type": "code",
   "execution_count": null,
   "id": "1073eba1-0f06-4bf7-a780-efb34c47d2a8",
   "metadata": {},
   "outputs": [],
   "source": []
  },
  {
   "cell_type": "code",
   "execution_count": null,
   "id": "dd70a8fb-70b1-45a2-b3d0-a680082a4e56",
   "metadata": {},
   "outputs": [],
   "source": []
  }
 ],
 "metadata": {
  "kernelspec": {
   "display_name": "Python 3 (ipykernel)",
   "language": "python",
   "name": "python3"
  },
  "language_info": {
   "codemirror_mode": {
    "name": "ipython",
    "version": 3
   },
   "file_extension": ".py",
   "mimetype": "text/x-python",
   "name": "python",
   "nbconvert_exporter": "python",
   "pygments_lexer": "ipython3",
   "version": "3.9.16"
  }
 },
 "nbformat": 4,
 "nbformat_minor": 5
}
