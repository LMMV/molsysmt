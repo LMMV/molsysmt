{
 "cells": [
  {
   "cell_type": "code",
   "execution_count": 11,
   "id": "970ba437-8b56-43aa-8323-aa955eac3a44",
   "metadata": {
    "tags": []
   },
   "outputs": [],
   "source": [
    "import numba as nb\n",
    "import numpy as np\n",
    "import math"
   ]
  },
  {
   "cell_type": "code",
   "execution_count": 7,
   "id": "40ee4cb6-6c05-433a-a30d-25b0b1a338ab",
   "metadata": {
    "tags": []
   },
   "outputs": [
    {
     "data": {
      "text/plain": [
       "array([False, False, False])"
      ]
     },
     "execution_count": 7,
     "metadata": {},
     "output_type": "execute_result"
    }
   ],
   "source": [
    "np.isclose([0.002,0.0004,0.006],[0.0,0.0,0.0])"
   ]
  },
  {
   "cell_type": "code",
   "execution_count": 21,
   "id": "aba787bd-a0b4-42a1-82f9-dd423d0afc81",
   "metadata": {
    "tags": []
   },
   "outputs": [
    {
     "data": {
      "text/plain": [
       "True"
      ]
     },
     "execution_count": 21,
     "metadata": {},
     "output_type": "execute_result"
    }
   ],
   "source": [
    "math.isclose(0.0, 0.0000002, abs_tol=0.00001)"
   ]
  },
  {
   "cell_type": "code",
   "execution_count": 24,
   "id": "1073eba1-0f06-4bf7-a780-efb34c47d2a8",
   "metadata": {},
   "outputs": [],
   "source": [
    "@nb.njit(nb.boolean(nb.float64[:,:,:]))\n",
    "def box_is_orthogonal(box):\n",
    "\n",
    "    output = False\n",
    "    \n",
    "    if abs(np.dot(box[0,0,:], box[0,1,:]))<0.000001:\n",
    "        if abs(np.dot(box[0,0,:], box[0,2,:]))<0.000001:\n",
    "            if abs(np.dot(box[0,1,:], box[0,2,:]))<0.000001:\n",
    "                output = True\n",
    "\n",
    "    return output"
   ]
  },
  {
   "cell_type": "code",
   "execution_count": 31,
   "id": "dd70a8fb-70b1-45a2-b3d0-a680082a4e56",
   "metadata": {},
   "outputs": [
    {
     "data": {
      "text/plain": [
       "True"
      ]
     },
     "execution_count": 31,
     "metadata": {},
     "output_type": "execute_result"
    }
   ],
   "source": [
    "aa=np.zeros((0,3,3))\n",
    "box_is_orthogonal(aa)"
   ]
  },
  {
   "cell_type": "code",
   "execution_count": null,
   "id": "47074e32-235e-4b70-b9fe-2d3c079c0009",
   "metadata": {},
   "outputs": [],
   "source": []
  }
 ],
 "metadata": {
  "kernelspec": {
   "display_name": "Python 3 (ipykernel)",
   "language": "python",
   "name": "python3"
  },
  "language_info": {
   "codemirror_mode": {
    "name": "ipython",
    "version": 3
   },
   "file_extension": ".py",
   "mimetype": "text/x-python",
   "name": "python",
   "nbconvert_exporter": "python",
   "pygments_lexer": "ipython3",
   "version": "3.10.11"
  }
 },
 "nbformat": 4,
 "nbformat_minor": 5
}
