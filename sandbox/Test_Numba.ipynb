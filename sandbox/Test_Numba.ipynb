{
 "cells": [
  {
   "cell_type": "code",
   "execution_count": 1,
   "id": "1c6a5d67-39d9-4fe1-a2f8-9564026ac089",
   "metadata": {},
   "outputs": [],
   "source": [
    "import numba as nb\n",
    "import numpy as np"
   ]
  },
  {
   "cell_type": "code",
   "execution_count": 93,
   "id": "ad1dd47c-445e-49ab-b8a0-98fb09336411",
   "metadata": {},
   "outputs": [],
   "source": [
    "@nb.jit(nb.float64[:](nb.float64[:], nb.float64[:]), nopython=True)\n",
    "def cross_product(a, b):\n",
    "\n",
    "    output=np.empty((3), dtype=float)\n",
    "\n",
    "    output[0]=a[1]*b[2]-a[2]*b[1]\n",
    "    output[1]=-a[0]*b[2]+a[2]*b[0]\n",
    "    output[2]=a[0]*b[1]-a[1]*b[0]\n",
    "\n",
    "    return output"
   ]
  },
  {
   "cell_type": "code",
   "execution_count": 95,
   "id": "9a3339ee-d3f4-4af1-a09a-0c36a87445c2",
   "metadata": {},
   "outputs": [],
   "source": [
    "aa = np.array([0,1,2,3])"
   ]
  },
  {
   "cell_type": "code",
   "execution_count": 96,
   "id": "177ae2aa-2b3a-4a51-97fb-b37c4b8db625",
   "metadata": {},
   "outputs": [],
   "source": [
    "a,b,c,d = aa"
   ]
  },
  {
   "cell_type": "code",
   "execution_count": 97,
   "id": "518fde91-97b6-4ecc-a6d6-3374a545cdb0",
   "metadata": {},
   "outputs": [
    {
     "data": {
      "text/plain": [
       "0"
      ]
     },
     "execution_count": 97,
     "metadata": {},
     "output_type": "execute_result"
    }
   ],
   "source": [
    "a"
   ]
  },
  {
   "cell_type": "code",
   "execution_count": 79,
   "id": "d7caa45a-8183-486a-aa50-7d336447041b",
   "metadata": {},
   "outputs": [],
   "source": [
    "aa = [[3,4,5],[1,10],[3,4,6,7],[8],[2,9,1]]"
   ]
  },
  {
   "cell_type": "code",
   "execution_count": 80,
   "id": "d88b9638-91e6-4bdb-b63c-a1e43e4f6076",
   "metadata": {},
   "outputs": [],
   "source": [
    "bb = nb.typed.List([nb.typed.List(ii) for ii in aa])"
   ]
  },
  {
   "cell_type": "code",
   "execution_count": 81,
   "id": "1e50bb93-813d-4e6e-b1dd-581f7a940fff",
   "metadata": {},
   "outputs": [],
   "source": [
    "nb.jit(nb.types.UniTuple(nb.int64[:], 2)(nb.types.List(dtype=nb.types.List(dtype=nb.int64))), nopython=True)\n",
    "def test(item):\n",
    "    \n",
    "    n_values=0\n",
    "    n_starts=0\n",
    "    for segment in item:\n",
    "        n_values+=len(segment)\n",
    "        n_starts+=1\n",
    "    \n",
    "    values = np.empty((n_values), dtype=int)\n",
    "    starts = np.empty((n_starts+1), dtype=int)\n",
    "    \n",
    "    counter=0\n",
    "    for ii,segment in enumerate(item):\n",
    "        starts[ii]=counter\n",
    "        for jj in sorted(segment):\n",
    "            values[counter]=jj\n",
    "            counter+=1\n",
    "    \n",
    "    starts[-1]=counter\n",
    "    \n",
    "    return starts, values"
   ]
  },
  {
   "cell_type": "code",
   "execution_count": 83,
   "id": "9b55979e-ac92-436c-bb58-6519f53e5694",
   "metadata": {},
   "outputs": [],
   "source": [
    "starts, values = test(bb)"
   ]
  },
  {
   "cell_type": "code",
   "execution_count": 84,
   "id": "bcca3237-c458-47fc-8997-fb16bc1f84f1",
   "metadata": {},
   "outputs": [],
   "source": [
    "n = starts.shape[0]-1"
   ]
  },
  {
   "cell_type": "code",
   "execution_count": 87,
   "id": "b3767f4e-e12c-49de-81e0-d7a140f886b3",
   "metadata": {},
   "outputs": [
    {
     "name": "stdout",
     "output_type": "stream",
     "text": [
      "xxxx\n",
      "3\n",
      "4\n",
      "5\n",
      "xxxx\n",
      "1\n",
      "10\n",
      "xxxx\n",
      "3\n",
      "4\n",
      "6\n",
      "7\n",
      "xxxx\n",
      "8\n",
      "xxxx\n",
      "1\n",
      "2\n",
      "9\n"
     ]
    }
   ],
   "source": [
    "for ii in range(n):\n",
    "    print('xxxx')\n",
    "    for jj in range(starts[ii],starts[ii+1]):\n",
    "        print(values[jj])"
   ]
  },
  {
   "cell_type": "code",
   "execution_count": null,
   "id": "1fe8cd3c-6dcb-4098-b916-ac848111bb41",
   "metadata": {},
   "outputs": [],
   "source": [
    "class serialized_lists():\n",
    "\n",
    "    def __init__ (self, item=None):\n",
    "\n",
    "        self.values = None\n",
    "        self.starts = None\n",
    "        self.indices = None\n",
    "        self.n_values = None\n",
    "        self.n_indices = None\n",
    "\n",
    "        if type(item) is list or type(item) is np.ndarray:\n",
    "\n",
    "            \"\"\"\n",
    "            item = [[3,4,5],[1,10],[3,4,6,7],[8],[2,9,1]]\n",
    "            serialized_item = serialized_lists(item)\n",
    "            \n",
    "            serialized_item.values = [3,4,5,1,10,3,4,6,7,8,1,2,9]\n",
    "            serialized_item.starts = [0,3,5,9,10,13]\n",
    "            serialized_item.indices = [0,1,2,3,4]\n",
    "            serialized_item.n_values = 13\n",
    "            serialized_item.n_indices = 5\n",
    "            \"\"\"\n",
    "\n",
    "            self.values =  [np.sort(ll) for ll in item]\n",
    "            self.values = np.concatenate(self.values)\n",
    "            self.indices = np.arange(len(item))\n",
    "            self.starts= []\n",
    "            jj = 0\n",
    "            for ii in item:\n",
    "                self.starts.append(jj)\n",
    "                jj+=len(ii)\n",
    "            self.starts.append(jj)\n",
    "\n",
    "            self.starts = np.array(self.starts, dtype=int)\n",
    "\n",
    "            self.n_values = self.values.shape[0]\n",
    "            self.n_indices = self.indices.shape[0]\n",
    "\n",
    "        elif type(item) is dict:\n",
    "\n",
    "            \"\"\"\n",
    "            item = {2:[3,4,5],7:[1,10],8:[3,4,6,7],3:[8],6:[2,9,1]}\n",
    "            serialized_item = serialized_lists(item)\n",
    "            \n",
    "            item = [2:[3,4,5],3:[8],6:[2,9,1],7:[1,10],8:[3,4,6,7]]\n",
    "            serialized_item.values = [3,4,5,8,1,2,9,1,10,3,4,6,7]\n",
    "            serialized_item.starts = [0,3,4,7,9,13]\n",
    "            serialized_item.indices = [2,3,6,7,8]\n",
    "            serialized_item.n_values = 13\n",
    "            serialized_item.n_indices = 5\n",
    "            \"\"\"\n",
    "\n",
    "            self.indices = np.sort(list(item.keys()))\n",
    "\n",
    "            self.values = []\n",
    "            self.starts= []\n",
    "            jj = 0\n",
    "            for ii in self.indices:\n",
    "                self.values.append(np.sort(item[ii]))\n",
    "                self.starts.append(jj)\n",
    "                jj+=len(item[ii])\n",
    "            self.starts.append(jj)\n",
    "\n",
    "            self.values = np.concatenate(self.values)\n",
    "            self.starts = np.array(self.starts, dtype=int)\n",
    "\n",
    "            self.n_values = self.values.shape[0]\n",
    "            self.n_indices = self.indices.shape[0]\n"
   ]
  },
  {
   "cell_type": "code",
   "execution_count": null,
   "id": "98148dbc-9a33-4ef7-b54f-2f285a2e13c6",
   "metadata": {},
   "outputs": [],
   "source": []
  }
 ],
 "metadata": {
  "kernelspec": {
   "display_name": "Python 3 (ipykernel)",
   "language": "python",
   "name": "python3"
  },
  "language_info": {
   "codemirror_mode": {
    "name": "ipython",
    "version": 3
   },
   "file_extension": ".py",
   "mimetype": "text/x-python",
   "name": "python",
   "nbconvert_exporter": "python",
   "pygments_lexer": "ipython3",
   "version": "3.9.15"
  }
 },
 "nbformat": 4,
 "nbformat_minor": 5
}
