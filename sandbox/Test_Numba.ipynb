{
 "cells": [
  {
   "cell_type": "code",
   "execution_count": 4,
   "id": "970ba437-8b56-43aa-8323-aa955eac3a44",
   "metadata": {},
   "outputs": [],
   "source": [
    "import numba as nb\n",
    "import numpy as np"
   ]
  },
  {
   "cell_type": "code",
   "execution_count": 13,
   "id": "d69f18af-85b5-4ca2-a893-800963a02b04",
   "metadata": {},
   "outputs": [],
   "source": [
    "@nb.njit(nb.types.UniTuple(nb.int64[:], 2)(nb.types.ListType(nb.types.ListType(nb.int64))))\n",
    "def _jit_serialize(item):\n",
    "\n",
    "    n_values=0\n",
    "    n_starts=0\n",
    "    for segment in item:\n",
    "        n_values+=len(segment)\n",
    "        n_starts+=1\n",
    "\n",
    "    values = np.empty((n_values), dtype=nb.int64)\n",
    "    starts = np.empty((n_starts+1), dtype=nb.int64)\n",
    "\n",
    "    counter=0\n",
    "    for ii,segment in enumerate(item):\n",
    "        starts[ii]=counter\n",
    "        for jj in sorted(segment):\n",
    "            values[counter]=jj\n",
    "            counter+=1\n",
    "\n",
    "    starts[-1]=counter\n",
    "\n",
    "    return starts, values"
   ]
  },
  {
   "cell_type": "code",
   "execution_count": 14,
   "id": "c66d8e84-4533-4cf1-bc02-ef0a40a06ab9",
   "metadata": {},
   "outputs": [],
   "source": [
    "item = {2:[3,4,5],7:[1,10],8:[3,4,6,7],3:[8],6:[2,9,1]}\n",
    "indices = np.sort(list(item.keys()))\n",
    "aux_item = nb.typed.List([nb.typed.List(sorted(item[ii])) for ii in indices])"
   ]
  },
  {
   "cell_type": "code",
   "execution_count": 15,
   "id": "14c1f2d7-92f5-44eb-880d-0448d16d5fcd",
   "metadata": {},
   "outputs": [
    {
     "data": {
      "text/plain": [
       "(array([ 0,  3,  4,  7,  9, 13]),\n",
       " array([ 3,  4,  5,  8,  1,  2,  9,  1, 10,  3,  4,  6,  7]))"
      ]
     },
     "execution_count": 15,
     "metadata": {},
     "output_type": "execute_result"
    }
   ],
   "source": [
    "_jit_serialize(aux_item)"
   ]
  },
  {
   "cell_type": "code",
   "execution_count": null,
   "id": "2dbba181-e74a-40ca-b076-3df5e1071073",
   "metadata": {},
   "outputs": [],
   "source": []
  }
 ],
 "metadata": {
  "kernelspec": {
   "display_name": "Python 3 (ipykernel)",
   "language": "python",
   "name": "python3"
  },
  "language_info": {
   "codemirror_mode": {
    "name": "ipython",
    "version": 3
   },
   "file_extension": ".py",
   "mimetype": "text/x-python",
   "name": "python",
   "nbconvert_exporter": "python",
   "pygments_lexer": "ipython3",
   "version": "3.9.16"
  }
 },
 "nbformat": 4,
 "nbformat_minor": 5
}
