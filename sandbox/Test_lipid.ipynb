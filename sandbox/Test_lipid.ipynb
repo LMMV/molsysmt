{
 "cells": [
  {
   "cell_type": "markdown",
   "id": "2c8c5f0e-d6b7-4790-9423-be6e62f66d96",
   "metadata": {},
   "source": [
    "# Test lipid"
   ]
  },
  {
   "cell_type": "code",
   "execution_count": 1,
   "id": "a0bcd34b-8c83-441c-ba6a-3e4a22b8016b",
   "metadata": {
    "tags": []
   },
   "outputs": [
    {
     "data": {
      "application/vnd.jupyter.widget-view+json": {
       "model_id": "7fb895d6898f436e912e6599da8c4fca",
       "version_major": 2,
       "version_minor": 0
      },
      "text/plain": []
     },
     "metadata": {},
     "output_type": "display_data"
    }
   ],
   "source": [
    "import molsysmt as msm"
   ]
  },
  {
   "cell_type": "code",
   "execution_count": 2,
   "id": "6928309d-bd38-4e0b-beb9-e42257614949",
   "metadata": {},
   "outputs": [],
   "source": [
    "molsys = msm.convert('./popc_1.crd', to_form='molsysmt.MolSys')"
   ]
  },
  {
   "cell_type": "code",
   "execution_count": null,
   "id": "d748eb97-92f8-4542-befc-f323dc5ad85c",
   "metadata": {},
   "outputs": [],
   "source": []
  }
 ],
 "metadata": {
  "kernelspec": {
   "display_name": "Python 3 (ipykernel)",
   "language": "python",
   "name": "python3"
  },
  "language_info": {
   "codemirror_mode": {
    "name": "ipython",
    "version": 3
   },
   "file_extension": ".py",
   "mimetype": "text/x-python",
   "name": "python",
   "nbconvert_exporter": "python",
   "pygments_lexer": "ipython3",
   "version": "3.9.16"
  }
 },
 "nbformat": 4,
 "nbformat_minor": 5
}
