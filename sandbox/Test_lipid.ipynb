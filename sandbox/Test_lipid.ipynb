{
 "cells": [
  {
   "cell_type": "markdown",
   "id": "2c8c5f0e-d6b7-4790-9423-be6e62f66d96",
   "metadata": {},
   "source": [
    "# Test lipid"
   ]
  },
  {
   "cell_type": "code",
   "execution_count": 1,
   "id": "a0bcd34b-8c83-441c-ba6a-3e4a22b8016b",
   "metadata": {},
   "outputs": [
    {
     "data": {
      "application/vnd.jupyter.widget-view+json": {
       "model_id": "66a06c26868d4cdb86ad55764a2f1c20",
       "version_major": 2,
       "version_minor": 0
      },
      "text/plain": []
     },
     "metadata": {},
     "output_type": "display_data"
    }
   ],
   "source": [
    "import molsysmt as msm"
   ]
  },
  {
   "cell_type": "code",
   "execution_count": 10,
   "id": "4d9d3132-85d7-4df4-ae60-c0e9f5edc1ac",
   "metadata": {},
   "outputs": [],
   "source": [
    "molsys = msm.convert('./popc_1.crd', to_form='MDAnalysis.Universe')"
   ]
  },
  {
   "cell_type": "code",
   "execution_count": 18,
   "id": "26e414e5-bab4-4fa5-98ae-a40d191f2a95",
   "metadata": {},
   "outputs": [
    {
     "data": {
      "text/plain": [
       "1"
      ]
     },
     "execution_count": 18,
     "metadata": {},
     "output_type": "execute_result"
    }
   ],
   "source": [
    "molsys.trajectory."
   ]
  },
  {
   "cell_type": "code",
   "execution_count": 11,
   "id": "9cd2df93-e863-4619-b45d-f1fce098054a",
   "metadata": {},
   "outputs": [
    {
     "ename": "TypeError",
     "evalue": "unsupported operand type(s) for *: 'CRDReader' and 'float'",
     "output_type": "error",
     "traceback": [
      "\u001b[0;31m---------------------------------------------------------------------------\u001b[0m",
      "\u001b[0;31mTypeError\u001b[0m                                 Traceback (most recent call last)",
      "Cell \u001b[0;32mIn[11], line 1\u001b[0m\n\u001b[0;32m----> 1\u001b[0m \u001b[43mmsm\u001b[49m\u001b[38;5;241;43m.\u001b[39;49m\u001b[43mget\u001b[49m\u001b[43m(\u001b[49m\u001b[43mmolsys\u001b[49m\u001b[43m,\u001b[49m\u001b[43m \u001b[49m\u001b[43melement\u001b[49m\u001b[38;5;241;43m=\u001b[39;49m\u001b[38;5;124;43m'\u001b[39;49m\u001b[38;5;124;43matom\u001b[39;49m\u001b[38;5;124;43m'\u001b[39;49m\u001b[43m,\u001b[49m\u001b[43m \u001b[49m\u001b[43mcoordinates\u001b[49m\u001b[38;5;241;43m=\u001b[39;49m\u001b[38;5;28;43;01mTrue\u001b[39;49;00m\u001b[43m)\u001b[49m\n",
      "File \u001b[0;32m~/projects@dprada/MolSysMT/molsysmt/_private/digestion/digest.py:116\u001b[0m, in \u001b[0;36mdigest.<locals>.digestor.<locals>.wrapper\u001b[0;34m(*args, **kwargs)\u001b[0m\n\u001b[1;32m    114\u001b[0m     \u001b[38;5;28;01mreturn\u001b[39;00m func(all_args[\u001b[38;5;124m'\u001b[39m\u001b[38;5;124mself\u001b[39m\u001b[38;5;124m'\u001b[39m], \u001b[38;5;241m*\u001b[39m\u001b[38;5;241m*\u001b[39mfinal_args)\n\u001b[1;32m    115\u001b[0m \u001b[38;5;28;01melse\u001b[39;00m:\n\u001b[0;32m--> 116\u001b[0m     \u001b[38;5;28;01mreturn\u001b[39;00m \u001b[43mfunc\u001b[49m\u001b[43m(\u001b[49m\u001b[38;5;241;43m*\u001b[39;49m\u001b[38;5;241;43m*\u001b[39;49m\u001b[43mfinal_args\u001b[49m\u001b[43m)\u001b[49m\n",
      "File \u001b[0;32m~/projects@dprada/MolSysMT/molsysmt/basic/get.py:103\u001b[0m, in \u001b[0;36mget\u001b[0;34m(molecular_system, element, indices, selection, structure_indices, mask, syntax, output_type, **kwargs)\u001b[0m\n\u001b[1;32m    101\u001b[0m         result \u001b[38;5;241m=\u001b[39m \u001b[38;5;28;01mNone\u001b[39;00m\n\u001b[1;32m    102\u001b[0m     \u001b[38;5;28;01melse\u001b[39;00m:\n\u001b[0;32m--> 103\u001b[0m         result \u001b[38;5;241m=\u001b[39m \u001b[43mdict_get\u001b[49m\u001b[43m[\u001b[49m\u001b[43maux_form\u001b[49m\u001b[43m]\u001b[49m\u001b[43m[\u001b[49m\u001b[43melement\u001b[49m\u001b[43m]\u001b[49m\u001b[43m[\u001b[49m\u001b[43margument\u001b[49m\u001b[43m]\u001b[49m\u001b[43m(\u001b[49m\u001b[43maux_item\u001b[49m\u001b[43m,\u001b[49m\u001b[43m \u001b[49m\u001b[38;5;241;43m*\u001b[39;49m\u001b[38;5;241;43m*\u001b[39;49m\u001b[43mdict_indices\u001b[49m\u001b[43m)\u001b[49m\n\u001b[1;32m    105\u001b[0m     attributes\u001b[38;5;241m.\u001b[39mappend(result)\n\u001b[1;32m    107\u001b[0m \u001b[38;5;28;01mif\u001b[39;00m output_type\u001b[38;5;241m==\u001b[39m\u001b[38;5;124m'\u001b[39m\u001b[38;5;124mvalues\u001b[39m\u001b[38;5;124m'\u001b[39m:\n",
      "File \u001b[0;32m~/projects@dprada/MolSysMT/molsysmt/_private/digestion/digest.py:116\u001b[0m, in \u001b[0;36mdigest.<locals>.digestor.<locals>.wrapper\u001b[0;34m(*args, **kwargs)\u001b[0m\n\u001b[1;32m    114\u001b[0m     \u001b[38;5;28;01mreturn\u001b[39;00m func(all_args[\u001b[38;5;124m'\u001b[39m\u001b[38;5;124mself\u001b[39m\u001b[38;5;124m'\u001b[39m], \u001b[38;5;241m*\u001b[39m\u001b[38;5;241m*\u001b[39mfinal_args)\n\u001b[1;32m    115\u001b[0m \u001b[38;5;28;01melse\u001b[39;00m:\n\u001b[0;32m--> 116\u001b[0m     \u001b[38;5;28;01mreturn\u001b[39;00m \u001b[43mfunc\u001b[49m\u001b[43m(\u001b[49m\u001b[38;5;241;43m*\u001b[39;49m\u001b[38;5;241;43m*\u001b[39;49m\u001b[43mfinal_args\u001b[49m\u001b[43m)\u001b[49m\n",
      "File \u001b[0;32m~/projects@dprada/MolSysMT/molsysmt/form/MDAnalysis_Universe/get.py:70\u001b[0m, in \u001b[0;36mget_coordinates_from_atom\u001b[0;34m(item, indices, structure_indices)\u001b[0m\n\u001b[1;32m     67\u001b[0m \u001b[38;5;129m@digest\u001b[39m(form\u001b[38;5;241m=\u001b[39mform)\n\u001b[1;32m     68\u001b[0m \u001b[38;5;28;01mdef\u001b[39;00m \u001b[38;5;21mget_coordinates_from_atom\u001b[39m(item, indices\u001b[38;5;241m=\u001b[39m\u001b[38;5;124m'\u001b[39m\u001b[38;5;124mall\u001b[39m\u001b[38;5;124m'\u001b[39m, structure_indices\u001b[38;5;241m=\u001b[39m\u001b[38;5;124m'\u001b[39m\u001b[38;5;124mall\u001b[39m\u001b[38;5;124m'\u001b[39m):\n\u001b[0;32m---> 70\u001b[0m     coordinates\u001b[38;5;241m=\u001b[39m puw\u001b[38;5;241m.\u001b[39mquantity(\u001b[43mitem\u001b[49m\u001b[38;5;241;43m.\u001b[39;49m\u001b[43mtrajectory\u001b[49m\u001b[43m \u001b[49m\u001b[38;5;241;43m*\u001b[39;49m\u001b[43m \u001b[49m\u001b[38;5;241;43m0.1\u001b[39;49m, unit\u001b[38;5;241m=\u001b[39m\u001b[38;5;124m'\u001b[39m\u001b[38;5;124mnm\u001b[39m\u001b[38;5;124m'\u001b[39m)\n\u001b[1;32m     72\u001b[0m     \u001b[38;5;28;01mif\u001b[39;00m \u001b[38;5;129;01mnot\u001b[39;00m is_all(indices):\n\u001b[1;32m     73\u001b[0m         coordinates \u001b[38;5;241m=\u001b[39m coordinates[:, atom_indices, :]\n",
      "\u001b[0;31mTypeError\u001b[0m: unsupported operand type(s) for *: 'CRDReader' and 'float'"
     ]
    }
   ],
   "source": [
    "msm.get(molsys, elconvert_pos_to_nativeement='atom', coordinates=True)"
   ]
  },
  {
   "cell_type": "code",
   "execution_count": null,
   "id": "74f5d33f-8e3f-462a-ab74-c8f01822a81b",
   "metadata": {},
   "outputs": [],
   "source": [
    "get_coordinates_from_atom(item, indices=atom_indices, structure_indices=structure_indices)"
   ]
  },
  {
   "cell_type": "code",
   "execution_count": 9,
   "id": "6928309d-bd38-4e0b-beb9-e42257614949",
   "metadata": {},
   "outputs": [
    {
     "ename": "TypeError",
     "evalue": "unsupported operand type(s) for *: 'CRDReader' and 'float'",
     "output_type": "error",
     "traceback": [
      "\u001b[0;31m---------------------------------------------------------------------------\u001b[0m",
      "\u001b[0;31mTypeError\u001b[0m                                 Traceback (most recent call last)",
      "Cell \u001b[0;32mIn[9], line 1\u001b[0m\n\u001b[0;32m----> 1\u001b[0m molsys \u001b[38;5;241m=\u001b[39m \u001b[43mmsm\u001b[49m\u001b[38;5;241;43m.\u001b[39;49m\u001b[43mconvert\u001b[49m\u001b[43m(\u001b[49m\u001b[38;5;124;43m'\u001b[39;49m\u001b[38;5;124;43m./popc_1.crd\u001b[39;49m\u001b[38;5;124;43m'\u001b[39;49m\u001b[43m,\u001b[49m\u001b[43m \u001b[49m\u001b[43mto_form\u001b[49m\u001b[38;5;241;43m=\u001b[39;49m\u001b[38;5;124;43m'\u001b[39;49m\u001b[38;5;124;43mmolsysmt.Structures\u001b[39;49m\u001b[38;5;124;43m'\u001b[39;49m\u001b[43m)\u001b[49m\n",
      "File \u001b[0;32m~/projects@dprada/MolSysMT/molsysmt/_private/digestion/digest.py:116\u001b[0m, in \u001b[0;36mdigest.<locals>.digestor.<locals>.wrapper\u001b[0;34m(*args, **kwargs)\u001b[0m\n\u001b[1;32m    114\u001b[0m     \u001b[38;5;28;01mreturn\u001b[39;00m func(all_args[\u001b[38;5;124m'\u001b[39m\u001b[38;5;124mself\u001b[39m\u001b[38;5;124m'\u001b[39m], \u001b[38;5;241m*\u001b[39m\u001b[38;5;241m*\u001b[39mfinal_args)\n\u001b[1;32m    115\u001b[0m \u001b[38;5;28;01melse\u001b[39;00m:\n\u001b[0;32m--> 116\u001b[0m     \u001b[38;5;28;01mreturn\u001b[39;00m \u001b[43mfunc\u001b[49m\u001b[43m(\u001b[49m\u001b[38;5;241;43m*\u001b[39;49m\u001b[38;5;241;43m*\u001b[39;49m\u001b[43mfinal_args\u001b[49m\u001b[43m)\u001b[49m\n",
      "File \u001b[0;32m~/projects@dprada/MolSysMT/molsysmt/basic/convert.py:106\u001b[0m, in \u001b[0;36mconvert\u001b[0;34m(molecular_system, to_form, selection, structure_indices, syntax, **kwargs)\u001b[0m\n\u001b[1;32m    104\u001b[0m     \u001b[38;5;28;01mif\u001b[39;00m from_form \u001b[38;5;129;01min\u001b[39;00m dict_convert:\n\u001b[1;32m    105\u001b[0m         \u001b[38;5;28;01mif\u001b[39;00m to_form \u001b[38;5;129;01min\u001b[39;00m dict_convert[from_form]:\n\u001b[0;32m--> 106\u001b[0m             tmp_item \u001b[38;5;241m=\u001b[39m \u001b[43mdict_convert\u001b[49m\u001b[43m[\u001b[49m\u001b[43mfrom_form\u001b[49m\u001b[43m]\u001b[49m\u001b[43m[\u001b[49m\u001b[43mto_form\u001b[49m\u001b[43m]\u001b[49m\u001b[43m(\u001b[49m\u001b[43mitem\u001b[49m\u001b[43m,\u001b[49m\n\u001b[1;32m    107\u001b[0m \u001b[43m                                                        \u001b[49m\u001b[43mmolecular_system\u001b[49m\u001b[38;5;241;43m=\u001b[39;49m\u001b[43mmolecular_system\u001b[49m\u001b[43m,\u001b[49m\n\u001b[1;32m    108\u001b[0m \u001b[43m                                                        \u001b[49m\u001b[43matom_indices\u001b[49m\u001b[38;5;241;43m=\u001b[39;49m\u001b[43matom_indices\u001b[49m\u001b[43m,\u001b[49m\n\u001b[1;32m    109\u001b[0m \u001b[43m                                                        \u001b[49m\u001b[43mstructure_indices\u001b[49m\u001b[38;5;241;43m=\u001b[39;49m\u001b[43mstructure_indices\u001b[49m\u001b[43m,\u001b[49m\n\u001b[1;32m    110\u001b[0m \u001b[43m                                                        \u001b[49m\u001b[38;5;241;43m*\u001b[39;49m\u001b[38;5;241;43m*\u001b[39;49m\u001b[43mconversion_arguments\u001b[49m\u001b[43m,\u001b[49m\u001b[43m \u001b[49m\u001b[38;5;241;43m*\u001b[39;49m\u001b[38;5;241;43m*\u001b[39;49m\u001b[43mkwargs\u001b[49m\u001b[43m)\u001b[49m\n\u001b[1;32m    111\u001b[0m \u001b[38;5;28;01mif\u001b[39;00m tmp_item \u001b[38;5;129;01mis\u001b[39;00m \u001b[38;5;129;01mnot\u001b[39;00m \u001b[38;5;28;01mNone\u001b[39;00m:\n\u001b[1;32m    112\u001b[0m     \u001b[38;5;28;01mbreak\u001b[39;00m\n",
      "File \u001b[0;32m~/projects@dprada/MolSysMT/molsysmt/api_forms/api_file_crd.py:68\u001b[0m, in \u001b[0;36mto_molsysmt_Structures\u001b[0;34m(item, molecular_system, atom_indices, structure_indices)\u001b[0m\n\u001b[1;32m     64\u001b[0m \u001b[38;5;28;01mdef\u001b[39;00m \u001b[38;5;21mto_molsysmt_Structures\u001b[39m(item, molecular_system, atom_indices\u001b[38;5;241m=\u001b[39m\u001b[38;5;124m'\u001b[39m\u001b[38;5;124mall\u001b[39m\u001b[38;5;124m'\u001b[39m, structure_indices\u001b[38;5;241m=\u001b[39m\u001b[38;5;124m'\u001b[39m\u001b[38;5;124mall\u001b[39m\u001b[38;5;124m'\u001b[39m):\n\u001b[1;32m     66\u001b[0m     \u001b[38;5;28;01mfrom\u001b[39;00m \u001b[38;5;21;01mmolsysmt\u001b[39;00m\u001b[38;5;21;01m.\u001b[39;00m\u001b[38;5;21;01mform\u001b[39;00m\u001b[38;5;21;01m.\u001b[39;00m\u001b[38;5;21;01mfile_crd\u001b[39;00m \u001b[38;5;28;01mimport\u001b[39;00m to_molsysmt_Structures \u001b[38;5;28;01mas\u001b[39;00m file_crd_to_molsysmt_Structures\n\u001b[0;32m---> 68\u001b[0m     tmp_item \u001b[38;5;241m=\u001b[39m \u001b[43mfile_crd_to_molsysmt_Structures\u001b[49m\u001b[43m(\u001b[49m\u001b[43mitem\u001b[49m\u001b[43m,\u001b[49m\u001b[43m \u001b[49m\u001b[43matom_indices\u001b[49m\u001b[38;5;241;43m=\u001b[39;49m\u001b[43matom_indices\u001b[49m\u001b[43m,\u001b[49m\n\u001b[1;32m     69\u001b[0m \u001b[43m                                          \u001b[49m\u001b[43mstructure_indices\u001b[49m\u001b[38;5;241;43m=\u001b[39;49m\u001b[43mstructure_indices\u001b[49m\u001b[43m)\u001b[49m\n\u001b[1;32m     71\u001b[0m     \u001b[38;5;28;01mreturn\u001b[39;00m tmp_item\n",
      "File \u001b[0;32m~/projects@dprada/MolSysMT/molsysmt/_private/digestion/digest.py:116\u001b[0m, in \u001b[0;36mdigest.<locals>.digestor.<locals>.wrapper\u001b[0;34m(*args, **kwargs)\u001b[0m\n\u001b[1;32m    114\u001b[0m     \u001b[38;5;28;01mreturn\u001b[39;00m func(all_args[\u001b[38;5;124m'\u001b[39m\u001b[38;5;124mself\u001b[39m\u001b[38;5;124m'\u001b[39m], \u001b[38;5;241m*\u001b[39m\u001b[38;5;241m*\u001b[39mfinal_args)\n\u001b[1;32m    115\u001b[0m \u001b[38;5;28;01melse\u001b[39;00m:\n\u001b[0;32m--> 116\u001b[0m     \u001b[38;5;28;01mreturn\u001b[39;00m \u001b[43mfunc\u001b[49m\u001b[43m(\u001b[49m\u001b[38;5;241;43m*\u001b[39;49m\u001b[38;5;241;43m*\u001b[39;49m\u001b[43mfinal_args\u001b[49m\u001b[43m)\u001b[49m\n",
      "File \u001b[0;32m~/projects@dprada/MolSysMT/molsysmt/form/file_crd/to_molsysmt_Structures.py:10\u001b[0m, in \u001b[0;36mto_molsysmt_Structures\u001b[0;34m(item, atom_indices, structure_indices)\u001b[0m\n\u001b[1;32m      7\u001b[0m \u001b[38;5;28;01mfrom\u001b[39;00m \u001b[38;5;21;01m.\u001b[39;00m\u001b[38;5;21;01m.\u001b[39;00m\u001b[38;5;21;01mMDAnalysis_Universe\u001b[39;00m \u001b[38;5;28;01mimport\u001b[39;00m to_molsysmt_Structures \u001b[38;5;28;01mas\u001b[39;00m MDAnalysis_Universe_to_molsysmt_Structures\n\u001b[1;32m      9\u001b[0m tmp_item \u001b[38;5;241m=\u001b[39m file_crd_to_MDAnalysis_Universe(item, atom_indices\u001b[38;5;241m=\u001b[39matom_indices, structure_indices\u001b[38;5;241m=\u001b[39mstructure_indices)\n\u001b[0;32m---> 10\u001b[0m tmp_item \u001b[38;5;241m=\u001b[39m \u001b[43mMDAnalysis_Universe_to_molsysmt_Structures\u001b[49m\u001b[43m(\u001b[49m\u001b[43mtmp_item\u001b[49m\u001b[43m)\u001b[49m\n\u001b[1;32m     12\u001b[0m \u001b[38;5;28;01mreturn\u001b[39;00m tmp_item\n",
      "File \u001b[0;32m~/projects@dprada/MolSysMT/molsysmt/_private/digestion/digest.py:116\u001b[0m, in \u001b[0;36mdigest.<locals>.digestor.<locals>.wrapper\u001b[0;34m(*args, **kwargs)\u001b[0m\n\u001b[1;32m    114\u001b[0m     \u001b[38;5;28;01mreturn\u001b[39;00m func(all_args[\u001b[38;5;124m'\u001b[39m\u001b[38;5;124mself\u001b[39m\u001b[38;5;124m'\u001b[39m], \u001b[38;5;241m*\u001b[39m\u001b[38;5;241m*\u001b[39mfinal_args)\n\u001b[1;32m    115\u001b[0m \u001b[38;5;28;01melse\u001b[39;00m:\n\u001b[0;32m--> 116\u001b[0m     \u001b[38;5;28;01mreturn\u001b[39;00m \u001b[43mfunc\u001b[49m\u001b[43m(\u001b[49m\u001b[38;5;241;43m*\u001b[39;49m\u001b[38;5;241;43m*\u001b[39;49m\u001b[43mfinal_args\u001b[49m\u001b[43m)\u001b[49m\n",
      "File \u001b[0;32m~/projects@dprada/MolSysMT/molsysmt/form/MDAnalysis_Universe/to_molsysmt_Structures.py:11\u001b[0m, in \u001b[0;36mto_molsysmt_Structures\u001b[0;34m(item, atom_indices, structure_indices)\u001b[0m\n\u001b[1;32m      7\u001b[0m \u001b[38;5;28;01mfrom\u001b[39;00m \u001b[38;5;21;01m.\u001b[39;00m \u001b[38;5;28;01mimport\u001b[39;00m get_coordinates_from_atom, get_structure_id_from_system, get_time_from_system, get_box_from_system\n\u001b[1;32m      9\u001b[0m tmp_item \u001b[38;5;241m=\u001b[39m Structures()\n\u001b[0;32m---> 11\u001b[0m coordinates \u001b[38;5;241m=\u001b[39m \u001b[43mget_coordinates_from_atom\u001b[49m\u001b[43m(\u001b[49m\u001b[43mitem\u001b[49m\u001b[43m,\u001b[49m\u001b[43m \u001b[49m\u001b[43mindices\u001b[49m\u001b[38;5;241;43m=\u001b[39;49m\u001b[43matom_indices\u001b[49m\u001b[43m,\u001b[49m\u001b[43m \u001b[49m\u001b[43mstructure_indices\u001b[49m\u001b[38;5;241;43m=\u001b[39;49m\u001b[43mstructure_indices\u001b[49m\u001b[43m)\u001b[49m\n\u001b[1;32m     12\u001b[0m structure_id \u001b[38;5;241m=\u001b[39m get_structure_id_from_system(item, structure_indices\u001b[38;5;241m=\u001b[39mstructure_indices)\n\u001b[1;32m     13\u001b[0m time \u001b[38;5;241m=\u001b[39m get_time_from_system(item, structure_indices\u001b[38;5;241m=\u001b[39mstructure_indices)\n",
      "File \u001b[0;32m~/projects@dprada/MolSysMT/molsysmt/_private/digestion/digest.py:116\u001b[0m, in \u001b[0;36mdigest.<locals>.digestor.<locals>.wrapper\u001b[0;34m(*args, **kwargs)\u001b[0m\n\u001b[1;32m    114\u001b[0m     \u001b[38;5;28;01mreturn\u001b[39;00m func(all_args[\u001b[38;5;124m'\u001b[39m\u001b[38;5;124mself\u001b[39m\u001b[38;5;124m'\u001b[39m], \u001b[38;5;241m*\u001b[39m\u001b[38;5;241m*\u001b[39mfinal_args)\n\u001b[1;32m    115\u001b[0m \u001b[38;5;28;01melse\u001b[39;00m:\n\u001b[0;32m--> 116\u001b[0m     \u001b[38;5;28;01mreturn\u001b[39;00m \u001b[43mfunc\u001b[49m\u001b[43m(\u001b[49m\u001b[38;5;241;43m*\u001b[39;49m\u001b[38;5;241;43m*\u001b[39;49m\u001b[43mfinal_args\u001b[49m\u001b[43m)\u001b[49m\n",
      "File \u001b[0;32m~/projects@dprada/MolSysMT/molsysmt/form/MDAnalysis_Universe/get.py:70\u001b[0m, in \u001b[0;36mget_coordinates_from_atom\u001b[0;34m(item, indices, structure_indices)\u001b[0m\n\u001b[1;32m     67\u001b[0m \u001b[38;5;129m@digest\u001b[39m(form\u001b[38;5;241m=\u001b[39mform)\n\u001b[1;32m     68\u001b[0m \u001b[38;5;28;01mdef\u001b[39;00m \u001b[38;5;21mget_coordinates_from_atom\u001b[39m(item, indices\u001b[38;5;241m=\u001b[39m\u001b[38;5;124m'\u001b[39m\u001b[38;5;124mall\u001b[39m\u001b[38;5;124m'\u001b[39m, structure_indices\u001b[38;5;241m=\u001b[39m\u001b[38;5;124m'\u001b[39m\u001b[38;5;124mall\u001b[39m\u001b[38;5;124m'\u001b[39m):\n\u001b[0;32m---> 70\u001b[0m     coordinates\u001b[38;5;241m=\u001b[39m puw\u001b[38;5;241m.\u001b[39mquantity(\u001b[43mitem\u001b[49m\u001b[38;5;241;43m.\u001b[39;49m\u001b[43mtrajectory\u001b[49m\u001b[43m \u001b[49m\u001b[38;5;241;43m*\u001b[39;49m\u001b[43m \u001b[49m\u001b[38;5;241;43m0.1\u001b[39;49m, unit\u001b[38;5;241m=\u001b[39m\u001b[38;5;124m'\u001b[39m\u001b[38;5;124mnm\u001b[39m\u001b[38;5;124m'\u001b[39m)\n\u001b[1;32m     72\u001b[0m     \u001b[38;5;28;01mif\u001b[39;00m \u001b[38;5;129;01mnot\u001b[39;00m is_all(indices):\n\u001b[1;32m     73\u001b[0m         coordinates \u001b[38;5;241m=\u001b[39m coordinates[:, atom_indices, :]\n",
      "\u001b[0;31mTypeError\u001b[0m: unsupported operand type(s) for *: 'CRDReader' and 'float'"
     ]
    }
   ],
   "source": [
    "molsys = msm.convert('./popc_1.crd', to_form='molsysmt.Structures')"
   ]
  },
  {
   "cell_type": "code",
   "execution_count": 5,
   "id": "bb180ede-a28b-4dc9-b233-30e81db6b3ac",
   "metadata": {},
   "outputs": [
    {
     "data": {
      "text/html": [
       "<style type=\"text/css\">\n",
       "</style>\n",
       "<table id=\"T_46e62\">\n",
       "  <thead>\n",
       "    <tr>\n",
       "      <th id=\"T_46e62_level0_col0\" class=\"col_heading level0 col0\" >form</th>\n",
       "      <th id=\"T_46e62_level0_col1\" class=\"col_heading level0 col1\" >n_atoms</th>\n",
       "      <th id=\"T_46e62_level0_col2\" class=\"col_heading level0 col2\" >n_groups</th>\n",
       "      <th id=\"T_46e62_level0_col3\" class=\"col_heading level0 col3\" >n_components</th>\n",
       "      <th id=\"T_46e62_level0_col4\" class=\"col_heading level0 col4\" >n_chains</th>\n",
       "      <th id=\"T_46e62_level0_col5\" class=\"col_heading level0 col5\" >n_molecules</th>\n",
       "      <th id=\"T_46e62_level0_col6\" class=\"col_heading level0 col6\" >n_entities</th>\n",
       "      <th id=\"T_46e62_level0_col7\" class=\"col_heading level0 col7\" >n_structures</th>\n",
       "    </tr>\n",
       "  </thead>\n",
       "  <tbody>\n",
       "    <tr>\n",
       "      <td id=\"T_46e62_row0_col0\" class=\"data row0 col0\" >molsysmt.Topology</td>\n",
       "      <td id=\"T_46e62_row0_col1\" class=\"data row0 col1\" >134</td>\n",
       "      <td id=\"T_46e62_row0_col2\" class=\"data row0 col2\" >1</td>\n",
       "      <td id=\"T_46e62_row0_col3\" class=\"data row0 col3\" >0</td>\n",
       "      <td id=\"T_46e62_row0_col4\" class=\"data row0 col4\" >1</td>\n",
       "      <td id=\"T_46e62_row0_col5\" class=\"data row0 col5\" >0</td>\n",
       "      <td id=\"T_46e62_row0_col6\" class=\"data row0 col6\" >0</td>\n",
       "      <td id=\"T_46e62_row0_col7\" class=\"data row0 col7\" >None</td>\n",
       "    </tr>\n",
       "  </tbody>\n",
       "</table>\n"
      ],
      "text/plain": [
       "<pandas.io.formats.style.Styler at 0x7f078adfb040>"
      ]
     },
     "execution_count": 5,
     "metadata": {},
     "output_type": "execute_result"
    }
   ],
   "source": [
    "msm.info(molsys)"
   ]
  }
 ],
 "metadata": {
  "kernelspec": {
   "display_name": "Python 3 (ipykernel)",
   "language": "python",
   "name": "python3"
  },
  "language_info": {
   "codemirror_mode": {
    "name": "ipython",
    "version": 3
   },
   "file_extension": ".py",
   "mimetype": "text/x-python",
   "name": "python",
   "nbconvert_exporter": "python",
   "pygments_lexer": "ipython3",
   "version": "3.9.15"
  }
 },
 "nbformat": 4,
 "nbformat_minor": 5
}
