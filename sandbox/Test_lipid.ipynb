{
 "cells": [
  {
   "cell_type": "markdown",
   "id": "2c8c5f0e-d6b7-4790-9423-be6e62f66d96",
   "metadata": {},
   "source": [
    "# Test lipid"
   ]
  },
  {
   "cell_type": "code",
   "execution_count": 1,
   "id": "a0bcd34b-8c83-441c-ba6a-3e4a22b8016b",
   "metadata": {},
   "outputs": [],
   "source": [
    "import mdtraj as mdtraj"
   ]
  },
  {
   "cell_type": "code",
   "execution_count": null,
   "id": "c13c70d9-4e38-4f2e-adf1-aa635fc19121",
   "metadata": {},
   "outputs": [],
   "source": [
    "import MDAnalysis"
   ]
  },
  {
   "cell_type": "code",
   "execution_count": 4,
   "id": "d2b77498-9cc5-47da-93f8-d98e6551fec6",
   "metadata": {},
   "outputs": [
    {
     "ename": "ValueError",
     "evalue": "\"top\" argument is required for load_mdcrd",
     "output_type": "error",
     "traceback": [
      "\u001b[0;31m---------------------------------------------------------------------------\u001b[0m",
      "\u001b[0;31mValueError\u001b[0m                                Traceback (most recent call last)",
      "Cell \u001b[0;32mIn[4], line 1\u001b[0m\n\u001b[0;32m----> 1\u001b[0m \u001b[43mmdtraj\u001b[49m\u001b[38;5;241;43m.\u001b[39;49m\u001b[43mload_mdcrd\u001b[49m\u001b[43m(\u001b[49m\u001b[43mmolsys\u001b[49m\u001b[43m)\u001b[49m\n",
      "File \u001b[0;32m~/Myopt/miniconda3/envs/MolSysMT@dprada_3.9/lib/python3.9/site-packages/mdtraj/formats/mdcrd.py:86\u001b[0m, in \u001b[0;36mload_mdcrd\u001b[0;34m(filename, top, stride, atom_indices, frame)\u001b[0m\n\u001b[1;32m     81\u001b[0m \u001b[38;5;66;03m# we make it not required in the signature, but required here. although this\u001b[39;00m\n\u001b[1;32m     82\u001b[0m \u001b[38;5;66;03m# is a little wierd, its good because this function is usually called by a\u001b[39;00m\n\u001b[1;32m     83\u001b[0m \u001b[38;5;66;03m# dispatch from load(), where top comes from **kwargs. So if its not supplied\u001b[39;00m\n\u001b[1;32m     84\u001b[0m \u001b[38;5;66;03m# we want to give the user an informative error message\u001b[39;00m\n\u001b[1;32m     85\u001b[0m \u001b[38;5;28;01mif\u001b[39;00m top \u001b[38;5;129;01mis\u001b[39;00m \u001b[38;5;28;01mNone\u001b[39;00m:\n\u001b[0;32m---> 86\u001b[0m     \u001b[38;5;28;01mraise\u001b[39;00m \u001b[38;5;167;01mValueError\u001b[39;00m(\u001b[38;5;124m'\u001b[39m\u001b[38;5;124m\"\u001b[39m\u001b[38;5;124mtop\u001b[39m\u001b[38;5;124m\"\u001b[39m\u001b[38;5;124m argument is required for load_mdcrd\u001b[39m\u001b[38;5;124m'\u001b[39m)\n\u001b[1;32m     88\u001b[0m \u001b[38;5;28;01mif\u001b[39;00m \u001b[38;5;129;01mnot\u001b[39;00m \u001b[38;5;28misinstance\u001b[39m(filename, (string_types, os\u001b[38;5;241m.\u001b[39mPathLike)):\n\u001b[1;32m     89\u001b[0m     \u001b[38;5;28;01mraise\u001b[39;00m \u001b[38;5;167;01mTypeError\u001b[39;00m(\u001b[38;5;124m'\u001b[39m\u001b[38;5;124mfilename must be of type path-like for load_mdcrd. \u001b[39m\u001b[38;5;124m'\u001b[39m\n\u001b[1;32m     90\u001b[0m         \u001b[38;5;124m'\u001b[39m\u001b[38;5;124myou supplied \u001b[39m\u001b[38;5;132;01m%s\u001b[39;00m\u001b[38;5;124m'\u001b[39m \u001b[38;5;241m%\u001b[39m \u001b[38;5;28mtype\u001b[39m(filename))\n",
      "\u001b[0;31mValueError\u001b[0m: \"top\" argument is required for load_mdcrd"
     ]
    }
   ],
   "source": [
    "mdtraj.(molsys)"
   ]
  },
  {
   "cell_type": "code",
   "execution_count": null,
   "id": "22e791c1-4edc-478e-8992-7d82ec14a1e8",
   "metadata": {},
   "outputs": [],
   "source": [
    "import molsysmt as msm"
   ]
  },
  {
   "cell_type": "code",
   "execution_count": 2,
   "id": "611eff7a-33fa-4e34-9230-ac726b16920f",
   "metadata": {},
   "outputs": [],
   "source": [
    "molsys = './popc_1.crd'"
   ]
  },
  {
   "cell_type": "code",
   "execution_count": null,
   "id": "932c8cad-0e94-4d91-8752-af097891e079",
   "metadata": {},
   "outputs": [],
   "source": [
    "msm.get_form(molsys)"
   ]
  },
  {
   "cell_type": "code",
   "execution_count": null,
   "id": "6928309d-bd38-4e0b-beb9-e42257614949",
   "metadata": {},
   "outputs": [],
   "source": [
    "molsys = msm.convert(molsys)"
   ]
  },
  {
   "cell_type": "code",
   "execution_count": null,
   "id": "b1206f23-63fa-4187-aa21-6cbe5a5e8e0f",
   "metadata": {},
   "outputs": [],
   "source": []
  }
 ],
 "metadata": {
  "kernelspec": {
   "display_name": "Python 3 (ipykernel)",
   "language": "python",
   "name": "python3"
  },
  "language_info": {
   "codemirror_mode": {
    "name": "ipython",
    "version": 3
   },
   "file_extension": ".py",
   "mimetype": "text/x-python",
   "name": "python",
   "nbconvert_exporter": "python",
   "pygments_lexer": "ipython3",
   "version": "3.9.15"
  }
 },
 "nbformat": 4,
 "nbformat_minor": 5
}
