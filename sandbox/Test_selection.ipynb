{
 "cells": [
  {
   "cell_type": "markdown",
   "id": "29dc51d0-c621-49d8-bab5-680268ccf406",
   "metadata": {},
   "source": [
    "# Test selection"
   ]
  },
  {
   "cell_type": "code",
   "execution_count": 1,
   "id": "51d4826d-2464-42d9-9e91-7d8e35770fe1",
   "metadata": {},
   "outputs": [
    {
     "data": {
      "application/vnd.jupyter.widget-view+json": {
       "model_id": "4ab3abbbdc7d4da6ba7cd08acb6b7e65",
       "version_major": 2,
       "version_minor": 0
      },
      "text/plain": []
     },
     "metadata": {},
     "output_type": "display_data"
    }
   ],
   "source": [
    "import molsysmt as msm"
   ]
  },
  {
   "cell_type": "code",
   "execution_count": 2,
   "id": "f17c0f29-d674-4774-97ee-d08c9e99c6ab",
   "metadata": {},
   "outputs": [],
   "source": [
    "molecular_system = msm.convert('1TCD', to_form='molsysmt.MolSys')"
   ]
  },
  {
   "cell_type": "code",
   "execution_count": 3,
   "id": "bd1a3fc6-413e-4dac-b7cc-c07d801e3e3e",
   "metadata": {},
   "outputs": [],
   "source": [
    "aa = msm.select(molecular_system, 'all in groups of molecule_index==0 and group_name==\"CYS\"')"
   ]
  },
  {
   "cell_type": "code",
   "execution_count": 4,
   "id": "61009fb8-53d2-4021-b810-b09063261886",
   "metadata": {},
   "outputs": [
    {
     "data": {
      "text/plain": [
       "array([[86, 87, 88, 89, 90, 91],\n",
       "       [273, 274, 275, 276, 277, 278],\n",
       "       [880, 881, 882, 883, 884, 885],\n",
       "       [943, 944, 945, 946, 947, 948]], dtype=object)"
      ]
     },
     "execution_count": 4,
     "metadata": {},
     "output_type": "execute_result"
    }
   ],
   "source": [
    "aa"
   ]
  },
  {
   "cell_type": "code",
   "execution_count": 10,
   "id": "23947404-78fa-4fe1-8887-555e47ed6c6f",
   "metadata": {},
   "outputs": [
    {
     "data": {
      "text/plain": [
       "array([[1998, 1999, 2000, 2001, 2002, 2003],\n",
       "       [2185, 2186, 2187, 2188, 2189, 2190],\n",
       "       [2792, 2793, 2794, 2795, 2796, 2797],\n",
       "       [2855, 2856, 2857, 2858, 2859, 2860]], dtype=object)"
      ]
     },
     "execution_count": 10,
     "metadata": {},
     "output_type": "execute_result"
    }
   ],
   "source": [
    "msm.select(molecular_system, 'all in groups of component_index==1 and group_name==\"CYS\"')"
   ]
  },
  {
   "cell_type": "code",
   "execution_count": 11,
   "id": "fa7edc4c-90ba-4f72-8a95-7685720c0078",
   "metadata": {},
   "outputs": [
    {
     "data": {
      "text/plain": [
       "['all in groups of component_index==0 and group_name==\"CYS\"',\n",
       " 'all in groups of component_index==1 and group_name==\"CYS\"']"
      ]
     },
     "execution_count": 11,
     "metadata": {},
     "output_type": "execute_result"
    }
   ],
   "source": [
    "msm.select(molecular_system, ['all in groups of component_index==0 and group_name==\"CYS\"',\n",
    "                              'all in groups of component_index==1 and group_name==\"CYS\"'])"
   ]
  },
  {
   "cell_type": "code",
   "execution_count": null,
   "id": "9ea72899-f317-47ea-8c53-8df687cb2a3d",
   "metadata": {},
   "outputs": [],
   "source": [
    "msm.select(molecular_system, 'all in groups of component_index==0', 'all in groups of component_index==1'])"
   ]
  },
  {
   "cell_type": "code",
   "execution_count": null,
   "id": "c06dc3b5-cdde-4710-aea2-d20b1c6231ff",
   "metadata": {},
   "outputs": [],
   "source": [
    "msm.select(molecular_system, ['all in groups of component_index==0', 'all in groups of component_index==1'])"
   ]
  },
  {
   "cell_type": "code",
   "execution_count": null,
   "id": "9009a221-451e-4ae1-8b68-6964293bb598",
   "metadata": {},
   "outputs": [],
   "source": [
    "msm.select(molecular_system, 'all in groups of component_index==[0,1]')"
   ]
  },
  {
   "cell_type": "code",
   "execution_count": null,
   "id": "e89b8e4a-6d6a-4bf4-8720-5d9582fdb91d",
   "metadata": {},
   "outputs": [],
   "source": [
    "msm.select('all in groups of component_index==[0,1]')"
   ]
  },
  {
   "cell_type": "code",
   "execution_count": null,
   "id": "406381a8-8674-4f89-83e2-2d088b786ccf",
   "metadata": {},
   "outputs": [],
   "source": [
    "type([3])"
   ]
  },
  {
   "cell_type": "code",
   "execution_count": null,
   "id": "93cf8b75-3fdf-4894-bd0b-2ff33d92a8b1",
   "metadata": {},
   "outputs": [],
   "source": [
    "[3]"
   ]
  },
  {
   "cell_type": "code",
   "execution_count": null,
   "id": "c4afc55d-1ced-4e53-a3fa-a23d917046da",
   "metadata": {},
   "outputs": [],
   "source": []
  }
 ],
 "metadata": {
  "kernelspec": {
   "display_name": "Python 3 (ipykernel)",
   "language": "python",
   "name": "python3"
  },
  "language_info": {
   "codemirror_mode": {
    "name": "ipython",
    "version": 3
   },
   "file_extension": ".py",
   "mimetype": "text/x-python",
   "name": "python",
   "nbconvert_exporter": "python",
   "pygments_lexer": "ipython3",
   "version": "3.10.12"
  }
 },
 "nbformat": 4,
 "nbformat_minor": 5
}
