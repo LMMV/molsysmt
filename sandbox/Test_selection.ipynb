{
 "cells": [
  {
   "cell_type": "markdown",
   "id": "29dc51d0-c621-49d8-bab5-680268ccf406",
   "metadata": {},
   "source": [
    "# Test selection"
   ]
  },
  {
   "cell_type": "code",
   "execution_count": 1,
   "id": "51d4826d-2464-42d9-9e91-7d8e35770fe1",
   "metadata": {},
   "outputs": [
    {
     "data": {
      "application/vnd.jupyter.widget-view+json": {
       "model_id": "3907b2069b234a19a72de9459deebc7d",
       "version_major": 2,
       "version_minor": 0
      },
      "text/plain": []
     },
     "metadata": {},
     "output_type": "display_data"
    }
   ],
   "source": [
    "import molsysmt as msm"
   ]
  },
  {
   "cell_type": "code",
   "execution_count": 2,
   "id": "f17c0f29-d674-4774-97ee-d08c9e99c6ab",
   "metadata": {},
   "outputs": [],
   "source": [
    "molecular_system = msm.convert('1TCD', to_form='molsysmt.MolSys')"
   ]
  },
  {
   "cell_type": "code",
   "execution_count": 3,
   "id": "a569ec27-d996-4012-90f8-9e10c4df209d",
   "metadata": {},
   "outputs": [
    {
     "data": {
      "text/plain": [
       "array([10, 13, 17, 20, 26, 29])"
      ]
     },
     "execution_count": 3,
     "metadata": {},
     "output_type": "execute_result"
    }
   ],
   "source": [
    "msm.select(molecular_system, selection='(name =~ \"C[A-B]\") and (resid 1 to 3)', syntax='MDTraj')"
   ]
  },
  {
   "cell_type": "code",
   "execution_count": 4,
   "id": "3b1bf7c0-e1f3-40cf-bf07-c3380cb91d9e",
   "metadata": {},
   "outputs": [
    {
     "data": {
      "text/plain": [
       "'@25,26,27,28,29,30,31,32,33,34,35,36,37,38,39,40,41,42,43,44'"
      ]
     },
     "execution_count": 4,
     "metadata": {},
     "output_type": "execute_result"
    }
   ],
   "source": [
    "msm.select(molecular_system, selection='group_index==[3,4,5]', to_syntax='NGLView')"
   ]
  },
  {
   "cell_type": "code",
   "execution_count": 5,
   "id": "7f9bd39a-582e-47b0-ac2e-d1ba13cfb742",
   "metadata": {},
   "outputs": [
    {
     "data": {
      "text/plain": [
       "'index 25 26 27 28 29 30 31 32 33 34 35 36 37 38 39 40 41 42 43 44'"
      ]
     },
     "execution_count": 5,
     "metadata": {},
     "output_type": "execute_result"
    }
   ],
   "source": [
    "msm.select(molecular_system, selection='group_index==[3,4,5]', to_syntax='MDTraj')"
   ]
  },
  {
   "cell_type": "code",
   "execution_count": 6,
   "id": "50db203d-277f-42fe-835b-ca44eeaf2f89",
   "metadata": {},
   "outputs": [
    {
     "data": {
      "text/plain": [
       "'7:A 8:A 9:A'"
      ]
     },
     "execution_count": 6,
     "metadata": {},
     "output_type": "execute_result"
    }
   ],
   "source": [
    "msm.select(molecular_system, element='group', selection='group_index==[3,4,5]', to_syntax='NGLView')"
   ]
  },
  {
   "cell_type": "code",
   "execution_count": 7,
   "id": "a960e2a1-b0ac-4a25-8ff9-87ed89860622",
   "metadata": {},
   "outputs": [
    {
     "data": {
      "text/plain": [
       "'resid 3 4 5'"
      ]
     },
     "execution_count": 7,
     "metadata": {},
     "output_type": "execute_result"
    }
   ],
   "source": [
    "msm.select(molecular_system, element='group', selection='group_index==[3,4,5]', to_syntax='MDTraj')"
   ]
  },
  {
   "cell_type": "code",
   "execution_count": null,
   "id": "4ab77b35-30b6-4574-8e99-cbb92a69fccf",
   "metadata": {},
   "outputs": [],
   "source": []
  }
 ],
 "metadata": {
  "kernelspec": {
   "display_name": "Python 3 (ipykernel)",
   "language": "python",
   "name": "python3"
  },
  "language_info": {
   "codemirror_mode": {
    "name": "ipython",
    "version": 3
   },
   "file_extension": ".py",
   "mimetype": "text/x-python",
   "name": "python",
   "nbconvert_exporter": "python",
   "pygments_lexer": "ipython3",
   "version": "3.10.12"
  }
 },
 "nbformat": 4,
 "nbformat_minor": 5
}
