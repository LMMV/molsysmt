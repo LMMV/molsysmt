{
 "cells": [
  {
   "cell_type": "markdown",
   "id": "85d75849-5640-43b7-8b93-87cdbf6b8792",
   "metadata": {},
   "source": [
<<<<<<< HEAD
    "# Test"
   ]
  },
  {
   "cell_type": "code",
   "execution_count": null,
   "id": "08aee8bc-0efe-44a5-9aa6-24131ae8137e",
   "metadata": {},
   "outputs": [],
   "source": [
    "import molsysmt as msm"
   ]
  },
  {
   "cell_type": "code",
   "execution_count": null,
   "id": "2b932271-fce9-4e09-86b6-7198bb322224",
   "metadata": {},
   "outputs": [],
   "source": [
    "msm.get_form('traj.msmh5')"
   ]
  },
  {
   "cell_type": "code",
   "execution_count": null,
   "id": "af89aba5-62c5-4718-a355-2b8b591c1097",
   "metadata": {},
   "outputs": [],
   "source": [
    "aa = msm.convert('traj.msmh5', 'molsysmt.MSMH5FileHandler')"
   ]
  },
  {
   "cell_type": "code",
   "execution_count": null,
   "id": "677e2b3f-a1db-48c8-b56e-e13fca4efe7f",
   "metadata": {},
   "outputs": [],
   "source": [
    "output = aa.file['topology']['atoms']['name'][:].astype('int64')"
   ]
  },
  {
   "cell_type": "code",
   "execution_count": null,
   "id": "02853906-0d4d-485c-9f51-fd65f00b8d98",
   "metadata": {},
   "outputs": [],
   "source": [
    "output"
   ]
  },
  {
   "cell_type": "code",
   "execution_count": null,
   "id": "93a36f08-4177-48d6-b4cc-ac5d71e98a0a",
   "metadata": {},
   "outputs": [],
   "source": [
    "msm.get('traj.msmh5', element='system', n_structures=True)"
=======
    "# Test 4POC"
>>>>>>> 64e8c805958be78cd51fab8641486d745007536a
   ]
  },
  {
   "cell_type": "code",
   "execution_count": 1,
<<<<<<< HEAD
   "id": "29eaa993-ce18-425e-b692-1a62dc1ccc6b",
   "metadata": {},
   "outputs": [
    {
     "ename": "NameError",
     "evalue": "name 'msm' is not defined",
     "output_type": "error",
     "traceback": [
      "\u001b[0;31m---------------------------------------------------------------------------\u001b[0m",
      "\u001b[0;31mNameError\u001b[0m                                 Traceback (most recent call last)",
      "Cell \u001b[0;32mIn[1], line 1\u001b[0m\n\u001b[0;32m----> 1\u001b[0m molsys \u001b[38;5;241m=\u001b[39m \u001b[43mmsm\u001b[49m\u001b[38;5;241m.\u001b[39mconvert(\u001b[38;5;124m'\u001b[39m\u001b[38;5;124m4POC\u001b[39m\u001b[38;5;124m'\u001b[39m)\n\u001b[1;32m      2\u001b[0m molsys \u001b[38;5;241m=\u001b[39m msm\u001b[38;5;241m.\u001b[39mextract(molsys, selection\u001b[38;5;241m=\u001b[39m\u001b[38;5;124m'\u001b[39m\u001b[38;5;124mmolecule_type==\u001b[39m\u001b[38;5;124m\"\u001b[39m\u001b[38;5;124mprotein\u001b[39m\u001b[38;5;124m\"\u001b[39m\u001b[38;5;124m'\u001b[39m)\n\u001b[1;32m      3\u001b[0m molsys \u001b[38;5;241m=\u001b[39m msm\u001b[38;5;241m.\u001b[39mbuild\u001b[38;5;241m.\u001b[39madd_missing_hydrogens(molsys)\n",
      "\u001b[0;31mNameError\u001b[0m: name 'msm' is not defined"
     ]
    }
   ],
   "source": [
=======
   "id": "25e3878c-31e9-43e8-ae45-e364ca740f88",
   "metadata": {},
   "outputs": [
    {
     "data": {
      "application/vnd.jupyter.widget-view+json": {
       "model_id": "d9d1765ce601439e858a47bc37abe899",
       "version_major": 2,
       "version_minor": 0
      },
      "text/plain": []
     },
     "metadata": {},
     "output_type": "display_data"
    }
   ],
   "source": [
    "import molsysmt as msm\n",
    "import openmm as mm\n",
    "from openmm import app\n",
    "from openmm import unit"
   ]
  },
  {
   "cell_type": "code",
   "execution_count": 2,
   "id": "997b0e01-6616-49b2-aee6-d59a6f0d3841",
   "metadata": {},
   "outputs": [],
   "source": [
>>>>>>> 64e8c805958be78cd51fab8641486d745007536a
    "molsys = msm.convert('4POC')\n",
    "molsys = msm.extract(molsys, selection='molecule_type==\"protein\"')\n",
    "molsys = msm.build.add_missing_hydrogens(molsys)\n",
    "molsys = msm.build.solvate(molsys)\n",
<<<<<<< HEAD
    "forcefield = app.ForceField('amber14-all.xml', 'amber14/tip3p.xml')\n",
    "topology = msm.convert(molsys, 'openmm.Topology')\n",
    "system = forcefield.createSystem(topology, nonbondedMethod=app.PME,\n",
    "        nonbondedCutoff=1.2*unit.nanometer, constraints=app.HBonds)\n",
    "integrator = mm.LangevinIntegrator(300*unit.kelvin, 1.0/unit.picosecond, 2.0*unit.femtoseconds)\n",
    "platform = mm.Platform.getPlatformByName(\"CPU\")\n",
    "simulation = app.Simulation(topology, system, integrator, platform)\n",
    "coordinates = msm.get(molsys, coordinates=True)\n",
    "positions = msm.pyunitwizard.convert(coordinates[0], to_form='openmm.unit')\n",
    "simulation.context.setPositions(positions)\n",
    "simulation.minimizeEnergy()\n",
    "from molsysmt.thirds.openmm.reporters import MolSysMTTrajectoryDictReporter\n",
    "from molsysmt.thirds.openmm.reporters import MSMH5Reporter\n",
    "dict_reporter = MolSysMTTrajectoryDictReporter(10)\n",
    "simulation.reporters.append(dict_reporter)\n",
    "msmh5_reporter = MSMH5Reporter('test.msmh5', 10, selection='all', steps=100,\n",
    "            topology=True, time=True, box=True, coordinates=True, velocities=False,\n",
    "            potentialEnergy=True, kineticEnergy=True, temperature=True,\n",
    "            includeInitialContext=True, constantReportInterval=True,\n",
    "            constantStepSize=True, constantBox=True,\n",
    "            compression='gzip', compression_opts=4,\n",
    "            int_precision='single', float_precision='single',\n",
    "            syntax='MolSysMT')\n",
    "simulation.reporters.append(msmh5_reporter)\n",
    "simulation.step(100)\n",
    "traj = dict_reporter.finalize()\n",
    "msmh5_reporter.close()"
=======
    "\n",
    "#molsys = msm.convert('initial.msmpk')"
   ]
  },
  {
   "cell_type": "code",
   "execution_count": 3,
   "id": "705fd193-4c0b-4769-a383-ed2cea4ed41e",
   "metadata": {},
   "outputs": [],
   "source": [
    "topology = msm.convert(molsys, 'openmm.Topology')\n",
    "coordinates = msm.get(molsys, coordinates=True)\n",
    "positions = msm.pyunitwizard.convert(coordinates[0], to_form='openmm.unit')"
   ]
  },
  {
   "cell_type": "code",
   "execution_count": 4,
   "id": "b457584e-7193-4fdc-a3fa-4ecef0e55cbc",
   "metadata": {},
   "outputs": [],
   "source": [
    "forcefield = app.ForceField('amber14-all.xml', 'amber14/tip3p.xml')"
   ]
  },
  {
   "cell_type": "code",
   "execution_count": 5,
   "id": "26977dc3-9bf6-487f-abb4-ac81c91b7b86",
   "metadata": {},
   "outputs": [],
   "source": [
    "system = forcefield.createSystem(topology, nonbondedMethod=app.PME,\n",
    "        nonbondedCutoff=1.2*unit.nanometer, constraints=app.HBonds)"
   ]
  },
  {
   "cell_type": "code",
   "execution_count": 6,
   "id": "1f76c614-5a50-444a-a950-6678cab1a454",
   "metadata": {},
   "outputs": [],
   "source": [
    "integrator = mm.LangevinIntegrator(300*unit.kelvin, 1.0/unit.picosecond, 2.0*unit.femtoseconds)"
   ]
  },
  {
   "cell_type": "code",
   "execution_count": 7,
   "id": "ed4997da-1b00-4664-8d9f-cf7ab6f7ea71",
   "metadata": {},
   "outputs": [],
   "source": [
    "platform = mm.Platform.getPlatformByName(\"CPU\")"
   ]
  },
  {
   "cell_type": "code",
   "execution_count": 8,
   "id": "bc19a710-d9e2-4d2a-a6b3-1aa4e22b318e",
   "metadata": {},
   "outputs": [],
   "source": [
    "simulation = app.Simulation(topology, system, integrator, platform)"
   ]
  },
  {
   "cell_type": "code",
   "execution_count": 9,
   "id": "0d12f6fd-0bd2-44fe-b108-a0e39c26a2a0",
   "metadata": {},
   "outputs": [],
   "source": [
    "simulation.context.setPositions(positions)"
   ]
  },
  {
   "cell_type": "code",
   "execution_count": 10,
   "id": "f59ef843-5cb1-4660-b4b3-feef261d18c7",
   "metadata": {},
   "outputs": [],
   "source": [
    "simulation.minimizeEnergy()\n",
    "\n",
    "#msm.convert(simulation, 'initial.msmpk')"
   ]
  },
  {
   "cell_type": "code",
   "execution_count": 11,
   "id": "a8349276-0fb5-41c7-b641-70e44ff2b3ab",
   "metadata": {},
   "outputs": [],
   "source": [
    "simulation.context.setVelocitiesToTemperature(300*unit.kelvin)"
   ]
  },
  {
   "cell_type": "code",
   "execution_count": 12,
   "id": "0dae79a4-d36f-46f6-9100-dbc4b2da8581",
   "metadata": {},
   "outputs": [],
   "source": [
    "#simulation.minimizeEnergy()\n",
    "#msm.convert(simulation, 'initial.msmpk')"
   ]
  },
  {
   "cell_type": "code",
   "execution_count": 13,
   "id": "c07b33db-d346-4732-b65c-26cb5174ceed",
   "metadata": {},
   "outputs": [],
   "source": [
    "from molsysmt.thirds.openmm.reporters import MSMH5Reporter\n",
    "from molsysmt.thirds.openmm.reporters import TQDMReporter\n",
    "\n",
    "tqdm_reporter = TQDMReporter(10, 100)\n",
    "simulation.reporters.append(tqdm_reporter)\n",
    "\n",
    "msmh5_reporter = MSMH5Reporter('traj.msmh5', 10, steps=100, selection='all',\n",
    "            topology=topology, time=True, box=True, coordinates=True, velocities=False,\n",
    "            potentialEnergy=True, kineticEnergy=True, temperature=True,\n",
    "            includeInitialContext=True, constantReportInterval=True,\n",
    "            constantStepSize=True, constantBox=True, auto_close=True)\n",
    "simulation.reporters.append(msmh5_reporter)"
   ]
  },
  {
   "cell_type": "code",
   "execution_count": 14,
   "id": "7a3b7e7f-7c24-4ddd-a286-22492905e7c7",
   "metadata": {},
   "outputs": [
    {
     "data": {
      "application/vnd.jupyter.widget-view+json": {
       "model_id": "ca863afc3c4b4785b5f23223df34550c",
       "version_major": 2,
       "version_minor": 0
      },
      "text/plain": [
       "  0%|          | 0/100 [00:00<?, ?it/s]"
      ]
     },
     "metadata": {},
     "output_type": "display_data"
    },
    {
     "name": "stdout",
     "output_type": "stream",
     "text": [
      "\n",
      "Potential energy: -613764.35 kJ/mol ± 19998.57 kJ/mol\n",
      "Temperature: 173.03 K ± 40.63 K\n",
      "\n",
      "Execution time: 0 days, 0 hours, 0 minutes, and 14.22 seconds (1.215 ns/day).\n",
      "\n"
     ]
    }
   ],
   "source": [
    "simulation.step(100)"
>>>>>>> 64e8c805958be78cd51fab8641486d745007536a
   ]
  },
  {
   "cell_type": "code",
   "execution_count": null,
<<<<<<< HEAD
   "id": "85b83722-f246-42bc-ae6b-77b579318514",
=======
   "id": "7de00118-daec-4a61-a390-e60c8636c0f3",
>>>>>>> 64e8c805958be78cd51fab8641486d745007536a
   "metadata": {},
   "outputs": [],
   "source": []
  }
 ],
 "metadata": {
  "kernelspec": {
   "display_name": "Python 3 (ipykernel)",
   "language": "python",
   "name": "python3"
  },
  "language_info": {
   "codemirror_mode": {
    "name": "ipython",
    "version": 3
   },
   "file_extension": ".py",
   "mimetype": "text/x-python",
   "name": "python",
   "nbconvert_exporter": "python",
   "pygments_lexer": "ipython3",
<<<<<<< HEAD
   "version": "3.10.13"
=======
   "version": "3.10.12"
>>>>>>> 64e8c805958be78cd51fab8641486d745007536a
  }
 },
 "nbformat": 4,
 "nbformat_minor": 5
}
