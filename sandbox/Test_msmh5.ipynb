{
 "cells": [
  {
   "cell_type": "markdown",
   "id": "85d75849-5640-43b7-8b93-87cdbf6b8792",
   "metadata": {},
   "source": [
    "# Test msmh5"
   ]
  },
  {
   "cell_type": "code",
   "execution_count": 1,
   "id": "08aee8bc-0efe-44a5-9aa6-24131ae8137e",
   "metadata": {},
   "outputs": [
    {
     "data": {
      "application/vnd.jupyter.widget-view+json": {
       "model_id": "0b68264e46694f9d8c418753a0b43173",
       "version_major": 2,
       "version_minor": 0
      },
      "text/plain": []
     },
     "metadata": {},
     "output_type": "display_data"
    }
   ],
   "source": [
    "import molsysmt as msm"
   ]
  },
  {
   "cell_type": "code",
   "execution_count": 2,
   "id": "4e71b99c-e054-4926-8eb3-e583ef94bc81",
   "metadata": {},
   "outputs": [],
   "source": [
    "box = msm.get('traj.msmh5', box=True)"
   ]
  },
  {
   "cell_type": "code",
   "execution_count": 6,
   "id": "e8907741-45f4-40b5-8699-66f92930605b",
   "metadata": {},
   "outputs": [
    {
     "data": {
      "application/vnd.jupyter.widget-view+json": {
       "model_id": "7c5affce31f64eafbb814c9f2797e29d",
       "version_major": 2,
       "version_minor": 0
      },
      "text/plain": [
       "NGLWidget(max_frame=10)"
      ]
     },
     "metadata": {},
     "output_type": "display_data"
    }
   ],
   "source": [
    "msm.view('traj.msmh5', selection='molecule_type==\"protein\"', with_water_as='licorice')"
   ]
  },
  {
   "cell_type": "code",
   "execution_count": null,
   "id": "cd976e31-dda4-437f-ac29-d49ffabaa160",
   "metadata": {},
   "outputs": [],
   "source": []
  }
 ],
 "metadata": {
  "kernelspec": {
   "display_name": "Python 3 (ipykernel)",
   "language": "python",
   "name": "python3"
  },
  "language_info": {
   "codemirror_mode": {
    "name": "ipython",
    "version": 3
   },
   "file_extension": ".py",
   "mimetype": "text/x-python",
   "name": "python",
   "nbconvert_exporter": "python",
   "pygments_lexer": "ipython3",
   "version": "3.10.12"
  }
 },
 "nbformat": 4,
 "nbformat_minor": 5
}
