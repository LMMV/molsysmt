{
 "cells": [
  {
   "cell_type": "markdown",
   "id": "85d75849-5640-43b7-8b93-87cdbf6b8792",
   "metadata": {},
   "source": [
    "# Test msmh5"
   ]
  },
  {
   "cell_type": "code",
   "execution_count": null,
   "id": "08aee8bc-0efe-44a5-9aa6-24131ae8137e",
   "metadata": {},
   "outputs": [],
   "source": [
    "import molsysmt as msm"
   ]
  },
  {
   "cell_type": "code",
   "execution_count": null,
   "id": "51e3a818-49b3-4d04-b9f9-e2db881b6589",
   "metadata": {},
   "outputs": [],
   "source": [
    "molsys = 'traj.msmh5'"
   ]
  },
  {
   "cell_type": "code",
   "execution_count": null,
   "id": "c1173c2a-2db3-4da6-bdd5-aa98bb27b9b5",
   "metadata": {},
   "outputs": [],
   "source": [
    "aaa = msm.convert(molsys, 'molsysmt.MSMH5FileHandler')"
   ]
  },
  {
   "cell_type": "code",
   "execution_count": null,
   "id": "71780fa3-3998-489e-8592-3d866f128e7d",
   "metadata": {},
   "outputs": [],
   "source": [
    "np.ix_([0,1,2], [10,11,12,13,14], :)"
   ]
  },
  {
   "cell_type": "code",
   "execution_count": null,
   "id": "d09d28db-e6e1-4716-b366-9a2e8a063cb3",
   "metadata": {},
   "outputs": [],
   "source": [
    "aaa.file['structures']['coordinates'][[0,1,2], [10,11,12,13,14],:].astype('float')"
   ]
  },
  {
   "cell_type": "code",
   "execution_count": null,
   "id": "55d14b33-5be7-4570-87e9-391526bd2a84",
   "metadata": {},
   "outputs": [],
   "source": [
    "msm.get(molsys, element='atom', selection=[30000, 2100, 2200], entity_index=True)"
   ]
  },
  {
   "cell_type": "code",
   "execution_count": null,
   "id": "1ae40987-508b-4fb7-92e0-718d5c7a80da",
   "metadata": {},
   "outputs": [],
   "source": [
    "msm.info(molsys)"
   ]
  },
  {
   "cell_type": "code",
   "execution_count": null,
   "id": "3a458c82-e637-4f64-b3ff-2cadd0500128",
   "metadata": {},
   "outputs": [],
   "source": [
    "import numpy as np"
   ]
  },
  {
   "cell_type": "code",
   "execution_count": null,
   "id": "03845f67-12a2-4f4b-8243-e98bc4276892",
   "metadata": {},
   "outputs": [],
   "source": [
    "bb = np.array([0,0,0,0,1,1,1,1,2,3,3,3,3])"
   ]
  },
  {
   "cell_type": "code",
   "execution_count": null,
   "id": "7fee80cd-1770-4337-af1c-c124d4b13157",
   "metadata": {},
   "outputs": [],
   "source": [
    "aa = np.array([5,7,8,8,8,9], dtype='int')"
   ]
  },
  {
   "cell_type": "code",
   "execution_count": null,
   "id": "dca41989-3041-40ae-909a-770d9900d881",
   "metadata": {},
   "outputs": [],
   "source": [
    "bb[aa]"
   ]
  },
  {
   "cell_type": "code",
   "execution_count": null,
   "id": "6e8005b0-bb39-4ea8-839b-e162edc118a8",
   "metadata": {},
   "outputs": [],
   "source": [
    "np.ix_([0,1], [1,2])"
   ]
  },
  {
   "cell_type": "code",
   "execution_count": null,
   "id": "bd52833e-0e07-45a2-bcac-9428b5a21252",
   "metadata": {},
   "outputs": [],
   "source": []
  }
 ],
 "metadata": {
  "kernelspec": {
   "display_name": "Python 3 (ipykernel)",
   "language": "python",
   "name": "python3"
  },
  "language_info": {
   "codemirror_mode": {
    "name": "ipython",
    "version": 3
   },
   "file_extension": ".py",
   "mimetype": "text/x-python",
   "name": "python",
   "nbconvert_exporter": "python",
   "pygments_lexer": "ipython3",
   "version": "3.10.12"
  }
 },
 "nbformat": 4,
 "nbformat_minor": 5
}
