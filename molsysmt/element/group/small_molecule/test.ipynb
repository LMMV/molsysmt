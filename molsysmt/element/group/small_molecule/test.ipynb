{
 "cells": [
  {
   "cell_type": "code",
   "execution_count": 1,
   "id": "58285a65-9d61-4c31-95ab-ed366d64f020",
   "metadata": {},
   "outputs": [],
   "source": [
    "fff = open('components_bck.cif', 'r')"
   ]
  },
  {
   "cell_type": "code",
   "execution_count": 2,
   "id": "4133d2f3-2338-4636-90ae-8005c58b4c25",
   "metadata": {},
   "outputs": [],
   "source": [
    "def read_block(fff):\n",
    "\n",
    "    block=[]\n",
    "\n",
    "    line = fff.readline()\n",
    "    while line and not line.startswith('#'):\n",
    "        if len(line.rstrip()):\n",
    "            block.append(line.rstrip())\n",
    "        line = fff.readline()\n",
    "\n",
    "    return block"
   ]
  },
  {
   "cell_type": "code",
   "execution_count": 3,
   "id": "f88b2578-a543-4070-808b-e2dbb2ad5146",
   "metadata": {},
   "outputs": [],
   "source": [
    "def analysis_block(block):\n",
    "\n",
    "    block_type = None\n",
    "    block_dict = {}\n",
    "    \n",
    "    if block[0].startswith('data_'):\n",
    "\n",
    "        block_type = 'data'\n",
    "        block_dict = {'data': block[0][5:].rstrip()}\n",
    "    \n",
    "    elif block[0].startswith('loop_'):\n",
    "        \n",
    "        block_type = block[1].split('.')[0]\n",
    "\n",
    "        suffix=len(block_type)+1\n",
    "        \n",
    "        fields = []\n",
    "        values = []\n",
    "        \n",
    "        for ii in block[1:]:\n",
    "            if ii.startswith(block_type):\n",
    "                fields.append(ii[suffix:].split(' ')[0])\n",
    "            else:\n",
    "                values.append(ii.split())\n",
    "\n",
    "        for field in fields:\n",
    "            block_dict[field]=[]\n",
    "\n",
    "        for aux in values:\n",
    "            for field, value in zip(fields, aux):\n",
    "                block_dict[field].append(value)\n",
    "\n",
    "    else:\n",
    "\n",
    "        block_type = block[0].split('.')[0]\n",
    "\n",
    "        suffix=len(block_type)+1\n",
    "        \n",
    "        field = None\n",
    "        value = None\n",
    "        for ii in block:\n",
    "            if ii.startswith(block_type):\n",
    "                if field:\n",
    "                    block_dict[field]=value\n",
    "                field = ii[suffix:].split(' ')[0]\n",
    "                value = ii.replace(block_type+'.'+field, '').strip()\n",
    "            else:\n",
    "                value += ii.strip()\n",
    "    \n",
    "    return block_type, block_dict"
   ]
  },
  {
   "cell_type": "code",
   "execution_count": 4,
   "id": "35cc5ee1-a61f-4006-918f-f79e08e223ac",
   "metadata": {},
   "outputs": [],
   "source": [
    "molecules = {}\n",
    "molecule = {}\n",
    "\n",
    "block = read_block(fff)\n",
    "while len(block):\n",
    "    \n",
    "    entry = analysis_block(block)\n",
    "\n",
    "    if entry[0]=='data':\n",
    "\n",
    "        if len(molecule):\n",
    "            molecules[molecule['data']['data']]=molecule\n",
    "            molecule={}\n",
    "    \n",
    "    molecule[entry[0]]=entry[1]\n",
    "    block = read_block(fff)\n",
    "\n",
    "molecules[molecule['data']['data']]=molecule"
   ]
  },
  {
   "cell_type": "code",
   "execution_count": 8,
   "id": "c67a7177-49b1-4067-a6de-c55443fab7ba",
   "metadata": {},
   "outputs": [
    {
     "data": {
      "text/plain": [
       "'001'"
      ]
     },
     "execution_count": 8,
     "metadata": {},
     "output_type": "execute_result"
    }
   ],
   "source": [
    "molecules['001']['_chem_comp']['id']"
   ]
  },
  {
   "cell_type": "code",
   "execution_count": 9,
   "id": "9d32773d-9625-4bc5-bef1-63331aa7f9b9",
   "metadata": {},
   "outputs": [
    {
     "data": {
      "text/plain": [
       "';1-[2,2-DIFLUORO-2-(3,4,5-TRIMETHOXY-PHENYL)-ACETYL]-PIPERIDINE-2-CARBOXYLIC ACID4-PHENYL-1-(3-PYRIDIN-3-YL-PROPYL)-BUTYL ESTER;'"
      ]
     },
     "execution_count": 9,
     "metadata": {},
     "output_type": "execute_result"
    }
   ],
   "source": [
    "molecules['001']['_chem_comp']['name']"
   ]
  },
  {
   "cell_type": "code",
   "execution_count": 10,
   "id": "cd6383a9-f585-4faa-8a2d-20998772b30a",
   "metadata": {},
   "outputs": [
    {
     "data": {
      "text/plain": [
       "'001'"
      ]
     },
     "execution_count": 10,
     "metadata": {},
     "output_type": "execute_result"
    }
   ],
   "source": [
    "molecules['001']['_chem_comp']['three_letter_code']"
   ]
  },
  {
   "cell_type": "code",
   "execution_count": null,
   "id": "f2f87fe8-beaf-4167-a272-ae2259326c68",
   "metadata": {},
   "outputs": [],
   "source": []
  }
 ],
 "metadata": {
  "kernelspec": {
   "display_name": "Python 3 (ipykernel)",
   "language": "python",
   "name": "python3"
  },
  "language_info": {
   "codemirror_mode": {
    "name": "ipython",
    "version": 3
   },
   "file_extension": ".py",
   "mimetype": "text/x-python",
   "name": "python",
   "nbconvert_exporter": "python",
   "pygments_lexer": "ipython3",
   "version": "3.10.13"
  }
 },
 "nbformat": 4,
 "nbformat_minor": 5
}
