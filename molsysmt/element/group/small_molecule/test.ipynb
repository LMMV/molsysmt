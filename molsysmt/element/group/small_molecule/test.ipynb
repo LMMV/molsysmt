{
 "cells": [
  {
   "cell_type": "code",
   "execution_count": 1,
   "id": "f9af8565-c722-4ce8-89cc-cce05f1cee7d",
   "metadata": {},
   "outputs": [
    {
     "data": {
      "application/vnd.jupyter.widget-view+json": {
       "model_id": "633cbbd928184defa2b4142b75820cfa",
       "version_major": 2,
       "version_minor": 0
      },
      "text/plain": []
     },
     "metadata": {},
     "output_type": "display_data"
    }
   ],
   "source": [
    "from molsysmt.native import CIFFileHandler\n",
    "import pickle\n",
    "\n",
    "handler = CIFFileHandler('components.cif')"
   ]
  },
  {
   "cell_type": "code",
   "execution_count": 2,
   "id": "5ee24c2c-6b8a-46a4-81c9-5a2e39956900",
   "metadata": {},
   "outputs": [],
   "source": [
    "cif_entries = handler.parse()"
   ]
  },
  {
   "cell_type": "code",
   "execution_count": 4,
   "id": "cc567773-1f47-4660-a8c7-734b48d11234",
   "metadata": {},
   "outputs": [],
   "source": [
    "types_dict = {}\n",
    "\n",
    "for ii in cif_entries:\n",
    "    jj = cif_entries[ii]['_chem_comp']['type']\n",
    "    if jj in types_dict:\n",
    "        types_dict[jj].append(ii)\n",
    "    else:\n",
    "        types_dict[jj] = [ii]"
   ]
  },
  {
   "cell_type": "code",
   "execution_count": 48,
   "id": "c1a7c23c-8b13-4bcb-9d16-1cbb2020dd9b",
   "metadata": {},
   "outputs": [],
   "source": [
    "types = ['NON-POLYMER', 'non-polymer', 'other']\n",
    "data = []\n",
    "for ii in types:\n",
    "    data += types_dict[ii]\n",
    "\n",
    "data.remove('UNL')"
   ]
  },
  {
   "cell_type": "code",
   "execution_count": 49,
   "id": "49506ff1-219d-4fac-a6cb-997730d8edc6",
   "metadata": {},
   "outputs": [],
   "source": [
    "# quito iones\n",
    "ions = []\n",
    "for value in data:\n",
    "    key = cif_entries[value]\n",
    "    if key['_chem_comp']['name'].endswith(' ION\"') or key['_chem_comp']['name'].endswith(' ion\"'):\n",
    "        ions.append(value)\n",
    "\n",
    "for ion in ions:\n",
    "    data.remove(ion)"
   ]
  },
  {
   "cell_type": "code",
   "execution_count": 57,
   "id": "ae98bdb4-3034-43f3-b89a-bf41e9f54668",
   "metadata": {},
   "outputs": [],
   "source": [
    "output = {}\n",
    "\n",
    "for value in data:\n",
    "    \n",
    "    key = cif_entries[value]\n",
    "\n",
    "    aux_dict={}\n",
    "\n",
    "    aux_dict['name']=key['_chem_comp']['name']\n",
    "    aux_dict['three_letter_code']=key['_chem_comp']['three_letter_code']\n",
    "    aux_dict['formal_charge']=key['_chem_comp']['three_letter_code']\n",
    "    aux_dict['atom_name']=float(key['_chem_comp']['pdbx_formal_charge'])\n",
    "    aux_dict['alt_atom_name']=key['_chem_comp_atom']['alt_atom_id']\n",
    "    aux_dict['atom_type']=key['_chem_comp_atom']['type_symbol']\n",
    "    try:\n",
    "        charge = []\n",
    "        for ii in key['_chem_comp_atom']['charge']:\n",
    "            charge.append(float(ii))\n",
    "        aux_dict['charge']=charge\n",
    "    except:\n",
    "        aux_dict['charge']=[]\n",
    "    if '_chem_comp_bond' in key:\n",
    "        aux_dict['bonds']=[[ii,jj] for ii,jj in zip(key['_chem_comp_bond']['atom_id_1'],\n",
    "                                                    key['_chem_comp_bond']['atom_id_2'])]\n",
    "    else:\n",
    "        aux_dict['bonds']=[]\n",
    "\n",
    "    output[value]=aux_dict"
   ]
  },
  {
   "cell_type": "code",
   "execution_count": null,
   "id": "ed0ed286-60b6-4f34-b129-7b617f7f83ff",
   "metadata": {},
   "outputs": [],
   "source": []
  }
 ],
 "metadata": {
  "kernelspec": {
   "display_name": "Python 3 (ipykernel)",
   "language": "python",
   "name": "python3"
  },
  "language_info": {
   "codemirror_mode": {
    "name": "ipython",
    "version": 3
   },
   "file_extension": ".py",
   "mimetype": "text/x-python",
   "name": "python",
   "nbconvert_exporter": "python",
   "pygments_lexer": "ipython3",
   "version": "3.10.13"
  }
 },
 "nbformat": 4,
 "nbformat_minor": 5
}
