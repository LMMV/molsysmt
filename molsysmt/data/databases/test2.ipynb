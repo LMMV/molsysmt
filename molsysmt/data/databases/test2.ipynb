{
 "cells": [
  {
   "cell_type": "code",
   "execution_count": 1,
   "id": "b2524740-6fbe-42cd-9f11-5fe2f353d353",
   "metadata": {},
   "outputs": [],
   "source": [
    "path = '/usr/local/gromacs/share/gromacs/top/residues.xml'"
   ]
  },
  {
   "cell_type": "code",
   "execution_count": 2,
   "id": "1d5fac7f-2981-4de3-bbe9-df93425a6ecf",
   "metadata": {},
   "outputs": [],
   "source": [
    "aux_dict={}\n",
    "\n",
    "with open(path, 'r') as fff:\n",
    "\n",
    "    for line in fff.readlines():\n",
    "\n",
    "        if '<residue restype' in line:\n",
    "            resname = line.split('\"')[1]\n",
    "            aux_dict[resname]={'atoms':[], 'bonds':[]}\n",
    "        elif '<ratom name' in line:\n",
    "            iii = line.split('\"')\n",
    "            aux_dict[resname]['atoms'].append(iii[1])\n",
    "        elif '<rbond a1' in line:\n",
    "            iii =  line.split('\"')\n",
    "            aux_dict[resname]['bonds'].append([iii[1], iii[3]])"
   ]
  },
  {
   "cell_type": "code",
   "execution_count": 6,
   "id": "0e8ff09c-f013-4c4a-ba31-07c5ac7ef1c7",
   "metadata": {},
   "outputs": [
    {
     "data": {
      "text/plain": [
       "['N', 'H', 'CA', 'HA', 'CB', 'HB1', 'HB2', 'HB3', 'C', 'O']"
      ]
     },
     "execution_count": 6,
     "metadata": {},
     "output_type": "execute_result"
    }
   ],
   "source": [
    "aux_dict['ALA']['atoms']"
   ]
  },
  {
   "cell_type": "code",
   "execution_count": null,
   "id": "927a4970-1210-4edc-8844-49312a9da632",
   "metadata": {},
   "outputs": [],
   "source": []
  }
 ],
 "metadata": {
  "kernelspec": {
   "display_name": "Python 3 (ipykernel)",
   "language": "python",
   "name": "python3"
  },
  "language_info": {
   "codemirror_mode": {
    "name": "ipython",
    "version": 3
   },
   "file_extension": ".py",
   "mimetype": "text/x-python",
   "name": "python",
   "nbconvert_exporter": "python",
   "pygments_lexer": "ipython3",
   "version": "3.10.13"
  }
 },
 "nbformat": 4,
 "nbformat_minor": 5
}
