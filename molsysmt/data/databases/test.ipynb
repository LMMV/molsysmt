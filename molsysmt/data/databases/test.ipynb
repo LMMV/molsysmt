{
 "cells": [
  {
   "cell_type": "code",
   "execution_count": 1,
   "id": "5ed18f6e-ea1c-4b9b-ae6e-5113fc62f680",
   "metadata": {},
   "outputs": [
    {
     "data": {
      "application/vnd.jupyter.widget-view+json": {
       "model_id": "4e56a02ef7e74609ab02d03ec048954d",
       "version_major": 2,
       "version_minor": 0
      },
      "text/plain": []
     },
     "metadata": {},
     "output_type": "display_data"
    }
   ],
   "source": [
    "from molsysmt.native import CIFFileHandler\n",
    "import pickle\n",
    "\n",
    "handler = CIFFileHandler('components.cif')\n",
    "cif_entries = handler.parse()"
   ]
  },
  {
   "cell_type": "code",
   "execution_count": 2,
   "id": "2253395b-d931-4804-933d-e49ebdfe18a6",
   "metadata": {},
   "outputs": [],
   "source": [
    "types_dict = {}\n",
    "\n",
    "for ii in cif_entries:\n",
    "    jj = cif_entries[ii]['_chem_comp']['type']\n",
    "    if jj in types_dict:\n",
    "        types_dict[jj].append(ii)\n",
    "    else:\n",
    "        types_dict[jj] = [ii]\n",
    "\n",
    "types = ['\"L-PEPTIDE LINKING\"',\n",
    "         '\"D-PEPTIDE LINKING\"',\n",
    "         '\"L-peptide linking\"',\n",
    "         '\"D-peptide linking\"',\n",
    "         '\"PEPTIDE LINKING\"',\n",
    "         '\"peptide linking\"',\n",
    "         '\"L-peptide NH3 amino terminus\"',\n",
    "         '\"L-peptide COOH carboxy terminus\"',\n",
    "         '\"L-PEPTIDE COOH CARBOXY TERMINUS\"',\n",
    "         '\"D-PEPTIDE NH3 AMINO TERMINUS\"',\n",
    "         '\"D-peptide NH3 amino terminus\"']\n",
    "\n",
    "data = []\n",
    "for ii in types:\n",
    "    data += types_dict[ii]\n",
    "\n"
   ]
  },
  {
   "cell_type": "code",
   "execution_count": 3,
   "id": "0b8fce6d-6cae-4489-b8b3-d08c3a932247",
   "metadata": {},
   "outputs": [],
   "source": [
    "output = {}\n",
    "\n",
    "for value in data:\n",
    "    \n",
    "    key = cif_entries[value]\n",
    "\n",
    "    aux_dict={}\n",
    "\n",
    "    aux_dict['name']=key['_chem_comp']['name']\n",
    "    aux_dict['three_letter_code']=key['_chem_comp']['three_letter_code']\n",
    "    aux_dict['atom_name']=[key['_chem_comp_atom']['atom_id']]\n",
    "    aux_dict['atom_name'].append(key['_chem_comp_atom']['alt_atom_id'])\n",
    "    if '_chem_comp_bond' in key:\n",
    "        bonds = []\n",
    "        for ii,jj in zip(key['_chem_comp_bond']['atom_id_1'], key['_chem_comp_bond']['atom_id_2']):\n",
    "            iii = aux_dict['atom_name'][0].index(ii)\n",
    "            jjj = aux_dict['atom_name'][0].index(jj)\n",
    "            if iii>jjj:\n",
    "                bonds.append([jjj,iii])\n",
    "            else:\n",
    "                bonds.append([iii,jjj])\n",
    "        aux_dict['bonds']=bonds\n",
    "    else:\n",
    "        aux_dict['bonds']=[]\n",
    "\n",
    "    output[value]=aux_dict"
   ]
  },
  {
   "cell_type": "code",
   "execution_count": 4,
   "id": "ef96c1d5-a0da-4d50-97b6-b606436e41e0",
   "metadata": {},
   "outputs": [],
   "source": [
    "path = '/usr/local/gromacs/share/gromacs/top/residues.xml'\n",
    "\n",
    "aux_dict_2={}\n",
    "\n",
    "with open(path, 'r') as fff:\n",
    "\n",
    "    for line in fff.readlines():\n",
    "\n",
    "        if '<residue restype' in line:\n",
    "            resname = line.split('\"')[1]\n",
    "            aux_dict_2[resname]={'atoms':[], 'bonds':[]}\n",
    "        elif '<ratom name' in line:\n",
    "            iii = line.split('\"')\n",
    "            aux_dict_2[resname]['atoms'].append(iii[1])\n",
    "        elif '<rbond a1' in line:\n",
    "            iii =  line.split('\"')\n",
    "            aux_dict_2[resname]['bonds'].append([iii[1], iii[3]])"
   ]
  },
  {
   "cell_type": "code",
   "execution_count": 20,
   "id": "ac4fbc9c-ac2f-4995-8593-b8f60e72ac8f",
   "metadata": {},
   "outputs": [],
   "source": [
    "aux=[]\n",
    "for ii in aux_dict_2:\n",
    "    if ii not in output:\n",
    "        aux.append(ii)"
   ]
  },
  {
   "cell_type": "code",
   "execution_count": 63,
   "id": "dc11acf7-3ebc-4922-9c87-cda38aee84af",
   "metadata": {},
   "outputs": [],
   "source": [
    "resname = 'SER'\n",
    "\n",
    "import networkx as nx\n",
    "\n",
    "A = nx.Graph()\n",
    "B = nx.Graph()\n",
    "\n",
    "for bond in output[resname]['bonds']:\n",
    "    A.add_edge(bond[0], bond[1])\n",
    "\n",
    "for bond in aux_dict_2[resname]['bonds']:\n",
    "    B.add_edge(bond[0], bond[1])\n"
   ]
  },
  {
   "cell_type": "code",
   "execution_count": 64,
   "id": "b0455d75-56b3-4159-92b9-3e862949cbdb",
   "metadata": {},
   "outputs": [],
   "source": [
    "B.remove_node('-C')"
   ]
  },
  {
   "cell_type": "code",
   "execution_count": 65,
   "id": "0fbd5cf5-0f9e-414b-85af-306f14ab7362",
   "metadata": {},
   "outputs": [],
   "source": [
    "matcher = nx.algorithms.isomorphism.GraphMatcher(A, B)"
   ]
  },
  {
   "cell_type": "code",
   "execution_count": 66,
   "id": "fedef2a0-586f-4858-a805-975431384239",
   "metadata": {},
   "outputs": [
    {
     "name": "stdout",
     "output_type": "stream",
     "text": [
      "A contiene un subgrafo isomorfo a B: True\n"
     ]
    }
   ],
   "source": [
    "is_subgraph_isomorphic = matcher.subgraph_is_isomorphic()\n",
    "print(\"A contiene un subgrafo isomorfo a B:\", is_subgraph_isomorphic)"
   ]
  },
  {
   "cell_type": "code",
   "execution_count": 67,
   "id": "607b9209-c8fd-434a-963a-e27341a3ce3c",
   "metadata": {},
   "outputs": [],
   "source": [
    "from molsysmt.element.atom.get_atom_type import _get_atom_type_from_atom_name"
   ]
  },
  {
   "cell_type": "code",
   "execution_count": 71,
   "id": "c419a63c-a466-4928-a5aa-e6241e1bc496",
   "metadata": {},
   "outputs": [
    {
     "name": "stdout",
     "output_type": "stream",
     "text": [
      "{0: 'N', 8: 'H', 1: 'CA', 9: 'HA', 4: 'CB', 2: 'C', 10: 'HB1', 11: 'HB2', 5: 'OG', 12: 'HG', 3: 'O'} 8\n",
      "{0: 'N', 8: 'H', 1: 'CA', 9: 'HA', 4: 'CB', 2: 'C', 10: 'HB1', 11: 'HB2', 5: 'OG', 12: 'HG', 6: 'O'} 7\n",
      "{0: 'N', 8: 'H', 1: 'CA', 9: 'HA', 4: 'CB', 2: 'C', 11: 'HB1', 10: 'HB2', 5: 'OG', 12: 'HG', 3: 'O'} 9\n",
      "{0: 'N', 8: 'H', 1: 'CA', 9: 'HA', 4: 'CB', 2: 'C', 11: 'HB1', 10: 'HB2', 5: 'OG', 12: 'HG', 6: 'O'} 8\n",
      "{0: 'N', 7: 'H', 1: 'CA', 9: 'HA', 4: 'CB', 2: 'C', 10: 'HB1', 11: 'HB2', 5: 'OG', 12: 'HG', 3: 'O'} 9\n",
      "{0: 'N', 7: 'H', 1: 'CA', 9: 'HA', 4: 'CB', 2: 'C', 10: 'HB1', 11: 'HB2', 5: 'OG', 12: 'HG', 6: 'O'} 8\n",
      "{0: 'N', 7: 'H', 1: 'CA', 9: 'HA', 4: 'CB', 2: 'C', 11: 'HB1', 10: 'HB2', 5: 'OG', 12: 'HG', 3: 'O'} 10\n",
      "{0: 'N', 7: 'H', 1: 'CA', 9: 'HA', 4: 'CB', 2: 'C', 11: 'HB1', 10: 'HB2', 5: 'OG', 12: 'HG', 6: 'O'} 9\n",
      "{2: 'N', 3: 'H', 1: 'CA', 9: 'HA', 4: 'CB', 0: 'C', 10: 'HB1', 11: 'HB2', 5: 'OG', 12: 'HG', 7: 'O'} 5\n",
      "{2: 'N', 3: 'H', 1: 'CA', 9: 'HA', 4: 'CB', 0: 'C', 10: 'HB1', 11: 'HB2', 5: 'OG', 12: 'HG', 8: 'O'} 5\n",
      "{2: 'N', 3: 'H', 1: 'CA', 9: 'HA', 4: 'CB', 0: 'C', 11: 'HB1', 10: 'HB2', 5: 'OG', 12: 'HG', 7: 'O'} 6\n",
      "{2: 'N', 3: 'H', 1: 'CA', 9: 'HA', 4: 'CB', 0: 'C', 11: 'HB1', 10: 'HB2', 5: 'OG', 12: 'HG', 8: 'O'} 6\n",
      "{2: 'N', 6: 'H', 1: 'CA', 9: 'HA', 4: 'CB', 0: 'C', 10: 'HB1', 11: 'HB2', 5: 'OG', 12: 'HG', 7: 'O'} 5\n",
      "{2: 'N', 6: 'H', 1: 'CA', 9: 'HA', 4: 'CB', 0: 'C', 10: 'HB1', 11: 'HB2', 5: 'OG', 12: 'HG', 8: 'O'} 5\n",
      "{2: 'N', 6: 'H', 1: 'CA', 9: 'HA', 4: 'CB', 0: 'C', 11: 'HB1', 10: 'HB2', 5: 'OG', 12: 'HG', 7: 'O'} 6\n",
      "{2: 'N', 6: 'H', 1: 'CA', 9: 'HA', 4: 'CB', 0: 'C', 11: 'HB1', 10: 'HB2', 5: 'OG', 12: 'HG', 8: 'O'} 6\n"
     ]
    }
   ],
   "source": [
    "if is_subgraph_isomorphic:\n",
    "    eq_max=0\n",
    "    candidato=None\n",
    "    for mapping in matcher.subgraph_isomorphisms_iter():\n",
    "        mask=[]\n",
    "        eq=0\n",
    "        for ii,jj in mapping.items():\n",
    "            iii = _get_atom_type_from_atom_name(output[resname]['atom_name'][0][ii])\n",
    "            jjj = _get_atom_type_from_atom_name(jj)\n",
    "            mask.append(iii==jjj)\n",
    "            if output[resname]['atom_name'][0][ii]==jj:\n",
    "                eq+=1\n",
    "        print(mapping, eq)\n",
    "        if all(mask):\n",
    "            if eq_max<eq:\n",
    "                eq_max=eq\n",
    "                candidato=mapping"
   ]
  },
  {
   "cell_type": "code",
   "execution_count": 69,
   "id": "ab242ef1-c413-4b45-9657-8d68dd0469d4",
   "metadata": {},
   "outputs": [
    {
     "data": {
      "text/plain": [
       "{0: 'N',\n",
       " 7: 'H',\n",
       " 1: 'CA',\n",
       " 9: 'HA',\n",
       " 4: 'CB',\n",
       " 2: 'C',\n",
       " 11: 'HB1',\n",
       " 10: 'HB2',\n",
       " 5: 'OG',\n",
       " 12: 'HG',\n",
       " 3: 'O'}"
      ]
     },
     "execution_count": 69,
     "metadata": {},
     "output_type": "execute_result"
    }
   ],
   "source": [
    "candidato"
   ]
  },
  {
   "cell_type": "code",
   "execution_count": 70,
   "id": "5840c612-ac8d-483d-b85d-fcd204c57298",
   "metadata": {},
   "outputs": [
    {
     "data": {
      "text/plain": [
       "['N',\n",
       " 'CA',\n",
       " 'C',\n",
       " 'O',\n",
       " 'CB',\n",
       " 'OG',\n",
       " 'OXT',\n",
       " 'H',\n",
       " 'H2',\n",
       " 'HA',\n",
       " 'HB2',\n",
       " 'HB3',\n",
       " 'HG',\n",
       " 'HXT']"
      ]
     },
     "execution_count": 70,
     "metadata": {},
     "output_type": "execute_result"
    }
   ],
   "source": [
    "output[resname]['atom_name'][0]"
   ]
  },
  {
   "cell_type": "code",
   "execution_count": null,
   "id": "43631874-e364-4ee8-9bf9-b9ea3245231d",
   "metadata": {},
   "outputs": [],
   "source": []
  }
 ],
 "metadata": {
  "kernelspec": {
   "display_name": "Python 3 (ipykernel)",
   "language": "python",
   "name": "python3"
  },
  "language_info": {
   "codemirror_mode": {
    "name": "ipython",
    "version": 3
   },
   "file_extension": ".py",
   "mimetype": "text/x-python",
   "name": "python",
   "nbconvert_exporter": "python",
   "pygments_lexer": "ipython3",
   "version": "3.10.13"
  }
 },
 "nbformat": 4,
 "nbformat_minor": 5
}
