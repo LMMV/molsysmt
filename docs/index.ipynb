{
 "cells": [
  {
   "cell_type": "markdown",
   "id": "7e614632-2c27-4617-9a0e-a2ea40dd77f7",
   "metadata": {},
   "source": [
    "```{eval-rst}\n",
    ":html_theme.sidebar_secondary.remove:\n",
    "```"
   ]
  },
  {
   "cell_type": "code",
   "execution_count": null,
   "id": "8bbe1b3d-3a64-4d74-9d3a-5a6d2bef1dad",
   "metadata": {
    "tags": [
     "remove-input"
    ]
   },
   "outputs": [],
   "source": [
    "# This cell is removed with the tag: \"remove-input\"\n",
    "# As such, it will not be shown in documentation\n",
    "\n",
    "nglview_static_dir = '_static/nglview/'"
   ]
  },
  {
   "cell_type": "markdown",
   "id": "7157b65b-a16f-498e-afa8-30e30cf25c70",
   "metadata": {},
   "source": [
    "# MolSysMT\n",
    "\n",
    "```{image} https://zenodo.org/badge/137937243.svg\n",
    ":target: https://zenodo.org/badge/latestdoi/137937243\n",
    "```\n",
    "\n",
    "```{image} https://anaconda.org/uibcdf/molsysmt/badges/license.svg\n",
    ":target: https://github.com/uibcdf/MolSysMT/blob/master/License\n",
    "```\n",
    "\n",
    "MolSysMT makes the work with molecular models and simulations easy.\n",
    "\n",
    "## Install it\n",
    "\n",
    "```bash\n",
    "conda install -c uibcdf molsysmt\n",
    "```"
   ]
  },
  {
   "cell_type": "markdown",
   "id": "e8223bd1-f36f-4f8f-bca1-73a5ec53832d",
   "metadata": {},
   "source": [
    "## Use it"
   ]
  },
  {
   "cell_type": "code",
   "execution_count": null,
   "id": "1eb78d05-51ee-4522-b153-8d61363b3436",
   "metadata": {},
   "outputs": [],
   "source": [
    "import molsysmt as msm\n",
    "\n",
    "molecular_system = msm.convert('1BRS', selection='molecule_type==\"protein\"')\n",
    "\n",
    "msm.info(molecular_system, element='molecule')"
   ]
  },
  {
   "cell_type": "code",
   "execution_count": null,
   "id": "c1cd03ae-1079-43ee-9817-98b64db72d5f",
   "metadata": {
    "tags": [
     "remove-input"
    ]
   },
   "outputs": [],
   "source": [
    "# This cell is removed with the tag: \"remove-input\"\n",
    "# As such, it will not be shown in documentation\n",
    "\n",
    "nglview_htmlfile = nglview_static_dir+'barnase.html'"
   ]
  },
  {
   "cell_type": "code",
   "execution_count": null,
   "id": "0f31e3d8-312d-440b-9178-65338be9fe63",
   "metadata": {},
   "outputs": [],
   "source": [
    "msm.view(molecular_system, selection='molecule_index==0', viewer='NGLView')"
   ]
  },
  {
   "cell_type": "code",
   "execution_count": null,
   "id": "e2cb2fce-3436-4cc5-913b-c84576c3d0cb",
   "metadata": {},
   "outputs": [],
   "source": []
  },
  {
   "cell_type": "markdown",
   "id": "f03f053a-b35a-4364-b67d-7b35272971a6",
   "metadata": {},
   "source": [
    "## Citation\n",
    "\n",
    "Coming soon..."
   ]
  },
  {
   "cell_type": "markdown",
   "id": "7b9e7ad8-ebdb-48e2-8a96-54a2d0c40788",
   "metadata": {},
   "source": [
    "```{eval-rst}\n",
    ".. toctree::\n",
    "   :name: about\n",
    "   :caption: About\n",
    "   :maxdepth: 2\n",
    "   :hidden:\n",
    "\n",
    "   contents/about/what.md\n",
    "   contents/about/installation.md\n",
    "   contents/about/showcase/index.md\n",
    "   contents/about/citation.md\n",
    "\n",
    ".. toctree::\n",
    "   :name: user_guide\n",
    "   :caption: User Guide\n",
    "   :maxdepth: 2\n",
    "   :hidden:\n",
    "\n",
    "   contents/user/intro/index.md\n",
    "   contents/user/native/index.md \n",
    "   contents/user/tools/index.md\n",
    "   contents/user/examples/index.md\n",
    "   contents/user/demo/index.md\n",
    "\n",
    ".. toctree::\n",
    "   :name: developer_guide\n",
    "   :caption: Developer Guide\n",
    "   :maxdepth: 2\n",
    "   :hidden:\n",
    "\n",
    "   contents/developer/intro/index.md\n",
    "   contents/developer/new_form.ipynb\n",
    "   contents/developer/documentation/index.md\n",
    "   \n",
    ".. toctree::\n",
    "   :name: api_doc\n",
    "   :caption: API Documentation\n",
    "   :maxdepth: 2\n",
    "   :hidden:\n",
    "\n",
    "   api/users/api_users.rst\n",
    "   api/developers/api_developers.rst\n",
    "```"
   ]
  }
 ],
 "metadata": {
  "kernelspec": {
   "display_name": "Python 3 (ipykernel)",
   "language": "python",
   "name": "python3"
  },
  "language_info": {
   "codemirror_mode": {
    "name": "ipython",
    "version": 3
   },
   "file_extension": ".py",
   "mimetype": "text/x-python",
   "name": "python",
   "nbconvert_exporter": "python",
   "pygments_lexer": "ipython3",
   "version": "3.10.11"
  }
 },
 "nbformat": 4,
 "nbformat_minor": 5
}
