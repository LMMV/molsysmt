{
 "cells": [
  {
   "cell_type": "code",
   "execution_count": 1,
   "id": "8bbe1b3d-3a64-4d74-9d3a-5a6d2bef1dad",
   "metadata": {
    "tags": [
     "remove-input"
    ]
   },
   "outputs": [],
   "source": [
    "# This cell is removed with the tag: \"remove-input\"\n",
    "# As such, it will not be shown in documentation\n",
    "\n",
    "nglview_static_dir = '_static/nglview/'"
   ]
  },
  {
   "cell_type": "markdown",
   "id": "7157b65b-a16f-498e-afa8-30e30cf25c70",
   "metadata": {},
   "source": [
    "# MolSysMT\n",
    "\n",
    "```{image} https://zenodo.org/badge/137937243.svg\n",
    ":target: https://zenodo.org/badge/latestdoi/137937243\n",
    "```\n",
    "\n",
    "```{image} https://anaconda.org/uibcdf/molsysmt/badges/license.svg\n",
    ":target: https://github.com/uibcdf/MolSysMT/blob/master/License\n",
    "```\n",
    "\n",
    "MolSysMT makes the work with molecular models and simulations easy.\n",
    "\n",
    "## Install it\n",
    "\n",
    "```bash\n",
    "conda install -c uibcdf molsysmt\n",
    "```"
   ]
  },
  {
   "cell_type": "markdown",
   "id": "e8223bd1-f36f-4f8f-bca1-73a5ec53832d",
   "metadata": {},
   "source": [
    "## Use it"
   ]
  },
  {
   "cell_type": "code",
   "execution_count": 2,
   "id": "1eb78d05-51ee-4522-b153-8d61363b3436",
   "metadata": {},
   "outputs": [
    {
     "data": {
      "application/vnd.jupyter.widget-view+json": {
       "model_id": "4f5af16defc04c5bbe8fdea03fb1a522",
       "version_major": 2,
       "version_minor": 0
      },
      "text/plain": []
     },
     "metadata": {},
     "output_type": "display_data"
    },
    {
     "data": {
      "text/html": [
       "<style type=\"text/css\">\n",
       "</style>\n",
       "<table id=\"T_ac5f4\">\n",
       "  <thead>\n",
       "    <tr>\n",
       "      <th id=\"T_ac5f4_level0_col0\" class=\"col_heading level0 col0\" >index</th>\n",
       "      <th id=\"T_ac5f4_level0_col1\" class=\"col_heading level0 col1\" >name</th>\n",
       "      <th id=\"T_ac5f4_level0_col2\" class=\"col_heading level0 col2\" >type</th>\n",
       "      <th id=\"T_ac5f4_level0_col3\" class=\"col_heading level0 col3\" >n atoms</th>\n",
       "      <th id=\"T_ac5f4_level0_col4\" class=\"col_heading level0 col4\" >n groups</th>\n",
       "      <th id=\"T_ac5f4_level0_col5\" class=\"col_heading level0 col5\" >n components</th>\n",
       "      <th id=\"T_ac5f4_level0_col6\" class=\"col_heading level0 col6\" >chain index</th>\n",
       "      <th id=\"T_ac5f4_level0_col7\" class=\"col_heading level0 col7\" >entity index</th>\n",
       "      <th id=\"T_ac5f4_level0_col8\" class=\"col_heading level0 col8\" >entity name</th>\n",
       "    </tr>\n",
       "  </thead>\n",
       "  <tbody>\n",
       "    <tr>\n",
       "      <td id=\"T_ac5f4_row0_col0\" class=\"data row0 col0\" >0</td>\n",
       "      <td id=\"T_ac5f4_row0_col1\" class=\"data row0 col1\" >Barnase</td>\n",
       "      <td id=\"T_ac5f4_row0_col2\" class=\"data row0 col2\" >protein</td>\n",
       "      <td id=\"T_ac5f4_row0_col3\" class=\"data row0 col3\" >864</td>\n",
       "      <td id=\"T_ac5f4_row0_col4\" class=\"data row0 col4\" >108</td>\n",
       "      <td id=\"T_ac5f4_row0_col5\" class=\"data row0 col5\" >1</td>\n",
       "      <td id=\"T_ac5f4_row0_col6\" class=\"data row0 col6\" >0</td>\n",
       "      <td id=\"T_ac5f4_row0_col7\" class=\"data row0 col7\" >0</td>\n",
       "      <td id=\"T_ac5f4_row0_col8\" class=\"data row0 col8\" >Barnase</td>\n",
       "    </tr>\n",
       "    <tr>\n",
       "      <td id=\"T_ac5f4_row1_col0\" class=\"data row1 col0\" >1</td>\n",
       "      <td id=\"T_ac5f4_row1_col1\" class=\"data row1 col1\" >Barnase</td>\n",
       "      <td id=\"T_ac5f4_row1_col2\" class=\"data row1 col2\" >protein</td>\n",
       "      <td id=\"T_ac5f4_row1_col3\" class=\"data row1 col3\" >878</td>\n",
       "      <td id=\"T_ac5f4_row1_col4\" class=\"data row1 col4\" >110</td>\n",
       "      <td id=\"T_ac5f4_row1_col5\" class=\"data row1 col5\" >1</td>\n",
       "      <td id=\"T_ac5f4_row1_col6\" class=\"data row1 col6\" >1</td>\n",
       "      <td id=\"T_ac5f4_row1_col7\" class=\"data row1 col7\" >0</td>\n",
       "      <td id=\"T_ac5f4_row1_col8\" class=\"data row1 col8\" >Barnase</td>\n",
       "    </tr>\n",
       "    <tr>\n",
       "      <td id=\"T_ac5f4_row2_col0\" class=\"data row2 col0\" >2</td>\n",
       "      <td id=\"T_ac5f4_row2_col1\" class=\"data row2 col1\" >Barnase</td>\n",
       "      <td id=\"T_ac5f4_row2_col2\" class=\"data row2 col2\" >protein</td>\n",
       "      <td id=\"T_ac5f4_row2_col3\" class=\"data row2 col3\" >839</td>\n",
       "      <td id=\"T_ac5f4_row2_col4\" class=\"data row2 col4\" >108</td>\n",
       "      <td id=\"T_ac5f4_row2_col5\" class=\"data row2 col5\" >1</td>\n",
       "      <td id=\"T_ac5f4_row2_col6\" class=\"data row2 col6\" >2</td>\n",
       "      <td id=\"T_ac5f4_row2_col7\" class=\"data row2 col7\" >0</td>\n",
       "      <td id=\"T_ac5f4_row2_col8\" class=\"data row2 col8\" >Barnase</td>\n",
       "    </tr>\n",
       "    <tr>\n",
       "      <td id=\"T_ac5f4_row3_col0\" class=\"data row3 col0\" >3</td>\n",
       "      <td id=\"T_ac5f4_row3_col1\" class=\"data row3 col1\" >Barstar</td>\n",
       "      <td id=\"T_ac5f4_row3_col2\" class=\"data row3 col2\" >protein</td>\n",
       "      <td id=\"T_ac5f4_row3_col3\" class=\"data row3 col3\" >695</td>\n",
       "      <td id=\"T_ac5f4_row3_col4\" class=\"data row3 col4\" >87</td>\n",
       "      <td id=\"T_ac5f4_row3_col5\" class=\"data row3 col5\" >2</td>\n",
       "      <td id=\"T_ac5f4_row3_col6\" class=\"data row3 col6\" >3</td>\n",
       "      <td id=\"T_ac5f4_row3_col7\" class=\"data row3 col7\" >1</td>\n",
       "      <td id=\"T_ac5f4_row3_col8\" class=\"data row3 col8\" >Barstar</td>\n",
       "    </tr>\n",
       "    <tr>\n",
       "      <td id=\"T_ac5f4_row4_col0\" class=\"data row4 col0\" >4</td>\n",
       "      <td id=\"T_ac5f4_row4_col1\" class=\"data row4 col1\" >Barstar</td>\n",
       "      <td id=\"T_ac5f4_row4_col2\" class=\"data row4 col2\" >protein</td>\n",
       "      <td id=\"T_ac5f4_row4_col3\" class=\"data row4 col3\" >665</td>\n",
       "      <td id=\"T_ac5f4_row4_col4\" class=\"data row4 col4\" >86</td>\n",
       "      <td id=\"T_ac5f4_row4_col5\" class=\"data row4 col5\" >2</td>\n",
       "      <td id=\"T_ac5f4_row4_col6\" class=\"data row4 col6\" >4</td>\n",
       "      <td id=\"T_ac5f4_row4_col7\" class=\"data row4 col7\" >1</td>\n",
       "      <td id=\"T_ac5f4_row4_col8\" class=\"data row4 col8\" >Barstar</td>\n",
       "    </tr>\n",
       "    <tr>\n",
       "      <td id=\"T_ac5f4_row5_col0\" class=\"data row5 col0\" >5</td>\n",
       "      <td id=\"T_ac5f4_row5_col1\" class=\"data row5 col1\" >Barstar</td>\n",
       "      <td id=\"T_ac5f4_row5_col2\" class=\"data row5 col2\" >protein</td>\n",
       "      <td id=\"T_ac5f4_row5_col3\" class=\"data row5 col3\" >699</td>\n",
       "      <td id=\"T_ac5f4_row5_col4\" class=\"data row5 col4\" >89</td>\n",
       "      <td id=\"T_ac5f4_row5_col5\" class=\"data row5 col5\" >1</td>\n",
       "      <td id=\"T_ac5f4_row5_col6\" class=\"data row5 col6\" >5</td>\n",
       "      <td id=\"T_ac5f4_row5_col7\" class=\"data row5 col7\" >1</td>\n",
       "      <td id=\"T_ac5f4_row5_col8\" class=\"data row5 col8\" >Barstar</td>\n",
       "    </tr>\n",
       "  </tbody>\n",
       "</table>\n"
      ],
      "text/plain": [
       "<pandas.io.formats.style.Styler at 0x7fb733abf850>"
      ]
     },
     "execution_count": 2,
     "metadata": {},
     "output_type": "execute_result"
    }
   ],
   "source": [
    "import molsysmt as msm\n",
    "\n",
    "molecular_system = msm.convert('1BRS', selection='molecule_type==\"protein\"')\n",
    "\n",
    "msm.info(molecular_system, element='molecule')"
   ]
  },
  {
   "cell_type": "code",
   "execution_count": 3,
   "id": "c1cd03ae-1079-43ee-9817-98b64db72d5f",
   "metadata": {
    "tags": [
     "remove-input"
    ]
   },
   "outputs": [],
   "source": [
    "# This cell is removed with the tag: \"remove-input\"\n",
    "# As such, it will not be shown in documentation\n",
    "\n",
    "nglview_htmlfile = nglview_static_dir+'barnase.html'"
   ]
  },
  {
   "cell_type": "code",
   "execution_count": 4,
   "id": "0f31e3d8-312d-440b-9178-65338be9fe63",
   "metadata": {},
   "outputs": [
    {
     "data": {
      "application/vnd.jupyter.widget-view+json": {
       "model_id": "18dfaa730fb44c2fa7efbec976f67218",
       "version_major": 2,
       "version_minor": 0
      },
      "text/plain": [
       "NGLWidget()"
      ]
     },
     "metadata": {},
     "output_type": "display_data"
    }
   ],
   "source": [
    "msm.view(molecular_system, selection='molecule_index==0', viewer='NGLView')"
   ]
  },
  {
   "cell_type": "code",
   "execution_count": null,
   "id": "e2cb2fce-3436-4cc5-913b-c84576c3d0cb",
   "metadata": {},
   "outputs": [],
   "source": []
  },
  {
   "cell_type": "markdown",
   "id": "f03f053a-b35a-4364-b67d-7b35272971a6",
   "metadata": {},
   "source": [
    "## Citation\n",
    "\n",
    "Coming soon..."
   ]
  },
  {
   "cell_type": "markdown",
   "id": "7b9e7ad8-ebdb-48e2-8a96-54a2d0c40788",
   "metadata": {},
   "source": [
    "```{eval-rst}\n",
    ".. toctree::\n",
    "   :name: about\n",
    "   :caption: About\n",
    "   :maxdepth: 2\n",
    "   :hidden:\n",
    "\n",
    "   contents/about/what.md\n",
    "   contents/about/installation.md\n",
    "   contents/about/showcase/index.md\n",
    "   contents/about/citation.md\n",
    "\n",
    ".. toctree::\n",
    "   :name: user_guide\n",
    "   :caption: User Guide\n",
    "   :maxdepth: 2\n",
    "   :hidden:\n",
    "\n",
    "   contents/user/intro/index.md\n",
    "   contents/user/tools/index.md\n",
    "   contents/user/thirds/index.md\n",
    "   contents/user/native_forms/index.md\n",
    "\n",
    ".. toctree::\n",
    "   :name: developer_guide\n",
    "   :caption: Developer Guide\n",
    "   :maxdepth: 2\n",
    "   :hidden:\n",
    "\n",
    "   contents/developer/intro/index.md\n",
    "   contents/developer/new_form.ipynb\n",
    "   contents/developer/documentation/index.md\n",
    "   \n",
    ".. toctree::\n",
    "   :name: api_doc\n",
    "   :caption: API Documentation\n",
    "   :maxdepth: 2\n",
    "   :hidden:\n",
    "\n",
    "   api/users/api_users.rst\n",
    "   api/developers/api_developers.rst\n",
    "```"
   ]
  }
 ],
 "metadata": {
  "kernelspec": {
   "display_name": "Python 3 (ipykernel)",
   "language": "python",
   "name": "python3"
  },
  "language_info": {
   "codemirror_mode": {
    "name": "ipython",
    "version": 3
   },
   "file_extension": ".py",
   "mimetype": "text/x-python",
   "name": "python",
   "nbconvert_exporter": "python",
   "pygments_lexer": "ipython3",
   "version": "3.9.13"
  }
 },
 "nbformat": 4,
 "nbformat_minor": 5
}
