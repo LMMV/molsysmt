{
 "cells": [
  {
   "cell_type": "markdown",
   "id": "7e614632-2c27-4617-9a0e-a2ea40dd77f7",
   "metadata": {},
   "source": [
    "```{eval-rst}\n",
    ":html_theme.sidebar_secondary.remove:\n",
    "```"
   ]
  },
  {
   "cell_type": "code",
   "execution_count": 1,
   "id": "8bbe1b3d-3a64-4d74-9d3a-5a6d2bef1dad",
   "metadata": {
    "execution": {
     "iopub.execute_input": "2025-03-11T22:42:14.210688Z",
     "iopub.status.busy": "2025-03-11T22:42:14.210234Z",
     "iopub.status.idle": "2025-03-11T22:42:14.215678Z",
     "shell.execute_reply": "2025-03-11T22:42:14.214910Z"
    },
    "tags": [
     "remove-input"
    ]
   },
   "outputs": [],
   "source": [
    "# This cell is removed with the tag: \"remove-input\"\n",
    "# As such, it will not be shown in documentation\n",
    "\n",
    "nglview_static_dir = '_static/nglview/'"
   ]
  },
  {
   "cell_type": "markdown",
   "id": "7157b65b-a16f-498e-afa8-30e30cf25c70",
   "metadata": {},
   "source": [
    ":::{figure} _static/logo.svg\n",
    ":width: 50%\n",
    ":align: center\n",
    "\n",
    "Molecular Systems MultiToolkit to make the work with molecular models and simulations easy.\n",
    "\n",
    "\n",
    "```{image} https://img.shields.io/badge/release-v0.10.0-white.svg\n",
    ":target: https://github.com/uibcdf/molsysmt\n",
    "```\n",
    "```{image} https://img.shields.io/badge/license-MIT-white.svg\n",
    ":target: https://github.com/uibcdf/molsysmt/blob/master/LICENSE\n",
    "```\n",
    "```{image} https://img.shields.io/badge/install%20with-conda-white.svg\n",
    ":target: https://anaconda.org/uibcdf/molsysmt\n",
    "```\n",
    "```{image} https://img.shields.io/badge/python-3.10%20%7C%203.11%20%7C%203.12-white.svg\n",
    ":target: https://www.python.org/downloads/\n",
    "```\n",
    "```{image} https://img.shields.io/badge/DOI-10.5281/8092688-white.svg\n",
    ":target: https://zenodo.org/record/8092688\n",
    "```\n",
    "\n",
    ":::\n",
    "\n",
    "<br/>\n",
    "\n",
    "\n",
    "## Install it\n",
    "\n",
    "```bash\n",
    "conda install -c uibcdf molsysmt\n",
    "```\n",
    "\n",
    "<br/>\n",
    "\n",
    "## Use it"
   ]
  },
  {
   "cell_type": "code",
   "execution_count": 2,
   "id": "1eb78d05-51ee-4522-b153-8d61363b3436",
   "metadata": {
    "execution": {
     "iopub.execute_input": "2025-03-11T22:42:14.218310Z",
     "iopub.status.busy": "2025-03-11T22:42:14.218056Z",
     "iopub.status.idle": "2025-03-11T22:42:21.559618Z",
     "shell.execute_reply": "2025-03-11T22:42:21.558948Z"
    }
   },
   "outputs": [
    {
     "data": {
      "application/vnd.jupyter.widget-view+json": {
       "model_id": "11224909fbce4054a78fd1533e4528dd",
       "version_major": 2,
       "version_minor": 0
      },
      "text/plain": []
     },
     "metadata": {},
     "output_type": "display_data"
    },
    {
     "data": {
      "text/html": [
       "<style type=\"text/css\">\n",
       "</style>\n",
       "<table id=\"T_426c6\">\n",
       "  <thead>\n",
       "    <tr>\n",
       "      <th id=\"T_426c6_level0_col0\" class=\"col_heading level0 col0\" >index</th>\n",
       "      <th id=\"T_426c6_level0_col1\" class=\"col_heading level0 col1\" >name</th>\n",
       "      <th id=\"T_426c6_level0_col2\" class=\"col_heading level0 col2\" >type</th>\n",
       "      <th id=\"T_426c6_level0_col3\" class=\"col_heading level0 col3\" >n atoms</th>\n",
       "      <th id=\"T_426c6_level0_col4\" class=\"col_heading level0 col4\" >n groups</th>\n",
       "      <th id=\"T_426c6_level0_col5\" class=\"col_heading level0 col5\" >n components</th>\n",
       "      <th id=\"T_426c6_level0_col6\" class=\"col_heading level0 col6\" >chain index</th>\n",
       "      <th id=\"T_426c6_level0_col7\" class=\"col_heading level0 col7\" >entity index</th>\n",
       "      <th id=\"T_426c6_level0_col8\" class=\"col_heading level0 col8\" >entity name</th>\n",
       "    </tr>\n",
       "  </thead>\n",
       "  <tbody>\n",
       "    <tr>\n",
       "      <td id=\"T_426c6_row0_col0\" class=\"data row0 col0\" >0</td>\n",
       "      <td id=\"T_426c6_row0_col1\" class=\"data row0 col1\" >BARNASE</td>\n",
       "      <td id=\"T_426c6_row0_col2\" class=\"data row0 col2\" >protein</td>\n",
       "      <td id=\"T_426c6_row0_col3\" class=\"data row0 col3\" >864</td>\n",
       "      <td id=\"T_426c6_row0_col4\" class=\"data row0 col4\" >108</td>\n",
       "      <td id=\"T_426c6_row0_col5\" class=\"data row0 col5\" >1</td>\n",
       "      <td id=\"T_426c6_row0_col6\" class=\"data row0 col6\" >0</td>\n",
       "      <td id=\"T_426c6_row0_col7\" class=\"data row0 col7\" >0</td>\n",
       "      <td id=\"T_426c6_row0_col8\" class=\"data row0 col8\" >BARNASE</td>\n",
       "    </tr>\n",
       "    <tr>\n",
       "      <td id=\"T_426c6_row1_col0\" class=\"data row1 col0\" >1</td>\n",
       "      <td id=\"T_426c6_row1_col1\" class=\"data row1 col1\" >BARNASE</td>\n",
       "      <td id=\"T_426c6_row1_col2\" class=\"data row1 col2\" >protein</td>\n",
       "      <td id=\"T_426c6_row1_col3\" class=\"data row1 col3\" >878</td>\n",
       "      <td id=\"T_426c6_row1_col4\" class=\"data row1 col4\" >110</td>\n",
       "      <td id=\"T_426c6_row1_col5\" class=\"data row1 col5\" >1</td>\n",
       "      <td id=\"T_426c6_row1_col6\" class=\"data row1 col6\" >1</td>\n",
       "      <td id=\"T_426c6_row1_col7\" class=\"data row1 col7\" >0</td>\n",
       "      <td id=\"T_426c6_row1_col8\" class=\"data row1 col8\" >BARNASE</td>\n",
       "    </tr>\n",
       "    <tr>\n",
       "      <td id=\"T_426c6_row2_col0\" class=\"data row2 col0\" >2</td>\n",
       "      <td id=\"T_426c6_row2_col1\" class=\"data row2 col1\" >BARNASE</td>\n",
       "      <td id=\"T_426c6_row2_col2\" class=\"data row2 col2\" >protein</td>\n",
       "      <td id=\"T_426c6_row2_col3\" class=\"data row2 col3\" >839</td>\n",
       "      <td id=\"T_426c6_row2_col4\" class=\"data row2 col4\" >108</td>\n",
       "      <td id=\"T_426c6_row2_col5\" class=\"data row2 col5\" >1</td>\n",
       "      <td id=\"T_426c6_row2_col6\" class=\"data row2 col6\" >2</td>\n",
       "      <td id=\"T_426c6_row2_col7\" class=\"data row2 col7\" >0</td>\n",
       "      <td id=\"T_426c6_row2_col8\" class=\"data row2 col8\" >BARNASE</td>\n",
       "    </tr>\n",
       "    <tr>\n",
       "      <td id=\"T_426c6_row3_col0\" class=\"data row3 col0\" >3</td>\n",
       "      <td id=\"T_426c6_row3_col1\" class=\"data row3 col1\" >BARSTAR</td>\n",
       "      <td id=\"T_426c6_row3_col2\" class=\"data row3 col2\" >protein</td>\n",
       "      <td id=\"T_426c6_row3_col3\" class=\"data row3 col3\" >693</td>\n",
       "      <td id=\"T_426c6_row3_col4\" class=\"data row3 col4\" >87</td>\n",
       "      <td id=\"T_426c6_row3_col5\" class=\"data row3 col5\" >2</td>\n",
       "      <td id=\"T_426c6_row3_col6\" class=\"data row3 col6\" >3</td>\n",
       "      <td id=\"T_426c6_row3_col7\" class=\"data row3 col7\" >1</td>\n",
       "      <td id=\"T_426c6_row3_col8\" class=\"data row3 col8\" >BARSTAR</td>\n",
       "    </tr>\n",
       "    <tr>\n",
       "      <td id=\"T_426c6_row4_col0\" class=\"data row4 col0\" >4</td>\n",
       "      <td id=\"T_426c6_row4_col1\" class=\"data row4 col1\" >BARSTAR</td>\n",
       "      <td id=\"T_426c6_row4_col2\" class=\"data row4 col2\" >protein</td>\n",
       "      <td id=\"T_426c6_row4_col3\" class=\"data row4 col3\" >665</td>\n",
       "      <td id=\"T_426c6_row4_col4\" class=\"data row4 col4\" >86</td>\n",
       "      <td id=\"T_426c6_row4_col5\" class=\"data row4 col5\" >2</td>\n",
       "      <td id=\"T_426c6_row4_col6\" class=\"data row4 col6\" >4</td>\n",
       "      <td id=\"T_426c6_row4_col7\" class=\"data row4 col7\" >1</td>\n",
       "      <td id=\"T_426c6_row4_col8\" class=\"data row4 col8\" >BARSTAR</td>\n",
       "    </tr>\n",
       "    <tr>\n",
       "      <td id=\"T_426c6_row5_col0\" class=\"data row5 col0\" >5</td>\n",
       "      <td id=\"T_426c6_row5_col1\" class=\"data row5 col1\" >BARSTAR</td>\n",
       "      <td id=\"T_426c6_row5_col2\" class=\"data row5 col2\" >protein</td>\n",
       "      <td id=\"T_426c6_row5_col3\" class=\"data row5 col3\" >699</td>\n",
       "      <td id=\"T_426c6_row5_col4\" class=\"data row5 col4\" >89</td>\n",
       "      <td id=\"T_426c6_row5_col5\" class=\"data row5 col5\" >1</td>\n",
       "      <td id=\"T_426c6_row5_col6\" class=\"data row5 col6\" >5</td>\n",
       "      <td id=\"T_426c6_row5_col7\" class=\"data row5 col7\" >1</td>\n",
       "      <td id=\"T_426c6_row5_col8\" class=\"data row5 col8\" >BARSTAR</td>\n",
       "    </tr>\n",
       "  </tbody>\n",
       "</table>\n"
      ],
      "text/plain": [
       "<pandas.io.formats.style.Styler at 0x7f6571381040>"
      ]
     },
     "execution_count": 2,
     "metadata": {},
     "output_type": "execute_result"
    }
   ],
   "source": [
    "import molsysmt as msm\n",
    "\n",
    "molecular_system = msm.convert('1BRS', selection='molecule_type==\"protein\"')\n",
    "\n",
    "msm.info(molecular_system, element='molecule')"
   ]
  },
  {
   "cell_type": "code",
   "execution_count": 3,
   "id": "c1cd03ae-1079-43ee-9817-98b64db72d5f",
   "metadata": {
    "execution": {
     "iopub.execute_input": "2025-03-11T22:42:21.563168Z",
     "iopub.status.busy": "2025-03-11T22:42:21.562682Z",
     "iopub.status.idle": "2025-03-11T22:42:21.566400Z",
     "shell.execute_reply": "2025-03-11T22:42:21.565820Z"
    },
    "tags": [
     "remove-input"
    ]
   },
   "outputs": [],
   "source": [
    "# This cell is removed with the tag: \"remove-input\"\n",
    "# As such, it will not be shown in documentation\n",
    "\n",
    "nglview_htmlfile = nglview_static_dir+'barnase.html'"
   ]
  },
  {
   "cell_type": "code",
   "execution_count": 4,
   "id": "0f31e3d8-312d-440b-9178-65338be9fe63",
   "metadata": {
    "execution": {
     "iopub.execute_input": "2025-03-11T22:42:21.568570Z",
     "iopub.status.busy": "2025-03-11T22:42:21.568346Z",
     "iopub.status.idle": "2025-03-11T22:42:21.627047Z",
     "shell.execute_reply": "2025-03-11T22:42:21.626276Z"
    }
   },
   "outputs": [
    {
     "data": {
      "text/html": [
       "\n",
       "        <iframe\n",
       "            width=\"100%\"\n",
       "            height=\"320vh\"\n",
       "            src=\"_static/nglview/barnase.html\"\n",
       "            frameborder=\"0\"\n",
       "            allowfullscreen\n",
       "            \n",
       "        ></iframe>\n",
       "        "
      ],
      "text/plain": [
       "<IPython.lib.display.IFrame at 0x7f657ef21bb0>"
      ]
     },
     "execution_count": 4,
     "metadata": {},
     "output_type": "execute_result"
    }
   ],
   "source": [
    "msm.view(molecular_system, selection='molecule_index==0', viewer='NGLView')"
   ]
  },
  {
   "cell_type": "code",
   "execution_count": null,
   "id": "e2cb2fce-3436-4cc5-913b-c84576c3d0cb",
   "metadata": {},
   "outputs": [],
   "source": []
  },
  {
   "cell_type": "markdown",
   "id": "f03f053a-b35a-4364-b67d-7b35272971a6",
   "metadata": {},
   "source": [
    "## Citation\n",
    "\n",
    "Citing the [Zenodo DOI of MolSysMT](https://doi.org/10.5281/zenodo.8092688) in addition to the scientific paper is a way to ensure that others can reproduce your results, as they will know exactly which version of the software you used.\n",
    "\n",
    "<br/>\n",
    "\n",
    "````{tabs}\n",
    "\n",
    "```{tab} Paper\n",
    "\n",
    "Coming soon...\n",
    "\n",
    "[BibTeX](_bibtex/papers.bib)\n",
    "\n",
    "```\n",
    "```{tab} Software\n",
    "\n",
    "Diego Prada-Gracia, Daniel Ibarrola-Sánchez, & Liliana M. Moreno-Vargas. (2023). uibcdf/MolSysMT: 0.9.1 (0.9.1). Zenodo. https://doi.org/10.5281/zenodo.8092688\n",
    "\n",
    "[BibTeX](_bibtex/software.bib)\n",
    "\n",
    "```\n",
    "````\n"
   ]
  },
  {
   "cell_type": "code",
   "execution_count": null,
   "id": "e9c856fa-552f-4a2c-b445-8986c561bf24",
   "metadata": {},
   "outputs": [],
   "source": []
  },
  {
   "cell_type": "markdown",
   "id": "7b9e7ad8-ebdb-48e2-8a96-54a2d0c40788",
   "metadata": {},
   "source": [
    "```{eval-rst}\n",
    "\n",
    ".. toctree::\n",
    "   :maxdepth: 2\n",
    "   :hidden:\n",
    "\n",
    "   contents/about/index.md\n",
    "\n",
    ".. toctree::\n",
    "   :maxdepth: 2\n",
    "   :hidden:\n",
    "\n",
    "   contents/showcase/index.md\n",
    "\n",
    ".. toctree::\n",
    "   :maxdepth: 2\n",
    "   :hidden:\n",
    "\n",
    "   contents/user/index.ipynb\n",
    "\n",
    ".. toctree::\n",
    "   :maxdepth: 2\n",
    "   :hidden:\n",
    "\n",
    "   contents/developer/index.md\n",
    "   \n",
    ".. toctree::\n",
    "   :maxdepth: 2\n",
    "   :hidden:\n",
    "\n",
    "   api/index.md\n",
    "\n",
    ".. toctree::\n",
    "   :maxdepth: 2\n",
    "   :hidden:\n",
    "\n",
    "   contents/ai_assistants.md\n",
    "\n",
    "```"
   ]
  }
 ],
 "metadata": {
  "kernelspec": {
   "display_name": "Python 3 (ipykernel)",
   "language": "python",
   "name": "python3"
  },
  "language_info": {
   "codemirror_mode": {
    "name": "ipython",
    "version": 3
   },
   "file_extension": ".py",
   "mimetype": "text/x-python",
   "name": "python",
   "nbconvert_exporter": "python",
   "pygments_lexer": "ipython3",
   "version": "3.12.8"
  },
  "widgets": {
   "application/vnd.jupyter.widget-state+json": {
    "state": {
     "11224909fbce4054a78fd1533e4528dd": {
      "model_module": "nglview-js-widgets",
      "model_module_version": "3.1.4",
      "model_name": "ColormakerRegistryModel",
      "state": {
       "_dom_classes": [],
       "_model_module": "nglview-js-widgets",
       "_model_module_version": "3.1.4",
       "_model_name": "ColormakerRegistryModel",
       "_msg_ar": [],
       "_msg_q": [],
       "_ready": false,
       "_view_count": null,
       "_view_module": "nglview-js-widgets",
       "_view_module_version": "3.1.4",
       "_view_name": "ColormakerRegistryView",
       "layout": "IPY_MODEL_eda18714671a4913aa4ff443dd880e21",
       "tabbable": null,
       "tooltip": null
      }
     },
     "eda18714671a4913aa4ff443dd880e21": {
      "model_module": "@jupyter-widgets/base",
      "model_module_version": "2.0.0",
      "model_name": "LayoutModel",
      "state": {
       "_model_module": "@jupyter-widgets/base",
       "_model_module_version": "2.0.0",
       "_model_name": "LayoutModel",
       "_view_count": null,
       "_view_module": "@jupyter-widgets/base",
       "_view_module_version": "2.0.0",
       "_view_name": "LayoutView",
       "align_content": null,
       "align_items": null,
       "align_self": null,
       "border_bottom": null,
       "border_left": null,
       "border_right": null,
       "border_top": null,
       "bottom": null,
       "display": null,
       "flex": null,
       "flex_flow": null,
       "grid_area": null,
       "grid_auto_columns": null,
       "grid_auto_flow": null,
       "grid_auto_rows": null,
       "grid_column": null,
       "grid_gap": null,
       "grid_row": null,
       "grid_template_areas": null,
       "grid_template_columns": null,
       "grid_template_rows": null,
       "height": null,
       "justify_content": null,
       "justify_items": null,
       "left": null,
       "margin": null,
       "max_height": null,
       "max_width": null,
       "min_height": null,
       "min_width": null,
       "object_fit": null,
       "object_position": null,
       "order": null,
       "overflow": null,
       "padding": null,
       "right": null,
       "top": null,
       "visibility": null,
       "width": null
      }
     }
    },
    "version_major": 2,
    "version_minor": 0
   }
  }
 },
 "nbformat": 4,
 "nbformat_minor": 5
}
