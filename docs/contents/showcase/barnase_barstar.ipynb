{
 "cells": [
  {
   "cell_type": "code",
   "execution_count": null,
   "id": "0a64f9c5-c973-4b05-b412-baa15298f60e",
   "metadata": {
    "editable": true,
    "slideshow": {
     "slide_type": ""
    },
    "tags": [
     "remove-input"
    ]
   },
   "outputs": [],
   "source": [
    "# This cell is removed with the tag: \"remove-input\"\n",
    "# As such, it will not be shown in documentation\n",
    "\n",
    "# import warnings\n",
    "# warnings.filterwarnings('ignore')"
   ]
  },
  {
   "cell_type": "markdown",
   "id": "38b196fd-7966-4ee9-95ed-907e20a6f1af",
   "metadata": {},
   "source": [
    "# Barnase-Barstar\n",
    "\n",
    "The structure with PDB id [1BRS](https://www.rcsb.org/structure/1BRS) has three barnase-barstar complexes in its unit cell, but none of them has their monomers sequences complete. However, we can find a barnase and a barstar monomer without missing residues coming from different dimers. If we want to prepare a good complex with them, we only need to follow these steps:\n",
    "\n",
    "    1- Download the molecular system from the protein data bank.\n",
    "    2- Inspect the molecular system to identify the monomers we want to extract.\n",
    "    3- Form a new complex with the chosen monomers.\n",
    "    4- Complete the complex with the missing atoms.\n",
    "    5- Write the new barnase-barstar complex as a pdb file."
   ]
  },
  {
   "cell_type": "markdown",
   "id": "5ab514f8-dcfb-4ac5-80eb-5ecae3702cda",
   "metadata": {},
   "source": [
    "## Download the molecular system\n",
    "\n",
    "Let's download the 1BRS molecular system with MolSysMT:"
   ]
  },
  {
   "cell_type": "code",
   "execution_count": null,
   "id": "96a0a88e-777b-4134-bb1b-2c96ac62d61b",
   "metadata": {},
   "outputs": [],
   "source": [
    "import molsysmt as msm"
   ]
  },
  {
   "cell_type": "code",
   "execution_count": null,
   "id": "0beea7d1-6e73-4b82-9e18-b5644df644fb",
   "metadata": {},
   "outputs": [],
   "source": [
    "molecular_system = msm.convert('1BRS')"
   ]
  },
  {
   "cell_type": "markdown",
   "id": "414af641-d77d-46bb-aa71-beae327be4a4",
   "metadata": {},
   "source": [
    "## Inspect the molecular system"
   ]
  },
  {
   "cell_type": "markdown",
   "id": "4ca7fa1c-c8b0-4521-b237-97c0ff4bf261",
   "metadata": {},
   "source": [
    "The basic method {func}`molsysmt.basic.info` it is a good tool to inspect the molecular system at different levels. Let's ask this method for a first overview of the molecular system:"
   ]
  },
  {
   "cell_type": "code",
   "execution_count": null,
   "id": "98166039-5610-4d90-b8cf-5105d9aaac52",
   "metadata": {},
   "outputs": [],
   "source": [
    "msm.info(molecular_system)"
   ]
  },
  {
   "cell_type": "markdown",
   "id": "50283e10-846e-4445-8b45-180682b10a3e",
   "metadata": {},
   "source": [
    "```{admonition} Note\n",
    ":class: note\n",
    "All methods defined in the `molsysmt.basic` module can be invoked also from the main level of the library. As such, `molsysmt.info` is the same method as `molsysmt.basic.info`.\n",
    "```"
   ]
  },
  {
   "cell_type": "markdown",
   "id": "400f0566-6c92-4243-81ea-8b42854c0d34",
   "metadata": {},
   "source": [
    "The system has water molecules. Let's work only with the proteins."
   ]
  },
  {
   "cell_type": "code",
   "execution_count": null,
   "id": "402451e7-cba7-4bea-b204-936c625d131f",
   "metadata": {},
   "outputs": [],
   "source": [
    "molecular_system = msm.extract(molecular_system, selection='molecule_type==\"protein\"')"
   ]
  },
  {
   "cell_type": "code",
   "execution_count": null,
   "id": "f1cfcf09-bb0c-4b42-89ce-812ba4eb1136",
   "metadata": {},
   "outputs": [],
   "source": [
    "msm.info(molecular_system)"
   ]
  },
  {
   "cell_type": "markdown",
   "id": "c4b0a1a3-60dd-4b7e-b3bb-488e5b66d458",
   "metadata": {},
   "source": [
    "As we said above, {func}`molsysmt.basic.info` can be used to get descriptions of the molecular system at different levels of complexity  looking accordint to its composing elements: atoms, groups, components, chains, molecules or entities."
   ]
  },
  {
   "cell_type": "code",
   "execution_count": null,
   "id": "8adce55f-f5e2-41e2-b09b-717b50db7ad5",
   "metadata": {},
   "outputs": [],
   "source": [
    "msm.info(molecular_system, element='molecule')"
   ]
  },
  {
   "cell_type": "code",
   "execution_count": null,
   "id": "c6254a50-15c4-452d-9530-ad0afc819861",
   "metadata": {},
   "outputs": [],
   "source": [
    "msm.info(molecular_system, element='chain')"
   ]
  },
  {
   "cell_type": "markdown",
   "id": "12540869-4734-4d60-b176-3ac63988636a",
   "metadata": {},
   "source": [
    "This way we get to know that the system is composed by three barnase and three barstar monomers. Those with chain name $B$ and $F$ are longer and compact (they have all their atoms covalently bonded -no missing residues-). Unfortunately, these monomers belong to different dimers as we can see with {func}`molsysmt.basic.view`:"
   ]
  },
  {
   "cell_type": "code",
   "execution_count": null,
   "id": "d9680dd0-3ac7-4241-98fd-e7a5dcc05f37",
   "metadata": {
    "editable": true,
    "slideshow": {
     "slide_type": ""
    },
    "tags": [
     "remove-input"
    ]
   },
   "outputs": [],
   "source": [
    "# This cell is removed with the tag: \"remove-input\"\n",
    "# As such, it will not be shown in documentation\n",
    "\n",
    "nglview_htmlfile = '../../_static/nglview/barnase_barstar_1.html'"
   ]
  },
  {
   "cell_type": "code",
   "execution_count": null,
   "id": "d9b5135e-3737-418f-b47c-e83b9d206e05",
   "metadata": {},
   "outputs": [],
   "source": [
    "msm.view(molecular_system, viewer='NGLView')"
   ]
  },
  {
   "cell_type": "code",
   "execution_count": null,
   "id": "c8f9124c-9b18-42e6-a74b-147d80792512",
   "metadata": {},
   "outputs": [],
   "source": [
    "msm.config._view_from_htmlfiles"
   ]
  },
  {
   "cell_type": "code",
   "execution_count": null,
   "id": "1852dcfb-2793-4e27-99be-db88556e468b",
   "metadata": {
    "editable": true,
    "slideshow": {
     "slide_type": ""
    },
    "tags": [
     "remove-input"
    ]
   },
   "outputs": [],
   "source": [
    "# This cell is removed with the tag: \"remove-input\"\n",
    "# As such, it will not be shown in documentation\n",
    "\n",
    "if False:\n",
    "    # to write an html the view had to be displayed in a cell before\n",
    "    msm.thirds.nglview.write_html(view, nglview_htmlfile)"
   ]
  },
  {
   "cell_type": "markdown",
   "id": "b64734f7-de86-4f30-b2f0-c7ca63226a79",
   "metadata": {},
   "source": [
    "## Form a new complex\n",
    "\n",
    "To form a new barnase-barstar complex, let's make a structural alignment of the barstar with chain name $F$ over the barstar with chain name $E$. This way, $F$ will be in its bounded position to barnase ($B$). But first let's extract these three monomers:"
   ]
  },
  {
   "cell_type": "code",
   "execution_count": null,
   "id": "0fe6ad16-5306-4a00-b813-a93434a2ea45",
   "metadata": {},
   "outputs": [],
   "source": [
    "barnase = msm.extract(molecular_system, selection=\"chain_name=='B'\")\n",
    "barstar_E = msm.extract(molecular_system, selection=\"chain_name=='E'\")\n",
    "barstar_F = msm.extract(molecular_system, selection=\"chain_name=='F'\")"
   ]
  },
  {
   "cell_type": "code",
   "execution_count": null,
   "id": "2b6268cd-caa6-41e7-927e-99210621abd3",
   "metadata": {
    "editable": true,
    "slideshow": {
     "slide_type": ""
    },
    "tags": [
     "remove-input"
    ]
   },
   "outputs": [],
   "source": [
    "# This cell is removed with the tag: \"remove-input\"\n",
    "# As such, it will not be shown in documentation\n",
    "\n",
    "nglview_htmlfile = '../../_static/nglview/barnase_barstar_2.html'"
   ]
  },
  {
   "cell_type": "code",
   "execution_count": null,
   "id": "22cbcbdb-44b6-4652-b8cf-69861f9a99f0",
   "metadata": {},
   "outputs": [],
   "source": [
    "msm.view([barnase, barstar_E, barstar_F], viewer='NGLView')"
   ]
  },
  {
   "cell_type": "code",
   "execution_count": null,
   "id": "ea3b134f-8a35-4601-b17c-532e6504de1a",
   "metadata": {
    "editable": true,
    "slideshow": {
     "slide_type": ""
    },
    "tags": [
     "remove-input"
    ]
   },
   "outputs": [],
   "source": [
    "# This cell is removed with the tag: \"remove-input\"\n",
    "# As such, it will not be shown in documentation\n",
    "\n",
    "if False:\n",
    "    # to write an html the view had to be displayed in a cell before\n",
    "    msm.thirds.nglview.write_html(view, nglview_htmlfile)"
   ]
  },
  {
   "cell_type": "markdown",
   "id": "4773c579-d3ad-48f0-aac7-175b25d05361",
   "metadata": {},
   "source": [
    "We can already work with {func}`molsysmt.structure.align` to overlap the structure of $E$ over $F$:"
   ]
  },
  {
   "cell_type": "code",
   "execution_count": null,
   "id": "3f6ff7b5-6743-405f-b38a-df2b26b37220",
   "metadata": {},
   "outputs": [],
   "source": [
    "barstar_F_over_E = msm.structure.align(barstar_F, selection='atom_name==\"CA\"',\n",
    "                                       reference_molecular_system=barstar_E, reference_selection='atom_name==\"CA\"')"
   ]
  },
  {
   "cell_type": "code",
   "execution_count": null,
   "id": "51d5b2ef-f47a-45e3-865d-834922656194",
   "metadata": {
    "editable": true,
    "slideshow": {
     "slide_type": ""
    },
    "tags": [
     "remove-input"
    ]
   },
   "outputs": [],
   "source": [
    "# This cell is removed with the tag: \"remove-input\"\n",
    "# As such, it will not be shown in documentation\n",
    "\n",
    "nglview_htmlfile = '../../_static/nglview/barnase_barstar_3.html'"
   ]
  },
  {
   "cell_type": "code",
   "execution_count": null,
   "id": "4ba2065c-7c69-4f7b-9eef-42c43186c091",
   "metadata": {},
   "outputs": [],
   "source": [
    "msm.view([barnase, barstar_E, barstar_F_over_E], viewer='NGLView')"
   ]
  },
  {
   "cell_type": "code",
   "execution_count": null,
   "id": "a926d555-db90-4f67-af7d-ef4897044c8b",
   "metadata": {
    "editable": true,
    "slideshow": {
     "slide_type": ""
    },
    "tags": [
     "remove-input"
    ]
   },
   "outputs": [],
   "source": [
    "# This cell is removed with the tag: \"remove-input\"\n",
    "# As such, it will not be shown in documentation\n",
    "\n",
    "if False:\n",
    "    # to write an html the view had to be displayed in a cell before\n",
    "    msm.thirds.nglview.write_html(view, nglview_htmlfile)"
   ]
  },
  {
   "cell_type": "markdown",
   "id": "ca3251cc-918f-4663-a60b-24cdec2f6ef7",
   "metadata": {},
   "source": [
    "We can finnally produce our new dimer with {func}`molsysmt.basic.merge`:"
   ]
  },
  {
   "cell_type": "code",
   "execution_count": null,
   "id": "5e215d45-fc61-4e47-964d-39b21725ace2",
   "metadata": {},
   "outputs": [],
   "source": [
    "barnase_barstar = msm.merge([barnase, barstar_F_over_E])"
   ]
  },
  {
   "cell_type": "code",
   "execution_count": null,
   "id": "efc8d3a0-62ae-4a72-b5f3-aab50b12f0de",
   "metadata": {
    "editable": true,
    "slideshow": {
     "slide_type": ""
    },
    "tags": [
     "remove-input"
    ]
   },
   "outputs": [],
   "source": [
    "# This cell is removed with the tag: \"remove-input\"\n",
    "# As such, it will not be shown in documentation\n",
    "\n",
    "nglview_htmlfile = '../../_static/nglview/barnase_barstar_4.html'"
   ]
  },
  {
   "cell_type": "code",
   "execution_count": null,
   "id": "fadc4580-9301-4861-b136-ca8eb3a2d13c",
   "metadata": {},
   "outputs": [],
   "source": [
    "msm.view(barnase_barstar, viewer='NGLView')"
   ]
  },
  {
   "cell_type": "code",
   "execution_count": null,
   "id": "32ee60bd-9516-4c5c-8e09-13613768e1cf",
   "metadata": {
    "editable": true,
    "slideshow": {
     "slide_type": ""
    },
    "tags": [
     "remove-input"
    ]
   },
   "outputs": [],
   "source": [
    "# This cell is removed with the tag: \"remove-input\"\n",
    "# As such, it will not be shown in documentation\n",
    "\n",
    "if False:\n",
    "    # to write an html the view had to be displayed in a cell before\n",
    "    msm.thirds.nglview.write_html(view, nglview_htmlfile)"
   ]
  },
  {
   "cell_type": "markdown",
   "id": "d8850210-cbac-415e-9d69-e33257d0f0b3",
   "metadata": {},
   "source": [
    "## Complete the molecular system\n",
    "\n",
    "Some structures deposited in the Protein Data Bank have atoms with alternate locations, and missing residues or atoms. Let's check if this is the case of our new dimer with the assitance of {func}`molsysmt.build.get_atoms_with_alternate_locations`, {func}`molsysmt.build.get_missing_heavy_atoms`, {func}`molsysmt.build.get_missing_residues`, and {func}`molsysmt.basic.contains`:"
   ]
  },
  {
   "cell_type": "code",
   "execution_count": null,
   "id": "22f4f5b2-a7d0-4da5-9b83-4e6bcd4d33fe",
   "metadata": {},
   "outputs": [],
   "source": [
    "msm.get(barnase_barstar, alternate_locations=True)"
   ]
  },
  {
   "cell_type": "code",
   "execution_count": null,
   "id": "40e44298-1802-4ae8-8e2e-10ec7f5a749e",
   "metadata": {},
   "outputs": [],
   "source": [
    "msm.build.get_missing_heavy_atoms(barnase_barstar)"
   ]
  },
  {
   "cell_type": "code",
   "execution_count": null,
   "id": "e1807d5a-2982-46af-ae5e-10ce1191770d",
   "metadata": {},
   "outputs": [],
   "source": [
    "msm.build.get_missing_residues(barnase_barstar)"
   ]
  },
  {
   "cell_type": "code",
   "execution_count": null,
   "id": "69577990-8162-463e-a78e-8d250c3e6578",
   "metadata": {},
   "outputs": [],
   "source": [
    "msm.contains(barnase_barstar, selection='hydrogens')"
   ]
  },
  {
   "cell_type": "markdown",
   "id": "742a922b-184f-45de-8198-42456106072b",
   "metadata": {},
   "source": [
    "Our complex has no hydrogens -1BRS was solved indeed by x ray crystallography- and some heavy atoms are missing. Let's solve these defects with {func}`molsysmt.build.add_missing_heavy_atoms` and {func}`molsysmt.build.add_missing_hydrogens`:"
   ]
  },
  {
   "cell_type": "code",
   "execution_count": null,
   "id": "8077b8ee-fb4f-4e21-b771-3e12b1350f30",
   "metadata": {},
   "outputs": [],
   "source": [
    "barnase_barstar = msm.build.add_missing_heavy_atoms(barnase_barstar)"
   ]
  },
  {
   "cell_type": "code",
   "execution_count": null,
   "id": "cf935ced-e7ef-4d84-b385-01d7f2954652",
   "metadata": {},
   "outputs": [],
   "source": [
    "barnase_barstar = msm.build.add_missing_hydrogens(barnase_barstar, pH=7.4)"
   ]
  },
  {
   "cell_type": "code",
   "execution_count": null,
   "id": "9bb4f458-5437-4d43-8059-5160a6b1a4ca",
   "metadata": {},
   "outputs": [],
   "source": [
    "msm.get(barnase_barstar, element='atom', selection='atom_type==\"H\"', n_atoms=True)"
   ]
  },
  {
   "cell_type": "markdown",
   "id": "6d3e73a9-c7fc-4464-a0f4-ea609164bd91",
   "metadata": {},
   "source": [
    "## Write a pdb file with the new dimer\n",
    "\n",
    "To conclude this exercise, the new molecular system can be converted to a pdb file:"
   ]
  },
  {
   "cell_type": "code",
   "execution_count": null,
   "id": "cff30765-8a8f-458a-96d3-68872cf27e73",
   "metadata": {},
   "outputs": [],
   "source": [
    "msm.convert(barnase_barstar, to_form='barnase_barstar.pdb')"
   ]
  },
  {
   "cell_type": "code",
   "execution_count": null,
   "id": "b07afd89-5935-4157-8537-e6a8d8b2cdaa",
   "metadata": {
    "editable": true,
    "slideshow": {
     "slide_type": ""
    },
    "tags": [
     "remove-input"
    ]
   },
   "outputs": [],
   "source": [
    "# This cell is removed with the tag: \"remove-input\"\n",
    "# As such, it will not be shown in documentation\n",
    "\n",
    "from os import remove\n",
    "remove('barnase_barstar.pdb')"
   ]
  }
 ],
 "metadata": {
  "kernelspec": {
   "display_name": "Python 3 (ipykernel)",
   "language": "python",
   "name": "python3"
  },
  "language_info": {
   "codemirror_mode": {
    "name": "ipython",
    "version": 3
   },
   "file_extension": ".py",
   "mimetype": "text/x-python",
   "name": "python",
   "nbconvert_exporter": "python",
   "pygments_lexer": "ipython3",
   "version": "3.10.12"
  }
 },
 "nbformat": 4,
 "nbformat_minor": 5
}
