{
 "cells": [
  {
   "cell_type": "code",
   "execution_count": 1,
   "id": "0a64f9c5-c973-4b05-b412-baa15298f60e",
   "metadata": {
    "editable": true,
    "execution": {
     "iopub.execute_input": "2025-03-27T05:39:37.703890Z",
     "iopub.status.busy": "2025-03-27T05:39:37.702787Z",
     "iopub.status.idle": "2025-03-27T05:39:37.719798Z",
     "shell.execute_reply": "2025-03-27T05:39:37.717748Z"
    },
    "slideshow": {
     "slide_type": ""
    },
    "tags": [
     "remove-input"
    ]
   },
   "outputs": [],
   "source": [
    "# This cell is removed with the tag: \"remove-input\"\n",
    "# As such, it will not be shown in documentation\n",
    "\n",
    "# import warnings\n",
    "# warnings.filterwarnings('ignore')"
   ]
  },
  {
   "cell_type": "markdown",
   "id": "38b196fd-7966-4ee9-95ed-907e20a6f1af",
   "metadata": {},
   "source": [
    "# Barnase-Barstar\n",
    "\n",
    "The structure with PDB id [1BRS](https://www.rcsb.org/structure/1BRS) has three barnase-barstar complexes in its unit cell, but none of them has their monomers sequences complete. However, we can find a barnase and a barstar monomer without missing residues coming from different dimers. If we want to prepare a good complex with them, we only need to follow these steps:\n",
    "\n",
    "    1- Download the molecular system from the protein data bank.\n",
    "    2- Inspect the molecular system to identify the monomers we want to extract.\n",
    "    3- Form a new complex with the chosen monomers.\n",
    "    4- Complete the complex with the missing atoms.\n",
    "    5- Write the new barnase-barstar complex as a pdb file."
   ]
  },
  {
   "cell_type": "markdown",
   "id": "5ab514f8-dcfb-4ac5-80eb-5ecae3702cda",
   "metadata": {},
   "source": [
    "## Download the molecular system\n",
    "\n",
    "Let's download the 1BRS molecular system with MolSysMT:"
   ]
  },
  {
   "cell_type": "code",
   "execution_count": 2,
   "id": "96a0a88e-777b-4134-bb1b-2c96ac62d61b",
   "metadata": {
    "execution": {
     "iopub.execute_input": "2025-03-27T05:39:37.727563Z",
     "iopub.status.busy": "2025-03-27T05:39:37.726806Z",
     "iopub.status.idle": "2025-03-27T05:39:42.279233Z",
     "shell.execute_reply": "2025-03-27T05:39:42.278452Z"
    }
   },
   "outputs": [
    {
     "data": {
      "application/vnd.jupyter.widget-view+json": {
       "model_id": "a93b9cad35f54c44a6d4bfb8178020d4",
       "version_major": 2,
       "version_minor": 0
      },
      "text/plain": []
     },
     "metadata": {},
     "output_type": "display_data"
    }
   ],
   "source": [
    "import molsysmt as msm"
   ]
  },
  {
   "cell_type": "code",
   "execution_count": 3,
   "id": "0beea7d1-6e73-4b82-9e18-b5644df644fb",
   "metadata": {
    "execution": {
     "iopub.execute_input": "2025-03-27T05:39:42.281506Z",
     "iopub.status.busy": "2025-03-27T05:39:42.281094Z",
     "iopub.status.idle": "2025-03-27T05:39:44.043006Z",
     "shell.execute_reply": "2025-03-27T05:39:44.042413Z"
    }
   },
   "outputs": [],
   "source": [
    "molecular_system = msm.convert('1BRS')"
   ]
  },
  {
   "cell_type": "markdown",
   "id": "414af641-d77d-46bb-aa71-beae327be4a4",
   "metadata": {},
   "source": [
    "## Inspect the molecular system"
   ]
  },
  {
   "cell_type": "markdown",
   "id": "4ca7fa1c-c8b0-4521-b237-97c0ff4bf261",
   "metadata": {},
   "source": [
    "The basic method {func}`molsysmt.basic.info` it is a good tool to inspect the molecular system at different levels. Let's ask this method for a first overview of the molecular system:"
   ]
  },
  {
   "cell_type": "code",
   "execution_count": 4,
   "id": "98166039-5610-4d90-b8cf-5105d9aaac52",
   "metadata": {
    "execution": {
     "iopub.execute_input": "2025-03-27T05:39:44.045928Z",
     "iopub.status.busy": "2025-03-27T05:39:44.045455Z",
     "iopub.status.idle": "2025-03-27T05:39:45.377416Z",
     "shell.execute_reply": "2025-03-27T05:39:45.376829Z"
    }
   },
   "outputs": [
    {
     "data": {
      "text/html": [
       "<style type=\"text/css\">\n",
       "</style>\n",
       "<table id=\"T_fc4a1\">\n",
       "  <thead>\n",
       "    <tr>\n",
       "      <th id=\"T_fc4a1_level0_col0\" class=\"col_heading level0 col0\" >form</th>\n",
       "      <th id=\"T_fc4a1_level0_col1\" class=\"col_heading level0 col1\" >n_atoms</th>\n",
       "      <th id=\"T_fc4a1_level0_col2\" class=\"col_heading level0 col2\" >n_groups</th>\n",
       "      <th id=\"T_fc4a1_level0_col3\" class=\"col_heading level0 col3\" >n_components</th>\n",
       "      <th id=\"T_fc4a1_level0_col4\" class=\"col_heading level0 col4\" >n_chains</th>\n",
       "      <th id=\"T_fc4a1_level0_col5\" class=\"col_heading level0 col5\" >n_molecules</th>\n",
       "      <th id=\"T_fc4a1_level0_col6\" class=\"col_heading level0 col6\" >n_entities</th>\n",
       "      <th id=\"T_fc4a1_level0_col7\" class=\"col_heading level0 col7\" >n_waters</th>\n",
       "      <th id=\"T_fc4a1_level0_col8\" class=\"col_heading level0 col8\" >n_proteins</th>\n",
       "      <th id=\"T_fc4a1_level0_col9\" class=\"col_heading level0 col9\" >n_structures</th>\n",
       "    </tr>\n",
       "  </thead>\n",
       "  <tbody>\n",
       "    <tr>\n",
       "      <td id=\"T_fc4a1_row0_col0\" class=\"data row0 col0\" >molsysmt.MolSys</td>\n",
       "      <td id=\"T_fc4a1_row0_col1\" class=\"data row0 col1\" >5151</td>\n",
       "      <td id=\"T_fc4a1_row0_col2\" class=\"data row0 col2\" >1101</td>\n",
       "      <td id=\"T_fc4a1_row0_col3\" class=\"data row0 col3\" >521</td>\n",
       "      <td id=\"T_fc4a1_row0_col4\" class=\"data row0 col4\" >12</td>\n",
       "      <td id=\"T_fc4a1_row0_col5\" class=\"data row0 col5\" >519</td>\n",
       "      <td id=\"T_fc4a1_row0_col6\" class=\"data row0 col6\" >3</td>\n",
       "      <td id=\"T_fc4a1_row0_col7\" class=\"data row0 col7\" >513</td>\n",
       "      <td id=\"T_fc4a1_row0_col8\" class=\"data row0 col8\" >6</td>\n",
       "      <td id=\"T_fc4a1_row0_col9\" class=\"data row0 col9\" >1</td>\n",
       "    </tr>\n",
       "  </tbody>\n",
       "</table>\n"
      ],
      "text/plain": [
       "<pandas.io.formats.style.Styler at 0x77d1a5b68dd0>"
      ]
     },
     "execution_count": 4,
     "metadata": {},
     "output_type": "execute_result"
    }
   ],
   "source": [
    "msm.info(molecular_system)"
   ]
  },
  {
   "cell_type": "markdown",
   "id": "50283e10-846e-4445-8b45-180682b10a3e",
   "metadata": {},
   "source": [
    "```{admonition} Note\n",
    ":class: note\n",
    "All methods defined in the `molsysmt.basic` module can be invoked also from the main level of the library. As such, `molsysmt.info` is the same method as `molsysmt.basic.info`.\n",
    "```"
   ]
  },
  {
   "cell_type": "markdown",
   "id": "400f0566-6c92-4243-81ea-8b42854c0d34",
   "metadata": {},
   "source": [
    "The system has water molecules. Let's work only with the proteins."
   ]
  },
  {
   "cell_type": "code",
   "execution_count": 5,
   "id": "402451e7-cba7-4bea-b204-936c625d131f",
   "metadata": {
    "execution": {
     "iopub.execute_input": "2025-03-27T05:39:45.379842Z",
     "iopub.status.busy": "2025-03-27T05:39:45.379477Z",
     "iopub.status.idle": "2025-03-27T05:39:45.561212Z",
     "shell.execute_reply": "2025-03-27T05:39:45.560565Z"
    }
   },
   "outputs": [],
   "source": [
    "molecular_system = msm.extract(molecular_system, selection='molecule_type==\"protein\"')"
   ]
  },
  {
   "cell_type": "code",
   "execution_count": 6,
   "id": "f1cfcf09-bb0c-4b42-89ce-812ba4eb1136",
   "metadata": {
    "execution": {
     "iopub.execute_input": "2025-03-27T05:39:45.563705Z",
     "iopub.status.busy": "2025-03-27T05:39:45.563396Z",
     "iopub.status.idle": "2025-03-27T05:39:46.843851Z",
     "shell.execute_reply": "2025-03-27T05:39:46.842968Z"
    }
   },
   "outputs": [
    {
     "data": {
      "text/html": [
       "<style type=\"text/css\">\n",
       "</style>\n",
       "<table id=\"T_07c51\">\n",
       "  <thead>\n",
       "    <tr>\n",
       "      <th id=\"T_07c51_level0_col0\" class=\"col_heading level0 col0\" >form</th>\n",
       "      <th id=\"T_07c51_level0_col1\" class=\"col_heading level0 col1\" >n_atoms</th>\n",
       "      <th id=\"T_07c51_level0_col2\" class=\"col_heading level0 col2\" >n_groups</th>\n",
       "      <th id=\"T_07c51_level0_col3\" class=\"col_heading level0 col3\" >n_components</th>\n",
       "      <th id=\"T_07c51_level0_col4\" class=\"col_heading level0 col4\" >n_chains</th>\n",
       "      <th id=\"T_07c51_level0_col5\" class=\"col_heading level0 col5\" >n_molecules</th>\n",
       "      <th id=\"T_07c51_level0_col6\" class=\"col_heading level0 col6\" >n_entities</th>\n",
       "      <th id=\"T_07c51_level0_col7\" class=\"col_heading level0 col7\" >n_proteins</th>\n",
       "      <th id=\"T_07c51_level0_col8\" class=\"col_heading level0 col8\" >n_structures</th>\n",
       "    </tr>\n",
       "  </thead>\n",
       "  <tbody>\n",
       "    <tr>\n",
       "      <td id=\"T_07c51_row0_col0\" class=\"data row0 col0\" >molsysmt.MolSys</td>\n",
       "      <td id=\"T_07c51_row0_col1\" class=\"data row0 col1\" >4638</td>\n",
       "      <td id=\"T_07c51_row0_col2\" class=\"data row0 col2\" >588</td>\n",
       "      <td id=\"T_07c51_row0_col3\" class=\"data row0 col3\" >8</td>\n",
       "      <td id=\"T_07c51_row0_col4\" class=\"data row0 col4\" >6</td>\n",
       "      <td id=\"T_07c51_row0_col5\" class=\"data row0 col5\" >6</td>\n",
       "      <td id=\"T_07c51_row0_col6\" class=\"data row0 col6\" >2</td>\n",
       "      <td id=\"T_07c51_row0_col7\" class=\"data row0 col7\" >6</td>\n",
       "      <td id=\"T_07c51_row0_col8\" class=\"data row0 col8\" >1</td>\n",
       "    </tr>\n",
       "  </tbody>\n",
       "</table>\n"
      ],
      "text/plain": [
       "<pandas.io.formats.style.Styler at 0x77d19e04ede0>"
      ]
     },
     "execution_count": 6,
     "metadata": {},
     "output_type": "execute_result"
    }
   ],
   "source": [
    "msm.info(molecular_system)"
   ]
  },
  {
   "cell_type": "markdown",
   "id": "c4b0a1a3-60dd-4b7e-b3bb-488e5b66d458",
   "metadata": {},
   "source": [
    "As we said above, {func}`molsysmt.basic.info` can be used to get descriptions of the molecular system at different levels of complexity  looking accordint to its composing elements: atoms, groups, components, chains, molecules or entities."
   ]
  },
  {
   "cell_type": "code",
   "execution_count": 7,
   "id": "8adce55f-f5e2-41e2-b09b-717b50db7ad5",
   "metadata": {
    "execution": {
     "iopub.execute_input": "2025-03-27T05:39:46.846424Z",
     "iopub.status.busy": "2025-03-27T05:39:46.845836Z",
     "iopub.status.idle": "2025-03-27T05:39:47.598923Z",
     "shell.execute_reply": "2025-03-27T05:39:47.598268Z"
    }
   },
   "outputs": [
    {
     "data": {
      "text/html": [
       "<style type=\"text/css\">\n",
       "</style>\n",
       "<table id=\"T_5852b\">\n",
       "  <thead>\n",
       "    <tr>\n",
       "      <th id=\"T_5852b_level0_col0\" class=\"col_heading level0 col0\" >index</th>\n",
       "      <th id=\"T_5852b_level0_col1\" class=\"col_heading level0 col1\" >name</th>\n",
       "      <th id=\"T_5852b_level0_col2\" class=\"col_heading level0 col2\" >type</th>\n",
       "      <th id=\"T_5852b_level0_col3\" class=\"col_heading level0 col3\" >n atoms</th>\n",
       "      <th id=\"T_5852b_level0_col4\" class=\"col_heading level0 col4\" >n groups</th>\n",
       "      <th id=\"T_5852b_level0_col5\" class=\"col_heading level0 col5\" >n components</th>\n",
       "      <th id=\"T_5852b_level0_col6\" class=\"col_heading level0 col6\" >chain index</th>\n",
       "      <th id=\"T_5852b_level0_col7\" class=\"col_heading level0 col7\" >entity index</th>\n",
       "      <th id=\"T_5852b_level0_col8\" class=\"col_heading level0 col8\" >entity name</th>\n",
       "    </tr>\n",
       "  </thead>\n",
       "  <tbody>\n",
       "    <tr>\n",
       "      <td id=\"T_5852b_row0_col0\" class=\"data row0 col0\" >0</td>\n",
       "      <td id=\"T_5852b_row0_col1\" class=\"data row0 col1\" >BARNASE</td>\n",
       "      <td id=\"T_5852b_row0_col2\" class=\"data row0 col2\" >protein</td>\n",
       "      <td id=\"T_5852b_row0_col3\" class=\"data row0 col3\" >864</td>\n",
       "      <td id=\"T_5852b_row0_col4\" class=\"data row0 col4\" >108</td>\n",
       "      <td id=\"T_5852b_row0_col5\" class=\"data row0 col5\" >1</td>\n",
       "      <td id=\"T_5852b_row0_col6\" class=\"data row0 col6\" >0</td>\n",
       "      <td id=\"T_5852b_row0_col7\" class=\"data row0 col7\" >0</td>\n",
       "      <td id=\"T_5852b_row0_col8\" class=\"data row0 col8\" >BARNASE</td>\n",
       "    </tr>\n",
       "    <tr>\n",
       "      <td id=\"T_5852b_row1_col0\" class=\"data row1 col0\" >1</td>\n",
       "      <td id=\"T_5852b_row1_col1\" class=\"data row1 col1\" >BARNASE</td>\n",
       "      <td id=\"T_5852b_row1_col2\" class=\"data row1 col2\" >protein</td>\n",
       "      <td id=\"T_5852b_row1_col3\" class=\"data row1 col3\" >878</td>\n",
       "      <td id=\"T_5852b_row1_col4\" class=\"data row1 col4\" >110</td>\n",
       "      <td id=\"T_5852b_row1_col5\" class=\"data row1 col5\" >1</td>\n",
       "      <td id=\"T_5852b_row1_col6\" class=\"data row1 col6\" >1</td>\n",
       "      <td id=\"T_5852b_row1_col7\" class=\"data row1 col7\" >0</td>\n",
       "      <td id=\"T_5852b_row1_col8\" class=\"data row1 col8\" >BARNASE</td>\n",
       "    </tr>\n",
       "    <tr>\n",
       "      <td id=\"T_5852b_row2_col0\" class=\"data row2 col0\" >2</td>\n",
       "      <td id=\"T_5852b_row2_col1\" class=\"data row2 col1\" >BARNASE</td>\n",
       "      <td id=\"T_5852b_row2_col2\" class=\"data row2 col2\" >protein</td>\n",
       "      <td id=\"T_5852b_row2_col3\" class=\"data row2 col3\" >839</td>\n",
       "      <td id=\"T_5852b_row2_col4\" class=\"data row2 col4\" >108</td>\n",
       "      <td id=\"T_5852b_row2_col5\" class=\"data row2 col5\" >1</td>\n",
       "      <td id=\"T_5852b_row2_col6\" class=\"data row2 col6\" >2</td>\n",
       "      <td id=\"T_5852b_row2_col7\" class=\"data row2 col7\" >0</td>\n",
       "      <td id=\"T_5852b_row2_col8\" class=\"data row2 col8\" >BARNASE</td>\n",
       "    </tr>\n",
       "    <tr>\n",
       "      <td id=\"T_5852b_row3_col0\" class=\"data row3 col0\" >3</td>\n",
       "      <td id=\"T_5852b_row3_col1\" class=\"data row3 col1\" >BARSTAR</td>\n",
       "      <td id=\"T_5852b_row3_col2\" class=\"data row3 col2\" >protein</td>\n",
       "      <td id=\"T_5852b_row3_col3\" class=\"data row3 col3\" >693</td>\n",
       "      <td id=\"T_5852b_row3_col4\" class=\"data row3 col4\" >87</td>\n",
       "      <td id=\"T_5852b_row3_col5\" class=\"data row3 col5\" >2</td>\n",
       "      <td id=\"T_5852b_row3_col6\" class=\"data row3 col6\" >3</td>\n",
       "      <td id=\"T_5852b_row3_col7\" class=\"data row3 col7\" >1</td>\n",
       "      <td id=\"T_5852b_row3_col8\" class=\"data row3 col8\" >BARSTAR</td>\n",
       "    </tr>\n",
       "    <tr>\n",
       "      <td id=\"T_5852b_row4_col0\" class=\"data row4 col0\" >4</td>\n",
       "      <td id=\"T_5852b_row4_col1\" class=\"data row4 col1\" >BARSTAR</td>\n",
       "      <td id=\"T_5852b_row4_col2\" class=\"data row4 col2\" >protein</td>\n",
       "      <td id=\"T_5852b_row4_col3\" class=\"data row4 col3\" >665</td>\n",
       "      <td id=\"T_5852b_row4_col4\" class=\"data row4 col4\" >86</td>\n",
       "      <td id=\"T_5852b_row4_col5\" class=\"data row4 col5\" >2</td>\n",
       "      <td id=\"T_5852b_row4_col6\" class=\"data row4 col6\" >4</td>\n",
       "      <td id=\"T_5852b_row4_col7\" class=\"data row4 col7\" >1</td>\n",
       "      <td id=\"T_5852b_row4_col8\" class=\"data row4 col8\" >BARSTAR</td>\n",
       "    </tr>\n",
       "    <tr>\n",
       "      <td id=\"T_5852b_row5_col0\" class=\"data row5 col0\" >5</td>\n",
       "      <td id=\"T_5852b_row5_col1\" class=\"data row5 col1\" >BARSTAR</td>\n",
       "      <td id=\"T_5852b_row5_col2\" class=\"data row5 col2\" >protein</td>\n",
       "      <td id=\"T_5852b_row5_col3\" class=\"data row5 col3\" >699</td>\n",
       "      <td id=\"T_5852b_row5_col4\" class=\"data row5 col4\" >89</td>\n",
       "      <td id=\"T_5852b_row5_col5\" class=\"data row5 col5\" >1</td>\n",
       "      <td id=\"T_5852b_row5_col6\" class=\"data row5 col6\" >5</td>\n",
       "      <td id=\"T_5852b_row5_col7\" class=\"data row5 col7\" >1</td>\n",
       "      <td id=\"T_5852b_row5_col8\" class=\"data row5 col8\" >BARSTAR</td>\n",
       "    </tr>\n",
       "  </tbody>\n",
       "</table>\n"
      ],
      "text/plain": [
       "<pandas.io.formats.style.Styler at 0x77d19e2faae0>"
      ]
     },
     "execution_count": 7,
     "metadata": {},
     "output_type": "execute_result"
    }
   ],
   "source": [
    "msm.info(molecular_system, element='molecule')"
   ]
  },
  {
   "cell_type": "code",
   "execution_count": 8,
   "id": "c6254a50-15c4-452d-9530-ad0afc819861",
   "metadata": {
    "execution": {
     "iopub.execute_input": "2025-03-27T05:39:47.601283Z",
     "iopub.status.busy": "2025-03-27T05:39:47.600704Z",
     "iopub.status.idle": "2025-03-27T05:39:48.450092Z",
     "shell.execute_reply": "2025-03-27T05:39:48.449190Z"
    }
   },
   "outputs": [
    {
     "data": {
      "text/html": [
       "<style type=\"text/css\">\n",
       "</style>\n",
       "<table id=\"T_4c6c9\">\n",
       "  <thead>\n",
       "    <tr>\n",
       "      <th id=\"T_4c6c9_level0_col0\" class=\"col_heading level0 col0\" >index</th>\n",
       "      <th id=\"T_4c6c9_level0_col1\" class=\"col_heading level0 col1\" >id</th>\n",
       "      <th id=\"T_4c6c9_level0_col2\" class=\"col_heading level0 col2\" >name</th>\n",
       "      <th id=\"T_4c6c9_level0_col3\" class=\"col_heading level0 col3\" >n atoms</th>\n",
       "      <th id=\"T_4c6c9_level0_col4\" class=\"col_heading level0 col4\" >n groups</th>\n",
       "      <th id=\"T_4c6c9_level0_col5\" class=\"col_heading level0 col5\" >n components</th>\n",
       "      <th id=\"T_4c6c9_level0_col6\" class=\"col_heading level0 col6\" >molecule index</th>\n",
       "      <th id=\"T_4c6c9_level0_col7\" class=\"col_heading level0 col7\" >molecule type</th>\n",
       "      <th id=\"T_4c6c9_level0_col8\" class=\"col_heading level0 col8\" >entity index</th>\n",
       "      <th id=\"T_4c6c9_level0_col9\" class=\"col_heading level0 col9\" >entity name</th>\n",
       "    </tr>\n",
       "  </thead>\n",
       "  <tbody>\n",
       "    <tr>\n",
       "      <td id=\"T_4c6c9_row0_col0\" class=\"data row0 col0\" >0</td>\n",
       "      <td id=\"T_4c6c9_row0_col1\" class=\"data row0 col1\" >0</td>\n",
       "      <td id=\"T_4c6c9_row0_col2\" class=\"data row0 col2\" >A</td>\n",
       "      <td id=\"T_4c6c9_row0_col3\" class=\"data row0 col3\" >864</td>\n",
       "      <td id=\"T_4c6c9_row0_col4\" class=\"data row0 col4\" >108</td>\n",
       "      <td id=\"T_4c6c9_row0_col5\" class=\"data row0 col5\" >1</td>\n",
       "      <td id=\"T_4c6c9_row0_col6\" class=\"data row0 col6\" >0</td>\n",
       "      <td id=\"T_4c6c9_row0_col7\" class=\"data row0 col7\" >protein</td>\n",
       "      <td id=\"T_4c6c9_row0_col8\" class=\"data row0 col8\" >0</td>\n",
       "      <td id=\"T_4c6c9_row0_col9\" class=\"data row0 col9\" >BARNASE</td>\n",
       "    </tr>\n",
       "    <tr>\n",
       "      <td id=\"T_4c6c9_row1_col0\" class=\"data row1 col0\" >1</td>\n",
       "      <td id=\"T_4c6c9_row1_col1\" class=\"data row1 col1\" >1</td>\n",
       "      <td id=\"T_4c6c9_row1_col2\" class=\"data row1 col2\" >B</td>\n",
       "      <td id=\"T_4c6c9_row1_col3\" class=\"data row1 col3\" >878</td>\n",
       "      <td id=\"T_4c6c9_row1_col4\" class=\"data row1 col4\" >110</td>\n",
       "      <td id=\"T_4c6c9_row1_col5\" class=\"data row1 col5\" >1</td>\n",
       "      <td id=\"T_4c6c9_row1_col6\" class=\"data row1 col6\" >1</td>\n",
       "      <td id=\"T_4c6c9_row1_col7\" class=\"data row1 col7\" >protein</td>\n",
       "      <td id=\"T_4c6c9_row1_col8\" class=\"data row1 col8\" >0</td>\n",
       "      <td id=\"T_4c6c9_row1_col9\" class=\"data row1 col9\" >BARNASE</td>\n",
       "    </tr>\n",
       "    <tr>\n",
       "      <td id=\"T_4c6c9_row2_col0\" class=\"data row2 col0\" >2</td>\n",
       "      <td id=\"T_4c6c9_row2_col1\" class=\"data row2 col1\" >2</td>\n",
       "      <td id=\"T_4c6c9_row2_col2\" class=\"data row2 col2\" >C</td>\n",
       "      <td id=\"T_4c6c9_row2_col3\" class=\"data row2 col3\" >839</td>\n",
       "      <td id=\"T_4c6c9_row2_col4\" class=\"data row2 col4\" >108</td>\n",
       "      <td id=\"T_4c6c9_row2_col5\" class=\"data row2 col5\" >1</td>\n",
       "      <td id=\"T_4c6c9_row2_col6\" class=\"data row2 col6\" >2</td>\n",
       "      <td id=\"T_4c6c9_row2_col7\" class=\"data row2 col7\" >protein</td>\n",
       "      <td id=\"T_4c6c9_row2_col8\" class=\"data row2 col8\" >0</td>\n",
       "      <td id=\"T_4c6c9_row2_col9\" class=\"data row2 col9\" >BARNASE</td>\n",
       "    </tr>\n",
       "    <tr>\n",
       "      <td id=\"T_4c6c9_row3_col0\" class=\"data row3 col0\" >3</td>\n",
       "      <td id=\"T_4c6c9_row3_col1\" class=\"data row3 col1\" >3</td>\n",
       "      <td id=\"T_4c6c9_row3_col2\" class=\"data row3 col2\" >D</td>\n",
       "      <td id=\"T_4c6c9_row3_col3\" class=\"data row3 col3\" >693</td>\n",
       "      <td id=\"T_4c6c9_row3_col4\" class=\"data row3 col4\" >87</td>\n",
       "      <td id=\"T_4c6c9_row3_col5\" class=\"data row3 col5\" >2</td>\n",
       "      <td id=\"T_4c6c9_row3_col6\" class=\"data row3 col6\" >3</td>\n",
       "      <td id=\"T_4c6c9_row3_col7\" class=\"data row3 col7\" >protein</td>\n",
       "      <td id=\"T_4c6c9_row3_col8\" class=\"data row3 col8\" >1</td>\n",
       "      <td id=\"T_4c6c9_row3_col9\" class=\"data row3 col9\" >BARSTAR</td>\n",
       "    </tr>\n",
       "    <tr>\n",
       "      <td id=\"T_4c6c9_row4_col0\" class=\"data row4 col0\" >4</td>\n",
       "      <td id=\"T_4c6c9_row4_col1\" class=\"data row4 col1\" >4</td>\n",
       "      <td id=\"T_4c6c9_row4_col2\" class=\"data row4 col2\" >E</td>\n",
       "      <td id=\"T_4c6c9_row4_col3\" class=\"data row4 col3\" >665</td>\n",
       "      <td id=\"T_4c6c9_row4_col4\" class=\"data row4 col4\" >86</td>\n",
       "      <td id=\"T_4c6c9_row4_col5\" class=\"data row4 col5\" >2</td>\n",
       "      <td id=\"T_4c6c9_row4_col6\" class=\"data row4 col6\" >4</td>\n",
       "      <td id=\"T_4c6c9_row4_col7\" class=\"data row4 col7\" >protein</td>\n",
       "      <td id=\"T_4c6c9_row4_col8\" class=\"data row4 col8\" >1</td>\n",
       "      <td id=\"T_4c6c9_row4_col9\" class=\"data row4 col9\" >BARSTAR</td>\n",
       "    </tr>\n",
       "    <tr>\n",
       "      <td id=\"T_4c6c9_row5_col0\" class=\"data row5 col0\" >5</td>\n",
       "      <td id=\"T_4c6c9_row5_col1\" class=\"data row5 col1\" >5</td>\n",
       "      <td id=\"T_4c6c9_row5_col2\" class=\"data row5 col2\" >F</td>\n",
       "      <td id=\"T_4c6c9_row5_col3\" class=\"data row5 col3\" >699</td>\n",
       "      <td id=\"T_4c6c9_row5_col4\" class=\"data row5 col4\" >89</td>\n",
       "      <td id=\"T_4c6c9_row5_col5\" class=\"data row5 col5\" >1</td>\n",
       "      <td id=\"T_4c6c9_row5_col6\" class=\"data row5 col6\" >5</td>\n",
       "      <td id=\"T_4c6c9_row5_col7\" class=\"data row5 col7\" >protein</td>\n",
       "      <td id=\"T_4c6c9_row5_col8\" class=\"data row5 col8\" >1</td>\n",
       "      <td id=\"T_4c6c9_row5_col9\" class=\"data row5 col9\" >BARSTAR</td>\n",
       "    </tr>\n",
       "  </tbody>\n",
       "</table>\n"
      ],
      "text/plain": [
       "<pandas.io.formats.style.Styler at 0x77d19e3373b0>"
      ]
     },
     "execution_count": 8,
     "metadata": {},
     "output_type": "execute_result"
    }
   ],
   "source": [
    "msm.info(molecular_system, element='chain')"
   ]
  },
  {
   "cell_type": "markdown",
   "id": "12540869-4734-4d60-b176-3ac63988636a",
   "metadata": {},
   "source": [
    "This way we get to know that the system is composed by three barnase and three barstar monomers. Those with chain name $B$ and $F$ are longer and compact (they have one component each: all their atoms covalently bonded -no missing residues-). Unfortunately, these monomers belong to different dimers as we can see with {func}`molsysmt.basic.view`:"
   ]
  },
  {
   "cell_type": "code",
   "execution_count": 9,
   "id": "d9680dd0-3ac7-4241-98fd-e7a5dcc05f37",
   "metadata": {
    "editable": true,
    "execution": {
     "iopub.execute_input": "2025-03-27T05:39:48.452214Z",
     "iopub.status.busy": "2025-03-27T05:39:48.451989Z",
     "iopub.status.idle": "2025-03-27T05:39:48.455363Z",
     "shell.execute_reply": "2025-03-27T05:39:48.454780Z"
    },
    "slideshow": {
     "slide_type": ""
    },
    "tags": [
     "remove-input"
    ]
   },
   "outputs": [],
   "source": [
    "# This cell is removed with the tag: \"remove-input\"\n",
    "# As such, it will not be shown in documentation\n",
    "\n",
    "nglview_htmlfile = '../../_static/nglview/barnase_barstar_1.html'"
   ]
  },
  {
   "cell_type": "code",
   "execution_count": 10,
   "id": "d9b5135e-3737-418f-b47c-e83b9d206e05",
   "metadata": {
    "execution": {
     "iopub.execute_input": "2025-03-27T05:39:48.457371Z",
     "iopub.status.busy": "2025-03-27T05:39:48.457121Z",
     "iopub.status.idle": "2025-03-27T05:39:48.533281Z",
     "shell.execute_reply": "2025-03-27T05:39:48.532592Z"
    }
   },
   "outputs": [
    {
     "data": {
      "text/html": [
       "\n",
       "        <iframe\n",
       "            width=\"100%\"\n",
       "            height=\"320vh\"\n",
       "            src=\"../../_static/nglview/barnase_barstar_1.html\"\n",
       "            frameborder=\"0\"\n",
       "            allowfullscreen\n",
       "            \n",
       "        ></iframe>\n",
       "        "
      ],
      "text/plain": [
       "<IPython.lib.display.IFrame at 0x77d2280955b0>"
      ]
     },
     "execution_count": 10,
     "metadata": {},
     "output_type": "execute_result"
    }
   ],
   "source": [
    "msm.view(molecular_system, viewer='NGLView')"
   ]
  },
  {
   "cell_type": "code",
   "execution_count": 11,
   "id": "1852dcfb-2793-4e27-99be-db88556e468b",
   "metadata": {
    "editable": true,
    "execution": {
     "iopub.execute_input": "2025-03-27T05:39:48.535474Z",
     "iopub.status.busy": "2025-03-27T05:39:48.535228Z",
     "iopub.status.idle": "2025-03-27T05:39:48.538882Z",
     "shell.execute_reply": "2025-03-27T05:39:48.538194Z"
    },
    "slideshow": {
     "slide_type": ""
    },
    "tags": [
     "remove-input"
    ]
   },
   "outputs": [],
   "source": [
    "# This cell is removed with the tag: \"remove-input\"\n",
    "# As such, it will not be shown in documentation\n",
    "\n",
    "if False:\n",
    "    # to write an html the view had to be displayed in a cell before\n",
    "    msm.thirds.nglview.write_html(view, nglview_htmlfile)"
   ]
  },
  {
   "cell_type": "markdown",
   "id": "b64734f7-de86-4f30-b2f0-c7ca63226a79",
   "metadata": {},
   "source": [
    "## Form a new complex\n",
    "\n",
    "To form a new barnase-barstar complex, let's make a structural alignment of the barstar with chain name $F$ over the barstar with chain name $E$. This way, $F$ will be in its bounded position to barnase $B$. But first let's extract these three monomers:"
   ]
  },
  {
   "cell_type": "code",
   "execution_count": 12,
   "id": "0fe6ad16-5306-4a00-b813-a93434a2ea45",
   "metadata": {
    "execution": {
     "iopub.execute_input": "2025-03-27T05:39:48.541732Z",
     "iopub.status.busy": "2025-03-27T05:39:48.541130Z",
     "iopub.status.idle": "2025-03-27T05:39:49.004249Z",
     "shell.execute_reply": "2025-03-27T05:39:49.003552Z"
    }
   },
   "outputs": [],
   "source": [
    "barnase = msm.extract(molecular_system, selection=\"chain_name=='B'\")\n",
    "barstar_E = msm.extract(molecular_system, selection=\"chain_name=='E'\")\n",
    "barstar_F = msm.extract(molecular_system, selection=\"chain_name=='F'\")"
   ]
  },
  {
   "cell_type": "code",
   "execution_count": 13,
   "id": "2b6268cd-caa6-41e7-927e-99210621abd3",
   "metadata": {
    "editable": true,
    "execution": {
     "iopub.execute_input": "2025-03-27T05:39:49.006356Z",
     "iopub.status.busy": "2025-03-27T05:39:49.006023Z",
     "iopub.status.idle": "2025-03-27T05:39:49.009228Z",
     "shell.execute_reply": "2025-03-27T05:39:49.008564Z"
    },
    "slideshow": {
     "slide_type": ""
    },
    "tags": [
     "remove-input"
    ]
   },
   "outputs": [],
   "source": [
    "# This cell is removed with the tag: \"remove-input\"\n",
    "# As such, it will not be shown in documentation\n",
    "\n",
    "nglview_htmlfile = '../../_static/nglview/barnase_barstar_2.html'"
   ]
  },
  {
   "cell_type": "code",
   "execution_count": 14,
   "id": "22cbcbdb-44b6-4652-b8cf-69861f9a99f0",
   "metadata": {
    "execution": {
     "iopub.execute_input": "2025-03-27T05:39:49.011320Z",
     "iopub.status.busy": "2025-03-27T05:39:49.010888Z",
     "iopub.status.idle": "2025-03-27T05:39:49.469375Z",
     "shell.execute_reply": "2025-03-27T05:39:49.468574Z"
    }
   },
   "outputs": [
    {
     "data": {
      "text/html": [
       "\n",
       "        <iframe\n",
       "            width=\"100%\"\n",
       "            height=\"320vh\"\n",
       "            src=\"../../_static/nglview/barnase_barstar_2.html\"\n",
       "            frameborder=\"0\"\n",
       "            allowfullscreen\n",
       "            \n",
       "        ></iframe>\n",
       "        "
      ],
      "text/plain": [
       "<IPython.lib.display.IFrame at 0x77d19e3a6540>"
      ]
     },
     "execution_count": 14,
     "metadata": {},
     "output_type": "execute_result"
    }
   ],
   "source": [
    "msm.view([barnase, barstar_E, barstar_F], viewer='NGLView')"
   ]
  },
  {
   "cell_type": "code",
   "execution_count": 15,
   "id": "ea3b134f-8a35-4601-b17c-532e6504de1a",
   "metadata": {
    "editable": true,
    "execution": {
     "iopub.execute_input": "2025-03-27T05:39:49.471697Z",
     "iopub.status.busy": "2025-03-27T05:39:49.471313Z",
     "iopub.status.idle": "2025-03-27T05:39:49.474947Z",
     "shell.execute_reply": "2025-03-27T05:39:49.474248Z"
    },
    "slideshow": {
     "slide_type": ""
    },
    "tags": [
     "remove-input"
    ]
   },
   "outputs": [],
   "source": [
    "# This cell is removed with the tag: \"remove-input\"\n",
    "# As such, it will not be shown in documentation\n",
    "\n",
    "if False:\n",
    "    # to write an html the view had to be displayed in a cell before\n",
    "    msm.thirds.nglview.write_html(view, nglview_htmlfile)"
   ]
  },
  {
   "cell_type": "markdown",
   "id": "4773c579-d3ad-48f0-aac7-175b25d05361",
   "metadata": {},
   "source": [
    "We can already work with {func}`molsysmt.structure.align` to overlap the structure of $E$ over $F$:"
   ]
  },
  {
   "cell_type": "code",
   "execution_count": 16,
   "id": "3f6ff7b5-6743-405f-b38a-df2b26b37220",
   "metadata": {
    "execution": {
     "iopub.execute_input": "2025-03-27T05:39:49.477326Z",
     "iopub.status.busy": "2025-03-27T05:39:49.477068Z",
     "iopub.status.idle": "2025-03-27T05:39:52.902347Z",
     "shell.execute_reply": "2025-03-27T05:39:52.901182Z"
    }
   },
   "outputs": [],
   "source": [
    "barstar_F_over_E = msm.structure.least_rmsd_align(barstar_F, selection='atom_name==\"CA\"',\n",
    "                                       reference_molecular_system=barstar_E, reference_selection='atom_name==\"CA\"')"
   ]
  },
  {
   "cell_type": "code",
   "execution_count": 17,
   "id": "51d5b2ef-f47a-45e3-865d-834922656194",
   "metadata": {
    "editable": true,
    "execution": {
     "iopub.execute_input": "2025-03-27T05:39:52.906057Z",
     "iopub.status.busy": "2025-03-27T05:39:52.905683Z",
     "iopub.status.idle": "2025-03-27T05:39:52.910610Z",
     "shell.execute_reply": "2025-03-27T05:39:52.909611Z"
    },
    "slideshow": {
     "slide_type": ""
    },
    "tags": [
     "remove-input"
    ]
   },
   "outputs": [],
   "source": [
    "# This cell is removed with the tag: \"remove-input\"\n",
    "# As such, it will not be shown in documentation\n",
    "\n",
    "nglview_htmlfile = '../../_static/nglview/barnase_barstar_3.html'"
   ]
  },
  {
   "cell_type": "code",
   "execution_count": 18,
   "id": "4ba2065c-7c69-4f7b-9eef-42c43186c091",
   "metadata": {
    "execution": {
     "iopub.execute_input": "2025-03-27T05:39:52.913689Z",
     "iopub.status.busy": "2025-03-27T05:39:52.913360Z",
     "iopub.status.idle": "2025-03-27T05:39:53.380438Z",
     "shell.execute_reply": "2025-03-27T05:39:53.379708Z"
    }
   },
   "outputs": [
    {
     "data": {
      "text/html": [
       "\n",
       "        <iframe\n",
       "            width=\"100%\"\n",
       "            height=\"320vh\"\n",
       "            src=\"../../_static/nglview/barnase_barstar_3.html\"\n",
       "            frameborder=\"0\"\n",
       "            allowfullscreen\n",
       "            \n",
       "        ></iframe>\n",
       "        "
      ],
      "text/plain": [
       "<IPython.lib.display.IFrame at 0x77d1a16931a0>"
      ]
     },
     "execution_count": 18,
     "metadata": {},
     "output_type": "execute_result"
    }
   ],
   "source": [
    "msm.view([barnase, barstar_E, barstar_F_over_E], viewer='NGLView')"
   ]
  },
  {
   "cell_type": "code",
   "execution_count": 19,
   "id": "a926d555-db90-4f67-af7d-ef4897044c8b",
   "metadata": {
    "editable": true,
    "execution": {
     "iopub.execute_input": "2025-03-27T05:39:53.382908Z",
     "iopub.status.busy": "2025-03-27T05:39:53.382670Z",
     "iopub.status.idle": "2025-03-27T05:39:53.386297Z",
     "shell.execute_reply": "2025-03-27T05:39:53.385567Z"
    },
    "slideshow": {
     "slide_type": ""
    },
    "tags": [
     "remove-input"
    ]
   },
   "outputs": [],
   "source": [
    "# This cell is removed with the tag: \"remove-input\"\n",
    "# As such, it will not be shown in documentation\n",
    "\n",
    "if False:\n",
    "    # to write an html the view had to be displayed in a cell before\n",
    "    msm.thirds.nglview.write_html(view, nglview_htmlfile)"
   ]
  },
  {
   "cell_type": "markdown",
   "id": "ca3251cc-918f-4663-a60b-24cdec2f6ef7",
   "metadata": {},
   "source": [
    "We can finnally produce our new dimer with {func}`molsysmt.basic.merge`:"
   ]
  },
  {
   "cell_type": "code",
   "execution_count": 20,
   "id": "5e215d45-fc61-4e47-964d-39b21725ace2",
   "metadata": {
    "execution": {
     "iopub.execute_input": "2025-03-27T05:39:53.388681Z",
     "iopub.status.busy": "2025-03-27T05:39:53.388445Z",
     "iopub.status.idle": "2025-03-27T05:39:53.542936Z",
     "shell.execute_reply": "2025-03-27T05:39:53.542176Z"
    }
   },
   "outputs": [],
   "source": [
    "barnase_barstar = msm.merge([barnase, barstar_F_over_E])"
   ]
  },
  {
   "cell_type": "code",
   "execution_count": 21,
   "id": "efc8d3a0-62ae-4a72-b5f3-aab50b12f0de",
   "metadata": {
    "editable": true,
    "execution": {
     "iopub.execute_input": "2025-03-27T05:39:53.545451Z",
     "iopub.status.busy": "2025-03-27T05:39:53.545069Z",
     "iopub.status.idle": "2025-03-27T05:39:53.548231Z",
     "shell.execute_reply": "2025-03-27T05:39:53.547660Z"
    },
    "slideshow": {
     "slide_type": ""
    },
    "tags": [
     "remove-input"
    ]
   },
   "outputs": [],
   "source": [
    "# This cell is removed with the tag: \"remove-input\"\n",
    "# As such, it will not be shown in documentation\n",
    "\n",
    "nglview_htmlfile = '../../_static/nglview/barnase_barstar_4.html'"
   ]
  },
  {
   "cell_type": "code",
   "execution_count": 22,
   "id": "fadc4580-9301-4861-b136-ca8eb3a2d13c",
   "metadata": {
    "execution": {
     "iopub.execute_input": "2025-03-27T05:39:53.550434Z",
     "iopub.status.busy": "2025-03-27T05:39:53.549886Z",
     "iopub.status.idle": "2025-03-27T05:39:53.627648Z",
     "shell.execute_reply": "2025-03-27T05:39:53.626889Z"
    }
   },
   "outputs": [
    {
     "data": {
      "text/html": [
       "\n",
       "        <iframe\n",
       "            width=\"100%\"\n",
       "            height=\"320vh\"\n",
       "            src=\"../../_static/nglview/barnase_barstar_4.html\"\n",
       "            frameborder=\"0\"\n",
       "            allowfullscreen\n",
       "            \n",
       "        ></iframe>\n",
       "        "
      ],
      "text/plain": [
       "<IPython.lib.display.IFrame at 0x77d19dff89e0>"
      ]
     },
     "execution_count": 22,
     "metadata": {},
     "output_type": "execute_result"
    }
   ],
   "source": [
    "msm.view(barnase_barstar, viewer='NGLView')"
   ]
  },
  {
   "cell_type": "code",
   "execution_count": 23,
   "id": "32ee60bd-9516-4c5c-8e09-13613768e1cf",
   "metadata": {
    "editable": true,
    "execution": {
     "iopub.execute_input": "2025-03-27T05:39:53.630322Z",
     "iopub.status.busy": "2025-03-27T05:39:53.629894Z",
     "iopub.status.idle": "2025-03-27T05:39:53.633317Z",
     "shell.execute_reply": "2025-03-27T05:39:53.632678Z"
    },
    "slideshow": {
     "slide_type": ""
    },
    "tags": [
     "remove-input"
    ]
   },
   "outputs": [],
   "source": [
    "# This cell is removed with the tag: \"remove-input\"\n",
    "# As such, it will not be shown in documentation\n",
    "\n",
    "if False:\n",
    "    # to write an html the view had to be displayed in a cell before\n",
    "    msm.thirds.nglview.write_html(view, nglview_htmlfile)"
   ]
  },
  {
   "cell_type": "markdown",
   "id": "d8850210-cbac-415e-9d69-e33257d0f0b3",
   "metadata": {},
   "source": [
    "## Complete the molecular system\n",
    "\n",
    "Some structures deposited in the Protein Data Bank have atoms with alternate locations, and missing residues or atoms. Let's check if this is the case of our new dimer with the assitance of {func}`molsysmt.build.get_atoms_with_alternate_locations`, {func}`molsysmt.build.get_missing_heavy_atoms`, {func}`molsysmt.build.get_missing_residues`, and {func}`molsysmt.basic.contains`:"
   ]
  },
  {
   "cell_type": "code",
   "execution_count": 24,
   "id": "22f4f5b2-a7d0-4da5-9b83-4e6bcd4d33fe",
   "metadata": {
    "execution": {
     "iopub.execute_input": "2025-03-27T05:39:53.635846Z",
     "iopub.status.busy": "2025-03-27T05:39:53.635394Z",
     "iopub.status.idle": "2025-03-27T05:39:53.780078Z",
     "shell.execute_reply": "2025-03-27T05:39:53.779353Z"
    }
   },
   "outputs": [
    {
     "data": {
      "text/plain": [
       "[{}]"
      ]
     },
     "execution_count": 24,
     "metadata": {},
     "output_type": "execute_result"
    }
   ],
   "source": [
    "msm.get(barnase_barstar, alternate_locations=True)"
   ]
  },
  {
   "cell_type": "code",
   "execution_count": 25,
   "id": "40e44298-1802-4ae8-8e2e-10ec7f5a749e",
   "metadata": {
    "execution": {
     "iopub.execute_input": "2025-03-27T05:39:53.782151Z",
     "iopub.status.busy": "2025-03-27T05:39:53.781899Z",
     "iopub.status.idle": "2025-03-27T05:39:54.127613Z",
     "shell.execute_reply": "2025-03-27T05:39:54.126981Z"
    }
   },
   "outputs": [
    {
     "data": {
      "text/plain": [
       "{131: ['CD', 'CE', 'NZ'],\n",
       " 137: ['CG', 'CD', 'OE1', 'OE2'],\n",
       " 155: ['CG', 'CD', 'OE1', 'OE2'],\n",
       " 173: ['CG', 'CD', 'OE1', 'OE2'],\n",
       " 174: ['CG', 'OD1', 'ND2'],\n",
       " 198: ['O']}"
      ]
     },
     "execution_count": 25,
     "metadata": {},
     "output_type": "execute_result"
    }
   ],
   "source": [
    "msm.build.get_missing_heavy_atoms(barnase_barstar)"
   ]
  },
  {
   "cell_type": "code",
   "execution_count": 26,
   "id": "e1807d5a-2982-46af-ae5e-10ce1191770d",
   "metadata": {
    "execution": {
     "iopub.execute_input": "2025-03-27T05:39:54.130007Z",
     "iopub.status.busy": "2025-03-27T05:39:54.129487Z",
     "iopub.status.idle": "2025-03-27T05:39:54.463775Z",
     "shell.execute_reply": "2025-03-27T05:39:54.463080Z"
    }
   },
   "outputs": [
    {
     "data": {
      "text/plain": [
       "{}"
      ]
     },
     "execution_count": 26,
     "metadata": {},
     "output_type": "execute_result"
    }
   ],
   "source": [
    "msm.build.get_missing_residues(barnase_barstar)"
   ]
  },
  {
   "cell_type": "code",
   "execution_count": 27,
   "id": "69577990-8162-463e-a78e-8d250c3e6578",
   "metadata": {
    "execution": {
     "iopub.execute_input": "2025-03-27T05:39:54.465695Z",
     "iopub.status.busy": "2025-03-27T05:39:54.465475Z",
     "iopub.status.idle": "2025-03-27T05:39:54.702444Z",
     "shell.execute_reply": "2025-03-27T05:39:54.701765Z"
    }
   },
   "outputs": [
    {
     "data": {
      "text/plain": [
       "False"
      ]
     },
     "execution_count": 27,
     "metadata": {},
     "output_type": "execute_result"
    }
   ],
   "source": [
    "msm.contains(barnase_barstar, selection='hydrogens')"
   ]
  },
  {
   "cell_type": "markdown",
   "id": "742a922b-184f-45de-8198-42456106072b",
   "metadata": {},
   "source": [
    "Our complex has no hydrogens -1BRS was solved indeed by x ray crystallography- and some heavy atoms are missing. Let's solve these defects with {func}`molsysmt.build.add_missing_heavy_atoms` and {func}`molsysmt.build.add_missing_hydrogens`:"
   ]
  },
  {
   "cell_type": "code",
   "execution_count": 28,
   "id": "8077b8ee-fb4f-4e21-b771-3e12b1350f30",
   "metadata": {
    "execution": {
     "iopub.execute_input": "2025-03-27T05:39:54.705637Z",
     "iopub.status.busy": "2025-03-27T05:39:54.704842Z",
     "iopub.status.idle": "2025-03-27T05:39:56.444255Z",
     "shell.execute_reply": "2025-03-27T05:39:56.443414Z"
    }
   },
   "outputs": [],
   "source": [
    "barnase_barstar = msm.build.add_missing_heavy_atoms(barnase_barstar)"
   ]
  },
  {
   "cell_type": "code",
   "execution_count": 29,
   "id": "cf935ced-e7ef-4d84-b385-01d7f2954652",
   "metadata": {
    "execution": {
     "iopub.execute_input": "2025-03-27T05:39:56.447462Z",
     "iopub.status.busy": "2025-03-27T05:39:56.447052Z",
     "iopub.status.idle": "2025-03-27T05:39:58.649172Z",
     "shell.execute_reply": "2025-03-27T05:39:58.648441Z"
    }
   },
   "outputs": [],
   "source": [
    "barnase_barstar = msm.build.add_missing_hydrogens(barnase_barstar, pH=7.4)"
   ]
  },
  {
   "cell_type": "code",
   "execution_count": 30,
   "id": "9bb4f458-5437-4d43-8059-5160a6b1a4ca",
   "metadata": {
    "execution": {
     "iopub.execute_input": "2025-03-27T05:39:58.652728Z",
     "iopub.status.busy": "2025-03-27T05:39:58.651823Z",
     "iopub.status.idle": "2025-03-27T05:39:58.867199Z",
     "shell.execute_reply": "2025-03-27T05:39:58.866478Z"
    }
   },
   "outputs": [
    {
     "data": {
      "text/plain": [
       "1563"
      ]
     },
     "execution_count": 30,
     "metadata": {},
     "output_type": "execute_result"
    }
   ],
   "source": [
    "msm.get(barnase_barstar, element='atom', selection='atom_type==\"H\"', n_atoms=True)"
   ]
  },
  {
   "cell_type": "markdown",
   "id": "6d3e73a9-c7fc-4464-a0f4-ea609164bd91",
   "metadata": {},
   "source": [
    "## Write a pdb file with the new dimer\n",
    "\n",
    "To conclude this exercise, the new molecular system can be converted to a pdb file:"
   ]
  },
  {
   "cell_type": "code",
   "execution_count": 31,
   "id": "cff30765-8a8f-458a-96d3-68872cf27e73",
   "metadata": {
    "execution": {
     "iopub.execute_input": "2025-03-27T05:39:58.869563Z",
     "iopub.status.busy": "2025-03-27T05:39:58.869324Z",
     "iopub.status.idle": "2025-03-27T05:39:59.334864Z",
     "shell.execute_reply": "2025-03-27T05:39:59.334311Z"
    }
   },
   "outputs": [
    {
     "data": {
      "text/plain": [
       "'barnase_barstar.pdb'"
      ]
     },
     "execution_count": 31,
     "metadata": {},
     "output_type": "execute_result"
    }
   ],
   "source": [
    "msm.convert(barnase_barstar, to_form='barnase_barstar.pdb')"
   ]
  },
  {
   "cell_type": "code",
   "execution_count": 32,
   "id": "b07afd89-5935-4157-8537-e6a8d8b2cdaa",
   "metadata": {
    "editable": true,
    "execution": {
     "iopub.execute_input": "2025-03-27T05:39:59.337396Z",
     "iopub.status.busy": "2025-03-27T05:39:59.337089Z",
     "iopub.status.idle": "2025-03-27T05:39:59.340888Z",
     "shell.execute_reply": "2025-03-27T05:39:59.340184Z"
    },
    "slideshow": {
     "slide_type": ""
    },
    "tags": [
     "remove-input"
    ]
   },
   "outputs": [],
   "source": [
    "# This cell is removed with the tag: \"remove-input\"\n",
    "# As such, it will not be shown in documentation\n",
    "\n",
    "from os import remove\n",
    "remove('barnase_barstar.pdb')"
   ]
  }
 ],
 "metadata": {
  "kernelspec": {
   "display_name": "Python 3 (ipykernel)",
   "language": "python",
   "name": "python3"
  },
  "language_info": {
   "codemirror_mode": {
    "name": "ipython",
    "version": 3
   },
   "file_extension": ".py",
   "mimetype": "text/x-python",
   "name": "python",
   "nbconvert_exporter": "python",
   "pygments_lexer": "ipython3",
   "version": "3.12.9"
  },
  "widgets": {
   "application/vnd.jupyter.widget-state+json": {
    "state": {
     "a731d0a526714b449bb27f16c2b3da28": {
      "model_module": "@jupyter-widgets/base",
      "model_module_version": "2.0.0",
      "model_name": "LayoutModel",
      "state": {
       "_model_module": "@jupyter-widgets/base",
       "_model_module_version": "2.0.0",
       "_model_name": "LayoutModel",
       "_view_count": null,
       "_view_module": "@jupyter-widgets/base",
       "_view_module_version": "2.0.0",
       "_view_name": "LayoutView",
       "align_content": null,
       "align_items": null,
       "align_self": null,
       "border_bottom": null,
       "border_left": null,
       "border_right": null,
       "border_top": null,
       "bottom": null,
       "display": null,
       "flex": null,
       "flex_flow": null,
       "grid_area": null,
       "grid_auto_columns": null,
       "grid_auto_flow": null,
       "grid_auto_rows": null,
       "grid_column": null,
       "grid_gap": null,
       "grid_row": null,
       "grid_template_areas": null,
       "grid_template_columns": null,
       "grid_template_rows": null,
       "height": null,
       "justify_content": null,
       "justify_items": null,
       "left": null,
       "margin": null,
       "max_height": null,
       "max_width": null,
       "min_height": null,
       "min_width": null,
       "object_fit": null,
       "object_position": null,
       "order": null,
       "overflow": null,
       "padding": null,
       "right": null,
       "top": null,
       "visibility": null,
       "width": null
      }
     },
     "a93b9cad35f54c44a6d4bfb8178020d4": {
      "model_module": "nglview-js-widgets",
      "model_module_version": "3.1.4",
      "model_name": "ColormakerRegistryModel",
      "state": {
       "_dom_classes": [],
       "_model_module": "nglview-js-widgets",
       "_model_module_version": "3.1.4",
       "_model_name": "ColormakerRegistryModel",
       "_msg_ar": [],
       "_msg_q": [],
       "_ready": false,
       "_view_count": null,
       "_view_module": "nglview-js-widgets",
       "_view_module_version": "3.1.4",
       "_view_name": "ColormakerRegistryView",
       "layout": "IPY_MODEL_a731d0a526714b449bb27f16c2b3da28",
       "tabbable": null,
       "tooltip": null
      }
     }
    },
    "version_major": 2,
    "version_minor": 0
   }
  }
 },
 "nbformat": 4,
 "nbformat_minor": 5
}
