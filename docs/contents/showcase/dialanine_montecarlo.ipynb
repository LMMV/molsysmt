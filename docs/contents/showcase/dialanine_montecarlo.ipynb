{
 "cells": [
  {
   "cell_type": "code",
   "execution_count": 1,
   "id": "1aa20c90-fbc6-4b5c-a992-c9d96e5dcb2d",
   "metadata": {
    "editable": true,
    "execution": {
     "iopub.execute_input": "2025-03-29T23:11:19.474642Z",
     "iopub.status.busy": "2025-03-29T23:11:19.473669Z",
     "iopub.status.idle": "2025-03-29T23:11:19.491257Z",
     "shell.execute_reply": "2025-03-29T23:11:19.489071Z"
    },
    "slideshow": {
     "slide_type": ""
    },
    "tags": [
     "remove-input"
    ]
   },
   "outputs": [],
   "source": [
    "# This cell is removed with the tag: \"remove-input\"\n",
    "# As such, it will not be shown in documentation"
   ]
  },
  {
   "cell_type": "markdown",
   "id": "0145ab7e-7bab-4ccc-b392-89312affd738",
   "metadata": {},
   "source": [
    "# Dialanine Monte Carlo\n",
    "\n",
    "In this tutorial, we will explore the Ramachandran plot of the dialanine peptide using Metropolis Monte Carlo sampling, entirely within the MolSysMT environment.\n",
    "\n",
    "We'll walk through the following steps:\n",
    "\n",
    "- Construct a capped dialanine peptide in vacuum.\n",
    "- Interact with its backbone dihedral angles: φ (*phi*) and ψ (*psi*).\n",
    "- Perform Metropolis Monte Carlo sampling over these dihedrals.\n",
    "- Visualize the resulting Ramachandran distribution.\n",
    "\n",
    "Before starting the workflow, let’s import the Python libraries required for this notebook."
   ]
  },
  {
   "cell_type": "code",
   "execution_count": 2,
   "id": "067ef50a-b0ef-49a7-9eba-d58bf1fbeac2",
   "metadata": {
    "editable": true,
    "execution": {
     "iopub.execute_input": "2025-03-29T23:11:19.498337Z",
     "iopub.status.busy": "2025-03-29T23:11:19.497646Z",
     "iopub.status.idle": "2025-03-29T23:11:26.225923Z",
     "shell.execute_reply": "2025-03-29T23:11:26.225095Z"
    },
    "slideshow": {
     "slide_type": ""
    },
    "tags": []
   },
   "outputs": [
    {
     "data": {
      "application/vnd.jupyter.widget-view+json": {
       "model_id": "5428cf82957849059add12955687fda2",
       "version_major": 2,
       "version_minor": 0
      },
      "text/plain": []
     },
     "metadata": {},
     "output_type": "display_data"
    }
   ],
   "source": [
    "import numpy as np\n",
    "import seaborn as sns\n",
    "import molsysmt as msm\n",
    "from molsysmt import pyunitwizard as puw"
   ]
  },
  {
   "cell_type": "markdown",
   "id": "49d53956-7bee-4c3d-a437-51bcbc0e95e3",
   "metadata": {
    "editable": true,
    "slideshow": {
     "slide_type": ""
    },
    "tags": []
   },
   "source": [
    "## Build the Dialanine Peptide\n",
    "\n",
    "We begin by constructing a dipeptide of alanine using the `molsysmt.build.build_peptide()` function.  \n",
    "To ensure the molecule remains neutral in charge, we cap it with an acetyl group (Ace) at the N-terminus and an N-methylamide group (Nme) at the C-terminus."
   ]
  },
  {
   "cell_type": "code",
   "execution_count": 3,
   "id": "4df71ab9-f4cb-4779-a5ae-7aa8544bf7b2",
   "metadata": {
    "editable": true,
    "execution": {
     "iopub.execute_input": "2025-03-29T23:11:26.230191Z",
     "iopub.status.busy": "2025-03-29T23:11:26.229137Z",
     "iopub.status.idle": "2025-03-29T23:11:26.897014Z",
     "shell.execute_reply": "2025-03-29T23:11:26.896348Z"
    },
    "slideshow": {
     "slide_type": ""
    },
    "tags": []
   },
   "outputs": [],
   "source": [
    "dialanine = msm.build.build_peptide('AceAlaNme')"
   ]
  },
  {
   "cell_type": "markdown",
   "id": "5109adee-511f-49cf-9817-875205034547",
   "metadata": {
    "editable": true,
    "slideshow": {
     "slide_type": ""
    },
    "tags": []
   },
   "source": [
    "The molecule can be visualized using the [NGLView Python library](https://github.com/nglviewer/nglview)."
   ]
  },
  {
   "cell_type": "code",
   "execution_count": 4,
   "id": "addaa6df-662b-47bb-a0dd-e6d661dd3e2c",
   "metadata": {
    "editable": true,
    "execution": {
     "iopub.execute_input": "2025-03-29T23:11:26.899664Z",
     "iopub.status.busy": "2025-03-29T23:11:26.899167Z",
     "iopub.status.idle": "2025-03-29T23:11:26.902907Z",
     "shell.execute_reply": "2025-03-29T23:11:26.902152Z"
    },
    "slideshow": {
     "slide_type": ""
    },
    "tags": [
     "remove-input"
    ]
   },
   "outputs": [],
   "source": [
    "# This cell is removed with the tag: \"remove-input\"\n",
    "# As such, it will not be shown in documentation\n",
    "\n",
    "nglview_htmlfile = '../../_static/nglview/dialanine_monte_carlo_1.html'"
   ]
  },
  {
   "cell_type": "code",
   "execution_count": 5,
   "id": "908b02e0-da94-4bd1-ab13-53032a051fb0",
   "metadata": {
    "editable": true,
    "execution": {
     "iopub.execute_input": "2025-03-29T23:11:26.905524Z",
     "iopub.status.busy": "2025-03-29T23:11:26.905283Z",
     "iopub.status.idle": "2025-03-29T23:11:26.996750Z",
     "shell.execute_reply": "2025-03-29T23:11:26.995858Z"
    },
    "slideshow": {
     "slide_type": ""
    },
    "tags": []
   },
   "outputs": [
    {
     "data": {
      "text/html": [
       "\n",
       "        <iframe\n",
       "            width=\"100%\"\n",
       "            height=\"320vh\"\n",
       "            src=\"../../_static/nglview/dialanine_monte_carlo_1.html\"\n",
       "            frameborder=\"0\"\n",
       "            allowfullscreen\n",
       "            \n",
       "        ></iframe>\n",
       "        "
      ],
      "text/plain": [
       "<IPython.lib.display.IFrame at 0x7030d3af1610>"
      ]
     },
     "execution_count": 5,
     "metadata": {},
     "output_type": "execute_result"
    }
   ],
   "source": [
    "msm.view(dialanine, viewer='NGLView')"
   ]
  },
  {
   "cell_type": "code",
   "execution_count": 6,
   "id": "cbf15462-1bd5-495e-b293-ae3a1aa59379",
   "metadata": {
    "editable": true,
    "execution": {
     "iopub.execute_input": "2025-03-29T23:11:26.999647Z",
     "iopub.status.busy": "2025-03-29T23:11:26.999035Z",
     "iopub.status.idle": "2025-03-29T23:11:27.002743Z",
     "shell.execute_reply": "2025-03-29T23:11:27.002039Z"
    },
    "slideshow": {
     "slide_type": ""
    },
    "tags": [
     "remove-input"
    ]
   },
   "outputs": [],
   "source": [
    "# This cell is removed with the tag: \"remove-input\"\n",
    "# As such, it will not be shown in documentation\n",
    "\n",
    "if False:\n",
    "    # to write an html the view had to be displayed in a cell before\n",
    "    msm.thirds.nglview.write_html(view, nglview_htmlfile)"
   ]
  },
  {
   "cell_type": "markdown",
   "id": "ec4da40f-8879-46ac-978a-6e7fe20a322c",
   "metadata": {
    "editable": true,
    "slideshow": {
     "slide_type": ""
    },
    "tags": []
   },
   "source": [
    "## Playing with Phi and Psi\n",
    "\n",
    "Before running the Metropolis Monte Carlo simulation, let’s first explore some of the MolSysMT methods for extracting and modifying dihedral angles.\n",
    "\n",
    "The function `molsysmt.structure.get_dihedral_angles()` retrieves backbone torsion angles.  \n",
    "In this case, we are interested in the values of $\\phi$ (phi) and $\\psi$ (psi), which describe the conformation of the peptide backbone:\n",
    "\n",
    "- $\\phi$ (phi): the dihedral angle defined by the atoms $C–N–C_{α}–C$\n",
    "- $\\psi$ (psi): the dihedral angle defined by the atoms $N–C_{α}–C–N$\n"
   ]
  },
  {
   "cell_type": "code",
   "execution_count": 7,
   "id": "6aced379-b1df-4088-bbb8-17d2528ef718",
   "metadata": {
    "editable": true,
    "execution": {
     "iopub.execute_input": "2025-03-29T23:11:27.004982Z",
     "iopub.status.busy": "2025-03-29T23:11:27.004726Z",
     "iopub.status.idle": "2025-03-29T23:11:29.378417Z",
     "shell.execute_reply": "2025-03-29T23:11:29.376398Z"
    },
    "slideshow": {
     "slide_type": ""
    },
    "tags": []
   },
   "outputs": [],
   "source": [
    "phis, psis = msm.structure.get_dihedral_angles(dialanine, phi=True, psi=True)"
   ]
  },
  {
   "cell_type": "code",
   "execution_count": 8,
   "id": "a844feaf-3205-4dd1-a5f2-842a406ab943",
   "metadata": {
    "editable": true,
    "execution": {
     "iopub.execute_input": "2025-03-29T23:11:29.382458Z",
     "iopub.status.busy": "2025-03-29T23:11:29.381918Z",
     "iopub.status.idle": "2025-03-29T23:11:29.395153Z",
     "shell.execute_reply": "2025-03-29T23:11:29.394146Z"
    },
    "slideshow": {
     "slide_type": ""
    },
    "tags": []
   },
   "outputs": [
    {
     "data": {
      "text/html": [
       "<table><tbody><tr><th>Magnitude</th><td style='text-align:left;'><pre>[-179.9997761712254]</pre></td></tr><tr><th>Units</th><td style='text-align:left;'>degree</td></tr></tbody></table>"
      ],
      "text/latex": [
       "$\\begin{pmatrix}\\end{pmatrix}\\ \\mathrm{degree}$"
      ],
      "text/plain": [
       "<Quantity([-179.99977617], 'degree')>"
      ]
     },
     "execution_count": 8,
     "metadata": {},
     "output_type": "execute_result"
    }
   ],
   "source": [
    "phis[0] # There is only a single structure with a list of a single phi value"
   ]
  },
  {
   "cell_type": "code",
   "execution_count": 9,
   "id": "207ab595-fb38-4c82-96bd-7b821120c344",
   "metadata": {
    "editable": true,
    "execution": {
     "iopub.execute_input": "2025-03-29T23:11:29.397874Z",
     "iopub.status.busy": "2025-03-29T23:11:29.397568Z",
     "iopub.status.idle": "2025-03-29T23:11:29.405515Z",
     "shell.execute_reply": "2025-03-29T23:11:29.404859Z"
    },
    "slideshow": {
     "slide_type": ""
    },
    "tags": []
   },
   "outputs": [
    {
     "data": {
      "text/html": [
       "<table><tbody><tr><th>Magnitude</th><td style='text-align:left;'><pre>[179.99992099940596]</pre></td></tr><tr><th>Units</th><td style='text-align:left;'>degree</td></tr></tbody></table>"
      ],
      "text/latex": [
       "$\\begin{pmatrix}\\end{pmatrix}\\ \\mathrm{degree}$"
      ],
      "text/plain": [
       "<Quantity([179.999921], 'degree')>"
      ]
     },
     "execution_count": 9,
     "metadata": {},
     "output_type": "execute_result"
    }
   ],
   "source": [
    "psis[0]"
   ]
  },
  {
   "cell_type": "markdown",
   "id": "2fe68c21-bae9-4046-b686-096f7f985a4b",
   "metadata": {
    "editable": true,
    "slideshow": {
     "slide_type": ""
    },
    "tags": []
   },
   "source": [
    "We can also retrieve the atom quartets (lists of four atom indices) involved in the definition of each dihedral angle."
   ]
  },
  {
   "cell_type": "code",
   "execution_count": 10,
   "id": "9dbd2305-21a6-47a7-9ab0-6b27b8450a6b",
   "metadata": {
    "execution": {
     "iopub.execute_input": "2025-03-29T23:11:29.407786Z",
     "iopub.status.busy": "2025-03-29T23:11:29.407543Z",
     "iopub.status.idle": "2025-03-29T23:11:30.257344Z",
     "shell.execute_reply": "2025-03-29T23:11:30.256641Z"
    }
   },
   "outputs": [],
   "source": [
    "quartets_phi = msm.topology.get_dihedral_quartets(dialanine, phi=True)"
   ]
  },
  {
   "cell_type": "code",
   "execution_count": 11,
   "id": "df4bcdd9-2564-4932-bfb5-97ab50f253a2",
   "metadata": {
    "execution": {
     "iopub.execute_input": "2025-03-29T23:11:30.259854Z",
     "iopub.status.busy": "2025-03-29T23:11:30.259323Z",
     "iopub.status.idle": "2025-03-29T23:11:31.129155Z",
     "shell.execute_reply": "2025-03-29T23:11:31.128318Z"
    }
   },
   "outputs": [],
   "source": [
    "quartets_psi = msm.topology.get_dihedral_quartets(dialanine, psi=True)"
   ]
  },
  {
   "cell_type": "code",
   "execution_count": 12,
   "id": "b05cf321-0f70-418c-9a62-409671556365",
   "metadata": {
    "execution": {
     "iopub.execute_input": "2025-03-29T23:11:31.132176Z",
     "iopub.status.busy": "2025-03-29T23:11:31.131604Z",
     "iopub.status.idle": "2025-03-29T23:11:31.141334Z",
     "shell.execute_reply": "2025-03-29T23:11:31.137088Z"
    }
   },
   "outputs": [
    {
     "data": {
      "text/plain": [
       "[[4, 6, 8, 14]]"
      ]
     },
     "execution_count": 12,
     "metadata": {},
     "output_type": "execute_result"
    }
   ],
   "source": [
    "quartets_phi"
   ]
  },
  {
   "cell_type": "code",
   "execution_count": 13,
   "id": "1a315506-5601-4029-96ce-7ee7d0c93c88",
   "metadata": {
    "execution": {
     "iopub.execute_input": "2025-03-29T23:11:31.146806Z",
     "iopub.status.busy": "2025-03-29T23:11:31.146161Z",
     "iopub.status.idle": "2025-03-29T23:11:31.151431Z",
     "shell.execute_reply": "2025-03-29T23:11:31.150698Z"
    }
   },
   "outputs": [
    {
     "data": {
      "text/plain": [
       "[[6, 8, 14, 16]]"
      ]
     },
     "execution_count": 13,
     "metadata": {},
     "output_type": "execute_result"
    }
   ],
   "source": [
    "quartets_psi"
   ]
  },
  {
   "cell_type": "markdown",
   "id": "a9f8b602-a7a7-4344-acc9-180a7ae592b8",
   "metadata": {},
   "source": [
    "The values of the dihedral angles can be modified using the `molsysmt.structure.shift_dihedral_angles()` method.  \n",
    "Let’s illustrate how this is done in the following cell:"
   ]
  },
  {
   "cell_type": "code",
   "execution_count": 14,
   "id": "c26e5a74-623f-4457-9a77-904f115a4021",
   "metadata": {
    "execution": {
     "iopub.execute_input": "2025-03-29T23:11:31.154691Z",
     "iopub.status.busy": "2025-03-29T23:11:31.154360Z",
     "iopub.status.idle": "2025-03-29T23:11:33.157995Z",
     "shell.execute_reply": "2025-03-29T23:11:33.156949Z"
    }
   },
   "outputs": [],
   "source": [
    "msm.structure.shift_dihedral_angles(dialanine, dihedral_quartets=[quartets_phi[0], quartets_psi[0]],\n",
    "                                    shifts=['10 degrees', '-20 degrees'], in_place=True)"
   ]
  },
  {
   "cell_type": "markdown",
   "id": "aeada333-3261-4326-a032-6a6232eba8d3",
   "metadata": {},
   "source": [
    "Let’s verify that the dihedral angles have been correctly updated after the shift:"
   ]
  },
  {
   "cell_type": "code",
   "execution_count": 15,
   "id": "cccd528e-57ad-44f3-b5b5-b089790f453c",
   "metadata": {
    "execution": {
     "iopub.execute_input": "2025-03-29T23:11:33.162000Z",
     "iopub.status.busy": "2025-03-29T23:11:33.161300Z",
     "iopub.status.idle": "2025-03-29T23:11:35.329004Z",
     "shell.execute_reply": "2025-03-29T23:11:35.327563Z"
    }
   },
   "outputs": [],
   "source": [
    "phi, psi = msm.structure.get_dihedral_angles(dialanine, phi=True, psi=True)"
   ]
  },
  {
   "cell_type": "code",
   "execution_count": 16,
   "id": "117f1118-a87f-44f1-b198-f6a7ce398449",
   "metadata": {
    "execution": {
     "iopub.execute_input": "2025-03-29T23:11:35.332607Z",
     "iopub.status.busy": "2025-03-29T23:11:35.332221Z",
     "iopub.status.idle": "2025-03-29T23:11:35.343540Z",
     "shell.execute_reply": "2025-03-29T23:11:35.342469Z"
    }
   },
   "outputs": [
    {
     "data": {
      "text/html": [
       "<table><tbody><tr><th>Magnitude</th><td style='text-align:left;'><pre>[[-169.99977617280967]]</pre></td></tr><tr><th>Units</th><td style='text-align:left;'>degree</td></tr></tbody></table>"
      ],
      "text/latex": [
       "$\\begin{pmatrix}\\end{pmatrix}\\ \\mathrm{degree}$"
      ],
      "text/plain": [
       "<Quantity([[-169.99977617]], 'degree')>"
      ]
     },
     "execution_count": 16,
     "metadata": {},
     "output_type": "execute_result"
    }
   ],
   "source": [
    "phi"
   ]
  },
  {
   "cell_type": "code",
   "execution_count": 17,
   "id": "2d7970e9-cc1a-41f4-81c4-dd8cafb2a699",
   "metadata": {
    "execution": {
     "iopub.execute_input": "2025-03-29T23:11:35.346849Z",
     "iopub.status.busy": "2025-03-29T23:11:35.346533Z",
     "iopub.status.idle": "2025-03-29T23:11:35.355624Z",
     "shell.execute_reply": "2025-03-29T23:11:35.354765Z"
    }
   },
   "outputs": [
    {
     "data": {
      "text/html": [
       "<table><tbody><tr><th>Magnitude</th><td style='text-align:left;'><pre>[[159.99992100450456]]</pre></td></tr><tr><th>Units</th><td style='text-align:left;'>degree</td></tr></tbody></table>"
      ],
      "text/latex": [
       "$\\begin{pmatrix}\\end{pmatrix}\\ \\mathrm{degree}$"
      ],
      "text/plain": [
       "<Quantity([[159.999921]], 'degree')>"
      ]
     },
     "execution_count": 17,
     "metadata": {},
     "output_type": "execute_result"
    }
   ],
   "source": [
    "psi"
   ]
  },
  {
   "cell_type": "markdown",
   "id": "f5ba7efb-0922-4d46-b212-fd19ee25428a",
   "metadata": {},
   "source": [
    "## Getting the Potential Energy\n",
    "\n",
    "At this point, we have our molecular system ready, and we’ve seen how to retrieve and modify its backbone dihedral angles ($\\phi$, $\\psi$).  \n",
    "To complete the setup for a Metropolis Monte Carlo sampling workflow, we also need to compute the potential energy of the dipeptide in vacuum.\n",
    "\n",
    "This can be done using the function {func}`molsysmt.molecular_mechanics.get_potential_energy`."
   ]
  },
  {
   "cell_type": "code",
   "execution_count": 18,
   "id": "6522bf95-de7a-49b8-9ca5-4c2c95f919e2",
   "metadata": {
    "execution": {
     "iopub.execute_input": "2025-03-29T23:11:35.358885Z",
     "iopub.status.busy": "2025-03-29T23:11:35.358538Z",
     "iopub.status.idle": "2025-03-29T23:11:36.365878Z",
     "shell.execute_reply": "2025-03-29T23:11:36.365193Z"
    }
   },
   "outputs": [
    {
     "data": {
      "text/html": [
       "-72.52919440013841 kilojoule/mole"
      ],
      "text/latex": [
       "$-72.52919440013841\\ \\frac{\\mathrm{kilojoule}}{\\mathrm{mole}}$"
      ],
      "text/plain": [
       "<Quantity(-72.5291944, 'kilojoule / mole')>"
      ]
     },
     "execution_count": 18,
     "metadata": {},
     "output_type": "execute_result"
    }
   ],
   "source": [
    "msm.molecular_mechanics.get_potential_energy(dialanine)"
   ]
  },
  {
   "cell_type": "markdown",
   "id": "7b49a6c7-271d-4502-98aa-a48408b1e76c",
   "metadata": {},
   "source": [
    "## Metropolis Monte Carlo\n",
    "\n",
    "We now have all the building blocks to implement a Metropolis Monte Carlo sampling routine for our dialanine system.\n",
    "\n",
    "Next, we’ll define the temperature, the number of Monte Carlo steps, and the **Boltzmann constant**, which are required to evaluate the acceptance criterion for each Monte Carlo move:\n",
    "\n",
    "\n",
    "$$\n",
    "P = \n",
    "\\begin{cases}\n",
    "1, & \\text{if } \\Delta E \\leq 0 \\\\\\\\\n",
    "\\exp\\left( -\\dfrac{\\Delta E}{k_B T} \\right), & \\text{if } \\Delta E > 0\n",
    "\\end{cases}\n",
    "$$\n",
    "\n",
    "Where:\n",
    "- $\\Delta E = E_{\\text{after}} - E_{\\text{before}}$ is the change in potential energy.\n",
    "- $k_B$ is the Boltzmann constant.\n",
    "- $T$ is the absolute temperature in Kelvin."
   ]
  },
  {
   "cell_type": "code",
   "execution_count": 19,
   "id": "017d53c6-3ec8-46fe-9224-aa8163f30485",
   "metadata": {
    "execution": {
     "iopub.execute_input": "2025-03-29T23:11:36.368372Z",
     "iopub.status.busy": "2025-03-29T23:11:36.368054Z",
     "iopub.status.idle": "2025-03-29T23:11:36.372169Z",
     "shell.execute_reply": "2025-03-29T23:11:36.371406Z"
    }
   },
   "outputs": [],
   "source": [
    "temperature = puw.quantity(900.0, 'kelvin')\n",
    "kB = puw.quantity('0.00813446261815324 kilojoules/(kelvin*mole)')"
   ]
  },
  {
   "cell_type": "markdown",
   "id": "ee4afaed-f0fb-4d11-aaba-0995ff4ce1ea",
   "metadata": {},
   "source": [
    "Now, let’s define the Monte Carlo move. Each dihedral angle will be randomly shifted within the interval [ $-20^\\circ$, $20^\\circ$),  \n",
    "using a uniform probability distribution."
   ]
  },
  {
   "cell_type": "code",
   "execution_count": 20,
   "id": "1facfb8d-e835-4803-b695-ffc8e58034f8",
   "metadata": {
    "execution": {
     "iopub.execute_input": "2025-03-29T23:11:36.374698Z",
     "iopub.status.busy": "2025-03-29T23:11:36.374396Z",
     "iopub.status.idle": "2025-03-29T23:11:36.379554Z",
     "shell.execute_reply": "2025-03-29T23:11:36.378766Z"
    }
   },
   "outputs": [
    {
     "name": "stdout",
     "output_type": "stream",
     "text": [
      "[18.48919069887402 -27.57289411217095] degree\n"
     ]
    }
   ],
   "source": [
    "max_step = puw.quantity(40.0, 'degrees')\n",
    "random_shifts = np.random.uniform(-1, 1, size=2) * max_step\n",
    "\n",
    "print(random_shifts)"
   ]
  },
  {
   "cell_type": "markdown",
   "id": "9c414dc7-bd21-4394-8da8-79519a592a36",
   "metadata": {},
   "source": [
    "We can now run the Metropolis Monte Carlo simulation, keeping track of the visited dihedral angles and the acceptance ratio."
   ]
  },
  {
   "cell_type": "code",
   "execution_count": 21,
   "id": "e59297b5-a5fd-4b70-bdd2-15f7fbee2fbb",
   "metadata": {
    "execution": {
     "iopub.execute_input": "2025-03-29T23:11:36.381819Z",
     "iopub.status.busy": "2025-03-29T23:11:36.381546Z",
     "iopub.status.idle": "2025-03-29T23:11:36.384578Z",
     "shell.execute_reply": "2025-03-29T23:11:36.384010Z"
    }
   },
   "outputs": [],
   "source": [
    "mc_steps = 500\n",
    "ramachandran_exploration = []"
   ]
  },
  {
   "cell_type": "code",
   "execution_count": 22,
   "id": "57c01aa3-42c4-40fa-b70d-fee95e09b562",
   "metadata": {
    "execution": {
     "iopub.execute_input": "2025-03-29T23:11:36.386823Z",
     "iopub.status.busy": "2025-03-29T23:11:36.386526Z",
     "iopub.status.idle": "2025-03-29T23:41:55.523426Z",
     "shell.execute_reply": "2025-03-29T23:41:55.522372Z"
    }
   },
   "outputs": [],
   "source": [
    "E_before = msm.molecular_mechanics.get_potential_energy(dialanine)\n",
    "angles = msm.structure.get_dihedral_angles(dialanine, dihedral_quartets=[quartets_phi[0], quartets_psi[0]])\n",
    "\n",
    "n_accepted = 0\n",
    "\n",
    "for _ in range(mc_steps):\n",
    "    \n",
    "    random_shifts = np.random.uniform(-1, 1, size=2) * max_step\n",
    "    dialanine_after = msm.structure.shift_dihedral_angles(dialanine, dihedral_quartets=[quartets_phi[0], quartets_psi[0]],\n",
    "                                                          shifts=random_shifts)\n",
    "    E_after = msm.molecular_mechanics.get_potential_energy(dialanine_after)\n",
    "    \n",
    "    delta_E = E_after - E_before\n",
    "\n",
    "    if delta_E <= 0:\n",
    "        accept = True\n",
    "    else:\n",
    "        prob = np.exp(-delta_E / (kB * temperature))\n",
    "        accept = np.random.rand() < prob\n",
    "\n",
    "    if accept:\n",
    "        n_accepted += 1\n",
    "        dialanine = dialanine_after\n",
    "        E_before = E_after\n",
    "        angles = msm.structure.get_dihedral_angles(dialanine, dihedral_quartets=[quartets_phi[0], quartets_psi[0]])\n",
    "\n",
    "    ramachandran_exploration.append(angles[0])"
   ]
  },
  {
   "cell_type": "markdown",
   "id": "01dbe759-6dce-42d9-b02b-1714df2b5b10",
   "metadata": {
    "editable": true,
    "slideshow": {
     "slide_type": ""
    },
    "tags": []
   },
   "source": [
    "Let’s take a look at the acceptance ratio from our Monte Carlo exploration:"
   ]
  },
  {
   "cell_type": "code",
   "execution_count": 23,
   "id": "fafd29f7-766c-45f4-89e5-e5299612cdfa",
   "metadata": {
    "execution": {
     "iopub.execute_input": "2025-03-29T23:41:55.544058Z",
     "iopub.status.busy": "2025-03-29T23:41:55.543086Z",
     "iopub.status.idle": "2025-03-29T23:41:55.549584Z",
     "shell.execute_reply": "2025-03-29T23:41:55.548752Z"
    }
   },
   "outputs": [
    {
     "data": {
      "text/plain": [
       "0.532"
      ]
     },
     "execution_count": 23,
     "metadata": {},
     "output_type": "execute_result"
    }
   ],
   "source": [
    "n_accepted/mc_steps"
   ]
  },
  {
   "cell_type": "markdown",
   "id": "6e222371-49e8-4311-814d-f829a49241b2",
   "metadata": {},
   "source": [
    "And here are the first 5 ($\\phi$, $\\psi$) angle pairs recorded during the simulation:"
   ]
  },
  {
   "cell_type": "code",
   "execution_count": 24,
   "id": "db436329-7eff-493f-b9e7-3f91dad91f1e",
   "metadata": {
    "execution": {
     "iopub.execute_input": "2025-03-29T23:41:55.565074Z",
     "iopub.status.busy": "2025-03-29T23:41:55.564779Z",
     "iopub.status.idle": "2025-03-29T23:41:55.573364Z",
     "shell.execute_reply": "2025-03-29T23:41:55.572497Z"
    }
   },
   "outputs": [
    {
     "data": {
      "text/plain": [
       "[<Quantity([-169.99977617  159.999921  ], 'degree')>,\n",
       " <Quantity([-169.99977617  159.999921  ], 'degree')>,\n",
       " <Quantity([-144.21399936  164.23235891], 'degree')>,\n",
       " <Quantity([-109.77393093  160.32996983], 'degree')>,\n",
       " <Quantity([-109.77393093  160.32996983], 'degree')>]"
      ]
     },
     "execution_count": 24,
     "metadata": {},
     "output_type": "execute_result"
    }
   ],
   "source": [
    "ramachandran_exploration[:5]"
   ]
  },
  {
   "cell_type": "markdown",
   "id": "8f4d2c29-4d78-4b6c-8617-318d2bdeb2db",
   "metadata": {},
   "source": [
    "### Resulting Ramachandran Plot\n",
    "\n",
    "The list of collected dihedral angle pairs ($\\phi$, $\\psi$) can be used to generate a density map over the Ramachandran plot.  \n",
    "For this, we’ll use the Seaborn Python library to create a smooth and visually informative representation of the sampled conformational space."
   ]
  },
  {
   "cell_type": "code",
   "execution_count": 25,
   "id": "0d46d846-db9a-4115-948e-743b260d3820",
   "metadata": {
    "execution": {
     "iopub.execute_input": "2025-03-29T23:41:55.577441Z",
     "iopub.status.busy": "2025-03-29T23:41:55.576730Z",
     "iopub.status.idle": "2025-03-29T23:41:55.581834Z",
     "shell.execute_reply": "2025-03-29T23:41:55.580997Z"
    }
   },
   "outputs": [],
   "source": [
    "import matplotlib.pyplot as plt\n",
    "import seaborn as sns"
   ]
  },
  {
   "cell_type": "markdown",
   "id": "ac7f0c12-b104-4c9b-b087-d24fd4c669df",
   "metadata": {},
   "source": [
    "But first, we need to convert the `ramachandran_exploration` list into a NumPy `ndarray` with shape (mc_steps, 2).  \n",
    "We'll also strip out the units (degrees) from the quantity to work directly with the raw numerical values:"
   ]
  },
  {
   "cell_type": "code",
   "execution_count": 26,
   "id": "4fc2cd6c-d26b-4342-b861-f50ad8fb2b6a",
   "metadata": {
    "execution": {
     "iopub.execute_input": "2025-03-29T23:41:55.585138Z",
     "iopub.status.busy": "2025-03-29T23:41:55.584566Z",
     "iopub.status.idle": "2025-03-29T23:41:55.610808Z",
     "shell.execute_reply": "2025-03-29T23:41:55.610027Z"
    }
   },
   "outputs": [],
   "source": [
    "ramachandran_exploration = puw.utils.numpy.vstack(ramachandran_exploration)\n",
    "ramachandran_exploration = puw.get_value(ramachandran_exploration)"
   ]
  },
  {
   "cell_type": "markdown",
   "id": "cac89ba5-8752-4176-a97a-67154ecae3d4",
   "metadata": {},
   "source": [
    "Finally, here it is the resulting Ramachandran plot:"
   ]
  },
  {
   "cell_type": "code",
   "execution_count": 27,
   "id": "ec133f2f-beac-44b3-96fa-b10e9990a06e",
   "metadata": {
    "execution": {
     "iopub.execute_input": "2025-03-29T23:41:55.614172Z",
     "iopub.status.busy": "2025-03-29T23:41:55.613764Z",
     "iopub.status.idle": "2025-03-29T23:41:56.219530Z",
     "shell.execute_reply": "2025-03-29T23:41:56.218861Z"
    }
   },
   "outputs": [
    {
     "data": {
      "image/png": "[encoded data removed]",
      "text/plain": [
       "<Figure size 640x480 with 1 Axes>"
      ]
     },
     "metadata": {},
     "output_type": "display_data"
    }
   ],
   "source": [
    "ax = sns.kdeplot(\n",
    "    x=ramachandran_exploration[:, 0], \n",
    "    y=ramachandran_exploration[:, 1], \n",
    "    fill=True, cmap='viridis', \n",
    "    thresh=0.05, levels=10\n",
    ")\n",
    "\n",
    "# Etiquetas y título (ajústalas según tu caso)\n",
    "ax.set_xlabel('Phi (°)')\n",
    "ax.set_ylabel('Psi (°)')\n",
    "ax.set_title('Ramachandran Plot')\n",
    "\n",
    "plt.show()"
   ]
  }
 ],
 "metadata": {
  "kernelspec": {
   "display_name": "Python 3 (ipykernel)",
   "language": "python",
   "name": "python3"
  },
  "language_info": {
   "codemirror_mode": {
    "name": "ipython",
    "version": 3
   },
   "file_extension": ".py",
   "mimetype": "text/x-python",
   "name": "python",
   "nbconvert_exporter": "python",
   "pygments_lexer": "ipython3",
   "version": "3.12.9"
  },
  "widgets": {
   "application/vnd.jupyter.widget-state+json": {
    "state": {
     "5428cf82957849059add12955687fda2": {
      "model_module": "nglview-js-widgets",
      "model_module_version": "3.1.4",
      "model_name": "ColormakerRegistryModel",
      "state": {
       "_dom_classes": [],
       "_model_module": "nglview-js-widgets",
       "_model_module_version": "3.1.4",
       "_model_name": "ColormakerRegistryModel",
       "_msg_ar": [],
       "_msg_q": [],
       "_ready": false,
       "_view_count": null,
       "_view_module": "nglview-js-widgets",
       "_view_module_version": "3.1.4",
       "_view_name": "ColormakerRegistryView",
       "layout": "IPY_MODEL_8893b7d48c93406282c17388f413373a",
       "tabbable": null,
       "tooltip": null
      }
     },
     "8893b7d48c93406282c17388f413373a": {
      "model_module": "@jupyter-widgets/base",
      "model_module_version": "2.0.0",
      "model_name": "LayoutModel",
      "state": {
       "_model_module": "@jupyter-widgets/base",
       "_model_module_version": "2.0.0",
       "_model_name": "LayoutModel",
       "_view_count": null,
       "_view_module": "@jupyter-widgets/base",
       "_view_module_version": "2.0.0",
       "_view_name": "LayoutView",
       "align_content": null,
       "align_items": null,
       "align_self": null,
       "border_bottom": null,
       "border_left": null,
       "border_right": null,
       "border_top": null,
       "bottom": null,
       "display": null,
       "flex": null,
       "flex_flow": null,
       "grid_area": null,
       "grid_auto_columns": null,
       "grid_auto_flow": null,
       "grid_auto_rows": null,
       "grid_column": null,
       "grid_gap": null,
       "grid_row": null,
       "grid_template_areas": null,
       "grid_template_columns": null,
       "grid_template_rows": null,
       "height": null,
       "justify_content": null,
       "justify_items": null,
       "left": null,
       "margin": null,
       "max_height": null,
       "max_width": null,
       "min_height": null,
       "min_width": null,
       "object_fit": null,
       "object_position": null,
       "order": null,
       "overflow": null,
       "padding": null,
       "right": null,
       "top": null,
       "visibility": null,
       "width": null
      }
     }
    },
    "version_major": 2,
    "version_minor": 0
   }
  }
 },
 "nbformat": 4,
 "nbformat_minor": 5
}
