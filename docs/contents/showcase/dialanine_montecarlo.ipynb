{
 "cells": [
  {
   "cell_type": "markdown",
   "id": "0145ab7e-7bab-4ccc-b392-89312affd738",
   "metadata": {},
   "source": [
    "# Dialanine Monte Carlo\n",
    "\n",
    "In this tutorial, we will explore the Ramachandran plot of the dialanine peptide using Metropolis Monte Carlo sampling, entirely within the MolSysMT environment.\n",
    "\n",
    "We'll walk through the following steps:\n",
    "\n",
    "- Construct a capped dialanine peptide in vacuum.\n",
    "- Interact with its backbone dihedral angles: φ (*phi*) and ψ (*psi*).\n",
    "- Perform Metropolis Monte Carlo sampling over these dihedrals.\n",
    "- Visualize the resulting Ramachandran distribution.\n",
    "\n",
    "Before starting the workflow, let’s import the Python libraries required for this notebook."
   ]
  },
  {
   "cell_type": "code",
   "execution_count": 1,
   "id": "067ef50a-b0ef-49a7-9eba-d58bf1fbeac2",
   "metadata": {},
   "outputs": [
    {
     "data": {
      "application/vnd.jupyter.widget-view+json": {
       "model_id": "9337d66b29164f7bb6f2ff730643698d",
       "version_major": 2,
       "version_minor": 0
      },
      "text/plain": []
     },
     "metadata": {},
     "output_type": "display_data"
    }
   ],
   "source": [
    "import numpy as np\n",
    "import seaborn as sns\n",
    "import molsysmt as msm\n",
    "from molsysmt import pyunitwizard as puw"
   ]
  },
  {
   "cell_type": "markdown",
   "id": "49d53956-7bee-4c3d-a437-51bcbc0e95e3",
   "metadata": {},
   "source": [
    "## Build the Dialanine Peptide\n",
    "\n",
    "We begin by constructing a dipeptide of alanine using the `molsysmt.build.build_peptide()` function.  \n",
    "To ensure the molecule remains neutral in charge, we cap it with an acetyl group (Ace) at the N-terminus and an N-methylamide group (Nme) at the C-terminus."
   ]
  },
  {
   "cell_type": "code",
   "execution_count": 2,
   "id": "4df71ab9-f4cb-4779-a5ae-7aa8544bf7b2",
   "metadata": {},
   "outputs": [],
   "source": [
    "dialanine = msm.build.build_peptide('AceAlaNme')"
   ]
  },
  {
   "cell_type": "markdown",
   "id": "5109adee-511f-49cf-9817-875205034547",
   "metadata": {},
   "source": [
    "The molecule can be visualized using the **NGLView** Python library."
   ]
  },
  {
   "cell_type": "code",
   "execution_count": 4,
   "id": "908b02e0-da94-4bd1-ab13-53032a051fb0",
   "metadata": {},
   "outputs": [
    {
     "data": {
      "application/vnd.jupyter.widget-view+json": {
       "model_id": "e7d8c6cdd623487abd02f438538e8cde",
       "version_major": 2,
       "version_minor": 0
      },
      "text/plain": [
       "NGLWidget()"
      ]
     },
     "metadata": {},
     "output_type": "display_data"
    }
   ],
   "source": [
    "msm.view(dialanine, viewer='NGLView')"
   ]
  },
  {
   "cell_type": "markdown",
   "id": "ec4da40f-8879-46ac-978a-6e7fe20a322c",
   "metadata": {},
   "source": [
    "## Playing with Phi and Psi\n",
    "\n",
    "Before running the Metropolis Monte Carlo simulation, let’s first explore some of the MolSysMT methods for extracting and modifying dihedral angles.\n",
    "\n",
    "The function `molsysmt.structure.get_dihedral_angles()` retrieves backbone torsion angles.  \n",
    "In this case, we are interested in the values of $\\phi$ (phi) and $\\psi$ (psi), which describe the conformation of the peptide backbone:\n",
    "\n",
    "- $\\phi$ (phi): the dihedral angle defined by the atoms $C–N–C_{α}–C$\n",
    "- $\\psi$ (psi): the dihedral angle defined by the atoms $N–C_{α}–C–N$\n"
   ]
  },
  {
   "cell_type": "code",
   "execution_count": 5,
   "id": "6aced379-b1df-4088-bbb8-17d2528ef718",
   "metadata": {},
   "outputs": [],
   "source": [
    "phis, psis = msm.structure.get_dihedral_angles(dialanine, phi=True, psi=True)"
   ]
  },
  {
   "cell_type": "code",
   "execution_count": 8,
   "id": "a844feaf-3205-4dd1-a5f2-842a406ab943",
   "metadata": {},
   "outputs": [
    {
     "data": {
      "text/html": [
       "<table><tbody><tr><th>Magnitude</th><td style='text-align:left;'><pre>[-179.9997761712254]</pre></td></tr><tr><th>Units</th><td style='text-align:left;'>degree</td></tr></tbody></table>"
      ],
      "text/latex": [
       "$\\begin{pmatrix}\\end{pmatrix}\\ \\mathrm{degree}$"
      ],
      "text/plain": [
       "<Quantity([-179.99977617], 'degree')>"
      ]
     },
     "execution_count": 8,
     "metadata": {},
     "output_type": "execute_result"
    }
   ],
   "source": [
    "phis[0] # There is only a single structure with a list of a single phi value"
   ]
  },
  {
   "cell_type": "code",
   "execution_count": 9,
   "id": "207ab595-fb38-4c82-96bd-7b821120c344",
   "metadata": {},
   "outputs": [
    {
     "data": {
      "text/html": [
       "<table><tbody><tr><th>Magnitude</th><td style='text-align:left;'><pre>[179.99992099940596]</pre></td></tr><tr><th>Units</th><td style='text-align:left;'>degree</td></tr></tbody></table>"
      ],
      "text/latex": [
       "$\\begin{pmatrix}\\end{pmatrix}\\ \\mathrm{degree}$"
      ],
      "text/plain": [
       "<Quantity([179.999921], 'degree')>"
      ]
     },
     "execution_count": 9,
     "metadata": {},
     "output_type": "execute_result"
    }
   ],
   "source": [
    "psis[0]"
   ]
  },
  {
   "cell_type": "markdown",
   "id": "2fe68c21-bae9-4046-b686-096f7f985a4b",
   "metadata": {},
   "source": [
    "We can also retrieve the atom quartets (lists of four atom indices) involved in the definition of each dihedral angle."
   ]
  },
  {
   "cell_type": "code",
   "execution_count": 10,
   "id": "9dbd2305-21a6-47a7-9ab0-6b27b8450a6b",
   "metadata": {},
   "outputs": [],
   "source": [
    "quartets_phi = msm.topology.get_dihedral_quartets(dialanine, phi=True)"
   ]
  },
  {
   "cell_type": "code",
   "execution_count": 11,
   "id": "df4bcdd9-2564-4932-bfb5-97ab50f253a2",
   "metadata": {},
   "outputs": [],
   "source": [
    "quartets_psi = msm.topology.get_dihedral_quartets(dialanine, psi=True)"
   ]
  },
  {
   "cell_type": "code",
   "execution_count": 12,
   "id": "b05cf321-0f70-418c-9a62-409671556365",
   "metadata": {},
   "outputs": [
    {
     "data": {
      "text/plain": [
       "[[4, 6, 8, 14]]"
      ]
     },
     "execution_count": 12,
     "metadata": {},
     "output_type": "execute_result"
    }
   ],
   "source": [
    "quartets_phi"
   ]
  },
  {
   "cell_type": "code",
   "execution_count": 13,
   "id": "1a315506-5601-4029-96ce-7ee7d0c93c88",
   "metadata": {},
   "outputs": [
    {
     "data": {
      "text/plain": [
       "[[6, 8, 14, 16]]"
      ]
     },
     "execution_count": 13,
     "metadata": {},
     "output_type": "execute_result"
    }
   ],
   "source": [
    "quartets_psi"
   ]
  },
  {
   "cell_type": "markdown",
   "id": "a9f8b602-a7a7-4344-acc9-180a7ae592b8",
   "metadata": {},
   "source": [
    "The values of the dihedral angles can be modified using the `molsysmt.structure.shift_dihedral_angles()` method.  \n",
    "Let’s illustrate how this is done in the following cell:"
   ]
  },
  {
   "cell_type": "code",
   "execution_count": 15,
   "id": "c26e5a74-623f-4457-9a77-904f115a4021",
   "metadata": {},
   "outputs": [],
   "source": [
    "msm.structure.shift_dihedral_angles(dialanine, dihedral_quartets=[quartets_phi[0], quartets_psi[0]],\n",
    "                                    shifts=['10 degrees', '-20 degrees'], in_place=True)"
   ]
  },
  {
   "cell_type": "markdown",
   "id": "aeada333-3261-4326-a032-6a6232eba8d3",
   "metadata": {},
   "source": [
    "Let’s verify that the dihedral angles have been correctly updated after the shift:"
   ]
  },
  {
   "cell_type": "code",
   "execution_count": 16,
   "id": "cccd528e-57ad-44f3-b5b5-b089790f453c",
   "metadata": {},
   "outputs": [],
   "source": [
    "phi, psi = msm.structure.get_dihedral_angles(dialanine, phi=True, psi=True)"
   ]
  },
  {
   "cell_type": "code",
   "execution_count": 17,
   "id": "117f1118-a87f-44f1-b198-f6a7ce398449",
   "metadata": {},
   "outputs": [
    {
     "data": {
      "text/html": [
       "<table><tbody><tr><th>Magnitude</th><td style='text-align:left;'><pre>[[-169.99977617280967]]</pre></td></tr><tr><th>Units</th><td style='text-align:left;'>degree</td></tr></tbody></table>"
      ],
      "text/latex": [
       "$\\begin{pmatrix}\\end{pmatrix}\\ \\mathrm{degree}$"
      ],
      "text/plain": [
       "<Quantity([[-169.99977617]], 'degree')>"
      ]
     },
     "execution_count": 17,
     "metadata": {},
     "output_type": "execute_result"
    }
   ],
   "source": [
    "phi"
   ]
  },
  {
   "cell_type": "code",
   "execution_count": 18,
   "id": "2d7970e9-cc1a-41f4-81c4-dd8cafb2a699",
   "metadata": {},
   "outputs": [
    {
     "data": {
      "text/html": [
       "<table><tbody><tr><th>Magnitude</th><td style='text-align:left;'><pre>[[159.99992100450456]]</pre></td></tr><tr><th>Units</th><td style='text-align:left;'>degree</td></tr></tbody></table>"
      ],
      "text/latex": [
       "$\\begin{pmatrix}\\end{pmatrix}\\ \\mathrm{degree}$"
      ],
      "text/plain": [
       "<Quantity([[159.999921]], 'degree')>"
      ]
     },
     "execution_count": 18,
     "metadata": {},
     "output_type": "execute_result"
    }
   ],
   "source": [
    "psi"
   ]
  },
  {
   "cell_type": "markdown",
   "id": "f5ba7efb-0922-4d46-b212-fd19ee25428a",
   "metadata": {},
   "source": [
    "## Getting the Potential Energy\n",
    "\n",
    "At this point, we have our molecular system ready, and we’ve seen how to retrieve and modify its backbone dihedral angles ($\\phi$, $\\psi$).  \n",
    "To complete the setup for a Metropolis Monte Carlo sampling workflow, we also need to compute the potential energy of the dipeptide in vacuum.\n",
    "\n",
    "This can be done using the function {func}`molsysmt.molecular_mechanics.get_potential_energy`."
   ]
  },
  {
   "cell_type": "code",
   "execution_count": 19,
   "id": "6522bf95-de7a-49b8-9ca5-4c2c95f919e2",
   "metadata": {},
   "outputs": [
    {
     "data": {
      "text/html": [
       "-72.52919440013837 kilojoule/mole"
      ],
      "text/latex": [
       "$-72.52919440013837\\ \\frac{\\mathrm{kilojoule}}{\\mathrm{mole}}$"
      ],
      "text/plain": [
       "<Quantity(-72.5291944, 'kilojoule / mole')>"
      ]
     },
     "execution_count": 19,
     "metadata": {},
     "output_type": "execute_result"
    }
   ],
   "source": [
    "msm.molecular_mechanics.get_potential_energy(dialanine)"
   ]
  },
  {
   "cell_type": "markdown",
   "id": "7b49a6c7-271d-4502-98aa-a48408b1e76c",
   "metadata": {},
   "source": [
    "## Metropolis Monte Carlo\n",
    "\n",
    "We now have all the building blocks to implement a Metropolis Monte Carlo sampling routine for our dialanine system.\n",
    "\n",
    "Next, we’ll define the temperature, the number of Monte Carlo steps, and the **Boltzmann constant**, which are required to evaluate the acceptance criterion for each Monte Carlo move:\n",
    "\n",
    "\n",
    "$$\n",
    "P = \n",
    "\\begin{cases}\n",
    "1, & \\text{if } \\Delta E \\leq 0 \\\\\\\\\n",
    "\\exp\\left( -\\dfrac{\\Delta E}{k_B T} \\right), & \\text{if } \\Delta E > 0\n",
    "\\end{cases}\n",
    "$$\n",
    "\n",
    "Where:\n",
    "- $\\Delta E = E_{\\text{after}} - E_{\\text{before}}$ is the change in potential energy.\n",
    "- $k_B$ is the Boltzmann constant.\n",
    "- $T$ is the absolute temperature in Kelvin."
   ]
  },
  {
   "cell_type": "code",
   "execution_count": 27,
   "id": "017d53c6-3ec8-46fe-9224-aa8163f30485",
   "metadata": {},
   "outputs": [],
   "source": [
    "temperature = puw.quantity(900.0, 'kelvin')\n",
    "kB = puw.quantity('0.00813446261815324 kilojoules/(kelvin*mole)')"
   ]
  },
  {
   "cell_type": "markdown",
   "id": "ee4afaed-f0fb-4d11-aaba-0995ff4ce1ea",
   "metadata": {},
   "source": [
    "Now, let’s define the Monte Carlo move. Each dihedral angle will be randomly shifted within the interval [ $-20^\\circ$, $20^\\circ$),  \n",
    "using a uniform probability distribution."
   ]
  },
  {
   "cell_type": "code",
   "execution_count": 31,
   "id": "1facfb8d-e835-4803-b695-ffc8e58034f8",
   "metadata": {},
   "outputs": [
    {
     "name": "stdout",
     "output_type": "stream",
     "text": [
      "[-25.960410871161823 -13.715678261304793] degree\n"
     ]
    }
   ],
   "source": [
    "max_step = puw.quantity(40.0, 'degrees')\n",
    "random_shifts = np.random.uniform(-1, 1, size=2) * max_step\n",
    "\n",
    "print(random_shifts)"
   ]
  },
  {
   "cell_type": "markdown",
   "id": "9c414dc7-bd21-4394-8da8-79519a592a36",
   "metadata": {},
   "source": [
    "We can now run the Metropolis Monte Carlo simulation, keeping track of the visited dihedral angles and the acceptance ratio."
   ]
  },
  {
   "cell_type": "code",
   "execution_count": 50,
   "id": "e59297b5-a5fd-4b70-bdd2-15f7fbee2fbb",
   "metadata": {},
   "outputs": [],
   "source": [
    "mc_steps = 100\n",
    "ramachandran_exploration = []"
   ]
  },
  {
   "cell_type": "code",
   "execution_count": 51,
   "id": "57c01aa3-42c4-40fa-b70d-fee95e09b562",
   "metadata": {},
   "outputs": [],
   "source": [
    "E_before = msm.molecular_mechanics.get_potential_energy(dialanine)\n",
    "angles = msm.structure.get_dihedral_angles(dialanine, dihedral_quartets=[quartets_phi[0], quartets_psi[0]])\n",
    "\n",
    "n_accepted = 0\n",
    "\n",
    "for _ in range(mc_steps):\n",
    "    \n",
    "    random_shifts = np.random.uniform(-1, 1, size=2) * max_step\n",
    "    dialanine_after = msm.structure.shift_dihedral_angles(dialanine, dihedral_quartets=[quartets_phi[0], quartets_psi[0]],\n",
    "                                                          shifts=random_shifts)\n",
    "    E_after = msm.molecular_mechanics.get_potential_energy(dialanine_after)\n",
    "    \n",
    "    delta_E = E_after - E_before\n",
    "\n",
    "    if delta_E <= 0:\n",
    "        accept = True\n",
    "    else:\n",
    "        prob = np.exp(-delta_E / (kB * temperature))\n",
    "        accept = np.random.rand() < prob\n",
    "\n",
    "    if accept:\n",
    "        n_accepted += 1\n",
    "        dialanine = dialanine_after\n",
    "        E_before = E_after\n",
    "        angles = msm.structure.get_dihedral_angles(dialanine, dihedral_quartets=[quartets_phi[0], quartets_psi[0]])\n",
    "\n",
    "    ramachandran_exploration.append(angles[0])"
   ]
  },
  {
   "cell_type": "markdown",
   "id": "01dbe759-6dce-42d9-b02b-1714df2b5b10",
   "metadata": {},
   "source": [
    "Let’s take a look at the acceptance ratio from our Monte Carlo exploration:"
   ]
  },
  {
   "cell_type": "code",
   "execution_count": 52,
   "id": "fafd29f7-766c-45f4-89e5-e5299612cdfa",
   "metadata": {},
   "outputs": [
    {
     "data": {
      "text/plain": [
       "0.6"
      ]
     },
     "execution_count": 52,
     "metadata": {},
     "output_type": "execute_result"
    }
   ],
   "source": [
    "n_accepted/mc_steps"
   ]
  },
  {
   "cell_type": "markdown",
   "id": "6e222371-49e8-4311-814d-f829a49241b2",
   "metadata": {},
   "source": [
    "And here are the first 5 ($\\phi$, $\\psi$) angle pairs recorded during the simulation:"
   ]
  },
  {
   "cell_type": "code",
   "execution_count": 53,
   "id": "db436329-7eff-493f-b9e7-3f91dad91f1e",
   "metadata": {},
   "outputs": [
    {
     "data": {
      "text/plain": [
       "[<Quantity([-81.71641341  93.83109432], 'degree')>,\n",
       " <Quantity([-81.71641341  93.83109432], 'degree')>,\n",
       " <Quantity([-81.71641341  93.83109432], 'degree')>,\n",
       " <Quantity([-81.59129564 112.50126769], 'degree')>,\n",
       " <Quantity([-73.19328388 106.79423291], 'degree')>]"
      ]
     },
     "execution_count": 53,
     "metadata": {},
     "output_type": "execute_result"
    }
   ],
   "source": [
    "ramachandran_exploration[:5]"
   ]
  },
  {
   "cell_type": "markdown",
   "id": "8f4d2c29-4d78-4b6c-8617-318d2bdeb2db",
   "metadata": {},
   "source": [
    "### Resulting Ramachandran Plot\n",
    "\n",
    "The list of collected dihedral angle pairs ($\\phi$, $\\psi$) can be used to generate a density map over the Ramachandran plot.  \n",
    "For this, we’ll use the Seaborn Python library to create a smooth and visually informative representation of the sampled conformational space."
   ]
  },
  {
   "cell_type": "code",
   "execution_count": 47,
   "id": "0d46d846-db9a-4115-948e-743b260d3820",
   "metadata": {},
   "outputs": [],
   "source": [
    "import matplotlib.pyplot as plt\n",
    "import seaborn as sns"
   ]
  },
  {
   "cell_type": "markdown",
   "id": "ac7f0c12-b104-4c9b-b087-d24fd4c669df",
   "metadata": {},
   "source": [
    "But first, we need to convert the `ramachandran_exploration` list into a NumPy `ndarray` with shape (mc_steps, 2).  \n",
    "We'll also strip out the units (degrees) from the quantity to work directly with the raw numerical values:"
   ]
  },
  {
   "cell_type": "code",
   "execution_count": 55,
   "id": "4fc2cd6c-d26b-4342-b861-f50ad8fb2b6a",
   "metadata": {},
   "outputs": [],
   "source": [
    "ramachandran_exploration = puw.utils.numpy.vstack(ramachandran_exploration)\n",
    "ramachandran_exploration = puw.get_value(ramachandran_exploration)"
   ]
  },
  {
   "cell_type": "markdown",
   "id": "cac89ba5-8752-4176-a97a-67154ecae3d4",
   "metadata": {},
   "source": [
    "Finally, here it is the resulting Ramachandran plot:"
   ]
  },
  {
   "cell_type": "code",
   "execution_count": 56,
   "id": "ec133f2f-beac-44b3-96fa-b10e9990a06e",
   "metadata": {},
   "outputs": [
    {
     "data": {
      "image/png": "[encoded data removed]",
      "text/plain": [
       "<Figure size 640x480 with 1 Axes>"
      ]
     },
     "metadata": {},
     "output_type": "display_data"
    }
   ],
   "source": [
    "ax = sns.kdeplot(\n",
    "    x=ramachandran_exploration[:, 0], \n",
    "    y=ramachandran_exploration[:, 1], \n",
    "    fill=True, cmap='viridis', \n",
    "    thresh=0.05, levels=10\n",
    ")\n",
    "\n",
    "# Etiquetas y título (ajústalas según tu caso)\n",
    "ax.set_xlabel('Phi (°)')\n",
    "ax.set_ylabel('Psi (°)')\n",
    "ax.set_title('Ramachandran Plot')\n",
    "\n",
    "plt.show()"
   ]
  }
 ],
 "metadata": {
  "kernelspec": {
   "display_name": "Python 3 (ipykernel)",
   "language": "python",
   "name": "python3"
  },
  "language_info": {
   "codemirror_mode": {
    "name": "ipython",
    "version": 3
   },
   "file_extension": ".py",
   "mimetype": "text/x-python",
   "name": "python",
   "nbconvert_exporter": "python",
   "pygments_lexer": "ipython3",
   "version": "3.12.8"
  }
 },
 "nbformat": 4,
 "nbformat_minor": 5
}
