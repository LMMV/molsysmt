{
 "cells": [
  {
   "cell_type": "code",
   "execution_count": null,
   "metadata": {},
   "outputs": [],
   "source": [
    "%load_ext autoreload\n",
    "%autoreload 2\n",
    "#%matplotlib widget\n"
   ]
  },
  {
   "cell_type": "code",
   "execution_count": null,
   "metadata": {},
   "outputs": [],
   "source": [
    "import molsysmt as msm\n",
    "import nglview as nv\n",
    "#import warnings\n",
    "#warnings.filterwarnings('ignore')"
   ]
  },
  {
   "cell_type": "markdown",
   "metadata": {},
   "source": [
    "# Working with NGLView"
   ]
  },
  {
   "cell_type": "code",
   "execution_count": null,
   "metadata": {},
   "outputs": [],
   "source": [
    "molecular_system = msm.convert([nv.datafiles.GRO, nv.datafiles.XTC], to_form='molsysmt.MolSys')"
   ]
  },
  {
   "cell_type": "code",
   "execution_count": null,
   "metadata": {},
   "outputs": [],
   "source": [
    "nv.show_molsysmt(molecular_system)"
   ]
  },
  {
   "cell_type": "code",
   "execution_count": null,
   "metadata": {},
   "outputs": [],
   "source": [
    "view = msm.view(molecular_system, standard=True)\n",
    "view"
   ]
  },
  {
   "cell_type": "code",
   "execution_count": null,
   "metadata": {},
   "outputs": [],
   "source": [
    "msm.info(view)"
   ]
  },
  {
   "cell_type": "code",
   "execution_count": null,
   "metadata": {},
   "outputs": [],
   "source": [
    "msm.get(view, element='group', selection=[81, 82, 83], name=True)"
   ]
  },
  {
   "cell_type": "code",
   "execution_count": null,
   "metadata": {},
   "outputs": [],
   "source": [
    "msm.get(view, element='system', n_structures=True)"
   ]
  },
  {
   "cell_type": "code",
   "execution_count": null,
   "metadata": {},
   "outputs": [],
   "source": [
    "msm.get(view, element='atom', selection='atom_name==\"CA\"', coordinates=True)"
   ]
  },
  {
   "cell_type": "code",
   "execution_count": null,
   "metadata": {},
   "outputs": [],
   "source": [
    "msm.get(view, element='system', box=True) # Warning: only 1 frame"
   ]
  },
  {
   "cell_type": "code",
   "execution_count": null,
   "metadata": {},
   "outputs": [],
   "source": [
    "msm.select(view, selection='atom_name==\"CA\" and group_name==\"LYS\"')"
   ]
  },
  {
   "cell_type": "code",
   "execution_count": null,
   "metadata": {},
   "outputs": [],
   "source": [
    "msm.select(view, selection='atom_name==\"CA\" and group_name==\"LYS\"', to_syntax='nglview')"
   ]
  },
  {
   "cell_type": "code",
   "execution_count": null,
   "metadata": {},
   "outputs": [],
   "source": [
    "msm.select(view, element='group', selection='group_name==\"LYS\"', to_syntax='nglview')"
   ]
  },
  {
   "cell_type": "code",
   "execution_count": null,
   "metadata": {},
   "outputs": [],
   "source": [
    "contact_map = msm.structure.get_contacts(view, selection='molecule_type==\"protein\" and atom_name==\"CA\"', threshold='12 angstroms')"
   ]
  },
  {
   "cell_type": "code",
   "execution_count": null,
   "metadata": {},
   "outputs": [],
   "source": [
    "CA_labels = msm.get_label(view, selection='molecule_type==\"protein\" and atom_name==\"CA\"', string='{group_name}-{group_id}')"
   ]
  },
  {
   "cell_type": "code",
   "execution_count": null,
   "metadata": {},
   "outputs": [],
   "source": [
    "print(CA_labels[100])"
   ]
  },
  {
   "cell_type": "code",
   "execution_count": null,
   "metadata": {
    "editable": true,
    "slideshow": {
     "slide_type": ""
    },
    "tags": [
     "remove-cell"
    ]
   },
   "outputs": [],
   "source": [
    "# This cell is skipped with the cell tag \"remove-cell\"\n",
    "\n",
    "#%matplotlib widget # This in the first cell of the notebook\n",
    "\n",
    "import matplotlib.pyplot as plt\n",
    "import matplotlib.animation as animation\n",
    "\n",
    "\n",
    "plt.rcParams[\"animation.html\"] = \"jshtml\"\n",
    "\n",
    "fig = plt.figure()\n",
    "\n",
    "structure_index = 0\n",
    "im = plt.imshow(contact_map[structure_index], cmap='Greys', origin='lower', animated=True)\n",
    "plt.xticks(range(0,contact_map.shape[1],25),CA_labels[::25], rotation=45)\n",
    "plt.yticks(range(0,contact_map.shape[1],25),CA_labels[::25], rotation=45)\n",
    "\n",
    "def updatefig(ii):\n",
    "    global structure_index, contact_map\n",
    "    structure_index = ii\n",
    "    im.set_array(contact_map[structure_index])\n",
    "    return im,\n",
    "\n",
    "ani = animation.FuncAnimation(fig, updatefig, frames=contact_map.shape[0], blit=True, repeat=True)\n",
    "#plt.show()\n",
    "plt.close()\n",
    "ani"
   ]
  },
  {
   "cell_type": "code",
   "execution_count": null,
   "metadata": {},
   "outputs": [],
   "source": [
    "import plotly.express as px\n",
    "\n",
    "fig = px.imshow(~contact_map, animation_frame=0, binary_string=True, height=600, origin='lower')\n",
    "\n",
    "fig.update_layout(\n",
    "    xaxis = dict(\n",
    "        tickmode = 'array',\n",
    "        tickvals = list(range(0,contact_map.shape[1],25)),\n",
    "        ticktext = CA_labels[::25],\n",
    "        tickangle = 45\n",
    "    ),\n",
    "    yaxis = dict(\n",
    "        tickmode = 'array',\n",
    "        tickvals = list(range(0,contact_map.shape[1],25)),\n",
    "        ticktext = CA_labels[::25],\n",
    "        tickangle = 45\n",
    "    )\n",
    ")\n",
    "\n",
    "fig.show()"
   ]
  },
  {
   "cell_type": "code",
   "execution_count": null,
   "metadata": {},
   "outputs": [],
   "source": [
    "msm.convert(view, to_form='string:aminoacids3')"
   ]
  },
  {
   "cell_type": "code",
   "execution_count": null,
   "metadata": {},
   "outputs": [],
   "source": [
    "molsys_A = msm.build.build_peptide('AceAlaNME')\n",
    "molsys_B = msm.structure.translate(molsys_A, translation='[0.5, 0.0, 0.0] nm')"
   ]
  },
  {
   "cell_type": "code",
   "execution_count": null,
   "metadata": {},
   "outputs": [],
   "source": [
    "view1 = msm.convert(molsys_A, to_form='nglview.NGLWidget')\n",
    "view2 = msm.view(molsys_B)"
   ]
  },
  {
   "cell_type": "code",
   "execution_count": null,
   "metadata": {},
   "outputs": [],
   "source": [
    "view = msm.merge([view1, view2])"
   ]
  },
  {
   "cell_type": "code",
   "execution_count": null,
   "metadata": {},
   "outputs": [],
   "source": [
    "msm.info(view)"
   ]
  },
  {
   "cell_type": "code",
   "execution_count": null,
   "metadata": {},
   "outputs": [],
   "source": [
    "msm.structure.get_geometric_center(view, selection='molecule_index==0')"
   ]
  },
  {
   "cell_type": "code",
   "execution_count": null,
   "metadata": {},
   "outputs": [],
   "source": [
    "msm.structure.get_geometric_center(view, selection='molecule_index==1')"
   ]
  },
  {
   "cell_type": "code",
   "execution_count": null,
   "metadata": {},
   "outputs": [],
   "source": [
    "msm.structure.get_distances(view, selection='molecule_index==0', selection_2='molecule_index==1',\n",
    "                            group_behavior='geometric center', group_behavior_2='geometric center')"
   ]
  },
  {
   "cell_type": "code",
   "execution_count": null,
   "metadata": {},
   "outputs": [],
   "source": []
  }
 ],
 "metadata": {
  "kernelspec": {
   "display_name": "Python 3 (ipykernel)",
   "language": "python",
   "name": "python3"
  },
  "language_info": {
   "codemirror_mode": {
    "name": "ipython",
    "version": 3
   },
   "file_extension": ".py",
   "mimetype": "text/x-python",
   "name": "python",
   "nbconvert_exporter": "python",
   "pygments_lexer": "ipython3",
   "version": "3.10.11"
  }
 },
 "nbformat": 4,
 "nbformat_minor": 4
}
