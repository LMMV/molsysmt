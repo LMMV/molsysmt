{
 "cells": [
  {
   "cell_type": "code",
   "execution_count": 1,
   "id": "99c10f0a-9484-4e1f-b521-2e00f8c78e4e",
   "metadata": {},
   "outputs": [],
   "source": [
    "# This cell is removed with the tag: \"remove-input\"\n",
    "# As such, it will not be shown in documentation\n",
    "\n",
    "static_dir = '../../../_static/nglview/about/showcase/quickstart_guide/'\n",
    "nglview_htmlfiles = [\n",
    "    static_dir+'protein_181L.html',\n",
    "    static_dir+'tetrapeptide.html'\n",
    "] # in order of apparence"
   ]
  },
  {
   "cell_type": "markdown",
   "id": "be8c4864-07da-43d1-b781-04679d64282b",
   "metadata": {},
   "source": [
    "# Quickstart guide\n",
    "\n",
    "## Get ready\n",
    "\n",
    "Install MolSysMT in your conda env:\n",
    "\n",
    "```bash\n",
    "conda install -c uibcdf molsysmt\n",
    "```\n",
    "\n",
    "Open a Jupyter notebook and import the library:"
   ]
  },
  {
   "cell_type": "code",
   "execution_count": null,
   "id": "bce83cbe-b3e2-41e1-b2db-9dd3ffd20e44",
   "metadata": {},
   "outputs": [],
   "source": [
    "import molsysmt as msm"
   ]
  },
  {
   "cell_type": "markdown",
   "id": "85cf1e17-ef49-4174-828f-fbc233f02ea5",
   "metadata": {},
   "source": [
    "## A molecular system\n",
    "\n",
    "Let's define a first molecular system with a PDB id."
   ]
  },
  {
   "cell_type": "code",
   "execution_count": null,
   "id": "82ee6d56-f740-4c47-9f95-fc5279ec4273",
   "metadata": {},
   "outputs": [],
   "source": [
    "molecular_system = '181L'"
   ]
  },
  {
   "cell_type": "markdown",
   "id": "ede0b137-b3eb-46d7-b2ad-1d70c17d83c8",
   "metadata": {},
   "source": [
    "In MolSysMT's language, a molecular system can have different forms. Not every form has the same attributes, but they are all different representations of the same system. For example, a PDB id is a form of a molecular system containing a list of atom names, atom residues, chains... etc, of a molecular system together with the spatial coordinates of a structure (or many)."
   ]
  },
  {
   "cell_type": "code",
   "execution_count": null,
   "id": "3d6503fe-6269-4731-b0f1-ae834af7bdd9",
   "metadata": {},
   "outputs": [],
   "source": [
    "form = msm.get_form(molecular_system)\n",
    "print(f'The molecular system has the \"{form}\" form')"
   ]
  },
  {
   "cell_type": "markdown",
   "id": "d79456b9-5bcc-437e-a8f2-32b65985db8f",
   "metadata": {},
   "source": [
    "We can get a description any molecular system with the help of the `molsysmt.info` function:"
   ]
  },
  {
   "cell_type": "code",
   "execution_count": null,
   "id": "5a5f6599-ab98-4c03-9649-bc61c4046863",
   "metadata": {},
   "outputs": [],
   "source": [
    "msm.info(molecular_system)"
   ]
  },
  {
   "cell_type": "markdown",
   "id": "036e2dd4-1702-4698-81d5-36300254f419",
   "metadata": {},
   "source": [
    "In MolSysMT's language, a molecular system can have different forms. Not every form has the same attributes, but they are all different representations of the same system. For example, a PDB id, the corresponding pdb file or mmtf file, a trajectory object of mdtraj or pytraj, an NGLWidget of nglview, or a MolSys native object of MolSysMT can be all different forms of a molecular system.\n",
    "\n",
    "To follow with this \"Quick guide\", we will need an appropriate form of our system. Let's try to work with the native form `molsysmt.MolSys` since working all the time with the PDB id is not very efficient. Forms conversions can be done with one of the most relevant MolSysMT basic functions: `molsysmt.convert()`."
   ]
  },
  {
   "cell_type": "code",
   "execution_count": null,
   "id": "b9d886ce-0f59-4673-9b20-7b95c81d26b6",
   "metadata": {},
   "outputs": [],
   "source": [
    "molecular_system = msm.convert(molecular_system, to_form='molsysmt.MolSys')\n",
    "\n",
    "old_form = form\n",
    "form = msm.get_form(molecular_system)\n",
    "print(f'The molecular system was converted from \"{old_form}\" to \"{form}\"')"
   ]
  },
  {
   "cell_type": "markdown",
   "id": "3bfc453e-54c9-409f-ae76-2ea061b1056a",
   "metadata": {},
   "source": [
    "```{admonition} Note\n",
    ":class: note\n",
    "MolSysMT includes some native forms such as 'molsysmt.MolSys', 'molsysmt.Topology' or 'molsysmt.Structures'.\n",
    "```"
   ]
  },
  {
   "cell_type": "markdown",
   "id": "637d725c-f82f-44de-a620-2527b4f21b40",
   "metadata": {},
   "source": [
    "## Elements selection\n",
    "\n",
    "One of the most common steps in every workflow when working with a molecular system model is the elements selection.\n",
    "\n",
    "A molecular system is composed of elements. The basic and fundamental element is the \"atom\". But other levels of hyerarchical groups of atoms are defined by other elements such as \"group\", \"component\", \"molecular\", \"chain\" or \"entity\".\n",
    "\n",
    "### Some selection examples\n",
    "\n",
    "Let's get a general information summary regarding \"entity\" elements:"
   ]
  },
  {
   "cell_type": "code",
   "execution_count": null,
   "id": "6aa5f365-64c1-4a00-a771-c95f113b4f76",
   "metadata": {},
   "outputs": [],
   "source": [
    "msm.info(molecular_system, element='entity')"
   ]
  },
  {
   "cell_type": "markdown",
   "id": "dac550d8-169a-4321-aefa-ead8e7630472",
   "metadata": {},
   "source": [
    "To quickly introduce how the selection tool works in MolSysMT, let's illustrate its use getting the atom indices from the entity type \"ion\":"
   ]
  },
  {
   "cell_type": "code",
   "execution_count": null,
   "id": "b4ab35e8-50d4-4ff7-9c4a-c2faf3601f35",
   "metadata": {},
   "outputs": [],
   "source": [
    "ions = msm.select(molecular_system, selection='entity_type==\"ion\"')"
   ]
  },
  {
   "cell_type": "code",
   "execution_count": null,
   "id": "c5222aad-a875-4b96-a481-2264ad940d24",
   "metadata": {},
   "outputs": [],
   "source": [
    "print(ions)"
   ]
  },
  {
   "cell_type": "markdown",
   "id": "282672e6-a452-4b38-b8ac-95f952681835",
   "metadata": {},
   "source": [
    "To proof that these atom indices correspond in deed to ions, let's use again the function `molsysmt.info` this time with the input argument `element='atom'`:"
   ]
  },
  {
   "cell_type": "code",
   "execution_count": null,
   "id": "94a985af-c920-4c1f-88f4-502faaa1624a",
   "metadata": {},
   "outputs": [],
   "source": [
    "msm.info(molecular_system, element='atom', indices=ions)"
   ]
  },
  {
   "cell_type": "markdown",
   "id": "11ddccae-9cf0-4578-b6ac-ae955e49cb5b",
   "metadata": {},
   "source": [
    "The selection tool works as expected. But the selection condition was very simple. Let's show in the following lines some cases just a bit more complicated. For example, can spatial restrictions be included in our selections with MolSysMT? The answer is yes... check this out:"
   ]
  },
  {
   "cell_type": "code",
   "execution_count": null,
   "id": "70d4c6a7-93c3-4da5-8592-0ac056d95d0a",
   "metadata": {},
   "outputs": [],
   "source": [
    "CAs_in_contact = msm.select(molecular_system, selection='atom_name==\"CA\" within 5.0 angstroms of @ions')"
   ]
  },
  {
   "cell_type": "code",
   "execution_count": null,
   "id": "992ff8d3-fdc2-4686-9a99-c4df769305c3",
   "metadata": {},
   "outputs": [],
   "source": [
    "print(CAs_in_contact)"
   ]
  },
  {
   "cell_type": "markdown",
   "id": "7660bd2c-3e18-4411-a71f-9fff1497c860",
   "metadata": {},
   "source": [
    "Ok, but what if we want the groups (residues in this case) and not the atoms fulfiling this former condition:"
   ]
  },
  {
   "cell_type": "code",
   "execution_count": null,
   "id": "64167038-0f08-4ccf-834b-a3c06975a0d5",
   "metadata": {},
   "outputs": [],
   "source": [
    "residues_in_contact = msm.select(molecular_system, element='group', selection='atom_name==\"CA\" within 5.0 angstroms of @ions')"
   ]
  },
  {
   "cell_type": "code",
   "execution_count": null,
   "id": "4d911e17-bbf3-44fc-8897-f98f8fe24a73",
   "metadata": {},
   "outputs": [],
   "source": [
    "residues_in_contact"
   ]
  },
  {
   "cell_type": "markdown",
   "id": "09148029-d2d3-445b-a8bc-119eb05900de",
   "metadata": {},
   "source": [
    "These former group indices in the variable `residues_in_contact` must content those group indices of the atom indices in `CAs_in_contact`. This can be checked with the following line:"
   ]
  },
  {
   "cell_type": "code",
   "execution_count": null,
   "id": "7a9fdcb2-c756-4b78-9129-7e176730f1a9",
   "metadata": {},
   "outputs": [],
   "source": [
    "residues_from_CAs_in_contact = msm.get(molecular_system, element='group', selection='atom_index in @CAs_in_contact', group_index=True)"
   ]
  },
  {
   "cell_type": "code",
   "execution_count": null,
   "id": "1578e9b8-f4cc-4e73-94b1-e60275a88784",
   "metadata": {},
   "outputs": [],
   "source": [
    "residues_from_CAs_in_contact in residues_in_contact"
   ]
  },
  {
   "cell_type": "markdown",
   "id": "ef648dc3-69d4-4eac-a620-70f3e37146d5",
   "metadata": {},
   "source": [
    "### Use your favorite selection syntax\n",
    "\n",
    "You don't need to learn a new selection syntax if you don't want to. We are sure you got used to the syntax of other very popular and useful tools such as MDTraj. It thats your case, use it:"
   ]
  },
  {
   "cell_type": "code",
   "execution_count": null,
   "id": "927dc8bc-a25a-48f4-b303-6269725cc63f",
   "metadata": {},
   "outputs": [],
   "source": [
    "msm.select(molecular_system, selection='name =~ \"C[1-4]\"', syntax='MDTraj')"
   ]
  },
  {
   "cell_type": "markdown",
   "id": "038dab06-6690-4b90-aec8-a90599cc79ab",
   "metadata": {},
   "source": [
    "### Translate a selection into other syntax\n",
    "\n",
    "Maybe, you need to use a selection condition in another very popular and useful tool such as NGLView. But you don't remember the proper syntax rules. MolSysMT can also help in this case:"
   ]
  },
  {
   "cell_type": "code",
   "execution_count": null,
   "id": "da1d8f9e-4057-4d67-9ec5-270ac280d314",
   "metadata": {},
   "outputs": [],
   "source": [
    "msm.select(molecular_system, element='group', selection='molecule_type==\"ion\"', to_syntax='NGLView')"
   ]
  },
  {
   "cell_type": "markdown",
   "id": "3dd74e3f-4e61-4a01-9f65-ff91f362ea91",
   "metadata": {},
   "source": [
    "## Getting attributes\n",
    "\n",
    "Molecular systems, and its elements, have attributes. Those attributes can be the number of atoms, the number of structures, the name of an atom or the id of chain. MolSysMT includes a function to obtain the attribute values need of a molecular system or a specific set of elements of it: `molsysmt.get()`.\n",
    "\n",
    "Let's show how this function operates with some simple examples. First, wondering about some general attributes of the molecular system:"
   ]
  },
  {
   "cell_type": "code",
   "execution_count": null,
   "id": "442d4819-e848-40e9-85e1-a1038c105490",
   "metadata": {},
   "outputs": [],
   "source": [
    "msm.get(molecular_system, n_atoms=True)"
   ]
  },
  {
   "cell_type": "code",
   "execution_count": null,
   "id": "73621b74-6fca-4233-bd86-62305baa122d",
   "metadata": {},
   "outputs": [],
   "source": [
    "msm.get(molecular_system, n_structures=True)"
   ]
  },
  {
   "cell_type": "code",
   "execution_count": null,
   "id": "d6dded47-5789-484c-b7a8-b01c63f33b5c",
   "metadata": {},
   "outputs": [],
   "source": [
    "msm.get(molecular_system, box_volume=True)"
   ]
  },
  {
   "cell_type": "markdown",
   "id": "66973659-b777-4090-b4d5-43f20d69a711",
   "metadata": {},
   "source": [
    "Let's get now some attributes of some elements:"
   ]
  },
  {
   "cell_type": "code",
   "execution_count": null,
   "id": "4d1bb041-2cde-400e-affe-b65c147ee460",
   "metadata": {},
   "outputs": [],
   "source": [
    "msm.get(molecular_system, element='atom', selection=[10, 11, 12], atom_name=True, group_name=True)"
   ]
  },
  {
   "cell_type": "code",
   "execution_count": null,
   "id": "d81e2d76-d0ed-4c28-9852-a978e625bed9",
   "metadata": {},
   "outputs": [],
   "source": [
    "msm.get(molecular_system, element='atom', selection='molecule_type==\"ion\"', coordinates=True)"
   ]
  },
  {
   "cell_type": "code",
   "execution_count": null,
   "id": "ecb85467-049d-472d-a5dd-8fde6071a0da",
   "metadata": {},
   "outputs": [],
   "source": [
    "msm.get(molecular_system, element='chain', selection='molecule_type==\"water\"', id=True)"
   ]
  },
  {
   "cell_type": "markdown",
   "id": "6dc5e41e-3287-4e96-a827-6338d17d9f17",
   "metadata": {},
   "source": [
    "## Tools\n",
    "\n",
    "MolSysMT have different categories of tools to work with molecular modules. They can be found in the modules: `molsysmt.basic`, `molsysmt.build`, `molsysmt.topology`, `molsysmt.structure`, `molsysmt.pbc`, etc. Let's illustrate here how some of these tools work.\n",
    "\n",
    "```{admonition} Note\n",
    ":class: Note\n",
    "*MolSysMT is form agnostic*. All tools work no matter the form of the input molecular system.\n",
    "```"
   ]
  },
  {
   "cell_type": "markdown",
   "id": "3e9e882a-d21b-40e5-bb34-2926a7480a2c",
   "metadata": {},
   "source": [
    "### Basic\n",
    "\n",
    "\"Basic\" tools such as `select`, `get`, `convert`, `add`, or `remove`, can be found in the module `molsysmt.basic`. Let's see some examples:"
   ]
  },
  {
   "cell_type": "code",
   "execution_count": null,
   "id": "3e49dd58-69c2-46e9-8117-1d5da04beb5a",
   "metadata": {},
   "outputs": [],
   "source": [
    "molecular_system = msm.basic.convert('181L', to_form='pdbfixer.PDBFixer')"
   ]
  },
  {
   "cell_type": "code",
   "execution_count": null,
   "id": "244a796c-b859-4294-ad7d-5cb99e5b85e7",
   "metadata": {},
   "outputs": [],
   "source": [
    "msm.basic.get_form(molecular_system)"
   ]
  },
  {
   "cell_type": "code",
   "execution_count": null,
   "id": "774a5b02-f608-4392-a225-e842a3385c6c",
   "metadata": {},
   "outputs": [],
   "source": [
    "msm.basic.contains(molecular_system, waters=True, ions=True, small_molecules=True)"
   ]
  },
  {
   "cell_type": "code",
   "execution_count": null,
   "id": "b6808654-5aaf-4a59-8aaf-626105ed442f",
   "metadata": {},
   "outputs": [],
   "source": [
    "molecular_system = msm.basic.remove(molecular_system, selection='molecule_type==[\"water\", \"ion\", \"small molecule\"]')"
   ]
  },
  {
   "cell_type": "code",
   "execution_count": null,
   "id": "380280f3-81bf-4d03-b6e2-d9b5213ca535",
   "metadata": {},
   "outputs": [],
   "source": [
    "msm.basic.get(molecular_system, n_waters=True, n_ions=True, n_small_molecules=True)"
   ]
  },
  {
   "cell_type": "code",
   "execution_count": null,
   "id": "0ecdd2f3-7c0f-421d-b16c-e3a41f705540",
   "metadata": {},
   "outputs": [],
   "source": [
    "msm.basic.view(molecular_system, viewer='NGLView')"
   ]
  },
  {
   "cell_type": "code",
   "execution_count": null,
   "id": "5b511f24-6507-4df7-87d9-e2c691b95c24",
   "metadata": {},
   "outputs": [],
   "source": []
  },
  {
   "cell_type": "markdown",
   "id": "3f8b3b67-bdcc-4f8e-b40e-60e58e3f2b3f",
   "metadata": {},
   "source": [
    "```{admonition} Note\n",
    ":class: note\n",
    "All methods defined in the `molsysmt.basic` module can be invoked also from the main level of the library. As such, `molsysmt.convert` is the same method as `molsysmt.basic.convert`.\n",
    "```"
   ]
  },
  {
   "cell_type": "markdown",
   "id": "e05b8dba-c82a-41ed-a12b-5fb476901617",
   "metadata": {},
   "source": [
    "### Build\n",
    "\n",
    "The module `molsysmt.build` offers tools such as `solvate`, `add_missing_hydrogens`, `build_peptide`, `get_atoms_with_alternate_locations`, or `make_bioassembly`. Let's see some examples:"
   ]
  },
  {
   "cell_type": "code",
   "execution_count": null,
   "id": "d64ff008-c57a-416d-a436-3a7cc65ccd04",
   "metadata": {},
   "outputs": [],
   "source": [
    "molecular_system = msm.build.build_peptide('AceAlaAlaAlaNme')"
   ]
  },
  {
   "cell_type": "code",
   "execution_count": null,
   "id": "52a7afec-9347-4727-b99c-d03caaef1e4a",
   "metadata": {},
   "outputs": [],
   "source": [
    "molecular_system = msm.structure.center(molecular_system)"
   ]
  },
  {
   "cell_type": "code",
   "execution_count": null,
   "id": "89c87299-2976-4f6a-8fe5-f529dde9f619",
   "metadata": {},
   "outputs": [],
   "source": [
    "msm.get(molecular_system, n_aminoacids=True, n_groups=True)"
   ]
  },
  {
   "cell_type": "code",
   "execution_count": null,
   "id": "3b5d403f-f8e7-4243-84b4-624a978382b5",
   "metadata": {},
   "outputs": [],
   "source": [
    "molecular_system = msm.build.solvate(molecular_system, box_shape='truncated octahedral', clearance='14.0 angstroms')"
   ]
  },
  {
   "cell_type": "code",
   "execution_count": null,
   "id": "e1492d8f-cb50-463c-ba62-1f6afb70087e",
   "metadata": {},
   "outputs": [],
   "source": [
    "msm.build.is_solvated(molecular_system)"
   ]
  },
  {
   "cell_type": "code",
   "execution_count": null,
   "id": "ecbee51d-d8db-422a-bb91-cc8e4231e930",
   "metadata": {},
   "outputs": [],
   "source": [
    "molecular_system = msm.pbc.wrap_to_mic(molecular_system)"
   ]
  },
  {
   "cell_type": "code",
   "execution_count": null,
   "id": "4feeff5b-baf3-45c4-9ce5-42a664d720a5",
   "metadata": {},
   "outputs": [],
   "source": [
    "msm.view(molecular_system, standard=True, water_as_surface=True, viewer='NGLView')"
   ]
  },
  {
   "cell_type": "code",
   "execution_count": null,
   "id": "e752024b-0cd2-4d5c-b635-8c49acdcb0dd",
   "metadata": {},
   "outputs": [],
   "source": []
  },
  {
   "cell_type": "markdown",
   "id": "6813468b-2e27-4ac1-a7d1-043f502a6c63",
   "metadata": {},
   "source": [
    "### Structure\n",
    "\n",
    "The module `molsysmt.structure` offers tools such as `get_distances`, `get_center`, `get_contacts`, `translate`, or `fit`. Let's see some examples:"
   ]
  },
  {
   "cell_type": "code",
   "execution_count": null,
   "id": "ac3a92c7-8499-4575-a615-79f076ee5bb0",
   "metadata": {},
   "outputs": [],
   "source": [
    "molecular_system = msm.basic.convert('181L', selection='molecule_type==\"protein\"')"
   ]
  },
  {
   "cell_type": "code",
   "execution_count": null,
   "id": "505090fe-487b-4f4b-a579-f8e42cc1a20b",
   "metadata": {},
   "outputs": [],
   "source": [
    "msm.structure.get_distances(molecular_system, selection='atom_index==10', selection_2='atom_index==100')"
   ]
  },
  {
   "cell_type": "code",
   "execution_count": null,
   "id": "84c95e43-7cc0-4042-8942-3ddee04602b1",
   "metadata": {},
   "outputs": [],
   "source": [
    "phi_angles, psi_angles = msm.structure.get_dihedral_angles(molecular_system, selection='group_index==[3,4]', phi=True, psi=True)"
   ]
  },
  {
   "cell_type": "code",
   "execution_count": null,
   "id": "4bc19f29-7a78-402c-bcf0-73dff62a730d",
   "metadata": {},
   "outputs": [],
   "source": [
    "phi_angles"
   ]
  },
  {
   "cell_type": "code",
   "execution_count": null,
   "id": "89425ae2-4bae-430e-92fc-a38204cffca4",
   "metadata": {},
   "outputs": [],
   "source": [
    "msm.structure.get_contacts(molecular_system, selection='atom_name==\"CA\"', threshold='9 angstroms')"
   ]
  },
  {
   "cell_type": "markdown",
   "id": "4841e921-2830-410c-8edf-b8fb8544b231",
   "metadata": {},
   "source": [
    "### Topology, PBC, Molecular Mechanics...\n",
    "\n",
    "There are other set of tools to work with the topology of a molecular system, its periodic boundary condictions, the molecular mechanics of the system, etc. The following cells show some few examples of what you can find in these modules:"
   ]
  },
  {
   "cell_type": "markdown",
   "id": "36b8b0de-c129-46ea-9bd5-9dfa5dd941e1",
   "metadata": {},
   "source": [
    "## Do you want more?\n",
    "\n",
    "We hope you found MolSysMT useful. If that is the case, you can either keep on having a look to the [\"Showcase\"](index.md) section or maybe it is time for you to visit the [\"User Guide\"](../user/index.ipynb). Enjoy the trip!"
   ]
  }
 ],
 "metadata": {
  "kernelspec": {
   "display_name": "Python 3 (ipykernel)",
   "language": "python",
   "name": "python3"
  },
  "language_info": {
   "codemirror_mode": {
    "name": "ipython",
    "version": 3
   },
   "file_extension": ".py",
   "mimetype": "text/x-python",
   "name": "python",
   "nbconvert_exporter": "python",
   "pygments_lexer": "ipython3",
   "version": "3.10.11"
  }
 },
 "nbformat": 4,
 "nbformat_minor": 5
}
