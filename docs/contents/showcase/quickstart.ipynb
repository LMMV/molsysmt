{
 "cells": [
  {
   "cell_type": "code",
   "execution_count": 1,
   "id": "99c10f0a-9484-4e1f-b521-2e00f8c78e4e",
   "metadata": {
    "editable": true,
    "slideshow": {
     "slide_type": ""
    },
    "tags": [
     "remove-input"
    ]
   },
   "outputs": [],
   "source": [
    "# This cell is removed with the tag: \"remove-input\"\n",
    "# As such, it will not be shown in documentation\n",
    "import os"
   ]
  },
  {
   "cell_type": "markdown",
   "id": "be8c4864-07da-43d1-b781-04679d64282b",
   "metadata": {},
   "source": [
    "# Quickstart guide\n",
    "\n",
    "## Get ready\n",
    "\n",
    "MolSysMT is currently distributed as [a conda package](https://anaconda.org/uibcdf/molsysmt). As such, to follow this quickstart guide, we recommend the next steps.\n",
    "\n",
    "[Install Conda](https://docs.conda.io/projects/conda/en/latest/user-guide/install/index.html) in your machine and create a new working environment:\n",
    "\n",
    "```bash\n",
    "conda create -n MolSysMT python=3.12\n",
    "```\n",
    "\n",
    "Activate the new environment and install MolSysMT and [Jupyter Lab](https://jupyterlab.readthedocs.io/en/stable/index.html):\n",
    "\n",
    "```bash\n",
    "conda activate MolSysMT\n",
    "conda install -c uibcdf molsysmt\n",
    "conda install -c conda-forge jupyterlab\n",
    "```\n",
    "\n",
    "Finally, launch Jupyter Lab and in a new Python notebook import the library:"
   ]
  },
  {
   "cell_type": "code",
   "execution_count": 2,
   "id": "bce83cbe-b3e2-41e1-b2db-9dd3ffd20e44",
   "metadata": {},
   "outputs": [
    {
     "data": {
      "application/vnd.jupyter.widget-view+json": {
       "model_id": "da8fc3c8a5234e10aedb753c544d9b0e",
       "version_major": 2,
       "version_minor": 0
      },
      "text/plain": []
     },
     "metadata": {},
     "output_type": "display_data"
    }
   ],
   "source": [
    "import molsysmt as msm"
   ]
  },
  {
   "cell_type": "markdown",
   "id": "85cf1e17-ef49-4174-828f-fbc233f02ea5",
   "metadata": {},
   "source": [
    "## A molecular system\n",
    "\n",
    "Let's define a first molecular system with a PDB id."
   ]
  },
  {
   "cell_type": "code",
   "execution_count": 3,
   "id": "82ee6d56-f740-4c47-9f95-fc5279ec4273",
   "metadata": {},
   "outputs": [],
   "source": [
    "molecular_system = '181L'"
   ]
  },
  {
   "cell_type": "markdown",
   "id": "ede0b137-b3eb-46d7-b2ad-1d70c17d83c8",
   "metadata": {},
   "source": [
    "In MolSysMT's language, a molecular system can have different forms.  For example, a PDB id, the corresponding PDB file or BinaryCIF file, a trajectory object of mdtraj or pytraj, an NGLWidget of nglview, or a MolSys native object of MolSysMT, can be all different forms of a molecular system. And not every form has the same attributes. Some forms contain a list of atom names, atom residues, chains... and other contain spatial coordinates of their atoms, velocities...  but they can be all different representations of the same system."
   ]
  },
  {
   "cell_type": "code",
   "execution_count": 4,
   "id": "3d6503fe-6269-4731-b0f1-ae834af7bdd9",
   "metadata": {},
   "outputs": [
    {
     "name": "stdout",
     "output_type": "stream",
     "text": [
      "The molecular system has the \"string:pdb_id\" form\n"
     ]
    }
   ],
   "source": [
    "form = msm.get_form(molecular_system)\n",
    "print(f'The molecular system has the \"{form}\" form')"
   ]
  },
  {
   "cell_type": "markdown",
   "id": "d79456b9-5bcc-437e-a8f2-32b65985db8f",
   "metadata": {},
   "source": [
    "We can get a description any molecular system with the help of the `molsysmt.info` function:"
   ]
  },
  {
   "cell_type": "code",
   "execution_count": 7,
   "id": "5a5f6599-ab98-4c03-9649-bc61c4046863",
   "metadata": {},
   "outputs": [
    {
     "data": {
      "text/html": [
       "<style type=\"text/css\">\n",
       "</style>\n",
       "<table id=\"T_b69de\">\n",
       "  <thead>\n",
       "    <tr>\n",
       "      <th id=\"T_b69de_level0_col0\" class=\"col_heading level0 col0\" >form</th>\n",
       "      <th id=\"T_b69de_level0_col1\" class=\"col_heading level0 col1\" >n_atoms</th>\n",
       "      <th id=\"T_b69de_level0_col2\" class=\"col_heading level0 col2\" >n_groups</th>\n",
       "      <th id=\"T_b69de_level0_col3\" class=\"col_heading level0 col3\" >n_components</th>\n",
       "      <th id=\"T_b69de_level0_col4\" class=\"col_heading level0 col4\" >n_chains</th>\n",
       "      <th id=\"T_b69de_level0_col5\" class=\"col_heading level0 col5\" >n_molecules</th>\n",
       "      <th id=\"T_b69de_level0_col6\" class=\"col_heading level0 col6\" >n_entities</th>\n",
       "      <th id=\"T_b69de_level0_col7\" class=\"col_heading level0 col7\" >n_waters</th>\n",
       "      <th id=\"T_b69de_level0_col8\" class=\"col_heading level0 col8\" >n_ions</th>\n",
       "      <th id=\"T_b69de_level0_col9\" class=\"col_heading level0 col9\" >n_small_molecules</th>\n",
       "      <th id=\"T_b69de_level0_col10\" class=\"col_heading level0 col10\" >n_proteins</th>\n",
       "      <th id=\"T_b69de_level0_col11\" class=\"col_heading level0 col11\" >n_structures</th>\n",
       "    </tr>\n",
       "  </thead>\n",
       "  <tbody>\n",
       "    <tr>\n",
       "      <td id=\"T_b69de_row0_col0\" class=\"data row0 col0\" >string:pdb_id</td>\n",
       "      <td id=\"T_b69de_row0_col1\" class=\"data row0 col1\" >1441</td>\n",
       "      <td id=\"T_b69de_row0_col2\" class=\"data row0 col2\" >302</td>\n",
       "      <td id=\"T_b69de_row0_col3\" class=\"data row0 col3\" >141</td>\n",
       "      <td id=\"T_b69de_row0_col4\" class=\"data row0 col4\" >6</td>\n",
       "      <td id=\"T_b69de_row0_col5\" class=\"data row0 col5\" >141</td>\n",
       "      <td id=\"T_b69de_row0_col6\" class=\"data row0 col6\" >5</td>\n",
       "      <td id=\"T_b69de_row0_col7\" class=\"data row0 col7\" >136</td>\n",
       "      <td id=\"T_b69de_row0_col8\" class=\"data row0 col8\" >2</td>\n",
       "      <td id=\"T_b69de_row0_col9\" class=\"data row0 col9\" >2</td>\n",
       "      <td id=\"T_b69de_row0_col10\" class=\"data row0 col10\" >1</td>\n",
       "      <td id=\"T_b69de_row0_col11\" class=\"data row0 col11\" >1</td>\n",
       "    </tr>\n",
       "  </tbody>\n",
       "</table>\n"
      ],
      "text/plain": [
       "<pandas.io.formats.style.Styler at 0x7f170fa62600>"
      ]
     },
     "execution_count": 7,
     "metadata": {},
     "output_type": "execute_result"
    }
   ],
   "source": [
    "msm.info(molecular_system)"
   ]
  },
  {
   "cell_type": "markdown",
   "id": "036e2dd4-1702-4698-81d5-36300254f419",
   "metadata": {},
   "source": [
    "To follow with this \"Quick guide\", we will need an appropriate form of our system. Let's try to work with the native form `molsysmt.MolSys` since working all the time with the PDB id is not efficient. Forms conversions can be done with one of the most relevant MolSysMT basic functions: `molsysmt.convert()`."
   ]
  },
  {
   "cell_type": "code",
   "execution_count": 8,
   "id": "b9d886ce-0f59-4673-9b20-7b95c81d26b6",
   "metadata": {},
   "outputs": [
    {
     "name": "stdout",
     "output_type": "stream",
     "text": [
      "The molecular system was converted from \"string:pdb_id\" to \"molsysmt.MolSys\"\n"
     ]
    }
   ],
   "source": [
    "molecular_system = msm.convert(molecular_system, to_form='molsysmt.MolSys')\n",
    "\n",
    "old_form = form\n",
    "form = msm.get_form(molecular_system)\n",
    "print(f'The molecular system was converted from \"{old_form}\" to \"{form}\"')"
   ]
  },
  {
   "cell_type": "markdown",
   "id": "3bfc453e-54c9-409f-ae76-2ea061b1056a",
   "metadata": {},
   "source": [
    "```{admonition} Note\n",
    ":class: note\n",
    "MolSysMT includes some native forms such as 'molsysmt.MolSys', 'molsysmt.Topology' or 'molsysmt.Structures'.\n",
    "```"
   ]
  },
  {
   "cell_type": "markdown",
   "id": "637d725c-f82f-44de-a620-2527b4f21b40",
   "metadata": {},
   "source": [
    "### Elements selection\n",
    "\n",
    "One of the most common steps in every workflow when working with a molecular system model is the elements selection.\n",
    "\n",
    "A molecular system is composed of elements. The basic and fundamental element is the \"atom\". But other levels of hyerarchical groups of atoms are defined by other elements such as \"group\", \"component\", \"molecular\", \"chain\" or \"entity\".\n",
    "\n",
    "#### Some selection examples\n",
    "\n",
    "Let's get a general information summary regarding \"entity\" elements:"
   ]
  },
  {
   "cell_type": "code",
   "execution_count": 9,
   "id": "6aa5f365-64c1-4a00-a771-c95f113b4f76",
   "metadata": {},
   "outputs": [
    {
     "data": {
      "text/html": [
       "<style type=\"text/css\">\n",
       "</style>\n",
       "<table id=\"T_d285e\">\n",
       "  <thead>\n",
       "    <tr>\n",
       "      <th id=\"T_d285e_level0_col0\" class=\"col_heading level0 col0\" >index</th>\n",
       "      <th id=\"T_d285e_level0_col1\" class=\"col_heading level0 col1\" >name</th>\n",
       "      <th id=\"T_d285e_level0_col2\" class=\"col_heading level0 col2\" >type</th>\n",
       "      <th id=\"T_d285e_level0_col3\" class=\"col_heading level0 col3\" >n atoms</th>\n",
       "      <th id=\"T_d285e_level0_col4\" class=\"col_heading level0 col4\" >n groups</th>\n",
       "      <th id=\"T_d285e_level0_col5\" class=\"col_heading level0 col5\" >n components</th>\n",
       "      <th id=\"T_d285e_level0_col6\" class=\"col_heading level0 col6\" >n chains</th>\n",
       "      <th id=\"T_d285e_level0_col7\" class=\"col_heading level0 col7\" >n molecules</th>\n",
       "    </tr>\n",
       "  </thead>\n",
       "  <tbody>\n",
       "    <tr>\n",
       "      <td id=\"T_d285e_row0_col0\" class=\"data row0 col0\" >0</td>\n",
       "      <td id=\"T_d285e_row0_col1\" class=\"data row0 col1\" >T4 LYSOZYME</td>\n",
       "      <td id=\"T_d285e_row0_col2\" class=\"data row0 col2\" >protein</td>\n",
       "      <td id=\"T_d285e_row0_col3\" class=\"data row0 col3\" >1289</td>\n",
       "      <td id=\"T_d285e_row0_col4\" class=\"data row0 col4\" >162</td>\n",
       "      <td id=\"T_d285e_row0_col5\" class=\"data row0 col5\" >1</td>\n",
       "      <td id=\"T_d285e_row0_col6\" class=\"data row0 col6\" >1</td>\n",
       "      <td id=\"T_d285e_row0_col7\" class=\"data row0 col7\" >1</td>\n",
       "    </tr>\n",
       "    <tr>\n",
       "      <td id=\"T_d285e_row1_col0\" class=\"data row1 col0\" >1</td>\n",
       "      <td id=\"T_d285e_row1_col1\" class=\"data row1 col1\" >CHLORIDE ION</td>\n",
       "      <td id=\"T_d285e_row1_col2\" class=\"data row1 col2\" >ion</td>\n",
       "      <td id=\"T_d285e_row1_col3\" class=\"data row1 col3\" >2</td>\n",
       "      <td id=\"T_d285e_row1_col4\" class=\"data row1 col4\" >2</td>\n",
       "      <td id=\"T_d285e_row1_col5\" class=\"data row1 col5\" >2</td>\n",
       "      <td id=\"T_d285e_row1_col6\" class=\"data row1 col6\" >2</td>\n",
       "      <td id=\"T_d285e_row1_col7\" class=\"data row1 col7\" >2</td>\n",
       "    </tr>\n",
       "    <tr>\n",
       "      <td id=\"T_d285e_row2_col0\" class=\"data row2 col0\" >2</td>\n",
       "      <td id=\"T_d285e_row2_col1\" class=\"data row2 col1\" >2-HYDROXYETHYL DISULFIDE</td>\n",
       "      <td id=\"T_d285e_row2_col2\" class=\"data row2 col2\" >small molecule</td>\n",
       "      <td id=\"T_d285e_row2_col3\" class=\"data row2 col3\" >8</td>\n",
       "      <td id=\"T_d285e_row2_col4\" class=\"data row2 col4\" >1</td>\n",
       "      <td id=\"T_d285e_row2_col5\" class=\"data row2 col5\" >1</td>\n",
       "      <td id=\"T_d285e_row2_col6\" class=\"data row2 col6\" >1</td>\n",
       "      <td id=\"T_d285e_row2_col7\" class=\"data row2 col7\" >1</td>\n",
       "    </tr>\n",
       "    <tr>\n",
       "      <td id=\"T_d285e_row3_col0\" class=\"data row3 col0\" >3</td>\n",
       "      <td id=\"T_d285e_row3_col1\" class=\"data row3 col1\" >BENZENE</td>\n",
       "      <td id=\"T_d285e_row3_col2\" class=\"data row3 col2\" >small molecule</td>\n",
       "      <td id=\"T_d285e_row3_col3\" class=\"data row3 col3\" >6</td>\n",
       "      <td id=\"T_d285e_row3_col4\" class=\"data row3 col4\" >1</td>\n",
       "      <td id=\"T_d285e_row3_col5\" class=\"data row3 col5\" >1</td>\n",
       "      <td id=\"T_d285e_row3_col6\" class=\"data row3 col6\" >1</td>\n",
       "      <td id=\"T_d285e_row3_col7\" class=\"data row3 col7\" >1</td>\n",
       "    </tr>\n",
       "    <tr>\n",
       "      <td id=\"T_d285e_row4_col0\" class=\"data row4 col0\" >4</td>\n",
       "      <td id=\"T_d285e_row4_col1\" class=\"data row4 col1\" >water</td>\n",
       "      <td id=\"T_d285e_row4_col2\" class=\"data row4 col2\" >water</td>\n",
       "      <td id=\"T_d285e_row4_col3\" class=\"data row4 col3\" >136</td>\n",
       "      <td id=\"T_d285e_row4_col4\" class=\"data row4 col4\" >136</td>\n",
       "      <td id=\"T_d285e_row4_col5\" class=\"data row4 col5\" >136</td>\n",
       "      <td id=\"T_d285e_row4_col6\" class=\"data row4 col6\" >1</td>\n",
       "      <td id=\"T_d285e_row4_col7\" class=\"data row4 col7\" >136</td>\n",
       "    </tr>\n",
       "  </tbody>\n",
       "</table>\n"
      ],
      "text/plain": [
       "<pandas.io.formats.style.Styler at 0x7f170e0c27b0>"
      ]
     },
     "execution_count": 9,
     "metadata": {},
     "output_type": "execute_result"
    }
   ],
   "source": [
    "msm.info(molecular_system, element='entity')"
   ]
  },
  {
   "cell_type": "markdown",
   "id": "dac550d8-169a-4321-aefa-ead8e7630472",
   "metadata": {},
   "source": [
    "To quickly introduce how the selection tool works in MolSysMT, let's illustrate its use getting the atom indices from the entity type \"ion\":"
   ]
  },
  {
   "cell_type": "code",
   "execution_count": 10,
   "id": "b4ab35e8-50d4-4ff7-9c4a-c2faf3601f35",
   "metadata": {},
   "outputs": [],
   "source": [
    "ions = msm.select(molecular_system, selection='entity_type==\"ion\"')"
   ]
  },
  {
   "cell_type": "code",
   "execution_count": 11,
   "id": "c5222aad-a875-4b96-a481-2264ad940d24",
   "metadata": {},
   "outputs": [
    {
     "name": "stdout",
     "output_type": "stream",
     "text": [
      "[1289, 1290]\n"
     ]
    }
   ],
   "source": [
    "print(ions)"
   ]
  },
  {
   "cell_type": "markdown",
   "id": "282672e6-a452-4b38-b8ac-95f952681835",
   "metadata": {},
   "source": [
    "To proof that these atom indices correspond in deed to ions, let's use again the function `molsysmt.info` this time with the input argument `element='atom'`:"
   ]
  },
  {
   "cell_type": "code",
   "execution_count": 12,
   "id": "94a985af-c920-4c1f-88f4-502faaa1624a",
   "metadata": {},
   "outputs": [
    {
     "data": {
      "text/html": [
       "<style type=\"text/css\">\n",
       "</style>\n",
       "<table id=\"T_969cb\">\n",
       "  <thead>\n",
       "    <tr>\n",
       "      <th id=\"T_969cb_level0_col0\" class=\"col_heading level0 col0\" >index</th>\n",
       "      <th id=\"T_969cb_level0_col1\" class=\"col_heading level0 col1\" >id</th>\n",
       "      <th id=\"T_969cb_level0_col2\" class=\"col_heading level0 col2\" >name</th>\n",
       "      <th id=\"T_969cb_level0_col3\" class=\"col_heading level0 col3\" >type</th>\n",
       "      <th id=\"T_969cb_level0_col4\" class=\"col_heading level0 col4\" >group index</th>\n",
       "      <th id=\"T_969cb_level0_col5\" class=\"col_heading level0 col5\" >group id</th>\n",
       "      <th id=\"T_969cb_level0_col6\" class=\"col_heading level0 col6\" >group name</th>\n",
       "      <th id=\"T_969cb_level0_col7\" class=\"col_heading level0 col7\" >group type</th>\n",
       "      <th id=\"T_969cb_level0_col8\" class=\"col_heading level0 col8\" >component index</th>\n",
       "      <th id=\"T_969cb_level0_col9\" class=\"col_heading level0 col9\" >chain index</th>\n",
       "      <th id=\"T_969cb_level0_col10\" class=\"col_heading level0 col10\" >molecule index</th>\n",
       "      <th id=\"T_969cb_level0_col11\" class=\"col_heading level0 col11\" >molecule type</th>\n",
       "      <th id=\"T_969cb_level0_col12\" class=\"col_heading level0 col12\" >entity index</th>\n",
       "      <th id=\"T_969cb_level0_col13\" class=\"col_heading level0 col13\" >entity name</th>\n",
       "    </tr>\n",
       "  </thead>\n",
       "  <tbody>\n",
       "    <tr>\n",
       "      <td id=\"T_969cb_row0_col0\" class=\"data row0 col0\" >1289</td>\n",
       "      <td id=\"T_969cb_row0_col1\" class=\"data row0 col1\" >1290</td>\n",
       "      <td id=\"T_969cb_row0_col2\" class=\"data row0 col2\" >CL</td>\n",
       "      <td id=\"T_969cb_row0_col3\" class=\"data row0 col3\" >CL</td>\n",
       "      <td id=\"T_969cb_row0_col4\" class=\"data row0 col4\" >162</td>\n",
       "      <td id=\"T_969cb_row0_col5\" class=\"data row0 col5\" >173</td>\n",
       "      <td id=\"T_969cb_row0_col6\" class=\"data row0 col6\" >CL</td>\n",
       "      <td id=\"T_969cb_row0_col7\" class=\"data row0 col7\" >ion</td>\n",
       "      <td id=\"T_969cb_row0_col8\" class=\"data row0 col8\" >1</td>\n",
       "      <td id=\"T_969cb_row0_col9\" class=\"data row0 col9\" >1</td>\n",
       "      <td id=\"T_969cb_row0_col10\" class=\"data row0 col10\" >1</td>\n",
       "      <td id=\"T_969cb_row0_col11\" class=\"data row0 col11\" >ion</td>\n",
       "      <td id=\"T_969cb_row0_col12\" class=\"data row0 col12\" >1</td>\n",
       "      <td id=\"T_969cb_row0_col13\" class=\"data row0 col13\" >CHLORIDE ION</td>\n",
       "    </tr>\n",
       "    <tr>\n",
       "      <td id=\"T_969cb_row1_col0\" class=\"data row1 col0\" >1290</td>\n",
       "      <td id=\"T_969cb_row1_col1\" class=\"data row1 col1\" >1291</td>\n",
       "      <td id=\"T_969cb_row1_col2\" class=\"data row1 col2\" >CL</td>\n",
       "      <td id=\"T_969cb_row1_col3\" class=\"data row1 col3\" >CL</td>\n",
       "      <td id=\"T_969cb_row1_col4\" class=\"data row1 col4\" >163</td>\n",
       "      <td id=\"T_969cb_row1_col5\" class=\"data row1 col5\" >178</td>\n",
       "      <td id=\"T_969cb_row1_col6\" class=\"data row1 col6\" >CL</td>\n",
       "      <td id=\"T_969cb_row1_col7\" class=\"data row1 col7\" >ion</td>\n",
       "      <td id=\"T_969cb_row1_col8\" class=\"data row1 col8\" >2</td>\n",
       "      <td id=\"T_969cb_row1_col9\" class=\"data row1 col9\" >2</td>\n",
       "      <td id=\"T_969cb_row1_col10\" class=\"data row1 col10\" >2</td>\n",
       "      <td id=\"T_969cb_row1_col11\" class=\"data row1 col11\" >ion</td>\n",
       "      <td id=\"T_969cb_row1_col12\" class=\"data row1 col12\" >1</td>\n",
       "      <td id=\"T_969cb_row1_col13\" class=\"data row1 col13\" >CHLORIDE ION</td>\n",
       "    </tr>\n",
       "  </tbody>\n",
       "</table>\n"
      ],
      "text/plain": [
       "<pandas.io.formats.style.Styler at 0x7f170dcf16a0>"
      ]
     },
     "execution_count": 12,
     "metadata": {},
     "output_type": "execute_result"
    }
   ],
   "source": [
    "msm.info(molecular_system, element='atom', selection=ions)"
   ]
  },
  {
   "cell_type": "markdown",
   "id": "11ddccae-9cf0-4578-b6ac-ae955e49cb5b",
   "metadata": {},
   "source": [
    "The selection tool works as expected. But the selection condition was very simple. Let's show in the following lines some cases just a bit more complicated. For example, can spatial restrictions be included in our selections with MolSysMT? The answer is yes... check this out:"
   ]
  },
  {
   "cell_type": "code",
   "execution_count": 13,
   "id": "70d4c6a7-93c3-4da5-8592-0ac056d95d0a",
   "metadata": {},
   "outputs": [],
   "source": [
    "CAs_in_contact = msm.select(molecular_system, selection='atom_name==\"CA\" within 5.0 angstroms of @ions')"
   ]
  },
  {
   "cell_type": "code",
   "execution_count": 14,
   "id": "992ff8d3-fdc2-4686-9a99-c4df769305c3",
   "metadata": {},
   "outputs": [
    {
     "name": "stdout",
     "output_type": "stream",
     "text": [
      "[385, 1115, 1122, 1129, 1137]\n"
     ]
    }
   ],
   "source": [
    "print(CAs_in_contact)"
   ]
  },
  {
   "cell_type": "markdown",
   "id": "7660bd2c-3e18-4411-a71f-9fff1497c860",
   "metadata": {},
   "source": [
    "Ok, but what if we want the groups (residues in this case) and not the atoms fulfiling this former condition:"
   ]
  },
  {
   "cell_type": "code",
   "execution_count": 15,
   "id": "64167038-0f08-4ccf-834b-a3c06975a0d5",
   "metadata": {},
   "outputs": [],
   "source": [
    "residues_in_contact = msm.select(molecular_system, element='group', selection='atom_name==\"CA\" within 5.0 angstroms of @ions')"
   ]
  },
  {
   "cell_type": "code",
   "execution_count": 16,
   "id": "4d911e17-bbf3-44fc-8897-f98f8fe24a73",
   "metadata": {},
   "outputs": [
    {
     "data": {
      "text/plain": [
       "[48, 141, 142, 143, 144]"
      ]
     },
     "execution_count": 16,
     "metadata": {},
     "output_type": "execute_result"
    }
   ],
   "source": [
    "residues_in_contact"
   ]
  },
  {
   "cell_type": "markdown",
   "id": "09148029-d2d3-445b-a8bc-119eb05900de",
   "metadata": {},
   "source": [
    "These former group indices in the variable `residues_in_contact` must content those group indices of the atom indices in `CAs_in_contact`. This can be checked with the following line:"
   ]
  },
  {
   "cell_type": "code",
   "execution_count": 17,
   "id": "7a9fdcb2-c756-4b78-9129-7e176730f1a9",
   "metadata": {},
   "outputs": [],
   "source": [
    "residues_from_CAs_in_contact = msm.get(molecular_system, element='group', selection='atom_index in @CAs_in_contact', group_index=True)"
   ]
  },
  {
   "cell_type": "code",
   "execution_count": 18,
   "id": "01d25147-1c1a-4dc4-bbfa-64e3775c715e",
   "metadata": {},
   "outputs": [
    {
     "data": {
      "text/plain": [
       "True"
      ]
     },
     "execution_count": 18,
     "metadata": {},
     "output_type": "execute_result"
    }
   ],
   "source": [
    "set(residues_from_CAs_in_contact).issubset(set(residues_in_contact))"
   ]
  },
  {
   "cell_type": "markdown",
   "id": "ef648dc3-69d4-4eac-a620-70f3e37146d5",
   "metadata": {},
   "source": [
    "#### Use your favorite selection syntax\n",
    "\n",
    "You don't need to learn a new selection syntax if you don't want to. We are sure you got used to the syntax of other very popular and useful tools such as MDTraj. If thats your case, use it:"
   ]
  },
  {
   "cell_type": "code",
   "execution_count": 19,
   "id": "927dc8bc-a25a-48f4-b303-6269725cc63f",
   "metadata": {},
   "outputs": [
    {
     "data": {
      "text/plain": [
       "array([1291, 1293, 1299, 1300, 1301, 1302])"
      ]
     },
     "execution_count": 19,
     "metadata": {},
     "output_type": "execute_result"
    }
   ],
   "source": [
    "msm.select(molecular_system, selection='name =~ \"C[1-4]\"', syntax='MDTraj')"
   ]
  },
  {
   "cell_type": "markdown",
   "id": "038dab06-6690-4b90-aec8-a90599cc79ab",
   "metadata": {},
   "source": [
    "#### Translate a selection into other syntax\n",
    "\n",
    "Maybe, you need to use a selection condition in another very popular and useful tool such as NGLView. But you don't remember the proper syntax rules. MolSysMT can also help in this case:"
   ]
  },
  {
   "cell_type": "code",
   "execution_count": 20,
   "id": "da1d8f9e-4057-4d67-9ec5-270ac280d314",
   "metadata": {},
   "outputs": [
    {
     "data": {
      "text/plain": [
       "'173:A 178:A'"
      ]
     },
     "execution_count": 20,
     "metadata": {},
     "output_type": "execute_result"
    }
   ],
   "source": [
    "msm.select(molecular_system, element='group', selection='molecule_type==\"ion\"', to_syntax='NGLView')"
   ]
  },
  {
   "cell_type": "markdown",
   "id": "3dd74e3f-4e61-4a01-9f65-ff91f362ea91",
   "metadata": {},
   "source": [
    "### Getting attributes\n",
    "\n",
    "Molecular systems, and its elements, have attributes. Those attributes can be the number of atoms, the number of structures, the name of an atom or the id of chain. MolSysMT includes a function to obtain the attribute values of a molecular system or of a specific set of elements of it: `molsysmt.get()`.\n",
    "\n",
    "Let's show how this function operates with some simple examples. First, wondering about some general attributes of the molecular system:"
   ]
  },
  {
   "cell_type": "code",
   "execution_count": 21,
   "id": "442d4819-e848-40e9-85e1-a1038c105490",
   "metadata": {},
   "outputs": [
    {
     "data": {
      "text/plain": [
       "1441"
      ]
     },
     "execution_count": 21,
     "metadata": {},
     "output_type": "execute_result"
    }
   ],
   "source": [
    "msm.get(molecular_system, n_atoms=True)"
   ]
  },
  {
   "cell_type": "code",
   "execution_count": 22,
   "id": "73621b74-6fca-4233-bd86-62305baa122d",
   "metadata": {},
   "outputs": [
    {
     "data": {
      "text/plain": [
       "1"
      ]
     },
     "execution_count": 22,
     "metadata": {},
     "output_type": "execute_result"
    }
   ],
   "source": [
    "msm.get(molecular_system, n_structures=True)"
   ]
  },
  {
   "cell_type": "code",
   "execution_count": 23,
   "id": "d6dded47-5789-484c-b7a8-b01c63f33b5c",
   "metadata": {},
   "outputs": [
    {
     "data": {
      "text/html": [
       "<table><tbody><tr><th>Magnitude</th><td style='text-align:left;'><pre>[311.55659621309997]</pre></td></tr><tr><th>Units</th><td style='text-align:left;'>nanometer<sup>3</sup></td></tr></tbody></table>"
      ],
      "text/latex": [
       "$\\begin{pmatrix}\\end{pmatrix}\\ \\mathrm{nanometer}^{3}$"
      ],
      "text/plain": [
       "<Quantity([311.55659621], 'nanometer ** 3')>"
      ]
     },
     "execution_count": 23,
     "metadata": {},
     "output_type": "execute_result"
    }
   ],
   "source": [
    "msm.get(molecular_system, box_volume=True)"
   ]
  },
  {
   "cell_type": "markdown",
   "id": "66973659-b777-4090-b4d5-43f20d69a711",
   "metadata": {},
   "source": [
    "Let's get now some attributes of some different elements:"
   ]
  },
  {
   "cell_type": "code",
   "execution_count": 24,
   "id": "4d1bb041-2cde-400e-affe-b65c147ee460",
   "metadata": {},
   "outputs": [
    {
     "data": {
      "text/plain": [
       "[['C', 'O', 'CB'], ['ASN', 'ASN', 'ASN']]"
      ]
     },
     "execution_count": 24,
     "metadata": {},
     "output_type": "execute_result"
    }
   ],
   "source": [
    "msm.get(molecular_system, element='atom', selection=[10, 11, 12], atom_name=True, group_name=True)"
   ]
  },
  {
   "cell_type": "code",
   "execution_count": 25,
   "id": "d81e2d76-d0ed-4c28-9852-a978e625bed9",
   "metadata": {},
   "outputs": [
    {
     "data": {
      "text/html": [
       "<table><tbody><tr><th>Magnitude</th><td style='text-align:left;'><pre>[[[4.3141 1.6446999999999998 0.17689999999999997]  [3.1832 1.567 2.3874999999999997]]]</pre></td></tr><tr><th>Units</th><td style='text-align:left;'>nanometer</td></tr></tbody></table>"
      ],
      "text/latex": [
       "$arr[,0,:,:] = \\begin{pmatrix} &  & \\\\ \n",
       " &  & \\end{pmatrix}\\ \\mathrm{nanometer}$"
      ],
      "text/plain": [
       "<Quantity([[[4.3141 1.6447 0.1769]\n",
       "  [3.1832 1.567  2.3875]]], 'nanometer')>"
      ]
     },
     "execution_count": 25,
     "metadata": {},
     "output_type": "execute_result"
    }
   ],
   "source": [
    "msm.get(molecular_system, element='atom', selection='molecule_type==\"ion\"', coordinates=True)"
   ]
  },
  {
   "cell_type": "code",
   "execution_count": 26,
   "id": "ecb85467-049d-472d-a5dd-8fde6071a0da",
   "metadata": {},
   "outputs": [
    {
     "data": {
      "text/plain": [
       "[5]"
      ]
     },
     "execution_count": 26,
     "metadata": {},
     "output_type": "execute_result"
    }
   ],
   "source": [
    "msm.get(molecular_system, element='chain', selection='molecule_type==\"water\"', id=True)"
   ]
  },
  {
   "cell_type": "markdown",
   "id": "6dc5e41e-3287-4e96-a827-6338d17d9f17",
   "metadata": {},
   "source": [
    "## Tools\n",
    "\n",
    "MolSysMT have different categories of tools to work with molecular modules. They can be found in the modules: `molsysmt.basic`, `molsysmt.build`, `molsysmt.topology`, `molsysmt.structure`, `molsysmt.pbc`, etc. Let's illustrate here how some of these tools work.\n",
    "\n",
    "```{admonition} Note\n",
    ":class: Note\n",
    "*MolSysMT is form agnostic*. All tools work no matter the form of the input molecular system.\n",
    "```"
   ]
  },
  {
   "cell_type": "markdown",
   "id": "3e9e882a-d21b-40e5-bb34-2926a7480a2c",
   "metadata": {},
   "source": [
    "### Basic\n",
    "\n",
    "\"Basic\" tools such as `select`, `get`, `convert`, `add`, or `remove`, can be found in the module `molsysmt.basic`. Let's see some examples.\n",
    "\n",
    "Let's convert a pdb ID to the native Python object of [PDBFixer](https://github.com/openmm/pdbfixer)."
   ]
  },
  {
   "cell_type": "code",
   "execution_count": 27,
   "id": "3e49dd58-69c2-46e9-8117-1d5da04beb5a",
   "metadata": {},
   "outputs": [],
   "source": [
    "molecular_system = msm.basic.convert('181L', to_form='pdbfixer.PDBFixer')"
   ]
  },
  {
   "cell_type": "markdown",
   "id": "aa6e320e-b1f5-42c3-a708-bb8a844ae3d0",
   "metadata": {},
   "source": [
    "We can check the `form` of the new `molecular_system` object:"
   ]
  },
  {
   "cell_type": "code",
   "execution_count": 28,
   "id": "244a796c-b859-4294-ad7d-5cb99e5b85e7",
   "metadata": {},
   "outputs": [
    {
     "data": {
      "text/plain": [
       "'pdbfixer.PDBFixer'"
      ]
     },
     "execution_count": 28,
     "metadata": {},
     "output_type": "execute_result"
    }
   ],
   "source": [
    "msm.basic.get_form(molecular_system)"
   ]
  },
  {
   "cell_type": "markdown",
   "id": "2466184a-dba8-488e-9655-e58784d68243",
   "metadata": {},
   "source": [
    "Now, let's check if the system contains waters, ions, and small_molecules:"
   ]
  },
  {
   "cell_type": "code",
   "execution_count": 29,
   "id": "774a5b02-f608-4392-a225-e842a3385c6c",
   "metadata": {},
   "outputs": [
    {
     "data": {
      "text/plain": [
       "True"
      ]
     },
     "execution_count": 29,
     "metadata": {},
     "output_type": "execute_result"
    }
   ],
   "source": [
    "msm.basic.contains(molecular_system, waters=True, ions=True, small_molecules=True)"
   ]
  },
  {
   "cell_type": "markdown",
   "id": "0e134193-ce8b-4109-84f6-6909ff005365",
   "metadata": {},
   "source": [
    "These molecules can be easily removed from the system."
   ]
  },
  {
   "cell_type": "code",
   "execution_count": 30,
   "id": "b6808654-5aaf-4a59-8aaf-626105ed442f",
   "metadata": {},
   "outputs": [],
   "source": [
    "molecular_system = msm.basic.remove(molecular_system, selection='molecule_type==[\"water\", \"ion\", \"small molecule\"]')"
   ]
  },
  {
   "cell_type": "markdown",
   "id": "545a829f-3aa1-4cfb-a5d7-7794b3de8817",
   "metadata": {},
   "source": [
    "We can wonder now: how many water, ions, and small molecules remain in the molecular system?"
   ]
  },
  {
   "cell_type": "code",
   "execution_count": 31,
   "id": "380280f3-81bf-4d03-b6e2-d9b5213ca535",
   "metadata": {},
   "outputs": [
    {
     "data": {
      "text/plain": [
       "[0, 0, 0]"
      ]
     },
     "execution_count": 31,
     "metadata": {},
     "output_type": "execute_result"
    }
   ],
   "source": [
    "msm.basic.get(molecular_system, n_waters=True, n_ions=True, n_small_molecules=True)"
   ]
  },
  {
   "cell_type": "markdown",
   "id": "de00fcf6-4098-4f24-95ac-3f7a8558c929",
   "metadata": {},
   "source": [
    "As last example, let's show in this notebook the 3D representation of the molecule thanks to the [NGLView](https://github.com/nglviewer/nglview) library:"
   ]
  },
  {
   "cell_type": "code",
   "execution_count": 32,
   "id": "534216ef-d066-41c2-b3bb-acea9a884a9b",
   "metadata": {
    "editable": true,
    "slideshow": {
     "slide_type": ""
    },
    "tags": [
     "remove-input"
    ]
   },
   "outputs": [],
   "source": [
    "# This cell is removed with the tag: \"remove-input\"\n",
    "# As such, it will not be shown in documentation\n",
    "\n",
    "nglview_htmlfile = '../../_static/nglview/quickstart_1.html'"
   ]
  },
  {
   "cell_type": "code",
   "execution_count": 33,
   "id": "0ecdd2f3-7c0f-421d-b16c-e3a41f705540",
   "metadata": {},
   "outputs": [
    {
     "data": {
      "application/vnd.jupyter.widget-view+json": {
       "model_id": "cefba25c3d8f4ff2a05100e931566262",
       "version_major": 2,
       "version_minor": 0
      },
      "text/plain": [
       "NGLWidget()"
      ]
     },
     "metadata": {},
     "output_type": "display_data"
    }
   ],
   "source": [
    "msm.basic.view(molecular_system, viewer='NGLView')"
   ]
  },
  {
   "cell_type": "code",
   "execution_count": 34,
   "id": "5b511f24-6507-4df7-87d9-e2c691b95c24",
   "metadata": {
    "editable": true,
    "slideshow": {
     "slide_type": ""
    },
    "tags": [
     "remove-input"
    ]
   },
   "outputs": [],
   "source": [
    "# This cell is removed with the tag: \"remove-input\"\n",
    "# As such, it will not be shown in documentation\n",
    "\n",
    "if False:\n",
    "    # to write an html the view had to be displayed in a cell before\n",
    "    msm.thirds.nglview.write_html(view, nglview_htmlfile)"
   ]
  },
  {
   "cell_type": "markdown",
   "id": "3f8b3b67-bdcc-4f8e-b40e-60e58e3f2b3f",
   "metadata": {},
   "source": [
    "```{admonition} Note\n",
    ":class: note\n",
    "All methods defined in the `molsysmt.basic` module can be invoked also from the main level of the library. As such, `molsysmt.convert` is the same method as `molsysmt.basic.convert`.\n",
    "```"
   ]
  },
  {
   "cell_type": "markdown",
   "id": "1c8cf559-f0b1-4910-8306-f5db725fe803",
   "metadata": {},
   "source": [
    "Notice that all these basic methods were run over a molecular system with a non native form for MolSysMT:"
   ]
  },
  {
   "cell_type": "code",
   "execution_count": 35,
   "id": "4fd59674-e1c5-4455-afa5-dc16ab11b1d2",
   "metadata": {},
   "outputs": [
    {
     "data": {
      "text/html": [
       "<style type=\"text/css\">\n",
       "</style>\n",
       "<table id=\"T_2fd98\">\n",
       "  <thead>\n",
       "    <tr>\n",
       "      <th id=\"T_2fd98_level0_col0\" class=\"col_heading level0 col0\" >form</th>\n",
       "      <th id=\"T_2fd98_level0_col1\" class=\"col_heading level0 col1\" >n_atoms</th>\n",
       "      <th id=\"T_2fd98_level0_col2\" class=\"col_heading level0 col2\" >n_groups</th>\n",
       "      <th id=\"T_2fd98_level0_col3\" class=\"col_heading level0 col3\" >n_components</th>\n",
       "      <th id=\"T_2fd98_level0_col4\" class=\"col_heading level0 col4\" >n_chains</th>\n",
       "      <th id=\"T_2fd98_level0_col5\" class=\"col_heading level0 col5\" >n_molecules</th>\n",
       "      <th id=\"T_2fd98_level0_col6\" class=\"col_heading level0 col6\" >n_entities</th>\n",
       "      <th id=\"T_2fd98_level0_col7\" class=\"col_heading level0 col7\" >n_proteins</th>\n",
       "      <th id=\"T_2fd98_level0_col8\" class=\"col_heading level0 col8\" >n_structures</th>\n",
       "    </tr>\n",
       "  </thead>\n",
       "  <tbody>\n",
       "    <tr>\n",
       "      <td id=\"T_2fd98_row0_col0\" class=\"data row0 col0\" >pdbfixer.PDBFixer</td>\n",
       "      <td id=\"T_2fd98_row0_col1\" class=\"data row0 col1\" >1289</td>\n",
       "      <td id=\"T_2fd98_row0_col2\" class=\"data row0 col2\" >162</td>\n",
       "      <td id=\"T_2fd98_row0_col3\" class=\"data row0 col3\" >1</td>\n",
       "      <td id=\"T_2fd98_row0_col4\" class=\"data row0 col4\" >1</td>\n",
       "      <td id=\"T_2fd98_row0_col5\" class=\"data row0 col5\" >1</td>\n",
       "      <td id=\"T_2fd98_row0_col6\" class=\"data row0 col6\" >1</td>\n",
       "      <td id=\"T_2fd98_row0_col7\" class=\"data row0 col7\" >1</td>\n",
       "      <td id=\"T_2fd98_row0_col8\" class=\"data row0 col8\" >1</td>\n",
       "    </tr>\n",
       "  </tbody>\n",
       "</table>\n"
      ],
      "text/plain": [
       "<pandas.io.formats.style.Styler at 0x7f1704f51ac0>"
      ]
     },
     "execution_count": 35,
     "metadata": {},
     "output_type": "execute_result"
    }
   ],
   "source": [
    "msm.basic.info(molecular_system)"
   ]
  },
  {
   "cell_type": "markdown",
   "id": "e05b8dba-c82a-41ed-a12b-5fb476901617",
   "metadata": {},
   "source": [
    "### Build\n",
    "\n",
    "The module `molsysmt.build` offers tools such as `solvate`, `add_missing_hydrogens`, `build_peptide`, `get_atoms_with_alternate_locations`, or `make_bioassembly`. Let's see some examples.\n",
    "\n",
    "Let's create a peptide:"
   ]
  },
  {
   "cell_type": "code",
   "execution_count": 36,
   "id": "d64ff008-c57a-416d-a436-3a7cc65ccd04",
   "metadata": {},
   "outputs": [],
   "source": [
    "molecular_system = msm.build.build_peptide('AceAlaAlaAlaNme')"
   ]
  },
  {
   "cell_type": "markdown",
   "id": "7ead305b-6e0e-4f76-afa2-91e461670242",
   "metadata": {},
   "source": [
    "The peptide has two terminal cappings and three amino acids (five groups in total)."
   ]
  },
  {
   "cell_type": "code",
   "execution_count": 38,
   "id": "89c87299-2976-4f6a-8fe5-f529dde9f619",
   "metadata": {},
   "outputs": [
    {
     "data": {
      "text/plain": [
       "[3, 5]"
      ]
     },
     "execution_count": 38,
     "metadata": {},
     "output_type": "execute_result"
    }
   ],
   "source": [
    "msm.get(molecular_system, n_aminoacids=True, n_groups=True)"
   ]
  },
  {
   "cell_type": "markdown",
   "id": "bbbc8094-5a45-4a18-b834-39a08e7f01d3",
   "metadata": {},
   "source": [
    "To keep on building the molecular system, let's now solvate a truncated octahedral box around the peptide:"
   ]
  },
  {
   "cell_type": "code",
   "execution_count": 41,
   "id": "3b5d403f-f8e7-4243-84b4-624a978382b5",
   "metadata": {},
   "outputs": [],
   "source": [
    "molecular_system = msm.build.solvate(molecular_system, box_shape='truncated octahedral',\n",
    "                                     clearance='14.0 angstroms')"
   ]
  },
  {
   "cell_type": "markdown",
   "id": "d6c5b7f7-01c4-4528-9130-0acbb78c6f58",
   "metadata": {},
   "source": [
    "We can check that the new system is indeed solvated:"
   ]
  },
  {
   "cell_type": "code",
   "execution_count": 43,
   "id": "e1492d8f-cb50-463c-ba62-1f6afb70087e",
   "metadata": {},
   "outputs": [
    {
     "data": {
      "text/plain": [
       "True"
      ]
     },
     "execution_count": 43,
     "metadata": {},
     "output_type": "execute_result"
    }
   ],
   "source": [
    "msm.build.is_solvated(molecular_system)"
   ]
  },
  {
   "cell_type": "code",
   "execution_count": 45,
   "id": "ea47783e-0aa7-4b81-9ca8-5815020b8ca5",
   "metadata": {},
   "outputs": [
    {
     "data": {
      "text/plain": [
       "3890"
      ]
     },
     "execution_count": 45,
     "metadata": {},
     "output_type": "execute_result"
    }
   ],
   "source": [
    "msm.get(molecular_system, n_waters=True)"
   ]
  },
  {
   "cell_type": "markdown",
   "id": "3e1b4c2c-1710-4090-86a9-d8c9e5b0495b",
   "metadata": {},
   "source": [
    "Finally, to show in the notebook our system, let's wrap all atoms to the minimum image convention with the peptide centered in the origin of coordinates -with the help of the `molsysmt.pbc` module-."
   ]
  },
  {
   "cell_type": "code",
   "execution_count": 46,
   "id": "ecbee51d-d8db-422a-bb91-cc8e4231e930",
   "metadata": {},
   "outputs": [],
   "source": [
    "molecular_system = msm.pbc.wrap_to_mic(molecular_system,\n",
    "                                       center_of_selection='molecule_type==\"peptide\"')"
   ]
  },
  {
   "cell_type": "markdown",
   "id": "4f831a03-51e7-432e-a9a4-e3d73f78870d",
   "metadata": {},
   "source": [
    "But, was the peptide centered in the origin of coordinates?"
   ]
  },
  {
   "cell_type": "code",
   "execution_count": 51,
   "id": "eebe544c-d383-49df-87f0-0e5e0ba825c5",
   "metadata": {},
   "outputs": [
    {
     "data": {
      "text/html": [
       "<table><tbody><tr><th>Magnitude</th><td style='text-align:left;'><pre>[[[-3.568574007723718e-17 4.7580986769649563e-17 1.982541115402065e-18]]]</pre></td></tr><tr><th>Units</th><td style='text-align:left;'>nanometer</td></tr></tbody></table>"
      ],
      "text/latex": [
       "$arr[,0,:,:] = \\begin{pmatrix} &  & \\end{pmatrix}\\ \\mathrm{nanometer}$"
      ],
      "text/plain": [
       "<Quantity([[[-3.56857401e-17  4.75809868e-17  1.98254112e-18]]], 'nanometer')>"
      ]
     },
     "execution_count": 51,
     "metadata": {},
     "output_type": "execute_result"
    }
   ],
   "source": [
    "msm.structure.get_center(molecular_system, selection='molecule_type==\"peptide\"')"
   ]
  },
  {
   "cell_type": "markdown",
   "id": "1a89e1dd-5af6-44bb-a576-47d50848f003",
   "metadata": {},
   "source": [
    "And now, the view of the molecular system in the system."
   ]
  },
  {
   "cell_type": "code",
   "execution_count": 47,
   "id": "db33d372-6bc7-411b-9e60-2a26946b2aa7",
   "metadata": {
    "editable": true,
    "slideshow": {
     "slide_type": ""
    },
    "tags": [
     "remove-input"
    ]
   },
   "outputs": [],
   "source": [
    "# This cell is removed with the tag: \"remove-input\"\n",
    "# As such, it will not be shown in documentation\n",
    "\n",
    "nglview_htmlfile = '../../_static/nglview/quickstart_2.html'"
   ]
  },
  {
   "cell_type": "code",
   "execution_count": 48,
   "id": "4feeff5b-baf3-45c4-9ce5-42a664d720a5",
   "metadata": {
    "editable": true,
    "slideshow": {
     "slide_type": ""
    },
    "tags": []
   },
   "outputs": [
    {
     "data": {
      "application/vnd.jupyter.widget-view+json": {
       "model_id": "3b2902ec890e4c5f9e6975d867178b9f",
       "version_major": 2,
       "version_minor": 0
      },
      "text/plain": [
       "NGLWidget()"
      ]
     },
     "metadata": {},
     "output_type": "display_data"
    }
   ],
   "source": [
    "msm.view(molecular_system, standard=True, with_water_as='surface', viewer='NGLView')"
   ]
  },
  {
   "cell_type": "code",
   "execution_count": 49,
   "id": "e752024b-0cd2-4d5c-b635-8c49acdcb0dd",
   "metadata": {
    "editable": true,
    "slideshow": {
     "slide_type": ""
    },
    "tags": [
     "remove-input"
    ]
   },
   "outputs": [],
   "source": [
    "# This cell is removed with the tag: \"remove-input\"\n",
    "# As such, it will not be shown in documentation\n",
    "\n",
    "if False:\n",
    "    # to write an html the view had to be displayed in a cell before\n",
    "    msm.thirds.nglview.write_html(view, nglview_htmlfile)"
   ]
  },
  {
   "cell_type": "markdown",
   "id": "28f1b347-4cea-4595-b739-a2ee64c0aa29",
   "metadata": {},
   "source": [
    ":class: note\n",
    "In this section, functions from the modules `molsysmt.structure` and `molsysmt.pbc` were used. These modules will be introduced in the following sections."
   ]
  },
  {
   "cell_type": "markdown",
   "id": "6813468b-2e27-4ac1-a7d1-043f502a6c63",
   "metadata": {},
   "source": [
    "### Structure\n",
    "\n",
    "The module `molsysmt.structure` offers tools such as `get_distances`, `get_center`, `get_contacts`, `translate`, or `fit`. Let's see some examples with a new molecular system:"
   ]
  },
  {
   "cell_type": "code",
   "execution_count": 52,
   "id": "ac3a92c7-8499-4575-a615-79f076ee5bb0",
   "metadata": {},
   "outputs": [],
   "source": [
    "molecular_system = msm.basic.convert('181L', selection='molecule_type==\"protein\"')"
   ]
  },
  {
   "cell_type": "markdown",
   "id": "db4d77f9-28ce-4959-a088-1940b52e141c",
   "metadata": {},
   "source": [
    "The function `molsysmt.structure.get_distances` allows us to get distances between atoms:"
   ]
  },
  {
   "cell_type": "code",
   "execution_count": 53,
   "id": "505090fe-487b-4f4b-a579-f8e42cc1a20b",
   "metadata": {},
   "outputs": [
    {
     "data": {
      "text/html": [
       "<table><tbody><tr><th>Magnitude</th><td style='text-align:left;'><pre>[[[1.5211279959293365]]]</pre></td></tr><tr><th>Units</th><td style='text-align:left;'>nanometer</td></tr></tbody></table>"
      ],
      "text/latex": [
       "$arr[,0,:,:] = \\begin{pmatrix}\\end{pmatrix}\\ \\mathrm{nanometer}$"
      ],
      "text/plain": [
       "<Quantity([[[1.521128]]], 'nanometer')>"
      ]
     },
     "execution_count": 53,
     "metadata": {},
     "output_type": "execute_result"
    }
   ],
   "source": [
    "msm.structure.get_distances(molecular_system, selection='atom_index==10', selection_2='atom_index==100')"
   ]
  },
  {
   "cell_type": "markdown",
   "id": "157a1db4-2276-45b1-be1e-6c6750ee8ffc",
   "metadata": {},
   "source": [
    "And the function `molsysmt.structure.get_dihedral_angles` assists us to get specific dihedral angles in a peptide or protein:"
   ]
  },
  {
   "cell_type": "code",
   "execution_count": 54,
   "id": "84c95e43-7cc0-4042-8942-3ddee04602b1",
   "metadata": {},
   "outputs": [],
   "source": [
    "phi_angles, psi_angles = msm.structure.get_dihedral_angles(molecular_system, selection='group_index==[3,4]', phi=True, psi=True)"
   ]
  },
  {
   "cell_type": "code",
   "execution_count": 55,
   "id": "4bc19f29-7a78-402c-bcf0-73dff62a730d",
   "metadata": {},
   "outputs": [
    {
     "data": {
      "text/html": [
       "<table><tbody><tr><th>Magnitude</th><td style='text-align:left;'><pre>[[-65.97266126462469]]</pre></td></tr><tr><th>Units</th><td style='text-align:left;'>degree</td></tr></tbody></table>"
      ],
      "text/latex": [
       "$\\begin{pmatrix}\\end{pmatrix}\\ \\mathrm{degree}$"
      ],
      "text/plain": [
       "<Quantity([[-65.97266126]], 'degree')>"
      ]
     },
     "execution_count": 55,
     "metadata": {},
     "output_type": "execute_result"
    }
   ],
   "source": [
    "phi_angles"
   ]
  },
  {
   "cell_type": "markdown",
   "id": "f07e4d26-9236-4483-85f8-1944023e67ac",
   "metadata": {},
   "source": [
    "To conclude this section, let's get the contacts between all CA atoms in the system (defining contact with a 9 angstroms distance cut-off):"
   ]
  },
  {
   "cell_type": "code",
   "execution_count": 56,
   "id": "89425ae2-4bae-430e-92fc-a38204cffca4",
   "metadata": {},
   "outputs": [
    {
     "data": {
      "text/plain": [
       "array([[[ True,  True,  True, ..., False,  True,  True],\n",
       "        [ True,  True,  True, ..., False, False, False],\n",
       "        [ True,  True,  True, ..., False, False, False],\n",
       "        ...,\n",
       "        [False, False, False, ...,  True,  True,  True],\n",
       "        [ True, False, False, ...,  True,  True,  True],\n",
       "        [ True, False, False, ...,  True,  True,  True]]])"
      ]
     },
     "execution_count": 56,
     "metadata": {},
     "output_type": "execute_result"
    }
   ],
   "source": [
    "msm.structure.get_contacts(molecular_system, selection='atom_name==\"CA\"', threshold='9 angstroms')"
   ]
  },
  {
   "cell_type": "markdown",
   "id": "cca4ff06-3bde-41f0-982e-47a844549636",
   "metadata": {},
   "source": [
    "### Topology\n",
    "\n",
    "The module `molsysmt.structure` offers tools such as `get_covalent_blocks`, `get_covalent_chains`, `get_sequence_alignment`, or `get_sequence_identity`. Let's see some examples, this time with a `string:amino_acid_1` form:"
   ]
  },
  {
   "cell_type": "code",
   "execution_count": 57,
   "id": "249588ec-3d7e-468c-8e53-e2451c070f39",
   "metadata": {},
   "outputs": [],
   "source": [
    "molecular_system_A = msm.convert(molecular_system, selection='group_index in [4,5,6,7,8,9]', to_form='string:amino_acids_1')"
   ]
  },
  {
   "cell_type": "code",
   "execution_count": 58,
   "id": "341ceec7-a990-422c-8581-fd16465595c9",
   "metadata": {},
   "outputs": [
    {
     "name": "stdout",
     "output_type": "stream",
     "text": [
      "EMLRID\n"
     ]
    }
   ],
   "source": [
    "print(molecular_system_A)"
   ]
  },
  {
   "cell_type": "code",
   "execution_count": 59,
   "id": "1d45967e-0dd1-44f8-9196-4ce28f1e73eb",
   "metadata": {},
   "outputs": [],
   "source": [
    "molecular_system_B = 'MLWAD'"
   ]
  },
  {
   "cell_type": "code",
   "execution_count": 60,
   "id": "545b6788-db72-4940-8126-728adc1cfd95",
   "metadata": {},
   "outputs": [
    {
     "name": "stdout",
     "output_type": "stream",
     "text": [
      "\u001b[1;34;48mE\u001b[mML\u001b[1;31;48mR\u001b[m\u001b[1;31;48mI\u001b[mD\n",
      "\n",
      "-ML\u001b[1;31;48mW\u001b[m\u001b[1;31;48mA\u001b[mD\n"
     ]
    }
   ],
   "source": [
    "msm.topology.get_sequence_alignment(molecular_system_A, reference_molecular_system=molecular_system_B, prettyprint=True)"
   ]
  },
  {
   "cell_type": "markdown",
   "id": "30f99410-95a3-40c6-a1b8-d20e900961a9",
   "metadata": {},
   "source": [
    "The module `molsysmt.topology` has also, for instance, functions such as `molsysmt.topology.get_covalent_chains` to find out the sequences of specific atoms covalently bounded:"
   ]
  },
  {
   "cell_type": "code",
   "execution_count": 61,
   "id": "0958a1d9-af40-43bf-a100-aeec3443624e",
   "metadata": {},
   "outputs": [
    {
     "data": {
      "text/plain": [
       "array([[26, 35, 36, 37],\n",
       "       [26, 35, 36, 39],\n",
       "       [37, 44, 45, 46],\n",
       "       [37, 44, 45, 48]])"
      ]
     },
     "execution_count": 61,
     "metadata": {},
     "output_type": "execute_result"
    }
   ],
   "source": [
    "msm.topology.get_covalent_chains(molecular_system, selection='group_index in [3,4,5]', chain=['atom_name==\"C\"',\n",
    "                                                                                              'atom_name==\"N\"',\n",
    "                                                                                              'atom_name==\"CA\"',\n",
    "                                                                                              'atom_name in [\"C\", \"CB\"]'])"
   ]
  },
  {
   "cell_type": "markdown",
   "id": "a8efc015-9a82-4599-a57c-23379d28491d",
   "metadata": {},
   "source": [
    "Let's proof these function returned a correct answer:"
   ]
  },
  {
   "cell_type": "code",
   "execution_count": 62,
   "id": "25a97f3f-9217-4bde-9b5c-b6e658512af9",
   "metadata": {},
   "outputs": [
    {
     "data": {
      "text/plain": [
       "['C', 'N', 'CA', 'CB']"
      ]
     },
     "execution_count": 62,
     "metadata": {},
     "output_type": "execute_result"
    }
   ],
   "source": [
    "msm.get(molecular_system, element='atom', selection=[37, 44, 45, 48], atom_name=True)"
   ]
  },
  {
   "cell_type": "code",
   "execution_count": 64,
   "id": "3d4b35e6-4ce5-46a3-b9a6-70b84e20f0cf",
   "metadata": {},
   "outputs": [
    {
     "data": {
      "text/plain": [
       "[[37, 44], [44, 45], [45, 48]]"
      ]
     },
     "execution_count": 64,
     "metadata": {},
     "output_type": "execute_result"
    }
   ],
   "source": [
    "msm.get(molecular_system, element='atom', selection=[37, 44, 45, 48], inner_bonded_atom_pairs=True)"
   ]
  },
  {
   "cell_type": "markdown",
   "id": "5a4a36f1-9292-4ef7-afbe-d661a7ebe3b1",
   "metadata": {},
   "source": [
    "### Physchem \n",
    "\n",
    "The module `molsysmt.physchem` offers tools such as `get_charge`, `get_hydrophobicity`, or `get_sasa`. Let's see an example using the molecular system from the previous example:"
   ]
  },
  {
   "cell_type": "code",
   "execution_count": 65,
   "id": "77196487-c9b3-444a-9dea-91acaf8b7979",
   "metadata": {},
   "outputs": [],
   "source": [
    "charge_groups = msm.physchem.get_charge(molecular_system, element='group', definition='physical_pH7')"
   ]
  },
  {
   "cell_type": "code",
   "execution_count": 66,
   "id": "912057ac-be9a-435e-98db-151db4ea7fc0",
   "metadata": {},
   "outputs": [
    {
     "data": {
      "text/html": [
       "<table><tbody><tr><th>Magnitude</th><td style='text-align:left;'><pre>[0.0 0.0 0.0 0.0 -1.0 0.0 0.0 1.0 0.0 -1.0 -1.0 0.0 0.0 1.0 0.0 1.0 0.0 0.0 1.0 -1.0 0.0 -1.0 0.0 0.0 0.0 0.0 0.0 0.0 0.0 0.0 0.1 0.0 0.0 0.0 1.0 0.0 0.0 0.0 0.0 0.0 0.0 0.0 1.0 0.0 -1.0 0.0 -1.0 1.0 0.0 0.0 0.0 1.0 0.0 0.0 0.0 0.0 0.0 0.0 0.0 1.0 -1.0 -1.0 0.0 -1.0 1.0 0.0 0.0 0.0 0.0 -1.0 0.0 -1.0 0.0 0.0 0.0 1.0 0.0 0.0 0.0 1.0 0.0 0.0 1.0 0.0 1.0 0.0 0.0 0.0 -1.0 0.0 0.0 -1.0 0.0 0.0 1.0 1.0 0.0 0.0 0.0 0.0 0.0 0.0 0.0 0.0 0.0 0.0 0.0 -1.0 0.0 0.0 0.0 0.0 0.0 0.0 0.0 0.0 0.0 0.0 1.0 0.0 0.0 0.0 0.0 1.0 1.0 0.0 -1.0 -1.0 0.0 0.0 0.0 0.0 0.0 0.0 1.0 0.0 1.0 0.0 0.0 0.0 0.0 0.0 0.0 0.0 1.0 0.0 1.0 1.0 0.0 0.0 0.0 0.0 0.0 1.0 0.0 0.0 0.0 0.0 -1.0 0.0 0.0 1.0]</pre></td></tr><tr><th>Units</th><td style='text-align:left;'>elementary_charge</td></tr></tbody></table>"
      ],
      "text/latex": [
       "$\\begin{pmatrix} &  &  &  &  &  &  &  &  &  &  &  &  &  &  &  &  &  &  &  &  &  &  &  &  &  &  &  &  &  &  &  &  &  &  &  &  &  &  &  &  &  &  &  &  &  &  &  &  &  &  &  &  &  &  &  &  &  &  &  &  &  &  &  &  &  &  &  &  &  &  &  &  &  &  &  &  &  &  &  &  &  &  &  &  &  &  &  &  &  &  &  &  &  &  &  &  &  &  &  &  &  &  &  &  &  &  &  &  &  &  &  &  &  &  &  &  &  &  &  &  &  &  &  &  &  &  &  &  &  &  &  &  &  &  &  &  &  &  &  &  &  &  &  &  &  &  &  &  &  &  &  &  &  &  &  &  &  &  &  &  & \\end{pmatrix}\\ \\mathrm{elementary\\_charge}$"
      ],
      "text/plain": [
       "<Quantity([ 0.   0.   0.   0.  -1.   0.   0.   1.   0.  -1.  -1.   0.   0.   1.\n",
       "  0.   1.   0.   0.   1.  -1.   0.  -1.   0.   0.   0.   0.   0.   0.\n",
       "  0.   0.   0.1  0.   0.   0.   1.   0.   0.   0.   0.   0.   0.   0.\n",
       "  1.   0.  -1.   0.  -1.   1.   0.   0.   0.   1.   0.   0.   0.   0.\n",
       "  0.   0.   0.   1.  -1.  -1.   0.  -1.   1.   0.   0.   0.   0.  -1.\n",
       "  0.  -1.   0.   0.   0.   1.   0.   0.   0.   1.   0.   0.   1.   0.\n",
       "  1.   0.   0.   0.  -1.   0.   0.  -1.   0.   0.   1.   1.   0.   0.\n",
       "  0.   0.   0.   0.   0.   0.   0.   0.   0.  -1.   0.   0.   0.   0.\n",
       "  0.   0.   0.   0.   0.   0.   1.   0.   0.   0.   0.   1.   1.   0.\n",
       " -1.  -1.   0.   0.   0.   0.   0.   0.   1.   0.   1.   0.   0.   0.\n",
       "  0.   0.   0.   0.   1.   0.   1.   1.   0.   0.   0.   0.   0.   1.\n",
       "  0.   0.   0.   0.  -1.   0.   0.   1. ], 'elementary_charge')>"
      ]
     },
     "execution_count": 66,
     "metadata": {},
     "output_type": "execute_result"
    }
   ],
   "source": [
    "charge_groups"
   ]
  },
  {
   "cell_type": "code",
   "execution_count": 71,
   "id": "f22cbf0c-6a7a-4991-b19e-2eb2a6f2b1c0",
   "metadata": {
    "editable": true,
    "slideshow": {
     "slide_type": ""
    },
    "tags": [
     "remove-input"
    ]
   },
   "outputs": [],
   "source": [
    "# This cell is removed with the tag: \"remove-input\"\n",
    "# As such, it will not be shown in documentation\n",
    "\n",
    "nglview_htmlfile = '../../_static/nglview/quickstart_3.html'\n",
    "os.environ[\"MSM_VIEWS_FROM_HTML_FILES\"] = \"FALSE\""
   ]
  },
  {
   "cell_type": "markdown",
   "id": "8756d943-2e7d-4f03-8af1-d38418d802a5",
   "metadata": {},
   "source": [
    "We can show the 3D graphical representation of our system as we did before, but this time colouring the residues according to its charge. Notice that we are here introducing a new module found in MolSysMT: `molsysmt.thirds`."
   ]
  },
  {
   "cell_type": "code",
   "execution_count": 72,
   "id": "0855d93a-dd38-4c26-b81d-aa1800baea47",
   "metadata": {
    "editable": true,
    "slideshow": {
     "slide_type": ""
    },
    "tags": []
   },
   "outputs": [],
   "source": [
    "view = msm.view(molecular_system, viewer='NGLView')\n",
    "msm.thirds.nglview.set_color_by_value(view, values=charge_groups, cmap='bwr_r')"
   ]
  },
  {
   "cell_type": "code",
   "execution_count": 73,
   "id": "4a82c86a-8fb0-4dda-9738-7bdd8553dece",
   "metadata": {
    "editable": true,
    "slideshow": {
     "slide_type": ""
    },
    "tags": [
     "remove-output"
    ]
   },
   "outputs": [
    {
     "data": {
      "application/vnd.jupyter.widget-view+json": {
       "model_id": "dae81eb9d1584017ad6359037794aee3",
       "version_major": 2,
       "version_minor": 0
      },
      "text/plain": [
       "NGLWidget()"
      ]
     },
     "metadata": {},
     "output_type": "display_data"
    }
   ],
   "source": [
    "view"
   ]
  },
  {
   "cell_type": "code",
   "execution_count": 74,
   "id": "1bba60b3-0e47-45ee-aa78-5e9d168aa24c",
   "metadata": {
    "editable": true,
    "slideshow": {
     "slide_type": ""
    },
    "tags": [
     "remove-input"
    ]
   },
   "outputs": [
    {
     "data": {
      "text/html": [
       "\n",
       "        <iframe\n",
       "            width=\"100%\"\n",
       "            height=\"320vh\"\n",
       "            src=\"../../_static/nglview/quickstart_3.html\"\n",
       "            frameborder=\"0\"\n",
       "            allowfullscreen\n",
       "            \n",
       "        ></iframe>\n",
       "        "
      ],
      "text/plain": [
       "<IPython.lib.display.IFrame at 0x7f1704dfd370>"
      ]
     },
     "execution_count": 74,
     "metadata": {},
     "output_type": "execute_result"
    }
   ],
   "source": [
    "msm.thirds.nglview.load_html_in_jupyter_notebook(nglview_htmlfile)"
   ]
  },
  {
   "cell_type": "code",
   "execution_count": 75,
   "id": "fb81ab05-cefc-4162-883d-7558387ed2f2",
   "metadata": {
    "editable": true,
    "slideshow": {
     "slide_type": ""
    },
    "tags": [
     "remove-input"
    ]
   },
   "outputs": [],
   "source": [
    "# This cell is removed with the tag: \"remove-input\"\n",
    "# As such, it will not be shown in documentation\n",
    "\n",
    "os.environ[\"MSM_VIEWS_FROM_HTML_FILES\"] = \"TRUE\"\n",
    "\n",
    "if False:\n",
    "    # to write an html the view had to be displayed in a cell before\n",
    "    msm.thirds.nglview.write_html(view, nglview_htmlfile)"
   ]
  },
  {
   "cell_type": "markdown",
   "id": "afda9770-c100-46cb-a8dd-8670e16d3550",
   "metadata": {
    "editable": true,
    "slideshow": {
     "slide_type": ""
    },
    "tags": []
   },
   "source": [
    "### PBC, HBonds, Molecular Mechanics...\n",
    "\n",
    "Other modules in MolSysMT helps the user working with the Periodic Boundary Conditions of the molecular system (such as `molsysmt.pbc`), the hydrogen bonds (such as `molsysmt.hbonds`), or the molecular mechanics (such as `molsysmt.molecular_mechanics`). Let's illustrate the use of these last modules before finishing this Quickstart Guide.\n",
    "\n",
    "The function `molsysmt.pbc.has_pbc` returns True if the molecular system has periodic boundary conditions."
   ]
  },
  {
   "cell_type": "code",
   "execution_count": null,
   "id": "16b4ba55-bde0-495e-9c7c-f37edd3bb124",
   "metadata": {
    "editable": true,
    "slideshow": {
     "slide_type": ""
    },
    "tags": []
   },
   "outputs": [],
   "source": [
    "msm.pbc.has_pbc('181L')"
   ]
  },
  {
   "cell_type": "markdown",
   "id": "ae5b13a6-39d1-44f9-ad13-6c7a14ea9234",
   "metadata": {},
   "source": [
    "The system with PDB id 181L has a unit cell (box), tet's get it:"
   ]
  },
  {
   "cell_type": "code",
   "execution_count": 76,
   "id": "c4ef9eea-93f2-4bc5-b933-6927fa8653b9",
   "metadata": {
    "editable": true,
    "slideshow": {
     "slide_type": ""
    },
    "tags": []
   },
   "outputs": [
    {
     "data": {
      "text/html": [
       "<table><tbody><tr><th>Magnitude</th><td style='text-align:left;'><pre>[[[6.089999999999999 0.0 0.0]  [-3.0449999999999995 5.274094699999999 0.0]  [0.0 0.0 9.7]]]</pre></td></tr><tr><th>Units</th><td style='text-align:left;'>nanometer</td></tr></tbody></table>"
      ],
      "text/latex": [
       "$arr[,0,:,:] = \\begin{pmatrix} &  & \\\\ \n",
       " &  & \\\\ \n",
       " &  & \\end{pmatrix}\\ \\mathrm{nanometer}$"
      ],
      "text/plain": [
       "<Quantity([[[ 6.09       0.         0.       ]\n",
       "  [-3.045      5.2740947  0.       ]\n",
       "  [ 0.         0.         9.7      ]]], 'nanometer')>"
      ]
     },
     "execution_count": 76,
     "metadata": {},
     "output_type": "execute_result"
    }
   ],
   "source": [
    "msm.get('181L', box=True)"
   ]
  },
  {
   "cell_type": "markdown",
   "id": "d6e82b18-379d-47cf-aaf7-6d3094ca842c",
   "metadata": {},
   "source": [
    "Now, using the molecular system from the previous section, we can can compute the hydrogen bonds with `molsysmt.hbonds.get_buch_hbonds`. But before we need to be sure the system has hydrogens, and if that's not the case, add them."
   ]
  },
  {
   "cell_type": "code",
   "execution_count": 77,
   "id": "c97b40d3-eeaa-419a-8fe9-3263b8062cc9",
   "metadata": {
    "editable": true,
    "slideshow": {
     "slide_type": ""
    },
    "tags": []
   },
   "outputs": [
    {
     "data": {
      "text/plain": [
       "False"
      ]
     },
     "execution_count": 77,
     "metadata": {},
     "output_type": "execute_result"
    }
   ],
   "source": [
    "msm.build.has_hydrogens(molecular_system)"
   ]
  },
  {
   "cell_type": "code",
   "execution_count": 78,
   "id": "e3516e25-3c54-4770-bc0f-8e590a8f5ca6",
   "metadata": {},
   "outputs": [],
   "source": [
    "molecular_system = msm.build.add_missing_hydrogens(molecular_system, pH=7.4)"
   ]
  },
  {
   "cell_type": "markdown",
   "id": "00c702ef-a662-439c-a13b-32f5bfbcf03a",
   "metadata": {},
   "source": [
    "The same with the terminal cappings:"
   ]
  },
  {
   "cell_type": "code",
   "execution_count": 79,
   "id": "d91dc157-bef8-445d-9813-d95d799d370d",
   "metadata": {},
   "outputs": [
    {
     "data": {
      "text/plain": [
       "{161: ['OXT']}"
      ]
     },
     "execution_count": 79,
     "metadata": {},
     "output_type": "execute_result"
    }
   ],
   "source": [
    "msm.build.get_missing_terminal_cappings(molecular_system)"
   ]
  },
  {
   "cell_type": "code",
   "execution_count": 80,
   "id": "b4a33a25-bd6e-44b9-8bc9-14ec11ada8e2",
   "metadata": {
    "editable": true,
    "slideshow": {
     "slide_type": ""
    },
    "tags": []
   },
   "outputs": [],
   "source": [
    "molecular_system = msm.build.add_missing_terminal_cappings(molecular_system)"
   ]
  },
  {
   "cell_type": "markdown",
   "id": "7f9c2dab-b436-4272-982f-30f5d97ef637",
   "metadata": {},
   "source": [
    "The molecular system is now ready to play with it. Let's check if there exists any hydrogen bond between ASP and TYR residues."
   ]
  },
  {
   "cell_type": "code",
   "execution_count": 81,
   "id": "65e5d0b6-74c9-49c5-8bf5-c067e137390e",
   "metadata": {
    "editable": true,
    "slideshow": {
     "slide_type": ""
    },
    "tags": []
   },
   "outputs": [
    {
     "data": {
      "text/plain": [
       "(array([[[394, 395, 356]]]), <Quantity([[0.17397998]], 'nanometer')>)"
      ]
     },
     "execution_count": 81,
     "metadata": {},
     "output_type": "execute_result"
    }
   ],
   "source": [
    "msm.hbonds.get_buch_hbonds(molecular_system, selection='group_name==\"ASP\"', selection_2='group_name==\"TYR\"')"
   ]
  },
  {
   "cell_type": "markdown",
   "id": "e8bca90d-1dca-4cb5-97de-fadfb4f637cd",
   "metadata": {},
   "source": [
    "Who are those atoms?"
   ]
  },
  {
   "cell_type": "code",
   "execution_count": 82,
   "id": "bad46130-01fb-457d-a997-4130f30625fe",
   "metadata": {},
   "outputs": [
    {
     "data": {
      "text/html": [
       "<style type=\"text/css\">\n",
       "</style>\n",
       "<table id=\"T_d0de0\">\n",
       "  <thead>\n",
       "    <tr>\n",
       "      <th id=\"T_d0de0_level0_col0\" class=\"col_heading level0 col0\" >index</th>\n",
       "      <th id=\"T_d0de0_level0_col1\" class=\"col_heading level0 col1\" >id</th>\n",
       "      <th id=\"T_d0de0_level0_col2\" class=\"col_heading level0 col2\" >name</th>\n",
       "      <th id=\"T_d0de0_level0_col3\" class=\"col_heading level0 col3\" >type</th>\n",
       "      <th id=\"T_d0de0_level0_col4\" class=\"col_heading level0 col4\" >group index</th>\n",
       "      <th id=\"T_d0de0_level0_col5\" class=\"col_heading level0 col5\" >group id</th>\n",
       "      <th id=\"T_d0de0_level0_col6\" class=\"col_heading level0 col6\" >group name</th>\n",
       "      <th id=\"T_d0de0_level0_col7\" class=\"col_heading level0 col7\" >group type</th>\n",
       "      <th id=\"T_d0de0_level0_col8\" class=\"col_heading level0 col8\" >component index</th>\n",
       "      <th id=\"T_d0de0_level0_col9\" class=\"col_heading level0 col9\" >chain index</th>\n",
       "      <th id=\"T_d0de0_level0_col10\" class=\"col_heading level0 col10\" >molecule index</th>\n",
       "      <th id=\"T_d0de0_level0_col11\" class=\"col_heading level0 col11\" >molecule type</th>\n",
       "      <th id=\"T_d0de0_level0_col12\" class=\"col_heading level0 col12\" >entity index</th>\n",
       "      <th id=\"T_d0de0_level0_col13\" class=\"col_heading level0 col13\" >entity name</th>\n",
       "    </tr>\n",
       "  </thead>\n",
       "  <tbody>\n",
       "    <tr>\n",
       "      <td id=\"T_d0de0_row0_col0\" class=\"data row0 col0\" >356</td>\n",
       "      <td id=\"T_d0de0_row0_col1\" class=\"data row0 col1\" >357</td>\n",
       "      <td id=\"T_d0de0_row0_col2\" class=\"data row0 col2\" >OD1</td>\n",
       "      <td id=\"T_d0de0_row0_col3\" class=\"data row0 col3\" >O</td>\n",
       "      <td id=\"T_d0de0_row0_col4\" class=\"data row0 col4\" >19</td>\n",
       "      <td id=\"T_d0de0_row0_col5\" class=\"data row0 col5\" >20</td>\n",
       "      <td id=\"T_d0de0_row0_col6\" class=\"data row0 col6\" >ASP</td>\n",
       "      <td id=\"T_d0de0_row0_col7\" class=\"data row0 col7\" >amino acid</td>\n",
       "      <td id=\"T_d0de0_row0_col8\" class=\"data row0 col8\" >0</td>\n",
       "      <td id=\"T_d0de0_row0_col9\" class=\"data row0 col9\" >0</td>\n",
       "      <td id=\"T_d0de0_row0_col10\" class=\"data row0 col10\" >0</td>\n",
       "      <td id=\"T_d0de0_row0_col11\" class=\"data row0 col11\" >protein</td>\n",
       "      <td id=\"T_d0de0_row0_col12\" class=\"data row0 col12\" >0</td>\n",
       "      <td id=\"T_d0de0_row0_col13\" class=\"data row0 col13\" >T4 LYSOZYME</td>\n",
       "    </tr>\n",
       "    <tr>\n",
       "      <td id=\"T_d0de0_row1_col0\" class=\"data row1 col0\" >394</td>\n",
       "      <td id=\"T_d0de0_row1_col1\" class=\"data row1 col1\" >395</td>\n",
       "      <td id=\"T_d0de0_row1_col2\" class=\"data row1 col2\" >N</td>\n",
       "      <td id=\"T_d0de0_row1_col3\" class=\"data row1 col3\" >N</td>\n",
       "      <td id=\"T_d0de0_row1_col4\" class=\"data row1 col4\" >23</td>\n",
       "      <td id=\"T_d0de0_row1_col5\" class=\"data row1 col5\" >24</td>\n",
       "      <td id=\"T_d0de0_row1_col6\" class=\"data row1 col6\" >TYR</td>\n",
       "      <td id=\"T_d0de0_row1_col7\" class=\"data row1 col7\" >amino acid</td>\n",
       "      <td id=\"T_d0de0_row1_col8\" class=\"data row1 col8\" >0</td>\n",
       "      <td id=\"T_d0de0_row1_col9\" class=\"data row1 col9\" >0</td>\n",
       "      <td id=\"T_d0de0_row1_col10\" class=\"data row1 col10\" >0</td>\n",
       "      <td id=\"T_d0de0_row1_col11\" class=\"data row1 col11\" >protein</td>\n",
       "      <td id=\"T_d0de0_row1_col12\" class=\"data row1 col12\" >0</td>\n",
       "      <td id=\"T_d0de0_row1_col13\" class=\"data row1 col13\" >T4 LYSOZYME</td>\n",
       "    </tr>\n",
       "    <tr>\n",
       "      <td id=\"T_d0de0_row2_col0\" class=\"data row2 col0\" >395</td>\n",
       "      <td id=\"T_d0de0_row2_col1\" class=\"data row2 col1\" >396</td>\n",
       "      <td id=\"T_d0de0_row2_col2\" class=\"data row2 col2\" >H</td>\n",
       "      <td id=\"T_d0de0_row2_col3\" class=\"data row2 col3\" >H</td>\n",
       "      <td id=\"T_d0de0_row2_col4\" class=\"data row2 col4\" >23</td>\n",
       "      <td id=\"T_d0de0_row2_col5\" class=\"data row2 col5\" >24</td>\n",
       "      <td id=\"T_d0de0_row2_col6\" class=\"data row2 col6\" >TYR</td>\n",
       "      <td id=\"T_d0de0_row2_col7\" class=\"data row2 col7\" >amino acid</td>\n",
       "      <td id=\"T_d0de0_row2_col8\" class=\"data row2 col8\" >0</td>\n",
       "      <td id=\"T_d0de0_row2_col9\" class=\"data row2 col9\" >0</td>\n",
       "      <td id=\"T_d0de0_row2_col10\" class=\"data row2 col10\" >0</td>\n",
       "      <td id=\"T_d0de0_row2_col11\" class=\"data row2 col11\" >protein</td>\n",
       "      <td id=\"T_d0de0_row2_col12\" class=\"data row2 col12\" >0</td>\n",
       "      <td id=\"T_d0de0_row2_col13\" class=\"data row2 col13\" >T4 LYSOZYME</td>\n",
       "    </tr>\n",
       "  </tbody>\n",
       "</table>\n"
      ],
      "text/plain": [
       "<pandas.io.formats.style.Styler at 0x7f16fc320920>"
      ]
     },
     "execution_count": 82,
     "metadata": {},
     "output_type": "execute_result"
    }
   ],
   "source": [
    "msm.info(molecular_system, element='atom', selection=[356, 394, 395])"
   ]
  },
  {
   "cell_type": "markdown",
   "id": "1d25c809-afab-41c9-8329-fb22fdc671e2",
   "metadata": {},
   "source": [
    "Finnally, with the help of OpenMM, the non bonded term of the potential energy between atoms 394 and 395 with atom 356 can be computed:"
   ]
  },
  {
   "cell_type": "code",
   "execution_count": 83,
   "id": "fcbd7663-cf54-4c03-b646-df862e92f501",
   "metadata": {
    "editable": true,
    "slideshow": {
     "slide_type": ""
    },
    "tags": []
   },
   "outputs": [
    {
     "data": {
      "text/html": [
       "0.12165832519531218 kilojoule/mole"
      ],
      "text/latex": [
       "$0.12165832519531218\\ \\frac{\\mathrm{kilojoule}}{\\mathrm{mole}}$"
      ],
      "text/plain": [
       "<Quantity(0.121658325, 'kilojoule / mole')>"
      ]
     },
     "execution_count": 83,
     "metadata": {},
     "output_type": "execute_result"
    }
   ],
   "source": [
    "msm.molecular_mechanics.get_non_bonded_potential_energy(molecular_system, selection=[394,  395], selection_2=[356], engine='OpenMM')"
   ]
  },
  {
   "cell_type": "markdown",
   "id": "36b8b0de-c129-46ea-9bd5-9dfa5dd941e1",
   "metadata": {
    "editable": true,
    "slideshow": {
     "slide_type": ""
    },
    "tags": []
   },
   "source": [
    "## Do you want more?\n",
    "\n",
    "We hope you found MolSysMT useful. If that is the case, you can either keep on having a look to the [\"Showcase\"](index.md) section or maybe it is time for you to visit the [\"User Guide\"](../user/index.ipynb). Enjoy the trip!"
   ]
  }
 ],
 "metadata": {
  "kernelspec": {
   "display_name": "Python 3 (ipykernel)",
   "language": "python",
   "name": "python3"
  },
  "language_info": {
   "codemirror_mode": {
    "name": "ipython",
    "version": 3
   },
   "file_extension": ".py",
   "mimetype": "text/x-python",
   "name": "python",
   "nbconvert_exporter": "python",
   "pygments_lexer": "ipython3",
   "version": "3.12.9"
  },
  "widgets": {
   "application/vnd.jupyter.widget-state+json": {
    "state": {
     "01f16853a6bf4924b7df9657d9691343": {
      "model_module": "@jupyter-widgets/controls",
      "model_module_version": "2.0.0",
      "model_name": "DescriptionStyleModel",
      "state": {
       "_model_module": "@jupyter-widgets/controls",
       "_model_module_version": "2.0.0",
       "_model_name": "DescriptionStyleModel",
       "_view_count": null,
       "_view_module": "@jupyter-widgets/base",
       "_view_module_version": "2.0.0",
       "_view_name": "StyleView",
       "description_width": ""
      }
     },
     "0c89fd1882ca44f7a24e50a14a8e0c22": {
      "model_module": "nglview-js-widgets",
      "model_module_version": "3.1.4",
      "model_name": "ColormakerRegistryModel",
      "state": {
       "_dom_classes": [],
       "_model_module": "nglview-js-widgets",
       "_model_module_version": "3.1.4",
       "_model_name": "ColormakerRegistryModel",
       "_msg_ar": [],
       "_msg_q": [],
       "_ready": false,
       "_view_count": null,
       "_view_module": "nglview-js-widgets",
       "_view_module_version": "3.1.4",
       "_view_name": "ColormakerRegistryView",
       "layout": "IPY_MODEL_9c9b9416e0fc49a5a55d0d91110c5b73",
       "tabbable": null,
       "tooltip": null
      }
     },
     "142bcc8e649d479f97bac63a0cbe683e": {
      "model_module": "@jupyter-widgets/controls",
      "model_module_version": "2.0.0",
      "model_name": "LinkModel",
      "state": {
       "_model_module": "@jupyter-widgets/controls",
       "_model_module_version": "2.0.0",
       "_model_name": "LinkModel",
       "_view_count": null,
       "_view_module": "@jupyter-widgets/controls",
       "_view_module_version": "2.0.0",
       "_view_name": null,
       "source": [
        "IPY_MODEL_694b163059b6402b99eea7671fe90919",
        "max"
       ],
       "target": [
        "IPY_MODEL_d4966504ab80489c900afacf68bbac29",
        "max_frame"
       ]
      }
     },
     "14b6e129b4e747b68f101804d2a3e989": {
      "model_module": "@jupyter-widgets/controls",
      "model_module_version": "2.0.0",
      "model_name": "IntSliderModel",
      "state": {
       "_dom_classes": [],
       "_model_module": "@jupyter-widgets/controls",
       "_model_module_version": "2.0.0",
       "_model_name": "IntSliderModel",
       "_view_count": null,
       "_view_module": "@jupyter-widgets/controls",
       "_view_module_version": "2.0.0",
       "_view_name": "IntSliderView",
       "behavior": "drag-tap",
       "continuous_update": true,
       "description": "",
       "description_allow_html": false,
       "disabled": false,
       "layout": "IPY_MODEL_e7dc70d74b0c4956bc3c741bd735feb3",
       "max": 0,
       "min": 0,
       "orientation": "horizontal",
       "readout": true,
       "readout_format": "d",
       "step": 1,
       "style": "IPY_MODEL_4ca2e580279141c4a2ed60958646ecfa",
       "tabbable": null,
       "tooltip": null,
       "value": 0
      }
     },
     "21e6019527474674b3a760b39df857ac": {
      "model_module": "@jupyter-widgets/base",
      "model_module_version": "2.0.0",
      "model_name": "LayoutModel",
      "state": {
       "_model_module": "@jupyter-widgets/base",
       "_model_module_version": "2.0.0",
       "_model_name": "LayoutModel",
       "_view_count": null,
       "_view_module": "@jupyter-widgets/base",
       "_view_module_version": "2.0.0",
       "_view_name": "LayoutView",
       "align_content": null,
       "align_items": null,
       "align_self": null,
       "border_bottom": null,
       "border_left": null,
       "border_right": null,
       "border_top": null,
       "bottom": null,
       "display": null,
       "flex": null,
       "flex_flow": null,
       "grid_area": null,
       "grid_auto_columns": null,
       "grid_auto_flow": null,
       "grid_auto_rows": null,
       "grid_column": null,
       "grid_gap": null,
       "grid_row": null,
       "grid_template_areas": null,
       "grid_template_columns": null,
       "grid_template_rows": null,
       "height": null,
       "justify_content": null,
       "justify_items": null,
       "left": null,
       "margin": null,
       "max_height": null,
       "max_width": null,
       "min_height": null,
       "min_width": null,
       "object_fit": null,
       "object_position": null,
       "order": null,
       "overflow": null,
       "padding": null,
       "right": null,
       "top": null,
       "visibility": null,
       "width": "34px"
      }
     },
     "23e057063d434a1ba1a74c56de506b04": {
      "model_module": "@jupyter-widgets/controls",
      "model_module_version": "2.0.0",
      "model_name": "LinkModel",
      "state": {
       "_model_module": "@jupyter-widgets/controls",
       "_model_module_version": "2.0.0",
       "_model_name": "LinkModel",
       "_view_count": null,
       "_view_module": "@jupyter-widgets/controls",
       "_view_module_version": "2.0.0",
       "_view_name": null,
       "source": [
        "IPY_MODEL_694b163059b6402b99eea7671fe90919",
        "value"
       ],
       "target": [
        "IPY_MODEL_14b6e129b4e747b68f101804d2a3e989",
        "value"
       ]
      }
     },
     "25855334a59b4590ae13bf94ef9aaf80": {
      "model_module": "@jupyter-widgets/controls",
      "model_module_version": "2.0.0",
      "model_name": "ButtonModel",
      "state": {
       "_dom_classes": [],
       "_model_module": "@jupyter-widgets/controls",
       "_model_module_version": "2.0.0",
       "_model_name": "ButtonModel",
       "_view_count": null,
       "_view_module": "@jupyter-widgets/controls",
       "_view_module_version": "2.0.0",
       "_view_name": "ButtonView",
       "button_style": "",
       "description": "",
       "disabled": false,
       "icon": "compress",
       "layout": "IPY_MODEL_21e6019527474674b3a760b39df857ac",
       "style": "IPY_MODEL_eba4d096c8174d0b8ca6f1771bb7f431",
       "tabbable": null,
       "tooltip": null
      }
     },
     "27411a79aabc41c5bc7a7d61580e1ffd": {
      "model_module": "@jupyter-widgets/base",
      "model_module_version": "2.0.0",
      "model_name": "LayoutModel",
      "state": {
       "_model_module": "@jupyter-widgets/base",
       "_model_module_version": "2.0.0",
       "_model_name": "LayoutModel",
       "_view_count": null,
       "_view_module": "@jupyter-widgets/base",
       "_view_module_version": "2.0.0",
       "_view_name": "LayoutView",
       "align_content": null,
       "align_items": null,
       "align_self": null,
       "border_bottom": null,
       "border_left": null,
       "border_right": null,
       "border_top": null,
       "bottom": null,
       "display": null,
       "flex": null,
       "flex_flow": null,
       "grid_area": null,
       "grid_auto_columns": null,
       "grid_auto_flow": null,
       "grid_auto_rows": null,
       "grid_column": null,
       "grid_gap": null,
       "grid_row": null,
       "grid_template_areas": null,
       "grid_template_columns": null,
       "grid_template_rows": null,
       "height": null,
       "justify_content": null,
       "justify_items": null,
       "left": null,
       "margin": null,
       "max_height": null,
       "max_width": null,
       "min_height": null,
       "min_width": null,
       "object_fit": null,
       "object_position": null,
       "order": null,
       "overflow": null,
       "padding": null,
       "right": null,
       "top": null,
       "visibility": null,
       "width": null
      }
     },
     "2ea547769747427d9c48d86c7c55e363": {
      "model_module": "@jupyter-widgets/base",
      "model_module_version": "2.0.0",
      "model_name": "LayoutModel",
      "state": {
       "_model_module": "@jupyter-widgets/base",
       "_model_module_version": "2.0.0",
       "_model_name": "LayoutModel",
       "_view_count": null,
       "_view_module": "@jupyter-widgets/base",
       "_view_module_version": "2.0.0",
       "_view_name": "LayoutView",
       "align_content": null,
       "align_items": null,
       "align_self": null,
       "border_bottom": null,
       "border_left": null,
       "border_right": null,
       "border_top": null,
       "bottom": null,
       "display": null,
       "flex": null,
       "flex_flow": null,
       "grid_area": null,
       "grid_auto_columns": null,
       "grid_auto_flow": null,
       "grid_auto_rows": null,
       "grid_column": null,
       "grid_gap": null,
       "grid_row": null,
       "grid_template_areas": null,
       "grid_template_columns": null,
       "grid_template_rows": null,
       "height": null,
       "justify_content": null,
       "justify_items": null,
       "left": null,
       "margin": null,
       "max_height": null,
       "max_width": null,
       "min_height": null,
       "min_width": null,
       "object_fit": null,
       "object_position": null,
       "order": null,
       "overflow": null,
       "padding": null,
       "right": null,
       "top": null,
       "visibility": null,
       "width": null
      }
     },
     "4ca2e580279141c4a2ed60958646ecfa": {
      "model_module": "@jupyter-widgets/controls",
      "model_module_version": "2.0.0",
      "model_name": "SliderStyleModel",
      "state": {
       "_model_module": "@jupyter-widgets/controls",
       "_model_module_version": "2.0.0",
       "_model_name": "SliderStyleModel",
       "_view_count": null,
       "_view_module": "@jupyter-widgets/base",
       "_view_module_version": "2.0.0",
       "_view_name": "StyleView",
       "description_width": "",
       "handle_color": null
      }
     },
     "54eaab6d7f6c4e65bc56d9d6f3eabbae": {
      "model_module": "@jupyter-widgets/controls",
      "model_module_version": "2.0.0",
      "model_name": "LinkModel",
      "state": {
       "_model_module": "@jupyter-widgets/controls",
       "_model_module_version": "2.0.0",
       "_model_name": "LinkModel",
       "_view_count": null,
       "_view_module": "@jupyter-widgets/controls",
       "_view_module_version": "2.0.0",
       "_view_name": null,
       "source": [
        "IPY_MODEL_14b6e129b4e747b68f101804d2a3e989",
        "max"
       ],
       "target": [
        "IPY_MODEL_d4966504ab80489c900afacf68bbac29",
        "max_frame"
       ]
      }
     },
     "694b163059b6402b99eea7671fe90919": {
      "model_module": "@jupyter-widgets/controls",
      "model_module_version": "2.0.0",
      "model_name": "PlayModel",
      "state": {
       "_dom_classes": [],
       "_model_module": "@jupyter-widgets/controls",
       "_model_module_version": "2.0.0",
       "_model_name": "PlayModel",
       "_view_count": null,
       "_view_module": "@jupyter-widgets/controls",
       "_view_module_version": "2.0.0",
       "_view_name": "PlayView",
       "description": "",
       "description_allow_html": false,
       "disabled": false,
       "interval": 100,
       "layout": "IPY_MODEL_2ea547769747427d9c48d86c7c55e363",
       "max": 0,
       "min": 0,
       "playing": false,
       "repeat": false,
       "show_repeat": true,
       "step": 1,
       "style": "IPY_MODEL_01f16853a6bf4924b7df9657d9691343",
       "tabbable": null,
       "tooltip": null,
       "value": 0
      }
     },
     "831c876b96eb48ce919238bd31cfce34": {
      "model_module": "@jupyter-widgets/controls",
      "model_module_version": "2.0.0",
      "model_name": "LinkModel",
      "state": {
       "_model_module": "@jupyter-widgets/controls",
       "_model_module_version": "2.0.0",
       "_model_name": "LinkModel",
       "_view_count": null,
       "_view_module": "@jupyter-widgets/controls",
       "_view_module_version": "2.0.0",
       "_view_name": null,
       "source": [
        "IPY_MODEL_694b163059b6402b99eea7671fe90919",
        "value"
       ],
       "target": [
        "IPY_MODEL_d4966504ab80489c900afacf68bbac29",
        "frame"
       ]
      }
     },
     "9c9b9416e0fc49a5a55d0d91110c5b73": {
      "model_module": "@jupyter-widgets/base",
      "model_module_version": "2.0.0",
      "model_name": "LayoutModel",
      "state": {
       "_model_module": "@jupyter-widgets/base",
       "_model_module_version": "2.0.0",
       "_model_name": "LayoutModel",
       "_view_count": null,
       "_view_module": "@jupyter-widgets/base",
       "_view_module_version": "2.0.0",
       "_view_name": "LayoutView",
       "align_content": null,
       "align_items": null,
       "align_self": null,
       "border_bottom": null,
       "border_left": null,
       "border_right": null,
       "border_top": null,
       "bottom": null,
       "display": null,
       "flex": null,
       "flex_flow": null,
       "grid_area": null,
       "grid_auto_columns": null,
       "grid_auto_flow": null,
       "grid_auto_rows": null,
       "grid_column": null,
       "grid_gap": null,
       "grid_row": null,
       "grid_template_areas": null,
       "grid_template_columns": null,
       "grid_template_rows": null,
       "height": null,
       "justify_content": null,
       "justify_items": null,
       "left": null,
       "margin": null,
       "max_height": null,
       "max_width": null,
       "min_height": null,
       "min_width": null,
       "object_fit": null,
       "object_position": null,
       "order": null,
       "overflow": null,
       "padding": null,
       "right": null,
       "top": null,
       "visibility": null,
       "width": null
      }
     },
     "b3610d15cbae4fa685f0cd9fe998ad8e": {
      "model_module": "@jupyter-widgets/base",
      "model_module_version": "2.0.0",
      "model_name": "LayoutModel",
      "state": {
       "_model_module": "@jupyter-widgets/base",
       "_model_module_version": "2.0.0",
       "_model_name": "LayoutModel",
       "_view_count": null,
       "_view_module": "@jupyter-widgets/base",
       "_view_module_version": "2.0.0",
       "_view_name": "LayoutView",
       "align_content": null,
       "align_items": null,
       "align_self": null,
       "border_bottom": null,
       "border_left": null,
       "border_right": null,
       "border_top": null,
       "bottom": null,
       "display": null,
       "flex": null,
       "flex_flow": null,
       "grid_area": null,
       "grid_auto_columns": null,
       "grid_auto_flow": null,
       "grid_auto_rows": null,
       "grid_column": null,
       "grid_gap": null,
       "grid_row": null,
       "grid_template_areas": null,
       "grid_template_columns": null,
       "grid_template_rows": null,
       "height": null,
       "justify_content": null,
       "justify_items": null,
       "left": null,
       "margin": null,
       "max_height": null,
       "max_width": null,
       "min_height": null,
       "min_width": null,
       "object_fit": null,
       "object_position": null,
       "order": null,
       "overflow": null,
       "padding": null,
       "right": null,
       "top": null,
       "visibility": null,
       "width": null
      }
     },
     "c2532220186e4a428adf69d366dbd002": {
      "model_module": "@jupyter-widgets/base",
      "model_module_version": "2.0.0",
      "model_name": "LayoutModel",
      "state": {
       "_model_module": "@jupyter-widgets/base",
       "_model_module_version": "2.0.0",
       "_model_name": "LayoutModel",
       "_view_count": null,
       "_view_module": "@jupyter-widgets/base",
       "_view_module_version": "2.0.0",
       "_view_name": "LayoutView",
       "align_content": null,
       "align_items": null,
       "align_self": null,
       "border_bottom": null,
       "border_left": null,
       "border_right": null,
       "border_top": null,
       "bottom": null,
       "display": null,
       "flex": null,
       "flex_flow": null,
       "grid_area": null,
       "grid_auto_columns": null,
       "grid_auto_flow": null,
       "grid_auto_rows": null,
       "grid_column": null,
       "grid_gap": null,
       "grid_row": null,
       "grid_template_areas": null,
       "grid_template_columns": null,
       "grid_template_rows": null,
       "height": null,
       "justify_content": null,
       "justify_items": null,
       "left": null,
       "margin": null,
       "max_height": null,
       "max_width": null,
       "min_height": null,
       "min_width": null,
       "object_fit": null,
       "object_position": null,
       "order": null,
       "overflow": null,
       "padding": null,
       "right": null,
       "top": null,
       "visibility": null,
       "width": null
      }
     },
     "c59fdf5c1abf447fa205a793da1ca902": {
      "buffers": [
       {
        "data": "",
        "encoding": "base64",
        "path": [
         "value"
        ]
       }
      ],
      "model_module": "@jupyter-widgets/controls",
      "model_module_version": "2.0.0",
      "model_name": "ImageModel",
      "state": {
       "_dom_classes": [],
       "_model_module": "@jupyter-widgets/controls",
       "_model_module_version": "2.0.0",
       "_model_name": "ImageModel",
       "_view_count": null,
       "_view_module": "@jupyter-widgets/controls",
       "_view_module_version": "2.0.0",
       "_view_name": "ImageView",
       "format": "png",
       "height": "",
       "layout": "IPY_MODEL_c2532220186e4a428adf69d366dbd002",
       "tabbable": null,
       "tooltip": null,
       "width": "900.0"
      }
     },
     "d4966504ab80489c900afacf68bbac29": {
      "model_module": "nglview-js-widgets",
      "model_module_version": "3.1.4",
      "model_name": "NGLModel",
      "state": {
       "_camera_orientation": [],
       "_camera_str": "orthographic",
       "_dom_classes": [],
       "_gui_theme": null,
       "_ibtn_fullscreen": "IPY_MODEL_25855334a59b4590ae13bf94ef9aaf80",
       "_igui": null,
       "_iplayer": "IPY_MODEL_d6e619cd953b4e2787202a7527911f07",
       "_model_module": "nglview-js-widgets",
       "_model_module_version": "3.1.4",
       "_model_name": "NGLModel",
       "_ngl_color_dict": {},
       "_ngl_coordinate_resource": {},
       "_ngl_full_stage_parameters": {},
       "_ngl_msg_archive": [
        {
         "args": [
          {
           "binary": false,
           "data": "HEADER    MOLECULAR SYSTEM                        17-MAR-25       \nREMARK   1 Created by MolSysMT version 1.0 on 17-MAR-2025 at 17:20:03\nCRYST1   60.900   60.900   97.000  90.00  90.00 120.00\nATOM      1 N    MET A   1      43.982  -3.258   9.163  0.00  0.00           N\nATOM      2 CA   MET A   1      43.434  -1.917   9.134  0.00  0.00           C\nATOM      3 C    MET A   1      42.006  -1.966   9.640  0.00  0.00           C\nATOM      4 O    MET A   1      41.334  -2.969   9.468  0.00  0.00           O\nATOM      5 CB   MET A   1      43.582  -1.397   7.675  0.00  0.00           C\nATOM      6 CG   MET A   1      42.903  -0.084   7.444  0.00  0.00           C\nATOM      7 SD   MET A   1      44.006   1.250   7.952  0.00  0.00           S\nATOM      8 CE   MET A   1      45.481   0.757   7.112  0.00  0.00           C\nATOM      9 N    ASN A   2      41.577  -0.917  10.331  0.00  0.00           N\nATOM     10 CA   ASN A   2      40.227  -0.852  10.835  0.00  0.00           C\nATOM     11 C    ASN A   2      39.857   0.627  10.904  0.00  0.00           C\nATOM     12 O    ASN A   2      40.756   1.443  10.662  0.00  0.00           O\nATOM     13 CB   ASN A   2      40.133  -1.529  12.224  0.00  0.00           C\nATOM     14 CG   ASN A   2      41.084  -0.909  13.215  0.00  0.00           C\nATOM     15 OD1  ASN A   2      41.041   0.309  13.479  0.00  0.00           O\nATOM     16 ND2  ASN A   2      42.001  -1.711  13.752  0.00  0.00           N\nATOM     17 N    ILE A   3      38.598   0.950  11.230  0.00  0.00           N\nATOM     18 CA   ILE A   3      38.095   2.316  11.285  0.00  0.00           C\nATOM     19 C    ILE A   3      38.983   3.288  12.114  0.00  0.00           C\nATOM     20 O    ILE A   3      39.269   4.440  11.729  0.00  0.00           O\nATOM     21 CB   ILE A   3      36.596   2.331  11.634  0.00  0.00           C\nATOM     22 CG1  ILE A   3      36.015   3.749  11.576  0.00  0.00           C\nATOM     23 CG2  ILE A   3      36.352   1.659  12.987  0.00  0.00           C\nATOM     24 CD1  ILE A   3      36.262   4.484  10.218  0.00  0.00           C\nATOM     25 N    PHE A   4      39.471   2.813  13.251  0.00  0.00           N\nATOM     26 CA   PHE A   4      40.288   3.621  14.120  0.00  0.00           C\nATOM     27 C    PHE A   4      41.595   4.009  13.514  0.00  0.00           C\nATOM     28 O    PHE A   4      42.017   5.171  13.544  0.00  0.00           O\nATOM     29 CB   PHE A   4      40.534   2.948  15.448  0.00  0.00           C\nATOM     30 CG   PHE A   4      39.261   2.896  16.253  0.00  0.00           C\nATOM     31 CD1  PHE A   4      38.915   3.949  17.091  0.00  0.00           C\nATOM     32 CD2  PHE A   4      38.438   1.771  16.220  0.00  0.00           C\nATOM     33 CE1  PHE A   4      37.756   3.891  17.868  0.00  0.00           C\nATOM     34 CE2  PHE A   4      37.266   1.706  16.970  0.00  0.00           C\nATOM     35 CZ   PHE A   4      36.931   2.766  17.809  0.00  0.00           C\nATOM     36 N    GLU A   5      42.284   3.029  12.984  0.00  0.00           N\nATOM     37 CA   GLU A   5      43.538   3.324  12.350  0.00  0.00           C\nATOM     38 C    GLU A   5      43.301   4.168  11.123  0.00  0.00           C\nATOM     39 O    GLU A   5      44.143   4.951  10.782  0.00  0.00           O\nATOM     40 CB   GLU A   5      44.301   2.059  11.905  0.00  0.00           C\nATOM     41 CG   GLU A   5      44.570   1.071  13.057  0.00  0.00           C\nATOM     42 CD   GLU A   5      45.307  -0.199  12.662  0.00  0.00           C\nATOM     43 OE1  GLU A   5      45.539  -0.541  11.509  0.00  0.00           O\nATOM     44 OE2  GLU A   5      45.835  -0.819  13.703  0.00  0.00           O\nATOM     45 N    MET A   6      42.196   3.948  10.448  0.00  0.00           N\nATOM     46 CA   MET A   6      41.906   4.713   9.248  0.00  0.00           C\nATOM     47 C    MET A   6      41.733   6.191   9.577  0.00  0.00           C\nATOM     48 O    MET A   6      42.305   7.096   8.943  0.00  0.00           O\nATOM     49 CB   MET A   6      40.583   4.198   8.656  0.00  0.00           C\nATOM     50 CG   MET A   6      40.268   4.791   7.289  0.00  0.00           C\nATOM     51 SD   MET A   6      38.516   4.549   6.882  0.00  0.00           S\nATOM     52 CE   MET A   6      38.491   4.603   5.061  0.00  0.00           C\nATOM     53 N    LEU A   7      40.898   6.458  10.569  0.00  0.00           N\nATOM     54 CA   LEU A   7      40.633   7.840  10.929  0.00  0.00           C\nATOM     55 C    LEU A   7      41.868   8.518  11.566  0.00  0.00           C\nATOM     56 O    LEU A   7      42.104   9.741  11.449  0.00  0.00           O\nATOM     57 CB   LEU A   7      39.392   7.942  11.817  0.00  0.00           C\nATOM     58 CG   LEU A   7      38.095   7.927  11.038  0.00  0.00           C\nATOM     59 CD1  LEU A   7      36.964   7.641  12.005  0.00  0.00           C\nATOM     60 CD2  LEU A   7      37.911   9.284  10.346  0.00  0.00           C\nATOM     61 N    ARG A   8      42.674   7.714  12.256  0.00  0.00           N\nATOM     62 CA   ARG A   8      43.879   8.232  12.881  0.00  0.00           C\nATOM     63 C    ARG A   8      44.822   8.756  11.814  0.00  0.00           C\nATOM     64 O    ARG A   8      45.490   9.750  12.027  0.00  0.00           O\nATOM     65 CB   ARG A   8      44.530   7.358  13.934  0.00  0.00           C\nATOM     66 CG   ARG A   8      45.959   7.753  14.297  0.00  0.00           C\nATOM     67 CD   ARG A   8      46.112   8.681  15.527  0.00  0.00           C\nATOM     68 NE   ARG A   8      47.474   9.235  15.686  0.00  0.00           N\nATOM     69 CZ   ARG A   8      48.157   9.911  14.739  0.00  0.00           C\nATOM     70 NH1  ARG A   8      47.674  10.152  13.525  0.00  0.00           N\nATOM     71 NH2  ARG A   8      49.384  10.348  15.035  0.00  0.00           N\nATOM     72 N    ILE A   9      44.811   8.131  10.651  0.00  0.00           N\nATOM     73 CA   ILE A   9      45.596   8.555   9.524  0.00  0.00           C\nATOM     74 C    ILE A   9      44.969   9.770   8.851  0.00  0.00           C\nATOM     75 O    ILE A   9      45.647  10.700   8.457  0.00  0.00           O\nATOM     76 CB   ILE A   9      45.769   7.426   8.495  0.00  0.00           C\nATOM     77 CG1  ILE A   9      46.849   6.457   8.921  0.00  0.00           C\nATOM     78 CG2  ILE A   9      46.155   7.969   7.105  0.00  0.00           C\nATOM     79 CD1  ILE A   9      46.552   5.045   8.403  0.00  0.00           C\nATOM     80 N    ASP A  10      43.683   9.808   8.711  0.00  0.00           N\nATOM     81 CA   ASP A  10      43.099  10.964   8.067  0.00  0.00           C\nATOM     82 C    ASP A  10      43.051  12.245   8.910  0.00  0.00           C\nATOM     83 O    ASP A  10      43.086  13.347   8.392  0.00  0.00           O\nATOM     84 CB   ASP A  10      41.680  10.604   7.626  0.00  0.00           C\nATOM     85 CG   ASP A  10      41.719   9.818   6.391  0.00  0.00           C\nATOM     86 OD1  ASP A  10      42.628   9.900   5.589  0.00  0.00           O\nATOM     87 OD2  ASP A  10      40.724   9.014   6.273  0.00  0.00           O\nATOM     88 N    GLU A  11      42.927  12.117  10.224  0.00  0.00           N\nATOM     89 CA   GLU A  11      42.763  13.267  11.074  0.00  0.00           C\nATOM     90 C    GLU A  11      44.017  13.713  11.821  0.00  0.00           C\nATOM     91 O    GLU A  11      44.090  14.848  12.255  0.00  0.00           O\nATOM     92 CB   GLU A  11      41.669  12.995  12.129  0.00  0.00           C\nATOM     93 CG   GLU A  11      40.343  12.685  11.476  0.00  0.00           C\nATOM     94 CD   GLU A  11      39.674  13.930  10.943  0.00  0.00           C\nATOM     95 OE1  GLU A  11      40.305  15.027  11.265  0.00  0.00           O\nATOM     96 OE2  GLU A  11      38.674  13.918  10.294  0.00  0.00           O\nATOM     97 N    GLY A  12      44.990  12.816  12.013  0.00  0.00           N\nATOM     98 CA   GLY A  12      46.160  13.121  12.812  0.00  0.00           C\nATOM     99 C    GLY A  12      45.801  13.144  14.307  0.00  0.00           C\nATOM    100 O    GLY A  12      44.708  12.830  14.714  0.00  0.00           O\nATOM    101 N    LEU A  13      46.748  13.506  15.150  0.00  0.00           N\nATOM    102 CA   LEU A  13      46.517  13.633  16.582  0.00  0.00           C\nATOM    103 C    LEU A  13      47.177  14.923  17.047  0.00  0.00           C\nATOM    104 O    LEU A  13      48.351  15.138  16.799  0.00  0.00           O\nATOM    105 CB   LEU A  13      47.090  12.436  17.363  0.00  0.00           C\nATOM    106 CG   LEU A  13      47.425  12.766  18.822  0.00  0.00           C\nATOM    107 CD1  LEU A  13      46.161  12.825  19.675  0.00  0.00           C\nATOM    108 CD2  LEU A  13      48.364  11.714  19.390  0.00  0.00           C\nATOM    109 N    ARG A  14      46.440  15.813  17.680  0.00  0.00           N\nATOM    110 CA   ARG A  14      46.999  17.069  18.151  0.00  0.00           C\nATOM    111 C    ARG A  14      46.550  17.274  19.536  0.00  0.00           C\nATOM    112 O    ARG A  14      45.379  17.130  19.832  0.00  0.00           O\nATOM    113 CB   ARG A  14      46.695  18.247  17.258  0.00  0.00           C\nATOM    114 CG   ARG A  14      47.547  18.072  16.002  0.00  0.00           C\nATOM    115 CD   ARG A  14      47.386  19.150  14.974  0.00  0.00           C\nATOM    116 NE   ARG A  14      48.088  20.362  15.360  0.00  0.00           N\nATOM    117 CZ   ARG A  14      47.987  21.518  14.710  0.00  0.00           C\nATOM    118 NH1  ARG A  14      47.226  21.645  13.621  0.00  0.00           N\nATOM    119 NH2  ARG A  14      48.682  22.561  15.145  0.00  0.00           N\nATOM    120 N    LEU A  15      47.514  17.523  20.390  0.00  0.00           N\nATOM    121 CA   LEU A  15      47.218  17.658  21.785  0.00  0.00           C\nATOM    122 C    LEU A  15      46.959  19.076  22.264  0.00  0.00           C\nATOM    123 O    LEU A  15      46.706  19.257  23.444  0.00  0.00           O\nATOM    124 CB   LEU A  15      48.249  16.968  22.683  0.00  0.00           C\nATOM    125 CG   LEU A  15      48.403  15.456  22.445  0.00  0.00           C\nATOM    126 CD1  LEU A  15      49.492  14.938  23.379  0.00  0.00           C\nATOM    127 CD2  LEU A  15      47.109  14.692  22.732  0.00  0.00           C\nATOM    128 N    LYS A  16      47.015  20.051  21.389  0.00  0.00           N\nATOM    129 CA   LYS A  16      46.708  21.436  21.780  0.00  0.00           C\nATOM    130 C    LYS A  16      45.647  21.964  20.836  0.00  0.00           C\nATOM    131 O    LYS A  16      45.673  21.516  19.697  0.00  0.00           O\nATOM    132 CB   LYS A  16      48.009  22.241  21.801  0.00  0.00           C\nATOM    133 CG   LYS A  16      47.832  23.733  21.621  0.00  0.00           C\nATOM    134 CD   LYS A  16      48.147  24.536  22.878  0.00  0.00           C\nATOM    135 CE   LYS A  16      46.887  25.089  23.559  0.00  0.00           C\nATOM    136 NZ   LYS A  16      47.181  26.099  24.609  0.00  0.00           N\nATOM    137 N    ILE A  17      44.685  22.822  21.285  0.00  0.00           N\nATOM    138 CA   ILE A  17      43.607  23.297  20.400  0.00  0.00           C\nATOM    139 C    ILE A  17      44.163  23.749  19.075  0.00  0.00           C\nATOM    140 O    ILE A  17      45.220  24.375  19.087  0.00  0.00           O\nATOM    141 CB   ILE A  17      42.789  24.435  21.027  0.00  0.00           C\nATOM    142 CG1  ILE A  17      42.046  23.902  22.247  0.00  0.00           C\nATOM    143 CG2  ILE A  17      41.792  25.056  20.026  0.00  0.00           C\nATOM    144 CD1  ILE A  17      41.103  24.937  22.842  0.00  0.00           C\nATOM    145 N    TYR A  18      43.535  23.422  17.955  0.00  0.00           N\nATOM    146 CA   TYR A  18      44.045  23.872  16.666  0.00  0.00           C\nATOM    147 C    TYR A  18      42.889  24.158  15.776  0.00  0.00           C\nATOM    148 O    TYR A  18      41.730  23.848  16.121  0.00  0.00           O\nATOM    149 CB   TYR A  18      45.041  22.891  15.991  0.00  0.00           C\nATOM    150 CG   TYR A  18      44.361  21.618  15.572  0.00  0.00           C\nATOM    151 CD1  TYR A  18      44.131  20.630  16.525  0.00  0.00           C\nATOM    152 CD2  TYR A  18      43.928  21.420  14.259  0.00  0.00           C\nATOM    153 CE1  TYR A  18      43.477  19.449  16.165  0.00  0.00           C\nATOM    154 CE2  TYR A  18      43.295  20.241  13.873  0.00  0.00           C\nATOM    155 CZ   TYR A  18      43.064  19.266  14.846  0.00  0.00           C\nATOM    156 OH   TYR A  18      42.481  18.075  14.502  0.00  0.00           O\nATOM    157 N    LYS A  19      43.181  24.761  14.644  0.00  0.00           N\nATOM    158 CA   LYS A  19      42.100  25.017  13.730  0.00  0.00           C\nATOM    159 C    LYS A  19      42.106  23.969  12.668  0.00  0.00           C\nATOM    160 O    LYS A  19      43.183  23.620  12.162  0.00  0.00           O\nATOM    161 CB   LYS A  19      42.189  26.386  13.078  0.00  0.00           C\nATOM    162 CG   LYS A  19      41.893  27.487  14.044  0.00  0.00           C\nATOM    163 CD   LYS A  19      41.374  28.731  13.368  0.00  0.00           C\nATOM    164 CE   LYS A  19      41.737  29.991  14.136  0.00  0.00           C\nATOM    165 NZ   LYS A  19      41.380  31.273  13.461  0.00  0.00           N\nATOM    166 N    ASP A  20      40.913  23.515  12.339  0.00  0.00           N\nATOM    167 CA   ASP A  20      40.772  22.504  11.330  0.00  0.00           C\nATOM    168 C    ASP A  20      40.852  23.066   9.911  0.00  0.00           C\nATOM    169 O    ASP A  20      41.129  24.248   9.713  0.00  0.00           O\nATOM    170 CB   ASP A  20      39.586  21.575  11.611  0.00  0.00           C\nATOM    171 CG   ASP A  20      38.238  22.054  11.192  0.00  0.00           C\nATOM    172 OD1  ASP A  20      38.244  23.261  10.763  0.00  0.00           O\nATOM    173 OD2  ASP A  20      37.238  21.365  11.231  0.00  0.00           O\nATOM    174 N    THR A  21      40.591  22.249   8.909  0.00  0.00           N\nATOM    175 CA   THR A  21      40.721  22.757   7.555  0.00  0.00           C\nATOM    176 C    THR A  21      39.731  23.806   7.224  0.00  0.00           C\nATOM    177 O    THR A  21      39.948  24.545   6.255  0.00  0.00           O\nATOM    178 CB   THR A  21      40.641  21.676   6.486  0.00  0.00           C\nATOM    179 OG1  THR A  21      39.297  21.284   6.382  0.00  0.00           O\nATOM    180 CG2  THR A  21      41.479  20.479   6.931  0.00  0.00           C\nATOM    181 N    GLU A  22      38.658  23.848   8.002  0.00  0.00           N\nATOM    182 CA   GLU A  22      37.607  24.826   7.752  0.00  0.00           C\nATOM    183 C    GLU A  22      37.802  26.042   8.608  0.00  0.00           C\nATOM    184 O    GLU A  22      37.086  27.000   8.472  0.00  0.00           O\nATOM    185 CB   GLU A  22      36.229  24.245   8.029  0.00  0.00           C\nATOM    186 CG   GLU A  22      35.803  23.119   7.062  0.00  0.00           C\nATOM    187 CD   GLU A  22      35.537  23.554   5.641  0.00  0.00           C\nATOM    188 OE1  GLU A  22      34.990  24.737   5.534  0.00  0.00           O\nATOM    189 OE2  GLU A  22      35.788  22.854   4.684  0.00  0.00           O\nATOM    190 N    GLY A  23      38.802  25.975   9.498  0.00  0.00           N\nATOM    191 CA   GLY A  23      39.125  27.029  10.418  0.00  0.00           C\nATOM    192 C    GLY A  23      38.453  26.867  11.772  0.00  0.00           C\nATOM    193 O    GLY A  23      38.416  27.826  12.506  0.00  0.00           O\nATOM    194 N    TYR A  24      37.953  25.681  12.130  0.00  0.00           N\nATOM    195 CA   TYR A  24      37.311  25.534  13.435  0.00  0.00           C\nATOM    196 C    TYR A  24      38.194  24.930  14.469  0.00  0.00           C\nATOM    197 O    TYR A  24      39.019  24.051  14.196  0.00  0.00           O\nATOM    198 CB   TYR A  24      36.048  24.689  13.435  0.00  0.00           C\nATOM    199 CG   TYR A  24      35.055  25.172  12.447  0.00  0.00           C\nATOM    200 CD1  TYR A  24      34.659  26.507  12.443  0.00  0.00           C\nATOM    201 CD2  TYR A  24      34.486  24.293  11.532  0.00  0.00           C\nATOM    202 CE1  TYR A  24      33.697  26.962  11.544  0.00  0.00           C\nATOM    203 CE2  TYR A  24      33.549  24.738  10.605  0.00  0.00           C\nATOM    204 CZ   TYR A  24      33.155  26.077  10.613  0.00  0.00           C\nATOM    205 OH   TYR A  24      32.235  26.533   9.711  0.00  0.00           O\nATOM    206 N    TYR A  25      37.986  25.431  15.671  0.00  0.00           N\nATOM    207 CA   TYR A  25      38.655  24.959  16.849  0.00  0.00           C\nATOM    208 C    TYR A  25      38.376  23.476  17.054  0.00  0.00           C\nATOM    209 O    TYR A  25      37.220  23.074  17.179  0.00  0.00           O\nATOM    210 CB   TYR A  25      38.266  25.826  18.083  0.00  0.00           C\nATOM    211 CG   TYR A  25      38.866  27.223  17.996  0.00  0.00           C\nATOM    212 CD1  TYR A  25      40.242  27.370  17.843  0.00  0.00           C\nATOM    213 CD2  TYR A  25      38.084  28.379  18.072  0.00  0.00           C\nATOM    214 CE1  TYR A  25      40.823  28.632  17.735  0.00  0.00           C\nATOM    215 CE2  TYR A  25      38.646  29.655  17.965  0.00  0.00           C\nATOM    216 CZ   TYR A  25      40.021  29.774  17.828  0.00  0.00           C\nATOM    217 OH   TYR A  25      40.604  31.010  17.739  0.00  0.00           O\nATOM    218 N    THR A  26      39.483  22.696  17.027  0.00  0.00           N\nATOM    219 CA   THR A  26      39.472  21.238  17.137  0.00  0.00           C\nATOM    220 C    THR A  26      40.582  20.830  18.109  0.00  0.00           C\nATOM    221 O    THR A  26      41.452  21.633  18.378  0.00  0.00           O\nATOM    222 CB   THR A  26      39.771  20.705  15.687  0.00  0.00           C\nATOM    223 OG1  THR A  26      38.818  21.190  14.795  0.00  0.00           O\nATOM    224 CG2  THR A  26      39.882  19.191  15.535  0.00  0.00           C\nATOM    225 N    ILE A  27      40.590  19.602  18.636  0.00  0.00           N\nATOM    226 CA   ILE A  27      41.647  19.066  19.488  0.00  0.00           C\nATOM    227 C    ILE A  27      41.678  17.543  19.260  0.00  0.00           C\nATOM    228 O    ILE A  27      40.697  16.964  18.751  0.00  0.00           O\nATOM    229 CB   ILE A  27      41.436  19.422  20.971  0.00  0.00           C\nATOM    230 CG1  ILE A  27      42.691  19.176  21.819  0.00  0.00           C\nATOM    231 CG2  ILE A  27      40.252  18.616  21.503  0.00  0.00           C\nATOM    232 CD1  ILE A  27      43.034  20.298  22.758  0.00  0.00           C\nATOM    233 N    GLY A  28      42.767  16.884  19.618  0.00  0.00           N\nATOM    234 CA   GLY A  28      42.837  15.417  19.536  0.00  0.00           C\nATOM    235 C    GLY A  28      42.808  14.845  18.133  0.00  0.00           C\nATOM    236 O    GLY A  28      43.586  15.262  17.289  0.00  0.00           O\nATOM    237 N    ILE A  29      41.957  13.840  17.922  0.00  0.00           N\nATOM    238 CA   ILE A  29      41.831  13.198  16.635  0.00  0.00           C\nATOM    239 C    ILE A  29      40.600  13.652  15.897  0.00  0.00           C\nATOM    240 O    ILE A  29      39.627  12.922  15.734  0.00  0.00           O\nATOM    241 CB   ILE A  29      41.887  11.675  16.745  0.00  0.00           C\nATOM    242 CG1  ILE A  29      43.189  11.241  17.409  0.00  0.00           C\nATOM    243 CG2  ILE A  29      41.884  11.099  15.340  0.00  0.00           C\nATOM    244 CD1  ILE A  29      43.079   9.984  18.253  0.00  0.00           C\nATOM    245 N    GLY A  30      40.643  14.898  15.455  0.00  0.00           N\nATOM    246 CA   GLY A  30      39.510  15.413  14.721  0.00  0.00           C\nATOM    247 C    GLY A  30      38.278  15.720  15.570  0.00  0.00           C\nATOM    248 O    GLY A  30      37.159  15.738  15.072  0.00  0.00           O\nATOM    249 N    HIS A  31      38.456  16.020  16.845  0.00  0.00           N\nATOM    250 CA   HIS A  31      37.278  16.327  17.647  0.00  0.00           C\nATOM    251 C    HIS A  31      36.906  17.797  17.524  0.00  0.00           C\nATOM    252 O    HIS A  31      37.581  18.662  18.150  0.00  0.00           O\nATOM    253 CB   HIS A  31      37.519  15.962  19.138  0.00  0.00           C\nATOM    254 CG   HIS A  31      36.299  16.200  19.977  0.00  0.00           C\nATOM    255 ND1  HIS A  31      35.223  15.326  19.973  0.00  0.00           N\nATOM    256 CD2  HIS A  31      35.982  17.242  20.831  0.00  0.00           C\nATOM    257 CE1  HIS A  31      34.288  15.829  20.776  0.00  0.00           C\nATOM    258 NE2  HIS A  31      34.720  16.984  21.307  0.00  0.00           N\nATOM    259 N    LEU A  32      35.868  18.122  16.745  0.00  0.00           N\nATOM    260 CA   LEU A  32      35.424  19.499  16.602  0.00  0.00           C\nATOM    261 C    LEU A  32      34.976  20.045  17.964  0.00  0.00           C\nATOM    262 O    LEU A  32      34.216  19.449  18.719  0.00  0.00           O\nATOM    263 CB   LEU A  32      34.287  19.581  15.577  0.00  0.00           C\nATOM    264 CG   LEU A  32      33.682  20.976  15.459  0.00  0.00           C\nATOM    265 CD1  LEU A  32      34.747  21.958  15.002  0.00  0.00           C\nATOM    266 CD2  LEU A  32      32.569  20.989  14.439  0.00  0.00           C\nATOM    267 N    LEU A  33      35.461  21.180  18.344  0.00  0.00           N\nATOM    268 CA   LEU A  33      35.025  21.681  19.619  0.00  0.00           C\nATOM    269 C    LEU A  33      33.848  22.660  19.482  0.00  0.00           C\nATOM    270 O    LEU A  33      32.879  22.609  20.244  0.00  0.00           O\nATOM    271 CB   LEU A  33      36.199  22.393  20.317  0.00  0.00           C\nATOM    272 CG   LEU A  33      37.242  21.463  20.913  0.00  0.00           C\nATOM    273 CD1  LEU A  33      38.384  22.324  21.390  0.00  0.00           C\nATOM    274 CD2  LEU A  33      36.667  20.723  22.113  0.00  0.00           C\nATOM    275 N    THR A  34      33.987  23.592  18.521  0.00  0.00           N\nATOM    276 CA   THR A  34      32.986  24.642  18.256  0.00  0.00           C\nATOM    277 C    THR A  34      33.221  25.336  16.932  0.00  0.00           C\nATOM    278 O    THR A  34      34.380  25.468  16.510  0.00  0.00           O\nATOM    279 CB   THR A  34      33.033  25.769  19.344  0.00  0.00           C\nATOM    280 OG1  THR A  34      32.100  26.789  19.087  0.00  0.00           O\nATOM    281 CG2  THR A  34      34.398  26.431  19.470  0.00  0.00           C\nATOM    282 N    LYS A  35      32.148  25.842  16.314  0.00  0.00           N\nATOM    283 CA   LYS A  35      32.293  26.619  15.096  0.00  0.00           C\nATOM    284 C    LYS A  35      32.444  28.121  15.358  0.00  0.00           C\nATOM    285 O    LYS A  35      32.611  28.885  14.434  0.00  0.00           O\nATOM    286 CB   LYS A  35      31.229  26.378  14.104  0.00  0.00           C\nATOM    287 CG   LYS A  35      31.191  24.899  13.772  0.00  0.00           C\nATOM    288 CD   LYS A  35      30.131  24.557  12.782  0.00  0.00           C\nATOM    289 CE   LYS A  35      30.071  23.077  12.513  0.00  0.00           C\nATOM    290 NZ   LYS A  35      29.787  22.724  11.102  0.00  0.00           N\nATOM    291 N    SER A  36      32.383  28.507  16.622  0.00  0.00           N\nATOM    292 CA   SER A  36      32.532  29.893  17.028  0.00  0.00           C\nATOM    293 C    SER A  36      33.987  30.315  16.900  0.00  0.00           C\nATOM    294 O    SER A  36      34.918  29.529  17.107  0.00  0.00           O\nATOM    295 CB   SER A  36      32.048  30.129  18.454  0.00  0.00           C\nATOM    296 OG   SER A  36      33.007  30.894  19.157  0.00  0.00           O\nATOM    297 N    PRO A  37      34.200  31.589  16.582  0.00  0.00           N\nATOM    298 CA   PRO A  37      35.528  32.147  16.378  0.00  0.00           C\nATOM    299 C    PRO A  37      36.327  32.364  17.654  0.00  0.00           C\nATOM    300 O    PRO A  37      37.517  32.682  17.626  0.00  0.00           O\nATOM    301 CB   PRO A  37      35.285  33.473  15.664  0.00  0.00           C\nATOM    302 CG   PRO A  37      33.907  33.383  15.040  0.00  0.00           C\nATOM    303 CD   PRO A  37      33.162  32.324  15.811  0.00  0.00           C\nATOM    304 N    SER A  38      35.658  32.152  18.774  0.00  0.00           N\nATOM    305 CA   SER A  38      36.266  32.383  20.065  0.00  0.00           C\nATOM    306 C    SER A  38      37.049  31.257  20.656  0.00  0.00           C\nATOM    307 O    SER A  38      36.532  30.169  20.948  0.00  0.00           O\nATOM    308 CB   SER A  38      35.236  32.920  21.057  0.00  0.00           C\nATOM    309 OG   SER A  38      35.898  33.065  22.327  0.00  0.00           O\nATOM    310 N    LEU A  39      38.306  31.581  20.913  0.00  0.00           N\nATOM    311 CA   LEU A  39      39.160  30.610  21.507  0.00  0.00           C\nATOM    312 C    LEU A  39      38.685  30.309  22.910  0.00  0.00           C\nATOM    313 O    LEU A  39      38.960  29.279  23.522  0.00  0.00           O\nATOM    314 CB   LEU A  39      40.647  30.982  21.418  0.00  0.00           C\nATOM    315 CG   LEU A  39      41.487  29.947  22.142  0.00  0.00           C\nATOM    316 CD1  LEU A  39      41.447  28.628  21.386  0.00  0.00           C\nATOM    317 CD2  LEU A  39      42.907  30.451  22.271  0.00  0.00           C\nATOM    318 N    ASN A  40      37.941  31.227  23.459  0.00  0.00           N\nATOM    319 CA   ASN A  40      37.459  30.952  24.792  0.00  0.00           C\nATOM    320 C    ASN A  40      36.267  30.047  24.772  0.00  0.00           C\nATOM    321 O    ASN A  40      36.145  29.189  25.623  0.00  0.00           O\nATOM    322 CB   ASN A  40      37.213  32.214  25.617  0.00  0.00           C\nATOM    323 CG   ASN A  40      38.424  33.116  25.635  0.00  0.00           C\nATOM    324 OD1  ASN A  40      39.371  32.893  26.415  0.00  0.00           O\nATOM    325 ND2  ASN A  40      38.397  34.140  24.783  0.00  0.00           N\nATOM    326 N    ALA A  41      35.381  30.254  23.789  0.00  0.00           N\nATOM    327 CA   ALA A  41      34.251  29.364  23.692  0.00  0.00           C\nATOM    328 C    ALA A  41      34.809  27.944  23.486  0.00  0.00           C\nATOM    329 O    ALA A  41      34.354  26.993  24.106  0.00  0.00           O\nATOM    330 CB   ALA A  41      33.267  29.799  22.625  0.00  0.00           C\nATOM    331 N    ALA A  42      35.885  27.843  22.679  0.00  0.00           N\nATOM    332 CA   ALA A  42      36.550  26.572  22.425  0.00  0.00           C\nATOM    333 C    ALA A  42      37.162  26.051  23.687  0.00  0.00           C\nATOM    334 O    ALA A  42      37.089  24.846  23.988  0.00  0.00           O\nATOM    335 CB   ALA A  42      37.676  26.701  21.398  0.00  0.00           C\nATOM    336 N    LYS A  43      37.782  26.924  24.440  0.00  0.00           N\nATOM    337 CA   LYS A  43      38.361  26.453  25.685  0.00  0.00           C\nATOM    338 C    LYS A  43      37.291  25.931  26.656  0.00  0.00           C\nATOM    339 O    LYS A  43      37.471  24.939  27.350  0.00  0.00           O\nATOM    340 CB   LYS A  43      39.283  27.458  26.348  0.00  0.00           C\nATOM    341 CG   LYS A  43      40.757  27.326  25.966  0.00  0.00           C\nATOM    342 CD   LYS A  43      41.630  28.498  26.431  0.00  0.00           C\nATOM    343 CE   LYS A  43      43.094  28.399  26.031  0.00  0.00           C\nATOM    344 NZ   LYS A  43      44.026  28.825  27.093  0.00  0.00           N\nATOM    345 N    SER A  44      36.163  26.603  26.693  0.00  0.00           N\nATOM    346 CA   SER A  44      35.063  26.203  27.552  0.00  0.00           C\nATOM    347 C    SER A  44      34.475  24.822  27.226  0.00  0.00           C\nATOM    348 O    SER A  44      34.172  24.035  28.100  0.00  0.00           O\nATOM    349 CB   SER A  44      33.998  27.276  27.444  0.00  0.00           C\nATOM    350 OG   SER A  44      33.557  27.589  28.714  0.00  0.00           O\nATOM    351 N    GLU A  45      34.278  24.584  25.943  0.00  0.00           N\nATOM    352 CA   GLU A  45      33.755  23.327  25.434  0.00  0.00           C\nATOM    353 C    GLU A  45      34.737  22.223  25.746  0.00  0.00           C\nATOM    354 O    GLU A  45      34.355  21.116  26.142  0.00  0.00           O\nATOM    355 CB   GLU A  45      33.604  23.393  23.907  0.00  0.00           C\nATOM    356 CG   GLU A  45      32.424  24.272  23.476  0.00  0.00           C\nATOM    357 CD   GLU A  45      31.092  23.657  23.840  0.00  0.00           C\nATOM    358 OE1  GLU A  45      30.867  22.464  23.729  0.00  0.00           O\nATOM    359 OE2  GLU A  45      30.224  24.520  24.274  0.00  0.00           O\nATOM    360 N    LEU A  46      36.018  22.529  25.574  0.00  0.00           N\nATOM    361 CA   LEU A  46      37.036  21.550  25.864  0.00  0.00           C\nATOM    362 C    LEU A  46      36.981  21.055  27.318  0.00  0.00           C\nATOM    363 O    LEU A  46      37.055  19.863  27.615  0.00  0.00           O\nATOM    364 CB   LEU A  46      38.451  22.068  25.538  0.00  0.00           C\nATOM    365 CG   LEU A  46      39.517  20.991  25.786  0.00  0.00           C\nATOM    366 CD1  LEU A  46      39.161  19.712  25.014  0.00  0.00           C\nATOM    367 CD2  LEU A  46      40.906  21.484  25.371  0.00  0.00           C\nATOM    368 N    ASP A  47      36.861  21.973  28.258  0.00  0.00           N\nATOM    369 CA   ASP A  47      36.819  21.608  29.667  0.00  0.00           C\nATOM    370 C    ASP A  47      35.600  20.821  30.014  0.00  0.00           C\nATOM    371 O    ASP A  47      35.657  19.924  30.858  0.00  0.00           O\nATOM    372 CB   ASP A  47      36.926  22.822  30.591  0.00  0.00           C\nATOM    373 CG   ASP A  47      38.251  23.546  30.538  0.00  0.00           C\nATOM    374 OD1  ASP A  47      39.359  23.052  30.230  0.00  0.00           O\nATOM    375 OD2  ASP A  47      38.097  24.782  30.905  0.00  0.00           O\nATOM    376 N    LYS A  48      34.517  21.222  29.376  0.00  0.00           N\nATOM    377 CA   LYS A  48      33.249  20.552  29.520  0.00  0.00           C\nATOM    378 C    LYS A  48      33.356  19.110  28.969  0.00  0.00           C\nATOM    379 O    LYS A  48      32.906  18.166  29.573  0.00  0.00           O\nATOM    380 CB   LYS A  48      32.220  21.367  28.758  0.00  0.00           C\nATOM    381 CG   LYS A  48      30.913  20.647  28.555  0.00  0.00           C\nATOM    382 CD   LYS A  48      29.749  21.599  28.365  0.00  0.00           C\nATOM    383 CE   LYS A  48      29.717  22.317  27.017  0.00  0.00           C\nATOM    384 NZ   LYS A  48      29.282  21.456  25.920  0.00  0.00           N\nATOM    385 N    ALA A  49      34.021  18.934  27.842  0.00  0.00           N\nATOM    386 CA   ALA A  49      34.185  17.611  27.280  0.00  0.00           C\nATOM    387 C    ALA A  49      35.084  16.672  28.119  0.00  0.00           C\nATOM    388 O    ALA A  49      34.792  15.495  28.269  0.00  0.00           O\nATOM    389 CB   ALA A  49      34.617  17.695  25.816  0.00  0.00           C\nATOM    390 N    ILE A  50      36.187  17.188  28.678  0.00  0.00           N\nATOM    391 CA   ILE A  50      37.166  16.428  29.480  0.00  0.00           C\nATOM    392 C    ILE A  50      36.823  16.297  30.961  0.00  0.00           C\nATOM    393 O    ILE A  50      37.251  15.383  31.677  0.00  0.00           O\nATOM    394 CB   ILE A  50      38.524  17.125  29.371  0.00  0.00           C\nATOM    395 CG1  ILE A  50      38.894  17.231  27.907  0.00  0.00           C\nATOM    396 CG2  ILE A  50      39.657  16.415  30.144  0.00  0.00           C\nATOM    397 CD1  ILE A  50      38.734  15.901  27.193  0.00  0.00           C\nATOM    398 N    GLY A  51      36.112  17.276  31.452  0.00  0.00           N\nATOM    399 CA   GLY A  51      35.726  17.183  32.843  0.00  0.00           C\nATOM    400 C    GLY A  51      36.804  17.762  33.737  0.00  0.00           C\nATOM    401 O    GLY A  51      36.950  17.412  34.897  0.00  0.00           O\nATOM    402 N    ARG A  52      37.572  18.696  33.205  0.00  0.00           N\nATOM    403 CA   ARG A  52      38.575  19.327  34.025  0.00  0.00           C\nATOM    404 C    ARG A  52      39.012  20.601  33.366  0.00  0.00           C\nATOM    405 O    ARG A  52      38.645  20.860  32.224  0.00  0.00           O\nATOM    406 CB   ARG A  52      39.757  18.413  34.330  0.00  0.00           C\nATOM    407 CG   ARG A  52      40.768  18.362  33.222  0.00  0.00           C\nATOM    408 CD   ARG A  52      41.697  17.184  33.392  0.00  0.00           C\nATOM    409 NE   ARG A  52      42.597  17.029  32.286  0.00  0.00           N\nATOM    410 CZ   ARG A  52      43.419  17.972  31.899  0.00  0.00           C\nATOM    411 NH1  ARG A  52      43.470  19.140  32.518  0.00  0.00           N\nATOM    412 NH2  ARG A  52      44.233  17.726  30.875  0.00  0.00           N\nATOM    413 N    ASN A  53      39.775  21.390  34.113  0.00  0.00           N\nATOM    414 CA   ASN A  53      40.307  22.645  33.635  0.00  0.00           C\nATOM    415 C    ASN A  53      41.545  22.324  32.816  0.00  0.00           C\nATOM    416 O    ASN A  53      42.573  21.935  33.353  0.00  0.00           O\nATOM    417 CB   ASN A  53      40.599  23.577  34.821  0.00  0.00           C\nATOM    418 CG   ASN A  53      39.794  24.842  34.684  0.00  0.00           C\nATOM    419 OD1  ASN A  53      38.635  24.910  35.129  0.00  0.00           O\nATOM    420 ND2  ASN A  53      40.385  25.824  33.982  0.00  0.00           N\nATOM    421 N    THR A  54      41.458  22.410  31.496  0.00  0.00           N\nATOM    422 CA   THR A  54      42.603  21.947  30.723  0.00  0.00           C\nATOM    423 C    THR A  54      43.513  23.006  30.188  0.00  0.00           C\nATOM    424 O    THR A  54      44.547  22.670  29.631  0.00  0.00           O\nATOM    425 CB   THR A  54      42.138  21.173  29.497  0.00  0.00           C\nATOM    426 OG1  THR A  54      41.480  22.098  28.677  0.00  0.00           O\nATOM    427 CG2  THR A  54      41.219  20.020  29.908  0.00  0.00           C\nATOM    428 N    ASN A  55      43.121  24.268  30.259  0.00  0.00           N\nATOM    429 CA   ASN A  55      43.967  25.280  29.665  0.00  0.00           C\nATOM    430 C    ASN A  55      44.281  25.044  28.171  0.00  0.00           C\nATOM    431 O    ASN A  55      45.285  25.528  27.671  0.00  0.00           O\nATOM    432 CB   ASN A  55      45.231  25.605  30.501  0.00  0.00           C\nATOM    433 CG   ASN A  55      45.745  27.027  30.277  0.00  0.00           C\nATOM    434 OD1  ASN A  55      44.994  27.949  29.910  0.00  0.00           O\nATOM    435 ND2  ASN A  55      47.051  27.208  30.471  0.00  0.00           N\nATOM    436 N    GLY A  56      43.422  24.320  27.445  0.00  0.00           N\nATOM    437 CA   GLY A  56      43.640  24.118  26.006  0.00  0.00           C\nATOM    438 C    GLY A  56      44.567  22.973  25.623  0.00  0.00           C\nATOM    439 O    GLY A  56      44.943  22.790  24.462  0.00  0.00           O\nATOM    440 N    VAL A  57      44.913  22.179  26.604  0.00  0.00           N\nATOM    441 CA   VAL A  57      45.782  21.053  26.337  0.00  0.00           C\nATOM    442 C    VAL A  57      45.317  19.754  27.016  0.00  0.00           C\nATOM    443 O    VAL A  57      44.950  19.795  28.179  0.00  0.00           O\nATOM    444 CB   VAL A  57      47.107  21.435  26.889  0.00  0.00           C\nATOM    445 CG1  VAL A  57      48.133  20.335  26.617  0.00  0.00           C\nATOM    446 CG2  VAL A  57      47.516  22.756  26.247  0.00  0.00           C\nATOM    447 N    ILE A  58      45.378  18.623  26.314  0.00  0.00           N\nATOM    448 CA   ILE A  58      44.929  17.345  26.879  0.00  0.00           C\nATOM    449 C    ILE A  58      46.022  16.310  26.697  0.00  0.00           C\nATOM    450 O    ILE A  58      47.003  16.531  25.975  0.00  0.00           O\nATOM    451 CB   ILE A  58      43.665  16.858  26.159  0.00  0.00           C\nATOM    452 CG1  ILE A  58      43.971  16.657  24.676  0.00  0.00           C\nATOM    453 CG2  ILE A  58      42.521  17.874  26.309  0.00  0.00           C\nATOM    454 CD1  ILE A  58      42.859  15.900  23.936  0.00  0.00           C\nATOM    455 N    THR A  59      45.879  15.176  27.340  0.00  0.00           N\nATOM    456 CA   THR A  59      46.854  14.133  27.174  0.00  0.00           C\nATOM    457 C    THR A  59      46.371  13.210  26.062  0.00  0.00           C\nATOM    458 O    THR A  59      45.215  13.244  25.690  0.00  0.00           O\nATOM    459 CB   THR A  59      46.889  13.283  28.452  0.00  0.00           C\nATOM    460 OG1  THR A  59      45.657  12.617  28.518  0.00  0.00           O\nATOM    461 CG2  THR A  59      47.054  14.138  29.685  0.00  0.00           C\nATOM    462 N    LYS A  60      47.268  12.336  25.616  0.00  0.00           N\nATOM    463 CA   LYS A  60      46.997  11.329  24.613  0.00  0.00           C\nATOM    464 C    LYS A  60      45.808  10.442  24.982  0.00  0.00           C\nATOM    465 O    LYS A  60      44.963  10.148  24.146  0.00  0.00           O\nATOM    466 CB   LYS A  60      48.250  10.465  24.416  0.00  0.00           C\nATOM    467 CG   LYS A  60      48.158   9.440  23.270  0.00  0.00           C\nATOM    468 CD   LYS A  60      49.323   9.516  22.301  0.00  0.00           C\nATOM    469 CE   LYS A  60      49.466   8.302  21.372  0.00  0.00           C\nATOM    470 NZ   LYS A  60      50.318   8.537  20.191  0.00  0.00           N\nATOM    471 N    ASP A  61      45.757   9.997  26.252  0.00  0.00           N\nATOM    472 CA   ASP A  61      44.645   9.157  26.706  0.00  0.00           C\nATOM    473 C    ASP A  61      43.295   9.857  26.540  0.00  0.00           C\nATOM    474 O    ASP A  61      42.304   9.250  26.128  0.00  0.00           O\nATOM    475 CB   ASP A  61      44.812   8.758  28.186  0.00  0.00           C\nATOM    476 CG   ASP A  61      45.950   7.832  28.509  0.00  0.00           C\nATOM    477 OD1  ASP A  61      46.514   7.293  27.457  0.00  0.00           O\nATOM    478 OD2  ASP A  61      46.322   7.621  29.650  0.00  0.00           O\nATOM    479 N    GLU A  62      43.290  11.151  26.933  0.00  0.00           N\nATOM    480 CA   GLU A  62      42.108  12.003  26.835  0.00  0.00           C\nATOM    481 C    GLU A  62      41.696  12.122  25.392  0.00  0.00           C\nATOM    482 O    GLU A  62      40.546  12.045  25.046  0.00  0.00           O\nATOM    483 CB   GLU A  62      42.424  13.367  27.387  0.00  0.00           C\nATOM    484 CG   GLU A  62      42.394  13.311  28.914  0.00  0.00           C\nATOM    485 CD   GLU A  62      42.842  14.606  29.568  0.00  0.00           C\nATOM    486 OE1  GLU A  62      43.549  15.434  29.026  0.00  0.00           O\nATOM    487 OE2  GLU A  62      42.429  14.715  30.798  0.00  0.00           O\nATOM    488 N    ALA A  63      42.722  12.253  24.535  0.00  0.00           N\nATOM    489 CA   ALA A  63      42.472  12.330  23.116  0.00  0.00           C\nATOM    490 C    ALA A  63      41.800  11.058  22.596  0.00  0.00           C\nATOM    491 O    ALA A  63      40.819  11.101  21.825  0.00  0.00           O\nATOM    492 CB   ALA A  63      43.777  12.593  22.398  0.00  0.00           C\nATOM    493 N    GLU A  64      42.357   9.916  23.032  0.00  0.00           N\nATOM    494 CA   GLU A  64      41.816   8.649  22.623  0.00  0.00           C\nATOM    495 C    GLU A  64      40.449   8.412  23.123  0.00  0.00           C\nATOM    496 O    GLU A  64      39.634   7.772  22.449  0.00  0.00           O\nATOM    497 CB   GLU A  64      42.756   7.515  22.965  0.00  0.00           C\nATOM    498 CG   GLU A  64      43.843   7.541  21.887  0.00  0.00           C\nATOM    499 CD   GLU A  64      45.125   6.857  22.263  0.00  0.00           C\nATOM    500 OE1  GLU A  64      45.287   6.316  23.332  0.00  0.00           O\nATOM    501 OE2  GLU A  64      46.009   6.905  21.307  0.00  0.00           O\nATOM    502 N    LYS A  65      40.230   8.925  24.310  0.00  0.00           N\nATOM    503 CA   LYS A  65      38.906   8.767  24.863  0.00  0.00           C\nATOM    504 C    LYS A  65      37.874   9.503  24.035  0.00  0.00           C\nATOM    505 O    LYS A  65      36.835   8.941  23.666  0.00  0.00           O\nATOM    506 CB   LYS A  65      38.840   9.153  26.296  0.00  0.00           C\nATOM    507 CG   LYS A  65      37.478   8.774  26.841  0.00  0.00           C\nATOM    508 CD   LYS A  65      37.386   8.862  28.327  0.00  0.00           C\nATOM    509 CE   LYS A  65      35.950   8.577  28.767  0.00  0.00           C\nATOM    510 NZ   LYS A  65      35.883   8.324  30.208  0.00  0.00           N\nATOM    511 N    LEU A  66      38.183  10.776  23.687  0.00  0.00           N\nATOM    512 CA   LEU A  66      37.285  11.549  22.842  0.00  0.00           C\nATOM    513 C    LEU A  66      37.046  10.806  21.525  0.00  0.00           C\nATOM    514 O    LEU A  66      35.921  10.670  21.057  0.00  0.00           O\nATOM    515 CB   LEU A  66      37.779  12.999  22.499  0.00  0.00           C\nATOM    516 CG   LEU A  66      37.863  13.950  23.689  0.00  0.00           C\nATOM    517 CD1  LEU A  66      38.517  15.274  23.269  0.00  0.00           C\nATOM    518 CD2  LEU A  66      36.479  14.213  24.266  0.00  0.00           C\nATOM    519 N    PHE A  67      38.148  10.304  20.974  0.00  0.00           N\nATOM    520 CA   PHE A  67      38.106   9.567  19.732  0.00  0.00           C\nATOM    521 C    PHE A  67      37.169   8.373  19.809  0.00  0.00           C\nATOM    522 O    PHE A  67      36.345   8.205  18.924  0.00  0.00           O\nATOM    523 CB   PHE A  67      39.516   9.144  19.348  0.00  0.00           C\nATOM    524 CG   PHE A  67      39.687   8.521  17.982  0.00  0.00           C\nATOM    525 CD1  PHE A  67      38.952   8.989  16.899  0.00  0.00           C\nATOM    526 CD2  PHE A  67      40.637   7.512  17.788  0.00  0.00           C\nATOM    527 CE1  PHE A  67      39.120   8.467  15.620  0.00  0.00           C\nATOM    528 CE2  PHE A  67      40.846   6.999  16.512  0.00  0.00           C\nATOM    529 CZ   PHE A  67      40.066   7.462  15.444  0.00  0.00           C\nATOM    530 N    ASN A  68      37.296   7.555  20.876  0.00  0.00           N\nATOM    531 CA   ASN A  68      36.410   6.396  21.037  0.00  0.00           C\nATOM    532 C    ASN A  68      34.940   6.809  21.075  0.00  0.00           C\nATOM    533 O    ASN A  68      34.054   6.196  20.495  0.00  0.00           O\nATOM    534 CB   ASN A  68      36.756   5.640  22.329  0.00  0.00           C\nATOM    535 CG   ASN A  68      37.952   4.726  22.174  0.00  0.00           C\nATOM    536 OD1  ASN A  68      38.097   4.038  21.176  0.00  0.00           O\nATOM    537 ND2  ASN A  68      38.848   4.727  23.160  0.00  0.00           N\nATOM    538 N    GLN A  69      34.691   7.876  21.798  0.00  0.00           N\nATOM    539 CA   GLN A  69      33.329   8.359  21.869  0.00  0.00           C\nATOM    540 C    GLN A  69      32.817   8.820  20.517  0.00  0.00           C\nATOM    541 O    GLN A  69      31.678   8.576  20.163  0.00  0.00           O\nATOM    542 CB   GLN A  69      33.245   9.544  22.832  0.00  0.00           C\nATOM    543 CG   GLN A  69      33.502   9.100  24.269  0.00  0.00           C\nATOM    544 CD   GLN A  69      33.592  10.287  25.226  0.00  0.00           C\nATOM    545 OE1  GLN A  69      33.800  10.099  26.422  0.00  0.00           O\nATOM    546 NE2  GLN A  69      33.476  11.520  24.721  0.00  0.00           N\nATOM    547 N    ASP A  70      33.657   9.538  19.764  0.00  0.00           N\nATOM    548 CA   ASP A  70      33.229  10.056  18.473  0.00  0.00           C\nATOM    549 C    ASP A  70      32.962   9.001  17.424  0.00  0.00           C\nATOM    550 O    ASP A  70      32.086   9.172  16.590  0.00  0.00           O\nATOM    551 CB   ASP A  70      34.173  11.126  17.918  0.00  0.00           C\nATOM    552 CG   ASP A  70      34.193  12.370  18.775  0.00  0.00           C\nATOM    553 OD1  ASP A  70      33.326  12.709  19.561  0.00  0.00           O\nATOM    554 OD2  ASP A  70      35.280  13.049  18.595  0.00  0.00           O\nATOM    555 N    VAL A  71      33.736   7.915  17.452  0.00  0.00           N\nATOM    556 CA   VAL A  71      33.519   6.851  16.474  0.00  0.00           C\nATOM    557 C    VAL A  71      32.201   6.191  16.787  0.00  0.00           C\nATOM    558 O    VAL A  71      31.346   6.023  15.931  0.00  0.00           O\nATOM    559 CB   VAL A  71      34.656   5.835  16.407  0.00  0.00           C\nATOM    560 CG1  VAL A  71      34.233   4.621  15.555  0.00  0.00           C\nATOM    561 CG2  VAL A  71      35.915   6.446  15.808  0.00  0.00           C\nATOM    562 N    ASP A  72      32.023   5.893  18.066  0.00  0.00           N\nATOM    563 CA   ASP A  72      30.773   5.310  18.553  0.00  0.00           C\nATOM    564 C    ASP A  72      29.529   6.126  18.147  0.00  0.00           C\nATOM    565 O    ASP A  72      28.552   5.653  17.567  0.00  0.00           O\nATOM    566 CB   ASP A  72      30.887   5.194  20.076  0.00  0.00           C\nATOM    567 CG   ASP A  72      29.903   4.193  20.586  0.00  0.00           C\nATOM    568 OD1  ASP A  72      29.802   3.163  19.802  0.00  0.00           O\nATOM    569 OD2  ASP A  72      29.271   4.333  21.579  0.00  0.00           O\nATOM    570 N    ALA A  73      29.595   7.405  18.438  0.00  0.00           N\nATOM    571 CA   ALA A  73      28.513   8.306  18.102  0.00  0.00           C\nATOM    572 C    ALA A  73      28.276   8.293  16.615  0.00  0.00           C\nATOM    573 O    ALA A  73      27.140   8.356  16.147  0.00  0.00           O\nATOM    574 CB   ALA A  73      28.856   9.722  18.535  0.00  0.00           C\nATOM    575 N    ALA A  74      29.350   8.251  15.844  0.00  0.00           N\nATOM    576 CA   ALA A  74      29.180   8.225  14.389  0.00  0.00           C\nATOM    577 C    ALA A  74      28.394   7.004  13.916  0.00  0.00           C\nATOM    578 O    ALA A  74      27.474   7.094  13.132  0.00  0.00           O\nATOM    579 CB   ALA A  74      30.509   8.324  13.658  0.00  0.00           C\nATOM    580 N    VAL A  75      28.790   5.855  14.401  0.00  0.00           N\nATOM    581 CA   VAL A  75      28.100   4.652  14.015  0.00  0.00           C\nATOM    582 C    VAL A  75      26.611   4.734  14.383  0.00  0.00           C\nATOM    583 O    VAL A  75      25.715   4.486  13.565  0.00  0.00           O\nATOM    584 CB   VAL A  75      28.790   3.443  14.638  0.00  0.00           C\nATOM    585 CG1  VAL A  75      27.998   2.160  14.260  0.00  0.00           C\nATOM    586 CG2  VAL A  75      30.207   3.361  14.098  0.00  0.00           C\nATOM    587 N    ARG A  76      26.372   5.115  15.626  0.00  0.00           N\nATOM    588 CA   ARG A  76      25.018   5.225  16.120  0.00  0.00           C\nATOM    589 C    ARG A  76      24.201   6.235  15.310  0.00  0.00           C\nATOM    590 O    ARG A  76      23.037   6.031  14.956  0.00  0.00           O\nATOM    591 CB   ARG A  76      25.004   5.366  17.653  0.00  0.00           C\nATOM    592 CG   ARG A  76      25.300   4.049  18.373  0.00  0.00           C\nATOM    593 CD   ARG A  76      25.378   4.121  19.911  0.00  0.00           C\nATOM    594 NE   ARG A  76      26.567   4.844  20.334  0.00  0.00           N\nATOM    595 CZ   ARG A  76      26.544   6.092  20.811  0.00  0.00           C\nATOM    596 NH1  ARG A  76      25.407   6.768  20.917  0.00  0.00           N\nATOM    597 NH2  ARG A  76      27.699   6.674  21.144  0.00  0.00           N\nATOM    598 N    GLY A  77      24.834   7.332  14.912  0.00  0.00           N\nATOM    599 CA   GLY A  77      24.148   8.292  14.079  0.00  0.00           C\nATOM    600 C    GLY A  77      23.733   7.639  12.756  0.00  0.00           C\nATOM    601 O    GLY A  77      22.661   7.830  12.260  0.00  0.00           O\nATOM    602 N    ILE A  78      24.619   6.871  12.173  0.00  0.00           N\nATOM    603 CA   ILE A  78      24.243   6.205  10.963  0.00  0.00           C\nATOM    604 C    ILE A  78      23.086   5.251  11.260  0.00  0.00           C\nATOM    605 O    ILE A  78      22.086   5.170  10.559  0.00  0.00           O\nATOM    606 CB   ILE A  78      25.422   5.396  10.409  0.00  0.00           C\nATOM    607 CG1  ILE A  78      26.403   6.295   9.670  0.00  0.00           C\nATOM    608 CG2  ILE A  78      24.911   4.330   9.448  0.00  0.00           C\nATOM    609 CD1  ILE A  78      27.766   5.597   9.537  0.00  0.00           C\nATOM    610 N    LEU A  79      23.222   4.474  12.316  0.00  0.00           N\nATOM    611 CA   LEU A  79      22.158   3.516  12.548  0.00  0.00           C\nATOM    612 C    LEU A  79      20.793   4.077  12.862  0.00  0.00           C\nATOM    613 O    LEU A  79      19.804   3.384  12.701  0.00  0.00           O\nATOM    614 CB   LEU A  79      22.526   2.412  13.523  0.00  0.00           C\nATOM    615 CG   LEU A  79      23.747   1.648  13.072  0.00  0.00           C\nATOM    616 CD1  LEU A  79      24.160   0.762  14.221  0.00  0.00           C\nATOM    617 CD2  LEU A  79      23.459   0.816  11.844  0.00  0.00           C\nATOM    618 N    ARG A  80      20.745   5.317  13.330  0.00  0.00           N\nATOM    619 CA   ARG A  80      19.497   5.981  13.675  0.00  0.00           C\nATOM    620 C    ARG A  80      18.899   6.743  12.524  0.00  0.00           C\nATOM    621 O    ARG A  80      17.784   7.251  12.628  0.00  0.00           O\nATOM    622 CB   ARG A  80      19.766   7.079  14.676  0.00  0.00           C\nATOM    623 CG   ARG A  80      20.030   6.596  16.069  0.00  0.00           C\nATOM    624 CD   ARG A  80      19.764   7.710  17.071  0.00  0.00           C\nATOM    625 NE   ARG A  80      20.990   8.148  17.721  0.00  0.00           N\nATOM    626 CZ   ARG A  80      21.697   9.227  17.382  0.00  0.00           C\nATOM    627 NH1  ARG A  80      21.356  10.062  16.387  0.00  0.00           N\nATOM    628 NH2  ARG A  80      22.803   9.467  18.073  0.00  0.00           N\nATOM    629 N    ASN A  81      19.698   6.931  11.476  0.00  0.00           N\nATOM    630 CA   ASN A  81      19.260   7.702  10.333  0.00  0.00           C\nATOM    631 C    ASN A  81      18.530   6.886   9.268  0.00  0.00           C\nATOM    632 O    ASN A  81      19.080   5.955   8.676  0.00  0.00           O\nATOM    633 CB   ASN A  81      20.422   8.512   9.781  0.00  0.00           C\nATOM    634 CG   ASN A  81      19.957   9.514   8.759  0.00  0.00           C\nATOM    635 OD1  ASN A  81      19.309   9.151   7.780  0.00  0.00           O\nATOM    636 ND2  ASN A  81      20.267  10.784   8.999  0.00  0.00           N\nATOM    637 N    ALA A  82      17.274   7.233   9.025  0.00  0.00           N\nATOM    638 CA   ALA A  82      16.458   6.498   8.070  0.00  0.00           C\nATOM    639 C    ALA A  82      17.021   6.456   6.670  0.00  0.00           C\nATOM    640 O    ALA A  82      16.827   5.518   5.938  0.00  0.00           O\nATOM    641 CB   ALA A  82      15.011   6.921   8.079  0.00  0.00           C\nATOM    642 N    LYS A  83      17.738   7.489   6.290  0.00  0.00           N\nATOM    643 CA   LYS A  83      18.320   7.493   4.965  0.00  0.00           C\nATOM    644 C    LYS A  83      19.654   6.777   4.919  0.00  0.00           C\nATOM    645 O    LYS A  83      20.050   6.300   3.871  0.00  0.00           O\nATOM    646 CB   LYS A  83      18.564   8.897   4.458  0.00  0.00           C\nATOM    647 CG   LYS A  83      17.391   9.470   3.729  0.00  0.00           C\nATOM    648 CD   LYS A  83      16.458  10.210   4.666  0.00  0.00           C\nATOM    649 CE   LYS A  83      15.426  11.045   3.916  0.00  0.00           C\nATOM    650 NZ   LYS A  83      15.470  10.816   2.459  0.00  0.00           N\nATOM    651 N    LEU A  84      20.374   6.760   6.031  0.00  0.00           N\nATOM    652 CA   LEU A  84      21.698   6.156   6.019  0.00  0.00           C\nATOM    653 C    LEU A  84      21.747   4.662   6.317  0.00  0.00           C\nATOM    654 O    LEU A  84      22.497   3.905   5.714  0.00  0.00           O\nATOM    655 CB   LEU A  84      22.683   6.918   6.954  0.00  0.00           C\nATOM    656 CG   LEU A  84      22.894   8.379   6.605  0.00  0.00           C\nATOM    657 CD1  LEU A  84      23.843   8.996   7.637  0.00  0.00           C\nATOM    658 CD2  LEU A  84      23.525   8.524   5.219  0.00  0.00           C\nATOM    659 N    LYS A  85      20.976   4.264   7.293  0.00  0.00           N\nATOM    660 CA   LYS A  85      20.954   2.909   7.729  0.00  0.00           C\nATOM    661 C    LYS A  85      20.865   1.834   6.661  0.00  0.00           C\nATOM    662 O    LYS A  85      21.599   0.838   6.663  0.00  0.00           O\nATOM    663 CB   LYS A  85      19.905   2.733   8.781  0.00  0.00           C\nATOM    664 CG   LYS A  85      19.974   1.318   9.304  0.00  0.00           C\nATOM    665 CD   LYS A  85      19.238   1.131  10.595  0.00  0.00           C\nATOM    666 CE   LYS A  85      19.144  -0.344  10.958  0.00  0.00           C\nATOM    667 NZ   LYS A  85      18.287  -1.083  10.047  0.00  0.00           N\nATOM    668 N    PRO A  86      19.923   1.989   5.784  0.00  0.00           N\nATOM    669 CA   PRO A  86      19.718   1.012   4.751  0.00  0.00           C\nATOM    670 C    PRO A  86      20.931   0.894   3.863  0.00  0.00           C\nATOM    671 O    PRO A  86      21.327  -0.193   3.490  0.00  0.00           O\nATOM    672 CB   PRO A  86      18.506   1.471   3.952  0.00  0.00           C\nATOM    673 CG   PRO A  86      17.901   2.641   4.721  0.00  0.00           C\nATOM    674 CD   PRO A  86      18.921   3.062   5.769  0.00  0.00           C\nATOM    675 N    VAL A  87      21.556   2.019   3.540  0.00  0.00           N\nATOM    676 CA   VAL A  87      22.743   1.963   2.703  0.00  0.00           C\nATOM    677 C    VAL A  87      23.885   1.251   3.432  0.00  0.00           C\nATOM    678 O    VAL A  87      24.555   0.336   2.950  0.00  0.00           O\nATOM    679 CB   VAL A  87      23.208   3.358   2.277  0.00  0.00           C\nATOM    680 CG1  VAL A  87      24.315   3.235   1.225  0.00  0.00           C\nATOM    681 CG2  VAL A  87      22.026   4.173   1.750  0.00  0.00           C\nATOM    682 N    TYR A  88      24.101   1.688   4.642  0.00  0.00           N\nATOM    683 CA   TYR A  88      25.107   1.129   5.505  0.00  0.00           C\nATOM    684 C    TYR A  88      24.960  -0.392   5.686  0.00  0.00           C\nATOM    685 O    TYR A  88      25.964  -1.131   5.691  0.00  0.00           O\nATOM    686 CB   TYR A  88      25.006   1.855   6.871  0.00  0.00           C\nATOM    687 CG   TYR A  88      26.080   1.445   7.826  0.00  0.00           C\nATOM    688 CD1  TYR A  88      27.346   2.030   7.761  0.00  0.00           C\nATOM    689 CD2  TYR A  88      25.851   0.462   8.788  0.00  0.00           C\nATOM    690 CE1  TYR A  88      28.359   1.661   8.638  0.00  0.00           C\nATOM    691 CE2  TYR A  88      26.851   0.090   9.683  0.00  0.00           C\nATOM    692 CZ   TYR A  88      28.101   0.707   9.623  0.00  0.00           C\nATOM    693 OH   TYR A  88      29.091   0.303  10.491  0.00  0.00           O\nATOM    694 N    ASP A  89      23.709  -0.854   5.846  0.00  0.00           N\nATOM    695 CA   ASP A  89      23.437  -2.279   6.057  0.00  0.00           C\nATOM    696 C    ASP A  89      23.760  -3.036   4.832  0.00  0.00           C\nATOM    697 O    ASP A  89      24.152  -4.193   4.899  0.00  0.00           O\nATOM    698 CB   ASP A  89      21.977  -2.531   6.393  0.00  0.00           C\nATOM    699 CG   ASP A  89      21.731  -2.288   7.841  0.00  0.00           C\nATOM    700 OD1  ASP A  89      22.848  -2.091   8.515  0.00  0.00           O\nATOM    701 OD2  ASP A  89      20.642  -2.285   8.325  0.00  0.00           O\nATOM    702 N    SER A  90      23.593  -2.401   3.704  0.00  0.00           N\nATOM    703 CA   SER A  90      23.868  -3.125   2.490  0.00  0.00           C\nATOM    704 C    SER A  90      25.341  -3.313   2.229  0.00  0.00           C\nATOM    705 O    SER A  90      25.735  -4.064   1.316  0.00  0.00           O\nATOM    706 CB   SER A  90      23.269  -2.434   1.271  0.00  0.00           C\nATOM    707 OG   SER A  90      24.054  -1.304   0.884  0.00  0.00           O\nATOM    708 N    LEU A  91      26.200  -2.568   2.905  0.00  0.00           N\nATOM    709 CA   LEU A  91      27.633  -2.616   2.575  0.00  0.00           C\nATOM    710 C    LEU A  91      28.443  -3.694   3.251  0.00  0.00           C\nATOM    711 O    LEU A  91      28.092  -4.179   4.339  0.00  0.00           O\nATOM    712 CB   LEU A  91      28.328  -1.299   2.979  0.00  0.00           C\nATOM    713 CG   LEU A  91      27.746  -0.042   2.334  0.00  0.00           C\nATOM    714 CD1  LEU A  91      28.312   1.192   3.010  0.00  0.00           C\nATOM    715 CD2  LEU A  91      28.207  -0.025   0.874  0.00  0.00           C\nATOM    716 N    ASP A  92      29.609  -3.991   2.651  0.00  0.00           N\nATOM    717 CA   ASP A  92      30.556  -4.919   3.274  0.00  0.00           C\nATOM    718 C    ASP A  92      31.351  -4.198   4.373  0.00  0.00           C\nATOM    719 O    ASP A  92      31.275  -2.970   4.520  0.00  0.00           O\nATOM    720 CB   ASP A  92      31.557  -5.480   2.295  0.00  0.00           C\nATOM    721 CG   ASP A  92      32.327  -4.396   1.620  0.00  0.00           C\nATOM    722 OD1  ASP A  92      31.679  -3.885   0.599  0.00  0.00           O\nATOM    723 OD2  ASP A  92      33.439  -4.033   1.978  0.00  0.00           O\nATOM    724 N    ALA A  93      32.146  -4.938   5.143  0.00  0.00           N\nATOM    725 CA   ALA A  93      32.892  -4.363   6.239  0.00  0.00           C\nATOM    726 C    ALA A  93      33.897  -3.256   5.913  0.00  0.00           C\nATOM    727 O    ALA A  93      34.018  -2.306   6.663  0.00  0.00           O\nATOM    728 CB   ALA A  93      33.335  -5.369   7.301  0.00  0.00           C\nATOM    729 N    VAL A  94      34.634  -3.342   4.810  0.00  0.00           N\nATOM    730 CA   VAL A  94      35.558  -2.281   4.462  0.00  0.00           C\nATOM    731 C    VAL A  94      34.796  -1.000   4.093  0.00  0.00           C\nATOM    732 O    VAL A  94      35.042   0.080   4.646  0.00  0.00           O\nATOM    733 CB   VAL A  94      36.480  -2.760   3.345  0.00  0.00           C\nATOM    734 CG1  VAL A  94      37.476  -1.685   2.896  0.00  0.00           C\nATOM    735 CG2  VAL A  94      37.314  -3.892   3.922  0.00  0.00           C\nATOM    736 N    ARG A  95      33.870  -1.134   3.167  0.00  0.00           N\nATOM    737 CA   ARG A  95      33.057  -0.019   2.743  0.00  0.00           C\nATOM    738 C    ARG A  95      32.334   0.614   3.908  0.00  0.00           C\nATOM    739 O    ARG A  95      32.121   1.828   3.947  0.00  0.00           O\nATOM    740 CB   ARG A  95      32.101  -0.382   1.624  0.00  0.00           C\nATOM    741 CG   ARG A  95      32.874  -0.733   0.361  0.00  0.00           C\nATOM    742 CD   ARG A  95      31.890  -1.043  -0.753  0.00  0.00           C\nATOM    743 NE   ARG A  95      32.574  -1.154  -2.019  0.00  0.00           N\nATOM    744 CZ   ARG A  95      33.052  -2.302  -2.503  0.00  0.00           C\nATOM    745 NH1  ARG A  95      32.971  -3.466  -1.840  0.00  0.00           N\nATOM    746 NH2  ARG A  95      33.661  -2.292  -3.685  0.00  0.00           N\nATOM    747 N    ARG A  96      31.944  -0.189   4.883  0.00  0.00           N\nATOM    748 CA   ARG A  96      31.280   0.424   6.031  0.00  0.00           C\nATOM    749 C    ARG A  96      32.229   1.411   6.754  0.00  0.00           C\nATOM    750 O    ARG A  96      31.819   2.429   7.300  0.00  0.00           O\nATOM    751 CB   ARG A  96      30.768  -0.580   7.054  0.00  0.00           C\nATOM    752 CG   ARG A  96      29.588  -1.374   6.556  0.00  0.00           C\nATOM    753 CD   ARG A  96      29.031  -2.355   7.625  0.00  0.00           C\nATOM    754 NE   ARG A  96      27.903  -3.105   7.057  0.00  0.00           N\nATOM    755 CZ   ARG A  96      27.227  -4.079   7.656  0.00  0.00           C\nATOM    756 NH1  ARG A  96      27.505  -4.424   8.876  0.00  0.00           N\nATOM    757 NH2  ARG A  96      26.228  -4.672   6.973  0.00  0.00           N\nATOM    758 N    ALA A  97      33.511   1.070   6.773  0.00  0.00           N\nATOM    759 CA   ALA A  97      34.462   1.942   7.411  0.00  0.00           C\nATOM    760 C    ALA A  97      34.522   3.252   6.622  0.00  0.00           C\nATOM    761 O    ALA A  97      34.629   4.324   7.202  0.00  0.00           O\nATOM    762 CB   ALA A  97      35.849   1.293   7.483  0.00  0.00           C\nATOM    763 N    ALA A  98      34.439   3.173   5.283  0.00  0.00           N\nATOM    764 CA   ALA A  98      34.443   4.405   4.506  0.00  0.00           C\nATOM    765 C    ALA A  98      33.222   5.261   4.844  0.00  0.00           C\nATOM    766 O    ALA A  98      33.282   6.486   4.843  0.00  0.00           O\nATOM    767 CB   ALA A  98      34.534   4.178   2.999  0.00  0.00           C\nATOM    768 N    ALA A  99      32.101   4.608   5.100  0.00  0.00           N\nATOM    769 CA   ALA A  99      30.898   5.353   5.415  0.00  0.00           C\nATOM    770 C    ALA A  99      31.052   6.053   6.740  0.00  0.00           C\nATOM    771 O    ALA A  99      30.592   7.176   6.901  0.00  0.00           O\nATOM    772 CB   ALA A  99      29.640   4.458   5.457  0.00  0.00           C\nATOM    773 N    ILE A 100      31.672   5.376   7.707  0.00  0.00           N\nATOM    774 CA   ILE A 100      31.840   5.934   9.034  0.00  0.00           C\nATOM    775 C    ILE A 100      32.738   7.167   8.951  0.00  0.00           C\nATOM    776 O    ILE A 100      32.552   8.234   9.585  0.00  0.00           O\nATOM    777 CB   ILE A 100      32.367   4.895  10.034  0.00  0.00           C\nATOM    778 CG1  ILE A 100      31.313   3.805  10.296  0.00  0.00           C\nATOM    779 CG2  ILE A 100      32.741   5.583  11.328  0.00  0.00           C\nATOM    780 CD1  ILE A 100      31.874   2.553  11.013  0.00  0.00           C\nATOM    781 N    ASN A 101      33.743   7.045   8.112  0.00  0.00           N\nATOM    782 CA   ASN A 101      34.706   8.119   7.921  0.00  0.00           C\nATOM    783 C    ASN A 101      34.010   9.384   7.430  0.00  0.00           C\nATOM    784 O    ASN A 101      34.209  10.460   7.965  0.00  0.00           O\nATOM    785 CB   ASN A 101      35.764   7.638   6.932  0.00  0.00           C\nATOM    786 CG   ASN A 101      36.971   8.530   6.884  0.00  0.00           C\nATOM    787 OD1  ASN A 101      36.847   9.751   6.798  0.00  0.00           O\nATOM    788 ND2  ASN A 101      38.165   7.941   6.872  0.00  0.00           N\nATOM    789 N    MET A 102      33.190   9.257   6.420  0.00  0.00           N\nATOM    790 CA   MET A 102      32.474  10.415   5.916  0.00  0.00           C\nATOM    791 C    MET A 102      31.633  11.070   7.011  0.00  0.00           C\nATOM    792 O    MET A 102      31.610  12.293   7.155  0.00  0.00           O\nATOM    793 CB   MET A 102      31.501  10.039   4.768  0.00  0.00           C\nATOM    794 CG   MET A 102      32.183   9.785   3.444  0.00  0.00           C\nATOM    795 SD   MET A 102      30.998   9.529   2.120  0.00  0.00           S\nATOM    796 CE   MET A 102      30.629  11.259   1.758  0.00  0.00           C\nATOM    797 N    VAL A 103      30.900  10.255   7.762  0.00  0.00           N\nATOM    798 CA   VAL A 103      30.038  10.804   8.794  0.00  0.00           C\nATOM    799 C    VAL A 103      30.869  11.459   9.874  0.00  0.00           C\nATOM    800 O    VAL A 103      30.513  12.510  10.349  0.00  0.00           O\nATOM    801 CB   VAL A 103      29.055   9.794   9.385  0.00  0.00           C\nATOM    802 CG1  VAL A 103      28.318  10.422  10.550  0.00  0.00           C\nATOM    803 CG2  VAL A 103      28.030   9.391   8.338  0.00  0.00           C\nATOM    804 N    PHE A 104      31.986  10.848  10.262  0.00  0.00           N\nATOM    805 CA   PHE A 104      32.827  11.414  11.298  0.00  0.00           C\nATOM    806 C    PHE A 104      33.308  12.812  10.903  0.00  0.00           C\nATOM    807 O    PHE A 104      33.453  13.709  11.707  0.00  0.00           O\nATOM    808 CB   PHE A 104      34.059  10.524  11.469  0.00  0.00           C\nATOM    809 CG   PHE A 104      34.990  10.953  12.576  0.00  0.00           C\nATOM    810 CD1  PHE A 104      35.940  11.947  12.361  0.00  0.00           C\nATOM    811 CD2  PHE A 104      34.971  10.306  13.811  0.00  0.00           C\nATOM    812 CE1  PHE A 104      36.815  12.302  13.390  0.00  0.00           C\nATOM    813 CE2  PHE A 104      35.857  10.623  14.838  0.00  0.00           C\nATOM    814 CZ   PHE A 104      36.786  11.639  14.619  0.00  0.00           C\nATOM    815 N    GLN A 105      33.591  12.977   9.619  0.00  0.00           N\nATOM    816 CA   GLN A 105      34.097  14.217   9.046  0.00  0.00           C\nATOM    817 C    GLN A 105      33.034  15.250   8.790  0.00  0.00           C\nATOM    818 O    GLN A 105      33.246  16.420   9.049  0.00  0.00           O\nATOM    819 CB   GLN A 105      34.902  14.018   7.685  0.00  0.00           C\nATOM    820 CG   GLN A 105      35.545  15.311   7.084  0.00  0.00           C\nATOM    821 CD   GLN A 105      36.150  15.199   5.669  0.00  0.00           C\nATOM    822 OE1  GLN A 105      36.100  14.154   5.055  0.00  0.00           O\nATOM    823 NE2  GLN A 105      36.785  16.268   5.142  0.00  0.00           N\nATOM    824 N    MET A 106      31.938  14.835   8.201  0.00  0.00           N\nATOM    825 CA   MET A 106      30.974  15.806   7.799  0.00  0.00           C\nATOM    826 C    MET A 106      29.629  15.797   8.444  0.00  0.00           C\nATOM    827 O    MET A 106      28.803  16.625   8.138  0.00  0.00           O\nATOM    828 CB   MET A 106      30.965  15.956   6.253  0.00  0.00           C\nATOM    829 CG   MET A 106      30.249  14.948   5.414  0.00  0.00           C\nATOM    830 SD   MET A 106      30.720  15.242   3.680  0.00  0.00           S\nATOM    831 CE   MET A 106      32.208  14.282   3.569  0.00  0.00           C\nATOM    832 N    GLY A 107      29.426  14.898   9.360  0.00  0.00           N\nATOM    833 CA   GLY A 107      28.171  14.908  10.002  0.00  0.00           C\nATOM    834 C    GLY A 107      27.167  14.191   9.173  0.00  0.00           C\nATOM    835 O    GLY A 107      27.213  14.077   7.947  0.00  0.00           O\nATOM    836 N    GLU A 108      26.229  13.752   9.922  0.00  0.00           N\nATOM    837 CA   GLU A 108      25.194  12.972   9.395  0.00  0.00           C\nATOM    838 C    GLU A 108      24.294  13.728   8.464  0.00  0.00           C\nATOM    839 O    GLU A 108      23.773  13.176   7.517  0.00  0.00           O\nATOM    840 CB   GLU A 108      24.504  12.291  10.559  0.00  0.00           C\nATOM    841 CG   GLU A 108      23.014  12.550  10.613  0.00  0.00           C\nATOM    842 CD   GLU A 108      22.389  11.387  11.297  0.00  0.00           C\nATOM    843 OE1  GLU A 108      23.273  10.455  11.551  0.00  0.00           O\nATOM    844 OE2  GLU A 108      21.211  11.320  11.559  0.00  0.00           O\nATOM    845 N    THR A 109      24.136  15.006   8.712  0.00  0.00           N\nATOM    846 CA   THR A 109      23.311  15.770   7.809  0.00  0.00           C\nATOM    847 C    THR A 109      24.041  15.885   6.502  0.00  0.00           C\nATOM    848 O    THR A 109      23.473  15.600   5.441  0.00  0.00           O\nATOM    849 CB   THR A 109      22.983  17.158   8.357  0.00  0.00           C\nATOM    850 OG1  THR A 109      22.213  17.003   9.511  0.00  0.00           O\nATOM    851 CG2  THR A 109      22.191  17.949   7.329  0.00  0.00           C\nATOM    852 N    GLY A 110      25.303  16.316   6.628  0.00  0.00           N\nATOM    853 CA   GLY A 110      26.186  16.471   5.507  0.00  0.00           C\nATOM    854 C    GLY A 110      26.097  15.287   4.577  0.00  0.00           C\nATOM    855 O    GLY A 110      25.734  15.440   3.423  0.00  0.00           O\nATOM    856 N    VAL A 111      26.357  14.096   5.097  0.00  0.00           N\nATOM    857 CA   VAL A 111      26.308  12.899   4.265  0.00  0.00           C\nATOM    858 C    VAL A 111      24.964  12.621   3.636  0.00  0.00           C\nATOM    859 O    VAL A 111      24.859  12.272   2.446  0.00  0.00           O\nATOM    860 CB   VAL A 111      26.728  11.717   5.092  0.00  0.00           C\nATOM    861 CG1  VAL A 111      26.831  10.501   4.171  0.00  0.00           C\nATOM    862 CG2  VAL A 111      28.094  12.024   5.661  0.00  0.00           C\nATOM    863 N    ALA A 112      23.963  12.764   4.509  0.00  0.00           N\nATOM    864 CA   ALA A 112      22.585  12.549   4.177  0.00  0.00           C\nATOM    865 C    ALA A 112      22.174  13.272   2.886  0.00  0.00           C\nATOM    866 O    ALA A 112      21.330  12.788   2.133  0.00  0.00           O\nATOM    867 CB   ALA A 112      21.684  12.704   5.383  0.00  0.00           C\nATOM    868 N    GLY A 113      22.817  14.414   2.584  0.00  0.00           N\nATOM    869 CA   GLY A 113      22.562  15.168   1.337  0.00  0.00           C\nATOM    870 C    GLY A 113      23.180  14.581   0.055  0.00  0.00           C\nATOM    871 O    GLY A 113      23.081  15.143  -1.047  0.00  0.00           O\nATOM    872 N    PHE A 114      23.995  13.532   0.164  0.00  0.00           N\nATOM    873 CA   PHE A 114      24.597  12.897  -0.987  0.00  0.00           C\nATOM    874 C    PHE A 114      23.680  11.810  -1.523  0.00  0.00           C\nATOM    875 O    PHE A 114      24.096  10.705  -1.810  0.00  0.00           O\nATOM    876 CB   PHE A 114      25.859  12.201  -0.532  0.00  0.00           C\nATOM    877 CG   PHE A 114      27.048  13.118  -0.410  0.00  0.00           C\nATOM    878 CD1  PHE A 114      27.038  14.220   0.450  0.00  0.00           C\nATOM    879 CD2  PHE A 114      28.190  12.875  -1.169  0.00  0.00           C\nATOM    880 CE1  PHE A 114      28.143  15.066   0.554  0.00  0.00           C\nATOM    881 CE2  PHE A 114      29.297  13.718  -1.090  0.00  0.00           C\nATOM    882 CZ   PHE A 114      29.279  14.807  -0.210  0.00  0.00           C\nATOM    883 N    THR A 115      22.425  12.135  -1.608  0.00  0.00           N\nATOM    884 CA   THR A 115      21.377  11.253  -2.029  0.00  0.00           C\nATOM    885 C    THR A 115      21.708  10.398  -3.199  0.00  0.00           C\nATOM    886 O    THR A 115      21.553   9.198  -3.138  0.00  0.00           O\nATOM    887 CB   THR A 115      20.161  12.081  -2.431  0.00  0.00           C\nATOM    888 OG1  THR A 115      19.804  12.910  -1.382  0.00  0.00           O\nATOM    889 CG2  THR A 115      19.008  11.149  -2.788  0.00  0.00           C\nATOM    890 N    ASN A 116      22.097  11.033  -4.290  0.00  0.00           N\nATOM    891 CA   ASN A 116      22.437  10.262  -5.487  0.00  0.00           C\nATOM    892 C    ASN A 116      23.567   9.243  -5.317  0.00  0.00           C\nATOM    893 O    ASN A 116      23.509   8.116  -5.796  0.00  0.00           O\nATOM    894 CB   ASN A 116      22.662  11.135  -6.745  0.00  0.00           C\nATOM    895 CG   ASN A 116      21.484  12.062  -6.992  0.00  0.00           C\nATOM    896 OD1  ASN A 116      20.321  11.676  -6.853  0.00  0.00           O\nATOM    897 ND2  ASN A 116      21.771  13.310  -7.345  0.00  0.00           N\nATOM    898 N    SER A 117      24.651   9.648  -4.641  0.00  0.00           N\nATOM    899 CA   SER A 117      25.762   8.725  -4.415  0.00  0.00           C\nATOM    900 C    SER A 117      25.289   7.572  -3.536  0.00  0.00           C\nATOM    901 O    SER A 117      25.709   6.442  -3.723  0.00  0.00           O\nATOM    902 CB   SER A 117      26.918   9.386  -3.675  0.00  0.00           C\nATOM    903 OG   SER A 117      27.319  10.605  -4.289  0.00  0.00           O\nATOM    904 N    LEU A 118      24.455   7.904  -2.537  0.00  0.00           N\nATOM    905 CA   LEU A 118      23.915   6.932  -1.603  0.00  0.00           C\nATOM    906 C    LEU A 118      23.157   5.816  -2.353  0.00  0.00           C\nATOM    907 O    LEU A 118      23.346   4.623  -2.123  0.00  0.00           O\nATOM    908 CB   LEU A 118      23.055   7.570  -0.462  0.00  0.00           C\nATOM    909 CG   LEU A 118      23.805   8.477   0.545  0.00  0.00           C\nATOM    910 CD1  LEU A 118      22.820   9.096   1.552  0.00  0.00           C\nATOM    911 CD2  LEU A 118      24.871   7.716   1.305  0.00  0.00           C\nATOM    912 N    ARG A 119      22.328   6.218  -3.268  0.00  0.00           N\nATOM    913 CA   ARG A 119      21.559   5.277  -4.064  0.00  0.00           C\nATOM    914 C    ARG A 119      22.499   4.404  -4.862  0.00  0.00           C\nATOM    915 O    ARG A 119      22.321   3.185  -4.994  0.00  0.00           O\nATOM    916 CB   ARG A 119      20.652   6.054  -5.001  0.00  0.00           C\nATOM    917 CG   ARG A 119      19.692   5.215  -5.805  0.00  0.00           C\nATOM    918 CD   ARG A 119      18.812   6.103  -6.691  0.00  0.00           C\nATOM    919 NE   ARG A 119      19.436   6.395  -7.989  0.00  0.00           N\nATOM    920 CZ   ARG A 119      20.063   7.534  -8.323  0.00  0.00           C\nATOM    921 NH1  ARG A 119      20.176   8.571  -7.491  0.00  0.00           N\nATOM    922 NH2  ARG A 119      20.590   7.621  -9.552  0.00  0.00           N\nATOM    923 N    MET A 120      23.540   5.042  -5.402  0.00  0.00           N\nATOM    924 CA   MET A 120      24.487   4.278  -6.166  0.00  0.00           C\nATOM    925 C    MET A 120      25.257   3.292  -5.298  0.00  0.00           C\nATOM    926 O    MET A 120      25.527   2.163  -5.684  0.00  0.00           O\nATOM    927 CB   MET A 120      25.459   5.106  -7.024  0.00  0.00           C\nATOM    928 CG   MET A 120      24.814   5.829  -8.186  0.00  0.00           C\nATOM    929 SD   MET A 120      25.972   7.091  -8.810  0.00  0.00           S\nATOM    930 CE   MET A 120      24.874   8.392  -9.376  0.00  0.00           C\nATOM    931 N    LEU A 121      25.609   3.678  -4.115  0.00  0.00           N\nATOM    932 CA   LEU A 121      26.303   2.724  -3.301  0.00  0.00           C\nATOM    933 C    LEU A 121      25.384   1.542  -2.982  0.00  0.00           C\nATOM    934 O    LEU A 121      25.783   0.380  -3.045  0.00  0.00           O\nATOM    935 CB   LEU A 121      26.813   3.389  -2.014  0.00  0.00           C\nATOM    936 CG   LEU A 121      27.977   4.377  -2.250  0.00  0.00           C\nATOM    937 CD1  LEU A 121      28.199   5.235  -0.997  0.00  0.00           C\nATOM    938 CD2  LEU A 121      29.275   3.619  -2.520  0.00  0.00           C\nATOM    939 N    GLN A 122      24.141   1.872  -2.662  0.00  0.00           N\nATOM    940 CA   GLN A 122      23.218   0.843  -2.309  0.00  0.00           C\nATOM    941 C    GLN A 122      23.031  -0.161  -3.436  0.00  0.00           C\nATOM    942 O    GLN A 122      22.839  -1.359  -3.222  0.00  0.00           O\nATOM    943 CB   GLN A 122      21.906   1.412  -1.823  0.00  0.00           C\nATOM    944 CG   GLN A 122      20.878   0.291  -1.655  0.00  0.00           C\nATOM    945 CD   GLN A 122      19.752   0.635  -0.715  0.00  0.00           C\nATOM    946 OE1  GLN A 122      19.462   1.817  -0.494  0.00  0.00           O\nATOM    947 NE2  GLN A 122      19.106  -0.400  -0.165  0.00  0.00           N\nATOM    948 N    GLN A 123      23.122   0.323  -4.655  0.00  0.00           N\nATOM    949 CA   GLN A 123      22.950  -0.563  -5.767  0.00  0.00           C\nATOM    950 C    GLN A 123      24.230  -1.222  -6.136  0.00  0.00           C\nATOM    951 O    GLN A 123      24.231  -1.960  -7.102  0.00  0.00           O\nATOM    952 CB   GLN A 123      22.496   0.186  -7.011  0.00  0.00           C\nATOM    953 CG   GLN A 123      21.113   0.864  -6.802  0.00  0.00           C\nATOM    954 CD   GLN A 123      20.695   1.603  -8.065  0.00  0.00           C\nATOM    955 OE1  GLN A 123      20.435   1.007  -9.105  0.00  0.00           O\nATOM    956 NE2  GLN A 123      20.660   2.932  -7.983  0.00  0.00           N\nATOM    957 N    LYS A 124      25.333  -0.904  -5.432  0.00  0.00           N\nATOM    958 CA   LYS A 124      26.642  -1.497  -5.741  0.00  0.00           C\nATOM    959 C    LYS A 124      27.236  -1.136  -7.086  0.00  0.00           C\nATOM    960 O    LYS A 124      28.038  -1.891  -7.662  0.00  0.00           O\nATOM    961 CB   LYS A 124      26.785  -3.007  -5.499  0.00  0.00           C\nATOM    962 CG   LYS A 124      26.150  -3.432  -4.194  0.00  0.00           C\nATOM    963 CD   LYS A 124      26.628  -4.764  -3.630  0.00  0.00           C\nATOM    964 CE   LYS A 124      26.056  -5.005  -2.249  0.00  0.00           C\nATOM    965 NZ   LYS A 124      26.723  -4.240  -1.184  0.00  0.00           N\nATOM    966 N    ARG A 125      26.931   0.051  -7.551  0.00  0.00           N\nATOM    967 CA   ARG A 125      27.493   0.559  -8.783  0.00  0.00           C\nATOM    968 C    ARG A 125      28.727   1.370  -8.364  0.00  0.00           C\nATOM    969 O    ARG A 125      28.698   2.603  -8.244  0.00  0.00           O\nATOM    970 CB   ARG A 125      26.447   1.436  -9.447  0.00  0.00           C\nATOM    971 CG   ARG A 125      25.331   0.591 -10.060  0.00  0.00           C\nATOM    972 CD   ARG A 125      24.077   1.407 -10.257  0.00  0.00           C\nATOM    973 NE   ARG A 125      23.389   1.151 -11.525  0.00  0.00           N\nATOM    974 CZ   ARG A 125      22.437   0.236 -11.710  0.00  0.00           C\nATOM    975 NH1  ARG A 125      22.050  -0.621 -10.737  0.00  0.00           N\nATOM    976 NH2  ARG A 125      21.903   0.089 -12.914  0.00  0.00           N\nATOM    977 N    TRP A 126      29.811   0.656  -8.115  0.00  0.00           N\nATOM    978 CA   TRP A 126      31.006   1.287  -7.578  0.00  0.00           C\nATOM    979 C    TRP A 126      31.698   2.391  -8.338  0.00  0.00           C\nATOM    980 O    TRP A 126      31.997   3.452  -7.791  0.00  0.00           O\nATOM    981 CB   TRP A 126      31.972   0.365  -6.884  0.00  0.00           C\nATOM    982 CG   TRP A 126      31.312  -0.804  -6.170  0.00  0.00           C\nATOM    983 CD1  TRP A 126      31.459  -2.091  -6.537  0.00  0.00           C\nATOM    984 CD2  TRP A 126      30.547  -0.799  -4.953  0.00  0.00           C\nATOM    985 NE1  TRP A 126      30.849  -2.899  -5.641  0.00  0.00           N\nATOM    986 CE2  TRP A 126      30.272  -2.151  -4.640  0.00  0.00           C\nATOM    987 CE3  TRP A 126      30.093   0.186  -4.059  0.00  0.00           C\nATOM    988 CZ2  TRP A 126      29.592  -2.521  -3.488  0.00  0.00           C\nATOM    989 CZ3  TRP A 126      29.371  -0.185  -2.949  0.00  0.00           C\nATOM    990 CH2  TRP A 126      29.121  -1.538  -2.661  0.00  0.00           C\nATOM    991 N    ASP A 127      32.033   2.125  -9.566  0.00  0.00           N\nATOM    992 CA   ASP A 127      32.673   3.158 -10.326  0.00  0.00           C\nATOM    993 C    ASP A 127      31.775   4.365 -10.441  0.00  0.00           C\nATOM    994 O    ASP A 127      32.223   5.481 -10.293  0.00  0.00           O\nATOM    995 CB   ASP A 127      33.022   2.647 -11.709  0.00  0.00           C\nATOM    996 CG   ASP A 127      34.252   1.767 -11.655  0.00  0.00           C\nATOM    997 OD1  ASP A 127      34.591   1.122 -10.684  0.00  0.00           O\nATOM    998 OD2  ASP A 127      34.975   1.827 -12.747  0.00  0.00           O\nATOM    999 N    GLU A 128      30.485   4.147 -10.667  0.00  0.00           N\nATOM   1000 CA   GLU A 128      29.597   5.285 -10.773  0.00  0.00           C\nATOM   1001 C    GLU A 128      29.506   6.124  -9.527  0.00  0.00           C\nATOM   1002 O    GLU A 128      29.475   7.348  -9.579  0.00  0.00           O\nATOM   1003 CB   GLU A 128      28.218   4.853 -11.254  0.00  0.00           C\nATOM   1004 CG   GLU A 128      28.393   4.177 -12.624  0.00  0.00           C\nATOM   1005 CD   GLU A 128      27.200   3.402 -13.093  0.00  0.00           C\nATOM   1006 OE1  GLU A 128      26.112   4.134 -13.170  0.00  0.00           O\nATOM   1007 OE2  GLU A 128      27.257   2.230 -13.425  0.00  0.00           O\nATOM   1008 N    ALA A 129      29.447   5.458  -8.406  0.00  0.00           N\nATOM   1009 CA   ALA A 129      29.333   6.189  -7.175  0.00  0.00           C\nATOM   1010 C    ALA A 129      30.585   7.018  -6.962  0.00  0.00           C\nATOM   1011 O    ALA A 129      30.532   8.158  -6.530  0.00  0.00           O\nATOM   1012 CB   ALA A 129      29.154   5.214  -6.016  0.00  0.00           C\nATOM   1013 N    ALA A 130      31.719   6.422  -7.307  0.00  0.00           N\nATOM   1014 CA   ALA A 130      33.001   7.077  -7.118  0.00  0.00           C\nATOM   1015 C    ALA A 130      33.049   8.379  -7.884  0.00  0.00           C\nATOM   1016 O    ALA A 130      33.534   9.400  -7.396  0.00  0.00           O\nATOM   1017 CB   ALA A 130      34.177   6.172  -7.526  0.00  0.00           C\nATOM   1018 N    VAL A 131      32.547   8.324  -9.108  0.00  0.00           N\nATOM   1019 CA   VAL A 131      32.512   9.491  -9.950  0.00  0.00           C\nATOM   1020 C    VAL A 131      31.571  10.535  -9.338  0.00  0.00           C\nATOM   1021 O    VAL A 131      31.939  11.694  -9.199  0.00  0.00           O\nATOM   1022 CB   VAL A 131      32.140   9.126 -11.415  0.00  0.00           C\nATOM   1023 CG1  VAL A 131      31.731  10.329 -12.214  0.00  0.00           C\nATOM   1024 CG2  VAL A 131      33.328   8.465 -12.117  0.00  0.00           C\nATOM   1025 N    ASN A 132      30.381  10.120  -8.922  0.00  0.00           N\nATOM   1026 CA   ASN A 132      29.429  11.043  -8.347  0.00  0.00           C\nATOM   1027 C    ASN A 132      29.941  11.631  -7.031  0.00  0.00           C\nATOM   1028 O    ASN A 132      29.747  12.793  -6.695  0.00  0.00           O\nATOM   1029 CB   ASN A 132      28.077  10.372  -8.139  0.00  0.00           C\nATOM   1030 CG   ASN A 132      26.999  11.333  -7.676  0.00  0.00           C\nATOM   1031 OD1  ASN A 132      26.783  11.565  -6.470  0.00  0.00           O\nATOM   1032 ND2  ASN A 132      26.390  11.964  -8.650  0.00  0.00           N\nATOM   1033 N    LEU A 133      30.619  10.839  -6.241  0.00  0.00           N\nATOM   1034 CA   LEU A 133      31.072  11.360  -4.966  0.00  0.00           C\nATOM   1035 C    LEU A 133      32.052  12.534  -5.152  0.00  0.00           C\nATOM   1036 O    LEU A 133      32.141  13.426  -4.319  0.00  0.00           O\nATOM   1037 CB   LEU A 133      31.765  10.268  -4.071  0.00  0.00           C\nATOM   1038 CG   LEU A 133      30.822   9.280  -3.348  0.00  0.00           C\nATOM   1039 CD1  LEU A 133      31.637   8.091  -2.819  0.00  0.00           C\nATOM   1040 CD2  LEU A 133      30.133   9.963  -2.183  0.00  0.00           C\nATOM   1041 N    ALA A 134      32.835  12.481  -6.229  0.00  0.00           N\nATOM   1042 CA   ALA A 134      33.864  13.477  -6.512  0.00  0.00           C\nATOM   1043 C    ALA A 134      33.310  14.861  -6.863  0.00  0.00           C\nATOM   1044 O    ALA A 134      33.984  15.895  -6.728  0.00  0.00           O\nATOM   1045 CB   ALA A 134      34.896  12.944  -7.534  0.00  0.00           C\nATOM   1046 N    LYS A 135      32.059  14.900  -7.291  0.00  0.00           N\nATOM   1047 CA   LYS A 135      31.394  16.158  -7.631  0.00  0.00           C\nATOM   1048 C    LYS A 135      30.821  16.786  -6.414  0.00  0.00           C\nATOM   1049 O    LYS A 135      29.636  16.840  -6.241  0.00  0.00           O\nATOM   1050 CB   LYS A 135      30.232  15.925  -8.550  0.00  0.00           C\nATOM   1051 CG   LYS A 135      30.729  15.180  -9.767  0.00  0.00           C\nATOM   1052 CD   LYS A 135      29.707  15.250 -10.878  0.00  0.00           C\nATOM   1053 CE   LYS A 135      30.268  14.629 -12.133  0.00  0.00           C\nATOM   1054 NZ   LYS A 135      29.221  13.906 -12.876  0.00  0.00           N\nATOM   1055 N    SER A 136      31.706  17.232  -5.565  0.00  0.00           N\nATOM   1056 CA   SER A 136      31.249  17.745  -4.320  0.00  0.00           C\nATOM   1057 C    SER A 136      32.250  18.739  -3.748  0.00  0.00           C\nATOM   1058 O    SER A 136      33.467  18.734  -4.007  0.00  0.00           O\nATOM   1059 CB   SER A 136      31.089  16.565  -3.359  0.00  0.00           C\nATOM   1060 OG   SER A 136      32.387  15.944  -3.189  0.00  0.00           O\nATOM   1061 N    ARG A 137      31.716  19.611  -2.929  0.00  0.00           N\nATOM   1062 CA   ARG A 137      32.553  20.556  -2.228  0.00  0.00           C\nATOM   1063 C    ARG A 137      33.602  19.794  -1.424  0.00  0.00           C\nATOM   1064 O    ARG A 137      34.759  20.185  -1.380  0.00  0.00           O\nATOM   1065 CB   ARG A 137      31.707  21.412  -1.270  0.00  0.00           C\nATOM   1066 CG   ARG A 137      32.595  22.160  -0.276  0.00  0.00           C\nATOM   1067 CD   ARG A 137      31.900  23.308   0.450  0.00  0.00           C\nATOM   1068 NE   ARG A 137      32.838  24.218   1.141  0.00  0.00           N\nATOM   1069 CZ   ARG A 137      33.555  23.938   2.247  0.00  0.00           C\nATOM   1070 NH1  ARG A 137      33.510  22.756   2.860  0.00  0.00           N\nATOM   1071 NH2  ARG A 137      34.361  24.872   2.747  0.00  0.00           N\nATOM   1072 N    TRP A 138      33.156  18.686  -0.754  0.00  0.00           N\nATOM   1073 CA   TRP A 138      33.983  17.803   0.061  0.00  0.00           C\nATOM   1074 C    TRP A 138      35.270  17.410  -0.666  0.00  0.00           C\nATOM   1075 O    TRP A 138      36.380  17.568  -0.169  0.00  0.00           O\nATOM   1076 CB   TRP A 138      33.179  16.513   0.353  0.00  0.00           C\nATOM   1077 CG   TRP A 138      33.953  15.389   0.968  0.00  0.00           C\nATOM   1078 CD1  TRP A 138      34.652  15.431   2.133  0.00  0.00           C\nATOM   1079 CD2  TRP A 138      33.952  14.006   0.530  0.00  0.00           C\nATOM   1080 NE1  TRP A 138      35.172  14.178   2.412  0.00  0.00           N\nATOM   1081 CE2  TRP A 138      34.739  13.288   1.457  0.00  0.00           C\nATOM   1082 CE3  TRP A 138      33.421  13.362  -0.556  0.00  0.00           C\nATOM   1083 CZ2  TRP A 138      34.936  11.905   1.333  0.00  0.00           C\nATOM   1084 CZ3  TRP A 138      33.622  11.998  -0.696  0.00  0.00           C\nATOM   1085 CH2  TRP A 138      34.375  11.286   0.238  0.00  0.00           C\nATOM   1086 N    TYR A 139      35.099  16.946  -1.898  0.00  0.00           N\nATOM   1087 CA   TYR A 139      36.191  16.538  -2.715  0.00  0.00           C\nATOM   1088 C    TYR A 139      37.040  17.700  -3.080  0.00  0.00           C\nATOM   1089 O    TYR A 139      38.249  17.600  -3.104  0.00  0.00           O\nATOM   1090 CB   TYR A 139      35.680  15.974  -4.024  0.00  0.00           C\nATOM   1091 CG   TYR A 139      36.783  15.454  -4.903  0.00  0.00           C\nATOM   1092 CD1  TYR A 139      37.310  14.184  -4.675  0.00  0.00           C\nATOM   1093 CD2  TYR A 139      37.220  16.182  -6.006  0.00  0.00           C\nATOM   1094 CE1  TYR A 139      38.266  13.637  -5.521  0.00  0.00           C\nATOM   1095 CE2  TYR A 139      38.183  15.655  -6.868  0.00  0.00           C\nATOM   1096 CZ   TYR A 139      38.692  14.382  -6.619  0.00  0.00           C\nATOM   1097 OH   TYR A 139      39.652  13.867  -7.440  0.00  0.00           O\nATOM   1098 N    ASN A 140      36.417  18.806  -3.437  0.00  0.00           N\nATOM   1099 CA   ASN A 140      37.201  19.967  -3.824  0.00  0.00           C\nATOM   1100 C    ASN A 140      38.025  20.578  -2.692  0.00  0.00           C\nATOM   1101 O    ASN A 140      39.125  21.021  -2.934  0.00  0.00           O\nATOM   1102 CB   ASN A 140      36.354  21.017  -4.559  0.00  0.00           C\nATOM   1103 CG   ASN A 140      36.042  20.485  -5.925  0.00  0.00           C\nATOM   1104 OD1  ASN A 140      34.970  19.921  -6.193  0.00  0.00           O\nATOM   1105 ND2  ASN A 140      37.057  20.542  -6.779  0.00  0.00           N\nATOM   1106 N    GLN A 141      37.516  20.570  -1.452  0.00  0.00           N\nATOM   1107 CA   GLN A 141      38.203  21.102  -0.286  0.00  0.00           C\nATOM   1108 C    GLN A 141      39.253  20.216   0.305  0.00  0.00           C\nATOM   1109 O    GLN A 141      40.294  20.718   0.733  0.00  0.00           O\nATOM   1110 CB   GLN A 141      37.273  21.534   0.843  0.00  0.00           C\nATOM   1111 CG   GLN A 141      36.270  22.605   0.363  0.00  0.00           C\nATOM   1112 CD   GLN A 141      36.919  23.835  -0.246  0.00  0.00           C\nATOM   1113 OE1  GLN A 141      36.555  24.336  -1.338  0.00  0.00           O\nATOM   1114 NE2  GLN A 141      37.869  24.412   0.488  0.00  0.00           N\nATOM   1115 N    THR A 142      38.962  18.920   0.414  0.00  0.00           N\nATOM   1116 CA   THR A 142      39.915  17.982   0.970  0.00  0.00           C\nATOM   1117 C    THR A 142      40.082  16.866  -0.006  0.00  0.00           C\nATOM   1118 O    THR A 142      39.735  15.731   0.268  0.00  0.00           O\nATOM   1119 CB   THR A 142      39.450  17.417   2.314  0.00  0.00           C\nATOM   1120 OG1  THR A 142      38.108  16.952   2.212  0.00  0.00           O\nATOM   1121 CG2  THR A 142      39.581  18.539   3.361  0.00  0.00           C\nATOM   1122 N    PRO A 143      40.673  17.176  -1.132  0.00  0.00           N\nATOM   1123 CA   PRO A 143      40.849  16.180  -2.176  0.00  0.00           C\nATOM   1124 C    PRO A 143      41.654  14.900  -1.835  0.00  0.00           C\nATOM   1125 O    PRO A 143      41.303  13.811  -2.251  0.00  0.00           O\nATOM   1126 CB   PRO A 143      41.511  16.906  -3.343  0.00  0.00           C\nATOM   1127 CG   PRO A 143      42.209  18.111  -2.727  0.00  0.00           C\nATOM   1128 CD   PRO A 143      41.437  18.425  -1.462  0.00  0.00           C\nATOM   1129 N    ASN A 144      42.799  15.005  -1.150  0.00  0.00           N\nATOM   1130 CA   ASN A 144      43.556  13.795  -0.855  0.00  0.00           C\nATOM   1131 C    ASN A 144      42.808  12.837   0.071  0.00  0.00           C\nATOM   1132 O    ASN A 144      42.831  11.641  -0.107  0.00  0.00           O\nATOM   1133 CB   ASN A 144      44.967  14.078  -0.267  0.00  0.00           C\nATOM   1134 CG   ASN A 144      45.926  14.771  -1.247  0.00  0.00           C\nATOM   1135 OD1  ASN A 144      45.945  14.546  -2.466  0.00  0.00           O\nATOM   1136 ND2  ASN A 144      46.778  15.613  -0.724  0.00  0.00           N\nATOM   1137 N    ARG A 145      42.186  13.392   1.093  0.00  0.00           N\nATOM   1138 CA   ARG A 145      41.428  12.546   1.974  0.00  0.00           C\nATOM   1139 C    ARG A 145      40.192  11.985   1.244  0.00  0.00           C\nATOM   1140 O    ARG A 145      39.849  10.821   1.353  0.00  0.00           O\nATOM   1141 CB   ARG A 145      40.979  13.333   3.175  0.00  0.00           C\nATOM   1142 CG   ARG A 145      39.990  12.467   3.950  0.00  0.00           C\nATOM   1143 CD   ARG A 145      39.503  13.164   5.172  0.00  0.00           C\nATOM   1144 NE   ARG A 145      38.826  12.261   6.058  0.00  0.00           N\nATOM   1145 CZ   ARG A 145      38.629  12.673   7.282  0.00  0.00           C\nATOM   1146 NH1  ARG A 145      39.095  13.860   7.620  0.00  0.00           N\nATOM   1147 NH2  ARG A 145      38.012  11.926   8.174  0.00  0.00           N\nATOM   1148 N    ALA A 146      39.499  12.858   0.516  0.00  0.00           N\nATOM   1149 CA   ALA A 146      38.337  12.409  -0.243  0.00  0.00           C\nATOM   1150 C    ALA A 146      38.711  11.249  -1.164  0.00  0.00           C\nATOM   1151 O    ALA A 146      38.004  10.253  -1.233  0.00  0.00           O\nATOM   1152 CB   ALA A 146      37.757  13.567  -1.063  0.00  0.00           C\nATOM   1153 N    LYS A 147      39.833  11.397  -1.895  0.00  0.00           N\nATOM   1154 CA   LYS A 147      40.311  10.381  -2.802  0.00  0.00           C\nATOM   1155 C    LYS A 147      40.505   9.058  -2.106  0.00  0.00           C\nATOM   1156 O    LYS A 147      40.250   7.993  -2.676  0.00  0.00           O\nATOM   1157 CB   LYS A 147      41.649  10.731  -3.384  0.00  0.00           C\nATOM   1158 CG   LYS A 147      41.498  11.406  -4.714  0.00  0.00           C\nATOM   1159 CD   LYS A 147      42.645  12.334  -5.052  0.00  0.00           C\nATOM   1160 CE   LYS A 147      42.130  13.565  -5.758  0.00  0.00           C\nATOM   1161 NZ   LYS A 147      43.173  14.548  -6.053  0.00  0.00           N\nATOM   1162 N    ARG A 148      41.020   9.142  -0.888  0.00  0.00           N\nATOM   1163 CA   ARG A 148      41.256   7.910  -0.098  0.00  0.00           C\nATOM   1164 C    ARG A 148      39.972   7.156   0.231  0.00  0.00           C\nATOM   1165 O    ARG A 148      39.879   5.947   0.022  0.00  0.00           O\nATOM   1166 CB   ARG A 148      42.067   8.179   1.172  0.00  0.00           C\nATOM   1167 CG   ARG A 148      43.579   8.274   0.901  0.00  0.00           C\nATOM   1168 CD   ARG A 148      44.356   8.219   2.187  0.00  0.00           C\nATOM   1169 NE   ARG A 148      43.993   9.279   3.111  0.00  0.00           N\nATOM   1170 CZ   ARG A 148      44.576  10.492   3.105  0.00  0.00           C\nATOM   1171 NH1  ARG A 148      45.526  10.790   2.217  0.00  0.00           N\nATOM   1172 NH2  ARG A 148      44.267  11.453   3.956  0.00  0.00           N\nATOM   1173 N    VAL A 149      39.006   7.916   0.726  0.00  0.00           N\nATOM   1174 CA   VAL A 149      37.687   7.382   1.085  0.00  0.00           C\nATOM   1175 C    VAL A 149      36.948   6.824  -0.118  0.00  0.00           C\nATOM   1176 O    VAL A 149      36.341   5.749  -0.033  0.00  0.00           O\nATOM   1177 CB   VAL A 149      36.847   8.463   1.753  0.00  0.00           C\nATOM   1178 CG1  VAL A 149      35.424   7.960   1.980  0.00  0.00           C\nATOM   1179 CG2  VAL A 149      37.504   8.786   3.098  0.00  0.00           C\nATOM   1180 N    ILE A 150      36.998   7.593  -1.217  0.00  0.00           N\nATOM   1181 CA   ILE A 150      36.363   7.232  -2.481  0.00  0.00           C\nATOM   1182 C    ILE A 150      36.956   5.957  -3.081  0.00  0.00           C\nATOM   1183 O    ILE A 150      36.265   5.136  -3.657  0.00  0.00           O\nATOM   1184 CB   ILE A 150      36.376   8.373  -3.523  0.00  0.00           C\nATOM   1185 CG1  ILE A 150      35.440   9.507  -3.098  0.00  0.00           C\nATOM   1186 CG2  ILE A 150      35.955   7.838  -4.912  0.00  0.00           C\nATOM   1187 CD1  ILE A 150      35.583  10.748  -3.955  0.00  0.00           C\nATOM   1188 N    THR A 151      38.285   5.807  -2.947  0.00  0.00           N\nATOM   1189 CA   THR A 151      38.929   4.612  -3.475  0.00  0.00           C\nATOM   1190 C    THR A 151      38.485   3.410  -2.696  0.00  0.00           C\nATOM   1191 O    THR A 151      38.340   2.316  -3.234  0.00  0.00           O\nATOM   1192 CB   THR A 151      40.462   4.709  -3.403  0.00  0.00           C\nATOM   1193 OG1  THR A 151      40.912   5.546  -4.438  0.00  0.00           O\nATOM   1194 CG2  THR A 151      41.101   3.322  -3.569  0.00  0.00           C\nATOM   1195 N    THR A 152      38.288   3.651  -1.405  0.00  0.00           N\nATOM   1196 CA   THR A 152      37.808   2.598  -0.543  0.00  0.00           C\nATOM   1197 C    THR A 152      36.403   2.148  -0.958  0.00  0.00           C\nATOM   1198 O    THR A 152      36.084   0.971  -0.905  0.00  0.00           O\nATOM   1199 CB   THR A 152      37.837   3.101   0.909  0.00  0.00           C\nATOM   1200 OG1  THR A 152      39.170   3.468   1.218  0.00  0.00           O\nATOM   1201 CG2  THR A 152      37.421   1.998   1.833  0.00  0.00           C\nATOM   1202 N    PHE A 153      35.561   3.099  -1.354  0.00  0.00           N\nATOM   1203 CA   PHE A 153      34.211   2.735  -1.737  0.00  0.00           C\nATOM   1204 C    PHE A 153      34.265   2.021  -3.080  0.00  0.00           C\nATOM   1205 O    PHE A 153      33.509   1.088  -3.357  0.00  0.00           O\nATOM   1206 CB   PHE A 153      33.301   3.984  -1.834  0.00  0.00           C\nATOM   1207 CG   PHE A 153      32.587   4.438  -0.575  0.00  0.00           C\nATOM   1208 CD1  PHE A 153      31.723   3.604   0.135  0.00  0.00           C\nATOM   1209 CD2  PHE A 153      32.726   5.755  -0.118  0.00  0.00           C\nATOM   1210 CE1  PHE A 153      31.067   4.048   1.289  0.00  0.00           C\nATOM   1211 CE2  PHE A 153      32.056   6.221   1.014  0.00  0.00           C\nATOM   1212 CZ   PHE A 153      31.230   5.357   1.739  0.00  0.00           C\nATOM   1213 N    ARG A 154      35.175   2.493  -3.923  0.00  0.00           N\nATOM   1214 CA   ARG A 154      35.316   1.938  -5.264  0.00  0.00           C\nATOM   1215 C    ARG A 154      35.841   0.525  -5.288  0.00  0.00           C\nATOM   1216 O    ARG A 154      35.346  -0.291  -6.046  0.00  0.00           O\nATOM   1217 CB   ARG A 154      36.171   2.777  -6.208  0.00  0.00           C\nATOM   1218 CG   ARG A 154      35.875   2.497  -7.685  0.00  0.00           C\nATOM   1219 CD   ARG A 154      36.773   3.294  -8.644  0.00  0.00           C\nATOM   1220 NE   ARG A 154      38.150   3.369  -8.173  0.00  0.00           N\nATOM   1221 CZ   ARG A 154      39.087   2.432  -8.340  0.00  0.00           C\nATOM   1222 NH1  ARG A 154      38.849   1.282  -8.972  0.00  0.00           N\nATOM   1223 NH2  ARG A 154      40.308   2.659  -7.859  0.00  0.00           N\nATOM   1224 N    THR A 155      36.868   0.249  -4.474  0.00  0.00           N\nATOM   1225 CA   THR A 155      37.514  -1.057  -4.507  0.00  0.00           C\nATOM   1226 C    THR A 155      37.109  -1.998  -3.451  0.00  0.00           C\nATOM   1227 O    THR A 155      37.295  -3.180  -3.598  0.00  0.00           O\nATOM   1228 CB   THR A 155      39.032  -0.961  -4.347  0.00  0.00           C\nATOM   1229 OG1  THR A 155      39.358  -0.446  -3.069  0.00  0.00           O\nATOM   1230 CG2  THR A 155      39.573  -0.071  -5.439  0.00  0.00           C\nATOM   1231 N    GLY A 156      36.709  -1.480  -2.340  0.00  0.00           N\nATOM   1232 CA   GLY A 156      36.367  -2.395  -1.287  0.00  0.00           C\nATOM   1233 C    GLY A 156      37.593  -2.959  -0.568  0.00  0.00           C\nATOM   1234 O    GLY A 156      37.469  -3.915   0.180  0.00  0.00           O\nATOM   1235 N    THR A 157      38.775  -2.357  -0.740  0.00  0.00           N\nATOM   1236 CA   THR A 157      40.024  -2.765  -0.073  0.00  0.00           C\nATOM   1237 C    THR A 157      40.621  -1.575   0.664  0.00  0.00           C\nATOM   1238 O    THR A 157      40.224  -0.442   0.457  0.00  0.00           O\nATOM   1239 CB   THR A 157      41.070  -3.045  -1.157  0.00  0.00           C\nATOM   1240 OG1  THR A 157      41.373  -1.781  -1.765  0.00  0.00           O\nATOM   1241 CG2  THR A 157      40.476  -3.995  -2.198  0.00  0.00           C\nATOM   1242 N    TRP A 158      41.661  -1.801   1.418  0.00  0.00           N\nATOM   1243 CA   TRP A 158      42.283  -0.731   2.135  0.00  0.00           C\nATOM   1244 C    TRP A 158      43.479  -0.236   1.389  0.00  0.00           C\nATOM   1245 O    TRP A 158      44.382   0.363   1.962  0.00  0.00           O\nATOM   1246 CB   TRP A 158      42.833  -1.262   3.462  0.00  0.00           C\nATOM   1247 CG   TRP A 158      41.789  -1.694   4.431  0.00  0.00           C\nATOM   1248 CD1  TRP A 158      41.561  -2.966   4.825  0.00  0.00           C\nATOM   1249 CD2  TRP A 158      40.905  -0.874   5.208  0.00  0.00           C\nATOM   1250 NE1  TRP A 158      40.584  -3.000   5.776  0.00  0.00           N\nATOM   1251 CE2  TRP A 158      40.166  -1.732   6.038  0.00  0.00           C\nATOM   1252 CE3  TRP A 158      40.703   0.493   5.285  0.00  0.00           C\nATOM   1253 CZ2  TRP A 158      39.195  -1.264   6.923  0.00  0.00           C\nATOM   1254 CZ3  TRP A 158      39.771   0.948   6.186  0.00  0.00           C\nATOM   1255 CH2  TRP A 158      38.999   0.082   6.984  0.00  0.00           C\nATOM   1256 N    ASP A 159      43.506  -0.457   0.122  0.00  0.00           N\nATOM   1257 CA   ASP A 159      44.676  -0.042  -0.592  0.00  0.00           C\nATOM   1258 C    ASP A 159      45.090   1.421  -0.490  0.00  0.00           C\nATOM   1259 O    ASP A 159      46.279   1.716  -0.581  0.00  0.00           O\nATOM   1260 CB   ASP A 159      44.603  -0.446  -2.041  0.00  0.00           C\nATOM   1261 CG   ASP A 159      44.547  -1.928  -2.276  0.00  0.00           C\nATOM   1262 OD1  ASP A 159      45.074  -2.648  -1.312  0.00  0.00           O\nATOM   1263 OD2  ASP A 159      44.111  -2.414  -3.292  0.00  0.00           O\nATOM   1264 N    ALA A 160      44.156   2.338  -0.362  0.00  0.00           N\nATOM   1265 CA   ALA A 160      44.485   3.754  -0.334  0.00  0.00           C\nATOM   1266 C    ALA A 160      45.196   4.114   0.933  0.00  0.00           C\nATOM   1267 O    ALA A 160      45.815   5.163   1.079  0.00  0.00           O\nATOM   1268 CB   ALA A 160      43.212   4.602  -0.431  0.00  0.00           C\nATOM   1269 N    TYR A 161      45.061   3.229   1.885  0.00  0.00           N\nATOM   1270 CA   TYR A 161      45.621   3.490   3.172  0.00  0.00           C\nATOM   1271 C    TYR A 161      46.856   2.700   3.386  0.00  0.00           C\nATOM   1272 O    TYR A 161      47.417   2.722   4.476  0.00  0.00           O\nATOM   1273 CB   TYR A 161      44.647   3.185   4.314  0.00  0.00           C\nATOM   1274 CG   TYR A 161      43.587   4.231   4.362  0.00  0.00           C\nATOM   1275 CD1  TYR A 161      42.506   4.142   3.488  0.00  0.00           C\nATOM   1276 CD2  TYR A 161      43.718   5.329   5.208  0.00  0.00           C\nATOM   1277 CE1  TYR A 161      41.511   5.113   3.486  0.00  0.00           C\nATOM   1278 CE2  TYR A 161      42.733   6.318   5.208  0.00  0.00           C\nATOM   1279 CZ   TYR A 161      41.642   6.198   4.343  0.00  0.00           C\nATOM   1280 OH   TYR A 161      40.686   7.175   4.344  0.00  0.00           O\nATOM   1281 N    LYS A 162      47.298   1.997   2.362  0.00  0.00           N\nATOM   1282 CA   LYS A 162      48.508   1.230   2.531  0.00  0.00           C\nATOM   1283 C    LYS A 162      49.647   1.863   1.769  0.00  0.00           C\nATOM   1284 O    LYS A 162      50.694   2.186   2.387  0.00  0.00           O\nATOM   1285 CB   LYS A 162      48.368  -0.254   2.273  0.00  0.00           C\nATOM   1286 CG   LYS A 162      47.496  -0.917   3.341  0.00  0.00           C\nATOM   1287 CD   LYS A 162      46.720  -2.138   2.861  0.00  0.00           C\nATOM   1288 CE   LYS A 162      46.717  -2.350   1.344  0.00  0.00           C\nATOM   1289 NZ   LYS A 162      45.641  -3.237   0.865  0.00  0.00           N\nEND\n",
           "type": "blob"
          }
         ],
         "kwargs": {
          "defaultRepresentation": true,
          "ext": "pdb",
          "name": "nglview.adaptor.MolSysMTTrajectory",
          "skipDigestion": true
         },
         "methodName": "loadFile",
         "reconstruc_color_scheme": false,
         "target": "Stage",
         "type": "call_method"
        },
        {
         "args": [],
         "component_index": 0,
         "kwargs": {},
         "methodName": "removeAllRepresentations",
         "reconstruc_color_scheme": false,
         "target": "compList",
         "type": "call_method"
        },
        {
         "args": [
          "cartoon"
         ],
         "component_index": 0,
         "kwargs": {
          "sele": "@0,1,2,3,4,5,6,7,8,9,10,11,12,13,14,15,16,17,18,19,20,21,22,23,24,25,26,27,28,29,30,31,32,33,34,35,36,37,38,39,40,41,42,43,44,45,46,47,48,49,50,51,52,53,54,55,56,57,58,59,60,61,62,63,64,65,66,67,68,69,70,71,72,73,74,75,76,77,78,79,80,81,82,83,84,85,86,87,88,89,90,91,92,93,94,95,96,97,98,99,100,101,102,103,104,105,106,107,108,109,110,111,112,113,114,115,116,117,118,119,120,121,122,123,124,125,126,127,128,129,130,131,132,133,134,135,136,137,138,139,140,141,142,143,144,145,146,147,148,149,150,151,152,153,154,155,156,157,158,159,160,161,162,163,164,165,166,167,168,169,170,171,172,173,174,175,176,177,178,179,180,181,182,183,184,185,186,187,188,189,190,191,192,193,194,195,196,197,198,199,200,201,202,203,204,205,206,207,208,209,210,211,212,213,214,215,216,217,218,219,220,221,222,223,224,225,226,227,228,229,230,231,232,233,234,235,236,237,238,239,240,241,242,243,244,245,246,247,248,249,250,251,252,253,254,255,256,257,258,259,260,261,262,263,264,265,266,267,268,269,270,271,272,273,274,275,276,277,278,279,280,281,282,283,284,285,286,287,288,289,290,291,292,293,294,295,296,297,298,299,300,301,302,303,304,305,306,307,308,309,310,311,312,313,314,315,316,317,318,319,320,321,322,323,324,325,326,327,328,329,330,331,332,333,334,335,336,337,338,339,340,341,342,343,344,345,346,347,348,349,350,351,352,353,354,355,356,357,358,359,360,361,362,363,364,365,366,367,368,369,370,371,372,373,374,375,376,377,378,379,380,381,382,383,384,385,386,387,388,389,390,391,392,393,394,395,396,397,398,399,400,401,402,403,404,405,406,407,408,409,410,411,412,413,414,415,416,417,418,419,420,421,422,423,424,425,426,427,428,429,430,431,432,433,434,435,436,437,438,439,440,441,442,443,444,445,446,447,448,449,450,451,452,453,454,455,456,457,458,459,460,461,462,463,464,465,466,467,468,469,470,471,472,473,474,475,476,477,478,479,480,481,482,483,484,485,486,487,488,489,490,491,492,493,494,495,496,497,498,499,500,501,502,503,504,505,506,507,508,509,510,511,512,513,514,515,516,517,518,519,520,521,522,523,524,525,526,527,528,529,530,531,532,533,534,535,536,537,538,539,540,541,542,543,544,545,546,547,548,549,550,551,552,553,554,555,556,557,558,559,560,561,562,563,564,565,566,567,568,569,570,571,572,573,574,575,576,577,578,579,580,581,582,583,584,585,586,587,588,589,590,591,592,593,594,595,596,597,598,599,600,601,602,603,604,605,606,607,608,609,610,611,612,613,614,615,616,617,618,619,620,621,622,623,624,625,626,627,628,629,630,631,632,633,634,635,636,637,638,639,640,641,642,643,644,645,646,647,648,649,650,651,652,653,654,655,656,657,658,659,660,661,662,663,664,665,666,667,668,669,670,671,672,673,674,675,676,677,678,679,680,681,682,683,684,685,686,687,688,689,690,691,692,693,694,695,696,697,698,699,700,701,702,703,704,705,706,707,708,709,710,711,712,713,714,715,716,717,718,719,720,721,722,723,724,725,726,727,728,729,730,731,732,733,734,735,736,737,738,739,740,741,742,743,744,745,746,747,748,749,750,751,752,753,754,755,756,757,758,759,760,761,762,763,764,765,766,767,768,769,770,771,772,773,774,775,776,777,778,779,780,781,782,783,784,785,786,787,788,789,790,791,792,793,794,795,796,797,798,799,800,801,802,803,804,805,806,807,808,809,810,811,812,813,814,815,816,817,818,819,820,821,822,823,824,825,826,827,828,829,830,831,832,833,834,835,836,837,838,839,840,841,842,843,844,845,846,847,848,849,850,851,852,853,854,855,856,857,858,859,860,861,862,863,864,865,866,867,868,869,870,871,872,873,874,875,876,877,878,879,880,881,882,883,884,885,886,887,888,889,890,891,892,893,894,895,896,897,898,899,900,901,902,903,904,905,906,907,908,909,910,911,912,913,914,915,916,917,918,919,920,921,922,923,924,925,926,927,928,929,930,931,932,933,934,935,936,937,938,939,940,941,942,943,944,945,946,947,948,949,950,951,952,953,954,955,956,957,958,959,960,961,962,963,964,965,966,967,968,969,970,971,972,973,974,975,976,977,978,979,980,981,982,983,984,985,986,987,988,989,990,991,992,993,994,995,996,997,998,999,1000,1001,1002,1003,1004,1005,1006,1007,1008,1009,1010,1011,1012,1013,1014,1015,1016,1017,1018,1019,1020,1021,1022,1023,1024,1025,1026,1027,1028,1029,1030,1031,1032,1033,1034,1035,1036,1037,1038,1039,1040,1041,1042,1043,1044,1045,1046,1047,1048,1049,1050,1051,1052,1053,1054,1055,1056,1057,1058,1059,1060,1061,1062,1063,1064,1065,1066,1067,1068,1069,1070,1071,1072,1073,1074,1075,1076,1077,1078,1079,1080,1081,1082,1083,1084,1085,1086,1087,1088,1089,1090,1091,1092,1093,1094,1095,1096,1097,1098,1099,1100,1101,1102,1103,1104,1105,1106,1107,1108,1109,1110,1111,1112,1113,1114,1115,1116,1117,1118,1119,1120,1121,1122,1123,1124,1125,1126,1127,1128,1129,1130,1131,1132,1133,1134,1135,1136,1137,1138,1139,1140,1141,1142,1143,1144,1145,1146,1147,1148,1149,1150,1151,1152,1153,1154,1155,1156,1157,1158,1159,1160,1161,1162,1163,1164,1165,1166,1167,1168,1169,1170,1171,1172,1173,1174,1175,1176,1177,1178,1179,1180,1181,1182,1183,1184,1185,1186,1187,1188,1189,1190,1191,1192,1193,1194,1195,1196,1197,1198,1199,1200,1201,1202,1203,1204,1205,1206,1207,1208,1209,1210,1211,1212,1213,1214,1215,1216,1217,1218,1219,1220,1221,1222,1223,1224,1225,1226,1227,1228,1229,1230,1231,1232,1233,1234,1235,1236,1237,1238,1239,1240,1241,1242,1243,1244,1245,1246,1247,1248,1249,1250,1251,1252,1253,1254,1255,1256,1257,1258,1259,1260,1261,1262,1263,1264,1265,1266,1267,1268,1269,1270,1271,1272,1273,1274,1275,1276,1277,1278,1279,1280,1281,1282,1283,1284,1285,1286,1287,1288"
         },
         "methodName": "addRepresentation",
         "reconstruc_color_scheme": false,
         "target": "compList",
         "type": "call_method"
        },
        {
         "args": [
          "cartoon"
         ],
         "component_index": 0,
         "kwargs": {
          "sele": "@"
         },
         "methodName": "addRepresentation",
         "reconstruc_color_scheme": false,
         "target": "compList",
         "type": "call_method"
        },
        {
         "args": [
          "licorice"
         ],
         "component_index": 0,
         "kwargs": {
          "radius": 0.4,
          "sele": "@"
         },
         "methodName": "addRepresentation",
         "reconstruc_color_scheme": false,
         "target": "compList",
         "type": "call_method"
        },
        {
         "args": [
          "licorice"
         ],
         "component_index": 0,
         "kwargs": {
          "radius": 0.4,
          "sele": "@"
         },
         "methodName": "addRepresentation",
         "reconstruc_color_scheme": false,
         "target": "compList",
         "type": "call_method"
        },
        {
         "args": [
          "ball+stick"
         ],
         "component_index": 0,
         "kwargs": {
          "sele": "@"
         },
         "methodName": "addRepresentation",
         "reconstruc_color_scheme": false,
         "target": "compList",
         "type": "call_method"
        },
        {
         "args": [
          "cartoon"
         ],
         "component_index": 0,
         "kwargs": {
          "color": [
           [
            "#fefeff",
            "1:A"
           ],
           [
            "#fefeff",
            "2:A"
           ],
           [
            "#fefeff",
            "3:A"
           ],
           [
            "#fefeff",
            "4:A"
           ],
           [
            "#ff0000",
            "5:A"
           ],
           [
            "#fefeff",
            "6:A"
           ],
           [
            "#fefeff",
            "7:A"
           ],
           [
            "#0000ff",
            "8:A"
           ],
           [
            "#fefeff",
            "9:A"
           ],
           [
            "#ff0000",
            "10:A"
           ],
           [
            "#ff0000",
            "11:A"
           ],
           [
            "#fefeff",
            "12:A"
           ],
           [
            "#fefeff",
            "13:A"
           ],
           [
            "#0000ff",
            "14:A"
           ],
           [
            "#fefeff",
            "15:A"
           ],
           [
            "#0000ff",
            "16:A"
           ],
           [
            "#fefeff",
            "17:A"
           ],
           [
            "#fefeff",
            "18:A"
           ],
           [
            "#0000ff",
            "19:A"
           ],
           [
            "#ff0000",
            "20:A"
           ],
           [
            "#fefeff",
            "21:A"
           ],
           [
            "#ff0000",
            "22:A"
           ],
           [
            "#fefeff",
            "23:A"
           ],
           [
            "#fefeff",
            "24:A"
           ],
           [
            "#fefeff",
            "25:A"
           ],
           [
            "#fefeff",
            "26:A"
           ],
           [
            "#fefeff",
            "27:A"
           ],
           [
            "#fefeff",
            "28:A"
           ],
           [
            "#fefeff",
            "29:A"
           ],
           [
            "#fefeff",
            "30:A"
           ],
           [
            "#e6e6ff",
            "31:A"
           ],
           [
            "#fefeff",
            "32:A"
           ],
           [
            "#fefeff",
            "33:A"
           ],
           [
            "#fefeff",
            "34:A"
           ],
           [
            "#0000ff",
            "35:A"
           ],
           [
            "#fefeff",
            "36:A"
           ],
           [
            "#fefeff",
            "37:A"
           ],
           [
            "#fefeff",
            "38:A"
           ],
           [
            "#fefeff",
            "39:A"
           ],
           [
            "#fefeff",
            "40:A"
           ],
           [
            "#fefeff",
            "41:A"
           ],
           [
            "#fefeff",
            "42:A"
           ],
           [
            "#0000ff",
            "43:A"
           ],
           [
            "#fefeff",
            "44:A"
           ],
           [
            "#ff0000",
            "45:A"
           ],
           [
            "#fefeff",
            "46:A"
           ],
           [
            "#ff0000",
            "47:A"
           ],
           [
            "#0000ff",
            "48:A"
           ],
           [
            "#fefeff",
            "49:A"
           ],
           [
            "#fefeff",
            "50:A"
           ],
           [
            "#fefeff",
            "51:A"
           ],
           [
            "#0000ff",
            "52:A"
           ],
           [
            "#fefeff",
            "53:A"
           ],
           [
            "#fefeff",
            "54:A"
           ],
           [
            "#fefeff",
            "55:A"
           ],
           [
            "#fefeff",
            "56:A"
           ],
           [
            "#fefeff",
            "57:A"
           ],
           [
            "#fefeff",
            "58:A"
           ],
           [
            "#fefeff",
            "59:A"
           ],
           [
            "#0000ff",
            "60:A"
           ],
           [
            "#ff0000",
            "61:A"
           ],
           [
            "#ff0000",
            "62:A"
           ],
           [
            "#fefeff",
            "63:A"
           ],
           [
            "#ff0000",
            "64:A"
           ],
           [
            "#0000ff",
            "65:A"
           ],
           [
            "#fefeff",
            "66:A"
           ],
           [
            "#fefeff",
            "67:A"
           ],
           [
            "#fefeff",
            "68:A"
           ],
           [
            "#fefeff",
            "69:A"
           ],
           [
            "#ff0000",
            "70:A"
           ],
           [
            "#fefeff",
            "71:A"
           ],
           [
            "#ff0000",
            "72:A"
           ],
           [
            "#fefeff",
            "73:A"
           ],
           [
            "#fefeff",
            "74:A"
           ],
           [
            "#fefeff",
            "75:A"
           ],
           [
            "#0000ff",
            "76:A"
           ],
           [
            "#fefeff",
            "77:A"
           ],
           [
            "#fefeff",
            "78:A"
           ],
           [
            "#fefeff",
            "79:A"
           ],
           [
            "#0000ff",
            "80:A"
           ],
           [
            "#fefeff",
            "81:A"
           ],
           [
            "#fefeff",
            "82:A"
           ],
           [
            "#0000ff",
            "83:A"
           ],
           [
            "#fefeff",
            "84:A"
           ],
           [
            "#0000ff",
            "85:A"
           ],
           [
            "#fefeff",
            "86:A"
           ],
           [
            "#fefeff",
            "87:A"
           ],
           [
            "#fefeff",
            "88:A"
           ],
           [
            "#ff0000",
            "89:A"
           ],
           [
            "#fefeff",
            "90:A"
           ],
           [
            "#fefeff",
            "91:A"
           ],
           [
            "#ff0000",
            "92:A"
           ],
           [
            "#fefeff",
            "93:A"
           ],
           [
            "#fefeff",
            "94:A"
           ],
           [
            "#0000ff",
            "95:A"
           ],
           [
            "#0000ff",
            "96:A"
           ],
           [
            "#fefeff",
            "97:A"
           ],
           [
            "#fefeff",
            "98:A"
           ],
           [
            "#fefeff",
            "99:A"
           ],
           [
            "#fefeff",
            "100:A"
           ],
           [
            "#fefeff",
            "101:A"
           ],
           [
            "#fefeff",
            "102:A"
           ],
           [
            "#fefeff",
            "103:A"
           ],
           [
            "#fefeff",
            "104:A"
           ],
           [
            "#fefeff",
            "105:A"
           ],
           [
            "#fefeff",
            "106:A"
           ],
           [
            "#fefeff",
            "107:A"
           ],
           [
            "#ff0000",
            "108:A"
           ],
           [
            "#fefeff",
            "109:A"
           ],
           [
            "#fefeff",
            "110:A"
           ],
           [
            "#fefeff",
            "111:A"
           ],
           [
            "#fefeff",
            "112:A"
           ],
           [
            "#fefeff",
            "113:A"
           ],
           [
            "#fefeff",
            "114:A"
           ],
           [
            "#fefeff",
            "115:A"
           ],
           [
            "#fefeff",
            "116:A"
           ],
           [
            "#fefeff",
            "117:A"
           ],
           [
            "#fefeff",
            "118:A"
           ],
           [
            "#0000ff",
            "119:A"
           ],
           [
            "#fefeff",
            "120:A"
           ],
           [
            "#fefeff",
            "121:A"
           ],
           [
            "#fefeff",
            "122:A"
           ],
           [
            "#fefeff",
            "123:A"
           ],
           [
            "#0000ff",
            "124:A"
           ],
           [
            "#0000ff",
            "125:A"
           ],
           [
            "#fefeff",
            "126:A"
           ],
           [
            "#ff0000",
            "127:A"
           ],
           [
            "#ff0000",
            "128:A"
           ],
           [
            "#fefeff",
            "129:A"
           ],
           [
            "#fefeff",
            "130:A"
           ],
           [
            "#fefeff",
            "131:A"
           ],
           [
            "#fefeff",
            "132:A"
           ],
           [
            "#fefeff",
            "133:A"
           ],
           [
            "#fefeff",
            "134:A"
           ],
           [
            "#0000ff",
            "135:A"
           ],
           [
            "#fefeff",
            "136:A"
           ],
           [
            "#0000ff",
            "137:A"
           ],
           [
            "#fefeff",
            "138:A"
           ],
           [
            "#fefeff",
            "139:A"
           ],
           [
            "#fefeff",
            "140:A"
           ],
           [
            "#fefeff",
            "141:A"
           ],
           [
            "#fefeff",
            "142:A"
           ],
           [
            "#fefeff",
            "143:A"
           ],
           [
            "#fefeff",
            "144:A"
           ],
           [
            "#0000ff",
            "145:A"
           ],
           [
            "#fefeff",
            "146:A"
           ],
           [
            "#0000ff",
            "147:A"
           ],
           [
            "#0000ff",
            "148:A"
           ],
           [
            "#fefeff",
            "149:A"
           ],
           [
            "#fefeff",
            "150:A"
           ],
           [
            "#fefeff",
            "151:A"
           ],
           [
            "#fefeff",
            "152:A"
           ],
           [
            "#fefeff",
            "153:A"
           ],
           [
            "#0000ff",
            "154:A"
           ],
           [
            "#fefeff",
            "155:A"
           ],
           [
            "#fefeff",
            "156:A"
           ],
           [
            "#fefeff",
            "157:A"
           ],
           [
            "#fefeff",
            "158:A"
           ],
           [
            "#ff0000",
            "159:A"
           ],
           [
            "#fefeff",
            "160:A"
           ],
           [
            "#fefeff",
            "161:A"
           ],
           [
            "#0000ff",
            "162:A"
           ]
          ],
          "color_label": "user_user",
          "sele": "1:A 2:A 3:A 4:A 5:A 6:A 7:A 8:A 9:A 10:A 11:A 12:A 13:A 14:A 15:A 16:A 17:A 18:A 19:A 20:A 21:A 22:A 23:A 24:A 25:A 26:A 27:A 28:A 29:A 30:A 31:A 32:A 33:A 34:A 35:A 36:A 37:A 38:A 39:A 40:A 41:A 42:A 43:A 44:A 45:A 46:A 47:A 48:A 49:A 50:A 51:A 52:A 53:A 54:A 55:A 56:A 57:A 58:A 59:A 60:A 61:A 62:A 63:A 64:A 65:A 66:A 67:A 68:A 69:A 70:A 71:A 72:A 73:A 74:A 75:A 76:A 77:A 78:A 79:A 80:A 81:A 82:A 83:A 84:A 85:A 86:A 87:A 88:A 89:A 90:A 91:A 92:A 93:A 94:A 95:A 96:A 97:A 98:A 99:A 100:A 101:A 102:A 103:A 104:A 105:A 106:A 107:A 108:A 109:A 110:A 111:A 112:A 113:A 114:A 115:A 116:A 117:A 118:A 119:A 120:A 121:A 122:A 123:A 124:A 125:A 126:A 127:A 128:A 129:A 130:A 131:A 132:A 133:A 134:A 135:A 136:A 137:A 138:A 139:A 140:A 141:A 142:A 143:A 144:A 145:A 146:A 147:A 148:A 149:A 150:A 151:A 152:A 153:A 154:A 155:A 156:A 157:A 158:A 159:A 160:A 161:A 162:A"
         },
         "methodName": "addRepresentation",
         "reconstruc_color_scheme": true,
         "target": "compList",
         "type": "call_method"
        }
       ],
       "_ngl_original_stage_parameters": {},
       "_ngl_repr_dict": {},
       "_ngl_serialize": false,
       "_ngl_version": "",
       "_ngl_view_id": [],
       "_player_dict": {},
       "_scene_position": {},
       "_scene_rotation": {},
       "_synced_model_ids": [],
       "_synced_repr_model_ids": [],
       "_view_count": null,
       "_view_height": "",
       "_view_module": "nglview-js-widgets",
       "_view_module_version": "3.1.4",
       "_view_name": "NGLView",
       "_view_width": "",
       "background": "white",
       "frame": 0,
       "gui_style": null,
       "layout": "IPY_MODEL_b3610d15cbae4fa685f0cd9fe998ad8e",
       "max_frame": 0,
       "n_components": 0,
       "picked": {},
       "tabbable": null,
       "tooltip": null
      }
     },
     "d6e619cd953b4e2787202a7527911f07": {
      "model_module": "@jupyter-widgets/controls",
      "model_module_version": "2.0.0",
      "model_name": "HBoxModel",
      "state": {
       "_dom_classes": [],
       "_model_module": "@jupyter-widgets/controls",
       "_model_module_version": "2.0.0",
       "_model_name": "HBoxModel",
       "_view_count": null,
       "_view_module": "@jupyter-widgets/controls",
       "_view_module_version": "2.0.0",
       "_view_name": "HBoxView",
       "box_style": "",
       "children": [
        "IPY_MODEL_694b163059b6402b99eea7671fe90919",
        "IPY_MODEL_14b6e129b4e747b68f101804d2a3e989"
       ],
       "layout": "IPY_MODEL_27411a79aabc41c5bc7a7d61580e1ffd",
       "tabbable": null,
       "tooltip": null
      }
     },
     "e7dc70d74b0c4956bc3c741bd735feb3": {
      "model_module": "@jupyter-widgets/base",
      "model_module_version": "2.0.0",
      "model_name": "LayoutModel",
      "state": {
       "_model_module": "@jupyter-widgets/base",
       "_model_module_version": "2.0.0",
       "_model_name": "LayoutModel",
       "_view_count": null,
       "_view_module": "@jupyter-widgets/base",
       "_view_module_version": "2.0.0",
       "_view_name": "LayoutView",
       "align_content": null,
       "align_items": null,
       "align_self": null,
       "border_bottom": null,
       "border_left": null,
       "border_right": null,
       "border_top": null,
       "bottom": null,
       "display": null,
       "flex": null,
       "flex_flow": null,
       "grid_area": null,
       "grid_auto_columns": null,
       "grid_auto_flow": null,
       "grid_auto_rows": null,
       "grid_column": null,
       "grid_gap": null,
       "grid_row": null,
       "grid_template_areas": null,
       "grid_template_columns": null,
       "grid_template_rows": null,
       "height": null,
       "justify_content": null,
       "justify_items": null,
       "left": null,
       "margin": null,
       "max_height": null,
       "max_width": null,
       "min_height": null,
       "min_width": null,
       "object_fit": null,
       "object_position": null,
       "order": null,
       "overflow": null,
       "padding": null,
       "right": null,
       "top": null,
       "visibility": null,
       "width": null
      }
     },
     "eba4d096c8174d0b8ca6f1771bb7f431": {
      "model_module": "@jupyter-widgets/controls",
      "model_module_version": "2.0.0",
      "model_name": "ButtonStyleModel",
      "state": {
       "_model_module": "@jupyter-widgets/controls",
       "_model_module_version": "2.0.0",
       "_model_name": "ButtonStyleModel",
       "_view_count": null,
       "_view_module": "@jupyter-widgets/base",
       "_view_module_version": "2.0.0",
       "_view_name": "StyleView",
       "button_color": null,
       "font_family": null,
       "font_size": null,
       "font_style": null,
       "font_variant": null,
       "font_weight": null,
       "text_color": null,
       "text_decoration": null
      }
     }
    },
    "version_major": 2,
    "version_minor": 0
   }
  }
 },
 "nbformat": 4,
 "nbformat_minor": 5
}
