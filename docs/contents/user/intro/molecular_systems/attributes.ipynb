{
 "cells": [
  {
   "cell_type": "markdown",
   "id": "b9e081f8-f5e6-44fb-85f1-5f9ff41e65df",
   "metadata": {},
   "source": [
    "(Introduction_Attributes)=\n",
    "# Attributes"
   ]
  },
  {
   "cell_type": "markdown",
   "id": "62a2ddbf-af8a-4212-a650-6b41bcf5a2f6",
   "metadata": {},
   "source": [
    "To be written soon."
   ]
  }
 ],
 "metadata": {
  "kernelspec": {
   "display_name": "Python 3 (ipykernel)",
   "language": "python",
   "name": "python3"
  },
  "language_info": {
   "codemirror_mode": {
    "name": "ipython",
    "version": 3
   },
   "file_extension": ".py",
   "mimetype": "text/x-python",
   "name": "python",
   "nbconvert_exporter": "python",
   "pygments_lexer": "ipython3",
   "version": "3.10.11"
  }
 },
 "nbformat": 4,
 "nbformat_minor": 5
}
