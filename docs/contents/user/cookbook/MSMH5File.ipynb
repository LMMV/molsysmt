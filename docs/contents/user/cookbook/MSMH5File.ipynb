{
 "cells": [
  {
   "cell_type": "markdown",
   "id": "62700d16-1681-4bca-85db-a601534f46e8",
   "metadata": {},
   "source": [
    "# MSMH5 file"
   ]
  },
  {
   "cell_type": "markdown",
   "id": "5d0f1c15-5b80-4991-a619-aea036f98be9",
   "metadata": {},
   "source": [
    "## Using the native MSMH5 OpenMM reporter"
   ]
  },
  {
   "cell_type": "code",
   "execution_count": 1,
   "id": "afd7d4e8-8e98-45f7-a7ce-669f60c98c70",
   "metadata": {},
   "outputs": [
    {
     "data": {
      "application/vnd.jupyter.widget-view+json": {
       "model_id": "802bb94f6858407b892112dae1b592ce",
       "version_major": 2,
       "version_minor": 0
      },
      "text/plain": []
     },
     "metadata": {},
     "output_type": "display_data"
    }
   ],
   "source": [
    "import openmm as mm\n",
    "from openmm import app\n",
    "from openmm import unit\n",
    "\n",
    "import molsysmt as msm\n",
    "from molsysmt import pyunitwizard as puw"
   ]
  },
  {
   "cell_type": "code",
   "execution_count": 2,
   "id": "85ac861d-55e6-4bb4-bb6a-841e6a402e3d",
   "metadata": {},
   "outputs": [],
   "source": [
    "molsys = msm.convert('4POC')\n",
    "molsys = msm.extract(molsys, selection='molecule_type==\"protein\"')\n",
    "molsys = msm.build.add_missing_hydrogens(molsys)\n",
    "molsys = msm.build.solvate(molsys)\n",
    "\n",
    "topology = msm.convert(molsys, 'openmm.Topology')\n",
    "coordinates = msm.get(molsys, coordinates=True)\n",
    "positions = puw.convert(coordinates[0], to_form='openmm.unit')"
   ]
  },
  {
   "cell_type": "code",
   "execution_count": 3,
   "id": "c039a7fd-decc-4874-8079-4c79f0207c8b",
   "metadata": {},
   "outputs": [],
   "source": [
    "forcefield = app.ForceField('amber14-all.xml', 'amber14/tip3p.xml')\n",
    "system = forcefield.createSystem(topology, nonbondedMethod=app.PME,\n",
    "        nonbondedCutoff=1.2*unit.nanometer, constraints=app.HBonds)\n",
    "integrator = mm.LangevinIntegrator(300*unit.kelvin, 1.0/unit.picosecond, 2.0*unit.femtoseconds)\n",
    "platform = mm.Platform.getPlatformByName(\"CUDA\")\n",
    "simulation = app.Simulation(topology, system, integrator, platform)\n",
    "simulation.context.setPositions(positions)\n",
    "simulation.minimizeEnergy()\n",
    "simulation.context.setVelocitiesToTemperature(300*unit.kelvin)"
   ]
  },
  {
   "cell_type": "code",
   "execution_count": 4,
   "id": "d3713024-a912-4e5b-9d0d-375088e15e3d",
   "metadata": {},
   "outputs": [],
   "source": [
    "from molsysmt.thirds.openmm.reporters import MSMH5Reporter, TQDMReporter"
   ]
  },
  {
   "cell_type": "code",
   "execution_count": 5,
   "id": "79d1887a-7876-48a9-8cfc-18ce86d1aefe",
   "metadata": {},
   "outputs": [],
   "source": [
    "tqdm_reporter = TQDMReporter(1000, 50000)\n",
    "simulation.reporters.append(tqdm_reporter)"
   ]
  },
  {
   "cell_type": "code",
   "execution_count": 6,
   "id": "3d99c226-af53-47cc-8c47-1881a91a1c90",
   "metadata": {},
   "outputs": [],
   "source": [
    "msmh5_reporter = MSMH5Reporter('traj.msmh5', 1000, steps=50000, selection='all',\n",
    "            topology=topology, time=True, box=True, coordinates=True, velocities=False,\n",
    "            potentialEnergy=True, kineticEnergy=True, temperature=True,\n",
    "            includeInitialContext=True, constantReportInterval=True,\n",
    "            constantStepSize=True, constantBox=True,\n",
    "            auto_close=True)\n",
    "simulation.reporters.append(msmh5_reporter)"
   ]
  },
  {
   "cell_type": "code",
   "execution_count": 7,
   "id": "b33d9c72-bdf4-4226-b54b-e4db282f11c4",
   "metadata": {},
   "outputs": [
    {
     "data": {
      "application/vnd.jupyter.widget-view+json": {
       "model_id": "31d59e3907e74a1783a03d9934589a9b",
       "version_major": 2,
       "version_minor": 0
      },
      "text/plain": [
       "  0%|          | 0/50000 [00:00<?, ?it/s]"
      ]
     },
     "metadata": {},
     "output_type": "display_data"
    },
    {
     "name": "stdout",
     "output_type": "stream",
     "text": [
      "\n",
      "Potential energy: -534329.36 kJ/mol ± 20050.53 kJ/mol\n",
      "Temperature: 299.14 K ± 4.11 K\n",
      "\n",
      "Execution time: 0 days, 0 hours, 0 minutes, and 55.76 seconds (154.961 ns/day).\n",
      "\n"
     ]
    }
   ],
   "source": [
    "simulation.step(50000)"
   ]
  },
  {
   "cell_type": "markdown",
   "id": "6f264fab-52d8-4b7f-beb6-dfa48a0fa62e",
   "metadata": {},
   "source": [
    "## A first glance at the msmh5 file"
   ]
  },
  {
   "cell_type": "code",
   "execution_count": 9,
   "id": "42db3f15-d6b1-47e6-9dd5-a260a72a8794",
   "metadata": {},
   "outputs": [],
   "source": [
    "aa = msm.convert('traj.msmh5', 'molsysmt.MSMH5FileHandler')"
   ]
  },
  {
   "cell_type": "code",
   "execution_count": 17,
   "id": "33a0beb9-6386-45e3-979b-9d37aadaf930",
   "metadata": {},
   "outputs": [
    {
     "data": {
      "text/plain": [
       "True"
      ]
     },
     "execution_count": 17,
     "metadata": {},
     "output_type": "execute_result"
    }
   ],
   "source": [
    "'topology' in aa.file"
   ]
  },
  {
   "cell_type": "code",
   "execution_count": 16,
   "id": "4de2a6a7-4718-4786-9a3b-2a4e9d269d10",
   "metadata": {},
   "outputs": [
    {
     "data": {
      "text/plain": [
       "44527"
      ]
     },
     "execution_count": 16,
     "metadata": {},
     "output_type": "execute_result"
    }
   ],
   "source": [
    "aa.file['topology']['atoms'].attrs['n_atoms']"
   ]
  },
  {
   "cell_type": "code",
   "execution_count": 8,
   "id": "d066abf0-4110-4615-b078-ae308ae0873a",
   "metadata": {},
   "outputs": [
    {
     "ename": "NotImplementedError",
     "evalue": "",
     "output_type": "error",
     "traceback": [
      "\u001b[0;31m---------------------------------------------------------------------------\u001b[0m",
      "\u001b[0;31mNotImplementedError\u001b[0m                       Traceback (most recent call last)",
      "Cell \u001b[0;32mIn[8], line 1\u001b[0m\n\u001b[0;32m----> 1\u001b[0m \u001b[43mmsm\u001b[49m\u001b[38;5;241;43m.\u001b[39;49m\u001b[43minfo\u001b[49m\u001b[43m(\u001b[49m\u001b[38;5;124;43m'\u001b[39;49m\u001b[38;5;124;43mtraj.msmh5\u001b[39;49m\u001b[38;5;124;43m'\u001b[39;49m\u001b[43m)\u001b[49m\n",
      "File \u001b[0;32m~/repos@uibcdf/MolSysMT/molsysmt/_private/digestion/digest.py:119\u001b[0m, in \u001b[0;36mdigest.<locals>.digestor.<locals>.wrapper\u001b[0;34m(*args, **kwargs)\u001b[0m\n\u001b[1;32m    117\u001b[0m     \u001b[38;5;28;01mreturn\u001b[39;00m func(all_args[\u001b[38;5;124m'\u001b[39m\u001b[38;5;124mself\u001b[39m\u001b[38;5;124m'\u001b[39m], \u001b[38;5;241m*\u001b[39m\u001b[38;5;241m*\u001b[39mfinal_args)\n\u001b[1;32m    118\u001b[0m \u001b[38;5;28;01melse\u001b[39;00m:\n\u001b[0;32m--> 119\u001b[0m     \u001b[38;5;28;01mreturn\u001b[39;00m \u001b[43mfunc\u001b[49m\u001b[43m(\u001b[49m\u001b[38;5;241;43m*\u001b[39;49m\u001b[38;5;241;43m*\u001b[39;49m\u001b[43mfinal_args\u001b[49m\u001b[43m)\u001b[49m\n",
      "File \u001b[0;32m~/repos@uibcdf/MolSysMT/molsysmt/basic/info.py:345\u001b[0m, in \u001b[0;36minfo\u001b[0;34m(molecular_system, element, selection, syntax)\u001b[0m\n\u001b[1;32m    336\u001b[0m     \u001b[38;5;28;01mreturn\u001b[39;00m df({\u001b[38;5;124m'\u001b[39m\u001b[38;5;124mindex\u001b[39m\u001b[38;5;124m'\u001b[39m: entity_index, \u001b[38;5;124m'\u001b[39m\u001b[38;5;124mname\u001b[39m\u001b[38;5;124m'\u001b[39m: entity_name, \u001b[38;5;124m'\u001b[39m\u001b[38;5;124mtype\u001b[39m\u001b[38;5;124m'\u001b[39m: entity_type,\n\u001b[1;32m    337\u001b[0m                \u001b[38;5;124m'\u001b[39m\u001b[38;5;124mn atoms\u001b[39m\u001b[38;5;124m'\u001b[39m: n_atoms, \u001b[38;5;124m'\u001b[39m\u001b[38;5;124mn groups\u001b[39m\u001b[38;5;124m'\u001b[39m: n_groups, \u001b[38;5;124m'\u001b[39m\u001b[38;5;124mn components\u001b[39m\u001b[38;5;124m'\u001b[39m: n_components,\n\u001b[1;32m    338\u001b[0m                \u001b[38;5;124m'\u001b[39m\u001b[38;5;124mn chains\u001b[39m\u001b[38;5;124m'\u001b[39m: n_chains, \u001b[38;5;124m'\u001b[39m\u001b[38;5;124mn molecules\u001b[39m\u001b[38;5;124m'\u001b[39m: n_molecules\n\u001b[1;32m    339\u001b[0m                })\u001b[38;5;241m.\u001b[39mstyle\u001b[38;5;241m.\u001b[39mhide(axis\u001b[38;5;241m=\u001b[39m\u001b[38;5;124m'\u001b[39m\u001b[38;5;124mindex\u001b[39m\u001b[38;5;124m'\u001b[39m)\n\u001b[1;32m    341\u001b[0m \u001b[38;5;28;01melif\u001b[39;00m element \u001b[38;5;241m==\u001b[39m \u001b[38;5;124m'\u001b[39m\u001b[38;5;124msystem\u001b[39m\u001b[38;5;124m'\u001b[39m:\n\u001b[1;32m    343\u001b[0m     n_atoms, n_groups, n_components, n_chains, n_molecules, n_entities, n_structures, \\\n\u001b[1;32m    344\u001b[0m     n_ions, n_waters, n_small_molecules, n_peptides, n_proteins, n_dnas, \\\n\u001b[0;32m--> 345\u001b[0m     n_rnas, n_lipids, n_oligosaccharides, n_saccharides \u001b[38;5;241m=\u001b[39m \u001b[43mget\u001b[49m\u001b[43m(\u001b[49m\u001b[43mmolecular_system\u001b[49m\u001b[43m,\u001b[49m\u001b[43m \u001b[49m\u001b[43melement\u001b[49m\u001b[38;5;241;43m=\u001b[39;49m\u001b[43melement\u001b[49m\u001b[43m,\u001b[49m\u001b[43m \u001b[49m\u001b[43mn_atoms\u001b[49m\u001b[38;5;241;43m=\u001b[39;49m\u001b[38;5;28;43;01mTrue\u001b[39;49;00m\u001b[43m,\u001b[49m\u001b[43m \u001b[49m\u001b[43mn_groups\u001b[49m\u001b[38;5;241;43m=\u001b[39;49m\u001b[38;5;28;43;01mTrue\u001b[39;49;00m\u001b[43m,\u001b[49m\n\u001b[1;32m    346\u001b[0m \u001b[43m            \u001b[49m\u001b[43mn_components\u001b[49m\u001b[38;5;241;43m=\u001b[39;49m\u001b[38;5;28;43;01mTrue\u001b[39;49;00m\u001b[43m,\u001b[49m\u001b[43m \u001b[49m\u001b[43mn_chains\u001b[49m\u001b[38;5;241;43m=\u001b[39;49m\u001b[38;5;28;43;01mTrue\u001b[39;49;00m\u001b[43m,\u001b[49m\u001b[43m \u001b[49m\u001b[43mn_molecules\u001b[49m\u001b[38;5;241;43m=\u001b[39;49m\u001b[38;5;28;43;01mTrue\u001b[39;49;00m\u001b[43m,\u001b[49m\u001b[43m \u001b[49m\u001b[43mn_entities\u001b[49m\u001b[38;5;241;43m=\u001b[39;49m\u001b[38;5;28;43;01mTrue\u001b[39;49;00m\u001b[43m,\u001b[49m\u001b[43m \u001b[49m\u001b[43mn_structures\u001b[49m\u001b[38;5;241;43m=\u001b[39;49m\u001b[38;5;28;43;01mTrue\u001b[39;49;00m\u001b[43m,\u001b[49m\u001b[43m \u001b[49m\u001b[43mn_ions\u001b[49m\u001b[38;5;241;43m=\u001b[39;49m\u001b[38;5;28;43;01mTrue\u001b[39;49;00m\u001b[43m,\u001b[49m\n\u001b[1;32m    347\u001b[0m \u001b[43m            \u001b[49m\u001b[43mn_waters\u001b[49m\u001b[38;5;241;43m=\u001b[39;49m\u001b[38;5;28;43;01mTrue\u001b[39;49;00m\u001b[43m,\u001b[49m\u001b[43m \u001b[49m\u001b[43mn_small_molecules\u001b[49m\u001b[38;5;241;43m=\u001b[39;49m\u001b[38;5;28;43;01mTrue\u001b[39;49;00m\u001b[43m,\u001b[49m\u001b[43m \u001b[49m\u001b[43mn_peptides\u001b[49m\u001b[38;5;241;43m=\u001b[39;49m\u001b[38;5;28;43;01mTrue\u001b[39;49;00m\u001b[43m,\u001b[49m\u001b[43m \u001b[49m\u001b[43mn_proteins\u001b[49m\u001b[38;5;241;43m=\u001b[39;49m\u001b[38;5;28;43;01mTrue\u001b[39;49;00m\u001b[43m,\u001b[49m\u001b[43m \u001b[49m\u001b[43mn_dnas\u001b[49m\u001b[38;5;241;43m=\u001b[39;49m\u001b[38;5;28;43;01mTrue\u001b[39;49;00m\u001b[43m,\u001b[49m\n\u001b[1;32m    348\u001b[0m \u001b[43m            \u001b[49m\u001b[43mn_rnas\u001b[49m\u001b[38;5;241;43m=\u001b[39;49m\u001b[38;5;28;43;01mTrue\u001b[39;49;00m\u001b[43m,\u001b[49m\u001b[43m \u001b[49m\u001b[43mn_lipids\u001b[49m\u001b[38;5;241;43m=\u001b[39;49m\u001b[38;5;28;43;01mTrue\u001b[39;49;00m\u001b[43m,\u001b[49m\u001b[43m \u001b[49m\u001b[43mn_oligosaccharides\u001b[49m\u001b[38;5;241;43m=\u001b[39;49m\u001b[38;5;28;43;01mTrue\u001b[39;49;00m\u001b[43m,\u001b[49m\u001b[43m \u001b[49m\u001b[43mn_saccharides\u001b[49m\u001b[38;5;241;43m=\u001b[39;49m\u001b[38;5;28;43;01mTrue\u001b[39;49;00m\u001b[43m)\u001b[49m\n\u001b[1;32m    350\u001b[0m     \u001b[38;5;28;01mif\u001b[39;00m \u001b[38;5;129;01mnot\u001b[39;00m attributes_filter[\u001b[38;5;124m'\u001b[39m\u001b[38;5;124mn_atoms\u001b[39m\u001b[38;5;124m'\u001b[39m]: n_atoms\u001b[38;5;241m=\u001b[39m\u001b[38;5;28;01mNone\u001b[39;00m\n\u001b[1;32m    351\u001b[0m     \u001b[38;5;28;01mif\u001b[39;00m \u001b[38;5;129;01mnot\u001b[39;00m attributes_filter[\u001b[38;5;124m'\u001b[39m\u001b[38;5;124mn_groups\u001b[39m\u001b[38;5;124m'\u001b[39m]: n_groups\u001b[38;5;241m=\u001b[39m\u001b[38;5;28;01mNone\u001b[39;00m\n",
      "File \u001b[0;32m~/repos@uibcdf/MolSysMT/molsysmt/_private/digestion/digest.py:106\u001b[0m, in \u001b[0;36mdigest.<locals>.digestor.<locals>.wrapper\u001b[0;34m(*args, **kwargs)\u001b[0m\n\u001b[1;32m    102\u001b[0m     \u001b[38;5;28;01mpass\u001b[39;00m\n\u001b[1;32m    105\u001b[0m \u001b[38;5;28;01mfor\u001b[39;00m arg_name \u001b[38;5;129;01min\u001b[39;00m all_args:\n\u001b[0;32m--> 106\u001b[0m     \u001b[43mgut\u001b[49m\u001b[43m(\u001b[49m\u001b[43marg_name\u001b[49m\u001b[43m)\u001b[49m\n\u001b[1;32m    109\u001b[0m \u001b[38;5;28;01mfor\u001b[39;00m arg_name \u001b[38;5;129;01min\u001b[39;00m not_digested_args:\n\u001b[1;32m    110\u001b[0m     \u001b[38;5;28;01mif\u001b[39;00m arg_name \u001b[38;5;129;01mnot\u001b[39;00m \u001b[38;5;129;01min\u001b[39;00m [\u001b[38;5;124m'\u001b[39m\u001b[38;5;124mself\u001b[39m\u001b[38;5;124m'\u001b[39m]:\n",
      "File \u001b[0;32m~/repos@uibcdf/MolSysMT/molsysmt/_private/digestion/digest.py:97\u001b[0m, in \u001b[0;36mdigest.<locals>.digestor.<locals>.wrapper.<locals>.gut\u001b[0;34m(arg_name)\u001b[0m\n\u001b[1;32m     95\u001b[0m         \u001b[38;5;28;01melse\u001b[39;00m:\n\u001b[1;32m     96\u001b[0m             parameters_dict[parameter] \u001b[38;5;241m=\u001b[39m \u001b[38;5;28;01mNone\u001b[39;00m\n\u001b[0;32m---> 97\u001b[0m     digested_args[arg_name] \u001b[38;5;241m=\u001b[39m \u001b[43mdigestion_functions\u001b[49m\u001b[43m[\u001b[49m\u001b[43marg_name\u001b[49m\u001b[43m]\u001b[49m\u001b[43m(\u001b[49m\u001b[43mall_args\u001b[49m\u001b[43m[\u001b[49m\u001b[43marg_name\u001b[49m\u001b[43m]\u001b[49m\u001b[43m,\u001b[49m\n\u001b[1;32m     98\u001b[0m \u001b[43m                                                  \u001b[49m\u001b[43mcaller\u001b[49m\u001b[38;5;241;43m=\u001b[39;49m\u001b[43mcaller\u001b[49m\u001b[43m,\u001b[49m\n\u001b[1;32m     99\u001b[0m \u001b[43m                                                  \u001b[49m\u001b[38;5;241;43m*\u001b[39;49m\u001b[38;5;241;43m*\u001b[39;49m\u001b[43mparameters_dict\u001b[49m\u001b[43m)\u001b[49m\n\u001b[1;32m    100\u001b[0m \u001b[38;5;28;01melse\u001b[39;00m:\n\u001b[1;32m    101\u001b[0m     not_digested_args[arg_name] \u001b[38;5;241m=\u001b[39m all_args[arg_name]\n",
      "File \u001b[0;32m~/repos@uibcdf/MolSysMT/molsysmt/_private/digestion/argument/molecular_system.py:41\u001b[0m, in \u001b[0;36mdigest_molecular_system\u001b[0;34m(molecular_system, caller)\u001b[0m\n\u001b[1;32m     38\u001b[0m     \u001b[38;5;28;01melif\u001b[39;00m are_multiple_molecular_systems(molecular_system):\n\u001b[1;32m     39\u001b[0m         \u001b[38;5;28;01mreturn\u001b[39;00m merge(molecular_system, to_form\u001b[38;5;241m=\u001b[39m\u001b[38;5;124m'\u001b[39m\u001b[38;5;124mmolsysmt.MolSys\u001b[39m\u001b[38;5;124m'\u001b[39m)\n\u001b[0;32m---> 41\u001b[0m \u001b[38;5;28;01mif\u001b[39;00m \u001b[43mis_a_molecular_system\u001b[49m\u001b[43m(\u001b[49m\u001b[43mmolecular_system\u001b[49m\u001b[43m)\u001b[49m:\n\u001b[1;32m     42\u001b[0m     \u001b[38;5;28;01mreturn\u001b[39;00m molecular_system\n\u001b[1;32m     44\u001b[0m \u001b[38;5;28;01mraise\u001b[39;00m ArgumentError(\u001b[38;5;124m'\u001b[39m\u001b[38;5;124mmolecular_system\u001b[39m\u001b[38;5;124m'\u001b[39m, value\u001b[38;5;241m=\u001b[39mmolecular_system, caller\u001b[38;5;241m=\u001b[39mcaller, message\u001b[38;5;241m=\u001b[39m\u001b[38;5;28;01mNone\u001b[39;00m)\n",
      "File \u001b[0;32m~/repos@uibcdf/MolSysMT/molsysmt/basic/is_a_molecular_system.py:87\u001b[0m, in \u001b[0;36mis_a_molecular_system\u001b[0;34m(molecular_system)\u001b[0m\n\u001b[1;32m     83\u001b[0m \u001b[38;5;28;01mfor\u001b[39;00m item \u001b[38;5;129;01min\u001b[39;00m molecular_system:\n\u001b[1;32m     85\u001b[0m     form_in \u001b[38;5;241m=\u001b[39m get_form(item)\n\u001b[0;32m---> 87\u001b[0m     list_n_atoms\u001b[38;5;241m.\u001b[39mappend(\u001b[43m_dict_modules\u001b[49m\u001b[43m[\u001b[49m\u001b[43mform_in\u001b[49m\u001b[43m]\u001b[49m\u001b[38;5;241;43m.\u001b[39;49m\u001b[43mget_n_atoms_from_system\u001b[49m\u001b[43m(\u001b[49m\u001b[43mitem\u001b[49m\u001b[43m)\u001b[49m)\n\u001b[1;32m     89\u001b[0m set_n_atoms \u001b[38;5;241m=\u001b[39m \u001b[38;5;28mset\u001b[39m([ii \u001b[38;5;28;01mfor\u001b[39;00m ii \u001b[38;5;129;01min\u001b[39;00m list_n_atoms \u001b[38;5;28;01mif\u001b[39;00m ii \u001b[38;5;129;01mis\u001b[39;00m \u001b[38;5;129;01mnot\u001b[39;00m \u001b[38;5;28;01mNone\u001b[39;00m])\n\u001b[1;32m     91\u001b[0m \u001b[38;5;28;01mif\u001b[39;00m \u001b[38;5;28mlen\u001b[39m(set_n_atoms)\u001b[38;5;241m>\u001b[39m\u001b[38;5;241m1\u001b[39m:\n",
      "File \u001b[0;32m~/repos@uibcdf/MolSysMT/molsysmt/_private/digestion/digest.py:119\u001b[0m, in \u001b[0;36mdigest.<locals>.digestor.<locals>.wrapper\u001b[0;34m(*args, **kwargs)\u001b[0m\n\u001b[1;32m    117\u001b[0m     \u001b[38;5;28;01mreturn\u001b[39;00m func(all_args[\u001b[38;5;124m'\u001b[39m\u001b[38;5;124mself\u001b[39m\u001b[38;5;124m'\u001b[39m], \u001b[38;5;241m*\u001b[39m\u001b[38;5;241m*\u001b[39mfinal_args)\n\u001b[1;32m    118\u001b[0m \u001b[38;5;28;01melse\u001b[39;00m:\n\u001b[0;32m--> 119\u001b[0m     \u001b[38;5;28;01mreturn\u001b[39;00m \u001b[43mfunc\u001b[49m\u001b[43m(\u001b[49m\u001b[38;5;241;43m*\u001b[39;49m\u001b[38;5;241;43m*\u001b[39;49m\u001b[43mfinal_args\u001b[49m\u001b[43m)\u001b[49m\n",
      "File \u001b[0;32m~/repos@uibcdf/MolSysMT/molsysmt/form/file_msmh5/get.py:162\u001b[0m, in \u001b[0;36mget_n_atoms_from_system\u001b[0;34m(item)\u001b[0m\n\u001b[1;32m    159\u001b[0m \u001b[38;5;129m@digest\u001b[39m(form\u001b[38;5;241m=\u001b[39mform)\n\u001b[1;32m    160\u001b[0m \u001b[38;5;28;01mdef\u001b[39;00m \u001b[38;5;21mget_n_atoms_from_system\u001b[39m(item):\n\u001b[0;32m--> 162\u001b[0m     \u001b[38;5;28;01mraise\u001b[39;00m \u001b[38;5;167;01mNotImplementedError\u001b[39;00m\n",
      "\u001b[0;31mNotImplementedError\u001b[0m: "
     ]
    }
   ],
   "source": [
    "msm.get('traj.msmh5', n_lipids=True)"
   ]
  },
  {
   "cell_type": "markdown",
   "id": "6c39487f-c3d9-45a6-817c-d90a29c0868c",
   "metadata": {},
   "source": [
    "## Extract a new msmh5 file"
   ]
  },
  {
   "cell_type": "code",
   "execution_count": null,
   "id": "e848e862-0847-4ab2-b120-d39bd43e4125",
   "metadata": {},
   "outputs": [],
   "source": []
  }
 ],
 "metadata": {
  "kernelspec": {
   "display_name": "Python 3 (ipykernel)",
   "language": "python",
   "name": "python3"
  },
  "language_info": {
   "codemirror_mode": {
    "name": "ipython",
    "version": 3
   },
   "file_extension": ".py",
   "mimetype": "text/x-python",
   "name": "python",
   "nbconvert_exporter": "python",
   "pygments_lexer": "ipython3",
   "version": "3.10.13"
  }
 },
 "nbformat": 4,
 "nbformat_minor": 5
}
