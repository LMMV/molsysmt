{
 "cells": [
  {
   "cell_type": "code",
   "execution_count": 1,
   "id": "98d13508-3d03-4d04-a7d6-27a8b6e6f7d0",
   "metadata": {
    "tags": [
     "remove-input"
    ]
   },
   "outputs": [],
   "source": [
    "# This cell is removed with the tag: \"remove-input\"\n",
    "# As such, it will not be shown in documentation\n",
    "\n",
    "import warnings\n",
    "warnings.filterwarnings('ignore')\n",
    "\n",
    "nglview_static_dir = '../../../../_static/nglview/user/thirds/nglview/color_by_value/'"
   ]
  },
  {
   "cell_type": "markdown",
   "id": "9ed213c8-488c-4943-9aa1-eeeba27a81c5",
   "metadata": {},
   "source": [
    "(UserGuide_Thirds_NGLView_ColorByValue)=\n",
    "# Color by value\n",
    "*Coloring elements by scalar values*\n",
    "\n"
   ]
  },
  {
   "cell_type": "code",
   "execution_count": 2,
   "id": "bc0f835d-ba4c-4bf1-92e3-8c31bdc978aa",
   "metadata": {},
   "outputs": [
    {
     "data": {
      "application/vnd.jupyter.widget-view+json": {
       "model_id": "4caef4621a254f9e9e97077c285c7462",
       "version_major": 2,
       "version_minor": 0
      },
      "text/plain": []
     },
     "metadata": {},
     "output_type": "display_data"
    }
   ],
   "source": [
    "import molsysmt as msm"
   ]
  },
  {
   "cell_type": "code",
   "execution_count": 3,
   "id": "b02fbbba-d420-4f71-aa06-1f4650a05403",
   "metadata": {},
   "outputs": [],
   "source": [
    "molecular_system = msm.convert('181L', selection='molecule_type==\"protein\"')"
   ]
  },
  {
   "cell_type": "code",
   "execution_count": 4,
   "id": "5ffc0494-72c7-4bf2-aeb3-c3373a2c7594",
   "metadata": {},
   "outputs": [],
   "source": [
    "charge_residues = msm.physchem.charge(molecular_system, element='group', definition='physical_pH7')"
   ]
  },
  {
   "cell_type": "code",
   "execution_count": 7,
   "id": "9f15ac94-ce1c-4515-921a-abef2c1d9224",
   "metadata": {},
   "outputs": [
    {
     "data": {
      "text/html": [
       "<table><tbody><tr><th>Magnitude</th><td style='text-align:left;'><pre>[0.0 0.0 0.0 0.0 -1.0 0.0 0.0 1.0 0.0 -1.0 -1.0 0.0 0.0 1.0 0.0 1.0 0.0<br> 0.0 1.0 -1.0 0.0 -1.0 0.0 0.0 0.0 0.0 0.0 0.0 0.0 0.0 0.1 0.0 0.0 0.0 1.0<br> 0.0 0.0 0.0 0.0 0.0 0.0 0.0 1.0 0.0 -1.0 0.0 -1.0 1.0 0.0 0.0 0.0 1.0 0.0<br> 0.0 0.0 0.0 0.0 0.0 0.0 1.0 -1.0 -1.0 0.0 -1.0 1.0 0.0 0.0 0.0 0.0 -1.0<br> 0.0 -1.0 0.0 0.0 0.0 1.0 0.0 0.0 0.0 1.0 0.0 0.0 1.0 0.0 1.0 0.0 0.0 0.0<br> -1.0 0.0 0.0 -1.0 0.0 0.0 1.0 1.0 0.0 0.0 0.0 0.0 0.0 0.0 0.0 0.0 0.0 0.0<br> 0.0 -1.0 0.0 0.0 0.0 0.0 0.0 0.0 0.0 0.0 0.0 0.0 1.0 0.0 0.0 0.0 0.0 1.0<br> 1.0 0.0 -1.0 -1.0 0.0 0.0 0.0 0.0 0.0 0.0 1.0 0.0 1.0 0.0 0.0 0.0 0.0 0.0<br> 0.0 0.0 1.0 0.0 1.0 1.0 0.0 0.0 0.0 0.0 0.0 1.0 0.0 0.0 0.0 0.0 -1.0 0.0<br> 0.0 1.0]</pre></td></tr><tr><th>Units</th><td style='text-align:left;'>elementary_charge</td></tr></tbody></table>"
      ],
      "text/latex": [
       "$\\begin{pmatrix}0.0 & 0.0 & 0.0 & 0.0 & -1.0 & 0.0 & 0.0 & 1.0 & 0.0 & -1.0 & -1.0 & 0.0 & 0.0 & 1.0 & 0.0 & 1.0 & 0.0 & 0.0 & 1.0 & -1.0 & 0.0 & -1.0 & 0.0 & 0.0 & 0.0 & 0.0 & 0.0 & 0.0 & 0.0 & 0.0 & 0.1 & 0.0 & 0.0 & 0.0 & 1.0 & 0.0 & 0.0 & 0.0 & 0.0 & 0.0 & 0.0 & 0.0 & 1.0 & 0.0 & -1.0 & 0.0 & -1.0 & 1.0 & 0.0 & 0.0 & 0.0 & 1.0 & 0.0 & 0.0 & 0.0 & 0.0 & 0.0 & 0.0 & 0.0 & 1.0 & -1.0 & -1.0 & 0.0 & -1.0 & 1.0 & 0.0 & 0.0 & 0.0 & 0.0 & -1.0 & 0.0 & -1.0 & 0.0 & 0.0 & 0.0 & 1.0 & 0.0 & 0.0 & 0.0 & 1.0 & 0.0 & 0.0 & 1.0 & 0.0 & 1.0 & 0.0 & 0.0 & 0.0 & -1.0 & 0.0 & 0.0 & -1.0 & 0.0 & 0.0 & 1.0 & 1.0 & 0.0 & 0.0 & 0.0 & 0.0 & 0.0 & 0.0 & 0.0 & 0.0 & 0.0 & 0.0 & 0.0 & -1.0 & 0.0 & 0.0 & 0.0 & 0.0 & 0.0 & 0.0 & 0.0 & 0.0 & 0.0 & 0.0 & 1.0 & 0.0 & 0.0 & 0.0 & 0.0 & 1.0 & 1.0 & 0.0 & -1.0 & -1.0 & 0.0 & 0.0 & 0.0 & 0.0 & 0.0 & 0.0 & 1.0 & 0.0 & 1.0 & 0.0 & 0.0 & 0.0 & 0.0 & 0.0 & 0.0 & 0.0 & 1.0 & 0.0 & 1.0 & 1.0 & 0.0 & 0.0 & 0.0 & 0.0 & 0.0 & 1.0 & 0.0 & 0.0 & 0.0 & 0.0 & -1.0 & 0.0 & 0.0 & 1.0\\end{pmatrix}\\ \\mathrm{elementary\\_charge}$"
      ],
      "text/plain": [
       "array([ 0. ,  0. ,  0. ,  0. , -1. ,  0. ,  0. ,  1. ,  0. , -1. , -1. ,\n",
       "        0. ,  0. ,  1. ,  0. ,  1. ,  0. ,  0. ,  1. , -1. ,  0. , -1. ,\n",
       "        0. ,  0. ,  0. ,  0. ,  0. ,  0. ,  0. ,  0. ,  0.1,  0. ,  0. ,\n",
       "        0. ,  1. ,  0. ,  0. ,  0. ,  0. ,  0. ,  0. ,  0. ,  1. ,  0. ,\n",
       "       -1. ,  0. , -1. ,  1. ,  0. ,  0. ,  0. ,  1. ,  0. ,  0. ,  0. ,\n",
       "        0. ,  0. ,  0. ,  0. ,  1. , -1. , -1. ,  0. , -1. ,  1. ,  0. ,\n",
       "        0. ,  0. ,  0. , -1. ,  0. , -1. ,  0. ,  0. ,  0. ,  1. ,  0. ,\n",
       "        0. ,  0. ,  1. ,  0. ,  0. ,  1. ,  0. ,  1. ,  0. ,  0. ,  0. ,\n",
       "       -1. ,  0. ,  0. , -1. ,  0. ,  0. ,  1. ,  1. ,  0. ,  0. ,  0. ,\n",
       "        0. ,  0. ,  0. ,  0. ,  0. ,  0. ,  0. ,  0. , -1. ,  0. ,  0. ,\n",
       "        0. ,  0. ,  0. ,  0. ,  0. ,  0. ,  0. ,  0. ,  1. ,  0. ,  0. ,\n",
       "        0. ,  0. ,  1. ,  1. ,  0. , -1. , -1. ,  0. ,  0. ,  0. ,  0. ,\n",
       "        0. ,  0. ,  1. ,  0. ,  1. ,  0. ,  0. ,  0. ,  0. ,  0. ,  0. ,\n",
       "        0. ,  1. ,  0. ,  1. ,  1. ,  0. ,  0. ,  0. ,  0. ,  0. ,  1. ,\n",
       "        0. ,  0. ,  0. ,  0. , -1. ,  0. ,  0. ,  1. ]) <Unit('elementary_charge')>"
      ]
     },
     "execution_count": 7,
     "metadata": {},
     "output_type": "execute_result"
    }
   ],
   "source": [
    "charge_residues"
   ]
  },
  {
   "cell_type": "code",
   "execution_count": 8,
   "id": "bf5112d5-d781-4c57-bae8-0d3b4795cb5c",
   "metadata": {},
   "outputs": [],
   "source": [
    "from matplotlib.pyplot import colormaps\n",
    "blue_white_red = colormaps['bwr']"
   ]
  },
  {
   "cell_type": "code",
   "execution_count": 9,
   "id": "11d0c570-786d-4332-baff-a5ded5af6e94",
   "metadata": {},
   "outputs": [
    {
     "data": {
      "image/png": "[encoded data removed]",
      "text/html": [
       "<div style=\"vertical-align: middle;\"><strong>bwr</strong> </div><div class=\"cmap\"><img alt=\"bwr colormap\" title=\"bwr\" style=\"border: 1px solid #555;\" src=\"data:image/png;base64,iVBORw0KGgoAAAANSUhEUgAAAgAAAABACAYAAABsv8+/AAAAEnRFWHRUaXRsZQBid3IgY29sb3JtYXC/MXXiAAAAGHRFWHREZXNjcmlwdGlvbgBid3IgY29sb3JtYXCzGQe4AAAAMHRFWHRBdXRob3IATWF0cGxvdGxpYiB2My42LjAsIGh0dHBzOi8vbWF0cGxvdGxpYi5vcmfhqHMCAAAAMnRFWHRTb2Z0d2FyZQBNYXRwbG90bGliIHYzLjYuMCwgaHR0cHM6Ly9tYXRwbG90bGliLm9yZ88O7CUAAAFUSURBVHic7dY7DoMwEEDBdbj/kYEUpM+ningzzSLZK1FZb82c58zM4zFTnmtdc9ua59/es3+P/TXn9XEc/z33/Zrnj/9r/7P9d/ec3+r89QwAACUCAACCBAAABAkAAAgSAAAQJAAAIEgAAECQAACAIAEAAEECAACCBAAABAkAAAgSAAAQJAAAIEgAAECQAACAIAEAAEECAACCBAAABAkAAAgSAAAQJAAAIEgAAECQAACAIAEAAEECAACCBAAABAkAAAgSAAAQJAAAIEgAAECQAACAIAEAAEECAACCBAAABAkAAAgSAAAQJAAAIEgAAECQAACAIAEAAEECAACCBAAABAkAAAgSAAAQJAAAIEgAAECQAACAIAEAAEECAACCBAAABAkAAAgSAAAQJAAAIEgAAECQAACAIAEAAEECAACCBAAABAkAAAgSAAAQJAAAIEgAAEDQE4wMAY3mb2DSAAAAAElFTkSuQmCC\"></div><div style=\"vertical-align: middle; max-width: 514px; display: flex; justify-content: space-between;\"><div style=\"float: left;\"><div title=\"#0000ffff\" style=\"display: inline-block; width: 1em; height: 1em; margin: 0; vertical-align: middle; border: 1px solid #555; background-color: #0000ffff;\"></div> under</div><div style=\"margin: 0 auto; display: inline-block;\">bad <div title=\"#00000000\" style=\"display: inline-block; width: 1em; height: 1em; margin: 0; vertical-align: middle; border: 1px solid #555; background-color: #00000000;\"></div></div><div style=\"float: right;\">over <div title=\"#ff0000ff\" style=\"display: inline-block; width: 1em; height: 1em; margin: 0; vertical-align: middle; border: 1px solid #555; background-color: #ff0000ff;\"></div></div>"
      ],
      "text/plain": [
       "<matplotlib.colors.LinearSegmentedColormap at 0x7f193230ccd0>"
      ]
     },
     "execution_count": 9,
     "metadata": {},
     "output_type": "execute_result"
    }
   ],
   "source": [
    "blue_white_red"
   ]
  },
  {
   "cell_type": "code",
   "execution_count": 10,
   "id": "9c81307d-8c28-4884-a626-79650dde12b6",
   "metadata": {},
   "outputs": [
    {
     "data": {
      "application/vnd.jupyter.widget-view+json": {
       "model_id": "7457280b166d4a92a7bdd6f9d7e2c9a7",
       "version_major": 2,
       "version_minor": 0
      },
      "text/plain": [
       "NGLWidget()"
      ]
     },
     "metadata": {},
     "output_type": "display_data"
    }
   ],
   "source": [
    "view = msm.view(molecular_system)\n",
    "view.clear()\n",
    "msm.thirds.nglview.color_by_value(view, charge_residues, element='group', cmap=blue_white_red, representation='cartoon')\n",
    "view"
   ]
  },
  {
   "cell_type": "code",
   "execution_count": 12,
   "id": "10c57d82-d8f0-4566-89ba-6f1cf23be8d8",
   "metadata": {},
   "outputs": [],
   "source": [
    "nv.write_html('charge.html', view)"
   ]
  },
  {
   "cell_type": "code",
   "execution_count": 13,
   "id": "6c8a5cc2-42b6-41b5-af56-d32793da49d2",
   "metadata": {},
   "outputs": [],
   "source": [
    "b_factors = msm.get(molecular_system, element='atom', b_factor=True)"
   ]
  },
  {
   "cell_type": "code",
   "execution_count": 14,
   "id": "3f889d31-0cc9-4f55-aa12-a4993331c16c",
   "metadata": {},
   "outputs": [],
   "source": [
    "white_blue_purple = colormaps['BuPu']"
   ]
  },
  {
   "cell_type": "code",
   "execution_count": 15,
   "id": "5fb7178b-3041-4a4d-b74d-015351954b17",
   "metadata": {},
   "outputs": [
    {
     "data": {
      "image/png": "[encoded data removed]",
      "text/html": [
       "<div style=\"vertical-align: middle;\"><strong>BuPu</strong> </div><div class=\"cmap\"><img alt=\"BuPu colormap\" title=\"BuPu\" style=\"border: 1px solid #555;\" src=\"data:image/png;base64,iVBORw0KGgoAAAANSUhEUgAAAgAAAABACAYAAABsv8+/AAAAE3RFWHRUaXRsZQBCdVB1IGNvbG9ybWFw3zEO0AAAABl0RVh0RGVzY3JpcHRpb24AQnVQdSBjb2xvcm1hcFSDnkgAAAAwdEVYdEF1dGhvcgBNYXRwbG90bGliIHYzLjYuMCwgaHR0cHM6Ly9tYXRwbG90bGliLm9yZ+GocwIAAAAydEVYdFNvZnR3YXJlAE1hdHBsb3RsaWIgdjMuNi4wLCBodHRwczovL21hdHBsb3RsaWIub3Jnzw7sJQAAAfZJREFUeJzt1kFOwzAURVHD/vfLBBwGTSr8U8uhIIH0zplUTlzbKbS6L2/vH1trrW3b1m6v7fbadsf1cbi8f1yp81f3n91va+PE6+eZrFc/j9O81f1n1xmf5+o6fbbOb5179v7TOb+77tXnL885Pc9zz9nquD9+/2nesW4fF57N3/psnav7j9frvLr/ed7kC1LO/++u99m5f3a9ft7f/Vzq3+XLF/Jv9j/Nr+cp+9frZXy/f5rXH8+r69T/u6v7TdZZzlueexz3/Yvb7783s/H+ev8dGcfH/a2MT/Mn+xznuLrucp/V+/d9XxsAEEcAAEAgAQAAgQQAAAQSAAAQSAAAQCABAACBBAAABBIAABBIAABAIAEAAIEEAAAEEgAAEEgAAEAgAQAAgQQAAAQSAAAQSAAAQCABAACBBAAABBIAABBIAABAIAEAAIEEAAAEEgAAEEgAAEAgAQAAgQQAAAQSAAAQSAAAQCABAACBBAAABBIAABBIAABAIAEAAIEEAAAEEgAAEEgAAEAgAQAAgQQAAAQSAAAQSAAAQCABAACBBAAABBIAABBIAABAIAEAAIEEAAAEEgAAEEgAAEAgAQAAgQQAAAQSAAAQSAAAQCABAACBBAAABBIAABBIAABAIAEAAIEEAAAEEgAAEEgAAEAgAQAAgT4B0+gFNVvewLkAAAAASUVORK5CYII=\"></div><div style=\"vertical-align: middle; max-width: 514px; display: flex; justify-content: space-between;\"><div style=\"float: left;\"><div title=\"#f7fcfdff\" style=\"display: inline-block; width: 1em; height: 1em; margin: 0; vertical-align: middle; border: 1px solid #555; background-color: #f7fcfdff;\"></div> under</div><div style=\"margin: 0 auto; display: inline-block;\">bad <div title=\"#00000000\" style=\"display: inline-block; width: 1em; height: 1em; margin: 0; vertical-align: middle; border: 1px solid #555; background-color: #00000000;\"></div></div><div style=\"float: right;\">over <div title=\"#4d004bff\" style=\"display: inline-block; width: 1em; height: 1em; margin: 0; vertical-align: middle; border: 1px solid #555; background-color: #4d004bff;\"></div></div>"
      ],
      "text/plain": [
       "<matplotlib.colors.LinearSegmentedColormap at 0x7f19320491f0>"
      ]
     },
     "execution_count": 15,
     "metadata": {},
     "output_type": "execute_result"
    }
   ],
   "source": [
    "white_blue_purple"
   ]
  },
  {
   "cell_type": "code",
   "execution_count": 16,
   "id": "05e5e813-8849-462e-a0c9-f3acc79b33fd",
   "metadata": {},
   "outputs": [
    {
     "data": {
      "application/vnd.jupyter.widget-view+json": {
       "model_id": "bc5bb4d9de4047fa9aa79e08fa487a54",
       "version_major": 2,
       "version_minor": 0
      },
      "text/plain": [
       "NGLWidget()"
      ]
     },
     "metadata": {},
     "output_type": "display_data"
    }
   ],
   "source": [
    "view = msm.view(molecular_system)\n",
    "view.clear()\n",
    "msm.thirds.nglview.color_by_value(view, b_factors, element='atom', cmap=white_blue_purple, representation='ball_and_stick',\n",
    "                                 min_value=0.0, max_value=max(b_factors))\n",
    "view"
   ]
  },
  {
   "cell_type": "code",
   "execution_count": 17,
   "id": "34b31531-88b8-4a79-925a-47513ca2cf8d",
   "metadata": {},
   "outputs": [],
   "source": [
    "nv.write_html('b_factors.html', view)"
   ]
  },
  {
   "cell_type": "code",
   "execution_count": null,
   "id": "96ba8db7-cfee-42aa-91f9-3b7a81ebfe2b",
   "metadata": {},
   "outputs": [],
   "source": []
  }
 ],
 "metadata": {
  "kernelspec": {
   "display_name": "Python 3 (ipykernel)",
   "language": "python",
   "name": "python3"
  },
  "language_info": {
   "codemirror_mode": {
    "name": "ipython",
    "version": 3
   },
   "file_extension": ".py",
   "mimetype": "text/x-python",
   "name": "python",
   "nbconvert_exporter": "python",
   "pygments_lexer": "ipython3",
   "version": "3.9.13"
  }
 },
 "nbformat": 4,
 "nbformat_minor": 5
}
