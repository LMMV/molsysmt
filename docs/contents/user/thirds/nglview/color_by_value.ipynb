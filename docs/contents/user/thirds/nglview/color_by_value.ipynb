{
 "cells": [
  {
   "cell_type": "code",
   "execution_count": 1,
   "id": "98d13508-3d03-4d04-a7d6-27a8b6e6f7d0",
   "metadata": {
    "tags": [
     "remove-input"
    ]
   },
   "outputs": [],
   "source": [
    "# This cell is removed with the tag: \"remove-input\"\n",
    "# As such, it will not be shown in documentation\n",
    "\n",
    "import warnings\n",
    "warnings.filterwarnings('ignore')\n",
    "\n",
    "nglview_static_dir = '../../../../_static/nglview/user/thirds/nglview/color_by_value/'"
   ]
  },
  {
   "cell_type": "markdown",
   "id": "9ed213c8-488c-4943-9aa1-eeeba27a81c5",
   "metadata": {},
   "source": [
    "(UserGuide_Thirds_NGLView_ColorByValue)=\n",
    "# Color by value\n",
    "*Coloring elements by scalar values*\n",
    "\n"
   ]
  },
  {
   "cell_type": "code",
   "execution_count": 2,
   "id": "bc0f835d-ba4c-4bf1-92e3-8c31bdc978aa",
   "metadata": {},
   "outputs": [
    {
     "data": {
      "application/vnd.jupyter.widget-view+json": {
       "model_id": "0e67cbb80f6740aeb2df32f538a42e51",
       "version_major": 2,
       "version_minor": 0
      },
      "text/plain": []
     },
     "metadata": {},
     "output_type": "display_data"
    }
   ],
   "source": [
    "import molsysmt as msm"
   ]
  },
  {
   "cell_type": "code",
   "execution_count": 3,
   "id": "b02fbbba-d420-4f71-aa06-1f4650a05403",
   "metadata": {},
   "outputs": [],
   "source": [
    "molecular_system = msm.convert('181L', selection='molecule_type==\"protein\"')"
   ]
  },
  {
   "cell_type": "code",
   "execution_count": 4,
   "id": "5ffc0494-72c7-4bf2-aeb3-c3373a2c7594",
   "metadata": {},
   "outputs": [],
   "source": [
    "charge_residues = msm.physchem.charge(molecular_system, element='group', definition='physical_pH7')"
   ]
  },
  {
   "cell_type": "code",
   "execution_count": 5,
   "id": "bf5112d5-d781-4c57-bae8-0d3b4795cb5c",
   "metadata": {},
   "outputs": [],
   "source": [
    "from matplotlib.pyplot import colormaps\n",
    "blue_white_red = colormaps['bwr']"
   ]
  },
  {
   "cell_type": "code",
   "execution_count": 6,
   "id": "11d0c570-786d-4332-baff-a5ded5af6e94",
   "metadata": {},
   "outputs": [
    {
     "data": {
      "image/png": "[encoded data removed]",
      "text/html": [
       "<div style=\"vertical-align: middle;\"><strong>bwr</strong> </div><div class=\"cmap\"><img alt=\"bwr colormap\" title=\"bwr\" style=\"border: 1px solid #555;\" src=\"data:image/png;base64,iVBORw0KGgoAAAANSUhEUgAAAgAAAABACAYAAABsv8+/AAAAEnRFWHRUaXRsZQBid3IgY29sb3JtYXC/MXXiAAAAGHRFWHREZXNjcmlwdGlvbgBid3IgY29sb3JtYXCzGQe4AAAAMHRFWHRBdXRob3IATWF0cGxvdGxpYiB2My42LjAsIGh0dHBzOi8vbWF0cGxvdGxpYi5vcmfhqHMCAAAAMnRFWHRTb2Z0d2FyZQBNYXRwbG90bGliIHYzLjYuMCwgaHR0cHM6Ly9tYXRwbG90bGliLm9yZ88O7CUAAAFUSURBVHic7dY7DoMwEEDBdbj/kYEUpM+ningzzSLZK1FZb82c58zM4zFTnmtdc9ua59/es3+P/TXn9XEc/z33/Zrnj/9r/7P9d/ec3+r89QwAACUCAACCBAAABAkAAAgSAAAQJAAAIEgAAECQAACAIAEAAEECAACCBAAABAkAAAgSAAAQJAAAIEgAAECQAACAIAEAAEECAACCBAAABAkAAAgSAAAQJAAAIEgAAECQAACAIAEAAEECAACCBAAABAkAAAgSAAAQJAAAIEgAAECQAACAIAEAAEECAACCBAAABAkAAAgSAAAQJAAAIEgAAECQAACAIAEAAEECAACCBAAABAkAAAgSAAAQJAAAIEgAAECQAACAIAEAAEECAACCBAAABAkAAAgSAAAQJAAAIEgAAECQAACAIAEAAEECAACCBAAABAkAAAgSAAAQJAAAIEgAAEDQE4wMAY3mb2DSAAAAAElFTkSuQmCC\"></div><div style=\"vertical-align: middle; max-width: 514px; display: flex; justify-content: space-between;\"><div style=\"float: left;\"><div title=\"#0000ffff\" style=\"display: inline-block; width: 1em; height: 1em; margin: 0; vertical-align: middle; border: 1px solid #555; background-color: #0000ffff;\"></div> under</div><div style=\"margin: 0 auto; display: inline-block;\">bad <div title=\"#00000000\" style=\"display: inline-block; width: 1em; height: 1em; margin: 0; vertical-align: middle; border: 1px solid #555; background-color: #00000000;\"></div></div><div style=\"float: right;\">over <div title=\"#ff0000ff\" style=\"display: inline-block; width: 1em; height: 1em; margin: 0; vertical-align: middle; border: 1px solid #555; background-color: #ff0000ff;\"></div></div>"
      ],
      "text/plain": [
       "<matplotlib.colors.LinearSegmentedColormap at 0x7f0aa031f6d0>"
      ]
     },
     "execution_count": 6,
     "metadata": {},
     "output_type": "execute_result"
    }
   ],
   "source": [
    "blue_white_red"
   ]
  },
  {
   "cell_type": "code",
   "execution_count": 8,
   "id": "9c81307d-8c28-4884-a626-79650dde12b6",
   "metadata": {},
   "outputs": [
    {
     "data": {
      "application/vnd.jupyter.widget-view+json": {
       "model_id": "a65fd2332f274bf9b33bf685240eff2b",
       "version_major": 2,
       "version_minor": 0
      },
      "text/plain": [
       "NGLWidget()"
      ]
     },
     "metadata": {},
     "output_type": "display_data"
    }
   ],
   "source": [
    "view = msm.view(molecular_system)\n",
    "msm.thirds.nglview.color_by_value(view, charge_residues, element='group', cmap=blue_white_red, representation='cartoon')\n",
    "view"
   ]
  },
  {
   "cell_type": "code",
   "execution_count": 9,
   "id": "6c8a5cc2-42b6-41b5-af56-d32793da49d2",
   "metadata": {},
   "outputs": [
    {
     "data": {
      "text/plain": [
       "[]"
      ]
     },
     "execution_count": 9,
     "metadata": {},
     "output_type": "execute_result"
    }
   ],
   "source": [
    "msm.get(molecular_system, element='atom', b_factors=True)"
   ]
  },
  {
   "cell_type": "code",
   "execution_count": null,
   "id": "3061cc42-164a-4ec5-94bc-1eee4fc50927",
   "metadata": {},
   "outputs": [],
   "source": [
    "msm.pyunitwizard.get_value(charge_residues)"
   ]
  },
  {
   "cell_type": "code",
   "execution_count": null,
   "id": "df2298da-ff29-4bb2-a01c-9162581ebc9b",
   "metadata": {},
   "outputs": [],
   "source": [
    "view"
   ]
  },
  {
   "cell_type": "markdown",
   "id": "9d18f755-c628-4111-b36e-cdc2f70e4ce5",
   "metadata": {},
   "source": [
    "```{admonition} See also\n",
    ":class: attention\n",
    "{func}`molsysmt.thirds.nglview.color_by_value`\n",
    "```"
   ]
  }
 ],
 "metadata": {
  "kernelspec": {
   "display_name": "Python 3 (ipykernel)",
   "language": "python",
   "name": "python3"
  },
  "language_info": {
   "codemirror_mode": {
    "name": "ipython",
    "version": 3
   },
   "file_extension": ".py",
   "mimetype": "text/x-python",
   "name": "python",
   "nbconvert_exporter": "python",
   "pygments_lexer": "ipython3",
   "version": "3.9.13"
  }
 },
 "nbformat": 4,
 "nbformat_minor": 5
}
