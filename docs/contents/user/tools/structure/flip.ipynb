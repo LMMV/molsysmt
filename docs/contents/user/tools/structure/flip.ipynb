{
 "cells": [
  {
   "cell_type": "code",
   "execution_count": 1,
   "metadata": {
    "execution": {
     "iopub.execute_input": "2025-03-11T21:03:56.795131Z",
     "iopub.status.busy": "2025-03-11T21:03:56.794429Z",
     "iopub.status.idle": "2025-03-11T21:03:56.830453Z",
     "shell.execute_reply": "2025-03-11T21:03:56.829466Z"
    }
   },
   "outputs": [],
   "source": [
    "%load_ext autoreload\n",
    "%autoreload 2"
   ]
  },
  {
   "cell_type": "code",
   "execution_count": 2,
   "metadata": {
    "execution": {
     "iopub.execute_input": "2025-03-11T21:03:56.834139Z",
     "iopub.status.busy": "2025-03-11T21:03:56.833585Z",
     "iopub.status.idle": "2025-03-11T21:04:03.991432Z",
     "shell.execute_reply": "2025-03-11T21:04:03.990534Z"
    }
   },
   "outputs": [
    {
     "data": {
      "application/vnd.jupyter.widget-view+json": {
       "model_id": "018d5a6a7d4146e4b8bdba460841d6b9",
       "version_major": 2,
       "version_minor": 0
      },
      "text/plain": []
     },
     "metadata": {},
     "output_type": "display_data"
    }
   ],
   "source": [
    "import molsysmt as msm\n",
    "import numpy as np"
   ]
  },
  {
   "cell_type": "markdown",
   "metadata": {},
   "source": [
    "# Flip"
   ]
  },
  {
   "cell_type": "code",
   "execution_count": 3,
   "metadata": {
    "execution": {
     "iopub.execute_input": "2025-03-11T21:04:03.995726Z",
     "iopub.status.busy": "2025-03-11T21:04:03.994734Z",
     "iopub.status.idle": "2025-03-11T21:04:05.102704Z",
     "shell.execute_reply": "2025-03-11T21:04:05.101844Z"
    }
   },
   "outputs": [],
   "source": [
    "crd = msm.systems['POPC']['popc.crd']\n",
    "psf = msm.systems['POPC']['popc.psf']\n",
    "molsys = msm.convert([crd, psf])"
   ]
  },
  {
   "cell_type": "code",
   "execution_count": 4,
   "metadata": {
    "execution": {
     "iopub.execute_input": "2025-03-11T21:04:05.107304Z",
     "iopub.status.busy": "2025-03-11T21:04:05.106169Z",
     "iopub.status.idle": "2025-03-11T21:04:07.341213Z",
     "shell.execute_reply": "2025-03-11T21:04:07.340311Z"
    }
   },
   "outputs": [
    {
     "data": {
      "text/html": [
       "<style type=\"text/css\">\n",
       "</style>\n",
       "<table id=\"T_3fb10\">\n",
       "  <thead>\n",
       "    <tr>\n",
       "      <th id=\"T_3fb10_level0_col0\" class=\"col_heading level0 col0\" >index</th>\n",
       "      <th id=\"T_3fb10_level0_col1\" class=\"col_heading level0 col1\" >id</th>\n",
       "      <th id=\"T_3fb10_level0_col2\" class=\"col_heading level0 col2\" >name</th>\n",
       "      <th id=\"T_3fb10_level0_col3\" class=\"col_heading level0 col3\" >type</th>\n",
       "      <th id=\"T_3fb10_level0_col4\" class=\"col_heading level0 col4\" >n atoms</th>\n",
       "      <th id=\"T_3fb10_level0_col5\" class=\"col_heading level0 col5\" >component index</th>\n",
       "      <th id=\"T_3fb10_level0_col6\" class=\"col_heading level0 col6\" >chain index</th>\n",
       "      <th id=\"T_3fb10_level0_col7\" class=\"col_heading level0 col7\" >molecule index</th>\n",
       "      <th id=\"T_3fb10_level0_col8\" class=\"col_heading level0 col8\" >molecule type</th>\n",
       "      <th id=\"T_3fb10_level0_col9\" class=\"col_heading level0 col9\" >entity index</th>\n",
       "      <th id=\"T_3fb10_level0_col10\" class=\"col_heading level0 col10\" >entity name</th>\n",
       "    </tr>\n",
       "  </thead>\n",
       "  <tbody>\n",
       "    <tr>\n",
       "      <td id=\"T_3fb10_row0_col0\" class=\"data row0 col0\" >0</td>\n",
       "      <td id=\"T_3fb10_row0_col1\" class=\"data row0 col1\" >1</td>\n",
       "      <td id=\"T_3fb10_row0_col2\" class=\"data row0 col2\" >POPC</td>\n",
       "      <td id=\"T_3fb10_row0_col3\" class=\"data row0 col3\" >lipid</td>\n",
       "      <td id=\"T_3fb10_row0_col4\" class=\"data row0 col4\" >134</td>\n",
       "      <td id=\"T_3fb10_row0_col5\" class=\"data row0 col5\" >0</td>\n",
       "      <td id=\"T_3fb10_row0_col6\" class=\"data row0 col6\" >0</td>\n",
       "      <td id=\"T_3fb10_row0_col7\" class=\"data row0 col7\" >0</td>\n",
       "      <td id=\"T_3fb10_row0_col8\" class=\"data row0 col8\" >lipid</td>\n",
       "      <td id=\"T_3fb10_row0_col9\" class=\"data row0 col9\" >0</td>\n",
       "      <td id=\"T_3fb10_row0_col10\" class=\"data row0 col10\" >POPC</td>\n",
       "    </tr>\n",
       "  </tbody>\n",
       "</table>\n"
      ],
      "text/plain": [
       "<pandas.io.formats.style.Styler at 0x7f8b6d7d8290>"
      ]
     },
     "execution_count": 4,
     "metadata": {},
     "output_type": "execute_result"
    }
   ],
   "source": [
    "msm.info(molsys, element='group')"
   ]
  },
  {
   "cell_type": "code",
   "execution_count": 5,
   "metadata": {
    "execution": {
     "iopub.execute_input": "2025-03-11T21:04:07.345015Z",
     "iopub.status.busy": "2025-03-11T21:04:07.344599Z",
     "iopub.status.idle": "2025-03-11T21:04:09.197377Z",
     "shell.execute_reply": "2025-03-11T21:04:09.196659Z"
    }
   },
   "outputs": [],
   "source": [
    "molsys = msm.structure.center(molsys, selection='all', center_of_selection='atom_name==\"P\"',\n",
    "                              center_coordinates=[0.0, 0.0, 2.0]*msm.pyunitwizard.quantity('nm'))"
   ]
  },
  {
   "cell_type": "code",
   "execution_count": 6,
   "metadata": {
    "execution": {
     "iopub.execute_input": "2025-03-11T21:04:09.201426Z",
     "iopub.status.busy": "2025-03-11T21:04:09.201064Z",
     "iopub.status.idle": "2025-03-11T21:04:09.707974Z",
     "shell.execute_reply": "2025-03-11T21:04:09.707123Z"
    }
   },
   "outputs": [
    {
     "data": {
      "text/html": [
       "<table><tbody><tr><th>Magnitude</th><td style='text-align:left;'><pre>[[[0.0 0.0 2.0]]]</pre></td></tr><tr><th>Units</th><td style='text-align:left;'>nanometer</td></tr></tbody></table>"
      ],
      "text/latex": [
       "$arr[,0,:,:] = \\begin{pmatrix} &  & \\end{pmatrix}\\ \\mathrm{nanometer}$"
      ],
      "text/plain": [
       "<Quantity([[[0. 0. 2.]]], 'nanometer')>"
      ]
     },
     "execution_count": 6,
     "metadata": {},
     "output_type": "execute_result"
    }
   ],
   "source": [
    "msm.get(molsys, selection='atom_name==\"P\"', coordinates=True)"
   ]
  },
  {
   "cell_type": "code",
   "execution_count": 7,
   "metadata": {
    "execution": {
     "iopub.execute_input": "2025-03-11T21:04:09.716213Z",
     "iopub.status.busy": "2025-03-11T21:04:09.715696Z",
     "iopub.status.idle": "2025-03-11T21:04:10.658644Z",
     "shell.execute_reply": "2025-03-11T21:04:10.657648Z"
    }
   },
   "outputs": [],
   "source": [
    "molsys2 = msm.structure.flip(molsys, vector=[0,0,1], point='[0,0,0] nm')"
   ]
  },
  {
   "cell_type": "code",
   "execution_count": 8,
   "metadata": {
    "execution": {
     "iopub.execute_input": "2025-03-11T21:04:10.661420Z",
     "iopub.status.busy": "2025-03-11T21:04:10.661068Z",
     "iopub.status.idle": "2025-03-11T21:04:11.233501Z",
     "shell.execute_reply": "2025-03-11T21:04:11.232693Z"
    }
   },
   "outputs": [
    {
     "data": {
      "text/html": [
       "<table><tbody><tr><th>Magnitude</th><td style='text-align:left;'><pre>[[[0.0 0.0 -2.0]]]</pre></td></tr><tr><th>Units</th><td style='text-align:left;'>nanometer</td></tr></tbody></table>"
      ],
      "text/latex": [
       "$arr[,0,:,:] = \\begin{pmatrix} &  & \\end{pmatrix}\\ \\mathrm{nanometer}$"
      ],
      "text/plain": [
       "<Quantity([[[ 0.  0. -2.]]], 'nanometer')>"
      ]
     },
     "execution_count": 8,
     "metadata": {},
     "output_type": "execute_result"
    }
   ],
   "source": [
    "msm.get(molsys2, selection='atom_name==\"P\"', coordinates=True)"
   ]
  },
  {
   "cell_type": "code",
   "execution_count": null,
   "metadata": {},
   "outputs": [],
   "source": []
  }
 ],
 "metadata": {
  "kernelspec": {
   "display_name": "Python 3 (ipykernel)",
   "language": "python",
   "name": "python3"
  },
  "language_info": {
   "codemirror_mode": {
    "name": "ipython",
    "version": 3
   },
   "file_extension": ".py",
   "mimetype": "text/x-python",
   "name": "python",
   "nbconvert_exporter": "python",
   "pygments_lexer": "ipython3",
   "version": "3.12.8"
  },
  "widgets": {
   "application/vnd.jupyter.widget-state+json": {
    "state": {
     "018d5a6a7d4146e4b8bdba460841d6b9": {
      "model_module": "nglview-js-widgets",
      "model_module_version": "3.1.4",
      "model_name": "ColormakerRegistryModel",
      "state": {
       "_dom_classes": [],
       "_model_module": "nglview-js-widgets",
       "_model_module_version": "3.1.4",
       "_model_name": "ColormakerRegistryModel",
       "_msg_ar": [],
       "_msg_q": [],
       "_ready": false,
       "_view_count": null,
       "_view_module": "nglview-js-widgets",
       "_view_module_version": "3.1.4",
       "_view_name": "ColormakerRegistryView",
       "layout": "IPY_MODEL_7afc0255bd15412d8ca37747d89ed10f",
       "tabbable": null,
       "tooltip": null
      }
     },
     "7afc0255bd15412d8ca37747d89ed10f": {
      "model_module": "@jupyter-widgets/base",
      "model_module_version": "2.0.0",
      "model_name": "LayoutModel",
      "state": {
       "_model_module": "@jupyter-widgets/base",
       "_model_module_version": "2.0.0",
       "_model_name": "LayoutModel",
       "_view_count": null,
       "_view_module": "@jupyter-widgets/base",
       "_view_module_version": "2.0.0",
       "_view_name": "LayoutView",
       "align_content": null,
       "align_items": null,
       "align_self": null,
       "border_bottom": null,
       "border_left": null,
       "border_right": null,
       "border_top": null,
       "bottom": null,
       "display": null,
       "flex": null,
       "flex_flow": null,
       "grid_area": null,
       "grid_auto_columns": null,
       "grid_auto_flow": null,
       "grid_auto_rows": null,
       "grid_column": null,
       "grid_gap": null,
       "grid_row": null,
       "grid_template_areas": null,
       "grid_template_columns": null,
       "grid_template_rows": null,
       "height": null,
       "justify_content": null,
       "justify_items": null,
       "left": null,
       "margin": null,
       "max_height": null,
       "max_width": null,
       "min_height": null,
       "min_width": null,
       "object_fit": null,
       "object_position": null,
       "order": null,
       "overflow": null,
       "padding": null,
       "right": null,
       "top": null,
       "visibility": null,
       "width": null
      }
     }
    },
    "version_major": 2,
    "version_minor": 0
   }
  }
 },
 "nbformat": 4,
 "nbformat_minor": 4
}
