{
 "cells": [
  {
   "cell_type": "code",
   "execution_count": 1,
   "metadata": {},
   "outputs": [],
   "source": [
    "%load_ext autoreload\n",
    "%autoreload 2"
   ]
  },
  {
   "cell_type": "code",
   "execution_count": 2,
   "metadata": {},
   "outputs": [
    {
     "data": {
      "application/vnd.jupyter.widget-view+json": {
       "model_id": "72fe80f849374c0fbf8e587e32fb4544",
       "version_major": 2,
       "version_minor": 0
      },
      "text/plain": []
     },
     "metadata": {},
     "output_type": "display_data"
    }
   ],
   "source": [
    "import molsysmt as msm\n",
    "import numpy as np"
   ]
  },
  {
   "cell_type": "markdown",
   "metadata": {},
   "source": [
    "# Flip"
   ]
  },
  {
   "cell_type": "code",
   "execution_count": 3,
   "metadata": {},
   "outputs": [],
   "source": [
    "molsys = msm.systems.demo['POPC']['popc.crd']\n",
    "molsys = msm.convert(molsys)"
   ]
  },
  {
   "cell_type": "code",
   "execution_count": 4,
   "metadata": {},
   "outputs": [
    {
     "data": {
      "text/html": [
       "<style type=\"text/css\">\n",
       "</style>\n",
       "<table id=\"T_1ce78\">\n",
       "  <thead>\n",
       "    <tr>\n",
       "      <th id=\"T_1ce78_level0_col0\" class=\"col_heading level0 col0\" >index</th>\n",
       "      <th id=\"T_1ce78_level0_col1\" class=\"col_heading level0 col1\" >id</th>\n",
       "      <th id=\"T_1ce78_level0_col2\" class=\"col_heading level0 col2\" >name</th>\n",
       "      <th id=\"T_1ce78_level0_col3\" class=\"col_heading level0 col3\" >type</th>\n",
       "      <th id=\"T_1ce78_level0_col4\" class=\"col_heading level0 col4\" >n atoms</th>\n",
       "      <th id=\"T_1ce78_level0_col5\" class=\"col_heading level0 col5\" >component index</th>\n",
       "      <th id=\"T_1ce78_level0_col6\" class=\"col_heading level0 col6\" >chain index</th>\n",
       "      <th id=\"T_1ce78_level0_col7\" class=\"col_heading level0 col7\" >molecule index</th>\n",
       "      <th id=\"T_1ce78_level0_col8\" class=\"col_heading level0 col8\" >molecule type</th>\n",
       "      <th id=\"T_1ce78_level0_col9\" class=\"col_heading level0 col9\" >entity index</th>\n",
       "      <th id=\"T_1ce78_level0_col10\" class=\"col_heading level0 col10\" >entity name</th>\n",
       "    </tr>\n",
       "  </thead>\n",
       "  <tbody>\n",
       "    <tr>\n",
       "      <td id=\"T_1ce78_row0_col0\" class=\"data row0 col0\" >0</td>\n",
       "      <td id=\"T_1ce78_row0_col1\" class=\"data row0 col1\" >1</td>\n",
       "      <td id=\"T_1ce78_row0_col2\" class=\"data row0 col2\" >POPC</td>\n",
       "      <td id=\"T_1ce78_row0_col3\" class=\"data row0 col3\" >lipid</td>\n",
       "      <td id=\"T_1ce78_row0_col4\" class=\"data row0 col4\" >134</td>\n",
       "      <td id=\"T_1ce78_row0_col5\" class=\"data row0 col5\" >None</td>\n",
       "      <td id=\"T_1ce78_row0_col6\" class=\"data row0 col6\" >0</td>\n",
       "      <td id=\"T_1ce78_row0_col7\" class=\"data row0 col7\" >None</td>\n",
       "      <td id=\"T_1ce78_row0_col8\" class=\"data row0 col8\" >None</td>\n",
       "      <td id=\"T_1ce78_row0_col9\" class=\"data row0 col9\" >None</td>\n",
       "      <td id=\"T_1ce78_row0_col10\" class=\"data row0 col10\" >None</td>\n",
       "    </tr>\n",
       "  </tbody>\n",
       "</table>\n"
      ],
      "text/plain": [
       "<pandas.io.formats.style.Styler at 0x7f32559aa6b0>"
      ]
     },
     "execution_count": 4,
     "metadata": {},
     "output_type": "execute_result"
    }
   ],
   "source": [
    "msm.info(molsys, element='group')"
   ]
  },
  {
   "cell_type": "code",
   "execution_count": 5,
   "metadata": {},
   "outputs": [],
   "source": [
    "molsys = msm.structure.center(molsys, selection='all', center_of_selection='atom_name==\"P\"',\n",
    "                              center_coordinates=[0.0, 0.0, 2.0]*msm.pyunitwizard.quantity('nm'))"
   ]
  },
  {
   "cell_type": "code",
   "execution_count": 6,
   "metadata": {},
   "outputs": [
    {
     "data": {
      "application/vnd.jupyter.widget-view+json": {
       "model_id": "8b2ca56db976460cb4a61dbea108f07a",
       "version_major": 2,
       "version_minor": 0
      },
      "text/plain": [
       "NGLWidget()"
      ]
     },
     "metadata": {},
     "output_type": "display_data"
    }
   ],
   "source": [
    "msm.view(molsys)"
   ]
  },
  {
   "cell_type": "code",
   "execution_count": 7,
   "metadata": {},
   "outputs": [
    {
     "name": "stderr",
     "output_type": "stream",
     "text": [
      "/tmp/ipykernel_2468012/177113701.py:1: NotDigestedArgumentWarning: The vector from molsysmt.structure.flip.flip argument was not digested.Check  for more information. If you still need help, open a new issue in https://github.com/uibcdf/MolSysMT/issues.\n",
      "  molsys = msm.structure.flip(molsys, vector=[0,0,1], point=[0,0,0])\n",
      "/tmp/ipykernel_2468012/177113701.py:1: NotDigestedArgumentWarning: The point from molsysmt.structure.flip.flip argument was not digested.Check  for more information. If you still need help, open a new issue in https://github.com/uibcdf/MolSysMT/issues.\n",
      "  molsys = msm.structure.flip(molsys, vector=[0,0,1], point=[0,0,0])\n"
     ]
    },
    {
     "ename": "TypeError",
     "evalue": "No matching definition for argument type(s) array(float64, 3d, C), reflected list(int64)<iv=None>, reflected list(int64)<iv=None>",
     "output_type": "error",
     "traceback": [
      "\u001b[0;31m---------------------------------------------------------------------------\u001b[0m",
      "\u001b[0;31mTypeError\u001b[0m                                 Traceback (most recent call last)",
      "Cell \u001b[0;32mIn[7], line 1\u001b[0m\n\u001b[0;32m----> 1\u001b[0m molsys \u001b[38;5;241m=\u001b[39m \u001b[43mmsm\u001b[49m\u001b[38;5;241;43m.\u001b[39;49m\u001b[43mstructure\u001b[49m\u001b[38;5;241;43m.\u001b[39;49m\u001b[43mflip\u001b[49m\u001b[43m(\u001b[49m\u001b[43mmolsys\u001b[49m\u001b[43m,\u001b[49m\u001b[43m \u001b[49m\u001b[43mvector\u001b[49m\u001b[38;5;241;43m=\u001b[39;49m\u001b[43m[\u001b[49m\u001b[38;5;241;43m0\u001b[39;49m\u001b[43m,\u001b[49m\u001b[38;5;241;43m0\u001b[39;49m\u001b[43m,\u001b[49m\u001b[38;5;241;43m1\u001b[39;49m\u001b[43m]\u001b[49m\u001b[43m,\u001b[49m\u001b[43m \u001b[49m\u001b[43mpoint\u001b[49m\u001b[38;5;241;43m=\u001b[39;49m\u001b[43m[\u001b[49m\u001b[38;5;241;43m0\u001b[39;49m\u001b[43m,\u001b[49m\u001b[38;5;241;43m0\u001b[39;49m\u001b[43m,\u001b[49m\u001b[38;5;241;43m0\u001b[39;49m\u001b[43m]\u001b[49m\u001b[43m)\u001b[49m\n",
      "File \u001b[0;32m~/projects@uibcdf/MolSysMT/molsysmt/_private/digestion/digest.py:117\u001b[0m, in \u001b[0;36mdigest.<locals>.digestor.<locals>.wrapper\u001b[0;34m(*args, **kwargs)\u001b[0m\n\u001b[1;32m    115\u001b[0m     \u001b[38;5;28;01mreturn\u001b[39;00m func(all_args[\u001b[38;5;124m'\u001b[39m\u001b[38;5;124mself\u001b[39m\u001b[38;5;124m'\u001b[39m], \u001b[38;5;241m*\u001b[39m\u001b[38;5;241m*\u001b[39mfinal_args)\n\u001b[1;32m    116\u001b[0m \u001b[38;5;28;01melse\u001b[39;00m:\n\u001b[0;32m--> 117\u001b[0m     \u001b[38;5;28;01mreturn\u001b[39;00m \u001b[43mfunc\u001b[49m\u001b[43m(\u001b[49m\u001b[38;5;241;43m*\u001b[39;49m\u001b[38;5;241;43m*\u001b[39;49m\u001b[43mfinal_args\u001b[49m\u001b[43m)\u001b[49m\n",
      "File \u001b[0;32m~/projects@uibcdf/MolSysMT/molsysmt/structure/flip.py:23\u001b[0m, in \u001b[0;36mflip\u001b[0;34m(molecular_system, vector, point, selection, structure_indices, syntax, in_place)\u001b[0m\n\u001b[1;32m     17\u001b[0m coordinates \u001b[38;5;241m=\u001b[39m get(molecular_system, element\u001b[38;5;241m=\u001b[39m\u001b[38;5;124m'\u001b[39m\u001b[38;5;124matom\u001b[39m\u001b[38;5;124m'\u001b[39m, selection\u001b[38;5;241m=\u001b[39mselection, structure_indices\u001b[38;5;241m=\u001b[39mstructure_indices,\n\u001b[1;32m     18\u001b[0m                   syntax\u001b[38;5;241m=\u001b[39msyntax, coordinates\u001b[38;5;241m=\u001b[39m\u001b[38;5;28;01mTrue\u001b[39;00m)\n\u001b[1;32m     20\u001b[0m coordinates, length_unit \u001b[38;5;241m=\u001b[39m  puw\u001b[38;5;241m.\u001b[39mget_value_and_unit(coordinates)\n\u001b[0;32m---> 23\u001b[0m coordinates \u001b[38;5;241m=\u001b[39m \u001b[43mmsmlib\u001b[49m\u001b[38;5;241;43m.\u001b[39;49m\u001b[43mstructure\u001b[49m\u001b[38;5;241;43m.\u001b[39;49m\u001b[43mflip\u001b[49m\u001b[43m(\u001b[49m\u001b[43mcoordinates\u001b[49m\u001b[43m,\u001b[49m\u001b[43m \u001b[49m\u001b[43mvector\u001b[49m\u001b[43m,\u001b[49m\u001b[43m \u001b[49m\u001b[43mpoint\u001b[49m\u001b[43m)\u001b[49m\n\u001b[1;32m     25\u001b[0m coordinates \u001b[38;5;241m=\u001b[39m puw\u001b[38;5;241m.\u001b[39mquantity(coordinates, unit\u001b[38;5;241m=\u001b[39mlength_unit)\n\u001b[1;32m     27\u001b[0m \u001b[38;5;28;01mif\u001b[39;00m in_place:\n",
      "File \u001b[0;32m~/Myopt/miniconda3/envs/MolSysMT@uibcdf_3.10/lib/python3.10/site-packages/numba/core/dispatcher.py:703\u001b[0m, in \u001b[0;36m_DispatcherBase._explain_matching_error\u001b[0;34m(self, *args, **kws)\u001b[0m\n\u001b[1;32m    700\u001b[0m args \u001b[38;5;241m=\u001b[39m [\u001b[38;5;28mself\u001b[39m\u001b[38;5;241m.\u001b[39mtypeof_pyval(a) \u001b[38;5;28;01mfor\u001b[39;00m a \u001b[38;5;129;01min\u001b[39;00m args]\n\u001b[1;32m    701\u001b[0m msg \u001b[38;5;241m=\u001b[39m (\u001b[38;5;124m\"\u001b[39m\u001b[38;5;124mNo matching definition for argument type(s) \u001b[39m\u001b[38;5;132;01m%s\u001b[39;00m\u001b[38;5;124m\"\u001b[39m\n\u001b[1;32m    702\u001b[0m        \u001b[38;5;241m%\u001b[39m \u001b[38;5;124m'\u001b[39m\u001b[38;5;124m, \u001b[39m\u001b[38;5;124m'\u001b[39m\u001b[38;5;241m.\u001b[39mjoin(\u001b[38;5;28mmap\u001b[39m(\u001b[38;5;28mstr\u001b[39m, args)))\n\u001b[0;32m--> 703\u001b[0m \u001b[38;5;28;01mraise\u001b[39;00m \u001b[38;5;167;01mTypeError\u001b[39;00m(msg)\n",
      "\u001b[0;31mTypeError\u001b[0m: No matching definition for argument type(s) array(float64, 3d, C), reflected list(int64)<iv=None>, reflected list(int64)<iv=None>"
     ]
    }
   ],
   "source": [
    "molsys = msm.structure.flip(molsys, vector=[0,0,1], point=[0,0,0])"
   ]
  },
  {
   "cell_type": "code",
   "execution_count": null,
   "metadata": {},
   "outputs": [],
   "source": [
    "molsys2 = msm.structure.rotate(molsys, rotation=rotation)"
   ]
  },
  {
   "cell_type": "code",
   "execution_count": null,
   "metadata": {},
   "outputs": [],
   "source": [
    "msm.view([molsys, molsys2])"
   ]
  },
  {
   "cell_type": "code",
   "execution_count": null,
   "metadata": {},
   "outputs": [],
   "source": []
  }
 ],
 "metadata": {
  "kernelspec": {
   "display_name": "Python 3 (ipykernel)",
   "language": "python",
   "name": "python3"
  },
  "language_info": {
   "codemirror_mode": {
    "name": "ipython",
    "version": 3
   },
   "file_extension": ".py",
   "mimetype": "text/x-python",
   "name": "python",
   "nbconvert_exporter": "python",
   "pygments_lexer": "ipython3",
   "version": "3.10.12"
  }
 },
 "nbformat": 4,
 "nbformat_minor": 4
}
