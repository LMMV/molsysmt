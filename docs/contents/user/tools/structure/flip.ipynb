{
 "cells": [
  {
   "cell_type": "code",
   "execution_count": 1,
   "metadata": {},
   "outputs": [],
   "source": [
    "%load_ext autoreload\n",
    "%autoreload 2"
   ]
  },
  {
   "cell_type": "code",
   "execution_count": 2,
   "metadata": {},
   "outputs": [
    {
     "data": {
      "application/vnd.jupyter.widget-view+json": {
       "model_id": "ec1f236868d545a69e2fa8dd272cf3e3",
       "version_major": 2,
       "version_minor": 0
      },
      "text/plain": []
     },
     "metadata": {},
     "output_type": "display_data"
    }
   ],
   "source": [
    "import molsysmt as msm\n",
    "import numpy as np"
   ]
  },
  {
   "cell_type": "markdown",
   "metadata": {},
   "source": [
    "# Flip"
   ]
  },
  {
   "cell_type": "code",
   "execution_count": 3,
   "metadata": {},
   "outputs": [],
   "source": [
    "molsys = msm.systems.demo['POPC']['popc.crd']\n",
    "molsys = msm.convert(molsys)"
   ]
  },
  {
   "cell_type": "code",
   "execution_count": 4,
   "metadata": {},
   "outputs": [
    {
     "data": {
      "text/html": [
       "<style type=\"text/css\">\n",
       "</style>\n",
       "<table id=\"T_7e9ec\">\n",
       "  <thead>\n",
       "    <tr>\n",
       "      <th id=\"T_7e9ec_level0_col0\" class=\"col_heading level0 col0\" >index</th>\n",
       "      <th id=\"T_7e9ec_level0_col1\" class=\"col_heading level0 col1\" >id</th>\n",
       "      <th id=\"T_7e9ec_level0_col2\" class=\"col_heading level0 col2\" >name</th>\n",
       "      <th id=\"T_7e9ec_level0_col3\" class=\"col_heading level0 col3\" >type</th>\n",
       "      <th id=\"T_7e9ec_level0_col4\" class=\"col_heading level0 col4\" >n atoms</th>\n",
       "      <th id=\"T_7e9ec_level0_col5\" class=\"col_heading level0 col5\" >component index</th>\n",
       "      <th id=\"T_7e9ec_level0_col6\" class=\"col_heading level0 col6\" >chain index</th>\n",
       "      <th id=\"T_7e9ec_level0_col7\" class=\"col_heading level0 col7\" >molecule index</th>\n",
       "      <th id=\"T_7e9ec_level0_col8\" class=\"col_heading level0 col8\" >molecule type</th>\n",
       "      <th id=\"T_7e9ec_level0_col9\" class=\"col_heading level0 col9\" >entity index</th>\n",
       "      <th id=\"T_7e9ec_level0_col10\" class=\"col_heading level0 col10\" >entity name</th>\n",
       "    </tr>\n",
       "  </thead>\n",
       "  <tbody>\n",
       "    <tr>\n",
       "      <td id=\"T_7e9ec_row0_col0\" class=\"data row0 col0\" >0</td>\n",
       "      <td id=\"T_7e9ec_row0_col1\" class=\"data row0 col1\" >1</td>\n",
       "      <td id=\"T_7e9ec_row0_col2\" class=\"data row0 col2\" >POPC</td>\n",
       "      <td id=\"T_7e9ec_row0_col3\" class=\"data row0 col3\" >lipid</td>\n",
       "      <td id=\"T_7e9ec_row0_col4\" class=\"data row0 col4\" >134</td>\n",
       "      <td id=\"T_7e9ec_row0_col5\" class=\"data row0 col5\" >None</td>\n",
       "      <td id=\"T_7e9ec_row0_col6\" class=\"data row0 col6\" >0</td>\n",
       "      <td id=\"T_7e9ec_row0_col7\" class=\"data row0 col7\" >None</td>\n",
       "      <td id=\"T_7e9ec_row0_col8\" class=\"data row0 col8\" >None</td>\n",
       "      <td id=\"T_7e9ec_row0_col9\" class=\"data row0 col9\" >None</td>\n",
       "      <td id=\"T_7e9ec_row0_col10\" class=\"data row0 col10\" >None</td>\n",
       "    </tr>\n",
       "  </tbody>\n",
       "</table>\n"
      ],
      "text/plain": [
       "<pandas.io.formats.style.Styler at 0x7f364d9a73d0>"
      ]
     },
     "execution_count": 4,
     "metadata": {},
     "output_type": "execute_result"
    }
   ],
   "source": [
    "msm.info(molsys, element='group')"
   ]
  },
  {
   "cell_type": "code",
   "execution_count": 5,
   "metadata": {},
   "outputs": [],
   "source": [
    "molsys = msm.structure.center(molsys, selection='all', center_of_selection='atom_name==\"P\"',\n",
    "                              center_coordinates=[0.0, 0.0, 2.0]*msm.pyunitwizard.quantity('nm'))"
   ]
  },
  {
   "cell_type": "code",
   "execution_count": 6,
   "metadata": {},
   "outputs": [
    {
     "data": {
      "text/html": [
       "<table><tbody><tr><th>Magnitude</th><td style='text-align:left;'><pre>[[[0.0 0.0 2.0]]]</pre></td></tr><tr><th>Units</th><td style='text-align:left;'>nanometer</td></tr></tbody></table>"
      ],
      "text/latex": [
       "$arr[,0,:,:] = \\begin{pmatrix} &  & \\end{pmatrix}\\ \\mathrm{nanometer}$"
      ],
      "text/plain": [
       "array([[[0., 0., 2.]]]) <Unit('nanometer')>"
      ]
     },
     "execution_count": 6,
     "metadata": {},
     "output_type": "execute_result"
    }
   ],
   "source": [
    "msm.get(molsys, selection='atom_name==\"P\"', coordinates=True)"
   ]
  },
  {
   "cell_type": "code",
   "execution_count": 7,
   "metadata": {},
   "outputs": [],
   "source": [
    "molsys2 = msm.structure.flip(molsys, vector=[0,0,1], point='[0,0,0] nm')"
   ]
  },
  {
   "cell_type": "code",
   "execution_count": 8,
   "metadata": {},
   "outputs": [
    {
     "data": {
      "text/html": [
       "<table><tbody><tr><th>Magnitude</th><td style='text-align:left;'><pre>[[[0.0 0.0 -2.0]]]</pre></td></tr><tr><th>Units</th><td style='text-align:left;'>nanometer</td></tr></tbody></table>"
      ],
      "text/latex": [
       "$arr[,0,:,:] = \\begin{pmatrix} &  & \\end{pmatrix}\\ \\mathrm{nanometer}$"
      ],
      "text/plain": [
       "array([[[ 0.,  0., -2.]]]) <Unit('nanometer')>"
      ]
     },
     "execution_count": 8,
     "metadata": {},
     "output_type": "execute_result"
    }
   ],
   "source": [
    "msm.get(molsys2, selection='atom_name==\"P\"', coordinates=True)"
   ]
  },
  {
   "cell_type": "code",
   "execution_count": null,
   "metadata": {},
   "outputs": [],
   "source": []
  }
 ],
 "metadata": {
  "kernelspec": {
   "display_name": "Python 3 (ipykernel)",
   "language": "python",
   "name": "python3"
  },
  "language_info": {
   "codemirror_mode": {
    "name": "ipython",
    "version": 3
   },
   "file_extension": ".py",
   "mimetype": "text/x-python",
   "name": "python",
   "nbconvert_exporter": "python",
   "pygments_lexer": "ipython3",
   "version": "3.10.12"
  }
 },
 "nbformat": 4,
 "nbformat_minor": 4
}
