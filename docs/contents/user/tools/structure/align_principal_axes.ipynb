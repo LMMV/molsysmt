{
 "cells": [
  {
   "cell_type": "code",
   "execution_count": null,
   "id": "79ab8ace-6d0b-49a0-a1cc-e843c6fc285c",
   "metadata": {},
   "outputs": [],
   "source": [
    "%load_ext autoreload\n",
    "%autoreload 2"
   ]
  },
  {
   "cell_type": "code",
   "execution_count": null,
   "id": "3bec8a04-c8cc-45ec-bc0a-631b424cfbb9",
   "metadata": {},
   "outputs": [],
   "source": [
    "import molsysmt as msm\n",
    "import numpy as np\n",
    "import matplotlib.pyplot as plt"
   ]
  },
  {
   "cell_type": "markdown",
   "id": "e34f3d80-ff0c-4091-8eed-e378ff4ef8c6",
   "metadata": {},
   "source": [
    "# Align principal axes"
   ]
  },
  {
   "cell_type": "code",
   "execution_count": null,
   "id": "e32b27e1-bae7-458b-a95a-7171a1f911d5",
   "metadata": {},
   "outputs": [],
   "source": [
    "import molsysmt as msm\n",
    "import numpy as np"
   ]
  },
  {
   "cell_type": "code",
   "execution_count": null,
   "id": "8a379797-176b-4f55-948b-9266580194e5",
   "metadata": {},
   "outputs": [],
   "source": [
    "molsys = msm.systems.demo['POPC']['popc.crd']\n",
    "molsys = msm.convert(molsys)"
   ]
  },
  {
   "cell_type": "code",
   "execution_count": null,
   "id": "21fd324f-d208-41db-8aa0-359f30b7687e",
   "metadata": {},
   "outputs": [],
   "source": [
    "axes, momenta = msm.structure.get_principal_axes(molsys)"
   ]
  },
  {
   "cell_type": "code",
   "execution_count": null,
   "id": "922d611e-686b-46f3-a603-bed5a9adffb4",
   "metadata": {},
   "outputs": [],
   "source": [
    "for ii in range(3):\n",
    "    print(axes[0,ii], momenta[0,ii])"
   ]
  },
  {
   "cell_type": "code",
   "execution_count": null,
   "id": "dc26fa34-085e-4867-95c3-6bc36c532772",
   "metadata": {},
   "outputs": [],
   "source": [
    "momenta"
   ]
  },
  {
   "cell_type": "code",
   "execution_count": null,
   "id": "b46c0c26-d4be-41a5-a9fb-c9b97dd5bad2",
   "metadata": {},
   "outputs": [],
   "source": [
    "molsys_2 = msm.structure.align_principal_axes(molsys, axes=[[1,0,0],[0,1,0],[0,0,1]])"
   ]
  },
  {
   "cell_type": "code",
   "execution_count": null,
   "id": "5d29c2f5-b9ab-494e-bf26-a71de19c00c2",
   "metadata": {},
   "outputs": [],
   "source": [
    "axes, momenta = msm.structure.get_principal_axes(molsys_2)"
   ]
  },
  {
   "cell_type": "code",
   "execution_count": null,
   "id": "2f4e8bdb-7f79-4c72-883b-536f7ba02ee0",
   "metadata": {},
   "outputs": [],
   "source": [
    "for ii in range(3):\n",
    "    print(axes[0,ii], momenta[0,ii])"
   ]
  },
  {
   "cell_type": "code",
   "execution_count": null,
   "id": "40ec81fa-54be-4eee-8073-d7f07af8beaf",
   "metadata": {},
   "outputs": [],
   "source": []
  }
 ],
 "metadata": {
  "kernelspec": {
   "display_name": "Python 3 (ipykernel)",
   "language": "python",
   "name": "python3"
  },
  "language_info": {
   "codemirror_mode": {
    "name": "ipython",
    "version": 3
   },
   "file_extension": ".py",
   "mimetype": "text/x-python",
   "name": "python",
   "nbconvert_exporter": "python",
   "pygments_lexer": "ipython3",
   "version": "3.10.12"
  }
 },
 "nbformat": 4,
 "nbformat_minor": 5
}
