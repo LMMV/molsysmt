{
 "cells": [
  {
   "cell_type": "code",
   "execution_count": 1,
   "id": "79ab8ace-6d0b-49a0-a1cc-e843c6fc285c",
   "metadata": {
    "execution": {
     "iopub.execute_input": "2025-03-11T21:04:35.674221Z",
     "iopub.status.busy": "2025-03-11T21:04:35.673972Z",
     "iopub.status.idle": "2025-03-11T21:04:35.698582Z",
     "shell.execute_reply": "2025-03-11T21:04:35.697751Z"
    }
   },
   "outputs": [],
   "source": [
    "%load_ext autoreload\n",
    "%autoreload 2"
   ]
  },
  {
   "cell_type": "code",
   "execution_count": 2,
   "id": "3bec8a04-c8cc-45ec-bc0a-631b424cfbb9",
   "metadata": {
    "execution": {
     "iopub.execute_input": "2025-03-11T21:04:35.701475Z",
     "iopub.status.busy": "2025-03-11T21:04:35.701210Z",
     "iopub.status.idle": "2025-03-11T21:04:43.779587Z",
     "shell.execute_reply": "2025-03-11T21:04:43.778603Z"
    }
   },
   "outputs": [
    {
     "data": {
      "application/vnd.jupyter.widget-view+json": {
       "model_id": "dbc05cfcc103492ba7d8095a60d2338d",
       "version_major": 2,
       "version_minor": 0
      },
      "text/plain": []
     },
     "metadata": {},
     "output_type": "display_data"
    }
   ],
   "source": [
    "import molsysmt as msm"
   ]
  },
  {
   "cell_type": "markdown",
   "id": "e34f3d80-ff0c-4091-8eed-e378ff4ef8c6",
   "metadata": {},
   "source": [
    "# Align principal axes"
   ]
  },
  {
   "cell_type": "code",
   "execution_count": 3,
   "id": "e32b27e1-bae7-458b-a95a-7171a1f911d5",
   "metadata": {
    "execution": {
     "iopub.execute_input": "2025-03-11T21:04:43.784338Z",
     "iopub.status.busy": "2025-03-11T21:04:43.782254Z",
     "iopub.status.idle": "2025-03-11T21:04:43.847397Z",
     "shell.execute_reply": "2025-03-11T21:04:43.846459Z"
    }
   },
   "outputs": [],
   "source": [
    "import molsysmt as msm\n",
    "import numpy as np"
   ]
  },
  {
   "cell_type": "code",
   "execution_count": 4,
   "id": "8a379797-176b-4f55-948b-9266580194e5",
   "metadata": {
    "execution": {
     "iopub.execute_input": "2025-03-11T21:04:43.850941Z",
     "iopub.status.busy": "2025-03-11T21:04:43.850591Z",
     "iopub.status.idle": "2025-03-11T21:04:44.784448Z",
     "shell.execute_reply": "2025-03-11T21:04:44.783443Z"
    }
   },
   "outputs": [],
   "source": [
    "crd = msm.systems['POPC']['popc.crd']\n",
    "psf = msm.systems['POPC']['popc.psf']\n",
    "molsys = msm.convert([crd, psf])"
   ]
  },
  {
   "cell_type": "code",
   "execution_count": 5,
   "id": "24c0d9d7-ffe2-48a3-9a69-8dfcdf8020a9",
   "metadata": {
    "execution": {
     "iopub.execute_input": "2025-03-11T21:04:44.788915Z",
     "iopub.status.busy": "2025-03-11T21:04:44.787700Z",
     "iopub.status.idle": "2025-03-11T21:04:47.570392Z",
     "shell.execute_reply": "2025-03-11T21:04:47.569370Z"
    }
   },
   "outputs": [
    {
     "data": {
      "text/html": [
       "<style type=\"text/css\">\n",
       "</style>\n",
       "<table id=\"T_c6797\">\n",
       "  <thead>\n",
       "    <tr>\n",
       "      <th id=\"T_c6797_level0_col0\" class=\"col_heading level0 col0\" >form</th>\n",
       "      <th id=\"T_c6797_level0_col1\" class=\"col_heading level0 col1\" >n_atoms</th>\n",
       "      <th id=\"T_c6797_level0_col2\" class=\"col_heading level0 col2\" >n_groups</th>\n",
       "      <th id=\"T_c6797_level0_col3\" class=\"col_heading level0 col3\" >n_components</th>\n",
       "      <th id=\"T_c6797_level0_col4\" class=\"col_heading level0 col4\" >n_chains</th>\n",
       "      <th id=\"T_c6797_level0_col5\" class=\"col_heading level0 col5\" >n_molecules</th>\n",
       "      <th id=\"T_c6797_level0_col6\" class=\"col_heading level0 col6\" >n_entities</th>\n",
       "      <th id=\"T_c6797_level0_col7\" class=\"col_heading level0 col7\" >n_lipids</th>\n",
       "      <th id=\"T_c6797_level0_col8\" class=\"col_heading level0 col8\" >n_structures</th>\n",
       "    </tr>\n",
       "  </thead>\n",
       "  <tbody>\n",
       "    <tr>\n",
       "      <td id=\"T_c6797_row0_col0\" class=\"data row0 col0\" >molsysmt.MolSys</td>\n",
       "      <td id=\"T_c6797_row0_col1\" class=\"data row0 col1\" >134</td>\n",
       "      <td id=\"T_c6797_row0_col2\" class=\"data row0 col2\" >1</td>\n",
       "      <td id=\"T_c6797_row0_col3\" class=\"data row0 col3\" >1</td>\n",
       "      <td id=\"T_c6797_row0_col4\" class=\"data row0 col4\" >1</td>\n",
       "      <td id=\"T_c6797_row0_col5\" class=\"data row0 col5\" >1</td>\n",
       "      <td id=\"T_c6797_row0_col6\" class=\"data row0 col6\" >1</td>\n",
       "      <td id=\"T_c6797_row0_col7\" class=\"data row0 col7\" >1</td>\n",
       "      <td id=\"T_c6797_row0_col8\" class=\"data row0 col8\" >1</td>\n",
       "    </tr>\n",
       "  </tbody>\n",
       "</table>\n"
      ],
      "text/plain": [
       "<pandas.io.formats.style.Styler at 0x7f8d0601b200>"
      ]
     },
     "execution_count": 5,
     "metadata": {},
     "output_type": "execute_result"
    }
   ],
   "source": [
    "msm.info(molsys)"
   ]
  },
  {
   "cell_type": "code",
   "execution_count": 6,
   "id": "21fd324f-d208-41db-8aa0-359f30b7687e",
   "metadata": {
    "execution": {
     "iopub.execute_input": "2025-03-11T21:04:47.573945Z",
     "iopub.status.busy": "2025-03-11T21:04:47.573579Z",
     "iopub.status.idle": "2025-03-11T21:04:48.541884Z",
     "shell.execute_reply": "2025-03-11T21:04:48.540937Z"
    }
   },
   "outputs": [],
   "source": [
    "axes, momenta = msm.structure.get_principal_axes(molsys)"
   ]
  },
  {
   "cell_type": "code",
   "execution_count": 7,
   "id": "922d611e-686b-46f3-a603-bed5a9adffb4",
   "metadata": {
    "execution": {
     "iopub.execute_input": "2025-03-11T21:04:48.545415Z",
     "iopub.status.busy": "2025-03-11T21:04:48.544988Z",
     "iopub.status.idle": "2025-03-11T21:04:48.610124Z",
     "shell.execute_reply": "2025-03-11T21:04:48.609314Z"
    }
   },
   "outputs": [
    {
     "name": "stdout",
     "output_type": "stream",
     "text": [
      "[ 0.09213962 -0.02624376 -0.9954002 ] 13.378581090770417\n",
      "[0.56239734 0.82631277 0.03027277] 73.67866342245162\n",
      "[-0.82171742  0.56259975 -0.09089556] 78.32952437971095\n"
     ]
    }
   ],
   "source": [
    "for ii in range(3):\n",
    "    print(axes[0,ii], momenta[0,ii])"
   ]
  },
  {
   "cell_type": "code",
   "execution_count": 8,
   "id": "095cb193-a067-4940-8a4d-2c0ca5d34d80",
   "metadata": {
    "execution": {
     "iopub.execute_input": "2025-03-11T21:04:48.613251Z",
     "iopub.status.busy": "2025-03-11T21:04:48.612883Z",
     "iopub.status.idle": "2025-03-11T21:04:49.458929Z",
     "shell.execute_reply": "2025-03-11T21:04:49.458224Z"
    }
   },
   "outputs": [
    {
     "data": {
      "application/vnd.jupyter.widget-view+json": {
       "model_id": "b9cba65fccc74a6395c20b679e278aab",
       "version_major": 2,
       "version_minor": 0
      },
      "text/plain": [
       "NGLWidget()"
      ]
     },
     "metadata": {},
     "output_type": "display_data"
    }
   ],
   "source": [
    "msm.view(molsys, standard=False)"
   ]
  },
  {
   "cell_type": "code",
   "execution_count": 9,
   "id": "b46c0c26-d4be-41a5-a9fb-c9b97dd5bad2",
   "metadata": {
    "execution": {
     "iopub.execute_input": "2025-03-11T21:04:49.469298Z",
     "iopub.status.busy": "2025-03-11T21:04:49.468842Z",
     "iopub.status.idle": "2025-03-11T21:04:52.187934Z",
     "shell.execute_reply": "2025-03-11T21:04:52.187076Z"
    }
   },
   "outputs": [],
   "source": [
    "molsys_2 = msm.structure.align_principal_axes(molsys, axes=[[1,0,0],[0,1,0],[0,0,1]])"
   ]
  },
  {
   "cell_type": "code",
   "execution_count": 10,
   "id": "5d29c2f5-b9ab-494e-bf26-a71de19c00c2",
   "metadata": {
    "execution": {
     "iopub.execute_input": "2025-03-11T21:04:52.191823Z",
     "iopub.status.busy": "2025-03-11T21:04:52.191177Z",
     "iopub.status.idle": "2025-03-11T21:04:53.235489Z",
     "shell.execute_reply": "2025-03-11T21:04:53.234437Z"
    }
   },
   "outputs": [],
   "source": [
    "axes, momenta = msm.structure.get_principal_axes(molsys_2)"
   ]
  },
  {
   "cell_type": "code",
   "execution_count": 11,
   "id": "2f4e8bdb-7f79-4c72-883b-536f7ba02ee0",
   "metadata": {
    "execution": {
     "iopub.execute_input": "2025-03-11T21:04:53.239660Z",
     "iopub.status.busy": "2025-03-11T21:04:53.239117Z",
     "iopub.status.idle": "2025-03-11T21:04:53.313212Z",
     "shell.execute_reply": "2025-03-11T21:04:53.311914Z"
    }
   },
   "outputs": [
    {
     "name": "stdout",
     "output_type": "stream",
     "text": [
      "[1.00000000e+00 2.87221485e-16 8.58936055e-17] 13.37858109077042\n",
      "[-2.87221485e-16  1.00000000e+00 -3.60822483e-15] 73.67866342245169\n",
      "[-8.58936055e-17  3.60822483e-15  1.00000000e+00] 78.32952437971095\n"
     ]
    }
   ],
   "source": [
    "for ii in range(3):\n",
    "    print(axes[0,ii], momenta[0,ii])"
   ]
  },
  {
   "cell_type": "code",
   "execution_count": 12,
   "id": "40ec81fa-54be-4eee-8073-d7f07af8beaf",
   "metadata": {
    "execution": {
     "iopub.execute_input": "2025-03-11T21:04:53.316788Z",
     "iopub.status.busy": "2025-03-11T21:04:53.316359Z",
     "iopub.status.idle": "2025-03-11T21:04:54.099504Z",
     "shell.execute_reply": "2025-03-11T21:04:54.098501Z"
    }
   },
   "outputs": [
    {
     "data": {
      "application/vnd.jupyter.widget-view+json": {
       "model_id": "6e5f6c8c498f4771aea828f05e3cbc00",
       "version_major": 2,
       "version_minor": 0
      },
      "text/plain": [
       "NGLWidget()"
      ]
     },
     "metadata": {},
     "output_type": "display_data"
    }
   ],
   "source": [
    "msm.view(molsys_2, standard=False)"
   ]
  }
 ],
 "metadata": {
  "kernelspec": {
   "display_name": "Python 3 (ipykernel)",
   "language": "python",
   "name": "python3"
  },
  "language_info": {
   "codemirror_mode": {
    "name": "ipython",
    "version": 3
   },
   "file_extension": ".py",
   "mimetype": "text/x-python",
   "name": "python",
   "nbconvert_exporter": "python",
   "pygments_lexer": "ipython3",
   "version": "3.12.8"
  },
  "widgets": {
   "application/vnd.jupyter.widget-state+json": {
    "state": {
     "087e7278b84b4c388bb8a954a40b359c": {
      "model_module": "@jupyter-widgets/controls",
      "model_module_version": "2.0.0",
      "model_name": "IntSliderModel",
      "state": {
       "_dom_classes": [],
       "_model_module": "@jupyter-widgets/controls",
       "_model_module_version": "2.0.0",
       "_model_name": "IntSliderModel",
       "_view_count": null,
       "_view_module": "@jupyter-widgets/controls",
       "_view_module_version": "2.0.0",
       "_view_name": "IntSliderView",
       "behavior": "drag-tap",
       "continuous_update": true,
       "description": "",
       "description_allow_html": false,
       "disabled": false,
       "layout": "IPY_MODEL_eff38ea7ee5549ea8d9befff1dec74cd",
       "max": 0,
       "min": 0,
       "orientation": "horizontal",
       "readout": true,
       "readout_format": "d",
       "step": 1,
       "style": "IPY_MODEL_3e951ab43cab41948e7f51dc986ab4e2",
       "tabbable": null,
       "tooltip": null,
       "value": 0
      }
     },
     "094958982a764ac1bf19038b9fd1762f": {
      "model_module": "@jupyter-widgets/base",
      "model_module_version": "2.0.0",
      "model_name": "LayoutModel",
      "state": {
       "_model_module": "@jupyter-widgets/base",
       "_model_module_version": "2.0.0",
       "_model_name": "LayoutModel",
       "_view_count": null,
       "_view_module": "@jupyter-widgets/base",
       "_view_module_version": "2.0.0",
       "_view_name": "LayoutView",
       "align_content": null,
       "align_items": null,
       "align_self": null,
       "border_bottom": null,
       "border_left": null,
       "border_right": null,
       "border_top": null,
       "bottom": null,
       "display": null,
       "flex": null,
       "flex_flow": null,
       "grid_area": null,
       "grid_auto_columns": null,
       "grid_auto_flow": null,
       "grid_auto_rows": null,
       "grid_column": null,
       "grid_gap": null,
       "grid_row": null,
       "grid_template_areas": null,
       "grid_template_columns": null,
       "grid_template_rows": null,
       "height": null,
       "justify_content": null,
       "justify_items": null,
       "left": null,
       "margin": null,
       "max_height": null,
       "max_width": null,
       "min_height": null,
       "min_width": null,
       "object_fit": null,
       "object_position": null,
       "order": null,
       "overflow": null,
       "padding": null,
       "right": null,
       "top": null,
       "visibility": null,
       "width": "34px"
      }
     },
     "0be922cc73864fb7a4781ba19d33ba4a": {
      "model_module": "@jupyter-widgets/controls",
      "model_module_version": "2.0.0",
      "model_name": "HBoxModel",
      "state": {
       "_dom_classes": [],
       "_model_module": "@jupyter-widgets/controls",
       "_model_module_version": "2.0.0",
       "_model_name": "HBoxModel",
       "_view_count": null,
       "_view_module": "@jupyter-widgets/controls",
       "_view_module_version": "2.0.0",
       "_view_name": "HBoxView",
       "box_style": "",
       "children": [
        "IPY_MODEL_7625e0b8e59642e3808eb2dae6d77962",
        "IPY_MODEL_087e7278b84b4c388bb8a954a40b359c"
       ],
       "layout": "IPY_MODEL_939d777218d2461b913e6b5f36d04573",
       "tabbable": null,
       "tooltip": null
      }
     },
     "0f524b6865274003b68a0da95c50ab34": {
      "model_module": "@jupyter-widgets/controls",
      "model_module_version": "2.0.0",
      "model_name": "LinkModel",
      "state": {
       "_model_module": "@jupyter-widgets/controls",
       "_model_module_version": "2.0.0",
       "_model_name": "LinkModel",
       "_view_count": null,
       "_view_module": "@jupyter-widgets/controls",
       "_view_module_version": "2.0.0",
       "_view_name": null,
       "source": [
        "IPY_MODEL_7625e0b8e59642e3808eb2dae6d77962",
        "value"
       ],
       "target": [
        "IPY_MODEL_087e7278b84b4c388bb8a954a40b359c",
        "value"
       ]
      }
     },
     "1265ff4d1d544d75a35b7e3492ff242d": {
      "model_module": "@jupyter-widgets/controls",
      "model_module_version": "2.0.0",
      "model_name": "LinkModel",
      "state": {
       "_model_module": "@jupyter-widgets/controls",
       "_model_module_version": "2.0.0",
       "_model_name": "LinkModel",
       "_view_count": null,
       "_view_module": "@jupyter-widgets/controls",
       "_view_module_version": "2.0.0",
       "_view_name": null,
       "source": [
        "IPY_MODEL_1f64f83a65234b20b61333f6fb13681c",
        "value"
       ],
       "target": [
        "IPY_MODEL_26dc392be20a4f20a8a7b9ee88b2dd2b",
        "value"
       ]
      }
     },
     "1f64f83a65234b20b61333f6fb13681c": {
      "model_module": "@jupyter-widgets/controls",
      "model_module_version": "2.0.0",
      "model_name": "PlayModel",
      "state": {
       "_dom_classes": [],
       "_model_module": "@jupyter-widgets/controls",
       "_model_module_version": "2.0.0",
       "_model_name": "PlayModel",
       "_view_count": null,
       "_view_module": "@jupyter-widgets/controls",
       "_view_module_version": "2.0.0",
       "_view_name": "PlayView",
       "description": "",
       "description_allow_html": false,
       "disabled": false,
       "interval": 100,
       "layout": "IPY_MODEL_c16f908c979c46988ad700151619d35b",
       "max": 0,
       "min": 0,
       "playing": false,
       "repeat": false,
       "show_repeat": true,
       "step": 1,
       "style": "IPY_MODEL_f6466dcdd7184a669f4d6138fbb9694f",
       "tabbable": null,
       "tooltip": null,
       "value": 0
      }
     },
     "24c8f7704fb64977bf395dfce0ca161d": {
      "model_module": "@jupyter-widgets/controls",
      "model_module_version": "2.0.0",
      "model_name": "ButtonStyleModel",
      "state": {
       "_model_module": "@jupyter-widgets/controls",
       "_model_module_version": "2.0.0",
       "_model_name": "ButtonStyleModel",
       "_view_count": null,
       "_view_module": "@jupyter-widgets/base",
       "_view_module_version": "2.0.0",
       "_view_name": "StyleView",
       "button_color": null,
       "font_family": null,
       "font_size": null,
       "font_style": null,
       "font_variant": null,
       "font_weight": null,
       "text_color": null,
       "text_decoration": null
      }
     },
     "26dc392be20a4f20a8a7b9ee88b2dd2b": {
      "model_module": "@jupyter-widgets/controls",
      "model_module_version": "2.0.0",
      "model_name": "IntSliderModel",
      "state": {
       "_dom_classes": [],
       "_model_module": "@jupyter-widgets/controls",
       "_model_module_version": "2.0.0",
       "_model_name": "IntSliderModel",
       "_view_count": null,
       "_view_module": "@jupyter-widgets/controls",
       "_view_module_version": "2.0.0",
       "_view_name": "IntSliderView",
       "behavior": "drag-tap",
       "continuous_update": true,
       "description": "",
       "description_allow_html": false,
       "disabled": false,
       "layout": "IPY_MODEL_4ef406f822c343b58ac395f7deeb9f8b",
       "max": 0,
       "min": 0,
       "orientation": "horizontal",
       "readout": true,
       "readout_format": "d",
       "step": 1,
       "style": "IPY_MODEL_fbd5abf610fe44929a22bc96ad463363",
       "tabbable": null,
       "tooltip": null,
       "value": 0
      }
     },
     "2a6556e546a14dbea27f8b22a28bc984": {
      "model_module": "@jupyter-widgets/controls",
      "model_module_version": "2.0.0",
      "model_name": "ButtonModel",
      "state": {
       "_dom_classes": [],
       "_model_module": "@jupyter-widgets/controls",
       "_model_module_version": "2.0.0",
       "_model_name": "ButtonModel",
       "_view_count": null,
       "_view_module": "@jupyter-widgets/controls",
       "_view_module_version": "2.0.0",
       "_view_name": "ButtonView",
       "button_style": "",
       "description": "",
       "disabled": false,
       "icon": "compress",
       "layout": "IPY_MODEL_5057a45b00d742d1b003c936f6d4c2ea",
       "style": "IPY_MODEL_24c8f7704fb64977bf395dfce0ca161d",
       "tabbable": null,
       "tooltip": null
      }
     },
     "3a45b06ae3fa415aa787d31b49e64fad": {
      "model_module": "@jupyter-widgets/base",
      "model_module_version": "2.0.0",
      "model_name": "LayoutModel",
      "state": {
       "_model_module": "@jupyter-widgets/base",
       "_model_module_version": "2.0.0",
       "_model_name": "LayoutModel",
       "_view_count": null,
       "_view_module": "@jupyter-widgets/base",
       "_view_module_version": "2.0.0",
       "_view_name": "LayoutView",
       "align_content": null,
       "align_items": null,
       "align_self": null,
       "border_bottom": null,
       "border_left": null,
       "border_right": null,
       "border_top": null,
       "bottom": null,
       "display": null,
       "flex": null,
       "flex_flow": null,
       "grid_area": null,
       "grid_auto_columns": null,
       "grid_auto_flow": null,
       "grid_auto_rows": null,
       "grid_column": null,
       "grid_gap": null,
       "grid_row": null,
       "grid_template_areas": null,
       "grid_template_columns": null,
       "grid_template_rows": null,
       "height": null,
       "justify_content": null,
       "justify_items": null,
       "left": null,
       "margin": null,
       "max_height": null,
       "max_width": null,
       "min_height": null,
       "min_width": null,
       "object_fit": null,
       "object_position": null,
       "order": null,
       "overflow": null,
       "padding": null,
       "right": null,
       "top": null,
       "visibility": null,
       "width": null
      }
     },
     "3e951ab43cab41948e7f51dc986ab4e2": {
      "model_module": "@jupyter-widgets/controls",
      "model_module_version": "2.0.0",
      "model_name": "SliderStyleModel",
      "state": {
       "_model_module": "@jupyter-widgets/controls",
       "_model_module_version": "2.0.0",
       "_model_name": "SliderStyleModel",
       "_view_count": null,
       "_view_module": "@jupyter-widgets/base",
       "_view_module_version": "2.0.0",
       "_view_name": "StyleView",
       "description_width": "",
       "handle_color": null
      }
     },
     "406b91d526144df09e2bd93c262e21b7": {
      "model_module": "@jupyter-widgets/controls",
      "model_module_version": "2.0.0",
      "model_name": "LinkModel",
      "state": {
       "_model_module": "@jupyter-widgets/controls",
       "_model_module_version": "2.0.0",
       "_model_name": "LinkModel",
       "_view_count": null,
       "_view_module": "@jupyter-widgets/controls",
       "_view_module_version": "2.0.0",
       "_view_name": null,
       "source": [
        "IPY_MODEL_1f64f83a65234b20b61333f6fb13681c",
        "value"
       ],
       "target": [
        "IPY_MODEL_6e5f6c8c498f4771aea828f05e3cbc00",
        "frame"
       ]
      }
     },
     "415fb4b2cda64f6c9f1429dc8421747d": {
      "model_module": "@jupyter-widgets/controls",
      "model_module_version": "2.0.0",
      "model_name": "ButtonStyleModel",
      "state": {
       "_model_module": "@jupyter-widgets/controls",
       "_model_module_version": "2.0.0",
       "_model_name": "ButtonStyleModel",
       "_view_count": null,
       "_view_module": "@jupyter-widgets/base",
       "_view_module_version": "2.0.0",
       "_view_name": "StyleView",
       "button_color": null,
       "font_family": null,
       "font_size": null,
       "font_style": null,
       "font_variant": null,
       "font_weight": null,
       "text_color": null,
       "text_decoration": null
      }
     },
     "43e5fbe59fa84b459279b833b016a4a8": {
      "model_module": "@jupyter-widgets/controls",
      "model_module_version": "2.0.0",
      "model_name": "LinkModel",
      "state": {
       "_model_module": "@jupyter-widgets/controls",
       "_model_module_version": "2.0.0",
       "_model_name": "LinkModel",
       "_view_count": null,
       "_view_module": "@jupyter-widgets/controls",
       "_view_module_version": "2.0.0",
       "_view_name": null,
       "source": [
        "IPY_MODEL_7625e0b8e59642e3808eb2dae6d77962",
        "value"
       ],
       "target": [
        "IPY_MODEL_b9cba65fccc74a6395c20b679e278aab",
        "frame"
       ]
      }
     },
     "4ef406f822c343b58ac395f7deeb9f8b": {
      "model_module": "@jupyter-widgets/base",
      "model_module_version": "2.0.0",
      "model_name": "LayoutModel",
      "state": {
       "_model_module": "@jupyter-widgets/base",
       "_model_module_version": "2.0.0",
       "_model_name": "LayoutModel",
       "_view_count": null,
       "_view_module": "@jupyter-widgets/base",
       "_view_module_version": "2.0.0",
       "_view_name": "LayoutView",
       "align_content": null,
       "align_items": null,
       "align_self": null,
       "border_bottom": null,
       "border_left": null,
       "border_right": null,
       "border_top": null,
       "bottom": null,
       "display": null,
       "flex": null,
       "flex_flow": null,
       "grid_area": null,
       "grid_auto_columns": null,
       "grid_auto_flow": null,
       "grid_auto_rows": null,
       "grid_column": null,
       "grid_gap": null,
       "grid_row": null,
       "grid_template_areas": null,
       "grid_template_columns": null,
       "grid_template_rows": null,
       "height": null,
       "justify_content": null,
       "justify_items": null,
       "left": null,
       "margin": null,
       "max_height": null,
       "max_width": null,
       "min_height": null,
       "min_width": null,
       "object_fit": null,
       "object_position": null,
       "order": null,
       "overflow": null,
       "padding": null,
       "right": null,
       "top": null,
       "visibility": null,
       "width": null
      }
     },
     "5057a45b00d742d1b003c936f6d4c2ea": {
      "model_module": "@jupyter-widgets/base",
      "model_module_version": "2.0.0",
      "model_name": "LayoutModel",
      "state": {
       "_model_module": "@jupyter-widgets/base",
       "_model_module_version": "2.0.0",
       "_model_name": "LayoutModel",
       "_view_count": null,
       "_view_module": "@jupyter-widgets/base",
       "_view_module_version": "2.0.0",
       "_view_name": "LayoutView",
       "align_content": null,
       "align_items": null,
       "align_self": null,
       "border_bottom": null,
       "border_left": null,
       "border_right": null,
       "border_top": null,
       "bottom": null,
       "display": null,
       "flex": null,
       "flex_flow": null,
       "grid_area": null,
       "grid_auto_columns": null,
       "grid_auto_flow": null,
       "grid_auto_rows": null,
       "grid_column": null,
       "grid_gap": null,
       "grid_row": null,
       "grid_template_areas": null,
       "grid_template_columns": null,
       "grid_template_rows": null,
       "height": null,
       "justify_content": null,
       "justify_items": null,
       "left": null,
       "margin": null,
       "max_height": null,
       "max_width": null,
       "min_height": null,
       "min_width": null,
       "object_fit": null,
       "object_position": null,
       "order": null,
       "overflow": null,
       "padding": null,
       "right": null,
       "top": null,
       "visibility": null,
       "width": "34px"
      }
     },
     "5e6aa6950f314a87aa4a5381f329542a": {
      "model_module": "@jupyter-widgets/controls",
      "model_module_version": "2.0.0",
      "model_name": "LinkModel",
      "state": {
       "_model_module": "@jupyter-widgets/controls",
       "_model_module_version": "2.0.0",
       "_model_name": "LinkModel",
       "_view_count": null,
       "_view_module": "@jupyter-widgets/controls",
       "_view_module_version": "2.0.0",
       "_view_name": null,
       "source": [
        "IPY_MODEL_26dc392be20a4f20a8a7b9ee88b2dd2b",
        "max"
       ],
       "target": [
        "IPY_MODEL_6e5f6c8c498f4771aea828f05e3cbc00",
        "max_frame"
       ]
      }
     },
     "662451330ea34f888bad0184ab3407eb": {
      "buffers": [
       {
        "data": "",
        "encoding": "base64",
        "path": [
         "value"
        ]
       }
      ],
      "model_module": "@jupyter-widgets/controls",
      "model_module_version": "2.0.0",
      "model_name": "ImageModel",
      "state": {
       "_dom_classes": [],
       "_model_module": "@jupyter-widgets/controls",
       "_model_module_version": "2.0.0",
       "_model_name": "ImageModel",
       "_view_count": null,
       "_view_module": "@jupyter-widgets/controls",
       "_view_module_version": "2.0.0",
       "_view_name": "ImageView",
       "format": "png",
       "height": "",
       "layout": "IPY_MODEL_c193b86f8f11496b84eb605537b9e583",
       "tabbable": null,
       "tooltip": null,
       "width": "900.0"
      }
     },
     "66f9f39ef8d649a8a6db31631f73d9a2": {
      "model_module": "@jupyter-widgets/base",
      "model_module_version": "2.0.0",
      "model_name": "LayoutModel",
      "state": {
       "_model_module": "@jupyter-widgets/base",
       "_model_module_version": "2.0.0",
       "_model_name": "LayoutModel",
       "_view_count": null,
       "_view_module": "@jupyter-widgets/base",
       "_view_module_version": "2.0.0",
       "_view_name": "LayoutView",
       "align_content": null,
       "align_items": null,
       "align_self": null,
       "border_bottom": null,
       "border_left": null,
       "border_right": null,
       "border_top": null,
       "bottom": null,
       "display": null,
       "flex": null,
       "flex_flow": null,
       "grid_area": null,
       "grid_auto_columns": null,
       "grid_auto_flow": null,
       "grid_auto_rows": null,
       "grid_column": null,
       "grid_gap": null,
       "grid_row": null,
       "grid_template_areas": null,
       "grid_template_columns": null,
       "grid_template_rows": null,
       "height": null,
       "justify_content": null,
       "justify_items": null,
       "left": null,
       "margin": null,
       "max_height": null,
       "max_width": null,
       "min_height": null,
       "min_width": null,
       "object_fit": null,
       "object_position": null,
       "order": null,
       "overflow": null,
       "padding": null,
       "right": null,
       "top": null,
       "visibility": null,
       "width": null
      }
     },
     "6ce1d5c3c33a41c1a463822670992ebf": {
      "model_module": "@jupyter-widgets/controls",
      "model_module_version": "2.0.0",
      "model_name": "LinkModel",
      "state": {
       "_model_module": "@jupyter-widgets/controls",
       "_model_module_version": "2.0.0",
       "_model_name": "LinkModel",
       "_view_count": null,
       "_view_module": "@jupyter-widgets/controls",
       "_view_module_version": "2.0.0",
       "_view_name": null,
       "source": [
        "IPY_MODEL_087e7278b84b4c388bb8a954a40b359c",
        "max"
       ],
       "target": [
        "IPY_MODEL_b9cba65fccc74a6395c20b679e278aab",
        "max_frame"
       ]
      }
     },
     "6e5f6c8c498f4771aea828f05e3cbc00": {
      "model_module": "nglview-js-widgets",
      "model_module_version": "3.1.4",
      "model_name": "NGLModel",
      "state": {
       "_camera_orientation": [],
       "_camera_str": "orthographic",
       "_dom_classes": [],
       "_gui_theme": null,
       "_ibtn_fullscreen": "IPY_MODEL_2a6556e546a14dbea27f8b22a28bc984",
       "_igui": null,
       "_iplayer": "IPY_MODEL_cb5aa0d5225a4881aa8482bd9cb08d51",
       "_model_module": "nglview-js-widgets",
       "_model_module_version": "3.1.4",
       "_model_name": "NGLModel",
       "_ngl_color_dict": {},
       "_ngl_coordinate_resource": {},
       "_ngl_full_stage_parameters": {},
       "_ngl_msg_archive": [
        {
         "args": [
          {
           "binary": false,
           "data": "HEADER    MOLECULAR SYSTEM                        11-MAR-25       \nREMARK   1 Created by MolSysMT version 1.0 on 11-MAR-2025 at 15:04:53\nATOM      1 N    POP S   1     -12.084   1.300  -9.781  0.00  0.00           N\nATOM      2 C12  POP S   1     -11.750   2.160  -8.593  0.00  0.00           C\nATOM      3 H12A POP S   1     -12.674   2.549  -8.192  0.00  0.00           H\nATOM      4 H12B POP S   1     -11.133   2.980  -8.929  0.00  0.00           H\nATOM      5 C13  POP S   1     -12.928   2.163 -10.794  0.00  0.00           C\nATOM      6 H13A POP S   1     -12.989   1.857 -11.828  0.00  0.00           H\nATOM      7 H13B POP S   1     -13.934   2.154 -10.400  0.00  0.00           H\nATOM      8 H13C POP S   1     -12.593   3.189 -10.834  0.00  0.00           H\nATOM      9 C14  POP S   1     -10.865   0.872 -10.472  0.00  0.00           C\nATOM     10 H14A POP S   1     -10.178   1.620 -10.840  0.00  0.00           H\nATOM     11 H14B POP S   1     -10.281   0.259  -9.801  0.00  0.00           H\nATOM     12 H14C POP S   1     -11.046   0.234 -11.324  0.00  0.00           H\nATOM     13 C15  POP S   1     -12.921   0.071  -9.432  0.00  0.00           C\nATOM     14 H15A POP S   1     -13.801   0.378  -8.886  0.00  0.00           H\nATOM     15 H15B POP S   1     -12.382  -0.425  -8.639  0.00  0.00           H\nATOM     16 H15C POP S   1     -13.180  -0.493 -10.315  0.00  0.00           H\nATOM     17 C11  POP S   1     -10.981   1.551  -7.343  0.00  0.00           C\nATOM     18 H11A POP S   1     -11.668   0.797  -6.903  0.00  0.00           H\nATOM     19 H11B POP S   1     -10.799   2.362  -6.606  0.00  0.00           H\nATOM     20 P    POP S   1      -8.987   0.081  -6.730  0.00  0.00           P\nATOM     21 O13  POP S   1      -9.742  -1.078  -6.350  0.00  0.00           O\nATOM     22 O14  POP S   1      -8.554   0.980  -5.654  0.00  0.00           O\nATOM     23 O12  POP S   1      -9.734   0.987  -7.783  0.00  0.00           O\nATOM     24 O11  POP S   1      -7.734  -0.334  -7.573  0.00  0.00           O\nATOM     25 C1   POP S   1      -7.946  -1.286  -8.598  0.00  0.00           C\nATOM     26 HA   POP S   1      -9.001  -1.314  -8.945  0.00  0.00           H\nATOM     27 HB   POP S   1      -7.865  -2.290  -8.128  0.00  0.00           H\nATOM     28 C2   POP S   1      -6.789  -1.248  -9.686  0.00  0.00           C\nATOM     29 HS   POP S   1      -6.909  -2.071 -10.422  0.00  0.00           H\nATOM     30 O21  POP S   1      -5.508  -1.140  -9.055  0.00  0.00           O\nATOM     31 C21  POP S   1      -4.555  -1.898  -9.450  0.00  0.00           C\nATOM     32 O22  POP S   1      -4.489  -2.593 -10.442  0.00  0.00           O\nATOM     33 C22  POP S   1      -3.398  -1.801  -8.455  0.00  0.00           C\nATOM     34 H2R  POP S   1      -2.539  -2.301  -8.951  0.00  0.00           H\nATOM     35 H2S  POP S   1      -3.636  -2.424  -7.566  0.00  0.00           H\nATOM     36 C3   POP S   1      -7.179   0.038 -10.550  0.00  0.00           C\nATOM     37 HX   POP S   1      -7.083   0.882  -9.834  0.00  0.00           H\nATOM     38 HY   POP S   1      -8.227  -0.162 -10.863  0.00  0.00           H\nATOM     39 O31  POP S   1      -6.232   0.140 -11.674  0.00  0.00           O\nATOM     40 C31  POP S   1      -5.246   0.986 -11.650  0.00  0.00           C\nATOM     41 O32  POP S   1      -5.080   1.853 -10.830  0.00  0.00           O\nATOM     42 C32  POP S   1      -4.372   0.759 -12.882  0.00  0.00           C\nATOM     43 H2X  POP S   1      -4.499   1.457 -13.737  0.00  0.00           H\nATOM     44 H2Y  POP S   1      -4.673  -0.265 -13.193  0.00  0.00           H\nATOM     45 C23  POP S   1      -3.123  -0.306  -8.076  0.00  0.00           C\nATOM     46 H3R  POP S   1      -3.814  -0.014  -7.256  0.00  0.00           H\nATOM     47 H3S  POP S   1      -3.364   0.263  -8.999  0.00  0.00           H\nATOM     48 C24  POP S   1      -1.608   0.037  -7.869  0.00  0.00           C\nATOM     49 H4R  POP S   1      -1.130  -0.406  -8.769  0.00  0.00           H\nATOM     50 H4S  POP S   1      -1.204  -0.479  -6.972  0.00  0.00           H\nATOM     51 C25  POP S   1      -1.242   1.537  -7.902  0.00  0.00           C\nATOM     52 H5R  POP S   1      -1.801   2.028  -7.077  0.00  0.00           H\nATOM     53 H5S  POP S   1      -1.606   1.912  -8.882  0.00  0.00           H\nATOM     54 C26  POP S   1       0.276   1.772  -7.835  0.00  0.00           C\nATOM     55 H6R  POP S   1       0.807   1.283  -8.679  0.00  0.00           H\nATOM     56 H6S  POP S   1       0.687   1.292  -6.921  0.00  0.00           H\nATOM     57 C27  POP S   1       0.682   3.275  -7.867  0.00  0.00           C\nATOM     58 H7R  POP S   1       1.786   3.197  -7.763  0.00  0.00           H\nATOM     59 H7S  POP S   1       0.391   3.659  -6.866  0.00  0.00           H\nATOM     60 C28  POP S   1       0.329   4.079  -9.146  0.00  0.00           C\nATOM     61 H8R  POP S   1      -0.781   4.115  -9.176  0.00  0.00           H\nATOM     62 H8S  POP S   1       0.617   3.501 -10.050  0.00  0.00           H\nATOM     63 C29  POP S   1       1.093   5.375  -9.079  0.00  0.00           C\nATOM     64 H91  POP S   1       0.391   6.221  -9.048  0.00  0.00           H\nATOM     65 C210 POP S   1       2.352   5.606  -9.201  0.00  0.00           C\nATOM     66 H101 POP S   1       2.667   6.660  -9.188  0.00  0.00           H\nATOM     67 C211 POP S   1       3.488   4.624  -9.444  0.00  0.00           C\nATOM     68 H11R POP S   1       3.943   4.955 -10.402  0.00  0.00           H\nATOM     69 H11S POP S   1       3.103   3.593  -9.599  0.00  0.00           H\nATOM     70 C212 POP S   1       4.585   4.485  -8.385  0.00  0.00           C\nATOM     71 H12R POP S   1       4.080   4.327  -7.408  0.00  0.00           H\nATOM     72 H12S POP S   1       5.102   5.452  -8.206  0.00  0.00           H\nATOM     73 C213 POP S   1       5.644   3.381  -8.736  0.00  0.00           C\nATOM     74 H13R POP S   1       5.024   2.578  -9.189  0.00  0.00           H\nATOM     75 H13S POP S   1       6.037   3.120  -7.730  0.00  0.00           H\nATOM     76 C214 POP S   1       6.806   3.971  -9.712  0.00  0.00           C\nATOM     77 H14R POP S   1       7.242   4.801  -9.116  0.00  0.00           H\nATOM     78 H14S POP S   1       6.175   4.367 -10.537  0.00  0.00           H\nATOM     79 C215 POP S   1       7.803   2.972 -10.128  0.00  0.00           C\nATOM     80 H15R POP S   1       7.405   2.312 -10.928  0.00  0.00           H\nATOM     81 H15S POP S   1       8.142   2.294  -9.316  0.00  0.00           H\nATOM     82 C216 POP S   1       9.006   3.659 -10.773  0.00  0.00           C\nATOM     83 H16R POP S   1       8.614   4.435 -11.464  0.00  0.00           H\nATOM     84 H16S POP S   1       9.584   2.852 -11.272  0.00  0.00           H\nATOM     85 C217 POP S   1      10.025   4.161  -9.768  0.00  0.00           C\nATOM     86 H17R POP S   1       9.464   4.389  -8.836  0.00  0.00           H\nATOM     87 H17S POP S   1      10.495   5.096 -10.141  0.00  0.00           H\nATOM     88 C218 POP S   1      11.124   3.213  -9.527  0.00  0.00           C\nATOM     89 H18R POP S   1      11.731   2.951 -10.420  0.00  0.00           H\nATOM     90 H18S POP S   1      10.829   2.242  -9.074  0.00  0.00           H\nATOM     91 H18T POP S   1      11.752   3.768  -8.797  0.00  0.00           H\nATOM     92 C33  POP S   1      -2.892   0.928 -12.379  0.00  0.00           C\nATOM     93 H3X  POP S   1      -2.818   0.223 -11.523  0.00  0.00           H\nATOM     94 H3Y  POP S   1      -2.711   1.968 -12.032  0.00  0.00           H\nATOM     95 C34  POP S   1      -1.879   0.568 -13.568  0.00  0.00           C\nATOM     96 H4X  POP S   1      -2.096   1.379 -14.296  0.00  0.00           H\nATOM     97 H4Y  POP S   1      -2.129  -0.411 -14.030  0.00  0.00           H\nATOM     98 C35  POP S   1      -0.415   0.628 -13.136  0.00  0.00           C\nATOM     99 H5X  POP S   1      -0.266   1.413 -12.364  0.00  0.00           H\nATOM    100 H5Y  POP S   1       0.130   0.849 -14.078  0.00  0.00           H\nATOM    101 C36  POP S   1       0.132  -0.750 -12.604  0.00  0.00           C\nATOM    102 H6X  POP S   1      -0.006  -1.493 -13.419  0.00  0.00           H\nATOM    103 H6Y  POP S   1      -0.437  -1.095 -11.714  0.00  0.00           H\nATOM    104 C37  POP S   1       1.581  -0.798 -12.193  0.00  0.00           C\nATOM    105 H7X  POP S   1       2.209  -0.467 -13.047  0.00  0.00           H\nATOM    106 H7Y  POP S   1       1.898  -1.840 -11.969  0.00  0.00           H\nATOM    107 C38  POP S   1       1.930   0.039 -10.974  0.00  0.00           C\nATOM    108 H8X  POP S   1       1.457  -0.324 -10.036  0.00  0.00           H\nATOM    109 H8Y  POP S   1       1.687   1.100 -11.195  0.00  0.00           H\nATOM    110 C39  POP S   1       3.506   0.079 -10.752  0.00  0.00           C\nATOM    111 H9X  POP S   1       3.772   0.966 -10.137  0.00  0.00           H\nATOM    112 H9Y  POP S   1       4.076   0.286 -11.683  0.00  0.00           H\nATOM    113 C310 POP S   1       3.996  -1.320 -10.327  0.00  0.00           C\nATOM    114 H10X POP S   1       3.885  -2.070 -11.139  0.00  0.00           H\nATOM    115 H10Y POP S   1       3.295  -1.705  -9.556  0.00  0.00           H\nATOM    116 C311 POP S   1       5.499  -1.476 -10.064  0.00  0.00           C\nATOM    117 H11X POP S   1       5.820  -0.681  -9.358  0.00  0.00           H\nATOM    118 H11Y POP S   1       5.896  -1.157 -11.052  0.00  0.00           H\nATOM    119 C312 POP S   1       5.897  -2.867  -9.583  0.00  0.00           C\nATOM    120 H12X POP S   1       5.503  -3.707 -10.194  0.00  0.00           H\nATOM    121 H12Y POP S   1       5.465  -3.009  -8.569  0.00  0.00           H\nATOM    122 C313 POP S   1       7.411  -2.956  -9.484  0.00  0.00           C\nATOM    123 H13X POP S   1       7.844  -2.131  -8.878  0.00  0.00           H\nATOM    124 H13Y POP S   1       7.909  -2.935 -10.477  0.00  0.00           H\nATOM    125 C314 POP S   1       7.908  -4.177  -8.838  0.00  0.00           C\nATOM    126 H14X POP S   1       7.520  -5.002  -9.473  0.00  0.00           H\nATOM    127 H14Y POP S   1       7.471  -4.129  -7.817  0.00  0.00           H\nATOM    128 C315 POP S   1       9.467  -4.280  -8.693  0.00  0.00           C\nATOM    129 H15X POP S   1      10.007  -4.163  -9.657  0.00  0.00           H\nATOM    130 H15Y POP S   1       9.691  -5.274  -8.250  0.00  0.00           H\nATOM    131 C316 POP S   1      10.218  -3.227  -7.769  0.00  0.00           C\nATOM    132 H16X POP S   1       9.590  -3.296  -6.855  0.00  0.00           H\nATOM    133 H16Y POP S   1      10.425  -2.217  -8.181  0.00  0.00           H\nATOM    134 H16Z POP S   1      11.255  -3.605  -7.646  0.00  0.00           H\nEND\n",
           "type": "blob"
          }
         ],
         "kwargs": {
          "defaultRepresentation": true,
          "ext": "pdb",
          "name": "nglview.adaptor.MolSysMTTrajectory",
          "skipDigestion": true
         },
         "methodName": "loadFile",
         "reconstruc_color_scheme": false,
         "target": "Stage",
         "type": "call_method"
        }
       ],
       "_ngl_original_stage_parameters": {},
       "_ngl_repr_dict": {},
       "_ngl_serialize": false,
       "_ngl_version": "",
       "_ngl_view_id": [],
       "_player_dict": {},
       "_scene_position": {},
       "_scene_rotation": {},
       "_synced_model_ids": [],
       "_synced_repr_model_ids": [],
       "_view_count": null,
       "_view_height": "",
       "_view_module": "nglview-js-widgets",
       "_view_module_version": "3.1.4",
       "_view_name": "NGLView",
       "_view_width": "",
       "background": "white",
       "frame": 0,
       "gui_style": null,
       "layout": "IPY_MODEL_f583be3779fb46a0bfaef1216f0cf355",
       "max_frame": 0,
       "n_components": 0,
       "picked": {},
       "tabbable": null,
       "tooltip": null
      }
     },
     "7625e0b8e59642e3808eb2dae6d77962": {
      "model_module": "@jupyter-widgets/controls",
      "model_module_version": "2.0.0",
      "model_name": "PlayModel",
      "state": {
       "_dom_classes": [],
       "_model_module": "@jupyter-widgets/controls",
       "_model_module_version": "2.0.0",
       "_model_name": "PlayModel",
       "_view_count": null,
       "_view_module": "@jupyter-widgets/controls",
       "_view_module_version": "2.0.0",
       "_view_name": "PlayView",
       "description": "",
       "description_allow_html": false,
       "disabled": false,
       "interval": 100,
       "layout": "IPY_MODEL_81182ef97b0b43bbb4325e6f4f44c54e",
       "max": 0,
       "min": 0,
       "playing": false,
       "repeat": false,
       "show_repeat": true,
       "step": 1,
       "style": "IPY_MODEL_d532a32823fd4f46a1d2164c1acf1bac",
       "tabbable": null,
       "tooltip": null,
       "value": 0
      }
     },
     "81182ef97b0b43bbb4325e6f4f44c54e": {
      "model_module": "@jupyter-widgets/base",
      "model_module_version": "2.0.0",
      "model_name": "LayoutModel",
      "state": {
       "_model_module": "@jupyter-widgets/base",
       "_model_module_version": "2.0.0",
       "_model_name": "LayoutModel",
       "_view_count": null,
       "_view_module": "@jupyter-widgets/base",
       "_view_module_version": "2.0.0",
       "_view_name": "LayoutView",
       "align_content": null,
       "align_items": null,
       "align_self": null,
       "border_bottom": null,
       "border_left": null,
       "border_right": null,
       "border_top": null,
       "bottom": null,
       "display": null,
       "flex": null,
       "flex_flow": null,
       "grid_area": null,
       "grid_auto_columns": null,
       "grid_auto_flow": null,
       "grid_auto_rows": null,
       "grid_column": null,
       "grid_gap": null,
       "grid_row": null,
       "grid_template_areas": null,
       "grid_template_columns": null,
       "grid_template_rows": null,
       "height": null,
       "justify_content": null,
       "justify_items": null,
       "left": null,
       "margin": null,
       "max_height": null,
       "max_width": null,
       "min_height": null,
       "min_width": null,
       "object_fit": null,
       "object_position": null,
       "order": null,
       "overflow": null,
       "padding": null,
       "right": null,
       "top": null,
       "visibility": null,
       "width": null
      }
     },
     "939d777218d2461b913e6b5f36d04573": {
      "model_module": "@jupyter-widgets/base",
      "model_module_version": "2.0.0",
      "model_name": "LayoutModel",
      "state": {
       "_model_module": "@jupyter-widgets/base",
       "_model_module_version": "2.0.0",
       "_model_name": "LayoutModel",
       "_view_count": null,
       "_view_module": "@jupyter-widgets/base",
       "_view_module_version": "2.0.0",
       "_view_name": "LayoutView",
       "align_content": null,
       "align_items": null,
       "align_self": null,
       "border_bottom": null,
       "border_left": null,
       "border_right": null,
       "border_top": null,
       "bottom": null,
       "display": null,
       "flex": null,
       "flex_flow": null,
       "grid_area": null,
       "grid_auto_columns": null,
       "grid_auto_flow": null,
       "grid_auto_rows": null,
       "grid_column": null,
       "grid_gap": null,
       "grid_row": null,
       "grid_template_areas": null,
       "grid_template_columns": null,
       "grid_template_rows": null,
       "height": null,
       "justify_content": null,
       "justify_items": null,
       "left": null,
       "margin": null,
       "max_height": null,
       "max_width": null,
       "min_height": null,
       "min_width": null,
       "object_fit": null,
       "object_position": null,
       "order": null,
       "overflow": null,
       "padding": null,
       "right": null,
       "top": null,
       "visibility": null,
       "width": null
      }
     },
     "a7627166c95049b8805e94e766a00fae": {
      "model_module": "@jupyter-widgets/controls",
      "model_module_version": "2.0.0",
      "model_name": "ButtonModel",
      "state": {
       "_dom_classes": [],
       "_model_module": "@jupyter-widgets/controls",
       "_model_module_version": "2.0.0",
       "_model_name": "ButtonModel",
       "_view_count": null,
       "_view_module": "@jupyter-widgets/controls",
       "_view_module_version": "2.0.0",
       "_view_name": "ButtonView",
       "button_style": "",
       "description": "",
       "disabled": false,
       "icon": "compress",
       "layout": "IPY_MODEL_094958982a764ac1bf19038b9fd1762f",
       "style": "IPY_MODEL_415fb4b2cda64f6c9f1429dc8421747d",
       "tabbable": null,
       "tooltip": null
      }
     },
     "b9cba65fccc74a6395c20b679e278aab": {
      "model_module": "nglview-js-widgets",
      "model_module_version": "3.1.4",
      "model_name": "NGLModel",
      "state": {
       "_camera_orientation": [],
       "_camera_str": "orthographic",
       "_dom_classes": [],
       "_gui_theme": null,
       "_ibtn_fullscreen": "IPY_MODEL_a7627166c95049b8805e94e766a00fae",
       "_igui": null,
       "_iplayer": "IPY_MODEL_0be922cc73864fb7a4781ba19d33ba4a",
       "_model_module": "nglview-js-widgets",
       "_model_module_version": "3.1.4",
       "_model_name": "NGLModel",
       "_ngl_color_dict": {},
       "_ngl_coordinate_resource": {},
       "_ngl_full_stage_parameters": {},
       "_ngl_msg_archive": [
        {
         "args": [
          {
           "binary": false,
           "data": "HEADER    MOLECULAR SYSTEM                        11-MAR-25       \nREMARK   1 Created by MolSysMT version 1.0 on 11-MAR-2025 at 15:04:49\nATOM      1 N    POP S   1      -1.132   1.558   2.045  0.00  0.00           N\nATOM      2 C12  POP S   1       0.358   1.591   1.846  0.00  0.00           C\nATOM      3 H12A POP S   1       0.821   1.711   2.814  0.00  0.00           H\nATOM      4 H12B POP S   1       0.600   2.442   1.226  0.00  0.00           H\nATOM      5 C13  POP S   1      -1.557   2.862   2.819  0.00  0.00           C\nATOM      6 H13A POP S   1      -2.584   3.193   2.777  0.00  0.00           H\nATOM      7 H13B POP S   1      -1.332   2.660   3.856  0.00  0.00           H\nATOM      8 H13C POP S   1      -0.983   3.724   2.513  0.00  0.00           H\nATOM      9 C14  POP S   1      -1.829   1.561   0.756  0.00  0.00           C\nATOM     10 H14A POP S   1      -1.647   2.368   0.061  0.00  0.00           H\nATOM     11 H14B POP S   1      -1.568   0.662   0.217  0.00  0.00           H\nATOM     12 H14C POP S   1      -2.905   1.517   0.839  0.00  0.00           H\nATOM     13 C15  POP S   1      -1.614   0.368   2.873  0.00  0.00           C\nATOM     14 H15A POP S   1      -1.074   0.337   3.807  0.00  0.00           H\nATOM     15 H15B POP S   1      -1.192  -0.503   2.393  0.00  0.00           H\nATOM     16 H15C POP S   1      -2.681   0.405   3.033  0.00  0.00           H\nATOM     17 C11  POP S   1       1.113   0.365   1.176  0.00  0.00           C\nATOM     18 H11A POP S   1       0.988  -0.488   1.877  0.00  0.00           H\nATOM     19 H11B POP S   1       2.192   0.616   1.086  0.00  0.00           H\nATOM     20 P    POP S   1       0.974  -1.247  -0.797  0.00  0.00           P\nATOM     21 O13  POP S   1       0.566  -2.399  -0.046  0.00  0.00           O\nATOM     22 O14  POP S   1       2.404  -1.122  -1.103  0.00  0.00           O\nATOM     23 O12  POP S   1       0.549   0.113  -0.122  0.00  0.00           O\nATOM     24 O11  POP S   1       0.164  -1.149  -2.134  0.00  0.00           O\nATOM     25 C1   POP S   1      -1.234  -1.354  -2.045  0.00  0.00           C\nATOM     26 HA   POP S   1      -1.632  -1.154  -1.028  0.00  0.00           H\nATOM     27 HB   POP S   1      -1.404  -2.449  -2.113  0.00  0.00           H\nATOM     28 C2   POP S   1      -1.999  -0.740  -3.295  0.00  0.00           C\nATOM     29 HS   POP S   1      -3.078  -1.003  -3.267  0.00  0.00           H\nATOM     30 O21  POP S   1      -1.302  -1.039  -4.509  0.00  0.00           O\nATOM     31 C21  POP S   1      -1.965  -1.469  -5.516  0.00  0.00           C\nATOM     32 O22  POP S   1      -3.166  -1.487  -5.693  0.00  0.00           O\nATOM     33 C22  POP S   1      -0.987  -1.979  -6.574  0.00  0.00           C\nATOM     34 H2R  POP S   1      -1.597  -2.135  -7.490  0.00  0.00           H\nATOM     35 H2S  POP S   1      -0.628  -2.987  -6.276  0.00  0.00           H\nATOM     36 C3   POP S   1      -2.022   0.819  -2.945  0.00  0.00           C\nATOM     37 HX   POP S   1      -0.950   1.111  -2.951  0.00  0.00           H\nATOM     38 HY   POP S   1      -2.488   0.857  -1.938  0.00  0.00           H\nATOM     39 O31  POP S   1      -2.801   1.511  -3.987  0.00  0.00           O\nATOM     40 C31  POP S   1      -2.214   2.170  -4.941  0.00  0.00           C\nATOM     41 O32  POP S   1      -1.038   2.421  -5.005  0.00  0.00           O\nATOM     42 C32  POP S   1      -3.274   2.653  -5.930  0.00  0.00           C\nATOM     43 H2X  POP S   1      -3.596   3.714  -5.860  0.00  0.00           H\nATOM     44 H2Y  POP S   1      -4.133   1.990  -5.690  0.00  0.00           H\nATOM     45 C23  POP S   1       0.191  -0.964  -6.768  0.00  0.00           C\nATOM     46 H3R  POP S   1       0.965  -1.166  -5.998  0.00  0.00           H\nATOM     47 H3S  POP S   1      -0.270   0.032  -6.595  0.00  0.00           H\nATOM     48 C24  POP S   1       0.694  -0.837  -8.248  0.00  0.00           C\nATOM     49 H4R  POP S   1      -0.251  -0.709  -8.818  0.00  0.00           H\nATOM     50 H4S  POP S   1       1.178  -1.779  -8.583  0.00  0.00           H\nATOM     51 C25  POP S   1       1.544   0.412  -8.570  0.00  0.00           C\nATOM     52 H5R  POP S   1       2.447   0.368  -7.923  0.00  0.00           H\nATOM     53 H5S  POP S   1       0.916   1.283  -8.284  0.00  0.00           H\nATOM     54 C26  POP S   1       1.871   0.528 -10.067  0.00  0.00           C\nATOM     55 H6R  POP S   1       0.951   0.586 -10.687  0.00  0.00           H\nATOM     56 H6S  POP S   1       2.390  -0.393 -10.408  0.00  0.00           H\nATOM     57 C27  POP S   1       2.727   1.777 -10.429  0.00  0.00           C\nATOM     58 H7R  POP S   1       2.871   1.626 -11.520  0.00  0.00           H\nATOM     59 H7S  POP S   1       3.739   1.540 -10.036  0.00  0.00           H\nATOM     60 C28  POP S   1       2.096   3.171 -10.169  0.00  0.00           C\nATOM     61 H8R  POP S   1       1.990   3.247  -9.066  0.00  0.00           H\nATOM     62 H8S  POP S   1       1.054   3.195 -10.556  0.00  0.00           H\nATOM     63 C29  POP S   1       2.950   4.184 -10.885  0.00  0.00           C\nATOM     64 H91  POP S   1       3.387   4.884 -10.157  0.00  0.00           H\nATOM     65 C210 POP S   1       3.096   4.410 -12.142  0.00  0.00           C\nATOM     66 H101 POP S   1       3.728   5.266 -12.422  0.00  0.00           H\nATOM     67 C211 POP S   1       2.448   3.706 -13.324  0.00  0.00           C\nATOM     68 H11R POP S   1       1.890   4.507 -13.854  0.00  0.00           H\nATOM     69 H11S POP S   1       1.706   2.951 -12.987  0.00  0.00           H\nATOM     70 C212 POP S   1       3.342   2.967 -14.324  0.00  0.00           C\nATOM     71 H12R POP S   1       4.009   2.300 -13.737  0.00  0.00           H\nATOM     72 H12S POP S   1       4.080   3.651 -14.794  0.00  0.00           H\nATOM     73 C213 POP S   1       2.530   2.224 -15.444  0.00  0.00           C\nATOM     74 H13R POP S   1       1.649   1.831 -14.892  0.00  0.00           H\nATOM     75 H13S POP S   1       3.246   1.432 -15.751  0.00  0.00           H\nATOM     76 C214 POP S   1       2.166   3.230 -16.672  0.00  0.00           C\nATOM     77 H14R POP S   1       3.163   3.569 -17.026  0.00  0.00           H\nATOM     78 H14S POP S   1       1.654   4.038 -16.107  0.00  0.00           H\nATOM     79 C215 POP S   1       1.355   2.613 -17.731  0.00  0.00           C\nATOM     80 H15R POP S   1       0.290   2.528 -17.429  0.00  0.00           H\nATOM     81 H15S POP S   1       1.672   1.587 -18.016  0.00  0.00           H\nATOM     82 C216 POP S   1       1.322   3.511 -18.967  0.00  0.00           C\nATOM     83 H16R POP S   1       1.155   4.552 -18.617  0.00  0.00           H\nATOM     84 H16S POP S   1       0.512   3.110 -19.612  0.00  0.00           H\nATOM     85 C217 POP S   1       2.525   3.335 -19.875  0.00  0.00           C\nATOM     86 H17R POP S   1       3.366   3.013 -19.225  0.00  0.00           H\nATOM     87 H17S POP S   1       2.787   4.305 -20.348  0.00  0.00           H\nATOM     88 C218 POP S   1       2.291   2.387 -20.975  0.00  0.00           C\nATOM     89 H18R POP S   1       1.465   2.656 -21.668  0.00  0.00           H\nATOM     90 H18S POP S   1       2.090   1.337 -20.670  0.00  0.00           H\nATOM     91 H18T POP S   1       3.260   2.418 -21.517  0.00  0.00           H\nATOM     92 C33  POP S   1      -2.630   2.470  -7.352  0.00  0.00           C\nATOM     93 H3X  POP S   1      -2.316   1.405  -7.370  0.00  0.00           H\nATOM     94 H3Y  POP S   1      -1.743   3.130  -7.469  0.00  0.00           H\nATOM     95 C34  POP S   1      -3.716   2.816  -8.480  0.00  0.00           C\nATOM     96 H4X  POP S   1      -3.878   3.901  -8.305  0.00  0.00           H\nATOM     97 H4Y  POP S   1      -4.669   2.273  -8.303  0.00  0.00           H\nATOM     98 C35  POP S   1      -3.192   2.584  -9.896  0.00  0.00           C\nATOM     99 H5X  POP S   1      -2.102   2.794  -9.950  0.00  0.00           H\nATOM    100 H5Y  POP S   1      -3.792   3.282 -10.517  0.00  0.00           H\nATOM    101 C36  POP S   1      -3.480   1.131 -10.434  0.00  0.00           C\nATOM    102 H6X  POP S   1      -4.579   0.980 -10.393  0.00  0.00           H\nATOM    103 H6Y  POP S   1      -2.995   0.361  -9.797  0.00  0.00           H\nATOM    104 C37  POP S   1      -3.035   0.822 -11.841  0.00  0.00           C\nATOM    105 H7X  POP S   1      -3.493   1.560 -12.533  0.00  0.00           H\nATOM    106 H7Y  POP S   1      -3.408  -0.172 -12.167  0.00  0.00           H\nATOM    107 C38  POP S   1      -1.531   0.818 -12.052  0.00  0.00           C\nATOM    108 H8X  POP S   1      -1.008   0.004 -11.507  0.00  0.00           H\nATOM    109 H8Y  POP S   1      -1.138   1.826 -11.797  0.00  0.00           H\nATOM    110 C39  POP S   1      -1.180   0.686 -13.599  0.00  0.00           C\nATOM    111 H9X  POP S   1      -0.152   1.066 -13.780  0.00  0.00           H\nATOM    112 H9Y  POP S   1      -1.777   1.366 -14.244  0.00  0.00           H\nATOM    113 C310 POP S   1      -1.573  -0.722 -14.091  0.00  0.00           C\nATOM    114 H10X POP S   1      -2.672  -0.882 -14.076  0.00  0.00           H\nATOM    115 H10Y POP S   1      -1.221  -1.456 -13.334  0.00  0.00           H\nATOM    116 C311 POP S   1      -1.306  -1.038 -15.567  0.00  0.00           C\nATOM    117 H11X POP S   1      -0.249  -0.788 -15.799  0.00  0.00           H\nATOM    118 H11Y POP S   1      -1.902  -0.230 -16.043  0.00  0.00           H\nATOM    119 C312 POP S   1      -1.656  -2.469 -15.962  0.00  0.00           C\nATOM    120 H12X POP S   1      -2.667  -2.809 -15.651  0.00  0.00           H\nATOM    121 H12Y POP S   1      -0.943  -3.145 -15.444  0.00  0.00           H\nATOM    122 C313 POP S   1      -1.485  -2.638 -17.463  0.00  0.00           C\nATOM    123 H13X POP S   1      -0.484  -2.309 -17.814  0.00  0.00           H\nATOM    124 H13Y POP S   1      -2.244  -2.075 -18.047  0.00  0.00           H\nATOM    125 C314 POP S   1      -1.595  -4.023 -17.935  0.00  0.00           C\nATOM    126 H14X POP S   1      -2.617  -4.338 -17.632  0.00  0.00           H\nATOM    127 H14Y POP S   1      -0.770  -4.546 -17.406  0.00  0.00           H\nATOM    128 C315 POP S   1      -1.391  -4.231 -19.477  0.00  0.00           C\nATOM    129 H15X POP S   1      -2.067  -3.606 -20.099  0.00  0.00           H\nATOM    130 H15Y POP S   1      -1.565  -5.307 -19.690  0.00  0.00           H\nATOM    131 C316 POP S   1       0.029  -3.901 -20.109  0.00  0.00           C\nATOM    132 H16X POP S   1       0.684  -4.455 -19.403  0.00  0.00           H\nATOM    133 H16Y POP S   1       0.278  -2.839 -20.322  0.00  0.00           H\nATOM    134 H16Z POP S   1       0.014  -4.309 -21.142  0.00  0.00           H\nEND\n",
           "type": "blob"
          }
         ],
         "kwargs": {
          "defaultRepresentation": true,
          "ext": "pdb",
          "name": "nglview.adaptor.MolSysMTTrajectory",
          "skipDigestion": true
         },
         "methodName": "loadFile",
         "reconstruc_color_scheme": false,
         "target": "Stage",
         "type": "call_method"
        }
       ],
       "_ngl_original_stage_parameters": {},
       "_ngl_repr_dict": {},
       "_ngl_serialize": false,
       "_ngl_version": "",
       "_ngl_view_id": [],
       "_player_dict": {},
       "_scene_position": {},
       "_scene_rotation": {},
       "_synced_model_ids": [],
       "_synced_repr_model_ids": [],
       "_view_count": null,
       "_view_height": "",
       "_view_module": "nglview-js-widgets",
       "_view_module_version": "3.1.4",
       "_view_name": "NGLView",
       "_view_width": "",
       "background": "white",
       "frame": 0,
       "gui_style": null,
       "layout": "IPY_MODEL_66f9f39ef8d649a8a6db31631f73d9a2",
       "max_frame": 0,
       "n_components": 0,
       "picked": {},
       "tabbable": null,
       "tooltip": null
      }
     },
     "c16f908c979c46988ad700151619d35b": {
      "model_module": "@jupyter-widgets/base",
      "model_module_version": "2.0.0",
      "model_name": "LayoutModel",
      "state": {
       "_model_module": "@jupyter-widgets/base",
       "_model_module_version": "2.0.0",
       "_model_name": "LayoutModel",
       "_view_count": null,
       "_view_module": "@jupyter-widgets/base",
       "_view_module_version": "2.0.0",
       "_view_name": "LayoutView",
       "align_content": null,
       "align_items": null,
       "align_self": null,
       "border_bottom": null,
       "border_left": null,
       "border_right": null,
       "border_top": null,
       "bottom": null,
       "display": null,
       "flex": null,
       "flex_flow": null,
       "grid_area": null,
       "grid_auto_columns": null,
       "grid_auto_flow": null,
       "grid_auto_rows": null,
       "grid_column": null,
       "grid_gap": null,
       "grid_row": null,
       "grid_template_areas": null,
       "grid_template_columns": null,
       "grid_template_rows": null,
       "height": null,
       "justify_content": null,
       "justify_items": null,
       "left": null,
       "margin": null,
       "max_height": null,
       "max_width": null,
       "min_height": null,
       "min_width": null,
       "object_fit": null,
       "object_position": null,
       "order": null,
       "overflow": null,
       "padding": null,
       "right": null,
       "top": null,
       "visibility": null,
       "width": null
      }
     },
     "c193b86f8f11496b84eb605537b9e583": {
      "model_module": "@jupyter-widgets/base",
      "model_module_version": "2.0.0",
      "model_name": "LayoutModel",
      "state": {
       "_model_module": "@jupyter-widgets/base",
       "_model_module_version": "2.0.0",
       "_model_name": "LayoutModel",
       "_view_count": null,
       "_view_module": "@jupyter-widgets/base",
       "_view_module_version": "2.0.0",
       "_view_name": "LayoutView",
       "align_content": null,
       "align_items": null,
       "align_self": null,
       "border_bottom": null,
       "border_left": null,
       "border_right": null,
       "border_top": null,
       "bottom": null,
       "display": null,
       "flex": null,
       "flex_flow": null,
       "grid_area": null,
       "grid_auto_columns": null,
       "grid_auto_flow": null,
       "grid_auto_rows": null,
       "grid_column": null,
       "grid_gap": null,
       "grid_row": null,
       "grid_template_areas": null,
       "grid_template_columns": null,
       "grid_template_rows": null,
       "height": null,
       "justify_content": null,
       "justify_items": null,
       "left": null,
       "margin": null,
       "max_height": null,
       "max_width": null,
       "min_height": null,
       "min_width": null,
       "object_fit": null,
       "object_position": null,
       "order": null,
       "overflow": null,
       "padding": null,
       "right": null,
       "top": null,
       "visibility": null,
       "width": null
      }
     },
     "c4c2e98d46c14ac6b8dbb4b347944546": {
      "model_module": "@jupyter-widgets/controls",
      "model_module_version": "2.0.0",
      "model_name": "LinkModel",
      "state": {
       "_model_module": "@jupyter-widgets/controls",
       "_model_module_version": "2.0.0",
       "_model_name": "LinkModel",
       "_view_count": null,
       "_view_module": "@jupyter-widgets/controls",
       "_view_module_version": "2.0.0",
       "_view_name": null,
       "source": [
        "IPY_MODEL_7625e0b8e59642e3808eb2dae6d77962",
        "max"
       ],
       "target": [
        "IPY_MODEL_b9cba65fccc74a6395c20b679e278aab",
        "max_frame"
       ]
      }
     },
     "c6bb8438d21949308a00eff497403a8f": {
      "model_module": "@jupyter-widgets/controls",
      "model_module_version": "2.0.0",
      "model_name": "LinkModel",
      "state": {
       "_model_module": "@jupyter-widgets/controls",
       "_model_module_version": "2.0.0",
       "_model_name": "LinkModel",
       "_view_count": null,
       "_view_module": "@jupyter-widgets/controls",
       "_view_module_version": "2.0.0",
       "_view_name": null,
       "source": [
        "IPY_MODEL_1f64f83a65234b20b61333f6fb13681c",
        "max"
       ],
       "target": [
        "IPY_MODEL_6e5f6c8c498f4771aea828f05e3cbc00",
        "max_frame"
       ]
      }
     },
     "cb5aa0d5225a4881aa8482bd9cb08d51": {
      "model_module": "@jupyter-widgets/controls",
      "model_module_version": "2.0.0",
      "model_name": "HBoxModel",
      "state": {
       "_dom_classes": [],
       "_model_module": "@jupyter-widgets/controls",
       "_model_module_version": "2.0.0",
       "_model_name": "HBoxModel",
       "_view_count": null,
       "_view_module": "@jupyter-widgets/controls",
       "_view_module_version": "2.0.0",
       "_view_name": "HBoxView",
       "box_style": "",
       "children": [
        "IPY_MODEL_1f64f83a65234b20b61333f6fb13681c",
        "IPY_MODEL_26dc392be20a4f20a8a7b9ee88b2dd2b"
       ],
       "layout": "IPY_MODEL_ec1b36bcac3c441fbecc03d6f4e85beb",
       "tabbable": null,
       "tooltip": null
      }
     },
     "d532a32823fd4f46a1d2164c1acf1bac": {
      "model_module": "@jupyter-widgets/controls",
      "model_module_version": "2.0.0",
      "model_name": "DescriptionStyleModel",
      "state": {
       "_model_module": "@jupyter-widgets/controls",
       "_model_module_version": "2.0.0",
       "_model_name": "DescriptionStyleModel",
       "_view_count": null,
       "_view_module": "@jupyter-widgets/base",
       "_view_module_version": "2.0.0",
       "_view_name": "StyleView",
       "description_width": ""
      }
     },
     "d5e26318b8774e14b9dfa2ce4deafa6f": {
      "buffers": [
       {
        "data": "",
        "encoding": "base64",
        "path": [
         "value"
        ]
       }
      ],
      "model_module": "@jupyter-widgets/controls",
      "model_module_version": "2.0.0",
      "model_name": "ImageModel",
      "state": {
       "_dom_classes": [],
       "_model_module": "@jupyter-widgets/controls",
       "_model_module_version": "2.0.0",
       "_model_name": "ImageModel",
       "_view_count": null,
       "_view_module": "@jupyter-widgets/controls",
       "_view_module_version": "2.0.0",
       "_view_name": "ImageView",
       "format": "png",
       "height": "",
       "layout": "IPY_MODEL_e46bbec45ec54d989354d658fb8adcaa",
       "tabbable": null,
       "tooltip": null,
       "width": "900.0"
      }
     },
     "dbc05cfcc103492ba7d8095a60d2338d": {
      "model_module": "nglview-js-widgets",
      "model_module_version": "3.1.4",
      "model_name": "ColormakerRegistryModel",
      "state": {
       "_dom_classes": [],
       "_model_module": "nglview-js-widgets",
       "_model_module_version": "3.1.4",
       "_model_name": "ColormakerRegistryModel",
       "_msg_ar": [],
       "_msg_q": [],
       "_ready": false,
       "_view_count": null,
       "_view_module": "nglview-js-widgets",
       "_view_module_version": "3.1.4",
       "_view_name": "ColormakerRegistryView",
       "layout": "IPY_MODEL_3a45b06ae3fa415aa787d31b49e64fad",
       "tabbable": null,
       "tooltip": null
      }
     },
     "e46bbec45ec54d989354d658fb8adcaa": {
      "model_module": "@jupyter-widgets/base",
      "model_module_version": "2.0.0",
      "model_name": "LayoutModel",
      "state": {
       "_model_module": "@jupyter-widgets/base",
       "_model_module_version": "2.0.0",
       "_model_name": "LayoutModel",
       "_view_count": null,
       "_view_module": "@jupyter-widgets/base",
       "_view_module_version": "2.0.0",
       "_view_name": "LayoutView",
       "align_content": null,
       "align_items": null,
       "align_self": null,
       "border_bottom": null,
       "border_left": null,
       "border_right": null,
       "border_top": null,
       "bottom": null,
       "display": null,
       "flex": null,
       "flex_flow": null,
       "grid_area": null,
       "grid_auto_columns": null,
       "grid_auto_flow": null,
       "grid_auto_rows": null,
       "grid_column": null,
       "grid_gap": null,
       "grid_row": null,
       "grid_template_areas": null,
       "grid_template_columns": null,
       "grid_template_rows": null,
       "height": null,
       "justify_content": null,
       "justify_items": null,
       "left": null,
       "margin": null,
       "max_height": null,
       "max_width": null,
       "min_height": null,
       "min_width": null,
       "object_fit": null,
       "object_position": null,
       "order": null,
       "overflow": null,
       "padding": null,
       "right": null,
       "top": null,
       "visibility": null,
       "width": null
      }
     },
     "ec1b36bcac3c441fbecc03d6f4e85beb": {
      "model_module": "@jupyter-widgets/base",
      "model_module_version": "2.0.0",
      "model_name": "LayoutModel",
      "state": {
       "_model_module": "@jupyter-widgets/base",
       "_model_module_version": "2.0.0",
       "_model_name": "LayoutModel",
       "_view_count": null,
       "_view_module": "@jupyter-widgets/base",
       "_view_module_version": "2.0.0",
       "_view_name": "LayoutView",
       "align_content": null,
       "align_items": null,
       "align_self": null,
       "border_bottom": null,
       "border_left": null,
       "border_right": null,
       "border_top": null,
       "bottom": null,
       "display": null,
       "flex": null,
       "flex_flow": null,
       "grid_area": null,
       "grid_auto_columns": null,
       "grid_auto_flow": null,
       "grid_auto_rows": null,
       "grid_column": null,
       "grid_gap": null,
       "grid_row": null,
       "grid_template_areas": null,
       "grid_template_columns": null,
       "grid_template_rows": null,
       "height": null,
       "justify_content": null,
       "justify_items": null,
       "left": null,
       "margin": null,
       "max_height": null,
       "max_width": null,
       "min_height": null,
       "min_width": null,
       "object_fit": null,
       "object_position": null,
       "order": null,
       "overflow": null,
       "padding": null,
       "right": null,
       "top": null,
       "visibility": null,
       "width": null
      }
     },
     "eff38ea7ee5549ea8d9befff1dec74cd": {
      "model_module": "@jupyter-widgets/base",
      "model_module_version": "2.0.0",
      "model_name": "LayoutModel",
      "state": {
       "_model_module": "@jupyter-widgets/base",
       "_model_module_version": "2.0.0",
       "_model_name": "LayoutModel",
       "_view_count": null,
       "_view_module": "@jupyter-widgets/base",
       "_view_module_version": "2.0.0",
       "_view_name": "LayoutView",
       "align_content": null,
       "align_items": null,
       "align_self": null,
       "border_bottom": null,
       "border_left": null,
       "border_right": null,
       "border_top": null,
       "bottom": null,
       "display": null,
       "flex": null,
       "flex_flow": null,
       "grid_area": null,
       "grid_auto_columns": null,
       "grid_auto_flow": null,
       "grid_auto_rows": null,
       "grid_column": null,
       "grid_gap": null,
       "grid_row": null,
       "grid_template_areas": null,
       "grid_template_columns": null,
       "grid_template_rows": null,
       "height": null,
       "justify_content": null,
       "justify_items": null,
       "left": null,
       "margin": null,
       "max_height": null,
       "max_width": null,
       "min_height": null,
       "min_width": null,
       "object_fit": null,
       "object_position": null,
       "order": null,
       "overflow": null,
       "padding": null,
       "right": null,
       "top": null,
       "visibility": null,
       "width": null
      }
     },
     "f583be3779fb46a0bfaef1216f0cf355": {
      "model_module": "@jupyter-widgets/base",
      "model_module_version": "2.0.0",
      "model_name": "LayoutModel",
      "state": {
       "_model_module": "@jupyter-widgets/base",
       "_model_module_version": "2.0.0",
       "_model_name": "LayoutModel",
       "_view_count": null,
       "_view_module": "@jupyter-widgets/base",
       "_view_module_version": "2.0.0",
       "_view_name": "LayoutView",
       "align_content": null,
       "align_items": null,
       "align_self": null,
       "border_bottom": null,
       "border_left": null,
       "border_right": null,
       "border_top": null,
       "bottom": null,
       "display": null,
       "flex": null,
       "flex_flow": null,
       "grid_area": null,
       "grid_auto_columns": null,
       "grid_auto_flow": null,
       "grid_auto_rows": null,
       "grid_column": null,
       "grid_gap": null,
       "grid_row": null,
       "grid_template_areas": null,
       "grid_template_columns": null,
       "grid_template_rows": null,
       "height": null,
       "justify_content": null,
       "justify_items": null,
       "left": null,
       "margin": null,
       "max_height": null,
       "max_width": null,
       "min_height": null,
       "min_width": null,
       "object_fit": null,
       "object_position": null,
       "order": null,
       "overflow": null,
       "padding": null,
       "right": null,
       "top": null,
       "visibility": null,
       "width": null
      }
     },
     "f6466dcdd7184a669f4d6138fbb9694f": {
      "model_module": "@jupyter-widgets/controls",
      "model_module_version": "2.0.0",
      "model_name": "DescriptionStyleModel",
      "state": {
       "_model_module": "@jupyter-widgets/controls",
       "_model_module_version": "2.0.0",
       "_model_name": "DescriptionStyleModel",
       "_view_count": null,
       "_view_module": "@jupyter-widgets/base",
       "_view_module_version": "2.0.0",
       "_view_name": "StyleView",
       "description_width": ""
      }
     },
     "fbd5abf610fe44929a22bc96ad463363": {
      "model_module": "@jupyter-widgets/controls",
      "model_module_version": "2.0.0",
      "model_name": "SliderStyleModel",
      "state": {
       "_model_module": "@jupyter-widgets/controls",
       "_model_module_version": "2.0.0",
       "_model_name": "SliderStyleModel",
       "_view_count": null,
       "_view_module": "@jupyter-widgets/base",
       "_view_module_version": "2.0.0",
       "_view_name": "StyleView",
       "description_width": "",
       "handle_color": null
      }
     }
    },
    "version_major": 2,
    "version_minor": 0
   }
  }
 },
 "nbformat": 4,
 "nbformat_minor": 5
}
