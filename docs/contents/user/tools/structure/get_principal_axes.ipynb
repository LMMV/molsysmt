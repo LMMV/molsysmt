{
 "cells": [
  {
   "cell_type": "code",
   "execution_count": 1,
   "id": "79ab8ace-6d0b-49a0-a1cc-e843c6fc285c",
   "metadata": {
    "execution": {
     "iopub.execute_input": "2025-03-11T21:04:17.434133Z",
     "iopub.status.busy": "2025-03-11T21:04:17.433715Z",
     "iopub.status.idle": "2025-03-11T21:04:17.468668Z",
     "shell.execute_reply": "2025-03-11T21:04:17.467529Z"
    }
   },
   "outputs": [],
   "source": [
    "%load_ext autoreload\n",
    "%autoreload 2"
   ]
  },
  {
   "cell_type": "code",
   "execution_count": 2,
   "id": "3bec8a04-c8cc-45ec-bc0a-631b424cfbb9",
   "metadata": {
    "execution": {
     "iopub.execute_input": "2025-03-11T21:04:17.472268Z",
     "iopub.status.busy": "2025-03-11T21:04:17.471677Z",
     "iopub.status.idle": "2025-03-11T21:04:25.584108Z",
     "shell.execute_reply": "2025-03-11T21:04:25.583057Z"
    }
   },
   "outputs": [
    {
     "data": {
      "application/vnd.jupyter.widget-view+json": {
       "model_id": "4bd4082b00e44aa289a89fd87d75fd9a",
       "version_major": 2,
       "version_minor": 0
      },
      "text/plain": []
     },
     "metadata": {},
     "output_type": "display_data"
    }
   ],
   "source": [
    "import molsysmt as msm\n",
    "import numpy as np\n",
    "import matplotlib.pyplot as plt"
   ]
  },
  {
   "cell_type": "markdown",
   "id": "e34f3d80-ff0c-4091-8eed-e378ff4ef8c6",
   "metadata": {},
   "source": [
    "# Get geometric axis"
   ]
  },
  {
   "cell_type": "code",
   "execution_count": 3,
   "id": "e32b27e1-bae7-458b-a95a-7171a1f911d5",
   "metadata": {
    "execution": {
     "iopub.execute_input": "2025-03-11T21:04:25.588240Z",
     "iopub.status.busy": "2025-03-11T21:04:25.587362Z",
     "iopub.status.idle": "2025-03-11T21:04:25.654544Z",
     "shell.execute_reply": "2025-03-11T21:04:25.653634Z"
    }
   },
   "outputs": [],
   "source": [
    "import molsysmt as msm\n",
    "import numpy as np"
   ]
  },
  {
   "cell_type": "code",
   "execution_count": 4,
   "id": "10327489-7902-4129-808e-573025570fce",
   "metadata": {
    "execution": {
     "iopub.execute_input": "2025-03-11T21:04:25.658773Z",
     "iopub.status.busy": "2025-03-11T21:04:25.658087Z",
     "iopub.status.idle": "2025-03-11T21:04:25.730356Z",
     "shell.execute_reply": "2025-03-11T21:04:25.729317Z"
    }
   },
   "outputs": [],
   "source": [
    "coordinates = np.zeros([1,8,3]) * msm.pyunitwizard.unit('nm')"
   ]
  },
  {
   "cell_type": "code",
   "execution_count": 5,
   "id": "f80d1c09-3ba6-40d4-9870-35e828a352f1",
   "metadata": {
    "execution": {
     "iopub.execute_input": "2025-03-11T21:04:25.734880Z",
     "iopub.status.busy": "2025-03-11T21:04:25.734501Z",
     "iopub.status.idle": "2025-03-11T21:04:25.806058Z",
     "shell.execute_reply": "2025-03-11T21:04:25.805167Z"
    }
   },
   "outputs": [],
   "source": [
    "coordinates[0,0,:] = msm.pyunitwizard.quantity('[0,0,0] nm')\n",
    "coordinates[0,1,:] = msm.pyunitwizard.quantity('[0,1,0] nm')\n",
    "coordinates[0,2,:] = msm.pyunitwizard.quantity('[2,1,0] nm')\n",
    "coordinates[0,3,:] = msm.pyunitwizard.quantity('[2,0,0] nm')\n",
    "\n",
    "coordinates[0,4,:] = msm.pyunitwizard.quantity('[0,0,5] nm')\n",
    "coordinates[0,5,:] = msm.pyunitwizard.quantity('[0,1,5] nm')\n",
    "coordinates[0,6,:] = msm.pyunitwizard.quantity('[2,1,5] nm')\n",
    "coordinates[0,7,:] = msm.pyunitwizard.quantity('[2,0,5] nm')"
   ]
  },
  {
   "cell_type": "code",
   "execution_count": 6,
   "id": "adf38d3f-c265-42a0-a5ad-3d45f9d93ff3",
   "metadata": {
    "execution": {
     "iopub.execute_input": "2025-03-11T21:04:25.809974Z",
     "iopub.status.busy": "2025-03-11T21:04:25.809592Z",
     "iopub.status.idle": "2025-03-11T21:04:26.205255Z",
     "shell.execute_reply": "2025-03-11T21:04:26.204421Z"
    }
   },
   "outputs": [],
   "source": [
    "axis, variances = msm.structure.get_principal_axes(coordinates)"
   ]
  },
  {
   "cell_type": "code",
   "execution_count": 7,
   "id": "922e7d2d-c88b-4d27-8f98-dbb20469458e",
   "metadata": {
    "execution": {
     "iopub.execute_input": "2025-03-11T21:04:26.209756Z",
     "iopub.status.busy": "2025-03-11T21:04:26.208850Z",
     "iopub.status.idle": "2025-03-11T21:04:26.276662Z",
     "shell.execute_reply": "2025-03-11T21:04:26.275941Z"
    }
   },
   "outputs": [
    {
     "name": "stdout",
     "output_type": "stream",
     "text": [
      "[0. 0. 1.] 10.0\n",
      "[1. 0. 0.] 52.0\n",
      "[0. 1. 0.] 58.0\n"
     ]
    }
   ],
   "source": [
    "for ii in range(3):\n",
    "    print(axis[0,ii,:], variances[0,ii])"
   ]
  },
  {
   "cell_type": "code",
   "execution_count": null,
   "id": "8a379797-176b-4f55-948b-9266580194e5",
   "metadata": {},
   "outputs": [],
   "source": []
  }
 ],
 "metadata": {
  "kernelspec": {
   "display_name": "Python 3 (ipykernel)",
   "language": "python",
   "name": "python3"
  },
  "language_info": {
   "codemirror_mode": {
    "name": "ipython",
    "version": 3
   },
   "file_extension": ".py",
   "mimetype": "text/x-python",
   "name": "python",
   "nbconvert_exporter": "python",
   "pygments_lexer": "ipython3",
   "version": "3.12.8"
  },
  "widgets": {
   "application/vnd.jupyter.widget-state+json": {
    "state": {
     "4bd4082b00e44aa289a89fd87d75fd9a": {
      "model_module": "nglview-js-widgets",
      "model_module_version": "3.1.4",
      "model_name": "ColormakerRegistryModel",
      "state": {
       "_dom_classes": [],
       "_model_module": "nglview-js-widgets",
       "_model_module_version": "3.1.4",
       "_model_name": "ColormakerRegistryModel",
       "_msg_ar": [],
       "_msg_q": [],
       "_ready": false,
       "_view_count": null,
       "_view_module": "nglview-js-widgets",
       "_view_module_version": "3.1.4",
       "_view_name": "ColormakerRegistryView",
       "layout": "IPY_MODEL_bef11833c6db49cfb7aa61fce553823d",
       "tabbable": null,
       "tooltip": null
      }
     },
     "bef11833c6db49cfb7aa61fce553823d": {
      "model_module": "@jupyter-widgets/base",
      "model_module_version": "2.0.0",
      "model_name": "LayoutModel",
      "state": {
       "_model_module": "@jupyter-widgets/base",
       "_model_module_version": "2.0.0",
       "_model_name": "LayoutModel",
       "_view_count": null,
       "_view_module": "@jupyter-widgets/base",
       "_view_module_version": "2.0.0",
       "_view_name": "LayoutView",
       "align_content": null,
       "align_items": null,
       "align_self": null,
       "border_bottom": null,
       "border_left": null,
       "border_right": null,
       "border_top": null,
       "bottom": null,
       "display": null,
       "flex": null,
       "flex_flow": null,
       "grid_area": null,
       "grid_auto_columns": null,
       "grid_auto_flow": null,
       "grid_auto_rows": null,
       "grid_column": null,
       "grid_gap": null,
       "grid_row": null,
       "grid_template_areas": null,
       "grid_template_columns": null,
       "grid_template_rows": null,
       "height": null,
       "justify_content": null,
       "justify_items": null,
       "left": null,
       "margin": null,
       "max_height": null,
       "max_width": null,
       "min_height": null,
       "min_width": null,
       "object_fit": null,
       "object_position": null,
       "order": null,
       "overflow": null,
       "padding": null,
       "right": null,
       "top": null,
       "visibility": null,
       "width": null
      }
     }
    },
    "version_major": 2,
    "version_minor": 0
   }
  }
 },
 "nbformat": 4,
 "nbformat_minor": 5
}
