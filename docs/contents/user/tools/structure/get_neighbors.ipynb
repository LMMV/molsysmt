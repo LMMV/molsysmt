{
 "cells": [
  {
   "cell_type": "code",
   "execution_count": 1,
   "metadata": {
    "execution": {
     "iopub.execute_input": "2025-03-11T21:04:38.347260Z",
     "iopub.status.busy": "2025-03-11T21:04:38.346589Z",
     "iopub.status.idle": "2025-03-11T21:04:38.384065Z",
     "shell.execute_reply": "2025-03-11T21:04:38.383239Z"
    }
   },
   "outputs": [],
   "source": [
    "%load_ext autoreload\n",
    "%autoreload 2"
   ]
  },
  {
   "cell_type": "code",
   "execution_count": 2,
   "metadata": {
    "execution": {
     "iopub.execute_input": "2025-03-11T21:04:38.387642Z",
     "iopub.status.busy": "2025-03-11T21:04:38.387231Z",
     "iopub.status.idle": "2025-03-11T21:04:38.416045Z",
     "shell.execute_reply": "2025-03-11T21:04:38.415180Z"
    }
   },
   "outputs": [],
   "source": [
    "import numpy as np\n",
    "#np.warnings.filterwarnings('ignore')"
   ]
  },
  {
   "cell_type": "code",
   "execution_count": 3,
   "metadata": {
    "execution": {
     "iopub.execute_input": "2025-03-11T21:04:38.419686Z",
     "iopub.status.busy": "2025-03-11T21:04:38.418967Z",
     "iopub.status.idle": "2025-03-11T21:04:46.545044Z",
     "shell.execute_reply": "2025-03-11T21:04:46.544027Z"
    }
   },
   "outputs": [
    {
     "data": {
      "application/vnd.jupyter.widget-view+json": {
       "model_id": "8a4174b6398345528136d471a1c9eea6",
       "version_major": 2,
       "version_minor": 0
      },
      "text/plain": []
     },
     "metadata": {},
     "output_type": "display_data"
    }
   ],
   "source": [
    "import molsysmt as msm\n",
    "from molsysmt import pyunitwizard as puw\n",
    "import numpy as np\n",
    "import matplotlib.pyplot as plt"
   ]
  },
  {
   "cell_type": "markdown",
   "metadata": {},
   "source": [
    "# Get neighbors\n",
    "\n",
    "With the method `molsysmt.distance()` many questions about a molecular system can be answered. Two of the most common distance related questions are: what are the closest n atoms to a given one? or what are the atoms closest than a given distance threshold? MolSysMT includes a method to provide with this distances processing: `molsysmt.neighbors()`. \n",
    "\n",
    "### First closest neighbor atoms or groups\n",
    "\n",
    "There are two ways to compute distance neighbors. The closest n atoms to a given one can be obtained with the option `num_neighbors` or `threshold`. Lets show with a simple example how this first option works:"
   ]
  },
  {
   "cell_type": "code",
   "execution_count": 4,
   "metadata": {
    "execution": {
     "iopub.execute_input": "2025-03-11T21:04:46.549332Z",
     "iopub.status.busy": "2025-03-11T21:04:46.548437Z",
     "iopub.status.idle": "2025-03-11T21:04:47.495701Z",
     "shell.execute_reply": "2025-03-11T21:04:47.494742Z"
    }
   },
   "outputs": [],
   "source": [
    "molecular_system = msm.systems['pentalanine']['traj_pentalanine.h5']\n",
    "molecular_system = msm.convert(molecular_system, to_form='molsysmt.MolSys')"
   ]
  },
  {
   "cell_type": "code",
   "execution_count": 5,
   "metadata": {
    "execution": {
     "iopub.execute_input": "2025-03-11T21:04:47.500741Z",
     "iopub.status.busy": "2025-03-11T21:04:47.498305Z",
     "iopub.status.idle": "2025-03-11T21:04:49.983189Z",
     "shell.execute_reply": "2025-03-11T21:04:49.982356Z"
    }
   },
   "outputs": [
    {
     "data": {
      "text/html": [
       "<style type=\"text/css\">\n",
       "</style>\n",
       "<table id=\"T_cf3c1\">\n",
       "  <thead>\n",
       "    <tr>\n",
       "      <th id=\"T_cf3c1_level0_col0\" class=\"col_heading level0 col0\" >form</th>\n",
       "      <th id=\"T_cf3c1_level0_col1\" class=\"col_heading level0 col1\" >n_atoms</th>\n",
       "      <th id=\"T_cf3c1_level0_col2\" class=\"col_heading level0 col2\" >n_groups</th>\n",
       "      <th id=\"T_cf3c1_level0_col3\" class=\"col_heading level0 col3\" >n_components</th>\n",
       "      <th id=\"T_cf3c1_level0_col4\" class=\"col_heading level0 col4\" >n_chains</th>\n",
       "      <th id=\"T_cf3c1_level0_col5\" class=\"col_heading level0 col5\" >n_molecules</th>\n",
       "      <th id=\"T_cf3c1_level0_col6\" class=\"col_heading level0 col6\" >n_entities</th>\n",
       "      <th id=\"T_cf3c1_level0_col7\" class=\"col_heading level0 col7\" >n_peptides</th>\n",
       "      <th id=\"T_cf3c1_level0_col8\" class=\"col_heading level0 col8\" >n_structures</th>\n",
       "    </tr>\n",
       "  </thead>\n",
       "  <tbody>\n",
       "    <tr>\n",
       "      <td id=\"T_cf3c1_row0_col0\" class=\"data row0 col0\" >molsysmt.MolSys</td>\n",
       "      <td id=\"T_cf3c1_row0_col1\" class=\"data row0 col1\" >62</td>\n",
       "      <td id=\"T_cf3c1_row0_col2\" class=\"data row0 col2\" >7</td>\n",
       "      <td id=\"T_cf3c1_row0_col3\" class=\"data row0 col3\" >1</td>\n",
       "      <td id=\"T_cf3c1_row0_col4\" class=\"data row0 col4\" >1</td>\n",
       "      <td id=\"T_cf3c1_row0_col5\" class=\"data row0 col5\" >1</td>\n",
       "      <td id=\"T_cf3c1_row0_col6\" class=\"data row0 col6\" >1</td>\n",
       "      <td id=\"T_cf3c1_row0_col7\" class=\"data row0 col7\" >1</td>\n",
       "      <td id=\"T_cf3c1_row0_col8\" class=\"data row0 col8\" >5000</td>\n",
       "    </tr>\n",
       "  </tbody>\n",
       "</table>\n"
      ],
      "text/plain": [
       "<pandas.io.formats.style.Styler at 0x7f074e030650>"
      ]
     },
     "execution_count": 5,
     "metadata": {},
     "output_type": "execute_result"
    }
   ],
   "source": [
    "msm.info(molecular_system)"
   ]
  },
  {
   "cell_type": "markdown",
   "metadata": {},
   "source": [
    "We can compute the closest 3 CA atoms to each CA atom of the molecular system:"
   ]
  },
  {
   "cell_type": "code",
   "execution_count": 6,
   "metadata": {
    "execution": {
     "iopub.execute_input": "2025-03-11T21:04:49.986693Z",
     "iopub.status.busy": "2025-03-11T21:04:49.986242Z",
     "iopub.status.idle": "2025-03-11T21:04:50.296921Z",
     "shell.execute_reply": "2025-03-11T21:04:50.296012Z"
    }
   },
   "outputs": [],
   "source": [
    "CA_atoms_list = msm.select(molecular_system, selection='atom_name==\"CA\"')"
   ]
  },
  {
   "cell_type": "code",
   "execution_count": 7,
   "metadata": {
    "execution": {
     "iopub.execute_input": "2025-03-11T21:04:50.300638Z",
     "iopub.status.busy": "2025-03-11T21:04:50.300055Z",
     "iopub.status.idle": "2025-03-11T21:04:52.331922Z",
     "shell.execute_reply": "2025-03-11T21:04:52.330904Z"
    }
   },
   "outputs": [],
   "source": [
    "neighbors, distances = msm.structure.get_neighbors(molecular_system, selection=CA_atoms_list, n_neighbors=3)"
   ]
  },
  {
   "cell_type": "markdown",
   "metadata": {},
   "source": [
    "Two objects are returned. A numpy array with the list of 3 neighbor atom indices per atom in `selection_1`, per structure:"
   ]
  },
  {
   "cell_type": "code",
   "execution_count": 8,
   "metadata": {
    "execution": {
     "iopub.execute_input": "2025-03-11T21:04:52.335979Z",
     "iopub.status.busy": "2025-03-11T21:04:52.335319Z",
     "iopub.status.idle": "2025-03-11T21:04:52.408590Z",
     "shell.execute_reply": "2025-03-11T21:04:52.407611Z"
    }
   },
   "outputs": [
    {
     "data": {
      "text/plain": [
       "(5000, 5, 3)"
      ]
     },
     "execution_count": 8,
     "metadata": {},
     "output_type": "execute_result"
    }
   ],
   "source": [
    "neighbors.shape"
   ]
  },
  {
   "cell_type": "markdown",
   "metadata": {},
   "source": [
    "And the corresponding distances:"
   ]
  },
  {
   "cell_type": "code",
   "execution_count": 9,
   "metadata": {
    "execution": {
     "iopub.execute_input": "2025-03-11T21:04:52.411985Z",
     "iopub.status.busy": "2025-03-11T21:04:52.411340Z",
     "iopub.status.idle": "2025-03-11T21:04:52.483318Z",
     "shell.execute_reply": "2025-03-11T21:04:52.482311Z"
    }
   },
   "outputs": [
    {
     "data": {
      "text/plain": [
       "(5000, 5, 3)"
      ]
     },
     "execution_count": 9,
     "metadata": {},
     "output_type": "execute_result"
    }
   ],
   "source": [
    "distances.shape"
   ]
  },
  {
   "cell_type": "markdown",
   "metadata": {},
   "source": [
    "This way, the closest 3 atoms of the first CA atom at structure 2000-th are:"
   ]
  },
  {
   "cell_type": "code",
   "execution_count": 10,
   "metadata": {
    "execution": {
     "iopub.execute_input": "2025-03-11T21:04:52.486720Z",
     "iopub.status.busy": "2025-03-11T21:04:52.486246Z",
     "iopub.status.idle": "2025-03-11T21:04:52.558321Z",
     "shell.execute_reply": "2025-03-11T21:04:52.557402Z"
    }
   },
   "outputs": [
    {
     "name": "stdout",
     "output_type": "stream",
     "text": [
      "3 first neighbor CAs of atom 8-th at structure 0-th\n",
      "------------------------------------------\n",
      "1° neighbor is atom 18-th with distance: 0.3874317590975941 nanometer\n",
      "2° neighbor is atom 28-th with distance: 0.5346208297333755 nanometer\n",
      "3° neighbor is atom 48-th with distance: 0.5453396095979958 nanometer\n"
     ]
    }
   ],
   "source": [
    "print(\"3 first neighbor CAs of atom {}-th at structure 0-th\".format(CA_atoms_list[0]))\n",
    "print(\"------------------------------------------\")\n",
    "\n",
    "for ii in range(3):\n",
    "    print(\"{}° neighbor is atom {}-th with distance: {}\".format(ii+1, CA_atoms_list[neighbors[2000,0,ii]], distances[2000,0,ii]))"
   ]
  },
  {
   "cell_type": "markdown",
   "metadata": {},
   "source": [
    "Lets see now the 4 closest atoms, any kind, to each CA atom of the molecular system:"
   ]
  },
  {
   "cell_type": "code",
   "execution_count": 11,
   "metadata": {
    "execution": {
     "iopub.execute_input": "2025-03-11T21:04:52.561821Z",
     "iopub.status.busy": "2025-03-11T21:04:52.561081Z",
     "iopub.status.idle": "2025-03-11T21:04:56.266558Z",
     "shell.execute_reply": "2025-03-11T21:04:56.265689Z"
    }
   },
   "outputs": [],
   "source": [
    "neighbors, distances = msm.structure.get_neighbors(molecular_system, selection=CA_atoms_list, selection_2='all', n_neighbors=4)"
   ]
  },
  {
   "cell_type": "code",
   "execution_count": 12,
   "metadata": {
    "execution": {
     "iopub.execute_input": "2025-03-11T21:04:56.270360Z",
     "iopub.status.busy": "2025-03-11T21:04:56.269478Z",
     "iopub.status.idle": "2025-03-11T21:04:56.338336Z",
     "shell.execute_reply": "2025-03-11T21:04:56.337377Z"
    }
   },
   "outputs": [
    {
     "name": "stdout",
     "output_type": "stream",
     "text": [
      "4 first neighbors of atom 8-th at structure 2000-th\n",
      "------------------------------------------\n",
      "1° neighbor is atom 8-th with distance: 0.0 nanometer\n",
      "2° neighbor is atom 9-th with distance: 0.10900002347459704 nanometer\n",
      "3° neighbor is atom 6-th with distance: 0.14533472683839888 nanometer\n",
      "4° neighbor is atom 10-th with distance: 0.1532800898161647 nanometer\n"
     ]
    }
   ],
   "source": [
    "print(\"4 first neighbors of atom {}-th at structure 2000-th\".format(CA_atoms_list[0]))\n",
    "print(\"------------------------------------------\")\n",
    "\n",
    "for ii in range(4):\n",
    "    print(\"{}° neighbor is atom {}-th with distance: {}\".format(ii+1, neighbors[2000,0,ii], distances[2000,0,ii]))"
   ]
  },
  {
   "cell_type": "markdown",
   "metadata": {},
   "source": [
    "Notice that, in this case, `msm.neighbors_list` is built to assume that is working with two different set of atoms since `selection`$\\neq$`selection_2`. Thats the reason why this time the first neighbor atom is the atom itself."
   ]
  },
  {
   "cell_type": "markdown",
   "metadata": {},
   "source": [
    "The method `msm.neighbors_list()` was built on top of `msm.distance()`, thus the input arguments are almost the same. If you already had a look to the section about atoms distance, you will be probably wonder if `msm.neighbors_list` can also work with atoms groups. Lets illustrate this case with the following cells:"
   ]
  },
  {
   "cell_type": "code",
   "execution_count": 13,
   "metadata": {
    "execution": {
     "iopub.execute_input": "2025-03-11T21:04:56.342228Z",
     "iopub.status.busy": "2025-03-11T21:04:56.341860Z",
     "iopub.status.idle": "2025-03-11T21:04:57.233590Z",
     "shell.execute_reply": "2025-03-11T21:04:57.232663Z"
    }
   },
   "outputs": [],
   "source": [
    "molecular_system = msm.convert('1TCD', 'molsysmt.MolSys')"
   ]
  },
  {
   "cell_type": "code",
   "execution_count": 14,
   "metadata": {
    "execution": {
     "iopub.execute_input": "2025-03-11T21:04:57.237479Z",
     "iopub.status.busy": "2025-03-11T21:04:57.236637Z",
     "iopub.status.idle": "2025-03-11T21:04:58.711513Z",
     "shell.execute_reply": "2025-03-11T21:04:58.710621Z"
    }
   },
   "outputs": [],
   "source": [
    "atoms_in_residues_chain_0 = msm.get(molecular_system, element='group',\n",
    "                                    selection=\"molecule_type=='protein' and chain_index==0\",\n",
    "                                    atom_index=True)\n",
    "atoms_in_residues_chain_1 = msm.get(molecular_system, element='group',\n",
    "                                    selection=\"molecule_type=='protein' and chain_index==1\",\n",
    "                                    atom_index=True)"
   ]
  },
  {
   "cell_type": "code",
   "execution_count": 15,
   "metadata": {
    "execution": {
     "iopub.execute_input": "2025-03-11T21:04:58.715395Z",
     "iopub.status.busy": "2025-03-11T21:04:58.714732Z",
     "iopub.status.idle": "2025-03-11T21:04:58.779768Z",
     "shell.execute_reply": "2025-03-11T21:04:58.778950Z"
    }
   },
   "outputs": [
    {
     "name": "stdout",
     "output_type": "stream",
     "text": [
      "Number of residues in chain 0: 248\n",
      "Number of residues in chain 1: 249\n"
     ]
    }
   ],
   "source": [
    "print('Number of residues in chain 0:', len(atoms_in_residues_chain_0))\n",
    "print('Number of residues in chain 1:', len(atoms_in_residues_chain_1))"
   ]
  },
  {
   "cell_type": "code",
   "execution_count": 16,
   "metadata": {
    "execution": {
     "iopub.execute_input": "2025-03-11T21:04:58.783575Z",
     "iopub.status.busy": "2025-03-11T21:04:58.782861Z",
     "iopub.status.idle": "2025-03-11T21:05:01.060366Z",
     "shell.execute_reply": "2025-03-11T21:05:01.059620Z"
    }
   },
   "outputs": [],
   "source": [
    "neighbors, distances = msm.structure.get_neighbors(molecular_system, selection=atoms_in_residues_chain_0,\n",
    "                                     center_of_atoms=True, n_neighbors=8)"
   ]
  },
  {
   "cell_type": "code",
   "execution_count": 17,
   "metadata": {
    "execution": {
     "iopub.execute_input": "2025-03-11T21:05:01.064380Z",
     "iopub.status.busy": "2025-03-11T21:05:01.063948Z",
     "iopub.status.idle": "2025-03-11T21:05:01.115653Z",
     "shell.execute_reply": "2025-03-11T21:05:01.114852Z"
    }
   },
   "outputs": [
    {
     "name": "stdout",
     "output_type": "stream",
     "text": [
      "(1, 248, 8)\n"
     ]
    }
   ],
   "source": [
    "print(neighbors.shape)"
   ]
  },
  {
   "cell_type": "code",
   "execution_count": 18,
   "metadata": {
    "execution": {
     "iopub.execute_input": "2025-03-11T21:05:01.118189Z",
     "iopub.status.busy": "2025-03-11T21:05:01.117856Z",
     "iopub.status.idle": "2025-03-11T21:05:01.164766Z",
     "shell.execute_reply": "2025-03-11T21:05:01.163767Z"
    }
   },
   "outputs": [
    {
     "name": "stdout",
     "output_type": "stream",
     "text": [
      "8 first group neighbors of the geometric center of residue 0-th\n",
      "------------------------------------------\n",
      "1° neighbor is group 1-th with distance: 0.4370347284513117 nanometer\n",
      "2° neighbor is group 226-th with distance: 0.5876214911977258 nanometer\n",
      "3° neighbor is group 220-th with distance: 0.7005928267026148 nanometer\n",
      "4° neighbor is group 3-th with distance: 0.7546595763407229 nanometer\n",
      "5° neighbor is group 224-th with distance: 0.7788646403094595 nanometer\n",
      "6° neighbor is group 225-th with distance: 0.7971327058289361 nanometer\n",
      "7° neighbor is group 223-th with distance: 0.8302823100919277 nanometer\n",
      "8° neighbor is group 2-th with distance: 0.8680783396121018 nanometer\n"
     ]
    }
   ],
   "source": [
    "print(\"8 first group neighbors of the geometric center of residue 0-th\")\n",
    "print(\"------------------------------------------\")\n",
    "\n",
    "for ii in range(8):\n",
    "    print(\"{}° neighbor is group {}-th with distance: {}\".format(ii+1, neighbors[0,0,ii], distances[0,0,ii]))"
   ]
  },
  {
   "cell_type": "markdown",
   "metadata": {},
   "source": [
    "The list groups neighbors can be computed also from two molecular systems or two list of groups:"
   ]
  },
  {
   "cell_type": "code",
   "execution_count": 19,
   "metadata": {
    "execution": {
     "iopub.execute_input": "2025-03-11T21:05:01.168590Z",
     "iopub.status.busy": "2025-03-11T21:05:01.168097Z",
     "iopub.status.idle": "2025-03-11T21:05:04.632109Z",
     "shell.execute_reply": "2025-03-11T21:05:04.631091Z"
    }
   },
   "outputs": [],
   "source": [
    "neighbors, distances = msm.structure.get_neighbors(molecular_system,\n",
    "                                     selection=atoms_in_residues_chain_0,\n",
    "                                     center_of_atoms=True,\n",
    "                                     selection_2=atoms_in_residues_chain_1,\n",
    "                                     center_of_atoms_2=True,\n",
    "                                     n_neighbors=8)"
   ]
  },
  {
   "cell_type": "code",
   "execution_count": 20,
   "metadata": {
    "execution": {
     "iopub.execute_input": "2025-03-11T21:05:04.636431Z",
     "iopub.status.busy": "2025-03-11T21:05:04.635421Z",
     "iopub.status.idle": "2025-03-11T21:05:04.708041Z",
     "shell.execute_reply": "2025-03-11T21:05:04.707026Z"
    }
   },
   "outputs": [
    {
     "name": "stdout",
     "output_type": "stream",
     "text": [
      "8 first group neighbors from chain 1 of the geometric center of residue 0-th from chain 0\n",
      "------------------------------------------\n",
      "1° neighbor is group 73-th with distance: 2.7733041141137114 nanometer\n",
      "2° neighbor is group 71-th with distance: 3.004041044490357 nanometer\n",
      "3° neighbor is group 74-th with distance: 3.0495973900039375 nanometer\n",
      "4° neighbor is group 70-th with distance: 3.201184539105875 nanometer\n",
      "5° neighbor is group 72-th with distance: 3.2536310735699128 nanometer\n",
      "6° neighbor is group 75-th with distance: 3.3579026367512856 nanometer\n",
      "7° neighbor is group 44-th with distance: 3.481955675588244 nanometer\n",
      "8° neighbor is group 17-th with distance: 3.539767691521334 nanometer\n"
     ]
    }
   ],
   "source": [
    "print(\"8 first group neighbors from chain 1 of the geometric center of residue 0-th from chain 0\")\n",
    "print(\"------------------------------------------\")\n",
    "\n",
    "for ii in range(8):\n",
    "    print(\"{}° neighbor is group {}-th with distance: {}\".format(ii+1, neighbors[0,0,ii], distances[0,0,ii]))"
   ]
  },
  {
   "cell_type": "markdown",
   "metadata": {},
   "source": [
    "The method `molsysmt.neighbors_lists()` can also mix atoms and atoms groups. Lets, as last example, get the closest geometric centers of residues to a specific atom:"
   ]
  },
  {
   "cell_type": "code",
   "execution_count": 21,
   "metadata": {
    "execution": {
     "iopub.execute_input": "2025-03-11T21:05:04.711661Z",
     "iopub.status.busy": "2025-03-11T21:05:04.711099Z",
     "iopub.status.idle": "2025-03-11T21:05:07.420980Z",
     "shell.execute_reply": "2025-03-11T21:05:07.420108Z"
    }
   },
   "outputs": [],
   "source": [
    "neighbors, distances = msm.structure.get_neighbors(molecular_system, selection=100,\n",
    "                                     selection_2=atoms_in_residues_chain_1,\n",
    "                                     center_of_atoms_2= True,\n",
    "                                     n_neighbors=4)"
   ]
  },
  {
   "cell_type": "code",
   "execution_count": 22,
   "metadata": {
    "execution": {
     "iopub.execute_input": "2025-03-11T21:05:07.424867Z",
     "iopub.status.busy": "2025-03-11T21:05:07.424260Z",
     "iopub.status.idle": "2025-03-11T21:05:07.478257Z",
     "shell.execute_reply": "2025-03-11T21:05:07.477273Z"
    }
   },
   "outputs": [
    {
     "name": "stdout",
     "output_type": "stream",
     "text": [
      "4 closest geometric centers of residues of chain 1 from atom 100-th\n",
      "-------------------------------------------------------------------\n",
      "1° closest neighbor is group 80-th with distance: 0.60482728655584 nanometer\n",
      "2° closest neighbor is group 69-th with distance: 0.7263555641389102 nanometer\n",
      "3° closest neighbor is group 70-th with distance: 0.7811893184433587 nanometer\n",
      "4° closest neighbor is group 77-th with distance: 0.8498448121405598 nanometer\n"
     ]
    }
   ],
   "source": [
    "print(\"4 closest geometric centers of residues of chain 1 from atom 100-th\")\n",
    "print(\"-------------------------------------------------------------------\")\n",
    "\n",
    "for ii in range(4):\n",
    "    print(\"{}° closest neighbor is group {}-th with distance: {}\".format(ii+1, neighbors[0,0,ii], distances[0,0,ii]))"
   ]
  },
  {
   "cell_type": "markdown",
   "metadata": {},
   "source": [
    "### Closest neighbor atoms or groups below a distance threshold\n",
    "\n",
    "In addition to the input argument `num_neighbors`, `molsysmt.neighbors()` includes the option of getting those neighbors with a distance below a given threshols: `threshold`. Lets get for the following molecular system the list of CA atoms closest than 8 $\\unicode{xC5}$:"
   ]
  },
  {
   "cell_type": "code",
   "execution_count": 23,
   "metadata": {
    "execution": {
     "iopub.execute_input": "2025-03-11T21:05:07.483478Z",
     "iopub.status.busy": "2025-03-11T21:05:07.482702Z",
     "iopub.status.idle": "2025-03-11T21:05:08.496298Z",
     "shell.execute_reply": "2025-03-11T21:05:08.495322Z"
    }
   },
   "outputs": [],
   "source": [
    "molecular_system = msm.convert('1TCD', 'molsysmt.MolSys')"
   ]
  },
  {
   "cell_type": "code",
   "execution_count": 24,
   "metadata": {
    "execution": {
     "iopub.execute_input": "2025-03-11T21:05:08.500128Z",
     "iopub.status.busy": "2025-03-11T21:05:08.499217Z",
     "iopub.status.idle": "2025-03-11T21:05:08.800228Z",
     "shell.execute_reply": "2025-03-11T21:05:08.799280Z"
    }
   },
   "outputs": [],
   "source": [
    "CA_atoms = msm.select(molecular_system, selection='atom_name==\"CA\"')"
   ]
  },
  {
   "cell_type": "code",
   "execution_count": 25,
   "metadata": {
    "execution": {
     "iopub.execute_input": "2025-03-11T21:05:08.804488Z",
     "iopub.status.busy": "2025-03-11T21:05:08.803907Z",
     "iopub.status.idle": "2025-03-11T21:05:10.796384Z",
     "shell.execute_reply": "2025-03-11T21:05:10.795704Z"
    }
   },
   "outputs": [],
   "source": [
    "neighbors, distances = msm.structure.get_neighbors(molecular_system, selection=CA_atoms, threshold='8 angstroms')"
   ]
  },
  {
   "cell_type": "markdown",
   "metadata": {},
   "source": [
    "In this example, each CA atom has a different number of neighbors. This time the output is not a tensor ranked 3, but a matrix where the elements are not numbers but list of neighbors:"
   ]
  },
  {
   "cell_type": "code",
   "execution_count": 26,
   "metadata": {
    "execution": {
     "iopub.execute_input": "2025-03-11T21:05:10.800048Z",
     "iopub.status.busy": "2025-03-11T21:05:10.799777Z",
     "iopub.status.idle": "2025-03-11T21:05:10.860382Z",
     "shell.execute_reply": "2025-03-11T21:05:10.859600Z"
    }
   },
   "outputs": [
    {
     "name": "stdout",
     "output_type": "stream",
     "text": [
      "(1, 497)\n"
     ]
    }
   ],
   "source": [
    "print(neighbors.shape)"
   ]
  },
  {
   "cell_type": "code",
   "execution_count": 27,
   "metadata": {
    "execution": {
     "iopub.execute_input": "2025-03-11T21:05:10.863624Z",
     "iopub.status.busy": "2025-03-11T21:05:10.863158Z",
     "iopub.status.idle": "2025-03-11T21:05:10.932778Z",
     "shell.execute_reply": "2025-03-11T21:05:10.931819Z"
    }
   },
   "outputs": [
    {
     "name": "stdout",
     "output_type": "stream",
     "text": [
      "(1, 497)\n"
     ]
    }
   ],
   "source": [
    "print(distances.shape)"
   ]
  },
  {
   "cell_type": "markdown",
   "metadata": {},
   "source": [
    "The molecular system had 1 single structure and 497 CA atoms, lets see now the number of CA neighbors of the first 10 CA atoms in our list:"
   ]
  },
  {
   "cell_type": "code",
   "execution_count": 28,
   "metadata": {
    "execution": {
     "iopub.execute_input": "2025-03-11T21:05:10.936765Z",
     "iopub.status.busy": "2025-03-11T21:05:10.936113Z",
     "iopub.status.idle": "2025-03-11T21:05:11.009412Z",
     "shell.execute_reply": "2025-03-11T21:05:11.008507Z"
    }
   },
   "outputs": [
    {
     "name": "stdout",
     "output_type": "stream",
     "text": [
      "The 1° CA has 7 CA neighbors.\n",
      "The 2° CA has 8 CA neighbors.\n",
      "The 3° CA has 9 CA neighbors.\n",
      "The 4° CA has 12 CA neighbors.\n",
      "The 5° CA has 13 CA neighbors.\n",
      "The 6° CA has 15 CA neighbors.\n",
      "The 7° CA has 12 CA neighbors.\n",
      "The 8° CA has 12 CA neighbors.\n",
      "The 9° CA has 14 CA neighbors.\n",
      "The 10° CA has 14 CA neighbors.\n"
     ]
    }
   ],
   "source": [
    "for ii in range(10):\n",
    "    print(\"The {}° CA has {} CA neighbors.\".format(ii+1,len(neighbors[0,ii])))"
   ]
  },
  {
   "cell_type": "markdown",
   "metadata": {},
   "source": [
    "Lets print out the neighbors of the 20-th CA in the list:"
   ]
  },
  {
   "cell_type": "code",
   "execution_count": 29,
   "metadata": {
    "execution": {
     "iopub.execute_input": "2025-03-11T21:05:11.013465Z",
     "iopub.status.busy": "2025-03-11T21:05:11.012657Z",
     "iopub.status.idle": "2025-03-11T21:05:11.085555Z",
     "shell.execute_reply": "2025-03-11T21:05:11.084616Z"
    }
   },
   "outputs": [
    {
     "name": "stdout",
     "output_type": "stream",
     "text": [
      "The 21-th CA is 0.3807746183768036 nanometer away from the 20-th CA\n",
      "The 19-th CA is 0.3882762676239687 nanometer away from the 20-th CA\n",
      "The 23-th CA is 0.5117970007727681 nanometer away from the 20-th CA\n",
      "The 22-th CA is 0.5541036906572636 nanometer away from the 20-th CA\n",
      "The 18-th CA is 0.5639790953572659 nanometer away from the 20-th CA\n",
      "The 24-th CA is 0.6343354475354508 nanometer away from the 20-th CA\n",
      "The 17-th CA is 0.6452477431188736 nanometer away from the 20-th CA\n",
      "The 16-th CA is 0.7399875134081648 nanometer away from the 20-th CA\n"
     ]
    }
   ],
   "source": [
    "for ii,dd in zip(neighbors[0,20], distances[0,20]):\n",
    "    print(\"The {}-th CA is {} away from the 20-th CA\".format(ii,dd))"
   ]
  },
  {
   "cell_type": "markdown",
   "metadata": {},
   "source": [
    "As well as for the input argument `n_neighbors` -previous subsection-, the neighbors closest than a given threshold can also be computed between atoms groups or atoms and atoms groups. Lets show a example where the neighbors of the residues of chain 0 in our molecular system are defined as those residues of chain 1 closest the 1.2 nm:"
   ]
  },
  {
   "cell_type": "code",
   "execution_count": 30,
   "metadata": {
    "execution": {
     "iopub.execute_input": "2025-03-11T21:05:11.088981Z",
     "iopub.status.busy": "2025-03-11T21:05:11.088360Z",
     "iopub.status.idle": "2025-03-11T21:05:12.244389Z",
     "shell.execute_reply": "2025-03-11T21:05:12.243402Z"
    }
   },
   "outputs": [],
   "source": [
    "atoms_in_residues_chain_0 = msm.get(molecular_system, element='group',\n",
    "                                    selection=\"molecule_type=='protein' and chain_index==0\",\n",
    "                                    atom_index=True)\n",
    "atoms_in_residues_chain_1 = msm.get(molecular_system, element='group',\n",
    "                                    selection=\"molecule_type=='protein' and chain_index==1\",\n",
    "                                    atom_index=True)"
   ]
  },
  {
   "cell_type": "code",
   "execution_count": 31,
   "metadata": {
    "execution": {
     "iopub.execute_input": "2025-03-11T21:05:12.248521Z",
     "iopub.status.busy": "2025-03-11T21:05:12.248094Z",
     "iopub.status.idle": "2025-03-11T21:05:15.645921Z",
     "shell.execute_reply": "2025-03-11T21:05:15.645005Z"
    }
   },
   "outputs": [],
   "source": [
    "neighbors, distances = msm.structure.get_neighbors(molecular_system,\n",
    "                                     selection= atoms_in_residues_chain_0,\n",
    "                                     center_of_atoms=True,\n",
    "                                     selection_2= atoms_in_residues_chain_1,\n",
    "                                     center_of_atoms_2=True,\n",
    "                                     threshold='1.2 nm')"
   ]
  },
  {
   "cell_type": "markdown",
   "metadata": {},
   "source": [
    "Lets print out the number of contacts in chain 1 per residue of chain 0, if any:"
   ]
  },
  {
   "cell_type": "code",
   "execution_count": 32,
   "metadata": {
    "execution": {
     "iopub.execute_input": "2025-03-11T21:05:15.649529Z",
     "iopub.status.busy": "2025-03-11T21:05:15.648973Z",
     "iopub.status.idle": "2025-03-11T21:05:15.715948Z",
     "shell.execute_reply": "2025-03-11T21:05:15.715079Z"
    }
   },
   "outputs": [
    {
     "name": "stdout",
     "output_type": "stream",
     "text": [
      "The 7-th residue of chain 0 has 1 residue contacts in chain 1\n",
      "The 8-th residue of chain 0 has 6 residue contacts in chain 1\n",
      "The 9-th residue of chain 0 has 5 residue contacts in chain 1\n",
      "The 10-th residue of chain 0 has 10 residue contacts in chain 1\n",
      "The 11-th residue of chain 0 has 18 residue contacts in chain 1\n",
      "The 12-th residue of chain 0 has 14 residue contacts in chain 1\n",
      "The 13-th residue of chain 0 has 11 residue contacts in chain 1\n",
      "The 14-th residue of chain 0 has 9 residue contacts in chain 1\n",
      "The 15-th residue of chain 0 has 9 residue contacts in chain 1\n",
      "The 16-th residue of chain 0 has 3 residue contacts in chain 1\n",
      "The 17-th residue of chain 0 has 2 residue contacts in chain 1\n",
      "The 18-th residue of chain 0 has 3 residue contacts in chain 1\n",
      "The 39-th residue of chain 0 has 2 residue contacts in chain 1\n",
      "The 40-th residue of chain 0 has 7 residue contacts in chain 1\n",
      "The 41-th residue of chain 0 has 17 residue contacts in chain 1\n",
      "The 42-th residue of chain 0 has 18 residue contacts in chain 1\n",
      "The 43-th residue of chain 0 has 26 residue contacts in chain 1\n",
      "The 44-th residue of chain 0 has 11 residue contacts in chain 1\n",
      "The 45-th residue of chain 0 has 9 residue contacts in chain 1\n",
      "The 46-th residue of chain 0 has 11 residue contacts in chain 1\n",
      "The 47-th residue of chain 0 has 6 residue contacts in chain 1\n",
      "The 48-th residue of chain 0 has 2 residue contacts in chain 1\n",
      "The 49-th residue of chain 0 has 1 residue contacts in chain 1\n",
      "The 50-th residue of chain 0 has 1 residue contacts in chain 1\n",
      "The 59-th residue of chain 0 has 1 residue contacts in chain 1\n",
      "The 60-th residue of chain 0 has 3 residue contacts in chain 1\n",
      "The 61-th residue of chain 0 has 4 residue contacts in chain 1\n",
      "The 62-th residue of chain 0 has 8 residue contacts in chain 1\n",
      "The 63-th residue of chain 0 has 7 residue contacts in chain 1\n",
      "The 64-th residue of chain 0 has 6 residue contacts in chain 1\n",
      "The 65-th residue of chain 0 has 7 residue contacts in chain 1\n",
      "The 66-th residue of chain 0 has 1 residue contacts in chain 1\n",
      "The 67-th residue of chain 0 has 2 residue contacts in chain 1\n",
      "The 68-th residue of chain 0 has 6 residue contacts in chain 1\n",
      "The 69-th residue of chain 0 has 14 residue contacts in chain 1\n",
      "The 70-th residue of chain 0 has 16 residue contacts in chain 1\n",
      "The 71-th residue of chain 0 has 13 residue contacts in chain 1\n",
      "The 72-th residue of chain 0 has 32 residue contacts in chain 1\n",
      "The 73-th residue of chain 0 has 32 residue contacts in chain 1\n",
      "The 74-th residue of chain 0 has 21 residue contacts in chain 1\n",
      "The 75-th residue of chain 0 has 15 residue contacts in chain 1\n",
      "The 76-th residue of chain 0 has 9 residue contacts in chain 1\n",
      "The 77-th residue of chain 0 has 3 residue contacts in chain 1\n",
      "The 78-th residue of chain 0 has 5 residue contacts in chain 1\n",
      "The 79-th residue of chain 0 has 14 residue contacts in chain 1\n",
      "The 80-th residue of chain 0 has 7 residue contacts in chain 1\n",
      "The 81-th residue of chain 0 has 2 residue contacts in chain 1\n",
      "The 82-th residue of chain 0 has 9 residue contacts in chain 1\n",
      "The 83-th residue of chain 0 has 11 residue contacts in chain 1\n",
      "The 84-th residue of chain 0 has 2 residue contacts in chain 1\n",
      "The 85-th residue of chain 0 has 1 residue contacts in chain 1\n",
      "The 88-th residue of chain 0 has 2 residue contacts in chain 1\n",
      "The 89-th residue of chain 0 has 2 residue contacts in chain 1\n",
      "The 90-th residue of chain 0 has 2 residue contacts in chain 1\n",
      "The 91-th residue of chain 0 has 2 residue contacts in chain 1\n",
      "The 92-th residue of chain 0 has 6 residue contacts in chain 1\n",
      "The 93-th residue of chain 0 has 4 residue contacts in chain 1\n",
      "The 94-th residue of chain 0 has 7 residue contacts in chain 1\n",
      "The 95-th residue of chain 0 has 7 residue contacts in chain 1\n",
      "The 96-th residue of chain 0 has 1 residue contacts in chain 1\n",
      "The 97-th residue of chain 0 has 3 residue contacts in chain 1\n",
      "The 98-th residue of chain 0 has 11 residue contacts in chain 1\n",
      "The 99-th residue of chain 0 has 14 residue contacts in chain 1\n",
      "The 100-th residue of chain 0 has 4 residue contacts in chain 1\n",
      "The 101-th residue of chain 0 has 5 residue contacts in chain 1\n",
      "The 105-th residue of chain 0 has 2 residue contacts in chain 1\n",
      "The 123-th residue of chain 0 has 1 residue contacts in chain 1\n",
      "The 164-th residue of chain 0 has 1 residue contacts in chain 1\n",
      "The 166-th residue of chain 0 has 1 residue contacts in chain 1\n",
      "The 169-th residue of chain 0 has 5 residue contacts in chain 1\n",
      "The 170-th residue of chain 0 has 6 residue contacts in chain 1\n",
      "The 171-th residue of chain 0 has 4 residue contacts in chain 1\n",
      "The 172-th residue of chain 0 has 1 residue contacts in chain 1\n",
      "The 229-th residue of chain 0 has 1 residue contacts in chain 1\n",
      "The 231-th residue of chain 0 has 3 residue contacts in chain 1\n",
      "The 232-th residue of chain 0 has 2 residue contacts in chain 1\n",
      "The 235-th residue of chain 0 has 1 residue contacts in chain 1\n"
     ]
    }
   ],
   "source": [
    "for ii in range(len(atoms_in_residues_chain_0)):\n",
    "    n_contacts = len(neighbors[0,ii])\n",
    "    if n_contacts >0:\n",
    "        print('The {}-th residue of chain 0 has {} residue contacts in chain 1'.format(ii,n_contacts))"
   ]
  },
  {
   "cell_type": "markdown",
   "metadata": {},
   "source": [
    "This information is usually represented as a contact map. If this is what you are looking for, you will probably find the next section more appropriate to your needs."
   ]
  }
 ],
 "metadata": {
  "kernelspec": {
   "display_name": "Python 3 (ipykernel)",
   "language": "python",
   "name": "python3"
  },
  "language_info": {
   "codemirror_mode": {
    "name": "ipython",
    "version": 3
   },
   "file_extension": ".py",
   "mimetype": "text/x-python",
   "name": "python",
   "nbconvert_exporter": "python",
   "pygments_lexer": "ipython3",
   "version": "3.12.8"
  },
  "widgets": {
   "application/vnd.jupyter.widget-state+json": {
    "state": {
     "8a4174b6398345528136d471a1c9eea6": {
      "model_module": "nglview-js-widgets",
      "model_module_version": "3.1.4",
      "model_name": "ColormakerRegistryModel",
      "state": {
       "_dom_classes": [],
       "_model_module": "nglview-js-widgets",
       "_model_module_version": "3.1.4",
       "_model_name": "ColormakerRegistryModel",
       "_msg_ar": [],
       "_msg_q": [],
       "_ready": false,
       "_view_count": null,
       "_view_module": "nglview-js-widgets",
       "_view_module_version": "3.1.4",
       "_view_name": "ColormakerRegistryView",
       "layout": "IPY_MODEL_a6b803bf5371494dbb2506edf0e8ab07",
       "tabbable": null,
       "tooltip": null
      }
     },
     "a6b803bf5371494dbb2506edf0e8ab07": {
      "model_module": "@jupyter-widgets/base",
      "model_module_version": "2.0.0",
      "model_name": "LayoutModel",
      "state": {
       "_model_module": "@jupyter-widgets/base",
       "_model_module_version": "2.0.0",
       "_model_name": "LayoutModel",
       "_view_count": null,
       "_view_module": "@jupyter-widgets/base",
       "_view_module_version": "2.0.0",
       "_view_name": "LayoutView",
       "align_content": null,
       "align_items": null,
       "align_self": null,
       "border_bottom": null,
       "border_left": null,
       "border_right": null,
       "border_top": null,
       "bottom": null,
       "display": null,
       "flex": null,
       "flex_flow": null,
       "grid_area": null,
       "grid_auto_columns": null,
       "grid_auto_flow": null,
       "grid_auto_rows": null,
       "grid_column": null,
       "grid_gap": null,
       "grid_row": null,
       "grid_template_areas": null,
       "grid_template_columns": null,
       "grid_template_rows": null,
       "height": null,
       "justify_content": null,
       "justify_items": null,
       "left": null,
       "margin": null,
       "max_height": null,
       "max_width": null,
       "min_height": null,
       "min_width": null,
       "object_fit": null,
       "object_position": null,
       "order": null,
       "overflow": null,
       "padding": null,
       "right": null,
       "top": null,
       "visibility": null,
       "width": null
      }
     }
    },
    "version_major": 2,
    "version_minor": 0
   }
  }
 },
 "nbformat": 4,
 "nbformat_minor": 4
}
