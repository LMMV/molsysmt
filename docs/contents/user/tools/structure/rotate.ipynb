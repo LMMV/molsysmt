{
 "cells": [
  {
   "cell_type": "code",
   "execution_count": 1,
   "metadata": {
    "execution": {
     "iopub.execute_input": "2025-03-11T21:04:08.099801Z",
     "iopub.status.busy": "2025-03-11T21:04:08.099374Z",
     "iopub.status.idle": "2025-03-11T21:04:08.136991Z",
     "shell.execute_reply": "2025-03-11T21:04:08.136139Z"
    }
   },
   "outputs": [],
   "source": [
    "%load_ext autoreload\n",
    "%autoreload 2"
   ]
  },
  {
   "cell_type": "code",
   "execution_count": 2,
   "metadata": {
    "execution": {
     "iopub.execute_input": "2025-03-11T21:04:08.140368Z",
     "iopub.status.busy": "2025-03-11T21:04:08.139971Z",
     "iopub.status.idle": "2025-03-11T21:04:16.676248Z",
     "shell.execute_reply": "2025-03-11T21:04:16.675509Z"
    }
   },
   "outputs": [
    {
     "data": {
      "application/vnd.jupyter.widget-view+json": {
       "model_id": "3ed5dbffbc1d479180b000d1a136059e",
       "version_major": 2,
       "version_minor": 0
      },
      "text/plain": []
     },
     "metadata": {},
     "output_type": "display_data"
    }
   ],
   "source": [
    "import molsysmt as msm\n",
    "import numpy as np"
   ]
  },
  {
   "cell_type": "markdown",
   "metadata": {},
   "source": [
    "# Rotate"
   ]
  },
  {
   "cell_type": "code",
   "execution_count": 3,
   "metadata": {
    "execution": {
     "iopub.execute_input": "2025-03-11T21:04:16.680352Z",
     "iopub.status.busy": "2025-03-11T21:04:16.679186Z",
     "iopub.status.idle": "2025-03-11T21:04:17.283926Z",
     "shell.execute_reply": "2025-03-11T21:04:17.283104Z"
    }
   },
   "outputs": [],
   "source": [
    "molsys = msm.systems['Met-enkephalin']['met_enkephalin.h5msm']\n",
    "molsys = msm.convert(molsys)"
   ]
  },
  {
   "cell_type": "code",
   "execution_count": 4,
   "metadata": {
    "execution": {
     "iopub.execute_input": "2025-03-11T21:04:17.287412Z",
     "iopub.status.busy": "2025-03-11T21:04:17.286631Z",
     "iopub.status.idle": "2025-03-11T21:04:21.534893Z",
     "shell.execute_reply": "2025-03-11T21:04:21.534135Z"
    }
   },
   "outputs": [
    {
     "data": {
      "application/vnd.jupyter.widget-view+json": {
       "model_id": "d5cc65d79c5f456cad0cdb7b7102e24c",
       "version_major": 2,
       "version_minor": 0
      },
      "text/plain": [
       "NGLWidget()"
      ]
     },
     "metadata": {},
     "output_type": "display_data"
    }
   ],
   "source": [
    "msm.view(molsys, standard=True)"
   ]
  },
  {
   "cell_type": "code",
   "execution_count": 5,
   "metadata": {
    "execution": {
     "iopub.execute_input": "2025-03-11T21:04:21.537576Z",
     "iopub.status.busy": "2025-03-11T21:04:21.537201Z",
     "iopub.status.idle": "2025-03-11T21:04:21.582553Z",
     "shell.execute_reply": "2025-03-11T21:04:21.581566Z"
    }
   },
   "outputs": [],
   "source": [
    "rotation = [[1.0, 0.0, 0.0], [0.0, 0.0, -1.0], [0.0, 1.0, 0.0]]"
   ]
  },
  {
   "cell_type": "code",
   "execution_count": 6,
   "metadata": {
    "execution": {
     "iopub.execute_input": "2025-03-11T21:04:21.585457Z",
     "iopub.status.busy": "2025-03-11T21:04:21.585075Z",
     "iopub.status.idle": "2025-03-11T21:04:22.889299Z",
     "shell.execute_reply": "2025-03-11T21:04:22.888368Z"
    }
   },
   "outputs": [],
   "source": [
    "molsys2 = msm.structure.rotate(molsys, rotation=rotation)"
   ]
  },
  {
   "cell_type": "code",
   "execution_count": 7,
   "metadata": {
    "execution": {
     "iopub.execute_input": "2025-03-11T21:04:22.892975Z",
     "iopub.status.busy": "2025-03-11T21:04:22.892355Z",
     "iopub.status.idle": "2025-03-11T21:04:27.255132Z",
     "shell.execute_reply": "2025-03-11T21:04:27.254230Z"
    }
   },
   "outputs": [
    {
     "data": {
      "application/vnd.jupyter.widget-view+json": {
       "model_id": "71becff6321441c89cc80d186185aa45",
       "version_major": 2,
       "version_minor": 0
      },
      "text/plain": [
       "NGLWidget()"
      ]
     },
     "metadata": {},
     "output_type": "display_data"
    }
   ],
   "source": [
    "msm.view(msm.merge([molsys, molsys2]), standard=True)"
   ]
  },
  {
   "cell_type": "code",
   "execution_count": null,
   "metadata": {},
   "outputs": [],
   "source": []
  }
 ],
 "metadata": {
  "kernelspec": {
   "display_name": "Python 3 (ipykernel)",
   "language": "python",
   "name": "python3"
  },
  "language_info": {
   "codemirror_mode": {
    "name": "ipython",
    "version": 3
   },
   "file_extension": ".py",
   "mimetype": "text/x-python",
   "name": "python",
   "nbconvert_exporter": "python",
   "pygments_lexer": "ipython3",
   "version": "3.12.8"
  },
  "widgets": {
   "application/vnd.jupyter.widget-state+json": {
    "state": {
     "01503a92c34243f582c18c7ac673b3aa": {
      "model_module": "@jupyter-widgets/base",
      "model_module_version": "2.0.0",
      "model_name": "LayoutModel",
      "state": {
       "_model_module": "@jupyter-widgets/base",
       "_model_module_version": "2.0.0",
       "_model_name": "LayoutModel",
       "_view_count": null,
       "_view_module": "@jupyter-widgets/base",
       "_view_module_version": "2.0.0",
       "_view_name": "LayoutView",
       "align_content": null,
       "align_items": null,
       "align_self": null,
       "border_bottom": null,
       "border_left": null,
       "border_right": null,
       "border_top": null,
       "bottom": null,
       "display": null,
       "flex": null,
       "flex_flow": null,
       "grid_area": null,
       "grid_auto_columns": null,
       "grid_auto_flow": null,
       "grid_auto_rows": null,
       "grid_column": null,
       "grid_gap": null,
       "grid_row": null,
       "grid_template_areas": null,
       "grid_template_columns": null,
       "grid_template_rows": null,
       "height": null,
       "justify_content": null,
       "justify_items": null,
       "left": null,
       "margin": null,
       "max_height": null,
       "max_width": null,
       "min_height": null,
       "min_width": null,
       "object_fit": null,
       "object_position": null,
       "order": null,
       "overflow": null,
       "padding": null,
       "right": null,
       "top": null,
       "visibility": null,
       "width": null
      }
     },
     "017295b415c5471098b7196f8453bfbf": {
      "model_module": "@jupyter-widgets/controls",
      "model_module_version": "2.0.0",
      "model_name": "ButtonModel",
      "state": {
       "_dom_classes": [],
       "_model_module": "@jupyter-widgets/controls",
       "_model_module_version": "2.0.0",
       "_model_name": "ButtonModel",
       "_view_count": null,
       "_view_module": "@jupyter-widgets/controls",
       "_view_module_version": "2.0.0",
       "_view_name": "ButtonView",
       "button_style": "",
       "description": "",
       "disabled": false,
       "icon": "compress",
       "layout": "IPY_MODEL_50d6c01db31f4aa4a03c7bd8a2050152",
       "style": "IPY_MODEL_235018db6942439ea00b7b5738ca43ea",
       "tabbable": null,
       "tooltip": null
      }
     },
     "01c19e9a2a9a476992f7ddc2eaa67b7e": {
      "model_module": "@jupyter-widgets/controls",
      "model_module_version": "2.0.0",
      "model_name": "ButtonStyleModel",
      "state": {
       "_model_module": "@jupyter-widgets/controls",
       "_model_module_version": "2.0.0",
       "_model_name": "ButtonStyleModel",
       "_view_count": null,
       "_view_module": "@jupyter-widgets/base",
       "_view_module_version": "2.0.0",
       "_view_name": "StyleView",
       "button_color": null,
       "font_family": null,
       "font_size": null,
       "font_style": null,
       "font_variant": null,
       "font_weight": null,
       "text_color": null,
       "text_decoration": null
      }
     },
     "0814d0c19e794ebc9e4915c073811632": {
      "model_module": "@jupyter-widgets/base",
      "model_module_version": "2.0.0",
      "model_name": "LayoutModel",
      "state": {
       "_model_module": "@jupyter-widgets/base",
       "_model_module_version": "2.0.0",
       "_model_name": "LayoutModel",
       "_view_count": null,
       "_view_module": "@jupyter-widgets/base",
       "_view_module_version": "2.0.0",
       "_view_name": "LayoutView",
       "align_content": null,
       "align_items": null,
       "align_self": null,
       "border_bottom": null,
       "border_left": null,
       "border_right": null,
       "border_top": null,
       "bottom": null,
       "display": null,
       "flex": null,
       "flex_flow": null,
       "grid_area": null,
       "grid_auto_columns": null,
       "grid_auto_flow": null,
       "grid_auto_rows": null,
       "grid_column": null,
       "grid_gap": null,
       "grid_row": null,
       "grid_template_areas": null,
       "grid_template_columns": null,
       "grid_template_rows": null,
       "height": null,
       "justify_content": null,
       "justify_items": null,
       "left": null,
       "margin": null,
       "max_height": null,
       "max_width": null,
       "min_height": null,
       "min_width": null,
       "object_fit": null,
       "object_position": null,
       "order": null,
       "overflow": null,
       "padding": null,
       "right": null,
       "top": null,
       "visibility": null,
       "width": null
      }
     },
     "1528b69da13b48e8bf320ef7f965f27f": {
      "model_module": "@jupyter-widgets/controls",
      "model_module_version": "2.0.0",
      "model_name": "LinkModel",
      "state": {
       "_model_module": "@jupyter-widgets/controls",
       "_model_module_version": "2.0.0",
       "_model_name": "LinkModel",
       "_view_count": null,
       "_view_module": "@jupyter-widgets/controls",
       "_view_module_version": "2.0.0",
       "_view_name": null,
       "source": [
        "IPY_MODEL_6c02d769cb1e4332aa527c73dd8a46d2",
        "value"
       ],
       "target": [
        "IPY_MODEL_dea4d08805164db88fe0fc9a1c16f3bd",
        "value"
       ]
      }
     },
     "16f9fd4a7f3245e4bd02c5ed07118a9f": {
      "model_module": "@jupyter-widgets/controls",
      "model_module_version": "2.0.0",
      "model_name": "HBoxModel",
      "state": {
       "_dom_classes": [],
       "_model_module": "@jupyter-widgets/controls",
       "_model_module_version": "2.0.0",
       "_model_name": "HBoxModel",
       "_view_count": null,
       "_view_module": "@jupyter-widgets/controls",
       "_view_module_version": "2.0.0",
       "_view_name": "HBoxView",
       "box_style": "",
       "children": [
        "IPY_MODEL_9ce229bcb0fb4781ab145b682cef251f",
        "IPY_MODEL_a24e45f7db8f4e5f8303d8c98d125ef2"
       ],
       "layout": "IPY_MODEL_84c9174d72fa40069611bb9f9e7fc32d",
       "tabbable": null,
       "tooltip": null
      }
     },
     "19bdb9ccd28842bcb3bdaf0e08d0fc8f": {
      "model_module": "@jupyter-widgets/controls",
      "model_module_version": "2.0.0",
      "model_name": "LinkModel",
      "state": {
       "_model_module": "@jupyter-widgets/controls",
       "_model_module_version": "2.0.0",
       "_model_name": "LinkModel",
       "_view_count": null,
       "_view_module": "@jupyter-widgets/controls",
       "_view_module_version": "2.0.0",
       "_view_name": null,
       "source": [
        "IPY_MODEL_6c02d769cb1e4332aa527c73dd8a46d2",
        "value"
       ],
       "target": [
        "IPY_MODEL_d5cc65d79c5f456cad0cdb7b7102e24c",
        "frame"
       ]
      }
     },
     "2333c98493d04a08a095c66afec01b16": {
      "model_module": "@jupyter-widgets/base",
      "model_module_version": "2.0.0",
      "model_name": "LayoutModel",
      "state": {
       "_model_module": "@jupyter-widgets/base",
       "_model_module_version": "2.0.0",
       "_model_name": "LayoutModel",
       "_view_count": null,
       "_view_module": "@jupyter-widgets/base",
       "_view_module_version": "2.0.0",
       "_view_name": "LayoutView",
       "align_content": null,
       "align_items": null,
       "align_self": null,
       "border_bottom": null,
       "border_left": null,
       "border_right": null,
       "border_top": null,
       "bottom": null,
       "display": null,
       "flex": null,
       "flex_flow": null,
       "grid_area": null,
       "grid_auto_columns": null,
       "grid_auto_flow": null,
       "grid_auto_rows": null,
       "grid_column": null,
       "grid_gap": null,
       "grid_row": null,
       "grid_template_areas": null,
       "grid_template_columns": null,
       "grid_template_rows": null,
       "height": null,
       "justify_content": null,
       "justify_items": null,
       "left": null,
       "margin": null,
       "max_height": null,
       "max_width": null,
       "min_height": null,
       "min_width": null,
       "object_fit": null,
       "object_position": null,
       "order": null,
       "overflow": null,
       "padding": null,
       "right": null,
       "top": null,
       "visibility": null,
       "width": null
      }
     },
     "235018db6942439ea00b7b5738ca43ea": {
      "model_module": "@jupyter-widgets/controls",
      "model_module_version": "2.0.0",
      "model_name": "ButtonStyleModel",
      "state": {
       "_model_module": "@jupyter-widgets/controls",
       "_model_module_version": "2.0.0",
       "_model_name": "ButtonStyleModel",
       "_view_count": null,
       "_view_module": "@jupyter-widgets/base",
       "_view_module_version": "2.0.0",
       "_view_name": "StyleView",
       "button_color": null,
       "font_family": null,
       "font_size": null,
       "font_style": null,
       "font_variant": null,
       "font_weight": null,
       "text_color": null,
       "text_decoration": null
      }
     },
     "3d1647d41cf047f0bf44f3dc9333c672": {
      "model_module": "@jupyter-widgets/controls",
      "model_module_version": "2.0.0",
      "model_name": "LinkModel",
      "state": {
       "_model_module": "@jupyter-widgets/controls",
       "_model_module_version": "2.0.0",
       "_model_name": "LinkModel",
       "_view_count": null,
       "_view_module": "@jupyter-widgets/controls",
       "_view_module_version": "2.0.0",
       "_view_name": null,
       "source": [
        "IPY_MODEL_dea4d08805164db88fe0fc9a1c16f3bd",
        "max"
       ],
       "target": [
        "IPY_MODEL_d5cc65d79c5f456cad0cdb7b7102e24c",
        "max_frame"
       ]
      }
     },
     "3ed5dbffbc1d479180b000d1a136059e": {
      "model_module": "nglview-js-widgets",
      "model_module_version": "3.1.4",
      "model_name": "ColormakerRegistryModel",
      "state": {
       "_dom_classes": [],
       "_model_module": "nglview-js-widgets",
       "_model_module_version": "3.1.4",
       "_model_name": "ColormakerRegistryModel",
       "_msg_ar": [],
       "_msg_q": [],
       "_ready": false,
       "_view_count": null,
       "_view_module": "nglview-js-widgets",
       "_view_module_version": "3.1.4",
       "_view_name": "ColormakerRegistryView",
       "layout": "IPY_MODEL_2333c98493d04a08a095c66afec01b16",
       "tabbable": null,
       "tooltip": null
      }
     },
     "447565cfe70d484c9029a9837827099f": {
      "model_module": "@jupyter-widgets/base",
      "model_module_version": "2.0.0",
      "model_name": "LayoutModel",
      "state": {
       "_model_module": "@jupyter-widgets/base",
       "_model_module_version": "2.0.0",
       "_model_name": "LayoutModel",
       "_view_count": null,
       "_view_module": "@jupyter-widgets/base",
       "_view_module_version": "2.0.0",
       "_view_name": "LayoutView",
       "align_content": null,
       "align_items": null,
       "align_self": null,
       "border_bottom": null,
       "border_left": null,
       "border_right": null,
       "border_top": null,
       "bottom": null,
       "display": null,
       "flex": null,
       "flex_flow": null,
       "grid_area": null,
       "grid_auto_columns": null,
       "grid_auto_flow": null,
       "grid_auto_rows": null,
       "grid_column": null,
       "grid_gap": null,
       "grid_row": null,
       "grid_template_areas": null,
       "grid_template_columns": null,
       "grid_template_rows": null,
       "height": null,
       "justify_content": null,
       "justify_items": null,
       "left": null,
       "margin": null,
       "max_height": null,
       "max_width": null,
       "min_height": null,
       "min_width": null,
       "object_fit": null,
       "object_position": null,
       "order": null,
       "overflow": null,
       "padding": null,
       "right": null,
       "top": null,
       "visibility": null,
       "width": null
      }
     },
     "4cd2258186124422b81806b6d4919037": {
      "model_module": "@jupyter-widgets/base",
      "model_module_version": "2.0.0",
      "model_name": "LayoutModel",
      "state": {
       "_model_module": "@jupyter-widgets/base",
       "_model_module_version": "2.0.0",
       "_model_name": "LayoutModel",
       "_view_count": null,
       "_view_module": "@jupyter-widgets/base",
       "_view_module_version": "2.0.0",
       "_view_name": "LayoutView",
       "align_content": null,
       "align_items": null,
       "align_self": null,
       "border_bottom": null,
       "border_left": null,
       "border_right": null,
       "border_top": null,
       "bottom": null,
       "display": null,
       "flex": null,
       "flex_flow": null,
       "grid_area": null,
       "grid_auto_columns": null,
       "grid_auto_flow": null,
       "grid_auto_rows": null,
       "grid_column": null,
       "grid_gap": null,
       "grid_row": null,
       "grid_template_areas": null,
       "grid_template_columns": null,
       "grid_template_rows": null,
       "height": null,
       "justify_content": null,
       "justify_items": null,
       "left": null,
       "margin": null,
       "max_height": null,
       "max_width": null,
       "min_height": null,
       "min_width": null,
       "object_fit": null,
       "object_position": null,
       "order": null,
       "overflow": null,
       "padding": null,
       "right": null,
       "top": null,
       "visibility": null,
       "width": null
      }
     },
     "50d6c01db31f4aa4a03c7bd8a2050152": {
      "model_module": "@jupyter-widgets/base",
      "model_module_version": "2.0.0",
      "model_name": "LayoutModel",
      "state": {
       "_model_module": "@jupyter-widgets/base",
       "_model_module_version": "2.0.0",
       "_model_name": "LayoutModel",
       "_view_count": null,
       "_view_module": "@jupyter-widgets/base",
       "_view_module_version": "2.0.0",
       "_view_name": "LayoutView",
       "align_content": null,
       "align_items": null,
       "align_self": null,
       "border_bottom": null,
       "border_left": null,
       "border_right": null,
       "border_top": null,
       "bottom": null,
       "display": null,
       "flex": null,
       "flex_flow": null,
       "grid_area": null,
       "grid_auto_columns": null,
       "grid_auto_flow": null,
       "grid_auto_rows": null,
       "grid_column": null,
       "grid_gap": null,
       "grid_row": null,
       "grid_template_areas": null,
       "grid_template_columns": null,
       "grid_template_rows": null,
       "height": null,
       "justify_content": null,
       "justify_items": null,
       "left": null,
       "margin": null,
       "max_height": null,
       "max_width": null,
       "min_height": null,
       "min_width": null,
       "object_fit": null,
       "object_position": null,
       "order": null,
       "overflow": null,
       "padding": null,
       "right": null,
       "top": null,
       "visibility": null,
       "width": "34px"
      }
     },
     "5df5862ba670406993484c3df3b4cc44": {
      "model_module": "@jupyter-widgets/base",
      "model_module_version": "2.0.0",
      "model_name": "LayoutModel",
      "state": {
       "_model_module": "@jupyter-widgets/base",
       "_model_module_version": "2.0.0",
       "_model_name": "LayoutModel",
       "_view_count": null,
       "_view_module": "@jupyter-widgets/base",
       "_view_module_version": "2.0.0",
       "_view_name": "LayoutView",
       "align_content": null,
       "align_items": null,
       "align_self": null,
       "border_bottom": null,
       "border_left": null,
       "border_right": null,
       "border_top": null,
       "bottom": null,
       "display": null,
       "flex": null,
       "flex_flow": null,
       "grid_area": null,
       "grid_auto_columns": null,
       "grid_auto_flow": null,
       "grid_auto_rows": null,
       "grid_column": null,
       "grid_gap": null,
       "grid_row": null,
       "grid_template_areas": null,
       "grid_template_columns": null,
       "grid_template_rows": null,
       "height": null,
       "justify_content": null,
       "justify_items": null,
       "left": null,
       "margin": null,
       "max_height": null,
       "max_width": null,
       "min_height": null,
       "min_width": null,
       "object_fit": null,
       "object_position": null,
       "order": null,
       "overflow": null,
       "padding": null,
       "right": null,
       "top": null,
       "visibility": null,
       "width": null
      }
     },
     "63a5691780a5407792802e60c19caacf": {
      "model_module": "@jupyter-widgets/controls",
      "model_module_version": "2.0.0",
      "model_name": "DescriptionStyleModel",
      "state": {
       "_model_module": "@jupyter-widgets/controls",
       "_model_module_version": "2.0.0",
       "_model_name": "DescriptionStyleModel",
       "_view_count": null,
       "_view_module": "@jupyter-widgets/base",
       "_view_module_version": "2.0.0",
       "_view_name": "StyleView",
       "description_width": ""
      }
     },
     "654c02c3e7524503840b8002935049a7": {
      "model_module": "@jupyter-widgets/controls",
      "model_module_version": "2.0.0",
      "model_name": "LinkModel",
      "state": {
       "_model_module": "@jupyter-widgets/controls",
       "_model_module_version": "2.0.0",
       "_model_name": "LinkModel",
       "_view_count": null,
       "_view_module": "@jupyter-widgets/controls",
       "_view_module_version": "2.0.0",
       "_view_name": null,
       "source": [
        "IPY_MODEL_a24e45f7db8f4e5f8303d8c98d125ef2",
        "max"
       ],
       "target": [
        "IPY_MODEL_71becff6321441c89cc80d186185aa45",
        "max_frame"
       ]
      }
     },
     "6c02d769cb1e4332aa527c73dd8a46d2": {
      "model_module": "@jupyter-widgets/controls",
      "model_module_version": "2.0.0",
      "model_name": "PlayModel",
      "state": {
       "_dom_classes": [],
       "_model_module": "@jupyter-widgets/controls",
       "_model_module_version": "2.0.0",
       "_model_name": "PlayModel",
       "_view_count": null,
       "_view_module": "@jupyter-widgets/controls",
       "_view_module_version": "2.0.0",
       "_view_name": "PlayView",
       "description": "",
       "description_allow_html": false,
       "disabled": false,
       "interval": 100,
       "layout": "IPY_MODEL_447565cfe70d484c9029a9837827099f",
       "max": 0,
       "min": 0,
       "playing": false,
       "repeat": false,
       "show_repeat": true,
       "step": 1,
       "style": "IPY_MODEL_63a5691780a5407792802e60c19caacf",
       "tabbable": null,
       "tooltip": null,
       "value": 0
      }
     },
     "6cfd08ce05864f37a8711b18235e66e9": {
      "buffers": [
       {
        "data": "",
        "encoding": "base64",
        "path": [
         "value"
        ]
       }
      ],
      "model_module": "@jupyter-widgets/controls",
      "model_module_version": "2.0.0",
      "model_name": "ImageModel",
      "state": {
       "_dom_classes": [],
       "_model_module": "@jupyter-widgets/controls",
       "_model_module_version": "2.0.0",
       "_model_name": "ImageModel",
       "_view_count": null,
       "_view_module": "@jupyter-widgets/controls",
       "_view_module_version": "2.0.0",
       "_view_name": "ImageView",
       "format": "png",
       "height": "",
       "layout": "IPY_MODEL_706c266346764684a11e976d71f4295a",
       "tabbable": null,
       "tooltip": null,
       "width": "900.0"
      }
     },
     "706c266346764684a11e976d71f4295a": {
      "model_module": "@jupyter-widgets/base",
      "model_module_version": "2.0.0",
      "model_name": "LayoutModel",
      "state": {
       "_model_module": "@jupyter-widgets/base",
       "_model_module_version": "2.0.0",
       "_model_name": "LayoutModel",
       "_view_count": null,
       "_view_module": "@jupyter-widgets/base",
       "_view_module_version": "2.0.0",
       "_view_name": "LayoutView",
       "align_content": null,
       "align_items": null,
       "align_self": null,
       "border_bottom": null,
       "border_left": null,
       "border_right": null,
       "border_top": null,
       "bottom": null,
       "display": null,
       "flex": null,
       "flex_flow": null,
       "grid_area": null,
       "grid_auto_columns": null,
       "grid_auto_flow": null,
       "grid_auto_rows": null,
       "grid_column": null,
       "grid_gap": null,
       "grid_row": null,
       "grid_template_areas": null,
       "grid_template_columns": null,
       "grid_template_rows": null,
       "height": null,
       "justify_content": null,
       "justify_items": null,
       "left": null,
       "margin": null,
       "max_height": null,
       "max_width": null,
       "min_height": null,
       "min_width": null,
       "object_fit": null,
       "object_position": null,
       "order": null,
       "overflow": null,
       "padding": null,
       "right": null,
       "top": null,
       "visibility": null,
       "width": null
      }
     },
     "71becff6321441c89cc80d186185aa45": {
      "model_module": "nglview-js-widgets",
      "model_module_version": "3.1.4",
      "model_name": "NGLModel",
      "state": {
       "_camera_orientation": [],
       "_camera_str": "orthographic",
       "_dom_classes": [],
       "_gui_theme": null,
       "_ibtn_fullscreen": "IPY_MODEL_f71c85b572654a7bbc46779132560c95",
       "_igui": null,
       "_iplayer": "IPY_MODEL_16f9fd4a7f3245e4bd02c5ed07118a9f",
       "_model_module": "nglview-js-widgets",
       "_model_module_version": "3.1.4",
       "_model_name": "NGLModel",
       "_ngl_color_dict": {},
       "_ngl_coordinate_resource": {},
       "_ngl_full_stage_parameters": {},
       "_ngl_msg_archive": [
        {
         "args": [
          {
           "binary": false,
           "data": "HEADER    MOLECULAR SYSTEM                        11-MAR-25       \nREMARK   1 Created by MolSysMT version 1.0 on 11-MAR-2025 at 15:04:23\nATOM      1 N    TYR A   1       3.326   1.548  -0.000  0.00  0.00           N\nATOM      2 H    TYR A   1       3.909   0.724  -0.000  0.00  0.00           H\nATOM      3 CA   TYR A   1       3.970   2.846  -0.000  0.00  0.00           C\nATOM      4 HA   TYR A   1       3.672   3.400  -0.890  0.00  0.00           H\nATOM      5 CB   TYR A   1       3.577   3.654   1.232  0.00  0.00           C\nATOM      6 HB2  TYR A   1       2.497   3.801   1.241  0.00  0.00           H\nATOM      7 HB3  TYR A   1       3.877   3.116   2.131  0.00  0.00           H\nATOM      8 CG   TYR A   1       4.267   4.996   1.195  0.00  0.00           C\nATOM      9 CD1  TYR A   1       4.060   5.919   2.227  0.00  0.00           C\nATOM     10 HD1  TYR A   1       3.400   5.668   3.058  0.00  0.00           H\nATOM     11 CE1  TYR A   1       4.700   7.164   2.193  0.00  0.00           C\nATOM     12 HE1  TYR A   1       4.539   7.882   2.997  0.00  0.00           H\nATOM     13 CZ   TYR A   1       5.547   7.486   1.126  0.00  0.00           C\nATOM     14 OH   TYR A   1       6.169   8.695   1.092  0.00  0.00           O\nATOM     15 HH   TYR A   1       5.956   9.247   1.848  0.00  0.00           H\nATOM     16 CE2  TYR A   1       5.755   6.563   0.094  0.00  0.00           C\nATOM     17 HE2  TYR A   1       6.415   6.814  -0.737  0.00  0.00           H\nATOM     18 CD2  TYR A   1       5.115   5.318   0.128  0.00  0.00           C\nATOM     19 HD2  TYR A   1       5.276   4.600  -0.676  0.00  0.00           H\nATOM     20 C    TYR A   1       5.486   2.705  -0.000  0.00  0.00           C\nATOM     21 O    TYR A   1       6.009   1.593  -0.000  0.00  0.00           O\nATOM     22 N    GLY A   2       6.191   3.839  -0.000  0.00  0.00           N\nATOM     23 H    GLY A   2       5.715   4.730  -0.000  0.00  0.00           H\nATOM     24 CA   GLY A   2       7.640   3.839  -0.000  0.00  0.00           C\nATOM     25 HA2  GLY A   2       8.004   3.325   0.890  0.00  0.00           H\nATOM     26 HA3  GLY A   2       8.004   3.325  -0.890  0.00  0.00           H\nATOM     27 C    GLY A   2       8.171   5.265  -0.000  0.00  0.00           C\nATOM     28 O    GLY A   2       7.395   6.219   0.000  0.00  0.00           O\nATOM     29 N    GLY A   3       9.498   5.409  -0.000  0.00  0.00           N\nATOM     30 H    GLY A   3      10.094   4.594  -0.000  0.00  0.00           H\nATOM     31 CA   GLY A   3      10.126   6.715   0.000  0.00  0.00           C\nATOM     32 HA2  GLY A   3       9.821   7.266  -0.890  0.00  0.00           H\nATOM     33 HA3  GLY A   3       9.821   7.266   0.890  0.00  0.00           H\nATOM     34 C    GLY A   3      11.642   6.574  -0.000  0.00  0.00           C\nATOM     35 O    GLY A   3      12.165   5.462  -0.000  0.00  0.00           O\nATOM     36 N    PHE A   4      12.347   7.708  -0.000  0.00  0.00           N\nATOM     37 H    PHE A   4      11.871   8.599   0.000  0.00  0.00           H\nATOM     38 CA   PHE A   4      13.796   7.708  -0.000  0.00  0.00           C\nATOM     39 HA   PHE A   4      14.160   7.194   0.890  0.00  0.00           H\nATOM     40 CB   PHE A   4      14.345   6.996  -1.232  0.00  0.00           C\nATOM     41 HB2  PHE A   4      13.997   5.964  -1.241  0.00  0.00           H\nATOM     42 HB3  PHE A   4      13.997   7.505  -2.131  0.00  0.00           H\nATOM     43 CG   PHE A   4      15.852   6.945  -1.321  0.00  0.00           C\nATOM     44 CD1  PHE A   4      16.467   6.316  -2.410  0.00  0.00           C\nATOM     45 HD1  PHE A   4      15.860   5.864  -3.193  0.00  0.00           H\nATOM     46 CE1  PHE A   4      17.864   6.269  -2.492  0.00  0.00           C\nATOM     47 HE1  PHE A   4      18.344   5.779  -3.340  0.00  0.00           H\nATOM     48 CZ   PHE A   4      18.645   6.850  -1.486  0.00  0.00           C\nATOM     49 HZ   PHE A   4      19.733   6.813  -1.550  0.00  0.00           H\nATOM     50 CE2  PHE A   4      18.029   7.478  -0.397  0.00  0.00           C\nATOM     51 HE2  PHE A   4      18.637   7.931   0.386  0.00  0.00           H\nATOM     52 CD2  PHE A   4      16.632   7.526  -0.315  0.00  0.00           C\nATOM     53 HD2  PHE A   4      16.153   8.015   0.533  0.00  0.00           H\nATOM     54 C    PHE A   4      14.344   9.128  -0.000  0.00  0.00           C\nATOM     55 O    PHE A   4      13.581  10.091   0.000  0.00  0.00           O\nATOM     56 N    MET A   5      15.673   9.256  -0.000  0.00  0.00           N\nATOM     57 H    MET A   5      16.259   8.433  -0.000  0.00  0.00           H\nATOM     58 CA   MET A   5      16.317  10.554   0.000  0.00  0.00           C\nATOM     59 HA   MET A   5      16.019  11.108  -0.890  0.00  0.00           H\nATOM     60 CB   MET A   5      15.924  11.362   1.232  0.00  0.00           C\nATOM     61 HB2  MET A   5      14.844  11.509   1.241  0.00  0.00           H\nATOM     62 HB3  MET A   5      16.225  10.824   2.131  0.00  0.00           H\nATOM     63 CG   MET A   5      16.621  12.717   1.195  0.00  0.00           C\nATOM     64 HG2  MET A   5      17.701  12.571   1.186  0.00  0.00           H\nATOM     65 HG3  MET A   5      16.321  13.256   0.296  0.00  0.00           H\nATOM     66 SD   MET A   5      16.164  13.689   2.652  0.00  0.00           S\nATOM     67 CE   MET A   5      17.100  15.171   2.341  0.00  0.00           C\nATOM     68 HE1  MET A   5      16.781  15.612   1.397  0.00  0.00           H\nATOM     69 HE2  MET A   5      16.933  15.883   3.149  0.00  0.00           H\nATOM     70 HE3  MET A   5      18.161  14.927   2.287  0.00  0.00           H\nATOM     71 C    MET A   5      17.833  10.413  -0.000  0.00  0.00           C\nATOM     72 O    MET A   5      18.356   9.301  -0.000  0.00  0.00           O\nATOM      1 N    TYR A   1       3.326   0.000   1.548  0.00  0.00           N\nATOM      2 H    TYR A   1       3.909   0.000   0.724  0.00  0.00           H\nATOM      3 CA   TYR A   1       3.970   0.000   2.846  0.00  0.00           C\nATOM      4 HA   TYR A   1       3.672   0.890   3.400  0.00  0.00           H\nATOM      5 CB   TYR A   1       3.577  -1.232   3.654  0.00  0.00           C\nATOM      6 HB2  TYR A   1       2.497  -1.241   3.801  0.00  0.00           H\nATOM      7 HB3  TYR A   1       3.877  -2.131   3.116  0.00  0.00           H\nATOM      8 CG   TYR A   1       4.267  -1.195   4.996  0.00  0.00           C\nATOM      9 CD1  TYR A   1       4.060  -2.227   5.919  0.00  0.00           C\nATOM     10 HD1  TYR A   1       3.400  -3.058   5.668  0.00  0.00           H\nATOM     11 CE1  TYR A   1       4.700  -2.193   7.164  0.00  0.00           C\nATOM     12 HE1  TYR A   1       4.539  -2.997   7.882  0.00  0.00           H\nATOM     13 CZ   TYR A   1       5.547  -1.126   7.486  0.00  0.00           C\nATOM     14 OH   TYR A   1       6.169  -1.092   8.695  0.00  0.00           O\nATOM     15 HH   TYR A   1       5.956  -1.848   9.247  0.00  0.00           H\nATOM     16 CE2  TYR A   1       5.755  -0.094   6.563  0.00  0.00           C\nATOM     17 HE2  TYR A   1       6.415   0.737   6.814  0.00  0.00           H\nATOM     18 CD2  TYR A   1       5.115  -0.128   5.318  0.00  0.00           C\nATOM     19 HD2  TYR A   1       5.276   0.676   4.600  0.00  0.00           H\nATOM     20 C    TYR A   1       5.486   0.000   2.705  0.00  0.00           C\nATOM     21 O    TYR A   1       6.009   0.000   1.593  0.00  0.00           O\nATOM     22 N    GLY A   2       6.191   0.000   3.839  0.00  0.00           N\nATOM     23 H    GLY A   2       5.715   0.000   4.730  0.00  0.00           H\nATOM     24 CA   GLY A   2       7.640   0.000   3.839  0.00  0.00           C\nATOM     25 HA2  GLY A   2       8.004  -0.890   3.325  0.00  0.00           H\nATOM     26 HA3  GLY A   2       8.004   0.890   3.325  0.00  0.00           H\nATOM     27 C    GLY A   2       8.171   0.000   5.265  0.00  0.00           C\nATOM     28 O    GLY A   2       7.395  -0.000   6.219  0.00  0.00           O\nATOM     29 N    GLY A   3       9.498   0.000   5.409  0.00  0.00           N\nATOM     30 H    GLY A   3      10.094   0.000   4.594  0.00  0.00           H\nATOM     31 CA   GLY A   3      10.126  -0.000   6.715  0.00  0.00           C\nATOM     32 HA2  GLY A   3       9.821   0.890   7.266  0.00  0.00           H\nATOM     33 HA3  GLY A   3       9.821  -0.890   7.266  0.00  0.00           H\nATOM     34 C    GLY A   3      11.642   0.000   6.574  0.00  0.00           C\nATOM     35 O    GLY A   3      12.165   0.000   5.462  0.00  0.00           O\nATOM     36 N    PHE A   4      12.347   0.000   7.708  0.00  0.00           N\nATOM     37 H    PHE A   4      11.871  -0.000   8.599  0.00  0.00           H\nATOM     38 CA   PHE A   4      13.796   0.000   7.708  0.00  0.00           C\nATOM     39 HA   PHE A   4      14.160  -0.890   7.194  0.00  0.00           H\nATOM     40 CB   PHE A   4      14.345   1.232   6.996  0.00  0.00           C\nATOM     41 HB2  PHE A   4      13.997   1.241   5.964  0.00  0.00           H\nATOM     42 HB3  PHE A   4      13.997   2.131   7.505  0.00  0.00           H\nATOM     43 CG   PHE A   4      15.852   1.321   6.945  0.00  0.00           C\nATOM     44 CD1  PHE A   4      16.467   2.410   6.316  0.00  0.00           C\nATOM     45 HD1  PHE A   4      15.860   3.193   5.864  0.00  0.00           H\nATOM     46 CE1  PHE A   4      17.864   2.492   6.269  0.00  0.00           C\nATOM     47 HE1  PHE A   4      18.344   3.340   5.779  0.00  0.00           H\nATOM     48 CZ   PHE A   4      18.645   1.486   6.850  0.00  0.00           C\nATOM     49 HZ   PHE A   4      19.733   1.550   6.813  0.00  0.00           H\nATOM     50 CE2  PHE A   4      18.029   0.397   7.478  0.00  0.00           C\nATOM     51 HE2  PHE A   4      18.637  -0.386   7.931  0.00  0.00           H\nATOM     52 CD2  PHE A   4      16.632   0.315   7.526  0.00  0.00           C\nATOM     53 HD2  PHE A   4      16.153  -0.533   8.015  0.00  0.00           H\nATOM     54 C    PHE A   4      14.344   0.000   9.128  0.00  0.00           C\nATOM     55 O    PHE A   4      13.581  -0.000  10.091  0.00  0.00           O\nATOM     56 N    MET A   5      15.673   0.000   9.256  0.00  0.00           N\nATOM     57 H    MET A   5      16.259   0.000   8.433  0.00  0.00           H\nATOM     58 CA   MET A   5      16.317  -0.000  10.554  0.00  0.00           C\nATOM     59 HA   MET A   5      16.019   0.890  11.108  0.00  0.00           H\nATOM     60 CB   MET A   5      15.924  -1.232  11.362  0.00  0.00           C\nATOM     61 HB2  MET A   5      14.844  -1.241  11.509  0.00  0.00           H\nATOM     62 HB3  MET A   5      16.225  -2.131  10.824  0.00  0.00           H\nATOM     63 CG   MET A   5      16.621  -1.195  12.717  0.00  0.00           C\nATOM     64 HG2  MET A   5      17.701  -1.186  12.571  0.00  0.00           H\nATOM     65 HG3  MET A   5      16.321  -0.296  13.256  0.00  0.00           H\nATOM     66 SD   MET A   5      16.164  -2.652  13.689  0.00  0.00           S\nATOM     67 CE   MET A   5      17.100  -2.341  15.171  0.00  0.00           C\nATOM     68 HE1  MET A   5      16.781  -1.397  15.612  0.00  0.00           H\nATOM     69 HE2  MET A   5      16.933  -3.149  15.883  0.00  0.00           H\nATOM     70 HE3  MET A   5      18.161  -2.287  14.927  0.00  0.00           H\nATOM     71 C    MET A   5      17.833   0.000  10.413  0.00  0.00           C\nATOM     72 O    MET A   5      18.356   0.000   9.301  0.00  0.00           O\nEND\n",
           "type": "blob"
          }
         ],
         "kwargs": {
          "defaultRepresentation": true,
          "ext": "pdb",
          "name": "nglview.adaptor.MolSysMTTrajectory",
          "skipDigestion": true
         },
         "methodName": "loadFile",
         "reconstruc_color_scheme": false,
         "target": "Stage",
         "type": "call_method"
        },
        {
         "args": [],
         "component_index": 0,
         "kwargs": {},
         "methodName": "removeAllRepresentations",
         "reconstruc_color_scheme": false,
         "target": "compList",
         "type": "call_method"
        },
        {
         "args": [
          "cartoon"
         ],
         "component_index": 0,
         "kwargs": {
          "sele": "@"
         },
         "methodName": "addRepresentation",
         "reconstruc_color_scheme": false,
         "target": "compList",
         "type": "call_method"
        },
        {
         "args": [
          "cartoon"
         ],
         "component_index": 0,
         "kwargs": {
          "sele": "@"
         },
         "methodName": "addRepresentation",
         "reconstruc_color_scheme": false,
         "target": "compList",
         "type": "call_method"
        },
        {
         "args": [
          "licorice"
         ],
         "component_index": 0,
         "kwargs": {
          "radius": 0.4,
          "sele": "@"
         },
         "methodName": "addRepresentation",
         "reconstruc_color_scheme": false,
         "target": "compList",
         "type": "call_method"
        },
        {
         "args": [
          "licorice"
         ],
         "component_index": 0,
         "kwargs": {
          "radius": 0.4,
          "sele": "@0,1,2,3,4,5,6,7,8,9,10,11,12,13,14,15,16,17,18,19,20,21,22,23,24,25,26,27,28,29,30,31,32,33,34,35,36,37,38,39,40,41,42,43,44,45,46,47,48,49,50,51,52,53,54,55,56,57,58,59,60,61,62,63,64,65,66,67,68,69,70,71,72,73,74,75,76,77,78,79,80,81,82,83,84,85,86,87,88,89,90,91,92,93,94,95,96,97,98,99,100,101,102,103,104,105,106,107,108,109,110,111,112,113,114,115,116,117,118,119,120,121,122,123,124,125,126,127,128,129,130,131,132,133,134,135,136,137,138,139,140,141,142,143"
         },
         "methodName": "addRepresentation",
         "reconstruc_color_scheme": false,
         "target": "compList",
         "type": "call_method"
        },
        {
         "args": [
          "ball+stick"
         ],
         "component_index": 0,
         "kwargs": {
          "sele": "@"
         },
         "methodName": "addRepresentation",
         "reconstruc_color_scheme": false,
         "target": "compList",
         "type": "call_method"
        }
       ],
       "_ngl_original_stage_parameters": {},
       "_ngl_repr_dict": {},
       "_ngl_serialize": false,
       "_ngl_version": "",
       "_ngl_view_id": [],
       "_player_dict": {},
       "_scene_position": {},
       "_scene_rotation": {},
       "_synced_model_ids": [],
       "_synced_repr_model_ids": [],
       "_view_count": null,
       "_view_height": "",
       "_view_module": "nglview-js-widgets",
       "_view_module_version": "3.1.4",
       "_view_name": "NGLView",
       "_view_width": "",
       "background": "white",
       "frame": 0,
       "gui_style": null,
       "layout": "IPY_MODEL_b15ee07694754cc7b9c1aab974c0bae5",
       "max_frame": 0,
       "n_components": 0,
       "picked": {},
       "tabbable": null,
       "tooltip": null
      }
     },
     "72d4c428d2794b09b31274dadbf5b4c4": {
      "model_module": "@jupyter-widgets/controls",
      "model_module_version": "2.0.0",
      "model_name": "HBoxModel",
      "state": {
       "_dom_classes": [],
       "_model_module": "@jupyter-widgets/controls",
       "_model_module_version": "2.0.0",
       "_model_name": "HBoxModel",
       "_view_count": null,
       "_view_module": "@jupyter-widgets/controls",
       "_view_module_version": "2.0.0",
       "_view_name": "HBoxView",
       "box_style": "",
       "children": [
        "IPY_MODEL_6c02d769cb1e4332aa527c73dd8a46d2",
        "IPY_MODEL_dea4d08805164db88fe0fc9a1c16f3bd"
       ],
       "layout": "IPY_MODEL_0814d0c19e794ebc9e4915c073811632",
       "tabbable": null,
       "tooltip": null
      }
     },
     "8336e833f848449dac8dae3ecbe6612c": {
      "model_module": "@jupyter-widgets/controls",
      "model_module_version": "2.0.0",
      "model_name": "LinkModel",
      "state": {
       "_model_module": "@jupyter-widgets/controls",
       "_model_module_version": "2.0.0",
       "_model_name": "LinkModel",
       "_view_count": null,
       "_view_module": "@jupyter-widgets/controls",
       "_view_module_version": "2.0.0",
       "_view_name": null,
       "source": [
        "IPY_MODEL_9ce229bcb0fb4781ab145b682cef251f",
        "max"
       ],
       "target": [
        "IPY_MODEL_71becff6321441c89cc80d186185aa45",
        "max_frame"
       ]
      }
     },
     "84c9174d72fa40069611bb9f9e7fc32d": {
      "model_module": "@jupyter-widgets/base",
      "model_module_version": "2.0.0",
      "model_name": "LayoutModel",
      "state": {
       "_model_module": "@jupyter-widgets/base",
       "_model_module_version": "2.0.0",
       "_model_name": "LayoutModel",
       "_view_count": null,
       "_view_module": "@jupyter-widgets/base",
       "_view_module_version": "2.0.0",
       "_view_name": "LayoutView",
       "align_content": null,
       "align_items": null,
       "align_self": null,
       "border_bottom": null,
       "border_left": null,
       "border_right": null,
       "border_top": null,
       "bottom": null,
       "display": null,
       "flex": null,
       "flex_flow": null,
       "grid_area": null,
       "grid_auto_columns": null,
       "grid_auto_flow": null,
       "grid_auto_rows": null,
       "grid_column": null,
       "grid_gap": null,
       "grid_row": null,
       "grid_template_areas": null,
       "grid_template_columns": null,
       "grid_template_rows": null,
       "height": null,
       "justify_content": null,
       "justify_items": null,
       "left": null,
       "margin": null,
       "max_height": null,
       "max_width": null,
       "min_height": null,
       "min_width": null,
       "object_fit": null,
       "object_position": null,
       "order": null,
       "overflow": null,
       "padding": null,
       "right": null,
       "top": null,
       "visibility": null,
       "width": null
      }
     },
     "86df6471c5364ef997405a39c314bb7f": {
      "model_module": "@jupyter-widgets/controls",
      "model_module_version": "2.0.0",
      "model_name": "SliderStyleModel",
      "state": {
       "_model_module": "@jupyter-widgets/controls",
       "_model_module_version": "2.0.0",
       "_model_name": "SliderStyleModel",
       "_view_count": null,
       "_view_module": "@jupyter-widgets/base",
       "_view_module_version": "2.0.0",
       "_view_name": "StyleView",
       "description_width": "",
       "handle_color": null
      }
     },
     "9ce229bcb0fb4781ab145b682cef251f": {
      "model_module": "@jupyter-widgets/controls",
      "model_module_version": "2.0.0",
      "model_name": "PlayModel",
      "state": {
       "_dom_classes": [],
       "_model_module": "@jupyter-widgets/controls",
       "_model_module_version": "2.0.0",
       "_model_name": "PlayModel",
       "_view_count": null,
       "_view_module": "@jupyter-widgets/controls",
       "_view_module_version": "2.0.0",
       "_view_name": "PlayView",
       "description": "",
       "description_allow_html": false,
       "disabled": false,
       "interval": 100,
       "layout": "IPY_MODEL_cce8fee28f7b40e6a41220cc76c5b39b",
       "max": 0,
       "min": 0,
       "playing": false,
       "repeat": false,
       "show_repeat": true,
       "step": 1,
       "style": "IPY_MODEL_bfa959372bfc4bcdaea10487b0072598",
       "tabbable": null,
       "tooltip": null,
       "value": 0
      }
     },
     "a15ef02534b94df1b2f3438067b58c59": {
      "buffers": [
       {
        "data": "",
        "encoding": "base64",
        "path": [
         "value"
        ]
       }
      ],
      "model_module": "@jupyter-widgets/controls",
      "model_module_version": "2.0.0",
      "model_name": "ImageModel",
      "state": {
       "_dom_classes": [],
       "_model_module": "@jupyter-widgets/controls",
       "_model_module_version": "2.0.0",
       "_model_name": "ImageModel",
       "_view_count": null,
       "_view_module": "@jupyter-widgets/controls",
       "_view_module_version": "2.0.0",
       "_view_name": "ImageView",
       "format": "png",
       "height": "",
       "layout": "IPY_MODEL_4cd2258186124422b81806b6d4919037",
       "tabbable": null,
       "tooltip": null,
       "width": "900.0"
      }
     },
     "a24e45f7db8f4e5f8303d8c98d125ef2": {
      "model_module": "@jupyter-widgets/controls",
      "model_module_version": "2.0.0",
      "model_name": "IntSliderModel",
      "state": {
       "_dom_classes": [],
       "_model_module": "@jupyter-widgets/controls",
       "_model_module_version": "2.0.0",
       "_model_name": "IntSliderModel",
       "_view_count": null,
       "_view_module": "@jupyter-widgets/controls",
       "_view_module_version": "2.0.0",
       "_view_name": "IntSliderView",
       "behavior": "drag-tap",
       "continuous_update": true,
       "description": "",
       "description_allow_html": false,
       "disabled": false,
       "layout": "IPY_MODEL_01503a92c34243f582c18c7ac673b3aa",
       "max": 0,
       "min": 0,
       "orientation": "horizontal",
       "readout": true,
       "readout_format": "d",
       "step": 1,
       "style": "IPY_MODEL_bbfba80a64144ec3b5f54550081cabcd",
       "tabbable": null,
       "tooltip": null,
       "value": 0
      }
     },
     "a54b6bb47f3e435bb586eac13adea540": {
      "model_module": "@jupyter-widgets/controls",
      "model_module_version": "2.0.0",
      "model_name": "LinkModel",
      "state": {
       "_model_module": "@jupyter-widgets/controls",
       "_model_module_version": "2.0.0",
       "_model_name": "LinkModel",
       "_view_count": null,
       "_view_module": "@jupyter-widgets/controls",
       "_view_module_version": "2.0.0",
       "_view_name": null,
       "source": [
        "IPY_MODEL_9ce229bcb0fb4781ab145b682cef251f",
        "value"
       ],
       "target": [
        "IPY_MODEL_a24e45f7db8f4e5f8303d8c98d125ef2",
        "value"
       ]
      }
     },
     "a758b43d18f94413a2c2f61751dbabb7": {
      "model_module": "@jupyter-widgets/base",
      "model_module_version": "2.0.0",
      "model_name": "LayoutModel",
      "state": {
       "_model_module": "@jupyter-widgets/base",
       "_model_module_version": "2.0.0",
       "_model_name": "LayoutModel",
       "_view_count": null,
       "_view_module": "@jupyter-widgets/base",
       "_view_module_version": "2.0.0",
       "_view_name": "LayoutView",
       "align_content": null,
       "align_items": null,
       "align_self": null,
       "border_bottom": null,
       "border_left": null,
       "border_right": null,
       "border_top": null,
       "bottom": null,
       "display": null,
       "flex": null,
       "flex_flow": null,
       "grid_area": null,
       "grid_auto_columns": null,
       "grid_auto_flow": null,
       "grid_auto_rows": null,
       "grid_column": null,
       "grid_gap": null,
       "grid_row": null,
       "grid_template_areas": null,
       "grid_template_columns": null,
       "grid_template_rows": null,
       "height": null,
       "justify_content": null,
       "justify_items": null,
       "left": null,
       "margin": null,
       "max_height": null,
       "max_width": null,
       "min_height": null,
       "min_width": null,
       "object_fit": null,
       "object_position": null,
       "order": null,
       "overflow": null,
       "padding": null,
       "right": null,
       "top": null,
       "visibility": null,
       "width": null
      }
     },
     "af837842c0794e058a151a1832ea4dfd": {
      "model_module": "@jupyter-widgets/controls",
      "model_module_version": "2.0.0",
      "model_name": "LinkModel",
      "state": {
       "_model_module": "@jupyter-widgets/controls",
       "_model_module_version": "2.0.0",
       "_model_name": "LinkModel",
       "_view_count": null,
       "_view_module": "@jupyter-widgets/controls",
       "_view_module_version": "2.0.0",
       "_view_name": null,
       "source": [
        "IPY_MODEL_9ce229bcb0fb4781ab145b682cef251f",
        "value"
       ],
       "target": [
        "IPY_MODEL_71becff6321441c89cc80d186185aa45",
        "frame"
       ]
      }
     },
     "b15ee07694754cc7b9c1aab974c0bae5": {
      "model_module": "@jupyter-widgets/base",
      "model_module_version": "2.0.0",
      "model_name": "LayoutModel",
      "state": {
       "_model_module": "@jupyter-widgets/base",
       "_model_module_version": "2.0.0",
       "_model_name": "LayoutModel",
       "_view_count": null,
       "_view_module": "@jupyter-widgets/base",
       "_view_module_version": "2.0.0",
       "_view_name": "LayoutView",
       "align_content": null,
       "align_items": null,
       "align_self": null,
       "border_bottom": null,
       "border_left": null,
       "border_right": null,
       "border_top": null,
       "bottom": null,
       "display": null,
       "flex": null,
       "flex_flow": null,
       "grid_area": null,
       "grid_auto_columns": null,
       "grid_auto_flow": null,
       "grid_auto_rows": null,
       "grid_column": null,
       "grid_gap": null,
       "grid_row": null,
       "grid_template_areas": null,
       "grid_template_columns": null,
       "grid_template_rows": null,
       "height": null,
       "justify_content": null,
       "justify_items": null,
       "left": null,
       "margin": null,
       "max_height": null,
       "max_width": null,
       "min_height": null,
       "min_width": null,
       "object_fit": null,
       "object_position": null,
       "order": null,
       "overflow": null,
       "padding": null,
       "right": null,
       "top": null,
       "visibility": null,
       "width": null
      }
     },
     "bbfba80a64144ec3b5f54550081cabcd": {
      "model_module": "@jupyter-widgets/controls",
      "model_module_version": "2.0.0",
      "model_name": "SliderStyleModel",
      "state": {
       "_model_module": "@jupyter-widgets/controls",
       "_model_module_version": "2.0.0",
       "_model_name": "SliderStyleModel",
       "_view_count": null,
       "_view_module": "@jupyter-widgets/base",
       "_view_module_version": "2.0.0",
       "_view_name": "StyleView",
       "description_width": "",
       "handle_color": null
      }
     },
     "bfa959372bfc4bcdaea10487b0072598": {
      "model_module": "@jupyter-widgets/controls",
      "model_module_version": "2.0.0",
      "model_name": "DescriptionStyleModel",
      "state": {
       "_model_module": "@jupyter-widgets/controls",
       "_model_module_version": "2.0.0",
       "_model_name": "DescriptionStyleModel",
       "_view_count": null,
       "_view_module": "@jupyter-widgets/base",
       "_view_module_version": "2.0.0",
       "_view_name": "StyleView",
       "description_width": ""
      }
     },
     "c2be20267f5f473d958d556c72d32378": {
      "model_module": "@jupyter-widgets/controls",
      "model_module_version": "2.0.0",
      "model_name": "LinkModel",
      "state": {
       "_model_module": "@jupyter-widgets/controls",
       "_model_module_version": "2.0.0",
       "_model_name": "LinkModel",
       "_view_count": null,
       "_view_module": "@jupyter-widgets/controls",
       "_view_module_version": "2.0.0",
       "_view_name": null,
       "source": [
        "IPY_MODEL_6c02d769cb1e4332aa527c73dd8a46d2",
        "max"
       ],
       "target": [
        "IPY_MODEL_d5cc65d79c5f456cad0cdb7b7102e24c",
        "max_frame"
       ]
      }
     },
     "cce8fee28f7b40e6a41220cc76c5b39b": {
      "model_module": "@jupyter-widgets/base",
      "model_module_version": "2.0.0",
      "model_name": "LayoutModel",
      "state": {
       "_model_module": "@jupyter-widgets/base",
       "_model_module_version": "2.0.0",
       "_model_name": "LayoutModel",
       "_view_count": null,
       "_view_module": "@jupyter-widgets/base",
       "_view_module_version": "2.0.0",
       "_view_name": "LayoutView",
       "align_content": null,
       "align_items": null,
       "align_self": null,
       "border_bottom": null,
       "border_left": null,
       "border_right": null,
       "border_top": null,
       "bottom": null,
       "display": null,
       "flex": null,
       "flex_flow": null,
       "grid_area": null,
       "grid_auto_columns": null,
       "grid_auto_flow": null,
       "grid_auto_rows": null,
       "grid_column": null,
       "grid_gap": null,
       "grid_row": null,
       "grid_template_areas": null,
       "grid_template_columns": null,
       "grid_template_rows": null,
       "height": null,
       "justify_content": null,
       "justify_items": null,
       "left": null,
       "margin": null,
       "max_height": null,
       "max_width": null,
       "min_height": null,
       "min_width": null,
       "object_fit": null,
       "object_position": null,
       "order": null,
       "overflow": null,
       "padding": null,
       "right": null,
       "top": null,
       "visibility": null,
       "width": null
      }
     },
     "d5cc65d79c5f456cad0cdb7b7102e24c": {
      "model_module": "nglview-js-widgets",
      "model_module_version": "3.1.4",
      "model_name": "NGLModel",
      "state": {
       "_camera_orientation": [],
       "_camera_str": "orthographic",
       "_dom_classes": [],
       "_gui_theme": null,
       "_ibtn_fullscreen": "IPY_MODEL_017295b415c5471098b7196f8453bfbf",
       "_igui": null,
       "_iplayer": "IPY_MODEL_72d4c428d2794b09b31274dadbf5b4c4",
       "_model_module": "nglview-js-widgets",
       "_model_module_version": "3.1.4",
       "_model_name": "NGLModel",
       "_ngl_color_dict": {},
       "_ngl_coordinate_resource": {},
       "_ngl_full_stage_parameters": {},
       "_ngl_msg_archive": [
        {
         "args": [
          {
           "binary": false,
           "data": "HEADER    MOLECULAR SYSTEM                        11-MAR-25       \nREMARK   1 Created by MolSysMT version 1.0 on 11-MAR-2025 at 15:04:17\nATOM      1 N    TYR A   1       3.326   1.548  -0.000  0.00  0.00           N\nATOM      2 H    TYR A   1       3.909   0.724  -0.000  0.00  0.00           H\nATOM      3 CA   TYR A   1       3.970   2.846  -0.000  0.00  0.00           C\nATOM      4 HA   TYR A   1       3.672   3.400  -0.890  0.00  0.00           H\nATOM      5 CB   TYR A   1       3.577   3.654   1.232  0.00  0.00           C\nATOM      6 HB2  TYR A   1       2.497   3.801   1.241  0.00  0.00           H\nATOM      7 HB3  TYR A   1       3.877   3.116   2.131  0.00  0.00           H\nATOM      8 CG   TYR A   1       4.267   4.996   1.195  0.00  0.00           C\nATOM      9 CD1  TYR A   1       4.060   5.919   2.227  0.00  0.00           C\nATOM     10 HD1  TYR A   1       3.400   5.668   3.058  0.00  0.00           H\nATOM     11 CE1  TYR A   1       4.700   7.164   2.193  0.00  0.00           C\nATOM     12 HE1  TYR A   1       4.539   7.882   2.997  0.00  0.00           H\nATOM     13 CZ   TYR A   1       5.547   7.486   1.126  0.00  0.00           C\nATOM     14 OH   TYR A   1       6.169   8.695   1.092  0.00  0.00           O\nATOM     15 HH   TYR A   1       5.956   9.247   1.848  0.00  0.00           H\nATOM     16 CE2  TYR A   1       5.755   6.563   0.094  0.00  0.00           C\nATOM     17 HE2  TYR A   1       6.415   6.814  -0.737  0.00  0.00           H\nATOM     18 CD2  TYR A   1       5.115   5.318   0.128  0.00  0.00           C\nATOM     19 HD2  TYR A   1       5.276   4.600  -0.676  0.00  0.00           H\nATOM     20 C    TYR A   1       5.486   2.705  -0.000  0.00  0.00           C\nATOM     21 O    TYR A   1       6.009   1.593  -0.000  0.00  0.00           O\nATOM     22 N    GLY A   2       6.191   3.839  -0.000  0.00  0.00           N\nATOM     23 H    GLY A   2       5.715   4.730  -0.000  0.00  0.00           H\nATOM     24 CA   GLY A   2       7.640   3.839  -0.000  0.00  0.00           C\nATOM     25 HA2  GLY A   2       8.004   3.325   0.890  0.00  0.00           H\nATOM     26 HA3  GLY A   2       8.004   3.325  -0.890  0.00  0.00           H\nATOM     27 C    GLY A   2       8.171   5.265  -0.000  0.00  0.00           C\nATOM     28 O    GLY A   2       7.395   6.219   0.000  0.00  0.00           O\nATOM     29 N    GLY A   3       9.498   5.409  -0.000  0.00  0.00           N\nATOM     30 H    GLY A   3      10.094   4.594  -0.000  0.00  0.00           H\nATOM     31 CA   GLY A   3      10.126   6.715   0.000  0.00  0.00           C\nATOM     32 HA2  GLY A   3       9.821   7.266  -0.890  0.00  0.00           H\nATOM     33 HA3  GLY A   3       9.821   7.266   0.890  0.00  0.00           H\nATOM     34 C    GLY A   3      11.642   6.574  -0.000  0.00  0.00           C\nATOM     35 O    GLY A   3      12.165   5.462  -0.000  0.00  0.00           O\nATOM     36 N    PHE A   4      12.347   7.708  -0.000  0.00  0.00           N\nATOM     37 H    PHE A   4      11.871   8.599   0.000  0.00  0.00           H\nATOM     38 CA   PHE A   4      13.796   7.708  -0.000  0.00  0.00           C\nATOM     39 HA   PHE A   4      14.160   7.194   0.890  0.00  0.00           H\nATOM     40 CB   PHE A   4      14.345   6.996  -1.232  0.00  0.00           C\nATOM     41 HB2  PHE A   4      13.997   5.964  -1.241  0.00  0.00           H\nATOM     42 HB3  PHE A   4      13.997   7.505  -2.131  0.00  0.00           H\nATOM     43 CG   PHE A   4      15.852   6.945  -1.321  0.00  0.00           C\nATOM     44 CD1  PHE A   4      16.467   6.316  -2.410  0.00  0.00           C\nATOM     45 HD1  PHE A   4      15.860   5.864  -3.193  0.00  0.00           H\nATOM     46 CE1  PHE A   4      17.864   6.269  -2.492  0.00  0.00           C\nATOM     47 HE1  PHE A   4      18.344   5.779  -3.340  0.00  0.00           H\nATOM     48 CZ   PHE A   4      18.645   6.850  -1.486  0.00  0.00           C\nATOM     49 HZ   PHE A   4      19.733   6.813  -1.550  0.00  0.00           H\nATOM     50 CE2  PHE A   4      18.029   7.478  -0.397  0.00  0.00           C\nATOM     51 HE2  PHE A   4      18.637   7.931   0.386  0.00  0.00           H\nATOM     52 CD2  PHE A   4      16.632   7.526  -0.315  0.00  0.00           C\nATOM     53 HD2  PHE A   4      16.153   8.015   0.533  0.00  0.00           H\nATOM     54 C    PHE A   4      14.344   9.128  -0.000  0.00  0.00           C\nATOM     55 O    PHE A   4      13.581  10.091   0.000  0.00  0.00           O\nATOM     56 N    MET A   5      15.673   9.256  -0.000  0.00  0.00           N\nATOM     57 H    MET A   5      16.259   8.433  -0.000  0.00  0.00           H\nATOM     58 CA   MET A   5      16.317  10.554   0.000  0.00  0.00           C\nATOM     59 HA   MET A   5      16.019  11.108  -0.890  0.00  0.00           H\nATOM     60 CB   MET A   5      15.924  11.362   1.232  0.00  0.00           C\nATOM     61 HB2  MET A   5      14.844  11.509   1.241  0.00  0.00           H\nATOM     62 HB3  MET A   5      16.225  10.824   2.131  0.00  0.00           H\nATOM     63 CG   MET A   5      16.621  12.717   1.195  0.00  0.00           C\nATOM     64 HG2  MET A   5      17.701  12.571   1.186  0.00  0.00           H\nATOM     65 HG3  MET A   5      16.321  13.256   0.296  0.00  0.00           H\nATOM     66 SD   MET A   5      16.164  13.689   2.652  0.00  0.00           S\nATOM     67 CE   MET A   5      17.100  15.171   2.341  0.00  0.00           C\nATOM     68 HE1  MET A   5      16.781  15.612   1.397  0.00  0.00           H\nATOM     69 HE2  MET A   5      16.933  15.883   3.149  0.00  0.00           H\nATOM     70 HE3  MET A   5      18.161  14.927   2.287  0.00  0.00           H\nATOM     71 C    MET A   5      17.833  10.413  -0.000  0.00  0.00           C\nATOM     72 O    MET A   5      18.356   9.301  -0.000  0.00  0.00           O\nEND\n",
           "type": "blob"
          }
         ],
         "kwargs": {
          "defaultRepresentation": true,
          "ext": "pdb",
          "name": "nglview.adaptor.MolSysMTTrajectory",
          "skipDigestion": true
         },
         "methodName": "loadFile",
         "reconstruc_color_scheme": false,
         "target": "Stage",
         "type": "call_method"
        },
        {
         "args": [],
         "component_index": 0,
         "kwargs": {},
         "methodName": "removeAllRepresentations",
         "reconstruc_color_scheme": false,
         "target": "compList",
         "type": "call_method"
        },
        {
         "args": [
          "cartoon"
         ],
         "component_index": 0,
         "kwargs": {
          "sele": "@"
         },
         "methodName": "addRepresentation",
         "reconstruc_color_scheme": false,
         "target": "compList",
         "type": "call_method"
        },
        {
         "args": [
          "cartoon"
         ],
         "component_index": 0,
         "kwargs": {
          "sele": "@"
         },
         "methodName": "addRepresentation",
         "reconstruc_color_scheme": false,
         "target": "compList",
         "type": "call_method"
        },
        {
         "args": [
          "licorice"
         ],
         "component_index": 0,
         "kwargs": {
          "radius": 0.4,
          "sele": "@"
         },
         "methodName": "addRepresentation",
         "reconstruc_color_scheme": false,
         "target": "compList",
         "type": "call_method"
        },
        {
         "args": [
          "licorice"
         ],
         "component_index": 0,
         "kwargs": {
          "radius": 0.4,
          "sele": "@0,1,2,3,4,5,6,7,8,9,10,11,12,13,14,15,16,17,18,19,20,21,22,23,24,25,26,27,28,29,30,31,32,33,34,35,36,37,38,39,40,41,42,43,44,45,46,47,48,49,50,51,52,53,54,55,56,57,58,59,60,61,62,63,64,65,66,67,68,69,70,71"
         },
         "methodName": "addRepresentation",
         "reconstruc_color_scheme": false,
         "target": "compList",
         "type": "call_method"
        },
        {
         "args": [
          "ball+stick"
         ],
         "component_index": 0,
         "kwargs": {
          "sele": "@"
         },
         "methodName": "addRepresentation",
         "reconstruc_color_scheme": false,
         "target": "compList",
         "type": "call_method"
        }
       ],
       "_ngl_original_stage_parameters": {},
       "_ngl_repr_dict": {},
       "_ngl_serialize": false,
       "_ngl_version": "",
       "_ngl_view_id": [],
       "_player_dict": {},
       "_scene_position": {},
       "_scene_rotation": {},
       "_synced_model_ids": [],
       "_synced_repr_model_ids": [],
       "_view_count": null,
       "_view_height": "",
       "_view_module": "nglview-js-widgets",
       "_view_module_version": "3.1.4",
       "_view_name": "NGLView",
       "_view_width": "",
       "background": "white",
       "frame": 0,
       "gui_style": null,
       "layout": "IPY_MODEL_5df5862ba670406993484c3df3b4cc44",
       "max_frame": 0,
       "n_components": 0,
       "picked": {},
       "tabbable": null,
       "tooltip": null
      }
     },
     "dea4d08805164db88fe0fc9a1c16f3bd": {
      "model_module": "@jupyter-widgets/controls",
      "model_module_version": "2.0.0",
      "model_name": "IntSliderModel",
      "state": {
       "_dom_classes": [],
       "_model_module": "@jupyter-widgets/controls",
       "_model_module_version": "2.0.0",
       "_model_name": "IntSliderModel",
       "_view_count": null,
       "_view_module": "@jupyter-widgets/controls",
       "_view_module_version": "2.0.0",
       "_view_name": "IntSliderView",
       "behavior": "drag-tap",
       "continuous_update": true,
       "description": "",
       "description_allow_html": false,
       "disabled": false,
       "layout": "IPY_MODEL_a758b43d18f94413a2c2f61751dbabb7",
       "max": 0,
       "min": 0,
       "orientation": "horizontal",
       "readout": true,
       "readout_format": "d",
       "step": 1,
       "style": "IPY_MODEL_86df6471c5364ef997405a39c314bb7f",
       "tabbable": null,
       "tooltip": null,
       "value": 0
      }
     },
     "ece2bae6c12444ec886088a60653a4db": {
      "model_module": "@jupyter-widgets/base",
      "model_module_version": "2.0.0",
      "model_name": "LayoutModel",
      "state": {
       "_model_module": "@jupyter-widgets/base",
       "_model_module_version": "2.0.0",
       "_model_name": "LayoutModel",
       "_view_count": null,
       "_view_module": "@jupyter-widgets/base",
       "_view_module_version": "2.0.0",
       "_view_name": "LayoutView",
       "align_content": null,
       "align_items": null,
       "align_self": null,
       "border_bottom": null,
       "border_left": null,
       "border_right": null,
       "border_top": null,
       "bottom": null,
       "display": null,
       "flex": null,
       "flex_flow": null,
       "grid_area": null,
       "grid_auto_columns": null,
       "grid_auto_flow": null,
       "grid_auto_rows": null,
       "grid_column": null,
       "grid_gap": null,
       "grid_row": null,
       "grid_template_areas": null,
       "grid_template_columns": null,
       "grid_template_rows": null,
       "height": null,
       "justify_content": null,
       "justify_items": null,
       "left": null,
       "margin": null,
       "max_height": null,
       "max_width": null,
       "min_height": null,
       "min_width": null,
       "object_fit": null,
       "object_position": null,
       "order": null,
       "overflow": null,
       "padding": null,
       "right": null,
       "top": null,
       "visibility": null,
       "width": "34px"
      }
     },
     "f71c85b572654a7bbc46779132560c95": {
      "model_module": "@jupyter-widgets/controls",
      "model_module_version": "2.0.0",
      "model_name": "ButtonModel",
      "state": {
       "_dom_classes": [],
       "_model_module": "@jupyter-widgets/controls",
       "_model_module_version": "2.0.0",
       "_model_name": "ButtonModel",
       "_view_count": null,
       "_view_module": "@jupyter-widgets/controls",
       "_view_module_version": "2.0.0",
       "_view_name": "ButtonView",
       "button_style": "",
       "description": "",
       "disabled": false,
       "icon": "compress",
       "layout": "IPY_MODEL_ece2bae6c12444ec886088a60653a4db",
       "style": "IPY_MODEL_01c19e9a2a9a476992f7ddc2eaa67b7e",
       "tabbable": null,
       "tooltip": null
      }
     }
    },
    "version_major": 2,
    "version_minor": 0
   }
  }
 },
 "nbformat": 4,
 "nbformat_minor": 4
}
