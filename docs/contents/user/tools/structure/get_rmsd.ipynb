{
 "cells": [
  {
   "cell_type": "code",
   "execution_count": 1,
   "metadata": {
    "execution": {
     "iopub.execute_input": "2025-03-11T21:04:35.005461Z",
     "iopub.status.busy": "2025-03-11T21:04:35.004884Z",
     "iopub.status.idle": "2025-03-11T21:04:35.042037Z",
     "shell.execute_reply": "2025-03-11T21:04:35.041110Z"
    }
   },
   "outputs": [],
   "source": [
    "%load_ext autoreload\n",
    "%autoreload 2"
   ]
  },
  {
   "cell_type": "code",
   "execution_count": 2,
   "metadata": {
    "execution": {
     "iopub.execute_input": "2025-03-11T21:04:35.045969Z",
     "iopub.status.busy": "2025-03-11T21:04:35.045264Z",
     "iopub.status.idle": "2025-03-11T21:04:43.779697Z",
     "shell.execute_reply": "2025-03-11T21:04:43.778627Z"
    }
   },
   "outputs": [
    {
     "data": {
      "application/vnd.jupyter.widget-view+json": {
       "model_id": "7e4ba39148254ef4bd47cb0647239760",
       "version_major": 2,
       "version_minor": 0
      },
      "text/plain": []
     },
     "metadata": {},
     "output_type": "display_data"
    }
   ],
   "source": [
    "import molsysmt as msm\n",
    "import numpy as np\n",
    "import matplotlib.pyplot as plt"
   ]
  },
  {
   "cell_type": "markdown",
   "metadata": {},
   "source": [
    "# Get RMSD\n",
    "\n",
    "Lets load a small molecular system with a 5000 structures trajectory to show how MolSysMT gets the RMSD."
   ]
  },
  {
   "cell_type": "code",
   "execution_count": 3,
   "metadata": {
    "execution": {
     "iopub.execute_input": "2025-03-11T21:04:43.784107Z",
     "iopub.status.busy": "2025-03-11T21:04:43.782939Z",
     "iopub.status.idle": "2025-03-11T21:04:45.094835Z",
     "shell.execute_reply": "2025-03-11T21:04:45.093890Z"
    }
   },
   "outputs": [],
   "source": [
    "h5_file = msm.systems['pentalanine']['traj_pentalanine.h5']\n",
    "molecular_system = msm.convert(h5_file)"
   ]
  },
  {
   "cell_type": "code",
   "execution_count": 4,
   "metadata": {
    "execution": {
     "iopub.execute_input": "2025-03-11T21:04:45.101894Z",
     "iopub.status.busy": "2025-03-11T21:04:45.099321Z",
     "iopub.status.idle": "2025-03-11T21:04:47.949604Z",
     "shell.execute_reply": "2025-03-11T21:04:47.948818Z"
    }
   },
   "outputs": [
    {
     "data": {
      "text/html": [
       "<style type=\"text/css\">\n",
       "</style>\n",
       "<table id=\"T_290da\">\n",
       "  <thead>\n",
       "    <tr>\n",
       "      <th id=\"T_290da_level0_col0\" class=\"col_heading level0 col0\" >form</th>\n",
       "      <th id=\"T_290da_level0_col1\" class=\"col_heading level0 col1\" >n_atoms</th>\n",
       "      <th id=\"T_290da_level0_col2\" class=\"col_heading level0 col2\" >n_groups</th>\n",
       "      <th id=\"T_290da_level0_col3\" class=\"col_heading level0 col3\" >n_components</th>\n",
       "      <th id=\"T_290da_level0_col4\" class=\"col_heading level0 col4\" >n_chains</th>\n",
       "      <th id=\"T_290da_level0_col5\" class=\"col_heading level0 col5\" >n_molecules</th>\n",
       "      <th id=\"T_290da_level0_col6\" class=\"col_heading level0 col6\" >n_entities</th>\n",
       "      <th id=\"T_290da_level0_col7\" class=\"col_heading level0 col7\" >n_peptides</th>\n",
       "      <th id=\"T_290da_level0_col8\" class=\"col_heading level0 col8\" >n_structures</th>\n",
       "    </tr>\n",
       "  </thead>\n",
       "  <tbody>\n",
       "    <tr>\n",
       "      <td id=\"T_290da_row0_col0\" class=\"data row0 col0\" >molsysmt.MolSys</td>\n",
       "      <td id=\"T_290da_row0_col1\" class=\"data row0 col1\" >62</td>\n",
       "      <td id=\"T_290da_row0_col2\" class=\"data row0 col2\" >7</td>\n",
       "      <td id=\"T_290da_row0_col3\" class=\"data row0 col3\" >1</td>\n",
       "      <td id=\"T_290da_row0_col4\" class=\"data row0 col4\" >1</td>\n",
       "      <td id=\"T_290da_row0_col5\" class=\"data row0 col5\" >1</td>\n",
       "      <td id=\"T_290da_row0_col6\" class=\"data row0 col6\" >1</td>\n",
       "      <td id=\"T_290da_row0_col7\" class=\"data row0 col7\" >1</td>\n",
       "      <td id=\"T_290da_row0_col8\" class=\"data row0 col8\" >5000</td>\n",
       "    </tr>\n",
       "  </tbody>\n",
       "</table>\n"
      ],
      "text/plain": [
       "<pandas.io.formats.style.Styler at 0x7fd0d4b35d00>"
      ]
     },
     "execution_count": 4,
     "metadata": {},
     "output_type": "execute_result"
    }
   ],
   "source": [
    "msm.info(molecular_system)"
   ]
  },
  {
   "cell_type": "code",
   "execution_count": 5,
   "metadata": {
    "execution": {
     "iopub.execute_input": "2025-03-11T21:04:47.952855Z",
     "iopub.status.busy": "2025-03-11T21:04:47.952406Z",
     "iopub.status.idle": "2025-03-11T21:04:48.351951Z",
     "shell.execute_reply": "2025-03-11T21:04:48.351161Z"
    }
   },
   "outputs": [],
   "source": [
    "time = msm.get(molecular_system, element='system', time=True)"
   ]
  },
  {
   "cell_type": "markdown",
   "metadata": {},
   "source": [
    "The root mean squared deviation of a set of atom coordinates $\\vec{R}:(\\vec{r_{1}}, \\vec{r_{2}}, ..., \\vec{r_{n}})$, with respect to a reference set of atom coordinates $\\vec{R'}:(\\vec{r'_{1}}, \\vec{r'_{2}}, ..., \\vec{r'_{n}})$, is defined as:\n",
    "\n",
    "\\begin{equation}\n",
    "\\text{RMSD} (\\vec{R'},\\vec{R}) = \\sqrt{ \\frac{1}{n} \\sum_{i=1}^{n} \\Vert \\vec{r'_{i}} - \\vec{r_{i}} \\Vert ^{2}}\n",
    "\\end{equation}\n",
    "\n",
    "\\begin{equation}\n",
    "\\text{RMSD} (\\vec{R'},\\vec{R}) = \n",
    "\\sqrt{ \\frac{1}{n} \\sum_{i=1}^{n} [(x'-x)^2 + (z'-z)^2 + (z'-z)^2]}\n",
    "\\end{equation}\n",
    "\n",
    "These two sets of atom coordinates, with the same number of atoms, could belong to structures of two different molecular systems or could also be structures of the same system. Let see the case where the RMSD is calculated only with the backbone atoms of the structure of our molecular system at structure 100-th taking the structure 0-th as reference:"
   ]
  },
  {
   "cell_type": "code",
   "execution_count": 6,
   "metadata": {
    "execution": {
     "iopub.execute_input": "2025-03-11T21:04:48.355152Z",
     "iopub.status.busy": "2025-03-11T21:04:48.354529Z",
     "iopub.status.idle": "2025-03-11T21:04:49.788018Z",
     "shell.execute_reply": "2025-03-11T21:04:49.787229Z"
    }
   },
   "outputs": [],
   "source": [
    "rmsd = msm.structure.get_rmsd(molecular_system, selection='backbone',\n",
    "                              structure_indices=100, reference_structure_index=0)"
   ]
  },
  {
   "cell_type": "markdown",
   "metadata": {},
   "source": [
    "There object returned is a numpy array with a single RMSD value:"
   ]
  },
  {
   "cell_type": "code",
   "execution_count": 7,
   "metadata": {
    "execution": {
     "iopub.execute_input": "2025-03-11T21:04:49.791090Z",
     "iopub.status.busy": "2025-03-11T21:04:49.790621Z",
     "iopub.status.idle": "2025-03-11T21:04:49.836060Z",
     "shell.execute_reply": "2025-03-11T21:04:49.835296Z"
    }
   },
   "outputs": [
    {
     "name": "stdout",
     "output_type": "stream",
     "text": [
      "[0.7381704258064243] nanometer\n"
     ]
    }
   ],
   "source": [
    "print(rmsd)"
   ]
  },
  {
   "cell_type": "markdown",
   "metadata": {},
   "source": [
    "Lets get now the RMSD of every single structure in the trajectory with the same structure as reference, the one found in structure 0-th:"
   ]
  },
  {
   "cell_type": "code",
   "execution_count": 8,
   "metadata": {
    "execution": {
     "iopub.execute_input": "2025-03-11T21:04:49.839145Z",
     "iopub.status.busy": "2025-03-11T21:04:49.838567Z",
     "iopub.status.idle": "2025-03-11T21:04:51.112474Z",
     "shell.execute_reply": "2025-03-11T21:04:51.111432Z"
    }
   },
   "outputs": [],
   "source": [
    "rmsd = msm.structure.get_rmsd(molecular_system, selection='backbone',\n",
    "                              structure_indices='all', reference_structure_index=0)"
   ]
  },
  {
   "cell_type": "code",
   "execution_count": 9,
   "metadata": {
    "execution": {
     "iopub.execute_input": "2025-03-11T21:04:51.115825Z",
     "iopub.status.busy": "2025-03-11T21:04:51.115451Z",
     "iopub.status.idle": "2025-03-11T21:04:51.631618Z",
     "shell.execute_reply": "2025-03-11T21:04:51.630678Z"
    }
   },
   "outputs": [
    {
     "name": "stderr",
     "output_type": "stream",
     "text": [
      "/home/diego/Myopt/miniconda3/envs/MolSysMT@uibcdf_3.12/lib/python3.12/site-packages/matplotlib/cbook.py:1345: UnitStrippedWarning: The unit of the quantity is stripped when downcasting to ndarray.\n",
      "  return np.asarray(x, float)\n"
     ]
    },
    {
     "data": {
      "image/png": "[encoded data removed]",
      "text/plain": [
       "<Figure size 640x480 with 1 Axes>"
      ]
     },
     "metadata": {},
     "output_type": "display_data"
    }
   ],
   "source": [
    "plt.plot(time, rmsd, label='RMSD')\n",
    "plt.xlabel('time [{}]'.format(msm.pyunitwizard.get_unit(time)))\n",
    "plt.ylabel('RMSD [{}]'.format(msm.pyunitwizard.get_unit(rmsd)))\n",
    "plt.title('RMSD with backbone atoms with respect structure 0-th')\n",
    "plt.legend()\n",
    "plt.show()"
   ]
  },
  {
   "cell_type": "markdown",
   "metadata": {},
   "source": [
    "In case of having two different molecular systems, `molsysmt.rmsd()` accepts all necessary input arguments to specify the set of atom coordinates to obtain the rmsd, for a single structure or a set of them: `item`, `selection` and `structure_indices` for the subject molecular system; and `reference_item`, `reference_selection`, and `reference_structure_index` for the reference molecular system."
   ]
  },
  {
   "cell_type": "markdown",
   "metadata": {},
   "source": [
    "Lets, for instance, create two different molecular systems (same topology in this case) to illustrate how these input arguments work:"
   ]
  },
  {
   "cell_type": "code",
   "execution_count": 10,
   "metadata": {
    "execution": {
     "iopub.execute_input": "2025-03-11T21:04:51.635312Z",
     "iopub.status.busy": "2025-03-11T21:04:51.634856Z",
     "iopub.status.idle": "2025-03-11T21:04:52.033160Z",
     "shell.execute_reply": "2025-03-11T21:04:52.032141Z"
    }
   },
   "outputs": [],
   "source": [
    "molecular_system_1 = msm.extract(molecular_system, structure_indices=range(0,100))\n",
    "molecular_system_2 = msm.extract(molecular_system, structure_indices=range(200,300))"
   ]
  },
  {
   "cell_type": "code",
   "execution_count": 11,
   "metadata": {
    "execution": {
     "iopub.execute_input": "2025-03-11T21:04:52.045894Z",
     "iopub.status.busy": "2025-03-11T21:04:52.044166Z",
     "iopub.status.idle": "2025-03-11T21:04:53.480439Z",
     "shell.execute_reply": "2025-03-11T21:04:53.479118Z"
    }
   },
   "outputs": [],
   "source": [
    "rmsd = msm.structure.get_rmsd(molecular_system_1, selection='backbone', structure_indices=80, \n",
    "                reference_molecular_system=molecular_system_2, reference_selection='backbone',\n",
    "                reference_structure_index=20)"
   ]
  },
  {
   "cell_type": "markdown",
   "metadata": {},
   "source": [
    "And we got the rmsd between to structures coming from two different structures from two molecular systems:"
   ]
  },
  {
   "cell_type": "code",
   "execution_count": 12,
   "metadata": {
    "execution": {
     "iopub.execute_input": "2025-03-11T21:04:53.484522Z",
     "iopub.status.busy": "2025-03-11T21:04:53.484069Z",
     "iopub.status.idle": "2025-03-11T21:04:53.558041Z",
     "shell.execute_reply": "2025-03-11T21:04:53.557138Z"
    }
   },
   "outputs": [
    {
     "name": "stdout",
     "output_type": "stream",
     "text": [
      "[0.945975307377399] nanometer\n"
     ]
    }
   ],
   "source": [
    "print(rmsd)"
   ]
  },
  {
   "cell_type": "code",
   "execution_count": null,
   "metadata": {},
   "outputs": [],
   "source": []
  }
 ],
 "metadata": {
  "kernelspec": {
   "display_name": "Python 3 (ipykernel)",
   "language": "python",
   "name": "python3"
  },
  "language_info": {
   "codemirror_mode": {
    "name": "ipython",
    "version": 3
   },
   "file_extension": ".py",
   "mimetype": "text/x-python",
   "name": "python",
   "nbconvert_exporter": "python",
   "pygments_lexer": "ipython3",
   "version": "3.12.8"
  },
  "widgets": {
   "application/vnd.jupyter.widget-state+json": {
    "state": {
     "7e4ba39148254ef4bd47cb0647239760": {
      "model_module": "nglview-js-widgets",
      "model_module_version": "3.1.4",
      "model_name": "ColormakerRegistryModel",
      "state": {
       "_dom_classes": [],
       "_model_module": "nglview-js-widgets",
       "_model_module_version": "3.1.4",
       "_model_name": "ColormakerRegistryModel",
       "_msg_ar": [],
       "_msg_q": [],
       "_ready": false,
       "_view_count": null,
       "_view_module": "nglview-js-widgets",
       "_view_module_version": "3.1.4",
       "_view_name": "ColormakerRegistryView",
       "layout": "IPY_MODEL_a6b6b7f46bcf4c6ca4e62edd924840e3",
       "tabbable": null,
       "tooltip": null
      }
     },
     "a6b6b7f46bcf4c6ca4e62edd924840e3": {
      "model_module": "@jupyter-widgets/base",
      "model_module_version": "2.0.0",
      "model_name": "LayoutModel",
      "state": {
       "_model_module": "@jupyter-widgets/base",
       "_model_module_version": "2.0.0",
       "_model_name": "LayoutModel",
       "_view_count": null,
       "_view_module": "@jupyter-widgets/base",
       "_view_module_version": "2.0.0",
       "_view_name": "LayoutView",
       "align_content": null,
       "align_items": null,
       "align_self": null,
       "border_bottom": null,
       "border_left": null,
       "border_right": null,
       "border_top": null,
       "bottom": null,
       "display": null,
       "flex": null,
       "flex_flow": null,
       "grid_area": null,
       "grid_auto_columns": null,
       "grid_auto_flow": null,
       "grid_auto_rows": null,
       "grid_column": null,
       "grid_gap": null,
       "grid_row": null,
       "grid_template_areas": null,
       "grid_template_columns": null,
       "grid_template_rows": null,
       "height": null,
       "justify_content": null,
       "justify_items": null,
       "left": null,
       "margin": null,
       "max_height": null,
       "max_width": null,
       "min_height": null,
       "min_width": null,
       "object_fit": null,
       "object_position": null,
       "order": null,
       "overflow": null,
       "padding": null,
       "right": null,
       "top": null,
       "visibility": null,
       "width": null
      }
     }
    },
    "version_major": 2,
    "version_minor": 0
   }
  }
 },
 "nbformat": 4,
 "nbformat_minor": 4
}
