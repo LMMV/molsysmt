{
 "cells": [
  {
   "cell_type": "code",
   "execution_count": 1,
   "metadata": {
    "execution": {
     "iopub.execute_input": "2025-03-11T21:04:38.199900Z",
     "iopub.status.busy": "2025-03-11T21:04:38.199473Z",
     "iopub.status.idle": "2025-03-11T21:04:38.221942Z",
     "shell.execute_reply": "2025-03-11T21:04:38.221364Z"
    }
   },
   "outputs": [],
   "source": [
    "%load_ext autoreload\n",
    "%autoreload 2"
   ]
  },
  {
   "cell_type": "code",
   "execution_count": 2,
   "metadata": {
    "execution": {
     "iopub.execute_input": "2025-03-11T21:04:38.225601Z",
     "iopub.status.busy": "2025-03-11T21:04:38.224970Z",
     "iopub.status.idle": "2025-03-11T21:04:45.882811Z",
     "shell.execute_reply": "2025-03-11T21:04:45.881944Z"
    }
   },
   "outputs": [
    {
     "data": {
      "application/vnd.jupyter.widget-view+json": {
       "model_id": "69212765d37f4deda6def372f86f87ab",
       "version_major": 2,
       "version_minor": 0
      },
      "text/plain": []
     },
     "metadata": {},
     "output_type": "display_data"
    }
   ],
   "source": [
    "import molsysmt as msm"
   ]
  },
  {
   "cell_type": "markdown",
   "metadata": {},
   "source": [
    "# Move away"
   ]
  },
  {
   "cell_type": "code",
   "execution_count": 3,
   "metadata": {
    "execution": {
     "iopub.execute_input": "2025-03-11T21:04:45.887040Z",
     "iopub.status.busy": "2025-03-11T21:04:45.886105Z",
     "iopub.status.idle": "2025-03-11T21:04:47.048054Z",
     "shell.execute_reply": "2025-03-11T21:04:47.047027Z"
    }
   },
   "outputs": [],
   "source": [
    "molecular_system_1 = msm.convert(msm.systems['alanine dipeptide']['alanine_dipeptide.h5msm'])\n",
    "molecular_system_2 = msm.convert(msm.systems['valine dipeptide']['valine_dipeptide.h5msm'])"
   ]
  },
  {
   "cell_type": "code",
   "execution_count": 4,
   "metadata": {
    "execution": {
     "iopub.execute_input": "2025-03-11T21:04:47.052171Z",
     "iopub.status.busy": "2025-03-11T21:04:47.051106Z",
     "iopub.status.idle": "2025-03-11T21:04:49.151273Z",
     "shell.execute_reply": "2025-03-11T21:04:49.150203Z"
    }
   },
   "outputs": [],
   "source": [
    "molecular_system_1 = msm.structure.center(molecular_system_1)"
   ]
  },
  {
   "cell_type": "code",
   "execution_count": 5,
   "metadata": {
    "execution": {
     "iopub.execute_input": "2025-03-11T21:04:49.155383Z",
     "iopub.status.busy": "2025-03-11T21:04:49.154558Z",
     "iopub.status.idle": "2025-03-11T21:04:52.682526Z",
     "shell.execute_reply": "2025-03-11T21:04:52.681670Z"
    }
   },
   "outputs": [],
   "source": [
    "molecular_system_2 = msm.structure.move_away(molecular_system_2, reference_molecular_system=molecular_system_1,\n",
    "                                             direction=[1,0,0], distance='1 nanometer')"
   ]
  },
  {
   "cell_type": "code",
   "execution_count": 6,
   "metadata": {
    "execution": {
     "iopub.execute_input": "2025-03-11T21:04:52.686163Z",
     "iopub.status.busy": "2025-03-11T21:04:52.685713Z",
     "iopub.status.idle": "2025-03-11T21:04:57.532814Z",
     "shell.execute_reply": "2025-03-11T21:04:57.531991Z"
    }
   },
   "outputs": [
    {
     "data": {
      "application/vnd.jupyter.widget-view+json": {
       "model_id": "ea6295c224d8472aae0c1f5bccab5f88",
       "version_major": 2,
       "version_minor": 0
      },
      "text/plain": [
       "NGLWidget()"
      ]
     },
     "metadata": {},
     "output_type": "display_data"
    }
   ],
   "source": [
    "msm.view([molecular_system_1, molecular_system_2])"
   ]
  },
  {
   "cell_type": "code",
   "execution_count": 7,
   "metadata": {
    "execution": {
     "iopub.execute_input": "2025-03-11T21:04:57.536071Z",
     "iopub.status.busy": "2025-03-11T21:04:57.535717Z",
     "iopub.status.idle": "2025-03-11T21:04:59.437147Z",
     "shell.execute_reply": "2025-03-11T21:04:59.436352Z"
    }
   },
   "outputs": [
    {
     "name": "stdout",
     "output_type": "stream",
     "text": [
      "[[[5.0464682937507114e-17 -1.5139404881252134e-17 -2.523234146875356e-18]]] nanometer\n"
     ]
    },
    {
     "name": "stdout",
     "output_type": "stream",
     "text": [
      "[[[1.0000000000000004 -4.3615904538845435e-17 0.0]]] nanometer\n"
     ]
    }
   ],
   "source": [
    "print(msm.structure.get_center(molecular_system_1))\n",
    "print(msm.structure.get_center(molecular_system_2))"
   ]
  },
  {
   "cell_type": "code",
   "execution_count": 8,
   "metadata": {
    "execution": {
     "iopub.execute_input": "2025-03-11T21:04:59.440309Z",
     "iopub.status.busy": "2025-03-11T21:04:59.439689Z",
     "iopub.status.idle": "2025-03-11T21:05:02.352242Z",
     "shell.execute_reply": "2025-03-11T21:05:02.351446Z"
    }
   },
   "outputs": [],
   "source": [
    "molecular_system_2 = msm.structure.move_away(molecular_system_2, reference_molecular_system=molecular_system_1,\n",
    "                                             distance='1 nanometer')"
   ]
  },
  {
   "cell_type": "code",
   "execution_count": 9,
   "metadata": {
    "execution": {
     "iopub.execute_input": "2025-03-11T21:05:02.355302Z",
     "iopub.status.busy": "2025-03-11T21:05:02.354510Z",
     "iopub.status.idle": "2025-03-11T21:05:06.905646Z",
     "shell.execute_reply": "2025-03-11T21:05:06.904688Z"
    }
   },
   "outputs": [
    {
     "data": {
      "application/vnd.jupyter.widget-view+json": {
       "model_id": "d584e451de9b43269ac5e64b2a9ced13",
       "version_major": 2,
       "version_minor": 0
      },
      "text/plain": [
       "NGLWidget()"
      ]
     },
     "metadata": {},
     "output_type": "display_data"
    }
   ],
   "source": [
    "msm.view([molecular_system_1, molecular_system_2])"
   ]
  },
  {
   "cell_type": "code",
   "execution_count": 10,
   "metadata": {
    "execution": {
     "iopub.execute_input": "2025-03-11T21:05:06.909730Z",
     "iopub.status.busy": "2025-03-11T21:05:06.909081Z",
     "iopub.status.idle": "2025-03-11T21:05:08.616844Z",
     "shell.execute_reply": "2025-03-11T21:05:08.615937Z"
    }
   },
   "outputs": [
    {
     "name": "stdout",
     "output_type": "stream",
     "text": [
      "[[[5.0464682937507114e-17 -1.5139404881252134e-17 -2.523234146875356e-18]]] nanometer\n"
     ]
    },
    {
     "name": "stdout",
     "output_type": "stream",
     "text": [
      "[[[1.999999999999999 -6.344131569286608e-17 1.2390881971262907e-19]]] nanometer\n"
     ]
    }
   ],
   "source": [
    "print(msm.structure.get_center(molecular_system_1))\n",
    "print(msm.structure.get_center(molecular_system_2))"
   ]
  },
  {
   "cell_type": "code",
   "execution_count": null,
   "metadata": {},
   "outputs": [],
   "source": []
  },
  {
   "cell_type": "code",
   "execution_count": null,
   "metadata": {},
   "outputs": [],
   "source": []
  },
  {
   "cell_type": "code",
   "execution_count": null,
   "metadata": {},
   "outputs": [],
   "source": []
  },
  {
   "cell_type": "code",
   "execution_count": 11,
   "metadata": {
    "execution": {
     "iopub.execute_input": "2025-03-11T21:05:08.621605Z",
     "iopub.status.busy": "2025-03-11T21:05:08.620899Z",
     "iopub.status.idle": "2025-03-11T21:05:16.076766Z",
     "shell.execute_reply": "2025-03-11T21:05:16.076054Z"
    }
   },
   "outputs": [],
   "source": [
    "molsys1 = msm.convert(msm.systems['alanine dipeptide']['alanine_dipeptide.h5msm'])\n",
    "molsys2 = msm.convert(msm.systems['valine dipeptide']['valine_dipeptide.h5msm'])\n",
    "\n",
    "msm.structure.center(molsys1, in_place=True)\n",
    "\n",
    "molsys2 = msm.structure.move_away(molsys2, reference_molecular_system=molsys1,\n",
    "                                      direction=[1,0,0], distance='1 nanometer')\n",
    "\n",
    "center1 = msm.structure.get_center(molsys1)\n",
    "center2 = msm.structure.get_center(molsys2)"
   ]
  },
  {
   "cell_type": "code",
   "execution_count": 12,
   "metadata": {
    "execution": {
     "iopub.execute_input": "2025-03-11T21:05:16.080625Z",
     "iopub.status.busy": "2025-03-11T21:05:16.080249Z",
     "iopub.status.idle": "2025-03-11T21:05:16.136796Z",
     "shell.execute_reply": "2025-03-11T21:05:16.135934Z"
    }
   },
   "outputs": [
    {
     "data": {
      "text/html": [
       "<table><tbody><tr><th>Magnitude</th><td style='text-align:left;'><pre>[[[5.0464682937507114e-17 -1.5139404881252134e-17 -2.523234146875356e-18]]]</pre></td></tr><tr><th>Units</th><td style='text-align:left;'>nanometer</td></tr></tbody></table>"
      ],
      "text/latex": [
       "$arr[,0,:,:] = \\begin{pmatrix} &  & \\end{pmatrix}\\ \\mathrm{nanometer}$"
      ],
      "text/plain": [
       "<Quantity([[[ 5.04646829e-17 -1.51394049e-17 -2.52323415e-18]]], 'nanometer')>"
      ]
     },
     "execution_count": 12,
     "metadata": {},
     "output_type": "execute_result"
    }
   ],
   "source": [
    "center1"
   ]
  },
  {
   "cell_type": "code",
   "execution_count": 13,
   "metadata": {
    "execution": {
     "iopub.execute_input": "2025-03-11T21:05:16.139658Z",
     "iopub.status.busy": "2025-03-11T21:05:16.139314Z",
     "iopub.status.idle": "2025-03-11T21:05:16.191799Z",
     "shell.execute_reply": "2025-03-11T21:05:16.191153Z"
    }
   },
   "outputs": [
    {
     "data": {
      "text/html": [
       "<table><tbody><tr><th>Magnitude</th><td style='text-align:left;'><pre>[[[1.0000000000000004 -4.3615904538845435e-17 0.0]]]</pre></td></tr><tr><th>Units</th><td style='text-align:left;'>nanometer</td></tr></tbody></table>"
      ],
      "text/latex": [
       "$arr[,0,:,:] = \\begin{pmatrix} &  & \\end{pmatrix}\\ \\mathrm{nanometer}$"
      ],
      "text/plain": [
       "<Quantity([[[ 1.00000000e+00 -4.36159045e-17  0.00000000e+00]]], 'nanometer')>"
      ]
     },
     "execution_count": 13,
     "metadata": {},
     "output_type": "execute_result"
    }
   ],
   "source": [
    "center2"
   ]
  },
  {
   "cell_type": "code",
   "execution_count": null,
   "metadata": {},
   "outputs": [],
   "source": []
  }
 ],
 "metadata": {
  "kernelspec": {
   "display_name": "Python 3 (ipykernel)",
   "language": "python",
   "name": "python3"
  },
  "language_info": {
   "codemirror_mode": {
    "name": "ipython",
    "version": 3
   },
   "file_extension": ".py",
   "mimetype": "text/x-python",
   "name": "python",
   "nbconvert_exporter": "python",
   "pygments_lexer": "ipython3",
   "version": "3.12.8"
  },
  "widgets": {
   "application/vnd.jupyter.widget-state+json": {
    "state": {
     "05991eedc2d74da78b5805c1b5831a8d": {
      "model_module": "@jupyter-widgets/base",
      "model_module_version": "2.0.0",
      "model_name": "LayoutModel",
      "state": {
       "_model_module": "@jupyter-widgets/base",
       "_model_module_version": "2.0.0",
       "_model_name": "LayoutModel",
       "_view_count": null,
       "_view_module": "@jupyter-widgets/base",
       "_view_module_version": "2.0.0",
       "_view_name": "LayoutView",
       "align_content": null,
       "align_items": null,
       "align_self": null,
       "border_bottom": null,
       "border_left": null,
       "border_right": null,
       "border_top": null,
       "bottom": null,
       "display": null,
       "flex": null,
       "flex_flow": null,
       "grid_area": null,
       "grid_auto_columns": null,
       "grid_auto_flow": null,
       "grid_auto_rows": null,
       "grid_column": null,
       "grid_gap": null,
       "grid_row": null,
       "grid_template_areas": null,
       "grid_template_columns": null,
       "grid_template_rows": null,
       "height": null,
       "justify_content": null,
       "justify_items": null,
       "left": null,
       "margin": null,
       "max_height": null,
       "max_width": null,
       "min_height": null,
       "min_width": null,
       "object_fit": null,
       "object_position": null,
       "order": null,
       "overflow": null,
       "padding": null,
       "right": null,
       "top": null,
       "visibility": null,
       "width": null
      }
     },
     "0785138364ea4d9b80bac59dccd2e636": {
      "model_module": "@jupyter-widgets/controls",
      "model_module_version": "2.0.0",
      "model_name": "ButtonModel",
      "state": {
       "_dom_classes": [],
       "_model_module": "@jupyter-widgets/controls",
       "_model_module_version": "2.0.0",
       "_model_name": "ButtonModel",
       "_view_count": null,
       "_view_module": "@jupyter-widgets/controls",
       "_view_module_version": "2.0.0",
       "_view_name": "ButtonView",
       "button_style": "",
       "description": "",
       "disabled": false,
       "icon": "compress",
       "layout": "IPY_MODEL_fc4a966a718f441cbdf35eb5527bdebd",
       "style": "IPY_MODEL_b02b143cc18040debdf5f6e9ecf3a7c4",
       "tabbable": null,
       "tooltip": null
      }
     },
     "0fea54d2ec40417695f739927a70478f": {
      "model_module": "@jupyter-widgets/base",
      "model_module_version": "2.0.0",
      "model_name": "LayoutModel",
      "state": {
       "_model_module": "@jupyter-widgets/base",
       "_model_module_version": "2.0.0",
       "_model_name": "LayoutModel",
       "_view_count": null,
       "_view_module": "@jupyter-widgets/base",
       "_view_module_version": "2.0.0",
       "_view_name": "LayoutView",
       "align_content": null,
       "align_items": null,
       "align_self": null,
       "border_bottom": null,
       "border_left": null,
       "border_right": null,
       "border_top": null,
       "bottom": null,
       "display": null,
       "flex": null,
       "flex_flow": null,
       "grid_area": null,
       "grid_auto_columns": null,
       "grid_auto_flow": null,
       "grid_auto_rows": null,
       "grid_column": null,
       "grid_gap": null,
       "grid_row": null,
       "grid_template_areas": null,
       "grid_template_columns": null,
       "grid_template_rows": null,
       "height": null,
       "justify_content": null,
       "justify_items": null,
       "left": null,
       "margin": null,
       "max_height": null,
       "max_width": null,
       "min_height": null,
       "min_width": null,
       "object_fit": null,
       "object_position": null,
       "order": null,
       "overflow": null,
       "padding": null,
       "right": null,
       "top": null,
       "visibility": null,
       "width": null
      }
     },
     "13a175657c1a487c96c9462f5ddaab16": {
      "model_module": "@jupyter-widgets/controls",
      "model_module_version": "2.0.0",
      "model_name": "DescriptionStyleModel",
      "state": {
       "_model_module": "@jupyter-widgets/controls",
       "_model_module_version": "2.0.0",
       "_model_name": "DescriptionStyleModel",
       "_view_count": null,
       "_view_module": "@jupyter-widgets/base",
       "_view_module_version": "2.0.0",
       "_view_name": "StyleView",
       "description_width": ""
      }
     },
     "15a8dca6888944bbbdaaba67447c4532": {
      "model_module": "@jupyter-widgets/controls",
      "model_module_version": "2.0.0",
      "model_name": "DescriptionStyleModel",
      "state": {
       "_model_module": "@jupyter-widgets/controls",
       "_model_module_version": "2.0.0",
       "_model_name": "DescriptionStyleModel",
       "_view_count": null,
       "_view_module": "@jupyter-widgets/base",
       "_view_module_version": "2.0.0",
       "_view_name": "StyleView",
       "description_width": ""
      }
     },
     "183d75cdc21045688a9e7f81552b5423": {
      "model_module": "@jupyter-widgets/controls",
      "model_module_version": "2.0.0",
      "model_name": "LinkModel",
      "state": {
       "_model_module": "@jupyter-widgets/controls",
       "_model_module_version": "2.0.0",
       "_model_name": "LinkModel",
       "_view_count": null,
       "_view_module": "@jupyter-widgets/controls",
       "_view_module_version": "2.0.0",
       "_view_name": null,
       "source": [
        "IPY_MODEL_338969947bb34e009d149a71fcfb8a83",
        "max"
       ],
       "target": [
        "IPY_MODEL_d584e451de9b43269ac5e64b2a9ced13",
        "max_frame"
       ]
      }
     },
     "24ccc988b5914c73b24a1d297da93bc8": {
      "model_module": "@jupyter-widgets/base",
      "model_module_version": "2.0.0",
      "model_name": "LayoutModel",
      "state": {
       "_model_module": "@jupyter-widgets/base",
       "_model_module_version": "2.0.0",
       "_model_name": "LayoutModel",
       "_view_count": null,
       "_view_module": "@jupyter-widgets/base",
       "_view_module_version": "2.0.0",
       "_view_name": "LayoutView",
       "align_content": null,
       "align_items": null,
       "align_self": null,
       "border_bottom": null,
       "border_left": null,
       "border_right": null,
       "border_top": null,
       "bottom": null,
       "display": null,
       "flex": null,
       "flex_flow": null,
       "grid_area": null,
       "grid_auto_columns": null,
       "grid_auto_flow": null,
       "grid_auto_rows": null,
       "grid_column": null,
       "grid_gap": null,
       "grid_row": null,
       "grid_template_areas": null,
       "grid_template_columns": null,
       "grid_template_rows": null,
       "height": null,
       "justify_content": null,
       "justify_items": null,
       "left": null,
       "margin": null,
       "max_height": null,
       "max_width": null,
       "min_height": null,
       "min_width": null,
       "object_fit": null,
       "object_position": null,
       "order": null,
       "overflow": null,
       "padding": null,
       "right": null,
       "top": null,
       "visibility": null,
       "width": null
      }
     },
     "25f89e0951424fa581f2ce13ddae6a28": {
      "model_module": "@jupyter-widgets/controls",
      "model_module_version": "2.0.0",
      "model_name": "ButtonStyleModel",
      "state": {
       "_model_module": "@jupyter-widgets/controls",
       "_model_module_version": "2.0.0",
       "_model_name": "ButtonStyleModel",
       "_view_count": null,
       "_view_module": "@jupyter-widgets/base",
       "_view_module_version": "2.0.0",
       "_view_name": "StyleView",
       "button_color": null,
       "font_family": null,
       "font_size": null,
       "font_style": null,
       "font_variant": null,
       "font_weight": null,
       "text_color": null,
       "text_decoration": null
      }
     },
     "2e1536fb7f4d4a5ba15ca9cee9921c72": {
      "model_module": "@jupyter-widgets/controls",
      "model_module_version": "2.0.0",
      "model_name": "IntSliderModel",
      "state": {
       "_dom_classes": [],
       "_model_module": "@jupyter-widgets/controls",
       "_model_module_version": "2.0.0",
       "_model_name": "IntSliderModel",
       "_view_count": null,
       "_view_module": "@jupyter-widgets/controls",
       "_view_module_version": "2.0.0",
       "_view_name": "IntSliderView",
       "behavior": "drag-tap",
       "continuous_update": true,
       "description": "",
       "description_allow_html": false,
       "disabled": false,
       "layout": "IPY_MODEL_9b0ad6855dd0417ca4e2c3f19ef5c863",
       "max": 0,
       "min": 0,
       "orientation": "horizontal",
       "readout": true,
       "readout_format": "d",
       "step": 1,
       "style": "IPY_MODEL_6d4a70e662154bfe94ee1ba4159800b6",
       "tabbable": null,
       "tooltip": null,
       "value": 0
      }
     },
     "338969947bb34e009d149a71fcfb8a83": {
      "model_module": "@jupyter-widgets/controls",
      "model_module_version": "2.0.0",
      "model_name": "PlayModel",
      "state": {
       "_dom_classes": [],
       "_model_module": "@jupyter-widgets/controls",
       "_model_module_version": "2.0.0",
       "_model_name": "PlayModel",
       "_view_count": null,
       "_view_module": "@jupyter-widgets/controls",
       "_view_module_version": "2.0.0",
       "_view_name": "PlayView",
       "description": "",
       "description_allow_html": false,
       "disabled": false,
       "interval": 100,
       "layout": "IPY_MODEL_0fea54d2ec40417695f739927a70478f",
       "max": 0,
       "min": 0,
       "playing": false,
       "repeat": false,
       "show_repeat": true,
       "step": 1,
       "style": "IPY_MODEL_13a175657c1a487c96c9462f5ddaab16",
       "tabbable": null,
       "tooltip": null,
       "value": 0
      }
     },
     "41998793ebd047b4bf986b126ce2a161": {
      "model_module": "@jupyter-widgets/base",
      "model_module_version": "2.0.0",
      "model_name": "LayoutModel",
      "state": {
       "_model_module": "@jupyter-widgets/base",
       "_model_module_version": "2.0.0",
       "_model_name": "LayoutModel",
       "_view_count": null,
       "_view_module": "@jupyter-widgets/base",
       "_view_module_version": "2.0.0",
       "_view_name": "LayoutView",
       "align_content": null,
       "align_items": null,
       "align_self": null,
       "border_bottom": null,
       "border_left": null,
       "border_right": null,
       "border_top": null,
       "bottom": null,
       "display": null,
       "flex": null,
       "flex_flow": null,
       "grid_area": null,
       "grid_auto_columns": null,
       "grid_auto_flow": null,
       "grid_auto_rows": null,
       "grid_column": null,
       "grid_gap": null,
       "grid_row": null,
       "grid_template_areas": null,
       "grid_template_columns": null,
       "grid_template_rows": null,
       "height": null,
       "justify_content": null,
       "justify_items": null,
       "left": null,
       "margin": null,
       "max_height": null,
       "max_width": null,
       "min_height": null,
       "min_width": null,
       "object_fit": null,
       "object_position": null,
       "order": null,
       "overflow": null,
       "padding": null,
       "right": null,
       "top": null,
       "visibility": null,
       "width": null
      }
     },
     "41d4f1389f9347488c512dc11b85302c": {
      "model_module": "@jupyter-widgets/controls",
      "model_module_version": "2.0.0",
      "model_name": "LinkModel",
      "state": {
       "_model_module": "@jupyter-widgets/controls",
       "_model_module_version": "2.0.0",
       "_model_name": "LinkModel",
       "_view_count": null,
       "_view_module": "@jupyter-widgets/controls",
       "_view_module_version": "2.0.0",
       "_view_name": null,
       "source": [
        "IPY_MODEL_caf38f21f1ed48f1a370b210307d0490",
        "value"
       ],
       "target": [
        "IPY_MODEL_d94ae2247b7e4a9f93d028ae3d513d4f",
        "value"
       ]
      }
     },
     "5001af9779f44caab00403b132a558c6": {
      "model_module": "@jupyter-widgets/base",
      "model_module_version": "2.0.0",
      "model_name": "LayoutModel",
      "state": {
       "_model_module": "@jupyter-widgets/base",
       "_model_module_version": "2.0.0",
       "_model_name": "LayoutModel",
       "_view_count": null,
       "_view_module": "@jupyter-widgets/base",
       "_view_module_version": "2.0.0",
       "_view_name": "LayoutView",
       "align_content": null,
       "align_items": null,
       "align_self": null,
       "border_bottom": null,
       "border_left": null,
       "border_right": null,
       "border_top": null,
       "bottom": null,
       "display": null,
       "flex": null,
       "flex_flow": null,
       "grid_area": null,
       "grid_auto_columns": null,
       "grid_auto_flow": null,
       "grid_auto_rows": null,
       "grid_column": null,
       "grid_gap": null,
       "grid_row": null,
       "grid_template_areas": null,
       "grid_template_columns": null,
       "grid_template_rows": null,
       "height": null,
       "justify_content": null,
       "justify_items": null,
       "left": null,
       "margin": null,
       "max_height": null,
       "max_width": null,
       "min_height": null,
       "min_width": null,
       "object_fit": null,
       "object_position": null,
       "order": null,
       "overflow": null,
       "padding": null,
       "right": null,
       "top": null,
       "visibility": null,
       "width": null
      }
     },
     "510c0269d9e94f3897405c27f2b51cdc": {
      "model_module": "@jupyter-widgets/controls",
      "model_module_version": "2.0.0",
      "model_name": "HBoxModel",
      "state": {
       "_dom_classes": [],
       "_model_module": "@jupyter-widgets/controls",
       "_model_module_version": "2.0.0",
       "_model_name": "HBoxModel",
       "_view_count": null,
       "_view_module": "@jupyter-widgets/controls",
       "_view_module_version": "2.0.0",
       "_view_name": "HBoxView",
       "box_style": "",
       "children": [
        "IPY_MODEL_338969947bb34e009d149a71fcfb8a83",
        "IPY_MODEL_2e1536fb7f4d4a5ba15ca9cee9921c72"
       ],
       "layout": "IPY_MODEL_41998793ebd047b4bf986b126ce2a161",
       "tabbable": null,
       "tooltip": null
      }
     },
     "5eb5c59874fc42e7bfc550b626e99ad2": {
      "model_module": "@jupyter-widgets/controls",
      "model_module_version": "2.0.0",
      "model_name": "LinkModel",
      "state": {
       "_model_module": "@jupyter-widgets/controls",
       "_model_module_version": "2.0.0",
       "_model_name": "LinkModel",
       "_view_count": null,
       "_view_module": "@jupyter-widgets/controls",
       "_view_module_version": "2.0.0",
       "_view_name": null,
       "source": [
        "IPY_MODEL_d94ae2247b7e4a9f93d028ae3d513d4f",
        "max"
       ],
       "target": [
        "IPY_MODEL_ea6295c224d8472aae0c1f5bccab5f88",
        "max_frame"
       ]
      }
     },
     "69212765d37f4deda6def372f86f87ab": {
      "model_module": "nglview-js-widgets",
      "model_module_version": "3.1.4",
      "model_name": "ColormakerRegistryModel",
      "state": {
       "_dom_classes": [],
       "_model_module": "nglview-js-widgets",
       "_model_module_version": "3.1.4",
       "_model_name": "ColormakerRegistryModel",
       "_msg_ar": [],
       "_msg_q": [],
       "_ready": false,
       "_view_count": null,
       "_view_module": "nglview-js-widgets",
       "_view_module_version": "3.1.4",
       "_view_name": "ColormakerRegistryView",
       "layout": "IPY_MODEL_05991eedc2d74da78b5805c1b5831a8d",
       "tabbable": null,
       "tooltip": null
      }
     },
     "6d4a70e662154bfe94ee1ba4159800b6": {
      "model_module": "@jupyter-widgets/controls",
      "model_module_version": "2.0.0",
      "model_name": "SliderStyleModel",
      "state": {
       "_model_module": "@jupyter-widgets/controls",
       "_model_module_version": "2.0.0",
       "_model_name": "SliderStyleModel",
       "_view_count": null,
       "_view_module": "@jupyter-widgets/base",
       "_view_module_version": "2.0.0",
       "_view_name": "StyleView",
       "description_width": "",
       "handle_color": null
      }
     },
     "6e463fafb73445178cd75efa4a1d6e5a": {
      "buffers": [
       {
        "data": "",
        "encoding": "base64",
        "path": [
         "value"
        ]
       }
      ],
      "model_module": "@jupyter-widgets/controls",
      "model_module_version": "2.0.0",
      "model_name": "ImageModel",
      "state": {
       "_dom_classes": [],
       "_model_module": "@jupyter-widgets/controls",
       "_model_module_version": "2.0.0",
       "_model_name": "ImageModel",
       "_view_count": null,
       "_view_module": "@jupyter-widgets/controls",
       "_view_module_version": "2.0.0",
       "_view_name": "ImageView",
       "format": "png",
       "height": "",
       "layout": "IPY_MODEL_875846204c7c403b8ffd12602c343d79",
       "tabbable": null,
       "tooltip": null,
       "width": "900.0"
      }
     },
     "795aa46e90c54e5faf01fa01371a5a77": {
      "model_module": "@jupyter-widgets/controls",
      "model_module_version": "2.0.0",
      "model_name": "LinkModel",
      "state": {
       "_model_module": "@jupyter-widgets/controls",
       "_model_module_version": "2.0.0",
       "_model_name": "LinkModel",
       "_view_count": null,
       "_view_module": "@jupyter-widgets/controls",
       "_view_module_version": "2.0.0",
       "_view_name": null,
       "source": [
        "IPY_MODEL_caf38f21f1ed48f1a370b210307d0490",
        "max"
       ],
       "target": [
        "IPY_MODEL_ea6295c224d8472aae0c1f5bccab5f88",
        "max_frame"
       ]
      }
     },
     "7a2206b1a7dc419e86585f8bcbf50502": {
      "model_module": "@jupyter-widgets/base",
      "model_module_version": "2.0.0",
      "model_name": "LayoutModel",
      "state": {
       "_model_module": "@jupyter-widgets/base",
       "_model_module_version": "2.0.0",
       "_model_name": "LayoutModel",
       "_view_count": null,
       "_view_module": "@jupyter-widgets/base",
       "_view_module_version": "2.0.0",
       "_view_name": "LayoutView",
       "align_content": null,
       "align_items": null,
       "align_self": null,
       "border_bottom": null,
       "border_left": null,
       "border_right": null,
       "border_top": null,
       "bottom": null,
       "display": null,
       "flex": null,
       "flex_flow": null,
       "grid_area": null,
       "grid_auto_columns": null,
       "grid_auto_flow": null,
       "grid_auto_rows": null,
       "grid_column": null,
       "grid_gap": null,
       "grid_row": null,
       "grid_template_areas": null,
       "grid_template_columns": null,
       "grid_template_rows": null,
       "height": null,
       "justify_content": null,
       "justify_items": null,
       "left": null,
       "margin": null,
       "max_height": null,
       "max_width": null,
       "min_height": null,
       "min_width": null,
       "object_fit": null,
       "object_position": null,
       "order": null,
       "overflow": null,
       "padding": null,
       "right": null,
       "top": null,
       "visibility": null,
       "width": null
      }
     },
     "86b5ce03890c4c349370f91210367f0f": {
      "model_module": "@jupyter-widgets/base",
      "model_module_version": "2.0.0",
      "model_name": "LayoutModel",
      "state": {
       "_model_module": "@jupyter-widgets/base",
       "_model_module_version": "2.0.0",
       "_model_name": "LayoutModel",
       "_view_count": null,
       "_view_module": "@jupyter-widgets/base",
       "_view_module_version": "2.0.0",
       "_view_name": "LayoutView",
       "align_content": null,
       "align_items": null,
       "align_self": null,
       "border_bottom": null,
       "border_left": null,
       "border_right": null,
       "border_top": null,
       "bottom": null,
       "display": null,
       "flex": null,
       "flex_flow": null,
       "grid_area": null,
       "grid_auto_columns": null,
       "grid_auto_flow": null,
       "grid_auto_rows": null,
       "grid_column": null,
       "grid_gap": null,
       "grid_row": null,
       "grid_template_areas": null,
       "grid_template_columns": null,
       "grid_template_rows": null,
       "height": null,
       "justify_content": null,
       "justify_items": null,
       "left": null,
       "margin": null,
       "max_height": null,
       "max_width": null,
       "min_height": null,
       "min_width": null,
       "object_fit": null,
       "object_position": null,
       "order": null,
       "overflow": null,
       "padding": null,
       "right": null,
       "top": null,
       "visibility": null,
       "width": "34px"
      }
     },
     "875846204c7c403b8ffd12602c343d79": {
      "model_module": "@jupyter-widgets/base",
      "model_module_version": "2.0.0",
      "model_name": "LayoutModel",
      "state": {
       "_model_module": "@jupyter-widgets/base",
       "_model_module_version": "2.0.0",
       "_model_name": "LayoutModel",
       "_view_count": null,
       "_view_module": "@jupyter-widgets/base",
       "_view_module_version": "2.0.0",
       "_view_name": "LayoutView",
       "align_content": null,
       "align_items": null,
       "align_self": null,
       "border_bottom": null,
       "border_left": null,
       "border_right": null,
       "border_top": null,
       "bottom": null,
       "display": null,
       "flex": null,
       "flex_flow": null,
       "grid_area": null,
       "grid_auto_columns": null,
       "grid_auto_flow": null,
       "grid_auto_rows": null,
       "grid_column": null,
       "grid_gap": null,
       "grid_row": null,
       "grid_template_areas": null,
       "grid_template_columns": null,
       "grid_template_rows": null,
       "height": null,
       "justify_content": null,
       "justify_items": null,
       "left": null,
       "margin": null,
       "max_height": null,
       "max_width": null,
       "min_height": null,
       "min_width": null,
       "object_fit": null,
       "object_position": null,
       "order": null,
       "overflow": null,
       "padding": null,
       "right": null,
       "top": null,
       "visibility": null,
       "width": null
      }
     },
     "96b9372befc642dca1c406cb54945ef6": {
      "model_module": "@jupyter-widgets/base",
      "model_module_version": "2.0.0",
      "model_name": "LayoutModel",
      "state": {
       "_model_module": "@jupyter-widgets/base",
       "_model_module_version": "2.0.0",
       "_model_name": "LayoutModel",
       "_view_count": null,
       "_view_module": "@jupyter-widgets/base",
       "_view_module_version": "2.0.0",
       "_view_name": "LayoutView",
       "align_content": null,
       "align_items": null,
       "align_self": null,
       "border_bottom": null,
       "border_left": null,
       "border_right": null,
       "border_top": null,
       "bottom": null,
       "display": null,
       "flex": null,
       "flex_flow": null,
       "grid_area": null,
       "grid_auto_columns": null,
       "grid_auto_flow": null,
       "grid_auto_rows": null,
       "grid_column": null,
       "grid_gap": null,
       "grid_row": null,
       "grid_template_areas": null,
       "grid_template_columns": null,
       "grid_template_rows": null,
       "height": null,
       "justify_content": null,
       "justify_items": null,
       "left": null,
       "margin": null,
       "max_height": null,
       "max_width": null,
       "min_height": null,
       "min_width": null,
       "object_fit": null,
       "object_position": null,
       "order": null,
       "overflow": null,
       "padding": null,
       "right": null,
       "top": null,
       "visibility": null,
       "width": null
      }
     },
     "9737896e34204a90963ed85521bd7351": {
      "model_module": "@jupyter-widgets/controls",
      "model_module_version": "2.0.0",
      "model_name": "LinkModel",
      "state": {
       "_model_module": "@jupyter-widgets/controls",
       "_model_module_version": "2.0.0",
       "_model_name": "LinkModel",
       "_view_count": null,
       "_view_module": "@jupyter-widgets/controls",
       "_view_module_version": "2.0.0",
       "_view_name": null,
       "source": [
        "IPY_MODEL_338969947bb34e009d149a71fcfb8a83",
        "value"
       ],
       "target": [
        "IPY_MODEL_2e1536fb7f4d4a5ba15ca9cee9921c72",
        "value"
       ]
      }
     },
     "9b0ad6855dd0417ca4e2c3f19ef5c863": {
      "model_module": "@jupyter-widgets/base",
      "model_module_version": "2.0.0",
      "model_name": "LayoutModel",
      "state": {
       "_model_module": "@jupyter-widgets/base",
       "_model_module_version": "2.0.0",
       "_model_name": "LayoutModel",
       "_view_count": null,
       "_view_module": "@jupyter-widgets/base",
       "_view_module_version": "2.0.0",
       "_view_name": "LayoutView",
       "align_content": null,
       "align_items": null,
       "align_self": null,
       "border_bottom": null,
       "border_left": null,
       "border_right": null,
       "border_top": null,
       "bottom": null,
       "display": null,
       "flex": null,
       "flex_flow": null,
       "grid_area": null,
       "grid_auto_columns": null,
       "grid_auto_flow": null,
       "grid_auto_rows": null,
       "grid_column": null,
       "grid_gap": null,
       "grid_row": null,
       "grid_template_areas": null,
       "grid_template_columns": null,
       "grid_template_rows": null,
       "height": null,
       "justify_content": null,
       "justify_items": null,
       "left": null,
       "margin": null,
       "max_height": null,
       "max_width": null,
       "min_height": null,
       "min_width": null,
       "object_fit": null,
       "object_position": null,
       "order": null,
       "overflow": null,
       "padding": null,
       "right": null,
       "top": null,
       "visibility": null,
       "width": null
      }
     },
     "9fda91b097b6409b93956b20868f01fb": {
      "model_module": "@jupyter-widgets/controls",
      "model_module_version": "2.0.0",
      "model_name": "ButtonModel",
      "state": {
       "_dom_classes": [],
       "_model_module": "@jupyter-widgets/controls",
       "_model_module_version": "2.0.0",
       "_model_name": "ButtonModel",
       "_view_count": null,
       "_view_module": "@jupyter-widgets/controls",
       "_view_module_version": "2.0.0",
       "_view_name": "ButtonView",
       "button_style": "",
       "description": "",
       "disabled": false,
       "icon": "compress",
       "layout": "IPY_MODEL_86b5ce03890c4c349370f91210367f0f",
       "style": "IPY_MODEL_25f89e0951424fa581f2ce13ddae6a28",
       "tabbable": null,
       "tooltip": null
      }
     },
     "a07f315c82894102b3b80f08cc00559e": {
      "model_module": "@jupyter-widgets/base",
      "model_module_version": "2.0.0",
      "model_name": "LayoutModel",
      "state": {
       "_model_module": "@jupyter-widgets/base",
       "_model_module_version": "2.0.0",
       "_model_name": "LayoutModel",
       "_view_count": null,
       "_view_module": "@jupyter-widgets/base",
       "_view_module_version": "2.0.0",
       "_view_name": "LayoutView",
       "align_content": null,
       "align_items": null,
       "align_self": null,
       "border_bottom": null,
       "border_left": null,
       "border_right": null,
       "border_top": null,
       "bottom": null,
       "display": null,
       "flex": null,
       "flex_flow": null,
       "grid_area": null,
       "grid_auto_columns": null,
       "grid_auto_flow": null,
       "grid_auto_rows": null,
       "grid_column": null,
       "grid_gap": null,
       "grid_row": null,
       "grid_template_areas": null,
       "grid_template_columns": null,
       "grid_template_rows": null,
       "height": null,
       "justify_content": null,
       "justify_items": null,
       "left": null,
       "margin": null,
       "max_height": null,
       "max_width": null,
       "min_height": null,
       "min_width": null,
       "object_fit": null,
       "object_position": null,
       "order": null,
       "overflow": null,
       "padding": null,
       "right": null,
       "top": null,
       "visibility": null,
       "width": null
      }
     },
     "a0e26953478649d99f329eda47a7826d": {
      "model_module": "@jupyter-widgets/controls",
      "model_module_version": "2.0.0",
      "model_name": "SliderStyleModel",
      "state": {
       "_model_module": "@jupyter-widgets/controls",
       "_model_module_version": "2.0.0",
       "_model_name": "SliderStyleModel",
       "_view_count": null,
       "_view_module": "@jupyter-widgets/base",
       "_view_module_version": "2.0.0",
       "_view_name": "StyleView",
       "description_width": "",
       "handle_color": null
      }
     },
     "a2cd59ca09dc4ad68f182b23300d2742": {
      "model_module": "@jupyter-widgets/controls",
      "model_module_version": "2.0.0",
      "model_name": "HBoxModel",
      "state": {
       "_dom_classes": [],
       "_model_module": "@jupyter-widgets/controls",
       "_model_module_version": "2.0.0",
       "_model_name": "HBoxModel",
       "_view_count": null,
       "_view_module": "@jupyter-widgets/controls",
       "_view_module_version": "2.0.0",
       "_view_name": "HBoxView",
       "box_style": "",
       "children": [
        "IPY_MODEL_caf38f21f1ed48f1a370b210307d0490",
        "IPY_MODEL_d94ae2247b7e4a9f93d028ae3d513d4f"
       ],
       "layout": "IPY_MODEL_7a2206b1a7dc419e86585f8bcbf50502",
       "tabbable": null,
       "tooltip": null
      }
     },
     "ac601e44a974428190fa74769f9c8355": {
      "model_module": "@jupyter-widgets/base",
      "model_module_version": "2.0.0",
      "model_name": "LayoutModel",
      "state": {
       "_model_module": "@jupyter-widgets/base",
       "_model_module_version": "2.0.0",
       "_model_name": "LayoutModel",
       "_view_count": null,
       "_view_module": "@jupyter-widgets/base",
       "_view_module_version": "2.0.0",
       "_view_name": "LayoutView",
       "align_content": null,
       "align_items": null,
       "align_self": null,
       "border_bottom": null,
       "border_left": null,
       "border_right": null,
       "border_top": null,
       "bottom": null,
       "display": null,
       "flex": null,
       "flex_flow": null,
       "grid_area": null,
       "grid_auto_columns": null,
       "grid_auto_flow": null,
       "grid_auto_rows": null,
       "grid_column": null,
       "grid_gap": null,
       "grid_row": null,
       "grid_template_areas": null,
       "grid_template_columns": null,
       "grid_template_rows": null,
       "height": null,
       "justify_content": null,
       "justify_items": null,
       "left": null,
       "margin": null,
       "max_height": null,
       "max_width": null,
       "min_height": null,
       "min_width": null,
       "object_fit": null,
       "object_position": null,
       "order": null,
       "overflow": null,
       "padding": null,
       "right": null,
       "top": null,
       "visibility": null,
       "width": null
      }
     },
     "b02b143cc18040debdf5f6e9ecf3a7c4": {
      "model_module": "@jupyter-widgets/controls",
      "model_module_version": "2.0.0",
      "model_name": "ButtonStyleModel",
      "state": {
       "_model_module": "@jupyter-widgets/controls",
       "_model_module_version": "2.0.0",
       "_model_name": "ButtonStyleModel",
       "_view_count": null,
       "_view_module": "@jupyter-widgets/base",
       "_view_module_version": "2.0.0",
       "_view_name": "StyleView",
       "button_color": null,
       "font_family": null,
       "font_size": null,
       "font_style": null,
       "font_variant": null,
       "font_weight": null,
       "text_color": null,
       "text_decoration": null
      }
     },
     "c980593d1e9b43a09eef4b603f328874": {
      "buffers": [
       {
        "data": "",
        "encoding": "base64",
        "path": [
         "value"
        ]
       }
      ],
      "model_module": "@jupyter-widgets/controls",
      "model_module_version": "2.0.0",
      "model_name": "ImageModel",
      "state": {
       "_dom_classes": [],
       "_model_module": "@jupyter-widgets/controls",
       "_model_module_version": "2.0.0",
       "_model_name": "ImageModel",
       "_view_count": null,
       "_view_module": "@jupyter-widgets/controls",
       "_view_module_version": "2.0.0",
       "_view_name": "ImageView",
       "format": "png",
       "height": "",
       "layout": "IPY_MODEL_5001af9779f44caab00403b132a558c6",
       "tabbable": null,
       "tooltip": null,
       "width": "900.0"
      }
     },
     "caf38f21f1ed48f1a370b210307d0490": {
      "model_module": "@jupyter-widgets/controls",
      "model_module_version": "2.0.0",
      "model_name": "PlayModel",
      "state": {
       "_dom_classes": [],
       "_model_module": "@jupyter-widgets/controls",
       "_model_module_version": "2.0.0",
       "_model_name": "PlayModel",
       "_view_count": null,
       "_view_module": "@jupyter-widgets/controls",
       "_view_module_version": "2.0.0",
       "_view_name": "PlayView",
       "description": "",
       "description_allow_html": false,
       "disabled": false,
       "interval": 100,
       "layout": "IPY_MODEL_ac601e44a974428190fa74769f9c8355",
       "max": 0,
       "min": 0,
       "playing": false,
       "repeat": false,
       "show_repeat": true,
       "step": 1,
       "style": "IPY_MODEL_15a8dca6888944bbbdaaba67447c4532",
       "tabbable": null,
       "tooltip": null,
       "value": 0
      }
     },
     "ccf07b9ea5034b66923f88b53c535614": {
      "model_module": "@jupyter-widgets/controls",
      "model_module_version": "2.0.0",
      "model_name": "LinkModel",
      "state": {
       "_model_module": "@jupyter-widgets/controls",
       "_model_module_version": "2.0.0",
       "_model_name": "LinkModel",
       "_view_count": null,
       "_view_module": "@jupyter-widgets/controls",
       "_view_module_version": "2.0.0",
       "_view_name": null,
       "source": [
        "IPY_MODEL_2e1536fb7f4d4a5ba15ca9cee9921c72",
        "max"
       ],
       "target": [
        "IPY_MODEL_d584e451de9b43269ac5e64b2a9ced13",
        "max_frame"
       ]
      }
     },
     "d584e451de9b43269ac5e64b2a9ced13": {
      "model_module": "nglview-js-widgets",
      "model_module_version": "3.1.4",
      "model_name": "NGLModel",
      "state": {
       "_camera_orientation": [],
       "_camera_str": "orthographic",
       "_dom_classes": [],
       "_gui_theme": null,
       "_ibtn_fullscreen": "IPY_MODEL_0785138364ea4d9b80bac59dccd2e636",
       "_igui": null,
       "_iplayer": "IPY_MODEL_510c0269d9e94f3897405c27f2b51cdc",
       "_model_module": "nglview-js-widgets",
       "_model_module_version": "3.1.4",
       "_model_name": "NGLModel",
       "_ngl_color_dict": {},
       "_ngl_coordinate_resource": {},
       "_ngl_full_stage_parameters": {},
       "_ngl_msg_archive": [
        {
         "args": [
          {
           "binary": false,
           "data": "HEADER    MOLECULAR SYSTEM                        11-MAR-25       \nREMARK   1 Created by MolSysMT version 1.0 on 11-MAR-2025 at 15:05:03\nATOM      1 H1   ACE A   1      -2.493  -3.853   0.224  0.00  0.00           H\nATOM      2 CH3  ACE A   1      -2.493  -2.763   0.224  0.00  0.00           C\nATOM      3 H2   ACE A   1      -3.007  -2.400   1.113  0.00  0.00           H\nATOM      4 H3   ACE A   1      -3.007  -2.400  -0.666  0.00  0.00           H\nATOM      5 C    ACE A   1      -1.065  -2.213   0.224  0.00  0.00           C\nATOM      6 O    ACE A   1      -0.102  -2.976   0.224  0.00  0.00           O\nATOM      7 N    ALA A   2      -0.938  -0.884   0.224  0.00  0.00           N\nATOM      8 H    ALA A   2      -1.760  -0.297   0.224  0.00  0.00           H\nATOM      9 CA   ALA A   2       0.360  -0.240   0.224  0.00  0.00           C\nATOM     10 HA   ALA A   2       0.915  -0.538   1.113  0.00  0.00           H\nATOM     11 CB   ALA A   2       1.168  -0.633  -1.008  0.00  0.00           C\nATOM     12 HB1  ALA A   2       0.630  -0.332  -1.908  0.00  0.00           H\nATOM     13 HB2  ALA A   2       2.138  -0.135  -0.982  0.00  0.00           H\nATOM     14 HB3  ALA A   2       1.316  -1.713  -1.018  0.00  0.00           H\nATOM     15 C    ALA A   2       0.220   1.276   0.224  0.00  0.00           C\nATOM     16 O    ALA A   2      -0.892   1.799   0.224  0.00  0.00           O\nATOM     17 N    NME A   3       1.353   1.981   0.224  0.00  0.00           N\nATOM     18 H    NME A   3       2.244   1.506   0.224  0.00  0.00           H\nATOM     19 C    NME A   3       1.353   3.430   0.224  0.00  0.00           C\nATOM     20 H1   NME A   3       0.326   3.794   0.224  0.00  0.00           H\nATOM     21 H2   NME A   3       1.867   3.794   1.113  0.00  0.00           H\nATOM     22 H3   NME A   3       1.867   3.794  -0.666  0.00  0.00           H\nATOM      1 H1   ACE A   1      17.171  -3.878   0.614  0.00  0.00           H\nATOM      2 CH3  ACE A   1      17.171  -2.788   0.614  0.00  0.00           C\nATOM      3 H2   ACE A   1      16.657  -2.424   1.504  0.00  0.00           H\nATOM      4 H3   ACE A   1      16.657  -2.424  -0.276  0.00  0.00           H\nATOM      5 C    ACE A   1      18.598  -2.237   0.614  0.00  0.00           C\nATOM      6 O    ACE A   1      19.561  -3.000   0.614  0.00  0.00           O\nATOM      7 N    VAL A   2      18.726  -0.908   0.614  0.00  0.00           N\nATOM      8 H    VAL A   2      17.904  -0.322   0.614  0.00  0.00           H\nATOM      9 CA   VAL A   2      20.024  -0.264   0.614  0.00  0.00           C\nATOM     10 HA   VAL A   2      20.578  -0.562   1.504  0.00  0.00           H\nATOM     11 CB   VAL A   2      20.832  -0.657  -0.618  0.00  0.00           C\nATOM     12 HB   VAL A   2      20.979  -1.737  -0.627  0.00  0.00           H\nATOM     13 CG1  VAL A   2      20.079  -0.236  -1.875  0.00  0.00           C\nATOM     14 HG11 VAL A   2      19.931   0.844  -1.867  0.00  0.00           H\nATOM     15 HG12 VAL A   2      20.656  -0.517  -2.757  0.00  0.00           H\nATOM     16 HG13 VAL A   2      19.109  -0.734  -1.903  0.00  0.00           H\nATOM     17 CG2  VAL A   2      22.188   0.040  -0.581  0.00  0.00           C\nATOM     18 HG21 VAL A   2      22.727  -0.260   0.318  0.00  0.00           H\nATOM     19 HG22 VAL A   2      22.766  -0.240  -1.461  0.00  0.00           H\nATOM     20 HG23 VAL A   2      22.041   1.120  -0.572  0.00  0.00           H\nATOM     21 C    VAL A   2      19.883   1.252   0.614  0.00  0.00           C\nATOM     22 O    VAL A   2      18.771   1.775   0.614  0.00  0.00           O\nATOM     23 N    NME A   3      21.017   1.957   0.614  0.00  0.00           N\nATOM     24 H    NME A   3      21.908   1.481   0.614  0.00  0.00           H\nATOM     25 C    NME A   3      21.017   3.406   0.614  0.00  0.00           C\nATOM     26 H1   NME A   3      19.989   3.770   0.614  0.00  0.00           H\nATOM     27 H2   NME A   3      21.530   3.770   1.504  0.00  0.00           H\nATOM     28 H3   NME A   3      21.530   3.770  -0.276  0.00  0.00           H\nEND\n",
           "type": "blob"
          }
         ],
         "kwargs": {
          "defaultRepresentation": true,
          "ext": "pdb",
          "name": "nglview.adaptor.MolSysMTTrajectory",
          "skipDigestion": true
         },
         "methodName": "loadFile",
         "reconstruc_color_scheme": false,
         "target": "Stage",
         "type": "call_method"
        },
        {
         "args": [],
         "component_index": 0,
         "kwargs": {},
         "methodName": "removeAllRepresentations",
         "reconstruc_color_scheme": false,
         "target": "compList",
         "type": "call_method"
        },
        {
         "args": [
          "cartoon"
         ],
         "component_index": 0,
         "kwargs": {
          "sele": "@"
         },
         "methodName": "addRepresentation",
         "reconstruc_color_scheme": false,
         "target": "compList",
         "type": "call_method"
        },
        {
         "args": [
          "cartoon"
         ],
         "component_index": 0,
         "kwargs": {
          "sele": "@"
         },
         "methodName": "addRepresentation",
         "reconstruc_color_scheme": false,
         "target": "compList",
         "type": "call_method"
        },
        {
         "args": [
          "licorice"
         ],
         "component_index": 0,
         "kwargs": {
          "radius": 0.4,
          "sele": "@"
         },
         "methodName": "addRepresentation",
         "reconstruc_color_scheme": false,
         "target": "compList",
         "type": "call_method"
        },
        {
         "args": [
          "licorice"
         ],
         "component_index": 0,
         "kwargs": {
          "radius": 0.4,
          "sele": "@0,1,2,3,4,5,6,7,8,9,10,11,12,13,14,15,16,17,18,19,20,21,22,23,24,25,26,27,28,29,30,31,32,33,34,35,36,37,38,39,40,41,42,43,44,45,46,47,48,49"
         },
         "methodName": "addRepresentation",
         "reconstruc_color_scheme": false,
         "target": "compList",
         "type": "call_method"
        },
        {
         "args": [
          "ball+stick"
         ],
         "component_index": 0,
         "kwargs": {
          "sele": "@"
         },
         "methodName": "addRepresentation",
         "reconstruc_color_scheme": false,
         "target": "compList",
         "type": "call_method"
        }
       ],
       "_ngl_original_stage_parameters": {},
       "_ngl_repr_dict": {},
       "_ngl_serialize": false,
       "_ngl_version": "",
       "_ngl_view_id": [],
       "_player_dict": {},
       "_scene_position": {},
       "_scene_rotation": {},
       "_synced_model_ids": [],
       "_synced_repr_model_ids": [],
       "_view_count": null,
       "_view_height": "",
       "_view_module": "nglview-js-widgets",
       "_view_module_version": "3.1.4",
       "_view_name": "NGLView",
       "_view_width": "",
       "background": "white",
       "frame": 0,
       "gui_style": null,
       "layout": "IPY_MODEL_96b9372befc642dca1c406cb54945ef6",
       "max_frame": 0,
       "n_components": 0,
       "picked": {},
       "tabbable": null,
       "tooltip": null
      }
     },
     "d6333768c625437eb8fb30ddeb0fc3fc": {
      "model_module": "@jupyter-widgets/controls",
      "model_module_version": "2.0.0",
      "model_name": "LinkModel",
      "state": {
       "_model_module": "@jupyter-widgets/controls",
       "_model_module_version": "2.0.0",
       "_model_name": "LinkModel",
       "_view_count": null,
       "_view_module": "@jupyter-widgets/controls",
       "_view_module_version": "2.0.0",
       "_view_name": null,
       "source": [
        "IPY_MODEL_338969947bb34e009d149a71fcfb8a83",
        "value"
       ],
       "target": [
        "IPY_MODEL_d584e451de9b43269ac5e64b2a9ced13",
        "frame"
       ]
      }
     },
     "d94ae2247b7e4a9f93d028ae3d513d4f": {
      "model_module": "@jupyter-widgets/controls",
      "model_module_version": "2.0.0",
      "model_name": "IntSliderModel",
      "state": {
       "_dom_classes": [],
       "_model_module": "@jupyter-widgets/controls",
       "_model_module_version": "2.0.0",
       "_model_name": "IntSliderModel",
       "_view_count": null,
       "_view_module": "@jupyter-widgets/controls",
       "_view_module_version": "2.0.0",
       "_view_name": "IntSliderView",
       "behavior": "drag-tap",
       "continuous_update": true,
       "description": "",
       "description_allow_html": false,
       "disabled": false,
       "layout": "IPY_MODEL_a07f315c82894102b3b80f08cc00559e",
       "max": 0,
       "min": 0,
       "orientation": "horizontal",
       "readout": true,
       "readout_format": "d",
       "step": 1,
       "style": "IPY_MODEL_a0e26953478649d99f329eda47a7826d",
       "tabbable": null,
       "tooltip": null,
       "value": 0
      }
     },
     "e35f608e110f42d8916580f17a3060a3": {
      "model_module": "@jupyter-widgets/controls",
      "model_module_version": "2.0.0",
      "model_name": "LinkModel",
      "state": {
       "_model_module": "@jupyter-widgets/controls",
       "_model_module_version": "2.0.0",
       "_model_name": "LinkModel",
       "_view_count": null,
       "_view_module": "@jupyter-widgets/controls",
       "_view_module_version": "2.0.0",
       "_view_name": null,
       "source": [
        "IPY_MODEL_caf38f21f1ed48f1a370b210307d0490",
        "value"
       ],
       "target": [
        "IPY_MODEL_ea6295c224d8472aae0c1f5bccab5f88",
        "frame"
       ]
      }
     },
     "ea6295c224d8472aae0c1f5bccab5f88": {
      "model_module": "nglview-js-widgets",
      "model_module_version": "3.1.4",
      "model_name": "NGLModel",
      "state": {
       "_camera_orientation": [],
       "_camera_str": "orthographic",
       "_dom_classes": [],
       "_gui_theme": null,
       "_ibtn_fullscreen": "IPY_MODEL_9fda91b097b6409b93956b20868f01fb",
       "_igui": null,
       "_iplayer": "IPY_MODEL_a2cd59ca09dc4ad68f182b23300d2742",
       "_model_module": "nglview-js-widgets",
       "_model_module_version": "3.1.4",
       "_model_name": "NGLModel",
       "_ngl_color_dict": {},
       "_ngl_coordinate_resource": {},
       "_ngl_full_stage_parameters": {},
       "_ngl_msg_archive": [
        {
         "args": [
          {
           "binary": false,
           "data": "HEADER    MOLECULAR SYSTEM                        11-MAR-25       \nREMARK   1 Created by MolSysMT version 1.0 on 11-MAR-2025 at 15:04:53\nATOM      1 H1   ACE A   1      -2.493  -3.853   0.224  0.00  0.00           H\nATOM      2 CH3  ACE A   1      -2.493  -2.763   0.224  0.00  0.00           C\nATOM      3 H2   ACE A   1      -3.007  -2.400   1.113  0.00  0.00           H\nATOM      4 H3   ACE A   1      -3.007  -2.400  -0.666  0.00  0.00           H\nATOM      5 C    ACE A   1      -1.065  -2.213   0.224  0.00  0.00           C\nATOM      6 O    ACE A   1      -0.102  -2.976   0.224  0.00  0.00           O\nATOM      7 N    ALA A   2      -0.938  -0.884   0.224  0.00  0.00           N\nATOM      8 H    ALA A   2      -1.760  -0.297   0.224  0.00  0.00           H\nATOM      9 CA   ALA A   2       0.360  -0.240   0.224  0.00  0.00           C\nATOM     10 HA   ALA A   2       0.915  -0.538   1.113  0.00  0.00           H\nATOM     11 CB   ALA A   2       1.168  -0.633  -1.008  0.00  0.00           C\nATOM     12 HB1  ALA A   2       0.630  -0.332  -1.908  0.00  0.00           H\nATOM     13 HB2  ALA A   2       2.138  -0.135  -0.982  0.00  0.00           H\nATOM     14 HB3  ALA A   2       1.316  -1.713  -1.018  0.00  0.00           H\nATOM     15 C    ALA A   2       0.220   1.276   0.224  0.00  0.00           C\nATOM     16 O    ALA A   2      -0.892   1.799   0.224  0.00  0.00           O\nATOM     17 N    NME A   3       1.353   1.981   0.224  0.00  0.00           N\nATOM     18 H    NME A   3       2.244   1.506   0.224  0.00  0.00           H\nATOM     19 C    NME A   3       1.353   3.430   0.224  0.00  0.00           C\nATOM     20 H1   NME A   3       0.326   3.794   0.224  0.00  0.00           H\nATOM     21 H2   NME A   3       1.867   3.794   1.113  0.00  0.00           H\nATOM     22 H3   NME A   3       1.867   3.794  -0.666  0.00  0.00           H\nATOM      1 H1   ACE A   1       7.171  -3.878   0.614  0.00  0.00           H\nATOM      2 CH3  ACE A   1       7.171  -2.788   0.614  0.00  0.00           C\nATOM      3 H2   ACE A   1       6.657  -2.424   1.504  0.00  0.00           H\nATOM      4 H3   ACE A   1       6.657  -2.424  -0.276  0.00  0.00           H\nATOM      5 C    ACE A   1       8.598  -2.237   0.614  0.00  0.00           C\nATOM      6 O    ACE A   1       9.561  -3.000   0.614  0.00  0.00           O\nATOM      7 N    VAL A   2       8.726  -0.908   0.614  0.00  0.00           N\nATOM      8 H    VAL A   2       7.904  -0.322   0.614  0.00  0.00           H\nATOM      9 CA   VAL A   2      10.024  -0.264   0.614  0.00  0.00           C\nATOM     10 HA   VAL A   2      10.578  -0.562   1.504  0.00  0.00           H\nATOM     11 CB   VAL A   2      10.832  -0.657  -0.618  0.00  0.00           C\nATOM     12 HB   VAL A   2      10.979  -1.737  -0.627  0.00  0.00           H\nATOM     13 CG1  VAL A   2      10.079  -0.236  -1.875  0.00  0.00           C\nATOM     14 HG11 VAL A   2       9.931   0.844  -1.867  0.00  0.00           H\nATOM     15 HG12 VAL A   2      10.656  -0.517  -2.757  0.00  0.00           H\nATOM     16 HG13 VAL A   2       9.109  -0.734  -1.903  0.00  0.00           H\nATOM     17 CG2  VAL A   2      12.188   0.040  -0.581  0.00  0.00           C\nATOM     18 HG21 VAL A   2      12.727  -0.260   0.318  0.00  0.00           H\nATOM     19 HG22 VAL A   2      12.766  -0.240  -1.461  0.00  0.00           H\nATOM     20 HG23 VAL A   2      12.041   1.120  -0.572  0.00  0.00           H\nATOM     21 C    VAL A   2       9.883   1.252   0.614  0.00  0.00           C\nATOM     22 O    VAL A   2       8.771   1.775   0.614  0.00  0.00           O\nATOM     23 N    NME A   3      11.017   1.957   0.614  0.00  0.00           N\nATOM     24 H    NME A   3      11.908   1.481   0.614  0.00  0.00           H\nATOM     25 C    NME A   3      11.017   3.406   0.614  0.00  0.00           C\nATOM     26 H1   NME A   3       9.989   3.770   0.614  0.00  0.00           H\nATOM     27 H2   NME A   3      11.530   3.770   1.504  0.00  0.00           H\nATOM     28 H3   NME A   3      11.530   3.770  -0.276  0.00  0.00           H\nEND\n",
           "type": "blob"
          }
         ],
         "kwargs": {
          "defaultRepresentation": true,
          "ext": "pdb",
          "name": "nglview.adaptor.MolSysMTTrajectory",
          "skipDigestion": true
         },
         "methodName": "loadFile",
         "reconstruc_color_scheme": false,
         "target": "Stage",
         "type": "call_method"
        },
        {
         "args": [],
         "component_index": 0,
         "kwargs": {},
         "methodName": "removeAllRepresentations",
         "reconstruc_color_scheme": false,
         "target": "compList",
         "type": "call_method"
        },
        {
         "args": [
          "cartoon"
         ],
         "component_index": 0,
         "kwargs": {
          "sele": "@"
         },
         "methodName": "addRepresentation",
         "reconstruc_color_scheme": false,
         "target": "compList",
         "type": "call_method"
        },
        {
         "args": [
          "cartoon"
         ],
         "component_index": 0,
         "kwargs": {
          "sele": "@"
         },
         "methodName": "addRepresentation",
         "reconstruc_color_scheme": false,
         "target": "compList",
         "type": "call_method"
        },
        {
         "args": [
          "licorice"
         ],
         "component_index": 0,
         "kwargs": {
          "radius": 0.4,
          "sele": "@"
         },
         "methodName": "addRepresentation",
         "reconstruc_color_scheme": false,
         "target": "compList",
         "type": "call_method"
        },
        {
         "args": [
          "licorice"
         ],
         "component_index": 0,
         "kwargs": {
          "radius": 0.4,
          "sele": "@0,1,2,3,4,5,6,7,8,9,10,11,12,13,14,15,16,17,18,19,20,21,22,23,24,25,26,27,28,29,30,31,32,33,34,35,36,37,38,39,40,41,42,43,44,45,46,47,48,49"
         },
         "methodName": "addRepresentation",
         "reconstruc_color_scheme": false,
         "target": "compList",
         "type": "call_method"
        },
        {
         "args": [
          "ball+stick"
         ],
         "component_index": 0,
         "kwargs": {
          "sele": "@"
         },
         "methodName": "addRepresentation",
         "reconstruc_color_scheme": false,
         "target": "compList",
         "type": "call_method"
        }
       ],
       "_ngl_original_stage_parameters": {},
       "_ngl_repr_dict": {},
       "_ngl_serialize": false,
       "_ngl_version": "",
       "_ngl_view_id": [],
       "_player_dict": {},
       "_scene_position": {},
       "_scene_rotation": {},
       "_synced_model_ids": [],
       "_synced_repr_model_ids": [],
       "_view_count": null,
       "_view_height": "",
       "_view_module": "nglview-js-widgets",
       "_view_module_version": "3.1.4",
       "_view_name": "NGLView",
       "_view_width": "",
       "background": "white",
       "frame": 0,
       "gui_style": null,
       "layout": "IPY_MODEL_24ccc988b5914c73b24a1d297da93bc8",
       "max_frame": 0,
       "n_components": 0,
       "picked": {},
       "tabbable": null,
       "tooltip": null
      }
     },
     "fc4a966a718f441cbdf35eb5527bdebd": {
      "model_module": "@jupyter-widgets/base",
      "model_module_version": "2.0.0",
      "model_name": "LayoutModel",
      "state": {
       "_model_module": "@jupyter-widgets/base",
       "_model_module_version": "2.0.0",
       "_model_name": "LayoutModel",
       "_view_count": null,
       "_view_module": "@jupyter-widgets/base",
       "_view_module_version": "2.0.0",
       "_view_name": "LayoutView",
       "align_content": null,
       "align_items": null,
       "align_self": null,
       "border_bottom": null,
       "border_left": null,
       "border_right": null,
       "border_top": null,
       "bottom": null,
       "display": null,
       "flex": null,
       "flex_flow": null,
       "grid_area": null,
       "grid_auto_columns": null,
       "grid_auto_flow": null,
       "grid_auto_rows": null,
       "grid_column": null,
       "grid_gap": null,
       "grid_row": null,
       "grid_template_areas": null,
       "grid_template_columns": null,
       "grid_template_rows": null,
       "height": null,
       "justify_content": null,
       "justify_items": null,
       "left": null,
       "margin": null,
       "max_height": null,
       "max_width": null,
       "min_height": null,
       "min_width": null,
       "object_fit": null,
       "object_position": null,
       "order": null,
       "overflow": null,
       "padding": null,
       "right": null,
       "top": null,
       "visibility": null,
       "width": "34px"
      }
     }
    },
    "version_major": 2,
    "version_minor": 0
   }
  }
 },
 "nbformat": 4,
 "nbformat_minor": 4
}
