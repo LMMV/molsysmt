{
 "cells": [
  {
   "cell_type": "code",
   "execution_count": 1,
   "metadata": {
    "execution": {
     "iopub.execute_input": "2025-03-11T21:04:06.891630Z",
     "iopub.status.busy": "2025-03-11T21:04:06.891205Z",
     "iopub.status.idle": "2025-03-11T21:04:06.931944Z",
     "shell.execute_reply": "2025-03-11T21:04:06.930897Z"
    }
   },
   "outputs": [],
   "source": [
    "%load_ext autoreload\n",
    "%autoreload 2"
   ]
  },
  {
   "cell_type": "code",
   "execution_count": 2,
   "metadata": {
    "execution": {
     "iopub.execute_input": "2025-03-11T21:04:06.936018Z",
     "iopub.status.busy": "2025-03-11T21:04:06.935398Z",
     "iopub.status.idle": "2025-03-11T21:04:16.022838Z",
     "shell.execute_reply": "2025-03-11T21:04:16.021808Z"
    }
   },
   "outputs": [
    {
     "data": {
      "application/vnd.jupyter.widget-view+json": {
       "model_id": "ad525031b6ed4bba88bcdf93c34d18ba",
       "version_major": 2,
       "version_minor": 0
      },
      "text/plain": []
     },
     "metadata": {},
     "output_type": "display_data"
    }
   ],
   "source": [
    "import molsysmt as msm"
   ]
  },
  {
   "cell_type": "markdown",
   "metadata": {},
   "source": [
    "## Shift dihedral angles\n",
    "\n",
    "The geometry of a peptide or protein can be changed setting new values to a given dihedral angle (or a set of them). Lets see in the following lines how this can be done with the help of the method `molsysmt.set_dihedral_angles`. First of all a demo molecular system is loaded to play with it:"
   ]
  },
  {
   "cell_type": "code",
   "execution_count": 3,
   "metadata": {
    "execution": {
     "iopub.execute_input": "2025-03-11T21:04:16.029063Z",
     "iopub.status.busy": "2025-03-11T21:04:16.027029Z",
     "iopub.status.idle": "2025-03-11T21:04:16.868060Z",
     "shell.execute_reply": "2025-03-11T21:04:16.867139Z"
    }
   },
   "outputs": [],
   "source": [
    "molecular_system = msm.systems['Met-enkephalin']['met_enkephalin.h5msm']\n",
    "molecular_system = msm.convert(molecular_system, to_form='molsysmt.MolSys')"
   ]
  },
  {
   "cell_type": "code",
   "execution_count": 4,
   "metadata": {
    "execution": {
     "iopub.execute_input": "2025-03-11T21:04:16.871872Z",
     "iopub.status.busy": "2025-03-11T21:04:16.871054Z",
     "iopub.status.idle": "2025-03-11T21:04:20.318795Z",
     "shell.execute_reply": "2025-03-11T21:04:20.317784Z"
    }
   },
   "outputs": [
    {
     "data": {
      "text/html": [
       "<style type=\"text/css\">\n",
       "</style>\n",
       "<table id=\"T_bbe70\">\n",
       "  <thead>\n",
       "    <tr>\n",
       "      <th id=\"T_bbe70_level0_col0\" class=\"col_heading level0 col0\" >form</th>\n",
       "      <th id=\"T_bbe70_level0_col1\" class=\"col_heading level0 col1\" >n_atoms</th>\n",
       "      <th id=\"T_bbe70_level0_col2\" class=\"col_heading level0 col2\" >n_groups</th>\n",
       "      <th id=\"T_bbe70_level0_col3\" class=\"col_heading level0 col3\" >n_components</th>\n",
       "      <th id=\"T_bbe70_level0_col4\" class=\"col_heading level0 col4\" >n_chains</th>\n",
       "      <th id=\"T_bbe70_level0_col5\" class=\"col_heading level0 col5\" >n_molecules</th>\n",
       "      <th id=\"T_bbe70_level0_col6\" class=\"col_heading level0 col6\" >n_entities</th>\n",
       "      <th id=\"T_bbe70_level0_col7\" class=\"col_heading level0 col7\" >n_peptides</th>\n",
       "      <th id=\"T_bbe70_level0_col8\" class=\"col_heading level0 col8\" >n_structures</th>\n",
       "    </tr>\n",
       "  </thead>\n",
       "  <tbody>\n",
       "    <tr>\n",
       "      <td id=\"T_bbe70_row0_col0\" class=\"data row0 col0\" >molsysmt.MolSys</td>\n",
       "      <td id=\"T_bbe70_row0_col1\" class=\"data row0 col1\" >72</td>\n",
       "      <td id=\"T_bbe70_row0_col2\" class=\"data row0 col2\" >5</td>\n",
       "      <td id=\"T_bbe70_row0_col3\" class=\"data row0 col3\" >1</td>\n",
       "      <td id=\"T_bbe70_row0_col4\" class=\"data row0 col4\" >1</td>\n",
       "      <td id=\"T_bbe70_row0_col5\" class=\"data row0 col5\" >1</td>\n",
       "      <td id=\"T_bbe70_row0_col6\" class=\"data row0 col6\" >1</td>\n",
       "      <td id=\"T_bbe70_row0_col7\" class=\"data row0 col7\" >1</td>\n",
       "      <td id=\"T_bbe70_row0_col8\" class=\"data row0 col8\" >1</td>\n",
       "    </tr>\n",
       "  </tbody>\n",
       "</table>\n"
      ],
      "text/plain": [
       "<pandas.io.formats.style.Styler at 0x7f8e47c15370>"
      ]
     },
     "execution_count": 4,
     "metadata": {},
     "output_type": "execute_result"
    }
   ],
   "source": [
    "msm.info(molecular_system)"
   ]
  },
  {
   "cell_type": "markdown",
   "metadata": {},
   "source": [
    "Lets get, before changing its value, the second $\\phi$ angle in the current conformation of the system:"
   ]
  },
  {
   "cell_type": "code",
   "execution_count": 5,
   "metadata": {
    "execution": {
     "iopub.execute_input": "2025-03-11T21:04:20.322673Z",
     "iopub.status.busy": "2025-03-11T21:04:20.322037Z",
     "iopub.status.idle": "2025-03-11T21:04:22.175495Z",
     "shell.execute_reply": "2025-03-11T21:04:22.174371Z"
    }
   },
   "outputs": [],
   "source": [
    "phi_chains = msm.topology.get_dihedral_quartets(molecular_system, phi=True)"
   ]
  },
  {
   "cell_type": "code",
   "execution_count": 6,
   "metadata": {
    "execution": {
     "iopub.execute_input": "2025-03-11T21:04:22.180402Z",
     "iopub.status.busy": "2025-03-11T21:04:22.179419Z",
     "iopub.status.idle": "2025-03-11T21:04:22.252013Z",
     "shell.execute_reply": "2025-03-11T21:04:22.251075Z"
    }
   },
   "outputs": [
    {
     "name": "stdout",
     "output_type": "stream",
     "text": [
      "[33 35 37 53]\n"
     ]
    }
   ],
   "source": [
    "print(phi_chains[2])"
   ]
  },
  {
   "cell_type": "code",
   "execution_count": 7,
   "metadata": {
    "execution": {
     "iopub.execute_input": "2025-03-11T21:04:22.255858Z",
     "iopub.status.busy": "2025-03-11T21:04:22.255047Z",
     "iopub.status.idle": "2025-03-11T21:04:22.884078Z",
     "shell.execute_reply": "2025-03-11T21:04:22.883192Z"
    }
   },
   "outputs": [
    {
     "data": {
      "text/html": [
       "<table><tbody><tr><th>Magnitude</th><td style='text-align:left;'><pre>[[-179.99976916196186]]</pre></td></tr><tr><th>Units</th><td style='text-align:left;'>degree</td></tr></tbody></table>"
      ],
      "text/latex": [
       "$\\begin{pmatrix}\\end{pmatrix}\\ \\mathrm{degree}$"
      ],
      "text/plain": [
       "<Quantity([[-179.99976916]], 'degree')>"
      ]
     },
     "execution_count": 7,
     "metadata": {},
     "output_type": "execute_result"
    }
   ],
   "source": [
    "msm.structure.get_dihedral_angles(molecular_system, quartets=phi_chains[2])"
   ]
  },
  {
   "cell_type": "code",
   "execution_count": 8,
   "metadata": {
    "execution": {
     "iopub.execute_input": "2025-03-11T21:04:22.887583Z",
     "iopub.status.busy": "2025-03-11T21:04:22.887098Z",
     "iopub.status.idle": "2025-03-11T21:04:26.811634Z",
     "shell.execute_reply": "2025-03-11T21:04:26.810650Z"
    }
   },
   "outputs": [
    {
     "data": {
      "application/vnd.jupyter.widget-view+json": {
       "model_id": "308349a1faea460b93fd3b85cf0ccd8c",
       "version_major": 2,
       "version_minor": 0
      },
      "text/plain": [
       "NGLWidget()"
      ]
     },
     "metadata": {},
     "output_type": "display_data"
    }
   ],
   "source": [
    "view = msm.view(molecular_system, viewer='NGLView')\n",
    "view.clear()\n",
    "selection_quartet = msm.select(molecular_system, selection=phi_chains[2], to_syntax='NGLView')\n",
    "view.add_ball_and_stick('all', color='white')\n",
    "view.add_ball_and_stick(selection_quartet, color='orange')\n",
    "view"
   ]
  },
  {
   "cell_type": "markdown",
   "metadata": {},
   "source": [
    "Now we can rotate this angle in order to have the desired value:"
   ]
  },
  {
   "cell_type": "code",
   "execution_count": 9,
   "metadata": {
    "execution": {
     "iopub.execute_input": "2025-03-11T21:04:26.815649Z",
     "iopub.status.busy": "2025-03-11T21:04:26.815224Z",
     "iopub.status.idle": "2025-03-11T21:04:29.737248Z",
     "shell.execute_reply": "2025-03-11T21:04:29.736297Z"
    }
   },
   "outputs": [],
   "source": [
    "molecular_system = msm.structure.shift_dihedral_angles(molecular_system, quartets=phi_chains[2],\n",
    "                                                       angles_shifts='45.0 degrees', pbc=False)"
   ]
  },
  {
   "cell_type": "code",
   "execution_count": 10,
   "metadata": {
    "execution": {
     "iopub.execute_input": "2025-03-11T21:04:29.740654Z",
     "iopub.status.busy": "2025-03-11T21:04:29.739965Z",
     "iopub.status.idle": "2025-03-11T21:04:30.376924Z",
     "shell.execute_reply": "2025-03-11T21:04:30.376000Z"
    }
   },
   "outputs": [
    {
     "data": {
      "text/html": [
       "<table><tbody><tr><th>Magnitude</th><td style='text-align:left;'><pre>[[-134.99976915735974]]</pre></td></tr><tr><th>Units</th><td style='text-align:left;'>degree</td></tr></tbody></table>"
      ],
      "text/latex": [
       "$\\begin{pmatrix}\\end{pmatrix}\\ \\mathrm{degree}$"
      ],
      "text/plain": [
       "<Quantity([[-134.99976916]], 'degree')>"
      ]
     },
     "execution_count": 10,
     "metadata": {},
     "output_type": "execute_result"
    }
   ],
   "source": [
    "msm.structure.get_dihedral_angles(molecular_system, quartets=phi_chains[2])"
   ]
  },
  {
   "cell_type": "code",
   "execution_count": 11,
   "metadata": {
    "execution": {
     "iopub.execute_input": "2025-03-11T21:04:30.380104Z",
     "iopub.status.busy": "2025-03-11T21:04:30.379702Z",
     "iopub.status.idle": "2025-03-11T21:04:34.161104Z",
     "shell.execute_reply": "2025-03-11T21:04:34.160154Z"
    }
   },
   "outputs": [
    {
     "data": {
      "application/vnd.jupyter.widget-view+json": {
       "model_id": "e0233fa464ee437a9b83092655f124bf",
       "version_major": 2,
       "version_minor": 0
      },
      "text/plain": [
       "NGLWidget()"
      ]
     },
     "metadata": {},
     "output_type": "display_data"
    }
   ],
   "source": [
    "view = msm.view(molecular_system, viewer='NGLView')\n",
    "view.clear()\n",
    "selection_quartet = msm.select(molecular_system, selection=phi_chains[2], to_syntax='NGLView')\n",
    "view.add_ball_and_stick('all', color='white')\n",
    "view.add_ball_and_stick(selection_quartet, color='orange')\n",
    "view"
   ]
  },
  {
   "cell_type": "code",
   "execution_count": null,
   "metadata": {},
   "outputs": [],
   "source": []
  }
 ],
 "metadata": {
  "kernelspec": {
   "display_name": "Python 3 (ipykernel)",
   "language": "python",
   "name": "python3"
  },
  "language_info": {
   "codemirror_mode": {
    "name": "ipython",
    "version": 3
   },
   "file_extension": ".py",
   "mimetype": "text/x-python",
   "name": "python",
   "nbconvert_exporter": "python",
   "pygments_lexer": "ipython3",
   "version": "3.12.8"
  },
  "widgets": {
   "application/vnd.jupyter.widget-state+json": {
    "state": {
     "08397b6fce434a88ad56deb3754d9abf": {
      "model_module": "@jupyter-widgets/controls",
      "model_module_version": "2.0.0",
      "model_name": "ButtonModel",
      "state": {
       "_dom_classes": [],
       "_model_module": "@jupyter-widgets/controls",
       "_model_module_version": "2.0.0",
       "_model_name": "ButtonModel",
       "_view_count": null,
       "_view_module": "@jupyter-widgets/controls",
       "_view_module_version": "2.0.0",
       "_view_name": "ButtonView",
       "button_style": "",
       "description": "",
       "disabled": false,
       "icon": "compress",
       "layout": "IPY_MODEL_97af0d64bad5419db7a4aecde57887c0",
       "style": "IPY_MODEL_d3355c797bef4d258728a8e350bdfc3b",
       "tabbable": null,
       "tooltip": null
      }
     },
     "09e0f54cdf6c4c6f9d00fd68c09a6b0d": {
      "model_module": "@jupyter-widgets/base",
      "model_module_version": "2.0.0",
      "model_name": "LayoutModel",
      "state": {
       "_model_module": "@jupyter-widgets/base",
       "_model_module_version": "2.0.0",
       "_model_name": "LayoutModel",
       "_view_count": null,
       "_view_module": "@jupyter-widgets/base",
       "_view_module_version": "2.0.0",
       "_view_name": "LayoutView",
       "align_content": null,
       "align_items": null,
       "align_self": null,
       "border_bottom": null,
       "border_left": null,
       "border_right": null,
       "border_top": null,
       "bottom": null,
       "display": null,
       "flex": null,
       "flex_flow": null,
       "grid_area": null,
       "grid_auto_columns": null,
       "grid_auto_flow": null,
       "grid_auto_rows": null,
       "grid_column": null,
       "grid_gap": null,
       "grid_row": null,
       "grid_template_areas": null,
       "grid_template_columns": null,
       "grid_template_rows": null,
       "height": null,
       "justify_content": null,
       "justify_items": null,
       "left": null,
       "margin": null,
       "max_height": null,
       "max_width": null,
       "min_height": null,
       "min_width": null,
       "object_fit": null,
       "object_position": null,
       "order": null,
       "overflow": null,
       "padding": null,
       "right": null,
       "top": null,
       "visibility": null,
       "width": null
      }
     },
     "0ebae8c625154726b0a9be9bdf890064": {
      "model_module": "@jupyter-widgets/controls",
      "model_module_version": "2.0.0",
      "model_name": "LinkModel",
      "state": {
       "_model_module": "@jupyter-widgets/controls",
       "_model_module_version": "2.0.0",
       "_model_name": "LinkModel",
       "_view_count": null,
       "_view_module": "@jupyter-widgets/controls",
       "_view_module_version": "2.0.0",
       "_view_name": null,
       "source": [
        "IPY_MODEL_c00decf14f9344e399c84dd45d5d38d6",
        "value"
       ],
       "target": [
        "IPY_MODEL_67e06604fe6845dd810fca7e29f30692",
        "value"
       ]
      }
     },
     "1961fd0f242d463fbd3f04ab891366ab": {
      "model_module": "@jupyter-widgets/base",
      "model_module_version": "2.0.0",
      "model_name": "LayoutModel",
      "state": {
       "_model_module": "@jupyter-widgets/base",
       "_model_module_version": "2.0.0",
       "_model_name": "LayoutModel",
       "_view_count": null,
       "_view_module": "@jupyter-widgets/base",
       "_view_module_version": "2.0.0",
       "_view_name": "LayoutView",
       "align_content": null,
       "align_items": null,
       "align_self": null,
       "border_bottom": null,
       "border_left": null,
       "border_right": null,
       "border_top": null,
       "bottom": null,
       "display": null,
       "flex": null,
       "flex_flow": null,
       "grid_area": null,
       "grid_auto_columns": null,
       "grid_auto_flow": null,
       "grid_auto_rows": null,
       "grid_column": null,
       "grid_gap": null,
       "grid_row": null,
       "grid_template_areas": null,
       "grid_template_columns": null,
       "grid_template_rows": null,
       "height": null,
       "justify_content": null,
       "justify_items": null,
       "left": null,
       "margin": null,
       "max_height": null,
       "max_width": null,
       "min_height": null,
       "min_width": null,
       "object_fit": null,
       "object_position": null,
       "order": null,
       "overflow": null,
       "padding": null,
       "right": null,
       "top": null,
       "visibility": null,
       "width": null
      }
     },
     "1efdb4f61d7f4540b8b0451e9e25116c": {
      "model_module": "@jupyter-widgets/controls",
      "model_module_version": "2.0.0",
      "model_name": "LinkModel",
      "state": {
       "_model_module": "@jupyter-widgets/controls",
       "_model_module_version": "2.0.0",
       "_model_name": "LinkModel",
       "_view_count": null,
       "_view_module": "@jupyter-widgets/controls",
       "_view_module_version": "2.0.0",
       "_view_name": null,
       "source": [
        "IPY_MODEL_735c7da5c6bb49b9bbbc0e664f175de4",
        "max"
       ],
       "target": [
        "IPY_MODEL_308349a1faea460b93fd3b85cf0ccd8c",
        "max_frame"
       ]
      }
     },
     "308349a1faea460b93fd3b85cf0ccd8c": {
      "model_module": "nglview-js-widgets",
      "model_module_version": "3.1.4",
      "model_name": "NGLModel",
      "state": {
       "_camera_orientation": [],
       "_camera_str": "orthographic",
       "_dom_classes": [],
       "_gui_theme": null,
       "_ibtn_fullscreen": "IPY_MODEL_08397b6fce434a88ad56deb3754d9abf",
       "_igui": null,
       "_iplayer": "IPY_MODEL_f98c5ffb2d5045b4af501c02713db7b6",
       "_model_module": "nglview-js-widgets",
       "_model_module_version": "3.1.4",
       "_model_name": "NGLModel",
       "_ngl_color_dict": {},
       "_ngl_coordinate_resource": {},
       "_ngl_full_stage_parameters": {},
       "_ngl_msg_archive": [
        {
         "args": [
          {
           "binary": false,
           "data": "HEADER    MOLECULAR SYSTEM                        11-MAR-25       \nREMARK   1 Created by MolSysMT version 1.0 on 11-MAR-2025 at 15:04:23\nATOM      1 N    TYR A   1       3.326   1.548  -0.000  0.00  0.00           N\nATOM      2 H    TYR A   1       3.909   0.724  -0.000  0.00  0.00           H\nATOM      3 CA   TYR A   1       3.970   2.846  -0.000  0.00  0.00           C\nATOM      4 HA   TYR A   1       3.672   3.400  -0.890  0.00  0.00           H\nATOM      5 CB   TYR A   1       3.577   3.654   1.232  0.00  0.00           C\nATOM      6 HB2  TYR A   1       2.497   3.801   1.241  0.00  0.00           H\nATOM      7 HB3  TYR A   1       3.877   3.116   2.131  0.00  0.00           H\nATOM      8 CG   TYR A   1       4.267   4.996   1.195  0.00  0.00           C\nATOM      9 CD1  TYR A   1       4.060   5.919   2.227  0.00  0.00           C\nATOM     10 HD1  TYR A   1       3.400   5.668   3.058  0.00  0.00           H\nATOM     11 CE1  TYR A   1       4.700   7.164   2.193  0.00  0.00           C\nATOM     12 HE1  TYR A   1       4.539   7.882   2.997  0.00  0.00           H\nATOM     13 CZ   TYR A   1       5.547   7.486   1.126  0.00  0.00           C\nATOM     14 OH   TYR A   1       6.169   8.695   1.092  0.00  0.00           O\nATOM     15 HH   TYR A   1       5.956   9.247   1.848  0.00  0.00           H\nATOM     16 CE2  TYR A   1       5.755   6.563   0.094  0.00  0.00           C\nATOM     17 HE2  TYR A   1       6.415   6.814  -0.737  0.00  0.00           H\nATOM     18 CD2  TYR A   1       5.115   5.318   0.128  0.00  0.00           C\nATOM     19 HD2  TYR A   1       5.276   4.600  -0.676  0.00  0.00           H\nATOM     20 C    TYR A   1       5.486   2.705  -0.000  0.00  0.00           C\nATOM     21 O    TYR A   1       6.009   1.593  -0.000  0.00  0.00           O\nATOM     22 N    GLY A   2       6.191   3.839  -0.000  0.00  0.00           N\nATOM     23 H    GLY A   2       5.715   4.730  -0.000  0.00  0.00           H\nATOM     24 CA   GLY A   2       7.640   3.839  -0.000  0.00  0.00           C\nATOM     25 HA2  GLY A   2       8.004   3.325   0.890  0.00  0.00           H\nATOM     26 HA3  GLY A   2       8.004   3.325  -0.890  0.00  0.00           H\nATOM     27 C    GLY A   2       8.171   5.265  -0.000  0.00  0.00           C\nATOM     28 O    GLY A   2       7.395   6.219   0.000  0.00  0.00           O\nATOM     29 N    GLY A   3       9.498   5.409  -0.000  0.00  0.00           N\nATOM     30 H    GLY A   3      10.094   4.594  -0.000  0.00  0.00           H\nATOM     31 CA   GLY A   3      10.126   6.715   0.000  0.00  0.00           C\nATOM     32 HA2  GLY A   3       9.821   7.266  -0.890  0.00  0.00           H\nATOM     33 HA3  GLY A   3       9.821   7.266   0.890  0.00  0.00           H\nATOM     34 C    GLY A   3      11.642   6.574  -0.000  0.00  0.00           C\nATOM     35 O    GLY A   3      12.165   5.462  -0.000  0.00  0.00           O\nATOM     36 N    PHE A   4      12.347   7.708  -0.000  0.00  0.00           N\nATOM     37 H    PHE A   4      11.871   8.599   0.000  0.00  0.00           H\nATOM     38 CA   PHE A   4      13.796   7.708  -0.000  0.00  0.00           C\nATOM     39 HA   PHE A   4      14.160   7.194   0.890  0.00  0.00           H\nATOM     40 CB   PHE A   4      14.345   6.996  -1.232  0.00  0.00           C\nATOM     41 HB2  PHE A   4      13.997   5.964  -1.241  0.00  0.00           H\nATOM     42 HB3  PHE A   4      13.997   7.505  -2.131  0.00  0.00           H\nATOM     43 CG   PHE A   4      15.852   6.945  -1.321  0.00  0.00           C\nATOM     44 CD1  PHE A   4      16.467   6.316  -2.410  0.00  0.00           C\nATOM     45 HD1  PHE A   4      15.860   5.864  -3.193  0.00  0.00           H\nATOM     46 CE1  PHE A   4      17.864   6.269  -2.492  0.00  0.00           C\nATOM     47 HE1  PHE A   4      18.344   5.779  -3.340  0.00  0.00           H\nATOM     48 CZ   PHE A   4      18.645   6.850  -1.486  0.00  0.00           C\nATOM     49 HZ   PHE A   4      19.733   6.813  -1.550  0.00  0.00           H\nATOM     50 CE2  PHE A   4      18.029   7.478  -0.397  0.00  0.00           C\nATOM     51 HE2  PHE A   4      18.637   7.931   0.386  0.00  0.00           H\nATOM     52 CD2  PHE A   4      16.632   7.526  -0.315  0.00  0.00           C\nATOM     53 HD2  PHE A   4      16.153   8.015   0.533  0.00  0.00           H\nATOM     54 C    PHE A   4      14.344   9.128  -0.000  0.00  0.00           C\nATOM     55 O    PHE A   4      13.581  10.091   0.000  0.00  0.00           O\nATOM     56 N    MET A   5      15.673   9.256  -0.000  0.00  0.00           N\nATOM     57 H    MET A   5      16.259   8.433  -0.000  0.00  0.00           H\nATOM     58 CA   MET A   5      16.317  10.554   0.000  0.00  0.00           C\nATOM     59 HA   MET A   5      16.019  11.108  -0.890  0.00  0.00           H\nATOM     60 CB   MET A   5      15.924  11.362   1.232  0.00  0.00           C\nATOM     61 HB2  MET A   5      14.844  11.509   1.241  0.00  0.00           H\nATOM     62 HB3  MET A   5      16.225  10.824   2.131  0.00  0.00           H\nATOM     63 CG   MET A   5      16.621  12.717   1.195  0.00  0.00           C\nATOM     64 HG2  MET A   5      17.701  12.571   1.186  0.00  0.00           H\nATOM     65 HG3  MET A   5      16.321  13.256   0.296  0.00  0.00           H\nATOM     66 SD   MET A   5      16.164  13.689   2.652  0.00  0.00           S\nATOM     67 CE   MET A   5      17.100  15.171   2.341  0.00  0.00           C\nATOM     68 HE1  MET A   5      16.781  15.612   1.397  0.00  0.00           H\nATOM     69 HE2  MET A   5      16.933  15.883   3.149  0.00  0.00           H\nATOM     70 HE3  MET A   5      18.161  14.927   2.287  0.00  0.00           H\nATOM     71 C    MET A   5      17.833  10.413  -0.000  0.00  0.00           C\nATOM     72 O    MET A   5      18.356   9.301  -0.000  0.00  0.00           O\nEND\n",
           "type": "blob"
          }
         ],
         "kwargs": {
          "defaultRepresentation": true,
          "ext": "pdb",
          "name": "nglview.adaptor.MolSysMTTrajectory",
          "skipDigestion": true
         },
         "methodName": "loadFile",
         "reconstruc_color_scheme": false,
         "target": "Stage",
         "type": "call_method"
        },
        {
         "args": [],
         "component_index": 0,
         "kwargs": {},
         "methodName": "removeAllRepresentations",
         "reconstruc_color_scheme": false,
         "target": "compList",
         "type": "call_method"
        },
        {
         "args": [
          "cartoon"
         ],
         "component_index": 0,
         "kwargs": {
          "sele": "@"
         },
         "methodName": "addRepresentation",
         "reconstruc_color_scheme": false,
         "target": "compList",
         "type": "call_method"
        },
        {
         "args": [
          "cartoon"
         ],
         "component_index": 0,
         "kwargs": {
          "sele": "@"
         },
         "methodName": "addRepresentation",
         "reconstruc_color_scheme": false,
         "target": "compList",
         "type": "call_method"
        },
        {
         "args": [
          "licorice"
         ],
         "component_index": 0,
         "kwargs": {
          "radius": 0.4,
          "sele": "@"
         },
         "methodName": "addRepresentation",
         "reconstruc_color_scheme": false,
         "target": "compList",
         "type": "call_method"
        },
        {
         "args": [
          "licorice"
         ],
         "component_index": 0,
         "kwargs": {
          "radius": 0.4,
          "sele": "@0,1,2,3,4,5,6,7,8,9,10,11,12,13,14,15,16,17,18,19,20,21,22,23,24,25,26,27,28,29,30,31,32,33,34,35,36,37,38,39,40,41,42,43,44,45,46,47,48,49,50,51,52,53,54,55,56,57,58,59,60,61,62,63,64,65,66,67,68,69,70,71"
         },
         "methodName": "addRepresentation",
         "reconstruc_color_scheme": false,
         "target": "compList",
         "type": "call_method"
        },
        {
         "args": [
          "ball+stick"
         ],
         "component_index": 0,
         "kwargs": {
          "sele": "@"
         },
         "methodName": "addRepresentation",
         "reconstruc_color_scheme": false,
         "target": "compList",
         "type": "call_method"
        },
        {
         "args": [],
         "component_index": 0,
         "kwargs": {},
         "methodName": "removeAllRepresentations",
         "reconstruc_color_scheme": false,
         "target": "compList",
         "type": "call_method"
        },
        {
         "args": [
          "ball+stick"
         ],
         "component_index": 0,
         "kwargs": {
          "color": "white",
          "sele": "all"
         },
         "methodName": "addRepresentation",
         "reconstruc_color_scheme": false,
         "target": "compList",
         "type": "call_method"
        },
        {
         "args": [
          "ball+stick"
         ],
         "component_index": 0,
         "kwargs": {
          "color": "orange",
          "sele": "@33,35,37,53"
         },
         "methodName": "addRepresentation",
         "reconstruc_color_scheme": false,
         "target": "compList",
         "type": "call_method"
        }
       ],
       "_ngl_original_stage_parameters": {},
       "_ngl_repr_dict": {},
       "_ngl_serialize": false,
       "_ngl_version": "",
       "_ngl_view_id": [],
       "_player_dict": {},
       "_scene_position": {},
       "_scene_rotation": {},
       "_synced_model_ids": [],
       "_synced_repr_model_ids": [],
       "_view_count": null,
       "_view_height": "",
       "_view_module": "nglview-js-widgets",
       "_view_module_version": "3.1.4",
       "_view_name": "NGLView",
       "_view_width": "",
       "background": "white",
       "frame": 0,
       "gui_style": null,
       "layout": "IPY_MODEL_940f794993ef48c2b10432b50fdee9da",
       "max_frame": 0,
       "n_components": 0,
       "picked": {},
       "tabbable": null,
       "tooltip": null
      }
     },
     "33e178e8278845e5965aea8268f61bac": {
      "model_module": "@jupyter-widgets/controls",
      "model_module_version": "2.0.0",
      "model_name": "ButtonStyleModel",
      "state": {
       "_model_module": "@jupyter-widgets/controls",
       "_model_module_version": "2.0.0",
       "_model_name": "ButtonStyleModel",
       "_view_count": null,
       "_view_module": "@jupyter-widgets/base",
       "_view_module_version": "2.0.0",
       "_view_name": "StyleView",
       "button_color": null,
       "font_family": null,
       "font_size": null,
       "font_style": null,
       "font_variant": null,
       "font_weight": null,
       "text_color": null,
       "text_decoration": null
      }
     },
     "35fb9f451f8240c19ea497d061658902": {
      "model_module": "@jupyter-widgets/base",
      "model_module_version": "2.0.0",
      "model_name": "LayoutModel",
      "state": {
       "_model_module": "@jupyter-widgets/base",
       "_model_module_version": "2.0.0",
       "_model_name": "LayoutModel",
       "_view_count": null,
       "_view_module": "@jupyter-widgets/base",
       "_view_module_version": "2.0.0",
       "_view_name": "LayoutView",
       "align_content": null,
       "align_items": null,
       "align_self": null,
       "border_bottom": null,
       "border_left": null,
       "border_right": null,
       "border_top": null,
       "bottom": null,
       "display": null,
       "flex": null,
       "flex_flow": null,
       "grid_area": null,
       "grid_auto_columns": null,
       "grid_auto_flow": null,
       "grid_auto_rows": null,
       "grid_column": null,
       "grid_gap": null,
       "grid_row": null,
       "grid_template_areas": null,
       "grid_template_columns": null,
       "grid_template_rows": null,
       "height": null,
       "justify_content": null,
       "justify_items": null,
       "left": null,
       "margin": null,
       "max_height": null,
       "max_width": null,
       "min_height": null,
       "min_width": null,
       "object_fit": null,
       "object_position": null,
       "order": null,
       "overflow": null,
       "padding": null,
       "right": null,
       "top": null,
       "visibility": null,
       "width": null
      }
     },
     "478cfa439e3b4945ba33e12c878a146d": {
      "model_module": "@jupyter-widgets/base",
      "model_module_version": "2.0.0",
      "model_name": "LayoutModel",
      "state": {
       "_model_module": "@jupyter-widgets/base",
       "_model_module_version": "2.0.0",
       "_model_name": "LayoutModel",
       "_view_count": null,
       "_view_module": "@jupyter-widgets/base",
       "_view_module_version": "2.0.0",
       "_view_name": "LayoutView",
       "align_content": null,
       "align_items": null,
       "align_self": null,
       "border_bottom": null,
       "border_left": null,
       "border_right": null,
       "border_top": null,
       "bottom": null,
       "display": null,
       "flex": null,
       "flex_flow": null,
       "grid_area": null,
       "grid_auto_columns": null,
       "grid_auto_flow": null,
       "grid_auto_rows": null,
       "grid_column": null,
       "grid_gap": null,
       "grid_row": null,
       "grid_template_areas": null,
       "grid_template_columns": null,
       "grid_template_rows": null,
       "height": null,
       "justify_content": null,
       "justify_items": null,
       "left": null,
       "margin": null,
       "max_height": null,
       "max_width": null,
       "min_height": null,
       "min_width": null,
       "object_fit": null,
       "object_position": null,
       "order": null,
       "overflow": null,
       "padding": null,
       "right": null,
       "top": null,
       "visibility": null,
       "width": null
      }
     },
     "4989fa25c60f479d96c69d09c36197ad": {
      "model_module": "@jupyter-widgets/base",
      "model_module_version": "2.0.0",
      "model_name": "LayoutModel",
      "state": {
       "_model_module": "@jupyter-widgets/base",
       "_model_module_version": "2.0.0",
       "_model_name": "LayoutModel",
       "_view_count": null,
       "_view_module": "@jupyter-widgets/base",
       "_view_module_version": "2.0.0",
       "_view_name": "LayoutView",
       "align_content": null,
       "align_items": null,
       "align_self": null,
       "border_bottom": null,
       "border_left": null,
       "border_right": null,
       "border_top": null,
       "bottom": null,
       "display": null,
       "flex": null,
       "flex_flow": null,
       "grid_area": null,
       "grid_auto_columns": null,
       "grid_auto_flow": null,
       "grid_auto_rows": null,
       "grid_column": null,
       "grid_gap": null,
       "grid_row": null,
       "grid_template_areas": null,
       "grid_template_columns": null,
       "grid_template_rows": null,
       "height": null,
       "justify_content": null,
       "justify_items": null,
       "left": null,
       "margin": null,
       "max_height": null,
       "max_width": null,
       "min_height": null,
       "min_width": null,
       "object_fit": null,
       "object_position": null,
       "order": null,
       "overflow": null,
       "padding": null,
       "right": null,
       "top": null,
       "visibility": null,
       "width": null
      }
     },
     "4db77a1abe244c709f55b0d7daf0af75": {
      "model_module": "@jupyter-widgets/base",
      "model_module_version": "2.0.0",
      "model_name": "LayoutModel",
      "state": {
       "_model_module": "@jupyter-widgets/base",
       "_model_module_version": "2.0.0",
       "_model_name": "LayoutModel",
       "_view_count": null,
       "_view_module": "@jupyter-widgets/base",
       "_view_module_version": "2.0.0",
       "_view_name": "LayoutView",
       "align_content": null,
       "align_items": null,
       "align_self": null,
       "border_bottom": null,
       "border_left": null,
       "border_right": null,
       "border_top": null,
       "bottom": null,
       "display": null,
       "flex": null,
       "flex_flow": null,
       "grid_area": null,
       "grid_auto_columns": null,
       "grid_auto_flow": null,
       "grid_auto_rows": null,
       "grid_column": null,
       "grid_gap": null,
       "grid_row": null,
       "grid_template_areas": null,
       "grid_template_columns": null,
       "grid_template_rows": null,
       "height": null,
       "justify_content": null,
       "justify_items": null,
       "left": null,
       "margin": null,
       "max_height": null,
       "max_width": null,
       "min_height": null,
       "min_width": null,
       "object_fit": null,
       "object_position": null,
       "order": null,
       "overflow": null,
       "padding": null,
       "right": null,
       "top": null,
       "visibility": null,
       "width": "34px"
      }
     },
     "5e7bd0acb8624ad38086e239a67d1c2f": {
      "model_module": "@jupyter-widgets/base",
      "model_module_version": "2.0.0",
      "model_name": "LayoutModel",
      "state": {
       "_model_module": "@jupyter-widgets/base",
       "_model_module_version": "2.0.0",
       "_model_name": "LayoutModel",
       "_view_count": null,
       "_view_module": "@jupyter-widgets/base",
       "_view_module_version": "2.0.0",
       "_view_name": "LayoutView",
       "align_content": null,
       "align_items": null,
       "align_self": null,
       "border_bottom": null,
       "border_left": null,
       "border_right": null,
       "border_top": null,
       "bottom": null,
       "display": null,
       "flex": null,
       "flex_flow": null,
       "grid_area": null,
       "grid_auto_columns": null,
       "grid_auto_flow": null,
       "grid_auto_rows": null,
       "grid_column": null,
       "grid_gap": null,
       "grid_row": null,
       "grid_template_areas": null,
       "grid_template_columns": null,
       "grid_template_rows": null,
       "height": null,
       "justify_content": null,
       "justify_items": null,
       "left": null,
       "margin": null,
       "max_height": null,
       "max_width": null,
       "min_height": null,
       "min_width": null,
       "object_fit": null,
       "object_position": null,
       "order": null,
       "overflow": null,
       "padding": null,
       "right": null,
       "top": null,
       "visibility": null,
       "width": null
      }
     },
     "67e06604fe6845dd810fca7e29f30692": {
      "model_module": "@jupyter-widgets/controls",
      "model_module_version": "2.0.0",
      "model_name": "IntSliderModel",
      "state": {
       "_dom_classes": [],
       "_model_module": "@jupyter-widgets/controls",
       "_model_module_version": "2.0.0",
       "_model_name": "IntSliderModel",
       "_view_count": null,
       "_view_module": "@jupyter-widgets/controls",
       "_view_module_version": "2.0.0",
       "_view_name": "IntSliderView",
       "behavior": "drag-tap",
       "continuous_update": true,
       "description": "",
       "description_allow_html": false,
       "disabled": false,
       "layout": "IPY_MODEL_a2ef98818d44472fafda6e3c86e4d14e",
       "max": 0,
       "min": 0,
       "orientation": "horizontal",
       "readout": true,
       "readout_format": "d",
       "step": 1,
       "style": "IPY_MODEL_8d5a50a4e4b14f3e8073a911b8ba4f17",
       "tabbable": null,
       "tooltip": null,
       "value": 0
      }
     },
     "6983c2eedff648898aadd13a38ffa48a": {
      "model_module": "@jupyter-widgets/controls",
      "model_module_version": "2.0.0",
      "model_name": "LinkModel",
      "state": {
       "_model_module": "@jupyter-widgets/controls",
       "_model_module_version": "2.0.0",
       "_model_name": "LinkModel",
       "_view_count": null,
       "_view_module": "@jupyter-widgets/controls",
       "_view_module_version": "2.0.0",
       "_view_name": null,
       "source": [
        "IPY_MODEL_806a6d3fa8a44589a937f6da175881d6",
        "max"
       ],
       "target": [
        "IPY_MODEL_308349a1faea460b93fd3b85cf0ccd8c",
        "max_frame"
       ]
      }
     },
     "6eb38cdcf42c4792a5478a0f812ae06b": {
      "model_module": "@jupyter-widgets/base",
      "model_module_version": "2.0.0",
      "model_name": "LayoutModel",
      "state": {
       "_model_module": "@jupyter-widgets/base",
       "_model_module_version": "2.0.0",
       "_model_name": "LayoutModel",
       "_view_count": null,
       "_view_module": "@jupyter-widgets/base",
       "_view_module_version": "2.0.0",
       "_view_name": "LayoutView",
       "align_content": null,
       "align_items": null,
       "align_self": null,
       "border_bottom": null,
       "border_left": null,
       "border_right": null,
       "border_top": null,
       "bottom": null,
       "display": null,
       "flex": null,
       "flex_flow": null,
       "grid_area": null,
       "grid_auto_columns": null,
       "grid_auto_flow": null,
       "grid_auto_rows": null,
       "grid_column": null,
       "grid_gap": null,
       "grid_row": null,
       "grid_template_areas": null,
       "grid_template_columns": null,
       "grid_template_rows": null,
       "height": null,
       "justify_content": null,
       "justify_items": null,
       "left": null,
       "margin": null,
       "max_height": null,
       "max_width": null,
       "min_height": null,
       "min_width": null,
       "object_fit": null,
       "object_position": null,
       "order": null,
       "overflow": null,
       "padding": null,
       "right": null,
       "top": null,
       "visibility": null,
       "width": null
      }
     },
     "6fee1a6f009b4478ba452882a32d9b71": {
      "model_module": "@jupyter-widgets/controls",
      "model_module_version": "2.0.0",
      "model_name": "LinkModel",
      "state": {
       "_model_module": "@jupyter-widgets/controls",
       "_model_module_version": "2.0.0",
       "_model_name": "LinkModel",
       "_view_count": null,
       "_view_module": "@jupyter-widgets/controls",
       "_view_module_version": "2.0.0",
       "_view_name": null,
       "source": [
        "IPY_MODEL_67e06604fe6845dd810fca7e29f30692",
        "max"
       ],
       "target": [
        "IPY_MODEL_e0233fa464ee437a9b83092655f124bf",
        "max_frame"
       ]
      }
     },
     "71931a5968404351987214831d301995": {
      "model_module": "@jupyter-widgets/controls",
      "model_module_version": "2.0.0",
      "model_name": "LinkModel",
      "state": {
       "_model_module": "@jupyter-widgets/controls",
       "_model_module_version": "2.0.0",
       "_model_name": "LinkModel",
       "_view_count": null,
       "_view_module": "@jupyter-widgets/controls",
       "_view_module_version": "2.0.0",
       "_view_name": null,
       "source": [
        "IPY_MODEL_c00decf14f9344e399c84dd45d5d38d6",
        "max"
       ],
       "target": [
        "IPY_MODEL_e0233fa464ee437a9b83092655f124bf",
        "max_frame"
       ]
      }
     },
     "735c7da5c6bb49b9bbbc0e664f175de4": {
      "model_module": "@jupyter-widgets/controls",
      "model_module_version": "2.0.0",
      "model_name": "IntSliderModel",
      "state": {
       "_dom_classes": [],
       "_model_module": "@jupyter-widgets/controls",
       "_model_module_version": "2.0.0",
       "_model_name": "IntSliderModel",
       "_view_count": null,
       "_view_module": "@jupyter-widgets/controls",
       "_view_module_version": "2.0.0",
       "_view_name": "IntSliderView",
       "behavior": "drag-tap",
       "continuous_update": true,
       "description": "",
       "description_allow_html": false,
       "disabled": false,
       "layout": "IPY_MODEL_35fb9f451f8240c19ea497d061658902",
       "max": 0,
       "min": 0,
       "orientation": "horizontal",
       "readout": true,
       "readout_format": "d",
       "step": 1,
       "style": "IPY_MODEL_b204faf9771940588bd2d4615e7173cc",
       "tabbable": null,
       "tooltip": null,
       "value": 0
      }
     },
     "806a6d3fa8a44589a937f6da175881d6": {
      "model_module": "@jupyter-widgets/controls",
      "model_module_version": "2.0.0",
      "model_name": "PlayModel",
      "state": {
       "_dom_classes": [],
       "_model_module": "@jupyter-widgets/controls",
       "_model_module_version": "2.0.0",
       "_model_name": "PlayModel",
       "_view_count": null,
       "_view_module": "@jupyter-widgets/controls",
       "_view_module_version": "2.0.0",
       "_view_name": "PlayView",
       "description": "",
       "description_allow_html": false,
       "disabled": false,
       "interval": 100,
       "layout": "IPY_MODEL_09e0f54cdf6c4c6f9d00fd68c09a6b0d",
       "max": 0,
       "min": 0,
       "playing": false,
       "repeat": false,
       "show_repeat": true,
       "step": 1,
       "style": "IPY_MODEL_9c7eb5476868470a8b82e446c15c9c25",
       "tabbable": null,
       "tooltip": null,
       "value": 0
      }
     },
     "8d5a50a4e4b14f3e8073a911b8ba4f17": {
      "model_module": "@jupyter-widgets/controls",
      "model_module_version": "2.0.0",
      "model_name": "SliderStyleModel",
      "state": {
       "_model_module": "@jupyter-widgets/controls",
       "_model_module_version": "2.0.0",
       "_model_name": "SliderStyleModel",
       "_view_count": null,
       "_view_module": "@jupyter-widgets/base",
       "_view_module_version": "2.0.0",
       "_view_name": "StyleView",
       "description_width": "",
       "handle_color": null
      }
     },
     "8eb33a9ed540411694d0eaa98cd72239": {
      "model_module": "@jupyter-widgets/controls",
      "model_module_version": "2.0.0",
      "model_name": "HBoxModel",
      "state": {
       "_dom_classes": [],
       "_model_module": "@jupyter-widgets/controls",
       "_model_module_version": "2.0.0",
       "_model_name": "HBoxModel",
       "_view_count": null,
       "_view_module": "@jupyter-widgets/controls",
       "_view_module_version": "2.0.0",
       "_view_name": "HBoxView",
       "box_style": "",
       "children": [
        "IPY_MODEL_c00decf14f9344e399c84dd45d5d38d6",
        "IPY_MODEL_67e06604fe6845dd810fca7e29f30692"
       ],
       "layout": "IPY_MODEL_478cfa439e3b4945ba33e12c878a146d",
       "tabbable": null,
       "tooltip": null
      }
     },
     "940f794993ef48c2b10432b50fdee9da": {
      "model_module": "@jupyter-widgets/base",
      "model_module_version": "2.0.0",
      "model_name": "LayoutModel",
      "state": {
       "_model_module": "@jupyter-widgets/base",
       "_model_module_version": "2.0.0",
       "_model_name": "LayoutModel",
       "_view_count": null,
       "_view_module": "@jupyter-widgets/base",
       "_view_module_version": "2.0.0",
       "_view_name": "LayoutView",
       "align_content": null,
       "align_items": null,
       "align_self": null,
       "border_bottom": null,
       "border_left": null,
       "border_right": null,
       "border_top": null,
       "bottom": null,
       "display": null,
       "flex": null,
       "flex_flow": null,
       "grid_area": null,
       "grid_auto_columns": null,
       "grid_auto_flow": null,
       "grid_auto_rows": null,
       "grid_column": null,
       "grid_gap": null,
       "grid_row": null,
       "grid_template_areas": null,
       "grid_template_columns": null,
       "grid_template_rows": null,
       "height": null,
       "justify_content": null,
       "justify_items": null,
       "left": null,
       "margin": null,
       "max_height": null,
       "max_width": null,
       "min_height": null,
       "min_width": null,
       "object_fit": null,
       "object_position": null,
       "order": null,
       "overflow": null,
       "padding": null,
       "right": null,
       "top": null,
       "visibility": null,
       "width": null
      }
     },
     "97af0d64bad5419db7a4aecde57887c0": {
      "model_module": "@jupyter-widgets/base",
      "model_module_version": "2.0.0",
      "model_name": "LayoutModel",
      "state": {
       "_model_module": "@jupyter-widgets/base",
       "_model_module_version": "2.0.0",
       "_model_name": "LayoutModel",
       "_view_count": null,
       "_view_module": "@jupyter-widgets/base",
       "_view_module_version": "2.0.0",
       "_view_name": "LayoutView",
       "align_content": null,
       "align_items": null,
       "align_self": null,
       "border_bottom": null,
       "border_left": null,
       "border_right": null,
       "border_top": null,
       "bottom": null,
       "display": null,
       "flex": null,
       "flex_flow": null,
       "grid_area": null,
       "grid_auto_columns": null,
       "grid_auto_flow": null,
       "grid_auto_rows": null,
       "grid_column": null,
       "grid_gap": null,
       "grid_row": null,
       "grid_template_areas": null,
       "grid_template_columns": null,
       "grid_template_rows": null,
       "height": null,
       "justify_content": null,
       "justify_items": null,
       "left": null,
       "margin": null,
       "max_height": null,
       "max_width": null,
       "min_height": null,
       "min_width": null,
       "object_fit": null,
       "object_position": null,
       "order": null,
       "overflow": null,
       "padding": null,
       "right": null,
       "top": null,
       "visibility": null,
       "width": "34px"
      }
     },
     "99447526b1c84464a141e8ae9e7935af": {
      "buffers": [
       {
        "data": "",
        "encoding": "base64",
        "path": [
         "value"
        ]
       }
      ],
      "model_module": "@jupyter-widgets/controls",
      "model_module_version": "2.0.0",
      "model_name": "ImageModel",
      "state": {
       "_dom_classes": [],
       "_model_module": "@jupyter-widgets/controls",
       "_model_module_version": "2.0.0",
       "_model_name": "ImageModel",
       "_view_count": null,
       "_view_module": "@jupyter-widgets/controls",
       "_view_module_version": "2.0.0",
       "_view_name": "ImageView",
       "format": "png",
       "height": "",
       "layout": "IPY_MODEL_c4fd77eb1398437287824ca4f17f6523",
       "tabbable": null,
       "tooltip": null,
       "width": "900.0"
      }
     },
     "9c7eb5476868470a8b82e446c15c9c25": {
      "model_module": "@jupyter-widgets/controls",
      "model_module_version": "2.0.0",
      "model_name": "DescriptionStyleModel",
      "state": {
       "_model_module": "@jupyter-widgets/controls",
       "_model_module_version": "2.0.0",
       "_model_name": "DescriptionStyleModel",
       "_view_count": null,
       "_view_module": "@jupyter-widgets/base",
       "_view_module_version": "2.0.0",
       "_view_name": "StyleView",
       "description_width": ""
      }
     },
     "9edd21e158b549a196c618ac7d2c239d": {
      "model_module": "@jupyter-widgets/controls",
      "model_module_version": "2.0.0",
      "model_name": "DescriptionStyleModel",
      "state": {
       "_model_module": "@jupyter-widgets/controls",
       "_model_module_version": "2.0.0",
       "_model_name": "DescriptionStyleModel",
       "_view_count": null,
       "_view_module": "@jupyter-widgets/base",
       "_view_module_version": "2.0.0",
       "_view_name": "StyleView",
       "description_width": ""
      }
     },
     "a2ef98818d44472fafda6e3c86e4d14e": {
      "model_module": "@jupyter-widgets/base",
      "model_module_version": "2.0.0",
      "model_name": "LayoutModel",
      "state": {
       "_model_module": "@jupyter-widgets/base",
       "_model_module_version": "2.0.0",
       "_model_name": "LayoutModel",
       "_view_count": null,
       "_view_module": "@jupyter-widgets/base",
       "_view_module_version": "2.0.0",
       "_view_name": "LayoutView",
       "align_content": null,
       "align_items": null,
       "align_self": null,
       "border_bottom": null,
       "border_left": null,
       "border_right": null,
       "border_top": null,
       "bottom": null,
       "display": null,
       "flex": null,
       "flex_flow": null,
       "grid_area": null,
       "grid_auto_columns": null,
       "grid_auto_flow": null,
       "grid_auto_rows": null,
       "grid_column": null,
       "grid_gap": null,
       "grid_row": null,
       "grid_template_areas": null,
       "grid_template_columns": null,
       "grid_template_rows": null,
       "height": null,
       "justify_content": null,
       "justify_items": null,
       "left": null,
       "margin": null,
       "max_height": null,
       "max_width": null,
       "min_height": null,
       "min_width": null,
       "object_fit": null,
       "object_position": null,
       "order": null,
       "overflow": null,
       "padding": null,
       "right": null,
       "top": null,
       "visibility": null,
       "width": null
      }
     },
     "ad525031b6ed4bba88bcdf93c34d18ba": {
      "model_module": "nglview-js-widgets",
      "model_module_version": "3.1.4",
      "model_name": "ColormakerRegistryModel",
      "state": {
       "_dom_classes": [],
       "_model_module": "nglview-js-widgets",
       "_model_module_version": "3.1.4",
       "_model_name": "ColormakerRegistryModel",
       "_msg_ar": [],
       "_msg_q": [],
       "_ready": false,
       "_view_count": null,
       "_view_module": "nglview-js-widgets",
       "_view_module_version": "3.1.4",
       "_view_name": "ColormakerRegistryView",
       "layout": "IPY_MODEL_1961fd0f242d463fbd3f04ab891366ab",
       "tabbable": null,
       "tooltip": null
      }
     },
     "b204faf9771940588bd2d4615e7173cc": {
      "model_module": "@jupyter-widgets/controls",
      "model_module_version": "2.0.0",
      "model_name": "SliderStyleModel",
      "state": {
       "_model_module": "@jupyter-widgets/controls",
       "_model_module_version": "2.0.0",
       "_model_name": "SliderStyleModel",
       "_view_count": null,
       "_view_module": "@jupyter-widgets/base",
       "_view_module_version": "2.0.0",
       "_view_name": "StyleView",
       "description_width": "",
       "handle_color": null
      }
     },
     "c00decf14f9344e399c84dd45d5d38d6": {
      "model_module": "@jupyter-widgets/controls",
      "model_module_version": "2.0.0",
      "model_name": "PlayModel",
      "state": {
       "_dom_classes": [],
       "_model_module": "@jupyter-widgets/controls",
       "_model_module_version": "2.0.0",
       "_model_name": "PlayModel",
       "_view_count": null,
       "_view_module": "@jupyter-widgets/controls",
       "_view_module_version": "2.0.0",
       "_view_name": "PlayView",
       "description": "",
       "description_allow_html": false,
       "disabled": false,
       "interval": 100,
       "layout": "IPY_MODEL_4989fa25c60f479d96c69d09c36197ad",
       "max": 0,
       "min": 0,
       "playing": false,
       "repeat": false,
       "show_repeat": true,
       "step": 1,
       "style": "IPY_MODEL_9edd21e158b549a196c618ac7d2c239d",
       "tabbable": null,
       "tooltip": null,
       "value": 0
      }
     },
     "c4fd77eb1398437287824ca4f17f6523": {
      "model_module": "@jupyter-widgets/base",
      "model_module_version": "2.0.0",
      "model_name": "LayoutModel",
      "state": {
       "_model_module": "@jupyter-widgets/base",
       "_model_module_version": "2.0.0",
       "_model_name": "LayoutModel",
       "_view_count": null,
       "_view_module": "@jupyter-widgets/base",
       "_view_module_version": "2.0.0",
       "_view_name": "LayoutView",
       "align_content": null,
       "align_items": null,
       "align_self": null,
       "border_bottom": null,
       "border_left": null,
       "border_right": null,
       "border_top": null,
       "bottom": null,
       "display": null,
       "flex": null,
       "flex_flow": null,
       "grid_area": null,
       "grid_auto_columns": null,
       "grid_auto_flow": null,
       "grid_auto_rows": null,
       "grid_column": null,
       "grid_gap": null,
       "grid_row": null,
       "grid_template_areas": null,
       "grid_template_columns": null,
       "grid_template_rows": null,
       "height": null,
       "justify_content": null,
       "justify_items": null,
       "left": null,
       "margin": null,
       "max_height": null,
       "max_width": null,
       "min_height": null,
       "min_width": null,
       "object_fit": null,
       "object_position": null,
       "order": null,
       "overflow": null,
       "padding": null,
       "right": null,
       "top": null,
       "visibility": null,
       "width": null
      }
     },
     "cbf29b4b90774ccfa50e96e3decb24bb": {
      "model_module": "@jupyter-widgets/base",
      "model_module_version": "2.0.0",
      "model_name": "LayoutModel",
      "state": {
       "_model_module": "@jupyter-widgets/base",
       "_model_module_version": "2.0.0",
       "_model_name": "LayoutModel",
       "_view_count": null,
       "_view_module": "@jupyter-widgets/base",
       "_view_module_version": "2.0.0",
       "_view_name": "LayoutView",
       "align_content": null,
       "align_items": null,
       "align_self": null,
       "border_bottom": null,
       "border_left": null,
       "border_right": null,
       "border_top": null,
       "bottom": null,
       "display": null,
       "flex": null,
       "flex_flow": null,
       "grid_area": null,
       "grid_auto_columns": null,
       "grid_auto_flow": null,
       "grid_auto_rows": null,
       "grid_column": null,
       "grid_gap": null,
       "grid_row": null,
       "grid_template_areas": null,
       "grid_template_columns": null,
       "grid_template_rows": null,
       "height": null,
       "justify_content": null,
       "justify_items": null,
       "left": null,
       "margin": null,
       "max_height": null,
       "max_width": null,
       "min_height": null,
       "min_width": null,
       "object_fit": null,
       "object_position": null,
       "order": null,
       "overflow": null,
       "padding": null,
       "right": null,
       "top": null,
       "visibility": null,
       "width": null
      }
     },
     "cf8cc9817219435cac539a1cb8d23d14": {
      "model_module": "@jupyter-widgets/controls",
      "model_module_version": "2.0.0",
      "model_name": "LinkModel",
      "state": {
       "_model_module": "@jupyter-widgets/controls",
       "_model_module_version": "2.0.0",
       "_model_name": "LinkModel",
       "_view_count": null,
       "_view_module": "@jupyter-widgets/controls",
       "_view_module_version": "2.0.0",
       "_view_name": null,
       "source": [
        "IPY_MODEL_806a6d3fa8a44589a937f6da175881d6",
        "value"
       ],
       "target": [
        "IPY_MODEL_308349a1faea460b93fd3b85cf0ccd8c",
        "frame"
       ]
      }
     },
     "d05bbd9a22f74f16a32882b7734e9323": {
      "model_module": "@jupyter-widgets/controls",
      "model_module_version": "2.0.0",
      "model_name": "ButtonModel",
      "state": {
       "_dom_classes": [],
       "_model_module": "@jupyter-widgets/controls",
       "_model_module_version": "2.0.0",
       "_model_name": "ButtonModel",
       "_view_count": null,
       "_view_module": "@jupyter-widgets/controls",
       "_view_module_version": "2.0.0",
       "_view_name": "ButtonView",
       "button_style": "",
       "description": "",
       "disabled": false,
       "icon": "compress",
       "layout": "IPY_MODEL_4db77a1abe244c709f55b0d7daf0af75",
       "style": "IPY_MODEL_33e178e8278845e5965aea8268f61bac",
       "tabbable": null,
       "tooltip": null
      }
     },
     "d3355c797bef4d258728a8e350bdfc3b": {
      "model_module": "@jupyter-widgets/controls",
      "model_module_version": "2.0.0",
      "model_name": "ButtonStyleModel",
      "state": {
       "_model_module": "@jupyter-widgets/controls",
       "_model_module_version": "2.0.0",
       "_model_name": "ButtonStyleModel",
       "_view_count": null,
       "_view_module": "@jupyter-widgets/base",
       "_view_module_version": "2.0.0",
       "_view_name": "StyleView",
       "button_color": null,
       "font_family": null,
       "font_size": null,
       "font_style": null,
       "font_variant": null,
       "font_weight": null,
       "text_color": null,
       "text_decoration": null
      }
     },
     "d8381479dad046b292a46437bacf7112": {
      "buffers": [
       {
        "data": "",
        "encoding": "base64",
        "path": [
         "value"
        ]
       }
      ],
      "model_module": "@jupyter-widgets/controls",
      "model_module_version": "2.0.0",
      "model_name": "ImageModel",
      "state": {
       "_dom_classes": [],
       "_model_module": "@jupyter-widgets/controls",
       "_model_module_version": "2.0.0",
       "_model_name": "ImageModel",
       "_view_count": null,
       "_view_module": "@jupyter-widgets/controls",
       "_view_module_version": "2.0.0",
       "_view_name": "ImageView",
       "format": "png",
       "height": "",
       "layout": "IPY_MODEL_6eb38cdcf42c4792a5478a0f812ae06b",
       "tabbable": null,
       "tooltip": null,
       "width": "900.0"
      }
     },
     "e0233fa464ee437a9b83092655f124bf": {
      "model_module": "nglview-js-widgets",
      "model_module_version": "3.1.4",
      "model_name": "NGLModel",
      "state": {
       "_camera_orientation": [],
       "_camera_str": "orthographic",
       "_dom_classes": [],
       "_gui_theme": null,
       "_ibtn_fullscreen": "IPY_MODEL_d05bbd9a22f74f16a32882b7734e9323",
       "_igui": null,
       "_iplayer": "IPY_MODEL_8eb33a9ed540411694d0eaa98cd72239",
       "_model_module": "nglview-js-widgets",
       "_model_module_version": "3.1.4",
       "_model_name": "NGLModel",
       "_ngl_color_dict": {},
       "_ngl_coordinate_resource": {},
       "_ngl_full_stage_parameters": {},
       "_ngl_msg_archive": [
        {
         "args": [
          {
           "binary": false,
           "data": "HEADER    MOLECULAR SYSTEM                        11-MAR-25       \nREMARK   1 Created by MolSysMT version 1.0 on 11-MAR-2025 at 15:04:30\nATOM      1 N    TYR A   1       3.326   1.548  -0.000  0.00  0.00           N\nATOM      2 H    TYR A   1       3.909   0.724  -0.000  0.00  0.00           H\nATOM      3 CA   TYR A   1       3.970   2.846  -0.000  0.00  0.00           C\nATOM      4 HA   TYR A   1       3.672   3.400  -0.890  0.00  0.00           H\nATOM      5 CB   TYR A   1       3.577   3.654   1.232  0.00  0.00           C\nATOM      6 HB2  TYR A   1       2.497   3.801   1.241  0.00  0.00           H\nATOM      7 HB3  TYR A   1       3.877   3.116   2.131  0.00  0.00           H\nATOM      8 CG   TYR A   1       4.267   4.996   1.195  0.00  0.00           C\nATOM      9 CD1  TYR A   1       4.060   5.919   2.227  0.00  0.00           C\nATOM     10 HD1  TYR A   1       3.400   5.668   3.058  0.00  0.00           H\nATOM     11 CE1  TYR A   1       4.700   7.164   2.193  0.00  0.00           C\nATOM     12 HE1  TYR A   1       4.539   7.882   2.997  0.00  0.00           H\nATOM     13 CZ   TYR A   1       5.547   7.486   1.126  0.00  0.00           C\nATOM     14 OH   TYR A   1       6.169   8.695   1.092  0.00  0.00           O\nATOM     15 HH   TYR A   1       5.956   9.247   1.848  0.00  0.00           H\nATOM     16 CE2  TYR A   1       5.755   6.563   0.094  0.00  0.00           C\nATOM     17 HE2  TYR A   1       6.415   6.814  -0.737  0.00  0.00           H\nATOM     18 CD2  TYR A   1       5.115   5.318   0.128  0.00  0.00           C\nATOM     19 HD2  TYR A   1       5.276   4.600  -0.676  0.00  0.00           H\nATOM     20 C    TYR A   1       5.486   2.705  -0.000  0.00  0.00           C\nATOM     21 O    TYR A   1       6.009   1.593  -0.000  0.00  0.00           O\nATOM     22 N    GLY A   2       6.191   3.839  -0.000  0.00  0.00           N\nATOM     23 H    GLY A   2       5.715   4.730  -0.000  0.00  0.00           H\nATOM     24 CA   GLY A   2       7.640   3.839  -0.000  0.00  0.00           C\nATOM     25 HA2  GLY A   2       8.004   3.325   0.890  0.00  0.00           H\nATOM     26 HA3  GLY A   2       8.004   3.325  -0.890  0.00  0.00           H\nATOM     27 C    GLY A   2       8.171   5.265  -0.000  0.00  0.00           C\nATOM     28 O    GLY A   2       7.395   6.219   0.000  0.00  0.00           O\nATOM     29 N    GLY A   3       9.498   5.409  -0.000  0.00  0.00           N\nATOM     30 H    GLY A   3      10.094   4.594  -0.000  0.00  0.00           H\nATOM     31 CA   GLY A   3      10.126   6.715   0.000  0.00  0.00           C\nATOM     32 HA2  GLY A   3       9.821   7.266  -0.890  0.00  0.00           H\nATOM     33 HA3  GLY A   3       9.821   7.266   0.890  0.00  0.00           H\nATOM     34 C    GLY A   3      11.642   6.574  -0.000  0.00  0.00           C\nATOM     35 O    GLY A   3      12.165   5.462  -0.000  0.00  0.00           O\nATOM     36 N    PHE A   4      12.347   7.708  -0.000  0.00  0.00           N\nATOM     37 H    PHE A   4      11.871   8.599   0.000  0.00  0.00           H\nATOM     38 CA   PHE A   4      13.796   7.708  -0.000  0.00  0.00           C\nATOM     39 HA   PHE A   4      14.160   6.715   0.266  0.00  0.00           H\nATOM     40 CB   PHE A   4      14.345   8.076  -1.374  0.00  0.00           C\nATOM     41 HB2  PHE A   4      13.997   7.352  -2.111  0.00  0.00           H\nATOM     42 HB3  PHE A   4      13.997   9.071  -1.651  0.00  0.00           H\nATOM     43 CG   PHE A   4      15.852   8.103  -1.473  0.00  0.00           C\nATOM     44 CD1  PHE A   4      16.467   8.428  -2.688  0.00  0.00           C\nATOM     45 HD1  PHE A   4      15.860   8.662  -3.562  0.00  0.00           H\nATOM     46 CE1  PHE A   4      17.864   8.453  -2.780  0.00  0.00           C\nATOM     47 HE1  PHE A   4      18.344   8.706  -3.725  0.00  0.00           H\nATOM     48 CZ   PHE A   4      18.645   8.152  -1.657  0.00  0.00           C\nATOM     49 HZ   PHE A   4      19.733   8.171  -1.729  0.00  0.00           H\nATOM     50 CE2  PHE A   4      18.029   7.826  -0.443  0.00  0.00           C\nATOM     51 HE2  PHE A   4      18.637   7.592   0.431  0.00  0.00           H\nATOM     52 CD2  PHE A   4      16.632   7.802  -0.351  0.00  0.00           C\nATOM     53 HD2  PHE A   4      16.153   7.548   0.594  0.00  0.00           H\nATOM     54 C    PHE A   4      14.344   8.712   1.004  0.00  0.00           C\nATOM     55 O    PHE A   4      13.581   9.393   1.685  0.00  0.00           O\nATOM     56 N    MET A   5      15.673   8.802   1.095  0.00  0.00           N\nATOM     57 H    MET A   5      16.259   8.221   0.513  0.00  0.00           H\nATOM     58 CA   MET A   5      16.317   9.720   2.012  0.00  0.00           C\nATOM     59 HA   MET A   5      16.019  10.741   1.775  0.00  0.00           H\nATOM     60 CB   MET A   5      15.924   9.420   3.455  0.00  0.00           C\nATOM     61 HB2  MET A   5      14.844   9.518   3.566  0.00  0.00           H\nATOM     62 HB3  MET A   5      16.225   8.404   3.710  0.00  0.00           H\nATOM     63 CG   MET A   5      16.621  10.405   4.387  0.00  0.00           C\nATOM     64 HG2  MET A   5      17.701  10.308   4.277  0.00  0.00           H\nATOM     65 HG3  MET A   5      16.321  11.422   4.133  0.00  0.00           H\nATOM     66 SD   MET A   5      16.164  10.062   6.104  0.00  0.00           S\nATOM     67 CE   MET A   5      17.100  11.330   6.933  0.00  0.00           C\nATOM     68 HE1  MET A   5      16.781  12.309   6.577  0.00  0.00           H\nATOM     69 HE2  MET A   5      16.933  11.262   8.007  0.00  0.00           H\nATOM     70 HE3  MET A   5      18.161  11.195   6.721  0.00  0.00           H\nATOM     71 C    MET A   5      17.833   9.621   1.913  0.00  0.00           C\nATOM     72 O    MET A   5      18.356   8.834   1.127  0.00  0.00           O\nEND\n",
           "type": "blob"
          }
         ],
         "kwargs": {
          "defaultRepresentation": true,
          "ext": "pdb",
          "name": "nglview.adaptor.MolSysMTTrajectory",
          "skipDigestion": true
         },
         "methodName": "loadFile",
         "reconstruc_color_scheme": false,
         "target": "Stage",
         "type": "call_method"
        },
        {
         "args": [],
         "component_index": 0,
         "kwargs": {},
         "methodName": "removeAllRepresentations",
         "reconstruc_color_scheme": false,
         "target": "compList",
         "type": "call_method"
        },
        {
         "args": [
          "cartoon"
         ],
         "component_index": 0,
         "kwargs": {
          "sele": "@"
         },
         "methodName": "addRepresentation",
         "reconstruc_color_scheme": false,
         "target": "compList",
         "type": "call_method"
        },
        {
         "args": [
          "cartoon"
         ],
         "component_index": 0,
         "kwargs": {
          "sele": "@"
         },
         "methodName": "addRepresentation",
         "reconstruc_color_scheme": false,
         "target": "compList",
         "type": "call_method"
        },
        {
         "args": [
          "licorice"
         ],
         "component_index": 0,
         "kwargs": {
          "radius": 0.4,
          "sele": "@"
         },
         "methodName": "addRepresentation",
         "reconstruc_color_scheme": false,
         "target": "compList",
         "type": "call_method"
        },
        {
         "args": [
          "licorice"
         ],
         "component_index": 0,
         "kwargs": {
          "radius": 0.4,
          "sele": "@0,1,2,3,4,5,6,7,8,9,10,11,12,13,14,15,16,17,18,19,20,21,22,23,24,25,26,27,28,29,30,31,32,33,34,35,36,37,38,39,40,41,42,43,44,45,46,47,48,49,50,51,52,53,54,55,56,57,58,59,60,61,62,63,64,65,66,67,68,69,70,71"
         },
         "methodName": "addRepresentation",
         "reconstruc_color_scheme": false,
         "target": "compList",
         "type": "call_method"
        },
        {
         "args": [
          "ball+stick"
         ],
         "component_index": 0,
         "kwargs": {
          "sele": "@"
         },
         "methodName": "addRepresentation",
         "reconstruc_color_scheme": false,
         "target": "compList",
         "type": "call_method"
        },
        {
         "args": [],
         "component_index": 0,
         "kwargs": {},
         "methodName": "removeAllRepresentations",
         "reconstruc_color_scheme": false,
         "target": "compList",
         "type": "call_method"
        },
        {
         "args": [
          "ball+stick"
         ],
         "component_index": 0,
         "kwargs": {
          "color": "white",
          "sele": "all"
         },
         "methodName": "addRepresentation",
         "reconstruc_color_scheme": false,
         "target": "compList",
         "type": "call_method"
        },
        {
         "args": [
          "ball+stick"
         ],
         "component_index": 0,
         "kwargs": {
          "color": "orange",
          "sele": "@33,35,37,53"
         },
         "methodName": "addRepresentation",
         "reconstruc_color_scheme": false,
         "target": "compList",
         "type": "call_method"
        }
       ],
       "_ngl_original_stage_parameters": {},
       "_ngl_repr_dict": {},
       "_ngl_serialize": false,
       "_ngl_version": "",
       "_ngl_view_id": [],
       "_player_dict": {},
       "_scene_position": {},
       "_scene_rotation": {},
       "_synced_model_ids": [],
       "_synced_repr_model_ids": [],
       "_view_count": null,
       "_view_height": "",
       "_view_module": "nglview-js-widgets",
       "_view_module_version": "3.1.4",
       "_view_name": "NGLView",
       "_view_width": "",
       "background": "white",
       "frame": 0,
       "gui_style": null,
       "layout": "IPY_MODEL_5e7bd0acb8624ad38086e239a67d1c2f",
       "max_frame": 0,
       "n_components": 0,
       "picked": {},
       "tabbable": null,
       "tooltip": null
      }
     },
     "f2757beb5b5e4b8f9ad5e6467bfa1e78": {
      "model_module": "@jupyter-widgets/controls",
      "model_module_version": "2.0.0",
      "model_name": "LinkModel",
      "state": {
       "_model_module": "@jupyter-widgets/controls",
       "_model_module_version": "2.0.0",
       "_model_name": "LinkModel",
       "_view_count": null,
       "_view_module": "@jupyter-widgets/controls",
       "_view_module_version": "2.0.0",
       "_view_name": null,
       "source": [
        "IPY_MODEL_c00decf14f9344e399c84dd45d5d38d6",
        "value"
       ],
       "target": [
        "IPY_MODEL_e0233fa464ee437a9b83092655f124bf",
        "frame"
       ]
      }
     },
     "f3268b6507f24f469e7a9d625aa7d875": {
      "model_module": "@jupyter-widgets/controls",
      "model_module_version": "2.0.0",
      "model_name": "LinkModel",
      "state": {
       "_model_module": "@jupyter-widgets/controls",
       "_model_module_version": "2.0.0",
       "_model_name": "LinkModel",
       "_view_count": null,
       "_view_module": "@jupyter-widgets/controls",
       "_view_module_version": "2.0.0",
       "_view_name": null,
       "source": [
        "IPY_MODEL_806a6d3fa8a44589a937f6da175881d6",
        "value"
       ],
       "target": [
        "IPY_MODEL_735c7da5c6bb49b9bbbc0e664f175de4",
        "value"
       ]
      }
     },
     "f98c5ffb2d5045b4af501c02713db7b6": {
      "model_module": "@jupyter-widgets/controls",
      "model_module_version": "2.0.0",
      "model_name": "HBoxModel",
      "state": {
       "_dom_classes": [],
       "_model_module": "@jupyter-widgets/controls",
       "_model_module_version": "2.0.0",
       "_model_name": "HBoxModel",
       "_view_count": null,
       "_view_module": "@jupyter-widgets/controls",
       "_view_module_version": "2.0.0",
       "_view_name": "HBoxView",
       "box_style": "",
       "children": [
        "IPY_MODEL_806a6d3fa8a44589a937f6da175881d6",
        "IPY_MODEL_735c7da5c6bb49b9bbbc0e664f175de4"
       ],
       "layout": "IPY_MODEL_cbf29b4b90774ccfa50e96e3decb24bb",
       "tabbable": null,
       "tooltip": null
      }
     }
    },
    "version_major": 2,
    "version_minor": 0
   }
  }
 },
 "nbformat": 4,
 "nbformat_minor": 4
}
