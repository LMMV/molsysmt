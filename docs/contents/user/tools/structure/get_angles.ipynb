{
 "cells": [
  {
   "cell_type": "code",
   "execution_count": 1,
   "metadata": {
    "execution": {
     "iopub.execute_input": "2025-03-11T21:04:04.182452Z",
     "iopub.status.busy": "2025-03-11T21:04:04.182028Z",
     "iopub.status.idle": "2025-03-11T21:04:04.272118Z",
     "shell.execute_reply": "2025-03-11T21:04:04.271145Z"
    }
   },
   "outputs": [],
   "source": [
    "%load_ext autoreload\n",
    "%autoreload 2"
   ]
  },
  {
   "cell_type": "code",
   "execution_count": 2,
   "metadata": {
    "execution": {
     "iopub.execute_input": "2025-03-11T21:04:04.275756Z",
     "iopub.status.busy": "2025-03-11T21:04:04.275340Z",
     "iopub.status.idle": "2025-03-11T21:04:13.388681Z",
     "shell.execute_reply": "2025-03-11T21:04:13.387625Z"
    }
   },
   "outputs": [
    {
     "data": {
      "application/vnd.jupyter.widget-view+json": {
       "model_id": "8bba0e76356a405e8c65b1aed9ae7257",
       "version_major": 2,
       "version_minor": 0
      },
      "text/plain": []
     },
     "metadata": {},
     "output_type": "display_data"
    }
   ],
   "source": [
    "import molsysmt as msm\n",
    "import numpy as np\n",
    "import matplotlib.pyplot as plt"
   ]
  },
  {
   "cell_type": "markdown",
   "metadata": {},
   "source": [
    "# Get angles"
   ]
  },
  {
   "cell_type": "markdown",
   "metadata": {},
   "source": [
    "## get_angles"
   ]
  },
  {
   "cell_type": "code",
   "execution_count": 3,
   "metadata": {
    "execution": {
     "iopub.execute_input": "2025-03-11T21:04:13.393476Z",
     "iopub.status.busy": "2025-03-11T21:04:13.392071Z",
     "iopub.status.idle": "2025-03-11T21:04:14.720686Z",
     "shell.execute_reply": "2025-03-11T21:04:14.719684Z"
    }
   },
   "outputs": [],
   "source": [
    "molecular_system = msm.systems['pentalanine']['traj_pentalanine.h5']\n",
    "molecular_system = msm.convert(molecular_system, to_form='molsysmt.MolSys')"
   ]
  },
  {
   "cell_type": "code",
   "execution_count": 4,
   "metadata": {
    "execution": {
     "iopub.execute_input": "2025-03-11T21:04:14.726668Z",
     "iopub.status.busy": "2025-03-11T21:04:14.724421Z",
     "iopub.status.idle": "2025-03-11T21:04:17.488129Z",
     "shell.execute_reply": "2025-03-11T21:04:17.487195Z"
    }
   },
   "outputs": [
    {
     "data": {
      "text/html": [
       "<style type=\"text/css\">\n",
       "</style>\n",
       "<table id=\"T_9f4a8\">\n",
       "  <thead>\n",
       "    <tr>\n",
       "      <th id=\"T_9f4a8_level0_col0\" class=\"col_heading level0 col0\" >index</th>\n",
       "      <th id=\"T_9f4a8_level0_col1\" class=\"col_heading level0 col1\" >id</th>\n",
       "      <th id=\"T_9f4a8_level0_col2\" class=\"col_heading level0 col2\" >name</th>\n",
       "      <th id=\"T_9f4a8_level0_col3\" class=\"col_heading level0 col3\" >type</th>\n",
       "      <th id=\"T_9f4a8_level0_col4\" class=\"col_heading level0 col4\" >group index</th>\n",
       "      <th id=\"T_9f4a8_level0_col5\" class=\"col_heading level0 col5\" >group id</th>\n",
       "      <th id=\"T_9f4a8_level0_col6\" class=\"col_heading level0 col6\" >group name</th>\n",
       "      <th id=\"T_9f4a8_level0_col7\" class=\"col_heading level0 col7\" >group type</th>\n",
       "      <th id=\"T_9f4a8_level0_col8\" class=\"col_heading level0 col8\" >component index</th>\n",
       "      <th id=\"T_9f4a8_level0_col9\" class=\"col_heading level0 col9\" >chain index</th>\n",
       "      <th id=\"T_9f4a8_level0_col10\" class=\"col_heading level0 col10\" >molecule index</th>\n",
       "      <th id=\"T_9f4a8_level0_col11\" class=\"col_heading level0 col11\" >molecule type</th>\n",
       "      <th id=\"T_9f4a8_level0_col12\" class=\"col_heading level0 col12\" >entity index</th>\n",
       "      <th id=\"T_9f4a8_level0_col13\" class=\"col_heading level0 col13\" >entity name</th>\n",
       "    </tr>\n",
       "  </thead>\n",
       "  <tbody>\n",
       "    <tr>\n",
       "      <td id=\"T_9f4a8_row0_col0\" class=\"data row0 col0\" >0</td>\n",
       "      <td id=\"T_9f4a8_row0_col1\" class=\"data row0 col1\" >0</td>\n",
       "      <td id=\"T_9f4a8_row0_col2\" class=\"data row0 col2\" >H1</td>\n",
       "      <td id=\"T_9f4a8_row0_col3\" class=\"data row0 col3\" >H</td>\n",
       "      <td id=\"T_9f4a8_row0_col4\" class=\"data row0 col4\" >0</td>\n",
       "      <td id=\"T_9f4a8_row0_col5\" class=\"data row0 col5\" >1</td>\n",
       "      <td id=\"T_9f4a8_row0_col6\" class=\"data row0 col6\" >ACE</td>\n",
       "      <td id=\"T_9f4a8_row0_col7\" class=\"data row0 col7\" >terminal capping</td>\n",
       "      <td id=\"T_9f4a8_row0_col8\" class=\"data row0 col8\" >0</td>\n",
       "      <td id=\"T_9f4a8_row0_col9\" class=\"data row0 col9\" >0</td>\n",
       "      <td id=\"T_9f4a8_row0_col10\" class=\"data row0 col10\" >0</td>\n",
       "      <td id=\"T_9f4a8_row0_col11\" class=\"data row0 col11\" >peptide</td>\n",
       "      <td id=\"T_9f4a8_row0_col12\" class=\"data row0 col12\" >0</td>\n",
       "      <td id=\"T_9f4a8_row0_col13\" class=\"data row0 col13\" >peptide 0</td>\n",
       "    </tr>\n",
       "    <tr>\n",
       "      <td id=\"T_9f4a8_row1_col0\" class=\"data row1 col0\" >1</td>\n",
       "      <td id=\"T_9f4a8_row1_col1\" class=\"data row1 col1\" >1</td>\n",
       "      <td id=\"T_9f4a8_row1_col2\" class=\"data row1 col2\" >CH3</td>\n",
       "      <td id=\"T_9f4a8_row1_col3\" class=\"data row1 col3\" >C</td>\n",
       "      <td id=\"T_9f4a8_row1_col4\" class=\"data row1 col4\" >0</td>\n",
       "      <td id=\"T_9f4a8_row1_col5\" class=\"data row1 col5\" >1</td>\n",
       "      <td id=\"T_9f4a8_row1_col6\" class=\"data row1 col6\" >ACE</td>\n",
       "      <td id=\"T_9f4a8_row1_col7\" class=\"data row1 col7\" >terminal capping</td>\n",
       "      <td id=\"T_9f4a8_row1_col8\" class=\"data row1 col8\" >0</td>\n",
       "      <td id=\"T_9f4a8_row1_col9\" class=\"data row1 col9\" >0</td>\n",
       "      <td id=\"T_9f4a8_row1_col10\" class=\"data row1 col10\" >0</td>\n",
       "      <td id=\"T_9f4a8_row1_col11\" class=\"data row1 col11\" >peptide</td>\n",
       "      <td id=\"T_9f4a8_row1_col12\" class=\"data row1 col12\" >0</td>\n",
       "      <td id=\"T_9f4a8_row1_col13\" class=\"data row1 col13\" >peptide 0</td>\n",
       "    </tr>\n",
       "    <tr>\n",
       "      <td id=\"T_9f4a8_row2_col0\" class=\"data row2 col0\" >2</td>\n",
       "      <td id=\"T_9f4a8_row2_col1\" class=\"data row2 col1\" >2</td>\n",
       "      <td id=\"T_9f4a8_row2_col2\" class=\"data row2 col2\" >H2</td>\n",
       "      <td id=\"T_9f4a8_row2_col3\" class=\"data row2 col3\" >H</td>\n",
       "      <td id=\"T_9f4a8_row2_col4\" class=\"data row2 col4\" >0</td>\n",
       "      <td id=\"T_9f4a8_row2_col5\" class=\"data row2 col5\" >1</td>\n",
       "      <td id=\"T_9f4a8_row2_col6\" class=\"data row2 col6\" >ACE</td>\n",
       "      <td id=\"T_9f4a8_row2_col7\" class=\"data row2 col7\" >terminal capping</td>\n",
       "      <td id=\"T_9f4a8_row2_col8\" class=\"data row2 col8\" >0</td>\n",
       "      <td id=\"T_9f4a8_row2_col9\" class=\"data row2 col9\" >0</td>\n",
       "      <td id=\"T_9f4a8_row2_col10\" class=\"data row2 col10\" >0</td>\n",
       "      <td id=\"T_9f4a8_row2_col11\" class=\"data row2 col11\" >peptide</td>\n",
       "      <td id=\"T_9f4a8_row2_col12\" class=\"data row2 col12\" >0</td>\n",
       "      <td id=\"T_9f4a8_row2_col13\" class=\"data row2 col13\" >peptide 0</td>\n",
       "    </tr>\n",
       "  </tbody>\n",
       "</table>\n"
      ],
      "text/plain": [
       "<pandas.io.formats.style.Styler at 0x7f3943b83890>"
      ]
     },
     "execution_count": 4,
     "metadata": {},
     "output_type": "execute_result"
    }
   ],
   "source": [
    "msm.info(molecular_system, element='atom', selection=[0,1,2])"
   ]
  },
  {
   "cell_type": "code",
   "execution_count": 5,
   "metadata": {
    "execution": {
     "iopub.execute_input": "2025-03-11T21:04:17.491716Z",
     "iopub.status.busy": "2025-03-11T21:04:17.491324Z",
     "iopub.status.idle": "2025-03-11T21:04:17.902692Z",
     "shell.execute_reply": "2025-03-11T21:04:17.901804Z"
    }
   },
   "outputs": [
    {
     "data": {
      "text/plain": [
       "5000"
      ]
     },
     "execution_count": 5,
     "metadata": {},
     "output_type": "execute_result"
    }
   ],
   "source": [
    "msm.get(molecular_system, n_structures=True)"
   ]
  },
  {
   "cell_type": "code",
   "execution_count": 6,
   "metadata": {
    "execution": {
     "iopub.execute_input": "2025-03-11T21:04:17.906720Z",
     "iopub.status.busy": "2025-03-11T21:04:17.906011Z",
     "iopub.status.idle": "2025-03-11T21:04:18.684395Z",
     "shell.execute_reply": "2025-03-11T21:04:18.683485Z"
    }
   },
   "outputs": [],
   "source": [
    "angles = msm.structure.get_angles(molecular_system, [0,1,2])"
   ]
  },
  {
   "cell_type": "code",
   "execution_count": 7,
   "metadata": {
    "execution": {
     "iopub.execute_input": "2025-03-11T21:04:18.688067Z",
     "iopub.status.busy": "2025-03-11T21:04:18.687652Z",
     "iopub.status.idle": "2025-03-11T21:04:18.736594Z",
     "shell.execute_reply": "2025-03-11T21:04:18.735848Z"
    }
   },
   "outputs": [
    {
     "data": {
      "text/plain": [
       "(5000, 1)"
      ]
     },
     "execution_count": 7,
     "metadata": {},
     "output_type": "execute_result"
    }
   ],
   "source": [
    "angles.shape"
   ]
  },
  {
   "cell_type": "code",
   "execution_count": 8,
   "metadata": {
    "execution": {
     "iopub.execute_input": "2025-03-11T21:04:18.739427Z",
     "iopub.status.busy": "2025-03-11T21:04:18.739099Z",
     "iopub.status.idle": "2025-03-11T21:04:19.209168Z",
     "shell.execute_reply": "2025-03-11T21:04:19.208512Z"
    }
   },
   "outputs": [
    {
     "name": "stderr",
     "output_type": "stream",
     "text": [
      "/home/diego/Myopt/miniconda3/envs/MolSysMT@uibcdf_3.12/lib/python3.12/site-packages/matplotlib/cbook.py:1345: UnitStrippedWarning: The unit of the quantity is stripped when downcasting to ndarray.\n",
      "  return np.asarray(x, float)\n"
     ]
    },
    {
     "data": {
      "image/png": "[encoded data removed]",
      "text/plain": [
       "<Figure size 640x480 with 1 Axes>"
      ]
     },
     "metadata": {},
     "output_type": "display_data"
    }
   ],
   "source": [
    "plt.plot(angles[:,0])\n",
    "plt.show()"
   ]
  }
 ],
 "metadata": {
  "kernelspec": {
   "display_name": "Python 3 (ipykernel)",
   "language": "python",
   "name": "python3"
  },
  "language_info": {
   "codemirror_mode": {
    "name": "ipython",
    "version": 3
   },
   "file_extension": ".py",
   "mimetype": "text/x-python",
   "name": "python",
   "nbconvert_exporter": "python",
   "pygments_lexer": "ipython3",
   "version": "3.12.8"
  },
  "widgets": {
   "application/vnd.jupyter.widget-state+json": {
    "state": {
     "133b33d57e534181b9b1e7c1b7a981ad": {
      "model_module": "@jupyter-widgets/base",
      "model_module_version": "2.0.0",
      "model_name": "LayoutModel",
      "state": {
       "_model_module": "@jupyter-widgets/base",
       "_model_module_version": "2.0.0",
       "_model_name": "LayoutModel",
       "_view_count": null,
       "_view_module": "@jupyter-widgets/base",
       "_view_module_version": "2.0.0",
       "_view_name": "LayoutView",
       "align_content": null,
       "align_items": null,
       "align_self": null,
       "border_bottom": null,
       "border_left": null,
       "border_right": null,
       "border_top": null,
       "bottom": null,
       "display": null,
       "flex": null,
       "flex_flow": null,
       "grid_area": null,
       "grid_auto_columns": null,
       "grid_auto_flow": null,
       "grid_auto_rows": null,
       "grid_column": null,
       "grid_gap": null,
       "grid_row": null,
       "grid_template_areas": null,
       "grid_template_columns": null,
       "grid_template_rows": null,
       "height": null,
       "justify_content": null,
       "justify_items": null,
       "left": null,
       "margin": null,
       "max_height": null,
       "max_width": null,
       "min_height": null,
       "min_width": null,
       "object_fit": null,
       "object_position": null,
       "order": null,
       "overflow": null,
       "padding": null,
       "right": null,
       "top": null,
       "visibility": null,
       "width": null
      }
     },
     "8bba0e76356a405e8c65b1aed9ae7257": {
      "model_module": "nglview-js-widgets",
      "model_module_version": "3.1.4",
      "model_name": "ColormakerRegistryModel",
      "state": {
       "_dom_classes": [],
       "_model_module": "nglview-js-widgets",
       "_model_module_version": "3.1.4",
       "_model_name": "ColormakerRegistryModel",
       "_msg_ar": [],
       "_msg_q": [],
       "_ready": false,
       "_view_count": null,
       "_view_module": "nglview-js-widgets",
       "_view_module_version": "3.1.4",
       "_view_name": "ColormakerRegistryView",
       "layout": "IPY_MODEL_133b33d57e534181b9b1e7c1b7a981ad",
       "tabbable": null,
       "tooltip": null
      }
     }
    },
    "version_major": 2,
    "version_minor": 0
   }
  }
 },
 "nbformat": 4,
 "nbformat_minor": 4
}
