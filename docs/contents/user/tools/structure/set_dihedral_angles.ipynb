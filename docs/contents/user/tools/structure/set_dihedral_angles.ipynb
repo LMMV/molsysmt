{
 "cells": [
  {
   "cell_type": "code",
   "execution_count": 1,
   "metadata": {
    "execution": {
     "iopub.execute_input": "2025-03-11T21:04:00.193777Z",
     "iopub.status.busy": "2025-03-11T21:04:00.193387Z",
     "iopub.status.idle": "2025-03-11T21:04:00.227337Z",
     "shell.execute_reply": "2025-03-11T21:04:00.226440Z"
    }
   },
   "outputs": [],
   "source": [
    "%load_ext autoreload\n",
    "%autoreload 2"
   ]
  },
  {
   "cell_type": "code",
   "execution_count": 2,
   "metadata": {
    "execution": {
     "iopub.execute_input": "2025-03-11T21:04:00.230673Z",
     "iopub.status.busy": "2025-03-11T21:04:00.230268Z",
     "iopub.status.idle": "2025-03-11T21:04:08.617003Z",
     "shell.execute_reply": "2025-03-11T21:04:08.616012Z"
    }
   },
   "outputs": [
    {
     "data": {
      "application/vnd.jupyter.widget-view+json": {
       "model_id": "0adb08d476184243988a36eb345d7415",
       "version_major": 2,
       "version_minor": 0
      },
      "text/plain": []
     },
     "metadata": {},
     "output_type": "display_data"
    }
   ],
   "source": [
    "import molsysmt as msm"
   ]
  },
  {
   "cell_type": "markdown",
   "metadata": {},
   "source": [
    "## Set dihedral angles\n",
    "\n",
    "The geometry of a peptide or protein can be changed setting new values to a given dihedral angle (or a set of them). Lets see in the following lines how this can be done with the help of the method `molsysmt.set_dihedral_angles`. First of all a demo molecular system is loaded to play with it:"
   ]
  },
  {
   "cell_type": "code",
   "execution_count": 3,
   "metadata": {
    "execution": {
     "iopub.execute_input": "2025-03-11T21:04:08.621587Z",
     "iopub.status.busy": "2025-03-11T21:04:08.620437Z",
     "iopub.status.idle": "2025-03-11T21:04:09.740936Z",
     "shell.execute_reply": "2025-03-11T21:04:09.740056Z"
    }
   },
   "outputs": [],
   "source": [
    "molecular_system = msm.systems['Met-enkephalin']['met_enkephalin.h5msm']\n",
    "molecular_system = msm.convert(molecular_system)"
   ]
  },
  {
   "cell_type": "code",
   "execution_count": 4,
   "metadata": {
    "execution": {
     "iopub.execute_input": "2025-03-11T21:04:09.744918Z",
     "iopub.status.busy": "2025-03-11T21:04:09.744133Z",
     "iopub.status.idle": "2025-03-11T21:04:12.872357Z",
     "shell.execute_reply": "2025-03-11T21:04:12.871333Z"
    }
   },
   "outputs": [
    {
     "data": {
      "text/html": [
       "<style type=\"text/css\">\n",
       "</style>\n",
       "<table id=\"T_87af8\">\n",
       "  <thead>\n",
       "    <tr>\n",
       "      <th id=\"T_87af8_level0_col0\" class=\"col_heading level0 col0\" >form</th>\n",
       "      <th id=\"T_87af8_level0_col1\" class=\"col_heading level0 col1\" >n_atoms</th>\n",
       "      <th id=\"T_87af8_level0_col2\" class=\"col_heading level0 col2\" >n_groups</th>\n",
       "      <th id=\"T_87af8_level0_col3\" class=\"col_heading level0 col3\" >n_components</th>\n",
       "      <th id=\"T_87af8_level0_col4\" class=\"col_heading level0 col4\" >n_chains</th>\n",
       "      <th id=\"T_87af8_level0_col5\" class=\"col_heading level0 col5\" >n_molecules</th>\n",
       "      <th id=\"T_87af8_level0_col6\" class=\"col_heading level0 col6\" >n_entities</th>\n",
       "      <th id=\"T_87af8_level0_col7\" class=\"col_heading level0 col7\" >n_peptides</th>\n",
       "      <th id=\"T_87af8_level0_col8\" class=\"col_heading level0 col8\" >n_structures</th>\n",
       "    </tr>\n",
       "  </thead>\n",
       "  <tbody>\n",
       "    <tr>\n",
       "      <td id=\"T_87af8_row0_col0\" class=\"data row0 col0\" >molsysmt.MolSys</td>\n",
       "      <td id=\"T_87af8_row0_col1\" class=\"data row0 col1\" >72</td>\n",
       "      <td id=\"T_87af8_row0_col2\" class=\"data row0 col2\" >5</td>\n",
       "      <td id=\"T_87af8_row0_col3\" class=\"data row0 col3\" >1</td>\n",
       "      <td id=\"T_87af8_row0_col4\" class=\"data row0 col4\" >1</td>\n",
       "      <td id=\"T_87af8_row0_col5\" class=\"data row0 col5\" >1</td>\n",
       "      <td id=\"T_87af8_row0_col6\" class=\"data row0 col6\" >1</td>\n",
       "      <td id=\"T_87af8_row0_col7\" class=\"data row0 col7\" >1</td>\n",
       "      <td id=\"T_87af8_row0_col8\" class=\"data row0 col8\" >1</td>\n",
       "    </tr>\n",
       "  </tbody>\n",
       "</table>\n"
      ],
      "text/plain": [
       "<pandas.io.formats.style.Styler at 0x7ff4913fb410>"
      ]
     },
     "execution_count": 4,
     "metadata": {},
     "output_type": "execute_result"
    }
   ],
   "source": [
    "msm.info(molecular_system)"
   ]
  },
  {
   "cell_type": "markdown",
   "metadata": {},
   "source": [
    "Lets get, before changing its value, the second $\\phi$ angle in the current conformation of the system:"
   ]
  },
  {
   "cell_type": "code",
   "execution_count": 5,
   "metadata": {
    "execution": {
     "iopub.execute_input": "2025-03-11T21:04:12.876529Z",
     "iopub.status.busy": "2025-03-11T21:04:12.875929Z",
     "iopub.status.idle": "2025-03-11T21:04:14.525347Z",
     "shell.execute_reply": "2025-03-11T21:04:14.524374Z"
    }
   },
   "outputs": [],
   "source": [
    "phi_chains = msm.topology.get_dihedral_quartets(molecular_system, phi=True)"
   ]
  },
  {
   "cell_type": "code",
   "execution_count": 6,
   "metadata": {
    "execution": {
     "iopub.execute_input": "2025-03-11T21:04:14.529066Z",
     "iopub.status.busy": "2025-03-11T21:04:14.528380Z",
     "iopub.status.idle": "2025-03-11T21:04:15.276215Z",
     "shell.execute_reply": "2025-03-11T21:04:15.275436Z"
    }
   },
   "outputs": [
    {
     "data": {
      "text/html": [
       "<table><tbody><tr><th>Magnitude</th><td style='text-align:left;'><pre>[[-179.99976916196186]]</pre></td></tr><tr><th>Units</th><td style='text-align:left;'>degree</td></tr></tbody></table>"
      ],
      "text/latex": [
       "$\\begin{pmatrix}\\end{pmatrix}\\ \\mathrm{degree}$"
      ],
      "text/plain": [
       "<Quantity([[-179.99976916]], 'degree')>"
      ]
     },
     "execution_count": 6,
     "metadata": {},
     "output_type": "execute_result"
    }
   ],
   "source": [
    "msm.structure.get_dihedral_angles(molecular_system, quartets=phi_chains[2])"
   ]
  },
  {
   "cell_type": "code",
   "execution_count": 7,
   "metadata": {
    "execution": {
     "iopub.execute_input": "2025-03-11T21:04:15.278829Z",
     "iopub.status.busy": "2025-03-11T21:04:15.278430Z",
     "iopub.status.idle": "2025-03-11T21:04:19.400035Z",
     "shell.execute_reply": "2025-03-11T21:04:19.399056Z"
    }
   },
   "outputs": [
    {
     "data": {
      "application/vnd.jupyter.widget-view+json": {
       "model_id": "e5f6ec7622d54d6cb5745823132e52a8",
       "version_major": 2,
       "version_minor": 0
      },
      "text/plain": [
       "NGLWidget()"
      ]
     },
     "metadata": {},
     "output_type": "display_data"
    }
   ],
   "source": [
    "view = msm.view(molecular_system, viewer='NGLView')\n",
    "view.clear()\n",
    "selection_quartet = msm.select(molecular_system, selection=phi_chains[2], to_syntax='NGLView')\n",
    "view.add_ball_and_stick('all', color='white')\n",
    "view.add_ball_and_stick(selection_quartet, color='orange')\n",
    "view"
   ]
  },
  {
   "cell_type": "markdown",
   "metadata": {},
   "source": [
    "Now we can rotate this angle in order to have the desired value:"
   ]
  },
  {
   "cell_type": "code",
   "execution_count": 8,
   "metadata": {
    "execution": {
     "iopub.execute_input": "2025-03-11T21:04:19.403863Z",
     "iopub.status.busy": "2025-03-11T21:04:19.403419Z",
     "iopub.status.idle": "2025-03-11T21:04:21.454341Z",
     "shell.execute_reply": "2025-03-11T21:04:21.453335Z"
    }
   },
   "outputs": [],
   "source": [
    "molecular_system = msm.structure.set_dihedral_angles(molecular_system, quartets=phi_chains[2],\n",
    "                                                     angles='0.0 degrees', pbc=False)"
   ]
  },
  {
   "cell_type": "code",
   "execution_count": 9,
   "metadata": {
    "execution": {
     "iopub.execute_input": "2025-03-11T21:04:21.458256Z",
     "iopub.status.busy": "2025-03-11T21:04:21.457774Z",
     "iopub.status.idle": "2025-03-11T21:04:22.280848Z",
     "shell.execute_reply": "2025-03-11T21:04:22.280030Z"
    }
   },
   "outputs": [
    {
     "data": {
      "text/html": [
       "<table><tbody><tr><th>Magnitude</th><td style='text-align:left;'><pre>[[0.0]]</pre></td></tr><tr><th>Units</th><td style='text-align:left;'>degree</td></tr></tbody></table>"
      ],
      "text/latex": [
       "$\\begin{pmatrix}\\end{pmatrix}\\ \\mathrm{degree}$"
      ],
      "text/plain": [
       "<Quantity([[0.]], 'degree')>"
      ]
     },
     "execution_count": 9,
     "metadata": {},
     "output_type": "execute_result"
    }
   ],
   "source": [
    "msm.structure.get_dihedral_angles(molecular_system, quartets=phi_chains[2])"
   ]
  },
  {
   "cell_type": "code",
   "execution_count": 10,
   "metadata": {
    "execution": {
     "iopub.execute_input": "2025-03-11T21:04:22.284206Z",
     "iopub.status.busy": "2025-03-11T21:04:22.283845Z",
     "iopub.status.idle": "2025-03-11T21:04:25.731921Z",
     "shell.execute_reply": "2025-03-11T21:04:25.731095Z"
    }
   },
   "outputs": [
    {
     "data": {
      "application/vnd.jupyter.widget-view+json": {
       "model_id": "c8cf7575546f4286875a0ebc1be01aa2",
       "version_major": 2,
       "version_minor": 0
      },
      "text/plain": [
       "NGLWidget()"
      ]
     },
     "metadata": {},
     "output_type": "display_data"
    }
   ],
   "source": [
    "view = msm.view(molecular_system, viewer='NGLView')\n",
    "view.clear()\n",
    "selection_quartet = msm.select(molecular_system, selection=phi_chains[2], to_syntax='NGLView')\n",
    "view.add_ball_and_stick('all', color='white')\n",
    "view.add_ball_and_stick(selection_quartet, color='orange')\n",
    "view"
   ]
  }
 ],
 "metadata": {
  "kernelspec": {
   "display_name": "Python 3 (ipykernel)",
   "language": "python",
   "name": "python3"
  },
  "language_info": {
   "codemirror_mode": {
    "name": "ipython",
    "version": 3
   },
   "file_extension": ".py",
   "mimetype": "text/x-python",
   "name": "python",
   "nbconvert_exporter": "python",
   "pygments_lexer": "ipython3",
   "version": "3.12.8"
  },
  "widgets": {
   "application/vnd.jupyter.widget-state+json": {
    "state": {
     "043c58b1c57e41df9667d18dd5693c0f": {
      "model_module": "@jupyter-widgets/controls",
      "model_module_version": "2.0.0",
      "model_name": "HBoxModel",
      "state": {
       "_dom_classes": [],
       "_model_module": "@jupyter-widgets/controls",
       "_model_module_version": "2.0.0",
       "_model_name": "HBoxModel",
       "_view_count": null,
       "_view_module": "@jupyter-widgets/controls",
       "_view_module_version": "2.0.0",
       "_view_name": "HBoxView",
       "box_style": "",
       "children": [
        "IPY_MODEL_5038fc23438c42c99d9c3fae4a0dd948",
        "IPY_MODEL_14891bc0f1f54ec7a7f57a594216c809"
       ],
       "layout": "IPY_MODEL_319b3b6f03ce41d18f4a1819f9d5e6b7",
       "tabbable": null,
       "tooltip": null
      }
     },
     "064c8163121249568b61962f99bd0f33": {
      "model_module": "@jupyter-widgets/controls",
      "model_module_version": "2.0.0",
      "model_name": "LinkModel",
      "state": {
       "_model_module": "@jupyter-widgets/controls",
       "_model_module_version": "2.0.0",
       "_model_name": "LinkModel",
       "_view_count": null,
       "_view_module": "@jupyter-widgets/controls",
       "_view_module_version": "2.0.0",
       "_view_name": null,
       "source": [
        "IPY_MODEL_395f287dc3a74a75ba7bbaabbcb05882",
        "value"
       ],
       "target": [
        "IPY_MODEL_23650be2b19e4f648fd752fbd8f10a5b",
        "value"
       ]
      }
     },
     "0adb08d476184243988a36eb345d7415": {
      "model_module": "nglview-js-widgets",
      "model_module_version": "3.1.4",
      "model_name": "ColormakerRegistryModel",
      "state": {
       "_dom_classes": [],
       "_model_module": "nglview-js-widgets",
       "_model_module_version": "3.1.4",
       "_model_name": "ColormakerRegistryModel",
       "_msg_ar": [],
       "_msg_q": [],
       "_ready": false,
       "_view_count": null,
       "_view_module": "nglview-js-widgets",
       "_view_module_version": "3.1.4",
       "_view_name": "ColormakerRegistryView",
       "layout": "IPY_MODEL_822f57ca32a44c83bcdbb48648ef1fb2",
       "tabbable": null,
       "tooltip": null
      }
     },
     "14891bc0f1f54ec7a7f57a594216c809": {
      "model_module": "@jupyter-widgets/controls",
      "model_module_version": "2.0.0",
      "model_name": "IntSliderModel",
      "state": {
       "_dom_classes": [],
       "_model_module": "@jupyter-widgets/controls",
       "_model_module_version": "2.0.0",
       "_model_name": "IntSliderModel",
       "_view_count": null,
       "_view_module": "@jupyter-widgets/controls",
       "_view_module_version": "2.0.0",
       "_view_name": "IntSliderView",
       "behavior": "drag-tap",
       "continuous_update": true,
       "description": "",
       "description_allow_html": false,
       "disabled": false,
       "layout": "IPY_MODEL_b0848a9a8f094d44ad286cc6f4bd8002",
       "max": 0,
       "min": 0,
       "orientation": "horizontal",
       "readout": true,
       "readout_format": "d",
       "step": 1,
       "style": "IPY_MODEL_4200e752aae347c1ab6e44565217a63a",
       "tabbable": null,
       "tooltip": null,
       "value": 0
      }
     },
     "16be3cea15404dc0aa81617849e64192": {
      "model_module": "@jupyter-widgets/base",
      "model_module_version": "2.0.0",
      "model_name": "LayoutModel",
      "state": {
       "_model_module": "@jupyter-widgets/base",
       "_model_module_version": "2.0.0",
       "_model_name": "LayoutModel",
       "_view_count": null,
       "_view_module": "@jupyter-widgets/base",
       "_view_module_version": "2.0.0",
       "_view_name": "LayoutView",
       "align_content": null,
       "align_items": null,
       "align_self": null,
       "border_bottom": null,
       "border_left": null,
       "border_right": null,
       "border_top": null,
       "bottom": null,
       "display": null,
       "flex": null,
       "flex_flow": null,
       "grid_area": null,
       "grid_auto_columns": null,
       "grid_auto_flow": null,
       "grid_auto_rows": null,
       "grid_column": null,
       "grid_gap": null,
       "grid_row": null,
       "grid_template_areas": null,
       "grid_template_columns": null,
       "grid_template_rows": null,
       "height": null,
       "justify_content": null,
       "justify_items": null,
       "left": null,
       "margin": null,
       "max_height": null,
       "max_width": null,
       "min_height": null,
       "min_width": null,
       "object_fit": null,
       "object_position": null,
       "order": null,
       "overflow": null,
       "padding": null,
       "right": null,
       "top": null,
       "visibility": null,
       "width": "34px"
      }
     },
     "23650be2b19e4f648fd752fbd8f10a5b": {
      "model_module": "@jupyter-widgets/controls",
      "model_module_version": "2.0.0",
      "model_name": "IntSliderModel",
      "state": {
       "_dom_classes": [],
       "_model_module": "@jupyter-widgets/controls",
       "_model_module_version": "2.0.0",
       "_model_name": "IntSliderModel",
       "_view_count": null,
       "_view_module": "@jupyter-widgets/controls",
       "_view_module_version": "2.0.0",
       "_view_name": "IntSliderView",
       "behavior": "drag-tap",
       "continuous_update": true,
       "description": "",
       "description_allow_html": false,
       "disabled": false,
       "layout": "IPY_MODEL_da2d6f5b5971411dbdf6bc1060a1bf8d",
       "max": 0,
       "min": 0,
       "orientation": "horizontal",
       "readout": true,
       "readout_format": "d",
       "step": 1,
       "style": "IPY_MODEL_7909cf80261e4a57967eb49eb53801ca",
       "tabbable": null,
       "tooltip": null,
       "value": 0
      }
     },
     "2d263ca2902c424eae853aabe740032b": {
      "model_module": "@jupyter-widgets/controls",
      "model_module_version": "2.0.0",
      "model_name": "LinkModel",
      "state": {
       "_model_module": "@jupyter-widgets/controls",
       "_model_module_version": "2.0.0",
       "_model_name": "LinkModel",
       "_view_count": null,
       "_view_module": "@jupyter-widgets/controls",
       "_view_module_version": "2.0.0",
       "_view_name": null,
       "source": [
        "IPY_MODEL_23650be2b19e4f648fd752fbd8f10a5b",
        "max"
       ],
       "target": [
        "IPY_MODEL_c8cf7575546f4286875a0ebc1be01aa2",
        "max_frame"
       ]
      }
     },
     "319b3b6f03ce41d18f4a1819f9d5e6b7": {
      "model_module": "@jupyter-widgets/base",
      "model_module_version": "2.0.0",
      "model_name": "LayoutModel",
      "state": {
       "_model_module": "@jupyter-widgets/base",
       "_model_module_version": "2.0.0",
       "_model_name": "LayoutModel",
       "_view_count": null,
       "_view_module": "@jupyter-widgets/base",
       "_view_module_version": "2.0.0",
       "_view_name": "LayoutView",
       "align_content": null,
       "align_items": null,
       "align_self": null,
       "border_bottom": null,
       "border_left": null,
       "border_right": null,
       "border_top": null,
       "bottom": null,
       "display": null,
       "flex": null,
       "flex_flow": null,
       "grid_area": null,
       "grid_auto_columns": null,
       "grid_auto_flow": null,
       "grid_auto_rows": null,
       "grid_column": null,
       "grid_gap": null,
       "grid_row": null,
       "grid_template_areas": null,
       "grid_template_columns": null,
       "grid_template_rows": null,
       "height": null,
       "justify_content": null,
       "justify_items": null,
       "left": null,
       "margin": null,
       "max_height": null,
       "max_width": null,
       "min_height": null,
       "min_width": null,
       "object_fit": null,
       "object_position": null,
       "order": null,
       "overflow": null,
       "padding": null,
       "right": null,
       "top": null,
       "visibility": null,
       "width": null
      }
     },
     "395f287dc3a74a75ba7bbaabbcb05882": {
      "model_module": "@jupyter-widgets/controls",
      "model_module_version": "2.0.0",
      "model_name": "PlayModel",
      "state": {
       "_dom_classes": [],
       "_model_module": "@jupyter-widgets/controls",
       "_model_module_version": "2.0.0",
       "_model_name": "PlayModel",
       "_view_count": null,
       "_view_module": "@jupyter-widgets/controls",
       "_view_module_version": "2.0.0",
       "_view_name": "PlayView",
       "description": "",
       "description_allow_html": false,
       "disabled": false,
       "interval": 100,
       "layout": "IPY_MODEL_3a17e05649964068b71ec93cd41d8333",
       "max": 0,
       "min": 0,
       "playing": false,
       "repeat": false,
       "show_repeat": true,
       "step": 1,
       "style": "IPY_MODEL_58b3101bd36347fe93a1577ff4279497",
       "tabbable": null,
       "tooltip": null,
       "value": 0
      }
     },
     "3a17e05649964068b71ec93cd41d8333": {
      "model_module": "@jupyter-widgets/base",
      "model_module_version": "2.0.0",
      "model_name": "LayoutModel",
      "state": {
       "_model_module": "@jupyter-widgets/base",
       "_model_module_version": "2.0.0",
       "_model_name": "LayoutModel",
       "_view_count": null,
       "_view_module": "@jupyter-widgets/base",
       "_view_module_version": "2.0.0",
       "_view_name": "LayoutView",
       "align_content": null,
       "align_items": null,
       "align_self": null,
       "border_bottom": null,
       "border_left": null,
       "border_right": null,
       "border_top": null,
       "bottom": null,
       "display": null,
       "flex": null,
       "flex_flow": null,
       "grid_area": null,
       "grid_auto_columns": null,
       "grid_auto_flow": null,
       "grid_auto_rows": null,
       "grid_column": null,
       "grid_gap": null,
       "grid_row": null,
       "grid_template_areas": null,
       "grid_template_columns": null,
       "grid_template_rows": null,
       "height": null,
       "justify_content": null,
       "justify_items": null,
       "left": null,
       "margin": null,
       "max_height": null,
       "max_width": null,
       "min_height": null,
       "min_width": null,
       "object_fit": null,
       "object_position": null,
       "order": null,
       "overflow": null,
       "padding": null,
       "right": null,
       "top": null,
       "visibility": null,
       "width": null
      }
     },
     "4200e752aae347c1ab6e44565217a63a": {
      "model_module": "@jupyter-widgets/controls",
      "model_module_version": "2.0.0",
      "model_name": "SliderStyleModel",
      "state": {
       "_model_module": "@jupyter-widgets/controls",
       "_model_module_version": "2.0.0",
       "_model_name": "SliderStyleModel",
       "_view_count": null,
       "_view_module": "@jupyter-widgets/base",
       "_view_module_version": "2.0.0",
       "_view_name": "StyleView",
       "description_width": "",
       "handle_color": null
      }
     },
     "4896b222cac4497386e6fdc7a18d63a7": {
      "model_module": "@jupyter-widgets/controls",
      "model_module_version": "2.0.0",
      "model_name": "LinkModel",
      "state": {
       "_model_module": "@jupyter-widgets/controls",
       "_model_module_version": "2.0.0",
       "_model_name": "LinkModel",
       "_view_count": null,
       "_view_module": "@jupyter-widgets/controls",
       "_view_module_version": "2.0.0",
       "_view_name": null,
       "source": [
        "IPY_MODEL_395f287dc3a74a75ba7bbaabbcb05882",
        "max"
       ],
       "target": [
        "IPY_MODEL_c8cf7575546f4286875a0ebc1be01aa2",
        "max_frame"
       ]
      }
     },
     "5038fc23438c42c99d9c3fae4a0dd948": {
      "model_module": "@jupyter-widgets/controls",
      "model_module_version": "2.0.0",
      "model_name": "PlayModel",
      "state": {
       "_dom_classes": [],
       "_model_module": "@jupyter-widgets/controls",
       "_model_module_version": "2.0.0",
       "_model_name": "PlayModel",
       "_view_count": null,
       "_view_module": "@jupyter-widgets/controls",
       "_view_module_version": "2.0.0",
       "_view_name": "PlayView",
       "description": "",
       "description_allow_html": false,
       "disabled": false,
       "interval": 100,
       "layout": "IPY_MODEL_b8b9affe35104e248a99b51b15c3c196",
       "max": 0,
       "min": 0,
       "playing": false,
       "repeat": false,
       "show_repeat": true,
       "step": 1,
       "style": "IPY_MODEL_5d21c5527f67402b84ffbc61cef34676",
       "tabbable": null,
       "tooltip": null,
       "value": 0
      }
     },
     "58b3101bd36347fe93a1577ff4279497": {
      "model_module": "@jupyter-widgets/controls",
      "model_module_version": "2.0.0",
      "model_name": "DescriptionStyleModel",
      "state": {
       "_model_module": "@jupyter-widgets/controls",
       "_model_module_version": "2.0.0",
       "_model_name": "DescriptionStyleModel",
       "_view_count": null,
       "_view_module": "@jupyter-widgets/base",
       "_view_module_version": "2.0.0",
       "_view_name": "StyleView",
       "description_width": ""
      }
     },
     "59d8636f1b9b44cb8ed55330a38e7d64": {
      "model_module": "@jupyter-widgets/controls",
      "model_module_version": "2.0.0",
      "model_name": "ButtonModel",
      "state": {
       "_dom_classes": [],
       "_model_module": "@jupyter-widgets/controls",
       "_model_module_version": "2.0.0",
       "_model_name": "ButtonModel",
       "_view_count": null,
       "_view_module": "@jupyter-widgets/controls",
       "_view_module_version": "2.0.0",
       "_view_name": "ButtonView",
       "button_style": "",
       "description": "",
       "disabled": false,
       "icon": "compress",
       "layout": "IPY_MODEL_16be3cea15404dc0aa81617849e64192",
       "style": "IPY_MODEL_5d253a6ac72946bbb9bd1051a472b312",
       "tabbable": null,
       "tooltip": null
      }
     },
     "5d21c5527f67402b84ffbc61cef34676": {
      "model_module": "@jupyter-widgets/controls",
      "model_module_version": "2.0.0",
      "model_name": "DescriptionStyleModel",
      "state": {
       "_model_module": "@jupyter-widgets/controls",
       "_model_module_version": "2.0.0",
       "_model_name": "DescriptionStyleModel",
       "_view_count": null,
       "_view_module": "@jupyter-widgets/base",
       "_view_module_version": "2.0.0",
       "_view_name": "StyleView",
       "description_width": ""
      }
     },
     "5d253a6ac72946bbb9bd1051a472b312": {
      "model_module": "@jupyter-widgets/controls",
      "model_module_version": "2.0.0",
      "model_name": "ButtonStyleModel",
      "state": {
       "_model_module": "@jupyter-widgets/controls",
       "_model_module_version": "2.0.0",
       "_model_name": "ButtonStyleModel",
       "_view_count": null,
       "_view_module": "@jupyter-widgets/base",
       "_view_module_version": "2.0.0",
       "_view_name": "StyleView",
       "button_color": null,
       "font_family": null,
       "font_size": null,
       "font_style": null,
       "font_variant": null,
       "font_weight": null,
       "text_color": null,
       "text_decoration": null
      }
     },
     "5e36aba05eed4ab8ab4e4be06ef54fa0": {
      "model_module": "@jupyter-widgets/controls",
      "model_module_version": "2.0.0",
      "model_name": "LinkModel",
      "state": {
       "_model_module": "@jupyter-widgets/controls",
       "_model_module_version": "2.0.0",
       "_model_name": "LinkModel",
       "_view_count": null,
       "_view_module": "@jupyter-widgets/controls",
       "_view_module_version": "2.0.0",
       "_view_name": null,
       "source": [
        "IPY_MODEL_5038fc23438c42c99d9c3fae4a0dd948",
        "value"
       ],
       "target": [
        "IPY_MODEL_14891bc0f1f54ec7a7f57a594216c809",
        "value"
       ]
      }
     },
     "637c66552382409c83240badc4c9f6f3": {
      "buffers": [
       {
        "data": "",
        "encoding": "base64",
        "path": [
         "value"
        ]
       }
      ],
      "model_module": "@jupyter-widgets/controls",
      "model_module_version": "2.0.0",
      "model_name": "ImageModel",
      "state": {
       "_dom_classes": [],
       "_model_module": "@jupyter-widgets/controls",
       "_model_module_version": "2.0.0",
       "_model_name": "ImageModel",
       "_view_count": null,
       "_view_module": "@jupyter-widgets/controls",
       "_view_module_version": "2.0.0",
       "_view_name": "ImageView",
       "format": "png",
       "height": "",
       "layout": "IPY_MODEL_f9580a1fd3704bb08b3b1c865dc62866",
       "tabbable": null,
       "tooltip": null,
       "width": "900.0"
      }
     },
     "650eddf639fa44c4be615149db366227": {
      "model_module": "@jupyter-widgets/controls",
      "model_module_version": "2.0.0",
      "model_name": "ButtonModel",
      "state": {
       "_dom_classes": [],
       "_model_module": "@jupyter-widgets/controls",
       "_model_module_version": "2.0.0",
       "_model_name": "ButtonModel",
       "_view_count": null,
       "_view_module": "@jupyter-widgets/controls",
       "_view_module_version": "2.0.0",
       "_view_name": "ButtonView",
       "button_style": "",
       "description": "",
       "disabled": false,
       "icon": "compress",
       "layout": "IPY_MODEL_dc58f28619fe4c0abc68d85f4ef3de57",
       "style": "IPY_MODEL_a54f18ece83d46238a1b048542d62305",
       "tabbable": null,
       "tooltip": null
      }
     },
     "7909cf80261e4a57967eb49eb53801ca": {
      "model_module": "@jupyter-widgets/controls",
      "model_module_version": "2.0.0",
      "model_name": "SliderStyleModel",
      "state": {
       "_model_module": "@jupyter-widgets/controls",
       "_model_module_version": "2.0.0",
       "_model_name": "SliderStyleModel",
       "_view_count": null,
       "_view_module": "@jupyter-widgets/base",
       "_view_module_version": "2.0.0",
       "_view_name": "StyleView",
       "description_width": "",
       "handle_color": null
      }
     },
     "7ea387ee346343bfac01efb99d87d1f6": {
      "model_module": "@jupyter-widgets/base",
      "model_module_version": "2.0.0",
      "model_name": "LayoutModel",
      "state": {
       "_model_module": "@jupyter-widgets/base",
       "_model_module_version": "2.0.0",
       "_model_name": "LayoutModel",
       "_view_count": null,
       "_view_module": "@jupyter-widgets/base",
       "_view_module_version": "2.0.0",
       "_view_name": "LayoutView",
       "align_content": null,
       "align_items": null,
       "align_self": null,
       "border_bottom": null,
       "border_left": null,
       "border_right": null,
       "border_top": null,
       "bottom": null,
       "display": null,
       "flex": null,
       "flex_flow": null,
       "grid_area": null,
       "grid_auto_columns": null,
       "grid_auto_flow": null,
       "grid_auto_rows": null,
       "grid_column": null,
       "grid_gap": null,
       "grid_row": null,
       "grid_template_areas": null,
       "grid_template_columns": null,
       "grid_template_rows": null,
       "height": null,
       "justify_content": null,
       "justify_items": null,
       "left": null,
       "margin": null,
       "max_height": null,
       "max_width": null,
       "min_height": null,
       "min_width": null,
       "object_fit": null,
       "object_position": null,
       "order": null,
       "overflow": null,
       "padding": null,
       "right": null,
       "top": null,
       "visibility": null,
       "width": null
      }
     },
     "822f57ca32a44c83bcdbb48648ef1fb2": {
      "model_module": "@jupyter-widgets/base",
      "model_module_version": "2.0.0",
      "model_name": "LayoutModel",
      "state": {
       "_model_module": "@jupyter-widgets/base",
       "_model_module_version": "2.0.0",
       "_model_name": "LayoutModel",
       "_view_count": null,
       "_view_module": "@jupyter-widgets/base",
       "_view_module_version": "2.0.0",
       "_view_name": "LayoutView",
       "align_content": null,
       "align_items": null,
       "align_self": null,
       "border_bottom": null,
       "border_left": null,
       "border_right": null,
       "border_top": null,
       "bottom": null,
       "display": null,
       "flex": null,
       "flex_flow": null,
       "grid_area": null,
       "grid_auto_columns": null,
       "grid_auto_flow": null,
       "grid_auto_rows": null,
       "grid_column": null,
       "grid_gap": null,
       "grid_row": null,
       "grid_template_areas": null,
       "grid_template_columns": null,
       "grid_template_rows": null,
       "height": null,
       "justify_content": null,
       "justify_items": null,
       "left": null,
       "margin": null,
       "max_height": null,
       "max_width": null,
       "min_height": null,
       "min_width": null,
       "object_fit": null,
       "object_position": null,
       "order": null,
       "overflow": null,
       "padding": null,
       "right": null,
       "top": null,
       "visibility": null,
       "width": null
      }
     },
     "8a8de488093c4c6f9558a138441094be": {
      "model_module": "@jupyter-widgets/controls",
      "model_module_version": "2.0.0",
      "model_name": "LinkModel",
      "state": {
       "_model_module": "@jupyter-widgets/controls",
       "_model_module_version": "2.0.0",
       "_model_name": "LinkModel",
       "_view_count": null,
       "_view_module": "@jupyter-widgets/controls",
       "_view_module_version": "2.0.0",
       "_view_name": null,
       "source": [
        "IPY_MODEL_5038fc23438c42c99d9c3fae4a0dd948",
        "max"
       ],
       "target": [
        "IPY_MODEL_e5f6ec7622d54d6cb5745823132e52a8",
        "max_frame"
       ]
      }
     },
     "8c59cf60b6ce424a939dfab02d992d91": {
      "model_module": "@jupyter-widgets/base",
      "model_module_version": "2.0.0",
      "model_name": "LayoutModel",
      "state": {
       "_model_module": "@jupyter-widgets/base",
       "_model_module_version": "2.0.0",
       "_model_name": "LayoutModel",
       "_view_count": null,
       "_view_module": "@jupyter-widgets/base",
       "_view_module_version": "2.0.0",
       "_view_name": "LayoutView",
       "align_content": null,
       "align_items": null,
       "align_self": null,
       "border_bottom": null,
       "border_left": null,
       "border_right": null,
       "border_top": null,
       "bottom": null,
       "display": null,
       "flex": null,
       "flex_flow": null,
       "grid_area": null,
       "grid_auto_columns": null,
       "grid_auto_flow": null,
       "grid_auto_rows": null,
       "grid_column": null,
       "grid_gap": null,
       "grid_row": null,
       "grid_template_areas": null,
       "grid_template_columns": null,
       "grid_template_rows": null,
       "height": null,
       "justify_content": null,
       "justify_items": null,
       "left": null,
       "margin": null,
       "max_height": null,
       "max_width": null,
       "min_height": null,
       "min_width": null,
       "object_fit": null,
       "object_position": null,
       "order": null,
       "overflow": null,
       "padding": null,
       "right": null,
       "top": null,
       "visibility": null,
       "width": null
      }
     },
     "a54f18ece83d46238a1b048542d62305": {
      "model_module": "@jupyter-widgets/controls",
      "model_module_version": "2.0.0",
      "model_name": "ButtonStyleModel",
      "state": {
       "_model_module": "@jupyter-widgets/controls",
       "_model_module_version": "2.0.0",
       "_model_name": "ButtonStyleModel",
       "_view_count": null,
       "_view_module": "@jupyter-widgets/base",
       "_view_module_version": "2.0.0",
       "_view_name": "StyleView",
       "button_color": null,
       "font_family": null,
       "font_size": null,
       "font_style": null,
       "font_variant": null,
       "font_weight": null,
       "text_color": null,
       "text_decoration": null
      }
     },
     "a87d155a5b4f4a1180e753b1f760d4bf": {
      "buffers": [
       {
        "data": "",
        "encoding": "base64",
        "path": [
         "value"
        ]
       }
      ],
      "model_module": "@jupyter-widgets/controls",
      "model_module_version": "2.0.0",
      "model_name": "ImageModel",
      "state": {
       "_dom_classes": [],
       "_model_module": "@jupyter-widgets/controls",
       "_model_module_version": "2.0.0",
       "_model_name": "ImageModel",
       "_view_count": null,
       "_view_module": "@jupyter-widgets/controls",
       "_view_module_version": "2.0.0",
       "_view_name": "ImageView",
       "format": "png",
       "height": "",
       "layout": "IPY_MODEL_bf9394dc40d74da6896fbb6edb84bfd3",
       "tabbable": null,
       "tooltip": null,
       "width": "900.0"
      }
     },
     "b0848a9a8f094d44ad286cc6f4bd8002": {
      "model_module": "@jupyter-widgets/base",
      "model_module_version": "2.0.0",
      "model_name": "LayoutModel",
      "state": {
       "_model_module": "@jupyter-widgets/base",
       "_model_module_version": "2.0.0",
       "_model_name": "LayoutModel",
       "_view_count": null,
       "_view_module": "@jupyter-widgets/base",
       "_view_module_version": "2.0.0",
       "_view_name": "LayoutView",
       "align_content": null,
       "align_items": null,
       "align_self": null,
       "border_bottom": null,
       "border_left": null,
       "border_right": null,
       "border_top": null,
       "bottom": null,
       "display": null,
       "flex": null,
       "flex_flow": null,
       "grid_area": null,
       "grid_auto_columns": null,
       "grid_auto_flow": null,
       "grid_auto_rows": null,
       "grid_column": null,
       "grid_gap": null,
       "grid_row": null,
       "grid_template_areas": null,
       "grid_template_columns": null,
       "grid_template_rows": null,
       "height": null,
       "justify_content": null,
       "justify_items": null,
       "left": null,
       "margin": null,
       "max_height": null,
       "max_width": null,
       "min_height": null,
       "min_width": null,
       "object_fit": null,
       "object_position": null,
       "order": null,
       "overflow": null,
       "padding": null,
       "right": null,
       "top": null,
       "visibility": null,
       "width": null
      }
     },
     "b719614305d94f2d8a27478373e2bc25": {
      "model_module": "@jupyter-widgets/controls",
      "model_module_version": "2.0.0",
      "model_name": "LinkModel",
      "state": {
       "_model_module": "@jupyter-widgets/controls",
       "_model_module_version": "2.0.0",
       "_model_name": "LinkModel",
       "_view_count": null,
       "_view_module": "@jupyter-widgets/controls",
       "_view_module_version": "2.0.0",
       "_view_name": null,
       "source": [
        "IPY_MODEL_14891bc0f1f54ec7a7f57a594216c809",
        "max"
       ],
       "target": [
        "IPY_MODEL_e5f6ec7622d54d6cb5745823132e52a8",
        "max_frame"
       ]
      }
     },
     "b8b9affe35104e248a99b51b15c3c196": {
      "model_module": "@jupyter-widgets/base",
      "model_module_version": "2.0.0",
      "model_name": "LayoutModel",
      "state": {
       "_model_module": "@jupyter-widgets/base",
       "_model_module_version": "2.0.0",
       "_model_name": "LayoutModel",
       "_view_count": null,
       "_view_module": "@jupyter-widgets/base",
       "_view_module_version": "2.0.0",
       "_view_name": "LayoutView",
       "align_content": null,
       "align_items": null,
       "align_self": null,
       "border_bottom": null,
       "border_left": null,
       "border_right": null,
       "border_top": null,
       "bottom": null,
       "display": null,
       "flex": null,
       "flex_flow": null,
       "grid_area": null,
       "grid_auto_columns": null,
       "grid_auto_flow": null,
       "grid_auto_rows": null,
       "grid_column": null,
       "grid_gap": null,
       "grid_row": null,
       "grid_template_areas": null,
       "grid_template_columns": null,
       "grid_template_rows": null,
       "height": null,
       "justify_content": null,
       "justify_items": null,
       "left": null,
       "margin": null,
       "max_height": null,
       "max_width": null,
       "min_height": null,
       "min_width": null,
       "object_fit": null,
       "object_position": null,
       "order": null,
       "overflow": null,
       "padding": null,
       "right": null,
       "top": null,
       "visibility": null,
       "width": null
      }
     },
     "b92ca01ae22a4053a80b81a4f7130225": {
      "model_module": "@jupyter-widgets/base",
      "model_module_version": "2.0.0",
      "model_name": "LayoutModel",
      "state": {
       "_model_module": "@jupyter-widgets/base",
       "_model_module_version": "2.0.0",
       "_model_name": "LayoutModel",
       "_view_count": null,
       "_view_module": "@jupyter-widgets/base",
       "_view_module_version": "2.0.0",
       "_view_name": "LayoutView",
       "align_content": null,
       "align_items": null,
       "align_self": null,
       "border_bottom": null,
       "border_left": null,
       "border_right": null,
       "border_top": null,
       "bottom": null,
       "display": null,
       "flex": null,
       "flex_flow": null,
       "grid_area": null,
       "grid_auto_columns": null,
       "grid_auto_flow": null,
       "grid_auto_rows": null,
       "grid_column": null,
       "grid_gap": null,
       "grid_row": null,
       "grid_template_areas": null,
       "grid_template_columns": null,
       "grid_template_rows": null,
       "height": null,
       "justify_content": null,
       "justify_items": null,
       "left": null,
       "margin": null,
       "max_height": null,
       "max_width": null,
       "min_height": null,
       "min_width": null,
       "object_fit": null,
       "object_position": null,
       "order": null,
       "overflow": null,
       "padding": null,
       "right": null,
       "top": null,
       "visibility": null,
       "width": null
      }
     },
     "bf9394dc40d74da6896fbb6edb84bfd3": {
      "model_module": "@jupyter-widgets/base",
      "model_module_version": "2.0.0",
      "model_name": "LayoutModel",
      "state": {
       "_model_module": "@jupyter-widgets/base",
       "_model_module_version": "2.0.0",
       "_model_name": "LayoutModel",
       "_view_count": null,
       "_view_module": "@jupyter-widgets/base",
       "_view_module_version": "2.0.0",
       "_view_name": "LayoutView",
       "align_content": null,
       "align_items": null,
       "align_self": null,
       "border_bottom": null,
       "border_left": null,
       "border_right": null,
       "border_top": null,
       "bottom": null,
       "display": null,
       "flex": null,
       "flex_flow": null,
       "grid_area": null,
       "grid_auto_columns": null,
       "grid_auto_flow": null,
       "grid_auto_rows": null,
       "grid_column": null,
       "grid_gap": null,
       "grid_row": null,
       "grid_template_areas": null,
       "grid_template_columns": null,
       "grid_template_rows": null,
       "height": null,
       "justify_content": null,
       "justify_items": null,
       "left": null,
       "margin": null,
       "max_height": null,
       "max_width": null,
       "min_height": null,
       "min_width": null,
       "object_fit": null,
       "object_position": null,
       "order": null,
       "overflow": null,
       "padding": null,
       "right": null,
       "top": null,
       "visibility": null,
       "width": null
      }
     },
     "c8cf7575546f4286875a0ebc1be01aa2": {
      "model_module": "nglview-js-widgets",
      "model_module_version": "3.1.4",
      "model_name": "NGLModel",
      "state": {
       "_camera_orientation": [],
       "_camera_str": "orthographic",
       "_dom_classes": [],
       "_gui_theme": null,
       "_ibtn_fullscreen": "IPY_MODEL_650eddf639fa44c4be615149db366227",
       "_igui": null,
       "_iplayer": "IPY_MODEL_ff30d4f8fef2439da795fe8f7fcad2af",
       "_model_module": "nglview-js-widgets",
       "_model_module_version": "3.1.4",
       "_model_name": "NGLModel",
       "_ngl_color_dict": {},
       "_ngl_coordinate_resource": {},
       "_ngl_full_stage_parameters": {},
       "_ngl_msg_archive": [
        {
         "args": [
          {
           "binary": false,
           "data": "HEADER    MOLECULAR SYSTEM                        11-MAR-25       \nREMARK   1 Created by MolSysMT version 1.0 on 11-MAR-2025 at 15:04:22\nATOM      1 N    TYR A   1       3.326   1.548  -0.000  0.00  0.00           N\nATOM      2 H    TYR A   1       3.909   0.724  -0.000  0.00  0.00           H\nATOM      3 CA   TYR A   1       3.970   2.846  -0.000  0.00  0.00           C\nATOM      4 HA   TYR A   1       3.672   3.400  -0.890  0.00  0.00           H\nATOM      5 CB   TYR A   1       3.577   3.654   1.232  0.00  0.00           C\nATOM      6 HB2  TYR A   1       2.497   3.801   1.241  0.00  0.00           H\nATOM      7 HB3  TYR A   1       3.877   3.116   2.131  0.00  0.00           H\nATOM      8 CG   TYR A   1       4.267   4.996   1.195  0.00  0.00           C\nATOM      9 CD1  TYR A   1       4.060   5.919   2.227  0.00  0.00           C\nATOM     10 HD1  TYR A   1       3.400   5.668   3.058  0.00  0.00           H\nATOM     11 CE1  TYR A   1       4.700   7.164   2.193  0.00  0.00           C\nATOM     12 HE1  TYR A   1       4.539   7.882   2.997  0.00  0.00           H\nATOM     13 CZ   TYR A   1       5.547   7.486   1.126  0.00  0.00           C\nATOM     14 OH   TYR A   1       6.169   8.695   1.092  0.00  0.00           O\nATOM     15 HH   TYR A   1       5.956   9.247   1.848  0.00  0.00           H\nATOM     16 CE2  TYR A   1       5.755   6.563   0.094  0.00  0.00           C\nATOM     17 HE2  TYR A   1       6.415   6.814  -0.737  0.00  0.00           H\nATOM     18 CD2  TYR A   1       5.115   5.318   0.128  0.00  0.00           C\nATOM     19 HD2  TYR A   1       5.276   4.600  -0.676  0.00  0.00           H\nATOM     20 C    TYR A   1       5.486   2.705  -0.000  0.00  0.00           C\nATOM     21 O    TYR A   1       6.009   1.593  -0.000  0.00  0.00           O\nATOM     22 N    GLY A   2       6.191   3.839  -0.000  0.00  0.00           N\nATOM     23 H    GLY A   2       5.715   4.730  -0.000  0.00  0.00           H\nATOM     24 CA   GLY A   2       7.640   3.839  -0.000  0.00  0.00           C\nATOM     25 HA2  GLY A   2       8.004   3.325   0.890  0.00  0.00           H\nATOM     26 HA3  GLY A   2       8.004   3.325  -0.890  0.00  0.00           H\nATOM     27 C    GLY A   2       8.171   5.265  -0.000  0.00  0.00           C\nATOM     28 O    GLY A   2       7.395   6.219   0.000  0.00  0.00           O\nATOM     29 N    GLY A   3       9.498   5.409  -0.000  0.00  0.00           N\nATOM     30 H    GLY A   3      10.094   4.594  -0.000  0.00  0.00           H\nATOM     31 CA   GLY A   3      10.126   6.715   0.000  0.00  0.00           C\nATOM     32 HA2  GLY A   3       9.821   7.266  -0.890  0.00  0.00           H\nATOM     33 HA3  GLY A   3       9.821   7.266   0.890  0.00  0.00           H\nATOM     34 C    GLY A   3      11.642   6.574  -0.000  0.00  0.00           C\nATOM     35 O    GLY A   3      12.165   5.462  -0.000  0.00  0.00           O\nATOM     36 N    PHE A   4      12.347   7.708  -0.000  0.00  0.00           N\nATOM     37 H    PHE A   4      11.871   8.599   0.000  0.00  0.00           H\nATOM     38 CA   PHE A   4      13.796   7.708  -0.000  0.00  0.00           C\nATOM     39 HA   PHE A   4      14.160   8.221  -0.890  0.00  0.00           H\nATOM     40 CB   PHE A   4      14.345   8.419   1.232  0.00  0.00           C\nATOM     41 HB2  PHE A   4      13.997   9.452   1.241  0.00  0.00           H\nATOM     42 HB3  PHE A   4      13.997   7.911   2.131  0.00  0.00           H\nATOM     43 CG   PHE A   4      15.852   8.470   1.321  0.00  0.00           C\nATOM     44 CD1  PHE A   4      16.467   9.099   2.410  0.00  0.00           C\nATOM     45 HD1  PHE A   4      15.860   9.551   3.193  0.00  0.00           H\nATOM     46 CE1  PHE A   4      17.864   9.147   2.492  0.00  0.00           C\nATOM     47 HE1  PHE A   4      18.344   9.636   3.340  0.00  0.00           H\nATOM     48 CZ   PHE A   4      18.645   8.566   1.486  0.00  0.00           C\nATOM     49 HZ   PHE A   4      19.733   8.603   1.550  0.00  0.00           H\nATOM     50 CE2  PHE A   4      18.029   7.937   0.397  0.00  0.00           C\nATOM     51 HE2  PHE A   4      18.637   7.485  -0.386  0.00  0.00           H\nATOM     52 CD2  PHE A   4      16.632   7.889   0.315  0.00  0.00           C\nATOM     53 HD2  PHE A   4      16.153   7.400  -0.533  0.00  0.00           H\nATOM     54 C    PHE A   4      14.344   6.288  -0.000  0.00  0.00           C\nATOM     55 O    PHE A   4      13.581   5.325  -0.000  0.00  0.00           O\nATOM     56 N    MET A   5      15.673   6.160  -0.000  0.00  0.00           N\nATOM     57 H    MET A   5      16.259   6.982  -0.000  0.00  0.00           H\nATOM     58 CA   MET A   5      16.317   4.862  -0.000  0.00  0.00           C\nATOM     59 HA   MET A   5      16.019   4.308   0.890  0.00  0.00           H\nATOM     60 CB   MET A   5      15.924   4.054  -1.232  0.00  0.00           C\nATOM     61 HB2  MET A   5      14.844   3.907  -1.241  0.00  0.00           H\nATOM     62 HB3  MET A   5      16.225   4.592  -2.131  0.00  0.00           H\nATOM     63 CG   MET A   5      16.621   2.698  -1.195  0.00  0.00           C\nATOM     64 HG2  MET A   5      17.701   2.845  -1.186  0.00  0.00           H\nATOM     65 HG3  MET A   5      16.321   2.159  -0.296  0.00  0.00           H\nATOM     66 SD   MET A   5      16.164   1.726  -2.652  0.00  0.00           S\nATOM     67 CE   MET A   5      17.100   0.245  -2.341  0.00  0.00           C\nATOM     68 HE1  MET A   5      16.781  -0.196  -1.397  0.00  0.00           H\nATOM     69 HE2  MET A   5      16.933  -0.468  -3.149  0.00  0.00           H\nATOM     70 HE3  MET A   5      18.161   0.489  -2.287  0.00  0.00           H\nATOM     71 C    MET A   5      17.833   5.003  -0.000  0.00  0.00           C\nATOM     72 O    MET A   5      18.356   6.115  -0.000  0.00  0.00           O\nEND\n",
           "type": "blob"
          }
         ],
         "kwargs": {
          "defaultRepresentation": true,
          "ext": "pdb",
          "name": "nglview.adaptor.MolSysMTTrajectory",
          "skipDigestion": true
         },
         "methodName": "loadFile",
         "reconstruc_color_scheme": false,
         "target": "Stage",
         "type": "call_method"
        },
        {
         "args": [],
         "component_index": 0,
         "kwargs": {},
         "methodName": "removeAllRepresentations",
         "reconstruc_color_scheme": false,
         "target": "compList",
         "type": "call_method"
        },
        {
         "args": [
          "cartoon"
         ],
         "component_index": 0,
         "kwargs": {
          "sele": "@"
         },
         "methodName": "addRepresentation",
         "reconstruc_color_scheme": false,
         "target": "compList",
         "type": "call_method"
        },
        {
         "args": [
          "cartoon"
         ],
         "component_index": 0,
         "kwargs": {
          "sele": "@"
         },
         "methodName": "addRepresentation",
         "reconstruc_color_scheme": false,
         "target": "compList",
         "type": "call_method"
        },
        {
         "args": [
          "licorice"
         ],
         "component_index": 0,
         "kwargs": {
          "radius": 0.4,
          "sele": "@"
         },
         "methodName": "addRepresentation",
         "reconstruc_color_scheme": false,
         "target": "compList",
         "type": "call_method"
        },
        {
         "args": [
          "licorice"
         ],
         "component_index": 0,
         "kwargs": {
          "radius": 0.4,
          "sele": "@0,1,2,3,4,5,6,7,8,9,10,11,12,13,14,15,16,17,18,19,20,21,22,23,24,25,26,27,28,29,30,31,32,33,34,35,36,37,38,39,40,41,42,43,44,45,46,47,48,49,50,51,52,53,54,55,56,57,58,59,60,61,62,63,64,65,66,67,68,69,70,71"
         },
         "methodName": "addRepresentation",
         "reconstruc_color_scheme": false,
         "target": "compList",
         "type": "call_method"
        },
        {
         "args": [
          "ball+stick"
         ],
         "component_index": 0,
         "kwargs": {
          "sele": "@"
         },
         "methodName": "addRepresentation",
         "reconstruc_color_scheme": false,
         "target": "compList",
         "type": "call_method"
        },
        {
         "args": [],
         "component_index": 0,
         "kwargs": {},
         "methodName": "removeAllRepresentations",
         "reconstruc_color_scheme": false,
         "target": "compList",
         "type": "call_method"
        },
        {
         "args": [
          "ball+stick"
         ],
         "component_index": 0,
         "kwargs": {
          "color": "white",
          "sele": "all"
         },
         "methodName": "addRepresentation",
         "reconstruc_color_scheme": false,
         "target": "compList",
         "type": "call_method"
        },
        {
         "args": [
          "ball+stick"
         ],
         "component_index": 0,
         "kwargs": {
          "color": "orange",
          "sele": "@33,35,37,53"
         },
         "methodName": "addRepresentation",
         "reconstruc_color_scheme": false,
         "target": "compList",
         "type": "call_method"
        }
       ],
       "_ngl_original_stage_parameters": {},
       "_ngl_repr_dict": {},
       "_ngl_serialize": false,
       "_ngl_version": "",
       "_ngl_view_id": [],
       "_player_dict": {},
       "_scene_position": {},
       "_scene_rotation": {},
       "_synced_model_ids": [],
       "_synced_repr_model_ids": [],
       "_view_count": null,
       "_view_height": "",
       "_view_module": "nglview-js-widgets",
       "_view_module_version": "3.1.4",
       "_view_name": "NGLView",
       "_view_width": "",
       "background": "white",
       "frame": 0,
       "gui_style": null,
       "layout": "IPY_MODEL_7ea387ee346343bfac01efb99d87d1f6",
       "max_frame": 0,
       "n_components": 0,
       "picked": {},
       "tabbable": null,
       "tooltip": null
      }
     },
     "da2d6f5b5971411dbdf6bc1060a1bf8d": {
      "model_module": "@jupyter-widgets/base",
      "model_module_version": "2.0.0",
      "model_name": "LayoutModel",
      "state": {
       "_model_module": "@jupyter-widgets/base",
       "_model_module_version": "2.0.0",
       "_model_name": "LayoutModel",
       "_view_count": null,
       "_view_module": "@jupyter-widgets/base",
       "_view_module_version": "2.0.0",
       "_view_name": "LayoutView",
       "align_content": null,
       "align_items": null,
       "align_self": null,
       "border_bottom": null,
       "border_left": null,
       "border_right": null,
       "border_top": null,
       "bottom": null,
       "display": null,
       "flex": null,
       "flex_flow": null,
       "grid_area": null,
       "grid_auto_columns": null,
       "grid_auto_flow": null,
       "grid_auto_rows": null,
       "grid_column": null,
       "grid_gap": null,
       "grid_row": null,
       "grid_template_areas": null,
       "grid_template_columns": null,
       "grid_template_rows": null,
       "height": null,
       "justify_content": null,
       "justify_items": null,
       "left": null,
       "margin": null,
       "max_height": null,
       "max_width": null,
       "min_height": null,
       "min_width": null,
       "object_fit": null,
       "object_position": null,
       "order": null,
       "overflow": null,
       "padding": null,
       "right": null,
       "top": null,
       "visibility": null,
       "width": null
      }
     },
     "dc58f28619fe4c0abc68d85f4ef3de57": {
      "model_module": "@jupyter-widgets/base",
      "model_module_version": "2.0.0",
      "model_name": "LayoutModel",
      "state": {
       "_model_module": "@jupyter-widgets/base",
       "_model_module_version": "2.0.0",
       "_model_name": "LayoutModel",
       "_view_count": null,
       "_view_module": "@jupyter-widgets/base",
       "_view_module_version": "2.0.0",
       "_view_name": "LayoutView",
       "align_content": null,
       "align_items": null,
       "align_self": null,
       "border_bottom": null,
       "border_left": null,
       "border_right": null,
       "border_top": null,
       "bottom": null,
       "display": null,
       "flex": null,
       "flex_flow": null,
       "grid_area": null,
       "grid_auto_columns": null,
       "grid_auto_flow": null,
       "grid_auto_rows": null,
       "grid_column": null,
       "grid_gap": null,
       "grid_row": null,
       "grid_template_areas": null,
       "grid_template_columns": null,
       "grid_template_rows": null,
       "height": null,
       "justify_content": null,
       "justify_items": null,
       "left": null,
       "margin": null,
       "max_height": null,
       "max_width": null,
       "min_height": null,
       "min_width": null,
       "object_fit": null,
       "object_position": null,
       "order": null,
       "overflow": null,
       "padding": null,
       "right": null,
       "top": null,
       "visibility": null,
       "width": "34px"
      }
     },
     "e3e238cf79e946cb86a8c544cbe11897": {
      "model_module": "@jupyter-widgets/controls",
      "model_module_version": "2.0.0",
      "model_name": "LinkModel",
      "state": {
       "_model_module": "@jupyter-widgets/controls",
       "_model_module_version": "2.0.0",
       "_model_name": "LinkModel",
       "_view_count": null,
       "_view_module": "@jupyter-widgets/controls",
       "_view_module_version": "2.0.0",
       "_view_name": null,
       "source": [
        "IPY_MODEL_395f287dc3a74a75ba7bbaabbcb05882",
        "value"
       ],
       "target": [
        "IPY_MODEL_c8cf7575546f4286875a0ebc1be01aa2",
        "frame"
       ]
      }
     },
     "e5f6ec7622d54d6cb5745823132e52a8": {
      "model_module": "nglview-js-widgets",
      "model_module_version": "3.1.4",
      "model_name": "NGLModel",
      "state": {
       "_camera_orientation": [],
       "_camera_str": "orthographic",
       "_dom_classes": [],
       "_gui_theme": null,
       "_ibtn_fullscreen": "IPY_MODEL_59d8636f1b9b44cb8ed55330a38e7d64",
       "_igui": null,
       "_iplayer": "IPY_MODEL_043c58b1c57e41df9667d18dd5693c0f",
       "_model_module": "nglview-js-widgets",
       "_model_module_version": "3.1.4",
       "_model_name": "NGLModel",
       "_ngl_color_dict": {},
       "_ngl_coordinate_resource": {},
       "_ngl_full_stage_parameters": {},
       "_ngl_msg_archive": [
        {
         "args": [
          {
           "binary": false,
           "data": "HEADER    MOLECULAR SYSTEM                        11-MAR-25       \nREMARK   1 Created by MolSysMT version 1.0 on 11-MAR-2025 at 15:04:15\nATOM      1 N    TYR A   1       3.326   1.548  -0.000  0.00  0.00           N\nATOM      2 H    TYR A   1       3.909   0.724  -0.000  0.00  0.00           H\nATOM      3 CA   TYR A   1       3.970   2.846  -0.000  0.00  0.00           C\nATOM      4 HA   TYR A   1       3.672   3.400  -0.890  0.00  0.00           H\nATOM      5 CB   TYR A   1       3.577   3.654   1.232  0.00  0.00           C\nATOM      6 HB2  TYR A   1       2.497   3.801   1.241  0.00  0.00           H\nATOM      7 HB3  TYR A   1       3.877   3.116   2.131  0.00  0.00           H\nATOM      8 CG   TYR A   1       4.267   4.996   1.195  0.00  0.00           C\nATOM      9 CD1  TYR A   1       4.060   5.919   2.227  0.00  0.00           C\nATOM     10 HD1  TYR A   1       3.400   5.668   3.058  0.00  0.00           H\nATOM     11 CE1  TYR A   1       4.700   7.164   2.193  0.00  0.00           C\nATOM     12 HE1  TYR A   1       4.539   7.882   2.997  0.00  0.00           H\nATOM     13 CZ   TYR A   1       5.547   7.486   1.126  0.00  0.00           C\nATOM     14 OH   TYR A   1       6.169   8.695   1.092  0.00  0.00           O\nATOM     15 HH   TYR A   1       5.956   9.247   1.848  0.00  0.00           H\nATOM     16 CE2  TYR A   1       5.755   6.563   0.094  0.00  0.00           C\nATOM     17 HE2  TYR A   1       6.415   6.814  -0.737  0.00  0.00           H\nATOM     18 CD2  TYR A   1       5.115   5.318   0.128  0.00  0.00           C\nATOM     19 HD2  TYR A   1       5.276   4.600  -0.676  0.00  0.00           H\nATOM     20 C    TYR A   1       5.486   2.705  -0.000  0.00  0.00           C\nATOM     21 O    TYR A   1       6.009   1.593  -0.000  0.00  0.00           O\nATOM     22 N    GLY A   2       6.191   3.839  -0.000  0.00  0.00           N\nATOM     23 H    GLY A   2       5.715   4.730  -0.000  0.00  0.00           H\nATOM     24 CA   GLY A   2       7.640   3.839  -0.000  0.00  0.00           C\nATOM     25 HA2  GLY A   2       8.004   3.325   0.890  0.00  0.00           H\nATOM     26 HA3  GLY A   2       8.004   3.325  -0.890  0.00  0.00           H\nATOM     27 C    GLY A   2       8.171   5.265  -0.000  0.00  0.00           C\nATOM     28 O    GLY A   2       7.395   6.219   0.000  0.00  0.00           O\nATOM     29 N    GLY A   3       9.498   5.409  -0.000  0.00  0.00           N\nATOM     30 H    GLY A   3      10.094   4.594  -0.000  0.00  0.00           H\nATOM     31 CA   GLY A   3      10.126   6.715   0.000  0.00  0.00           C\nATOM     32 HA2  GLY A   3       9.821   7.266  -0.890  0.00  0.00           H\nATOM     33 HA3  GLY A   3       9.821   7.266   0.890  0.00  0.00           H\nATOM     34 C    GLY A   3      11.642   6.574  -0.000  0.00  0.00           C\nATOM     35 O    GLY A   3      12.165   5.462  -0.000  0.00  0.00           O\nATOM     36 N    PHE A   4      12.347   7.708  -0.000  0.00  0.00           N\nATOM     37 H    PHE A   4      11.871   8.599   0.000  0.00  0.00           H\nATOM     38 CA   PHE A   4      13.796   7.708  -0.000  0.00  0.00           C\nATOM     39 HA   PHE A   4      14.160   7.194   0.890  0.00  0.00           H\nATOM     40 CB   PHE A   4      14.345   6.996  -1.232  0.00  0.00           C\nATOM     41 HB2  PHE A   4      13.997   5.964  -1.241  0.00  0.00           H\nATOM     42 HB3  PHE A   4      13.997   7.505  -2.131  0.00  0.00           H\nATOM     43 CG   PHE A   4      15.852   6.945  -1.321  0.00  0.00           C\nATOM     44 CD1  PHE A   4      16.467   6.316  -2.410  0.00  0.00           C\nATOM     45 HD1  PHE A   4      15.860   5.864  -3.193  0.00  0.00           H\nATOM     46 CE1  PHE A   4      17.864   6.269  -2.492  0.00  0.00           C\nATOM     47 HE1  PHE A   4      18.344   5.779  -3.340  0.00  0.00           H\nATOM     48 CZ   PHE A   4      18.645   6.850  -1.486  0.00  0.00           C\nATOM     49 HZ   PHE A   4      19.733   6.813  -1.550  0.00  0.00           H\nATOM     50 CE2  PHE A   4      18.029   7.478  -0.397  0.00  0.00           C\nATOM     51 HE2  PHE A   4      18.637   7.931   0.386  0.00  0.00           H\nATOM     52 CD2  PHE A   4      16.632   7.526  -0.315  0.00  0.00           C\nATOM     53 HD2  PHE A   4      16.153   8.015   0.533  0.00  0.00           H\nATOM     54 C    PHE A   4      14.344   9.128  -0.000  0.00  0.00           C\nATOM     55 O    PHE A   4      13.581  10.091   0.000  0.00  0.00           O\nATOM     56 N    MET A   5      15.673   9.256  -0.000  0.00  0.00           N\nATOM     57 H    MET A   5      16.259   8.433  -0.000  0.00  0.00           H\nATOM     58 CA   MET A   5      16.317  10.554   0.000  0.00  0.00           C\nATOM     59 HA   MET A   5      16.019  11.108  -0.890  0.00  0.00           H\nATOM     60 CB   MET A   5      15.924  11.362   1.232  0.00  0.00           C\nATOM     61 HB2  MET A   5      14.844  11.509   1.241  0.00  0.00           H\nATOM     62 HB3  MET A   5      16.225  10.824   2.131  0.00  0.00           H\nATOM     63 CG   MET A   5      16.621  12.717   1.195  0.00  0.00           C\nATOM     64 HG2  MET A   5      17.701  12.571   1.186  0.00  0.00           H\nATOM     65 HG3  MET A   5      16.321  13.256   0.296  0.00  0.00           H\nATOM     66 SD   MET A   5      16.164  13.689   2.652  0.00  0.00           S\nATOM     67 CE   MET A   5      17.100  15.171   2.341  0.00  0.00           C\nATOM     68 HE1  MET A   5      16.781  15.612   1.397  0.00  0.00           H\nATOM     69 HE2  MET A   5      16.933  15.883   3.149  0.00  0.00           H\nATOM     70 HE3  MET A   5      18.161  14.927   2.287  0.00  0.00           H\nATOM     71 C    MET A   5      17.833  10.413  -0.000  0.00  0.00           C\nATOM     72 O    MET A   5      18.356   9.301  -0.000  0.00  0.00           O\nEND\n",
           "type": "blob"
          }
         ],
         "kwargs": {
          "defaultRepresentation": true,
          "ext": "pdb",
          "name": "nglview.adaptor.MolSysMTTrajectory",
          "skipDigestion": true
         },
         "methodName": "loadFile",
         "reconstruc_color_scheme": false,
         "target": "Stage",
         "type": "call_method"
        },
        {
         "args": [],
         "component_index": 0,
         "kwargs": {},
         "methodName": "removeAllRepresentations",
         "reconstruc_color_scheme": false,
         "target": "compList",
         "type": "call_method"
        },
        {
         "args": [
          "cartoon"
         ],
         "component_index": 0,
         "kwargs": {
          "sele": "@"
         },
         "methodName": "addRepresentation",
         "reconstruc_color_scheme": false,
         "target": "compList",
         "type": "call_method"
        },
        {
         "args": [
          "cartoon"
         ],
         "component_index": 0,
         "kwargs": {
          "sele": "@"
         },
         "methodName": "addRepresentation",
         "reconstruc_color_scheme": false,
         "target": "compList",
         "type": "call_method"
        },
        {
         "args": [
          "licorice"
         ],
         "component_index": 0,
         "kwargs": {
          "radius": 0.4,
          "sele": "@"
         },
         "methodName": "addRepresentation",
         "reconstruc_color_scheme": false,
         "target": "compList",
         "type": "call_method"
        },
        {
         "args": [
          "licorice"
         ],
         "component_index": 0,
         "kwargs": {
          "radius": 0.4,
          "sele": "@0,1,2,3,4,5,6,7,8,9,10,11,12,13,14,15,16,17,18,19,20,21,22,23,24,25,26,27,28,29,30,31,32,33,34,35,36,37,38,39,40,41,42,43,44,45,46,47,48,49,50,51,52,53,54,55,56,57,58,59,60,61,62,63,64,65,66,67,68,69,70,71"
         },
         "methodName": "addRepresentation",
         "reconstruc_color_scheme": false,
         "target": "compList",
         "type": "call_method"
        },
        {
         "args": [
          "ball+stick"
         ],
         "component_index": 0,
         "kwargs": {
          "sele": "@"
         },
         "methodName": "addRepresentation",
         "reconstruc_color_scheme": false,
         "target": "compList",
         "type": "call_method"
        },
        {
         "args": [],
         "component_index": 0,
         "kwargs": {},
         "methodName": "removeAllRepresentations",
         "reconstruc_color_scheme": false,
         "target": "compList",
         "type": "call_method"
        },
        {
         "args": [
          "ball+stick"
         ],
         "component_index": 0,
         "kwargs": {
          "color": "white",
          "sele": "all"
         },
         "methodName": "addRepresentation",
         "reconstruc_color_scheme": false,
         "target": "compList",
         "type": "call_method"
        },
        {
         "args": [
          "ball+stick"
         ],
         "component_index": 0,
         "kwargs": {
          "color": "orange",
          "sele": "@33,35,37,53"
         },
         "methodName": "addRepresentation",
         "reconstruc_color_scheme": false,
         "target": "compList",
         "type": "call_method"
        }
       ],
       "_ngl_original_stage_parameters": {},
       "_ngl_repr_dict": {},
       "_ngl_serialize": false,
       "_ngl_version": "",
       "_ngl_view_id": [],
       "_player_dict": {},
       "_scene_position": {},
       "_scene_rotation": {},
       "_synced_model_ids": [],
       "_synced_repr_model_ids": [],
       "_view_count": null,
       "_view_height": "",
       "_view_module": "nglview-js-widgets",
       "_view_module_version": "3.1.4",
       "_view_name": "NGLView",
       "_view_width": "",
       "background": "white",
       "frame": 0,
       "gui_style": null,
       "layout": "IPY_MODEL_b92ca01ae22a4053a80b81a4f7130225",
       "max_frame": 0,
       "n_components": 0,
       "picked": {},
       "tabbable": null,
       "tooltip": null
      }
     },
     "eedaae3430de4335b5b3289c0f89450a": {
      "model_module": "@jupyter-widgets/controls",
      "model_module_version": "2.0.0",
      "model_name": "LinkModel",
      "state": {
       "_model_module": "@jupyter-widgets/controls",
       "_model_module_version": "2.0.0",
       "_model_name": "LinkModel",
       "_view_count": null,
       "_view_module": "@jupyter-widgets/controls",
       "_view_module_version": "2.0.0",
       "_view_name": null,
       "source": [
        "IPY_MODEL_5038fc23438c42c99d9c3fae4a0dd948",
        "value"
       ],
       "target": [
        "IPY_MODEL_e5f6ec7622d54d6cb5745823132e52a8",
        "frame"
       ]
      }
     },
     "f9580a1fd3704bb08b3b1c865dc62866": {
      "model_module": "@jupyter-widgets/base",
      "model_module_version": "2.0.0",
      "model_name": "LayoutModel",
      "state": {
       "_model_module": "@jupyter-widgets/base",
       "_model_module_version": "2.0.0",
       "_model_name": "LayoutModel",
       "_view_count": null,
       "_view_module": "@jupyter-widgets/base",
       "_view_module_version": "2.0.0",
       "_view_name": "LayoutView",
       "align_content": null,
       "align_items": null,
       "align_self": null,
       "border_bottom": null,
       "border_left": null,
       "border_right": null,
       "border_top": null,
       "bottom": null,
       "display": null,
       "flex": null,
       "flex_flow": null,
       "grid_area": null,
       "grid_auto_columns": null,
       "grid_auto_flow": null,
       "grid_auto_rows": null,
       "grid_column": null,
       "grid_gap": null,
       "grid_row": null,
       "grid_template_areas": null,
       "grid_template_columns": null,
       "grid_template_rows": null,
       "height": null,
       "justify_content": null,
       "justify_items": null,
       "left": null,
       "margin": null,
       "max_height": null,
       "max_width": null,
       "min_height": null,
       "min_width": null,
       "object_fit": null,
       "object_position": null,
       "order": null,
       "overflow": null,
       "padding": null,
       "right": null,
       "top": null,
       "visibility": null,
       "width": null
      }
     },
     "ff30d4f8fef2439da795fe8f7fcad2af": {
      "model_module": "@jupyter-widgets/controls",
      "model_module_version": "2.0.0",
      "model_name": "HBoxModel",
      "state": {
       "_dom_classes": [],
       "_model_module": "@jupyter-widgets/controls",
       "_model_module_version": "2.0.0",
       "_model_name": "HBoxModel",
       "_view_count": null,
       "_view_module": "@jupyter-widgets/controls",
       "_view_module_version": "2.0.0",
       "_view_name": "HBoxView",
       "box_style": "",
       "children": [
        "IPY_MODEL_395f287dc3a74a75ba7bbaabbcb05882",
        "IPY_MODEL_23650be2b19e4f648fd752fbd8f10a5b"
       ],
       "layout": "IPY_MODEL_8c59cf60b6ce424a939dfab02d992d91",
       "tabbable": null,
       "tooltip": null
      }
     }
    },
    "version_major": 2,
    "version_minor": 0
   }
  }
 },
 "nbformat": 4,
 "nbformat_minor": 4
}
