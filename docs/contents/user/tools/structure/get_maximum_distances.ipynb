{
 "cells": [
  {
   "cell_type": "code",
   "execution_count": 1,
   "metadata": {
    "tags": [
     "remove-input"
    ]
   },
   "outputs": [],
   "source": [
    "# This cell is removed with the tag: \"remove-input\"\n",
    "# As such, it will not be shown in documentation\n",
    "\n",
    "import warnings\n",
    "warnings.filterwarnings('ignore')"
   ]
  },
  {
   "cell_type": "markdown",
   "metadata": {},
   "source": [
    "(UserGuide_Tools_Structure_GetDistances)=\n",
    "# Get maximum distances\n",
    "\n",
    "MolSysMT includes a very versatile function to calculate distances between atoms of molecular systems, and/or centers of groups of atoms, and/or points in the coordinates space. The {func}`molsysmt.structure.get_distances` has many possibilities, that's why one of the longest sections in MolSysMT documentation. But let's go step by step."
   ]
  },
  {
   "cell_type": "code",
   "execution_count": 3,
   "metadata": {},
   "outputs": [],
   "source": [
    "import molsysmt as msm\n",
    "from molsysmt import pyunitwizard as puw\n",
    "import numpy as np\n",
    "import matplotlib.pyplot as plt"
   ]
  },
  {
   "cell_type": "markdown",
   "metadata": {},
   "source": [
    "## The XYZ molecular system form\n",
    "\n",
    "The first case, and the most simple one, is getting distances from a points distribution in space. MolSysMT accepts a molecular system form where only spatial coordinates are described, with out topological information: the `XYZ` form."
   ]
  },
  {
   "cell_type": "code",
   "execution_count": 4,
   "metadata": {},
   "outputs": [],
   "source": [
    "molecular_system = np.zeros([6,3]) * puw.unit('nm')"
   ]
  },
  {
   "cell_type": "code",
   "execution_count": 5,
   "metadata": {},
   "outputs": [
    {
     "data": {
      "text/plain": [
       "'XYZ'"
      ]
     },
     "execution_count": 5,
     "metadata": {},
     "output_type": "execute_result"
    }
   ],
   "source": [
    "msm.get_form(molecular_system)"
   ]
  },
  {
   "cell_type": "markdown",
   "metadata": {},
   "source": [
    "The `XYZ` form accepts numpy arrays with length units of the shape $[n\\_structures, n\\_atoms, 3]$ or $[n\\_atoms, 3]$. In case of having an array of rank 2, MolSysMT always understands $n\\_structures=1$ and the first rank as the number of atoms:"
   ]
  },
  {
   "cell_type": "code",
   "execution_count": 6,
   "metadata": {},
   "outputs": [
    {
     "data": {
      "text/plain": [
       "[1, 6]"
      ]
     },
     "execution_count": 6,
     "metadata": {},
     "output_type": "execute_result"
    }
   ],
   "source": [
    "msm.get(molecular_system, n_structures=True, n_atoms=True)"
   ]
  },
  {
   "cell_type": "markdown",
   "metadata": {},
   "source": [
    "Lets create a couple of `XYZ` molecular systems with more than a frame. These two systems will help us illustrate the firts distance calculations:"
   ]
  },
  {
   "cell_type": "code",
   "execution_count": 7,
   "metadata": {},
   "outputs": [],
   "source": [
    "# Molecular system with three atoms and three structures.\n",
    "\n",
    "molecular_system = np.zeros([3,4,3], dtype='float64') * puw.unit('nm')\n",
    "\n",
    "## First atom\n",
    "molecular_system[0,0,:] = [0, 2, -1] * puw.unit('nm')\n",
    "molecular_system[1,0,:] = [1, 2, -1] * puw.unit('nm')\n",
    "molecular_system[2,0,:] = [0, 2, -1] * puw.unit('nm')\n",
    "\n",
    "## Second atom\n",
    "molecular_system[0,1,:] = [-1, 1, 1] * puw.unit('nm')\n",
    "molecular_system[1,1,:] = [-1, 0, 1] * puw.unit('nm')\n",
    "molecular_system[2,1,:] = [0, 0, 1] * puw.unit('nm')\n",
    "\n",
    "## Third atom\n",
    "molecular_system[0,2,:] = [-2, 0, 1] * puw.unit('nm')\n",
    "molecular_system[1,2,:] = [-2, 0, 0] * puw.unit('nm')\n",
    "molecular_system[2,2,:] = [-1, 1, 0] * puw.unit('nm')\n",
    "\n",
    "## Fourth atom\n",
    "molecular_system[0,3,:] = [-2, -2, -2] * puw.unit('nm')\n",
    "molecular_system[1,3,:] = [0, 0, 0] * puw.unit('nm')\n",
    "molecular_system[2,3,:] = [2, 2, 2] * puw.unit('nm')"
   ]
  },
  {
   "cell_type": "code",
   "execution_count": 8,
   "metadata": {},
   "outputs": [
    {
     "data": {
      "text/html": [
       "<table><tbody><tr><th>Magnitude</th><td style='text-align:left;'><pre>[[[0.0 2.0 -1.0]<br>  [-1.0 1.0 1.0]<br>  [-2.0 0.0 1.0]<br>  [-2.0 -2.0 -2.0]]<br><br> [[1.0 2.0 -1.0]<br>  [-1.0 0.0 1.0]<br>  [-2.0 0.0 0.0]<br>  [0.0 0.0 0.0]]<br><br> [[0.0 2.0 -1.0]<br>  [0.0 0.0 1.0]<br>  [-1.0 1.0 0.0]<br>  [2.0 2.0 2.0]]]</pre></td></tr><tr><th>Units</th><td style='text-align:left;'>nanometer</td></tr></tbody></table>"
      ],
      "text/latex": [
       "$arr[,0,:,:] = \\begin{pmatrix}0.0 & 2.0 & -1.0\\\\ \n",
       "-1.0 & 1.0 & 1.0\\\\ \n",
       "-2.0 & 0.0 & 1.0\\\\ \n",
       "-2.0 & -2.0 & -2.0\\end{pmatrix}\n",
       "arr[,1,:,:] = \\begin{pmatrix}1.0 & 2.0 & -1.0\\\\ \n",
       "-1.0 & 0.0 & 1.0\\\\ \n",
       "-2.0 & 0.0 & 0.0\\\\ \n",
       "0.0 & 0.0 & 0.0\\end{pmatrix}\n",
       "arr[,2,:,:] = \\begin{pmatrix}0.0 & 2.0 & -1.0\\\\ \n",
       "0.0 & 0.0 & 1.0\\\\ \n",
       "-1.0 & 1.0 & 0.0\\\\ \n",
       "2.0 & 2.0 & 2.0\\end{pmatrix}\\ \\mathrm{nanometer}$"
      ],
      "text/plain": [
       "array([[[ 0.,  2., -1.],\n",
       "        [-1.,  1.,  1.],\n",
       "        [-2.,  0.,  1.],\n",
       "        [-2., -2., -2.]],\n",
       "\n",
       "       [[ 1.,  2., -1.],\n",
       "        [-1.,  0.,  1.],\n",
       "        [-2.,  0.,  0.],\n",
       "        [ 0.,  0.,  0.]],\n",
       "\n",
       "       [[ 0.,  2., -1.],\n",
       "        [ 0.,  0.,  1.],\n",
       "        [-1.,  1.,  0.],\n",
       "        [ 2.,  2.,  2.]]]) <Unit('nanometer')>"
      ]
     },
     "execution_count": 8,
     "metadata": {},
     "output_type": "execute_result"
    }
   ],
   "source": [
    "molecular_system"
   ]
  },
  {
   "cell_type": "code",
   "execution_count": 9,
   "metadata": {},
   "outputs": [
    {
     "data": {
      "text/html": [
       "<style type=\"text/css\">\n",
       "</style>\n",
       "<table id=\"T_e7ec7\">\n",
       "  <thead>\n",
       "    <tr>\n",
       "      <th id=\"T_e7ec7_level0_col0\" class=\"col_heading level0 col0\" >form</th>\n",
       "      <th id=\"T_e7ec7_level0_col1\" class=\"col_heading level0 col1\" >n_atoms</th>\n",
       "      <th id=\"T_e7ec7_level0_col2\" class=\"col_heading level0 col2\" >n_groups</th>\n",
       "      <th id=\"T_e7ec7_level0_col3\" class=\"col_heading level0 col3\" >n_components</th>\n",
       "      <th id=\"T_e7ec7_level0_col4\" class=\"col_heading level0 col4\" >n_chains</th>\n",
       "      <th id=\"T_e7ec7_level0_col5\" class=\"col_heading level0 col5\" >n_molecules</th>\n",
       "      <th id=\"T_e7ec7_level0_col6\" class=\"col_heading level0 col6\" >n_entities</th>\n",
       "      <th id=\"T_e7ec7_level0_col7\" class=\"col_heading level0 col7\" >n_structures</th>\n",
       "    </tr>\n",
       "  </thead>\n",
       "  <tbody>\n",
       "    <tr>\n",
       "      <td id=\"T_e7ec7_row0_col0\" class=\"data row0 col0\" >XYZ</td>\n",
       "      <td id=\"T_e7ec7_row0_col1\" class=\"data row0 col1\" >4</td>\n",
       "      <td id=\"T_e7ec7_row0_col2\" class=\"data row0 col2\" >None</td>\n",
       "      <td id=\"T_e7ec7_row0_col3\" class=\"data row0 col3\" >None</td>\n",
       "      <td id=\"T_e7ec7_row0_col4\" class=\"data row0 col4\" >None</td>\n",
       "      <td id=\"T_e7ec7_row0_col5\" class=\"data row0 col5\" >None</td>\n",
       "      <td id=\"T_e7ec7_row0_col6\" class=\"data row0 col6\" >None</td>\n",
       "      <td id=\"T_e7ec7_row0_col7\" class=\"data row0 col7\" >3</td>\n",
       "    </tr>\n",
       "  </tbody>\n",
       "</table>\n"
      ],
      "text/plain": [
       "<pandas.io.formats.style.Styler at 0x7fd39b512c70>"
      ]
     },
     "execution_count": 9,
     "metadata": {},
     "output_type": "execute_result"
    }
   ],
   "source": [
    "msm.info(molecular_system)"
   ]
  },
  {
   "cell_type": "markdown",
   "metadata": {},
   "source": [
    "## Distance between atoms in space\n",
    "\n",
    "### Distance between atoms of a system\n",
    "\n",
    "The first case shows how to get the distance between all points of a system at every frame"
   ]
  },
  {
   "cell_type": "code",
   "execution_count": 10,
   "metadata": {},
   "outputs": [],
   "source": [
    "distances = msm.structure.get_distances(molecular_system)"
   ]
  },
  {
   "cell_type": "markdown",
   "metadata": {},
   "source": [
    "The result is an array of rank 3. Where the first axe or rank corresponds to the number of structures and the other two, the second and third axe, accounts for the point or atom indices:"
   ]
  },
  {
   "cell_type": "code",
   "execution_count": 11,
   "metadata": {},
   "outputs": [
    {
     "data": {
      "text/plain": [
       "(3, 4, 4)"
      ]
     },
     "execution_count": 11,
     "metadata": {},
     "output_type": "execute_result"
    }
   ],
   "source": [
    "distances.shape"
   ]
  },
  {
   "cell_type": "markdown",
   "metadata": {},
   "source": [
    "This way every distance between atoms at each frame is stored. Lets print out the distance between the 0-th and the 2-th atom at frame 1-th:"
   ]
  },
  {
   "cell_type": "code",
   "execution_count": 12,
   "metadata": {},
   "outputs": [
    {
     "name": "stdout",
     "output_type": "stream",
     "text": [
      "Distance at frame 1-th between atoms 0-th and 2-th: 3.7416573867739413 nanometer\n"
     ]
    }
   ],
   "source": [
    "print('Distance at frame 1-th between atoms 0-th and 2-th: {}'.format(distances[1,0,2]))"
   ]
  },
  {
   "cell_type": "markdown",
   "metadata": {},
   "source": [
    "If only the distance between atoms 0-th and 2-th at every frame is required, there is no need to compute $n\\_atoms x n\\_atoms$ distances. The input arguments `selection` and `selection_2` help us to define the range of elements of the output distance matrix:"
   ]
  },
  {
   "cell_type": "code",
   "execution_count": 13,
   "metadata": {},
   "outputs": [],
   "source": [
    "distances = msm.structure.get_distances(molecular_system, selection=0, selection_2=2)"
   ]
  },
  {
   "cell_type": "markdown",
   "metadata": {},
   "source": [
    "This time the output is an array of rank 3 with shape $[3,1,1]$. The distance for just a pair of atoms was computed for three structures:"
   ]
  },
  {
   "cell_type": "code",
   "execution_count": 14,
   "metadata": {},
   "outputs": [
    {
     "data": {
      "text/plain": [
       "(3, 1, 1)"
      ]
     },
     "execution_count": 14,
     "metadata": {},
     "output_type": "execute_result"
    }
   ],
   "source": [
    "distances.shape"
   ]
  },
  {
   "cell_type": "code",
   "execution_count": 15,
   "metadata": {},
   "outputs": [
    {
     "name": "stdout",
     "output_type": "stream",
     "text": [
      "Distance at frame 0-th between atoms 0-th and 2-th: 3.4641016151377544 nanometer\n",
      "Distance at frame 1-th between atoms 0-th and 2-th: 3.7416573867739413 nanometer\n",
      "Distance at frame 2-th between atoms 0-th and 2-th: 1.7320508075688772 nanometer\n"
     ]
    }
   ],
   "source": [
    "for ii in range(3):\n",
    "    print('Distance at frame {}-th between atoms 0-th and 2-th: {}'.format(ii,distances[ii,0,0]))"
   ]
  },
  {
   "cell_type": "markdown",
   "metadata": {},
   "source": [
    "Lets try now to get the distance between the atom 1-th and the atoms 0-th and 2-th at every frame:"
   ]
  },
  {
   "cell_type": "code",
   "execution_count": 16,
   "metadata": {},
   "outputs": [],
   "source": [
    "distances = msm.structure.get_distances(molecular_system, selection=1, selection_2=[0,2])"
   ]
  },
  {
   "cell_type": "markdown",
   "metadata": {},
   "source": [
    "As you will guess, the output matrix is an array of rank three this time with shape $[3,1,2]$:"
   ]
  },
  {
   "cell_type": "code",
   "execution_count": 17,
   "metadata": {},
   "outputs": [
    {
     "data": {
      "text/plain": [
       "(3, 1, 2)"
      ]
     },
     "execution_count": 17,
     "metadata": {},
     "output_type": "execute_result"
    }
   ],
   "source": [
    "distances.shape"
   ]
  },
  {
   "cell_type": "markdown",
   "metadata": {},
   "source": [
    "If we want now to print out the distance between atoms 1-th and 2-th for frame 0-th:"
   ]
  },
  {
   "cell_type": "code",
   "execution_count": 18,
   "metadata": {},
   "outputs": [
    {
     "name": "stdout",
     "output_type": "stream",
     "text": [
      "Distance at frame 0-th between atoms 1-th and 2-th: 1.4142135623730951 nanometer\n"
     ]
    }
   ],
   "source": [
    "print('Distance at frame 0-th between atoms 1-th and 2-th: {}'.format(distances[0,0,1]))"
   ]
  },
  {
   "cell_type": "markdown",
   "metadata": {},
   "source": [
    "The position of each atom in lists `selection` and `selection_2` is used to locate the corresponding distance in the output array. If instead, you want to use the original atom indices to locate a distance, the input argument `output_form='dict'` can help:"
   ]
  },
  {
   "cell_type": "code",
   "execution_count": 19,
   "metadata": {},
   "outputs": [],
   "source": [
    "distances = msm.structure.get_distances(molecular_system, selection=1, selection_2=[0,2], output='dict')"
   ]
  },
  {
   "cell_type": "markdown",
   "metadata": {},
   "source": [
    "This way the output is no longer a numpy array of rank 3, the output object is now a dictionary of dictionaries of dictionaries. Where the set keys of the first dictionary corresponds to the atom indices of `selection_1`:"
   ]
  },
  {
   "cell_type": "code",
   "execution_count": 20,
   "metadata": {},
   "outputs": [
    {
     "data": {
      "text/plain": [
       "{1: {0: {0: 2.449489742783178 <Unit('nanometer')>,\n",
       "   1: 3.4641016151377544 <Unit('nanometer')>,\n",
       "   2: 2.8284271247461903 <Unit('nanometer')>},\n",
       "  2: {0: 1.4142135623730951 <Unit('nanometer')>,\n",
       "   1: 1.4142135623730951 <Unit('nanometer')>,\n",
       "   2: 1.7320508075688772 <Unit('nanometer')>}}}"
      ]
     },
     "execution_count": 20,
     "metadata": {},
     "output_type": "execute_result"
    }
   ],
   "source": [
    "distances"
   ]
  },
  {
   "cell_type": "code",
   "execution_count": 21,
   "metadata": {},
   "outputs": [
    {
     "data": {
      "text/plain": [
       "dict_keys([1])"
      ]
     },
     "execution_count": 21,
     "metadata": {},
     "output_type": "execute_result"
    }
   ],
   "source": [
    "distances.keys()"
   ]
  },
  {
   "cell_type": "markdown",
   "metadata": {},
   "source": [
    "The second nested dictionary has the atom indices of `selection_2` as keys:"
   ]
  },
  {
   "cell_type": "code",
   "execution_count": 22,
   "metadata": {},
   "outputs": [
    {
     "data": {
      "text/plain": [
       "dict_keys([0, 2])"
      ]
     },
     "execution_count": 22,
     "metadata": {},
     "output_type": "execute_result"
    }
   ],
   "source": [
    "distances[1].keys()"
   ]
  },
  {
   "cell_type": "markdown",
   "metadata": {},
   "source": [
    "And the third and last nested dictionary is defined with the frame indices as keys:"
   ]
  },
  {
   "cell_type": "code",
   "execution_count": 23,
   "metadata": {},
   "outputs": [
    {
     "data": {
      "text/plain": [
       "dict_keys([0, 1, 2])"
      ]
     },
     "execution_count": 23,
     "metadata": {},
     "output_type": "execute_result"
    }
   ],
   "source": [
    "distances[1][2].keys()"
   ]
  },
  {
   "cell_type": "markdown",
   "metadata": {},
   "source": [
    "Thus, the distance now between atoms 0-th and 2-th in frame 1-th is:"
   ]
  },
  {
   "cell_type": "code",
   "execution_count": 24,
   "metadata": {},
   "outputs": [
    {
     "name": "stdout",
     "output_type": "stream",
     "text": [
      "Distance at frame 0-th between atoms 1-th and 2-th: 1.4142135623730951 nanometer\n"
     ]
    }
   ],
   "source": [
    "print('Distance at frame 0-th between atoms 1-th and 2-th: {}'.format(distances[1][2][0]))"
   ]
  },
  {
   "cell_type": "markdown",
   "metadata": {},
   "source": [
    "Just like `selection` and `selection_2` can limit the range of atom indices of the calculation, `structure_indices` can be used to define the list of structures where the method applies:"
   ]
  },
  {
   "cell_type": "code",
   "execution_count": 25,
   "metadata": {},
   "outputs": [],
   "source": [
    "distances = msm.structure.get_distances(molecular_system, selection=1, selection_2=[0,2], structure_indices=[1,2])"
   ]
  },
  {
   "cell_type": "code",
   "execution_count": 26,
   "metadata": {},
   "outputs": [
    {
     "name": "stdout",
     "output_type": "stream",
     "text": [
      "Distance at frame 2-th between atoms 1-th and 2-th: 1.7320508075688772 nanometer\n"
     ]
    }
   ],
   "source": [
    "print('Distance at frame 2-th between atoms 1-th and 2-th: {}'.format(distances[1,0,1]))"
   ]
  },
  {
   "cell_type": "markdown",
   "metadata": {},
   "source": [
    "You can check again that with `output_form='dict'` the original indics for atoms and structures work to locate a distance:"
   ]
  },
  {
   "cell_type": "code",
   "execution_count": 27,
   "metadata": {},
   "outputs": [],
   "source": [
    "distances = msm.structure.get_distances(molecular_system, selection=1, selection_2=[0,2], structure_indices=[1,2], output='dict')"
   ]
  },
  {
   "cell_type": "code",
   "execution_count": 28,
   "metadata": {},
   "outputs": [
    {
     "name": "stdout",
     "output_type": "stream",
     "text": [
      "Distance at frame 2-th between atoms 1-th and 2-th: 1.7320508075688772 nanometer\n"
     ]
    }
   ],
   "source": [
    "print('Distance at frame 2-th between atoms 1-th and 2-th: {}'.format(distances[1][2][2]))"
   ]
  },
  {
   "cell_type": "markdown",
   "metadata": {},
   "source": [
    "### Distances between atoms positions in different structures"
   ]
  },
  {
   "cell_type": "markdown",
   "metadata": {},
   "source": [
    "At the end of last subsection we saw how, in addition to the input arguments `selection` and `selection_2`, the input arguments `structure_indices` and `structure_indices_2` alter the way distances are computed. Lets use the four arguments in the next example to revisit their function:"
   ]
  },
  {
   "cell_type": "code",
   "execution_count": 29,
   "metadata": {},
   "outputs": [],
   "source": [
    "distances = msm.structure.get_distances(molecular_system, selection=[1,2], structure_indices=[0,1],\n",
    "                         selection_2=1, structure_indices_2=[1,2])"
   ]
  },
  {
   "cell_type": "markdown",
   "metadata": {},
   "source": [
    "The distance between atoms 1-th and 2-th, and atom 1-th are computed. But, these distances are not between spatial positions in the same frame index. When two frame indices lists are provided by means of `structure_indices` and `structure_indices_2`, pairs of structures are taken sequentially. In this case positions of `selection` at frame 0-th are confronted againts positions of `selection_2` at frame 1-th, and the results are stored in the first frame of the distances output. Then, according to the last cell frame indices, positions of `selection` at frame 1-th are confronted againts positions of `selection_2` at frame 2-th. Thus, lets print out for example the distance between the position of atom 2-th of `selection` in frame 1-th and the position of atom 1-th of `selection_2` in frame 2-th:"
   ]
  },
  {
   "cell_type": "code",
   "execution_count": 30,
   "metadata": {},
   "outputs": [
    {
     "name": "stdout",
     "output_type": "stream",
     "text": [
      "The distance between atom 2-th of selection at frame 1-th and atom 1-th of selection_2 at frame 2-th is: 2.23606797749979 nanometer\n"
     ]
    }
   ],
   "source": [
    "print('The distance between atom 2-th of selection at frame 1-th and atom 1-th of selection_2 at frame 2-th is: {}'.format(distances[1,1,0]))"
   ]
  },
  {
   "cell_type": "markdown",
   "metadata": {},
   "source": [
    "In this case, when the output object is a dictionary of dictionaries of dictionaries, the last nested keys correspond to the frame indices in `structure_indices`. Lets compute de same distances as before printing out the same specific distance:"
   ]
  },
  {
   "cell_type": "code",
   "execution_count": 31,
   "metadata": {},
   "outputs": [],
   "source": [
    "distances = msm.structure.get_distances(molecular_system, selection=[1,2], structure_indices=[0,1],\n",
    "                         selection_2=1, structure_indices_2=[1,2], output='dict')"
   ]
  },
  {
   "cell_type": "code",
   "execution_count": 32,
   "metadata": {},
   "outputs": [
    {
     "name": "stdout",
     "output_type": "stream",
     "text": [
      "The distance between atom 2-th of selection at frame 1-th and atom 1-th of selection_2 at frame 2-th is: 2.23606797749979 nanometer\n"
     ]
    }
   ],
   "source": [
    "print('The distance between atom 2-th of selection at frame 1-th and atom 1-th of selection_2 at frame 2-th is: {}'.format(distances[2][1][1]))"
   ]
  },
  {
   "cell_type": "markdown",
   "metadata": {},
   "source": [
    "The possibility to calculate distances between crossing frame indices opens the door to get displacement lengths as it is shown in next subsection."
   ]
  },
  {
   "cell_type": "markdown",
   "metadata": {},
   "source": [
    "### Displacement distances of atoms"
   ]
  },
  {
   "cell_type": "markdown",
   "metadata": {},
   "source": [
    "When both input arguments `structure_indices` and `structure_indices_2` are used over a unique set of atoms of the same molecular system, the distances computed acquired a simple physical meaning: displacements. Lets see the following case:"
   ]
  },
  {
   "cell_type": "code",
   "execution_count": 33,
   "metadata": {},
   "outputs": [],
   "source": [
    "distances = msm.structure.get_distances(molecular_system, selection=1, structure_indices=[0,1], structure_indices_2=[1,2])"
   ]
  },
  {
   "cell_type": "markdown",
   "metadata": {},
   "source": [
    "The shape of the output object is:"
   ]
  },
  {
   "cell_type": "code",
   "execution_count": 34,
   "metadata": {},
   "outputs": [
    {
     "data": {
      "text/plain": [
       "(2, 1, 1)"
      ]
     },
     "execution_count": 34,
     "metadata": {},
     "output_type": "execute_result"
    }
   ],
   "source": [
    "distances.shape"
   ]
  },
  {
   "cell_type": "markdown",
   "metadata": {},
   "source": [
    "The length of the distance walked by atom 1-th between structures 0-th and 1-th is:"
   ]
  },
  {
   "cell_type": "code",
   "execution_count": 35,
   "metadata": {},
   "outputs": [
    {
     "name": "stdout",
     "output_type": "stream",
     "text": [
      "The displacement length of atom 1-th between structures 0-th and 1th is: 1.0 nanometer\n"
     ]
    }
   ],
   "source": [
    "print('The displacement length of atom 1-th between structures 0-th and 1th is: {}'.format(distances[0,0,0]))"
   ]
  },
  {
   "cell_type": "markdown",
   "metadata": {},
   "source": [
    "While the displacement length of the same atom between the next two consecutive structures is:"
   ]
  },
  {
   "cell_type": "code",
   "execution_count": 36,
   "metadata": {},
   "outputs": [
    {
     "name": "stdout",
     "output_type": "stream",
     "text": [
      "The displacement length of atom 1-th between structures 1-th and 2-th is: 1.0 nanometer\n"
     ]
    }
   ],
   "source": [
    "print('The displacement length of atom 1-th between structures 1-th and 2-th is: {}'.format(distances[1,0,0]))"
   ]
  },
  {
   "cell_type": "markdown",
   "metadata": {},
   "source": [
    "If we want to get the length distance an atom moves between a fixed frame, 0-th for instance, and the rest of structures we can invoke the command `molsysmt.distance()` this way:"
   ]
  },
  {
   "cell_type": "code",
   "execution_count": 37,
   "metadata": {},
   "outputs": [],
   "source": [
    "distances = msm.structure.get_distances(molecular_system, selection=1, structure_indices=[0,1,2], structure_indices_2=[0,0,0],\n",
    "                         output='dict')"
   ]
  },
  {
   "cell_type": "markdown",
   "metadata": {},
   "source": [
    "The displacement length of atom 1-th between its position at frame 0-th and all other structures is:"
   ]
  },
  {
   "cell_type": "code",
   "execution_count": 38,
   "metadata": {},
   "outputs": [
    {
     "name": "stdout",
     "output_type": "stream",
     "text": [
      "The displacement length of atom 1-th between structures 0-th and 0-th is: 0.0 nanometer\n",
      "The displacement length of atom 1-th between structures 0-th and 1-th is: 1.0 nanometer\n",
      "The displacement length of atom 1-th between structures 0-th and 2-th is: 1.4142135623730951 nanometer\n"
     ]
    }
   ],
   "source": [
    "for ii in range(3):\n",
    "    print('The displacement length of atom 1-th between structures 0-th and {}-th is: {}'.format(ii, distances[1][1][ii]))"
   ]
  },
  {
   "cell_type": "markdown",
   "metadata": {},
   "source": [
    "### Distance between atoms pairs\n",
    "\n",
    "When the method `molsysmt.distance()` is invoked to calculate the distances between a set of $N$ atoms of `selection` and a set of $M$ atoms of `selection_2`, the result is an object, a numpy array or a dictionary, with $N x M$ distances per frame. Sometimes all these different distances are not needed, but only those between specific atom pairs. These atom pairs can be given by the elements in `selection` and `selection_2` coupled sequantially one to one. This option is activated when the input argument `pairs=True`:"
   ]
  },
  {
   "cell_type": "code",
   "execution_count": 39,
   "metadata": {},
   "outputs": [],
   "source": [
    "distances = msm.structure.get_distances(molecular_system, selection=[0,0,1], selection_2=[1,2,2],\n",
    "                         structure_indices=[1,2], pairs=True)"
   ]
  },
  {
   "cell_type": "markdown",
   "metadata": {},
   "source": [
    "When `pairs=True` the shape of the output numpy array is $[n\\_structures, N]$, where $N$ is the number of pairs: [0,1], [0,2] and [1,2], in this case.  "
   ]
  },
  {
   "cell_type": "code",
   "execution_count": 40,
   "metadata": {},
   "outputs": [
    {
     "data": {
      "text/plain": [
       "(2, 3)"
      ]
     },
     "execution_count": 40,
     "metadata": {},
     "output_type": "execute_result"
    }
   ],
   "source": [
    "distances.shape"
   ]
  },
  {
   "cell_type": "markdown",
   "metadata": {},
   "source": [
    "Lets print out the distance between atoms 0-th and 2-th in frame 1-th:"
   ]
  },
  {
   "cell_type": "code",
   "execution_count": 41,
   "metadata": {},
   "outputs": [
    {
     "name": "stdout",
     "output_type": "stream",
     "text": [
      "The distance between the pair of atoms 0-th and 2-th in frame 1-th: 3.7416573867739413 nanometer\n"
     ]
    }
   ],
   "source": [
    "print('The distance between the pair of atoms 0-th and 2-th in frame 1-th: {}'.format(distances[0,1]))"
   ]
  },
  {
   "cell_type": "markdown",
   "metadata": {},
   "source": [
    "The dictionary output form also works for atom pairs in the same way as with `pairs=False`:"
   ]
  },
  {
   "cell_type": "code",
   "execution_count": 42,
   "metadata": {},
   "outputs": [],
   "source": [
    "distances = msm.structure.get_distances(molecular_system, selection=[0,0,1], selection_2=[1,2,2],\n",
    "                         structure_indices=[1,2], pairs=True, output='dict')"
   ]
  },
  {
   "cell_type": "code",
   "execution_count": 43,
   "metadata": {},
   "outputs": [
    {
     "name": "stdout",
     "output_type": "stream",
     "text": [
      "The distance between the pair of atoms 0-th and 2-th in frame 1-th: 3.7416573867739413 nanometer\n"
     ]
    }
   ],
   "source": [
    "print('The distance between the pair of atoms 0-th and 2-th in frame 1-th: {}'.format(distances[0][2][1]))"
   ]
  },
  {
   "cell_type": "markdown",
   "metadata": {},
   "source": [
    "## Distance between atom groups in space\n",
    "\n",
    "Imagine the distance between geometric centers of atoms groups needs to be obtained. There is no reason why MolSysMT should have new functions to do that. Every method introduced in the previous section, about getting distances between atoms, has the possibility to do it over groups of atoms.\n",
    "\n",
    "### Distance between atom groups of a system\n",
    "\n",
    "Lets load a new molecular system to illustrate how `molsysmt.distance()` can get distances between atom groups:"
   ]
  },
  {
   "cell_type": "code",
   "execution_count": 44,
   "metadata": {},
   "outputs": [],
   "source": [
    "molecular_system = msm.convert('1TCD', 'molsysmt.MolSys')"
   ]
  },
  {
   "cell_type": "code",
   "execution_count": 45,
   "metadata": {},
   "outputs": [
    {
     "data": {
      "text/html": [
       "<style type=\"text/css\">\n",
       "</style>\n",
       "<table id=\"T_a905a\">\n",
       "  <thead>\n",
       "    <tr>\n",
       "      <th id=\"T_a905a_level0_col0\" class=\"col_heading level0 col0\" >form</th>\n",
       "      <th id=\"T_a905a_level0_col1\" class=\"col_heading level0 col1\" >n_atoms</th>\n",
       "      <th id=\"T_a905a_level0_col2\" class=\"col_heading level0 col2\" >n_groups</th>\n",
       "      <th id=\"T_a905a_level0_col3\" class=\"col_heading level0 col3\" >n_components</th>\n",
       "      <th id=\"T_a905a_level0_col4\" class=\"col_heading level0 col4\" >n_chains</th>\n",
       "      <th id=\"T_a905a_level0_col5\" class=\"col_heading level0 col5\" >n_molecules</th>\n",
       "      <th id=\"T_a905a_level0_col6\" class=\"col_heading level0 col6\" >n_entities</th>\n",
       "      <th id=\"T_a905a_level0_col7\" class=\"col_heading level0 col7\" >n_waters</th>\n",
       "      <th id=\"T_a905a_level0_col8\" class=\"col_heading level0 col8\" >n_proteins</th>\n",
       "      <th id=\"T_a905a_level0_col9\" class=\"col_heading level0 col9\" >n_structures</th>\n",
       "    </tr>\n",
       "  </thead>\n",
       "  <tbody>\n",
       "    <tr>\n",
       "      <td id=\"T_a905a_row0_col0\" class=\"data row0 col0\" >molsysmt.MolSys</td>\n",
       "      <td id=\"T_a905a_row0_col1\" class=\"data row0 col1\" >3983</td>\n",
       "      <td id=\"T_a905a_row0_col2\" class=\"data row0 col2\" >662</td>\n",
       "      <td id=\"T_a905a_row0_col3\" class=\"data row0 col3\" >167</td>\n",
       "      <td id=\"T_a905a_row0_col4\" class=\"data row0 col4\" >4</td>\n",
       "      <td id=\"T_a905a_row0_col5\" class=\"data row0 col5\" >167</td>\n",
       "      <td id=\"T_a905a_row0_col6\" class=\"data row0 col6\" >2</td>\n",
       "      <td id=\"T_a905a_row0_col7\" class=\"data row0 col7\" >165</td>\n",
       "      <td id=\"T_a905a_row0_col8\" class=\"data row0 col8\" >2</td>\n",
       "      <td id=\"T_a905a_row0_col9\" class=\"data row0 col9\" >1</td>\n",
       "    </tr>\n",
       "  </tbody>\n",
       "</table>\n"
      ],
      "text/plain": [
       "<pandas.io.formats.style.Styler at 0x7fd39a9e4220>"
      ]
     },
     "execution_count": 45,
     "metadata": {},
     "output_type": "execute_result"
    }
   ],
   "source": [
    "msm.info(molecular_system)"
   ]
  },
  {
   "cell_type": "markdown",
   "metadata": {},
   "source": [
    "Lets revisit how to get the distances between two atoms selections to start with, then the effect of input arguments `group_behavior` and `group_behavior_2` will be shown:"
   ]
  },
  {
   "cell_type": "code",
   "execution_count": 46,
   "metadata": {},
   "outputs": [],
   "source": [
    "distances = msm.structure.get_distances(molecular_system, selection=\"group_index==0\", selection_2=\"group_index==1\")"
   ]
  },
  {
   "cell_type": "markdown",
   "metadata": {},
   "source": [
    "This molecular system has onle a single frame, so the shape of the output array is $[1, n\\_atoms\\_1, n\\_atoms\\_2]$ where $n\\_atoms\\_1$ and $n\\_atoms\\_2$ is the number of atoms in `selection` and `selection_2`, respectively:"
   ]
  },
  {
   "cell_type": "code",
   "execution_count": 47,
   "metadata": {},
   "outputs": [
    {
     "name": "stdout",
     "output_type": "stream",
     "text": [
      "9 7\n"
     ]
    }
   ],
   "source": [
    "n_atoms_1 = msm.get(molecular_system, element='atom', selection=\"group_index==0\", n_atoms=True)\n",
    "n_atoms_2 = msm.get(molecular_system, element='atom', selection=\"group_index==1\", n_atoms=True)\n",
    "print(n_atoms_1, n_atoms_2)"
   ]
  },
  {
   "cell_type": "code",
   "execution_count": 48,
   "metadata": {},
   "outputs": [
    {
     "data": {
      "text/plain": [
       "(1, 9, 7)"
      ]
     },
     "execution_count": 48,
     "metadata": {},
     "output_type": "execute_result"
    }
   ],
   "source": [
    "distances.shape"
   ]
  },
  {
   "cell_type": "code",
   "execution_count": 49,
   "metadata": {},
   "outputs": [
    {
     "data": {
      "text/html": [
       "0.5271685214426218 nanometer"
      ],
      "text/latex": [
       "$0.5271685214426218\\ \\mathrm{nanometer}$"
      ],
      "text/plain": [
       "0.5271685214426218 <Unit('nanometer')>"
      ]
     },
     "execution_count": 49,
     "metadata": {},
     "output_type": "execute_result"
    }
   ],
   "source": [
    "distances[0,5,5]"
   ]
  },
  {
   "cell_type": "markdown",
   "metadata": {},
   "source": [
    "Now, lets use `group_behavior=\"geometric_center\"` to obtain the distance between the geometric center of the set of atoms in `selection` to every atom in `selection_2`."
   ]
  },
  {
   "cell_type": "code",
   "execution_count": 50,
   "metadata": {},
   "outputs": [],
   "source": [
    "distances = msm.structure.get_distances(molecular_system, selection=\"group_index==0\",\n",
    "                         group_behavior=\"geometric_center\",                         \n",
    "                         selection_2=\"group_index==1\")"
   ]
  },
  {
   "cell_type": "code",
   "execution_count": 51,
   "metadata": {},
   "outputs": [
    {
     "data": {
      "text/plain": [
       "(1, 1, 7)"
      ]
     },
     "execution_count": 51,
     "metadata": {},
     "output_type": "execute_result"
    }
   ],
   "source": [
    "distances.shape"
   ]
  },
  {
   "cell_type": "markdown",
   "metadata": {},
   "source": [
    "And with `group_behavior_2=\"geometric_center\"` the distance between both geometric centers can be obtain:"
   ]
  },
  {
   "cell_type": "code",
   "execution_count": 52,
   "metadata": {},
   "outputs": [],
   "source": [
    "distances = msm.structure.get_distances(molecular_system, selection=\"group_index==0\", group_behavior=\"geometric_center\",\n",
    "                         selection_2=\"group_index==1\", group_behavior_2=\"geometric_center\")"
   ]
  },
  {
   "cell_type": "code",
   "execution_count": 53,
   "metadata": {},
   "outputs": [
    {
     "data": {
      "text/plain": [
       "(1, 1, 1)"
      ]
     },
     "execution_count": 53,
     "metadata": {},
     "output_type": "execute_result"
    }
   ],
   "source": [
    "distances.shape"
   ]
  },
  {
   "cell_type": "markdown",
   "metadata": {},
   "source": [
    "The input arguments `group_behavior` and `group_behavior_2` allow us to work with a unique position of a group of atoms, either the geometric center or the center of mass. But what happens then if we have several groups of atoms? The arguments `selection` and `selection_2` do work with just a list of atom indices or a selection sentence. Thats why we have to use two new input arguments: `groups_of_atoms` and `groups_of_atoms_2`. Lets define a couple of list of lists of atom indices to illustrate their use."
   ]
  },
  {
   "cell_type": "code",
   "execution_count": 54,
   "metadata": {},
   "outputs": [],
   "source": [
    "list_groups_1 = msm.get(molecular_system, element=\"group\",\n",
    "                        selection=\"group_index in [0,1,2,3]\", atom_index=True)\n",
    "list_groups_2 = msm.get(molecular_system, element=\"group\",\n",
    "                        selection=\"group_index in [4,5,6,7,8]\", atom_index=True)"
   ]
  },
  {
   "cell_type": "code",
   "execution_count": 55,
   "metadata": {},
   "outputs": [
    {
     "name": "stdout",
     "output_type": "stream",
     "text": [
      "[array([0, 1, 2, 3, 4, 5, 6, 7, 8]) array([ 9, 10, 11, 12, 13, 14, 15])\n",
      " array([16, 17, 18, 19, 20, 21, 22, 23, 24])\n",
      " array([25, 26, 27, 28, 29, 30, 31])]\n"
     ]
    }
   ],
   "source": [
    "print(list_groups_1)"
   ]
  },
  {
   "cell_type": "markdown",
   "metadata": {},
   "source": [
    "First, lets compute the distance between every single atom in `selection` to the geometric center of the atoms groups defined in `list_groups_2`:"
   ]
  },
  {
   "cell_type": "code",
   "execution_count": 56,
   "metadata": {},
   "outputs": [],
   "source": [
    "distances = msm.structure.get_distances(molecular_system, selection=\"group_index==0\",\n",
    "                         groups_of_atoms_2=list_groups_2, group_behavior_2=\"geometric_center\")"
   ]
  },
  {
   "cell_type": "code",
   "execution_count": 57,
   "metadata": {},
   "outputs": [
    {
     "data": {
      "text/plain": [
       "(1, 9, 5)"
      ]
     },
     "execution_count": 57,
     "metadata": {},
     "output_type": "execute_result"
    }
   ],
   "source": [
    "distances.shape"
   ]
  },
  {
   "cell_type": "markdown",
   "metadata": {},
   "source": [
    "Now, the distance between the geometric center of the set of atoms in `selection` and every geometric center of the atoms groups given by `list_groups_2`:"
   ]
  },
  {
   "cell_type": "code",
   "execution_count": 58,
   "metadata": {},
   "outputs": [],
   "source": [
    "distances = msm.structure.get_distances(molecular_system, selection=\"group_index==0\",group_behavior=\"geometric_center\",\n",
    "                         groups_of_atoms_2=list_groups_2, group_behavior_2=\"geometric_center\")"
   ]
  },
  {
   "cell_type": "code",
   "execution_count": 59,
   "metadata": {},
   "outputs": [
    {
     "data": {
      "text/plain": [
       "(1, 1, 5)"
      ]
     },
     "execution_count": 59,
     "metadata": {},
     "output_type": "execute_result"
    }
   ],
   "source": [
    "distances.shape"
   ]
  },
  {
   "cell_type": "markdown",
   "metadata": {},
   "source": [
    "And finnally, the distance between every geometric center of the atoms groups in `list_groups_1` to every geometric center of the atoms groups defined in `list_groups_2`:"
   ]
  },
  {
   "cell_type": "code",
   "execution_count": 60,
   "metadata": {},
   "outputs": [],
   "source": [
    "distances = msm.structure.get_distances(molecular_system, groups_of_atoms=list_groups_1, group_behavior=\"geometric_center\",\n",
    "                         groups_of_atoms_2=list_groups_2,  group_behavior_2=\"geometric_center\")"
   ]
  },
  {
   "cell_type": "code",
   "execution_count": 61,
   "metadata": {},
   "outputs": [
    {
     "data": {
      "text/plain": [
       "(1, 4, 5)"
      ]
     },
     "execution_count": 61,
     "metadata": {},
     "output_type": "execute_result"
    }
   ],
   "source": [
    "distances.shape"
   ]
  },
  {
   "cell_type": "code",
   "execution_count": 62,
   "metadata": {},
   "outputs": [
    {
     "data": {
      "text/html": [
       "1.2406698330486783 nanometer"
      ],
      "text/latex": [
       "$1.2406698330486783\\ \\mathrm{nanometer}$"
      ],
      "text/plain": [
       "1.2406698330486783 <Unit('nanometer')>"
      ]
     },
     "execution_count": 62,
     "metadata": {},
     "output_type": "execute_result"
    }
   ],
   "source": [
    "distances[0,2,2]"
   ]
  },
  {
   "cell_type": "markdown",
   "metadata": {},
   "source": [
    "Just like with atoms, if only a list of atoms groups is used, the distance between its centers is obtained:"
   ]
  },
  {
   "cell_type": "code",
   "execution_count": 63,
   "metadata": {},
   "outputs": [],
   "source": [
    "distances = msm.structure.get_distances(molecular_system, groups_of_atoms=list_groups_1, group_behavior=\"geometric_center\")"
   ]
  },
  {
   "cell_type": "code",
   "execution_count": 64,
   "metadata": {},
   "outputs": [
    {
     "data": {
      "text/plain": [
       "(1, 4, 4)"
      ]
     },
     "execution_count": 64,
     "metadata": {},
     "output_type": "execute_result"
    }
   ],
   "source": [
    "distances.shape"
   ]
  },
  {
   "cell_type": "markdown",
   "metadata": {},
   "source": [
    "Finnally, lets proof that the distance between groups can be computed all along a trajectory as well as only at specific structures. Lets load the whole trajectory 'pentalanine.h5':"
   ]
  },
  {
   "cell_type": "code",
   "execution_count": 65,
   "metadata": {},
   "outputs": [],
   "source": [
    "molecular_system = msm.demo['pentalanine']['traj.h5']\n",
    "molecular_system = msm.convert(molecular_system, to_form='molsysmt.MolSys')"
   ]
  },
  {
   "cell_type": "code",
   "execution_count": 66,
   "metadata": {},
   "outputs": [
    {
     "data": {
      "text/html": [
       "<style type=\"text/css\">\n",
       "</style>\n",
       "<table id=\"T_7eb10\">\n",
       "  <thead>\n",
       "    <tr>\n",
       "      <th id=\"T_7eb10_level0_col0\" class=\"col_heading level0 col0\" >form</th>\n",
       "      <th id=\"T_7eb10_level0_col1\" class=\"col_heading level0 col1\" >n_atoms</th>\n",
       "      <th id=\"T_7eb10_level0_col2\" class=\"col_heading level0 col2\" >n_groups</th>\n",
       "      <th id=\"T_7eb10_level0_col3\" class=\"col_heading level0 col3\" >n_components</th>\n",
       "      <th id=\"T_7eb10_level0_col4\" class=\"col_heading level0 col4\" >n_chains</th>\n",
       "      <th id=\"T_7eb10_level0_col5\" class=\"col_heading level0 col5\" >n_molecules</th>\n",
       "      <th id=\"T_7eb10_level0_col6\" class=\"col_heading level0 col6\" >n_entities</th>\n",
       "      <th id=\"T_7eb10_level0_col7\" class=\"col_heading level0 col7\" >n_peptides</th>\n",
       "      <th id=\"T_7eb10_level0_col8\" class=\"col_heading level0 col8\" >n_structures</th>\n",
       "    </tr>\n",
       "  </thead>\n",
       "  <tbody>\n",
       "    <tr>\n",
       "      <td id=\"T_7eb10_row0_col0\" class=\"data row0 col0\" >molsysmt.MolSys</td>\n",
       "      <td id=\"T_7eb10_row0_col1\" class=\"data row0 col1\" >62</td>\n",
       "      <td id=\"T_7eb10_row0_col2\" class=\"data row0 col2\" >7</td>\n",
       "      <td id=\"T_7eb10_row0_col3\" class=\"data row0 col3\" >1</td>\n",
       "      <td id=\"T_7eb10_row0_col4\" class=\"data row0 col4\" >1</td>\n",
       "      <td id=\"T_7eb10_row0_col5\" class=\"data row0 col5\" >1</td>\n",
       "      <td id=\"T_7eb10_row0_col6\" class=\"data row0 col6\" >1</td>\n",
       "      <td id=\"T_7eb10_row0_col7\" class=\"data row0 col7\" >1</td>\n",
       "      <td id=\"T_7eb10_row0_col8\" class=\"data row0 col8\" >5000</td>\n",
       "    </tr>\n",
       "  </tbody>\n",
       "</table>\n"
      ],
      "text/plain": [
       "<pandas.io.formats.style.Styler at 0x7fd391e9d4f0>"
      ]
     },
     "execution_count": 66,
     "metadata": {},
     "output_type": "execute_result"
    }
   ],
   "source": [
    "msm.info(molecular_system)"
   ]
  },
  {
   "cell_type": "code",
   "execution_count": 67,
   "metadata": {},
   "outputs": [
    {
     "data": {
      "text/html": [
       "<style type=\"text/css\">\n",
       "</style>\n",
       "<table id=\"T_b92eb\">\n",
       "  <thead>\n",
       "    <tr>\n",
       "      <th id=\"T_b92eb_level0_col0\" class=\"col_heading level0 col0\" >index</th>\n",
       "      <th id=\"T_b92eb_level0_col1\" class=\"col_heading level0 col1\" >id</th>\n",
       "      <th id=\"T_b92eb_level0_col2\" class=\"col_heading level0 col2\" >name</th>\n",
       "      <th id=\"T_b92eb_level0_col3\" class=\"col_heading level0 col3\" >type</th>\n",
       "      <th id=\"T_b92eb_level0_col4\" class=\"col_heading level0 col4\" >n atoms</th>\n",
       "      <th id=\"T_b92eb_level0_col5\" class=\"col_heading level0 col5\" >component index</th>\n",
       "      <th id=\"T_b92eb_level0_col6\" class=\"col_heading level0 col6\" >chain index</th>\n",
       "      <th id=\"T_b92eb_level0_col7\" class=\"col_heading level0 col7\" >molecule index</th>\n",
       "      <th id=\"T_b92eb_level0_col8\" class=\"col_heading level0 col8\" >molecule type</th>\n",
       "      <th id=\"T_b92eb_level0_col9\" class=\"col_heading level0 col9\" >entity index</th>\n",
       "      <th id=\"T_b92eb_level0_col10\" class=\"col_heading level0 col10\" >entity name</th>\n",
       "    </tr>\n",
       "  </thead>\n",
       "  <tbody>\n",
       "    <tr>\n",
       "      <td id=\"T_b92eb_row0_col0\" class=\"data row0 col0\" >0</td>\n",
       "      <td id=\"T_b92eb_row0_col1\" class=\"data row0 col1\" >1</td>\n",
       "      <td id=\"T_b92eb_row0_col2\" class=\"data row0 col2\" >ACE</td>\n",
       "      <td id=\"T_b92eb_row0_col3\" class=\"data row0 col3\" >terminal capping</td>\n",
       "      <td id=\"T_b92eb_row0_col4\" class=\"data row0 col4\" >6</td>\n",
       "      <td id=\"T_b92eb_row0_col5\" class=\"data row0 col5\" >0</td>\n",
       "      <td id=\"T_b92eb_row0_col6\" class=\"data row0 col6\" >0</td>\n",
       "      <td id=\"T_b92eb_row0_col7\" class=\"data row0 col7\" >0</td>\n",
       "      <td id=\"T_b92eb_row0_col8\" class=\"data row0 col8\" >peptide</td>\n",
       "      <td id=\"T_b92eb_row0_col9\" class=\"data row0 col9\" >0</td>\n",
       "      <td id=\"T_b92eb_row0_col10\" class=\"data row0 col10\" >Peptide_0</td>\n",
       "    </tr>\n",
       "    <tr>\n",
       "      <td id=\"T_b92eb_row1_col0\" class=\"data row1 col0\" >1</td>\n",
       "      <td id=\"T_b92eb_row1_col1\" class=\"data row1 col1\" >2</td>\n",
       "      <td id=\"T_b92eb_row1_col2\" class=\"data row1 col2\" >ALA</td>\n",
       "      <td id=\"T_b92eb_row1_col3\" class=\"data row1 col3\" >aminoacid</td>\n",
       "      <td id=\"T_b92eb_row1_col4\" class=\"data row1 col4\" >10</td>\n",
       "      <td id=\"T_b92eb_row1_col5\" class=\"data row1 col5\" >0</td>\n",
       "      <td id=\"T_b92eb_row1_col6\" class=\"data row1 col6\" >0</td>\n",
       "      <td id=\"T_b92eb_row1_col7\" class=\"data row1 col7\" >0</td>\n",
       "      <td id=\"T_b92eb_row1_col8\" class=\"data row1 col8\" >peptide</td>\n",
       "      <td id=\"T_b92eb_row1_col9\" class=\"data row1 col9\" >0</td>\n",
       "      <td id=\"T_b92eb_row1_col10\" class=\"data row1 col10\" >Peptide_0</td>\n",
       "    </tr>\n",
       "    <tr>\n",
       "      <td id=\"T_b92eb_row2_col0\" class=\"data row2 col0\" >2</td>\n",
       "      <td id=\"T_b92eb_row2_col1\" class=\"data row2 col1\" >3</td>\n",
       "      <td id=\"T_b92eb_row2_col2\" class=\"data row2 col2\" >ALA</td>\n",
       "      <td id=\"T_b92eb_row2_col3\" class=\"data row2 col3\" >aminoacid</td>\n",
       "      <td id=\"T_b92eb_row2_col4\" class=\"data row2 col4\" >10</td>\n",
       "      <td id=\"T_b92eb_row2_col5\" class=\"data row2 col5\" >0</td>\n",
       "      <td id=\"T_b92eb_row2_col6\" class=\"data row2 col6\" >0</td>\n",
       "      <td id=\"T_b92eb_row2_col7\" class=\"data row2 col7\" >0</td>\n",
       "      <td id=\"T_b92eb_row2_col8\" class=\"data row2 col8\" >peptide</td>\n",
       "      <td id=\"T_b92eb_row2_col9\" class=\"data row2 col9\" >0</td>\n",
       "      <td id=\"T_b92eb_row2_col10\" class=\"data row2 col10\" >Peptide_0</td>\n",
       "    </tr>\n",
       "    <tr>\n",
       "      <td id=\"T_b92eb_row3_col0\" class=\"data row3 col0\" >3</td>\n",
       "      <td id=\"T_b92eb_row3_col1\" class=\"data row3 col1\" >4</td>\n",
       "      <td id=\"T_b92eb_row3_col2\" class=\"data row3 col2\" >ALA</td>\n",
       "      <td id=\"T_b92eb_row3_col3\" class=\"data row3 col3\" >aminoacid</td>\n",
       "      <td id=\"T_b92eb_row3_col4\" class=\"data row3 col4\" >10</td>\n",
       "      <td id=\"T_b92eb_row3_col5\" class=\"data row3 col5\" >0</td>\n",
       "      <td id=\"T_b92eb_row3_col6\" class=\"data row3 col6\" >0</td>\n",
       "      <td id=\"T_b92eb_row3_col7\" class=\"data row3 col7\" >0</td>\n",
       "      <td id=\"T_b92eb_row3_col8\" class=\"data row3 col8\" >peptide</td>\n",
       "      <td id=\"T_b92eb_row3_col9\" class=\"data row3 col9\" >0</td>\n",
       "      <td id=\"T_b92eb_row3_col10\" class=\"data row3 col10\" >Peptide_0</td>\n",
       "    </tr>\n",
       "    <tr>\n",
       "      <td id=\"T_b92eb_row4_col0\" class=\"data row4 col0\" >4</td>\n",
       "      <td id=\"T_b92eb_row4_col1\" class=\"data row4 col1\" >5</td>\n",
       "      <td id=\"T_b92eb_row4_col2\" class=\"data row4 col2\" >ALA</td>\n",
       "      <td id=\"T_b92eb_row4_col3\" class=\"data row4 col3\" >aminoacid</td>\n",
       "      <td id=\"T_b92eb_row4_col4\" class=\"data row4 col4\" >10</td>\n",
       "      <td id=\"T_b92eb_row4_col5\" class=\"data row4 col5\" >0</td>\n",
       "      <td id=\"T_b92eb_row4_col6\" class=\"data row4 col6\" >0</td>\n",
       "      <td id=\"T_b92eb_row4_col7\" class=\"data row4 col7\" >0</td>\n",
       "      <td id=\"T_b92eb_row4_col8\" class=\"data row4 col8\" >peptide</td>\n",
       "      <td id=\"T_b92eb_row4_col9\" class=\"data row4 col9\" >0</td>\n",
       "      <td id=\"T_b92eb_row4_col10\" class=\"data row4 col10\" >Peptide_0</td>\n",
       "    </tr>\n",
       "    <tr>\n",
       "      <td id=\"T_b92eb_row5_col0\" class=\"data row5 col0\" >5</td>\n",
       "      <td id=\"T_b92eb_row5_col1\" class=\"data row5 col1\" >6</td>\n",
       "      <td id=\"T_b92eb_row5_col2\" class=\"data row5 col2\" >ALA</td>\n",
       "      <td id=\"T_b92eb_row5_col3\" class=\"data row5 col3\" >aminoacid</td>\n",
       "      <td id=\"T_b92eb_row5_col4\" class=\"data row5 col4\" >10</td>\n",
       "      <td id=\"T_b92eb_row5_col5\" class=\"data row5 col5\" >0</td>\n",
       "      <td id=\"T_b92eb_row5_col6\" class=\"data row5 col6\" >0</td>\n",
       "      <td id=\"T_b92eb_row5_col7\" class=\"data row5 col7\" >0</td>\n",
       "      <td id=\"T_b92eb_row5_col8\" class=\"data row5 col8\" >peptide</td>\n",
       "      <td id=\"T_b92eb_row5_col9\" class=\"data row5 col9\" >0</td>\n",
       "      <td id=\"T_b92eb_row5_col10\" class=\"data row5 col10\" >Peptide_0</td>\n",
       "    </tr>\n",
       "    <tr>\n",
       "      <td id=\"T_b92eb_row6_col0\" class=\"data row6 col0\" >6</td>\n",
       "      <td id=\"T_b92eb_row6_col1\" class=\"data row6 col1\" >7</td>\n",
       "      <td id=\"T_b92eb_row6_col2\" class=\"data row6 col2\" >NME</td>\n",
       "      <td id=\"T_b92eb_row6_col3\" class=\"data row6 col3\" >terminal capping</td>\n",
       "      <td id=\"T_b92eb_row6_col4\" class=\"data row6 col4\" >6</td>\n",
       "      <td id=\"T_b92eb_row6_col5\" class=\"data row6 col5\" >0</td>\n",
       "      <td id=\"T_b92eb_row6_col6\" class=\"data row6 col6\" >0</td>\n",
       "      <td id=\"T_b92eb_row6_col7\" class=\"data row6 col7\" >0</td>\n",
       "      <td id=\"T_b92eb_row6_col8\" class=\"data row6 col8\" >peptide</td>\n",
       "      <td id=\"T_b92eb_row6_col9\" class=\"data row6 col9\" >0</td>\n",
       "      <td id=\"T_b92eb_row6_col10\" class=\"data row6 col10\" >Peptide_0</td>\n",
       "    </tr>\n",
       "  </tbody>\n",
       "</table>\n"
      ],
      "text/plain": [
       "<pandas.io.formats.style.Styler at 0x7fd391ea8c70>"
      ]
     },
     "execution_count": 67,
     "metadata": {},
     "output_type": "execute_result"
    }
   ],
   "source": [
    "msm.info(molecular_system, element='group')"
   ]
  },
  {
   "cell_type": "markdown",
   "metadata": {},
   "source": [
    "Lets represent the distance between the geometric center of the terminal groups vs. the simulation time:"
   ]
  },
  {
   "cell_type": "code",
   "execution_count": 68,
   "metadata": {},
   "outputs": [],
   "source": [
    "distances = msm.structure.get_distances(molecular_system, selection=\"group_index==0\", group_behavior=\"geometric_center\",\n",
    "                         selection_2=\"group_index==6\", group_behavior_2=\"geometric_center\")"
   ]
  },
  {
   "cell_type": "code",
   "execution_count": 69,
   "metadata": {},
   "outputs": [],
   "source": [
    "times = msm.get(molecular_system, element=\"system\", time=True)"
   ]
  },
  {
   "cell_type": "code",
   "execution_count": 70,
   "metadata": {},
   "outputs": [
    {
     "name": "stderr",
     "output_type": "stream",
     "text": [
      "/home/diego/Myopt/miniconda3/envs/MolSysMT@dprada_3.9/lib/python3.9/site-packages/matplotlib/cbook/__init__.py:1298: UnitStrippedWarning: The unit of the quantity is stripped when downcasting to ndarray.\n",
      "  return np.asarray(x, float)\n"
     ]
    },
    {
     "data": {
      "image/png": "[encoded data removed]",
      "text/plain": [
       "<Figure size 640x480 with 1 Axes>"
      ]
     },
     "metadata": {},
     "output_type": "display_data"
    }
   ],
   "source": [
    "plt.plot(puw.convert(times, 'nanoseconds'), distances[:,0,0])\n",
    "plt.show()"
   ]
  },
  {
   "cell_type": "markdown",
   "metadata": {},
   "source": [
    "Or lets just get the distance between the geometric centers of all residues at the 3000-th frame:"
   ]
  },
  {
   "cell_type": "code",
   "execution_count": 71,
   "metadata": {},
   "outputs": [],
   "source": [
    "list_groups_1 = msm.get(molecular_system, element=\"group\", selection=\"all\", atom_index=True)\n",
    "distances = msm.structure.get_distances(molecular_system, groups_of_atoms=list_groups_1, group_behavior=\"geometric_center\",\n",
    "                         structure_indices=3000)"
   ]
  },
  {
   "cell_type": "code",
   "execution_count": 72,
   "metadata": {},
   "outputs": [
    {
     "data": {
      "text/plain": [
       "(1, 7, 7)"
      ]
     },
     "execution_count": 72,
     "metadata": {},
     "output_type": "execute_result"
    }
   ],
   "source": [
    "distances.shape"
   ]
  },
  {
   "cell_type": "code",
   "execution_count": 73,
   "metadata": {},
   "outputs": [
    {
     "name": "stdout",
     "output_type": "stream",
     "text": [
      "The distance between geometric_center of group 2-th and group 4-th at frame 3000-th is: 0.6818505282832528 nanometer\n"
     ]
    }
   ],
   "source": [
    "print(\"The distance between geometric_center of group 2-th and group 4-th at frame 3000-th is: {}\".format(distances[0,2,4]))"
   ]
  },
  {
   "cell_type": "markdown",
   "metadata": {},
   "source": [
    "### Distances between atom groups positions in different structures"
   ]
  },
  {
   "cell_type": "markdown",
   "metadata": {},
   "source": [
    "The method `molsysmt.distance()` works with atom groups just like with only atoms. There are two input arguments to select the coordinates of a set of atoms at two different structures:"
   ]
  },
  {
   "cell_type": "code",
   "execution_count": 74,
   "metadata": {},
   "outputs": [],
   "source": [
    "molecular_system = msm.demo['pentalanine']['traj.h5']\n",
    "molecular_system = msm.convert(molecular_system, to_form='molsysmt.MolSys')"
   ]
  },
  {
   "cell_type": "code",
   "execution_count": 75,
   "metadata": {},
   "outputs": [
    {
     "data": {
      "text/html": [
       "<style type=\"text/css\">\n",
       "</style>\n",
       "<table id=\"T_87d2d\">\n",
       "  <thead>\n",
       "    <tr>\n",
       "      <th id=\"T_87d2d_level0_col0\" class=\"col_heading level0 col0\" >form</th>\n",
       "      <th id=\"T_87d2d_level0_col1\" class=\"col_heading level0 col1\" >n_atoms</th>\n",
       "      <th id=\"T_87d2d_level0_col2\" class=\"col_heading level0 col2\" >n_groups</th>\n",
       "      <th id=\"T_87d2d_level0_col3\" class=\"col_heading level0 col3\" >n_components</th>\n",
       "      <th id=\"T_87d2d_level0_col4\" class=\"col_heading level0 col4\" >n_chains</th>\n",
       "      <th id=\"T_87d2d_level0_col5\" class=\"col_heading level0 col5\" >n_molecules</th>\n",
       "      <th id=\"T_87d2d_level0_col6\" class=\"col_heading level0 col6\" >n_entities</th>\n",
       "      <th id=\"T_87d2d_level0_col7\" class=\"col_heading level0 col7\" >n_peptides</th>\n",
       "      <th id=\"T_87d2d_level0_col8\" class=\"col_heading level0 col8\" >n_structures</th>\n",
       "    </tr>\n",
       "  </thead>\n",
       "  <tbody>\n",
       "    <tr>\n",
       "      <td id=\"T_87d2d_row0_col0\" class=\"data row0 col0\" >molsysmt.MolSys</td>\n",
       "      <td id=\"T_87d2d_row0_col1\" class=\"data row0 col1\" >62</td>\n",
       "      <td id=\"T_87d2d_row0_col2\" class=\"data row0 col2\" >7</td>\n",
       "      <td id=\"T_87d2d_row0_col3\" class=\"data row0 col3\" >1</td>\n",
       "      <td id=\"T_87d2d_row0_col4\" class=\"data row0 col4\" >1</td>\n",
       "      <td id=\"T_87d2d_row0_col5\" class=\"data row0 col5\" >1</td>\n",
       "      <td id=\"T_87d2d_row0_col6\" class=\"data row0 col6\" >1</td>\n",
       "      <td id=\"T_87d2d_row0_col7\" class=\"data row0 col7\" >1</td>\n",
       "      <td id=\"T_87d2d_row0_col8\" class=\"data row0 col8\" >5000</td>\n",
       "    </tr>\n",
       "  </tbody>\n",
       "</table>\n"
      ],
      "text/plain": [
       "<pandas.io.formats.style.Styler at 0x7fd391d58f70>"
      ]
     },
     "execution_count": 75,
     "metadata": {},
     "output_type": "execute_result"
    }
   ],
   "source": [
    "msm.info(molecular_system)"
   ]
  },
  {
   "cell_type": "markdown",
   "metadata": {},
   "source": [
    "Let see how `structure_indices_1` and `structure_indices_2` works in this context:"
   ]
  },
  {
   "cell_type": "code",
   "execution_count": 76,
   "metadata": {},
   "outputs": [],
   "source": [
    "distances = msm.structure.get_distances(molecular_system,\n",
    "                         selection=\"group_index==0\", group_behavior=\"geometric_center\",\n",
    "                         structure_indices=100,\n",
    "                         selection_2=\"group_index==6\", group_behavior_2=\"geometric_center\",\n",
    "                         structure_indices_2=200)"
   ]
  },
  {
   "cell_type": "code",
   "execution_count": 77,
   "metadata": {},
   "outputs": [
    {
     "data": {
      "text/plain": [
       "(1, 1, 1)"
      ]
     },
     "execution_count": 77,
     "metadata": {},
     "output_type": "execute_result"
    }
   ],
   "source": [
    "distances.shape"
   ]
  },
  {
   "cell_type": "markdown",
   "metadata": {},
   "source": [
    "The physical meaning of this former example is clear but not really useful, unless `selection` is the same as `selection_2` as we can see in the following section."
   ]
  },
  {
   "cell_type": "markdown",
   "metadata": {},
   "source": [
    "### Displacement distances of atom groups"
   ]
  },
  {
   "cell_type": "markdown",
   "metadata": {},
   "source": [
    "The possibility to get the distance between the coordinates of an object at two different structures makes the obtention of atom groups displacements straightforward. Lets plot the distance walked by the 0-th group of the former pentalanine peptide between consecutive structures of the trajectory store in `pentalanine.h5`:"
   ]
  },
  {
   "cell_type": "code",
   "execution_count": 78,
   "metadata": {},
   "outputs": [],
   "source": [
    "molecular_system = msm.demo['pentalanine']['traj.h5']\n",
    "molecular_system = msm.convert(molecular_system, to_form='molsysmt.MolSys')"
   ]
  },
  {
   "cell_type": "code",
   "execution_count": 79,
   "metadata": {},
   "outputs": [],
   "source": [
    "n_structures = msm.get(molecular_system, n_structures=True)"
   ]
  },
  {
   "cell_type": "code",
   "execution_count": 80,
   "metadata": {},
   "outputs": [],
   "source": [
    "all_structure_indices = np.arange(n_structures)"
   ]
  },
  {
   "cell_type": "code",
   "execution_count": 81,
   "metadata": {},
   "outputs": [],
   "source": [
    "displacements = msm.structure.get_distances(molecular_system, selection=\"group_index==0\", group_behavior=\"geometric_center\",\n",
    "                             structure_indices=all_structure_indices[:-1], structure_indices_2=all_structure_indices[1:])"
   ]
  },
  {
   "cell_type": "code",
   "execution_count": 82,
   "metadata": {},
   "outputs": [],
   "source": [
    "time = msm.get(molecular_system, element='system', structure_indices=all_structure_indices[:-1], time=True)"
   ]
  },
  {
   "cell_type": "code",
   "execution_count": 83,
   "metadata": {},
   "outputs": [
    {
     "name": "stderr",
     "output_type": "stream",
     "text": [
      "/home/diego/Myopt/miniconda3/envs/MolSysMT@dprada_3.9/lib/python3.9/site-packages/matplotlib/cbook/__init__.py:1298: UnitStrippedWarning: The unit of the quantity is stripped when downcasting to ndarray.\n",
      "  return np.asarray(x, float)\n"
     ]
    },
    {
     "data": {
      "image/png": "[encoded data removed]",
      "text/plain": [
       "<Figure size 640x480 with 1 Axes>"
      ]
     },
     "metadata": {},
     "output_type": "display_data"
    }
   ],
   "source": [
    "plt.plot(puw.convert(time,'ns'), displacements[:,0,0])\n",
    "plt.show()"
   ]
  },
  {
   "cell_type": "markdown",
   "metadata": {},
   "source": [
    "Or we can, for instance, get the distance of the center of mass of the whole molecule from the initial configuration to every time step along the trajectory:"
   ]
  },
  {
   "cell_type": "code",
   "execution_count": 84,
   "metadata": {},
   "outputs": [],
   "source": [
    "displacements = msm.structure.get_distances(molecular_system, selection=\"all\",\n",
    "                             structure_indices=np.zeros(n_structures, dtype=int), structure_indices_2=all_structure_indices)"
   ]
  },
  {
   "cell_type": "code",
   "execution_count": 85,
   "metadata": {},
   "outputs": [
    {
     "data": {
      "text/html": [
       "0.45176813186030235 nanometer"
      ],
      "text/latex": [
       "$0.45176813186030235\\ \\mathrm{nanometer}$"
      ],
      "text/plain": [
       "0.45176813186030235 <Unit('nanometer')>"
      ]
     },
     "execution_count": 85,
     "metadata": {},
     "output_type": "execute_result"
    }
   ],
   "source": [
    "displacements[1000,30,30]"
   ]
  },
  {
   "cell_type": "code",
   "execution_count": 86,
   "metadata": {},
   "outputs": [],
   "source": [
    "time = msm.get(molecular_system, element='system', time=True)"
   ]
  },
  {
   "cell_type": "code",
   "execution_count": 87,
   "metadata": {},
   "outputs": [
    {
     "data": {
      "image/png": "[encoded data removed]",
      "text/plain": [
       "<Figure size 640x480 with 1 Axes>"
      ]
     },
     "metadata": {},
     "output_type": "display_data"
    }
   ],
   "source": [
    "plt.plot(puw.convert(time, 'ns'), displacements[:,0,0])\n",
    "plt.show()"
   ]
  },
  {
   "cell_type": "markdown",
   "metadata": {},
   "source": [
    "### Distance between pairs of groups of atoms"
   ]
  },
  {
   "cell_type": "markdown",
   "metadata": {},
   "source": [
    "Lets see the following example where all distances betweeen the geometric center of the residues of pentalanine is computed along a short trajectory:"
   ]
  },
  {
   "cell_type": "code",
   "execution_count": 88,
   "metadata": {},
   "outputs": [],
   "source": [
    "molecular_system = msm.demo['pentalanine']['traj.h5']\n",
    "molecular_system = msm.convert(molecular_system, to_form='molsysmt.MolSys')"
   ]
  },
  {
   "cell_type": "code",
   "execution_count": 89,
   "metadata": {},
   "outputs": [],
   "source": [
    "list_atom_groups = msm.get(molecular_system, element='group', selection='all', atom_index=True)"
   ]
  },
  {
   "cell_type": "code",
   "execution_count": 90,
   "metadata": {},
   "outputs": [
    {
     "data": {
      "text/plain": [
       "array([array([0, 1, 2, 3, 4, 5]),\n",
       "       array([ 6,  7,  8,  9, 10, 11, 12, 13, 14, 15]),\n",
       "       array([16, 17, 18, 19, 20, 21, 22, 23, 24, 25]),\n",
       "       array([26, 27, 28, 29, 30, 31, 32, 33, 34, 35]),\n",
       "       array([36, 37, 38, 39, 40, 41, 42, 43, 44, 45]),\n",
       "       array([46, 47, 48, 49, 50, 51, 52, 53, 54, 55]),\n",
       "       array([56, 57, 58, 59, 60, 61])], dtype=object)"
      ]
     },
     "execution_count": 90,
     "metadata": {},
     "output_type": "execute_result"
    }
   ],
   "source": [
    "list_atom_groups"
   ]
  },
  {
   "cell_type": "code",
   "execution_count": 91,
   "metadata": {},
   "outputs": [],
   "source": [
    "distances = msm.structure.get_distances(molecular_system, groups_of_atoms=list_atom_groups,\n",
    "                         group_behavior='geometric_center')"
   ]
  },
  {
   "cell_type": "code",
   "execution_count": 92,
   "metadata": {},
   "outputs": [
    {
     "data": {
      "text/plain": [
       "(5000, 7, 7)"
      ]
     },
     "execution_count": 92,
     "metadata": {},
     "output_type": "execute_result"
    }
   ],
   "source": [
    "distances.shape"
   ]
  },
  {
   "cell_type": "markdown",
   "metadata": {},
   "source": [
    "The method worked needlessly computing the distances between different groups twice, as well as getting the distance between a geometric center to the its self for every residue. This can be avoided thanks to the input argument `pairs=True`. Using `pairs=True`, as it can be seen in the corresponding section about distances of atoms pairs, the distances between atom groups pairs made by consecutive elements of two zipped lists are obtained. Lets see this with a pratical case:"
   ]
  },
  {
   "cell_type": "code",
   "execution_count": 93,
   "metadata": {},
   "outputs": [
    {
     "name": "stdout",
     "output_type": "stream",
     "text": [
      "0.vs.1\n",
      "0.vs.2\n",
      "0.vs.3\n",
      "0.vs.4\n",
      "0.vs.5\n",
      "0.vs.6\n",
      "1.vs.2\n",
      "1.vs.3\n",
      "1.vs.4\n",
      "1.vs.5\n",
      "1.vs.6\n",
      "2.vs.3\n",
      "2.vs.4\n",
      "2.vs.5\n",
      "2.vs.6\n",
      "3.vs.4\n",
      "3.vs.5\n",
      "3.vs.6\n",
      "4.vs.5\n",
      "4.vs.6\n",
      "5.vs.6\n"
     ]
    }
   ],
   "source": [
    "from itertools import combinations \n",
    "\n",
    "list_atom_groups_1=[]\n",
    "list_atom_groups_2=[]\n",
    "aux_list_1=[]\n",
    "aux_list_2=[]\n",
    "\n",
    "for ii,jj in combinations(range(7), 2):\n",
    "    print('{}.vs.{}'.format(ii,jj))\n",
    "    aux_list_1.append(ii)\n",
    "    aux_list_2.append(jj)\n",
    "    list_atom_groups_1.append(list_atom_groups[ii])\n",
    "    list_atom_groups_2.append(list_atom_groups[jj])"
   ]
  },
  {
   "cell_type": "code",
   "execution_count": 94,
   "metadata": {},
   "outputs": [],
   "source": [
    "distances = msm.structure.get_distances(molecular_system, groups_of_atoms=list_atom_groups_1, group_behavior='geometric_center',\n",
    "                         groups_of_atoms_2=list_atom_groups_2, group_behavior_2='geometric_center', pairs=True)"
   ]
  },
  {
   "cell_type": "code",
   "execution_count": 95,
   "metadata": {},
   "outputs": [
    {
     "data": {
      "text/plain": [
       "(5000, 21)"
      ]
     },
     "execution_count": 95,
     "metadata": {},
     "output_type": "execute_result"
    }
   ],
   "source": [
    "distances.shape"
   ]
  },
  {
   "cell_type": "markdown",
   "metadata": {},
   "source": [
    "Lets plot the distance of a given pair, 12-th p.e., defined by the groups:"
   ]
  },
  {
   "cell_type": "code",
   "execution_count": 96,
   "metadata": {},
   "outputs": [
    {
     "name": "stdout",
     "output_type": "stream",
     "text": [
      "The 12-th pair is made by groups 2-th and 4-th, and its distance along the trajectory is:\n"
     ]
    }
   ],
   "source": [
    "print('The 12-th pair is made by groups {}-th and {}-th, and its distance along the trajectory is:'.format(aux_list_1[12], aux_list_2[12]))"
   ]
  },
  {
   "cell_type": "code",
   "execution_count": 97,
   "metadata": {},
   "outputs": [
    {
     "name": "stderr",
     "output_type": "stream",
     "text": [
      "/home/diego/Myopt/miniconda3/envs/MolSysMT@dprada_3.9/lib/python3.9/site-packages/matplotlib/cbook/__init__.py:1298: UnitStrippedWarning: The unit of the quantity is stripped when downcasting to ndarray.\n",
      "  return np.asarray(x, float)\n"
     ]
    },
    {
     "data": {
      "image/png": "[encoded data removed]",
      "text/plain": [
       "<Figure size 640x480 with 1 Axes>"
      ]
     },
     "metadata": {},
     "output_type": "display_data"
    }
   ],
   "source": [
    "time = msm.get(molecular_system, element='system', time=True)\n",
    "plt.plot(puw.convert(time, 'ns'), distances[:,12])\n",
    "plt.show()"
   ]
  },
  {
   "cell_type": "code",
   "execution_count": null,
   "metadata": {},
   "outputs": [],
   "source": []
  }
 ],
 "metadata": {
  "kernelspec": {
   "display_name": "Python 3 (ipykernel)",
   "language": "python",
   "name": "python3"
  },
  "language_info": {
   "codemirror_mode": {
    "name": "ipython",
    "version": 3
   },
   "file_extension": ".py",
   "mimetype": "text/x-python",
   "name": "python",
   "nbconvert_exporter": "python",
   "pygments_lexer": "ipython3",
   "version": "3.10.12"
  }
 },
 "nbformat": 4,
 "nbformat_minor": 4
}
