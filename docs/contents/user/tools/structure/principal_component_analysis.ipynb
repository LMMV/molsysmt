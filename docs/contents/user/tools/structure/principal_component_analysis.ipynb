{
 "cells": [
  {
   "cell_type": "code",
   "execution_count": 1,
   "id": "8381580a-dd8f-497e-9833-088c551b75b0",
   "metadata": {
    "execution": {
     "iopub.execute_input": "2025-03-11T21:04:22.334433Z",
     "iopub.status.busy": "2025-03-11T21:04:22.334072Z",
     "iopub.status.idle": "2025-03-11T21:04:29.737698Z",
     "shell.execute_reply": "2025-03-11T21:04:29.736915Z"
    }
   },
   "outputs": [
    {
     "data": {
      "application/vnd.jupyter.widget-view+json": {
       "model_id": "153f5269b95d4cf98cf4048804a3c779",
       "version_major": 2,
       "version_minor": 0
      },
      "text/plain": []
     },
     "metadata": {},
     "output_type": "display_data"
    }
   ],
   "source": [
    "import molsysmt as msm\n",
    "from molsysmt import pyunitwizard as puw\n",
    "import numpy as np\n",
    "import matplotlib.pyplot as plt"
   ]
  },
  {
   "cell_type": "markdown",
   "id": "b5940292-bb3a-4eef-976a-412f6ab9c691",
   "metadata": {},
   "source": [
    "# Principal component analysis"
   ]
  },
  {
   "cell_type": "code",
   "execution_count": 2,
   "id": "0c679401-6afd-48cd-8157-ef139cb6a94e",
   "metadata": {
    "execution": {
     "iopub.execute_input": "2025-03-11T21:04:29.743861Z",
     "iopub.status.busy": "2025-03-11T21:04:29.742593Z",
     "iopub.status.idle": "2025-03-11T21:04:30.963312Z",
     "shell.execute_reply": "2025-03-11T21:04:30.962265Z"
    }
   },
   "outputs": [],
   "source": [
    "molecular_system = msm.systems['pentalanine']['traj_pentalanine.h5']\n",
    "molecular_system = msm.convert(molecular_system, to_form='molsysmt.MolSys')"
   ]
  },
  {
   "cell_type": "code",
   "execution_count": 3,
   "id": "5e79a806-b374-4f47-aef6-da908d27e867",
   "metadata": {
    "execution": {
     "iopub.execute_input": "2025-03-11T21:04:30.968693Z",
     "iopub.status.busy": "2025-03-11T21:04:30.966226Z",
     "iopub.status.idle": "2025-03-11T21:04:31.921225Z",
     "shell.execute_reply": "2025-03-11T21:04:31.920167Z"
    }
   },
   "outputs": [],
   "source": [
    "pcs, sigmas = msm.structure.principal_component_analysis(molecular_system, selection='atom_name==\"CA\"')"
   ]
  },
  {
   "cell_type": "code",
   "execution_count": 4,
   "id": "6665a018-0548-46d9-a5b3-8597a8b35a3c",
   "metadata": {
    "execution": {
     "iopub.execute_input": "2025-03-11T21:04:31.924924Z",
     "iopub.status.busy": "2025-03-11T21:04:31.924161Z",
     "iopub.status.idle": "2025-03-11T21:04:31.935662Z",
     "shell.execute_reply": "2025-03-11T21:04:31.934712Z"
    },
    "scrolled": true
   },
   "outputs": [
    {
     "data": {
      "text/plain": [
       "array([-7.61673223e+00, -2.40353497e+00, -7.07258185e-01, -5.66336274e-01,\n",
       "       -4.55056633e-01, -7.10380242e-03, -3.47446577e-03,  1.28211399e-03,\n",
       "        1.99369789e-03,  4.33715991e-03,  3.91734124e-02,  4.61545377e-01,\n",
       "        4.96569155e-01,  8.32111142e-01,  9.15973936e-01])"
      ]
     },
     "execution_count": 4,
     "metadata": {},
     "output_type": "execute_result"
    }
   ],
   "source": [
    "sigmas"
   ]
  },
  {
   "cell_type": "code",
   "execution_count": null,
   "id": "23ec69f9-f98a-46ea-af0f-741f5d67f98d",
   "metadata": {},
   "outputs": [],
   "source": []
  },
  {
   "cell_type": "code",
   "execution_count": null,
   "id": "6ee93e7e-9f19-4a6b-ab92-6536ee78a5d0",
   "metadata": {},
   "outputs": [],
   "source": []
  }
 ],
 "metadata": {
  "kernelspec": {
   "display_name": "Python 3 (ipykernel)",
   "language": "python",
   "name": "python3"
  },
  "language_info": {
   "codemirror_mode": {
    "name": "ipython",
    "version": 3
   },
   "file_extension": ".py",
   "mimetype": "text/x-python",
   "name": "python",
   "nbconvert_exporter": "python",
   "pygments_lexer": "ipython3",
   "version": "3.12.8"
  },
  "widgets": {
   "application/vnd.jupyter.widget-state+json": {
    "state": {
     "153f5269b95d4cf98cf4048804a3c779": {
      "model_module": "nglview-js-widgets",
      "model_module_version": "3.1.4",
      "model_name": "ColormakerRegistryModel",
      "state": {
       "_dom_classes": [],
       "_model_module": "nglview-js-widgets",
       "_model_module_version": "3.1.4",
       "_model_name": "ColormakerRegistryModel",
       "_msg_ar": [],
       "_msg_q": [],
       "_ready": false,
       "_view_count": null,
       "_view_module": "nglview-js-widgets",
       "_view_module_version": "3.1.4",
       "_view_name": "ColormakerRegistryView",
       "layout": "IPY_MODEL_af41ba818a084411adebf5c892f63448",
       "tabbable": null,
       "tooltip": null
      }
     },
     "af41ba818a084411adebf5c892f63448": {
      "model_module": "@jupyter-widgets/base",
      "model_module_version": "2.0.0",
      "model_name": "LayoutModel",
      "state": {
       "_model_module": "@jupyter-widgets/base",
       "_model_module_version": "2.0.0",
       "_model_name": "LayoutModel",
       "_view_count": null,
       "_view_module": "@jupyter-widgets/base",
       "_view_module_version": "2.0.0",
       "_view_name": "LayoutView",
       "align_content": null,
       "align_items": null,
       "align_self": null,
       "border_bottom": null,
       "border_left": null,
       "border_right": null,
       "border_top": null,
       "bottom": null,
       "display": null,
       "flex": null,
       "flex_flow": null,
       "grid_area": null,
       "grid_auto_columns": null,
       "grid_auto_flow": null,
       "grid_auto_rows": null,
       "grid_column": null,
       "grid_gap": null,
       "grid_row": null,
       "grid_template_areas": null,
       "grid_template_columns": null,
       "grid_template_rows": null,
       "height": null,
       "justify_content": null,
       "justify_items": null,
       "left": null,
       "margin": null,
       "max_height": null,
       "max_width": null,
       "min_height": null,
       "min_width": null,
       "object_fit": null,
       "object_position": null,
       "order": null,
       "overflow": null,
       "padding": null,
       "right": null,
       "top": null,
       "visibility": null,
       "width": null
      }
     }
    },
    "version_major": 2,
    "version_minor": 0
   }
  }
 },
 "nbformat": 4,
 "nbformat_minor": 5
}
