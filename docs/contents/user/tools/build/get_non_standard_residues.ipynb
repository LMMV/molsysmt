{
 "cells": [
  {
   "cell_type": "code",
   "execution_count": 1,
   "id": "1c11382e-f67d-466e-aee6-5725b4200a69",
   "metadata": {
    "execution": {
     "iopub.execute_input": "2025-03-11T21:06:35.888937Z",
     "iopub.status.busy": "2025-03-11T21:06:35.888510Z",
     "iopub.status.idle": "2025-03-11T21:06:35.928220Z",
     "shell.execute_reply": "2025-03-11T21:06:35.927255Z"
    }
   },
   "outputs": [],
   "source": [
    "%load_ext autoreload\n",
    "%autoreload 2"
   ]
  },
  {
   "cell_type": "code",
   "execution_count": 2,
   "id": "3775837e-62a7-4079-9661-372cc4563718",
   "metadata": {
    "execution": {
     "iopub.execute_input": "2025-03-11T21:06:35.932096Z",
     "iopub.status.busy": "2025-03-11T21:06:35.931642Z",
     "iopub.status.idle": "2025-03-11T21:06:44.972610Z",
     "shell.execute_reply": "2025-03-11T21:06:44.971513Z"
    }
   },
   "outputs": [
    {
     "data": {
      "application/vnd.jupyter.widget-view+json": {
       "model_id": "19b62134eeb34df3827f2965aacfe3b4",
       "version_major": 2,
       "version_minor": 0
      },
      "text/plain": []
     },
     "metadata": {},
     "output_type": "display_data"
    }
   ],
   "source": [
    "import molsysmt as msm"
   ]
  },
  {
   "cell_type": "markdown",
   "id": "2f6cd114-c906-428f-b51f-3f7ff6267132",
   "metadata": {},
   "source": [
    "# Get non standard residues"
   ]
  },
  {
   "cell_type": "code",
   "execution_count": 3,
   "id": "95b6a16b-e939-4f6d-9c21-7b025868cbdb",
   "metadata": {
    "execution": {
     "iopub.execute_input": "2025-03-11T21:06:44.977048Z",
     "iopub.status.busy": "2025-03-11T21:06:44.976090Z",
     "iopub.status.idle": "2025-03-11T21:06:47.394980Z",
     "shell.execute_reply": "2025-03-11T21:06:47.394025Z"
    }
   },
   "outputs": [],
   "source": [
    "molecular_system = msm.convert('1YRI')"
   ]
  },
  {
   "cell_type": "code",
   "execution_count": 4,
   "id": "8b263969-b80e-4fb7-b791-b2352db3a702",
   "metadata": {
    "execution": {
     "iopub.execute_input": "2025-03-11T21:06:47.399459Z",
     "iopub.status.busy": "2025-03-11T21:06:47.398223Z",
     "iopub.status.idle": "2025-03-11T21:06:48.196851Z",
     "shell.execute_reply": "2025-03-11T21:06:48.195944Z"
    }
   },
   "outputs": [
    {
     "data": {
      "text/plain": [
       "{}"
      ]
     },
     "execution_count": 4,
     "metadata": {},
     "output_type": "execute_result"
    }
   ],
   "source": [
    "msm.build.get_non_standard_residues(molecular_system)"
   ]
  },
  {
   "cell_type": "code",
   "execution_count": null,
   "id": "82aeb781-96ba-486d-8773-fe35301f0ce8",
   "metadata": {},
   "outputs": [],
   "source": []
  }
 ],
 "metadata": {
  "kernelspec": {
   "display_name": "Python 3 (ipykernel)",
   "language": "python",
   "name": "python3"
  },
  "language_info": {
   "codemirror_mode": {
    "name": "ipython",
    "version": 3
   },
   "file_extension": ".py",
   "mimetype": "text/x-python",
   "name": "python",
   "nbconvert_exporter": "python",
   "pygments_lexer": "ipython3",
   "version": "3.12.8"
  },
  "widgets": {
   "application/vnd.jupyter.widget-state+json": {
    "state": {
     "19b62134eeb34df3827f2965aacfe3b4": {
      "model_module": "nglview-js-widgets",
      "model_module_version": "3.1.4",
      "model_name": "ColormakerRegistryModel",
      "state": {
       "_dom_classes": [],
       "_model_module": "nglview-js-widgets",
       "_model_module_version": "3.1.4",
       "_model_name": "ColormakerRegistryModel",
       "_msg_ar": [],
       "_msg_q": [],
       "_ready": false,
       "_view_count": null,
       "_view_module": "nglview-js-widgets",
       "_view_module_version": "3.1.4",
       "_view_name": "ColormakerRegistryView",
       "layout": "IPY_MODEL_f8b201c9c0ce4b38ab46be2478691bb6",
       "tabbable": null,
       "tooltip": null
      }
     },
     "f8b201c9c0ce4b38ab46be2478691bb6": {
      "model_module": "@jupyter-widgets/base",
      "model_module_version": "2.0.0",
      "model_name": "LayoutModel",
      "state": {
       "_model_module": "@jupyter-widgets/base",
       "_model_module_version": "2.0.0",
       "_model_name": "LayoutModel",
       "_view_count": null,
       "_view_module": "@jupyter-widgets/base",
       "_view_module_version": "2.0.0",
       "_view_name": "LayoutView",
       "align_content": null,
       "align_items": null,
       "align_self": null,
       "border_bottom": null,
       "border_left": null,
       "border_right": null,
       "border_top": null,
       "bottom": null,
       "display": null,
       "flex": null,
       "flex_flow": null,
       "grid_area": null,
       "grid_auto_columns": null,
       "grid_auto_flow": null,
       "grid_auto_rows": null,
       "grid_column": null,
       "grid_gap": null,
       "grid_row": null,
       "grid_template_areas": null,
       "grid_template_columns": null,
       "grid_template_rows": null,
       "height": null,
       "justify_content": null,
       "justify_items": null,
       "left": null,
       "margin": null,
       "max_height": null,
       "max_width": null,
       "min_height": null,
       "min_width": null,
       "object_fit": null,
       "object_position": null,
       "order": null,
       "overflow": null,
       "padding": null,
       "right": null,
       "top": null,
       "visibility": null,
       "width": null
      }
     }
    },
    "version_major": 2,
    "version_minor": 0
   }
  }
 },
 "nbformat": 4,
 "nbformat_minor": 5
}
