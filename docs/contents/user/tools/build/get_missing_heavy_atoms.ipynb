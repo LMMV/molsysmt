{
 "cells": [
  {
   "cell_type": "code",
   "execution_count": 1,
   "id": "c8a85f60-91ce-4353-8363-3f417ff4af7f",
   "metadata": {
    "execution": {
     "iopub.execute_input": "2025-04-14T03:02:28.264186Z",
     "iopub.status.busy": "2025-04-14T03:02:28.263399Z",
     "iopub.status.idle": "2025-04-14T03:02:28.271600Z",
     "shell.execute_reply": "2025-04-14T03:02:28.270502Z"
    },
    "tags": [
     "remove-input"
    ]
   },
   "outputs": [],
   "source": [
    "# This cell is removed with the tag: \"remove-input\"\n",
    "# As such, it will not be shown in documentation\n",
    "\n",
    "import warnings\n",
    "warnings.filterwarnings('ignore')"
   ]
  },
  {
   "cell_type": "markdown",
   "id": "2f6cd114-c906-428f-b51f-3f7ff6267132",
   "metadata": {},
   "source": [
    "(UserGuide_Tools_Build_GetMissingHeavyAtoms)=\n",
    "# Get missing heavy atoms\n",
    "*Getting the missing heavy atoms of a molecular system*\n",
    "\n",
    "Some molecular systems have missing heavy atoms that can be identified when the topological attributes included in the system allow it. For example, a structure solved by Xray diffraction and deposited in the Protein Data Bank can have some defects, as missing heavy atoms. Let's see for instance a case where we can find missing heavy atoms in the system... and some other defects:"
   ]
  },
  {
   "cell_type": "code",
   "execution_count": 2,
   "id": "4f3f025c-9c4a-4758-ad27-b19fe4a7c7fd",
   "metadata": {
    "execution": {
     "iopub.execute_input": "2025-04-14T03:02:28.275071Z",
     "iopub.status.busy": "2025-04-14T03:02:28.274764Z",
     "iopub.status.idle": "2025-04-14T03:02:33.460108Z",
     "shell.execute_reply": "2025-04-14T03:02:33.459360Z"
    }
   },
   "outputs": [
    {
     "data": {
      "application/vnd.jupyter.widget-view+json": {
       "model_id": "577b2d9bf88849c8bda7bdc1993d6a1d",
       "version_major": 2,
       "version_minor": 0
      },
      "text/plain": []
     },
     "metadata": {},
     "output_type": "display_data"
    }
   ],
   "source": [
    "import molsysmt as msm"
   ]
  },
  {
   "cell_type": "code",
   "execution_count": 3,
   "id": "a32f3eaa-c3ac-42c1-b9c4-117992e36e1c",
   "metadata": {
    "execution": {
     "iopub.execute_input": "2025-04-14T03:02:33.463015Z",
     "iopub.status.busy": "2025-04-14T03:02:33.462085Z",
     "iopub.status.idle": "2025-04-14T03:02:37.613933Z",
     "shell.execute_reply": "2025-04-14T03:02:37.613150Z"
    }
   },
   "outputs": [],
   "source": [
    "molecular_system = msm.convert('1BRS', selection='molecule_type==\"protein\"')"
   ]
  },
  {
   "cell_type": "code",
   "execution_count": 4,
   "id": "0f3e94bb-366f-4fe4-b686-f9e1875f6191",
   "metadata": {
    "execution": {
     "iopub.execute_input": "2025-04-14T03:02:37.617070Z",
     "iopub.status.busy": "2025-04-14T03:02:37.616364Z",
     "iopub.status.idle": "2025-04-14T03:02:38.706145Z",
     "shell.execute_reply": "2025-04-14T03:02:38.705395Z"
    }
   },
   "outputs": [
    {
     "data": {
      "text/html": [
       "<style type=\"text/css\">\n",
       "</style>\n",
       "<table id=\"T_a720b\">\n",
       "  <thead>\n",
       "    <tr>\n",
       "      <th id=\"T_a720b_level0_col0\" class=\"col_heading level0 col0\" >index</th>\n",
       "      <th id=\"T_a720b_level0_col1\" class=\"col_heading level0 col1\" >name</th>\n",
       "      <th id=\"T_a720b_level0_col2\" class=\"col_heading level0 col2\" >type</th>\n",
       "      <th id=\"T_a720b_level0_col3\" class=\"col_heading level0 col3\" >n atoms</th>\n",
       "      <th id=\"T_a720b_level0_col4\" class=\"col_heading level0 col4\" >n groups</th>\n",
       "      <th id=\"T_a720b_level0_col5\" class=\"col_heading level0 col5\" >n components</th>\n",
       "      <th id=\"T_a720b_level0_col6\" class=\"col_heading level0 col6\" >chain index</th>\n",
       "      <th id=\"T_a720b_level0_col7\" class=\"col_heading level0 col7\" >entity index</th>\n",
       "      <th id=\"T_a720b_level0_col8\" class=\"col_heading level0 col8\" >entity name</th>\n",
       "    </tr>\n",
       "  </thead>\n",
       "  <tbody>\n",
       "    <tr>\n",
       "      <td id=\"T_a720b_row0_col0\" class=\"data row0 col0\" >0</td>\n",
       "      <td id=\"T_a720b_row0_col1\" class=\"data row0 col1\" >BARNASE</td>\n",
       "      <td id=\"T_a720b_row0_col2\" class=\"data row0 col2\" >protein</td>\n",
       "      <td id=\"T_a720b_row0_col3\" class=\"data row0 col3\" >864</td>\n",
       "      <td id=\"T_a720b_row0_col4\" class=\"data row0 col4\" >108</td>\n",
       "      <td id=\"T_a720b_row0_col5\" class=\"data row0 col5\" >1</td>\n",
       "      <td id=\"T_a720b_row0_col6\" class=\"data row0 col6\" >0</td>\n",
       "      <td id=\"T_a720b_row0_col7\" class=\"data row0 col7\" >0</td>\n",
       "      <td id=\"T_a720b_row0_col8\" class=\"data row0 col8\" >BARNASE</td>\n",
       "    </tr>\n",
       "    <tr>\n",
       "      <td id=\"T_a720b_row1_col0\" class=\"data row1 col0\" >1</td>\n",
       "      <td id=\"T_a720b_row1_col1\" class=\"data row1 col1\" >BARNASE</td>\n",
       "      <td id=\"T_a720b_row1_col2\" class=\"data row1 col2\" >protein</td>\n",
       "      <td id=\"T_a720b_row1_col3\" class=\"data row1 col3\" >878</td>\n",
       "      <td id=\"T_a720b_row1_col4\" class=\"data row1 col4\" >110</td>\n",
       "      <td id=\"T_a720b_row1_col5\" class=\"data row1 col5\" >1</td>\n",
       "      <td id=\"T_a720b_row1_col6\" class=\"data row1 col6\" >1</td>\n",
       "      <td id=\"T_a720b_row1_col7\" class=\"data row1 col7\" >0</td>\n",
       "      <td id=\"T_a720b_row1_col8\" class=\"data row1 col8\" >BARNASE</td>\n",
       "    </tr>\n",
       "    <tr>\n",
       "      <td id=\"T_a720b_row2_col0\" class=\"data row2 col0\" >2</td>\n",
       "      <td id=\"T_a720b_row2_col1\" class=\"data row2 col1\" >BARNASE</td>\n",
       "      <td id=\"T_a720b_row2_col2\" class=\"data row2 col2\" >protein</td>\n",
       "      <td id=\"T_a720b_row2_col3\" class=\"data row2 col3\" >839</td>\n",
       "      <td id=\"T_a720b_row2_col4\" class=\"data row2 col4\" >108</td>\n",
       "      <td id=\"T_a720b_row2_col5\" class=\"data row2 col5\" >1</td>\n",
       "      <td id=\"T_a720b_row2_col6\" class=\"data row2 col6\" >2</td>\n",
       "      <td id=\"T_a720b_row2_col7\" class=\"data row2 col7\" >0</td>\n",
       "      <td id=\"T_a720b_row2_col8\" class=\"data row2 col8\" >BARNASE</td>\n",
       "    </tr>\n",
       "    <tr>\n",
       "      <td id=\"T_a720b_row3_col0\" class=\"data row3 col0\" >3</td>\n",
       "      <td id=\"T_a720b_row3_col1\" class=\"data row3 col1\" >BARSTAR</td>\n",
       "      <td id=\"T_a720b_row3_col2\" class=\"data row3 col2\" >protein</td>\n",
       "      <td id=\"T_a720b_row3_col3\" class=\"data row3 col3\" >693</td>\n",
       "      <td id=\"T_a720b_row3_col4\" class=\"data row3 col4\" >87</td>\n",
       "      <td id=\"T_a720b_row3_col5\" class=\"data row3 col5\" >2</td>\n",
       "      <td id=\"T_a720b_row3_col6\" class=\"data row3 col6\" >3</td>\n",
       "      <td id=\"T_a720b_row3_col7\" class=\"data row3 col7\" >1</td>\n",
       "      <td id=\"T_a720b_row3_col8\" class=\"data row3 col8\" >BARSTAR</td>\n",
       "    </tr>\n",
       "    <tr>\n",
       "      <td id=\"T_a720b_row4_col0\" class=\"data row4 col0\" >4</td>\n",
       "      <td id=\"T_a720b_row4_col1\" class=\"data row4 col1\" >BARSTAR</td>\n",
       "      <td id=\"T_a720b_row4_col2\" class=\"data row4 col2\" >protein</td>\n",
       "      <td id=\"T_a720b_row4_col3\" class=\"data row4 col3\" >665</td>\n",
       "      <td id=\"T_a720b_row4_col4\" class=\"data row4 col4\" >86</td>\n",
       "      <td id=\"T_a720b_row4_col5\" class=\"data row4 col5\" >2</td>\n",
       "      <td id=\"T_a720b_row4_col6\" class=\"data row4 col6\" >4</td>\n",
       "      <td id=\"T_a720b_row4_col7\" class=\"data row4 col7\" >1</td>\n",
       "      <td id=\"T_a720b_row4_col8\" class=\"data row4 col8\" >BARSTAR</td>\n",
       "    </tr>\n",
       "    <tr>\n",
       "      <td id=\"T_a720b_row5_col0\" class=\"data row5 col0\" >5</td>\n",
       "      <td id=\"T_a720b_row5_col1\" class=\"data row5 col1\" >BARSTAR</td>\n",
       "      <td id=\"T_a720b_row5_col2\" class=\"data row5 col2\" >protein</td>\n",
       "      <td id=\"T_a720b_row5_col3\" class=\"data row5 col3\" >699</td>\n",
       "      <td id=\"T_a720b_row5_col4\" class=\"data row5 col4\" >89</td>\n",
       "      <td id=\"T_a720b_row5_col5\" class=\"data row5 col5\" >1</td>\n",
       "      <td id=\"T_a720b_row5_col6\" class=\"data row5 col6\" >5</td>\n",
       "      <td id=\"T_a720b_row5_col7\" class=\"data row5 col7\" >1</td>\n",
       "      <td id=\"T_a720b_row5_col8\" class=\"data row5 col8\" >BARSTAR</td>\n",
       "    </tr>\n",
       "  </tbody>\n",
       "</table>\n"
      ],
      "text/plain": [
       "<pandas.io.formats.style.Styler at 0x7dba75b480b0>"
      ]
     },
     "execution_count": 4,
     "metadata": {},
     "output_type": "execute_result"
    }
   ],
   "source": [
    "msm.info(molecular_system, element='molecule')"
   ]
  },
  {
   "cell_type": "markdown",
   "id": "bf937ab7-3e4c-4b46-bab6-1716168035c9",
   "metadata": {},
   "source": [
    "With a first visual inspection using the function {func}`molsysmt.basic.info` we can already detect a first defect: two molecules -index 3 and 4- are composed of two components. A complete protein should have a unique component, not two. Thereby, these two molecules have at least a missing residue each one. But is this only defect? Are there any other missing atoms? The function {func}`molsysmt.build.get_missing_heavy_atoms` assists us in this task:"
   ]
  },
  {
   "cell_type": "code",
   "execution_count": 5,
   "id": "71375220-a929-4895-956a-b2cda424e6da",
   "metadata": {
    "execution": {
     "iopub.execute_input": "2025-04-14T03:02:38.709369Z",
     "iopub.status.busy": "2025-04-14T03:02:38.708752Z",
     "iopub.status.idle": "2025-04-14T03:02:39.389600Z",
     "shell.execute_reply": "2025-04-14T03:02:39.388509Z"
    }
   },
   "outputs": [],
   "source": [
    "missing_heavy_atoms = msm.build.get_missing_heavy_atoms(molecular_system)"
   ]
  },
  {
   "cell_type": "code",
   "execution_count": 6,
   "id": "9b7a550c-bdf5-4e08-b3fe-5f1335b85cba",
   "metadata": {
    "execution": {
     "iopub.execute_input": "2025-04-14T03:02:39.392933Z",
     "iopub.status.busy": "2025-04-14T03:02:39.392469Z",
     "iopub.status.idle": "2025-04-14T03:02:39.398237Z",
     "shell.execute_reply": "2025-04-14T03:02:39.397452Z"
    }
   },
   "outputs": [
    {
     "data": {
      "text/plain": [
       "{234: ['CG', 'CD', 'CE', 'NZ'],\n",
       " 237: ['CG', 'OD1', 'OD2'],\n",
       " 244: ['CD', 'OE1', 'OE2'],\n",
       " 246: ['CG', 'CD', 'OE1', 'NE2'],\n",
       " 254: ['CD', 'CE', 'NZ'],\n",
       " 260: ['CG1', 'CG2'],\n",
       " 264: ['CG', 'CD', 'CE', 'NZ'],\n",
       " 282: ['OG'],\n",
       " 325: ['O'],\n",
       " 383: ['OE1', 'NE2'],\n",
       " 385: ['NZ'],\n",
       " 386: ['CG', 'CD', 'OE1', 'NE2'],\n",
       " 422: ['NE', 'CZ', 'NH1', 'NH2'],\n",
       " 429: ['CG', 'CD', 'OE1', 'NE2'],\n",
       " 465: ['NE', 'CZ', 'NH1', 'NH2'],\n",
       " 469: ['CG', 'CD', 'OE1', 'NE2'],\n",
       " 471: ['CG', 'CD', 'CE', 'NZ'],\n",
       " 472: ['CG', 'CD', 'OE1', 'NE2'],\n",
       " 473: ['CG', 'CD1', 'CD2'],\n",
       " 520: ['CD', 'CE', 'NZ'],\n",
       " 526: ['CG', 'CD', 'OE1', 'OE2'],\n",
       " 544: ['CG', 'CD', 'OE1', 'OE2'],\n",
       " 562: ['CG', 'CD', 'OE1', 'OE2'],\n",
       " 563: ['CG', 'OD1', 'ND2'],\n",
       " 587: ['O']}"
      ]
     },
     "execution_count": 6,
     "metadata": {},
     "output_type": "execute_result"
    }
   ],
   "source": [
    "missing_heavy_atoms"
   ]
  },
  {
   "cell_type": "markdown",
   "id": "f8488c13-5701-4c98-b3c5-51545cd0fe07",
   "metadata": {},
   "source": [
    "And we can know what are the molecules with missing heavy atoms:"
   ]
  },
  {
   "cell_type": "code",
   "execution_count": 7,
   "id": "1e15f669-205a-45c9-aa85-b735ab4ff9dd",
   "metadata": {
    "execution": {
     "iopub.execute_input": "2025-04-14T03:02:39.401088Z",
     "iopub.status.busy": "2025-04-14T03:02:39.400753Z",
     "iopub.status.idle": "2025-04-14T03:02:39.781221Z",
     "shell.execute_reply": "2025-04-14T03:02:39.780493Z"
    }
   },
   "outputs": [],
   "source": [
    "residue_indices = missing_heavy_atoms.keys()\n",
    "molecule_indices = msm.get(molecular_system, element='molecule', selection='group_index in @residue_indices', molecule_index=True)"
   ]
  },
  {
   "cell_type": "code",
   "execution_count": 8,
   "id": "50ce93dd-09d5-475f-8615-b90985c3dbc8",
   "metadata": {
    "execution": {
     "iopub.execute_input": "2025-04-14T03:02:39.784946Z",
     "iopub.status.busy": "2025-04-14T03:02:39.784312Z",
     "iopub.status.idle": "2025-04-14T03:02:41.160389Z",
     "shell.execute_reply": "2025-04-14T03:02:41.159701Z"
    }
   },
   "outputs": [
    {
     "data": {
      "text/html": [
       "<style type=\"text/css\">\n",
       "</style>\n",
       "<table id=\"T_e6cd5\">\n",
       "  <thead>\n",
       "    <tr>\n",
       "      <th id=\"T_e6cd5_level0_col0\" class=\"col_heading level0 col0\" >index</th>\n",
       "      <th id=\"T_e6cd5_level0_col1\" class=\"col_heading level0 col1\" >name</th>\n",
       "      <th id=\"T_e6cd5_level0_col2\" class=\"col_heading level0 col2\" >type</th>\n",
       "      <th id=\"T_e6cd5_level0_col3\" class=\"col_heading level0 col3\" >n atoms</th>\n",
       "      <th id=\"T_e6cd5_level0_col4\" class=\"col_heading level0 col4\" >n groups</th>\n",
       "      <th id=\"T_e6cd5_level0_col5\" class=\"col_heading level0 col5\" >n components</th>\n",
       "      <th id=\"T_e6cd5_level0_col6\" class=\"col_heading level0 col6\" >chain index</th>\n",
       "      <th id=\"T_e6cd5_level0_col7\" class=\"col_heading level0 col7\" >entity index</th>\n",
       "      <th id=\"T_e6cd5_level0_col8\" class=\"col_heading level0 col8\" >entity name</th>\n",
       "    </tr>\n",
       "  </thead>\n",
       "  <tbody>\n",
       "    <tr>\n",
       "      <td id=\"T_e6cd5_row0_col0\" class=\"data row0 col0\" >2</td>\n",
       "      <td id=\"T_e6cd5_row0_col1\" class=\"data row0 col1\" >BARNASE</td>\n",
       "      <td id=\"T_e6cd5_row0_col2\" class=\"data row0 col2\" >protein</td>\n",
       "      <td id=\"T_e6cd5_row0_col3\" class=\"data row0 col3\" >839</td>\n",
       "      <td id=\"T_e6cd5_row0_col4\" class=\"data row0 col4\" >108</td>\n",
       "      <td id=\"T_e6cd5_row0_col5\" class=\"data row0 col5\" >1</td>\n",
       "      <td id=\"T_e6cd5_row0_col6\" class=\"data row0 col6\" >2</td>\n",
       "      <td id=\"T_e6cd5_row0_col7\" class=\"data row0 col7\" >0</td>\n",
       "      <td id=\"T_e6cd5_row0_col8\" class=\"data row0 col8\" >BARNASE</td>\n",
       "    </tr>\n",
       "    <tr>\n",
       "      <td id=\"T_e6cd5_row1_col0\" class=\"data row1 col0\" >3</td>\n",
       "      <td id=\"T_e6cd5_row1_col1\" class=\"data row1 col1\" >BARSTAR</td>\n",
       "      <td id=\"T_e6cd5_row1_col2\" class=\"data row1 col2\" >protein</td>\n",
       "      <td id=\"T_e6cd5_row1_col3\" class=\"data row1 col3\" >693</td>\n",
       "      <td id=\"T_e6cd5_row1_col4\" class=\"data row1 col4\" >87</td>\n",
       "      <td id=\"T_e6cd5_row1_col5\" class=\"data row1 col5\" >2</td>\n",
       "      <td id=\"T_e6cd5_row1_col6\" class=\"data row1 col6\" >3</td>\n",
       "      <td id=\"T_e6cd5_row1_col7\" class=\"data row1 col7\" >1</td>\n",
       "      <td id=\"T_e6cd5_row1_col8\" class=\"data row1 col8\" >BARSTAR</td>\n",
       "    </tr>\n",
       "    <tr>\n",
       "      <td id=\"T_e6cd5_row2_col0\" class=\"data row2 col0\" >4</td>\n",
       "      <td id=\"T_e6cd5_row2_col1\" class=\"data row2 col1\" >BARSTAR</td>\n",
       "      <td id=\"T_e6cd5_row2_col2\" class=\"data row2 col2\" >protein</td>\n",
       "      <td id=\"T_e6cd5_row2_col3\" class=\"data row2 col3\" >665</td>\n",
       "      <td id=\"T_e6cd5_row2_col4\" class=\"data row2 col4\" >86</td>\n",
       "      <td id=\"T_e6cd5_row2_col5\" class=\"data row2 col5\" >2</td>\n",
       "      <td id=\"T_e6cd5_row2_col6\" class=\"data row2 col6\" >4</td>\n",
       "      <td id=\"T_e6cd5_row2_col7\" class=\"data row2 col7\" >1</td>\n",
       "      <td id=\"T_e6cd5_row2_col8\" class=\"data row2 col8\" >BARSTAR</td>\n",
       "    </tr>\n",
       "    <tr>\n",
       "      <td id=\"T_e6cd5_row3_col0\" class=\"data row3 col0\" >5</td>\n",
       "      <td id=\"T_e6cd5_row3_col1\" class=\"data row3 col1\" >BARSTAR</td>\n",
       "      <td id=\"T_e6cd5_row3_col2\" class=\"data row3 col2\" >protein</td>\n",
       "      <td id=\"T_e6cd5_row3_col3\" class=\"data row3 col3\" >699</td>\n",
       "      <td id=\"T_e6cd5_row3_col4\" class=\"data row3 col4\" >89</td>\n",
       "      <td id=\"T_e6cd5_row3_col5\" class=\"data row3 col5\" >1</td>\n",
       "      <td id=\"T_e6cd5_row3_col6\" class=\"data row3 col6\" >5</td>\n",
       "      <td id=\"T_e6cd5_row3_col7\" class=\"data row3 col7\" >1</td>\n",
       "      <td id=\"T_e6cd5_row3_col8\" class=\"data row3 col8\" >BARSTAR</td>\n",
       "    </tr>\n",
       "  </tbody>\n",
       "</table>\n"
      ],
      "text/plain": [
       "<pandas.io.formats.style.Styler at 0x7db9e8db8f80>"
      ]
     },
     "execution_count": 8,
     "metadata": {},
     "output_type": "execute_result"
    }
   ],
   "source": [
    "msm.info(molecular_system, element='molecule', selection='molecule_index in @molecule_indices')"
   ]
  },
  {
   "cell_type": "markdown",
   "id": "1d056d8f-a597-4da5-b0a4-e848131ce30e",
   "metadata": {},
   "source": [
    "What can we do when there are missing heavy atoms in the system? As you can see in the section XXX, the function {func}`molsysmt.build.add_missing_heavy_atoms` can help to solve this problem."
   ]
  },
  {
   "cell_type": "markdown",
   "id": "c40dcb71-8bbc-42f3-98d2-253b46bfce92",
   "metadata": {},
   "source": [
    "But are these flaws reported above the only ones in the system? Well, all structures solved by Xray diffraction have no hydrogen atoms; and some of them include atoms with alternate coordinates -and thereby appear multiple times in the system-:"
   ]
  },
  {
   "cell_type": "code",
   "execution_count": 9,
   "id": "8027c811-a48a-4389-9eac-9d107b59ffde",
   "metadata": {
    "execution": {
     "iopub.execute_input": "2025-04-14T03:02:41.162676Z",
     "iopub.status.busy": "2025-04-14T03:02:41.162441Z",
     "iopub.status.idle": "2025-04-14T03:02:41.531924Z",
     "shell.execute_reply": "2025-04-14T03:02:41.531158Z"
    }
   },
   "outputs": [
    {
     "data": {
      "text/plain": [
       "False"
      ]
     },
     "execution_count": 9,
     "metadata": {},
     "output_type": "execute_result"
    }
   ],
   "source": [
    "msm.build.has_hydrogens(molecular_system)"
   ]
  },
  {
   "cell_type": "code",
   "execution_count": 10,
   "id": "0e63b268-35de-4c5c-ae9a-a9b7ef38185e",
   "metadata": {
    "execution": {
     "iopub.execute_input": "2025-04-14T03:02:41.534802Z",
     "iopub.status.busy": "2025-04-14T03:02:41.534304Z",
     "iopub.status.idle": "2025-04-14T03:02:41.694398Z",
     "shell.execute_reply": "2025-04-14T03:02:41.693483Z"
    }
   },
   "outputs": [
    {
     "data": {
      "text/plain": [
       "[{2686: {'location_id': array(['A', 'B'], dtype=object),\n",
       "   'occupancy': array([0.5, 0.5]),\n",
       "   'b_factor': <Quantity([0.2466 0.2467], 'nanometer ** 2')>,\n",
       "   'atom_id': [2687, 2688],\n",
       "   'coordinates': <Quantity([[3.2742 2.2579 0.1536]\n",
       "    [3.2757 2.2571 0.1533]], 'nanometer')>},\n",
       "  2687: {'location_id': array(['A', 'B'], dtype=object),\n",
       "   'occupancy': array([0.5, 0.5]),\n",
       "   'b_factor': <Quantity([0.2594 0.2596], 'nanometer ** 2')>,\n",
       "   'atom_id': [2689, 2690],\n",
       "   'coordinates': <Quantity([[3.1412 2.241  0.1076]\n",
       "    [3.3396 2.192  0.2619]], 'nanometer')>}}]"
      ]
     },
     "execution_count": 10,
     "metadata": {},
     "output_type": "execute_result"
    }
   ],
   "source": [
    "msm.get(molecular_system, alternate_locations=True)"
   ]
  },
  {
   "cell_type": "markdown",
   "id": "9d46cf7f-081f-4f21-a08e-62d1bc28164b",
   "metadata": {},
   "source": [
    "If in addition to how to get the missing heavy atoms, you want to know a bit more on how to add the missing hydrogens or how to solve the problem of having atoms with alternate locations, check the following sections: XXX and YYY."
   ]
  },
  {
   "cell_type": "markdown",
   "id": "aa534209-1af8-42d6-af3a-d52376549ccc",
   "metadata": {},
   "source": [
    "```{admonition} See also\n",
    ":class: attention\n",
    "{func}`molsysmt.build.get_missing_heavy_atoms`, {func}`molsysmt.basic.convert`, {func}`molsysmt.basic.info`,{func}`molsysmt.basic.get`, {func}`molsysmt.basic.contains`, {func}`molsysmt.build.get_atoms_with_alternate_locations`\n",
    "```"
   ]
  }
 ],
 "metadata": {
  "kernelspec": {
   "display_name": "Python 3 (ipykernel)",
   "language": "python",
   "name": "python3"
  },
  "language_info": {
   "codemirror_mode": {
    "name": "ipython",
    "version": 3
   },
   "file_extension": ".py",
   "mimetype": "text/x-python",
   "name": "python",
   "nbconvert_exporter": "python",
   "pygments_lexer": "ipython3",
   "version": "3.12.9"
  },
  "widgets": {
   "application/vnd.jupyter.widget-state+json": {
    "state": {
     "4c752ffe8a7d4634ba4914ced13060ce": {
      "model_module": "@jupyter-widgets/base",
      "model_module_version": "2.0.0",
      "model_name": "LayoutModel",
      "state": {
       "_model_module": "@jupyter-widgets/base",
       "_model_module_version": "2.0.0",
       "_model_name": "LayoutModel",
       "_view_count": null,
       "_view_module": "@jupyter-widgets/base",
       "_view_module_version": "2.0.0",
       "_view_name": "LayoutView",
       "align_content": null,
       "align_items": null,
       "align_self": null,
       "border_bottom": null,
       "border_left": null,
       "border_right": null,
       "border_top": null,
       "bottom": null,
       "display": null,
       "flex": null,
       "flex_flow": null,
       "grid_area": null,
       "grid_auto_columns": null,
       "grid_auto_flow": null,
       "grid_auto_rows": null,
       "grid_column": null,
       "grid_gap": null,
       "grid_row": null,
       "grid_template_areas": null,
       "grid_template_columns": null,
       "grid_template_rows": null,
       "height": null,
       "justify_content": null,
       "justify_items": null,
       "left": null,
       "margin": null,
       "max_height": null,
       "max_width": null,
       "min_height": null,
       "min_width": null,
       "object_fit": null,
       "object_position": null,
       "order": null,
       "overflow": null,
       "padding": null,
       "right": null,
       "top": null,
       "visibility": null,
       "width": null
      }
     },
     "577b2d9bf88849c8bda7bdc1993d6a1d": {
      "model_module": "nglview-js-widgets",
      "model_module_version": "3.0.8",
      "model_name": "ColormakerRegistryModel",
      "state": {
       "_dom_classes": [],
       "_model_module": "nglview-js-widgets",
       "_model_module_version": "3.0.8",
       "_model_name": "ColormakerRegistryModel",
       "_msg_ar": [],
       "_msg_q": [],
       "_ready": false,
       "_view_count": null,
       "_view_module": "nglview-js-widgets",
       "_view_module_version": "3.0.8",
       "_view_name": "ColormakerRegistryView",
       "layout": "IPY_MODEL_4c752ffe8a7d4634ba4914ced13060ce",
       "tabbable": null,
       "tooltip": null
      }
     }
    },
    "version_major": 2,
    "version_minor": 0
   }
  }
 },
 "nbformat": 4,
 "nbformat_minor": 5
}
