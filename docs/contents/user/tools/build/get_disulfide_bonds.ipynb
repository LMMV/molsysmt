{
 "cells": [
  {
   "cell_type": "code",
   "execution_count": 1,
   "id": "3908cf62-3a4c-4c82-a061-e78f6f2f7097",
   "metadata": {
    "execution": {
     "iopub.execute_input": "2025-04-14T05:59:28.415696Z",
     "iopub.status.busy": "2025-04-14T05:59:28.414861Z",
     "iopub.status.idle": "2025-04-14T05:59:28.419906Z",
     "shell.execute_reply": "2025-04-14T05:59:28.418858Z"
    },
    "tags": [
     "remove-input"
    ]
   },
   "outputs": [],
   "source": [
    "# This cell is removed with the tag: \"remove-input\"\n",
    "# As such, it will not be shown in documentation\n",
    "\n",
    "#import warnings\n",
    "#warnings.filterwarnings('ignore')"
   ]
  },
  {
   "cell_type": "markdown",
   "id": "034d6a12-81b5-40fe-89a7-59046d378078",
   "metadata": {},
   "source": [
    "(Tutorial_Get_disulfide_bonds)=\n",
    "# Get disulfide bonds\n",
    "*Identifying disulfide bridges between sulfur atoms in protein structures.*\n",
    "\n",
    "Disulfide bonds are covalent links that typically form between the sulfur atoms of cysteine residues in proteins. These bonds play an important role in stabilizing tertiary and quaternary structures. Detecting them is particularly useful when analyzing protein connectivity or preparing systems for molecular simulations.\n",
    "\n",
    ":::{versionadded} 1.0.0\n",
    ":::\n",
    "\n",
    "## How this function works\n",
    "\n",
    "```{admonition} API documentation\n",
    "Follow this link for a detailed description of the input arguments, raised errors, and returned objects of this function:{func}`molsysmt.build.get_disulfide_bonds()`.\n",
    "```\n",
    "\n",
    "This function analyzes a molecular system to detect disulfide bonds by identifying bonded sulfur atom pairs. These are typically inferred based on distance thresholds and covalent connectivity criteria.\n",
    "\n",
    "Let’s now explore how this function can be used in practice, using the PDB entry 5XJH as an example. This structure contains multiple disulfide bridges that we can automatically retrieve."
   ]
  },
  {
   "cell_type": "code",
   "execution_count": 2,
   "id": "6994fe5b-cabb-4d79-a681-8634f0c86395",
   "metadata": {
    "execution": {
     "iopub.execute_input": "2025-04-14T05:59:28.424447Z",
     "iopub.status.busy": "2025-04-14T05:59:28.423971Z",
     "iopub.status.idle": "2025-04-14T05:59:36.008300Z",
     "shell.execute_reply": "2025-04-14T05:59:36.007530Z"
    }
   },
   "outputs": [
    {
     "data": {
      "application/vnd.jupyter.widget-view+json": {
       "model_id": "413bbc8a0199420f96b9d874570325d9",
       "version_major": 2,
       "version_minor": 0
      },
      "text/plain": []
     },
     "metadata": {},
     "output_type": "display_data"
    }
   ],
   "source": [
    "import molsysmt as msm"
   ]
  },
  {
   "cell_type": "code",
   "execution_count": 3,
   "id": "1a26a924-bbc4-476c-a66a-972b36021d12",
   "metadata": {
    "execution": {
     "iopub.execute_input": "2025-04-14T05:59:36.012360Z",
     "iopub.status.busy": "2025-04-14T05:59:36.011353Z",
     "iopub.status.idle": "2025-04-14T05:59:37.529007Z",
     "shell.execute_reply": "2025-04-14T05:59:37.528227Z"
    }
   },
   "outputs": [],
   "source": [
    "molsys = msm.convert('5XJH')"
   ]
  },
  {
   "cell_type": "markdown",
   "id": "308db7f5-bcb8-4410-8e84-773ef2034690",
   "metadata": {},
   "source": [
    "We now apply the function to retrieve disulfide bonds based on the standard maximum sulfur–sulfur bond distance."
   ]
  },
  {
   "cell_type": "code",
   "execution_count": 4,
   "id": "5b2032f9-5674-4190-9fcd-bf97eaf26ede",
   "metadata": {
    "execution": {
     "iopub.execute_input": "2025-04-14T05:59:37.532182Z",
     "iopub.status.busy": "2025-04-14T05:59:37.531675Z",
     "iopub.status.idle": "2025-04-14T05:59:39.669360Z",
     "shell.execute_reply": "2025-04-14T05:59:39.668339Z"
    }
   },
   "outputs": [
    {
     "data": {
      "text/plain": [
       "[[1782, 1907]]"
      ]
     },
     "execution_count": 4,
     "metadata": {},
     "output_type": "execute_result"
    }
   ],
   "source": [
    "msm.build.get_disulfide_bonds(molsys)"
   ]
  },
  {
   "cell_type": "markdown",
   "id": "de849a5d-5993-4699-8a57-ff28c6eb3c62",
   "metadata": {},
   "source": [
    "The default threshold for S–S bond detection is retrieved from a predefined dictionary of typical bond lengths:"
   ]
  },
  {
   "cell_type": "code",
   "execution_count": 5,
   "id": "7c71d24f-1e78-4328-87b7-1bee7d191e8d",
   "metadata": {
    "execution": {
     "iopub.execute_input": "2025-04-14T05:59:39.673735Z",
     "iopub.status.busy": "2025-04-14T05:59:39.672742Z",
     "iopub.status.idle": "2025-04-14T05:59:39.680632Z",
     "shell.execute_reply": "2025-04-14T05:59:39.679726Z"
    }
   },
   "outputs": [
    {
     "data": {
      "text/html": [
       "2.05 angstrom"
      ],
      "text/latex": [
       "$2.05\\ \\mathrm{angstrom}$"
      ],
      "text/plain": [
       "<Quantity(2.05, 'angstrom')>"
      ]
     },
     "execution_count": 5,
     "metadata": {},
     "output_type": "execute_result"
    }
   ],
   "source": [
    "msm.element.bond.max_expected_bond_length['protein']['S']['S']"
   ]
  },
  {
   "cell_type": "markdown",
   "id": "67e396c1-6272-4b6b-afa3-f201fc481855",
   "metadata": {},
   "source": [
    "Let’s check how many sulfur atoms are present in the system."
   ]
  },
  {
   "cell_type": "code",
   "execution_count": 6,
   "id": "f58274dc-b479-44c3-b0b6-3d87cae4e93d",
   "metadata": {
    "execution": {
     "iopub.execute_input": "2025-04-14T05:59:39.683909Z",
     "iopub.status.busy": "2025-04-14T05:59:39.683521Z",
     "iopub.status.idle": "2025-04-14T05:59:40.056795Z",
     "shell.execute_reply": "2025-04-14T05:59:40.055752Z"
    }
   },
   "outputs": [
    {
     "data": {
      "text/plain": [
       "12"
      ]
     },
     "execution_count": 6,
     "metadata": {},
     "output_type": "execute_result"
    }
   ],
   "source": [
    "msm.get(molsys, element='atom', selection='atom_type==\"S\"', n_atoms=True)"
   ]
  },
  {
   "cell_type": "markdown",
   "id": "44f0539c-a6d8-4b7d-857e-304ba9c1c524",
   "metadata": {},
   "source": [
    "Next, we can get the pairs of sulfulr atoms meeting both atoms the condition that one is the first neighbor of the other, and also their distances:"
   ]
  },
  {
   "cell_type": "code",
   "execution_count": 7,
   "id": "b7491a79-f568-4991-974b-3ac919915819",
   "metadata": {
    "execution": {
     "iopub.execute_input": "2025-04-14T05:59:40.060481Z",
     "iopub.status.busy": "2025-04-14T05:59:40.059946Z",
     "iopub.status.idle": "2025-04-14T05:59:41.496034Z",
     "shell.execute_reply": "2025-04-14T05:59:41.494161Z"
    }
   },
   "outputs": [
    {
     "data": {
      "text/plain": [
       "([[[724, 911], [1251, 1519], [1653, 1692], [1782, 1907]]],\n",
       " [<Quantity([0.68968444 0.21195179 0.33566942 0.20483012], 'nanometer')>])"
      ]
     },
     "execution_count": 7,
     "metadata": {},
     "output_type": "execute_result"
    }
   ],
   "source": [
    "msm.structure.get_neighbors(molsys, selection='atom_type==\"S\"', n_neighbors=1,\n",
    "                            output_type='pairs', mutual_only=True, output_indices='atom')"
   ]
  },
  {
   "cell_type": "markdown",
   "id": "35e52aa7-2e79-4a07-814e-828ea7761bb0",
   "metadata": {},
   "source": [
    "We found that another disulfide bond could be identified increasing slightly the maximum bond length from 2.05 angstroms to 2.15:"
   ]
  },
  {
   "cell_type": "code",
   "execution_count": 8,
   "id": "de20a200-d383-4dc4-b199-566c86f21f63",
   "metadata": {
    "execution": {
     "iopub.execute_input": "2025-04-14T05:59:41.504836Z",
     "iopub.status.busy": "2025-04-14T05:59:41.503848Z",
     "iopub.status.idle": "2025-04-14T05:59:43.623730Z",
     "shell.execute_reply": "2025-04-14T05:59:43.622751Z"
    }
   },
   "outputs": [
    {
     "data": {
      "text/plain": [
       "[[1251, 1519], [1782, 1907]]"
      ]
     },
     "execution_count": 8,
     "metadata": {},
     "output_type": "execute_result"
    }
   ],
   "source": [
    "msm.build.get_disulfide_bonds(molsys, max_bond_length='2.15 angstroms')"
   ]
  },
  {
   "cell_type": "markdown",
   "id": "c77459f1-997b-480f-bdad-be81410ce957",
   "metadata": {},
   "source": [
    ":::{seealso}\n",
    "[User guide > Tools > Build > Add bonds](add_bonds.ipynb):  \n",
    "Manually add bonds between selected pairs of atoms.\n",
    "\n",
    "[User guide > Tools > Build > Add missing bonds](add_missing_bonds.ipynb):  \n",
    "Automatically detect and add plausible covalent bonds.\n",
    "\n",
    "[User guide > Tools > Structure > Get neighbors](../structure/get_neighbors.ipynb):  \n",
    "Find neighboring atoms.\n",
    ":::"
   ]
  }
 ],
 "metadata": {
  "kernelspec": {
   "display_name": "Python 3 (ipykernel)",
   "language": "python",
   "name": "python3"
  },
  "language_info": {
   "codemirror_mode": {
    "name": "ipython",
    "version": 3
   },
   "file_extension": ".py",
   "mimetype": "text/x-python",
   "name": "python",
   "nbconvert_exporter": "python",
   "pygments_lexer": "ipython3",
   "version": "3.12.9"
  },
  "widgets": {
   "application/vnd.jupyter.widget-state+json": {
    "state": {
     "1972c8493a4a4eca9fab3762a38a1223": {
      "model_module": "@jupyter-widgets/base",
      "model_module_version": "2.0.0",
      "model_name": "LayoutModel",
      "state": {
       "_model_module": "@jupyter-widgets/base",
       "_model_module_version": "2.0.0",
       "_model_name": "LayoutModel",
       "_view_count": null,
       "_view_module": "@jupyter-widgets/base",
       "_view_module_version": "2.0.0",
       "_view_name": "LayoutView",
       "align_content": null,
       "align_items": null,
       "align_self": null,
       "border_bottom": null,
       "border_left": null,
       "border_right": null,
       "border_top": null,
       "bottom": null,
       "display": null,
       "flex": null,
       "flex_flow": null,
       "grid_area": null,
       "grid_auto_columns": null,
       "grid_auto_flow": null,
       "grid_auto_rows": null,
       "grid_column": null,
       "grid_gap": null,
       "grid_row": null,
       "grid_template_areas": null,
       "grid_template_columns": null,
       "grid_template_rows": null,
       "height": null,
       "justify_content": null,
       "justify_items": null,
       "left": null,
       "margin": null,
       "max_height": null,
       "max_width": null,
       "min_height": null,
       "min_width": null,
       "object_fit": null,
       "object_position": null,
       "order": null,
       "overflow": null,
       "padding": null,
       "right": null,
       "top": null,
       "visibility": null,
       "width": null
      }
     },
     "413bbc8a0199420f96b9d874570325d9": {
      "model_module": "nglview-js-widgets",
      "model_module_version": "3.0.8",
      "model_name": "ColormakerRegistryModel",
      "state": {
       "_dom_classes": [],
       "_model_module": "nglview-js-widgets",
       "_model_module_version": "3.0.8",
       "_model_name": "ColormakerRegistryModel",
       "_msg_ar": [],
       "_msg_q": [],
       "_ready": false,
       "_view_count": null,
       "_view_module": "nglview-js-widgets",
       "_view_module_version": "3.0.8",
       "_view_name": "ColormakerRegistryView",
       "layout": "IPY_MODEL_1972c8493a4a4eca9fab3762a38a1223",
       "tabbable": null,
       "tooltip": null
      }
     }
    },
    "version_major": 2,
    "version_minor": 0
   }
  }
 },
 "nbformat": 4,
 "nbformat_minor": 5
}
