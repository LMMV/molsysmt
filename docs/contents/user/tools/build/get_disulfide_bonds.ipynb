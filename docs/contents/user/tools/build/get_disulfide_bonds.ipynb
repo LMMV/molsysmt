{
 "cells": [
  {
   "cell_type": "code",
   "execution_count": 1,
   "id": "3908cf62-3a4c-4c82-a061-e78f6f2f7097",
   "metadata": {
    "execution": {
     "iopub.execute_input": "2025-04-14T03:01:52.246792Z",
     "iopub.status.busy": "2025-04-14T03:01:52.246022Z",
     "iopub.status.idle": "2025-04-14T03:01:52.261128Z",
     "shell.execute_reply": "2025-04-14T03:01:52.258911Z"
    },
    "tags": [
     "remove-input"
    ]
   },
   "outputs": [],
   "source": [
    "# This cell is removed with the tag: \"remove-input\"\n",
    "# As such, it will not be shown in documentation\n",
    "\n",
    "#import warnings\n",
    "#warnings.filterwarnings('ignore')"
   ]
  },
  {
   "cell_type": "markdown",
   "id": "034d6a12-81b5-40fe-89a7-59046d378078",
   "metadata": {},
   "source": [
    "(UserGuide_Tools_Build_GetDisulfideBonds)=\n",
    "# Get disulfide bonds\n",
    "\n",
    "*Getting the disulfide bonds.*\n"
   ]
  },
  {
   "cell_type": "code",
   "execution_count": 2,
   "id": "6994fe5b-cabb-4d79-a681-8634f0c86395",
   "metadata": {
    "execution": {
     "iopub.execute_input": "2025-04-14T03:01:52.268807Z",
     "iopub.status.busy": "2025-04-14T03:01:52.268009Z",
     "iopub.status.idle": "2025-04-14T03:01:56.802634Z",
     "shell.execute_reply": "2025-04-14T03:01:56.802018Z"
    }
   },
   "outputs": [
    {
     "data": {
      "application/vnd.jupyter.widget-view+json": {
       "model_id": "f2317dddf0ea46ccaf1ed51d3ff7a438",
       "version_major": 2,
       "version_minor": 0
      },
      "text/plain": []
     },
     "metadata": {},
     "output_type": "display_data"
    }
   ],
   "source": [
    "import molsysmt as msm"
   ]
  },
  {
   "cell_type": "code",
   "execution_count": 3,
   "id": "1a26a924-bbc4-476c-a66a-972b36021d12",
   "metadata": {
    "execution": {
     "iopub.execute_input": "2025-04-14T03:01:56.805514Z",
     "iopub.status.busy": "2025-04-14T03:01:56.804976Z",
     "iopub.status.idle": "2025-04-14T03:01:59.287464Z",
     "shell.execute_reply": "2025-04-14T03:01:59.286836Z"
    }
   },
   "outputs": [],
   "source": [
    "molecular_system = msm.convert('5XJH')"
   ]
  },
  {
   "cell_type": "code",
   "execution_count": 4,
   "id": "d5005675-48dd-47f3-867a-8e57f661545c",
   "metadata": {
    "execution": {
     "iopub.execute_input": "2025-04-14T03:01:59.290610Z",
     "iopub.status.busy": "2025-04-14T03:01:59.289798Z",
     "iopub.status.idle": "2025-04-14T03:02:00.595406Z",
     "shell.execute_reply": "2025-04-14T03:02:00.594646Z"
    }
   },
   "outputs": [
    {
     "data": {
      "text/html": [
       "<style type=\"text/css\">\n",
       "</style>\n",
       "<table id=\"T_79f71\">\n",
       "  <thead>\n",
       "    <tr>\n",
       "      <th id=\"T_79f71_level0_col0\" class=\"col_heading level0 col0\" >form</th>\n",
       "      <th id=\"T_79f71_level0_col1\" class=\"col_heading level0 col1\" >n_atoms</th>\n",
       "      <th id=\"T_79f71_level0_col2\" class=\"col_heading level0 col2\" >n_groups</th>\n",
       "      <th id=\"T_79f71_level0_col3\" class=\"col_heading level0 col3\" >n_components</th>\n",
       "      <th id=\"T_79f71_level0_col4\" class=\"col_heading level0 col4\" >n_chains</th>\n",
       "      <th id=\"T_79f71_level0_col5\" class=\"col_heading level0 col5\" >n_molecules</th>\n",
       "      <th id=\"T_79f71_level0_col6\" class=\"col_heading level0 col6\" >n_entities</th>\n",
       "      <th id=\"T_79f71_level0_col7\" class=\"col_heading level0 col7\" >n_waters</th>\n",
       "      <th id=\"T_79f71_level0_col8\" class=\"col_heading level0 col8\" >n_proteins</th>\n",
       "      <th id=\"T_79f71_level0_col9\" class=\"col_heading level0 col9\" >n_structures</th>\n",
       "    </tr>\n",
       "  </thead>\n",
       "  <tbody>\n",
       "    <tr>\n",
       "      <td id=\"T_79f71_row0_col0\" class=\"data row0 col0\" >molsysmt.MolSys</td>\n",
       "      <td id=\"T_79f71_row0_col1\" class=\"data row0 col1\" >2073</td>\n",
       "      <td id=\"T_79f71_row0_col2\" class=\"data row0 col2\" >405</td>\n",
       "      <td id=\"T_79f71_row0_col3\" class=\"data row0 col3\" >143</td>\n",
       "      <td id=\"T_79f71_row0_col4\" class=\"data row0 col4\" >2</td>\n",
       "      <td id=\"T_79f71_row0_col5\" class=\"data row0 col5\" >143</td>\n",
       "      <td id=\"T_79f71_row0_col6\" class=\"data row0 col6\" >2</td>\n",
       "      <td id=\"T_79f71_row0_col7\" class=\"data row0 col7\" >142</td>\n",
       "      <td id=\"T_79f71_row0_col8\" class=\"data row0 col8\" >1</td>\n",
       "      <td id=\"T_79f71_row0_col9\" class=\"data row0 col9\" >1</td>\n",
       "    </tr>\n",
       "  </tbody>\n",
       "</table>\n"
      ],
      "text/plain": [
       "<pandas.io.formats.style.Styler at 0x75d8bc4b4ec0>"
      ]
     },
     "execution_count": 4,
     "metadata": {},
     "output_type": "execute_result"
    }
   ],
   "source": [
    "msm.info(molecular_system)"
   ]
  },
  {
   "cell_type": "code",
   "execution_count": 5,
   "id": "5b2032f9-5674-4190-9fcd-bf97eaf26ede",
   "metadata": {
    "execution": {
     "iopub.execute_input": "2025-04-14T03:02:00.597783Z",
     "iopub.status.busy": "2025-04-14T03:02:00.597435Z",
     "iopub.status.idle": "2025-04-14T03:02:01.886643Z",
     "shell.execute_reply": "2025-04-14T03:02:01.885356Z"
    }
   },
   "outputs": [
    {
     "data": {
      "text/plain": [
       "[[1782, 1907]]"
      ]
     },
     "execution_count": 5,
     "metadata": {},
     "output_type": "execute_result"
    }
   ],
   "source": [
    "msm.build.get_disulfide_bonds(molecular_system, max_bond_length='2.05 angstroms')"
   ]
  },
  {
   "cell_type": "code",
   "execution_count": 6,
   "id": "7c71d24f-1e78-4328-87b7-1bee7d191e8d",
   "metadata": {
    "execution": {
     "iopub.execute_input": "2025-04-14T03:02:01.890304Z",
     "iopub.status.busy": "2025-04-14T03:02:01.889928Z",
     "iopub.status.idle": "2025-04-14T03:02:01.898176Z",
     "shell.execute_reply": "2025-04-14T03:02:01.897132Z"
    }
   },
   "outputs": [
    {
     "data": {
      "text/html": [
       "2.05 angstrom"
      ],
      "text/latex": [
       "$2.05\\ \\mathrm{angstrom}$"
      ],
      "text/plain": [
       "<Quantity(2.05, 'angstrom')>"
      ]
     },
     "execution_count": 6,
     "metadata": {},
     "output_type": "execute_result"
    }
   ],
   "source": [
    "msm.element.bond.max_expected_bond_length['protein']['S']['S']"
   ]
  },
  {
   "cell_type": "code",
   "execution_count": 7,
   "id": "f58274dc-b479-44c3-b0b6-3d87cae4e93d",
   "metadata": {
    "execution": {
     "iopub.execute_input": "2025-04-14T03:02:01.900958Z",
     "iopub.status.busy": "2025-04-14T03:02:01.900636Z",
     "iopub.status.idle": "2025-04-14T03:02:02.137278Z",
     "shell.execute_reply": "2025-04-14T03:02:02.136308Z"
    }
   },
   "outputs": [
    {
     "data": {
      "text/plain": [
       "12"
      ]
     },
     "execution_count": 7,
     "metadata": {},
     "output_type": "execute_result"
    }
   ],
   "source": [
    "msm.get(molecular_system, element='atom', selection='atom_type==\"S\"', n_atoms=True)"
   ]
  },
  {
   "cell_type": "code",
   "execution_count": 8,
   "id": "b7491a79-f568-4991-974b-3ac919915819",
   "metadata": {
    "execution": {
     "iopub.execute_input": "2025-04-14T03:02:02.139742Z",
     "iopub.status.busy": "2025-04-14T03:02:02.139515Z",
     "iopub.status.idle": "2025-04-14T03:02:03.032357Z",
     "shell.execute_reply": "2025-04-14T03:02:03.031093Z"
    }
   },
   "outputs": [
    {
     "data": {
      "text/plain": [
       "([[[724, 911], [1251, 1519], [1653, 1692], [1782, 1907]]],\n",
       " [<Quantity([0.68968444 0.21195179 0.33566942 0.20483012], 'nanometer')>])"
      ]
     },
     "execution_count": 8,
     "metadata": {},
     "output_type": "execute_result"
    }
   ],
   "source": [
    "msm.structure.get_neighbors(molecular_system, selection='atom_type==\"S\"', n_neighbors=1,\n",
    "                            output_type='pairs', mutual_only=True, output_indices='atom')"
   ]
  }
 ],
 "metadata": {
  "kernelspec": {
   "display_name": "Python 3 (ipykernel)",
   "language": "python",
   "name": "python3"
  },
  "language_info": {
   "codemirror_mode": {
    "name": "ipython",
    "version": 3
   },
   "file_extension": ".py",
   "mimetype": "text/x-python",
   "name": "python",
   "nbconvert_exporter": "python",
   "pygments_lexer": "ipython3",
   "version": "3.12.9"
  },
  "widgets": {
   "application/vnd.jupyter.widget-state+json": {
    "state": {
     "14cc057bfc1c4c1891205bd5d3f2964d": {
      "model_module": "@jupyter-widgets/base",
      "model_module_version": "2.0.0",
      "model_name": "LayoutModel",
      "state": {
       "_model_module": "@jupyter-widgets/base",
       "_model_module_version": "2.0.0",
       "_model_name": "LayoutModel",
       "_view_count": null,
       "_view_module": "@jupyter-widgets/base",
       "_view_module_version": "2.0.0",
       "_view_name": "LayoutView",
       "align_content": null,
       "align_items": null,
       "align_self": null,
       "border_bottom": null,
       "border_left": null,
       "border_right": null,
       "border_top": null,
       "bottom": null,
       "display": null,
       "flex": null,
       "flex_flow": null,
       "grid_area": null,
       "grid_auto_columns": null,
       "grid_auto_flow": null,
       "grid_auto_rows": null,
       "grid_column": null,
       "grid_gap": null,
       "grid_row": null,
       "grid_template_areas": null,
       "grid_template_columns": null,
       "grid_template_rows": null,
       "height": null,
       "justify_content": null,
       "justify_items": null,
       "left": null,
       "margin": null,
       "max_height": null,
       "max_width": null,
       "min_height": null,
       "min_width": null,
       "object_fit": null,
       "object_position": null,
       "order": null,
       "overflow": null,
       "padding": null,
       "right": null,
       "top": null,
       "visibility": null,
       "width": null
      }
     },
     "f2317dddf0ea46ccaf1ed51d3ff7a438": {
      "model_module": "nglview-js-widgets",
      "model_module_version": "3.0.8",
      "model_name": "ColormakerRegistryModel",
      "state": {
       "_dom_classes": [],
       "_model_module": "nglview-js-widgets",
       "_model_module_version": "3.0.8",
       "_model_name": "ColormakerRegistryModel",
       "_msg_ar": [],
       "_msg_q": [],
       "_ready": false,
       "_view_count": null,
       "_view_module": "nglview-js-widgets",
       "_view_module_version": "3.0.8",
       "_view_name": "ColormakerRegistryView",
       "layout": "IPY_MODEL_14cc057bfc1c4c1891205bd5d3f2964d",
       "tabbable": null,
       "tooltip": null
      }
     }
    },
    "version_major": 2,
    "version_minor": 0
   }
  }
 },
 "nbformat": 4,
 "nbformat_minor": 5
}
