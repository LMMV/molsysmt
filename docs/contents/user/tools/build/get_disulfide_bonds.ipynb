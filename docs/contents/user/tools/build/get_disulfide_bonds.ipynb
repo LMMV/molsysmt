{
 "cells": [
  {
   "cell_type": "code",
   "execution_count": 1,
   "id": "3908cf62-3a4c-4c82-a061-e78f6f2f7097",
   "metadata": {
    "tags": [
     "remove-input"
    ]
   },
   "outputs": [],
   "source": [
    "# This cell is removed with the tag: \"remove-input\"\n",
    "# As such, it will not be shown in documentation\n",
    "\n",
    "#import warnings\n",
    "#warnings.filterwarnings('ignore')"
   ]
  },
  {
   "cell_type": "markdown",
   "id": "034d6a12-81b5-40fe-89a7-59046d378078",
   "metadata": {},
   "source": [
    "(UserGuide_Tools_Build_GetDisulfideBonds)=\n",
    "# Get disulfide bonds\n",
    "\n",
    "*Getting the disulfide bonds.*\n"
   ]
  },
  {
   "cell_type": "code",
   "execution_count": 2,
   "id": "6994fe5b-cabb-4d79-a681-8634f0c86395",
   "metadata": {},
   "outputs": [
    {
     "data": {
      "application/vnd.jupyter.widget-view+json": {
       "model_id": "c20a16ebcbcd4f6faf5a5fa0040c23e9",
       "version_major": 2,
       "version_minor": 0
      },
      "text/plain": []
     },
     "metadata": {},
     "output_type": "display_data"
    }
   ],
   "source": [
    "import molsysmt as msm"
   ]
  },
  {
   "cell_type": "code",
   "execution_count": null,
   "id": "1a26a924-bbc4-476c-a66a-972b36021d12",
   "metadata": {},
   "outputs": [],
   "source": [
    "molecular_system = msm.convert('5XJH')"
   ]
  },
  {
   "cell_type": "code",
   "execution_count": null,
   "id": "d5005675-48dd-47f3-867a-8e57f661545c",
   "metadata": {},
   "outputs": [],
   "source": [
    "msm.info(molecular_system)"
   ]
  },
  {
   "cell_type": "code",
   "execution_count": null,
   "id": "5b2032f9-5674-4190-9fcd-bf97eaf26ede",
   "metadata": {},
   "outputs": [],
   "source": [
    "msm.build.get_disulfide_bonds(molecular_system)"
   ]
  },
  {
   "cell_type": "code",
   "execution_count": null,
   "id": "f58274dc-b479-44c3-b0b6-3d87cae4e93d",
   "metadata": {},
   "outputs": [],
   "source": [
    "msm.get(molecular_system, element='atom', selection='atom_type==\"S\"', n_atoms=True)"
   ]
  },
  {
   "cell_type": "code",
   "execution_count": null,
   "id": "b7491a79-f568-4991-974b-3ac919915819",
   "metadata": {},
   "outputs": [],
   "source": [
    "msm.structure.get_neighbors(molecular_system, selection='atom_type==\"S\"', n_neighbors=1,\n",
    "                            output_type='pairs', mutual_only=True, output_indices='atom')"
   ]
  },
  {
   "cell_type": "code",
   "execution_count": null,
   "id": "cab85822-9a73-4e80-a49d-2b1bf6d4e8d6",
   "metadata": {},
   "outputs": [],
   "source": []
  }
 ],
 "metadata": {
  "kernelspec": {
   "display_name": "Python 3 (ipykernel)",
   "language": "python",
   "name": "python3"
  },
  "language_info": {
   "codemirror_mode": {
    "name": "ipython",
    "version": 3
   },
   "file_extension": ".py",
   "mimetype": "text/x-python",
   "name": "python",
   "nbconvert_exporter": "python",
   "pygments_lexer": "ipython3",
   "version": "3.12.8"
  }
 },
 "nbformat": 4,
 "nbformat_minor": 5
}
