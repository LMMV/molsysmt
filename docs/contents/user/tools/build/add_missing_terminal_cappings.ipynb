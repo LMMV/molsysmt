{
 "cells": [
  {
   "cell_type": "code",
   "execution_count": 1,
   "metadata": {
    "execution": {
     "iopub.execute_input": "2025-04-14T03:07:03.047340Z",
     "iopub.status.busy": "2025-04-14T03:07:03.044964Z",
     "iopub.status.idle": "2025-04-14T03:07:03.060136Z",
     "shell.execute_reply": "2025-04-14T03:07:03.057536Z"
    },
    "tags": [
     "remove-input"
    ]
   },
   "outputs": [],
   "source": [
    "# This cell is removed with the tag: \"remove-input\"\n",
    "# As such, it will not be shown in documentation\n",
    "\n",
    "import warnings\n",
    "warnings.filterwarnings('ignore')"
   ]
  },
  {
   "cell_type": "markdown",
   "metadata": {},
   "source": [
    "(UserGuide_Tools_Build_AddMissingTerminalCappings)=\n",
    "\n",
    "# Add missing terminal cappings\n",
    "*Adding terminal cappings to peptides and proteins.*\n",
    "\n",
    "Capping the termini of peptides and proteins can be important for ensuring charge neutrality, stability, or for matching biological conditions. Terminal cappings are often required in molecular modeling, particularly when working with small peptides or fragments.\n",
    "\n",
    ":::{versionadded} 1.0.0\n",
    ":::\n",
    "\n",
    "## How this function works\n",
    "\n",
    "```{admonition} API documentation\n",
    "Follow this link for a detailed description of the input arguments, raised errors, and returned objects: {func}`molsysmt.build.add_missing_terminal_cappings()`.\n",
    "```\n",
    "\n",
    "The function {func}`molsysmt.build.add_missing_terminal_cappings()` adds chemical groups to the N-terminus, the C-terminus, or both. These groups can be neutral or charged depending on the chosen capping residues. By default, it completes the terminal atoms without introducing caps, resulting in charged termini. Alternatively, you can specify capping groups such as `ACE` for the N-terminus or `NME` for the C-terminus to neutralize the ends.\n",
    "\n",
    "Let's illustrate how this function works with a simple tripeptide example:"
   ]
  },
  {
   "cell_type": "code",
   "execution_count": 2,
   "metadata": {
    "execution": {
     "iopub.execute_input": "2025-04-14T03:07:03.068592Z",
     "iopub.status.busy": "2025-04-14T03:07:03.067476Z",
     "iopub.status.idle": "2025-04-14T03:07:07.464187Z",
     "shell.execute_reply": "2025-04-14T03:07:07.463505Z"
    }
   },
   "outputs": [
    {
     "data": {
      "application/vnd.jupyter.widget-view+json": {
       "model_id": "a3cc593c43e941e59a3909dd47c0fbbe",
       "version_major": 2,
       "version_minor": 0
      },
      "text/plain": []
     },
     "metadata": {},
     "output_type": "display_data"
    }
   ],
   "source": [
    "import molsysmt as msm"
   ]
  },
  {
   "cell_type": "code",
   "execution_count": 3,
   "metadata": {
    "execution": {
     "iopub.execute_input": "2025-04-14T03:07:07.466942Z",
     "iopub.status.busy": "2025-04-14T03:07:07.466546Z",
     "iopub.status.idle": "2025-04-14T03:07:07.971424Z",
     "shell.execute_reply": "2025-04-14T03:07:07.970685Z"
    }
   },
   "outputs": [],
   "source": [
    "molsys = msm.build.build_peptide('AlaValPro', to_form='molsysmt.MolSys')"
   ]
  },
  {
   "cell_type": "code",
   "execution_count": 4,
   "metadata": {
    "execution": {
     "iopub.execute_input": "2025-04-14T03:07:07.974276Z",
     "iopub.status.busy": "2025-04-14T03:07:07.973881Z",
     "iopub.status.idle": "2025-04-14T03:07:08.880402Z",
     "shell.execute_reply": "2025-04-14T03:07:08.879743Z"
    }
   },
   "outputs": [
    {
     "data": {
      "text/html": [
       "<style type=\"text/css\">\n",
       "</style>\n",
       "<table id=\"T_054fe\">\n",
       "  <thead>\n",
       "    <tr>\n",
       "      <th id=\"T_054fe_level0_col0\" class=\"col_heading level0 col0\" >index</th>\n",
       "      <th id=\"T_054fe_level0_col1\" class=\"col_heading level0 col1\" >id</th>\n",
       "      <th id=\"T_054fe_level0_col2\" class=\"col_heading level0 col2\" >name</th>\n",
       "      <th id=\"T_054fe_level0_col3\" class=\"col_heading level0 col3\" >type</th>\n",
       "      <th id=\"T_054fe_level0_col4\" class=\"col_heading level0 col4\" >n atoms</th>\n",
       "      <th id=\"T_054fe_level0_col5\" class=\"col_heading level0 col5\" >component index</th>\n",
       "      <th id=\"T_054fe_level0_col6\" class=\"col_heading level0 col6\" >chain index</th>\n",
       "      <th id=\"T_054fe_level0_col7\" class=\"col_heading level0 col7\" >molecule index</th>\n",
       "      <th id=\"T_054fe_level0_col8\" class=\"col_heading level0 col8\" >molecule type</th>\n",
       "      <th id=\"T_054fe_level0_col9\" class=\"col_heading level0 col9\" >entity index</th>\n",
       "      <th id=\"T_054fe_level0_col10\" class=\"col_heading level0 col10\" >entity name</th>\n",
       "    </tr>\n",
       "  </thead>\n",
       "  <tbody>\n",
       "    <tr>\n",
       "      <td id=\"T_054fe_row0_col0\" class=\"data row0 col0\" >0</td>\n",
       "      <td id=\"T_054fe_row0_col1\" class=\"data row0 col1\" >1</td>\n",
       "      <td id=\"T_054fe_row0_col2\" class=\"data row0 col2\" >ALA</td>\n",
       "      <td id=\"T_054fe_row0_col3\" class=\"data row0 col3\" >amino acid</td>\n",
       "      <td id=\"T_054fe_row0_col4\" class=\"data row0 col4\" >10</td>\n",
       "      <td id=\"T_054fe_row0_col5\" class=\"data row0 col5\" >0</td>\n",
       "      <td id=\"T_054fe_row0_col6\" class=\"data row0 col6\" >0</td>\n",
       "      <td id=\"T_054fe_row0_col7\" class=\"data row0 col7\" >0</td>\n",
       "      <td id=\"T_054fe_row0_col8\" class=\"data row0 col8\" >peptide</td>\n",
       "      <td id=\"T_054fe_row0_col9\" class=\"data row0 col9\" >0</td>\n",
       "      <td id=\"T_054fe_row0_col10\" class=\"data row0 col10\" >peptide 0</td>\n",
       "    </tr>\n",
       "    <tr>\n",
       "      <td id=\"T_054fe_row1_col0\" class=\"data row1 col0\" >1</td>\n",
       "      <td id=\"T_054fe_row1_col1\" class=\"data row1 col1\" >2</td>\n",
       "      <td id=\"T_054fe_row1_col2\" class=\"data row1 col2\" >VAL</td>\n",
       "      <td id=\"T_054fe_row1_col3\" class=\"data row1 col3\" >amino acid</td>\n",
       "      <td id=\"T_054fe_row1_col4\" class=\"data row1 col4\" >16</td>\n",
       "      <td id=\"T_054fe_row1_col5\" class=\"data row1 col5\" >0</td>\n",
       "      <td id=\"T_054fe_row1_col6\" class=\"data row1 col6\" >0</td>\n",
       "      <td id=\"T_054fe_row1_col7\" class=\"data row1 col7\" >0</td>\n",
       "      <td id=\"T_054fe_row1_col8\" class=\"data row1 col8\" >peptide</td>\n",
       "      <td id=\"T_054fe_row1_col9\" class=\"data row1 col9\" >0</td>\n",
       "      <td id=\"T_054fe_row1_col10\" class=\"data row1 col10\" >peptide 0</td>\n",
       "    </tr>\n",
       "    <tr>\n",
       "      <td id=\"T_054fe_row2_col0\" class=\"data row2 col0\" >2</td>\n",
       "      <td id=\"T_054fe_row2_col1\" class=\"data row2 col1\" >3</td>\n",
       "      <td id=\"T_054fe_row2_col2\" class=\"data row2 col2\" >PRO</td>\n",
       "      <td id=\"T_054fe_row2_col3\" class=\"data row2 col3\" >amino acid</td>\n",
       "      <td id=\"T_054fe_row2_col4\" class=\"data row2 col4\" >14</td>\n",
       "      <td id=\"T_054fe_row2_col5\" class=\"data row2 col5\" >0</td>\n",
       "      <td id=\"T_054fe_row2_col6\" class=\"data row2 col6\" >0</td>\n",
       "      <td id=\"T_054fe_row2_col7\" class=\"data row2 col7\" >0</td>\n",
       "      <td id=\"T_054fe_row2_col8\" class=\"data row2 col8\" >peptide</td>\n",
       "      <td id=\"T_054fe_row2_col9\" class=\"data row2 col9\" >0</td>\n",
       "      <td id=\"T_054fe_row2_col10\" class=\"data row2 col10\" >peptide 0</td>\n",
       "    </tr>\n",
       "  </tbody>\n",
       "</table>\n"
      ],
      "text/plain": [
       "<pandas.io.formats.style.Styler at 0x7a3bc096e1e0>"
      ]
     },
     "execution_count": 4,
     "metadata": {},
     "output_type": "execute_result"
    }
   ],
   "source": [
    "msm.info(molsys, element='group')"
   ]
  },
  {
   "cell_type": "markdown",
   "metadata": {},
   "source": [
    "As shown, the termini of the peptide are currently uncapped. We now add the atoms required to complete the terminal amino acids without capping groups. This produces a charged version of the peptide."
   ]
  },
  {
   "cell_type": "code",
   "execution_count": 5,
   "metadata": {
    "execution": {
     "iopub.execute_input": "2025-04-14T03:07:08.882517Z",
     "iopub.status.busy": "2025-04-14T03:07:08.882163Z",
     "iopub.status.idle": "2025-04-14T03:07:12.831152Z",
     "shell.execute_reply": "2025-04-14T03:07:12.830413Z"
    }
   },
   "outputs": [],
   "source": [
    "molsys_charged = msm.build.add_missing_terminal_cappings(molsys, N_terminal=None, C_terminal=None)"
   ]
  },
  {
   "cell_type": "code",
   "execution_count": 6,
   "metadata": {
    "execution": {
     "iopub.execute_input": "2025-04-14T03:07:12.833733Z",
     "iopub.status.busy": "2025-04-14T03:07:12.833503Z",
     "iopub.status.idle": "2025-04-14T03:07:13.716942Z",
     "shell.execute_reply": "2025-04-14T03:07:13.716035Z"
    }
   },
   "outputs": [
    {
     "data": {
      "text/html": [
       "<style type=\"text/css\">\n",
       "</style>\n",
       "<table id=\"T_62c52\">\n",
       "  <thead>\n",
       "    <tr>\n",
       "      <th id=\"T_62c52_level0_col0\" class=\"col_heading level0 col0\" >index</th>\n",
       "      <th id=\"T_62c52_level0_col1\" class=\"col_heading level0 col1\" >id</th>\n",
       "      <th id=\"T_62c52_level0_col2\" class=\"col_heading level0 col2\" >name</th>\n",
       "      <th id=\"T_62c52_level0_col3\" class=\"col_heading level0 col3\" >type</th>\n",
       "      <th id=\"T_62c52_level0_col4\" class=\"col_heading level0 col4\" >n atoms</th>\n",
       "      <th id=\"T_62c52_level0_col5\" class=\"col_heading level0 col5\" >component index</th>\n",
       "      <th id=\"T_62c52_level0_col6\" class=\"col_heading level0 col6\" >chain index</th>\n",
       "      <th id=\"T_62c52_level0_col7\" class=\"col_heading level0 col7\" >molecule index</th>\n",
       "      <th id=\"T_62c52_level0_col8\" class=\"col_heading level0 col8\" >molecule type</th>\n",
       "      <th id=\"T_62c52_level0_col9\" class=\"col_heading level0 col9\" >entity index</th>\n",
       "      <th id=\"T_62c52_level0_col10\" class=\"col_heading level0 col10\" >entity name</th>\n",
       "    </tr>\n",
       "  </thead>\n",
       "  <tbody>\n",
       "    <tr>\n",
       "      <td id=\"T_62c52_row0_col0\" class=\"data row0 col0\" >0</td>\n",
       "      <td id=\"T_62c52_row0_col1\" class=\"data row0 col1\" >1</td>\n",
       "      <td id=\"T_62c52_row0_col2\" class=\"data row0 col2\" >ALA</td>\n",
       "      <td id=\"T_62c52_row0_col3\" class=\"data row0 col3\" >amino acid</td>\n",
       "      <td id=\"T_62c52_row0_col4\" class=\"data row0 col4\" >12</td>\n",
       "      <td id=\"T_62c52_row0_col5\" class=\"data row0 col5\" >0</td>\n",
       "      <td id=\"T_62c52_row0_col6\" class=\"data row0 col6\" >0</td>\n",
       "      <td id=\"T_62c52_row0_col7\" class=\"data row0 col7\" >0</td>\n",
       "      <td id=\"T_62c52_row0_col8\" class=\"data row0 col8\" >peptide</td>\n",
       "      <td id=\"T_62c52_row0_col9\" class=\"data row0 col9\" >0</td>\n",
       "      <td id=\"T_62c52_row0_col10\" class=\"data row0 col10\" >peptide 0</td>\n",
       "    </tr>\n",
       "    <tr>\n",
       "      <td id=\"T_62c52_row1_col0\" class=\"data row1 col0\" >1</td>\n",
       "      <td id=\"T_62c52_row1_col1\" class=\"data row1 col1\" >2</td>\n",
       "      <td id=\"T_62c52_row1_col2\" class=\"data row1 col2\" >VAL</td>\n",
       "      <td id=\"T_62c52_row1_col3\" class=\"data row1 col3\" >amino acid</td>\n",
       "      <td id=\"T_62c52_row1_col4\" class=\"data row1 col4\" >16</td>\n",
       "      <td id=\"T_62c52_row1_col5\" class=\"data row1 col5\" >0</td>\n",
       "      <td id=\"T_62c52_row1_col6\" class=\"data row1 col6\" >0</td>\n",
       "      <td id=\"T_62c52_row1_col7\" class=\"data row1 col7\" >0</td>\n",
       "      <td id=\"T_62c52_row1_col8\" class=\"data row1 col8\" >peptide</td>\n",
       "      <td id=\"T_62c52_row1_col9\" class=\"data row1 col9\" >0</td>\n",
       "      <td id=\"T_62c52_row1_col10\" class=\"data row1 col10\" >peptide 0</td>\n",
       "    </tr>\n",
       "    <tr>\n",
       "      <td id=\"T_62c52_row2_col0\" class=\"data row2 col0\" >2</td>\n",
       "      <td id=\"T_62c52_row2_col1\" class=\"data row2 col1\" >3</td>\n",
       "      <td id=\"T_62c52_row2_col2\" class=\"data row2 col2\" >PRO</td>\n",
       "      <td id=\"T_62c52_row2_col3\" class=\"data row2 col3\" >amino acid</td>\n",
       "      <td id=\"T_62c52_row2_col4\" class=\"data row2 col4\" >15</td>\n",
       "      <td id=\"T_62c52_row2_col5\" class=\"data row2 col5\" >0</td>\n",
       "      <td id=\"T_62c52_row2_col6\" class=\"data row2 col6\" >0</td>\n",
       "      <td id=\"T_62c52_row2_col7\" class=\"data row2 col7\" >0</td>\n",
       "      <td id=\"T_62c52_row2_col8\" class=\"data row2 col8\" >peptide</td>\n",
       "      <td id=\"T_62c52_row2_col9\" class=\"data row2 col9\" >0</td>\n",
       "      <td id=\"T_62c52_row2_col10\" class=\"data row2 col10\" >peptide 0</td>\n",
       "    </tr>\n",
       "  </tbody>\n",
       "</table>\n"
      ],
      "text/plain": [
       "<pandas.io.formats.style.Styler at 0x7a3bc04c79b0>"
      ]
     },
     "execution_count": 6,
     "metadata": {},
     "output_type": "execute_result"
    }
   ],
   "source": [
    "msm.info(molsys_charged, element='group')"
   ]
  },
  {
   "cell_type": "markdown",
   "metadata": {},
   "source": [
    "Let's confirm that the terminal groups carry charges under these conditions."
   ]
  },
  {
   "cell_type": "code",
   "execution_count": 7,
   "metadata": {
    "execution": {
     "iopub.execute_input": "2025-04-14T03:07:13.719111Z",
     "iopub.status.busy": "2025-04-14T03:07:13.718872Z",
     "iopub.status.idle": "2025-04-14T03:07:13.884183Z",
     "shell.execute_reply": "2025-04-14T03:07:13.883500Z"
    }
   },
   "outputs": [
    {
     "data": {
      "text/html": [
       "<table><tbody><tr><th>Magnitude</th><td style='text-align:left;'><pre>[0.0 0.0 0.0]</pre></td></tr><tr><th>Units</th><td style='text-align:left;'>elementary_charge</td></tr></tbody></table>"
      ],
      "text/latex": [
       "$\\begin{pmatrix} &  & \\end{pmatrix}\\ \\mathrm{elementary\\_charge}$"
      ],
      "text/plain": [
       "<Quantity([0. 0. 0.], 'elementary_charge')>"
      ]
     },
     "execution_count": 7,
     "metadata": {},
     "output_type": "execute_result"
    }
   ],
   "source": [
    "msm.physchem.get_charge(molsys_charged, element='group')"
   ]
  },
  {
   "cell_type": "markdown",
   "metadata": {},
   "source": [
    "To neutralize the terminal charges, we can cap the N-terminus with an acetyl group (ACE) and the C-terminus with a N-methyl amide (NME)."
   ]
  },
  {
   "cell_type": "code",
   "execution_count": 8,
   "metadata": {
    "execution": {
     "iopub.execute_input": "2025-04-14T03:07:13.886262Z",
     "iopub.status.busy": "2025-04-14T03:07:13.886039Z",
     "iopub.status.idle": "2025-04-14T03:07:17.716522Z",
     "shell.execute_reply": "2025-04-14T03:07:17.715649Z"
    }
   },
   "outputs": [],
   "source": [
    "molsys_uncharged = msm.build.add_missing_terminal_cappings(molsys, N_terminal='ACE', C_terminal='NME')"
   ]
  },
  {
   "cell_type": "code",
   "execution_count": 9,
   "metadata": {
    "execution": {
     "iopub.execute_input": "2025-04-14T03:07:17.718640Z",
     "iopub.status.busy": "2025-04-14T03:07:17.718387Z",
     "iopub.status.idle": "2025-04-14T03:07:18.696427Z",
     "shell.execute_reply": "2025-04-14T03:07:18.695848Z"
    }
   },
   "outputs": [
    {
     "data": {
      "text/html": [
       "<style type=\"text/css\">\n",
       "</style>\n",
       "<table id=\"T_7b957\">\n",
       "  <thead>\n",
       "    <tr>\n",
       "      <th id=\"T_7b957_level0_col0\" class=\"col_heading level0 col0\" >index</th>\n",
       "      <th id=\"T_7b957_level0_col1\" class=\"col_heading level0 col1\" >id</th>\n",
       "      <th id=\"T_7b957_level0_col2\" class=\"col_heading level0 col2\" >name</th>\n",
       "      <th id=\"T_7b957_level0_col3\" class=\"col_heading level0 col3\" >type</th>\n",
       "      <th id=\"T_7b957_level0_col4\" class=\"col_heading level0 col4\" >n atoms</th>\n",
       "      <th id=\"T_7b957_level0_col5\" class=\"col_heading level0 col5\" >component index</th>\n",
       "      <th id=\"T_7b957_level0_col6\" class=\"col_heading level0 col6\" >chain index</th>\n",
       "      <th id=\"T_7b957_level0_col7\" class=\"col_heading level0 col7\" >molecule index</th>\n",
       "      <th id=\"T_7b957_level0_col8\" class=\"col_heading level0 col8\" >molecule type</th>\n",
       "      <th id=\"T_7b957_level0_col9\" class=\"col_heading level0 col9\" >entity index</th>\n",
       "      <th id=\"T_7b957_level0_col10\" class=\"col_heading level0 col10\" >entity name</th>\n",
       "    </tr>\n",
       "  </thead>\n",
       "  <tbody>\n",
       "    <tr>\n",
       "      <td id=\"T_7b957_row0_col0\" class=\"data row0 col0\" >0</td>\n",
       "      <td id=\"T_7b957_row0_col1\" class=\"data row0 col1\" >0</td>\n",
       "      <td id=\"T_7b957_row0_col2\" class=\"data row0 col2\" >ACE</td>\n",
       "      <td id=\"T_7b957_row0_col3\" class=\"data row0 col3\" >terminal capping</td>\n",
       "      <td id=\"T_7b957_row0_col4\" class=\"data row0 col4\" >6</td>\n",
       "      <td id=\"T_7b957_row0_col5\" class=\"data row0 col5\" >0</td>\n",
       "      <td id=\"T_7b957_row0_col6\" class=\"data row0 col6\" >0</td>\n",
       "      <td id=\"T_7b957_row0_col7\" class=\"data row0 col7\" >0</td>\n",
       "      <td id=\"T_7b957_row0_col8\" class=\"data row0 col8\" >peptide</td>\n",
       "      <td id=\"T_7b957_row0_col9\" class=\"data row0 col9\" >0</td>\n",
       "      <td id=\"T_7b957_row0_col10\" class=\"data row0 col10\" >peptide 0</td>\n",
       "    </tr>\n",
       "    <tr>\n",
       "      <td id=\"T_7b957_row1_col0\" class=\"data row1 col0\" >1</td>\n",
       "      <td id=\"T_7b957_row1_col1\" class=\"data row1 col1\" >1</td>\n",
       "      <td id=\"T_7b957_row1_col2\" class=\"data row1 col2\" >ALA</td>\n",
       "      <td id=\"T_7b957_row1_col3\" class=\"data row1 col3\" >amino acid</td>\n",
       "      <td id=\"T_7b957_row1_col4\" class=\"data row1 col4\" >10</td>\n",
       "      <td id=\"T_7b957_row1_col5\" class=\"data row1 col5\" >0</td>\n",
       "      <td id=\"T_7b957_row1_col6\" class=\"data row1 col6\" >0</td>\n",
       "      <td id=\"T_7b957_row1_col7\" class=\"data row1 col7\" >0</td>\n",
       "      <td id=\"T_7b957_row1_col8\" class=\"data row1 col8\" >peptide</td>\n",
       "      <td id=\"T_7b957_row1_col9\" class=\"data row1 col9\" >0</td>\n",
       "      <td id=\"T_7b957_row1_col10\" class=\"data row1 col10\" >peptide 0</td>\n",
       "    </tr>\n",
       "    <tr>\n",
       "      <td id=\"T_7b957_row2_col0\" class=\"data row2 col0\" >2</td>\n",
       "      <td id=\"T_7b957_row2_col1\" class=\"data row2 col1\" >2</td>\n",
       "      <td id=\"T_7b957_row2_col2\" class=\"data row2 col2\" >VAL</td>\n",
       "      <td id=\"T_7b957_row2_col3\" class=\"data row2 col3\" >amino acid</td>\n",
       "      <td id=\"T_7b957_row2_col4\" class=\"data row2 col4\" >16</td>\n",
       "      <td id=\"T_7b957_row2_col5\" class=\"data row2 col5\" >0</td>\n",
       "      <td id=\"T_7b957_row2_col6\" class=\"data row2 col6\" >0</td>\n",
       "      <td id=\"T_7b957_row2_col7\" class=\"data row2 col7\" >0</td>\n",
       "      <td id=\"T_7b957_row2_col8\" class=\"data row2 col8\" >peptide</td>\n",
       "      <td id=\"T_7b957_row2_col9\" class=\"data row2 col9\" >0</td>\n",
       "      <td id=\"T_7b957_row2_col10\" class=\"data row2 col10\" >peptide 0</td>\n",
       "    </tr>\n",
       "    <tr>\n",
       "      <td id=\"T_7b957_row3_col0\" class=\"data row3 col0\" >3</td>\n",
       "      <td id=\"T_7b957_row3_col1\" class=\"data row3 col1\" >3</td>\n",
       "      <td id=\"T_7b957_row3_col2\" class=\"data row3 col2\" >PRO</td>\n",
       "      <td id=\"T_7b957_row3_col3\" class=\"data row3 col3\" >amino acid</td>\n",
       "      <td id=\"T_7b957_row3_col4\" class=\"data row3 col4\" >14</td>\n",
       "      <td id=\"T_7b957_row3_col5\" class=\"data row3 col5\" >0</td>\n",
       "      <td id=\"T_7b957_row3_col6\" class=\"data row3 col6\" >0</td>\n",
       "      <td id=\"T_7b957_row3_col7\" class=\"data row3 col7\" >0</td>\n",
       "      <td id=\"T_7b957_row3_col8\" class=\"data row3 col8\" >peptide</td>\n",
       "      <td id=\"T_7b957_row3_col9\" class=\"data row3 col9\" >0</td>\n",
       "      <td id=\"T_7b957_row3_col10\" class=\"data row3 col10\" >peptide 0</td>\n",
       "    </tr>\n",
       "    <tr>\n",
       "      <td id=\"T_7b957_row4_col0\" class=\"data row4 col0\" >4</td>\n",
       "      <td id=\"T_7b957_row4_col1\" class=\"data row4 col1\" >4</td>\n",
       "      <td id=\"T_7b957_row4_col2\" class=\"data row4 col2\" >NME</td>\n",
       "      <td id=\"T_7b957_row4_col3\" class=\"data row4 col3\" >terminal capping</td>\n",
       "      <td id=\"T_7b957_row4_col4\" class=\"data row4 col4\" >6</td>\n",
       "      <td id=\"T_7b957_row4_col5\" class=\"data row4 col5\" >0</td>\n",
       "      <td id=\"T_7b957_row4_col6\" class=\"data row4 col6\" >0</td>\n",
       "      <td id=\"T_7b957_row4_col7\" class=\"data row4 col7\" >0</td>\n",
       "      <td id=\"T_7b957_row4_col8\" class=\"data row4 col8\" >peptide</td>\n",
       "      <td id=\"T_7b957_row4_col9\" class=\"data row4 col9\" >0</td>\n",
       "      <td id=\"T_7b957_row4_col10\" class=\"data row4 col10\" >peptide 0</td>\n",
       "    </tr>\n",
       "  </tbody>\n",
       "</table>\n"
      ],
      "text/plain": [
       "<pandas.io.formats.style.Styler at 0x7a3bc01e2840>"
      ]
     },
     "execution_count": 9,
     "metadata": {},
     "output_type": "execute_result"
    }
   ],
   "source": [
    "msm.info(molsys_uncharged, element='group')"
   ]
  },
  {
   "cell_type": "markdown",
   "metadata": {},
   "source": [
    "We check the charges again to confirm that the peptide is now neutral."
   ]
  },
  {
   "cell_type": "code",
   "execution_count": 10,
   "metadata": {
    "execution": {
     "iopub.execute_input": "2025-04-14T03:07:18.698773Z",
     "iopub.status.busy": "2025-04-14T03:07:18.698281Z",
     "iopub.status.idle": "2025-04-14T03:07:18.873834Z",
     "shell.execute_reply": "2025-04-14T03:07:18.873035Z"
    }
   },
   "outputs": [
    {
     "data": {
      "text/html": [
       "<table><tbody><tr><th>Magnitude</th><td style='text-align:left;'><pre>[0.0 0.0 0.0 0.0 0.0]</pre></td></tr><tr><th>Units</th><td style='text-align:left;'>elementary_charge</td></tr></tbody></table>"
      ],
      "text/latex": [
       "$\\begin{pmatrix} &  &  &  & \\end{pmatrix}\\ \\mathrm{elementary\\_charge}$"
      ],
      "text/plain": [
       "<Quantity([0. 0. 0. 0. 0.], 'elementary_charge')>"
      ]
     },
     "execution_count": 10,
     "metadata": {},
     "output_type": "execute_result"
    }
   ],
   "source": [
    "msm.physchem.get_charge(molsys_uncharged, element='group')"
   ]
  },
  {
   "cell_type": "markdown",
   "metadata": {},
   "source": [
    ":::{seealso}\n",
    "[User guide > Tools > Build > Build peptide](build_peptide.ipynb):  \n",
    "Generate capped peptide structures from a sequence.\n",
    "\n",
    "[User guide > Tools > PhysChem > Get charge](../physchem/get_charge.ipynb):  \n",
    "Compute net charges for molecular systems or selections.\n",
    "\n",
    "[User guide > Tools > Basic > Info](../basic/info.ipynb):  \n",
    "Summarize the content and composition of a molecular system.\n",
    ":::"
   ]
  }
 ],
 "metadata": {
  "kernelspec": {
   "display_name": "Python 3 (ipykernel)",
   "language": "python",
   "name": "python3"
  },
  "language_info": {
   "codemirror_mode": {
    "name": "ipython",
    "version": 3
   },
   "file_extension": ".py",
   "mimetype": "text/x-python",
   "name": "python",
   "nbconvert_exporter": "python",
   "pygments_lexer": "ipython3",
   "version": "3.12.9"
  },
  "widgets": {
   "application/vnd.jupyter.widget-state+json": {
    "state": {
     "a3cc593c43e941e59a3909dd47c0fbbe": {
      "model_module": "nglview-js-widgets",
      "model_module_version": "3.0.8",
      "model_name": "ColormakerRegistryModel",
      "state": {
       "_dom_classes": [],
       "_model_module": "nglview-js-widgets",
       "_model_module_version": "3.0.8",
       "_model_name": "ColormakerRegistryModel",
       "_msg_ar": [],
       "_msg_q": [],
       "_ready": false,
       "_view_count": null,
       "_view_module": "nglview-js-widgets",
       "_view_module_version": "3.0.8",
       "_view_name": "ColormakerRegistryView",
       "layout": "IPY_MODEL_afff50412cc04991abc7f9cc02d00c74",
       "tabbable": null,
       "tooltip": null
      }
     },
     "afff50412cc04991abc7f9cc02d00c74": {
      "model_module": "@jupyter-widgets/base",
      "model_module_version": "2.0.0",
      "model_name": "LayoutModel",
      "state": {
       "_model_module": "@jupyter-widgets/base",
       "_model_module_version": "2.0.0",
       "_model_name": "LayoutModel",
       "_view_count": null,
       "_view_module": "@jupyter-widgets/base",
       "_view_module_version": "2.0.0",
       "_view_name": "LayoutView",
       "align_content": null,
       "align_items": null,
       "align_self": null,
       "border_bottom": null,
       "border_left": null,
       "border_right": null,
       "border_top": null,
       "bottom": null,
       "display": null,
       "flex": null,
       "flex_flow": null,
       "grid_area": null,
       "grid_auto_columns": null,
       "grid_auto_flow": null,
       "grid_auto_rows": null,
       "grid_column": null,
       "grid_gap": null,
       "grid_row": null,
       "grid_template_areas": null,
       "grid_template_columns": null,
       "grid_template_rows": null,
       "height": null,
       "justify_content": null,
       "justify_items": null,
       "left": null,
       "margin": null,
       "max_height": null,
       "max_width": null,
       "min_height": null,
       "min_width": null,
       "object_fit": null,
       "object_position": null,
       "order": null,
       "overflow": null,
       "padding": null,
       "right": null,
       "top": null,
       "visibility": null,
       "width": null
      }
     }
    },
    "version_major": 2,
    "version_minor": 0
   }
  }
 },
 "nbformat": 4,
 "nbformat_minor": 4
}
