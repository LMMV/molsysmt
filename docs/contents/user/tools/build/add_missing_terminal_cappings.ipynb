{
 "cells": [
  {
   "cell_type": "code",
   "execution_count": 1,
   "metadata": {
    "tags": [
     "remove-input"
    ]
   },
   "outputs": [],
   "source": [
    "# This cell is removed with the tag: \"remove-input\"\n",
    "# As such, it will not be shown in documentation\n",
    "\n",
    "import warnings\n",
    "warnings.filterwarnings('ignore')"
   ]
  },
  {
   "cell_type": "markdown",
   "metadata": {},
   "source": [
    "(UserGuide_Tools_Build_AddMissingTerminalCappings)=\n",
    "# Add missing terminal cappings\n",
    "*Adding terminal capppings to peptides and proteins.*\n",
    "\n",
    "The function {func}`molsysmt.build.add_missing_terminal_cappings` adds terminal cappings to the N and/or C terminals of a peptide or protein. The use of this function can be illustrated with this simple case:"
   ]
  },
  {
   "cell_type": "code",
   "execution_count": 2,
   "metadata": {},
   "outputs": [
    {
     "data": {
      "application/vnd.jupyter.widget-view+json": {
       "model_id": "c15a0e08fd7742019000471280bb9d85",
       "version_major": 2,
       "version_minor": 0
      },
      "text/plain": []
     },
     "metadata": {},
     "output_type": "display_data"
    }
   ],
   "source": [
    "import molsysmt as msm"
   ]
  },
  {
   "cell_type": "code",
   "execution_count": 3,
   "metadata": {},
   "outputs": [],
   "source": [
    "molecular_system = msm.build.build_peptide('AlaValPro', to_form='molsysmt.MolSys')"
   ]
  },
  {
   "cell_type": "code",
   "execution_count": 4,
   "metadata": {},
   "outputs": [
    {
     "data": {
      "text/html": [
       "<style type=\"text/css\">\n",
       "</style>\n",
       "<table id=\"T_1572c\">\n",
       "  <thead>\n",
       "    <tr>\n",
       "      <th id=\"T_1572c_level0_col0\" class=\"col_heading level0 col0\" >index</th>\n",
       "      <th id=\"T_1572c_level0_col1\" class=\"col_heading level0 col1\" >id</th>\n",
       "      <th id=\"T_1572c_level0_col2\" class=\"col_heading level0 col2\" >name</th>\n",
       "      <th id=\"T_1572c_level0_col3\" class=\"col_heading level0 col3\" >type</th>\n",
       "      <th id=\"T_1572c_level0_col4\" class=\"col_heading level0 col4\" >n atoms</th>\n",
       "      <th id=\"T_1572c_level0_col5\" class=\"col_heading level0 col5\" >component index</th>\n",
       "      <th id=\"T_1572c_level0_col6\" class=\"col_heading level0 col6\" >chain index</th>\n",
       "      <th id=\"T_1572c_level0_col7\" class=\"col_heading level0 col7\" >molecule index</th>\n",
       "      <th id=\"T_1572c_level0_col8\" class=\"col_heading level0 col8\" >molecule type</th>\n",
       "      <th id=\"T_1572c_level0_col9\" class=\"col_heading level0 col9\" >entity index</th>\n",
       "      <th id=\"T_1572c_level0_col10\" class=\"col_heading level0 col10\" >entity name</th>\n",
       "    </tr>\n",
       "  </thead>\n",
       "  <tbody>\n",
       "    <tr>\n",
       "      <td id=\"T_1572c_row0_col0\" class=\"data row0 col0\" >0</td>\n",
       "      <td id=\"T_1572c_row0_col1\" class=\"data row0 col1\" >1</td>\n",
       "      <td id=\"T_1572c_row0_col2\" class=\"data row0 col2\" >ALA</td>\n",
       "      <td id=\"T_1572c_row0_col3\" class=\"data row0 col3\" >amino acid</td>\n",
       "      <td id=\"T_1572c_row0_col4\" class=\"data row0 col4\" >10</td>\n",
       "      <td id=\"T_1572c_row0_col5\" class=\"data row0 col5\" >0</td>\n",
       "      <td id=\"T_1572c_row0_col6\" class=\"data row0 col6\" >0</td>\n",
       "      <td id=\"T_1572c_row0_col7\" class=\"data row0 col7\" >0</td>\n",
       "      <td id=\"T_1572c_row0_col8\" class=\"data row0 col8\" >peptide</td>\n",
       "      <td id=\"T_1572c_row0_col9\" class=\"data row0 col9\" >0</td>\n",
       "      <td id=\"T_1572c_row0_col10\" class=\"data row0 col10\" >peptide 0</td>\n",
       "    </tr>\n",
       "    <tr>\n",
       "      <td id=\"T_1572c_row1_col0\" class=\"data row1 col0\" >1</td>\n",
       "      <td id=\"T_1572c_row1_col1\" class=\"data row1 col1\" >2</td>\n",
       "      <td id=\"T_1572c_row1_col2\" class=\"data row1 col2\" >VAL</td>\n",
       "      <td id=\"T_1572c_row1_col3\" class=\"data row1 col3\" >amino acid</td>\n",
       "      <td id=\"T_1572c_row1_col4\" class=\"data row1 col4\" >16</td>\n",
       "      <td id=\"T_1572c_row1_col5\" class=\"data row1 col5\" >0</td>\n",
       "      <td id=\"T_1572c_row1_col6\" class=\"data row1 col6\" >0</td>\n",
       "      <td id=\"T_1572c_row1_col7\" class=\"data row1 col7\" >0</td>\n",
       "      <td id=\"T_1572c_row1_col8\" class=\"data row1 col8\" >peptide</td>\n",
       "      <td id=\"T_1572c_row1_col9\" class=\"data row1 col9\" >0</td>\n",
       "      <td id=\"T_1572c_row1_col10\" class=\"data row1 col10\" >peptide 0</td>\n",
       "    </tr>\n",
       "    <tr>\n",
       "      <td id=\"T_1572c_row2_col0\" class=\"data row2 col0\" >2</td>\n",
       "      <td id=\"T_1572c_row2_col1\" class=\"data row2 col1\" >3</td>\n",
       "      <td id=\"T_1572c_row2_col2\" class=\"data row2 col2\" >PRO</td>\n",
       "      <td id=\"T_1572c_row2_col3\" class=\"data row2 col3\" >amino acid</td>\n",
       "      <td id=\"T_1572c_row2_col4\" class=\"data row2 col4\" >14</td>\n",
       "      <td id=\"T_1572c_row2_col5\" class=\"data row2 col5\" >0</td>\n",
       "      <td id=\"T_1572c_row2_col6\" class=\"data row2 col6\" >0</td>\n",
       "      <td id=\"T_1572c_row2_col7\" class=\"data row2 col7\" >0</td>\n",
       "      <td id=\"T_1572c_row2_col8\" class=\"data row2 col8\" >peptide</td>\n",
       "      <td id=\"T_1572c_row2_col9\" class=\"data row2 col9\" >0</td>\n",
       "      <td id=\"T_1572c_row2_col10\" class=\"data row2 col10\" >peptide 0</td>\n",
       "    </tr>\n",
       "  </tbody>\n",
       "</table>\n"
      ],
      "text/plain": [
       "<pandas.io.formats.style.Styler at 0x7fcf31adfe50>"
      ]
     },
     "execution_count": 4,
     "metadata": {},
     "output_type": "execute_result"
    }
   ],
   "source": [
    "msm.info(molecular_system, element='group')"
   ]
  },
  {
   "cell_type": "markdown",
   "metadata": {},
   "source": [
    "We have an uncapped peptide, let's add the required atoms to close the terminal aminoacids:"
   ]
  },
  {
   "cell_type": "code",
   "execution_count": 5,
   "metadata": {},
   "outputs": [],
   "source": [
    "molecular_system_charged = msm.build.add_missing_terminal_cappings(molecular_system, N_terminal=None, C_terminal=None)"
   ]
  },
  {
   "cell_type": "code",
   "execution_count": 6,
   "metadata": {},
   "outputs": [
    {
     "data": {
      "text/html": [
       "<style type=\"text/css\">\n",
       "</style>\n",
       "<table id=\"T_b4bde\">\n",
       "  <thead>\n",
       "    <tr>\n",
       "      <th id=\"T_b4bde_level0_col0\" class=\"col_heading level0 col0\" >index</th>\n",
       "      <th id=\"T_b4bde_level0_col1\" class=\"col_heading level0 col1\" >id</th>\n",
       "      <th id=\"T_b4bde_level0_col2\" class=\"col_heading level0 col2\" >name</th>\n",
       "      <th id=\"T_b4bde_level0_col3\" class=\"col_heading level0 col3\" >type</th>\n",
       "      <th id=\"T_b4bde_level0_col4\" class=\"col_heading level0 col4\" >n atoms</th>\n",
       "      <th id=\"T_b4bde_level0_col5\" class=\"col_heading level0 col5\" >component index</th>\n",
       "      <th id=\"T_b4bde_level0_col6\" class=\"col_heading level0 col6\" >chain index</th>\n",
       "      <th id=\"T_b4bde_level0_col7\" class=\"col_heading level0 col7\" >molecule index</th>\n",
       "      <th id=\"T_b4bde_level0_col8\" class=\"col_heading level0 col8\" >molecule type</th>\n",
       "      <th id=\"T_b4bde_level0_col9\" class=\"col_heading level0 col9\" >entity index</th>\n",
       "      <th id=\"T_b4bde_level0_col10\" class=\"col_heading level0 col10\" >entity name</th>\n",
       "    </tr>\n",
       "  </thead>\n",
       "  <tbody>\n",
       "    <tr>\n",
       "      <td id=\"T_b4bde_row0_col0\" class=\"data row0 col0\" >0</td>\n",
       "      <td id=\"T_b4bde_row0_col1\" class=\"data row0 col1\" >1</td>\n",
       "      <td id=\"T_b4bde_row0_col2\" class=\"data row0 col2\" >ALA</td>\n",
       "      <td id=\"T_b4bde_row0_col3\" class=\"data row0 col3\" >amino acid</td>\n",
       "      <td id=\"T_b4bde_row0_col4\" class=\"data row0 col4\" >12</td>\n",
       "      <td id=\"T_b4bde_row0_col5\" class=\"data row0 col5\" >0</td>\n",
       "      <td id=\"T_b4bde_row0_col6\" class=\"data row0 col6\" >0</td>\n",
       "      <td id=\"T_b4bde_row0_col7\" class=\"data row0 col7\" >0</td>\n",
       "      <td id=\"T_b4bde_row0_col8\" class=\"data row0 col8\" >peptide</td>\n",
       "      <td id=\"T_b4bde_row0_col9\" class=\"data row0 col9\" >0</td>\n",
       "      <td id=\"T_b4bde_row0_col10\" class=\"data row0 col10\" >peptide 0</td>\n",
       "    </tr>\n",
       "    <tr>\n",
       "      <td id=\"T_b4bde_row1_col0\" class=\"data row1 col0\" >1</td>\n",
       "      <td id=\"T_b4bde_row1_col1\" class=\"data row1 col1\" >2</td>\n",
       "      <td id=\"T_b4bde_row1_col2\" class=\"data row1 col2\" >VAL</td>\n",
       "      <td id=\"T_b4bde_row1_col3\" class=\"data row1 col3\" >amino acid</td>\n",
       "      <td id=\"T_b4bde_row1_col4\" class=\"data row1 col4\" >16</td>\n",
       "      <td id=\"T_b4bde_row1_col5\" class=\"data row1 col5\" >0</td>\n",
       "      <td id=\"T_b4bde_row1_col6\" class=\"data row1 col6\" >0</td>\n",
       "      <td id=\"T_b4bde_row1_col7\" class=\"data row1 col7\" >0</td>\n",
       "      <td id=\"T_b4bde_row1_col8\" class=\"data row1 col8\" >peptide</td>\n",
       "      <td id=\"T_b4bde_row1_col9\" class=\"data row1 col9\" >0</td>\n",
       "      <td id=\"T_b4bde_row1_col10\" class=\"data row1 col10\" >peptide 0</td>\n",
       "    </tr>\n",
       "    <tr>\n",
       "      <td id=\"T_b4bde_row2_col0\" class=\"data row2 col0\" >2</td>\n",
       "      <td id=\"T_b4bde_row2_col1\" class=\"data row2 col1\" >3</td>\n",
       "      <td id=\"T_b4bde_row2_col2\" class=\"data row2 col2\" >PRO</td>\n",
       "      <td id=\"T_b4bde_row2_col3\" class=\"data row2 col3\" >amino acid</td>\n",
       "      <td id=\"T_b4bde_row2_col4\" class=\"data row2 col4\" >15</td>\n",
       "      <td id=\"T_b4bde_row2_col5\" class=\"data row2 col5\" >0</td>\n",
       "      <td id=\"T_b4bde_row2_col6\" class=\"data row2 col6\" >0</td>\n",
       "      <td id=\"T_b4bde_row2_col7\" class=\"data row2 col7\" >0</td>\n",
       "      <td id=\"T_b4bde_row2_col8\" class=\"data row2 col8\" >peptide</td>\n",
       "      <td id=\"T_b4bde_row2_col9\" class=\"data row2 col9\" >0</td>\n",
       "      <td id=\"T_b4bde_row2_col10\" class=\"data row2 col10\" >peptide 0</td>\n",
       "    </tr>\n",
       "  </tbody>\n",
       "</table>\n"
      ],
      "text/plain": [
       "<pandas.io.formats.style.Styler at 0x7fcf31adfdf0>"
      ]
     },
     "execution_count": 6,
     "metadata": {},
     "output_type": "execute_result"
    }
   ],
   "source": [
    "msm.info(molecular_system_charged, element='group')"
   ]
  },
  {
   "cell_type": "markdown",
   "metadata": {},
   "source": [
    "This way the peptide is charged:"
   ]
  },
  {
   "cell_type": "code",
   "execution_count": 10,
   "metadata": {},
   "outputs": [],
   "source": [
    "aaa = msm.convert(molecular_system_charged, 'openmm.System')"
   ]
  },
  {
   "cell_type": "code",
   "execution_count": 11,
   "metadata": {},
   "outputs": [
    {
     "data": {
      "text/html": [
       "<table><tbody><tr><th>Magnitude</th><td style='text-align:left;'><pre>[1.0 0.0 -1.0]</pre></td></tr><tr><th>Units</th><td style='text-align:left;'>elementary_charge</td></tr></tbody></table>"
      ],
      "text/latex": [
       "$\\begin{pmatrix} &  & \\end{pmatrix}\\ \\mathrm{elementary\\_charge}$"
      ],
      "text/plain": [
       "array([ 1.,  0., -1.]) <Unit('elementary_charge')>"
      ]
     },
     "execution_count": 11,
     "metadata": {},
     "output_type": "execute_result"
    }
   ],
   "source": [
    "msm.physchem.get_charge(molecular_system_charged, element='group')"
   ]
  },
  {
   "cell_type": "markdown",
   "metadata": {},
   "source": [
    "We can neutralize the terminals of the peptide adding the N-terminal acetyl cap and the C-terminal N-methyl amide capping group:"
   ]
  },
  {
   "cell_type": "code",
   "execution_count": 12,
   "metadata": {},
   "outputs": [],
   "source": [
    "molecular_system_uncharged = msm.build.add_missing_terminal_cappings(molecular_system, N_terminal='ACE', C_terminal='NME')"
   ]
  },
  {
   "cell_type": "code",
   "execution_count": 13,
   "metadata": {},
   "outputs": [
    {
     "data": {
      "text/html": [
       "<style type=\"text/css\">\n",
       "</style>\n",
       "<table id=\"T_7646f\">\n",
       "  <thead>\n",
       "    <tr>\n",
       "      <th id=\"T_7646f_level0_col0\" class=\"col_heading level0 col0\" >index</th>\n",
       "      <th id=\"T_7646f_level0_col1\" class=\"col_heading level0 col1\" >id</th>\n",
       "      <th id=\"T_7646f_level0_col2\" class=\"col_heading level0 col2\" >name</th>\n",
       "      <th id=\"T_7646f_level0_col3\" class=\"col_heading level0 col3\" >type</th>\n",
       "      <th id=\"T_7646f_level0_col4\" class=\"col_heading level0 col4\" >n atoms</th>\n",
       "      <th id=\"T_7646f_level0_col5\" class=\"col_heading level0 col5\" >component index</th>\n",
       "      <th id=\"T_7646f_level0_col6\" class=\"col_heading level0 col6\" >chain index</th>\n",
       "      <th id=\"T_7646f_level0_col7\" class=\"col_heading level0 col7\" >molecule index</th>\n",
       "      <th id=\"T_7646f_level0_col8\" class=\"col_heading level0 col8\" >molecule type</th>\n",
       "      <th id=\"T_7646f_level0_col9\" class=\"col_heading level0 col9\" >entity index</th>\n",
       "      <th id=\"T_7646f_level0_col10\" class=\"col_heading level0 col10\" >entity name</th>\n",
       "    </tr>\n",
       "  </thead>\n",
       "  <tbody>\n",
       "    <tr>\n",
       "      <td id=\"T_7646f_row0_col0\" class=\"data row0 col0\" >0</td>\n",
       "      <td id=\"T_7646f_row0_col1\" class=\"data row0 col1\" >0</td>\n",
       "      <td id=\"T_7646f_row0_col2\" class=\"data row0 col2\" >ACE</td>\n",
       "      <td id=\"T_7646f_row0_col3\" class=\"data row0 col3\" >terminal capping</td>\n",
       "      <td id=\"T_7646f_row0_col4\" class=\"data row0 col4\" >6</td>\n",
       "      <td id=\"T_7646f_row0_col5\" class=\"data row0 col5\" >0</td>\n",
       "      <td id=\"T_7646f_row0_col6\" class=\"data row0 col6\" >0</td>\n",
       "      <td id=\"T_7646f_row0_col7\" class=\"data row0 col7\" >0</td>\n",
       "      <td id=\"T_7646f_row0_col8\" class=\"data row0 col8\" >peptide</td>\n",
       "      <td id=\"T_7646f_row0_col9\" class=\"data row0 col9\" >0</td>\n",
       "      <td id=\"T_7646f_row0_col10\" class=\"data row0 col10\" >peptide 0</td>\n",
       "    </tr>\n",
       "    <tr>\n",
       "      <td id=\"T_7646f_row1_col0\" class=\"data row1 col0\" >1</td>\n",
       "      <td id=\"T_7646f_row1_col1\" class=\"data row1 col1\" >1</td>\n",
       "      <td id=\"T_7646f_row1_col2\" class=\"data row1 col2\" >ALA</td>\n",
       "      <td id=\"T_7646f_row1_col3\" class=\"data row1 col3\" >amino acid</td>\n",
       "      <td id=\"T_7646f_row1_col4\" class=\"data row1 col4\" >10</td>\n",
       "      <td id=\"T_7646f_row1_col5\" class=\"data row1 col5\" >0</td>\n",
       "      <td id=\"T_7646f_row1_col6\" class=\"data row1 col6\" >0</td>\n",
       "      <td id=\"T_7646f_row1_col7\" class=\"data row1 col7\" >0</td>\n",
       "      <td id=\"T_7646f_row1_col8\" class=\"data row1 col8\" >peptide</td>\n",
       "      <td id=\"T_7646f_row1_col9\" class=\"data row1 col9\" >0</td>\n",
       "      <td id=\"T_7646f_row1_col10\" class=\"data row1 col10\" >peptide 0</td>\n",
       "    </tr>\n",
       "    <tr>\n",
       "      <td id=\"T_7646f_row2_col0\" class=\"data row2 col0\" >2</td>\n",
       "      <td id=\"T_7646f_row2_col1\" class=\"data row2 col1\" >1</td>\n",
       "      <td id=\"T_7646f_row2_col2\" class=\"data row2 col2\" >NME</td>\n",
       "      <td id=\"T_7646f_row2_col3\" class=\"data row2 col3\" >terminal capping</td>\n",
       "      <td id=\"T_7646f_row2_col4\" class=\"data row2 col4\" >6</td>\n",
       "      <td id=\"T_7646f_row2_col5\" class=\"data row2 col5\" >0</td>\n",
       "      <td id=\"T_7646f_row2_col6\" class=\"data row2 col6\" >0</td>\n",
       "      <td id=\"T_7646f_row2_col7\" class=\"data row2 col7\" >0</td>\n",
       "      <td id=\"T_7646f_row2_col8\" class=\"data row2 col8\" >peptide</td>\n",
       "      <td id=\"T_7646f_row2_col9\" class=\"data row2 col9\" >0</td>\n",
       "      <td id=\"T_7646f_row2_col10\" class=\"data row2 col10\" >peptide 0</td>\n",
       "    </tr>\n",
       "    <tr>\n",
       "      <td id=\"T_7646f_row3_col0\" class=\"data row3 col0\" >3</td>\n",
       "      <td id=\"T_7646f_row3_col1\" class=\"data row3 col1\" >2</td>\n",
       "      <td id=\"T_7646f_row3_col2\" class=\"data row3 col2\" >VAL</td>\n",
       "      <td id=\"T_7646f_row3_col3\" class=\"data row3 col3\" >amino acid</td>\n",
       "      <td id=\"T_7646f_row3_col4\" class=\"data row3 col4\" >16</td>\n",
       "      <td id=\"T_7646f_row3_col5\" class=\"data row3 col5\" >0</td>\n",
       "      <td id=\"T_7646f_row3_col6\" class=\"data row3 col6\" >0</td>\n",
       "      <td id=\"T_7646f_row3_col7\" class=\"data row3 col7\" >0</td>\n",
       "      <td id=\"T_7646f_row3_col8\" class=\"data row3 col8\" >peptide</td>\n",
       "      <td id=\"T_7646f_row3_col9\" class=\"data row3 col9\" >0</td>\n",
       "      <td id=\"T_7646f_row3_col10\" class=\"data row3 col10\" >peptide 0</td>\n",
       "    </tr>\n",
       "    <tr>\n",
       "      <td id=\"T_7646f_row4_col0\" class=\"data row4 col0\" >4</td>\n",
       "      <td id=\"T_7646f_row4_col1\" class=\"data row4 col1\" >3</td>\n",
       "      <td id=\"T_7646f_row4_col2\" class=\"data row4 col2\" >PRO</td>\n",
       "      <td id=\"T_7646f_row4_col3\" class=\"data row4 col3\" >amino acid</td>\n",
       "      <td id=\"T_7646f_row4_col4\" class=\"data row4 col4\" >15</td>\n",
       "      <td id=\"T_7646f_row4_col5\" class=\"data row4 col5\" >0</td>\n",
       "      <td id=\"T_7646f_row4_col6\" class=\"data row4 col6\" >0</td>\n",
       "      <td id=\"T_7646f_row4_col7\" class=\"data row4 col7\" >0</td>\n",
       "      <td id=\"T_7646f_row4_col8\" class=\"data row4 col8\" >peptide</td>\n",
       "      <td id=\"T_7646f_row4_col9\" class=\"data row4 col9\" >0</td>\n",
       "      <td id=\"T_7646f_row4_col10\" class=\"data row4 col10\" >peptide 0</td>\n",
       "    </tr>\n",
       "  </tbody>\n",
       "</table>\n"
      ],
      "text/plain": [
       "<pandas.io.formats.style.Styler at 0x7fce1b0e9510>"
      ]
     },
     "execution_count": 13,
     "metadata": {},
     "output_type": "execute_result"
    }
   ],
   "source": [
    "msm.info(molecular_system_uncharged, element='group')"
   ]
  },
  {
   "cell_type": "markdown",
   "metadata": {},
   "source": [
    "And we can check the group charges of this new peptide:"
   ]
  },
  {
   "cell_type": "code",
   "execution_count": 14,
   "metadata": {},
   "outputs": [
    {
     "ename": "ValueError",
     "evalue": "No template found for residue 3 (NME).  The set of atoms matches NME, but the bonds are different.  For more information, see https://github.com/openmm/openmm/wiki/Frequently-Asked-Questions#template",
     "output_type": "error",
     "traceback": [
      "\u001b[0;31m---------------------------------------------------------------------------\u001b[0m",
      "\u001b[0;31mValueError\u001b[0m                                Traceback (most recent call last)",
      "Cell \u001b[0;32mIn[14], line 1\u001b[0m\n\u001b[0;32m----> 1\u001b[0m \u001b[43mmsm\u001b[49m\u001b[38;5;241;43m.\u001b[39;49m\u001b[43mphyschem\u001b[49m\u001b[38;5;241;43m.\u001b[39;49m\u001b[43mget_charge\u001b[49m\u001b[43m(\u001b[49m\u001b[43mmolecular_system_uncharged\u001b[49m\u001b[43m,\u001b[49m\u001b[43m \u001b[49m\u001b[43melement\u001b[49m\u001b[38;5;241;43m=\u001b[39;49m\u001b[38;5;124;43m'\u001b[39;49m\u001b[38;5;124;43mgroup\u001b[39;49m\u001b[38;5;124;43m'\u001b[39;49m\u001b[43m)\u001b[49m\n",
      "File \u001b[0;32m~/repos@uibcdf/MolSysMT/molsysmt/_private/digestion/digest.py:122\u001b[0m, in \u001b[0;36mdigest.<locals>.digestor.<locals>.wrapper\u001b[0;34m(*args, **kwargs)\u001b[0m\n\u001b[1;32m    120\u001b[0m     \u001b[38;5;28;01mreturn\u001b[39;00m func(all_args[\u001b[38;5;124m'\u001b[39m\u001b[38;5;124mself\u001b[39m\u001b[38;5;124m'\u001b[39m], \u001b[38;5;241m*\u001b[39m\u001b[38;5;241m*\u001b[39mfinal_args)\n\u001b[1;32m    121\u001b[0m \u001b[38;5;28;01melse\u001b[39;00m:\n\u001b[0;32m--> 122\u001b[0m     \u001b[38;5;28;01mreturn\u001b[39;00m \u001b[43mfunc\u001b[49m\u001b[43m(\u001b[49m\u001b[38;5;241;43m*\u001b[39;49m\u001b[38;5;241;43m*\u001b[39;49m\u001b[43mfinal_args\u001b[49m\u001b[43m)\u001b[49m\n",
      "File \u001b[0;32m~/repos@uibcdf/MolSysMT/molsysmt/physchem/get_charge.py:59\u001b[0m, in \u001b[0;36mget_charge\u001b[0;34m(molecular_system, element, selection, definition, engine, syntax, skip_digestion)\u001b[0m\n\u001b[1;32m     55\u001b[0m \u001b[38;5;28;01mif\u001b[39;00m engine \u001b[38;5;241m==\u001b[39m \u001b[38;5;124m'\u001b[39m\u001b[38;5;124mOpenMM\u001b[39m\u001b[38;5;124m'\u001b[39m:\n\u001b[1;32m     57\u001b[0m     \u001b[38;5;28;01mfrom\u001b[39;00m \u001b[38;5;21;01mopenmm\u001b[39;00m \u001b[38;5;28;01mimport\u001b[39;00m NonbondedForce\n\u001b[0;32m---> 59\u001b[0m     openmm_system \u001b[38;5;241m=\u001b[39m \u001b[43mconvert\u001b[49m\u001b[43m(\u001b[49m\u001b[43mmolecular_system\u001b[49m\u001b[43m,\u001b[49m\u001b[43m \u001b[49m\u001b[43mto_form\u001b[49m\u001b[38;5;241;43m=\u001b[39;49m\u001b[38;5;124;43m'\u001b[39;49m\u001b[38;5;124;43mopenmm.System\u001b[39;49m\u001b[38;5;124;43m'\u001b[39;49m\u001b[43m)\u001b[49m\n\u001b[1;32m     61\u001b[0m     output \u001b[38;5;241m=\u001b[39m []\n\u001b[1;32m     63\u001b[0m     \u001b[38;5;28;01mif\u001b[39;00m element\u001b[38;5;241m==\u001b[39m\u001b[38;5;124m'\u001b[39m\u001b[38;5;124matom\u001b[39m\u001b[38;5;124m'\u001b[39m:\n",
      "File \u001b[0;32m~/repos@uibcdf/MolSysMT/molsysmt/_private/digestion/digest.py:122\u001b[0m, in \u001b[0;36mdigest.<locals>.digestor.<locals>.wrapper\u001b[0;34m(*args, **kwargs)\u001b[0m\n\u001b[1;32m    120\u001b[0m     \u001b[38;5;28;01mreturn\u001b[39;00m func(all_args[\u001b[38;5;124m'\u001b[39m\u001b[38;5;124mself\u001b[39m\u001b[38;5;124m'\u001b[39m], \u001b[38;5;241m*\u001b[39m\u001b[38;5;241m*\u001b[39mfinal_args)\n\u001b[1;32m    121\u001b[0m \u001b[38;5;28;01melse\u001b[39;00m:\n\u001b[0;32m--> 122\u001b[0m     \u001b[38;5;28;01mreturn\u001b[39;00m \u001b[43mfunc\u001b[49m\u001b[43m(\u001b[49m\u001b[38;5;241;43m*\u001b[39;49m\u001b[38;5;241;43m*\u001b[39;49m\u001b[43mfinal_args\u001b[49m\u001b[43m)\u001b[49m\n",
      "File \u001b[0;32m~/repos@uibcdf/MolSysMT/molsysmt/basic/convert.py:530\u001b[0m, in \u001b[0;36mconvert\u001b[0;34m(molecular_system, to_form, selection, structure_indices, syntax, verbose, skip_digestion, **kwargs)\u001b[0m\n\u001b[1;32m    528\u001b[0m \u001b[38;5;66;03m# If one to one\u001b[39;00m\n\u001b[1;32m    529\u001b[0m \u001b[38;5;28;01mif\u001b[39;00m \u001b[38;5;129;01mnot\u001b[39;00m \u001b[38;5;28misinstance\u001b[39m(from_form, (\u001b[38;5;28mlist\u001b[39m, \u001b[38;5;28mtuple\u001b[39m)):\n\u001b[0;32m--> 530\u001b[0m     output \u001b[38;5;241m=\u001b[39m \u001b[43m_convert_one_to_one\u001b[49m\u001b[43m(\u001b[49m\u001b[43mmolecular_system\u001b[49m\u001b[43m,\u001b[49m\u001b[43m \u001b[49m\u001b[43mfrom_form\u001b[49m\u001b[43m,\u001b[49m\u001b[43m \u001b[49m\u001b[43mto_form\u001b[49m\u001b[38;5;241;43m=\u001b[39;49m\u001b[43mto_form\u001b[49m\u001b[43m,\u001b[49m\u001b[43m \u001b[49m\u001b[43mselection\u001b[49m\u001b[38;5;241;43m=\u001b[39;49m\u001b[43mselection\u001b[49m\u001b[43m,\u001b[49m\u001b[43m \u001b[49m\u001b[43mstructure_indices\u001b[49m\u001b[38;5;241;43m=\u001b[39;49m\u001b[43mstructure_indices\u001b[49m\u001b[43m,\u001b[49m\n\u001b[1;32m    531\u001b[0m \u001b[43m            \u001b[49m\u001b[43msyntax\u001b[49m\u001b[38;5;241;43m=\u001b[39;49m\u001b[43msyntax\u001b[49m\u001b[43m,\u001b[49m\u001b[43m \u001b[49m\u001b[43mverbose\u001b[49m\u001b[38;5;241;43m=\u001b[39;49m\u001b[43mverbose\u001b[49m\u001b[43m,\u001b[49m\u001b[43m \u001b[49m\u001b[43mskip_digestion\u001b[49m\u001b[38;5;241;43m=\u001b[39;49m\u001b[38;5;28;43;01mTrue\u001b[39;49;00m\u001b[43m,\u001b[49m\u001b[43m \u001b[49m\u001b[38;5;241;43m*\u001b[39;49m\u001b[38;5;241;43m*\u001b[39;49m\u001b[43mkwargs\u001b[49m\u001b[43m)\u001b[49m\n\u001b[1;32m    533\u001b[0m \u001b[38;5;66;03m# If multiple to one\u001b[39;00m\n\u001b[1;32m    534\u001b[0m \n\u001b[1;32m    535\u001b[0m \u001b[38;5;28;01melse\u001b[39;00m:\n\u001b[1;32m    536\u001b[0m \n\u001b[1;32m    537\u001b[0m     \u001b[38;5;66;03m# conversions in private shortcuts\u001b[39;00m\n\u001b[1;32m    538\u001b[0m     \u001b[38;5;28;01mif\u001b[39;00m \u001b[38;5;28mtuple\u001b[39m(\u001b[38;5;28msorted\u001b[39m(from_form)) \u001b[38;5;129;01min\u001b[39;00m _multiple_conversion_shortcuts:\n",
      "File \u001b[0;32m~/repos@uibcdf/MolSysMT/molsysmt/basic/convert.py:87\u001b[0m, in \u001b[0;36m_convert_one_to_one\u001b[0;34m(molecular_system, from_form, to_form, selection, structure_indices, syntax, verbose, **kwargs)\u001b[0m\n\u001b[1;32m     84\u001b[0m         \u001b[38;5;28;01mif\u001b[39;00m \u001b[38;5;28mlen\u001b[39m(missing_arguments)\u001b[38;5;241m>\u001b[39m\u001b[38;5;241m0\u001b[39m:\n\u001b[1;32m     85\u001b[0m             \u001b[38;5;28;01mraise\u001b[39;00m NotCompatibleConversionError(from_form, to_form, missing_arguments)\n\u001b[0;32m---> 87\u001b[0m     output \u001b[38;5;241m=\u001b[39m \u001b[43mfunction\u001b[49m\u001b[43m(\u001b[49m\u001b[43mmolecular_system\u001b[49m\u001b[43m,\u001b[49m\u001b[43m \u001b[49m\u001b[38;5;241;43m*\u001b[39;49m\u001b[38;5;241;43m*\u001b[39;49m\u001b[43mconversion_arguments\u001b[49m\u001b[43m,\u001b[49m\u001b[43m \u001b[49m\u001b[38;5;241;43m*\u001b[39;49m\u001b[38;5;241;43m*\u001b[39;49m\u001b[43mkwargs\u001b[49m\u001b[43m)\u001b[49m\n\u001b[1;32m     89\u001b[0m \u001b[38;5;28;01melif\u001b[39;00m (\u001b[38;5;124m'\u001b[39m\u001b[38;5;124mmolsysmt.MolSys\u001b[39m\u001b[38;5;124m'\u001b[39m \u001b[38;5;129;01min\u001b[39;00m _dict_modules[from_form]\u001b[38;5;241m.\u001b[39m_convert_to) \u001b[38;5;129;01mand\u001b[39;00m (to_form \u001b[38;5;129;01min\u001b[39;00m _dict_modules[\u001b[38;5;124m'\u001b[39m\u001b[38;5;124mmolsysmt.MolSys\u001b[39m\u001b[38;5;124m'\u001b[39m]\u001b[38;5;241m.\u001b[39m_convert_to):\n\u001b[1;32m     91\u001b[0m     output \u001b[38;5;241m=\u001b[39m _convert_one_to_one(molecular_system, from_form, to_form\u001b[38;5;241m=\u001b[39m\u001b[38;5;124m'\u001b[39m\u001b[38;5;124mmolsysmt.MolSys\u001b[39m\u001b[38;5;124m'\u001b[39m, selection\u001b[38;5;241m=\u001b[39mselection,\n\u001b[1;32m     92\u001b[0m             structure_indices\u001b[38;5;241m=\u001b[39mstructure_indices, syntax\u001b[38;5;241m=\u001b[39msyntax, \u001b[38;5;241m*\u001b[39m\u001b[38;5;241m*\u001b[39mkwargs)\n",
      "File \u001b[0;32m~/repos@uibcdf/MolSysMT/molsysmt/_private/digestion/digest.py:52\u001b[0m, in \u001b[0;36mdigest.<locals>.digestor.<locals>.wrapper\u001b[0;34m(*args, **kwargs)\u001b[0m\n\u001b[1;32m     48\u001b[0m \u001b[38;5;129m@functools\u001b[39m\u001b[38;5;241m.\u001b[39mwraps(func)\n\u001b[1;32m     49\u001b[0m \u001b[38;5;28;01mdef\u001b[39;00m \u001b[38;5;21mwrapper\u001b[39m(\u001b[38;5;241m*\u001b[39margs, \u001b[38;5;241m*\u001b[39m\u001b[38;5;241m*\u001b[39mkwargs):\n\u001b[1;32m     51\u001b[0m     \u001b[38;5;28;01mif\u001b[39;00m kwargs\u001b[38;5;241m.\u001b[39mget(\u001b[38;5;124m'\u001b[39m\u001b[38;5;124mskip_digestion\u001b[39m\u001b[38;5;124m'\u001b[39m, \u001b[38;5;28;01mFalse\u001b[39;00m):\n\u001b[0;32m---> 52\u001b[0m         \u001b[38;5;28;01mreturn\u001b[39;00m \u001b[43mfunc\u001b[49m\u001b[43m(\u001b[49m\u001b[38;5;241;43m*\u001b[39;49m\u001b[43margs\u001b[49m\u001b[43m,\u001b[49m\u001b[43m \u001b[49m\u001b[38;5;241;43m*\u001b[39;49m\u001b[38;5;241;43m*\u001b[39;49m\u001b[43mkwargs\u001b[49m\u001b[43m)\u001b[49m\n\u001b[1;32m     54\u001b[0m     \u001b[38;5;66;03m# Define caller\u001b[39;00m\n\u001b[1;32m     56\u001b[0m     caller \u001b[38;5;241m=\u001b[39m func\u001b[38;5;241m.\u001b[39m\u001b[38;5;18m__module__\u001b[39m\u001b[38;5;241m+\u001b[39m\u001b[38;5;124m'\u001b[39m\u001b[38;5;124m.\u001b[39m\u001b[38;5;124m'\u001b[39m\u001b[38;5;241m+\u001b[39mfunc\u001b[38;5;241m.\u001b[39m\u001b[38;5;18m__name__\u001b[39m\n",
      "File \u001b[0;32m~/repos@uibcdf/MolSysMT/molsysmt/form/molsysmt_MolSys/to_openmm_System.py:14\u001b[0m, in \u001b[0;36mto_openmm_System\u001b[0;34m(item, atom_indices, structure_indices, forcefield, water_model, implicit_solvent, non_bonded_method, constraints, switch_distance, dispersion_correction, ewald_error_tolerance, skip_digestion)\u001b[0m\n\u001b[1;32m     10\u001b[0m \u001b[38;5;28;01mfrom\u001b[39;00m \u001b[38;5;21;01m.\u001b[39;00m\u001b[38;5;21;01m.\u001b[39;00m\u001b[38;5;21;01mopenmm_Topology\u001b[39;00m \u001b[38;5;28;01mimport\u001b[39;00m to_openmm_System \u001b[38;5;28;01mas\u001b[39;00m openmm_Topology_to_openmm_System\n\u001b[1;32m     12\u001b[0m tmp_item \u001b[38;5;241m=\u001b[39m to_openmm_Topology(item, atom_indices\u001b[38;5;241m=\u001b[39matom_indices, structure_indices\u001b[38;5;241m=\u001b[39mstructure_indices, skip_digestion\u001b[38;5;241m=\u001b[39m\u001b[38;5;28;01mTrue\u001b[39;00m)\n\u001b[0;32m---> 14\u001b[0m tmp_item \u001b[38;5;241m=\u001b[39m \u001b[43mopenmm_Topology_to_openmm_System\u001b[49m\u001b[43m(\u001b[49m\u001b[43mtmp_item\u001b[49m\u001b[43m,\u001b[49m\u001b[43m \u001b[49m\u001b[43mforcefield\u001b[49m\u001b[38;5;241;43m=\u001b[39;49m\u001b[43mforcefield\u001b[49m\u001b[43m,\u001b[49m\n\u001b[1;32m     15\u001b[0m \u001b[43m        \u001b[49m\u001b[43mwater_model\u001b[49m\u001b[38;5;241;43m=\u001b[39;49m\u001b[43mwater_model\u001b[49m\u001b[43m,\u001b[49m\u001b[43m \u001b[49m\u001b[43mimplicit_solvent\u001b[49m\u001b[38;5;241;43m=\u001b[39;49m\u001b[43mimplicit_solvent\u001b[49m\u001b[43m,\u001b[49m\n\u001b[1;32m     16\u001b[0m \u001b[43m        \u001b[49m\u001b[43mnon_bonded_method\u001b[49m\u001b[38;5;241;43m=\u001b[39;49m\u001b[43mnon_bonded_method\u001b[49m\u001b[43m,\u001b[49m\u001b[43m \u001b[49m\u001b[43mconstraints\u001b[49m\u001b[38;5;241;43m=\u001b[39;49m\u001b[43mconstraints\u001b[49m\u001b[43m,\u001b[49m\n\u001b[1;32m     17\u001b[0m \u001b[43m        \u001b[49m\u001b[43mswitch_distance\u001b[49m\u001b[38;5;241;43m=\u001b[39;49m\u001b[43mswitch_distance\u001b[49m\u001b[43m,\u001b[49m\u001b[43m \u001b[49m\u001b[43mdispersion_correction\u001b[49m\u001b[38;5;241;43m=\u001b[39;49m\u001b[43mdispersion_correction\u001b[49m\u001b[43m,\u001b[49m\n\u001b[1;32m     18\u001b[0m \u001b[43m        \u001b[49m\u001b[43mewald_error_tolerance\u001b[49m\u001b[38;5;241;43m=\u001b[39;49m\u001b[43mewald_error_tolerance\u001b[49m\u001b[43m,\u001b[49m\u001b[43m \u001b[49m\u001b[43mskip_digestion\u001b[49m\u001b[38;5;241;43m=\u001b[39;49m\u001b[38;5;28;43;01mTrue\u001b[39;49;00m\u001b[43m)\u001b[49m\n\u001b[1;32m     20\u001b[0m \u001b[38;5;28;01mreturn\u001b[39;00m tmp_item\n",
      "File \u001b[0;32m~/repos@uibcdf/MolSysMT/molsysmt/_private/digestion/digest.py:52\u001b[0m, in \u001b[0;36mdigest.<locals>.digestor.<locals>.wrapper\u001b[0;34m(*args, **kwargs)\u001b[0m\n\u001b[1;32m     48\u001b[0m \u001b[38;5;129m@functools\u001b[39m\u001b[38;5;241m.\u001b[39mwraps(func)\n\u001b[1;32m     49\u001b[0m \u001b[38;5;28;01mdef\u001b[39;00m \u001b[38;5;21mwrapper\u001b[39m(\u001b[38;5;241m*\u001b[39margs, \u001b[38;5;241m*\u001b[39m\u001b[38;5;241m*\u001b[39mkwargs):\n\u001b[1;32m     51\u001b[0m     \u001b[38;5;28;01mif\u001b[39;00m kwargs\u001b[38;5;241m.\u001b[39mget(\u001b[38;5;124m'\u001b[39m\u001b[38;5;124mskip_digestion\u001b[39m\u001b[38;5;124m'\u001b[39m, \u001b[38;5;28;01mFalse\u001b[39;00m):\n\u001b[0;32m---> 52\u001b[0m         \u001b[38;5;28;01mreturn\u001b[39;00m \u001b[43mfunc\u001b[49m\u001b[43m(\u001b[49m\u001b[38;5;241;43m*\u001b[39;49m\u001b[43margs\u001b[49m\u001b[43m,\u001b[49m\u001b[43m \u001b[49m\u001b[38;5;241;43m*\u001b[39;49m\u001b[38;5;241;43m*\u001b[39;49m\u001b[43mkwargs\u001b[49m\u001b[43m)\u001b[49m\n\u001b[1;32m     54\u001b[0m     \u001b[38;5;66;03m# Define caller\u001b[39;00m\n\u001b[1;32m     56\u001b[0m     caller \u001b[38;5;241m=\u001b[39m func\u001b[38;5;241m.\u001b[39m\u001b[38;5;18m__module__\u001b[39m\u001b[38;5;241m+\u001b[39m\u001b[38;5;124m'\u001b[39m\u001b[38;5;124m.\u001b[39m\u001b[38;5;124m'\u001b[39m\u001b[38;5;241m+\u001b[39mfunc\u001b[38;5;241m.\u001b[39m\u001b[38;5;18m__name__\u001b[39m\n",
      "File \u001b[0;32m~/repos@uibcdf/MolSysMT/molsysmt/form/openmm_Topology/to_openmm_System.py:23\u001b[0m, in \u001b[0;36mto_openmm_System\u001b[0;34m(item, atom_indices, forcefield, water_model, implicit_solvent, non_bonded_method, constraints, switch_distance, dispersion_correction, ewald_error_tolerance, skip_digestion)\u001b[0m\n\u001b[1;32m     20\u001b[0m \u001b[38;5;28;01mif\u001b[39;00m constraints\u001b[38;5;241m==\u001b[39m\u001b[38;5;124m'\u001b[39m\u001b[38;5;124mhbonds\u001b[39m\u001b[38;5;124m'\u001b[39m:\n\u001b[1;32m     21\u001b[0m     contraints\u001b[38;5;241m=\u001b[39mapp\u001b[38;5;241m.\u001b[39mHBonds\n\u001b[0;32m---> 23\u001b[0m system \u001b[38;5;241m=\u001b[39m \u001b[43mforcefield\u001b[49m\u001b[38;5;241;43m.\u001b[39;49m\u001b[43mcreateSystem\u001b[49m\u001b[43m(\u001b[49m\u001b[43mitem\u001b[49m\u001b[43m,\u001b[49m\u001b[43m \u001b[49m\u001b[43mnonbondedMethod\u001b[49m\u001b[38;5;241;43m=\u001b[39;49m\u001b[43mnon_bonded_method\u001b[49m\u001b[43m,\u001b[49m\u001b[43m \u001b[49m\u001b[43mconstraints\u001b[49m\u001b[38;5;241;43m=\u001b[39;49m\u001b[43mapp\u001b[49m\u001b[38;5;241;43m.\u001b[39;49m\u001b[43mHBonds\u001b[49m\u001b[43m)\u001b[49m\n\u001b[1;32m     25\u001b[0m \u001b[38;5;28;01mif\u001b[39;00m dispersion_correction \u001b[38;5;129;01mor\u001b[39;00m ewald_error_tolerance:\n\u001b[1;32m     26\u001b[0m     forces \u001b[38;5;241m=\u001b[39m {ii\u001b[38;5;241m.\u001b[39m\u001b[38;5;18m__class__\u001b[39m\u001b[38;5;241m.\u001b[39m\u001b[38;5;18m__name__\u001b[39m : ii \u001b[38;5;28;01mfor\u001b[39;00m ii \u001b[38;5;129;01min\u001b[39;00m system\u001b[38;5;241m.\u001b[39mgetForces()}\n",
      "File \u001b[0;32m~/Myopt/miniconda3/envs/MolSysMT@uibcdf_3.10/lib/python3.10/site-packages/openmm/app/forcefield.py:1247\u001b[0m, in \u001b[0;36mForceField.createSystem\u001b[0;34m(self, topology, nonbondedMethod, nonbondedCutoff, constraints, rigidWater, removeCMMotion, hydrogenMass, residueTemplates, ignoreExternalBonds, switchDistance, flexibleConstraints, drudeMass, **args)\u001b[0m\n\u001b[1;32m   1243\u001b[0m rigidResidue \u001b[38;5;241m=\u001b[39m [\u001b[38;5;28;01mFalse\u001b[39;00m]\u001b[38;5;241m*\u001b[39mtopology\u001b[38;5;241m.\u001b[39mgetNumResidues()\n\u001b[1;32m   1245\u001b[0m \u001b[38;5;66;03m# Find the template matching each residue and assign atom types.\u001b[39;00m\n\u001b[0;32m-> 1247\u001b[0m templateForResidue \u001b[38;5;241m=\u001b[39m \u001b[38;5;28;43mself\u001b[39;49m\u001b[38;5;241;43m.\u001b[39;49m\u001b[43m_matchAllResiduesToTemplates\u001b[49m\u001b[43m(\u001b[49m\u001b[43mdata\u001b[49m\u001b[43m,\u001b[49m\u001b[43m \u001b[49m\u001b[43mtopology\u001b[49m\u001b[43m,\u001b[49m\u001b[43m \u001b[49m\u001b[43mresidueTemplates\u001b[49m\u001b[43m,\u001b[49m\u001b[43m \u001b[49m\u001b[43mignoreExternalBonds\u001b[49m\u001b[43m)\u001b[49m\n\u001b[1;32m   1248\u001b[0m \u001b[38;5;28;01mfor\u001b[39;00m res \u001b[38;5;129;01min\u001b[39;00m topology\u001b[38;5;241m.\u001b[39mresidues():\n\u001b[1;32m   1249\u001b[0m     \u001b[38;5;28;01mif\u001b[39;00m res\u001b[38;5;241m.\u001b[39mname \u001b[38;5;241m==\u001b[39m \u001b[38;5;124m'\u001b[39m\u001b[38;5;124mHOH\u001b[39m\u001b[38;5;124m'\u001b[39m:\n\u001b[1;32m   1250\u001b[0m         \u001b[38;5;66;03m# Determine whether this should be a rigid water.\u001b[39;00m\n",
      "File \u001b[0;32m~/Myopt/miniconda3/envs/MolSysMT@uibcdf_3.10/lib/python3.10/site-packages/openmm/app/forcefield.py:1462\u001b[0m, in \u001b[0;36mForceField._matchAllResiduesToTemplates\u001b[0;34m(self, data, topology, residueTemplates, ignoreExternalBonds, ignoreExtraParticles, recordParameters)\u001b[0m\n\u001b[1;32m   1460\u001b[0m                 \u001b[38;5;28;01mbreak\u001b[39;00m\n\u001b[1;32m   1461\u001b[0m \u001b[38;5;28;01mif\u001b[39;00m matches \u001b[38;5;129;01mis\u001b[39;00m \u001b[38;5;28;01mNone\u001b[39;00m:\n\u001b[0;32m-> 1462\u001b[0m     \u001b[38;5;28;01mraise\u001b[39;00m \u001b[38;5;167;01mValueError\u001b[39;00m(\u001b[38;5;124m'\u001b[39m\u001b[38;5;124mNo template found for residue \u001b[39m\u001b[38;5;132;01m%d\u001b[39;00m\u001b[38;5;124m (\u001b[39m\u001b[38;5;132;01m%s\u001b[39;00m\u001b[38;5;124m).  \u001b[39m\u001b[38;5;132;01m%s\u001b[39;00m\u001b[38;5;124m  For more information, see https://github.com/openmm/openmm/wiki/Frequently-Asked-Questions#template\u001b[39m\u001b[38;5;124m'\u001b[39m \u001b[38;5;241m%\u001b[39m (res\u001b[38;5;241m.\u001b[39mindex\u001b[38;5;241m+\u001b[39m\u001b[38;5;241m1\u001b[39m, res\u001b[38;5;241m.\u001b[39mname, _findMatchErrors(\u001b[38;5;28mself\u001b[39m, res)))\n\u001b[1;32m   1463\u001b[0m \u001b[38;5;28;01melse\u001b[39;00m:\n\u001b[1;32m   1464\u001b[0m     \u001b[38;5;28;01mif\u001b[39;00m recordParameters:\n",
      "\u001b[0;31mValueError\u001b[0m: No template found for residue 3 (NME).  The set of atoms matches NME, but the bonds are different.  For more information, see https://github.com/openmm/openmm/wiki/Frequently-Asked-Questions#template"
     ]
    }
   ],
   "source": [
    "msm.physchem.get_charge(molecular_system_uncharged, element='group')"
   ]
  },
  {
   "cell_type": "markdown",
   "metadata": {},
   "source": [
    "```{admonition} See also\n",
    ":class: attention\n",
    "{func}`molsysmt.build.add_missing_terminal_cappings`, {func}`molsysmt.build.build_peptide`\n",
    "```"
   ]
  }
 ],
 "metadata": {
  "kernelspec": {
   "display_name": "Python 3 (ipykernel)",
   "language": "python",
   "name": "python3"
  },
  "language_info": {
   "codemirror_mode": {
    "name": "ipython",
    "version": 3
   },
   "file_extension": ".py",
   "mimetype": "text/x-python",
   "name": "python",
   "nbconvert_exporter": "python",
   "pygments_lexer": "ipython3",
   "version": "3.10.14"
  }
 },
 "nbformat": 4,
 "nbformat_minor": 4
}
