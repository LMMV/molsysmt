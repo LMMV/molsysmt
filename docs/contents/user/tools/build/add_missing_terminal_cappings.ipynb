{
 "cells": [
  {
   "cell_type": "code",
   "execution_count": 1,
   "metadata": {
    "tags": [
     "remove-input"
    ]
   },
   "outputs": [],
   "source": [
    "# This cell is removed with the tag: \"remove-input\"\n",
    "# As such, it will not be shown in documentation\n",
    "\n",
    "import warnings\n",
    "warnings.filterwarnings('ignore')"
   ]
  },
  {
   "cell_type": "markdown",
   "metadata": {},
   "source": [
    "(UserGuide_Tools_Build_AddMissingTerminalCappings)=\n",
    "# Add missing terminal cappings\n",
    "*Adding terminal capppings to peptides and proteins.*\n",
    "\n",
    "The function {func}`molsysmt.build.add_missing_terminal_cappings` adds terminal cappings to the N and/or C terminals of a peptide or protein. The use of this function can be illustrated with this simple case:"
   ]
  },
  {
   "cell_type": "code",
   "execution_count": 2,
   "metadata": {},
   "outputs": [
    {
     "data": {
      "application/vnd.jupyter.widget-view+json": {
       "model_id": "a1953d62d3314147bcfa663230dc02f7",
       "version_major": 2,
       "version_minor": 0
      },
      "text/plain": []
     },
     "metadata": {},
     "output_type": "display_data"
    }
   ],
   "source": [
    "import molsysmt as msm"
   ]
  },
  {
   "cell_type": "code",
   "execution_count": 3,
   "metadata": {},
   "outputs": [],
   "source": [
    "molecular_system = msm.build.build_peptide('AlaValPro', to_form='molsysmt.MolSys')"
   ]
  },
  {
   "cell_type": "code",
   "execution_count": 4,
   "metadata": {},
   "outputs": [
    {
     "data": {
      "text/html": [
       "<style type=\"text/css\">\n",
       "</style>\n",
       "<table id=\"T_69809\">\n",
       "  <thead>\n",
       "    <tr>\n",
       "      <th id=\"T_69809_level0_col0\" class=\"col_heading level0 col0\" >index</th>\n",
       "      <th id=\"T_69809_level0_col1\" class=\"col_heading level0 col1\" >id</th>\n",
       "      <th id=\"T_69809_level0_col2\" class=\"col_heading level0 col2\" >name</th>\n",
       "      <th id=\"T_69809_level0_col3\" class=\"col_heading level0 col3\" >type</th>\n",
       "      <th id=\"T_69809_level0_col4\" class=\"col_heading level0 col4\" >n atoms</th>\n",
       "      <th id=\"T_69809_level0_col5\" class=\"col_heading level0 col5\" >component index</th>\n",
       "      <th id=\"T_69809_level0_col6\" class=\"col_heading level0 col6\" >chain index</th>\n",
       "      <th id=\"T_69809_level0_col7\" class=\"col_heading level0 col7\" >molecule index</th>\n",
       "      <th id=\"T_69809_level0_col8\" class=\"col_heading level0 col8\" >molecule type</th>\n",
       "      <th id=\"T_69809_level0_col9\" class=\"col_heading level0 col9\" >entity index</th>\n",
       "      <th id=\"T_69809_level0_col10\" class=\"col_heading level0 col10\" >entity name</th>\n",
       "    </tr>\n",
       "  </thead>\n",
       "  <tbody>\n",
       "    <tr>\n",
       "      <td id=\"T_69809_row0_col0\" class=\"data row0 col0\" >0</td>\n",
       "      <td id=\"T_69809_row0_col1\" class=\"data row0 col1\" >1</td>\n",
       "      <td id=\"T_69809_row0_col2\" class=\"data row0 col2\" >ALA</td>\n",
       "      <td id=\"T_69809_row0_col3\" class=\"data row0 col3\" >aminoacid</td>\n",
       "      <td id=\"T_69809_row0_col4\" class=\"data row0 col4\" >10</td>\n",
       "      <td id=\"T_69809_row0_col5\" class=\"data row0 col5\" >0</td>\n",
       "      <td id=\"T_69809_row0_col6\" class=\"data row0 col6\" >0</td>\n",
       "      <td id=\"T_69809_row0_col7\" class=\"data row0 col7\" >0</td>\n",
       "      <td id=\"T_69809_row0_col8\" class=\"data row0 col8\" >peptide</td>\n",
       "      <td id=\"T_69809_row0_col9\" class=\"data row0 col9\" >0</td>\n",
       "      <td id=\"T_69809_row0_col10\" class=\"data row0 col10\" >Peptide_0</td>\n",
       "    </tr>\n",
       "    <tr>\n",
       "      <td id=\"T_69809_row1_col0\" class=\"data row1 col0\" >1</td>\n",
       "      <td id=\"T_69809_row1_col1\" class=\"data row1 col1\" >2</td>\n",
       "      <td id=\"T_69809_row1_col2\" class=\"data row1 col2\" >VAL</td>\n",
       "      <td id=\"T_69809_row1_col3\" class=\"data row1 col3\" >aminoacid</td>\n",
       "      <td id=\"T_69809_row1_col4\" class=\"data row1 col4\" >16</td>\n",
       "      <td id=\"T_69809_row1_col5\" class=\"data row1 col5\" >0</td>\n",
       "      <td id=\"T_69809_row1_col6\" class=\"data row1 col6\" >0</td>\n",
       "      <td id=\"T_69809_row1_col7\" class=\"data row1 col7\" >0</td>\n",
       "      <td id=\"T_69809_row1_col8\" class=\"data row1 col8\" >peptide</td>\n",
       "      <td id=\"T_69809_row1_col9\" class=\"data row1 col9\" >0</td>\n",
       "      <td id=\"T_69809_row1_col10\" class=\"data row1 col10\" >Peptide_0</td>\n",
       "    </tr>\n",
       "    <tr>\n",
       "      <td id=\"T_69809_row2_col0\" class=\"data row2 col0\" >2</td>\n",
       "      <td id=\"T_69809_row2_col1\" class=\"data row2 col1\" >3</td>\n",
       "      <td id=\"T_69809_row2_col2\" class=\"data row2 col2\" >PRO</td>\n",
       "      <td id=\"T_69809_row2_col3\" class=\"data row2 col3\" >aminoacid</td>\n",
       "      <td id=\"T_69809_row2_col4\" class=\"data row2 col4\" >14</td>\n",
       "      <td id=\"T_69809_row2_col5\" class=\"data row2 col5\" >0</td>\n",
       "      <td id=\"T_69809_row2_col6\" class=\"data row2 col6\" >0</td>\n",
       "      <td id=\"T_69809_row2_col7\" class=\"data row2 col7\" >0</td>\n",
       "      <td id=\"T_69809_row2_col8\" class=\"data row2 col8\" >peptide</td>\n",
       "      <td id=\"T_69809_row2_col9\" class=\"data row2 col9\" >0</td>\n",
       "      <td id=\"T_69809_row2_col10\" class=\"data row2 col10\" >Peptide_0</td>\n",
       "    </tr>\n",
       "  </tbody>\n",
       "</table>\n"
      ],
      "text/plain": [
       "<pandas.io.formats.style.Styler at 0x7fea6854d8b0>"
      ]
     },
     "execution_count": 4,
     "metadata": {},
     "output_type": "execute_result"
    }
   ],
   "source": [
    "msm.info(molecular_system, element='group')"
   ]
  },
  {
   "cell_type": "markdown",
   "metadata": {},
   "source": [
    "We have an uncapped peptide, let's add the required atoms to close the terminal aminoacids:"
   ]
  },
  {
   "cell_type": "code",
   "execution_count": 5,
   "metadata": {},
   "outputs": [
    {
     "name": "stderr",
     "output_type": "stream",
     "text": [
      "Warning: importing 'simtk.openmm' is deprecated.  Import 'openmm' instead.\n"
     ]
    }
   ],
   "source": [
    "molecular_system_charged = msm.build.add_missing_terminal_cappings(molecular_system, N_terminal=None, C_terminal=None)"
   ]
  },
  {
   "cell_type": "code",
   "execution_count": 6,
   "metadata": {},
   "outputs": [
    {
     "data": {
      "text/html": [
       "<style type=\"text/css\">\n",
       "</style>\n",
       "<table id=\"T_066cd\">\n",
       "  <thead>\n",
       "    <tr>\n",
       "      <th id=\"T_066cd_level0_col0\" class=\"col_heading level0 col0\" >index</th>\n",
       "      <th id=\"T_066cd_level0_col1\" class=\"col_heading level0 col1\" >id</th>\n",
       "      <th id=\"T_066cd_level0_col2\" class=\"col_heading level0 col2\" >name</th>\n",
       "      <th id=\"T_066cd_level0_col3\" class=\"col_heading level0 col3\" >type</th>\n",
       "      <th id=\"T_066cd_level0_col4\" class=\"col_heading level0 col4\" >n atoms</th>\n",
       "      <th id=\"T_066cd_level0_col5\" class=\"col_heading level0 col5\" >component index</th>\n",
       "      <th id=\"T_066cd_level0_col6\" class=\"col_heading level0 col6\" >chain index</th>\n",
       "      <th id=\"T_066cd_level0_col7\" class=\"col_heading level0 col7\" >molecule index</th>\n",
       "      <th id=\"T_066cd_level0_col8\" class=\"col_heading level0 col8\" >molecule type</th>\n",
       "      <th id=\"T_066cd_level0_col9\" class=\"col_heading level0 col9\" >entity index</th>\n",
       "      <th id=\"T_066cd_level0_col10\" class=\"col_heading level0 col10\" >entity name</th>\n",
       "    </tr>\n",
       "  </thead>\n",
       "  <tbody>\n",
       "    <tr>\n",
       "      <td id=\"T_066cd_row0_col0\" class=\"data row0 col0\" >0</td>\n",
       "      <td id=\"T_066cd_row0_col1\" class=\"data row0 col1\" >1</td>\n",
       "      <td id=\"T_066cd_row0_col2\" class=\"data row0 col2\" >ALA</td>\n",
       "      <td id=\"T_066cd_row0_col3\" class=\"data row0 col3\" >aminoacid</td>\n",
       "      <td id=\"T_066cd_row0_col4\" class=\"data row0 col4\" >12</td>\n",
       "      <td id=\"T_066cd_row0_col5\" class=\"data row0 col5\" >0</td>\n",
       "      <td id=\"T_066cd_row0_col6\" class=\"data row0 col6\" >0</td>\n",
       "      <td id=\"T_066cd_row0_col7\" class=\"data row0 col7\" >0</td>\n",
       "      <td id=\"T_066cd_row0_col8\" class=\"data row0 col8\" >peptide</td>\n",
       "      <td id=\"T_066cd_row0_col9\" class=\"data row0 col9\" >0</td>\n",
       "      <td id=\"T_066cd_row0_col10\" class=\"data row0 col10\" >Peptide_0</td>\n",
       "    </tr>\n",
       "    <tr>\n",
       "      <td id=\"T_066cd_row1_col0\" class=\"data row1 col0\" >1</td>\n",
       "      <td id=\"T_066cd_row1_col1\" class=\"data row1 col1\" >2</td>\n",
       "      <td id=\"T_066cd_row1_col2\" class=\"data row1 col2\" >VAL</td>\n",
       "      <td id=\"T_066cd_row1_col3\" class=\"data row1 col3\" >aminoacid</td>\n",
       "      <td id=\"T_066cd_row1_col4\" class=\"data row1 col4\" >16</td>\n",
       "      <td id=\"T_066cd_row1_col5\" class=\"data row1 col5\" >0</td>\n",
       "      <td id=\"T_066cd_row1_col6\" class=\"data row1 col6\" >0</td>\n",
       "      <td id=\"T_066cd_row1_col7\" class=\"data row1 col7\" >0</td>\n",
       "      <td id=\"T_066cd_row1_col8\" class=\"data row1 col8\" >peptide</td>\n",
       "      <td id=\"T_066cd_row1_col9\" class=\"data row1 col9\" >0</td>\n",
       "      <td id=\"T_066cd_row1_col10\" class=\"data row1 col10\" >Peptide_0</td>\n",
       "    </tr>\n",
       "    <tr>\n",
       "      <td id=\"T_066cd_row2_col0\" class=\"data row2 col0\" >2</td>\n",
       "      <td id=\"T_066cd_row2_col1\" class=\"data row2 col1\" >3</td>\n",
       "      <td id=\"T_066cd_row2_col2\" class=\"data row2 col2\" >PRO</td>\n",
       "      <td id=\"T_066cd_row2_col3\" class=\"data row2 col3\" >aminoacid</td>\n",
       "      <td id=\"T_066cd_row2_col4\" class=\"data row2 col4\" >15</td>\n",
       "      <td id=\"T_066cd_row2_col5\" class=\"data row2 col5\" >0</td>\n",
       "      <td id=\"T_066cd_row2_col6\" class=\"data row2 col6\" >0</td>\n",
       "      <td id=\"T_066cd_row2_col7\" class=\"data row2 col7\" >0</td>\n",
       "      <td id=\"T_066cd_row2_col8\" class=\"data row2 col8\" >peptide</td>\n",
       "      <td id=\"T_066cd_row2_col9\" class=\"data row2 col9\" >0</td>\n",
       "      <td id=\"T_066cd_row2_col10\" class=\"data row2 col10\" >Peptide_0</td>\n",
       "    </tr>\n",
       "  </tbody>\n",
       "</table>\n"
      ],
      "text/plain": [
       "<pandas.io.formats.style.Styler at 0x7fea66fe3100>"
      ]
     },
     "execution_count": 6,
     "metadata": {},
     "output_type": "execute_result"
    }
   ],
   "source": [
    "msm.info(molecular_system_charged, element='group')"
   ]
  },
  {
   "cell_type": "markdown",
   "metadata": {},
   "source": [
    "This way the peptide is charged:"
   ]
  },
  {
   "cell_type": "code",
   "execution_count": 7,
   "metadata": {},
   "outputs": [],
   "source": [
    "# To be fixed:\n",
    "#msm.physchem.charge([molecular_system_charged, {'forcefield':'AMBER14'}], element='group')"
   ]
  },
  {
   "cell_type": "markdown",
   "metadata": {},
   "source": [
    "We can neutralize the terminals of the peptide adding the N-terminal acetyl cap and the C-terminal N-methyl amide capping group:"
   ]
  },
  {
   "cell_type": "code",
   "execution_count": 8,
   "metadata": {},
   "outputs": [],
   "source": [
    "molecular_system_uncharged = msm.build.add_missing_terminal_cappings(molecular_system, N_terminal='ACE', C_terminal='NME')"
   ]
  },
  {
   "cell_type": "code",
   "execution_count": 9,
   "metadata": {},
   "outputs": [
    {
     "data": {
      "text/html": [
       "<style type=\"text/css\">\n",
       "</style>\n",
       "<table id=\"T_6684c\">\n",
       "  <thead>\n",
       "    <tr>\n",
       "      <th id=\"T_6684c_level0_col0\" class=\"col_heading level0 col0\" >index</th>\n",
       "      <th id=\"T_6684c_level0_col1\" class=\"col_heading level0 col1\" >id</th>\n",
       "      <th id=\"T_6684c_level0_col2\" class=\"col_heading level0 col2\" >name</th>\n",
       "      <th id=\"T_6684c_level0_col3\" class=\"col_heading level0 col3\" >type</th>\n",
       "      <th id=\"T_6684c_level0_col4\" class=\"col_heading level0 col4\" >n atoms</th>\n",
       "      <th id=\"T_6684c_level0_col5\" class=\"col_heading level0 col5\" >component index</th>\n",
       "      <th id=\"T_6684c_level0_col6\" class=\"col_heading level0 col6\" >chain index</th>\n",
       "      <th id=\"T_6684c_level0_col7\" class=\"col_heading level0 col7\" >molecule index</th>\n",
       "      <th id=\"T_6684c_level0_col8\" class=\"col_heading level0 col8\" >molecule type</th>\n",
       "      <th id=\"T_6684c_level0_col9\" class=\"col_heading level0 col9\" >entity index</th>\n",
       "      <th id=\"T_6684c_level0_col10\" class=\"col_heading level0 col10\" >entity name</th>\n",
       "    </tr>\n",
       "  </thead>\n",
       "  <tbody>\n",
       "    <tr>\n",
       "      <td id=\"T_6684c_row0_col0\" class=\"data row0 col0\" >0</td>\n",
       "      <td id=\"T_6684c_row0_col1\" class=\"data row0 col1\" >0</td>\n",
       "      <td id=\"T_6684c_row0_col2\" class=\"data row0 col2\" >ACE</td>\n",
       "      <td id=\"T_6684c_row0_col3\" class=\"data row0 col3\" >terminal capping</td>\n",
       "      <td id=\"T_6684c_row0_col4\" class=\"data row0 col4\" >6</td>\n",
       "      <td id=\"T_6684c_row0_col5\" class=\"data row0 col5\" >0</td>\n",
       "      <td id=\"T_6684c_row0_col6\" class=\"data row0 col6\" >0</td>\n",
       "      <td id=\"T_6684c_row0_col7\" class=\"data row0 col7\" >0</td>\n",
       "      <td id=\"T_6684c_row0_col8\" class=\"data row0 col8\" >peptide</td>\n",
       "      <td id=\"T_6684c_row0_col9\" class=\"data row0 col9\" >0</td>\n",
       "      <td id=\"T_6684c_row0_col10\" class=\"data row0 col10\" >Peptide_0</td>\n",
       "    </tr>\n",
       "    <tr>\n",
       "      <td id=\"T_6684c_row1_col0\" class=\"data row1 col0\" >1</td>\n",
       "      <td id=\"T_6684c_row1_col1\" class=\"data row1 col1\" >1</td>\n",
       "      <td id=\"T_6684c_row1_col2\" class=\"data row1 col2\" >ALA</td>\n",
       "      <td id=\"T_6684c_row1_col3\" class=\"data row1 col3\" >aminoacid</td>\n",
       "      <td id=\"T_6684c_row1_col4\" class=\"data row1 col4\" >10</td>\n",
       "      <td id=\"T_6684c_row1_col5\" class=\"data row1 col5\" >0</td>\n",
       "      <td id=\"T_6684c_row1_col6\" class=\"data row1 col6\" >0</td>\n",
       "      <td id=\"T_6684c_row1_col7\" class=\"data row1 col7\" >0</td>\n",
       "      <td id=\"T_6684c_row1_col8\" class=\"data row1 col8\" >peptide</td>\n",
       "      <td id=\"T_6684c_row1_col9\" class=\"data row1 col9\" >0</td>\n",
       "      <td id=\"T_6684c_row1_col10\" class=\"data row1 col10\" >Peptide_0</td>\n",
       "    </tr>\n",
       "    <tr>\n",
       "      <td id=\"T_6684c_row2_col0\" class=\"data row2 col0\" >2</td>\n",
       "      <td id=\"T_6684c_row2_col1\" class=\"data row2 col1\" >2</td>\n",
       "      <td id=\"T_6684c_row2_col2\" class=\"data row2 col2\" >VAL</td>\n",
       "      <td id=\"T_6684c_row2_col3\" class=\"data row2 col3\" >aminoacid</td>\n",
       "      <td id=\"T_6684c_row2_col4\" class=\"data row2 col4\" >16</td>\n",
       "      <td id=\"T_6684c_row2_col5\" class=\"data row2 col5\" >0</td>\n",
       "      <td id=\"T_6684c_row2_col6\" class=\"data row2 col6\" >0</td>\n",
       "      <td id=\"T_6684c_row2_col7\" class=\"data row2 col7\" >0</td>\n",
       "      <td id=\"T_6684c_row2_col8\" class=\"data row2 col8\" >peptide</td>\n",
       "      <td id=\"T_6684c_row2_col9\" class=\"data row2 col9\" >0</td>\n",
       "      <td id=\"T_6684c_row2_col10\" class=\"data row2 col10\" >Peptide_0</td>\n",
       "    </tr>\n",
       "    <tr>\n",
       "      <td id=\"T_6684c_row3_col0\" class=\"data row3 col0\" >3</td>\n",
       "      <td id=\"T_6684c_row3_col1\" class=\"data row3 col1\" >3</td>\n",
       "      <td id=\"T_6684c_row3_col2\" class=\"data row3 col2\" >PRO</td>\n",
       "      <td id=\"T_6684c_row3_col3\" class=\"data row3 col3\" >aminoacid</td>\n",
       "      <td id=\"T_6684c_row3_col4\" class=\"data row3 col4\" >14</td>\n",
       "      <td id=\"T_6684c_row3_col5\" class=\"data row3 col5\" >0</td>\n",
       "      <td id=\"T_6684c_row3_col6\" class=\"data row3 col6\" >0</td>\n",
       "      <td id=\"T_6684c_row3_col7\" class=\"data row3 col7\" >0</td>\n",
       "      <td id=\"T_6684c_row3_col8\" class=\"data row3 col8\" >peptide</td>\n",
       "      <td id=\"T_6684c_row3_col9\" class=\"data row3 col9\" >0</td>\n",
       "      <td id=\"T_6684c_row3_col10\" class=\"data row3 col10\" >Peptide_0</td>\n",
       "    </tr>\n",
       "    <tr>\n",
       "      <td id=\"T_6684c_row4_col0\" class=\"data row4 col0\" >4</td>\n",
       "      <td id=\"T_6684c_row4_col1\" class=\"data row4 col1\" >4</td>\n",
       "      <td id=\"T_6684c_row4_col2\" class=\"data row4 col2\" >NME</td>\n",
       "      <td id=\"T_6684c_row4_col3\" class=\"data row4 col3\" >terminal capping</td>\n",
       "      <td id=\"T_6684c_row4_col4\" class=\"data row4 col4\" >6</td>\n",
       "      <td id=\"T_6684c_row4_col5\" class=\"data row4 col5\" >0</td>\n",
       "      <td id=\"T_6684c_row4_col6\" class=\"data row4 col6\" >0</td>\n",
       "      <td id=\"T_6684c_row4_col7\" class=\"data row4 col7\" >0</td>\n",
       "      <td id=\"T_6684c_row4_col8\" class=\"data row4 col8\" >peptide</td>\n",
       "      <td id=\"T_6684c_row4_col9\" class=\"data row4 col9\" >0</td>\n",
       "      <td id=\"T_6684c_row4_col10\" class=\"data row4 col10\" >Peptide_0</td>\n",
       "    </tr>\n",
       "  </tbody>\n",
       "</table>\n"
      ],
      "text/plain": [
       "<pandas.io.formats.style.Styler at 0x7fea66e41e50>"
      ]
     },
     "execution_count": 9,
     "metadata": {},
     "output_type": "execute_result"
    }
   ],
   "source": [
    "msm.info(molecular_system_uncharged, element='group')"
   ]
  },
  {
   "cell_type": "markdown",
   "metadata": {},
   "source": [
    "And we can check the group charges of this new peptide:"
   ]
  },
  {
   "cell_type": "code",
   "execution_count": 10,
   "metadata": {},
   "outputs": [],
   "source": [
    "# To be fixed:\n",
    "#msm.physchem.charge([molecular_system_uncharged, {'forcefield':'AMBER14'}], element='group')"
   ]
  },
  {
   "cell_type": "markdown",
   "metadata": {},
   "source": [
    "```{admonition} See also\n",
    ":class: attention\n",
    "{func}`molsysmt.build.add_missing_terminal_cappings`, {func}`molsysmt.build.build_peptide`\n",
    "```"
   ]
  }
 ],
 "metadata": {
  "kernelspec": {
   "display_name": "Python 3 (ipykernel)",
   "language": "python",
   "name": "python3"
  },
  "language_info": {
   "codemirror_mode": {
    "name": "ipython",
    "version": 3
   },
   "file_extension": ".py",
   "mimetype": "text/x-python",
   "name": "python",
   "nbconvert_exporter": "python",
   "pygments_lexer": "ipython3",
   "version": "3.9.13"
  }
 },
 "nbformat": 4,
 "nbformat_minor": 4
}
