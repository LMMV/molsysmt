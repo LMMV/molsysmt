{
 "cells": [
  {
   "cell_type": "code",
   "execution_count": 1,
   "metadata": {
    "execution": {
     "iopub.execute_input": "2025-04-14T05:20:21.467848Z",
     "iopub.status.busy": "2025-04-14T05:20:21.466748Z",
     "iopub.status.idle": "2025-04-14T05:20:21.485961Z",
     "shell.execute_reply": "2025-04-14T05:20:21.483695Z"
    },
    "tags": [
     "remove-input"
    ]
   },
   "outputs": [],
   "source": [
    "# This cell is removed with the tag: \"remove-input\"\n",
    "# As such, it will not be shown in documentation\n",
    "\n",
    "import warnings\n",
    "warnings.filterwarnings('ignore')\n",
    "\n",
    "nglview_static_dir = '../../../../_static/nglview/user/tools/build/build_peptide/'"
   ]
  },
  {
   "cell_type": "markdown",
   "metadata": {
    "editable": true,
    "slideshow": {
     "slide_type": ""
    },
    "tags": []
   },
   "source": [
    "(Tutorial_Build_peptide)=\n",
    "# Build peptide\n",
    "*Building peptides.*\n",
    "\n",
    "Peptides are essential building blocks in molecular modeling. MolSysMT offers a convenient tool to construct them from amino acid sequences. The function {func}`molsysmt.build.build_peptide()` generates an all-atom molecular system with topology and coordinates for a peptide chain, optionally capped and customizable in format.\n",
    "\n",
    ":::{versionadded} 1.0.0\n",
    ":::\n",
    "\n",
    "## How this function works\n",
    "\n",
    "```{admonition} API documentation\n",
    "Follow this link for a detailed description of the input arguments, raised errors, and returned objects of this function:{func}`molsysmt.build.build_peptide()`.\n",
    "```\n",
    "\n",
    "Given a sequence of residues using standard or extended three-letter or single-letter codes, this function constructs the corresponding peptide. Terminal cappings such as `ACE` and `NME` can be included directly in the sequence or added later. The resulting system includes atom coordinates and is returned in a MolSysMT-compatible form, ready for further processing.\n",
    "\n",
    "Let’s see how to generate a peptide from a sequence, obtaining a molecular system with all-atom topology and coordinates:"
   ]
  },
  {
   "cell_type": "code",
   "execution_count": 2,
   "metadata": {
    "execution": {
     "iopub.execute_input": "2025-04-14T05:20:21.493914Z",
     "iopub.status.busy": "2025-04-14T05:20:21.493107Z",
     "iopub.status.idle": "2025-04-14T05:20:29.552095Z",
     "shell.execute_reply": "2025-04-14T05:20:29.551443Z"
    }
   },
   "outputs": [
    {
     "data": {
      "application/vnd.jupyter.widget-view+json": {
       "model_id": "11f76769b20f45e696c962c3c50a5c29",
       "version_major": 2,
       "version_minor": 0
      },
      "text/plain": []
     },
     "metadata": {},
     "output_type": "display_data"
    }
   ],
   "source": [
    "import molsysmt as msm"
   ]
  },
  {
   "cell_type": "code",
   "execution_count": 3,
   "metadata": {
    "execution": {
     "iopub.execute_input": "2025-04-14T05:20:29.554984Z",
     "iopub.status.busy": "2025-04-14T05:20:29.554451Z",
     "iopub.status.idle": "2025-04-14T05:20:30.535965Z",
     "shell.execute_reply": "2025-04-14T05:20:30.534879Z"
    }
   },
   "outputs": [],
   "source": [
    "molsys = msm.build.build_peptide('AceAlaNme')"
   ]
  },
  {
   "cell_type": "code",
   "execution_count": 4,
   "metadata": {
    "execution": {
     "iopub.execute_input": "2025-04-14T05:20:30.539070Z",
     "iopub.status.busy": "2025-04-14T05:20:30.538591Z",
     "iopub.status.idle": "2025-04-14T05:20:30.542572Z",
     "shell.execute_reply": "2025-04-14T05:20:30.541771Z"
    },
    "tags": [
     "remove-input"
    ]
   },
   "outputs": [],
   "source": [
    "# This cell is removed with the tag: \"remove-input\"\n",
    "# As such, it will not be shown in documentation\n",
    "\n",
    "nglview_htmlfile = nglview_static_dir+'alanine_dipeptide.html'"
   ]
  },
  {
   "cell_type": "code",
   "execution_count": 5,
   "metadata": {
    "execution": {
     "iopub.execute_input": "2025-04-14T05:20:30.545434Z",
     "iopub.status.busy": "2025-04-14T05:20:30.545105Z",
     "iopub.status.idle": "2025-04-14T05:20:30.667170Z",
     "shell.execute_reply": "2025-04-14T05:20:30.666381Z"
    }
   },
   "outputs": [
    {
     "data": {
      "text/html": [
       "\n",
       "        <iframe\n",
       "            width=\"100%\"\n",
       "            height=\"320vh\"\n",
       "            src=\"../../../../_static/nglview/user/tools/build/build_peptide/alanine_dipeptide.html\"\n",
       "            frameborder=\"0\"\n",
       "            allowfullscreen\n",
       "            \n",
       "        ></iframe>\n",
       "        "
      ],
      "text/plain": [
       "<IPython.lib.display.IFrame at 0x7d443b0e3800>"
      ]
     },
     "execution_count": 5,
     "metadata": {},
     "output_type": "execute_result"
    }
   ],
   "source": [
    "msm.view(molsys)"
   ]
  },
  {
   "cell_type": "code",
   "execution_count": 6,
   "metadata": {
    "editable": true,
    "execution": {
     "iopub.execute_input": "2025-04-14T05:20:30.669953Z",
     "iopub.status.busy": "2025-04-14T05:20:30.669081Z",
     "iopub.status.idle": "2025-04-14T05:20:30.673502Z",
     "shell.execute_reply": "2025-04-14T05:20:30.672730Z"
    },
    "slideshow": {
     "slide_type": ""
    },
    "tags": [
     "remove-input"
    ]
   },
   "outputs": [],
   "source": [
    "# This cell is removed with the tag: \"remove-input\"\n",
    "# As such, it will not be shown in documentation\n",
    "\n",
    "if False:\n",
    "    # to write an html the view had to be displayed in a cell before\n",
    "    msm.thirds.nglview.write_html(view, nglview_htmlfile)"
   ]
  },
  {
   "cell_type": "markdown",
   "metadata": {},
   "source": [
    "In the next example, we create a longer peptide using single-letter codes.\n",
    "\n",
    "These peptides are created in vacuum, but they can be solvated. Let's show the work flow to create a solvated cationic peptide in the following cells:"
   ]
  },
  {
   "cell_type": "code",
   "execution_count": 7,
   "metadata": {
    "execution": {
     "iopub.execute_input": "2025-04-14T05:20:30.677865Z",
     "iopub.status.busy": "2025-04-14T05:20:30.676978Z",
     "iopub.status.idle": "2025-04-14T05:20:31.024342Z",
     "shell.execute_reply": "2025-04-14T05:20:31.023578Z"
    }
   },
   "outputs": [],
   "source": [
    "molsys = msm.build.build_peptide('GRKFRRKFKK')"
   ]
  },
  {
   "cell_type": "markdown",
   "metadata": {},
   "source": [
    "By default, peptides are built in vacuum. Let's now go through the workflow to generate a solvated, capped cationic peptide:"
   ]
  },
  {
   "cell_type": "code",
   "execution_count": 8,
   "metadata": {
    "execution": {
     "iopub.execute_input": "2025-04-14T05:20:31.027541Z",
     "iopub.status.busy": "2025-04-14T05:20:31.026922Z",
     "iopub.status.idle": "2025-04-14T05:20:36.962509Z",
     "shell.execute_reply": "2025-04-14T05:20:36.961699Z"
    }
   },
   "outputs": [],
   "source": [
    "molsys = msm.build.add_missing_terminal_cappings(molsys, N_terminal='ACE', C_terminal='NME')"
   ]
  },
  {
   "cell_type": "code",
   "execution_count": 9,
   "metadata": {
    "execution": {
     "iopub.execute_input": "2025-04-14T05:20:36.965788Z",
     "iopub.status.busy": "2025-04-14T05:20:36.965116Z",
     "iopub.status.idle": "2025-04-14T05:20:37.938992Z",
     "shell.execute_reply": "2025-04-14T05:20:37.937739Z"
    }
   },
   "outputs": [],
   "source": [
    "molsys = msm.structure.center(molsys)"
   ]
  },
  {
   "cell_type": "code",
   "execution_count": 10,
   "metadata": {
    "execution": {
     "iopub.execute_input": "2025-04-14T05:20:37.943296Z",
     "iopub.status.busy": "2025-04-14T05:20:37.942890Z",
     "iopub.status.idle": "2025-04-14T05:20:44.323918Z",
     "shell.execute_reply": "2025-04-14T05:20:44.323160Z"
    }
   },
   "outputs": [],
   "source": [
    "molsys = msm.build.solvate(molsys, box_shape='truncated octahedral', clearance='14.0 angstroms')"
   ]
  },
  {
   "cell_type": "markdown",
   "metadata": {},
   "source": [
    "The peptide was previously centered and remains near the origin. However, the added water molecules might be distributed beyond the boundaries of the primary box. To ensure a compact representation and properly apply periodic boundary conditions, we rewrap the water molecules around the origin using the minimum image convention."
   ]
  },
  {
   "cell_type": "code",
   "execution_count": 11,
   "metadata": {
    "execution": {
     "iopub.execute_input": "2025-04-14T05:20:44.326247Z",
     "iopub.status.busy": "2025-04-14T05:20:44.326004Z",
     "iopub.status.idle": "2025-04-14T05:20:45.310376Z",
     "shell.execute_reply": "2025-04-14T05:20:45.306943Z"
    }
   },
   "outputs": [],
   "source": [
    "molsys = msm.pbc.wrap_to_mic(molsys)"
   ]
  },
  {
   "cell_type": "markdown",
   "metadata": {},
   "source": [
    "Finally, we visualize the system to inspect the solvated peptide in the simulation box."
   ]
  },
  {
   "cell_type": "code",
   "execution_count": 12,
   "metadata": {
    "execution": {
     "iopub.execute_input": "2025-04-14T05:20:45.317601Z",
     "iopub.status.busy": "2025-04-14T05:20:45.316886Z",
     "iopub.status.idle": "2025-04-14T05:20:45.323613Z",
     "shell.execute_reply": "2025-04-14T05:20:45.320873Z"
    },
    "tags": [
     "remove-input"
    ]
   },
   "outputs": [],
   "source": [
    "# This cell is removed with the tag: \"remove-input\"\n",
    "# As such, it will not be shown in documentation\n",
    "\n",
    "nglview_htmlfile = nglview_static_dir+'cationic_peptide.html'"
   ]
  },
  {
   "cell_type": "code",
   "execution_count": 13,
   "metadata": {
    "execution": {
     "iopub.execute_input": "2025-04-14T05:20:45.331541Z",
     "iopub.status.busy": "2025-04-14T05:20:45.329388Z",
     "iopub.status.idle": "2025-04-14T05:20:45.499249Z",
     "shell.execute_reply": "2025-04-14T05:20:45.496490Z"
    }
   },
   "outputs": [
    {
     "data": {
      "text/html": [
       "\n",
       "        <iframe\n",
       "            width=\"100%\"\n",
       "            height=\"320vh\"\n",
       "            src=\"../../../../_static/nglview/user/tools/build/build_peptide/cationic_peptide.html\"\n",
       "            frameborder=\"0\"\n",
       "            allowfullscreen\n",
       "            \n",
       "        ></iframe>\n",
       "        "
      ],
      "text/plain": [
       "<IPython.lib.display.IFrame at 0x7d442f742a80>"
      ]
     },
     "execution_count": 13,
     "metadata": {},
     "output_type": "execute_result"
    }
   ],
   "source": [
    "msm.view(molsys, standard=True, with_water_as='surface')"
   ]
  },
  {
   "cell_type": "code",
   "execution_count": 14,
   "metadata": {
    "editable": true,
    "execution": {
     "iopub.execute_input": "2025-04-14T05:20:45.503235Z",
     "iopub.status.busy": "2025-04-14T05:20:45.502911Z",
     "iopub.status.idle": "2025-04-14T05:20:45.511904Z",
     "shell.execute_reply": "2025-04-14T05:20:45.510465Z"
    },
    "slideshow": {
     "slide_type": ""
    },
    "tags": [
     "remove-input"
    ]
   },
   "outputs": [],
   "source": [
    "# This cell is removed with the tag: \"remove-input\"\n",
    "# As such, it will not be shown in documentation\n",
    "\n",
    "if False:\n",
    "    # to write an html the view had to be displayed in a cell before\n",
    "    msm.thirds.nglview.write_html(view, nglview_htmlfile)"
   ]
  },
  {
   "cell_type": "markdown",
   "metadata": {},
   "source": [
    ":::{seealso}\n",
    "[User guide > Tools > Build > Add missing terminal cappings](add_missing_terminal_cappings.ipynb):  \n",
    "Add chemical groups to the N- and C-termini of peptides and proteins.\n",
    "\n",
    "[User guide > Tools > Structure > Center](../../structure/center.ipynb):  \n",
    "Center a molecular system in a simulation box.\n",
    "\n",
    "[User guide > Tools > Build > Solvate](solvate.ipynb):  \n",
    "Add solvent molecules around a molecular system.\n",
    "\n",
    "[User guide > Tools > PBC > Wrap to MIC](../../pbc/wrap_to_mic.ipynb):  \n",
    "Apply minimum image convention to atoms in periodic systems.\n",
    "\n",
    "[User guide > Tools > Basic > View](../../basic/view.ipynb):  \n",
    "Visualize a molecular system interactively.\n",
    ":::"
   ]
  }
 ],
 "metadata": {
  "kernelspec": {
   "display_name": "Python 3 (ipykernel)",
   "language": "python",
   "name": "python3"
  },
  "language_info": {
   "codemirror_mode": {
    "name": "ipython",
    "version": 3
   },
   "file_extension": ".py",
   "mimetype": "text/x-python",
   "name": "python",
   "nbconvert_exporter": "python",
   "pygments_lexer": "ipython3",
   "version": "3.12.9"
  },
  "widgets": {
   "application/vnd.jupyter.widget-state+json": {
    "state": {
     "11f76769b20f45e696c962c3c50a5c29": {
      "model_module": "nglview-js-widgets",
      "model_module_version": "3.0.8",
      "model_name": "ColormakerRegistryModel",
      "state": {
       "_dom_classes": [],
       "_model_module": "nglview-js-widgets",
       "_model_module_version": "3.0.8",
       "_model_name": "ColormakerRegistryModel",
       "_msg_ar": [],
       "_msg_q": [],
       "_ready": false,
       "_view_count": null,
       "_view_module": "nglview-js-widgets",
       "_view_module_version": "3.0.8",
       "_view_name": "ColormakerRegistryView",
       "layout": "IPY_MODEL_462b7e71cdff4e8e95ffe97d54c772a9",
       "tabbable": null,
       "tooltip": null
      }
     },
     "462b7e71cdff4e8e95ffe97d54c772a9": {
      "model_module": "@jupyter-widgets/base",
      "model_module_version": "2.0.0",
      "model_name": "LayoutModel",
      "state": {
       "_model_module": "@jupyter-widgets/base",
       "_model_module_version": "2.0.0",
       "_model_name": "LayoutModel",
       "_view_count": null,
       "_view_module": "@jupyter-widgets/base",
       "_view_module_version": "2.0.0",
       "_view_name": "LayoutView",
       "align_content": null,
       "align_items": null,
       "align_self": null,
       "border_bottom": null,
       "border_left": null,
       "border_right": null,
       "border_top": null,
       "bottom": null,
       "display": null,
       "flex": null,
       "flex_flow": null,
       "grid_area": null,
       "grid_auto_columns": null,
       "grid_auto_flow": null,
       "grid_auto_rows": null,
       "grid_column": null,
       "grid_gap": null,
       "grid_row": null,
       "grid_template_areas": null,
       "grid_template_columns": null,
       "grid_template_rows": null,
       "height": null,
       "justify_content": null,
       "justify_items": null,
       "left": null,
       "margin": null,
       "max_height": null,
       "max_width": null,
       "min_height": null,
       "min_width": null,
       "object_fit": null,
       "object_position": null,
       "order": null,
       "overflow": null,
       "padding": null,
       "right": null,
       "top": null,
       "visibility": null,
       "width": null
      }
     }
    },
    "version_major": 2,
    "version_minor": 0
   }
  }
 },
 "nbformat": 4,
 "nbformat_minor": 4
}
