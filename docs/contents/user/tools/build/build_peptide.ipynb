{
 "cells": [
  {
   "cell_type": "code",
   "execution_count": 1,
   "metadata": {
    "execution": {
     "iopub.execute_input": "2025-04-14T03:01:19.516791Z",
     "iopub.status.busy": "2025-04-14T03:01:19.515321Z",
     "iopub.status.idle": "2025-04-14T03:01:19.528025Z",
     "shell.execute_reply": "2025-04-14T03:01:19.525547Z"
    },
    "tags": [
     "remove-input"
    ]
   },
   "outputs": [],
   "source": [
    "# This cell is removed with the tag: \"remove-input\"\n",
    "# As such, it will not be shown in documentation\n",
    "\n",
    "import warnings\n",
    "warnings.filterwarnings('ignore')\n",
    "\n",
    "nglview_static_dir = '../../../../_static/nglview/user/tools/build/build_peptide/'"
   ]
  },
  {
   "cell_type": "markdown",
   "metadata": {},
   "source": [
    "(UserGuide_Tools_Build_BuildPeptide)=\n",
    "# Build peptide\n",
    "*Building peptides.*\n",
    "\n",
    "The function {func}`molsysmt.build.build_peptide` allows us to create peptides as molecular systems of any supported form by MolSysMT. Let's show how from an aminoacids sequence, a molecular system with all-atom topology and coordinates can be obtained with this function:\n"
   ]
  },
  {
   "cell_type": "code",
   "execution_count": 2,
   "metadata": {
    "execution": {
     "iopub.execute_input": "2025-04-14T03:01:19.535553Z",
     "iopub.status.busy": "2025-04-14T03:01:19.534805Z",
     "iopub.status.idle": "2025-04-14T03:01:23.909130Z",
     "shell.execute_reply": "2025-04-14T03:01:23.908473Z"
    }
   },
   "outputs": [
    {
     "data": {
      "application/vnd.jupyter.widget-view+json": {
       "model_id": "197eced8d6064ddd936165453372b989",
       "version_major": 2,
       "version_minor": 0
      },
      "text/plain": []
     },
     "metadata": {},
     "output_type": "display_data"
    }
   ],
   "source": [
    "import molsysmt as msm"
   ]
  },
  {
   "cell_type": "code",
   "execution_count": 3,
   "metadata": {
    "execution": {
     "iopub.execute_input": "2025-04-14T03:01:23.912396Z",
     "iopub.status.busy": "2025-04-14T03:01:23.911606Z",
     "iopub.status.idle": "2025-04-14T03:01:24.441446Z",
     "shell.execute_reply": "2025-04-14T03:01:24.440731Z"
    }
   },
   "outputs": [],
   "source": [
    "molecular_system = msm.build.build_peptide('AceAlaNme')"
   ]
  },
  {
   "cell_type": "code",
   "execution_count": 4,
   "metadata": {
    "execution": {
     "iopub.execute_input": "2025-04-14T03:01:24.443953Z",
     "iopub.status.busy": "2025-04-14T03:01:24.443537Z",
     "iopub.status.idle": "2025-04-14T03:01:24.447306Z",
     "shell.execute_reply": "2025-04-14T03:01:24.446609Z"
    },
    "tags": [
     "remove-input"
    ]
   },
   "outputs": [],
   "source": [
    "# This cell is removed with the tag: \"remove-input\"\n",
    "# As such, it will not be shown in documentation\n",
    "\n",
    "nglview_htmlfile = nglview_static_dir+'alanine_dipeptide.html'"
   ]
  },
  {
   "cell_type": "code",
   "execution_count": 5,
   "metadata": {
    "execution": {
     "iopub.execute_input": "2025-04-14T03:01:24.450251Z",
     "iopub.status.busy": "2025-04-14T03:01:24.449678Z",
     "iopub.status.idle": "2025-04-14T03:01:24.537502Z",
     "shell.execute_reply": "2025-04-14T03:01:24.536778Z"
    }
   },
   "outputs": [
    {
     "data": {
      "text/html": [
       "\n",
       "        <iframe\n",
       "            width=\"100%\"\n",
       "            height=\"320vh\"\n",
       "            src=\"../../../../_static/nglview/user/tools/build/build_peptide/alanine_dipeptide.html\"\n",
       "            frameborder=\"0\"\n",
       "            allowfullscreen\n",
       "            \n",
       "        ></iframe>\n",
       "        "
      ],
      "text/plain": [
       "<IPython.lib.display.IFrame at 0x7f6473ac9be0>"
      ]
     },
     "execution_count": 5,
     "metadata": {},
     "output_type": "execute_result"
    }
   ],
   "source": [
    "msm.view(molecular_system)"
   ]
  },
  {
   "cell_type": "code",
   "execution_count": null,
   "metadata": {},
   "outputs": [],
   "source": []
  },
  {
   "cell_type": "markdown",
   "metadata": {},
   "source": [
    "These peptides are created in vacuum, but they can be solvated. Let's show the work flow to create a solvated cationic peptide in the following cells:"
   ]
  },
  {
   "cell_type": "code",
   "execution_count": 6,
   "metadata": {
    "execution": {
     "iopub.execute_input": "2025-04-14T03:01:24.540745Z",
     "iopub.status.busy": "2025-04-14T03:01:24.540096Z",
     "iopub.status.idle": "2025-04-14T03:01:24.786811Z",
     "shell.execute_reply": "2025-04-14T03:01:24.786052Z"
    }
   },
   "outputs": [],
   "source": [
    "molecular_system = msm.build.build_peptide('GRKFRRKFKK')"
   ]
  },
  {
   "cell_type": "code",
   "execution_count": 7,
   "metadata": {
    "execution": {
     "iopub.execute_input": "2025-04-14T03:01:24.789153Z",
     "iopub.status.busy": "2025-04-14T03:01:24.788927Z",
     "iopub.status.idle": "2025-04-14T03:01:31.376458Z",
     "shell.execute_reply": "2025-04-14T03:01:31.375750Z"
    }
   },
   "outputs": [],
   "source": [
    "molecular_system = msm.build.add_missing_terminal_cappings(molecular_system, N_terminal='ACE', C_terminal='NME')"
   ]
  },
  {
   "cell_type": "code",
   "execution_count": 8,
   "metadata": {
    "execution": {
     "iopub.execute_input": "2025-04-14T03:01:31.378906Z",
     "iopub.status.busy": "2025-04-14T03:01:31.378513Z",
     "iopub.status.idle": "2025-04-14T03:01:32.463747Z",
     "shell.execute_reply": "2025-04-14T03:01:32.459624Z"
    }
   },
   "outputs": [],
   "source": [
    "molecular_system = msm.structure.center(molecular_system, selection='molecule_type==\"peptide\"')"
   ]
  },
  {
   "cell_type": "code",
   "execution_count": 9,
   "metadata": {
    "execution": {
     "iopub.execute_input": "2025-04-14T03:01:32.471090Z",
     "iopub.status.busy": "2025-04-14T03:01:32.470491Z",
     "iopub.status.idle": "2025-04-14T03:01:37.865132Z",
     "shell.execute_reply": "2025-04-14T03:01:37.864371Z"
    }
   },
   "outputs": [],
   "source": [
    "molecular_system = msm.build.solvate(molecular_system, box_shape='truncated octahedral', clearance='14.0 angstroms')"
   ]
  },
  {
   "cell_type": "code",
   "execution_count": 10,
   "metadata": {
    "execution": {
     "iopub.execute_input": "2025-04-14T03:01:37.868194Z",
     "iopub.status.busy": "2025-04-14T03:01:37.867758Z",
     "iopub.status.idle": "2025-04-14T03:01:38.794093Z",
     "shell.execute_reply": "2025-04-14T03:01:38.793170Z"
    }
   },
   "outputs": [],
   "source": [
    "molecular_system = msm.pbc.wrap_to_mic(molecular_system)"
   ]
  },
  {
   "cell_type": "code",
   "execution_count": 11,
   "metadata": {
    "execution": {
     "iopub.execute_input": "2025-04-14T03:01:38.797529Z",
     "iopub.status.busy": "2025-04-14T03:01:38.797207Z",
     "iopub.status.idle": "2025-04-14T03:01:38.801460Z",
     "shell.execute_reply": "2025-04-14T03:01:38.800542Z"
    },
    "tags": [
     "remove-input"
    ]
   },
   "outputs": [],
   "source": [
    "nglview_htmlfile = nglview_static_dir+'cationic_peptide.html'"
   ]
  },
  {
   "cell_type": "code",
   "execution_count": 12,
   "metadata": {
    "execution": {
     "iopub.execute_input": "2025-04-14T03:01:38.804005Z",
     "iopub.status.busy": "2025-04-14T03:01:38.803719Z",
     "iopub.status.idle": "2025-04-14T03:01:38.892631Z",
     "shell.execute_reply": "2025-04-14T03:01:38.891781Z"
    }
   },
   "outputs": [
    {
     "data": {
      "text/html": [
       "\n",
       "        <iframe\n",
       "            width=\"100%\"\n",
       "            height=\"320vh\"\n",
       "            src=\"../../../../_static/nglview/user/tools/build/build_peptide/cationic_peptide.html\"\n",
       "            frameborder=\"0\"\n",
       "            allowfullscreen\n",
       "            \n",
       "        ></iframe>\n",
       "        "
      ],
      "text/plain": [
       "<IPython.lib.display.IFrame at 0x7f6456fe48f0>"
      ]
     },
     "execution_count": 12,
     "metadata": {},
     "output_type": "execute_result"
    }
   ],
   "source": [
    "msm.view(molecular_system, standard=True, with_water_as='surface')"
   ]
  },
  {
   "cell_type": "markdown",
   "metadata": {},
   "source": [
    "```{admonition} See also\n",
    ":class: attention\n",
    "{func}`molsysmt.build.build_peptide`, {func}`molsysmt.build.add_missing_terminal_cappings`, {func}`molsysmt.structure.center`, {func}`molsysmt.build.solvate`, {func}`molsysmt.pbc.wrap_to_mic`, {func}`molsysmt.basic.view`\n",
    "```"
   ]
  }
 ],
 "metadata": {
  "kernelspec": {
   "display_name": "Python 3 (ipykernel)",
   "language": "python",
   "name": "python3"
  },
  "language_info": {
   "codemirror_mode": {
    "name": "ipython",
    "version": 3
   },
   "file_extension": ".py",
   "mimetype": "text/x-python",
   "name": "python",
   "nbconvert_exporter": "python",
   "pygments_lexer": "ipython3",
   "version": "3.12.9"
  },
  "widgets": {
   "application/vnd.jupyter.widget-state+json": {
    "state": {
     "197eced8d6064ddd936165453372b989": {
      "model_module": "nglview-js-widgets",
      "model_module_version": "3.0.8",
      "model_name": "ColormakerRegistryModel",
      "state": {
       "_dom_classes": [],
       "_model_module": "nglview-js-widgets",
       "_model_module_version": "3.0.8",
       "_model_name": "ColormakerRegistryModel",
       "_msg_ar": [],
       "_msg_q": [],
       "_ready": false,
       "_view_count": null,
       "_view_module": "nglview-js-widgets",
       "_view_module_version": "3.0.8",
       "_view_name": "ColormakerRegistryView",
       "layout": "IPY_MODEL_59c36b09b0f64f8db27fadc4b0e08016",
       "tabbable": null,
       "tooltip": null
      }
     },
     "59c36b09b0f64f8db27fadc4b0e08016": {
      "model_module": "@jupyter-widgets/base",
      "model_module_version": "2.0.0",
      "model_name": "LayoutModel",
      "state": {
       "_model_module": "@jupyter-widgets/base",
       "_model_module_version": "2.0.0",
       "_model_name": "LayoutModel",
       "_view_count": null,
       "_view_module": "@jupyter-widgets/base",
       "_view_module_version": "2.0.0",
       "_view_name": "LayoutView",
       "align_content": null,
       "align_items": null,
       "align_self": null,
       "border_bottom": null,
       "border_left": null,
       "border_right": null,
       "border_top": null,
       "bottom": null,
       "display": null,
       "flex": null,
       "flex_flow": null,
       "grid_area": null,
       "grid_auto_columns": null,
       "grid_auto_flow": null,
       "grid_auto_rows": null,
       "grid_column": null,
       "grid_gap": null,
       "grid_row": null,
       "grid_template_areas": null,
       "grid_template_columns": null,
       "grid_template_rows": null,
       "height": null,
       "justify_content": null,
       "justify_items": null,
       "left": null,
       "margin": null,
       "max_height": null,
       "max_width": null,
       "min_height": null,
       "min_width": null,
       "object_fit": null,
       "object_position": null,
       "order": null,
       "overflow": null,
       "padding": null,
       "right": null,
       "top": null,
       "visibility": null,
       "width": null
      }
     }
    },
    "version_major": 2,
    "version_minor": 0
   }
  }
 },
 "nbformat": 4,
 "nbformat_minor": 4
}
