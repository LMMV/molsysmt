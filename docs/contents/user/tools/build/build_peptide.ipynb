{
 "cells": [
  {
   "cell_type": "code",
   "execution_count": 1,
   "metadata": {
    "execution": {
     "iopub.execute_input": "2025-03-11T21:06:57.562571Z",
     "iopub.status.busy": "2025-03-11T21:06:57.561819Z",
     "iopub.status.idle": "2025-03-11T21:06:57.567472Z",
     "shell.execute_reply": "2025-03-11T21:06:57.566494Z"
    },
    "tags": [
     "remove-input"
    ]
   },
   "outputs": [],
   "source": [
    "# This cell is removed with the tag: \"remove-input\"\n",
    "# As such, it will not be shown in documentation\n",
    "\n",
    "import warnings\n",
    "warnings.filterwarnings('ignore')\n",
    "\n",
    "nglview_static_dir = '../../../../_static/nglview/user/tools/build/build_peptide/'"
   ]
  },
  {
   "cell_type": "markdown",
   "metadata": {},
   "source": [
    "(UserGuide_Tools_Build_BuildPeptide)=\n",
    "# Build peptide\n",
    "*Building peptides.*\n",
    "\n",
    "The function {func}`molsysmt.build.build_peptide` allows us to create peptides as molecular systems of any supported form by MolSysMT. Let's show how from an aminoacids sequence, a molecular system with all-atom topology and coordinates can be obtained with this function:\n"
   ]
  },
  {
   "cell_type": "code",
   "execution_count": 2,
   "metadata": {
    "execution": {
     "iopub.execute_input": "2025-03-11T21:06:57.571171Z",
     "iopub.status.busy": "2025-03-11T21:06:57.570444Z",
     "iopub.status.idle": "2025-03-11T21:07:06.410543Z",
     "shell.execute_reply": "2025-03-11T21:07:06.409567Z"
    }
   },
   "outputs": [
    {
     "data": {
      "application/vnd.jupyter.widget-view+json": {
       "model_id": "505c1a4be0cd46709001fbfb2574484e",
       "version_major": 2,
       "version_minor": 0
      },
      "text/plain": []
     },
     "metadata": {},
     "output_type": "display_data"
    }
   ],
   "source": [
    "import molsysmt as msm"
   ]
  },
  {
   "cell_type": "code",
   "execution_count": 3,
   "metadata": {
    "execution": {
     "iopub.execute_input": "2025-03-11T21:07:06.414614Z",
     "iopub.status.busy": "2025-03-11T21:07:06.413577Z",
     "iopub.status.idle": "2025-03-11T21:07:07.817126Z",
     "shell.execute_reply": "2025-03-11T21:07:07.816279Z"
    }
   },
   "outputs": [],
   "source": [
    "molecular_system = msm.build.build_peptide('AceAlaNme')"
   ]
  },
  {
   "cell_type": "code",
   "execution_count": 4,
   "metadata": {
    "execution": {
     "iopub.execute_input": "2025-03-11T21:07:07.821324Z",
     "iopub.status.busy": "2025-03-11T21:07:07.820462Z",
     "iopub.status.idle": "2025-03-11T21:07:07.825240Z",
     "shell.execute_reply": "2025-03-11T21:07:07.824388Z"
    },
    "tags": [
     "remove-input"
    ]
   },
   "outputs": [],
   "source": [
    "# This cell is removed with the tag: \"remove-input\"\n",
    "# As such, it will not be shown in documentation\n",
    "\n",
    "nglview_htmlfile = nglview_static_dir+'alanine_dipeptide.html'"
   ]
  },
  {
   "cell_type": "code",
   "execution_count": 5,
   "metadata": {
    "execution": {
     "iopub.execute_input": "2025-03-11T21:07:07.829356Z",
     "iopub.status.busy": "2025-03-11T21:07:07.828896Z",
     "iopub.status.idle": "2025-03-11T21:07:07.989194Z",
     "shell.execute_reply": "2025-03-11T21:07:07.988387Z"
    }
   },
   "outputs": [
    {
     "data": {
      "text/html": [
       "\n",
       "        <iframe\n",
       "            width=\"100%\"\n",
       "            height=\"320vh\"\n",
       "            src=\"../../../../_static/nglview/user/tools/build/build_peptide/alanine_dipeptide.html\"\n",
       "            frameborder=\"0\"\n",
       "            allowfullscreen\n",
       "            \n",
       "        ></iframe>\n",
       "        "
      ],
      "text/plain": [
       "<IPython.lib.display.IFrame at 0x7fc9c2075f40>"
      ]
     },
     "execution_count": 5,
     "metadata": {},
     "output_type": "execute_result"
    }
   ],
   "source": [
    "msm.view(molecular_system)"
   ]
  },
  {
   "cell_type": "code",
   "execution_count": null,
   "metadata": {},
   "outputs": [],
   "source": []
  },
  {
   "cell_type": "markdown",
   "metadata": {},
   "source": [
    "These peptides are created in vacuum, but they can be solvated. Let's show the work flow to create a solvated cationic peptide in the following cells:"
   ]
  },
  {
   "cell_type": "code",
   "execution_count": 6,
   "metadata": {
    "execution": {
     "iopub.execute_input": "2025-03-11T21:07:07.992122Z",
     "iopub.status.busy": "2025-03-11T21:07:07.991786Z",
     "iopub.status.idle": "2025-03-11T21:07:08.360766Z",
     "shell.execute_reply": "2025-03-11T21:07:08.359935Z"
    }
   },
   "outputs": [],
   "source": [
    "molecular_system = msm.build.build_peptide('GRKFRRKFKK')"
   ]
  },
  {
   "cell_type": "code",
   "execution_count": 7,
   "metadata": {
    "execution": {
     "iopub.execute_input": "2025-03-11T21:07:08.364904Z",
     "iopub.status.busy": "2025-03-11T21:07:08.364344Z",
     "iopub.status.idle": "2025-03-11T21:07:19.036094Z",
     "shell.execute_reply": "2025-03-11T21:07:19.035050Z"
    }
   },
   "outputs": [],
   "source": [
    "molecular_system = msm.build.add_missing_terminal_cappings(molecular_system, N_terminal='ACE', C_terminal='NME')"
   ]
  },
  {
   "cell_type": "code",
   "execution_count": 8,
   "metadata": {
    "execution": {
     "iopub.execute_input": "2025-03-11T21:07:19.039884Z",
     "iopub.status.busy": "2025-03-11T21:07:19.039193Z",
     "iopub.status.idle": "2025-03-11T21:07:21.644448Z",
     "shell.execute_reply": "2025-03-11T21:07:21.643480Z"
    }
   },
   "outputs": [],
   "source": [
    "molecular_system = msm.structure.center(molecular_system, selection='molecule_type==\"peptide\"')"
   ]
  },
  {
   "cell_type": "code",
   "execution_count": 9,
   "metadata": {
    "execution": {
     "iopub.execute_input": "2025-03-11T21:07:21.647946Z",
     "iopub.status.busy": "2025-03-11T21:07:21.647425Z",
     "iopub.status.idle": "2025-03-11T21:07:32.542597Z",
     "shell.execute_reply": "2025-03-11T21:07:32.541720Z"
    }
   },
   "outputs": [],
   "source": [
    "molecular_system = msm.build.solvate(molecular_system, box_shape='truncated octahedral', clearance='14.0 angstroms')"
   ]
  },
  {
   "cell_type": "code",
   "execution_count": 10,
   "metadata": {
    "execution": {
     "iopub.execute_input": "2025-03-11T21:07:32.546175Z",
     "iopub.status.busy": "2025-03-11T21:07:32.545760Z",
     "iopub.status.idle": "2025-03-11T21:07:34.436084Z",
     "shell.execute_reply": "2025-03-11T21:07:34.435077Z"
    }
   },
   "outputs": [],
   "source": [
    "molecular_system = msm.pbc.wrap_to_mic(molecular_system)"
   ]
  },
  {
   "cell_type": "code",
   "execution_count": 11,
   "metadata": {
    "execution": {
     "iopub.execute_input": "2025-03-11T21:07:34.441120Z",
     "iopub.status.busy": "2025-03-11T21:07:34.440188Z",
     "iopub.status.idle": "2025-03-11T21:07:34.444897Z",
     "shell.execute_reply": "2025-03-11T21:07:34.444078Z"
    },
    "tags": [
     "remove-input"
    ]
   },
   "outputs": [],
   "source": [
    "nglview_htmlfile = nglview_static_dir+'cationic_peptide.html'"
   ]
  },
  {
   "cell_type": "code",
   "execution_count": 12,
   "metadata": {
    "execution": {
     "iopub.execute_input": "2025-03-11T21:07:34.447715Z",
     "iopub.status.busy": "2025-03-11T21:07:34.447391Z",
     "iopub.status.idle": "2025-03-11T21:07:34.583982Z",
     "shell.execute_reply": "2025-03-11T21:07:34.583155Z"
    }
   },
   "outputs": [
    {
     "data": {
      "text/html": [
       "\n",
       "        <iframe\n",
       "            width=\"100%\"\n",
       "            height=\"320vh\"\n",
       "            src=\"../../../../_static/nglview/user/tools/build/build_peptide/cationic_peptide.html\"\n",
       "            frameborder=\"0\"\n",
       "            allowfullscreen\n",
       "            \n",
       "        ></iframe>\n",
       "        "
      ],
      "text/plain": [
       "<IPython.lib.display.IFrame at 0x7fc9b70480e0>"
      ]
     },
     "execution_count": 12,
     "metadata": {},
     "output_type": "execute_result"
    }
   ],
   "source": [
    "msm.view(molecular_system, standard=True, with_water_as='surface')"
   ]
  },
  {
   "cell_type": "markdown",
   "metadata": {},
   "source": [
    "```{admonition} See also\n",
    ":class: attention\n",
    "{func}`molsysmt.build.build_peptide`, {func}`molsysmt.build.add_missing_terminal_cappings`, {func}`molsysmt.structure.center`, {func}`molsysmt.build.solvate`, {func}`molsysmt.pbc.wrap_to_mic`, {func}`molsysmt.basic.view`\n",
    "```"
   ]
  }
 ],
 "metadata": {
  "kernelspec": {
   "display_name": "Python 3 (ipykernel)",
   "language": "python",
   "name": "python3"
  },
  "language_info": {
   "codemirror_mode": {
    "name": "ipython",
    "version": 3
   },
   "file_extension": ".py",
   "mimetype": "text/x-python",
   "name": "python",
   "nbconvert_exporter": "python",
   "pygments_lexer": "ipython3",
   "version": "3.12.8"
  },
  "widgets": {
   "application/vnd.jupyter.widget-state+json": {
    "state": {
     "505c1a4be0cd46709001fbfb2574484e": {
      "model_module": "nglview-js-widgets",
      "model_module_version": "3.1.4",
      "model_name": "ColormakerRegistryModel",
      "state": {
       "_dom_classes": [],
       "_model_module": "nglview-js-widgets",
       "_model_module_version": "3.1.4",
       "_model_name": "ColormakerRegistryModel",
       "_msg_ar": [],
       "_msg_q": [],
       "_ready": false,
       "_view_count": null,
       "_view_module": "nglview-js-widgets",
       "_view_module_version": "3.1.4",
       "_view_name": "ColormakerRegistryView",
       "layout": "IPY_MODEL_9671ded095e8444a81cfcc107d32049c",
       "tabbable": null,
       "tooltip": null
      }
     },
     "9671ded095e8444a81cfcc107d32049c": {
      "model_module": "@jupyter-widgets/base",
      "model_module_version": "2.0.0",
      "model_name": "LayoutModel",
      "state": {
       "_model_module": "@jupyter-widgets/base",
       "_model_module_version": "2.0.0",
       "_model_name": "LayoutModel",
       "_view_count": null,
       "_view_module": "@jupyter-widgets/base",
       "_view_module_version": "2.0.0",
       "_view_name": "LayoutView",
       "align_content": null,
       "align_items": null,
       "align_self": null,
       "border_bottom": null,
       "border_left": null,
       "border_right": null,
       "border_top": null,
       "bottom": null,
       "display": null,
       "flex": null,
       "flex_flow": null,
       "grid_area": null,
       "grid_auto_columns": null,
       "grid_auto_flow": null,
       "grid_auto_rows": null,
       "grid_column": null,
       "grid_gap": null,
       "grid_row": null,
       "grid_template_areas": null,
       "grid_template_columns": null,
       "grid_template_rows": null,
       "height": null,
       "justify_content": null,
       "justify_items": null,
       "left": null,
       "margin": null,
       "max_height": null,
       "max_width": null,
       "min_height": null,
       "min_width": null,
       "object_fit": null,
       "object_position": null,
       "order": null,
       "overflow": null,
       "padding": null,
       "right": null,
       "top": null,
       "visibility": null,
       "width": null
      }
     }
    },
    "version_major": 2,
    "version_minor": 0
   }
  }
 },
 "nbformat": 4,
 "nbformat_minor": 4
}
