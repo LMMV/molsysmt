{
 "cells": [
  {
   "cell_type": "code",
   "execution_count": 1,
   "id": "62a9159a-8347-4dff-b4e2-8e7dccf16322",
   "metadata": {
    "execution": {
     "iopub.execute_input": "2025-04-14T03:03:25.824883Z",
     "iopub.status.busy": "2025-04-14T03:03:25.823126Z",
     "iopub.status.idle": "2025-04-14T03:03:25.889341Z",
     "shell.execute_reply": "2025-04-14T03:03:25.888600Z"
    }
   },
   "outputs": [],
   "source": [
    "%load_ext autoreload\n",
    "%autoreload 2"
   ]
  },
  {
   "cell_type": "code",
   "execution_count": 2,
   "id": "5d5a6cea-c1ce-4e37-8290-88e4eb449542",
   "metadata": {
    "execution": {
     "iopub.execute_input": "2025-04-14T03:03:25.891505Z",
     "iopub.status.busy": "2025-04-14T03:03:25.891268Z",
     "iopub.status.idle": "2025-04-14T03:03:30.860179Z",
     "shell.execute_reply": "2025-04-14T03:03:30.859463Z"
    }
   },
   "outputs": [
    {
     "data": {
      "application/vnd.jupyter.widget-view+json": {
       "model_id": "51cd4e4ea3be4294b907c698db1792b3",
       "version_major": 2,
       "version_minor": 0
      },
      "text/plain": []
     },
     "metadata": {},
     "output_type": "display_data"
    }
   ],
   "source": [
    "import molsysmt as msm"
   ]
  },
  {
   "cell_type": "markdown",
   "id": "386916cd-3ab0-4cd5-b72f-784fb291d9b7",
   "metadata": {},
   "source": [
    "# Has hydrogens"
   ]
  },
  {
   "cell_type": "code",
   "execution_count": 3,
   "id": "ec65f10a-12d9-4c1c-b40e-2ec277cb1b70",
   "metadata": {
    "execution": {
     "iopub.execute_input": "2025-04-14T03:03:30.863325Z",
     "iopub.status.busy": "2025-04-14T03:03:30.862333Z",
     "iopub.status.idle": "2025-04-14T03:03:31.443574Z",
     "shell.execute_reply": "2025-04-14T03:03:31.442702Z"
    }
   },
   "outputs": [],
   "source": [
    "molsys = msm.convert(msm.systems['T4 lysozyme L99A']['181l.h5msm'], to_form='molsysmt.MolSys')"
   ]
  },
  {
   "cell_type": "code",
   "execution_count": 4,
   "id": "a285d820-9628-41c4-afe2-52d64b47e785",
   "metadata": {
    "execution": {
     "iopub.execute_input": "2025-04-14T03:03:31.445910Z",
     "iopub.status.busy": "2025-04-14T03:03:31.445529Z",
     "iopub.status.idle": "2025-04-14T03:03:31.717446Z",
     "shell.execute_reply": "2025-04-14T03:03:31.716572Z"
    }
   },
   "outputs": [
    {
     "data": {
      "text/plain": [
       "0"
      ]
     },
     "execution_count": 4,
     "metadata": {},
     "output_type": "execute_result"
    }
   ],
   "source": [
    "msm.get(molsys, selection='atom_type==\"H\"', n_atoms=True)"
   ]
  },
  {
   "cell_type": "code",
   "execution_count": 5,
   "id": "d36dcf1e-4391-4ff3-bd78-11fbbf5a72f2",
   "metadata": {
    "execution": {
     "iopub.execute_input": "2025-04-14T03:03:31.719711Z",
     "iopub.status.busy": "2025-04-14T03:03:31.719474Z",
     "iopub.status.idle": "2025-04-14T03:03:31.985675Z",
     "shell.execute_reply": "2025-04-14T03:03:31.984967Z"
    }
   },
   "outputs": [
    {
     "data": {
      "text/plain": [
       "False"
      ]
     },
     "execution_count": 5,
     "metadata": {},
     "output_type": "execute_result"
    }
   ],
   "source": [
    "msm.build.has_hydrogens(molsys)"
   ]
  },
  {
   "cell_type": "code",
   "execution_count": 6,
   "id": "6d0fd864-c2a5-4759-a528-a9db4f99b00b",
   "metadata": {
    "execution": {
     "iopub.execute_input": "2025-04-14T03:03:31.988164Z",
     "iopub.status.busy": "2025-04-14T03:03:31.987509Z",
     "iopub.status.idle": "2025-04-14T03:03:32.324333Z",
     "shell.execute_reply": "2025-04-14T03:03:32.323453Z"
    }
   },
   "outputs": [
    {
     "data": {
      "text/plain": [
       "False"
      ]
     },
     "execution_count": 6,
     "metadata": {},
     "output_type": "execute_result"
    }
   ],
   "source": [
    "msm.build.has_hydrogens(molsys, selection='molecule_type==\"protein\"')"
   ]
  },
  {
   "cell_type": "code",
   "execution_count": 7,
   "id": "e092ac8f-3824-47e5-b61c-e3fd9a746667",
   "metadata": {
    "execution": {
     "iopub.execute_input": "2025-04-14T03:03:32.326816Z",
     "iopub.status.busy": "2025-04-14T03:03:32.326584Z",
     "iopub.status.idle": "2025-04-14T03:03:39.950027Z",
     "shell.execute_reply": "2025-04-14T03:03:39.949255Z"
    }
   },
   "outputs": [],
   "source": [
    "molsys = msm.build.add_missing_terminal_cappings(molsys)\n",
    "molsys = msm.build.add_missing_heavy_atoms(molsys)\n",
    "molsys = msm.build.add_missing_hydrogens(molsys)"
   ]
  },
  {
   "cell_type": "code",
   "execution_count": 8,
   "id": "0a9716f0-49c9-439a-a9ff-09a7abdd158e",
   "metadata": {
    "execution": {
     "iopub.execute_input": "2025-04-14T03:03:39.952301Z",
     "iopub.status.busy": "2025-04-14T03:03:39.952061Z",
     "iopub.status.idle": "2025-04-14T03:03:40.221198Z",
     "shell.execute_reply": "2025-04-14T03:03:40.220509Z"
    }
   },
   "outputs": [
    {
     "data": {
      "text/plain": [
       "True"
      ]
     },
     "execution_count": 8,
     "metadata": {},
     "output_type": "execute_result"
    }
   ],
   "source": [
    "msm.build.has_hydrogens(molsys)"
   ]
  },
  {
   "cell_type": "code",
   "execution_count": 9,
   "id": "9f92d220-a5ff-4223-a358-c80086743f68",
   "metadata": {
    "execution": {
     "iopub.execute_input": "2025-04-14T03:03:40.223639Z",
     "iopub.status.busy": "2025-04-14T03:03:40.223377Z",
     "iopub.status.idle": "2025-04-14T03:03:40.576081Z",
     "shell.execute_reply": "2025-04-14T03:03:40.575263Z"
    }
   },
   "outputs": [
    {
     "data": {
      "text/plain": [
       "True"
      ]
     },
     "execution_count": 9,
     "metadata": {},
     "output_type": "execute_result"
    }
   ],
   "source": [
    "msm.build.has_hydrogens(molsys, selection='molecule_type==\"protein\"')"
   ]
  },
  {
   "cell_type": "code",
   "execution_count": null,
   "id": "e753a3af-5405-45b0-886b-1689c70664e6",
   "metadata": {},
   "outputs": [],
   "source": []
  }
 ],
 "metadata": {
  "kernelspec": {
   "display_name": "Python 3 (ipykernel)",
   "language": "python",
   "name": "python3"
  },
  "language_info": {
   "codemirror_mode": {
    "name": "ipython",
    "version": 3
   },
   "file_extension": ".py",
   "mimetype": "text/x-python",
   "name": "python",
   "nbconvert_exporter": "python",
   "pygments_lexer": "ipython3",
   "version": "3.12.9"
  },
  "widgets": {
   "application/vnd.jupyter.widget-state+json": {
    "state": {
     "51cd4e4ea3be4294b907c698db1792b3": {
      "model_module": "nglview-js-widgets",
      "model_module_version": "3.0.8",
      "model_name": "ColormakerRegistryModel",
      "state": {
       "_dom_classes": [],
       "_model_module": "nglview-js-widgets",
       "_model_module_version": "3.0.8",
       "_model_name": "ColormakerRegistryModel",
       "_msg_ar": [],
       "_msg_q": [],
       "_ready": false,
       "_view_count": null,
       "_view_module": "nglview-js-widgets",
       "_view_module_version": "3.0.8",
       "_view_name": "ColormakerRegistryView",
       "layout": "IPY_MODEL_6b891e4c41d6462c87fad753fd088886",
       "tabbable": null,
       "tooltip": null
      }
     },
     "6b891e4c41d6462c87fad753fd088886": {
      "model_module": "@jupyter-widgets/base",
      "model_module_version": "2.0.0",
      "model_name": "LayoutModel",
      "state": {
       "_model_module": "@jupyter-widgets/base",
       "_model_module_version": "2.0.0",
       "_model_name": "LayoutModel",
       "_view_count": null,
       "_view_module": "@jupyter-widgets/base",
       "_view_module_version": "2.0.0",
       "_view_name": "LayoutView",
       "align_content": null,
       "align_items": null,
       "align_self": null,
       "border_bottom": null,
       "border_left": null,
       "border_right": null,
       "border_top": null,
       "bottom": null,
       "display": null,
       "flex": null,
       "flex_flow": null,
       "grid_area": null,
       "grid_auto_columns": null,
       "grid_auto_flow": null,
       "grid_auto_rows": null,
       "grid_column": null,
       "grid_gap": null,
       "grid_row": null,
       "grid_template_areas": null,
       "grid_template_columns": null,
       "grid_template_rows": null,
       "height": null,
       "justify_content": null,
       "justify_items": null,
       "left": null,
       "margin": null,
       "max_height": null,
       "max_width": null,
       "min_height": null,
       "min_width": null,
       "object_fit": null,
       "object_position": null,
       "order": null,
       "overflow": null,
       "padding": null,
       "right": null,
       "top": null,
       "visibility": null,
       "width": null
      }
     }
    },
    "version_major": 2,
    "version_minor": 0
   }
  }
 },
 "nbformat": 4,
 "nbformat_minor": 5
}
