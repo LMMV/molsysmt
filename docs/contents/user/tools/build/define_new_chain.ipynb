{
 "cells": [
  {
   "cell_type": "code",
   "execution_count": 1,
   "id": "44ea1460-3035-498a-99db-b9d69debeae6",
   "metadata": {
    "editable": true,
    "execution": {
     "iopub.execute_input": "2025-04-14T05:20:50.389484Z",
     "iopub.status.busy": "2025-04-14T05:20:50.388480Z",
     "iopub.status.idle": "2025-04-14T05:20:50.402120Z",
     "shell.execute_reply": "2025-04-14T05:20:50.400957Z"
    },
    "slideshow": {
     "slide_type": ""
    },
    "tags": [
     "remove-input"
    ]
   },
   "outputs": [],
   "source": [
    "# This cell is removed with the tag: \"remove-input\"\n",
    "# As such, it will not be shown in documentation\n",
    "\n",
    "import warnings\n",
    "warnings.filterwarnings('ignore')"
   ]
  },
  {
   "cell_type": "markdown",
   "id": "773cacaf-4f96-42e7-8b38-7512d473946e",
   "metadata": {
    "editable": true,
    "slideshow": {
     "slide_type": ""
    },
    "tags": []
   },
   "source": [
    "(Tutorial_Define_new_chain)=\n",
    "# Define new chain\n",
    "*Defining a new chain by grouping a selection of atoms.*\n",
    "\n",
    "The function {func}`molsysmt.build.define_new_chain()` allows you to group any set of atoms into a new chain. This is useful when working with merged or modified systems where chain identity needs to be explicitly reassigned.\n",
    "\n",
    ":::{versionadded} 1.0.0\n",
    ":::\n",
    "\n",
    "## How this method works\n",
    "\n",
    "```{admonition} API documentation\n",
    "Follow this link for a detailed description of the input arguments, raised errors, and returned objects of this function:{func}`molsysmt.build.define_new_chain()`.\n",
    "```\n",
    "\n",
    "This function modifies the topology of the molecular system by assigning a new `chain_id` and `chain_name` to the selected atoms. The reassigned chain appears as an additional entry in the system's chain list, without altering other chain definitions.\n",
    "\n",
    "We begin by loading a protein structure from the PDB with ID `1TCD`."
   ]
  },
  {
   "cell_type": "code",
   "execution_count": 2,
   "id": "e0c6978d-5fe1-4dd5-821b-7c8fb6de17e8",
   "metadata": {
    "editable": true,
    "execution": {
     "iopub.execute_input": "2025-04-14T05:20:50.405889Z",
     "iopub.status.busy": "2025-04-14T05:20:50.405539Z",
     "iopub.status.idle": "2025-04-14T05:20:50.410734Z",
     "shell.execute_reply": "2025-04-14T05:20:50.409723Z"
    },
    "slideshow": {
     "slide_type": ""
    },
    "tags": [
     "remove-input"
    ]
   },
   "outputs": [],
   "source": [
    "# This cell is removed with the tag: \"remove-input\"\n",
    "# As such, it will not be shown in documentation\n",
    "\n",
    "import warnings\n",
    "warnings.filterwarnings('ignore')"
   ]
  },
  {
   "cell_type": "code",
   "execution_count": 3,
   "id": "17172e38-3e16-40f9-bcac-5a9a684e48fc",
   "metadata": {
    "execution": {
     "iopub.execute_input": "2025-04-14T05:20:50.414049Z",
     "iopub.status.busy": "2025-04-14T05:20:50.413696Z",
     "iopub.status.idle": "2025-04-14T05:20:55.622472Z",
     "shell.execute_reply": "2025-04-14T05:20:55.621777Z"
    }
   },
   "outputs": [
    {
     "data": {
      "application/vnd.jupyter.widget-view+json": {
       "model_id": "40d1d3d67c9c4b51bc322557cc755aff",
       "version_major": 2,
       "version_minor": 0
      },
      "text/plain": []
     },
     "metadata": {},
     "output_type": "display_data"
    }
   ],
   "source": [
    "import molsysmt as msm"
   ]
  },
  {
   "cell_type": "code",
   "execution_count": 4,
   "id": "ccee6a78-3948-42f3-82e5-495ae3efbcc2",
   "metadata": {
    "execution": {
     "iopub.execute_input": "2025-04-14T05:20:55.624888Z",
     "iopub.status.busy": "2025-04-14T05:20:55.624506Z",
     "iopub.status.idle": "2025-04-14T05:20:57.748803Z",
     "shell.execute_reply": "2025-04-14T05:20:57.747817Z"
    }
   },
   "outputs": [],
   "source": [
    "molsys = msm.convert('1TCD')"
   ]
  },
  {
   "cell_type": "markdown",
   "id": "f64a20f2-1bc9-4870-9bbf-079d5ee2936a",
   "metadata": {},
   "source": [
    "Let’s inspect the current chain composition of the system."
   ]
  },
  {
   "cell_type": "markdown",
   "id": "a8223e95-a4ca-4687-9bad-cedab0b3a7a5",
   "metadata": {},
   "source": [
    "We now assign all water molecules to a new chain labeled `'C'`.  \n",
    "This does not alter the identity of existing chains but adds a new one for the selected atoms."
   ]
  },
  {
   "cell_type": "code",
   "execution_count": 5,
   "id": "389feed0-53f6-4ef7-a08d-5187cf4fe241",
   "metadata": {
    "execution": {
     "iopub.execute_input": "2025-04-14T05:20:57.751716Z",
     "iopub.status.busy": "2025-04-14T05:20:57.751280Z",
     "iopub.status.idle": "2025-04-14T05:20:59.274509Z",
     "shell.execute_reply": "2025-04-14T05:20:59.273650Z"
    }
   },
   "outputs": [
    {
     "data": {
      "text/html": [
       "<style type=\"text/css\">\n",
       "</style>\n",
       "<table id=\"T_a68fa\">\n",
       "  <thead>\n",
       "    <tr>\n",
       "      <th id=\"T_a68fa_level0_col0\" class=\"col_heading level0 col0\" >index</th>\n",
       "      <th id=\"T_a68fa_level0_col1\" class=\"col_heading level0 col1\" >id</th>\n",
       "      <th id=\"T_a68fa_level0_col2\" class=\"col_heading level0 col2\" >name</th>\n",
       "      <th id=\"T_a68fa_level0_col3\" class=\"col_heading level0 col3\" >n atoms</th>\n",
       "      <th id=\"T_a68fa_level0_col4\" class=\"col_heading level0 col4\" >n groups</th>\n",
       "      <th id=\"T_a68fa_level0_col5\" class=\"col_heading level0 col5\" >n components</th>\n",
       "      <th id=\"T_a68fa_level0_col6\" class=\"col_heading level0 col6\" >molecule index</th>\n",
       "      <th id=\"T_a68fa_level0_col7\" class=\"col_heading level0 col7\" >molecule type</th>\n",
       "      <th id=\"T_a68fa_level0_col8\" class=\"col_heading level0 col8\" >entity index</th>\n",
       "      <th id=\"T_a68fa_level0_col9\" class=\"col_heading level0 col9\" >entity name</th>\n",
       "    </tr>\n",
       "  </thead>\n",
       "  <tbody>\n",
       "    <tr>\n",
       "      <td id=\"T_a68fa_row0_col0\" class=\"data row0 col0\" >0</td>\n",
       "      <td id=\"T_a68fa_row0_col1\" class=\"data row0 col1\" >0</td>\n",
       "      <td id=\"T_a68fa_row0_col2\" class=\"data row0 col2\" >A</td>\n",
       "      <td id=\"T_a68fa_row0_col3\" class=\"data row0 col3\" >1906</td>\n",
       "      <td id=\"T_a68fa_row0_col4\" class=\"data row0 col4\" >248</td>\n",
       "      <td id=\"T_a68fa_row0_col5\" class=\"data row0 col5\" >1</td>\n",
       "      <td id=\"T_a68fa_row0_col6\" class=\"data row0 col6\" >0</td>\n",
       "      <td id=\"T_a68fa_row0_col7\" class=\"data row0 col7\" >protein</td>\n",
       "      <td id=\"T_a68fa_row0_col8\" class=\"data row0 col8\" >0</td>\n",
       "      <td id=\"T_a68fa_row0_col9\" class=\"data row0 col9\" >TRIOSEPHOSPHATE ISOMERASE</td>\n",
       "    </tr>\n",
       "    <tr>\n",
       "      <td id=\"T_a68fa_row1_col0\" class=\"data row1 col0\" >1</td>\n",
       "      <td id=\"T_a68fa_row1_col1\" class=\"data row1 col1\" >1</td>\n",
       "      <td id=\"T_a68fa_row1_col2\" class=\"data row1 col2\" >B</td>\n",
       "      <td id=\"T_a68fa_row1_col3\" class=\"data row1 col3\" >1912</td>\n",
       "      <td id=\"T_a68fa_row1_col4\" class=\"data row1 col4\" >249</td>\n",
       "      <td id=\"T_a68fa_row1_col5\" class=\"data row1 col5\" >1</td>\n",
       "      <td id=\"T_a68fa_row1_col6\" class=\"data row1 col6\" >1</td>\n",
       "      <td id=\"T_a68fa_row1_col7\" class=\"data row1 col7\" >protein</td>\n",
       "      <td id=\"T_a68fa_row1_col8\" class=\"data row1 col8\" >0</td>\n",
       "      <td id=\"T_a68fa_row1_col9\" class=\"data row1 col9\" >TRIOSEPHOSPHATE ISOMERASE</td>\n",
       "    </tr>\n",
       "    <tr>\n",
       "      <td id=\"T_a68fa_row2_col0\" class=\"data row2 col0\" >2</td>\n",
       "      <td id=\"T_a68fa_row2_col1\" class=\"data row2 col1\" >2</td>\n",
       "      <td id=\"T_a68fa_row2_col2\" class=\"data row2 col2\" >A</td>\n",
       "      <td id=\"T_a68fa_row2_col3\" class=\"data row2 col3\" >73</td>\n",
       "      <td id=\"T_a68fa_row2_col4\" class=\"data row2 col4\" >73</td>\n",
       "      <td id=\"T_a68fa_row2_col5\" class=\"data row2 col5\" >73</td>\n",
       "      <td id=\"T_a68fa_row2_col6\" class=\"data row2 col6\" >[2, 3, 4, 5, 6, 7, 8, 9, 10, 11, 12, 13, 14, 15, 16, 17, 18, 19, 20, 21, 22, 23, 24, 25, 26, 27, 28, 29, 30, 31, 32, 33, 34, 35, 36, 37, 38, 39, 40, 41, 42, 43, 44, 45, 46, 47, 48, 49, 50, 51, 52, 53, 54, 55, 56, 57, 58, 59, 60, 61, 62, 63, 64, 65, 66, 67, 68, 69, 70, 71, 72, 73, 74]</td>\n",
       "      <td id=\"T_a68fa_row2_col7\" class=\"data row2 col7\" >['water', 'water', 'water', 'water', 'water', 'water', 'water', 'water', 'water', 'water', 'water', 'water', 'water', 'water', 'water', 'water', 'water', 'water', 'water', 'water', 'water', 'water', 'water', 'water', 'water', 'water', 'water', 'water', 'water', 'water', 'water', 'water', 'water', 'water', 'water', 'water', 'water', 'water', 'water', 'water', 'water', 'water', 'water', 'water', 'water', 'water', 'water', 'water', 'water', 'water', 'water', 'water', 'water', 'water', 'water', 'water', 'water', 'water', 'water', 'water', 'water', 'water', 'water', 'water', 'water', 'water', 'water', 'water', 'water', 'water', 'water', 'water', 'water']</td>\n",
       "      <td id=\"T_a68fa_row2_col8\" class=\"data row2 col8\" >1</td>\n",
       "      <td id=\"T_a68fa_row2_col9\" class=\"data row2 col9\" >water</td>\n",
       "    </tr>\n",
       "    <tr>\n",
       "      <td id=\"T_a68fa_row3_col0\" class=\"data row3 col0\" >3</td>\n",
       "      <td id=\"T_a68fa_row3_col1\" class=\"data row3 col1\" >3</td>\n",
       "      <td id=\"T_a68fa_row3_col2\" class=\"data row3 col2\" >B</td>\n",
       "      <td id=\"T_a68fa_row3_col3\" class=\"data row3 col3\" >92</td>\n",
       "      <td id=\"T_a68fa_row3_col4\" class=\"data row3 col4\" >92</td>\n",
       "      <td id=\"T_a68fa_row3_col5\" class=\"data row3 col5\" >92</td>\n",
       "      <td id=\"T_a68fa_row3_col6\" class=\"data row3 col6\" >[75, 76, 77, 78, 79, 80, 81, 82, 83, 84, 85, 86, 87, 88, 89, 90, 91, 92, 93, 94, 95, 96, 97, 98, 99, 100, 101, 102, 103, 104, 105, 106, 107, 108, 109, 110, 111, 112, 113, 114, 115, 116, 117, 118, 119, 120, 121, 122, 123, 124, 125, 126, 127, 128, 129, 130, 131, 132, 133, 134, 135, 136, 137, 138, 139, 140, 141, 142, 143, 144, 145, 146, 147, 148, 149, 150, 151, 152, 153, 154, 155, 156, 157, 158, 159, 160, 161, 162, 163, 164, 165, 166]</td>\n",
       "      <td id=\"T_a68fa_row3_col7\" class=\"data row3 col7\" >['water', 'water', 'water', 'water', 'water', 'water', 'water', 'water', 'water', 'water', 'water', 'water', 'water', 'water', 'water', 'water', 'water', 'water', 'water', 'water', 'water', 'water', 'water', 'water', 'water', 'water', 'water', 'water', 'water', 'water', 'water', 'water', 'water', 'water', 'water', 'water', 'water', 'water', 'water', 'water', 'water', 'water', 'water', 'water', 'water', 'water', 'water', 'water', 'water', 'water', 'water', 'water', 'water', 'water', 'water', 'water', 'water', 'water', 'water', 'water', 'water', 'water', 'water', 'water', 'water', 'water', 'water', 'water', 'water', 'water', 'water', 'water', 'water', 'water', 'water', 'water', 'water', 'water', 'water', 'water', 'water', 'water', 'water', 'water', 'water', 'water', 'water', 'water', 'water', 'water', 'water', 'water']</td>\n",
       "      <td id=\"T_a68fa_row3_col8\" class=\"data row3 col8\" >1</td>\n",
       "      <td id=\"T_a68fa_row3_col9\" class=\"data row3 col9\" >water</td>\n",
       "    </tr>\n",
       "  </tbody>\n",
       "</table>\n"
      ],
      "text/plain": [
       "<pandas.io.formats.style.Styler at 0x75b9ed5759a0>"
      ]
     },
     "execution_count": 5,
     "metadata": {},
     "output_type": "execute_result"
    }
   ],
   "source": [
    "msm.info(molsys, element='chain')"
   ]
  },
  {
   "cell_type": "markdown",
   "id": "e4961435-5748-4b3b-a3eb-8a1c0e5a41c0",
   "metadata": {},
   "source": [
    "Let’s confirm that the water molecules have been grouped into a new chain."
   ]
  },
  {
   "cell_type": "code",
   "execution_count": 6,
   "id": "8fc5098b-fa56-423e-8b54-96d9065c4dc0",
   "metadata": {
    "execution": {
     "iopub.execute_input": "2025-04-14T05:20:59.278500Z",
     "iopub.status.busy": "2025-04-14T05:20:59.277678Z",
     "iopub.status.idle": "2025-04-14T05:21:00.122577Z",
     "shell.execute_reply": "2025-04-14T05:21:00.121835Z"
    }
   },
   "outputs": [],
   "source": [
    "msm.build.define_new_chain(molsys, selection='molecule_type==\"water\"', chain_name='C')"
   ]
  },
  {
   "cell_type": "code",
   "execution_count": 7,
   "id": "049dfc34-45d6-463d-a51f-b6d2958cb049",
   "metadata": {
    "execution": {
     "iopub.execute_input": "2025-04-14T05:21:00.125338Z",
     "iopub.status.busy": "2025-04-14T05:21:00.124670Z",
     "iopub.status.idle": "2025-04-14T05:21:01.035480Z",
     "shell.execute_reply": "2025-04-14T05:21:01.034660Z"
    }
   },
   "outputs": [
    {
     "data": {
      "text/html": [
       "<style type=\"text/css\">\n",
       "</style>\n",
       "<table id=\"T_3144f\">\n",
       "  <thead>\n",
       "    <tr>\n",
       "      <th id=\"T_3144f_level0_col0\" class=\"col_heading level0 col0\" >index</th>\n",
       "      <th id=\"T_3144f_level0_col1\" class=\"col_heading level0 col1\" >id</th>\n",
       "      <th id=\"T_3144f_level0_col2\" class=\"col_heading level0 col2\" >name</th>\n",
       "      <th id=\"T_3144f_level0_col3\" class=\"col_heading level0 col3\" >n atoms</th>\n",
       "      <th id=\"T_3144f_level0_col4\" class=\"col_heading level0 col4\" >n groups</th>\n",
       "      <th id=\"T_3144f_level0_col5\" class=\"col_heading level0 col5\" >n components</th>\n",
       "      <th id=\"T_3144f_level0_col6\" class=\"col_heading level0 col6\" >molecule index</th>\n",
       "      <th id=\"T_3144f_level0_col7\" class=\"col_heading level0 col7\" >molecule type</th>\n",
       "      <th id=\"T_3144f_level0_col8\" class=\"col_heading level0 col8\" >entity index</th>\n",
       "      <th id=\"T_3144f_level0_col9\" class=\"col_heading level0 col9\" >entity name</th>\n",
       "    </tr>\n",
       "  </thead>\n",
       "  <tbody>\n",
       "    <tr>\n",
       "      <td id=\"T_3144f_row0_col0\" class=\"data row0 col0\" >0</td>\n",
       "      <td id=\"T_3144f_row0_col1\" class=\"data row0 col1\" >0</td>\n",
       "      <td id=\"T_3144f_row0_col2\" class=\"data row0 col2\" >A</td>\n",
       "      <td id=\"T_3144f_row0_col3\" class=\"data row0 col3\" >1906</td>\n",
       "      <td id=\"T_3144f_row0_col4\" class=\"data row0 col4\" >248</td>\n",
       "      <td id=\"T_3144f_row0_col5\" class=\"data row0 col5\" >1</td>\n",
       "      <td id=\"T_3144f_row0_col6\" class=\"data row0 col6\" >0</td>\n",
       "      <td id=\"T_3144f_row0_col7\" class=\"data row0 col7\" >protein</td>\n",
       "      <td id=\"T_3144f_row0_col8\" class=\"data row0 col8\" >0</td>\n",
       "      <td id=\"T_3144f_row0_col9\" class=\"data row0 col9\" >TRIOSEPHOSPHATE ISOMERASE</td>\n",
       "    </tr>\n",
       "    <tr>\n",
       "      <td id=\"T_3144f_row1_col0\" class=\"data row1 col0\" >1</td>\n",
       "      <td id=\"T_3144f_row1_col1\" class=\"data row1 col1\" >1</td>\n",
       "      <td id=\"T_3144f_row1_col2\" class=\"data row1 col2\" >B</td>\n",
       "      <td id=\"T_3144f_row1_col3\" class=\"data row1 col3\" >1912</td>\n",
       "      <td id=\"T_3144f_row1_col4\" class=\"data row1 col4\" >249</td>\n",
       "      <td id=\"T_3144f_row1_col5\" class=\"data row1 col5\" >1</td>\n",
       "      <td id=\"T_3144f_row1_col6\" class=\"data row1 col6\" >1</td>\n",
       "      <td id=\"T_3144f_row1_col7\" class=\"data row1 col7\" >protein</td>\n",
       "      <td id=\"T_3144f_row1_col8\" class=\"data row1 col8\" >0</td>\n",
       "      <td id=\"T_3144f_row1_col9\" class=\"data row1 col9\" >TRIOSEPHOSPHATE ISOMERASE</td>\n",
       "    </tr>\n",
       "    <tr>\n",
       "      <td id=\"T_3144f_row2_col0\" class=\"data row2 col0\" >2</td>\n",
       "      <td id=\"T_3144f_row2_col1\" class=\"data row2 col1\" >2</td>\n",
       "      <td id=\"T_3144f_row2_col2\" class=\"data row2 col2\" >C</td>\n",
       "      <td id=\"T_3144f_row2_col3\" class=\"data row2 col3\" >165</td>\n",
       "      <td id=\"T_3144f_row2_col4\" class=\"data row2 col4\" >165</td>\n",
       "      <td id=\"T_3144f_row2_col5\" class=\"data row2 col5\" >165</td>\n",
       "      <td id=\"T_3144f_row2_col6\" class=\"data row2 col6\" >[2, 3, 4, 5, 6, 7, 8, 9, 10, 11, 12, 13, 14, 15, 16, 17, 18, 19, 20, 21, 22, 23, 24, 25, 26, 27, 28, 29, 30, 31, 32, 33, 34, 35, 36, 37, 38, 39, 40, 41, 42, 43, 44, 45, 46, 47, 48, 49, 50, 51, 52, 53, 54, 55, 56, 57, 58, 59, 60, 61, 62, 63, 64, 65, 66, 67, 68, 69, 70, 71, 72, 73, 74, 75, 76, 77, 78, 79, 80, 81, 82, 83, 84, 85, 86, 87, 88, 89, 90, 91, 92, 93, 94, 95, 96, 97, 98, 99, 100, 101, 102, 103, 104, 105, 106, 107, 108, 109, 110, 111, 112, 113, 114, 115, 116, 117, 118, 119, 120, 121, 122, 123, 124, 125, 126, 127, 128, 129, 130, 131, 132, 133, 134, 135, 136, 137, 138, 139, 140, 141, 142, 143, 144, 145, 146, 147, 148, 149, 150, 151, 152, 153, 154, 155, 156, 157, 158, 159, 160, 161, 162, 163, 164, 165, 166]</td>\n",
       "      <td id=\"T_3144f_row2_col7\" class=\"data row2 col7\" >['water', 'water', 'water', 'water', 'water', 'water', 'water', 'water', 'water', 'water', 'water', 'water', 'water', 'water', 'water', 'water', 'water', 'water', 'water', 'water', 'water', 'water', 'water', 'water', 'water', 'water', 'water', 'water', 'water', 'water', 'water', 'water', 'water', 'water', 'water', 'water', 'water', 'water', 'water', 'water', 'water', 'water', 'water', 'water', 'water', 'water', 'water', 'water', 'water', 'water', 'water', 'water', 'water', 'water', 'water', 'water', 'water', 'water', 'water', 'water', 'water', 'water', 'water', 'water', 'water', 'water', 'water', 'water', 'water', 'water', 'water', 'water', 'water', 'water', 'water', 'water', 'water', 'water', 'water', 'water', 'water', 'water', 'water', 'water', 'water', 'water', 'water', 'water', 'water', 'water', 'water', 'water', 'water', 'water', 'water', 'water', 'water', 'water', 'water', 'water', 'water', 'water', 'water', 'water', 'water', 'water', 'water', 'water', 'water', 'water', 'water', 'water', 'water', 'water', 'water', 'water', 'water', 'water', 'water', 'water', 'water', 'water', 'water', 'water', 'water', 'water', 'water', 'water', 'water', 'water', 'water', 'water', 'water', 'water', 'water', 'water', 'water', 'water', 'water', 'water', 'water', 'water', 'water', 'water', 'water', 'water', 'water', 'water', 'water', 'water', 'water', 'water', 'water', 'water', 'water', 'water', 'water', 'water', 'water', 'water', 'water', 'water', 'water', 'water', 'water']</td>\n",
       "      <td id=\"T_3144f_row2_col8\" class=\"data row2 col8\" >1</td>\n",
       "      <td id=\"T_3144f_row2_col9\" class=\"data row2 col9\" >water</td>\n",
       "    </tr>\n",
       "  </tbody>\n",
       "</table>\n"
      ],
      "text/plain": [
       "<pandas.io.formats.style.Styler at 0x75b9ed630ec0>"
      ]
     },
     "execution_count": 7,
     "metadata": {},
     "output_type": "execute_result"
    }
   ],
   "source": [
    "msm.info(molsys, element='chain')"
   ]
  },
  {
   "cell_type": "markdown",
   "id": "ed4072cc-f9f3-460f-8b5c-d6b93faa5619",
   "metadata": {},
   "source": [
    "This method is particularly useful when preparing systems for simulation, merging fragments, or when chain identity needs to be redefined after structural modifications.\n"
   ]
  },
  {
   "cell_type": "markdown",
   "id": "26723489-eeca-456f-b613-55ac55d127ce",
   "metadata": {},
   "source": [
    ":::{seealso}\n",
    "[User guide > Tools > Basic > Info](../basic/info.ipynb):  \n",
    "Display a summary of the system, including its chains.\n",
    "\n",
    "[User guide > Tools > Build > Merge](merge.ipynb):  \n",
    "Combine multiple molecular systems, which may require redefining chains.\n",
    "\n",
    "[User guide > Tools > Build > Add](add.ipynb):  \n",
    "Add elements from one molecular system into another.\n",
    "\n",
    "[User guide > Tools > Basic > Set](../basic/set.ipynb):  \n",
    "Change attribute values such as `chain_name` or `chain_id`.\n",
    ":::"
   ]
  }
 ],
 "metadata": {
  "kernelspec": {
   "display_name": "Python 3 (ipykernel)",
   "language": "python",
   "name": "python3"
  },
  "language_info": {
   "codemirror_mode": {
    "name": "ipython",
    "version": 3
   },
   "file_extension": ".py",
   "mimetype": "text/x-python",
   "name": "python",
   "nbconvert_exporter": "python",
   "pygments_lexer": "ipython3",
   "version": "3.12.9"
  },
  "widgets": {
   "application/vnd.jupyter.widget-state+json": {
    "state": {
     "40d1d3d67c9c4b51bc322557cc755aff": {
      "model_module": "nglview-js-widgets",
      "model_module_version": "3.0.8",
      "model_name": "ColormakerRegistryModel",
      "state": {
       "_dom_classes": [],
       "_model_module": "nglview-js-widgets",
       "_model_module_version": "3.0.8",
       "_model_name": "ColormakerRegistryModel",
       "_msg_ar": [],
       "_msg_q": [],
       "_ready": false,
       "_view_count": null,
       "_view_module": "nglview-js-widgets",
       "_view_module_version": "3.0.8",
       "_view_name": "ColormakerRegistryView",
       "layout": "IPY_MODEL_b9f910dad70b40e79c2b032aa86fbb36",
       "tabbable": null,
       "tooltip": null
      }
     },
     "b9f910dad70b40e79c2b032aa86fbb36": {
      "model_module": "@jupyter-widgets/base",
      "model_module_version": "2.0.0",
      "model_name": "LayoutModel",
      "state": {
       "_model_module": "@jupyter-widgets/base",
       "_model_module_version": "2.0.0",
       "_model_name": "LayoutModel",
       "_view_count": null,
       "_view_module": "@jupyter-widgets/base",
       "_view_module_version": "2.0.0",
       "_view_name": "LayoutView",
       "align_content": null,
       "align_items": null,
       "align_self": null,
       "border_bottom": null,
       "border_left": null,
       "border_right": null,
       "border_top": null,
       "bottom": null,
       "display": null,
       "flex": null,
       "flex_flow": null,
       "grid_area": null,
       "grid_auto_columns": null,
       "grid_auto_flow": null,
       "grid_auto_rows": null,
       "grid_column": null,
       "grid_gap": null,
       "grid_row": null,
       "grid_template_areas": null,
       "grid_template_columns": null,
       "grid_template_rows": null,
       "height": null,
       "justify_content": null,
       "justify_items": null,
       "left": null,
       "margin": null,
       "max_height": null,
       "max_width": null,
       "min_height": null,
       "min_width": null,
       "object_fit": null,
       "object_position": null,
       "order": null,
       "overflow": null,
       "padding": null,
       "right": null,
       "top": null,
       "visibility": null,
       "width": null
      }
     }
    },
    "version_major": 2,
    "version_minor": 0
   }
  }
 },
 "nbformat": 4,
 "nbformat_minor": 5
}
