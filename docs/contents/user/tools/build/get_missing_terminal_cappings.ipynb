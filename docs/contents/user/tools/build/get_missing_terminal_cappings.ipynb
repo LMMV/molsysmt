{
 "cells": [
  {
   "cell_type": "code",
   "execution_count": 1,
   "id": "1c11382e-f67d-466e-aee6-5725b4200a69",
   "metadata": {
    "execution": {
     "iopub.execute_input": "2025-03-11T21:06:40.539117Z",
     "iopub.status.busy": "2025-03-11T21:06:40.538257Z",
     "iopub.status.idle": "2025-03-11T21:06:40.577565Z",
     "shell.execute_reply": "2025-03-11T21:06:40.576363Z"
    }
   },
   "outputs": [],
   "source": [
    "%load_ext autoreload\n",
    "%autoreload 2"
   ]
  },
  {
   "cell_type": "code",
   "execution_count": 2,
   "id": "3775837e-62a7-4079-9661-372cc4563718",
   "metadata": {
    "execution": {
     "iopub.execute_input": "2025-03-11T21:06:40.581038Z",
     "iopub.status.busy": "2025-03-11T21:06:40.580468Z",
     "iopub.status.idle": "2025-03-11T21:06:49.760556Z",
     "shell.execute_reply": "2025-03-11T21:06:49.759746Z"
    }
   },
   "outputs": [
    {
     "data": {
      "application/vnd.jupyter.widget-view+json": {
       "model_id": "7f780c01a07f44ee8a019014ab923461",
       "version_major": 2,
       "version_minor": 0
      },
      "text/plain": []
     },
     "metadata": {},
     "output_type": "display_data"
    }
   ],
   "source": [
    "import molsysmt as msm"
   ]
  },
  {
   "cell_type": "markdown",
   "id": "2f6cd114-c906-428f-b51f-3f7ff6267132",
   "metadata": {},
   "source": [
    "# Get missing terminals"
   ]
  },
  {
   "cell_type": "code",
   "execution_count": 3,
   "id": "36127e9e-6811-4c65-bf88-b51c121b5265",
   "metadata": {
    "execution": {
     "iopub.execute_input": "2025-03-11T21:06:49.765023Z",
     "iopub.status.busy": "2025-03-11T21:06:49.764124Z",
     "iopub.status.idle": "2025-03-11T21:06:52.181034Z",
     "shell.execute_reply": "2025-03-11T21:06:52.180029Z"
    }
   },
   "outputs": [],
   "source": [
    "molecular_system = msm.convert('1BRS', to_form='molsysmt.MolSys')"
   ]
  },
  {
   "cell_type": "code",
   "execution_count": 4,
   "id": "ef7541b8-ac18-46d3-b6c1-3bd8dc6bf930",
   "metadata": {
    "execution": {
     "iopub.execute_input": "2025-03-11T21:06:52.185164Z",
     "iopub.status.busy": "2025-03-11T21:06:52.184382Z",
     "iopub.status.idle": "2025-03-11T21:06:54.628316Z",
     "shell.execute_reply": "2025-03-11T21:06:54.627268Z"
    }
   },
   "outputs": [],
   "source": [
    "aa = msm.build.get_missing_terminal_cappings(molecular_system)"
   ]
  },
  {
   "cell_type": "code",
   "execution_count": 5,
   "id": "f59096ed-7465-475c-a323-2522a24a68ef",
   "metadata": {
    "execution": {
     "iopub.execute_input": "2025-03-11T21:06:54.632267Z",
     "iopub.status.busy": "2025-03-11T21:06:54.631582Z",
     "iopub.status.idle": "2025-03-11T21:06:54.682905Z",
     "shell.execute_reply": "2025-03-11T21:06:54.682035Z"
    }
   },
   "outputs": [
    {
     "data": {
      "text/plain": [
       "{412: ['OXT']}"
      ]
     },
     "execution_count": 5,
     "metadata": {},
     "output_type": "execute_result"
    }
   ],
   "source": [
    "aa"
   ]
  },
  {
   "cell_type": "code",
   "execution_count": 6,
   "id": "50ce93dd-09d5-475f-8615-b90985c3dbc8",
   "metadata": {
    "execution": {
     "iopub.execute_input": "2025-03-11T21:06:54.686085Z",
     "iopub.status.busy": "2025-03-11T21:06:54.685691Z",
     "iopub.status.idle": "2025-03-11T21:06:54.993295Z",
     "shell.execute_reply": "2025-03-11T21:06:54.992241Z"
    }
   },
   "outputs": [
    {
     "data": {
      "text/plain": [
       "[863, 1741, 2580, 3938, 4637]"
      ]
     },
     "execution_count": 6,
     "metadata": {},
     "output_type": "execute_result"
    }
   ],
   "source": [
    "msm.select(molecular_system, selection='atom_name==\"OXT\"')"
   ]
  }
 ],
 "metadata": {
  "kernelspec": {
   "display_name": "Python 3 (ipykernel)",
   "language": "python",
   "name": "python3"
  },
  "language_info": {
   "codemirror_mode": {
    "name": "ipython",
    "version": 3
   },
   "file_extension": ".py",
   "mimetype": "text/x-python",
   "name": "python",
   "nbconvert_exporter": "python",
   "pygments_lexer": "ipython3",
   "version": "3.12.8"
  },
  "widgets": {
   "application/vnd.jupyter.widget-state+json": {
    "state": {
     "195dc9fcee8e44a397e0508d666f9ad7": {
      "model_module": "@jupyter-widgets/base",
      "model_module_version": "2.0.0",
      "model_name": "LayoutModel",
      "state": {
       "_model_module": "@jupyter-widgets/base",
       "_model_module_version": "2.0.0",
       "_model_name": "LayoutModel",
       "_view_count": null,
       "_view_module": "@jupyter-widgets/base",
       "_view_module_version": "2.0.0",
       "_view_name": "LayoutView",
       "align_content": null,
       "align_items": null,
       "align_self": null,
       "border_bottom": null,
       "border_left": null,
       "border_right": null,
       "border_top": null,
       "bottom": null,
       "display": null,
       "flex": null,
       "flex_flow": null,
       "grid_area": null,
       "grid_auto_columns": null,
       "grid_auto_flow": null,
       "grid_auto_rows": null,
       "grid_column": null,
       "grid_gap": null,
       "grid_row": null,
       "grid_template_areas": null,
       "grid_template_columns": null,
       "grid_template_rows": null,
       "height": null,
       "justify_content": null,
       "justify_items": null,
       "left": null,
       "margin": null,
       "max_height": null,
       "max_width": null,
       "min_height": null,
       "min_width": null,
       "object_fit": null,
       "object_position": null,
       "order": null,
       "overflow": null,
       "padding": null,
       "right": null,
       "top": null,
       "visibility": null,
       "width": null
      }
     },
     "7f780c01a07f44ee8a019014ab923461": {
      "model_module": "nglview-js-widgets",
      "model_module_version": "3.1.4",
      "model_name": "ColormakerRegistryModel",
      "state": {
       "_dom_classes": [],
       "_model_module": "nglview-js-widgets",
       "_model_module_version": "3.1.4",
       "_model_name": "ColormakerRegistryModel",
       "_msg_ar": [],
       "_msg_q": [],
       "_ready": false,
       "_view_count": null,
       "_view_module": "nglview-js-widgets",
       "_view_module_version": "3.1.4",
       "_view_name": "ColormakerRegistryView",
       "layout": "IPY_MODEL_195dc9fcee8e44a397e0508d666f9ad7",
       "tabbable": null,
       "tooltip": null
      }
     }
    },
    "version_major": 2,
    "version_minor": 0
   }
  }
 },
 "nbformat": 4,
 "nbformat_minor": 5
}
