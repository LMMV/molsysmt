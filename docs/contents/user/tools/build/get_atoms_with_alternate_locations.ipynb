{
 "cells": [
  {
   "cell_type": "code",
   "execution_count": 1,
   "id": "bea163c5-bb79-43c9-bf97-86568e78d223",
   "metadata": {
    "tags": [
     "remove-input"
    ]
   },
   "outputs": [],
   "source": [
    "# This cell is removed with the tag: \"remove-input\"\n",
    "# As such, it will not be shown in documentation\n",
    "\n",
    "import warnings\n",
    "warnings.filterwarnings('ignore')"
   ]
  },
  {
   "cell_type": "markdown",
   "id": "b55d7b5e-a64f-4869-9264-9a85b4a93388",
   "metadata": {},
   "source": [
    "(UserGuide_Tools_Build_GetAtomsWithAlternateLocations)=\n",
    "# Get atoms with alternate locations\n",
    "\n",
    "*Getting repeated atoms with alternate locations.*\n",
    "\n",
    "Structures solved experimentally and deposited in the Protein Data Bank can have atoms with multiple locations. MolSysMT includes a function in the 'build' module to report on these atoms: {func}`molsysmt.build.get_atoms_with_alternate_locations`\n",
    "\n",
    "To illustrate how this function work, let's check if the molecular system with PDB id 1BRS has atoms with alternate locations:"
   ]
  },
  {
   "cell_type": "code",
   "execution_count": 2,
   "id": "1a84382f-473b-4795-a01f-d7d619bf0c6e",
   "metadata": {
    "tags": []
   },
   "outputs": [
    {
     "data": {
      "application/vnd.jupyter.widget-view+json": {
       "model_id": "ef68075202714cf6baffea11362244e7",
       "version_major": 2,
       "version_minor": 0
      },
      "text/plain": []
     },
     "metadata": {},
     "output_type": "display_data"
    }
   ],
   "source": [
    "import molsysmt as msm"
   ]
  },
  {
   "cell_type": "code",
   "execution_count": 3,
   "id": "abcba03e-3ad7-4808-979c-2188dfeb96e4",
   "metadata": {},
   "outputs": [
    {
     "ename": "TypeError",
     "evalue": "get_alternate_location_from_atom() got an unexpected keyword argument 'structure_indices'",
     "output_type": "error",
     "traceback": [
      "\u001b[0;31m---------------------------------------------------------------------------\u001b[0m",
      "\u001b[0;31mTypeError\u001b[0m                                 Traceback (most recent call last)",
      "Cell \u001b[0;32mIn[3], line 1\u001b[0m\n\u001b[0;32m----> 1\u001b[0m \u001b[43mmsm\u001b[49m\u001b[38;5;241;43m.\u001b[39;49m\u001b[43mbuild\u001b[49m\u001b[38;5;241;43m.\u001b[39;49m\u001b[43mget_atoms_with_alternate_locations\u001b[49m\u001b[43m(\u001b[49m\u001b[38;5;124;43m'\u001b[39;49m\u001b[38;5;124;43m1BRS\u001b[39;49m\u001b[38;5;124;43m'\u001b[39;49m\u001b[43m)\u001b[49m\n",
      "File \u001b[0;32m~/projects@dprada/MolSysMT/molsysmt/_private/digestion/digest.py:116\u001b[0m, in \u001b[0;36mdigest.<locals>.digestor.<locals>.wrapper\u001b[0;34m(*args, **kwargs)\u001b[0m\n\u001b[1;32m    114\u001b[0m     \u001b[38;5;28;01mreturn\u001b[39;00m func(all_args[\u001b[38;5;124m'\u001b[39m\u001b[38;5;124mself\u001b[39m\u001b[38;5;124m'\u001b[39m], \u001b[38;5;241m*\u001b[39m\u001b[38;5;241m*\u001b[39mfinal_args)\n\u001b[1;32m    115\u001b[0m \u001b[38;5;28;01melse\u001b[39;00m:\n\u001b[0;32m--> 116\u001b[0m     \u001b[38;5;28;01mreturn\u001b[39;00m \u001b[43mfunc\u001b[49m\u001b[43m(\u001b[49m\u001b[38;5;241;43m*\u001b[39;49m\u001b[38;5;241;43m*\u001b[39;49m\u001b[43mfinal_args\u001b[49m\u001b[43m)\u001b[49m\n",
      "File \u001b[0;32m~/projects@dprada/MolSysMT/molsysmt/build/get_atoms_with_alternate_locations.py:11\u001b[0m, in \u001b[0;36mget_atoms_with_alternate_locations\u001b[0;34m(molecular_system)\u001b[0m\n\u001b[1;32m      7\u001b[0m \u001b[38;5;28;01mfrom\u001b[39;00m \u001b[38;5;21;01mmolsysmt\u001b[39;00m\u001b[38;5;21;01m.\u001b[39;00m\u001b[38;5;21;01mbasic\u001b[39;00m \u001b[38;5;28;01mimport\u001b[39;00m get\n\u001b[1;32m      9\u001b[0m output_atoms \u001b[38;5;241m=\u001b[39m []\n\u001b[0;32m---> 11\u001b[0m alternate_location \u001b[38;5;241m=\u001b[39m \u001b[43mget\u001b[49m\u001b[43m(\u001b[49m\u001b[43mmolecular_system\u001b[49m\u001b[43m,\u001b[49m\u001b[43m \u001b[49m\u001b[43melement\u001b[49m\u001b[38;5;241;43m=\u001b[39;49m\u001b[38;5;124;43m'\u001b[39;49m\u001b[38;5;124;43matom\u001b[39;49m\u001b[38;5;124;43m'\u001b[39;49m\u001b[43m,\u001b[49m\u001b[43m \u001b[49m\u001b[43malternate_location\u001b[49m\u001b[38;5;241;43m=\u001b[39;49m\u001b[38;5;28;43;01mTrue\u001b[39;49;00m\u001b[43m)\u001b[49m\n\u001b[1;32m     13\u001b[0m \u001b[38;5;28;01mif\u001b[39;00m \u001b[38;5;129;01mnot\u001b[39;00m np\u001b[38;5;241m.\u001b[39mall(alternate_location\u001b[38;5;241m==\u001b[39m\u001b[38;5;28;01mNone\u001b[39;00m):\n\u001b[1;32m     15\u001b[0m     atom_indices \u001b[38;5;241m=\u001b[39m np\u001b[38;5;241m.\u001b[39mwhere(alternate_location\u001b[38;5;241m!=\u001b[39m\u001b[38;5;28;01mNone\u001b[39;00m)[\u001b[38;5;241m0\u001b[39m]\n",
      "File \u001b[0;32m~/projects@dprada/MolSysMT/molsysmt/_private/digestion/digest.py:116\u001b[0m, in \u001b[0;36mdigest.<locals>.digestor.<locals>.wrapper\u001b[0;34m(*args, **kwargs)\u001b[0m\n\u001b[1;32m    114\u001b[0m     \u001b[38;5;28;01mreturn\u001b[39;00m func(all_args[\u001b[38;5;124m'\u001b[39m\u001b[38;5;124mself\u001b[39m\u001b[38;5;124m'\u001b[39m], \u001b[38;5;241m*\u001b[39m\u001b[38;5;241m*\u001b[39mfinal_args)\n\u001b[1;32m    115\u001b[0m \u001b[38;5;28;01melse\u001b[39;00m:\n\u001b[0;32m--> 116\u001b[0m     \u001b[38;5;28;01mreturn\u001b[39;00m \u001b[43mfunc\u001b[49m\u001b[43m(\u001b[49m\u001b[38;5;241;43m*\u001b[39;49m\u001b[38;5;241;43m*\u001b[39;49m\u001b[43mfinal_args\u001b[49m\u001b[43m)\u001b[49m\n",
      "File \u001b[0;32m~/projects@dprada/MolSysMT/molsysmt/basic/get.py:127\u001b[0m, in \u001b[0;36mget\u001b[0;34m(molecular_system, element, indices, selection, structure_indices, mask, syntax, output_type, **kwargs)\u001b[0m\n\u001b[1;32m    125\u001b[0m     \u001b[38;5;28;01melse\u001b[39;00m:\n\u001b[1;32m    126\u001b[0m         aux_get \u001b[38;5;241m=\u001b[39m \u001b[38;5;28mgetattr\u001b[39m(_dict_modules[aux_form], \u001b[38;5;124mf\u001b[39m\u001b[38;5;124m'\u001b[39m\u001b[38;5;124mget_\u001b[39m\u001b[38;5;132;01m{\u001b[39;00min_attribute\u001b[38;5;132;01m}\u001b[39;00m\u001b[38;5;124m_from_\u001b[39m\u001b[38;5;132;01m{\u001b[39;00melement\u001b[38;5;132;01m}\u001b[39;00m\u001b[38;5;124m'\u001b[39m)\n\u001b[0;32m--> 127\u001b[0m         result \u001b[38;5;241m=\u001b[39m \u001b[43maux_get\u001b[49m\u001b[43m(\u001b[49m\u001b[43maux_item\u001b[49m\u001b[43m,\u001b[49m\u001b[43m \u001b[49m\u001b[38;5;241;43m*\u001b[39;49m\u001b[38;5;241;43m*\u001b[39;49m\u001b[43mdict_indices\u001b[49m\u001b[43m)\u001b[49m\n\u001b[1;32m    129\u001b[0m \u001b[38;5;28;01melse\u001b[39;00m:\n\u001b[1;32m    131\u001b[0m     result \u001b[38;5;241m=\u001b[39m \u001b[38;5;28;01mNone\u001b[39;00m\n",
      "File \u001b[0;32m~/projects@dprada/MolSysMT/molsysmt/_private/digestion/digest.py:116\u001b[0m, in \u001b[0;36mdigest.<locals>.digestor.<locals>.wrapper\u001b[0;34m(*args, **kwargs)\u001b[0m\n\u001b[1;32m    114\u001b[0m     \u001b[38;5;28;01mreturn\u001b[39;00m func(all_args[\u001b[38;5;124m'\u001b[39m\u001b[38;5;124mself\u001b[39m\u001b[38;5;124m'\u001b[39m], \u001b[38;5;241m*\u001b[39m\u001b[38;5;241m*\u001b[39mfinal_args)\n\u001b[1;32m    115\u001b[0m \u001b[38;5;28;01melse\u001b[39;00m:\n\u001b[0;32m--> 116\u001b[0m     \u001b[38;5;28;01mreturn\u001b[39;00m \u001b[43mfunc\u001b[49m\u001b[43m(\u001b[49m\u001b[38;5;241;43m*\u001b[39;49m\u001b[38;5;241;43m*\u001b[39;49m\u001b[43mfinal_args\u001b[49m\u001b[43m)\u001b[49m\n",
      "\u001b[0;31mTypeError\u001b[0m: get_alternate_location_from_atom() got an unexpected keyword argument 'structure_indices'"
     ]
    }
   ],
   "source": [
    "msm.build.get_atoms_with_alternate_locations('1BRS')"
   ]
  },
  {
   "cell_type": "markdown",
   "id": "41cfb28f-7e03-4c14-8f47-959b554ab7d3",
   "metadata": {},
   "source": [
    "MolSysMT considers the occupancy factors and the alternate location labels as attributes of atoms. Thus, this could also be obtained with the 'basic' function {func}`molsysmt.basic.get`:"
   ]
  },
  {
   "cell_type": "code",
   "execution_count": null,
   "id": "ffbb88c9-b1e5-4bd2-b72c-50faa475836c",
   "metadata": {},
   "outputs": [],
   "source": [
    "msm.get('1BRS', element='atom', selection=[2686, 2688], occupancy=True, alternate_location=True)"
   ]
  },
  {
   "cell_type": "markdown",
   "id": "fdc31074-755f-4415-b752-11ea558f3350",
   "metadata": {},
   "source": [
    "And that's the reason why MolSysMT can perform selections with these attributes:"
   ]
  },
  {
   "cell_type": "code",
   "execution_count": null,
   "id": "48249584-8188-40d2-a355-431f878239ce",
   "metadata": {},
   "outputs": [],
   "source": [
    "msm.select('1BRS', selection='occupancy<1.0 and alternate_location==\"A\"')"
   ]
  },
  {
   "cell_type": "markdown",
   "id": "14ea1836-6004-4e37-9984-90feb9e22dc6",
   "metadata": {},
   "source": [
    "And what can we do when a molecular system has atoms with alternate locations? Figure it out in the documentation section XXX."
   ]
  },
  {
   "cell_type": "markdown",
   "id": "ab48ba10-b23e-4b88-9102-cd11a9f29f2f",
   "metadata": {},
   "source": [
    "```{admonition} See also\n",
    ":class: attention\n",
    "{func}`molsysmt.build.get_atoms_with_alternate_locations`, {func}`molsysmt.basic.get`, {func}`molsysmt.basic.select`\n",
    "```"
   ]
  }
 ],
 "metadata": {
  "kernelspec": {
   "display_name": "Python 3 (ipykernel)",
   "language": "python",
   "name": "python3"
  },
  "language_info": {
   "codemirror_mode": {
    "name": "ipython",
    "version": 3
   },
   "file_extension": ".py",
   "mimetype": "text/x-python",
   "name": "python",
   "nbconvert_exporter": "python",
   "pygments_lexer": "ipython3",
   "version": "3.9.16"
  }
 },
 "nbformat": 4,
 "nbformat_minor": 5
}
