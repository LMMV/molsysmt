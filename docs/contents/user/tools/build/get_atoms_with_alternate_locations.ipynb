{
 "cells": [
  {
   "cell_type": "code",
   "execution_count": 1,
   "id": "bea163c5-bb79-43c9-bf97-86568e78d223",
   "metadata": {
    "tags": [
     "remove-input"
    ]
   },
   "outputs": [],
   "source": [
    "# This cell is removed with the tag: \"remove-input\"\n",
    "# As such, it will not be shown in documentation\n",
    "\n",
    "import warnings\n",
    "warnings.filterwarnings('ignore')"
   ]
  },
  {
   "cell_type": "markdown",
   "id": "b55d7b5e-a64f-4869-9264-9a85b4a93388",
   "metadata": {},
   "source": [
    "(UserGuide_Tools_Build_GetAtomsWithAlternateLocations)=\n",
    "# Get atoms with alternate locations\n",
    "\n",
    "*Getting repeated atoms with alternate locations.*\n",
    "\n",
    "Structures solved experimentally and deposited in the Protein Data Bank can have atoms with multiple locations. MolSysMT includes a function in the 'build' module to report on these atoms: {func}`molsysmt.build.get_atoms_with_alternate_locations`\n",
    "\n",
    "To illustrate how this function work, let's check if the molecular system with PDB id 1BRS has atoms with alternate locations:"
   ]
  },
  {
   "cell_type": "code",
   "execution_count": 2,
   "id": "1a84382f-473b-4795-a01f-d7d619bf0c6e",
   "metadata": {},
   "outputs": [
    {
     "data": {
      "application/vnd.jupyter.widget-view+json": {
       "model_id": "83fb92e2aed34b589b80d5b59df6e686",
       "version_major": 2,
       "version_minor": 0
      },
      "text/plain": []
     },
     "metadata": {},
     "output_type": "display_data"
    }
   ],
   "source": [
    "import molsysmt as msm"
   ]
  },
  {
   "cell_type": "code",
   "execution_count": 3,
   "id": "abcba03e-3ad7-4808-979c-2188dfeb96e4",
   "metadata": {},
   "outputs": [
    {
     "data": {
      "text/plain": [
       "[array([2686, 2688]), array([2687, 2689])]"
      ]
     },
     "execution_count": 3,
     "metadata": {},
     "output_type": "execute_result"
    }
   ],
   "source": [
    "msm.build.get_atoms_with_alternate_locations('1BRS')"
   ]
  },
  {
   "cell_type": "markdown",
   "id": "41cfb28f-7e03-4c14-8f47-959b554ab7d3",
   "metadata": {},
   "source": [
    "MolSysMT considers the occupancy factors and the alternate location labels as attributes of atoms. Thus, this could also be obtained with the 'basic' function {func}`molsysmt.basic.get`:"
   ]
  },
  {
   "cell_type": "code",
   "execution_count": 4,
   "id": "ffbb88c9-b1e5-4bd2-b72c-50faa475836c",
   "metadata": {},
   "outputs": [
    {
     "data": {
      "text/plain": [
       "[array([0.5, 0.5]), array(['A', 'B'], dtype=object)]"
      ]
     },
     "execution_count": 4,
     "metadata": {},
     "output_type": "execute_result"
    }
   ],
   "source": [
    "msm.get('1BRS', element='atom', selection=[2686, 2688], occupancy=True, alternate_location=True)"
   ]
  },
  {
   "cell_type": "markdown",
   "id": "fdc31074-755f-4415-b752-11ea558f3350",
   "metadata": {},
   "source": [
    "And that's the reason why MolSysMT can perform selections with these attributes:"
   ]
  },
  {
   "cell_type": "code",
   "execution_count": 5,
   "id": "48249584-8188-40d2-a355-431f878239ce",
   "metadata": {},
   "outputs": [
    {
     "data": {
      "text/plain": [
       "array([2686, 2687])"
      ]
     },
     "execution_count": 5,
     "metadata": {},
     "output_type": "execute_result"
    }
   ],
   "source": [
    "msm.select('1BRS', selection='occupancy<1.0 and alternate_location==\"A\"')"
   ]
  },
  {
   "cell_type": "markdown",
   "id": "14ea1836-6004-4e37-9984-90feb9e22dc6",
   "metadata": {},
   "source": [
    "And what can we do when a molecular system has atoms with alternate locations? Figure it out in the documentation section XXX."
   ]
  },
  {
   "cell_type": "markdown",
   "id": "ab48ba10-b23e-4b88-9102-cd11a9f29f2f",
   "metadata": {},
   "source": [
    "```{admonition} See also\n",
    ":class: attention\n",
    "{func}`molsysmt.build.get_atoms_with_alternate_locations`, {func}`molsysmt.basic.get`, {func}`molsysmt.basic.select`\n",
    "```"
   ]
  }
 ],
 "metadata": {
  "kernelspec": {
   "display_name": "Python 3 (ipykernel)",
   "language": "python",
   "name": "python3"
  },
  "language_info": {
   "codemirror_mode": {
    "name": "ipython",
    "version": 3
   },
   "file_extension": ".py",
   "mimetype": "text/x-python",
   "name": "python",
   "nbconvert_exporter": "python",
   "pygments_lexer": "ipython3",
   "version": "3.9.13"
  }
 },
 "nbformat": 4,
 "nbformat_minor": 5
}
