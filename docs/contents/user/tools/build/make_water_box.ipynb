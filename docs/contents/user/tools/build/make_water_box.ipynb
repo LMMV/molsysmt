{
 "cells": [
  {
   "cell_type": "markdown",
   "id": "c212c3be-d0c0-48f4-a67c-76ba6d57f88e",
   "metadata": {},
   "source": [
    "# Make water box"
   ]
  },
  {
   "cell_type": "code",
   "execution_count": 1,
   "id": "0d86aa18-fcbf-411e-ac4d-6409cf1ef050",
   "metadata": {
    "execution": {
     "iopub.execute_input": "2025-04-14T03:04:20.983383Z",
     "iopub.status.busy": "2025-04-14T03:04:20.982392Z",
     "iopub.status.idle": "2025-04-14T03:04:25.390255Z",
     "shell.execute_reply": "2025-04-14T03:04:25.389659Z"
    }
   },
   "outputs": [
    {
     "data": {
      "application/vnd.jupyter.widget-view+json": {
       "model_id": "04f82389180e43f0a7e23aba5e4eb902",
       "version_major": 2,
       "version_minor": 0
      },
      "text/plain": []
     },
     "metadata": {},
     "output_type": "display_data"
    }
   ],
   "source": [
    "import molsysmt as msm\n",
    "from molsysmt import pyunitwizard as puw\n",
    "import numpy as np"
   ]
  },
  {
   "cell_type": "code",
   "execution_count": 2,
   "id": "8875d080-6e6b-4920-ab5f-41995b41832f",
   "metadata": {
    "execution": {
     "iopub.execute_input": "2025-04-14T03:04:25.392599Z",
     "iopub.status.busy": "2025-04-14T03:04:25.392205Z",
     "iopub.status.idle": "2025-04-14T03:04:25.396371Z",
     "shell.execute_reply": "2025-04-14T03:04:25.395638Z"
    }
   },
   "outputs": [],
   "source": [
    "box = np.zeros((3,3))\n",
    "box[0,0] = 5.0\n",
    "box[1,1] = 5.0\n",
    "box[2,2] = 3.0\n",
    "box = msm.pyunitwizard.quantity(box, 'nm')"
   ]
  },
  {
   "cell_type": "code",
   "execution_count": 3,
   "id": "e48fca0a-8fab-486c-9780-a99e1a4c8ca4",
   "metadata": {
    "execution": {
     "iopub.execute_input": "2025-04-14T03:04:25.398431Z",
     "iopub.status.busy": "2025-04-14T03:04:25.398190Z",
     "iopub.status.idle": "2025-04-14T03:04:25.503316Z",
     "shell.execute_reply": "2025-04-14T03:04:25.502630Z"
    }
   },
   "outputs": [],
   "source": [
    "molsys = msm.build.make_water_box(box)"
   ]
  },
  {
   "cell_type": "code",
   "execution_count": 4,
   "id": "b32dc412-31d4-4e91-8d2d-563d37d69b83",
   "metadata": {
    "execution": {
     "iopub.execute_input": "2025-04-14T03:04:25.505610Z",
     "iopub.status.busy": "2025-04-14T03:04:25.505205Z",
     "iopub.status.idle": "2025-04-14T03:04:27.465275Z",
     "shell.execute_reply": "2025-04-14T03:04:27.464639Z"
    }
   },
   "outputs": [
    {
     "data": {
      "text/html": [
       "<style type=\"text/css\">\n",
       "</style>\n",
       "<table id=\"T_e2ee2\">\n",
       "  <thead>\n",
       "    <tr>\n",
       "      <th id=\"T_e2ee2_level0_col0\" class=\"col_heading level0 col0\" >form</th>\n",
       "      <th id=\"T_e2ee2_level0_col1\" class=\"col_heading level0 col1\" >n_atoms</th>\n",
       "      <th id=\"T_e2ee2_level0_col2\" class=\"col_heading level0 col2\" >n_groups</th>\n",
       "      <th id=\"T_e2ee2_level0_col3\" class=\"col_heading level0 col3\" >n_components</th>\n",
       "      <th id=\"T_e2ee2_level0_col4\" class=\"col_heading level0 col4\" >n_chains</th>\n",
       "      <th id=\"T_e2ee2_level0_col5\" class=\"col_heading level0 col5\" >n_molecules</th>\n",
       "      <th id=\"T_e2ee2_level0_col6\" class=\"col_heading level0 col6\" >n_entities</th>\n",
       "      <th id=\"T_e2ee2_level0_col7\" class=\"col_heading level0 col7\" >n_waters</th>\n",
       "      <th id=\"T_e2ee2_level0_col8\" class=\"col_heading level0 col8\" >n_structures</th>\n",
       "    </tr>\n",
       "  </thead>\n",
       "  <tbody>\n",
       "    <tr>\n",
       "      <td id=\"T_e2ee2_row0_col0\" class=\"data row0 col0\" >molsysmt.MolSys</td>\n",
       "      <td id=\"T_e2ee2_row0_col1\" class=\"data row0 col1\" >7608</td>\n",
       "      <td id=\"T_e2ee2_row0_col2\" class=\"data row0 col2\" >2536</td>\n",
       "      <td id=\"T_e2ee2_row0_col3\" class=\"data row0 col3\" >2536</td>\n",
       "      <td id=\"T_e2ee2_row0_col4\" class=\"data row0 col4\" >1</td>\n",
       "      <td id=\"T_e2ee2_row0_col5\" class=\"data row0 col5\" >2536</td>\n",
       "      <td id=\"T_e2ee2_row0_col6\" class=\"data row0 col6\" >1</td>\n",
       "      <td id=\"T_e2ee2_row0_col7\" class=\"data row0 col7\" >2536</td>\n",
       "      <td id=\"T_e2ee2_row0_col8\" class=\"data row0 col8\" >1</td>\n",
       "    </tr>\n",
       "  </tbody>\n",
       "</table>\n"
      ],
      "text/plain": [
       "<pandas.io.formats.style.Styler at 0x713ee87480e0>"
      ]
     },
     "execution_count": 4,
     "metadata": {},
     "output_type": "execute_result"
    }
   ],
   "source": [
    "msm.info(molsys)"
   ]
  },
  {
   "cell_type": "code",
   "execution_count": 5,
   "id": "f8214bdc-bf12-4193-bfd8-7eee41293c77",
   "metadata": {
    "execution": {
     "iopub.execute_input": "2025-04-14T03:04:27.467985Z",
     "iopub.status.busy": "2025-04-14T03:04:27.467104Z",
     "iopub.status.idle": "2025-04-14T03:04:27.616292Z",
     "shell.execute_reply": "2025-04-14T03:04:27.615529Z"
    }
   },
   "outputs": [],
   "source": [
    "coordinates = msm.get(molsys, coordinates=True)"
   ]
  },
  {
   "cell_type": "code",
   "execution_count": 6,
   "id": "4ee11ba1-4546-4d54-80ae-cc90efea5fc0",
   "metadata": {
    "execution": {
     "iopub.execute_input": "2025-04-14T03:04:27.618729Z",
     "iopub.status.busy": "2025-04-14T03:04:27.618493Z",
     "iopub.status.idle": "2025-04-14T03:04:27.624432Z",
     "shell.execute_reply": "2025-04-14T03:04:27.623699Z"
    }
   },
   "outputs": [
    {
     "data": {
      "text/html": [
       "-0.04996999999999996 nanometer"
      ],
      "text/latex": [
       "$-0.04996999999999996\\ \\mathrm{nanometer}$"
      ],
      "text/plain": [
       "<Quantity(-0.04997, 'nanometer')>"
      ]
     },
     "execution_count": 6,
     "metadata": {},
     "output_type": "execute_result"
    }
   ],
   "source": [
    "coordinates[0,:,0].min()"
   ]
  },
  {
   "cell_type": "code",
   "execution_count": 7,
   "id": "1fb7d7b6-e158-4bff-81d2-5b6008d4cc42",
   "metadata": {
    "execution": {
     "iopub.execute_input": "2025-04-14T03:04:27.626957Z",
     "iopub.status.busy": "2025-04-14T03:04:27.626336Z",
     "iopub.status.idle": "2025-04-14T03:04:27.631445Z",
     "shell.execute_reply": "2025-04-14T03:04:27.630866Z"
    }
   },
   "outputs": [
    {
     "data": {
      "text/html": [
       "-0.06996999999999987 nanometer"
      ],
      "text/latex": [
       "$-0.06996999999999987\\ \\mathrm{nanometer}$"
      ],
      "text/plain": [
       "<Quantity(-0.06997, 'nanometer')>"
      ]
     },
     "execution_count": 7,
     "metadata": {},
     "output_type": "execute_result"
    }
   ],
   "source": [
    "coordinates[0,:,1].min()"
   ]
  },
  {
   "cell_type": "code",
   "execution_count": 8,
   "id": "683e7ae9-61e9-42d8-a7a8-64a535b0a2a6",
   "metadata": {
    "execution": {
     "iopub.execute_input": "2025-04-14T03:04:27.633713Z",
     "iopub.status.busy": "2025-04-14T03:04:27.633473Z",
     "iopub.status.idle": "2025-04-14T03:04:27.638753Z",
     "shell.execute_reply": "2025-04-14T03:04:27.638043Z"
    }
   },
   "outputs": [
    {
     "data": {
      "text/html": [
       "-0.05296999999999996 nanometer"
      ],
      "text/latex": [
       "$-0.05296999999999996\\ \\mathrm{nanometer}$"
      ],
      "text/plain": [
       "<Quantity(-0.05297, 'nanometer')>"
      ]
     },
     "execution_count": 8,
     "metadata": {},
     "output_type": "execute_result"
    }
   ],
   "source": [
    "coordinates[0,:,2].min()"
   ]
  },
  {
   "cell_type": "code",
   "execution_count": 9,
   "id": "1e8ce6a0-659f-46dc-8931-915bf967b212",
   "metadata": {
    "execution": {
     "iopub.execute_input": "2025-04-14T03:04:27.640654Z",
     "iopub.status.busy": "2025-04-14T03:04:27.640428Z",
     "iopub.status.idle": "2025-04-14T03:04:27.645491Z",
     "shell.execute_reply": "2025-04-14T03:04:27.644785Z"
    }
   },
   "outputs": [
    {
     "data": {
      "text/html": [
       "5.07115 nanometer"
      ],
      "text/latex": [
       "$5.07115\\ \\mathrm{nanometer}$"
      ],
      "text/plain": [
       "<Quantity(5.07115, 'nanometer')>"
      ]
     },
     "execution_count": 9,
     "metadata": {},
     "output_type": "execute_result"
    }
   ],
   "source": [
    "coordinates[0,:,0].max()"
   ]
  },
  {
   "cell_type": "code",
   "execution_count": 10,
   "id": "664ecc3b-ed8e-441a-bace-bb664b534631",
   "metadata": {
    "execution": {
     "iopub.execute_input": "2025-04-14T03:04:27.647621Z",
     "iopub.status.busy": "2025-04-14T03:04:27.647362Z",
     "iopub.status.idle": "2025-04-14T03:04:27.652300Z",
     "shell.execute_reply": "2025-04-14T03:04:27.651637Z"
    }
   },
   "outputs": [
    {
     "data": {
      "text/html": [
       "5.03215 nanometer"
      ],
      "text/latex": [
       "$5.03215\\ \\mathrm{nanometer}$"
      ],
      "text/plain": [
       "<Quantity(5.03215, 'nanometer')>"
      ]
     },
     "execution_count": 10,
     "metadata": {},
     "output_type": "execute_result"
    }
   ],
   "source": [
    "coordinates[0,:,1].max()"
   ]
  },
  {
   "cell_type": "code",
   "execution_count": 11,
   "id": "4b5bb535-ce61-4de7-b93d-b39de43e3eb2",
   "metadata": {
    "execution": {
     "iopub.execute_input": "2025-04-14T03:04:27.654514Z",
     "iopub.status.busy": "2025-04-14T03:04:27.654246Z",
     "iopub.status.idle": "2025-04-14T03:04:27.659476Z",
     "shell.execute_reply": "2025-04-14T03:04:27.658807Z"
    }
   },
   "outputs": [
    {
     "data": {
      "text/html": [
       "3.06909 nanometer"
      ],
      "text/latex": [
       "$3.06909\\ \\mathrm{nanometer}$"
      ],
      "text/plain": [
       "<Quantity(3.06909, 'nanometer')>"
      ]
     },
     "execution_count": 11,
     "metadata": {},
     "output_type": "execute_result"
    }
   ],
   "source": [
    "coordinates[0,:,2].max()"
   ]
  }
 ],
 "metadata": {
  "kernelspec": {
   "display_name": "Python 3 (ipykernel)",
   "language": "python",
   "name": "python3"
  },
  "language_info": {
   "codemirror_mode": {
    "name": "ipython",
    "version": 3
   },
   "file_extension": ".py",
   "mimetype": "text/x-python",
   "name": "python",
   "nbconvert_exporter": "python",
   "pygments_lexer": "ipython3",
   "version": "3.12.9"
  },
  "widgets": {
   "application/vnd.jupyter.widget-state+json": {
    "state": {
     "04f82389180e43f0a7e23aba5e4eb902": {
      "model_module": "nglview-js-widgets",
      "model_module_version": "3.0.8",
      "model_name": "ColormakerRegistryModel",
      "state": {
       "_dom_classes": [],
       "_model_module": "nglview-js-widgets",
       "_model_module_version": "3.0.8",
       "_model_name": "ColormakerRegistryModel",
       "_msg_ar": [],
       "_msg_q": [],
       "_ready": false,
       "_view_count": null,
       "_view_module": "nglview-js-widgets",
       "_view_module_version": "3.0.8",
       "_view_name": "ColormakerRegistryView",
       "layout": "IPY_MODEL_d90a637f8560466abf33c8d71724dda8",
       "tabbable": null,
       "tooltip": null
      }
     },
     "d90a637f8560466abf33c8d71724dda8": {
      "model_module": "@jupyter-widgets/base",
      "model_module_version": "2.0.0",
      "model_name": "LayoutModel",
      "state": {
       "_model_module": "@jupyter-widgets/base",
       "_model_module_version": "2.0.0",
       "_model_name": "LayoutModel",
       "_view_count": null,
       "_view_module": "@jupyter-widgets/base",
       "_view_module_version": "2.0.0",
       "_view_name": "LayoutView",
       "align_content": null,
       "align_items": null,
       "align_self": null,
       "border_bottom": null,
       "border_left": null,
       "border_right": null,
       "border_top": null,
       "bottom": null,
       "display": null,
       "flex": null,
       "flex_flow": null,
       "grid_area": null,
       "grid_auto_columns": null,
       "grid_auto_flow": null,
       "grid_auto_rows": null,
       "grid_column": null,
       "grid_gap": null,
       "grid_row": null,
       "grid_template_areas": null,
       "grid_template_columns": null,
       "grid_template_rows": null,
       "height": null,
       "justify_content": null,
       "justify_items": null,
       "left": null,
       "margin": null,
       "max_height": null,
       "max_width": null,
       "min_height": null,
       "min_width": null,
       "object_fit": null,
       "object_position": null,
       "order": null,
       "overflow": null,
       "padding": null,
       "right": null,
       "top": null,
       "visibility": null,
       "width": null
      }
     }
    },
    "version_major": 2,
    "version_minor": 0
   }
  }
 },
 "nbformat": 4,
 "nbformat_minor": 5
}
