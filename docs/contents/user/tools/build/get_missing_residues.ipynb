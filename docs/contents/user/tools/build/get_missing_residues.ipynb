{
 "cells": [
  {
   "cell_type": "code",
   "execution_count": 1,
   "id": "c3900f63-5852-49f3-9d82-446c2d219116",
   "metadata": {
    "execution": {
     "iopub.execute_input": "2025-03-11T21:06:58.436046Z",
     "iopub.status.busy": "2025-03-11T21:06:58.435673Z",
     "iopub.status.idle": "2025-03-11T21:06:58.493263Z",
     "shell.execute_reply": "2025-03-11T21:06:58.492433Z"
    }
   },
   "outputs": [],
   "source": [
    "%load_ext autoreload\n",
    "%autoreload 2"
   ]
  },
  {
   "cell_type": "code",
   "execution_count": 2,
   "id": "79f69f6c-49c4-43ca-928c-9936de5a1b77",
   "metadata": {
    "execution": {
     "iopub.execute_input": "2025-03-11T21:06:58.496627Z",
     "iopub.status.busy": "2025-03-11T21:06:58.496248Z",
     "iopub.status.idle": "2025-03-11T21:07:07.156183Z",
     "shell.execute_reply": "2025-03-11T21:07:07.155361Z"
    }
   },
   "outputs": [
    {
     "data": {
      "application/vnd.jupyter.widget-view+json": {
       "model_id": "84dbc003d9a04774aae203853f4f00cb",
       "version_major": 2,
       "version_minor": 0
      },
      "text/plain": []
     },
     "metadata": {},
     "output_type": "display_data"
    }
   ],
   "source": [
    "import molsysmt as msm"
   ]
  },
  {
   "cell_type": "markdown",
   "id": "ffc26562-8690-444b-adb1-d27e00d62d57",
   "metadata": {},
   "source": [
    "# Get missing residues"
   ]
  },
  {
   "cell_type": "code",
   "execution_count": 3,
   "id": "ae6fa8a5-da7d-4f2d-8a1f-096f9ca4b322",
   "metadata": {
    "execution": {
     "iopub.execute_input": "2025-03-11T21:07:07.160613Z",
     "iopub.status.busy": "2025-03-11T21:07:07.159767Z",
     "iopub.status.idle": "2025-03-11T21:07:09.086723Z",
     "shell.execute_reply": "2025-03-11T21:07:09.085761Z"
    }
   },
   "outputs": [],
   "source": [
    "molecular_system = msm.convert('1BRS', to_form='molsysmt.MolSys')"
   ]
  },
  {
   "cell_type": "code",
   "execution_count": 4,
   "id": "023b6a5b-3ecc-4345-9378-840b187736e8",
   "metadata": {
    "execution": {
     "iopub.execute_input": "2025-03-11T21:07:09.091048Z",
     "iopub.status.busy": "2025-03-11T21:07:09.090063Z",
     "iopub.status.idle": "2025-03-11T21:07:11.481126Z",
     "shell.execute_reply": "2025-03-11T21:07:11.480338Z"
    }
   },
   "outputs": [],
   "source": [
    "missing = msm.build.get_missing_residues(molecular_system)"
   ]
  },
  {
   "cell_type": "code",
   "execution_count": 5,
   "id": "a774b706-5b31-490a-8f83-f25126647a16",
   "metadata": {
    "execution": {
     "iopub.execute_input": "2025-03-11T21:07:11.483941Z",
     "iopub.status.busy": "2025-03-11T21:07:11.483597Z",
     "iopub.status.idle": "2025-03-11T21:07:11.541055Z",
     "shell.execute_reply": "2025-03-11T21:07:11.540066Z"
    }
   },
   "outputs": [
    {
     "data": {
      "text/plain": [
       "{}"
      ]
     },
     "execution_count": 5,
     "metadata": {},
     "output_type": "execute_result"
    }
   ],
   "source": [
    "missing"
   ]
  },
  {
   "cell_type": "code",
   "execution_count": null,
   "id": "134eafee-206c-4f63-876a-bcf42e658270",
   "metadata": {},
   "outputs": [],
   "source": []
  }
 ],
 "metadata": {
  "kernelspec": {
   "display_name": "Python 3 (ipykernel)",
   "language": "python",
   "name": "python3"
  },
  "language_info": {
   "codemirror_mode": {
    "name": "ipython",
    "version": 3
   },
   "file_extension": ".py",
   "mimetype": "text/x-python",
   "name": "python",
   "nbconvert_exporter": "python",
   "pygments_lexer": "ipython3",
   "version": "3.12.8"
  },
  "widgets": {
   "application/vnd.jupyter.widget-state+json": {
    "state": {
     "84dbc003d9a04774aae203853f4f00cb": {
      "model_module": "nglview-js-widgets",
      "model_module_version": "3.1.4",
      "model_name": "ColormakerRegistryModel",
      "state": {
       "_dom_classes": [],
       "_model_module": "nglview-js-widgets",
       "_model_module_version": "3.1.4",
       "_model_name": "ColormakerRegistryModel",
       "_msg_ar": [],
       "_msg_q": [],
       "_ready": false,
       "_view_count": null,
       "_view_module": "nglview-js-widgets",
       "_view_module_version": "3.1.4",
       "_view_name": "ColormakerRegistryView",
       "layout": "IPY_MODEL_ab96b65ad5f74d4b973453ce44ae5908",
       "tabbable": null,
       "tooltip": null
      }
     },
     "ab96b65ad5f74d4b973453ce44ae5908": {
      "model_module": "@jupyter-widgets/base",
      "model_module_version": "2.0.0",
      "model_name": "LayoutModel",
      "state": {
       "_model_module": "@jupyter-widgets/base",
       "_model_module_version": "2.0.0",
       "_model_name": "LayoutModel",
       "_view_count": null,
       "_view_module": "@jupyter-widgets/base",
       "_view_module_version": "2.0.0",
       "_view_name": "LayoutView",
       "align_content": null,
       "align_items": null,
       "align_self": null,
       "border_bottom": null,
       "border_left": null,
       "border_right": null,
       "border_top": null,
       "bottom": null,
       "display": null,
       "flex": null,
       "flex_flow": null,
       "grid_area": null,
       "grid_auto_columns": null,
       "grid_auto_flow": null,
       "grid_auto_rows": null,
       "grid_column": null,
       "grid_gap": null,
       "grid_row": null,
       "grid_template_areas": null,
       "grid_template_columns": null,
       "grid_template_rows": null,
       "height": null,
       "justify_content": null,
       "justify_items": null,
       "left": null,
       "margin": null,
       "max_height": null,
       "max_width": null,
       "min_height": null,
       "min_width": null,
       "object_fit": null,
       "object_position": null,
       "order": null,
       "overflow": null,
       "padding": null,
       "right": null,
       "top": null,
       "visibility": null,
       "width": null
      }
     }
    },
    "version_major": 2,
    "version_minor": 0
   }
  }
 },
 "nbformat": 4,
 "nbformat_minor": 5
}
