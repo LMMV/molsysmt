{
 "cells": [
  {
   "cell_type": "markdown",
   "id": "fd6e48f0",
   "metadata": {},
   "source": [
    "# Add bonds\n",
    "\n",
    "In this notebook, we will learn how to reconstruct covalent bonds in a molecular system, starting from a topology with no predefined bonds.\n"
   ]
  },
  {
   "cell_type": "code",
   "execution_count": null,
   "id": "762abb62",
   "metadata": {},
   "outputs": [],
   "source": [
    "# Suppress warnings (optional)\n",
    "import warnings\n",
    "warnings.filterwarnings('ignore')"
   ]
  },
  {
   "cell_type": "code",
   "execution_count": null,
   "id": "99d2c598",
   "metadata": {},
   "outputs": [],
   "source": [
    "import molsysmt as msm"
   ]
  },
  {
   "cell_type": "code",
   "execution_count": null,
   "id": "7b03d812",
   "metadata": {},
   "outputs": [],
   "source": [
    "# Load the alanine dipeptide system from molsysmt's built-in systems\n",
    "molsys = msm.systems['alanine dipeptide']['alanine_dipeptide.h5msm']"
   ]
  },
  {
   "cell_type": "code",
   "execution_count": null,
   "id": "a0991731",
   "metadata": {},
   "outputs": [],
   "source": [
    "# Convert to standard MolSys format\n",
    "molsys = msm.convert(molsys)"
   ]
  },
  {
   "cell_type": "code",
   "execution_count": null,
   "id": "213050a5",
   "metadata": {},
   "outputs": [],
   "source": [
    "# Remove all covalent bonds from the system\n",
    "msm.build.remove_bonds(molsys)"
   ]
  },
  {
   "cell_type": "code",
   "execution_count": null,
   "id": "a6866aa5",
   "metadata": {},
   "outputs": [],
   "source": [
    "# Check that the number of bonds is now zero\n",
    "msm.get(molsys, n_bonds=True)"
   ]
  },
  {
   "cell_type": "code",
   "execution_count": null,
   "id": "bfc1dfee",
   "metadata": {},
   "outputs": [],
   "source": [
    "# Add covalent bonds between specific atom pairs\n",
    "msm.build.add_bonds(molsys, bonded_atom_pairs=[[0,1], [0,2], [1,4]])"
   ]
  },
  {
   "cell_type": "code",
   "execution_count": null,
   "id": "9f8c7fec",
   "metadata": {},
   "outputs": [],
   "source": [
    "# Confirm that the number of bonds is now 3\n",
    "msm.get(molsys, n_bonds=True)"
   ]
  },
  {
   "cell_type": "code",
   "execution_count": null,
   "id": "6e04cd77",
   "metadata": {},
   "outputs": [],
   "source": [
    "# Retrieve the bonded atom pairs\n",
    "bonded_atom_pairs = msm.get(molsys, bonded_atom_pairs=True)"
   ]
  },
  {
   "cell_type": "code",
   "execution_count": null,
   "id": "e760d6b1",
   "metadata": {},
   "outputs": [],
   "source": [
    "# Validate that the correct bonds were added\n",
    "assert bonded_atom_pairs == [[0,1], [0,2], [1,4]]"
   ]
  }
 ],
 "metadata": {
  "kernelspec": {
   "display_name": "Python 3 (ipykernel)",
   "language": "python",
   "name": "python3"
  },
  "language_info": {
   "codemirror_mode": {
    "name": "ipython",
    "version": 3
   },
   "file_extension": ".py",
   "mimetype": "text/x-python",
   "name": "python",
   "nbconvert_exporter": "python",
   "pygments_lexer": "ipython3",
   "version": "3.12.9"
  }
 },
 "nbformat": 4,
 "nbformat_minor": 5
}
