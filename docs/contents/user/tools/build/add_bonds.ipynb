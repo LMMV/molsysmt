{
 "cells": [
  {
   "cell_type": "code",
   "execution_count": 1,
   "id": "3908cf62-3a4c-4c82-a061-e78f6f2f7097",
   "metadata": {
    "execution": {
     "iopub.execute_input": "2025-03-11T21:06:47.903432Z",
     "iopub.status.busy": "2025-03-11T21:06:47.902651Z",
     "iopub.status.idle": "2025-03-11T21:06:47.907657Z",
     "shell.execute_reply": "2025-03-11T21:06:47.906703Z"
    },
    "tags": [
     "remove-input"
    ]
   },
   "outputs": [],
   "source": [
    "# This cell is removed with the tag: \"remove-input\"\n",
    "# As such, it will not be shown in documentation\n",
    "\n",
    "#import warnings\n",
    "#warnings.filterwarnings('ignore')"
   ]
  },
  {
   "cell_type": "markdown",
   "id": "034d6a12-81b5-40fe-89a7-59046d378078",
   "metadata": {},
   "source": [
    "(Tutorial_Add_bonds)=\n",
    "# Add bonds\n",
    "\n",
    "To be written..."
   ]
  },
  {
   "cell_type": "code",
   "execution_count": 2,
   "id": "19c12010-9573-490a-89fa-f899756609d7",
   "metadata": {
    "execution": {
     "iopub.execute_input": "2025-03-11T21:06:47.911529Z",
     "iopub.status.busy": "2025-03-11T21:06:47.910896Z",
     "iopub.status.idle": "2025-03-11T21:06:56.821022Z",
     "shell.execute_reply": "2025-03-11T21:06:56.820067Z"
    }
   },
   "outputs": [
    {
     "data": {
      "application/vnd.jupyter.widget-view+json": {
       "model_id": "c5790e1aced5480fb12d24c91921b93b",
       "version_major": 2,
       "version_minor": 0
      },
      "text/plain": []
     },
     "metadata": {},
     "output_type": "display_data"
    }
   ],
   "source": [
    "import molsysmt as msm"
   ]
  },
  {
   "cell_type": "code",
   "execution_count": 3,
   "id": "7ebdbcb9-f241-472a-9a5e-63066fbb064b",
   "metadata": {
    "execution": {
     "iopub.execute_input": "2025-03-11T21:06:56.825191Z",
     "iopub.status.busy": "2025-03-11T21:06:56.824148Z",
     "iopub.status.idle": "2025-03-11T21:06:56.829122Z",
     "shell.execute_reply": "2025-03-11T21:06:56.828199Z"
    }
   },
   "outputs": [],
   "source": [
    "molsys = msm.systems['alanine dipeptide']['alanine_dipeptide.h5msm']"
   ]
  },
  {
   "cell_type": "code",
   "execution_count": 4,
   "id": "623d0cf1-e54f-438e-a7f5-fdab6e56d8af",
   "metadata": {
    "execution": {
     "iopub.execute_input": "2025-03-11T21:06:56.832552Z",
     "iopub.status.busy": "2025-03-11T21:06:56.832135Z",
     "iopub.status.idle": "2025-03-11T21:06:57.791871Z",
     "shell.execute_reply": "2025-03-11T21:06:57.790831Z"
    }
   },
   "outputs": [],
   "source": [
    "molsys = msm.convert(molsys)"
   ]
  },
  {
   "cell_type": "code",
   "execution_count": 5,
   "id": "ec89fe3d-b83c-495b-bc29-c1c1b3f58408",
   "metadata": {
    "execution": {
     "iopub.execute_input": "2025-03-11T21:06:57.796101Z",
     "iopub.status.busy": "2025-03-11T21:06:57.795027Z",
     "iopub.status.idle": "2025-03-11T21:06:57.955616Z",
     "shell.execute_reply": "2025-03-11T21:06:57.954618Z"
    }
   },
   "outputs": [],
   "source": [
    "msm.build.remove_bonds(molsys)"
   ]
  },
  {
   "cell_type": "code",
   "execution_count": 6,
   "id": "5357ae81-d988-48a5-9e5e-d61ce63a0dba",
   "metadata": {
    "execution": {
     "iopub.execute_input": "2025-03-11T21:06:57.959453Z",
     "iopub.status.busy": "2025-03-11T21:06:57.958886Z",
     "iopub.status.idle": "2025-03-11T21:06:58.260295Z",
     "shell.execute_reply": "2025-03-11T21:06:58.259617Z"
    }
   },
   "outputs": [
    {
     "data": {
      "text/plain": [
       "0"
      ]
     },
     "execution_count": 6,
     "metadata": {},
     "output_type": "execute_result"
    }
   ],
   "source": [
    "msm.get(molsys, n_bonds=True)"
   ]
  },
  {
   "cell_type": "code",
   "execution_count": 7,
   "id": "4ed0846f-048c-4184-96a1-07b649dcd9cf",
   "metadata": {
    "execution": {
     "iopub.execute_input": "2025-03-11T21:06:58.263362Z",
     "iopub.status.busy": "2025-03-11T21:06:58.263046Z",
     "iopub.status.idle": "2025-03-11T21:06:58.430498Z",
     "shell.execute_reply": "2025-03-11T21:06:58.429753Z"
    }
   },
   "outputs": [],
   "source": [
    "msm.build.add_bonds(molsys, bonded_atom_pairs=[[0,1], [0,2], [1,4]])"
   ]
  },
  {
   "cell_type": "code",
   "execution_count": 8,
   "id": "03abc0cd-29aa-45ac-9da3-bf470bd2d37f",
   "metadata": {
    "execution": {
     "iopub.execute_input": "2025-03-11T21:06:58.433499Z",
     "iopub.status.busy": "2025-03-11T21:06:58.433196Z",
     "iopub.status.idle": "2025-03-11T21:06:58.743748Z",
     "shell.execute_reply": "2025-03-11T21:06:58.742987Z"
    }
   },
   "outputs": [
    {
     "data": {
      "text/plain": [
       "3"
      ]
     },
     "execution_count": 8,
     "metadata": {},
     "output_type": "execute_result"
    }
   ],
   "source": [
    "msm.get(molsys, n_bonds=True)"
   ]
  },
  {
   "cell_type": "code",
   "execution_count": 9,
   "id": "1aa4d0b4-7985-43c1-a41b-d87870271e17",
   "metadata": {
    "execution": {
     "iopub.execute_input": "2025-03-11T21:06:58.748290Z",
     "iopub.status.busy": "2025-03-11T21:06:58.747093Z",
     "iopub.status.idle": "2025-03-11T21:06:59.078812Z",
     "shell.execute_reply": "2025-03-11T21:06:59.078039Z"
    }
   },
   "outputs": [],
   "source": [
    "bonded_atom_pairs = msm.get(molsys, bonded_atom_pairs=True)"
   ]
  },
  {
   "cell_type": "code",
   "execution_count": 10,
   "id": "1fa3f835-6ebc-4a17-b021-e1f4ed392785",
   "metadata": {
    "execution": {
     "iopub.execute_input": "2025-03-11T21:06:59.082058Z",
     "iopub.status.busy": "2025-03-11T21:06:59.081603Z",
     "iopub.status.idle": "2025-03-11T21:06:59.086505Z",
     "shell.execute_reply": "2025-03-11T21:06:59.085786Z"
    }
   },
   "outputs": [
    {
     "data": {
      "text/plain": [
       "True"
      ]
     },
     "execution_count": 10,
     "metadata": {},
     "output_type": "execute_result"
    }
   ],
   "source": [
    "bonded_atom_pairs == [[0,1], [0,2], [1,4]]"
   ]
  },
  {
   "cell_type": "code",
   "execution_count": null,
   "id": "ec17414f-e734-49a7-84e0-3fcde8284f4c",
   "metadata": {},
   "outputs": [],
   "source": []
  }
 ],
 "metadata": {
  "kernelspec": {
   "display_name": "Python 3 (ipykernel)",
   "language": "python",
   "name": "python3"
  },
  "language_info": {
   "codemirror_mode": {
    "name": "ipython",
    "version": 3
   },
   "file_extension": ".py",
   "mimetype": "text/x-python",
   "name": "python",
   "nbconvert_exporter": "python",
   "pygments_lexer": "ipython3",
   "version": "3.12.8"
  },
  "widgets": {
   "application/vnd.jupyter.widget-state+json": {
    "state": {
     "27b51a53105d481ebe4d1062212fc158": {
      "model_module": "@jupyter-widgets/base",
      "model_module_version": "2.0.0",
      "model_name": "LayoutModel",
      "state": {
       "_model_module": "@jupyter-widgets/base",
       "_model_module_version": "2.0.0",
       "_model_name": "LayoutModel",
       "_view_count": null,
       "_view_module": "@jupyter-widgets/base",
       "_view_module_version": "2.0.0",
       "_view_name": "LayoutView",
       "align_content": null,
       "align_items": null,
       "align_self": null,
       "border_bottom": null,
       "border_left": null,
       "border_right": null,
       "border_top": null,
       "bottom": null,
       "display": null,
       "flex": null,
       "flex_flow": null,
       "grid_area": null,
       "grid_auto_columns": null,
       "grid_auto_flow": null,
       "grid_auto_rows": null,
       "grid_column": null,
       "grid_gap": null,
       "grid_row": null,
       "grid_template_areas": null,
       "grid_template_columns": null,
       "grid_template_rows": null,
       "height": null,
       "justify_content": null,
       "justify_items": null,
       "left": null,
       "margin": null,
       "max_height": null,
       "max_width": null,
       "min_height": null,
       "min_width": null,
       "object_fit": null,
       "object_position": null,
       "order": null,
       "overflow": null,
       "padding": null,
       "right": null,
       "top": null,
       "visibility": null,
       "width": null
      }
     },
     "c5790e1aced5480fb12d24c91921b93b": {
      "model_module": "nglview-js-widgets",
      "model_module_version": "3.1.4",
      "model_name": "ColormakerRegistryModel",
      "state": {
       "_dom_classes": [],
       "_model_module": "nglview-js-widgets",
       "_model_module_version": "3.1.4",
       "_model_name": "ColormakerRegistryModel",
       "_msg_ar": [],
       "_msg_q": [],
       "_ready": false,
       "_view_count": null,
       "_view_module": "nglview-js-widgets",
       "_view_module_version": "3.1.4",
       "_view_name": "ColormakerRegistryView",
       "layout": "IPY_MODEL_27b51a53105d481ebe4d1062212fc158",
       "tabbable": null,
       "tooltip": null
      }
     }
    },
    "version_major": 2,
    "version_minor": 0
   }
  }
 },
 "nbformat": 4,
 "nbformat_minor": 5
}
