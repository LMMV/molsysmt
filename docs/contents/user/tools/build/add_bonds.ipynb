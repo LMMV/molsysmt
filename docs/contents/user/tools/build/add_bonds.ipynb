{
 "cells": [
  {
   "cell_type": "code",
   "execution_count": 1,
   "id": "3908cf62-3a4c-4c82-a061-e78f6f2f7097",
   "metadata": {
    "execution": {
     "iopub.execute_input": "2025-04-13T05:02:25.387602Z",
     "iopub.status.busy": "2025-04-13T05:02:25.386507Z",
     "iopub.status.idle": "2025-04-13T05:02:25.403889Z",
     "shell.execute_reply": "2025-04-13T05:02:25.401650Z"
    },
    "tags": [
     "remove-input"
    ]
   },
   "outputs": [],
   "source": [
    "# This cell is removed with the tag: \"remove-input\"\n",
    "# As such, it will not be shown in documentation\n",
    "\n",
    "#import warnings\n",
    "#warnings.filterwarnings('ignore')"
   ]
  },
  {
   "cell_type": "markdown",
   "id": "034d6a12-81b5-40fe-89a7-59046d378078",
   "metadata": {},
   "source": [
    "(Tutorial_Add_bonds)=\n",
    "# Add bonds\n",
    "\n",
    "*Adding new covalent bonds between atoms in a molecular system.*\n",
    "\n",
    "This function allows you to define new covalent bonds explicitly between atom pairs.\n",
    "It updates the molecular system's topology either in-place or by returning a copy.\n",
    "\n",
    ":::{versionadded} 1.0.0\n",
    ":::\n",
    "\n",
    "## How this function works\n",
    "\n",
    "```{admonition} API documentation\n",
    "Follow this link for a detailed description of the input arguments, raised errors, and returned objects of this function:{func}`molsysmt.build.add_bonds()`.\n",
    "```\n",
    "\n",
    "This function allows you to explicitly define new covalent bonds between atom pairs, updating the molecular system's topology either in-place or by returning a copy.\n",
    "\n",
    "We'll use the alanine dipeptide as an example. It comes with a predefined topology that includes bonded atoms. First, we remove the bonds to simulate a case where bonds are missing or being manually defined."
   ]
  },
  {
   "cell_type": "code",
   "execution_count": 2,
   "id": "19c12010-9573-490a-89fa-f899756609d7",
   "metadata": {
    "execution": {
     "iopub.execute_input": "2025-04-13T05:02:25.411714Z",
     "iopub.status.busy": "2025-04-13T05:02:25.410973Z",
     "iopub.status.idle": "2025-04-13T05:02:29.798726Z",
     "shell.execute_reply": "2025-04-13T05:02:29.797975Z"
    }
   },
   "outputs": [
    {
     "data": {
      "application/vnd.jupyter.widget-view+json": {
       "model_id": "21bce227c7ad4f8b942345c9e069441f",
       "version_major": 2,
       "version_minor": 0
      },
      "text/plain": []
     },
     "metadata": {},
     "output_type": "display_data"
    }
   ],
   "source": [
    "import molsysmt as msm"
   ]
  },
  {
   "cell_type": "code",
   "execution_count": 3,
   "id": "7ebdbcb9-f241-472a-9a5e-63066fbb064b",
   "metadata": {
    "execution": {
     "iopub.execute_input": "2025-04-13T05:02:29.801742Z",
     "iopub.status.busy": "2025-04-13T05:02:29.800645Z",
     "iopub.status.idle": "2025-04-13T05:02:29.804408Z",
     "shell.execute_reply": "2025-04-13T05:02:29.803739Z"
    }
   },
   "outputs": [],
   "source": [
    "molsys = msm.systems['alanine dipeptide']['alanine_dipeptide.h5msm']"
   ]
  },
  {
   "cell_type": "code",
   "execution_count": 4,
   "id": "623d0cf1-e54f-438e-a7f5-fdab6e56d8af",
   "metadata": {
    "execution": {
     "iopub.execute_input": "2025-04-13T05:02:29.806319Z",
     "iopub.status.busy": "2025-04-13T05:02:29.806058Z",
     "iopub.status.idle": "2025-04-13T05:02:30.145383Z",
     "shell.execute_reply": "2025-04-13T05:02:30.144647Z"
    }
   },
   "outputs": [],
   "source": [
    "molsys = msm.convert(molsys)"
   ]
  },
  {
   "cell_type": "code",
   "execution_count": 5,
   "id": "ec89fe3d-b83c-495b-bc29-c1c1b3f58408",
   "metadata": {
    "execution": {
     "iopub.execute_input": "2025-04-13T05:02:30.147793Z",
     "iopub.status.busy": "2025-04-13T05:02:30.147408Z",
     "iopub.status.idle": "2025-04-13T05:02:30.222278Z",
     "shell.execute_reply": "2025-04-13T05:02:30.221555Z"
    }
   },
   "outputs": [],
   "source": [
    "msm.build.remove_bonds(molsys)"
   ]
  },
  {
   "cell_type": "code",
   "execution_count": 6,
   "id": "5357ae81-d988-48a5-9e5e-d61ce63a0dba",
   "metadata": {
    "execution": {
     "iopub.execute_input": "2025-04-13T05:02:30.224675Z",
     "iopub.status.busy": "2025-04-13T05:02:30.224350Z",
     "iopub.status.idle": "2025-04-13T05:02:30.372521Z",
     "shell.execute_reply": "2025-04-13T05:02:30.371792Z"
    }
   },
   "outputs": [
    {
     "data": {
      "text/plain": [
       "0"
      ]
     },
     "execution_count": 6,
     "metadata": {},
     "output_type": "execute_result"
    }
   ],
   "source": [
    "msm.get(molsys, n_bonds=True)"
   ]
  },
  {
   "cell_type": "markdown",
   "id": "4df0bbb8-2007-4bde-922a-23292b7b665f",
   "metadata": {},
   "source": [
    "We now define new covalent bonds explicitly by providing atom index pairs.\n",
    "These are added to the molecular system using the {func}`molsysmt.build.add_bonds()` function."
   ]
  },
  {
   "cell_type": "code",
   "execution_count": 7,
   "id": "4ed0846f-048c-4184-96a1-07b649dcd9cf",
   "metadata": {
    "execution": {
     "iopub.execute_input": "2025-04-13T05:02:30.375143Z",
     "iopub.status.busy": "2025-04-13T05:02:30.374903Z",
     "iopub.status.idle": "2025-04-13T05:02:30.480584Z",
     "shell.execute_reply": "2025-04-13T05:02:30.479702Z"
    }
   },
   "outputs": [],
   "source": [
    "msm.build.add_bonds(molsys, bonded_atom_pairs=[[0,1], [0,2], [1,4]])"
   ]
  },
  {
   "cell_type": "markdown",
   "id": "fb1ff8ab-1d62-48bd-ad26-694474bb8c03",
   "metadata": {},
   "source": [
    "We can inspect the current list of bonded atom pairs to confirm the additions."
   ]
  },
  {
   "cell_type": "code",
   "execution_count": 8,
   "id": "03abc0cd-29aa-45ac-9da3-bf470bd2d37f",
   "metadata": {
    "execution": {
     "iopub.execute_input": "2025-04-13T05:02:30.482890Z",
     "iopub.status.busy": "2025-04-13T05:02:30.482666Z",
     "iopub.status.idle": "2025-04-13T05:02:30.621942Z",
     "shell.execute_reply": "2025-04-13T05:02:30.621145Z"
    }
   },
   "outputs": [
    {
     "data": {
      "text/plain": [
       "3"
      ]
     },
     "execution_count": 8,
     "metadata": {},
     "output_type": "execute_result"
    }
   ],
   "source": [
    "msm.get(molsys, n_bonds=True)"
   ]
  },
  {
   "cell_type": "code",
   "execution_count": 9,
   "id": "1aa4d0b4-7985-43c1-a41b-d87870271e17",
   "metadata": {
    "execution": {
     "iopub.execute_input": "2025-04-13T05:02:30.624436Z",
     "iopub.status.busy": "2025-04-13T05:02:30.624177Z",
     "iopub.status.idle": "2025-04-13T05:02:30.768189Z",
     "shell.execute_reply": "2025-04-13T05:02:30.767434Z"
    }
   },
   "outputs": [
    {
     "data": {
      "text/plain": [
       "[[0, 1], [0, 2], [1, 4]]"
      ]
     },
     "execution_count": 9,
     "metadata": {},
     "output_type": "execute_result"
    }
   ],
   "source": [
    "msm.get(molsys, bonded_atom_pairs=True)"
   ]
  },
  {
   "cell_type": "markdown",
   "id": "46dcb89f-30ce-4ac1-b951-059cd70913a9",
   "metadata": {},
   "source": [
    ":::{seealso}\n",
    "[User guide > Tools > Build > Remove bonds](remove_bonds.ipynb):    \n",
    "Remove selected covalent bonds from a molecular system.\n",
    "\n",
    "[User guide > Tools > Build > Add missing bonds](add_missing_bonds.ipynb):    \n",
    "Automatically identify and add missing covalent bonds based on distances and atomic types.\n",
    "\n",
    "[User guide > Tools > Basic > Convert](../basic/convert.ipynb): \n",
    "Convert between different molecular system formats.\n",
    "\n",
    "[User guide > Tools > Basic > Get](../basic/get.ipynb): \n",
    "Access attribute values like `bonded_atoms`, `atom_name`, etc.\n",
    "\n",
    ":::"
   ]
  }
 ],
 "metadata": {
  "kernelspec": {
   "display_name": "Python 3 (ipykernel)",
   "language": "python",
   "name": "python3"
  },
  "language_info": {
   "codemirror_mode": {
    "name": "ipython",
    "version": 3
   },
   "file_extension": ".py",
   "mimetype": "text/x-python",
   "name": "python",
   "nbconvert_exporter": "python",
   "pygments_lexer": "ipython3",
   "version": "3.12.9"
  },
  "widgets": {
   "application/vnd.jupyter.widget-state+json": {
    "state": {
     "21bce227c7ad4f8b942345c9e069441f": {
      "model_module": "nglview-js-widgets",
      "model_module_version": "3.0.8",
      "model_name": "ColormakerRegistryModel",
      "state": {
       "_dom_classes": [],
       "_model_module": "nglview-js-widgets",
       "_model_module_version": "3.0.8",
       "_model_name": "ColormakerRegistryModel",
       "_msg_ar": [],
       "_msg_q": [],
       "_ready": false,
       "_view_count": null,
       "_view_module": "nglview-js-widgets",
       "_view_module_version": "3.0.8",
       "_view_name": "ColormakerRegistryView",
       "layout": "IPY_MODEL_8a0a4c56272d4b99902dd0cbc16aff56",
       "tabbable": null,
       "tooltip": null
      }
     },
     "8a0a4c56272d4b99902dd0cbc16aff56": {
      "model_module": "@jupyter-widgets/base",
      "model_module_version": "2.0.0",
      "model_name": "LayoutModel",
      "state": {
       "_model_module": "@jupyter-widgets/base",
       "_model_module_version": "2.0.0",
       "_model_name": "LayoutModel",
       "_view_count": null,
       "_view_module": "@jupyter-widgets/base",
       "_view_module_version": "2.0.0",
       "_view_name": "LayoutView",
       "align_content": null,
       "align_items": null,
       "align_self": null,
       "border_bottom": null,
       "border_left": null,
       "border_right": null,
       "border_top": null,
       "bottom": null,
       "display": null,
       "flex": null,
       "flex_flow": null,
       "grid_area": null,
       "grid_auto_columns": null,
       "grid_auto_flow": null,
       "grid_auto_rows": null,
       "grid_column": null,
       "grid_gap": null,
       "grid_row": null,
       "grid_template_areas": null,
       "grid_template_columns": null,
       "grid_template_rows": null,
       "height": null,
       "justify_content": null,
       "justify_items": null,
       "left": null,
       "margin": null,
       "max_height": null,
       "max_width": null,
       "min_height": null,
       "min_width": null,
       "object_fit": null,
       "object_position": null,
       "order": null,
       "overflow": null,
       "padding": null,
       "right": null,
       "top": null,
       "visibility": null,
       "width": null
      }
     }
    },
    "version_major": 2,
    "version_minor": 0
   }
  }
 },
 "nbformat": 4,
 "nbformat_minor": 5
}
