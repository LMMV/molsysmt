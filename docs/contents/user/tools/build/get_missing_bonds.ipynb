{
 "cells": [
  {
   "cell_type": "code",
   "execution_count": 1,
   "id": "3908cf62-3a4c-4c82-a061-e78f6f2f7097",
   "metadata": {
    "tags": [
     "remove-input"
    ]
   },
   "outputs": [],
   "source": [
    "# This cell is removed with the tag: \"remove-input\"\n",
    "# As such, it will not be shown in documentation\n",
    "\n",
    "import warnings\n",
    "warnings.filterwarnings('ignore')"
   ]
  },
  {
   "cell_type": "markdown",
   "id": "034d6a12-81b5-40fe-89a7-59046d378078",
   "metadata": {},
   "source": [
    "(UserGuide_Tools_Build_GetMissingBonds)=\n",
    "# Get missing bonds\n",
    "\n",
    "*Getting the missing bonds.*\n",
    "\n",
    "A molecular system can have missing bonds. The function {func}`molsysmt.build.get_missing_bonds` can detect this lack of bonds returning the pairs of atoms that should be covalently bonded. Let's see this function in action:"
   ]
  },
  {
   "cell_type": "code",
   "execution_count": 2,
   "id": "6994fe5b-cabb-4d79-a681-8634f0c86395",
   "metadata": {},
   "outputs": [
    {
     "data": {
      "application/vnd.jupyter.widget-view+json": {
       "model_id": "cf91fe290a42435ca15d571176393b22",
       "version_major": 2,
       "version_minor": 0
      },
      "text/plain": []
     },
     "metadata": {},
     "output_type": "display_data"
    }
   ],
   "source": [
    "import molsysmt as msm"
   ]
  },
  {
   "cell_type": "code",
   "execution_count": 3,
   "id": "1a26a924-bbc4-476c-a66a-972b36021d12",
   "metadata": {},
   "outputs": [],
   "source": [
    "molecular_system = msm.convert(msm.demo['nglview']['md_1u19.pdb'], to_form='molsysmt.MolSys')"
   ]
  },
  {
   "cell_type": "code",
   "execution_count": 4,
   "id": "6f331d2e-57ec-47e6-8520-2b63d3d1682a",
   "metadata": {},
   "outputs": [
    {
     "data": {
      "text/html": [
       "<style type=\"text/css\">\n",
       "</style>\n",
       "<table id=\"T_2351c\">\n",
       "  <thead>\n",
       "    <tr>\n",
       "      <th id=\"T_2351c_level0_col0\" class=\"col_heading level0 col0\" >form</th>\n",
       "      <th id=\"T_2351c_level0_col1\" class=\"col_heading level0 col1\" >n_atoms</th>\n",
       "      <th id=\"T_2351c_level0_col2\" class=\"col_heading level0 col2\" >n_groups</th>\n",
       "      <th id=\"T_2351c_level0_col3\" class=\"col_heading level0 col3\" >n_components</th>\n",
       "      <th id=\"T_2351c_level0_col4\" class=\"col_heading level0 col4\" >n_chains</th>\n",
       "      <th id=\"T_2351c_level0_col5\" class=\"col_heading level0 col5\" >n_molecules</th>\n",
       "      <th id=\"T_2351c_level0_col6\" class=\"col_heading level0 col6\" >n_entities</th>\n",
       "      <th id=\"T_2351c_level0_col7\" class=\"col_heading level0 col7\" >n_peptides</th>\n",
       "      <th id=\"T_2351c_level0_col8\" class=\"col_heading level0 col8\" >n_proteins</th>\n",
       "      <th id=\"T_2351c_level0_col9\" class=\"col_heading level0 col9\" >n_structures</th>\n",
       "    </tr>\n",
       "  </thead>\n",
       "  <tbody>\n",
       "    <tr>\n",
       "      <td id=\"T_2351c_row0_col0\" class=\"data row0 col0\" >molsysmt.MolSys</td>\n",
       "      <td id=\"T_2351c_row0_col1\" class=\"data row0 col1\" >5547</td>\n",
       "      <td id=\"T_2351c_row0_col2\" class=\"data row0 col2\" >349</td>\n",
       "      <td id=\"T_2351c_row0_col3\" class=\"data row0 col3\" >151</td>\n",
       "      <td id=\"T_2351c_row0_col4\" class=\"data row0 col4\" >1</td>\n",
       "      <td id=\"T_2351c_row0_col5\" class=\"data row0 col5\" >151</td>\n",
       "      <td id=\"T_2351c_row0_col6\" class=\"data row0 col6\" >30</td>\n",
       "      <td id=\"T_2351c_row0_col7\" class=\"data row0 col7\" >27</td>\n",
       "      <td id=\"T_2351c_row0_col8\" class=\"data row0 col8\" >2</td>\n",
       "      <td id=\"T_2351c_row0_col9\" class=\"data row0 col9\" >1</td>\n",
       "    </tr>\n",
       "  </tbody>\n",
       "</table>\n"
      ],
      "text/plain": [
       "<pandas.io.formats.style.Styler at 0x7f34b828d2b0>"
      ]
     },
     "execution_count": 4,
     "metadata": {},
     "output_type": "execute_result"
    }
   ],
   "source": [
    "msm.info(molecular_system)"
   ]
  },
  {
   "cell_type": "code",
   "execution_count": 5,
   "id": "61139353-c7df-463d-8f9c-686669cec935",
   "metadata": {},
   "outputs": [
    {
     "data": {
      "text/plain": [
       "5481"
      ]
     },
     "execution_count": 5,
     "metadata": {},
     "output_type": "execute_result"
    }
   ],
   "source": [
    "msm.get(molecular_system, n_bonds=True)"
   ]
  },
  {
   "cell_type": "code",
   "execution_count": 6,
   "id": "5b2032f9-5674-4190-9fcd-bf97eaf26ede",
   "metadata": {},
   "outputs": [
    {
     "ename": "UnboundLocalError",
     "evalue": "local variable 'atom_indices_1' referenced before assignment",
     "output_type": "error",
     "traceback": [
      "\u001b[0;31m---------------------------------------------------------------------------\u001b[0m",
      "\u001b[0;31mUnboundLocalError\u001b[0m                         Traceback (most recent call last)",
      "Cell \u001b[0;32mIn [6], line 1\u001b[0m\n\u001b[0;32m----> 1\u001b[0m \u001b[43mmsm\u001b[49m\u001b[38;5;241;43m.\u001b[39;49m\u001b[43mbuild\u001b[49m\u001b[38;5;241;43m.\u001b[39;49m\u001b[43mget_missing_bonds\u001b[49m\u001b[43m(\u001b[49m\u001b[43mmolecular_system\u001b[49m\u001b[43m,\u001b[49m\u001b[43m \u001b[49m\u001b[43mthreshold\u001b[49m\u001b[38;5;241;43m=\u001b[39;49m\u001b[38;5;124;43m'\u001b[39;49m\u001b[38;5;124;43m2.0 angstroms\u001b[39;49m\u001b[38;5;124;43m'\u001b[39;49m\u001b[43m)\u001b[49m\n",
      "File \u001b[0;32m~/projects@dprada/MolSysMT/molsysmt/_private/digestion/digest.py:119\u001b[0m, in \u001b[0;36mdigest.<locals>.digestor.<locals>.wrapper\u001b[0;34m(*args, **kwargs)\u001b[0m\n\u001b[1;32m    117\u001b[0m     \u001b[38;5;28;01mreturn\u001b[39;00m auxiliary_output\n\u001b[1;32m    118\u001b[0m \u001b[38;5;28;01melse\u001b[39;00m:\n\u001b[0;32m--> 119\u001b[0m     \u001b[38;5;28;01mreturn\u001b[39;00m \u001b[43mfunc\u001b[49m\u001b[43m(\u001b[49m\u001b[38;5;241;43m*\u001b[39;49m\u001b[38;5;241;43m*\u001b[39;49m\u001b[43mfinal_args\u001b[49m\u001b[43m)\u001b[49m\n",
      "File \u001b[0;32m~/projects@dprada/MolSysMT/molsysmt/build/get_missing_bonds.py:30\u001b[0m, in \u001b[0;36mget_missing_bonds\u001b[0;34m(molecular_system, threshold, selection, structure_indices, syntax, engine)\u001b[0m\n\u001b[1;32m     27\u001b[0m     \u001b[38;5;28;01mif\u001b[39;00m old_bonds[ii][\u001b[38;5;241m0\u001b[39m]\u001b[38;5;241m>\u001b[39mold_bonds[ii][\u001b[38;5;241m1\u001b[39m]:\n\u001b[1;32m     28\u001b[0m         old_bonds[ii][\u001b[38;5;241m0\u001b[39m], old_bonds[ii][\u001b[38;5;241m1\u001b[39m] \u001b[38;5;241m=\u001b[39m old_bonds[ii][\u001b[38;5;241m1\u001b[39m], old_bonds[ii][\u001b[38;5;241m0\u001b[39m]\n\u001b[0;32m---> 30\u001b[0m neighbors, distance \u001b[38;5;241m=\u001b[39m \u001b[43mget_neighbors\u001b[49m\u001b[43m(\u001b[49m\u001b[43mmolecular_system\u001b[49m\u001b[43m,\u001b[49m\u001b[43m \u001b[49m\u001b[43mselection\u001b[49m\u001b[38;5;241;43m=\u001b[39;49m\u001b[43matom_indices\u001b[49m\u001b[43m,\u001b[49m\n\u001b[1;32m     31\u001b[0m \u001b[43m                                    \u001b[49m\u001b[43mselection_2\u001b[49m\u001b[38;5;241;43m=\u001b[39;49m\u001b[43matom_indices\u001b[49m\u001b[43m,\u001b[49m\u001b[43m \u001b[49m\u001b[43mthreshold\u001b[49m\u001b[38;5;241;43m=\u001b[39;49m\u001b[43mthreshold\u001b[49m\u001b[43m,\u001b[49m\u001b[43m \u001b[49m\u001b[43moutput\u001b[49m\u001b[38;5;241;43m=\u001b[39;49m\u001b[38;5;124;43m'\u001b[39;49m\u001b[38;5;124;43mdict\u001b[39;49m\u001b[38;5;124;43m'\u001b[39;49m\u001b[43m)\u001b[49m\n\u001b[1;32m     33\u001b[0m \u001b[38;5;28;01mfor\u001b[39;00m atom_i, atom_j \u001b[38;5;129;01min\u001b[39;00m old_bonds:\n\u001b[1;32m     34\u001b[0m     \u001b[38;5;28;01mfor\u001b[39;00m kk, neighbors_frame \u001b[38;5;129;01min\u001b[39;00m \u001b[38;5;28menumerate\u001b[39m(neighbors):\n",
      "File \u001b[0;32m~/projects@dprada/MolSysMT/molsysmt/_private/digestion/digest.py:119\u001b[0m, in \u001b[0;36mdigest.<locals>.digestor.<locals>.wrapper\u001b[0;34m(*args, **kwargs)\u001b[0m\n\u001b[1;32m    117\u001b[0m     \u001b[38;5;28;01mreturn\u001b[39;00m auxiliary_output\n\u001b[1;32m    118\u001b[0m \u001b[38;5;28;01melse\u001b[39;00m:\n\u001b[0;32m--> 119\u001b[0m     \u001b[38;5;28;01mreturn\u001b[39;00m \u001b[43mfunc\u001b[49m\u001b[43m(\u001b[49m\u001b[38;5;241;43m*\u001b[39;49m\u001b[38;5;241;43m*\u001b[39;49m\u001b[43mfinal_args\u001b[49m\u001b[43m)\u001b[49m\n",
      "File \u001b[0;32m~/projects@dprada/MolSysMT/molsysmt/structure/get_neighbors.py:134\u001b[0m, in \u001b[0;36mget_neighbors\u001b[0;34m(molecular_system, selection, groups_of_atoms, group_behavior, structure_indices, molecular_system_2, selection_2, groups_of_atoms_2, group_behavior_2, structure_indices_2, threshold, n_neighbors, atom_indices, pbc, output, engine, syntax)\u001b[0m\n\u001b[1;32m    131\u001b[0m dict_dists \u001b[38;5;241m=\u001b[39m {}\n\u001b[1;32m    133\u001b[0m \u001b[38;5;28;01mfor\u001b[39;00m ii, jj \u001b[38;5;129;01min\u001b[39;00m \u001b[38;5;28menumerate\u001b[39m(neighs[kk]):\n\u001b[0;32m--> 134\u001b[0m     dict_neighs[\u001b[43matom_indices_1\u001b[49m[ii]]\u001b[38;5;241m=\u001b[39mjj\n\u001b[1;32m    135\u001b[0m     dict_dists[atom_indices_1[ii]]\u001b[38;5;241m=\u001b[39mdists[kk][ii]\n\u001b[1;32m    137\u001b[0m aux_neighs\u001b[38;5;241m.\u001b[39mappend(dict_neighs)\n",
      "\u001b[0;31mUnboundLocalError\u001b[0m: local variable 'atom_indices_1' referenced before assignment"
     ]
    }
   ],
   "source": [
    "msm.build.get_missing_bonds(molecular_system, threshold='2.0 angstroms')"
   ]
  },
  {
   "cell_type": "code",
   "execution_count": null,
   "id": "b93adcdf-1c20-43ce-81e1-884225de2328",
   "metadata": {},
   "outputs": [],
   "source": []
  }
 ],
 "metadata": {
  "kernelspec": {
   "display_name": "Python 3 (ipykernel)",
   "language": "python",
   "name": "python3"
  },
  "language_info": {
   "codemirror_mode": {
    "name": "ipython",
    "version": 3
   },
   "file_extension": ".py",
   "mimetype": "text/x-python",
   "name": "python",
   "nbconvert_exporter": "python",
   "pygments_lexer": "ipython3",
   "version": "3.9.13"
  }
 },
 "nbformat": 4,
 "nbformat_minor": 5
}
