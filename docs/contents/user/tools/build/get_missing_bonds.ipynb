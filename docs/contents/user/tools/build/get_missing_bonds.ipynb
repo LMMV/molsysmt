{
 "cells": [
  {
   "cell_type": "code",
   "execution_count": 1,
   "id": "3908cf62-3a4c-4c82-a061-e78f6f2f7097",
   "metadata": {
    "tags": [
     "remove-input"
    ]
   },
   "outputs": [],
   "source": [
    "# This cell is removed with the tag: \"remove-input\"\n",
    "# As such, it will not be shown in documentation\n",
    "\n",
    "import warnings\n",
    "warnings.filterwarnings('ignore')"
   ]
  },
  {
   "cell_type": "markdown",
   "id": "034d6a12-81b5-40fe-89a7-59046d378078",
   "metadata": {},
   "source": [
    "(UserGuide_Tools_Build_GetMissingBonds)=\n",
    "# Get missing bonds\n",
    "\n",
    "*Getting the missing bonds.*\n",
    "\n",
    "A molecular system can have missing bonds. The function {func}`molsysmt.build.get_missing_bonds` can detect this lack of bonds returning the pairs of atoms that should be covalently bonded. Let's see this function in action:"
   ]
  },
  {
   "cell_type": "code",
   "execution_count": 2,
   "id": "6994fe5b-cabb-4d79-a681-8634f0c86395",
   "metadata": {},
   "outputs": [
    {
     "data": {
      "application/vnd.jupyter.widget-view+json": {
       "model_id": "af8a6f1744524a098cf3c9b47c975f83",
       "version_major": 2,
       "version_minor": 0
      },
      "text/plain": []
     },
     "metadata": {},
     "output_type": "display_data"
    }
   ],
   "source": [
    "import molsysmt as msm"
   ]
  },
  {
   "cell_type": "code",
   "execution_count": 3,
   "id": "1a26a924-bbc4-476c-a66a-972b36021d12",
   "metadata": {},
   "outputs": [
    {
     "name": "stdout",
     "output_type": "stream",
     "text": [
      "Warning! The group name LRT is reserved in the Protein Data Bank for a small molecule, not for an amino acid.\n",
      "Warning! The group name YPL is reserved in the Protein Data Bank for a small molecule, not for an amino acid.\n"
     ]
    }
   ],
   "source": [
    "molecular_system = msm.convert(msm.systems['nglview']['md_1u19.pdb'], to_form='molsysmt.MolSys')"
   ]
  },
  {
   "cell_type": "code",
   "execution_count": 4,
   "id": "6d8d537c-762c-48c1-ab6d-f8705aac6900",
   "metadata": {},
   "outputs": [],
   "source": [
    "msm.build.remove_bonds(molecular_system)"
   ]
  },
  {
   "cell_type": "code",
   "execution_count": 5,
   "id": "5b2032f9-5674-4190-9fcd-bf97eaf26ede",
   "metadata": {},
   "outputs": [],
   "source": [
    "bonds1 = msm.build.get_missing_bonds(molecular_system, with_templates=True)"
   ]
  },
  {
   "cell_type": "code",
   "execution_count": 6,
   "id": "056f6244-29d0-44f3-ad09-f259262880f8",
   "metadata": {},
   "outputs": [
    {
     "name": "stdout",
     "output_type": "stream",
     "text": [
      "5637\n"
     ]
    }
   ],
   "source": [
    "print(len(bonds1))"
   ]
  },
  {
   "cell_type": "code",
   "execution_count": null,
   "id": "e9cdc2c4-3495-42aa-96db-dd036337767d",
   "metadata": {},
   "outputs": [],
   "source": [
    "bonds2 = msm.build.get_missing_bonds(molecular_system, with_templates=False)"
   ]
  },
  {
   "cell_type": "code",
   "execution_count": null,
   "id": "6349ce63-62f1-454f-bac7-c3060024aef6",
   "metadata": {},
   "outputs": [],
   "source": [
    "print(len(bonds2))"
   ]
  },
  {
   "cell_type": "code",
   "execution_count": null,
   "id": "5f7ca2c2-172e-465b-a0cf-9f17cb3da4a5",
   "metadata": {},
   "outputs": [],
   "source": [
    "bonds3 = msm.build.get_missing_bonds(molecular_system, engine='pytraj')"
   ]
  },
  {
   "cell_type": "code",
   "execution_count": null,
   "id": "994bdce5-2f90-44b7-a712-5ea9f0a130b4",
   "metadata": {},
   "outputs": [],
   "source": [
    "print(len(bonds3))"
   ]
  },
  {
   "cell_type": "code",
   "execution_count": null,
   "id": "453e4a55-df87-4136-829a-2e9d8a52325d",
   "metadata": {},
   "outputs": [],
   "source": [
    "bonds1[1]"
   ]
  },
  {
   "cell_type": "code",
   "execution_count": null,
   "id": "900cca66-c9df-4c79-b465-8c461ea0bda4",
   "metadata": {},
   "outputs": [],
   "source": [
    "bonds2[1]"
   ]
  },
  {
   "cell_type": "code",
   "execution_count": null,
   "id": "99ad81c3-a3b0-4aa5-a179-b3e8167b79fb",
   "metadata": {},
   "outputs": [],
   "source": [
    "bonds3[1]"
   ]
  },
  {
   "cell_type": "code",
   "execution_count": null,
   "id": "78ecc421-81da-4b48-b9d2-c4edee258c92",
   "metadata": {},
   "outputs": [],
   "source": [
    "for ii,jj in bonds3:\n",
    "    if [ii,jj] not in bonds1:\n",
    "        print([ii,jj])"
   ]
  },
  {
   "cell_type": "code",
   "execution_count": null,
   "id": "b8e7a29e-3a89-4c1b-b67e-0a7d7bac1f4f",
   "metadata": {},
   "outputs": [],
   "source": [
    "for ii,jj in bonds1:\n",
    "    if [ii,jj] not in bonds3:\n",
    "        print([ii,jj])"
   ]
  },
  {
   "cell_type": "code",
   "execution_count": 9,
   "id": "13f0141a-9f2b-49db-a30a-33400e09236f",
   "metadata": {},
   "outputs": [
    {
     "data": {
      "text/plain": [
       "True"
      ]
     },
     "execution_count": 9,
     "metadata": {},
     "output_type": "execute_result"
    }
   ],
   "source": [
    "[4701, 4700] in bonds1"
   ]
  },
  {
   "cell_type": "code",
   "execution_count": 15,
   "id": "771ddadc-9d07-4c0e-9007-06a0a2969d82",
   "metadata": {},
   "outputs": [
    {
     "data": {
      "text/plain": [
       "[[4670, 4672],\n",
       " [4672, 4673],\n",
       " [4672, 4674],\n",
       " [4674, 4675],\n",
       " [4674, 4676],\n",
       " [4674, 4738],\n",
       " [4676, 4677],\n",
       " [4676, 4678],\n",
       " [4676, 4679],\n",
       " [4679, 4680],\n",
       " [4679, 4681],\n",
       " [4679, 4682],\n",
       " [4682, 4683],\n",
       " [4682, 4684],\n",
       " [4682, 4685],\n",
       " [4685, 4686],\n",
       " [4685, 4687],\n",
       " [4685, 4688],\n",
       " [4688, 4689],\n",
       " [4688, 4690],\n",
       " [4690, 4691],\n",
       " [4690, 4692],\n",
       " [4692, 4693],\n",
       " [4692, 4698],\n",
       " [4694, 4695],\n",
       " [4694, 4696],\n",
       " [4694, 4697],\n",
       " [4694, 4698],\n",
       " [4698, 4699],\n",
       " [4699, 4700],\n",
       " [4699, 4701],\n",
       " [4701, 4700],\n",
       " [4701, 4702],\n",
       " [4701, 4703],\n",
       " [4703, 4704],\n",
       " [4703, 4709],\n",
       " [4705, 4706],\n",
       " [4705, 4707],\n",
       " [4705, 4708],\n",
       " [4705, 4709],\n",
       " [4709, 4710],\n",
       " [4710, 4711],\n",
       " [4710, 4712],\n",
       " [4712, 4713],\n",
       " [4712, 4714],\n",
       " [4714, 4719],\n",
       " [4714, 4729],\n",
       " [4715, 4716],\n",
       " [4715, 4717],\n",
       " [4715, 4718]]"
      ]
     },
     "execution_count": 15,
     "metadata": {},
     "output_type": "execute_result"
    }
   ],
   "source": [
    "bonds1[4750:4800]"
   ]
  },
  {
   "cell_type": "code",
   "execution_count": null,
   "id": "ca37a77e-d4e9-4d09-812f-1b175e7092da",
   "metadata": {},
   "outputs": [],
   "source": [
    "msm.info(molecular_system, element='atom', selection=[315,317])"
   ]
  },
  {
   "cell_type": "code",
   "execution_count": null,
   "id": "9be98316-758c-457d-ad80-40d687738d24",
   "metadata": {},
   "outputs": [],
   "source": [
    "msm.info(molecular_system, element='atom', selection=[314,317,318,319,320])"
   ]
  },
  {
   "cell_type": "code",
   "execution_count": null,
   "id": "e44b6d74-c502-469f-9640-a7d4e611c801",
   "metadata": {},
   "outputs": [],
   "source": [
    "msm.structure.get_distances(molecular_system, selection=[[314,318], [317,318], [318,319], [318,320]], pairs=True)"
   ]
  },
  {
   "cell_type": "code",
   "execution_count": null,
   "id": "9b03d1b2-a1df-46d3-92ae-91bf8c9ba10c",
   "metadata": {},
   "outputs": [],
   "source": [
    "aaa = msm.convert(msm.systems['nglview']['md_1u19.pdb'], to_form='pytraj.Topology', max_bond_distance='2 angstroms')"
   ]
  },
  {
   "cell_type": "code",
   "execution_count": null,
   "id": "4d29dd74-e909-44d5-909d-33bac1505200",
   "metadata": {},
   "outputs": [],
   "source": [
    "for ii,jj in aaa.bond_indices:\n",
    "    if ii==318 or jj==318:\n",
    "        print(ii,jj)"
   ]
  },
  {
   "cell_type": "code",
   "execution_count": null,
   "id": "958a8122-c1b3-43fc-9465-eb77e7f4ffb3",
   "metadata": {},
   "outputs": [],
   "source": [
    "[318, 319] in bonds1"
   ]
  },
  {
   "cell_type": "code",
   "execution_count": null,
   "id": "d24d739c-3b8c-41c9-8aed-85fc616a2a33",
   "metadata": {},
   "outputs": [],
   "source": [
    "aa = [[3,0],[1,2]]"
   ]
  },
  {
   "cell_type": "code",
   "execution_count": null,
   "id": "c70d78bc-ed02-4aff-b078-a3f6c3d889c6",
   "metadata": {},
   "outputs": [],
   "source": [
    "sorted(aa)"
   ]
  },
  {
   "cell_type": "code",
   "execution_count": null,
   "id": "d80cbdea-7497-4447-ba13-3367110a7756",
   "metadata": {},
   "outputs": [],
   "source": []
  }
 ],
 "metadata": {
  "kernelspec": {
   "display_name": "Python 3 (ipykernel)",
   "language": "python",
   "name": "python3"
  },
  "language_info": {
   "codemirror_mode": {
    "name": "ipython",
    "version": 3
   },
   "file_extension": ".py",
   "mimetype": "text/x-python",
   "name": "python",
   "nbconvert_exporter": "python",
   "pygments_lexer": "ipython3",
   "version": "3.12.8"
  }
 },
 "nbformat": 4,
 "nbformat_minor": 5
}
