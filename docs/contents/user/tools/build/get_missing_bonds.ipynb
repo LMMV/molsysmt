{
 "cells": [
  {
   "cell_type": "code",
   "execution_count": 1,
   "id": "3908cf62-3a4c-4c82-a061-e78f6f2f7097",
   "metadata": {
    "execution": {
     "iopub.execute_input": "2025-03-11T21:07:01.388773Z",
     "iopub.status.busy": "2025-03-11T21:07:01.388380Z",
     "iopub.status.idle": "2025-03-11T21:07:01.393713Z",
     "shell.execute_reply": "2025-03-11T21:07:01.392809Z"
    },
    "tags": [
     "remove-input"
    ]
   },
   "outputs": [],
   "source": [
    "# This cell is removed with the tag: \"remove-input\"\n",
    "# As such, it will not be shown in documentation\n",
    "\n",
    "import warnings\n",
    "warnings.filterwarnings('ignore')"
   ]
  },
  {
   "cell_type": "markdown",
   "id": "034d6a12-81b5-40fe-89a7-59046d378078",
   "metadata": {},
   "source": [
    "(UserGuide_Tools_Build_GetMissingBonds)=\n",
    "# Get missing bonds\n",
    "\n",
    "*Getting the missing bonds.*\n",
    "\n",
    "A molecular system can have missing bonds. The function {func}`molsysmt.build.get_missing_bonds` can detect this lack of bonds returning the pairs of atoms that should be covalently bonded. Let's see this function in action:"
   ]
  },
  {
   "cell_type": "code",
   "execution_count": 2,
   "id": "6994fe5b-cabb-4d79-a681-8634f0c86395",
   "metadata": {
    "execution": {
     "iopub.execute_input": "2025-03-11T21:07:01.397203Z",
     "iopub.status.busy": "2025-03-11T21:07:01.396788Z",
     "iopub.status.idle": "2025-03-11T21:07:10.683453Z",
     "shell.execute_reply": "2025-03-11T21:07:10.682502Z"
    }
   },
   "outputs": [
    {
     "data": {
      "application/vnd.jupyter.widget-view+json": {
       "model_id": "17f8c273eb7043c68edb3b7fe8cd276c",
       "version_major": 2,
       "version_minor": 0
      },
      "text/plain": []
     },
     "metadata": {},
     "output_type": "display_data"
    }
   ],
   "source": [
    "import molsysmt as msm"
   ]
  },
  {
   "cell_type": "code",
   "execution_count": 3,
   "id": "1a26a924-bbc4-476c-a66a-972b36021d12",
   "metadata": {
    "execution": {
     "iopub.execute_input": "2025-03-11T21:07:10.687479Z",
     "iopub.status.busy": "2025-03-11T21:07:10.686354Z",
     "iopub.status.idle": "2025-03-11T21:07:21.071908Z",
     "shell.execute_reply": "2025-03-11T21:07:21.071238Z"
    }
   },
   "outputs": [
    {
     "name": "stdout",
     "output_type": "stream",
     "text": [
      "Warning! The group name LRT is reserved in the Protein Data Bank for a small molecule, not for an amino acid.\n",
      "Warning! The group name YPL is reserved in the Protein Data Bank for a small molecule, not for an amino acid.\n"
     ]
    },
    {
     "name": "stdout",
     "output_type": "stream",
     "text": [
      "Warning: No max bond length defined between atom types C and CL in group type amino acid. The bond between atoms [17, 18] was defined by max_bond_length=0.2 nanometer.\n",
      "Warning: No max bond length defined between atom types CL and C in group type amino acid. The bond between atoms [18, 19] was defined by max_bond_length=0.2 nanometer.\n"
     ]
    },
    {
     "name": "stdout",
     "output_type": "stream",
     "text": [
      "Warning: No max bond length defined between atom types C and CL in group type amino acid. The bond between atoms [17, 18] was defined by max_bond_length=0.2 nanometer.\n",
      "Warning: No max bond length defined between atom types CL and C in group type amino acid. The bond between atoms [18, 19] was defined by max_bond_length=0.2 nanometer.\n"
     ]
    }
   ],
   "source": [
    "molecular_system = msm.convert(msm.systems['nglview']['md_1u19.pdb'], to_form='molsysmt.MolSys')"
   ]
  },
  {
   "cell_type": "code",
   "execution_count": 4,
   "id": "6d8d537c-762c-48c1-ab6d-f8705aac6900",
   "metadata": {
    "execution": {
     "iopub.execute_input": "2025-03-11T21:07:21.075475Z",
     "iopub.status.busy": "2025-03-11T21:07:21.074733Z",
     "iopub.status.idle": "2025-03-11T21:07:23.247950Z",
     "shell.execute_reply": "2025-03-11T21:07:23.247110Z"
    }
   },
   "outputs": [],
   "source": [
    "msm.build.remove_bonds(molecular_system)"
   ]
  },
  {
   "cell_type": "code",
   "execution_count": 5,
   "id": "5b2032f9-5674-4190-9fcd-bf97eaf26ede",
   "metadata": {
    "execution": {
     "iopub.execute_input": "2025-03-11T21:07:23.251984Z",
     "iopub.status.busy": "2025-03-11T21:07:23.251411Z",
     "iopub.status.idle": "2025-03-11T21:07:32.957209Z",
     "shell.execute_reply": "2025-03-11T21:07:32.956362Z"
    }
   },
   "outputs": [
    {
     "name": "stdout",
     "output_type": "stream",
     "text": [
      "Warning: No max bond length defined between atom types C and CL in group type amino acid. The bond between atoms [17, 18] was defined by max_bond_length=0.2 nanometer.\n",
      "Warning: No max bond length defined between atom types CL and C in group type amino acid. The bond between atoms [18, 19] was defined by max_bond_length=0.2 nanometer.\n"
     ]
    },
    {
     "name": "stdout",
     "output_type": "stream",
     "text": [
      "Warning: No max bond length defined between atom types C and CL in group type amino acid. The bond between atoms [17, 18] was defined by max_bond_length=0.2 nanometer.\n",
      "Warning: No max bond length defined between atom types CL and C in group type amino acid. The bond between atoms [18, 19] was defined by max_bond_length=0.2 nanometer.\n"
     ]
    }
   ],
   "source": [
    "bonds = msm.build.get_missing_bonds(molecular_system)"
   ]
  }
 ],
 "metadata": {
  "kernelspec": {
   "display_name": "Python 3 (ipykernel)",
   "language": "python",
   "name": "python3"
  },
  "language_info": {
   "codemirror_mode": {
    "name": "ipython",
    "version": 3
   },
   "file_extension": ".py",
   "mimetype": "text/x-python",
   "name": "python",
   "nbconvert_exporter": "python",
   "pygments_lexer": "ipython3",
   "version": "3.12.8"
  },
  "widgets": {
   "application/vnd.jupyter.widget-state+json": {
    "state": {
     "17f8c273eb7043c68edb3b7fe8cd276c": {
      "model_module": "nglview-js-widgets",
      "model_module_version": "3.1.4",
      "model_name": "ColormakerRegistryModel",
      "state": {
       "_dom_classes": [],
       "_model_module": "nglview-js-widgets",
       "_model_module_version": "3.1.4",
       "_model_name": "ColormakerRegistryModel",
       "_msg_ar": [],
       "_msg_q": [],
       "_ready": false,
       "_view_count": null,
       "_view_module": "nglview-js-widgets",
       "_view_module_version": "3.1.4",
       "_view_name": "ColormakerRegistryView",
       "layout": "IPY_MODEL_9c97047d2acb4c448c3728fbf0146e8d",
       "tabbable": null,
       "tooltip": null
      }
     },
     "9c97047d2acb4c448c3728fbf0146e8d": {
      "model_module": "@jupyter-widgets/base",
      "model_module_version": "2.0.0",
      "model_name": "LayoutModel",
      "state": {
       "_model_module": "@jupyter-widgets/base",
       "_model_module_version": "2.0.0",
       "_model_name": "LayoutModel",
       "_view_count": null,
       "_view_module": "@jupyter-widgets/base",
       "_view_module_version": "2.0.0",
       "_view_name": "LayoutView",
       "align_content": null,
       "align_items": null,
       "align_self": null,
       "border_bottom": null,
       "border_left": null,
       "border_right": null,
       "border_top": null,
       "bottom": null,
       "display": null,
       "flex": null,
       "flex_flow": null,
       "grid_area": null,
       "grid_auto_columns": null,
       "grid_auto_flow": null,
       "grid_auto_rows": null,
       "grid_column": null,
       "grid_gap": null,
       "grid_row": null,
       "grid_template_areas": null,
       "grid_template_columns": null,
       "grid_template_rows": null,
       "height": null,
       "justify_content": null,
       "justify_items": null,
       "left": null,
       "margin": null,
       "max_height": null,
       "max_width": null,
       "min_height": null,
       "min_width": null,
       "object_fit": null,
       "object_position": null,
       "order": null,
       "overflow": null,
       "padding": null,
       "right": null,
       "top": null,
       "visibility": null,
       "width": null
      }
     }
    },
    "version_major": 2,
    "version_minor": 0
   }
  }
 },
 "nbformat": 4,
 "nbformat_minor": 5
}
