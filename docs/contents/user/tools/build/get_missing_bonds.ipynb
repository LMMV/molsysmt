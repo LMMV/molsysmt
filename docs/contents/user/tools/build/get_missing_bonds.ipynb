{
 "cells": [
  {
   "cell_type": "code",
   "execution_count": 1,
   "id": "3908cf62-3a4c-4c82-a061-e78f6f2f7097",
   "metadata": {
    "tags": [
     "remove-input"
    ]
   },
   "outputs": [],
   "source": [
    "# This cell is removed with the tag: \"remove-input\"\n",
    "# As such, it will not be shown in documentation\n",
    "\n",
    "import warnings\n",
    "warnings.filterwarnings('ignore')"
   ]
  },
  {
   "cell_type": "markdown",
   "id": "034d6a12-81b5-40fe-89a7-59046d378078",
   "metadata": {},
   "source": [
    "(UserGuide_Tools_Build_GetMissingBonds)=\n",
    "# Get missing bonds\n",
    "\n",
    "*Getting the missing bonds.*\n",
    "\n",
    "A molecular system can have missing bonds. The function {func}`molsysmt.build.get_missing_bonds` can detect this lack of bonds returning the pairs of atoms that should be covalently bonded. Let's see this function in action:"
   ]
  },
  {
   "cell_type": "code",
   "execution_count": 2,
   "id": "6994fe5b-cabb-4d79-a681-8634f0c86395",
   "metadata": {},
   "outputs": [
    {
     "data": {
      "application/vnd.jupyter.widget-view+json": {
       "model_id": "cb9daf01a5f142a0a9f2db0d7a43d704",
       "version_major": 2,
       "version_minor": 0
      },
      "text/plain": []
     },
     "metadata": {},
     "output_type": "display_data"
    }
   ],
   "source": [
    "import molsysmt as msm"
   ]
  },
  {
   "cell_type": "code",
   "execution_count": 3,
   "id": "1a26a924-bbc4-476c-a66a-972b36021d12",
   "metadata": {},
   "outputs": [
    {
     "name": "stdout",
     "output_type": "stream",
     "text": [
      "Warning! The group name LRT is reserved in the Protein Data Bank for a small molecule, not for an amino acid.\n",
      "Warning! The group name YPL is reserved in the Protein Data Bank for a small molecule, not for an amino acid.\n",
      "Warning: No max bond length defined between atom types C and CL in group type amino acid. The bond between atoms [17, 18] was defined by max_bond_distance=0.2 nanometer.\n",
      "Warning: No max bond length defined between atom types CL and C in group type amino acid. The bond between atoms [18, 19] was defined by max_bond_distance=0.2 nanometer.\n",
      "Warning: No max bond length defined between atom types C and CL in group type amino acid. The bond between atoms [17, 18] was defined by max_bond_distance=0.2 nanometer.\n",
      "Warning: No max bond length defined between atom types CL and C in group type amino acid. The bond between atoms [18, 19] was defined by max_bond_distance=0.2 nanometer.\n"
     ]
    }
   ],
   "source": [
    "molecular_system = msm.convert(msm.systems['nglview']['md_1u19.pdb'], to_form='molsysmt.MolSys')"
   ]
  },
  {
   "cell_type": "code",
   "execution_count": 4,
   "id": "6d8d537c-762c-48c1-ab6d-f8705aac6900",
   "metadata": {},
   "outputs": [],
   "source": [
    "msm.build.remove_bonds(molecular_system)"
   ]
  },
  {
   "cell_type": "code",
   "execution_count": 5,
   "id": "5b2032f9-5674-4190-9fcd-bf97eaf26ede",
   "metadata": {},
   "outputs": [
    {
     "name": "stdout",
     "output_type": "stream",
     "text": [
      "Warning: No max bond length defined between atom types C and CL in group type amino acid. The bond between atoms [17, 18] was defined by max_bond_distance=0.2 nanometer.\n",
      "Warning: No max bond length defined between atom types CL and C in group type amino acid. The bond between atoms [18, 19] was defined by max_bond_distance=0.2 nanometer.\n",
      "Warning: No max bond length defined between atom types C and CL in group type amino acid. The bond between atoms [17, 18] was defined by max_bond_distance=0.2 nanometer.\n",
      "Warning: No max bond length defined between atom types CL and C in group type amino acid. The bond between atoms [18, 19] was defined by max_bond_distance=0.2 nanometer.\n"
     ]
    }
   ],
   "source": [
    "bonds1 = msm.build.get_missing_bonds(molecular_system)"
   ]
  },
  {
   "cell_type": "code",
   "execution_count": 6,
   "id": "f58274dc-b479-44c3-b0b6-3d87cae4e93d",
   "metadata": {},
   "outputs": [
    {
     "data": {
      "text/plain": [
       "[[0, 1],\n",
       " [0, 2],\n",
       " [0, 3],\n",
       " [0, 4],\n",
       " [4, 5],\n",
       " [4, 6],\n",
       " [6, 7],\n",
       " [6, 8],\n",
       " [8, 9],\n",
       " [8, 10]]"
      ]
     },
     "execution_count": 6,
     "metadata": {},
     "output_type": "execute_result"
    }
   ],
   "source": [
    "bonds1[0:10]"
   ]
  },
  {
   "cell_type": "code",
   "execution_count": 7,
   "id": "056f6244-29d0-44f3-ad09-f259262880f8",
   "metadata": {},
   "outputs": [
    {
     "name": "stdout",
     "output_type": "stream",
     "text": [
      "5632\n"
     ]
    }
   ],
   "source": [
    "print(len(bonds1))"
   ]
  }
 ],
 "metadata": {
  "kernelspec": {
   "display_name": "Python 3 (ipykernel)",
   "language": "python",
   "name": "python3"
  },
  "language_info": {
   "codemirror_mode": {
    "name": "ipython",
    "version": 3
   },
   "file_extension": ".py",
   "mimetype": "text/x-python",
   "name": "python",
   "nbconvert_exporter": "python",
   "pygments_lexer": "ipython3",
   "version": "3.12.8"
  }
 },
 "nbformat": 4,
 "nbformat_minor": 5
}
