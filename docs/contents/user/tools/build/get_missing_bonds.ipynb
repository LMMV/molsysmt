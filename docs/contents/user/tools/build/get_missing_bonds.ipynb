{
 "cells": [
  {
   "cell_type": "code",
   "execution_count": 1,
   "id": "3908cf62-3a4c-4c82-a061-e78f6f2f7097",
   "metadata": {
    "tags": [
     "remove-input"
    ]
   },
   "outputs": [],
   "source": [
    "# This cell is removed with the tag: \"remove-input\"\n",
    "# As such, it will not be shown in documentation\n",
    "\n",
    "import warnings\n",
    "warnings.filterwarnings('ignore')"
   ]
  },
  {
   "cell_type": "markdown",
   "id": "034d6a12-81b5-40fe-89a7-59046d378078",
   "metadata": {},
   "source": [
    "(UserGuide_Tools_Build_GetMissingBonds)=\n",
    "# Get missing bonds\n",
    "\n",
    "*Getting the missing bonds.*\n",
    "\n",
    "A molecular system can have missing bonds. The function {func}`molsysmt.build.get_missing_bonds` can detect this lack of bonds returning the pairs of atoms that should be covalently bonded. Let's see this function in action:"
   ]
  },
  {
   "cell_type": "code",
   "execution_count": 2,
   "id": "6994fe5b-cabb-4d79-a681-8634f0c86395",
   "metadata": {},
   "outputs": [
    {
     "data": {
      "application/vnd.jupyter.widget-view+json": {
       "model_id": "38a9a71fc00a45258f9cb9a44f5db560",
       "version_major": 2,
       "version_minor": 0
      },
      "text/plain": []
     },
     "metadata": {},
     "output_type": "display_data"
    }
   ],
   "source": [
    "import molsysmt as msm"
   ]
  },
  {
   "cell_type": "code",
   "execution_count": null,
   "id": "e9e17849-7f83-4e2b-953f-2698d99422c7",
   "metadata": {},
   "outputs": [],
   "source": [
    "msm.element.group.amino_acid.get_group_db('ILE')"
   ]
  },
  {
   "cell_type": "code",
   "execution_count": 3,
   "id": "1a26a924-bbc4-476c-a66a-972b36021d12",
   "metadata": {},
   "outputs": [
    {
     "name": "stdout",
     "output_type": "stream",
     "text": [
      "Warning! The group name LRT is reserved in the Protein Data Bank for a small molecule, not for an amino acid.\n",
      "Warning! The group name YPL is reserved in the Protein Data Bank for a small molecule, not for an amino acid.\n",
      "ACE ['CH3', '1HH3', '2HH3', '3HH3', 'C', 'O']\n"
     ]
    }
   ],
   "source": [
    "molecular_system = msm.convert(msm.systems['nglview']['md_1u19.pdb'], to_form='molsysmt.MolSys')"
   ]
  },
  {
   "cell_type": "code",
   "execution_count": 4,
   "id": "6f331d2e-57ec-47e6-8520-2b63d3d1682a",
   "metadata": {},
   "outputs": [
    {
     "data": {
      "text/html": [
       "<style type=\"text/css\">\n",
       "</style>\n",
       "<table id=\"T_3d4ae\">\n",
       "  <thead>\n",
       "    <tr>\n",
       "      <th id=\"T_3d4ae_level0_col0\" class=\"col_heading level0 col0\" >form</th>\n",
       "      <th id=\"T_3d4ae_level0_col1\" class=\"col_heading level0 col1\" >n_atoms</th>\n",
       "      <th id=\"T_3d4ae_level0_col2\" class=\"col_heading level0 col2\" >n_groups</th>\n",
       "      <th id=\"T_3d4ae_level0_col3\" class=\"col_heading level0 col3\" >n_components</th>\n",
       "      <th id=\"T_3d4ae_level0_col4\" class=\"col_heading level0 col4\" >n_chains</th>\n",
       "      <th id=\"T_3d4ae_level0_col5\" class=\"col_heading level0 col5\" >n_molecules</th>\n",
       "      <th id=\"T_3d4ae_level0_col6\" class=\"col_heading level0 col6\" >n_entities</th>\n",
       "      <th id=\"T_3d4ae_level0_col7\" class=\"col_heading level0 col7\" >n_proteins</th>\n",
       "      <th id=\"T_3d4ae_level0_col8\" class=\"col_heading level0 col8\" >n_structures</th>\n",
       "    </tr>\n",
       "  </thead>\n",
       "  <tbody>\n",
       "    <tr>\n",
       "      <td id=\"T_3d4ae_row0_col0\" class=\"data row0 col0\" >molsysmt.MolSys</td>\n",
       "      <td id=\"T_3d4ae_row0_col1\" class=\"data row0 col1\" >5547</td>\n",
       "      <td id=\"T_3d4ae_row0_col2\" class=\"data row0 col2\" >349</td>\n",
       "      <td id=\"T_3d4ae_row0_col3\" class=\"data row0 col3\" >1</td>\n",
       "      <td id=\"T_3d4ae_row0_col4\" class=\"data row0 col4\" >1</td>\n",
       "      <td id=\"T_3d4ae_row0_col5\" class=\"data row0 col5\" >1</td>\n",
       "      <td id=\"T_3d4ae_row0_col6\" class=\"data row0 col6\" >1</td>\n",
       "      <td id=\"T_3d4ae_row0_col7\" class=\"data row0 col7\" >1</td>\n",
       "      <td id=\"T_3d4ae_row0_col8\" class=\"data row0 col8\" >1</td>\n",
       "    </tr>\n",
       "  </tbody>\n",
       "</table>\n"
      ],
      "text/plain": [
       "<pandas.io.formats.style.Styler at 0x7f3613d0fd00>"
      ]
     },
     "execution_count": 4,
     "metadata": {},
     "output_type": "execute_result"
    }
   ],
   "source": [
    "msm.info(molecular_system)"
   ]
  },
  {
   "cell_type": "code",
   "execution_count": 5,
   "id": "61139353-c7df-463d-8f9c-686669cec935",
   "metadata": {},
   "outputs": [
    {
     "data": {
      "text/plain": [
       "5637"
      ]
     },
     "execution_count": 5,
     "metadata": {},
     "output_type": "execute_result"
    }
   ],
   "source": [
    "msm.get(molecular_system, n_bonds=True)"
   ]
  },
  {
   "cell_type": "code",
   "execution_count": 6,
   "id": "5b2032f9-5674-4190-9fcd-bf97eaf26ede",
   "metadata": {},
   "outputs": [
    {
     "name": "stdout",
     "output_type": "stream",
     "text": [
      "ACE ['CH3', '1HH3', '2HH3', '3HH3', 'C', 'O']\n"
     ]
    },
    {
     "data": {
      "text/plain": [
       "[]"
      ]
     },
     "execution_count": 6,
     "metadata": {},
     "output_type": "execute_result"
    }
   ],
   "source": [
    "msm.build.get_missing_bonds(molecular_system)"
   ]
  },
  {
   "cell_type": "code",
   "execution_count": null,
   "id": "056f6244-29d0-44f3-ad09-f259262880f8",
   "metadata": {},
   "outputs": [],
   "source": []
  }
 ],
 "metadata": {
  "kernelspec": {
   "display_name": "Python 3 (ipykernel)",
   "language": "python",
   "name": "python3"
  },
  "language_info": {
   "codemirror_mode": {
    "name": "ipython",
    "version": 3
   },
   "file_extension": ".py",
   "mimetype": "text/x-python",
   "name": "python",
   "nbconvert_exporter": "python",
   "pygments_lexer": "ipython3",
   "version": "3.10.14"
  }
 },
 "nbformat": 4,
 "nbformat_minor": 5
}
