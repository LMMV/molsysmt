{
 "cells": [
  {
   "cell_type": "code",
   "execution_count": 1,
   "id": "3908cf62-3a4c-4c82-a061-e78f6f2f7097",
   "metadata": {
    "execution": {
     "iopub.execute_input": "2025-04-14T03:02:06.860071Z",
     "iopub.status.busy": "2025-04-14T03:02:06.859375Z",
     "iopub.status.idle": "2025-04-14T03:02:06.869517Z",
     "shell.execute_reply": "2025-04-14T03:02:06.867729Z"
    },
    "tags": [
     "remove-input"
    ]
   },
   "outputs": [],
   "source": [
    "# This cell is removed with the tag: \"remove-input\"\n",
    "# As such, it will not be shown in documentation\n",
    "\n",
    "import warnings\n",
    "warnings.filterwarnings('ignore')"
   ]
  },
  {
   "cell_type": "markdown",
   "id": "034d6a12-81b5-40fe-89a7-59046d378078",
   "metadata": {},
   "source": [
    "(UserGuide_Tools_Build_GetMissingBonds)=\n",
    "# Get missing bonds\n",
    "\n",
    "*Getting the missing bonds.*\n",
    "\n",
    "A molecular system can have missing bonds. The function {func}`molsysmt.build.get_missing_bonds` can detect this lack of bonds returning the pairs of atoms that should be covalently bonded. Let's see this function in action:"
   ]
  },
  {
   "cell_type": "code",
   "execution_count": 2,
   "id": "6994fe5b-cabb-4d79-a681-8634f0c86395",
   "metadata": {
    "execution": {
     "iopub.execute_input": "2025-04-14T03:02:06.876078Z",
     "iopub.status.busy": "2025-04-14T03:02:06.875384Z",
     "iopub.status.idle": "2025-04-14T03:02:11.292893Z",
     "shell.execute_reply": "2025-04-14T03:02:11.292057Z"
    }
   },
   "outputs": [
    {
     "data": {
      "application/vnd.jupyter.widget-view+json": {
       "model_id": "a88a403ea3ce4dffbd850a2b3c7d46c8",
       "version_major": 2,
       "version_minor": 0
      },
      "text/plain": []
     },
     "metadata": {},
     "output_type": "display_data"
    }
   ],
   "source": [
    "import molsysmt as msm"
   ]
  },
  {
   "cell_type": "code",
   "execution_count": 3,
   "id": "1a26a924-bbc4-476c-a66a-972b36021d12",
   "metadata": {
    "execution": {
     "iopub.execute_input": "2025-04-14T03:02:11.295655Z",
     "iopub.status.busy": "2025-04-14T03:02:11.294966Z",
     "iopub.status.idle": "2025-04-14T03:02:16.681735Z",
     "shell.execute_reply": "2025-04-14T03:02:16.681118Z"
    }
   },
   "outputs": [],
   "source": [
    "molecular_system = msm.convert(msm.systems['nglview']['md_1u19.pdb'], to_form='molsysmt.MolSys')"
   ]
  },
  {
   "cell_type": "code",
   "execution_count": 4,
   "id": "6d8d537c-762c-48c1-ab6d-f8705aac6900",
   "metadata": {
    "execution": {
     "iopub.execute_input": "2025-04-14T03:02:16.683842Z",
     "iopub.status.busy": "2025-04-14T03:02:16.683489Z",
     "iopub.status.idle": "2025-04-14T03:02:17.676360Z",
     "shell.execute_reply": "2025-04-14T03:02:17.675779Z"
    }
   },
   "outputs": [],
   "source": [
    "msm.build.remove_bonds(molecular_system)"
   ]
  },
  {
   "cell_type": "code",
   "execution_count": 5,
   "id": "5b2032f9-5674-4190-9fcd-bf97eaf26ede",
   "metadata": {
    "execution": {
     "iopub.execute_input": "2025-04-14T03:02:17.678873Z",
     "iopub.status.busy": "2025-04-14T03:02:17.678579Z",
     "iopub.status.idle": "2025-04-14T03:02:22.578625Z",
     "shell.execute_reply": "2025-04-14T03:02:22.577702Z"
    }
   },
   "outputs": [],
   "source": [
    "bonds = msm.build.get_missing_bonds(molecular_system)"
   ]
  }
 ],
 "metadata": {
  "kernelspec": {
   "display_name": "Python 3 (ipykernel)",
   "language": "python",
   "name": "python3"
  },
  "language_info": {
   "codemirror_mode": {
    "name": "ipython",
    "version": 3
   },
   "file_extension": ".py",
   "mimetype": "text/x-python",
   "name": "python",
   "nbconvert_exporter": "python",
   "pygments_lexer": "ipython3",
   "version": "3.12.9"
  },
  "widgets": {
   "application/vnd.jupyter.widget-state+json": {
    "state": {
     "a88a403ea3ce4dffbd850a2b3c7d46c8": {
      "model_module": "nglview-js-widgets",
      "model_module_version": "3.0.8",
      "model_name": "ColormakerRegistryModel",
      "state": {
       "_dom_classes": [],
       "_model_module": "nglview-js-widgets",
       "_model_module_version": "3.0.8",
       "_model_name": "ColormakerRegistryModel",
       "_msg_ar": [],
       "_msg_q": [],
       "_ready": false,
       "_view_count": null,
       "_view_module": "nglview-js-widgets",
       "_view_module_version": "3.0.8",
       "_view_name": "ColormakerRegistryView",
       "layout": "IPY_MODEL_e52a8bbb1f2b472f85ef245dc6be5cb0",
       "tabbable": null,
       "tooltip": null
      }
     },
     "e52a8bbb1f2b472f85ef245dc6be5cb0": {
      "model_module": "@jupyter-widgets/base",
      "model_module_version": "2.0.0",
      "model_name": "LayoutModel",
      "state": {
       "_model_module": "@jupyter-widgets/base",
       "_model_module_version": "2.0.0",
       "_model_name": "LayoutModel",
       "_view_count": null,
       "_view_module": "@jupyter-widgets/base",
       "_view_module_version": "2.0.0",
       "_view_name": "LayoutView",
       "align_content": null,
       "align_items": null,
       "align_self": null,
       "border_bottom": null,
       "border_left": null,
       "border_right": null,
       "border_top": null,
       "bottom": null,
       "display": null,
       "flex": null,
       "flex_flow": null,
       "grid_area": null,
       "grid_auto_columns": null,
       "grid_auto_flow": null,
       "grid_auto_rows": null,
       "grid_column": null,
       "grid_gap": null,
       "grid_row": null,
       "grid_template_areas": null,
       "grid_template_columns": null,
       "grid_template_rows": null,
       "height": null,
       "justify_content": null,
       "justify_items": null,
       "left": null,
       "margin": null,
       "max_height": null,
       "max_width": null,
       "min_height": null,
       "min_width": null,
       "object_fit": null,
       "object_position": null,
       "order": null,
       "overflow": null,
       "padding": null,
       "right": null,
       "top": null,
       "visibility": null,
       "width": null
      }
     }
    },
    "version_major": 2,
    "version_minor": 0
   }
  }
 },
 "nbformat": 4,
 "nbformat_minor": 5
}
