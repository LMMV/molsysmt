{
 "cells": [
  {
   "cell_type": "code",
   "execution_count": 1,
   "id": "0c9ee846-b72c-498f-a287-2d9be832eabc",
   "metadata": {
    "execution": {
     "iopub.execute_input": "2025-03-11T21:06:54.345675Z",
     "iopub.status.busy": "2025-03-11T21:06:54.345269Z",
     "iopub.status.idle": "2025-03-11T21:06:54.351020Z",
     "shell.execute_reply": "2025-03-11T21:06:54.350010Z"
    },
    "tags": [
     "remove-input"
    ]
   },
   "outputs": [],
   "source": [
    "# This cell is removed with the tag: \"remove-input\"\n",
    "# As such, it will not be shown in documentation\n",
    "\n",
    "import warnings\n",
    "warnings.filterwarnings('ignore')"
   ]
  },
  {
   "cell_type": "markdown",
   "id": "033f9485-5d88-4058-bf9d-50fbc98ef609",
   "metadata": {},
   "source": [
    "(UserGuide_Tools_Build_AddMissingHydrogens)=\n",
    "# Add missing hydrogens\n",
    "\n",
    "*Adding the missing hydrogen atoms to a molecular system.*\n",
    "\n",
    "Some molecular systems have no hydrogen atoms or they need to be protonated according to a different chemical environment or physical context. For instance, structures solved by Xray and deposited in the Protein Data Bank have no hydrogens, or Hystidine aminoacids have different protonation states depending on the pH of the environment. In the \"build\" module of MolSysMT there is a function that can add the hydrogen atoms to a molecular system of any supported form. Let's show this function working with the following example: "
   ]
  },
  {
   "cell_type": "code",
   "execution_count": 2,
   "id": "c6cbbdd0-6e31-4a56-9c4a-9cf206cef9e0",
   "metadata": {
    "execution": {
     "iopub.execute_input": "2025-03-11T21:06:54.355005Z",
     "iopub.status.busy": "2025-03-11T21:06:54.354587Z",
     "iopub.status.idle": "2025-03-11T21:07:03.118394Z",
     "shell.execute_reply": "2025-03-11T21:07:03.117358Z"
    }
   },
   "outputs": [
    {
     "data": {
      "application/vnd.jupyter.widget-view+json": {
       "model_id": "f50c648681d04dd7b3def70c8d194328",
       "version_major": 2,
       "version_minor": 0
      },
      "text/plain": []
     },
     "metadata": {},
     "output_type": "display_data"
    }
   ],
   "source": [
    "import molsysmt as msm"
   ]
  },
  {
   "cell_type": "code",
   "execution_count": 3,
   "id": "b1e1c738-9fe3-4721-aaad-aafa0c95c5b8",
   "metadata": {
    "execution": {
     "iopub.execute_input": "2025-03-11T21:07:03.122410Z",
     "iopub.status.busy": "2025-03-11T21:07:03.121419Z",
     "iopub.status.idle": "2025-03-11T21:07:05.522953Z",
     "shell.execute_reply": "2025-03-11T21:07:05.522000Z"
    }
   },
   "outputs": [],
   "source": [
    "molecular_system = msm.convert('181L', selection='molecule_type==\"protein\"')"
   ]
  },
  {
   "cell_type": "code",
   "execution_count": 4,
   "id": "fb30f29f-a923-40f9-98f4-035b1207b3a5",
   "metadata": {
    "execution": {
     "iopub.execute_input": "2025-03-11T21:07:05.527614Z",
     "iopub.status.busy": "2025-03-11T21:07:05.526421Z",
     "iopub.status.idle": "2025-03-11T21:07:08.373970Z",
     "shell.execute_reply": "2025-03-11T21:07:08.373022Z"
    }
   },
   "outputs": [
    {
     "data": {
      "text/html": [
       "<style type=\"text/css\">\n",
       "</style>\n",
       "<table id=\"T_b25db\">\n",
       "  <thead>\n",
       "    <tr>\n",
       "      <th id=\"T_b25db_level0_col0\" class=\"col_heading level0 col0\" >form</th>\n",
       "      <th id=\"T_b25db_level0_col1\" class=\"col_heading level0 col1\" >n_atoms</th>\n",
       "      <th id=\"T_b25db_level0_col2\" class=\"col_heading level0 col2\" >n_groups</th>\n",
       "      <th id=\"T_b25db_level0_col3\" class=\"col_heading level0 col3\" >n_components</th>\n",
       "      <th id=\"T_b25db_level0_col4\" class=\"col_heading level0 col4\" >n_chains</th>\n",
       "      <th id=\"T_b25db_level0_col5\" class=\"col_heading level0 col5\" >n_molecules</th>\n",
       "      <th id=\"T_b25db_level0_col6\" class=\"col_heading level0 col6\" >n_entities</th>\n",
       "      <th id=\"T_b25db_level0_col7\" class=\"col_heading level0 col7\" >n_proteins</th>\n",
       "      <th id=\"T_b25db_level0_col8\" class=\"col_heading level0 col8\" >n_structures</th>\n",
       "    </tr>\n",
       "  </thead>\n",
       "  <tbody>\n",
       "    <tr>\n",
       "      <td id=\"T_b25db_row0_col0\" class=\"data row0 col0\" >molsysmt.MolSys</td>\n",
       "      <td id=\"T_b25db_row0_col1\" class=\"data row0 col1\" >1289</td>\n",
       "      <td id=\"T_b25db_row0_col2\" class=\"data row0 col2\" >162</td>\n",
       "      <td id=\"T_b25db_row0_col3\" class=\"data row0 col3\" >1</td>\n",
       "      <td id=\"T_b25db_row0_col4\" class=\"data row0 col4\" >1</td>\n",
       "      <td id=\"T_b25db_row0_col5\" class=\"data row0 col5\" >1</td>\n",
       "      <td id=\"T_b25db_row0_col6\" class=\"data row0 col6\" >1</td>\n",
       "      <td id=\"T_b25db_row0_col7\" class=\"data row0 col7\" >1</td>\n",
       "      <td id=\"T_b25db_row0_col8\" class=\"data row0 col8\" >1</td>\n",
       "    </tr>\n",
       "  </tbody>\n",
       "</table>\n"
      ],
      "text/plain": [
       "<pandas.io.formats.style.Styler at 0x7f91b95084a0>"
      ]
     },
     "execution_count": 4,
     "metadata": {},
     "output_type": "execute_result"
    }
   ],
   "source": [
    "msm.info(molecular_system)"
   ]
  },
  {
   "cell_type": "markdown",
   "id": "7005ef10-be8d-4ec1-b37c-a73bdeb2c703",
   "metadata": {},
   "source": [
    "The molecular system comes from a Protein Data Bank structure without hydrogen atoms:"
   ]
  },
  {
   "cell_type": "code",
   "execution_count": 5,
   "id": "98758094-ec9f-47b9-94b2-e05c1739d4ae",
   "metadata": {
    "execution": {
     "iopub.execute_input": "2025-03-11T21:07:08.377692Z",
     "iopub.status.busy": "2025-03-11T21:07:08.377254Z",
     "iopub.status.idle": "2025-03-11T21:07:08.765109Z",
     "shell.execute_reply": "2025-03-11T21:07:08.764157Z"
    }
   },
   "outputs": [
    {
     "data": {
      "text/plain": [
       "False"
      ]
     },
     "execution_count": 5,
     "metadata": {},
     "output_type": "execute_result"
    }
   ],
   "source": [
    "msm.build.has_hydrogens(molecular_system)"
   ]
  },
  {
   "cell_type": "markdown",
   "id": "5f7e9762-bf1c-42af-b01d-cbf1d0550f94",
   "metadata": {},
   "source": [
    "Let's add the hydrogen atoms at pH=7.4:"
   ]
  },
  {
   "cell_type": "code",
   "execution_count": 6,
   "id": "9d3a9b38-8ebf-4738-a9a3-9586cd4c9d4d",
   "metadata": {
    "execution": {
     "iopub.execute_input": "2025-03-11T21:07:08.768139Z",
     "iopub.status.busy": "2025-03-11T21:07:08.767736Z",
     "iopub.status.idle": "2025-03-11T21:07:13.601239Z",
     "shell.execute_reply": "2025-03-11T21:07:13.600241Z"
    }
   },
   "outputs": [],
   "source": [
    "molecular_system = msm.build.add_missing_hydrogens(molecular_system, pH=7.4)"
   ]
  },
  {
   "cell_type": "markdown",
   "id": "0b5d1bb6-ca1c-409b-8f12-3abbf1b61694",
   "metadata": {},
   "source": [
    "As we can see, the system contains now hydrogens:"
   ]
  },
  {
   "cell_type": "code",
   "execution_count": 7,
   "id": "a780573d-c394-4ff5-99b4-49db5fd6decb",
   "metadata": {
    "execution": {
     "iopub.execute_input": "2025-03-11T21:07:13.604803Z",
     "iopub.status.busy": "2025-03-11T21:07:13.604453Z",
     "iopub.status.idle": "2025-03-11T21:07:13.980948Z",
     "shell.execute_reply": "2025-03-11T21:07:13.980288Z"
    }
   },
   "outputs": [
    {
     "data": {
      "text/plain": [
       "1313"
      ]
     },
     "execution_count": 7,
     "metadata": {},
     "output_type": "execute_result"
    }
   ],
   "source": [
    "msm.get(molecular_system, element='atom', selection='atom_type==\"H\"', n_atoms=True)"
   ]
  },
  {
   "cell_type": "markdown",
   "id": "2a80af1f-848d-46d6-9963-b3fcb71fb85b",
   "metadata": {},
   "source": [
    "```{admonition} See also\n",
    ":class: attention\n",
    "{func}`molsysmt.build.add_missing_hydrogens`, {func}`molsysmt.basic.convert`, {func}`molsysmt.basic.info`,{func}`molsysmt.basic.contains`, {func}`molsysmt.basic.get`\n",
    "```"
   ]
  }
 ],
 "metadata": {
  "kernelspec": {
   "display_name": "Python 3 (ipykernel)",
   "language": "python",
   "name": "python3"
  },
  "language_info": {
   "codemirror_mode": {
    "name": "ipython",
    "version": 3
   },
   "file_extension": ".py",
   "mimetype": "text/x-python",
   "name": "python",
   "nbconvert_exporter": "python",
   "pygments_lexer": "ipython3",
   "version": "3.12.8"
  },
  "widgets": {
   "application/vnd.jupyter.widget-state+json": {
    "state": {
     "c74bbaa433bd43d48ad9d312a97ebe9e": {
      "model_module": "@jupyter-widgets/base",
      "model_module_version": "2.0.0",
      "model_name": "LayoutModel",
      "state": {
       "_model_module": "@jupyter-widgets/base",
       "_model_module_version": "2.0.0",
       "_model_name": "LayoutModel",
       "_view_count": null,
       "_view_module": "@jupyter-widgets/base",
       "_view_module_version": "2.0.0",
       "_view_name": "LayoutView",
       "align_content": null,
       "align_items": null,
       "align_self": null,
       "border_bottom": null,
       "border_left": null,
       "border_right": null,
       "border_top": null,
       "bottom": null,
       "display": null,
       "flex": null,
       "flex_flow": null,
       "grid_area": null,
       "grid_auto_columns": null,
       "grid_auto_flow": null,
       "grid_auto_rows": null,
       "grid_column": null,
       "grid_gap": null,
       "grid_row": null,
       "grid_template_areas": null,
       "grid_template_columns": null,
       "grid_template_rows": null,
       "height": null,
       "justify_content": null,
       "justify_items": null,
       "left": null,
       "margin": null,
       "max_height": null,
       "max_width": null,
       "min_height": null,
       "min_width": null,
       "object_fit": null,
       "object_position": null,
       "order": null,
       "overflow": null,
       "padding": null,
       "right": null,
       "top": null,
       "visibility": null,
       "width": null
      }
     },
     "f50c648681d04dd7b3def70c8d194328": {
      "model_module": "nglview-js-widgets",
      "model_module_version": "3.1.4",
      "model_name": "ColormakerRegistryModel",
      "state": {
       "_dom_classes": [],
       "_model_module": "nglview-js-widgets",
       "_model_module_version": "3.1.4",
       "_model_name": "ColormakerRegistryModel",
       "_msg_ar": [],
       "_msg_q": [],
       "_ready": false,
       "_view_count": null,
       "_view_module": "nglview-js-widgets",
       "_view_module_version": "3.1.4",
       "_view_name": "ColormakerRegistryView",
       "layout": "IPY_MODEL_c74bbaa433bd43d48ad9d312a97ebe9e",
       "tabbable": null,
       "tooltip": null
      }
     }
    },
    "version_major": 2,
    "version_minor": 0
   }
  }
 },
 "nbformat": 4,
 "nbformat_minor": 5
}
