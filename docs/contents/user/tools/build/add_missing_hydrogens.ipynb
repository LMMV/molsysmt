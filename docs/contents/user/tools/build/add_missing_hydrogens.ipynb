{
 "cells": [
  {
   "cell_type": "code",
   "execution_count": 1,
   "id": "0c9ee846-b72c-498f-a287-2d9be832eabc",
   "metadata": {
    "execution": {
     "iopub.execute_input": "2025-04-14T03:00:38.796381Z",
     "iopub.status.busy": "2025-04-14T03:00:38.795716Z",
     "iopub.status.idle": "2025-04-14T03:00:38.811120Z",
     "shell.execute_reply": "2025-04-14T03:00:38.809137Z"
    },
    "tags": [
     "remove-input"
    ]
   },
   "outputs": [],
   "source": [
    "# This cell is removed with the tag: \"remove-input\"\n",
    "# As such, it will not be shown in documentation\n",
    "\n",
    "import warnings\n",
    "warnings.filterwarnings('ignore')"
   ]
  },
  {
   "cell_type": "markdown",
   "id": "033f9485-5d88-4058-bf9d-50fbc98ef609",
   "metadata": {},
   "source": [
    "(Tutorial_Add_missing_hydrogens)=\n",
    "# Add missing hydrogens\n",
    "\n",
    "*Adding missing hydrogen atoms to a molecular system.*\n",
    "\n",
    "Many molecular systems lack hydrogen atoms or require protonation adjustments to reflect a specific chemical or physical environment. For instance, X-ray crystal structures deposited in the Protein Data Bank often exclude hydrogens, and histidine residues can adopt different protonation states depending on the pH.\n",
    "\n",
    "In the build module of MolSysMT, the function {func}`molsysmt.build.add_missing_hydrogens()` allows you to add missing hydrogens to any molecular system supported by the library. Let's demonstrate how it works with the following example:\n",
    "\n",
    ":::{versionadded} 1.0.0\n",
    ":::\n",
    "\n",
    "## How this function works\n",
    "\n",
    "```{admonition} API documentation\n",
    "Follow this link for a detailed description of the input arguments, raised errors, and returned objects: {func}`molsysmt.build.add_missing_hydrogens()`.\n",
    "```\n",
    "\n",
    "This function identifies atoms that are missing from the selected residues or molecules and restores them based on predefined topological templates and standard protonation patterns. It applies chemical rules and structural constraints to determine plausible positions for the new hydrogen atoms, integrating them consistently into the molecular system.\n",
    "\n",
    "We start by loading a protein structure from the Protein Data Bank. This system lacks hydrogen atoms, as is typical for X-ray crystallography models."
   ]
  },
  {
   "cell_type": "code",
   "execution_count": 2,
   "id": "c6cbbdd0-6e31-4a56-9c4a-9cf206cef9e0",
   "metadata": {
    "execution": {
     "iopub.execute_input": "2025-04-14T03:00:38.817924Z",
     "iopub.status.busy": "2025-04-14T03:00:38.816971Z",
     "iopub.status.idle": "2025-04-14T03:00:44.685577Z",
     "shell.execute_reply": "2025-04-14T03:00:44.684873Z"
    }
   },
   "outputs": [
    {
     "data": {
      "application/vnd.jupyter.widget-view+json": {
       "model_id": "6d53ebf90fe24622a7be7d4d8e7e2a04",
       "version_major": 2,
       "version_minor": 0
      },
      "text/plain": []
     },
     "metadata": {},
     "output_type": "display_data"
    }
   ],
   "source": [
    "import molsysmt as msm"
   ]
  },
  {
   "cell_type": "code",
   "execution_count": 3,
   "id": "b1e1c738-9fe3-4721-aaad-aafa0c95c5b8",
   "metadata": {
    "execution": {
     "iopub.execute_input": "2025-04-14T03:00:44.688737Z",
     "iopub.status.busy": "2025-04-14T03:00:44.687562Z",
     "iopub.status.idle": "2025-04-14T03:00:49.672165Z",
     "shell.execute_reply": "2025-04-14T03:00:49.671540Z"
    }
   },
   "outputs": [],
   "source": [
    "molecular_system = msm.convert('181L', selection='molecule_type==\"protein\"')"
   ]
  },
  {
   "cell_type": "code",
   "execution_count": 4,
   "id": "fb30f29f-a923-40f9-98f4-035b1207b3a5",
   "metadata": {
    "execution": {
     "iopub.execute_input": "2025-04-14T03:00:49.674494Z",
     "iopub.status.busy": "2025-04-14T03:00:49.674078Z",
     "iopub.status.idle": "2025-04-14T03:00:50.956541Z",
     "shell.execute_reply": "2025-04-14T03:00:50.955739Z"
    }
   },
   "outputs": [
    {
     "data": {
      "text/html": [
       "<style type=\"text/css\">\n",
       "</style>\n",
       "<table id=\"T_3659b\">\n",
       "  <thead>\n",
       "    <tr>\n",
       "      <th id=\"T_3659b_level0_col0\" class=\"col_heading level0 col0\" >form</th>\n",
       "      <th id=\"T_3659b_level0_col1\" class=\"col_heading level0 col1\" >n_atoms</th>\n",
       "      <th id=\"T_3659b_level0_col2\" class=\"col_heading level0 col2\" >n_groups</th>\n",
       "      <th id=\"T_3659b_level0_col3\" class=\"col_heading level0 col3\" >n_components</th>\n",
       "      <th id=\"T_3659b_level0_col4\" class=\"col_heading level0 col4\" >n_chains</th>\n",
       "      <th id=\"T_3659b_level0_col5\" class=\"col_heading level0 col5\" >n_molecules</th>\n",
       "      <th id=\"T_3659b_level0_col6\" class=\"col_heading level0 col6\" >n_entities</th>\n",
       "      <th id=\"T_3659b_level0_col7\" class=\"col_heading level0 col7\" >n_proteins</th>\n",
       "      <th id=\"T_3659b_level0_col8\" class=\"col_heading level0 col8\" >n_structures</th>\n",
       "    </tr>\n",
       "  </thead>\n",
       "  <tbody>\n",
       "    <tr>\n",
       "      <td id=\"T_3659b_row0_col0\" class=\"data row0 col0\" >molsysmt.MolSys</td>\n",
       "      <td id=\"T_3659b_row0_col1\" class=\"data row0 col1\" >1289</td>\n",
       "      <td id=\"T_3659b_row0_col2\" class=\"data row0 col2\" >162</td>\n",
       "      <td id=\"T_3659b_row0_col3\" class=\"data row0 col3\" >1</td>\n",
       "      <td id=\"T_3659b_row0_col4\" class=\"data row0 col4\" >1</td>\n",
       "      <td id=\"T_3659b_row0_col5\" class=\"data row0 col5\" >1</td>\n",
       "      <td id=\"T_3659b_row0_col6\" class=\"data row0 col6\" >1</td>\n",
       "      <td id=\"T_3659b_row0_col7\" class=\"data row0 col7\" >1</td>\n",
       "      <td id=\"T_3659b_row0_col8\" class=\"data row0 col8\" >1</td>\n",
       "    </tr>\n",
       "  </tbody>\n",
       "</table>\n"
      ],
      "text/plain": [
       "<pandas.io.formats.style.Styler at 0x73b66fb6c770>"
      ]
     },
     "execution_count": 4,
     "metadata": {},
     "output_type": "execute_result"
    }
   ],
   "source": [
    "msm.info(molecular_system)"
   ]
  },
  {
   "cell_type": "markdown",
   "id": "7005ef10-be8d-4ec1-b37c-a73bdeb2c703",
   "metadata": {},
   "source": [
    "This molecular system was obtained from a PDB structure and, as expected, it does not contain hydrogen atoms."
   ]
  },
  {
   "cell_type": "code",
   "execution_count": 5,
   "id": "98758094-ec9f-47b9-94b2-e05c1739d4ae",
   "metadata": {
    "execution": {
     "iopub.execute_input": "2025-04-14T03:00:50.958951Z",
     "iopub.status.busy": "2025-04-14T03:00:50.958593Z",
     "iopub.status.idle": "2025-04-14T03:00:51.248526Z",
     "shell.execute_reply": "2025-04-14T03:00:51.247637Z"
    }
   },
   "outputs": [
    {
     "data": {
      "text/plain": [
       "False"
      ]
     },
     "execution_count": 5,
     "metadata": {},
     "output_type": "execute_result"
    }
   ],
   "source": [
    "msm.build.has_hydrogens(molecular_system)"
   ]
  },
  {
   "cell_type": "markdown",
   "id": "5f7e9762-bf1c-42af-b01d-cbf1d0550f94",
   "metadata": {},
   "source": [
    "We now add the missing hydrogen atoms, using standard protonation patterns at pH 7.4:"
   ]
  },
  {
   "cell_type": "code",
   "execution_count": 6,
   "id": "9d3a9b38-8ebf-4738-a9a3-9586cd4c9d4d",
   "metadata": {
    "execution": {
     "iopub.execute_input": "2025-04-14T03:00:51.251179Z",
     "iopub.status.busy": "2025-04-14T03:00:51.250598Z",
     "iopub.status.idle": "2025-04-14T03:00:53.081907Z",
     "shell.execute_reply": "2025-04-14T03:00:53.081147Z"
    }
   },
   "outputs": [],
   "source": [
    "molecular_system = msm.build.add_missing_hydrogens(molecular_system, pH=7.4)"
   ]
  },
  {
   "cell_type": "markdown",
   "id": "0b5d1bb6-ca1c-409b-8f12-3abbf1b61694",
   "metadata": {},
   "source": [
    "Let’s confirm the addition of hydrogen atoms by counting how many atoms of type `'H'` are now present:"
   ]
  },
  {
   "cell_type": "code",
   "execution_count": 7,
   "id": "a780573d-c394-4ff5-99b4-49db5fd6decb",
   "metadata": {
    "execution": {
     "iopub.execute_input": "2025-04-14T03:00:53.085234Z",
     "iopub.status.busy": "2025-04-14T03:00:53.084680Z",
     "iopub.status.idle": "2025-04-14T03:00:53.357069Z",
     "shell.execute_reply": "2025-04-14T03:00:53.355954Z"
    }
   },
   "outputs": [
    {
     "data": {
      "text/plain": [
       "1313"
      ]
     },
     "execution_count": 7,
     "metadata": {},
     "output_type": "execute_result"
    }
   ],
   "source": [
    "msm.get(molecular_system, element='atom', selection='atom_type==\"H\"', n_atoms=True)"
   ]
  },
  {
   "cell_type": "markdown",
   "id": "2a80af1f-848d-46d6-9963-b3fcb71fb85b",
   "metadata": {},
   "source": [
    ":::{seealso}\n",
    "[User guide > Tools > Build > Get missing hydrogens](get_missing_hydrogens.ipynb):  \n",
    "Identify which hydrogen atoms are missing in a molecular system.\n",
    "\n",
    "[User guide > Tools > Build > Add missing heavy atoms](add_missing_heavy_atoms.ipynb):  \n",
    "Restore non-hydrogen atoms using structural templates.\n",
    "\n",
    "[User guide > Tools > Build > Build peptide](build_peptide.ipynb):  \n",
    "Generate capped peptide structures from sequence.\n",
    "\n",
    "[User guide > Tools > Basic > Contains](../basic/contains.ipynb):  \n",
    "Check whether specific elements are present in a molecular system.\n",
    ":::"
   ]
  }
 ],
 "metadata": {
  "kernelspec": {
   "display_name": "Python 3 (ipykernel)",
   "language": "python",
   "name": "python3"
  },
  "language_info": {
   "codemirror_mode": {
    "name": "ipython",
    "version": 3
   },
   "file_extension": ".py",
   "mimetype": "text/x-python",
   "name": "python",
   "nbconvert_exporter": "python",
   "pygments_lexer": "ipython3",
   "version": "3.12.9"
  },
  "widgets": {
   "application/vnd.jupyter.widget-state+json": {
    "state": {
     "6d53ebf90fe24622a7be7d4d8e7e2a04": {
      "model_module": "nglview-js-widgets",
      "model_module_version": "3.0.8",
      "model_name": "ColormakerRegistryModel",
      "state": {
       "_dom_classes": [],
       "_model_module": "nglview-js-widgets",
       "_model_module_version": "3.0.8",
       "_model_name": "ColormakerRegistryModel",
       "_msg_ar": [],
       "_msg_q": [],
       "_ready": false,
       "_view_count": null,
       "_view_module": "nglview-js-widgets",
       "_view_module_version": "3.0.8",
       "_view_name": "ColormakerRegistryView",
       "layout": "IPY_MODEL_6ed86606f8c14c38adcb10d3f4bc5dc9",
       "tabbable": null,
       "tooltip": null
      }
     },
     "6ed86606f8c14c38adcb10d3f4bc5dc9": {
      "model_module": "@jupyter-widgets/base",
      "model_module_version": "2.0.0",
      "model_name": "LayoutModel",
      "state": {
       "_model_module": "@jupyter-widgets/base",
       "_model_module_version": "2.0.0",
       "_model_name": "LayoutModel",
       "_view_count": null,
       "_view_module": "@jupyter-widgets/base",
       "_view_module_version": "2.0.0",
       "_view_name": "LayoutView",
       "align_content": null,
       "align_items": null,
       "align_self": null,
       "border_bottom": null,
       "border_left": null,
       "border_right": null,
       "border_top": null,
       "bottom": null,
       "display": null,
       "flex": null,
       "flex_flow": null,
       "grid_area": null,
       "grid_auto_columns": null,
       "grid_auto_flow": null,
       "grid_auto_rows": null,
       "grid_column": null,
       "grid_gap": null,
       "grid_row": null,
       "grid_template_areas": null,
       "grid_template_columns": null,
       "grid_template_rows": null,
       "height": null,
       "justify_content": null,
       "justify_items": null,
       "left": null,
       "margin": null,
       "max_height": null,
       "max_width": null,
       "min_height": null,
       "min_width": null,
       "object_fit": null,
       "object_position": null,
       "order": null,
       "overflow": null,
       "padding": null,
       "right": null,
       "top": null,
       "visibility": null,
       "width": null
      }
     }
    },
    "version_major": 2,
    "version_minor": 0
   }
  }
 },
 "nbformat": 4,
 "nbformat_minor": 5
}
