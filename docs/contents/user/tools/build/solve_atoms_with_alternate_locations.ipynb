{
 "cells": [
  {
   "cell_type": "code",
   "execution_count": 1,
   "id": "6590f96f-638f-44cb-b05b-9f200f20d48a",
   "metadata": {
    "tags": [
     "remove-input"
    ]
   },
   "outputs": [],
   "source": [
    "# This cell is removed with the tag: \"remove-input\"\n",
    "# As such, it will not be shown in documentation"
   ]
  },
  {
   "cell_type": "markdown",
   "id": "2f6cd114-c906-428f-b51f-3f7ff6267132",
   "metadata": {},
   "source": [
    "(UserGuide_Tools_Build_SolveAtomsWithAlternateLocations)=\n",
    "# Solve atoms with alternate locations\n",
    "\n",
    "*choose coordinates for atoms with alternate locations.*\n",
    "\n",
    "Structures solved experimentally and deposited in the Protein Data Bank can have atoms with multiple locations. MolSysMT includes a function in the 'build' module to solve this ambiguity: {func}`molsysmt.build.solve_atoms_with_alternate_locations`\n",
    "\n",
    "To illustrate how this function work, let's check if the molecular system with PDB id 1BRS has atoms with alternate locations:"
   ]
  },
  {
   "cell_type": "code",
   "execution_count": 2,
   "id": "6adf00c2-88d8-4a4e-8e8c-afb8b8371be2",
   "metadata": {},
   "outputs": [
    {
     "data": {
      "application/vnd.jupyter.widget-view+json": {
       "model_id": "0b4ce61b9add4fc08f451339fc18e7dc",
       "version_major": 2,
       "version_minor": 0
      },
      "text/plain": []
     },
     "metadata": {},
     "output_type": "display_data"
    }
   ],
   "source": [
    "import molsysmt as msm"
   ]
  },
  {
   "cell_type": "code",
   "execution_count": 3,
   "id": "50ce93dd-09d5-475f-8615-b90985c3dbc8",
   "metadata": {},
   "outputs": [
    {
     "data": {
      "text/plain": [
       "[{2686: {'id': array(['A', 'B'], dtype='<U1'),\n",
       "   'occupancy': array([0.5, 0.5]),\n",
       "   'b_factor': array([0.2466, 0.2467]) <Unit('nanometer ** 2')>,\n",
       "   'atom_id': array([2687, 2688]),\n",
       "   'coordinates': array([[3.2742, 2.2579, 0.1536],\n",
       "          [3.2757, 2.2571, 0.1533]]) <Unit('nanometer')>},\n",
       "  2687: {'id': array(['A', 'B'], dtype='<U1'),\n",
       "   'occupancy': array([0.5, 0.5]),\n",
       "   'b_factor': array([0.2594, 0.2596]) <Unit('nanometer ** 2')>,\n",
       "   'atom_id': array([2689, 2690]),\n",
       "   'coordinates': array([[3.1412, 2.241 , 0.1076],\n",
       "          [3.3396, 2.192 , 0.2619]]) <Unit('nanometer')>}}]"
      ]
     },
     "execution_count": 3,
     "metadata": {},
     "output_type": "execute_result"
    }
   ],
   "source": [
    "msm.get('1BRS', alternate_location=True)"
   ]
  },
  {
   "cell_type": "markdown",
   "id": "a6368969-b0ed-41e4-8847-c77e5a222b58",
   "metadata": {},
   "source": [
    "MolSysMT returns the info about alternate locations as a list of dictionaries where the keys are the indices of the atoms with more than an atom_id, occupancy, b_factor and coordinates (stored in a dictionary in the corresponding values).\n",
    "\n",
    "We know then that 1BRS has a structure with two atoms with alternate location. Let's load the system as a 'molsysmt.MolSys' object to see how to deal with this situation:"
   ]
  },
  {
   "cell_type": "code",
   "execution_count": 4,
   "id": "36127e9e-6811-4c65-bf88-b51c121b5265",
   "metadata": {},
   "outputs": [],
   "source": [
    "molecular_system = msm.convert('pdb_id:1BRS', to_form='molsysmt.MolSys')"
   ]
  },
  {
   "cell_type": "markdown",
   "id": "bf030097-4413-4f9f-b800-95f48a10ebfe",
   "metadata": {},
   "source": [
    "The resulting object still keeps the information about the alternate locations:"
   ]
  },
  {
   "cell_type": "code",
   "execution_count": 6,
   "id": "4bde75d2-8ca2-4be8-bdb1-e68d1f26e9fe",
   "metadata": {},
   "outputs": [
    {
     "data": {
      "text/plain": [
       "[{2686: {'id': array(['A', 'B'], dtype='<U1'),\n",
       "   'occupancy': array([0.5, 0.5]),\n",
       "   'b_factor': array([0.2466, 0.2467]) <Unit('nanometer ** 2')>,\n",
       "   'atom_id': array([2687, 2688]),\n",
       "   'coordinates': array([[3.2742, 2.2579, 0.1536],\n",
       "          [3.2757, 2.2571, 0.1533]]) <Unit('nanometer')>}}]"
      ]
     },
     "execution_count": 6,
     "metadata": {},
     "output_type": "execute_result"
    }
   ],
   "source": [
    "msm.get(molecular_system, element='atom', selection='atom_index==2686', alternate_location=True)"
   ]
  },
  {
   "cell_type": "markdown",
   "id": "a9bfe518-e510-44f4-a382-a460d031d9f1",
   "metadata": {},
   "source": [
    "When a molecular system has atoms with alternate locations, by default, MolSysMT always takes those with the highest occupancy or location \"A\" if all occupancy values are equal. Let's check this out:"
   ]
  },
  {
   "cell_type": "code",
   "execution_count": 7,
   "id": "26ad189a-fca2-4ed4-bb2a-1f4a9f0d36af",
   "metadata": {},
   "outputs": [
    {
     "data": {
      "text/plain": [
       "[array([[0.5]]), array([[[3.2742, 2.2579, 0.1536]]]) <Unit('nanometer')>]"
      ]
     },
     "execution_count": 7,
     "metadata": {},
     "output_type": "execute_result"
    }
   ],
   "source": [
    "msm.get(molecular_system, element='atom', selection=2686, occupancy=True, coordinates=True)"
   ]
  },
  {
   "cell_type": "markdown",
   "id": "8d113176-f2a2-4425-bd5a-336c3bf85530",
   "metadata": {},
   "source": [
    "And, how can we choose a different location for a specific atom? {func}`molsysmt.build.solve_atoms_with_alternate_locations` helps you with it. Let's for instance change all atoms to alternate location \"B\" to show the effect of this function:"
   ]
  },
  {
   "cell_type": "code",
   "execution_count": null,
   "id": "eb030ee7-532d-4047-9ceb-cb4e1a3f6f9c",
   "metadata": {},
   "outputs": [],
   "source": [
    "msm.build.solve_atoms_with_alternate_locations(molecular_system, keep='A')"
   ]
  },
  {
   "cell_type": "code",
   "execution_count": null,
   "id": "a56c48ab-6512-45d7-aca2-a67f7f52eb84",
   "metadata": {},
   "outputs": [],
   "source": [
    "atoms_A = msm.select(molecular_system, selection='alternate_location==\"A\"')"
   ]
  },
  {
   "cell_type": "code",
   "execution_count": null,
   "id": "fa6f5676-6aaf-40f5-bf58-601812cccb61",
   "metadata": {},
   "outputs": [],
   "source": [
    "atoms_A"
   ]
  },
  {
   "cell_type": "code",
   "execution_count": null,
   "id": "1db637ca-0aa0-450e-b3db-4c72715ab444",
   "metadata": {},
   "outputs": [],
   "source": [
    "atoms_B = msm.select(molecular_system, selection='alternate_location==\"B\"')"
   ]
  },
  {
   "cell_type": "code",
   "execution_count": null,
   "id": "f2e09977-e6e6-44c6-b55e-30cfe2e13cf2",
   "metadata": {},
   "outputs": [],
   "source": [
    "atoms_B"
   ]
  },
  {
   "cell_type": "markdown",
   "id": "1b74e359-03aa-4fd2-827f-63c4b211e142",
   "metadata": {},
   "source": [
    "```{admonition} See also\n",
    ":class: attention\n",
    "{func}`molsysmt.build.get_atoms_with_alternate_locations`, {func}`molsysmt.basic.get`, {func}`molsysmt.basic.select`\n",
    "```"
   ]
  },
  {
   "cell_type": "code",
   "execution_count": null,
   "id": "ffbf4573-ed6e-442c-9b4c-887c99d14d4a",
   "metadata": {},
   "outputs": [],
   "source": []
  }
 ],
 "metadata": {
  "kernelspec": {
   "display_name": "Python 3 (ipykernel)",
   "language": "python",
   "name": "python3"
  },
  "language_info": {
   "codemirror_mode": {
    "name": "ipython",
    "version": 3
   },
   "file_extension": ".py",
   "mimetype": "text/x-python",
   "name": "python",
   "nbconvert_exporter": "python",
   "pygments_lexer": "ipython3",
   "version": "3.9.15"
  }
 },
 "nbformat": 4,
 "nbformat_minor": 5
}
