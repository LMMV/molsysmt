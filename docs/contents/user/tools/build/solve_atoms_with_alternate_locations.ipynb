{
 "cells": [
  {
   "cell_type": "code",
   "execution_count": 1,
   "id": "77bdc728-10f4-44ad-bcd9-cc3e134a991d",
   "metadata": {},
   "outputs": [],
   "source": [
    "%load_ext autoreload\n",
    "%autoreload 2"
   ]
  },
  {
   "cell_type": "code",
   "execution_count": 2,
   "id": "6590f96f-638f-44cb-b05b-9f200f20d48a",
   "metadata": {
    "tags": [
     "remove-input"
    ]
   },
   "outputs": [],
   "source": [
    "# This cell is removed with the tag: \"remove-input\"\n",
    "# As such, it will not be shown in documentation"
   ]
  },
  {
   "cell_type": "markdown",
   "id": "2f6cd114-c906-428f-b51f-3f7ff6267132",
   "metadata": {},
   "source": [
    "(UserGuide_Tools_Build_SolveAtomsWithAlternateLocations)=\n",
    "# Solve atoms with alternate locations\n",
    "\n",
    "*choose coordinates for atoms with alternate locations.*\n",
    "\n",
    "Structures solved experimentally and deposited in the Protein Data Bank can have atoms with multiple locations. MolSysMT includes a function in the 'build' module to solve this ambiguity: {func}`molsysmt.build.solve_atoms_with_alternate_locations`\n",
    "\n",
    "To illustrate how this function work, let's check if the molecular system with PDB id 1BRS has atoms with alternate locations:"
   ]
  },
  {
   "cell_type": "code",
   "execution_count": 3,
   "id": "6adf00c2-88d8-4a4e-8e8c-afb8b8371be2",
   "metadata": {},
   "outputs": [
    {
     "data": {
      "application/vnd.jupyter.widget-view+json": {
       "model_id": "2b6c3ba22e46446b8b5a88adf0fc236e",
       "version_major": 2,
       "version_minor": 0
      },
      "text/plain": []
     },
     "metadata": {},
     "output_type": "display_data"
    }
   ],
   "source": [
    "import molsysmt as msm"
   ]
  },
  {
   "cell_type": "code",
   "execution_count": 4,
   "id": "50ce93dd-09d5-475f-8615-b90985c3dbc8",
   "metadata": {},
   "outputs": [
    {
     "data": {
      "text/plain": [
       "[{2686: {'location_id': array(['A', 'B'], dtype='<U1'),\n",
       "   'occupancy': array([0.5, 0.5]),\n",
       "   'b_factor': array([0.2466, 0.2467]) <Unit('nanometer ** 2')>,\n",
       "   'atom_id': array([2687, 2688]),\n",
       "   'coordinates': array([[3.2742, 2.2579, 0.1536],\n",
       "          [3.2757, 2.2571, 0.1533]]) <Unit('nanometer')>},\n",
       "  2687: {'location_id': array(['A', 'B'], dtype='<U1'),\n",
       "   'occupancy': array([0.5, 0.5]),\n",
       "   'b_factor': array([0.2594, 0.2596]) <Unit('nanometer ** 2')>,\n",
       "   'atom_id': array([2689, 2690]),\n",
       "   'coordinates': array([[3.1412, 2.241 , 0.1076],\n",
       "          [3.3396, 2.192 , 0.2619]]) <Unit('nanometer')>}}]"
      ]
     },
     "execution_count": 4,
     "metadata": {},
     "output_type": "execute_result"
    }
   ],
   "source": [
    "msm.get('1BRS', alternate_location=True)"
   ]
  },
  {
   "cell_type": "markdown",
   "id": "a6368969-b0ed-41e4-8847-c77e5a222b58",
   "metadata": {},
   "source": [
    "MolSysMT returns the info about alternate locations as a list of dictionaries where the keys are the indices of the atoms with more than an atom_id, occupancy, b_factor and coordinates (stored in a dictionary in the corresponding values).\n",
    "\n",
    "We know then that 1BRS has a structure with two atoms with alternate location. Let's load the system as a 'molsysmt.MolSys' object to see how to deal with this situation:"
   ]
  },
  {
   "cell_type": "code",
   "execution_count": 5,
   "id": "36127e9e-6811-4c65-bf88-b51c121b5265",
   "metadata": {},
   "outputs": [],
   "source": [
    "molecular_system = msm.convert('pdb_id:1BRS', to_form='molsysmt.MolSys')"
   ]
  },
  {
   "cell_type": "markdown",
   "id": "bf030097-4413-4f9f-b800-95f48a10ebfe",
   "metadata": {},
   "source": [
    "The resulting object still keeps the information about the alternate locations:"
   ]
  },
  {
   "cell_type": "code",
   "execution_count": 6,
   "id": "4bde75d2-8ca2-4be8-bdb1-e68d1f26e9fe",
   "metadata": {},
   "outputs": [
    {
     "data": {
      "text/plain": [
       "[{2686: {'location_id': array(['A', 'B'], dtype='<U1'),\n",
       "   'occupancy': array([0.5, 0.5]),\n",
       "   'b_factor': array([0.2466, 0.2467]) <Unit('nanometer ** 2')>,\n",
       "   'atom_id': array([2687, 2688]),\n",
       "   'coordinates': array([[3.2742, 2.2579, 0.1536],\n",
       "          [3.2757, 2.2571, 0.1533]]) <Unit('nanometer')>}}]"
      ]
     },
     "execution_count": 6,
     "metadata": {},
     "output_type": "execute_result"
    }
   ],
   "source": [
    "msm.get(molecular_system, element='atom', selection='atom_index==2686', alternate_location=True)"
   ]
  },
  {
   "cell_type": "markdown",
   "id": "a9bfe518-e510-44f4-a382-a460d031d9f1",
   "metadata": {},
   "source": [
    "When a molecular system has atoms with alternate locations, by default, MolSysMT always takes those with the highest occupancy. If all occupancy values are equal, MolSysMT takes location \"A\". Let's check this out:"
   ]
  },
  {
   "cell_type": "code",
   "execution_count": 7,
   "id": "26ad189a-fca2-4ed4-bb2a-1f4a9f0d36af",
   "metadata": {},
   "outputs": [
    {
     "data": {
      "text/plain": [
       "[array([[0.5]]), array([[[3.2742, 2.2579, 0.1536]]]) <Unit('nanometer')>]"
      ]
     },
     "execution_count": 7,
     "metadata": {},
     "output_type": "execute_result"
    }
   ],
   "source": [
    "msm.get(molecular_system, element='atom', selection=2686, occupancy=True, coordinates=True)"
   ]
  },
  {
   "cell_type": "markdown",
   "id": "8d113176-f2a2-4425-bd5a-336c3bf85530",
   "metadata": {},
   "source": [
    "How can we choose a different location for a specific atom? {func}`molsysmt.build.solve_atoms_with_alternate_locations` helps you with it. Let's for instance change all atoms to alternate location \"B\" to show how this function works:"
   ]
  },
  {
   "cell_type": "code",
   "execution_count": 8,
   "id": "eb030ee7-532d-4047-9ceb-cb4e1a3f6f9c",
   "metadata": {},
   "outputs": [
    {
     "name": "stdout",
     "output_type": "stream",
     "text": [
      "entra\n"
     ]
    },
    {
     "ename": "TypeError",
     "evalue": "unhashable type: 'list'",
     "output_type": "error",
     "traceback": [
      "\u001b[0;31m---------------------------------------------------------------------------\u001b[0m",
      "\u001b[0;31mKeyError\u001b[0m                                  Traceback (most recent call last)",
      "File \u001b[0;32m~/Myopt/miniconda3/envs/MolSysMT@dprada_3.9/lib/python3.9/site-packages/pyunitwizard/main.py:28\u001b[0m, in \u001b[0;36mget_form\u001b[0;34m(quantity_or_unit)\u001b[0m\n\u001b[1;32m     27\u001b[0m \u001b[38;5;28;01mtry\u001b[39;00m:\n\u001b[0;32m---> 28\u001b[0m     \u001b[38;5;28;01mreturn\u001b[39;00m \u001b[43mdict_is_form\u001b[49m\u001b[43m[\u001b[49m\u001b[38;5;28;43mtype\u001b[39;49m\u001b[43m(\u001b[49m\u001b[43mquantity_or_unit\u001b[49m\u001b[43m)\u001b[49m\u001b[43m]\u001b[49m\n\u001b[1;32m     29\u001b[0m \u001b[38;5;28;01mexcept\u001b[39;00m \u001b[38;5;167;01mKeyError\u001b[39;00m:\n",
      "\u001b[0;31mKeyError\u001b[0m: <class 'list'>",
      "\nDuring handling of the above exception, another exception occurred:\n",
      "\u001b[0;31mTypeError\u001b[0m                                 Traceback (most recent call last)",
      "Cell \u001b[0;32mIn[8], line 1\u001b[0m\n\u001b[0;32m----> 1\u001b[0m \u001b[43mmsm\u001b[49m\u001b[38;5;241;43m.\u001b[39;49m\u001b[43mbuild\u001b[49m\u001b[38;5;241;43m.\u001b[39;49m\u001b[43msolve_atoms_with_alternate_location\u001b[49m\u001b[43m(\u001b[49m\u001b[43mmolecular_system\u001b[49m\u001b[43m,\u001b[49m\u001b[43m \u001b[49m\u001b[43mlocation_id\u001b[49m\u001b[38;5;241;43m=\u001b[39;49m\u001b[38;5;124;43m'\u001b[39;49m\u001b[38;5;124;43mB\u001b[39;49m\u001b[38;5;124;43m'\u001b[39;49m\u001b[43m)\u001b[49m\n",
      "File \u001b[0;32m~/projects@dprada/MolSysMT/molsysmt/_private/digestion/digest.py:116\u001b[0m, in \u001b[0;36mdigest.<locals>.digestor.<locals>.wrapper\u001b[0;34m(*args, **kwargs)\u001b[0m\n\u001b[1;32m    114\u001b[0m     \u001b[38;5;28;01mreturn\u001b[39;00m func(all_args[\u001b[38;5;124m'\u001b[39m\u001b[38;5;124mself\u001b[39m\u001b[38;5;124m'\u001b[39m], \u001b[38;5;241m*\u001b[39m\u001b[38;5;241m*\u001b[39mfinal_args)\n\u001b[1;32m    115\u001b[0m \u001b[38;5;28;01melse\u001b[39;00m:\n\u001b[0;32m--> 116\u001b[0m     \u001b[38;5;28;01mreturn\u001b[39;00m \u001b[43mfunc\u001b[49m\u001b[43m(\u001b[49m\u001b[38;5;241;43m*\u001b[39;49m\u001b[38;5;241;43m*\u001b[39;49m\u001b[43mfinal_args\u001b[49m\u001b[43m)\u001b[49m\n",
      "File \u001b[0;32m~/projects@dprada/MolSysMT/molsysmt/build/solve_atoms_with_alternate_location.py:69\u001b[0m, in \u001b[0;36msolve_atoms_with_alternate_location\u001b[0;34m(molecular_system, selection, structure_indices, location_id, syntax)\u001b[0m\n\u001b[1;32m     67\u001b[0m \u001b[38;5;28;01mif\u001b[39;00m equal_atom_indices_all_structures:\n\u001b[1;32m     68\u001b[0m     \u001b[38;5;28mprint\u001b[39m(\u001b[38;5;124m'\u001b[39m\u001b[38;5;124mentra\u001b[39m\u001b[38;5;124m'\u001b[39m)\n\u001b[0;32m---> 69\u001b[0m     \u001b[38;5;28;43mset\u001b[39;49m\u001b[43m(\u001b[49m\u001b[43mmolecular_system\u001b[49m\u001b[43m,\u001b[49m\u001b[43m \u001b[49m\u001b[43melement\u001b[49m\u001b[38;5;241;43m=\u001b[39;49m\u001b[38;5;124;43m'\u001b[39;49m\u001b[38;5;124;43matom\u001b[39;49m\u001b[38;5;124;43m'\u001b[39;49m\u001b[43m,\u001b[49m\u001b[43m \u001b[49m\u001b[43mindices\u001b[49m\u001b[38;5;241;43m=\u001b[39;49m\u001b[43maux_atom_indices\u001b[49m\u001b[43m[\u001b[49m\u001b[38;5;241;43m0\u001b[39;49m\u001b[43m]\u001b[49m\u001b[43m,\u001b[49m\u001b[43m \u001b[49m\u001b[43mstructure_indices\u001b[49m\u001b[38;5;241;43m=\u001b[39;49m\u001b[43mstructure_indices\u001b[49m\u001b[43m,\u001b[49m\n\u001b[1;32m     70\u001b[0m \u001b[43m            \u001b[49m\u001b[43matom_id\u001b[49m\u001b[38;5;241;43m=\u001b[39;49m\u001b[43maux_atom_id\u001b[49m\u001b[43m,\u001b[49m\u001b[43m \u001b[49m\u001b[43moccupancy\u001b[49m\u001b[38;5;241;43m=\u001b[39;49m\u001b[43maux_occupancy\u001b[49m\u001b[43m,\u001b[49m\u001b[43m \u001b[49m\u001b[43mb_factor\u001b[49m\u001b[38;5;241;43m=\u001b[39;49m\u001b[43maux_b_factor\u001b[49m\u001b[43m,\u001b[49m\u001b[43m \u001b[49m\u001b[43mcoordinates\u001b[49m\u001b[38;5;241;43m=\u001b[39;49m\u001b[43maux_coordinates\u001b[49m\u001b[43m)\u001b[49m \n\u001b[1;32m     71\u001b[0m \u001b[38;5;28;01melse\u001b[39;00m:\n\u001b[1;32m     72\u001b[0m     \u001b[38;5;28;01mfor\u001b[39;00m ii \u001b[38;5;129;01min\u001b[39;00m structure_indices:\n",
      "File \u001b[0;32m~/projects@dprada/MolSysMT/molsysmt/_private/digestion/digest.py:105\u001b[0m, in \u001b[0;36mdigest.<locals>.digestor.<locals>.wrapper\u001b[0;34m(*args, **kwargs)\u001b[0m\n\u001b[1;32m    102\u001b[0m     \u001b[38;5;28;01mpass\u001b[39;00m\n\u001b[1;32m    104\u001b[0m \u001b[38;5;28;01mfor\u001b[39;00m arg_name \u001b[38;5;129;01min\u001b[39;00m all_args:\n\u001b[0;32m--> 105\u001b[0m     \u001b[43mgut\u001b[49m\u001b[43m(\u001b[49m\u001b[43marg_name\u001b[49m\u001b[43m)\u001b[49m\n\u001b[1;32m    107\u001b[0m \u001b[38;5;28;01mfor\u001b[39;00m arg_name \u001b[38;5;129;01min\u001b[39;00m not_digested_args:\n\u001b[1;32m    108\u001b[0m     \u001b[38;5;28;01mif\u001b[39;00m arg_name \u001b[38;5;129;01mnot\u001b[39;00m \u001b[38;5;129;01min\u001b[39;00m [\u001b[38;5;124m'\u001b[39m\u001b[38;5;124mself\u001b[39m\u001b[38;5;124m'\u001b[39m]:\n",
      "File \u001b[0;32m~/projects@dprada/MolSysMT/molsysmt/_private/digestion/digest.py:97\u001b[0m, in \u001b[0;36mdigest.<locals>.digestor.<locals>.wrapper.<locals>.gut\u001b[0;34m(arg_name)\u001b[0m\n\u001b[1;32m     95\u001b[0m         \u001b[38;5;28;01melse\u001b[39;00m:\n\u001b[1;32m     96\u001b[0m             parameters_dict[parameter] \u001b[38;5;241m=\u001b[39m \u001b[38;5;28;01mNone\u001b[39;00m\n\u001b[0;32m---> 97\u001b[0m     digested_args[arg_name] \u001b[38;5;241m=\u001b[39m \u001b[43mdigestion_functions\u001b[49m\u001b[43m[\u001b[49m\u001b[43marg_name\u001b[49m\u001b[43m]\u001b[49m\u001b[43m(\u001b[49m\u001b[43mall_args\u001b[49m\u001b[43m[\u001b[49m\u001b[43marg_name\u001b[49m\u001b[43m]\u001b[49m\u001b[43m,\u001b[49m\n\u001b[1;32m     98\u001b[0m \u001b[43m                                                  \u001b[49m\u001b[43mcaller\u001b[49m\u001b[38;5;241;43m=\u001b[39;49m\u001b[43mcaller\u001b[49m\u001b[43m,\u001b[49m\n\u001b[1;32m     99\u001b[0m \u001b[43m                                                  \u001b[49m\u001b[38;5;241;43m*\u001b[39;49m\u001b[38;5;241;43m*\u001b[39;49m\u001b[43mparameters_dict\u001b[49m\u001b[43m)\u001b[49m\n\u001b[1;32m    100\u001b[0m \u001b[38;5;28;01melse\u001b[39;00m:\n\u001b[1;32m    101\u001b[0m     not_digested_args[arg_name] \u001b[38;5;241m=\u001b[39m all_args[arg_name]\n",
      "File \u001b[0;32m~/projects@dprada/MolSysMT/molsysmt/_private/digestion/argument/b_factor.py:23\u001b[0m, in \u001b[0;36mdigest_b_factor\u001b[0;34m(b_factor, caller)\u001b[0m\n\u001b[1;32m     20\u001b[0m \u001b[38;5;28;01mif\u001b[39;00m b_factor \u001b[38;5;129;01mis\u001b[39;00m \u001b[38;5;28;01mNone\u001b[39;00m:\n\u001b[1;32m     21\u001b[0m     \u001b[38;5;28;01mreturn\u001b[39;00m \u001b[38;5;28;01mNone\u001b[39;00m\n\u001b[0;32m---> 23\u001b[0m value \u001b[38;5;241m=\u001b[39m \u001b[43mpuw\u001b[49m\u001b[38;5;241;43m.\u001b[39;49m\u001b[43mget_value\u001b[49m\u001b[43m(\u001b[49m\u001b[43mb_factor\u001b[49m\u001b[43m)\u001b[49m\n\u001b[1;32m     24\u001b[0m unit \u001b[38;5;241m=\u001b[39m puw\u001b[38;5;241m.\u001b[39mget_unit(b_factor)\n\u001b[1;32m     26\u001b[0m \u001b[38;5;28;01mif\u001b[39;00m \u001b[38;5;129;01mnot\u001b[39;00m puw\u001b[38;5;241m.\u001b[39mcheck(unit, dimensionality\u001b[38;5;241m=\u001b[39m{\u001b[38;5;124m'\u001b[39m\u001b[38;5;124m[L]\u001b[39m\u001b[38;5;124m'\u001b[39m:\u001b[38;5;241m2\u001b[39m}):\n",
      "File \u001b[0;32m~/Myopt/miniconda3/envs/MolSysMT@dprada_3.9/lib/python3.9/site-packages/pyunitwizard/main.py:124\u001b[0m, in \u001b[0;36mget_value\u001b[0;34m(quantity, to_unit, parser, standardized)\u001b[0m\n\u001b[1;32m    121\u001b[0m     quantity \u001b[38;5;241m=\u001b[39m standardize(quantity)\n\u001b[1;32m    122\u001b[0m     to_unit \u001b[38;5;241m=\u001b[39m \u001b[38;5;28;01mNone\u001b[39;00m\n\u001b[0;32m--> 124\u001b[0m \u001b[38;5;28;01mreturn\u001b[39;00m \u001b[43mconvert\u001b[49m\u001b[43m(\u001b[49m\u001b[43mquantity\u001b[49m\u001b[43m,\u001b[49m\u001b[43m \u001b[49m\u001b[43mto_unit\u001b[49m\u001b[38;5;241;43m=\u001b[39;49m\u001b[43mto_unit\u001b[49m\u001b[43m,\u001b[49m\u001b[43m \u001b[49m\u001b[43mparser\u001b[49m\u001b[38;5;241;43m=\u001b[39;49m\u001b[43mparser\u001b[49m\u001b[43m,\u001b[49m\u001b[43m \u001b[49m\u001b[43mto_type\u001b[49m\u001b[38;5;241;43m=\u001b[39;49m\u001b[38;5;124;43m'\u001b[39;49m\u001b[38;5;124;43mvalue\u001b[39;49m\u001b[38;5;124;43m'\u001b[39;49m\u001b[43m)\u001b[49m\n",
      "File \u001b[0;32m~/Myopt/miniconda3/envs/MolSysMT@dprada_3.9/lib/python3.9/site-packages/pyunitwizard/main.py:483\u001b[0m, in \u001b[0;36mconvert\u001b[0;34m(quantity_or_unit, to_unit, to_form, parser, to_type)\u001b[0m\n\u001b[1;32m    458\u001b[0m \u001b[38;5;250m\u001b[39m\u001b[38;5;124;03m\"\"\" Converts a quantity or unit to a different unit and/or to a different\u001b[39;00m\n\u001b[1;32m    459\u001b[0m \u001b[38;5;124;03m    form and/or type. \u001b[39;00m\n\u001b[1;32m    460\u001b[0m \n\u001b[0;32m   (...)\u001b[0m\n\u001b[1;32m    479\u001b[0m \u001b[38;5;124;03m        be a float or a numpy array.\u001b[39;00m\n\u001b[1;32m    480\u001b[0m \u001b[38;5;124;03m\"\"\"\u001b[39;00m\n\u001b[1;32m    481\u001b[0m output \u001b[38;5;241m=\u001b[39m \u001b[38;5;28;01mNone\u001b[39;00m\n\u001b[0;32m--> 483\u001b[0m form_in \u001b[38;5;241m=\u001b[39m \u001b[43mget_form\u001b[49m\u001b[43m(\u001b[49m\u001b[43mquantity_or_unit\u001b[49m\u001b[43m)\u001b[49m\n\u001b[1;32m    484\u001b[0m to_form \u001b[38;5;241m=\u001b[39m digest_to_form(to_form, form_in)\n\u001b[1;32m    485\u001b[0m parser \u001b[38;5;241m=\u001b[39m digest_parser(parser)\n",
      "File \u001b[0;32m~/Myopt/miniconda3/envs/MolSysMT@dprada_3.9/lib/python3.9/site-packages/pyunitwizard/main.py:31\u001b[0m, in \u001b[0;36mget_form\u001b[0;34m(quantity_or_unit)\u001b[0m\n\u001b[1;32m     29\u001b[0m \u001b[38;5;28;01mexcept\u001b[39;00m \u001b[38;5;167;01mKeyError\u001b[39;00m:\n\u001b[1;32m     30\u001b[0m     \u001b[38;5;28;01mtry\u001b[39;00m:\n\u001b[0;32m---> 31\u001b[0m         \u001b[38;5;28;01mreturn\u001b[39;00m \u001b[43mdict_is_form\u001b[49m\u001b[43m[\u001b[49m\u001b[43mquantity_or_unit\u001b[49m\u001b[43m]\u001b[49m\n\u001b[1;32m     32\u001b[0m     \u001b[38;5;28;01mexcept\u001b[39;00m \u001b[38;5;167;01mKeyError\u001b[39;00m:\n\u001b[1;32m     33\u001b[0m         \u001b[38;5;28;01mraise\u001b[39;00m NotImplementedFormError(\u001b[38;5;28mtype\u001b[39m(quantity_or_unit))\n",
      "\u001b[0;31mTypeError\u001b[0m: unhashable type: 'list'"
     ]
    }
   ],
   "source": [
    "msm.build.solve_atoms_with_alternate_location(molecular_system, location_id='B')"
   ]
  },
  {
   "cell_type": "code",
   "execution_count": null,
   "id": "a56c48ab-6512-45d7-aca2-a67f7f52eb84",
   "metadata": {},
   "outputs": [],
   "source": [
    "atoms_A = msm.select(molecular_system, selection='alternate_location==\"A\"')"
   ]
  },
  {
   "cell_type": "code",
   "execution_count": null,
   "id": "fa6f5676-6aaf-40f5-bf58-601812cccb61",
   "metadata": {},
   "outputs": [],
   "source": [
    "atoms_A"
   ]
  },
  {
   "cell_type": "code",
   "execution_count": null,
   "id": "1db637ca-0aa0-450e-b3db-4c72715ab444",
   "metadata": {},
   "outputs": [],
   "source": [
    "atoms_B = msm.select(molecular_system, selection='alternate_location==\"B\"')"
   ]
  },
  {
   "cell_type": "code",
   "execution_count": null,
   "id": "f2e09977-e6e6-44c6-b55e-30cfe2e13cf2",
   "metadata": {},
   "outputs": [],
   "source": [
    "atoms_B"
   ]
  },
  {
   "cell_type": "markdown",
   "id": "1b74e359-03aa-4fd2-827f-63c4b211e142",
   "metadata": {},
   "source": [
    "```{admonition} See also\n",
    ":class: attention\n",
    "{func}`molsysmt.build.get_atoms_with_alternate_locations`, {func}`molsysmt.basic.get`, {func}`molsysmt.basic.select`\n",
    "```"
   ]
  },
  {
   "cell_type": "code",
   "execution_count": null,
   "id": "ffbf4573-ed6e-442c-9b4c-887c99d14d4a",
   "metadata": {},
   "outputs": [],
   "source": []
  },
  {
   "cell_type": "code",
   "execution_count": null,
   "id": "2ca66a86-5cf5-4f9b-97ca-4b2ec1523ae1",
   "metadata": {},
   "outputs": [],
   "source": []
  },
  {
   "cell_type": "code",
   "execution_count": null,
   "id": "7c6b914d-1b9f-49ff-9c22-1f67e31d8903",
   "metadata": {},
   "outputs": [],
   "source": []
  }
 ],
 "metadata": {
  "kernelspec": {
   "display_name": "Python 3 (ipykernel)",
   "language": "python",
   "name": "python3"
  },
  "language_info": {
   "codemirror_mode": {
    "name": "ipython",
    "version": 3
   },
   "file_extension": ".py",
   "mimetype": "text/x-python",
   "name": "python",
   "nbconvert_exporter": "python",
   "pygments_lexer": "ipython3",
   "version": "3.9.15"
  }
 },
 "nbformat": 4,
 "nbformat_minor": 5
}
