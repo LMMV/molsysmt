{
 "cells": [
  {
   "cell_type": "code",
   "execution_count": 1,
   "id": "62a9159a-8347-4dff-b4e2-8e7dccf16322",
   "metadata": {
    "execution": {
     "iopub.execute_input": "2025-04-14T03:03:44.542324Z",
     "iopub.status.busy": "2025-04-14T03:03:44.541376Z",
     "iopub.status.idle": "2025-04-14T03:03:44.600170Z",
     "shell.execute_reply": "2025-04-14T03:03:44.599496Z"
    }
   },
   "outputs": [],
   "source": [
    "%load_ext autoreload\n",
    "%autoreload 2"
   ]
  },
  {
   "cell_type": "code",
   "execution_count": 2,
   "id": "5d5a6cea-c1ce-4e37-8290-88e4eb449542",
   "metadata": {
    "execution": {
     "iopub.execute_input": "2025-04-14T03:03:44.602727Z",
     "iopub.status.busy": "2025-04-14T03:03:44.602502Z",
     "iopub.status.idle": "2025-04-14T03:03:48.968845Z",
     "shell.execute_reply": "2025-04-14T03:03:48.968130Z"
    }
   },
   "outputs": [
    {
     "data": {
      "application/vnd.jupyter.widget-view+json": {
       "model_id": "bfac53b76637483fbfecc7ca88678060",
       "version_major": 2,
       "version_minor": 0
      },
      "text/plain": []
     },
     "metadata": {},
     "output_type": "display_data"
    }
   ],
   "source": [
    "import molsysmt as msm"
   ]
  },
  {
   "cell_type": "markdown",
   "id": "386916cd-3ab0-4cd5-b72f-784fb291d9b7",
   "metadata": {},
   "source": [
    "# Is solvated"
   ]
  },
  {
   "cell_type": "code",
   "execution_count": 3,
   "id": "9dd4b587-d504-4ddb-bdc1-6f158fd4343d",
   "metadata": {
    "execution": {
     "iopub.execute_input": "2025-04-14T03:03:48.971340Z",
     "iopub.status.busy": "2025-04-14T03:03:48.970961Z",
     "iopub.status.idle": "2025-04-14T03:03:49.430292Z",
     "shell.execute_reply": "2025-04-14T03:03:49.429651Z"
    }
   },
   "outputs": [],
   "source": [
    "molsys = msm.convert(msm.systems['Met-enkephalin']['met_enkephalin.h5msm'], to_form='molsysmt.MolSys')"
   ]
  },
  {
   "cell_type": "code",
   "execution_count": 4,
   "id": "d36dcf1e-4391-4ff3-bd78-11fbbf5a72f2",
   "metadata": {
    "execution": {
     "iopub.execute_input": "2025-04-14T03:03:49.432592Z",
     "iopub.status.busy": "2025-04-14T03:03:49.432153Z",
     "iopub.status.idle": "2025-04-14T03:03:55.193893Z",
     "shell.execute_reply": "2025-04-14T03:03:55.192970Z"
    }
   },
   "outputs": [],
   "source": [
    "molsys = msm.build.add_missing_terminal_cappings(molsys)"
   ]
  },
  {
   "cell_type": "code",
   "execution_count": 5,
   "id": "e092ac8f-3824-47e5-b61c-e3fd9a746667",
   "metadata": {
    "execution": {
     "iopub.execute_input": "2025-04-14T03:03:55.196379Z",
     "iopub.status.busy": "2025-04-14T03:03:55.196108Z",
     "iopub.status.idle": "2025-04-14T03:03:56.485574Z",
     "shell.execute_reply": "2025-04-14T03:03:56.484856Z"
    }
   },
   "outputs": [],
   "source": [
    "molsys = msm.build.add_missing_hydrogens(molsys)"
   ]
  },
  {
   "cell_type": "code",
   "execution_count": 6,
   "id": "0a9716f0-49c9-439a-a9ff-09a7abdd158e",
   "metadata": {
    "execution": {
     "iopub.execute_input": "2025-04-14T03:03:56.488066Z",
     "iopub.status.busy": "2025-04-14T03:03:56.487689Z",
     "iopub.status.idle": "2025-04-14T03:03:56.704553Z",
     "shell.execute_reply": "2025-04-14T03:03:56.703537Z"
    }
   },
   "outputs": [
    {
     "data": {
      "text/plain": [
       "False"
      ]
     },
     "execution_count": 6,
     "metadata": {},
     "output_type": "execute_result"
    }
   ],
   "source": [
    "msm.build.is_solvated(molsys)"
   ]
  },
  {
   "cell_type": "code",
   "execution_count": 7,
   "id": "408b416d-38c9-43e7-a6de-60c3ce97b983",
   "metadata": {
    "execution": {
     "iopub.execute_input": "2025-04-14T03:03:56.706961Z",
     "iopub.status.busy": "2025-04-14T03:03:56.706627Z",
     "iopub.status.idle": "2025-04-14T03:04:00.435825Z",
     "shell.execute_reply": "2025-04-14T03:04:00.434738Z"
    }
   },
   "outputs": [],
   "source": [
    "molsys = msm.build.solvate(molsys,box_shape='cubic', clearance='14.0 angstroms', water_model='TIP3P')"
   ]
  },
  {
   "cell_type": "code",
   "execution_count": 8,
   "id": "44f7d05d-2ec0-4f63-bf5b-5272bd3a1dd6",
   "metadata": {
    "execution": {
     "iopub.execute_input": "2025-04-14T03:04:00.439235Z",
     "iopub.status.busy": "2025-04-14T03:04:00.438649Z",
     "iopub.status.idle": "2025-04-14T03:04:00.735897Z",
     "shell.execute_reply": "2025-04-14T03:04:00.735042Z"
    }
   },
   "outputs": [
    {
     "data": {
      "text/plain": [
       "True"
      ]
     },
     "execution_count": 8,
     "metadata": {},
     "output_type": "execute_result"
    }
   ],
   "source": [
    "msm.build.is_solvated(molsys)"
   ]
  },
  {
   "cell_type": "code",
   "execution_count": 9,
   "id": "3fc4b87e-69e4-44d8-8ff7-6a6d3bb65cad",
   "metadata": {
    "execution": {
     "iopub.execute_input": "2025-04-14T03:04:00.738560Z",
     "iopub.status.busy": "2025-04-14T03:04:00.738083Z",
     "iopub.status.idle": "2025-04-14T03:04:00.905514Z",
     "shell.execute_reply": "2025-04-14T03:04:00.904792Z"
    }
   },
   "outputs": [
    {
     "data": {
      "text/plain": [
       "1497"
      ]
     },
     "execution_count": 9,
     "metadata": {},
     "output_type": "execute_result"
    }
   ],
   "source": [
    "msm.get(molsys, n_waters=True)"
   ]
  }
 ],
 "metadata": {
  "kernelspec": {
   "display_name": "Python 3 (ipykernel)",
   "language": "python",
   "name": "python3"
  },
  "language_info": {
   "codemirror_mode": {
    "name": "ipython",
    "version": 3
   },
   "file_extension": ".py",
   "mimetype": "text/x-python",
   "name": "python",
   "nbconvert_exporter": "python",
   "pygments_lexer": "ipython3",
   "version": "3.12.9"
  },
  "widgets": {
   "application/vnd.jupyter.widget-state+json": {
    "state": {
     "0343d2c6d74f47d7ad1ddc9178bd1950": {
      "model_module": "@jupyter-widgets/base",
      "model_module_version": "2.0.0",
      "model_name": "LayoutModel",
      "state": {
       "_model_module": "@jupyter-widgets/base",
       "_model_module_version": "2.0.0",
       "_model_name": "LayoutModel",
       "_view_count": null,
       "_view_module": "@jupyter-widgets/base",
       "_view_module_version": "2.0.0",
       "_view_name": "LayoutView",
       "align_content": null,
       "align_items": null,
       "align_self": null,
       "border_bottom": null,
       "border_left": null,
       "border_right": null,
       "border_top": null,
       "bottom": null,
       "display": null,
       "flex": null,
       "flex_flow": null,
       "grid_area": null,
       "grid_auto_columns": null,
       "grid_auto_flow": null,
       "grid_auto_rows": null,
       "grid_column": null,
       "grid_gap": null,
       "grid_row": null,
       "grid_template_areas": null,
       "grid_template_columns": null,
       "grid_template_rows": null,
       "height": null,
       "justify_content": null,
       "justify_items": null,
       "left": null,
       "margin": null,
       "max_height": null,
       "max_width": null,
       "min_height": null,
       "min_width": null,
       "object_fit": null,
       "object_position": null,
       "order": null,
       "overflow": null,
       "padding": null,
       "right": null,
       "top": null,
       "visibility": null,
       "width": null
      }
     },
     "bfac53b76637483fbfecc7ca88678060": {
      "model_module": "nglview-js-widgets",
      "model_module_version": "3.0.8",
      "model_name": "ColormakerRegistryModel",
      "state": {
       "_dom_classes": [],
       "_model_module": "nglview-js-widgets",
       "_model_module_version": "3.0.8",
       "_model_name": "ColormakerRegistryModel",
       "_msg_ar": [],
       "_msg_q": [],
       "_ready": false,
       "_view_count": null,
       "_view_module": "nglview-js-widgets",
       "_view_module_version": "3.0.8",
       "_view_name": "ColormakerRegistryView",
       "layout": "IPY_MODEL_0343d2c6d74f47d7ad1ddc9178bd1950",
       "tabbable": null,
       "tooltip": null
      }
     }
    },
    "version_major": 2,
    "version_minor": 0
   }
  }
 },
 "nbformat": 4,
 "nbformat_minor": 5
}
