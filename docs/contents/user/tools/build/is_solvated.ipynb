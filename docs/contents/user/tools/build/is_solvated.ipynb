{
 "cells": [
  {
   "cell_type": "code",
   "execution_count": 1,
   "id": "62a9159a-8347-4dff-b4e2-8e7dccf16322",
   "metadata": {
    "execution": {
     "iopub.execute_input": "2025-03-11T21:06:34.323977Z",
     "iopub.status.busy": "2025-03-11T21:06:34.323410Z",
     "iopub.status.idle": "2025-03-11T21:06:34.360903Z",
     "shell.execute_reply": "2025-03-11T21:06:34.359914Z"
    }
   },
   "outputs": [],
   "source": [
    "%load_ext autoreload\n",
    "%autoreload 2"
   ]
  },
  {
   "cell_type": "code",
   "execution_count": 2,
   "id": "5d5a6cea-c1ce-4e37-8290-88e4eb449542",
   "metadata": {
    "execution": {
     "iopub.execute_input": "2025-03-11T21:06:34.365164Z",
     "iopub.status.busy": "2025-03-11T21:06:34.364430Z",
     "iopub.status.idle": "2025-03-11T21:06:43.424125Z",
     "shell.execute_reply": "2025-03-11T21:06:43.423147Z"
    }
   },
   "outputs": [
    {
     "data": {
      "application/vnd.jupyter.widget-view+json": {
       "model_id": "0d7122badeec4d14a110c37250a43cae",
       "version_major": 2,
       "version_minor": 0
      },
      "text/plain": []
     },
     "metadata": {},
     "output_type": "display_data"
    }
   ],
   "source": [
    "import molsysmt as msm"
   ]
  },
  {
   "cell_type": "markdown",
   "id": "386916cd-3ab0-4cd5-b72f-784fb291d9b7",
   "metadata": {},
   "source": [
    "# Is solvated"
   ]
  },
  {
   "cell_type": "code",
   "execution_count": 3,
   "id": "9dd4b587-d504-4ddb-bdc1-6f158fd4343d",
   "metadata": {
    "execution": {
     "iopub.execute_input": "2025-03-11T21:06:43.427765Z",
     "iopub.status.busy": "2025-03-11T21:06:43.426877Z",
     "iopub.status.idle": "2025-03-11T21:06:44.366961Z",
     "shell.execute_reply": "2025-03-11T21:06:44.366028Z"
    }
   },
   "outputs": [],
   "source": [
    "molsys = msm.convert(msm.systems['Met-enkephalin']['met_enkephalin.h5msm'], to_form='molsysmt.MolSys')"
   ]
  },
  {
   "cell_type": "code",
   "execution_count": 4,
   "id": "d36dcf1e-4391-4ff3-bd78-11fbbf5a72f2",
   "metadata": {
    "execution": {
     "iopub.execute_input": "2025-03-11T21:06:44.371877Z",
     "iopub.status.busy": "2025-03-11T21:06:44.370731Z",
     "iopub.status.idle": "2025-03-11T21:06:54.853528Z",
     "shell.execute_reply": "2025-03-11T21:06:54.852526Z"
    }
   },
   "outputs": [],
   "source": [
    "molsys = msm.build.add_missing_terminal_cappings(molsys)"
   ]
  },
  {
   "cell_type": "code",
   "execution_count": 5,
   "id": "e092ac8f-3824-47e5-b61c-e3fd9a746667",
   "metadata": {
    "execution": {
     "iopub.execute_input": "2025-03-11T21:06:54.857481Z",
     "iopub.status.busy": "2025-03-11T21:06:54.856979Z",
     "iopub.status.idle": "2025-03-11T21:06:59.381404Z",
     "shell.execute_reply": "2025-03-11T21:06:59.380362Z"
    }
   },
   "outputs": [],
   "source": [
    "molsys = msm.build.add_missing_hydrogens(molsys)"
   ]
  },
  {
   "cell_type": "code",
   "execution_count": 6,
   "id": "0a9716f0-49c9-439a-a9ff-09a7abdd158e",
   "metadata": {
    "execution": {
     "iopub.execute_input": "2025-03-11T21:06:59.385466Z",
     "iopub.status.busy": "2025-03-11T21:06:59.385045Z",
     "iopub.status.idle": "2025-03-11T21:06:59.951357Z",
     "shell.execute_reply": "2025-03-11T21:06:59.950431Z"
    }
   },
   "outputs": [
    {
     "data": {
      "text/plain": [
       "False"
      ]
     },
     "execution_count": 6,
     "metadata": {},
     "output_type": "execute_result"
    }
   ],
   "source": [
    "msm.build.is_solvated(molsys)"
   ]
  },
  {
   "cell_type": "code",
   "execution_count": 7,
   "id": "408b416d-38c9-43e7-a6de-60c3ce97b983",
   "metadata": {
    "execution": {
     "iopub.execute_input": "2025-03-11T21:06:59.954757Z",
     "iopub.status.busy": "2025-03-11T21:06:59.954482Z",
     "iopub.status.idle": "2025-03-11T21:07:07.344808Z",
     "shell.execute_reply": "2025-03-11T21:07:07.344012Z"
    }
   },
   "outputs": [],
   "source": [
    "molsys = msm.build.solvate(molsys,box_shape='cubic', clearance='14.0 angstroms', water_model='TIP3P')"
   ]
  },
  {
   "cell_type": "code",
   "execution_count": 8,
   "id": "44f7d05d-2ec0-4f63-bf5b-5272bd3a1dd6",
   "metadata": {
    "execution": {
     "iopub.execute_input": "2025-03-11T21:07:07.347974Z",
     "iopub.status.busy": "2025-03-11T21:07:07.347548Z",
     "iopub.status.idle": "2025-03-11T21:07:07.959563Z",
     "shell.execute_reply": "2025-03-11T21:07:07.958651Z"
    }
   },
   "outputs": [
    {
     "data": {
      "text/plain": [
       "True"
      ]
     },
     "execution_count": 8,
     "metadata": {},
     "output_type": "execute_result"
    }
   ],
   "source": [
    "msm.build.is_solvated(molsys)"
   ]
  },
  {
   "cell_type": "code",
   "execution_count": 9,
   "id": "3fc4b87e-69e4-44d8-8ff7-6a6d3bb65cad",
   "metadata": {
    "execution": {
     "iopub.execute_input": "2025-03-11T21:07:07.962428Z",
     "iopub.status.busy": "2025-03-11T21:07:07.962087Z",
     "iopub.status.idle": "2025-03-11T21:07:08.301655Z",
     "shell.execute_reply": "2025-03-11T21:07:08.300753Z"
    }
   },
   "outputs": [
    {
     "data": {
      "text/plain": [
       "1497"
      ]
     },
     "execution_count": 9,
     "metadata": {},
     "output_type": "execute_result"
    }
   ],
   "source": [
    "msm.get(molsys, n_waters=True)"
   ]
  }
 ],
 "metadata": {
  "kernelspec": {
   "display_name": "Python 3 (ipykernel)",
   "language": "python",
   "name": "python3"
  },
  "language_info": {
   "codemirror_mode": {
    "name": "ipython",
    "version": 3
   },
   "file_extension": ".py",
   "mimetype": "text/x-python",
   "name": "python",
   "nbconvert_exporter": "python",
   "pygments_lexer": "ipython3",
   "version": "3.12.8"
  },
  "widgets": {
   "application/vnd.jupyter.widget-state+json": {
    "state": {
     "0d7122badeec4d14a110c37250a43cae": {
      "model_module": "nglview-js-widgets",
      "model_module_version": "3.1.4",
      "model_name": "ColormakerRegistryModel",
      "state": {
       "_dom_classes": [],
       "_model_module": "nglview-js-widgets",
       "_model_module_version": "3.1.4",
       "_model_name": "ColormakerRegistryModel",
       "_msg_ar": [],
       "_msg_q": [],
       "_ready": false,
       "_view_count": null,
       "_view_module": "nglview-js-widgets",
       "_view_module_version": "3.1.4",
       "_view_name": "ColormakerRegistryView",
       "layout": "IPY_MODEL_9f7ebf9703f54a3fb3e67535aef2495a",
       "tabbable": null,
       "tooltip": null
      }
     },
     "9f7ebf9703f54a3fb3e67535aef2495a": {
      "model_module": "@jupyter-widgets/base",
      "model_module_version": "2.0.0",
      "model_name": "LayoutModel",
      "state": {
       "_model_module": "@jupyter-widgets/base",
       "_model_module_version": "2.0.0",
       "_model_name": "LayoutModel",
       "_view_count": null,
       "_view_module": "@jupyter-widgets/base",
       "_view_module_version": "2.0.0",
       "_view_name": "LayoutView",
       "align_content": null,
       "align_items": null,
       "align_self": null,
       "border_bottom": null,
       "border_left": null,
       "border_right": null,
       "border_top": null,
       "bottom": null,
       "display": null,
       "flex": null,
       "flex_flow": null,
       "grid_area": null,
       "grid_auto_columns": null,
       "grid_auto_flow": null,
       "grid_auto_rows": null,
       "grid_column": null,
       "grid_gap": null,
       "grid_row": null,
       "grid_template_areas": null,
       "grid_template_columns": null,
       "grid_template_rows": null,
       "height": null,
       "justify_content": null,
       "justify_items": null,
       "left": null,
       "margin": null,
       "max_height": null,
       "max_width": null,
       "min_height": null,
       "min_width": null,
       "object_fit": null,
       "object_position": null,
       "order": null,
       "overflow": null,
       "padding": null,
       "right": null,
       "top": null,
       "visibility": null,
       "width": null
      }
     }
    },
    "version_major": 2,
    "version_minor": 0
   }
  }
 },
 "nbformat": 4,
 "nbformat_minor": 5
}
