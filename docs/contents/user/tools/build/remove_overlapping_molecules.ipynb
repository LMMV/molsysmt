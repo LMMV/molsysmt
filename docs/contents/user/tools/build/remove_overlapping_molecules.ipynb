{
 "cells": [
  {
   "cell_type": "markdown",
   "id": "5b3a0eba-d62e-4972-90e0-340f56de307e",
   "metadata": {},
   "source": [
    "# Remove overlapping molecules"
   ]
  },
  {
   "cell_type": "code",
   "execution_count": 1,
   "id": "ef521f76-9661-4810-964b-f620fdb629a2",
   "metadata": {
    "execution": {
     "iopub.execute_input": "2025-03-11T21:06:18.717184Z",
     "iopub.status.busy": "2025-03-11T21:06:18.716807Z",
     "iopub.status.idle": "2025-03-11T21:06:27.678153Z",
     "shell.execute_reply": "2025-03-11T21:06:27.677161Z"
    }
   },
   "outputs": [
    {
     "data": {
      "application/vnd.jupyter.widget-view+json": {
       "model_id": "905fa46c0e4b48d49b66968319e98de1",
       "version_major": 2,
       "version_minor": 0
      },
      "text/plain": []
     },
     "metadata": {},
     "output_type": "display_data"
    }
   ],
   "source": [
    "import molsysmt as msm\n",
    "from molsysmt import pyunitwizard as puw\n",
    "import numpy as np"
   ]
  },
  {
   "cell_type": "code",
   "execution_count": 2,
   "id": "cde2775d-1f09-44aa-af85-9e0fe8ae95f1",
   "metadata": {
    "execution": {
     "iopub.execute_input": "2025-03-11T21:06:27.682589Z",
     "iopub.status.busy": "2025-03-11T21:06:27.681633Z",
     "iopub.status.idle": "2025-03-11T21:06:27.688403Z",
     "shell.execute_reply": "2025-03-11T21:06:27.687428Z"
    }
   },
   "outputs": [],
   "source": [
    "box = np.zeros((3,3))\n",
    "box[0,0] = 3.0\n",
    "box[1,1] = 3.0\n",
    "box[2,2] = 3.0\n",
    "box = msm.pyunitwizard.quantity(box, 'nm')"
   ]
  },
  {
   "cell_type": "code",
   "execution_count": 3,
   "id": "88257cca-1cb8-4271-96b5-4823f03a3e29",
   "metadata": {
    "execution": {
     "iopub.execute_input": "2025-03-11T21:06:27.691975Z",
     "iopub.status.busy": "2025-03-11T21:06:27.691532Z",
     "iopub.status.idle": "2025-03-11T21:06:27.823894Z",
     "shell.execute_reply": "2025-03-11T21:06:27.822939Z"
    }
   },
   "outputs": [],
   "source": [
    "water_box = msm.build.make_water_box(box)"
   ]
  },
  {
   "cell_type": "code",
   "execution_count": 4,
   "id": "e8e5a36a-3472-489e-8290-5416cd8063dc",
   "metadata": {
    "execution": {
     "iopub.execute_input": "2025-03-11T21:06:27.828356Z",
     "iopub.status.busy": "2025-03-11T21:06:27.827357Z",
     "iopub.status.idle": "2025-03-11T21:06:31.102891Z",
     "shell.execute_reply": "2025-03-11T21:06:31.101799Z"
    }
   },
   "outputs": [],
   "source": [
    "peptide = msm.build.build_peptide('ACEALAALANME')\n",
    "peptide = msm.structure.center(peptide, center_coordinates=0.5*box.diagonal())"
   ]
  },
  {
   "cell_type": "code",
   "execution_count": 5,
   "id": "6cd4d744-9e51-4cef-8772-045fd5025650",
   "metadata": {
    "execution": {
     "iopub.execute_input": "2025-03-11T21:06:31.106773Z",
     "iopub.status.busy": "2025-03-11T21:06:31.106407Z",
     "iopub.status.idle": "2025-03-11T21:06:31.440108Z",
     "shell.execute_reply": "2025-03-11T21:06:31.439266Z"
    }
   },
   "outputs": [],
   "source": [
    "molsys = msm.merge([water_box, peptide])"
   ]
  },
  {
   "cell_type": "code",
   "execution_count": 6,
   "id": "b4fa1e34-4295-4c0e-a6fc-7e871b552b9a",
   "metadata": {
    "execution": {
     "iopub.execute_input": "2025-03-11T21:06:31.445624Z",
     "iopub.status.busy": "2025-03-11T21:06:31.445242Z",
     "iopub.status.idle": "2025-03-11T21:06:34.390243Z",
     "shell.execute_reply": "2025-03-11T21:06:34.389542Z"
    }
   },
   "outputs": [
    {
     "data": {
      "text/html": [
       "<style type=\"text/css\">\n",
       "</style>\n",
       "<table id=\"T_05670\">\n",
       "  <thead>\n",
       "    <tr>\n",
       "      <th id=\"T_05670_level0_col0\" class=\"col_heading level0 col0\" >form</th>\n",
       "      <th id=\"T_05670_level0_col1\" class=\"col_heading level0 col1\" >n_atoms</th>\n",
       "      <th id=\"T_05670_level0_col2\" class=\"col_heading level0 col2\" >n_groups</th>\n",
       "      <th id=\"T_05670_level0_col3\" class=\"col_heading level0 col3\" >n_components</th>\n",
       "      <th id=\"T_05670_level0_col4\" class=\"col_heading level0 col4\" >n_chains</th>\n",
       "      <th id=\"T_05670_level0_col5\" class=\"col_heading level0 col5\" >n_molecules</th>\n",
       "      <th id=\"T_05670_level0_col6\" class=\"col_heading level0 col6\" >n_entities</th>\n",
       "      <th id=\"T_05670_level0_col7\" class=\"col_heading level0 col7\" >n_waters</th>\n",
       "      <th id=\"T_05670_level0_col8\" class=\"col_heading level0 col8\" >n_peptides</th>\n",
       "      <th id=\"T_05670_level0_col9\" class=\"col_heading level0 col9\" >n_structures</th>\n",
       "    </tr>\n",
       "  </thead>\n",
       "  <tbody>\n",
       "    <tr>\n",
       "      <td id=\"T_05670_row0_col0\" class=\"data row0 col0\" >molsysmt.MolSys</td>\n",
       "      <td id=\"T_05670_row0_col1\" class=\"data row0 col1\" >2729</td>\n",
       "      <td id=\"T_05670_row0_col2\" class=\"data row0 col2\" >903</td>\n",
       "      <td id=\"T_05670_row0_col3\" class=\"data row0 col3\" >900</td>\n",
       "      <td id=\"T_05670_row0_col4\" class=\"data row0 col4\" >2</td>\n",
       "      <td id=\"T_05670_row0_col5\" class=\"data row0 col5\" >900</td>\n",
       "      <td id=\"T_05670_row0_col6\" class=\"data row0 col6\" >2</td>\n",
       "      <td id=\"T_05670_row0_col7\" class=\"data row0 col7\" >899</td>\n",
       "      <td id=\"T_05670_row0_col8\" class=\"data row0 col8\" >1</td>\n",
       "      <td id=\"T_05670_row0_col9\" class=\"data row0 col9\" >1</td>\n",
       "    </tr>\n",
       "  </tbody>\n",
       "</table>\n"
      ],
      "text/plain": [
       "<pandas.io.formats.style.Styler at 0x7f72c02c51c0>"
      ]
     },
     "execution_count": 6,
     "metadata": {},
     "output_type": "execute_result"
    }
   ],
   "source": [
    "msm.info(molsys)"
   ]
  },
  {
   "cell_type": "code",
   "execution_count": 7,
   "id": "b6d42b26-a4f9-4000-83be-730a6b03dea8",
   "metadata": {
    "execution": {
     "iopub.execute_input": "2025-03-11T21:06:34.393722Z",
     "iopub.status.busy": "2025-03-11T21:06:34.393269Z",
     "iopub.status.idle": "2025-03-11T21:06:39.537552Z",
     "shell.execute_reply": "2025-03-11T21:06:39.536718Z"
    }
   },
   "outputs": [],
   "source": [
    "new_molsys = msm.build.remove_overlapping_molecules(molsys, selection='molecule_type==\"water\"')"
   ]
  },
  {
   "cell_type": "code",
   "execution_count": 8,
   "id": "e66d1c00-e7d2-4e3a-9edb-e67168e94ebd",
   "metadata": {
    "execution": {
     "iopub.execute_input": "2025-03-11T21:06:39.541674Z",
     "iopub.status.busy": "2025-03-11T21:06:39.541098Z",
     "iopub.status.idle": "2025-03-11T21:06:39.884003Z",
     "shell.execute_reply": "2025-03-11T21:06:39.883187Z"
    }
   },
   "outputs": [
    {
     "data": {
      "text/plain": [
       "863"
      ]
     },
     "execution_count": 8,
     "metadata": {},
     "output_type": "execute_result"
    }
   ],
   "source": [
    "msm.get(new_molsys, n_waters=True)"
   ]
  },
  {
   "cell_type": "code",
   "execution_count": 9,
   "id": "f50bc05e-7820-43c1-9812-e5216eb537d7",
   "metadata": {
    "execution": {
     "iopub.execute_input": "2025-03-11T21:06:39.888106Z",
     "iopub.status.busy": "2025-03-11T21:06:39.887516Z",
     "iopub.status.idle": "2025-03-11T21:06:44.707394Z",
     "shell.execute_reply": "2025-03-11T21:06:44.706446Z"
    }
   },
   "outputs": [],
   "source": [
    "new_molsys = msm.build.remove_overlapping_molecules(molsys, selection='atom_type!=\"H\" and molecule_type==\"water\"',\n",
    "                                                    selection_2='atom_type!=\"H\" and molecule_type==\"peptide\"',\n",
    "                                                    threshold='3 angstroms')"
   ]
  },
  {
   "cell_type": "code",
   "execution_count": 10,
   "id": "09f9ab7c-d2e8-4dc4-bbca-22c9635d12dc",
   "metadata": {
    "execution": {
     "iopub.execute_input": "2025-03-11T21:06:44.711915Z",
     "iopub.status.busy": "2025-03-11T21:06:44.711279Z",
     "iopub.status.idle": "2025-03-11T21:06:45.069047Z",
     "shell.execute_reply": "2025-03-11T21:06:45.067974Z"
    }
   },
   "outputs": [
    {
     "data": {
      "text/plain": [
       "881"
      ]
     },
     "execution_count": 10,
     "metadata": {},
     "output_type": "execute_result"
    }
   ],
   "source": [
    "msm.get(new_molsys, n_waters=True)"
   ]
  },
  {
   "cell_type": "code",
   "execution_count": 11,
   "id": "bae59761-53cd-436e-b468-e431eb62282b",
   "metadata": {
    "execution": {
     "iopub.execute_input": "2025-03-11T21:06:45.072646Z",
     "iopub.status.busy": "2025-03-11T21:06:45.072073Z",
     "iopub.status.idle": "2025-03-11T21:06:47.749630Z",
     "shell.execute_reply": "2025-03-11T21:06:47.748672Z"
    }
   },
   "outputs": [],
   "source": [
    "contact_map = msm.structure.get_contacts(new_molsys, selection='atom_type!=\"H\" and molecule_type==\"water\"',\n",
    "                                         selection_2='atom_type!=\"H\" and molecule_type==\"peptide\"',\n",
    "                                         threshold='3 angstroms', pbc=True)"
   ]
  },
  {
   "cell_type": "code",
   "execution_count": 12,
   "id": "3dd7f120-3990-47c2-bd59-70f1b629cfee",
   "metadata": {
    "execution": {
     "iopub.execute_input": "2025-03-11T21:06:47.752858Z",
     "iopub.status.busy": "2025-03-11T21:06:47.752285Z",
     "iopub.status.idle": "2025-03-11T21:06:47.759828Z",
     "shell.execute_reply": "2025-03-11T21:06:47.758983Z"
    }
   },
   "outputs": [
    {
     "data": {
      "text/plain": [
       "False"
      ]
     },
     "execution_count": 12,
     "metadata": {},
     "output_type": "execute_result"
    }
   ],
   "source": [
    "np.any(contact_map)"
   ]
  },
  {
   "cell_type": "code",
   "execution_count": null,
   "id": "a18fc9c3-2af3-4805-b2eb-90609c411d0e",
   "metadata": {},
   "outputs": [],
   "source": []
  }
 ],
 "metadata": {
  "kernelspec": {
   "display_name": "Python 3 (ipykernel)",
   "language": "python",
   "name": "python3"
  },
  "language_info": {
   "codemirror_mode": {
    "name": "ipython",
    "version": 3
   },
   "file_extension": ".py",
   "mimetype": "text/x-python",
   "name": "python",
   "nbconvert_exporter": "python",
   "pygments_lexer": "ipython3",
   "version": "3.12.8"
  },
  "widgets": {
   "application/vnd.jupyter.widget-state+json": {
    "state": {
     "0c095b26337544bfaa3acf50bb7850c5": {
      "model_module": "@jupyter-widgets/base",
      "model_module_version": "2.0.0",
      "model_name": "LayoutModel",
      "state": {
       "_model_module": "@jupyter-widgets/base",
       "_model_module_version": "2.0.0",
       "_model_name": "LayoutModel",
       "_view_count": null,
       "_view_module": "@jupyter-widgets/base",
       "_view_module_version": "2.0.0",
       "_view_name": "LayoutView",
       "align_content": null,
       "align_items": null,
       "align_self": null,
       "border_bottom": null,
       "border_left": null,
       "border_right": null,
       "border_top": null,
       "bottom": null,
       "display": null,
       "flex": null,
       "flex_flow": null,
       "grid_area": null,
       "grid_auto_columns": null,
       "grid_auto_flow": null,
       "grid_auto_rows": null,
       "grid_column": null,
       "grid_gap": null,
       "grid_row": null,
       "grid_template_areas": null,
       "grid_template_columns": null,
       "grid_template_rows": null,
       "height": null,
       "justify_content": null,
       "justify_items": null,
       "left": null,
       "margin": null,
       "max_height": null,
       "max_width": null,
       "min_height": null,
       "min_width": null,
       "object_fit": null,
       "object_position": null,
       "order": null,
       "overflow": null,
       "padding": null,
       "right": null,
       "top": null,
       "visibility": null,
       "width": null
      }
     },
     "905fa46c0e4b48d49b66968319e98de1": {
      "model_module": "nglview-js-widgets",
      "model_module_version": "3.1.4",
      "model_name": "ColormakerRegistryModel",
      "state": {
       "_dom_classes": [],
       "_model_module": "nglview-js-widgets",
       "_model_module_version": "3.1.4",
       "_model_name": "ColormakerRegistryModel",
       "_msg_ar": [],
       "_msg_q": [],
       "_ready": false,
       "_view_count": null,
       "_view_module": "nglview-js-widgets",
       "_view_module_version": "3.1.4",
       "_view_name": "ColormakerRegistryView",
       "layout": "IPY_MODEL_0c095b26337544bfaa3acf50bb7850c5",
       "tabbable": null,
       "tooltip": null
      }
     }
    },
    "version_major": 2,
    "version_minor": 0
   }
  }
 },
 "nbformat": 4,
 "nbformat_minor": 5
}
