{
 "cells": [
  {
   "cell_type": "code",
   "execution_count": 1,
   "id": "1c11382e-f67d-466e-aee6-5725b4200a69",
   "metadata": {},
   "outputs": [],
   "source": [
    "%load_ext autoreload\n",
    "%autoreload 2"
   ]
  },
  {
   "cell_type": "code",
   "execution_count": 2,
   "id": "3775837e-62a7-4079-9661-372cc4563718",
   "metadata": {},
   "outputs": [
    {
     "data": {
      "application/vnd.jupyter.widget-view+json": {
       "model_id": "a6823e83359c4fd8962396bd36a221f7",
       "version_major": 2,
       "version_minor": 0
      },
      "text/plain": []
     },
     "metadata": {},
     "output_type": "display_data"
    }
   ],
   "source": [
    "import molsysmt as msm"
   ]
  },
  {
   "cell_type": "markdown",
   "id": "2f6cd114-c906-428f-b51f-3f7ff6267132",
   "metadata": {},
   "source": [
    "# Remove atoms with alternate locations"
   ]
  },
  {
   "cell_type": "code",
   "execution_count": 3,
   "id": "36127e9e-6811-4c65-bf88-b51c121b5265",
   "metadata": {},
   "outputs": [
    {
     "name": "stderr",
     "output_type": "stream",
     "text": [
      "/home/diego/projects@dprada/MolSysMT/molsysmt/item/mmtf_MMTFDecoder/to_molsysmt_Topology.py:32: UserWarning: The structure in the PDB has biological assemblies. There are geometrical transformations proposed in the structure. See the following issue in the source code repository: https://github.com/uibcdf/MolSysMT/issues/33\n",
      "  warnings.warn(warning_message)\n",
      "/home/diego/projects@dprada/MolSysMT/molsysmt/item/mmtf_MMTFDecoder/to_molsysmt_Topology.py:46: UserWarning: The bioassembly has a different number of chains than the total amount of chains\n",
      "  warnings.warn(warning_message)\n"
     ]
    }
   ],
   "source": [
    "molecular_system = msm.convert('pdb_id:1brs', to_form='molsysmt.MolSys')"
   ]
  },
  {
   "cell_type": "code",
   "execution_count": 4,
   "id": "50ce93dd-09d5-475f-8615-b90985c3dbc8",
   "metadata": {},
   "outputs": [
    {
     "data": {
      "text/plain": [
       "[array([2686, 2688]), array([2687, 2689])]"
      ]
     },
     "execution_count": 4,
     "metadata": {},
     "output_type": "execute_result"
    }
   ],
   "source": [
    "msm.build.get_atoms_with_alternate_locations(molecular_system)"
   ]
  },
  {
   "cell_type": "code",
   "execution_count": 5,
   "id": "26ad189a-fca2-4ed4-bb2a-1f4a9f0d36af",
   "metadata": {},
   "outputs": [
    {
     "data": {
      "text/plain": [
       "[array([0.5, 0.5]), array(['A', 'B'], dtype=object)]"
      ]
     },
     "execution_count": 5,
     "metadata": {},
     "output_type": "execute_result"
    }
   ],
   "source": [
    "msm.get(molecular_system, element='atom', selection=[2686, 2688], occupancy=True, alternate_location=True)"
   ]
  },
  {
   "cell_type": "code",
   "execution_count": 6,
   "id": "ffbb88c9-b1e5-4bd2-b72c-50faa475836c",
   "metadata": {},
   "outputs": [
    {
     "data": {
      "text/plain": [
       "[array([0.5, 0.5]), array(['A', 'B'], dtype=object)]"
      ]
     },
     "execution_count": 6,
     "metadata": {},
     "output_type": "execute_result"
    }
   ],
   "source": [
    "msm.get(molecular_system, element='atom', selection=[2687, 2689], occupancy=True, alternate_location=True)"
   ]
  },
  {
   "cell_type": "code",
   "execution_count": 8,
   "id": "eb030ee7-532d-4047-9ceb-cb4e1a3f6f9c",
   "metadata": {},
   "outputs": [],
   "source": [
    "molecular_system = msm.build.remove_atoms_with_alternate_locations(molecular_system, keep='A')"
   ]
  },
  {
   "cell_type": "code",
   "execution_count": 9,
   "id": "a56c48ab-6512-45d7-aca2-a67f7f52eb84",
   "metadata": {},
   "outputs": [],
   "source": [
    "atoms_A = msm.select(molecular_system, selection='alternate_location==\"A\"')"
   ]
  },
  {
   "cell_type": "code",
   "execution_count": 10,
   "id": "fa6f5676-6aaf-40f5-bf58-601812cccb61",
   "metadata": {},
   "outputs": [
    {
     "data": {
      "text/plain": [
       "array([2686, 2687])"
      ]
     },
     "execution_count": 10,
     "metadata": {},
     "output_type": "execute_result"
    }
   ],
   "source": [
    "atoms_A"
   ]
  },
  {
   "cell_type": "code",
   "execution_count": 11,
   "id": "1db637ca-0aa0-450e-b3db-4c72715ab444",
   "metadata": {},
   "outputs": [],
   "source": [
    "atoms_B = msm.select(molecular_system, selection='alternate_location==\"B\"')"
   ]
  },
  {
   "cell_type": "code",
   "execution_count": 12,
   "id": "f2e09977-e6e6-44c6-b55e-30cfe2e13cf2",
   "metadata": {},
   "outputs": [
    {
     "data": {
      "text/plain": [
       "array([], dtype=int64)"
      ]
     },
     "execution_count": 12,
     "metadata": {},
     "output_type": "execute_result"
    }
   ],
   "source": [
    "atoms_B"
   ]
  },
  {
   "cell_type": "code",
   "execution_count": null,
   "id": "4d22677b-f3fb-46bc-908a-eb7289537adb",
   "metadata": {},
   "outputs": [],
   "source": []
  }
 ],
 "metadata": {
  "kernelspec": {
   "display_name": "Python 3 (ipykernel)",
   "language": "python",
   "name": "python3"
  },
  "language_info": {
   "codemirror_mode": {
    "name": "ipython",
    "version": 3
   },
   "file_extension": ".py",
   "mimetype": "text/x-python",
   "name": "python",
   "nbconvert_exporter": "python",
   "pygments_lexer": "ipython3",
   "version": "3.9.16"
  }
 },
 "nbformat": 4,
 "nbformat_minor": 5
}
