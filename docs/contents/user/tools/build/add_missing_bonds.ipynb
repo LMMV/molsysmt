{
 "cells": [
  {
   "cell_type": "code",
   "execution_count": 1,
   "id": "3908cf62-3a4c-4c82-a061-e78f6f2f7097",
   "metadata": {
    "execution": {
     "iopub.execute_input": "2025-04-13T05:01:57.228372Z",
     "iopub.status.busy": "2025-04-13T05:01:57.227638Z",
     "iopub.status.idle": "2025-04-13T05:01:57.239732Z",
     "shell.execute_reply": "2025-04-13T05:01:57.237221Z"
    },
    "tags": [
     "remove-input"
    ]
   },
   "outputs": [],
   "source": [
    "# This cell is removed with the tag: \"remove-input\"\n",
    "# As such, it will not be shown in documentation\n",
    "\n",
    "#import warnings\n",
    "#warnings.filterwarnings('ignore')"
   ]
  },
  {
   "cell_type": "markdown",
   "id": "034d6a12-81b5-40fe-89a7-59046d378078",
   "metadata": {},
   "source": [
    "(Tutorial_Add_missing_bonds)=\n",
    "# Add missing bonds\n",
    "\n",
    "*Inferring and adding covalent bonds based on distances and atomic types.*\n",
    "\n",
    "This function allows you to automatically add covalent bonds to a molecular system.\n",
    "It infers the bonding pattern based on interatomic distances and standard valence\n",
    "rules for known elements. Useful for structures with missing or incomplete topology.\n",
    "\n",
    ":::{versionadded} 1.0.0\n",
    ":::\n",
    "\n",
    "## How this function works\n",
    "\n",
    "```{admonition} API documentation\n",
    "Follow this link for a detailed description of the input arguments, raised errors, and returned objects of this function {func}`molsysmt.build.add_missing_bonds()`.\n",
    "```\n",
    "\n",
    "This function analyzes atomic positions and element types to determine which atom pairs are close enough to form covalent bonds, based on standard distance thresholds specific to each element. Only atoms within the same molecule or connected fragment are considered.\n",
    "\n",
    "The inferred bonds are added to the `bonded_atoms` attribute of the molecular system. No bond orders or types are assigned — only covalent connectivity is inferred.\n",
    "\n",
    "This method is especially useful when loading structures that contain atomic coordinates but lack full bonding information, such as `.pdb`, `.xyz`, or trajectory files.\n",
    "\n",
    "We will use the alanine dipeptide demo system, which includes coordinates and topology. To simulate a scenario with missing bonds, we will first remove all existing bonds."
   ]
  },
  {
   "cell_type": "code",
   "execution_count": 2,
   "id": "298105c1-444e-4e94-bf44-e16ce0e5e171",
   "metadata": {
    "execution": {
     "iopub.execute_input": "2025-04-13T05:01:57.247147Z",
     "iopub.status.busy": "2025-04-13T05:01:57.246412Z",
     "iopub.status.idle": "2025-04-13T05:02:02.128826Z",
     "shell.execute_reply": "2025-04-13T05:02:02.128154Z"
    }
   },
   "outputs": [
    {
     "data": {
      "application/vnd.jupyter.widget-view+json": {
       "model_id": "03fe3f06d4ca48f5b7293064a97ebee8",
       "version_major": 2,
       "version_minor": 0
      },
      "text/plain": []
     },
     "metadata": {},
     "output_type": "display_data"
    }
   ],
   "source": [
    "import molsysmt as msm"
   ]
  },
  {
   "cell_type": "code",
   "execution_count": 3,
   "id": "cb9faa83-9dba-4e6e-8e89-ad0ae6604c80",
   "metadata": {
    "execution": {
     "iopub.execute_input": "2025-04-13T05:02:02.131045Z",
     "iopub.status.busy": "2025-04-13T05:02:02.130661Z",
     "iopub.status.idle": "2025-04-13T05:02:02.133826Z",
     "shell.execute_reply": "2025-04-13T05:02:02.133355Z"
    }
   },
   "outputs": [],
   "source": [
    "molsys = msm.systems['alanine dipeptide']['alanine_dipeptide.h5msm']"
   ]
  },
  {
   "cell_type": "code",
   "execution_count": 4,
   "id": "e0970914-34f1-4ae6-8104-76ea7394046b",
   "metadata": {
    "execution": {
     "iopub.execute_input": "2025-04-13T05:02:02.135892Z",
     "iopub.status.busy": "2025-04-13T05:02:02.135602Z",
     "iopub.status.idle": "2025-04-13T05:02:02.494422Z",
     "shell.execute_reply": "2025-04-13T05:02:02.493623Z"
    }
   },
   "outputs": [],
   "source": [
    "molsys = msm.convert(molsys)"
   ]
  },
  {
   "cell_type": "markdown",
   "id": "b49a0a01-b712-4a9b-a4d9-6bf5a7ca1315",
   "metadata": {},
   "source": [
    "To demonstrate {func}`molsysmt.build.add_missing_bonds()`, start by saving apart the list of `bonded_atom_pairs` and removing all existing covalent bonds from the molecular system."
   ]
  },
  {
   "cell_type": "code",
   "execution_count": 5,
   "id": "fc7a3b4a-c6c8-4690-884d-ff054daddd44",
   "metadata": {
    "execution": {
     "iopub.execute_input": "2025-04-13T05:02:02.496676Z",
     "iopub.status.busy": "2025-04-13T05:02:02.496278Z",
     "iopub.status.idle": "2025-04-13T05:02:02.640043Z",
     "shell.execute_reply": "2025-04-13T05:02:02.639273Z"
    }
   },
   "outputs": [],
   "source": [
    "bonded_atom_pairs = msm.get(molsys, bonded_atom_pairs=True)"
   ]
  },
  {
   "cell_type": "code",
   "execution_count": 6,
   "id": "5218d00e-a83b-4cb8-a01f-5b0c28686bdc",
   "metadata": {
    "execution": {
     "iopub.execute_input": "2025-04-13T05:02:02.642743Z",
     "iopub.status.busy": "2025-04-13T05:02:02.642507Z",
     "iopub.status.idle": "2025-04-13T05:02:02.720867Z",
     "shell.execute_reply": "2025-04-13T05:02:02.720127Z"
    }
   },
   "outputs": [],
   "source": [
    "msm.build.remove_bonds(molsys)"
   ]
  },
  {
   "cell_type": "code",
   "execution_count": 7,
   "id": "677b1937-ab7f-4580-90ac-08de1f3069b2",
   "metadata": {
    "execution": {
     "iopub.execute_input": "2025-04-13T05:02:02.724049Z",
     "iopub.status.busy": "2025-04-13T05:02:02.723265Z",
     "iopub.status.idle": "2025-04-13T05:02:02.865075Z",
     "shell.execute_reply": "2025-04-13T05:02:02.864398Z"
    }
   },
   "outputs": [
    {
     "data": {
      "text/plain": [
       "0"
      ]
     },
     "execution_count": 7,
     "metadata": {},
     "output_type": "execute_result"
    }
   ],
   "source": [
    "msm.get(molsys, n_bonds=True)"
   ]
  },
  {
   "cell_type": "markdown",
   "id": "813cc620-ff63-4cdb-bec6-8dc6413c410f",
   "metadata": {},
   "source": [
    "We now call {func}`molsysmt.build.add_missing_bonds()` to infer covalent bonds based on interatomic\n",
    "distances and chemical knowledge. This updates the `bonded_atoms` attribute."
   ]
  },
  {
   "cell_type": "code",
   "execution_count": 8,
   "id": "88abb2cb-2778-4d1f-9ab5-df84d879a7ec",
   "metadata": {
    "execution": {
     "iopub.execute_input": "2025-04-13T05:02:02.868079Z",
     "iopub.status.busy": "2025-04-13T05:02:02.867488Z",
     "iopub.status.idle": "2025-04-13T05:02:04.156350Z",
     "shell.execute_reply": "2025-04-13T05:02:04.155518Z"
    }
   },
   "outputs": [],
   "source": [
    "msm.build.add_missing_bonds(molsys)"
   ]
  },
  {
   "cell_type": "markdown",
   "id": "81016d4e-fa78-47a9-8bb2-f37552fa1e34",
   "metadata": {},
   "source": [
    "Finnally, we check the list of bonded atom pairs to confirm that bonding information was restored successfully."
   ]
  },
  {
   "cell_type": "code",
   "execution_count": 9,
   "id": "03c79ad9-3ccf-46ce-b04a-13a4933e7b44",
   "metadata": {
    "execution": {
     "iopub.execute_input": "2025-04-13T05:02:04.159549Z",
     "iopub.status.busy": "2025-04-13T05:02:04.158863Z",
     "iopub.status.idle": "2025-04-13T05:02:04.303891Z",
     "shell.execute_reply": "2025-04-13T05:02:04.302938Z"
    }
   },
   "outputs": [
    {
     "data": {
      "text/plain": [
       "21"
      ]
     },
     "execution_count": 9,
     "metadata": {},
     "output_type": "execute_result"
    }
   ],
   "source": [
    "msm.get(molsys, n_bonds=True)"
   ]
  },
  {
   "cell_type": "code",
   "execution_count": 10,
   "id": "7c3129c2-c4c3-403b-8053-9f361371f9a2",
   "metadata": {
    "execution": {
     "iopub.execute_input": "2025-04-13T05:02:04.306292Z",
     "iopub.status.busy": "2025-04-13T05:02:04.306042Z",
     "iopub.status.idle": "2025-04-13T05:02:04.449897Z",
     "shell.execute_reply": "2025-04-13T05:02:04.449014Z"
    }
   },
   "outputs": [],
   "source": [
    "new_bonded_atom_pairs = msm.get(molsys, bonded_atom_pairs=True)"
   ]
  },
  {
   "cell_type": "code",
   "execution_count": 11,
   "id": "aa10a14e-f3bf-4edb-ae1a-c648d68a7bbf",
   "metadata": {
    "execution": {
     "iopub.execute_input": "2025-04-13T05:02:04.453378Z",
     "iopub.status.busy": "2025-04-13T05:02:04.452780Z",
     "iopub.status.idle": "2025-04-13T05:02:04.458148Z",
     "shell.execute_reply": "2025-04-13T05:02:04.457366Z"
    }
   },
   "outputs": [
    {
     "data": {
      "text/plain": [
       "True"
      ]
     },
     "execution_count": 11,
     "metadata": {},
     "output_type": "execute_result"
    }
   ],
   "source": [
    "new_bonded_atom_pairs == bonded_atom_pairs"
   ]
  },
  {
   "cell_type": "markdown",
   "id": "33b2425a-b600-44e4-a773-22a92917b196",
   "metadata": {},
   "source": [
    ":::{seealso}\n",
    "[User guide > Tools > Build > Add bonds](add_bonds.ipynb):\n",
    "Manually define new bonds between specific atom pairs.\n",
    "\n",
    "[User guide > Tools > Build > Remove bonds](remove_bonds.ipynb):    \n",
    "Remove selected covalent bonds from a molecular system.\n",
    "\n",
    "[User guide > Tools > Build > Add missing bonds](add_missing_bonds.ipynb):    \n",
    "Automatically identify and add missing covalent bonds based on distances and atomic types.\n",
    "\n",
    "[User guide > Tools > Basic > Convert](../basic/convert.ipynb): \n",
    "Convert between different molecular system formats.\n",
    "\n",
    "[User guide > Tools > Basic > Get](../basic/get.ipynb): \n",
    "Access attribute values like `bonded_atoms`, `atom_name`, etc.\n",
    "\n",
    ":::"
   ]
  }
 ],
 "metadata": {
  "kernelspec": {
   "display_name": "Python 3 (ipykernel)",
   "language": "python",
   "name": "python3"
  },
  "language_info": {
   "codemirror_mode": {
    "name": "ipython",
    "version": 3
   },
   "file_extension": ".py",
   "mimetype": "text/x-python",
   "name": "python",
   "nbconvert_exporter": "python",
   "pygments_lexer": "ipython3",
   "version": "3.12.9"
  },
  "widgets": {
   "application/vnd.jupyter.widget-state+json": {
    "state": {
     "03fe3f06d4ca48f5b7293064a97ebee8": {
      "model_module": "nglview-js-widgets",
      "model_module_version": "3.0.8",
      "model_name": "ColormakerRegistryModel",
      "state": {
       "_dom_classes": [],
       "_model_module": "nglview-js-widgets",
       "_model_module_version": "3.0.8",
       "_model_name": "ColormakerRegistryModel",
       "_msg_ar": [],
       "_msg_q": [],
       "_ready": false,
       "_view_count": null,
       "_view_module": "nglview-js-widgets",
       "_view_module_version": "3.0.8",
       "_view_name": "ColormakerRegistryView",
       "layout": "IPY_MODEL_94bf0d1a2af64f8190a7116c055e80c8",
       "tabbable": null,
       "tooltip": null
      }
     },
     "94bf0d1a2af64f8190a7116c055e80c8": {
      "model_module": "@jupyter-widgets/base",
      "model_module_version": "2.0.0",
      "model_name": "LayoutModel",
      "state": {
       "_model_module": "@jupyter-widgets/base",
       "_model_module_version": "2.0.0",
       "_model_name": "LayoutModel",
       "_view_count": null,
       "_view_module": "@jupyter-widgets/base",
       "_view_module_version": "2.0.0",
       "_view_name": "LayoutView",
       "align_content": null,
       "align_items": null,
       "align_self": null,
       "border_bottom": null,
       "border_left": null,
       "border_right": null,
       "border_top": null,
       "bottom": null,
       "display": null,
       "flex": null,
       "flex_flow": null,
       "grid_area": null,
       "grid_auto_columns": null,
       "grid_auto_flow": null,
       "grid_auto_rows": null,
       "grid_column": null,
       "grid_gap": null,
       "grid_row": null,
       "grid_template_areas": null,
       "grid_template_columns": null,
       "grid_template_rows": null,
       "height": null,
       "justify_content": null,
       "justify_items": null,
       "left": null,
       "margin": null,
       "max_height": null,
       "max_width": null,
       "min_height": null,
       "min_width": null,
       "object_fit": null,
       "object_position": null,
       "order": null,
       "overflow": null,
       "padding": null,
       "right": null,
       "top": null,
       "visibility": null,
       "width": null
      }
     }
    },
    "version_major": 2,
    "version_minor": 0
   }
  }
 },
 "nbformat": 4,
 "nbformat_minor": 5
}
