{
 "cells": [
  {
   "cell_type": "code",
   "execution_count": 1,
   "id": "3908cf62-3a4c-4c82-a061-e78f6f2f7097",
   "metadata": {
    "execution": {
     "iopub.execute_input": "2025-03-11T21:06:47.004270Z",
     "iopub.status.busy": "2025-03-11T21:06:47.002961Z",
     "iopub.status.idle": "2025-03-11T21:06:47.008504Z",
     "shell.execute_reply": "2025-03-11T21:06:47.007640Z"
    },
    "tags": [
     "remove-input"
    ]
   },
   "outputs": [],
   "source": [
    "# This cell is removed with the tag: \"remove-input\"\n",
    "# As such, it will not be shown in documentation\n",
    "\n",
    "#import warnings\n",
    "#warnings.filterwarnings('ignore')"
   ]
  },
  {
   "cell_type": "markdown",
   "id": "034d6a12-81b5-40fe-89a7-59046d378078",
   "metadata": {},
   "source": [
    "(Tutorial_Add_missing_bonds)=\n",
    "# Add missing bonds\n",
    "\n",
    "To be written..."
   ]
  },
  {
   "cell_type": "code",
   "execution_count": 2,
   "id": "298105c1-444e-4e94-bf44-e16ce0e5e171",
   "metadata": {
    "execution": {
     "iopub.execute_input": "2025-03-11T21:06:47.012370Z",
     "iopub.status.busy": "2025-03-11T21:06:47.011749Z",
     "iopub.status.idle": "2025-03-11T21:06:55.911474Z",
     "shell.execute_reply": "2025-03-11T21:06:55.910464Z"
    }
   },
   "outputs": [
    {
     "data": {
      "application/vnd.jupyter.widget-view+json": {
       "model_id": "64cece2e360847cf9937c56cd6e3f4fd",
       "version_major": 2,
       "version_minor": 0
      },
      "text/plain": []
     },
     "metadata": {},
     "output_type": "display_data"
    }
   ],
   "source": [
    "import molsysmt as msm"
   ]
  },
  {
   "cell_type": "code",
   "execution_count": 3,
   "id": "cb9faa83-9dba-4e6e-8e89-ad0ae6604c80",
   "metadata": {
    "execution": {
     "iopub.execute_input": "2025-03-11T21:06:55.915856Z",
     "iopub.status.busy": "2025-03-11T21:06:55.914652Z",
     "iopub.status.idle": "2025-03-11T21:06:55.920002Z",
     "shell.execute_reply": "2025-03-11T21:06:55.919069Z"
    }
   },
   "outputs": [],
   "source": [
    "molsys = msm.systems['alanine dipeptide']['alanine_dipeptide.h5msm']"
   ]
  },
  {
   "cell_type": "code",
   "execution_count": 4,
   "id": "e0970914-34f1-4ae6-8104-76ea7394046b",
   "metadata": {
    "execution": {
     "iopub.execute_input": "2025-03-11T21:06:55.923371Z",
     "iopub.status.busy": "2025-03-11T21:06:55.922871Z",
     "iopub.status.idle": "2025-03-11T21:06:56.945078Z",
     "shell.execute_reply": "2025-03-11T21:06:56.944142Z"
    }
   },
   "outputs": [],
   "source": [
    "molsys = msm.convert(molsys)"
   ]
  },
  {
   "cell_type": "code",
   "execution_count": 5,
   "id": "fc7a3b4a-c6c8-4690-884d-ff054daddd44",
   "metadata": {
    "execution": {
     "iopub.execute_input": "2025-03-11T21:06:56.949190Z",
     "iopub.status.busy": "2025-03-11T21:06:56.948143Z",
     "iopub.status.idle": "2025-03-11T21:06:57.291045Z",
     "shell.execute_reply": "2025-03-11T21:06:57.290118Z"
    }
   },
   "outputs": [],
   "source": [
    "bonded_atom_pairs = msm.get(molsys, bonded_atom_pairs=True)"
   ]
  },
  {
   "cell_type": "code",
   "execution_count": 6,
   "id": "5218d00e-a83b-4cb8-a01f-5b0c28686bdc",
   "metadata": {
    "execution": {
     "iopub.execute_input": "2025-03-11T21:06:57.294410Z",
     "iopub.status.busy": "2025-03-11T21:06:57.294042Z",
     "iopub.status.idle": "2025-03-11T21:06:57.459195Z",
     "shell.execute_reply": "2025-03-11T21:06:57.458166Z"
    }
   },
   "outputs": [],
   "source": [
    "msm.build.remove_bonds(molsys)"
   ]
  },
  {
   "cell_type": "code",
   "execution_count": 7,
   "id": "88abb2cb-2778-4d1f-9ab5-df84d879a7ec",
   "metadata": {
    "execution": {
     "iopub.execute_input": "2025-03-11T21:06:57.462857Z",
     "iopub.status.busy": "2025-03-11T21:06:57.462364Z",
     "iopub.status.idle": "2025-03-11T21:07:00.600045Z",
     "shell.execute_reply": "2025-03-11T21:07:00.599239Z"
    }
   },
   "outputs": [],
   "source": [
    "msm.build.add_missing_bonds(molsys)"
   ]
  },
  {
   "cell_type": "code",
   "execution_count": 8,
   "id": "7c3129c2-c4c3-403b-8053-9f361371f9a2",
   "metadata": {
    "execution": {
     "iopub.execute_input": "2025-03-11T21:07:00.602849Z",
     "iopub.status.busy": "2025-03-11T21:07:00.602523Z",
     "iopub.status.idle": "2025-03-11T21:07:00.935216Z",
     "shell.execute_reply": "2025-03-11T21:07:00.934165Z"
    }
   },
   "outputs": [],
   "source": [
    "new_bonded_atom_pairs = msm.get(molsys, bonded_atom_pairs=True)"
   ]
  },
  {
   "cell_type": "code",
   "execution_count": 9,
   "id": "aa10a14e-f3bf-4edb-ae1a-c648d68a7bbf",
   "metadata": {
    "execution": {
     "iopub.execute_input": "2025-03-11T21:07:00.939349Z",
     "iopub.status.busy": "2025-03-11T21:07:00.938522Z",
     "iopub.status.idle": "2025-03-11T21:07:00.949494Z",
     "shell.execute_reply": "2025-03-11T21:07:00.948591Z"
    }
   },
   "outputs": [
    {
     "data": {
      "text/plain": [
       "True"
      ]
     },
     "execution_count": 9,
     "metadata": {},
     "output_type": "execute_result"
    }
   ],
   "source": [
    "new_bonded_atom_pairs == bonded_atom_pairs"
   ]
  },
  {
   "cell_type": "code",
   "execution_count": null,
   "id": "00813f47-1589-43d7-8bb1-2716dda3a387",
   "metadata": {},
   "outputs": [],
   "source": []
  }
 ],
 "metadata": {
  "kernelspec": {
   "display_name": "Python 3 (ipykernel)",
   "language": "python",
   "name": "python3"
  },
  "language_info": {
   "codemirror_mode": {
    "name": "ipython",
    "version": 3
   },
   "file_extension": ".py",
   "mimetype": "text/x-python",
   "name": "python",
   "nbconvert_exporter": "python",
   "pygments_lexer": "ipython3",
   "version": "3.12.8"
  },
  "widgets": {
   "application/vnd.jupyter.widget-state+json": {
    "state": {
     "64cece2e360847cf9937c56cd6e3f4fd": {
      "model_module": "nglview-js-widgets",
      "model_module_version": "3.1.4",
      "model_name": "ColormakerRegistryModel",
      "state": {
       "_dom_classes": [],
       "_model_module": "nglview-js-widgets",
       "_model_module_version": "3.1.4",
       "_model_name": "ColormakerRegistryModel",
       "_msg_ar": [],
       "_msg_q": [],
       "_ready": false,
       "_view_count": null,
       "_view_module": "nglview-js-widgets",
       "_view_module_version": "3.1.4",
       "_view_name": "ColormakerRegistryView",
       "layout": "IPY_MODEL_c7e74749ca43450cbaa14e218dcf2797",
       "tabbable": null,
       "tooltip": null
      }
     },
     "c7e74749ca43450cbaa14e218dcf2797": {
      "model_module": "@jupyter-widgets/base",
      "model_module_version": "2.0.0",
      "model_name": "LayoutModel",
      "state": {
       "_model_module": "@jupyter-widgets/base",
       "_model_module_version": "2.0.0",
       "_model_name": "LayoutModel",
       "_view_count": null,
       "_view_module": "@jupyter-widgets/base",
       "_view_module_version": "2.0.0",
       "_view_name": "LayoutView",
       "align_content": null,
       "align_items": null,
       "align_self": null,
       "border_bottom": null,
       "border_left": null,
       "border_right": null,
       "border_top": null,
       "bottom": null,
       "display": null,
       "flex": null,
       "flex_flow": null,
       "grid_area": null,
       "grid_auto_columns": null,
       "grid_auto_flow": null,
       "grid_auto_rows": null,
       "grid_column": null,
       "grid_gap": null,
       "grid_row": null,
       "grid_template_areas": null,
       "grid_template_columns": null,
       "grid_template_rows": null,
       "height": null,
       "justify_content": null,
       "justify_items": null,
       "left": null,
       "margin": null,
       "max_height": null,
       "max_width": null,
       "min_height": null,
       "min_width": null,
       "object_fit": null,
       "object_position": null,
       "order": null,
       "overflow": null,
       "padding": null,
       "right": null,
       "top": null,
       "visibility": null,
       "width": null
      }
     }
    },
    "version_major": 2,
    "version_minor": 0
   }
  }
 },
 "nbformat": 4,
 "nbformat_minor": 5
}
