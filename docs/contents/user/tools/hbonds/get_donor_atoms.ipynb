{
 "cells": [
  {
   "cell_type": "markdown",
   "id": "51a472c0-7186-4eb6-8f0d-57ece63912ce",
   "metadata": {},
   "source": [
    "# Get donor atoms"
   ]
  },
  {
   "cell_type": "code",
   "execution_count": 1,
   "id": "59403f01-40ff-470c-b68a-bebe902d7434",
   "metadata": {},
   "outputs": [
    {
     "data": {
      "application/vnd.jupyter.widget-view+json": {
       "model_id": "183574482691455599ab4eef19ab3607",
       "version_major": 2,
       "version_minor": 0
      },
      "text/plain": []
     },
     "metadata": {},
     "output_type": "display_data"
    }
   ],
   "source": [
    "import molsysmt as msm"
   ]
  },
  {
   "cell_type": "code",
   "execution_count": 2,
   "id": "df9653ce-d5de-45f1-9d1a-af0e479b5b48",
   "metadata": {},
   "outputs": [
    {
     "data": {
      "text/plain": [
       "[\"(atom_type=='O') bonded to (atom_type=='H')\",\n",
       " \"(atom_type=='N') bonded to (atom_type=='H')\"]"
      ]
     },
     "execution_count": 2,
     "metadata": {},
     "output_type": "execute_result"
    }
   ],
   "source": [
    "msm.hbonds.donor_inclusion_rules"
   ]
  },
  {
   "cell_type": "code",
   "execution_count": 3,
   "id": "b399970e-9385-4408-8018-4392c7892dd6",
   "metadata": {},
   "outputs": [
    {
     "data": {
      "text/plain": [
       "[\"(atom_name=='NE2') not bonded to (atom_type=='H')\",\n",
       " \"(atom_name=='ND1') not bonded to (atom_type=='H')\"]"
      ]
     },
     "execution_count": 3,
     "metadata": {},
     "output_type": "execute_result"
    }
   ],
   "source": [
    " msm.hbonds.donor_exclusion_rules"
   ]
  },
  {
   "cell_type": "code",
   "execution_count": 4,
   "id": "5ccebaa8-2330-45c4-ae75-c170579ac733",
   "metadata": {},
   "outputs": [],
   "source": [
    "molsys = msm.convert(msm.systems.demo['chicken villin HP35']['chicken_villin_HP35.msmpk'])"
   ]
  },
  {
   "cell_type": "code",
   "execution_count": 5,
   "id": "499f4127-3b73-4b95-8214-c7c1c4d39d59",
   "metadata": {},
   "outputs": [],
   "source": [
    "donor_atoms = msm.hbonds.get_donor_atoms(molsys, selection=\"group_index==[1,2,3]\")"
   ]
  },
  {
   "cell_type": "code",
   "execution_count": 6,
   "id": "658f9104-642a-409f-9473-38d62d5b8701",
   "metadata": {},
   "outputs": [
    {
     "data": {
      "text/plain": [
       "array([ 6, 23, 42, 51])"
      ]
     },
     "execution_count": 6,
     "metadata": {},
     "output_type": "execute_result"
    }
   ],
   "source": [
    "donor_atoms"
   ]
  },
  {
   "cell_type": "code",
   "execution_count": 7,
   "id": "83eddedb-8f88-4942-8029-7143772f0fd8",
   "metadata": {},
   "outputs": [
    {
     "data": {
      "text/html": [
       "<style type=\"text/css\">\n",
       "</style>\n",
       "<table id=\"T_2c0ea\">\n",
       "  <thead>\n",
       "    <tr>\n",
       "      <th id=\"T_2c0ea_level0_col0\" class=\"col_heading level0 col0\" >index</th>\n",
       "      <th id=\"T_2c0ea_level0_col1\" class=\"col_heading level0 col1\" >id</th>\n",
       "      <th id=\"T_2c0ea_level0_col2\" class=\"col_heading level0 col2\" >name</th>\n",
       "      <th id=\"T_2c0ea_level0_col3\" class=\"col_heading level0 col3\" >type</th>\n",
       "      <th id=\"T_2c0ea_level0_col4\" class=\"col_heading level0 col4\" >group index</th>\n",
       "      <th id=\"T_2c0ea_level0_col5\" class=\"col_heading level0 col5\" >group id</th>\n",
       "      <th id=\"T_2c0ea_level0_col6\" class=\"col_heading level0 col6\" >group name</th>\n",
       "      <th id=\"T_2c0ea_level0_col7\" class=\"col_heading level0 col7\" >group type</th>\n",
       "      <th id=\"T_2c0ea_level0_col8\" class=\"col_heading level0 col8\" >component index</th>\n",
       "      <th id=\"T_2c0ea_level0_col9\" class=\"col_heading level0 col9\" >chain index</th>\n",
       "      <th id=\"T_2c0ea_level0_col10\" class=\"col_heading level0 col10\" >molecule index</th>\n",
       "      <th id=\"T_2c0ea_level0_col11\" class=\"col_heading level0 col11\" >molecule type</th>\n",
       "      <th id=\"T_2c0ea_level0_col12\" class=\"col_heading level0 col12\" >entity index</th>\n",
       "      <th id=\"T_2c0ea_level0_col13\" class=\"col_heading level0 col13\" >entity name</th>\n",
       "    </tr>\n",
       "  </thead>\n",
       "  <tbody>\n",
       "    <tr>\n",
       "      <td id=\"T_2c0ea_row0_col0\" class=\"data row0 col0\" >6</td>\n",
       "      <td id=\"T_2c0ea_row0_col1\" class=\"data row0 col1\" >7</td>\n",
       "      <td id=\"T_2c0ea_row0_col2\" class=\"data row0 col2\" >N</td>\n",
       "      <td id=\"T_2c0ea_row0_col3\" class=\"data row0 col3\" >N</td>\n",
       "      <td id=\"T_2c0ea_row0_col4\" class=\"data row0 col4\" >1</td>\n",
       "      <td id=\"T_2c0ea_row0_col5\" class=\"data row0 col5\" >41</td>\n",
       "      <td id=\"T_2c0ea_row0_col6\" class=\"data row0 col6\" >MET</td>\n",
       "      <td id=\"T_2c0ea_row0_col7\" class=\"data row0 col7\" >amino acid</td>\n",
       "      <td id=\"T_2c0ea_row0_col8\" class=\"data row0 col8\" >0</td>\n",
       "      <td id=\"T_2c0ea_row0_col9\" class=\"data row0 col9\" >0</td>\n",
       "      <td id=\"T_2c0ea_row0_col10\" class=\"data row0 col10\" >0</td>\n",
       "      <td id=\"T_2c0ea_row0_col11\" class=\"data row0 col11\" >peptide</td>\n",
       "      <td id=\"T_2c0ea_row0_col12\" class=\"data row0 col12\" >0</td>\n",
       "      <td id=\"T_2c0ea_row0_col13\" class=\"data row0 col13\" >None</td>\n",
       "    </tr>\n",
       "    <tr>\n",
       "      <td id=\"T_2c0ea_row1_col0\" class=\"data row1 col0\" >23</td>\n",
       "      <td id=\"T_2c0ea_row1_col1\" class=\"data row1 col1\" >24</td>\n",
       "      <td id=\"T_2c0ea_row1_col2\" class=\"data row1 col2\" >N</td>\n",
       "      <td id=\"T_2c0ea_row1_col3\" class=\"data row1 col3\" >N</td>\n",
       "      <td id=\"T_2c0ea_row1_col4\" class=\"data row1 col4\" >2</td>\n",
       "      <td id=\"T_2c0ea_row1_col5\" class=\"data row1 col5\" >42</td>\n",
       "      <td id=\"T_2c0ea_row1_col6\" class=\"data row1 col6\" >LEU</td>\n",
       "      <td id=\"T_2c0ea_row1_col7\" class=\"data row1 col7\" >amino acid</td>\n",
       "      <td id=\"T_2c0ea_row1_col8\" class=\"data row1 col8\" >0</td>\n",
       "      <td id=\"T_2c0ea_row1_col9\" class=\"data row1 col9\" >0</td>\n",
       "      <td id=\"T_2c0ea_row1_col10\" class=\"data row1 col10\" >0</td>\n",
       "      <td id=\"T_2c0ea_row1_col11\" class=\"data row1 col11\" >peptide</td>\n",
       "      <td id=\"T_2c0ea_row1_col12\" class=\"data row1 col12\" >0</td>\n",
       "      <td id=\"T_2c0ea_row1_col13\" class=\"data row1 col13\" >None</td>\n",
       "    </tr>\n",
       "    <tr>\n",
       "      <td id=\"T_2c0ea_row2_col0\" class=\"data row2 col0\" >42</td>\n",
       "      <td id=\"T_2c0ea_row2_col1\" class=\"data row2 col1\" >43</td>\n",
       "      <td id=\"T_2c0ea_row2_col2\" class=\"data row2 col2\" >N</td>\n",
       "      <td id=\"T_2c0ea_row2_col3\" class=\"data row2 col3\" >N</td>\n",
       "      <td id=\"T_2c0ea_row2_col4\" class=\"data row2 col4\" >3</td>\n",
       "      <td id=\"T_2c0ea_row2_col5\" class=\"data row2 col5\" >43</td>\n",
       "      <td id=\"T_2c0ea_row2_col6\" class=\"data row2 col6\" >SER</td>\n",
       "      <td id=\"T_2c0ea_row2_col7\" class=\"data row2 col7\" >amino acid</td>\n",
       "      <td id=\"T_2c0ea_row2_col8\" class=\"data row2 col8\" >0</td>\n",
       "      <td id=\"T_2c0ea_row2_col9\" class=\"data row2 col9\" >0</td>\n",
       "      <td id=\"T_2c0ea_row2_col10\" class=\"data row2 col10\" >0</td>\n",
       "      <td id=\"T_2c0ea_row2_col11\" class=\"data row2 col11\" >peptide</td>\n",
       "      <td id=\"T_2c0ea_row2_col12\" class=\"data row2 col12\" >0</td>\n",
       "      <td id=\"T_2c0ea_row2_col13\" class=\"data row2 col13\" >None</td>\n",
       "    </tr>\n",
       "    <tr>\n",
       "      <td id=\"T_2c0ea_row3_col0\" class=\"data row3 col0\" >51</td>\n",
       "      <td id=\"T_2c0ea_row3_col1\" class=\"data row3 col1\" >52</td>\n",
       "      <td id=\"T_2c0ea_row3_col2\" class=\"data row3 col2\" >OG</td>\n",
       "      <td id=\"T_2c0ea_row3_col3\" class=\"data row3 col3\" >O</td>\n",
       "      <td id=\"T_2c0ea_row3_col4\" class=\"data row3 col4\" >3</td>\n",
       "      <td id=\"T_2c0ea_row3_col5\" class=\"data row3 col5\" >43</td>\n",
       "      <td id=\"T_2c0ea_row3_col6\" class=\"data row3 col6\" >SER</td>\n",
       "      <td id=\"T_2c0ea_row3_col7\" class=\"data row3 col7\" >amino acid</td>\n",
       "      <td id=\"T_2c0ea_row3_col8\" class=\"data row3 col8\" >0</td>\n",
       "      <td id=\"T_2c0ea_row3_col9\" class=\"data row3 col9\" >0</td>\n",
       "      <td id=\"T_2c0ea_row3_col10\" class=\"data row3 col10\" >0</td>\n",
       "      <td id=\"T_2c0ea_row3_col11\" class=\"data row3 col11\" >peptide</td>\n",
       "      <td id=\"T_2c0ea_row3_col12\" class=\"data row3 col12\" >0</td>\n",
       "      <td id=\"T_2c0ea_row3_col13\" class=\"data row3 col13\" >None</td>\n",
       "    </tr>\n",
       "  </tbody>\n",
       "</table>\n"
      ],
      "text/plain": [
       "<pandas.io.formats.style.Styler at 0x7fcebb6a2740>"
      ]
     },
     "execution_count": 7,
     "metadata": {},
     "output_type": "execute_result"
    }
   ],
   "source": [
    "msm.info(molsys, element='atom', selection=donor_atoms)"
   ]
  },
  {
   "cell_type": "code",
   "execution_count": 8,
   "id": "4e996046-1ee9-4769-ba65-36d191258630",
   "metadata": {},
   "outputs": [],
   "source": [
    "donor_atoms = msm.hbonds.get_donor_atoms(molsys, selection=\"group_index==[1,2,3]\", with_Hs=True)"
   ]
  },
  {
   "cell_type": "code",
   "execution_count": 9,
   "id": "636f585b-b73e-41ca-8e02-05889ac98ef6",
   "metadata": {},
   "outputs": [
    {
     "data": {
      "text/plain": [
       "array([[ 6,  7],\n",
       "       [23, 24],\n",
       "       [42, 43],\n",
       "       [51, 52]])"
      ]
     },
     "execution_count": 9,
     "metadata": {},
     "output_type": "execute_result"
    }
   ],
   "source": [
    "donor_atoms"
   ]
  },
  {
   "cell_type": "code",
   "execution_count": 10,
   "id": "44ab3f77-2cc1-4644-a5bc-43bf8f61ba85",
   "metadata": {},
   "outputs": [
    {
     "data": {
      "text/html": [
       "<style type=\"text/css\">\n",
       "</style>\n",
       "<table id=\"T_7fb61\">\n",
       "  <thead>\n",
       "    <tr>\n",
       "      <th id=\"T_7fb61_level0_col0\" class=\"col_heading level0 col0\" >index</th>\n",
       "      <th id=\"T_7fb61_level0_col1\" class=\"col_heading level0 col1\" >id</th>\n",
       "      <th id=\"T_7fb61_level0_col2\" class=\"col_heading level0 col2\" >name</th>\n",
       "      <th id=\"T_7fb61_level0_col3\" class=\"col_heading level0 col3\" >type</th>\n",
       "      <th id=\"T_7fb61_level0_col4\" class=\"col_heading level0 col4\" >group index</th>\n",
       "      <th id=\"T_7fb61_level0_col5\" class=\"col_heading level0 col5\" >group id</th>\n",
       "      <th id=\"T_7fb61_level0_col6\" class=\"col_heading level0 col6\" >group name</th>\n",
       "      <th id=\"T_7fb61_level0_col7\" class=\"col_heading level0 col7\" >group type</th>\n",
       "      <th id=\"T_7fb61_level0_col8\" class=\"col_heading level0 col8\" >component index</th>\n",
       "      <th id=\"T_7fb61_level0_col9\" class=\"col_heading level0 col9\" >chain index</th>\n",
       "      <th id=\"T_7fb61_level0_col10\" class=\"col_heading level0 col10\" >molecule index</th>\n",
       "      <th id=\"T_7fb61_level0_col11\" class=\"col_heading level0 col11\" >molecule type</th>\n",
       "      <th id=\"T_7fb61_level0_col12\" class=\"col_heading level0 col12\" >entity index</th>\n",
       "      <th id=\"T_7fb61_level0_col13\" class=\"col_heading level0 col13\" >entity name</th>\n",
       "    </tr>\n",
       "  </thead>\n",
       "  <tbody>\n",
       "    <tr>\n",
       "      <td id=\"T_7fb61_row0_col0\" class=\"data row0 col0\" >6</td>\n",
       "      <td id=\"T_7fb61_row0_col1\" class=\"data row0 col1\" >7</td>\n",
       "      <td id=\"T_7fb61_row0_col2\" class=\"data row0 col2\" >N</td>\n",
       "      <td id=\"T_7fb61_row0_col3\" class=\"data row0 col3\" >N</td>\n",
       "      <td id=\"T_7fb61_row0_col4\" class=\"data row0 col4\" >1</td>\n",
       "      <td id=\"T_7fb61_row0_col5\" class=\"data row0 col5\" >41</td>\n",
       "      <td id=\"T_7fb61_row0_col6\" class=\"data row0 col6\" >MET</td>\n",
       "      <td id=\"T_7fb61_row0_col7\" class=\"data row0 col7\" >amino acid</td>\n",
       "      <td id=\"T_7fb61_row0_col8\" class=\"data row0 col8\" >0</td>\n",
       "      <td id=\"T_7fb61_row0_col9\" class=\"data row0 col9\" >0</td>\n",
       "      <td id=\"T_7fb61_row0_col10\" class=\"data row0 col10\" >0</td>\n",
       "      <td id=\"T_7fb61_row0_col11\" class=\"data row0 col11\" >peptide</td>\n",
       "      <td id=\"T_7fb61_row0_col12\" class=\"data row0 col12\" >0</td>\n",
       "      <td id=\"T_7fb61_row0_col13\" class=\"data row0 col13\" >None</td>\n",
       "    </tr>\n",
       "    <tr>\n",
       "      <td id=\"T_7fb61_row1_col0\" class=\"data row1 col0\" >7</td>\n",
       "      <td id=\"T_7fb61_row1_col1\" class=\"data row1 col1\" >8</td>\n",
       "      <td id=\"T_7fb61_row1_col2\" class=\"data row1 col2\" >H</td>\n",
       "      <td id=\"T_7fb61_row1_col3\" class=\"data row1 col3\" >H</td>\n",
       "      <td id=\"T_7fb61_row1_col4\" class=\"data row1 col4\" >1</td>\n",
       "      <td id=\"T_7fb61_row1_col5\" class=\"data row1 col5\" >41</td>\n",
       "      <td id=\"T_7fb61_row1_col6\" class=\"data row1 col6\" >MET</td>\n",
       "      <td id=\"T_7fb61_row1_col7\" class=\"data row1 col7\" >amino acid</td>\n",
       "      <td id=\"T_7fb61_row1_col8\" class=\"data row1 col8\" >0</td>\n",
       "      <td id=\"T_7fb61_row1_col9\" class=\"data row1 col9\" >0</td>\n",
       "      <td id=\"T_7fb61_row1_col10\" class=\"data row1 col10\" >0</td>\n",
       "      <td id=\"T_7fb61_row1_col11\" class=\"data row1 col11\" >peptide</td>\n",
       "      <td id=\"T_7fb61_row1_col12\" class=\"data row1 col12\" >0</td>\n",
       "      <td id=\"T_7fb61_row1_col13\" class=\"data row1 col13\" >None</td>\n",
       "    </tr>\n",
       "  </tbody>\n",
       "</table>\n"
      ],
      "text/plain": [
       "<pandas.io.formats.style.Styler at 0x7fcebb6a2680>"
      ]
     },
     "execution_count": 10,
     "metadata": {},
     "output_type": "execute_result"
    }
   ],
   "source": [
    "msm.info(molsys, element='atom', selection=donor_atoms[0])"
   ]
  },
  {
   "cell_type": "code",
   "execution_count": 23,
   "id": "7de58b55-b89e-4209-90d9-b6901c7920f8",
   "metadata": {},
   "outputs": [],
   "source": [
    "donor_atoms = msm.hbonds.get_donor_atoms(molsys, selection=\"group_index==[1,2,3]\",\n",
    "                                         inclusion_rules=\"atom_name=='CB'\", exclusion_rules=\"group_name=='SER'\",\n",
    "                                         default_inclusion_rules=False, default_exclusion_rules=False,\n",
    "                                         with_Hs=True)"
   ]
  },
  {
   "cell_type": "code",
   "execution_count": 24,
   "id": "f4120001-dcf3-4873-b8ee-5cbb5429ff94",
   "metadata": {},
   "outputs": [
    {
     "data": {
      "text/plain": [
       "array([[12, 13],\n",
       "       [12, 14],\n",
       "       [29, 30],\n",
       "       [29, 31]])"
      ]
     },
     "execution_count": 24,
     "metadata": {},
     "output_type": "execute_result"
    }
   ],
   "source": [
    "donor_atoms"
   ]
  },
  {
   "cell_type": "code",
   "execution_count": 25,
   "id": "a1f10b2b-b158-403a-bbad-d38052bfb364",
   "metadata": {},
   "outputs": [
    {
     "data": {
      "text/html": [
       "<style type=\"text/css\">\n",
       "</style>\n",
       "<table id=\"T_5fb41\">\n",
       "  <thead>\n",
       "    <tr>\n",
       "      <th id=\"T_5fb41_level0_col0\" class=\"col_heading level0 col0\" >index</th>\n",
       "      <th id=\"T_5fb41_level0_col1\" class=\"col_heading level0 col1\" >id</th>\n",
       "      <th id=\"T_5fb41_level0_col2\" class=\"col_heading level0 col2\" >name</th>\n",
       "      <th id=\"T_5fb41_level0_col3\" class=\"col_heading level0 col3\" >type</th>\n",
       "      <th id=\"T_5fb41_level0_col4\" class=\"col_heading level0 col4\" >group index</th>\n",
       "      <th id=\"T_5fb41_level0_col5\" class=\"col_heading level0 col5\" >group id</th>\n",
       "      <th id=\"T_5fb41_level0_col6\" class=\"col_heading level0 col6\" >group name</th>\n",
       "      <th id=\"T_5fb41_level0_col7\" class=\"col_heading level0 col7\" >group type</th>\n",
       "      <th id=\"T_5fb41_level0_col8\" class=\"col_heading level0 col8\" >component index</th>\n",
       "      <th id=\"T_5fb41_level0_col9\" class=\"col_heading level0 col9\" >chain index</th>\n",
       "      <th id=\"T_5fb41_level0_col10\" class=\"col_heading level0 col10\" >molecule index</th>\n",
       "      <th id=\"T_5fb41_level0_col11\" class=\"col_heading level0 col11\" >molecule type</th>\n",
       "      <th id=\"T_5fb41_level0_col12\" class=\"col_heading level0 col12\" >entity index</th>\n",
       "      <th id=\"T_5fb41_level0_col13\" class=\"col_heading level0 col13\" >entity name</th>\n",
       "    </tr>\n",
       "  </thead>\n",
       "  <tbody>\n",
       "    <tr>\n",
       "      <td id=\"T_5fb41_row0_col0\" class=\"data row0 col0\" >12</td>\n",
       "      <td id=\"T_5fb41_row0_col1\" class=\"data row0 col1\" >13</td>\n",
       "      <td id=\"T_5fb41_row0_col2\" class=\"data row0 col2\" >CB</td>\n",
       "      <td id=\"T_5fb41_row0_col3\" class=\"data row0 col3\" >C</td>\n",
       "      <td id=\"T_5fb41_row0_col4\" class=\"data row0 col4\" >1</td>\n",
       "      <td id=\"T_5fb41_row0_col5\" class=\"data row0 col5\" >41</td>\n",
       "      <td id=\"T_5fb41_row0_col6\" class=\"data row0 col6\" >MET</td>\n",
       "      <td id=\"T_5fb41_row0_col7\" class=\"data row0 col7\" >amino acid</td>\n",
       "      <td id=\"T_5fb41_row0_col8\" class=\"data row0 col8\" >0</td>\n",
       "      <td id=\"T_5fb41_row0_col9\" class=\"data row0 col9\" >0</td>\n",
       "      <td id=\"T_5fb41_row0_col10\" class=\"data row0 col10\" >0</td>\n",
       "      <td id=\"T_5fb41_row0_col11\" class=\"data row0 col11\" >peptide</td>\n",
       "      <td id=\"T_5fb41_row0_col12\" class=\"data row0 col12\" >0</td>\n",
       "      <td id=\"T_5fb41_row0_col13\" class=\"data row0 col13\" >None</td>\n",
       "    </tr>\n",
       "    <tr>\n",
       "      <td id=\"T_5fb41_row1_col0\" class=\"data row1 col0\" >13</td>\n",
       "      <td id=\"T_5fb41_row1_col1\" class=\"data row1 col1\" >14</td>\n",
       "      <td id=\"T_5fb41_row1_col2\" class=\"data row1 col2\" >HB2</td>\n",
       "      <td id=\"T_5fb41_row1_col3\" class=\"data row1 col3\" >H</td>\n",
       "      <td id=\"T_5fb41_row1_col4\" class=\"data row1 col4\" >1</td>\n",
       "      <td id=\"T_5fb41_row1_col5\" class=\"data row1 col5\" >41</td>\n",
       "      <td id=\"T_5fb41_row1_col6\" class=\"data row1 col6\" >MET</td>\n",
       "      <td id=\"T_5fb41_row1_col7\" class=\"data row1 col7\" >amino acid</td>\n",
       "      <td id=\"T_5fb41_row1_col8\" class=\"data row1 col8\" >0</td>\n",
       "      <td id=\"T_5fb41_row1_col9\" class=\"data row1 col9\" >0</td>\n",
       "      <td id=\"T_5fb41_row1_col10\" class=\"data row1 col10\" >0</td>\n",
       "      <td id=\"T_5fb41_row1_col11\" class=\"data row1 col11\" >peptide</td>\n",
       "      <td id=\"T_5fb41_row1_col12\" class=\"data row1 col12\" >0</td>\n",
       "      <td id=\"T_5fb41_row1_col13\" class=\"data row1 col13\" >None</td>\n",
       "    </tr>\n",
       "  </tbody>\n",
       "</table>\n"
      ],
      "text/plain": [
       "<pandas.io.formats.style.Styler at 0x7fcebac87bb0>"
      ]
     },
     "execution_count": 25,
     "metadata": {},
     "output_type": "execute_result"
    }
   ],
   "source": [
    "msm.info(molsys, element='atom', selection=donor_atoms[0])"
   ]
  },
  {
   "cell_type": "code",
   "execution_count": 26,
   "id": "b9073d4d-eec1-440a-b47b-ebc89ca9b9c4",
   "metadata": {},
   "outputs": [],
   "source": [
    "donor_atoms = msm.hbonds.get_donor_atoms(molsys, selection=\"group_index==[1,2,3]\",\n",
    "                                         inclusion_rules=\"atom_name=='CB'\", exclusion_rules=\"group_name=='SER'\")"
   ]
  },
  {
   "cell_type": "code",
   "execution_count": 27,
   "id": "928e7674-456a-466e-bb6e-c9b24d527084",
   "metadata": {},
   "outputs": [
    {
     "data": {
      "text/html": [
       "<style type=\"text/css\">\n",
       "</style>\n",
       "<table id=\"T_e39c7\">\n",
       "  <thead>\n",
       "    <tr>\n",
       "      <th id=\"T_e39c7_level0_col0\" class=\"col_heading level0 col0\" >index</th>\n",
       "      <th id=\"T_e39c7_level0_col1\" class=\"col_heading level0 col1\" >id</th>\n",
       "      <th id=\"T_e39c7_level0_col2\" class=\"col_heading level0 col2\" >name</th>\n",
       "      <th id=\"T_e39c7_level0_col3\" class=\"col_heading level0 col3\" >type</th>\n",
       "      <th id=\"T_e39c7_level0_col4\" class=\"col_heading level0 col4\" >group index</th>\n",
       "      <th id=\"T_e39c7_level0_col5\" class=\"col_heading level0 col5\" >group id</th>\n",
       "      <th id=\"T_e39c7_level0_col6\" class=\"col_heading level0 col6\" >group name</th>\n",
       "      <th id=\"T_e39c7_level0_col7\" class=\"col_heading level0 col7\" >group type</th>\n",
       "      <th id=\"T_e39c7_level0_col8\" class=\"col_heading level0 col8\" >component index</th>\n",
       "      <th id=\"T_e39c7_level0_col9\" class=\"col_heading level0 col9\" >chain index</th>\n",
       "      <th id=\"T_e39c7_level0_col10\" class=\"col_heading level0 col10\" >molecule index</th>\n",
       "      <th id=\"T_e39c7_level0_col11\" class=\"col_heading level0 col11\" >molecule type</th>\n",
       "      <th id=\"T_e39c7_level0_col12\" class=\"col_heading level0 col12\" >entity index</th>\n",
       "      <th id=\"T_e39c7_level0_col13\" class=\"col_heading level0 col13\" >entity name</th>\n",
       "    </tr>\n",
       "  </thead>\n",
       "  <tbody>\n",
       "    <tr>\n",
       "      <td id=\"T_e39c7_row0_col0\" class=\"data row0 col0\" >6</td>\n",
       "      <td id=\"T_e39c7_row0_col1\" class=\"data row0 col1\" >7</td>\n",
       "      <td id=\"T_e39c7_row0_col2\" class=\"data row0 col2\" >N</td>\n",
       "      <td id=\"T_e39c7_row0_col3\" class=\"data row0 col3\" >N</td>\n",
       "      <td id=\"T_e39c7_row0_col4\" class=\"data row0 col4\" >1</td>\n",
       "      <td id=\"T_e39c7_row0_col5\" class=\"data row0 col5\" >41</td>\n",
       "      <td id=\"T_e39c7_row0_col6\" class=\"data row0 col6\" >MET</td>\n",
       "      <td id=\"T_e39c7_row0_col7\" class=\"data row0 col7\" >amino acid</td>\n",
       "      <td id=\"T_e39c7_row0_col8\" class=\"data row0 col8\" >0</td>\n",
       "      <td id=\"T_e39c7_row0_col9\" class=\"data row0 col9\" >0</td>\n",
       "      <td id=\"T_e39c7_row0_col10\" class=\"data row0 col10\" >0</td>\n",
       "      <td id=\"T_e39c7_row0_col11\" class=\"data row0 col11\" >peptide</td>\n",
       "      <td id=\"T_e39c7_row0_col12\" class=\"data row0 col12\" >0</td>\n",
       "      <td id=\"T_e39c7_row0_col13\" class=\"data row0 col13\" >None</td>\n",
       "    </tr>\n",
       "    <tr>\n",
       "      <td id=\"T_e39c7_row1_col0\" class=\"data row1 col0\" >12</td>\n",
       "      <td id=\"T_e39c7_row1_col1\" class=\"data row1 col1\" >13</td>\n",
       "      <td id=\"T_e39c7_row1_col2\" class=\"data row1 col2\" >CB</td>\n",
       "      <td id=\"T_e39c7_row1_col3\" class=\"data row1 col3\" >C</td>\n",
       "      <td id=\"T_e39c7_row1_col4\" class=\"data row1 col4\" >1</td>\n",
       "      <td id=\"T_e39c7_row1_col5\" class=\"data row1 col5\" >41</td>\n",
       "      <td id=\"T_e39c7_row1_col6\" class=\"data row1 col6\" >MET</td>\n",
       "      <td id=\"T_e39c7_row1_col7\" class=\"data row1 col7\" >amino acid</td>\n",
       "      <td id=\"T_e39c7_row1_col8\" class=\"data row1 col8\" >0</td>\n",
       "      <td id=\"T_e39c7_row1_col9\" class=\"data row1 col9\" >0</td>\n",
       "      <td id=\"T_e39c7_row1_col10\" class=\"data row1 col10\" >0</td>\n",
       "      <td id=\"T_e39c7_row1_col11\" class=\"data row1 col11\" >peptide</td>\n",
       "      <td id=\"T_e39c7_row1_col12\" class=\"data row1 col12\" >0</td>\n",
       "      <td id=\"T_e39c7_row1_col13\" class=\"data row1 col13\" >None</td>\n",
       "    </tr>\n",
       "    <tr>\n",
       "      <td id=\"T_e39c7_row2_col0\" class=\"data row2 col0\" >23</td>\n",
       "      <td id=\"T_e39c7_row2_col1\" class=\"data row2 col1\" >24</td>\n",
       "      <td id=\"T_e39c7_row2_col2\" class=\"data row2 col2\" >N</td>\n",
       "      <td id=\"T_e39c7_row2_col3\" class=\"data row2 col3\" >N</td>\n",
       "      <td id=\"T_e39c7_row2_col4\" class=\"data row2 col4\" >2</td>\n",
       "      <td id=\"T_e39c7_row2_col5\" class=\"data row2 col5\" >42</td>\n",
       "      <td id=\"T_e39c7_row2_col6\" class=\"data row2 col6\" >LEU</td>\n",
       "      <td id=\"T_e39c7_row2_col7\" class=\"data row2 col7\" >amino acid</td>\n",
       "      <td id=\"T_e39c7_row2_col8\" class=\"data row2 col8\" >0</td>\n",
       "      <td id=\"T_e39c7_row2_col9\" class=\"data row2 col9\" >0</td>\n",
       "      <td id=\"T_e39c7_row2_col10\" class=\"data row2 col10\" >0</td>\n",
       "      <td id=\"T_e39c7_row2_col11\" class=\"data row2 col11\" >peptide</td>\n",
       "      <td id=\"T_e39c7_row2_col12\" class=\"data row2 col12\" >0</td>\n",
       "      <td id=\"T_e39c7_row2_col13\" class=\"data row2 col13\" >None</td>\n",
       "    </tr>\n",
       "    <tr>\n",
       "      <td id=\"T_e39c7_row3_col0\" class=\"data row3 col0\" >29</td>\n",
       "      <td id=\"T_e39c7_row3_col1\" class=\"data row3 col1\" >30</td>\n",
       "      <td id=\"T_e39c7_row3_col2\" class=\"data row3 col2\" >CB</td>\n",
       "      <td id=\"T_e39c7_row3_col3\" class=\"data row3 col3\" >C</td>\n",
       "      <td id=\"T_e39c7_row3_col4\" class=\"data row3 col4\" >2</td>\n",
       "      <td id=\"T_e39c7_row3_col5\" class=\"data row3 col5\" >42</td>\n",
       "      <td id=\"T_e39c7_row3_col6\" class=\"data row3 col6\" >LEU</td>\n",
       "      <td id=\"T_e39c7_row3_col7\" class=\"data row3 col7\" >amino acid</td>\n",
       "      <td id=\"T_e39c7_row3_col8\" class=\"data row3 col8\" >0</td>\n",
       "      <td id=\"T_e39c7_row3_col9\" class=\"data row3 col9\" >0</td>\n",
       "      <td id=\"T_e39c7_row3_col10\" class=\"data row3 col10\" >0</td>\n",
       "      <td id=\"T_e39c7_row3_col11\" class=\"data row3 col11\" >peptide</td>\n",
       "      <td id=\"T_e39c7_row3_col12\" class=\"data row3 col12\" >0</td>\n",
       "      <td id=\"T_e39c7_row3_col13\" class=\"data row3 col13\" >None</td>\n",
       "    </tr>\n",
       "  </tbody>\n",
       "</table>\n"
      ],
      "text/plain": [
       "<pandas.io.formats.style.Styler at 0x7fcebac58d90>"
      ]
     },
     "execution_count": 27,
     "metadata": {},
     "output_type": "execute_result"
    }
   ],
   "source": [
    "msm.info(molsys, element='atom', selection=donor_atoms)"
   ]
  },
  {
   "cell_type": "code",
   "execution_count": 28,
   "id": "c326e5e9-8121-4247-a0c2-66bb78cd0238",
   "metadata": {},
   "outputs": [],
   "source": [
    "msm.hbonds.donor_inclusion_rules.append(\"atom_name=='CB'\")"
   ]
  },
  {
   "cell_type": "code",
   "execution_count": 29,
   "id": "ad32a81a-ab89-4a93-a97e-05c41efacdce",
   "metadata": {},
   "outputs": [
    {
     "data": {
      "text/plain": [
       "[\"(atom_type=='O') bonded to (atom_type=='H')\",\n",
       " \"(atom_type=='N') bonded to (atom_type=='H')\",\n",
       " \"atom_name=='CB'\"]"
      ]
     },
     "execution_count": 29,
     "metadata": {},
     "output_type": "execute_result"
    }
   ],
   "source": [
    "msm.hbonds.donor_inclusion_rules"
   ]
  },
  {
   "cell_type": "code",
   "execution_count": 30,
   "id": "366306eb-e5ac-47df-867b-0c76c5cc27ea",
   "metadata": {},
   "outputs": [],
   "source": [
    "donor_atoms = msm.hbonds.get_donor_atoms(molsys, selection=\"group_index==[1,2,3]\")"
   ]
  },
  {
   "cell_type": "code",
   "execution_count": 31,
   "id": "b72111e1-f67c-4bdf-9d3c-13509093d6ba",
   "metadata": {},
   "outputs": [
    {
     "data": {
      "text/html": [
       "<style type=\"text/css\">\n",
       "</style>\n",
       "<table id=\"T_408d0\">\n",
       "  <thead>\n",
       "    <tr>\n",
       "      <th id=\"T_408d0_level0_col0\" class=\"col_heading level0 col0\" >index</th>\n",
       "      <th id=\"T_408d0_level0_col1\" class=\"col_heading level0 col1\" >id</th>\n",
       "      <th id=\"T_408d0_level0_col2\" class=\"col_heading level0 col2\" >name</th>\n",
       "      <th id=\"T_408d0_level0_col3\" class=\"col_heading level0 col3\" >type</th>\n",
       "      <th id=\"T_408d0_level0_col4\" class=\"col_heading level0 col4\" >group index</th>\n",
       "      <th id=\"T_408d0_level0_col5\" class=\"col_heading level0 col5\" >group id</th>\n",
       "      <th id=\"T_408d0_level0_col6\" class=\"col_heading level0 col6\" >group name</th>\n",
       "      <th id=\"T_408d0_level0_col7\" class=\"col_heading level0 col7\" >group type</th>\n",
       "      <th id=\"T_408d0_level0_col8\" class=\"col_heading level0 col8\" >component index</th>\n",
       "      <th id=\"T_408d0_level0_col9\" class=\"col_heading level0 col9\" >chain index</th>\n",
       "      <th id=\"T_408d0_level0_col10\" class=\"col_heading level0 col10\" >molecule index</th>\n",
       "      <th id=\"T_408d0_level0_col11\" class=\"col_heading level0 col11\" >molecule type</th>\n",
       "      <th id=\"T_408d0_level0_col12\" class=\"col_heading level0 col12\" >entity index</th>\n",
       "      <th id=\"T_408d0_level0_col13\" class=\"col_heading level0 col13\" >entity name</th>\n",
       "    </tr>\n",
       "  </thead>\n",
       "  <tbody>\n",
       "    <tr>\n",
       "      <td id=\"T_408d0_row0_col0\" class=\"data row0 col0\" >6</td>\n",
       "      <td id=\"T_408d0_row0_col1\" class=\"data row0 col1\" >7</td>\n",
       "      <td id=\"T_408d0_row0_col2\" class=\"data row0 col2\" >N</td>\n",
       "      <td id=\"T_408d0_row0_col3\" class=\"data row0 col3\" >N</td>\n",
       "      <td id=\"T_408d0_row0_col4\" class=\"data row0 col4\" >1</td>\n",
       "      <td id=\"T_408d0_row0_col5\" class=\"data row0 col5\" >41</td>\n",
       "      <td id=\"T_408d0_row0_col6\" class=\"data row0 col6\" >MET</td>\n",
       "      <td id=\"T_408d0_row0_col7\" class=\"data row0 col7\" >amino acid</td>\n",
       "      <td id=\"T_408d0_row0_col8\" class=\"data row0 col8\" >0</td>\n",
       "      <td id=\"T_408d0_row0_col9\" class=\"data row0 col9\" >0</td>\n",
       "      <td id=\"T_408d0_row0_col10\" class=\"data row0 col10\" >0</td>\n",
       "      <td id=\"T_408d0_row0_col11\" class=\"data row0 col11\" >peptide</td>\n",
       "      <td id=\"T_408d0_row0_col12\" class=\"data row0 col12\" >0</td>\n",
       "      <td id=\"T_408d0_row0_col13\" class=\"data row0 col13\" >None</td>\n",
       "    </tr>\n",
       "    <tr>\n",
       "      <td id=\"T_408d0_row1_col0\" class=\"data row1 col0\" >12</td>\n",
       "      <td id=\"T_408d0_row1_col1\" class=\"data row1 col1\" >13</td>\n",
       "      <td id=\"T_408d0_row1_col2\" class=\"data row1 col2\" >CB</td>\n",
       "      <td id=\"T_408d0_row1_col3\" class=\"data row1 col3\" >C</td>\n",
       "      <td id=\"T_408d0_row1_col4\" class=\"data row1 col4\" >1</td>\n",
       "      <td id=\"T_408d0_row1_col5\" class=\"data row1 col5\" >41</td>\n",
       "      <td id=\"T_408d0_row1_col6\" class=\"data row1 col6\" >MET</td>\n",
       "      <td id=\"T_408d0_row1_col7\" class=\"data row1 col7\" >amino acid</td>\n",
       "      <td id=\"T_408d0_row1_col8\" class=\"data row1 col8\" >0</td>\n",
       "      <td id=\"T_408d0_row1_col9\" class=\"data row1 col9\" >0</td>\n",
       "      <td id=\"T_408d0_row1_col10\" class=\"data row1 col10\" >0</td>\n",
       "      <td id=\"T_408d0_row1_col11\" class=\"data row1 col11\" >peptide</td>\n",
       "      <td id=\"T_408d0_row1_col12\" class=\"data row1 col12\" >0</td>\n",
       "      <td id=\"T_408d0_row1_col13\" class=\"data row1 col13\" >None</td>\n",
       "    </tr>\n",
       "    <tr>\n",
       "      <td id=\"T_408d0_row2_col0\" class=\"data row2 col0\" >23</td>\n",
       "      <td id=\"T_408d0_row2_col1\" class=\"data row2 col1\" >24</td>\n",
       "      <td id=\"T_408d0_row2_col2\" class=\"data row2 col2\" >N</td>\n",
       "      <td id=\"T_408d0_row2_col3\" class=\"data row2 col3\" >N</td>\n",
       "      <td id=\"T_408d0_row2_col4\" class=\"data row2 col4\" >2</td>\n",
       "      <td id=\"T_408d0_row2_col5\" class=\"data row2 col5\" >42</td>\n",
       "      <td id=\"T_408d0_row2_col6\" class=\"data row2 col6\" >LEU</td>\n",
       "      <td id=\"T_408d0_row2_col7\" class=\"data row2 col7\" >amino acid</td>\n",
       "      <td id=\"T_408d0_row2_col8\" class=\"data row2 col8\" >0</td>\n",
       "      <td id=\"T_408d0_row2_col9\" class=\"data row2 col9\" >0</td>\n",
       "      <td id=\"T_408d0_row2_col10\" class=\"data row2 col10\" >0</td>\n",
       "      <td id=\"T_408d0_row2_col11\" class=\"data row2 col11\" >peptide</td>\n",
       "      <td id=\"T_408d0_row2_col12\" class=\"data row2 col12\" >0</td>\n",
       "      <td id=\"T_408d0_row2_col13\" class=\"data row2 col13\" >None</td>\n",
       "    </tr>\n",
       "    <tr>\n",
       "      <td id=\"T_408d0_row3_col0\" class=\"data row3 col0\" >29</td>\n",
       "      <td id=\"T_408d0_row3_col1\" class=\"data row3 col1\" >30</td>\n",
       "      <td id=\"T_408d0_row3_col2\" class=\"data row3 col2\" >CB</td>\n",
       "      <td id=\"T_408d0_row3_col3\" class=\"data row3 col3\" >C</td>\n",
       "      <td id=\"T_408d0_row3_col4\" class=\"data row3 col4\" >2</td>\n",
       "      <td id=\"T_408d0_row3_col5\" class=\"data row3 col5\" >42</td>\n",
       "      <td id=\"T_408d0_row3_col6\" class=\"data row3 col6\" >LEU</td>\n",
       "      <td id=\"T_408d0_row3_col7\" class=\"data row3 col7\" >amino acid</td>\n",
       "      <td id=\"T_408d0_row3_col8\" class=\"data row3 col8\" >0</td>\n",
       "      <td id=\"T_408d0_row3_col9\" class=\"data row3 col9\" >0</td>\n",
       "      <td id=\"T_408d0_row3_col10\" class=\"data row3 col10\" >0</td>\n",
       "      <td id=\"T_408d0_row3_col11\" class=\"data row3 col11\" >peptide</td>\n",
       "      <td id=\"T_408d0_row3_col12\" class=\"data row3 col12\" >0</td>\n",
       "      <td id=\"T_408d0_row3_col13\" class=\"data row3 col13\" >None</td>\n",
       "    </tr>\n",
       "    <tr>\n",
       "      <td id=\"T_408d0_row4_col0\" class=\"data row4 col0\" >42</td>\n",
       "      <td id=\"T_408d0_row4_col1\" class=\"data row4 col1\" >43</td>\n",
       "      <td id=\"T_408d0_row4_col2\" class=\"data row4 col2\" >N</td>\n",
       "      <td id=\"T_408d0_row4_col3\" class=\"data row4 col3\" >N</td>\n",
       "      <td id=\"T_408d0_row4_col4\" class=\"data row4 col4\" >3</td>\n",
       "      <td id=\"T_408d0_row4_col5\" class=\"data row4 col5\" >43</td>\n",
       "      <td id=\"T_408d0_row4_col6\" class=\"data row4 col6\" >SER</td>\n",
       "      <td id=\"T_408d0_row4_col7\" class=\"data row4 col7\" >amino acid</td>\n",
       "      <td id=\"T_408d0_row4_col8\" class=\"data row4 col8\" >0</td>\n",
       "      <td id=\"T_408d0_row4_col9\" class=\"data row4 col9\" >0</td>\n",
       "      <td id=\"T_408d0_row4_col10\" class=\"data row4 col10\" >0</td>\n",
       "      <td id=\"T_408d0_row4_col11\" class=\"data row4 col11\" >peptide</td>\n",
       "      <td id=\"T_408d0_row4_col12\" class=\"data row4 col12\" >0</td>\n",
       "      <td id=\"T_408d0_row4_col13\" class=\"data row4 col13\" >None</td>\n",
       "    </tr>\n",
       "    <tr>\n",
       "      <td id=\"T_408d0_row5_col0\" class=\"data row5 col0\" >48</td>\n",
       "      <td id=\"T_408d0_row5_col1\" class=\"data row5 col1\" >49</td>\n",
       "      <td id=\"T_408d0_row5_col2\" class=\"data row5 col2\" >CB</td>\n",
       "      <td id=\"T_408d0_row5_col3\" class=\"data row5 col3\" >C</td>\n",
       "      <td id=\"T_408d0_row5_col4\" class=\"data row5 col4\" >3</td>\n",
       "      <td id=\"T_408d0_row5_col5\" class=\"data row5 col5\" >43</td>\n",
       "      <td id=\"T_408d0_row5_col6\" class=\"data row5 col6\" >SER</td>\n",
       "      <td id=\"T_408d0_row5_col7\" class=\"data row5 col7\" >amino acid</td>\n",
       "      <td id=\"T_408d0_row5_col8\" class=\"data row5 col8\" >0</td>\n",
       "      <td id=\"T_408d0_row5_col9\" class=\"data row5 col9\" >0</td>\n",
       "      <td id=\"T_408d0_row5_col10\" class=\"data row5 col10\" >0</td>\n",
       "      <td id=\"T_408d0_row5_col11\" class=\"data row5 col11\" >peptide</td>\n",
       "      <td id=\"T_408d0_row5_col12\" class=\"data row5 col12\" >0</td>\n",
       "      <td id=\"T_408d0_row5_col13\" class=\"data row5 col13\" >None</td>\n",
       "    </tr>\n",
       "    <tr>\n",
       "      <td id=\"T_408d0_row6_col0\" class=\"data row6 col0\" >51</td>\n",
       "      <td id=\"T_408d0_row6_col1\" class=\"data row6 col1\" >52</td>\n",
       "      <td id=\"T_408d0_row6_col2\" class=\"data row6 col2\" >OG</td>\n",
       "      <td id=\"T_408d0_row6_col3\" class=\"data row6 col3\" >O</td>\n",
       "      <td id=\"T_408d0_row6_col4\" class=\"data row6 col4\" >3</td>\n",
       "      <td id=\"T_408d0_row6_col5\" class=\"data row6 col5\" >43</td>\n",
       "      <td id=\"T_408d0_row6_col6\" class=\"data row6 col6\" >SER</td>\n",
       "      <td id=\"T_408d0_row6_col7\" class=\"data row6 col7\" >amino acid</td>\n",
       "      <td id=\"T_408d0_row6_col8\" class=\"data row6 col8\" >0</td>\n",
       "      <td id=\"T_408d0_row6_col9\" class=\"data row6 col9\" >0</td>\n",
       "      <td id=\"T_408d0_row6_col10\" class=\"data row6 col10\" >0</td>\n",
       "      <td id=\"T_408d0_row6_col11\" class=\"data row6 col11\" >peptide</td>\n",
       "      <td id=\"T_408d0_row6_col12\" class=\"data row6 col12\" >0</td>\n",
       "      <td id=\"T_408d0_row6_col13\" class=\"data row6 col13\" >None</td>\n",
       "    </tr>\n",
       "  </tbody>\n",
       "</table>\n"
      ],
      "text/plain": [
       "<pandas.io.formats.style.Styler at 0x7fcebac8c0a0>"
      ]
     },
     "execution_count": 31,
     "metadata": {},
     "output_type": "execute_result"
    }
   ],
   "source": [
    "msm.info(molsys, element='atom', selection=donor_atoms)"
   ]
  }
 ],
 "metadata": {
  "kernelspec": {
   "display_name": "Python 3 (ipykernel)",
   "language": "python",
   "name": "python3"
  },
  "language_info": {
   "codemirror_mode": {
    "name": "ipython",
    "version": 3
   },
   "file_extension": ".py",
   "mimetype": "text/x-python",
   "name": "python",
   "nbconvert_exporter": "python",
   "pygments_lexer": "ipython3",
   "version": "3.10.12"
  }
 },
 "nbformat": 4,
 "nbformat_minor": 5
}
