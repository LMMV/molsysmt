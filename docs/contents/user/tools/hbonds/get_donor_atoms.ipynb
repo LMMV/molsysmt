{
 "cells": [
  {
   "cell_type": "markdown",
   "id": "51a472c0-7186-4eb6-8f0d-57ece63912ce",
   "metadata": {},
   "source": [
    "# Get donor atoms"
   ]
  },
  {
   "cell_type": "code",
   "execution_count": 1,
   "id": "59403f01-40ff-470c-b68a-bebe902d7434",
   "metadata": {
    "execution": {
     "iopub.execute_input": "2025-03-11T21:06:10.525367Z",
     "iopub.status.busy": "2025-03-11T21:06:10.524832Z",
     "iopub.status.idle": "2025-03-11T21:06:19.391519Z",
     "shell.execute_reply": "2025-03-11T21:06:19.390396Z"
    }
   },
   "outputs": [
    {
     "data": {
      "application/vnd.jupyter.widget-view+json": {
       "model_id": "17ee37f6f9ac46fc83c45701ce238ed1",
       "version_major": 2,
       "version_minor": 0
      },
      "text/plain": []
     },
     "metadata": {},
     "output_type": "display_data"
    }
   ],
   "source": [
    "import molsysmt as msm"
   ]
  },
  {
   "cell_type": "code",
   "execution_count": 2,
   "id": "df9653ce-d5de-45f1-9d1a-af0e479b5b48",
   "metadata": {
    "execution": {
     "iopub.execute_input": "2025-03-11T21:06:19.396660Z",
     "iopub.status.busy": "2025-03-11T21:06:19.395712Z",
     "iopub.status.idle": "2025-03-11T21:06:19.409888Z",
     "shell.execute_reply": "2025-03-11T21:06:19.407940Z"
    }
   },
   "outputs": [
    {
     "data": {
      "text/plain": [
       "[\"(atom_type=='O') bonded to (atom_type=='H')\",\n",
       " \"(atom_type=='N') bonded to (atom_type=='H')\"]"
      ]
     },
     "execution_count": 2,
     "metadata": {},
     "output_type": "execute_result"
    }
   ],
   "source": [
    "msm.hbonds.donor_inclusion_rules"
   ]
  },
  {
   "cell_type": "code",
   "execution_count": 3,
   "id": "b399970e-9385-4408-8018-4392c7892dd6",
   "metadata": {
    "execution": {
     "iopub.execute_input": "2025-03-11T21:06:19.413753Z",
     "iopub.status.busy": "2025-03-11T21:06:19.413339Z",
     "iopub.status.idle": "2025-03-11T21:06:19.419467Z",
     "shell.execute_reply": "2025-03-11T21:06:19.418532Z"
    }
   },
   "outputs": [
    {
     "data": {
      "text/plain": [
       "[\"(atom_name=='NE2') not bonded to (atom_type=='H')\",\n",
       " \"(atom_name=='ND1') not bonded to (atom_type=='H')\"]"
      ]
     },
     "execution_count": 3,
     "metadata": {},
     "output_type": "execute_result"
    }
   ],
   "source": [
    " msm.hbonds.donor_exclusion_rules"
   ]
  },
  {
   "cell_type": "code",
   "execution_count": 4,
   "id": "5ccebaa8-2330-45c4-ae75-c170579ac733",
   "metadata": {
    "execution": {
     "iopub.execute_input": "2025-03-11T21:06:19.423021Z",
     "iopub.status.busy": "2025-03-11T21:06:19.422611Z",
     "iopub.status.idle": "2025-03-11T21:06:20.103272Z",
     "shell.execute_reply": "2025-03-11T21:06:20.102476Z"
    }
   },
   "outputs": [],
   "source": [
    "molsys = msm.convert(msm.systems['chicken villin HP35']['chicken_villin_HP35.h5msm'])"
   ]
  },
  {
   "cell_type": "code",
   "execution_count": 5,
   "id": "499f4127-3b73-4b95-8214-c7c1c4d39d59",
   "metadata": {
    "execution": {
     "iopub.execute_input": "2025-03-11T21:06:20.106183Z",
     "iopub.status.busy": "2025-03-11T21:06:20.105585Z",
     "iopub.status.idle": "2025-03-11T21:06:23.977723Z",
     "shell.execute_reply": "2025-03-11T21:06:23.977038Z"
    }
   },
   "outputs": [],
   "source": [
    "donor_atoms = msm.hbonds.get_donor_atoms(molsys, selection=\"group_index==[1,2,3]\")"
   ]
  },
  {
   "cell_type": "code",
   "execution_count": 6,
   "id": "658f9104-642a-409f-9473-38d62d5b8701",
   "metadata": {
    "execution": {
     "iopub.execute_input": "2025-03-11T21:06:23.981425Z",
     "iopub.status.busy": "2025-03-11T21:06:23.980721Z",
     "iopub.status.idle": "2025-03-11T21:06:23.986644Z",
     "shell.execute_reply": "2025-03-11T21:06:23.985920Z"
    }
   },
   "outputs": [
    {
     "data": {
      "text/plain": [
       "array([[ 6,  7],\n",
       "       [23, 24],\n",
       "       [42, 43],\n",
       "       [51, 52]])"
      ]
     },
     "execution_count": 6,
     "metadata": {},
     "output_type": "execute_result"
    }
   ],
   "source": [
    "donor_atoms"
   ]
  },
  {
   "cell_type": "code",
   "execution_count": 7,
   "id": "83eddedb-8f88-4942-8029-7143772f0fd8",
   "metadata": {
    "execution": {
     "iopub.execute_input": "2025-03-11T21:06:23.990067Z",
     "iopub.status.busy": "2025-03-11T21:06:23.989436Z",
     "iopub.status.idle": "2025-03-11T21:06:26.583079Z",
     "shell.execute_reply": "2025-03-11T21:06:26.582109Z"
    }
   },
   "outputs": [
    {
     "data": {
      "text/html": [
       "<style type=\"text/css\">\n",
       "</style>\n",
       "<table id=\"T_cf7a2\">\n",
       "  <thead>\n",
       "    <tr>\n",
       "      <th id=\"T_cf7a2_level0_col0\" class=\"col_heading level0 col0\" >index</th>\n",
       "      <th id=\"T_cf7a2_level0_col1\" class=\"col_heading level0 col1\" >id</th>\n",
       "      <th id=\"T_cf7a2_level0_col2\" class=\"col_heading level0 col2\" >name</th>\n",
       "      <th id=\"T_cf7a2_level0_col3\" class=\"col_heading level0 col3\" >type</th>\n",
       "      <th id=\"T_cf7a2_level0_col4\" class=\"col_heading level0 col4\" >group index</th>\n",
       "      <th id=\"T_cf7a2_level0_col5\" class=\"col_heading level0 col5\" >group id</th>\n",
       "      <th id=\"T_cf7a2_level0_col6\" class=\"col_heading level0 col6\" >group name</th>\n",
       "      <th id=\"T_cf7a2_level0_col7\" class=\"col_heading level0 col7\" >group type</th>\n",
       "      <th id=\"T_cf7a2_level0_col8\" class=\"col_heading level0 col8\" >component index</th>\n",
       "      <th id=\"T_cf7a2_level0_col9\" class=\"col_heading level0 col9\" >chain index</th>\n",
       "      <th id=\"T_cf7a2_level0_col10\" class=\"col_heading level0 col10\" >molecule index</th>\n",
       "      <th id=\"T_cf7a2_level0_col11\" class=\"col_heading level0 col11\" >molecule type</th>\n",
       "      <th id=\"T_cf7a2_level0_col12\" class=\"col_heading level0 col12\" >entity index</th>\n",
       "      <th id=\"T_cf7a2_level0_col13\" class=\"col_heading level0 col13\" >entity name</th>\n",
       "    </tr>\n",
       "  </thead>\n",
       "  <tbody>\n",
       "    <tr>\n",
       "      <td id=\"T_cf7a2_row0_col0\" class=\"data row0 col0\" >6</td>\n",
       "      <td id=\"T_cf7a2_row0_col1\" class=\"data row0 col1\" >7</td>\n",
       "      <td id=\"T_cf7a2_row0_col2\" class=\"data row0 col2\" >N</td>\n",
       "      <td id=\"T_cf7a2_row0_col3\" class=\"data row0 col3\" >N</td>\n",
       "      <td id=\"T_cf7a2_row0_col4\" class=\"data row0 col4\" >1</td>\n",
       "      <td id=\"T_cf7a2_row0_col5\" class=\"data row0 col5\" >41</td>\n",
       "      <td id=\"T_cf7a2_row0_col6\" class=\"data row0 col6\" >MET</td>\n",
       "      <td id=\"T_cf7a2_row0_col7\" class=\"data row0 col7\" >amino acid</td>\n",
       "      <td id=\"T_cf7a2_row0_col8\" class=\"data row0 col8\" >0</td>\n",
       "      <td id=\"T_cf7a2_row0_col9\" class=\"data row0 col9\" >0</td>\n",
       "      <td id=\"T_cf7a2_row0_col10\" class=\"data row0 col10\" >0</td>\n",
       "      <td id=\"T_cf7a2_row0_col11\" class=\"data row0 col11\" >peptide</td>\n",
       "      <td id=\"T_cf7a2_row0_col12\" class=\"data row0 col12\" >0</td>\n",
       "      <td id=\"T_cf7a2_row0_col13\" class=\"data row0 col13\" >VILLIN</td>\n",
       "    </tr>\n",
       "    <tr>\n",
       "      <td id=\"T_cf7a2_row1_col0\" class=\"data row1 col0\" >23</td>\n",
       "      <td id=\"T_cf7a2_row1_col1\" class=\"data row1 col1\" >24</td>\n",
       "      <td id=\"T_cf7a2_row1_col2\" class=\"data row1 col2\" >N</td>\n",
       "      <td id=\"T_cf7a2_row1_col3\" class=\"data row1 col3\" >N</td>\n",
       "      <td id=\"T_cf7a2_row1_col4\" class=\"data row1 col4\" >2</td>\n",
       "      <td id=\"T_cf7a2_row1_col5\" class=\"data row1 col5\" >42</td>\n",
       "      <td id=\"T_cf7a2_row1_col6\" class=\"data row1 col6\" >LEU</td>\n",
       "      <td id=\"T_cf7a2_row1_col7\" class=\"data row1 col7\" >amino acid</td>\n",
       "      <td id=\"T_cf7a2_row1_col8\" class=\"data row1 col8\" >0</td>\n",
       "      <td id=\"T_cf7a2_row1_col9\" class=\"data row1 col9\" >0</td>\n",
       "      <td id=\"T_cf7a2_row1_col10\" class=\"data row1 col10\" >0</td>\n",
       "      <td id=\"T_cf7a2_row1_col11\" class=\"data row1 col11\" >peptide</td>\n",
       "      <td id=\"T_cf7a2_row1_col12\" class=\"data row1 col12\" >0</td>\n",
       "      <td id=\"T_cf7a2_row1_col13\" class=\"data row1 col13\" >VILLIN</td>\n",
       "    </tr>\n",
       "    <tr>\n",
       "      <td id=\"T_cf7a2_row2_col0\" class=\"data row2 col0\" >42</td>\n",
       "      <td id=\"T_cf7a2_row2_col1\" class=\"data row2 col1\" >43</td>\n",
       "      <td id=\"T_cf7a2_row2_col2\" class=\"data row2 col2\" >N</td>\n",
       "      <td id=\"T_cf7a2_row2_col3\" class=\"data row2 col3\" >N</td>\n",
       "      <td id=\"T_cf7a2_row2_col4\" class=\"data row2 col4\" >3</td>\n",
       "      <td id=\"T_cf7a2_row2_col5\" class=\"data row2 col5\" >43</td>\n",
       "      <td id=\"T_cf7a2_row2_col6\" class=\"data row2 col6\" >SER</td>\n",
       "      <td id=\"T_cf7a2_row2_col7\" class=\"data row2 col7\" >amino acid</td>\n",
       "      <td id=\"T_cf7a2_row2_col8\" class=\"data row2 col8\" >0</td>\n",
       "      <td id=\"T_cf7a2_row2_col9\" class=\"data row2 col9\" >0</td>\n",
       "      <td id=\"T_cf7a2_row2_col10\" class=\"data row2 col10\" >0</td>\n",
       "      <td id=\"T_cf7a2_row2_col11\" class=\"data row2 col11\" >peptide</td>\n",
       "      <td id=\"T_cf7a2_row2_col12\" class=\"data row2 col12\" >0</td>\n",
       "      <td id=\"T_cf7a2_row2_col13\" class=\"data row2 col13\" >VILLIN</td>\n",
       "    </tr>\n",
       "    <tr>\n",
       "      <td id=\"T_cf7a2_row3_col0\" class=\"data row3 col0\" >51</td>\n",
       "      <td id=\"T_cf7a2_row3_col1\" class=\"data row3 col1\" >52</td>\n",
       "      <td id=\"T_cf7a2_row3_col2\" class=\"data row3 col2\" >OG</td>\n",
       "      <td id=\"T_cf7a2_row3_col3\" class=\"data row3 col3\" >O</td>\n",
       "      <td id=\"T_cf7a2_row3_col4\" class=\"data row3 col4\" >3</td>\n",
       "      <td id=\"T_cf7a2_row3_col5\" class=\"data row3 col5\" >43</td>\n",
       "      <td id=\"T_cf7a2_row3_col6\" class=\"data row3 col6\" >SER</td>\n",
       "      <td id=\"T_cf7a2_row3_col7\" class=\"data row3 col7\" >amino acid</td>\n",
       "      <td id=\"T_cf7a2_row3_col8\" class=\"data row3 col8\" >0</td>\n",
       "      <td id=\"T_cf7a2_row3_col9\" class=\"data row3 col9\" >0</td>\n",
       "      <td id=\"T_cf7a2_row3_col10\" class=\"data row3 col10\" >0</td>\n",
       "      <td id=\"T_cf7a2_row3_col11\" class=\"data row3 col11\" >peptide</td>\n",
       "      <td id=\"T_cf7a2_row3_col12\" class=\"data row3 col12\" >0</td>\n",
       "      <td id=\"T_cf7a2_row3_col13\" class=\"data row3 col13\" >VILLIN</td>\n",
       "    </tr>\n",
       "  </tbody>\n",
       "</table>\n"
      ],
      "text/plain": [
       "<pandas.io.formats.style.Styler at 0x7f6d8fe48b30>"
      ]
     },
     "execution_count": 7,
     "metadata": {},
     "output_type": "execute_result"
    }
   ],
   "source": [
    "msm.info(molsys, element='atom', selection=donor_atoms[:,0])"
   ]
  },
  {
   "cell_type": "code",
   "execution_count": 8,
   "id": "49bffe92-47f8-42e3-a1c1-1ceb062a75b5",
   "metadata": {
    "execution": {
     "iopub.execute_input": "2025-03-11T21:06:26.587235Z",
     "iopub.status.busy": "2025-03-11T21:06:26.586472Z",
     "iopub.status.idle": "2025-03-11T21:06:29.086042Z",
     "shell.execute_reply": "2025-03-11T21:06:29.085348Z"
    }
   },
   "outputs": [
    {
     "data": {
      "text/html": [
       "<style type=\"text/css\">\n",
       "</style>\n",
       "<table id=\"T_7e9e4\">\n",
       "  <thead>\n",
       "    <tr>\n",
       "      <th id=\"T_7e9e4_level0_col0\" class=\"col_heading level0 col0\" >index</th>\n",
       "      <th id=\"T_7e9e4_level0_col1\" class=\"col_heading level0 col1\" >id</th>\n",
       "      <th id=\"T_7e9e4_level0_col2\" class=\"col_heading level0 col2\" >name</th>\n",
       "      <th id=\"T_7e9e4_level0_col3\" class=\"col_heading level0 col3\" >type</th>\n",
       "      <th id=\"T_7e9e4_level0_col4\" class=\"col_heading level0 col4\" >group index</th>\n",
       "      <th id=\"T_7e9e4_level0_col5\" class=\"col_heading level0 col5\" >group id</th>\n",
       "      <th id=\"T_7e9e4_level0_col6\" class=\"col_heading level0 col6\" >group name</th>\n",
       "      <th id=\"T_7e9e4_level0_col7\" class=\"col_heading level0 col7\" >group type</th>\n",
       "      <th id=\"T_7e9e4_level0_col8\" class=\"col_heading level0 col8\" >component index</th>\n",
       "      <th id=\"T_7e9e4_level0_col9\" class=\"col_heading level0 col9\" >chain index</th>\n",
       "      <th id=\"T_7e9e4_level0_col10\" class=\"col_heading level0 col10\" >molecule index</th>\n",
       "      <th id=\"T_7e9e4_level0_col11\" class=\"col_heading level0 col11\" >molecule type</th>\n",
       "      <th id=\"T_7e9e4_level0_col12\" class=\"col_heading level0 col12\" >entity index</th>\n",
       "      <th id=\"T_7e9e4_level0_col13\" class=\"col_heading level0 col13\" >entity name</th>\n",
       "    </tr>\n",
       "  </thead>\n",
       "  <tbody>\n",
       "    <tr>\n",
       "      <td id=\"T_7e9e4_row0_col0\" class=\"data row0 col0\" >7</td>\n",
       "      <td id=\"T_7e9e4_row0_col1\" class=\"data row0 col1\" >8</td>\n",
       "      <td id=\"T_7e9e4_row0_col2\" class=\"data row0 col2\" >H</td>\n",
       "      <td id=\"T_7e9e4_row0_col3\" class=\"data row0 col3\" >H</td>\n",
       "      <td id=\"T_7e9e4_row0_col4\" class=\"data row0 col4\" >1</td>\n",
       "      <td id=\"T_7e9e4_row0_col5\" class=\"data row0 col5\" >41</td>\n",
       "      <td id=\"T_7e9e4_row0_col6\" class=\"data row0 col6\" >MET</td>\n",
       "      <td id=\"T_7e9e4_row0_col7\" class=\"data row0 col7\" >amino acid</td>\n",
       "      <td id=\"T_7e9e4_row0_col8\" class=\"data row0 col8\" >0</td>\n",
       "      <td id=\"T_7e9e4_row0_col9\" class=\"data row0 col9\" >0</td>\n",
       "      <td id=\"T_7e9e4_row0_col10\" class=\"data row0 col10\" >0</td>\n",
       "      <td id=\"T_7e9e4_row0_col11\" class=\"data row0 col11\" >peptide</td>\n",
       "      <td id=\"T_7e9e4_row0_col12\" class=\"data row0 col12\" >0</td>\n",
       "      <td id=\"T_7e9e4_row0_col13\" class=\"data row0 col13\" >VILLIN</td>\n",
       "    </tr>\n",
       "    <tr>\n",
       "      <td id=\"T_7e9e4_row1_col0\" class=\"data row1 col0\" >24</td>\n",
       "      <td id=\"T_7e9e4_row1_col1\" class=\"data row1 col1\" >25</td>\n",
       "      <td id=\"T_7e9e4_row1_col2\" class=\"data row1 col2\" >H</td>\n",
       "      <td id=\"T_7e9e4_row1_col3\" class=\"data row1 col3\" >H</td>\n",
       "      <td id=\"T_7e9e4_row1_col4\" class=\"data row1 col4\" >2</td>\n",
       "      <td id=\"T_7e9e4_row1_col5\" class=\"data row1 col5\" >42</td>\n",
       "      <td id=\"T_7e9e4_row1_col6\" class=\"data row1 col6\" >LEU</td>\n",
       "      <td id=\"T_7e9e4_row1_col7\" class=\"data row1 col7\" >amino acid</td>\n",
       "      <td id=\"T_7e9e4_row1_col8\" class=\"data row1 col8\" >0</td>\n",
       "      <td id=\"T_7e9e4_row1_col9\" class=\"data row1 col9\" >0</td>\n",
       "      <td id=\"T_7e9e4_row1_col10\" class=\"data row1 col10\" >0</td>\n",
       "      <td id=\"T_7e9e4_row1_col11\" class=\"data row1 col11\" >peptide</td>\n",
       "      <td id=\"T_7e9e4_row1_col12\" class=\"data row1 col12\" >0</td>\n",
       "      <td id=\"T_7e9e4_row1_col13\" class=\"data row1 col13\" >VILLIN</td>\n",
       "    </tr>\n",
       "    <tr>\n",
       "      <td id=\"T_7e9e4_row2_col0\" class=\"data row2 col0\" >43</td>\n",
       "      <td id=\"T_7e9e4_row2_col1\" class=\"data row2 col1\" >44</td>\n",
       "      <td id=\"T_7e9e4_row2_col2\" class=\"data row2 col2\" >H</td>\n",
       "      <td id=\"T_7e9e4_row2_col3\" class=\"data row2 col3\" >H</td>\n",
       "      <td id=\"T_7e9e4_row2_col4\" class=\"data row2 col4\" >3</td>\n",
       "      <td id=\"T_7e9e4_row2_col5\" class=\"data row2 col5\" >43</td>\n",
       "      <td id=\"T_7e9e4_row2_col6\" class=\"data row2 col6\" >SER</td>\n",
       "      <td id=\"T_7e9e4_row2_col7\" class=\"data row2 col7\" >amino acid</td>\n",
       "      <td id=\"T_7e9e4_row2_col8\" class=\"data row2 col8\" >0</td>\n",
       "      <td id=\"T_7e9e4_row2_col9\" class=\"data row2 col9\" >0</td>\n",
       "      <td id=\"T_7e9e4_row2_col10\" class=\"data row2 col10\" >0</td>\n",
       "      <td id=\"T_7e9e4_row2_col11\" class=\"data row2 col11\" >peptide</td>\n",
       "      <td id=\"T_7e9e4_row2_col12\" class=\"data row2 col12\" >0</td>\n",
       "      <td id=\"T_7e9e4_row2_col13\" class=\"data row2 col13\" >VILLIN</td>\n",
       "    </tr>\n",
       "    <tr>\n",
       "      <td id=\"T_7e9e4_row3_col0\" class=\"data row3 col0\" >52</td>\n",
       "      <td id=\"T_7e9e4_row3_col1\" class=\"data row3 col1\" >53</td>\n",
       "      <td id=\"T_7e9e4_row3_col2\" class=\"data row3 col2\" >HG</td>\n",
       "      <td id=\"T_7e9e4_row3_col3\" class=\"data row3 col3\" >H</td>\n",
       "      <td id=\"T_7e9e4_row3_col4\" class=\"data row3 col4\" >3</td>\n",
       "      <td id=\"T_7e9e4_row3_col5\" class=\"data row3 col5\" >43</td>\n",
       "      <td id=\"T_7e9e4_row3_col6\" class=\"data row3 col6\" >SER</td>\n",
       "      <td id=\"T_7e9e4_row3_col7\" class=\"data row3 col7\" >amino acid</td>\n",
       "      <td id=\"T_7e9e4_row3_col8\" class=\"data row3 col8\" >0</td>\n",
       "      <td id=\"T_7e9e4_row3_col9\" class=\"data row3 col9\" >0</td>\n",
       "      <td id=\"T_7e9e4_row3_col10\" class=\"data row3 col10\" >0</td>\n",
       "      <td id=\"T_7e9e4_row3_col11\" class=\"data row3 col11\" >peptide</td>\n",
       "      <td id=\"T_7e9e4_row3_col12\" class=\"data row3 col12\" >0</td>\n",
       "      <td id=\"T_7e9e4_row3_col13\" class=\"data row3 col13\" >VILLIN</td>\n",
       "    </tr>\n",
       "  </tbody>\n",
       "</table>\n"
      ],
      "text/plain": [
       "<pandas.io.formats.style.Styler at 0x7f6d8fa83020>"
      ]
     },
     "execution_count": 8,
     "metadata": {},
     "output_type": "execute_result"
    }
   ],
   "source": [
    "msm.info(molsys, element='atom', selection=donor_atoms[:,1])"
   ]
  },
  {
   "cell_type": "code",
   "execution_count": 9,
   "id": "44ab3f77-2cc1-4644-a5bc-43bf8f61ba85",
   "metadata": {
    "execution": {
     "iopub.execute_input": "2025-03-11T21:06:29.089211Z",
     "iopub.status.busy": "2025-03-11T21:06:29.088483Z",
     "iopub.status.idle": "2025-03-11T21:06:31.750478Z",
     "shell.execute_reply": "2025-03-11T21:06:31.749517Z"
    }
   },
   "outputs": [
    {
     "data": {
      "text/html": [
       "<style type=\"text/css\">\n",
       "</style>\n",
       "<table id=\"T_56bfe\">\n",
       "  <thead>\n",
       "    <tr>\n",
       "      <th id=\"T_56bfe_level0_col0\" class=\"col_heading level0 col0\" >index</th>\n",
       "      <th id=\"T_56bfe_level0_col1\" class=\"col_heading level0 col1\" >id</th>\n",
       "      <th id=\"T_56bfe_level0_col2\" class=\"col_heading level0 col2\" >name</th>\n",
       "      <th id=\"T_56bfe_level0_col3\" class=\"col_heading level0 col3\" >type</th>\n",
       "      <th id=\"T_56bfe_level0_col4\" class=\"col_heading level0 col4\" >group index</th>\n",
       "      <th id=\"T_56bfe_level0_col5\" class=\"col_heading level0 col5\" >group id</th>\n",
       "      <th id=\"T_56bfe_level0_col6\" class=\"col_heading level0 col6\" >group name</th>\n",
       "      <th id=\"T_56bfe_level0_col7\" class=\"col_heading level0 col7\" >group type</th>\n",
       "      <th id=\"T_56bfe_level0_col8\" class=\"col_heading level0 col8\" >component index</th>\n",
       "      <th id=\"T_56bfe_level0_col9\" class=\"col_heading level0 col9\" >chain index</th>\n",
       "      <th id=\"T_56bfe_level0_col10\" class=\"col_heading level0 col10\" >molecule index</th>\n",
       "      <th id=\"T_56bfe_level0_col11\" class=\"col_heading level0 col11\" >molecule type</th>\n",
       "      <th id=\"T_56bfe_level0_col12\" class=\"col_heading level0 col12\" >entity index</th>\n",
       "      <th id=\"T_56bfe_level0_col13\" class=\"col_heading level0 col13\" >entity name</th>\n",
       "    </tr>\n",
       "  </thead>\n",
       "  <tbody>\n",
       "    <tr>\n",
       "      <td id=\"T_56bfe_row0_col0\" class=\"data row0 col0\" >6</td>\n",
       "      <td id=\"T_56bfe_row0_col1\" class=\"data row0 col1\" >7</td>\n",
       "      <td id=\"T_56bfe_row0_col2\" class=\"data row0 col2\" >N</td>\n",
       "      <td id=\"T_56bfe_row0_col3\" class=\"data row0 col3\" >N</td>\n",
       "      <td id=\"T_56bfe_row0_col4\" class=\"data row0 col4\" >1</td>\n",
       "      <td id=\"T_56bfe_row0_col5\" class=\"data row0 col5\" >41</td>\n",
       "      <td id=\"T_56bfe_row0_col6\" class=\"data row0 col6\" >MET</td>\n",
       "      <td id=\"T_56bfe_row0_col7\" class=\"data row0 col7\" >amino acid</td>\n",
       "      <td id=\"T_56bfe_row0_col8\" class=\"data row0 col8\" >0</td>\n",
       "      <td id=\"T_56bfe_row0_col9\" class=\"data row0 col9\" >0</td>\n",
       "      <td id=\"T_56bfe_row0_col10\" class=\"data row0 col10\" >0</td>\n",
       "      <td id=\"T_56bfe_row0_col11\" class=\"data row0 col11\" >peptide</td>\n",
       "      <td id=\"T_56bfe_row0_col12\" class=\"data row0 col12\" >0</td>\n",
       "      <td id=\"T_56bfe_row0_col13\" class=\"data row0 col13\" >VILLIN</td>\n",
       "    </tr>\n",
       "    <tr>\n",
       "      <td id=\"T_56bfe_row1_col0\" class=\"data row1 col0\" >7</td>\n",
       "      <td id=\"T_56bfe_row1_col1\" class=\"data row1 col1\" >8</td>\n",
       "      <td id=\"T_56bfe_row1_col2\" class=\"data row1 col2\" >H</td>\n",
       "      <td id=\"T_56bfe_row1_col3\" class=\"data row1 col3\" >H</td>\n",
       "      <td id=\"T_56bfe_row1_col4\" class=\"data row1 col4\" >1</td>\n",
       "      <td id=\"T_56bfe_row1_col5\" class=\"data row1 col5\" >41</td>\n",
       "      <td id=\"T_56bfe_row1_col6\" class=\"data row1 col6\" >MET</td>\n",
       "      <td id=\"T_56bfe_row1_col7\" class=\"data row1 col7\" >amino acid</td>\n",
       "      <td id=\"T_56bfe_row1_col8\" class=\"data row1 col8\" >0</td>\n",
       "      <td id=\"T_56bfe_row1_col9\" class=\"data row1 col9\" >0</td>\n",
       "      <td id=\"T_56bfe_row1_col10\" class=\"data row1 col10\" >0</td>\n",
       "      <td id=\"T_56bfe_row1_col11\" class=\"data row1 col11\" >peptide</td>\n",
       "      <td id=\"T_56bfe_row1_col12\" class=\"data row1 col12\" >0</td>\n",
       "      <td id=\"T_56bfe_row1_col13\" class=\"data row1 col13\" >VILLIN</td>\n",
       "    </tr>\n",
       "  </tbody>\n",
       "</table>\n"
      ],
      "text/plain": [
       "<pandas.io.formats.style.Styler at 0x7f6d8fa79790>"
      ]
     },
     "execution_count": 9,
     "metadata": {},
     "output_type": "execute_result"
    }
   ],
   "source": [
    "msm.info(molsys, element='atom', selection=donor_atoms[0])"
   ]
  },
  {
   "cell_type": "code",
   "execution_count": 10,
   "id": "7de58b55-b89e-4209-90d9-b6901c7920f8",
   "metadata": {
    "execution": {
     "iopub.execute_input": "2025-03-11T21:06:31.754599Z",
     "iopub.status.busy": "2025-03-11T21:06:31.753890Z",
     "iopub.status.idle": "2025-03-11T21:06:33.468448Z",
     "shell.execute_reply": "2025-03-11T21:06:33.467447Z"
    }
   },
   "outputs": [],
   "source": [
    "donor_atoms = msm.hbonds.get_donor_atoms(molsys, selection=\"group_index==[1,2,3]\",\n",
    "                                         inclusion_rules=\"atom_name=='CB'\", exclusion_rules=\"group_name=='SER'\",\n",
    "                                         default_inclusion_rules=False, default_exclusion_rules=False)"
   ]
  },
  {
   "cell_type": "code",
   "execution_count": 11,
   "id": "f4120001-dcf3-4873-b8ee-5cbb5429ff94",
   "metadata": {
    "execution": {
     "iopub.execute_input": "2025-03-11T21:06:33.472005Z",
     "iopub.status.busy": "2025-03-11T21:06:33.471278Z",
     "iopub.status.idle": "2025-03-11T21:06:33.478463Z",
     "shell.execute_reply": "2025-03-11T21:06:33.477568Z"
    }
   },
   "outputs": [
    {
     "data": {
      "text/plain": [
       "array([[12, 13],\n",
       "       [12, 14],\n",
       "       [29, 30],\n",
       "       [29, 31]])"
      ]
     },
     "execution_count": 11,
     "metadata": {},
     "output_type": "execute_result"
    }
   ],
   "source": [
    "donor_atoms"
   ]
  },
  {
   "cell_type": "code",
   "execution_count": 12,
   "id": "a1f10b2b-b158-403a-bbad-d38052bfb364",
   "metadata": {
    "execution": {
     "iopub.execute_input": "2025-03-11T21:06:33.482441Z",
     "iopub.status.busy": "2025-03-11T21:06:33.481690Z",
     "iopub.status.idle": "2025-03-11T21:06:36.225886Z",
     "shell.execute_reply": "2025-03-11T21:06:36.225141Z"
    }
   },
   "outputs": [
    {
     "data": {
      "text/html": [
       "<style type=\"text/css\">\n",
       "</style>\n",
       "<table id=\"T_a30cd\">\n",
       "  <thead>\n",
       "    <tr>\n",
       "      <th id=\"T_a30cd_level0_col0\" class=\"col_heading level0 col0\" >index</th>\n",
       "      <th id=\"T_a30cd_level0_col1\" class=\"col_heading level0 col1\" >id</th>\n",
       "      <th id=\"T_a30cd_level0_col2\" class=\"col_heading level0 col2\" >name</th>\n",
       "      <th id=\"T_a30cd_level0_col3\" class=\"col_heading level0 col3\" >type</th>\n",
       "      <th id=\"T_a30cd_level0_col4\" class=\"col_heading level0 col4\" >group index</th>\n",
       "      <th id=\"T_a30cd_level0_col5\" class=\"col_heading level0 col5\" >group id</th>\n",
       "      <th id=\"T_a30cd_level0_col6\" class=\"col_heading level0 col6\" >group name</th>\n",
       "      <th id=\"T_a30cd_level0_col7\" class=\"col_heading level0 col7\" >group type</th>\n",
       "      <th id=\"T_a30cd_level0_col8\" class=\"col_heading level0 col8\" >component index</th>\n",
       "      <th id=\"T_a30cd_level0_col9\" class=\"col_heading level0 col9\" >chain index</th>\n",
       "      <th id=\"T_a30cd_level0_col10\" class=\"col_heading level0 col10\" >molecule index</th>\n",
       "      <th id=\"T_a30cd_level0_col11\" class=\"col_heading level0 col11\" >molecule type</th>\n",
       "      <th id=\"T_a30cd_level0_col12\" class=\"col_heading level0 col12\" >entity index</th>\n",
       "      <th id=\"T_a30cd_level0_col13\" class=\"col_heading level0 col13\" >entity name</th>\n",
       "    </tr>\n",
       "  </thead>\n",
       "  <tbody>\n",
       "    <tr>\n",
       "      <td id=\"T_a30cd_row0_col0\" class=\"data row0 col0\" >12</td>\n",
       "      <td id=\"T_a30cd_row0_col1\" class=\"data row0 col1\" >13</td>\n",
       "      <td id=\"T_a30cd_row0_col2\" class=\"data row0 col2\" >CB</td>\n",
       "      <td id=\"T_a30cd_row0_col3\" class=\"data row0 col3\" >C</td>\n",
       "      <td id=\"T_a30cd_row0_col4\" class=\"data row0 col4\" >1</td>\n",
       "      <td id=\"T_a30cd_row0_col5\" class=\"data row0 col5\" >41</td>\n",
       "      <td id=\"T_a30cd_row0_col6\" class=\"data row0 col6\" >MET</td>\n",
       "      <td id=\"T_a30cd_row0_col7\" class=\"data row0 col7\" >amino acid</td>\n",
       "      <td id=\"T_a30cd_row0_col8\" class=\"data row0 col8\" >0</td>\n",
       "      <td id=\"T_a30cd_row0_col9\" class=\"data row0 col9\" >0</td>\n",
       "      <td id=\"T_a30cd_row0_col10\" class=\"data row0 col10\" >0</td>\n",
       "      <td id=\"T_a30cd_row0_col11\" class=\"data row0 col11\" >peptide</td>\n",
       "      <td id=\"T_a30cd_row0_col12\" class=\"data row0 col12\" >0</td>\n",
       "      <td id=\"T_a30cd_row0_col13\" class=\"data row0 col13\" >VILLIN</td>\n",
       "    </tr>\n",
       "    <tr>\n",
       "      <td id=\"T_a30cd_row1_col0\" class=\"data row1 col0\" >13</td>\n",
       "      <td id=\"T_a30cd_row1_col1\" class=\"data row1 col1\" >14</td>\n",
       "      <td id=\"T_a30cd_row1_col2\" class=\"data row1 col2\" >HB2</td>\n",
       "      <td id=\"T_a30cd_row1_col3\" class=\"data row1 col3\" >H</td>\n",
       "      <td id=\"T_a30cd_row1_col4\" class=\"data row1 col4\" >1</td>\n",
       "      <td id=\"T_a30cd_row1_col5\" class=\"data row1 col5\" >41</td>\n",
       "      <td id=\"T_a30cd_row1_col6\" class=\"data row1 col6\" >MET</td>\n",
       "      <td id=\"T_a30cd_row1_col7\" class=\"data row1 col7\" >amino acid</td>\n",
       "      <td id=\"T_a30cd_row1_col8\" class=\"data row1 col8\" >0</td>\n",
       "      <td id=\"T_a30cd_row1_col9\" class=\"data row1 col9\" >0</td>\n",
       "      <td id=\"T_a30cd_row1_col10\" class=\"data row1 col10\" >0</td>\n",
       "      <td id=\"T_a30cd_row1_col11\" class=\"data row1 col11\" >peptide</td>\n",
       "      <td id=\"T_a30cd_row1_col12\" class=\"data row1 col12\" >0</td>\n",
       "      <td id=\"T_a30cd_row1_col13\" class=\"data row1 col13\" >VILLIN</td>\n",
       "    </tr>\n",
       "  </tbody>\n",
       "</table>\n"
      ],
      "text/plain": [
       "<pandas.io.formats.style.Styler at 0x7f6d8fa791f0>"
      ]
     },
     "execution_count": 12,
     "metadata": {},
     "output_type": "execute_result"
    }
   ],
   "source": [
    "msm.info(molsys, element='atom', selection=donor_atoms[0])"
   ]
  },
  {
   "cell_type": "code",
   "execution_count": 13,
   "id": "b9073d4d-eec1-440a-b47b-ebc89ca9b9c4",
   "metadata": {
    "execution": {
     "iopub.execute_input": "2025-03-11T21:06:36.229242Z",
     "iopub.status.busy": "2025-03-11T21:06:36.228826Z",
     "iopub.status.idle": "2025-03-11T21:06:40.882626Z",
     "shell.execute_reply": "2025-03-11T21:06:40.881888Z"
    }
   },
   "outputs": [],
   "source": [
    "donor_atoms = msm.hbonds.get_donor_atoms(molsys, selection=\"group_index==[1,2,3]\",\n",
    "                                         inclusion_rules=\"atom_name=='CB'\", exclusion_rules=\"group_name=='SER'\")"
   ]
  },
  {
   "cell_type": "code",
   "execution_count": 14,
   "id": "928e7674-456a-466e-bb6e-c9b24d527084",
   "metadata": {
    "execution": {
     "iopub.execute_input": "2025-03-11T21:06:40.885746Z",
     "iopub.status.busy": "2025-03-11T21:06:40.885395Z",
     "iopub.status.idle": "2025-03-11T21:06:43.093561Z",
     "shell.execute_reply": "2025-03-11T21:06:43.092844Z"
    }
   },
   "outputs": [
    {
     "data": {
      "text/html": [
       "<style type=\"text/css\">\n",
       "</style>\n",
       "<table id=\"T_940d6\">\n",
       "  <thead>\n",
       "    <tr>\n",
       "      <th id=\"T_940d6_level0_col0\" class=\"col_heading level0 col0\" >index</th>\n",
       "      <th id=\"T_940d6_level0_col1\" class=\"col_heading level0 col1\" >id</th>\n",
       "      <th id=\"T_940d6_level0_col2\" class=\"col_heading level0 col2\" >name</th>\n",
       "      <th id=\"T_940d6_level0_col3\" class=\"col_heading level0 col3\" >type</th>\n",
       "      <th id=\"T_940d6_level0_col4\" class=\"col_heading level0 col4\" >group index</th>\n",
       "      <th id=\"T_940d6_level0_col5\" class=\"col_heading level0 col5\" >group id</th>\n",
       "      <th id=\"T_940d6_level0_col6\" class=\"col_heading level0 col6\" >group name</th>\n",
       "      <th id=\"T_940d6_level0_col7\" class=\"col_heading level0 col7\" >group type</th>\n",
       "      <th id=\"T_940d6_level0_col8\" class=\"col_heading level0 col8\" >component index</th>\n",
       "      <th id=\"T_940d6_level0_col9\" class=\"col_heading level0 col9\" >chain index</th>\n",
       "      <th id=\"T_940d6_level0_col10\" class=\"col_heading level0 col10\" >molecule index</th>\n",
       "      <th id=\"T_940d6_level0_col11\" class=\"col_heading level0 col11\" >molecule type</th>\n",
       "      <th id=\"T_940d6_level0_col12\" class=\"col_heading level0 col12\" >entity index</th>\n",
       "      <th id=\"T_940d6_level0_col13\" class=\"col_heading level0 col13\" >entity name</th>\n",
       "    </tr>\n",
       "  </thead>\n",
       "  <tbody>\n",
       "    <tr>\n",
       "      <td id=\"T_940d6_row0_col0\" class=\"data row0 col0\" >6</td>\n",
       "      <td id=\"T_940d6_row0_col1\" class=\"data row0 col1\" >7</td>\n",
       "      <td id=\"T_940d6_row0_col2\" class=\"data row0 col2\" >N</td>\n",
       "      <td id=\"T_940d6_row0_col3\" class=\"data row0 col3\" >N</td>\n",
       "      <td id=\"T_940d6_row0_col4\" class=\"data row0 col4\" >1</td>\n",
       "      <td id=\"T_940d6_row0_col5\" class=\"data row0 col5\" >41</td>\n",
       "      <td id=\"T_940d6_row0_col6\" class=\"data row0 col6\" >MET</td>\n",
       "      <td id=\"T_940d6_row0_col7\" class=\"data row0 col7\" >amino acid</td>\n",
       "      <td id=\"T_940d6_row0_col8\" class=\"data row0 col8\" >0</td>\n",
       "      <td id=\"T_940d6_row0_col9\" class=\"data row0 col9\" >0</td>\n",
       "      <td id=\"T_940d6_row0_col10\" class=\"data row0 col10\" >0</td>\n",
       "      <td id=\"T_940d6_row0_col11\" class=\"data row0 col11\" >peptide</td>\n",
       "      <td id=\"T_940d6_row0_col12\" class=\"data row0 col12\" >0</td>\n",
       "      <td id=\"T_940d6_row0_col13\" class=\"data row0 col13\" >VILLIN</td>\n",
       "    </tr>\n",
       "    <tr>\n",
       "      <td id=\"T_940d6_row1_col0\" class=\"data row1 col0\" >12</td>\n",
       "      <td id=\"T_940d6_row1_col1\" class=\"data row1 col1\" >13</td>\n",
       "      <td id=\"T_940d6_row1_col2\" class=\"data row1 col2\" >CB</td>\n",
       "      <td id=\"T_940d6_row1_col3\" class=\"data row1 col3\" >C</td>\n",
       "      <td id=\"T_940d6_row1_col4\" class=\"data row1 col4\" >1</td>\n",
       "      <td id=\"T_940d6_row1_col5\" class=\"data row1 col5\" >41</td>\n",
       "      <td id=\"T_940d6_row1_col6\" class=\"data row1 col6\" >MET</td>\n",
       "      <td id=\"T_940d6_row1_col7\" class=\"data row1 col7\" >amino acid</td>\n",
       "      <td id=\"T_940d6_row1_col8\" class=\"data row1 col8\" >0</td>\n",
       "      <td id=\"T_940d6_row1_col9\" class=\"data row1 col9\" >0</td>\n",
       "      <td id=\"T_940d6_row1_col10\" class=\"data row1 col10\" >0</td>\n",
       "      <td id=\"T_940d6_row1_col11\" class=\"data row1 col11\" >peptide</td>\n",
       "      <td id=\"T_940d6_row1_col12\" class=\"data row1 col12\" >0</td>\n",
       "      <td id=\"T_940d6_row1_col13\" class=\"data row1 col13\" >VILLIN</td>\n",
       "    </tr>\n",
       "    <tr>\n",
       "      <td id=\"T_940d6_row2_col0\" class=\"data row2 col0\" >12</td>\n",
       "      <td id=\"T_940d6_row2_col1\" class=\"data row2 col1\" >13</td>\n",
       "      <td id=\"T_940d6_row2_col2\" class=\"data row2 col2\" >CB</td>\n",
       "      <td id=\"T_940d6_row2_col3\" class=\"data row2 col3\" >C</td>\n",
       "      <td id=\"T_940d6_row2_col4\" class=\"data row2 col4\" >1</td>\n",
       "      <td id=\"T_940d6_row2_col5\" class=\"data row2 col5\" >41</td>\n",
       "      <td id=\"T_940d6_row2_col6\" class=\"data row2 col6\" >MET</td>\n",
       "      <td id=\"T_940d6_row2_col7\" class=\"data row2 col7\" >amino acid</td>\n",
       "      <td id=\"T_940d6_row2_col8\" class=\"data row2 col8\" >0</td>\n",
       "      <td id=\"T_940d6_row2_col9\" class=\"data row2 col9\" >0</td>\n",
       "      <td id=\"T_940d6_row2_col10\" class=\"data row2 col10\" >0</td>\n",
       "      <td id=\"T_940d6_row2_col11\" class=\"data row2 col11\" >peptide</td>\n",
       "      <td id=\"T_940d6_row2_col12\" class=\"data row2 col12\" >0</td>\n",
       "      <td id=\"T_940d6_row2_col13\" class=\"data row2 col13\" >VILLIN</td>\n",
       "    </tr>\n",
       "    <tr>\n",
       "      <td id=\"T_940d6_row3_col0\" class=\"data row3 col0\" >23</td>\n",
       "      <td id=\"T_940d6_row3_col1\" class=\"data row3 col1\" >24</td>\n",
       "      <td id=\"T_940d6_row3_col2\" class=\"data row3 col2\" >N</td>\n",
       "      <td id=\"T_940d6_row3_col3\" class=\"data row3 col3\" >N</td>\n",
       "      <td id=\"T_940d6_row3_col4\" class=\"data row3 col4\" >2</td>\n",
       "      <td id=\"T_940d6_row3_col5\" class=\"data row3 col5\" >42</td>\n",
       "      <td id=\"T_940d6_row3_col6\" class=\"data row3 col6\" >LEU</td>\n",
       "      <td id=\"T_940d6_row3_col7\" class=\"data row3 col7\" >amino acid</td>\n",
       "      <td id=\"T_940d6_row3_col8\" class=\"data row3 col8\" >0</td>\n",
       "      <td id=\"T_940d6_row3_col9\" class=\"data row3 col9\" >0</td>\n",
       "      <td id=\"T_940d6_row3_col10\" class=\"data row3 col10\" >0</td>\n",
       "      <td id=\"T_940d6_row3_col11\" class=\"data row3 col11\" >peptide</td>\n",
       "      <td id=\"T_940d6_row3_col12\" class=\"data row3 col12\" >0</td>\n",
       "      <td id=\"T_940d6_row3_col13\" class=\"data row3 col13\" >VILLIN</td>\n",
       "    </tr>\n",
       "    <tr>\n",
       "      <td id=\"T_940d6_row4_col0\" class=\"data row4 col0\" >29</td>\n",
       "      <td id=\"T_940d6_row4_col1\" class=\"data row4 col1\" >30</td>\n",
       "      <td id=\"T_940d6_row4_col2\" class=\"data row4 col2\" >CB</td>\n",
       "      <td id=\"T_940d6_row4_col3\" class=\"data row4 col3\" >C</td>\n",
       "      <td id=\"T_940d6_row4_col4\" class=\"data row4 col4\" >2</td>\n",
       "      <td id=\"T_940d6_row4_col5\" class=\"data row4 col5\" >42</td>\n",
       "      <td id=\"T_940d6_row4_col6\" class=\"data row4 col6\" >LEU</td>\n",
       "      <td id=\"T_940d6_row4_col7\" class=\"data row4 col7\" >amino acid</td>\n",
       "      <td id=\"T_940d6_row4_col8\" class=\"data row4 col8\" >0</td>\n",
       "      <td id=\"T_940d6_row4_col9\" class=\"data row4 col9\" >0</td>\n",
       "      <td id=\"T_940d6_row4_col10\" class=\"data row4 col10\" >0</td>\n",
       "      <td id=\"T_940d6_row4_col11\" class=\"data row4 col11\" >peptide</td>\n",
       "      <td id=\"T_940d6_row4_col12\" class=\"data row4 col12\" >0</td>\n",
       "      <td id=\"T_940d6_row4_col13\" class=\"data row4 col13\" >VILLIN</td>\n",
       "    </tr>\n",
       "    <tr>\n",
       "      <td id=\"T_940d6_row5_col0\" class=\"data row5 col0\" >29</td>\n",
       "      <td id=\"T_940d6_row5_col1\" class=\"data row5 col1\" >30</td>\n",
       "      <td id=\"T_940d6_row5_col2\" class=\"data row5 col2\" >CB</td>\n",
       "      <td id=\"T_940d6_row5_col3\" class=\"data row5 col3\" >C</td>\n",
       "      <td id=\"T_940d6_row5_col4\" class=\"data row5 col4\" >2</td>\n",
       "      <td id=\"T_940d6_row5_col5\" class=\"data row5 col5\" >42</td>\n",
       "      <td id=\"T_940d6_row5_col6\" class=\"data row5 col6\" >LEU</td>\n",
       "      <td id=\"T_940d6_row5_col7\" class=\"data row5 col7\" >amino acid</td>\n",
       "      <td id=\"T_940d6_row5_col8\" class=\"data row5 col8\" >0</td>\n",
       "      <td id=\"T_940d6_row5_col9\" class=\"data row5 col9\" >0</td>\n",
       "      <td id=\"T_940d6_row5_col10\" class=\"data row5 col10\" >0</td>\n",
       "      <td id=\"T_940d6_row5_col11\" class=\"data row5 col11\" >peptide</td>\n",
       "      <td id=\"T_940d6_row5_col12\" class=\"data row5 col12\" >0</td>\n",
       "      <td id=\"T_940d6_row5_col13\" class=\"data row5 col13\" >VILLIN</td>\n",
       "    </tr>\n",
       "  </tbody>\n",
       "</table>\n"
      ],
      "text/plain": [
       "<pandas.io.formats.style.Styler at 0x7f6d8fbc6f30>"
      ]
     },
     "execution_count": 14,
     "metadata": {},
     "output_type": "execute_result"
    }
   ],
   "source": [
    "msm.info(molsys, element='atom', selection=donor_atoms[:,0])"
   ]
  },
  {
   "cell_type": "code",
   "execution_count": 15,
   "id": "c326e5e9-8121-4247-a0c2-66bb78cd0238",
   "metadata": {
    "execution": {
     "iopub.execute_input": "2025-03-11T21:06:43.096765Z",
     "iopub.status.busy": "2025-03-11T21:06:43.096161Z",
     "iopub.status.idle": "2025-03-11T21:06:43.099763Z",
     "shell.execute_reply": "2025-03-11T21:06:43.099073Z"
    }
   },
   "outputs": [],
   "source": [
    "msm.hbonds.donor_inclusion_rules.append(\"atom_name=='CB'\")"
   ]
  },
  {
   "cell_type": "code",
   "execution_count": 16,
   "id": "ad32a81a-ab89-4a93-a97e-05c41efacdce",
   "metadata": {
    "execution": {
     "iopub.execute_input": "2025-03-11T21:06:43.102377Z",
     "iopub.status.busy": "2025-03-11T21:06:43.101924Z",
     "iopub.status.idle": "2025-03-11T21:06:43.106976Z",
     "shell.execute_reply": "2025-03-11T21:06:43.106168Z"
    }
   },
   "outputs": [
    {
     "data": {
      "text/plain": [
       "[\"(atom_type=='O') bonded to (atom_type=='H')\",\n",
       " \"(atom_type=='N') bonded to (atom_type=='H')\",\n",
       " \"atom_name=='CB'\"]"
      ]
     },
     "execution_count": 16,
     "metadata": {},
     "output_type": "execute_result"
    }
   ],
   "source": [
    "msm.hbonds.donor_inclusion_rules"
   ]
  },
  {
   "cell_type": "code",
   "execution_count": 17,
   "id": "366306eb-e5ac-47df-867b-0c76c5cc27ea",
   "metadata": {
    "execution": {
     "iopub.execute_input": "2025-03-11T21:06:43.110660Z",
     "iopub.status.busy": "2025-03-11T21:06:43.110196Z",
     "iopub.status.idle": "2025-03-11T21:06:47.399163Z",
     "shell.execute_reply": "2025-03-11T21:06:47.397928Z"
    }
   },
   "outputs": [],
   "source": [
    "donor_atoms = msm.hbonds.get_donor_atoms(molsys, selection=\"group_index==[1,2,3]\")"
   ]
  },
  {
   "cell_type": "code",
   "execution_count": 18,
   "id": "b72111e1-f67c-4bdf-9d3c-13509093d6ba",
   "metadata": {
    "execution": {
     "iopub.execute_input": "2025-03-11T21:06:47.403194Z",
     "iopub.status.busy": "2025-03-11T21:06:47.402655Z",
     "iopub.status.idle": "2025-03-11T21:06:50.226573Z",
     "shell.execute_reply": "2025-03-11T21:06:50.225572Z"
    }
   },
   "outputs": [
    {
     "data": {
      "text/html": [
       "<style type=\"text/css\">\n",
       "</style>\n",
       "<table id=\"T_8ca62\">\n",
       "  <thead>\n",
       "    <tr>\n",
       "      <th id=\"T_8ca62_level0_col0\" class=\"col_heading level0 col0\" >index</th>\n",
       "      <th id=\"T_8ca62_level0_col1\" class=\"col_heading level0 col1\" >id</th>\n",
       "      <th id=\"T_8ca62_level0_col2\" class=\"col_heading level0 col2\" >name</th>\n",
       "      <th id=\"T_8ca62_level0_col3\" class=\"col_heading level0 col3\" >type</th>\n",
       "      <th id=\"T_8ca62_level0_col4\" class=\"col_heading level0 col4\" >group index</th>\n",
       "      <th id=\"T_8ca62_level0_col5\" class=\"col_heading level0 col5\" >group id</th>\n",
       "      <th id=\"T_8ca62_level0_col6\" class=\"col_heading level0 col6\" >group name</th>\n",
       "      <th id=\"T_8ca62_level0_col7\" class=\"col_heading level0 col7\" >group type</th>\n",
       "      <th id=\"T_8ca62_level0_col8\" class=\"col_heading level0 col8\" >component index</th>\n",
       "      <th id=\"T_8ca62_level0_col9\" class=\"col_heading level0 col9\" >chain index</th>\n",
       "      <th id=\"T_8ca62_level0_col10\" class=\"col_heading level0 col10\" >molecule index</th>\n",
       "      <th id=\"T_8ca62_level0_col11\" class=\"col_heading level0 col11\" >molecule type</th>\n",
       "      <th id=\"T_8ca62_level0_col12\" class=\"col_heading level0 col12\" >entity index</th>\n",
       "      <th id=\"T_8ca62_level0_col13\" class=\"col_heading level0 col13\" >entity name</th>\n",
       "    </tr>\n",
       "  </thead>\n",
       "  <tbody>\n",
       "    <tr>\n",
       "      <td id=\"T_8ca62_row0_col0\" class=\"data row0 col0\" >6</td>\n",
       "      <td id=\"T_8ca62_row0_col1\" class=\"data row0 col1\" >7</td>\n",
       "      <td id=\"T_8ca62_row0_col2\" class=\"data row0 col2\" >N</td>\n",
       "      <td id=\"T_8ca62_row0_col3\" class=\"data row0 col3\" >N</td>\n",
       "      <td id=\"T_8ca62_row0_col4\" class=\"data row0 col4\" >1</td>\n",
       "      <td id=\"T_8ca62_row0_col5\" class=\"data row0 col5\" >41</td>\n",
       "      <td id=\"T_8ca62_row0_col6\" class=\"data row0 col6\" >MET</td>\n",
       "      <td id=\"T_8ca62_row0_col7\" class=\"data row0 col7\" >amino acid</td>\n",
       "      <td id=\"T_8ca62_row0_col8\" class=\"data row0 col8\" >0</td>\n",
       "      <td id=\"T_8ca62_row0_col9\" class=\"data row0 col9\" >0</td>\n",
       "      <td id=\"T_8ca62_row0_col10\" class=\"data row0 col10\" >0</td>\n",
       "      <td id=\"T_8ca62_row0_col11\" class=\"data row0 col11\" >peptide</td>\n",
       "      <td id=\"T_8ca62_row0_col12\" class=\"data row0 col12\" >0</td>\n",
       "      <td id=\"T_8ca62_row0_col13\" class=\"data row0 col13\" >VILLIN</td>\n",
       "    </tr>\n",
       "    <tr>\n",
       "      <td id=\"T_8ca62_row1_col0\" class=\"data row1 col0\" >12</td>\n",
       "      <td id=\"T_8ca62_row1_col1\" class=\"data row1 col1\" >13</td>\n",
       "      <td id=\"T_8ca62_row1_col2\" class=\"data row1 col2\" >CB</td>\n",
       "      <td id=\"T_8ca62_row1_col3\" class=\"data row1 col3\" >C</td>\n",
       "      <td id=\"T_8ca62_row1_col4\" class=\"data row1 col4\" >1</td>\n",
       "      <td id=\"T_8ca62_row1_col5\" class=\"data row1 col5\" >41</td>\n",
       "      <td id=\"T_8ca62_row1_col6\" class=\"data row1 col6\" >MET</td>\n",
       "      <td id=\"T_8ca62_row1_col7\" class=\"data row1 col7\" >amino acid</td>\n",
       "      <td id=\"T_8ca62_row1_col8\" class=\"data row1 col8\" >0</td>\n",
       "      <td id=\"T_8ca62_row1_col9\" class=\"data row1 col9\" >0</td>\n",
       "      <td id=\"T_8ca62_row1_col10\" class=\"data row1 col10\" >0</td>\n",
       "      <td id=\"T_8ca62_row1_col11\" class=\"data row1 col11\" >peptide</td>\n",
       "      <td id=\"T_8ca62_row1_col12\" class=\"data row1 col12\" >0</td>\n",
       "      <td id=\"T_8ca62_row1_col13\" class=\"data row1 col13\" >VILLIN</td>\n",
       "    </tr>\n",
       "    <tr>\n",
       "      <td id=\"T_8ca62_row2_col0\" class=\"data row2 col0\" >12</td>\n",
       "      <td id=\"T_8ca62_row2_col1\" class=\"data row2 col1\" >13</td>\n",
       "      <td id=\"T_8ca62_row2_col2\" class=\"data row2 col2\" >CB</td>\n",
       "      <td id=\"T_8ca62_row2_col3\" class=\"data row2 col3\" >C</td>\n",
       "      <td id=\"T_8ca62_row2_col4\" class=\"data row2 col4\" >1</td>\n",
       "      <td id=\"T_8ca62_row2_col5\" class=\"data row2 col5\" >41</td>\n",
       "      <td id=\"T_8ca62_row2_col6\" class=\"data row2 col6\" >MET</td>\n",
       "      <td id=\"T_8ca62_row2_col7\" class=\"data row2 col7\" >amino acid</td>\n",
       "      <td id=\"T_8ca62_row2_col8\" class=\"data row2 col8\" >0</td>\n",
       "      <td id=\"T_8ca62_row2_col9\" class=\"data row2 col9\" >0</td>\n",
       "      <td id=\"T_8ca62_row2_col10\" class=\"data row2 col10\" >0</td>\n",
       "      <td id=\"T_8ca62_row2_col11\" class=\"data row2 col11\" >peptide</td>\n",
       "      <td id=\"T_8ca62_row2_col12\" class=\"data row2 col12\" >0</td>\n",
       "      <td id=\"T_8ca62_row2_col13\" class=\"data row2 col13\" >VILLIN</td>\n",
       "    </tr>\n",
       "    <tr>\n",
       "      <td id=\"T_8ca62_row3_col0\" class=\"data row3 col0\" >23</td>\n",
       "      <td id=\"T_8ca62_row3_col1\" class=\"data row3 col1\" >24</td>\n",
       "      <td id=\"T_8ca62_row3_col2\" class=\"data row3 col2\" >N</td>\n",
       "      <td id=\"T_8ca62_row3_col3\" class=\"data row3 col3\" >N</td>\n",
       "      <td id=\"T_8ca62_row3_col4\" class=\"data row3 col4\" >2</td>\n",
       "      <td id=\"T_8ca62_row3_col5\" class=\"data row3 col5\" >42</td>\n",
       "      <td id=\"T_8ca62_row3_col6\" class=\"data row3 col6\" >LEU</td>\n",
       "      <td id=\"T_8ca62_row3_col7\" class=\"data row3 col7\" >amino acid</td>\n",
       "      <td id=\"T_8ca62_row3_col8\" class=\"data row3 col8\" >0</td>\n",
       "      <td id=\"T_8ca62_row3_col9\" class=\"data row3 col9\" >0</td>\n",
       "      <td id=\"T_8ca62_row3_col10\" class=\"data row3 col10\" >0</td>\n",
       "      <td id=\"T_8ca62_row3_col11\" class=\"data row3 col11\" >peptide</td>\n",
       "      <td id=\"T_8ca62_row3_col12\" class=\"data row3 col12\" >0</td>\n",
       "      <td id=\"T_8ca62_row3_col13\" class=\"data row3 col13\" >VILLIN</td>\n",
       "    </tr>\n",
       "    <tr>\n",
       "      <td id=\"T_8ca62_row4_col0\" class=\"data row4 col0\" >29</td>\n",
       "      <td id=\"T_8ca62_row4_col1\" class=\"data row4 col1\" >30</td>\n",
       "      <td id=\"T_8ca62_row4_col2\" class=\"data row4 col2\" >CB</td>\n",
       "      <td id=\"T_8ca62_row4_col3\" class=\"data row4 col3\" >C</td>\n",
       "      <td id=\"T_8ca62_row4_col4\" class=\"data row4 col4\" >2</td>\n",
       "      <td id=\"T_8ca62_row4_col5\" class=\"data row4 col5\" >42</td>\n",
       "      <td id=\"T_8ca62_row4_col6\" class=\"data row4 col6\" >LEU</td>\n",
       "      <td id=\"T_8ca62_row4_col7\" class=\"data row4 col7\" >amino acid</td>\n",
       "      <td id=\"T_8ca62_row4_col8\" class=\"data row4 col8\" >0</td>\n",
       "      <td id=\"T_8ca62_row4_col9\" class=\"data row4 col9\" >0</td>\n",
       "      <td id=\"T_8ca62_row4_col10\" class=\"data row4 col10\" >0</td>\n",
       "      <td id=\"T_8ca62_row4_col11\" class=\"data row4 col11\" >peptide</td>\n",
       "      <td id=\"T_8ca62_row4_col12\" class=\"data row4 col12\" >0</td>\n",
       "      <td id=\"T_8ca62_row4_col13\" class=\"data row4 col13\" >VILLIN</td>\n",
       "    </tr>\n",
       "    <tr>\n",
       "      <td id=\"T_8ca62_row5_col0\" class=\"data row5 col0\" >29</td>\n",
       "      <td id=\"T_8ca62_row5_col1\" class=\"data row5 col1\" >30</td>\n",
       "      <td id=\"T_8ca62_row5_col2\" class=\"data row5 col2\" >CB</td>\n",
       "      <td id=\"T_8ca62_row5_col3\" class=\"data row5 col3\" >C</td>\n",
       "      <td id=\"T_8ca62_row5_col4\" class=\"data row5 col4\" >2</td>\n",
       "      <td id=\"T_8ca62_row5_col5\" class=\"data row5 col5\" >42</td>\n",
       "      <td id=\"T_8ca62_row5_col6\" class=\"data row5 col6\" >LEU</td>\n",
       "      <td id=\"T_8ca62_row5_col7\" class=\"data row5 col7\" >amino acid</td>\n",
       "      <td id=\"T_8ca62_row5_col8\" class=\"data row5 col8\" >0</td>\n",
       "      <td id=\"T_8ca62_row5_col9\" class=\"data row5 col9\" >0</td>\n",
       "      <td id=\"T_8ca62_row5_col10\" class=\"data row5 col10\" >0</td>\n",
       "      <td id=\"T_8ca62_row5_col11\" class=\"data row5 col11\" >peptide</td>\n",
       "      <td id=\"T_8ca62_row5_col12\" class=\"data row5 col12\" >0</td>\n",
       "      <td id=\"T_8ca62_row5_col13\" class=\"data row5 col13\" >VILLIN</td>\n",
       "    </tr>\n",
       "    <tr>\n",
       "      <td id=\"T_8ca62_row6_col0\" class=\"data row6 col0\" >42</td>\n",
       "      <td id=\"T_8ca62_row6_col1\" class=\"data row6 col1\" >43</td>\n",
       "      <td id=\"T_8ca62_row6_col2\" class=\"data row6 col2\" >N</td>\n",
       "      <td id=\"T_8ca62_row6_col3\" class=\"data row6 col3\" >N</td>\n",
       "      <td id=\"T_8ca62_row6_col4\" class=\"data row6 col4\" >3</td>\n",
       "      <td id=\"T_8ca62_row6_col5\" class=\"data row6 col5\" >43</td>\n",
       "      <td id=\"T_8ca62_row6_col6\" class=\"data row6 col6\" >SER</td>\n",
       "      <td id=\"T_8ca62_row6_col7\" class=\"data row6 col7\" >amino acid</td>\n",
       "      <td id=\"T_8ca62_row6_col8\" class=\"data row6 col8\" >0</td>\n",
       "      <td id=\"T_8ca62_row6_col9\" class=\"data row6 col9\" >0</td>\n",
       "      <td id=\"T_8ca62_row6_col10\" class=\"data row6 col10\" >0</td>\n",
       "      <td id=\"T_8ca62_row6_col11\" class=\"data row6 col11\" >peptide</td>\n",
       "      <td id=\"T_8ca62_row6_col12\" class=\"data row6 col12\" >0</td>\n",
       "      <td id=\"T_8ca62_row6_col13\" class=\"data row6 col13\" >VILLIN</td>\n",
       "    </tr>\n",
       "    <tr>\n",
       "      <td id=\"T_8ca62_row7_col0\" class=\"data row7 col0\" >48</td>\n",
       "      <td id=\"T_8ca62_row7_col1\" class=\"data row7 col1\" >49</td>\n",
       "      <td id=\"T_8ca62_row7_col2\" class=\"data row7 col2\" >CB</td>\n",
       "      <td id=\"T_8ca62_row7_col3\" class=\"data row7 col3\" >C</td>\n",
       "      <td id=\"T_8ca62_row7_col4\" class=\"data row7 col4\" >3</td>\n",
       "      <td id=\"T_8ca62_row7_col5\" class=\"data row7 col5\" >43</td>\n",
       "      <td id=\"T_8ca62_row7_col6\" class=\"data row7 col6\" >SER</td>\n",
       "      <td id=\"T_8ca62_row7_col7\" class=\"data row7 col7\" >amino acid</td>\n",
       "      <td id=\"T_8ca62_row7_col8\" class=\"data row7 col8\" >0</td>\n",
       "      <td id=\"T_8ca62_row7_col9\" class=\"data row7 col9\" >0</td>\n",
       "      <td id=\"T_8ca62_row7_col10\" class=\"data row7 col10\" >0</td>\n",
       "      <td id=\"T_8ca62_row7_col11\" class=\"data row7 col11\" >peptide</td>\n",
       "      <td id=\"T_8ca62_row7_col12\" class=\"data row7 col12\" >0</td>\n",
       "      <td id=\"T_8ca62_row7_col13\" class=\"data row7 col13\" >VILLIN</td>\n",
       "    </tr>\n",
       "    <tr>\n",
       "      <td id=\"T_8ca62_row8_col0\" class=\"data row8 col0\" >48</td>\n",
       "      <td id=\"T_8ca62_row8_col1\" class=\"data row8 col1\" >49</td>\n",
       "      <td id=\"T_8ca62_row8_col2\" class=\"data row8 col2\" >CB</td>\n",
       "      <td id=\"T_8ca62_row8_col3\" class=\"data row8 col3\" >C</td>\n",
       "      <td id=\"T_8ca62_row8_col4\" class=\"data row8 col4\" >3</td>\n",
       "      <td id=\"T_8ca62_row8_col5\" class=\"data row8 col5\" >43</td>\n",
       "      <td id=\"T_8ca62_row8_col6\" class=\"data row8 col6\" >SER</td>\n",
       "      <td id=\"T_8ca62_row8_col7\" class=\"data row8 col7\" >amino acid</td>\n",
       "      <td id=\"T_8ca62_row8_col8\" class=\"data row8 col8\" >0</td>\n",
       "      <td id=\"T_8ca62_row8_col9\" class=\"data row8 col9\" >0</td>\n",
       "      <td id=\"T_8ca62_row8_col10\" class=\"data row8 col10\" >0</td>\n",
       "      <td id=\"T_8ca62_row8_col11\" class=\"data row8 col11\" >peptide</td>\n",
       "      <td id=\"T_8ca62_row8_col12\" class=\"data row8 col12\" >0</td>\n",
       "      <td id=\"T_8ca62_row8_col13\" class=\"data row8 col13\" >VILLIN</td>\n",
       "    </tr>\n",
       "    <tr>\n",
       "      <td id=\"T_8ca62_row9_col0\" class=\"data row9 col0\" >51</td>\n",
       "      <td id=\"T_8ca62_row9_col1\" class=\"data row9 col1\" >52</td>\n",
       "      <td id=\"T_8ca62_row9_col2\" class=\"data row9 col2\" >OG</td>\n",
       "      <td id=\"T_8ca62_row9_col3\" class=\"data row9 col3\" >O</td>\n",
       "      <td id=\"T_8ca62_row9_col4\" class=\"data row9 col4\" >3</td>\n",
       "      <td id=\"T_8ca62_row9_col5\" class=\"data row9 col5\" >43</td>\n",
       "      <td id=\"T_8ca62_row9_col6\" class=\"data row9 col6\" >SER</td>\n",
       "      <td id=\"T_8ca62_row9_col7\" class=\"data row9 col7\" >amino acid</td>\n",
       "      <td id=\"T_8ca62_row9_col8\" class=\"data row9 col8\" >0</td>\n",
       "      <td id=\"T_8ca62_row9_col9\" class=\"data row9 col9\" >0</td>\n",
       "      <td id=\"T_8ca62_row9_col10\" class=\"data row9 col10\" >0</td>\n",
       "      <td id=\"T_8ca62_row9_col11\" class=\"data row9 col11\" >peptide</td>\n",
       "      <td id=\"T_8ca62_row9_col12\" class=\"data row9 col12\" >0</td>\n",
       "      <td id=\"T_8ca62_row9_col13\" class=\"data row9 col13\" >VILLIN</td>\n",
       "    </tr>\n",
       "  </tbody>\n",
       "</table>\n"
      ],
      "text/plain": [
       "<pandas.io.formats.style.Styler at 0x7f6d8fbc66f0>"
      ]
     },
     "execution_count": 18,
     "metadata": {},
     "output_type": "execute_result"
    }
   ],
   "source": [
    "msm.info(molsys, element='atom', selection=donor_atoms[:,0])"
   ]
  }
 ],
 "metadata": {
  "kernelspec": {
   "display_name": "Python 3 (ipykernel)",
   "language": "python",
   "name": "python3"
  },
  "language_info": {
   "codemirror_mode": {
    "name": "ipython",
    "version": 3
   },
   "file_extension": ".py",
   "mimetype": "text/x-python",
   "name": "python",
   "nbconvert_exporter": "python",
   "pygments_lexer": "ipython3",
   "version": "3.12.8"
  },
  "widgets": {
   "application/vnd.jupyter.widget-state+json": {
    "state": {
     "17ee37f6f9ac46fc83c45701ce238ed1": {
      "model_module": "nglview-js-widgets",
      "model_module_version": "3.1.4",
      "model_name": "ColormakerRegistryModel",
      "state": {
       "_dom_classes": [],
       "_model_module": "nglview-js-widgets",
       "_model_module_version": "3.1.4",
       "_model_name": "ColormakerRegistryModel",
       "_msg_ar": [],
       "_msg_q": [],
       "_ready": false,
       "_view_count": null,
       "_view_module": "nglview-js-widgets",
       "_view_module_version": "3.1.4",
       "_view_name": "ColormakerRegistryView",
       "layout": "IPY_MODEL_41c481f7edd44f10a10f300873c23561",
       "tabbable": null,
       "tooltip": null
      }
     },
     "41c481f7edd44f10a10f300873c23561": {
      "model_module": "@jupyter-widgets/base",
      "model_module_version": "2.0.0",
      "model_name": "LayoutModel",
      "state": {
       "_model_module": "@jupyter-widgets/base",
       "_model_module_version": "2.0.0",
       "_model_name": "LayoutModel",
       "_view_count": null,
       "_view_module": "@jupyter-widgets/base",
       "_view_module_version": "2.0.0",
       "_view_name": "LayoutView",
       "align_content": null,
       "align_items": null,
       "align_self": null,
       "border_bottom": null,
       "border_left": null,
       "border_right": null,
       "border_top": null,
       "bottom": null,
       "display": null,
       "flex": null,
       "flex_flow": null,
       "grid_area": null,
       "grid_auto_columns": null,
       "grid_auto_flow": null,
       "grid_auto_rows": null,
       "grid_column": null,
       "grid_gap": null,
       "grid_row": null,
       "grid_template_areas": null,
       "grid_template_columns": null,
       "grid_template_rows": null,
       "height": null,
       "justify_content": null,
       "justify_items": null,
       "left": null,
       "margin": null,
       "max_height": null,
       "max_width": null,
       "min_height": null,
       "min_width": null,
       "object_fit": null,
       "object_position": null,
       "order": null,
       "overflow": null,
       "padding": null,
       "right": null,
       "top": null,
       "visibility": null,
       "width": null
      }
     }
    },
    "version_major": 2,
    "version_minor": 0
   }
  }
 },
 "nbformat": 4,
 "nbformat_minor": 5
}
