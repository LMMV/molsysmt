{
 "cells": [
  {
   "cell_type": "markdown",
   "id": "51a472c0-7186-4eb6-8f0d-57ece63912ce",
   "metadata": {},
   "source": [
    "# Get acceptor atoms"
   ]
  },
  {
   "cell_type": "code",
   "execution_count": 1,
   "id": "59403f01-40ff-470c-b68a-bebe902d7434",
   "metadata": {
    "execution": {
     "iopub.execute_input": "2025-03-11T21:06:12.740355Z",
     "iopub.status.busy": "2025-03-11T21:06:12.739745Z",
     "iopub.status.idle": "2025-03-11T21:06:21.173503Z",
     "shell.execute_reply": "2025-03-11T21:06:21.172593Z"
    }
   },
   "outputs": [
    {
     "data": {
      "application/vnd.jupyter.widget-view+json": {
       "model_id": "4a1f55e2c3e74c3988edca546fe1287e",
       "version_major": 2,
       "version_minor": 0
      },
      "text/plain": []
     },
     "metadata": {},
     "output_type": "display_data"
    }
   ],
   "source": [
    "import molsysmt as msm"
   ]
  },
  {
   "cell_type": "code",
   "execution_count": 2,
   "id": "524adef3-c95f-4987-8592-36af5b13831a",
   "metadata": {
    "execution": {
     "iopub.execute_input": "2025-03-11T21:06:21.177919Z",
     "iopub.status.busy": "2025-03-11T21:06:21.177031Z",
     "iopub.status.idle": "2025-03-11T21:06:21.188515Z",
     "shell.execute_reply": "2025-03-11T21:06:21.187617Z"
    }
   },
   "outputs": [
    {
     "data": {
      "text/plain": [
       "[\"atom_type=='O'\", \"atom_type=='N'\", \"atom_type=='S'\"]"
      ]
     },
     "execution_count": 2,
     "metadata": {},
     "output_type": "execute_result"
    }
   ],
   "source": [
    "msm.hbonds.acceptor_inclusion_rules"
   ]
  },
  {
   "cell_type": "code",
   "execution_count": 3,
   "id": "ea82adb1-e02a-43bc-bfe7-39d8a4eea718",
   "metadata": {
    "execution": {
     "iopub.execute_input": "2025-03-11T21:06:21.192383Z",
     "iopub.status.busy": "2025-03-11T21:06:21.192019Z",
     "iopub.status.idle": "2025-03-11T21:06:21.197576Z",
     "shell.execute_reply": "2025-03-11T21:06:21.196829Z"
    }
   },
   "outputs": [
    {
     "data": {
      "text/plain": [
       "[\"atom_name=='NE2' and group_name=='GLN'\",\n",
       " \"(atom_name=='NE2' and group_name=='HIS') bonded to (atom_type=='H')\",\n",
       " \"(atom_name=='ND1' and group_name=='HIS') bonded to (atom_type=='H')\"]"
      ]
     },
     "execution_count": 3,
     "metadata": {},
     "output_type": "execute_result"
    }
   ],
   "source": [
    " msm.hbonds.acceptor_exclusion_rules"
   ]
  },
  {
   "cell_type": "code",
   "execution_count": 4,
   "id": "f22f122d-49ad-41cd-a02b-e26deb512738",
   "metadata": {
    "execution": {
     "iopub.execute_input": "2025-03-11T21:06:21.201513Z",
     "iopub.status.busy": "2025-03-11T21:06:21.200734Z",
     "iopub.status.idle": "2025-03-11T21:06:22.205303Z",
     "shell.execute_reply": "2025-03-11T21:06:22.204459Z"
    }
   },
   "outputs": [],
   "source": [
    "molsys = msm.convert(msm.systems['chicken villin HP35']['chicken_villin_HP35.h5msm'])"
   ]
  },
  {
   "cell_type": "code",
   "execution_count": 5,
   "id": "9b9dd6d4-dc91-48f0-9de8-494d9f408fe4",
   "metadata": {
    "execution": {
     "iopub.execute_input": "2025-03-11T21:06:22.209297Z",
     "iopub.status.busy": "2025-03-11T21:06:22.208524Z",
     "iopub.status.idle": "2025-03-11T21:06:24.698177Z",
     "shell.execute_reply": "2025-03-11T21:06:24.697264Z"
    }
   },
   "outputs": [],
   "source": [
    "acceptor_atoms = msm.hbonds.get_acceptor_atoms(molsys, selection=\"group_index==[1,2,3]\")"
   ]
  },
  {
   "cell_type": "code",
   "execution_count": 6,
   "id": "cec2dc0f-3bd6-490f-8426-9fde41de9a64",
   "metadata": {
    "execution": {
     "iopub.execute_input": "2025-03-11T21:06:24.701616Z",
     "iopub.status.busy": "2025-03-11T21:06:24.701234Z",
     "iopub.status.idle": "2025-03-11T21:06:24.706994Z",
     "shell.execute_reply": "2025-03-11T21:06:24.706260Z"
    }
   },
   "outputs": [
    {
     "data": {
      "text/plain": [
       "array([ 6, 11, 18, 23, 28, 42, 47, 51])"
      ]
     },
     "execution_count": 6,
     "metadata": {},
     "output_type": "execute_result"
    }
   ],
   "source": [
    "acceptor_atoms"
   ]
  },
  {
   "cell_type": "code",
   "execution_count": 7,
   "id": "dea8fbea-3010-4f9c-8e2d-c38242bd1514",
   "metadata": {
    "execution": {
     "iopub.execute_input": "2025-03-11T21:06:24.710774Z",
     "iopub.status.busy": "2025-03-11T21:06:24.709950Z",
     "iopub.status.idle": "2025-03-11T21:06:27.265966Z",
     "shell.execute_reply": "2025-03-11T21:06:27.264964Z"
    }
   },
   "outputs": [
    {
     "data": {
      "text/html": [
       "<style type=\"text/css\">\n",
       "</style>\n",
       "<table id=\"T_12d9e\">\n",
       "  <thead>\n",
       "    <tr>\n",
       "      <th id=\"T_12d9e_level0_col0\" class=\"col_heading level0 col0\" >index</th>\n",
       "      <th id=\"T_12d9e_level0_col1\" class=\"col_heading level0 col1\" >id</th>\n",
       "      <th id=\"T_12d9e_level0_col2\" class=\"col_heading level0 col2\" >name</th>\n",
       "      <th id=\"T_12d9e_level0_col3\" class=\"col_heading level0 col3\" >type</th>\n",
       "      <th id=\"T_12d9e_level0_col4\" class=\"col_heading level0 col4\" >group index</th>\n",
       "      <th id=\"T_12d9e_level0_col5\" class=\"col_heading level0 col5\" >group id</th>\n",
       "      <th id=\"T_12d9e_level0_col6\" class=\"col_heading level0 col6\" >group name</th>\n",
       "      <th id=\"T_12d9e_level0_col7\" class=\"col_heading level0 col7\" >group type</th>\n",
       "      <th id=\"T_12d9e_level0_col8\" class=\"col_heading level0 col8\" >component index</th>\n",
       "      <th id=\"T_12d9e_level0_col9\" class=\"col_heading level0 col9\" >chain index</th>\n",
       "      <th id=\"T_12d9e_level0_col10\" class=\"col_heading level0 col10\" >molecule index</th>\n",
       "      <th id=\"T_12d9e_level0_col11\" class=\"col_heading level0 col11\" >molecule type</th>\n",
       "      <th id=\"T_12d9e_level0_col12\" class=\"col_heading level0 col12\" >entity index</th>\n",
       "      <th id=\"T_12d9e_level0_col13\" class=\"col_heading level0 col13\" >entity name</th>\n",
       "    </tr>\n",
       "  </thead>\n",
       "  <tbody>\n",
       "    <tr>\n",
       "      <td id=\"T_12d9e_row0_col0\" class=\"data row0 col0\" >6</td>\n",
       "      <td id=\"T_12d9e_row0_col1\" class=\"data row0 col1\" >7</td>\n",
       "      <td id=\"T_12d9e_row0_col2\" class=\"data row0 col2\" >N</td>\n",
       "      <td id=\"T_12d9e_row0_col3\" class=\"data row0 col3\" >N</td>\n",
       "      <td id=\"T_12d9e_row0_col4\" class=\"data row0 col4\" >1</td>\n",
       "      <td id=\"T_12d9e_row0_col5\" class=\"data row0 col5\" >41</td>\n",
       "      <td id=\"T_12d9e_row0_col6\" class=\"data row0 col6\" >MET</td>\n",
       "      <td id=\"T_12d9e_row0_col7\" class=\"data row0 col7\" >amino acid</td>\n",
       "      <td id=\"T_12d9e_row0_col8\" class=\"data row0 col8\" >0</td>\n",
       "      <td id=\"T_12d9e_row0_col9\" class=\"data row0 col9\" >0</td>\n",
       "      <td id=\"T_12d9e_row0_col10\" class=\"data row0 col10\" >0</td>\n",
       "      <td id=\"T_12d9e_row0_col11\" class=\"data row0 col11\" >peptide</td>\n",
       "      <td id=\"T_12d9e_row0_col12\" class=\"data row0 col12\" >0</td>\n",
       "      <td id=\"T_12d9e_row0_col13\" class=\"data row0 col13\" >VILLIN</td>\n",
       "    </tr>\n",
       "    <tr>\n",
       "      <td id=\"T_12d9e_row1_col0\" class=\"data row1 col0\" >11</td>\n",
       "      <td id=\"T_12d9e_row1_col1\" class=\"data row1 col1\" >12</td>\n",
       "      <td id=\"T_12d9e_row1_col2\" class=\"data row1 col2\" >O</td>\n",
       "      <td id=\"T_12d9e_row1_col3\" class=\"data row1 col3\" >O</td>\n",
       "      <td id=\"T_12d9e_row1_col4\" class=\"data row1 col4\" >1</td>\n",
       "      <td id=\"T_12d9e_row1_col5\" class=\"data row1 col5\" >41</td>\n",
       "      <td id=\"T_12d9e_row1_col6\" class=\"data row1 col6\" >MET</td>\n",
       "      <td id=\"T_12d9e_row1_col7\" class=\"data row1 col7\" >amino acid</td>\n",
       "      <td id=\"T_12d9e_row1_col8\" class=\"data row1 col8\" >0</td>\n",
       "      <td id=\"T_12d9e_row1_col9\" class=\"data row1 col9\" >0</td>\n",
       "      <td id=\"T_12d9e_row1_col10\" class=\"data row1 col10\" >0</td>\n",
       "      <td id=\"T_12d9e_row1_col11\" class=\"data row1 col11\" >peptide</td>\n",
       "      <td id=\"T_12d9e_row1_col12\" class=\"data row1 col12\" >0</td>\n",
       "      <td id=\"T_12d9e_row1_col13\" class=\"data row1 col13\" >VILLIN</td>\n",
       "    </tr>\n",
       "    <tr>\n",
       "      <td id=\"T_12d9e_row2_col0\" class=\"data row2 col0\" >18</td>\n",
       "      <td id=\"T_12d9e_row2_col1\" class=\"data row2 col1\" >19</td>\n",
       "      <td id=\"T_12d9e_row2_col2\" class=\"data row2 col2\" >SD</td>\n",
       "      <td id=\"T_12d9e_row2_col3\" class=\"data row2 col3\" >S</td>\n",
       "      <td id=\"T_12d9e_row2_col4\" class=\"data row2 col4\" >1</td>\n",
       "      <td id=\"T_12d9e_row2_col5\" class=\"data row2 col5\" >41</td>\n",
       "      <td id=\"T_12d9e_row2_col6\" class=\"data row2 col6\" >MET</td>\n",
       "      <td id=\"T_12d9e_row2_col7\" class=\"data row2 col7\" >amino acid</td>\n",
       "      <td id=\"T_12d9e_row2_col8\" class=\"data row2 col8\" >0</td>\n",
       "      <td id=\"T_12d9e_row2_col9\" class=\"data row2 col9\" >0</td>\n",
       "      <td id=\"T_12d9e_row2_col10\" class=\"data row2 col10\" >0</td>\n",
       "      <td id=\"T_12d9e_row2_col11\" class=\"data row2 col11\" >peptide</td>\n",
       "      <td id=\"T_12d9e_row2_col12\" class=\"data row2 col12\" >0</td>\n",
       "      <td id=\"T_12d9e_row2_col13\" class=\"data row2 col13\" >VILLIN</td>\n",
       "    </tr>\n",
       "    <tr>\n",
       "      <td id=\"T_12d9e_row3_col0\" class=\"data row3 col0\" >23</td>\n",
       "      <td id=\"T_12d9e_row3_col1\" class=\"data row3 col1\" >24</td>\n",
       "      <td id=\"T_12d9e_row3_col2\" class=\"data row3 col2\" >N</td>\n",
       "      <td id=\"T_12d9e_row3_col3\" class=\"data row3 col3\" >N</td>\n",
       "      <td id=\"T_12d9e_row3_col4\" class=\"data row3 col4\" >2</td>\n",
       "      <td id=\"T_12d9e_row3_col5\" class=\"data row3 col5\" >42</td>\n",
       "      <td id=\"T_12d9e_row3_col6\" class=\"data row3 col6\" >LEU</td>\n",
       "      <td id=\"T_12d9e_row3_col7\" class=\"data row3 col7\" >amino acid</td>\n",
       "      <td id=\"T_12d9e_row3_col8\" class=\"data row3 col8\" >0</td>\n",
       "      <td id=\"T_12d9e_row3_col9\" class=\"data row3 col9\" >0</td>\n",
       "      <td id=\"T_12d9e_row3_col10\" class=\"data row3 col10\" >0</td>\n",
       "      <td id=\"T_12d9e_row3_col11\" class=\"data row3 col11\" >peptide</td>\n",
       "      <td id=\"T_12d9e_row3_col12\" class=\"data row3 col12\" >0</td>\n",
       "      <td id=\"T_12d9e_row3_col13\" class=\"data row3 col13\" >VILLIN</td>\n",
       "    </tr>\n",
       "    <tr>\n",
       "      <td id=\"T_12d9e_row4_col0\" class=\"data row4 col0\" >28</td>\n",
       "      <td id=\"T_12d9e_row4_col1\" class=\"data row4 col1\" >29</td>\n",
       "      <td id=\"T_12d9e_row4_col2\" class=\"data row4 col2\" >O</td>\n",
       "      <td id=\"T_12d9e_row4_col3\" class=\"data row4 col3\" >O</td>\n",
       "      <td id=\"T_12d9e_row4_col4\" class=\"data row4 col4\" >2</td>\n",
       "      <td id=\"T_12d9e_row4_col5\" class=\"data row4 col5\" >42</td>\n",
       "      <td id=\"T_12d9e_row4_col6\" class=\"data row4 col6\" >LEU</td>\n",
       "      <td id=\"T_12d9e_row4_col7\" class=\"data row4 col7\" >amino acid</td>\n",
       "      <td id=\"T_12d9e_row4_col8\" class=\"data row4 col8\" >0</td>\n",
       "      <td id=\"T_12d9e_row4_col9\" class=\"data row4 col9\" >0</td>\n",
       "      <td id=\"T_12d9e_row4_col10\" class=\"data row4 col10\" >0</td>\n",
       "      <td id=\"T_12d9e_row4_col11\" class=\"data row4 col11\" >peptide</td>\n",
       "      <td id=\"T_12d9e_row4_col12\" class=\"data row4 col12\" >0</td>\n",
       "      <td id=\"T_12d9e_row4_col13\" class=\"data row4 col13\" >VILLIN</td>\n",
       "    </tr>\n",
       "    <tr>\n",
       "      <td id=\"T_12d9e_row5_col0\" class=\"data row5 col0\" >42</td>\n",
       "      <td id=\"T_12d9e_row5_col1\" class=\"data row5 col1\" >43</td>\n",
       "      <td id=\"T_12d9e_row5_col2\" class=\"data row5 col2\" >N</td>\n",
       "      <td id=\"T_12d9e_row5_col3\" class=\"data row5 col3\" >N</td>\n",
       "      <td id=\"T_12d9e_row5_col4\" class=\"data row5 col4\" >3</td>\n",
       "      <td id=\"T_12d9e_row5_col5\" class=\"data row5 col5\" >43</td>\n",
       "      <td id=\"T_12d9e_row5_col6\" class=\"data row5 col6\" >SER</td>\n",
       "      <td id=\"T_12d9e_row5_col7\" class=\"data row5 col7\" >amino acid</td>\n",
       "      <td id=\"T_12d9e_row5_col8\" class=\"data row5 col8\" >0</td>\n",
       "      <td id=\"T_12d9e_row5_col9\" class=\"data row5 col9\" >0</td>\n",
       "      <td id=\"T_12d9e_row5_col10\" class=\"data row5 col10\" >0</td>\n",
       "      <td id=\"T_12d9e_row5_col11\" class=\"data row5 col11\" >peptide</td>\n",
       "      <td id=\"T_12d9e_row5_col12\" class=\"data row5 col12\" >0</td>\n",
       "      <td id=\"T_12d9e_row5_col13\" class=\"data row5 col13\" >VILLIN</td>\n",
       "    </tr>\n",
       "    <tr>\n",
       "      <td id=\"T_12d9e_row6_col0\" class=\"data row6 col0\" >47</td>\n",
       "      <td id=\"T_12d9e_row6_col1\" class=\"data row6 col1\" >48</td>\n",
       "      <td id=\"T_12d9e_row6_col2\" class=\"data row6 col2\" >O</td>\n",
       "      <td id=\"T_12d9e_row6_col3\" class=\"data row6 col3\" >O</td>\n",
       "      <td id=\"T_12d9e_row6_col4\" class=\"data row6 col4\" >3</td>\n",
       "      <td id=\"T_12d9e_row6_col5\" class=\"data row6 col5\" >43</td>\n",
       "      <td id=\"T_12d9e_row6_col6\" class=\"data row6 col6\" >SER</td>\n",
       "      <td id=\"T_12d9e_row6_col7\" class=\"data row6 col7\" >amino acid</td>\n",
       "      <td id=\"T_12d9e_row6_col8\" class=\"data row6 col8\" >0</td>\n",
       "      <td id=\"T_12d9e_row6_col9\" class=\"data row6 col9\" >0</td>\n",
       "      <td id=\"T_12d9e_row6_col10\" class=\"data row6 col10\" >0</td>\n",
       "      <td id=\"T_12d9e_row6_col11\" class=\"data row6 col11\" >peptide</td>\n",
       "      <td id=\"T_12d9e_row6_col12\" class=\"data row6 col12\" >0</td>\n",
       "      <td id=\"T_12d9e_row6_col13\" class=\"data row6 col13\" >VILLIN</td>\n",
       "    </tr>\n",
       "    <tr>\n",
       "      <td id=\"T_12d9e_row7_col0\" class=\"data row7 col0\" >51</td>\n",
       "      <td id=\"T_12d9e_row7_col1\" class=\"data row7 col1\" >52</td>\n",
       "      <td id=\"T_12d9e_row7_col2\" class=\"data row7 col2\" >OG</td>\n",
       "      <td id=\"T_12d9e_row7_col3\" class=\"data row7 col3\" >O</td>\n",
       "      <td id=\"T_12d9e_row7_col4\" class=\"data row7 col4\" >3</td>\n",
       "      <td id=\"T_12d9e_row7_col5\" class=\"data row7 col5\" >43</td>\n",
       "      <td id=\"T_12d9e_row7_col6\" class=\"data row7 col6\" >SER</td>\n",
       "      <td id=\"T_12d9e_row7_col7\" class=\"data row7 col7\" >amino acid</td>\n",
       "      <td id=\"T_12d9e_row7_col8\" class=\"data row7 col8\" >0</td>\n",
       "      <td id=\"T_12d9e_row7_col9\" class=\"data row7 col9\" >0</td>\n",
       "      <td id=\"T_12d9e_row7_col10\" class=\"data row7 col10\" >0</td>\n",
       "      <td id=\"T_12d9e_row7_col11\" class=\"data row7 col11\" >peptide</td>\n",
       "      <td id=\"T_12d9e_row7_col12\" class=\"data row7 col12\" >0</td>\n",
       "      <td id=\"T_12d9e_row7_col13\" class=\"data row7 col13\" >VILLIN</td>\n",
       "    </tr>\n",
       "  </tbody>\n",
       "</table>\n"
      ],
      "text/plain": [
       "<pandas.io.formats.style.Styler at 0x7fb250ce2e40>"
      ]
     },
     "execution_count": 7,
     "metadata": {},
     "output_type": "execute_result"
    }
   ],
   "source": [
    "msm.info(molsys, element='atom', selection=acceptor_atoms)"
   ]
  },
  {
   "cell_type": "code",
   "execution_count": 8,
   "id": "dd762792-b291-4313-a946-270bf47beb84",
   "metadata": {
    "execution": {
     "iopub.execute_input": "2025-03-11T21:06:27.269660Z",
     "iopub.status.busy": "2025-03-11T21:06:27.269011Z",
     "iopub.status.idle": "2025-03-11T21:06:27.944806Z",
     "shell.execute_reply": "2025-03-11T21:06:27.943942Z"
    }
   },
   "outputs": [],
   "source": [
    "acceptor_atoms = msm.hbonds.get_acceptor_atoms(molsys, selection=\"group_index==[1,2,3]\",\n",
    "                                              inclusion_rules=\"atom_type=='O'\", exclusion_rules=\"atom_name=='OG'\",\n",
    "                                              default_inclusion_rules=False, default_exclusion_rules=False)"
   ]
  },
  {
   "cell_type": "code",
   "execution_count": 9,
   "id": "131c6164-26f2-4832-b3e0-ba8b50b99135",
   "metadata": {
    "execution": {
     "iopub.execute_input": "2025-03-11T21:06:27.948459Z",
     "iopub.status.busy": "2025-03-11T21:06:27.948070Z",
     "iopub.status.idle": "2025-03-11T21:06:30.731491Z",
     "shell.execute_reply": "2025-03-11T21:06:30.730575Z"
    }
   },
   "outputs": [
    {
     "data": {
      "text/html": [
       "<style type=\"text/css\">\n",
       "</style>\n",
       "<table id=\"T_0d88f\">\n",
       "  <thead>\n",
       "    <tr>\n",
       "      <th id=\"T_0d88f_level0_col0\" class=\"col_heading level0 col0\" >index</th>\n",
       "      <th id=\"T_0d88f_level0_col1\" class=\"col_heading level0 col1\" >id</th>\n",
       "      <th id=\"T_0d88f_level0_col2\" class=\"col_heading level0 col2\" >name</th>\n",
       "      <th id=\"T_0d88f_level0_col3\" class=\"col_heading level0 col3\" >type</th>\n",
       "      <th id=\"T_0d88f_level0_col4\" class=\"col_heading level0 col4\" >group index</th>\n",
       "      <th id=\"T_0d88f_level0_col5\" class=\"col_heading level0 col5\" >group id</th>\n",
       "      <th id=\"T_0d88f_level0_col6\" class=\"col_heading level0 col6\" >group name</th>\n",
       "      <th id=\"T_0d88f_level0_col7\" class=\"col_heading level0 col7\" >group type</th>\n",
       "      <th id=\"T_0d88f_level0_col8\" class=\"col_heading level0 col8\" >component index</th>\n",
       "      <th id=\"T_0d88f_level0_col9\" class=\"col_heading level0 col9\" >chain index</th>\n",
       "      <th id=\"T_0d88f_level0_col10\" class=\"col_heading level0 col10\" >molecule index</th>\n",
       "      <th id=\"T_0d88f_level0_col11\" class=\"col_heading level0 col11\" >molecule type</th>\n",
       "      <th id=\"T_0d88f_level0_col12\" class=\"col_heading level0 col12\" >entity index</th>\n",
       "      <th id=\"T_0d88f_level0_col13\" class=\"col_heading level0 col13\" >entity name</th>\n",
       "    </tr>\n",
       "  </thead>\n",
       "  <tbody>\n",
       "    <tr>\n",
       "      <td id=\"T_0d88f_row0_col0\" class=\"data row0 col0\" >11</td>\n",
       "      <td id=\"T_0d88f_row0_col1\" class=\"data row0 col1\" >12</td>\n",
       "      <td id=\"T_0d88f_row0_col2\" class=\"data row0 col2\" >O</td>\n",
       "      <td id=\"T_0d88f_row0_col3\" class=\"data row0 col3\" >O</td>\n",
       "      <td id=\"T_0d88f_row0_col4\" class=\"data row0 col4\" >1</td>\n",
       "      <td id=\"T_0d88f_row0_col5\" class=\"data row0 col5\" >41</td>\n",
       "      <td id=\"T_0d88f_row0_col6\" class=\"data row0 col6\" >MET</td>\n",
       "      <td id=\"T_0d88f_row0_col7\" class=\"data row0 col7\" >amino acid</td>\n",
       "      <td id=\"T_0d88f_row0_col8\" class=\"data row0 col8\" >0</td>\n",
       "      <td id=\"T_0d88f_row0_col9\" class=\"data row0 col9\" >0</td>\n",
       "      <td id=\"T_0d88f_row0_col10\" class=\"data row0 col10\" >0</td>\n",
       "      <td id=\"T_0d88f_row0_col11\" class=\"data row0 col11\" >peptide</td>\n",
       "      <td id=\"T_0d88f_row0_col12\" class=\"data row0 col12\" >0</td>\n",
       "      <td id=\"T_0d88f_row0_col13\" class=\"data row0 col13\" >VILLIN</td>\n",
       "    </tr>\n",
       "    <tr>\n",
       "      <td id=\"T_0d88f_row1_col0\" class=\"data row1 col0\" >28</td>\n",
       "      <td id=\"T_0d88f_row1_col1\" class=\"data row1 col1\" >29</td>\n",
       "      <td id=\"T_0d88f_row1_col2\" class=\"data row1 col2\" >O</td>\n",
       "      <td id=\"T_0d88f_row1_col3\" class=\"data row1 col3\" >O</td>\n",
       "      <td id=\"T_0d88f_row1_col4\" class=\"data row1 col4\" >2</td>\n",
       "      <td id=\"T_0d88f_row1_col5\" class=\"data row1 col5\" >42</td>\n",
       "      <td id=\"T_0d88f_row1_col6\" class=\"data row1 col6\" >LEU</td>\n",
       "      <td id=\"T_0d88f_row1_col7\" class=\"data row1 col7\" >amino acid</td>\n",
       "      <td id=\"T_0d88f_row1_col8\" class=\"data row1 col8\" >0</td>\n",
       "      <td id=\"T_0d88f_row1_col9\" class=\"data row1 col9\" >0</td>\n",
       "      <td id=\"T_0d88f_row1_col10\" class=\"data row1 col10\" >0</td>\n",
       "      <td id=\"T_0d88f_row1_col11\" class=\"data row1 col11\" >peptide</td>\n",
       "      <td id=\"T_0d88f_row1_col12\" class=\"data row1 col12\" >0</td>\n",
       "      <td id=\"T_0d88f_row1_col13\" class=\"data row1 col13\" >VILLIN</td>\n",
       "    </tr>\n",
       "    <tr>\n",
       "      <td id=\"T_0d88f_row2_col0\" class=\"data row2 col0\" >47</td>\n",
       "      <td id=\"T_0d88f_row2_col1\" class=\"data row2 col1\" >48</td>\n",
       "      <td id=\"T_0d88f_row2_col2\" class=\"data row2 col2\" >O</td>\n",
       "      <td id=\"T_0d88f_row2_col3\" class=\"data row2 col3\" >O</td>\n",
       "      <td id=\"T_0d88f_row2_col4\" class=\"data row2 col4\" >3</td>\n",
       "      <td id=\"T_0d88f_row2_col5\" class=\"data row2 col5\" >43</td>\n",
       "      <td id=\"T_0d88f_row2_col6\" class=\"data row2 col6\" >SER</td>\n",
       "      <td id=\"T_0d88f_row2_col7\" class=\"data row2 col7\" >amino acid</td>\n",
       "      <td id=\"T_0d88f_row2_col8\" class=\"data row2 col8\" >0</td>\n",
       "      <td id=\"T_0d88f_row2_col9\" class=\"data row2 col9\" >0</td>\n",
       "      <td id=\"T_0d88f_row2_col10\" class=\"data row2 col10\" >0</td>\n",
       "      <td id=\"T_0d88f_row2_col11\" class=\"data row2 col11\" >peptide</td>\n",
       "      <td id=\"T_0d88f_row2_col12\" class=\"data row2 col12\" >0</td>\n",
       "      <td id=\"T_0d88f_row2_col13\" class=\"data row2 col13\" >VILLIN</td>\n",
       "    </tr>\n",
       "  </tbody>\n",
       "</table>\n"
      ],
      "text/plain": [
       "<pandas.io.formats.style.Styler at 0x7fb250d34890>"
      ]
     },
     "execution_count": 9,
     "metadata": {},
     "output_type": "execute_result"
    }
   ],
   "source": [
    "msm.info(molsys, element='atom', selection=acceptor_atoms)"
   ]
  },
  {
   "cell_type": "code",
   "execution_count": 10,
   "id": "6cc2764c-b9dd-48ec-8d49-ac4c30cccd61",
   "metadata": {
    "execution": {
     "iopub.execute_input": "2025-03-11T21:06:30.735259Z",
     "iopub.status.busy": "2025-03-11T21:06:30.734472Z",
     "iopub.status.idle": "2025-03-11T21:06:33.540477Z",
     "shell.execute_reply": "2025-03-11T21:06:33.539618Z"
    }
   },
   "outputs": [],
   "source": [
    "acceptor_atoms = msm.hbonds.get_acceptor_atoms(molsys, selection=\"group_index==[1,2,3]\",\n",
    "                                              inclusion_rules=\"atom_type=='CA' and group_name=='MET'\", exclusion_rules=\"atom_name=='OG'\")"
   ]
  },
  {
   "cell_type": "code",
   "execution_count": 11,
   "id": "2adc8146-2935-4ba1-852e-5fb2b054fcfe",
   "metadata": {
    "execution": {
     "iopub.execute_input": "2025-03-11T21:06:33.543460Z",
     "iopub.status.busy": "2025-03-11T21:06:33.543136Z",
     "iopub.status.idle": "2025-03-11T21:06:35.901317Z",
     "shell.execute_reply": "2025-03-11T21:06:35.900668Z"
    }
   },
   "outputs": [
    {
     "data": {
      "text/html": [
       "<style type=\"text/css\">\n",
       "</style>\n",
       "<table id=\"T_19315\">\n",
       "  <thead>\n",
       "    <tr>\n",
       "      <th id=\"T_19315_level0_col0\" class=\"col_heading level0 col0\" >index</th>\n",
       "      <th id=\"T_19315_level0_col1\" class=\"col_heading level0 col1\" >id</th>\n",
       "      <th id=\"T_19315_level0_col2\" class=\"col_heading level0 col2\" >name</th>\n",
       "      <th id=\"T_19315_level0_col3\" class=\"col_heading level0 col3\" >type</th>\n",
       "      <th id=\"T_19315_level0_col4\" class=\"col_heading level0 col4\" >group index</th>\n",
       "      <th id=\"T_19315_level0_col5\" class=\"col_heading level0 col5\" >group id</th>\n",
       "      <th id=\"T_19315_level0_col6\" class=\"col_heading level0 col6\" >group name</th>\n",
       "      <th id=\"T_19315_level0_col7\" class=\"col_heading level0 col7\" >group type</th>\n",
       "      <th id=\"T_19315_level0_col8\" class=\"col_heading level0 col8\" >component index</th>\n",
       "      <th id=\"T_19315_level0_col9\" class=\"col_heading level0 col9\" >chain index</th>\n",
       "      <th id=\"T_19315_level0_col10\" class=\"col_heading level0 col10\" >molecule index</th>\n",
       "      <th id=\"T_19315_level0_col11\" class=\"col_heading level0 col11\" >molecule type</th>\n",
       "      <th id=\"T_19315_level0_col12\" class=\"col_heading level0 col12\" >entity index</th>\n",
       "      <th id=\"T_19315_level0_col13\" class=\"col_heading level0 col13\" >entity name</th>\n",
       "    </tr>\n",
       "  </thead>\n",
       "  <tbody>\n",
       "    <tr>\n",
       "      <td id=\"T_19315_row0_col0\" class=\"data row0 col0\" >6</td>\n",
       "      <td id=\"T_19315_row0_col1\" class=\"data row0 col1\" >7</td>\n",
       "      <td id=\"T_19315_row0_col2\" class=\"data row0 col2\" >N</td>\n",
       "      <td id=\"T_19315_row0_col3\" class=\"data row0 col3\" >N</td>\n",
       "      <td id=\"T_19315_row0_col4\" class=\"data row0 col4\" >1</td>\n",
       "      <td id=\"T_19315_row0_col5\" class=\"data row0 col5\" >41</td>\n",
       "      <td id=\"T_19315_row0_col6\" class=\"data row0 col6\" >MET</td>\n",
       "      <td id=\"T_19315_row0_col7\" class=\"data row0 col7\" >amino acid</td>\n",
       "      <td id=\"T_19315_row0_col8\" class=\"data row0 col8\" >0</td>\n",
       "      <td id=\"T_19315_row0_col9\" class=\"data row0 col9\" >0</td>\n",
       "      <td id=\"T_19315_row0_col10\" class=\"data row0 col10\" >0</td>\n",
       "      <td id=\"T_19315_row0_col11\" class=\"data row0 col11\" >peptide</td>\n",
       "      <td id=\"T_19315_row0_col12\" class=\"data row0 col12\" >0</td>\n",
       "      <td id=\"T_19315_row0_col13\" class=\"data row0 col13\" >VILLIN</td>\n",
       "    </tr>\n",
       "    <tr>\n",
       "      <td id=\"T_19315_row1_col0\" class=\"data row1 col0\" >11</td>\n",
       "      <td id=\"T_19315_row1_col1\" class=\"data row1 col1\" >12</td>\n",
       "      <td id=\"T_19315_row1_col2\" class=\"data row1 col2\" >O</td>\n",
       "      <td id=\"T_19315_row1_col3\" class=\"data row1 col3\" >O</td>\n",
       "      <td id=\"T_19315_row1_col4\" class=\"data row1 col4\" >1</td>\n",
       "      <td id=\"T_19315_row1_col5\" class=\"data row1 col5\" >41</td>\n",
       "      <td id=\"T_19315_row1_col6\" class=\"data row1 col6\" >MET</td>\n",
       "      <td id=\"T_19315_row1_col7\" class=\"data row1 col7\" >amino acid</td>\n",
       "      <td id=\"T_19315_row1_col8\" class=\"data row1 col8\" >0</td>\n",
       "      <td id=\"T_19315_row1_col9\" class=\"data row1 col9\" >0</td>\n",
       "      <td id=\"T_19315_row1_col10\" class=\"data row1 col10\" >0</td>\n",
       "      <td id=\"T_19315_row1_col11\" class=\"data row1 col11\" >peptide</td>\n",
       "      <td id=\"T_19315_row1_col12\" class=\"data row1 col12\" >0</td>\n",
       "      <td id=\"T_19315_row1_col13\" class=\"data row1 col13\" >VILLIN</td>\n",
       "    </tr>\n",
       "    <tr>\n",
       "      <td id=\"T_19315_row2_col0\" class=\"data row2 col0\" >18</td>\n",
       "      <td id=\"T_19315_row2_col1\" class=\"data row2 col1\" >19</td>\n",
       "      <td id=\"T_19315_row2_col2\" class=\"data row2 col2\" >SD</td>\n",
       "      <td id=\"T_19315_row2_col3\" class=\"data row2 col3\" >S</td>\n",
       "      <td id=\"T_19315_row2_col4\" class=\"data row2 col4\" >1</td>\n",
       "      <td id=\"T_19315_row2_col5\" class=\"data row2 col5\" >41</td>\n",
       "      <td id=\"T_19315_row2_col6\" class=\"data row2 col6\" >MET</td>\n",
       "      <td id=\"T_19315_row2_col7\" class=\"data row2 col7\" >amino acid</td>\n",
       "      <td id=\"T_19315_row2_col8\" class=\"data row2 col8\" >0</td>\n",
       "      <td id=\"T_19315_row2_col9\" class=\"data row2 col9\" >0</td>\n",
       "      <td id=\"T_19315_row2_col10\" class=\"data row2 col10\" >0</td>\n",
       "      <td id=\"T_19315_row2_col11\" class=\"data row2 col11\" >peptide</td>\n",
       "      <td id=\"T_19315_row2_col12\" class=\"data row2 col12\" >0</td>\n",
       "      <td id=\"T_19315_row2_col13\" class=\"data row2 col13\" >VILLIN</td>\n",
       "    </tr>\n",
       "    <tr>\n",
       "      <td id=\"T_19315_row3_col0\" class=\"data row3 col0\" >23</td>\n",
       "      <td id=\"T_19315_row3_col1\" class=\"data row3 col1\" >24</td>\n",
       "      <td id=\"T_19315_row3_col2\" class=\"data row3 col2\" >N</td>\n",
       "      <td id=\"T_19315_row3_col3\" class=\"data row3 col3\" >N</td>\n",
       "      <td id=\"T_19315_row3_col4\" class=\"data row3 col4\" >2</td>\n",
       "      <td id=\"T_19315_row3_col5\" class=\"data row3 col5\" >42</td>\n",
       "      <td id=\"T_19315_row3_col6\" class=\"data row3 col6\" >LEU</td>\n",
       "      <td id=\"T_19315_row3_col7\" class=\"data row3 col7\" >amino acid</td>\n",
       "      <td id=\"T_19315_row3_col8\" class=\"data row3 col8\" >0</td>\n",
       "      <td id=\"T_19315_row3_col9\" class=\"data row3 col9\" >0</td>\n",
       "      <td id=\"T_19315_row3_col10\" class=\"data row3 col10\" >0</td>\n",
       "      <td id=\"T_19315_row3_col11\" class=\"data row3 col11\" >peptide</td>\n",
       "      <td id=\"T_19315_row3_col12\" class=\"data row3 col12\" >0</td>\n",
       "      <td id=\"T_19315_row3_col13\" class=\"data row3 col13\" >VILLIN</td>\n",
       "    </tr>\n",
       "    <tr>\n",
       "      <td id=\"T_19315_row4_col0\" class=\"data row4 col0\" >28</td>\n",
       "      <td id=\"T_19315_row4_col1\" class=\"data row4 col1\" >29</td>\n",
       "      <td id=\"T_19315_row4_col2\" class=\"data row4 col2\" >O</td>\n",
       "      <td id=\"T_19315_row4_col3\" class=\"data row4 col3\" >O</td>\n",
       "      <td id=\"T_19315_row4_col4\" class=\"data row4 col4\" >2</td>\n",
       "      <td id=\"T_19315_row4_col5\" class=\"data row4 col5\" >42</td>\n",
       "      <td id=\"T_19315_row4_col6\" class=\"data row4 col6\" >LEU</td>\n",
       "      <td id=\"T_19315_row4_col7\" class=\"data row4 col7\" >amino acid</td>\n",
       "      <td id=\"T_19315_row4_col8\" class=\"data row4 col8\" >0</td>\n",
       "      <td id=\"T_19315_row4_col9\" class=\"data row4 col9\" >0</td>\n",
       "      <td id=\"T_19315_row4_col10\" class=\"data row4 col10\" >0</td>\n",
       "      <td id=\"T_19315_row4_col11\" class=\"data row4 col11\" >peptide</td>\n",
       "      <td id=\"T_19315_row4_col12\" class=\"data row4 col12\" >0</td>\n",
       "      <td id=\"T_19315_row4_col13\" class=\"data row4 col13\" >VILLIN</td>\n",
       "    </tr>\n",
       "    <tr>\n",
       "      <td id=\"T_19315_row5_col0\" class=\"data row5 col0\" >42</td>\n",
       "      <td id=\"T_19315_row5_col1\" class=\"data row5 col1\" >43</td>\n",
       "      <td id=\"T_19315_row5_col2\" class=\"data row5 col2\" >N</td>\n",
       "      <td id=\"T_19315_row5_col3\" class=\"data row5 col3\" >N</td>\n",
       "      <td id=\"T_19315_row5_col4\" class=\"data row5 col4\" >3</td>\n",
       "      <td id=\"T_19315_row5_col5\" class=\"data row5 col5\" >43</td>\n",
       "      <td id=\"T_19315_row5_col6\" class=\"data row5 col6\" >SER</td>\n",
       "      <td id=\"T_19315_row5_col7\" class=\"data row5 col7\" >amino acid</td>\n",
       "      <td id=\"T_19315_row5_col8\" class=\"data row5 col8\" >0</td>\n",
       "      <td id=\"T_19315_row5_col9\" class=\"data row5 col9\" >0</td>\n",
       "      <td id=\"T_19315_row5_col10\" class=\"data row5 col10\" >0</td>\n",
       "      <td id=\"T_19315_row5_col11\" class=\"data row5 col11\" >peptide</td>\n",
       "      <td id=\"T_19315_row5_col12\" class=\"data row5 col12\" >0</td>\n",
       "      <td id=\"T_19315_row5_col13\" class=\"data row5 col13\" >VILLIN</td>\n",
       "    </tr>\n",
       "    <tr>\n",
       "      <td id=\"T_19315_row6_col0\" class=\"data row6 col0\" >47</td>\n",
       "      <td id=\"T_19315_row6_col1\" class=\"data row6 col1\" >48</td>\n",
       "      <td id=\"T_19315_row6_col2\" class=\"data row6 col2\" >O</td>\n",
       "      <td id=\"T_19315_row6_col3\" class=\"data row6 col3\" >O</td>\n",
       "      <td id=\"T_19315_row6_col4\" class=\"data row6 col4\" >3</td>\n",
       "      <td id=\"T_19315_row6_col5\" class=\"data row6 col5\" >43</td>\n",
       "      <td id=\"T_19315_row6_col6\" class=\"data row6 col6\" >SER</td>\n",
       "      <td id=\"T_19315_row6_col7\" class=\"data row6 col7\" >amino acid</td>\n",
       "      <td id=\"T_19315_row6_col8\" class=\"data row6 col8\" >0</td>\n",
       "      <td id=\"T_19315_row6_col9\" class=\"data row6 col9\" >0</td>\n",
       "      <td id=\"T_19315_row6_col10\" class=\"data row6 col10\" >0</td>\n",
       "      <td id=\"T_19315_row6_col11\" class=\"data row6 col11\" >peptide</td>\n",
       "      <td id=\"T_19315_row6_col12\" class=\"data row6 col12\" >0</td>\n",
       "      <td id=\"T_19315_row6_col13\" class=\"data row6 col13\" >VILLIN</td>\n",
       "    </tr>\n",
       "  </tbody>\n",
       "</table>\n"
      ],
      "text/plain": [
       "<pandas.io.formats.style.Styler at 0x7fb250d35970>"
      ]
     },
     "execution_count": 11,
     "metadata": {},
     "output_type": "execute_result"
    }
   ],
   "source": [
    "msm.info(molsys, element='atom', selection=acceptor_atoms)"
   ]
  },
  {
   "cell_type": "code",
   "execution_count": 12,
   "id": "803a983b-9592-4e06-ac18-b0edd8528e56",
   "metadata": {
    "execution": {
     "iopub.execute_input": "2025-03-11T21:06:35.904072Z",
     "iopub.status.busy": "2025-03-11T21:06:35.903734Z",
     "iopub.status.idle": "2025-03-11T21:06:35.907407Z",
     "shell.execute_reply": "2025-03-11T21:06:35.906656Z"
    }
   },
   "outputs": [],
   "source": [
    "msm.hbonds.acceptor_inclusion_rules.append(\"atom_name=='CA'\")"
   ]
  },
  {
   "cell_type": "code",
   "execution_count": 13,
   "id": "c3c4be86-7847-49a5-b2b7-d74a420a7090",
   "metadata": {
    "execution": {
     "iopub.execute_input": "2025-03-11T21:06:35.910651Z",
     "iopub.status.busy": "2025-03-11T21:06:35.910371Z",
     "iopub.status.idle": "2025-03-11T21:06:35.916197Z",
     "shell.execute_reply": "2025-03-11T21:06:35.915408Z"
    }
   },
   "outputs": [
    {
     "data": {
      "text/plain": [
       "[\"atom_type=='O'\", \"atom_type=='N'\", \"atom_type=='S'\", \"atom_name=='CA'\"]"
      ]
     },
     "execution_count": 13,
     "metadata": {},
     "output_type": "execute_result"
    }
   ],
   "source": [
    "msm.hbonds.acceptor_inclusion_rules"
   ]
  },
  {
   "cell_type": "code",
   "execution_count": 14,
   "id": "6c5e5912-b9c5-40fc-9237-a568a72544bd",
   "metadata": {
    "execution": {
     "iopub.execute_input": "2025-03-11T21:06:35.919134Z",
     "iopub.status.busy": "2025-03-11T21:06:35.918767Z",
     "iopub.status.idle": "2025-03-11T21:06:38.135701Z",
     "shell.execute_reply": "2025-03-11T21:06:38.134898Z"
    }
   },
   "outputs": [],
   "source": [
    "acceptor_atoms = msm.hbonds.get_acceptor_atoms(molsys, selection=\"group_index==[1,2,3]\")"
   ]
  },
  {
   "cell_type": "code",
   "execution_count": 15,
   "id": "a717d5ca-e0c8-4997-a01b-0a6d41e90eca",
   "metadata": {
    "execution": {
     "iopub.execute_input": "2025-03-11T21:06:38.139002Z",
     "iopub.status.busy": "2025-03-11T21:06:38.138443Z",
     "iopub.status.idle": "2025-03-11T21:06:40.896267Z",
     "shell.execute_reply": "2025-03-11T21:06:40.895368Z"
    }
   },
   "outputs": [
    {
     "data": {
      "text/html": [
       "<style type=\"text/css\">\n",
       "</style>\n",
       "<table id=\"T_cf2d2\">\n",
       "  <thead>\n",
       "    <tr>\n",
       "      <th id=\"T_cf2d2_level0_col0\" class=\"col_heading level0 col0\" >index</th>\n",
       "      <th id=\"T_cf2d2_level0_col1\" class=\"col_heading level0 col1\" >id</th>\n",
       "      <th id=\"T_cf2d2_level0_col2\" class=\"col_heading level0 col2\" >name</th>\n",
       "      <th id=\"T_cf2d2_level0_col3\" class=\"col_heading level0 col3\" >type</th>\n",
       "      <th id=\"T_cf2d2_level0_col4\" class=\"col_heading level0 col4\" >group index</th>\n",
       "      <th id=\"T_cf2d2_level0_col5\" class=\"col_heading level0 col5\" >group id</th>\n",
       "      <th id=\"T_cf2d2_level0_col6\" class=\"col_heading level0 col6\" >group name</th>\n",
       "      <th id=\"T_cf2d2_level0_col7\" class=\"col_heading level0 col7\" >group type</th>\n",
       "      <th id=\"T_cf2d2_level0_col8\" class=\"col_heading level0 col8\" >component index</th>\n",
       "      <th id=\"T_cf2d2_level0_col9\" class=\"col_heading level0 col9\" >chain index</th>\n",
       "      <th id=\"T_cf2d2_level0_col10\" class=\"col_heading level0 col10\" >molecule index</th>\n",
       "      <th id=\"T_cf2d2_level0_col11\" class=\"col_heading level0 col11\" >molecule type</th>\n",
       "      <th id=\"T_cf2d2_level0_col12\" class=\"col_heading level0 col12\" >entity index</th>\n",
       "      <th id=\"T_cf2d2_level0_col13\" class=\"col_heading level0 col13\" >entity name</th>\n",
       "    </tr>\n",
       "  </thead>\n",
       "  <tbody>\n",
       "    <tr>\n",
       "      <td id=\"T_cf2d2_row0_col0\" class=\"data row0 col0\" >6</td>\n",
       "      <td id=\"T_cf2d2_row0_col1\" class=\"data row0 col1\" >7</td>\n",
       "      <td id=\"T_cf2d2_row0_col2\" class=\"data row0 col2\" >N</td>\n",
       "      <td id=\"T_cf2d2_row0_col3\" class=\"data row0 col3\" >N</td>\n",
       "      <td id=\"T_cf2d2_row0_col4\" class=\"data row0 col4\" >1</td>\n",
       "      <td id=\"T_cf2d2_row0_col5\" class=\"data row0 col5\" >41</td>\n",
       "      <td id=\"T_cf2d2_row0_col6\" class=\"data row0 col6\" >MET</td>\n",
       "      <td id=\"T_cf2d2_row0_col7\" class=\"data row0 col7\" >amino acid</td>\n",
       "      <td id=\"T_cf2d2_row0_col8\" class=\"data row0 col8\" >0</td>\n",
       "      <td id=\"T_cf2d2_row0_col9\" class=\"data row0 col9\" >0</td>\n",
       "      <td id=\"T_cf2d2_row0_col10\" class=\"data row0 col10\" >0</td>\n",
       "      <td id=\"T_cf2d2_row0_col11\" class=\"data row0 col11\" >peptide</td>\n",
       "      <td id=\"T_cf2d2_row0_col12\" class=\"data row0 col12\" >0</td>\n",
       "      <td id=\"T_cf2d2_row0_col13\" class=\"data row0 col13\" >VILLIN</td>\n",
       "    </tr>\n",
       "    <tr>\n",
       "      <td id=\"T_cf2d2_row1_col0\" class=\"data row1 col0\" >8</td>\n",
       "      <td id=\"T_cf2d2_row1_col1\" class=\"data row1 col1\" >9</td>\n",
       "      <td id=\"T_cf2d2_row1_col2\" class=\"data row1 col2\" >CA</td>\n",
       "      <td id=\"T_cf2d2_row1_col3\" class=\"data row1 col3\" >C</td>\n",
       "      <td id=\"T_cf2d2_row1_col4\" class=\"data row1 col4\" >1</td>\n",
       "      <td id=\"T_cf2d2_row1_col5\" class=\"data row1 col5\" >41</td>\n",
       "      <td id=\"T_cf2d2_row1_col6\" class=\"data row1 col6\" >MET</td>\n",
       "      <td id=\"T_cf2d2_row1_col7\" class=\"data row1 col7\" >amino acid</td>\n",
       "      <td id=\"T_cf2d2_row1_col8\" class=\"data row1 col8\" >0</td>\n",
       "      <td id=\"T_cf2d2_row1_col9\" class=\"data row1 col9\" >0</td>\n",
       "      <td id=\"T_cf2d2_row1_col10\" class=\"data row1 col10\" >0</td>\n",
       "      <td id=\"T_cf2d2_row1_col11\" class=\"data row1 col11\" >peptide</td>\n",
       "      <td id=\"T_cf2d2_row1_col12\" class=\"data row1 col12\" >0</td>\n",
       "      <td id=\"T_cf2d2_row1_col13\" class=\"data row1 col13\" >VILLIN</td>\n",
       "    </tr>\n",
       "    <tr>\n",
       "      <td id=\"T_cf2d2_row2_col0\" class=\"data row2 col0\" >11</td>\n",
       "      <td id=\"T_cf2d2_row2_col1\" class=\"data row2 col1\" >12</td>\n",
       "      <td id=\"T_cf2d2_row2_col2\" class=\"data row2 col2\" >O</td>\n",
       "      <td id=\"T_cf2d2_row2_col3\" class=\"data row2 col3\" >O</td>\n",
       "      <td id=\"T_cf2d2_row2_col4\" class=\"data row2 col4\" >1</td>\n",
       "      <td id=\"T_cf2d2_row2_col5\" class=\"data row2 col5\" >41</td>\n",
       "      <td id=\"T_cf2d2_row2_col6\" class=\"data row2 col6\" >MET</td>\n",
       "      <td id=\"T_cf2d2_row2_col7\" class=\"data row2 col7\" >amino acid</td>\n",
       "      <td id=\"T_cf2d2_row2_col8\" class=\"data row2 col8\" >0</td>\n",
       "      <td id=\"T_cf2d2_row2_col9\" class=\"data row2 col9\" >0</td>\n",
       "      <td id=\"T_cf2d2_row2_col10\" class=\"data row2 col10\" >0</td>\n",
       "      <td id=\"T_cf2d2_row2_col11\" class=\"data row2 col11\" >peptide</td>\n",
       "      <td id=\"T_cf2d2_row2_col12\" class=\"data row2 col12\" >0</td>\n",
       "      <td id=\"T_cf2d2_row2_col13\" class=\"data row2 col13\" >VILLIN</td>\n",
       "    </tr>\n",
       "    <tr>\n",
       "      <td id=\"T_cf2d2_row3_col0\" class=\"data row3 col0\" >18</td>\n",
       "      <td id=\"T_cf2d2_row3_col1\" class=\"data row3 col1\" >19</td>\n",
       "      <td id=\"T_cf2d2_row3_col2\" class=\"data row3 col2\" >SD</td>\n",
       "      <td id=\"T_cf2d2_row3_col3\" class=\"data row3 col3\" >S</td>\n",
       "      <td id=\"T_cf2d2_row3_col4\" class=\"data row3 col4\" >1</td>\n",
       "      <td id=\"T_cf2d2_row3_col5\" class=\"data row3 col5\" >41</td>\n",
       "      <td id=\"T_cf2d2_row3_col6\" class=\"data row3 col6\" >MET</td>\n",
       "      <td id=\"T_cf2d2_row3_col7\" class=\"data row3 col7\" >amino acid</td>\n",
       "      <td id=\"T_cf2d2_row3_col8\" class=\"data row3 col8\" >0</td>\n",
       "      <td id=\"T_cf2d2_row3_col9\" class=\"data row3 col9\" >0</td>\n",
       "      <td id=\"T_cf2d2_row3_col10\" class=\"data row3 col10\" >0</td>\n",
       "      <td id=\"T_cf2d2_row3_col11\" class=\"data row3 col11\" >peptide</td>\n",
       "      <td id=\"T_cf2d2_row3_col12\" class=\"data row3 col12\" >0</td>\n",
       "      <td id=\"T_cf2d2_row3_col13\" class=\"data row3 col13\" >VILLIN</td>\n",
       "    </tr>\n",
       "    <tr>\n",
       "      <td id=\"T_cf2d2_row4_col0\" class=\"data row4 col0\" >23</td>\n",
       "      <td id=\"T_cf2d2_row4_col1\" class=\"data row4 col1\" >24</td>\n",
       "      <td id=\"T_cf2d2_row4_col2\" class=\"data row4 col2\" >N</td>\n",
       "      <td id=\"T_cf2d2_row4_col3\" class=\"data row4 col3\" >N</td>\n",
       "      <td id=\"T_cf2d2_row4_col4\" class=\"data row4 col4\" >2</td>\n",
       "      <td id=\"T_cf2d2_row4_col5\" class=\"data row4 col5\" >42</td>\n",
       "      <td id=\"T_cf2d2_row4_col6\" class=\"data row4 col6\" >LEU</td>\n",
       "      <td id=\"T_cf2d2_row4_col7\" class=\"data row4 col7\" >amino acid</td>\n",
       "      <td id=\"T_cf2d2_row4_col8\" class=\"data row4 col8\" >0</td>\n",
       "      <td id=\"T_cf2d2_row4_col9\" class=\"data row4 col9\" >0</td>\n",
       "      <td id=\"T_cf2d2_row4_col10\" class=\"data row4 col10\" >0</td>\n",
       "      <td id=\"T_cf2d2_row4_col11\" class=\"data row4 col11\" >peptide</td>\n",
       "      <td id=\"T_cf2d2_row4_col12\" class=\"data row4 col12\" >0</td>\n",
       "      <td id=\"T_cf2d2_row4_col13\" class=\"data row4 col13\" >VILLIN</td>\n",
       "    </tr>\n",
       "    <tr>\n",
       "      <td id=\"T_cf2d2_row5_col0\" class=\"data row5 col0\" >25</td>\n",
       "      <td id=\"T_cf2d2_row5_col1\" class=\"data row5 col1\" >26</td>\n",
       "      <td id=\"T_cf2d2_row5_col2\" class=\"data row5 col2\" >CA</td>\n",
       "      <td id=\"T_cf2d2_row5_col3\" class=\"data row5 col3\" >C</td>\n",
       "      <td id=\"T_cf2d2_row5_col4\" class=\"data row5 col4\" >2</td>\n",
       "      <td id=\"T_cf2d2_row5_col5\" class=\"data row5 col5\" >42</td>\n",
       "      <td id=\"T_cf2d2_row5_col6\" class=\"data row5 col6\" >LEU</td>\n",
       "      <td id=\"T_cf2d2_row5_col7\" class=\"data row5 col7\" >amino acid</td>\n",
       "      <td id=\"T_cf2d2_row5_col8\" class=\"data row5 col8\" >0</td>\n",
       "      <td id=\"T_cf2d2_row5_col9\" class=\"data row5 col9\" >0</td>\n",
       "      <td id=\"T_cf2d2_row5_col10\" class=\"data row5 col10\" >0</td>\n",
       "      <td id=\"T_cf2d2_row5_col11\" class=\"data row5 col11\" >peptide</td>\n",
       "      <td id=\"T_cf2d2_row5_col12\" class=\"data row5 col12\" >0</td>\n",
       "      <td id=\"T_cf2d2_row5_col13\" class=\"data row5 col13\" >VILLIN</td>\n",
       "    </tr>\n",
       "    <tr>\n",
       "      <td id=\"T_cf2d2_row6_col0\" class=\"data row6 col0\" >28</td>\n",
       "      <td id=\"T_cf2d2_row6_col1\" class=\"data row6 col1\" >29</td>\n",
       "      <td id=\"T_cf2d2_row6_col2\" class=\"data row6 col2\" >O</td>\n",
       "      <td id=\"T_cf2d2_row6_col3\" class=\"data row6 col3\" >O</td>\n",
       "      <td id=\"T_cf2d2_row6_col4\" class=\"data row6 col4\" >2</td>\n",
       "      <td id=\"T_cf2d2_row6_col5\" class=\"data row6 col5\" >42</td>\n",
       "      <td id=\"T_cf2d2_row6_col6\" class=\"data row6 col6\" >LEU</td>\n",
       "      <td id=\"T_cf2d2_row6_col7\" class=\"data row6 col7\" >amino acid</td>\n",
       "      <td id=\"T_cf2d2_row6_col8\" class=\"data row6 col8\" >0</td>\n",
       "      <td id=\"T_cf2d2_row6_col9\" class=\"data row6 col9\" >0</td>\n",
       "      <td id=\"T_cf2d2_row6_col10\" class=\"data row6 col10\" >0</td>\n",
       "      <td id=\"T_cf2d2_row6_col11\" class=\"data row6 col11\" >peptide</td>\n",
       "      <td id=\"T_cf2d2_row6_col12\" class=\"data row6 col12\" >0</td>\n",
       "      <td id=\"T_cf2d2_row6_col13\" class=\"data row6 col13\" >VILLIN</td>\n",
       "    </tr>\n",
       "    <tr>\n",
       "      <td id=\"T_cf2d2_row7_col0\" class=\"data row7 col0\" >42</td>\n",
       "      <td id=\"T_cf2d2_row7_col1\" class=\"data row7 col1\" >43</td>\n",
       "      <td id=\"T_cf2d2_row7_col2\" class=\"data row7 col2\" >N</td>\n",
       "      <td id=\"T_cf2d2_row7_col3\" class=\"data row7 col3\" >N</td>\n",
       "      <td id=\"T_cf2d2_row7_col4\" class=\"data row7 col4\" >3</td>\n",
       "      <td id=\"T_cf2d2_row7_col5\" class=\"data row7 col5\" >43</td>\n",
       "      <td id=\"T_cf2d2_row7_col6\" class=\"data row7 col6\" >SER</td>\n",
       "      <td id=\"T_cf2d2_row7_col7\" class=\"data row7 col7\" >amino acid</td>\n",
       "      <td id=\"T_cf2d2_row7_col8\" class=\"data row7 col8\" >0</td>\n",
       "      <td id=\"T_cf2d2_row7_col9\" class=\"data row7 col9\" >0</td>\n",
       "      <td id=\"T_cf2d2_row7_col10\" class=\"data row7 col10\" >0</td>\n",
       "      <td id=\"T_cf2d2_row7_col11\" class=\"data row7 col11\" >peptide</td>\n",
       "      <td id=\"T_cf2d2_row7_col12\" class=\"data row7 col12\" >0</td>\n",
       "      <td id=\"T_cf2d2_row7_col13\" class=\"data row7 col13\" >VILLIN</td>\n",
       "    </tr>\n",
       "    <tr>\n",
       "      <td id=\"T_cf2d2_row8_col0\" class=\"data row8 col0\" >44</td>\n",
       "      <td id=\"T_cf2d2_row8_col1\" class=\"data row8 col1\" >45</td>\n",
       "      <td id=\"T_cf2d2_row8_col2\" class=\"data row8 col2\" >CA</td>\n",
       "      <td id=\"T_cf2d2_row8_col3\" class=\"data row8 col3\" >C</td>\n",
       "      <td id=\"T_cf2d2_row8_col4\" class=\"data row8 col4\" >3</td>\n",
       "      <td id=\"T_cf2d2_row8_col5\" class=\"data row8 col5\" >43</td>\n",
       "      <td id=\"T_cf2d2_row8_col6\" class=\"data row8 col6\" >SER</td>\n",
       "      <td id=\"T_cf2d2_row8_col7\" class=\"data row8 col7\" >amino acid</td>\n",
       "      <td id=\"T_cf2d2_row8_col8\" class=\"data row8 col8\" >0</td>\n",
       "      <td id=\"T_cf2d2_row8_col9\" class=\"data row8 col9\" >0</td>\n",
       "      <td id=\"T_cf2d2_row8_col10\" class=\"data row8 col10\" >0</td>\n",
       "      <td id=\"T_cf2d2_row8_col11\" class=\"data row8 col11\" >peptide</td>\n",
       "      <td id=\"T_cf2d2_row8_col12\" class=\"data row8 col12\" >0</td>\n",
       "      <td id=\"T_cf2d2_row8_col13\" class=\"data row8 col13\" >VILLIN</td>\n",
       "    </tr>\n",
       "    <tr>\n",
       "      <td id=\"T_cf2d2_row9_col0\" class=\"data row9 col0\" >47</td>\n",
       "      <td id=\"T_cf2d2_row9_col1\" class=\"data row9 col1\" >48</td>\n",
       "      <td id=\"T_cf2d2_row9_col2\" class=\"data row9 col2\" >O</td>\n",
       "      <td id=\"T_cf2d2_row9_col3\" class=\"data row9 col3\" >O</td>\n",
       "      <td id=\"T_cf2d2_row9_col4\" class=\"data row9 col4\" >3</td>\n",
       "      <td id=\"T_cf2d2_row9_col5\" class=\"data row9 col5\" >43</td>\n",
       "      <td id=\"T_cf2d2_row9_col6\" class=\"data row9 col6\" >SER</td>\n",
       "      <td id=\"T_cf2d2_row9_col7\" class=\"data row9 col7\" >amino acid</td>\n",
       "      <td id=\"T_cf2d2_row9_col8\" class=\"data row9 col8\" >0</td>\n",
       "      <td id=\"T_cf2d2_row9_col9\" class=\"data row9 col9\" >0</td>\n",
       "      <td id=\"T_cf2d2_row9_col10\" class=\"data row9 col10\" >0</td>\n",
       "      <td id=\"T_cf2d2_row9_col11\" class=\"data row9 col11\" >peptide</td>\n",
       "      <td id=\"T_cf2d2_row9_col12\" class=\"data row9 col12\" >0</td>\n",
       "      <td id=\"T_cf2d2_row9_col13\" class=\"data row9 col13\" >VILLIN</td>\n",
       "    </tr>\n",
       "    <tr>\n",
       "      <td id=\"T_cf2d2_row10_col0\" class=\"data row10 col0\" >51</td>\n",
       "      <td id=\"T_cf2d2_row10_col1\" class=\"data row10 col1\" >52</td>\n",
       "      <td id=\"T_cf2d2_row10_col2\" class=\"data row10 col2\" >OG</td>\n",
       "      <td id=\"T_cf2d2_row10_col3\" class=\"data row10 col3\" >O</td>\n",
       "      <td id=\"T_cf2d2_row10_col4\" class=\"data row10 col4\" >3</td>\n",
       "      <td id=\"T_cf2d2_row10_col5\" class=\"data row10 col5\" >43</td>\n",
       "      <td id=\"T_cf2d2_row10_col6\" class=\"data row10 col6\" >SER</td>\n",
       "      <td id=\"T_cf2d2_row10_col7\" class=\"data row10 col7\" >amino acid</td>\n",
       "      <td id=\"T_cf2d2_row10_col8\" class=\"data row10 col8\" >0</td>\n",
       "      <td id=\"T_cf2d2_row10_col9\" class=\"data row10 col9\" >0</td>\n",
       "      <td id=\"T_cf2d2_row10_col10\" class=\"data row10 col10\" >0</td>\n",
       "      <td id=\"T_cf2d2_row10_col11\" class=\"data row10 col11\" >peptide</td>\n",
       "      <td id=\"T_cf2d2_row10_col12\" class=\"data row10 col12\" >0</td>\n",
       "      <td id=\"T_cf2d2_row10_col13\" class=\"data row10 col13\" >VILLIN</td>\n",
       "    </tr>\n",
       "  </tbody>\n",
       "</table>\n"
      ],
      "text/plain": [
       "<pandas.io.formats.style.Styler at 0x7fb250d37950>"
      ]
     },
     "execution_count": 15,
     "metadata": {},
     "output_type": "execute_result"
    }
   ],
   "source": [
    "msm.info(molsys, element='atom', selection=acceptor_atoms)"
   ]
  }
 ],
 "metadata": {
  "kernelspec": {
   "display_name": "Python 3 (ipykernel)",
   "language": "python",
   "name": "python3"
  },
  "language_info": {
   "codemirror_mode": {
    "name": "ipython",
    "version": 3
   },
   "file_extension": ".py",
   "mimetype": "text/x-python",
   "name": "python",
   "nbconvert_exporter": "python",
   "pygments_lexer": "ipython3",
   "version": "3.12.8"
  },
  "widgets": {
   "application/vnd.jupyter.widget-state+json": {
    "state": {
     "4a1f55e2c3e74c3988edca546fe1287e": {
      "model_module": "nglview-js-widgets",
      "model_module_version": "3.1.4",
      "model_name": "ColormakerRegistryModel",
      "state": {
       "_dom_classes": [],
       "_model_module": "nglview-js-widgets",
       "_model_module_version": "3.1.4",
       "_model_name": "ColormakerRegistryModel",
       "_msg_ar": [],
       "_msg_q": [],
       "_ready": false,
       "_view_count": null,
       "_view_module": "nglview-js-widgets",
       "_view_module_version": "3.1.4",
       "_view_name": "ColormakerRegistryView",
       "layout": "IPY_MODEL_4bc3cdf30f7943f4b7e794047ee546f4",
       "tabbable": null,
       "tooltip": null
      }
     },
     "4bc3cdf30f7943f4b7e794047ee546f4": {
      "model_module": "@jupyter-widgets/base",
      "model_module_version": "2.0.0",
      "model_name": "LayoutModel",
      "state": {
       "_model_module": "@jupyter-widgets/base",
       "_model_module_version": "2.0.0",
       "_model_name": "LayoutModel",
       "_view_count": null,
       "_view_module": "@jupyter-widgets/base",
       "_view_module_version": "2.0.0",
       "_view_name": "LayoutView",
       "align_content": null,
       "align_items": null,
       "align_self": null,
       "border_bottom": null,
       "border_left": null,
       "border_right": null,
       "border_top": null,
       "bottom": null,
       "display": null,
       "flex": null,
       "flex_flow": null,
       "grid_area": null,
       "grid_auto_columns": null,
       "grid_auto_flow": null,
       "grid_auto_rows": null,
       "grid_column": null,
       "grid_gap": null,
       "grid_row": null,
       "grid_template_areas": null,
       "grid_template_columns": null,
       "grid_template_rows": null,
       "height": null,
       "justify_content": null,
       "justify_items": null,
       "left": null,
       "margin": null,
       "max_height": null,
       "max_width": null,
       "min_height": null,
       "min_width": null,
       "object_fit": null,
       "object_position": null,
       "order": null,
       "overflow": null,
       "padding": null,
       "right": null,
       "top": null,
       "visibility": null,
       "width": null
      }
     }
    },
    "version_major": 2,
    "version_minor": 0
   }
  }
 },
 "nbformat": 4,
 "nbformat_minor": 5
}
