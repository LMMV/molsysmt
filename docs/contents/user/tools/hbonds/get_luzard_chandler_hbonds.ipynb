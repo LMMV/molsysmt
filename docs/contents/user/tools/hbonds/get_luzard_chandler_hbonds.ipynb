{
 "cells": [
  {
   "cell_type": "markdown",
   "id": "51a472c0-7186-4eb6-8f0d-57ece63912ce",
   "metadata": {},
   "source": [
    "# Get Luzard and Chandler hbonds"
   ]
  },
  {
   "cell_type": "code",
   "execution_count": 1,
   "id": "59403f01-40ff-470c-b68a-bebe902d7434",
   "metadata": {},
   "outputs": [
    {
     "data": {
      "application/vnd.jupyter.widget-view+json": {
       "model_id": "2ed653a118d04fb08acacc76dc624d0e",
       "version_major": 2,
       "version_minor": 0
      },
      "text/plain": []
     },
     "metadata": {},
     "output_type": "display_data"
    }
   ],
   "source": [
    "import molsysmt as msm"
   ]
  },
  {
   "cell_type": "code",
   "execution_count": 2,
   "id": "616dd7d1-df6e-48fe-9208-dd6968c278f5",
   "metadata": {},
   "outputs": [],
   "source": [
    "molsys = msm.convert(msm.systems['chicken villin HP35']['chicken_villin_HP35.h5msm'])"
   ]
  },
  {
   "cell_type": "code",
   "execution_count": 3,
   "id": "046cb5fd-6563-4f9f-a8d4-e1b049032333",
   "metadata": {},
   "outputs": [],
   "source": [
    "hbonds, distance, angles = msm.hbonds.get_luzard_chandler_hbonds(molsys)"
   ]
  },
  {
   "cell_type": "code",
   "execution_count": 6,
   "id": "980a9128-a805-4cea-981d-5ee58505cbb1",
   "metadata": {},
   "outputs": [
    {
     "data": {
      "text/plain": [
       "array([[[ 42,  43,  91],\n",
       "        [ 51,  52,  90],\n",
       "        [ 80,  81,  90],\n",
       "        [ 92,  93,  47],\n",
       "        [112, 113,  58],\n",
       "        [130, 131,  78],\n",
       "        [134, 135,  70],\n",
       "        [144, 145,  85],\n",
       "        [160, 161,  97],\n",
       "        [180, 181, 117],\n",
       "        [187, 188, 165],\n",
       "        [218, 219,  64],\n",
       "        [233, 234,  63],\n",
       "        [236, 237,  28],\n",
       "        [239, 240,  28],\n",
       "        [239, 241,  63],\n",
       "        [253, 254, 212],\n",
       "        [263, 264, 209],\n",
       "        [283, 284, 223],\n",
       "        [293, 294, 258],\n",
       "        [307, 308, 268],\n",
       "        [401, 404, 530],\n",
       "        [405, 406, 330],\n",
       "        [419, 420, 268],\n",
       "        [422, 423, 345],\n",
       "        [439, 440, 364],\n",
       "        [453, 454, 388],\n",
       "        [472, 473, 410],\n",
       "        [490, 491,   1],\n",
       "        [490, 493, 559],\n",
       "        [494, 495, 458],\n",
       "        [512, 513, 427],\n",
       "        [512, 514, 477],\n",
       "        [512, 515, 435],\n",
       "        [516, 517, 444],\n",
       "        [531, 532, 458],\n",
       "        [549, 550, 149]]])"
      ]
     },
     "execution_count": 6,
     "metadata": {},
     "output_type": "execute_result"
    }
   ],
   "source": [
    "hbonds"
   ]
  },
  {
   "cell_type": "code",
   "execution_count": null,
   "id": "148b92c5-b6d7-4cb5-a510-4056db0d6b89",
   "metadata": {},
   "outputs": [],
   "source": [
    "molsys = msm.convert(msm.systems['Barnase-Barstar']['barnase_barstar.h5msm'])"
   ]
  },
  {
   "cell_type": "code",
   "execution_count": null,
   "id": "90d30f29-7320-443a-8c9e-738a34c24928",
   "metadata": {},
   "outputs": [],
   "source": [
    "hbonds, distance, angles = msm.hbonds.get_luzard_chandler_hbonds(molsys, selection='molecule_name==\"BARNASE\"',\n",
    "                                              selection_2='molecule_name==\"BARSTAR\"')"
   ]
  },
  {
   "cell_type": "code",
   "execution_count": null,
   "id": "e39b0dc7-be3e-4537-a1e3-43ca37ff926b",
   "metadata": {},
   "outputs": [],
   "source": [
    "angles"
   ]
  }
 ],
 "metadata": {
  "kernelspec": {
   "display_name": "Python 3 (ipykernel)",
   "language": "python",
   "name": "python3"
  },
  "language_info": {
   "codemirror_mode": {
    "name": "ipython",
    "version": 3
   },
   "file_extension": ".py",
   "mimetype": "text/x-python",
   "name": "python",
   "nbconvert_exporter": "python",
   "pygments_lexer": "ipython3",
   "version": "3.12.8"
  }
 },
 "nbformat": 4,
 "nbformat_minor": 5
}
