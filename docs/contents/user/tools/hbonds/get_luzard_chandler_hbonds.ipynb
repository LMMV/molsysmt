{
 "cells": [
  {
   "cell_type": "markdown",
   "id": "51a472c0-7186-4eb6-8f0d-57ece63912ce",
   "metadata": {},
   "source": [
    "# Get Luzard and Chandler hbonds"
   ]
  },
  {
   "cell_type": "code",
   "execution_count": 1,
   "id": "59403f01-40ff-470c-b68a-bebe902d7434",
   "metadata": {
    "execution": {
     "iopub.execute_input": "2025-03-11T21:06:06.534625Z",
     "iopub.status.busy": "2025-03-11T21:06:06.533983Z",
     "iopub.status.idle": "2025-03-11T21:06:14.724289Z",
     "shell.execute_reply": "2025-03-11T21:06:14.723582Z"
    }
   },
   "outputs": [
    {
     "data": {
      "application/vnd.jupyter.widget-view+json": {
       "model_id": "ca132b3d39874f2fb0b7ffd4ba9facff",
       "version_major": 2,
       "version_minor": 0
      },
      "text/plain": []
     },
     "metadata": {},
     "output_type": "display_data"
    }
   ],
   "source": [
    "import molsysmt as msm"
   ]
  },
  {
   "cell_type": "code",
   "execution_count": 2,
   "id": "616dd7d1-df6e-48fe-9208-dd6968c278f5",
   "metadata": {
    "execution": {
     "iopub.execute_input": "2025-03-11T21:06:14.728154Z",
     "iopub.status.busy": "2025-03-11T21:06:14.727380Z",
     "iopub.status.idle": "2025-03-11T21:06:15.265419Z",
     "shell.execute_reply": "2025-03-11T21:06:15.264730Z"
    }
   },
   "outputs": [],
   "source": [
    "molsys = msm.convert(msm.systems['chicken villin HP35']['chicken_villin_HP35.h5msm'])"
   ]
  },
  {
   "cell_type": "code",
   "execution_count": 3,
   "id": "046cb5fd-6563-4f9f-a8d4-e1b049032333",
   "metadata": {
    "execution": {
     "iopub.execute_input": "2025-03-11T21:06:15.269115Z",
     "iopub.status.busy": "2025-03-11T21:06:15.268486Z",
     "iopub.status.idle": "2025-03-11T21:06:24.799588Z",
     "shell.execute_reply": "2025-03-11T21:06:24.798699Z"
    }
   },
   "outputs": [],
   "source": [
    "hbonds, distance, angles = msm.hbonds.get_luzard_chandler_hbonds(molsys)"
   ]
  },
  {
   "cell_type": "code",
   "execution_count": 4,
   "id": "980a9128-a805-4cea-981d-5ee58505cbb1",
   "metadata": {
    "execution": {
     "iopub.execute_input": "2025-03-11T21:06:24.803485Z",
     "iopub.status.busy": "2025-03-11T21:06:24.802729Z",
     "iopub.status.idle": "2025-03-11T21:06:24.813251Z",
     "shell.execute_reply": "2025-03-11T21:06:24.812490Z"
    }
   },
   "outputs": [
    {
     "data": {
      "text/plain": [
       "array([[[ 42,  43,  91],\n",
       "        [ 51,  52,  90],\n",
       "        [ 80,  81,  90],\n",
       "        [ 92,  93,  47],\n",
       "        [112, 113,  58],\n",
       "        [130, 131,  78],\n",
       "        [134, 135,  70],\n",
       "        [144, 145,  85],\n",
       "        [160, 161,  97],\n",
       "        [180, 181, 117],\n",
       "        [187, 188, 165],\n",
       "        [218, 219,  64],\n",
       "        [233, 234,  63],\n",
       "        [236, 237,  28],\n",
       "        [239, 240,  28],\n",
       "        [239, 241,  63],\n",
       "        [253, 254, 212],\n",
       "        [263, 264, 209],\n",
       "        [283, 284, 223],\n",
       "        [293, 294, 258],\n",
       "        [307, 308, 268],\n",
       "        [401, 404, 530],\n",
       "        [405, 406, 330],\n",
       "        [419, 420, 268],\n",
       "        [422, 423, 345],\n",
       "        [439, 440, 364],\n",
       "        [453, 454, 388],\n",
       "        [472, 473, 410],\n",
       "        [490, 491,   1],\n",
       "        [490, 493, 559],\n",
       "        [494, 495, 458],\n",
       "        [512, 513, 427],\n",
       "        [512, 514, 477],\n",
       "        [512, 515, 435],\n",
       "        [516, 517, 444],\n",
       "        [531, 532, 458],\n",
       "        [549, 550, 149]]])"
      ]
     },
     "execution_count": 4,
     "metadata": {},
     "output_type": "execute_result"
    }
   ],
   "source": [
    "hbonds"
   ]
  },
  {
   "cell_type": "code",
   "execution_count": 5,
   "id": "148b92c5-b6d7-4cb5-a510-4056db0d6b89",
   "metadata": {
    "execution": {
     "iopub.execute_input": "2025-03-11T21:06:24.816565Z",
     "iopub.status.busy": "2025-03-11T21:06:24.816149Z",
     "iopub.status.idle": "2025-03-11T21:06:24.970505Z",
     "shell.execute_reply": "2025-03-11T21:06:24.969596Z"
    }
   },
   "outputs": [],
   "source": [
    "molsys = msm.convert(msm.systems['Barnase-Barstar']['barnase_barstar.h5msm'])"
   ]
  },
  {
   "cell_type": "code",
   "execution_count": 6,
   "id": "90d30f29-7320-443a-8c9e-738a34c24928",
   "metadata": {
    "execution": {
     "iopub.execute_input": "2025-03-11T21:06:24.974025Z",
     "iopub.status.busy": "2025-03-11T21:06:24.973592Z",
     "iopub.status.idle": "2025-03-11T21:06:43.745944Z",
     "shell.execute_reply": "2025-03-11T21:06:43.745119Z"
    }
   },
   "outputs": [],
   "source": [
    "hbonds, distance, angles = msm.hbonds.get_luzard_chandler_hbonds(molsys, selection='molecule_name==\"BARNASE\"',\n",
    "                                              selection_2='molecule_name==\"BARSTAR\"')"
   ]
  },
  {
   "cell_type": "code",
   "execution_count": 7,
   "id": "e39b0dc7-be3e-4537-a1e3-43ca37ff926b",
   "metadata": {
    "execution": {
     "iopub.execute_input": "2025-03-11T21:06:43.749439Z",
     "iopub.status.busy": "2025-03-11T21:06:43.748715Z",
     "iopub.status.idle": "2025-03-11T21:06:43.765688Z",
     "shell.execute_reply": "2025-03-11T21:06:43.764762Z"
    }
   },
   "outputs": [
    {
     "data": {
      "text/html": [
       "<table><tbody><tr><th>Magnitude</th><td style='text-align:left;'><pre>[[13.716002588306221 6.611606136212331 5.5826099803915685  7.2490079576803375 16.675186525262237 18.712260442098614  4.268688556972512 14.375957899444607 16.205207260657527  21.793572324469416 26.715074053518588 16.342227449881584  21.753871453803544 11.93490696798086 13.53013527399666  15.971447070232816]]</pre></td></tr><tr><th>Units</th><td style='text-align:left;'>degree</td></tr></tbody></table>"
      ],
      "text/latex": [
       "$\\begin{pmatrix} &  &  &  &  &  &  &  &  &  &  &  &  &  &  & \\end{pmatrix}\\ \\mathrm{degree}$"
      ],
      "text/plain": [
       "<Quantity([[13.71600259  6.61160614  5.58260998  7.24900796 16.67518653 18.71226044\n",
       "   4.26868856 14.3759579  16.20520726 21.79357232 26.71507405 16.34222745\n",
       "  21.75387145 11.93490697 13.53013527 15.97144707]], 'degree')>"
      ]
     },
     "execution_count": 7,
     "metadata": {},
     "output_type": "execute_result"
    }
   ],
   "source": [
    "angles"
   ]
  }
 ],
 "metadata": {
  "kernelspec": {
   "display_name": "Python 3 (ipykernel)",
   "language": "python",
   "name": "python3"
  },
  "language_info": {
   "codemirror_mode": {
    "name": "ipython",
    "version": 3
   },
   "file_extension": ".py",
   "mimetype": "text/x-python",
   "name": "python",
   "nbconvert_exporter": "python",
   "pygments_lexer": "ipython3",
   "version": "3.12.8"
  },
  "widgets": {
   "application/vnd.jupyter.widget-state+json": {
    "state": {
     "99983576696646f793264278df4ba359": {
      "model_module": "@jupyter-widgets/base",
      "model_module_version": "2.0.0",
      "model_name": "LayoutModel",
      "state": {
       "_model_module": "@jupyter-widgets/base",
       "_model_module_version": "2.0.0",
       "_model_name": "LayoutModel",
       "_view_count": null,
       "_view_module": "@jupyter-widgets/base",
       "_view_module_version": "2.0.0",
       "_view_name": "LayoutView",
       "align_content": null,
       "align_items": null,
       "align_self": null,
       "border_bottom": null,
       "border_left": null,
       "border_right": null,
       "border_top": null,
       "bottom": null,
       "display": null,
       "flex": null,
       "flex_flow": null,
       "grid_area": null,
       "grid_auto_columns": null,
       "grid_auto_flow": null,
       "grid_auto_rows": null,
       "grid_column": null,
       "grid_gap": null,
       "grid_row": null,
       "grid_template_areas": null,
       "grid_template_columns": null,
       "grid_template_rows": null,
       "height": null,
       "justify_content": null,
       "justify_items": null,
       "left": null,
       "margin": null,
       "max_height": null,
       "max_width": null,
       "min_height": null,
       "min_width": null,
       "object_fit": null,
       "object_position": null,
       "order": null,
       "overflow": null,
       "padding": null,
       "right": null,
       "top": null,
       "visibility": null,
       "width": null
      }
     },
     "ca132b3d39874f2fb0b7ffd4ba9facff": {
      "model_module": "nglview-js-widgets",
      "model_module_version": "3.1.4",
      "model_name": "ColormakerRegistryModel",
      "state": {
       "_dom_classes": [],
       "_model_module": "nglview-js-widgets",
       "_model_module_version": "3.1.4",
       "_model_name": "ColormakerRegistryModel",
       "_msg_ar": [],
       "_msg_q": [],
       "_ready": false,
       "_view_count": null,
       "_view_module": "nglview-js-widgets",
       "_view_module_version": "3.1.4",
       "_view_name": "ColormakerRegistryView",
       "layout": "IPY_MODEL_99983576696646f793264278df4ba359",
       "tabbable": null,
       "tooltip": null
      }
     }
    },
    "version_major": 2,
    "version_minor": 0
   }
  }
 },
 "nbformat": 4,
 "nbformat_minor": 5
}
