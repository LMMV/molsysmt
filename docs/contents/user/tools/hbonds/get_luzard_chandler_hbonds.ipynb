{
 "cells": [
  {
   "cell_type": "markdown",
   "id": "51a472c0-7186-4eb6-8f0d-57ece63912ce",
   "metadata": {},
   "source": [
    "# Get Luzard and Chandler hbonds"
   ]
  },
  {
   "cell_type": "code",
   "execution_count": 1,
   "id": "59403f01-40ff-470c-b68a-bebe902d7434",
   "metadata": {},
   "outputs": [
    {
     "data": {
      "application/vnd.jupyter.widget-view+json": {
       "model_id": "ae21a2a8f97741d8992fa76302ad2621",
       "version_major": 2,
       "version_minor": 0
      },
      "text/plain": []
     },
     "metadata": {},
     "output_type": "display_data"
    }
   ],
   "source": [
    "import molsysmt as msm"
   ]
  },
  {
   "cell_type": "code",
   "execution_count": 2,
   "id": "616dd7d1-df6e-48fe-9208-dd6968c278f5",
   "metadata": {},
   "outputs": [],
   "source": [
    "molsys = msm.convert(msm.systems.demo['chicken villin HP35']['chicken_villin_HP35.msmpk'])"
   ]
  },
  {
   "cell_type": "code",
   "execution_count": 3,
   "id": "046cb5fd-6563-4f9f-a8d4-e1b049032333",
   "metadata": {},
   "outputs": [],
   "source": [
    "hbonds, distance, angles = msm.hbonds.get_luzard_chandler_hbonds(molsys)"
   ]
  },
  {
   "cell_type": "code",
   "execution_count": 4,
   "id": "980a9128-a805-4cea-981d-5ee58505cbb1",
   "metadata": {},
   "outputs": [
    {
     "data": {
      "text/html": [
       "<table><tbody><tr><th>Magnitude</th><td style='text-align:left;'><pre>[[15.870126402147706 29.13791093406436 29.9764405953374<br>  29.956756327187893 29.705723521203282]]</pre></td></tr><tr><th>Units</th><td style='text-align:left;'>degree</td></tr></tbody></table>"
      ],
      "text/latex": [
       "$\\begin{pmatrix} &  &  &  & \\end{pmatrix}\\ \\mathrm{degree}$"
      ],
      "text/plain": [
       "array([[15.8701264 , 29.13791093, 29.9764406 , 29.95675633, 29.70572352]]) <Unit('degree')>"
      ]
     },
     "execution_count": 4,
     "metadata": {},
     "output_type": "execute_result"
    }
   ],
   "source": [
    "angles"
   ]
  },
  {
   "cell_type": "code",
   "execution_count": 5,
   "id": "148b92c5-b6d7-4cb5-a510-4056db0d6b89",
   "metadata": {},
   "outputs": [],
   "source": [
    "molsys = msm.convert(msm.systems.demo['Barnase-Barstar']['barnase_barstar.msmpk'])"
   ]
  },
  {
   "cell_type": "code",
   "execution_count": 6,
   "id": "90d30f29-7320-443a-8c9e-738a34c24928",
   "metadata": {},
   "outputs": [],
   "source": [
    "hbonds, distance, angles = msm.hbonds.get_luzard_chandler_hbonds(molsys, selection='molecule_name==\"Barnase\"',\n",
    "                                              selection_2='molecule_name==\"Barstar\"')"
   ]
  },
  {
   "cell_type": "code",
   "execution_count": 7,
   "id": "e39b0dc7-be3e-4537-a1e3-43ca37ff926b",
   "metadata": {},
   "outputs": [
    {
     "data": {
      "text/html": [
       "<table><tbody><tr><th>Magnitude</th><td style='text-align:left;'><pre>[]</pre></td></tr><tr><th>Units</th><td style='text-align:left;'>degree</td></tr></tbody></table>"
      ],
      "text/latex": [
       "$\\begin{pmatrix}\\end{pmatrix}\\ \\mathrm{degree}$"
      ],
      "text/plain": [
       "array([], shape=(1, 0), dtype=float64) <Unit('degree')>"
      ]
     },
     "execution_count": 7,
     "metadata": {},
     "output_type": "execute_result"
    }
   ],
   "source": [
    "angles"
   ]
  },
  {
   "cell_type": "code",
   "execution_count": null,
   "id": "824abba8-7be5-4769-ad2c-8430034cc7c3",
   "metadata": {},
   "outputs": [],
   "source": []
  }
 ],
 "metadata": {
  "kernelspec": {
   "display_name": "Python 3 (ipykernel)",
   "language": "python",
   "name": "python3"
  },
  "language_info": {
   "codemirror_mode": {
    "name": "ipython",
    "version": 3
   },
   "file_extension": ".py",
   "mimetype": "text/x-python",
   "name": "python",
   "nbconvert_exporter": "python",
   "pygments_lexer": "ipython3",
   "version": "3.10.12"
  }
 },
 "nbformat": 4,
 "nbformat_minor": 5
}
