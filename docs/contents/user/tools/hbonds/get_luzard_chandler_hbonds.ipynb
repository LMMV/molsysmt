{
 "cells": [
  {
   "cell_type": "markdown",
   "id": "51a472c0-7186-4eb6-8f0d-57ece63912ce",
   "metadata": {},
   "source": [
    "# Get Luzard and Chandler hbonds"
   ]
  },
  {
   "cell_type": "code",
   "execution_count": 1,
   "id": "59403f01-40ff-470c-b68a-bebe902d7434",
   "metadata": {},
   "outputs": [
    {
     "data": {
      "application/vnd.jupyter.widget-view+json": {
       "model_id": "21faf740ed5640d0902bb43d2f2a143e",
       "version_major": 2,
       "version_minor": 0
      },
      "text/plain": []
     },
     "metadata": {},
     "output_type": "display_data"
    }
   ],
   "source": [
    "import molsysmt as msm"
   ]
  },
  {
   "cell_type": "code",
   "execution_count": 2,
   "id": "616dd7d1-df6e-48fe-9208-dd6968c278f5",
   "metadata": {},
   "outputs": [],
   "source": [
    "molsys = msm.convert(msm.systems.demo['chicken villin HP35']['chicken_villin_HP35.msmpk'])"
   ]
  },
  {
   "cell_type": "code",
   "execution_count": 3,
   "id": "046cb5fd-6563-4f9f-a8d4-e1b049032333",
   "metadata": {},
   "outputs": [],
   "source": [
    "hbonds, distance, angles = msm.hbonds.get_luzard_chandler_hbonds(molsys)"
   ]
  },
  {
   "cell_type": "code",
   "execution_count": 4,
   "id": "980a9128-a805-4cea-981d-5ee58505cbb1",
   "metadata": {},
   "outputs": [
    {
     "data": {
      "text/html": [
       "<table><tbody><tr><th>Magnitude</th><td style='text-align:left;'><pre>[[20.754154074963377 4.0692059388839965 28.56852189446493<br>  19.248975581559975 15.639475915308862 16.746161905872913<br>  11.077018664831012 17.07523281425206 9.115275801147819 26.1765524952473<br>  18.04863681923376 5.514790581281728 18.85746182667193<br>  20.501648041154297 18.203437601389652 19.211321689463674<br>  13.871962747747007 7.434145519351364 20.36170012104574<br>  18.313459669381306 11.536881989614997 15.415360855391674<br>  13.747562560936625 2.3336568766238015 6.332813463666322<br>  5.6035893010054005 11.631318190725068 12.85529695976977<br>  18.115805846597713 27.284852668192503 6.2774773070553715<br>  29.270530343183335 28.46006323124572 1.5218414914310112<br>  17.289696695418662 10.46206450580671]]</pre></td></tr><tr><th>Units</th><td style='text-align:left;'>degree</td></tr></tbody></table>"
      ],
      "text/latex": [
       "$\\begin{pmatrix} &  &  &  &  &  &  &  &  &  &  &  &  &  &  &  &  &  &  &  &  &  &  &  &  &  &  &  &  &  &  &  &  &  &  & \\end{pmatrix}\\ \\mathrm{degree}$"
      ],
      "text/plain": [
       "array([[20.75415407,  4.06920594, 28.56852189, 19.24897558, 15.63947592,\n",
       "        16.74616191, 11.07701866, 17.07523281,  9.1152758 , 26.1765525 ,\n",
       "        18.04863682,  5.51479058, 18.85746183, 20.50164804, 18.2034376 ,\n",
       "        19.21132169, 13.87196275,  7.43414552, 20.36170012, 18.31345967,\n",
       "        11.53688199, 15.41536086, 13.74756256,  2.33365688,  6.33281346,\n",
       "         5.6035893 , 11.63131819, 12.85529696, 18.11580585, 27.28485267,\n",
       "         6.27747731, 29.27053034, 28.46006323,  1.52184149, 17.2896967 ,\n",
       "        10.46206451]]) <Unit('degree')>"
      ]
     },
     "execution_count": 4,
     "metadata": {},
     "output_type": "execute_result"
    }
   ],
   "source": [
    "angles"
   ]
  },
  {
   "cell_type": "code",
   "execution_count": 5,
   "id": "148b92c5-b6d7-4cb5-a510-4056db0d6b89",
   "metadata": {},
   "outputs": [],
   "source": [
    "molsys = msm.convert(msm.systems.demo['Barnase-Barstar']['barnase_barstar.msmpk'])"
   ]
  },
  {
   "cell_type": "code",
   "execution_count": 6,
   "id": "90d30f29-7320-443a-8c9e-738a34c24928",
   "metadata": {},
   "outputs": [],
   "source": [
    "hbonds, distance, angles = msm.hbonds.get_luzard_chandler_hbonds(molsys, selection='molecule_name==\"Barnase\"',\n",
    "                                              selection_2='molecule_name==\"Barstar\"')"
   ]
  },
  {
   "cell_type": "code",
   "execution_count": 7,
   "id": "e39b0dc7-be3e-4537-a1e3-43ca37ff926b",
   "metadata": {},
   "outputs": [
    {
     "data": {
      "text/html": [
       "<table><tbody><tr><th>Magnitude</th><td style='text-align:left;'><pre>[[14.038092843069299 5.508633824240895 8.200345647626683<br>  20.568347899509874 25.525933438868464 13.622133377595025<br>  4.738337487876485 13.88925992693374 15.379039949727908<br>  21.68228637508406 25.172214943918092 17.509951189263017<br>  11.158004555696738 17.775892267824027]]</pre></td></tr><tr><th>Units</th><td style='text-align:left;'>degree</td></tr></tbody></table>"
      ],
      "text/latex": [
       "$\\begin{pmatrix} &  &  &  &  &  &  &  &  &  &  &  &  & \\end{pmatrix}\\ \\mathrm{degree}$"
      ],
      "text/plain": [
       "array([[14.03809284,  5.50863382,  8.20034565, 20.5683479 , 25.52593344,\n",
       "        13.62213338,  4.73833749, 13.88925993, 15.37903995, 21.68228638,\n",
       "        25.17221494, 17.50995119, 11.15800456, 17.77589227]]) <Unit('degree')>"
      ]
     },
     "execution_count": 7,
     "metadata": {},
     "output_type": "execute_result"
    }
   ],
   "source": [
    "angles"
   ]
  },
  {
   "cell_type": "code",
   "execution_count": null,
   "id": "824abba8-7be5-4769-ad2c-8430034cc7c3",
   "metadata": {},
   "outputs": [],
   "source": []
  }
 ],
 "metadata": {
  "kernelspec": {
   "display_name": "Python 3 (ipykernel)",
   "language": "python",
   "name": "python3"
  },
  "language_info": {
   "codemirror_mode": {
    "name": "ipython",
    "version": 3
   },
   "file_extension": ".py",
   "mimetype": "text/x-python",
   "name": "python",
   "nbconvert_exporter": "python",
   "pygments_lexer": "ipython3",
   "version": "3.10.12"
  }
 },
 "nbformat": 4,
 "nbformat_minor": 5
}
