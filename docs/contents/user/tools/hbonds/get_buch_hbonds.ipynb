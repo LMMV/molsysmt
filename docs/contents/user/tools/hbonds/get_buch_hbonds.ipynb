{
 "cells": [
  {
   "cell_type": "markdown",
   "id": "51a472c0-7186-4eb6-8f0d-57ece63912ce",
   "metadata": {},
   "source": [
    "# Get Buch hbonds"
   ]
  },
  {
   "cell_type": "code",
   "execution_count": 1,
   "id": "59403f01-40ff-470c-b68a-bebe902d7434",
   "metadata": {
    "execution": {
     "iopub.execute_input": "2025-03-11T21:06:07.119686Z",
     "iopub.status.busy": "2025-03-11T21:06:07.119269Z",
     "iopub.status.idle": "2025-03-11T21:06:15.303618Z",
     "shell.execute_reply": "2025-03-11T21:06:15.302731Z"
    }
   },
   "outputs": [
    {
     "data": {
      "application/vnd.jupyter.widget-view+json": {
       "model_id": "e6fe3830f1b34a978745895528e4fafc",
       "version_major": 2,
       "version_minor": 0
      },
      "text/plain": []
     },
     "metadata": {},
     "output_type": "display_data"
    }
   ],
   "source": [
    "import molsysmt as msm"
   ]
  },
  {
   "cell_type": "code",
   "execution_count": 2,
   "id": "616dd7d1-df6e-48fe-9208-dd6968c278f5",
   "metadata": {
    "execution": {
     "iopub.execute_input": "2025-03-11T21:06:15.307772Z",
     "iopub.status.busy": "2025-03-11T21:06:15.306429Z",
     "iopub.status.idle": "2025-03-11T21:06:16.118335Z",
     "shell.execute_reply": "2025-03-11T21:06:16.117286Z"
    }
   },
   "outputs": [],
   "source": [
    "molsys = msm.convert(msm.systems['chicken villin HP35']['chicken_villin_HP35.h5msm'])"
   ]
  },
  {
   "cell_type": "code",
   "execution_count": 3,
   "id": "046cb5fd-6563-4f9f-a8d4-e1b049032333",
   "metadata": {
    "execution": {
     "iopub.execute_input": "2025-03-11T21:06:16.121950Z",
     "iopub.status.busy": "2025-03-11T21:06:16.121124Z",
     "iopub.status.idle": "2025-03-11T21:06:24.207045Z",
     "shell.execute_reply": "2025-03-11T21:06:24.206443Z"
    }
   },
   "outputs": [],
   "source": [
    "hbonds, distance = msm.hbonds.get_buch_hbonds(molsys)"
   ]
  },
  {
   "cell_type": "code",
   "execution_count": 4,
   "id": "249265ab-56d8-45ba-aabd-00e79ef375a1",
   "metadata": {
    "execution": {
     "iopub.execute_input": "2025-03-11T21:06:24.209961Z",
     "iopub.status.busy": "2025-03-11T21:06:24.209633Z",
     "iopub.status.idle": "2025-03-11T21:06:24.217328Z",
     "shell.execute_reply": "2025-03-11T21:06:24.216677Z"
    }
   },
   "outputs": [
    {
     "data": {
      "text/plain": [
       "array([[[ 42,  43,  91],\n",
       "        [ 51,  52,  90],\n",
       "        [ 80,  81,  90],\n",
       "        [ 92,  93,  47],\n",
       "        [112, 113,  58],\n",
       "        [130, 131,  78],\n",
       "        [130, 132,  79],\n",
       "        [134, 135,  70],\n",
       "        [144, 145,  85],\n",
       "        [160, 161,  97],\n",
       "        [180, 181, 117],\n",
       "        [187, 188, 165],\n",
       "        [218, 219,  64],\n",
       "        [233, 234,  63],\n",
       "        [236, 237,  28],\n",
       "        [239, 240,  28],\n",
       "        [239, 241,  63],\n",
       "        [253, 254, 212],\n",
       "        [263, 264, 209],\n",
       "        [283, 284, 223],\n",
       "        [293, 294, 258],\n",
       "        [307, 308, 268],\n",
       "        [383, 384, 330],\n",
       "        [401, 402, 529],\n",
       "        [401, 404, 530],\n",
       "        [405, 406, 330],\n",
       "        [419, 420, 268],\n",
       "        [422, 423, 345],\n",
       "        [439, 440, 364],\n",
       "        [453, 454, 388],\n",
       "        [472, 473, 410],\n",
       "        [490, 491,   1],\n",
       "        [490, 493, 559],\n",
       "        [494, 495, 458],\n",
       "        [512, 513, 427],\n",
       "        [512, 514, 477],\n",
       "        [512, 515, 435],\n",
       "        [516, 517, 444],\n",
       "        [531, 532, 458],\n",
       "        [549, 550, 149],\n",
       "        [579, 580, 560]]])"
      ]
     },
     "execution_count": 4,
     "metadata": {},
     "output_type": "execute_result"
    }
   ],
   "source": [
    "hbonds"
   ]
  },
  {
   "cell_type": "code",
   "execution_count": 5,
   "id": "5170e6fb-b17b-402b-b05d-5ad446158565",
   "metadata": {
    "execution": {
     "iopub.execute_input": "2025-03-11T21:06:24.220112Z",
     "iopub.status.busy": "2025-03-11T21:06:24.219846Z",
     "iopub.status.idle": "2025-03-11T21:06:24.234029Z",
     "shell.execute_reply": "2025-03-11T21:06:24.233296Z"
    }
   },
   "outputs": [
    {
     "data": {
      "text/html": [
       "<table><tbody><tr><th>Magnitude</th><td style='text-align:left;'><pre>[[0.19497295138461568 0.1595554587488672 0.18809857644292838  0.2015572356342734 0.18890281760608327 0.17111436444888484  0.19177285009741793 0.18755787714246105 0.19588585021033975  0.18492059209681913 0.2004522301021194 0.19560149135788396  0.17975698357986628 0.19061081786973172 0.1960837490996739  0.18575644462552962 0.1751660252829777 0.22167256794514878  0.18505379586559131 0.21492445885522135 0.2112829675848092  0.2070332239421959 0.2133086627990139 0.1963237393991516  0.17367459208286595 0.19415084510452923 0.19231261411328868  0.18711936195328804 0.19712788364624234 0.18633075500477664  0.19034255266584799 0.1789861814332052 0.17590035044352398  0.19146851736293208 0.17922379427310237 0.18464055770263363  0.18778566098944763 0.18046036265853196 0.2090297432252222  0.17583511355853873 0.22748340504307576]]</pre></td></tr><tr><th>Units</th><td style='text-align:left;'>nanometer</td></tr></tbody></table>"
      ],
      "text/latex": [
       "$\\begin{pmatrix} &  &  &  &  &  &  &  &  &  &  &  &  &  &  &  &  &  &  &  &  &  &  &  &  &  &  &  &  &  &  &  &  &  &  &  &  &  &  &  & \\end{pmatrix}\\ \\mathrm{nanometer}$"
      ],
      "text/plain": [
       "<Quantity([[0.19497295 0.15955546 0.18809858 0.20155724 0.18890282 0.17111436\n",
       "  0.19177285 0.18755788 0.19588585 0.18492059 0.20045223 0.19560149\n",
       "  0.17975698 0.19061082 0.19608375 0.18575644 0.17516603 0.22167257\n",
       "  0.1850538  0.21492446 0.21128297 0.20703322 0.21330866 0.19632374\n",
       "  0.17367459 0.19415085 0.19231261 0.18711936 0.19712788 0.18633076\n",
       "  0.19034255 0.17898618 0.17590035 0.19146852 0.17922379 0.18464056\n",
       "  0.18778566 0.18046036 0.20902974 0.17583511 0.22748341]], 'nanometer')>"
      ]
     },
     "execution_count": 5,
     "metadata": {},
     "output_type": "execute_result"
    }
   ],
   "source": [
    "distance"
   ]
  },
  {
   "cell_type": "code",
   "execution_count": 6,
   "id": "148b92c5-b6d7-4cb5-a510-4056db0d6b89",
   "metadata": {
    "execution": {
     "iopub.execute_input": "2025-03-11T21:06:24.236559Z",
     "iopub.status.busy": "2025-03-11T21:06:24.236247Z",
     "iopub.status.idle": "2025-03-11T21:06:24.400441Z",
     "shell.execute_reply": "2025-03-11T21:06:24.399506Z"
    }
   },
   "outputs": [],
   "source": [
    "molsys = msm.convert(msm.systems['Barnase-Barstar']['barnase_barstar.h5msm'])"
   ]
  },
  {
   "cell_type": "code",
   "execution_count": 7,
   "id": "5d81ea10-0cdc-4c3f-a4b6-02027a9c01a3",
   "metadata": {
    "execution": {
     "iopub.execute_input": "2025-03-11T21:06:24.404003Z",
     "iopub.status.busy": "2025-03-11T21:06:24.403594Z",
     "iopub.status.idle": "2025-03-11T21:06:26.163917Z",
     "shell.execute_reply": "2025-03-11T21:06:26.163104Z"
    }
   },
   "outputs": [
    {
     "data": {
      "text/html": [
       "<style type=\"text/css\">\n",
       "</style>\n",
       "<table id=\"T_235d3\">\n",
       "  <thead>\n",
       "    <tr>\n",
       "      <th id=\"T_235d3_level0_col0\" class=\"col_heading level0 col0\" >index</th>\n",
       "      <th id=\"T_235d3_level0_col1\" class=\"col_heading level0 col1\" >name</th>\n",
       "      <th id=\"T_235d3_level0_col2\" class=\"col_heading level0 col2\" >type</th>\n",
       "      <th id=\"T_235d3_level0_col3\" class=\"col_heading level0 col3\" >n atoms</th>\n",
       "      <th id=\"T_235d3_level0_col4\" class=\"col_heading level0 col4\" >n groups</th>\n",
       "      <th id=\"T_235d3_level0_col5\" class=\"col_heading level0 col5\" >n components</th>\n",
       "      <th id=\"T_235d3_level0_col6\" class=\"col_heading level0 col6\" >chain index</th>\n",
       "      <th id=\"T_235d3_level0_col7\" class=\"col_heading level0 col7\" >entity index</th>\n",
       "      <th id=\"T_235d3_level0_col8\" class=\"col_heading level0 col8\" >entity name</th>\n",
       "    </tr>\n",
       "  </thead>\n",
       "  <tbody>\n",
       "    <tr>\n",
       "      <td id=\"T_235d3_row0_col0\" class=\"data row0 col0\" >0</td>\n",
       "      <td id=\"T_235d3_row0_col1\" class=\"data row0 col1\" >BARNASE</td>\n",
       "      <td id=\"T_235d3_row0_col2\" class=\"data row0 col2\" >protein</td>\n",
       "      <td id=\"T_235d3_row0_col3\" class=\"data row0 col3\" >1727</td>\n",
       "      <td id=\"T_235d3_row0_col4\" class=\"data row0 col4\" >110</td>\n",
       "      <td id=\"T_235d3_row0_col5\" class=\"data row0 col5\" >1</td>\n",
       "      <td id=\"T_235d3_row0_col6\" class=\"data row0 col6\" >0</td>\n",
       "      <td id=\"T_235d3_row0_col7\" class=\"data row0 col7\" >0</td>\n",
       "      <td id=\"T_235d3_row0_col8\" class=\"data row0 col8\" >BARNASE</td>\n",
       "    </tr>\n",
       "    <tr>\n",
       "      <td id=\"T_235d3_row1_col0\" class=\"data row1 col0\" >1</td>\n",
       "      <td id=\"T_235d3_row1_col1\" class=\"data row1 col1\" >BARSTAR</td>\n",
       "      <td id=\"T_235d3_row1_col2\" class=\"data row1 col2\" >protein</td>\n",
       "      <td id=\"T_235d3_row1_col3\" class=\"data row1 col3\" >1432</td>\n",
       "      <td id=\"T_235d3_row1_col4\" class=\"data row1 col4\" >89</td>\n",
       "      <td id=\"T_235d3_row1_col5\" class=\"data row1 col5\" >1</td>\n",
       "      <td id=\"T_235d3_row1_col6\" class=\"data row1 col6\" >0</td>\n",
       "      <td id=\"T_235d3_row1_col7\" class=\"data row1 col7\" >1</td>\n",
       "      <td id=\"T_235d3_row1_col8\" class=\"data row1 col8\" >BARSTAR</td>\n",
       "    </tr>\n",
       "  </tbody>\n",
       "</table>\n"
      ],
      "text/plain": [
       "<pandas.io.formats.style.Styler at 0x7f6e7c9be810>"
      ]
     },
     "execution_count": 7,
     "metadata": {},
     "output_type": "execute_result"
    }
   ],
   "source": [
    "msm.info(molsys, element='molecule')"
   ]
  },
  {
   "cell_type": "code",
   "execution_count": 8,
   "id": "90d30f29-7320-443a-8c9e-738a34c24928",
   "metadata": {
    "execution": {
     "iopub.execute_input": "2025-03-11T21:06:26.167036Z",
     "iopub.status.busy": "2025-03-11T21:06:26.166601Z",
     "iopub.status.idle": "2025-03-11T21:06:44.120288Z",
     "shell.execute_reply": "2025-03-11T21:06:44.119294Z"
    }
   },
   "outputs": [],
   "source": [
    "hbonds, distance = msm.hbonds.get_buch_hbonds(molsys, selection='molecule_name==\"BARNASE\"',\n",
    "                                              selection_2='molecule_name==\"BARSTAR\"')"
   ]
  },
  {
   "cell_type": "code",
   "execution_count": 9,
   "id": "98d38189-6738-4b3b-bff3-e747f99e220f",
   "metadata": {
    "execution": {
     "iopub.execute_input": "2025-03-11T21:06:44.124695Z",
     "iopub.status.busy": "2025-03-11T21:06:44.124110Z",
     "iopub.status.idle": "2025-03-11T21:06:44.130545Z",
     "shell.execute_reply": "2025-03-11T21:06:44.129683Z"
    }
   },
   "outputs": [
    {
     "data": {
      "text/plain": [
       "array([[[ 431,  432, 2361],\n",
       "        [ 431,  433, 2400],\n",
       "        [ 583,  584, 2442],\n",
       "        [ 858,  859, 2296],\n",
       "        [ 876,  877, 2969],\n",
       "        [ 879,  880, 2969],\n",
       "        [ 882,  883, 2297],\n",
       "        [1253, 1254, 2412],\n",
       "        [1253, 1255, 2361],\n",
       "        [1256, 1258, 2361],\n",
       "        [1256, 1258, 2362],\n",
       "        [1311, 1312, 2362],\n",
       "        [1317, 1319, 2362],\n",
       "        [1568, 1569, 2194],\n",
       "        [1610, 1612, 2237],\n",
       "        [2264, 2265, 1563],\n",
       "        [2267, 2268,  896]]])"
      ]
     },
     "execution_count": 9,
     "metadata": {},
     "output_type": "execute_result"
    }
   ],
   "source": [
    "hbonds"
   ]
  },
  {
   "cell_type": "code",
   "execution_count": null,
   "id": "92fb94d6-d58c-4bbd-9b76-d61f7bf9b98c",
   "metadata": {},
   "outputs": [],
   "source": []
  }
 ],
 "metadata": {
  "kernelspec": {
   "display_name": "Python 3 (ipykernel)",
   "language": "python",
   "name": "python3"
  },
  "language_info": {
   "codemirror_mode": {
    "name": "ipython",
    "version": 3
   },
   "file_extension": ".py",
   "mimetype": "text/x-python",
   "name": "python",
   "nbconvert_exporter": "python",
   "pygments_lexer": "ipython3",
   "version": "3.12.8"
  },
  "widgets": {
   "application/vnd.jupyter.widget-state+json": {
    "state": {
     "53159f9fb02145468401ff6617e77a85": {
      "model_module": "@jupyter-widgets/base",
      "model_module_version": "2.0.0",
      "model_name": "LayoutModel",
      "state": {
       "_model_module": "@jupyter-widgets/base",
       "_model_module_version": "2.0.0",
       "_model_name": "LayoutModel",
       "_view_count": null,
       "_view_module": "@jupyter-widgets/base",
       "_view_module_version": "2.0.0",
       "_view_name": "LayoutView",
       "align_content": null,
       "align_items": null,
       "align_self": null,
       "border_bottom": null,
       "border_left": null,
       "border_right": null,
       "border_top": null,
       "bottom": null,
       "display": null,
       "flex": null,
       "flex_flow": null,
       "grid_area": null,
       "grid_auto_columns": null,
       "grid_auto_flow": null,
       "grid_auto_rows": null,
       "grid_column": null,
       "grid_gap": null,
       "grid_row": null,
       "grid_template_areas": null,
       "grid_template_columns": null,
       "grid_template_rows": null,
       "height": null,
       "justify_content": null,
       "justify_items": null,
       "left": null,
       "margin": null,
       "max_height": null,
       "max_width": null,
       "min_height": null,
       "min_width": null,
       "object_fit": null,
       "object_position": null,
       "order": null,
       "overflow": null,
       "padding": null,
       "right": null,
       "top": null,
       "visibility": null,
       "width": null
      }
     },
     "e6fe3830f1b34a978745895528e4fafc": {
      "model_module": "nglview-js-widgets",
      "model_module_version": "3.1.4",
      "model_name": "ColormakerRegistryModel",
      "state": {
       "_dom_classes": [],
       "_model_module": "nglview-js-widgets",
       "_model_module_version": "3.1.4",
       "_model_name": "ColormakerRegistryModel",
       "_msg_ar": [],
       "_msg_q": [],
       "_ready": false,
       "_view_count": null,
       "_view_module": "nglview-js-widgets",
       "_view_module_version": "3.1.4",
       "_view_name": "ColormakerRegistryView",
       "layout": "IPY_MODEL_53159f9fb02145468401ff6617e77a85",
       "tabbable": null,
       "tooltip": null
      }
     }
    },
    "version_major": 2,
    "version_minor": 0
   }
  }
 },
 "nbformat": 4,
 "nbformat_minor": 5
}
