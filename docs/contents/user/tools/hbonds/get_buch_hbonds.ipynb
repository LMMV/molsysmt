{
 "cells": [
  {
   "cell_type": "markdown",
   "id": "51a472c0-7186-4eb6-8f0d-57ece63912ce",
   "metadata": {},
   "source": [
    "# Get Buch hbonds"
   ]
  },
  {
   "cell_type": "code",
   "execution_count": 1,
   "id": "59403f01-40ff-470c-b68a-bebe902d7434",
   "metadata": {},
   "outputs": [
    {
     "data": {
      "application/vnd.jupyter.widget-view+json": {
       "model_id": "e2475781c5624ec399aa9e696b6da6c9",
       "version_major": 2,
       "version_minor": 0
      },
      "text/plain": []
     },
     "metadata": {},
     "output_type": "display_data"
    }
   ],
   "source": [
    "import molsysmt as msm"
   ]
  },
  {
   "cell_type": "code",
   "execution_count": 2,
   "id": "616dd7d1-df6e-48fe-9208-dd6968c278f5",
   "metadata": {},
   "outputs": [],
   "source": [
    "molsys = msm.convert(msm.systems['chicken villin HP35']['chicken_villin_HP35.h5msm'])"
   ]
  },
  {
   "cell_type": "code",
   "execution_count": 3,
   "id": "046cb5fd-6563-4f9f-a8d4-e1b049032333",
   "metadata": {},
   "outputs": [],
   "source": [
    "hbonds, distance = msm.hbonds.get_buch_hbonds(molsys)"
   ]
  },
  {
   "cell_type": "code",
   "execution_count": 4,
   "id": "249265ab-56d8-45ba-aabd-00e79ef375a1",
   "metadata": {},
   "outputs": [
    {
     "data": {
      "text/plain": [
       "array([[[ 42,  43,  91],\n",
       "        [ 51,  52,  90],\n",
       "        [ 80,  81,  90],\n",
       "        [ 92,  93,  47],\n",
       "        [112, 113,  58],\n",
       "        [130, 131,  78],\n",
       "        [130, 132,  79],\n",
       "        [134, 135,  70],\n",
       "        [144, 145,  85],\n",
       "        [160, 161,  97],\n",
       "        [180, 181, 117],\n",
       "        [187, 188, 165],\n",
       "        [218, 219,  64],\n",
       "        [233, 234,  63],\n",
       "        [236, 237,  28],\n",
       "        [239, 240,  28],\n",
       "        [239, 241,  63],\n",
       "        [253, 254, 212],\n",
       "        [263, 264, 209],\n",
       "        [283, 284, 223],\n",
       "        [293, 294, 258],\n",
       "        [307, 308, 268],\n",
       "        [383, 384, 330],\n",
       "        [401, 402, 529],\n",
       "        [401, 404, 530],\n",
       "        [405, 406, 330],\n",
       "        [419, 420, 268],\n",
       "        [422, 423, 345],\n",
       "        [439, 440, 364],\n",
       "        [453, 454, 388],\n",
       "        [472, 473, 410],\n",
       "        [490, 491,   1],\n",
       "        [490, 493, 559],\n",
       "        [494, 495, 458],\n",
       "        [512, 513, 427],\n",
       "        [512, 514, 477],\n",
       "        [512, 515, 435],\n",
       "        [516, 517, 444],\n",
       "        [531, 532, 458],\n",
       "        [549, 550, 149],\n",
       "        [579, 580, 560]]])"
      ]
     },
     "execution_count": 4,
     "metadata": {},
     "output_type": "execute_result"
    }
   ],
   "source": [
    "hbonds"
   ]
  },
  {
   "cell_type": "code",
   "execution_count": null,
   "id": "5170e6fb-b17b-402b-b05d-5ad446158565",
   "metadata": {},
   "outputs": [],
   "source": [
    "distance"
   ]
  },
  {
   "cell_type": "code",
   "execution_count": 5,
   "id": "148b92c5-b6d7-4cb5-a510-4056db0d6b89",
   "metadata": {},
   "outputs": [],
   "source": [
    "molsys = msm.convert(msm.systems['Barnase-Barstar']['barnase_barstar.h5msm'])"
   ]
  },
  {
   "cell_type": "code",
   "execution_count": 6,
   "id": "5d81ea10-0cdc-4c3f-a4b6-02027a9c01a3",
   "metadata": {},
   "outputs": [
    {
     "data": {
      "text/html": [
       "<style type=\"text/css\">\n",
       "</style>\n",
       "<table id=\"T_dcddd\">\n",
       "  <thead>\n",
       "    <tr>\n",
       "      <th id=\"T_dcddd_level0_col0\" class=\"col_heading level0 col0\" >index</th>\n",
       "      <th id=\"T_dcddd_level0_col1\" class=\"col_heading level0 col1\" >name</th>\n",
       "      <th id=\"T_dcddd_level0_col2\" class=\"col_heading level0 col2\" >type</th>\n",
       "      <th id=\"T_dcddd_level0_col3\" class=\"col_heading level0 col3\" >n atoms</th>\n",
       "      <th id=\"T_dcddd_level0_col4\" class=\"col_heading level0 col4\" >n groups</th>\n",
       "      <th id=\"T_dcddd_level0_col5\" class=\"col_heading level0 col5\" >n components</th>\n",
       "      <th id=\"T_dcddd_level0_col6\" class=\"col_heading level0 col6\" >chain index</th>\n",
       "      <th id=\"T_dcddd_level0_col7\" class=\"col_heading level0 col7\" >entity index</th>\n",
       "      <th id=\"T_dcddd_level0_col8\" class=\"col_heading level0 col8\" >entity name</th>\n",
       "    </tr>\n",
       "  </thead>\n",
       "  <tbody>\n",
       "    <tr>\n",
       "      <td id=\"T_dcddd_row0_col0\" class=\"data row0 col0\" >0</td>\n",
       "      <td id=\"T_dcddd_row0_col1\" class=\"data row0 col1\" >BARNASE</td>\n",
       "      <td id=\"T_dcddd_row0_col2\" class=\"data row0 col2\" >protein</td>\n",
       "      <td id=\"T_dcddd_row0_col3\" class=\"data row0 col3\" >1727</td>\n",
       "      <td id=\"T_dcddd_row0_col4\" class=\"data row0 col4\" >110</td>\n",
       "      <td id=\"T_dcddd_row0_col5\" class=\"data row0 col5\" >1</td>\n",
       "      <td id=\"T_dcddd_row0_col6\" class=\"data row0 col6\" >0</td>\n",
       "      <td id=\"T_dcddd_row0_col7\" class=\"data row0 col7\" >0</td>\n",
       "      <td id=\"T_dcddd_row0_col8\" class=\"data row0 col8\" >BARNASE</td>\n",
       "    </tr>\n",
       "    <tr>\n",
       "      <td id=\"T_dcddd_row1_col0\" class=\"data row1 col0\" >1</td>\n",
       "      <td id=\"T_dcddd_row1_col1\" class=\"data row1 col1\" >BARSTAR</td>\n",
       "      <td id=\"T_dcddd_row1_col2\" class=\"data row1 col2\" >protein</td>\n",
       "      <td id=\"T_dcddd_row1_col3\" class=\"data row1 col3\" >1432</td>\n",
       "      <td id=\"T_dcddd_row1_col4\" class=\"data row1 col4\" >89</td>\n",
       "      <td id=\"T_dcddd_row1_col5\" class=\"data row1 col5\" >1</td>\n",
       "      <td id=\"T_dcddd_row1_col6\" class=\"data row1 col6\" >0</td>\n",
       "      <td id=\"T_dcddd_row1_col7\" class=\"data row1 col7\" >1</td>\n",
       "      <td id=\"T_dcddd_row1_col8\" class=\"data row1 col8\" >BARSTAR</td>\n",
       "    </tr>\n",
       "  </tbody>\n",
       "</table>\n"
      ],
      "text/plain": [
       "<pandas.io.formats.style.Styler at 0x73eb80bf6720>"
      ]
     },
     "execution_count": 6,
     "metadata": {},
     "output_type": "execute_result"
    }
   ],
   "source": [
    "msm.info(molsys, element='molecule')"
   ]
  },
  {
   "cell_type": "code",
   "execution_count": 7,
   "id": "90d30f29-7320-443a-8c9e-738a34c24928",
   "metadata": {},
   "outputs": [],
   "source": [
    "hbonds, distance = msm.hbonds.get_buch_hbonds(molsys, selection='molecule_name==\"BARNASE\"',\n",
    "                                              selection_2='molecule_name==\"BARSTAR\"')"
   ]
  },
  {
   "cell_type": "code",
   "execution_count": 9,
   "id": "98d38189-6738-4b3b-bff3-e747f99e220f",
   "metadata": {},
   "outputs": [
    {
     "data": {
      "text/plain": [
       "array([[[ 431,  432, 2361],\n",
       "        [ 431,  433, 2400],\n",
       "        [ 583,  584, 2442],\n",
       "        [ 858,  859, 2296],\n",
       "        [ 876,  877, 2969],\n",
       "        [ 879,  880, 2969],\n",
       "        [ 882,  883, 2297],\n",
       "        [1253, 1254, 2412],\n",
       "        [1253, 1255, 2361],\n",
       "        [1256, 1258, 2361],\n",
       "        [1256, 1258, 2362],\n",
       "        [1311, 1312, 2362],\n",
       "        [1317, 1319, 2362],\n",
       "        [1568, 1569, 2194],\n",
       "        [1610, 1612, 2237],\n",
       "        [2264, 2265, 1563],\n",
       "        [2267, 2268,  896]]])"
      ]
     },
     "execution_count": 9,
     "metadata": {},
     "output_type": "execute_result"
    }
   ],
   "source": [
    "hbonds"
   ]
  },
  {
   "cell_type": "code",
   "execution_count": null,
   "id": "92fb94d6-d58c-4bbd-9b76-d61f7bf9b98c",
   "metadata": {},
   "outputs": [],
   "source": []
  }
 ],
 "metadata": {
  "kernelspec": {
   "display_name": "Python 3 (ipykernel)",
   "language": "python",
   "name": "python3"
  },
  "language_info": {
   "codemirror_mode": {
    "name": "ipython",
    "version": 3
   },
   "file_extension": ".py",
   "mimetype": "text/x-python",
   "name": "python",
   "nbconvert_exporter": "python",
   "pygments_lexer": "ipython3",
   "version": "3.12.8"
  }
 },
 "nbformat": 4,
 "nbformat_minor": 5
}
