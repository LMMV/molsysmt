{
 "cells": [
  {
   "cell_type": "markdown",
   "id": "51a472c0-7186-4eb6-8f0d-57ece63912ce",
   "metadata": {},
   "source": [
    "# Get Buch hbonds"
   ]
  },
  {
   "cell_type": "code",
   "execution_count": 1,
   "id": "59403f01-40ff-470c-b68a-bebe902d7434",
   "metadata": {},
   "outputs": [
    {
     "data": {
      "application/vnd.jupyter.widget-view+json": {
       "model_id": "16b89a1b47f54c55b5f07c85ad8022d2",
       "version_major": 2,
       "version_minor": 0
      },
      "text/plain": []
     },
     "metadata": {},
     "output_type": "display_data"
    }
   ],
   "source": [
    "import molsysmt as msm"
   ]
  },
  {
   "cell_type": "code",
   "execution_count": 2,
   "id": "616dd7d1-df6e-48fe-9208-dd6968c278f5",
   "metadata": {},
   "outputs": [],
   "source": [
    "molsys = msm.convert(msm.systems.demo['chicken villin HP35']['chicken_villin_HP35.msmpk'])"
   ]
  },
  {
   "cell_type": "code",
   "execution_count": 3,
   "id": "046cb5fd-6563-4f9f-a8d4-e1b049032333",
   "metadata": {},
   "outputs": [],
   "source": [
    "hbonds, distance = msm.hbonds.get_buch_hbonds(molsys)"
   ]
  },
  {
   "cell_type": "code",
   "execution_count": 6,
   "id": "148b92c5-b6d7-4cb5-a510-4056db0d6b89",
   "metadata": {},
   "outputs": [],
   "source": [
    "molsys = msm.convert(msm.systems.demo['Barnase-Barstar']['barnase_barstar.msmpk'])"
   ]
  },
  {
   "cell_type": "code",
   "execution_count": 7,
   "id": "90d30f29-7320-443a-8c9e-738a34c24928",
   "metadata": {},
   "outputs": [],
   "source": [
    "hbonds, distance = msm.hbonds.get_buch_hbonds(molsys, selection='molecule_name==\"Barnase\"',\n",
    "                                              selection_2='molecule_name==\"Barstar\"')"
   ]
  },
  {
   "cell_type": "code",
   "execution_count": 8,
   "id": "7bdf9de7-4860-4cf5-93e0-c2de0f18eec4",
   "metadata": {},
   "outputs": [
    {
     "data": {
      "text/plain": [
       "array([[[ 431,  432, 2361],\n",
       "        [ 431,  433, 2400],\n",
       "        [ 858,  859, 2296],\n",
       "        [ 876,  877, 2970],\n",
       "        [ 876,  877, 2969],\n",
       "        [ 879,  880, 2969],\n",
       "        [ 882,  883, 2297],\n",
       "        [1253, 1254, 2412],\n",
       "        [1253, 1255, 2361],\n",
       "        [1256, 1257, 2361],\n",
       "        [1256, 1257, 2362],\n",
       "        [1311, 1312, 2362],\n",
       "        [1317, 1318, 2362],\n",
       "        [1610, 1612, 2237],\n",
       "        [2267, 2268,  896]]])"
      ]
     },
     "execution_count": 8,
     "metadata": {},
     "output_type": "execute_result"
    }
   ],
   "source": [
    "hbonds"
   ]
  },
  {
   "cell_type": "code",
   "execution_count": null,
   "id": "a99c5ba0-eedd-4e4c-b28a-18045e6cb0f1",
   "metadata": {},
   "outputs": [],
   "source": []
  }
 ],
 "metadata": {
  "kernelspec": {
   "display_name": "Python 3 (ipykernel)",
   "language": "python",
   "name": "python3"
  },
  "language_info": {
   "codemirror_mode": {
    "name": "ipython",
    "version": 3
   },
   "file_extension": ".py",
   "mimetype": "text/x-python",
   "name": "python",
   "nbconvert_exporter": "python",
   "pygments_lexer": "ipython3",
   "version": "3.10.12"
  }
 },
 "nbformat": 4,
 "nbformat_minor": 5
}
