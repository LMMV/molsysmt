{
 "cells": [
  {
   "cell_type": "code",
   "execution_count": 1,
   "id": "e6d5ef73-cc17-436f-8448-befa68962d6d",
   "metadata": {
    "tags": [
     "remove-input"
    ]
   },
   "outputs": [],
   "source": [
    "# This cell is removed with the tag: \"remove-input\"\n",
    "# As such, it will not be shown in documentation\n",
    "\n",
    "#import warnings\n",
    "#warnings.filterwarnings('ignore')"
   ]
  },
  {
   "cell_type": "markdown",
   "id": "744c8cfc-23dc-46c3-bc17-fca67440d77a",
   "metadata": {
    "tags": [
     "remove-input"
    ]
   },
   "source": [
    "# Get forces\n",
    "*Get forces.*\n"
   ]
  },
  {
   "cell_type": "code",
   "execution_count": 2,
   "id": "4485ea28-ee22-4550-adc1-e5f817575ab9",
   "metadata": {
    "tags": []
   },
   "outputs": [
    {
     "data": {
      "application/vnd.jupyter.widget-view+json": {
       "model_id": "7d3a091c2fb64795a76ac093c51ee0cb",
       "version_major": 2,
       "version_minor": 0
      },
      "text/plain": []
     },
     "metadata": {},
     "output_type": "display_data"
    }
   ],
   "source": [
    "import molsysmt as msm"
   ]
  },
  {
   "cell_type": "code",
   "execution_count": 3,
   "id": "98ed2c3e-ab0d-44ac-9df6-1c6e67f80d72",
   "metadata": {},
   "outputs": [],
   "source": [
    "import openmm as mm\n",
    "from openmm import app\n",
    "from openmm import unit\n",
    "\n",
    "molsys = msm.convert(msm.systems['Trp-Cage']['1l2y.h5msm'], structure_indices=0)\n",
    "openmm_topology = msm.convert(molsys, to_form='openmm.Topology')\n",
    "positions = msm.get(molsys, element='atom', coordinates=True)\n",
    "positions = msm.pyunitwizard.convert(positions[0], to_form='openmm.unit')\n",
    "\n",
    "forcefield = app.ForceField(\"amber14-all.xml\", \"amber14/tip3p.xml\")\n",
    "system = forcefield.createSystem(openmm_topology, nonbondedMethod=app.NoCutoff,\n",
    "                                 constraints=app.HBonds)\n",
    "\n",
    "integrator = mm.LangevinIntegrator(300*unit.kelvin, 1/unit.picosecond, 1*unit.femtosecond)\n",
    "platform = mm.Platform.getPlatform('CPU')\n",
    "\n",
    "context = mm.Context(system, integrator, platform)\n",
    "context.setPositions(positions)"
   ]
  },
  {
   "cell_type": "code",
   "execution_count": 4,
   "id": "d235ed6d-45f8-425d-91d9-ad5109d20bf7",
   "metadata": {},
   "outputs": [],
   "source": [
    "forces = msm.molecular_mechanics.get_forces(context)"
   ]
  },
  {
   "cell_type": "code",
   "execution_count": 5,
   "id": "b4dac7f3-0c8c-47b2-b658-caf4eb867ebf",
   "metadata": {},
   "outputs": [
    {
     "data": {
      "text/html": [
       "<table><tbody><tr><th>Magnitude</th><td style='text-align:left;'><pre>[-457.15514876039975 19.59674317837093 287.93607585251874]</pre></td></tr><tr><th>Units</th><td style='text-align:left;'>kilojoule/(mole nanometer)</td></tr></tbody></table>"
      ],
      "text/latex": [
       "$\\begin{pmatrix} &  & \\end{pmatrix}\\ \\frac{\\mathrm{kilojoule}}{\\left(\\mathrm{mole} \\cdot \\mathrm{nanometer}\\right)}$"
      ],
      "text/plain": [
       "<Quantity([-457.15514876   19.59674318  287.93607585], 'kilojoule / mole / nanometer')>"
      ]
     },
     "execution_count": 5,
     "metadata": {},
     "output_type": "execute_result"
    }
   ],
   "source": [
    "forces[100]"
   ]
  },
  {
   "cell_type": "code",
   "execution_count": null,
   "id": "20155746-3dab-4874-b8fb-b82b1c22df7f",
   "metadata": {},
   "outputs": [],
   "source": [
    "forces = msm.molecular_mechanics.get_forces(context, magnitude=True)"
   ]
  },
  {
   "cell_type": "code",
   "execution_count": null,
   "id": "bf7be916-45ac-4242-8da1-75b4c0df3071",
   "metadata": {},
   "outputs": [],
   "source": [
    "view = msm.view(molsys)\n",
    "view.clear()\n",
    "msm.thirds.nglview.set_color_by_value(view, values=forces, min_value=0.0,\n",
    "                                      representation='licorice', cmap='Oranges')\n",
    "view"
   ]
  },
  {
   "cell_type": "code",
   "execution_count": null,
   "id": "c496e914-9eaf-4fe6-8da3-3b80c6a43dd5",
   "metadata": {},
   "outputs": [],
   "source": []
  }
 ],
 "metadata": {
  "kernelspec": {
   "display_name": "Python 3 (ipykernel)",
   "language": "python",
   "name": "python3"
  },
  "language_info": {
   "codemirror_mode": {
    "name": "ipython",
    "version": 3
   },
   "file_extension": ".py",
   "mimetype": "text/x-python",
   "name": "python",
   "nbconvert_exporter": "python",
   "pygments_lexer": "ipython3",
   "version": "3.12.8"
  }
 },
 "nbformat": 4,
 "nbformat_minor": 5
}
