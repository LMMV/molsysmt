{
 "cells": [
  {
   "cell_type": "code",
   "execution_count": 1,
   "id": "e6d5ef73-cc17-436f-8448-befa68962d6d",
   "metadata": {
    "execution": {
     "iopub.execute_input": "2025-03-11T21:08:08.110811Z",
     "iopub.status.busy": "2025-03-11T21:08:08.110484Z",
     "iopub.status.idle": "2025-03-11T21:08:08.115099Z",
     "shell.execute_reply": "2025-03-11T21:08:08.114252Z"
    },
    "tags": [
     "remove-input"
    ]
   },
   "outputs": [],
   "source": [
    "# This cell is removed with the tag: \"remove-input\"\n",
    "# As such, it will not be shown in documentation\n",
    "\n",
    "#import warnings\n",
    "#warnings.filterwarnings('ignore')"
   ]
  },
  {
   "cell_type": "markdown",
   "id": "744c8cfc-23dc-46c3-bc17-fca67440d77a",
   "metadata": {
    "tags": [
     "remove-input"
    ]
   },
   "source": [
    "# Get forces\n",
    "*Get forces.*\n"
   ]
  },
  {
   "cell_type": "code",
   "execution_count": 2,
   "id": "4485ea28-ee22-4550-adc1-e5f817575ab9",
   "metadata": {
    "execution": {
     "iopub.execute_input": "2025-03-11T21:08:08.118563Z",
     "iopub.status.busy": "2025-03-11T21:08:08.118182Z",
     "iopub.status.idle": "2025-03-11T21:08:17.350633Z",
     "shell.execute_reply": "2025-03-11T21:08:17.349532Z"
    },
    "tags": []
   },
   "outputs": [
    {
     "data": {
      "application/vnd.jupyter.widget-view+json": {
       "model_id": "db0f1752659842b7b14580f20738a6bd",
       "version_major": 2,
       "version_minor": 0
      },
      "text/plain": []
     },
     "metadata": {},
     "output_type": "display_data"
    }
   ],
   "source": [
    "import molsysmt as msm"
   ]
  },
  {
   "cell_type": "code",
   "execution_count": 3,
   "id": "98ed2c3e-ab0d-44ac-9df6-1c6e67f80d72",
   "metadata": {
    "execution": {
     "iopub.execute_input": "2025-03-11T21:08:17.355139Z",
     "iopub.status.busy": "2025-03-11T21:08:17.354214Z",
     "iopub.status.idle": "2025-03-11T21:08:18.806915Z",
     "shell.execute_reply": "2025-03-11T21:08:18.806109Z"
    }
   },
   "outputs": [],
   "source": [
    "import openmm as mm\n",
    "from openmm import app\n",
    "from openmm import unit\n",
    "\n",
    "molsys = msm.convert(msm.systems['Trp-Cage']['1l2y.h5msm'], structure_indices=0)\n",
    "openmm_topology = msm.convert(molsys, to_form='openmm.Topology')\n",
    "positions = msm.get(molsys, element='atom', coordinates=True)\n",
    "positions = msm.pyunitwizard.convert(positions[0], to_form='openmm.unit')\n",
    "\n",
    "forcefield = app.ForceField(\"amber14-all.xml\", \"amber14/tip3p.xml\")\n",
    "system = forcefield.createSystem(openmm_topology, nonbondedMethod=app.NoCutoff,\n",
    "                                 constraints=app.HBonds)\n",
    "\n",
    "integrator = mm.LangevinIntegrator(300*unit.kelvin, 1/unit.picosecond, 1*unit.femtosecond)\n",
    "platform = mm.Platform.getPlatform('CPU')\n",
    "\n",
    "context = mm.Context(system, integrator, platform)\n",
    "context.setPositions(positions)"
   ]
  },
  {
   "cell_type": "code",
   "execution_count": 4,
   "id": "d235ed6d-45f8-425d-91d9-ad5109d20bf7",
   "metadata": {
    "execution": {
     "iopub.execute_input": "2025-03-11T21:08:18.810611Z",
     "iopub.status.busy": "2025-03-11T21:08:18.809787Z",
     "iopub.status.idle": "2025-03-11T21:08:18.819610Z",
     "shell.execute_reply": "2025-03-11T21:08:18.818663Z"
    }
   },
   "outputs": [],
   "source": [
    "forces = msm.molecular_mechanics.get_forces(context)"
   ]
  },
  {
   "cell_type": "code",
   "execution_count": 5,
   "id": "b4dac7f3-0c8c-47b2-b658-caf4eb867ebf",
   "metadata": {
    "execution": {
     "iopub.execute_input": "2025-03-11T21:08:18.822767Z",
     "iopub.status.busy": "2025-03-11T21:08:18.822376Z",
     "iopub.status.idle": "2025-03-11T21:08:18.840541Z",
     "shell.execute_reply": "2025-03-11T21:08:18.839634Z"
    }
   },
   "outputs": [
    {
     "data": {
      "text/html": [
       "<table><tbody><tr><th>Magnitude</th><td style='text-align:left;'><pre>[-457.15502669008725 19.59674699306821 287.9360605937297]</pre></td></tr><tr><th>Units</th><td style='text-align:left;'>kilojoule/(mole nanometer)</td></tr></tbody></table>"
      ],
      "text/latex": [
       "$\\begin{pmatrix} &  & \\end{pmatrix}\\ \\frac{\\mathrm{kilojoule}}{\\left(\\mathrm{mole} \\cdot \\mathrm{nanometer}\\right)}$"
      ],
      "text/plain": [
       "<Quantity([-457.15502669   19.59674699  287.93606059], 'kilojoule / mole / nanometer')>"
      ]
     },
     "execution_count": 5,
     "metadata": {},
     "output_type": "execute_result"
    }
   ],
   "source": [
    "forces[100]"
   ]
  },
  {
   "cell_type": "code",
   "execution_count": 6,
   "id": "20155746-3dab-4874-b8fb-b82b1c22df7f",
   "metadata": {
    "execution": {
     "iopub.execute_input": "2025-03-11T21:08:18.844029Z",
     "iopub.status.busy": "2025-03-11T21:08:18.843441Z",
     "iopub.status.idle": "2025-03-11T21:08:18.853364Z",
     "shell.execute_reply": "2025-03-11T21:08:18.852435Z"
    }
   },
   "outputs": [],
   "source": [
    "forces = msm.molecular_mechanics.get_forces(context, magnitude=True)"
   ]
  },
  {
   "cell_type": "code",
   "execution_count": 7,
   "id": "bf7be916-45ac-4242-8da1-75b4c0df3071",
   "metadata": {
    "execution": {
     "iopub.execute_input": "2025-03-11T21:08:18.856820Z",
     "iopub.status.busy": "2025-03-11T21:08:18.856427Z",
     "iopub.status.idle": "2025-03-11T21:08:23.343695Z",
     "shell.execute_reply": "2025-03-11T21:08:23.342772Z"
    }
   },
   "outputs": [
    {
     "data": {
      "application/vnd.jupyter.widget-view+json": {
       "model_id": "c1bee50f8cc64c019c9abc5032742bf1",
       "version_major": 2,
       "version_minor": 0
      },
      "text/plain": [
       "NGLWidget()"
      ]
     },
     "metadata": {},
     "output_type": "display_data"
    }
   ],
   "source": [
    "view = msm.view(molsys)\n",
    "view.clear()\n",
    "msm.thirds.nglview.set_color_by_value(view, values=forces, min_value=0.0,\n",
    "                                      representation='licorice', cmap='Oranges')\n",
    "view"
   ]
  },
  {
   "cell_type": "code",
   "execution_count": null,
   "id": "c496e914-9eaf-4fe6-8da3-3b80c6a43dd5",
   "metadata": {},
   "outputs": [],
   "source": []
  }
 ],
 "metadata": {
  "kernelspec": {
   "display_name": "Python 3 (ipykernel)",
   "language": "python",
   "name": "python3"
  },
  "language_info": {
   "codemirror_mode": {
    "name": "ipython",
    "version": 3
   },
   "file_extension": ".py",
   "mimetype": "text/x-python",
   "name": "python",
   "nbconvert_exporter": "python",
   "pygments_lexer": "ipython3",
   "version": "3.12.8"
  },
  "widgets": {
   "application/vnd.jupyter.widget-state+json": {
    "state": {
     "08afa7060a5a48f594df4005fc481a7b": {
      "model_module": "@jupyter-widgets/controls",
      "model_module_version": "2.0.0",
      "model_name": "ButtonStyleModel",
      "state": {
       "_model_module": "@jupyter-widgets/controls",
       "_model_module_version": "2.0.0",
       "_model_name": "ButtonStyleModel",
       "_view_count": null,
       "_view_module": "@jupyter-widgets/base",
       "_view_module_version": "2.0.0",
       "_view_name": "StyleView",
       "button_color": null,
       "font_family": null,
       "font_size": null,
       "font_style": null,
       "font_variant": null,
       "font_weight": null,
       "text_color": null,
       "text_decoration": null
      }
     },
     "13317ce1f28c49d880b98843dd23bfc8": {
      "model_module": "@jupyter-widgets/controls",
      "model_module_version": "2.0.0",
      "model_name": "LinkModel",
      "state": {
       "_model_module": "@jupyter-widgets/controls",
       "_model_module_version": "2.0.0",
       "_model_name": "LinkModel",
       "_view_count": null,
       "_view_module": "@jupyter-widgets/controls",
       "_view_module_version": "2.0.0",
       "_view_name": null,
       "source": [
        "IPY_MODEL_89293cb47b2f4ab78f35faa8867210c9",
        "max"
       ],
       "target": [
        "IPY_MODEL_c1bee50f8cc64c019c9abc5032742bf1",
        "max_frame"
       ]
      }
     },
     "1c2ced010f3e41138550ba3f1aabcb73": {
      "buffers": [
       {
        "data": "",
        "encoding": "base64",
        "path": [
         "value"
        ]
       }
      ],
      "model_module": "@jupyter-widgets/controls",
      "model_module_version": "2.0.0",
      "model_name": "ImageModel",
      "state": {
       "_dom_classes": [],
       "_model_module": "@jupyter-widgets/controls",
       "_model_module_version": "2.0.0",
       "_model_name": "ImageModel",
       "_view_count": null,
       "_view_module": "@jupyter-widgets/controls",
       "_view_module_version": "2.0.0",
       "_view_name": "ImageView",
       "format": "png",
       "height": "",
       "layout": "IPY_MODEL_7ad49d981ef44bb393ded53ba773581e",
       "tabbable": null,
       "tooltip": null,
       "width": "900.0"
      }
     },
     "21c4a5141855413e90f658e096027e6b": {
      "model_module": "@jupyter-widgets/base",
      "model_module_version": "2.0.0",
      "model_name": "LayoutModel",
      "state": {
       "_model_module": "@jupyter-widgets/base",
       "_model_module_version": "2.0.0",
       "_model_name": "LayoutModel",
       "_view_count": null,
       "_view_module": "@jupyter-widgets/base",
       "_view_module_version": "2.0.0",
       "_view_name": "LayoutView",
       "align_content": null,
       "align_items": null,
       "align_self": null,
       "border_bottom": null,
       "border_left": null,
       "border_right": null,
       "border_top": null,
       "bottom": null,
       "display": null,
       "flex": null,
       "flex_flow": null,
       "grid_area": null,
       "grid_auto_columns": null,
       "grid_auto_flow": null,
       "grid_auto_rows": null,
       "grid_column": null,
       "grid_gap": null,
       "grid_row": null,
       "grid_template_areas": null,
       "grid_template_columns": null,
       "grid_template_rows": null,
       "height": null,
       "justify_content": null,
       "justify_items": null,
       "left": null,
       "margin": null,
       "max_height": null,
       "max_width": null,
       "min_height": null,
       "min_width": null,
       "object_fit": null,
       "object_position": null,
       "order": null,
       "overflow": null,
       "padding": null,
       "right": null,
       "top": null,
       "visibility": null,
       "width": null
      }
     },
     "282ede0b20964fd2b1b16d1184ce9aa6": {
      "model_module": "@jupyter-widgets/base",
      "model_module_version": "2.0.0",
      "model_name": "LayoutModel",
      "state": {
       "_model_module": "@jupyter-widgets/base",
       "_model_module_version": "2.0.0",
       "_model_name": "LayoutModel",
       "_view_count": null,
       "_view_module": "@jupyter-widgets/base",
       "_view_module_version": "2.0.0",
       "_view_name": "LayoutView",
       "align_content": null,
       "align_items": null,
       "align_self": null,
       "border_bottom": null,
       "border_left": null,
       "border_right": null,
       "border_top": null,
       "bottom": null,
       "display": null,
       "flex": null,
       "flex_flow": null,
       "grid_area": null,
       "grid_auto_columns": null,
       "grid_auto_flow": null,
       "grid_auto_rows": null,
       "grid_column": null,
       "grid_gap": null,
       "grid_row": null,
       "grid_template_areas": null,
       "grid_template_columns": null,
       "grid_template_rows": null,
       "height": null,
       "justify_content": null,
       "justify_items": null,
       "left": null,
       "margin": null,
       "max_height": null,
       "max_width": null,
       "min_height": null,
       "min_width": null,
       "object_fit": null,
       "object_position": null,
       "order": null,
       "overflow": null,
       "padding": null,
       "right": null,
       "top": null,
       "visibility": null,
       "width": null
      }
     },
     "2abda1a88e3d43adb065caf1def4df2b": {
      "model_module": "@jupyter-widgets/controls",
      "model_module_version": "2.0.0",
      "model_name": "HBoxModel",
      "state": {
       "_dom_classes": [],
       "_model_module": "@jupyter-widgets/controls",
       "_model_module_version": "2.0.0",
       "_model_name": "HBoxModel",
       "_view_count": null,
       "_view_module": "@jupyter-widgets/controls",
       "_view_module_version": "2.0.0",
       "_view_name": "HBoxView",
       "box_style": "",
       "children": [
        "IPY_MODEL_6e8462fd8f1c40b584b32f740db0e537",
        "IPY_MODEL_89293cb47b2f4ab78f35faa8867210c9"
       ],
       "layout": "IPY_MODEL_66cd3c0fb3cd4266afad72fb302937e5",
       "tabbable": null,
       "tooltip": null
      }
     },
     "3e37e157a45649fcac1de77cb9a59ac7": {
      "model_module": "@jupyter-widgets/base",
      "model_module_version": "2.0.0",
      "model_name": "LayoutModel",
      "state": {
       "_model_module": "@jupyter-widgets/base",
       "_model_module_version": "2.0.0",
       "_model_name": "LayoutModel",
       "_view_count": null,
       "_view_module": "@jupyter-widgets/base",
       "_view_module_version": "2.0.0",
       "_view_name": "LayoutView",
       "align_content": null,
       "align_items": null,
       "align_self": null,
       "border_bottom": null,
       "border_left": null,
       "border_right": null,
       "border_top": null,
       "bottom": null,
       "display": null,
       "flex": null,
       "flex_flow": null,
       "grid_area": null,
       "grid_auto_columns": null,
       "grid_auto_flow": null,
       "grid_auto_rows": null,
       "grid_column": null,
       "grid_gap": null,
       "grid_row": null,
       "grid_template_areas": null,
       "grid_template_columns": null,
       "grid_template_rows": null,
       "height": null,
       "justify_content": null,
       "justify_items": null,
       "left": null,
       "margin": null,
       "max_height": null,
       "max_width": null,
       "min_height": null,
       "min_width": null,
       "object_fit": null,
       "object_position": null,
       "order": null,
       "overflow": null,
       "padding": null,
       "right": null,
       "top": null,
       "visibility": null,
       "width": null
      }
     },
     "6002ce0c7aaa49c7bbb5c1aa5f4c710a": {
      "model_module": "@jupyter-widgets/controls",
      "model_module_version": "2.0.0",
      "model_name": "ButtonModel",
      "state": {
       "_dom_classes": [],
       "_model_module": "@jupyter-widgets/controls",
       "_model_module_version": "2.0.0",
       "_model_name": "ButtonModel",
       "_view_count": null,
       "_view_module": "@jupyter-widgets/controls",
       "_view_module_version": "2.0.0",
       "_view_name": "ButtonView",
       "button_style": "",
       "description": "",
       "disabled": false,
       "icon": "compress",
       "layout": "IPY_MODEL_81a99891ae94433baf3ec5caf7952609",
       "style": "IPY_MODEL_08afa7060a5a48f594df4005fc481a7b",
       "tabbable": null,
       "tooltip": null
      }
     },
     "66cd3c0fb3cd4266afad72fb302937e5": {
      "model_module": "@jupyter-widgets/base",
      "model_module_version": "2.0.0",
      "model_name": "LayoutModel",
      "state": {
       "_model_module": "@jupyter-widgets/base",
       "_model_module_version": "2.0.0",
       "_model_name": "LayoutModel",
       "_view_count": null,
       "_view_module": "@jupyter-widgets/base",
       "_view_module_version": "2.0.0",
       "_view_name": "LayoutView",
       "align_content": null,
       "align_items": null,
       "align_self": null,
       "border_bottom": null,
       "border_left": null,
       "border_right": null,
       "border_top": null,
       "bottom": null,
       "display": null,
       "flex": null,
       "flex_flow": null,
       "grid_area": null,
       "grid_auto_columns": null,
       "grid_auto_flow": null,
       "grid_auto_rows": null,
       "grid_column": null,
       "grid_gap": null,
       "grid_row": null,
       "grid_template_areas": null,
       "grid_template_columns": null,
       "grid_template_rows": null,
       "height": null,
       "justify_content": null,
       "justify_items": null,
       "left": null,
       "margin": null,
       "max_height": null,
       "max_width": null,
       "min_height": null,
       "min_width": null,
       "object_fit": null,
       "object_position": null,
       "order": null,
       "overflow": null,
       "padding": null,
       "right": null,
       "top": null,
       "visibility": null,
       "width": null
      }
     },
     "6dd208630e5740f586dffe2fd51955d7": {
      "model_module": "@jupyter-widgets/controls",
      "model_module_version": "2.0.0",
      "model_name": "SliderStyleModel",
      "state": {
       "_model_module": "@jupyter-widgets/controls",
       "_model_module_version": "2.0.0",
       "_model_name": "SliderStyleModel",
       "_view_count": null,
       "_view_module": "@jupyter-widgets/base",
       "_view_module_version": "2.0.0",
       "_view_name": "StyleView",
       "description_width": "",
       "handle_color": null
      }
     },
     "6e8462fd8f1c40b584b32f740db0e537": {
      "model_module": "@jupyter-widgets/controls",
      "model_module_version": "2.0.0",
      "model_name": "PlayModel",
      "state": {
       "_dom_classes": [],
       "_model_module": "@jupyter-widgets/controls",
       "_model_module_version": "2.0.0",
       "_model_name": "PlayModel",
       "_view_count": null,
       "_view_module": "@jupyter-widgets/controls",
       "_view_module_version": "2.0.0",
       "_view_name": "PlayView",
       "description": "",
       "description_allow_html": false,
       "disabled": false,
       "interval": 100,
       "layout": "IPY_MODEL_282ede0b20964fd2b1b16d1184ce9aa6",
       "max": 0,
       "min": 0,
       "playing": false,
       "repeat": false,
       "show_repeat": true,
       "step": 1,
       "style": "IPY_MODEL_7a2059c233064e63860a801c9f783885",
       "tabbable": null,
       "tooltip": null,
       "value": 0
      }
     },
     "7a2059c233064e63860a801c9f783885": {
      "model_module": "@jupyter-widgets/controls",
      "model_module_version": "2.0.0",
      "model_name": "DescriptionStyleModel",
      "state": {
       "_model_module": "@jupyter-widgets/controls",
       "_model_module_version": "2.0.0",
       "_model_name": "DescriptionStyleModel",
       "_view_count": null,
       "_view_module": "@jupyter-widgets/base",
       "_view_module_version": "2.0.0",
       "_view_name": "StyleView",
       "description_width": ""
      }
     },
     "7ad49d981ef44bb393ded53ba773581e": {
      "model_module": "@jupyter-widgets/base",
      "model_module_version": "2.0.0",
      "model_name": "LayoutModel",
      "state": {
       "_model_module": "@jupyter-widgets/base",
       "_model_module_version": "2.0.0",
       "_model_name": "LayoutModel",
       "_view_count": null,
       "_view_module": "@jupyter-widgets/base",
       "_view_module_version": "2.0.0",
       "_view_name": "LayoutView",
       "align_content": null,
       "align_items": null,
       "align_self": null,
       "border_bottom": null,
       "border_left": null,
       "border_right": null,
       "border_top": null,
       "bottom": null,
       "display": null,
       "flex": null,
       "flex_flow": null,
       "grid_area": null,
       "grid_auto_columns": null,
       "grid_auto_flow": null,
       "grid_auto_rows": null,
       "grid_column": null,
       "grid_gap": null,
       "grid_row": null,
       "grid_template_areas": null,
       "grid_template_columns": null,
       "grid_template_rows": null,
       "height": null,
       "justify_content": null,
       "justify_items": null,
       "left": null,
       "margin": null,
       "max_height": null,
       "max_width": null,
       "min_height": null,
       "min_width": null,
       "object_fit": null,
       "object_position": null,
       "order": null,
       "overflow": null,
       "padding": null,
       "right": null,
       "top": null,
       "visibility": null,
       "width": null
      }
     },
     "810d16b46ee84bc3ba0fff308c04b8af": {
      "model_module": "@jupyter-widgets/controls",
      "model_module_version": "2.0.0",
      "model_name": "LinkModel",
      "state": {
       "_model_module": "@jupyter-widgets/controls",
       "_model_module_version": "2.0.0",
       "_model_name": "LinkModel",
       "_view_count": null,
       "_view_module": "@jupyter-widgets/controls",
       "_view_module_version": "2.0.0",
       "_view_name": null,
       "source": [
        "IPY_MODEL_6e8462fd8f1c40b584b32f740db0e537",
        "value"
       ],
       "target": [
        "IPY_MODEL_89293cb47b2f4ab78f35faa8867210c9",
        "value"
       ]
      }
     },
     "81a99891ae94433baf3ec5caf7952609": {
      "model_module": "@jupyter-widgets/base",
      "model_module_version": "2.0.0",
      "model_name": "LayoutModel",
      "state": {
       "_model_module": "@jupyter-widgets/base",
       "_model_module_version": "2.0.0",
       "_model_name": "LayoutModel",
       "_view_count": null,
       "_view_module": "@jupyter-widgets/base",
       "_view_module_version": "2.0.0",
       "_view_name": "LayoutView",
       "align_content": null,
       "align_items": null,
       "align_self": null,
       "border_bottom": null,
       "border_left": null,
       "border_right": null,
       "border_top": null,
       "bottom": null,
       "display": null,
       "flex": null,
       "flex_flow": null,
       "grid_area": null,
       "grid_auto_columns": null,
       "grid_auto_flow": null,
       "grid_auto_rows": null,
       "grid_column": null,
       "grid_gap": null,
       "grid_row": null,
       "grid_template_areas": null,
       "grid_template_columns": null,
       "grid_template_rows": null,
       "height": null,
       "justify_content": null,
       "justify_items": null,
       "left": null,
       "margin": null,
       "max_height": null,
       "max_width": null,
       "min_height": null,
       "min_width": null,
       "object_fit": null,
       "object_position": null,
       "order": null,
       "overflow": null,
       "padding": null,
       "right": null,
       "top": null,
       "visibility": null,
       "width": "34px"
      }
     },
     "89293cb47b2f4ab78f35faa8867210c9": {
      "model_module": "@jupyter-widgets/controls",
      "model_module_version": "2.0.0",
      "model_name": "IntSliderModel",
      "state": {
       "_dom_classes": [],
       "_model_module": "@jupyter-widgets/controls",
       "_model_module_version": "2.0.0",
       "_model_name": "IntSliderModel",
       "_view_count": null,
       "_view_module": "@jupyter-widgets/controls",
       "_view_module_version": "2.0.0",
       "_view_name": "IntSliderView",
       "behavior": "drag-tap",
       "continuous_update": true,
       "description": "",
       "description_allow_html": false,
       "disabled": false,
       "layout": "IPY_MODEL_3e37e157a45649fcac1de77cb9a59ac7",
       "max": 0,
       "min": 0,
       "orientation": "horizontal",
       "readout": true,
       "readout_format": "d",
       "step": 1,
       "style": "IPY_MODEL_6dd208630e5740f586dffe2fd51955d7",
       "tabbable": null,
       "tooltip": null,
       "value": 0
      }
     },
     "ab3fd62451d547088972348872d2853e": {
      "model_module": "@jupyter-widgets/controls",
      "model_module_version": "2.0.0",
      "model_name": "LinkModel",
      "state": {
       "_model_module": "@jupyter-widgets/controls",
       "_model_module_version": "2.0.0",
       "_model_name": "LinkModel",
       "_view_count": null,
       "_view_module": "@jupyter-widgets/controls",
       "_view_module_version": "2.0.0",
       "_view_name": null,
       "source": [
        "IPY_MODEL_6e8462fd8f1c40b584b32f740db0e537",
        "max"
       ],
       "target": [
        "IPY_MODEL_c1bee50f8cc64c019c9abc5032742bf1",
        "max_frame"
       ]
      }
     },
     "c1bee50f8cc64c019c9abc5032742bf1": {
      "model_module": "nglview-js-widgets",
      "model_module_version": "3.1.4",
      "model_name": "NGLModel",
      "state": {
       "_camera_orientation": [],
       "_camera_str": "orthographic",
       "_dom_classes": [],
       "_gui_theme": null,
       "_ibtn_fullscreen": "IPY_MODEL_6002ce0c7aaa49c7bbb5c1aa5f4c710a",
       "_igui": null,
       "_iplayer": "IPY_MODEL_2abda1a88e3d43adb065caf1def4df2b",
       "_model_module": "nglview-js-widgets",
       "_model_module_version": "3.1.4",
       "_model_name": "NGLModel",
       "_ngl_color_dict": {},
       "_ngl_coordinate_resource": {},
       "_ngl_full_stage_parameters": {},
       "_ngl_msg_archive": [
        {
         "args": [
          {
           "binary": false,
           "data": "HEADER    MOLECULAR SYSTEM                        11-MAR-25       \nREMARK   1 Created by MolSysMT version 1.0 on 11-MAR-2025 at 15:08:19\nATOM      1 N    ASN A   1      -8.901   4.127  -0.555  0.00  0.00           N\nATOM      2 CA   ASN A   1      -8.608   3.135  -1.618  0.00  0.00           C\nATOM      3 C    ASN A   1      -7.117   2.964  -1.897  0.00  0.00           C\nATOM      4 O    ASN A   1      -6.634   1.849  -1.758  0.00  0.00           O\nATOM      5 CB   ASN A   1      -9.437   3.396  -2.889  0.00  0.00           C\nATOM      6 CG   ASN A   1     -10.915   3.130  -2.611  0.00  0.00           C\nATOM      7 OD1  ASN A   1     -11.269   2.700  -1.524  0.00  0.00           O\nATOM      8 ND2  ASN A   1     -11.806   3.406  -3.543  0.00  0.00           N\nATOM      9 H1   ASN A   1      -8.330   3.957   0.261  0.00  0.00           H\nATOM     10 H2   ASN A   1      -8.740   5.068  -0.889  0.00  0.00           H\nATOM     11 H3   ASN A   1      -9.877   4.041  -0.293  0.00  0.00           H\nATOM     12 HA   ASN A   1      -8.930   2.162  -1.239  0.00  0.00           H\nATOM     13 HB2  ASN A   1      -9.310   4.417  -3.193  0.00  0.00           H\nATOM     14 HB3  ASN A   1      -9.108   2.719  -3.679  0.00  0.00           H\nATOM     15 HD21 ASN A   1     -11.572   3.791  -4.444  0.00  0.00           H\nATOM     16 HD22 ASN A   1     -12.757   3.183  -3.294  0.00  0.00           H\nATOM     17 N    LEU A   2      -6.379   4.031  -2.228  0.00  0.00           N\nATOM     18 CA   LEU A   2      -4.923   4.002  -2.452  0.00  0.00           C\nATOM     19 C    LEU A   2      -4.136   3.187  -1.404  0.00  0.00           C\nATOM     20 O    LEU A   2      -3.391   2.274  -1.760  0.00  0.00           O\nATOM     21 CB   LEU A   2      -4.411   5.450  -2.619  0.00  0.00           C\nATOM     22 CG   LEU A   2      -4.795   6.450  -1.495  0.00  0.00           C\nATOM     23 CD1  LEU A   2      -3.612   6.803  -0.599  0.00  0.00           C\nATOM     24 CD2  LEU A   2      -5.351   7.748  -2.084  0.00  0.00           C\nATOM     25 H    LEU A   2      -6.821   4.923  -2.394  0.00  0.00           H\nATOM     26 HA   LEU A   2      -4.750   3.494  -3.403  0.00  0.00           H\nATOM     27 HB2  LEU A   2      -3.340   5.414  -2.672  0.00  0.00           H\nATOM     28 HB3  LEU A   2      -4.813   5.817  -3.564  0.00  0.00           H\nATOM     29 HG   LEU A   2      -5.568   6.022  -0.858  0.00  0.00           H\nATOM     30 HD11 LEU A   2      -3.207   5.905  -0.146  0.00  0.00           H\nATOM     31 HD12 LEU A   2      -2.841   7.304  -1.183  0.00  0.00           H\nATOM     32 HD13 LEU A   2      -3.929   7.477   0.197  0.00  0.00           H\nATOM     33 HD21 LEU A   2      -4.607   8.209  -2.736  0.00  0.00           H\nATOM     34 HD22 LEU A   2      -6.255   7.544  -2.657  0.00  0.00           H\nATOM     35 HD23 LEU A   2      -5.592   8.445  -1.281  0.00  0.00           H\nATOM     36 N    TYR A   3      -4.354   3.455  -0.111  0.00  0.00           N\nATOM     37 CA   TYR A   3      -3.690   2.738   0.981  0.00  0.00           C\nATOM     38 C    TYR A   3      -4.102   1.256   1.074  0.00  0.00           C\nATOM     39 O    TYR A   3      -3.291   0.409   1.442  0.00  0.00           O\nATOM     40 CB   TYR A   3      -3.964   3.472   2.302  0.00  0.00           C\nATOM     41 CG   TYR A   3      -2.824   3.339   3.290  0.00  0.00           C\nATOM     42 CD1  TYR A   3      -2.746   2.217   4.138  0.00  0.00           C\nATOM     43 CD2  TYR A   3      -1.820   4.326   3.332  0.00  0.00           C\nATOM     44 CE1  TYR A   3      -1.657   2.076   5.018  0.00  0.00           C\nATOM     45 CE2  TYR A   3      -0.725   4.185   4.205  0.00  0.00           C\nATOM     46 CZ   TYR A   3      -0.639   3.053   5.043  0.00  0.00           C\nATOM     47 OH   TYR A   3       0.433   2.881   5.861  0.00  0.00           O\nATOM     48 H    TYR A   3      -4.934   4.245   0.120  0.00  0.00           H\nATOM     49 HA   TYR A   3      -2.615   2.768   0.796  0.00  0.00           H\nATOM     50 HB2  TYR A   3      -4.117   4.513   2.091  0.00  0.00           H\nATOM     51 HB3  TYR A   3      -4.886   3.096   2.750  0.00  0.00           H\nATOM     52 HD1  TYR A   3      -3.513   1.456   4.101  0.00  0.00           H\nATOM     53 HD2  TYR A   3      -1.877   5.200   2.695  0.00  0.00           H\nATOM     54 HE1  TYR A   3      -1.576   1.221   5.669  0.00  0.00           H\nATOM     55 HE2  TYR A   3       0.033   4.952   4.233  0.00  0.00           H\nATOM     56 HH   TYR A   3       1.187   3.395   5.567  0.00  0.00           H\nATOM     57 N    ILE A   4      -5.342   0.925   0.689  0.00  0.00           N\nATOM     58 CA   ILE A   4      -5.857  -0.449   0.613  0.00  0.00           C\nATOM     59 C    ILE A   4      -5.089  -1.221  -0.470  0.00  0.00           C\nATOM     60 O    ILE A   4      -4.621  -2.334  -0.226  0.00  0.00           O\nATOM     61 CB   ILE A   4      -7.386  -0.466   0.343  0.00  0.00           C\nATOM     62 CG1  ILE A   4      -8.197   0.540   1.197  0.00  0.00           C\nATOM     63 CG2  ILE A   4      -7.959  -1.884   0.501  0.00  0.00           C\nATOM     64 CD1  ILE A   4      -8.019   0.412   2.715  0.00  0.00           C\nATOM     65 H    ILE A   4      -5.906   1.656   0.283  0.00  0.00           H\nATOM     66 HA   ILE A   4      -5.670  -0.941   1.568  0.00  0.00           H\nATOM     67 HB   ILE A   4      -7.554  -0.192  -0.697  0.00  0.00           H\nATOM     68 HG12 ILE A   4      -7.900   1.531   0.912  0.00  0.00           H\nATOM     69 HG13 ILE A   4      -9.257   0.424   0.964  0.00  0.00           H\nATOM     70 HG21 ILE A   4      -7.509  -2.555  -0.232  0.00  0.00           H\nATOM     71 HG22 ILE A   4      -7.759  -2.271   1.501  0.00  0.00           H\nATOM     72 HG23 ILE A   4      -9.036  -1.871   0.332  0.00  0.00           H\nATOM     73 HD11 ILE A   4      -8.306  -0.585   3.049  0.00  0.00           H\nATOM     74 HD12 ILE A   4      -6.983   0.606   2.995  0.00  0.00           H\nATOM     75 HD13 ILE A   4      -8.656   1.144   3.213  0.00  0.00           H\nATOM     76 N    GLN A   5      -4.907  -0.601  -1.645  0.00  0.00           N\nATOM     77 CA   GLN A   5      -4.122  -1.167  -2.743  0.00  0.00           C\nATOM     78 C    GLN A   5      -2.629  -1.321  -2.390  0.00  0.00           C\nATOM     79 O    GLN A   5      -1.986  -2.240  -2.884  0.00  0.00           O\nATOM     80 CB   GLN A   5      -4.292  -0.313  -4.013  0.00  0.00           C\nATOM     81 CG   GLN A   5      -4.244  -1.171  -5.290  0.00  0.00           C\nATOM     82 CD   GLN A   5      -5.576  -1.860  -5.585  0.00  0.00           C\nATOM     83 OE1  GLN A   5      -5.769  -3.044  -5.335  0.00  0.00           O\nATOM     84 NE2  GLN A   5      -6.532  -1.146  -6.152  0.00  0.00           N\nATOM     85 H    GLN A   5      -5.327   0.318  -1.763  0.00  0.00           H\nATOM     86 HA   GLN A   5      -4.517  -2.162  -2.940  0.00  0.00           H\nATOM     87 HB2  GLN A   5      -5.238   0.191  -3.969  0.00  0.00           H\nATOM     88 HB3  GLN A   5      -3.492   0.429  -4.053  0.00  0.00           H\nATOM     89 HG2  GLN A   5      -3.993  -0.539  -6.120  0.00  0.00           H\nATOM     90 HG3  GLN A   5      -3.458  -1.923  -5.205  0.00  0.00           H\nATOM     91 HE21 GLN A   5      -6.389  -0.184  -6.408  0.00  0.00           H\nATOM     92 HE22 GLN A   5      -7.392  -1.635  -6.335  0.00  0.00           H\nATOM     93 N    TRP A   6      -2.074  -0.459  -1.528  0.00  0.00           N\nATOM     94 CA   TRP A   6      -0.716  -0.631  -0.993  0.00  0.00           C\nATOM     95 C    TRP A   6      -0.631  -1.766   0.044  0.00  0.00           C\nATOM     96 O    TRP A   6       0.295  -2.579  -0.004  0.00  0.00           O\nATOM     97 CB   TRP A   6      -0.221   0.703  -0.417  0.00  0.00           C\nATOM     98 CG   TRP A   6       1.148   0.652   0.194  0.00  0.00           C\nATOM     99 CD1  TRP A   6       2.319   0.664  -0.482  0.00  0.00           C\nATOM    100 CD2  TRP A   6       1.508   0.564   1.606  0.00  0.00           C\nATOM    101 NE1  TRP A   6       3.371   0.560   0.411  0.00  0.00           N\nATOM    102 CE2  TRP A   6       2.928   0.515   1.710  0.00  0.00           C\nATOM    103 CE3  TRP A   6       0.779   0.524   2.812  0.00  0.00           C\nATOM    104 CZ2  TRP A   6       3.599   0.445   2.938  0.00  0.00           C\nATOM    105 CZ3  TRP A   6       1.439   0.433   4.053  0.00  0.00           C\nATOM    106 CH2  TRP A   6       2.842   0.407   4.120  0.00  0.00           C\nATOM    107 H    TRP A   6      -2.624   0.343  -1.242  0.00  0.00           H\nATOM    108 HA   TRP A   6      -0.052  -0.908  -1.813  0.00  0.00           H\nATOM    109 HB2  TRP A   6      -0.206   1.425  -1.211  0.00  0.00           H\nATOM    110 HB3  TRP A   6      -0.921   1.044   0.344  0.00  0.00           H\nATOM    111 HD1  TRP A   6       2.412   0.733  -1.558  0.00  0.00           H\nATOM    112 HE1  TRP A   6       4.360   0.536   0.156  0.00  0.00           H\nATOM    113 HE3  TRP A   6      -0.299   0.571   2.773  0.00  0.00           H\nATOM    114 HZ2  TRP A   6       4.679   0.418   2.961  0.00  0.00           H\nATOM    115 HZ3  TRP A   6       0.862   0.400   4.966  0.00  0.00           H\nATOM    116 HH2  TRP A   6       3.334   0.360   5.081  0.00  0.00           H\nATOM    117 N    LEU A   7      -1.600  -1.860   0.967  0.00  0.00           N\nATOM    118 CA   LEU A   7      -1.641  -2.932   1.963  0.00  0.00           C\nATOM    119 C    LEU A   7      -1.847  -4.319   1.342  0.00  0.00           C\nATOM    120 O    LEU A   7      -1.144  -5.248   1.742  0.00  0.00           O\nATOM    121 CB   LEU A   7      -2.710  -2.645   3.033  0.00  0.00           C\nATOM    122 CG   LEU A   7      -2.301  -1.579   4.069  0.00  0.00           C\nATOM    123 CD1  LEU A   7      -3.475  -1.323   5.018  0.00  0.00           C\nATOM    124 CD2  LEU A   7      -1.093  -2.007   4.914  0.00  0.00           C\nATOM    125 H    LEU A   7      -2.316  -1.137   0.994  0.00  0.00           H\nATOM    126 HA   LEU A   7      -0.666  -2.978   2.445  0.00  0.00           H\nATOM    127 HB2  LEU A   7      -3.600  -2.308   2.537  0.00  0.00           H\nATOM    128 HB3  LEU A   7      -2.921  -3.571   3.572  0.00  0.00           H\nATOM    129 HG   LEU A   7      -2.061  -0.649   3.560  0.00  0.00           H\nATOM    130 HD11 LEU A   7      -4.343  -0.992   4.449  0.00  0.00           H\nATOM    131 HD12 LEU A   7      -3.725  -2.237   5.560  0.00  0.00           H\nATOM    132 HD13 LEU A   7      -3.211  -0.549   5.739  0.00  0.00           H\nATOM    133 HD21 LEU A   7      -1.270  -2.989   5.354  0.00  0.00           H\nATOM    134 HD22 LEU A   7      -0.195  -2.045   4.300  0.00  0.00           H\nATOM    135 HD23 LEU A   7      -0.922  -1.286   5.712  0.00  0.00           H\nATOM    136 N    LYS A   8      -2.753  -4.481   0.360  0.00  0.00           N\nATOM    137 CA   LYS A   8      -3.024  -5.791  -0.269  0.00  0.00           C\nATOM    138 C    LYS A   8      -1.796  -6.427  -0.937  0.00  0.00           C\nATOM    139 O    LYS A   8      -1.719  -7.648  -1.030  0.00  0.00           O\nATOM    140 CB   LYS A   8      -4.224  -5.697  -1.232  0.00  0.00           C\nATOM    141 CG   LYS A   8      -3.930  -5.009  -2.577  0.00  0.00           C\nATOM    142 CD   LYS A   8      -3.682  -5.986  -3.736  0.00  0.00           C\nATOM    143 CE   LYS A   8      -3.494  -5.199  -5.039  0.00  0.00           C\nATOM    144 NZ   LYS A   8      -4.563  -5.483  -6.023  0.00  0.00           N\nATOM    145 H    LYS A   8      -3.321  -3.675   0.097  0.00  0.00           H\nATOM    146 HA   LYS A   8      -3.309  -6.478   0.529  0.00  0.00           H\nATOM    147 HB2  LYS A   8      -4.565  -6.694  -1.436  0.00  0.00           H\nATOM    148 HB3  LYS A   8      -5.019  -5.143  -0.731  0.00  0.00           H\nATOM    149 HG2  LYS A   8      -4.769  -4.390  -2.830  0.00  0.00           H\nATOM    150 HG3  LYS A   8      -3.062  -4.368  -2.469  0.00  0.00           H\nATOM    151 HD2  LYS A   8      -2.799  -6.562  -3.536  0.00  0.00           H\nATOM    152 HD3  LYS A   8      -4.524  -6.674  -3.818  0.00  0.00           H\nATOM    153 HE2  LYS A   8      -3.502  -4.150  -4.813  0.00  0.00           H\nATOM    154 HE3  LYS A   8      -2.511  -5.439  -5.457  0.00  0.00           H\nATOM    155 HZ1  LYS A   8      -4.621  -6.474  -6.211  0.00  0.00           H\nATOM    156 HZ2  LYS A   8      -5.442  -5.124  -5.657  0.00  0.00           H\nATOM    157 HZ3  LYS A   8      -4.382  -4.983  -6.881  0.00  0.00           H\nATOM    158 N    ASP A   9      -0.828  -5.607  -1.355  0.00  0.00           N\nATOM    159 CA   ASP A   9       0.466  -6.016  -1.905  0.00  0.00           C\nATOM    160 C    ASP A   9       1.481  -6.464  -0.832  0.00  0.00           C\nATOM    161 O    ASP A   9       2.545  -6.971  -1.194  0.00  0.00           O\nATOM    162 CB   ASP A   9       1.033  -4.839  -2.724  0.00  0.00           C\nATOM    163 CG   ASP A   9       0.672  -4.906  -4.210  0.00  0.00           C\nATOM    164 OD1  ASP A   9      -0.532  -5.051  -4.522  0.00  0.00           O\nATOM    165 OD2  ASP A   9       1.627  -4.815  -5.017  0.00  0.00           O\nATOM    166 H    ASP A   9      -1.010  -4.616  -1.291  0.00  0.00           H\nATOM    167 HA   ASP A   9       0.319  -6.867  -2.574  0.00  0.00           H\nATOM    168 HB2  ASP A   9       0.644  -3.924  -2.320  0.00  0.00           H\nATOM    169 HB3  ASP A   9       2.116  -4.837  -2.650  0.00  0.00           H\nATOM    170 N    GLY A  10       1.185  -6.278   0.464  0.00  0.00           N\nATOM    171 CA   GLY A  10       2.060  -6.618   1.593  0.00  0.00           C\nATOM    172 C    GLY A  10       2.628  -5.412   2.353  0.00  0.00           C\nATOM    173 O    GLY A  10       3.496  -5.594   3.208  0.00  0.00           O\nATOM    174 H    GLY A  10       0.265  -5.908   0.693  0.00  0.00           H\nATOM    175 HA2  GLY A  10       1.486  -7.214   2.304  0.00  0.00           H\nATOM    176 HA3  GLY A  10       2.897  -7.228   1.252  0.00  0.00           H\nATOM    177 N    GLY A  11       2.172  -4.187   2.055  0.00  0.00           N\nATOM    178 CA   GLY A  11       2.626  -2.967   2.723  0.00  0.00           C\nATOM    179 C    GLY A  11       4.157  -2.802   2.654  0.00  0.00           C\nATOM    180 O    GLY A  11       4.710  -2.829   1.551  0.00  0.00           O\nATOM    181 H    GLY A  11       1.481  -4.089   1.319  0.00  0.00           H\nATOM    182 HA2  GLY A  11       2.164  -2.109   2.237  0.00  0.00           H\nATOM    183 HA3  GLY A  11       2.280  -2.997   3.753  0.00  0.00           H\nATOM    184 N    PRO A  12       4.871  -2.651   3.794  0.00  0.00           N\nATOM    185 CA   PRO A  12       6.333  -2.533   3.806  0.00  0.00           C\nATOM    186 C    PRO A  12       7.058  -3.729   3.165  0.00  0.00           C\nATOM    187 O    PRO A  12       8.139  -3.562   2.601  0.00  0.00           O\nATOM    188 CB   PRO A  12       6.740  -2.387   5.279  0.00  0.00           C\nATOM    189 CG   PRO A  12       5.460  -1.952   5.987  0.00  0.00           C\nATOM    190 CD   PRO A  12       4.362  -2.615   5.160  0.00  0.00           C\nATOM    191 HA   PRO A  12       6.611  -1.626   3.267  0.00  0.00           H\nATOM    192 HB2  PRO A  12       7.091  -3.323   5.670  0.00  0.00           H\nATOM    193 HB3  PRO A  12       7.531  -1.647   5.403  0.00  0.00           H\nATOM    194 HG2  PRO A  12       5.443  -2.302   7.001  0.00  0.00           H\nATOM    195 HG3  PRO A  12       5.358  -0.867   5.929  0.00  0.00           H\nATOM    196 HD2  PRO A  12       4.173  -3.609   5.516  0.00  0.00           H\nATOM    197 HD3  PRO A  12       3.440  -2.042   5.246  0.00  0.00           H\nATOM    198 N    SER A  13       6.463  -4.929   3.205  0.00  0.00           N\nATOM    199 CA   SER A  13       7.049  -6.179   2.704  0.00  0.00           C\nATOM    200 C    SER A  13       6.897  -6.369   1.185  0.00  0.00           C\nATOM    201 O    SER A  13       7.025  -7.488   0.697  0.00  0.00           O\nATOM    202 CB   SER A  13       6.458  -7.371   3.472  0.00  0.00           C\nATOM    203 OG   SER A  13       6.763  -7.264   4.850  0.00  0.00           O\nATOM    204 H    SER A  13       5.535  -4.999   3.613  0.00  0.00           H\nATOM    205 HA   SER A  13       8.121  -6.159   2.903  0.00  0.00           H\nATOM    206 HB2  SER A  13       5.393  -7.382   3.344  0.00  0.00           H\nATOM    207 HB3  SER A  13       6.880  -8.302   3.093  0.00  0.00           H\nATOM    208 HG   SER A  13       7.707  -7.394   4.970  0.00  0.00           H\nATOM    209 N    SER A  14       6.637  -5.290   0.434  0.00  0.00           N\nATOM    210 CA   SER A  14       6.389  -5.315  -1.015  0.00  0.00           C\nATOM    211 C    SER A  14       7.332  -4.405  -1.823  0.00  0.00           C\nATOM    212 O    SER A  14       7.082  -4.123  -2.993  0.00  0.00           O\nATOM    213 CB   SER A  14       4.914  -4.993  -1.265  0.00  0.00           C\nATOM    214 OG   SER A  14       4.431  -5.743  -2.358  0.00  0.00           O\nATOM    215 H    SER A  14       6.509  -4.415   0.930  0.00  0.00           H\nATOM    216 HA   SER A  14       6.562  -6.329  -1.378  0.00  0.00           H\nATOM    217 HB2  SER A  14       4.344  -5.236  -0.389  0.00  0.00           H\nATOM    218 HB3  SER A  14       4.778  -3.934  -1.457  0.00  0.00           H\nATOM    219 HG   SER A  14       3.714  -6.324  -1.987  0.00  0.00           H\nATOM    220 N    GLY A  15       8.419  -3.920  -1.202  0.00  0.00           N\nATOM    221 CA   GLY A  15       9.451  -3.116  -1.870  0.00  0.00           C\nATOM    222 C    GLY A  15       8.984  -1.725  -2.316  0.00  0.00           C\nATOM    223 O    GLY A  15       9.539  -1.177  -3.267  0.00  0.00           O\nATOM    224 H    GLY A  15       8.573  -4.210  -0.246  0.00  0.00           H\nATOM    225 HA2  GLY A  15      10.297  -2.987  -1.194  0.00  0.00           H\nATOM    226 HA3  GLY A  15       9.805  -3.652  -2.752  0.00  0.00           H\nATOM    227 N    ARG A  16       7.956  -1.164  -1.660  0.00  0.00           N\nATOM    228 CA   ARG A  16       7.289   0.084  -2.054  0.00  0.00           C\nATOM    229 C    ARG A  16       6.855   0.916  -0.829  0.00  0.00           C\nATOM    230 O    ARG A  16       6.222   0.366   0.076  0.00  0.00           O\nATOM    231 CB   ARG A  16       6.110  -0.243  -2.994  0.00  0.00           C\nATOM    232 CG   ARG A  16       5.046  -1.171  -2.378  0.00  0.00           C\nATOM    233 CD   ARG A  16       3.923  -1.592  -3.338  0.00  0.00           C\nATOM    234 NE   ARG A  16       4.251  -2.811  -4.100  0.00  0.00           N\nATOM    235 CZ   ARG A  16       4.859  -2.914  -5.274  0.00  0.00           C\nATOM    236 NH1  ARG A  16       5.289  -1.864  -5.937  0.00  0.00           N\nATOM    237 NH2  ARG A  16       5.035  -4.095  -5.809  0.00  0.00           N\nATOM    238 H    ARG A  16       7.579  -1.676  -0.874  0.00  0.00           H\nATOM    239 HA   ARG A  16       8.009   0.663  -2.630  0.00  0.00           H\nATOM    240 HB2  ARG A  16       5.634   0.678  -3.269  0.00  0.00           H\nATOM    241 HB3  ARG A  16       6.524  -0.720  -3.880  0.00  0.00           H\nATOM    242 HG2  ARG A  16       5.538  -2.059  -2.031  0.00  0.00           H\nATOM    243 HG3  ARG A  16       4.579  -0.652  -1.549  0.00  0.00           H\nATOM    244 HD2  ARG A  16       3.033  -1.774  -2.766  0.00  0.00           H\nATOM    245 HD3  ARG A  16       3.669  -0.765  -4.003  0.00  0.00           H\nATOM    246 HE   ARG A  16       3.963  -3.694  -3.698  0.00  0.00           H\nATOM    247 HH11 ARG A  16       5.150  -0.962  -5.521  0.00  0.00           H\nATOM    248 HH12 ARG A  16       5.761  -1.962  -6.815  0.00  0.00           H\nATOM    249 HH21 ARG A  16       4.649  -4.894  -5.327  0.00  0.00           H\nATOM    250 HH22 ARG A  16       5.508  -4.205  -6.684  0.00  0.00           H\nATOM    251 N    PRO A  17       7.156   2.230  -0.780  0.00  0.00           N\nATOM    252 CA   PRO A  17       6.782   3.088   0.345  0.00  0.00           C\nATOM    253 C    PRO A  17       5.261   3.331   0.395  0.00  0.00           C\nATOM    254 O    PRO A  17       4.586   3.165  -0.624  0.00  0.00           O\nATOM    255 CB   PRO A  17       7.554   4.394   0.119  0.00  0.00           C\nATOM    256 CG   PRO A  17       7.677   4.474  -1.401  0.00  0.00           C\nATOM    257 CD   PRO A  17       7.820   3.010  -1.816  0.00  0.00           C\nATOM    258 HA   PRO A  17       7.107   2.628   1.279  0.00  0.00           H\nATOM    259 HB2  PRO A  17       7.009   5.234   0.505  0.00  0.00           H\nATOM    260 HB3  PRO A  17       8.548   4.308   0.561  0.00  0.00           H\nATOM    261 HG2  PRO A  17       6.800   4.914  -1.836  0.00  0.00           H\nATOM    262 HG3  PRO A  17       8.540   5.066  -1.707  0.00  0.00           H\nATOM    263 HD2  PRO A  17       7.349   2.844  -2.766  0.00  0.00           H\nATOM    264 HD3  PRO A  17       8.876   2.739  -1.855  0.00  0.00           H\nATOM    265 N    PRO A  18       4.710   3.739   1.555  0.00  0.00           N\nATOM    266 CA   PRO A  18       3.287   4.031   1.686  0.00  0.00           C\nATOM    267 C    PRO A  18       2.901   5.305   0.913  0.00  0.00           C\nATOM    268 O    PRO A  18       3.684   6.256   0.871  0.00  0.00           O\nATOM    269 CB   PRO A  18       3.035   4.190   3.187  0.00  0.00           C\nATOM    270 CG   PRO A  18       4.385   4.655   3.729  0.00  0.00           C\nATOM    271 CD   PRO A  18       5.393   3.949   2.823  0.00  0.00           C\nATOM    272 HA   PRO A  18       2.719   3.181   1.316  0.00  0.00           H\nATOM    273 HB2  PRO A  18       2.274   4.924   3.372  0.00  0.00           H\nATOM    274 HB3  PRO A  18       2.781   3.223   3.618  0.00  0.00           H\nATOM    275 HG2  PRO A  18       4.482   5.721   3.654  0.00  0.00           H\nATOM    276 HG3  PRO A  18       4.518   4.377   4.775  0.00  0.00           H\nATOM    277 HD2  PRO A  18       6.262   4.562   2.682  0.00  0.00           H\nATOM    278 HD3  PRO A  18       5.662   2.983   3.253  0.00  0.00           H\nATOM    279 N    PRO A  19       1.688   5.360   0.336  0.00  0.00           N\nATOM    280 CA   PRO A  19       1.185   6.543  -0.353  0.00  0.00           C\nATOM    281 C    PRO A  19       0.715   7.607   0.655  0.00  0.00           C\nATOM    282 O    PRO A  19      -0.124   7.324   1.513  0.00  0.00           O\nATOM    283 CB   PRO A  19       0.048   6.014  -1.229  0.00  0.00           C\nATOM    284 CG   PRO A  19      -0.519   4.852  -0.412  0.00  0.00           C\nATOM    285 CD   PRO A  19       0.716   4.275   0.272  0.00  0.00           C\nATOM    286 HA   PRO A  19       1.961   6.966  -0.991  0.00  0.00           H\nATOM    287 HB2  PRO A  19      -0.697   6.770  -1.389  0.00  0.00           H\nATOM    288 HB3  PRO A  19       0.463   5.630  -2.162  0.00  0.00           H\nATOM    289 HG2  PRO A  19      -1.232   5.201   0.310  0.00  0.00           H\nATOM    290 HG3  PRO A  19      -1.019   4.114  -1.041  0.00  0.00           H\nATOM    291 HD2  PRO A  19       0.470   3.937   1.260  0.00  0.00           H\nATOM    292 HD3  PRO A  19       1.121   3.461  -0.329  0.00  0.00           H\nATOM    293 N    SER A  20       1.271   8.822   0.549  0.00  0.00           N\nATOM    294 CA   SER A  20       0.852  10.027   1.285  0.00  0.00           C\nATOM    295 C    SER A  20      -0.406  10.657   0.683  0.00  0.00           C\nATOM    296 O    SER A  20      -0.387  10.916  -0.540  0.00  0.00           O\nATOM    297 CB   SER A  20       1.972  11.071   1.284  0.00  0.00           C\nATOM    298 OG   SER A  20       3.120  10.541   1.911  0.00  0.00           O\nATOM    299 OXT  SER A  20      -1.341  10.903   1.473  0.00  0.00           O\nATOM    300 H    SER A  20       1.969   8.961  -0.165  0.00  0.00           H\nATOM    301 HA   SER A  20       0.601   9.760   2.310  0.00  0.00           H\nATOM    302 HB2  SER A  20       2.210  11.338   0.272  0.00  0.00           H\nATOM    303 HB3  SER A  20       1.636  11.959   1.824  0.00  0.00           H\nATOM    304 HG   SER A  20       2.831  10.040   2.676  0.00  0.00           H\nEND\n",
           "type": "blob"
          }
         ],
         "kwargs": {
          "defaultRepresentation": true,
          "ext": "pdb",
          "name": "nglview.adaptor.MolSysMTTrajectory",
          "skipDigestion": true
         },
         "methodName": "loadFile",
         "reconstruc_color_scheme": false,
         "target": "Stage",
         "type": "call_method"
        },
        {
         "args": [],
         "component_index": 0,
         "kwargs": {},
         "methodName": "removeAllRepresentations",
         "reconstruc_color_scheme": false,
         "target": "compList",
         "type": "call_method"
        },
        {
         "args": [
          "cartoon"
         ],
         "component_index": 0,
         "kwargs": {
          "sele": "@"
         },
         "methodName": "addRepresentation",
         "reconstruc_color_scheme": false,
         "target": "compList",
         "type": "call_method"
        },
        {
         "args": [
          "cartoon"
         ],
         "component_index": 0,
         "kwargs": {
          "sele": "@0,1,2,3,4,5,6,7,8,9,10,11,12,13,14,15,16,17,18,19,20,21,22,23,24,25,26,27,28,29,30,31,32,33,34,35,36,37,38,39,40,41,42,43,44,45,46,47,48,49,50,51,52,53,54,55,56,57,58,59,60,61,62,63,64,65,66,67,68,69,70,71,72,73,74,75,76,77,78,79,80,81,82,83,84,85,86,87,88,89,90,91,92,93,94,95,96,97,98,99,100,101,102,103,104,105,106,107,108,109,110,111,112,113,114,115,116,117,118,119,120,121,122,123,124,125,126,127,128,129,130,131,132,133,134,135,136,137,138,139,140,141,142,143,144,145,146,147,148,149,150,151,152,153,154,155,156,157,158,159,160,161,162,163,164,165,166,167,168,169,170,171,172,173,174,175,176,177,178,179,180,181,182,183,184,185,186,187,188,189,190,191,192,193,194,195,196,197,198,199,200,201,202,203,204,205,206,207,208,209,210,211,212,213,214,215,216,217,218,219,220,221,222,223,224,225,226,227,228,229,230,231,232,233,234,235,236,237,238,239,240,241,242,243,244,245,246,247,248,249,250,251,252,253,254,255,256,257,258,259,260,261,262,263,264,265,266,267,268,269,270,271,272,273,274,275,276,277,278,279,280,281,282,283,284,285,286,287,288,289,290,291,292,293,294,295,296,297,298,299,300,301,302,303"
         },
         "methodName": "addRepresentation",
         "reconstruc_color_scheme": false,
         "target": "compList",
         "type": "call_method"
        },
        {
         "args": [
          "licorice"
         ],
         "component_index": 0,
         "kwargs": {
          "radius": 0.4,
          "sele": "@"
         },
         "methodName": "addRepresentation",
         "reconstruc_color_scheme": false,
         "target": "compList",
         "type": "call_method"
        },
        {
         "args": [
          "licorice"
         ],
         "component_index": 0,
         "kwargs": {
          "radius": 0.4,
          "sele": "@"
         },
         "methodName": "addRepresentation",
         "reconstruc_color_scheme": false,
         "target": "compList",
         "type": "call_method"
        },
        {
         "args": [
          "ball+stick"
         ],
         "component_index": 0,
         "kwargs": {
          "sele": "@"
         },
         "methodName": "addRepresentation",
         "reconstruc_color_scheme": false,
         "target": "compList",
         "type": "call_method"
        },
        {
         "args": [],
         "component_index": 0,
         "kwargs": {},
         "methodName": "removeAllRepresentations",
         "reconstruc_color_scheme": false,
         "target": "compList",
         "type": "call_method"
        },
        {
         "args": [
          "licorice"
         ],
         "component_index": 0,
         "kwargs": {
          "color": [
           [
            "#ffefdf",
            "1:A"
           ],
           [
            "#ffeede",
            "2:A"
           ],
           [
            "#fff0e1",
            "3:A"
           ],
           [
            "#fee5cb",
            "4:A"
           ],
           [
            "#fee2c7",
            "5:A"
           ],
           [
            "#feddbc",
            "6:A"
           ],
           [
            "#fee0c1",
            "7:A"
           ],
           [
            "#fdd5ab",
            "8:A"
           ],
           [
            "#fff0e1",
            "9:A"
           ],
           [
            "#fff2e6",
            "10:A"
           ],
           [
            "#fee7d1",
            "11:A"
           ],
           [
            "#ffefe0",
            "12:A"
           ],
           [
            "#fee9d4",
            "13:A"
           ],
           [
            "#ffefdf",
            "14:A"
           ],
           [
            "#feeddc",
            "15:A"
           ],
           [
            "#fee7d0",
            "16:A"
           ],
           [
            "#fee7d0",
            "17:A"
           ],
           [
            "#fee5cc",
            "18:A"
           ],
           [
            "#fdd1a4",
            "19:A"
           ],
           [
            "#fee0c3",
            "20:A"
           ]
          ],
          "color_label": "user_user",
          "sele": "1:A 2:A 3:A 4:A 5:A 6:A 7:A 8:A 9:A 10:A 11:A 12:A 13:A 14:A 15:A 16:A 17:A 18:A 19:A 20:A"
         },
         "methodName": "addRepresentation",
         "reconstruc_color_scheme": true,
         "target": "compList",
         "type": "call_method"
        }
       ],
       "_ngl_original_stage_parameters": {},
       "_ngl_repr_dict": {},
       "_ngl_serialize": false,
       "_ngl_version": "",
       "_ngl_view_id": [],
       "_player_dict": {},
       "_scene_position": {},
       "_scene_rotation": {},
       "_synced_model_ids": [],
       "_synced_repr_model_ids": [],
       "_view_count": null,
       "_view_height": "",
       "_view_module": "nglview-js-widgets",
       "_view_module_version": "3.1.4",
       "_view_name": "NGLView",
       "_view_width": "",
       "background": "white",
       "frame": 0,
       "gui_style": null,
       "layout": "IPY_MODEL_d6f6c29e55df4cf9a45141a868223bfa",
       "max_frame": 0,
       "n_components": 0,
       "picked": {},
       "tabbable": null,
       "tooltip": null
      }
     },
     "d6f6c29e55df4cf9a45141a868223bfa": {
      "model_module": "@jupyter-widgets/base",
      "model_module_version": "2.0.0",
      "model_name": "LayoutModel",
      "state": {
       "_model_module": "@jupyter-widgets/base",
       "_model_module_version": "2.0.0",
       "_model_name": "LayoutModel",
       "_view_count": null,
       "_view_module": "@jupyter-widgets/base",
       "_view_module_version": "2.0.0",
       "_view_name": "LayoutView",
       "align_content": null,
       "align_items": null,
       "align_self": null,
       "border_bottom": null,
       "border_left": null,
       "border_right": null,
       "border_top": null,
       "bottom": null,
       "display": null,
       "flex": null,
       "flex_flow": null,
       "grid_area": null,
       "grid_auto_columns": null,
       "grid_auto_flow": null,
       "grid_auto_rows": null,
       "grid_column": null,
       "grid_gap": null,
       "grid_row": null,
       "grid_template_areas": null,
       "grid_template_columns": null,
       "grid_template_rows": null,
       "height": null,
       "justify_content": null,
       "justify_items": null,
       "left": null,
       "margin": null,
       "max_height": null,
       "max_width": null,
       "min_height": null,
       "min_width": null,
       "object_fit": null,
       "object_position": null,
       "order": null,
       "overflow": null,
       "padding": null,
       "right": null,
       "top": null,
       "visibility": null,
       "width": null
      }
     },
     "db0f1752659842b7b14580f20738a6bd": {
      "model_module": "nglview-js-widgets",
      "model_module_version": "3.1.4",
      "model_name": "ColormakerRegistryModel",
      "state": {
       "_dom_classes": [],
       "_model_module": "nglview-js-widgets",
       "_model_module_version": "3.1.4",
       "_model_name": "ColormakerRegistryModel",
       "_msg_ar": [],
       "_msg_q": [],
       "_ready": false,
       "_view_count": null,
       "_view_module": "nglview-js-widgets",
       "_view_module_version": "3.1.4",
       "_view_name": "ColormakerRegistryView",
       "layout": "IPY_MODEL_21c4a5141855413e90f658e096027e6b",
       "tabbable": null,
       "tooltip": null
      }
     },
     "ee09e35afe7c485bafb99d7774edc17a": {
      "model_module": "@jupyter-widgets/controls",
      "model_module_version": "2.0.0",
      "model_name": "LinkModel",
      "state": {
       "_model_module": "@jupyter-widgets/controls",
       "_model_module_version": "2.0.0",
       "_model_name": "LinkModel",
       "_view_count": null,
       "_view_module": "@jupyter-widgets/controls",
       "_view_module_version": "2.0.0",
       "_view_name": null,
       "source": [
        "IPY_MODEL_6e8462fd8f1c40b584b32f740db0e537",
        "value"
       ],
       "target": [
        "IPY_MODEL_c1bee50f8cc64c019c9abc5032742bf1",
        "frame"
       ]
      }
     }
    },
    "version_major": 2,
    "version_minor": 0
   }
  }
 },
 "nbformat": 4,
 "nbformat_minor": 5
}
