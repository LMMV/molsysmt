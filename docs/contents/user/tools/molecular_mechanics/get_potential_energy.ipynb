{
 "cells": [
  {
   "cell_type": "code",
   "execution_count": 1,
   "id": "e6d5ef73-cc17-436f-8448-befa68962d6d",
   "metadata": {
    "tags": [
     "remove-input"
    ]
   },
   "outputs": [],
   "source": [
    "# This cell is removed with the tag: \"remove-input\"\n",
    "# As such, it will not be shown in documentation\n",
    "\n",
    "import warnings\n",
    "warnings.filterwarnings('ignore')"
   ]
  },
  {
   "cell_type": "markdown",
   "id": "324976fb-e171-4aa9-bb51-64aa306219af",
   "metadata": {
    "tags": [
     "remove-input"
    ]
   },
   "source": [
    "\n",
    "# Get potential energy\n",
    "*Get potential energy.*\n",
    "\n",
    "The function {func}`molsysmt.molecular_mecanics.potential_energy_minimization` allows us to ..."
   ]
  },
  {
   "cell_type": "code",
   "execution_count": 2,
   "id": "4485ea28-ee22-4550-adc1-e5f817575ab9",
   "metadata": {
    "tags": []
   },
   "outputs": [
    {
     "data": {
      "application/vnd.jupyter.widget-view+json": {
       "model_id": "cf9305df0a2241a294bfc66c744c943f",
       "version_major": 2,
       "version_minor": 0
      },
      "text/plain": []
     },
     "metadata": {},
     "output_type": "display_data"
    }
   ],
   "source": [
    "import molsysmt as msm"
   ]
  },
  {
   "cell_type": "code",
   "execution_count": 3,
   "id": "42b77409-d419-44e3-8502-a7af7cdee043",
   "metadata": {},
   "outputs": [],
   "source": [
    "molecular_system = msm.convert(msm.systems.demo['Barnase-Barstar']['barnase_barstar.msmpk'])"
   ]
  },
  {
   "cell_type": "code",
   "execution_count": 5,
   "id": "31b81f82-4c43-4f3f-ac05-072084782bda",
   "metadata": {},
   "outputs": [
    {
     "data": {
      "text/html": [
       "<style type=\"text/css\">\n",
       "</style>\n",
       "<table id=\"T_7432e\">\n",
       "  <thead>\n",
       "    <tr>\n",
       "      <th id=\"T_7432e_level0_col0\" class=\"col_heading level0 col0\" >index</th>\n",
       "      <th id=\"T_7432e_level0_col1\" class=\"col_heading level0 col1\" >name</th>\n",
       "      <th id=\"T_7432e_level0_col2\" class=\"col_heading level0 col2\" >type</th>\n",
       "      <th id=\"T_7432e_level0_col3\" class=\"col_heading level0 col3\" >n atoms</th>\n",
       "      <th id=\"T_7432e_level0_col4\" class=\"col_heading level0 col4\" >n groups</th>\n",
       "      <th id=\"T_7432e_level0_col5\" class=\"col_heading level0 col5\" >n components</th>\n",
       "      <th id=\"T_7432e_level0_col6\" class=\"col_heading level0 col6\" >chain index</th>\n",
       "      <th id=\"T_7432e_level0_col7\" class=\"col_heading level0 col7\" >entity index</th>\n",
       "      <th id=\"T_7432e_level0_col8\" class=\"col_heading level0 col8\" >entity name</th>\n",
       "    </tr>\n",
       "  </thead>\n",
       "  <tbody>\n",
       "    <tr>\n",
       "      <td id=\"T_7432e_row0_col0\" class=\"data row0 col0\" >0</td>\n",
       "      <td id=\"T_7432e_row0_col1\" class=\"data row0 col1\" >Barnase</td>\n",
       "      <td id=\"T_7432e_row0_col2\" class=\"data row0 col2\" >protein</td>\n",
       "      <td id=\"T_7432e_row0_col3\" class=\"data row0 col3\" >1727</td>\n",
       "      <td id=\"T_7432e_row0_col4\" class=\"data row0 col4\" >110</td>\n",
       "      <td id=\"T_7432e_row0_col5\" class=\"data row0 col5\" >1</td>\n",
       "      <td id=\"T_7432e_row0_col6\" class=\"data row0 col6\" >0</td>\n",
       "      <td id=\"T_7432e_row0_col7\" class=\"data row0 col7\" >0</td>\n",
       "      <td id=\"T_7432e_row0_col8\" class=\"data row0 col8\" >Barnase</td>\n",
       "    </tr>\n",
       "    <tr>\n",
       "      <td id=\"T_7432e_row1_col0\" class=\"data row1 col0\" >1</td>\n",
       "      <td id=\"T_7432e_row1_col1\" class=\"data row1 col1\" >Barstar</td>\n",
       "      <td id=\"T_7432e_row1_col2\" class=\"data row1 col2\" >protein</td>\n",
       "      <td id=\"T_7432e_row1_col3\" class=\"data row1 col3\" >1432</td>\n",
       "      <td id=\"T_7432e_row1_col4\" class=\"data row1 col4\" >89</td>\n",
       "      <td id=\"T_7432e_row1_col5\" class=\"data row1 col5\" >1</td>\n",
       "      <td id=\"T_7432e_row1_col6\" class=\"data row1 col6\" >1</td>\n",
       "      <td id=\"T_7432e_row1_col7\" class=\"data row1 col7\" >1</td>\n",
       "      <td id=\"T_7432e_row1_col8\" class=\"data row1 col8\" >Barstar</td>\n",
       "    </tr>\n",
       "  </tbody>\n",
       "</table>\n"
      ],
      "text/plain": [
       "<pandas.io.formats.style.Styler at 0x7f52ae5b62f0>"
      ]
     },
     "execution_count": 5,
     "metadata": {},
     "output_type": "execute_result"
    }
   ],
   "source": [
    "msm.info(molecular_system, element='molecule')"
   ]
  },
  {
   "cell_type": "code",
   "execution_count": 6,
   "id": "e4c13b69-7511-45e4-8a1a-8703dab955c2",
   "metadata": {},
   "outputs": [
    {
     "ename": "ImportError",
     "evalue": "cannot import name 'is_molsysmt_MolecularMechanicsDict' from 'molsysmt.form.molsysmt_MolecularMechanicsDict' (/home/diego/projects@uibcdf/MolSysMT/molsysmt/form/molsysmt_MolecularMechanicsDict/__init__.py)",
     "output_type": "error",
     "traceback": [
      "\u001b[0;31m---------------------------------------------------------------------------\u001b[0m",
      "\u001b[0;31mImportError\u001b[0m                               Traceback (most recent call last)",
      "Cell \u001b[0;32mIn[6], line 1\u001b[0m\n\u001b[0;32m----> 1\u001b[0m \u001b[43mmsm\u001b[49m\u001b[38;5;241;43m.\u001b[39;49m\u001b[43mmolecular_mechanics\u001b[49m\u001b[38;5;241;43m.\u001b[39;49m\u001b[43mget_potential_energy\u001b[49m\u001b[43m(\u001b[49m\u001b[43mmolecular_system\u001b[49m\u001b[43m)\u001b[49m\n",
      "File \u001b[0;32m~/projects@uibcdf/MolSysMT/molsysmt/_private/digestion/digest.py:106\u001b[0m, in \u001b[0;36mdigest.<locals>.digestor.<locals>.wrapper\u001b[0;34m(*args, **kwargs)\u001b[0m\n\u001b[1;32m    103\u001b[0m     \u001b[38;5;28;01mpass\u001b[39;00m\n\u001b[1;32m    105\u001b[0m \u001b[38;5;28;01mfor\u001b[39;00m arg_name \u001b[38;5;129;01min\u001b[39;00m all_args:\n\u001b[0;32m--> 106\u001b[0m     \u001b[43mgut\u001b[49m\u001b[43m(\u001b[49m\u001b[43marg_name\u001b[49m\u001b[43m)\u001b[49m\n\u001b[1;32m    108\u001b[0m \u001b[38;5;28;01mfor\u001b[39;00m arg_name \u001b[38;5;129;01min\u001b[39;00m not_digested_args:\n\u001b[1;32m    109\u001b[0m     \u001b[38;5;28;01mif\u001b[39;00m arg_name \u001b[38;5;129;01mnot\u001b[39;00m \u001b[38;5;129;01min\u001b[39;00m [\u001b[38;5;124m'\u001b[39m\u001b[38;5;124mself\u001b[39m\u001b[38;5;124m'\u001b[39m]:\n",
      "File \u001b[0;32m~/projects@uibcdf/MolSysMT/molsysmt/_private/digestion/digest.py:98\u001b[0m, in \u001b[0;36mdigest.<locals>.digestor.<locals>.wrapper.<locals>.gut\u001b[0;34m(arg_name)\u001b[0m\n\u001b[1;32m     96\u001b[0m         \u001b[38;5;28;01melse\u001b[39;00m:\n\u001b[1;32m     97\u001b[0m             parameters_dict[parameter] \u001b[38;5;241m=\u001b[39m \u001b[38;5;28;01mNone\u001b[39;00m\n\u001b[0;32m---> 98\u001b[0m     digested_args[arg_name] \u001b[38;5;241m=\u001b[39m \u001b[43mdigestion_functions\u001b[49m\u001b[43m[\u001b[49m\u001b[43marg_name\u001b[49m\u001b[43m]\u001b[49m\u001b[43m(\u001b[49m\u001b[43mall_args\u001b[49m\u001b[43m[\u001b[49m\u001b[43marg_name\u001b[49m\u001b[43m]\u001b[49m\u001b[43m,\u001b[49m\n\u001b[1;32m     99\u001b[0m \u001b[43m                                                  \u001b[49m\u001b[43mcaller\u001b[49m\u001b[38;5;241;43m=\u001b[39;49m\u001b[43mcaller\u001b[49m\u001b[43m,\u001b[49m\n\u001b[1;32m    100\u001b[0m \u001b[43m                                                  \u001b[49m\u001b[38;5;241;43m*\u001b[39;49m\u001b[38;5;241;43m*\u001b[39;49m\u001b[43mparameters_dict\u001b[49m\u001b[43m)\u001b[49m\n\u001b[1;32m    101\u001b[0m \u001b[38;5;28;01melse\u001b[39;00m:\n\u001b[1;32m    102\u001b[0m     not_digested_args[arg_name] \u001b[38;5;241m=\u001b[39m all_args[arg_name]\n",
      "File \u001b[0;32m~/projects@uibcdf/MolSysMT/molsysmt/_private/digestion/argument/molecular_mechanics.py:6\u001b[0m, in \u001b[0;36mdigest_molecular_mechanics\u001b[0;34m(molecular_mechanics, caller)\u001b[0m\n\u001b[1;32m      3\u001b[0m \u001b[38;5;28;01mdef\u001b[39;00m \u001b[38;5;21mdigest_molecular_mechanics\u001b[39m(molecular_mechanics, caller\u001b[38;5;241m=\u001b[39m\u001b[38;5;28;01mNone\u001b[39;00m):\n\u001b[1;32m      5\u001b[0m     \u001b[38;5;28;01mif\u001b[39;00m \u001b[38;5;28misinstance\u001b[39m(molecular_mechanics, \u001b[38;5;28mdict\u001b[39m):\n\u001b[0;32m----> 6\u001b[0m         \u001b[38;5;28;01mfrom\u001b[39;00m \u001b[38;5;21;01mmolsysmt\u001b[39;00m\u001b[38;5;21;01m.\u001b[39;00m\u001b[38;5;21;01mform\u001b[39;00m\u001b[38;5;21;01m.\u001b[39;00m\u001b[38;5;21;01mmolsysmt_MolecularMechanicsDict\u001b[39;00m \u001b[38;5;28;01mimport\u001b[39;00m is_molsysmt_MolecularMechanicsDict\n\u001b[1;32m      7\u001b[0m         \u001b[38;5;28;01mif\u001b[39;00m is_molsysmt_MolecularMechanicsDict(molecular_mechanics):\n\u001b[1;32m      8\u001b[0m             \u001b[38;5;28;01mreturn\u001b[39;00m molecular_mechanics\n",
      "\u001b[0;31mImportError\u001b[0m: cannot import name 'is_molsysmt_MolecularMechanicsDict' from 'molsysmt.form.molsysmt_MolecularMechanicsDict' (/home/diego/projects@uibcdf/MolSysMT/molsysmt/form/molsysmt_MolecularMechanicsDict/__init__.py)"
     ]
    }
   ],
   "source": [
    "msm.molecular_mechanics.get_potential_energy(molecular_system)"
   ]
  },
  {
   "cell_type": "code",
   "execution_count": null,
   "id": "dc7a9e06-3d6c-4629-8133-f5e4c4d6f63e",
   "metadata": {},
   "outputs": [],
   "source": []
  }
 ],
 "metadata": {
  "kernelspec": {
   "display_name": "Python 3 (ipykernel)",
   "language": "python",
   "name": "python3"
  },
  "language_info": {
   "codemirror_mode": {
    "name": "ipython",
    "version": 3
   },
   "file_extension": ".py",
   "mimetype": "text/x-python",
   "name": "python",
   "nbconvert_exporter": "python",
   "pygments_lexer": "ipython3",
   "version": "3.10.12"
  }
 },
 "nbformat": 4,
 "nbformat_minor": 5
}
