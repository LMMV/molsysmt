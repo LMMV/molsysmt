{
 "cells": [
  {
   "cell_type": "code",
   "execution_count": 1,
   "id": "e6d5ef73-cc17-436f-8448-befa68962d6d",
   "metadata": {
    "tags": [
     "remove-input"
    ]
   },
   "outputs": [],
   "source": [
    "# This cell is removed with the tag: \"remove-input\"\n",
    "# As such, it will not be shown in documentation\n",
    "\n",
    "import warnings\n",
    "warnings.filterwarnings('ignore')"
   ]
  },
  {
   "cell_type": "markdown",
   "id": "324976fb-e171-4aa9-bb51-64aa306219af",
   "metadata": {
    "tags": [
     "remove-input"
    ]
   },
   "source": [
    "\n",
    "# Get potential energy\n",
    "*Get potential energy.*\n",
    "\n",
    "The function {func}`molsysmt.molecular_mecanics.potential_energy_minimization` allows us to ..."
   ]
  },
  {
   "cell_type": "code",
   "execution_count": 2,
   "id": "4485ea28-ee22-4550-adc1-e5f817575ab9",
   "metadata": {
    "tags": []
   },
   "outputs": [
    {
     "data": {
      "application/vnd.jupyter.widget-view+json": {
       "model_id": "d797bce0478b4e9eb0c9c4b4f4224689",
       "version_major": 2,
       "version_minor": 0
      },
      "text/plain": []
     },
     "metadata": {},
     "output_type": "display_data"
    }
   ],
   "source": [
    "import molsysmt as msm"
   ]
  },
  {
   "cell_type": "code",
   "execution_count": 3,
   "id": "42b77409-d419-44e3-8502-a7af7cdee043",
   "metadata": {},
   "outputs": [],
   "source": [
    "molecular_system = msm.convert(msm.systems['Barnase-Barstar']['barnase_barstar.h5msm'])"
   ]
  },
  {
   "cell_type": "code",
   "execution_count": 4,
   "id": "31b81f82-4c43-4f3f-ac05-072084782bda",
   "metadata": {},
   "outputs": [
    {
     "data": {
      "text/html": [
       "<style type=\"text/css\">\n",
       "</style>\n",
       "<table id=\"T_c3607\">\n",
       "  <thead>\n",
       "    <tr>\n",
       "      <th id=\"T_c3607_level0_col0\" class=\"col_heading level0 col0\" >index</th>\n",
       "      <th id=\"T_c3607_level0_col1\" class=\"col_heading level0 col1\" >name</th>\n",
       "      <th id=\"T_c3607_level0_col2\" class=\"col_heading level0 col2\" >type</th>\n",
       "      <th id=\"T_c3607_level0_col3\" class=\"col_heading level0 col3\" >n atoms</th>\n",
       "      <th id=\"T_c3607_level0_col4\" class=\"col_heading level0 col4\" >n groups</th>\n",
       "      <th id=\"T_c3607_level0_col5\" class=\"col_heading level0 col5\" >n components</th>\n",
       "      <th id=\"T_c3607_level0_col6\" class=\"col_heading level0 col6\" >chain index</th>\n",
       "      <th id=\"T_c3607_level0_col7\" class=\"col_heading level0 col7\" >entity index</th>\n",
       "      <th id=\"T_c3607_level0_col8\" class=\"col_heading level0 col8\" >entity name</th>\n",
       "    </tr>\n",
       "  </thead>\n",
       "  <tbody>\n",
       "    <tr>\n",
       "      <td id=\"T_c3607_row0_col0\" class=\"data row0 col0\" >0</td>\n",
       "      <td id=\"T_c3607_row0_col1\" class=\"data row0 col1\" >BARNASE</td>\n",
       "      <td id=\"T_c3607_row0_col2\" class=\"data row0 col2\" >protein</td>\n",
       "      <td id=\"T_c3607_row0_col3\" class=\"data row0 col3\" >1727</td>\n",
       "      <td id=\"T_c3607_row0_col4\" class=\"data row0 col4\" >110</td>\n",
       "      <td id=\"T_c3607_row0_col5\" class=\"data row0 col5\" >1</td>\n",
       "      <td id=\"T_c3607_row0_col6\" class=\"data row0 col6\" >0</td>\n",
       "      <td id=\"T_c3607_row0_col7\" class=\"data row0 col7\" >0</td>\n",
       "      <td id=\"T_c3607_row0_col8\" class=\"data row0 col8\" >BARNASE</td>\n",
       "    </tr>\n",
       "    <tr>\n",
       "      <td id=\"T_c3607_row1_col0\" class=\"data row1 col0\" >1</td>\n",
       "      <td id=\"T_c3607_row1_col1\" class=\"data row1 col1\" >BARSTAR</td>\n",
       "      <td id=\"T_c3607_row1_col2\" class=\"data row1 col2\" >protein</td>\n",
       "      <td id=\"T_c3607_row1_col3\" class=\"data row1 col3\" >1432</td>\n",
       "      <td id=\"T_c3607_row1_col4\" class=\"data row1 col4\" >89</td>\n",
       "      <td id=\"T_c3607_row1_col5\" class=\"data row1 col5\" >1</td>\n",
       "      <td id=\"T_c3607_row1_col6\" class=\"data row1 col6\" >0</td>\n",
       "      <td id=\"T_c3607_row1_col7\" class=\"data row1 col7\" >1</td>\n",
       "      <td id=\"T_c3607_row1_col8\" class=\"data row1 col8\" >BARSTAR</td>\n",
       "    </tr>\n",
       "  </tbody>\n",
       "</table>\n"
      ],
      "text/plain": [
       "<pandas.io.formats.style.Styler at 0x73f27208fa40>"
      ]
     },
     "execution_count": 4,
     "metadata": {},
     "output_type": "execute_result"
    }
   ],
   "source": [
    "msm.info(molecular_system, element='molecule')"
   ]
  },
  {
   "cell_type": "code",
   "execution_count": 5,
   "id": "e4c13b69-7511-45e4-8a1a-8703dab955c2",
   "metadata": {},
   "outputs": [
    {
     "data": {
      "text/html": [
       "-24849.14865698867 kilojoule/mole"
      ],
      "text/latex": [
       "$-24849.14865698867\\ \\frac{\\mathrm{kilojoule}}{\\mathrm{mole}}$"
      ],
      "text/plain": [
       "<Quantity(-24849.1487, 'kilojoule / mole')>"
      ]
     },
     "execution_count": 5,
     "metadata": {},
     "output_type": "execute_result"
    }
   ],
   "source": [
    "msm.molecular_mechanics.get_potential_energy(molecular_system)"
   ]
  },
  {
   "cell_type": "code",
   "execution_count": 6,
   "id": "dc7a9e06-3d6c-4629-8133-f5e4c4d6f63e",
   "metadata": {},
   "outputs": [
    {
     "data": {
      "text/plain": [
       "{'HarmonicBondForce': <Quantity(415.037861, 'kilojoule / mole')>,\n",
       " 'NonbondedForce': <Quantity(-36491.478, 'kilojoule / mole')>,\n",
       " 'PeriodicTorsionForce': <Quantity(9505.50327, 'kilojoule / mole')>,\n",
       " 'CMMotionRemover': <Quantity(0.0, 'kilojoule / mole')>,\n",
       " 'HarmonicAngleForce': <Quantity(1721.78817, 'kilojoule / mole')>}"
      ]
     },
     "execution_count": 6,
     "metadata": {},
     "output_type": "execute_result"
    }
   ],
   "source": [
    "msm.molecular_mechanics.get_potential_energy(molecular_system, decomposition=True)"
   ]
  },
  {
   "cell_type": "code",
   "execution_count": 7,
   "id": "80169c12-40f8-43b1-957d-2925dcb59ba0",
   "metadata": {},
   "outputs": [
    {
     "data": {
      "text/plain": [
       "{'HarmonicBondForce': <Quantity(232.56631, 'kilojoule / mole')>,\n",
       " 'NonbondedForce': <Quantity(-19265.496, 'kilojoule / mole')>,\n",
       " 'PeriodicTorsionForce': <Quantity(5124.04774, 'kilojoule / mole')>,\n",
       " 'CMMotionRemover': <Quantity(0.0, 'kilojoule / mole')>,\n",
       " 'HarmonicAngleForce': <Quantity(954.717869, 'kilojoule / mole')>}"
      ]
     },
     "execution_count": 7,
     "metadata": {},
     "output_type": "execute_result"
    }
   ],
   "source": [
    "msm.molecular_mechanics.get_potential_energy(molecular_system, selection='molecule_name==\"BARNASE\"', decomposition=True)"
   ]
  },
  {
   "cell_type": "code",
   "execution_count": 11,
   "id": "93cea804-b9c1-4506-8d09-c62a0817ab34",
   "metadata": {},
   "outputs": [
    {
     "data": {
      "text/plain": [
       "{'HarmonicBondForce': <Quantity(182.471551, 'kilojoule / mole')>,\n",
       " 'NonbondedForce': <Quantity(-14040.2096, 'kilojoule / mole')>,\n",
       " 'PeriodicTorsionForce': <Quantity(4381.45553, 'kilojoule / mole')>,\n",
       " 'CMMotionRemover': <Quantity(0.0, 'kilojoule / mole')>,\n",
       " 'HarmonicAngleForce': <Quantity(767.070299, 'kilojoule / mole')>}"
      ]
     },
     "execution_count": 11,
     "metadata": {},
     "output_type": "execute_result"
    }
   ],
   "source": [
    "msm.molecular_mechanics.get_potential_energy(molecular_system, selection='molecule_name==\"BARSTAR\"', decomposition=True)"
   ]
  },
  {
   "cell_type": "code",
   "execution_count": null,
   "id": "a0caf157-afe1-4045-b082-d1ae31d9e780",
   "metadata": {},
   "outputs": [],
   "source": []
  }
 ],
 "metadata": {
  "kernelspec": {
   "display_name": "Python 3 (ipykernel)",
   "language": "python",
   "name": "python3"
  },
  "language_info": {
   "codemirror_mode": {
    "name": "ipython",
    "version": 3
   },
   "file_extension": ".py",
   "mimetype": "text/x-python",
   "name": "python",
   "nbconvert_exporter": "python",
   "pygments_lexer": "ipython3",
   "version": "3.12.8"
  }
 },
 "nbformat": 4,
 "nbformat_minor": 5
}
