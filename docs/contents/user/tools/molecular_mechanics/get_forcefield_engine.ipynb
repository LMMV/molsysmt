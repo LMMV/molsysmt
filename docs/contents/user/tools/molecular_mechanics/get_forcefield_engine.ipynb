{
 "cells": [
  {
   "cell_type": "markdown",
   "id": "63137e17-5e09-4cbc-bb08-7778d1b08a28",
   "metadata": {},
   "source": [
    "# Get forcefield engine"
   ]
  },
  {
   "cell_type": "code",
   "execution_count": 1,
   "id": "c62c1b47-76a6-42c0-85d8-2f54980d44ef",
   "metadata": {},
   "outputs": [
    {
     "data": {
      "application/vnd.jupyter.widget-view+json": {
       "model_id": "6967645e249e4ac280da0f0c01a77a2c",
       "version_major": 2,
       "version_minor": 0
      },
      "text/plain": []
     },
     "metadata": {},
     "output_type": "display_data"
    }
   ],
   "source": [
    "import molsysmt as msm"
   ]
  },
  {
   "cell_type": "code",
   "execution_count": 2,
   "id": "62866590-1ae0-4493-9b7a-c105348189cf",
   "metadata": {},
   "outputs": [
    {
     "data": {
      "text/plain": [
       "['amber14-all.xml']"
      ]
     },
     "execution_count": 2,
     "metadata": {},
     "output_type": "execute_result"
    }
   ],
   "source": [
    "msm.molecular_mechanics.get_engine_forcefield('AMBER14', engine='OpenMM')"
   ]
  },
  {
   "cell_type": "code",
   "execution_count": 3,
   "id": "fd9bc2b2-c8a3-42ad-af3d-cdda3c70da81",
   "metadata": {},
   "outputs": [
    {
     "data": {
      "text/plain": [
       "['amber14-all.xml', 'amber14/tip3p.xml']"
      ]
     },
     "execution_count": 3,
     "metadata": {},
     "output_type": "execute_result"
    }
   ],
   "source": [
    "msm.molecular_mechanics.get_engine_forcefield('AMBER14', water_model='TIP3P', engine='OpenMM')"
   ]
  },
  {
   "cell_type": "code",
   "execution_count": null,
   "id": "0873f349-4035-4f86-b012-0cd3447c3614",
   "metadata": {},
   "outputs": [],
   "source": []
  }
 ],
 "metadata": {
  "kernelspec": {
   "display_name": "Python 3 (ipykernel)",
   "language": "python",
   "name": "python3"
  },
  "language_info": {
   "codemirror_mode": {
    "name": "ipython",
    "version": 3
   },
   "file_extension": ".py",
   "mimetype": "text/x-python",
   "name": "python",
   "nbconvert_exporter": "python",
   "pygments_lexer": "ipython3",
   "version": "3.12.8"
  }
 },
 "nbformat": 4,
 "nbformat_minor": 5
}
