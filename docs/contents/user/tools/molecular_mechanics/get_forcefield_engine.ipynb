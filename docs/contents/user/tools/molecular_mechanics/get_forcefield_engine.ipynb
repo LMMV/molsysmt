{
 "cells": [
  {
   "cell_type": "markdown",
   "id": "63137e17-5e09-4cbc-bb08-7778d1b08a28",
   "metadata": {},
   "source": [
    "# Get forcefield engine"
   ]
  },
  {
   "cell_type": "code",
   "execution_count": 1,
   "id": "c62c1b47-76a6-42c0-85d8-2f54980d44ef",
   "metadata": {
    "execution": {
     "iopub.execute_input": "2025-03-11T21:08:11.000504Z",
     "iopub.status.busy": "2025-03-11T21:08:11.000141Z",
     "iopub.status.idle": "2025-03-11T21:08:20.100083Z",
     "shell.execute_reply": "2025-03-11T21:08:20.098947Z"
    }
   },
   "outputs": [
    {
     "data": {
      "application/vnd.jupyter.widget-view+json": {
       "model_id": "9b65daad988d4a33ac28c0237fb6e78c",
       "version_major": 2,
       "version_minor": 0
      },
      "text/plain": []
     },
     "metadata": {},
     "output_type": "display_data"
    }
   ],
   "source": [
    "import molsysmt as msm"
   ]
  },
  {
   "cell_type": "code",
   "execution_count": 2,
   "id": "62866590-1ae0-4493-9b7a-c105348189cf",
   "metadata": {
    "execution": {
     "iopub.execute_input": "2025-03-11T21:08:20.105700Z",
     "iopub.status.busy": "2025-03-11T21:08:20.104350Z",
     "iopub.status.idle": "2025-03-11T21:08:20.120325Z",
     "shell.execute_reply": "2025-03-11T21:08:20.118236Z"
    }
   },
   "outputs": [
    {
     "data": {
      "text/plain": [
       "['amber14-all.xml']"
      ]
     },
     "execution_count": 2,
     "metadata": {},
     "output_type": "execute_result"
    }
   ],
   "source": [
    "msm.molecular_mechanics.get_engine_forcefield('AMBER14', engine='OpenMM')"
   ]
  },
  {
   "cell_type": "code",
   "execution_count": 3,
   "id": "fd9bc2b2-c8a3-42ad-af3d-cdda3c70da81",
   "metadata": {
    "execution": {
     "iopub.execute_input": "2025-03-11T21:08:20.124221Z",
     "iopub.status.busy": "2025-03-11T21:08:20.123637Z",
     "iopub.status.idle": "2025-03-11T21:08:20.134026Z",
     "shell.execute_reply": "2025-03-11T21:08:20.132442Z"
    }
   },
   "outputs": [
    {
     "data": {
      "text/plain": [
       "['amber14-all.xml', 'amber14/tip3p.xml']"
      ]
     },
     "execution_count": 3,
     "metadata": {},
     "output_type": "execute_result"
    }
   ],
   "source": [
    "msm.molecular_mechanics.get_engine_forcefield('AMBER14', water_model='TIP3P', engine='OpenMM')"
   ]
  },
  {
   "cell_type": "code",
   "execution_count": null,
   "id": "0873f349-4035-4f86-b012-0cd3447c3614",
   "metadata": {},
   "outputs": [],
   "source": []
  }
 ],
 "metadata": {
  "kernelspec": {
   "display_name": "Python 3 (ipykernel)",
   "language": "python",
   "name": "python3"
  },
  "language_info": {
   "codemirror_mode": {
    "name": "ipython",
    "version": 3
   },
   "file_extension": ".py",
   "mimetype": "text/x-python",
   "name": "python",
   "nbconvert_exporter": "python",
   "pygments_lexer": "ipython3",
   "version": "3.12.8"
  },
  "widgets": {
   "application/vnd.jupyter.widget-state+json": {
    "state": {
     "352413a30ec34ab9b436285b29240ab4": {
      "model_module": "@jupyter-widgets/base",
      "model_module_version": "2.0.0",
      "model_name": "LayoutModel",
      "state": {
       "_model_module": "@jupyter-widgets/base",
       "_model_module_version": "2.0.0",
       "_model_name": "LayoutModel",
       "_view_count": null,
       "_view_module": "@jupyter-widgets/base",
       "_view_module_version": "2.0.0",
       "_view_name": "LayoutView",
       "align_content": null,
       "align_items": null,
       "align_self": null,
       "border_bottom": null,
       "border_left": null,
       "border_right": null,
       "border_top": null,
       "bottom": null,
       "display": null,
       "flex": null,
       "flex_flow": null,
       "grid_area": null,
       "grid_auto_columns": null,
       "grid_auto_flow": null,
       "grid_auto_rows": null,
       "grid_column": null,
       "grid_gap": null,
       "grid_row": null,
       "grid_template_areas": null,
       "grid_template_columns": null,
       "grid_template_rows": null,
       "height": null,
       "justify_content": null,
       "justify_items": null,
       "left": null,
       "margin": null,
       "max_height": null,
       "max_width": null,
       "min_height": null,
       "min_width": null,
       "object_fit": null,
       "object_position": null,
       "order": null,
       "overflow": null,
       "padding": null,
       "right": null,
       "top": null,
       "visibility": null,
       "width": null
      }
     },
     "9b65daad988d4a33ac28c0237fb6e78c": {
      "model_module": "nglview-js-widgets",
      "model_module_version": "3.1.4",
      "model_name": "ColormakerRegistryModel",
      "state": {
       "_dom_classes": [],
       "_model_module": "nglview-js-widgets",
       "_model_module_version": "3.1.4",
       "_model_name": "ColormakerRegistryModel",
       "_msg_ar": [],
       "_msg_q": [],
       "_ready": false,
       "_view_count": null,
       "_view_module": "nglview-js-widgets",
       "_view_module_version": "3.1.4",
       "_view_name": "ColormakerRegistryView",
       "layout": "IPY_MODEL_352413a30ec34ab9b436285b29240ab4",
       "tabbable": null,
       "tooltip": null
      }
     }
    },
    "version_major": 2,
    "version_minor": 0
   }
  }
 },
 "nbformat": 4,
 "nbformat_minor": 5
}
