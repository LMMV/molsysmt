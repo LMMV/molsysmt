{
 "cells": [
  {
   "cell_type": "code",
   "execution_count": 1,
   "id": "7025f024-5127-4f83-8711-c0cb9e8bf256",
   "metadata": {},
   "outputs": [
    {
     "data": {
      "application/vnd.jupyter.widget-view+json": {
       "model_id": "7e66b0cfee1a4f6299ead6be4e0c5bcb",
       "version_major": 2,
       "version_minor": 0
      },
      "text/plain": []
     },
     "metadata": {},
     "output_type": "display_data"
    }
   ],
   "source": [
    "import molsysmt as msm\n",
    "import os\n",
    "import shutil\n",
    "from pathlib import Path\n",
    "import numpy as np"
   ]
  },
  {
   "cell_type": "code",
   "execution_count": 2,
   "id": "8f72d051-1dd3-4df7-b29f-5e77b83e25e0",
   "metadata": {},
   "outputs": [],
   "source": [
    "molecular_system = msm.convert('1BRS')\n",
    "molecular_system = msm.extract(molecular_system, selection='molecule_type==\"protein\"')\n",
    "barnase = msm.extract(molecular_system, selection=\"chain_name=='B'\")\n",
    "barstar_E = msm.extract(molecular_system, selection=\"chain_name=='E'\")\n",
    "barstar_F = msm.extract(molecular_system, selection=\"chain_name=='F'\")"
   ]
  },
  {
   "cell_type": "code",
   "execution_count": 3,
   "id": "eb4aa5bb-569c-4937-b5a8-81eea2ffb823",
   "metadata": {},
   "outputs": [],
   "source": [
    "barstar_F_over_E = msm.structure.least_rmsd_align(barstar_F, selection='atom_name==\"CA\"',\n",
    "                                                  reference_molecular_system=barstar_E,\n",
    "                                                  reference_selection='atom_name==\"CA\"')"
   ]
  },
  {
   "cell_type": "code",
   "execution_count": 4,
   "id": "c67d0b16-21af-40fb-9f97-1a28719042db",
   "metadata": {},
   "outputs": [],
   "source": [
    "barnase_barstar = msm.merge([barnase, barstar_F_over_E])"
   ]
  },
  {
   "cell_type": "code",
   "execution_count": 5,
   "id": "603a2583-c0ad-4bfc-b615-21135008e444",
   "metadata": {},
   "outputs": [],
   "source": [
    "barnase_barstar = msm.build.add_missing_heavy_atoms(barnase_barstar)"
   ]
  },
  {
   "cell_type": "code",
   "execution_count": 10,
   "id": "259e1cb1-d143-460e-8f48-57ce73e51e40",
   "metadata": {},
   "outputs": [],
   "source": [
    "barnase_barstar = msm.build.add_missing_hydrogens(barnase_barstar, pH=7.4)"
   ]
  },
  {
   "cell_type": "code",
   "execution_count": 11,
   "id": "3c85ee7c-6bf4-405c-9a91-761b52378339",
   "metadata": {},
   "outputs": [],
   "source": [
    "msm.molecular_mechanics.potential_energy_minimization(barnase_barstar, in_place=True)"
   ]
  },
  {
   "cell_type": "code",
   "execution_count": null,
   "id": "63d7ccde-fbf3-4702-9214-04ae90d952d9",
   "metadata": {},
   "outputs": [],
   "source": [
    "_ = msm.convert(barnase_barstar, to_form='barnase_barstar.pdb')\n",
    "_ = msm.convert(barnase_barstar, to_form='barnase_barstar.h5msm')"
   ]
  }
 ],
 "metadata": {
  "kernelspec": {
   "display_name": "Python 3 (ipykernel)",
   "language": "python",
   "name": "python3"
  },
  "language_info": {
   "codemirror_mode": {
    "name": "ipython",
    "version": 3
   },
   "file_extension": ".py",
   "mimetype": "text/x-python",
   "name": "python",
   "nbconvert_exporter": "python",
   "pygments_lexer": "ipython3",
   "version": "3.10.14"
  }
 },
 "nbformat": 4,
 "nbformat_minor": 5
}
