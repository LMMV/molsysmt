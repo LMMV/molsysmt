{
 "cells": [
  {
   "cell_type": "code",
   "execution_count": 1,
   "id": "7025f024-5127-4f83-8711-c0cb9e8bf256",
   "metadata": {},
   "outputs": [
    {
     "data": {
      "application/vnd.jupyter.widget-view+json": {
       "model_id": "6cfcfe29d4dc455b8a085421b41f19b9",
       "version_major": 2,
       "version_minor": 0
      },
      "text/plain": []
     },
     "metadata": {},
     "output_type": "display_data"
    }
   ],
   "source": [
    "import molsysmt as msm\n",
    "import os\n",
    "import shutil\n",
    "from pathlib import Path\n",
    "import numpy as np"
   ]
  },
  {
   "cell_type": "code",
   "execution_count": 2,
   "id": "8f72d051-1dd3-4df7-b29f-5e77b83e25e0",
   "metadata": {},
   "outputs": [],
   "source": [
    "molecular_system = msm.convert('1BRS')\n",
    "molecular_system = msm.extract(molecular_system, selection='molecule_type==\"protein\"')\n",
    "barnase = msm.extract(molecular_system, selection=\"chain_name=='B'\")\n",
    "barstar_E = msm.extract(molecular_system, selection=\"chain_name=='E'\")\n",
    "barstar_F = msm.extract(molecular_system, selection=\"chain_name=='F'\")"
   ]
  },
  {
   "cell_type": "code",
   "execution_count": 3,
   "id": "eb4aa5bb-569c-4937-b5a8-81eea2ffb823",
   "metadata": {},
   "outputs": [],
   "source": [
    "barstar_F_over_E = msm.structure.least_rmsd_align(barstar_F, selection='atom_name==\"CA\"',\n",
    "                                                  reference_molecular_system=barstar_E,\n",
    "                                                  reference_selection='atom_name==\"CA\"')"
   ]
  },
  {
   "cell_type": "code",
   "execution_count": 4,
   "id": "c67d0b16-21af-40fb-9f97-1a28719042db",
   "metadata": {},
   "outputs": [],
   "source": [
    "barnase_barstar = msm.merge([barnase, barstar_F_over_E])"
   ]
  },
  {
   "cell_type": "code",
   "execution_count": 5,
   "id": "603a2583-c0ad-4bfc-b615-21135008e444",
   "metadata": {},
   "outputs": [],
   "source": [
    "barnase_barstar = msm.build.add_missing_heavy_atoms(barnase_barstar)"
   ]
  },
  {
   "cell_type": "code",
   "execution_count": 6,
   "id": "d5790ea9-7676-43bb-bd43-9a8a1a82e7ac",
   "metadata": {},
   "outputs": [
    {
     "name": "stdout",
     "output_type": "stream",
     "text": [
      "1 0 0\n",
      "['openmm.Topology']\n",
      "[]\n",
      "[]\n"
     ]
    },
    {
     "data": {
      "text/html": [
       "<style type=\"text/css\">\n",
       "</style>\n",
       "<table id=\"T_8780c\">\n",
       "  <thead>\n",
       "    <tr>\n",
       "      <th id=\"T_8780c_level0_col0\" class=\"col_heading level0 col0\" >form</th>\n",
       "      <th id=\"T_8780c_level0_col1\" class=\"col_heading level0 col1\" >n_atoms</th>\n",
       "      <th id=\"T_8780c_level0_col2\" class=\"col_heading level0 col2\" >n_groups</th>\n",
       "      <th id=\"T_8780c_level0_col3\" class=\"col_heading level0 col3\" >n_components</th>\n",
       "      <th id=\"T_8780c_level0_col4\" class=\"col_heading level0 col4\" >n_chains</th>\n",
       "      <th id=\"T_8780c_level0_col5\" class=\"col_heading level0 col5\" >n_molecules</th>\n",
       "      <th id=\"T_8780c_level0_col6\" class=\"col_heading level0 col6\" >n_entities</th>\n",
       "      <th id=\"T_8780c_level0_col7\" class=\"col_heading level0 col7\" >n_proteins</th>\n",
       "      <th id=\"T_8780c_level0_col8\" class=\"col_heading level0 col8\" >n_structures</th>\n",
       "    </tr>\n",
       "  </thead>\n",
       "  <tbody>\n",
       "    <tr>\n",
       "      <td id=\"T_8780c_row0_col0\" class=\"data row0 col0\" >pdbfixer.PDBFixer</td>\n",
       "      <td id=\"T_8780c_row0_col1\" class=\"data row0 col1\" >1596</td>\n",
       "      <td id=\"T_8780c_row0_col2\" class=\"data row0 col2\" >199</td>\n",
       "      <td id=\"T_8780c_row0_col3\" class=\"data row0 col3\" >2</td>\n",
       "      <td id=\"T_8780c_row0_col4\" class=\"data row0 col4\" >2</td>\n",
       "      <td id=\"T_8780c_row0_col5\" class=\"data row0 col5\" >2</td>\n",
       "      <td id=\"T_8780c_row0_col6\" class=\"data row0 col6\" >2</td>\n",
       "      <td id=\"T_8780c_row0_col7\" class=\"data row0 col7\" >2</td>\n",
       "      <td id=\"T_8780c_row0_col8\" class=\"data row0 col8\" >None</td>\n",
       "    </tr>\n",
       "  </tbody>\n",
       "</table>\n"
      ],
      "text/plain": [
       "<pandas.io.formats.style.Styler at 0x7f68f986ffa0>"
      ]
     },
     "execution_count": 6,
     "metadata": {},
     "output_type": "execute_result"
    }
   ],
   "source": [
    "msm.info(barnase_barstar)"
   ]
  },
  {
   "cell_type": "code",
   "execution_count": null,
   "id": "259e1cb1-d143-460e-8f48-57ce73e51e40",
   "metadata": {},
   "outputs": [],
   "source": [
    "barnase_barstar = msm.build.add_missing_heavy_atoms(barnase_barstar)\n",
    "barnase_barstar = msm.build.add_missing_hydrogens(barnase_barstar, pH=7.4)"
   ]
  },
  {
   "cell_type": "code",
   "execution_count": null,
   "id": "63d7ccde-fbf3-4702-9214-04ae90d952d9",
   "metadata": {},
   "outputs": [],
   "source": [
    "msm.molecular_mechanics.potential_energy_minimization(barnase_barstar, in_place=True)\n",
    "_ = msm.convert(barnase_barstar, to_form='barnase_barstar.pdb')\n",
    "_ = msm.convert(barnase_barstar, to_form='barnase_barstar.h5msm')"
   ]
  }
 ],
 "metadata": {
  "kernelspec": {
   "display_name": "Python 3 (ipykernel)",
   "language": "python",
   "name": "python3"
  },
  "language_info": {
   "codemirror_mode": {
    "name": "ipython",
    "version": 3
   },
   "file_extension": ".py",
   "mimetype": "text/x-python",
   "name": "python",
   "nbconvert_exporter": "python",
   "pygments_lexer": "ipython3",
   "version": "3.10.14"
  }
 },
 "nbformat": 4,
 "nbformat_minor": 5
}
