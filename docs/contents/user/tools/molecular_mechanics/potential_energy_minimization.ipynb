{
 "cells": [
  {
   "cell_type": "code",
   "execution_count": 1,
   "id": "e6d5ef73-cc17-436f-8448-befa68962d6d",
   "metadata": {
    "execution": {
     "iopub.execute_input": "2025-03-11T21:08:10.148241Z",
     "iopub.status.busy": "2025-03-11T21:08:10.147570Z",
     "iopub.status.idle": "2025-03-11T21:08:10.153179Z",
     "shell.execute_reply": "2025-03-11T21:08:10.152240Z"
    },
    "tags": [
     "remove-input"
    ]
   },
   "outputs": [],
   "source": [
    "# This cell is removed with the tag: \"remove-input\"\n",
    "# As such, it will not be shown in documentation\n",
    "\n",
    "import warnings\n",
    "warnings.filterwarnings('ignore')"
   ]
  },
  {
   "cell_type": "markdown",
   "id": "324976fb-e171-4aa9-bb51-64aa306219af",
   "metadata": {
    "tags": [
     "remove-input"
    ]
   },
   "source": [
    "(UserGuide_Tools_MM_PotentialEnergyMinimization)=\n",
    "# Potential energy minimization\n",
    "*Potential energy minimization.*\n",
    "\n",
    "The function {func}`molsysmt.molecular_mecanics.potential_energy_minimization` allows us to ..."
   ]
  },
  {
   "cell_type": "code",
   "execution_count": 2,
   "id": "4485ea28-ee22-4550-adc1-e5f817575ab9",
   "metadata": {
    "execution": {
     "iopub.execute_input": "2025-03-11T21:08:10.157000Z",
     "iopub.status.busy": "2025-03-11T21:08:10.156216Z",
     "iopub.status.idle": "2025-03-11T21:08:18.474073Z",
     "shell.execute_reply": "2025-03-11T21:08:18.473288Z"
    },
    "tags": []
   },
   "outputs": [
    {
     "data": {
      "application/vnd.jupyter.widget-view+json": {
       "model_id": "05c0313d338943e1b7d0b10efcbaa40c",
       "version_major": 2,
       "version_minor": 0
      },
      "text/plain": []
     },
     "metadata": {},
     "output_type": "display_data"
    }
   ],
   "source": [
    "import molsysmt as msm"
   ]
  },
  {
   "cell_type": "code",
   "execution_count": 3,
   "id": "7fbcbdd7-7ba9-4ec8-86b7-4c9a24cc327c",
   "metadata": {
    "execution": {
     "iopub.execute_input": "2025-03-11T21:08:18.477553Z",
     "iopub.status.busy": "2025-03-11T21:08:18.476866Z",
     "iopub.status.idle": "2025-03-11T21:08:19.794421Z",
     "shell.execute_reply": "2025-03-11T21:08:19.793486Z"
    }
   },
   "outputs": [],
   "source": [
    "molsys = msm.convert('1VII')"
   ]
  },
  {
   "cell_type": "code",
   "execution_count": 4,
   "id": "a6602a97-7a91-4c7e-98a9-f525449f4c2d",
   "metadata": {
    "execution": {
     "iopub.execute_input": "2025-03-11T21:08:19.798911Z",
     "iopub.status.busy": "2025-03-11T21:08:19.797966Z",
     "iopub.status.idle": "2025-03-11T21:08:22.799650Z",
     "shell.execute_reply": "2025-03-11T21:08:22.798943Z"
    }
   },
   "outputs": [
    {
     "data": {
      "text/html": [
       "<style type=\"text/css\">\n",
       "</style>\n",
       "<table id=\"T_a0036\">\n",
       "  <thead>\n",
       "    <tr>\n",
       "      <th id=\"T_a0036_level0_col0\" class=\"col_heading level0 col0\" >form</th>\n",
       "      <th id=\"T_a0036_level0_col1\" class=\"col_heading level0 col1\" >n_atoms</th>\n",
       "      <th id=\"T_a0036_level0_col2\" class=\"col_heading level0 col2\" >n_groups</th>\n",
       "      <th id=\"T_a0036_level0_col3\" class=\"col_heading level0 col3\" >n_components</th>\n",
       "      <th id=\"T_a0036_level0_col4\" class=\"col_heading level0 col4\" >n_chains</th>\n",
       "      <th id=\"T_a0036_level0_col5\" class=\"col_heading level0 col5\" >n_molecules</th>\n",
       "      <th id=\"T_a0036_level0_col6\" class=\"col_heading level0 col6\" >n_entities</th>\n",
       "      <th id=\"T_a0036_level0_col7\" class=\"col_heading level0 col7\" >n_peptides</th>\n",
       "      <th id=\"T_a0036_level0_col8\" class=\"col_heading level0 col8\" >n_structures</th>\n",
       "    </tr>\n",
       "  </thead>\n",
       "  <tbody>\n",
       "    <tr>\n",
       "      <td id=\"T_a0036_row0_col0\" class=\"data row0 col0\" >molsysmt.MolSys</td>\n",
       "      <td id=\"T_a0036_row0_col1\" class=\"data row0 col1\" >596</td>\n",
       "      <td id=\"T_a0036_row0_col2\" class=\"data row0 col2\" >36</td>\n",
       "      <td id=\"T_a0036_row0_col3\" class=\"data row0 col3\" >1</td>\n",
       "      <td id=\"T_a0036_row0_col4\" class=\"data row0 col4\" >1</td>\n",
       "      <td id=\"T_a0036_row0_col5\" class=\"data row0 col5\" >1</td>\n",
       "      <td id=\"T_a0036_row0_col6\" class=\"data row0 col6\" >1</td>\n",
       "      <td id=\"T_a0036_row0_col7\" class=\"data row0 col7\" >1</td>\n",
       "      <td id=\"T_a0036_row0_col8\" class=\"data row0 col8\" >1</td>\n",
       "    </tr>\n",
       "  </tbody>\n",
       "</table>\n"
      ],
      "text/plain": [
       "<pandas.io.formats.style.Styler at 0x7f6b5e9f54c0>"
      ]
     },
     "execution_count": 4,
     "metadata": {},
     "output_type": "execute_result"
    }
   ],
   "source": [
    "msm.info(molsys)"
   ]
  },
  {
   "cell_type": "code",
   "execution_count": 5,
   "id": "f4fa9872-192c-4b00-8b31-63a1ad5f1ec1",
   "metadata": {
    "execution": {
     "iopub.execute_input": "2025-03-11T21:08:22.802926Z",
     "iopub.status.busy": "2025-03-11T21:08:22.802410Z",
     "iopub.status.idle": "2025-03-11T21:08:28.381972Z",
     "shell.execute_reply": "2025-03-11T21:08:28.381117Z"
    }
   },
   "outputs": [],
   "source": [
    "molsys = msm.basic.remove(molsys, selection='atom_type==\"H\"')\n",
    "molsys = msm.build.add_missing_hydrogens(molsys, pH=7.4)"
   ]
  },
  {
   "cell_type": "code",
   "execution_count": 6,
   "id": "761728a1-2f64-4dd5-8b9a-67150ec1c6ee",
   "metadata": {
    "execution": {
     "iopub.execute_input": "2025-03-11T21:08:28.385035Z",
     "iopub.status.busy": "2025-03-11T21:08:28.384614Z",
     "iopub.status.idle": "2025-03-11T21:08:30.509470Z",
     "shell.execute_reply": "2025-03-11T21:08:30.508607Z"
    }
   },
   "outputs": [
    {
     "data": {
      "text/html": [
       "8604.76424489473 kilojoule/mole"
      ],
      "text/latex": [
       "$8604.76424489473\\ \\frac{\\mathrm{kilojoule}}{\\mathrm{mole}}$"
      ],
      "text/plain": [
       "<Quantity(8604.76424, 'kilojoule / mole')>"
      ]
     },
     "execution_count": 6,
     "metadata": {},
     "output_type": "execute_result"
    }
   ],
   "source": [
    "msm.molecular_mechanics.get_potential_energy(molsys)"
   ]
  },
  {
   "cell_type": "code",
   "execution_count": 7,
   "id": "a521bab0-a886-4e31-a052-bac2630e80c0",
   "metadata": {
    "execution": {
     "iopub.execute_input": "2025-03-11T21:08:30.513568Z",
     "iopub.status.busy": "2025-03-11T21:08:30.512870Z",
     "iopub.status.idle": "2025-03-11T21:08:43.910445Z",
     "shell.execute_reply": "2025-03-11T21:08:43.909452Z"
    }
   },
   "outputs": [],
   "source": [
    "molsys = msm.molecular_mechanics.potential_energy_minimization(molsys)"
   ]
  },
  {
   "cell_type": "code",
   "execution_count": 8,
   "id": "b6bc0019-e7f2-45bf-aa9e-1d18de90a08f",
   "metadata": {
    "execution": {
     "iopub.execute_input": "2025-03-11T21:08:43.913951Z",
     "iopub.status.busy": "2025-03-11T21:08:43.913384Z",
     "iopub.status.idle": "2025-03-11T21:08:45.670868Z",
     "shell.execute_reply": "2025-03-11T21:08:45.669941Z"
    }
   },
   "outputs": [
    {
     "data": {
      "text/html": [
       "-3713.1080478070976 kilojoule/mole"
      ],
      "text/latex": [
       "$-3713.1080478070976\\ \\frac{\\mathrm{kilojoule}}{\\mathrm{mole}}$"
      ],
      "text/plain": [
       "<Quantity(-3713.10805, 'kilojoule / mole')>"
      ]
     },
     "execution_count": 8,
     "metadata": {},
     "output_type": "execute_result"
    }
   ],
   "source": [
    "msm.molecular_mechanics.get_potential_energy(molsys)"
   ]
  },
  {
   "cell_type": "code",
   "execution_count": null,
   "id": "a84c0837-cdb1-4c1b-b929-c592a6a1ddc5",
   "metadata": {},
   "outputs": [],
   "source": []
  }
 ],
 "metadata": {
  "kernelspec": {
   "display_name": "Python 3 (ipykernel)",
   "language": "python",
   "name": "python3"
  },
  "language_info": {
   "codemirror_mode": {
    "name": "ipython",
    "version": 3
   },
   "file_extension": ".py",
   "mimetype": "text/x-python",
   "name": "python",
   "nbconvert_exporter": "python",
   "pygments_lexer": "ipython3",
   "version": "3.12.8"
  },
  "widgets": {
   "application/vnd.jupyter.widget-state+json": {
    "state": {
     "05c0313d338943e1b7d0b10efcbaa40c": {
      "model_module": "nglview-js-widgets",
      "model_module_version": "3.1.4",
      "model_name": "ColormakerRegistryModel",
      "state": {
       "_dom_classes": [],
       "_model_module": "nglview-js-widgets",
       "_model_module_version": "3.1.4",
       "_model_name": "ColormakerRegistryModel",
       "_msg_ar": [],
       "_msg_q": [],
       "_ready": false,
       "_view_count": null,
       "_view_module": "nglview-js-widgets",
       "_view_module_version": "3.1.4",
       "_view_name": "ColormakerRegistryView",
       "layout": "IPY_MODEL_fbc848f15cbb4620b7d186c47afc6927",
       "tabbable": null,
       "tooltip": null
      }
     },
     "fbc848f15cbb4620b7d186c47afc6927": {
      "model_module": "@jupyter-widgets/base",
      "model_module_version": "2.0.0",
      "model_name": "LayoutModel",
      "state": {
       "_model_module": "@jupyter-widgets/base",
       "_model_module_version": "2.0.0",
       "_model_name": "LayoutModel",
       "_view_count": null,
       "_view_module": "@jupyter-widgets/base",
       "_view_module_version": "2.0.0",
       "_view_name": "LayoutView",
       "align_content": null,
       "align_items": null,
       "align_self": null,
       "border_bottom": null,
       "border_left": null,
       "border_right": null,
       "border_top": null,
       "bottom": null,
       "display": null,
       "flex": null,
       "flex_flow": null,
       "grid_area": null,
       "grid_auto_columns": null,
       "grid_auto_flow": null,
       "grid_auto_rows": null,
       "grid_column": null,
       "grid_gap": null,
       "grid_row": null,
       "grid_template_areas": null,
       "grid_template_columns": null,
       "grid_template_rows": null,
       "height": null,
       "justify_content": null,
       "justify_items": null,
       "left": null,
       "margin": null,
       "max_height": null,
       "max_width": null,
       "min_height": null,
       "min_width": null,
       "object_fit": null,
       "object_position": null,
       "order": null,
       "overflow": null,
       "padding": null,
       "right": null,
       "top": null,
       "visibility": null,
       "width": null
      }
     }
    },
    "version_major": 2,
    "version_minor": 0
   }
  }
 },
 "nbformat": 4,
 "nbformat_minor": 5
}
