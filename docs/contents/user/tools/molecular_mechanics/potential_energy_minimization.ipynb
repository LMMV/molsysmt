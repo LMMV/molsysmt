{
 "cells": [
  {
   "cell_type": "code",
   "execution_count": 1,
   "id": "e6d5ef73-cc17-436f-8448-befa68962d6d",
   "metadata": {
    "tags": [
     "remove-input"
    ]
   },
   "outputs": [],
   "source": [
    "# This cell is removed with the tag: \"remove-input\"\n",
    "# As such, it will not be shown in documentation\n",
    "\n",
    "import warnings\n",
    "warnings.filterwarnings('ignore')"
   ]
  },
  {
   "cell_type": "markdown",
   "id": "324976fb-e171-4aa9-bb51-64aa306219af",
   "metadata": {
    "tags": [
     "remove-input"
    ]
   },
   "source": [
    "(UserGuide_Tools_MM_PotentialEnergyMinimization)=\n",
    "# Potential energy minimization\n",
    "*Potential energy minimization.*\n",
    "\n",
    "The function {func}`molsysmt.molecular_mecanics.potential_energy_minimization` allows us to ..."
   ]
  },
  {
   "cell_type": "code",
   "execution_count": 3,
   "id": "4485ea28-ee22-4550-adc1-e5f817575ab9",
   "metadata": {
    "tags": []
   },
   "outputs": [
    {
     "data": {
      "application/vnd.jupyter.widget-view+json": {
       "model_id": "b234c8488e3a4e3495361458b1214f89",
       "version_major": 2,
       "version_minor": 0
      },
      "text/plain": []
     },
     "metadata": {},
     "output_type": "display_data"
    }
   ],
   "source": [
    "import molsysmt as msm"
   ]
  }
 ],
 "metadata": {
  "kernelspec": {
   "display_name": "Python 3 (ipykernel)",
   "language": "python",
   "name": "python3"
  },
  "language_info": {
   "codemirror_mode": {
    "name": "ipython",
    "version": 3
   },
   "file_extension": ".py",
   "mimetype": "text/x-python",
   "name": "python",
   "nbconvert_exporter": "python",
   "pygments_lexer": "ipython3",
   "version": "3.10.11"
  }
 },
 "nbformat": 4,
 "nbformat_minor": 5
}
