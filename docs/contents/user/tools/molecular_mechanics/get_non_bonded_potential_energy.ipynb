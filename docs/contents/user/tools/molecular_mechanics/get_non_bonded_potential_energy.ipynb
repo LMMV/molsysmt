{
 "cells": [
  {
   "cell_type": "markdown",
   "id": "fc199b64-62a9-4613-8902-d5efe61f9f05",
   "metadata": {},
   "source": [
    "# Get non bonded potential energy"
   ]
  },
  {
   "cell_type": "code",
   "execution_count": 2,
   "id": "9572d683-b406-4a5e-a913-88de73826926",
   "metadata": {},
   "outputs": [
    {
     "data": {
      "application/vnd.jupyter.widget-view+json": {
       "model_id": "856d659663e945a591ca217ffb1d0561",
       "version_major": 2,
       "version_minor": 0
      },
      "text/plain": []
     },
     "metadata": {},
     "output_type": "display_data"
    }
   ],
   "source": [
    "import molsysmt as msm\n",
    "msm.config.set_default_standard_units(standards=['nm', 'ps', 'K', 'mole', 'amu', 'e',\n",
    "                                      'kcal/mol', 'kcal/(mol*nm**2)', 'N', 'degrees'])"
   ]
  },
  {
   "cell_type": "code",
   "execution_count": 3,
   "id": "efe9a743-2928-462c-b8c1-1c0e4ab04f10",
   "metadata": {},
   "outputs": [],
   "source": [
    "molecular_system = msm.convert(msm.systems['Barnase-Barstar']['barnase_barstar.h5msm'])"
   ]
  },
  {
   "cell_type": "code",
   "execution_count": 4,
   "id": "809149e2-a355-4f23-94ff-3c80959ac7ed",
   "metadata": {},
   "outputs": [
    {
     "data": {
      "text/html": [
       "<style type=\"text/css\">\n",
       "</style>\n",
       "<table id=\"T_3bef2\">\n",
       "  <thead>\n",
       "    <tr>\n",
       "      <th id=\"T_3bef2_level0_col0\" class=\"col_heading level0 col0\" >index</th>\n",
       "      <th id=\"T_3bef2_level0_col1\" class=\"col_heading level0 col1\" >name</th>\n",
       "      <th id=\"T_3bef2_level0_col2\" class=\"col_heading level0 col2\" >type</th>\n",
       "      <th id=\"T_3bef2_level0_col3\" class=\"col_heading level0 col3\" >n atoms</th>\n",
       "      <th id=\"T_3bef2_level0_col4\" class=\"col_heading level0 col4\" >n groups</th>\n",
       "      <th id=\"T_3bef2_level0_col5\" class=\"col_heading level0 col5\" >n components</th>\n",
       "      <th id=\"T_3bef2_level0_col6\" class=\"col_heading level0 col6\" >chain index</th>\n",
       "      <th id=\"T_3bef2_level0_col7\" class=\"col_heading level0 col7\" >entity index</th>\n",
       "      <th id=\"T_3bef2_level0_col8\" class=\"col_heading level0 col8\" >entity name</th>\n",
       "    </tr>\n",
       "  </thead>\n",
       "  <tbody>\n",
       "    <tr>\n",
       "      <td id=\"T_3bef2_row0_col0\" class=\"data row0 col0\" >0</td>\n",
       "      <td id=\"T_3bef2_row0_col1\" class=\"data row0 col1\" >protein 0</td>\n",
       "      <td id=\"T_3bef2_row0_col2\" class=\"data row0 col2\" >protein</td>\n",
       "      <td id=\"T_3bef2_row0_col3\" class=\"data row0 col3\" >1727</td>\n",
       "      <td id=\"T_3bef2_row0_col4\" class=\"data row0 col4\" >110</td>\n",
       "      <td id=\"T_3bef2_row0_col5\" class=\"data row0 col5\" >1</td>\n",
       "      <td id=\"T_3bef2_row0_col6\" class=\"data row0 col6\" >0</td>\n",
       "      <td id=\"T_3bef2_row0_col7\" class=\"data row0 col7\" >0</td>\n",
       "      <td id=\"T_3bef2_row0_col8\" class=\"data row0 col8\" >protein 0</td>\n",
       "    </tr>\n",
       "    <tr>\n",
       "      <td id=\"T_3bef2_row1_col0\" class=\"data row1 col0\" >1</td>\n",
       "      <td id=\"T_3bef2_row1_col1\" class=\"data row1 col1\" >protein 1</td>\n",
       "      <td id=\"T_3bef2_row1_col2\" class=\"data row1 col2\" >protein</td>\n",
       "      <td id=\"T_3bef2_row1_col3\" class=\"data row1 col3\" >1432</td>\n",
       "      <td id=\"T_3bef2_row1_col4\" class=\"data row1 col4\" >89</td>\n",
       "      <td id=\"T_3bef2_row1_col5\" class=\"data row1 col5\" >1</td>\n",
       "      <td id=\"T_3bef2_row1_col6\" class=\"data row1 col6\" >1</td>\n",
       "      <td id=\"T_3bef2_row1_col7\" class=\"data row1 col7\" >1</td>\n",
       "      <td id=\"T_3bef2_row1_col8\" class=\"data row1 col8\" >protein 1</td>\n",
       "    </tr>\n",
       "  </tbody>\n",
       "</table>\n"
      ],
      "text/plain": [
       "<pandas.io.formats.style.Styler at 0x7fd2a413c130>"
      ]
     },
     "execution_count": 4,
     "metadata": {},
     "output_type": "execute_result"
    }
   ],
   "source": [
    "msm.info(molecular_system, element='molecule')"
   ]
  },
  {
   "cell_type": "code",
   "execution_count": null,
   "id": "989cce69-1399-4b44-9a24-a173bfd07865",
   "metadata": {},
   "outputs": [],
   "source": [
    "U1nb2 = msm.molecular_mechanics.get_non_bonded_potential_energy(molecular_system,\n",
    "                                                              selection='molecule_name==\"Barnase\"',\n",
    "                                                              selection_2='molecule_name==\"Barstar\"')"
   ]
  },
  {
   "cell_type": "code",
   "execution_count": null,
   "id": "fa6475ef-2149-4959-b469-1579efcf1e1c",
   "metadata": {},
   "outputs": [],
   "source": [
    "U1nb2"
   ]
  },
  {
   "cell_type": "code",
   "execution_count": null,
   "id": "1e5ff056-5053-4a4d-8ae2-38dd68e71bde",
   "metadata": {},
   "outputs": [],
   "source": [
    "U12 = msm.molecular_mechanics.get_potential_energy(molecular_system)\n",
    "U1 = msm.molecular_mechanics.get_potential_energy(molecular_system, selection='molecule_name==\"Barnase\"')\n",
    "U2 = msm.molecular_mechanics.get_potential_energy(molecular_system, selection='molecule_name==\"Barstar\"')"
   ]
  },
  {
   "cell_type": "code",
   "execution_count": null,
   "id": "ed11b683-1e7c-4f61-b991-e8ff61d9f8df",
   "metadata": {},
   "outputs": [],
   "source": [
    "U12-U1-U2"
   ]
  },
  {
   "cell_type": "code",
   "execution_count": null,
   "id": "ca36e6cf-1de6-41b7-807d-f025d91e5a54",
   "metadata": {},
   "outputs": [],
   "source": [
    "U12_groups = msm.molecular_mechanics.get_non_bonded_potential_energy(molecular_system,\n",
    "                                                              selection='all in groups of molecule_name==\"Barnase\"',\n",
    "                                                              selection_2='all in groups of molecule_name==\"Barstar\"')"
   ]
  },
  {
   "cell_type": "code",
   "execution_count": null,
   "id": "d19ddf9c-3cce-4497-a112-0580ecad4adf",
   "metadata": {},
   "outputs": [],
   "source": [
    "U12_groups"
   ]
  },
  {
   "cell_type": "code",
   "execution_count": null,
   "id": "f3ecb55c-8e81-4091-af7a-a03ab305a35f",
   "metadata": {},
   "outputs": [],
   "source": [
    "import matplotlib.pyplot as plt\n",
    "\n",
    "plt.imshow(U12_groups, origin='lower', cmap='bwr', vmin=-125, vmax=125)\n",
    "plt.colorbar()\n",
    "plt.show()"
   ]
  },
  {
   "cell_type": "code",
   "execution_count": null,
   "id": "e2d02990-986f-48b4-9d3c-d6728ebfed57",
   "metadata": {},
   "outputs": [],
   "source": [
    "distance = msm.structure.get_distances(molecular_system, selection='all in groups of molecule_name==\"Barnase\"',\n",
    "                 selection_2='all in groups of molecule_name==\"Barstar\"')\n",
    "\n",
    "plt.scatter(distance.flatten(), U12_groups.flatten(), s=1.0)\n",
    "plt.ylim([-125.0, 125.0])\n",
    "plt.show()"
   ]
  },
  {
   "cell_type": "code",
   "execution_count": null,
   "id": "fc77268f-ec08-4e6b-b90f-8656e6d85648",
   "metadata": {},
   "outputs": [],
   "source": [
    "import numpy as np\n",
    "\n",
    "U12_1_groups= U12_groups.sum(axis=1)\n",
    "U12_2_groups= U12_groups.sum(axis=0)\n",
    "\n",
    "plt.bar(np.arange(U12_1_groups.shape[0]), msm.pyunitwizard.get_value(U12_1_groups))\n",
    "plt.show()\n",
    "\n",
    "plt.bar(np.arange(U12_2_groups.shape[0]), msm.pyunitwizard.get_value(U12_2_groups))\n",
    "plt.show()"
   ]
  },
  {
   "cell_type": "code",
   "execution_count": null,
   "id": "dfa62257-baa1-436b-9b84-93323576ee36",
   "metadata": {},
   "outputs": [],
   "source": [
    "aux = [ii for ii in msm.pyunitwizard.get_value(U12_1_groups)]\n",
    "aux += [ii for ii in msm.pyunitwizard.get_value(U12_2_groups)]\n",
    "aux = np.array(aux)\n",
    "max_abs_val = max(abs(aux.min()), abs(aux.max()))\n",
    "\n",
    "view = msm.view(molecular_system)\n",
    "view.clear()\n",
    "view.add_cartoon(selection='all')\n",
    "msm.thirds.nglview.color_by_value(view, aux, min_value= -max_abs_val, max_value= max_abs_val, cmap='bwr')\n",
    "view"
   ]
  },
  {
   "cell_type": "code",
   "execution_count": null,
   "id": "33c5279e-385f-41b2-b9a6-14fd9d29001e",
   "metadata": {},
   "outputs": [],
   "source": []
  }
 ],
 "metadata": {
  "kernelspec": {
   "display_name": "Python 3 (ipykernel)",
   "language": "python",
   "name": "python3"
  },
  "language_info": {
   "codemirror_mode": {
    "name": "ipython",
    "version": 3
   },
   "file_extension": ".py",
   "mimetype": "text/x-python",
   "name": "python",
   "nbconvert_exporter": "python",
   "pygments_lexer": "ipython3",
   "version": "3.10.14"
  }
 },
 "nbformat": 4,
 "nbformat_minor": 5
}
