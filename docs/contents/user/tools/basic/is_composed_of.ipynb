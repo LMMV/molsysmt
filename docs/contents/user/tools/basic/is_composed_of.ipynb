{
 "cells": [
  {
   "cell_type": "code",
   "execution_count": 1,
   "id": "5bf76106-0632-47ac-a712-d1fe0b77fed0",
   "metadata": {
    "execution": {
     "iopub.execute_input": "2025-04-13T03:06:17.798053Z",
     "iopub.status.busy": "2025-04-13T03:06:17.797637Z",
     "iopub.status.idle": "2025-04-13T03:06:17.804094Z",
     "shell.execute_reply": "2025-04-13T03:06:17.802978Z"
    },
    "tags": [
     "remove-input"
    ]
   },
   "outputs": [],
   "source": [
    "# This cell is removed with the tag: \"remove-input\"\n",
    "# As such, it will not be shown in documentation\n",
    "\n",
    "#import warnings\n",
    "#warnings.filterwarnings('ignore')"
   ]
  },
  {
   "cell_type": "markdown",
   "id": "3fd275e9-e7ab-4c25-8a28-9efb8a9d9e04",
   "metadata": {},
   "source": [
    "(Tutorial_Is_composed_of)=\n",
    "# Is composed of\n",
    "\n",
    "*Checking whether a molecular system is composed exclusively of specific elements*\n",
    "\n",
    "The function {func}`molsysmt.basic.is_composed_of` checks whether a molecular system is made up exclusively of certain types or number of elements.\n",
    "\n",
    ":::{versionadded} 1.0.0\n",
    ":::\n",
    "\n",
    "## How this function works\n",
    "\n",
    "```{admonition} API documentation\n",
    "Follow this link for a detailed description of the input arguments, raised errors, and returned objects of this function:{func}`molsysmt.basic.is_composed_of`.\n",
    "```\n",
    "\n",
    "Let's illustrate how this function works with an example:"
   ]
  },
  {
   "cell_type": "code",
   "execution_count": 2,
   "id": "0257bd9e-967f-432a-b41d-c4c5f8ee3f79",
   "metadata": {
    "execution": {
     "iopub.execute_input": "2025-04-13T03:06:17.810293Z",
     "iopub.status.busy": "2025-04-13T03:06:17.809823Z",
     "iopub.status.idle": "2025-04-13T03:06:30.213771Z",
     "shell.execute_reply": "2025-04-13T03:06:30.212783Z"
    }
   },
   "outputs": [
    {
     "data": {
      "application/vnd.jupyter.widget-view+json": {
       "model_id": "1a2b6c24a26641edb75a70fef4ab4575",
       "version_major": 2,
       "version_minor": 0
      },
      "text/plain": []
     },
     "metadata": {},
     "output_type": "display_data"
    }
   ],
   "source": [
    "import molsysmt as msm"
   ]
  },
  {
   "cell_type": "code",
   "execution_count": 3,
   "id": "025f14f5-b1e2-40f3-b2a1-6b7b1aa753c7",
   "metadata": {
    "execution": {
     "iopub.execute_input": "2025-04-13T03:06:30.218374Z",
     "iopub.status.busy": "2025-04-13T03:06:30.217283Z",
     "iopub.status.idle": "2025-04-13T03:06:34.978798Z",
     "shell.execute_reply": "2025-04-13T03:06:34.977881Z"
    }
   },
   "outputs": [],
   "source": [
    "molsys = msm.convert('181L')"
   ]
  },
  {
   "cell_type": "code",
   "execution_count": 4,
   "id": "f6caa0e6-8ed5-439f-9ee5-c000cf4987a4",
   "metadata": {
    "execution": {
     "iopub.execute_input": "2025-04-13T03:06:34.983038Z",
     "iopub.status.busy": "2025-04-13T03:06:34.982365Z",
     "iopub.status.idle": "2025-04-13T03:06:39.773953Z",
     "shell.execute_reply": "2025-04-13T03:06:39.772811Z"
    },
    "tags": [
     "scroll-output"
    ]
   },
   "outputs": [
    {
     "data": {
      "text/html": [
       "<style type=\"text/css\">\n",
       "</style>\n",
       "<table id=\"T_11035\">\n",
       "  <thead>\n",
       "    <tr>\n",
       "      <th id=\"T_11035_level0_col0\" class=\"col_heading level0 col0\" >form</th>\n",
       "      <th id=\"T_11035_level0_col1\" class=\"col_heading level0 col1\" >n_atoms</th>\n",
       "      <th id=\"T_11035_level0_col2\" class=\"col_heading level0 col2\" >n_groups</th>\n",
       "      <th id=\"T_11035_level0_col3\" class=\"col_heading level0 col3\" >n_components</th>\n",
       "      <th id=\"T_11035_level0_col4\" class=\"col_heading level0 col4\" >n_chains</th>\n",
       "      <th id=\"T_11035_level0_col5\" class=\"col_heading level0 col5\" >n_molecules</th>\n",
       "      <th id=\"T_11035_level0_col6\" class=\"col_heading level0 col6\" >n_entities</th>\n",
       "      <th id=\"T_11035_level0_col7\" class=\"col_heading level0 col7\" >n_waters</th>\n",
       "      <th id=\"T_11035_level0_col8\" class=\"col_heading level0 col8\" >n_ions</th>\n",
       "      <th id=\"T_11035_level0_col9\" class=\"col_heading level0 col9\" >n_small_molecules</th>\n",
       "      <th id=\"T_11035_level0_col10\" class=\"col_heading level0 col10\" >n_proteins</th>\n",
       "      <th id=\"T_11035_level0_col11\" class=\"col_heading level0 col11\" >n_structures</th>\n",
       "    </tr>\n",
       "  </thead>\n",
       "  <tbody>\n",
       "    <tr>\n",
       "      <td id=\"T_11035_row0_col0\" class=\"data row0 col0\" >molsysmt.MolSys</td>\n",
       "      <td id=\"T_11035_row0_col1\" class=\"data row0 col1\" >1441</td>\n",
       "      <td id=\"T_11035_row0_col2\" class=\"data row0 col2\" >302</td>\n",
       "      <td id=\"T_11035_row0_col3\" class=\"data row0 col3\" >141</td>\n",
       "      <td id=\"T_11035_row0_col4\" class=\"data row0 col4\" >6</td>\n",
       "      <td id=\"T_11035_row0_col5\" class=\"data row0 col5\" >141</td>\n",
       "      <td id=\"T_11035_row0_col6\" class=\"data row0 col6\" >5</td>\n",
       "      <td id=\"T_11035_row0_col7\" class=\"data row0 col7\" >136</td>\n",
       "      <td id=\"T_11035_row0_col8\" class=\"data row0 col8\" >2</td>\n",
       "      <td id=\"T_11035_row0_col9\" class=\"data row0 col9\" >2</td>\n",
       "      <td id=\"T_11035_row0_col10\" class=\"data row0 col10\" >1</td>\n",
       "      <td id=\"T_11035_row0_col11\" class=\"data row0 col11\" >1</td>\n",
       "    </tr>\n",
       "  </tbody>\n",
       "</table>\n"
      ],
      "text/plain": [
       "<pandas.io.formats.style.Styler at 0x761c1baaba40>"
      ]
     },
     "execution_count": 4,
     "metadata": {},
     "output_type": "execute_result"
    }
   ],
   "source": [
    "msm.info(molsys)"
   ]
  },
  {
   "cell_type": "markdown",
   "id": "915ec59c-8ae2-4eba-a886-437dc934a469",
   "metadata": {},
   "source": [
    "We know in advance that the system includes multiple molecule types: proteins, ions, waters, and small molecules.\n",
    "Therefore, although it contains proteins, it is not composed solely of proteins:"
   ]
  },
  {
   "cell_type": "code",
   "execution_count": 5,
   "id": "f3d59b9d-a0b8-4861-95c6-7c5d67abdaa6",
   "metadata": {
    "execution": {
     "iopub.execute_input": "2025-04-13T03:06:39.781697Z",
     "iopub.status.busy": "2025-04-13T03:06:39.778936Z",
     "iopub.status.idle": "2025-04-13T03:06:42.614088Z",
     "shell.execute_reply": "2025-04-13T03:06:42.612937Z"
    }
   },
   "outputs": [
    {
     "data": {
      "text/plain": [
       "False"
      ]
     },
     "execution_count": 5,
     "metadata": {},
     "output_type": "execute_result"
    }
   ],
   "source": [
    "msm.is_composed_of(molsys, proteins=True)"
   ]
  },
  {
   "cell_type": "markdown",
   "id": "4e54fa38-2047-435b-ba49-3b0dd86c1175",
   "metadata": {},
   "source": [
    "```{admonition} Tip\n",
    ":class: tip\n",
    "All functions defined in the {ref}`molsysmt.basic <API basic>` module are also accessible from the top-level namespace. Thus, {func}`molsysmt.is_composed_of` is equivalent to {func}`molsysmt.basic.is_composed_of`.\n",
    "```"
   ]
  },
  {
   "cell_type": "markdown",
   "id": "3b4b6fe4-f0b1-4595-83a0-2b66b9b7b362",
   "metadata": {},
   "source": [
    "Let's see now if the molecular system is indeed composed of proteins, waters, small molecules and ions:"
   ]
  },
  {
   "cell_type": "code",
   "execution_count": 6,
   "id": "50e6f666-a413-4a44-b11a-83ecd778ac85",
   "metadata": {
    "execution": {
     "iopub.execute_input": "2025-04-13T03:06:42.624229Z",
     "iopub.status.busy": "2025-04-13T03:06:42.621939Z",
     "iopub.status.idle": "2025-04-13T03:06:45.389542Z",
     "shell.execute_reply": "2025-04-13T03:06:45.384021Z"
    }
   },
   "outputs": [
    {
     "data": {
      "text/plain": [
       "True"
      ]
     },
     "execution_count": 6,
     "metadata": {},
     "output_type": "execute_result"
    }
   ],
   "source": [
    "msm.is_composed_of(molsys, proteins=True, waters=True, small_molecules=True, ions=True)"
   ]
  },
  {
   "cell_type": "markdown",
   "id": "02fd80ce-dac5-4188-98ec-6b38c13a2fb0",
   "metadata": {},
   "source": [
    "You can also specify the exact number of each element type using keyword arguments. For example:"
   ]
  },
  {
   "cell_type": "code",
   "execution_count": 7,
   "id": "d315b2aa-de0b-40a0-b7c1-303af2980fd1",
   "metadata": {
    "execution": {
     "iopub.execute_input": "2025-04-13T03:06:45.397691Z",
     "iopub.status.busy": "2025-04-13T03:06:45.396992Z",
     "iopub.status.idle": "2025-04-13T03:06:48.426777Z",
     "shell.execute_reply": "2025-04-13T03:06:48.421953Z"
    }
   },
   "outputs": [
    {
     "data": {
      "text/plain": [
       "True"
      ]
     },
     "execution_count": 7,
     "metadata": {},
     "output_type": "execute_result"
    }
   ],
   "source": [
    "msm.is_composed_of(molsys, proteins=1, waters=True, small_molecules=2, ions=True)"
   ]
  },
  {
   "cell_type": "code",
   "execution_count": 8,
   "id": "1ed9b08a-bc8a-4d3b-a339-1286df899773",
   "metadata": {
    "execution": {
     "iopub.execute_input": "2025-04-13T03:06:48.440201Z",
     "iopub.status.busy": "2025-04-13T03:06:48.434698Z",
     "iopub.status.idle": "2025-04-13T03:06:52.167075Z",
     "shell.execute_reply": "2025-04-13T03:06:52.165341Z"
    }
   },
   "outputs": [
    {
     "data": {
      "text/plain": [
       "False"
      ]
     },
     "execution_count": 8,
     "metadata": {},
     "output_type": "execute_result"
    }
   ],
   "source": [
    "msm.is_composed_of(molsys, proteins=1, small_molecules=1)"
   ]
  },
  {
   "cell_type": "markdown",
   "id": "930a4d3d-d850-46fa-91d6-946152627530",
   "metadata": {},
   "source": [
    "Other element types, such as atoms, groups, components or molecules, can also be checked using their respective attribute names:"
   ]
  },
  {
   "cell_type": "code",
   "execution_count": 9,
   "id": "f32025a3-a3ba-47b8-89e7-986e75087686",
   "metadata": {
    "execution": {
     "iopub.execute_input": "2025-04-13T03:06:52.178155Z",
     "iopub.status.busy": "2025-04-13T03:06:52.177576Z",
     "iopub.status.idle": "2025-04-13T03:06:54.206489Z",
     "shell.execute_reply": "2025-04-13T03:06:54.203791Z"
    }
   },
   "outputs": [
    {
     "data": {
      "text/plain": [
       "True"
      ]
     },
     "execution_count": 9,
     "metadata": {},
     "output_type": "execute_result"
    }
   ],
   "source": [
    "msm.is_composed_of(molsys, n_atoms=1441, n_groups=302)"
   ]
  },
  {
   "cell_type": "code",
   "execution_count": 10,
   "id": "8c1568cc-c24e-4acf-88a2-622237ba0e34",
   "metadata": {
    "execution": {
     "iopub.execute_input": "2025-04-13T03:06:54.214543Z",
     "iopub.status.busy": "2025-04-13T03:06:54.213643Z",
     "iopub.status.idle": "2025-04-13T03:06:56.130237Z",
     "shell.execute_reply": "2025-04-13T03:06:56.128959Z"
    }
   },
   "outputs": [
    {
     "data": {
      "text/plain": [
       "False"
      ]
     },
     "execution_count": 10,
     "metadata": {},
     "output_type": "execute_result"
    }
   ],
   "source": [
    "msm.is_composed_of(molsys, n_components=3, n_molecules=3)"
   ]
  },
  {
   "cell_type": "markdown",
   "id": "a2ad1946-a608-43a7-b252-e26ae8f84544",
   "metadata": {},
   "source": [
    "Finally, you can apply this function to a selection of elements using the `selection` argument:"
   ]
  },
  {
   "cell_type": "code",
   "execution_count": 11,
   "id": "ff7631b9-a525-497e-ab09-f28a73c32b75",
   "metadata": {
    "execution": {
     "iopub.execute_input": "2025-04-13T03:06:56.140257Z",
     "iopub.status.busy": "2025-04-13T03:06:56.138279Z",
     "iopub.status.idle": "2025-04-13T03:06:57.912234Z",
     "shell.execute_reply": "2025-04-13T03:06:57.907716Z"
    }
   },
   "outputs": [
    {
     "data": {
      "text/plain": [
       "True"
      ]
     },
     "execution_count": 11,
     "metadata": {},
     "output_type": "execute_result"
    }
   ],
   "source": [
    "msm.is_composed_of(molsys, selection='molecule_type in [\"ion\", \"water\", \"small molecule\", \"protein\"]')"
   ]
  },
  {
   "cell_type": "code",
   "execution_count": 12,
   "id": "1bf374a4-c448-49c1-a4ea-74a6f211e25b",
   "metadata": {
    "execution": {
     "iopub.execute_input": "2025-04-13T03:06:57.919794Z",
     "iopub.status.busy": "2025-04-13T03:06:57.919041Z",
     "iopub.status.idle": "2025-04-13T03:07:01.180715Z",
     "shell.execute_reply": "2025-04-13T03:07:01.179578Z"
    }
   },
   "outputs": [
    {
     "data": {
      "text/plain": [
       "True"
      ]
     },
     "execution_count": 12,
     "metadata": {},
     "output_type": "execute_result"
    }
   ],
   "source": [
    "msm.is_composed_of(molsys, selection='molecule_type not in [\"ion\", \"water\", \"small molecule\"]', proteins=1)"
   ]
  },
  {
   "cell_type": "markdown",
   "id": "a5804414-4973-4b10-b642-3157f35fd16a",
   "metadata": {},
   "source": [
    ":::{seealso}\n",
    "[User guide > Introduction > Molecular System > Elements](../../intro/molecular_systems/elements.md):    \n",
    "Describe the hierarchical structure of elements in a molecular system.\n",
    "\n",
    "[User guide > Tools > Basic > Convert](convert.ipynb):    \n",
    "Convert a molecular system into another form.\n",
    "\n",
    "[User guide > Tools > Basic > Info](info.ipynb):    \n",
    "Display summary information about the contents of a molecular system.\n",
    "\n",
    "[User guide > Tools > Basic > Contains](contains.ipynb):    \n",
    "Check whether specific elements are present in a molecular system.\n",
    "\n",
    ":::"
   ]
  }
 ],
 "metadata": {
  "kernelspec": {
   "display_name": "Python 3 (ipykernel)",
   "language": "python",
   "name": "python3"
  },
  "language_info": {
   "codemirror_mode": {
    "name": "ipython",
    "version": 3
   },
   "file_extension": ".py",
   "mimetype": "text/x-python",
   "name": "python",
   "nbconvert_exporter": "python",
   "pygments_lexer": "ipython3",
   "version": "3.12.9"
  },
  "widgets": {
   "application/vnd.jupyter.widget-state+json": {
    "state": {
     "1a2b6c24a26641edb75a70fef4ab4575": {
      "model_module": "nglview-js-widgets",
      "model_module_version": "3.0.8",
      "model_name": "ColormakerRegistryModel",
      "state": {
       "_dom_classes": [],
       "_model_module": "nglview-js-widgets",
       "_model_module_version": "3.0.8",
       "_model_name": "ColormakerRegistryModel",
       "_msg_ar": [],
       "_msg_q": [],
       "_ready": false,
       "_view_count": null,
       "_view_module": "nglview-js-widgets",
       "_view_module_version": "3.0.8",
       "_view_name": "ColormakerRegistryView",
       "layout": "IPY_MODEL_3901fe0550b643c7973edc07f452665c",
       "tabbable": null,
       "tooltip": null
      }
     },
     "3901fe0550b643c7973edc07f452665c": {
      "model_module": "@jupyter-widgets/base",
      "model_module_version": "2.0.0",
      "model_name": "LayoutModel",
      "state": {
       "_model_module": "@jupyter-widgets/base",
       "_model_module_version": "2.0.0",
       "_model_name": "LayoutModel",
       "_view_count": null,
       "_view_module": "@jupyter-widgets/base",
       "_view_module_version": "2.0.0",
       "_view_name": "LayoutView",
       "align_content": null,
       "align_items": null,
       "align_self": null,
       "border_bottom": null,
       "border_left": null,
       "border_right": null,
       "border_top": null,
       "bottom": null,
       "display": null,
       "flex": null,
       "flex_flow": null,
       "grid_area": null,
       "grid_auto_columns": null,
       "grid_auto_flow": null,
       "grid_auto_rows": null,
       "grid_column": null,
       "grid_gap": null,
       "grid_row": null,
       "grid_template_areas": null,
       "grid_template_columns": null,
       "grid_template_rows": null,
       "height": null,
       "justify_content": null,
       "justify_items": null,
       "left": null,
       "margin": null,
       "max_height": null,
       "max_width": null,
       "min_height": null,
       "min_width": null,
       "object_fit": null,
       "object_position": null,
       "order": null,
       "overflow": null,
       "padding": null,
       "right": null,
       "top": null,
       "visibility": null,
       "width": null
      }
     }
    },
    "version_major": 2,
    "version_minor": 0
   }
  }
 },
 "nbformat": 4,
 "nbformat_minor": 5
}
