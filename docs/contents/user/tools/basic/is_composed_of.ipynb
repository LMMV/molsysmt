{
 "cells": [
  {
   "cell_type": "code",
   "execution_count": 1,
   "id": "5bf76106-0632-47ac-a712-d1fe0b77fed0",
   "metadata": {
    "tags": [
     "remove-input"
    ]
   },
   "outputs": [],
   "source": [
    "# This cell is removed with the tag: \"remove-input\"\n",
    "# As such, it will not be shown in documentation\n",
    "\n",
    "import warnings\n",
    "warnings.filterwarnings('ignore')"
   ]
  },
  {
   "cell_type": "markdown",
   "id": "3fd275e9-e7ab-4c25-8a28-9efb8a9d9e04",
   "metadata": {},
   "source": [
    "(UserGuide_Tools_Basic_IsComposedOf)=\n",
    "# Is composed of\n",
    "\n",
    "*Checking if a molecular system is composed of specific elements*\n",
    "\n",
    "The function `molsysmt.basic.is_composed_of` can be used to know if a molecular system is made up entirely of certain elements. Let's illustrate how this function work with an example:"
   ]
  },
  {
   "cell_type": "code",
   "execution_count": 2,
   "id": "0257bd9e-967f-432a-b41d-c4c5f8ee3f79",
   "metadata": {},
   "outputs": [
    {
     "data": {
      "application/vnd.jupyter.widget-view+json": {
       "model_id": "0fff5d03600e4a73a39d7c6fb107d89f",
       "version_major": 2,
       "version_minor": 0
      },
      "text/plain": []
     },
     "metadata": {},
     "output_type": "display_data"
    }
   ],
   "source": [
    "import molsysmt as msm"
   ]
  },
  {
   "cell_type": "code",
   "execution_count": 3,
   "id": "025f14f5-b1e2-40f3-b2a1-6b7b1aa753c7",
   "metadata": {},
   "outputs": [],
   "source": [
    "molecular_system = msm.convert('pdb_id:181L')"
   ]
  },
  {
   "cell_type": "code",
   "execution_count": 4,
   "id": "f6caa0e6-8ed5-439f-9ee5-c000cf4987a4",
   "metadata": {
    "tags": [
     "scroll-output"
    ]
   },
   "outputs": [
    {
     "data": {
      "text/html": [
       "<style type=\"text/css\">\n",
       "</style>\n",
       "<table id=\"T_aca99\">\n",
       "  <thead>\n",
       "    <tr>\n",
       "      <th id=\"T_aca99_level0_col0\" class=\"col_heading level0 col0\" >form</th>\n",
       "      <th id=\"T_aca99_level0_col1\" class=\"col_heading level0 col1\" >n_atoms</th>\n",
       "      <th id=\"T_aca99_level0_col2\" class=\"col_heading level0 col2\" >n_groups</th>\n",
       "      <th id=\"T_aca99_level0_col3\" class=\"col_heading level0 col3\" >n_components</th>\n",
       "      <th id=\"T_aca99_level0_col4\" class=\"col_heading level0 col4\" >n_chains</th>\n",
       "      <th id=\"T_aca99_level0_col5\" class=\"col_heading level0 col5\" >n_molecules</th>\n",
       "      <th id=\"T_aca99_level0_col6\" class=\"col_heading level0 col6\" >n_entities</th>\n",
       "      <th id=\"T_aca99_level0_col7\" class=\"col_heading level0 col7\" >n_waters</th>\n",
       "      <th id=\"T_aca99_level0_col8\" class=\"col_heading level0 col8\" >n_ions</th>\n",
       "      <th id=\"T_aca99_level0_col9\" class=\"col_heading level0 col9\" >n_small_molecules</th>\n",
       "      <th id=\"T_aca99_level0_col10\" class=\"col_heading level0 col10\" >n_proteins</th>\n",
       "      <th id=\"T_aca99_level0_col11\" class=\"col_heading level0 col11\" >n_structures</th>\n",
       "    </tr>\n",
       "  </thead>\n",
       "  <tbody>\n",
       "    <tr>\n",
       "      <td id=\"T_aca99_row0_col0\" class=\"data row0 col0\" >molsysmt.MolSys</td>\n",
       "      <td id=\"T_aca99_row0_col1\" class=\"data row0 col1\" >1441</td>\n",
       "      <td id=\"T_aca99_row0_col2\" class=\"data row0 col2\" >302</td>\n",
       "      <td id=\"T_aca99_row0_col3\" class=\"data row0 col3\" >141</td>\n",
       "      <td id=\"T_aca99_row0_col4\" class=\"data row0 col4\" >6</td>\n",
       "      <td id=\"T_aca99_row0_col5\" class=\"data row0 col5\" >141</td>\n",
       "      <td id=\"T_aca99_row0_col6\" class=\"data row0 col6\" >5</td>\n",
       "      <td id=\"T_aca99_row0_col7\" class=\"data row0 col7\" >136</td>\n",
       "      <td id=\"T_aca99_row0_col8\" class=\"data row0 col8\" >2</td>\n",
       "      <td id=\"T_aca99_row0_col9\" class=\"data row0 col9\" >2</td>\n",
       "      <td id=\"T_aca99_row0_col10\" class=\"data row0 col10\" >1</td>\n",
       "      <td id=\"T_aca99_row0_col11\" class=\"data row0 col11\" >1</td>\n",
       "    </tr>\n",
       "  </tbody>\n",
       "</table>\n"
      ],
      "text/plain": [
       "<pandas.io.formats.style.Styler at 0x7fc0b06fd610>"
      ]
     },
     "execution_count": 4,
     "metadata": {},
     "output_type": "execute_result"
    }
   ],
   "source": [
    "msm.info(molecular_system)"
   ]
  },
  {
   "cell_type": "markdown",
   "id": "915ec59c-8ae2-4eba-a886-437dc934a469",
   "metadata": {},
   "source": [
    "We now in advance that the system has different molecule types: proteins, ions, waters, small molecules... Thereby the system contains proteins, by is not composed of proteins:"
   ]
  },
  {
   "cell_type": "code",
   "execution_count": 5,
   "id": "f3d59b9d-a0b8-4861-95c6-7c5d67abdaa6",
   "metadata": {},
   "outputs": [
    {
     "data": {
      "text/plain": [
       "False"
      ]
     },
     "execution_count": 5,
     "metadata": {},
     "output_type": "execute_result"
    }
   ],
   "source": [
    "msm.is_composed_of(molecular_system, proteins=True)"
   ]
  },
  {
   "cell_type": "markdown",
   "id": "4e54fa38-2047-435b-ba49-3b0dd86c1175",
   "metadata": {},
   "source": [
    "```{admonition} Tip\n",
    ":class: tip\n",
    "All methods defined in the {ref}`molsysmt.basic <API basic>` module can be invoked also from the main level of the library. Hence, {func}`molsysmt.is_composed_of` is the same method as {func}`molsysmt.basic.is_composed_of`.\n",
    "```"
   ]
  },
  {
   "cell_type": "markdown",
   "id": "f019da20-1efe-400c-b6c1-ec2d63f77c5a",
   "metadata": {},
   "source": [
    "If there is the need to check if the molecular system contains proteins, the function `molsysmt.basic.contains` can be used:"
   ]
  },
  {
   "cell_type": "code",
   "execution_count": 6,
   "id": "3d4ac898-63de-4a9b-94af-a80e691f4e95",
   "metadata": {},
   "outputs": [
    {
     "data": {
      "text/plain": [
       "True"
      ]
     },
     "execution_count": 6,
     "metadata": {},
     "output_type": "execute_result"
    }
   ],
   "source": [
    "msm.contains(molecular_system, proteins=True)"
   ]
  },
  {
   "cell_type": "markdown",
   "id": "3b4b6fe4-f0b1-4595-83a0-2b66b9b7b362",
   "metadata": {},
   "source": [
    "Let's see now if the molecular system is indeed composed of proteins, waters, small molecules and ions:"
   ]
  },
  {
   "cell_type": "code",
   "execution_count": 7,
   "id": "50e6f666-a413-4a44-b11a-83ecd778ac85",
   "metadata": {},
   "outputs": [
    {
     "data": {
      "text/plain": [
       "True"
      ]
     },
     "execution_count": 7,
     "metadata": {},
     "output_type": "execute_result"
    }
   ],
   "source": [
    "msm.is_composed_of(molecular_system, proteins=True, waters=True, small_molecules=True, ions=True)"
   ]
  },
  {
   "cell_type": "markdown",
   "id": "02fd80ce-dac5-4188-98ec-6b38c13a2fb0",
   "metadata": {},
   "source": [
    "Amounts of specific molecules can also be specified in `molsysmt.basic.is_composed_of`. For instance:"
   ]
  },
  {
   "cell_type": "code",
   "execution_count": 8,
   "id": "d315b2aa-de0b-40a0-b7c1-303af2980fd1",
   "metadata": {},
   "outputs": [
    {
     "data": {
      "text/plain": [
       "True"
      ]
     },
     "execution_count": 8,
     "metadata": {},
     "output_type": "execute_result"
    }
   ],
   "source": [
    "msm.is_composed_of(molecular_system, proteins=1, waters=True, small_molecules=2, ions=True)"
   ]
  },
  {
   "cell_type": "code",
   "execution_count": 9,
   "id": "1ed9b08a-bc8a-4d3b-a339-1286df899773",
   "metadata": {},
   "outputs": [
    {
     "data": {
      "text/plain": [
       "False"
      ]
     },
     "execution_count": 9,
     "metadata": {},
     "output_type": "execute_result"
    }
   ],
   "source": [
    "msm.is_composed_of(molecular_system, proteins=1, small_molecules=1)"
   ]
  }
 ],
 "metadata": {
  "kernelspec": {
   "display_name": "Python 3 (ipykernel)",
   "language": "python",
   "name": "python3"
  },
  "language_info": {
   "codemirror_mode": {
    "name": "ipython",
    "version": 3
   },
   "file_extension": ".py",
   "mimetype": "text/x-python",
   "name": "python",
   "nbconvert_exporter": "python",
   "pygments_lexer": "ipython3",
   "version": "3.9.15"
  }
 },
 "nbformat": 4,
 "nbformat_minor": 5
}
