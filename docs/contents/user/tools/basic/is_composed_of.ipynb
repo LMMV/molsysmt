{
 "cells": [
  {
   "cell_type": "code",
   "execution_count": null,
   "id": "5bf76106-0632-47ac-a712-d1fe0b77fed0",
   "metadata": {
    "tags": [
     "remove-input"
    ]
   },
   "outputs": [],
   "source": [
    "# This cell is removed with the tag: \"remove-input\"\n",
    "# As such, it will not be shown in documentation\n",
    "\n",
    "#import warnings\n",
    "#warnings.filterwarnings('ignore')"
   ]
  },
  {
   "cell_type": "markdown",
   "id": "3fd275e9-e7ab-4c25-8a28-9efb8a9d9e04",
   "metadata": {},
   "source": [
    "(Tutorial_Is_composed_of)=\n",
    "# Is composed of\n",
    "\n",
    "*Checking if a molecular system is composed of specific elements*\n",
    "\n",
    "The function {func}`molsysmt.basic.is_composed_of` can be used to know if a molecular system is made up entirely of certain elements.\n",
    "\n",
    "## How this function works\n",
    "\n",
    "```{admonition} API documentation\n",
    "Follow this link for a detailed description of the input arguments, raised errors, and returned objects of this function:{func}`molsysmt.basic.is_composed_of`.\n",
    "```\n",
    "\n",
    "Let's illustrate how this function work with an example:"
   ]
  },
  {
   "cell_type": "code",
   "execution_count": null,
   "id": "0257bd9e-967f-432a-b41d-c4c5f8ee3f79",
   "metadata": {},
   "outputs": [],
   "source": [
    "import molsysmt as msm"
   ]
  },
  {
   "cell_type": "code",
   "execution_count": null,
   "id": "025f14f5-b1e2-40f3-b2a1-6b7b1aa753c7",
   "metadata": {},
   "outputs": [],
   "source": [
    "molecular_system = msm.convert('181L')"
   ]
  },
  {
   "cell_type": "code",
   "execution_count": null,
   "id": "f6caa0e6-8ed5-439f-9ee5-c000cf4987a4",
   "metadata": {
    "tags": [
     "scroll-output"
    ]
   },
   "outputs": [],
   "source": [
    "msm.info(molecular_system)"
   ]
  },
  {
   "cell_type": "markdown",
   "id": "915ec59c-8ae2-4eba-a886-437dc934a469",
   "metadata": {},
   "source": [
    "We know in advance that the system has different molecule types: proteins, ions, waters and small molecules. Thereby the system contains proteins, but is not composed of proteins:"
   ]
  },
  {
   "cell_type": "code",
   "execution_count": null,
   "id": "f3d59b9d-a0b8-4861-95c6-7c5d67abdaa6",
   "metadata": {},
   "outputs": [],
   "source": [
    "msm.is_composed_of(molecular_system, proteins=True)"
   ]
  },
  {
   "cell_type": "markdown",
   "id": "4e54fa38-2047-435b-ba49-3b0dd86c1175",
   "metadata": {},
   "source": [
    "```{admonition} Tip\n",
    ":class: tip\n",
    "All methods defined in the {ref}`molsysmt.basic <API basic>` module can be invoked also from the main level of the library. Hence, {func}`molsysmt.is_composed_of` is the same method as {func}`molsysmt.basic.is_composed_of`.\n",
    "```"
   ]
  },
  {
   "cell_type": "markdown",
   "id": "3b4b6fe4-f0b1-4595-83a0-2b66b9b7b362",
   "metadata": {},
   "source": [
    "Let's see now if the molecular system is indeed composed of proteins, waters, small molecules and ions:"
   ]
  },
  {
   "cell_type": "code",
   "execution_count": null,
   "id": "50e6f666-a413-4a44-b11a-83ecd778ac85",
   "metadata": {},
   "outputs": [],
   "source": [
    "msm.is_composed_of(molecular_system, proteins=True, waters=True, small_molecules=True, ions=True)"
   ]
  },
  {
   "cell_type": "markdown",
   "id": "02fd80ce-dac5-4188-98ec-6b38c13a2fb0",
   "metadata": {},
   "source": [
    "Amounts of specific molecules can also be specified in `molsysmt.basic.is_composed_of`. For instance:"
   ]
  },
  {
   "cell_type": "code",
   "execution_count": null,
   "id": "d315b2aa-de0b-40a0-b7c1-303af2980fd1",
   "metadata": {},
   "outputs": [],
   "source": [
    "msm.is_composed_of(molecular_system, proteins=1, waters=True, small_molecules=2, ions=True)"
   ]
  },
  {
   "cell_type": "code",
   "execution_count": null,
   "id": "1ed9b08a-bc8a-4d3b-a339-1286df899773",
   "metadata": {},
   "outputs": [],
   "source": [
    "msm.is_composed_of(molecular_system, proteins=1, small_molecules=1)"
   ]
  },
  {
   "cell_type": "markdown",
   "id": "930a4d3d-d850-46fa-91d6-946152627530",
   "metadata": {},
   "source": [
    "Other elements such as atoms and groups can also be checked:"
   ]
  },
  {
   "cell_type": "code",
   "execution_count": null,
   "id": "f32025a3-a3ba-47b8-89e7-986e75087686",
   "metadata": {},
   "outputs": [],
   "source": [
    "msm.is_composed_of(molecular_system, n_atoms=1441, n_groups=302)"
   ]
  },
  {
   "cell_type": "code",
   "execution_count": null,
   "id": "8c1568cc-c24e-4acf-88a2-622237ba0e34",
   "metadata": {},
   "outputs": [],
   "source": [
    "msm.is_composed_of(molecular_system, n_components=3, n_molecules=3)"
   ]
  },
  {
   "cell_type": "markdown",
   "id": "a2ad1946-a608-43a7-b252-e26ae8f84544",
   "metadata": {},
   "source": [
    "Finally, it is worth mentioning that the function {func}`molsysmt.basic.is_composed_of` accepts also elements selections by means of the ``selection`` input argument:"
   ]
  },
  {
   "cell_type": "code",
   "execution_count": null,
   "id": "ff7631b9-a525-497e-ab09-f28a73c32b75",
   "metadata": {},
   "outputs": [],
   "source": [
    "msm.is_composed_of(molecular_system, selection='molecule_type in [\"ion\", \"water\", \"small molecule\", \"protein\"]')"
   ]
  },
  {
   "cell_type": "code",
   "execution_count": null,
   "id": "1bf374a4-c448-49c1-a4ea-74a6f211e25b",
   "metadata": {},
   "outputs": [],
   "source": [
    "msm.is_composed_of(molecular_system, selection='molecule_type not in [\"ion\", \"water\", \"small molecule\"]', proteins=1)"
   ]
  },
  {
   "cell_type": "markdown",
   "id": "a5804414-4973-4b10-b642-3157f35fd16a",
   "metadata": {},
   "source": [
    ":::{seealso}\n",
    "[User guide > Introduction > Molecular System > Elements](../../intro/molecular_systems/elements.md):    \n",
    "[User guide > Tools > Basic > Convert](convert.ipynb): Converting a molecular system into other form.    \n",
    "[User guide > Tools > Basic > Info](info.ipynb): Printing out summary information of a molecular system.    \n",
    "[User guide > Tools > Basic > Contains](contains.ipynb):        \n",
    ":::"
   ]
  }
 ],
 "metadata": {
  "kernelspec": {
   "display_name": "Python 3 (ipykernel)",
   "language": "python",
   "name": "python3"
  },
  "language_info": {
   "codemirror_mode": {
    "name": "ipython",
    "version": 3
   },
   "file_extension": ".py",
   "mimetype": "text/x-python",
   "name": "python",
   "nbconvert_exporter": "python",
   "pygments_lexer": "ipython3",
   "version": "3.10.11"
  }
 },
 "nbformat": 4,
 "nbformat_minor": 5
}
