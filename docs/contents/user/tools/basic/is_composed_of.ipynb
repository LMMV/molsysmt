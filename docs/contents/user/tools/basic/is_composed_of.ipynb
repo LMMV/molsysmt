{
 "cells": [
  {
   "cell_type": "code",
   "execution_count": null,
   "id": "5bf76106-0632-47ac-a712-d1fe0b77fed0",
   "metadata": {
    "tags": [
     "remove-input"
    ]
   },
   "outputs": [],
   "source": [
    "# This cell is removed with the tag: \"remove-input\"\n",
    "# As such, it will not be shown in documentation\n",
    "\n",
    "import warnings\n",
    "warnings.filterwarnings('ignore')"
   ]
  },
  {
   "cell_type": "markdown",
   "id": "3fd275e9-e7ab-4c25-8a28-9efb8a9d9e04",
   "metadata": {},
   "source": [
    "(UserGuide_Tools_Basic_IsComposedOf)=\n",
    "# Is composed of\n",
    "\n",
    "*Checking if a molecular system is composed of specific elements*\n",
    "\n",
    "The function `molsysmt.basic.is_composed_of` can be used to know if a molecular system is made up entirely of certain elements. Let's illustrate how this function work with an example:"
   ]
  },
  {
   "cell_type": "code",
   "execution_count": null,
   "id": "0257bd9e-967f-432a-b41d-c4c5f8ee3f79",
   "metadata": {},
   "outputs": [],
   "source": [
    "import molsysmt as msm"
   ]
  },
  {
   "cell_type": "code",
   "execution_count": null,
   "id": "025f14f5-b1e2-40f3-b2a1-6b7b1aa753c7",
   "metadata": {},
   "outputs": [],
   "source": [
    "molecular_system = msm.convert('pdb_id:181L')"
   ]
  },
  {
   "cell_type": "code",
   "execution_count": null,
   "id": "f6caa0e6-8ed5-439f-9ee5-c000cf4987a4",
   "metadata": {
    "tags": [
     "scroll-output"
    ]
   },
   "outputs": [],
   "source": [
    "msm.info(molecular_system)"
   ]
  },
  {
   "cell_type": "markdown",
   "id": "915ec59c-8ae2-4eba-a886-437dc934a469",
   "metadata": {},
   "source": [
    "We now in advance that the system has different molecule types: proteins, ions, waters, small molecules... Thereby the system contains proteins, by is not composed of proteins:"
   ]
  },
  {
   "cell_type": "code",
   "execution_count": null,
   "id": "f3d59b9d-a0b8-4861-95c6-7c5d67abdaa6",
   "metadata": {},
   "outputs": [],
   "source": [
    "msm.is_composed_of(molecular_system, proteins=True)"
   ]
  },
  {
   "cell_type": "markdown",
   "id": "4e54fa38-2047-435b-ba49-3b0dd86c1175",
   "metadata": {},
   "source": [
    "```{admonition} Tip\n",
    ":class: tip\n",
    "All methods defined in the {ref}`molsysmt.basic <API basic>` module can be invoked also from the main level of the library. Hence, {func}`molsysmt.is_composed_of` is the same method as {func}`molsysmt.basic.is_composed_of`.\n",
    "```"
   ]
  },
  {
   "cell_type": "markdown",
   "id": "f019da20-1efe-400c-b6c1-ec2d63f77c5a",
   "metadata": {},
   "source": [
    "If there is the need to check if the molecular system contains proteins, the function `molsysmt.basic.contains` can be used:"
   ]
  },
  {
   "cell_type": "code",
   "execution_count": null,
   "id": "3d4ac898-63de-4a9b-94af-a80e691f4e95",
   "metadata": {},
   "outputs": [],
   "source": [
    "msm.contains(molecular_system, proteins=True)"
   ]
  },
  {
   "cell_type": "markdown",
   "id": "3b4b6fe4-f0b1-4595-83a0-2b66b9b7b362",
   "metadata": {},
   "source": [
    "Let's see now if the molecular system is indeed composed of proteins, waters, small molecules and ions:"
   ]
  },
  {
   "cell_type": "code",
   "execution_count": null,
   "id": "50e6f666-a413-4a44-b11a-83ecd778ac85",
   "metadata": {},
   "outputs": [],
   "source": [
    "msm.is_composed_of(molecular_system, proteins=True, waters=True, small_molecules=True, ions=True)"
   ]
  },
  {
   "cell_type": "markdown",
   "id": "02fd80ce-dac5-4188-98ec-6b38c13a2fb0",
   "metadata": {},
   "source": [
    "Amounts of specific molecules can also be specified in `molsysmt.basic.is_composed_of`. For instance:"
   ]
  },
  {
   "cell_type": "code",
   "execution_count": null,
   "id": "d315b2aa-de0b-40a0-b7c1-303af2980fd1",
   "metadata": {},
   "outputs": [],
   "source": [
    "msm.is_composed_of(molecular_system, proteins=1, waters=True, small_molecules=2, ions=True)"
   ]
  },
  {
   "cell_type": "code",
   "execution_count": null,
   "id": "1ed9b08a-bc8a-4d3b-a339-1286df899773",
   "metadata": {},
   "outputs": [],
   "source": [
    "msm.is_composed_of(molecular_system, proteins=1, small_molecules=1)"
   ]
  }
 ],
 "metadata": {
  "kernelspec": {
   "display_name": "Python 3 (ipykernel)",
   "language": "python",
   "name": "python3"
  },
  "language_info": {
   "codemirror_mode": {
    "name": "ipython",
    "version": 3
   },
   "file_extension": ".py",
   "mimetype": "text/x-python",
   "name": "python",
   "nbconvert_exporter": "python",
   "pygments_lexer": "ipython3",
   "version": "3.9.13"
  }
 },
 "nbformat": 4,
 "nbformat_minor": 5
}
