{
 "cells": [
  {
   "cell_type": "code",
   "execution_count": 1,
   "metadata": {
    "execution": {
     "iopub.execute_input": "2025-04-13T03:01:01.126024Z",
     "iopub.status.busy": "2025-04-13T03:01:01.124571Z",
     "iopub.status.idle": "2025-04-13T03:01:01.141068Z",
     "shell.execute_reply": "2025-04-13T03:01:01.138527Z"
    },
    "tags": [
     "remove-input"
    ]
   },
   "outputs": [],
   "source": [
    "# This cell is removed with the tag: \"remove-input\"\n",
    "# As such, it will not be shown in documentation\n",
    "\n",
    "import warnings\n",
    "warnings.filterwarnings('ignore')"
   ]
  },
  {
   "cell_type": "markdown",
   "metadata": {},
   "source": [
    "(Tutorial_Append_structures)=\n",
    "# Append structures\n",
    "\n",
    "*Appending structures from one molecular system into another.*\n",
    "\n",
    "Structures from different molecular systems can be appended to a given system using the\n",
    "{func}`molsysmt.basic.append_structures` function. The number of atoms needs to be the same in\n",
    "both systems, or a matching `selection` must be provided to select compatible atoms.\n",
    "\n",
    ":::{versionadded} 1.0.0\n",
    ":::\n",
    "\n",
    "## How this function works\n",
    "\n",
    "```{admonition} API documentation\n",
    "Follow this link for a detailed description of the input arguments, raised errors, and returned objects of this function:{func}`molsysmt.basic.append_structures`.\n",
    "```\n",
    "\n",
    "Let's show how this method works with the alanine dipeptide defined as three diferent molecular systems with different structures."
   ]
  },
  {
   "cell_type": "code",
   "execution_count": 2,
   "metadata": {
    "execution": {
     "iopub.execute_input": "2025-04-13T03:01:01.148005Z",
     "iopub.status.busy": "2025-04-13T03:01:01.147342Z",
     "iopub.status.idle": "2025-04-13T03:01:05.806450Z",
     "shell.execute_reply": "2025-04-13T03:01:05.805616Z"
    }
   },
   "outputs": [
    {
     "data": {
      "application/vnd.jupyter.widget-view+json": {
       "model_id": "8dd035407625440aada3953eeb656d4d",
       "version_major": 2,
       "version_minor": 0
      },
      "text/plain": []
     },
     "metadata": {},
     "output_type": "display_data"
    }
   ],
   "source": [
    "import molsysmt as msm"
   ]
  },
  {
   "cell_type": "code",
   "execution_count": 3,
   "metadata": {
    "execution": {
     "iopub.execute_input": "2025-04-13T03:01:05.808743Z",
     "iopub.status.busy": "2025-04-13T03:01:05.808362Z",
     "iopub.status.idle": "2025-04-13T03:01:07.264847Z",
     "shell.execute_reply": "2025-04-13T03:01:07.263752Z"
    }
   },
   "outputs": [],
   "source": [
    "molsys_A = msm.build.build_peptide('AceAlaNME')\n",
    "molsys_B = msm.structure.translate(molsys_A, translation='[0.1, 0.1, 0.1] nanometers')\n",
    "molsys_C = msm.structure.translate(molsys_A, translation='[0.2, 0.2, 0.2] nanometers')"
   ]
  },
  {
   "cell_type": "markdown",
   "metadata": {},
   "source": [
    "Systems $B$ and $C$ were translated in space. This way all three systems have the same elements but different structures.\n",
    "Let's see how $A$ is defined before appending the structures of $B$ and $C$:"
   ]
  },
  {
   "cell_type": "code",
   "execution_count": 4,
   "metadata": {
    "execution": {
     "iopub.execute_input": "2025-04-13T03:01:07.268788Z",
     "iopub.status.busy": "2025-04-13T03:01:07.268207Z",
     "iopub.status.idle": "2025-04-13T03:01:08.689279Z",
     "shell.execute_reply": "2025-04-13T03:01:08.688450Z"
    }
   },
   "outputs": [
    {
     "data": {
      "text/html": [
       "<style type=\"text/css\">\n",
       "</style>\n",
       "<table id=\"T_749c1\">\n",
       "  <thead>\n",
       "    <tr>\n",
       "      <th id=\"T_749c1_level0_col0\" class=\"col_heading level0 col0\" >form</th>\n",
       "      <th id=\"T_749c1_level0_col1\" class=\"col_heading level0 col1\" >n_atoms</th>\n",
       "      <th id=\"T_749c1_level0_col2\" class=\"col_heading level0 col2\" >n_groups</th>\n",
       "      <th id=\"T_749c1_level0_col3\" class=\"col_heading level0 col3\" >n_components</th>\n",
       "      <th id=\"T_749c1_level0_col4\" class=\"col_heading level0 col4\" >n_chains</th>\n",
       "      <th id=\"T_749c1_level0_col5\" class=\"col_heading level0 col5\" >n_molecules</th>\n",
       "      <th id=\"T_749c1_level0_col6\" class=\"col_heading level0 col6\" >n_entities</th>\n",
       "      <th id=\"T_749c1_level0_col7\" class=\"col_heading level0 col7\" >n_peptides</th>\n",
       "      <th id=\"T_749c1_level0_col8\" class=\"col_heading level0 col8\" >n_structures</th>\n",
       "    </tr>\n",
       "  </thead>\n",
       "  <tbody>\n",
       "    <tr>\n",
       "      <td id=\"T_749c1_row0_col0\" class=\"data row0 col0\" >molsysmt.MolSys</td>\n",
       "      <td id=\"T_749c1_row0_col1\" class=\"data row0 col1\" >22</td>\n",
       "      <td id=\"T_749c1_row0_col2\" class=\"data row0 col2\" >3</td>\n",
       "      <td id=\"T_749c1_row0_col3\" class=\"data row0 col3\" >1</td>\n",
       "      <td id=\"T_749c1_row0_col4\" class=\"data row0 col4\" >1</td>\n",
       "      <td id=\"T_749c1_row0_col5\" class=\"data row0 col5\" >1</td>\n",
       "      <td id=\"T_749c1_row0_col6\" class=\"data row0 col6\" >1</td>\n",
       "      <td id=\"T_749c1_row0_col7\" class=\"data row0 col7\" >1</td>\n",
       "      <td id=\"T_749c1_row0_col8\" class=\"data row0 col8\" >1</td>\n",
       "    </tr>\n",
       "  </tbody>\n",
       "</table>\n"
      ],
      "text/plain": [
       "<pandas.io.formats.style.Styler at 0x773c640b8e90>"
      ]
     },
     "execution_count": 4,
     "metadata": {},
     "output_type": "execute_result"
    }
   ],
   "source": [
    "msm.info(molsys_A)"
   ]
  },
  {
   "cell_type": "markdown",
   "metadata": {},
   "source": [
    "Now it is time to use {func}`molsysmt.basic.append_structures`:"
   ]
  },
  {
   "cell_type": "code",
   "execution_count": 5,
   "metadata": {
    "execution": {
     "iopub.execute_input": "2025-04-13T03:01:08.692203Z",
     "iopub.status.busy": "2025-04-13T03:01:08.691706Z",
     "iopub.status.idle": "2025-04-13T03:01:09.845514Z",
     "shell.execute_reply": "2025-04-13T03:01:09.844676Z"
    }
   },
   "outputs": [],
   "source": [
    "msm.append_structures(molsys_A, molsys_B)\n",
    "msm.append_structures(molsys_A, molsys_C)"
   ]
  },
  {
   "cell_type": "markdown",
   "metadata": {},
   "source": [
    ":::{tip}\n",
    "All methods defined in the {ref}`molsysmt.basic <API basic>` module can be invoked also from the main level of the library. As such, {func}`molsysmt.append_structures` is the same method as {func}`molsysmt.basic.append_structures`.\n",
    ":::"
   ]
  },
  {
   "cell_type": "markdown",
   "metadata": {},
   "source": [
    "Let's see now the new content of $A$:"
   ]
  },
  {
   "cell_type": "code",
   "execution_count": 6,
   "metadata": {
    "execution": {
     "iopub.execute_input": "2025-04-13T03:01:09.847905Z",
     "iopub.status.busy": "2025-04-13T03:01:09.847680Z",
     "iopub.status.idle": "2025-04-13T03:01:11.240008Z",
     "shell.execute_reply": "2025-04-13T03:01:11.239173Z"
    }
   },
   "outputs": [
    {
     "data": {
      "text/html": [
       "<style type=\"text/css\">\n",
       "</style>\n",
       "<table id=\"T_ef81d\">\n",
       "  <thead>\n",
       "    <tr>\n",
       "      <th id=\"T_ef81d_level0_col0\" class=\"col_heading level0 col0\" >form</th>\n",
       "      <th id=\"T_ef81d_level0_col1\" class=\"col_heading level0 col1\" >n_atoms</th>\n",
       "      <th id=\"T_ef81d_level0_col2\" class=\"col_heading level0 col2\" >n_groups</th>\n",
       "      <th id=\"T_ef81d_level0_col3\" class=\"col_heading level0 col3\" >n_components</th>\n",
       "      <th id=\"T_ef81d_level0_col4\" class=\"col_heading level0 col4\" >n_chains</th>\n",
       "      <th id=\"T_ef81d_level0_col5\" class=\"col_heading level0 col5\" >n_molecules</th>\n",
       "      <th id=\"T_ef81d_level0_col6\" class=\"col_heading level0 col6\" >n_entities</th>\n",
       "      <th id=\"T_ef81d_level0_col7\" class=\"col_heading level0 col7\" >n_peptides</th>\n",
       "      <th id=\"T_ef81d_level0_col8\" class=\"col_heading level0 col8\" >n_structures</th>\n",
       "    </tr>\n",
       "  </thead>\n",
       "  <tbody>\n",
       "    <tr>\n",
       "      <td id=\"T_ef81d_row0_col0\" class=\"data row0 col0\" >molsysmt.MolSys</td>\n",
       "      <td id=\"T_ef81d_row0_col1\" class=\"data row0 col1\" >22</td>\n",
       "      <td id=\"T_ef81d_row0_col2\" class=\"data row0 col2\" >3</td>\n",
       "      <td id=\"T_ef81d_row0_col3\" class=\"data row0 col3\" >1</td>\n",
       "      <td id=\"T_ef81d_row0_col4\" class=\"data row0 col4\" >1</td>\n",
       "      <td id=\"T_ef81d_row0_col5\" class=\"data row0 col5\" >1</td>\n",
       "      <td id=\"T_ef81d_row0_col6\" class=\"data row0 col6\" >1</td>\n",
       "      <td id=\"T_ef81d_row0_col7\" class=\"data row0 col7\" >1</td>\n",
       "      <td id=\"T_ef81d_row0_col8\" class=\"data row0 col8\" >3</td>\n",
       "    </tr>\n",
       "  </tbody>\n",
       "</table>\n"
      ],
      "text/plain": [
       "<pandas.io.formats.style.Styler at 0x773bf18b3da0>"
      ]
     },
     "execution_count": 6,
     "metadata": {},
     "output_type": "execute_result"
    }
   ],
   "source": [
    "msm.info(molsys_A)"
   ]
  },
  {
   "cell_type": "code",
   "execution_count": 7,
   "metadata": {
    "execution": {
     "iopub.execute_input": "2025-04-13T03:01:11.243114Z",
     "iopub.status.busy": "2025-04-13T03:01:11.242618Z",
     "iopub.status.idle": "2025-04-13T03:01:11.246014Z",
     "shell.execute_reply": "2025-04-13T03:01:11.245316Z"
    },
    "tags": [
     "remove-input"
    ]
   },
   "outputs": [],
   "source": [
    "# This cell is removed with the tag: \"remove-input\"\n",
    "# As such, it will not be shown in documentation\n",
    "\n",
    "nglview_htmlfile = '../../../../_static/nglview/append_structures.html'"
   ]
  },
  {
   "cell_type": "code",
   "execution_count": 8,
   "metadata": {
    "execution": {
     "iopub.execute_input": "2025-04-13T03:01:11.248578Z",
     "iopub.status.busy": "2025-04-13T03:01:11.247988Z",
     "iopub.status.idle": "2025-04-13T03:01:11.328692Z",
     "shell.execute_reply": "2025-04-13T03:01:11.327997Z"
    }
   },
   "outputs": [
    {
     "data": {
      "text/html": [
       "\n",
       "        <iframe\n",
       "            width=\"100%\"\n",
       "            height=\"320vh\"\n",
       "            src=\"../../../../_static/nglview/append_structures.html\"\n",
       "            frameborder=\"0\"\n",
       "            allowfullscreen\n",
       "            \n",
       "        ></iframe>\n",
       "        "
      ],
      "text/plain": [
       "<IPython.lib.display.IFrame at 0x773bf11c2870>"
      ]
     },
     "execution_count": 8,
     "metadata": {},
     "output_type": "execute_result"
    }
   ],
   "source": [
    "msm.view(molsys_A, standard=True)"
   ]
  },
  {
   "cell_type": "code",
   "execution_count": 9,
   "metadata": {
    "editable": true,
    "execution": {
     "iopub.execute_input": "2025-04-13T03:01:11.331930Z",
     "iopub.status.busy": "2025-04-13T03:01:11.331242Z",
     "iopub.status.idle": "2025-04-13T03:01:11.335031Z",
     "shell.execute_reply": "2025-04-13T03:01:11.334306Z"
    },
    "slideshow": {
     "slide_type": ""
    },
    "tags": [
     "remove-input"
    ]
   },
   "outputs": [],
   "source": [
    "# This cell is removed with the tag: \"remove-input\"\n",
    "# As such, it will not be shown in documentation\n",
    "\n",
    "if False:\n",
    "    # to write an html the view had to be displayed in a cell before\n",
    "    msm.thirds.nglview.write_html(view, nglview_htmlfile)"
   ]
  },
  {
   "cell_type": "markdown",
   "metadata": {},
   "source": [
    "Finally, if you prefer not to modify the original molecular system, you can pass the argument `in_place=False` to the :func:`molsysmt.basic.add` function. This will return a new molecular system with the added elements, while leaving the original unchanged."
   ]
  },
  {
   "cell_type": "code",
   "execution_count": 10,
   "metadata": {
    "execution": {
     "iopub.execute_input": "2025-04-13T03:01:11.337367Z",
     "iopub.status.busy": "2025-04-13T03:01:11.337074Z",
     "iopub.status.idle": "2025-04-13T03:01:11.994533Z",
     "shell.execute_reply": "2025-04-13T03:01:11.993685Z"
    }
   },
   "outputs": [],
   "source": [
    "molsys_D = msm.append_structures(molsys_B, molsys_C, in_place=False)"
   ]
  },
  {
   "cell_type": "code",
   "execution_count": 11,
   "metadata": {
    "execution": {
     "iopub.execute_input": "2025-04-13T03:01:11.997089Z",
     "iopub.status.busy": "2025-04-13T03:01:11.996595Z",
     "iopub.status.idle": "2025-04-13T03:01:12.153022Z",
     "shell.execute_reply": "2025-04-13T03:01:12.152327Z"
    }
   },
   "outputs": [
    {
     "data": {
      "text/plain": [
       "1"
      ]
     },
     "execution_count": 11,
     "metadata": {},
     "output_type": "execute_result"
    }
   ],
   "source": [
    "msm.get(molsys_B, n_structures=True)"
   ]
  },
  {
   "cell_type": "code",
   "execution_count": 12,
   "metadata": {
    "execution": {
     "iopub.execute_input": "2025-04-13T03:01:12.155740Z",
     "iopub.status.busy": "2025-04-13T03:01:12.155413Z",
     "iopub.status.idle": "2025-04-13T03:01:12.311859Z",
     "shell.execute_reply": "2025-04-13T03:01:12.311028Z"
    }
   },
   "outputs": [
    {
     "data": {
      "text/plain": [
       "1"
      ]
     },
     "execution_count": 12,
     "metadata": {},
     "output_type": "execute_result"
    }
   ],
   "source": [
    "msm.get(molsys_C, n_structures=True)"
   ]
  },
  {
   "cell_type": "code",
   "execution_count": 13,
   "metadata": {
    "execution": {
     "iopub.execute_input": "2025-04-13T03:01:12.314379Z",
     "iopub.status.busy": "2025-04-13T03:01:12.313808Z",
     "iopub.status.idle": "2025-04-13T03:01:12.492210Z",
     "shell.execute_reply": "2025-04-13T03:01:12.491487Z"
    }
   },
   "outputs": [
    {
     "data": {
      "text/plain": [
       "2"
      ]
     },
     "execution_count": 13,
     "metadata": {},
     "output_type": "execute_result"
    }
   ],
   "source": [
    "msm.get(molsys_D, n_structures=True)"
   ]
  },
  {
   "cell_type": "markdown",
   "metadata": {},
   "source": [
    ":::{seealso}\n",
    "[User guide > Tools > Build > Build peptide](../build/build_peptide.ipynb):    \n",
    "Build natural peptides with or without terminal caps.\n",
    "\n",
    "[User guide > Tools > Structure > Translate](../structure/translate.ipynb):    \n",
    "Translate entire molecular systems or specific selections in space.\n",
    "\n",
    "[User guide > Tools > Basic > Info](info.ipynb):    \n",
    "Display a summary of the contents, topology, and structural data of a molecular system.   \n",
    "\n",
    "[User guide > Tools > Basic > View](view.ipynb):    \n",
    "Visualize a molecular system.\n",
    "\n",
    "[User guide > Tools > Basic > Get](get.ipynb):    \n",
    "Get values of specific attributes from a molecular system.\n",
    "\n",
    "[User guide > Tools > Basic > Concatenate structures](concatenate_structures.ipynb):    \n",
    "Join structural data from several systems into a single system with consecutive structures.\n",
    "\n",
    "[User guide > Tools > Basic > Copy](copy.ipynb):    \n",
    "Create a full independent copy of a molecular system to avoid modifying the original.\n",
    ":::"
   ]
  }
 ],
 "metadata": {
  "kernelspec": {
   "display_name": "Python 3 (ipykernel)",
   "language": "python",
   "name": "python3"
  },
  "language_info": {
   "codemirror_mode": {
    "name": "ipython",
    "version": 3
   },
   "file_extension": ".py",
   "mimetype": "text/x-python",
   "name": "python",
   "nbconvert_exporter": "python",
   "pygments_lexer": "ipython3",
   "version": "3.12.9"
  },
  "widgets": {
   "application/vnd.jupyter.widget-state+json": {
    "state": {
     "1aac479c33314b5c934ecff16a96d15a": {
      "model_module": "@jupyter-widgets/base",
      "model_module_version": "2.0.0",
      "model_name": "LayoutModel",
      "state": {
       "_model_module": "@jupyter-widgets/base",
       "_model_module_version": "2.0.0",
       "_model_name": "LayoutModel",
       "_view_count": null,
       "_view_module": "@jupyter-widgets/base",
       "_view_module_version": "2.0.0",
       "_view_name": "LayoutView",
       "align_content": null,
       "align_items": null,
       "align_self": null,
       "border_bottom": null,
       "border_left": null,
       "border_right": null,
       "border_top": null,
       "bottom": null,
       "display": null,
       "flex": null,
       "flex_flow": null,
       "grid_area": null,
       "grid_auto_columns": null,
       "grid_auto_flow": null,
       "grid_auto_rows": null,
       "grid_column": null,
       "grid_gap": null,
       "grid_row": null,
       "grid_template_areas": null,
       "grid_template_columns": null,
       "grid_template_rows": null,
       "height": null,
       "justify_content": null,
       "justify_items": null,
       "left": null,
       "margin": null,
       "max_height": null,
       "max_width": null,
       "min_height": null,
       "min_width": null,
       "object_fit": null,
       "object_position": null,
       "order": null,
       "overflow": null,
       "padding": null,
       "right": null,
       "top": null,
       "visibility": null,
       "width": null
      }
     },
     "8dd035407625440aada3953eeb656d4d": {
      "model_module": "nglview-js-widgets",
      "model_module_version": "3.0.8",
      "model_name": "ColormakerRegistryModel",
      "state": {
       "_dom_classes": [],
       "_model_module": "nglview-js-widgets",
       "_model_module_version": "3.0.8",
       "_model_name": "ColormakerRegistryModel",
       "_msg_ar": [],
       "_msg_q": [],
       "_ready": false,
       "_view_count": null,
       "_view_module": "nglview-js-widgets",
       "_view_module_version": "3.0.8",
       "_view_name": "ColormakerRegistryView",
       "layout": "IPY_MODEL_1aac479c33314b5c934ecff16a96d15a",
       "tabbable": null,
       "tooltip": null
      }
     }
    },
    "version_major": 2,
    "version_minor": 0
   }
  }
 },
 "nbformat": 4,
 "nbformat_minor": 4
}
