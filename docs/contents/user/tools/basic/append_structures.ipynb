{
 "cells": [
  {
   "cell_type": "code",
   "execution_count": 1,
   "metadata": {
    "execution": {
     "iopub.execute_input": "2025-03-11T21:03:44.229427Z",
     "iopub.status.busy": "2025-03-11T21:03:44.229063Z",
     "iopub.status.idle": "2025-03-11T21:03:44.234531Z",
     "shell.execute_reply": "2025-03-11T21:03:44.233631Z"
    },
    "tags": [
     "remove-input"
    ]
   },
   "outputs": [],
   "source": [
    "# This cell is removed with the tag: \"remove-input\"\n",
    "# As such, it will not be shown in documentation\n",
    "\n",
    "import warnings\n",
    "warnings.filterwarnings('ignore')"
   ]
  },
  {
   "cell_type": "markdown",
   "metadata": {},
   "source": [
    "(Tutorial_Append_structures)=\n",
    "# Append structures\n",
    "\n",
    "*Adding structures from a molecular system to another molecular system.*\n",
    "\n",
    "Structures from different molecular systems can be appended to a given system with the {func}`molsysmt.basic.append_structures` method. The number of atoms needs to be the same for all molecular systems involved in the action.\n",
    "\n",
    "## How this function works\n",
    "\n",
    "```{admonition} API documentation\n",
    "Follow this link for a detailed description of the input arguments, raised errors, and returned objects of this function:{func}`molsysmt.basic.append_structures`.\n",
    "```\n",
    "\n",
    "Let's show how this method works with the alanine dipeptide defined as three diferent molecular systems with different structures."
   ]
  },
  {
   "cell_type": "code",
   "execution_count": 2,
   "metadata": {
    "execution": {
     "iopub.execute_input": "2025-03-11T21:03:44.237980Z",
     "iopub.status.busy": "2025-03-11T21:03:44.237448Z",
     "iopub.status.idle": "2025-03-11T21:03:52.297267Z",
     "shell.execute_reply": "2025-03-11T21:03:52.296366Z"
    }
   },
   "outputs": [
    {
     "data": {
      "application/vnd.jupyter.widget-view+json": {
       "model_id": "0df79809d2a4444eba92a94de05945fa",
       "version_major": 2,
       "version_minor": 0
      },
      "text/plain": []
     },
     "metadata": {},
     "output_type": "display_data"
    }
   ],
   "source": [
    "import molsysmt as msm"
   ]
  },
  {
   "cell_type": "code",
   "execution_count": 3,
   "metadata": {
    "execution": {
     "iopub.execute_input": "2025-03-11T21:03:52.302199Z",
     "iopub.status.busy": "2025-03-11T21:03:52.301322Z",
     "iopub.status.idle": "2025-03-11T21:03:55.351448Z",
     "shell.execute_reply": "2025-03-11T21:03:55.350670Z"
    }
   },
   "outputs": [],
   "source": [
    "molecular_system_A = msm.build.build_peptide('AceAlaNME')\n",
    "molecular_system_B = msm.structure.translate(molecular_system_A, translation='[0.1, 0.1, 0.1] nanometers')\n",
    "molecular_system_C = msm.structure.translate(molecular_system_A, translation='[0.2, 0.2, 0.2] nanometers')"
   ]
  },
  {
   "cell_type": "markdown",
   "metadata": {},
   "source": [
    "Systems $B$ and $C$ were translated in space. This way all three systems have the same elements but different structures.\n",
    "Let's see how $A$ is defined before appending the structures of $B$ and $C$:"
   ]
  },
  {
   "cell_type": "code",
   "execution_count": 4,
   "metadata": {
    "execution": {
     "iopub.execute_input": "2025-03-11T21:03:55.354641Z",
     "iopub.status.busy": "2025-03-11T21:03:55.353941Z",
     "iopub.status.idle": "2025-03-11T21:03:58.124115Z",
     "shell.execute_reply": "2025-03-11T21:03:58.123144Z"
    }
   },
   "outputs": [
    {
     "data": {
      "text/html": [
       "<style type=\"text/css\">\n",
       "</style>\n",
       "<table id=\"T_b5698\">\n",
       "  <thead>\n",
       "    <tr>\n",
       "      <th id=\"T_b5698_level0_col0\" class=\"col_heading level0 col0\" >form</th>\n",
       "      <th id=\"T_b5698_level0_col1\" class=\"col_heading level0 col1\" >n_atoms</th>\n",
       "      <th id=\"T_b5698_level0_col2\" class=\"col_heading level0 col2\" >n_groups</th>\n",
       "      <th id=\"T_b5698_level0_col3\" class=\"col_heading level0 col3\" >n_components</th>\n",
       "      <th id=\"T_b5698_level0_col4\" class=\"col_heading level0 col4\" >n_chains</th>\n",
       "      <th id=\"T_b5698_level0_col5\" class=\"col_heading level0 col5\" >n_molecules</th>\n",
       "      <th id=\"T_b5698_level0_col6\" class=\"col_heading level0 col6\" >n_entities</th>\n",
       "      <th id=\"T_b5698_level0_col7\" class=\"col_heading level0 col7\" >n_peptides</th>\n",
       "      <th id=\"T_b5698_level0_col8\" class=\"col_heading level0 col8\" >n_structures</th>\n",
       "    </tr>\n",
       "  </thead>\n",
       "  <tbody>\n",
       "    <tr>\n",
       "      <td id=\"T_b5698_row0_col0\" class=\"data row0 col0\" >molsysmt.MolSys</td>\n",
       "      <td id=\"T_b5698_row0_col1\" class=\"data row0 col1\" >22</td>\n",
       "      <td id=\"T_b5698_row0_col2\" class=\"data row0 col2\" >3</td>\n",
       "      <td id=\"T_b5698_row0_col3\" class=\"data row0 col3\" >1</td>\n",
       "      <td id=\"T_b5698_row0_col4\" class=\"data row0 col4\" >1</td>\n",
       "      <td id=\"T_b5698_row0_col5\" class=\"data row0 col5\" >1</td>\n",
       "      <td id=\"T_b5698_row0_col6\" class=\"data row0 col6\" >1</td>\n",
       "      <td id=\"T_b5698_row0_col7\" class=\"data row0 col7\" >1</td>\n",
       "      <td id=\"T_b5698_row0_col8\" class=\"data row0 col8\" >1</td>\n",
       "    </tr>\n",
       "  </tbody>\n",
       "</table>\n"
      ],
      "text/plain": [
       "<pandas.io.formats.style.Styler at 0x7f4a5f7126c0>"
      ]
     },
     "execution_count": 4,
     "metadata": {},
     "output_type": "execute_result"
    }
   ],
   "source": [
    "msm.info(molecular_system_A)"
   ]
  },
  {
   "cell_type": "markdown",
   "metadata": {},
   "source": [
    "Now it is time to use {func}`molsysmt.basic.append_structures`:"
   ]
  },
  {
   "cell_type": "code",
   "execution_count": 5,
   "metadata": {
    "execution": {
     "iopub.execute_input": "2025-03-11T21:03:58.129579Z",
     "iopub.status.busy": "2025-03-11T21:03:58.128215Z",
     "iopub.status.idle": "2025-03-11T21:04:00.590946Z",
     "shell.execute_reply": "2025-03-11T21:04:00.589846Z"
    }
   },
   "outputs": [],
   "source": [
    "msm.append_structures(molecular_system_A, molecular_system_B)\n",
    "msm.append_structures(molecular_system_A, molecular_system_C)"
   ]
  },
  {
   "cell_type": "markdown",
   "metadata": {},
   "source": [
    ":::{tip}\n",
    "All methods defined in the {ref}`molsysmt.basic <API basic>` module can be invoked also from the main level of the library. As such, {func}`molsysmt.append_structures` is the same method as {func}`molsysmt.basic.append_structures`.\n",
    ":::"
   ]
  },
  {
   "cell_type": "markdown",
   "metadata": {},
   "source": [
    "Let's see now the new content of $A$:"
   ]
  },
  {
   "cell_type": "code",
   "execution_count": 6,
   "metadata": {
    "execution": {
     "iopub.execute_input": "2025-03-11T21:04:00.594728Z",
     "iopub.status.busy": "2025-03-11T21:04:00.594321Z",
     "iopub.status.idle": "2025-03-11T21:04:03.688409Z",
     "shell.execute_reply": "2025-03-11T21:04:03.687717Z"
    }
   },
   "outputs": [
    {
     "data": {
      "text/html": [
       "<style type=\"text/css\">\n",
       "</style>\n",
       "<table id=\"T_c9ce7\">\n",
       "  <thead>\n",
       "    <tr>\n",
       "      <th id=\"T_c9ce7_level0_col0\" class=\"col_heading level0 col0\" >form</th>\n",
       "      <th id=\"T_c9ce7_level0_col1\" class=\"col_heading level0 col1\" >n_atoms</th>\n",
       "      <th id=\"T_c9ce7_level0_col2\" class=\"col_heading level0 col2\" >n_groups</th>\n",
       "      <th id=\"T_c9ce7_level0_col3\" class=\"col_heading level0 col3\" >n_components</th>\n",
       "      <th id=\"T_c9ce7_level0_col4\" class=\"col_heading level0 col4\" >n_chains</th>\n",
       "      <th id=\"T_c9ce7_level0_col5\" class=\"col_heading level0 col5\" >n_molecules</th>\n",
       "      <th id=\"T_c9ce7_level0_col6\" class=\"col_heading level0 col6\" >n_entities</th>\n",
       "      <th id=\"T_c9ce7_level0_col7\" class=\"col_heading level0 col7\" >n_peptides</th>\n",
       "      <th id=\"T_c9ce7_level0_col8\" class=\"col_heading level0 col8\" >n_structures</th>\n",
       "    </tr>\n",
       "  </thead>\n",
       "  <tbody>\n",
       "    <tr>\n",
       "      <td id=\"T_c9ce7_row0_col0\" class=\"data row0 col0\" >molsysmt.MolSys</td>\n",
       "      <td id=\"T_c9ce7_row0_col1\" class=\"data row0 col1\" >22</td>\n",
       "      <td id=\"T_c9ce7_row0_col2\" class=\"data row0 col2\" >3</td>\n",
       "      <td id=\"T_c9ce7_row0_col3\" class=\"data row0 col3\" >1</td>\n",
       "      <td id=\"T_c9ce7_row0_col4\" class=\"data row0 col4\" >1</td>\n",
       "      <td id=\"T_c9ce7_row0_col5\" class=\"data row0 col5\" >1</td>\n",
       "      <td id=\"T_c9ce7_row0_col6\" class=\"data row0 col6\" >1</td>\n",
       "      <td id=\"T_c9ce7_row0_col7\" class=\"data row0 col7\" >1</td>\n",
       "      <td id=\"T_c9ce7_row0_col8\" class=\"data row0 col8\" >3</td>\n",
       "    </tr>\n",
       "  </tbody>\n",
       "</table>\n"
      ],
      "text/plain": [
       "<pandas.io.formats.style.Styler at 0x7f4a032baba0>"
      ]
     },
     "execution_count": 6,
     "metadata": {},
     "output_type": "execute_result"
    }
   ],
   "source": [
    "msm.info(molecular_system_A)"
   ]
  },
  {
   "cell_type": "code",
   "execution_count": 7,
   "metadata": {
    "execution": {
     "iopub.execute_input": "2025-03-11T21:04:03.690896Z",
     "iopub.status.busy": "2025-03-11T21:04:03.690630Z",
     "iopub.status.idle": "2025-03-11T21:04:03.694352Z",
     "shell.execute_reply": "2025-03-11T21:04:03.693561Z"
    },
    "tags": [
     "remove-input"
    ]
   },
   "outputs": [],
   "source": [
    "# This cell is removed with the tag: \"remove-input\"\n",
    "# As such, it will not be shown in documentation\n",
    "\n",
    "nglview_htmlfile = '../../../../_static/nglview/append_structures.html'"
   ]
  },
  {
   "cell_type": "code",
   "execution_count": 8,
   "metadata": {
    "execution": {
     "iopub.execute_input": "2025-03-11T21:04:03.697471Z",
     "iopub.status.busy": "2025-03-11T21:04:03.696712Z",
     "iopub.status.idle": "2025-03-11T21:04:03.861314Z",
     "shell.execute_reply": "2025-03-11T21:04:03.860534Z"
    }
   },
   "outputs": [
    {
     "data": {
      "text/html": [
       "\n",
       "        <iframe\n",
       "            width=\"100%\"\n",
       "            height=\"320vh\"\n",
       "            src=\"../../../../_static/nglview/append_structures.html\"\n",
       "            frameborder=\"0\"\n",
       "            allowfullscreen\n",
       "            \n",
       "        ></iframe>\n",
       "        "
      ],
      "text/plain": [
       "<IPython.lib.display.IFrame at 0x7f4a5f5c07d0>"
      ]
     },
     "execution_count": 8,
     "metadata": {},
     "output_type": "execute_result"
    }
   ],
   "source": [
    "msm.view(molecular_system_A, standard=True)"
   ]
  },
  {
   "cell_type": "code",
   "execution_count": 9,
   "metadata": {
    "editable": true,
    "execution": {
     "iopub.execute_input": "2025-03-11T21:04:03.865656Z",
     "iopub.status.busy": "2025-03-11T21:04:03.865020Z",
     "iopub.status.idle": "2025-03-11T21:04:03.869411Z",
     "shell.execute_reply": "2025-03-11T21:04:03.868590Z"
    },
    "slideshow": {
     "slide_type": ""
    },
    "tags": [
     "remove-input"
    ]
   },
   "outputs": [],
   "source": [
    "# This cell is removed with the tag: \"remove-input\"\n",
    "# As such, it will not be shown in documentation\n",
    "\n",
    "if False:\n",
    "    # to write an html the view had to be displayed in a cell before\n",
    "    msm.thirds.nglview.write_html(view, nglview_htmlfile)"
   ]
  },
  {
   "cell_type": "markdown",
   "metadata": {},
   "source": [
    ":::{seealso}\n",
    "[User guide > Tools > Build > Build peptide](../build/build_peptide.ipynb):    \n",
    "[User guide > Tools > Structure > Translate](../structure/translate.ipynb):    \n",
    "[User guide > Tools > Basic > Info](info.ipynb): Printing out summary information of a molecular system.    \n",
    "[User guide > Tools > Basic > View](view.ipynb): Showing a molecular system.    \n",
    ":::"
   ]
  }
 ],
 "metadata": {
  "kernelspec": {
   "display_name": "Python 3 (ipykernel)",
   "language": "python",
   "name": "python3"
  },
  "language_info": {
   "codemirror_mode": {
    "name": "ipython",
    "version": 3
   },
   "file_extension": ".py",
   "mimetype": "text/x-python",
   "name": "python",
   "nbconvert_exporter": "python",
   "pygments_lexer": "ipython3",
   "version": "3.12.8"
  },
  "widgets": {
   "application/vnd.jupyter.widget-state+json": {
    "state": {
     "0df79809d2a4444eba92a94de05945fa": {
      "model_module": "nglview-js-widgets",
      "model_module_version": "3.1.4",
      "model_name": "ColormakerRegistryModel",
      "state": {
       "_dom_classes": [],
       "_model_module": "nglview-js-widgets",
       "_model_module_version": "3.1.4",
       "_model_name": "ColormakerRegistryModel",
       "_msg_ar": [],
       "_msg_q": [],
       "_ready": false,
       "_view_count": null,
       "_view_module": "nglview-js-widgets",
       "_view_module_version": "3.1.4",
       "_view_name": "ColormakerRegistryView",
       "layout": "IPY_MODEL_11d94936be414cecbe6382ec07f24ec7",
       "tabbable": null,
       "tooltip": null
      }
     },
     "11d94936be414cecbe6382ec07f24ec7": {
      "model_module": "@jupyter-widgets/base",
      "model_module_version": "2.0.0",
      "model_name": "LayoutModel",
      "state": {
       "_model_module": "@jupyter-widgets/base",
       "_model_module_version": "2.0.0",
       "_model_name": "LayoutModel",
       "_view_count": null,
       "_view_module": "@jupyter-widgets/base",
       "_view_module_version": "2.0.0",
       "_view_name": "LayoutView",
       "align_content": null,
       "align_items": null,
       "align_self": null,
       "border_bottom": null,
       "border_left": null,
       "border_right": null,
       "border_top": null,
       "bottom": null,
       "display": null,
       "flex": null,
       "flex_flow": null,
       "grid_area": null,
       "grid_auto_columns": null,
       "grid_auto_flow": null,
       "grid_auto_rows": null,
       "grid_column": null,
       "grid_gap": null,
       "grid_row": null,
       "grid_template_areas": null,
       "grid_template_columns": null,
       "grid_template_rows": null,
       "height": null,
       "justify_content": null,
       "justify_items": null,
       "left": null,
       "margin": null,
       "max_height": null,
       "max_width": null,
       "min_height": null,
       "min_width": null,
       "object_fit": null,
       "object_position": null,
       "order": null,
       "overflow": null,
       "padding": null,
       "right": null,
       "top": null,
       "visibility": null,
       "width": null
      }
     }
    },
    "version_major": 2,
    "version_minor": 0
   }
  }
 },
 "nbformat": 4,
 "nbformat_minor": 4
}
