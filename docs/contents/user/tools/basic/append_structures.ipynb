{
 "cells": [
  {
   "cell_type": "code",
   "execution_count": 1,
   "metadata": {
    "tags": [
     "remove-input"
    ]
   },
   "outputs": [],
   "source": [
    "# This cell is removed with the tag: \"remove-input\"\n",
    "# As such, it will not be shown in documentation\n",
    "\n",
    "import warnings\n",
    "warnings.filterwarnings('ignore')\n",
    "\n",
    "nglview_static_dir = '../../../../_static/nglview/user/tools/basic/append_structures/'"
   ]
  },
  {
   "cell_type": "markdown",
   "metadata": {},
   "source": [
    "(UserGuide_Tools_Basic_Append_Structures)=\n",
    "# Append Structures\n",
    "\n",
    "*Adding the structures from a/several molecular system/s to another molecular system.*\n",
    "\n",
    "Structures from different molecular systems can be appended to a given system with the {func}`molsysmt.basic.append_structures` method. The number of atoms needs to be the same for all molecular systems involved in the action.\n",
    "\n",
    "Let's show how this method works with the alanine dipeptide defined as three diferent molecular systems with different structures."
   ]
  },
  {
   "cell_type": "code",
   "execution_count": 2,
   "metadata": {},
   "outputs": [
    {
     "data": {
      "application/vnd.jupyter.widget-view+json": {
       "model_id": "88ff256cf70f490a92cbfeb8741ea93c",
       "version_major": 2,
       "version_minor": 0
      },
      "text/plain": []
     },
     "metadata": {},
     "output_type": "display_data"
    }
   ],
   "source": [
    "import molsysmt as msm"
   ]
  },
  {
   "cell_type": "code",
   "execution_count": 3,
   "metadata": {},
   "outputs": [],
   "source": [
    "molecular_system_A = msm.build.build_peptide('AceAlaNME')\n",
    "molecular_system_B = msm.structure.translate(molecular_system_A, translation='[0.1, 0.1, 0.1] nanometers')\n",
    "molecular_system_C = msm.structure.translate(molecular_system_A, translation='[0.2, 0.2, 0.2] nanometers')"
   ]
  },
  {
   "cell_type": "markdown",
   "metadata": {},
   "source": [
    "Systems $B$ and $C$ were translated in space. This way all three systems have the same elements but different structures.\n",
    "Let's see how $A$ is defined before appending the structures of $B$ and $C$:"
   ]
  },
  {
   "cell_type": "code",
   "execution_count": 4,
   "metadata": {},
   "outputs": [
    {
     "data": {
      "text/html": [
       "<style type=\"text/css\">\n",
       "</style>\n",
       "<table id=\"T_a6719\">\n",
       "  <thead>\n",
       "    <tr>\n",
       "      <th id=\"T_a6719_level0_col0\" class=\"col_heading level0 col0\" >form</th>\n",
       "      <th id=\"T_a6719_level0_col1\" class=\"col_heading level0 col1\" >n_atoms</th>\n",
       "      <th id=\"T_a6719_level0_col2\" class=\"col_heading level0 col2\" >n_groups</th>\n",
       "      <th id=\"T_a6719_level0_col3\" class=\"col_heading level0 col3\" >n_components</th>\n",
       "      <th id=\"T_a6719_level0_col4\" class=\"col_heading level0 col4\" >n_chains</th>\n",
       "      <th id=\"T_a6719_level0_col5\" class=\"col_heading level0 col5\" >n_molecules</th>\n",
       "      <th id=\"T_a6719_level0_col6\" class=\"col_heading level0 col6\" >n_entities</th>\n",
       "      <th id=\"T_a6719_level0_col7\" class=\"col_heading level0 col7\" >n_peptides</th>\n",
       "      <th id=\"T_a6719_level0_col8\" class=\"col_heading level0 col8\" >n_structures</th>\n",
       "    </tr>\n",
       "  </thead>\n",
       "  <tbody>\n",
       "    <tr>\n",
       "      <td id=\"T_a6719_row0_col0\" class=\"data row0 col0\" >molsysmt.MolSys</td>\n",
       "      <td id=\"T_a6719_row0_col1\" class=\"data row0 col1\" >22</td>\n",
       "      <td id=\"T_a6719_row0_col2\" class=\"data row0 col2\" >3</td>\n",
       "      <td id=\"T_a6719_row0_col3\" class=\"data row0 col3\" >1</td>\n",
       "      <td id=\"T_a6719_row0_col4\" class=\"data row0 col4\" >1</td>\n",
       "      <td id=\"T_a6719_row0_col5\" class=\"data row0 col5\" >1</td>\n",
       "      <td id=\"T_a6719_row0_col6\" class=\"data row0 col6\" >1</td>\n",
       "      <td id=\"T_a6719_row0_col7\" class=\"data row0 col7\" >1</td>\n",
       "      <td id=\"T_a6719_row0_col8\" class=\"data row0 col8\" >1</td>\n",
       "    </tr>\n",
       "  </tbody>\n",
       "</table>\n"
      ],
      "text/plain": [
       "<pandas.io.formats.style.Styler at 0x7ff0dc16bac0>"
      ]
     },
     "execution_count": 4,
     "metadata": {},
     "output_type": "execute_result"
    }
   ],
   "source": [
    "msm.info(molecular_system_A)"
   ]
  },
  {
   "cell_type": "markdown",
   "metadata": {},
   "source": [
    "Now it is time to use {func}`molsysmt.basic.append_structures`:"
   ]
  },
  {
   "cell_type": "code",
   "execution_count": 5,
   "metadata": {},
   "outputs": [],
   "source": [
    "msm.append_structures(molecular_system_A, molecular_system_B)\n",
    "msm.append_structures(molecular_system_A, molecular_system_C)"
   ]
  },
  {
   "cell_type": "markdown",
   "metadata": {},
   "source": [
    "```{admonition} Tip\n",
    ":class: tip\n",
    "All methods defined in the {ref}`molsysmt.basic <API basic>` module can be invoked also from the main level of the library. As such, {func}`molsysmt.append_structures` is the same method as {func}`molsysmt.basic.append_structures`.\n",
    "```"
   ]
  },
  {
   "cell_type": "markdown",
   "metadata": {},
   "source": [
    "Let's see now the new content of $A$:"
   ]
  },
  {
   "cell_type": "code",
   "execution_count": 6,
   "metadata": {},
   "outputs": [
    {
     "data": {
      "text/html": [
       "<style type=\"text/css\">\n",
       "</style>\n",
       "<table id=\"T_0a13d\">\n",
       "  <thead>\n",
       "    <tr>\n",
       "      <th id=\"T_0a13d_level0_col0\" class=\"col_heading level0 col0\" >form</th>\n",
       "      <th id=\"T_0a13d_level0_col1\" class=\"col_heading level0 col1\" >n_atoms</th>\n",
       "      <th id=\"T_0a13d_level0_col2\" class=\"col_heading level0 col2\" >n_groups</th>\n",
       "      <th id=\"T_0a13d_level0_col3\" class=\"col_heading level0 col3\" >n_components</th>\n",
       "      <th id=\"T_0a13d_level0_col4\" class=\"col_heading level0 col4\" >n_chains</th>\n",
       "      <th id=\"T_0a13d_level0_col5\" class=\"col_heading level0 col5\" >n_molecules</th>\n",
       "      <th id=\"T_0a13d_level0_col6\" class=\"col_heading level0 col6\" >n_entities</th>\n",
       "      <th id=\"T_0a13d_level0_col7\" class=\"col_heading level0 col7\" >n_peptides</th>\n",
       "      <th id=\"T_0a13d_level0_col8\" class=\"col_heading level0 col8\" >n_structures</th>\n",
       "    </tr>\n",
       "  </thead>\n",
       "  <tbody>\n",
       "    <tr>\n",
       "      <td id=\"T_0a13d_row0_col0\" class=\"data row0 col0\" >molsysmt.MolSys</td>\n",
       "      <td id=\"T_0a13d_row0_col1\" class=\"data row0 col1\" >22</td>\n",
       "      <td id=\"T_0a13d_row0_col2\" class=\"data row0 col2\" >3</td>\n",
       "      <td id=\"T_0a13d_row0_col3\" class=\"data row0 col3\" >1</td>\n",
       "      <td id=\"T_0a13d_row0_col4\" class=\"data row0 col4\" >1</td>\n",
       "      <td id=\"T_0a13d_row0_col5\" class=\"data row0 col5\" >1</td>\n",
       "      <td id=\"T_0a13d_row0_col6\" class=\"data row0 col6\" >1</td>\n",
       "      <td id=\"T_0a13d_row0_col7\" class=\"data row0 col7\" >1</td>\n",
       "      <td id=\"T_0a13d_row0_col8\" class=\"data row0 col8\" >3</td>\n",
       "    </tr>\n",
       "  </tbody>\n",
       "</table>\n"
      ],
      "text/plain": [
       "<pandas.io.formats.style.Styler at 0x7ff0f462ad00>"
      ]
     },
     "execution_count": 6,
     "metadata": {},
     "output_type": "execute_result"
    }
   ],
   "source": [
    "msm.info(molecular_system_A)"
   ]
  },
  {
   "cell_type": "code",
   "execution_count": 7,
   "metadata": {
    "tags": [
     "remove-input"
    ]
   },
   "outputs": [],
   "source": [
    "# This cell is removed with the tag: \"remove-input\"\n",
    "# As such, it will not be shown in documentation\n",
    "\n",
    "nglview_htmlfile = nglview_static_dir+'append_structures.html'"
   ]
  },
  {
   "cell_type": "code",
   "execution_count": 8,
   "metadata": {},
   "outputs": [
    {
     "data": {
      "application/vnd.jupyter.widget-view+json": {
       "model_id": "91ff1312660544a3911b37f523df8047",
       "version_major": 2,
       "version_minor": 0
      },
      "text/plain": [
       "NGLWidget(max_frame=2)"
      ]
     },
     "metadata": {},
     "output_type": "display_data"
    }
   ],
   "source": [
    "msm.view(molecular_system_A, standard=True)"
   ]
  },
  {
   "cell_type": "code",
   "execution_count": null,
   "metadata": {},
   "outputs": [],
   "source": []
  },
  {
   "cell_type": "markdown",
   "metadata": {},
   "source": [
    "```{admonition} See also\n",
    ":class: attention\n",
    "{func}`molsysmt.basic.append_structures`, {func}`molsysmt.build.build_peptide`, {func}`molsysmt.structure.translate`, {func}`molsysmt.basic.info`, {func}`molsysmt.basic.view`\n",
    "```"
   ]
  }
 ],
 "metadata": {
  "kernelspec": {
   "display_name": "Python 3 (ipykernel)",
   "language": "python",
   "name": "python3"
  },
  "language_info": {
   "codemirror_mode": {
    "name": "ipython",
    "version": 3
   },
   "file_extension": ".py",
   "mimetype": "text/x-python",
   "name": "python",
   "nbconvert_exporter": "python",
   "pygments_lexer": "ipython3",
   "version": "3.9.15"
  }
 },
 "nbformat": 4,
 "nbformat_minor": 4
}
