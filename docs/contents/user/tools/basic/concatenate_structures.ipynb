{
 "cells": [
  {
   "cell_type": "code",
   "execution_count": 1,
   "metadata": {
    "execution": {
     "iopub.execute_input": "2025-04-12T21:53:28.411931Z",
     "iopub.status.busy": "2025-04-12T21:53:28.411509Z",
     "iopub.status.idle": "2025-04-12T21:53:28.416675Z",
     "shell.execute_reply": "2025-04-12T21:53:28.415996Z"
    },
    "tags": [
     "remove-input"
    ]
   },
   "outputs": [],
   "source": [
    "# This cell is removed with the tag: \"remove-input\"\n",
    "# As such, it will not be shown in documentation\n",
    "\n",
    "import warnings\n",
    "warnings.filterwarnings('ignore')"
   ]
  },
  {
   "cell_type": "markdown",
   "metadata": {},
   "source": [
    "(Tutorial_Concatenate_structures)=\n",
    "# Concatenate structures\n",
    "\n",
    "*Concatenating the structures found in a list of molecular systems.*\n",
    "\n",
    "The structures found in a list of molecular systems, assuming all of them share the same topology -they must represent the same molecular system, in fact-, can concatenated with the help of the function {func}`molsysmt.basic.concatenate_structures`. The resultant molecular system will contain all structures in the same order they were concatenated.\n",
    "\n",
    "## How this function works\n",
    "\n",
    "```{admonition} API documentation\n",
    "Follow this link for a detailed description of the input arguments, raised errors, and returned objects of this function:{func}`molsysmt.basic.concatenate_structures`.\n",
    "```\n",
    "\n",
    "Let’s demonstrate how this function works using the alanine dipeptide, represented as three different molecular systems, each with a distinct structure."
   ]
  },
  {
   "cell_type": "code",
   "execution_count": 2,
   "metadata": {
    "execution": {
     "iopub.execute_input": "2025-04-12T21:53:28.419352Z",
     "iopub.status.busy": "2025-04-12T21:53:28.418955Z",
     "iopub.status.idle": "2025-04-12T21:53:33.826095Z",
     "shell.execute_reply": "2025-04-12T21:53:33.824766Z"
    }
   },
   "outputs": [
    {
     "data": {
      "application/vnd.jupyter.widget-view+json": {
       "model_id": "e278ab33fe9544b5a9ea74cd8c389af1",
       "version_major": 2,
       "version_minor": 0
      },
      "text/plain": []
     },
     "metadata": {},
     "output_type": "display_data"
    }
   ],
   "source": [
    "import molsysmt as msm"
   ]
  },
  {
   "cell_type": "code",
   "execution_count": 3,
   "metadata": {
    "execution": {
     "iopub.execute_input": "2025-04-12T21:53:33.830627Z",
     "iopub.status.busy": "2025-04-12T21:53:33.829760Z",
     "iopub.status.idle": "2025-04-12T21:53:35.308328Z",
     "shell.execute_reply": "2025-04-12T21:53:35.307199Z"
    }
   },
   "outputs": [],
   "source": [
    "molsys_A = msm.build.build_peptide('AceAlaNME')\n",
    "molsys_B = msm.structure.translate(molsys_A, translation='[0.1, 0.1, 0.1] nanometers')\n",
    "molsys_C = msm.structure.translate(molsys_A, translation='[0.2, 0.2, 0.2] nanometers')"
   ]
  },
  {
   "cell_type": "markdown",
   "metadata": {},
   "source": [
    "Each of the three molecular systems contains a single structure:"
   ]
  },
  {
   "cell_type": "code",
   "execution_count": 4,
   "metadata": {
    "execution": {
     "iopub.execute_input": "2025-04-12T21:53:35.312122Z",
     "iopub.status.busy": "2025-04-12T21:53:35.311657Z",
     "iopub.status.idle": "2025-04-12T21:53:35.458110Z",
     "shell.execute_reply": "2025-04-12T21:53:35.457090Z"
    }
   },
   "outputs": [
    {
     "data": {
      "text/plain": [
       "1"
      ]
     },
     "execution_count": 4,
     "metadata": {},
     "output_type": "execute_result"
    }
   ],
   "source": [
    "msm.get(molsys_A, n_structures=True)"
   ]
  },
  {
   "cell_type": "code",
   "execution_count": 5,
   "metadata": {
    "execution": {
     "iopub.execute_input": "2025-04-12T21:53:35.461272Z",
     "iopub.status.busy": "2025-04-12T21:53:35.460978Z",
     "iopub.status.idle": "2025-04-12T21:53:35.608241Z",
     "shell.execute_reply": "2025-04-12T21:53:35.607340Z"
    }
   },
   "outputs": [
    {
     "data": {
      "text/plain": [
       "1"
      ]
     },
     "execution_count": 5,
     "metadata": {},
     "output_type": "execute_result"
    }
   ],
   "source": [
    "msm.get(molsys_B, n_structures=True)"
   ]
  },
  {
   "cell_type": "code",
   "execution_count": 6,
   "metadata": {
    "execution": {
     "iopub.execute_input": "2025-04-12T21:53:35.612105Z",
     "iopub.status.busy": "2025-04-12T21:53:35.611725Z",
     "iopub.status.idle": "2025-04-12T21:53:35.731975Z",
     "shell.execute_reply": "2025-04-12T21:53:35.731377Z"
    }
   },
   "outputs": [
    {
     "data": {
      "text/plain": [
       "1"
      ]
     },
     "execution_count": 6,
     "metadata": {},
     "output_type": "execute_result"
    }
   ],
   "source": [
    "msm.get(molsys_C, n_structures=True)"
   ]
  },
  {
   "cell_type": "markdown",
   "metadata": {},
   "source": [
    "Now let’s create a fourth molecular system by concatenating the structures from A, B, and C:"
   ]
  },
  {
   "cell_type": "code",
   "execution_count": 7,
   "metadata": {
    "execution": {
     "iopub.execute_input": "2025-04-12T21:53:35.735503Z",
     "iopub.status.busy": "2025-04-12T21:53:35.735154Z",
     "iopub.status.idle": "2025-04-12T21:53:36.632166Z",
     "shell.execute_reply": "2025-04-12T21:53:36.631231Z"
    }
   },
   "outputs": [],
   "source": [
    "molsys_D = msm.concatenate_structures([molsys_A, molsys_B, molsys_C])"
   ]
  },
  {
   "cell_type": "markdown",
   "metadata": {},
   "source": [
    "```{admonition} Tip\n",
    ":class: tip\n",
    "All methods defined in the {ref}`molsysmt.basic <API basic>` module can be invoked also from the main level of the library. As such, {func}`molsysmt.concatenate_structures` is the same method as {func}`molsysmt.basic.concatenate_structures`.\n",
    "```"
   ]
  },
  {
   "cell_type": "code",
   "execution_count": 8,
   "metadata": {
    "execution": {
     "iopub.execute_input": "2025-04-12T21:53:36.635799Z",
     "iopub.status.busy": "2025-04-12T21:53:36.635543Z",
     "iopub.status.idle": "2025-04-12T21:53:37.734594Z",
     "shell.execute_reply": "2025-04-12T21:53:37.733856Z"
    }
   },
   "outputs": [
    {
     "data": {
      "text/html": [
       "<style type=\"text/css\">\n",
       "</style>\n",
       "<table id=\"T_b0007\">\n",
       "  <thead>\n",
       "    <tr>\n",
       "      <th id=\"T_b0007_level0_col0\" class=\"col_heading level0 col0\" >form</th>\n",
       "      <th id=\"T_b0007_level0_col1\" class=\"col_heading level0 col1\" >n_atoms</th>\n",
       "      <th id=\"T_b0007_level0_col2\" class=\"col_heading level0 col2\" >n_groups</th>\n",
       "      <th id=\"T_b0007_level0_col3\" class=\"col_heading level0 col3\" >n_components</th>\n",
       "      <th id=\"T_b0007_level0_col4\" class=\"col_heading level0 col4\" >n_chains</th>\n",
       "      <th id=\"T_b0007_level0_col5\" class=\"col_heading level0 col5\" >n_molecules</th>\n",
       "      <th id=\"T_b0007_level0_col6\" class=\"col_heading level0 col6\" >n_entities</th>\n",
       "      <th id=\"T_b0007_level0_col7\" class=\"col_heading level0 col7\" >n_peptides</th>\n",
       "      <th id=\"T_b0007_level0_col8\" class=\"col_heading level0 col8\" >n_structures</th>\n",
       "    </tr>\n",
       "  </thead>\n",
       "  <tbody>\n",
       "    <tr>\n",
       "      <td id=\"T_b0007_row0_col0\" class=\"data row0 col0\" >molsysmt.MolSys</td>\n",
       "      <td id=\"T_b0007_row0_col1\" class=\"data row0 col1\" >22</td>\n",
       "      <td id=\"T_b0007_row0_col2\" class=\"data row0 col2\" >3</td>\n",
       "      <td id=\"T_b0007_row0_col3\" class=\"data row0 col3\" >1</td>\n",
       "      <td id=\"T_b0007_row0_col4\" class=\"data row0 col4\" >1</td>\n",
       "      <td id=\"T_b0007_row0_col5\" class=\"data row0 col5\" >1</td>\n",
       "      <td id=\"T_b0007_row0_col6\" class=\"data row0 col6\" >1</td>\n",
       "      <td id=\"T_b0007_row0_col7\" class=\"data row0 col7\" >1</td>\n",
       "      <td id=\"T_b0007_row0_col8\" class=\"data row0 col8\" >3</td>\n",
       "    </tr>\n",
       "  </tbody>\n",
       "</table>\n"
      ],
      "text/plain": [
       "<pandas.io.formats.style.Styler at 0x7f7e02128b90>"
      ]
     },
     "execution_count": 8,
     "metadata": {},
     "output_type": "execute_result"
    }
   ],
   "source": [
    "msm.info(molsys_D)"
   ]
  },
  {
   "cell_type": "code",
   "execution_count": 9,
   "metadata": {
    "execution": {
     "iopub.execute_input": "2025-04-12T21:53:37.737747Z",
     "iopub.status.busy": "2025-04-12T21:53:37.737481Z",
     "iopub.status.idle": "2025-04-12T21:53:37.741467Z",
     "shell.execute_reply": "2025-04-12T21:53:37.740783Z"
    },
    "tags": [
     "remove-input"
    ]
   },
   "outputs": [],
   "source": [
    "# This cell is removed with the tag: \"remove-input\"\n",
    "# As such, it will not be shown in documentation\n",
    "nglview_htmlfile = '../../../../_static/nglview/concatenate_structures.html'\n",
    "msm.config._view_from_htmlfiles = False"
   ]
  },
  {
   "cell_type": "markdown",
   "metadata": {},
   "source": [
    "Finally, the resulting system can be visualized to inspect the spatial arrangement of the concatenated structures."
   ]
  },
  {
   "cell_type": "code",
   "execution_count": 10,
   "metadata": {
    "execution": {
     "iopub.execute_input": "2025-04-12T21:53:37.744090Z",
     "iopub.status.busy": "2025-04-12T21:53:37.743807Z",
     "iopub.status.idle": "2025-04-12T21:53:37.806905Z",
     "shell.execute_reply": "2025-04-12T21:53:37.806099Z"
    }
   },
   "outputs": [
    {
     "data": {
      "text/html": [
       "\n",
       "        <iframe\n",
       "            width=\"100%\"\n",
       "            height=\"320vh\"\n",
       "            src=\"../../../../_static/nglview/concatenate_structures.html\"\n",
       "            frameborder=\"0\"\n",
       "            allowfullscreen\n",
       "            \n",
       "        ></iframe>\n",
       "        "
      ],
      "text/plain": [
       "<IPython.lib.display.IFrame at 0x7f7e04c84a70>"
      ]
     },
     "execution_count": 10,
     "metadata": {},
     "output_type": "execute_result"
    }
   ],
   "source": [
    "msm.view(molsys_D)"
   ]
  },
  {
   "cell_type": "code",
   "execution_count": 11,
   "metadata": {
    "editable": true,
    "execution": {
     "iopub.execute_input": "2025-04-12T21:53:37.810278Z",
     "iopub.status.busy": "2025-04-12T21:53:37.810018Z",
     "iopub.status.idle": "2025-04-12T21:53:37.813894Z",
     "shell.execute_reply": "2025-04-12T21:53:37.813262Z"
    },
    "slideshow": {
     "slide_type": ""
    },
    "tags": [
     "remove-input"
    ]
   },
   "outputs": [],
   "source": [
    "# This cell is removed with the tag: \"remove-input\"\n",
    "# As such, it will not be shown in documentation\n",
    "\n",
    "if False:\n",
    "    # to write an html the view had to be displayed in a cell before\n",
    "    msm.thirds.nglview.write_html(view, nglview_htmlfile)"
   ]
  },
  {
   "cell_type": "markdown",
   "metadata": {},
   "source": [
    ":::{seealso}\n",
    "[User guide > Tools > Build > Build peptide](../build/build_peptide.ipynb):    \n",
    "Build natural peptides with or without terminal caps.\n",
    "\n",
    "[User guide > Tools > Structure > Translate](../structure/translate.ipynb):    \n",
    "Translate entire molecular systems or specific selections in space.\n",
    "\n",
    "[User guide > Tools > Basic > Get](get.ipynb):\n",
    "Get values of specific attributes from a molecular system.\n",
    "\n",
    "[User guide > Tools > Basic > Info](info.ipynb):      \n",
    "Display a summary of the contents, topology, and structural data of a molecular system.\n",
    "\n",
    "[User guide > Tools > Basic > View](view.ipynb):     \n",
    "Visualize a molecular system.\n",
    "\n",
    "[User_guide > Tools > Basic > Append Structures](../structure/append_structures.ipynb):    \n",
    "Append structures from one molecular system into another.\n",
    ":::"
   ]
  },
  {
   "cell_type": "code",
   "execution_count": null,
   "metadata": {},
   "outputs": [],
   "source": []
  }
 ],
 "metadata": {
  "kernelspec": {
   "display_name": "Python 3 (ipykernel)",
   "language": "python",
   "name": "python3"
  },
  "language_info": {
   "codemirror_mode": {
    "name": "ipython",
    "version": 3
   },
   "file_extension": ".py",
   "mimetype": "text/x-python",
   "name": "python",
   "nbconvert_exporter": "python",
   "pygments_lexer": "ipython3",
   "version": "3.12.9"
  },
  "widgets": {
   "application/vnd.jupyter.widget-state+json": {
    "state": {
     "0d60ef4c9cca45639b2a9c76713f89b3": {
      "model_module": "@jupyter-widgets/base",
      "model_module_version": "2.0.0",
      "model_name": "LayoutModel",
      "state": {
       "_model_module": "@jupyter-widgets/base",
       "_model_module_version": "2.0.0",
       "_model_name": "LayoutModel",
       "_view_count": null,
       "_view_module": "@jupyter-widgets/base",
       "_view_module_version": "2.0.0",
       "_view_name": "LayoutView",
       "align_content": null,
       "align_items": null,
       "align_self": null,
       "border_bottom": null,
       "border_left": null,
       "border_right": null,
       "border_top": null,
       "bottom": null,
       "display": null,
       "flex": null,
       "flex_flow": null,
       "grid_area": null,
       "grid_auto_columns": null,
       "grid_auto_flow": null,
       "grid_auto_rows": null,
       "grid_column": null,
       "grid_gap": null,
       "grid_row": null,
       "grid_template_areas": null,
       "grid_template_columns": null,
       "grid_template_rows": null,
       "height": null,
       "justify_content": null,
       "justify_items": null,
       "left": null,
       "margin": null,
       "max_height": null,
       "max_width": null,
       "min_height": null,
       "min_width": null,
       "object_fit": null,
       "object_position": null,
       "order": null,
       "overflow": null,
       "padding": null,
       "right": null,
       "top": null,
       "visibility": null,
       "width": null
      }
     },
     "e278ab33fe9544b5a9ea74cd8c389af1": {
      "model_module": "nglview-js-widgets",
      "model_module_version": "3.1.4",
      "model_name": "ColormakerRegistryModel",
      "state": {
       "_dom_classes": [],
       "_model_module": "nglview-js-widgets",
       "_model_module_version": "3.1.4",
       "_model_name": "ColormakerRegistryModel",
       "_msg_ar": [],
       "_msg_q": [],
       "_ready": false,
       "_view_count": null,
       "_view_module": "nglview-js-widgets",
       "_view_module_version": "3.1.4",
       "_view_name": "ColormakerRegistryView",
       "layout": "IPY_MODEL_0d60ef4c9cca45639b2a9c76713f89b3",
       "tabbable": null,
       "tooltip": null
      }
     }
    },
    "version_major": 2,
    "version_minor": 0
   }
  }
 },
 "nbformat": 4,
 "nbformat_minor": 4
}
