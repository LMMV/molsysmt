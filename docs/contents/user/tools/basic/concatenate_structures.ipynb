{
 "cells": [
  {
   "cell_type": "code",
   "execution_count": 1,
   "metadata": {
    "execution": {
     "iopub.execute_input": "2025-03-11T21:03:44.148779Z",
     "iopub.status.busy": "2025-03-11T21:03:44.147954Z",
     "iopub.status.idle": "2025-03-11T21:03:44.154813Z",
     "shell.execute_reply": "2025-03-11T21:03:44.154031Z"
    },
    "tags": [
     "remove-input"
    ]
   },
   "outputs": [],
   "source": [
    "# This cell is removed with the tag: \"remove-input\"\n",
    "# As such, it will not be shown in documentation\n",
    "\n",
    "import warnings\n",
    "warnings.filterwarnings('ignore')"
   ]
  },
  {
   "cell_type": "markdown",
   "metadata": {},
   "source": [
    "(Tutorial_Concatenate_structures)=\n",
    "# Concatenate structures\n",
    "\n",
    "*Concatenating the structures found in a list of molecular systems.*\n",
    "\n",
    "The structures found in a list of molecular systems, where all of them have the same topology -they must be the same molecular system, in deed-, can concatenated with the help of the function {func}`molsysmt.basic.concatenate_structures`. The resultant molecular system will contain all structures in the same order they were concatenated.\n",
    "\n",
    "## How this function works\n",
    "\n",
    "```{admonition} API documentation\n",
    "Follow this link for a detailed description of the input arguments, raised errors, and returned objects of this function:{func}`molsysmt.basic.concatenate_structures`.\n",
    "```\n",
    "\n",
    "Let's show how this method works with the alanine dipeptide defined as three diferent molecular systems with different structures."
   ]
  },
  {
   "cell_type": "code",
   "execution_count": 2,
   "metadata": {
    "execution": {
     "iopub.execute_input": "2025-03-11T21:03:44.158942Z",
     "iopub.status.busy": "2025-03-11T21:03:44.158299Z",
     "iopub.status.idle": "2025-03-11T21:03:52.820631Z",
     "shell.execute_reply": "2025-03-11T21:03:52.819666Z"
    }
   },
   "outputs": [
    {
     "data": {
      "application/vnd.jupyter.widget-view+json": {
       "model_id": "f94a0ce3649c41edb10403d7be82f2c2",
       "version_major": 2,
       "version_minor": 0
      },
      "text/plain": []
     },
     "metadata": {},
     "output_type": "display_data"
    }
   ],
   "source": [
    "import molsysmt as msm"
   ]
  },
  {
   "cell_type": "code",
   "execution_count": 3,
   "metadata": {
    "execution": {
     "iopub.execute_input": "2025-03-11T21:03:52.824728Z",
     "iopub.status.busy": "2025-03-11T21:03:52.823780Z",
     "iopub.status.idle": "2025-03-11T21:03:56.050894Z",
     "shell.execute_reply": "2025-03-11T21:03:56.049922Z"
    }
   },
   "outputs": [],
   "source": [
    "molecular_system_A = msm.build.build_peptide('AceAlaNME')\n",
    "molecular_system_B = msm.structure.translate(molecular_system_A, translation='[0.1, 0.1, 0.1] nanometers')\n",
    "molecular_system_C = msm.structure.translate(molecular_system_A, translation='[0.2, 0.2, 0.2] nanometers')"
   ]
  },
  {
   "cell_type": "code",
   "execution_count": 4,
   "metadata": {
    "execution": {
     "iopub.execute_input": "2025-03-11T21:03:56.055794Z",
     "iopub.status.busy": "2025-03-11T21:03:56.054662Z",
     "iopub.status.idle": "2025-03-11T21:03:58.869927Z",
     "shell.execute_reply": "2025-03-11T21:03:58.869217Z"
    }
   },
   "outputs": [],
   "source": [
    "molecular_system_D = msm.concatenate_structures([molecular_system_A, molecular_system_B, molecular_system_C])"
   ]
  },
  {
   "cell_type": "markdown",
   "metadata": {},
   "source": [
    "```{admonition} Tip\n",
    ":class: tip\n",
    "All methods defined in the {ref}`molsysmt.basic <API basic>` module can be invoked also from the main level of the library. As such, {func}`molsysmt.concatenate_structures` is the same method as {func}`molsysmt.basic.concatenate_structures`.\n",
    "```"
   ]
  },
  {
   "cell_type": "code",
   "execution_count": 5,
   "metadata": {
    "execution": {
     "iopub.execute_input": "2025-03-11T21:03:58.873256Z",
     "iopub.status.busy": "2025-03-11T21:03:58.872913Z",
     "iopub.status.idle": "2025-03-11T21:04:01.470336Z",
     "shell.execute_reply": "2025-03-11T21:04:01.469545Z"
    }
   },
   "outputs": [
    {
     "data": {
      "text/html": [
       "<style type=\"text/css\">\n",
       "</style>\n",
       "<table id=\"T_86088\">\n",
       "  <thead>\n",
       "    <tr>\n",
       "      <th id=\"T_86088_level0_col0\" class=\"col_heading level0 col0\" >form</th>\n",
       "      <th id=\"T_86088_level0_col1\" class=\"col_heading level0 col1\" >n_atoms</th>\n",
       "      <th id=\"T_86088_level0_col2\" class=\"col_heading level0 col2\" >n_groups</th>\n",
       "      <th id=\"T_86088_level0_col3\" class=\"col_heading level0 col3\" >n_components</th>\n",
       "      <th id=\"T_86088_level0_col4\" class=\"col_heading level0 col4\" >n_chains</th>\n",
       "      <th id=\"T_86088_level0_col5\" class=\"col_heading level0 col5\" >n_molecules</th>\n",
       "      <th id=\"T_86088_level0_col6\" class=\"col_heading level0 col6\" >n_entities</th>\n",
       "      <th id=\"T_86088_level0_col7\" class=\"col_heading level0 col7\" >n_peptides</th>\n",
       "      <th id=\"T_86088_level0_col8\" class=\"col_heading level0 col8\" >n_structures</th>\n",
       "    </tr>\n",
       "  </thead>\n",
       "  <tbody>\n",
       "    <tr>\n",
       "      <td id=\"T_86088_row0_col0\" class=\"data row0 col0\" >molsysmt.MolSys</td>\n",
       "      <td id=\"T_86088_row0_col1\" class=\"data row0 col1\" >22</td>\n",
       "      <td id=\"T_86088_row0_col2\" class=\"data row0 col2\" >3</td>\n",
       "      <td id=\"T_86088_row0_col3\" class=\"data row0 col3\" >1</td>\n",
       "      <td id=\"T_86088_row0_col4\" class=\"data row0 col4\" >1</td>\n",
       "      <td id=\"T_86088_row0_col5\" class=\"data row0 col5\" >1</td>\n",
       "      <td id=\"T_86088_row0_col6\" class=\"data row0 col6\" >1</td>\n",
       "      <td id=\"T_86088_row0_col7\" class=\"data row0 col7\" >1</td>\n",
       "      <td id=\"T_86088_row0_col8\" class=\"data row0 col8\" >3</td>\n",
       "    </tr>\n",
       "  </tbody>\n",
       "</table>\n"
      ],
      "text/plain": [
       "<pandas.io.formats.style.Styler at 0x7f4d69d63020>"
      ]
     },
     "execution_count": 5,
     "metadata": {},
     "output_type": "execute_result"
    }
   ],
   "source": [
    "msm.info(molecular_system_D)"
   ]
  },
  {
   "cell_type": "code",
   "execution_count": 6,
   "metadata": {
    "execution": {
     "iopub.execute_input": "2025-03-11T21:04:01.473574Z",
     "iopub.status.busy": "2025-03-11T21:04:01.473010Z",
     "iopub.status.idle": "2025-03-11T21:04:01.477296Z",
     "shell.execute_reply": "2025-03-11T21:04:01.476616Z"
    },
    "tags": [
     "remove-input"
    ]
   },
   "outputs": [],
   "source": [
    "# This cell is removed with the tag: \"remove-input\"\n",
    "# As such, it will not be shown in documentation\n",
    "nglview_htmlfile = '../../../../_static/nglview/concatenate_structures.html'\n",
    "msm.config._view_from_htmlfiles = False"
   ]
  },
  {
   "cell_type": "code",
   "execution_count": 7,
   "metadata": {
    "execution": {
     "iopub.execute_input": "2025-03-11T21:04:01.480484Z",
     "iopub.status.busy": "2025-03-11T21:04:01.480000Z",
     "iopub.status.idle": "2025-03-11T21:04:01.659760Z",
     "shell.execute_reply": "2025-03-11T21:04:01.658731Z"
    }
   },
   "outputs": [
    {
     "data": {
      "text/html": [
       "\n",
       "        <iframe\n",
       "            width=\"100%\"\n",
       "            height=\"320vh\"\n",
       "            src=\"../../../../_static/nglview/concatenate_structures.html\"\n",
       "            frameborder=\"0\"\n",
       "            allowfullscreen\n",
       "            \n",
       "        ></iframe>\n",
       "        "
      ],
      "text/plain": [
       "<IPython.lib.display.IFrame at 0x7f4dce6c1400>"
      ]
     },
     "execution_count": 7,
     "metadata": {},
     "output_type": "execute_result"
    }
   ],
   "source": [
    "msm.view(molecular_system_D)"
   ]
  },
  {
   "cell_type": "code",
   "execution_count": 8,
   "metadata": {
    "editable": true,
    "execution": {
     "iopub.execute_input": "2025-03-11T21:04:01.663260Z",
     "iopub.status.busy": "2025-03-11T21:04:01.662815Z",
     "iopub.status.idle": "2025-03-11T21:04:01.667079Z",
     "shell.execute_reply": "2025-03-11T21:04:01.666324Z"
    },
    "slideshow": {
     "slide_type": ""
    },
    "tags": [
     "remove-input"
    ]
   },
   "outputs": [],
   "source": [
    "# This cell is removed with the tag: \"remove-input\"\n",
    "# As such, it will not be shown in documentation\n",
    "\n",
    "if False:\n",
    "    # to write an html the view had to be displayed in a cell before\n",
    "    msm.thirds.nglview.write_html(view, nglview_htmlfile)"
   ]
  },
  {
   "cell_type": "markdown",
   "metadata": {},
   "source": [
    ":::{seealso}\n",
    "[User guide > Tools > Build > Build peptide](../build/build_peptide.ipynb):    \n",
    "[User guide > Tools > Structure > Translate](../structure/translate.ipynb):    \n",
    "[User guide > Tools > Basic > Info](info.ipynb): Printing out summary information of a molecular system.    \n",
    "[User guide > Tools > Basic > View](view.ipynb): Showing a molecular system.    \n",
    ":::"
   ]
  }
 ],
 "metadata": {
  "kernelspec": {
   "display_name": "Python 3 (ipykernel)",
   "language": "python",
   "name": "python3"
  },
  "language_info": {
   "codemirror_mode": {
    "name": "ipython",
    "version": 3
   },
   "file_extension": ".py",
   "mimetype": "text/x-python",
   "name": "python",
   "nbconvert_exporter": "python",
   "pygments_lexer": "ipython3",
   "version": "3.12.8"
  },
  "widgets": {
   "application/vnd.jupyter.widget-state+json": {
    "state": {
     "1518e6e8f3814fe7b46f9985406a034c": {
      "model_module": "@jupyter-widgets/base",
      "model_module_version": "2.0.0",
      "model_name": "LayoutModel",
      "state": {
       "_model_module": "@jupyter-widgets/base",
       "_model_module_version": "2.0.0",
       "_model_name": "LayoutModel",
       "_view_count": null,
       "_view_module": "@jupyter-widgets/base",
       "_view_module_version": "2.0.0",
       "_view_name": "LayoutView",
       "align_content": null,
       "align_items": null,
       "align_self": null,
       "border_bottom": null,
       "border_left": null,
       "border_right": null,
       "border_top": null,
       "bottom": null,
       "display": null,
       "flex": null,
       "flex_flow": null,
       "grid_area": null,
       "grid_auto_columns": null,
       "grid_auto_flow": null,
       "grid_auto_rows": null,
       "grid_column": null,
       "grid_gap": null,
       "grid_row": null,
       "grid_template_areas": null,
       "grid_template_columns": null,
       "grid_template_rows": null,
       "height": null,
       "justify_content": null,
       "justify_items": null,
       "left": null,
       "margin": null,
       "max_height": null,
       "max_width": null,
       "min_height": null,
       "min_width": null,
       "object_fit": null,
       "object_position": null,
       "order": null,
       "overflow": null,
       "padding": null,
       "right": null,
       "top": null,
       "visibility": null,
       "width": null
      }
     },
     "f94a0ce3649c41edb10403d7be82f2c2": {
      "model_module": "nglview-js-widgets",
      "model_module_version": "3.1.4",
      "model_name": "ColormakerRegistryModel",
      "state": {
       "_dom_classes": [],
       "_model_module": "nglview-js-widgets",
       "_model_module_version": "3.1.4",
       "_model_name": "ColormakerRegistryModel",
       "_msg_ar": [],
       "_msg_q": [],
       "_ready": false,
       "_view_count": null,
       "_view_module": "nglview-js-widgets",
       "_view_module_version": "3.1.4",
       "_view_name": "ColormakerRegistryView",
       "layout": "IPY_MODEL_1518e6e8f3814fe7b46f9985406a034c",
       "tabbable": null,
       "tooltip": null
      }
     }
    },
    "version_major": 2,
    "version_minor": 0
   }
  }
 },
 "nbformat": 4,
 "nbformat_minor": 4
}
