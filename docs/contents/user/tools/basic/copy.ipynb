{
 "cells": [
  {
   "cell_type": "code",
   "execution_count": 1,
   "metadata": {
    "execution": {
     "iopub.execute_input": "2025-03-11T21:03:16.859781Z",
     "iopub.status.busy": "2025-03-11T21:03:16.859099Z",
     "iopub.status.idle": "2025-03-11T21:03:16.863957Z",
     "shell.execute_reply": "2025-03-11T21:03:16.863070Z"
    },
    "tags": [
     "remove-input"
    ]
   },
   "outputs": [],
   "source": [
    "# This cell is removed with the tag: \"remove-input\"\n",
    "# As such, it will not be shown in documentation\n",
    "\n",
    "#import warnings\n",
    "#warnings.filterwarnings('ignore')"
   ]
  },
  {
   "cell_type": "markdown",
   "metadata": {},
   "source": [
    "(Tutorial_Copy)=\n",
    "# Copy\n",
    "\n",
    "*Making copies of molecular systems.*\n",
    "\n",
    "A molecular system can be duplicated with {func}`molsysmt.basic.copy`.\n",
    "\n",
    "## How this function works\n",
    "\n",
    "```{admonition} API documentation\n",
    "Follow this link for a detailed description of the input arguments, raised errors, and returned objects of this function:{func}`molsysmt.basic.copy`.\n",
    "```\n",
    "\n",
    "Let's illustrate the use of this function with a simple example:"
   ]
  },
  {
   "cell_type": "code",
   "execution_count": 2,
   "metadata": {
    "execution": {
     "iopub.execute_input": "2025-03-11T21:03:16.867865Z",
     "iopub.status.busy": "2025-03-11T21:03:16.867080Z",
     "iopub.status.idle": "2025-03-11T21:03:25.884238Z",
     "shell.execute_reply": "2025-03-11T21:03:25.883546Z"
    }
   },
   "outputs": [
    {
     "data": {
      "application/vnd.jupyter.widget-view+json": {
       "model_id": "e6dccc50a0244f54a80add5072f8e98c",
       "version_major": 2,
       "version_minor": 0
      },
      "text/plain": []
     },
     "metadata": {},
     "output_type": "display_data"
    }
   ],
   "source": [
    "import molsysmt as msm"
   ]
  },
  {
   "cell_type": "code",
   "execution_count": 3,
   "metadata": {
    "execution": {
     "iopub.execute_input": "2025-03-11T21:03:25.887252Z",
     "iopub.status.busy": "2025-03-11T21:03:25.886562Z",
     "iopub.status.idle": "2025-03-11T21:03:27.469146Z",
     "shell.execute_reply": "2025-03-11T21:03:27.466935Z"
    }
   },
   "outputs": [],
   "source": [
    "molecular_system = msm.convert('181L', to_form='molsysmt.MolSys')"
   ]
  },
  {
   "cell_type": "code",
   "execution_count": 4,
   "metadata": {
    "execution": {
     "iopub.execute_input": "2025-03-11T21:03:27.473737Z",
     "iopub.status.busy": "2025-03-11T21:03:27.472726Z",
     "iopub.status.idle": "2025-03-11T21:03:30.207208Z",
     "shell.execute_reply": "2025-03-11T21:03:30.206380Z"
    },
    "tags": [
     "scroll-output"
    ]
   },
   "outputs": [
    {
     "data": {
      "text/html": [
       "<style type=\"text/css\">\n",
       "</style>\n",
       "<table id=\"T_53a84\">\n",
       "  <thead>\n",
       "    <tr>\n",
       "      <th id=\"T_53a84_level0_col0\" class=\"col_heading level0 col0\" >form</th>\n",
       "      <th id=\"T_53a84_level0_col1\" class=\"col_heading level0 col1\" >n_atoms</th>\n",
       "      <th id=\"T_53a84_level0_col2\" class=\"col_heading level0 col2\" >n_groups</th>\n",
       "      <th id=\"T_53a84_level0_col3\" class=\"col_heading level0 col3\" >n_components</th>\n",
       "      <th id=\"T_53a84_level0_col4\" class=\"col_heading level0 col4\" >n_chains</th>\n",
       "      <th id=\"T_53a84_level0_col5\" class=\"col_heading level0 col5\" >n_molecules</th>\n",
       "      <th id=\"T_53a84_level0_col6\" class=\"col_heading level0 col6\" >n_entities</th>\n",
       "      <th id=\"T_53a84_level0_col7\" class=\"col_heading level0 col7\" >n_waters</th>\n",
       "      <th id=\"T_53a84_level0_col8\" class=\"col_heading level0 col8\" >n_ions</th>\n",
       "      <th id=\"T_53a84_level0_col9\" class=\"col_heading level0 col9\" >n_small_molecules</th>\n",
       "      <th id=\"T_53a84_level0_col10\" class=\"col_heading level0 col10\" >n_proteins</th>\n",
       "      <th id=\"T_53a84_level0_col11\" class=\"col_heading level0 col11\" >n_structures</th>\n",
       "    </tr>\n",
       "  </thead>\n",
       "  <tbody>\n",
       "    <tr>\n",
       "      <td id=\"T_53a84_row0_col0\" class=\"data row0 col0\" >molsysmt.MolSys</td>\n",
       "      <td id=\"T_53a84_row0_col1\" class=\"data row0 col1\" >1441</td>\n",
       "      <td id=\"T_53a84_row0_col2\" class=\"data row0 col2\" >302</td>\n",
       "      <td id=\"T_53a84_row0_col3\" class=\"data row0 col3\" >141</td>\n",
       "      <td id=\"T_53a84_row0_col4\" class=\"data row0 col4\" >6</td>\n",
       "      <td id=\"T_53a84_row0_col5\" class=\"data row0 col5\" >141</td>\n",
       "      <td id=\"T_53a84_row0_col6\" class=\"data row0 col6\" >5</td>\n",
       "      <td id=\"T_53a84_row0_col7\" class=\"data row0 col7\" >136</td>\n",
       "      <td id=\"T_53a84_row0_col8\" class=\"data row0 col8\" >2</td>\n",
       "      <td id=\"T_53a84_row0_col9\" class=\"data row0 col9\" >2</td>\n",
       "      <td id=\"T_53a84_row0_col10\" class=\"data row0 col10\" >1</td>\n",
       "      <td id=\"T_53a84_row0_col11\" class=\"data row0 col11\" >1</td>\n",
       "    </tr>\n",
       "  </tbody>\n",
       "</table>\n"
      ],
      "text/plain": [
       "<pandas.io.formats.style.Styler at 0x7f8145f50170>"
      ]
     },
     "execution_count": 4,
     "metadata": {},
     "output_type": "execute_result"
    }
   ],
   "source": [
    "msm.info(molecular_system)"
   ]
  },
  {
   "cell_type": "code",
   "execution_count": 5,
   "metadata": {
    "execution": {
     "iopub.execute_input": "2025-03-11T21:03:30.210371Z",
     "iopub.status.busy": "2025-03-11T21:03:30.210011Z",
     "iopub.status.idle": "2025-03-11T21:03:30.433835Z",
     "shell.execute_reply": "2025-03-11T21:03:30.432887Z"
    }
   },
   "outputs": [],
   "source": [
    "molecular_system_copy = msm.copy(molecular_system)"
   ]
  },
  {
   "cell_type": "markdown",
   "metadata": {},
   "source": [
    "```{admonition} Tip\n",
    ":class: tip\n",
    "All methods defined in the {ref}`molsysmt.basic <API basic>` module can be invoked also from the main level of the library. Hence, {func}`molsysmt.copy` is the same method as {func}`molsysmt.basic.copy`.\n",
    "```"
   ]
  },
  {
   "cell_type": "markdown",
   "metadata": {},
   "source": [
    "Are both molecular systems different python objects?"
   ]
  },
  {
   "cell_type": "code",
   "execution_count": 6,
   "metadata": {
    "execution": {
     "iopub.execute_input": "2025-03-11T21:03:30.438104Z",
     "iopub.status.busy": "2025-03-11T21:03:30.437130Z",
     "iopub.status.idle": "2025-03-11T21:03:30.444169Z",
     "shell.execute_reply": "2025-03-11T21:03:30.443229Z"
    }
   },
   "outputs": [
    {
     "data": {
      "text/plain": [
       "True"
      ]
     },
     "execution_count": 6,
     "metadata": {},
     "output_type": "execute_result"
    }
   ],
   "source": [
    "id(molecular_system)!= id(molecular_system_copy)"
   ]
  },
  {
   "cell_type": "markdown",
   "metadata": {},
   "source": [
    "But they represent the same molecular system:"
   ]
  },
  {
   "cell_type": "code",
   "execution_count": 7,
   "metadata": {
    "execution": {
     "iopub.execute_input": "2025-03-11T21:03:30.447858Z",
     "iopub.status.busy": "2025-03-11T21:03:30.447301Z",
     "iopub.status.idle": "2025-03-11T21:03:41.592753Z",
     "shell.execute_reply": "2025-03-11T21:03:41.591856Z"
    }
   },
   "outputs": [
    {
     "data": {
      "text/plain": [
       "True"
      ]
     },
     "execution_count": 7,
     "metadata": {},
     "output_type": "execute_result"
    }
   ],
   "source": [
    "msm.compare(molecular_system, molecular_system_copy, rule='equal')"
   ]
  },
  {
   "cell_type": "code",
   "execution_count": 8,
   "metadata": {
    "execution": {
     "iopub.execute_input": "2025-03-11T21:03:41.595912Z",
     "iopub.status.busy": "2025-03-11T21:03:41.595412Z",
     "iopub.status.idle": "2025-03-11T21:03:44.846767Z",
     "shell.execute_reply": "2025-03-11T21:03:44.845866Z"
    },
    "tags": [
     "scroll-output"
    ]
   },
   "outputs": [
    {
     "data": {
      "text/html": [
       "<style type=\"text/css\">\n",
       "</style>\n",
       "<table id=\"T_d0555\">\n",
       "  <thead>\n",
       "    <tr>\n",
       "      <th id=\"T_d0555_level0_col0\" class=\"col_heading level0 col0\" >form</th>\n",
       "      <th id=\"T_d0555_level0_col1\" class=\"col_heading level0 col1\" >n_atoms</th>\n",
       "      <th id=\"T_d0555_level0_col2\" class=\"col_heading level0 col2\" >n_groups</th>\n",
       "      <th id=\"T_d0555_level0_col3\" class=\"col_heading level0 col3\" >n_components</th>\n",
       "      <th id=\"T_d0555_level0_col4\" class=\"col_heading level0 col4\" >n_chains</th>\n",
       "      <th id=\"T_d0555_level0_col5\" class=\"col_heading level0 col5\" >n_molecules</th>\n",
       "      <th id=\"T_d0555_level0_col6\" class=\"col_heading level0 col6\" >n_entities</th>\n",
       "      <th id=\"T_d0555_level0_col7\" class=\"col_heading level0 col7\" >n_waters</th>\n",
       "      <th id=\"T_d0555_level0_col8\" class=\"col_heading level0 col8\" >n_ions</th>\n",
       "      <th id=\"T_d0555_level0_col9\" class=\"col_heading level0 col9\" >n_small_molecules</th>\n",
       "      <th id=\"T_d0555_level0_col10\" class=\"col_heading level0 col10\" >n_proteins</th>\n",
       "      <th id=\"T_d0555_level0_col11\" class=\"col_heading level0 col11\" >n_structures</th>\n",
       "    </tr>\n",
       "  </thead>\n",
       "  <tbody>\n",
       "    <tr>\n",
       "      <td id=\"T_d0555_row0_col0\" class=\"data row0 col0\" >molsysmt.MolSys</td>\n",
       "      <td id=\"T_d0555_row0_col1\" class=\"data row0 col1\" >1441</td>\n",
       "      <td id=\"T_d0555_row0_col2\" class=\"data row0 col2\" >302</td>\n",
       "      <td id=\"T_d0555_row0_col3\" class=\"data row0 col3\" >141</td>\n",
       "      <td id=\"T_d0555_row0_col4\" class=\"data row0 col4\" >6</td>\n",
       "      <td id=\"T_d0555_row0_col5\" class=\"data row0 col5\" >141</td>\n",
       "      <td id=\"T_d0555_row0_col6\" class=\"data row0 col6\" >5</td>\n",
       "      <td id=\"T_d0555_row0_col7\" class=\"data row0 col7\" >136</td>\n",
       "      <td id=\"T_d0555_row0_col8\" class=\"data row0 col8\" >2</td>\n",
       "      <td id=\"T_d0555_row0_col9\" class=\"data row0 col9\" >2</td>\n",
       "      <td id=\"T_d0555_row0_col10\" class=\"data row0 col10\" >1</td>\n",
       "      <td id=\"T_d0555_row0_col11\" class=\"data row0 col11\" >1</td>\n",
       "    </tr>\n",
       "  </tbody>\n",
       "</table>\n"
      ],
      "text/plain": [
       "<pandas.io.formats.style.Styler at 0x7f8145f0f350>"
      ]
     },
     "execution_count": 8,
     "metadata": {},
     "output_type": "execute_result"
    }
   ],
   "source": [
    "msm.info(molecular_system_copy)"
   ]
  },
  {
   "cell_type": "markdown",
   "metadata": {},
   "source": [
    ":::{seealso}\n",
    "[User guide > Tools > Basic > Convert](convert.ipynb):    \n",
    "[User guide > Tools > Basic > Compare](compare.ipynb):    \n",
    "[User guide > Tools > Basic > Info](info.ipynb): Printing out summary information of a molecular system.    \n",
    ":::"
   ]
  }
 ],
 "metadata": {
  "kernelspec": {
   "display_name": "Python 3 (ipykernel)",
   "language": "python",
   "name": "python3"
  },
  "language_info": {
   "codemirror_mode": {
    "name": "ipython",
    "version": 3
   },
   "file_extension": ".py",
   "mimetype": "text/x-python",
   "name": "python",
   "nbconvert_exporter": "python",
   "pygments_lexer": "ipython3",
   "version": "3.12.8"
  },
  "widgets": {
   "application/vnd.jupyter.widget-state+json": {
    "state": {
     "93f99970286a4c8a815d5debc3610bb8": {
      "model_module": "@jupyter-widgets/base",
      "model_module_version": "2.0.0",
      "model_name": "LayoutModel",
      "state": {
       "_model_module": "@jupyter-widgets/base",
       "_model_module_version": "2.0.0",
       "_model_name": "LayoutModel",
       "_view_count": null,
       "_view_module": "@jupyter-widgets/base",
       "_view_module_version": "2.0.0",
       "_view_name": "LayoutView",
       "align_content": null,
       "align_items": null,
       "align_self": null,
       "border_bottom": null,
       "border_left": null,
       "border_right": null,
       "border_top": null,
       "bottom": null,
       "display": null,
       "flex": null,
       "flex_flow": null,
       "grid_area": null,
       "grid_auto_columns": null,
       "grid_auto_flow": null,
       "grid_auto_rows": null,
       "grid_column": null,
       "grid_gap": null,
       "grid_row": null,
       "grid_template_areas": null,
       "grid_template_columns": null,
       "grid_template_rows": null,
       "height": null,
       "justify_content": null,
       "justify_items": null,
       "left": null,
       "margin": null,
       "max_height": null,
       "max_width": null,
       "min_height": null,
       "min_width": null,
       "object_fit": null,
       "object_position": null,
       "order": null,
       "overflow": null,
       "padding": null,
       "right": null,
       "top": null,
       "visibility": null,
       "width": null
      }
     },
     "e6dccc50a0244f54a80add5072f8e98c": {
      "model_module": "nglview-js-widgets",
      "model_module_version": "3.1.4",
      "model_name": "ColormakerRegistryModel",
      "state": {
       "_dom_classes": [],
       "_model_module": "nglview-js-widgets",
       "_model_module_version": "3.1.4",
       "_model_name": "ColormakerRegistryModel",
       "_msg_ar": [],
       "_msg_q": [],
       "_ready": false,
       "_view_count": null,
       "_view_module": "nglview-js-widgets",
       "_view_module_version": "3.1.4",
       "_view_name": "ColormakerRegistryView",
       "layout": "IPY_MODEL_93f99970286a4c8a815d5debc3610bb8",
       "tabbable": null,
       "tooltip": null
      }
     }
    },
    "version_major": 2,
    "version_minor": 0
   }
  }
 },
 "nbformat": 4,
 "nbformat_minor": 4
}
