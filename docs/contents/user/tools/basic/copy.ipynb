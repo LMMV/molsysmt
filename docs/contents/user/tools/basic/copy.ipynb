{
 "cells": [
  {
   "cell_type": "code",
   "execution_count": 1,
   "metadata": {
    "execution": {
     "iopub.execute_input": "2025-04-12T21:51:04.959457Z",
     "iopub.status.busy": "2025-04-12T21:51:04.958485Z",
     "iopub.status.idle": "2025-04-12T21:51:04.963564Z",
     "shell.execute_reply": "2025-04-12T21:51:04.962705Z"
    },
    "tags": [
     "remove-input"
    ]
   },
   "outputs": [],
   "source": [
    "# This cell is removed with the tag: \"remove-input\"\n",
    "# As such, it will not be shown in documentation\n",
    "\n",
    "#import warnings\n",
    "#warnings.filterwarnings('ignore')"
   ]
  },
  {
   "cell_type": "markdown",
   "metadata": {},
   "source": [
    "(Tutorial_Copy)=\n",
    "# Copy\n",
    "\n",
    "*Creating independent copies of molecular systems.*\n",
    "\n",
    "The function {func}molsysmt.basic.copy allows you to create a fully independent copy of a molecular system.\n",
    "\n",
    "## How this function works\n",
    "\n",
    "```{admonition} API documentation\n",
    "Follow this link for a detailed description of the input arguments, raised errors, and returned objects of this function:{func}`molsysmt.basic.copy`.\n",
    "```\n",
    "\n",
    "Let's illustrate the use of this function with a simple example:"
   ]
  },
  {
   "cell_type": "code",
   "execution_count": 2,
   "metadata": {
    "execution": {
     "iopub.execute_input": "2025-04-12T21:51:04.967583Z",
     "iopub.status.busy": "2025-04-12T21:51:04.966932Z",
     "iopub.status.idle": "2025-04-12T21:51:10.247812Z",
     "shell.execute_reply": "2025-04-12T21:51:10.247059Z"
    }
   },
   "outputs": [
    {
     "data": {
      "application/vnd.jupyter.widget-view+json": {
       "model_id": "5eedee14384341cabcc60899d2328120",
       "version_major": 2,
       "version_minor": 0
      },
      "text/plain": []
     },
     "metadata": {},
     "output_type": "display_data"
    }
   ],
   "source": [
    "import molsysmt as msm"
   ]
  },
  {
   "cell_type": "code",
   "execution_count": 3,
   "metadata": {
    "execution": {
     "iopub.execute_input": "2025-04-12T21:51:10.251327Z",
     "iopub.status.busy": "2025-04-12T21:51:10.250688Z",
     "iopub.status.idle": "2025-04-12T21:51:11.246615Z",
     "shell.execute_reply": "2025-04-12T21:51:11.245872Z"
    }
   },
   "outputs": [],
   "source": [
    "molsys = msm.convert('181L', to_form='molsysmt.MolSys')"
   ]
  },
  {
   "cell_type": "code",
   "execution_count": 4,
   "metadata": {
    "execution": {
     "iopub.execute_input": "2025-04-12T21:51:11.250104Z",
     "iopub.status.busy": "2025-04-12T21:51:11.249593Z",
     "iopub.status.idle": "2025-04-12T21:51:12.351563Z",
     "shell.execute_reply": "2025-04-12T21:51:12.350696Z"
    },
    "tags": [
     "scroll-output"
    ]
   },
   "outputs": [
    {
     "data": {
      "text/html": [
       "<style type=\"text/css\">\n",
       "</style>\n",
       "<table id=\"T_8eb08\">\n",
       "  <thead>\n",
       "    <tr>\n",
       "      <th id=\"T_8eb08_level0_col0\" class=\"col_heading level0 col0\" >form</th>\n",
       "      <th id=\"T_8eb08_level0_col1\" class=\"col_heading level0 col1\" >n_atoms</th>\n",
       "      <th id=\"T_8eb08_level0_col2\" class=\"col_heading level0 col2\" >n_groups</th>\n",
       "      <th id=\"T_8eb08_level0_col3\" class=\"col_heading level0 col3\" >n_components</th>\n",
       "      <th id=\"T_8eb08_level0_col4\" class=\"col_heading level0 col4\" >n_chains</th>\n",
       "      <th id=\"T_8eb08_level0_col5\" class=\"col_heading level0 col5\" >n_molecules</th>\n",
       "      <th id=\"T_8eb08_level0_col6\" class=\"col_heading level0 col6\" >n_entities</th>\n",
       "      <th id=\"T_8eb08_level0_col7\" class=\"col_heading level0 col7\" >n_waters</th>\n",
       "      <th id=\"T_8eb08_level0_col8\" class=\"col_heading level0 col8\" >n_ions</th>\n",
       "      <th id=\"T_8eb08_level0_col9\" class=\"col_heading level0 col9\" >n_small_molecules</th>\n",
       "      <th id=\"T_8eb08_level0_col10\" class=\"col_heading level0 col10\" >n_proteins</th>\n",
       "      <th id=\"T_8eb08_level0_col11\" class=\"col_heading level0 col11\" >n_structures</th>\n",
       "    </tr>\n",
       "  </thead>\n",
       "  <tbody>\n",
       "    <tr>\n",
       "      <td id=\"T_8eb08_row0_col0\" class=\"data row0 col0\" >molsysmt.MolSys</td>\n",
       "      <td id=\"T_8eb08_row0_col1\" class=\"data row0 col1\" >1441</td>\n",
       "      <td id=\"T_8eb08_row0_col2\" class=\"data row0 col2\" >302</td>\n",
       "      <td id=\"T_8eb08_row0_col3\" class=\"data row0 col3\" >141</td>\n",
       "      <td id=\"T_8eb08_row0_col4\" class=\"data row0 col4\" >6</td>\n",
       "      <td id=\"T_8eb08_row0_col5\" class=\"data row0 col5\" >141</td>\n",
       "      <td id=\"T_8eb08_row0_col6\" class=\"data row0 col6\" >5</td>\n",
       "      <td id=\"T_8eb08_row0_col7\" class=\"data row0 col7\" >136</td>\n",
       "      <td id=\"T_8eb08_row0_col8\" class=\"data row0 col8\" >2</td>\n",
       "      <td id=\"T_8eb08_row0_col9\" class=\"data row0 col9\" >2</td>\n",
       "      <td id=\"T_8eb08_row0_col10\" class=\"data row0 col10\" >1</td>\n",
       "      <td id=\"T_8eb08_row0_col11\" class=\"data row0 col11\" >1</td>\n",
       "    </tr>\n",
       "  </tbody>\n",
       "</table>\n"
      ],
      "text/plain": [
       "<pandas.io.formats.style.Styler at 0x7ff438458ce0>"
      ]
     },
     "execution_count": 4,
     "metadata": {},
     "output_type": "execute_result"
    }
   ],
   "source": [
    "msm.info(molsys)"
   ]
  },
  {
   "cell_type": "code",
   "execution_count": 5,
   "metadata": {
    "execution": {
     "iopub.execute_input": "2025-04-12T21:51:12.355762Z",
     "iopub.status.busy": "2025-04-12T21:51:12.354963Z",
     "iopub.status.idle": "2025-04-12T21:51:12.453068Z",
     "shell.execute_reply": "2025-04-12T21:51:12.452255Z"
    }
   },
   "outputs": [],
   "source": [
    "molsys_copy = msm.copy(molsys)"
   ]
  },
  {
   "cell_type": "markdown",
   "metadata": {},
   "source": [
    "```{admonition} Tip\n",
    ":class: tip\n",
    "All methods defined in the {ref}`molsysmt.basic <API basic>` module can be invoked also from the main level of the library. Hence, {func}`molsysmt.copy` is the same method as {func}`molsysmt.basic.copy`.\n",
    "```"
   ]
  },
  {
   "cell_type": "markdown",
   "metadata": {},
   "source": [
    "Although the original and copied systems are structurally identical, they are stored as distinct Python objects:"
   ]
  },
  {
   "cell_type": "code",
   "execution_count": 6,
   "metadata": {
    "execution": {
     "iopub.execute_input": "2025-04-12T21:51:12.456928Z",
     "iopub.status.busy": "2025-04-12T21:51:12.456642Z",
     "iopub.status.idle": "2025-04-12T21:51:12.461368Z",
     "shell.execute_reply": "2025-04-12T21:51:12.460731Z"
    }
   },
   "outputs": [
    {
     "data": {
      "text/plain": [
       "True"
      ]
     },
     "execution_count": 6,
     "metadata": {},
     "output_type": "execute_result"
    }
   ],
   "source": [
    "id(molsys)!= id(molsys_copy)"
   ]
  },
  {
   "cell_type": "markdown",
   "metadata": {},
   "source": [
    "But they represent the same molecular system:"
   ]
  },
  {
   "cell_type": "code",
   "execution_count": 7,
   "metadata": {
    "execution": {
     "iopub.execute_input": "2025-04-12T21:51:12.464946Z",
     "iopub.status.busy": "2025-04-12T21:51:12.464634Z",
     "iopub.status.idle": "2025-04-12T21:51:16.336255Z",
     "shell.execute_reply": "2025-04-12T21:51:16.335480Z"
    }
   },
   "outputs": [
    {
     "data": {
      "text/plain": [
       "True"
      ]
     },
     "execution_count": 7,
     "metadata": {},
     "output_type": "execute_result"
    }
   ],
   "source": [
    "msm.compare(molsys, molsys_copy, rule='equal')"
   ]
  },
  {
   "cell_type": "code",
   "execution_count": 8,
   "metadata": {
    "execution": {
     "iopub.execute_input": "2025-04-12T21:51:16.339575Z",
     "iopub.status.busy": "2025-04-12T21:51:16.339176Z",
     "iopub.status.idle": "2025-04-12T21:51:17.376920Z",
     "shell.execute_reply": "2025-04-12T21:51:17.376204Z"
    },
    "tags": [
     "scroll-output"
    ]
   },
   "outputs": [
    {
     "data": {
      "text/html": [
       "<style type=\"text/css\">\n",
       "</style>\n",
       "<table id=\"T_4d5eb\">\n",
       "  <thead>\n",
       "    <tr>\n",
       "      <th id=\"T_4d5eb_level0_col0\" class=\"col_heading level0 col0\" >form</th>\n",
       "      <th id=\"T_4d5eb_level0_col1\" class=\"col_heading level0 col1\" >n_atoms</th>\n",
       "      <th id=\"T_4d5eb_level0_col2\" class=\"col_heading level0 col2\" >n_groups</th>\n",
       "      <th id=\"T_4d5eb_level0_col3\" class=\"col_heading level0 col3\" >n_components</th>\n",
       "      <th id=\"T_4d5eb_level0_col4\" class=\"col_heading level0 col4\" >n_chains</th>\n",
       "      <th id=\"T_4d5eb_level0_col5\" class=\"col_heading level0 col5\" >n_molecules</th>\n",
       "      <th id=\"T_4d5eb_level0_col6\" class=\"col_heading level0 col6\" >n_entities</th>\n",
       "      <th id=\"T_4d5eb_level0_col7\" class=\"col_heading level0 col7\" >n_waters</th>\n",
       "      <th id=\"T_4d5eb_level0_col8\" class=\"col_heading level0 col8\" >n_ions</th>\n",
       "      <th id=\"T_4d5eb_level0_col9\" class=\"col_heading level0 col9\" >n_small_molecules</th>\n",
       "      <th id=\"T_4d5eb_level0_col10\" class=\"col_heading level0 col10\" >n_proteins</th>\n",
       "      <th id=\"T_4d5eb_level0_col11\" class=\"col_heading level0 col11\" >n_structures</th>\n",
       "    </tr>\n",
       "  </thead>\n",
       "  <tbody>\n",
       "    <tr>\n",
       "      <td id=\"T_4d5eb_row0_col0\" class=\"data row0 col0\" >molsysmt.MolSys</td>\n",
       "      <td id=\"T_4d5eb_row0_col1\" class=\"data row0 col1\" >1441</td>\n",
       "      <td id=\"T_4d5eb_row0_col2\" class=\"data row0 col2\" >302</td>\n",
       "      <td id=\"T_4d5eb_row0_col3\" class=\"data row0 col3\" >141</td>\n",
       "      <td id=\"T_4d5eb_row0_col4\" class=\"data row0 col4\" >6</td>\n",
       "      <td id=\"T_4d5eb_row0_col5\" class=\"data row0 col5\" >141</td>\n",
       "      <td id=\"T_4d5eb_row0_col6\" class=\"data row0 col6\" >5</td>\n",
       "      <td id=\"T_4d5eb_row0_col7\" class=\"data row0 col7\" >136</td>\n",
       "      <td id=\"T_4d5eb_row0_col8\" class=\"data row0 col8\" >2</td>\n",
       "      <td id=\"T_4d5eb_row0_col9\" class=\"data row0 col9\" >2</td>\n",
       "      <td id=\"T_4d5eb_row0_col10\" class=\"data row0 col10\" >1</td>\n",
       "      <td id=\"T_4d5eb_row0_col11\" class=\"data row0 col11\" >1</td>\n",
       "    </tr>\n",
       "  </tbody>\n",
       "</table>\n"
      ],
      "text/plain": [
       "<pandas.io.formats.style.Styler at 0x7ff434bb2630>"
      ]
     },
     "execution_count": 8,
     "metadata": {},
     "output_type": "execute_result"
    }
   ],
   "source": [
    "msm.info(molsys_copy)"
   ]
  },
  {
   "cell_type": "markdown",
   "metadata": {},
   "source": [
    ":::{seealso}\n",
    "[User guide > Tools > Basic > Convert](convert.ipynb):   \n",
    "Convert a molecular system into another form.\n",
    "\n",
    "[User guide > Tools > Basic > Compare](compare.ipynb):    \n",
    "Compare molecular systems to check identity or equality.\n",
    "\n",
    "[User guide > Tools > Basic > Info](info.ipynb):    \n",
    "Display summary information about a molecular system.\n",
    ":::"
   ]
  }
 ],
 "metadata": {
  "kernelspec": {
   "display_name": "Python 3 (ipykernel)",
   "language": "python",
   "name": "python3"
  },
  "language_info": {
   "codemirror_mode": {
    "name": "ipython",
    "version": 3
   },
   "file_extension": ".py",
   "mimetype": "text/x-python",
   "name": "python",
   "nbconvert_exporter": "python",
   "pygments_lexer": "ipython3",
   "version": "3.12.9"
  },
  "widgets": {
   "application/vnd.jupyter.widget-state+json": {
    "state": {
     "5eedee14384341cabcc60899d2328120": {
      "model_module": "nglview-js-widgets",
      "model_module_version": "3.1.4",
      "model_name": "ColormakerRegistryModel",
      "state": {
       "_dom_classes": [],
       "_model_module": "nglview-js-widgets",
       "_model_module_version": "3.1.4",
       "_model_name": "ColormakerRegistryModel",
       "_msg_ar": [],
       "_msg_q": [],
       "_ready": false,
       "_view_count": null,
       "_view_module": "nglview-js-widgets",
       "_view_module_version": "3.1.4",
       "_view_name": "ColormakerRegistryView",
       "layout": "IPY_MODEL_ddbbf491d81b4734baf7a1378302af97",
       "tabbable": null,
       "tooltip": null
      }
     },
     "ddbbf491d81b4734baf7a1378302af97": {
      "model_module": "@jupyter-widgets/base",
      "model_module_version": "2.0.0",
      "model_name": "LayoutModel",
      "state": {
       "_model_module": "@jupyter-widgets/base",
       "_model_module_version": "2.0.0",
       "_model_name": "LayoutModel",
       "_view_count": null,
       "_view_module": "@jupyter-widgets/base",
       "_view_module_version": "2.0.0",
       "_view_name": "LayoutView",
       "align_content": null,
       "align_items": null,
       "align_self": null,
       "border_bottom": null,
       "border_left": null,
       "border_right": null,
       "border_top": null,
       "bottom": null,
       "display": null,
       "flex": null,
       "flex_flow": null,
       "grid_area": null,
       "grid_auto_columns": null,
       "grid_auto_flow": null,
       "grid_auto_rows": null,
       "grid_column": null,
       "grid_gap": null,
       "grid_row": null,
       "grid_template_areas": null,
       "grid_template_columns": null,
       "grid_template_rows": null,
       "height": null,
       "justify_content": null,
       "justify_items": null,
       "left": null,
       "margin": null,
       "max_height": null,
       "max_width": null,
       "min_height": null,
       "min_width": null,
       "object_fit": null,
       "object_position": null,
       "order": null,
       "overflow": null,
       "padding": null,
       "right": null,
       "top": null,
       "visibility": null,
       "width": null
      }
     }
    },
    "version_major": 2,
    "version_minor": 0
   }
  }
 },
 "nbformat": 4,
 "nbformat_minor": 4
}
