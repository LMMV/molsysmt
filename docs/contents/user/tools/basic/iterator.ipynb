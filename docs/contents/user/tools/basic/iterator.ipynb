{
 "cells": [
  {
   "cell_type": "code",
   "execution_count": 1,
   "id": "5bf76106-0632-47ac-a712-d1fe0b77fed0",
   "metadata": {
    "execution": {
     "iopub.execute_input": "2025-04-12T20:27:13.129469Z",
     "iopub.status.busy": "2025-04-12T20:27:13.129094Z",
     "iopub.status.idle": "2025-04-12T20:27:13.134561Z",
     "shell.execute_reply": "2025-04-12T20:27:13.133800Z"
    },
    "tags": [
     "remove-input"
    ]
   },
   "outputs": [],
   "source": [
    "# This cell is removed with the tag: \"remove-input\"\n",
    "# As such, it will not be shown in documentation\n",
    "\n",
    "import warnings\n",
    "warnings.filterwarnings('ignore')"
   ]
  },
  {
   "cell_type": "markdown",
   "id": "3fd275e9-e7ab-4c25-8a28-9efb8a9d9e04",
   "metadata": {},
   "source": [
    "(Tutorial_Iterator)=\n",
    "# Iterator\n",
    "\n",
    "*Iterating over topological and structural attributes of a molecular system*\n",
    "\n",
    "MolSysMT provides a convenient tool to iterate over topological and structural attributes of a molecular system. This tool — the class {class}`molsysmt.basic.Iterator` — supports standard control arguments like `start`, `stop`, `step`, and `chunk`, regardless of the attribute type.\n",
    "\n",
    ":::{hint}\n",
    "Visit the section [User guide > Introduction > Molecular System > Attributes](../../intro/molecular_systems/attributes.ipynb) in case you are not familiar with the concept of \"attribute\" in MolSysMT.\n",
    ":::\n",
    "\n",
    "Let's start showing the use of the iterator over topological attributes."
   ]
  },
  {
   "cell_type": "markdown",
   "id": "ee027b3f-738a-49f1-9acf-313cbe52f301",
   "metadata": {},
   "source": [
    "## Iterations over topological attributes"
   ]
  },
  {
   "cell_type": "markdown",
   "id": "68ac7c61-1373-4538-acf3-2c8092b29bdf",
   "metadata": {},
   "source": [
    "Suppose we want to iterate over topological attributes such as `atom_name` or `group_index`.\n",
    "The class {class}`molsysmt.basic.Iterator` is designed for this purpose.\n",
    "\n",
    "```{admonition} API documentation\n",
    "Follow this link for a detailed description of the input arguments, raised errors, and returned objects of this function:{class}`molsysmt.basic.Iterator`.\n",
    "```\n",
    "\n",
    "Have a look to the following code:"
   ]
  },
  {
   "cell_type": "code",
   "execution_count": 2,
   "id": "0257bd9e-967f-432a-b41d-c4c5f8ee3f79",
   "metadata": {
    "execution": {
     "iopub.execute_input": "2025-04-12T20:27:13.139090Z",
     "iopub.status.busy": "2025-04-12T20:27:13.138406Z",
     "iopub.status.idle": "2025-04-12T20:27:18.233108Z",
     "shell.execute_reply": "2025-04-12T20:27:18.231824Z"
    }
   },
   "outputs": [
    {
     "data": {
      "application/vnd.jupyter.widget-view+json": {
       "model_id": "a7a27650fe3c46488ded6dd8fd7d8bd5",
       "version_major": 2,
       "version_minor": 0
      },
      "text/plain": []
     },
     "metadata": {},
     "output_type": "display_data"
    }
   ],
   "source": [
    "import molsysmt as msm"
   ]
  },
  {
   "cell_type": "code",
   "execution_count": 3,
   "id": "7e45d2ad-d8d2-4e14-bec8-d986125d1ce9",
   "metadata": {
    "execution": {
     "iopub.execute_input": "2025-04-12T20:27:18.237566Z",
     "iopub.status.busy": "2025-04-12T20:27:18.236748Z",
     "iopub.status.idle": "2025-04-12T20:27:18.241958Z",
     "shell.execute_reply": "2025-04-12T20:27:18.241347Z"
    }
   },
   "outputs": [],
   "source": [
    "molsys = msm.systems['chicken villin HP35']['1vii.bcif.gz']"
   ]
  },
  {
   "cell_type": "code",
   "execution_count": 4,
   "id": "5fa305f8-df9f-4422-814d-c1212a6869f3",
   "metadata": {
    "execution": {
     "iopub.execute_input": "2025-04-12T20:27:18.244745Z",
     "iopub.status.busy": "2025-04-12T20:27:18.244479Z",
     "iopub.status.idle": "2025-04-12T20:27:18.711763Z",
     "shell.execute_reply": "2025-04-12T20:27:18.710902Z"
    }
   },
   "outputs": [],
   "source": [
    "iterator = msm.Iterator(molsys, selection='atom_name==\"CA\" and group_index<10',\n",
    "                        atom_index=True, atom_name=True, group_index=True, group_name=True)"
   ]
  },
  {
   "cell_type": "markdown",
   "id": "a981d4bd-a259-41c0-93b1-881d4dad93b7",
   "metadata": {},
   "source": [
    ":::{tip}\n",
    "All objects defined in the {ref}`molsysmt.basic <API basic>` module can be invoked also from the main level of the library. Hence, {class}`molsysmt.Iterator` is the same class as {class}`molsysmt.basic.Iterator`.\n",
    ":::"
   ]
  },
  {
   "cell_type": "code",
   "execution_count": 5,
   "id": "603aa1fa-a80f-4c29-b2d3-e63a217fe249",
   "metadata": {
    "execution": {
     "iopub.execute_input": "2025-04-12T20:27:18.715857Z",
     "iopub.status.busy": "2025-04-12T20:27:18.715341Z",
     "iopub.status.idle": "2025-04-12T20:27:18.720285Z",
     "shell.execute_reply": "2025-04-12T20:27:18.719641Z"
    }
   },
   "outputs": [
    {
     "name": "stdout",
     "output_type": "stream",
     "text": [
      "0 N 0 MET\n",
      "1 CA 0 MET\n",
      "2 C 0 MET\n",
      "3 O 0 MET\n",
      "4 CB 0 MET\n",
      "5 CG 0 MET\n",
      "6 SD 0 MET\n",
      "7 CE 0 MET\n",
      "8 H1 0 MET\n",
      "9 H2 0 MET\n"
     ]
    }
   ],
   "source": [
    "for atom_index, atom_name, group_index, group_name in iterator:\n",
    "    print(atom_index, atom_name, group_index, group_name)"
   ]
  },
  {
   "cell_type": "markdown",
   "id": "98ed05c6-a9e3-4f2e-bf8b-190c64f9373b",
   "metadata": {},
   "source": [
    "The class {class}`molsysmt.basic.Iterator` allows us to work with a loop running over a selection of atoms. The set of attributes we want to extract are introduced together with the rest of instantation arguments in a similar way they are indicated in {func}`molsysmt.basic.get`. But, is the iterator only running over atoms? Not at all. The `element` argument can be set to other leves such as `group`, `component`, `chain`, `molecule` or `entity`. Check this next case:"
   ]
  },
  {
   "cell_type": "code",
   "execution_count": 6,
   "id": "c37533ad-a41c-4f71-aad5-23779847788c",
   "metadata": {
    "execution": {
     "iopub.execute_input": "2025-04-12T20:27:18.723938Z",
     "iopub.status.busy": "2025-04-12T20:27:18.723673Z",
     "iopub.status.idle": "2025-04-12T20:27:18.931458Z",
     "shell.execute_reply": "2025-04-12T20:27:18.930508Z"
    }
   },
   "outputs": [],
   "source": [
    "iterator = msm.Iterator(molsys, element='group', selection='molecule_type==\"peptide\"',\n",
    "                        group_index=True, group_name=True)"
   ]
  },
  {
   "cell_type": "code",
   "execution_count": 7,
   "id": "eaacf1e8-1346-4e12-85c3-0ac95a135412",
   "metadata": {
    "execution": {
     "iopub.execute_input": "2025-04-12T20:27:18.934962Z",
     "iopub.status.busy": "2025-04-12T20:27:18.934729Z",
     "iopub.status.idle": "2025-04-12T20:27:18.939311Z",
     "shell.execute_reply": "2025-04-12T20:27:18.938650Z"
    }
   },
   "outputs": [
    {
     "name": "stdout",
     "output_type": "stream",
     "text": [
      "0 MET\n",
      "1 LEU\n",
      "2 SER\n",
      "3 ASP\n",
      "4 GLU\n",
      "5 ASP\n",
      "6 PHE\n",
      "7 LYS\n",
      "8 ALA\n",
      "9 VAL\n",
      "10 PHE\n",
      "11 GLY\n",
      "12 MET\n",
      "13 THR\n",
      "14 ARG\n",
      "15 SER\n",
      "16 ALA\n",
      "17 PHE\n",
      "18 ALA\n",
      "19 ASN\n",
      "20 LEU\n",
      "21 PRO\n",
      "22 LEU\n",
      "23 TRP\n",
      "24 LYS\n",
      "25 GLN\n",
      "26 GLN\n",
      "27 ASN\n",
      "28 LEU\n",
      "29 LYS\n",
      "30 LYS\n",
      "31 GLU\n",
      "32 LYS\n",
      "33 GLY\n",
      "34 LEU\n",
      "35 PHE\n"
     ]
    }
   ],
   "source": [
    "for group_index, group_name in iterator:\n",
    "    print(group_index, group_name)"
   ]
  },
  {
   "cell_type": "markdown",
   "id": "3024a432-b7f2-426e-97ea-f233be4cba32",
   "metadata": {},
   "source": [
    "For more advanced iteration control, you can use the arguments `start`, `stop`, `step` and `chunk`."
   ]
  },
  {
   "cell_type": "code",
   "execution_count": 8,
   "id": "77bd6cf6-b8be-4dea-83e3-f10a857a7481",
   "metadata": {
    "execution": {
     "iopub.execute_input": "2025-04-12T20:27:18.942100Z",
     "iopub.status.busy": "2025-04-12T20:27:18.941800Z",
     "iopub.status.idle": "2025-04-12T20:27:19.065537Z",
     "shell.execute_reply": "2025-04-12T20:27:19.064813Z"
    }
   },
   "outputs": [],
   "source": [
    "iterator = msm.Iterator(molsys, element='atom', start=10, stop=40, step=2, chunk=5,\n",
    "                        atom_index=True, atom_name=True)"
   ]
  },
  {
   "cell_type": "code",
   "execution_count": 9,
   "id": "9a616860-274c-4514-befb-f9d24acfcd2d",
   "metadata": {
    "execution": {
     "iopub.execute_input": "2025-04-12T20:27:19.069034Z",
     "iopub.status.busy": "2025-04-12T20:27:19.068747Z",
     "iopub.status.idle": "2025-04-12T20:27:19.072697Z",
     "shell.execute_reply": "2025-04-12T20:27:19.072103Z"
    }
   },
   "outputs": [
    {
     "name": "stdout",
     "output_type": "stream",
     "text": [
      "[10, 12, 14, 16, 18] ['H3', 'HB2', 'HG2', 'HE1', 'HE3']\n",
      "[20, 22, 24, 26, 28] ['CA', 'O', 'CG', 'CD2', 'HA']\n",
      "[30, 32, 34, 36, 38] ['HB3', 'HD11', 'HD13', 'HD22', 'N']\n"
     ]
    }
   ],
   "source": [
    "for atom_indices, atom_names in iterator:\n",
    "    print(atom_indices, atom_names)"
   ]
  },
  {
   "cell_type": "markdown",
   "id": "7d3a8fc8-f3e9-4d1b-951d-170bea088044",
   "metadata": {},
   "source": [
    ":::{tip}\n",
    "If you want to extract values of topological or structural attributes from a molecular system, {func}`molsysmt.basic.Iterator` is not the only way you can do it. Have a look to the function {func}`molsysmt.basic.get` and its {ref}`User guide > Tools > Basic > Get <Tutorial_Get>`.\n",
    ":::"
   ]
  },
  {
   "cell_type": "markdown",
   "id": "b0771ed0-8b31-45c5-8b8c-d40b26e9c636",
   "metadata": {},
   "source": [
    "## Iterations over structural attributes\n",
    "\n",
    "In this section, let's suppose we have a molecular system with different structures: a molecular dynamics trajectory file, for instance.\n",
    "And let's see how the class {class}`molsysmt.basic.Iterator` can be used to iterate over structural attributes such as `coordinates`, `box` or `time`. \n",
    "\n",
    "```{admonition} API documentation\n",
    "Follow this link for a detailed description of the input arguments, raised errors, and returned objects of this function:{class}`molsysmt.basic.Iterator`.\n",
    "```\n",
    "\n",
    "Here we have an example:"
   ]
  },
  {
   "cell_type": "code",
   "execution_count": 10,
   "id": "4951681f-bc12-4b76-9296-6a9c0e807d6c",
   "metadata": {
    "execution": {
     "iopub.execute_input": "2025-04-12T20:27:19.075435Z",
     "iopub.status.busy": "2025-04-12T20:27:19.075111Z",
     "iopub.status.idle": "2025-04-12T20:27:19.078540Z",
     "shell.execute_reply": "2025-04-12T20:27:19.077823Z"
    }
   },
   "outputs": [],
   "source": [
    "molsys = msm.systems['pentalanine']['traj_pentalanine.h5']"
   ]
  },
  {
   "cell_type": "code",
   "execution_count": 11,
   "id": "541c0e93-69b2-4315-910a-185553d520c9",
   "metadata": {
    "execution": {
     "iopub.execute_input": "2025-04-12T20:27:19.081012Z",
     "iopub.status.busy": "2025-04-12T20:27:19.080736Z",
     "iopub.status.idle": "2025-04-12T20:27:19.176128Z",
     "shell.execute_reply": "2025-04-12T20:27:19.175429Z"
    }
   },
   "outputs": [],
   "source": [
    "iterator = msm.Iterator(molsys, time=True, temperature=True)"
   ]
  },
  {
   "cell_type": "markdown",
   "id": "47cc9323-0b88-4812-b737-d95a64fac6d6",
   "metadata": {},
   "source": [
    "```{admonition} API documentation\n",
    "Follow this link for a detailed description of the input arguments, raised errors, and returned objects of this function:{class}`molsysmt.basic.Iterator`.\n",
    "```\n",
    "\n",
    ":::{tip}\n",
    "All methods defined in the {ref}`molsysmt.basic <API basic>` module can be invoked also from the main level of the library. Hence, {func}`molsysmt.Iterator` is the same method as {func}`molsysmt.basic.Iterator`.\n",
    ":::"
   ]
  },
  {
   "cell_type": "code",
   "execution_count": 12,
   "id": "c7a78e0c-0843-438b-a84a-611c8c0a0ee2",
   "metadata": {
    "execution": {
     "iopub.execute_input": "2025-04-12T20:27:19.179692Z",
     "iopub.status.busy": "2025-04-12T20:27:19.179396Z",
     "iopub.status.idle": "2025-04-12T20:27:24.720591Z",
     "shell.execute_reply": "2025-04-12T20:27:24.719672Z"
    }
   },
   "outputs": [],
   "source": [
    "times = []\n",
    "temperatures = []\n",
    "\n",
    "for time, temperature in iterator:\n",
    "    times.append(time)\n",
    "    temperatures.append(temperature)"
   ]
  },
  {
   "cell_type": "code",
   "execution_count": 13,
   "id": "b7af1b31-35d5-4bed-ad51-3e0a7448ea27",
   "metadata": {
    "execution": {
     "iopub.execute_input": "2025-04-12T20:27:24.724333Z",
     "iopub.status.busy": "2025-04-12T20:27:24.723998Z",
     "iopub.status.idle": "2025-04-12T20:27:25.015568Z",
     "shell.execute_reply": "2025-04-12T20:27:25.014642Z"
    }
   },
   "outputs": [
    {
     "data": {
      "image/png": "[encoded data removed]",
      "text/plain": [
       "<Figure size 640x480 with 1 Axes>"
      ]
     },
     "metadata": {},
     "output_type": "display_data"
    }
   ],
   "source": [
    "import matplotlib.pyplot as plt\n",
    "import pyunitwizard as puw\n",
    "import numpy as np\n",
    "\n",
    "times = puw.utils.sequences.concatenate(times)\n",
    "temperatures = puw.utils.sequences.concatenate(temperatures)\n",
    "\n",
    "plt.plot(times, temperatures)\n",
    "plt.xlabel(f'Time [{puw.get_unit(times)}]')\n",
    "plt.ylabel(f'Temperature [{puw.get_unit(temperatures)}]')\n",
    "plt.show()"
   ]
  },
  {
   "cell_type": "markdown",
   "id": "7c62cce5-3448-4eb8-bafc-ec5d4ef376ff",
   "metadata": {},
   "source": [
    "The iterator includes some useful input arguments such as `selection` or `structure_indices`:"
   ]
  },
  {
   "cell_type": "code",
   "execution_count": 14,
   "id": "37337b0a-bfc9-432c-842c-f2875d3774b9",
   "metadata": {
    "execution": {
     "iopub.execute_input": "2025-04-12T20:27:25.018790Z",
     "iopub.status.busy": "2025-04-12T20:27:25.018528Z",
     "iopub.status.idle": "2025-04-12T20:27:25.109956Z",
     "shell.execute_reply": "2025-04-12T20:27:25.109270Z"
    }
   },
   "outputs": [],
   "source": [
    "iterator = msm.Iterator(molsys, selection='group_index==3 and atom_name==\"CA\"',\n",
    "                        structure_indices=[100, 110, 120], time=True, coordinates=True)"
   ]
  },
  {
   "cell_type": "code",
   "execution_count": 15,
   "id": "fd1d718a-7264-4531-9b09-67f986c167de",
   "metadata": {
    "execution": {
     "iopub.execute_input": "2025-04-12T20:27:25.113393Z",
     "iopub.status.busy": "2025-04-12T20:27:25.113110Z",
     "iopub.status.idle": "2025-04-12T20:27:25.124419Z",
     "shell.execute_reply": "2025-04-12T20:27:25.123606Z"
    }
   },
   "outputs": [
    {
     "name": "stdout",
     "output_type": "stream",
     "text": [
      "1010.0 picosecond [[[0.9690295457839966 1.146891474723816 -0.1522401124238968]]] nanometer\n",
      "1110.0 picosecond [[[1.023858666419983 1.377505898475647 0.03329920768737793]]] nanometer\n",
      "1210.0 picosecond [[[0.9038813710212708 1.1570117473602295 0.03575613722205162]]] nanometer\n"
     ]
    }
   ],
   "source": [
    "for time, coordinates in iterator:\n",
    "    print(time, coordinates)"
   ]
  },
  {
   "cell_type": "markdown",
   "id": "8b944135-6a0f-4d33-825f-bb3d757a0cf4",
   "metadata": {},
   "source": [
    "And four iteration control arguments: `start`, `stop`, `step` and `chunk`."
   ]
  },
  {
   "cell_type": "code",
   "execution_count": 16,
   "id": "b0d1515b-3fc4-49f1-bb40-d72a0ed2496a",
   "metadata": {
    "execution": {
     "iopub.execute_input": "2025-04-12T20:27:25.127449Z",
     "iopub.status.busy": "2025-04-12T20:27:25.127136Z",
     "iopub.status.idle": "2025-04-12T20:27:25.140694Z",
     "shell.execute_reply": "2025-04-12T20:27:25.140061Z"
    }
   },
   "outputs": [],
   "source": [
    "iterator = msm.Iterator(molsys, start=500, stop=510, step=2, structure_id=True)"
   ]
  },
  {
   "cell_type": "code",
   "execution_count": 17,
   "id": "7bfcc1d2-5a53-4734-852c-24a71dd4eb77",
   "metadata": {
    "execution": {
     "iopub.execute_input": "2025-04-12T20:27:25.143800Z",
     "iopub.status.busy": "2025-04-12T20:27:25.143538Z",
     "iopub.status.idle": "2025-04-12T20:27:25.147873Z",
     "shell.execute_reply": "2025-04-12T20:27:25.147154Z"
    }
   },
   "outputs": [
    {
     "name": "stdout",
     "output_type": "stream",
     "text": [
      "500\n",
      "502\n",
      "504\n",
      "506\n",
      "508\n"
     ]
    }
   ],
   "source": [
    "for structure_id in iterator:\n",
    "    print(structure_id)"
   ]
  },
  {
   "cell_type": "markdown",
   "id": "4c240034-0258-4d7f-aa3b-eeb042a5712e",
   "metadata": {},
   "source": [
    "Let's see two other examples on how to use these arguments:"
   ]
  },
  {
   "cell_type": "code",
   "execution_count": 18,
   "id": "fca33ea2-ceec-407f-beb3-a374d33208b0",
   "metadata": {
    "execution": {
     "iopub.execute_input": "2025-04-12T20:27:25.151702Z",
     "iopub.status.busy": "2025-04-12T20:27:25.151397Z",
     "iopub.status.idle": "2025-04-12T20:27:25.165104Z",
     "shell.execute_reply": "2025-04-12T20:27:25.164027Z"
    }
   },
   "outputs": [
    {
     "name": "stdout",
     "output_type": "stream",
     "text": [
      "[500, 502, 504, 506, 508]\n",
      "[510, 512, 514, 516, 518]\n"
     ]
    }
   ],
   "source": [
    "iterator = msm.Iterator(molsys, start=500, stop=520, step=2, chunk=5, structure_id=True)\n",
    "\n",
    "for structures_id in iterator:\n",
    "    print(structures_id)"
   ]
  },
  {
   "cell_type": "code",
   "execution_count": 19,
   "id": "29c8f708-15c0-4414-82e8-87eafe740c1a",
   "metadata": {
    "execution": {
     "iopub.execute_input": "2025-04-12T20:27:25.168127Z",
     "iopub.status.busy": "2025-04-12T20:27:25.167905Z",
     "iopub.status.idle": "2025-04-12T20:27:25.181326Z",
     "shell.execute_reply": "2025-04-12T20:27:25.180503Z"
    }
   },
   "outputs": [
    {
     "name": "stdout",
     "output_type": "stream",
     "text": [
      "[1021 1055]\n",
      "[1084 1105]\n"
     ]
    }
   ],
   "source": [
    "my_structure_indices = [1000, 1013, 1021, 1034, 1055, 1067, 1084, 1093, 1105]\n",
    "\n",
    "iterator = msm.Iterator(molsys, structure_indices=my_structure_indices,\n",
    "                        start=2, step=2, chunk=2, structure_id=True)\n",
    "\n",
    "for structures_id in iterator:\n",
    "    print(structures_id)"
   ]
  },
  {
   "cell_type": "markdown",
   "id": "c7662e76-cb43-4d02-83da-e405970fe281",
   "metadata": {},
   "source": [
    "Finally, if no specific attribute is requested, the iterator returns molecular system objects, one per iteration, with structural attributes updated accordingly."
   ]
  },
  {
   "cell_type": "code",
   "execution_count": 20,
   "id": "8b634513-d75f-4d82-8178-b1adf4bd1e3d",
   "metadata": {
    "execution": {
     "iopub.execute_input": "2025-04-12T20:27:25.184536Z",
     "iopub.status.busy": "2025-04-12T20:27:25.184226Z",
     "iopub.status.idle": "2025-04-12T20:27:25.275211Z",
     "shell.execute_reply": "2025-04-12T20:27:25.274313Z"
    }
   },
   "outputs": [],
   "source": [
    "iterator = msm.Iterator(molsys, start=1000, stop=1006, chunk=3)"
   ]
  },
  {
   "cell_type": "code",
   "execution_count": 21,
   "id": "8fd31581-e96f-44b1-8fd1-afaa39757a1e",
   "metadata": {
    "execution": {
     "iopub.execute_input": "2025-04-12T20:27:25.278963Z",
     "iopub.status.busy": "2025-04-12T20:27:25.278690Z",
     "iopub.status.idle": "2025-04-12T20:27:26.191268Z",
     "shell.execute_reply": "2025-04-12T20:27:26.190401Z"
    }
   },
   "outputs": [
    {
     "name": "stdout",
     "output_type": "stream",
     "text": [
      "[10010.0 10020.0 10030.0] picosecond [7.999999999999998 7.999999999999998 7.999999999999998] nanometer ** 3\n"
     ]
    },
    {
     "name": "stdout",
     "output_type": "stream",
     "text": [
      "[10040.0 10050.0 10060.0] picosecond [7.999999999999998 7.999999999999998 7.999999999999998] nanometer ** 3\n"
     ]
    }
   ],
   "source": [
    "for aux_molsys in iterator:\n",
    "    time, box_volume = msm.get(aux_molsys, time=True, box_volume=True)\n",
    "    print(time, box_volume)"
   ]
  },
  {
   "cell_type": "markdown",
   "id": "e3d39471-8aa9-48ef-be92-269b6ecd0bfc",
   "metadata": {},
   "source": [
    "In this former case the output form was required by default as 'molsysmt.MolSys', but it can be change with the input argument `output_form`."
   ]
  },
  {
   "cell_type": "markdown",
   "id": "c1522527-12d9-4275-a3e9-0e8c7d479af8",
   "metadata": {},
   "source": [
    ":::{seealso}\n",
    "\n",
    "[User guide > Introduction > Molecular System > Attributes](../../intro/molecular_systems/attributes.ipynb):    \n",
    "Describe the available topological and structural attributes.\n",
    "\n",
    "[User guide > Tools > Basic > Selection](selection.ipynb):    \n",
    "Select specific elements of a molecular system using selection syntax.\n",
    "\n",
    "[User guide > Tools > Basic > Get](get.ipynb):    \n",
    "Retrieve the values of specific attributes.\n",
    "\n",
    ":::"
   ]
  }
 ],
 "metadata": {
  "kernelspec": {
   "display_name": "Python 3 (ipykernel)",
   "language": "python",
   "name": "python3"
  },
  "language_info": {
   "codemirror_mode": {
    "name": "ipython",
    "version": 3
   },
   "file_extension": ".py",
   "mimetype": "text/x-python",
   "name": "python",
   "nbconvert_exporter": "python",
   "pygments_lexer": "ipython3",
   "version": "3.12.9"
  },
  "widgets": {
   "application/vnd.jupyter.widget-state+json": {
    "state": {
     "9d4eb7d387ee4e7e9d49c0baffd65368": {
      "model_module": "@jupyter-widgets/base",
      "model_module_version": "2.0.0",
      "model_name": "LayoutModel",
      "state": {
       "_model_module": "@jupyter-widgets/base",
       "_model_module_version": "2.0.0",
       "_model_name": "LayoutModel",
       "_view_count": null,
       "_view_module": "@jupyter-widgets/base",
       "_view_module_version": "2.0.0",
       "_view_name": "LayoutView",
       "align_content": null,
       "align_items": null,
       "align_self": null,
       "border_bottom": null,
       "border_left": null,
       "border_right": null,
       "border_top": null,
       "bottom": null,
       "display": null,
       "flex": null,
       "flex_flow": null,
       "grid_area": null,
       "grid_auto_columns": null,
       "grid_auto_flow": null,
       "grid_auto_rows": null,
       "grid_column": null,
       "grid_gap": null,
       "grid_row": null,
       "grid_template_areas": null,
       "grid_template_columns": null,
       "grid_template_rows": null,
       "height": null,
       "justify_content": null,
       "justify_items": null,
       "left": null,
       "margin": null,
       "max_height": null,
       "max_width": null,
       "min_height": null,
       "min_width": null,
       "object_fit": null,
       "object_position": null,
       "order": null,
       "overflow": null,
       "padding": null,
       "right": null,
       "top": null,
       "visibility": null,
       "width": null
      }
     },
     "a7a27650fe3c46488ded6dd8fd7d8bd5": {
      "model_module": "nglview-js-widgets",
      "model_module_version": "3.1.4",
      "model_name": "ColormakerRegistryModel",
      "state": {
       "_dom_classes": [],
       "_model_module": "nglview-js-widgets",
       "_model_module_version": "3.1.4",
       "_model_name": "ColormakerRegistryModel",
       "_msg_ar": [],
       "_msg_q": [],
       "_ready": false,
       "_view_count": null,
       "_view_module": "nglview-js-widgets",
       "_view_module_version": "3.1.4",
       "_view_name": "ColormakerRegistryView",
       "layout": "IPY_MODEL_9d4eb7d387ee4e7e9d49c0baffd65368",
       "tabbable": null,
       "tooltip": null
      }
     }
    },
    "version_major": 2,
    "version_minor": 0
   }
  }
 },
 "nbformat": 4,
 "nbformat_minor": 5
}
