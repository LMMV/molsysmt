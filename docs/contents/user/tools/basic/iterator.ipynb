{
 "cells": [
  {
   "cell_type": "code",
   "execution_count": null,
   "id": "5bf76106-0632-47ac-a712-d1fe0b77fed0",
   "metadata": {
    "tags": [
     "remove-input"
    ]
   },
   "outputs": [],
   "source": [
    "# This cell is removed with the tag: \"remove-input\"\n",
    "# As such, it will not be shown in documentation\n",
    "\n",
    "import warnings\n",
    "warnings.filterwarnings('ignore')"
   ]
  },
  {
   "cell_type": "markdown",
   "id": "3fd275e9-e7ab-4c25-8a28-9efb8a9d9e04",
   "metadata": {},
   "source": [
    "(Tutorial_Iterator)=\n",
    "# Iterator\n",
    "\n",
    "*Iterator over attributes of a molecular system*\n",
    "\n",
    "MolSysMT includes a tool to iterate over attributes of a molecular system, topological or structural. This tool, the class {class}`molsysmt.basic.Iterator`, have common input arguments such as `start`, `stop`, `step` or `chunk`, no matter the nature of the attributes.\n",
    "\n",
    ":::{hint}\n",
    "Visit the section [User guide > Introduction > Molecular System > Attributes](../../intro/molecular_systems/attributes.ipynb) in case you are not familiar with the concept of \"attribute\" in MolSysMT.\n",
    ":::\n",
    "\n",
    "Let's start showing the use of the iterator over topological attributes."
   ]
  },
  {
   "cell_type": "markdown",
   "id": "ee027b3f-738a-49f1-9acf-313cbe52f301",
   "metadata": {},
   "source": [
    "## Iterations over topological attributes"
   ]
  },
  {
   "cell_type": "markdown",
   "id": "68ac7c61-1373-4538-acf3-2c8092b29bdf",
   "metadata": {},
   "source": [
    "Let's suppose we want to iterate over topological attributes of our molecular system such as `atom_name` or `group_index`. The class {func}`molsysmt.basic.Iterator` is our best ally.\n",
    "\n",
    "```{admonition} API documentation\n",
    "Follow this link for a detailed description of the input arguments, raised errors, and returned objects of this function:{class}`molsysmt.basic.Iterator`.\n",
    "```\n",
    "\n",
    "Have a look to the following code:"
   ]
  },
  {
   "cell_type": "code",
   "execution_count": null,
   "id": "0257bd9e-967f-432a-b41d-c4c5f8ee3f79",
   "metadata": {},
   "outputs": [],
   "source": [
    "import molsysmt as msm"
   ]
  },
  {
   "cell_type": "code",
   "execution_count": null,
   "id": "7e45d2ad-d8d2-4e14-bec8-d986125d1ce9",
   "metadata": {},
   "outputs": [],
   "source": [
    "molecular_system = msm.systems.demo['chicken villin HP35']['1vii.mmtf']"
   ]
  },
  {
   "cell_type": "code",
   "execution_count": null,
   "id": "5fa305f8-df9f-4422-814d-c1212a6869f3",
   "metadata": {},
   "outputs": [],
   "source": [
    "iterator = msm.Iterator(molecular_system, selection='atom_name==\"CA\" and group_index<10',\n",
    "                        atom_index=True, atom_name=True, group_index=True, group_name=True)"
   ]
  },
  {
   "cell_type": "markdown",
   "id": "a981d4bd-a259-41c0-93b1-881d4dad93b7",
   "metadata": {},
   "source": [
    ":::{tip}\n",
    "All objects defined in the {ref}`molsysmt.basic <API basic>` module can be invoked also from the main level of the library. Hence, {class}`molsysmt.Iterator` is the same class as {class}`molsysmt.basic.Iterator`.\n",
    ":::"
   ]
  },
  {
   "cell_type": "code",
   "execution_count": null,
   "id": "603aa1fa-a80f-4c29-b2d3-e63a217fe249",
   "metadata": {},
   "outputs": [],
   "source": [
    "for atom_index, atom_name, group_index, group_name in iterator:\n",
    "    print(atom_index, atom_name, group_index, group_name)"
   ]
  },
  {
   "cell_type": "markdown",
   "id": "98ed05c6-a9e3-4f2e-bf8b-190c64f9373b",
   "metadata": {},
   "source": [
    "The class {class}`molsysmt.basic.Iterator` allows us to work with a loop running over a selection of atoms. The set of attributes we want to extract are introduced together with the rest of instantation arguments in a similar way they are indicated in {func}`molsysmt.basic.get`. But, is the iterator only running over atoms? No, the input argument `element` can take other values such as `group`, `component`, `chain`, `molecule` or `entity`. Check this next case:"
   ]
  },
  {
   "cell_type": "code",
   "execution_count": null,
   "id": "c37533ad-a41c-4f71-aad5-23779847788c",
   "metadata": {},
   "outputs": [],
   "source": [
    "iterator = msm.Iterator(molecular_system, element='group', selection='molecule_type==\"protein\"',\n",
    "                        group_index=True, group_name=True, formal_charge=True)"
   ]
  },
  {
   "cell_type": "code",
   "execution_count": null,
   "id": "eaacf1e8-1346-4e12-85c3-0ac95a135412",
   "metadata": {},
   "outputs": [],
   "source": [
    "for group_index, group_name, charge in iterator:\n",
    "    if charge>0.0:\n",
    "        print(group_index, group_name, charge)"
   ]
  },
  {
   "cell_type": "markdown",
   "id": "3024a432-b7f2-426e-97ea-f233be4cba32",
   "metadata": {},
   "source": [
    "If you need to build more sophisticated iterations, the iteration control arguments `start`, `stop`, `step` and `chunk` can be used."
   ]
  },
  {
   "cell_type": "code",
   "execution_count": null,
   "id": "77bd6cf6-b8be-4dea-83e3-f10a857a7481",
   "metadata": {},
   "outputs": [],
   "source": [
    "iterator = msm.Iterator(molecular_system, element='atom', start=10, stop=40, step=2, chunk=5,\n",
    "                        atom_index=True, atom_name=True)"
   ]
  },
  {
   "cell_type": "code",
   "execution_count": null,
   "id": "9a616860-274c-4514-befb-f9d24acfcd2d",
   "metadata": {},
   "outputs": [],
   "source": [
    "for atom_indices, atom_names in iterator:\n",
    "    print(atom_indices, atom_names)"
   ]
  },
  {
   "cell_type": "markdown",
   "id": "7d3a8fc8-f3e9-4d1b-951d-170bea088044",
   "metadata": {},
   "source": [
    ":::{tip}\n",
    "If you want to extract values of topological or structural attributes from a molecular system, {func}`molsysmt.basic.Iterator` is not the only way you can do it. Have a look to the function {func}`molsysmt.basic.get` and its {ref}`User guide > Tools > Basic > Get <Tutorial_Get>`.\n",
    ":::"
   ]
  },
  {
   "cell_type": "markdown",
   "id": "b0771ed0-8b31-45c5-8b8c-d40b26e9c636",
   "metadata": {},
   "source": [
    "## Iterations over structural attributes\n",
    "\n",
    "In this section, let's suppose we have a molecular system with different structures: a molecular dynamics trajectory file, for instance.\n",
    "And let's see how the class {class}`molsysmt.basic.Iterator` can be used to iterate over structural attributes such as `coordinates`, `box` or `time`. \n",
    "\n",
    "```{admonition} API documentation\n",
    "Follow this link for a detailed description of the input arguments, raised errors, and returned objects of this function:{class}`molsysmt.basic.Iterator`.\n",
    "```\n",
    "\n",
    "Here we have an example:"
   ]
  },
  {
   "cell_type": "code",
   "execution_count": null,
   "id": "4951681f-bc12-4b76-9296-6a9c0e807d6c",
   "metadata": {},
   "outputs": [],
   "source": [
    "molecular_system = msm.systems.demo['pentalanine']['traj_pentalanine.h5']"
   ]
  },
  {
   "cell_type": "code",
   "execution_count": null,
   "id": "541c0e93-69b2-4315-910a-185553d520c9",
   "metadata": {},
   "outputs": [],
   "source": [
    "iterator = msm.Iterator(molecular_system, time=True, temperature=True)"
   ]
  },
  {
   "cell_type": "markdown",
   "id": "47cc9323-0b88-4812-b737-d95a64fac6d6",
   "metadata": {},
   "source": [
    "```{admonition} API documentation\n",
    "Follow this link for a detailed description of the input arguments, raised errors, and returned objects of this function:{class}`molsysmt.basic.Iterator`.\n",
    "```\n",
    "\n",
    ":::{tip}\n",
    "All methods defined in the {ref}`molsysmt.basic <API basic>` module can be invoked also from the main level of the library. Hence, {func}`molsysmt.Iterator` is the same method as {func}`molsysmt.basic.Iterator`.\n",
    ":::"
   ]
  },
  {
   "cell_type": "code",
   "execution_count": null,
   "id": "c7a78e0c-0843-438b-a84a-611c8c0a0ee2",
   "metadata": {},
   "outputs": [],
   "source": [
    "times = []\n",
    "temperatures = []\n",
    "\n",
    "for time, temperature in iterator:\n",
    "    times.append(time)\n",
    "    temperatures.append(temperature)"
   ]
  },
  {
   "cell_type": "code",
   "execution_count": null,
   "id": "b7af1b31-35d5-4bed-ad51-3e0a7448ea27",
   "metadata": {},
   "outputs": [],
   "source": [
    "import matplotlib.pyplot as plt\n",
    "import pyunitwizard as puw\n",
    "import numpy as np\n",
    "\n",
    "times = puw.concatenate(times)\n",
    "temperatures = puw.concatenate(temperatures)\n",
    "\n",
    "plt.plot(times, temperatures)\n",
    "plt.xlabel(f'Time [{puw.get_unit(times)}]')\n",
    "plt.ylabel(f'Temperature [{puw.get_unit(temperatures)}]')\n",
    "plt.show()"
   ]
  },
  {
   "cell_type": "markdown",
   "id": "7c62cce5-3448-4eb8-bafc-ec5d4ef376ff",
   "metadata": {},
   "source": [
    "The iterator includes some useful input arguments such as `selection` or `structure_indices`:"
   ]
  },
  {
   "cell_type": "code",
   "execution_count": null,
   "id": "37337b0a-bfc9-432c-842c-f2875d3774b9",
   "metadata": {},
   "outputs": [],
   "source": [
    "iterator = msm.Iterator(molecular_system, selection='group_index==3 and atom_name==\"CA\"',\n",
    "                        structure_indices=[100, 110, 120], time=True, coordinates=True)"
   ]
  },
  {
   "cell_type": "code",
   "execution_count": null,
   "id": "fd1d718a-7264-4531-9b09-67f986c167de",
   "metadata": {},
   "outputs": [],
   "source": [
    "for time, coordinates in iterator:\n",
    "    print(time, coordinates)"
   ]
  },
  {
   "cell_type": "markdown",
   "id": "8b944135-6a0f-4d33-825f-bb3d757a0cf4",
   "metadata": {},
   "source": [
    "And four iteration control arguments: `start`, `stop`, `step` and `chunk`."
   ]
  },
  {
   "cell_type": "code",
   "execution_count": null,
   "id": "b0d1515b-3fc4-49f1-bb40-d72a0ed2496a",
   "metadata": {},
   "outputs": [],
   "source": [
    "iterator = msm.Iterator(molecular_system, start=500, stop=510, step=2, structure_id=True)"
   ]
  },
  {
   "cell_type": "code",
   "execution_count": null,
   "id": "7bfcc1d2-5a53-4734-852c-24a71dd4eb77",
   "metadata": {},
   "outputs": [],
   "source": [
    "for structure_id in iterator:\n",
    "    print(structure_id)"
   ]
  },
  {
   "cell_type": "markdown",
   "id": "4c240034-0258-4d7f-aa3b-eeb042a5712e",
   "metadata": {},
   "source": [
    "Let's see two other examples on how to use these arguments:"
   ]
  },
  {
   "cell_type": "code",
   "execution_count": null,
   "id": "fca33ea2-ceec-407f-beb3-a374d33208b0",
   "metadata": {},
   "outputs": [],
   "source": [
    "iterator = msm.Iterator(molecular_system, start=500, stop=520, step=2, chunk=5, structure_id=True)\n",
    "\n",
    "for structures_id in iterator:\n",
    "    print(structures_id)"
   ]
  },
  {
   "cell_type": "code",
   "execution_count": null,
   "id": "29c8f708-15c0-4414-82e8-87eafe740c1a",
   "metadata": {},
   "outputs": [],
   "source": [
    "my_structure_indices = [1000, 1013, 1021, 1034, 1055, 1067, 1084, 1093, 1105]\n",
    "\n",
    "iterator = msm.Iterator(molecular_system, structure_indices=my_structure_indices,\n",
    "                        start=2, step=2, chunk=2, structure_id=True)\n",
    "\n",
    "for structures_id in iterator:\n",
    "    print(structures_id)"
   ]
  },
  {
   "cell_type": "markdown",
   "id": "c7662e76-cb43-4d02-83da-e405970fe281",
   "metadata": {},
   "source": [
    "Finally, if no attribute is given to {class}`molsysmt.basic.Iterator`, a molecular system is returned in every iteration with the structural attributes updated."
   ]
  },
  {
   "cell_type": "code",
   "execution_count": null,
   "id": "8b634513-d75f-4d82-8178-b1adf4bd1e3d",
   "metadata": {},
   "outputs": [],
   "source": [
    "iterator = msm.Iterator(molecular_system, start=1000, stop=1006, chunk=3)"
   ]
  },
  {
   "cell_type": "code",
   "execution_count": null,
   "id": "8fd31581-e96f-44b1-8fd1-afaa39757a1e",
   "metadata": {},
   "outputs": [],
   "source": [
    "for aux_molecular_system in iterator:\n",
    "    time, box_volume = msm.get(aux_molecular_system, time=True, box_volume=True)\n",
    "    print(time, box_volume)"
   ]
  },
  {
   "cell_type": "markdown",
   "id": "e3d39471-8aa9-48ef-be92-269b6ecd0bfc",
   "metadata": {},
   "source": [
    "In this former case the output form was required by default as 'molsysmt.MolSys', but it can be change with the input argument `output_form`."
   ]
  },
  {
   "cell_type": "markdown",
   "id": "c1522527-12d9-4275-a3e9-0e8c7d479af8",
   "metadata": {},
   "source": [
    ":::{seealso}\n",
    "[User guide > Introduction > Molecular System > Attributes](../../intro/molecular_systems/attributes.ipynb):    \n",
    "[User guide > Tools > Basic > Selection](selection.ipynb):     \n",
    "[User guide > Tools > Basic > Get](get.ipynb):     \n",
    ":::"
   ]
  }
 ],
 "metadata": {
  "kernelspec": {
   "display_name": "Python 3 (ipykernel)",
   "language": "python",
   "name": "python3"
  },
  "language_info": {
   "codemirror_mode": {
    "name": "ipython",
    "version": 3
   },
   "file_extension": ".py",
   "mimetype": "text/x-python",
   "name": "python",
   "nbconvert_exporter": "python",
   "pygments_lexer": "ipython3",
   "version": "3.10.11"
  }
 },
 "nbformat": 4,
 "nbformat_minor": 5
}
