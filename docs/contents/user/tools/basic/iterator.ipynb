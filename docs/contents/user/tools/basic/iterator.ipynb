{
 "cells": [
  {
   "cell_type": "code",
   "execution_count": 1,
   "id": "e3a1b94e-4efa-4669-ae38-033e13560ec2",
   "metadata": {},
   "outputs": [],
   "source": [
    "%load_ext autoreload\n",
    "%autoreload 2"
   ]
  },
  {
   "cell_type": "code",
   "execution_count": 2,
   "id": "5bf76106-0632-47ac-a712-d1fe0b77fed0",
   "metadata": {
    "tags": [
     "remove-input"
    ]
   },
   "outputs": [],
   "source": [
    "# This cell is removed with the tag: \"remove-input\"\n",
    "# As such, it will not be shown in documentation\n",
    "\n",
    "import warnings\n",
    "warnings.filterwarnings('ignore')"
   ]
  },
  {
   "cell_type": "markdown",
   "id": "3fd275e9-e7ab-4c25-8a28-9efb8a9d9e04",
   "metadata": {},
   "source": [
    "(UserGuide_Tools_Basic_Iterator)=\n",
    "# Iterator\n",
    "\n",
    "*iterator over attributes of a molecular system*\n",
    "\n",
    "The class `molsysmt.basic.Iterator` can be used to iterate over attributes of a molecular system. Let's illustrate how this function work with some examples."
   ]
  },
  {
   "cell_type": "code",
   "execution_count": null,
   "id": "0257bd9e-967f-432a-b41d-c4c5f8ee3f79",
   "metadata": {},
   "outputs": [],
   "source": [
    "import molsysmt as msm\n",
    "from molsysmt import pyunitwizard as puw"
   ]
  },
  {
   "cell_type": "code",
   "execution_count": null,
   "id": "ae7d1740-e3ef-4f63-93e2-f2859f25e862",
   "metadata": {},
   "outputs": [],
   "source": [
    "molecular_system = msm.demo['pentalanine']['traj.h5']"
   ]
  },
  {
   "cell_type": "code",
   "execution_count": null,
   "id": "541c0e93-69b2-4315-910a-185553d520c9",
   "metadata": {},
   "outputs": [],
   "source": [
    "iterator = msm.Iterator(molecular_system, time=True, temperature=True)"
   ]
  },
  {
   "cell_type": "code",
   "execution_count": null,
   "id": "f6d8a856-538c-4025-b221-c42e8b38ef6c",
   "metadata": {},
   "outputs": [],
   "source": [
    "times = []\n",
    "temperatures = []"
   ]
  },
  {
   "cell_type": "code",
   "execution_count": null,
   "id": "c7a78e0c-0843-438b-a84a-611c8c0a0ee2",
   "metadata": {},
   "outputs": [],
   "source": [
    "for time, temperature in iterator:\n",
    "    times.append(time)\n",
    "    temperatures.append(temperature)"
   ]
  },
  {
   "cell_type": "code",
   "execution_count": null,
   "id": "b7af1b31-35d5-4bed-ad51-3e0a7448ea27",
   "metadata": {},
   "outputs": [],
   "source": [
    "import matplotlib.pyplot as plt\n",
    "import numpy as np"
   ]
  },
  {
   "cell_type": "code",
   "execution_count": null,
   "id": "2fe714c6-1af9-42a5-91f9-0659efcec8fb",
   "metadata": {},
   "outputs": [],
   "source": [
    "plt.plot(puw.concatenate(times), puw.concatenate(temperatures))"
   ]
  },
  {
   "cell_type": "markdown",
   "id": "7c62cce5-3448-4eb8-bafc-ec5d4ef376ff",
   "metadata": {},
   "source": [
    "Options:"
   ]
  },
  {
   "cell_type": "code",
   "execution_count": null,
   "id": "37337b0a-bfc9-432c-842c-f2875d3774b9",
   "metadata": {},
   "outputs": [],
   "source": [
    "iterator = msm.Iterator(molecular_system, selection='group_index==0', time=True, coordinates=True)"
   ]
  },
  {
   "cell_type": "code",
   "execution_count": null,
   "id": "c7afe745-6b6c-49b3-8e36-fa18d8333d60",
   "metadata": {},
   "outputs": [],
   "source": [
    "time, coordinates = iterator.__next__()"
   ]
  },
  {
   "cell_type": "code",
   "execution_count": null,
   "id": "2ae913e7-1093-4a2b-b6f6-8670ab4cad35",
   "metadata": {},
   "outputs": [],
   "source": [
    "coordinates.shape"
   ]
  }
 ],
 "metadata": {
  "kernelspec": {
   "display_name": "Python 3 (ipykernel)",
   "language": "python",
   "name": "python3"
  },
  "language_info": {
   "codemirror_mode": {
    "name": "ipython",
    "version": 3
   },
   "file_extension": ".py",
   "mimetype": "text/x-python",
   "name": "python",
   "nbconvert_exporter": "python",
   "pygments_lexer": "ipython3",
   "version": "3.9.15"
  }
 },
 "nbformat": 4,
 "nbformat_minor": 5
}
