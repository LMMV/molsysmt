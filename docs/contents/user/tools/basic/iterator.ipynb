{
 "cells": [
  {
   "cell_type": "code",
   "execution_count": 1,
   "id": "e3a1b94e-4efa-4669-ae38-033e13560ec2",
   "metadata": {},
   "outputs": [],
   "source": [
    "%load_ext autoreload\n",
    "%autoreload 2"
   ]
  },
  {
   "cell_type": "code",
   "execution_count": 2,
   "id": "5bf76106-0632-47ac-a712-d1fe0b77fed0",
   "metadata": {
    "tags": [
     "remove-input"
    ]
   },
   "outputs": [],
   "source": [
    "# This cell is removed with the tag: \"remove-input\"\n",
    "# As such, it will not be shown in documentation\n",
    "\n",
    "import warnings\n",
    "warnings.filterwarnings('ignore')"
   ]
  },
  {
   "cell_type": "markdown",
   "id": "3fd275e9-e7ab-4c25-8a28-9efb8a9d9e04",
   "metadata": {},
   "source": [
    "(UserGuide_Tools_Basic_Iterator)=\n",
    "# Iterator\n",
    "\n",
    "*iterator over attributes of a molecular system*\n",
    "\n",
    "The class `molsysmt.basic.Iterator` can be used to iterate over attributes of a molecular system. Let's illustrate how this function work with some examples."
   ]
  },
  {
   "cell_type": "code",
   "execution_count": 3,
   "id": "0257bd9e-967f-432a-b41d-c4c5f8ee3f79",
   "metadata": {},
   "outputs": [
    {
     "data": {
      "application/vnd.jupyter.widget-view+json": {
       "model_id": "4853d55f4cbc4460b293fe97a69b9c7c",
       "version_major": 2,
       "version_minor": 0
      },
      "text/plain": []
     },
     "metadata": {},
     "output_type": "display_data"
    }
   ],
   "source": [
    "import molsysmt as msm"
   ]
  },
  {
   "cell_type": "code",
   "execution_count": 4,
   "id": "56b7556b-e9d1-4d7c-826b-59f1976fe1b4",
   "metadata": {},
   "outputs": [],
   "source": [
    "molecular_system = msm.demo['pentalanine']['traj.h5']"
   ]
  },
  {
   "cell_type": "code",
   "execution_count": null,
   "id": "bb9997fd-efde-4386-af1e-dd8ea0c349fa",
   "metadata": {},
   "outputs": [],
   "source": []
  }
 ],
 "metadata": {
  "kernelspec": {
   "display_name": "Python 3 (ipykernel)",
   "language": "python",
   "name": "python3"
  },
  "language_info": {
   "codemirror_mode": {
    "name": "ipython",
    "version": 3
   },
   "file_extension": ".py",
   "mimetype": "text/x-python",
   "name": "python",
   "nbconvert_exporter": "python",
   "pygments_lexer": "ipython3",
   "version": "3.9.15"
  }
 },
 "nbformat": 4,
 "nbformat_minor": 5
}
