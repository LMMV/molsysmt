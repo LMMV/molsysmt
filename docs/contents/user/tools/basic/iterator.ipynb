{
 "cells": [
  {
   "cell_type": "code",
   "execution_count": 1,
   "id": "e3a1b94e-4efa-4669-ae38-033e13560ec2",
   "metadata": {},
   "outputs": [],
   "source": [
    "%load_ext autoreload\n",
    "%autoreload 2"
   ]
  },
  {
   "cell_type": "code",
   "execution_count": 2,
   "id": "5bf76106-0632-47ac-a712-d1fe0b77fed0",
   "metadata": {
    "tags": [
     "remove-input"
    ]
   },
   "outputs": [],
   "source": [
    "# This cell is removed with the tag: \"remove-input\"\n",
    "# As such, it will not be shown in documentation\n",
    "\n",
    "import warnings\n",
    "warnings.filterwarnings('ignore')"
   ]
  },
  {
   "cell_type": "markdown",
   "id": "3fd275e9-e7ab-4c25-8a28-9efb8a9d9e04",
   "metadata": {},
   "source": [
    "(UserGuide_Tools_Basic_Iterator)=\n",
    "# Iterator\n",
    "\n",
    "*iterator over attributes of a molecular system*\n",
    "\n",
    "The class `molsysmt.basic.Iterator` can be used to iterate over attributes of a molecular system. Let's illustrate how this function work with some examples."
   ]
  },
  {
   "cell_type": "code",
   "execution_count": 3,
   "id": "0257bd9e-967f-432a-b41d-c4c5f8ee3f79",
   "metadata": {},
   "outputs": [
    {
     "data": {
      "application/vnd.jupyter.widget-view+json": {
       "model_id": "443441e50bf74baca17c0bd2ae4addb9",
       "version_major": 2,
       "version_minor": 0
      },
      "text/plain": []
     },
     "metadata": {},
     "output_type": "display_data"
    }
   ],
   "source": [
    "import molsysmt as msm"
   ]
  },
  {
   "cell_type": "code",
   "execution_count": null,
   "id": "7e45d2ad-d8d2-4e14-bec8-d986125d1ce9",
   "metadata": {},
   "outputs": [],
   "source": [
    "molecular_system = msm.demo['chicken villin HP35']['1vii.mmtf']"
   ]
  },
  {
   "cell_type": "code",
   "execution_count": null,
   "id": "b764aa3c-5435-456a-8901-6050d96b8447",
   "metadata": {},
   "outputs": [],
   "source": [
    "molecular_system = msm.convert(molecular_system, 'mmtf.MMTFDecoder')"
   ]
  },
  {
   "cell_type": "code",
   "execution_count": null,
   "id": "4e576962-a31e-484b-a6b0-52c9647a5400",
   "metadata": {},
   "outputs": [],
   "source": [
    "iterator = msm.Iterator(molecular_system, selection='atom_name==\"CA\" and group_index<10',\n",
    "                        atom_index=True, atom_name=True, group_index=True, group_name=True)"
   ]
  },
  {
   "cell_type": "code",
   "execution_count": null,
   "id": "603aa1fa-a80f-4c29-b2d3-e63a217fe249",
   "metadata": {},
   "outputs": [],
   "source": [
    "for atom_index, atom_name, group_index, group_name in iterator:\n",
    "    print(atom_index, atom_name, group_index, group_name)"
   ]
  },
  {
   "cell_type": "code",
   "execution_count": null,
   "id": "c37533ad-a41c-4f71-aad5-23779847788c",
   "metadata": {},
   "outputs": [],
   "source": [
    "iterator = msm.Iterator(molecular_system, element='group', selection='molecule_type==\"protein\"',\n",
    "                        group_index=True, group_name=True, formal_charge=True)"
   ]
  },
  {
   "cell_type": "code",
   "execution_count": null,
   "id": "eaacf1e8-1346-4e12-85c3-0ac95a135412",
   "metadata": {},
   "outputs": [],
   "source": [
    "for group_index, group_name, charge in iterator:\n",
    "    if charge>0.0:\n",
    "        print(group_index, group_name, charge)"
   ]
  },
  {
   "cell_type": "code",
   "execution_count": null,
   "id": "4951681f-bc12-4b76-9296-6a9c0e807d6c",
   "metadata": {},
   "outputs": [],
   "source": [
    "molecular_system = msm.demo['pentalanine']['traj.h5']"
   ]
  },
  {
   "cell_type": "code",
   "execution_count": null,
   "id": "541c0e93-69b2-4315-910a-185553d520c9",
   "metadata": {},
   "outputs": [],
   "source": [
    "iterator = msm.Iterator(molecular_system, time=True, temperature=True)"
   ]
  },
  {
   "cell_type": "code",
   "execution_count": null,
   "id": "c7a78e0c-0843-438b-a84a-611c8c0a0ee2",
   "metadata": {},
   "outputs": [],
   "source": [
    "times = []\n",
    "temperatures = []\n",
    "\n",
    "for time, temperature in iterator:\n",
    "    times.append(time)\n",
    "    temperatures.append(temperature)"
   ]
  },
  {
   "cell_type": "code",
   "execution_count": null,
   "id": "b7af1b31-35d5-4bed-ad51-3e0a7448ea27",
   "metadata": {},
   "outputs": [],
   "source": [
    "import matplotlib.pyplot as plt\n",
    "import pyunitwizard as puw\n",
    "import numpy as np\n",
    "\n",
    "times = puw.concatenate(times)\n",
    "temperatures = puw.concatenate(temperatures)\n",
    "\n",
    "plt.plot(times, temperatures)\n",
    "plt.show()"
   ]
  },
  {
   "cell_type": "markdown",
   "id": "7c62cce5-3448-4eb8-bafc-ec5d4ef376ff",
   "metadata": {},
   "source": [
    "Other options can be included in the iterator:"
   ]
  },
  {
   "cell_type": "code",
   "execution_count": 4,
   "id": "facd0043-de89-43e7-aa37-b20825331dd9",
   "metadata": {},
   "outputs": [],
   "source": [
    "molecular_system = msm.demo['pentalanine']['traj.h5']"
   ]
  },
  {
   "cell_type": "code",
   "execution_count": 5,
   "id": "37337b0a-bfc9-432c-842c-f2875d3774b9",
   "metadata": {},
   "outputs": [],
   "source": [
    "iterator = msm.Iterator(molecular_system, selection='group_index==3 and atom_name==\"CA\"',\n",
    "                        structure_indices=[100, 110, 120], coordinates=True)"
   ]
  },
  {
   "cell_type": "code",
   "execution_count": 11,
   "id": "1d86b9a4-3712-4f79-8271-ff777639c7e0",
   "metadata": {},
   "outputs": [],
   "source": [
    "aa = iterator._iterators[0]._node['coordinates'][100]"
   ]
  },
  {
   "cell_type": "code",
   "execution_count": 12,
   "id": "14cf2c91-144b-49fe-b710-ebdc3e2dfce1",
   "metadata": {},
   "outputs": [
    {
     "data": {
      "text/plain": [
       "(62, 3)"
      ]
     },
     "execution_count": 12,
     "metadata": {},
     "output_type": "execute_result"
    }
   ],
   "source": [
    "aa.shape"
   ]
  },
  {
   "cell_type": "code",
   "execution_count": 6,
   "id": "de641c73-0ff8-4625-b9d0-052f59f1ed5a",
   "metadata": {},
   "outputs": [
    {
     "ename": "StopIteration",
     "evalue": "",
     "output_type": "error",
     "traceback": [
      "\u001b[0;31m---------------------------------------------------------------------------\u001b[0m",
      "\u001b[0;31mIndexError\u001b[0m                                Traceback (most recent call last)",
      "File \u001b[0;32m~/projects@dprada/MolSysMT/molsysmt/basic/iterator.py:97\u001b[0m, in \u001b[0;36mIterator.__next__\u001b[0;34m(self)\u001b[0m\n\u001b[1;32m     95\u001b[0m     \u001b[38;5;28;01mfor\u001b[39;00m iterator \u001b[38;5;129;01min\u001b[39;00m \u001b[38;5;28mself\u001b[39m\u001b[38;5;241m.\u001b[39m_iterators:\n\u001b[0;32m---> 97\u001b[0m         \u001b[38;5;28mself\u001b[39m\u001b[38;5;241m.\u001b[39m_output_dictionary\u001b[38;5;241m.\u001b[39mupdate(\u001b[43miterator\u001b[49m\u001b[38;5;241;43m.\u001b[39;49m\u001b[38;5;21;43m__next__\u001b[39;49m\u001b[43m(\u001b[49m\u001b[43m)\u001b[49m)\n\u001b[1;32m     99\u001b[0m \u001b[38;5;28;01mexcept\u001b[39;00m:\n",
      "File \u001b[0;32m~/projects@dprada/MolSysMT/molsysmt/form/mdtraj_HDF5TrajectoryFile/iterators.py:68\u001b[0m, in \u001b[0;36mStructuresIterator.__next__\u001b[0;34m(self)\u001b[0m\n\u001b[1;32m     67\u001b[0m \u001b[38;5;28;01mif\u001b[39;00m argument \u001b[38;5;241m==\u001b[39m \u001b[38;5;124m'\u001b[39m\u001b[38;5;124mcoordinates\u001b[39m\u001b[38;5;124m'\u001b[39m:\n\u001b[0;32m---> 68\u001b[0m     \u001b[38;5;28mself\u001b[39m\u001b[38;5;241m.\u001b[39m_output_dictionary[\u001b[38;5;124m'\u001b[39m\u001b[38;5;124mcoordinates\u001b[39m\u001b[38;5;124m'\u001b[39m] \u001b[38;5;241m=\u001b[39m puw\u001b[38;5;241m.\u001b[39mquantity(\u001b[38;5;28;43mself\u001b[39;49m\u001b[38;5;241;43m.\u001b[39;49m\u001b[43m_node\u001b[49m\u001b[43m[\u001b[49m\u001b[38;5;124;43m'\u001b[39;49m\u001b[38;5;124;43mcoordinates\u001b[39;49m\u001b[38;5;124;43m'\u001b[39;49m\u001b[43m]\u001b[49m\u001b[43m[\u001b[49m\u001b[43mindices\u001b[49m\u001b[43m,\u001b[49m\u001b[43m:\u001b[49m\u001b[43m,\u001b[49m\u001b[43m:\u001b[49m\u001b[43m]\u001b[49m\u001b[43m[\u001b[49m\u001b[43m:\u001b[49m\u001b[43m,\u001b[49m\u001b[38;5;28;43mself\u001b[39;49m\u001b[38;5;241;43m.\u001b[39;49m\u001b[43matom_indices\u001b[49m\u001b[43m,\u001b[49m\u001b[43m:\u001b[49m\u001b[43m]\u001b[49m,\n\u001b[1;32m     69\u001b[0m             \u001b[38;5;124m'\u001b[39m\u001b[38;5;124mnm\u001b[39m\u001b[38;5;124m'\u001b[39m, standardized\u001b[38;5;241m=\u001b[39m\u001b[38;5;28;01mTrue\u001b[39;00m)\n\u001b[1;32m     70\u001b[0m \u001b[38;5;28;01melif\u001b[39;00m argument \u001b[38;5;241m==\u001b[39m \u001b[38;5;124m'\u001b[39m\u001b[38;5;124mtime\u001b[39m\u001b[38;5;124m'\u001b[39m:\n",
      "\u001b[0;31mIndexError\u001b[0m: too many indices for array: array is 2-dimensional, but 3 were indexed",
      "\nDuring handling of the above exception, another exception occurred:\n",
      "\u001b[0;31mStopIteration\u001b[0m                             Traceback (most recent call last)",
      "Cell \u001b[0;32mIn[6], line 1\u001b[0m\n\u001b[0;32m----> 1\u001b[0m \u001b[43miterator\u001b[49m\u001b[38;5;241;43m.\u001b[39;49m\u001b[38;5;21;43m__next__\u001b[39;49m\u001b[43m(\u001b[49m\u001b[43m)\u001b[49m\n",
      "File \u001b[0;32m~/projects@dprada/MolSysMT/molsysmt/basic/iterator.py:101\u001b[0m, in \u001b[0;36mIterator.__next__\u001b[0;34m(self)\u001b[0m\n\u001b[1;32m     97\u001b[0m         \u001b[38;5;28mself\u001b[39m\u001b[38;5;241m.\u001b[39m_output_dictionary\u001b[38;5;241m.\u001b[39mupdate(iterator\u001b[38;5;241m.\u001b[39m\u001b[38;5;21m__next__\u001b[39m())\n\u001b[1;32m     99\u001b[0m \u001b[38;5;28;01mexcept\u001b[39;00m:\n\u001b[0;32m--> 101\u001b[0m     \u001b[38;5;28;01mraise\u001b[39;00m \u001b[38;5;167;01mStopIteration\u001b[39;00m\n\u001b[1;32m    103\u001b[0m \u001b[38;5;28;01mif\u001b[39;00m \u001b[38;5;28mself\u001b[39m\u001b[38;5;241m.\u001b[39m_output_molecular_system \u001b[38;5;129;01mis\u001b[39;00m \u001b[38;5;28;01mNone\u001b[39;00m:\n\u001b[1;32m    104\u001b[0m     \u001b[38;5;28;01mif\u001b[39;00m \u001b[38;5;28mself\u001b[39m\u001b[38;5;241m.\u001b[39m_output_type\u001b[38;5;241m==\u001b[39m\u001b[38;5;124m'\u001b[39m\u001b[38;5;124mvalues\u001b[39m\u001b[38;5;124m'\u001b[39m:\n",
      "\u001b[0;31mStopIteration\u001b[0m: "
     ]
    }
   ],
   "source": [
    "iterator.__next__()"
   ]
  },
  {
   "cell_type": "code",
   "execution_count": null,
   "id": "fd1d718a-7264-4531-9b09-67f986c167de",
   "metadata": {},
   "outputs": [],
   "source": [
    "for time, coordinates in iterator:\n",
    "    print(time, coordinates)"
   ]
  },
  {
   "cell_type": "code",
   "execution_count": null,
   "id": "ac7ee73c-b2f7-4f9a-bb12-06a9e753115a",
   "metadata": {},
   "outputs": [],
   "source": [
    "for time in iterator:\n",
    "    print(time)"
   ]
  },
  {
   "cell_type": "code",
   "execution_count": null,
   "id": "4c5710b3-7e2f-4dde-83e8-eb51f9e7e814",
   "metadata": {},
   "outputs": [],
   "source": []
  }
 ],
 "metadata": {
  "kernelspec": {
   "display_name": "Python 3 (ipykernel)",
   "language": "python",
   "name": "python3"
  },
  "language_info": {
   "codemirror_mode": {
    "name": "ipython",
    "version": 3
   },
   "file_extension": ".py",
   "mimetype": "text/x-python",
   "name": "python",
   "nbconvert_exporter": "python",
   "pygments_lexer": "ipython3",
   "version": "3.9.15"
  }
 },
 "nbformat": 4,
 "nbformat_minor": 5
}
