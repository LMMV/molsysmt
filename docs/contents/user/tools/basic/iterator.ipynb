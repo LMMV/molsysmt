{
 "cells": [
  {
   "cell_type": "code",
   "execution_count": 1,
   "id": "e3a1b94e-4efa-4669-ae38-033e13560ec2",
   "metadata": {},
   "outputs": [],
   "source": [
    "%load_ext autoreload\n",
    "%autoreload 2"
   ]
  },
  {
   "cell_type": "code",
   "execution_count": 2,
   "id": "5bf76106-0632-47ac-a712-d1fe0b77fed0",
   "metadata": {
    "tags": [
     "remove-input"
    ]
   },
   "outputs": [],
   "source": [
    "# This cell is removed with the tag: \"remove-input\"\n",
    "# As such, it will not be shown in documentation\n",
    "\n",
    "import warnings\n",
    "warnings.filterwarnings('ignore')"
   ]
  },
  {
   "cell_type": "markdown",
   "id": "3fd275e9-e7ab-4c25-8a28-9efb8a9d9e04",
   "metadata": {},
   "source": [
    "(UserGuide_Tools_Basic_Iterator)=\n",
    "# Iterator\n",
    "\n",
    "*iterator over attributes of a molecular system*\n",
    "\n",
    "The class `molsysmt.basic.Iterator` can be used to iterate over attributes of a molecular system. Let's illustrate how this function work with some examples."
   ]
  },
  {
   "cell_type": "code",
   "execution_count": 3,
   "id": "0257bd9e-967f-432a-b41d-c4c5f8ee3f79",
   "metadata": {},
   "outputs": [
    {
     "data": {
      "application/vnd.jupyter.widget-view+json": {
       "model_id": "d759d772d2864b51ab78109c51829f3d",
       "version_major": 2,
       "version_minor": 0
      },
      "text/plain": []
     },
     "metadata": {},
     "output_type": "display_data"
    }
   ],
   "source": [
    "import molsysmt as msm"
   ]
  },
  {
   "cell_type": "code",
   "execution_count": 4,
   "id": "56b7556b-e9d1-4d7c-826b-59f1976fe1b4",
   "metadata": {},
   "outputs": [],
   "source": [
    "molecular_system = msm.demo['pentalanine']['traj.h5']"
   ]
  },
  {
   "cell_type": "code",
   "execution_count": 5,
   "id": "b00eedb7-7998-4e1e-9c5b-92404bbdb307",
   "metadata": {},
   "outputs": [
    {
     "ename": "ArgumentError",
     "evalue": "Error in molsysmt.basic.where_is_attribute.where_is_attribute due to the attribute argument with value id.Check  for more information. If you still need help, open a new issue in https://github.com/uibcdf/MolSysMT/issues.",
     "output_type": "error",
     "traceback": [
      "\u001b[0;31m---------------------------------------------------------------------------\u001b[0m",
      "\u001b[0;31mArgumentError\u001b[0m                             Traceback (most recent call last)",
      "Cell \u001b[0;32mIn [5], line 1\u001b[0m\n\u001b[0;32m----> 1\u001b[0m iterator \u001b[38;5;241m=\u001b[39m \u001b[43mmsm\u001b[49m\u001b[38;5;241;43m.\u001b[39;49m\u001b[43mIterator\u001b[49m\u001b[43m(\u001b[49m\u001b[43mmolecular_system\u001b[49m\u001b[43m)\u001b[49m\n",
      "File \u001b[0;32m~/projects@dprada/MolSysMT/molsysmt/basic/iterator.py:48\u001b[0m, in \u001b[0;36mIterator.__init__\u001b[0;34m(self, molecular_system, element, selection, start, stop, step, chunk, structure_indices, syntax, **kwargs)\u001b[0m\n\u001b[1;32m     45\u001b[0m aux_items_arguments \u001b[38;5;241m=\u001b[39m {}\n\u001b[1;32m     47\u001b[0m \u001b[38;5;28;01mfor\u001b[39;00m argument \u001b[38;5;129;01min\u001b[39;00m \u001b[38;5;28mself\u001b[39m\u001b[38;5;241m.\u001b[39marguments:\n\u001b[0;32m---> 48\u001b[0m     item, form \u001b[38;5;241m=\u001b[39m \u001b[43mwhere_is_attribute\u001b[49m\u001b[43m(\u001b[49m\u001b[38;5;28;43mself\u001b[39;49m\u001b[38;5;241;43m.\u001b[39;49m\u001b[43mmolecular_system\u001b[49m\u001b[43m,\u001b[49m\u001b[43m \u001b[49m\u001b[43margument\u001b[49m\u001b[43m)\u001b[49m\n\u001b[1;32m     49\u001b[0m     \u001b[38;5;28;01mif\u001b[39;00m item \u001b[38;5;129;01min\u001b[39;00m aux_items_forms:\n\u001b[1;32m     50\u001b[0m         aux_items_arguments[item]\u001b[38;5;241m.\u001b[39mappend(argument)\n",
      "File \u001b[0;32m~/projects@dprada/MolSysMT/molsysmt/_private/digestion/digest.py:105\u001b[0m, in \u001b[0;36mdigest.<locals>.digestor.<locals>.wrapper\u001b[0;34m(*args, **kwargs)\u001b[0m\n\u001b[1;32m    102\u001b[0m     \u001b[38;5;28;01mpass\u001b[39;00m\n\u001b[1;32m    104\u001b[0m \u001b[38;5;28;01mfor\u001b[39;00m arg_name \u001b[38;5;129;01min\u001b[39;00m all_args:\n\u001b[0;32m--> 105\u001b[0m     \u001b[43mgut\u001b[49m\u001b[43m(\u001b[49m\u001b[43marg_name\u001b[49m\u001b[43m)\u001b[49m\n\u001b[1;32m    107\u001b[0m \u001b[38;5;28;01mfor\u001b[39;00m arg_name \u001b[38;5;129;01min\u001b[39;00m not_digested_args:\n\u001b[1;32m    108\u001b[0m     warnings\u001b[38;5;241m.\u001b[39mwarn(arg_name\u001b[38;5;241m+\u001b[39m\u001b[38;5;124m'\u001b[39m\u001b[38;5;124m from \u001b[39m\u001b[38;5;124m'\u001b[39m\u001b[38;5;241m+\u001b[39mcaller, NotDigestedArgumentWarning, stacklevel\u001b[38;5;241m=\u001b[39m\u001b[38;5;241m2\u001b[39m)\n",
      "File \u001b[0;32m~/projects@dprada/MolSysMT/molsysmt/_private/digestion/digest.py:97\u001b[0m, in \u001b[0;36mdigest.<locals>.digestor.<locals>.wrapper.<locals>.gut\u001b[0;34m(arg_name)\u001b[0m\n\u001b[1;32m     95\u001b[0m         \u001b[38;5;28;01melse\u001b[39;00m:\n\u001b[1;32m     96\u001b[0m             parameters_dict[parameter] \u001b[38;5;241m=\u001b[39m \u001b[38;5;28;01mNone\u001b[39;00m\n\u001b[0;32m---> 97\u001b[0m     digested_args[arg_name] \u001b[38;5;241m=\u001b[39m \u001b[43mdigestion_functions\u001b[49m\u001b[43m[\u001b[49m\u001b[43marg_name\u001b[49m\u001b[43m]\u001b[49m\u001b[43m(\u001b[49m\u001b[43mall_args\u001b[49m\u001b[43m[\u001b[49m\u001b[43marg_name\u001b[49m\u001b[43m]\u001b[49m\u001b[43m,\u001b[49m\n\u001b[1;32m     98\u001b[0m \u001b[43m                                                  \u001b[49m\u001b[43mcaller\u001b[49m\u001b[38;5;241;43m=\u001b[39;49m\u001b[43mcaller\u001b[49m\u001b[43m,\u001b[49m\n\u001b[1;32m     99\u001b[0m \u001b[43m                                                  \u001b[49m\u001b[38;5;241;43m*\u001b[39;49m\u001b[38;5;241;43m*\u001b[39;49m\u001b[43mparameters_dict\u001b[49m\u001b[43m)\u001b[49m\n\u001b[1;32m    100\u001b[0m \u001b[38;5;28;01melse\u001b[39;00m:\n\u001b[1;32m    101\u001b[0m     not_digested_args[arg_name] \u001b[38;5;241m=\u001b[39m all_args[arg_name]\n",
      "File \u001b[0;32m~/projects@dprada/MolSysMT/molsysmt/_private/digestion/argument/attribute.py:10\u001b[0m, in \u001b[0;36mdigest_attribute\u001b[0;34m(attribute, caller)\u001b[0m\n\u001b[1;32m      7\u001b[0m \u001b[38;5;28;01mif\u001b[39;00m is_attribute(attribute):\n\u001b[1;32m      8\u001b[0m     \u001b[38;5;28;01mreturn\u001b[39;00m attribute\n\u001b[0;32m---> 10\u001b[0m \u001b[38;5;28;01mraise\u001b[39;00m ArgumentError(\u001b[38;5;124m'\u001b[39m\u001b[38;5;124mattribute\u001b[39m\u001b[38;5;124m'\u001b[39m, value\u001b[38;5;241m=\u001b[39mattribute, caller\u001b[38;5;241m=\u001b[39mcaller, message\u001b[38;5;241m=\u001b[39m\u001b[38;5;28;01mNone\u001b[39;00m)\n",
      "\u001b[0;31mArgumentError\u001b[0m: Error in molsysmt.basic.where_is_attribute.where_is_attribute due to the attribute argument with value id.Check  for more information. If you still need help, open a new issue in https://github.com/uibcdf/MolSysMT/issues."
     ]
    }
   ],
   "source": [
    "iterator = msm.Iterator(molecular_system)"
   ]
  },
  {
   "cell_type": "code",
   "execution_count": null,
   "id": "6fc81a54-5e42-443c-89b8-c1059f672314",
   "metadata": {},
   "outputs": [],
   "source": [
    "type(iterator)"
   ]
  },
  {
   "cell_type": "code",
   "execution_count": null,
   "id": "7e70b1d1-938b-4c68-8bd2-60954d59b33f",
   "metadata": {},
   "outputs": [],
   "source": [
    "msm.where_is_attribute(molecular_system, 'box')"
   ]
  },
  {
   "cell_type": "code",
   "execution_count": null,
   "id": "a21ab192-a817-4dff-a7f3-9d811cb97657",
   "metadata": {},
   "outputs": [],
   "source": [
    "output['cc']=None"
   ]
  },
  {
   "cell_type": "code",
   "execution_count": null,
   "id": "b03b354c-42dc-4f93-85b2-32d546089ef5",
   "metadata": {},
   "outputs": [],
   "source": [
    "aa = {'aa':0, 'bb':1, 'cc':2}"
   ]
  },
  {
   "cell_type": "code",
   "execution_count": null,
   "id": "aa26dac6-8e3e-4575-9393-b2f83a7ff290",
   "metadata": {},
   "outputs": [],
   "source": []
  },
  {
   "cell_type": "code",
   "execution_count": null,
   "id": "a83d34b1-7ba5-4d91-8fb0-e71715981217",
   "metadata": {},
   "outputs": [],
   "source": [
    "bb = {'aa':10, 'bb':11, 'cc':12}"
   ]
  },
  {
   "cell_type": "code",
   "execution_count": null,
   "id": "4223db34-2e45-47de-879a-6a840d10644d",
   "metadata": {},
   "outputs": [],
   "source": [
    "aa[['bb', 'cc']]"
   ]
  },
  {
   "cell_type": "code",
   "execution_count": null,
   "id": "d04fdd89-cc51-4a6b-8f3d-2d2fcc383ba4",
   "metadata": {},
   "outputs": [],
   "source": [
    "for ii,jj in zip(aa,bb):\n",
    "    print(ii,jj)"
   ]
  },
  {
   "cell_type": "code",
   "execution_count": null,
   "id": "262024d6-c661-4e07-a557-47ab17020dfb",
   "metadata": {},
   "outputs": [],
   "source": [
    "aa[(1,2)]"
   ]
  },
  {
   "cell_type": "code",
   "execution_count": null,
   "id": "ad4f073e-c733-4b8a-85f8-d965bda7c6f2",
   "metadata": {},
   "outputs": [],
   "source": [
    "msm.where_is_attribute(molecular_system, ['coordinates', 'box'])"
   ]
  },
  {
   "cell_type": "code",
   "execution_count": null,
   "id": "bd976bf6-329f-41f5-b158-c5f499b2e5c5",
   "metadata": {},
   "outputs": [],
   "source": []
  }
 ],
 "metadata": {
  "kernelspec": {
   "display_name": "Python 3 (ipykernel)",
   "language": "python",
   "name": "python3"
  },
  "language_info": {
   "codemirror_mode": {
    "name": "ipython",
    "version": 3
   },
   "file_extension": ".py",
   "mimetype": "text/x-python",
   "name": "python",
   "nbconvert_exporter": "python",
   "pygments_lexer": "ipython3",
   "version": "3.9.15"
  }
 },
 "nbformat": 4,
 "nbformat_minor": 5
}
