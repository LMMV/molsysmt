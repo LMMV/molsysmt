{
 "cells": [
  {
   "cell_type": "code",
   "execution_count": 1,
   "id": "e3a1b94e-4efa-4669-ae38-033e13560ec2",
   "metadata": {},
   "outputs": [],
   "source": [
    "%load_ext autoreload\n",
    "%autoreload 2"
   ]
  },
  {
   "cell_type": "code",
   "execution_count": 2,
   "id": "5bf76106-0632-47ac-a712-d1fe0b77fed0",
   "metadata": {
    "tags": [
     "remove-input"
    ]
   },
   "outputs": [],
   "source": [
    "# This cell is removed with the tag: \"remove-input\"\n",
    "# As such, it will not be shown in documentation\n",
    "\n",
    "import warnings\n",
    "warnings.filterwarnings('ignore')"
   ]
  },
  {
   "cell_type": "markdown",
   "id": "3fd275e9-e7ab-4c25-8a28-9efb8a9d9e04",
   "metadata": {},
   "source": [
    "(UserGuide_Tools_Basic_Iterator)=\n",
    "# Iterator\n",
    "\n",
    "*iterator over attributes of a molecular system*\n",
    "\n",
    "The class `molsysmt.basic.Iterator` can be used to iterate over attributes of a molecular system. Let's illustrate how this function work with some examples."
   ]
  },
  {
   "cell_type": "code",
   "execution_count": 3,
   "id": "0257bd9e-967f-432a-b41d-c4c5f8ee3f79",
   "metadata": {},
   "outputs": [
    {
     "data": {
      "application/vnd.jupyter.widget-view+json": {
       "model_id": "ef1692966922400fbfaa8a4c4eeb251b",
       "version_major": 2,
       "version_minor": 0
      },
      "text/plain": []
     },
     "metadata": {},
     "output_type": "display_data"
    }
   ],
   "source": [
    "import molsysmt as msm"
   ]
  },
  {
   "cell_type": "code",
   "execution_count": 4,
   "id": "7e45d2ad-d8d2-4e14-bec8-d986125d1ce9",
   "metadata": {},
   "outputs": [],
   "source": [
    "molecular_system = msm.demo['chicken villin HP35']['1vii.mmtf']"
   ]
  },
  {
   "cell_type": "code",
   "execution_count": 5,
   "id": "b764aa3c-5435-456a-8901-6050d96b8447",
   "metadata": {},
   "outputs": [],
   "source": [
    "molecular_system = msm.convert(molecular_system, 'mmtf.MMTFDecoder')"
   ]
  },
  {
   "cell_type": "code",
   "execution_count": 24,
   "id": "4e576962-a31e-484b-a6b0-52c9647a5400",
   "metadata": {},
   "outputs": [],
   "source": [
    "iterator = msm.Iterator(molecular_system, selection='atom_name==\"CA\" and group_index<10',\n",
    "                        atom_index=True, atom_name=True, group_index=True, group_name=True)"
   ]
  },
  {
   "cell_type": "code",
   "execution_count": 25,
   "id": "603aa1fa-a80f-4c29-b2d3-e63a217fe249",
   "metadata": {},
   "outputs": [
    {
     "name": "stdout",
     "output_type": "stream",
     "text": [
      "1 CA 0 MET\n",
      "20 CA 1 LEU\n",
      "39 CA 2 SER\n",
      "50 CA 3 ASP\n",
      "62 CA 4 GLU\n",
      "77 CA 5 ASP\n",
      "89 CA 6 PHE\n",
      "109 CA 7 LYS\n",
      "131 CA 8 ALA\n",
      "141 CA 9 VAL\n"
     ]
    }
   ],
   "source": [
    "for atom_index, atom_name, group_index, group_name in iterator:\n",
    "    print(atom_index, atom_name, group_index, group_name)"
   ]
  },
  {
   "cell_type": "code",
   "execution_count": 26,
   "id": "c37533ad-a41c-4f71-aad5-23779847788c",
   "metadata": {},
   "outputs": [],
   "source": [
    "iterator = msm.Iterator(molecular_system, element='group', selection='molecule_type==\"protein\"',\n",
    "                        group_index=True, charge=True)"
   ]
  },
  {
   "cell_type": "code",
   "execution_count": 27,
   "id": "eaacf1e8-1346-4e12-85c3-0ac95a135412",
   "metadata": {},
   "outputs": [
    {
     "ename": "TypeError",
     "evalue": "cannot unpack non-iterable numpy.int64 object",
     "output_type": "error",
     "traceback": [
      "\u001b[0;31m---------------------------------------------------------------------------\u001b[0m",
      "\u001b[0;31mTypeError\u001b[0m                                 Traceback (most recent call last)",
      "Cell \u001b[0;32mIn[27], line 1\u001b[0m\n\u001b[0;32m----> 1\u001b[0m \u001b[38;5;28;01mfor\u001b[39;00m group_index, charge \u001b[38;5;129;01min\u001b[39;00m iterator:\n\u001b[1;32m      2\u001b[0m     \u001b[38;5;28mprint\u001b[39m(group_index, charge)\n",
      "\u001b[0;31mTypeError\u001b[0m: cannot unpack non-iterable numpy.int64 object"
     ]
    }
   ],
   "source": [
    "for group_index, charge in iterator:\n",
    "    print(group_index, charge)"
   ]
  },
  {
   "cell_type": "code",
   "execution_count": null,
   "id": "4951681f-bc12-4b76-9296-6a9c0e807d6c",
   "metadata": {},
   "outputs": [],
   "source": [
    "molecular_system = msm.demo['pentalanine']['traj.h5']"
   ]
  },
  {
   "cell_type": "code",
   "execution_count": null,
   "id": "c0b3cb06-aeeb-49b6-bd7e-4ebcf300bb0c",
   "metadata": {},
   "outputs": [],
   "source": [
    "iterator = msm."
   ]
  },
  {
   "cell_type": "code",
   "execution_count": null,
   "id": "ae7d1740-e3ef-4f63-93e2-f2859f25e862",
   "metadata": {},
   "outputs": [],
   "source": [
    "molecular_system = msm.demo['pentalanine']['traj.h5']"
   ]
  },
  {
   "cell_type": "code",
   "execution_count": null,
   "id": "541c0e93-69b2-4315-910a-185553d520c9",
   "metadata": {},
   "outputs": [],
   "source": [
    "iterator = msm.Iterator(molecular_system, time=True, temperature=True)"
   ]
  },
  {
   "cell_type": "code",
   "execution_count": null,
   "id": "c7a78e0c-0843-438b-a84a-611c8c0a0ee2",
   "metadata": {},
   "outputs": [],
   "source": [
    "times = []\n",
    "temperatures = []\n",
    "\n",
    "for time, temperature in iterator:\n",
    "    times.append(time)\n",
    "    temperatures.append(temperature)"
   ]
  },
  {
   "cell_type": "code",
   "execution_count": null,
   "id": "b7af1b31-35d5-4bed-ad51-3e0a7448ea27",
   "metadata": {},
   "outputs": [],
   "source": [
    "import matplotlib.pyplot as plt\n",
    "import pyunitwizard as puw\n",
    "import numpy as np"
   ]
  },
  {
   "cell_type": "code",
   "execution_count": null,
   "id": "2fe714c6-1af9-42a5-91f9-0659efcec8fb",
   "metadata": {},
   "outputs": [],
   "source": [
    "times = puw.concatenate(times)\n",
    "temperatures = puw.concatenate(temperatures)\n",
    "\n",
    "plt.plot(times, temperatures)\n",
    "plt.show()"
   ]
  },
  {
   "cell_type": "markdown",
   "id": "7c62cce5-3448-4eb8-bafc-ec5d4ef376ff",
   "metadata": {},
   "source": [
    "Other options can be included in the iterator:"
   ]
  },
  {
   "cell_type": "code",
   "execution_count": null,
   "id": "37337b0a-bfc9-432c-842c-f2875d3774b9",
   "metadata": {},
   "outputs": [],
   "source": [
    "iterator = msm.Iterator(molecular_system, selection='group_index==0 and atom_name==\"CA\"', structure_indices=[100, 110, 120],\n",
    "                        time=True, coordinates=True)"
   ]
  },
  {
   "cell_type": "code",
   "execution_count": null,
   "id": "9cc9c9fa-bf3d-41a3-8b82-b6353b9ee706",
   "metadata": {},
   "outputs": [],
   "source": [
    "iterator.structure_index"
   ]
  },
  {
   "cell_type": "code",
   "execution_count": null,
   "id": "fd1d718a-7264-4531-9b09-67f986c167de",
   "metadata": {},
   "outputs": [],
   "source": [
    "for time, coordinates in iterator:\n",
    "    print(time, coordinates)"
   ]
  },
  {
   "cell_type": "code",
   "execution_count": null,
   "id": "c04a2b6a-e583-4c5f-89f0-b643c728f7e2",
   "metadata": {},
   "outputs": [],
   "source": [
    "msm.file.files_handled"
   ]
  },
  {
   "cell_type": "code",
   "execution_count": null,
   "id": "5027b6d7-59ae-470d-8026-ccb75052590c",
   "metadata": {},
   "outputs": [],
   "source": []
  }
 ],
 "metadata": {
  "kernelspec": {
   "display_name": "Python 3 (ipykernel)",
   "language": "python",
   "name": "python3"
  },
  "language_info": {
   "codemirror_mode": {
    "name": "ipython",
    "version": 3
   },
   "file_extension": ".py",
   "mimetype": "text/x-python",
   "name": "python",
   "nbconvert_exporter": "python",
   "pygments_lexer": "ipython3",
   "version": "3.9.15"
  }
 },
 "nbformat": 4,
 "nbformat_minor": 5
}
