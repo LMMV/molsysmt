{
 "cells": [
  {
   "cell_type": "code",
   "execution_count": 1,
   "id": "7c755cb8-b260-4d73-9e84-90d6a20dd0eb",
   "metadata": {
    "tags": [
     "remove-input"
    ]
   },
   "outputs": [],
   "source": [
    "# This cell is removed with the tag: \"remove-input\"\n",
    "# As such, it will not be shown in documentation\n",
    "\n",
    "import warnings\n",
    "warnings.filterwarnings('ignore')"
   ]
  },
  {
   "cell_type": "markdown",
   "id": "095d0ac2-57d4-4581-ad7a-d1c3c3da7891",
   "metadata": {},
   "source": [
    "(UserGuide_Tools_Basic_GetAttributes)=\n",
    "# Get attributes\n",
    "\n",
    "*Getting the attributes of a molecular system.*\n",
    "\n",
    "Moleculars systems have attributes such as group ids, box shape or water model. The set of attributes of a molecular system's form contains all the information this form can store or provide about the system. The function {func}`molsysmt.basic.get_attributes` returns a dictionary where the user can find whether or not a specific attribute is present in a specific molecular system object:"
   ]
  },
  {
   "cell_type": "code",
   "execution_count": 2,
   "id": "bbecf5a9-b8d3-49ac-85e3-e7cea880c231",
   "metadata": {},
   "outputs": [
    {
     "data": {
      "application/vnd.jupyter.widget-view+json": {
       "model_id": "a137596560cf48f9a4e2b53e264c2ff3",
       "version_major": 2,
       "version_minor": 0
      },
      "text/plain": []
     },
     "metadata": {},
     "output_type": "display_data"
    }
   ],
   "source": [
    "import molsysmt as msm"
   ]
  },
  {
   "cell_type": "code",
   "execution_count": 3,
   "id": "dcaa17b3-57a1-4335-bd47-53156e6fc0fb",
   "metadata": {},
   "outputs": [],
   "source": [
    "molecular_system = '181L'\n",
    "attributes_string_pdb_id = msm.get_attributes(molecular_system)"
   ]
  },
  {
   "cell_type": "markdown",
   "id": "05e7d01c-0fcd-452a-93de-86c78d7fb5df",
   "metadata": {},
   "source": [
    "The resulting dictionary can be used to get the list of attribute names the molecular system has:"
   ]
  },
  {
   "cell_type": "code",
   "execution_count": 4,
   "id": "b1cd56d3-1541-4504-94bf-810518ab150c",
   "metadata": {},
   "outputs": [
    {
     "name": "stdout",
     "output_type": "stream",
     "text": [
      "['atom_index', 'atom_name', 'atom_id', 'atom_type', 'group_index', 'group_name', 'group_id', 'group_type', 'component_index', 'component_name', 'component_id', 'component_type', 'chain_index', 'chain_name', 'chain_id', 'chain_type', 'molecule_index', 'molecule_name', 'molecule_id', 'molecule_type', 'entity_index', 'entity_name', 'entity_id', 'entity_type', 'bond_index', 'bond_id', 'bond_type', 'bond_order', 'bonded_atoms', 'inner_bonded_atoms', 'inner_bond_index', 'n_atoms', 'n_groups', 'n_components', 'n_chains', 'n_molecules', 'n_entities', 'n_bonds', 'n_inner_bonds', 'n_aminoacids', 'n_nucleotides', 'n_ions', 'n_waters', 'n_small_molecules', 'n_peptides', 'n_proteins', 'n_dnas', 'n_rnas', 'n_lipids', 'n_oligosaccharides', 'n_saccharides', 'structure_index', 'structure_id', 'time', 'box', 'box_shape', 'box_angles', 'box_lengths', 'box_volume', 'coordinates', 'velocities', 'n_structures', 'occupancy', 'b_factor', 'alternate_location', 'bioassembly', 'n_bioassemblies', 'formal_charge', 'partial_charge']\n"
     ]
    }
   ],
   "source": [
    "print([key for key,value in attributes_string_pdb_id.items() if value])"
   ]
  },
  {
   "cell_type": "markdown",
   "id": "872fc2d7-8da3-4a8b-97ec-533494ee67eb",
   "metadata": {},
   "source": [
    "As it was mentioned before, not all forms have the same attributes. Let's illustrate this having four different forms of the same molecular system:"
   ]
  },
  {
   "cell_type": "code",
   "execution_count": 5,
   "id": "57b4205e-cbdd-472d-a8f2-5ce910fb6ec6",
   "metadata": {},
   "outputs": [],
   "source": [
    "molecular_system = msm.convert(molecular_system, selection='molecule_type==\"protein\"', to_form='molsysmt.MolSys')\n",
    "attributes_molsysmt_MolSys = msm.get_attributes(molecular_system)\n",
    "\n",
    "molecular_system = msm.convert(molecular_system, to_form='openmm.Topology')\n",
    "attributes_openmm_Topology = msm.get_attributes(molecular_system)\n",
    "\n",
    "molecular_system = msm.convert(molecular_system, to_form='string:aminoacids1')\n",
    "attributes_string_aminoacids1 = msm.get_attributes(molecular_system)"
   ]
  },
  {
   "cell_type": "markdown",
   "id": "d1b0b5e9-be2f-45ce-ab93-4afc78e0d133",
   "metadata": {},
   "source": [
    "All of them have group names:"
   ]
  },
  {
   "cell_type": "code",
   "execution_count": 6,
   "id": "3f45ae63-7649-4a61-ab05-719589307e96",
   "metadata": {},
   "outputs": [
    {
     "name": "stdout",
     "output_type": "stream",
     "text": [
      "True\n",
      "True\n",
      "True\n",
      "True\n"
     ]
    }
   ],
   "source": [
    "print(attributes_string_pdb_id['group_name'])\n",
    "print(attributes_molsysmt_MolSys['group_name'])\n",
    "print(attributes_openmm_Topology['group_name'])\n",
    "print(attributes_string_aminoacids1['group_name'])"
   ]
  },
  {
   "cell_type": "markdown",
   "id": "3089cae6-7db4-448d-af21-7e21a6b0c89e",
   "metadata": {},
   "source": [
    "But not all of them have or entity names or boxes:"
   ]
  },
  {
   "cell_type": "code",
   "execution_count": 7,
   "id": "20315d98-9487-4215-aad5-3495699b340b",
   "metadata": {},
   "outputs": [
    {
     "name": "stdout",
     "output_type": "stream",
     "text": [
      "True\n",
      "True\n",
      "False\n",
      "False\n"
     ]
    }
   ],
   "source": [
    "print(attributes_string_pdb_id['entity_name'])\n",
    "print(attributes_molsysmt_MolSys['entity_name'])\n",
    "print(attributes_openmm_Topology['entity_name'])\n",
    "print(attributes_string_aminoacids1['entity_name'])"
   ]
  },
  {
   "cell_type": "code",
   "execution_count": 8,
   "id": "84a273f8-fe32-4e2c-8e30-f04eadc47582",
   "metadata": {},
   "outputs": [
    {
     "name": "stdout",
     "output_type": "stream",
     "text": [
      "True\n",
      "True\n",
      "True\n",
      "False\n"
     ]
    }
   ],
   "source": [
    "print(attributes_string_pdb_id['box'])\n",
    "print(attributes_molsysmt_MolSys['box'])\n",
    "print(attributes_openmm_Topology['box'])\n",
    "print(attributes_string_aminoacids1['box'])"
   ]
  },
  {
   "cell_type": "markdown",
   "id": "a5385c12-3349-455e-8224-b58aeae46bfe",
   "metadata": {},
   "source": [
    "```{admonition} Tip\n",
    ":class: tip\n",
    "All methods defined in the {ref}`molsysmt.basic <API basic>` module can be invoked also from the main level of the library. Hence, {func}`molsysmt.get_attributes` is the same method as {func}`molsysmt.basic.get_attributes`.\n",
    "```"
   ]
  },
  {
   "cell_type": "markdown",
   "id": "890015d4-8739-408f-9613-15b10a659c0d",
   "metadata": {},
   "source": [
    "```{admonition} See also\n",
    ":class: attention\n",
    "{func}`molsysmt.basic.convert`\n",
    "```"
   ]
  }
 ],
 "metadata": {
  "kernelspec": {
   "display_name": "Python 3 (ipykernel)",
   "language": "python",
   "name": "python3"
  },
  "language_info": {
   "codemirror_mode": {
    "name": "ipython",
    "version": 3
   },
   "file_extension": ".py",
   "mimetype": "text/x-python",
   "name": "python",
   "nbconvert_exporter": "python",
   "pygments_lexer": "ipython3",
   "version": "3.9.15"
  }
 },
 "nbformat": 4,
 "nbformat_minor": 5
}
