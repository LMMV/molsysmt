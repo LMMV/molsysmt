{
 "cells": [
  {
   "cell_type": "code",
   "execution_count": 1,
   "id": "7c755cb8-b260-4d73-9e84-90d6a20dd0eb",
   "metadata": {
    "execution": {
     "iopub.execute_input": "2025-03-11T21:03:15.699054Z",
     "iopub.status.busy": "2025-03-11T21:03:15.698435Z",
     "iopub.status.idle": "2025-03-11T21:03:15.703355Z",
     "shell.execute_reply": "2025-03-11T21:03:15.702449Z"
    },
    "tags": [
     "remove-input"
    ]
   },
   "outputs": [],
   "source": [
    "# This cell is removed with the tag: \"remove-input\"\n",
    "# As such, it will not be shown in documentation\n",
    "\n",
    "#import warnings\n",
    "#warnings.filterwarnings('ignore')"
   ]
  },
  {
   "cell_type": "markdown",
   "id": "095d0ac2-57d4-4581-ad7a-d1c3c3da7891",
   "metadata": {},
   "source": [
    "(Tutorial_Get_attributes)=\n",
    "# Get attributes\n",
    "\n",
    "*Getting the list of attributes with value of a molecular system.*\n",
    "\n",
    "Molecular systems have attributes such as the number of atoms, the group ids, the box shape or the water model. The set of attribute values of a system and its elements defines a molecular system, making it different from others. And given that a system can take different forms, the attributes are also limited by each form.\n",
    "\n",
    ":::{hint}\n",
    "Visit the section [User guide > Introduction > Molecular System](../../intro/molecular_systems/index.md) in case you are not familiar with the concepts of \"form\" or \"attribute\" in MolSysMT.\n",
    ":::\n",
    "\n",
    "The list of attributes defined in MolSysMT for a molecular system can be checked in the section [User guide > Introduction > Molecular system > Attributes](../../indtroduction/molecular_system/attributes.ipynb). And given a molecular system, the function {func}`molsysmt.basic.get_attributes` returns a dictionary where the user can find whether or not a specific attribute with a value different from `None` is present.\n",
    "\n",
    "\n",
    "## How this function works\n",
    "\n",
    ":::{admonition} API documentation\n",
    "Follow this link for a detailed description of the input arguments, raised errors, and returned objects of this function:{func}`molsysmt.basic.get_attributes`.\n",
    ":::"
   ]
  },
  {
   "cell_type": "code",
   "execution_count": 2,
   "id": "bbecf5a9-b8d3-49ac-85e3-e7cea880c231",
   "metadata": {
    "execution": {
     "iopub.execute_input": "2025-03-11T21:03:15.707385Z",
     "iopub.status.busy": "2025-03-11T21:03:15.706555Z",
     "iopub.status.idle": "2025-03-11T21:03:23.099836Z",
     "shell.execute_reply": "2025-03-11T21:03:23.098841Z"
    }
   },
   "outputs": [
    {
     "data": {
      "application/vnd.jupyter.widget-view+json": {
       "model_id": "385f9320515043d7bb5bbcb3b8c4fff4",
       "version_major": 2,
       "version_minor": 0
      },
      "text/plain": []
     },
     "metadata": {},
     "output_type": "display_data"
    }
   ],
   "source": [
    "import molsysmt as msm"
   ]
  },
  {
   "cell_type": "code",
   "execution_count": 3,
   "id": "dcaa17b3-57a1-4335-bd47-53156e6fc0fb",
   "metadata": {
    "execution": {
     "iopub.execute_input": "2025-03-11T21:03:23.104137Z",
     "iopub.status.busy": "2025-03-11T21:03:23.103218Z",
     "iopub.status.idle": "2025-03-11T21:03:25.491030Z",
     "shell.execute_reply": "2025-03-11T21:03:25.490036Z"
    }
   },
   "outputs": [],
   "source": [
    "molecular_system = msm.convert('181L', to_form='openmm.Topology')\n",
    "dict_attributes = msm.get_attributes(molecular_system)"
   ]
  },
  {
   "cell_type": "markdown",
   "id": "648c541b-096c-491d-b1e0-380dbc0f8ba5",
   "metadata": {},
   "source": [
    ":::{tip}\n",
    "All methods defined in the {ref}`molsysmt.basic <API basic>` module can be invoked also from the main level of the library. Hence, {func}`molsysmt.get_attributes` is the same method as {func}`molsysmt.basic.get_attributes`.\n",
    ":::\n"
   ]
  },
  {
   "cell_type": "markdown",
   "id": "cf52ffd6-04cc-4906-9f70-073a4ae98764",
   "metadata": {},
   "source": [
    "Let's inspect the resultant dictionary:"
   ]
  },
  {
   "cell_type": "code",
   "execution_count": 4,
   "id": "c5ddabde-ab07-4fe4-be22-9c5ef79e6ab9",
   "metadata": {
    "execution": {
     "iopub.execute_input": "2025-03-11T21:03:25.495134Z",
     "iopub.status.busy": "2025-03-11T21:03:25.493746Z",
     "iopub.status.idle": "2025-03-11T21:03:25.504570Z",
     "shell.execute_reply": "2025-03-11T21:03:25.503807Z"
    }
   },
   "outputs": [
    {
     "data": {
      "text/plain": [
       "True"
      ]
     },
     "execution_count": 4,
     "metadata": {},
     "output_type": "execute_result"
    }
   ],
   "source": [
    "dict_attributes['box_volume']"
   ]
  },
  {
   "cell_type": "code",
   "execution_count": 5,
   "id": "1b93cfea-b1c5-4036-8f5e-d204212bd09a",
   "metadata": {
    "execution": {
     "iopub.execute_input": "2025-03-11T21:03:25.507664Z",
     "iopub.status.busy": "2025-03-11T21:03:25.506798Z",
     "iopub.status.idle": "2025-03-11T21:03:25.512380Z",
     "shell.execute_reply": "2025-03-11T21:03:25.511561Z"
    }
   },
   "outputs": [
    {
     "data": {
      "text/plain": [
       "False"
      ]
     },
     "execution_count": 5,
     "metadata": {},
     "output_type": "execute_result"
    }
   ],
   "source": [
    "dict_attributes['forcefield']"
   ]
  },
  {
   "cell_type": "markdown",
   "id": "872fc2d7-8da3-4a8b-97ec-533494ee67eb",
   "metadata": {},
   "source": [
    "As it was mentioned before, not all molecular systems have all its attributes with a value different from `None`. If this is the case, the function {func}`molsysmt.basic.get_attributes` returns False for these attributes -although they can be contained in the corresponding molecular system's form-:"
   ]
  },
  {
   "cell_type": "code",
   "execution_count": 6,
   "id": "d709a15c-055f-4216-b78f-744aef084374",
   "metadata": {
    "execution": {
     "iopub.execute_input": "2025-03-11T21:03:25.514989Z",
     "iopub.status.busy": "2025-03-11T21:03:25.514626Z",
     "iopub.status.idle": "2025-03-11T21:03:25.717579Z",
     "shell.execute_reply": "2025-03-11T21:03:25.716653Z"
    }
   },
   "outputs": [],
   "source": [
    "msm.set(molecular_system, box=None)"
   ]
  },
  {
   "cell_type": "code",
   "execution_count": 7,
   "id": "8925a994-72c6-48a5-bb81-a43522543788",
   "metadata": {
    "execution": {
     "iopub.execute_input": "2025-03-11T21:03:25.720581Z",
     "iopub.status.busy": "2025-03-11T21:03:25.720205Z",
     "iopub.status.idle": "2025-03-11T21:03:25.777286Z",
     "shell.execute_reply": "2025-03-11T21:03:25.776352Z"
    }
   },
   "outputs": [],
   "source": [
    "dict_attributes = msm.get_attributes(molecular_system)"
   ]
  },
  {
   "cell_type": "code",
   "execution_count": 8,
   "id": "c3cdd239-43d6-4944-b5b1-04910c4c44ff",
   "metadata": {
    "execution": {
     "iopub.execute_input": "2025-03-11T21:03:25.780489Z",
     "iopub.status.busy": "2025-03-11T21:03:25.779720Z",
     "iopub.status.idle": "2025-03-11T21:03:25.785613Z",
     "shell.execute_reply": "2025-03-11T21:03:25.784839Z"
    }
   },
   "outputs": [
    {
     "data": {
      "text/plain": [
       "False"
      ]
     },
     "execution_count": 8,
     "metadata": {},
     "output_type": "execute_result"
    }
   ],
   "source": [
    "dict_attributes['box_volume']"
   ]
  },
  {
   "cell_type": "markdown",
   "id": "2490891a-b2b3-4350-a892-88ada5ac4254",
   "metadata": {},
   "source": [
    ":::{note}\n",
    "Have a look to the function {func}`molsysmt.form.has_attribute` if the presence of a specific attribute needs to be checked in a molecular system. However, if instead of the attributes of a molecular system, the attributes of a molecular system's form need to be checked make use of the functions {func}`molsysmt.form.get_attributes` and {func}`molsysmt.form.has_attribute`.\n",
    ":::"
   ]
  },
  {
   "cell_type": "markdown",
   "id": "890015d4-8739-408f-9613-15b10a659c0d",
   "metadata": {},
   "source": [
    ":::{seealso}\n",
    "[User guide > Introduction > Molecular System > Forms](../../intro/molecular_systems/forms.md):    \n",
    "[User guide > Introduction > Molecular System > Attributes](../../intro/molecular_systems/attributes.ipynb):    \n",
    "[User guide > Tools > Basic > Convert](convert.ipynb):     \n",
    "[User guide > Tools > Basic > Has attribute](has_attribute.ipynb):     \n",
    "[User guide > Tools > Form > Get attributes](get_attributes.ipynb):     \n",
    "[User guide > Tools > Form > Has attribute](has_attribute.ipynb):     \n",
    ":::"
   ]
  }
 ],
 "metadata": {
  "kernelspec": {
   "display_name": "Python 3 (ipykernel)",
   "language": "python",
   "name": "python3"
  },
  "language_info": {
   "codemirror_mode": {
    "name": "ipython",
    "version": 3
   },
   "file_extension": ".py",
   "mimetype": "text/x-python",
   "name": "python",
   "nbconvert_exporter": "python",
   "pygments_lexer": "ipython3",
   "version": "3.12.8"
  },
  "widgets": {
   "application/vnd.jupyter.widget-state+json": {
    "state": {
     "343304b22d87408cbedd9fc443a6d97d": {
      "model_module": "@jupyter-widgets/base",
      "model_module_version": "2.0.0",
      "model_name": "LayoutModel",
      "state": {
       "_model_module": "@jupyter-widgets/base",
       "_model_module_version": "2.0.0",
       "_model_name": "LayoutModel",
       "_view_count": null,
       "_view_module": "@jupyter-widgets/base",
       "_view_module_version": "2.0.0",
       "_view_name": "LayoutView",
       "align_content": null,
       "align_items": null,
       "align_self": null,
       "border_bottom": null,
       "border_left": null,
       "border_right": null,
       "border_top": null,
       "bottom": null,
       "display": null,
       "flex": null,
       "flex_flow": null,
       "grid_area": null,
       "grid_auto_columns": null,
       "grid_auto_flow": null,
       "grid_auto_rows": null,
       "grid_column": null,
       "grid_gap": null,
       "grid_row": null,
       "grid_template_areas": null,
       "grid_template_columns": null,
       "grid_template_rows": null,
       "height": null,
       "justify_content": null,
       "justify_items": null,
       "left": null,
       "margin": null,
       "max_height": null,
       "max_width": null,
       "min_height": null,
       "min_width": null,
       "object_fit": null,
       "object_position": null,
       "order": null,
       "overflow": null,
       "padding": null,
       "right": null,
       "top": null,
       "visibility": null,
       "width": null
      }
     },
     "385f9320515043d7bb5bbcb3b8c4fff4": {
      "model_module": "nglview-js-widgets",
      "model_module_version": "3.1.4",
      "model_name": "ColormakerRegistryModel",
      "state": {
       "_dom_classes": [],
       "_model_module": "nglview-js-widgets",
       "_model_module_version": "3.1.4",
       "_model_name": "ColormakerRegistryModel",
       "_msg_ar": [],
       "_msg_q": [],
       "_ready": false,
       "_view_count": null,
       "_view_module": "nglview-js-widgets",
       "_view_module_version": "3.1.4",
       "_view_name": "ColormakerRegistryView",
       "layout": "IPY_MODEL_343304b22d87408cbedd9fc443a6d97d",
       "tabbable": null,
       "tooltip": null
      }
     }
    },
    "version_major": 2,
    "version_minor": 0
   }
  }
 },
 "nbformat": 4,
 "nbformat_minor": 5
}
