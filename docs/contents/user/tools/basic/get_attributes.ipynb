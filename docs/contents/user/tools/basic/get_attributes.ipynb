{
 "cells": [
  {
   "cell_type": "code",
   "execution_count": null,
   "id": "7c755cb8-b260-4d73-9e84-90d6a20dd0eb",
   "metadata": {
    "tags": [
     "remove-input"
    ]
   },
   "outputs": [],
   "source": [
    "# This cell is removed with the tag: \"remove-input\"\n",
    "# As such, it will not be shown in documentation\n",
    "\n",
    "#import warnings\n",
    "#warnings.filterwarnings('ignore')"
   ]
  },
  {
   "cell_type": "markdown",
   "id": "095d0ac2-57d4-4581-ad7a-d1c3c3da7891",
   "metadata": {},
   "source": [
    "(Tutorial_Get_attributes)=\n",
    "# Get attributes\n",
    "\n",
    "*Getting the list of attributes of a molecular system.*\n",
    "\n",
    "Moleculars systems have attributes such as number of atoms, group ids, box shape or water model. The set of attributes of a system and its elements defines the system. It is what makes a molecular system different from others. And given that a system can take different forms, the number of attributes is limited by each form. For instance, a PDB file (form:\"file:pdb\") can store the atom names of a protein and the spatial coordinates of at least one structure, but the sequence of the one-letter code of its aminoacids (form:\"string:aminoacids1\") defines also a molecular system (the same system) with only an attribute -the group names- and without atom names and spatial coordinates. As such, the set of attributes of a specific form of a molecular system form contains all the information about the system this form can store or provide.\n",
    "\n",
    ":::{hint}\n",
    "Visit the section [User guide > Introduction > Molecular System](../../intro/molecular_systems/index.md) in case you are not familiar with the concepts of \"form\" or \"attribute\" in MolSysMT.\n",
    ":::\n",
    "\n",
    "The list of attributes defined in MolSysMT for a molecular system can be checked in the section [User guide > Introduction > Molecular system > Attributes](../../indtroduction/molecular_system/attributes.ipynb). And given a molecular system, the function {func}`molsysmt.basic.get_attributes` returns a dictionary where the user can find whether or not a specific attribute is present.\n",
    "\n",
    "## How this function works\n",
    "\n",
    ":::{admonition} API documentation\n",
    "Follow this link for a detailed description of the input arguments, raised errors, and returned objects of this function:{func}`molsysmt.basic.get_attributes`.\n",
    ":::"
   ]
  },
  {
   "cell_type": "code",
   "execution_count": null,
   "id": "bbecf5a9-b8d3-49ac-85e3-e7cea880c231",
   "metadata": {},
   "outputs": [],
   "source": [
    "import molsysmt as msm"
   ]
  },
  {
   "cell_type": "code",
   "execution_count": null,
   "id": "dcaa17b3-57a1-4335-bd47-53156e6fc0fb",
   "metadata": {},
   "outputs": [],
   "source": [
    "molecular_system = '181L'\n",
    "dict_attributes = msm.get_attributes(molecular_system)"
   ]
  },
  {
   "cell_type": "markdown",
   "id": "648c541b-096c-491d-b1e0-380dbc0f8ba5",
   "metadata": {},
   "source": [
    ":::{tip}\n",
    "All methods defined in the {ref}`molsysmt.basic <API basic>` module can be invoked also from the main level of the library. Hence, {func}`molsysmt.get_attributes` is the same method as {func}`molsysmt.basic.get_attributes`.\n",
    ":::\n"
   ]
  },
  {
   "cell_type": "markdown",
   "id": "cf52ffd6-04cc-4906-9f70-073a4ae98764",
   "metadata": {},
   "source": [
    "Let's inspect the resultant dictionary printing out only the keys with True value:"
   ]
  },
  {
   "cell_type": "code",
   "execution_count": null,
   "id": "b1cd56d3-1541-4504-94bf-810518ab150c",
   "metadata": {},
   "outputs": [],
   "source": [
    "print([key for key,value in dict_attributes.items() if value])"
   ]
  },
  {
   "cell_type": "markdown",
   "id": "872fc2d7-8da3-4a8b-97ec-533494ee67eb",
   "metadata": {},
   "source": [
    "As it was mentioned before, not all forms have the same attributes. Let's illustrate this having five different forms of the same molecular system:"
   ]
  },
  {
   "cell_type": "code",
   "execution_count": null,
   "id": "45cc237c-7947-4486-b8c7-bf1c9daae40d",
   "metadata": {},
   "outputs": [],
   "source": [
    "molecular_system_A = msm.convert('181L', to_form='181L.mmtf')\n",
    "dict_attributes_A = msm.get_attributes(molecular_system_A)"
   ]
  },
  {
   "cell_type": "code",
   "execution_count": null,
   "id": "733f98ce-6474-481d-9b86-fcdd1502bd9d",
   "metadata": {},
   "outputs": [],
   "source": [
    "molecular_system_B = msm.convert(molecular_system_A, to_form='molsysmt.MolSys')\n",
    "dict_attributes_B = msm.get_attributes(molecular_system_B)"
   ]
  },
  {
   "cell_type": "code",
   "execution_count": null,
   "id": "ab504f91-e953-49bc-98c5-53261d118b44",
   "metadata": {},
   "outputs": [],
   "source": [
    "molecular_system_C = msm.convert(molecular_system_A, to_form='openmm.Topology')\n",
    "dict_attributes_C = msm.get_attributes(molecular_system_C)"
   ]
  },
  {
   "cell_type": "code",
   "execution_count": null,
   "id": "1e9a600b-3e19-404d-a4a1-cd9c7d1cff69",
   "metadata": {},
   "outputs": [],
   "source": [
    "molecular_system_D = msm.convert(molecular_system_A, to_form='XYZ')\n",
    "dict_attributes_D = msm.get_attributes(molecular_system_D)"
   ]
  },
  {
   "cell_type": "code",
   "execution_count": null,
   "id": "02a0768b-3928-4f9e-9a69-42535835cd68",
   "metadata": {},
   "outputs": [],
   "source": [
    "molecular_system_E = msm.convert(molecular_system_A, to_form='string:aminoacids3')\n",
    "dict_attributes_E = msm.get_attributes(molecular_system_E)"
   ]
  },
  {
   "cell_type": "markdown",
   "id": "d1b0b5e9-be2f-45ce-ab93-4afc78e0d133",
   "metadata": {},
   "source": [
    "We can check now what forms have group names:"
   ]
  },
  {
   "cell_type": "code",
   "execution_count": null,
   "id": "3f45ae63-7649-4a61-ab05-719589307e96",
   "metadata": {},
   "outputs": [],
   "source": [
    "attribute = 'group_name'\n",
    "\n",
    "print('In A:', dict_attributes_A[attribute])\n",
    "print('In B:', dict_attributes_B[attribute])\n",
    "print('In C:', dict_attributes_C[attribute])\n",
    "print('In D:', dict_attributes_D[attribute])\n",
    "print('In E:', dict_attributes_E[attribute])"
   ]
  },
  {
   "cell_type": "markdown",
   "id": "3089cae6-7db4-448d-af21-7e21a6b0c89e",
   "metadata": {},
   "source": [
    "Or what forms have entity names, box, or coordinates:"
   ]
  },
  {
   "cell_type": "code",
   "execution_count": null,
   "id": "20315d98-9487-4215-aad5-3495699b340b",
   "metadata": {},
   "outputs": [],
   "source": [
    "attribute = 'entity_name'\n",
    "\n",
    "print('In A:', dict_attributes_A[attribute])\n",
    "print('In B:', dict_attributes_B[attribute])\n",
    "print('In C:', dict_attributes_C[attribute])\n",
    "print('In D:', dict_attributes_D[attribute])\n",
    "print('In E:', dict_attributes_E[attribute])"
   ]
  },
  {
   "cell_type": "code",
   "execution_count": null,
   "id": "84a273f8-fe32-4e2c-8e30-f04eadc47582",
   "metadata": {},
   "outputs": [],
   "source": [
    "attribute = 'box'\n",
    "\n",
    "print('In A:', dict_attributes_A[attribute])\n",
    "print('In B:', dict_attributes_B[attribute])\n",
    "print('In C:', dict_attributes_C[attribute])\n",
    "print('In D:', dict_attributes_D[attribute])\n",
    "print('In E:', dict_attributes_E[attribute])"
   ]
  },
  {
   "cell_type": "code",
   "execution_count": null,
   "id": "693927a4-6c0f-47a1-92d6-f0adde5d82d6",
   "metadata": {
    "editable": true,
    "slideshow": {
     "slide_type": ""
    },
    "tags": [
     "remove-input"
    ]
   },
   "outputs": [],
   "source": [
    "####### REMOVING FILES ############################\n",
    "# This cell is removed with the tag: \"remove-input\"\n",
    "# As such, it will not be shown in documentation\n",
    "\n",
    "import os\n",
    "os.remove('181L.mmtf')"
   ]
  },
  {
   "cell_type": "markdown",
   "id": "890015d4-8739-408f-9613-15b10a659c0d",
   "metadata": {},
   "source": [
    ":::{seealso}\n",
    "[User guide > Introduction > Molecular System > Forms](../../intro/molecular_systems/forms.md):    \n",
    "[User guide > Introduction > Molecular System > Attributes](../../intro/molecular_systems/attributes.ipynb):    \n",
    "[User guide > Tools > Basic > Convert](convert.ipynb):     \n",
    ":::"
   ]
  }
 ],
 "metadata": {
  "kernelspec": {
   "display_name": "Python 3 (ipykernel)",
   "language": "python",
   "name": "python3"
  },
  "language_info": {
   "codemirror_mode": {
    "name": "ipython",
    "version": 3
   },
   "file_extension": ".py",
   "mimetype": "text/x-python",
   "name": "python",
   "nbconvert_exporter": "python",
   "pygments_lexer": "ipython3",
   "version": "3.10.11"
  }
 },
 "nbformat": 4,
 "nbformat_minor": 5
}
