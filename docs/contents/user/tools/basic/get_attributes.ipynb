{
 "cells": [
  {
   "cell_type": "code",
   "execution_count": 1,
   "id": "7c755cb8-b260-4d73-9e84-90d6a20dd0eb",
   "metadata": {
    "execution": {
     "iopub.execute_input": "2025-04-13T02:35:48.920826Z",
     "iopub.status.busy": "2025-04-13T02:35:48.919916Z",
     "iopub.status.idle": "2025-04-13T02:35:48.935471Z",
     "shell.execute_reply": "2025-04-13T02:35:48.933487Z"
    },
    "tags": [
     "remove-input"
    ]
   },
   "outputs": [],
   "source": [
    "# This cell is removed with the tag: \"remove-input\"\n",
    "# As such, it will not be shown in documentation\n",
    "\n",
    "#import warnings\n",
    "#warnings.filterwarnings('ignore')"
   ]
  },
  {
   "cell_type": "markdown",
   "id": "095d0ac2-57d4-4581-ad7a-d1c3c3da7891",
   "metadata": {},
   "source": [
    "(Tutorial_Get_attributes)=\n",
    "# Get attributes\n",
    "\n",
    "*Retrieving the set of available attributes in a molecular system.*\n",
    "\n",
    "Molecular systems have attributes such as the number of atoms, the group ids, the box shape or the water model. The set of attribute values of a system and its elements defines a molecular system, making it different from others. And given that a system can take different forms, the attributes are also limited by each form.\n",
    "\n",
    ":::{hint}\n",
    "Visit the section [User guide > Introduction > Molecular System](../../intro/molecular_systems/index.md) in case you are not familiar with the concepts of \"form\" or \"attribute\" in MolSysMT.\n",
    ":::\n",
    "\n",
    "The list of attributes defined in MolSysMT for a molecular system can be checked in the section [User guide > Introduction > Molecular system > Attributes](../../intro/molecular_system/attributes.ipynb). And given a molecular system, the function {func}`molsysmt.basic.get_attributes` returns a dictionary where the user can find whether or not a specific attribute with a value different from `None` is present.\n",
    "\n",
    "\n",
    "## How this function works\n",
    "\n",
    ":::{admonition} API documentation\n",
    "Follow this link for a detailed description of the input arguments, raised errors, and returned objects of this function:{func}`molsysmt.basic.get_attributes`.\n",
    ":::"
   ]
  },
  {
   "cell_type": "code",
   "execution_count": 2,
   "id": "bbecf5a9-b8d3-49ac-85e3-e7cea880c231",
   "metadata": {
    "execution": {
     "iopub.execute_input": "2025-04-13T02:35:48.942102Z",
     "iopub.status.busy": "2025-04-13T02:35:48.941463Z",
     "iopub.status.idle": "2025-04-13T02:35:53.879646Z",
     "shell.execute_reply": "2025-04-13T02:35:53.878758Z"
    }
   },
   "outputs": [
    {
     "data": {
      "application/vnd.jupyter.widget-view+json": {
       "model_id": "0aa1a3bfa835415789554083b1a761c0",
       "version_major": 2,
       "version_minor": 0
      },
      "text/plain": []
     },
     "metadata": {},
     "output_type": "display_data"
    }
   ],
   "source": [
    "import molsysmt as msm"
   ]
  },
  {
   "cell_type": "code",
   "execution_count": 3,
   "id": "dcaa17b3-57a1-4335-bd47-53156e6fc0fb",
   "metadata": {
    "execution": {
     "iopub.execute_input": "2025-04-13T02:35:53.882371Z",
     "iopub.status.busy": "2025-04-13T02:35:53.881966Z",
     "iopub.status.idle": "2025-04-13T02:35:55.867640Z",
     "shell.execute_reply": "2025-04-13T02:35:55.866899Z"
    }
   },
   "outputs": [],
   "source": [
    "molecular_system = msm.convert('181L', to_form='openmm.Topology')\n",
    "dict_attributes = msm.get_attributes(molecular_system)"
   ]
  },
  {
   "cell_type": "markdown",
   "id": "648c541b-096c-491d-b1e0-380dbc0f8ba5",
   "metadata": {},
   "source": [
    ":::{tip}\n",
    "All methods defined in the {ref}`molsysmt.basic <API basic>` module can be invoked also from the main level of the library. Hence, {func}`molsysmt.get_attributes` is the same method as {func}`molsysmt.basic.get_attributes`.\n",
    ":::\n"
   ]
  },
  {
   "cell_type": "markdown",
   "id": "cf52ffd6-04cc-4906-9f70-073a4ae98764",
   "metadata": {},
   "source": [
    "Let's inspect the resultant dictionary:"
   ]
  },
  {
   "cell_type": "code",
   "execution_count": 4,
   "id": "c5ddabde-ab07-4fe4-be22-9c5ef79e6ab9",
   "metadata": {
    "execution": {
     "iopub.execute_input": "2025-04-13T02:35:55.870463Z",
     "iopub.status.busy": "2025-04-13T02:35:55.869936Z",
     "iopub.status.idle": "2025-04-13T02:35:55.876262Z",
     "shell.execute_reply": "2025-04-13T02:35:55.875645Z"
    }
   },
   "outputs": [
    {
     "data": {
      "text/plain": [
       "True"
      ]
     },
     "execution_count": 4,
     "metadata": {},
     "output_type": "execute_result"
    }
   ],
   "source": [
    "dict_attributes['box_volume']"
   ]
  },
  {
   "cell_type": "code",
   "execution_count": 5,
   "id": "1b93cfea-b1c5-4036-8f5e-d204212bd09a",
   "metadata": {
    "execution": {
     "iopub.execute_input": "2025-04-13T02:35:55.878635Z",
     "iopub.status.busy": "2025-04-13T02:35:55.878069Z",
     "iopub.status.idle": "2025-04-13T02:35:55.882321Z",
     "shell.execute_reply": "2025-04-13T02:35:55.881708Z"
    }
   },
   "outputs": [
    {
     "data": {
      "text/plain": [
       "False"
      ]
     },
     "execution_count": 5,
     "metadata": {},
     "output_type": "execute_result"
    }
   ],
   "source": [
    "dict_attributes['forcefield']"
   ]
  },
  {
   "cell_type": "markdown",
   "id": "872fc2d7-8da3-4a8b-97ec-533494ee67eb",
   "metadata": {},
   "source": [
    "As mentioned earlier, not all molecular systems have all attributes with non-`None` values.. If this is the case, the function {func}`molsysmt.basic.get_attributes` returns False for these attributes -although they can be contained in the corresponding molecular system's form-:"
   ]
  },
  {
   "cell_type": "code",
   "execution_count": 6,
   "id": "d709a15c-055f-4216-b78f-744aef084374",
   "metadata": {
    "execution": {
     "iopub.execute_input": "2025-04-13T02:35:55.884606Z",
     "iopub.status.busy": "2025-04-13T02:35:55.884288Z",
     "iopub.status.idle": "2025-04-13T02:35:55.888023Z",
     "shell.execute_reply": "2025-04-13T02:35:55.887360Z"
    }
   },
   "outputs": [],
   "source": [
    "msm.set(molecular_system, box=None)"
   ]
  },
  {
   "cell_type": "code",
   "execution_count": 7,
   "id": "8925a994-72c6-48a5-bb81-a43522543788",
   "metadata": {
    "execution": {
     "iopub.execute_input": "2025-04-13T02:35:55.889950Z",
     "iopub.status.busy": "2025-04-13T02:35:55.889740Z",
     "iopub.status.idle": "2025-04-13T02:35:55.893101Z",
     "shell.execute_reply": "2025-04-13T02:35:55.892437Z"
    }
   },
   "outputs": [],
   "source": [
    "dict_attributes = msm.get_attributes(molecular_system)"
   ]
  },
  {
   "cell_type": "code",
   "execution_count": 8,
   "id": "c3cdd239-43d6-4944-b5b1-04910c4c44ff",
   "metadata": {
    "execution": {
     "iopub.execute_input": "2025-04-13T02:35:55.894892Z",
     "iopub.status.busy": "2025-04-13T02:35:55.894685Z",
     "iopub.status.idle": "2025-04-13T02:35:55.899025Z",
     "shell.execute_reply": "2025-04-13T02:35:55.898434Z"
    }
   },
   "outputs": [
    {
     "data": {
      "text/plain": [
       "False"
      ]
     },
     "execution_count": 8,
     "metadata": {},
     "output_type": "execute_result"
    }
   ],
   "source": [
    "dict_attributes['box_volume']"
   ]
  },
  {
   "cell_type": "markdown",
   "id": "2490891a-b2b3-4350-a892-88ada5ac4254",
   "metadata": {},
   "source": [
    ":::{note}\n",
    "Have a look to the function {func}`molsysmt.form.has_attribute` if the presence of a specific attribute needs to be checked in a molecular system. However, if instead of the attributes of a molecular system, the attributes of a molecular system's form need to be checked make use of the functions {func}`molsysmt.form.get_attributes` and {func}`molsysmt.form.has_attribute`.\n",
    ":::"
   ]
  },
  {
   "cell_type": "markdown",
   "id": "890015d4-8739-408f-9613-15b10a659c0d",
   "metadata": {},
   "source": [
    ":::{seealso}\n",
    "[User guide > Introduction > Molecular System > Forms](../../intro/molecular_systems/forms.md):   \n",
    "Description of the different forms used for molecular systems.\n",
    "\n",
    "[User guide > Introduction > Molecular System > Attributes](../../intro/molecular_systems/attributes.ipynb):   \n",
    "List and definition of the attributes available in MolSysMT for molecular systems.\n",
    "\n",
    "[User guide > Tools > Basic > Convert](convert.ipynb):    \n",
    "Convert a molecular system into another form or format.    \n",
    "\n",
    "[User guide > Tools > Basic > Has attribute](has_attribute.ipynb):   \n",
    "Check if a molecular system has a specific attribute.    \n",
    "\n",
    "[User guide > Tools > Form > Get attributes](get_attributes.ipynb):    \n",
    "List attributes available for a specific molecular system.     \n",
    "\n",
    "[User guide > Tools > Form > Has attribute](has_attribute.ipynb):     \n",
    "Check if a specific form supports an attribute.     \n",
    ":::"
   ]
  },
  {
   "cell_type": "code",
   "execution_count": null,
   "id": "77fe125c-5336-41ce-83e5-d3da86bd53e9",
   "metadata": {},
   "outputs": [],
   "source": []
  }
 ],
 "metadata": {
  "kernelspec": {
   "display_name": "Python 3 (ipykernel)",
   "language": "python",
   "name": "python3"
  },
  "language_info": {
   "codemirror_mode": {
    "name": "ipython",
    "version": 3
   },
   "file_extension": ".py",
   "mimetype": "text/x-python",
   "name": "python",
   "nbconvert_exporter": "python",
   "pygments_lexer": "ipython3",
   "version": "3.12.9"
  },
  "widgets": {
   "application/vnd.jupyter.widget-state+json": {
    "state": {
     "0aa1a3bfa835415789554083b1a761c0": {
      "model_module": "nglview-js-widgets",
      "model_module_version": "3.0.8",
      "model_name": "ColormakerRegistryModel",
      "state": {
       "_dom_classes": [],
       "_model_module": "nglview-js-widgets",
       "_model_module_version": "3.0.8",
       "_model_name": "ColormakerRegistryModel",
       "_msg_ar": [],
       "_msg_q": [],
       "_ready": false,
       "_view_count": null,
       "_view_module": "nglview-js-widgets",
       "_view_module_version": "3.0.8",
       "_view_name": "ColormakerRegistryView",
       "layout": "IPY_MODEL_a457a1a2c1e7430f85e7ad50bc962955",
       "tabbable": null,
       "tooltip": null
      }
     },
     "a457a1a2c1e7430f85e7ad50bc962955": {
      "model_module": "@jupyter-widgets/base",
      "model_module_version": "2.0.0",
      "model_name": "LayoutModel",
      "state": {
       "_model_module": "@jupyter-widgets/base",
       "_model_module_version": "2.0.0",
       "_model_name": "LayoutModel",
       "_view_count": null,
       "_view_module": "@jupyter-widgets/base",
       "_view_module_version": "2.0.0",
       "_view_name": "LayoutView",
       "align_content": null,
       "align_items": null,
       "align_self": null,
       "border_bottom": null,
       "border_left": null,
       "border_right": null,
       "border_top": null,
       "bottom": null,
       "display": null,
       "flex": null,
       "flex_flow": null,
       "grid_area": null,
       "grid_auto_columns": null,
       "grid_auto_flow": null,
       "grid_auto_rows": null,
       "grid_column": null,
       "grid_gap": null,
       "grid_row": null,
       "grid_template_areas": null,
       "grid_template_columns": null,
       "grid_template_rows": null,
       "height": null,
       "justify_content": null,
       "justify_items": null,
       "left": null,
       "margin": null,
       "max_height": null,
       "max_width": null,
       "min_height": null,
       "min_width": null,
       "object_fit": null,
       "object_position": null,
       "order": null,
       "overflow": null,
       "padding": null,
       "right": null,
       "top": null,
       "visibility": null,
       "width": null
      }
     }
    },
    "version_major": 2,
    "version_minor": 0
   }
  }
 },
 "nbformat": 4,
 "nbformat_minor": 5
}
