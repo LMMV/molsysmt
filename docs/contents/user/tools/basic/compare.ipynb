{
 "cells": [
  {
   "cell_type": "code",
   "execution_count": 1,
   "id": "9cc07af9-2c01-478e-88e9-f98f715bfba2",
   "metadata": {
    "execution": {
     "iopub.execute_input": "2025-04-09T06:00:29.971474Z",
     "iopub.status.busy": "2025-04-09T06:00:29.970131Z",
     "iopub.status.idle": "2025-04-09T06:00:29.993174Z",
     "shell.execute_reply": "2025-04-09T06:00:29.989532Z"
    },
    "tags": [
     "remove-input"
    ]
   },
   "outputs": [],
   "source": [
    "# This cell is removed with the tag: \"remove-input\"\n",
    "# As such, it will not be shown in documentation\n",
    "\n",
    "import warnings\n",
    "warnings.filterwarnings('ignore')"
   ]
  },
  {
   "cell_type": "markdown",
   "id": "f5d55d2e-7cbd-4680-9fc5-c71bfb10e5a9",
   "metadata": {},
   "source": [
    "(Tutorial_Compare)=\n",
    "# Compare\n",
    "\n",
    "*Comparing molecular systems.*\n",
    "\n",
    "The function {func}`molsysmt.basic.compare` allows you to compare two molecular systems, or specific parts of them, based on selected attributes.\n",
    "\n",
    "## How this function works\n",
    "\n",
    "```{admonition} API documentation\n",
    "Follow this link for a detailed description of the input arguments, raised errors, and returned objects of this function:{func}`molsysmt.basic.compare`.\n",
    "```\n",
    "\n",
    "Let's explore how to compare molecular systems using the following three systems:"
   ]
  },
  {
   "cell_type": "code",
   "execution_count": 2,
   "id": "f7977816-1701-4d87-b174-af114747cff5",
   "metadata": {
    "execution": {
     "iopub.execute_input": "2025-04-09T06:00:30.008127Z",
     "iopub.status.busy": "2025-04-09T06:00:30.006803Z",
     "iopub.status.idle": "2025-04-09T06:00:36.951297Z",
     "shell.execute_reply": "2025-04-09T06:00:36.950329Z"
    }
   },
   "outputs": [
    {
     "data": {
      "application/vnd.jupyter.widget-view+json": {
       "model_id": "36e830d227a841fc909c674f551c69da",
       "version_major": 2,
       "version_minor": 0
      },
      "text/plain": []
     },
     "metadata": {},
     "output_type": "display_data"
    }
   ],
   "source": [
    "import molsysmt as msm"
   ]
  },
  {
   "cell_type": "code",
   "execution_count": 3,
   "id": "49b60f38-a42d-4e2f-8aa8-4d4c614cbcac",
   "metadata": {
    "execution": {
     "iopub.execute_input": "2025-04-09T06:00:36.956303Z",
     "iopub.status.busy": "2025-04-09T06:00:36.953891Z",
     "iopub.status.idle": "2025-04-09T06:00:40.098302Z",
     "shell.execute_reply": "2025-04-09T06:00:40.097462Z"
    }
   },
   "outputs": [],
   "source": [
    "molsys_A = msm.convert('pdb_id:181L', to_form='openmm.Modeller')\n",
    "molsys_B = msm.convert(molsys_A, to_form='molsysmt.MolSys')\n",
    "molsys_C = msm.extract(molsys_B, selection='molecule_type==\"protein\"')"
   ]
  },
  {
   "cell_type": "markdown",
   "id": "8773c6dd-cd12-4ca9-a619-62da6b03112c",
   "metadata": {},
   "source": [
    "TThe systems $A$ and $B$ are equivalent in content—they only differ in form. System $C$ is a subset of the same molecular system, using the same form as $B$.\n",
    "\n",
    "Let's make some comparisons between these systems to illustrate how {func}`molsysmt.basic.compare` works:"
   ]
  },
  {
   "cell_type": "code",
   "execution_count": 4,
   "id": "f5bca6f9-b26b-4a17-8fa2-c503bbe36e89",
   "metadata": {
    "execution": {
     "iopub.execute_input": "2025-04-09T06:00:40.101058Z",
     "iopub.status.busy": "2025-04-09T06:00:40.100575Z",
     "iopub.status.idle": "2025-04-09T06:00:45.953854Z",
     "shell.execute_reply": "2025-04-09T06:00:45.952861Z"
    }
   },
   "outputs": [
    {
     "data": {
      "text/plain": [
       "True"
      ]
     },
     "execution_count": 4,
     "metadata": {},
     "output_type": "execute_result"
    }
   ],
   "source": [
    "msm.compare(molsys_A, molsys_B)"
   ]
  },
  {
   "cell_type": "code",
   "execution_count": 5,
   "id": "a5b057cf-9bc7-4ac3-8e4f-fdef4ac6ab6a",
   "metadata": {
    "execution": {
     "iopub.execute_input": "2025-04-09T06:00:45.958724Z",
     "iopub.status.busy": "2025-04-09T06:00:45.958214Z",
     "iopub.status.idle": "2025-04-09T06:00:56.948234Z",
     "shell.execute_reply": "2025-04-09T06:00:56.945896Z"
    }
   },
   "outputs": [
    {
     "data": {
      "text/plain": [
       "False"
      ]
     },
     "execution_count": 5,
     "metadata": {},
     "output_type": "execute_result"
    }
   ],
   "source": [
    "msm.compare(molsys_B, molsys_C)"
   ]
  },
  {
   "cell_type": "markdown",
   "id": "08bbeff9-0531-45ad-8924-391eaabe475e",
   "metadata": {},
   "source": [
    "```{admonition} Tip\n",
    ":class: tip\n",
    "All methods defined in the {ref}`molsysmt.basic <API basic>` module can also be invoked from the top level of the library. Therefore, {func}`molsysmt.compare` is equivalent to {func}`molsysmt.basic.compare`.\n",
    "```"
   ]
  },
  {
   "cell_type": "markdown",
   "id": "c8f8959d-557d-450e-a66d-e876e8f176bf",
   "metadata": {},
   "source": [
    "By default, only the elements are compared. Other attributes as `coordinates`, `box` or `n_groups` can be included explicitly in the comparison:"
   ]
  },
  {
   "cell_type": "code",
   "execution_count": 6,
   "id": "352c9a64-1327-42ab-9f02-43893cbcfecd",
   "metadata": {
    "execution": {
     "iopub.execute_input": "2025-04-09T06:00:56.965903Z",
     "iopub.status.busy": "2025-04-09T06:00:56.964628Z",
     "iopub.status.idle": "2025-04-09T06:00:59.823349Z",
     "shell.execute_reply": "2025-04-09T06:00:59.822336Z"
    }
   },
   "outputs": [
    {
     "data": {
      "text/plain": [
       "True"
      ]
     },
     "execution_count": 6,
     "metadata": {},
     "output_type": "execute_result"
    }
   ],
   "source": [
    "msm.compare(molsys_A, molsys_B, coordinates=True, box=True, n_groups=True)"
   ]
  },
  {
   "cell_type": "code",
   "execution_count": 7,
   "id": "94c64e85-4d97-424c-8d70-c7bd01a82540",
   "metadata": {
    "execution": {
     "iopub.execute_input": "2025-04-09T06:00:59.828433Z",
     "iopub.status.busy": "2025-04-09T06:00:59.828014Z",
     "iopub.status.idle": "2025-04-09T06:01:06.392691Z",
     "shell.execute_reply": "2025-04-09T06:01:06.391309Z"
    }
   },
   "outputs": [
    {
     "data": {
      "text/plain": [
       "False"
      ]
     },
     "execution_count": 7,
     "metadata": {},
     "output_type": "execute_result"
    }
   ],
   "source": [
    "msm.compare(molsys_B, molsys_C, coordinates=True, box=True, n_groups=True)"
   ]
  },
  {
   "cell_type": "markdown",
   "id": "b02135ea-6692-428a-a87f-f599e8a10f7a",
   "metadata": {},
   "source": [
    "A detailed report showing the result for each attribute can be obtained by setting the `output_type=\"dictionary\"` argument:"
   ]
  },
  {
   "cell_type": "code",
   "execution_count": 8,
   "id": "4a48d678-ab15-4c87-98c6-9e4aa03c5040",
   "metadata": {
    "execution": {
     "iopub.execute_input": "2025-04-09T06:01:06.399027Z",
     "iopub.status.busy": "2025-04-09T06:01:06.398352Z",
     "iopub.status.idle": "2025-04-09T06:01:11.338369Z",
     "shell.execute_reply": "2025-04-09T06:01:11.336755Z"
    }
   },
   "outputs": [
    {
     "data": {
      "text/plain": [
       "{'n_groups': False, 'box': True, 'coordinates': False}"
      ]
     },
     "execution_count": 8,
     "metadata": {},
     "output_type": "execute_result"
    }
   ],
   "source": [
    "msm.compare(molsys_B, molsys_C, coordinates=True, box=True, n_groups=True, output_type='dictionary')"
   ]
  },
  {
   "cell_type": "markdown",
   "id": "cf399d39-fee8-4f48-a74f-1d26a1d8e2cc",
   "metadata": {},
   "source": [
    "You can also test for the negation of a condition by setting the attribute value to `False`:"
   ]
  },
  {
   "cell_type": "code",
   "execution_count": 9,
   "id": "bd2ce323-000a-4edb-9b1a-1fe6e02a8552",
   "metadata": {
    "execution": {
     "iopub.execute_input": "2025-04-09T06:01:11.341128Z",
     "iopub.status.busy": "2025-04-09T06:01:11.340839Z",
     "iopub.status.idle": "2025-04-09T06:01:15.321455Z",
     "shell.execute_reply": "2025-04-09T06:01:15.319151Z"
    }
   },
   "outputs": [
    {
     "data": {
      "text/plain": [
       "{'n_groups': True, 'box': True, 'coordinates': True}"
      ]
     },
     "execution_count": 9,
     "metadata": {},
     "output_type": "execute_result"
    }
   ],
   "source": [
    "msm.compare(molsys_B, molsys_C, coordinates=False, box=True, n_groups=False, output_type='dictionary')"
   ]
  },
  {
   "cell_type": "markdown",
   "id": "69b02172-6e69-419d-a8c1-07001765e617",
   "metadata": {},
   "source": [
    "Remember, you can restrict the comparison to specific elements or structures using the arguments `selection`, `structure_indices`, `selection_2` and `structure_indices_2`:"
   ]
  },
  {
   "cell_type": "code",
   "execution_count": 10,
   "id": "33cf40d9-ec1c-4d99-aea4-ebc7a45592f8",
   "metadata": {
    "execution": {
     "iopub.execute_input": "2025-04-09T06:01:15.324962Z",
     "iopub.status.busy": "2025-04-09T06:01:15.324427Z",
     "iopub.status.idle": "2025-04-09T06:01:21.752476Z",
     "shell.execute_reply": "2025-04-09T06:01:21.751066Z"
    }
   },
   "outputs": [
    {
     "data": {
      "text/plain": [
       "{'n_groups': True, 'box': True, 'coordinates': True}"
      ]
     },
     "execution_count": 10,
     "metadata": {},
     "output_type": "execute_result"
    }
   ],
   "source": [
    "msm.compare(molsys_B, molsys_C, selection='molecule_type==\"protein\"', selection_2='all',\n",
    "            coordinates=True, box=True, n_groups=True, output_type='dictionary')"
   ]
  },
  {
   "cell_type": "markdown",
   "id": "cbf6ecf8-96b4-4ef4-a7b3-2b848d00223b",
   "metadata": {},
   "source": [
    ":::{seealso}  \n",
    "[User guide > Tools > Basic > Convert](convert.ipynb):    \n",
    "Converting a molecular system into a different form.    \n",
    "\n",
    "[User guide > Tools > Basic > Extract](extract.ipynb):    \n",
    "Extracting a portion of a molecular system.    \n",
    ":::"
   ]
  }
 ],
 "metadata": {
  "kernelspec": {
   "display_name": "Python 3 (ipykernel)",
   "language": "python",
   "name": "python3"
  },
  "language_info": {
   "codemirror_mode": {
    "name": "ipython",
    "version": 3
   },
   "file_extension": ".py",
   "mimetype": "text/x-python",
   "name": "python",
   "nbconvert_exporter": "python",
   "pygments_lexer": "ipython3",
   "version": "3.12.9"
  },
  "widgets": {
   "application/vnd.jupyter.widget-state+json": {
    "state": {
     "3248a73050f047bf8383e9b53b09452a": {
      "model_module": "@jupyter-widgets/base",
      "model_module_version": "2.0.0",
      "model_name": "LayoutModel",
      "state": {
       "_model_module": "@jupyter-widgets/base",
       "_model_module_version": "2.0.0",
       "_model_name": "LayoutModel",
       "_view_count": null,
       "_view_module": "@jupyter-widgets/base",
       "_view_module_version": "2.0.0",
       "_view_name": "LayoutView",
       "align_content": null,
       "align_items": null,
       "align_self": null,
       "border_bottom": null,
       "border_left": null,
       "border_right": null,
       "border_top": null,
       "bottom": null,
       "display": null,
       "flex": null,
       "flex_flow": null,
       "grid_area": null,
       "grid_auto_columns": null,
       "grid_auto_flow": null,
       "grid_auto_rows": null,
       "grid_column": null,
       "grid_gap": null,
       "grid_row": null,
       "grid_template_areas": null,
       "grid_template_columns": null,
       "grid_template_rows": null,
       "height": null,
       "justify_content": null,
       "justify_items": null,
       "left": null,
       "margin": null,
       "max_height": null,
       "max_width": null,
       "min_height": null,
       "min_width": null,
       "object_fit": null,
       "object_position": null,
       "order": null,
       "overflow": null,
       "padding": null,
       "right": null,
       "top": null,
       "visibility": null,
       "width": null
      }
     },
     "36e830d227a841fc909c674f551c69da": {
      "model_module": "nglview-js-widgets",
      "model_module_version": "3.0.8",
      "model_name": "ColormakerRegistryModel",
      "state": {
       "_dom_classes": [],
       "_model_module": "nglview-js-widgets",
       "_model_module_version": "3.0.8",
       "_model_name": "ColormakerRegistryModel",
       "_msg_ar": [],
       "_msg_q": [],
       "_ready": false,
       "_view_count": null,
       "_view_module": "nglview-js-widgets",
       "_view_module_version": "3.0.8",
       "_view_name": "ColormakerRegistryView",
       "layout": "IPY_MODEL_3248a73050f047bf8383e9b53b09452a",
       "tabbable": null,
       "tooltip": null
      }
     }
    },
    "version_major": 2,
    "version_minor": 0
   }
  }
 },
 "nbformat": 4,
 "nbformat_minor": 5
}
