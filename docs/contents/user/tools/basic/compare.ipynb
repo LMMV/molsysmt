{
 "cells": [
  {
   "cell_type": "code",
   "execution_count": null,
   "id": "9cc07af9-2c01-478e-88e9-f98f715bfba2",
   "metadata": {
    "tags": [
     "remove-input"
    ]
   },
   "outputs": [],
   "source": [
    "# This cell is removed with the tag: \"remove-input\"\n",
    "# As such, it will not be shown in documentation\n",
    "\n",
    "import warnings\n",
    "warnings.filterwarnings('ignore')\n"
   ]
  },
  {
   "cell_type": "markdown",
   "id": "f5d55d2e-7cbd-4680-9fc5-c71bfb10e5a9",
   "metadata": {},
   "source": [
    "(UserGuide_Tools_Basic_Compare)=\n",
    "# Compare\n",
    "\n",
    "*Comparing molecular systems*\n",
    "\n",
    "The function {func}`molsysmt.basic.compare` gives you the posibility to compare molecular systems.\n",
    "\n",
    "Let's show how to compare molecular systems with the following three systems:"
   ]
  },
  {
   "cell_type": "code",
   "execution_count": null,
   "id": "f7977816-1701-4d87-b174-af114747cff5",
   "metadata": {},
   "outputs": [],
   "source": [
    "import molsysmt as msm"
   ]
  },
  {
   "cell_type": "code",
   "execution_count": null,
   "id": "49b60f38-a42d-4e2f-8aa8-4d4c614cbcac",
   "metadata": {},
   "outputs": [],
   "source": [
    "molecular_system_A = msm.convert('pdb_id:181L', to_form='openmm.Modeller')\n",
    "molecular_system_B = msm.convert(molecular_system_A, to_form='molsysmt.MolSys')\n",
    "molecular_system_C = msm.extract(molecular_system_B, selection='molecule_type==\"protein\"')"
   ]
  },
  {
   "cell_type": "markdown",
   "id": "8773c6dd-cd12-4ca9-a619-62da6b03112c",
   "metadata": {},
   "source": [
    "The systems $A$ and $B$ are equal, they only differ in the form. And $C$ is just a part of the same molecular system with the same form as $B$.\n",
    "\n",
    "Let's make some comparisons between these systems to illustrate how {func}`molsysmt.basic.compare` works:"
   ]
  },
  {
   "cell_type": "code",
   "execution_count": null,
   "id": "f5bca6f9-b26b-4a17-8fa2-c503bbe36e89",
   "metadata": {},
   "outputs": [],
   "source": [
    "msm.compare(molecular_system_A, molecular_system_B)"
   ]
  },
  {
   "cell_type": "code",
   "execution_count": null,
   "id": "a5b057cf-9bc7-4ac3-8e4f-fdef4ac6ab6a",
   "metadata": {},
   "outputs": [],
   "source": [
    "msm.compare(molecular_system_B, molecular_system_C)"
   ]
  },
  {
   "cell_type": "markdown",
   "id": "08bbeff9-0531-45ad-8924-391eaabe475e",
   "metadata": {},
   "source": [
    "```{admonition} Tip\n",
    ":class: tip\n",
    "All methods defined in the {ref}`molsysmt.basic <API basic>` module can be invoked also from the main level of the library. As such, {func}`molsysmt.compare` is the same method as {func}`molsysmt.basic.compare`.\n",
    "```"
   ]
  },
  {
   "cell_type": "markdown",
   "id": "c8f8959d-557d-450e-a66d-e876e8f176bf",
   "metadata": {},
   "source": [
    "By default, only the elements are compared. Other attributes as `coordinates`, `box` or `form` can be introduced in the comparison:"
   ]
  },
  {
   "cell_type": "code",
   "execution_count": null,
   "id": "352c9a64-1327-42ab-9f02-43893cbcfecd",
   "metadata": {},
   "outputs": [],
   "source": [
    "msm.compare(molecular_system_A, molecular_system_B, form=True)"
   ]
  },
  {
   "cell_type": "code",
   "execution_count": null,
   "id": "94c64e85-4d97-424c-8d70-c7bd01a82540",
   "metadata": {},
   "outputs": [],
   "source": [
    "msm.compare(molecular_system_B, molecular_system_C, elements=False, form=True)"
   ]
  },
  {
   "cell_type": "markdown",
   "id": "b02135ea-6692-428a-a87f-f599e8a10f7a",
   "metadata": {},
   "source": [
    "A detailed report by attributes compared can be obtained with the input argument `report=True`:"
   ]
  },
  {
   "cell_type": "code",
   "execution_count": null,
   "id": "4a48d678-ab15-4c87-98c6-9e4aa03c5040",
   "metadata": {},
   "outputs": [],
   "source": [
    "result, report = msm.compare(molecular_system_B, molecular_system_C, form=True, report=True)"
   ]
  },
  {
   "cell_type": "code",
   "execution_count": null,
   "id": "0291e66d-f640-491a-998f-3acdf1621e45",
   "metadata": {},
   "outputs": [],
   "source": [
    "report"
   ]
  },
  {
   "cell_type": "markdown",
   "id": "cbf6ecf8-96b4-4ef4-a7b3-2b848d00223b",
   "metadata": {},
   "source": [
    "```{admonition} See also\n",
    ":class: attention\n",
    "{func}`molsysmt.basic.compare`, {func}`molsysmt.basic.convert`, {func}`molsysmt.basic.extract`\n",
    "```"
   ]
  }
 ],
 "metadata": {
  "kernelspec": {
   "display_name": "Python 3 (ipykernel)",
   "language": "python",
   "name": "python3"
  },
  "language_info": {
   "codemirror_mode": {
    "name": "ipython",
    "version": 3
   },
   "file_extension": ".py",
   "mimetype": "text/x-python",
   "name": "python",
   "nbconvert_exporter": "python",
   "pygments_lexer": "ipython3",
   "version": "3.9.15"
  }
 },
 "nbformat": 4,
 "nbformat_minor": 5
}
