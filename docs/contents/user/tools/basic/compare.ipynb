{
 "cells": [
  {
   "cell_type": "code",
   "execution_count": 1,
   "id": "9cc07af9-2c01-478e-88e9-f98f715bfba2",
   "metadata": {
    "tags": [
     "remove-input"
    ]
   },
   "outputs": [],
   "source": [
    "# This cell is removed with the tag: \"remove-input\"\n",
    "# As such, it will not be shown in documentation\n",
    "\n",
    "import warnings\n",
    "warnings.filterwarnings('ignore')\n"
   ]
  },
  {
   "cell_type": "markdown",
   "id": "f5d55d2e-7cbd-4680-9fc5-c71bfb10e5a9",
   "metadata": {},
   "source": [
    "(UserGuide_Tools_Basic_Compare)=\n",
    "# Compare\n",
    "\n",
    "*Comparing molecular systems*\n",
    "\n",
    "The function {func}`molsysmt.basic.compare` gives you the posibility to compare molecular systems.\n",
    "\n",
    "Let's show how to compare molecular systems with the following three systems:"
   ]
  },
  {
   "cell_type": "code",
   "execution_count": 2,
   "id": "f7977816-1701-4d87-b174-af114747cff5",
   "metadata": {},
   "outputs": [
    {
     "data": {
      "application/vnd.jupyter.widget-view+json": {
       "model_id": "d059b00959294de58f992399e7f7c001",
       "version_major": 2,
       "version_minor": 0
      },
      "text/plain": []
     },
     "metadata": {},
     "output_type": "display_data"
    }
   ],
   "source": [
    "import molsysmt as msm"
   ]
  },
  {
   "cell_type": "code",
   "execution_count": 3,
   "id": "49b60f38-a42d-4e2f-8aa8-4d4c614cbcac",
   "metadata": {},
   "outputs": [],
   "source": [
    "molecular_system_A = msm.convert('pdb_id:181L', to_form='openmm.Modeller')\n",
    "molecular_system_B = msm.convert(molecular_system_A, to_form='molsysmt.MolSys')\n",
    "molecular_system_C = msm.extract(molecular_system_B, selection='molecule_type==\"protein\"')"
   ]
  },
  {
   "cell_type": "markdown",
   "id": "8773c6dd-cd12-4ca9-a619-62da6b03112c",
   "metadata": {},
   "source": [
    "The systems $A$ and $B$ are equal, they only differ in the form. And $C$ is just a part of the same molecular system with the same form as $B$.\n",
    "\n",
    "Let's make some comparisons between these systems to illustrate how {func}`molsysmt.basic.compare` works:"
   ]
  },
  {
   "cell_type": "code",
   "execution_count": 4,
   "id": "f5bca6f9-b26b-4a17-8fa2-c503bbe36e89",
   "metadata": {},
   "outputs": [
    {
     "data": {
      "text/plain": [
       "True"
      ]
     },
     "execution_count": 4,
     "metadata": {},
     "output_type": "execute_result"
    }
   ],
   "source": [
    "msm.compare(molecular_system_A, molecular_system_B)"
   ]
  },
  {
   "cell_type": "code",
   "execution_count": 5,
   "id": "a5b057cf-9bc7-4ac3-8e4f-fdef4ac6ab6a",
   "metadata": {},
   "outputs": [
    {
     "data": {
      "text/plain": [
       "False"
      ]
     },
     "execution_count": 5,
     "metadata": {},
     "output_type": "execute_result"
    }
   ],
   "source": [
    "msm.compare(molecular_system_B, molecular_system_C)"
   ]
  },
  {
   "cell_type": "markdown",
   "id": "08bbeff9-0531-45ad-8924-391eaabe475e",
   "metadata": {},
   "source": [
    "```{admonition} Tip\n",
    ":class: tip\n",
    "All methods defined in the {ref}`molsysmt.basic <API basic>` module can be invoked also from the main level of the library. As such, {func}`molsysmt.compare` is the same method as {func}`molsysmt.basic.compare`.\n",
    "```"
   ]
  },
  {
   "cell_type": "markdown",
   "id": "c8f8959d-557d-450e-a66d-e876e8f176bf",
   "metadata": {},
   "source": [
    "By default, only the elements are compared. Other attributes as `coordinates`, `box` or `n_groups` can be introduced in the comparison:"
   ]
  },
  {
   "cell_type": "code",
   "execution_count": 7,
   "id": "352c9a64-1327-42ab-9f02-43893cbcfecd",
   "metadata": {},
   "outputs": [
    {
     "data": {
      "text/plain": [
       "True"
      ]
     },
     "execution_count": 7,
     "metadata": {},
     "output_type": "execute_result"
    }
   ],
   "source": [
    "msm.compare(molecular_system_A, molecular_system_B, n_groups=True)"
   ]
  },
  {
   "cell_type": "code",
   "execution_count": 8,
   "id": "94c64e85-4d97-424c-8d70-c7bd01a82540",
   "metadata": {},
   "outputs": [
    {
     "data": {
      "text/plain": [
       "True"
      ]
     },
     "execution_count": 8,
     "metadata": {},
     "output_type": "execute_result"
    }
   ],
   "source": [
    "msm.compare(molecular_system_B, molecular_system_C, n_groups=True)"
   ]
  },
  {
   "cell_type": "code",
   "execution_count": 9,
   "id": "178aff7e-5899-4c77-94f5-1fab9da51c8e",
   "metadata": {},
   "outputs": [
    {
     "data": {
      "text/plain": [
       "True"
      ]
     },
     "execution_count": 9,
     "metadata": {},
     "output_type": "execute_result"
    }
   ],
   "source": [
    "msm.compare(molecular_system_B, molecular_system_C, box=True)"
   ]
  },
  {
   "cell_type": "markdown",
   "id": "b02135ea-6692-428a-a87f-f599e8a10f7a",
   "metadata": {},
   "source": [
    "A detailed report by attributes compared can be obtained with the input argument `output_type=\"dictionary\"`:"
   ]
  },
  {
   "cell_type": "code",
   "execution_count": 10,
   "id": "4a48d678-ab15-4c87-98c6-9e4aa03c5040",
   "metadata": {},
   "outputs": [],
   "source": [
    "report = msm.compare(molecular_system_B, molecular_system_C, output_type='dictionary')"
   ]
  },
  {
   "cell_type": "code",
   "execution_count": 11,
   "id": "0291e66d-f640-491a-998f-3acdf1621e45",
   "metadata": {},
   "outputs": [
    {
     "data": {
      "text/plain": [
       "{'atom_index': True,\n",
       " 'atom_name': False,\n",
       " 'atom_id': False,\n",
       " 'atom_type': False,\n",
       " 'group_index': False,\n",
       " 'group_name': False,\n",
       " 'group_id': False,\n",
       " 'group_type': False,\n",
       " 'component_index': False,\n",
       " 'component_type': False,\n",
       " 'chain_index': False,\n",
       " 'chain_name': False,\n",
       " 'chain_id': False,\n",
       " 'chain_type': False,\n",
       " 'molecule_index': False,\n",
       " 'molecule_type': False,\n",
       " 'bonded_atoms': False,\n",
       " 'n_atoms': True,\n",
       " 'n_groups': True,\n",
       " 'n_components': True,\n",
       " 'n_chains': True,\n",
       " 'n_molecules': True,\n",
       " 'n_bonds': True}"
      ]
     },
     "execution_count": 11,
     "metadata": {},
     "output_type": "execute_result"
    }
   ],
   "source": [
    "report"
   ]
  },
  {
   "cell_type": "markdown",
   "id": "cbf6ecf8-96b4-4ef4-a7b3-2b848d00223b",
   "metadata": {},
   "source": [
    "```{admonition} See also\n",
    ":class: attention\n",
    "{func}`molsysmt.basic.compare`, {func}`molsysmt.basic.convert`, {func}`molsysmt.basic.extract`\n",
    "```"
   ]
  }
 ],
 "metadata": {
  "kernelspec": {
   "display_name": "Python 3 (ipykernel)",
   "language": "python",
   "name": "python3"
  },
  "language_info": {
   "codemirror_mode": {
    "name": "ipython",
    "version": 3
   },
   "file_extension": ".py",
   "mimetype": "text/x-python",
   "name": "python",
   "nbconvert_exporter": "python",
   "pygments_lexer": "ipython3",
   "version": "3.9.15"
  }
 },
 "nbformat": 4,
 "nbformat_minor": 5
}
