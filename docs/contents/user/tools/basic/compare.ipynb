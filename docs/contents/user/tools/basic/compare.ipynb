{
 "cells": [
  {
   "cell_type": "code",
   "execution_count": 1,
   "id": "9cc07af9-2c01-478e-88e9-f98f715bfba2",
   "metadata": {
    "tags": [
     "remove-input"
    ]
   },
   "outputs": [],
   "source": [
    "# This cell is removed with the tag: \"remove-input\"\n",
    "# As such, it will not be shown in documentation\n",
    "\n",
    "import warnings\n",
    "warnings.filterwarnings('ignore')"
   ]
  },
  {
   "cell_type": "markdown",
   "id": "f5d55d2e-7cbd-4680-9fc5-c71bfb10e5a9",
   "metadata": {},
   "source": [
    "(Tutorial_Compare)=\n",
    "# Compare\n",
    "\n",
    "*Comparing molecular systems.*\n",
    "\n",
    "The function {func}`molsysmt.basic.compare` gives you the posibility to compare molecular systems.\n",
    "\n",
    "## How this function works\n",
    "\n",
    "```{admonition} API documentation\n",
    "Follow this link for a detailed description of the input arguments, raised errors, and returned objects of this function:{func}`molsysmt.basic.compare`.\n",
    "```\n",
    "\n",
    "Let's show how to compare molecular systems with the following three systems:"
   ]
  },
  {
   "cell_type": "code",
   "execution_count": 2,
   "id": "f7977816-1701-4d87-b174-af114747cff5",
   "metadata": {},
   "outputs": [
    {
     "data": {
      "application/vnd.jupyter.widget-view+json": {
       "model_id": "9f350be13cbf4ad6ba4d7cad3749a3da",
       "version_major": 2,
       "version_minor": 0
      },
      "text/plain": []
     },
     "metadata": {},
     "output_type": "display_data"
    }
   ],
   "source": [
    "import molsysmt as msm"
   ]
  },
  {
   "cell_type": "code",
   "execution_count": 3,
   "id": "49b60f38-a42d-4e2f-8aa8-4d4c614cbcac",
   "metadata": {},
   "outputs": [],
   "source": [
    "molsys_A = msm.convert('pdb_id:181L', to_form='openmm.Modeller')\n",
    "molsys_B = msm.convert(molsys_A, to_form='molsysmt.MolSys')\n",
    "molsys_C = msm.extract(molsys_B, selection='molecule_type==\"protein\"')"
   ]
  },
  {
   "cell_type": "markdown",
   "id": "8773c6dd-cd12-4ca9-a619-62da6b03112c",
   "metadata": {},
   "source": [
    "The systems $A$ and $B$ are equal, they only differ in the form. And $C$ is just a part of the same molecular system with the same form as $B$.\n",
    "\n",
    "Let's make some comparisons between these systems to illustrate how {func}`molsysmt.basic.compare` works:"
   ]
  },
  {
   "cell_type": "code",
   "execution_count": 4,
   "id": "f5bca6f9-b26b-4a17-8fa2-c503bbe36e89",
   "metadata": {},
   "outputs": [
    {
     "name": "stdout",
     "output_type": "stream",
     "text": [
      "<Topology; 6 chains, 302 residues, 1441 atoms, 1322 bonds> atom all {'atom_id', 'atom_name', 'atom_type', 'n_atoms', 'atom_index'}\n",
      "<Topology; 6 chains, 302 residues, 1441 atoms, 1322 bonds> group all {'group_type', 'n_groups', 'group_index', 'group_id', 'group_name'}\n",
      "<Topology; 6 chains, 302 residues, 1441 atoms, 1322 bonds> component all {'component_type', 'n_components', 'component_index'}\n",
      "<Topology; 6 chains, 302 residues, 1441 atoms, 1322 bonds> molecule all {'molecule_type', 'n_molecules', 'molecule_index'}\n",
      "<Topology; 6 chains, 302 residues, 1441 atoms, 1322 bonds> chain all {'chain_index', 'chain_name', 'n_chains', 'chain_id', 'chain_type'}\n",
      "<Topology; 6 chains, 302 residues, 1441 atoms, 1322 bonds> entity all set()\n",
      "<Topology; 6 chains, 302 residues, 1441 atoms, 1322 bonds> bond all {'n_bonds', 'bonded_atom_pairs'}\n",
      "<Topology; 6 chains, 302 residues, 1441 atoms, 1322 bonds> atom all set()\n",
      "<Topology; 6 chains, 302 residues, 1441 atoms, 1322 bonds> atom all set()\n",
      "<Topology; 6 chains, 302 residues, 1441 atoms, 1322 bonds> system all set()\n"
     ]
    },
    {
     "data": {
      "text/plain": [
       "True"
      ]
     },
     "execution_count": 4,
     "metadata": {},
     "output_type": "execute_result"
    }
   ],
   "source": [
    "msm.compare(molsys_A, molsys_B)"
   ]
  },
  {
   "cell_type": "code",
   "execution_count": 5,
   "id": "a5b057cf-9bc7-4ac3-8e4f-fdef4ac6ab6a",
   "metadata": {},
   "outputs": [
    {
     "name": "stdout",
     "output_type": "stream",
     "text": [
      "<molsysmt.native.molsys.MolSys object at 0x7ffb612800b0> atom all {'atom_id', 'atom_name', 'atom_type', 'n_atoms', 'atom_index'}\n",
      "<molsysmt.native.molsys.MolSys object at 0x7ffb612800b0> group all {'group_type', 'n_groups', 'group_index', 'group_id', 'group_name'}\n",
      "<molsysmt.native.molsys.MolSys object at 0x7ffb612800b0> component all {'component_type', 'n_components', 'component_index'}\n",
      "<molsysmt.native.molsys.MolSys object at 0x7ffb612800b0> molecule all {'molecule_type', 'n_molecules', 'molecule_index'}\n",
      "<molsysmt.native.molsys.MolSys object at 0x7ffb612800b0> chain all {'chain_index', 'chain_name', 'n_chains', 'chain_id', 'chain_type'}\n",
      "<molsysmt.native.molsys.MolSys object at 0x7ffb612800b0> entity all set()\n",
      "<molsysmt.native.molsys.MolSys object at 0x7ffb612800b0> bond all {'n_bonds', 'bonded_atom_pairs'}\n",
      "<molsysmt.native.molsys.MolSys object at 0x7ffb612800b0> atom all set()\n",
      "<molsysmt.native.molsys.MolSys object at 0x7ffb612800b0> atom all set()\n",
      "<molsysmt.native.molsys.MolSys object at 0x7ffb612800b0> system all set()\n"
     ]
    },
    {
     "data": {
      "text/plain": [
       "False"
      ]
     },
     "execution_count": 5,
     "metadata": {},
     "output_type": "execute_result"
    }
   ],
   "source": [
    "msm.compare(molsys_B, molsys_C)"
   ]
  },
  {
   "cell_type": "markdown",
   "id": "08bbeff9-0531-45ad-8924-391eaabe475e",
   "metadata": {},
   "source": [
    "```{admonition} Tip\n",
    ":class: tip\n",
    "All methods defined in the {ref}`molsysmt.basic <API basic>` module can be invoked also from the main level of the library. As such, {func}`molsysmt.compare` is the same method as {func}`molsysmt.basic.compare`.\n",
    "```"
   ]
  },
  {
   "cell_type": "markdown",
   "id": "c8f8959d-557d-450e-a66d-e876e8f176bf",
   "metadata": {},
   "source": [
    "By default, only the elements are compared. Other attributes as `coordinates`, `box` or `n_groups` can be introduced in the comparison:"
   ]
  },
  {
   "cell_type": "code",
   "execution_count": 6,
   "id": "352c9a64-1327-42ab-9f02-43893cbcfecd",
   "metadata": {},
   "outputs": [
    {
     "name": "stdout",
     "output_type": "stream",
     "text": [
      "<Topology; 6 chains, 302 residues, 1441 atoms, 1322 bonds> atom all set()\n",
      "<Topology; 6 chains, 302 residues, 1441 atoms, 1322 bonds> group all {'n_groups'}\n",
      "<Topology; 6 chains, 302 residues, 1441 atoms, 1322 bonds> component all set()\n",
      "<Topology; 6 chains, 302 residues, 1441 atoms, 1322 bonds> molecule all set()\n",
      "<Topology; 6 chains, 302 residues, 1441 atoms, 1322 bonds> chain all set()\n",
      "<Topology; 6 chains, 302 residues, 1441 atoms, 1322 bonds> entity all set()\n",
      "<Topology; 6 chains, 302 residues, 1441 atoms, 1322 bonds> bond all set()\n",
      "<Topology; 6 chains, 302 residues, 1441 atoms, 1322 bonds> atom all set()\n",
      "<openmm.app.modeller.Modeller object at 0x7ffb4dd04e00> atom all {'coordinates'}\n",
      "<openmm.app.modeller.Modeller object at 0x7ffb4dd04e00> system all {'box'}\n"
     ]
    },
    {
     "data": {
      "text/plain": [
       "True"
      ]
     },
     "execution_count": 6,
     "metadata": {},
     "output_type": "execute_result"
    }
   ],
   "source": [
    "msm.compare(molsys_A, molsys_B, coordinates=True, box=True, n_groups=True)"
   ]
  },
  {
   "cell_type": "code",
   "execution_count": 7,
   "id": "94c64e85-4d97-424c-8d70-c7bd01a82540",
   "metadata": {},
   "outputs": [
    {
     "name": "stdout",
     "output_type": "stream",
     "text": [
      "<molsysmt.native.molsys.MolSys object at 0x7ffb612800b0> atom all set()\n",
      "<molsysmt.native.molsys.MolSys object at 0x7ffb612800b0> group all {'n_groups'}\n",
      "<molsysmt.native.molsys.MolSys object at 0x7ffb612800b0> component all set()\n",
      "<molsysmt.native.molsys.MolSys object at 0x7ffb612800b0> molecule all set()\n",
      "<molsysmt.native.molsys.MolSys object at 0x7ffb612800b0> chain all set()\n",
      "<molsysmt.native.molsys.MolSys object at 0x7ffb612800b0> entity all set()\n",
      "<molsysmt.native.molsys.MolSys object at 0x7ffb612800b0> bond all set()\n",
      "<molsysmt.native.molsys.MolSys object at 0x7ffb612800b0> atom all set()\n",
      "<molsysmt.native.molsys.MolSys object at 0x7ffb612800b0> atom all {'coordinates'}\n",
      "<molsysmt.native.molsys.MolSys object at 0x7ffb612800b0> system all {'box'}\n"
     ]
    },
    {
     "data": {
      "text/plain": [
       "False"
      ]
     },
     "execution_count": 7,
     "metadata": {},
     "output_type": "execute_result"
    }
   ],
   "source": [
    "msm.compare(molsys_B, molsys_C, coordinates=True, box=True, n_groups=True)"
   ]
  },
  {
   "cell_type": "markdown",
   "id": "b02135ea-6692-428a-a87f-f599e8a10f7a",
   "metadata": {},
   "source": [
    "A detailed report by attributes compared can be obtained with the input argument `output_type=\"dictionary\"`:"
   ]
  },
  {
   "cell_type": "code",
   "execution_count": 8,
   "id": "4a48d678-ab15-4c87-98c6-9e4aa03c5040",
   "metadata": {},
   "outputs": [
    {
     "name": "stdout",
     "output_type": "stream",
     "text": [
      "<molsysmt.native.molsys.MolSys object at 0x7ffb612800b0> atom all set()\n",
      "<molsysmt.native.molsys.MolSys object at 0x7ffb612800b0> group all {'n_groups'}\n",
      "<molsysmt.native.molsys.MolSys object at 0x7ffb612800b0> component all set()\n",
      "<molsysmt.native.molsys.MolSys object at 0x7ffb612800b0> molecule all set()\n",
      "<molsysmt.native.molsys.MolSys object at 0x7ffb612800b0> chain all set()\n",
      "<molsysmt.native.molsys.MolSys object at 0x7ffb612800b0> entity all set()\n",
      "<molsysmt.native.molsys.MolSys object at 0x7ffb612800b0> bond all set()\n",
      "<molsysmt.native.molsys.MolSys object at 0x7ffb612800b0> atom all set()\n",
      "<molsysmt.native.molsys.MolSys object at 0x7ffb612800b0> atom all {'coordinates'}\n",
      "<molsysmt.native.molsys.MolSys object at 0x7ffb612800b0> system all {'box'}\n"
     ]
    },
    {
     "data": {
      "text/plain": [
       "{'n_groups': False, 'box': True, 'coordinates': False}"
      ]
     },
     "execution_count": 8,
     "metadata": {},
     "output_type": "execute_result"
    }
   ],
   "source": [
    "msm.compare(molsys_B, molsys_C, coordinates=True, box=True, n_groups=True, output_type='dictionary')"
   ]
  },
  {
   "cell_type": "markdown",
   "id": "cf399d39-fee8-4f48-a74f-1d26a1d8e2cc",
   "metadata": {},
   "source": [
    "The boolean value of the attributes can also be used to check the falsehood of the comparison:"
   ]
  },
  {
   "cell_type": "code",
   "execution_count": 9,
   "id": "bd2ce323-000a-4edb-9b1a-1fe6e02a8552",
   "metadata": {},
   "outputs": [
    {
     "name": "stdout",
     "output_type": "stream",
     "text": [
      "<molsysmt.native.molsys.MolSys object at 0x7ffb612800b0> atom all set()\n",
      "<molsysmt.native.molsys.MolSys object at 0x7ffb612800b0> group all {'n_groups'}\n",
      "<molsysmt.native.molsys.MolSys object at 0x7ffb612800b0> component all set()\n",
      "<molsysmt.native.molsys.MolSys object at 0x7ffb612800b0> molecule all set()\n",
      "<molsysmt.native.molsys.MolSys object at 0x7ffb612800b0> chain all set()\n",
      "<molsysmt.native.molsys.MolSys object at 0x7ffb612800b0> entity all set()\n",
      "<molsysmt.native.molsys.MolSys object at 0x7ffb612800b0> bond all set()\n",
      "<molsysmt.native.molsys.MolSys object at 0x7ffb612800b0> atom all set()\n",
      "<molsysmt.native.molsys.MolSys object at 0x7ffb612800b0> atom all {'coordinates'}\n",
      "<molsysmt.native.molsys.MolSys object at 0x7ffb612800b0> system all {'box'}\n"
     ]
    },
    {
     "data": {
      "text/plain": [
       "{'n_groups': True, 'box': True, 'coordinates': True}"
      ]
     },
     "execution_count": 9,
     "metadata": {},
     "output_type": "execute_result"
    }
   ],
   "source": [
    "msm.compare(molsys_B, molsys_C, coordinates=False, box=True, n_groups=False, output_type='dictionary')"
   ]
  },
  {
   "cell_type": "markdown",
   "id": "69b02172-6e69-419d-a8c1-07001765e617",
   "metadata": {},
   "source": [
    "Do not forget you can make use of the input arguments `selection`, `structure_indices`, `selection_2` and `structure_indices_2`:"
   ]
  },
  {
   "cell_type": "code",
   "execution_count": 18,
   "id": "057465dc-03b6-4a91-b5c0-4f32dd97b084",
   "metadata": {},
   "outputs": [
    {
     "ename": "NotImplementedMethodError",
     "evalue": "This method was not implemented yet.",
     "output_type": "error",
     "traceback": [
      "\u001b[31m---------------------------------------------------------------------------\u001b[39m",
      "\u001b[31mNotImplementedMethodError\u001b[39m                 Traceback (most recent call last)",
      "\u001b[36mCell\u001b[39m\u001b[36m \u001b[39m\u001b[32mIn[18]\u001b[39m\u001b[32m, line 1\u001b[39m\n\u001b[32m----> \u001b[39m\u001b[32m1\u001b[39m \u001b[43mmsm\u001b[49m\u001b[43m.\u001b[49m\u001b[43mget\u001b[49m\u001b[43m(\u001b[49m\u001b[43mmolsys_B\u001b[49m\u001b[43m,\u001b[49m\u001b[43m \u001b[49m\u001b[43melement\u001b[49m\u001b[43m=\u001b[49m\u001b[33;43m'\u001b[39;49m\u001b[33;43msystem\u001b[39;49m\u001b[33;43m'\u001b[39;49m\u001b[43m,\u001b[49m\u001b[43m \u001b[49m\u001b[43mselection\u001b[49m\u001b[43m=\u001b[49m\u001b[33;43m'\u001b[39;49m\u001b[33;43matom_index==0\u001b[39;49m\u001b[33;43m'\u001b[39;49m\u001b[43m,\u001b[49m\u001b[43m \u001b[49m\u001b[43mbox\u001b[49m\u001b[43m=\u001b[49m\u001b[38;5;28;43;01mTrue\u001b[39;49;00m\u001b[43m)\u001b[49m\n",
      "\u001b[36mFile \u001b[39m\u001b[32m~/repos@uibcdf/molsysmt/molsysmt/_private/digestion/digest.py:122\u001b[39m, in \u001b[36mdigest.<locals>.digestor.<locals>.wrapper\u001b[39m\u001b[34m(*args, **kwargs)\u001b[39m\n\u001b[32m    120\u001b[39m     \u001b[38;5;28;01mreturn\u001b[39;00m func(all_args[\u001b[33m'\u001b[39m\u001b[33mself\u001b[39m\u001b[33m'\u001b[39m], **final_args)\n\u001b[32m    121\u001b[39m \u001b[38;5;28;01melse\u001b[39;00m:\n\u001b[32m--> \u001b[39m\u001b[32m122\u001b[39m     \u001b[38;5;28;01mreturn\u001b[39;00m \u001b[43mfunc\u001b[49m\u001b[43m(\u001b[49m\u001b[43m*\u001b[49m\u001b[43m*\u001b[49m\u001b[43mfinal_args\u001b[49m\u001b[43m)\u001b[49m\n",
      "\u001b[36mFile \u001b[39m\u001b[32m~/repos@uibcdf/molsysmt/molsysmt/basic/get.py:172\u001b[39m, in \u001b[36mget\u001b[39m\u001b[34m(molecular_system, element, selection, structure_indices, mask, syntax, get_missing_bonds, output_type, skip_digestion, **kwargs)\u001b[39m\n\u001b[32m    169\u001b[39m         element = \u001b[33m'\u001b[39m\u001b[33matom\u001b[39m\u001b[33m'\u001b[39m\n\u001b[32m    171\u001b[39m \u001b[38;5;28;01mif\u001b[39;00m \u001b[38;5;129;01mnot\u001b[39;00m is_all(selection):\n\u001b[32m--> \u001b[39m\u001b[32m172\u001b[39m     indices = \u001b[43mselect\u001b[49m\u001b[43m(\u001b[49m\u001b[43mmolecular_system\u001b[49m\u001b[43m,\u001b[49m\u001b[43m \u001b[49m\u001b[43melement\u001b[49m\u001b[43m=\u001b[49m\u001b[43melement\u001b[49m\u001b[43m,\u001b[49m\u001b[43m \u001b[49m\u001b[43mselection\u001b[49m\u001b[43m=\u001b[49m\u001b[43mselection\u001b[49m\u001b[43m,\u001b[49m\u001b[43m \u001b[49m\u001b[43mmask\u001b[49m\u001b[43m=\u001b[49m\u001b[43mmask\u001b[49m\u001b[43m,\u001b[49m\u001b[43m \u001b[49m\u001b[43msyntax\u001b[49m\u001b[43m=\u001b[49m\u001b[43msyntax\u001b[49m\u001b[43m,\u001b[49m\u001b[43m \u001b[49m\u001b[43mskip_digestion\u001b[49m\u001b[43m=\u001b[49m\u001b[38;5;28;43;01mTrue\u001b[39;49;00m\u001b[43m)\u001b[49m\n\u001b[32m    173\u001b[39m \u001b[38;5;28;01melse\u001b[39;00m:\n\u001b[32m    174\u001b[39m     \u001b[38;5;28;01mif\u001b[39;00m (mask \u001b[38;5;129;01mis\u001b[39;00m \u001b[38;5;28;01mNone\u001b[39;00m) \u001b[38;5;129;01mor\u001b[39;00m (is_all(mask)):\n",
      "\u001b[36mFile \u001b[39m\u001b[32m~/repos@uibcdf/molsysmt/molsysmt/_private/digestion/digest.py:52\u001b[39m, in \u001b[36mdigest.<locals>.digestor.<locals>.wrapper\u001b[39m\u001b[34m(*args, **kwargs)\u001b[39m\n\u001b[32m     48\u001b[39m \u001b[38;5;129m@functools\u001b[39m.wraps(func)\n\u001b[32m     49\u001b[39m \u001b[38;5;28;01mdef\u001b[39;00m\u001b[38;5;250m \u001b[39m\u001b[34mwrapper\u001b[39m(*args, **kwargs):\n\u001b[32m     51\u001b[39m     \u001b[38;5;28;01mif\u001b[39;00m kwargs.get(\u001b[33m'\u001b[39m\u001b[33mskip_digestion\u001b[39m\u001b[33m'\u001b[39m, \u001b[38;5;28;01mFalse\u001b[39;00m):\n\u001b[32m---> \u001b[39m\u001b[32m52\u001b[39m         \u001b[38;5;28;01mreturn\u001b[39;00m \u001b[43mfunc\u001b[49m\u001b[43m(\u001b[49m\u001b[43m*\u001b[49m\u001b[43margs\u001b[49m\u001b[43m,\u001b[49m\u001b[43m \u001b[49m\u001b[43m*\u001b[49m\u001b[43m*\u001b[49m\u001b[43mkwargs\u001b[49m\u001b[43m)\u001b[49m\n\u001b[32m     54\u001b[39m     \u001b[38;5;66;03m# Define caller\u001b[39;00m\n\u001b[32m     56\u001b[39m     caller = func.\u001b[34m__module__\u001b[39m+\u001b[33m'\u001b[39m\u001b[33m.\u001b[39m\u001b[33m'\u001b[39m+func.\u001b[34m__name__\u001b[39m\n",
      "\u001b[36mFile \u001b[39m\u001b[32m~/repos@uibcdf/molsysmt/molsysmt/basic/select.py:191\u001b[39m, in \u001b[36mselect\u001b[39m\u001b[34m(molecular_system, selection, structure_indices, element, mask, syntax, to_syntax, skip_digestion)\u001b[39m\n\u001b[32m    187\u001b[39m         output_indices = np.unique(np.concatenate(output_indices)).tolist()\n\u001b[32m    189\u001b[39m     \u001b[38;5;28;01melse\u001b[39;00m:\n\u001b[32m--> \u001b[39m\u001b[32m191\u001b[39m         \u001b[38;5;28;01mraise\u001b[39;00m NotImplementedMethodError()\n\u001b[32m    193\u001b[39m \u001b[38;5;28;01mif\u001b[39;00m is_all(mask):\n\u001b[32m    194\u001b[39m     mask = \u001b[38;5;28;01mNone\u001b[39;00m\n",
      "\u001b[31mNotImplementedMethodError\u001b[39m: This method was not implemented yet."
     ]
    }
   ],
   "source": [
    "msm.get(molsys_B, element='system', selection='atom_index==0', box=True)"
   ]
  },
  {
   "cell_type": "code",
   "execution_count": 12,
   "id": "043ac38b-3d58-4e6e-8883-b6092a914646",
   "metadata": {},
   "outputs": [
    {
     "ename": "NotImplementedMethodError",
     "evalue": "This method was not implemented yet.",
     "output_type": "error",
     "traceback": [
      "\u001b[31m---------------------------------------------------------------------------\u001b[39m",
      "\u001b[31mNotImplementedMethodError\u001b[39m                 Traceback (most recent call last)",
      "\u001b[36mCell\u001b[39m\u001b[36m \u001b[39m\u001b[32mIn[12]\u001b[39m\u001b[32m, line 1\u001b[39m\n\u001b[32m----> \u001b[39m\u001b[32m1\u001b[39m \u001b[43mmsm\u001b[49m\u001b[43m.\u001b[49m\u001b[43mget\u001b[49m\u001b[43m(\u001b[49m\u001b[43mmolsys_B\u001b[49m\u001b[43m,\u001b[49m\u001b[43m \u001b[49m\u001b[43melement\u001b[49m\u001b[43m=\u001b[49m\u001b[33;43m'\u001b[39;49m\u001b[33;43msystem\u001b[39;49m\u001b[33;43m'\u001b[39;49m\u001b[43m,\u001b[49m\u001b[43m \u001b[49m\u001b[43mselection\u001b[49m\u001b[43m=\u001b[49m\u001b[33;43m'\u001b[39;49m\u001b[33;43mmolecule_type==\u001b[39;49m\u001b[33;43m\"\u001b[39;49m\u001b[33;43mprotein\u001b[39;49m\u001b[33;43m\"\u001b[39;49m\u001b[33;43m'\u001b[39;49m\u001b[43m,\u001b[49m\u001b[43m \u001b[49m\u001b[43mbox\u001b[49m\u001b[43m=\u001b[49m\u001b[38;5;28;43;01mTrue\u001b[39;49;00m\u001b[43m)\u001b[49m\n",
      "\u001b[36mFile \u001b[39m\u001b[32m~/repos@uibcdf/molsysmt/molsysmt/_private/digestion/digest.py:122\u001b[39m, in \u001b[36mdigest.<locals>.digestor.<locals>.wrapper\u001b[39m\u001b[34m(*args, **kwargs)\u001b[39m\n\u001b[32m    120\u001b[39m     \u001b[38;5;28;01mreturn\u001b[39;00m func(all_args[\u001b[33m'\u001b[39m\u001b[33mself\u001b[39m\u001b[33m'\u001b[39m], **final_args)\n\u001b[32m    121\u001b[39m \u001b[38;5;28;01melse\u001b[39;00m:\n\u001b[32m--> \u001b[39m\u001b[32m122\u001b[39m     \u001b[38;5;28;01mreturn\u001b[39;00m \u001b[43mfunc\u001b[49m\u001b[43m(\u001b[49m\u001b[43m*\u001b[49m\u001b[43m*\u001b[49m\u001b[43mfinal_args\u001b[49m\u001b[43m)\u001b[49m\n",
      "\u001b[36mFile \u001b[39m\u001b[32m~/repos@uibcdf/molsysmt/molsysmt/basic/get.py:172\u001b[39m, in \u001b[36mget\u001b[39m\u001b[34m(molecular_system, element, selection, structure_indices, mask, syntax, get_missing_bonds, output_type, skip_digestion, **kwargs)\u001b[39m\n\u001b[32m    169\u001b[39m         element = \u001b[33m'\u001b[39m\u001b[33matom\u001b[39m\u001b[33m'\u001b[39m\n\u001b[32m    171\u001b[39m \u001b[38;5;28;01mif\u001b[39;00m \u001b[38;5;129;01mnot\u001b[39;00m is_all(selection):\n\u001b[32m--> \u001b[39m\u001b[32m172\u001b[39m     indices = \u001b[43mselect\u001b[49m\u001b[43m(\u001b[49m\u001b[43mmolecular_system\u001b[49m\u001b[43m,\u001b[49m\u001b[43m \u001b[49m\u001b[43melement\u001b[49m\u001b[43m=\u001b[49m\u001b[43melement\u001b[49m\u001b[43m,\u001b[49m\u001b[43m \u001b[49m\u001b[43mselection\u001b[49m\u001b[43m=\u001b[49m\u001b[43mselection\u001b[49m\u001b[43m,\u001b[49m\u001b[43m \u001b[49m\u001b[43mmask\u001b[49m\u001b[43m=\u001b[49m\u001b[43mmask\u001b[49m\u001b[43m,\u001b[49m\u001b[43m \u001b[49m\u001b[43msyntax\u001b[49m\u001b[43m=\u001b[49m\u001b[43msyntax\u001b[49m\u001b[43m,\u001b[49m\u001b[43m \u001b[49m\u001b[43mskip_digestion\u001b[49m\u001b[43m=\u001b[49m\u001b[38;5;28;43;01mTrue\u001b[39;49;00m\u001b[43m)\u001b[49m\n\u001b[32m    173\u001b[39m \u001b[38;5;28;01melse\u001b[39;00m:\n\u001b[32m    174\u001b[39m     \u001b[38;5;28;01mif\u001b[39;00m (mask \u001b[38;5;129;01mis\u001b[39;00m \u001b[38;5;28;01mNone\u001b[39;00m) \u001b[38;5;129;01mor\u001b[39;00m (is_all(mask)):\n",
      "\u001b[36mFile \u001b[39m\u001b[32m~/repos@uibcdf/molsysmt/molsysmt/_private/digestion/digest.py:52\u001b[39m, in \u001b[36mdigest.<locals>.digestor.<locals>.wrapper\u001b[39m\u001b[34m(*args, **kwargs)\u001b[39m\n\u001b[32m     48\u001b[39m \u001b[38;5;129m@functools\u001b[39m.wraps(func)\n\u001b[32m     49\u001b[39m \u001b[38;5;28;01mdef\u001b[39;00m\u001b[38;5;250m \u001b[39m\u001b[34mwrapper\u001b[39m(*args, **kwargs):\n\u001b[32m     51\u001b[39m     \u001b[38;5;28;01mif\u001b[39;00m kwargs.get(\u001b[33m'\u001b[39m\u001b[33mskip_digestion\u001b[39m\u001b[33m'\u001b[39m, \u001b[38;5;28;01mFalse\u001b[39;00m):\n\u001b[32m---> \u001b[39m\u001b[32m52\u001b[39m         \u001b[38;5;28;01mreturn\u001b[39;00m \u001b[43mfunc\u001b[49m\u001b[43m(\u001b[49m\u001b[43m*\u001b[49m\u001b[43margs\u001b[49m\u001b[43m,\u001b[49m\u001b[43m \u001b[49m\u001b[43m*\u001b[49m\u001b[43m*\u001b[49m\u001b[43mkwargs\u001b[49m\u001b[43m)\u001b[49m\n\u001b[32m     54\u001b[39m     \u001b[38;5;66;03m# Define caller\u001b[39;00m\n\u001b[32m     56\u001b[39m     caller = func.\u001b[34m__module__\u001b[39m+\u001b[33m'\u001b[39m\u001b[33m.\u001b[39m\u001b[33m'\u001b[39m+func.\u001b[34m__name__\u001b[39m\n",
      "\u001b[36mFile \u001b[39m\u001b[32m~/repos@uibcdf/molsysmt/molsysmt/basic/select.py:191\u001b[39m, in \u001b[36mselect\u001b[39m\u001b[34m(molecular_system, selection, structure_indices, element, mask, syntax, to_syntax, skip_digestion)\u001b[39m\n\u001b[32m    187\u001b[39m         output_indices = np.unique(np.concatenate(output_indices)).tolist()\n\u001b[32m    189\u001b[39m     \u001b[38;5;28;01melse\u001b[39;00m:\n\u001b[32m--> \u001b[39m\u001b[32m191\u001b[39m         \u001b[38;5;28;01mraise\u001b[39;00m NotImplementedMethodError()\n\u001b[32m    193\u001b[39m \u001b[38;5;28;01mif\u001b[39;00m is_all(mask):\n\u001b[32m    194\u001b[39m     mask = \u001b[38;5;28;01mNone\u001b[39;00m\n",
      "\u001b[31mNotImplementedMethodError\u001b[39m: This method was not implemented yet."
     ]
    }
   ],
   "source": [
    "msm.get(molsys_B, element='system', selection='molecule_type==\"protein\"', box=True)"
   ]
  },
  {
   "cell_type": "code",
   "execution_count": 10,
   "id": "33cf40d9-ec1c-4d99-aea4-ebc7a45592f8",
   "metadata": {},
   "outputs": [
    {
     "name": "stdout",
     "output_type": "stream",
     "text": [
      "<molsysmt.native.molsys.MolSys object at 0x7ffb612800b0> atom molecule_type==\"protein\" set()\n",
      "<molsysmt.native.molsys.MolSys object at 0x7ffb612800b0> group molecule_type==\"protein\" {'n_groups'}\n",
      "<molsysmt.native.molsys.MolSys object at 0x7ffb612800b0> component molecule_type==\"protein\" set()\n",
      "<molsysmt.native.molsys.MolSys object at 0x7ffb612800b0> molecule molecule_type==\"protein\" set()\n",
      "<molsysmt.native.molsys.MolSys object at 0x7ffb612800b0> chain molecule_type==\"protein\" set()\n",
      "<molsysmt.native.molsys.MolSys object at 0x7ffb612800b0> entity molecule_type==\"protein\" set()\n",
      "<molsysmt.native.molsys.MolSys object at 0x7ffb612800b0> bond molecule_type==\"protein\" set()\n",
      "<molsysmt.native.molsys.MolSys object at 0x7ffb612800b0> atom molecule_type==\"protein\" set()\n",
      "<molsysmt.native.molsys.MolSys object at 0x7ffb612800b0> atom molecule_type==\"protein\" {'coordinates'}\n",
      "<molsysmt.native.molsys.MolSys object at 0x7ffb612800b0> system molecule_type==\"protein\" {'box'}\n"
     ]
    },
    {
     "ename": "NotImplementedMethodError",
     "evalue": "This method was not implemented yet.",
     "output_type": "error",
     "traceback": [
      "\u001b[31m---------------------------------------------------------------------------\u001b[39m",
      "\u001b[31mNotImplementedMethodError\u001b[39m                 Traceback (most recent call last)",
      "\u001b[36mCell\u001b[39m\u001b[36m \u001b[39m\u001b[32mIn[10]\u001b[39m\u001b[32m, line 1\u001b[39m\n\u001b[32m----> \u001b[39m\u001b[32m1\u001b[39m \u001b[43mmsm\u001b[49m\u001b[43m.\u001b[49m\u001b[43mcompare\u001b[49m\u001b[43m(\u001b[49m\u001b[43mmolsys_B\u001b[49m\u001b[43m,\u001b[49m\u001b[43m \u001b[49m\u001b[43mmolsys_C\u001b[49m\u001b[43m,\u001b[49m\u001b[43m \u001b[49m\u001b[43mselection\u001b[49m\u001b[43m=\u001b[49m\u001b[33;43m'\u001b[39;49m\u001b[33;43mmolecule_type==\u001b[39;49m\u001b[33;43m\"\u001b[39;49m\u001b[33;43mprotein\u001b[39;49m\u001b[33;43m\"\u001b[39;49m\u001b[33;43m'\u001b[39;49m\u001b[43m,\u001b[49m\u001b[43m \u001b[49m\u001b[43mselection_2\u001b[49m\u001b[43m=\u001b[49m\u001b[33;43m'\u001b[39;49m\u001b[33;43mall\u001b[39;49m\u001b[33;43m'\u001b[39;49m\u001b[43m,\u001b[49m\n\u001b[32m      2\u001b[39m \u001b[43m            \u001b[49m\u001b[43mcoordinates\u001b[49m\u001b[43m=\u001b[49m\u001b[38;5;28;43;01mTrue\u001b[39;49;00m\u001b[43m,\u001b[49m\u001b[43m \u001b[49m\u001b[43mbox\u001b[49m\u001b[43m=\u001b[49m\u001b[38;5;28;43;01mTrue\u001b[39;49;00m\u001b[43m,\u001b[49m\u001b[43m \u001b[49m\u001b[43mn_groups\u001b[49m\u001b[43m=\u001b[49m\u001b[38;5;28;43;01mTrue\u001b[39;49;00m\u001b[43m,\u001b[49m\u001b[43m \u001b[49m\u001b[43moutput_type\u001b[49m\u001b[43m=\u001b[49m\u001b[33;43m'\u001b[39;49m\u001b[33;43mdictionary\u001b[39;49m\u001b[33;43m'\u001b[39;49m\u001b[43m)\u001b[49m\n",
      "\u001b[36mFile \u001b[39m\u001b[32m~/repos@uibcdf/molsysmt/molsysmt/_private/digestion/digest.py:122\u001b[39m, in \u001b[36mdigest.<locals>.digestor.<locals>.wrapper\u001b[39m\u001b[34m(*args, **kwargs)\u001b[39m\n\u001b[32m    120\u001b[39m     \u001b[38;5;28;01mreturn\u001b[39;00m func(all_args[\u001b[33m'\u001b[39m\u001b[33mself\u001b[39m\u001b[33m'\u001b[39m], **final_args)\n\u001b[32m    121\u001b[39m \u001b[38;5;28;01melse\u001b[39;00m:\n\u001b[32m--> \u001b[39m\u001b[32m122\u001b[39m     \u001b[38;5;28;01mreturn\u001b[39;00m \u001b[43mfunc\u001b[49m\u001b[43m(\u001b[49m\u001b[43m*\u001b[49m\u001b[43m*\u001b[49m\u001b[43mfinal_args\u001b[49m\u001b[43m)\u001b[49m\n",
      "\u001b[36mFile \u001b[39m\u001b[32m~/repos@uibcdf/molsysmt/molsysmt/basic/compare.py:243\u001b[39m, in \u001b[36mcompare\u001b[39m\u001b[34m(molecular_system, molecular_system_2, selection, structure_indices, selection_2, structure_indices_2, syntax, rule, output_type, attribute_type, **kwargs)\u001b[39m\n\u001b[32m    240\u001b[39m         aux_molecular_system = molecular_system\n\u001b[32m    242\u001b[39m \u001b[38;5;28mprint\u001b[39m(aux_molecular_system, element, selection, atts)\n\u001b[32m--> \u001b[39m\u001b[32m243\u001b[39m dict_aux = \u001b[43mget\u001b[49m\u001b[43m(\u001b[49m\u001b[43maux_molecular_system\u001b[49m\u001b[43m,\u001b[49m\u001b[43m \u001b[49m\u001b[43melement\u001b[49m\u001b[43m=\u001b[49m\u001b[43melement\u001b[49m\u001b[43m,\u001b[49m\u001b[43m \u001b[49m\u001b[43mselection\u001b[49m\u001b[43m=\u001b[49m\u001b[43mselection\u001b[49m\u001b[43m,\u001b[49m\n\u001b[32m    244\u001b[39m \u001b[43m               \u001b[49m\u001b[43mstructure_indices\u001b[49m\u001b[43m=\u001b[49m\u001b[43mstructure_indices\u001b[49m\u001b[43m,\u001b[49m\u001b[43m \u001b[49m\u001b[43msyntax\u001b[49m\u001b[43m=\u001b[49m\u001b[43msyntax\u001b[49m\u001b[43m,\u001b[49m\n\u001b[32m    245\u001b[39m \u001b[43m               \u001b[49m\u001b[43moutput_type\u001b[49m\u001b[43m=\u001b[49m\u001b[33;43m'\u001b[39;49m\u001b[33;43mdictionary\u001b[39;49m\u001b[33;43m'\u001b[39;49m\u001b[43m,\u001b[49m\u001b[43m \u001b[49m\u001b[43m*\u001b[49m\u001b[43m*\u001b[49m\u001b[43m{\u001b[49m\u001b[43mii\u001b[49m\u001b[43m:\u001b[49m\u001b[38;5;28;43;01mTrue\u001b[39;49;00m\u001b[43m \u001b[49m\u001b[38;5;28;43;01mfor\u001b[39;49;00m\u001b[43m \u001b[49m\u001b[43mii\u001b[49m\u001b[43m \u001b[49m\u001b[38;5;129;43;01min\u001b[39;49;00m\u001b[43m \u001b[49m\u001b[43matts\u001b[49m\u001b[43m}\u001b[49m\u001b[43m)\u001b[49m\n\u001b[32m    247\u001b[39m dict_A.update(dict_aux)\n\u001b[32m    249\u001b[39m \u001b[38;5;28;01mif\u001b[39;00m piped_system_B \u001b[38;5;129;01mis\u001b[39;00m \u001b[38;5;28;01mNone\u001b[39;00m:\n",
      "\u001b[36mFile \u001b[39m\u001b[32m~/repos@uibcdf/molsysmt/molsysmt/_private/digestion/digest.py:122\u001b[39m, in \u001b[36mdigest.<locals>.digestor.<locals>.wrapper\u001b[39m\u001b[34m(*args, **kwargs)\u001b[39m\n\u001b[32m    120\u001b[39m     \u001b[38;5;28;01mreturn\u001b[39;00m func(all_args[\u001b[33m'\u001b[39m\u001b[33mself\u001b[39m\u001b[33m'\u001b[39m], **final_args)\n\u001b[32m    121\u001b[39m \u001b[38;5;28;01melse\u001b[39;00m:\n\u001b[32m--> \u001b[39m\u001b[32m122\u001b[39m     \u001b[38;5;28;01mreturn\u001b[39;00m \u001b[43mfunc\u001b[49m\u001b[43m(\u001b[49m\u001b[43m*\u001b[49m\u001b[43m*\u001b[49m\u001b[43mfinal_args\u001b[49m\u001b[43m)\u001b[49m\n",
      "\u001b[36mFile \u001b[39m\u001b[32m~/repos@uibcdf/molsysmt/molsysmt/basic/get.py:172\u001b[39m, in \u001b[36mget\u001b[39m\u001b[34m(molecular_system, element, selection, structure_indices, mask, syntax, get_missing_bonds, output_type, skip_digestion, **kwargs)\u001b[39m\n\u001b[32m    169\u001b[39m         element = \u001b[33m'\u001b[39m\u001b[33matom\u001b[39m\u001b[33m'\u001b[39m\n\u001b[32m    171\u001b[39m \u001b[38;5;28;01mif\u001b[39;00m \u001b[38;5;129;01mnot\u001b[39;00m is_all(selection):\n\u001b[32m--> \u001b[39m\u001b[32m172\u001b[39m     indices = \u001b[43mselect\u001b[49m\u001b[43m(\u001b[49m\u001b[43mmolecular_system\u001b[49m\u001b[43m,\u001b[49m\u001b[43m \u001b[49m\u001b[43melement\u001b[49m\u001b[43m=\u001b[49m\u001b[43melement\u001b[49m\u001b[43m,\u001b[49m\u001b[43m \u001b[49m\u001b[43mselection\u001b[49m\u001b[43m=\u001b[49m\u001b[43mselection\u001b[49m\u001b[43m,\u001b[49m\u001b[43m \u001b[49m\u001b[43mmask\u001b[49m\u001b[43m=\u001b[49m\u001b[43mmask\u001b[49m\u001b[43m,\u001b[49m\u001b[43m \u001b[49m\u001b[43msyntax\u001b[49m\u001b[43m=\u001b[49m\u001b[43msyntax\u001b[49m\u001b[43m,\u001b[49m\u001b[43m \u001b[49m\u001b[43mskip_digestion\u001b[49m\u001b[43m=\u001b[49m\u001b[38;5;28;43;01mTrue\u001b[39;49;00m\u001b[43m)\u001b[49m\n\u001b[32m    173\u001b[39m \u001b[38;5;28;01melse\u001b[39;00m:\n\u001b[32m    174\u001b[39m     \u001b[38;5;28;01mif\u001b[39;00m (mask \u001b[38;5;129;01mis\u001b[39;00m \u001b[38;5;28;01mNone\u001b[39;00m) \u001b[38;5;129;01mor\u001b[39;00m (is_all(mask)):\n",
      "\u001b[36mFile \u001b[39m\u001b[32m~/repos@uibcdf/molsysmt/molsysmt/_private/digestion/digest.py:52\u001b[39m, in \u001b[36mdigest.<locals>.digestor.<locals>.wrapper\u001b[39m\u001b[34m(*args, **kwargs)\u001b[39m\n\u001b[32m     48\u001b[39m \u001b[38;5;129m@functools\u001b[39m.wraps(func)\n\u001b[32m     49\u001b[39m \u001b[38;5;28;01mdef\u001b[39;00m\u001b[38;5;250m \u001b[39m\u001b[34mwrapper\u001b[39m(*args, **kwargs):\n\u001b[32m     51\u001b[39m     \u001b[38;5;28;01mif\u001b[39;00m kwargs.get(\u001b[33m'\u001b[39m\u001b[33mskip_digestion\u001b[39m\u001b[33m'\u001b[39m, \u001b[38;5;28;01mFalse\u001b[39;00m):\n\u001b[32m---> \u001b[39m\u001b[32m52\u001b[39m         \u001b[38;5;28;01mreturn\u001b[39;00m \u001b[43mfunc\u001b[49m\u001b[43m(\u001b[49m\u001b[43m*\u001b[49m\u001b[43margs\u001b[49m\u001b[43m,\u001b[49m\u001b[43m \u001b[49m\u001b[43m*\u001b[49m\u001b[43m*\u001b[49m\u001b[43mkwargs\u001b[49m\u001b[43m)\u001b[49m\n\u001b[32m     54\u001b[39m     \u001b[38;5;66;03m# Define caller\u001b[39;00m\n\u001b[32m     56\u001b[39m     caller = func.\u001b[34m__module__\u001b[39m+\u001b[33m'\u001b[39m\u001b[33m.\u001b[39m\u001b[33m'\u001b[39m+func.\u001b[34m__name__\u001b[39m\n",
      "\u001b[36mFile \u001b[39m\u001b[32m~/repos@uibcdf/molsysmt/molsysmt/basic/select.py:191\u001b[39m, in \u001b[36mselect\u001b[39m\u001b[34m(molecular_system, selection, structure_indices, element, mask, syntax, to_syntax, skip_digestion)\u001b[39m\n\u001b[32m    187\u001b[39m         output_indices = np.unique(np.concatenate(output_indices)).tolist()\n\u001b[32m    189\u001b[39m     \u001b[38;5;28;01melse\u001b[39;00m:\n\u001b[32m--> \u001b[39m\u001b[32m191\u001b[39m         \u001b[38;5;28;01mraise\u001b[39;00m NotImplementedMethodError()\n\u001b[32m    193\u001b[39m \u001b[38;5;28;01mif\u001b[39;00m is_all(mask):\n\u001b[32m    194\u001b[39m     mask = \u001b[38;5;28;01mNone\u001b[39;00m\n",
      "\u001b[31mNotImplementedMethodError\u001b[39m: This method was not implemented yet."
     ]
    }
   ],
   "source": [
    "msm.compare(molsys_B, molsys_C, selection='molecule_type==\"protein\"', selection_2='all',\n",
    "            coordinates=True, box=True, n_groups=True, output_type='dictionary')"
   ]
  },
  {
   "cell_type": "markdown",
   "id": "cbf6ecf8-96b4-4ef4-a7b3-2b848d00223b",
   "metadata": {},
   "source": [
    ":::{seealso}  \n",
    "[User guide > Tools > Basic > Convert](convert.ipynb): Converting a molecular system into other form.    \n",
    "[User guide > Tools > Basic > Extract](extract.ipynb): Extracting a portion of a molecular system.    \n",
    ":::"
   ]
  }
 ],
 "metadata": {
  "kernelspec": {
   "display_name": "Python 3 (ipykernel)",
   "language": "python",
   "name": "python3"
  },
  "language_info": {
   "codemirror_mode": {
    "name": "ipython",
    "version": 3
   },
   "file_extension": ".py",
   "mimetype": "text/x-python",
   "name": "python",
   "nbconvert_exporter": "python",
   "pygments_lexer": "ipython3",
   "version": "3.12.9"
  }
 },
 "nbformat": 4,
 "nbformat_minor": 5
}
