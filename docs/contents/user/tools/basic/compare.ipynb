{
 "cells": [
  {
   "cell_type": "code",
   "execution_count": 1,
   "id": "9cc07af9-2c01-478e-88e9-f98f715bfba2",
   "metadata": {
    "tags": [
     "remove-input"
    ]
   },
   "outputs": [],
   "source": [
    "# This cell is removed with the tag: \"remove-input\"\n",
    "# As such, it will not be shown in documentation\n",
    "\n",
    "import warnings\n",
    "warnings.filterwarnings('ignore')"
   ]
  },
  {
   "cell_type": "markdown",
   "id": "f5d55d2e-7cbd-4680-9fc5-c71bfb10e5a9",
   "metadata": {},
   "source": [
    "(Tutorial_Compare)=\n",
    "# Compare\n",
    "\n",
    "*Comparing molecular systems.*\n",
    "\n",
    "The function {func}`molsysmt.basic.compare` gives you the posibility to compare molecular systems.\n",
    "\n",
    "## How this function works\n",
    "\n",
    "```{admonition} API documentation\n",
    "Follow this link for a detailed description of the input arguments, raised errors, and returned objects of this function:{func}`molsysmt.basic.compare`.\n",
    "```\n",
    "\n",
    "Let's show how to compare molecular systems with the following three systems:"
   ]
  },
  {
   "cell_type": "code",
   "execution_count": 2,
   "id": "f7977816-1701-4d87-b174-af114747cff5",
   "metadata": {},
   "outputs": [
    {
     "data": {
      "application/vnd.jupyter.widget-view+json": {
       "model_id": "cc89b9cbc8f94822b4dc21175e5eedb3",
       "version_major": 2,
       "version_minor": 0
      },
      "text/plain": []
     },
     "metadata": {},
     "output_type": "display_data"
    }
   ],
   "source": [
    "import molsysmt as msm"
   ]
  },
  {
   "cell_type": "code",
   "execution_count": 3,
   "id": "49b60f38-a42d-4e2f-8aa8-4d4c614cbcac",
   "metadata": {},
   "outputs": [],
   "source": [
    "molsys_A = msm.convert('pdb_id:181L', to_form='openmm.Modeller')\n",
    "molsys_B = msm.convert(molsys_A, to_form='molsysmt.MolSys')\n",
    "molsys_C = msm.extract(molsys_B, selection='molecule_type==\"protein\"')"
   ]
  },
  {
   "cell_type": "markdown",
   "id": "8773c6dd-cd12-4ca9-a619-62da6b03112c",
   "metadata": {},
   "source": [
    "The systems $A$ and $B$ are equal, they only differ in the form. And $C$ is just a part of the same molecular system with the same form as $B$.\n",
    "\n",
    "Let's make some comparisons between these systems to illustrate how {func}`molsysmt.basic.compare` works:"
   ]
  },
  {
   "cell_type": "code",
   "execution_count": 4,
   "id": "f5bca6f9-b26b-4a17-8fa2-c503bbe36e89",
   "metadata": {},
   "outputs": [
    {
     "name": "stdout",
     "output_type": "stream",
     "text": [
      "['atom', {'n_atoms', 'atom_id', 'atom_index', 'atom_name', 'atom_type'}] {'n_atoms', 'atom_id', 'atom_index', 'atom_name', 'atom_type'} [<Topology; 6 chains, 302 residues, 1441 atoms, 1322 bonds>] None\n",
      "['group', {'n_groups', 'group_name', 'group_type', 'group_index', 'group_id'}] {'n_groups', 'group_name', 'group_type', 'group_index', 'group_id'} [<Topology; 6 chains, 302 residues, 1441 atoms, 1322 bonds>] None\n",
      "['component', {'component_type', 'component_name', 'n_components', 'component_id', 'component_index'}] {'n_components', 'component_type', 'component_index'} [<Topology; 6 chains, 302 residues, 1441 atoms, 1322 bonds>] None\n",
      "['molecule', {'molecule_name', 'n_molecules', 'molecule_type', 'molecule_id', 'molecule_index'}] {'molecule_type', 'n_molecules', 'molecule_index'} [<Topology; 6 chains, 302 residues, 1441 atoms, 1322 bonds>] None\n",
      "['chain', {'chain_type', 'n_chains', 'chain_id', 'chain_index', 'chain_name'}] {'chain_type', 'n_chains', 'chain_id', 'chain_index', 'chain_name'} [<Topology; 6 chains, 302 residues, 1441 atoms, 1322 bonds>] None\n",
      "['entity', {'entity_index', 'entity_name', 'n_entities', 'entity_type', 'entity_id'}] set() [<Topology; 6 chains, 302 residues, 1441 atoms, 1322 bonds>] None\n",
      "['bond', {'n_bonds', 'bond_id', 'bond_order', 'bond_type', 'bond_index', 'bonded_atom_pairs'}] {'n_bonds', 'bonded_atom_pairs'} [<Topology; 6 chains, 302 residues, 1441 atoms, 1322 bonds>] None\n",
      "['atom', {'inner_bonded_atom_pairs', 'inner_bond_index', 'n_inner_bonds'}] set() [<Topology; 6 chains, 302 residues, 1441 atoms, 1322 bonds>] None\n",
      "['atom', {'velocities', 'coordinates'}] set() [<Topology; 6 chains, 302 residues, 1441 atoms, 1322 bonds>] None\n",
      "['system', {'box_angles', 'structure_id', 'structure_index', 'box_volume', 'box_shape', 'n_structures', 'box', 'box_lengths'}] set() [<Topology; 6 chains, 302 residues, 1441 atoms, 1322 bonds>] None\n"
     ]
    },
    {
     "data": {
      "text/plain": [
       "True"
      ]
     },
     "execution_count": 4,
     "metadata": {},
     "output_type": "execute_result"
    }
   ],
   "source": [
    "msm.compare(molsys_A, molsys_B)"
   ]
  },
  {
   "cell_type": "code",
   "execution_count": 5,
   "id": "a5b057cf-9bc7-4ac3-8e4f-fdef4ac6ab6a",
   "metadata": {},
   "outputs": [
    {
     "name": "stdout",
     "output_type": "stream",
     "text": [
      "['atom', {'n_atoms', 'atom_id', 'atom_index', 'atom_name', 'atom_type'}] {'n_atoms', 'atom_id', 'atom_index', 'atom_name', 'atom_type'} None None\n",
      "['group', {'n_groups', 'group_name', 'group_type', 'group_index', 'group_id'}] {'n_groups', 'group_name', 'group_type', 'group_index', 'group_id'} None None\n",
      "['component', {'component_type', 'component_name', 'n_components', 'component_id', 'component_index'}] {'n_components', 'component_type', 'component_index'} None None\n",
      "['molecule', {'molecule_name', 'n_molecules', 'molecule_type', 'molecule_id', 'molecule_index'}] {'molecule_type', 'n_molecules', 'molecule_index'} None None\n",
      "['chain', {'chain_type', 'n_chains', 'chain_id', 'chain_index', 'chain_name'}] {'chain_type', 'n_chains', 'chain_id', 'chain_index', 'chain_name'} None None\n",
      "['entity', {'entity_index', 'entity_name', 'n_entities', 'entity_type', 'entity_id'}] set() None None\n",
      "['bond', {'n_bonds', 'bond_id', 'bond_order', 'bond_type', 'bond_index', 'bonded_atom_pairs'}] {'n_bonds', 'bonded_atom_pairs'} None None\n",
      "['atom', {'inner_bonded_atom_pairs', 'inner_bond_index', 'n_inner_bonds'}] set() None None\n",
      "['atom', {'velocities', 'coordinates'}] set() None None\n",
      "['system', {'box_angles', 'structure_id', 'structure_index', 'box_volume', 'box_shape', 'n_structures', 'box', 'box_lengths'}] set() None None\n"
     ]
    },
    {
     "data": {
      "text/plain": [
       "False"
      ]
     },
     "execution_count": 5,
     "metadata": {},
     "output_type": "execute_result"
    }
   ],
   "source": [
    "msm.compare(molsys_B, molsys_C)"
   ]
  },
  {
   "cell_type": "markdown",
   "id": "08bbeff9-0531-45ad-8924-391eaabe475e",
   "metadata": {},
   "source": [
    "```{admonition} Tip\n",
    ":class: tip\n",
    "All methods defined in the {ref}`molsysmt.basic <API basic>` module can be invoked also from the main level of the library. As such, {func}`molsysmt.compare` is the same method as {func}`molsysmt.basic.compare`.\n",
    "```"
   ]
  },
  {
   "cell_type": "markdown",
   "id": "c8f8959d-557d-450e-a66d-e876e8f176bf",
   "metadata": {},
   "source": [
    "By default, only the elements are compared. Other attributes as `coordinates`, `box` or `n_groups` can be introduced in the comparison:"
   ]
  },
  {
   "cell_type": "code",
   "execution_count": null,
   "id": "be046bf5-9e8a-44fc-9a43-9d808e49e573",
   "metadata": {},
   "outputs": [],
   "source": [
    "print(molsys_A)"
   ]
  },
  {
   "cell_type": "code",
   "execution_count": null,
   "id": "87ce86c4-a9ed-4372-8a25-f9385af40551",
   "metadata": {},
   "outputs": [],
   "source": [
    "print(molsys_B)"
   ]
  },
  {
   "cell_type": "code",
   "execution_count": null,
   "id": "352c9a64-1327-42ab-9f02-43893cbcfecd",
   "metadata": {},
   "outputs": [],
   "source": [
    "msm.compare(molsys_A, molsys_B, coordinates=True, box=True, n_groups=True)"
   ]
  },
  {
   "cell_type": "code",
   "execution_count": null,
   "id": "94c64e85-4d97-424c-8d70-c7bd01a82540",
   "metadata": {},
   "outputs": [],
   "source": [
    "msm.compare(molsys_B, molsys_C, coordinates=True, box=True, n_groups=True)"
   ]
  },
  {
   "cell_type": "markdown",
   "id": "b02135ea-6692-428a-a87f-f599e8a10f7a",
   "metadata": {},
   "source": [
    "A detailed report by attributes compared can be obtained with the input argument `output_type=\"dictionary\"`:"
   ]
  },
  {
   "cell_type": "code",
   "execution_count": null,
   "id": "4a48d678-ab15-4c87-98c6-9e4aa03c5040",
   "metadata": {},
   "outputs": [],
   "source": [
    "msm.compare(molsys_B, molsys_C, coordinates=True, box=True, n_groups=True, output_type='dictionary')"
   ]
  },
  {
   "cell_type": "markdown",
   "id": "cf399d39-fee8-4f48-a74f-1d26a1d8e2cc",
   "metadata": {},
   "source": [
    "The boolean value of the attributes can also be used to check the falsehood of the comparison:"
   ]
  },
  {
   "cell_type": "code",
   "execution_count": null,
   "id": "bd2ce323-000a-4edb-9b1a-1fe6e02a8552",
   "metadata": {},
   "outputs": [],
   "source": [
    "msm.compare(molsys_B, molsys_C, coordinates=False, box=True, n_groups=False, output_type='dictionary')"
   ]
  },
  {
   "cell_type": "markdown",
   "id": "69b02172-6e69-419d-a8c1-07001765e617",
   "metadata": {},
   "source": [
    "Do not forget you can make use of the input arguments `selection`, `structure_indices`, `selection_2` and `structure_indices_2`:"
   ]
  },
  {
   "cell_type": "code",
   "execution_count": null,
   "id": "33cf40d9-ec1c-4d99-aea4-ebc7a45592f8",
   "metadata": {},
   "outputs": [],
   "source": [
    "msm.compare(molsys_B, molsys_C, selection='molecule_type==\"protein\"', selection_2='all',\n",
    "            coordinates=True, box=True, n_groups=True, output_type='dictionary')"
   ]
  },
  {
   "cell_type": "markdown",
   "id": "cbf6ecf8-96b4-4ef4-a7b3-2b848d00223b",
   "metadata": {},
   "source": [
    ":::{seealso}  \n",
    "[User guide > Tools > Basic > Convert](convert.ipynb): Converting a molecular system into other form.    \n",
    "[User guide > Tools > Basic > Extract](extract.ipynb): Extracting a portion of a molecular system.    \n",
    ":::"
   ]
  }
 ],
 "metadata": {
  "kernelspec": {
   "display_name": "Python 3 (ipykernel)",
   "language": "python",
   "name": "python3"
  },
  "language_info": {
   "codemirror_mode": {
    "name": "ipython",
    "version": 3
   },
   "file_extension": ".py",
   "mimetype": "text/x-python",
   "name": "python",
   "nbconvert_exporter": "python",
   "pygments_lexer": "ipython3",
   "version": "3.12.9"
  }
 },
 "nbformat": 4,
 "nbformat_minor": 5
}
