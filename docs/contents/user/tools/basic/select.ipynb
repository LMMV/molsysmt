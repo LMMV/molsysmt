{
 "cells": [
  {
   "cell_type": "code",
   "execution_count": 1,
   "metadata": {
    "editable": true,
    "slideshow": {
     "slide_type": ""
    },
    "tags": [
     "remove-input"
    ]
   },
   "outputs": [],
   "source": [
    "# This cell is removed with the tag: \"remove-input\"\n",
    "# As such, it will not be shown in documentation\n",
    "\n",
    "#import warnings\n",
    "#warnings.filterwarnings('ignore')"
   ]
  },
  {
   "cell_type": "markdown",
   "metadata": {},
   "source": [
    "(Tutorial_Select)=\n",
    "# Select\n",
    "*Selecting elements in a molecular system*\n",
    "\n",
    "Elements selections is probably one of the most frequently tasks when we work with molecular systems. There are many circumstances under which we need to know lists of elements acomplishing certain conditions. We probably need, for instance, to calculate de contact map between CA atoms from two chains, or to remove the solvent atoms, or to know how many 'HIS' residues there are in a protein. All these conditions can be expresed as a query sentence the elements of the system needs to match. Each library to work with molecular systems has its own syntax you have to follow to write this query sentences. See for instance different examples in the tools [MDTraj](https://www.mdtraj.org/1.9.7/atom_selection.html), [PyTraj](https://amber-md.github.io/pytraj/latest/atom_mask_selection.html?highlight=select), [MDAnalysis](https://docs.mdanalysis.org/stable/documentation_pages/selections.html), [NGLView](http://nglviewer.org/ngl/api/manual/usage/selection-language.html).\n",
    "\n",
    "The basic module of MolSysMT includes the function {func}`molsysmt.basic.select` to perform elements selection on molecular systems with a native syntax or making use of other supported supported syntaxes."
   ]
  },
  {
   "cell_type": "markdown",
   "metadata": {
    "editable": true,
    "slideshow": {
     "slide_type": ""
    },
    "tags": [
     "remove-input"
    ]
   },
   "source": [
    "## MolSysMT selection syntax\n",
    "\n",
    "Although you can use the function {func}`molsysmt.basic.select` with some of your preferred syntaxes (see [User guide > Introduction > Selection syntaxes](../../intro/selection_syntaxes.ipynb)), MolSysMT has its own selection syntax based on the names of the attributes of the elements as atoms, groups, molecules, etc. These are the \"words\" allowed for the elements attributes to be include in the query strings:"
   ]
  },
  {
   "cell_type": "markdown",
   "metadata": {},
   "source": [
    "<br/>\n",
    "\n",
    "| Word | Attribute |\n",
    "|---|---|\n",
    "| \"atom_index\" | atom_index |\n",
    "| \"atom_name\" | atom_name |\n",
    "| \"atom_id\" | atom_id |\n",
    "| \"atom_type\" | atom_type |\n",
    "| \"group_index\" | group_index |\n",
    "| \"group_name\" | group_name |\n",
    "| \"group_id\" | group_id |\n",
    "| \"group_type\" | group_type |\n",
    "| \"component_index\" | component_index |\n",
    "| \"component_name\" | component_name |\n",
    "| \"component_id\" | component_id |\n",
    "| \"component_type\" | component_type |\n",
    "| \"chain_index\" | chain_index |\n",
    "| \"chain_name\" | chain_name |\n",
    "| \"chain_id\" | chain_id |\n",
    "| \"chain_type\" | chain_type |\n",
    "| \"molecule_index\" | molecule_index |\n",
    "| \"molecule_name\" | molecule_name |\n",
    "| \"molecule_id\" | molecule_id |\n",
    "| \"molecule_type\" | molecule_type |\n",
    "| \"entity_index\" | entity_index |\n",
    "| \"entity_name\" | entity_name |\n",
    "| \"entity_id\" | entity_id |\n",
    "| \"entity_type\" | entity_type |\n",
    "| \"occupancy\" | occupancy |\n",
    "| \"alternate_location\" | alternate_location |\n",
    "| \"b_factor\" | b_factor \n",
    "| \"formal_charge\" | formal_charge |\n",
    "| \"partial_charge\" | partial_charge |\n",
    "\n",
    "<br/>"
   ]
  },
  {
   "cell_type": "markdown",
   "metadata": {},
   "source": [
    "The plural forms of the former words are also accepted. For example:"
   ]
  },
  {
   "cell_type": "markdown",
   "metadata": {},
   "source": [
    "<br/>\n",
    "\n",
    "| Word | Equivalent |\n",
    "|---|---|\n",
    "| \"atom_indices\" | \"atom_index\" |\n",
    "| \"component_names\" | \"component_name\" |\n",
    "| \"occupancies\" | \"occupancy\" |\n",
    "| \"formal_charges\" | \"formal_charge\" |\n",
    "\n",
    "<br/>"
   ]
  },
  {
   "cell_type": "markdown",
   "metadata": {},
   "source": [
    "The boolean syntax MolSysMT accepts includes the following words and symbols:\n",
    "\n",
    "<br/>\n",
    "\n",
    "| Word | Symbol | Meaning |\n",
    "|---|---|---|\n",
    "| \"and\" | & | and |\n",
    "| \"or\" | \\| | or |\n",
    "| \"not\" | ~ | not |\n",
    "| \"in\" | | in |\n",
    "|  | == | equal |\n",
    "|  | != | not equal |\n",
    "|  | < | less than |\n",
    "|  | <= | less or equal than |\n",
    "|  | > | greater than |\n",
    "|  | >= | greater or equal than |\n",
    "\n",
    "<br/>"
   ]
  },
  {
   "cell_type": "markdown",
   "metadata": {},
   "source": [
    "MolSysMT includes in its native selection syntax some other query restrictions involving spatial coordinates and bonds:\n",
    "\n",
    "<br/>\n",
    "\n",
    "| Words | Meaning |\n",
    "|---|---|\n",
    "| \"within ... of\" | Elements are selected if they are at a certain distance of other elements |\n",
    "| \"not within ... of\" | Elements are selected if they not are at a certain distance of other elements|\n",
    "| \"within ... with pbc of\" | Elements are selected if they are at a certain distance of other elements with periodic boundary conditions|\n",
    "| \"within ... without pbc of\" | Elements are selected if they are at a certain distance of other elements without periodic boundary conditions|\n",
    "\n",
    "<br/>\n",
    "\n",
    "| Words | Meaning |\n",
    "|---|---|\n",
    "| \"bonded to\" | Elements are selected if they are bonded to other elements |\n",
    "| \"not bonded to\" | Elements are selected if they are not bonded to other elements |\n",
    "\n",
    "<br/>\n",
    "\n",
    "Finally, lists of elements can be queried with the help of the following expressions:\n",
    "\n",
    "<br/>\n",
    "\n",
    "| Words | Meaning |\n",
    "|---|---|\n",
    "| \"in groups of\" | Elements are selected and returned in lists corresponding to different groups |\n",
    "| \"in components of\" | Elements are selected and returned in lists corresponding to different components |\n",
    "| \"in molecules of\" | Elements are selected and returned in lists corresponding to different molecules |\n",
    "| \"in chains of\" | Elements are selected and returned in lists corresponding to different chains |\n",
    "| \"in entities of\" | Elements are selected and returned in lists corresponding to different entities |\n",
    "\n",
    "<br/>\n"
   ]
  },
  {
   "cell_type": "markdown",
   "metadata": {},
   "source": [
    "### Native selection shortcuts\n",
    "\n",
    "In addition to the former words and symbols, the native MolSysMT selection syntax includes some shortcuts:\n",
    "\n",
    "<br/>\n",
    "\n",
    "| Word | Equivalent |\n",
    "|---|---|\n",
    "| \"index\" or \"indices\" | \"*element*_index\" where *element* is given by the input argument ``element``|\n",
    "| \"id\" or \"ids\" | \"*element*_id\" where *element* is given by the input argument ``element``|\n",
    "| \"name\" or \"names\" | \"*element*_name\" where *element* is given by the input argument ``element``|\n",
    "| \"type\" or \"types\" | \"*element*_type\" where *element* is given by the input argument ``element``|\n",
    "\n",
    "<br/>\n",
    "\n",
    "| Word | Equivalent |\n",
    "|---|---|\n",
    "| \"backbone\" | \"atom_name in ['CA', 'N', 'C', 'O']\"|\n",
    "| \"hydrogen\" or \"hydrogens\" | \"atom_type=='H'\"|\n",
    "\n",
    "<br/>\n",
    "\n",
    "### Your own selection shortcuts\n",
    "\n",
    "You can customize the selection experience with your own selection shortcuts. Have a look to the section [User guide > Introduction > Configuration options](../../intro/configuration_options.ipynb)"
   ]
  },
  {
   "cell_type": "markdown",
   "metadata": {
    "editable": true,
    "slideshow": {
     "slide_type": ""
    },
    "tags": [
     "remove-input"
    ]
   },
   "source": [
    "## How this function works\n",
    "\n",
    ":::{admonition} API documentation\n",
    "Follow this link for a detailed description of the input arguments, raised errors, and returned objects of this function:{func}`molsysmt.basic.select`.\n",
    ":::\n",
    "\n",
    "Let's illustrate how the function {func}`molsysmt.basic.select` works making use of the MolSysMT native syntax. The following are some examples where a list of atoms is obtained matching some selection criteria based on atoms attributes:"
   ]
  },
  {
   "cell_type": "code",
   "execution_count": 2,
   "metadata": {},
   "outputs": [
    {
     "data": {
      "application/vnd.jupyter.widget-view+json": {
       "model_id": "bfc36ca856494620a5c58c2aeefa61a5",
       "version_major": 2,
       "version_minor": 0
      },
      "text/plain": []
     },
     "metadata": {},
     "output_type": "display_data"
    }
   ],
   "source": [
    "import molsysmt as msm"
   ]
  },
  {
   "cell_type": "code",
   "execution_count": 3,
   "metadata": {},
   "outputs": [],
   "source": [
    "molecular_system = msm.convert('1TCD', to_form='molsysmt.MolSys')"
   ]
  },
  {
   "cell_type": "code",
   "execution_count": 4,
   "metadata": {
    "editable": true,
    "slideshow": {
     "slide_type": ""
    },
    "tags": [
     "remove-input"
    ]
   },
   "outputs": [
    {
     "data": {
      "text/plain": [
       "array([ 1,  4, 10, 13, 17])"
      ]
     },
     "execution_count": 4,
     "metadata": {},
     "output_type": "execute_result"
    }
   ],
   "source": [
    "# Atoms with name CA or CB and id < 20\n",
    "msm.select(molecular_system, element='atom', selection='atom_name in [\"CA\",\"CB\"] and atom_id<20')"
   ]
  },
  {
   "cell_type": "markdown",
   "metadata": {},
   "source": [
    "```{admonition} Tip\n",
    ":class: tip\n",
    "All functions defined in the {ref}`molsysmt.basic <API basic>` module can be invoked also from the main level of the library. Hence, {func}`molsysmt.select` is the same function as {func}`molsysmt.basic.select`.\n",
    "```"
   ]
  },
  {
   "cell_type": "code",
   "execution_count": 5,
   "metadata": {},
   "outputs": [
    {
     "data": {
      "text/plain": [
       "array([   0,    1,    2, ..., 3980, 3981, 3982])"
      ]
     },
     "execution_count": 5,
     "metadata": {},
     "output_type": "execute_result"
    }
   ],
   "source": [
    "# Heavy atoms\n",
    "msm.select(molecular_system, 'not atom_type==\"H\"')"
   ]
  },
  {
   "cell_type": "markdown",
   "metadata": {},
   "source": [
    "```{admonition} Tip\n",
    ":class: tip\n",
    "By default, the input argument `element` takes the value \"atom\" in {func}`molsysmt.basic.select`.\n",
    "```"
   ]
  },
  {
   "cell_type": "markdown",
   "metadata": {},
   "source": [
    "The selection argument accepts also lists of indices, which are **always** intepreted as element indices."
   ]
  },
  {
   "cell_type": "code",
   "execution_count": 6,
   "metadata": {},
   "outputs": [
    {
     "data": {
      "text/plain": [
       "[0, 1, 2]"
      ]
     },
     "execution_count": 6,
     "metadata": {},
     "output_type": "execute_result"
    }
   ],
   "source": [
    "msm.select(molecular_system, element='atom', selection=[0,1,2])"
   ]
  },
  {
   "cell_type": "markdown",
   "metadata": {},
   "source": [
    "## Some examples of atoms selections\n",
    "\n",
    "Let's show here some examples of atoms selections using the MolSysMT native syntax."
   ]
  },
  {
   "cell_type": "code",
   "execution_count": 7,
   "metadata": {},
   "outputs": [
    {
     "data": {
      "text/plain": [
       "array([   2,    4,    5, ..., 3813, 3814, 3815])"
      ]
     },
     "execution_count": 7,
     "metadata": {},
     "output_type": "execute_result"
    }
   ],
   "source": [
    "# Atoms of type C not named CA\n",
    "msm.select(molecular_system, 'atom_type==\"C\" and not atom_name==\"CA\"')"
   ]
  },
  {
   "cell_type": "code",
   "execution_count": 8,
   "metadata": {},
   "outputs": [
    {
     "data": {
      "text/plain": [
       "array([   0,    3,    5, ..., 3980, 3981, 3982])"
      ]
     },
     "execution_count": 8,
     "metadata": {},
     "output_type": "execute_result"
    }
   ],
   "source": [
    "# Atoms not named CA, CB or C\n",
    "msm.select(molecular_system, 'atom_name!=[\"CA\",\"CB\",\"C\"]')"
   ]
  },
  {
   "cell_type": "markdown",
   "metadata": {},
   "source": [
    "Atoms can be selected using attributes of other elements in the hierarchical organization of the molecular system: 'group', 'component', 'molecule', 'chain', 'entity'. You can find further information of these elements in [User guide > Introduction > Molecular system > Elements](../../intro/molecular_dynamics/elements.ipynb). These are some examples of selection sentences including other criteria than atoms attributes:"
   ]
  },
  {
   "cell_type": "code",
   "execution_count": 9,
   "metadata": {
    "tags": [
     "scroll-output"
    ]
   },
   "outputs": [
    {
     "data": {
      "text/plain": [
       "array([3818, 3819, 3820, 3821, 3822, 3823, 3824, 3825, 3826, 3827, 3828,\n",
       "       3829, 3830, 3831, 3832, 3833, 3834, 3835, 3836, 3837, 3838, 3839,\n",
       "       3840, 3841, 3842, 3843, 3844, 3845, 3846, 3847, 3848, 3849, 3850,\n",
       "       3851, 3852, 3853, 3854, 3855, 3856, 3857, 3858, 3859, 3860, 3861,\n",
       "       3862, 3863, 3864, 3865, 3866, 3867, 3868, 3869, 3870, 3871, 3872,\n",
       "       3873, 3874, 3875, 3876, 3877, 3878, 3879, 3880, 3881, 3882, 3883,\n",
       "       3884, 3885, 3886, 3887, 3888, 3889, 3890, 3891, 3892, 3893, 3894,\n",
       "       3895, 3896, 3897, 3898, 3899, 3900, 3901, 3902, 3903, 3904, 3905,\n",
       "       3906, 3907, 3908, 3909, 3910, 3911, 3912, 3913, 3914, 3915, 3916,\n",
       "       3917, 3918, 3919, 3920, 3921, 3922, 3923, 3924, 3925, 3926, 3927,\n",
       "       3928, 3929, 3930, 3931, 3932, 3933, 3934, 3935, 3936, 3937, 3938,\n",
       "       3939, 3940, 3941, 3942, 3943, 3944, 3945, 3946, 3947, 3948, 3949,\n",
       "       3950, 3951, 3952, 3953, 3954, 3955, 3956, 3957, 3958, 3959, 3960,\n",
       "       3961, 3962, 3963, 3964, 3965, 3966, 3967, 3968, 3969, 3970, 3971,\n",
       "       3972, 3973, 3974, 3975, 3976, 3977, 3978, 3979, 3980, 3981, 3982])"
      ]
     },
     "execution_count": 9,
     "metadata": {},
     "output_type": "execute_result"
    }
   ],
   "source": [
    "# Atoms belonging to molecules of type water.\n",
    "msm.select(molecular_system, 'molecule_type==\"water\"')"
   ]
  },
  {
   "cell_type": "code",
   "execution_count": 10,
   "metadata": {},
   "outputs": [
    {
     "data": {
      "text/plain": [
       "array([25, 26, 27, 28, 29, 30, 31])"
      ]
     },
     "execution_count": 10,
     "metadata": {},
     "output_type": "execute_result"
    }
   ],
   "source": [
    "# Heavy atoms belonging to molecules of type protein.\n",
    "msm.select(molecular_system, 'molecule_type==\"protein\" and atom_type!=\"H\" and group_index==3')"
   ]
  },
  {
   "cell_type": "code",
   "execution_count": 11,
   "metadata": {
    "tags": [
     "scroll-output"
    ]
   },
   "outputs": [
    {
     "data": {
      "text/plain": [
       "array([  40,   41,   42,   43,   44,   45,   46,   47,   48,   49,   50,\n",
       "         51,   52,   53,   54,  100,  101,  102,  103,  141,  142,  143,\n",
       "        144,  145,  146,  147,  203,  204,  205,  206,  207,  208,  209,\n",
       "        210,  211,  212,  257,  258,  259,  260,  261,  262,  263,  279,\n",
       "        280,  281,  282,  283,  284,  285,  286,  287,  288,  289,  290,\n",
       "        291,  292,  293,  294,  295,  296,  297,  380,  381,  382,  383,\n",
       "        384,  463,  464,  465,  466,  467,  468,  469,  470,  471,  472,\n",
       "        490,  491,  492,  493,  494,  527,  528,  529,  530,  531,  532,\n",
       "        533,  534,  535,  554,  555,  556,  557,  567,  568,  569,  570,\n",
       "        571,  572,  573,  642,  643,  644,  645,  674,  675,  676,  677,\n",
       "        678,  679,  680,  681,  682,  683,  684,  685,  686,  687,  696,\n",
       "        697,  698,  699,  779,  780,  781,  782,  824,  825,  826,  827,\n",
       "        828,  829,  830,  831,  832,  833,  834,  835,  854,  855,  856,\n",
       "        857,  858,  859,  860,  861,  862,  863,  864,  865,  875,  876,\n",
       "        877,  878,  879,  886,  887,  888,  889,  890,  891,  892,  893,\n",
       "        894,  895,  896,  897,  898,  899,  921,  922,  923,  924,  925,\n",
       "        926,  927,  936,  937,  938,  939,  940,  941,  942,  949,  950,\n",
       "        951,  952,  953,  954,  955,  956,  957,  958,  959, 1022, 1023,\n",
       "       1024, 1025, 1026, 1027, 1028, 1029, 1030, 1049, 1050, 1051, 1052,\n",
       "       1053, 1054, 1055, 1056, 1057, 1058, 1059, 1060, 1061, 1062, 1063,\n",
       "       1064, 1065, 1066, 1067, 1068, 1069, 1070, 1071, 1072, 1105, 1106,\n",
       "       1107, 1108, 1109, 1110, 1111, 1112, 1113, 1114, 1115, 1116, 1117,\n",
       "       1118, 1119, 1120, 1121, 1122, 1123, 1124, 1125, 1126, 1177, 1178,\n",
       "       1179, 1180, 1181, 1213, 1214, 1215, 1216, 1217, 1218, 1219, 1220,\n",
       "       1221, 1222, 1223, 1224, 1225, 1226, 1235, 1236, 1237, 1238, 1239,\n",
       "       1268, 1269, 1270, 1271, 1272, 1273, 1274, 1289, 1290, 1291, 1292,\n",
       "       1293, 1302, 1303, 1304, 1305, 1313, 1314, 1315, 1316, 1326, 1327,\n",
       "       1328, 1329, 1330, 1331, 1332, 1333, 1334, 1335, 1336, 1337, 1370,\n",
       "       1371, 1372, 1373, 1374, 1393, 1394, 1395, 1396, 1397, 1398, 1399,\n",
       "       1471, 1472, 1473, 1474, 1475, 1476, 1477, 1512, 1513, 1514, 1515,\n",
       "       1539, 1540, 1541, 1542, 1543, 1544, 1545, 1546, 1547, 1548, 1605,\n",
       "       1606, 1607, 1608, 1609, 1610, 1611, 1612, 1619, 1620, 1621, 1622,\n",
       "       1623, 1624, 1625, 1633, 1634, 1635, 1636, 1637, 1655, 1656, 1657,\n",
       "       1658, 1659, 1750, 1751, 1752, 1753, 1773, 1774, 1775, 1776, 1777,\n",
       "       1778, 1779, 1780, 1781, 1782, 1783, 1784, 1785, 1786, 1787, 1788,\n",
       "       1789, 1790, 1791, 1792, 1843, 1844, 1845, 1846, 1847, 1848, 1849,\n",
       "       1884, 1885, 1886, 1887, 1888])"
      ]
     },
     "execution_count": 11,
     "metadata": {},
     "output_type": "execute_result"
    }
   ],
   "source": [
    "# Atoms belonging to residues named GLY, ALA or VAL in chain id A.\n",
    "msm.select(molecular_system, 'group_name==[\"GLY\",\"ALA\",\"VAL\"] and chain_id==\"A\"') "
   ]
  },
  {
   "cell_type": "markdown",
   "metadata": {},
   "source": [
    "Remember that when selection takes a list of integers as value, this is **always** intepreted as a list of element indices -atoms in this case-:"
   ]
  },
  {
   "cell_type": "code",
   "execution_count": 12,
   "metadata": {},
   "outputs": [
    {
     "data": {
      "text/plain": [
       "[10, 11, 12, 13]"
      ]
     },
     "execution_count": 12,
     "metadata": {},
     "output_type": "execute_result"
    }
   ],
   "source": [
    "msm.select(molecular_system, selection=[10,11,12,13]) "
   ]
  },
  {
   "cell_type": "markdown",
   "metadata": {},
   "source": [
    "## Some examples of other elements selections\n",
    "\n",
    "The selection method of MolSysMT can also return other elements indices than atoms. As many functions in MolSysMT, {func}`molsysmt.basic.select()` has an input argument named `element` to select the elements to which the function operates. Let's see some examples:"
   ]
  },
  {
   "cell_type": "code",
   "execution_count": 13,
   "metadata": {},
   "outputs": [
    {
     "data": {
      "text/plain": [
       "[5,\n",
       " 6,\n",
       " 7,\n",
       " 27,\n",
       " 28,\n",
       " 39,\n",
       " 50,\n",
       " 60,\n",
       " 61,\n",
       " 64,\n",
       " 70,\n",
       " 107,\n",
       " 111,\n",
       " 113,\n",
       " 115,\n",
       " 116,\n",
       " 133,\n",
       " 137,\n",
       " 138,\n",
       " 145,\n",
       " 146,\n",
       " 148,\n",
       " 155,\n",
       " 162,\n",
       " 168,\n",
       " 175,\n",
       " 180,\n",
       " 200,\n",
       " 201,\n",
       " 213,\n",
       " 216,\n",
       " 233,\n",
       " 245,\n",
       " 254,\n",
       " 255,\n",
       " 256,\n",
       " 276,\n",
       " 277,\n",
       " 288,\n",
       " 299,\n",
       " 309,\n",
       " 310,\n",
       " 313,\n",
       " 319,\n",
       " 356,\n",
       " 360,\n",
       " 362,\n",
       " 364,\n",
       " 365,\n",
       " 382,\n",
       " 386,\n",
       " 387,\n",
       " 394,\n",
       " 395,\n",
       " 397,\n",
       " 404,\n",
       " 411,\n",
       " 417,\n",
       " 424,\n",
       " 429,\n",
       " 449,\n",
       " 450,\n",
       " 462,\n",
       " 465,\n",
       " 482,\n",
       " 494]"
      ]
     },
     "execution_count": 13,
     "metadata": {},
     "output_type": "execute_result"
    }
   ],
   "source": [
    "# Groups with name \"ALA\"\n",
    "msm.select(molecular_system,  element='group', selection='group_name==\"ALA\"')"
   ]
  },
  {
   "cell_type": "code",
   "execution_count": 14,
   "metadata": {},
   "outputs": [
    {
     "data": {
      "text/plain": [
       "[4, 5, 9]"
      ]
     },
     "execution_count": 14,
     "metadata": {},
     "output_type": "execute_result"
    }
   ],
   "source": [
    "# Groups of atoms index 34, 44 or 64\n",
    "msm.select(molecular_system, element='group', selection='atom_index==[34,44,64]')"
   ]
  },
  {
   "cell_type": "code",
   "execution_count": 15,
   "metadata": {
    "tags": [
     "scroll-output"
    ]
   },
   "outputs": [
    {
     "data": {
      "text/plain": [
       "[0,\n",
       " 1,\n",
       " 2,\n",
       " 3,\n",
       " 4,\n",
       " 5,\n",
       " 6,\n",
       " 7,\n",
       " 8,\n",
       " 9,\n",
       " 10,\n",
       " 11,\n",
       " 12,\n",
       " 13,\n",
       " 14,\n",
       " 15,\n",
       " 16,\n",
       " 17,\n",
       " 18,\n",
       " 19,\n",
       " 20,\n",
       " 21,\n",
       " 22,\n",
       " 23,\n",
       " 24,\n",
       " 25,\n",
       " 26,\n",
       " 27,\n",
       " 28,\n",
       " 29,\n",
       " 30,\n",
       " 31,\n",
       " 32,\n",
       " 33,\n",
       " 34,\n",
       " 35,\n",
       " 36,\n",
       " 37,\n",
       " 38,\n",
       " 39,\n",
       " 40,\n",
       " 41,\n",
       " 42,\n",
       " 43,\n",
       " 44,\n",
       " 45,\n",
       " 46,\n",
       " 47,\n",
       " 48,\n",
       " 49,\n",
       " 50,\n",
       " 51,\n",
       " 52,\n",
       " 53,\n",
       " 54,\n",
       " 55,\n",
       " 56,\n",
       " 57,\n",
       " 58,\n",
       " 59,\n",
       " 60,\n",
       " 61,\n",
       " 62,\n",
       " 63,\n",
       " 64,\n",
       " 65,\n",
       " 66,\n",
       " 67,\n",
       " 68,\n",
       " 69,\n",
       " 70,\n",
       " 71,\n",
       " 72,\n",
       " 73,\n",
       " 74,\n",
       " 75,\n",
       " 76,\n",
       " 77,\n",
       " 78,\n",
       " 79,\n",
       " 80,\n",
       " 81,\n",
       " 82,\n",
       " 83,\n",
       " 84,\n",
       " 85,\n",
       " 86,\n",
       " 87,\n",
       " 88,\n",
       " 89,\n",
       " 90,\n",
       " 91,\n",
       " 92,\n",
       " 93,\n",
       " 94,\n",
       " 95,\n",
       " 96,\n",
       " 97,\n",
       " 98,\n",
       " 99,\n",
       " 100,\n",
       " 101,\n",
       " 102,\n",
       " 103,\n",
       " 104,\n",
       " 105,\n",
       " 106,\n",
       " 107,\n",
       " 108,\n",
       " 109,\n",
       " 110,\n",
       " 111,\n",
       " 112,\n",
       " 113,\n",
       " 114,\n",
       " 115,\n",
       " 116,\n",
       " 117,\n",
       " 118,\n",
       " 119,\n",
       " 120,\n",
       " 121,\n",
       " 122,\n",
       " 123,\n",
       " 124,\n",
       " 125,\n",
       " 126,\n",
       " 127,\n",
       " 128,\n",
       " 129,\n",
       " 130,\n",
       " 131,\n",
       " 132,\n",
       " 133,\n",
       " 134,\n",
       " 135,\n",
       " 136,\n",
       " 137,\n",
       " 138,\n",
       " 139,\n",
       " 140,\n",
       " 141,\n",
       " 142,\n",
       " 143,\n",
       " 144,\n",
       " 145,\n",
       " 146,\n",
       " 147,\n",
       " 148,\n",
       " 149,\n",
       " 150,\n",
       " 151,\n",
       " 152,\n",
       " 153,\n",
       " 154,\n",
       " 155,\n",
       " 156,\n",
       " 157,\n",
       " 158,\n",
       " 159,\n",
       " 160,\n",
       " 161,\n",
       " 162,\n",
       " 163,\n",
       " 164,\n",
       " 165,\n",
       " 166,\n",
       " 167,\n",
       " 168,\n",
       " 169,\n",
       " 170,\n",
       " 171,\n",
       " 172,\n",
       " 173,\n",
       " 174,\n",
       " 175,\n",
       " 176,\n",
       " 177,\n",
       " 178,\n",
       " 179,\n",
       " 180,\n",
       " 181,\n",
       " 182,\n",
       " 183,\n",
       " 184,\n",
       " 185,\n",
       " 186,\n",
       " 187,\n",
       " 188,\n",
       " 189,\n",
       " 190,\n",
       " 191,\n",
       " 192,\n",
       " 193,\n",
       " 194,\n",
       " 195,\n",
       " 196,\n",
       " 197,\n",
       " 198,\n",
       " 199,\n",
       " 200,\n",
       " 201,\n",
       " 202,\n",
       " 203,\n",
       " 204,\n",
       " 205,\n",
       " 206,\n",
       " 207,\n",
       " 208,\n",
       " 209,\n",
       " 210,\n",
       " 211,\n",
       " 212,\n",
       " 213,\n",
       " 214,\n",
       " 215,\n",
       " 216,\n",
       " 217,\n",
       " 218,\n",
       " 219,\n",
       " 220,\n",
       " 221,\n",
       " 222,\n",
       " 223,\n",
       " 224,\n",
       " 225,\n",
       " 226,\n",
       " 227,\n",
       " 228,\n",
       " 229,\n",
       " 230,\n",
       " 231,\n",
       " 232,\n",
       " 233,\n",
       " 234,\n",
       " 235,\n",
       " 236,\n",
       " 237,\n",
       " 238,\n",
       " 239,\n",
       " 240,\n",
       " 241,\n",
       " 242,\n",
       " 243,\n",
       " 244,\n",
       " 245,\n",
       " 246,\n",
       " 247]"
      ]
     },
     "execution_count": 15,
     "metadata": {},
     "output_type": "execute_result"
    }
   ],
   "source": [
    "# Groups belonging to chain id A or C and molecule of type anything but water\n",
    "msm.select(molecular_system, element='group', selection='chain_id in [\"A\", \"C\"] and molecule_type!=\"water\"')"
   ]
  },
  {
   "cell_type": "code",
   "execution_count": 18,
   "metadata": {
    "tags": [
     "scroll-output"
    ]
   },
   "outputs": [
    {
     "data": {
      "text/plain": [
       "[2,\n",
       " 3,\n",
       " 4,\n",
       " 5,\n",
       " 6,\n",
       " 7,\n",
       " 8,\n",
       " 9,\n",
       " 10,\n",
       " 11,\n",
       " 12,\n",
       " 13,\n",
       " 14,\n",
       " 15,\n",
       " 16,\n",
       " 17,\n",
       " 18,\n",
       " 19,\n",
       " 20,\n",
       " 21,\n",
       " 22,\n",
       " 23,\n",
       " 24,\n",
       " 25,\n",
       " 26,\n",
       " 27,\n",
       " 28,\n",
       " 29,\n",
       " 30,\n",
       " 31,\n",
       " 32,\n",
       " 33,\n",
       " 34,\n",
       " 35,\n",
       " 36,\n",
       " 37,\n",
       " 38,\n",
       " 39,\n",
       " 40,\n",
       " 41,\n",
       " 42,\n",
       " 43,\n",
       " 44,\n",
       " 45,\n",
       " 46,\n",
       " 47,\n",
       " 48,\n",
       " 49,\n",
       " 50,\n",
       " 51,\n",
       " 52,\n",
       " 53,\n",
       " 54,\n",
       " 55,\n",
       " 56,\n",
       " 57,\n",
       " 58,\n",
       " 59,\n",
       " 60,\n",
       " 61,\n",
       " 62,\n",
       " 63,\n",
       " 64,\n",
       " 65,\n",
       " 66,\n",
       " 67,\n",
       " 68,\n",
       " 69,\n",
       " 70,\n",
       " 71,\n",
       " 72,\n",
       " 73,\n",
       " 74,\n",
       " 75,\n",
       " 76,\n",
       " 77,\n",
       " 78,\n",
       " 79,\n",
       " 80,\n",
       " 81,\n",
       " 82,\n",
       " 83,\n",
       " 84,\n",
       " 85,\n",
       " 86,\n",
       " 87,\n",
       " 88,\n",
       " 89,\n",
       " 90,\n",
       " 91,\n",
       " 92,\n",
       " 93,\n",
       " 94,\n",
       " 95,\n",
       " 96,\n",
       " 97,\n",
       " 98,\n",
       " 99,\n",
       " 100,\n",
       " 101,\n",
       " 102,\n",
       " 103,\n",
       " 104,\n",
       " 105,\n",
       " 106,\n",
       " 107,\n",
       " 108,\n",
       " 109,\n",
       " 110,\n",
       " 111,\n",
       " 112,\n",
       " 113,\n",
       " 114,\n",
       " 115,\n",
       " 116,\n",
       " 117,\n",
       " 118,\n",
       " 119,\n",
       " 120,\n",
       " 121,\n",
       " 122,\n",
       " 123,\n",
       " 124,\n",
       " 125,\n",
       " 126,\n",
       " 127,\n",
       " 128,\n",
       " 129,\n",
       " 130,\n",
       " 131,\n",
       " 132,\n",
       " 133,\n",
       " 134,\n",
       " 135,\n",
       " 136,\n",
       " 137,\n",
       " 138,\n",
       " 139,\n",
       " 140,\n",
       " 141,\n",
       " 142,\n",
       " 143,\n",
       " 144,\n",
       " 145,\n",
       " 146,\n",
       " 147,\n",
       " 148,\n",
       " 149,\n",
       " 150,\n",
       " 151,\n",
       " 152,\n",
       " 153,\n",
       " 154,\n",
       " 155,\n",
       " 156,\n",
       " 157,\n",
       " 158,\n",
       " 159,\n",
       " 160,\n",
       " 161,\n",
       " 162,\n",
       " 163,\n",
       " 164,\n",
       " 165,\n",
       " 166]"
      ]
     },
     "execution_count": 18,
     "metadata": {},
     "output_type": "execute_result"
    }
   ],
   "source": [
    "# Molecules of type water\n",
    "msm.select(molecular_system, 'molecule_type==\"water\"', element='molecule')"
   ]
  },
  {
   "cell_type": "code",
   "execution_count": 19,
   "metadata": {},
   "outputs": [
    {
     "data": {
      "text/plain": [
       "[2, 3]"
      ]
     },
     "execution_count": 19,
     "metadata": {},
     "output_type": "execute_result"
    }
   ],
   "source": [
    "# Chains with molecules of type water\n",
    "msm.select(molecular_system, 'molecule_type==\"water\"', element='chain')"
   ]
  },
  {
   "cell_type": "code",
   "execution_count": null,
   "metadata": {},
   "outputs": [],
   "source": [
    "# Bonds in group index 5\n",
    "msm.select(molecular_system, 'group_index==5', element='bond')"
   ]
  },
  {
   "cell_type": "markdown",
   "metadata": {},
   "source": [
    "When selection takes a list of integers as value, this is **always** intepreted as a list of elements indices:"
   ]
  },
  {
   "cell_type": "code",
   "execution_count": null,
   "metadata": {},
   "outputs": [],
   "source": [
    "msm.select(molecular_system, element='group', selection=[0,1,2,3,4,5,6,7,8,9,10,11])"
   ]
  },
  {
   "cell_type": "code",
   "execution_count": null,
   "metadata": {},
   "outputs": [],
   "source": [
    "msm.select(molecular_system, element='molecule', selection=[3900, 3910, 3920])"
   ]
  },
  {
   "cell_type": "markdown",
   "metadata": {},
   "source": [
    "## Including external variables in the selection sentence\n",
    "\n",
    "Pandas query method allows the use of external variables in the logical sentence. To include them, variables names have to be preceded by the character '@'. Let's illustrate its use with some examples:"
   ]
  },
  {
   "cell_type": "code",
   "execution_count": null,
   "metadata": {},
   "outputs": [],
   "source": [
    "# Atoms in groups with indices 10, 11 or 12.\n",
    "indices=[10,11,12]\n",
    "msm.select(molecular_system, 'group_index==@indices')"
   ]
  },
  {
   "cell_type": "code",
   "execution_count": null,
   "metadata": {},
   "outputs": [],
   "source": [
    "# Atoms named CA, C, O or N in groups with indices 10 to 29.\n",
    "indices=list(range(10,30))\n",
    "atoms=[\"CA\", \"C\", \"O\", \"N\"]\n",
    "msm.select(molecular_system, 'atom_name==@atoms & atom_index==@indices') "
   ]
  },
  {
   "cell_type": "code",
   "execution_count": null,
   "metadata": {},
   "outputs": [],
   "source": [
    "# Groups with indices equal to 0, 100 or 200\n",
    "indices=[0,100,200]\n",
    "msm.select(molecular_system, element='group', selection='group_index==@indices')"
   ]
  },
  {
   "cell_type": "markdown",
   "metadata": {},
   "source": [
    "## Selecting elements \"within a distance of\"\n",
    "\n",
    "A selection of elements within a certain distance of a set of elements can be obtained using the string `within ... of`. Here you can find some examples:"
   ]
  },
  {
   "cell_type": "code",
   "execution_count": null,
   "metadata": {},
   "outputs": [],
   "source": [
    "msm.select(molecular_system, 'chain_id==\"A\" within 0.3 nm of chain_id==\"B\"')"
   ]
  },
  {
   "cell_type": "code",
   "execution_count": null,
   "metadata": {},
   "outputs": [],
   "source": [
    "msm.select(molecular_system, '(atom_name==\"N\" and chain_id==\"A\") within 3 angstroms of (atom_type==\"O\" and molecule_type==\"water\")')"
   ]
  },
  {
   "cell_type": "code",
   "execution_count": null,
   "metadata": {},
   "outputs": [],
   "source": [
    "msm.select(molecular_system, '(atom_name==\"CA\" and chain_id==\"A\") within 0.5 nm of (atom_name==\"CA\" and chain_id==\"B\")',\n",
    "          element='group')"
   ]
  },
  {
   "cell_type": "markdown",
   "metadata": {},
   "source": [
    "The string \"not within ... of ...\" can also be used:"
   ]
  },
  {
   "cell_type": "code",
   "execution_count": null,
   "metadata": {},
   "outputs": [],
   "source": [
    "msm.select(molecular_system, 'chain_id==\"A\" not within 7.8 nanometers of chain_id==\"B\"')"
   ]
  },
  {
   "cell_type": "markdown",
   "metadata": {},
   "source": [
    "And distances can be interpreted with or without periodic boundary conditions:"
   ]
  },
  {
   "cell_type": "code",
   "execution_count": null,
   "metadata": {},
   "outputs": [],
   "source": [
    "msm.select(molecular_system, 'chain_id==\"A\" within 0.3 nm without pbc of chain_id==\"B\"')"
   ]
  },
  {
   "cell_type": "code",
   "execution_count": null,
   "metadata": {},
   "outputs": [],
   "source": [
    "msm.select(molecular_system, 'chain_id==\"A\" within 0.3 nm with pbc of chain_id==\"B\"')"
   ]
  },
  {
   "cell_type": "markdown",
   "metadata": {},
   "source": [
    "## Selecting atoms \"bonded to ...\"\n",
    "\n",
    "Atoms bonded to specific atoms can also be selected with `bonded to`:"
   ]
  },
  {
   "cell_type": "code",
   "execution_count": null,
   "metadata": {
    "tags": [
     "scroll-output"
    ]
   },
   "outputs": [],
   "source": [
    "msm.select(molecular_system, 'atom_name==\"N\" bonded to atom_type==\"C\"')"
   ]
  },
  {
   "cell_type": "code",
   "execution_count": null,
   "metadata": {
    "tags": [
     "scroll-output"
    ]
   },
   "outputs": [],
   "source": [
    "msm.select(molecular_system, '(atom_type==\"O\" and chain_id==\"A\") bonded to (atom_type==\"C\" and chain_id==\"A\")')"
   ]
  },
  {
   "cell_type": "markdown",
   "metadata": {},
   "source": [
    "The string \"not bonded to\" can also be used:"
   ]
  },
  {
   "cell_type": "code",
   "execution_count": null,
   "metadata": {},
   "outputs": [],
   "source": [
    "msm.select(molecular_system, '(all not bonded to atom_type==[\"H\",\"N\",\"C\",\"O\"]) and molecule_type==\"protein\"')"
   ]
  },
  {
   "cell_type": "markdown",
   "metadata": {},
   "source": [
    "And both, `within .. of` and `bonded to`, can be mixed in the same selection sentence:"
   ]
  },
  {
   "cell_type": "code",
   "execution_count": null,
   "metadata": {},
   "outputs": [],
   "source": [
    "msm.select(molecular_system, '((atom_name==\"N\" and chain_id==\"A\") bonded to atom_type==\"C\") within 3 angstroms of (atom_type==\"O\" and molecule_type==\"water\")')"
   ]
  },
  {
   "cell_type": "markdown",
   "metadata": {},
   "source": [
    "## Selecting lists of elements\n",
    "\n",
    "The function {func}`molsysmt.basic.select` does not only return single lists of elements. This tool can also be used to find a list of elements lists fulfilling a query condition with the assistance of the strings: `groups of`, `components of`, `molecules of`, `chains of` or `entities of`. Let's see a couple of examples to understand how this option works.\n",
    "\n",
    "Let's first of all get the lists of atoms belonging to the groups of molecule index 0 named 'CYS':"
   ]
  },
  {
   "cell_type": "code",
   "execution_count": null,
   "metadata": {},
   "outputs": [],
   "source": [
    "msm.select(molecular_system, 'all in groups of molecule_index==0 and group_name==\"CYS\"')"
   ]
  },
  {
   "cell_type": "markdown",
   "metadata": {},
   "source": [
    "We can now narrow the search to only carbon atoms:"
   ]
  },
  {
   "cell_type": "code",
   "execution_count": null,
   "metadata": {},
   "outputs": [],
   "source": [
    "msm.select(molecular_system, 'atom_type==\"C\" in groups of molecule_index==0 and group_name==\"CYS\"')"
   ]
  },
  {
   "cell_type": "markdown",
   "metadata": {},
   "source": [
    "Before going to the next section, let's show how other elements lists can be queried like groups for instance:"
   ]
  },
  {
   "cell_type": "code",
   "execution_count": null,
   "metadata": {},
   "outputs": [],
   "source": [
    "msm.select(molecular_system, element='group',\n",
    "           selection='group_name==\"ALA\" in components of molecule_name==\"Triosephosphate isomerase\"')"
   ]
  },
  {
   "cell_type": "code",
   "execution_count": null,
   "metadata": {},
   "outputs": [],
   "source": [
    "msm.select(molecular_system, element='molecule',\n",
    "           selection='entity_name==\"water\" in chains of chain_name==[\"A\",\"B\"]')"
   ]
  },
  {
   "cell_type": "markdown",
   "metadata": {},
   "source": [
    "## Other syntaxes supported\n",
    "\n",
    "There is no need for the user to learn the native syntax. Other syntaxes such as the used by MDTraj is also supported by MolSysMT:"
   ]
  },
  {
   "cell_type": "code",
   "execution_count": null,
   "metadata": {},
   "outputs": [],
   "source": [
    "msm.select(molecular_system, selection='(name =~ \"C[A-B]\") and (resid 1 to 3)', syntax='MDTraj')"
   ]
  },
  {
   "cell_type": "markdown",
   "metadata": {},
   "source": [
    "## Translation between different syntaxes\n",
    "\n",
    "MolSysMT is prepared to easily interact with other tools. The main goal of this library is providing with a set of pipes and joins to set up your workflows, keeping simple the integration of other tools. But different tools have different selection syntax. Learning how to use the selection syntax of MDTraj, ParmEd or NGLview is something very useful. Those are tools that we all use frequently in our labs. But it happens that we forget soon the rules of each tool. To keep a unique selection syntax in your projects, MolSysMT includes the input argument `to_syntax` in the method {func}`molsysmt.basic.select()`. Lets illustrate some examples:"
   ]
  },
  {
   "cell_type": "code",
   "execution_count": null,
   "metadata": {},
   "outputs": [],
   "source": [
    "msm.select(molecular_system, selection='group_index==[3,4,5]', to_syntax='NGLView')"
   ]
  },
  {
   "cell_type": "code",
   "execution_count": null,
   "metadata": {},
   "outputs": [],
   "source": [
    "msm.select(molecular_system, selection='group_index==[3,4,5]', to_syntax='MDTraj')"
   ]
  },
  {
   "cell_type": "markdown",
   "metadata": {},
   "source": [
    "The output string can be obtained, if the selection is done over other elementted elements, as a sequence of groups or chains:"
   ]
  },
  {
   "cell_type": "code",
   "execution_count": null,
   "metadata": {},
   "outputs": [],
   "source": [
    "msm.select(molecular_system, element='group', selection='group_index==[3,4,5]', to_syntax='NGLView')"
   ]
  },
  {
   "cell_type": "code",
   "execution_count": null,
   "metadata": {},
   "outputs": [],
   "source": [
    "msm.select(molecular_system, element='group', selection='group_index==[3,4,5]', to_syntax='MDTraj')"
   ]
  },
  {
   "cell_type": "markdown",
   "metadata": {
    "editable": true,
    "slideshow": {
     "slide_type": ""
    },
    "tags": [
     "remove-input"
    ]
   },
   "source": [
    ":::{seealso} \n",
    "[User guide > Introduction > Molecular System > Attributes](../../intro/molecular_systems/attributes.ipynb):    \n",
    "[User guide > Introduction > Selection syntaxes ](../../intro/selection_syntaxes.ipynb):    \n",
    "[User guide > Tools > Basic > Convert](convert.ipynb):\n",
    "[User guide > Tools > Basic > Info](info.ipynb):       \n",
    ":::"
   ]
  }
 ],
 "metadata": {
  "kernelspec": {
   "display_name": "Python 3 (ipykernel)",
   "language": "python",
   "name": "python3"
  },
  "language_info": {
   "codemirror_mode": {
    "name": "ipython",
    "version": 3
   },
   "file_extension": ".py",
   "mimetype": "text/x-python",
   "name": "python",
   "nbconvert_exporter": "python",
   "pygments_lexer": "ipython3",
   "version": "3.10.12"
  }
 },
 "nbformat": 4,
 "nbformat_minor": 4
}
