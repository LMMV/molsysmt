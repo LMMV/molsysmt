{
 "cells": [
  {
   "cell_type": "code",
   "execution_count": 1,
   "metadata": {
    "editable": true,
    "slideshow": {
     "slide_type": ""
    },
    "tags": [
     "remove-input"
    ]
   },
   "outputs": [],
   "source": [
    "# This cell is removed with the tag: \"remove-input\"\n",
    "# As such, it will not be shown in documentation\n",
    "\n",
    "#import warnings\n",
    "#warnings.filterwarnings('ignore')"
   ]
  },
  {
   "cell_type": "markdown",
   "metadata": {
    "editable": true,
    "slideshow": {
     "slide_type": ""
    },
    "tags": []
   },
   "source": [
    "(Tutorial_Get)=\n",
    "# Get\n",
    "*Getting attribute values from a molecular system.*\n",
    "\n",
    "A molecular system is defined by its attributes and the attributes of its elements: number of atoms, group names, bonded atoms, coordinates, box, etc. Not all attributes of a molecular system are attached to all possible representations of a system. Molecular systems takes different forms such as string ids, files, python objects, etc. And these forms include by definition some attributes and exclude others. But in any scenario, retrieving the attribute values of the form of a molecular system is one of the keystones in any workflow dealing molecular models.\n",
    "\n",
    ":::{hint}\n",
    "Visit the section [User guide > Introduction > Molecular System](../../intro/molecular_systems/index.md) in case you are not familiar with the concepts of \"form\" or \"attribute\" in MolSysMT.\n",
    ":::\n",
    "\n",
    "The list of attributes defined in MolSysMT for a molecular system can be checked in the section [User guide > Introduction > Molecular system > Attributes](../../introduction/molecular_system/attributes.ipynb). And the function {func}`molsysmt.basic.get()` is the tool to get the attribute values of a molecular system in [any supported form](../../introduction/molecular_system/form.ipynb).\n",
    "\n",
    "## How this function works\n",
    "\n",
    ":::{admonition} API documentation\n",
    "Follow this link for a detailed description of the input arguments, raised errors, and returned objects of this function:{func}`molsysmt.basic.get`.\n",
    ":::\n",
    "\n",
    "To illustrate how this function works, lets load a molecular system:"
   ]
  },
  {
   "cell_type": "code",
   "execution_count": 2,
   "metadata": {},
   "outputs": [
    {
     "data": {
      "application/vnd.jupyter.widget-view+json": {
       "model_id": "f50a9404ed0b4d558820e9f80f632e98",
       "version_major": 2,
       "version_minor": 0
      },
      "text/plain": []
     },
     "metadata": {},
     "output_type": "display_data"
    }
   ],
   "source": [
    "import molsysmt as msm"
   ]
  },
  {
   "cell_type": "code",
   "execution_count": 3,
   "metadata": {},
   "outputs": [],
   "source": [
    "molecular_system = msm.convert('1TCD', to_form='molsysmt.MolSys')"
   ]
  },
  {
   "cell_type": "code",
   "execution_count": null,
   "metadata": {},
   "outputs": [],
   "source": [
    "msm.info(molecular_system)"
   ]
  },
  {
   "cell_type": "markdown",
   "metadata": {},
   "source": [
    "Let's obtain the names of the atoms with indices 32, 33 and 34 (0-based). The method {func}`molsysmt.basic.get()` has an input argument named ``element`` to choose the nature of the elements to which the inquery works: 'atom', 'group', 'component', 'chain', 'molecule', 'entity' or 'system' ('system' is the default value). Now, let's pay attention to the input argument ``selection``. This argument allows us to specify a set of the targetted elements by their indices. This way:"
   ]
  },
  {
   "cell_type": "code",
   "execution_count": null,
   "metadata": {},
   "outputs": [],
   "source": [
    "names = msm.get(molecular_system, element='atom', selection=[32,33,34], name=True)\n",
    "print('Atom names:',names)"
   ]
  },
  {
   "cell_type": "markdown",
   "metadata": {
    "editable": true,
    "slideshow": {
     "slide_type": ""
    },
    "tags": []
   },
   "source": [
    ":::{tip}\n",
    "All methods defined in the {ref}`molsysmt.basic <API basic>` module can be invoked also from the main level of the library. Hence, {func}`molsysmt.get` is the same method as {func}`molsysmt.basic.get`.\n",
    ":::\n",
    "\n",
    "The number of attributes we want to know from these atoms is no limited to one. We can ask {func}`molsysmt.basic.get()` to extract as many attributes as you desire:"
   ]
  },
  {
   "cell_type": "code",
   "execution_count": null,
   "metadata": {},
   "outputs": [],
   "source": [
    "names, group_indices, group_names = msm.get(molecular_system, element='atom', selection=[32,33,34],\n",
    "                                            name=True, group_index=True, group_name=True)\n",
    "print('Atom names:', names)\n",
    "print('Group indices:', group_indices)\n",
    "print('Group names:', group_names)"
   ]
  },
  {
   "cell_type": "markdown",
   "metadata": {},
   "source": [
    "Let's illustrate now how things can work with other elements:"
   ]
  },
  {
   "cell_type": "code",
   "execution_count": null,
   "metadata": {},
   "outputs": [],
   "source": [
    "n_atoms = msm.get(molecular_system, element='group', selection=[10,11,12], n_atoms=True)\n",
    "print('Number of atoms:', n_atoms)"
   ]
  },
  {
   "cell_type": "code",
   "execution_count": null,
   "metadata": {},
   "outputs": [],
   "source": [
    "msm.get(molecular_system, element='group', selection=[10,11,12], n_atoms=True)"
   ]
  },
  {
   "cell_type": "code",
   "execution_count": null,
   "metadata": {},
   "outputs": [],
   "source": [
    "names, atom_indices, atom_names = msm.get(molecular_system, element='group', selection=[10,11,12],\n",
    "                                            name=True, atom_index=True, atom_name=True)\n",
    "print('Group names:', names)\n",
    "print('Atom indices:', atom_indices)\n",
    "print('Atom names:', atom_names)"
   ]
  },
  {
   "cell_type": "code",
   "execution_count": null,
   "metadata": {},
   "outputs": [],
   "source": [
    "indices, component_indices = msm.get(molecular_system, element='component', selection=[55, 56, 57],\n",
    "                                    index=True, group_index=True)\n",
    "print('Indices:', indices)\n",
    "print('Component indices:', component_indices)"
   ]
  },
  {
   "cell_type": "markdown",
   "metadata": {},
   "source": [
    "Notice that if no selection is provided, the method applies over all targetted elements. See for example:"
   ]
  },
  {
   "cell_type": "code",
   "execution_count": null,
   "metadata": {},
   "outputs": [],
   "source": [
    "msm.get(molecular_system, element='atom', n_atoms=True)"
   ]
  },
  {
   "cell_type": "markdown",
   "metadata": {},
   "source": [
    "The method {func}`msm.basic.get()` can also takes query strings as the value of the ``selection`` input argument. If you are not familiarized with the use of elements selections, have a look to the section [User guide > Tools > Basic > Select](select.ipynb). Let's see how ``selection`` works beyond indices lists with some examples:"
   ]
  },
  {
   "cell_type": "code",
   "execution_count": null,
   "metadata": {},
   "outputs": [],
   "source": [
    "msm.get(molecular_system, element='atom', selection='group_index==20', name=True, index=True)"
   ]
  },
  {
   "cell_type": "code",
   "execution_count": null,
   "metadata": {},
   "outputs": [],
   "source": [
    "msm.get(molecular_system, element='atom', selection='molecule_type==\"protein\"', n_groups=True)"
   ]
  },
  {
   "cell_type": "code",
   "execution_count": null,
   "metadata": {},
   "outputs": [],
   "source": [
    "msm.get(molecular_system, element='molecule', selection='molecule_type==\"water\"', n_molecules=True)"
   ]
  },
  {
   "cell_type": "code",
   "execution_count": null,
   "metadata": {},
   "outputs": [],
   "source": [
    "msm.get(molecular_system, element='atom', selection='all within 7.0 angstroms of atom_index==0', n_atoms=True)"
   ]
  },
  {
   "cell_type": "markdown",
   "metadata": {},
   "source": [
    "Finnally, not all molecular system's forms have all attributes. For instance, an \"openmm.Topology\" system has no atom coordinates. Or a \"file:inpcrd\" system has not chain names. When this happens, the value None is returned:"
   ]
  },
  {
   "cell_type": "code",
   "execution_count": null,
   "metadata": {},
   "outputs": [],
   "source": [
    "inpcrd_file = demo['pentalanine']['pentalanine.inpcrd']\n",
    "msm.get(inpcrd_file, n_groups=True) is None"
   ]
  },
  {
   "cell_type": "markdown",
   "metadata": {},
   "source": [
    "## Examples with topological attributes\n",
    "\n",
    "Here you can find some additional examples where {func}`msm.basic.get()` works over atoms, groups, components, chains, molecules, entities, bonds or system.\n",
    "\n",
    "### With atoms"
   ]
  },
  {
   "cell_type": "code",
   "execution_count": null,
   "metadata": {},
   "outputs": [],
   "source": [
    "# Group id of atoms with index 0, 1 or 2\n",
    "msm.get(molecular_system, element='atom', selection='atom_index in [0,1,2]', group_id=True)"
   ]
  },
  {
   "cell_type": "code",
   "execution_count": null,
   "metadata": {},
   "outputs": [],
   "source": [
    "# Number of groups in atoms with index 0, 1 or 2\n",
    "msm.get(molecular_system, element='atom', selection='atom_index in [0,1,2]', n_groups=True)"
   ]
  },
  {
   "cell_type": "code",
   "execution_count": null,
   "metadata": {},
   "outputs": [],
   "source": [
    "# Index of groups in atoms with index 0 to 15\n",
    "msm.get(molecular_system, element='atom', selection=range(5,10), group_index=True)"
   ]
  },
  {
   "cell_type": "markdown",
   "metadata": {},
   "source": [
    "### With groups"
   ]
  },
  {
   "cell_type": "code",
   "execution_count": null,
   "metadata": {},
   "outputs": [],
   "source": [
    "# Id of groups with index 0, 1 or 2\n",
    "msm.get(molecular_system, element='group', selection=[0,1,2], id=True)"
   ]
  },
  {
   "cell_type": "code",
   "execution_count": null,
   "metadata": {},
   "outputs": [],
   "source": [
    "# Index of atoms in groups with index 0 or 1\n",
    "msm.get(molecular_system, element='group', selection=[0,1], atom_index=True)"
   ]
  },
  {
   "cell_type": "code",
   "execution_count": null,
   "metadata": {},
   "outputs": [],
   "source": [
    "# Number of groups in molecules of type water\n",
    "msm.get(molecular_system, element='group', selection='molecule_type==\"water\"', n_groups=True)"
   ]
  },
  {
   "cell_type": "code",
   "execution_count": null,
   "metadata": {},
   "outputs": [],
   "source": [
    "# Number of groups of type aminoacid\n",
    "msm.get(molecular_system, element='group', selection='group_type==\"aminoacid\"', n_groups=True)"
   ]
  },
  {
   "cell_type": "markdown",
   "metadata": {},
   "source": [
    "### With components"
   ]
  },
  {
   "cell_type": "code",
   "execution_count": null,
   "metadata": {},
   "outputs": [],
   "source": [
    "# ...\n",
    "msm.get(molecular_system, element='component', selection='molecule_type==\"water\"', index=True)"
   ]
  },
  {
   "cell_type": "code",
   "execution_count": null,
   "metadata": {},
   "outputs": [],
   "source": [
    "# ...\n",
    "msm.get(molecular_system, element='component', selection=[0,1,2,3], n_waters=True)"
   ]
  },
  {
   "cell_type": "markdown",
   "metadata": {},
   "source": [
    "### With molecules"
   ]
  },
  {
   "cell_type": "code",
   "execution_count": null,
   "metadata": {
    "tags": [
     "scroll-output"
    ]
   },
   "outputs": [],
   "source": [
    "# Names of groups in molecule of index 0\n",
    "msm.get(molecular_system, element='molecule', selection=[0,1], group_name=True)"
   ]
  },
  {
   "cell_type": "code",
   "execution_count": null,
   "metadata": {},
   "outputs": [],
   "source": [
    "# Number of molecules of type protein\n",
    "msm.get(molecular_system, element='molecule', selection='molecule_type==\"protein\"', n_molecules=True)"
   ]
  },
  {
   "cell_type": "code",
   "execution_count": null,
   "metadata": {},
   "outputs": [],
   "source": [
    "# Molecule type of molecules with index 1 to 9\n",
    "msm.get(molecular_system, element='molecule', selection=range(1,10), molecule_type=True)"
   ]
  },
  {
   "cell_type": "markdown",
   "metadata": {},
   "source": [
    "### With chains"
   ]
  },
  {
   "cell_type": "code",
   "execution_count": null,
   "metadata": {},
   "outputs": [],
   "source": [
    "# Molecule type of molecules with index 1 to 9\n",
    "msm.get(molecular_system, element='chain', selection='all', name=True)"
   ]
  },
  {
   "cell_type": "code",
   "execution_count": null,
   "metadata": {},
   "outputs": [],
   "source": [
    "# Molecule type of molecules with index 1 to 9\n",
    "msm.get(molecular_system, element='chain', selection='all', id=True)"
   ]
  },
  {
   "cell_type": "code",
   "execution_count": null,
   "metadata": {},
   "outputs": [],
   "source": [
    "# Molecule type of molecules with index 1 to 9\n",
    "msm.get(molecular_system, element='chain', selection='molecule_type==\"protein\"', id=True)"
   ]
  },
  {
   "cell_type": "markdown",
   "metadata": {},
   "source": [
    "### With entities"
   ]
  },
  {
   "cell_type": "code",
   "execution_count": null,
   "metadata": {},
   "outputs": [],
   "source": [
    "# Name of entity with index 0\n",
    "msm.get(molecular_system, element='entity', selection=0, name=True)"
   ]
  },
  {
   "cell_type": "code",
   "execution_count": null,
   "metadata": {},
   "outputs": [],
   "source": [
    "# Number of molecules in entity with index 1\n",
    "msm.get(molecular_system, element='entity', selection=1, n_molecules=True)"
   ]
  },
  {
   "cell_type": "code",
   "execution_count": null,
   "metadata": {},
   "outputs": [],
   "source": [
    "# Index of molecules in entity with index 1\n",
    "msm.get(molecular_system, element='entity', selection=1, molecule_index=True)"
   ]
  },
  {
   "cell_type": "markdown",
   "metadata": {},
   "source": [
    "### With bonds"
   ]
  },
  {
   "cell_type": "code",
   "execution_count": 4,
   "metadata": {},
   "outputs": [
    {
     "data": {
      "text/plain": [
       "[[1], [0, 2, 4], [1, 3, 9], [2], [1, 5], [4, 6]]"
      ]
     },
     "execution_count": 4,
     "metadata": {},
     "output_type": "execute_result"
    }
   ],
   "source": [
    "msm.get(molecular_system, element='atom', selection=[0,1,2,3,4,5], bonded_atoms=True)"
   ]
  },
  {
   "cell_type": "code",
   "execution_count": 5,
   "metadata": {},
   "outputs": [
    {
     "data": {
      "text/plain": [
       "[[1], [0, 2, 4], [1, 3], [2], [1, 5], [4]]"
      ]
     },
     "execution_count": 5,
     "metadata": {},
     "output_type": "execute_result"
    }
   ],
   "source": [
    "msm.get(molecular_system, element='atom', selection=[0,1,2,3,4,5], inner_bonded_atoms=True)"
   ]
  },
  {
   "cell_type": "code",
   "execution_count": 6,
   "metadata": {},
   "outputs": [
    {
     "data": {
      "text/plain": [
       "[[0, 1], [1, 2], [1, 4], [2, 3], [2, 9], [4, 5], [5, 6]]"
      ]
     },
     "execution_count": 6,
     "metadata": {},
     "output_type": "execute_result"
    }
   ],
   "source": [
    "msm.get(molecular_system, element='atom', selection=[0,1,2,3,4,5], bonded_atoms_pairs=True)"
   ]
  },
  {
   "cell_type": "code",
   "execution_count": 7,
   "metadata": {},
   "outputs": [
    {
     "data": {
      "text/plain": [
       "[[0, 1], [1, 2], [1, 4], [2, 3], [4, 5]]"
      ]
     },
     "execution_count": 7,
     "metadata": {},
     "output_type": "execute_result"
    }
   ],
   "source": [
    "msm.get(molecular_system, element='atom', selection=[0,1,2,3,4,5], inner_bonded_atoms_pairs=True)"
   ]
  },
  {
   "cell_type": "code",
   "execution_count": 8,
   "metadata": {},
   "outputs": [
    {
     "data": {
      "text/plain": [
       "[[0], [0, 1, 2], [1, 3, 4], [3], [2, 5], [5, 6]]"
      ]
     },
     "execution_count": 8,
     "metadata": {},
     "output_type": "execute_result"
    }
   ],
   "source": [
    "msm.get(molecular_system, element='atom', selection=[0,1,2,3,4,5], bond_index=True)"
   ]
  },
  {
   "cell_type": "code",
   "execution_count": 9,
   "metadata": {},
   "outputs": [
    {
     "data": {
      "text/plain": [
       "7"
      ]
     },
     "execution_count": 9,
     "metadata": {},
     "output_type": "execute_result"
    }
   ],
   "source": [
    "msm.get(molecular_system, element='atom', selection=[0,1,2,3,4,5], n_bonds=True)"
   ]
  },
  {
   "cell_type": "code",
   "execution_count": 10,
   "metadata": {},
   "outputs": [
    {
     "data": {
      "text/plain": [
       "[[0], [0, 1, 2], [1, 3], [3], [2, 5], [5]]"
      ]
     },
     "execution_count": 10,
     "metadata": {},
     "output_type": "execute_result"
    }
   ],
   "source": [
    "msm.get(molecular_system, element='atom', selection=[0,1,2,3,4,5], inner_bond_index=True)"
   ]
  },
  {
   "cell_type": "code",
   "execution_count": 11,
   "metadata": {},
   "outputs": [
    {
     "data": {
      "text/plain": [
       "5"
      ]
     },
     "execution_count": 11,
     "metadata": {},
     "output_type": "execute_result"
    }
   ],
   "source": [
    "msm.get(molecular_system, element='atom', selection=[0,1,2,3,4,5], n_inner_bonds=True)"
   ]
  },
  {
   "cell_type": "code",
   "execution_count": 12,
   "metadata": {},
   "outputs": [
    {
     "data": {
      "text/plain": [
       "[26, 27, 28, 29, 30, 32, 33]"
      ]
     },
     "execution_count": 12,
     "metadata": {},
     "output_type": "execute_result"
    }
   ],
   "source": [
    "msm.select(molecular_system, element='bond', selection='group_index==3')"
   ]
  },
  {
   "cell_type": "code",
   "execution_count": 13,
   "metadata": {},
   "outputs": [
    {
     "data": {
      "text/plain": [
       "[26, 27, 28, 29, 30, 32, 33]"
      ]
     },
     "execution_count": 13,
     "metadata": {},
     "output_type": "execute_result"
    }
   ],
   "source": [
    "msm.get(molecular_system, element='bond', selection='group_index==3', index=True)"
   ]
  },
  {
   "cell_type": "code",
   "execution_count": 14,
   "metadata": {},
   "outputs": [
    {
     "data": {
      "text/plain": [
       "[[0, 1], [1, 2], [1, 4], [2, 3], [2, 9]]"
      ]
     },
     "execution_count": 14,
     "metadata": {},
     "output_type": "execute_result"
    }
   ],
   "source": [
    "msm.get(molecular_system, element='bond', selection=[0,1,2,3,4], bonded_atoms=True)"
   ]
  },
  {
   "cell_type": "code",
   "execution_count": 15,
   "metadata": {},
   "outputs": [
    {
     "data": {
      "text/plain": [
       "[[25, 26], [25, 31], [26, 27], [26, 29], [27, 28], [29, 30], [30, 31]]"
      ]
     },
     "execution_count": 15,
     "metadata": {},
     "output_type": "execute_result"
    }
   ],
   "source": [
    "msm.get(molecular_system, element='bond', selection='group_index==3', bonded_atoms=True)"
   ]
  },
  {
   "cell_type": "markdown",
   "metadata": {},
   "source": [
    "### With the system\n",
    "\n",
    "The element system has some specific observables accounting for the amount of type of elements such as the number of aminoacid groups, ion molecules or protein molecules:"
   ]
  },
  {
   "cell_type": "code",
   "execution_count": null,
   "metadata": {},
   "outputs": [],
   "source": [
    "# Number of aminoacid groups in the system\n",
    "msm.get(molecular_system, element='system', n_aminoacids=True)"
   ]
  },
  {
   "cell_type": "code",
   "execution_count": null,
   "metadata": {},
   "outputs": [],
   "source": [
    "# Number of aminoacid groups in the system\n",
    "msm.get(molecular_system, element='system', n_waters=True)"
   ]
  },
  {
   "cell_type": "code",
   "execution_count": null,
   "metadata": {},
   "outputs": [],
   "source": [
    "msm.get(molecular_system, element='system', n_bonds=True)"
   ]
  },
  {
   "cell_type": "markdown",
   "metadata": {},
   "source": [
    "## Examples with structural attributes"
   ]
  },
  {
   "cell_type": "code",
   "execution_count": null,
   "metadata": {},
   "outputs": [],
   "source": [
    "msm.get(molecular_system, element='system', n_structures=True)"
   ]
  },
  {
   "cell_type": "code",
   "execution_count": null,
   "metadata": {},
   "outputs": [],
   "source": [
    "msm.get(molecular_system, element='atom', selection=100, structure_indices=0, coordinates=True)"
   ]
  },
  {
   "cell_type": "code",
   "execution_count": null,
   "metadata": {},
   "outputs": [],
   "source": [
    "msm.get(molecular_system, element='system', coordinates=True)"
   ]
  },
  {
   "cell_type": "code",
   "execution_count": null,
   "metadata": {},
   "outputs": [],
   "source": [
    "msm.get(molecular_system, element='system', structure_indices=0, box=True)"
   ]
  },
  {
   "cell_type": "code",
   "execution_count": null,
   "metadata": {},
   "outputs": [],
   "source": [
    "box_lengths, box_angles, box_volume = msm.get(molecular_system, element='system', structure_indices=0,\n",
    "                                              box_lengths=True, box_angles=True, box_volume=True)"
   ]
  },
  {
   "cell_type": "code",
   "execution_count": null,
   "metadata": {},
   "outputs": [],
   "source": [
    "box_lengths"
   ]
  },
  {
   "cell_type": "code",
   "execution_count": null,
   "metadata": {},
   "outputs": [],
   "source": [
    "box_angles"
   ]
  },
  {
   "cell_type": "code",
   "execution_count": null,
   "metadata": {},
   "outputs": [],
   "source": [
    "box_volume"
   ]
  },
  {
   "cell_type": "markdown",
   "metadata": {
    "editable": true,
    "slideshow": {
     "slide_type": ""
    },
    "tags": []
   },
   "source": [
    ":::{seealso}\n",
    "[User guide > Introduction > Molecular System > Forms](../../intro/molecular_systems/forms.md):    \n",
    "[User guide > Introduction > Molecular System > Attributes](../../intro/molecular_systems/attributes.ipynb):    \n",
    "[User guide > Tools > Basic > Convert](convert.ipynb):    \n",
    "[User guide > Tools > Basic > Info](info.ipynb):    \n",
    "[User guide > Tools > Basic > Select](selection.ipynb):    \n",
    "[User guide > Tools > Basic > Get attributes](get_attributes.ipynb):    \n",
    "[User guide > Tools > Basic > Has attribute](has_attribute.ipynb):    \n",
    ":::"
   ]
  }
 ],
 "metadata": {
  "kernelspec": {
   "display_name": "Python 3 (ipykernel)",
   "language": "python",
   "name": "python3"
  },
  "language_info": {
   "codemirror_mode": {
    "name": "ipython",
    "version": 3
   },
   "file_extension": ".py",
   "mimetype": "text/x-python",
   "name": "python",
   "nbconvert_exporter": "python",
   "pygments_lexer": "ipython3",
   "version": "3.10.13"
  }
 },
 "nbformat": 4,
 "nbformat_minor": 4
}
