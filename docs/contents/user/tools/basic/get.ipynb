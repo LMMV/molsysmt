{
 "cells": [
  {
   "cell_type": "code",
   "execution_count": null,
   "metadata": {
    "tags": [
     "remove-input"
    ]
   },
   "outputs": [],
   "source": [
    "# This cell is removed with the tag: \"remove-input\"\n",
    "# As such, it will not be shown in documentation\n",
    "\n",
    "import warnings\n",
    "warnings.filterwarnings('ignore')\n"
   ]
  },
  {
   "cell_type": "markdown",
   "metadata": {},
   "source": [
    "(UserGuide_Tools_Basic_Get)=\n",
    "# Get\n",
    "*Getting attributes from a molecular system*\n",
    "\n",
    "Any attribute of the elements composing a molecular system such as name, index, id or type, as well as some simple observables, can be obtained by means of the method {func}`molsysmt.basic.get()`.\n",
    "\n",
    "## Getting some attributes from a molecular system\n",
    "To illustrate how this function works, lets load a molecular system:"
   ]
  },
  {
   "cell_type": "code",
   "execution_count": null,
   "metadata": {},
   "outputs": [],
   "source": [
    "import molsysmt as msm"
   ]
  },
  {
   "cell_type": "code",
   "execution_count": null,
   "metadata": {},
   "outputs": [],
   "source": [
    "molecular_system = msm.convert('1TCD', to_form='molsysmt.MolSys')"
   ]
  },
  {
   "cell_type": "code",
   "execution_count": null,
   "metadata": {},
   "outputs": [],
   "source": [
    "msm.info(molecular_system)"
   ]
  },
  {
   "cell_type": "markdown",
   "metadata": {},
   "source": [
    "Let's obtain the names of the atoms with indices 32, 33 and 34 (0-based). The method {func}`molsysmt.basic.get()` has an input argument named `element` to choose the nature of the elements over which the inquery works: 'atom', 'group', 'component', 'chain', 'molecule', 'entity' or 'system'. By default `element` is 'atom'. Now, let's pay attention to the input argument `indices`. This argument allows us to specify a set of the targetted elements by their indices. This way: "
   ]
  },
  {
   "cell_type": "code",
   "execution_count": null,
   "metadata": {},
   "outputs": [],
   "source": [
    "names = msm.get(molecular_system, element='atom', indices=[32,33,34], name=True)\n",
    "print('Atom names:',names)"
   ]
  },
  {
   "cell_type": "markdown",
   "metadata": {},
   "source": [
    "```{admonition} Tip\n",
    ":class: tip\n",
    "All methods defined in the {ref}`molsysmt.basic <API basic>` module can be invoked also from the main level of the library. Hence, {func}`molsysmt.get` is the same method as {func}`molsysmt.basic.get`.\n",
    "```"
   ]
  },
  {
   "cell_type": "markdown",
   "metadata": {},
   "source": [
    "The number of attributes we want to know from these atoms is no limited to one. We can ask {func}`molsysmt.get()` to extract as many attributes as you desire:"
   ]
  },
  {
   "cell_type": "code",
   "execution_count": null,
   "metadata": {},
   "outputs": [],
   "source": [
    "names, group_indices, group_names = msm.get(molecular_system, element='atom', indices=[32,33,34],\n",
    "                                            name=True, group_index=True, group_name=True)\n",
    "print('Atom names:', names)\n",
    "print('Group indices:', group_indices)\n",
    "print('Group names:', group_names)"
   ]
  },
  {
   "cell_type": "markdown",
   "metadata": {},
   "source": [
    "Let's illustrate now how things can work with other elements:"
   ]
  },
  {
   "cell_type": "code",
   "execution_count": null,
   "metadata": {},
   "outputs": [],
   "source": [
    "n_atoms = msm.get(molecular_system, element='group', indices=[10,11,12], n_atoms=True)\n",
    "print('Number of atoms:', n_atoms)"
   ]
  },
  {
   "cell_type": "code",
   "execution_count": null,
   "metadata": {},
   "outputs": [],
   "source": [
    "names, atom_indices, atom_names = msm.get(molecular_system, element='group', indices=[10,11,12],\n",
    "                                            name=True, atom_index=True, atom_name=True)\n",
    "print('Group names:', names)\n",
    "print('Atom indices:', atom_indices)\n",
    "print('Atom names:', atom_names)"
   ]
  },
  {
   "cell_type": "code",
   "execution_count": null,
   "metadata": {},
   "outputs": [],
   "source": [
    "# index and group index of components with index 55, 56 or 57\n",
    "indices, component_indices = msm.get(molecular_system, element='component', indices=[55, 56, 57],\n",
    "                                    index=True, group_index=True)\n",
    "print('Indices:', indices)\n",
    "print('Component indices:', component_indices)"
   ]
  },
  {
   "cell_type": "markdown",
   "metadata": {},
   "source": [
    "Notice that if no indices list is provided, the method applies over all targetted elements. See for example:"
   ]
  },
  {
   "cell_type": "code",
   "execution_count": null,
   "metadata": {},
   "outputs": [],
   "source": [
    "msm.get(molecular_system, element='atom', n_atoms=True)"
   ]
  },
  {
   "cell_type": "markdown",
   "metadata": {},
   "source": [
    "The method {func}`msm.basic.get()` can also take the input argument `selection`. The use of `selection` is explained in secction XXX. Lets see how this input argument works with some examples:"
   ]
  },
  {
   "cell_type": "code",
   "execution_count": null,
   "metadata": {},
   "outputs": [],
   "source": [
    "msm.get(molecular_system, element='atom', selection='group_index==20', name=True, index=True)"
   ]
  },
  {
   "cell_type": "code",
   "execution_count": null,
   "metadata": {},
   "outputs": [],
   "source": [
    "msm.get(molecular_system, element='atom', selection='molecule_type==\"protein\"', n_groups=True)"
   ]
  },
  {
   "cell_type": "code",
   "execution_count": null,
   "metadata": {},
   "outputs": [],
   "source": [
    "msm.get(molecular_system, element='molecule', selection='molecule_type==\"water\"', n_molecules=True)"
   ]
  },
  {
   "cell_type": "code",
   "execution_count": null,
   "metadata": {},
   "outputs": [],
   "source": [
    "msm.get(molecular_system, element='atom', selection='all within 7.0 angstroms of atom_index==0', n_atoms=True)"
   ]
  },
  {
   "cell_type": "markdown",
   "metadata": {},
   "source": [
    "## Attributes you can get\n",
    "\n",
    "The following table shows the list of attribute arguments you can use in {func}`molsysmt.basic.get()`, together with their meaning and the list of elements they can be used with."
   ]
  },
  {
   "cell_type": "markdown",
   "metadata": {},
   "source": [
    "| Property | Meaning | Element the property applies |\n",
    "|:--------|:-------------|:-------------|\n",
    "| 'index' | **index or indices** of the list of elemented elements defined by `indices` or `selection`| 'atom', 'group', 'component', 'chain', 'molecule', 'entity'|\n",
    "| 'id' | **id or ids** of the list of elemented elements defined by `indices` or `selection`| 'atom', 'group', 'component', 'chain', 'molecule', 'entity'|\n",
    "| 'name' | **name or names** of the list of elemented elements defined by `indices` or `selection`| 'atom', 'group', 'component', 'chain', 'molecule', 'entity'|\n",
    "| 'type' | **type or types** of the list of elemented elements defined by `indices` or `selection`| 'atom', 'group', 'component', 'chain', 'molecule', 'entity'|\n",
    "| 'atom_index' | **atom index or indices** of the list of elemented elements defined by `indices` or `selection`| 'atom', 'group', 'component', 'chain', 'molecule', 'entity', 'bond'|\n",
    "| 'atom_id' | **atom id or ids** of the list of elemented elements defined by `indices` or `selection`| 'atom', 'group', 'component', 'chain', 'molecule', 'entity'|\n",
    "| 'atom_name' |  **atom name or names** of the list of elemented elements defined by `indices` or `selection`| 'atom', 'group', 'component', 'chain', 'molecule', 'entity'|\n",
    "| 'atom_type' |  **atom type or types** of the list of elemented elements defined by `indices` or `selection`| 'atom', 'group', 'component', 'chain', 'molecule', 'entity'|\n",
    "| 'group_index' | **group index or indices** of the list of elemented elements defined by `indices` or `selection`| 'atom', 'group', 'component', 'chain', 'molecule', 'entity'|\n",
    "| 'group_id' | **group id or ids** of the list of elemented elements defined by `indices` or `selection`| 'atom', 'group', 'component', 'chain', 'molecule', 'entity'|\n",
    "| 'group_name' | **group name or names** of the list of elemented elements defined by `indices` or `selection`| 'atom', 'group', 'component', 'chain', 'molecule', 'entity'|\n",
    "| 'group_type' | **group type or types** of the list of elemented elements defined by `indices` or `selection`| 'atom', 'group', 'component', 'chain', 'molecule', 'entity'|\n",
    "| 'component_index' | **component index or indices** of the list of elemented elements defined by `indices` or `selection`| 'atom', 'group', 'component', 'chain', 'molecule', 'entity'|\n",
    "| 'component_id' | **component id or ids** of the list of elemented elements defined by `indices` or `selection`| 'atom', 'group', 'component', 'chain', 'molecule', 'entity'|\n",
    "| 'component_name' | **component name or names** of the list of elemented elements defined by `indices` or `selection`| 'atom', 'group', 'component', 'chain', 'molecule', 'entity'|\n",
    "| 'component_type' | **component type or types** of the list of elemented elements defined by `indices` or `selection`| 'atom', 'group', 'component', 'chain', 'molecule', 'entity'|\n",
    "| 'molecule_index' | **molecule index or indices** of the list of elemented elements defined by `indices` or `selection`| 'atom', 'group', 'component', 'chain', 'molecule', 'entity'|\n",
    "| 'molecule_id' | **molecule id or ids** of the list of elemented elements defined by `indices` or `selection`| 'atom', 'group', 'component', 'chain', 'molecule', 'entity'|\n",
    "| 'molecule_name' | **molecule name or names** of the list of elemented elements defined by `indices` or `selection`| 'atom', 'group', 'component', 'chain', 'molecule', 'entity'|\n",
    "| 'molecule_type' | **molecule type or types** of the list of elemented elements defined by `indices` or `selection`| 'atom', 'group', 'component', 'chain', 'molecule', 'entity'|\n",
    "| 'chain_index' | **chain index or indices** of the list of elemented elements defined by `indices` or `selection`| 'atom', 'group', 'component', 'chain', 'molecule', 'entity'|\n",
    "| 'chain_id' | **chain id or ids** of the list of elemented elements defined by `indices` or `selection`| 'atom', 'group', 'component', 'chain', 'molecule', 'entity'|\n",
    "| 'chain_name' | **chain name or names** of the list of elemented elements defined by `indices` or `selection`| 'atom', 'group', 'component', 'chain', 'molecule', 'entity'|\n",
    "| 'chain_type' | **chain type or types** of the list of elemented elements defined by `indices` or `selection`| 'atom', 'group', 'component', 'chain', 'molecule', 'entity'|\n",
    "| 'entity_index' | **entity index or indices** of the list of elemented elements defined by `indices` or `selection`| 'atom', 'group', 'component', 'chain', 'molecule', 'entity'|\n",
    "| 'entity_id' | **entity id or ids** of the list of elemented elements defined by `indices` or `selection`| 'atom', 'group', 'component', 'chain', 'molecule', 'entity'|\n",
    "| 'entity_name' | **entity name or names** of the list of elemented elements defined by `indices` or `selection`| 'atom', 'group', 'component', 'chain', 'molecule', 'entity'|\n",
    "| 'entity_type' | **entity type or types** of the list of elemented elements defined by `indices` or `selection`| 'atom', 'group', 'component', 'chain', 'molecule', 'entity'|\n",
    "| 'bonded_atoms' | **indices of bonded atoms** to the atoms defined by `indices` or `selection`| 'atom'|\n",
    "| 'bond_index' | **indices of bonds** in the list of elemented elements defined by `indices` or `selection`| 'atom', 'bond'|\n",
    "| 'bond_order' | **order of bonds** in the list of elemented elements defined by `indices` or `selection`| 'bond'|\n",
    "| 'bond_type' | **indices of bonds** in the list of elemented elements defined by `indices` or `selection`| 'bond'|\n",
    "| 'inner_bonded_atoms' | **indices of inner bonded atoms** in the list of elemented elements defined by `indices` or `selection`| 'atom'|\n",
    "| 'inner_bond_index' | **indices of inner bonds** in the list of elemented elements defined by `indices` or `selection`| 'atom'|\n",
    "| 'n_atoms' | **number of atoms** in the set of elemented elements defined by `indices` or `selection`| 'atom', 'group', 'component', 'chain', 'molecule', 'entity', 'system'|\n",
    "| 'n_groups' | **number of groups** in the set of elemented elements defined by `indices` or `selection`| 'atom', 'group', 'component', 'chain', 'molecule', 'entity', 'system'|\n",
    "| 'n_components' | **number of components** in the set of elemented elements defined by `indices` or `selection`| 'atom', 'group', 'component', 'chain', 'molecule', 'entity', 'system'|\n",
    "| 'n_molecules' | **number of molecules** in the set of elemented elements defined by `indices` or `selection`| 'atom', 'group', 'component', 'chain', 'molecule', 'entity', 'system'|\n",
    "| 'n_chains' | **number of chains** in the set of elemented elements defined by `indices` or `selection`| 'atom', 'group', 'component', 'chain', 'molecule', 'entity', 'system'|\n",
    "| 'n_entities' | **number of entities** in the set of elemented elements defined by `indices` or `selection`| 'atom', 'group', 'component', 'chain', 'molecule', 'entity', 'system'|\n",
    "| 'n_bonds' | **number of bonds** present in the set of elements defined by `indices` or `selection`| 'atom', 'group', 'component', 'chain', 'molecule', 'entity', 'system', 'bond'|\n",
    "| 'n_inner_bonds' | **number of inner bonds** present in the set of elements defined by `indices` or `selection`| 'atom' |\n",
    "| 'n_aminoacids' | **number of groups aminoacid type** in the system | 'system'|\n",
    "| 'n_nucleotides' | **number of groups nucleotide type** in the system | 'system'|\n",
    "| 'n_ions' | **number of molecules ion type** in the system | 'system'|\n",
    "| 'n_waters' | **number of molecules water type** in the system | 'system'|\n",
    "| 'n_cosolutes' | **number of molecules cosolute type** in the system | 'system'|\n",
    "| 'n_small_molecules' | **number of molecules small molecule type** in the system | 'system'|\n",
    "| 'n_peptides' | **number of molecules peptide type** in the system | 'system'|\n",
    "| 'n_proteins' | **number of molecules protein type** in the system | 'system'|\n",
    "| 'n_adns' | **number of molecules adn type** in the system | 'system'|\n",
    "| 'n_arns' | **number of molecules arn type** in the system | 'system'|\n",
    "| 'step' | **steps or model indices** array the trajectory| 'system'|\n",
    "| 'time' | **times** array in the trajectory| 'system'|\n",
    "| 'box' | **box vectors** defining the periodic box of the system -if any-| 'system'|\n",
    "| 'box_shape' | **box shape** of the periodic box of the system -if any-| 'system'|\n",
    "| 'box_lengths' | **edge lengths** of the periodic box of the system -if any-| 'system'|\n",
    "| 'box_angles' | **vertices angles** of the periodic box of the system -if any-| 'system'|\n",
    "| 'box_volume' | **volume** of the periodic box of the system -if any-| 'system'|\n",
    "| 'coordinates' | **coordinates of atoms** present in the set of elements defined by `indices` or `selection`| 'atom', 'system'|\n",
    "| 'n_structures' | **number of structures** stored in the trajectory| 'atom', 'system'|"
   ]
  },
  {
   "cell_type": "markdown",
   "metadata": {},
   "source": [
    "Not all molecular system's forms have all attributes. For instance, an `openmm.Topology` system has no coordinates for atoms. Or an `file:inpcrd` system has not chain names. When this happens, the value `None` is returned:"
   ]
  },
  {
   "cell_type": "code",
   "execution_count": null,
   "metadata": {},
   "outputs": [],
   "source": [
    "inpcrd_file = msm.demo['pentalanine']['pentalanine.inpcrd']\n",
    "msm.get(inpcrd_file, n_groups=True) is None"
   ]
  },
  {
   "cell_type": "markdown",
   "metadata": {},
   "source": [
    "## Some other examples\n",
    "\n",
    "### Involving atoms, groups, components, chains, molecules or entities.\n",
    "\n",
    "Here you can find some additional examples where {func}`msm.basic.get()` works over atoms, groups, components, chains, molecules or entities:"
   ]
  },
  {
   "cell_type": "code",
   "execution_count": null,
   "metadata": {},
   "outputs": [],
   "source": [
    "# Group id of atoms with index 0, 1 or 2\n",
    "msm.get(molecular_system, element='atom', selection='atom_index in [0,1,2]', group_id=True)"
   ]
  },
  {
   "cell_type": "code",
   "execution_count": null,
   "metadata": {},
   "outputs": [],
   "source": [
    "# Number of groups in atoms with index 0, 1 or 2\n",
    "msm.get(molecular_system, element='atom', selection='atom_index in [0,1,2]', n_groups=True)"
   ]
  },
  {
   "cell_type": "code",
   "execution_count": null,
   "metadata": {},
   "outputs": [],
   "source": [
    "# Id of groups with index 0, 1 or 2\n",
    "msm.get(molecular_system, element='group', indices=[0,1,2], id=True)"
   ]
  },
  {
   "cell_type": "code",
   "execution_count": null,
   "metadata": {},
   "outputs": [],
   "source": [
    "# Index of atoms in groups with index 0 or 1\n",
    "msm.get(molecular_system, element='group', indices=[0,1], atom_index=True)"
   ]
  },
  {
   "cell_type": "code",
   "execution_count": null,
   "metadata": {},
   "outputs": [],
   "source": [
    "# Index of groups in atoms with index 0 to 15\n",
    "msm.get(molecular_system, element='atom', indices=range(5,10), group_index=True)"
   ]
  },
  {
   "cell_type": "code",
   "execution_count": null,
   "metadata": {
    "tags": [
     "scroll-output"
    ]
   },
   "outputs": [],
   "source": [
    "# Names of groups in molecule of index 0\n",
    "msm.get(molecular_system, element='molecule', indices=[0,1], group_name=True)"
   ]
  },
  {
   "cell_type": "code",
   "execution_count": null,
   "metadata": {},
   "outputs": [],
   "source": [
    "# Number of molecules of type protein\n",
    "msm.get(molecular_system, element='molecule', selection='molecule_type==\"protein\"', n_molecules=True)"
   ]
  },
  {
   "cell_type": "code",
   "execution_count": null,
   "metadata": {},
   "outputs": [],
   "source": [
    "# Number of groups in molecules of type water\n",
    "msm.get(molecular_system, element='group', selection='molecule_type==\"water\"', n_groups=True)"
   ]
  },
  {
   "cell_type": "code",
   "execution_count": null,
   "metadata": {},
   "outputs": [],
   "source": [
    "# Name of entity with index 0\n",
    "msm.get(molecular_system, element='entity', indices=0, name=True)"
   ]
  },
  {
   "cell_type": "code",
   "execution_count": null,
   "metadata": {},
   "outputs": [],
   "source": [
    "# Number of molecules in entity with index 1\n",
    "msm.get(molecular_system, element='entity', indices=1, n_molecules=True)"
   ]
  },
  {
   "cell_type": "code",
   "execution_count": null,
   "metadata": {},
   "outputs": [],
   "source": [
    "# Index of molecules in entity with index 1\n",
    "msm.get(molecular_system, element='entity', indices=1, molecule_index=True)"
   ]
  },
  {
   "cell_type": "code",
   "execution_count": null,
   "metadata": {},
   "outputs": [],
   "source": [
    "# Molecule type of molecules with index 1 to 9\n",
    "msm.get(molecular_system, element='molecule', indices=range(1,10), molecule_type=True)"
   ]
  },
  {
   "cell_type": "code",
   "execution_count": null,
   "metadata": {},
   "outputs": [],
   "source": [
    "# Number of groups of type aminoacid\n",
    "msm.get(molecular_system, element='group', selection='group_type==\"aminoacid\"', n_groups=True)"
   ]
  },
  {
   "cell_type": "markdown",
   "metadata": {},
   "source": [
    "### When the element is the system\n",
    "\n",
    "The element system has some specific observables accounting for the amount of type of elements such as the number of aminoacid groups, ion molecules or protein molecules:"
   ]
  },
  {
   "cell_type": "code",
   "execution_count": null,
   "metadata": {},
   "outputs": [],
   "source": [
    "# Number of aminoacid groups in the system\n",
    "msm.get(molecular_system, element='system', n_aminoacids=True)"
   ]
  },
  {
   "cell_type": "code",
   "execution_count": null,
   "metadata": {},
   "outputs": [],
   "source": [
    "# Number of aminoacid groups in the system\n",
    "msm.get(molecular_system, element='system', n_waters=True)"
   ]
  },
  {
   "cell_type": "code",
   "execution_count": null,
   "metadata": {},
   "outputs": [],
   "source": [
    "msm.get(molecular_system, element='system', n_bonds=True)"
   ]
  },
  {
   "cell_type": "markdown",
   "metadata": {},
   "source": [
    "### Involving bonds"
   ]
  },
  {
   "cell_type": "code",
   "execution_count": null,
   "metadata": {},
   "outputs": [],
   "source": [
    "msm.get(molecular_system, element='atom', indices=[0,1,2,3,4,5], bonded_atoms=True)"
   ]
  },
  {
   "cell_type": "code",
   "execution_count": null,
   "metadata": {},
   "outputs": [],
   "source": [
    "msm.get(molecular_system, element='atom', indices=[0,1,2,3,4,5], bond_index=True)"
   ]
  },
  {
   "cell_type": "code",
   "execution_count": null,
   "metadata": {},
   "outputs": [],
   "source": [
    "msm.get(molecular_system, element='atom', indices=[0,1,2,3,4,5], n_bonds=True)"
   ]
  },
  {
   "cell_type": "code",
   "execution_count": null,
   "metadata": {},
   "outputs": [],
   "source": [
    "msm.get(molecular_system, element='atom', indices=[0,1,2,3,4,5], inner_bonded_atoms=True)"
   ]
  },
  {
   "cell_type": "code",
   "execution_count": null,
   "metadata": {},
   "outputs": [],
   "source": [
    "msm.get(molecular_system, element='atom', indices=[0,1,2,3,4,5], inner_bond_index=True)"
   ]
  },
  {
   "cell_type": "code",
   "execution_count": null,
   "metadata": {},
   "outputs": [],
   "source": [
    "msm.get(molecular_system, element='atom', indices=[0,1,2,3,4,5], n_inner_bonds=True)"
   ]
  },
  {
   "cell_type": "code",
   "execution_count": null,
   "metadata": {},
   "outputs": [],
   "source": [
    "msm.get(molecular_system, element='bond', selection='group_index==3', index=True)"
   ]
  },
  {
   "cell_type": "code",
   "execution_count": null,
   "metadata": {},
   "outputs": [],
   "source": [
    "msm.get(molecular_system, element='bond', indices=[0,1,2,3,4], atom_index=True)"
   ]
  },
  {
   "cell_type": "code",
   "execution_count": null,
   "metadata": {},
   "outputs": [],
   "source": [
    "msm.get(molecular_system, element='bond', selection='group_index==3', atom_index=True)"
   ]
  },
  {
   "cell_type": "markdown",
   "metadata": {},
   "source": [
    "### Involving structural attributes"
   ]
  },
  {
   "cell_type": "code",
   "execution_count": null,
   "metadata": {},
   "outputs": [],
   "source": [
    "msm.get(molecular_system, element='system', n_structures=True)"
   ]
  },
  {
   "cell_type": "code",
   "execution_count": null,
   "metadata": {},
   "outputs": [],
   "source": [
    "msm.get(molecular_system, element='atom', indices=100, structure_indices=0, coordinates=True)"
   ]
  },
  {
   "cell_type": "code",
   "execution_count": null,
   "metadata": {},
   "outputs": [],
   "source": [
    "msm.get(molecular_system, element='system', coordinates=True)"
   ]
  },
  {
   "cell_type": "code",
   "execution_count": null,
   "metadata": {},
   "outputs": [],
   "source": [
    "msm.get(molecular_system, element='system', structure_indices=0, box=True)"
   ]
  },
  {
   "cell_type": "code",
   "execution_count": null,
   "metadata": {},
   "outputs": [],
   "source": [
    "box_lengths, box_angles = msm.get(molecular_system, element='system', structure_indices=0,\n",
    "                                  box_lengths=True, box_angles=True)"
   ]
  },
  {
   "cell_type": "code",
   "execution_count": null,
   "metadata": {},
   "outputs": [],
   "source": [
    "box_lengths"
   ]
  },
  {
   "cell_type": "code",
   "execution_count": null,
   "metadata": {},
   "outputs": [],
   "source": [
    "box_angles"
   ]
  },
  {
   "cell_type": "markdown",
   "metadata": {},
   "source": [
    "```{admonition} See also\n",
    ":class: attention\n",
    "{func}`molsysmt.basic.get`, {func}`molsysmt.basic.convert`, {func}`molsysmt.basic.info`\n",
    "```"
   ]
  }
 ],
 "metadata": {
  "kernelspec": {
   "display_name": "Python 3 (ipykernel)",
   "language": "python",
   "name": "python3"
  },
  "language_info": {
   "codemirror_mode": {
    "name": "ipython",
    "version": 3
   },
   "file_extension": ".py",
   "mimetype": "text/x-python",
   "name": "python",
   "nbconvert_exporter": "python",
   "pygments_lexer": "ipython3",
   "version": "3.9.13"
  }
 },
 "nbformat": 4,
 "nbformat_minor": 4
}
