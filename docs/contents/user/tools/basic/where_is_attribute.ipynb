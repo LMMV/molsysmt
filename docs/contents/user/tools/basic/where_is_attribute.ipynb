{
 "cells": [
  {
   "cell_type": "code",
   "execution_count": null,
   "id": "7c755cb8-b260-4d73-9e84-90d6a20dd0eb",
   "metadata": {
    "tags": [
     "remove-input"
    ]
   },
   "outputs": [],
   "source": [
    "# This cell is removed with the tag: \"remove-input\"\n",
    "# As such, it will not be shown in documentation\n",
    "\n",
    "import warnings\n",
    "warnings.filterwarnings('ignore')\n"
   ]
  },
  {
   "cell_type": "markdown",
   "id": "095d0ac2-57d4-4581-ad7a-d1c3c3da7891",
   "metadata": {},
   "source": [
    "(UserGuide_Tools_Basic_WhereIsAttribute)=\n",
    "# Where is attribute\n",
    "\n",
    "*Getting the item where a specific attribute is found.*\n",
    "\n",
    "Moleculars systems can be defined in MolSysMT with a list of items. For example:"
   ]
  },
  {
   "cell_type": "code",
   "execution_count": 2,
   "id": "bbecf5a9-b8d3-49ac-85e3-e7cea880c231",
   "metadata": {},
   "outputs": [
    {
     "data": {
      "application/vnd.jupyter.widget-view+json": {
       "model_id": "f20326a9e5e840009e0a0ace207413eb",
       "version_major": 2,
       "version_minor": 0
      },
      "text/plain": []
     },
     "metadata": {},
     "output_type": "display_data"
    }
   ],
   "source": [
    "import molsysmt as msm"
   ]
  },
  {
   "cell_type": "code",
   "execution_count": 3,
   "id": "83ecdd1d-aa92-443d-9fa7-dfe3adac50c2",
   "metadata": {},
   "outputs": [],
   "source": [
    "structure = msm.demo['pentalanine']['pentalanine.inpcrd']\n",
    "topology = msm.demo['pentalanine']['pentalanine.prmtop']"
   ]
  },
  {
   "cell_type": "code",
   "execution_count": 5,
   "id": "f4242553-453a-4f9c-9f07-64ce7c0da8d6",
   "metadata": {},
   "outputs": [
    {
     "data": {
      "text/html": [
       "<style type=\"text/css\">\n",
       "</style>\n",
       "<table id=\"T_a4c21\">\n",
       "  <thead>\n",
       "    <tr>\n",
       "      <th id=\"T_a4c21_level0_col0\" class=\"col_heading level0 col0\" >form</th>\n",
       "      <th id=\"T_a4c21_level0_col1\" class=\"col_heading level0 col1\" >n_atoms</th>\n",
       "      <th id=\"T_a4c21_level0_col2\" class=\"col_heading level0 col2\" >n_groups</th>\n",
       "      <th id=\"T_a4c21_level0_col3\" class=\"col_heading level0 col3\" >n_components</th>\n",
       "      <th id=\"T_a4c21_level0_col4\" class=\"col_heading level0 col4\" >n_chains</th>\n",
       "      <th id=\"T_a4c21_level0_col5\" class=\"col_heading level0 col5\" >n_molecules</th>\n",
       "      <th id=\"T_a4c21_level0_col6\" class=\"col_heading level0 col6\" >n_entities</th>\n",
       "      <th id=\"T_a4c21_level0_col7\" class=\"col_heading level0 col7\" >n_waters</th>\n",
       "      <th id=\"T_a4c21_level0_col8\" class=\"col_heading level0 col8\" >n_peptides</th>\n",
       "      <th id=\"T_a4c21_level0_col9\" class=\"col_heading level0 col9\" >n_structures</th>\n",
       "    </tr>\n",
       "  </thead>\n",
       "  <tbody>\n",
       "    <tr>\n",
       "      <td id=\"T_a4c21_row0_col0\" class=\"data row0 col0\" >['file:prmtop', 'file:inpcrd']</td>\n",
       "      <td id=\"T_a4c21_row0_col1\" class=\"data row0 col1\" >5207</td>\n",
       "      <td id=\"T_a4c21_row0_col2\" class=\"data row0 col2\" >1722</td>\n",
       "      <td id=\"T_a4c21_row0_col3\" class=\"data row0 col3\" >1716</td>\n",
       "      <td id=\"T_a4c21_row0_col4\" class=\"data row0 col4\" >1</td>\n",
       "      <td id=\"T_a4c21_row0_col5\" class=\"data row0 col5\" >1716</td>\n",
       "      <td id=\"T_a4c21_row0_col6\" class=\"data row0 col6\" >None</td>\n",
       "      <td id=\"T_a4c21_row0_col7\" class=\"data row0 col7\" >1715</td>\n",
       "      <td id=\"T_a4c21_row0_col8\" class=\"data row0 col8\" >1</td>\n",
       "      <td id=\"T_a4c21_row0_col9\" class=\"data row0 col9\" >1</td>\n",
       "    </tr>\n",
       "  </tbody>\n",
       "</table>\n"
      ],
      "text/plain": [
       "<pandas.io.formats.style.Styler at 0x7f49389c2a00>"
      ]
     },
     "execution_count": 5,
     "metadata": {},
     "output_type": "execute_result"
    }
   ],
   "source": [
    "msm.info([topology, structure])"
   ]
  },
  {
   "cell_type": "markdown",
   "id": "2abce0a1-91f2-4594-b405-b7d1153862a3",
   "metadata": {},
   "source": [
    "The function {func}`molsysmt.basic.where_is_attribute` allows us to know where a given attribute is found in the list of items. Let's illustrate this with a couple of simple examples:"
   ]
  },
  {
   "cell_type": "code",
   "execution_count": 6,
   "id": "b6813e3b-50c6-4624-bb65-3a76d3cd77dc",
   "metadata": {},
   "outputs": [
    {
     "data": {
      "text/plain": [
       "('/home/diego/projects@dprada/MolSysMT/molsysmt/demo/pentalanine/pentalanine.inpcrd',\n",
       " 'file:inpcrd')"
      ]
     },
     "execution_count": 6,
     "metadata": {},
     "output_type": "execute_result"
    }
   ],
   "source": [
    "msm.where_is_attribute([topology, structure], attribute='box')"
   ]
  },
  {
   "cell_type": "code",
   "execution_count": 7,
   "id": "c1f3bf93-9107-42e3-937f-57ddc5e5c9e2",
   "metadata": {},
   "outputs": [
    {
     "data": {
      "text/plain": [
       "('/home/diego/projects@dprada/MolSysMT/molsysmt/demo/pentalanine/pentalanine.prmtop',\n",
       " 'file:prmtop')"
      ]
     },
     "execution_count": 7,
     "metadata": {},
     "output_type": "execute_result"
    }
   ],
   "source": [
    "msm.where_is_attribute([topology, structure], attribute='group_name')"
   ]
  },
  {
   "cell_type": "markdown",
   "id": "a5385c12-3349-455e-8224-b58aeae46bfe",
   "metadata": {},
   "source": [
    "```{admonition} Tip\n",
    ":class: tip\n",
    "All methods defined in the {ref}`molsysmt.basic <API basic>` module can be invoked also from the main level of the library. Hence, {func}`molsysmt.where_is_attribute` is the same method as {func}`molsysmt.basic.where_is_attribute`.\n",
    "```"
   ]
  },
  {
   "cell_type": "markdown",
   "id": "890015d4-8739-408f-9613-15b10a659c0d",
   "metadata": {},
   "source": [
    "```{admonition} See also\n",
    ":class: attention\n",
    "{func}`molsysmt.basic.where_is_attribute`, {func}`molsysmt.basic.info`\n",
    "```"
   ]
  }
 ],
 "metadata": {
  "kernelspec": {
   "display_name": "Python 3 (ipykernel)",
   "language": "python",
   "name": "python3"
  },
  "language_info": {
   "codemirror_mode": {
    "name": "ipython",
    "version": 3
   },
   "file_extension": ".py",
   "mimetype": "text/x-python",
   "name": "python",
   "nbconvert_exporter": "python",
   "pygments_lexer": "ipython3",
   "version": "3.9.13"
  }
 },
 "nbformat": 4,
 "nbformat_minor": 5
}
