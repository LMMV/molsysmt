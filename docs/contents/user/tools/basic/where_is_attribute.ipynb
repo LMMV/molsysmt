{
 "cells": [
  {
   "cell_type": "code",
   "execution_count": 1,
   "id": "7c755cb8-b260-4d73-9e84-90d6a20dd0eb",
   "metadata": {
    "execution": {
     "iopub.execute_input": "2025-04-12T21:47:57.202464Z",
     "iopub.status.busy": "2025-04-12T21:47:57.202117Z",
     "iopub.status.idle": "2025-04-12T21:47:57.207486Z",
     "shell.execute_reply": "2025-04-12T21:47:57.206582Z"
    },
    "tags": [
     "remove-input"
    ]
   },
   "outputs": [],
   "source": [
    "# This cell is removed with the tag: \"remove-input\"\n",
    "# As such, it will not be shown in documentation\n",
    "\n",
    "#import warnings\n",
    "#warnings.filterwarnings('ignore')"
   ]
  },
  {
   "cell_type": "markdown",
   "id": "095d0ac2-57d4-4581-ad7a-d1c3c3da7891",
   "metadata": {},
   "source": [
    "(Tutorial_Where_is_attribute)=\n",
    "# Where is attribute\n",
    "\n",
    "*Identifying the item where a specific attribute is found in a molecular system.*\n",
    "\n",
    "In MolSysMT, molecular systems can be defined as a list of items, each of which may belong to a different form and contribute different attributes. For example, one item might provide structural data (coordinates, time), while another defines topology (bonds, atom types). If you wonder where a specific attribute resides within such a system, the function {func}`molsysmt.basic.where_is_attribute` can help.\n",
    "\n",
    ":::{hint}\n",
    "Visit the section [User guide > Introduction > Molecular System > Attributes ](../../intro/molecular_systems/attributes.ipynb) in case you are not familiar with the concept of \"attribute\" in MolSysMT.\n",
    ":::\n",
    "\n",
    ":::{versionadded} 1.0.0:::\n",
    "\n",
    "## How this function works\n",
    "\n",
    "```{admonition} API documentation\n",
    "Follow this link for a detailed description of the input arguments, raised errors, and returned objects of this function:{func}`molsysmt.basic.where_is_attribute`.\n",
    "```\n",
    "\n",
    "Let's illustrate how this function works with the following situation. Imagine we have a molecular system coming from the combination of two files: one with structural attributes and the other with topological ones."
   ]
  },
  {
   "cell_type": "code",
   "execution_count": 2,
   "id": "bbecf5a9-b8d3-49ac-85e3-e7cea880c231",
   "metadata": {
    "execution": {
     "iopub.execute_input": "2025-04-12T21:47:57.210614Z",
     "iopub.status.busy": "2025-04-12T21:47:57.210292Z",
     "iopub.status.idle": "2025-04-12T21:48:02.834938Z",
     "shell.execute_reply": "2025-04-12T21:48:02.834063Z"
    }
   },
   "outputs": [
    {
     "data": {
      "application/vnd.jupyter.widget-view+json": {
       "model_id": "d97a8d2802bc4271b8729853ad361ecc",
       "version_major": 2,
       "version_minor": 0
      },
      "text/plain": []
     },
     "metadata": {},
     "output_type": "display_data"
    }
   ],
   "source": [
    "import molsysmt as msm"
   ]
  },
  {
   "cell_type": "code",
   "execution_count": 3,
   "id": "83ecdd1d-aa92-443d-9fa7-dfe3adac50c2",
   "metadata": {
    "execution": {
     "iopub.execute_input": "2025-04-12T21:48:02.838887Z",
     "iopub.status.busy": "2025-04-12T21:48:02.838307Z",
     "iopub.status.idle": "2025-04-12T21:48:02.842577Z",
     "shell.execute_reply": "2025-04-12T21:48:02.842013Z"
    }
   },
   "outputs": [],
   "source": [
    "structure = msm.systems['pentalanine']['pentalanine.inpcrd']\n",
    "topology = msm.systems['pentalanine']['pentalanine.prmtop']"
   ]
  },
  {
   "cell_type": "code",
   "execution_count": 4,
   "id": "f4242553-453a-4f9c-9f07-64ce7c0da8d6",
   "metadata": {
    "execution": {
     "iopub.execute_input": "2025-04-12T21:48:02.845824Z",
     "iopub.status.busy": "2025-04-12T21:48:02.845543Z",
     "iopub.status.idle": "2025-04-12T21:48:05.684363Z",
     "shell.execute_reply": "2025-04-12T21:48:05.683620Z"
    }
   },
   "outputs": [
    {
     "data": {
      "text/html": [
       "<style type=\"text/css\">\n",
       "</style>\n",
       "<table id=\"T_c5692\">\n",
       "  <thead>\n",
       "    <tr>\n",
       "      <th id=\"T_c5692_level0_col0\" class=\"col_heading level0 col0\" >form</th>\n",
       "      <th id=\"T_c5692_level0_col1\" class=\"col_heading level0 col1\" >n_atoms</th>\n",
       "      <th id=\"T_c5692_level0_col2\" class=\"col_heading level0 col2\" >n_groups</th>\n",
       "      <th id=\"T_c5692_level0_col3\" class=\"col_heading level0 col3\" >n_components</th>\n",
       "      <th id=\"T_c5692_level0_col4\" class=\"col_heading level0 col4\" >n_chains</th>\n",
       "      <th id=\"T_c5692_level0_col5\" class=\"col_heading level0 col5\" >n_molecules</th>\n",
       "      <th id=\"T_c5692_level0_col6\" class=\"col_heading level0 col6\" >n_entities</th>\n",
       "      <th id=\"T_c5692_level0_col7\" class=\"col_heading level0 col7\" >n_waters</th>\n",
       "      <th id=\"T_c5692_level0_col8\" class=\"col_heading level0 col8\" >n_peptides</th>\n",
       "      <th id=\"T_c5692_level0_col9\" class=\"col_heading level0 col9\" >n_structures</th>\n",
       "    </tr>\n",
       "  </thead>\n",
       "  <tbody>\n",
       "    <tr>\n",
       "      <td id=\"T_c5692_row0_col0\" class=\"data row0 col0\" >['file:prmtop', 'file:inpcrd']</td>\n",
       "      <td id=\"T_c5692_row0_col1\" class=\"data row0 col1\" >5207</td>\n",
       "      <td id=\"T_c5692_row0_col2\" class=\"data row0 col2\" >1722</td>\n",
       "      <td id=\"T_c5692_row0_col3\" class=\"data row0 col3\" >1716</td>\n",
       "      <td id=\"T_c5692_row0_col4\" class=\"data row0 col4\" >1</td>\n",
       "      <td id=\"T_c5692_row0_col5\" class=\"data row0 col5\" >1716</td>\n",
       "      <td id=\"T_c5692_row0_col6\" class=\"data row0 col6\" >2</td>\n",
       "      <td id=\"T_c5692_row0_col7\" class=\"data row0 col7\" >1715</td>\n",
       "      <td id=\"T_c5692_row0_col8\" class=\"data row0 col8\" >1</td>\n",
       "      <td id=\"T_c5692_row0_col9\" class=\"data row0 col9\" >1</td>\n",
       "    </tr>\n",
       "  </tbody>\n",
       "</table>\n"
      ],
      "text/plain": [
       "<pandas.io.formats.style.Styler at 0x7f7d92760da0>"
      ]
     },
     "execution_count": 4,
     "metadata": {},
     "output_type": "execute_result"
    }
   ],
   "source": [
    "msm.info([topology, structure])"
   ]
  },
  {
   "cell_type": "markdown",
   "id": "2abce0a1-91f2-4594-b405-b7d1153862a3",
   "metadata": {},
   "source": [
    "The function {func}`molsysmt.basic.where_is_attribute` allows us to know where a given attribute is found in the list of items. Let’s see how {func}molsysmt.basic.where_is_attribute identifies the item holding a specific attribute:"
   ]
  },
  {
   "cell_type": "code",
   "execution_count": 5,
   "id": "b6813e3b-50c6-4624-bb65-3a76d3cd77dc",
   "metadata": {
    "execution": {
     "iopub.execute_input": "2025-04-12T21:48:05.688099Z",
     "iopub.status.busy": "2025-04-12T21:48:05.687619Z",
     "iopub.status.idle": "2025-04-12T21:48:05.776511Z",
     "shell.execute_reply": "2025-04-12T21:48:05.775710Z"
    }
   },
   "outputs": [
    {
     "data": {
      "text/plain": [
       "('/home/diego/repos@uibcdf/molsysmt/molsysmt/data/inpcrd/pentalanine.inpcrd',\n",
       " 'file:inpcrd')"
      ]
     },
     "execution_count": 5,
     "metadata": {},
     "output_type": "execute_result"
    }
   ],
   "source": [
    "msm.where_is_attribute([topology, structure], attribute='box')"
   ]
  },
  {
   "cell_type": "code",
   "execution_count": 6,
   "id": "c1f3bf93-9107-42e3-937f-57ddc5e5c9e2",
   "metadata": {
    "execution": {
     "iopub.execute_input": "2025-04-12T21:48:05.779451Z",
     "iopub.status.busy": "2025-04-12T21:48:05.779201Z",
     "iopub.status.idle": "2025-04-12T21:48:05.869808Z",
     "shell.execute_reply": "2025-04-12T21:48:05.869005Z"
    }
   },
   "outputs": [
    {
     "data": {
      "text/plain": [
       "('/home/diego/repos@uibcdf/molsysmt/molsysmt/data/prmtop/pentalanine.prmtop',\n",
       " 'file:prmtop')"
      ]
     },
     "execution_count": 6,
     "metadata": {},
     "output_type": "execute_result"
    }
   ],
   "source": [
    "msm.where_is_attribute([topology, structure], attribute='group_name')"
   ]
  },
  {
   "cell_type": "markdown",
   "id": "ad7585b2-8ef9-4b11-8da9-2171924a2ee5",
   "metadata": {},
   "source": [
    "```{admonition} Tip\n",
    ":class: tip\n",
    "All methods defined in the {ref}`molsysmt.basic <API basic>` module can be invoked also from the main level of the library. Hence, {func}`molsysmt.where_is_attribute` is the same method as {func}`molsysmt.basic.where_is_attribute`.\n",
    "```"
   ]
  },
  {
   "cell_type": "markdown",
   "id": "f84e7430-eab4-4c03-b66d-280ec0a5f8c9",
   "metadata": {},
   "source": [
    ":::{seealso}\n",
    "[User guide > Introduction > Molecular System > Attributes](../../intro/molecular_systems/attributes.ipynb):    \n",
    "Overview of the different types of attributes and how they are distributed across items.\n",
    "\n",
    "[User guide > Tools > Basic > Info](info.ipynb):  \n",
    "Display a summary of the topology and structural data of a molecular system.\n",
    "\n",
    "[User guide > Tools > Basic > Has attribute](has_attribute.ipynb):  \n",
    "Check whether a molecular system contains a specific attribute.\n",
    "\n",
    "[User guide > Tools > Basic > Get attributes](get_attributes.ipynb):  \n",
    "Retrieve a dictionary of available attributes from a molecular system.\n",
    ":::\n"
   ]
  }
 ],
 "metadata": {
  "kernelspec": {
   "display_name": "Python 3 (ipykernel)",
   "language": "python",
   "name": "python3"
  },
  "language_info": {
   "codemirror_mode": {
    "name": "ipython",
    "version": 3
   },
   "file_extension": ".py",
   "mimetype": "text/x-python",
   "name": "python",
   "nbconvert_exporter": "python",
   "pygments_lexer": "ipython3",
   "version": "3.12.9"
  },
  "widgets": {
   "application/vnd.jupyter.widget-state+json": {
    "state": {
     "ca77e4bdf8cc42fe830744c3faa61f6c": {
      "model_module": "@jupyter-widgets/base",
      "model_module_version": "2.0.0",
      "model_name": "LayoutModel",
      "state": {
       "_model_module": "@jupyter-widgets/base",
       "_model_module_version": "2.0.0",
       "_model_name": "LayoutModel",
       "_view_count": null,
       "_view_module": "@jupyter-widgets/base",
       "_view_module_version": "2.0.0",
       "_view_name": "LayoutView",
       "align_content": null,
       "align_items": null,
       "align_self": null,
       "border_bottom": null,
       "border_left": null,
       "border_right": null,
       "border_top": null,
       "bottom": null,
       "display": null,
       "flex": null,
       "flex_flow": null,
       "grid_area": null,
       "grid_auto_columns": null,
       "grid_auto_flow": null,
       "grid_auto_rows": null,
       "grid_column": null,
       "grid_gap": null,
       "grid_row": null,
       "grid_template_areas": null,
       "grid_template_columns": null,
       "grid_template_rows": null,
       "height": null,
       "justify_content": null,
       "justify_items": null,
       "left": null,
       "margin": null,
       "max_height": null,
       "max_width": null,
       "min_height": null,
       "min_width": null,
       "object_fit": null,
       "object_position": null,
       "order": null,
       "overflow": null,
       "padding": null,
       "right": null,
       "top": null,
       "visibility": null,
       "width": null
      }
     },
     "d97a8d2802bc4271b8729853ad361ecc": {
      "model_module": "nglview-js-widgets",
      "model_module_version": "3.1.4",
      "model_name": "ColormakerRegistryModel",
      "state": {
       "_dom_classes": [],
       "_model_module": "nglview-js-widgets",
       "_model_module_version": "3.1.4",
       "_model_name": "ColormakerRegistryModel",
       "_msg_ar": [],
       "_msg_q": [],
       "_ready": false,
       "_view_count": null,
       "_view_module": "nglview-js-widgets",
       "_view_module_version": "3.1.4",
       "_view_name": "ColormakerRegistryView",
       "layout": "IPY_MODEL_ca77e4bdf8cc42fe830744c3faa61f6c",
       "tabbable": null,
       "tooltip": null
      }
     }
    },
    "version_major": 2,
    "version_minor": 0
   }
  }
 },
 "nbformat": 4,
 "nbformat_minor": 5
}
