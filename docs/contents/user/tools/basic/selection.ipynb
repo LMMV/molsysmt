{
 "cells": [
  {
   "cell_type": "code",
   "execution_count": 1,
   "metadata": {
    "tags": [
     "remove-input"
    ]
   },
   "outputs": [],
   "source": [
    "# This cell is removed with the tag: \"remove-input\"\n",
    "# As such, it will not be shown in documentation\n",
    "\n",
    "import warnings\n",
    "warnings.filterwarnings('ignore')"
   ]
  },
  {
   "cell_type": "markdown",
   "metadata": {},
   "source": [
    "(UserGuide_Tools_Basic_Select)=\n",
    "# Select\n",
    "*Selecting elements in a molecular system*\n",
    "\n",
    "Elements selections is probably one of the most frequently tasks when we work with molecular systems. There are many circumstances under which we need to know list of elements acomplishing a certain condition. We probably need, for instance, to calculate de contact map between CA atoms from two chains, or to remove the solvent atoms or to know how many 'HIS' residues there are in a protein. All these conditions can be expresed as a sentence that a query over elements needs to match. Each library to work with molecular systems, molecular dynamics engine or molecular visualization software, have each own syntax you have to follow to write this sentence. See for instance different examples in the tools [MDTraj](https://www.mdtraj.org/1.9.7/atom_selection.html), [PyTraj](https://amber-md.github.io/pytraj/latest/atom_mask_selection.html?highlight=select), [MDAnalysis](https://docs.mdanalysis.org/stable/documentation_pages/selections.html), [NGLView](http://nglviewer.org/ngl/api/manual/usage/selection-language.html).\n",
    "\n",
    "The basic module of MolSysMT includes the function `molsysmt.basic.select` to perform elements selection on molecular systems of any supported form."
   ]
  },
  {
   "cell_type": "markdown",
   "metadata": {},
   "source": [
    "## MolSysMT selection syntax\n",
    "\n",
    "Although you can use the function {func}`molsysmt.basic.select` with your preferred syntax (see XXX), MolSysMT has its own selection syntax based on the attributes of the elements as atoms, groups, molecules, etc. Let's load a molecular system to explain the logic behind this syntax:"
   ]
  },
  {
   "cell_type": "code",
   "execution_count": 2,
   "metadata": {},
   "outputs": [
    {
     "data": {
      "application/vnd.jupyter.widget-view+json": {
       "model_id": "3e2baf39e312485baed2b33f595e807b",
       "version_major": 2,
       "version_minor": 0
      },
      "text/plain": []
     },
     "metadata": {},
     "output_type": "display_data"
    }
   ],
   "source": [
    "import molsysmt as msm"
   ]
  },
  {
   "cell_type": "code",
   "execution_count": 3,
   "metadata": {},
   "outputs": [],
   "source": [
    "molecular_system = msm.convert('1TCD', to_form='molsysmt.MolSys')"
   ]
  },
  {
   "cell_type": "markdown",
   "metadata": {},
   "source": [
    "A molecular system encoded as the native form 'molsysmt.MolSys' has a pandas DataFrame with the atoms breakdown:"
   ]
  },
  {
   "cell_type": "code",
   "execution_count": 4,
   "metadata": {
    "tags": [
     "scroll-output"
    ]
   },
   "outputs": [
    {
     "data": {
      "text/html": [
       "<div>\n",
       "<style scoped>\n",
       "    .dataframe tbody tr th:only-of-type {\n",
       "        vertical-align: middle;\n",
       "    }\n",
       "\n",
       "    .dataframe tbody tr th {\n",
       "        vertical-align: top;\n",
       "    }\n",
       "\n",
       "    .dataframe thead th {\n",
       "        text-align: right;\n",
       "    }\n",
       "</style>\n",
       "<table border=\"1\" class=\"dataframe\">\n",
       "  <thead>\n",
       "    <tr style=\"text-align: right;\">\n",
       "      <th></th>\n",
       "      <th>atom_index</th>\n",
       "      <th>atom_name</th>\n",
       "      <th>atom_id</th>\n",
       "      <th>atom_type</th>\n",
       "      <th>group_index</th>\n",
       "      <th>group_name</th>\n",
       "      <th>group_id</th>\n",
       "      <th>group_type</th>\n",
       "      <th>component_index</th>\n",
       "      <th>component_name</th>\n",
       "      <th>...</th>\n",
       "      <th>molecule_type</th>\n",
       "      <th>entity_index</th>\n",
       "      <th>entity_name</th>\n",
       "      <th>entity_id</th>\n",
       "      <th>entity_type</th>\n",
       "      <th>occupancy</th>\n",
       "      <th>alternate_location</th>\n",
       "      <th>b_factor</th>\n",
       "      <th>formal_charge</th>\n",
       "      <th>partial_charge</th>\n",
       "    </tr>\n",
       "  </thead>\n",
       "  <tbody>\n",
       "    <tr>\n",
       "      <th>0</th>\n",
       "      <td>0</td>\n",
       "      <td>N</td>\n",
       "      <td>1</td>\n",
       "      <td>N</td>\n",
       "      <td>0</td>\n",
       "      <td>LYS</td>\n",
       "      <td>4</td>\n",
       "      <td>aminoacid</td>\n",
       "      <td>0</td>\n",
       "      <td>0</td>\n",
       "      <td>...</td>\n",
       "      <td>protein</td>\n",
       "      <td>0</td>\n",
       "      <td>Triosephosphate isomerase</td>\n",
       "      <td>0</td>\n",
       "      <td>protein</td>\n",
       "      <td>1.0</td>\n",
       "      <td>None</td>\n",
       "      <td>0.3226</td>\n",
       "      <td>0.0</td>\n",
       "      <td>None</td>\n",
       "    </tr>\n",
       "    <tr>\n",
       "      <th>1</th>\n",
       "      <td>1</td>\n",
       "      <td>CA</td>\n",
       "      <td>2</td>\n",
       "      <td>C</td>\n",
       "      <td>0</td>\n",
       "      <td>LYS</td>\n",
       "      <td>4</td>\n",
       "      <td>aminoacid</td>\n",
       "      <td>0</td>\n",
       "      <td>0</td>\n",
       "      <td>...</td>\n",
       "      <td>protein</td>\n",
       "      <td>0</td>\n",
       "      <td>Triosephosphate isomerase</td>\n",
       "      <td>0</td>\n",
       "      <td>protein</td>\n",
       "      <td>1.0</td>\n",
       "      <td>None</td>\n",
       "      <td>0.3328</td>\n",
       "      <td>0.0</td>\n",
       "      <td>None</td>\n",
       "    </tr>\n",
       "    <tr>\n",
       "      <th>2</th>\n",
       "      <td>2</td>\n",
       "      <td>C</td>\n",
       "      <td>3</td>\n",
       "      <td>C</td>\n",
       "      <td>0</td>\n",
       "      <td>LYS</td>\n",
       "      <td>4</td>\n",
       "      <td>aminoacid</td>\n",
       "      <td>0</td>\n",
       "      <td>0</td>\n",
       "      <td>...</td>\n",
       "      <td>protein</td>\n",
       "      <td>0</td>\n",
       "      <td>Triosephosphate isomerase</td>\n",
       "      <td>0</td>\n",
       "      <td>protein</td>\n",
       "      <td>1.0</td>\n",
       "      <td>None</td>\n",
       "      <td>0.3253</td>\n",
       "      <td>0.0</td>\n",
       "      <td>None</td>\n",
       "    </tr>\n",
       "    <tr>\n",
       "      <th>3</th>\n",
       "      <td>3</td>\n",
       "      <td>O</td>\n",
       "      <td>4</td>\n",
       "      <td>O</td>\n",
       "      <td>0</td>\n",
       "      <td>LYS</td>\n",
       "      <td>4</td>\n",
       "      <td>aminoacid</td>\n",
       "      <td>0</td>\n",
       "      <td>0</td>\n",
       "      <td>...</td>\n",
       "      <td>protein</td>\n",
       "      <td>0</td>\n",
       "      <td>Triosephosphate isomerase</td>\n",
       "      <td>0</td>\n",
       "      <td>protein</td>\n",
       "      <td>1.0</td>\n",
       "      <td>None</td>\n",
       "      <td>0.3216</td>\n",
       "      <td>0.0</td>\n",
       "      <td>None</td>\n",
       "    </tr>\n",
       "    <tr>\n",
       "      <th>4</th>\n",
       "      <td>4</td>\n",
       "      <td>CB</td>\n",
       "      <td>5</td>\n",
       "      <td>C</td>\n",
       "      <td>0</td>\n",
       "      <td>LYS</td>\n",
       "      <td>4</td>\n",
       "      <td>aminoacid</td>\n",
       "      <td>0</td>\n",
       "      <td>0</td>\n",
       "      <td>...</td>\n",
       "      <td>protein</td>\n",
       "      <td>0</td>\n",
       "      <td>Triosephosphate isomerase</td>\n",
       "      <td>0</td>\n",
       "      <td>protein</td>\n",
       "      <td>1.0</td>\n",
       "      <td>None</td>\n",
       "      <td>0.2535</td>\n",
       "      <td>0.0</td>\n",
       "      <td>None</td>\n",
       "    </tr>\n",
       "    <tr>\n",
       "      <th>...</th>\n",
       "      <td>...</td>\n",
       "      <td>...</td>\n",
       "      <td>...</td>\n",
       "      <td>...</td>\n",
       "      <td>...</td>\n",
       "      <td>...</td>\n",
       "      <td>...</td>\n",
       "      <td>...</td>\n",
       "      <td>...</td>\n",
       "      <td>...</td>\n",
       "      <td>...</td>\n",
       "      <td>...</td>\n",
       "      <td>...</td>\n",
       "      <td>...</td>\n",
       "      <td>...</td>\n",
       "      <td>...</td>\n",
       "      <td>...</td>\n",
       "      <td>...</td>\n",
       "      <td>...</td>\n",
       "      <td>...</td>\n",
       "      <td>...</td>\n",
       "    </tr>\n",
       "    <tr>\n",
       "      <th>3978</th>\n",
       "      <td>3978</td>\n",
       "      <td>O</td>\n",
       "      <td>3979</td>\n",
       "      <td>O</td>\n",
       "      <td>657</td>\n",
       "      <td>HOH</td>\n",
       "      <td>339</td>\n",
       "      <td>water</td>\n",
       "      <td>162</td>\n",
       "      <td>162</td>\n",
       "      <td>...</td>\n",
       "      <td>water</td>\n",
       "      <td>1</td>\n",
       "      <td>water</td>\n",
       "      <td>1</td>\n",
       "      <td>water</td>\n",
       "      <td>1.0</td>\n",
       "      <td>None</td>\n",
       "      <td>0.4365</td>\n",
       "      <td>0.0</td>\n",
       "      <td>None</td>\n",
       "    </tr>\n",
       "    <tr>\n",
       "      <th>3979</th>\n",
       "      <td>3979</td>\n",
       "      <td>O</td>\n",
       "      <td>3980</td>\n",
       "      <td>O</td>\n",
       "      <td>658</td>\n",
       "      <td>HOH</td>\n",
       "      <td>340</td>\n",
       "      <td>water</td>\n",
       "      <td>163</td>\n",
       "      <td>163</td>\n",
       "      <td>...</td>\n",
       "      <td>water</td>\n",
       "      <td>1</td>\n",
       "      <td>water</td>\n",
       "      <td>1</td>\n",
       "      <td>water</td>\n",
       "      <td>1.0</td>\n",
       "      <td>None</td>\n",
       "      <td>0.3323</td>\n",
       "      <td>0.0</td>\n",
       "      <td>None</td>\n",
       "    </tr>\n",
       "    <tr>\n",
       "      <th>3980</th>\n",
       "      <td>3980</td>\n",
       "      <td>O</td>\n",
       "      <td>3981</td>\n",
       "      <td>O</td>\n",
       "      <td>659</td>\n",
       "      <td>HOH</td>\n",
       "      <td>341</td>\n",
       "      <td>water</td>\n",
       "      <td>164</td>\n",
       "      <td>164</td>\n",
       "      <td>...</td>\n",
       "      <td>water</td>\n",
       "      <td>1</td>\n",
       "      <td>water</td>\n",
       "      <td>1</td>\n",
       "      <td>water</td>\n",
       "      <td>1.0</td>\n",
       "      <td>None</td>\n",
       "      <td>0.3706</td>\n",
       "      <td>0.0</td>\n",
       "      <td>None</td>\n",
       "    </tr>\n",
       "    <tr>\n",
       "      <th>3981</th>\n",
       "      <td>3981</td>\n",
       "      <td>O</td>\n",
       "      <td>3982</td>\n",
       "      <td>O</td>\n",
       "      <td>660</td>\n",
       "      <td>HOH</td>\n",
       "      <td>342</td>\n",
       "      <td>water</td>\n",
       "      <td>165</td>\n",
       "      <td>165</td>\n",
       "      <td>...</td>\n",
       "      <td>water</td>\n",
       "      <td>1</td>\n",
       "      <td>water</td>\n",
       "      <td>1</td>\n",
       "      <td>water</td>\n",
       "      <td>1.0</td>\n",
       "      <td>None</td>\n",
       "      <td>0.3207</td>\n",
       "      <td>0.0</td>\n",
       "      <td>None</td>\n",
       "    </tr>\n",
       "    <tr>\n",
       "      <th>3982</th>\n",
       "      <td>3982</td>\n",
       "      <td>O</td>\n",
       "      <td>3983</td>\n",
       "      <td>O</td>\n",
       "      <td>661</td>\n",
       "      <td>HOH</td>\n",
       "      <td>343</td>\n",
       "      <td>water</td>\n",
       "      <td>166</td>\n",
       "      <td>166</td>\n",
       "      <td>...</td>\n",
       "      <td>water</td>\n",
       "      <td>1</td>\n",
       "      <td>water</td>\n",
       "      <td>1</td>\n",
       "      <td>water</td>\n",
       "      <td>1.0</td>\n",
       "      <td>None</td>\n",
       "      <td>0.3184</td>\n",
       "      <td>0.0</td>\n",
       "      <td>None</td>\n",
       "    </tr>\n",
       "  </tbody>\n",
       "</table>\n",
       "<p>3983 rows × 29 columns</p>\n",
       "</div>"
      ],
      "text/plain": [
       "      atom_index atom_name  atom_id atom_type  group_index group_name  \\\n",
       "0              0         N        1         N            0        LYS   \n",
       "1              1        CA        2         C            0        LYS   \n",
       "2              2         C        3         C            0        LYS   \n",
       "3              3         O        4         O            0        LYS   \n",
       "4              4        CB        5         C            0        LYS   \n",
       "...          ...       ...      ...       ...          ...        ...   \n",
       "3978        3978         O     3979         O          657        HOH   \n",
       "3979        3979         O     3980         O          658        HOH   \n",
       "3980        3980         O     3981         O          659        HOH   \n",
       "3981        3981         O     3982         O          660        HOH   \n",
       "3982        3982         O     3983         O          661        HOH   \n",
       "\n",
       "      group_id group_type  component_index  component_name  ...  \\\n",
       "0            4  aminoacid                0               0  ...   \n",
       "1            4  aminoacid                0               0  ...   \n",
       "2            4  aminoacid                0               0  ...   \n",
       "3            4  aminoacid                0               0  ...   \n",
       "4            4  aminoacid                0               0  ...   \n",
       "...        ...        ...              ...             ...  ...   \n",
       "3978       339      water              162             162  ...   \n",
       "3979       340      water              163             163  ...   \n",
       "3980       341      water              164             164  ...   \n",
       "3981       342      water              165             165  ...   \n",
       "3982       343      water              166             166  ...   \n",
       "\n",
       "      molecule_type entity_index                entity_name entity_id  \\\n",
       "0           protein            0  Triosephosphate isomerase         0   \n",
       "1           protein            0  Triosephosphate isomerase         0   \n",
       "2           protein            0  Triosephosphate isomerase         0   \n",
       "3           protein            0  Triosephosphate isomerase         0   \n",
       "4           protein            0  Triosephosphate isomerase         0   \n",
       "...             ...          ...                        ...       ...   \n",
       "3978          water            1                      water         1   \n",
       "3979          water            1                      water         1   \n",
       "3980          water            1                      water         1   \n",
       "3981          water            1                      water         1   \n",
       "3982          water            1                      water         1   \n",
       "\n",
       "     entity_type occupancy  alternate_location b_factor formal_charge  \\\n",
       "0        protein       1.0                None   0.3226           0.0   \n",
       "1        protein       1.0                None   0.3328           0.0   \n",
       "2        protein       1.0                None   0.3253           0.0   \n",
       "3        protein       1.0                None   0.3216           0.0   \n",
       "4        protein       1.0                None   0.2535           0.0   \n",
       "...          ...       ...                 ...      ...           ...   \n",
       "3978       water       1.0                None   0.4365           0.0   \n",
       "3979       water       1.0                None   0.3323           0.0   \n",
       "3980       water       1.0                None   0.3706           0.0   \n",
       "3981       water       1.0                None   0.3207           0.0   \n",
       "3982       water       1.0                None   0.3184           0.0   \n",
       "\n",
       "     partial_charge  \n",
       "0              None  \n",
       "1              None  \n",
       "2              None  \n",
       "3              None  \n",
       "4              None  \n",
       "...             ...  \n",
       "3978           None  \n",
       "3979           None  \n",
       "3980           None  \n",
       "3981           None  \n",
       "3982           None  \n",
       "\n",
       "[3983 rows x 29 columns]"
      ]
     },
     "execution_count": 4,
     "metadata": {},
     "output_type": "execute_result"
    }
   ],
   "source": [
    "molecular_system.topology.atoms_dataframe"
   ]
  },
  {
   "cell_type": "markdown",
   "metadata": {},
   "source": [
    "As you can see, the column names are the fundamental attributes of the molecular system atoms:"
   ]
  },
  {
   "cell_type": "code",
   "execution_count": 5,
   "metadata": {},
   "outputs": [
    {
     "name": "stdout",
     "output_type": "stream",
     "text": [
      "Index(['atom_index', 'atom_name', 'atom_id', 'atom_type', 'group_index',\n",
      "       'group_name', 'group_id', 'group_type', 'component_index',\n",
      "       'component_name', 'component_id', 'component_type', 'chain_index',\n",
      "       'chain_name', 'chain_id', 'chain_type', 'molecule_index',\n",
      "       'molecule_name', 'molecule_id', 'molecule_type', 'entity_index',\n",
      "       'entity_name', 'entity_id', 'entity_type', 'occupancy',\n",
      "       'alternate_location', 'b_factor', 'formal_charge', 'partial_charge'],\n",
      "      dtype='object')\n"
     ]
    }
   ],
   "source": [
    "print(molecular_system.topology.atoms_dataframe.columns)"
   ]
  },
  {
   "cell_type": "markdown",
   "metadata": {},
   "source": [
    "These attributes define the keywords of the attributes:\n",
    "\n",
    "<center>\n",
    "\n",
    "| Word | Attribute | Accepted Synonyms | Meaning |\n",
    "|---|---|---|---|\n",
    "| atom_index | atom_index | \"atom_indices\", \"index\" or \"indices\" when `element=atom`| Atom index/ices |\n",
    "| atom_name | atom_name | \"atom_names\", \"name\" or \"names\" when `element=atom`| Atom name/s |\n",
    "| atom_id | atom_id | \"atom_ids\", \"id\" or \"ids\" when `element=atom`| Atom id/s |\n",
    "| atom_type | atom_type | \"atom_types\", \"type\" or \"types\" when `element=atom`| Atom type/s |\n",
    "| group_index | group_index | \"group_indices\", \"index\" or \"indices\" when `element=group`| Group index/ices |\n",
    "| group_name | group_name | \"atom_names\", \"name\" or \"names\" when `element=group`| Group name/s |\n",
    "| group_id | group_id | \"group_ids\", \"id\" or \"ids\" when `element=group`| Group id/s |\n",
    "| group_type | group_type | \"group_types\", \"type\" or \"types\" when `element=group`| Group type/s |\n",
    "| component_index | component_index | \"component_indices\", \"index\" or \"indices\" when `element=component`| Component index/ices |\n",
    "| component_name | component_name | \"component_names\", \"name\" or \"names\" when `element=component`| Component name/s |\n",
    "| component_id | component_id | \"component_ids\", \"id\" or \"ids\" when `element=component`| Component id/s |\n",
    "| component_type | component_type | \"component_types\", \"type\" or \"types\" when `element=component`| Component type/s |\n",
    "| chain_index | chain_index | \"chain_indices\", \"index\" or \"indices\" when `element=chain`| Chain index/ices |\n",
    "| chain_name | chain_name | \"chain_names\", \"name\" or \"names\" when `element=chain`| Chain name/s |\n",
    "| chain_id | chain_id | \"chain_ids\", \"id\" or \"ids\" when `element=chain`| Chain id/s |\n",
    "| chain_type | chain_type | \"chain_types\", \"type\" or \"types\" when `element=chain`| Chain type/s |\n",
    "| molecule_index | molecule_index | \"molecule_indices\", \"index\" or \"indices\" when `element=molecule`| Molecule index/ices |\n",
    "| molecule_name | molecule_name | \"molecule_names\", \"name\" or \"names\" when `element=molecule`| Molecule name/s |\n",
    "| molecule_id | molecule_id | \"molecule_ids\", \"id\" or \"ids\" when `element=molecule`| Molecule id/s |\n",
    "| molecule_type | molecule_type | \"molecule_types\", \"type\" or \"types\" when `element=molecule`| Molecule type/s |  \n",
    "| entity_index | entity_index | \"molecule_indices\", \"index\" or \"indices\" when `element=molecule`| Entity index/ices |\n",
    "| entity_name | entity_name | \"entity_names\", \"name\" or \"names\" when `element=entity`| Entity name/s |\n",
    "| entity_id | entity_id | \"entity_ids\", \"id\" or \"ids\" when `element=molecule`| Entity id/s |\n",
    "| entity_type | entity_type | \"entity_types\", \"type\" or \"types\" when `element=entity`| Entity type/s |  \n",
    "| occupancy | occupancy | \"occupancies\" | Atom occupancy |\n",
    "| alternate_location | alternate_location | \"alternate_locations\" | Atom alternate location id |\n",
    "| b_factor | b_factor | \"b_factors\" | B-factors or Debye-Waller factors |\n",
    "| formal_charge | formal_charge | \"formal_charges\" | Formal charge |\n",
    "| partial_charge | partial_charge | \"partial_charges\" | Partial charge |\n",
    "</center>"
   ]
  },
  {
   "cell_type": "markdown",
   "metadata": {},
   "source": [
    "The syntax proposed by Pandas to perform queries in a 'pandas.DataFrame' is the base of the MolSysMT selection procedure. The boolean syntax of Pandas includes the following words and symbols:\n",
    "\n",
    "<center>\n",
    "\n",
    "| Word | Symbol | Meaning |\n",
    "|---|---|---|\n",
    "| and | & | and |\n",
    "| or | \\| | or |\n",
    "| not | ~ | not |\n",
    "| in | | in |\n",
    "|  | == | equal |\n",
    "|  | != | not equal |\n",
    "|  | < | less than |\n",
    "|  | <= | less or equal than |\n",
    "|  | > | greater than |\n",
    "|  | >= | greater or equal than |\n",
    "\n",
    "</center>\n",
    "\n"
   ]
  },
  {
   "cell_type": "markdown",
   "metadata": {},
   "source": [
    "## Some examples of atoms selections\n",
    "The following are some examples where a list of atoms is obtained matching some selection criteria based on atoms attributes:"
   ]
  },
  {
   "cell_type": "code",
   "execution_count": 6,
   "metadata": {},
   "outputs": [
    {
     "data": {
      "text/plain": [
       "array([ 1,  4, 10, 13, 17])"
      ]
     },
     "execution_count": 6,
     "metadata": {},
     "output_type": "execute_result"
    }
   ],
   "source": [
    "# Atoms with name CA or CB\n",
    "msm.select(molecular_system, element='atom', selection='atom_name in [\"CA\",\"CB\"] and atom_id<20')"
   ]
  },
  {
   "cell_type": "markdown",
   "metadata": {},
   "source": [
    "```{admonition} Tip\n",
    ":class: tip\n",
    "All functions defined in the {ref}`molsysmt.basic <API basic>` module can be invoked also from the main level of the library. Hence, {func}`molsysmt.select` is the same function as {func}`molsysmt.basic.selection`.\n",
    "```"
   ]
  },
  {
   "cell_type": "code",
   "execution_count": 7,
   "metadata": {},
   "outputs": [
    {
     "data": {
      "text/plain": [
       "array([   0,    1,    2, ..., 3980, 3981, 3982])"
      ]
     },
     "execution_count": 7,
     "metadata": {},
     "output_type": "execute_result"
    }
   ],
   "source": [
    "# Heavy atoms\n",
    "msm.select(molecular_system, 'not atom_type==\"H\"')"
   ]
  },
  {
   "cell_type": "markdown",
   "metadata": {},
   "source": [
    "```{admonition} Tip\n",
    ":class: tip\n",
    "By default, the input argument `element` takes the value \"atom\" in {func}`molsysmt.basic.selection`.\n",
    "```"
   ]
  },
  {
   "cell_type": "code",
   "execution_count": 8,
   "metadata": {},
   "outputs": [
    {
     "data": {
      "text/plain": [
       "array([   2,    4,    5, ..., 3813, 3814, 3815])"
      ]
     },
     "execution_count": 8,
     "metadata": {},
     "output_type": "execute_result"
    }
   ],
   "source": [
    "# Atoms of type C not named CA\n",
    "msm.select(molecular_system, 'atom_type==\"C\" and not atom_name==\"CA\"')"
   ]
  },
  {
   "cell_type": "code",
   "execution_count": 9,
   "metadata": {},
   "outputs": [
    {
     "data": {
      "text/plain": [
       "array([   0,    3,    5, ..., 3980, 3981, 3982])"
      ]
     },
     "execution_count": 9,
     "metadata": {},
     "output_type": "execute_result"
    }
   ],
   "source": [
    "# Atoms not named CA, CB or C\n",
    "msm.select(molecular_system, 'atom_name!=[\"CA\",\"CB\",\"C\"]')"
   ]
  },
  {
   "cell_type": "markdown",
   "metadata": {},
   "source": [
    "Atoms can be selected using attributes of other the other elements in the hierarchical organization of the molecular system: 'group', 'component', 'molecule', 'chain', 'entity'. You can find further information of these elements in XXX. These are some examples of selection sentences including other criteria than atoms attributes:"
   ]
  },
  {
   "cell_type": "code",
   "execution_count": 10,
   "metadata": {
    "tags": [
     "scroll-output"
    ]
   },
   "outputs": [
    {
     "data": {
      "text/plain": [
       "array([3818, 3819, 3820, 3821, 3822, 3823, 3824, 3825, 3826, 3827, 3828,\n",
       "       3829, 3830, 3831, 3832, 3833, 3834, 3835, 3836, 3837, 3838, 3839,\n",
       "       3840, 3841, 3842, 3843, 3844, 3845, 3846, 3847, 3848, 3849, 3850,\n",
       "       3851, 3852, 3853, 3854, 3855, 3856, 3857, 3858, 3859, 3860, 3861,\n",
       "       3862, 3863, 3864, 3865, 3866, 3867, 3868, 3869, 3870, 3871, 3872,\n",
       "       3873, 3874, 3875, 3876, 3877, 3878, 3879, 3880, 3881, 3882, 3883,\n",
       "       3884, 3885, 3886, 3887, 3888, 3889, 3890, 3891, 3892, 3893, 3894,\n",
       "       3895, 3896, 3897, 3898, 3899, 3900, 3901, 3902, 3903, 3904, 3905,\n",
       "       3906, 3907, 3908, 3909, 3910, 3911, 3912, 3913, 3914, 3915, 3916,\n",
       "       3917, 3918, 3919, 3920, 3921, 3922, 3923, 3924, 3925, 3926, 3927,\n",
       "       3928, 3929, 3930, 3931, 3932, 3933, 3934, 3935, 3936, 3937, 3938,\n",
       "       3939, 3940, 3941, 3942, 3943, 3944, 3945, 3946, 3947, 3948, 3949,\n",
       "       3950, 3951, 3952, 3953, 3954, 3955, 3956, 3957, 3958, 3959, 3960,\n",
       "       3961, 3962, 3963, 3964, 3965, 3966, 3967, 3968, 3969, 3970, 3971,\n",
       "       3972, 3973, 3974, 3975, 3976, 3977, 3978, 3979, 3980, 3981, 3982])"
      ]
     },
     "execution_count": 10,
     "metadata": {},
     "output_type": "execute_result"
    }
   ],
   "source": [
    "# Atoms belonging to molecules of type water.\n",
    "msm.select(molecular_system, 'molecule_type==\"water\"')"
   ]
  },
  {
   "cell_type": "code",
   "execution_count": 11,
   "metadata": {},
   "outputs": [
    {
     "data": {
      "text/plain": [
       "array([25, 26, 27, 28, 29, 30, 31])"
      ]
     },
     "execution_count": 11,
     "metadata": {},
     "output_type": "execute_result"
    }
   ],
   "source": [
    "# Heavy atoms belonging to molecules of type protein.\n",
    "msm.select(molecular_system, 'molecule_type==\"protein\" and atom_type!=\"H\" and group_index==3')"
   ]
  },
  {
   "cell_type": "code",
   "execution_count": 12,
   "metadata": {
    "tags": [
     "scroll-output"
    ]
   },
   "outputs": [
    {
     "data": {
      "text/plain": [
       "array([  40,   41,   42,   43,   44,   45,   46,   47,   48,   49,   50,\n",
       "         51,   52,   53,   54,  100,  101,  102,  103,  141,  142,  143,\n",
       "        144,  145,  146,  147,  203,  204,  205,  206,  207,  208,  209,\n",
       "        210,  211,  212,  257,  258,  259,  260,  261,  262,  263,  279,\n",
       "        280,  281,  282,  283,  284,  285,  286,  287,  288,  289,  290,\n",
       "        291,  292,  293,  294,  295,  296,  297,  380,  381,  382,  383,\n",
       "        384,  463,  464,  465,  466,  467,  468,  469,  470,  471,  472,\n",
       "        490,  491,  492,  493,  494,  527,  528,  529,  530,  531,  532,\n",
       "        533,  534,  535,  554,  555,  556,  557,  567,  568,  569,  570,\n",
       "        571,  572,  573,  642,  643,  644,  645,  674,  675,  676,  677,\n",
       "        678,  679,  680,  681,  682,  683,  684,  685,  686,  687,  696,\n",
       "        697,  698,  699,  779,  780,  781,  782,  824,  825,  826,  827,\n",
       "        828,  829,  830,  831,  832,  833,  834,  835,  854,  855,  856,\n",
       "        857,  858,  859,  860,  861,  862,  863,  864,  865,  875,  876,\n",
       "        877,  878,  879,  886,  887,  888,  889,  890,  891,  892,  893,\n",
       "        894,  895,  896,  897,  898,  899,  921,  922,  923,  924,  925,\n",
       "        926,  927,  936,  937,  938,  939,  940,  941,  942,  949,  950,\n",
       "        951,  952,  953,  954,  955,  956,  957,  958,  959, 1022, 1023,\n",
       "       1024, 1025, 1026, 1027, 1028, 1029, 1030, 1049, 1050, 1051, 1052,\n",
       "       1053, 1054, 1055, 1056, 1057, 1058, 1059, 1060, 1061, 1062, 1063,\n",
       "       1064, 1065, 1066, 1067, 1068, 1069, 1070, 1071, 1072, 1105, 1106,\n",
       "       1107, 1108, 1109, 1110, 1111, 1112, 1113, 1114, 1115, 1116, 1117,\n",
       "       1118, 1119, 1120, 1121, 1122, 1123, 1124, 1125, 1126, 1177, 1178,\n",
       "       1179, 1180, 1181, 1213, 1214, 1215, 1216, 1217, 1218, 1219, 1220,\n",
       "       1221, 1222, 1223, 1224, 1225, 1226, 1235, 1236, 1237, 1238, 1239,\n",
       "       1268, 1269, 1270, 1271, 1272, 1273, 1274, 1289, 1290, 1291, 1292,\n",
       "       1293, 1302, 1303, 1304, 1305, 1313, 1314, 1315, 1316, 1326, 1327,\n",
       "       1328, 1329, 1330, 1331, 1332, 1333, 1334, 1335, 1336, 1337, 1370,\n",
       "       1371, 1372, 1373, 1374, 1393, 1394, 1395, 1396, 1397, 1398, 1399,\n",
       "       1471, 1472, 1473, 1474, 1475, 1476, 1477, 1512, 1513, 1514, 1515,\n",
       "       1539, 1540, 1541, 1542, 1543, 1544, 1545, 1546, 1547, 1548, 1605,\n",
       "       1606, 1607, 1608, 1609, 1610, 1611, 1612, 1619, 1620, 1621, 1622,\n",
       "       1623, 1624, 1625, 1633, 1634, 1635, 1636, 1637, 1655, 1656, 1657,\n",
       "       1658, 1659, 1750, 1751, 1752, 1753, 1773, 1774, 1775, 1776, 1777,\n",
       "       1778, 1779, 1780, 1781, 1782, 1783, 1784, 1785, 1786, 1787, 1788,\n",
       "       1789, 1790, 1791, 1792, 1843, 1844, 1845, 1846, 1847, 1848, 1849,\n",
       "       1884, 1885, 1886, 1887, 1888])"
      ]
     },
     "execution_count": 12,
     "metadata": {},
     "output_type": "execute_result"
    }
   ],
   "source": [
    "# Atoms belonging to residues named GLY, ALA or VAL in chain id A.\n",
    "msm.select(molecular_system, 'group_name==[\"GLY\",\"ALA\",\"VAL\"] and chain_id==\"A\"') "
   ]
  },
  {
   "cell_type": "markdown",
   "metadata": {},
   "source": [
    "The selection argument accepts also lists of indices, which are **always** intepreted as atoms indices."
   ]
  },
  {
   "cell_type": "code",
   "execution_count": 13,
   "metadata": {},
   "outputs": [
    {
     "data": {
      "text/plain": [
       "array([0, 1, 2])"
      ]
     },
     "execution_count": 13,
     "metadata": {},
     "output_type": "execute_result"
    }
   ],
   "source": [
    "msm.select(molecular_system, selection=[0,1,2])"
   ]
  },
  {
   "cell_type": "markdown",
   "metadata": {},
   "source": [
    "## Selecting elements other than atoms\n",
    "\n",
    "The selection method of MolSysMT can also return other elements indices than atoms. As many methods in this library, {func}`molsysmt.basic.select()` has an input argument named `element` to select the elements nature of the output list of indices. Lets see some examples:"
   ]
  },
  {
   "cell_type": "code",
   "execution_count": 14,
   "metadata": {},
   "outputs": [
    {
     "data": {
      "text/plain": [
       "array([  5,   6,   7,  27,  28,  39,  50,  60,  61,  64,  70, 107, 111,\n",
       "       113, 115, 116, 133, 137, 138, 145, 146, 148, 155, 162, 168, 175,\n",
       "       180, 200, 201, 213, 216, 233, 245, 254, 255, 256, 276, 277, 288,\n",
       "       299, 309, 310, 313, 319, 356, 360, 362, 364, 365, 382, 386, 387,\n",
       "       394, 395, 397, 404, 411, 417, 424, 429, 449, 450, 462, 465, 482,\n",
       "       494])"
      ]
     },
     "execution_count": 14,
     "metadata": {},
     "output_type": "execute_result"
    }
   ],
   "source": [
    "# Groups with name \"ALA\"\n",
    "msm.select(molecular_system,  element='group', selection='group_name==\"ALA\"')"
   ]
  },
  {
   "cell_type": "code",
   "execution_count": 15,
   "metadata": {},
   "outputs": [
    {
     "data": {
      "text/plain": [
       "array([4, 5, 9])"
      ]
     },
     "execution_count": 15,
     "metadata": {},
     "output_type": "execute_result"
    }
   ],
   "source": [
    "# Groups of atoms index 34, 44 or 64\n",
    "msm.select(molecular_system, element='group', selection='atom_index==[34,44,64]')"
   ]
  },
  {
   "cell_type": "code",
   "execution_count": 16,
   "metadata": {
    "tags": [
     "scroll-output"
    ]
   },
   "outputs": [
    {
     "data": {
      "text/plain": [
       "array([  0,   1,   2,   3,   4,   5,   6,   7,   8,   9,  10,  11,  12,\n",
       "        13,  14,  15,  16,  17,  18,  19,  20,  21,  22,  23,  24,  25,\n",
       "        26,  27,  28,  29,  30,  31,  32,  33,  34,  35,  36,  37,  38,\n",
       "        39,  40,  41,  42,  43,  44,  45,  46,  47,  48,  49,  50,  51,\n",
       "        52,  53,  54,  55,  56,  57,  58,  59,  60,  61,  62,  63,  64,\n",
       "        65,  66,  67,  68,  69,  70,  71,  72,  73,  74,  75,  76,  77,\n",
       "        78,  79,  80,  81,  82,  83,  84,  85,  86,  87,  88,  89,  90,\n",
       "        91,  92,  93,  94,  95,  96,  97,  98,  99, 100, 101, 102, 103,\n",
       "       104, 105, 106, 107, 108, 109, 110, 111, 112, 113, 114, 115, 116,\n",
       "       117, 118, 119, 120, 121, 122, 123, 124, 125, 126, 127, 128, 129,\n",
       "       130, 131, 132, 133, 134, 135, 136, 137, 138, 139, 140, 141, 142,\n",
       "       143, 144, 145, 146, 147, 148, 149, 150, 151, 152, 153, 154, 155,\n",
       "       156, 157, 158, 159, 160, 161, 162, 163, 164, 165, 166, 167, 168,\n",
       "       169, 170, 171, 172, 173, 174, 175, 176, 177, 178, 179, 180, 181,\n",
       "       182, 183, 184, 185, 186, 187, 188, 189, 190, 191, 192, 193, 194,\n",
       "       195, 196, 197, 198, 199, 200, 201, 202, 203, 204, 205, 206, 207,\n",
       "       208, 209, 210, 211, 212, 213, 214, 215, 216, 217, 218, 219, 220,\n",
       "       221, 222, 223, 224, 225, 226, 227, 228, 229, 230, 231, 232, 233,\n",
       "       234, 235, 236, 237, 238, 239, 240, 241, 242, 243, 244, 245, 246,\n",
       "       247])"
      ]
     },
     "execution_count": 16,
     "metadata": {},
     "output_type": "execute_result"
    }
   ],
   "source": [
    "# Groups belonging to chain id A or C and molecule of type anything but water\n",
    "msm.select(molecular_system, element='group', selection='chain_id in [\"A\", \"C\"] and molecule_type!=\"water\"')"
   ]
  },
  {
   "cell_type": "code",
   "execution_count": 17,
   "metadata": {
    "tags": [
     "scroll-output"
    ]
   },
   "outputs": [
    {
     "data": {
      "text/plain": [
       "array([  2,   3,   4,   5,   6,   7,   8,   9,  10,  11,  12,  13,  14,\n",
       "        15,  16,  17,  18,  19,  20,  21,  22,  23,  24,  25,  26,  27,\n",
       "        28,  29,  30,  31,  32,  33,  34,  35,  36,  37,  38,  39,  40,\n",
       "        41,  42,  43,  44,  45,  46,  47,  48,  49,  50,  51,  52,  53,\n",
       "        54,  55,  56,  57,  58,  59,  60,  61,  62,  63,  64,  65,  66,\n",
       "        67,  68,  69,  70,  71,  72,  73,  74,  75,  76,  77,  78,  79,\n",
       "        80,  81,  82,  83,  84,  85,  86,  87,  88,  89,  90,  91,  92,\n",
       "        93,  94,  95,  96,  97,  98,  99, 100, 101, 102, 103, 104, 105,\n",
       "       106, 107, 108, 109, 110, 111, 112, 113, 114, 115, 116, 117, 118,\n",
       "       119, 120, 121, 122, 123, 124, 125, 126, 127, 128, 129, 130, 131,\n",
       "       132, 133, 134, 135, 136, 137, 138, 139, 140, 141, 142, 143, 144,\n",
       "       145, 146, 147, 148, 149, 150, 151, 152, 153, 154, 155, 156, 157,\n",
       "       158, 159, 160, 161, 162, 163, 164, 165, 166])"
      ]
     },
     "execution_count": 17,
     "metadata": {},
     "output_type": "execute_result"
    }
   ],
   "source": [
    "# Molecules of type water\n",
    "msm.select(molecular_system, 'molecule_type==\"water\"', element='molecule')"
   ]
  },
  {
   "cell_type": "code",
   "execution_count": 18,
   "metadata": {},
   "outputs": [
    {
     "data": {
      "text/plain": [
       "array([2, 3])"
      ]
     },
     "execution_count": 18,
     "metadata": {},
     "output_type": "execute_result"
    }
   ],
   "source": [
    "# Chains with molecules of type water\n",
    "msm.select(molecular_system, 'molecule_type==\"water\"', element='chain')"
   ]
  },
  {
   "cell_type": "code",
   "execution_count": 19,
   "metadata": {},
   "outputs": [
    {
     "data": {
      "text/plain": [
       "array([37, 38, 39, 40])"
      ]
     },
     "execution_count": 19,
     "metadata": {},
     "output_type": "execute_result"
    }
   ],
   "source": [
    "# Bonds in group index 5\n",
    "msm.select(molecular_system, 'group_index==5', element='bond')"
   ]
  },
  {
   "cell_type": "markdown",
   "metadata": {},
   "source": [
    "When selection takes a list of integers as value, this is **always** intepreted as a list of atom indices:"
   ]
  },
  {
   "cell_type": "code",
   "execution_count": 20,
   "metadata": {},
   "outputs": [
    {
     "data": {
      "text/plain": [
       "array([0, 1])"
      ]
     },
     "execution_count": 20,
     "metadata": {},
     "output_type": "execute_result"
    }
   ],
   "source": [
    "msm.select(molecular_system, element='group', selection=[0,1,2,3,4,5,6,7,8,9,10,11])"
   ]
  },
  {
   "cell_type": "code",
   "execution_count": 21,
   "metadata": {},
   "outputs": [
    {
     "data": {
      "text/plain": [
       "array([ 84,  94, 104])"
      ]
     },
     "execution_count": 21,
     "metadata": {},
     "output_type": "execute_result"
    }
   ],
   "source": [
    "msm.select(molecular_system, element='molecule', selection=[3900, 3910, 3920])"
   ]
  },
  {
   "cell_type": "markdown",
   "metadata": {},
   "source": [
    "## Including external variables in the selection sentence\n",
    "\n",
    "Pandas query method allows the use of external variables in the logical sentence. To include them, variables names have to be preceded by the character '@'. Lets illustrate its use with some examples:"
   ]
  },
  {
   "cell_type": "code",
   "execution_count": 22,
   "metadata": {},
   "outputs": [
    {
     "data": {
      "text/plain": [
       "array([77, 78, 79, 80, 81, 82, 83, 84, 85, 86, 87, 88, 89, 90, 91, 92, 93,\n",
       "       94, 95, 96, 97, 98, 99])"
      ]
     },
     "execution_count": 22,
     "metadata": {},
     "output_type": "execute_result"
    }
   ],
   "source": [
    "# Atoms in groups with indices 10, 11 or 12.\n",
    "indices=[10,11,12]\n",
    "msm.select(molecular_system, 'group_index==@indices')"
   ]
  },
  {
   "cell_type": "code",
   "execution_count": 23,
   "metadata": {},
   "outputs": [
    {
     "data": {
      "text/plain": [
       "array([10, 11, 12, 16, 17, 18, 19, 25, 26, 27, 28])"
      ]
     },
     "execution_count": 23,
     "metadata": {},
     "output_type": "execute_result"
    }
   ],
   "source": [
    "# Atoms named CA, C, O or N in groups with indices 10 to 29.\n",
    "indices=list(range(10,30))\n",
    "atoms=[\"CA\", \"C\", \"O\", \"N\"]\n",
    "msm.select(molecular_system, 'atom_name==@atoms & atom_index==@indices') "
   ]
  },
  {
   "cell_type": "code",
   "execution_count": 24,
   "metadata": {},
   "outputs": [
    {
     "data": {
      "text/plain": [
       "array([  0, 100, 200])"
      ]
     },
     "execution_count": 24,
     "metadata": {},
     "output_type": "execute_result"
    }
   ],
   "source": [
    "# Groups with indices equal to 0, 100 or 200\n",
    "indices=[0,100,200]\n",
    "msm.select(molecular_system, element='group', selection='group_index==@indices')"
   ]
  },
  {
   "cell_type": "markdown",
   "metadata": {},
   "source": [
    "## Including mask filters in the selection\n",
    "\n",
    "Although including masks is not really necessary, {func}`molsysmt.basic.select` has an optional input argument to do so:"
   ]
  },
  {
   "cell_type": "code",
   "execution_count": 25,
   "metadata": {},
   "outputs": [
    {
     "data": {
      "text/plain": [
       "array([11, 18, 27])"
      ]
     },
     "execution_count": 25,
     "metadata": {},
     "output_type": "execute_result"
    }
   ],
   "source": [
    "# Atoms named C with atom index in range 10 to 29\n",
    "indices=list(range(10,30))\n",
    "msm.select(molecular_system, 'atom_name==\"C\"', mask=indices)"
   ]
  },
  {
   "cell_type": "code",
   "execution_count": 26,
   "metadata": {},
   "outputs": [
    {
     "data": {
      "text/plain": [
       "array([0, 1, 2])"
      ]
     },
     "execution_count": 26,
     "metadata": {},
     "output_type": "execute_result"
    }
   ],
   "source": [
    "# Atoms with index from 0 to 4 and from 0 to 2\n",
    "msm.select(molecular_system, 'atom_index in [0,1,2,3,4]', mask=[0,1,2], element='atom')"
   ]
  },
  {
   "cell_type": "code",
   "execution_count": 27,
   "metadata": {},
   "outputs": [
    {
     "data": {
      "text/plain": [
       "array([0, 1, 2])"
      ]
     },
     "execution_count": 27,
     "metadata": {},
     "output_type": "execute_result"
    }
   ],
   "source": [
    "# Groups with index from 0 to 4 and from 0 to 2\n",
    "msm.select(molecular_system, 'group_index in [0,1,2,3,4]', mask=[0,1,2], element='group')"
   ]
  },
  {
   "cell_type": "markdown",
   "metadata": {},
   "source": [
    "The use of masks can always be avoid using the logical sentence:"
   ]
  },
  {
   "cell_type": "code",
   "execution_count": 28,
   "metadata": {},
   "outputs": [
    {
     "data": {
      "text/plain": [
       "array([11, 18, 27])"
      ]
     },
     "execution_count": 28,
     "metadata": {},
     "output_type": "execute_result"
    }
   ],
   "source": [
    "# Atoms named C with atom index in range 10 to 29\n",
    "indices=list(range(10,30))\n",
    "msm.select(molecular_system, 'atom_name==\"C\" and atom_index in @indices')"
   ]
  },
  {
   "cell_type": "markdown",
   "metadata": {},
   "source": [
    "## Selecting elements \"within a distance of\"\n",
    "\n",
    "A selection of elements within a certain distance of a set of elements can be obtained using the string `within ... of`:"
   ]
  },
  {
   "cell_type": "code",
   "execution_count": 29,
   "metadata": {},
   "outputs": [
    {
     "data": {
      "text/plain": [
       "array([ 89, 480, 527, 547, 550, 552, 554, 566, 723, 734])"
      ]
     },
     "execution_count": 29,
     "metadata": {},
     "output_type": "execute_result"
    }
   ],
   "source": [
    "msm.select(molecular_system, 'chain_id==\"A\" within 0.3 nm of chain_id==\"B\"')"
   ]
  },
  {
   "cell_type": "code",
   "execution_count": 30,
   "metadata": {},
   "outputs": [
    {
     "data": {
      "text/plain": [
       "array([ 119,  213,  473,  531,  654,  696,  799, 1049])"
      ]
     },
     "execution_count": 30,
     "metadata": {},
     "output_type": "execute_result"
    }
   ],
   "source": [
    "msm.select(molecular_system, '(atom_name==\"N\" and chain_id==\"A\") within 3 angstroms of (atom_type==\"O\" and molecule_type==\"water\")')"
   ]
  },
  {
   "cell_type": "code",
   "execution_count": 31,
   "metadata": {},
   "outputs": [
    {
     "data": {
      "text/plain": [
       "array([10, 42, 62, 72, 73])"
      ]
     },
     "execution_count": 31,
     "metadata": {},
     "output_type": "execute_result"
    }
   ],
   "source": [
    "msm.select(molecular_system, '(atom_name==\"CA\" and chain_id==\"A\") within 0.5 nm of (atom_name==\"CA\" and chain_id==\"B\")',\n",
    "          element='group')"
   ]
  },
  {
   "cell_type": "markdown",
   "metadata": {},
   "source": [
    "The string \"not within ... of ...\" can also be used:"
   ]
  },
  {
   "cell_type": "code",
   "execution_count": 32,
   "metadata": {},
   "outputs": [
    {
     "data": {
      "text/plain": [
       "array([1521, 1522, 1723, 1724])"
      ]
     },
     "execution_count": 32,
     "metadata": {},
     "output_type": "execute_result"
    }
   ],
   "source": [
    "msm.select(molecular_system, 'chain_id==\"A\" not within 7.8 nanometers of chain_id==\"B\"')"
   ]
  },
  {
   "cell_type": "markdown",
   "metadata": {},
   "source": [
    "And distances can be interpreted with or without periodic boundary conditions:"
   ]
  },
  {
   "cell_type": "code",
   "execution_count": 33,
   "metadata": {},
   "outputs": [
    {
     "data": {
      "text/plain": [
       "array([ 89, 480, 527, 547, 550, 552, 554, 566, 723, 734])"
      ]
     },
     "execution_count": 33,
     "metadata": {},
     "output_type": "execute_result"
    }
   ],
   "source": [
    "msm.select(molecular_system, 'chain_id==\"A\" within 0.3 nm without pbc of chain_id==\"B\"')"
   ]
  },
  {
   "cell_type": "code",
   "execution_count": 34,
   "metadata": {},
   "outputs": [
    {
     "data": {
      "text/plain": [
       "array([ 89, 480, 527, 547, 550, 552, 554, 566, 723, 734])"
      ]
     },
     "execution_count": 34,
     "metadata": {},
     "output_type": "execute_result"
    }
   ],
   "source": [
    "msm.select(molecular_system, 'chain_id==\"A\" within 0.3 nm with pbc of chain_id==\"B\"')"
   ]
  },
  {
   "cell_type": "markdown",
   "metadata": {},
   "source": [
    "## Selecting atoms \"bonded to ...\"\n",
    "\n",
    "Atoms bonded to specific atoms can also be selected with `bonded to`:"
   ]
  },
  {
   "cell_type": "code",
   "execution_count": 35,
   "metadata": {
    "tags": [
     "scroll-output"
    ]
   },
   "outputs": [
    {
     "data": {
      "text/plain": [
       "array([   0,    9,   16,   25,   32,   40,   45,   50,   55,   63,   77,\n",
       "         86,   92,  100,  104,  110,  119,  125,  133,  141,  148,  155,\n",
       "        163,  171,  180,  187,  195,  203,  208,  213,  220,  231,  239,\n",
       "        249,  257,  264,  273,  279,  286,  293,  298,  305,  312,  323,\n",
       "        331,  341,  349,  356,  364,  371,  380,  385,  396,  404,  411,\n",
       "        419,  426,  435,  446,  455,  463,  468,  473,  482,  490,  495,\n",
       "        503,  510,  521,  527,  531,  536,  547,  554,  558,  567,  574,\n",
       "        580,  588,  597,  605,  613,  622,  630,  642,  646,  654,  660,\n",
       "        674,  681,  688,  696,  700,  710,  716,  725,  736,  747,  755,\n",
       "        767,  779,  783,  792,  799,  807,  816,  824,  831,  836,  845,\n",
       "        854,  861,  866,  875,  880,  886,  891,  896,  900,  911,  921,\n",
       "        928,  936,  943,  949,  956,  960,  969,  976,  984,  993, 1002,\n",
       "       1013, 1022, 1027, 1031, 1042, 1049, 1054, 1059, 1066, 1073, 1081,\n",
       "       1088, 1097, 1105, 1110, 1115, 1122, 1127, 1136, 1145, 1153, 1159,\n",
       "       1168, 1177, 1182, 1196, 1202, 1213, 1220, 1227, 1235, 1240, 1252,\n",
       "       1261, 1268, 1275, 1289, 1294, 1302, 1306, 1313, 1317, 1326, 1333,\n",
       "       1338, 1345, 1352, 1361, 1370, 1375, 1384, 1393, 1400, 1410, 1419,\n",
       "       1427, 1435, 1446, 1457, 1471, 1478, 1489, 1495, 1504, 1512, 1516,\n",
       "       1523, 1531, 1539, 1544, 1549, 1558, 1566, 1577, 1585, 1593, 1605,\n",
       "       1609, 1613, 1619, 1626, 1633, 1638, 1647, 1655, 1660, 1671, 1678,\n",
       "       1686, 1698, 1707, 1715, 1726, 1734, 1742, 1750, 1754, 1765, 1773,\n",
       "       1780, 1784, 1788, 1793, 1799, 1807, 1816, 1823, 1832, 1843, 1850,\n",
       "       1859, 1867, 1875, 1884, 1889, 1896, 1906, 1912, 1921, 1928, 1937,\n",
       "       1944, 1952, 1957, 1962, 1967, 1975, 1989, 1998, 2004, 2012, 2016,\n",
       "       2022, 2031, 2037, 2045, 2053, 2060, 2067, 2075, 2083, 2092, 2099,\n",
       "       2107, 2115, 2120, 2125, 2132, 2143, 2151, 2161, 2169, 2176, 2185,\n",
       "       2191, 2198, 2205, 2210, 2217, 2224, 2235, 2243, 2253, 2261, 2268,\n",
       "       2276, 2283, 2292, 2297, 2308, 2316, 2323, 2331, 2338, 2347, 2358,\n",
       "       2367, 2375, 2380, 2385, 2394, 2402, 2407, 2415, 2422, 2433, 2439,\n",
       "       2443, 2448, 2459, 2466, 2470, 2479, 2486, 2492, 2500, 2509, 2517,\n",
       "       2525, 2534, 2542, 2554, 2558, 2566, 2572, 2586, 2593, 2600, 2608,\n",
       "       2612, 2622, 2628, 2637, 2648, 2659, 2667, 2679, 2691, 2695, 2704,\n",
       "       2711, 2719, 2728, 2736, 2743, 2748, 2757, 2766, 2773, 2778, 2787,\n",
       "       2792, 2798, 2803, 2808, 2812, 2823, 2833, 2840, 2848, 2855, 2861,\n",
       "       2868, 2872, 2881, 2888, 2896, 2905, 2914, 2925, 2934, 2939, 2943,\n",
       "       2954, 2961, 2966, 2971, 2978, 2985, 2993, 3000, 3009, 3017, 3022,\n",
       "       3027, 3034, 3039, 3048, 3057, 3065, 3071, 3080, 3089, 3094, 3108,\n",
       "       3114, 3125, 3132, 3139, 3147, 3152, 3164, 3173, 3180, 3187, 3201,\n",
       "       3206, 3214, 3218, 3225, 3229, 3238, 3245, 3250, 3257, 3264, 3273,\n",
       "       3282, 3287, 3296, 3305, 3312, 3322, 3331, 3339, 3347, 3358, 3369,\n",
       "       3383, 3390, 3401, 3407, 3416, 3424, 3428, 3435, 3443, 3451, 3456,\n",
       "       3461, 3470, 3478, 3489, 3497, 3505, 3517, 3521, 3525, 3531, 3538,\n",
       "       3545, 3550, 3559, 3567, 3572, 3583, 3590, 3598, 3610, 3619, 3627,\n",
       "       3638, 3646, 3654, 3662, 3666, 3677, 3685, 3692, 3696, 3700, 3705,\n",
       "       3711, 3719, 3728, 3735, 3744, 3755, 3762, 3771, 3779, 3787, 3796,\n",
       "       3801, 3808])"
      ]
     },
     "execution_count": 35,
     "metadata": {},
     "output_type": "execute_result"
    }
   ],
   "source": [
    "msm.select(molecular_system, 'atom_name==\"N\" bonded to atom_type==\"C\"')"
   ]
  },
  {
   "cell_type": "code",
   "execution_count": 36,
   "metadata": {
    "tags": [
     "scroll-output"
    ]
   },
   "outputs": [
    {
     "data": {
      "text/plain": [
       "array([   3,   12,   19,   23,   28,   35,   43,   48,   53,   58,   61,\n",
       "         66,   80,   89,   95,   98,  103,  107,  109,  113,  117,  118,\n",
       "        122,  124,  128,  136,  144,  151,  158,  166,  174,  178,  179,\n",
       "        183,  185,  190,  198,  201,  206,  211,  216,  218,  223,  234,\n",
       "        237,  238,  242,  252,  255,  256,  260,  267,  271,  276,  282,\n",
       "        289,  296,  301,  308,  310,  315,  326,  334,  344,  352,  359,\n",
       "        367,  369,  374,  383,  388,  399,  407,  409,  414,  417,  422,\n",
       "        429,  438,  449,  453,  458,  466,  471,  476,  480,  485,  488,\n",
       "        493,  498,  506,  508,  513,  524,  526,  530,  534,  539,  550,\n",
       "        552,  557,  561,  565,  566,  570,  577,  579,  583,  591,  595,\n",
       "        600,  608,  616,  625,  628,  629,  633,  641,  645,  649,  657,\n",
       "        659,  663,  677,  684,  691,  699,  703,  713,  715,  719,  723,\n",
       "        724,  728,  739,  750,  758,  766,  770,  778,  782,  786,  790,\n",
       "        791,  795,  797,  802,  805,  810,  814,  815,  819,  827,  834,\n",
       "        839,  843,  844,  848,  857,  864,  869,  873,  878,  883,  889,\n",
       "        894,  899,  903,  914,  924,  931,  939,  946,  952,  959,  963,\n",
       "        967,  968,  972,  974,  979,  982,  987,  991,  992,  996, 1000,\n",
       "       1001, 1005, 1016, 1020, 1021, 1025, 1030, 1034, 1045, 1047, 1052,\n",
       "       1057, 1062, 1069, 1076, 1084, 1086, 1091, 1095, 1100, 1108, 1113,\n",
       "       1118, 1125, 1130, 1134, 1139, 1148, 1156, 1158, 1162, 1171, 1175,\n",
       "       1176, 1180, 1185, 1199, 1201, 1205, 1216, 1223, 1230, 1238, 1243,\n",
       "       1251, 1255, 1259, 1260, 1264, 1271, 1278, 1292, 1297, 1305, 1309,\n",
       "       1311, 1316, 1320, 1329, 1336, 1341, 1343, 1348, 1355, 1359, 1364,\n",
       "       1368, 1373, 1378, 1382, 1387, 1391, 1392, 1396, 1403, 1413, 1417,\n",
       "       1418, 1422, 1430, 1438, 1449, 1460, 1474, 1481, 1492, 1494, 1498,\n",
       "       1507, 1515, 1519, 1521, 1526, 1529, 1530, 1534, 1542, 1547, 1552,\n",
       "       1556, 1561, 1569, 1580, 1588, 1596, 1604, 1608, 1612, 1616, 1618,\n",
       "       1622, 1629, 1631, 1636, 1641, 1650, 1653, 1658, 1663, 1674, 1676,\n",
       "       1681, 1689, 1697, 1701, 1705, 1710, 1718, 1729, 1732, 1733, 1737,\n",
       "       1745, 1748, 1753, 1757, 1768, 1776, 1783, 1787, 1791, 1796, 1798,\n",
       "       1802, 1810, 1819, 1826, 1830, 1831, 1835, 1846, 1853, 1857, 1858,\n",
       "       1862, 1870, 1878, 1882, 1883, 1887, 1892, 1894, 1899, 1905])"
      ]
     },
     "execution_count": 36,
     "metadata": {},
     "output_type": "execute_result"
    }
   ],
   "source": [
    "msm.select(molecular_system, '(atom_type==\"O\" and chain_id==\"A\") bonded to (atom_type==\"C\" and chain_id==\"A\")')"
   ]
  },
  {
   "cell_type": "markdown",
   "metadata": {},
   "source": [
    "The string \"not bonded to\" can also be used:"
   ]
  },
  {
   "cell_type": "code",
   "execution_count": 37,
   "metadata": {},
   "outputs": [
    {
     "data": {
      "text/plain": [
       "array([ 363, 1714, 2275, 3626])"
      ]
     },
     "execution_count": 37,
     "metadata": {},
     "output_type": "execute_result"
    }
   ],
   "source": [
    "msm.select(molecular_system, '(all not bonded to atom_type==[\"H\",\"N\",\"C\",\"O\"]) and molecule_type==\"protein\"')"
   ]
  },
  {
   "cell_type": "markdown",
   "metadata": {},
   "source": [
    "And both, `within .. of` and `bonded to`, can be mixed in the same selection sentence:"
   ]
  },
  {
   "cell_type": "code",
   "execution_count": 38,
   "metadata": {},
   "outputs": [
    {
     "data": {
      "text/plain": [
       "array([ 119,  213,  473,  531,  654,  696,  799, 1049])"
      ]
     },
     "execution_count": 38,
     "metadata": {},
     "output_type": "execute_result"
    }
   ],
   "source": [
    "msm.select(molecular_system, '((atom_name==\"N\" and chain_id==\"A\") bonded to atom_type==\"C\") within 3 angstroms of (atom_type==\"O\" and molecule_type==\"water\")')"
   ]
  },
  {
   "cell_type": "markdown",
   "metadata": {},
   "source": [
    "## Other syntaxes supported\n",
    "\n",
    "There is no need for the user to learn the native syntax. Other syntaxes such as the used by MDTraj or NGLView are also supported by MolSysMT:"
   ]
  },
  {
   "cell_type": "code",
   "execution_count": 39,
   "metadata": {},
   "outputs": [
    {
     "data": {
      "text/plain": [
       "array([10, 13, 17, 20, 26, 29])"
      ]
     },
     "execution_count": 39,
     "metadata": {},
     "output_type": "execute_result"
    }
   ],
   "source": [
    "msm.select(molecular_system, selection='(name =~ \"C[A-B]\") and (resid 1 to 3)', syntax='MDTraj')"
   ]
  },
  {
   "cell_type": "markdown",
   "metadata": {},
   "source": [
    "## Translation between different syntaxes\n",
    "\n",
    "MolSysMT is prepared to easily interact with other tools. The main goal of this library is providing with a set of pipes and joins to set up your workflows, keeping simple the integration of other tools. But different tools have different selection syntax. Learning how to use the selection syntax of MDTraj, ParmEd or NGLview is something very useful. Those are tools that we all use frequently in our labs. But it happens that we forget soon the rules of each tool. To keep a unique selection syntax in your projects, MolSysMT includes the input argument `to_syntax` in the method `molsysmt.select()`. Lets illustrate some examples:"
   ]
  },
  {
   "cell_type": "code",
   "execution_count": 40,
   "metadata": {},
   "outputs": [
    {
     "data": {
      "text/plain": [
       "'@25,26,27,28,29,30,31,32,33,34,35,36,37,38,39,40,41,42,43,44'"
      ]
     },
     "execution_count": 40,
     "metadata": {},
     "output_type": "execute_result"
    }
   ],
   "source": [
    "msm.select(molecular_system, selection='group_index==[3,4,5]', to_syntax='NGLView')"
   ]
  },
  {
   "cell_type": "code",
   "execution_count": 41,
   "metadata": {},
   "outputs": [
    {
     "data": {
      "text/plain": [
       "'index 25 26 27 28 29 30 31 32 33 34 35 36 37 38 39 40 41 42 43 44'"
      ]
     },
     "execution_count": 41,
     "metadata": {},
     "output_type": "execute_result"
    }
   ],
   "source": [
    "msm.select(molecular_system, selection='group_index==[3,4,5]', to_syntax='MDTraj')"
   ]
  },
  {
   "cell_type": "markdown",
   "metadata": {},
   "source": [
    "The output string can be obtained, if the selection is done over other elementted elements, as a sequence of groups or chains:"
   ]
  },
  {
   "cell_type": "code",
   "execution_count": 42,
   "metadata": {},
   "outputs": [
    {
     "data": {
      "text/plain": [
       "'7:A 8:A 9:A'"
      ]
     },
     "execution_count": 42,
     "metadata": {},
     "output_type": "execute_result"
    }
   ],
   "source": [
    "msm.select(molecular_system, element='group', selection='group_index==[3,4,5]', to_syntax='NGLView')"
   ]
  },
  {
   "cell_type": "code",
   "execution_count": 43,
   "metadata": {},
   "outputs": [
    {
     "data": {
      "text/plain": [
       "'resid 3 4 5'"
      ]
     },
     "execution_count": 43,
     "metadata": {},
     "output_type": "execute_result"
    }
   ],
   "source": [
    "msm.select(molecular_system, element='group', selection='group_index==[3,4,5]', to_syntax='MDTraj')"
   ]
  },
  {
   "cell_type": "markdown",
   "metadata": {},
   "source": [
    "```{admonition} See also\n",
    ":class: attention\n",
    "{func}`molsysmt.basic.select`, {func}`molsysmt.basic.convert`, {func}`molsysmt.basic.info`\n",
    "```"
   ]
  }
 ],
 "metadata": {
  "kernelspec": {
   "display_name": "Python 3 (ipykernel)",
   "language": "python",
   "name": "python3"
  },
  "language_info": {
   "codemirror_mode": {
    "name": "ipython",
    "version": 3
   },
   "file_extension": ".py",
   "mimetype": "text/x-python",
   "name": "python",
   "nbconvert_exporter": "python",
   "pygments_lexer": "ipython3",
   "version": "3.9.13"
  }
 },
 "nbformat": 4,
 "nbformat_minor": 4
}
