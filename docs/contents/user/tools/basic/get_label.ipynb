{
 "cells": [
  {
   "cell_type": "code",
   "execution_count": 1,
   "metadata": {
    "tags": [
     "remove-input"
    ]
   },
   "outputs": [],
   "source": [
    "# This cell is removed with the tag: \"remove-input\"\n",
    "# As such, it will not be shown in documentation\n",
    "\n",
    "#import warnings\n",
    "#warnings.filterwarnings('ignore')"
   ]
  },
  {
   "cell_type": "markdown",
   "metadata": {},
   "source": [
    "(Tutorial_Get_label)=\n",
    "# Get label\n",
    "\n",
    "*Getting label strings for elements*\n",
    "\n",
    "MolSysMT includes in its tools module \"basic\" a function to get label strings of elements. They can be used to be included in tables, plots and other reports as text identifiers.\n",
    "\n",
    ":::{hint}\n",
    "Visit the section [User guide > Introduction > Molecular System > Element](../../intro/molecular_systems/element.md) in case you are not familiar with the concept of \"element\" in MolSysMT.\n",
    ":::\n",
    "\n",
    "As it will be shown in the following section, the format of the label string and the attributes included are defined by the user.\n",
    "\n",
    ":::{hint}\n",
    "Visit the section [User guide > Introduction > Molecular System > Attribute](../../intro/molecular_systems/attribute.ipynb) in case you are not familiar with the concept of \"element\" in MolSysMT.\n",
    ":::\n",
    "\n",
    "## How this function works\n",
    "\n",
    ":::{admonition} API documentation\n",
    "Follow this link for a detailed description of the input arguments, raised errors, and returned objects of this function:{func}`molsysmt.basic.get_label`.\n",
    ":::\n",
    "\n",
    "The function {func}`molsysmt.basic.get_label` allows you to get label strings of specific elements of a molecular system with the format you choose. Let's illustrate how this function works with some few examples:"
   ]
  },
  {
   "cell_type": "code",
   "execution_count": 2,
   "metadata": {},
   "outputs": [
    {
     "data": {
      "application/vnd.jupyter.widget-view+json": {
       "model_id": "fddcab07452a472d8f8c1d1f723cf4c5",
       "version_major": 2,
       "version_minor": 0
      },
      "text/plain": []
     },
     "metadata": {},
     "output_type": "display_data"
    }
   ],
   "source": [
    "import molsysmt as msm"
   ]
  },
  {
   "cell_type": "code",
   "execution_count": 3,
   "metadata": {},
   "outputs": [],
   "source": [
    "molecular_system = msm.convert('1BRS')"
   ]
  },
  {
   "cell_type": "markdown",
   "metadata": {},
   "source": [
    "Let's for instance get a label for atoms with atom index in [0,1,2] with the format \"atom_name-atom_id@atom_index\":"
   ]
  },
  {
   "cell_type": "code",
   "execution_count": 4,
   "metadata": {},
   "outputs": [
    {
     "data": {
      "text/plain": [
       "['N-1@0', 'CA-2@1', 'C-3@2']"
      ]
     },
     "execution_count": 4,
     "metadata": {},
     "output_type": "execute_result"
    }
   ],
   "source": [
    "msm.get_label(molecular_system, element='atom', selection=[0,1,2], string='{atom_name}-{atom_id}@{atom_index}')"
   ]
  },
  {
   "cell_type": "markdown",
   "metadata": {},
   "source": [
    "```{admonition} Tip\n",
    ":class: tip\n",
    "All methods defined in the {ref}`molsysmt.basic <API basic>` module can be invoked also from the main level of the library. Hence, {func}`molsysmt.get_label` is the same method as {func}`molsysmt.basic.get_label`.\n",
    "```"
   ]
  },
  {
   "cell_type": "markdown",
   "metadata": {},
   "source": [
    "As you can see in the previous cell, the format is introduced with the value of the ``string`` input argument. This string value must take the same form of a f-string with the elements attributes as local variables."
   ]
  },
  {
   "cell_type": "markdown",
   "metadata": {},
   "source": [
    "Let's see another example involving the same atoms."
   ]
  },
  {
   "cell_type": "code",
   "execution_count": 6,
   "metadata": {},
   "outputs": [
    {
     "data": {
      "text/plain": [
       "['N_1', 'CA_2', 'C_3']"
      ]
     },
     "execution_count": 6,
     "metadata": {},
     "output_type": "execute_result"
    }
   ],
   "source": [
    "msm.get_label(molecular_system, element='atom', selection=[0,1,2], string='{name}_{id}')"
   ]
  },
  {
   "cell_type": "markdown",
   "metadata": {},
   "source": [
    "The attribute names \"name\", \"id\" or \"index\" are intepreted as the corresponding attributes for the chosen elements. For instance, \"name\" when ``element='atom'`` is automatically replaced by \"atom_name\" as it was shown in the last cell.\n",
    "\n",
    "Now, let's include some other attributes in the label strings:"
   ]
  },
  {
   "cell_type": "code",
   "execution_count": 5,
   "metadata": {},
   "outputs": [
    {
     "data": {
      "text/plain": [
       "['N_1-VAL_3', 'CA_2-VAL_3', 'C_3-VAL_3']"
      ]
     },
     "execution_count": 5,
     "metadata": {},
     "output_type": "execute_result"
    }
   ],
   "source": [
    "msm.get_label(molecular_system, element='atom', selection=[0,1,2], string='{atom_name}_{atom_id}-{group_name}_{group_id}')"
   ]
  },
  {
   "cell_type": "markdown",
   "metadata": {},
   "source": [
    "The elements to be labeled can be chosen with the input argument ``element`` and its selection with the argument ``selection``:"
   ]
  },
  {
   "cell_type": "code",
   "execution_count": 7,
   "metadata": {},
   "outputs": [
    {
     "data": {
      "text/plain": [
       "['TYR13/Barnase', 'THR16/Barnase', 'TYR17/Barnase']"
      ]
     },
     "execution_count": 7,
     "metadata": {},
     "output_type": "execute_result"
    }
   ],
   "source": [
    "msm.get_label(molecular_system, element='group', selection='group_name in [\"THR\", \"TYR\"] within 6.0 angstroms of group_index==10',\n",
    "              string='{group_name}{group_id}/{entity_name}')"
   ]
  },
  {
   "cell_type": "markdown",
   "metadata": {},
   "source": [
    "Strings not so short can also be produced. Imagine you need to report in a table some observables for all not water components. And the automatization of brief descriptions of each component needs to be implemented. The function {func}`molsysmt.basic.get_label` can help you with that:"
   ]
  },
  {
   "cell_type": "code",
   "execution_count": 8,
   "metadata": {},
   "outputs": [
    {
     "data": {
      "text/plain": [
       "['Component 0 in A of Barnase [864 atoms & 1770 bonds]',\n",
       " 'Component 1 in B of Barnase [878 atoms & 1798 bonds]',\n",
       " 'Component 2 in C of Barnase [839 atoms & 1720 bonds]',\n",
       " 'Component 3 in D of Barstar [517 atoms & 1058 bonds]',\n",
       " 'Component 4 in D of Barstar [176 atoms & 352 bonds]',\n",
       " 'Component 5 in E of Barstar [488 atoms & 1000 bonds]',\n",
       " 'Component 6 in E of Barstar [177 atoms & 354 bonds]',\n",
       " 'Component 7 in F of Barstar [699 atoms & 1424 bonds]']"
      ]
     },
     "execution_count": 8,
     "metadata": {},
     "output_type": "execute_result"
    }
   ],
   "source": [
    "msm.get_label(molecular_system, element='component', selection='molecule_type!=\"water\"',\n",
    "              string='Component {component_index} in {chain_id} of {entity_name} [{n_atoms} atoms & {n_bonds} bonds]')"
   ]
  },
  {
   "cell_type": "markdown",
   "metadata": {},
   "source": [
    ":::{seealso}\n",
    "[User guide > Introduction > Molecular System > Elements](../../intro/molecular_systems/elements.md):       \n",
    "[User guide > Introduction > Molecular System > Attributes](../../intro/molecular_systems/attributes.ipynb):       \n",
    "[User guide > Tools > Basic > Get](get.ipynb):     \n",
    ":::"
   ]
  }
 ],
 "metadata": {
  "kernelspec": {
   "display_name": "Python 3 (ipykernel)",
   "language": "python",
   "name": "python3"
  },
  "language_info": {
   "codemirror_mode": {
    "name": "ipython",
    "version": 3
   },
   "file_extension": ".py",
   "mimetype": "text/x-python",
   "name": "python",
   "nbconvert_exporter": "python",
   "pygments_lexer": "ipython3",
   "version": "3.10.11"
  }
 },
 "nbformat": 4,
 "nbformat_minor": 4
}
