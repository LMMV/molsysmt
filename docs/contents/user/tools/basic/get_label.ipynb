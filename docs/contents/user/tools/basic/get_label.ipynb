{
 "cells": [
  {
   "cell_type": "code",
   "execution_count": 1,
   "metadata": {
    "tags": [
     "remove-input"
    ]
   },
   "outputs": [],
   "source": [
    "# This cell is removed with the tag: \"remove-input\"\n",
    "# As such, it will not be shown in documentation\n",
    "\n",
    "#import warnings\n",
    "#warnings.filterwarnings('ignore')"
   ]
  },
  {
   "cell_type": "markdown",
   "metadata": {},
   "source": [
    "(Tutorial_Get_label)=\n",
    "# Get label\n",
    "\n",
    "*Generating label strings for molecular system elements*\n",
    "\n",
    "The `basic` module in MolSysMT includes a function to generate custom label strings for elements in a molecular system. These labels are useful for tables, plots, or any text-based reporting.\n",
    "\n",
    "\n",
    ":::{hint}\n",
    "Visit the section [User guide > Introduction > Molecular System > Element](../../intro/molecular_systems/element.md) in case you are not familiar with the concept of \"element\" in MolSysMT.\n",
    ":::\n",
    "\n",
    "As it will be shown in the following section, the format of the label string and the attributes included are defined by the user.\n",
    "\n",
    ":::{hint}\n",
    "Visit the section [User guide > Introduction > Molecular System > Attribute](../../intro/molecular_systems/attribute.ipynb) in case you are not familiar with the concept of \"element\" in MolSysMT.\n",
    ":::\n",
    "\n",
    "## How this function works\n",
    "\n",
    ":::{admonition} API documentation\n",
    "Follow this link for a detailed description of the input arguments, raised errors, and returned objects of this function:{func}`molsysmt.basic.get_label`.\n",
    ":::\n",
    "\n",
    "The function {func}`molsysmt.basic.get_label` allows you to get label strings of specific elements of a molecular system with the format you choose. Let's illustrate how this function works with some few examples:"
   ]
  },
  {
   "cell_type": "code",
   "execution_count": 2,
   "metadata": {},
   "outputs": [
    {
     "data": {
      "application/vnd.jupyter.widget-view+json": {
       "model_id": "bf8ea5e7b9c4417e94a4d9681eb0582c",
       "version_major": 2,
       "version_minor": 0
      },
      "text/plain": []
     },
     "metadata": {},
     "output_type": "display_data"
    }
   ],
   "source": [
    "import molsysmt as msm"
   ]
  },
  {
   "cell_type": "code",
   "execution_count": 3,
   "metadata": {},
   "outputs": [],
   "source": [
    "molsys = msm.convert('1BRS')"
   ]
  },
  {
   "cell_type": "markdown",
   "metadata": {},
   "source": [
    "Let's for instance get a label for atoms with atom index in [0,1,2] with the format \"atom_name-atom_id@atom_index\":"
   ]
  },
  {
   "cell_type": "code",
   "execution_count": 4,
   "metadata": {},
   "outputs": [
    {
     "data": {
      "text/plain": [
       "['N-1@0', 'CA-2@1', 'C-3@2']"
      ]
     },
     "execution_count": 4,
     "metadata": {},
     "output_type": "execute_result"
    }
   ],
   "source": [
    "msm.get_label(molsys, element='atom', selection=[0,1,2], string='{atom_name}-{atom_id}@{atom_index}')"
   ]
  },
  {
   "cell_type": "markdown",
   "metadata": {},
   "source": [
    "```{admonition} Tip\n",
    ":class: tip\n",
    "All methods defined in the {ref}`molsysmt.basic <API basic>` module can be invoked also from the main level of the library. Hence, {func}`molsysmt.get_label` is the same method as {func}`molsysmt.basic.get_label`.\n",
    "```"
   ]
  },
  {
   "cell_type": "markdown",
   "metadata": {},
   "source": [
    "As you can see in the previous cell, the format is introduced with the value of the ``string`` input argument. This string value must take the same form of a f-string with the elements attributes as local variables."
   ]
  },
  {
   "cell_type": "markdown",
   "metadata": {},
   "source": [
    "Here we use shorthand attribute names like `name` and `id`, which are automatically interpreted as `atom_name` and `atom_id` since `element='atom'`."
   ]
  },
  {
   "cell_type": "code",
   "execution_count": 5,
   "metadata": {},
   "outputs": [
    {
     "data": {
      "text/plain": [
       "['N_1', 'CA_2', 'C_3']"
      ]
     },
     "execution_count": 5,
     "metadata": {},
     "output_type": "execute_result"
    }
   ],
   "source": [
    "msm.get_label(molsys, element='atom', selection=[0,1,2], string='{name}_{id}')"
   ]
  },
  {
   "cell_type": "markdown",
   "metadata": {},
   "source": [
    "The attribute names \"name\", \"id\" or \"index\" are intepreted as the corresponding attributes for the chosen elements. For instance, \"name\" when ``element='atom'`` is automatically replaced by \"atom_name\" as it was shown in the last cell.\n",
    "\n",
    "Now, let's include some other attributes in the label strings:"
   ]
  },
  {
   "cell_type": "code",
   "execution_count": 6,
   "metadata": {},
   "outputs": [
    {
     "data": {
      "text/plain": [
       "['N_1-VAL_3', 'CA_2-VAL_3', 'C_3-VAL_3']"
      ]
     },
     "execution_count": 6,
     "metadata": {},
     "output_type": "execute_result"
    }
   ],
   "source": [
    "msm.get_label(molsys, element='atom', selection=[0,1,2], string='{atom_name}_{atom_id}-{group_name}_{group_id}')"
   ]
  },
  {
   "cell_type": "markdown",
   "metadata": {},
   "source": [
    "The elements to be labeled can be chosen with the input argument ``element`` and its selection with the argument ``selection``:"
   ]
  },
  {
   "cell_type": "code",
   "execution_count": 7,
   "metadata": {},
   "outputs": [
    {
     "data": {
      "text/plain": [
       "['TYR13/BARNASE', 'THR16/BARNASE', 'TYR17/BARNASE']"
      ]
     },
     "execution_count": 7,
     "metadata": {},
     "output_type": "execute_result"
    }
   ],
   "source": [
    "msm.get_label(molsys, element='group', selection='group_name in [\"THR\", \"TYR\"] within 6.0 angstroms of group_index==10',\n",
    "              string='{group_name}{group_id}/{entity_name}')"
   ]
  },
  {
   "cell_type": "markdown",
   "metadata": {},
   "source": [
    "More descriptive or longer strings can also be generated. For instance, if you need to include detailed labels for each non-water component in a table, {func}`molsysmt.basic.get_label` allows you to automate this:"
   ]
  },
  {
   "cell_type": "code",
   "execution_count": 8,
   "metadata": {},
   "outputs": [
    {
     "data": {
      "text/plain": [
       "['Component 0 in 0 of BARNASE [864 atoms & 885 bonds]',\n",
       " 'Component 1 in 1 of BARNASE [878 atoms & 899 bonds]',\n",
       " 'Component 2 in 2 of BARNASE [839 atoms & 860 bonds]',\n",
       " 'Component 3 in 3 of BARSTAR [517 atoms & 529 bonds]',\n",
       " 'Component 4 in 3 of BARSTAR [176 atoms & 176 bonds]',\n",
       " 'Component 5 in 4 of BARSTAR [488 atoms & 500 bonds]',\n",
       " 'Component 6 in 4 of BARSTAR [177 atoms & 177 bonds]',\n",
       " 'Component 7 in 5 of BARSTAR [699 atoms & 712 bonds]']"
      ]
     },
     "execution_count": 8,
     "metadata": {},
     "output_type": "execute_result"
    }
   ],
   "source": [
    "msm.get_label(molsys, element='component', selection='molecule_type!=\"water\"',\n",
    "              string='Component {component_index} in {chain_id} of {entity_name} [{n_atoms} atoms & {n_bonds} bonds]')"
   ]
  },
  {
   "cell_type": "markdown",
   "metadata": {},
   "source": [
    ":::{seealso}\n",
    "[User guide > Introduction > Molecular System > Elements](../../intro/molecular_systems/elements.md):\n",
    "Describe the hierarchy of elements in a molecular system, such as atoms, groups, molecules, chains, and entities.\n",
    "\n",
    "[User guide > Introduction > Molecular System > Attributes](../../intro/molecular_systems/attributes.ipynb):       \n",
    "List and define the standard attributes available for molecular systems in MolSysMT.\n",
    "\n",
    "[User guide > Tools > Basic > Get](get.ipynb):     \n",
    "Retrieve values of specific attributes from a molecular system.\n",
    ":::"
   ]
  }
 ],
 "metadata": {
  "kernelspec": {
   "display_name": "Python 3 (ipykernel)",
   "language": "python",
   "name": "python3"
  },
  "language_info": {
   "codemirror_mode": {
    "name": "ipython",
    "version": 3
   },
   "file_extension": ".py",
   "mimetype": "text/x-python",
   "name": "python",
   "nbconvert_exporter": "python",
   "pygments_lexer": "ipython3",
   "version": "3.12.9"
  },
  "widgets": {
   "application/vnd.jupyter.widget-state+json": {
    "state": {
     "377ca2aee90a409987f848ba580e2237": {
      "model_module": "@jupyter-widgets/base",
      "model_module_version": "2.0.0",
      "model_name": "LayoutModel",
      "state": {
       "_model_module": "@jupyter-widgets/base",
       "_model_module_version": "2.0.0",
       "_model_name": "LayoutModel",
       "_view_count": null,
       "_view_module": "@jupyter-widgets/base",
       "_view_module_version": "2.0.0",
       "_view_name": "LayoutView",
       "align_content": null,
       "align_items": null,
       "align_self": null,
       "border_bottom": null,
       "border_left": null,
       "border_right": null,
       "border_top": null,
       "bottom": null,
       "display": null,
       "flex": null,
       "flex_flow": null,
       "grid_area": null,
       "grid_auto_columns": null,
       "grid_auto_flow": null,
       "grid_auto_rows": null,
       "grid_column": null,
       "grid_gap": null,
       "grid_row": null,
       "grid_template_areas": null,
       "grid_template_columns": null,
       "grid_template_rows": null,
       "height": null,
       "justify_content": null,
       "justify_items": null,
       "left": null,
       "margin": null,
       "max_height": null,
       "max_width": null,
       "min_height": null,
       "min_width": null,
       "object_fit": null,
       "object_position": null,
       "order": null,
       "overflow": null,
       "padding": null,
       "right": null,
       "top": null,
       "visibility": null,
       "width": null
      }
     },
     "701fd38bdc5a495e9bbcb42ec8cccf33": {
      "model_module": "nglview-js-widgets",
      "model_module_version": "3.1.4",
      "model_name": "ColormakerRegistryModel",
      "state": {
       "_dom_classes": [],
       "_model_module": "nglview-js-widgets",
       "_model_module_version": "3.1.4",
       "_model_name": "ColormakerRegistryModel",
       "_msg_ar": [],
       "_msg_q": [],
       "_ready": false,
       "_view_count": null,
       "_view_module": "nglview-js-widgets",
       "_view_module_version": "3.1.4",
       "_view_name": "ColormakerRegistryView",
       "layout": "IPY_MODEL_377ca2aee90a409987f848ba580e2237",
       "tabbable": null,
       "tooltip": null
      }
     }
    },
    "version_major": 2,
    "version_minor": 0
   }
  }
 },
 "nbformat": 4,
 "nbformat_minor": 4
}
