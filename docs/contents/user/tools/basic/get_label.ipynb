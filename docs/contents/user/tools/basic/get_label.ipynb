{
 "cells": [
  {
   "cell_type": "code",
   "execution_count": 1,
   "metadata": {
    "tags": [
     "remove-input"
    ]
   },
   "outputs": [],
   "source": [
    "# This cell is removed with the tag: \"remove-input\"\n",
    "# As such, it will not be shown in documentation\n",
    "\n",
    "#import warnings\n",
    "#warnings.filterwarnings('ignore')"
   ]
  },
  {
   "cell_type": "markdown",
   "metadata": {},
   "source": [
    "(Tutorial_Get_label)=\n",
    "# Get label\n",
    "\n",
    "*Getting an elements string label*\n",
    "\n",
    "There is in MolSysMT a function to print out a brief overview of a molecular system and its elements: {func}`molsysmt.basic.info`. This function can work at different levels depending on the elements choosen by the user: `atom`, `group`, `component`, `molecule`, `chain`, `entity`, or `system`. And the output of this method can be a `pandas.DataFrame` or a `string`.\n",
    "\n",
    "\n",
    "## How this function works\n",
    "\n",
    ":::{admonition} API documentation\n",
    "Follow this link for a detailed description of the input arguments, raised errors, and returned objects of this function:{func}`molsysmt.basic.has_attribute`.\n",
    ":::\n",
    "\n",
    "Let's load a molecular system to illustrate with some simple examples how it works:"
   ]
  },
  {
   "cell_type": "code",
   "execution_count": 2,
   "metadata": {},
   "outputs": [
    {
     "data": {
      "application/vnd.jupyter.widget-view+json": {
       "model_id": "67716a2d9046479d8cd2b1e981adb9a9",
       "version_major": 2,
       "version_minor": 0
      },
      "text/plain": []
     },
     "metadata": {},
     "output_type": "display_data"
    }
   ],
   "source": [
    "import molsysmt as msm"
   ]
  },
  {
   "cell_type": "code",
   "execution_count": 3,
   "metadata": {},
   "outputs": [],
   "source": [
    "molecular_system = msm.convert('181L')"
   ]
  },
  {
   "cell_type": "markdown",
   "metadata": {},
   "source": [
    "By default, {func}`molsysmt.basic.info` supplies a summary of the system as a Pandas dataframe:"
   ]
  },
  {
   "cell_type": "code",
   "execution_count": 7,
   "metadata": {
    "tags": [
     "scroll-output"
    ]
   },
   "outputs": [
    {
     "data": {
      "text/html": [
       "<style type=\"text/css\">\n",
       "</style>\n",
       "<table id=\"T_32398\">\n",
       "  <thead>\n",
       "    <tr>\n",
       "      <th id=\"T_32398_level0_col0\" class=\"col_heading level0 col0\" >form</th>\n",
       "      <th id=\"T_32398_level0_col1\" class=\"col_heading level0 col1\" >n_atoms</th>\n",
       "      <th id=\"T_32398_level0_col2\" class=\"col_heading level0 col2\" >n_groups</th>\n",
       "      <th id=\"T_32398_level0_col3\" class=\"col_heading level0 col3\" >n_components</th>\n",
       "      <th id=\"T_32398_level0_col4\" class=\"col_heading level0 col4\" >n_chains</th>\n",
       "      <th id=\"T_32398_level0_col5\" class=\"col_heading level0 col5\" >n_molecules</th>\n",
       "      <th id=\"T_32398_level0_col6\" class=\"col_heading level0 col6\" >n_entities</th>\n",
       "      <th id=\"T_32398_level0_col7\" class=\"col_heading level0 col7\" >n_waters</th>\n",
       "      <th id=\"T_32398_level0_col8\" class=\"col_heading level0 col8\" >n_ions</th>\n",
       "      <th id=\"T_32398_level0_col9\" class=\"col_heading level0 col9\" >n_small_molecules</th>\n",
       "      <th id=\"T_32398_level0_col10\" class=\"col_heading level0 col10\" >n_proteins</th>\n",
       "      <th id=\"T_32398_level0_col11\" class=\"col_heading level0 col11\" >n_structures</th>\n",
       "    </tr>\n",
       "  </thead>\n",
       "  <tbody>\n",
       "    <tr>\n",
       "      <td id=\"T_32398_row0_col0\" class=\"data row0 col0\" >molsysmt.MolSys</td>\n",
       "      <td id=\"T_32398_row0_col1\" class=\"data row0 col1\" >1441</td>\n",
       "      <td id=\"T_32398_row0_col2\" class=\"data row0 col2\" >302</td>\n",
       "      <td id=\"T_32398_row0_col3\" class=\"data row0 col3\" >141</td>\n",
       "      <td id=\"T_32398_row0_col4\" class=\"data row0 col4\" >6</td>\n",
       "      <td id=\"T_32398_row0_col5\" class=\"data row0 col5\" >141</td>\n",
       "      <td id=\"T_32398_row0_col6\" class=\"data row0 col6\" >4</td>\n",
       "      <td id=\"T_32398_row0_col7\" class=\"data row0 col7\" >136</td>\n",
       "      <td id=\"T_32398_row0_col8\" class=\"data row0 col8\" >2</td>\n",
       "      <td id=\"T_32398_row0_col9\" class=\"data row0 col9\" >2</td>\n",
       "      <td id=\"T_32398_row0_col10\" class=\"data row0 col10\" >1</td>\n",
       "      <td id=\"T_32398_row0_col11\" class=\"data row0 col11\" >1</td>\n",
       "    </tr>\n",
       "  </tbody>\n",
       "</table>\n"
      ],
      "text/plain": [
       "<pandas.io.formats.style.Styler at 0x7f780d9fb730>"
      ]
     },
     "execution_count": 7,
     "metadata": {},
     "output_type": "execute_result"
    }
   ],
   "source": [
    "msm.info(molecular_system)"
   ]
  },
  {
   "cell_type": "markdown",
   "metadata": {},
   "source": [
    "```{admonition} Tip\n",
    ":class: tip\n",
    "All methods defined in the {ref}`molsysmt.basic <API basic>` module can be invoked also from the main level of the library. Hence, {func}`molsysmt.info` is the same method as {func}`molsysmt.basic.info`.\n",
    "```"
   ]
  },
  {
   "cell_type": "markdown",
   "metadata": {},
   "source": [
    "But summary information on other elements such as atoms, groups, components, molecules, chains or entities can be obtained:"
   ]
  },
  {
   "cell_type": "code",
   "execution_count": 9,
   "metadata": {
    "scrolled": true
   },
   "outputs": [
    {
     "data": {
      "text/html": [
       "<style type=\"text/css\">\n",
       "</style>\n",
       "<table id=\"T_4381f\">\n",
       "  <thead>\n",
       "    <tr>\n",
       "      <th id=\"T_4381f_level0_col0\" class=\"col_heading level0 col0\" >index</th>\n",
       "      <th id=\"T_4381f_level0_col1\" class=\"col_heading level0 col1\" >id</th>\n",
       "      <th id=\"T_4381f_level0_col2\" class=\"col_heading level0 col2\" >name</th>\n",
       "      <th id=\"T_4381f_level0_col3\" class=\"col_heading level0 col3\" >type</th>\n",
       "      <th id=\"T_4381f_level0_col4\" class=\"col_heading level0 col4\" >group index</th>\n",
       "      <th id=\"T_4381f_level0_col5\" class=\"col_heading level0 col5\" >group id</th>\n",
       "      <th id=\"T_4381f_level0_col6\" class=\"col_heading level0 col6\" >group name</th>\n",
       "      <th id=\"T_4381f_level0_col7\" class=\"col_heading level0 col7\" >group type</th>\n",
       "      <th id=\"T_4381f_level0_col8\" class=\"col_heading level0 col8\" >component index</th>\n",
       "      <th id=\"T_4381f_level0_col9\" class=\"col_heading level0 col9\" >chain index</th>\n",
       "      <th id=\"T_4381f_level0_col10\" class=\"col_heading level0 col10\" >molecule index</th>\n",
       "      <th id=\"T_4381f_level0_col11\" class=\"col_heading level0 col11\" >molecule type</th>\n",
       "      <th id=\"T_4381f_level0_col12\" class=\"col_heading level0 col12\" >entity index</th>\n",
       "      <th id=\"T_4381f_level0_col13\" class=\"col_heading level0 col13\" >entity name</th>\n",
       "    </tr>\n",
       "  </thead>\n",
       "  <tbody>\n",
       "    <tr>\n",
       "      <td id=\"T_4381f_row0_col0\" class=\"data row0 col0\" >1289</td>\n",
       "      <td id=\"T_4381f_row0_col1\" class=\"data row0 col1\" >1290</td>\n",
       "      <td id=\"T_4381f_row0_col2\" class=\"data row0 col2\" >CL</td>\n",
       "      <td id=\"T_4381f_row0_col3\" class=\"data row0 col3\" >Cl</td>\n",
       "      <td id=\"T_4381f_row0_col4\" class=\"data row0 col4\" >162</td>\n",
       "      <td id=\"T_4381f_row0_col5\" class=\"data row0 col5\" >173</td>\n",
       "      <td id=\"T_4381f_row0_col6\" class=\"data row0 col6\" >CL</td>\n",
       "      <td id=\"T_4381f_row0_col7\" class=\"data row0 col7\" >ion</td>\n",
       "      <td id=\"T_4381f_row0_col8\" class=\"data row0 col8\" >1</td>\n",
       "      <td id=\"T_4381f_row0_col9\" class=\"data row0 col9\" >1</td>\n",
       "      <td id=\"T_4381f_row0_col10\" class=\"data row0 col10\" >1</td>\n",
       "      <td id=\"T_4381f_row0_col11\" class=\"data row0 col11\" >ion</td>\n",
       "      <td id=\"T_4381f_row0_col12\" class=\"data row0 col12\" >0</td>\n",
       "      <td id=\"T_4381f_row0_col13\" class=\"data row0 col13\" >Chloride ion</td>\n",
       "    </tr>\n",
       "    <tr>\n",
       "      <td id=\"T_4381f_row1_col0\" class=\"data row1 col0\" >1290</td>\n",
       "      <td id=\"T_4381f_row1_col1\" class=\"data row1 col1\" >1291</td>\n",
       "      <td id=\"T_4381f_row1_col2\" class=\"data row1 col2\" >CL</td>\n",
       "      <td id=\"T_4381f_row1_col3\" class=\"data row1 col3\" >Cl</td>\n",
       "      <td id=\"T_4381f_row1_col4\" class=\"data row1 col4\" >163</td>\n",
       "      <td id=\"T_4381f_row1_col5\" class=\"data row1 col5\" >178</td>\n",
       "      <td id=\"T_4381f_row1_col6\" class=\"data row1 col6\" >CL</td>\n",
       "      <td id=\"T_4381f_row1_col7\" class=\"data row1 col7\" >ion</td>\n",
       "      <td id=\"T_4381f_row1_col8\" class=\"data row1 col8\" >2</td>\n",
       "      <td id=\"T_4381f_row1_col9\" class=\"data row1 col9\" >2</td>\n",
       "      <td id=\"T_4381f_row1_col10\" class=\"data row1 col10\" >2</td>\n",
       "      <td id=\"T_4381f_row1_col11\" class=\"data row1 col11\" >ion</td>\n",
       "      <td id=\"T_4381f_row1_col12\" class=\"data row1 col12\" >0</td>\n",
       "      <td id=\"T_4381f_row1_col13\" class=\"data row1 col13\" >Chloride ion</td>\n",
       "    </tr>\n",
       "  </tbody>\n",
       "</table>\n"
      ],
      "text/plain": [
       "<pandas.io.formats.style.Styler at 0x7f780d8d0d90>"
      ]
     },
     "execution_count": 9,
     "metadata": {},
     "output_type": "execute_result"
    }
   ],
   "source": [
    "msm.info(molecular_system, element='atom', selection='molecule_type==\"ion\"')"
   ]
  },
  {
   "cell_type": "code",
   "execution_count": 10,
   "metadata": {},
   "outputs": [
    {
     "data": {
      "text/html": [
       "<style type=\"text/css\">\n",
       "</style>\n",
       "<table id=\"T_200f1\">\n",
       "  <thead>\n",
       "    <tr>\n",
       "      <th id=\"T_200f1_level0_col0\" class=\"col_heading level0 col0\" >index</th>\n",
       "      <th id=\"T_200f1_level0_col1\" class=\"col_heading level0 col1\" >id</th>\n",
       "      <th id=\"T_200f1_level0_col2\" class=\"col_heading level0 col2\" >name</th>\n",
       "      <th id=\"T_200f1_level0_col3\" class=\"col_heading level0 col3\" >type</th>\n",
       "      <th id=\"T_200f1_level0_col4\" class=\"col_heading level0 col4\" >n atoms</th>\n",
       "      <th id=\"T_200f1_level0_col5\" class=\"col_heading level0 col5\" >component index</th>\n",
       "      <th id=\"T_200f1_level0_col6\" class=\"col_heading level0 col6\" >chain index</th>\n",
       "      <th id=\"T_200f1_level0_col7\" class=\"col_heading level0 col7\" >molecule index</th>\n",
       "      <th id=\"T_200f1_level0_col8\" class=\"col_heading level0 col8\" >molecule type</th>\n",
       "      <th id=\"T_200f1_level0_col9\" class=\"col_heading level0 col9\" >entity index</th>\n",
       "      <th id=\"T_200f1_level0_col10\" class=\"col_heading level0 col10\" >entity name</th>\n",
       "    </tr>\n",
       "  </thead>\n",
       "  <tbody>\n",
       "    <tr>\n",
       "      <td id=\"T_200f1_row0_col0\" class=\"data row0 col0\" >9</td>\n",
       "      <td id=\"T_200f1_row0_col1\" class=\"data row0 col1\" >10</td>\n",
       "      <td id=\"T_200f1_row0_col2\" class=\"data row0 col2\" >ASP</td>\n",
       "      <td id=\"T_200f1_row0_col3\" class=\"data row0 col3\" >aminoacid</td>\n",
       "      <td id=\"T_200f1_row0_col4\" class=\"data row0 col4\" >8</td>\n",
       "      <td id=\"T_200f1_row0_col5\" class=\"data row0 col5\" >0</td>\n",
       "      <td id=\"T_200f1_row0_col6\" class=\"data row0 col6\" >0</td>\n",
       "      <td id=\"T_200f1_row0_col7\" class=\"data row0 col7\" >0</td>\n",
       "      <td id=\"T_200f1_row0_col8\" class=\"data row0 col8\" >protein</td>\n",
       "      <td id=\"T_200f1_row0_col9\" class=\"data row0 col9\" >0</td>\n",
       "      <td id=\"T_200f1_row0_col10\" class=\"data row0 col10\" >T4 lysozyme</td>\n",
       "    </tr>\n",
       "    <tr>\n",
       "      <td id=\"T_200f1_row1_col0\" class=\"data row1 col0\" >10</td>\n",
       "      <td id=\"T_200f1_row1_col1\" class=\"data row1 col1\" >11</td>\n",
       "      <td id=\"T_200f1_row1_col2\" class=\"data row1 col2\" >GLU</td>\n",
       "      <td id=\"T_200f1_row1_col3\" class=\"data row1 col3\" >aminoacid</td>\n",
       "      <td id=\"T_200f1_row1_col4\" class=\"data row1 col4\" >9</td>\n",
       "      <td id=\"T_200f1_row1_col5\" class=\"data row1 col5\" >0</td>\n",
       "      <td id=\"T_200f1_row1_col6\" class=\"data row1 col6\" >0</td>\n",
       "      <td id=\"T_200f1_row1_col7\" class=\"data row1 col7\" >0</td>\n",
       "      <td id=\"T_200f1_row1_col8\" class=\"data row1 col8\" >protein</td>\n",
       "      <td id=\"T_200f1_row1_col9\" class=\"data row1 col9\" >0</td>\n",
       "      <td id=\"T_200f1_row1_col10\" class=\"data row1 col10\" >T4 lysozyme</td>\n",
       "    </tr>\n",
       "    <tr>\n",
       "      <td id=\"T_200f1_row2_col0\" class=\"data row2 col0\" >11</td>\n",
       "      <td id=\"T_200f1_row2_col1\" class=\"data row2 col1\" >12</td>\n",
       "      <td id=\"T_200f1_row2_col2\" class=\"data row2 col2\" >GLY</td>\n",
       "      <td id=\"T_200f1_row2_col3\" class=\"data row2 col3\" >aminoacid</td>\n",
       "      <td id=\"T_200f1_row2_col4\" class=\"data row2 col4\" >4</td>\n",
       "      <td id=\"T_200f1_row2_col5\" class=\"data row2 col5\" >0</td>\n",
       "      <td id=\"T_200f1_row2_col6\" class=\"data row2 col6\" >0</td>\n",
       "      <td id=\"T_200f1_row2_col7\" class=\"data row2 col7\" >0</td>\n",
       "      <td id=\"T_200f1_row2_col8\" class=\"data row2 col8\" >protein</td>\n",
       "      <td id=\"T_200f1_row2_col9\" class=\"data row2 col9\" >0</td>\n",
       "      <td id=\"T_200f1_row2_col10\" class=\"data row2 col10\" >T4 lysozyme</td>\n",
       "    </tr>\n",
       "    <tr>\n",
       "      <td id=\"T_200f1_row3_col0\" class=\"data row3 col0\" >12</td>\n",
       "      <td id=\"T_200f1_row3_col1\" class=\"data row3 col1\" >13</td>\n",
       "      <td id=\"T_200f1_row3_col2\" class=\"data row3 col2\" >LEU</td>\n",
       "      <td id=\"T_200f1_row3_col3\" class=\"data row3 col3\" >aminoacid</td>\n",
       "      <td id=\"T_200f1_row3_col4\" class=\"data row3 col4\" >8</td>\n",
       "      <td id=\"T_200f1_row3_col5\" class=\"data row3 col5\" >0</td>\n",
       "      <td id=\"T_200f1_row3_col6\" class=\"data row3 col6\" >0</td>\n",
       "      <td id=\"T_200f1_row3_col7\" class=\"data row3 col7\" >0</td>\n",
       "      <td id=\"T_200f1_row3_col8\" class=\"data row3 col8\" >protein</td>\n",
       "      <td id=\"T_200f1_row3_col9\" class=\"data row3 col9\" >0</td>\n",
       "      <td id=\"T_200f1_row3_col10\" class=\"data row3 col10\" >T4 lysozyme</td>\n",
       "    </tr>\n",
       "  </tbody>\n",
       "</table>\n"
      ],
      "text/plain": [
       "<pandas.io.formats.style.Styler at 0x7f780d9b5cf0>"
      ]
     },
     "execution_count": 10,
     "metadata": {},
     "output_type": "execute_result"
    }
   ],
   "source": [
    "msm.info(molecular_system, element='group', selection=[9,10,11,12])"
   ]
  },
  {
   "cell_type": "code",
   "execution_count": 12,
   "metadata": {},
   "outputs": [
    {
     "data": {
      "text/html": [
       "<style type=\"text/css\">\n",
       "</style>\n",
       "<table id=\"T_bf5a5\">\n",
       "  <thead>\n",
       "    <tr>\n",
       "      <th id=\"T_bf5a5_level0_col0\" class=\"col_heading level0 col0\" >index</th>\n",
       "      <th id=\"T_bf5a5_level0_col1\" class=\"col_heading level0 col1\" >n atoms</th>\n",
       "      <th id=\"T_bf5a5_level0_col2\" class=\"col_heading level0 col2\" >n groups</th>\n",
       "      <th id=\"T_bf5a5_level0_col3\" class=\"col_heading level0 col3\" >chain index</th>\n",
       "      <th id=\"T_bf5a5_level0_col4\" class=\"col_heading level0 col4\" >molecule index</th>\n",
       "      <th id=\"T_bf5a5_level0_col5\" class=\"col_heading level0 col5\" >molecule type</th>\n",
       "      <th id=\"T_bf5a5_level0_col6\" class=\"col_heading level0 col6\" >entity index</th>\n",
       "      <th id=\"T_bf5a5_level0_col7\" class=\"col_heading level0 col7\" >entity name</th>\n",
       "    </tr>\n",
       "  </thead>\n",
       "  <tbody>\n",
       "    <tr>\n",
       "      <td id=\"T_bf5a5_row0_col0\" class=\"data row0 col0\" >3</td>\n",
       "      <td id=\"T_bf5a5_row0_col1\" class=\"data row0 col1\" >8</td>\n",
       "      <td id=\"T_bf5a5_row0_col2\" class=\"data row0 col2\" >1</td>\n",
       "      <td id=\"T_bf5a5_row0_col3\" class=\"data row0 col3\" >3</td>\n",
       "      <td id=\"T_bf5a5_row0_col4\" class=\"data row0 col4\" >3</td>\n",
       "      <td id=\"T_bf5a5_row0_col5\" class=\"data row0 col5\" >small molecule</td>\n",
       "      <td id=\"T_bf5a5_row0_col6\" class=\"data row0 col6\" >1</td>\n",
       "      <td id=\"T_bf5a5_row0_col7\" class=\"data row0 col7\" >2-hydroxyethyl disulfide</td>\n",
       "    </tr>\n",
       "    <tr>\n",
       "      <td id=\"T_bf5a5_row1_col0\" class=\"data row1 col0\" >4</td>\n",
       "      <td id=\"T_bf5a5_row1_col1\" class=\"data row1 col1\" >6</td>\n",
       "      <td id=\"T_bf5a5_row1_col2\" class=\"data row1 col2\" >1</td>\n",
       "      <td id=\"T_bf5a5_row1_col3\" class=\"data row1 col3\" >4</td>\n",
       "      <td id=\"T_bf5a5_row1_col4\" class=\"data row1 col4\" >4</td>\n",
       "      <td id=\"T_bf5a5_row1_col5\" class=\"data row1 col5\" >small molecule</td>\n",
       "      <td id=\"T_bf5a5_row1_col6\" class=\"data row1 col6\" >2</td>\n",
       "      <td id=\"T_bf5a5_row1_col7\" class=\"data row1 col7\" >Benzene</td>\n",
       "    </tr>\n",
       "  </tbody>\n",
       "</table>\n"
      ],
      "text/plain": [
       "<pandas.io.formats.style.Styler at 0x7f780d7ef640>"
      ]
     },
     "execution_count": 12,
     "metadata": {},
     "output_type": "execute_result"
    }
   ],
   "source": [
    "msm.info(molecular_system, element='component', selection='molecule_type==\"small molecule\"')"
   ]
  },
  {
   "cell_type": "code",
   "execution_count": 17,
   "metadata": {},
   "outputs": [
    {
     "data": {
      "text/html": [
       "<style type=\"text/css\">\n",
       "</style>\n",
       "<table id=\"T_77800\">\n",
       "  <thead>\n",
       "    <tr>\n",
       "      <th id=\"T_77800_level0_col0\" class=\"col_heading level0 col0\" >index</th>\n",
       "      <th id=\"T_77800_level0_col1\" class=\"col_heading level0 col1\" >name</th>\n",
       "      <th id=\"T_77800_level0_col2\" class=\"col_heading level0 col2\" >type</th>\n",
       "      <th id=\"T_77800_level0_col3\" class=\"col_heading level0 col3\" >n atoms</th>\n",
       "      <th id=\"T_77800_level0_col4\" class=\"col_heading level0 col4\" >n groups</th>\n",
       "      <th id=\"T_77800_level0_col5\" class=\"col_heading level0 col5\" >n components</th>\n",
       "      <th id=\"T_77800_level0_col6\" class=\"col_heading level0 col6\" >chain index</th>\n",
       "      <th id=\"T_77800_level0_col7\" class=\"col_heading level0 col7\" >entity index</th>\n",
       "      <th id=\"T_77800_level0_col8\" class=\"col_heading level0 col8\" >entity name</th>\n",
       "    </tr>\n",
       "  </thead>\n",
       "  <tbody>\n",
       "    <tr>\n",
       "      <td id=\"T_77800_row0_col0\" class=\"data row0 col0\" >1</td>\n",
       "      <td id=\"T_77800_row0_col1\" class=\"data row0 col1\" >Chloride ion</td>\n",
       "      <td id=\"T_77800_row0_col2\" class=\"data row0 col2\" >ion</td>\n",
       "      <td id=\"T_77800_row0_col3\" class=\"data row0 col3\" >1</td>\n",
       "      <td id=\"T_77800_row0_col4\" class=\"data row0 col4\" >1</td>\n",
       "      <td id=\"T_77800_row0_col5\" class=\"data row0 col5\" >1</td>\n",
       "      <td id=\"T_77800_row0_col6\" class=\"data row0 col6\" >1</td>\n",
       "      <td id=\"T_77800_row0_col7\" class=\"data row0 col7\" >0</td>\n",
       "      <td id=\"T_77800_row0_col8\" class=\"data row0 col8\" >Chloride ion</td>\n",
       "    </tr>\n",
       "    <tr>\n",
       "      <td id=\"T_77800_row1_col0\" class=\"data row1 col0\" >2</td>\n",
       "      <td id=\"T_77800_row1_col1\" class=\"data row1 col1\" >Chloride ion</td>\n",
       "      <td id=\"T_77800_row1_col2\" class=\"data row1 col2\" >ion</td>\n",
       "      <td id=\"T_77800_row1_col3\" class=\"data row1 col3\" >1</td>\n",
       "      <td id=\"T_77800_row1_col4\" class=\"data row1 col4\" >1</td>\n",
       "      <td id=\"T_77800_row1_col5\" class=\"data row1 col5\" >1</td>\n",
       "      <td id=\"T_77800_row1_col6\" class=\"data row1 col6\" >2</td>\n",
       "      <td id=\"T_77800_row1_col7\" class=\"data row1 col7\" >0</td>\n",
       "      <td id=\"T_77800_row1_col8\" class=\"data row1 col8\" >Chloride ion</td>\n",
       "    </tr>\n",
       "    <tr>\n",
       "      <td id=\"T_77800_row2_col0\" class=\"data row2 col0\" >3</td>\n",
       "      <td id=\"T_77800_row2_col1\" class=\"data row2 col1\" >2-hydroxyethyl disulfide</td>\n",
       "      <td id=\"T_77800_row2_col2\" class=\"data row2 col2\" >small molecule</td>\n",
       "      <td id=\"T_77800_row2_col3\" class=\"data row2 col3\" >8</td>\n",
       "      <td id=\"T_77800_row2_col4\" class=\"data row2 col4\" >1</td>\n",
       "      <td id=\"T_77800_row2_col5\" class=\"data row2 col5\" >1</td>\n",
       "      <td id=\"T_77800_row2_col6\" class=\"data row2 col6\" >3</td>\n",
       "      <td id=\"T_77800_row2_col7\" class=\"data row2 col7\" >1</td>\n",
       "      <td id=\"T_77800_row2_col8\" class=\"data row2 col8\" >2-hydroxyethyl disulfide</td>\n",
       "    </tr>\n",
       "    <tr>\n",
       "      <td id=\"T_77800_row3_col0\" class=\"data row3 col0\" >4</td>\n",
       "      <td id=\"T_77800_row3_col1\" class=\"data row3 col1\" >Benzene</td>\n",
       "      <td id=\"T_77800_row3_col2\" class=\"data row3 col2\" >small molecule</td>\n",
       "      <td id=\"T_77800_row3_col3\" class=\"data row3 col3\" >6</td>\n",
       "      <td id=\"T_77800_row3_col4\" class=\"data row3 col4\" >1</td>\n",
       "      <td id=\"T_77800_row3_col5\" class=\"data row3 col5\" >1</td>\n",
       "      <td id=\"T_77800_row3_col6\" class=\"data row3 col6\" >4</td>\n",
       "      <td id=\"T_77800_row3_col7\" class=\"data row3 col7\" >2</td>\n",
       "      <td id=\"T_77800_row3_col8\" class=\"data row3 col8\" >Benzene</td>\n",
       "    </tr>\n",
       "  </tbody>\n",
       "</table>\n"
      ],
      "text/plain": [
       "<pandas.io.formats.style.Styler at 0x7f7815d426b0>"
      ]
     },
     "execution_count": 17,
     "metadata": {},
     "output_type": "execute_result"
    }
   ],
   "source": [
    "msm.info(molecular_system, element='molecule',\n",
    "         selection='molecule_type!=[\"water\", \"protein\"] within 4.0 angstroms of molecule_type==\"protein\"')"
   ]
  },
  {
   "cell_type": "code",
   "execution_count": 13,
   "metadata": {},
   "outputs": [
    {
     "data": {
      "text/html": [
       "<style type=\"text/css\">\n",
       "</style>\n",
       "<table id=\"T_b1c71\">\n",
       "  <thead>\n",
       "    <tr>\n",
       "      <th id=\"T_b1c71_level0_col0\" class=\"col_heading level0 col0\" >index</th>\n",
       "      <th id=\"T_b1c71_level0_col1\" class=\"col_heading level0 col1\" >id</th>\n",
       "      <th id=\"T_b1c71_level0_col2\" class=\"col_heading level0 col2\" >name</th>\n",
       "      <th id=\"T_b1c71_level0_col3\" class=\"col_heading level0 col3\" >n atoms</th>\n",
       "      <th id=\"T_b1c71_level0_col4\" class=\"col_heading level0 col4\" >n groups</th>\n",
       "      <th id=\"T_b1c71_level0_col5\" class=\"col_heading level0 col5\" >n components</th>\n",
       "      <th id=\"T_b1c71_level0_col6\" class=\"col_heading level0 col6\" >molecule index</th>\n",
       "      <th id=\"T_b1c71_level0_col7\" class=\"col_heading level0 col7\" >molecule type</th>\n",
       "      <th id=\"T_b1c71_level0_col8\" class=\"col_heading level0 col8\" >entity index</th>\n",
       "      <th id=\"T_b1c71_level0_col9\" class=\"col_heading level0 col9\" >entity name</th>\n",
       "    </tr>\n",
       "  </thead>\n",
       "  <tbody>\n",
       "    <tr>\n",
       "      <td id=\"T_b1c71_row0_col0\" class=\"data row0 col0\" >5</td>\n",
       "      <td id=\"T_b1c71_row0_col1\" class=\"data row0 col1\" >F</td>\n",
       "      <td id=\"T_b1c71_row0_col2\" class=\"data row0 col2\" >A</td>\n",
       "      <td id=\"T_b1c71_row0_col3\" class=\"data row0 col3\" >136</td>\n",
       "      <td id=\"T_b1c71_row0_col4\" class=\"data row0 col4\" >136</td>\n",
       "      <td id=\"T_b1c71_row0_col5\" class=\"data row0 col5\" >136</td>\n",
       "      <td id=\"T_b1c71_row0_col6\" class=\"data row0 col6\" >[5 6 7 8 9 10 11 12 13 14 15 16 17 18 19 20 21 22 23 24 25 26 27 28 29 30\n",
       " 31 32 33 34 35 36 37 38 39 40 41 42 43 44 45 46 47 48 49 50 51 52 53 54\n",
       " 55 56 57 58 59 60 61 62 63 64 65 66 67 68 69 70 71 72 73 74 75 76 77 78\n",
       " 79 80 81 82 83 84 85 86 87 88 89 90 91 92 93 94 95 96 97 98 99 100 101\n",
       " 102 103 104 105 106 107 108 109 110 111 112 113 114 115 116 117 118 119\n",
       " 120 121 122 123 124 125 126 127 128 129 130 131 132 133 134 135 136 137\n",
       " 138 139 140]</td>\n",
       "      <td id=\"T_b1c71_row0_col7\" class=\"data row0 col7\" >['water' 'water' 'water' 'water' 'water' 'water' 'water' 'water' 'water'\n",
       " 'water' 'water' 'water' 'water' 'water' 'water' 'water' 'water' 'water'\n",
       " 'water' 'water' 'water' 'water' 'water' 'water' 'water' 'water' 'water'\n",
       " 'water' 'water' 'water' 'water' 'water' 'water' 'water' 'water' 'water'\n",
       " 'water' 'water' 'water' 'water' 'water' 'water' 'water' 'water' 'water'\n",
       " 'water' 'water' 'water' 'water' 'water' 'water' 'water' 'water' 'water'\n",
       " 'water' 'water' 'water' 'water' 'water' 'water' 'water' 'water' 'water'\n",
       " 'water' 'water' 'water' 'water' 'water' 'water' 'water' 'water' 'water'\n",
       " 'water' 'water' 'water' 'water' 'water' 'water' 'water' 'water' 'water'\n",
       " 'water' 'water' 'water' 'water' 'water' 'water' 'water' 'water' 'water'\n",
       " 'water' 'water' 'water' 'water' 'water' 'water' 'water' 'water' 'water'\n",
       " 'water' 'water' 'water' 'water' 'water' 'water' 'water' 'water' 'water'\n",
       " 'water' 'water' 'water' 'water' 'water' 'water' 'water' 'water' 'water'\n",
       " 'water' 'water' 'water' 'water' 'water' 'water' 'water' 'water' 'water'\n",
       " 'water' 'water' 'water' 'water' 'water' 'water' 'water' 'water' 'water'\n",
       " 'water']</td>\n",
       "      <td id=\"T_b1c71_row0_col8\" class=\"data row0 col8\" >3</td>\n",
       "      <td id=\"T_b1c71_row0_col9\" class=\"data row0 col9\" >water</td>\n",
       "    </tr>\n",
       "  </tbody>\n",
       "</table>\n"
      ],
      "text/plain": [
       "<pandas.io.formats.style.Styler at 0x7f780dbb5930>"
      ]
     },
     "execution_count": 13,
     "metadata": {},
     "output_type": "execute_result"
    }
   ],
   "source": [
    "msm.info(molecular_system, element='chain', selection='molecule_type==\"water\"')"
   ]
  },
  {
   "cell_type": "code",
   "execution_count": 18,
   "metadata": {},
   "outputs": [
    {
     "data": {
      "text/html": [
       "<style type=\"text/css\">\n",
       "</style>\n",
       "<table id=\"T_13bf8\">\n",
       "  <thead>\n",
       "    <tr>\n",
       "      <th id=\"T_13bf8_level0_col0\" class=\"col_heading level0 col0\" >index</th>\n",
       "      <th id=\"T_13bf8_level0_col1\" class=\"col_heading level0 col1\" >name</th>\n",
       "      <th id=\"T_13bf8_level0_col2\" class=\"col_heading level0 col2\" >type</th>\n",
       "      <th id=\"T_13bf8_level0_col3\" class=\"col_heading level0 col3\" >n atoms</th>\n",
       "      <th id=\"T_13bf8_level0_col4\" class=\"col_heading level0 col4\" >n groups</th>\n",
       "      <th id=\"T_13bf8_level0_col5\" class=\"col_heading level0 col5\" >n components</th>\n",
       "      <th id=\"T_13bf8_level0_col6\" class=\"col_heading level0 col6\" >n chains</th>\n",
       "      <th id=\"T_13bf8_level0_col7\" class=\"col_heading level0 col7\" >n molecules</th>\n",
       "    </tr>\n",
       "  </thead>\n",
       "  <tbody>\n",
       "    <tr>\n",
       "      <td id=\"T_13bf8_row0_col0\" class=\"data row0 col0\" >0</td>\n",
       "      <td id=\"T_13bf8_row0_col1\" class=\"data row0 col1\" >T4 lysozyme</td>\n",
       "      <td id=\"T_13bf8_row0_col2\" class=\"data row0 col2\" >protein</td>\n",
       "      <td id=\"T_13bf8_row0_col3\" class=\"data row0 col3\" >1291</td>\n",
       "      <td id=\"T_13bf8_row0_col4\" class=\"data row0 col4\" >164</td>\n",
       "      <td id=\"T_13bf8_row0_col5\" class=\"data row0 col5\" >3</td>\n",
       "      <td id=\"T_13bf8_row0_col6\" class=\"data row0 col6\" >3</td>\n",
       "      <td id=\"T_13bf8_row0_col7\" class=\"data row0 col7\" >3</td>\n",
       "    </tr>\n",
       "    <tr>\n",
       "      <td id=\"T_13bf8_row1_col0\" class=\"data row1 col0\" >1</td>\n",
       "      <td id=\"T_13bf8_row1_col1\" class=\"data row1 col1\" >2-hydroxyethyl disulfide</td>\n",
       "      <td id=\"T_13bf8_row1_col2\" class=\"data row1 col2\" >small molecule</td>\n",
       "      <td id=\"T_13bf8_row1_col3\" class=\"data row1 col3\" >8</td>\n",
       "      <td id=\"T_13bf8_row1_col4\" class=\"data row1 col4\" >1</td>\n",
       "      <td id=\"T_13bf8_row1_col5\" class=\"data row1 col5\" >1</td>\n",
       "      <td id=\"T_13bf8_row1_col6\" class=\"data row1 col6\" >1</td>\n",
       "      <td id=\"T_13bf8_row1_col7\" class=\"data row1 col7\" >1</td>\n",
       "    </tr>\n",
       "    <tr>\n",
       "      <td id=\"T_13bf8_row2_col0\" class=\"data row2 col0\" >2</td>\n",
       "      <td id=\"T_13bf8_row2_col1\" class=\"data row2 col1\" >Benzene</td>\n",
       "      <td id=\"T_13bf8_row2_col2\" class=\"data row2 col2\" >small molecule</td>\n",
       "      <td id=\"T_13bf8_row2_col3\" class=\"data row2 col3\" >6</td>\n",
       "      <td id=\"T_13bf8_row2_col4\" class=\"data row2 col4\" >1</td>\n",
       "      <td id=\"T_13bf8_row2_col5\" class=\"data row2 col5\" >1</td>\n",
       "      <td id=\"T_13bf8_row2_col6\" class=\"data row2 col6\" >1</td>\n",
       "      <td id=\"T_13bf8_row2_col7\" class=\"data row2 col7\" >1</td>\n",
       "    </tr>\n",
       "    <tr>\n",
       "      <td id=\"T_13bf8_row3_col0\" class=\"data row3 col0\" >3</td>\n",
       "      <td id=\"T_13bf8_row3_col1\" class=\"data row3 col1\" >water</td>\n",
       "      <td id=\"T_13bf8_row3_col2\" class=\"data row3 col2\" >water</td>\n",
       "      <td id=\"T_13bf8_row3_col3\" class=\"data row3 col3\" >136</td>\n",
       "      <td id=\"T_13bf8_row3_col4\" class=\"data row3 col4\" >136</td>\n",
       "      <td id=\"T_13bf8_row3_col5\" class=\"data row3 col5\" >136</td>\n",
       "      <td id=\"T_13bf8_row3_col6\" class=\"data row3 col6\" >1</td>\n",
       "      <td id=\"T_13bf8_row3_col7\" class=\"data row3 col7\" >136</td>\n",
       "    </tr>\n",
       "  </tbody>\n",
       "</table>\n"
      ],
      "text/plain": [
       "<pandas.io.formats.style.Styler at 0x7f7815d36bf0>"
      ]
     },
     "execution_count": 18,
     "metadata": {},
     "output_type": "execute_result"
    }
   ],
   "source": [
    "msm.info(molecular_system, element='entity')"
   ]
  },
  {
   "cell_type": "markdown",
   "metadata": {},
   "source": [
    "### Getting a string element label\n",
    "\n",
    "The method `molsysmt.info()` can also return a string with key information to identify the element. If we only need to get a short string encoding the main attributes of an atom, the input argument `output` should take the value 'short_string':"
   ]
  },
  {
   "cell_type": "code",
   "execution_count": null,
   "metadata": {},
   "outputs": [],
   "source": [
    "msm.info(molecular_system, element='atom', indices=[10, 11, 12], output_type='short_string')"
   ]
  },
  {
   "cell_type": "markdown",
   "metadata": {},
   "source": [
    "The strings take the following format depending on the element choosen:\n",
    "\n",
    "| element | short | long |\n",
    "| ------- | ----- | ---- |\n",
    "| atom | `atom_name-atom_id@atom_index` | `atom_name-atom_id@atom_index/group_name-group_id@group_index/chain_name-chain_id@chain_index/molecule_name@molecule_index`|\n",
    "| group | `group_name-group_id@group_index` | `group_name-group_id@group_index/chain_name-chain_id@chain_index/molecule_name@molecule_index`|\n",
    "| component | `component_name-component_id@component_index` | `component_name-component_id@component_index/chain_name-chain_id@chain_index/molecule_name@molecule_index`|\n",
    "| chain | `chain_name-chain_id@chain_index` | `chain_name-chain_id@chain_index/molecule_name@molecule_index`|\n",
    "| molecule | `molecule_name-molecule_id@molecule_index` | `molecule_name-molecule_id@molecule_index`|\n",
    "| entity | `entity_name-entity_id@entity_index` | `entity_name-entity_id@entity_index`|"
   ]
  },
  {
   "cell_type": "markdown",
   "metadata": {},
   "source": [
    "Let's see a some few additional examples:"
   ]
  },
  {
   "cell_type": "code",
   "execution_count": null,
   "metadata": {},
   "outputs": [],
   "source": [
    "msm.info(molecular_system, element='atom', indices=10, output_type='long_string')"
   ]
  },
  {
   "cell_type": "code",
   "execution_count": null,
   "metadata": {},
   "outputs": [],
   "source": [
    "msm.info(molecular_system, element='group', selection='group_type==\"ion\"', output_type='short_string')"
   ]
  },
  {
   "cell_type": "code",
   "execution_count": null,
   "metadata": {},
   "outputs": [],
   "source": [
    "msm.info(molecular_system, element='group', indices=3, output_type='long_string')"
   ]
  },
  {
   "cell_type": "markdown",
   "metadata": {},
   "source": [
    "```{admonition} See also\n",
    ":class: attention\n",
    "{func}`molsysmt.basic.info`, {func}`molsysmt.basic.convert`\n",
    "```"
   ]
  }
 ],
 "metadata": {
  "kernelspec": {
   "display_name": "Python 3 (ipykernel)",
   "language": "python",
   "name": "python3"
  },
  "language_info": {
   "codemirror_mode": {
    "name": "ipython",
    "version": 3
   },
   "file_extension": ".py",
   "mimetype": "text/x-python",
   "name": "python",
   "nbconvert_exporter": "python",
   "pygments_lexer": "ipython3",
   "version": "3.10.11"
  }
 },
 "nbformat": 4,
 "nbformat_minor": 4
}
