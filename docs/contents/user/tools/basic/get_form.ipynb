{
 "cells": [
  {
   "cell_type": "code",
   "execution_count": 1,
   "metadata": {
    "execution": {
     "iopub.execute_input": "2025-03-11T21:03:38.580184Z",
     "iopub.status.busy": "2025-03-11T21:03:38.579772Z",
     "iopub.status.idle": "2025-03-11T21:03:38.585000Z",
     "shell.execute_reply": "2025-03-11T21:03:38.584131Z"
    },
    "tags": [
     "remove-input"
    ]
   },
   "outputs": [],
   "source": [
    "# This cell is removed with the tag: \"remove-input\"\n",
    "# As such, it will not be shown in documentation\n",
    "\n",
    "#import warnings\n",
    "#warnings.filterwarnings('ignore')"
   ]
  },
  {
   "cell_type": "markdown",
   "metadata": {},
   "source": [
    "(Tutorial_Get_form)=\n",
    "# Get form\n",
    "\n",
    "*Getting the form of a molecular system.*\n",
    "\n",
    "A same molecular system can have different representations with different forms: a file, a string ID, a Python object, etc. And this forms can be converted into other forms to include different attributes or to be operated in different steps of a workflow.\n",
    "\n",
    ":::{hint}\n",
    "Visit the section [User guide > Introduction > Molecular System > Form](../../intro/molecular_systems/form.md) in case you are not familiar with the concepts of \"form\" in MolSysMT.\n",
    ":::\n",
    "\n",
    "The form of a molecular system can be obtained with the function {func}`molsysmt.basic.get_form`.\n",
    "\n",
    "## How this function works\n",
    "\n",
    ":::{admonition} API documentation\n",
    "Follow this link for a detailed description of the input arguments, raised errors, and returned objects of this function:{func}`molsysmt.basic.get_form`.\n",
    ":::\n",
    "\n",
    "Let's see some examples:"
   ]
  },
  {
   "cell_type": "code",
   "execution_count": 2,
   "metadata": {
    "execution": {
     "iopub.execute_input": "2025-03-11T21:03:38.588696Z",
     "iopub.status.busy": "2025-03-11T21:03:38.587981Z",
     "iopub.status.idle": "2025-03-11T21:03:47.797968Z",
     "shell.execute_reply": "2025-03-11T21:03:47.797003Z"
    }
   },
   "outputs": [
    {
     "data": {
      "application/vnd.jupyter.widget-view+json": {
       "model_id": "33098ae61d804f1c8c513b5ab9cfc88b",
       "version_major": 2,
       "version_minor": 0
      },
      "text/plain": []
     },
     "metadata": {},
     "output_type": "display_data"
    }
   ],
   "source": [
    "import molsysmt as msm"
   ]
  },
  {
   "cell_type": "code",
   "execution_count": 3,
   "metadata": {
    "execution": {
     "iopub.execute_input": "2025-03-11T21:03:47.802531Z",
     "iopub.status.busy": "2025-03-11T21:03:47.801481Z",
     "iopub.status.idle": "2025-03-11T21:03:47.806749Z",
     "shell.execute_reply": "2025-03-11T21:03:47.805907Z"
    }
   },
   "outputs": [],
   "source": [
    "molecular_system = '181L'"
   ]
  },
  {
   "cell_type": "code",
   "execution_count": 4,
   "metadata": {
    "execution": {
     "iopub.execute_input": "2025-03-11T21:03:47.809987Z",
     "iopub.status.busy": "2025-03-11T21:03:47.809581Z",
     "iopub.status.idle": "2025-03-11T21:03:48.052308Z",
     "shell.execute_reply": "2025-03-11T21:03:48.051313Z"
    }
   },
   "outputs": [
    {
     "data": {
      "text/plain": [
       "'string:pdb_id'"
      ]
     },
     "execution_count": 4,
     "metadata": {},
     "output_type": "execute_result"
    }
   ],
   "source": [
    "msm.get_form(molecular_system)"
   ]
  },
  {
   "cell_type": "markdown",
   "metadata": {},
   "source": [
    "```{admonition} Tip\n",
    ":class: tip\n",
    "All methods defined in the {ref}`molsysmt.basic <API basic>` module can be invoked also from the main level of the library. Hence, {func}`molsysmt.get_form` is the same method as {func}`molsysmt.basic.get_form`.\n",
    "```"
   ]
  },
  {
   "cell_type": "markdown",
   "metadata": {},
   "source": [
    "Let's try with other forms of this and other molecular systems:"
   ]
  },
  {
   "cell_type": "code",
   "execution_count": 5,
   "metadata": {
    "execution": {
     "iopub.execute_input": "2025-03-11T21:03:48.057021Z",
     "iopub.status.busy": "2025-03-11T21:03:48.056142Z",
     "iopub.status.idle": "2025-03-11T21:03:49.742007Z",
     "shell.execute_reply": "2025-03-11T21:03:49.741181Z"
    }
   },
   "outputs": [
    {
     "data": {
      "text/plain": [
       "'openmm.Modeller'"
      ]
     },
     "execution_count": 5,
     "metadata": {},
     "output_type": "execute_result"
    }
   ],
   "source": [
    "molecular_system = msm.convert(molecular_system, to_form='openmm.Modeller')\n",
    "msm.get_form(molecular_system)"
   ]
  },
  {
   "cell_type": "code",
   "execution_count": 6,
   "metadata": {
    "execution": {
     "iopub.execute_input": "2025-03-11T21:03:49.745655Z",
     "iopub.status.busy": "2025-03-11T21:03:49.744863Z",
     "iopub.status.idle": "2025-03-11T21:03:49.751976Z",
     "shell.execute_reply": "2025-03-11T21:03:49.751215Z"
    }
   },
   "outputs": [
    {
     "data": {
      "text/plain": [
       "'string:amino_acids_3'"
      ]
     },
     "execution_count": 6,
     "metadata": {},
     "output_type": "execute_result"
    }
   ],
   "source": [
    "msm.get_form('AceAlaValTyrNme')"
   ]
  },
  {
   "cell_type": "code",
   "execution_count": 7,
   "metadata": {
    "execution": {
     "iopub.execute_input": "2025-03-11T21:03:49.755432Z",
     "iopub.status.busy": "2025-03-11T21:03:49.754780Z",
     "iopub.status.idle": "2025-03-11T21:03:49.761598Z",
     "shell.execute_reply": "2025-03-11T21:03:49.760763Z"
    }
   },
   "outputs": [
    {
     "data": {
      "text/plain": [
       "'file:inpcrd'"
      ]
     },
     "execution_count": 7,
     "metadata": {},
     "output_type": "execute_result"
    }
   ],
   "source": [
    "from molsysmt import systems\n",
    "msm.get_form(systems['pentalanine']['pentalanine.inpcrd'])"
   ]
  },
  {
   "cell_type": "code",
   "execution_count": 8,
   "metadata": {
    "execution": {
     "iopub.execute_input": "2025-03-11T21:03:49.765561Z",
     "iopub.status.busy": "2025-03-11T21:03:49.764434Z",
     "iopub.status.idle": "2025-03-11T21:03:49.773025Z",
     "shell.execute_reply": "2025-03-11T21:03:49.772130Z"
    }
   },
   "outputs": [
    {
     "data": {
      "text/plain": [
       "'XYZ'"
      ]
     },
     "execution_count": 8,
     "metadata": {},
     "output_type": "execute_result"
    }
   ],
   "source": [
    "import numpy as np\n",
    "molecular_system = np.zeros(shape=[10,4,3])*msm.pyunitwizard.unit('angstroms')\n",
    "msm.get_form(molecular_system)"
   ]
  },
  {
   "cell_type": "code",
   "execution_count": 9,
   "metadata": {
    "execution": {
     "iopub.execute_input": "2025-03-11T21:03:49.776659Z",
     "iopub.status.busy": "2025-03-11T21:03:49.775813Z",
     "iopub.status.idle": "2025-03-11T21:03:49.783889Z",
     "shell.execute_reply": "2025-03-11T21:03:49.783039Z"
    }
   },
   "outputs": [
    {
     "data": {
      "text/plain": [
       "'string:pdb_text'"
      ]
     },
     "execution_count": 9,
     "metadata": {},
     "output_type": "execute_result"
    }
   ],
   "source": [
    "molecular_system = ('HETATM 3274  C1  BEN A 302      -9.410  30.002  12.405  1.00 61.32           C  \\n'\n",
    "                    'HETATM 3275  C2  BEN A 302     -10.677  29.482  12.626  1.00 58.40           C  \\n'\n",
    "                    'HETATM 3276  C3  BEN A 302     -10.836  28.180  13.091  1.00 49.12           C  \\n'\n",
    "                    'HETATM 3277  C4  BEN A 302      -9.725  27.387  13.331  1.00 56.99           C  \\n'\n",
    "                    'HETATM 3278  C5  BEN A 302      -8.454  27.906  13.109  1.00 53.41           C  \\n'\n",
    "                    'HETATM 3279  C6  BEN A 302      -8.298  29.207  12.650  1.00 55.79           C  \\n'\n",
    "                    'HETATM 3280  C   BEN A 302      -9.255  31.315  11.933  1.00 63.37           C  \\n'\n",
    "                    'HETATM 3281  N1  BEN A 302      -8.925  31.552  10.675  1.00 73.79           N  \\n'\n",
    "                    'HETATM 3282  N2  BEN A 302      -9.382  32.348  12.740  1.00 62.54           N  ')\n",
    "\n",
    "msm.get_form(molecular_system)"
   ]
  },
  {
   "cell_type": "code",
   "execution_count": 10,
   "metadata": {
    "execution": {
     "iopub.execute_input": "2025-03-11T21:03:49.787248Z",
     "iopub.status.busy": "2025-03-11T21:03:49.786802Z",
     "iopub.status.idle": "2025-03-11T21:03:52.876420Z",
     "shell.execute_reply": "2025-03-11T21:03:52.875518Z"
    }
   },
   "outputs": [
    {
     "data": {
      "text/plain": [
       "'nglview.NGLWidget'"
      ]
     },
     "execution_count": 10,
     "metadata": {},
     "output_type": "execute_result"
    }
   ],
   "source": [
    "view = msm.view(molecular_system)\n",
    "msm.get_form(view)"
   ]
  },
  {
   "cell_type": "markdown",
   "metadata": {},
   "source": [
    ":::{seealso}\n",
    "[User guide > Introduction > Molecular System > Forms](../../intro/molecular_systems/forms.md):       \n",
    "[User guide > Tools > Basic > Convert](convert.ipynb):     \n",
    "[User guide > Tools > Basic > View](view.ipynb):     \n",
    ":::"
   ]
  }
 ],
 "metadata": {
  "kernelspec": {
   "display_name": "Python 3 (ipykernel)",
   "language": "python",
   "name": "python3"
  },
  "language_info": {
   "codemirror_mode": {
    "name": "ipython",
    "version": 3
   },
   "file_extension": ".py",
   "mimetype": "text/x-python",
   "name": "python",
   "nbconvert_exporter": "python",
   "pygments_lexer": "ipython3",
   "version": "3.12.8"
  },
  "widgets": {
   "application/vnd.jupyter.widget-state+json": {
    "state": {
     "07ca6af5e2fc4750a6b84f6c7c46d810": {
      "model_module": "@jupyter-widgets/controls",
      "model_module_version": "2.0.0",
      "model_name": "ButtonStyleModel",
      "state": {
       "_model_module": "@jupyter-widgets/controls",
       "_model_module_version": "2.0.0",
       "_model_name": "ButtonStyleModel",
       "_view_count": null,
       "_view_module": "@jupyter-widgets/base",
       "_view_module_version": "2.0.0",
       "_view_name": "StyleView",
       "button_color": null,
       "font_family": null,
       "font_size": null,
       "font_style": null,
       "font_variant": null,
       "font_weight": null,
       "text_color": null,
       "text_decoration": null
      }
     },
     "0d273f015f1c48e9b3024e71f3258176": {
      "model_module": "@jupyter-widgets/base",
      "model_module_version": "2.0.0",
      "model_name": "LayoutModel",
      "state": {
       "_model_module": "@jupyter-widgets/base",
       "_model_module_version": "2.0.0",
       "_model_name": "LayoutModel",
       "_view_count": null,
       "_view_module": "@jupyter-widgets/base",
       "_view_module_version": "2.0.0",
       "_view_name": "LayoutView",
       "align_content": null,
       "align_items": null,
       "align_self": null,
       "border_bottom": null,
       "border_left": null,
       "border_right": null,
       "border_top": null,
       "bottom": null,
       "display": null,
       "flex": null,
       "flex_flow": null,
       "grid_area": null,
       "grid_auto_columns": null,
       "grid_auto_flow": null,
       "grid_auto_rows": null,
       "grid_column": null,
       "grid_gap": null,
       "grid_row": null,
       "grid_template_areas": null,
       "grid_template_columns": null,
       "grid_template_rows": null,
       "height": null,
       "justify_content": null,
       "justify_items": null,
       "left": null,
       "margin": null,
       "max_height": null,
       "max_width": null,
       "min_height": null,
       "min_width": null,
       "object_fit": null,
       "object_position": null,
       "order": null,
       "overflow": null,
       "padding": null,
       "right": null,
       "top": null,
       "visibility": null,
       "width": null
      }
     },
     "2cc4e51963904ad0921537e57ff382b3": {
      "model_module": "@jupyter-widgets/controls",
      "model_module_version": "2.0.0",
      "model_name": "LinkModel",
      "state": {
       "_model_module": "@jupyter-widgets/controls",
       "_model_module_version": "2.0.0",
       "_model_name": "LinkModel",
       "_view_count": null,
       "_view_module": "@jupyter-widgets/controls",
       "_view_module_version": "2.0.0",
       "_view_name": null,
       "source": [
        "IPY_MODEL_e87f2bdae010499a8c28728d6510dfb6",
        "value"
       ],
       "target": [
        "IPY_MODEL_692ee49bc0af45c08d366b14f533a820",
        "value"
       ]
      }
     },
     "2e94589c6fc8460c8d21d1fab5599e04": {
      "model_module": "@jupyter-widgets/base",
      "model_module_version": "2.0.0",
      "model_name": "LayoutModel",
      "state": {
       "_model_module": "@jupyter-widgets/base",
       "_model_module_version": "2.0.0",
       "_model_name": "LayoutModel",
       "_view_count": null,
       "_view_module": "@jupyter-widgets/base",
       "_view_module_version": "2.0.0",
       "_view_name": "LayoutView",
       "align_content": null,
       "align_items": null,
       "align_self": null,
       "border_bottom": null,
       "border_left": null,
       "border_right": null,
       "border_top": null,
       "bottom": null,
       "display": null,
       "flex": null,
       "flex_flow": null,
       "grid_area": null,
       "grid_auto_columns": null,
       "grid_auto_flow": null,
       "grid_auto_rows": null,
       "grid_column": null,
       "grid_gap": null,
       "grid_row": null,
       "grid_template_areas": null,
       "grid_template_columns": null,
       "grid_template_rows": null,
       "height": null,
       "justify_content": null,
       "justify_items": null,
       "left": null,
       "margin": null,
       "max_height": null,
       "max_width": null,
       "min_height": null,
       "min_width": null,
       "object_fit": null,
       "object_position": null,
       "order": null,
       "overflow": null,
       "padding": null,
       "right": null,
       "top": null,
       "visibility": null,
       "width": null
      }
     },
     "33098ae61d804f1c8c513b5ab9cfc88b": {
      "model_module": "nglview-js-widgets",
      "model_module_version": "3.1.4",
      "model_name": "ColormakerRegistryModel",
      "state": {
       "_dom_classes": [],
       "_model_module": "nglview-js-widgets",
       "_model_module_version": "3.1.4",
       "_model_name": "ColormakerRegistryModel",
       "_msg_ar": [],
       "_msg_q": [],
       "_ready": false,
       "_view_count": null,
       "_view_module": "nglview-js-widgets",
       "_view_module_version": "3.1.4",
       "_view_name": "ColormakerRegistryView",
       "layout": "IPY_MODEL_a9b2bec269ea43ff9195982d3c826852",
       "tabbable": null,
       "tooltip": null
      }
     },
     "39059b8e50304dd1a7cdfcb9e104a7fd": {
      "model_module": "@jupyter-widgets/base",
      "model_module_version": "2.0.0",
      "model_name": "LayoutModel",
      "state": {
       "_model_module": "@jupyter-widgets/base",
       "_model_module_version": "2.0.0",
       "_model_name": "LayoutModel",
       "_view_count": null,
       "_view_module": "@jupyter-widgets/base",
       "_view_module_version": "2.0.0",
       "_view_name": "LayoutView",
       "align_content": null,
       "align_items": null,
       "align_self": null,
       "border_bottom": null,
       "border_left": null,
       "border_right": null,
       "border_top": null,
       "bottom": null,
       "display": null,
       "flex": null,
       "flex_flow": null,
       "grid_area": null,
       "grid_auto_columns": null,
       "grid_auto_flow": null,
       "grid_auto_rows": null,
       "grid_column": null,
       "grid_gap": null,
       "grid_row": null,
       "grid_template_areas": null,
       "grid_template_columns": null,
       "grid_template_rows": null,
       "height": null,
       "justify_content": null,
       "justify_items": null,
       "left": null,
       "margin": null,
       "max_height": null,
       "max_width": null,
       "min_height": null,
       "min_width": null,
       "object_fit": null,
       "object_position": null,
       "order": null,
       "overflow": null,
       "padding": null,
       "right": null,
       "top": null,
       "visibility": null,
       "width": null
      }
     },
     "4f4e67772c9a412d85286af412237cee": {
      "model_module": "@jupyter-widgets/controls",
      "model_module_version": "2.0.0",
      "model_name": "HBoxModel",
      "state": {
       "_dom_classes": [],
       "_model_module": "@jupyter-widgets/controls",
       "_model_module_version": "2.0.0",
       "_model_name": "HBoxModel",
       "_view_count": null,
       "_view_module": "@jupyter-widgets/controls",
       "_view_module_version": "2.0.0",
       "_view_name": "HBoxView",
       "box_style": "",
       "children": [
        "IPY_MODEL_e87f2bdae010499a8c28728d6510dfb6",
        "IPY_MODEL_692ee49bc0af45c08d366b14f533a820"
       ],
       "layout": "IPY_MODEL_c11d93000d0b4901914bc9160a0b6926",
       "tabbable": null,
       "tooltip": null
      }
     },
     "676c1e6b8dd443659593e3c10904e24d": {
      "model_module": "nglview-js-widgets",
      "model_module_version": "3.1.4",
      "model_name": "NGLModel",
      "state": {
       "_camera_orientation": [],
       "_camera_str": "orthographic",
       "_dom_classes": [],
       "_gui_theme": null,
       "_ibtn_fullscreen": "IPY_MODEL_7cbb2038a18b4a9cab95c8be58f12d7b",
       "_igui": null,
       "_iplayer": "IPY_MODEL_4f4e67772c9a412d85286af412237cee",
       "_model_module": "nglview-js-widgets",
       "_model_module_version": "3.1.4",
       "_model_name": "NGLModel",
       "_ngl_color_dict": {},
       "_ngl_coordinate_resource": {},
       "_ngl_full_stage_parameters": {},
       "_ngl_msg_archive": [
        {
         "args": [
          {
           "binary": false,
           "data": "HEADER    MOLECULAR SYSTEM                        11-MAR-25       \nREMARK   1 Created by MolSysMT version 1.0 on 11-MAR-2025 at 15:03:50\nATOM   3274 C1   BEN A 302      -9.410  30.002  12.405  0.00  0.00           C\nATOM   3275 C2   BEN A 302     -10.677  29.482  12.626  0.00  0.00           C\nATOM   3276 C3   BEN A 302     -10.836  28.180  13.091  0.00  0.00           C\nATOM   3277 C4   BEN A 302      -9.725  27.387  13.331  0.00  0.00           C\nATOM   3278 C5   BEN A 302      -8.454  27.906  13.109  0.00  0.00           C\nATOM   3279 C6   BEN A 302      -8.298  29.207  12.650  0.00  0.00           C\nATOM   3280 C    BEN A 302      -9.255  31.315  11.933  0.00  0.00           C\nATOM   3281 N1   BEN A 302      -8.925  31.552  10.675  0.00  0.00           N\nATOM   3282 N2   BEN A 302      -9.382  32.348  12.740  0.00  0.00           N\nEND\n",
           "type": "blob"
          }
         ],
         "kwargs": {
          "defaultRepresentation": true,
          "ext": "pdb",
          "name": "nglview.adaptor.MolSysMTTrajectory",
          "skipDigestion": true
         },
         "methodName": "loadFile",
         "reconstruc_color_scheme": false,
         "target": "Stage",
         "type": "call_method"
        },
        {
         "args": [],
         "component_index": 0,
         "kwargs": {},
         "methodName": "removeAllRepresentations",
         "reconstruc_color_scheme": false,
         "target": "compList",
         "type": "call_method"
        },
        {
         "args": [
          "cartoon"
         ],
         "component_index": 0,
         "kwargs": {
          "sele": "@"
         },
         "methodName": "addRepresentation",
         "reconstruc_color_scheme": false,
         "target": "compList",
         "type": "call_method"
        },
        {
         "args": [
          "cartoon"
         ],
         "component_index": 0,
         "kwargs": {
          "sele": "@"
         },
         "methodName": "addRepresentation",
         "reconstruc_color_scheme": false,
         "target": "compList",
         "type": "call_method"
        },
        {
         "args": [
          "licorice"
         ],
         "component_index": 0,
         "kwargs": {
          "radius": 0.4,
          "sele": "@0,1,2,3,4,5,6,7,8"
         },
         "methodName": "addRepresentation",
         "reconstruc_color_scheme": false,
         "target": "compList",
         "type": "call_method"
        },
        {
         "args": [
          "licorice"
         ],
         "component_index": 0,
         "kwargs": {
          "radius": 0.4,
          "sele": "@"
         },
         "methodName": "addRepresentation",
         "reconstruc_color_scheme": false,
         "target": "compList",
         "type": "call_method"
        },
        {
         "args": [
          "ball+stick"
         ],
         "component_index": 0,
         "kwargs": {
          "sele": "@"
         },
         "methodName": "addRepresentation",
         "reconstruc_color_scheme": false,
         "target": "compList",
         "type": "call_method"
        }
       ],
       "_ngl_original_stage_parameters": {},
       "_ngl_repr_dict": {},
       "_ngl_serialize": false,
       "_ngl_version": "",
       "_ngl_view_id": [],
       "_player_dict": {},
       "_scene_position": {},
       "_scene_rotation": {},
       "_synced_model_ids": [],
       "_synced_repr_model_ids": [],
       "_view_count": null,
       "_view_height": "",
       "_view_module": "nglview-js-widgets",
       "_view_module_version": "3.1.4",
       "_view_name": "NGLView",
       "_view_width": "",
       "background": "white",
       "frame": 0,
       "gui_style": null,
       "layout": "IPY_MODEL_b5e8b8554eb24308bb31030d0fb894fa",
       "max_frame": 0,
       "n_components": 0,
       "picked": {},
       "tabbable": null,
       "tooltip": null
      }
     },
     "692ee49bc0af45c08d366b14f533a820": {
      "model_module": "@jupyter-widgets/controls",
      "model_module_version": "2.0.0",
      "model_name": "IntSliderModel",
      "state": {
       "_dom_classes": [],
       "_model_module": "@jupyter-widgets/controls",
       "_model_module_version": "2.0.0",
       "_model_name": "IntSliderModel",
       "_view_count": null,
       "_view_module": "@jupyter-widgets/controls",
       "_view_module_version": "2.0.0",
       "_view_name": "IntSliderView",
       "behavior": "drag-tap",
       "continuous_update": true,
       "description": "",
       "description_allow_html": false,
       "disabled": false,
       "layout": "IPY_MODEL_39059b8e50304dd1a7cdfcb9e104a7fd",
       "max": 0,
       "min": 0,
       "orientation": "horizontal",
       "readout": true,
       "readout_format": "d",
       "step": 1,
       "style": "IPY_MODEL_9c51012bcd2b41c5af9d2de177baab3c",
       "tabbable": null,
       "tooltip": null,
       "value": 0
      }
     },
     "6be66af34e1141568071b418ea195384": {
      "model_module": "@jupyter-widgets/controls",
      "model_module_version": "2.0.0",
      "model_name": "DescriptionStyleModel",
      "state": {
       "_model_module": "@jupyter-widgets/controls",
       "_model_module_version": "2.0.0",
       "_model_name": "DescriptionStyleModel",
       "_view_count": null,
       "_view_module": "@jupyter-widgets/base",
       "_view_module_version": "2.0.0",
       "_view_name": "StyleView",
       "description_width": ""
      }
     },
     "72e15ae7cbfd4a588d0d702a13ae1832": {
      "model_module": "@jupyter-widgets/controls",
      "model_module_version": "2.0.0",
      "model_name": "LinkModel",
      "state": {
       "_model_module": "@jupyter-widgets/controls",
       "_model_module_version": "2.0.0",
       "_model_name": "LinkModel",
       "_view_count": null,
       "_view_module": "@jupyter-widgets/controls",
       "_view_module_version": "2.0.0",
       "_view_name": null,
       "source": [
        "IPY_MODEL_692ee49bc0af45c08d366b14f533a820",
        "max"
       ],
       "target": [
        "IPY_MODEL_676c1e6b8dd443659593e3c10904e24d",
        "max_frame"
       ]
      }
     },
     "7637e3a176f94ced8898cebe7959c45f": {
      "model_module": "@jupyter-widgets/controls",
      "model_module_version": "2.0.0",
      "model_name": "LinkModel",
      "state": {
       "_model_module": "@jupyter-widgets/controls",
       "_model_module_version": "2.0.0",
       "_model_name": "LinkModel",
       "_view_count": null,
       "_view_module": "@jupyter-widgets/controls",
       "_view_module_version": "2.0.0",
       "_view_name": null,
       "source": [
        "IPY_MODEL_e87f2bdae010499a8c28728d6510dfb6",
        "value"
       ],
       "target": [
        "IPY_MODEL_676c1e6b8dd443659593e3c10904e24d",
        "frame"
       ]
      }
     },
     "7cbb2038a18b4a9cab95c8be58f12d7b": {
      "model_module": "@jupyter-widgets/controls",
      "model_module_version": "2.0.0",
      "model_name": "ButtonModel",
      "state": {
       "_dom_classes": [],
       "_model_module": "@jupyter-widgets/controls",
       "_model_module_version": "2.0.0",
       "_model_name": "ButtonModel",
       "_view_count": null,
       "_view_module": "@jupyter-widgets/controls",
       "_view_module_version": "2.0.0",
       "_view_name": "ButtonView",
       "button_style": "",
       "description": "",
       "disabled": false,
       "icon": "compress",
       "layout": "IPY_MODEL_ce4de252a72c49d58a172a954783d16f",
       "style": "IPY_MODEL_07ca6af5e2fc4750a6b84f6c7c46d810",
       "tabbable": null,
       "tooltip": null
      }
     },
     "8788d6d7d4424eb08af806f06e7839d5": {
      "model_module": "@jupyter-widgets/controls",
      "model_module_version": "2.0.0",
      "model_name": "LinkModel",
      "state": {
       "_model_module": "@jupyter-widgets/controls",
       "_model_module_version": "2.0.0",
       "_model_name": "LinkModel",
       "_view_count": null,
       "_view_module": "@jupyter-widgets/controls",
       "_view_module_version": "2.0.0",
       "_view_name": null,
       "source": [
        "IPY_MODEL_e87f2bdae010499a8c28728d6510dfb6",
        "max"
       ],
       "target": [
        "IPY_MODEL_676c1e6b8dd443659593e3c10904e24d",
        "max_frame"
       ]
      }
     },
     "9c51012bcd2b41c5af9d2de177baab3c": {
      "model_module": "@jupyter-widgets/controls",
      "model_module_version": "2.0.0",
      "model_name": "SliderStyleModel",
      "state": {
       "_model_module": "@jupyter-widgets/controls",
       "_model_module_version": "2.0.0",
       "_model_name": "SliderStyleModel",
       "_view_count": null,
       "_view_module": "@jupyter-widgets/base",
       "_view_module_version": "2.0.0",
       "_view_name": "StyleView",
       "description_width": "",
       "handle_color": null
      }
     },
     "a9b2bec269ea43ff9195982d3c826852": {
      "model_module": "@jupyter-widgets/base",
      "model_module_version": "2.0.0",
      "model_name": "LayoutModel",
      "state": {
       "_model_module": "@jupyter-widgets/base",
       "_model_module_version": "2.0.0",
       "_model_name": "LayoutModel",
       "_view_count": null,
       "_view_module": "@jupyter-widgets/base",
       "_view_module_version": "2.0.0",
       "_view_name": "LayoutView",
       "align_content": null,
       "align_items": null,
       "align_self": null,
       "border_bottom": null,
       "border_left": null,
       "border_right": null,
       "border_top": null,
       "bottom": null,
       "display": null,
       "flex": null,
       "flex_flow": null,
       "grid_area": null,
       "grid_auto_columns": null,
       "grid_auto_flow": null,
       "grid_auto_rows": null,
       "grid_column": null,
       "grid_gap": null,
       "grid_row": null,
       "grid_template_areas": null,
       "grid_template_columns": null,
       "grid_template_rows": null,
       "height": null,
       "justify_content": null,
       "justify_items": null,
       "left": null,
       "margin": null,
       "max_height": null,
       "max_width": null,
       "min_height": null,
       "min_width": null,
       "object_fit": null,
       "object_position": null,
       "order": null,
       "overflow": null,
       "padding": null,
       "right": null,
       "top": null,
       "visibility": null,
       "width": null
      }
     },
     "aabb9271dd0b41c29f215c9b4b5d56fc": {
      "buffers": [
       {
        "data": "",
        "encoding": "base64",
        "path": [
         "value"
        ]
       }
      ],
      "model_module": "@jupyter-widgets/controls",
      "model_module_version": "2.0.0",
      "model_name": "ImageModel",
      "state": {
       "_dom_classes": [],
       "_model_module": "@jupyter-widgets/controls",
       "_model_module_version": "2.0.0",
       "_model_name": "ImageModel",
       "_view_count": null,
       "_view_module": "@jupyter-widgets/controls",
       "_view_module_version": "2.0.0",
       "_view_name": "ImageView",
       "format": "png",
       "height": "",
       "layout": "IPY_MODEL_2e94589c6fc8460c8d21d1fab5599e04",
       "tabbable": null,
       "tooltip": null,
       "width": "900.0"
      }
     },
     "b5e8b8554eb24308bb31030d0fb894fa": {
      "model_module": "@jupyter-widgets/base",
      "model_module_version": "2.0.0",
      "model_name": "LayoutModel",
      "state": {
       "_model_module": "@jupyter-widgets/base",
       "_model_module_version": "2.0.0",
       "_model_name": "LayoutModel",
       "_view_count": null,
       "_view_module": "@jupyter-widgets/base",
       "_view_module_version": "2.0.0",
       "_view_name": "LayoutView",
       "align_content": null,
       "align_items": null,
       "align_self": null,
       "border_bottom": null,
       "border_left": null,
       "border_right": null,
       "border_top": null,
       "bottom": null,
       "display": null,
       "flex": null,
       "flex_flow": null,
       "grid_area": null,
       "grid_auto_columns": null,
       "grid_auto_flow": null,
       "grid_auto_rows": null,
       "grid_column": null,
       "grid_gap": null,
       "grid_row": null,
       "grid_template_areas": null,
       "grid_template_columns": null,
       "grid_template_rows": null,
       "height": null,
       "justify_content": null,
       "justify_items": null,
       "left": null,
       "margin": null,
       "max_height": null,
       "max_width": null,
       "min_height": null,
       "min_width": null,
       "object_fit": null,
       "object_position": null,
       "order": null,
       "overflow": null,
       "padding": null,
       "right": null,
       "top": null,
       "visibility": null,
       "width": null
      }
     },
     "c11d93000d0b4901914bc9160a0b6926": {
      "model_module": "@jupyter-widgets/base",
      "model_module_version": "2.0.0",
      "model_name": "LayoutModel",
      "state": {
       "_model_module": "@jupyter-widgets/base",
       "_model_module_version": "2.0.0",
       "_model_name": "LayoutModel",
       "_view_count": null,
       "_view_module": "@jupyter-widgets/base",
       "_view_module_version": "2.0.0",
       "_view_name": "LayoutView",
       "align_content": null,
       "align_items": null,
       "align_self": null,
       "border_bottom": null,
       "border_left": null,
       "border_right": null,
       "border_top": null,
       "bottom": null,
       "display": null,
       "flex": null,
       "flex_flow": null,
       "grid_area": null,
       "grid_auto_columns": null,
       "grid_auto_flow": null,
       "grid_auto_rows": null,
       "grid_column": null,
       "grid_gap": null,
       "grid_row": null,
       "grid_template_areas": null,
       "grid_template_columns": null,
       "grid_template_rows": null,
       "height": null,
       "justify_content": null,
       "justify_items": null,
       "left": null,
       "margin": null,
       "max_height": null,
       "max_width": null,
       "min_height": null,
       "min_width": null,
       "object_fit": null,
       "object_position": null,
       "order": null,
       "overflow": null,
       "padding": null,
       "right": null,
       "top": null,
       "visibility": null,
       "width": null
      }
     },
     "ce4de252a72c49d58a172a954783d16f": {
      "model_module": "@jupyter-widgets/base",
      "model_module_version": "2.0.0",
      "model_name": "LayoutModel",
      "state": {
       "_model_module": "@jupyter-widgets/base",
       "_model_module_version": "2.0.0",
       "_model_name": "LayoutModel",
       "_view_count": null,
       "_view_module": "@jupyter-widgets/base",
       "_view_module_version": "2.0.0",
       "_view_name": "LayoutView",
       "align_content": null,
       "align_items": null,
       "align_self": null,
       "border_bottom": null,
       "border_left": null,
       "border_right": null,
       "border_top": null,
       "bottom": null,
       "display": null,
       "flex": null,
       "flex_flow": null,
       "grid_area": null,
       "grid_auto_columns": null,
       "grid_auto_flow": null,
       "grid_auto_rows": null,
       "grid_column": null,
       "grid_gap": null,
       "grid_row": null,
       "grid_template_areas": null,
       "grid_template_columns": null,
       "grid_template_rows": null,
       "height": null,
       "justify_content": null,
       "justify_items": null,
       "left": null,
       "margin": null,
       "max_height": null,
       "max_width": null,
       "min_height": null,
       "min_width": null,
       "object_fit": null,
       "object_position": null,
       "order": null,
       "overflow": null,
       "padding": null,
       "right": null,
       "top": null,
       "visibility": null,
       "width": "34px"
      }
     },
     "e87f2bdae010499a8c28728d6510dfb6": {
      "model_module": "@jupyter-widgets/controls",
      "model_module_version": "2.0.0",
      "model_name": "PlayModel",
      "state": {
       "_dom_classes": [],
       "_model_module": "@jupyter-widgets/controls",
       "_model_module_version": "2.0.0",
       "_model_name": "PlayModel",
       "_view_count": null,
       "_view_module": "@jupyter-widgets/controls",
       "_view_module_version": "2.0.0",
       "_view_name": "PlayView",
       "description": "",
       "description_allow_html": false,
       "disabled": false,
       "interval": 100,
       "layout": "IPY_MODEL_0d273f015f1c48e9b3024e71f3258176",
       "max": 0,
       "min": 0,
       "playing": false,
       "repeat": false,
       "show_repeat": true,
       "step": 1,
       "style": "IPY_MODEL_6be66af34e1141568071b418ea195384",
       "tabbable": null,
       "tooltip": null,
       "value": 0
      }
     }
    },
    "version_major": 2,
    "version_minor": 0
   }
  }
 },
 "nbformat": 4,
 "nbformat_minor": 4
}
