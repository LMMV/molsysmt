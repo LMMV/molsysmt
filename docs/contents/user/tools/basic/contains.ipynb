{
 "cells": [
  {
   "cell_type": "code",
   "execution_count": 1,
   "id": "5fe9e873-b142-4134-9d85-958487e57ee1",
   "metadata": {
    "tags": [
     "remove-input"
    ]
   },
   "outputs": [],
   "source": [
    "# This cell is removed with the tag: \"remove-input\"\n",
    "# As such, it will not be shown in documentation\n",
    "\n",
    "\n",
    "#import warnings\n",
    "#warnings.filterwarnings('ignore')"
   ]
  },
  {
   "cell_type": "markdown",
   "id": "5146fd03-ff69-465c-8385-9314ad9315c6",
   "metadata": {},
   "source": [
    "(Tutorial_Contains)=\n",
    "# Contains\n",
    "\n",
    "*Checking if a molecular system contains certain elements*\n",
    "\n",
    "The function {func}`molsysmt.basic.contains` can check whether or not a molecular system contains certain elements without the need to resort to {func}`molsysmt.basic.get`.\n",
    "\n",
    "```{admonition} API documentation\n",
    "Follow this link for a detailed description of the input arguments, raised errors, and returned objects of this function:{func}`molsysmt.basic.contains`.\n",
    "```\n",
    "\n",
    "Let's illustrate how this method work with the following molecular system:"
   ]
  },
  {
   "cell_type": "code",
   "execution_count": 2,
   "id": "0f0ba0ab-b67e-45c9-86d4-a1d1f5eba3f9",
   "metadata": {},
   "outputs": [
    {
     "data": {
      "application/vnd.jupyter.widget-view+json": {
       "model_id": "86a588e8624f4e1ea80708f072ebcc5b",
       "version_major": 2,
       "version_minor": 0
      },
      "text/plain": []
     },
     "metadata": {},
     "output_type": "display_data"
    }
   ],
   "source": [
    "import molsysmt as msm"
   ]
  },
  {
   "cell_type": "code",
   "execution_count": 3,
   "id": "2309a1c3-7fe5-4e59-83c0-0fbd8a32c0aa",
   "metadata": {},
   "outputs": [],
   "source": [
    "molsys = msm.convert('pdb_id:181L', to_form='molsysmt.MolSys')"
   ]
  },
  {
   "cell_type": "code",
   "execution_count": 4,
   "id": "7443e65e-89d5-44fe-be63-98c03aaea066",
   "metadata": {
    "tags": [
     "scroll-output"
    ]
   },
   "outputs": [
    {
     "data": {
      "text/html": [
       "<style type=\"text/css\">\n",
       "</style>\n",
       "<table id=\"T_4d3bc\">\n",
       "  <thead>\n",
       "    <tr>\n",
       "      <th id=\"T_4d3bc_level0_col0\" class=\"col_heading level0 col0\" >form</th>\n",
       "      <th id=\"T_4d3bc_level0_col1\" class=\"col_heading level0 col1\" >n_atoms</th>\n",
       "      <th id=\"T_4d3bc_level0_col2\" class=\"col_heading level0 col2\" >n_groups</th>\n",
       "      <th id=\"T_4d3bc_level0_col3\" class=\"col_heading level0 col3\" >n_components</th>\n",
       "      <th id=\"T_4d3bc_level0_col4\" class=\"col_heading level0 col4\" >n_chains</th>\n",
       "      <th id=\"T_4d3bc_level0_col5\" class=\"col_heading level0 col5\" >n_molecules</th>\n",
       "      <th id=\"T_4d3bc_level0_col6\" class=\"col_heading level0 col6\" >n_entities</th>\n",
       "      <th id=\"T_4d3bc_level0_col7\" class=\"col_heading level0 col7\" >n_waters</th>\n",
       "      <th id=\"T_4d3bc_level0_col8\" class=\"col_heading level0 col8\" >n_ions</th>\n",
       "      <th id=\"T_4d3bc_level0_col9\" class=\"col_heading level0 col9\" >n_small_molecules</th>\n",
       "      <th id=\"T_4d3bc_level0_col10\" class=\"col_heading level0 col10\" >n_proteins</th>\n",
       "      <th id=\"T_4d3bc_level0_col11\" class=\"col_heading level0 col11\" >n_structures</th>\n",
       "    </tr>\n",
       "  </thead>\n",
       "  <tbody>\n",
       "    <tr>\n",
       "      <td id=\"T_4d3bc_row0_col0\" class=\"data row0 col0\" >molsysmt.MolSys</td>\n",
       "      <td id=\"T_4d3bc_row0_col1\" class=\"data row0 col1\" >1441</td>\n",
       "      <td id=\"T_4d3bc_row0_col2\" class=\"data row0 col2\" >302</td>\n",
       "      <td id=\"T_4d3bc_row0_col3\" class=\"data row0 col3\" >141</td>\n",
       "      <td id=\"T_4d3bc_row0_col4\" class=\"data row0 col4\" >6</td>\n",
       "      <td id=\"T_4d3bc_row0_col5\" class=\"data row0 col5\" >141</td>\n",
       "      <td id=\"T_4d3bc_row0_col6\" class=\"data row0 col6\" >4</td>\n",
       "      <td id=\"T_4d3bc_row0_col7\" class=\"data row0 col7\" >136</td>\n",
       "      <td id=\"T_4d3bc_row0_col8\" class=\"data row0 col8\" >2</td>\n",
       "      <td id=\"T_4d3bc_row0_col9\" class=\"data row0 col9\" >2</td>\n",
       "      <td id=\"T_4d3bc_row0_col10\" class=\"data row0 col10\" >1</td>\n",
       "      <td id=\"T_4d3bc_row0_col11\" class=\"data row0 col11\" >1</td>\n",
       "    </tr>\n",
       "  </tbody>\n",
       "</table>\n"
      ],
      "text/plain": [
       "<pandas.io.formats.style.Styler at 0x7f96cb5bd810>"
      ]
     },
     "execution_count": 4,
     "metadata": {},
     "output_type": "execute_result"
    }
   ],
   "source": [
    "msm.info(molsys)"
   ]
  },
  {
   "cell_type": "markdown",
   "id": "fbb93579-57c0-4a40-96bb-1280f2ed5fe1",
   "metadata": {},
   "source": [
    "Let's check if the system contains water molecules:"
   ]
  },
  {
   "cell_type": "code",
   "execution_count": 5,
   "id": "a3b47f5c-15d6-4c26-ab44-49e4afb3c49a",
   "metadata": {},
   "outputs": [
    {
     "data": {
      "text/plain": [
       "True"
      ]
     },
     "execution_count": 5,
     "metadata": {},
     "output_type": "execute_result"
    }
   ],
   "source": [
    "msm.contains(molsys, waters=True)"
   ]
  },
  {
   "cell_type": "markdown",
   "id": "7c320092-add6-4bb1-ab0f-7d5cd3cf1f93",
   "metadata": {},
   "source": [
    "```{admonition} Tip\n",
    ":class: tip\n",
    "All methods defined in the {ref}`molsysmt.basic <API basic>` module can be invoked also from the main level of the library. As such, {func}`molsysmt.contains` is the same method as {func}`molsysmt.basic.contains`.\n",
    "```"
   ]
  },
  {
   "cell_type": "markdown",
   "id": "293d21b6-f85a-4da2-aaba-2950f6f937f6",
   "metadata": {},
   "source": [
    "Or ions, small molecules and proteins:"
   ]
  },
  {
   "cell_type": "code",
   "execution_count": 6,
   "id": "e81c397a-61da-49ed-94b7-242f2d4ed4ba",
   "metadata": {},
   "outputs": [
    {
     "data": {
      "text/plain": [
       "True"
      ]
     },
     "execution_count": 6,
     "metadata": {},
     "output_type": "execute_result"
    }
   ],
   "source": [
    "msm.contains(molsys, ions=True, small_molecules=True, proteins=True)"
   ]
  },
  {
   "cell_type": "markdown",
   "id": "88263618-1afd-45ce-9ef1-ff3077dac8ea",
   "metadata": {},
   "source": [
    "The function {func}`molsysmt.basic.contains` can also be used to check if the system does not contain a molecule type:"
   ]
  },
  {
   "cell_type": "code",
   "execution_count": 7,
   "id": "cff5be21-08f0-4349-ba27-81230a62d9ab",
   "metadata": {},
   "outputs": [
    {
     "data": {
      "text/plain": [
       "True"
      ]
     },
     "execution_count": 7,
     "metadata": {},
     "output_type": "execute_result"
    }
   ],
   "source": [
    "msm.contains(molsys, proteins=True, lipids=False)"
   ]
  },
  {
   "cell_type": "markdown",
   "id": "d3aded9a-9284-43cc-a8e1-f94e0d397ef0",
   "metadata": {},
   "source": [
    "Or it does contain a specific amount of molecules:"
   ]
  },
  {
   "cell_type": "code",
   "execution_count": 8,
   "id": "6ac59d10-06dd-4992-b0f4-50e020143738",
   "metadata": {},
   "outputs": [
    {
     "data": {
      "text/plain": [
       "True"
      ]
     },
     "execution_count": 8,
     "metadata": {},
     "output_type": "execute_result"
    }
   ],
   "source": [
    "msm.contains(molsys, small_molecules=2, ions=2)"
   ]
  },
  {
   "cell_type": "code",
   "execution_count": 9,
   "id": "9e160e34-3295-406a-9d3f-adc9ddc45aa5",
   "metadata": {},
   "outputs": [
    {
     "data": {
      "text/plain": [
       "False"
      ]
     },
     "execution_count": 9,
     "metadata": {},
     "output_type": "execute_result"
    }
   ],
   "source": [
    "msm.contains(molsys, small_molecules=2, proteins=2)"
   ]
  },
  {
   "cell_type": "code",
   "execution_count": 10,
   "id": "92a16289-16b8-4d45-bc2b-e1b1d5ab5376",
   "metadata": {},
   "outputs": [
    {
     "data": {
      "text/plain": [
       "False"
      ]
     },
     "execution_count": 10,
     "metadata": {},
     "output_type": "execute_result"
    }
   ],
   "source": [
    "msm.contains(molsys, selection='hydrogens')"
   ]
  },
  {
   "cell_type": "code",
   "execution_count": 11,
   "id": "71773f86-ae82-40e1-83ca-a5cc28874b7a",
   "metadata": {},
   "outputs": [
    {
     "data": {
      "text/plain": [
       "0"
      ]
     },
     "execution_count": 11,
     "metadata": {},
     "output_type": "execute_result"
    }
   ],
   "source": [
    "msm.get(molsys, element='atom', selection='hydrogens', n_atoms=True)"
   ]
  },
  {
   "cell_type": "code",
   "execution_count": 12,
   "id": "5894f112-1a65-4aa6-b8dd-79fef1292f34",
   "metadata": {},
   "outputs": [
    {
     "data": {
      "text/plain": [
       "False"
      ]
     },
     "execution_count": 12,
     "metadata": {},
     "output_type": "execute_result"
    }
   ],
   "source": [
    "msm.contains(molsys, selection='molecule_type==\"small molecule\" and atom_name==[\"CA\", \"CB\"]')"
   ]
  },
  {
   "cell_type": "code",
   "execution_count": 13,
   "id": "221b7ce2-b4db-490b-aa82-527920e8dbb3",
   "metadata": {},
   "outputs": [
    {
     "data": {
      "text/plain": [
       "2"
      ]
     },
     "execution_count": 13,
     "metadata": {},
     "output_type": "execute_result"
    }
   ],
   "source": [
    "msm.get(molsys, element='system', n_small_molecules=True)"
   ]
  },
  {
   "cell_type": "code",
   "execution_count": 14,
   "id": "8dd812db-36a4-4f3d-ad34-753a70df2aa5",
   "metadata": {},
   "outputs": [
    {
     "data": {
      "text/plain": [
       "2"
      ]
     },
     "execution_count": 14,
     "metadata": {},
     "output_type": "execute_result"
    }
   ],
   "source": [
    "msm.get(molsys, element='atom', selection='molecule_type!=\"water\"', n_small_molecules=True)"
   ]
  },
  {
   "cell_type": "code",
   "execution_count": 15,
   "id": "8cc1921e-d46f-4d8f-ae14-6739b663e98c",
   "metadata": {},
   "outputs": [
    {
     "ename": "NotImplementedMethodError",
     "evalue": "This method was not implemented yet.",
     "output_type": "error",
     "traceback": [
      "\u001b[0;31m---------------------------------------------------------------------------\u001b[0m",
      "\u001b[0;31mNotImplementedMethodError\u001b[0m                 Traceback (most recent call last)",
      "Cell \u001b[0;32mIn[15], line 1\u001b[0m\n\u001b[0;32m----> 1\u001b[0m \u001b[43mmsm\u001b[49m\u001b[38;5;241;43m.\u001b[39;49m\u001b[43mcontains\u001b[49m\u001b[43m(\u001b[49m\u001b[43mmolsys\u001b[49m\u001b[43m,\u001b[49m\u001b[43m \u001b[49m\u001b[43mselection\u001b[49m\u001b[38;5;241;43m=\u001b[39;49m\u001b[38;5;124;43m'\u001b[39;49m\u001b[38;5;124;43mmolecule_type!=\u001b[39;49m\u001b[38;5;124;43m\"\u001b[39;49m\u001b[38;5;124;43mwater\u001b[39;49m\u001b[38;5;124;43m\"\u001b[39;49m\u001b[38;5;124;43m'\u001b[39;49m\u001b[43m,\u001b[49m\u001b[43m \u001b[49m\u001b[43msmall_molecules\u001b[49m\u001b[38;5;241;43m=\u001b[39;49m\u001b[38;5;241;43m2\u001b[39;49m\u001b[43m)\u001b[49m\n",
      "File \u001b[0;32m~/projects@uibcdf/MolSysMT/molsysmt/_private/digestion/digest.py:117\u001b[0m, in \u001b[0;36mdigest.<locals>.digestor.<locals>.wrapper\u001b[0;34m(*args, **kwargs)\u001b[0m\n\u001b[1;32m    115\u001b[0m     \u001b[38;5;28;01mreturn\u001b[39;00m func(all_args[\u001b[38;5;124m'\u001b[39m\u001b[38;5;124mself\u001b[39m\u001b[38;5;124m'\u001b[39m], \u001b[38;5;241m*\u001b[39m\u001b[38;5;241m*\u001b[39mfinal_args)\n\u001b[1;32m    116\u001b[0m \u001b[38;5;28;01melse\u001b[39;00m:\n\u001b[0;32m--> 117\u001b[0m     \u001b[38;5;28;01mreturn\u001b[39;00m \u001b[43mfunc\u001b[49m\u001b[43m(\u001b[49m\u001b[38;5;241;43m*\u001b[39;49m\u001b[38;5;241;43m*\u001b[39;49m\u001b[43mfinal_args\u001b[49m\u001b[43m)\u001b[49m\n",
      "File \u001b[0;32m~/projects@uibcdf/MolSysMT/molsysmt/basic/contains.py:45\u001b[0m, in \u001b[0;36mcontains\u001b[0;34m(molecular_system, selection, syntax, **kwargs)\u001b[0m\n\u001b[1;32m     41\u001b[0m n_atts_required \u001b[38;5;241m=\u001b[39m \u001b[38;5;28mlen\u001b[39m(atts_required)\n\u001b[1;32m     43\u001b[0m \u001b[38;5;28;01mif\u001b[39;00m n_atts_required:\n\u001b[0;32m---> 45\u001b[0m     atts_values \u001b[38;5;241m=\u001b[39m \u001b[43mget\u001b[49m\u001b[43m(\u001b[49m\u001b[43mmolecular_system\u001b[49m\u001b[43m,\u001b[49m\u001b[43m \u001b[49m\u001b[43mselection\u001b[49m\u001b[38;5;241;43m=\u001b[39;49m\u001b[43mselection\u001b[49m\u001b[43m,\u001b[49m\u001b[43m \u001b[49m\u001b[43msyntax\u001b[49m\u001b[38;5;241;43m=\u001b[39;49m\u001b[43msyntax\u001b[49m\u001b[43m,\u001b[49m\u001b[43m \u001b[49m\u001b[38;5;241;43m*\u001b[39;49m\u001b[38;5;241;43m*\u001b[39;49m\u001b[43maux_atts\u001b[49m\u001b[43m)\u001b[49m\n\u001b[1;32m     48\u001b[0m     \u001b[38;5;28;01mif\u001b[39;00m n_atts_required\u001b[38;5;241m==\u001b[39m\u001b[38;5;241m1\u001b[39m:\n\u001b[1;32m     49\u001b[0m         atts_values \u001b[38;5;241m=\u001b[39m [atts_values]\n",
      "File \u001b[0;32m~/projects@uibcdf/MolSysMT/molsysmt/_private/digestion/digest.py:117\u001b[0m, in \u001b[0;36mdigest.<locals>.digestor.<locals>.wrapper\u001b[0;34m(*args, **kwargs)\u001b[0m\n\u001b[1;32m    115\u001b[0m     \u001b[38;5;28;01mreturn\u001b[39;00m func(all_args[\u001b[38;5;124m'\u001b[39m\u001b[38;5;124mself\u001b[39m\u001b[38;5;124m'\u001b[39m], \u001b[38;5;241m*\u001b[39m\u001b[38;5;241m*\u001b[39mfinal_args)\n\u001b[1;32m    116\u001b[0m \u001b[38;5;28;01melse\u001b[39;00m:\n\u001b[0;32m--> 117\u001b[0m     \u001b[38;5;28;01mreturn\u001b[39;00m \u001b[43mfunc\u001b[49m\u001b[43m(\u001b[49m\u001b[38;5;241;43m*\u001b[39;49m\u001b[38;5;241;43m*\u001b[39;49m\u001b[43mfinal_args\u001b[49m\u001b[43m)\u001b[49m\n",
      "File \u001b[0;32m~/projects@uibcdf/MolSysMT/molsysmt/basic/get.py:91\u001b[0m, in \u001b[0;36mget\u001b[0;34m(molecular_system, element, indices, selection, structure_indices, mask, syntax, output_type, **kwargs)\u001b[0m\n\u001b[1;32m     89\u001b[0m \u001b[38;5;28;01mif\u001b[39;00m indices \u001b[38;5;129;01mis\u001b[39;00m \u001b[38;5;28;01mNone\u001b[39;00m:\n\u001b[1;32m     90\u001b[0m     \u001b[38;5;28;01mif\u001b[39;00m \u001b[38;5;129;01mnot\u001b[39;00m is_all(selection):\n\u001b[0;32m---> 91\u001b[0m         indices \u001b[38;5;241m=\u001b[39m \u001b[43mselect\u001b[49m\u001b[43m(\u001b[49m\u001b[43mmolecular_system\u001b[49m\u001b[43m,\u001b[49m\u001b[43m \u001b[49m\u001b[43melement\u001b[49m\u001b[38;5;241;43m=\u001b[39;49m\u001b[43melement\u001b[49m\u001b[43m,\u001b[49m\u001b[43m \u001b[49m\u001b[43mselection\u001b[49m\u001b[38;5;241;43m=\u001b[39;49m\u001b[43mselection\u001b[49m\u001b[43m,\u001b[49m\u001b[43m \u001b[49m\u001b[43mmask\u001b[49m\u001b[38;5;241;43m=\u001b[39;49m\u001b[43mmask\u001b[49m\u001b[43m,\u001b[49m\u001b[43m \u001b[49m\u001b[43msyntax\u001b[49m\u001b[38;5;241;43m=\u001b[39;49m\u001b[43msyntax\u001b[49m\u001b[43m)\u001b[49m\n\u001b[1;32m     92\u001b[0m     \u001b[38;5;28;01melse\u001b[39;00m:\n\u001b[1;32m     93\u001b[0m         \u001b[38;5;28;01mif\u001b[39;00m (mask \u001b[38;5;129;01mis\u001b[39;00m \u001b[38;5;28;01mNone\u001b[39;00m) \u001b[38;5;129;01mor\u001b[39;00m (is_all(mask)):\n",
      "File \u001b[0;32m~/projects@uibcdf/MolSysMT/molsysmt/_private/digestion/digest.py:117\u001b[0m, in \u001b[0;36mdigest.<locals>.digestor.<locals>.wrapper\u001b[0;34m(*args, **kwargs)\u001b[0m\n\u001b[1;32m    115\u001b[0m     \u001b[38;5;28;01mreturn\u001b[39;00m func(all_args[\u001b[38;5;124m'\u001b[39m\u001b[38;5;124mself\u001b[39m\u001b[38;5;124m'\u001b[39m], \u001b[38;5;241m*\u001b[39m\u001b[38;5;241m*\u001b[39mfinal_args)\n\u001b[1;32m    116\u001b[0m \u001b[38;5;28;01melse\u001b[39;00m:\n\u001b[0;32m--> 117\u001b[0m     \u001b[38;5;28;01mreturn\u001b[39;00m \u001b[43mfunc\u001b[49m\u001b[43m(\u001b[49m\u001b[38;5;241;43m*\u001b[39;49m\u001b[38;5;241;43m*\u001b[39;49m\u001b[43mfinal_args\u001b[49m\u001b[43m)\u001b[49m\n",
      "File \u001b[0;32m~/projects@uibcdf/MolSysMT/molsysmt/basic/select.py:189\u001b[0m, in \u001b[0;36mselect\u001b[0;34m(molecular_system, selection, structure_indices, element, mask, syntax, to_syntax)\u001b[0m\n\u001b[1;32m    187\u001b[0m         output_indices \u001b[38;5;241m=\u001b[39m _dict_modules[aux_form]\u001b[38;5;241m.\u001b[39mget_inner_bond_index_from_atom(aux_item, indices\u001b[38;5;241m=\u001b[39matom_indices)\n\u001b[1;32m    188\u001b[0m     \u001b[38;5;28;01melse\u001b[39;00m:\n\u001b[0;32m--> 189\u001b[0m         \u001b[38;5;28;01mraise\u001b[39;00m NotImplementedMethodError()\n\u001b[1;32m    191\u001b[0m \u001b[38;5;28;01melse\u001b[39;00m:\n\u001b[1;32m    193\u001b[0m     output_indices \u001b[38;5;241m=\u001b[39m selection\n",
      "\u001b[0;31mNotImplementedMethodError\u001b[0m: This method was not implemented yet."
     ]
    }
   ],
   "source": [
    "msm.contains(molsys, selection='molecule_type!=\"water\"', small_molecules=2)"
   ]
  },
  {
   "cell_type": "markdown",
   "id": "5c7c24e5-0011-4323-acb2-7686e90fe163",
   "metadata": {},
   "source": [
    ":::{seealso}\n",
    "[User guide > Introduction > Molecular System > Elements](../../intro/molecular_systems/elements.md):    \n",
    "[User guide > Tools > Basic > Convert](convert.ipynb): Converting a molecular system into other form.    \n",
    "[User guide > Tools > Basic > Info](info.ipynb): Printing out summary information of a molecular system.    \n",
    "[User guide > Tools > Basic > Get](get.ipynb): Getting attributes from a molecular system.    \n",
    ":::"
   ]
  }
 ],
 "metadata": {
  "kernelspec": {
   "display_name": "Python 3 (ipykernel)",
   "language": "python",
   "name": "python3"
  },
  "language_info": {
   "codemirror_mode": {
    "name": "ipython",
    "version": 3
   },
   "file_extension": ".py",
   "mimetype": "text/x-python",
   "name": "python",
   "nbconvert_exporter": "python",
   "pygments_lexer": "ipython3",
   "version": "3.10.11"
  }
 },
 "nbformat": 4,
 "nbformat_minor": 5
}
