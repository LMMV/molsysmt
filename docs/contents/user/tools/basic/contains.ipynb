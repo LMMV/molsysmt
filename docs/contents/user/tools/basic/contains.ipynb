{
 "cells": [
  {
   "cell_type": "code",
   "execution_count": 1,
   "id": "5fe9e873-b142-4134-9d85-958487e57ee1",
   "metadata": {
    "execution": {
     "iopub.execute_input": "2025-04-12T21:51:51.855618Z",
     "iopub.status.busy": "2025-04-12T21:51:51.855268Z",
     "iopub.status.idle": "2025-04-12T21:51:51.860184Z",
     "shell.execute_reply": "2025-04-12T21:51:51.859089Z"
    },
    "tags": [
     "remove-input"
    ]
   },
   "outputs": [],
   "source": [
    "# This cell is removed with the tag: \"remove-input\"\n",
    "# As such, it will not be shown in documentation\n",
    "\n",
    "#import warnings\n",
    "#warnings.filterwarnings('ignore')"
   ]
  },
  {
   "cell_type": "markdown",
   "id": "5146fd03-ff69-465c-8385-9314ad9315c6",
   "metadata": {},
   "source": [
    "(Tutorial_Contains)=\n",
    "# Contains\n",
    "\n",
    "*Checking whether a molecular system contains specific elements or attributes*\n",
    "\n",
    "The function {func}`molsysmt.basic.contains` can check whether or not a molecular system contains certain elements or attributes without the need to use {func}`molsysmt.basic.get`.\n",
    "\n",
    "## How this function works\n",
    "\n",
    "```{admonition} API documentation\n",
    "Follow this link for a detailed description of the input arguments, raised errors, and returned objects of this function:{func}`molsysmt.basic.contains`.\n",
    "```\n",
    "\n",
    "Let's illustrate how this function works using the following molecular system:"
   ]
  },
  {
   "cell_type": "code",
   "execution_count": 2,
   "id": "0f0ba0ab-b67e-45c9-86d4-a1d1f5eba3f9",
   "metadata": {
    "execution": {
     "iopub.execute_input": "2025-04-12T21:51:51.863510Z",
     "iopub.status.busy": "2025-04-12T21:51:51.863132Z",
     "iopub.status.idle": "2025-04-12T21:51:57.042304Z",
     "shell.execute_reply": "2025-04-12T21:51:57.041408Z"
    }
   },
   "outputs": [
    {
     "data": {
      "application/vnd.jupyter.widget-view+json": {
       "model_id": "f881dc400c27406f815f3462dff6fa13",
       "version_major": 2,
       "version_minor": 0
      },
      "text/plain": []
     },
     "metadata": {},
     "output_type": "display_data"
    }
   ],
   "source": [
    "import molsysmt as msm"
   ]
  },
  {
   "cell_type": "code",
   "execution_count": 3,
   "id": "2309a1c3-7fe5-4e59-83c0-0fbd8a32c0aa",
   "metadata": {
    "execution": {
     "iopub.execute_input": "2025-04-12T21:51:57.046892Z",
     "iopub.status.busy": "2025-04-12T21:51:57.046152Z",
     "iopub.status.idle": "2025-04-12T21:51:57.990625Z",
     "shell.execute_reply": "2025-04-12T21:51:57.989761Z"
    }
   },
   "outputs": [],
   "source": [
    "molsys = msm.convert('181L')"
   ]
  },
  {
   "cell_type": "code",
   "execution_count": 4,
   "id": "7443e65e-89d5-44fe-be63-98c03aaea066",
   "metadata": {
    "execution": {
     "iopub.execute_input": "2025-04-12T21:51:57.994221Z",
     "iopub.status.busy": "2025-04-12T21:51:57.993762Z",
     "iopub.status.idle": "2025-04-12T21:51:59.027995Z",
     "shell.execute_reply": "2025-04-12T21:51:59.027089Z"
    },
    "tags": [
     "scroll-output"
    ]
   },
   "outputs": [
    {
     "data": {
      "text/html": [
       "<style type=\"text/css\">\n",
       "</style>\n",
       "<table id=\"T_622fc\">\n",
       "  <thead>\n",
       "    <tr>\n",
       "      <th id=\"T_622fc_level0_col0\" class=\"col_heading level0 col0\" >form</th>\n",
       "      <th id=\"T_622fc_level0_col1\" class=\"col_heading level0 col1\" >n_atoms</th>\n",
       "      <th id=\"T_622fc_level0_col2\" class=\"col_heading level0 col2\" >n_groups</th>\n",
       "      <th id=\"T_622fc_level0_col3\" class=\"col_heading level0 col3\" >n_components</th>\n",
       "      <th id=\"T_622fc_level0_col4\" class=\"col_heading level0 col4\" >n_chains</th>\n",
       "      <th id=\"T_622fc_level0_col5\" class=\"col_heading level0 col5\" >n_molecules</th>\n",
       "      <th id=\"T_622fc_level0_col6\" class=\"col_heading level0 col6\" >n_entities</th>\n",
       "      <th id=\"T_622fc_level0_col7\" class=\"col_heading level0 col7\" >n_waters</th>\n",
       "      <th id=\"T_622fc_level0_col8\" class=\"col_heading level0 col8\" >n_ions</th>\n",
       "      <th id=\"T_622fc_level0_col9\" class=\"col_heading level0 col9\" >n_small_molecules</th>\n",
       "      <th id=\"T_622fc_level0_col10\" class=\"col_heading level0 col10\" >n_proteins</th>\n",
       "      <th id=\"T_622fc_level0_col11\" class=\"col_heading level0 col11\" >n_structures</th>\n",
       "    </tr>\n",
       "  </thead>\n",
       "  <tbody>\n",
       "    <tr>\n",
       "      <td id=\"T_622fc_row0_col0\" class=\"data row0 col0\" >molsysmt.MolSys</td>\n",
       "      <td id=\"T_622fc_row0_col1\" class=\"data row0 col1\" >1441</td>\n",
       "      <td id=\"T_622fc_row0_col2\" class=\"data row0 col2\" >302</td>\n",
       "      <td id=\"T_622fc_row0_col3\" class=\"data row0 col3\" >141</td>\n",
       "      <td id=\"T_622fc_row0_col4\" class=\"data row0 col4\" >6</td>\n",
       "      <td id=\"T_622fc_row0_col5\" class=\"data row0 col5\" >141</td>\n",
       "      <td id=\"T_622fc_row0_col6\" class=\"data row0 col6\" >5</td>\n",
       "      <td id=\"T_622fc_row0_col7\" class=\"data row0 col7\" >136</td>\n",
       "      <td id=\"T_622fc_row0_col8\" class=\"data row0 col8\" >2</td>\n",
       "      <td id=\"T_622fc_row0_col9\" class=\"data row0 col9\" >2</td>\n",
       "      <td id=\"T_622fc_row0_col10\" class=\"data row0 col10\" >1</td>\n",
       "      <td id=\"T_622fc_row0_col11\" class=\"data row0 col11\" >1</td>\n",
       "    </tr>\n",
       "  </tbody>\n",
       "</table>\n"
      ],
      "text/plain": [
       "<pandas.io.formats.style.Styler at 0x7f8298430350>"
      ]
     },
     "execution_count": 4,
     "metadata": {},
     "output_type": "execute_result"
    }
   ],
   "source": [
    "msm.info(molsys)"
   ]
  },
  {
   "cell_type": "markdown",
   "id": "fbb93579-57c0-4a40-96bb-1280f2ed5fe1",
   "metadata": {},
   "source": [
    "Let's check if the system contains water molecules:"
   ]
  },
  {
   "cell_type": "code",
   "execution_count": 5,
   "id": "a3b47f5c-15d6-4c26-ab44-49e4afb3c49a",
   "metadata": {
    "execution": {
     "iopub.execute_input": "2025-04-12T21:51:59.032102Z",
     "iopub.status.busy": "2025-04-12T21:51:59.031611Z",
     "iopub.status.idle": "2025-04-12T21:51:59.169181Z",
     "shell.execute_reply": "2025-04-12T21:51:59.168373Z"
    }
   },
   "outputs": [
    {
     "data": {
      "text/plain": [
       "True"
      ]
     },
     "execution_count": 5,
     "metadata": {},
     "output_type": "execute_result"
    }
   ],
   "source": [
    "msm.contains(molsys, waters=True)"
   ]
  },
  {
   "cell_type": "markdown",
   "id": "7395a21e-553a-411f-9742-b28be0a907db",
   "metadata": {},
   "source": [
    "We can also check whether the system includes periodic boundary conditions:"
   ]
  },
  {
   "cell_type": "code",
   "execution_count": 6,
   "id": "fa6cf4e7-728f-46ce-96ce-0c5f0200c8b7",
   "metadata": {
    "execution": {
     "iopub.execute_input": "2025-04-12T21:51:59.172608Z",
     "iopub.status.busy": "2025-04-12T21:51:59.172374Z",
     "iopub.status.idle": "2025-04-12T21:51:59.318029Z",
     "shell.execute_reply": "2025-04-12T21:51:59.317237Z"
    }
   },
   "outputs": [
    {
     "data": {
      "text/plain": [
       "True"
      ]
     },
     "execution_count": 6,
     "metadata": {},
     "output_type": "execute_result"
    }
   ],
   "source": [
    "msm.contains(molsys, box=True)"
   ]
  },
  {
   "cell_type": "markdown",
   "id": "7c320092-add6-4bb1-ab0f-7d5cd3cf1f93",
   "metadata": {},
   "source": [
    "```{admonition} Tip\n",
    ":class: tip\n",
    "All methods defined in the {ref}`molsysmt.basic <API basic>` module can be invoked also from the main level of the library. As such, {func}`molsysmt.contains` is the same method as {func}`molsysmt.basic.contains`.\n",
    "```"
   ]
  },
  {
   "cell_type": "markdown",
   "id": "293d21b6-f85a-4da2-aaba-2950f6f937f6",
   "metadata": {},
   "source": [
    "Now let's verify if the system contains ions, small molecules, and proteins:"
   ]
  },
  {
   "cell_type": "code",
   "execution_count": 7,
   "id": "e81c397a-61da-49ed-94b7-242f2d4ed4ba",
   "metadata": {
    "execution": {
     "iopub.execute_input": "2025-04-12T21:51:59.321691Z",
     "iopub.status.busy": "2025-04-12T21:51:59.321385Z",
     "iopub.status.idle": "2025-04-12T21:51:59.580580Z",
     "shell.execute_reply": "2025-04-12T21:51:59.579732Z"
    }
   },
   "outputs": [
    {
     "data": {
      "text/plain": [
       "True"
      ]
     },
     "execution_count": 7,
     "metadata": {},
     "output_type": "execute_result"
    }
   ],
   "source": [
    "msm.contains(molsys, ions=True, small_molecules=True, proteins=True)"
   ]
  },
  {
   "cell_type": "markdown",
   "id": "88263618-1afd-45ce-9ef1-ff3077dac8ea",
   "metadata": {},
   "source": [
    "You can also check for the absence of specific elements or attributes:"
   ]
  },
  {
   "cell_type": "code",
   "execution_count": 8,
   "id": "cff5be21-08f0-4349-ba27-81230a62d9ab",
   "metadata": {
    "execution": {
     "iopub.execute_input": "2025-04-12T21:51:59.583097Z",
     "iopub.status.busy": "2025-04-12T21:51:59.582656Z",
     "iopub.status.idle": "2025-04-12T21:51:59.807375Z",
     "shell.execute_reply": "2025-04-12T21:51:59.806486Z"
    }
   },
   "outputs": [
    {
     "data": {
      "text/plain": [
       "True"
      ]
     },
     "execution_count": 8,
     "metadata": {},
     "output_type": "execute_result"
    }
   ],
   "source": [
    "msm.contains(molsys, proteins=True, lipids=False)"
   ]
  },
  {
   "cell_type": "markdown",
   "id": "d3aded9a-9284-43cc-a8e1-f94e0d397ef0",
   "metadata": {},
   "source": [
    "Or check whether the system contains a specific number of molecules:"
   ]
  },
  {
   "cell_type": "code",
   "execution_count": 9,
   "id": "6ac59d10-06dd-4992-b0f4-50e020143738",
   "metadata": {
    "execution": {
     "iopub.execute_input": "2025-04-12T21:51:59.810964Z",
     "iopub.status.busy": "2025-04-12T21:51:59.810632Z",
     "iopub.status.idle": "2025-04-12T21:52:00.015093Z",
     "shell.execute_reply": "2025-04-12T21:52:00.014229Z"
    }
   },
   "outputs": [
    {
     "data": {
      "text/plain": [
       "True"
      ]
     },
     "execution_count": 9,
     "metadata": {},
     "output_type": "execute_result"
    }
   ],
   "source": [
    "msm.contains(molsys, small_molecules=2, ions=2)"
   ]
  },
  {
   "cell_type": "code",
   "execution_count": 10,
   "id": "9e160e34-3295-406a-9d3f-adc9ddc45aa5",
   "metadata": {
    "execution": {
     "iopub.execute_input": "2025-04-12T21:52:00.018522Z",
     "iopub.status.busy": "2025-04-12T21:52:00.018266Z",
     "iopub.status.idle": "2025-04-12T21:52:00.214156Z",
     "shell.execute_reply": "2025-04-12T21:52:00.213422Z"
    }
   },
   "outputs": [
    {
     "data": {
      "text/plain": [
       "True"
      ]
     },
     "execution_count": 10,
     "metadata": {},
     "output_type": "execute_result"
    }
   ],
   "source": [
    "msm.contains(molsys, small_molecules=2, proteins=2)"
   ]
  },
  {
   "cell_type": "markdown",
   "id": "b89a60d2-6c17-4988-81e1-371139ba1979",
   "metadata": {},
   "source": [
    "The input argument `selection` can also be used instead of attributes:"
   ]
  },
  {
   "cell_type": "code",
   "execution_count": 11,
   "id": "92a16289-16b8-4d45-bc2b-e1b1d5ab5376",
   "metadata": {
    "execution": {
     "iopub.execute_input": "2025-04-12T21:52:00.217613Z",
     "iopub.status.busy": "2025-04-12T21:52:00.217326Z",
     "iopub.status.idle": "2025-04-12T21:52:00.414286Z",
     "shell.execute_reply": "2025-04-12T21:52:00.413390Z"
    }
   },
   "outputs": [
    {
     "data": {
      "text/plain": [
       "False"
      ]
     },
     "execution_count": 11,
     "metadata": {},
     "output_type": "execute_result"
    }
   ],
   "source": [
    "msm.contains(molsys, selection='hydrogens')"
   ]
  },
  {
   "cell_type": "code",
   "execution_count": 12,
   "id": "5894f112-1a65-4aa6-b8dd-79fef1292f34",
   "metadata": {
    "execution": {
     "iopub.execute_input": "2025-04-12T21:52:00.417693Z",
     "iopub.status.busy": "2025-04-12T21:52:00.417376Z",
     "iopub.status.idle": "2025-04-12T21:52:00.630060Z",
     "shell.execute_reply": "2025-04-12T21:52:00.629191Z"
    }
   },
   "outputs": [
    {
     "data": {
      "text/plain": [
       "True"
      ]
     },
     "execution_count": 12,
     "metadata": {},
     "output_type": "execute_result"
    }
   ],
   "source": [
    "msm.contains(molsys, selection='molecule_type!=\"water\" and atom_name==[\"CA\", \"CB\"]')"
   ]
  },
  {
   "cell_type": "markdown",
   "id": "24acb410-3684-47b1-a097-e28ded943adb",
   "metadata": {},
   "source": [
    "Or combine a selection with additional conditions on elements:"
   ]
  },
  {
   "cell_type": "code",
   "execution_count": 13,
   "id": "8cc1921e-d46f-4d8f-ae14-6739b663e98c",
   "metadata": {
    "execution": {
     "iopub.execute_input": "2025-04-12T21:52:00.632562Z",
     "iopub.status.busy": "2025-04-12T21:52:00.632346Z",
     "iopub.status.idle": "2025-04-12T21:52:00.851752Z",
     "shell.execute_reply": "2025-04-12T21:52:00.850817Z"
    }
   },
   "outputs": [
    {
     "data": {
      "text/plain": [
       "True"
      ]
     },
     "execution_count": 13,
     "metadata": {},
     "output_type": "execute_result"
    }
   ],
   "source": [
    "msm.contains(molsys, selection='molecule_type!=\"water\"', small_molecules=2)"
   ]
  },
  {
   "cell_type": "code",
   "execution_count": 14,
   "id": "8295c819-96a2-4e45-b904-0de8afdf2645",
   "metadata": {
    "execution": {
     "iopub.execute_input": "2025-04-12T21:52:00.854087Z",
     "iopub.status.busy": "2025-04-12T21:52:00.853867Z",
     "iopub.status.idle": "2025-04-12T21:52:01.089032Z",
     "shell.execute_reply": "2025-04-12T21:52:01.088412Z"
    }
   },
   "outputs": [
    {
     "data": {
      "text/plain": [
       "False"
      ]
     },
     "execution_count": 14,
     "metadata": {},
     "output_type": "execute_result"
    }
   ],
   "source": [
    "msm.contains(molsys, selection='molecule_type!=\"water\"', water=True)"
   ]
  },
  {
   "cell_type": "markdown",
   "id": "5c7c24e5-0011-4323-acb2-7686e90fe163",
   "metadata": {},
   "source": [
    ":::{seealso}\n",
    "[User guide > Introduction > Molecular System > Elements](../../intro/molecular_systems/elements.md):    \n",
    "Describe the hierarchical levels of elements in a molecular system, such as atoms, groups, components, molecules, chains, and entities.\n",
    "\n",
    "[User guide > Tools > Basic > Convert](convert.ipynb):    \n",
    "Convert a molecular system into another form.    \n",
    "\n",
    "[User guide > Tools > Basic > Info](info.ipynb):    \n",
    "Display summary information of a molecular system.\n",
    "\n",
    "[User guide > Tools > Basic > Get](get.ipynb):    \n",
    "Get attributes from a molecular system.\n",
    ":::"
   ]
  }
 ],
 "metadata": {
  "kernelspec": {
   "display_name": "Python 3 (ipykernel)",
   "language": "python",
   "name": "python3"
  },
  "language_info": {
   "codemirror_mode": {
    "name": "ipython",
    "version": 3
   },
   "file_extension": ".py",
   "mimetype": "text/x-python",
   "name": "python",
   "nbconvert_exporter": "python",
   "pygments_lexer": "ipython3",
   "version": "3.12.9"
  },
  "widgets": {
   "application/vnd.jupyter.widget-state+json": {
    "state": {
     "f688059ec937446e89bdf778dc90673f": {
      "model_module": "@jupyter-widgets/base",
      "model_module_version": "2.0.0",
      "model_name": "LayoutModel",
      "state": {
       "_model_module": "@jupyter-widgets/base",
       "_model_module_version": "2.0.0",
       "_model_name": "LayoutModel",
       "_view_count": null,
       "_view_module": "@jupyter-widgets/base",
       "_view_module_version": "2.0.0",
       "_view_name": "LayoutView",
       "align_content": null,
       "align_items": null,
       "align_self": null,
       "border_bottom": null,
       "border_left": null,
       "border_right": null,
       "border_top": null,
       "bottom": null,
       "display": null,
       "flex": null,
       "flex_flow": null,
       "grid_area": null,
       "grid_auto_columns": null,
       "grid_auto_flow": null,
       "grid_auto_rows": null,
       "grid_column": null,
       "grid_gap": null,
       "grid_row": null,
       "grid_template_areas": null,
       "grid_template_columns": null,
       "grid_template_rows": null,
       "height": null,
       "justify_content": null,
       "justify_items": null,
       "left": null,
       "margin": null,
       "max_height": null,
       "max_width": null,
       "min_height": null,
       "min_width": null,
       "object_fit": null,
       "object_position": null,
       "order": null,
       "overflow": null,
       "padding": null,
       "right": null,
       "top": null,
       "visibility": null,
       "width": null
      }
     },
     "f881dc400c27406f815f3462dff6fa13": {
      "model_module": "nglview-js-widgets",
      "model_module_version": "3.1.4",
      "model_name": "ColormakerRegistryModel",
      "state": {
       "_dom_classes": [],
       "_model_module": "nglview-js-widgets",
       "_model_module_version": "3.1.4",
       "_model_name": "ColormakerRegistryModel",
       "_msg_ar": [],
       "_msg_q": [],
       "_ready": false,
       "_view_count": null,
       "_view_module": "nglview-js-widgets",
       "_view_module_version": "3.1.4",
       "_view_name": "ColormakerRegistryView",
       "layout": "IPY_MODEL_f688059ec937446e89bdf778dc90673f",
       "tabbable": null,
       "tooltip": null
      }
     }
    },
    "version_major": 2,
    "version_minor": 0
   }
  }
 },
 "nbformat": 4,
 "nbformat_minor": 5
}
