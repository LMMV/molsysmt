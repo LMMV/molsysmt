{
 "cells": [
  {
   "cell_type": "code",
   "execution_count": 1,
   "id": "5fe9e873-b142-4134-9d85-958487e57ee1",
   "metadata": {
    "tags": [
     "remove-input"
    ]
   },
   "outputs": [],
   "source": [
    "# This cell is removed with the tag: \"remove-input\"\n",
    "# As such, it will not be shown in documentation\n",
    "\n",
    "import warnings\n",
    "warnings.filterwarnings('ignore')"
   ]
  },
  {
   "cell_type": "markdown",
   "id": "5146fd03-ff69-465c-8385-9314ad9315c6",
   "metadata": {},
   "source": [
    "(UserGuide_Tools_Basic_Contains)=\n",
    "# Contains\n",
    "\n",
    "*Checking if a molecular system contains certain elements*\n",
    "\n",
    "The function {func}`molsysmt.basic.contains` can check whether or not a molecular system contains certain elements without the need to resort to {func}`molsysmt.basic.get`.\n",
    "\n",
    "Let's illustrate how this method work with the following molecular system:"
   ]
  },
  {
   "cell_type": "code",
   "execution_count": 2,
   "id": "0f0ba0ab-b67e-45c9-86d4-a1d1f5eba3f9",
   "metadata": {},
   "outputs": [
    {
     "data": {
      "application/vnd.jupyter.widget-view+json": {
       "model_id": "92c57666ab7e4c669e4866f167cb4337",
       "version_major": 2,
       "version_minor": 0
      },
      "text/plain": []
     },
     "metadata": {},
     "output_type": "display_data"
    }
   ],
   "source": [
    "import molsysmt as msm"
   ]
  },
  {
   "cell_type": "code",
   "execution_count": 3,
   "id": "2309a1c3-7fe5-4e59-83c0-0fbd8a32c0aa",
   "metadata": {},
   "outputs": [],
   "source": [
    "molsys = msm.convert('pdb_id:181L', to_form='molsysmt.MolSys')"
   ]
  },
  {
   "cell_type": "code",
   "execution_count": 4,
   "id": "7443e65e-89d5-44fe-be63-98c03aaea066",
   "metadata": {
    "tags": [
     "scroll-output"
    ]
   },
   "outputs": [
    {
     "data": {
      "text/html": [
       "<style type=\"text/css\">\n",
       "</style>\n",
       "<table id=\"T_f56ae\">\n",
       "  <thead>\n",
       "    <tr>\n",
       "      <th id=\"T_f56ae_level0_col0\" class=\"col_heading level0 col0\" >form</th>\n",
       "      <th id=\"T_f56ae_level0_col1\" class=\"col_heading level0 col1\" >n_atoms</th>\n",
       "      <th id=\"T_f56ae_level0_col2\" class=\"col_heading level0 col2\" >n_groups</th>\n",
       "      <th id=\"T_f56ae_level0_col3\" class=\"col_heading level0 col3\" >n_components</th>\n",
       "      <th id=\"T_f56ae_level0_col4\" class=\"col_heading level0 col4\" >n_chains</th>\n",
       "      <th id=\"T_f56ae_level0_col5\" class=\"col_heading level0 col5\" >n_molecules</th>\n",
       "      <th id=\"T_f56ae_level0_col6\" class=\"col_heading level0 col6\" >n_entities</th>\n",
       "      <th id=\"T_f56ae_level0_col7\" class=\"col_heading level0 col7\" >n_waters</th>\n",
       "      <th id=\"T_f56ae_level0_col8\" class=\"col_heading level0 col8\" >n_ions</th>\n",
       "      <th id=\"T_f56ae_level0_col9\" class=\"col_heading level0 col9\" >n_small_molecules</th>\n",
       "      <th id=\"T_f56ae_level0_col10\" class=\"col_heading level0 col10\" >n_proteins</th>\n",
       "      <th id=\"T_f56ae_level0_col11\" class=\"col_heading level0 col11\" >n_structures</th>\n",
       "    </tr>\n",
       "  </thead>\n",
       "  <tbody>\n",
       "    <tr>\n",
       "      <td id=\"T_f56ae_row0_col0\" class=\"data row0 col0\" >molsysmt.MolSys</td>\n",
       "      <td id=\"T_f56ae_row0_col1\" class=\"data row0 col1\" >1441</td>\n",
       "      <td id=\"T_f56ae_row0_col2\" class=\"data row0 col2\" >302</td>\n",
       "      <td id=\"T_f56ae_row0_col3\" class=\"data row0 col3\" >141</td>\n",
       "      <td id=\"T_f56ae_row0_col4\" class=\"data row0 col4\" >6</td>\n",
       "      <td id=\"T_f56ae_row0_col5\" class=\"data row0 col5\" >141</td>\n",
       "      <td id=\"T_f56ae_row0_col6\" class=\"data row0 col6\" >5</td>\n",
       "      <td id=\"T_f56ae_row0_col7\" class=\"data row0 col7\" >136</td>\n",
       "      <td id=\"T_f56ae_row0_col8\" class=\"data row0 col8\" >2</td>\n",
       "      <td id=\"T_f56ae_row0_col9\" class=\"data row0 col9\" >2</td>\n",
       "      <td id=\"T_f56ae_row0_col10\" class=\"data row0 col10\" >1</td>\n",
       "      <td id=\"T_f56ae_row0_col11\" class=\"data row0 col11\" >1</td>\n",
       "    </tr>\n",
       "  </tbody>\n",
       "</table>\n"
      ],
      "text/plain": [
       "<pandas.io.formats.style.Styler at 0x7f137c6d4460>"
      ]
     },
     "execution_count": 4,
     "metadata": {},
     "output_type": "execute_result"
    }
   ],
   "source": [
    "msm.info(molsys)"
   ]
  },
  {
   "cell_type": "markdown",
   "id": "fbb93579-57c0-4a40-96bb-1280f2ed5fe1",
   "metadata": {},
   "source": [
    "Let's check if the system contains water molecules:"
   ]
  },
  {
   "cell_type": "code",
   "execution_count": 5,
   "id": "a3b47f5c-15d6-4c26-ab44-49e4afb3c49a",
   "metadata": {},
   "outputs": [
    {
     "data": {
      "text/plain": [
       "True"
      ]
     },
     "execution_count": 5,
     "metadata": {},
     "output_type": "execute_result"
    }
   ],
   "source": [
    "msm.contains(molsys, waters=True)"
   ]
  },
  {
   "cell_type": "markdown",
   "id": "7c320092-add6-4bb1-ab0f-7d5cd3cf1f93",
   "metadata": {},
   "source": [
    "```{admonition} Tip\n",
    ":class: tip\n",
    "All methods defined in the {ref}`molsysmt.basic <API basic>` module can be invoked also from the main level of the library. As such, {func}`molsysmt.contains` is the same method as {func}`molsysmt.basic.contains`.\n",
    "```"
   ]
  },
  {
   "cell_type": "markdown",
   "id": "293d21b6-f85a-4da2-aaba-2950f6f937f6",
   "metadata": {},
   "source": [
    "Or ions, small molecules and proteins:"
   ]
  },
  {
   "cell_type": "code",
   "execution_count": 6,
   "id": "e81c397a-61da-49ed-94b7-242f2d4ed4ba",
   "metadata": {},
   "outputs": [
    {
     "data": {
      "text/plain": [
       "True"
      ]
     },
     "execution_count": 6,
     "metadata": {},
     "output_type": "execute_result"
    }
   ],
   "source": [
    "msm.contains(molsys, ions=True, small_molecules=True, proteins=True)"
   ]
  },
  {
   "cell_type": "markdown",
   "id": "88263618-1afd-45ce-9ef1-ff3077dac8ea",
   "metadata": {},
   "source": [
    "The function {func}`molsysmt.basic.contains` can also be used to check if the system does not contain a molecule type:"
   ]
  },
  {
   "cell_type": "code",
   "execution_count": 7,
   "id": "cff5be21-08f0-4349-ba27-81230a62d9ab",
   "metadata": {},
   "outputs": [
    {
     "data": {
      "text/plain": [
       "True"
      ]
     },
     "execution_count": 7,
     "metadata": {},
     "output_type": "execute_result"
    }
   ],
   "source": [
    "msm.contains(molsys, proteins=True, lipids=False)"
   ]
  },
  {
   "cell_type": "markdown",
   "id": "d3aded9a-9284-43cc-a8e1-f94e0d397ef0",
   "metadata": {},
   "source": [
    "Or it does contain a specific amount of molecules:"
   ]
  },
  {
   "cell_type": "code",
   "execution_count": 8,
   "id": "6ac59d10-06dd-4992-b0f4-50e020143738",
   "metadata": {},
   "outputs": [
    {
     "data": {
      "text/plain": [
       "False"
      ]
     },
     "execution_count": 8,
     "metadata": {},
     "output_type": "execute_result"
    }
   ],
   "source": [
    "msm.contains(molsys, small_molecules=3, ions=2)"
   ]
  },
  {
   "cell_type": "markdown",
   "id": "5c7c24e5-0011-4323-acb2-7686e90fe163",
   "metadata": {},
   "source": [
    "```{admonition} See also\n",
    ":class: attention\n",
    "{func}`molsysmt.basic.contains`, {func}`molsysmt.basic.convert`, {func}`molsysmt.basic.info`\n",
    "```"
   ]
  }
 ],
 "metadata": {
  "kernelspec": {
   "display_name": "Python 3 (ipykernel)",
   "language": "python",
   "name": "python3"
  },
  "language_info": {
   "codemirror_mode": {
    "name": "ipython",
    "version": 3
   },
   "file_extension": ".py",
   "mimetype": "text/x-python",
   "name": "python",
   "nbconvert_exporter": "python",
   "pygments_lexer": "ipython3",
   "version": "3.9.13"
  }
 },
 "nbformat": 4,
 "nbformat_minor": 5
}
