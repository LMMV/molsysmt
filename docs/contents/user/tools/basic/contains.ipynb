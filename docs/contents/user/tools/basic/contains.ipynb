{
 "cells": [
  {
   "cell_type": "code",
   "execution_count": 1,
   "id": "5fe9e873-b142-4134-9d85-958487e57ee1",
   "metadata": {
    "execution": {
     "iopub.execute_input": "2025-03-11T21:03:14.688841Z",
     "iopub.status.busy": "2025-03-11T21:03:14.688130Z",
     "iopub.status.idle": "2025-03-11T21:03:14.693431Z",
     "shell.execute_reply": "2025-03-11T21:03:14.692476Z"
    },
    "tags": [
     "remove-input"
    ]
   },
   "outputs": [],
   "source": [
    "# This cell is removed with the tag: \"remove-input\"\n",
    "# As such, it will not be shown in documentation\n",
    "\n",
    "#import warnings\n",
    "#warnings.filterwarnings('ignore')"
   ]
  },
  {
   "cell_type": "markdown",
   "id": "5146fd03-ff69-465c-8385-9314ad9315c6",
   "metadata": {},
   "source": [
    "(Tutorial_Contains)=\n",
    "# Contains\n",
    "\n",
    "*Checking if a molecular system contains certain elements or attributes*\n",
    "\n",
    "The function {func}`molsysmt.basic.contains` can check whether or not a molecular system contains certain elements or attributes without the need to use {func}`molsysmt.basic.get`.\n",
    "\n",
    "## How this function works\n",
    "\n",
    "```{admonition} API documentation\n",
    "Follow this link for a detailed description of the input arguments, raised errors, and returned objects of this function:{func}`molsysmt.basic.contains`.\n",
    "```\n",
    "\n",
    "Let's illustrate how this method work with the following molecular system:"
   ]
  },
  {
   "cell_type": "code",
   "execution_count": 2,
   "id": "0f0ba0ab-b67e-45c9-86d4-a1d1f5eba3f9",
   "metadata": {
    "execution": {
     "iopub.execute_input": "2025-03-11T21:03:14.696917Z",
     "iopub.status.busy": "2025-03-11T21:03:14.696388Z",
     "iopub.status.idle": "2025-03-11T21:03:23.283866Z",
     "shell.execute_reply": "2025-03-11T21:03:23.282836Z"
    }
   },
   "outputs": [
    {
     "data": {
      "application/vnd.jupyter.widget-view+json": {
       "model_id": "81f95efeffbb4e5993baad5f212adb4e",
       "version_major": 2,
       "version_minor": 0
      },
      "text/plain": []
     },
     "metadata": {},
     "output_type": "display_data"
    }
   ],
   "source": [
    "import molsysmt as msm"
   ]
  },
  {
   "cell_type": "code",
   "execution_count": 3,
   "id": "2309a1c3-7fe5-4e59-83c0-0fbd8a32c0aa",
   "metadata": {
    "execution": {
     "iopub.execute_input": "2025-03-11T21:03:23.287638Z",
     "iopub.status.busy": "2025-03-11T21:03:23.286432Z",
     "iopub.status.idle": "2025-03-11T21:03:25.216940Z",
     "shell.execute_reply": "2025-03-11T21:03:25.215611Z"
    }
   },
   "outputs": [],
   "source": [
    "molecular_system = msm.convert('181L')"
   ]
  },
  {
   "cell_type": "code",
   "execution_count": 4,
   "id": "7443e65e-89d5-44fe-be63-98c03aaea066",
   "metadata": {
    "execution": {
     "iopub.execute_input": "2025-03-11T21:03:25.220370Z",
     "iopub.status.busy": "2025-03-11T21:03:25.219733Z",
     "iopub.status.idle": "2025-03-11T21:03:27.187747Z",
     "shell.execute_reply": "2025-03-11T21:03:27.186783Z"
    },
    "tags": [
     "scroll-output"
    ]
   },
   "outputs": [
    {
     "data": {
      "text/html": [
       "<style type=\"text/css\">\n",
       "</style>\n",
       "<table id=\"T_6c058\">\n",
       "  <thead>\n",
       "    <tr>\n",
       "      <th id=\"T_6c058_level0_col0\" class=\"col_heading level0 col0\" >form</th>\n",
       "      <th id=\"T_6c058_level0_col1\" class=\"col_heading level0 col1\" >n_atoms</th>\n",
       "      <th id=\"T_6c058_level0_col2\" class=\"col_heading level0 col2\" >n_groups</th>\n",
       "      <th id=\"T_6c058_level0_col3\" class=\"col_heading level0 col3\" >n_components</th>\n",
       "      <th id=\"T_6c058_level0_col4\" class=\"col_heading level0 col4\" >n_chains</th>\n",
       "      <th id=\"T_6c058_level0_col5\" class=\"col_heading level0 col5\" >n_molecules</th>\n",
       "      <th id=\"T_6c058_level0_col6\" class=\"col_heading level0 col6\" >n_entities</th>\n",
       "      <th id=\"T_6c058_level0_col7\" class=\"col_heading level0 col7\" >n_waters</th>\n",
       "      <th id=\"T_6c058_level0_col8\" class=\"col_heading level0 col8\" >n_ions</th>\n",
       "      <th id=\"T_6c058_level0_col9\" class=\"col_heading level0 col9\" >n_small_molecules</th>\n",
       "      <th id=\"T_6c058_level0_col10\" class=\"col_heading level0 col10\" >n_proteins</th>\n",
       "      <th id=\"T_6c058_level0_col11\" class=\"col_heading level0 col11\" >n_structures</th>\n",
       "    </tr>\n",
       "  </thead>\n",
       "  <tbody>\n",
       "    <tr>\n",
       "      <td id=\"T_6c058_row0_col0\" class=\"data row0 col0\" >molsysmt.MolSys</td>\n",
       "      <td id=\"T_6c058_row0_col1\" class=\"data row0 col1\" >1441</td>\n",
       "      <td id=\"T_6c058_row0_col2\" class=\"data row0 col2\" >302</td>\n",
       "      <td id=\"T_6c058_row0_col3\" class=\"data row0 col3\" >141</td>\n",
       "      <td id=\"T_6c058_row0_col4\" class=\"data row0 col4\" >6</td>\n",
       "      <td id=\"T_6c058_row0_col5\" class=\"data row0 col5\" >141</td>\n",
       "      <td id=\"T_6c058_row0_col6\" class=\"data row0 col6\" >5</td>\n",
       "      <td id=\"T_6c058_row0_col7\" class=\"data row0 col7\" >136</td>\n",
       "      <td id=\"T_6c058_row0_col8\" class=\"data row0 col8\" >2</td>\n",
       "      <td id=\"T_6c058_row0_col9\" class=\"data row0 col9\" >2</td>\n",
       "      <td id=\"T_6c058_row0_col10\" class=\"data row0 col10\" >1</td>\n",
       "      <td id=\"T_6c058_row0_col11\" class=\"data row0 col11\" >1</td>\n",
       "    </tr>\n",
       "  </tbody>\n",
       "</table>\n"
      ],
      "text/plain": [
       "<pandas.io.formats.style.Styler at 0x7fddb4e24110>"
      ]
     },
     "execution_count": 4,
     "metadata": {},
     "output_type": "execute_result"
    }
   ],
   "source": [
    "msm.info(molecular_system)"
   ]
  },
  {
   "cell_type": "markdown",
   "id": "fbb93579-57c0-4a40-96bb-1280f2ed5fe1",
   "metadata": {},
   "source": [
    "Let's check if the system contains water molecules:"
   ]
  },
  {
   "cell_type": "code",
   "execution_count": 5,
   "id": "a3b47f5c-15d6-4c26-ab44-49e4afb3c49a",
   "metadata": {
    "execution": {
     "iopub.execute_input": "2025-03-11T21:03:27.191429Z",
     "iopub.status.busy": "2025-03-11T21:03:27.190921Z",
     "iopub.status.idle": "2025-03-11T21:03:27.549136Z",
     "shell.execute_reply": "2025-03-11T21:03:27.548316Z"
    }
   },
   "outputs": [
    {
     "data": {
      "text/plain": [
       "True"
      ]
     },
     "execution_count": 5,
     "metadata": {},
     "output_type": "execute_result"
    }
   ],
   "source": [
    "msm.contains(molecular_system, waters=True)"
   ]
  },
  {
   "cell_type": "markdown",
   "id": "7395a21e-553a-411f-9742-b28be0a907db",
   "metadata": {},
   "source": [
    "Or let's see if the structures of the system include periodic boundary conditions:"
   ]
  },
  {
   "cell_type": "code",
   "execution_count": 6,
   "id": "fa6cf4e7-728f-46ce-96ce-0c5f0200c8b7",
   "metadata": {
    "execution": {
     "iopub.execute_input": "2025-03-11T21:03:27.552990Z",
     "iopub.status.busy": "2025-03-11T21:03:27.552289Z",
     "iopub.status.idle": "2025-03-11T21:03:27.879413Z",
     "shell.execute_reply": "2025-03-11T21:03:27.878240Z"
    }
   },
   "outputs": [
    {
     "data": {
      "text/plain": [
       "True"
      ]
     },
     "execution_count": 6,
     "metadata": {},
     "output_type": "execute_result"
    }
   ],
   "source": [
    "msm.contains(molecular_system, box=True)"
   ]
  },
  {
   "cell_type": "markdown",
   "id": "7c320092-add6-4bb1-ab0f-7d5cd3cf1f93",
   "metadata": {},
   "source": [
    "```{admonition} Tip\n",
    ":class: tip\n",
    "All methods defined in the {ref}`molsysmt.basic <API basic>` module can be invoked also from the main level of the library. As such, {func}`molsysmt.contains` is the same method as {func}`molsysmt.basic.contains`.\n",
    "```"
   ]
  },
  {
   "cell_type": "markdown",
   "id": "293d21b6-f85a-4da2-aaba-2950f6f937f6",
   "metadata": {},
   "source": [
    "And let's check now if the system contains ions and small molecules and proteins:"
   ]
  },
  {
   "cell_type": "code",
   "execution_count": 7,
   "id": "e81c397a-61da-49ed-94b7-242f2d4ed4ba",
   "metadata": {
    "execution": {
     "iopub.execute_input": "2025-03-11T21:03:27.882983Z",
     "iopub.status.busy": "2025-03-11T21:03:27.882548Z",
     "iopub.status.idle": "2025-03-11T21:03:28.595643Z",
     "shell.execute_reply": "2025-03-11T21:03:28.594741Z"
    }
   },
   "outputs": [
    {
     "data": {
      "text/plain": [
       "True"
      ]
     },
     "execution_count": 7,
     "metadata": {},
     "output_type": "execute_result"
    }
   ],
   "source": [
    "msm.contains(molecular_system, ions=True, small_molecules=True, proteins=True)"
   ]
  },
  {
   "cell_type": "markdown",
   "id": "88263618-1afd-45ce-9ef1-ff3077dac8ea",
   "metadata": {},
   "source": [
    "The function {func}`molsysmt.basic.contains` can also be used to check if the system does not contain an element or an attribute:"
   ]
  },
  {
   "cell_type": "code",
   "execution_count": 8,
   "id": "cff5be21-08f0-4349-ba27-81230a62d9ab",
   "metadata": {
    "execution": {
     "iopub.execute_input": "2025-03-11T21:03:28.599043Z",
     "iopub.status.busy": "2025-03-11T21:03:28.598700Z",
     "iopub.status.idle": "2025-03-11T21:03:29.148502Z",
     "shell.execute_reply": "2025-03-11T21:03:29.147491Z"
    }
   },
   "outputs": [
    {
     "data": {
      "text/plain": [
       "True"
      ]
     },
     "execution_count": 8,
     "metadata": {},
     "output_type": "execute_result"
    }
   ],
   "source": [
    "msm.contains(molecular_system, proteins=True, lipids=False)"
   ]
  },
  {
   "cell_type": "markdown",
   "id": "d3aded9a-9284-43cc-a8e1-f94e0d397ef0",
   "metadata": {},
   "source": [
    "Or if the systemit contains a specific amount of molecules:"
   ]
  },
  {
   "cell_type": "code",
   "execution_count": 9,
   "id": "6ac59d10-06dd-4992-b0f4-50e020143738",
   "metadata": {
    "execution": {
     "iopub.execute_input": "2025-03-11T21:03:29.152830Z",
     "iopub.status.busy": "2025-03-11T21:03:29.152131Z",
     "iopub.status.idle": "2025-03-11T21:03:29.701680Z",
     "shell.execute_reply": "2025-03-11T21:03:29.700770Z"
    }
   },
   "outputs": [
    {
     "data": {
      "text/plain": [
       "True"
      ]
     },
     "execution_count": 9,
     "metadata": {},
     "output_type": "execute_result"
    }
   ],
   "source": [
    "msm.contains(molecular_system, small_molecules=2, ions=2)"
   ]
  },
  {
   "cell_type": "code",
   "execution_count": 10,
   "id": "9e160e34-3295-406a-9d3f-adc9ddc45aa5",
   "metadata": {
    "execution": {
     "iopub.execute_input": "2025-03-11T21:03:29.705291Z",
     "iopub.status.busy": "2025-03-11T21:03:29.704626Z",
     "iopub.status.idle": "2025-03-11T21:03:30.272959Z",
     "shell.execute_reply": "2025-03-11T21:03:30.272092Z"
    }
   },
   "outputs": [
    {
     "data": {
      "text/plain": [
       "True"
      ]
     },
     "execution_count": 10,
     "metadata": {},
     "output_type": "execute_result"
    }
   ],
   "source": [
    "msm.contains(molecular_system, small_molecules=2, proteins=2)"
   ]
  },
  {
   "cell_type": "markdown",
   "id": "b89a60d2-6c17-4988-81e1-371139ba1979",
   "metadata": {},
   "source": [
    "The input argument `selection` can also be used instead of attributes:"
   ]
  },
  {
   "cell_type": "code",
   "execution_count": 11,
   "id": "92a16289-16b8-4d45-bc2b-e1b1d5ab5376",
   "metadata": {
    "execution": {
     "iopub.execute_input": "2025-03-11T21:03:30.276640Z",
     "iopub.status.busy": "2025-03-11T21:03:30.275982Z",
     "iopub.status.idle": "2025-03-11T21:03:30.783651Z",
     "shell.execute_reply": "2025-03-11T21:03:30.782656Z"
    }
   },
   "outputs": [
    {
     "data": {
      "text/plain": [
       "False"
      ]
     },
     "execution_count": 11,
     "metadata": {},
     "output_type": "execute_result"
    }
   ],
   "source": [
    "msm.contains(molecular_system, selection='hydrogens')"
   ]
  },
  {
   "cell_type": "code",
   "execution_count": 12,
   "id": "5894f112-1a65-4aa6-b8dd-79fef1292f34",
   "metadata": {
    "execution": {
     "iopub.execute_input": "2025-03-11T21:03:30.786550Z",
     "iopub.status.busy": "2025-03-11T21:03:30.786173Z",
     "iopub.status.idle": "2025-03-11T21:03:31.420691Z",
     "shell.execute_reply": "2025-03-11T21:03:31.419691Z"
    }
   },
   "outputs": [
    {
     "data": {
      "text/plain": [
       "True"
      ]
     },
     "execution_count": 12,
     "metadata": {},
     "output_type": "execute_result"
    }
   ],
   "source": [
    "msm.contains(molecular_system, selection='molecule_type!=\"water\" and atom_name==[\"CA\", \"CB\"]')"
   ]
  },
  {
   "cell_type": "markdown",
   "id": "24acb410-3684-47b1-a097-e28ded943adb",
   "metadata": {},
   "source": [
    "Or in addition to a attributes:"
   ]
  },
  {
   "cell_type": "code",
   "execution_count": 13,
   "id": "8cc1921e-d46f-4d8f-ae14-6739b663e98c",
   "metadata": {
    "execution": {
     "iopub.execute_input": "2025-03-11T21:03:31.425492Z",
     "iopub.status.busy": "2025-03-11T21:03:31.424702Z",
     "iopub.status.idle": "2025-03-11T21:03:31.889100Z",
     "shell.execute_reply": "2025-03-11T21:03:31.888447Z"
    }
   },
   "outputs": [
    {
     "data": {
      "text/plain": [
       "True"
      ]
     },
     "execution_count": 13,
     "metadata": {},
     "output_type": "execute_result"
    }
   ],
   "source": [
    "msm.contains(molecular_system, selection='molecule_type!=\"water\"', small_molecules=2)"
   ]
  },
  {
   "cell_type": "code",
   "execution_count": 14,
   "id": "8295c819-96a2-4e45-b904-0de8afdf2645",
   "metadata": {
    "execution": {
     "iopub.execute_input": "2025-03-11T21:03:31.892056Z",
     "iopub.status.busy": "2025-03-11T21:03:31.891691Z",
     "iopub.status.idle": "2025-03-11T21:03:32.501062Z",
     "shell.execute_reply": "2025-03-11T21:03:32.500227Z"
    }
   },
   "outputs": [
    {
     "data": {
      "text/plain": [
       "False"
      ]
     },
     "execution_count": 14,
     "metadata": {},
     "output_type": "execute_result"
    }
   ],
   "source": [
    "msm.contains(molecular_system, selection='molecule_type!=\"water\"', water=True)"
   ]
  },
  {
   "cell_type": "markdown",
   "id": "5c7c24e5-0011-4323-acb2-7686e90fe163",
   "metadata": {},
   "source": [
    ":::{seealso}\n",
    "[User guide > Introduction > Molecular System > Elements](../../intro/molecular_systems/elements.md):    \n",
    "[User guide > Tools > Basic > Convert](convert.ipynb): Converting a molecular system into other form.    \n",
    "[User guide > Tools > Basic > Info](info.ipynb): Printing out summary information of a molecular system.    \n",
    "[User guide > Tools > Basic > Get](get.ipynb): Getting attributes from a molecular system.    \n",
    ":::"
   ]
  }
 ],
 "metadata": {
  "kernelspec": {
   "display_name": "Python 3 (ipykernel)",
   "language": "python",
   "name": "python3"
  },
  "language_info": {
   "codemirror_mode": {
    "name": "ipython",
    "version": 3
   },
   "file_extension": ".py",
   "mimetype": "text/x-python",
   "name": "python",
   "nbconvert_exporter": "python",
   "pygments_lexer": "ipython3",
   "version": "3.12.8"
  },
  "widgets": {
   "application/vnd.jupyter.widget-state+json": {
    "state": {
     "81f95efeffbb4e5993baad5f212adb4e": {
      "model_module": "nglview-js-widgets",
      "model_module_version": "3.1.4",
      "model_name": "ColormakerRegistryModel",
      "state": {
       "_dom_classes": [],
       "_model_module": "nglview-js-widgets",
       "_model_module_version": "3.1.4",
       "_model_name": "ColormakerRegistryModel",
       "_msg_ar": [],
       "_msg_q": [],
       "_ready": false,
       "_view_count": null,
       "_view_module": "nglview-js-widgets",
       "_view_module_version": "3.1.4",
       "_view_name": "ColormakerRegistryView",
       "layout": "IPY_MODEL_d27741ae9a424f5b813ed7bff6ec8b7d",
       "tabbable": null,
       "tooltip": null
      }
     },
     "d27741ae9a424f5b813ed7bff6ec8b7d": {
      "model_module": "@jupyter-widgets/base",
      "model_module_version": "2.0.0",
      "model_name": "LayoutModel",
      "state": {
       "_model_module": "@jupyter-widgets/base",
       "_model_module_version": "2.0.0",
       "_model_name": "LayoutModel",
       "_view_count": null,
       "_view_module": "@jupyter-widgets/base",
       "_view_module_version": "2.0.0",
       "_view_name": "LayoutView",
       "align_content": null,
       "align_items": null,
       "align_self": null,
       "border_bottom": null,
       "border_left": null,
       "border_right": null,
       "border_top": null,
       "bottom": null,
       "display": null,
       "flex": null,
       "flex_flow": null,
       "grid_area": null,
       "grid_auto_columns": null,
       "grid_auto_flow": null,
       "grid_auto_rows": null,
       "grid_column": null,
       "grid_gap": null,
       "grid_row": null,
       "grid_template_areas": null,
       "grid_template_columns": null,
       "grid_template_rows": null,
       "height": null,
       "justify_content": null,
       "justify_items": null,
       "left": null,
       "margin": null,
       "max_height": null,
       "max_width": null,
       "min_height": null,
       "min_width": null,
       "object_fit": null,
       "object_position": null,
       "order": null,
       "overflow": null,
       "padding": null,
       "right": null,
       "top": null,
       "visibility": null,
       "width": null
      }
     }
    },
    "version_major": 2,
    "version_minor": 0
   }
  }
 },
 "nbformat": 4,
 "nbformat_minor": 5
}
