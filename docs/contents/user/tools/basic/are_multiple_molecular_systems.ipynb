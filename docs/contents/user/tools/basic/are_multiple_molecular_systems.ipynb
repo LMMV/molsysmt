{
 "cells": [
  {
   "cell_type": "code",
   "execution_count": 1,
   "metadata": {
    "execution": {
     "iopub.execute_input": "2025-03-11T21:03:48.241648Z",
     "iopub.status.busy": "2025-03-11T21:03:48.241194Z",
     "iopub.status.idle": "2025-03-11T21:03:48.246506Z",
     "shell.execute_reply": "2025-03-11T21:03:48.245632Z"
    },
    "tags": [
     "remove-input"
    ]
   },
   "outputs": [],
   "source": [
    "# This cell is removed with the tag: \"remove-input\"\n",
    "# As such, it will not be shown in documentation\n",
    "\n",
    "import warnings\n",
    "warnings.filterwarnings('ignore')"
   ]
  },
  {
   "cell_type": "markdown",
   "metadata": {},
   "source": [
    "(Tutorial_Are_multiple_molecular_systems)=\n",
    "# Are multiple molecular systems\n",
    "\n",
    "*Verifying the validity of a list of molecular systems.*\n",
    "\n",
    "The function {func}`molsysmt.basic.are_multiple_molecular_systems` verifies if a list of molecular systems is in deed a list of molecular systems.\n",
    "\n",
    "## How this function works\n",
    "\n",
    "```{admonition} API documentation\n",
    "Follow this link for a detailed description of the input arguments, raised errors, and returned objects of this function:{func}`molsysmt.basic.are_multiple_molecular_systems`.\n",
    "```\n",
    "\n",
    "Let's show how this method works with some simple cases:"
   ]
  },
  {
   "cell_type": "code",
   "execution_count": 2,
   "metadata": {
    "execution": {
     "iopub.execute_input": "2025-03-11T21:03:48.251358Z",
     "iopub.status.busy": "2025-03-11T21:03:48.250508Z",
     "iopub.status.idle": "2025-03-11T21:03:57.085222Z",
     "shell.execute_reply": "2025-03-11T21:03:57.084245Z"
    }
   },
   "outputs": [
    {
     "data": {
      "application/vnd.jupyter.widget-view+json": {
       "model_id": "7bc0854a4fa04b8abaaf028c30b45b88",
       "version_major": 2,
       "version_minor": 0
      },
      "text/plain": []
     },
     "metadata": {},
     "output_type": "display_data"
    }
   ],
   "source": [
    "import molsysmt as msm\n",
    "from molsysmt import systems"
   ]
  },
  {
   "cell_type": "code",
   "execution_count": 3,
   "metadata": {
    "execution": {
     "iopub.execute_input": "2025-03-11T21:03:57.090993Z",
     "iopub.status.busy": "2025-03-11T21:03:57.089804Z",
     "iopub.status.idle": "2025-03-11T21:03:57.095123Z",
     "shell.execute_reply": "2025-03-11T21:03:57.094216Z"
    }
   },
   "outputs": [],
   "source": [
    "molecular_system_A = '2LAO'\n",
    "molecular_system_B = systems['Trp-Cage']['1l2y.h5msm']\n",
    "molecular_system_C = systems['T4 lysozyme L99A']['t4_lysozyme_L99A.h5msm']"
   ]
  },
  {
   "cell_type": "code",
   "execution_count": 4,
   "metadata": {
    "execution": {
     "iopub.execute_input": "2025-03-11T21:03:57.098484Z",
     "iopub.status.busy": "2025-03-11T21:03:57.098038Z",
     "iopub.status.idle": "2025-03-11T21:03:57.869284Z",
     "shell.execute_reply": "2025-03-11T21:03:57.868470Z"
    }
   },
   "outputs": [
    {
     "data": {
      "text/plain": [
       "True"
      ]
     },
     "execution_count": 4,
     "metadata": {},
     "output_type": "execute_result"
    }
   ],
   "source": [
    "msm.are_multiple_molecular_systems([molecular_system_A, molecular_system_B, molecular_system_C])"
   ]
  },
  {
   "cell_type": "markdown",
   "metadata": {},
   "source": [
    ":::{tip}\n",
    "All methods defined in the {ref}`molsysmt.basic <API basic>` module can be invoked also from the main level of the library. As such, {func}`molsysmt.are_multiple_molecular_systems` is the same method as {func}`molsysmt.basic.are_multiple_molecular_systems`.\n",
    ":::"
   ]
  },
  {
   "cell_type": "markdown",
   "metadata": {},
   "source": [
    "A molecular system can also be composed by more than one item. This way:"
   ]
  },
  {
   "cell_type": "code",
   "execution_count": 5,
   "metadata": {
    "execution": {
     "iopub.execute_input": "2025-03-11T21:03:57.873574Z",
     "iopub.status.busy": "2025-03-11T21:03:57.872428Z",
     "iopub.status.idle": "2025-03-11T21:03:59.329341Z",
     "shell.execute_reply": "2025-03-11T21:03:59.328429Z"
    }
   },
   "outputs": [],
   "source": [
    "topology = msm.convert(molecular_system_C, to_form='openmm.Topology')\n",
    "structures = msm.convert(molecular_system_C, to_form='XYZ')"
   ]
  },
  {
   "cell_type": "code",
   "execution_count": 6,
   "metadata": {
    "execution": {
     "iopub.execute_input": "2025-03-11T21:03:59.333874Z",
     "iopub.status.busy": "2025-03-11T21:03:59.333298Z",
     "iopub.status.idle": "2025-03-11T21:03:59.992777Z",
     "shell.execute_reply": "2025-03-11T21:03:59.992028Z"
    }
   },
   "outputs": [
    {
     "data": {
      "text/plain": [
       "True"
      ]
     },
     "execution_count": 6,
     "metadata": {},
     "output_type": "execute_result"
    }
   ],
   "source": [
    "msm.are_multiple_molecular_systems([molecular_system_A, molecular_system_B, [topology, structures]])"
   ]
  },
  {
   "cell_type": "markdown",
   "metadata": {},
   "source": [
    "Let's see the result when all objects in the input list are not molecular systems:"
   ]
  },
  {
   "cell_type": "code",
   "execution_count": 7,
   "metadata": {
    "execution": {
     "iopub.execute_input": "2025-03-11T21:03:59.996423Z",
     "iopub.status.busy": "2025-03-11T21:03:59.995772Z",
     "iopub.status.idle": "2025-03-11T21:04:00.506969Z",
     "shell.execute_reply": "2025-03-11T21:04:00.506085Z"
    }
   },
   "outputs": [],
   "source": [
    "topology = msm.convert(molecular_system_B, to_form='openmm.Topology')\n",
    "structures = msm.convert(molecular_system_C, to_form='XYZ')"
   ]
  },
  {
   "cell_type": "code",
   "execution_count": 8,
   "metadata": {
    "execution": {
     "iopub.execute_input": "2025-03-11T21:04:00.510413Z",
     "iopub.status.busy": "2025-03-11T21:04:00.509846Z",
     "iopub.status.idle": "2025-03-11T21:04:01.410218Z",
     "shell.execute_reply": "2025-03-11T21:04:01.409418Z"
    }
   },
   "outputs": [
    {
     "data": {
      "text/plain": [
       "False"
      ]
     },
     "execution_count": 8,
     "metadata": {},
     "output_type": "execute_result"
    }
   ],
   "source": [
    "msm.are_multiple_molecular_systems([molecular_system_A, molecular_system_B, [topology, structures]])"
   ]
  },
  {
   "cell_type": "markdown",
   "metadata": {},
   "source": [
    ":::{seealso}\n",
    "[User guide > Introduction > Demo systems](../../intro/demo_systems.ipynb):    \n",
    "[User guide > Tools > Basic > Convert](convert.ipynb): Converting a molecular system into other form.    \n",
    "[User guide > Tools > Basic > Is a molecular system](is_a_molecular_system.ipynb): Verifying the validity of a molecular system.    \n",
    ":::"
   ]
  }
 ],
 "metadata": {
  "kernelspec": {
   "display_name": "Python 3 (ipykernel)",
   "language": "python",
   "name": "python3"
  },
  "language_info": {
   "codemirror_mode": {
    "name": "ipython",
    "version": 3
   },
   "file_extension": ".py",
   "mimetype": "text/x-python",
   "name": "python",
   "nbconvert_exporter": "python",
   "pygments_lexer": "ipython3",
   "version": "3.12.8"
  },
  "widgets": {
   "application/vnd.jupyter.widget-state+json": {
    "state": {
     "7bc0854a4fa04b8abaaf028c30b45b88": {
      "model_module": "nglview-js-widgets",
      "model_module_version": "3.1.4",
      "model_name": "ColormakerRegistryModel",
      "state": {
       "_dom_classes": [],
       "_model_module": "nglview-js-widgets",
       "_model_module_version": "3.1.4",
       "_model_name": "ColormakerRegistryModel",
       "_msg_ar": [],
       "_msg_q": [],
       "_ready": false,
       "_view_count": null,
       "_view_module": "nglview-js-widgets",
       "_view_module_version": "3.1.4",
       "_view_name": "ColormakerRegistryView",
       "layout": "IPY_MODEL_f3da158d80294f42942c5e9cd487ada5",
       "tabbable": null,
       "tooltip": null
      }
     },
     "f3da158d80294f42942c5e9cd487ada5": {
      "model_module": "@jupyter-widgets/base",
      "model_module_version": "2.0.0",
      "model_name": "LayoutModel",
      "state": {
       "_model_module": "@jupyter-widgets/base",
       "_model_module_version": "2.0.0",
       "_model_name": "LayoutModel",
       "_view_count": null,
       "_view_module": "@jupyter-widgets/base",
       "_view_module_version": "2.0.0",
       "_view_name": "LayoutView",
       "align_content": null,
       "align_items": null,
       "align_self": null,
       "border_bottom": null,
       "border_left": null,
       "border_right": null,
       "border_top": null,
       "bottom": null,
       "display": null,
       "flex": null,
       "flex_flow": null,
       "grid_area": null,
       "grid_auto_columns": null,
       "grid_auto_flow": null,
       "grid_auto_rows": null,
       "grid_column": null,
       "grid_gap": null,
       "grid_row": null,
       "grid_template_areas": null,
       "grid_template_columns": null,
       "grid_template_rows": null,
       "height": null,
       "justify_content": null,
       "justify_items": null,
       "left": null,
       "margin": null,
       "max_height": null,
       "max_width": null,
       "min_height": null,
       "min_width": null,
       "object_fit": null,
       "object_position": null,
       "order": null,
       "overflow": null,
       "padding": null,
       "right": null,
       "top": null,
       "visibility": null,
       "width": null
      }
     }
    },
    "version_major": 2,
    "version_minor": 0
   }
  }
 },
 "nbformat": 4,
 "nbformat_minor": 4
}
