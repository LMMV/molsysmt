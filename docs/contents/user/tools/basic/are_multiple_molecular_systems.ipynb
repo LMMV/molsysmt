{
 "cells": [
  {
   "cell_type": "code",
   "execution_count": 1,
   "metadata": {
    "execution": {
     "iopub.execute_input": "2025-04-13T03:01:16.752707Z",
     "iopub.status.busy": "2025-04-13T03:01:16.750543Z",
     "iopub.status.idle": "2025-04-13T03:01:16.768402Z",
     "shell.execute_reply": "2025-04-13T03:01:16.766200Z"
    },
    "tags": [
     "remove-input"
    ]
   },
   "outputs": [],
   "source": [
    "# This cell is removed with the tag: \"remove-input\"\n",
    "# As such, it will not be shown in documentation\n",
    "\n",
    "import warnings\n",
    "warnings.filterwarnings('ignore')"
   ]
  },
  {
   "cell_type": "markdown",
   "metadata": {},
   "source": [
    "(Tutorial_Are_multiple_molecular_systems)=\n",
    "# Are multiple molecular systems\n",
    "\n",
    "*Checking whether a list contains only valid molecular systems.*\n",
    "\n",
    "The function verifies {func}`molsysmt.basic.are_multiple_molecular_systems` that all items in the input list are recognized as valid molecular systems in supported forms.\n",
    "\n",
    ":::{versionadded} 1.0.0\n",
    ":::\n",
    "\n",
    "## How this function works\n",
    "\n",
    "```{admonition} API documentation\n",
    "Follow this link for a detailed description of the input arguments, raised errors, and returned objects of this function:{func}`molsysmt.basic.are_multiple_molecular_systems`.\n",
    "```\n",
    "\n",
    "Let's show how this method works with some simple cases:"
   ]
  },
  {
   "cell_type": "code",
   "execution_count": 2,
   "metadata": {
    "execution": {
     "iopub.execute_input": "2025-04-13T03:01:16.776942Z",
     "iopub.status.busy": "2025-04-13T03:01:16.775172Z",
     "iopub.status.idle": "2025-04-13T03:01:23.261116Z",
     "shell.execute_reply": "2025-04-13T03:01:23.259784Z"
    }
   },
   "outputs": [
    {
     "data": {
      "application/vnd.jupyter.widget-view+json": {
       "model_id": "9cd7e227aac64d0a85d134f82c5e159c",
       "version_major": 2,
       "version_minor": 0
      },
      "text/plain": []
     },
     "metadata": {},
     "output_type": "display_data"
    }
   ],
   "source": [
    "import molsysmt as msm\n",
    "from molsysmt import systems"
   ]
  },
  {
   "cell_type": "code",
   "execution_count": 3,
   "metadata": {
    "execution": {
     "iopub.execute_input": "2025-04-13T03:01:23.264945Z",
     "iopub.status.busy": "2025-04-13T03:01:23.264276Z",
     "iopub.status.idle": "2025-04-13T03:01:23.271290Z",
     "shell.execute_reply": "2025-04-13T03:01:23.269309Z"
    }
   },
   "outputs": [],
   "source": [
    "molsys_A = '2LAO'\n",
    "molsys_B = systems['Trp-Cage']['1l2y.h5msm']\n",
    "molsys_C = systems['T4 lysozyme L99A']['t4_lysozyme_L99A.h5msm']"
   ]
  },
  {
   "cell_type": "code",
   "execution_count": 4,
   "metadata": {
    "execution": {
     "iopub.execute_input": "2025-04-13T03:01:23.276119Z",
     "iopub.status.busy": "2025-04-13T03:01:23.275650Z",
     "iopub.status.idle": "2025-04-13T03:01:25.546071Z",
     "shell.execute_reply": "2025-04-13T03:01:25.545122Z"
    }
   },
   "outputs": [
    {
     "data": {
      "text/plain": [
       "True"
      ]
     },
     "execution_count": 4,
     "metadata": {},
     "output_type": "execute_result"
    }
   ],
   "source": [
    "msm.are_multiple_molecular_systems([molsys_A, molsys_B, molsys_C])"
   ]
  },
  {
   "cell_type": "markdown",
   "metadata": {},
   "source": [
    ":::{tip}\n",
    "All methods defined in the {ref}`molsysmt.basic <API basic>` module can be invoked also from the main level of the library. As such, {func}`molsysmt.are_multiple_molecular_systems` is the same method as {func}`molsysmt.basic.are_multiple_molecular_systems`.\n",
    ":::"
   ]
  },
  {
   "cell_type": "markdown",
   "metadata": {},
   "source": [
    "A molecular system can also be composed by more than one item. This way:"
   ]
  },
  {
   "cell_type": "code",
   "execution_count": 5,
   "metadata": {
    "execution": {
     "iopub.execute_input": "2025-04-13T03:01:25.549749Z",
     "iopub.status.busy": "2025-04-13T03:01:25.548902Z",
     "iopub.status.idle": "2025-04-13T03:01:27.747953Z",
     "shell.execute_reply": "2025-04-13T03:01:27.745903Z"
    }
   },
   "outputs": [],
   "source": [
    "topology = msm.convert(molsys_C, to_form='openmm.Topology')\n",
    "structures = msm.convert(molsys_C, to_form='XYZ')"
   ]
  },
  {
   "cell_type": "code",
   "execution_count": 6,
   "metadata": {
    "execution": {
     "iopub.execute_input": "2025-04-13T03:01:27.751727Z",
     "iopub.status.busy": "2025-04-13T03:01:27.750811Z",
     "iopub.status.idle": "2025-04-13T03:01:27.889692Z",
     "shell.execute_reply": "2025-04-13T03:01:27.886975Z"
    }
   },
   "outputs": [
    {
     "data": {
      "text/plain": [
       "True"
      ]
     },
     "execution_count": 6,
     "metadata": {},
     "output_type": "execute_result"
    }
   ],
   "source": [
    "msm.are_multiple_molecular_systems([molsys_A, molsys_B, [topology, structures]])"
   ]
  },
  {
   "cell_type": "markdown",
   "metadata": {},
   "source": [
    "Let's see the result when all objects in the input list are not molecular systems:"
   ]
  },
  {
   "cell_type": "code",
   "execution_count": 7,
   "metadata": {
    "execution": {
     "iopub.execute_input": "2025-04-13T03:01:27.893274Z",
     "iopub.status.busy": "2025-04-13T03:01:27.892882Z",
     "iopub.status.idle": "2025-04-13T03:01:28.184339Z",
     "shell.execute_reply": "2025-04-13T03:01:28.183625Z"
    }
   },
   "outputs": [],
   "source": [
    "topology = msm.convert(molsys_B, to_form='openmm.Topology')\n",
    "structures = msm.convert(molsys_C, to_form='XYZ')"
   ]
  },
  {
   "cell_type": "code",
   "execution_count": 8,
   "metadata": {
    "execution": {
     "iopub.execute_input": "2025-04-13T03:01:28.186798Z",
     "iopub.status.busy": "2025-04-13T03:01:28.186563Z",
     "iopub.status.idle": "2025-04-13T03:01:28.302202Z",
     "shell.execute_reply": "2025-04-13T03:01:28.299726Z"
    }
   },
   "outputs": [
    {
     "data": {
      "text/plain": [
       "False"
      ]
     },
     "execution_count": 8,
     "metadata": {},
     "output_type": "execute_result"
    }
   ],
   "source": [
    "msm.are_multiple_molecular_systems([molsys_A, molsys_B, [topology, structures]])"
   ]
  },
  {
   "cell_type": "markdown",
   "metadata": {},
   "source": [
    "This function is especially useful in validation workflows where input data may be heterogeneous\n",
    "or come from multiple sources. For individual objects, use :func:`molsysmt.basic.is_a_molecular_system`."
   ]
  },
  {
   "cell_type": "markdown",
   "metadata": {},
   "source": [
    ":::{seealso}\n",
    "[User guide > Introduction > Demo systems](../../intro/demo_systems.ipynb):   \n",
    "Explore pre-defined molecular systems available for testing and tutorials.\n",
    "\n",
    "[User guide > Tools > Basic > Convert](convert.ipynb): \n",
    "Convert a molecular system into another form.    \n",
    "\n",
    "[User guide > Tools > Basic > Is a molecular system](is_a_molecular_system.ipynb):    \n",
    "Check whether a single object is a valid molecular system, including lists that represent composite forms (e.g. `[Topology, Structures]`).\n",
    ":::"
   ]
  }
 ],
 "metadata": {
  "kernelspec": {
   "display_name": "Python 3 (ipykernel)",
   "language": "python",
   "name": "python3"
  },
  "language_info": {
   "codemirror_mode": {
    "name": "ipython",
    "version": 3
   },
   "file_extension": ".py",
   "mimetype": "text/x-python",
   "name": "python",
   "nbconvert_exporter": "python",
   "pygments_lexer": "ipython3",
   "version": "3.12.9"
  },
  "widgets": {
   "application/vnd.jupyter.widget-state+json": {
    "state": {
     "1ac32e9b691a44479b467989cbc4c4e8": {
      "model_module": "@jupyter-widgets/base",
      "model_module_version": "2.0.0",
      "model_name": "LayoutModel",
      "state": {
       "_model_module": "@jupyter-widgets/base",
       "_model_module_version": "2.0.0",
       "_model_name": "LayoutModel",
       "_view_count": null,
       "_view_module": "@jupyter-widgets/base",
       "_view_module_version": "2.0.0",
       "_view_name": "LayoutView",
       "align_content": null,
       "align_items": null,
       "align_self": null,
       "border_bottom": null,
       "border_left": null,
       "border_right": null,
       "border_top": null,
       "bottom": null,
       "display": null,
       "flex": null,
       "flex_flow": null,
       "grid_area": null,
       "grid_auto_columns": null,
       "grid_auto_flow": null,
       "grid_auto_rows": null,
       "grid_column": null,
       "grid_gap": null,
       "grid_row": null,
       "grid_template_areas": null,
       "grid_template_columns": null,
       "grid_template_rows": null,
       "height": null,
       "justify_content": null,
       "justify_items": null,
       "left": null,
       "margin": null,
       "max_height": null,
       "max_width": null,
       "min_height": null,
       "min_width": null,
       "object_fit": null,
       "object_position": null,
       "order": null,
       "overflow": null,
       "padding": null,
       "right": null,
       "top": null,
       "visibility": null,
       "width": null
      }
     },
     "9cd7e227aac64d0a85d134f82c5e159c": {
      "model_module": "nglview-js-widgets",
      "model_module_version": "3.0.8",
      "model_name": "ColormakerRegistryModel",
      "state": {
       "_dom_classes": [],
       "_model_module": "nglview-js-widgets",
       "_model_module_version": "3.0.8",
       "_model_name": "ColormakerRegistryModel",
       "_msg_ar": [],
       "_msg_q": [],
       "_ready": false,
       "_view_count": null,
       "_view_module": "nglview-js-widgets",
       "_view_module_version": "3.0.8",
       "_view_name": "ColormakerRegistryView",
       "layout": "IPY_MODEL_1ac32e9b691a44479b467989cbc4c4e8",
       "tabbable": null,
       "tooltip": null
      }
     }
    },
    "version_major": 2,
    "version_minor": 0
   }
  }
 },
 "nbformat": 4,
 "nbformat_minor": 4
}
