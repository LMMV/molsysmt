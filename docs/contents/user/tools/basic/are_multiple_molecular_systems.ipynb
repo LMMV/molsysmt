{
 "cells": [
  {
   "cell_type": "code",
   "execution_count": 1,
   "metadata": {
    "execution": {
     "iopub.execute_input": "2025-04-13T02:32:56.699786Z",
     "iopub.status.busy": "2025-04-13T02:32:56.698128Z",
     "iopub.status.idle": "2025-04-13T02:32:56.719122Z",
     "shell.execute_reply": "2025-04-13T02:32:56.717509Z"
    },
    "tags": [
     "remove-input"
    ]
   },
   "outputs": [],
   "source": [
    "# This cell is removed with the tag: \"remove-input\"\n",
    "# As such, it will not be shown in documentation\n",
    "\n",
    "import warnings\n",
    "warnings.filterwarnings('ignore')"
   ]
  },
  {
   "cell_type": "markdown",
   "metadata": {},
   "source": [
    "(Tutorial_Are_multiple_molecular_systems)=\n",
    "# Are multiple molecular systems\n",
    "\n",
    "*Checking whether a list contains only valid molecular systems.*\n",
    "\n",
    "The function verifies {func}`molsysmt.basic.are_multiple_molecular_systems` that all items in the input list are recognized as valid molecular systems in supported forms.\n",
    "\n",
    "## How this function works\n",
    "\n",
    "```{admonition} API documentation\n",
    "Follow this link for a detailed description of the input arguments, raised errors, and returned objects of this function:{func}`molsysmt.basic.are_multiple_molecular_systems`.\n",
    "```\n",
    "\n",
    "Let's show how this method works with some simple cases:"
   ]
  },
  {
   "cell_type": "code",
   "execution_count": 2,
   "metadata": {
    "execution": {
     "iopub.execute_input": "2025-04-13T02:32:56.724359Z",
     "iopub.status.busy": "2025-04-13T02:32:56.723500Z",
     "iopub.status.idle": "2025-04-13T02:33:03.021758Z",
     "shell.execute_reply": "2025-04-13T02:33:03.020568Z"
    }
   },
   "outputs": [
    {
     "data": {
      "application/vnd.jupyter.widget-view+json": {
       "model_id": "5f103b20d30b4a0a99b59f910a342621",
       "version_major": 2,
       "version_minor": 0
      },
      "text/plain": []
     },
     "metadata": {},
     "output_type": "display_data"
    }
   ],
   "source": [
    "import molsysmt as msm\n",
    "from molsysmt import systems"
   ]
  },
  {
   "cell_type": "code",
   "execution_count": 3,
   "metadata": {
    "execution": {
     "iopub.execute_input": "2025-04-13T02:33:03.025141Z",
     "iopub.status.busy": "2025-04-13T02:33:03.024544Z",
     "iopub.status.idle": "2025-04-13T02:33:03.029231Z",
     "shell.execute_reply": "2025-04-13T02:33:03.028455Z"
    }
   },
   "outputs": [],
   "source": [
    "molsys_A = '2LAO'\n",
    "molsys_B = systems['Trp-Cage']['1l2y.h5msm']\n",
    "molsys_C = systems['T4 lysozyme L99A']['t4_lysozyme_L99A.h5msm']"
   ]
  },
  {
   "cell_type": "code",
   "execution_count": 4,
   "metadata": {
    "execution": {
     "iopub.execute_input": "2025-04-13T02:33:03.031872Z",
     "iopub.status.busy": "2025-04-13T02:33:03.031557Z",
     "iopub.status.idle": "2025-04-13T02:33:04.215976Z",
     "shell.execute_reply": "2025-04-13T02:33:04.212839Z"
    }
   },
   "outputs": [
    {
     "data": {
      "text/plain": [
       "True"
      ]
     },
     "execution_count": 4,
     "metadata": {},
     "output_type": "execute_result"
    }
   ],
   "source": [
    "msm.are_multiple_molecular_systems([molsys_A, molsys_B, molsys_C])"
   ]
  },
  {
   "cell_type": "markdown",
   "metadata": {},
   "source": [
    ":::{tip}\n",
    "All methods defined in the {ref}`molsysmt.basic <API basic>` module can be invoked also from the main level of the library. As such, {func}`molsysmt.are_multiple_molecular_systems` is the same method as {func}`molsysmt.basic.are_multiple_molecular_systems`.\n",
    ":::"
   ]
  },
  {
   "cell_type": "markdown",
   "metadata": {},
   "source": [
    "A molecular system can also be composed by more than one item. This way:"
   ]
  },
  {
   "cell_type": "code",
   "execution_count": 5,
   "metadata": {
    "execution": {
     "iopub.execute_input": "2025-04-13T02:33:04.234006Z",
     "iopub.status.busy": "2025-04-13T02:33:04.227702Z",
     "iopub.status.idle": "2025-04-13T02:33:04.896161Z",
     "shell.execute_reply": "2025-04-13T02:33:04.895225Z"
    }
   },
   "outputs": [],
   "source": [
    "topology = msm.convert(molsys_C, to_form='openmm.Topology')\n",
    "structures = msm.convert(molsys_C, to_form='XYZ')"
   ]
  },
  {
   "cell_type": "code",
   "execution_count": 6,
   "metadata": {
    "execution": {
     "iopub.execute_input": "2025-04-13T02:33:04.898705Z",
     "iopub.status.busy": "2025-04-13T02:33:04.898297Z",
     "iopub.status.idle": "2025-04-13T02:33:05.042640Z",
     "shell.execute_reply": "2025-04-13T02:33:05.039858Z"
    }
   },
   "outputs": [
    {
     "data": {
      "text/plain": [
       "True"
      ]
     },
     "execution_count": 6,
     "metadata": {},
     "output_type": "execute_result"
    }
   ],
   "source": [
    "msm.are_multiple_molecular_systems([molsys_A, molsys_B, [topology, structures]])"
   ]
  },
  {
   "cell_type": "markdown",
   "metadata": {},
   "source": [
    "Let's see the result when all objects in the input list are not molecular systems:"
   ]
  },
  {
   "cell_type": "code",
   "execution_count": 7,
   "metadata": {
    "execution": {
     "iopub.execute_input": "2025-04-13T02:33:05.050569Z",
     "iopub.status.busy": "2025-04-13T02:33:05.050013Z",
     "iopub.status.idle": "2025-04-13T02:33:05.514452Z",
     "shell.execute_reply": "2025-04-13T02:33:05.513599Z"
    }
   },
   "outputs": [],
   "source": [
    "topology = msm.convert(molsys_B, to_form='openmm.Topology')\n",
    "structures = msm.convert(molsys_C, to_form='XYZ')"
   ]
  },
  {
   "cell_type": "code",
   "execution_count": 8,
   "metadata": {
    "execution": {
     "iopub.execute_input": "2025-04-13T02:33:05.517040Z",
     "iopub.status.busy": "2025-04-13T02:33:05.516809Z",
     "iopub.status.idle": "2025-04-13T02:33:05.644121Z",
     "shell.execute_reply": "2025-04-13T02:33:05.641320Z"
    }
   },
   "outputs": [
    {
     "data": {
      "text/plain": [
       "False"
      ]
     },
     "execution_count": 8,
     "metadata": {},
     "output_type": "execute_result"
    }
   ],
   "source": [
    "msm.are_multiple_molecular_systems([molsys_A, molsys_B, [topology, structures]])"
   ]
  },
  {
   "cell_type": "markdown",
   "metadata": {},
   "source": [
    "This function is especially useful in validation workflows where input data may be heterogeneous\n",
    "or come from multiple sources. For individual objects, use :func:`molsysmt.basic.is_a_molecular_system`."
   ]
  },
  {
   "cell_type": "markdown",
   "metadata": {},
   "source": [
    ":::{seealso}\n",
    "[User guide > Introduction > Demo systems](../../intro/demo_systems.ipynb):   \n",
    "Explore pre-defined molecular systems available for testing and tutorials.\n",
    "\n",
    "[User guide > Tools > Basic > Convert](convert.ipynb): \n",
    "Convert a molecular system into another form.    \n",
    "\n",
    "[User guide > Tools > Basic > Is a molecular system](is_a_molecular_system.ipynb):    \n",
    "Check whether a single object is a valid molecular system, including lists that represent composite forms (e.g. `[Topology, Structures]`).\n",
    ":::"
   ]
  }
 ],
 "metadata": {
  "kernelspec": {
   "display_name": "Python 3 (ipykernel)",
   "language": "python",
   "name": "python3"
  },
  "language_info": {
   "codemirror_mode": {
    "name": "ipython",
    "version": 3
   },
   "file_extension": ".py",
   "mimetype": "text/x-python",
   "name": "python",
   "nbconvert_exporter": "python",
   "pygments_lexer": "ipython3",
   "version": "3.12.9"
  },
  "widgets": {
   "application/vnd.jupyter.widget-state+json": {
    "state": {
     "5f103b20d30b4a0a99b59f910a342621": {
      "model_module": "nglview-js-widgets",
      "model_module_version": "3.0.8",
      "model_name": "ColormakerRegistryModel",
      "state": {
       "_dom_classes": [],
       "_model_module": "nglview-js-widgets",
       "_model_module_version": "3.0.8",
       "_model_name": "ColormakerRegistryModel",
       "_msg_ar": [],
       "_msg_q": [],
       "_ready": false,
       "_view_count": null,
       "_view_module": "nglview-js-widgets",
       "_view_module_version": "3.0.8",
       "_view_name": "ColormakerRegistryView",
       "layout": "IPY_MODEL_dddc3963dd9d41a08805b57bf90f807d",
       "tabbable": null,
       "tooltip": null
      }
     },
     "dddc3963dd9d41a08805b57bf90f807d": {
      "model_module": "@jupyter-widgets/base",
      "model_module_version": "2.0.0",
      "model_name": "LayoutModel",
      "state": {
       "_model_module": "@jupyter-widgets/base",
       "_model_module_version": "2.0.0",
       "_model_name": "LayoutModel",
       "_view_count": null,
       "_view_module": "@jupyter-widgets/base",
       "_view_module_version": "2.0.0",
       "_view_name": "LayoutView",
       "align_content": null,
       "align_items": null,
       "align_self": null,
       "border_bottom": null,
       "border_left": null,
       "border_right": null,
       "border_top": null,
       "bottom": null,
       "display": null,
       "flex": null,
       "flex_flow": null,
       "grid_area": null,
       "grid_auto_columns": null,
       "grid_auto_flow": null,
       "grid_auto_rows": null,
       "grid_column": null,
       "grid_gap": null,
       "grid_row": null,
       "grid_template_areas": null,
       "grid_template_columns": null,
       "grid_template_rows": null,
       "height": null,
       "justify_content": null,
       "justify_items": null,
       "left": null,
       "margin": null,
       "max_height": null,
       "max_width": null,
       "min_height": null,
       "min_width": null,
       "object_fit": null,
       "object_position": null,
       "order": null,
       "overflow": null,
       "padding": null,
       "right": null,
       "top": null,
       "visibility": null,
       "width": null
      }
     }
    },
    "version_major": 2,
    "version_minor": 0
   }
  }
 },
 "nbformat": 4,
 "nbformat_minor": 4
}
