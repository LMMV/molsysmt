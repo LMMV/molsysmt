{
 "cells": [
  {
   "cell_type": "code",
   "execution_count": 1,
   "metadata": {
    "editable": true,
    "execution": {
     "iopub.execute_input": "2025-03-11T21:03:25.553657Z",
     "iopub.status.busy": "2025-03-11T21:03:25.553254Z",
     "iopub.status.idle": "2025-03-11T21:03:25.557727Z",
     "shell.execute_reply": "2025-03-11T21:03:25.557212Z"
    },
    "slideshow": {
     "slide_type": ""
    },
    "tags": [
     "remove-input"
    ]
   },
   "outputs": [],
   "source": [
    "# This cell is removed with the tag: \"remove-input\"\n",
    "# As such, it will not be shown in documentation\n",
    "\n",
    "#import warnings\n",
    "#warnings.filterwarnings('ignore')"
   ]
  },
  {
   "cell_type": "markdown",
   "metadata": {
    "editable": true,
    "slideshow": {
     "slide_type": ""
    },
    "tags": []
   },
   "source": [
    "(Tutorial_Set)=\n",
    "# Set\n",
    "*Setting attribute values to a molecular system.*\n",
    "\n",
    "Some values of a molecular system can be changed without changing the nature of the system: box, coordinates, forcefield, etc. Sometimes other attribute values need to be changed to correct them: a wrong residue name or atom type, for instance. MolSysMT includes in its basic tools module a function to assist you with these tasks: {func}`molsysmt.basic.set`. \n",
    "\n",
    "The list of attributes defined in MolSysMT for a molecular system can be checked in the section [User guide > Introduction > Molecular system > Attributes](../../introduction/molecular_system/attributes.ipynb).\n",
    "\n",
    "## How this function works\n",
    "\n",
    ":::{admonition} API documentation\n",
    "Follow this link for a detailed description of the input arguments, raised errors, and returned objects of this function:{func}`molsysmt.basic.set`.\n",
    ":::\n",
    "\n",
    "To illustrate how this function works, lets load a molecular system:"
   ]
  },
  {
   "cell_type": "code",
   "execution_count": 2,
   "metadata": {
    "execution": {
     "iopub.execute_input": "2025-03-11T21:03:25.560527Z",
     "iopub.status.busy": "2025-03-11T21:03:25.560288Z",
     "iopub.status.idle": "2025-03-11T21:03:34.230663Z",
     "shell.execute_reply": "2025-03-11T21:03:34.229718Z"
    }
   },
   "outputs": [
    {
     "data": {
      "application/vnd.jupyter.widget-view+json": {
       "model_id": "c3ace844f36d42249b1e182589ce64c5",
       "version_major": 2,
       "version_minor": 0
      },
      "text/plain": []
     },
     "metadata": {},
     "output_type": "display_data"
    }
   ],
   "source": [
    "import molsysmt as msm"
   ]
  },
  {
   "cell_type": "code",
   "execution_count": 3,
   "metadata": {
    "editable": true,
    "execution": {
     "iopub.execute_input": "2025-03-11T21:03:34.235206Z",
     "iopub.status.busy": "2025-03-11T21:03:34.233929Z",
     "iopub.status.idle": "2025-03-11T21:03:35.982612Z",
     "shell.execute_reply": "2025-03-11T21:03:35.981650Z"
    },
    "slideshow": {
     "slide_type": ""
    },
    "tags": []
   },
   "outputs": [],
   "source": [
    "molecular_system = msm.convert('181L')"
   ]
  },
  {
   "cell_type": "code",
   "execution_count": 4,
   "metadata": {
    "execution": {
     "iopub.execute_input": "2025-03-11T21:03:35.987383Z",
     "iopub.status.busy": "2025-03-11T21:03:35.986381Z",
     "iopub.status.idle": "2025-03-11T21:03:38.974972Z",
     "shell.execute_reply": "2025-03-11T21:03:38.974022Z"
    }
   },
   "outputs": [
    {
     "data": {
      "text/html": [
       "<style type=\"text/css\">\n",
       "</style>\n",
       "<table id=\"T_226f8\">\n",
       "  <thead>\n",
       "    <tr>\n",
       "      <th id=\"T_226f8_level0_col0\" class=\"col_heading level0 col0\" >form</th>\n",
       "      <th id=\"T_226f8_level0_col1\" class=\"col_heading level0 col1\" >n_atoms</th>\n",
       "      <th id=\"T_226f8_level0_col2\" class=\"col_heading level0 col2\" >n_groups</th>\n",
       "      <th id=\"T_226f8_level0_col3\" class=\"col_heading level0 col3\" >n_components</th>\n",
       "      <th id=\"T_226f8_level0_col4\" class=\"col_heading level0 col4\" >n_chains</th>\n",
       "      <th id=\"T_226f8_level0_col5\" class=\"col_heading level0 col5\" >n_molecules</th>\n",
       "      <th id=\"T_226f8_level0_col6\" class=\"col_heading level0 col6\" >n_entities</th>\n",
       "      <th id=\"T_226f8_level0_col7\" class=\"col_heading level0 col7\" >n_waters</th>\n",
       "      <th id=\"T_226f8_level0_col8\" class=\"col_heading level0 col8\" >n_ions</th>\n",
       "      <th id=\"T_226f8_level0_col9\" class=\"col_heading level0 col9\" >n_small_molecules</th>\n",
       "      <th id=\"T_226f8_level0_col10\" class=\"col_heading level0 col10\" >n_proteins</th>\n",
       "      <th id=\"T_226f8_level0_col11\" class=\"col_heading level0 col11\" >n_structures</th>\n",
       "    </tr>\n",
       "  </thead>\n",
       "  <tbody>\n",
       "    <tr>\n",
       "      <td id=\"T_226f8_row0_col0\" class=\"data row0 col0\" >molsysmt.MolSys</td>\n",
       "      <td id=\"T_226f8_row0_col1\" class=\"data row0 col1\" >1441</td>\n",
       "      <td id=\"T_226f8_row0_col2\" class=\"data row0 col2\" >302</td>\n",
       "      <td id=\"T_226f8_row0_col3\" class=\"data row0 col3\" >141</td>\n",
       "      <td id=\"T_226f8_row0_col4\" class=\"data row0 col4\" >6</td>\n",
       "      <td id=\"T_226f8_row0_col5\" class=\"data row0 col5\" >141</td>\n",
       "      <td id=\"T_226f8_row0_col6\" class=\"data row0 col6\" >5</td>\n",
       "      <td id=\"T_226f8_row0_col7\" class=\"data row0 col7\" >136</td>\n",
       "      <td id=\"T_226f8_row0_col8\" class=\"data row0 col8\" >2</td>\n",
       "      <td id=\"T_226f8_row0_col9\" class=\"data row0 col9\" >2</td>\n",
       "      <td id=\"T_226f8_row0_col10\" class=\"data row0 col10\" >1</td>\n",
       "      <td id=\"T_226f8_row0_col11\" class=\"data row0 col11\" >1</td>\n",
       "    </tr>\n",
       "  </tbody>\n",
       "</table>\n"
      ],
      "text/plain": [
       "<pandas.io.formats.style.Styler at 0x7f0b30cda870>"
      ]
     },
     "execution_count": 4,
     "metadata": {},
     "output_type": "execute_result"
    }
   ],
   "source": [
    "msm.info(molecular_system)"
   ]
  },
  {
   "cell_type": "markdown",
   "metadata": {},
   "source": [
    "Let's suppose that the name of the group index 30 is wrong in our system:"
   ]
  },
  {
   "cell_type": "code",
   "execution_count": 5,
   "metadata": {
    "execution": {
     "iopub.execute_input": "2025-03-11T21:03:38.979091Z",
     "iopub.status.busy": "2025-03-11T21:03:38.978569Z",
     "iopub.status.idle": "2025-03-11T21:03:41.739518Z",
     "shell.execute_reply": "2025-03-11T21:03:41.738429Z"
    }
   },
   "outputs": [
    {
     "data": {
      "text/html": [
       "<style type=\"text/css\">\n",
       "</style>\n",
       "<table id=\"T_3379e\">\n",
       "  <thead>\n",
       "    <tr>\n",
       "      <th id=\"T_3379e_level0_col0\" class=\"col_heading level0 col0\" >index</th>\n",
       "      <th id=\"T_3379e_level0_col1\" class=\"col_heading level0 col1\" >id</th>\n",
       "      <th id=\"T_3379e_level0_col2\" class=\"col_heading level0 col2\" >name</th>\n",
       "      <th id=\"T_3379e_level0_col3\" class=\"col_heading level0 col3\" >type</th>\n",
       "      <th id=\"T_3379e_level0_col4\" class=\"col_heading level0 col4\" >group index</th>\n",
       "      <th id=\"T_3379e_level0_col5\" class=\"col_heading level0 col5\" >group id</th>\n",
       "      <th id=\"T_3379e_level0_col6\" class=\"col_heading level0 col6\" >group name</th>\n",
       "      <th id=\"T_3379e_level0_col7\" class=\"col_heading level0 col7\" >group type</th>\n",
       "      <th id=\"T_3379e_level0_col8\" class=\"col_heading level0 col8\" >component index</th>\n",
       "      <th id=\"T_3379e_level0_col9\" class=\"col_heading level0 col9\" >chain index</th>\n",
       "      <th id=\"T_3379e_level0_col10\" class=\"col_heading level0 col10\" >molecule index</th>\n",
       "      <th id=\"T_3379e_level0_col11\" class=\"col_heading level0 col11\" >molecule type</th>\n",
       "      <th id=\"T_3379e_level0_col12\" class=\"col_heading level0 col12\" >entity index</th>\n",
       "      <th id=\"T_3379e_level0_col13\" class=\"col_heading level0 col13\" >entity name</th>\n",
       "    </tr>\n",
       "  </thead>\n",
       "  <tbody>\n",
       "    <tr>\n",
       "      <td id=\"T_3379e_row0_col0\" class=\"data row0 col0\" >248</td>\n",
       "      <td id=\"T_3379e_row0_col1\" class=\"data row0 col1\" >249</td>\n",
       "      <td id=\"T_3379e_row0_col2\" class=\"data row0 col2\" >N</td>\n",
       "      <td id=\"T_3379e_row0_col3\" class=\"data row0 col3\" >N</td>\n",
       "      <td id=\"T_3379e_row0_col4\" class=\"data row0 col4\" >30</td>\n",
       "      <td id=\"T_3379e_row0_col5\" class=\"data row0 col5\" >31</td>\n",
       "      <td id=\"T_3379e_row0_col6\" class=\"data row0 col6\" >HIS</td>\n",
       "      <td id=\"T_3379e_row0_col7\" class=\"data row0 col7\" >amino acid</td>\n",
       "      <td id=\"T_3379e_row0_col8\" class=\"data row0 col8\" >0</td>\n",
       "      <td id=\"T_3379e_row0_col9\" class=\"data row0 col9\" >0</td>\n",
       "      <td id=\"T_3379e_row0_col10\" class=\"data row0 col10\" >0</td>\n",
       "      <td id=\"T_3379e_row0_col11\" class=\"data row0 col11\" >protein</td>\n",
       "      <td id=\"T_3379e_row0_col12\" class=\"data row0 col12\" >0</td>\n",
       "      <td id=\"T_3379e_row0_col13\" class=\"data row0 col13\" >T4 LYSOZYME</td>\n",
       "    </tr>\n",
       "    <tr>\n",
       "      <td id=\"T_3379e_row1_col0\" class=\"data row1 col0\" >249</td>\n",
       "      <td id=\"T_3379e_row1_col1\" class=\"data row1 col1\" >250</td>\n",
       "      <td id=\"T_3379e_row1_col2\" class=\"data row1 col2\" >CA</td>\n",
       "      <td id=\"T_3379e_row1_col3\" class=\"data row1 col3\" >C</td>\n",
       "      <td id=\"T_3379e_row1_col4\" class=\"data row1 col4\" >30</td>\n",
       "      <td id=\"T_3379e_row1_col5\" class=\"data row1 col5\" >31</td>\n",
       "      <td id=\"T_3379e_row1_col6\" class=\"data row1 col6\" >HIS</td>\n",
       "      <td id=\"T_3379e_row1_col7\" class=\"data row1 col7\" >amino acid</td>\n",
       "      <td id=\"T_3379e_row1_col8\" class=\"data row1 col8\" >0</td>\n",
       "      <td id=\"T_3379e_row1_col9\" class=\"data row1 col9\" >0</td>\n",
       "      <td id=\"T_3379e_row1_col10\" class=\"data row1 col10\" >0</td>\n",
       "      <td id=\"T_3379e_row1_col11\" class=\"data row1 col11\" >protein</td>\n",
       "      <td id=\"T_3379e_row1_col12\" class=\"data row1 col12\" >0</td>\n",
       "      <td id=\"T_3379e_row1_col13\" class=\"data row1 col13\" >T4 LYSOZYME</td>\n",
       "    </tr>\n",
       "    <tr>\n",
       "      <td id=\"T_3379e_row2_col0\" class=\"data row2 col0\" >250</td>\n",
       "      <td id=\"T_3379e_row2_col1\" class=\"data row2 col1\" >251</td>\n",
       "      <td id=\"T_3379e_row2_col2\" class=\"data row2 col2\" >C</td>\n",
       "      <td id=\"T_3379e_row2_col3\" class=\"data row2 col3\" >C</td>\n",
       "      <td id=\"T_3379e_row2_col4\" class=\"data row2 col4\" >30</td>\n",
       "      <td id=\"T_3379e_row2_col5\" class=\"data row2 col5\" >31</td>\n",
       "      <td id=\"T_3379e_row2_col6\" class=\"data row2 col6\" >HIS</td>\n",
       "      <td id=\"T_3379e_row2_col7\" class=\"data row2 col7\" >amino acid</td>\n",
       "      <td id=\"T_3379e_row2_col8\" class=\"data row2 col8\" >0</td>\n",
       "      <td id=\"T_3379e_row2_col9\" class=\"data row2 col9\" >0</td>\n",
       "      <td id=\"T_3379e_row2_col10\" class=\"data row2 col10\" >0</td>\n",
       "      <td id=\"T_3379e_row2_col11\" class=\"data row2 col11\" >protein</td>\n",
       "      <td id=\"T_3379e_row2_col12\" class=\"data row2 col12\" >0</td>\n",
       "      <td id=\"T_3379e_row2_col13\" class=\"data row2 col13\" >T4 LYSOZYME</td>\n",
       "    </tr>\n",
       "    <tr>\n",
       "      <td id=\"T_3379e_row3_col0\" class=\"data row3 col0\" >251</td>\n",
       "      <td id=\"T_3379e_row3_col1\" class=\"data row3 col1\" >252</td>\n",
       "      <td id=\"T_3379e_row3_col2\" class=\"data row3 col2\" >O</td>\n",
       "      <td id=\"T_3379e_row3_col3\" class=\"data row3 col3\" >O</td>\n",
       "      <td id=\"T_3379e_row3_col4\" class=\"data row3 col4\" >30</td>\n",
       "      <td id=\"T_3379e_row3_col5\" class=\"data row3 col5\" >31</td>\n",
       "      <td id=\"T_3379e_row3_col6\" class=\"data row3 col6\" >HIS</td>\n",
       "      <td id=\"T_3379e_row3_col7\" class=\"data row3 col7\" >amino acid</td>\n",
       "      <td id=\"T_3379e_row3_col8\" class=\"data row3 col8\" >0</td>\n",
       "      <td id=\"T_3379e_row3_col9\" class=\"data row3 col9\" >0</td>\n",
       "      <td id=\"T_3379e_row3_col10\" class=\"data row3 col10\" >0</td>\n",
       "      <td id=\"T_3379e_row3_col11\" class=\"data row3 col11\" >protein</td>\n",
       "      <td id=\"T_3379e_row3_col12\" class=\"data row3 col12\" >0</td>\n",
       "      <td id=\"T_3379e_row3_col13\" class=\"data row3 col13\" >T4 LYSOZYME</td>\n",
       "    </tr>\n",
       "    <tr>\n",
       "      <td id=\"T_3379e_row4_col0\" class=\"data row4 col0\" >252</td>\n",
       "      <td id=\"T_3379e_row4_col1\" class=\"data row4 col1\" >253</td>\n",
       "      <td id=\"T_3379e_row4_col2\" class=\"data row4 col2\" >CB</td>\n",
       "      <td id=\"T_3379e_row4_col3\" class=\"data row4 col3\" >C</td>\n",
       "      <td id=\"T_3379e_row4_col4\" class=\"data row4 col4\" >30</td>\n",
       "      <td id=\"T_3379e_row4_col5\" class=\"data row4 col5\" >31</td>\n",
       "      <td id=\"T_3379e_row4_col6\" class=\"data row4 col6\" >HIS</td>\n",
       "      <td id=\"T_3379e_row4_col7\" class=\"data row4 col7\" >amino acid</td>\n",
       "      <td id=\"T_3379e_row4_col8\" class=\"data row4 col8\" >0</td>\n",
       "      <td id=\"T_3379e_row4_col9\" class=\"data row4 col9\" >0</td>\n",
       "      <td id=\"T_3379e_row4_col10\" class=\"data row4 col10\" >0</td>\n",
       "      <td id=\"T_3379e_row4_col11\" class=\"data row4 col11\" >protein</td>\n",
       "      <td id=\"T_3379e_row4_col12\" class=\"data row4 col12\" >0</td>\n",
       "      <td id=\"T_3379e_row4_col13\" class=\"data row4 col13\" >T4 LYSOZYME</td>\n",
       "    </tr>\n",
       "    <tr>\n",
       "      <td id=\"T_3379e_row5_col0\" class=\"data row5 col0\" >253</td>\n",
       "      <td id=\"T_3379e_row5_col1\" class=\"data row5 col1\" >254</td>\n",
       "      <td id=\"T_3379e_row5_col2\" class=\"data row5 col2\" >CG</td>\n",
       "      <td id=\"T_3379e_row5_col3\" class=\"data row5 col3\" >C</td>\n",
       "      <td id=\"T_3379e_row5_col4\" class=\"data row5 col4\" >30</td>\n",
       "      <td id=\"T_3379e_row5_col5\" class=\"data row5 col5\" >31</td>\n",
       "      <td id=\"T_3379e_row5_col6\" class=\"data row5 col6\" >HIS</td>\n",
       "      <td id=\"T_3379e_row5_col7\" class=\"data row5 col7\" >amino acid</td>\n",
       "      <td id=\"T_3379e_row5_col8\" class=\"data row5 col8\" >0</td>\n",
       "      <td id=\"T_3379e_row5_col9\" class=\"data row5 col9\" >0</td>\n",
       "      <td id=\"T_3379e_row5_col10\" class=\"data row5 col10\" >0</td>\n",
       "      <td id=\"T_3379e_row5_col11\" class=\"data row5 col11\" >protein</td>\n",
       "      <td id=\"T_3379e_row5_col12\" class=\"data row5 col12\" >0</td>\n",
       "      <td id=\"T_3379e_row5_col13\" class=\"data row5 col13\" >T4 LYSOZYME</td>\n",
       "    </tr>\n",
       "    <tr>\n",
       "      <td id=\"T_3379e_row6_col0\" class=\"data row6 col0\" >254</td>\n",
       "      <td id=\"T_3379e_row6_col1\" class=\"data row6 col1\" >255</td>\n",
       "      <td id=\"T_3379e_row6_col2\" class=\"data row6 col2\" >ND1</td>\n",
       "      <td id=\"T_3379e_row6_col3\" class=\"data row6 col3\" >N</td>\n",
       "      <td id=\"T_3379e_row6_col4\" class=\"data row6 col4\" >30</td>\n",
       "      <td id=\"T_3379e_row6_col5\" class=\"data row6 col5\" >31</td>\n",
       "      <td id=\"T_3379e_row6_col6\" class=\"data row6 col6\" >HIS</td>\n",
       "      <td id=\"T_3379e_row6_col7\" class=\"data row6 col7\" >amino acid</td>\n",
       "      <td id=\"T_3379e_row6_col8\" class=\"data row6 col8\" >0</td>\n",
       "      <td id=\"T_3379e_row6_col9\" class=\"data row6 col9\" >0</td>\n",
       "      <td id=\"T_3379e_row6_col10\" class=\"data row6 col10\" >0</td>\n",
       "      <td id=\"T_3379e_row6_col11\" class=\"data row6 col11\" >protein</td>\n",
       "      <td id=\"T_3379e_row6_col12\" class=\"data row6 col12\" >0</td>\n",
       "      <td id=\"T_3379e_row6_col13\" class=\"data row6 col13\" >T4 LYSOZYME</td>\n",
       "    </tr>\n",
       "    <tr>\n",
       "      <td id=\"T_3379e_row7_col0\" class=\"data row7 col0\" >255</td>\n",
       "      <td id=\"T_3379e_row7_col1\" class=\"data row7 col1\" >256</td>\n",
       "      <td id=\"T_3379e_row7_col2\" class=\"data row7 col2\" >CD2</td>\n",
       "      <td id=\"T_3379e_row7_col3\" class=\"data row7 col3\" >C</td>\n",
       "      <td id=\"T_3379e_row7_col4\" class=\"data row7 col4\" >30</td>\n",
       "      <td id=\"T_3379e_row7_col5\" class=\"data row7 col5\" >31</td>\n",
       "      <td id=\"T_3379e_row7_col6\" class=\"data row7 col6\" >HIS</td>\n",
       "      <td id=\"T_3379e_row7_col7\" class=\"data row7 col7\" >amino acid</td>\n",
       "      <td id=\"T_3379e_row7_col8\" class=\"data row7 col8\" >0</td>\n",
       "      <td id=\"T_3379e_row7_col9\" class=\"data row7 col9\" >0</td>\n",
       "      <td id=\"T_3379e_row7_col10\" class=\"data row7 col10\" >0</td>\n",
       "      <td id=\"T_3379e_row7_col11\" class=\"data row7 col11\" >protein</td>\n",
       "      <td id=\"T_3379e_row7_col12\" class=\"data row7 col12\" >0</td>\n",
       "      <td id=\"T_3379e_row7_col13\" class=\"data row7 col13\" >T4 LYSOZYME</td>\n",
       "    </tr>\n",
       "    <tr>\n",
       "      <td id=\"T_3379e_row8_col0\" class=\"data row8 col0\" >256</td>\n",
       "      <td id=\"T_3379e_row8_col1\" class=\"data row8 col1\" >257</td>\n",
       "      <td id=\"T_3379e_row8_col2\" class=\"data row8 col2\" >CE1</td>\n",
       "      <td id=\"T_3379e_row8_col3\" class=\"data row8 col3\" >C</td>\n",
       "      <td id=\"T_3379e_row8_col4\" class=\"data row8 col4\" >30</td>\n",
       "      <td id=\"T_3379e_row8_col5\" class=\"data row8 col5\" >31</td>\n",
       "      <td id=\"T_3379e_row8_col6\" class=\"data row8 col6\" >HIS</td>\n",
       "      <td id=\"T_3379e_row8_col7\" class=\"data row8 col7\" >amino acid</td>\n",
       "      <td id=\"T_3379e_row8_col8\" class=\"data row8 col8\" >0</td>\n",
       "      <td id=\"T_3379e_row8_col9\" class=\"data row8 col9\" >0</td>\n",
       "      <td id=\"T_3379e_row8_col10\" class=\"data row8 col10\" >0</td>\n",
       "      <td id=\"T_3379e_row8_col11\" class=\"data row8 col11\" >protein</td>\n",
       "      <td id=\"T_3379e_row8_col12\" class=\"data row8 col12\" >0</td>\n",
       "      <td id=\"T_3379e_row8_col13\" class=\"data row8 col13\" >T4 LYSOZYME</td>\n",
       "    </tr>\n",
       "    <tr>\n",
       "      <td id=\"T_3379e_row9_col0\" class=\"data row9 col0\" >257</td>\n",
       "      <td id=\"T_3379e_row9_col1\" class=\"data row9 col1\" >258</td>\n",
       "      <td id=\"T_3379e_row9_col2\" class=\"data row9 col2\" >NE2</td>\n",
       "      <td id=\"T_3379e_row9_col3\" class=\"data row9 col3\" >N</td>\n",
       "      <td id=\"T_3379e_row9_col4\" class=\"data row9 col4\" >30</td>\n",
       "      <td id=\"T_3379e_row9_col5\" class=\"data row9 col5\" >31</td>\n",
       "      <td id=\"T_3379e_row9_col6\" class=\"data row9 col6\" >HIS</td>\n",
       "      <td id=\"T_3379e_row9_col7\" class=\"data row9 col7\" >amino acid</td>\n",
       "      <td id=\"T_3379e_row9_col8\" class=\"data row9 col8\" >0</td>\n",
       "      <td id=\"T_3379e_row9_col9\" class=\"data row9 col9\" >0</td>\n",
       "      <td id=\"T_3379e_row9_col10\" class=\"data row9 col10\" >0</td>\n",
       "      <td id=\"T_3379e_row9_col11\" class=\"data row9 col11\" >protein</td>\n",
       "      <td id=\"T_3379e_row9_col12\" class=\"data row9 col12\" >0</td>\n",
       "      <td id=\"T_3379e_row9_col13\" class=\"data row9 col13\" >T4 LYSOZYME</td>\n",
       "    </tr>\n",
       "  </tbody>\n",
       "</table>\n"
      ],
      "text/plain": [
       "<pandas.io.formats.style.Styler at 0x7f0b30b8c2c0>"
      ]
     },
     "execution_count": 5,
     "metadata": {},
     "output_type": "execute_result"
    }
   ],
   "source": [
    "msm.info(molecular_system, element='atom', selection='group_index==30')"
   ]
  },
  {
   "cell_type": "markdown",
   "metadata": {},
   "source": [
    "Let's now suppose that the histidine residue should be named \"HSD\" and not \"HIS\". With the function {func}:`molsysmt.basic.set` this attribute value can be replaced:"
   ]
  },
  {
   "cell_type": "code",
   "execution_count": 6,
   "metadata": {
    "execution": {
     "iopub.execute_input": "2025-03-11T21:03:41.743897Z",
     "iopub.status.busy": "2025-03-11T21:03:41.743329Z",
     "iopub.status.idle": "2025-03-11T21:03:42.374897Z",
     "shell.execute_reply": "2025-03-11T21:03:42.373917Z"
    }
   },
   "outputs": [],
   "source": [
    "msm.set(molecular_system, selection='group_index==30', group_name='HSD')"
   ]
  },
  {
   "cell_type": "markdown",
   "metadata": {
    "editable": true,
    "slideshow": {
     "slide_type": ""
    },
    "tags": []
   },
   "source": [
    ":::{tip}\n",
    "All methods defined in the {ref}`molsysmt.basic <API basic>` module can be invoked also from the main level of the library. Hence, {func}`molsysmt.set` is the same method as {func}`molsysmt.basic.set`.\n",
    ":::"
   ]
  },
  {
   "cell_type": "markdown",
   "metadata": {},
   "source": [
    "Let's check that the group name changed in deed:"
   ]
  },
  {
   "cell_type": "code",
   "execution_count": 7,
   "metadata": {
    "execution": {
     "iopub.execute_input": "2025-03-11T21:03:42.379529Z",
     "iopub.status.busy": "2025-03-11T21:03:42.378958Z",
     "iopub.status.idle": "2025-03-11T21:03:45.394883Z",
     "shell.execute_reply": "2025-03-11T21:03:45.394008Z"
    }
   },
   "outputs": [
    {
     "data": {
      "text/html": [
       "<style type=\"text/css\">\n",
       "</style>\n",
       "<table id=\"T_be4aa\">\n",
       "  <thead>\n",
       "    <tr>\n",
       "      <th id=\"T_be4aa_level0_col0\" class=\"col_heading level0 col0\" >index</th>\n",
       "      <th id=\"T_be4aa_level0_col1\" class=\"col_heading level0 col1\" >id</th>\n",
       "      <th id=\"T_be4aa_level0_col2\" class=\"col_heading level0 col2\" >name</th>\n",
       "      <th id=\"T_be4aa_level0_col3\" class=\"col_heading level0 col3\" >type</th>\n",
       "      <th id=\"T_be4aa_level0_col4\" class=\"col_heading level0 col4\" >group index</th>\n",
       "      <th id=\"T_be4aa_level0_col5\" class=\"col_heading level0 col5\" >group id</th>\n",
       "      <th id=\"T_be4aa_level0_col6\" class=\"col_heading level0 col6\" >group name</th>\n",
       "      <th id=\"T_be4aa_level0_col7\" class=\"col_heading level0 col7\" >group type</th>\n",
       "      <th id=\"T_be4aa_level0_col8\" class=\"col_heading level0 col8\" >component index</th>\n",
       "      <th id=\"T_be4aa_level0_col9\" class=\"col_heading level0 col9\" >chain index</th>\n",
       "      <th id=\"T_be4aa_level0_col10\" class=\"col_heading level0 col10\" >molecule index</th>\n",
       "      <th id=\"T_be4aa_level0_col11\" class=\"col_heading level0 col11\" >molecule type</th>\n",
       "      <th id=\"T_be4aa_level0_col12\" class=\"col_heading level0 col12\" >entity index</th>\n",
       "      <th id=\"T_be4aa_level0_col13\" class=\"col_heading level0 col13\" >entity name</th>\n",
       "    </tr>\n",
       "  </thead>\n",
       "  <tbody>\n",
       "    <tr>\n",
       "      <td id=\"T_be4aa_row0_col0\" class=\"data row0 col0\" >248</td>\n",
       "      <td id=\"T_be4aa_row0_col1\" class=\"data row0 col1\" >249</td>\n",
       "      <td id=\"T_be4aa_row0_col2\" class=\"data row0 col2\" >N</td>\n",
       "      <td id=\"T_be4aa_row0_col3\" class=\"data row0 col3\" >N</td>\n",
       "      <td id=\"T_be4aa_row0_col4\" class=\"data row0 col4\" >30</td>\n",
       "      <td id=\"T_be4aa_row0_col5\" class=\"data row0 col5\" >31</td>\n",
       "      <td id=\"T_be4aa_row0_col6\" class=\"data row0 col6\" >HSD</td>\n",
       "      <td id=\"T_be4aa_row0_col7\" class=\"data row0 col7\" >amino acid</td>\n",
       "      <td id=\"T_be4aa_row0_col8\" class=\"data row0 col8\" >0</td>\n",
       "      <td id=\"T_be4aa_row0_col9\" class=\"data row0 col9\" >0</td>\n",
       "      <td id=\"T_be4aa_row0_col10\" class=\"data row0 col10\" >0</td>\n",
       "      <td id=\"T_be4aa_row0_col11\" class=\"data row0 col11\" >protein</td>\n",
       "      <td id=\"T_be4aa_row0_col12\" class=\"data row0 col12\" >0</td>\n",
       "      <td id=\"T_be4aa_row0_col13\" class=\"data row0 col13\" >T4 LYSOZYME</td>\n",
       "    </tr>\n",
       "    <tr>\n",
       "      <td id=\"T_be4aa_row1_col0\" class=\"data row1 col0\" >249</td>\n",
       "      <td id=\"T_be4aa_row1_col1\" class=\"data row1 col1\" >250</td>\n",
       "      <td id=\"T_be4aa_row1_col2\" class=\"data row1 col2\" >CA</td>\n",
       "      <td id=\"T_be4aa_row1_col3\" class=\"data row1 col3\" >C</td>\n",
       "      <td id=\"T_be4aa_row1_col4\" class=\"data row1 col4\" >30</td>\n",
       "      <td id=\"T_be4aa_row1_col5\" class=\"data row1 col5\" >31</td>\n",
       "      <td id=\"T_be4aa_row1_col6\" class=\"data row1 col6\" >HSD</td>\n",
       "      <td id=\"T_be4aa_row1_col7\" class=\"data row1 col7\" >amino acid</td>\n",
       "      <td id=\"T_be4aa_row1_col8\" class=\"data row1 col8\" >0</td>\n",
       "      <td id=\"T_be4aa_row1_col9\" class=\"data row1 col9\" >0</td>\n",
       "      <td id=\"T_be4aa_row1_col10\" class=\"data row1 col10\" >0</td>\n",
       "      <td id=\"T_be4aa_row1_col11\" class=\"data row1 col11\" >protein</td>\n",
       "      <td id=\"T_be4aa_row1_col12\" class=\"data row1 col12\" >0</td>\n",
       "      <td id=\"T_be4aa_row1_col13\" class=\"data row1 col13\" >T4 LYSOZYME</td>\n",
       "    </tr>\n",
       "    <tr>\n",
       "      <td id=\"T_be4aa_row2_col0\" class=\"data row2 col0\" >250</td>\n",
       "      <td id=\"T_be4aa_row2_col1\" class=\"data row2 col1\" >251</td>\n",
       "      <td id=\"T_be4aa_row2_col2\" class=\"data row2 col2\" >C</td>\n",
       "      <td id=\"T_be4aa_row2_col3\" class=\"data row2 col3\" >C</td>\n",
       "      <td id=\"T_be4aa_row2_col4\" class=\"data row2 col4\" >30</td>\n",
       "      <td id=\"T_be4aa_row2_col5\" class=\"data row2 col5\" >31</td>\n",
       "      <td id=\"T_be4aa_row2_col6\" class=\"data row2 col6\" >HSD</td>\n",
       "      <td id=\"T_be4aa_row2_col7\" class=\"data row2 col7\" >amino acid</td>\n",
       "      <td id=\"T_be4aa_row2_col8\" class=\"data row2 col8\" >0</td>\n",
       "      <td id=\"T_be4aa_row2_col9\" class=\"data row2 col9\" >0</td>\n",
       "      <td id=\"T_be4aa_row2_col10\" class=\"data row2 col10\" >0</td>\n",
       "      <td id=\"T_be4aa_row2_col11\" class=\"data row2 col11\" >protein</td>\n",
       "      <td id=\"T_be4aa_row2_col12\" class=\"data row2 col12\" >0</td>\n",
       "      <td id=\"T_be4aa_row2_col13\" class=\"data row2 col13\" >T4 LYSOZYME</td>\n",
       "    </tr>\n",
       "    <tr>\n",
       "      <td id=\"T_be4aa_row3_col0\" class=\"data row3 col0\" >251</td>\n",
       "      <td id=\"T_be4aa_row3_col1\" class=\"data row3 col1\" >252</td>\n",
       "      <td id=\"T_be4aa_row3_col2\" class=\"data row3 col2\" >O</td>\n",
       "      <td id=\"T_be4aa_row3_col3\" class=\"data row3 col3\" >O</td>\n",
       "      <td id=\"T_be4aa_row3_col4\" class=\"data row3 col4\" >30</td>\n",
       "      <td id=\"T_be4aa_row3_col5\" class=\"data row3 col5\" >31</td>\n",
       "      <td id=\"T_be4aa_row3_col6\" class=\"data row3 col6\" >HSD</td>\n",
       "      <td id=\"T_be4aa_row3_col7\" class=\"data row3 col7\" >amino acid</td>\n",
       "      <td id=\"T_be4aa_row3_col8\" class=\"data row3 col8\" >0</td>\n",
       "      <td id=\"T_be4aa_row3_col9\" class=\"data row3 col9\" >0</td>\n",
       "      <td id=\"T_be4aa_row3_col10\" class=\"data row3 col10\" >0</td>\n",
       "      <td id=\"T_be4aa_row3_col11\" class=\"data row3 col11\" >protein</td>\n",
       "      <td id=\"T_be4aa_row3_col12\" class=\"data row3 col12\" >0</td>\n",
       "      <td id=\"T_be4aa_row3_col13\" class=\"data row3 col13\" >T4 LYSOZYME</td>\n",
       "    </tr>\n",
       "    <tr>\n",
       "      <td id=\"T_be4aa_row4_col0\" class=\"data row4 col0\" >252</td>\n",
       "      <td id=\"T_be4aa_row4_col1\" class=\"data row4 col1\" >253</td>\n",
       "      <td id=\"T_be4aa_row4_col2\" class=\"data row4 col2\" >CB</td>\n",
       "      <td id=\"T_be4aa_row4_col3\" class=\"data row4 col3\" >C</td>\n",
       "      <td id=\"T_be4aa_row4_col4\" class=\"data row4 col4\" >30</td>\n",
       "      <td id=\"T_be4aa_row4_col5\" class=\"data row4 col5\" >31</td>\n",
       "      <td id=\"T_be4aa_row4_col6\" class=\"data row4 col6\" >HSD</td>\n",
       "      <td id=\"T_be4aa_row4_col7\" class=\"data row4 col7\" >amino acid</td>\n",
       "      <td id=\"T_be4aa_row4_col8\" class=\"data row4 col8\" >0</td>\n",
       "      <td id=\"T_be4aa_row4_col9\" class=\"data row4 col9\" >0</td>\n",
       "      <td id=\"T_be4aa_row4_col10\" class=\"data row4 col10\" >0</td>\n",
       "      <td id=\"T_be4aa_row4_col11\" class=\"data row4 col11\" >protein</td>\n",
       "      <td id=\"T_be4aa_row4_col12\" class=\"data row4 col12\" >0</td>\n",
       "      <td id=\"T_be4aa_row4_col13\" class=\"data row4 col13\" >T4 LYSOZYME</td>\n",
       "    </tr>\n",
       "    <tr>\n",
       "      <td id=\"T_be4aa_row5_col0\" class=\"data row5 col0\" >253</td>\n",
       "      <td id=\"T_be4aa_row5_col1\" class=\"data row5 col1\" >254</td>\n",
       "      <td id=\"T_be4aa_row5_col2\" class=\"data row5 col2\" >CG</td>\n",
       "      <td id=\"T_be4aa_row5_col3\" class=\"data row5 col3\" >C</td>\n",
       "      <td id=\"T_be4aa_row5_col4\" class=\"data row5 col4\" >30</td>\n",
       "      <td id=\"T_be4aa_row5_col5\" class=\"data row5 col5\" >31</td>\n",
       "      <td id=\"T_be4aa_row5_col6\" class=\"data row5 col6\" >HSD</td>\n",
       "      <td id=\"T_be4aa_row5_col7\" class=\"data row5 col7\" >amino acid</td>\n",
       "      <td id=\"T_be4aa_row5_col8\" class=\"data row5 col8\" >0</td>\n",
       "      <td id=\"T_be4aa_row5_col9\" class=\"data row5 col9\" >0</td>\n",
       "      <td id=\"T_be4aa_row5_col10\" class=\"data row5 col10\" >0</td>\n",
       "      <td id=\"T_be4aa_row5_col11\" class=\"data row5 col11\" >protein</td>\n",
       "      <td id=\"T_be4aa_row5_col12\" class=\"data row5 col12\" >0</td>\n",
       "      <td id=\"T_be4aa_row5_col13\" class=\"data row5 col13\" >T4 LYSOZYME</td>\n",
       "    </tr>\n",
       "    <tr>\n",
       "      <td id=\"T_be4aa_row6_col0\" class=\"data row6 col0\" >254</td>\n",
       "      <td id=\"T_be4aa_row6_col1\" class=\"data row6 col1\" >255</td>\n",
       "      <td id=\"T_be4aa_row6_col2\" class=\"data row6 col2\" >ND1</td>\n",
       "      <td id=\"T_be4aa_row6_col3\" class=\"data row6 col3\" >N</td>\n",
       "      <td id=\"T_be4aa_row6_col4\" class=\"data row6 col4\" >30</td>\n",
       "      <td id=\"T_be4aa_row6_col5\" class=\"data row6 col5\" >31</td>\n",
       "      <td id=\"T_be4aa_row6_col6\" class=\"data row6 col6\" >HSD</td>\n",
       "      <td id=\"T_be4aa_row6_col7\" class=\"data row6 col7\" >amino acid</td>\n",
       "      <td id=\"T_be4aa_row6_col8\" class=\"data row6 col8\" >0</td>\n",
       "      <td id=\"T_be4aa_row6_col9\" class=\"data row6 col9\" >0</td>\n",
       "      <td id=\"T_be4aa_row6_col10\" class=\"data row6 col10\" >0</td>\n",
       "      <td id=\"T_be4aa_row6_col11\" class=\"data row6 col11\" >protein</td>\n",
       "      <td id=\"T_be4aa_row6_col12\" class=\"data row6 col12\" >0</td>\n",
       "      <td id=\"T_be4aa_row6_col13\" class=\"data row6 col13\" >T4 LYSOZYME</td>\n",
       "    </tr>\n",
       "    <tr>\n",
       "      <td id=\"T_be4aa_row7_col0\" class=\"data row7 col0\" >255</td>\n",
       "      <td id=\"T_be4aa_row7_col1\" class=\"data row7 col1\" >256</td>\n",
       "      <td id=\"T_be4aa_row7_col2\" class=\"data row7 col2\" >CD2</td>\n",
       "      <td id=\"T_be4aa_row7_col3\" class=\"data row7 col3\" >C</td>\n",
       "      <td id=\"T_be4aa_row7_col4\" class=\"data row7 col4\" >30</td>\n",
       "      <td id=\"T_be4aa_row7_col5\" class=\"data row7 col5\" >31</td>\n",
       "      <td id=\"T_be4aa_row7_col6\" class=\"data row7 col6\" >HSD</td>\n",
       "      <td id=\"T_be4aa_row7_col7\" class=\"data row7 col7\" >amino acid</td>\n",
       "      <td id=\"T_be4aa_row7_col8\" class=\"data row7 col8\" >0</td>\n",
       "      <td id=\"T_be4aa_row7_col9\" class=\"data row7 col9\" >0</td>\n",
       "      <td id=\"T_be4aa_row7_col10\" class=\"data row7 col10\" >0</td>\n",
       "      <td id=\"T_be4aa_row7_col11\" class=\"data row7 col11\" >protein</td>\n",
       "      <td id=\"T_be4aa_row7_col12\" class=\"data row7 col12\" >0</td>\n",
       "      <td id=\"T_be4aa_row7_col13\" class=\"data row7 col13\" >T4 LYSOZYME</td>\n",
       "    </tr>\n",
       "    <tr>\n",
       "      <td id=\"T_be4aa_row8_col0\" class=\"data row8 col0\" >256</td>\n",
       "      <td id=\"T_be4aa_row8_col1\" class=\"data row8 col1\" >257</td>\n",
       "      <td id=\"T_be4aa_row8_col2\" class=\"data row8 col2\" >CE1</td>\n",
       "      <td id=\"T_be4aa_row8_col3\" class=\"data row8 col3\" >C</td>\n",
       "      <td id=\"T_be4aa_row8_col4\" class=\"data row8 col4\" >30</td>\n",
       "      <td id=\"T_be4aa_row8_col5\" class=\"data row8 col5\" >31</td>\n",
       "      <td id=\"T_be4aa_row8_col6\" class=\"data row8 col6\" >HSD</td>\n",
       "      <td id=\"T_be4aa_row8_col7\" class=\"data row8 col7\" >amino acid</td>\n",
       "      <td id=\"T_be4aa_row8_col8\" class=\"data row8 col8\" >0</td>\n",
       "      <td id=\"T_be4aa_row8_col9\" class=\"data row8 col9\" >0</td>\n",
       "      <td id=\"T_be4aa_row8_col10\" class=\"data row8 col10\" >0</td>\n",
       "      <td id=\"T_be4aa_row8_col11\" class=\"data row8 col11\" >protein</td>\n",
       "      <td id=\"T_be4aa_row8_col12\" class=\"data row8 col12\" >0</td>\n",
       "      <td id=\"T_be4aa_row8_col13\" class=\"data row8 col13\" >T4 LYSOZYME</td>\n",
       "    </tr>\n",
       "    <tr>\n",
       "      <td id=\"T_be4aa_row9_col0\" class=\"data row9 col0\" >257</td>\n",
       "      <td id=\"T_be4aa_row9_col1\" class=\"data row9 col1\" >258</td>\n",
       "      <td id=\"T_be4aa_row9_col2\" class=\"data row9 col2\" >NE2</td>\n",
       "      <td id=\"T_be4aa_row9_col3\" class=\"data row9 col3\" >N</td>\n",
       "      <td id=\"T_be4aa_row9_col4\" class=\"data row9 col4\" >30</td>\n",
       "      <td id=\"T_be4aa_row9_col5\" class=\"data row9 col5\" >31</td>\n",
       "      <td id=\"T_be4aa_row9_col6\" class=\"data row9 col6\" >HSD</td>\n",
       "      <td id=\"T_be4aa_row9_col7\" class=\"data row9 col7\" >amino acid</td>\n",
       "      <td id=\"T_be4aa_row9_col8\" class=\"data row9 col8\" >0</td>\n",
       "      <td id=\"T_be4aa_row9_col9\" class=\"data row9 col9\" >0</td>\n",
       "      <td id=\"T_be4aa_row9_col10\" class=\"data row9 col10\" >0</td>\n",
       "      <td id=\"T_be4aa_row9_col11\" class=\"data row9 col11\" >protein</td>\n",
       "      <td id=\"T_be4aa_row9_col12\" class=\"data row9 col12\" >0</td>\n",
       "      <td id=\"T_be4aa_row9_col13\" class=\"data row9 col13\" >T4 LYSOZYME</td>\n",
       "    </tr>\n",
       "  </tbody>\n",
       "</table>\n"
      ],
      "text/plain": [
       "<pandas.io.formats.style.Styler at 0x7f0b30d55dc0>"
      ]
     },
     "execution_count": 7,
     "metadata": {},
     "output_type": "execute_result"
    }
   ],
   "source": [
    "msm.info(molecular_system, element='atom', selection='group_index==30')"
   ]
  },
  {
   "cell_type": "markdown",
   "metadata": {},
   "source": [
    "To illustrate how {func}`molsysmt.basic.set` works, let's show another example this time changing the value of an structural attribute. Let's see the coordinates of the atom named \"CA\" of the group \"HSD\":"
   ]
  },
  {
   "cell_type": "code",
   "execution_count": 8,
   "metadata": {
    "execution": {
     "iopub.execute_input": "2025-03-11T21:03:45.398961Z",
     "iopub.status.busy": "2025-03-11T21:03:45.398587Z",
     "iopub.status.idle": "2025-03-11T21:03:45.951524Z",
     "shell.execute_reply": "2025-03-11T21:03:45.950610Z"
    }
   },
   "outputs": [
    {
     "data": {
      "text/html": [
       "<table><tbody><tr><th>Magnitude</th><td style='text-align:left;'><pre>[[[3.7278 1.6327 1.7646999999999997]]]</pre></td></tr><tr><th>Units</th><td style='text-align:left;'>nanometer</td></tr></tbody></table>"
      ],
      "text/latex": [
       "$arr[,0,:,:] = \\begin{pmatrix} &  & \\end{pmatrix}\\ \\mathrm{nanometer}$"
      ],
      "text/plain": [
       "<Quantity([[[3.7278 1.6327 1.7647]]], 'nanometer')>"
      ]
     },
     "execution_count": 8,
     "metadata": {},
     "output_type": "execute_result"
    }
   ],
   "source": [
    "msm.get(molecular_system, element='atom', selection='group_name==\"HSD\" and atom_name==\"CA\"', coordinates=True)"
   ]
  },
  {
   "cell_type": "markdown",
   "metadata": {},
   "source": [
    "There is only a single structure in the system, let's change the coordinates of this former atom to a new value:"
   ]
  },
  {
   "cell_type": "code",
   "execution_count": 9,
   "metadata": {
    "execution": {
     "iopub.execute_input": "2025-03-11T21:03:45.955176Z",
     "iopub.status.busy": "2025-03-11T21:03:45.954558Z",
     "iopub.status.idle": "2025-03-11T21:03:46.467418Z",
     "shell.execute_reply": "2025-03-11T21:03:46.463120Z"
    }
   },
   "outputs": [],
   "source": [
    "msm.set(molecular_system, selection='group_name==\"HSD\" and atom_name==\"CA\"', structure_indices=0, coordinates='[0,0,0] nm')"
   ]
  },
  {
   "cell_type": "markdown",
   "metadata": {},
   "source": [
    "Finally it is time to wonder: Have we changed succesfully the coordinates of the atom with name \"CA\" in the group \"HSD\"?"
   ]
  },
  {
   "cell_type": "code",
   "execution_count": 10,
   "metadata": {
    "execution": {
     "iopub.execute_input": "2025-03-11T21:03:46.471084Z",
     "iopub.status.busy": "2025-03-11T21:03:46.470622Z",
     "iopub.status.idle": "2025-03-11T21:03:46.945118Z",
     "shell.execute_reply": "2025-03-11T21:03:46.944338Z"
    }
   },
   "outputs": [
    {
     "data": {
      "text/html": [
       "<table><tbody><tr><th>Magnitude</th><td style='text-align:left;'><pre>[[[0.0 0.0 0.0]]]</pre></td></tr><tr><th>Units</th><td style='text-align:left;'>nanometer</td></tr></tbody></table>"
      ],
      "text/latex": [
       "$arr[,0,:,:] = \\begin{pmatrix} &  & \\end{pmatrix}\\ \\mathrm{nanometer}$"
      ],
      "text/plain": [
       "<Quantity([[[0. 0. 0.]]], 'nanometer')>"
      ]
     },
     "execution_count": 10,
     "metadata": {},
     "output_type": "execute_result"
    }
   ],
   "source": [
    "msm.get(molecular_system, element='atom', selection='group_name==\"HSD\" and atom_name==\"CA\"', coordinates=True)"
   ]
  },
  {
   "cell_type": "markdown",
   "metadata": {
    "editable": true,
    "slideshow": {
     "slide_type": ""
    },
    "tags": []
   },
   "source": [
    ":::{seealso}\n",
    "[User guide > Introduction > Molecular System > Attributes](../../intro/molecular_systems/attributes.ipynb):    \n",
    "[User guide > Tools > Basic > Convert](convert.ipynb):    \n",
    "[User guide > Tools > Basic > Info](info.ipynb):    \n",
    "[User guide > Tools > Basic > Select](select.ipynb):    \n",
    "[User guide > Tools > Basic > Get](get.ipynb):    \n",
    ":::"
   ]
  }
 ],
 "metadata": {
  "kernelspec": {
   "display_name": "Python 3 (ipykernel)",
   "language": "python",
   "name": "python3"
  },
  "language_info": {
   "codemirror_mode": {
    "name": "ipython",
    "version": 3
   },
   "file_extension": ".py",
   "mimetype": "text/x-python",
   "name": "python",
   "nbconvert_exporter": "python",
   "pygments_lexer": "ipython3",
   "version": "3.12.8"
  },
  "widgets": {
   "application/vnd.jupyter.widget-state+json": {
    "state": {
     "c3ace844f36d42249b1e182589ce64c5": {
      "model_module": "nglview-js-widgets",
      "model_module_version": "3.1.4",
      "model_name": "ColormakerRegistryModel",
      "state": {
       "_dom_classes": [],
       "_model_module": "nglview-js-widgets",
       "_model_module_version": "3.1.4",
       "_model_name": "ColormakerRegistryModel",
       "_msg_ar": [],
       "_msg_q": [],
       "_ready": false,
       "_view_count": null,
       "_view_module": "nglview-js-widgets",
       "_view_module_version": "3.1.4",
       "_view_name": "ColormakerRegistryView",
       "layout": "IPY_MODEL_f837cf77a3f646608bf486426ece4ab4",
       "tabbable": null,
       "tooltip": null
      }
     },
     "f837cf77a3f646608bf486426ece4ab4": {
      "model_module": "@jupyter-widgets/base",
      "model_module_version": "2.0.0",
      "model_name": "LayoutModel",
      "state": {
       "_model_module": "@jupyter-widgets/base",
       "_model_module_version": "2.0.0",
       "_model_name": "LayoutModel",
       "_view_count": null,
       "_view_module": "@jupyter-widgets/base",
       "_view_module_version": "2.0.0",
       "_view_name": "LayoutView",
       "align_content": null,
       "align_items": null,
       "align_self": null,
       "border_bottom": null,
       "border_left": null,
       "border_right": null,
       "border_top": null,
       "bottom": null,
       "display": null,
       "flex": null,
       "flex_flow": null,
       "grid_area": null,
       "grid_auto_columns": null,
       "grid_auto_flow": null,
       "grid_auto_rows": null,
       "grid_column": null,
       "grid_gap": null,
       "grid_row": null,
       "grid_template_areas": null,
       "grid_template_columns": null,
       "grid_template_rows": null,
       "height": null,
       "justify_content": null,
       "justify_items": null,
       "left": null,
       "margin": null,
       "max_height": null,
       "max_width": null,
       "min_height": null,
       "min_width": null,
       "object_fit": null,
       "object_position": null,
       "order": null,
       "overflow": null,
       "padding": null,
       "right": null,
       "top": null,
       "visibility": null,
       "width": null
      }
     }
    },
    "version_major": 2,
    "version_minor": 0
   }
  }
 },
 "nbformat": 4,
 "nbformat_minor": 4
}
