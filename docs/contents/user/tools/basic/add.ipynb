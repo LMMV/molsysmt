{
 "cells": [
  {
   "cell_type": "code",
   "execution_count": 1,
   "metadata": {
    "editable": true,
    "execution": {
     "iopub.execute_input": "2025-04-09T05:59:00.402597Z",
     "iopub.status.busy": "2025-04-09T05:59:00.399572Z",
     "iopub.status.idle": "2025-04-09T05:59:00.423063Z",
     "shell.execute_reply": "2025-04-09T05:59:00.420250Z"
    },
    "slideshow": {
     "slide_type": ""
    },
    "tags": [
     "remove-input"
    ]
   },
   "outputs": [],
   "source": [
    "# This cell is removed with the tag: \"remove-input\"\n",
    "# As such, it will not be shown in documentation\n",
    "\n",
    "import warnings\n",
    "warnings.filterwarnings('ignore')"
   ]
  },
  {
   "cell_type": "markdown",
   "metadata": {
    "editable": true,
    "slideshow": {
     "slide_type": ""
    },
    "tags": []
   },
   "source": [
    "(Tutorial_Add)=\n",
    "# Add\n",
    "\n",
    "*Adding elements of a molecular system into another molecular system.*\n",
    "\n",
    "Elements coming from different molecular systems can be added to a given system with the {func}`molsysmt.basic.add` function.\n",
    "\n",
    "## How this function works\n",
    "\n",
    "```{admonition} API documentation\n",
    "Follow this link for a detailed description of the input arguments, raised errors, and returned objects of this function:{func}`molsysmt.basic.add`.\n",
    "```\n",
    "\n",
    "Let's show how this function works with three peptides defined as three different molecular systems: proline dipeptide ($A$), valine dipeptide ($B$), and lysine dipeptide ($C$)."
   ]
  },
  {
   "cell_type": "code",
   "execution_count": 2,
   "metadata": {
    "editable": true,
    "execution": {
     "iopub.execute_input": "2025-04-09T05:59:00.431859Z",
     "iopub.status.busy": "2025-04-09T05:59:00.431197Z",
     "iopub.status.idle": "2025-04-09T05:59:08.544554Z",
     "shell.execute_reply": "2025-04-09T05:59:08.542384Z"
    },
    "slideshow": {
     "slide_type": ""
    },
    "tags": []
   },
   "outputs": [
    {
     "data": {
      "application/vnd.jupyter.widget-view+json": {
       "model_id": "0761c098bc0b42789e373f4bd9e211b4",
       "version_major": 2,
       "version_minor": 0
      },
      "text/plain": []
     },
     "metadata": {},
     "output_type": "display_data"
    }
   ],
   "source": [
    "import molsysmt as msm"
   ]
  },
  {
   "cell_type": "code",
   "execution_count": 3,
   "metadata": {
    "editable": true,
    "execution": {
     "iopub.execute_input": "2025-04-09T05:59:08.547515Z",
     "iopub.status.busy": "2025-04-09T05:59:08.547011Z",
     "iopub.status.idle": "2025-04-09T05:59:10.681371Z",
     "shell.execute_reply": "2025-04-09T05:59:10.680329Z"
    },
    "slideshow": {
     "slide_type": ""
    },
    "tags": []
   },
   "outputs": [],
   "source": [
    "molsys_A = msm.build.build_peptide('AceProNme')\n",
    "molsys_B = msm.build.build_peptide('AceValNme')\n",
    "molsys_C = msm.build.build_peptide('AceLysNme')"
   ]
  },
  {
   "cell_type": "markdown",
   "metadata": {},
   "source": [
    "The molecular systems $B$ and $C$ need to be translated to avoid their overlapping once their elements are added to $A$."
   ]
  },
  {
   "cell_type": "code",
   "execution_count": 4,
   "metadata": {
    "editable": true,
    "execution": {
     "iopub.execute_input": "2025-04-09T05:59:10.685730Z",
     "iopub.status.busy": "2025-04-09T05:59:10.684188Z",
     "iopub.status.idle": "2025-04-09T05:59:12.318905Z",
     "shell.execute_reply": "2025-04-09T05:59:12.317672Z"
    },
    "slideshow": {
     "slide_type": ""
    },
    "tags": []
   },
   "outputs": [],
   "source": [
    "molsys_B = msm.structure.translate(molsys_B, translation='[-1.0, 0.0, 0.0] nanometers')\n",
    "molsys_C = msm.structure.translate(molsys_C, translation='[1.0, 0.0, 0.0] nanometers')"
   ]
  },
  {
   "cell_type": "markdown",
   "metadata": {},
   "source": [
    "Let's see how $A$ is defined before adding $B$ and $C$:"
   ]
  },
  {
   "cell_type": "code",
   "execution_count": 5,
   "metadata": {
    "editable": true,
    "execution": {
     "iopub.execute_input": "2025-04-09T05:59:12.327039Z",
     "iopub.status.busy": "2025-04-09T05:59:12.326028Z",
     "iopub.status.idle": "2025-04-09T05:59:15.047373Z",
     "shell.execute_reply": "2025-04-09T05:59:15.046319Z"
    },
    "slideshow": {
     "slide_type": ""
    },
    "tags": []
   },
   "outputs": [
    {
     "data": {
      "text/html": [
       "<style type=\"text/css\">\n",
       "</style>\n",
       "<table id=\"T_068ce\">\n",
       "  <thead>\n",
       "    <tr>\n",
       "      <th id=\"T_068ce_level0_col0\" class=\"col_heading level0 col0\" >form</th>\n",
       "      <th id=\"T_068ce_level0_col1\" class=\"col_heading level0 col1\" >n_atoms</th>\n",
       "      <th id=\"T_068ce_level0_col2\" class=\"col_heading level0 col2\" >n_groups</th>\n",
       "      <th id=\"T_068ce_level0_col3\" class=\"col_heading level0 col3\" >n_components</th>\n",
       "      <th id=\"T_068ce_level0_col4\" class=\"col_heading level0 col4\" >n_chains</th>\n",
       "      <th id=\"T_068ce_level0_col5\" class=\"col_heading level0 col5\" >n_molecules</th>\n",
       "      <th id=\"T_068ce_level0_col6\" class=\"col_heading level0 col6\" >n_entities</th>\n",
       "      <th id=\"T_068ce_level0_col7\" class=\"col_heading level0 col7\" >n_peptides</th>\n",
       "      <th id=\"T_068ce_level0_col8\" class=\"col_heading level0 col8\" >n_structures</th>\n",
       "    </tr>\n",
       "  </thead>\n",
       "  <tbody>\n",
       "    <tr>\n",
       "      <td id=\"T_068ce_row0_col0\" class=\"data row0 col0\" >molsysmt.MolSys</td>\n",
       "      <td id=\"T_068ce_row0_col1\" class=\"data row0 col1\" >26</td>\n",
       "      <td id=\"T_068ce_row0_col2\" class=\"data row0 col2\" >3</td>\n",
       "      <td id=\"T_068ce_row0_col3\" class=\"data row0 col3\" >1</td>\n",
       "      <td id=\"T_068ce_row0_col4\" class=\"data row0 col4\" >1</td>\n",
       "      <td id=\"T_068ce_row0_col5\" class=\"data row0 col5\" >1</td>\n",
       "      <td id=\"T_068ce_row0_col6\" class=\"data row0 col6\" >1</td>\n",
       "      <td id=\"T_068ce_row0_col7\" class=\"data row0 col7\" >1</td>\n",
       "      <td id=\"T_068ce_row0_col8\" class=\"data row0 col8\" >1</td>\n",
       "    </tr>\n",
       "  </tbody>\n",
       "</table>\n"
      ],
      "text/plain": [
       "<pandas.io.formats.style.Styler at 0x7d73ae35cc80>"
      ]
     },
     "execution_count": 5,
     "metadata": {},
     "output_type": "execute_result"
    }
   ],
   "source": [
    "msm.info(molsys_A)"
   ]
  },
  {
   "cell_type": "markdown",
   "metadata": {
    "tags": []
   },
   "source": [
    "Now it is time to use {func}`molsysmt.basic.add`:"
   ]
  },
  {
   "cell_type": "code",
   "execution_count": 6,
   "metadata": {
    "editable": true,
    "execution": {
     "iopub.execute_input": "2025-04-09T05:59:15.050323Z",
     "iopub.status.busy": "2025-04-09T05:59:15.049828Z",
     "iopub.status.idle": "2025-04-09T05:59:15.739993Z",
     "shell.execute_reply": "2025-04-09T05:59:15.738781Z"
    },
    "slideshow": {
     "slide_type": ""
    },
    "tags": []
   },
   "outputs": [],
   "source": [
    "msm.add(molsys_A, molsys_B)\n",
    "msm.add(molsys_A, molsys_C)"
   ]
  },
  {
   "cell_type": "markdown",
   "metadata": {},
   "source": [
    ":::{tip}\n",
    "All methods defined in the {ref}`molsysmt.basic <API basic>` module can be invoked also from the main level of the library. Hence, {func}`molsysmt.add` is the same method as {func}`molsysmt.basic.add`.\n",
    ":::"
   ]
  },
  {
   "cell_type": "markdown",
   "metadata": {},
   "source": [
    "Let's see now the new content of $A$:"
   ]
  },
  {
   "cell_type": "code",
   "execution_count": 7,
   "metadata": {
    "execution": {
     "iopub.execute_input": "2025-04-09T05:59:15.747358Z",
     "iopub.status.busy": "2025-04-09T05:59:15.746490Z",
     "iopub.status.idle": "2025-04-09T05:59:18.633713Z",
     "shell.execute_reply": "2025-04-09T05:59:18.632926Z"
    }
   },
   "outputs": [
    {
     "data": {
      "text/html": [
       "<style type=\"text/css\">\n",
       "</style>\n",
       "<table id=\"T_45c8c\">\n",
       "  <thead>\n",
       "    <tr>\n",
       "      <th id=\"T_45c8c_level0_col0\" class=\"col_heading level0 col0\" >form</th>\n",
       "      <th id=\"T_45c8c_level0_col1\" class=\"col_heading level0 col1\" >n_atoms</th>\n",
       "      <th id=\"T_45c8c_level0_col2\" class=\"col_heading level0 col2\" >n_groups</th>\n",
       "      <th id=\"T_45c8c_level0_col3\" class=\"col_heading level0 col3\" >n_components</th>\n",
       "      <th id=\"T_45c8c_level0_col4\" class=\"col_heading level0 col4\" >n_chains</th>\n",
       "      <th id=\"T_45c8c_level0_col5\" class=\"col_heading level0 col5\" >n_molecules</th>\n",
       "      <th id=\"T_45c8c_level0_col6\" class=\"col_heading level0 col6\" >n_entities</th>\n",
       "      <th id=\"T_45c8c_level0_col7\" class=\"col_heading level0 col7\" >n_peptides</th>\n",
       "      <th id=\"T_45c8c_level0_col8\" class=\"col_heading level0 col8\" >n_structures</th>\n",
       "    </tr>\n",
       "  </thead>\n",
       "  <tbody>\n",
       "    <tr>\n",
       "      <td id=\"T_45c8c_row0_col0\" class=\"data row0 col0\" >molsysmt.MolSys</td>\n",
       "      <td id=\"T_45c8c_row0_col1\" class=\"data row0 col1\" >88</td>\n",
       "      <td id=\"T_45c8c_row0_col2\" class=\"data row0 col2\" >9</td>\n",
       "      <td id=\"T_45c8c_row0_col3\" class=\"data row0 col3\" >3</td>\n",
       "      <td id=\"T_45c8c_row0_col4\" class=\"data row0 col4\" >3</td>\n",
       "      <td id=\"T_45c8c_row0_col5\" class=\"data row0 col5\" >3</td>\n",
       "      <td id=\"T_45c8c_row0_col6\" class=\"data row0 col6\" >3</td>\n",
       "      <td id=\"T_45c8c_row0_col7\" class=\"data row0 col7\" >3</td>\n",
       "      <td id=\"T_45c8c_row0_col8\" class=\"data row0 col8\" >1</td>\n",
       "    </tr>\n",
       "  </tbody>\n",
       "</table>\n"
      ],
      "text/plain": [
       "<pandas.io.formats.style.Styler at 0x7d742f544740>"
      ]
     },
     "execution_count": 7,
     "metadata": {},
     "output_type": "execute_result"
    }
   ],
   "source": [
    "msm.info(molsys_A, element='system')"
   ]
  },
  {
   "cell_type": "code",
   "execution_count": 8,
   "metadata": {
    "editable": true,
    "execution": {
     "iopub.execute_input": "2025-04-09T05:59:18.636212Z",
     "iopub.status.busy": "2025-04-09T05:59:18.635709Z",
     "iopub.status.idle": "2025-04-09T05:59:18.642155Z",
     "shell.execute_reply": "2025-04-09T05:59:18.640113Z"
    },
    "slideshow": {
     "slide_type": ""
    },
    "tags": []
   },
   "outputs": [],
   "source": [
    "# This cell is removed with the tag: \"remove-input\"\n",
    "# As such, it will not be shown in documentation\n",
    "\n",
    "nglview_htmlfile = '../../../../_static/nglview/add.html'"
   ]
  },
  {
   "cell_type": "code",
   "execution_count": 9,
   "metadata": {
    "editable": true,
    "execution": {
     "iopub.execute_input": "2025-04-09T05:59:18.646970Z",
     "iopub.status.busy": "2025-04-09T05:59:18.646650Z",
     "iopub.status.idle": "2025-04-09T05:59:18.797879Z",
     "shell.execute_reply": "2025-04-09T05:59:18.796960Z"
    },
    "slideshow": {
     "slide_type": ""
    },
    "tags": []
   },
   "outputs": [
    {
     "data": {
      "text/html": [
       "\n",
       "        <iframe\n",
       "            width=\"100%\"\n",
       "            height=\"320vh\"\n",
       "            src=\"../../../../_static/nglview/add.html\"\n",
       "            frameborder=\"0\"\n",
       "            allowfullscreen\n",
       "            \n",
       "        ></iframe>\n",
       "        "
      ],
      "text/plain": [
       "<IPython.lib.display.IFrame at 0x7d73ade26960>"
      ]
     },
     "execution_count": 9,
     "metadata": {},
     "output_type": "execute_result"
    }
   ],
   "source": [
    "msm.view(molsys_A, standard=True)"
   ]
  },
  {
   "cell_type": "code",
   "execution_count": 10,
   "metadata": {
    "editable": true,
    "execution": {
     "iopub.execute_input": "2025-04-09T05:59:18.800383Z",
     "iopub.status.busy": "2025-04-09T05:59:18.800076Z",
     "iopub.status.idle": "2025-04-09T05:59:18.805144Z",
     "shell.execute_reply": "2025-04-09T05:59:18.803261Z"
    },
    "slideshow": {
     "slide_type": ""
    },
    "tags": [
     "remove-input"
    ]
   },
   "outputs": [],
   "source": [
    "# This cell is removed with the tag: \"remove-input\"\n",
    "# As such, it will not be shown in documentation\n",
    "\n",
    "if False:\n",
    "    # to write an html the view had to be displayed in a cell before\n",
    "    msm.thirds.nglview.write_html(view, nglview_htmlfile)"
   ]
  },
  {
   "cell_type": "markdown",
   "metadata": {},
   "source": [
    "Finally, if you prefer not to modify the original molecular system, you can pass the argument `in_place=False` to the :func:`molsysmt.basic.add` function. This will return a new molecular system with the added elements, while leaving the original unchanged."
   ]
  },
  {
   "cell_type": "code",
   "execution_count": 11,
   "metadata": {
    "execution": {
     "iopub.execute_input": "2025-04-09T05:59:18.810497Z",
     "iopub.status.busy": "2025-04-09T05:59:18.809822Z",
     "iopub.status.idle": "2025-04-09T05:59:19.319749Z",
     "shell.execute_reply": "2025-04-09T05:59:19.318869Z"
    }
   },
   "outputs": [],
   "source": [
    "molsys_D = msm.add(molsys_B, molsys_C, in_place=False)"
   ]
  },
  {
   "cell_type": "code",
   "execution_count": 12,
   "metadata": {
    "execution": {
     "iopub.execute_input": "2025-04-09T05:59:19.325211Z",
     "iopub.status.busy": "2025-04-09T05:59:19.324755Z",
     "iopub.status.idle": "2025-04-09T05:59:19.609302Z",
     "shell.execute_reply": "2025-04-09T05:59:19.607990Z"
    }
   },
   "outputs": [
    {
     "data": {
      "text/plain": [
       "1"
      ]
     },
     "execution_count": 12,
     "metadata": {},
     "output_type": "execute_result"
    }
   ],
   "source": [
    "msm.get(molsys_B, n_peptides=True)"
   ]
  },
  {
   "cell_type": "code",
   "execution_count": 13,
   "metadata": {
    "execution": {
     "iopub.execute_input": "2025-04-09T05:59:19.613959Z",
     "iopub.status.busy": "2025-04-09T05:59:19.613198Z",
     "iopub.status.idle": "2025-04-09T05:59:19.898687Z",
     "shell.execute_reply": "2025-04-09T05:59:19.897662Z"
    }
   },
   "outputs": [
    {
     "data": {
      "text/plain": [
       "1"
      ]
     },
     "execution_count": 13,
     "metadata": {},
     "output_type": "execute_result"
    }
   ],
   "source": [
    "msm.get(molsys_C, n_peptides=True)"
   ]
  },
  {
   "cell_type": "code",
   "execution_count": 14,
   "metadata": {
    "execution": {
     "iopub.execute_input": "2025-04-09T05:59:19.902162Z",
     "iopub.status.busy": "2025-04-09T05:59:19.901244Z",
     "iopub.status.idle": "2025-04-09T05:59:20.270192Z",
     "shell.execute_reply": "2025-04-09T05:59:20.269301Z"
    }
   },
   "outputs": [
    {
     "data": {
      "text/plain": [
       "2"
      ]
     },
     "execution_count": 14,
     "metadata": {},
     "output_type": "execute_result"
    }
   ],
   "source": [
    "msm.get(molsys_D, n_peptides=True)"
   ]
  },
  {
   "cell_type": "markdown",
   "metadata": {},
   "source": [
    ":::{seealso}\n",
    "[User guide > Tools > Build > Build peptide](../build/build_peptide.ipynb):    \n",
    "Build natural peptides with or without terminal caps.\n",
    "\n",
    "[User guide > Tools > Structure > Translate](../structure/translate.ipynb):    \n",
    "Translate entire molecular systems or specific selections in space.\n",
    "\n",
    "[User guide > Tools > Basic > Info](info.ipynb):    \n",
    "Display a summary of the contents, topology, and structural data of a molecular system.\n",
    "\n",
    "[User guide > Tools > Basic > View](view.ipynb):    \n",
    "Visualize a molecular system.\n",
    "\n",
    "[User guide > Tools > Basic > Get](get.ipynb):    \n",
    "Get values of specific properties or attributes from a molecular system.\n",
    "\n",
    "[User guide > Tools > Basic > Merge](merge.ipynb):    \n",
    "Combine multiple molecular systems by merging their elements into a new system.\n",
    "\n",
    "[User guide > Tools > Basic > Copy](copy.ipynb):    \n",
    "Create a full independent copy of a molecular system to avoid modifying the original.\n",
    ":::\n"
   ]
  }
 ],
 "metadata": {
  "kernelspec": {
   "display_name": "Python 3 (ipykernel)",
   "language": "python",
   "name": "python3"
  },
  "language_info": {
   "codemirror_mode": {
    "name": "ipython",
    "version": 3
   },
   "file_extension": ".py",
   "mimetype": "text/x-python",
   "name": "python",
   "nbconvert_exporter": "python",
   "pygments_lexer": "ipython3",
   "version": "3.12.9"
  },
  "widgets": {
   "application/vnd.jupyter.widget-state+json": {
    "state": {
     "0761c098bc0b42789e373f4bd9e211b4": {
      "model_module": "nglview-js-widgets",
      "model_module_version": "3.0.8",
      "model_name": "ColormakerRegistryModel",
      "state": {
       "_dom_classes": [],
       "_model_module": "nglview-js-widgets",
       "_model_module_version": "3.0.8",
       "_model_name": "ColormakerRegistryModel",
       "_msg_ar": [],
       "_msg_q": [],
       "_ready": false,
       "_view_count": null,
       "_view_module": "nglview-js-widgets",
       "_view_module_version": "3.0.8",
       "_view_name": "ColormakerRegistryView",
       "layout": "IPY_MODEL_d6655532759f4e5dbf55ebe30e62bb75",
       "tabbable": null,
       "tooltip": null
      }
     },
     "d6655532759f4e5dbf55ebe30e62bb75": {
      "model_module": "@jupyter-widgets/base",
      "model_module_version": "2.0.0",
      "model_name": "LayoutModel",
      "state": {
       "_model_module": "@jupyter-widgets/base",
       "_model_module_version": "2.0.0",
       "_model_name": "LayoutModel",
       "_view_count": null,
       "_view_module": "@jupyter-widgets/base",
       "_view_module_version": "2.0.0",
       "_view_name": "LayoutView",
       "align_content": null,
       "align_items": null,
       "align_self": null,
       "border_bottom": null,
       "border_left": null,
       "border_right": null,
       "border_top": null,
       "bottom": null,
       "display": null,
       "flex": null,
       "flex_flow": null,
       "grid_area": null,
       "grid_auto_columns": null,
       "grid_auto_flow": null,
       "grid_auto_rows": null,
       "grid_column": null,
       "grid_gap": null,
       "grid_row": null,
       "grid_template_areas": null,
       "grid_template_columns": null,
       "grid_template_rows": null,
       "height": null,
       "justify_content": null,
       "justify_items": null,
       "left": null,
       "margin": null,
       "max_height": null,
       "max_width": null,
       "min_height": null,
       "min_width": null,
       "object_fit": null,
       "object_position": null,
       "order": null,
       "overflow": null,
       "padding": null,
       "right": null,
       "top": null,
       "visibility": null,
       "width": null
      }
     }
    },
    "version_major": 2,
    "version_minor": 0
   }
  }
 },
 "nbformat": 4,
 "nbformat_minor": 4
}
