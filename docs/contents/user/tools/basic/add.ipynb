{
 "cells": [
  {
   "cell_type": "code",
   "execution_count": 1,
   "metadata": {
    "editable": true,
    "execution": {
     "iopub.execute_input": "2025-03-11T06:12:53.662487Z",
     "iopub.status.busy": "2025-03-11T06:12:53.661383Z",
     "iopub.status.idle": "2025-03-11T06:12:53.678404Z",
     "shell.execute_reply": "2025-03-11T06:12:53.676159Z"
    },
    "slideshow": {
     "slide_type": ""
    },
    "tags": [
     "remove-input"
    ]
   },
   "outputs": [],
   "source": [
    "# This cell is removed with the tag: \"remove-input\"\n",
    "# As such, it will not be shown in documentation\n",
    "\n",
    "import warnings\n",
    "warnings.filterwarnings('ignore')"
   ]
  },
  {
   "cell_type": "markdown",
   "metadata": {
    "editable": true,
    "slideshow": {
     "slide_type": ""
    },
    "tags": []
   },
   "source": [
    "(Tutorial_Add)=\n",
    "# Add\n",
    "\n",
    "*Adding elements of a molecular system into another molecular system.*\n",
    "\n",
    "Elements coming from different molecular systems can be added to a given system with the {func}`molsysmt.basic.add` function.\n",
    "\n",
    "## How this function works\n",
    "\n",
    "```{admonition} API documentation\n",
    "Follow this link for a detailed description of the input arguments, raised errors, and returned objects of this function:{func}`molsysmt.basic.add`.\n",
    "```\n",
    "\n",
    "Let's show how this function works with three peptides defined as three different molecular systems: proline dipeptide ($A$), valine dipeptide ($B$), and lysine dipeptide ($C$)."
   ]
  },
  {
   "cell_type": "code",
   "execution_count": 2,
   "metadata": {
    "editable": true,
    "execution": {
     "iopub.execute_input": "2025-03-11T06:12:53.685764Z",
     "iopub.status.busy": "2025-03-11T06:12:53.685028Z",
     "iopub.status.idle": "2025-03-11T06:13:00.755234Z",
     "shell.execute_reply": "2025-03-11T06:13:00.754376Z"
    },
    "slideshow": {
     "slide_type": ""
    },
    "tags": []
   },
   "outputs": [
    {
     "data": {
      "application/vnd.jupyter.widget-view+json": {
       "model_id": "240f0c1bfa75499c854d9252479ffba2",
       "version_major": 2,
       "version_minor": 0
      },
      "text/plain": []
     },
     "metadata": {},
     "output_type": "display_data"
    }
   ],
   "source": [
    "import molsysmt as msm"
   ]
  },
  {
   "cell_type": "code",
   "execution_count": 3,
   "metadata": {
    "editable": true,
    "execution": {
     "iopub.execute_input": "2025-03-11T06:13:00.757975Z",
     "iopub.status.busy": "2025-03-11T06:13:00.757568Z",
     "iopub.status.idle": "2025-03-11T06:13:01.888074Z",
     "shell.execute_reply": "2025-03-11T06:13:01.887326Z"
    },
    "slideshow": {
     "slide_type": ""
    },
    "tags": []
   },
   "outputs": [],
   "source": [
    "molecular_system_A = msm.build.build_peptide('AceProNme')\n",
    "molecular_system_B = msm.build.build_peptide('AceValNme')\n",
    "molecular_system_C = msm.build.build_peptide('AceLysNme')"
   ]
  },
  {
   "cell_type": "markdown",
   "metadata": {},
   "source": [
    "The molecular systems $B$ and $C$ need to be translated to avoid their overlapping once their elements are added to $A$."
   ]
  },
  {
   "cell_type": "code",
   "execution_count": 4,
   "metadata": {
    "editable": true,
    "execution": {
     "iopub.execute_input": "2025-03-11T06:13:01.890948Z",
     "iopub.status.busy": "2025-03-11T06:13:01.890443Z",
     "iopub.status.idle": "2025-03-11T06:13:02.808410Z",
     "shell.execute_reply": "2025-03-11T06:13:02.807076Z"
    },
    "slideshow": {
     "slide_type": ""
    },
    "tags": []
   },
   "outputs": [],
   "source": [
    "molecular_system_B = msm.structure.translate(molecular_system_B, translation='[-1.0, 0.0, 0.0] nanometers')\n",
    "molecular_system_C = msm.structure.translate(molecular_system_C, translation='[1.0, 0.0, 0.0] nanometers')"
   ]
  },
  {
   "cell_type": "markdown",
   "metadata": {},
   "source": [
    "Let's see how $A$ is defined before adding $B$ and $C$:"
   ]
  },
  {
   "cell_type": "code",
   "execution_count": 5,
   "metadata": {
    "editable": true,
    "execution": {
     "iopub.execute_input": "2025-03-11T06:13:02.812484Z",
     "iopub.status.busy": "2025-03-11T06:13:02.812087Z",
     "iopub.status.idle": "2025-03-11T06:13:04.154164Z",
     "shell.execute_reply": "2025-03-11T06:13:04.153520Z"
    },
    "slideshow": {
     "slide_type": ""
    },
    "tags": []
   },
   "outputs": [
    {
     "data": {
      "text/html": [
       "<style type=\"text/css\">\n",
       "</style>\n",
       "<table id=\"T_29c07\">\n",
       "  <thead>\n",
       "    <tr>\n",
       "      <th id=\"T_29c07_level0_col0\" class=\"col_heading level0 col0\" >form</th>\n",
       "      <th id=\"T_29c07_level0_col1\" class=\"col_heading level0 col1\" >n_atoms</th>\n",
       "      <th id=\"T_29c07_level0_col2\" class=\"col_heading level0 col2\" >n_groups</th>\n",
       "      <th id=\"T_29c07_level0_col3\" class=\"col_heading level0 col3\" >n_components</th>\n",
       "      <th id=\"T_29c07_level0_col4\" class=\"col_heading level0 col4\" >n_chains</th>\n",
       "      <th id=\"T_29c07_level0_col5\" class=\"col_heading level0 col5\" >n_molecules</th>\n",
       "      <th id=\"T_29c07_level0_col6\" class=\"col_heading level0 col6\" >n_entities</th>\n",
       "      <th id=\"T_29c07_level0_col7\" class=\"col_heading level0 col7\" >n_peptides</th>\n",
       "      <th id=\"T_29c07_level0_col8\" class=\"col_heading level0 col8\" >n_structures</th>\n",
       "    </tr>\n",
       "  </thead>\n",
       "  <tbody>\n",
       "    <tr>\n",
       "      <td id=\"T_29c07_row0_col0\" class=\"data row0 col0\" >molsysmt.MolSys</td>\n",
       "      <td id=\"T_29c07_row0_col1\" class=\"data row0 col1\" >26</td>\n",
       "      <td id=\"T_29c07_row0_col2\" class=\"data row0 col2\" >3</td>\n",
       "      <td id=\"T_29c07_row0_col3\" class=\"data row0 col3\" >1</td>\n",
       "      <td id=\"T_29c07_row0_col4\" class=\"data row0 col4\" >1</td>\n",
       "      <td id=\"T_29c07_row0_col5\" class=\"data row0 col5\" >1</td>\n",
       "      <td id=\"T_29c07_row0_col6\" class=\"data row0 col6\" >1</td>\n",
       "      <td id=\"T_29c07_row0_col7\" class=\"data row0 col7\" >1</td>\n",
       "      <td id=\"T_29c07_row0_col8\" class=\"data row0 col8\" >1</td>\n",
       "    </tr>\n",
       "  </tbody>\n",
       "</table>\n"
      ],
      "text/plain": [
       "<pandas.io.formats.style.Styler at 0x7f9d09962ba0>"
      ]
     },
     "execution_count": 5,
     "metadata": {},
     "output_type": "execute_result"
    }
   ],
   "source": [
    "msm.info(molecular_system_A)"
   ]
  },
  {
   "cell_type": "markdown",
   "metadata": {
    "tags": []
   },
   "source": [
    "Now it is time to use {func}`molsysmt.basic.add`:"
   ]
  },
  {
   "cell_type": "code",
   "execution_count": 6,
   "metadata": {
    "editable": true,
    "execution": {
     "iopub.execute_input": "2025-03-11T06:13:04.157051Z",
     "iopub.status.busy": "2025-03-11T06:13:04.156554Z",
     "iopub.status.idle": "2025-03-11T06:13:04.499063Z",
     "shell.execute_reply": "2025-03-11T06:13:04.498253Z"
    },
    "slideshow": {
     "slide_type": ""
    },
    "tags": []
   },
   "outputs": [],
   "source": [
    "msm.add(molecular_system_A, molecular_system_B)\n",
    "msm.add(molecular_system_A, molecular_system_C)"
   ]
  },
  {
   "cell_type": "markdown",
   "metadata": {},
   "source": [
    ":::{tip}\n",
    "All methods defined in the {ref}`molsysmt.basic <API basic>` module can be invoked also from the main level of the library. Hence, {func}`molsysmt.add` is the same method as {func}`molsysmt.basic.add`.\n",
    ":::"
   ]
  },
  {
   "cell_type": "markdown",
   "metadata": {},
   "source": [
    "Let's see now the new content of $A$:"
   ]
  },
  {
   "cell_type": "code",
   "execution_count": 7,
   "metadata": {
    "execution": {
     "iopub.execute_input": "2025-03-11T06:13:04.502384Z",
     "iopub.status.busy": "2025-03-11T06:13:04.501577Z",
     "iopub.status.idle": "2025-03-11T06:13:05.817513Z",
     "shell.execute_reply": "2025-03-11T06:13:05.816722Z"
    }
   },
   "outputs": [
    {
     "data": {
      "text/html": [
       "<style type=\"text/css\">\n",
       "</style>\n",
       "<table id=\"T_5e904\">\n",
       "  <thead>\n",
       "    <tr>\n",
       "      <th id=\"T_5e904_level0_col0\" class=\"col_heading level0 col0\" >form</th>\n",
       "      <th id=\"T_5e904_level0_col1\" class=\"col_heading level0 col1\" >n_atoms</th>\n",
       "      <th id=\"T_5e904_level0_col2\" class=\"col_heading level0 col2\" >n_groups</th>\n",
       "      <th id=\"T_5e904_level0_col3\" class=\"col_heading level0 col3\" >n_components</th>\n",
       "      <th id=\"T_5e904_level0_col4\" class=\"col_heading level0 col4\" >n_chains</th>\n",
       "      <th id=\"T_5e904_level0_col5\" class=\"col_heading level0 col5\" >n_molecules</th>\n",
       "      <th id=\"T_5e904_level0_col6\" class=\"col_heading level0 col6\" >n_entities</th>\n",
       "      <th id=\"T_5e904_level0_col7\" class=\"col_heading level0 col7\" >n_peptides</th>\n",
       "      <th id=\"T_5e904_level0_col8\" class=\"col_heading level0 col8\" >n_structures</th>\n",
       "    </tr>\n",
       "  </thead>\n",
       "  <tbody>\n",
       "    <tr>\n",
       "      <td id=\"T_5e904_row0_col0\" class=\"data row0 col0\" >molsysmt.MolSys</td>\n",
       "      <td id=\"T_5e904_row0_col1\" class=\"data row0 col1\" >88</td>\n",
       "      <td id=\"T_5e904_row0_col2\" class=\"data row0 col2\" >9</td>\n",
       "      <td id=\"T_5e904_row0_col3\" class=\"data row0 col3\" >3</td>\n",
       "      <td id=\"T_5e904_row0_col4\" class=\"data row0 col4\" >3</td>\n",
       "      <td id=\"T_5e904_row0_col5\" class=\"data row0 col5\" >3</td>\n",
       "      <td id=\"T_5e904_row0_col6\" class=\"data row0 col6\" >3</td>\n",
       "      <td id=\"T_5e904_row0_col7\" class=\"data row0 col7\" >3</td>\n",
       "      <td id=\"T_5e904_row0_col8\" class=\"data row0 col8\" >1</td>\n",
       "    </tr>\n",
       "  </tbody>\n",
       "</table>\n"
      ],
      "text/plain": [
       "<pandas.io.formats.style.Styler at 0x7f9c7e4f60c0>"
      ]
     },
     "execution_count": 7,
     "metadata": {},
     "output_type": "execute_result"
    }
   ],
   "source": [
    "msm.info(molecular_system_A, element='system')"
   ]
  },
  {
   "cell_type": "code",
   "execution_count": 8,
   "metadata": {
    "editable": true,
    "execution": {
     "iopub.execute_input": "2025-03-11T06:13:05.819818Z",
     "iopub.status.busy": "2025-03-11T06:13:05.819586Z",
     "iopub.status.idle": "2025-03-11T06:13:05.822983Z",
     "shell.execute_reply": "2025-03-11T06:13:05.822391Z"
    },
    "slideshow": {
     "slide_type": ""
    },
    "tags": []
   },
   "outputs": [],
   "source": [
    "# This cell is removed with the tag: \"remove-input\"\n",
    "# As such, it will not be shown in documentation\n",
    "\n",
    "nglview_htmlfile = '../../../../_static/nglview/add.html'"
   ]
  },
  {
   "cell_type": "code",
   "execution_count": 9,
   "metadata": {
    "editable": true,
    "execution": {
     "iopub.execute_input": "2025-03-11T06:13:05.825231Z",
     "iopub.status.busy": "2025-03-11T06:13:05.825013Z",
     "iopub.status.idle": "2025-03-11T06:13:08.475167Z",
     "shell.execute_reply": "2025-03-11T06:13:08.474406Z"
    },
    "slideshow": {
     "slide_type": ""
    },
    "tags": []
   },
   "outputs": [
    {
     "data": {
      "application/vnd.jupyter.widget-view+json": {
       "model_id": "21b302ee893d43d4aa89b399e5c5a8b2",
       "version_major": 2,
       "version_minor": 0
      },
      "text/plain": [
       "NGLWidget()"
      ]
     },
     "metadata": {},
     "output_type": "display_data"
    }
   ],
   "source": [
    "msm.view(molecular_system_A, standard=True)"
   ]
  },
  {
   "cell_type": "code",
   "execution_count": 10,
   "metadata": {
    "editable": true,
    "execution": {
     "iopub.execute_input": "2025-03-11T06:13:08.478070Z",
     "iopub.status.busy": "2025-03-11T06:13:08.477666Z",
     "iopub.status.idle": "2025-03-11T06:13:08.481268Z",
     "shell.execute_reply": "2025-03-11T06:13:08.480505Z"
    },
    "slideshow": {
     "slide_type": ""
    },
    "tags": [
     "remove-input"
    ]
   },
   "outputs": [],
   "source": [
    "# This cell is removed with the tag: \"remove-input\"\n",
    "# As such, it will not be shown in documentation\n",
    "\n",
    "if False:\n",
    "    # to write an html the view had to be displayed in a cell before\n",
    "    msm.thirds.nglview.write_html(view, nglview_htmlfile)"
   ]
  },
  {
   "cell_type": "markdown",
   "metadata": {
    "editable": true,
    "slideshow": {
     "slide_type": ""
    },
    "tags": []
   },
   "source": [
    ":::{seealso}\n",
    "[User guide > Tools > Build > Build peptide](../build/build_peptide.ipynb):    \n",
    "[User guide > Tools > Structure > Translate](../structure/translate.ipynb):    \n",
    "[User guide > Tools > Basic > Info](info.ipynb): Printing out summary information of a molecular system.    \n",
    "[User guide > Tools > Basic > View](view.ipynb): Showing a molecular system.    \n",
    "[User guide > Tools > Basic > Merge](merge.ipynb): Merging the elements of different molecular systems.    \n",
    ":::"
   ]
  }
 ],
 "metadata": {
  "kernelspec": {
   "display_name": "Python 3 (ipykernel)",
   "language": "python",
   "name": "python3"
  },
  "language_info": {
   "codemirror_mode": {
    "name": "ipython",
    "version": 3
   },
   "file_extension": ".py",
   "mimetype": "text/x-python",
   "name": "python",
   "nbconvert_exporter": "python",
   "pygments_lexer": "ipython3",
   "version": "3.12.9"
  },
  "widgets": {
   "application/vnd.jupyter.widget-state+json": {
    "state": {
     "06ddc091d117439fabfe62ccefa5c1b6": {
      "model_module": "@jupyter-widgets/base",
      "model_module_version": "2.0.0",
      "model_name": "LayoutModel",
      "state": {
       "_model_module": "@jupyter-widgets/base",
       "_model_module_version": "2.0.0",
       "_model_name": "LayoutModel",
       "_view_count": null,
       "_view_module": "@jupyter-widgets/base",
       "_view_module_version": "2.0.0",
       "_view_name": "LayoutView",
       "align_content": null,
       "align_items": null,
       "align_self": null,
       "border_bottom": null,
       "border_left": null,
       "border_right": null,
       "border_top": null,
       "bottom": null,
       "display": null,
       "flex": null,
       "flex_flow": null,
       "grid_area": null,
       "grid_auto_columns": null,
       "grid_auto_flow": null,
       "grid_auto_rows": null,
       "grid_column": null,
       "grid_gap": null,
       "grid_row": null,
       "grid_template_areas": null,
       "grid_template_columns": null,
       "grid_template_rows": null,
       "height": null,
       "justify_content": null,
       "justify_items": null,
       "left": null,
       "margin": null,
       "max_height": null,
       "max_width": null,
       "min_height": null,
       "min_width": null,
       "object_fit": null,
       "object_position": null,
       "order": null,
       "overflow": null,
       "padding": null,
       "right": null,
       "top": null,
       "visibility": null,
       "width": null
      }
     },
     "0ce9437ca6bf4fd68b35bb8b0f6f8619": {
      "model_module": "@jupyter-widgets/base",
      "model_module_version": "2.0.0",
      "model_name": "LayoutModel",
      "state": {
       "_model_module": "@jupyter-widgets/base",
       "_model_module_version": "2.0.0",
       "_model_name": "LayoutModel",
       "_view_count": null,
       "_view_module": "@jupyter-widgets/base",
       "_view_module_version": "2.0.0",
       "_view_name": "LayoutView",
       "align_content": null,
       "align_items": null,
       "align_self": null,
       "border_bottom": null,
       "border_left": null,
       "border_right": null,
       "border_top": null,
       "bottom": null,
       "display": null,
       "flex": null,
       "flex_flow": null,
       "grid_area": null,
       "grid_auto_columns": null,
       "grid_auto_flow": null,
       "grid_auto_rows": null,
       "grid_column": null,
       "grid_gap": null,
       "grid_row": null,
       "grid_template_areas": null,
       "grid_template_columns": null,
       "grid_template_rows": null,
       "height": null,
       "justify_content": null,
       "justify_items": null,
       "left": null,
       "margin": null,
       "max_height": null,
       "max_width": null,
       "min_height": null,
       "min_width": null,
       "object_fit": null,
       "object_position": null,
       "order": null,
       "overflow": null,
       "padding": null,
       "right": null,
       "top": null,
       "visibility": null,
       "width": null
      }
     },
     "1684b4e74a83482a9cac1fbcae7ffef8": {
      "model_module": "@jupyter-widgets/base",
      "model_module_version": "2.0.0",
      "model_name": "LayoutModel",
      "state": {
       "_model_module": "@jupyter-widgets/base",
       "_model_module_version": "2.0.0",
       "_model_name": "LayoutModel",
       "_view_count": null,
       "_view_module": "@jupyter-widgets/base",
       "_view_module_version": "2.0.0",
       "_view_name": "LayoutView",
       "align_content": null,
       "align_items": null,
       "align_self": null,
       "border_bottom": null,
       "border_left": null,
       "border_right": null,
       "border_top": null,
       "bottom": null,
       "display": null,
       "flex": null,
       "flex_flow": null,
       "grid_area": null,
       "grid_auto_columns": null,
       "grid_auto_flow": null,
       "grid_auto_rows": null,
       "grid_column": null,
       "grid_gap": null,
       "grid_row": null,
       "grid_template_areas": null,
       "grid_template_columns": null,
       "grid_template_rows": null,
       "height": null,
       "justify_content": null,
       "justify_items": null,
       "left": null,
       "margin": null,
       "max_height": null,
       "max_width": null,
       "min_height": null,
       "min_width": null,
       "object_fit": null,
       "object_position": null,
       "order": null,
       "overflow": null,
       "padding": null,
       "right": null,
       "top": null,
       "visibility": null,
       "width": "34px"
      }
     },
     "21b302ee893d43d4aa89b399e5c5a8b2": {
      "model_module": "nglview-js-widgets",
      "model_module_version": "3.1.4",
      "model_name": "NGLModel",
      "state": {
       "_camera_orientation": [],
       "_camera_str": "orthographic",
       "_dom_classes": [],
       "_gui_theme": null,
       "_ibtn_fullscreen": "IPY_MODEL_977c07c77e274b69a959253db9079cc9",
       "_igui": null,
       "_iplayer": "IPY_MODEL_c288093984d149ef916298794d7ef6bc",
       "_model_module": "nglview-js-widgets",
       "_model_module_version": "3.1.4",
       "_model_name": "NGLModel",
       "_ngl_color_dict": {},
       "_ngl_coordinate_resource": {},
       "_ngl_full_stage_parameters": {},
       "_ngl_msg_archive": [
        {
         "args": [
          {
           "binary": false,
           "data": "HEADER    MOLECULAR SYSTEM                        11-MAR-25       \nREMARK   1 Created by MolSysMT version 1.0 on 11-MAR-2025 at 00:13:06\nATOM      1 H1   ACE A   1       2.000   1.000  -0.000  0.00  0.00           H\nATOM      2 CH3  ACE A   1       2.000   2.090   0.000  0.00  0.00           C\nATOM      3 H2   ACE A   1       1.486   2.454   0.890  0.00  0.00           H\nATOM      4 H3   ACE A   1       1.486   2.454  -0.890  0.00  0.00           H\nATOM      5 C    ACE A   1       3.427   2.641  -0.000  0.00  0.00           C\nATOM      6 O    ACE A   1       4.391   1.877  -0.000  0.00  0.00           O\nATOM      7 N    PRO A   2       3.555   3.970  -0.000  0.00  0.00           N\nATOM      8 CD   PRO A   2       2.397   4.855  -0.000  0.00  0.00           C\nATOM      9 HD2  PRO A   2       2.009   4.946   1.014  0.00  0.00           H\nATOM     10 HD3  PRO A   2       1.624   4.443  -0.649  0.00  0.00           H\nATOM     11 CG   PRO A   2       2.953   6.147  -0.522  0.00  0.00           C\nATOM     12 HG2  PRO A   2       2.493   6.975   0.016  0.00  0.00           H\nATOM     13 HG3  PRO A   2       2.739   6.242  -1.586  0.00  0.00           H\nATOM     14 CB   PRO A   2       4.442   6.089  -0.276  0.00  0.00           C\nATOM     15 HB2  PRO A   2       4.688   6.710   0.586  0.00  0.00           H\nATOM     16 HB3  PRO A   2       4.966   6.463  -1.155  0.00  0.00           H\nATOM     17 CA   PRO A   2       4.855   4.615  -0.000  0.00  0.00           C\nATOM     18 HA   PRO A   2       5.432   4.348  -0.886  0.00  0.00           H\nATOM     19 C    PRO A   2       5.646   4.251   1.248  0.00  0.00           C\nATOM     20 O    PRO A   2       5.191   3.451   2.064  0.00  0.00           O\nATOM     21 N    NME A   3       6.834   4.841   1.396  0.00  0.00           N\nATOM     22 H    NME A   3       7.165   5.491   0.698  0.00  0.00           H\nATOM     23 C    NME A   3       7.683   4.578   2.541  0.00  0.00           C\nATOM     24 H1   NME A   3       7.192   3.861   3.200  0.00  0.00           H\nATOM     25 H2   NME A   3       8.634   4.168   2.203  0.00  0.00           H\nATOM     26 H3   NME A   3       7.860   5.507   3.084  0.00  0.00           H\nATOM      1 H1   ACE B   1      -8.000   1.000  -0.000  0.00  0.00           H\nATOM      2 CH3  ACE B   1      -8.000   2.090   0.000  0.00  0.00           C\nATOM      3 H2   ACE B   1      -8.514   2.454   0.890  0.00  0.00           H\nATOM      4 H3   ACE B   1      -8.514   2.454  -0.890  0.00  0.00           H\nATOM      5 C    ACE B   1      -6.573   2.641  -0.000  0.00  0.00           C\nATOM      6 O    ACE B   1      -5.609   1.877  -0.000  0.00  0.00           O\nATOM      7 N    VAL B   2      -6.445   3.970  -0.000  0.00  0.00           N\nATOM      8 H    VAL B   2      -7.267   4.556  -0.000  0.00  0.00           H\nATOM      9 CA   VAL B   2      -5.147   4.614  -0.000  0.00  0.00           C\nATOM     10 HA   VAL B   2      -4.592   4.316   0.890  0.00  0.00           H\nATOM     11 CB   VAL B   2      -4.339   4.221  -1.232  0.00  0.00           C\nATOM     12 HB   VAL B   2      -4.191   3.141  -1.241  0.00  0.00           H\nATOM     13 CG1  VAL B   2      -5.092   4.642  -2.490  0.00  0.00           C\nATOM     14 HG11 VAL B   2      -5.239   5.722  -2.481  0.00  0.00           H\nATOM     15 HG12 VAL B   2      -4.515   4.361  -3.371  0.00  0.00           H\nATOM     16 HG13 VAL B   2      -6.061   4.144  -2.517  0.00  0.00           H\nATOM     17 CG2  VAL B   2      -2.983   4.918  -1.195  0.00  0.00           C\nATOM     18 HG21 VAL B   2      -2.444   4.618  -0.296  0.00  0.00           H\nATOM     19 HG22 VAL B   2      -2.405   4.637  -2.075  0.00  0.00           H\nATOM     20 HG23 VAL B   2      -3.129   5.998  -1.186  0.00  0.00           H\nATOM     21 C    VAL B   2      -5.287   6.129   0.000  0.00  0.00           C\nATOM     22 O    VAL B   2      -6.399   6.653   0.000  0.00  0.00           O\nATOM     23 N    NME B   3      -4.154   6.835   0.000  0.00  0.00           N\nATOM     24 H    NME B   3      -3.263   6.359  -0.000  0.00  0.00           H\nATOM     25 C    NME B   3      -4.154   8.284   0.000  0.00  0.00           C\nATOM     26 H1   NME B   3      -5.181   8.648   0.000  0.00  0.00           H\nATOM     27 H2   NME B   3      -3.640   8.648   0.890  0.00  0.00           H\nATOM     28 H3   NME B   3      -3.640   8.648  -0.890  0.00  0.00           H\nATOM      1 H1   ACE C   1      12.000   1.000  -0.000  0.00  0.00           H\nATOM      2 CH3  ACE C   1      12.000   2.090   0.000  0.00  0.00           C\nATOM      3 H2   ACE C   1      11.486   2.454   0.890  0.00  0.00           H\nATOM      4 H3   ACE C   1      11.486   2.454  -0.890  0.00  0.00           H\nATOM      5 C    ACE C   1      13.427   2.641  -0.000  0.00  0.00           C\nATOM      6 O    ACE C   1      14.391   1.877  -0.000  0.00  0.00           O\nATOM      7 N    LYS C   2      13.555   3.970  -0.000  0.00  0.00           N\nATOM      8 H    LYS C   2      12.733   4.556  -0.000  0.00  0.00           H\nATOM      9 CA   LYS C   2      14.853   4.614  -0.000  0.00  0.00           C\nATOM     10 HA   LYS C   2      15.408   4.316   0.890  0.00  0.00           H\nATOM     11 CB   LYS C   2      15.661   4.221  -1.232  0.00  0.00           C\nATOM     12 HB2  LYS C   2      15.809   3.141  -1.241  0.00  0.00           H\nATOM     13 HB3  LYS C   2      15.123   4.521  -2.131  0.00  0.00           H\nATOM     14 CG   LYS C   2      17.017   4.918  -1.195  0.00  0.00           C\nATOM     15 HG2  LYS C   2      16.871   5.998  -1.186  0.00  0.00           H\nATOM     16 HG3  LYS C   2      17.556   4.618  -0.296  0.00  0.00           H\nATOM     17 CD   LYS C   2      17.825   4.525  -2.427  0.00  0.00           C\nATOM     18 HD2  LYS C   2      17.972   3.445  -2.436  0.00  0.00           H\nATOM     19 HD3  LYS C   2      17.287   4.826  -3.326  0.00  0.00           H\nATOM     20 CE   LYS C   2      19.181   5.222  -2.389  0.00  0.00           C\nATOM     21 HE2  LYS C   2      19.034   6.302  -2.380  0.00  0.00           H\nATOM     22 HE3  LYS C   2      19.720   4.922  -1.491  0.00  0.00           H\nATOM     23 NZ   LYS C   2      19.960   4.843  -3.577  0.00  0.00           N\nATOM     24 HZ1  LYS C   2      19.461   5.122  -4.410  0.00  0.00           H\nATOM     25 HZ2  LYS C   2      20.858   5.305  -3.552  0.00  0.00           H\nATOM     26 HZ3  LYS C   2      20.096   3.843  -3.585  0.00  0.00           H\nATOM     27 C    LYS C   2      14.713   6.129   0.000  0.00  0.00           C\nATOM     28 O    LYS C   2      13.601   6.653   0.000  0.00  0.00           O\nATOM     29 N    NME C   3      15.846   6.835   0.000  0.00  0.00           N\nATOM     30 H    NME C   3      16.737   6.359  -0.000  0.00  0.00           H\nATOM     31 C    NME C   3      15.846   8.284   0.000  0.00  0.00           C\nATOM     32 H1   NME C   3      14.819   8.648   0.000  0.00  0.00           H\nATOM     33 H2   NME C   3      16.360   8.648   0.890  0.00  0.00           H\nATOM     34 H3   NME C   3      16.360   8.648  -0.890  0.00  0.00           H\nEND\n",
           "type": "blob"
          }
         ],
         "kwargs": {
          "defaultRepresentation": true,
          "ext": "pdb",
          "name": "nglview.adaptor.MolSysMTTrajectory",
          "skipDigestion": true
         },
         "methodName": "loadFile",
         "reconstruc_color_scheme": false,
         "target": "Stage",
         "type": "call_method"
        },
        {
         "args": [],
         "component_index": 0,
         "kwargs": {},
         "methodName": "removeAllRepresentations",
         "reconstruc_color_scheme": false,
         "target": "compList",
         "type": "call_method"
        },
        {
         "args": [
          "cartoon"
         ],
         "component_index": 0,
         "kwargs": {
          "sele": "@"
         },
         "methodName": "addRepresentation",
         "reconstruc_color_scheme": false,
         "target": "compList",
         "type": "call_method"
        },
        {
         "args": [
          "cartoon"
         ],
         "component_index": 0,
         "kwargs": {
          "sele": "@"
         },
         "methodName": "addRepresentation",
         "reconstruc_color_scheme": false,
         "target": "compList",
         "type": "call_method"
        },
        {
         "args": [
          "licorice"
         ],
         "component_index": 0,
         "kwargs": {
          "radius": 0.4,
          "sele": "@"
         },
         "methodName": "addRepresentation",
         "reconstruc_color_scheme": false,
         "target": "compList",
         "type": "call_method"
        },
        {
         "args": [
          "licorice"
         ],
         "component_index": 0,
         "kwargs": {
          "radius": 0.4,
          "sele": "@0,1,2,3,4,5,6,7,8,9,10,11,12,13,14,15,16,17,18,19,20,21,22,23,24,25,26,27,28,29,30,31,32,33,34,35,36,37,38,39,40,41,42,43,44,45,46,47,48,49,50,51,52,53,54,55,56,57,58,59,60,61,62,63,64,65,66,67,68,69,70,71,72,73,74,75,76,77,78,79,80,81,82,83,84,85,86,87"
         },
         "methodName": "addRepresentation",
         "reconstruc_color_scheme": false,
         "target": "compList",
         "type": "call_method"
        },
        {
         "args": [
          "ball+stick"
         ],
         "component_index": 0,
         "kwargs": {
          "sele": "@"
         },
         "methodName": "addRepresentation",
         "reconstruc_color_scheme": false,
         "target": "compList",
         "type": "call_method"
        }
       ],
       "_ngl_original_stage_parameters": {},
       "_ngl_repr_dict": {},
       "_ngl_serialize": false,
       "_ngl_version": "",
       "_ngl_view_id": [],
       "_player_dict": {},
       "_scene_position": {},
       "_scene_rotation": {},
       "_synced_model_ids": [],
       "_synced_repr_model_ids": [],
       "_view_count": null,
       "_view_height": "",
       "_view_module": "nglview-js-widgets",
       "_view_module_version": "3.1.4",
       "_view_name": "NGLView",
       "_view_width": "",
       "background": "white",
       "frame": 0,
       "gui_style": null,
       "layout": "IPY_MODEL_923afc136d7d4492bf48279e1e163ceb",
       "max_frame": 0,
       "n_components": 0,
       "picked": {},
       "tabbable": null,
       "tooltip": null
      }
     },
     "240f0c1bfa75499c854d9252479ffba2": {
      "model_module": "nglview-js-widgets",
      "model_module_version": "3.1.4",
      "model_name": "ColormakerRegistryModel",
      "state": {
       "_dom_classes": [],
       "_model_module": "nglview-js-widgets",
       "_model_module_version": "3.1.4",
       "_model_name": "ColormakerRegistryModel",
       "_msg_ar": [],
       "_msg_q": [],
       "_ready": false,
       "_view_count": null,
       "_view_module": "nglview-js-widgets",
       "_view_module_version": "3.1.4",
       "_view_name": "ColormakerRegistryView",
       "layout": "IPY_MODEL_0ce9437ca6bf4fd68b35bb8b0f6f8619",
       "tabbable": null,
       "tooltip": null
      }
     },
     "3d07b81b9b8946818791ac4f79601cc1": {
      "model_module": "@jupyter-widgets/controls",
      "model_module_version": "2.0.0",
      "model_name": "LinkModel",
      "state": {
       "_model_module": "@jupyter-widgets/controls",
       "_model_module_version": "2.0.0",
       "_model_name": "LinkModel",
       "_view_count": null,
       "_view_module": "@jupyter-widgets/controls",
       "_view_module_version": "2.0.0",
       "_view_name": null,
       "source": [
        "IPY_MODEL_480deb4ecae74a7883173f7a2147ccb2",
        "max"
       ],
       "target": [
        "IPY_MODEL_21b302ee893d43d4aa89b399e5c5a8b2",
        "max_frame"
       ]
      }
     },
     "40ee7cd267ab48008228613e91271d14": {
      "model_module": "@jupyter-widgets/controls",
      "model_module_version": "2.0.0",
      "model_name": "LinkModel",
      "state": {
       "_model_module": "@jupyter-widgets/controls",
       "_model_module_version": "2.0.0",
       "_model_name": "LinkModel",
       "_view_count": null,
       "_view_module": "@jupyter-widgets/controls",
       "_view_module_version": "2.0.0",
       "_view_name": null,
       "source": [
        "IPY_MODEL_b67f1495360e4393a32485e260b56c86",
        "value"
       ],
       "target": [
        "IPY_MODEL_21b302ee893d43d4aa89b399e5c5a8b2",
        "frame"
       ]
      }
     },
     "480deb4ecae74a7883173f7a2147ccb2": {
      "model_module": "@jupyter-widgets/controls",
      "model_module_version": "2.0.0",
      "model_name": "IntSliderModel",
      "state": {
       "_dom_classes": [],
       "_model_module": "@jupyter-widgets/controls",
       "_model_module_version": "2.0.0",
       "_model_name": "IntSliderModel",
       "_view_count": null,
       "_view_module": "@jupyter-widgets/controls",
       "_view_module_version": "2.0.0",
       "_view_name": "IntSliderView",
       "behavior": "drag-tap",
       "continuous_update": true,
       "description": "",
       "description_allow_html": false,
       "disabled": false,
       "layout": "IPY_MODEL_8029d3e2404f48b0a3e8a4e0a0363385",
       "max": 0,
       "min": 0,
       "orientation": "horizontal",
       "readout": true,
       "readout_format": "d",
       "step": 1,
       "style": "IPY_MODEL_e6fef02e2f9c406f8e4a56a7ba435361",
       "tabbable": null,
       "tooltip": null,
       "value": 0
      }
     },
     "8029d3e2404f48b0a3e8a4e0a0363385": {
      "model_module": "@jupyter-widgets/base",
      "model_module_version": "2.0.0",
      "model_name": "LayoutModel",
      "state": {
       "_model_module": "@jupyter-widgets/base",
       "_model_module_version": "2.0.0",
       "_model_name": "LayoutModel",
       "_view_count": null,
       "_view_module": "@jupyter-widgets/base",
       "_view_module_version": "2.0.0",
       "_view_name": "LayoutView",
       "align_content": null,
       "align_items": null,
       "align_self": null,
       "border_bottom": null,
       "border_left": null,
       "border_right": null,
       "border_top": null,
       "bottom": null,
       "display": null,
       "flex": null,
       "flex_flow": null,
       "grid_area": null,
       "grid_auto_columns": null,
       "grid_auto_flow": null,
       "grid_auto_rows": null,
       "grid_column": null,
       "grid_gap": null,
       "grid_row": null,
       "grid_template_areas": null,
       "grid_template_columns": null,
       "grid_template_rows": null,
       "height": null,
       "justify_content": null,
       "justify_items": null,
       "left": null,
       "margin": null,
       "max_height": null,
       "max_width": null,
       "min_height": null,
       "min_width": null,
       "object_fit": null,
       "object_position": null,
       "order": null,
       "overflow": null,
       "padding": null,
       "right": null,
       "top": null,
       "visibility": null,
       "width": null
      }
     },
     "85de2d78a83a42d3bce262951d35da2d": {
      "model_module": "@jupyter-widgets/controls",
      "model_module_version": "2.0.0",
      "model_name": "DescriptionStyleModel",
      "state": {
       "_model_module": "@jupyter-widgets/controls",
       "_model_module_version": "2.0.0",
       "_model_name": "DescriptionStyleModel",
       "_view_count": null,
       "_view_module": "@jupyter-widgets/base",
       "_view_module_version": "2.0.0",
       "_view_name": "StyleView",
       "description_width": ""
      }
     },
     "923afc136d7d4492bf48279e1e163ceb": {
      "model_module": "@jupyter-widgets/base",
      "model_module_version": "2.0.0",
      "model_name": "LayoutModel",
      "state": {
       "_model_module": "@jupyter-widgets/base",
       "_model_module_version": "2.0.0",
       "_model_name": "LayoutModel",
       "_view_count": null,
       "_view_module": "@jupyter-widgets/base",
       "_view_module_version": "2.0.0",
       "_view_name": "LayoutView",
       "align_content": null,
       "align_items": null,
       "align_self": null,
       "border_bottom": null,
       "border_left": null,
       "border_right": null,
       "border_top": null,
       "bottom": null,
       "display": null,
       "flex": null,
       "flex_flow": null,
       "grid_area": null,
       "grid_auto_columns": null,
       "grid_auto_flow": null,
       "grid_auto_rows": null,
       "grid_column": null,
       "grid_gap": null,
       "grid_row": null,
       "grid_template_areas": null,
       "grid_template_columns": null,
       "grid_template_rows": null,
       "height": null,
       "justify_content": null,
       "justify_items": null,
       "left": null,
       "margin": null,
       "max_height": null,
       "max_width": null,
       "min_height": null,
       "min_width": null,
       "object_fit": null,
       "object_position": null,
       "order": null,
       "overflow": null,
       "padding": null,
       "right": null,
       "top": null,
       "visibility": null,
       "width": null
      }
     },
     "977c07c77e274b69a959253db9079cc9": {
      "model_module": "@jupyter-widgets/controls",
      "model_module_version": "2.0.0",
      "model_name": "ButtonModel",
      "state": {
       "_dom_classes": [],
       "_model_module": "@jupyter-widgets/controls",
       "_model_module_version": "2.0.0",
       "_model_name": "ButtonModel",
       "_view_count": null,
       "_view_module": "@jupyter-widgets/controls",
       "_view_module_version": "2.0.0",
       "_view_name": "ButtonView",
       "button_style": "",
       "description": "",
       "disabled": false,
       "icon": "compress",
       "layout": "IPY_MODEL_1684b4e74a83482a9cac1fbcae7ffef8",
       "style": "IPY_MODEL_e693638448f3400e989644c34c68d337",
       "tabbable": null,
       "tooltip": null
      }
     },
     "b67f1495360e4393a32485e260b56c86": {
      "model_module": "@jupyter-widgets/controls",
      "model_module_version": "2.0.0",
      "model_name": "PlayModel",
      "state": {
       "_dom_classes": [],
       "_model_module": "@jupyter-widgets/controls",
       "_model_module_version": "2.0.0",
       "_model_name": "PlayModel",
       "_view_count": null,
       "_view_module": "@jupyter-widgets/controls",
       "_view_module_version": "2.0.0",
       "_view_name": "PlayView",
       "description": "",
       "description_allow_html": false,
       "disabled": false,
       "interval": 100,
       "layout": "IPY_MODEL_bc844c01cc6643349a630692ba06c4fa",
       "max": 0,
       "min": 0,
       "playing": false,
       "repeat": false,
       "show_repeat": true,
       "step": 1,
       "style": "IPY_MODEL_85de2d78a83a42d3bce262951d35da2d",
       "tabbable": null,
       "tooltip": null,
       "value": 0
      }
     },
     "bc844c01cc6643349a630692ba06c4fa": {
      "model_module": "@jupyter-widgets/base",
      "model_module_version": "2.0.0",
      "model_name": "LayoutModel",
      "state": {
       "_model_module": "@jupyter-widgets/base",
       "_model_module_version": "2.0.0",
       "_model_name": "LayoutModel",
       "_view_count": null,
       "_view_module": "@jupyter-widgets/base",
       "_view_module_version": "2.0.0",
       "_view_name": "LayoutView",
       "align_content": null,
       "align_items": null,
       "align_self": null,
       "border_bottom": null,
       "border_left": null,
       "border_right": null,
       "border_top": null,
       "bottom": null,
       "display": null,
       "flex": null,
       "flex_flow": null,
       "grid_area": null,
       "grid_auto_columns": null,
       "grid_auto_flow": null,
       "grid_auto_rows": null,
       "grid_column": null,
       "grid_gap": null,
       "grid_row": null,
       "grid_template_areas": null,
       "grid_template_columns": null,
       "grid_template_rows": null,
       "height": null,
       "justify_content": null,
       "justify_items": null,
       "left": null,
       "margin": null,
       "max_height": null,
       "max_width": null,
       "min_height": null,
       "min_width": null,
       "object_fit": null,
       "object_position": null,
       "order": null,
       "overflow": null,
       "padding": null,
       "right": null,
       "top": null,
       "visibility": null,
       "width": null
      }
     },
     "c183ded623294bf69cec4d8c357f3702": {
      "model_module": "@jupyter-widgets/base",
      "model_module_version": "2.0.0",
      "model_name": "LayoutModel",
      "state": {
       "_model_module": "@jupyter-widgets/base",
       "_model_module_version": "2.0.0",
       "_model_name": "LayoutModel",
       "_view_count": null,
       "_view_module": "@jupyter-widgets/base",
       "_view_module_version": "2.0.0",
       "_view_name": "LayoutView",
       "align_content": null,
       "align_items": null,
       "align_self": null,
       "border_bottom": null,
       "border_left": null,
       "border_right": null,
       "border_top": null,
       "bottom": null,
       "display": null,
       "flex": null,
       "flex_flow": null,
       "grid_area": null,
       "grid_auto_columns": null,
       "grid_auto_flow": null,
       "grid_auto_rows": null,
       "grid_column": null,
       "grid_gap": null,
       "grid_row": null,
       "grid_template_areas": null,
       "grid_template_columns": null,
       "grid_template_rows": null,
       "height": null,
       "justify_content": null,
       "justify_items": null,
       "left": null,
       "margin": null,
       "max_height": null,
       "max_width": null,
       "min_height": null,
       "min_width": null,
       "object_fit": null,
       "object_position": null,
       "order": null,
       "overflow": null,
       "padding": null,
       "right": null,
       "top": null,
       "visibility": null,
       "width": null
      }
     },
     "c288093984d149ef916298794d7ef6bc": {
      "model_module": "@jupyter-widgets/controls",
      "model_module_version": "2.0.0",
      "model_name": "HBoxModel",
      "state": {
       "_dom_classes": [],
       "_model_module": "@jupyter-widgets/controls",
       "_model_module_version": "2.0.0",
       "_model_name": "HBoxModel",
       "_view_count": null,
       "_view_module": "@jupyter-widgets/controls",
       "_view_module_version": "2.0.0",
       "_view_name": "HBoxView",
       "box_style": "",
       "children": [
        "IPY_MODEL_b67f1495360e4393a32485e260b56c86",
        "IPY_MODEL_480deb4ecae74a7883173f7a2147ccb2"
       ],
       "layout": "IPY_MODEL_06ddc091d117439fabfe62ccefa5c1b6",
       "tabbable": null,
       "tooltip": null
      }
     },
     "e693638448f3400e989644c34c68d337": {
      "model_module": "@jupyter-widgets/controls",
      "model_module_version": "2.0.0",
      "model_name": "ButtonStyleModel",
      "state": {
       "_model_module": "@jupyter-widgets/controls",
       "_model_module_version": "2.0.0",
       "_model_name": "ButtonStyleModel",
       "_view_count": null,
       "_view_module": "@jupyter-widgets/base",
       "_view_module_version": "2.0.0",
       "_view_name": "StyleView",
       "button_color": null,
       "font_family": null,
       "font_size": null,
       "font_style": null,
       "font_variant": null,
       "font_weight": null,
       "text_color": null,
       "text_decoration": null
      }
     },
     "e6fef02e2f9c406f8e4a56a7ba435361": {
      "model_module": "@jupyter-widgets/controls",
      "model_module_version": "2.0.0",
      "model_name": "SliderStyleModel",
      "state": {
       "_model_module": "@jupyter-widgets/controls",
       "_model_module_version": "2.0.0",
       "_model_name": "SliderStyleModel",
       "_view_count": null,
       "_view_module": "@jupyter-widgets/base",
       "_view_module_version": "2.0.0",
       "_view_name": "StyleView",
       "description_width": "",
       "handle_color": null
      }
     },
     "e8d6cb9d259a4cef83ecdd2e8ecfbb70": {
      "model_module": "@jupyter-widgets/controls",
      "model_module_version": "2.0.0",
      "model_name": "LinkModel",
      "state": {
       "_model_module": "@jupyter-widgets/controls",
       "_model_module_version": "2.0.0",
       "_model_name": "LinkModel",
       "_view_count": null,
       "_view_module": "@jupyter-widgets/controls",
       "_view_module_version": "2.0.0",
       "_view_name": null,
       "source": [
        "IPY_MODEL_b67f1495360e4393a32485e260b56c86",
        "value"
       ],
       "target": [
        "IPY_MODEL_480deb4ecae74a7883173f7a2147ccb2",
        "value"
       ]
      }
     },
     "eca553582eab4ed8b0c4f42745a63565": {
      "buffers": [
       {
        "data": "",
        "encoding": "base64",
        "path": [
         "value"
        ]
       }
      ],
      "model_module": "@jupyter-widgets/controls",
      "model_module_version": "2.0.0",
      "model_name": "ImageModel",
      "state": {
       "_dom_classes": [],
       "_model_module": "@jupyter-widgets/controls",
       "_model_module_version": "2.0.0",
       "_model_name": "ImageModel",
       "_view_count": null,
       "_view_module": "@jupyter-widgets/controls",
       "_view_module_version": "2.0.0",
       "_view_name": "ImageView",
       "format": "png",
       "height": "",
       "layout": "IPY_MODEL_c183ded623294bf69cec4d8c357f3702",
       "tabbable": null,
       "tooltip": null,
       "width": "900.0"
      }
     },
     "f3e4af91ce37433d9cb6b44a7cabe2db": {
      "model_module": "@jupyter-widgets/controls",
      "model_module_version": "2.0.0",
      "model_name": "LinkModel",
      "state": {
       "_model_module": "@jupyter-widgets/controls",
       "_model_module_version": "2.0.0",
       "_model_name": "LinkModel",
       "_view_count": null,
       "_view_module": "@jupyter-widgets/controls",
       "_view_module_version": "2.0.0",
       "_view_name": null,
       "source": [
        "IPY_MODEL_b67f1495360e4393a32485e260b56c86",
        "max"
       ],
       "target": [
        "IPY_MODEL_21b302ee893d43d4aa89b399e5c5a8b2",
        "max_frame"
       ]
      }
     }
    },
    "version_major": 2,
    "version_minor": 0
   }
  }
 },
 "nbformat": 4,
 "nbformat_minor": 4
}
