{
 "cells": [
  {
   "cell_type": "code",
   "execution_count": 1,
   "metadata": {
    "editable": true,
    "execution": {
     "iopub.execute_input": "2025-03-11T21:03:17.116153Z",
     "iopub.status.busy": "2025-03-11T21:03:17.115757Z",
     "iopub.status.idle": "2025-03-11T21:03:17.121395Z",
     "shell.execute_reply": "2025-03-11T21:03:17.120443Z"
    },
    "slideshow": {
     "slide_type": ""
    },
    "tags": [
     "remove-input"
    ]
   },
   "outputs": [],
   "source": [
    "# This cell is removed with the tag: \"remove-input\"\n",
    "# As such, it will not be shown in documentation\n",
    "\n",
    "import warnings\n",
    "warnings.filterwarnings('ignore')"
   ]
  },
  {
   "cell_type": "markdown",
   "metadata": {
    "editable": true,
    "slideshow": {
     "slide_type": ""
    },
    "tags": []
   },
   "source": [
    "(Tutorial_Add)=\n",
    "# Add\n",
    "\n",
    "*Adding elements of a molecular system into another molecular system.*\n",
    "\n",
    "Elements coming from different molecular systems can be added to a given system with the {func}`molsysmt.basic.add` function.\n",
    "\n",
    "## How this function works\n",
    "\n",
    "```{admonition} API documentation\n",
    "Follow this link for a detailed description of the input arguments, raised errors, and returned objects of this function:{func}`molsysmt.basic.add`.\n",
    "```\n",
    "\n",
    "Let's show how this function works with three peptides defined as three different molecular systems: proline dipeptide ($A$), valine dipeptide ($B$), and lysine dipeptide ($C$)."
   ]
  },
  {
   "cell_type": "code",
   "execution_count": 2,
   "metadata": {
    "editable": true,
    "execution": {
     "iopub.execute_input": "2025-03-11T21:03:17.125019Z",
     "iopub.status.busy": "2025-03-11T21:03:17.124467Z",
     "iopub.status.idle": "2025-03-11T21:03:25.599933Z",
     "shell.execute_reply": "2025-03-11T21:03:25.599015Z"
    },
    "slideshow": {
     "slide_type": ""
    },
    "tags": []
   },
   "outputs": [
    {
     "data": {
      "application/vnd.jupyter.widget-view+json": {
       "model_id": "c3bb7d9b499e4b36a2ec9363b3a36554",
       "version_major": 2,
       "version_minor": 0
      },
      "text/plain": []
     },
     "metadata": {},
     "output_type": "display_data"
    }
   ],
   "source": [
    "import molsysmt as msm"
   ]
  },
  {
   "cell_type": "code",
   "execution_count": 3,
   "metadata": {
    "editable": true,
    "execution": {
     "iopub.execute_input": "2025-03-11T21:03:25.602924Z",
     "iopub.status.busy": "2025-03-11T21:03:25.602099Z",
     "iopub.status.idle": "2025-03-11T21:03:28.049707Z",
     "shell.execute_reply": "2025-03-11T21:03:28.048693Z"
    },
    "slideshow": {
     "slide_type": ""
    },
    "tags": []
   },
   "outputs": [],
   "source": [
    "molecular_system_A = msm.build.build_peptide('AceProNme')\n",
    "molecular_system_B = msm.build.build_peptide('AceValNme')\n",
    "molecular_system_C = msm.build.build_peptide('AceLysNme')"
   ]
  },
  {
   "cell_type": "markdown",
   "metadata": {},
   "source": [
    "The molecular systems $B$ and $C$ need to be translated to avoid their overlapping once their elements are added to $A$."
   ]
  },
  {
   "cell_type": "code",
   "execution_count": 4,
   "metadata": {
    "editable": true,
    "execution": {
     "iopub.execute_input": "2025-03-11T21:03:28.053901Z",
     "iopub.status.busy": "2025-03-11T21:03:28.052968Z",
     "iopub.status.idle": "2025-03-11T21:03:30.079755Z",
     "shell.execute_reply": "2025-03-11T21:03:30.078746Z"
    },
    "slideshow": {
     "slide_type": ""
    },
    "tags": []
   },
   "outputs": [],
   "source": [
    "molecular_system_B = msm.structure.translate(molecular_system_B, translation='[-1.0, 0.0, 0.0] nanometers')\n",
    "molecular_system_C = msm.structure.translate(molecular_system_C, translation='[1.0, 0.0, 0.0] nanometers')"
   ]
  },
  {
   "cell_type": "markdown",
   "metadata": {},
   "source": [
    "Let's see how $A$ is defined before adding $B$ and $C$:"
   ]
  },
  {
   "cell_type": "code",
   "execution_count": 5,
   "metadata": {
    "editable": true,
    "execution": {
     "iopub.execute_input": "2025-03-11T21:03:30.083929Z",
     "iopub.status.busy": "2025-03-11T21:03:30.083360Z",
     "iopub.status.idle": "2025-03-11T21:03:33.616952Z",
     "shell.execute_reply": "2025-03-11T21:03:33.615997Z"
    },
    "slideshow": {
     "slide_type": ""
    },
    "tags": []
   },
   "outputs": [
    {
     "data": {
      "text/html": [
       "<style type=\"text/css\">\n",
       "</style>\n",
       "<table id=\"T_0f624\">\n",
       "  <thead>\n",
       "    <tr>\n",
       "      <th id=\"T_0f624_level0_col0\" class=\"col_heading level0 col0\" >form</th>\n",
       "      <th id=\"T_0f624_level0_col1\" class=\"col_heading level0 col1\" >n_atoms</th>\n",
       "      <th id=\"T_0f624_level0_col2\" class=\"col_heading level0 col2\" >n_groups</th>\n",
       "      <th id=\"T_0f624_level0_col3\" class=\"col_heading level0 col3\" >n_components</th>\n",
       "      <th id=\"T_0f624_level0_col4\" class=\"col_heading level0 col4\" >n_chains</th>\n",
       "      <th id=\"T_0f624_level0_col5\" class=\"col_heading level0 col5\" >n_molecules</th>\n",
       "      <th id=\"T_0f624_level0_col6\" class=\"col_heading level0 col6\" >n_entities</th>\n",
       "      <th id=\"T_0f624_level0_col7\" class=\"col_heading level0 col7\" >n_peptides</th>\n",
       "      <th id=\"T_0f624_level0_col8\" class=\"col_heading level0 col8\" >n_structures</th>\n",
       "    </tr>\n",
       "  </thead>\n",
       "  <tbody>\n",
       "    <tr>\n",
       "      <td id=\"T_0f624_row0_col0\" class=\"data row0 col0\" >molsysmt.MolSys</td>\n",
       "      <td id=\"T_0f624_row0_col1\" class=\"data row0 col1\" >26</td>\n",
       "      <td id=\"T_0f624_row0_col2\" class=\"data row0 col2\" >3</td>\n",
       "      <td id=\"T_0f624_row0_col3\" class=\"data row0 col3\" >1</td>\n",
       "      <td id=\"T_0f624_row0_col4\" class=\"data row0 col4\" >1</td>\n",
       "      <td id=\"T_0f624_row0_col5\" class=\"data row0 col5\" >1</td>\n",
       "      <td id=\"T_0f624_row0_col6\" class=\"data row0 col6\" >1</td>\n",
       "      <td id=\"T_0f624_row0_col7\" class=\"data row0 col7\" >1</td>\n",
       "      <td id=\"T_0f624_row0_col8\" class=\"data row0 col8\" >1</td>\n",
       "    </tr>\n",
       "  </tbody>\n",
       "</table>\n"
      ],
      "text/plain": [
       "<pandas.io.formats.style.Styler at 0x7fe1be977b90>"
      ]
     },
     "execution_count": 5,
     "metadata": {},
     "output_type": "execute_result"
    }
   ],
   "source": [
    "msm.info(molecular_system_A)"
   ]
  },
  {
   "cell_type": "markdown",
   "metadata": {
    "tags": []
   },
   "source": [
    "Now it is time to use {func}`molsysmt.basic.add`:"
   ]
  },
  {
   "cell_type": "code",
   "execution_count": 6,
   "metadata": {
    "editable": true,
    "execution": {
     "iopub.execute_input": "2025-03-11T21:03:33.621192Z",
     "iopub.status.busy": "2025-03-11T21:03:33.620785Z",
     "iopub.status.idle": "2025-03-11T21:03:34.529022Z",
     "shell.execute_reply": "2025-03-11T21:03:34.528213Z"
    },
    "slideshow": {
     "slide_type": ""
    },
    "tags": []
   },
   "outputs": [],
   "source": [
    "msm.add(molecular_system_A, molecular_system_B)\n",
    "msm.add(molecular_system_A, molecular_system_C)"
   ]
  },
  {
   "cell_type": "markdown",
   "metadata": {},
   "source": [
    ":::{tip}\n",
    "All methods defined in the {ref}`molsysmt.basic <API basic>` module can be invoked also from the main level of the library. Hence, {func}`molsysmt.add` is the same method as {func}`molsysmt.basic.add`.\n",
    ":::"
   ]
  },
  {
   "cell_type": "markdown",
   "metadata": {},
   "source": [
    "Let's see now the new content of $A$:"
   ]
  },
  {
   "cell_type": "code",
   "execution_count": 7,
   "metadata": {
    "execution": {
     "iopub.execute_input": "2025-03-11T21:03:34.532601Z",
     "iopub.status.busy": "2025-03-11T21:03:34.532189Z",
     "iopub.status.idle": "2025-03-11T21:03:37.545979Z",
     "shell.execute_reply": "2025-03-11T21:03:37.544984Z"
    }
   },
   "outputs": [
    {
     "data": {
      "text/html": [
       "<style type=\"text/css\">\n",
       "</style>\n",
       "<table id=\"T_4a906\">\n",
       "  <thead>\n",
       "    <tr>\n",
       "      <th id=\"T_4a906_level0_col0\" class=\"col_heading level0 col0\" >form</th>\n",
       "      <th id=\"T_4a906_level0_col1\" class=\"col_heading level0 col1\" >n_atoms</th>\n",
       "      <th id=\"T_4a906_level0_col2\" class=\"col_heading level0 col2\" >n_groups</th>\n",
       "      <th id=\"T_4a906_level0_col3\" class=\"col_heading level0 col3\" >n_components</th>\n",
       "      <th id=\"T_4a906_level0_col4\" class=\"col_heading level0 col4\" >n_chains</th>\n",
       "      <th id=\"T_4a906_level0_col5\" class=\"col_heading level0 col5\" >n_molecules</th>\n",
       "      <th id=\"T_4a906_level0_col6\" class=\"col_heading level0 col6\" >n_entities</th>\n",
       "      <th id=\"T_4a906_level0_col7\" class=\"col_heading level0 col7\" >n_peptides</th>\n",
       "      <th id=\"T_4a906_level0_col8\" class=\"col_heading level0 col8\" >n_structures</th>\n",
       "    </tr>\n",
       "  </thead>\n",
       "  <tbody>\n",
       "    <tr>\n",
       "      <td id=\"T_4a906_row0_col0\" class=\"data row0 col0\" >molsysmt.MolSys</td>\n",
       "      <td id=\"T_4a906_row0_col1\" class=\"data row0 col1\" >88</td>\n",
       "      <td id=\"T_4a906_row0_col2\" class=\"data row0 col2\" >9</td>\n",
       "      <td id=\"T_4a906_row0_col3\" class=\"data row0 col3\" >3</td>\n",
       "      <td id=\"T_4a906_row0_col4\" class=\"data row0 col4\" >3</td>\n",
       "      <td id=\"T_4a906_row0_col5\" class=\"data row0 col5\" >3</td>\n",
       "      <td id=\"T_4a906_row0_col6\" class=\"data row0 col6\" >3</td>\n",
       "      <td id=\"T_4a906_row0_col7\" class=\"data row0 col7\" >3</td>\n",
       "      <td id=\"T_4a906_row0_col8\" class=\"data row0 col8\" >1</td>\n",
       "    </tr>\n",
       "  </tbody>\n",
       "</table>\n"
      ],
      "text/plain": [
       "<pandas.io.formats.style.Styler at 0x7fe1be4a2a20>"
      ]
     },
     "execution_count": 7,
     "metadata": {},
     "output_type": "execute_result"
    }
   ],
   "source": [
    "msm.info(molecular_system_A, element='system')"
   ]
  },
  {
   "cell_type": "code",
   "execution_count": 8,
   "metadata": {
    "editable": true,
    "execution": {
     "iopub.execute_input": "2025-03-11T21:03:37.549800Z",
     "iopub.status.busy": "2025-03-11T21:03:37.549147Z",
     "iopub.status.idle": "2025-03-11T21:03:37.553428Z",
     "shell.execute_reply": "2025-03-11T21:03:37.552621Z"
    },
    "slideshow": {
     "slide_type": ""
    },
    "tags": []
   },
   "outputs": [],
   "source": [
    "# This cell is removed with the tag: \"remove-input\"\n",
    "# As such, it will not be shown in documentation\n",
    "\n",
    "nglview_htmlfile = '../../../../_static/nglview/add.html'"
   ]
  },
  {
   "cell_type": "code",
   "execution_count": 9,
   "metadata": {
    "editable": true,
    "execution": {
     "iopub.execute_input": "2025-03-11T21:03:37.556620Z",
     "iopub.status.busy": "2025-03-11T21:03:37.556291Z",
     "iopub.status.idle": "2025-03-11T21:03:37.681096Z",
     "shell.execute_reply": "2025-03-11T21:03:37.680248Z"
    },
    "slideshow": {
     "slide_type": ""
    },
    "tags": []
   },
   "outputs": [
    {
     "data": {
      "text/html": [
       "\n",
       "        <iframe\n",
       "            width=\"100%\"\n",
       "            height=\"320vh\"\n",
       "            src=\"../../../../_static/nglview/add.html\"\n",
       "            frameborder=\"0\"\n",
       "            allowfullscreen\n",
       "            \n",
       "        ></iframe>\n",
       "        "
      ],
      "text/plain": [
       "<IPython.lib.display.IFrame at 0x7fe1bf945e20>"
      ]
     },
     "execution_count": 9,
     "metadata": {},
     "output_type": "execute_result"
    }
   ],
   "source": [
    "msm.view(molecular_system_A, standard=True)"
   ]
  },
  {
   "cell_type": "code",
   "execution_count": 10,
   "metadata": {
    "editable": true,
    "execution": {
     "iopub.execute_input": "2025-03-11T21:03:37.684822Z",
     "iopub.status.busy": "2025-03-11T21:03:37.684294Z",
     "iopub.status.idle": "2025-03-11T21:03:37.689582Z",
     "shell.execute_reply": "2025-03-11T21:03:37.688771Z"
    },
    "slideshow": {
     "slide_type": ""
    },
    "tags": [
     "remove-input"
    ]
   },
   "outputs": [],
   "source": [
    "# This cell is removed with the tag: \"remove-input\"\n",
    "# As such, it will not be shown in documentation\n",
    "\n",
    "if False:\n",
    "    # to write an html the view had to be displayed in a cell before\n",
    "    msm.thirds.nglview.write_html(view, nglview_htmlfile)"
   ]
  },
  {
   "cell_type": "markdown",
   "metadata": {
    "editable": true,
    "slideshow": {
     "slide_type": ""
    },
    "tags": []
   },
   "source": [
    ":::{seealso}\n",
    "[User guide > Tools > Build > Build peptide](../build/build_peptide.ipynb):    \n",
    "[User guide > Tools > Structure > Translate](../structure/translate.ipynb):    \n",
    "[User guide > Tools > Basic > Info](info.ipynb): Printing out summary information of a molecular system.    \n",
    "[User guide > Tools > Basic > View](view.ipynb): Showing a molecular system.    \n",
    "[User guide > Tools > Basic > Merge](merge.ipynb): Merging the elements of different molecular systems.    \n",
    ":::"
   ]
  }
 ],
 "metadata": {
  "kernelspec": {
   "display_name": "Python 3 (ipykernel)",
   "language": "python",
   "name": "python3"
  },
  "language_info": {
   "codemirror_mode": {
    "name": "ipython",
    "version": 3
   },
   "file_extension": ".py",
   "mimetype": "text/x-python",
   "name": "python",
   "nbconvert_exporter": "python",
   "pygments_lexer": "ipython3",
   "version": "3.12.9"
  },
  "widgets": {
   "application/vnd.jupyter.widget-state+json": {
    "state": {
     "3a2a236051e5469aa476bf61c458caa6": {
      "model_module": "@jupyter-widgets/base",
      "model_module_version": "2.0.0",
      "model_name": "LayoutModel",
      "state": {
       "_model_module": "@jupyter-widgets/base",
       "_model_module_version": "2.0.0",
       "_model_name": "LayoutModel",
       "_view_count": null,
       "_view_module": "@jupyter-widgets/base",
       "_view_module_version": "2.0.0",
       "_view_name": "LayoutView",
       "align_content": null,
       "align_items": null,
       "align_self": null,
       "border_bottom": null,
       "border_left": null,
       "border_right": null,
       "border_top": null,
       "bottom": null,
       "display": null,
       "flex": null,
       "flex_flow": null,
       "grid_area": null,
       "grid_auto_columns": null,
       "grid_auto_flow": null,
       "grid_auto_rows": null,
       "grid_column": null,
       "grid_gap": null,
       "grid_row": null,
       "grid_template_areas": null,
       "grid_template_columns": null,
       "grid_template_rows": null,
       "height": null,
       "justify_content": null,
       "justify_items": null,
       "left": null,
       "margin": null,
       "max_height": null,
       "max_width": null,
       "min_height": null,
       "min_width": null,
       "object_fit": null,
       "object_position": null,
       "order": null,
       "overflow": null,
       "padding": null,
       "right": null,
       "top": null,
       "visibility": null,
       "width": null
      }
     },
     "c3bb7d9b499e4b36a2ec9363b3a36554": {
      "model_module": "nglview-js-widgets",
      "model_module_version": "3.1.4",
      "model_name": "ColormakerRegistryModel",
      "state": {
       "_dom_classes": [],
       "_model_module": "nglview-js-widgets",
       "_model_module_version": "3.1.4",
       "_model_name": "ColormakerRegistryModel",
       "_msg_ar": [],
       "_msg_q": [],
       "_ready": false,
       "_view_count": null,
       "_view_module": "nglview-js-widgets",
       "_view_module_version": "3.1.4",
       "_view_name": "ColormakerRegistryView",
       "layout": "IPY_MODEL_3a2a236051e5469aa476bf61c458caa6",
       "tabbable": null,
       "tooltip": null
      }
     }
    },
    "version_major": 2,
    "version_minor": 0
   }
  }
 },
 "nbformat": 4,
 "nbformat_minor": 4
}
