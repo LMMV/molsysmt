{
 "cells": [
  {
   "cell_type": "code",
   "execution_count": 1,
   "metadata": {
    "execution": {
     "iopub.execute_input": "2025-03-11T21:03:15.136653Z",
     "iopub.status.busy": "2025-03-11T21:03:15.136350Z",
     "iopub.status.idle": "2025-03-11T21:03:15.140458Z",
     "shell.execute_reply": "2025-03-11T21:03:15.139754Z"
    },
    "tags": [
     "remove-input"
    ]
   },
   "outputs": [],
   "source": [
    "# This cell is removed with the tag: \"remove-input\"\n",
    "# As such, it will not be shown in documentation\n",
    "\n",
    "#import warnings\n",
    "#warnings.filterwarnings('ignore')"
   ]
  },
  {
   "cell_type": "markdown",
   "metadata": {},
   "source": [
    "(Tutorial_Info)=\n",
    "# Info\n",
    "\n",
    "*Printing out summary information of a molecular system*\n",
    "\n",
    "There is in MolSysMT a function to print out a brief overview of a molecular system and its elements: {func}`molsysmt.basic.info`. This function can work at different levels depending on the elements choosen by the user: `atom`, `group`, `component`, `molecule`, `chain`, `entity`, or `system`. And the output of this method can be a `pandas.DataFrame` or a `string`.\n",
    "\n",
    "\n",
    "## How this function works\n",
    "\n",
    ":::{admonition} API documentation\n",
    "Follow this link for a detailed description of the input arguments, raised errors, and returned objects of this function:{func}`molsysmt.basic.info`.\n",
    ":::\n",
    "\n",
    "Let's load a molecular system to illustrate with some simple examples how it works:"
   ]
  },
  {
   "cell_type": "code",
   "execution_count": 2,
   "metadata": {
    "execution": {
     "iopub.execute_input": "2025-03-11T21:03:15.143949Z",
     "iopub.status.busy": "2025-03-11T21:03:15.143315Z",
     "iopub.status.idle": "2025-03-11T21:03:24.801001Z",
     "shell.execute_reply": "2025-03-11T21:03:24.800005Z"
    }
   },
   "outputs": [
    {
     "data": {
      "application/vnd.jupyter.widget-view+json": {
       "model_id": "c197db15c4a945308d20ad645f2d5cdc",
       "version_major": 2,
       "version_minor": 0
      },
      "text/plain": []
     },
     "metadata": {},
     "output_type": "display_data"
    }
   ],
   "source": [
    "import molsysmt as msm"
   ]
  },
  {
   "cell_type": "code",
   "execution_count": 3,
   "metadata": {
    "editable": true,
    "execution": {
     "iopub.execute_input": "2025-03-11T21:03:24.805518Z",
     "iopub.status.busy": "2025-03-11T21:03:24.804312Z",
     "iopub.status.idle": "2025-03-11T21:03:26.535291Z",
     "shell.execute_reply": "2025-03-11T21:03:26.534424Z"
    },
    "slideshow": {
     "slide_type": ""
    },
    "tags": []
   },
   "outputs": [],
   "source": [
    "molecular_system = msm.convert('181L')"
   ]
  },
  {
   "cell_type": "markdown",
   "metadata": {},
   "source": [
    "By default, {func}`molsysmt.basic.info` supplies a summary of the system as a Pandas dataframe:"
   ]
  },
  {
   "cell_type": "code",
   "execution_count": 4,
   "metadata": {
    "execution": {
     "iopub.execute_input": "2025-03-11T21:03:26.538639Z",
     "iopub.status.busy": "2025-03-11T21:03:26.537873Z",
     "iopub.status.idle": "2025-03-11T21:03:29.556496Z",
     "shell.execute_reply": "2025-03-11T21:03:29.555605Z"
    },
    "tags": [
     "scroll-output"
    ]
   },
   "outputs": [
    {
     "data": {
      "text/html": [
       "<style type=\"text/css\">\n",
       "</style>\n",
       "<table id=\"T_d2d1f\">\n",
       "  <thead>\n",
       "    <tr>\n",
       "      <th id=\"T_d2d1f_level0_col0\" class=\"col_heading level0 col0\" >form</th>\n",
       "      <th id=\"T_d2d1f_level0_col1\" class=\"col_heading level0 col1\" >n_atoms</th>\n",
       "      <th id=\"T_d2d1f_level0_col2\" class=\"col_heading level0 col2\" >n_groups</th>\n",
       "      <th id=\"T_d2d1f_level0_col3\" class=\"col_heading level0 col3\" >n_components</th>\n",
       "      <th id=\"T_d2d1f_level0_col4\" class=\"col_heading level0 col4\" >n_chains</th>\n",
       "      <th id=\"T_d2d1f_level0_col5\" class=\"col_heading level0 col5\" >n_molecules</th>\n",
       "      <th id=\"T_d2d1f_level0_col6\" class=\"col_heading level0 col6\" >n_entities</th>\n",
       "      <th id=\"T_d2d1f_level0_col7\" class=\"col_heading level0 col7\" >n_waters</th>\n",
       "      <th id=\"T_d2d1f_level0_col8\" class=\"col_heading level0 col8\" >n_ions</th>\n",
       "      <th id=\"T_d2d1f_level0_col9\" class=\"col_heading level0 col9\" >n_small_molecules</th>\n",
       "      <th id=\"T_d2d1f_level0_col10\" class=\"col_heading level0 col10\" >n_proteins</th>\n",
       "      <th id=\"T_d2d1f_level0_col11\" class=\"col_heading level0 col11\" >n_structures</th>\n",
       "    </tr>\n",
       "  </thead>\n",
       "  <tbody>\n",
       "    <tr>\n",
       "      <td id=\"T_d2d1f_row0_col0\" class=\"data row0 col0\" >molsysmt.MolSys</td>\n",
       "      <td id=\"T_d2d1f_row0_col1\" class=\"data row0 col1\" >1441</td>\n",
       "      <td id=\"T_d2d1f_row0_col2\" class=\"data row0 col2\" >302</td>\n",
       "      <td id=\"T_d2d1f_row0_col3\" class=\"data row0 col3\" >141</td>\n",
       "      <td id=\"T_d2d1f_row0_col4\" class=\"data row0 col4\" >6</td>\n",
       "      <td id=\"T_d2d1f_row0_col5\" class=\"data row0 col5\" >141</td>\n",
       "      <td id=\"T_d2d1f_row0_col6\" class=\"data row0 col6\" >5</td>\n",
       "      <td id=\"T_d2d1f_row0_col7\" class=\"data row0 col7\" >136</td>\n",
       "      <td id=\"T_d2d1f_row0_col8\" class=\"data row0 col8\" >2</td>\n",
       "      <td id=\"T_d2d1f_row0_col9\" class=\"data row0 col9\" >2</td>\n",
       "      <td id=\"T_d2d1f_row0_col10\" class=\"data row0 col10\" >1</td>\n",
       "      <td id=\"T_d2d1f_row0_col11\" class=\"data row0 col11\" >1</td>\n",
       "    </tr>\n",
       "  </tbody>\n",
       "</table>\n"
      ],
      "text/plain": [
       "<pandas.io.formats.style.Styler at 0x7efc9c3944a0>"
      ]
     },
     "execution_count": 4,
     "metadata": {},
     "output_type": "execute_result"
    }
   ],
   "source": [
    "msm.info(molecular_system)"
   ]
  },
  {
   "cell_type": "markdown",
   "metadata": {},
   "source": [
    "```{admonition} Tip\n",
    ":class: tip\n",
    "All methods defined in the {ref}`molsysmt.basic <API basic>` module can be invoked also from the main level of the library. Hence, {func}`molsysmt.info` is the same method as {func}`molsysmt.basic.info`.\n",
    "```"
   ]
  },
  {
   "cell_type": "markdown",
   "metadata": {},
   "source": [
    "But summary information on other elements such as atoms, groups, components, molecules, chains or entities can be obtained."
   ]
  },
  {
   "cell_type": "markdown",
   "metadata": {},
   "source": [
    "## With atoms\n",
    "\n",
    "Let's see an example of how this function works with atoms:"
   ]
  },
  {
   "cell_type": "code",
   "execution_count": 5,
   "metadata": {
    "execution": {
     "iopub.execute_input": "2025-03-11T21:03:29.560168Z",
     "iopub.status.busy": "2025-03-11T21:03:29.559742Z",
     "iopub.status.idle": "2025-03-11T21:03:32.084548Z",
     "shell.execute_reply": "2025-03-11T21:03:32.083550Z"
    },
    "scrolled": true
   },
   "outputs": [
    {
     "data": {
      "text/html": [
       "<style type=\"text/css\">\n",
       "</style>\n",
       "<table id=\"T_9c77b\">\n",
       "  <thead>\n",
       "    <tr>\n",
       "      <th id=\"T_9c77b_level0_col0\" class=\"col_heading level0 col0\" >index</th>\n",
       "      <th id=\"T_9c77b_level0_col1\" class=\"col_heading level0 col1\" >id</th>\n",
       "      <th id=\"T_9c77b_level0_col2\" class=\"col_heading level0 col2\" >name</th>\n",
       "      <th id=\"T_9c77b_level0_col3\" class=\"col_heading level0 col3\" >type</th>\n",
       "      <th id=\"T_9c77b_level0_col4\" class=\"col_heading level0 col4\" >group index</th>\n",
       "      <th id=\"T_9c77b_level0_col5\" class=\"col_heading level0 col5\" >group id</th>\n",
       "      <th id=\"T_9c77b_level0_col6\" class=\"col_heading level0 col6\" >group name</th>\n",
       "      <th id=\"T_9c77b_level0_col7\" class=\"col_heading level0 col7\" >group type</th>\n",
       "      <th id=\"T_9c77b_level0_col8\" class=\"col_heading level0 col8\" >component index</th>\n",
       "      <th id=\"T_9c77b_level0_col9\" class=\"col_heading level0 col9\" >chain index</th>\n",
       "      <th id=\"T_9c77b_level0_col10\" class=\"col_heading level0 col10\" >molecule index</th>\n",
       "      <th id=\"T_9c77b_level0_col11\" class=\"col_heading level0 col11\" >molecule type</th>\n",
       "      <th id=\"T_9c77b_level0_col12\" class=\"col_heading level0 col12\" >entity index</th>\n",
       "      <th id=\"T_9c77b_level0_col13\" class=\"col_heading level0 col13\" >entity name</th>\n",
       "    </tr>\n",
       "  </thead>\n",
       "  <tbody>\n",
       "    <tr>\n",
       "      <td id=\"T_9c77b_row0_col0\" class=\"data row0 col0\" >1289</td>\n",
       "      <td id=\"T_9c77b_row0_col1\" class=\"data row0 col1\" >1290</td>\n",
       "      <td id=\"T_9c77b_row0_col2\" class=\"data row0 col2\" >CL</td>\n",
       "      <td id=\"T_9c77b_row0_col3\" class=\"data row0 col3\" >CL</td>\n",
       "      <td id=\"T_9c77b_row0_col4\" class=\"data row0 col4\" >162</td>\n",
       "      <td id=\"T_9c77b_row0_col5\" class=\"data row0 col5\" >173</td>\n",
       "      <td id=\"T_9c77b_row0_col6\" class=\"data row0 col6\" >CL</td>\n",
       "      <td id=\"T_9c77b_row0_col7\" class=\"data row0 col7\" >ion</td>\n",
       "      <td id=\"T_9c77b_row0_col8\" class=\"data row0 col8\" >1</td>\n",
       "      <td id=\"T_9c77b_row0_col9\" class=\"data row0 col9\" >1</td>\n",
       "      <td id=\"T_9c77b_row0_col10\" class=\"data row0 col10\" >1</td>\n",
       "      <td id=\"T_9c77b_row0_col11\" class=\"data row0 col11\" >ion</td>\n",
       "      <td id=\"T_9c77b_row0_col12\" class=\"data row0 col12\" >1</td>\n",
       "      <td id=\"T_9c77b_row0_col13\" class=\"data row0 col13\" >CHLORIDE ION</td>\n",
       "    </tr>\n",
       "    <tr>\n",
       "      <td id=\"T_9c77b_row1_col0\" class=\"data row1 col0\" >1290</td>\n",
       "      <td id=\"T_9c77b_row1_col1\" class=\"data row1 col1\" >1291</td>\n",
       "      <td id=\"T_9c77b_row1_col2\" class=\"data row1 col2\" >CL</td>\n",
       "      <td id=\"T_9c77b_row1_col3\" class=\"data row1 col3\" >CL</td>\n",
       "      <td id=\"T_9c77b_row1_col4\" class=\"data row1 col4\" >163</td>\n",
       "      <td id=\"T_9c77b_row1_col5\" class=\"data row1 col5\" >178</td>\n",
       "      <td id=\"T_9c77b_row1_col6\" class=\"data row1 col6\" >CL</td>\n",
       "      <td id=\"T_9c77b_row1_col7\" class=\"data row1 col7\" >ion</td>\n",
       "      <td id=\"T_9c77b_row1_col8\" class=\"data row1 col8\" >2</td>\n",
       "      <td id=\"T_9c77b_row1_col9\" class=\"data row1 col9\" >2</td>\n",
       "      <td id=\"T_9c77b_row1_col10\" class=\"data row1 col10\" >2</td>\n",
       "      <td id=\"T_9c77b_row1_col11\" class=\"data row1 col11\" >ion</td>\n",
       "      <td id=\"T_9c77b_row1_col12\" class=\"data row1 col12\" >1</td>\n",
       "      <td id=\"T_9c77b_row1_col13\" class=\"data row1 col13\" >CHLORIDE ION</td>\n",
       "    </tr>\n",
       "  </tbody>\n",
       "</table>\n"
      ],
      "text/plain": [
       "<pandas.io.formats.style.Styler at 0x7efc9c3295b0>"
      ]
     },
     "execution_count": 5,
     "metadata": {},
     "output_type": "execute_result"
    }
   ],
   "source": [
    "msm.info(molecular_system, element='atom', selection='molecule_type==\"ion\"')"
   ]
  },
  {
   "cell_type": "markdown",
   "metadata": {},
   "source": [
    "## With groups\n",
    "\n",
    "Let's see an example of how this function works with groups:"
   ]
  },
  {
   "cell_type": "code",
   "execution_count": 6,
   "metadata": {
    "execution": {
     "iopub.execute_input": "2025-03-11T21:03:32.088409Z",
     "iopub.status.busy": "2025-03-11T21:03:32.087985Z",
     "iopub.status.idle": "2025-03-11T21:03:34.424372Z",
     "shell.execute_reply": "2025-03-11T21:03:34.423621Z"
    }
   },
   "outputs": [
    {
     "data": {
      "text/html": [
       "<style type=\"text/css\">\n",
       "</style>\n",
       "<table id=\"T_9ef21\">\n",
       "  <thead>\n",
       "    <tr>\n",
       "      <th id=\"T_9ef21_level0_col0\" class=\"col_heading level0 col0\" >index</th>\n",
       "      <th id=\"T_9ef21_level0_col1\" class=\"col_heading level0 col1\" >id</th>\n",
       "      <th id=\"T_9ef21_level0_col2\" class=\"col_heading level0 col2\" >name</th>\n",
       "      <th id=\"T_9ef21_level0_col3\" class=\"col_heading level0 col3\" >type</th>\n",
       "      <th id=\"T_9ef21_level0_col4\" class=\"col_heading level0 col4\" >n atoms</th>\n",
       "      <th id=\"T_9ef21_level0_col5\" class=\"col_heading level0 col5\" >component index</th>\n",
       "      <th id=\"T_9ef21_level0_col6\" class=\"col_heading level0 col6\" >chain index</th>\n",
       "      <th id=\"T_9ef21_level0_col7\" class=\"col_heading level0 col7\" >molecule index</th>\n",
       "      <th id=\"T_9ef21_level0_col8\" class=\"col_heading level0 col8\" >molecule type</th>\n",
       "      <th id=\"T_9ef21_level0_col9\" class=\"col_heading level0 col9\" >entity index</th>\n",
       "      <th id=\"T_9ef21_level0_col10\" class=\"col_heading level0 col10\" >entity name</th>\n",
       "    </tr>\n",
       "  </thead>\n",
       "  <tbody>\n",
       "    <tr>\n",
       "      <td id=\"T_9ef21_row0_col0\" class=\"data row0 col0\" >9</td>\n",
       "      <td id=\"T_9ef21_row0_col1\" class=\"data row0 col1\" >10</td>\n",
       "      <td id=\"T_9ef21_row0_col2\" class=\"data row0 col2\" >ASP</td>\n",
       "      <td id=\"T_9ef21_row0_col3\" class=\"data row0 col3\" >amino acid</td>\n",
       "      <td id=\"T_9ef21_row0_col4\" class=\"data row0 col4\" >8</td>\n",
       "      <td id=\"T_9ef21_row0_col5\" class=\"data row0 col5\" >0</td>\n",
       "      <td id=\"T_9ef21_row0_col6\" class=\"data row0 col6\" >0</td>\n",
       "      <td id=\"T_9ef21_row0_col7\" class=\"data row0 col7\" >0</td>\n",
       "      <td id=\"T_9ef21_row0_col8\" class=\"data row0 col8\" >protein</td>\n",
       "      <td id=\"T_9ef21_row0_col9\" class=\"data row0 col9\" >0</td>\n",
       "      <td id=\"T_9ef21_row0_col10\" class=\"data row0 col10\" >T4 LYSOZYME</td>\n",
       "    </tr>\n",
       "    <tr>\n",
       "      <td id=\"T_9ef21_row1_col0\" class=\"data row1 col0\" >10</td>\n",
       "      <td id=\"T_9ef21_row1_col1\" class=\"data row1 col1\" >11</td>\n",
       "      <td id=\"T_9ef21_row1_col2\" class=\"data row1 col2\" >GLU</td>\n",
       "      <td id=\"T_9ef21_row1_col3\" class=\"data row1 col3\" >amino acid</td>\n",
       "      <td id=\"T_9ef21_row1_col4\" class=\"data row1 col4\" >9</td>\n",
       "      <td id=\"T_9ef21_row1_col5\" class=\"data row1 col5\" >0</td>\n",
       "      <td id=\"T_9ef21_row1_col6\" class=\"data row1 col6\" >0</td>\n",
       "      <td id=\"T_9ef21_row1_col7\" class=\"data row1 col7\" >0</td>\n",
       "      <td id=\"T_9ef21_row1_col8\" class=\"data row1 col8\" >protein</td>\n",
       "      <td id=\"T_9ef21_row1_col9\" class=\"data row1 col9\" >0</td>\n",
       "      <td id=\"T_9ef21_row1_col10\" class=\"data row1 col10\" >T4 LYSOZYME</td>\n",
       "    </tr>\n",
       "    <tr>\n",
       "      <td id=\"T_9ef21_row2_col0\" class=\"data row2 col0\" >11</td>\n",
       "      <td id=\"T_9ef21_row2_col1\" class=\"data row2 col1\" >12</td>\n",
       "      <td id=\"T_9ef21_row2_col2\" class=\"data row2 col2\" >GLY</td>\n",
       "      <td id=\"T_9ef21_row2_col3\" class=\"data row2 col3\" >amino acid</td>\n",
       "      <td id=\"T_9ef21_row2_col4\" class=\"data row2 col4\" >4</td>\n",
       "      <td id=\"T_9ef21_row2_col5\" class=\"data row2 col5\" >0</td>\n",
       "      <td id=\"T_9ef21_row2_col6\" class=\"data row2 col6\" >0</td>\n",
       "      <td id=\"T_9ef21_row2_col7\" class=\"data row2 col7\" >0</td>\n",
       "      <td id=\"T_9ef21_row2_col8\" class=\"data row2 col8\" >protein</td>\n",
       "      <td id=\"T_9ef21_row2_col9\" class=\"data row2 col9\" >0</td>\n",
       "      <td id=\"T_9ef21_row2_col10\" class=\"data row2 col10\" >T4 LYSOZYME</td>\n",
       "    </tr>\n",
       "    <tr>\n",
       "      <td id=\"T_9ef21_row3_col0\" class=\"data row3 col0\" >12</td>\n",
       "      <td id=\"T_9ef21_row3_col1\" class=\"data row3 col1\" >13</td>\n",
       "      <td id=\"T_9ef21_row3_col2\" class=\"data row3 col2\" >LEU</td>\n",
       "      <td id=\"T_9ef21_row3_col3\" class=\"data row3 col3\" >amino acid</td>\n",
       "      <td id=\"T_9ef21_row3_col4\" class=\"data row3 col4\" >8</td>\n",
       "      <td id=\"T_9ef21_row3_col5\" class=\"data row3 col5\" >0</td>\n",
       "      <td id=\"T_9ef21_row3_col6\" class=\"data row3 col6\" >0</td>\n",
       "      <td id=\"T_9ef21_row3_col7\" class=\"data row3 col7\" >0</td>\n",
       "      <td id=\"T_9ef21_row3_col8\" class=\"data row3 col8\" >protein</td>\n",
       "      <td id=\"T_9ef21_row3_col9\" class=\"data row3 col9\" >0</td>\n",
       "      <td id=\"T_9ef21_row3_col10\" class=\"data row3 col10\" >T4 LYSOZYME</td>\n",
       "    </tr>\n",
       "  </tbody>\n",
       "</table>\n"
      ],
      "text/plain": [
       "<pandas.io.formats.style.Styler at 0x7efc9c3b2450>"
      ]
     },
     "execution_count": 6,
     "metadata": {},
     "output_type": "execute_result"
    }
   ],
   "source": [
    "msm.info(molecular_system, element='group', selection=[9,10,11,12])"
   ]
  },
  {
   "cell_type": "markdown",
   "metadata": {},
   "source": [
    "## With components\n",
    "\n",
    "Let's see an example of how this function works with components:"
   ]
  },
  {
   "cell_type": "code",
   "execution_count": 7,
   "metadata": {
    "execution": {
     "iopub.execute_input": "2025-03-11T21:03:34.427604Z",
     "iopub.status.busy": "2025-03-11T21:03:34.427071Z",
     "iopub.status.idle": "2025-03-11T21:03:35.925523Z",
     "shell.execute_reply": "2025-03-11T21:03:35.924570Z"
    }
   },
   "outputs": [
    {
     "data": {
      "text/html": [
       "<style type=\"text/css\">\n",
       "</style>\n",
       "<table id=\"T_92292\">\n",
       "  <thead>\n",
       "    <tr>\n",
       "      <th id=\"T_92292_level0_col0\" class=\"col_heading level0 col0\" >index</th>\n",
       "      <th id=\"T_92292_level0_col1\" class=\"col_heading level0 col1\" >n atoms</th>\n",
       "      <th id=\"T_92292_level0_col2\" class=\"col_heading level0 col2\" >n groups</th>\n",
       "      <th id=\"T_92292_level0_col3\" class=\"col_heading level0 col3\" >chain index</th>\n",
       "      <th id=\"T_92292_level0_col4\" class=\"col_heading level0 col4\" >molecule index</th>\n",
       "      <th id=\"T_92292_level0_col5\" class=\"col_heading level0 col5\" >molecule type</th>\n",
       "      <th id=\"T_92292_level0_col6\" class=\"col_heading level0 col6\" >entity index</th>\n",
       "      <th id=\"T_92292_level0_col7\" class=\"col_heading level0 col7\" >entity name</th>\n",
       "    </tr>\n",
       "  </thead>\n",
       "  <tbody>\n",
       "    <tr>\n",
       "      <td id=\"T_92292_row0_col0\" class=\"data row0 col0\" >3</td>\n",
       "      <td id=\"T_92292_row0_col1\" class=\"data row0 col1\" >8</td>\n",
       "      <td id=\"T_92292_row0_col2\" class=\"data row0 col2\" >1</td>\n",
       "      <td id=\"T_92292_row0_col3\" class=\"data row0 col3\" >3</td>\n",
       "      <td id=\"T_92292_row0_col4\" class=\"data row0 col4\" >3</td>\n",
       "      <td id=\"T_92292_row0_col5\" class=\"data row0 col5\" >small molecule</td>\n",
       "      <td id=\"T_92292_row0_col6\" class=\"data row0 col6\" >2</td>\n",
       "      <td id=\"T_92292_row0_col7\" class=\"data row0 col7\" >2-HYDROXYETHYL DISULFIDE</td>\n",
       "    </tr>\n",
       "    <tr>\n",
       "      <td id=\"T_92292_row1_col0\" class=\"data row1 col0\" >4</td>\n",
       "      <td id=\"T_92292_row1_col1\" class=\"data row1 col1\" >6</td>\n",
       "      <td id=\"T_92292_row1_col2\" class=\"data row1 col2\" >1</td>\n",
       "      <td id=\"T_92292_row1_col3\" class=\"data row1 col3\" >4</td>\n",
       "      <td id=\"T_92292_row1_col4\" class=\"data row1 col4\" >4</td>\n",
       "      <td id=\"T_92292_row1_col5\" class=\"data row1 col5\" >small molecule</td>\n",
       "      <td id=\"T_92292_row1_col6\" class=\"data row1 col6\" >3</td>\n",
       "      <td id=\"T_92292_row1_col7\" class=\"data row1 col7\" >BENZENE</td>\n",
       "    </tr>\n",
       "  </tbody>\n",
       "</table>\n"
      ],
      "text/plain": [
       "<pandas.io.formats.style.Styler at 0x7efc9c2f5490>"
      ]
     },
     "execution_count": 7,
     "metadata": {},
     "output_type": "execute_result"
    }
   ],
   "source": [
    "msm.info(molecular_system, element='component', selection='molecule_type==\"small molecule\"')"
   ]
  },
  {
   "cell_type": "markdown",
   "metadata": {},
   "source": [
    "## With molecules\n",
    "\n",
    "Let's see an example of how this function works with molecules:"
   ]
  },
  {
   "cell_type": "code",
   "execution_count": 8,
   "metadata": {
    "execution": {
     "iopub.execute_input": "2025-03-11T21:03:35.929021Z",
     "iopub.status.busy": "2025-03-11T21:03:35.928343Z",
     "iopub.status.idle": "2025-03-11T21:03:40.156938Z",
     "shell.execute_reply": "2025-03-11T21:03:40.156156Z"
    }
   },
   "outputs": [
    {
     "data": {
      "text/html": [
       "<style type=\"text/css\">\n",
       "</style>\n",
       "<table id=\"T_f310c\">\n",
       "  <thead>\n",
       "    <tr>\n",
       "      <th id=\"T_f310c_level0_col0\" class=\"col_heading level0 col0\" >index</th>\n",
       "      <th id=\"T_f310c_level0_col1\" class=\"col_heading level0 col1\" >name</th>\n",
       "      <th id=\"T_f310c_level0_col2\" class=\"col_heading level0 col2\" >type</th>\n",
       "      <th id=\"T_f310c_level0_col3\" class=\"col_heading level0 col3\" >n atoms</th>\n",
       "      <th id=\"T_f310c_level0_col4\" class=\"col_heading level0 col4\" >n groups</th>\n",
       "      <th id=\"T_f310c_level0_col5\" class=\"col_heading level0 col5\" >n components</th>\n",
       "      <th id=\"T_f310c_level0_col6\" class=\"col_heading level0 col6\" >chain index</th>\n",
       "      <th id=\"T_f310c_level0_col7\" class=\"col_heading level0 col7\" >entity index</th>\n",
       "      <th id=\"T_f310c_level0_col8\" class=\"col_heading level0 col8\" >entity name</th>\n",
       "    </tr>\n",
       "  </thead>\n",
       "  <tbody>\n",
       "    <tr>\n",
       "      <td id=\"T_f310c_row0_col0\" class=\"data row0 col0\" >1</td>\n",
       "      <td id=\"T_f310c_row0_col1\" class=\"data row0 col1\" >CHLORIDE ION</td>\n",
       "      <td id=\"T_f310c_row0_col2\" class=\"data row0 col2\" >ion</td>\n",
       "      <td id=\"T_f310c_row0_col3\" class=\"data row0 col3\" >1</td>\n",
       "      <td id=\"T_f310c_row0_col4\" class=\"data row0 col4\" >1</td>\n",
       "      <td id=\"T_f310c_row0_col5\" class=\"data row0 col5\" >1</td>\n",
       "      <td id=\"T_f310c_row0_col6\" class=\"data row0 col6\" >1</td>\n",
       "      <td id=\"T_f310c_row0_col7\" class=\"data row0 col7\" >1</td>\n",
       "      <td id=\"T_f310c_row0_col8\" class=\"data row0 col8\" >CHLORIDE ION</td>\n",
       "    </tr>\n",
       "    <tr>\n",
       "      <td id=\"T_f310c_row1_col0\" class=\"data row1 col0\" >2</td>\n",
       "      <td id=\"T_f310c_row1_col1\" class=\"data row1 col1\" >CHLORIDE ION</td>\n",
       "      <td id=\"T_f310c_row1_col2\" class=\"data row1 col2\" >ion</td>\n",
       "      <td id=\"T_f310c_row1_col3\" class=\"data row1 col3\" >1</td>\n",
       "      <td id=\"T_f310c_row1_col4\" class=\"data row1 col4\" >1</td>\n",
       "      <td id=\"T_f310c_row1_col5\" class=\"data row1 col5\" >1</td>\n",
       "      <td id=\"T_f310c_row1_col6\" class=\"data row1 col6\" >2</td>\n",
       "      <td id=\"T_f310c_row1_col7\" class=\"data row1 col7\" >1</td>\n",
       "      <td id=\"T_f310c_row1_col8\" class=\"data row1 col8\" >CHLORIDE ION</td>\n",
       "    </tr>\n",
       "    <tr>\n",
       "      <td id=\"T_f310c_row2_col0\" class=\"data row2 col0\" >3</td>\n",
       "      <td id=\"T_f310c_row2_col1\" class=\"data row2 col1\" >2-HYDROXYETHYL DISULFIDE</td>\n",
       "      <td id=\"T_f310c_row2_col2\" class=\"data row2 col2\" >small molecule</td>\n",
       "      <td id=\"T_f310c_row2_col3\" class=\"data row2 col3\" >8</td>\n",
       "      <td id=\"T_f310c_row2_col4\" class=\"data row2 col4\" >1</td>\n",
       "      <td id=\"T_f310c_row2_col5\" class=\"data row2 col5\" >1</td>\n",
       "      <td id=\"T_f310c_row2_col6\" class=\"data row2 col6\" >3</td>\n",
       "      <td id=\"T_f310c_row2_col7\" class=\"data row2 col7\" >2</td>\n",
       "      <td id=\"T_f310c_row2_col8\" class=\"data row2 col8\" >2-HYDROXYETHYL DISULFIDE</td>\n",
       "    </tr>\n",
       "    <tr>\n",
       "      <td id=\"T_f310c_row3_col0\" class=\"data row3 col0\" >4</td>\n",
       "      <td id=\"T_f310c_row3_col1\" class=\"data row3 col1\" >BENZENE</td>\n",
       "      <td id=\"T_f310c_row3_col2\" class=\"data row3 col2\" >small molecule</td>\n",
       "      <td id=\"T_f310c_row3_col3\" class=\"data row3 col3\" >6</td>\n",
       "      <td id=\"T_f310c_row3_col4\" class=\"data row3 col4\" >1</td>\n",
       "      <td id=\"T_f310c_row3_col5\" class=\"data row3 col5\" >1</td>\n",
       "      <td id=\"T_f310c_row3_col6\" class=\"data row3 col6\" >4</td>\n",
       "      <td id=\"T_f310c_row3_col7\" class=\"data row3 col7\" >3</td>\n",
       "      <td id=\"T_f310c_row3_col8\" class=\"data row3 col8\" >BENZENE</td>\n",
       "    </tr>\n",
       "  </tbody>\n",
       "</table>\n"
      ],
      "text/plain": [
       "<pandas.io.formats.style.Styler at 0x7efc9c2f79e0>"
      ]
     },
     "execution_count": 8,
     "metadata": {},
     "output_type": "execute_result"
    }
   ],
   "source": [
    "msm.info(molecular_system, element='molecule',\n",
    "         selection='molecule_type!=[\"water\", \"protein\"] within 4.0 angstroms of molecule_type==\"protein\"')"
   ]
  },
  {
   "cell_type": "markdown",
   "metadata": {},
   "source": [
    "## With chains\n",
    "\n",
    "Let's see an example of how this function works with chains:"
   ]
  },
  {
   "cell_type": "code",
   "execution_count": 9,
   "metadata": {
    "execution": {
     "iopub.execute_input": "2025-03-11T21:03:40.161769Z",
     "iopub.status.busy": "2025-03-11T21:03:40.161053Z",
     "iopub.status.idle": "2025-03-11T21:03:42.332743Z",
     "shell.execute_reply": "2025-03-11T21:03:42.331929Z"
    }
   },
   "outputs": [
    {
     "data": {
      "text/html": [
       "<style type=\"text/css\">\n",
       "</style>\n",
       "<table id=\"T_d644c\">\n",
       "  <thead>\n",
       "    <tr>\n",
       "      <th id=\"T_d644c_level0_col0\" class=\"col_heading level0 col0\" >index</th>\n",
       "      <th id=\"T_d644c_level0_col1\" class=\"col_heading level0 col1\" >id</th>\n",
       "      <th id=\"T_d644c_level0_col2\" class=\"col_heading level0 col2\" >name</th>\n",
       "      <th id=\"T_d644c_level0_col3\" class=\"col_heading level0 col3\" >n atoms</th>\n",
       "      <th id=\"T_d644c_level0_col4\" class=\"col_heading level0 col4\" >n groups</th>\n",
       "      <th id=\"T_d644c_level0_col5\" class=\"col_heading level0 col5\" >n components</th>\n",
       "      <th id=\"T_d644c_level0_col6\" class=\"col_heading level0 col6\" >molecule index</th>\n",
       "      <th id=\"T_d644c_level0_col7\" class=\"col_heading level0 col7\" >molecule type</th>\n",
       "      <th id=\"T_d644c_level0_col8\" class=\"col_heading level0 col8\" >entity index</th>\n",
       "      <th id=\"T_d644c_level0_col9\" class=\"col_heading level0 col9\" >entity name</th>\n",
       "    </tr>\n",
       "  </thead>\n",
       "  <tbody>\n",
       "    <tr>\n",
       "      <td id=\"T_d644c_row0_col0\" class=\"data row0 col0\" >5</td>\n",
       "      <td id=\"T_d644c_row0_col1\" class=\"data row0 col1\" >5</td>\n",
       "      <td id=\"T_d644c_row0_col2\" class=\"data row0 col2\" >A</td>\n",
       "      <td id=\"T_d644c_row0_col3\" class=\"data row0 col3\" >136</td>\n",
       "      <td id=\"T_d644c_row0_col4\" class=\"data row0 col4\" >136</td>\n",
       "      <td id=\"T_d644c_row0_col5\" class=\"data row0 col5\" >136</td>\n",
       "      <td id=\"T_d644c_row0_col6\" class=\"data row0 col6\" >[5, 6, 7, 8, 9, 10, 11, 12, 13, 14, 15, 16, 17, 18, 19, 20, 21, 22, 23, 24, 25, 26, 27, 28, 29, 30, 31, 32, 33, 34, 35, 36, 37, 38, 39, 40, 41, 42, 43, 44, 45, 46, 47, 48, 49, 50, 51, 52, 53, 54, 55, 56, 57, 58, 59, 60, 61, 62, 63, 64, 65, 66, 67, 68, 69, 70, 71, 72, 73, 74, 75, 76, 77, 78, 79, 80, 81, 82, 83, 84, 85, 86, 87, 88, 89, 90, 91, 92, 93, 94, 95, 96, 97, 98, 99, 100, 101, 102, 103, 104, 105, 106, 107, 108, 109, 110, 111, 112, 113, 114, 115, 116, 117, 118, 119, 120, 121, 122, 123, 124, 125, 126, 127, 128, 129, 130, 131, 132, 133, 134, 135, 136, 137, 138, 139, 140]</td>\n",
       "      <td id=\"T_d644c_row0_col7\" class=\"data row0 col7\" >['water', 'water', 'water', 'water', 'water', 'water', 'water', 'water', 'water', 'water', 'water', 'water', 'water', 'water', 'water', 'water', 'water', 'water', 'water', 'water', 'water', 'water', 'water', 'water', 'water', 'water', 'water', 'water', 'water', 'water', 'water', 'water', 'water', 'water', 'water', 'water', 'water', 'water', 'water', 'water', 'water', 'water', 'water', 'water', 'water', 'water', 'water', 'water', 'water', 'water', 'water', 'water', 'water', 'water', 'water', 'water', 'water', 'water', 'water', 'water', 'water', 'water', 'water', 'water', 'water', 'water', 'water', 'water', 'water', 'water', 'water', 'water', 'water', 'water', 'water', 'water', 'water', 'water', 'water', 'water', 'water', 'water', 'water', 'water', 'water', 'water', 'water', 'water', 'water', 'water', 'water', 'water', 'water', 'water', 'water', 'water', 'water', 'water', 'water', 'water', 'water', 'water', 'water', 'water', 'water', 'water', 'water', 'water', 'water', 'water', 'water', 'water', 'water', 'water', 'water', 'water', 'water', 'water', 'water', 'water', 'water', 'water', 'water', 'water', 'water', 'water', 'water', 'water', 'water', 'water', 'water', 'water', 'water', 'water', 'water', 'water']</td>\n",
       "      <td id=\"T_d644c_row0_col8\" class=\"data row0 col8\" >4</td>\n",
       "      <td id=\"T_d644c_row0_col9\" class=\"data row0 col9\" >water</td>\n",
       "    </tr>\n",
       "  </tbody>\n",
       "</table>\n"
      ],
      "text/plain": [
       "<pandas.io.formats.style.Styler at 0x7efc9da68680>"
      ]
     },
     "execution_count": 9,
     "metadata": {},
     "output_type": "execute_result"
    }
   ],
   "source": [
    "msm.info(molecular_system, element='chain', selection='molecule_type==\"water\"')"
   ]
  },
  {
   "cell_type": "markdown",
   "metadata": {},
   "source": [
    "## With entities\n",
    "\n",
    "Let's see an example of how this function works with chains:"
   ]
  },
  {
   "cell_type": "code",
   "execution_count": 10,
   "metadata": {
    "execution": {
     "iopub.execute_input": "2025-03-11T21:03:42.336507Z",
     "iopub.status.busy": "2025-03-11T21:03:42.335899Z",
     "iopub.status.idle": "2025-03-11T21:03:43.970243Z",
     "shell.execute_reply": "2025-03-11T21:03:43.969381Z"
    }
   },
   "outputs": [
    {
     "data": {
      "text/html": [
       "<style type=\"text/css\">\n",
       "</style>\n",
       "<table id=\"T_ce639\">\n",
       "  <thead>\n",
       "    <tr>\n",
       "      <th id=\"T_ce639_level0_col0\" class=\"col_heading level0 col0\" >index</th>\n",
       "      <th id=\"T_ce639_level0_col1\" class=\"col_heading level0 col1\" >name</th>\n",
       "      <th id=\"T_ce639_level0_col2\" class=\"col_heading level0 col2\" >type</th>\n",
       "      <th id=\"T_ce639_level0_col3\" class=\"col_heading level0 col3\" >n atoms</th>\n",
       "      <th id=\"T_ce639_level0_col4\" class=\"col_heading level0 col4\" >n groups</th>\n",
       "      <th id=\"T_ce639_level0_col5\" class=\"col_heading level0 col5\" >n components</th>\n",
       "      <th id=\"T_ce639_level0_col6\" class=\"col_heading level0 col6\" >n chains</th>\n",
       "      <th id=\"T_ce639_level0_col7\" class=\"col_heading level0 col7\" >n molecules</th>\n",
       "    </tr>\n",
       "  </thead>\n",
       "  <tbody>\n",
       "    <tr>\n",
       "      <td id=\"T_ce639_row0_col0\" class=\"data row0 col0\" >0</td>\n",
       "      <td id=\"T_ce639_row0_col1\" class=\"data row0 col1\" >T4 LYSOZYME</td>\n",
       "      <td id=\"T_ce639_row0_col2\" class=\"data row0 col2\" >protein</td>\n",
       "      <td id=\"T_ce639_row0_col3\" class=\"data row0 col3\" >1289</td>\n",
       "      <td id=\"T_ce639_row0_col4\" class=\"data row0 col4\" >162</td>\n",
       "      <td id=\"T_ce639_row0_col5\" class=\"data row0 col5\" >1</td>\n",
       "      <td id=\"T_ce639_row0_col6\" class=\"data row0 col6\" >1</td>\n",
       "      <td id=\"T_ce639_row0_col7\" class=\"data row0 col7\" >1</td>\n",
       "    </tr>\n",
       "    <tr>\n",
       "      <td id=\"T_ce639_row1_col0\" class=\"data row1 col0\" >1</td>\n",
       "      <td id=\"T_ce639_row1_col1\" class=\"data row1 col1\" >CHLORIDE ION</td>\n",
       "      <td id=\"T_ce639_row1_col2\" class=\"data row1 col2\" >ion</td>\n",
       "      <td id=\"T_ce639_row1_col3\" class=\"data row1 col3\" >2</td>\n",
       "      <td id=\"T_ce639_row1_col4\" class=\"data row1 col4\" >2</td>\n",
       "      <td id=\"T_ce639_row1_col5\" class=\"data row1 col5\" >2</td>\n",
       "      <td id=\"T_ce639_row1_col6\" class=\"data row1 col6\" >2</td>\n",
       "      <td id=\"T_ce639_row1_col7\" class=\"data row1 col7\" >2</td>\n",
       "    </tr>\n",
       "    <tr>\n",
       "      <td id=\"T_ce639_row2_col0\" class=\"data row2 col0\" >2</td>\n",
       "      <td id=\"T_ce639_row2_col1\" class=\"data row2 col1\" >2-HYDROXYETHYL DISULFIDE</td>\n",
       "      <td id=\"T_ce639_row2_col2\" class=\"data row2 col2\" >small molecule</td>\n",
       "      <td id=\"T_ce639_row2_col3\" class=\"data row2 col3\" >8</td>\n",
       "      <td id=\"T_ce639_row2_col4\" class=\"data row2 col4\" >1</td>\n",
       "      <td id=\"T_ce639_row2_col5\" class=\"data row2 col5\" >1</td>\n",
       "      <td id=\"T_ce639_row2_col6\" class=\"data row2 col6\" >1</td>\n",
       "      <td id=\"T_ce639_row2_col7\" class=\"data row2 col7\" >1</td>\n",
       "    </tr>\n",
       "    <tr>\n",
       "      <td id=\"T_ce639_row3_col0\" class=\"data row3 col0\" >3</td>\n",
       "      <td id=\"T_ce639_row3_col1\" class=\"data row3 col1\" >BENZENE</td>\n",
       "      <td id=\"T_ce639_row3_col2\" class=\"data row3 col2\" >small molecule</td>\n",
       "      <td id=\"T_ce639_row3_col3\" class=\"data row3 col3\" >6</td>\n",
       "      <td id=\"T_ce639_row3_col4\" class=\"data row3 col4\" >1</td>\n",
       "      <td id=\"T_ce639_row3_col5\" class=\"data row3 col5\" >1</td>\n",
       "      <td id=\"T_ce639_row3_col6\" class=\"data row3 col6\" >1</td>\n",
       "      <td id=\"T_ce639_row3_col7\" class=\"data row3 col7\" >1</td>\n",
       "    </tr>\n",
       "    <tr>\n",
       "      <td id=\"T_ce639_row4_col0\" class=\"data row4 col0\" >4</td>\n",
       "      <td id=\"T_ce639_row4_col1\" class=\"data row4 col1\" >water</td>\n",
       "      <td id=\"T_ce639_row4_col2\" class=\"data row4 col2\" >water</td>\n",
       "      <td id=\"T_ce639_row4_col3\" class=\"data row4 col3\" >136</td>\n",
       "      <td id=\"T_ce639_row4_col4\" class=\"data row4 col4\" >136</td>\n",
       "      <td id=\"T_ce639_row4_col5\" class=\"data row4 col5\" >136</td>\n",
       "      <td id=\"T_ce639_row4_col6\" class=\"data row4 col6\" >1</td>\n",
       "      <td id=\"T_ce639_row4_col7\" class=\"data row4 col7\" >136</td>\n",
       "    </tr>\n",
       "  </tbody>\n",
       "</table>\n"
      ],
      "text/plain": [
       "<pandas.io.formats.style.Styler at 0x7efc9c3d4380>"
      ]
     },
     "execution_count": 10,
     "metadata": {},
     "output_type": "execute_result"
    }
   ],
   "source": [
    "msm.info(molecular_system, element='entity')"
   ]
  },
  {
   "cell_type": "markdown",
   "metadata": {},
   "source": [
    "## With system\n",
    "\n",
    "Let's see an example of how this function works with the system (default option):"
   ]
  },
  {
   "cell_type": "code",
   "execution_count": 11,
   "metadata": {
    "execution": {
     "iopub.execute_input": "2025-03-11T21:03:43.973872Z",
     "iopub.status.busy": "2025-03-11T21:03:43.973143Z",
     "iopub.status.idle": "2025-03-11T21:03:46.820201Z",
     "shell.execute_reply": "2025-03-11T21:03:46.819265Z"
    }
   },
   "outputs": [
    {
     "data": {
      "text/html": [
       "<style type=\"text/css\">\n",
       "</style>\n",
       "<table id=\"T_fcd23\">\n",
       "  <thead>\n",
       "    <tr>\n",
       "      <th id=\"T_fcd23_level0_col0\" class=\"col_heading level0 col0\" >form</th>\n",
       "      <th id=\"T_fcd23_level0_col1\" class=\"col_heading level0 col1\" >n_atoms</th>\n",
       "      <th id=\"T_fcd23_level0_col2\" class=\"col_heading level0 col2\" >n_groups</th>\n",
       "      <th id=\"T_fcd23_level0_col3\" class=\"col_heading level0 col3\" >n_components</th>\n",
       "      <th id=\"T_fcd23_level0_col4\" class=\"col_heading level0 col4\" >n_chains</th>\n",
       "      <th id=\"T_fcd23_level0_col5\" class=\"col_heading level0 col5\" >n_molecules</th>\n",
       "      <th id=\"T_fcd23_level0_col6\" class=\"col_heading level0 col6\" >n_entities</th>\n",
       "      <th id=\"T_fcd23_level0_col7\" class=\"col_heading level0 col7\" >n_waters</th>\n",
       "      <th id=\"T_fcd23_level0_col8\" class=\"col_heading level0 col8\" >n_ions</th>\n",
       "      <th id=\"T_fcd23_level0_col9\" class=\"col_heading level0 col9\" >n_small_molecules</th>\n",
       "      <th id=\"T_fcd23_level0_col10\" class=\"col_heading level0 col10\" >n_proteins</th>\n",
       "      <th id=\"T_fcd23_level0_col11\" class=\"col_heading level0 col11\" >n_structures</th>\n",
       "    </tr>\n",
       "  </thead>\n",
       "  <tbody>\n",
       "    <tr>\n",
       "      <td id=\"T_fcd23_row0_col0\" class=\"data row0 col0\" >molsysmt.MolSys</td>\n",
       "      <td id=\"T_fcd23_row0_col1\" class=\"data row0 col1\" >1441</td>\n",
       "      <td id=\"T_fcd23_row0_col2\" class=\"data row0 col2\" >302</td>\n",
       "      <td id=\"T_fcd23_row0_col3\" class=\"data row0 col3\" >141</td>\n",
       "      <td id=\"T_fcd23_row0_col4\" class=\"data row0 col4\" >6</td>\n",
       "      <td id=\"T_fcd23_row0_col5\" class=\"data row0 col5\" >141</td>\n",
       "      <td id=\"T_fcd23_row0_col6\" class=\"data row0 col6\" >5</td>\n",
       "      <td id=\"T_fcd23_row0_col7\" class=\"data row0 col7\" >136</td>\n",
       "      <td id=\"T_fcd23_row0_col8\" class=\"data row0 col8\" >2</td>\n",
       "      <td id=\"T_fcd23_row0_col9\" class=\"data row0 col9\" >2</td>\n",
       "      <td id=\"T_fcd23_row0_col10\" class=\"data row0 col10\" >1</td>\n",
       "      <td id=\"T_fcd23_row0_col11\" class=\"data row0 col11\" >1</td>\n",
       "    </tr>\n",
       "  </tbody>\n",
       "</table>\n"
      ],
      "text/plain": [
       "<pandas.io.formats.style.Styler at 0x7efc9c3d7020>"
      ]
     },
     "execution_count": 11,
     "metadata": {},
     "output_type": "execute_result"
    }
   ],
   "source": [
    "msm.info(molecular_system)"
   ]
  },
  {
   "cell_type": "markdown",
   "metadata": {},
   "source": [
    ":::{seealso}\n",
    "[User guide > Introduction > Molecular System > Elements](../../intro/molecular_systems/elements.ipynb):    \n",
    "[User guide > Tools > Basic > Convert](convert.ipynb):    \n",
    "[User guide > Tools > Basic > Get label](get_label.ipynb):    \n",
    ":::"
   ]
  }
 ],
 "metadata": {
  "kernelspec": {
   "display_name": "Python 3 (ipykernel)",
   "language": "python",
   "name": "python3"
  },
  "language_info": {
   "codemirror_mode": {
    "name": "ipython",
    "version": 3
   },
   "file_extension": ".py",
   "mimetype": "text/x-python",
   "name": "python",
   "nbconvert_exporter": "python",
   "pygments_lexer": "ipython3",
   "version": "3.12.8"
  },
  "widgets": {
   "application/vnd.jupyter.widget-state+json": {
    "state": {
     "48a6288ad47e4aa390e70ca1332a0750": {
      "model_module": "@jupyter-widgets/base",
      "model_module_version": "2.0.0",
      "model_name": "LayoutModel",
      "state": {
       "_model_module": "@jupyter-widgets/base",
       "_model_module_version": "2.0.0",
       "_model_name": "LayoutModel",
       "_view_count": null,
       "_view_module": "@jupyter-widgets/base",
       "_view_module_version": "2.0.0",
       "_view_name": "LayoutView",
       "align_content": null,
       "align_items": null,
       "align_self": null,
       "border_bottom": null,
       "border_left": null,
       "border_right": null,
       "border_top": null,
       "bottom": null,
       "display": null,
       "flex": null,
       "flex_flow": null,
       "grid_area": null,
       "grid_auto_columns": null,
       "grid_auto_flow": null,
       "grid_auto_rows": null,
       "grid_column": null,
       "grid_gap": null,
       "grid_row": null,
       "grid_template_areas": null,
       "grid_template_columns": null,
       "grid_template_rows": null,
       "height": null,
       "justify_content": null,
       "justify_items": null,
       "left": null,
       "margin": null,
       "max_height": null,
       "max_width": null,
       "min_height": null,
       "min_width": null,
       "object_fit": null,
       "object_position": null,
       "order": null,
       "overflow": null,
       "padding": null,
       "right": null,
       "top": null,
       "visibility": null,
       "width": null
      }
     },
     "c197db15c4a945308d20ad645f2d5cdc": {
      "model_module": "nglview-js-widgets",
      "model_module_version": "3.1.4",
      "model_name": "ColormakerRegistryModel",
      "state": {
       "_dom_classes": [],
       "_model_module": "nglview-js-widgets",
       "_model_module_version": "3.1.4",
       "_model_name": "ColormakerRegistryModel",
       "_msg_ar": [],
       "_msg_q": [],
       "_ready": false,
       "_view_count": null,
       "_view_module": "nglview-js-widgets",
       "_view_module_version": "3.1.4",
       "_view_name": "ColormakerRegistryView",
       "layout": "IPY_MODEL_48a6288ad47e4aa390e70ca1332a0750",
       "tabbable": null,
       "tooltip": null
      }
     }
    },
    "version_major": 2,
    "version_minor": 0
   }
  }
 },
 "nbformat": 4,
 "nbformat_minor": 4
}
