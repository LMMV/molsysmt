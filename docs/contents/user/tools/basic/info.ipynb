{
 "cells": [
  {
   "cell_type": "code",
   "execution_count": 1,
   "metadata": {
    "tags": [
     "remove-input"
    ]
   },
   "outputs": [],
   "source": [
    "# This cell is removed with the tag: \"remove-input\"\n",
    "# As such, it will not be shown in documentation\n",
    "\n",
    "#import warnings\n",
    "#warnings.filterwarnings('ignore')"
   ]
  },
  {
   "cell_type": "markdown",
   "metadata": {},
   "source": [
    "(Tutorial_Info)=\n",
    "# Info\n",
    "\n",
    "*Displaying summary information about a molecular system and its elements*\n",
    "\n",
    "MolSysMT provides a function to display a concise summary of a molecular system and its elements: {func}`molsysmt.basic.info`. This function works at different levels depending on the selected element type — `atom`, `group`, `component`, `molecule`, `chain`, `entity`, or `system`. The output is a `pandas.DataFrame`.\n",
    "\n",
    "## How this function works\n",
    "\n",
    ":::{admonition} API documentation\n",
    "Follow this link for a detailed description of the input arguments, raised errors, and returned objects of this function:{func}`molsysmt.basic.info`.\n",
    ":::\n",
    "\n",
    "Let’s load a molecular system and explore a few examples of how this function works:"
   ]
  },
  {
   "cell_type": "code",
   "execution_count": 2,
   "metadata": {},
   "outputs": [
    {
     "data": {
      "application/vnd.jupyter.widget-view+json": {
       "model_id": "3e21761c934843d8a1f2a1f746864b79",
       "version_major": 2,
       "version_minor": 0
      },
      "text/plain": []
     },
     "metadata": {},
     "output_type": "display_data"
    }
   ],
   "source": [
    "import molsysmt as msm"
   ]
  },
  {
   "cell_type": "code",
   "execution_count": 3,
   "metadata": {
    "editable": true,
    "slideshow": {
     "slide_type": ""
    },
    "tags": []
   },
   "outputs": [],
   "source": [
    "molsys = msm.convert('181L')"
   ]
  },
  {
   "cell_type": "markdown",
   "metadata": {},
   "source": [
    "By default, {func}`molsysmt.basic.info` supplies a summary of the system as a Pandas dataframe:"
   ]
  },
  {
   "cell_type": "code",
   "execution_count": 4,
   "metadata": {
    "tags": [
     "scroll-output"
    ]
   },
   "outputs": [
    {
     "data": {
      "text/html": [
       "<style type=\"text/css\">\n",
       "</style>\n",
       "<table id=\"T_0ad57\">\n",
       "  <thead>\n",
       "    <tr>\n",
       "      <th id=\"T_0ad57_level0_col0\" class=\"col_heading level0 col0\" >form</th>\n",
       "      <th id=\"T_0ad57_level0_col1\" class=\"col_heading level0 col1\" >n_atoms</th>\n",
       "      <th id=\"T_0ad57_level0_col2\" class=\"col_heading level0 col2\" >n_groups</th>\n",
       "      <th id=\"T_0ad57_level0_col3\" class=\"col_heading level0 col3\" >n_components</th>\n",
       "      <th id=\"T_0ad57_level0_col4\" class=\"col_heading level0 col4\" >n_chains</th>\n",
       "      <th id=\"T_0ad57_level0_col5\" class=\"col_heading level0 col5\" >n_molecules</th>\n",
       "      <th id=\"T_0ad57_level0_col6\" class=\"col_heading level0 col6\" >n_entities</th>\n",
       "      <th id=\"T_0ad57_level0_col7\" class=\"col_heading level0 col7\" >n_waters</th>\n",
       "      <th id=\"T_0ad57_level0_col8\" class=\"col_heading level0 col8\" >n_ions</th>\n",
       "      <th id=\"T_0ad57_level0_col9\" class=\"col_heading level0 col9\" >n_small_molecules</th>\n",
       "      <th id=\"T_0ad57_level0_col10\" class=\"col_heading level0 col10\" >n_proteins</th>\n",
       "      <th id=\"T_0ad57_level0_col11\" class=\"col_heading level0 col11\" >n_structures</th>\n",
       "    </tr>\n",
       "  </thead>\n",
       "  <tbody>\n",
       "    <tr>\n",
       "      <td id=\"T_0ad57_row0_col0\" class=\"data row0 col0\" >molsysmt.MolSys</td>\n",
       "      <td id=\"T_0ad57_row0_col1\" class=\"data row0 col1\" >1441</td>\n",
       "      <td id=\"T_0ad57_row0_col2\" class=\"data row0 col2\" >302</td>\n",
       "      <td id=\"T_0ad57_row0_col3\" class=\"data row0 col3\" >141</td>\n",
       "      <td id=\"T_0ad57_row0_col4\" class=\"data row0 col4\" >6</td>\n",
       "      <td id=\"T_0ad57_row0_col5\" class=\"data row0 col5\" >141</td>\n",
       "      <td id=\"T_0ad57_row0_col6\" class=\"data row0 col6\" >5</td>\n",
       "      <td id=\"T_0ad57_row0_col7\" class=\"data row0 col7\" >136</td>\n",
       "      <td id=\"T_0ad57_row0_col8\" class=\"data row0 col8\" >2</td>\n",
       "      <td id=\"T_0ad57_row0_col9\" class=\"data row0 col9\" >2</td>\n",
       "      <td id=\"T_0ad57_row0_col10\" class=\"data row0 col10\" >1</td>\n",
       "      <td id=\"T_0ad57_row0_col11\" class=\"data row0 col11\" >1</td>\n",
       "    </tr>\n",
       "  </tbody>\n",
       "</table>\n"
      ],
      "text/plain": [
       "<pandas.io.formats.style.Styler at 0x7fc0023cb620>"
      ]
     },
     "execution_count": 4,
     "metadata": {},
     "output_type": "execute_result"
    }
   ],
   "source": [
    "msm.info(molsys)"
   ]
  },
  {
   "cell_type": "markdown",
   "metadata": {},
   "source": [
    "```{admonition} Tip\n",
    ":class: tip\n",
    "All methods defined in the {ref}`molsysmt.basic <API basic>` module can be invoked also from the main level of the library. Hence, {func}`molsysmt.info` is the same method as {func}`molsysmt.basic.info`.\n",
    "```"
   ]
  },
  {
   "cell_type": "markdown",
   "metadata": {},
   "source": [
    "But summary information on other elements such as atoms, groups, components, molecules, chains or entities can be obtained."
   ]
  },
  {
   "cell_type": "markdown",
   "metadata": {},
   "source": [
    "## With atoms\n",
    "\n",
    "Example of how the function works at the `atom` level:"
   ]
  },
  {
   "cell_type": "code",
   "execution_count": 5,
   "metadata": {
    "scrolled": true
   },
   "outputs": [
    {
     "data": {
      "text/html": [
       "<style type=\"text/css\">\n",
       "</style>\n",
       "<table id=\"T_ea710\">\n",
       "  <thead>\n",
       "    <tr>\n",
       "      <th id=\"T_ea710_level0_col0\" class=\"col_heading level0 col0\" >index</th>\n",
       "      <th id=\"T_ea710_level0_col1\" class=\"col_heading level0 col1\" >id</th>\n",
       "      <th id=\"T_ea710_level0_col2\" class=\"col_heading level0 col2\" >name</th>\n",
       "      <th id=\"T_ea710_level0_col3\" class=\"col_heading level0 col3\" >type</th>\n",
       "      <th id=\"T_ea710_level0_col4\" class=\"col_heading level0 col4\" >group index</th>\n",
       "      <th id=\"T_ea710_level0_col5\" class=\"col_heading level0 col5\" >group id</th>\n",
       "      <th id=\"T_ea710_level0_col6\" class=\"col_heading level0 col6\" >group name</th>\n",
       "      <th id=\"T_ea710_level0_col7\" class=\"col_heading level0 col7\" >group type</th>\n",
       "      <th id=\"T_ea710_level0_col8\" class=\"col_heading level0 col8\" >component index</th>\n",
       "      <th id=\"T_ea710_level0_col9\" class=\"col_heading level0 col9\" >chain index</th>\n",
       "      <th id=\"T_ea710_level0_col10\" class=\"col_heading level0 col10\" >molecule index</th>\n",
       "      <th id=\"T_ea710_level0_col11\" class=\"col_heading level0 col11\" >molecule type</th>\n",
       "      <th id=\"T_ea710_level0_col12\" class=\"col_heading level0 col12\" >entity index</th>\n",
       "      <th id=\"T_ea710_level0_col13\" class=\"col_heading level0 col13\" >entity name</th>\n",
       "    </tr>\n",
       "  </thead>\n",
       "  <tbody>\n",
       "    <tr>\n",
       "      <td id=\"T_ea710_row0_col0\" class=\"data row0 col0\" >1289</td>\n",
       "      <td id=\"T_ea710_row0_col1\" class=\"data row0 col1\" >1290</td>\n",
       "      <td id=\"T_ea710_row0_col2\" class=\"data row0 col2\" >CL</td>\n",
       "      <td id=\"T_ea710_row0_col3\" class=\"data row0 col3\" >CL</td>\n",
       "      <td id=\"T_ea710_row0_col4\" class=\"data row0 col4\" >162</td>\n",
       "      <td id=\"T_ea710_row0_col5\" class=\"data row0 col5\" >173</td>\n",
       "      <td id=\"T_ea710_row0_col6\" class=\"data row0 col6\" >CL</td>\n",
       "      <td id=\"T_ea710_row0_col7\" class=\"data row0 col7\" >ion</td>\n",
       "      <td id=\"T_ea710_row0_col8\" class=\"data row0 col8\" >1</td>\n",
       "      <td id=\"T_ea710_row0_col9\" class=\"data row0 col9\" >1</td>\n",
       "      <td id=\"T_ea710_row0_col10\" class=\"data row0 col10\" >1</td>\n",
       "      <td id=\"T_ea710_row0_col11\" class=\"data row0 col11\" >ion</td>\n",
       "      <td id=\"T_ea710_row0_col12\" class=\"data row0 col12\" >1</td>\n",
       "      <td id=\"T_ea710_row0_col13\" class=\"data row0 col13\" >CHLORIDE ION</td>\n",
       "    </tr>\n",
       "    <tr>\n",
       "      <td id=\"T_ea710_row1_col0\" class=\"data row1 col0\" >1290</td>\n",
       "      <td id=\"T_ea710_row1_col1\" class=\"data row1 col1\" >1291</td>\n",
       "      <td id=\"T_ea710_row1_col2\" class=\"data row1 col2\" >CL</td>\n",
       "      <td id=\"T_ea710_row1_col3\" class=\"data row1 col3\" >CL</td>\n",
       "      <td id=\"T_ea710_row1_col4\" class=\"data row1 col4\" >163</td>\n",
       "      <td id=\"T_ea710_row1_col5\" class=\"data row1 col5\" >178</td>\n",
       "      <td id=\"T_ea710_row1_col6\" class=\"data row1 col6\" >CL</td>\n",
       "      <td id=\"T_ea710_row1_col7\" class=\"data row1 col7\" >ion</td>\n",
       "      <td id=\"T_ea710_row1_col8\" class=\"data row1 col8\" >2</td>\n",
       "      <td id=\"T_ea710_row1_col9\" class=\"data row1 col9\" >2</td>\n",
       "      <td id=\"T_ea710_row1_col10\" class=\"data row1 col10\" >2</td>\n",
       "      <td id=\"T_ea710_row1_col11\" class=\"data row1 col11\" >ion</td>\n",
       "      <td id=\"T_ea710_row1_col12\" class=\"data row1 col12\" >1</td>\n",
       "      <td id=\"T_ea710_row1_col13\" class=\"data row1 col13\" >CHLORIDE ION</td>\n",
       "    </tr>\n",
       "  </tbody>\n",
       "</table>\n"
      ],
      "text/plain": [
       "<pandas.io.formats.style.Styler at 0x7fc000d39fd0>"
      ]
     },
     "execution_count": 5,
     "metadata": {},
     "output_type": "execute_result"
    }
   ],
   "source": [
    "msm.info(molsys, element='atom', selection='molecule_type==\"ion\"')"
   ]
  },
  {
   "cell_type": "markdown",
   "metadata": {},
   "source": [
    "## With groups\n",
    "\n",
    "Example of how the function works at the `group` level:"
   ]
  },
  {
   "cell_type": "code",
   "execution_count": 6,
   "metadata": {},
   "outputs": [
    {
     "data": {
      "text/html": [
       "<style type=\"text/css\">\n",
       "</style>\n",
       "<table id=\"T_3f20c\">\n",
       "  <thead>\n",
       "    <tr>\n",
       "      <th id=\"T_3f20c_level0_col0\" class=\"col_heading level0 col0\" >index</th>\n",
       "      <th id=\"T_3f20c_level0_col1\" class=\"col_heading level0 col1\" >id</th>\n",
       "      <th id=\"T_3f20c_level0_col2\" class=\"col_heading level0 col2\" >name</th>\n",
       "      <th id=\"T_3f20c_level0_col3\" class=\"col_heading level0 col3\" >type</th>\n",
       "      <th id=\"T_3f20c_level0_col4\" class=\"col_heading level0 col4\" >n atoms</th>\n",
       "      <th id=\"T_3f20c_level0_col5\" class=\"col_heading level0 col5\" >component index</th>\n",
       "      <th id=\"T_3f20c_level0_col6\" class=\"col_heading level0 col6\" >chain index</th>\n",
       "      <th id=\"T_3f20c_level0_col7\" class=\"col_heading level0 col7\" >molecule index</th>\n",
       "      <th id=\"T_3f20c_level0_col8\" class=\"col_heading level0 col8\" >molecule type</th>\n",
       "      <th id=\"T_3f20c_level0_col9\" class=\"col_heading level0 col9\" >entity index</th>\n",
       "      <th id=\"T_3f20c_level0_col10\" class=\"col_heading level0 col10\" >entity name</th>\n",
       "    </tr>\n",
       "  </thead>\n",
       "  <tbody>\n",
       "    <tr>\n",
       "      <td id=\"T_3f20c_row0_col0\" class=\"data row0 col0\" >9</td>\n",
       "      <td id=\"T_3f20c_row0_col1\" class=\"data row0 col1\" >10</td>\n",
       "      <td id=\"T_3f20c_row0_col2\" class=\"data row0 col2\" >ASP</td>\n",
       "      <td id=\"T_3f20c_row0_col3\" class=\"data row0 col3\" >amino acid</td>\n",
       "      <td id=\"T_3f20c_row0_col4\" class=\"data row0 col4\" >8</td>\n",
       "      <td id=\"T_3f20c_row0_col5\" class=\"data row0 col5\" >0</td>\n",
       "      <td id=\"T_3f20c_row0_col6\" class=\"data row0 col6\" >0</td>\n",
       "      <td id=\"T_3f20c_row0_col7\" class=\"data row0 col7\" >0</td>\n",
       "      <td id=\"T_3f20c_row0_col8\" class=\"data row0 col8\" >protein</td>\n",
       "      <td id=\"T_3f20c_row0_col9\" class=\"data row0 col9\" >0</td>\n",
       "      <td id=\"T_3f20c_row0_col10\" class=\"data row0 col10\" >T4 LYSOZYME</td>\n",
       "    </tr>\n",
       "    <tr>\n",
       "      <td id=\"T_3f20c_row1_col0\" class=\"data row1 col0\" >10</td>\n",
       "      <td id=\"T_3f20c_row1_col1\" class=\"data row1 col1\" >11</td>\n",
       "      <td id=\"T_3f20c_row1_col2\" class=\"data row1 col2\" >GLU</td>\n",
       "      <td id=\"T_3f20c_row1_col3\" class=\"data row1 col3\" >amino acid</td>\n",
       "      <td id=\"T_3f20c_row1_col4\" class=\"data row1 col4\" >9</td>\n",
       "      <td id=\"T_3f20c_row1_col5\" class=\"data row1 col5\" >0</td>\n",
       "      <td id=\"T_3f20c_row1_col6\" class=\"data row1 col6\" >0</td>\n",
       "      <td id=\"T_3f20c_row1_col7\" class=\"data row1 col7\" >0</td>\n",
       "      <td id=\"T_3f20c_row1_col8\" class=\"data row1 col8\" >protein</td>\n",
       "      <td id=\"T_3f20c_row1_col9\" class=\"data row1 col9\" >0</td>\n",
       "      <td id=\"T_3f20c_row1_col10\" class=\"data row1 col10\" >T4 LYSOZYME</td>\n",
       "    </tr>\n",
       "    <tr>\n",
       "      <td id=\"T_3f20c_row2_col0\" class=\"data row2 col0\" >11</td>\n",
       "      <td id=\"T_3f20c_row2_col1\" class=\"data row2 col1\" >12</td>\n",
       "      <td id=\"T_3f20c_row2_col2\" class=\"data row2 col2\" >GLY</td>\n",
       "      <td id=\"T_3f20c_row2_col3\" class=\"data row2 col3\" >amino acid</td>\n",
       "      <td id=\"T_3f20c_row2_col4\" class=\"data row2 col4\" >4</td>\n",
       "      <td id=\"T_3f20c_row2_col5\" class=\"data row2 col5\" >0</td>\n",
       "      <td id=\"T_3f20c_row2_col6\" class=\"data row2 col6\" >0</td>\n",
       "      <td id=\"T_3f20c_row2_col7\" class=\"data row2 col7\" >0</td>\n",
       "      <td id=\"T_3f20c_row2_col8\" class=\"data row2 col8\" >protein</td>\n",
       "      <td id=\"T_3f20c_row2_col9\" class=\"data row2 col9\" >0</td>\n",
       "      <td id=\"T_3f20c_row2_col10\" class=\"data row2 col10\" >T4 LYSOZYME</td>\n",
       "    </tr>\n",
       "    <tr>\n",
       "      <td id=\"T_3f20c_row3_col0\" class=\"data row3 col0\" >12</td>\n",
       "      <td id=\"T_3f20c_row3_col1\" class=\"data row3 col1\" >13</td>\n",
       "      <td id=\"T_3f20c_row3_col2\" class=\"data row3 col2\" >LEU</td>\n",
       "      <td id=\"T_3f20c_row3_col3\" class=\"data row3 col3\" >amino acid</td>\n",
       "      <td id=\"T_3f20c_row3_col4\" class=\"data row3 col4\" >8</td>\n",
       "      <td id=\"T_3f20c_row3_col5\" class=\"data row3 col5\" >0</td>\n",
       "      <td id=\"T_3f20c_row3_col6\" class=\"data row3 col6\" >0</td>\n",
       "      <td id=\"T_3f20c_row3_col7\" class=\"data row3 col7\" >0</td>\n",
       "      <td id=\"T_3f20c_row3_col8\" class=\"data row3 col8\" >protein</td>\n",
       "      <td id=\"T_3f20c_row3_col9\" class=\"data row3 col9\" >0</td>\n",
       "      <td id=\"T_3f20c_row3_col10\" class=\"data row3 col10\" >T4 LYSOZYME</td>\n",
       "    </tr>\n",
       "  </tbody>\n",
       "</table>\n"
      ],
      "text/plain": [
       "<pandas.io.formats.style.Styler at 0x7fc000d39820>"
      ]
     },
     "execution_count": 6,
     "metadata": {},
     "output_type": "execute_result"
    }
   ],
   "source": [
    "msm.info(molsys, element='group', selection=[9,10,11,12])"
   ]
  },
  {
   "cell_type": "markdown",
   "metadata": {},
   "source": [
    "## With components\n",
    "\n",
    "The function can also be applied to the component level, as shown below:"
   ]
  },
  {
   "cell_type": "code",
   "execution_count": 7,
   "metadata": {},
   "outputs": [
    {
     "data": {
      "text/html": [
       "<style type=\"text/css\">\n",
       "</style>\n",
       "<table id=\"T_6803f\">\n",
       "  <thead>\n",
       "    <tr>\n",
       "      <th id=\"T_6803f_level0_col0\" class=\"col_heading level0 col0\" >index</th>\n",
       "      <th id=\"T_6803f_level0_col1\" class=\"col_heading level0 col1\" >n atoms</th>\n",
       "      <th id=\"T_6803f_level0_col2\" class=\"col_heading level0 col2\" >n groups</th>\n",
       "      <th id=\"T_6803f_level0_col3\" class=\"col_heading level0 col3\" >chain index</th>\n",
       "      <th id=\"T_6803f_level0_col4\" class=\"col_heading level0 col4\" >molecule index</th>\n",
       "      <th id=\"T_6803f_level0_col5\" class=\"col_heading level0 col5\" >molecule type</th>\n",
       "      <th id=\"T_6803f_level0_col6\" class=\"col_heading level0 col6\" >entity index</th>\n",
       "      <th id=\"T_6803f_level0_col7\" class=\"col_heading level0 col7\" >entity name</th>\n",
       "    </tr>\n",
       "  </thead>\n",
       "  <tbody>\n",
       "    <tr>\n",
       "      <td id=\"T_6803f_row0_col0\" class=\"data row0 col0\" >3</td>\n",
       "      <td id=\"T_6803f_row0_col1\" class=\"data row0 col1\" >8</td>\n",
       "      <td id=\"T_6803f_row0_col2\" class=\"data row0 col2\" >1</td>\n",
       "      <td id=\"T_6803f_row0_col3\" class=\"data row0 col3\" >3</td>\n",
       "      <td id=\"T_6803f_row0_col4\" class=\"data row0 col4\" >3</td>\n",
       "      <td id=\"T_6803f_row0_col5\" class=\"data row0 col5\" >small molecule</td>\n",
       "      <td id=\"T_6803f_row0_col6\" class=\"data row0 col6\" >2</td>\n",
       "      <td id=\"T_6803f_row0_col7\" class=\"data row0 col7\" >2-HYDROXYETHYL DISULFIDE</td>\n",
       "    </tr>\n",
       "    <tr>\n",
       "      <td id=\"T_6803f_row1_col0\" class=\"data row1 col0\" >4</td>\n",
       "      <td id=\"T_6803f_row1_col1\" class=\"data row1 col1\" >6</td>\n",
       "      <td id=\"T_6803f_row1_col2\" class=\"data row1 col2\" >1</td>\n",
       "      <td id=\"T_6803f_row1_col3\" class=\"data row1 col3\" >4</td>\n",
       "      <td id=\"T_6803f_row1_col4\" class=\"data row1 col4\" >4</td>\n",
       "      <td id=\"T_6803f_row1_col5\" class=\"data row1 col5\" >small molecule</td>\n",
       "      <td id=\"T_6803f_row1_col6\" class=\"data row1 col6\" >3</td>\n",
       "      <td id=\"T_6803f_row1_col7\" class=\"data row1 col7\" >BENZENE</td>\n",
       "    </tr>\n",
       "  </tbody>\n",
       "</table>\n"
      ],
      "text/plain": [
       "<pandas.io.formats.style.Styler at 0x7fc000dbd940>"
      ]
     },
     "execution_count": 7,
     "metadata": {},
     "output_type": "execute_result"
    }
   ],
   "source": [
    "msm.info(molsys, element='component', selection='molecule_type==\"small molecule\"')"
   ]
  },
  {
   "cell_type": "markdown",
   "metadata": {},
   "source": [
    "## With molecules\n",
    "\n",
    "Let's see an example of how this function works with molecules:"
   ]
  },
  {
   "cell_type": "code",
   "execution_count": 8,
   "metadata": {},
   "outputs": [
    {
     "data": {
      "text/html": [
       "<style type=\"text/css\">\n",
       "</style>\n",
       "<table id=\"T_8e4d1\">\n",
       "  <thead>\n",
       "    <tr>\n",
       "      <th id=\"T_8e4d1_level0_col0\" class=\"col_heading level0 col0\" >index</th>\n",
       "      <th id=\"T_8e4d1_level0_col1\" class=\"col_heading level0 col1\" >name</th>\n",
       "      <th id=\"T_8e4d1_level0_col2\" class=\"col_heading level0 col2\" >type</th>\n",
       "      <th id=\"T_8e4d1_level0_col3\" class=\"col_heading level0 col3\" >n atoms</th>\n",
       "      <th id=\"T_8e4d1_level0_col4\" class=\"col_heading level0 col4\" >n groups</th>\n",
       "      <th id=\"T_8e4d1_level0_col5\" class=\"col_heading level0 col5\" >n components</th>\n",
       "      <th id=\"T_8e4d1_level0_col6\" class=\"col_heading level0 col6\" >chain index</th>\n",
       "      <th id=\"T_8e4d1_level0_col7\" class=\"col_heading level0 col7\" >entity index</th>\n",
       "      <th id=\"T_8e4d1_level0_col8\" class=\"col_heading level0 col8\" >entity name</th>\n",
       "    </tr>\n",
       "  </thead>\n",
       "  <tbody>\n",
       "    <tr>\n",
       "      <td id=\"T_8e4d1_row0_col0\" class=\"data row0 col0\" >1</td>\n",
       "      <td id=\"T_8e4d1_row0_col1\" class=\"data row0 col1\" >CHLORIDE ION</td>\n",
       "      <td id=\"T_8e4d1_row0_col2\" class=\"data row0 col2\" >ion</td>\n",
       "      <td id=\"T_8e4d1_row0_col3\" class=\"data row0 col3\" >1</td>\n",
       "      <td id=\"T_8e4d1_row0_col4\" class=\"data row0 col4\" >1</td>\n",
       "      <td id=\"T_8e4d1_row0_col5\" class=\"data row0 col5\" >1</td>\n",
       "      <td id=\"T_8e4d1_row0_col6\" class=\"data row0 col6\" >1</td>\n",
       "      <td id=\"T_8e4d1_row0_col7\" class=\"data row0 col7\" >1</td>\n",
       "      <td id=\"T_8e4d1_row0_col8\" class=\"data row0 col8\" >CHLORIDE ION</td>\n",
       "    </tr>\n",
       "    <tr>\n",
       "      <td id=\"T_8e4d1_row1_col0\" class=\"data row1 col0\" >2</td>\n",
       "      <td id=\"T_8e4d1_row1_col1\" class=\"data row1 col1\" >CHLORIDE ION</td>\n",
       "      <td id=\"T_8e4d1_row1_col2\" class=\"data row1 col2\" >ion</td>\n",
       "      <td id=\"T_8e4d1_row1_col3\" class=\"data row1 col3\" >1</td>\n",
       "      <td id=\"T_8e4d1_row1_col4\" class=\"data row1 col4\" >1</td>\n",
       "      <td id=\"T_8e4d1_row1_col5\" class=\"data row1 col5\" >1</td>\n",
       "      <td id=\"T_8e4d1_row1_col6\" class=\"data row1 col6\" >2</td>\n",
       "      <td id=\"T_8e4d1_row1_col7\" class=\"data row1 col7\" >1</td>\n",
       "      <td id=\"T_8e4d1_row1_col8\" class=\"data row1 col8\" >CHLORIDE ION</td>\n",
       "    </tr>\n",
       "    <tr>\n",
       "      <td id=\"T_8e4d1_row2_col0\" class=\"data row2 col0\" >3</td>\n",
       "      <td id=\"T_8e4d1_row2_col1\" class=\"data row2 col1\" >2-HYDROXYETHYL DISULFIDE</td>\n",
       "      <td id=\"T_8e4d1_row2_col2\" class=\"data row2 col2\" >small molecule</td>\n",
       "      <td id=\"T_8e4d1_row2_col3\" class=\"data row2 col3\" >8</td>\n",
       "      <td id=\"T_8e4d1_row2_col4\" class=\"data row2 col4\" >1</td>\n",
       "      <td id=\"T_8e4d1_row2_col5\" class=\"data row2 col5\" >1</td>\n",
       "      <td id=\"T_8e4d1_row2_col6\" class=\"data row2 col6\" >3</td>\n",
       "      <td id=\"T_8e4d1_row2_col7\" class=\"data row2 col7\" >2</td>\n",
       "      <td id=\"T_8e4d1_row2_col8\" class=\"data row2 col8\" >2-HYDROXYETHYL DISULFIDE</td>\n",
       "    </tr>\n",
       "    <tr>\n",
       "      <td id=\"T_8e4d1_row3_col0\" class=\"data row3 col0\" >4</td>\n",
       "      <td id=\"T_8e4d1_row3_col1\" class=\"data row3 col1\" >BENZENE</td>\n",
       "      <td id=\"T_8e4d1_row3_col2\" class=\"data row3 col2\" >small molecule</td>\n",
       "      <td id=\"T_8e4d1_row3_col3\" class=\"data row3 col3\" >6</td>\n",
       "      <td id=\"T_8e4d1_row3_col4\" class=\"data row3 col4\" >1</td>\n",
       "      <td id=\"T_8e4d1_row3_col5\" class=\"data row3 col5\" >1</td>\n",
       "      <td id=\"T_8e4d1_row3_col6\" class=\"data row3 col6\" >4</td>\n",
       "      <td id=\"T_8e4d1_row3_col7\" class=\"data row3 col7\" >3</td>\n",
       "      <td id=\"T_8e4d1_row3_col8\" class=\"data row3 col8\" >BENZENE</td>\n",
       "    </tr>\n",
       "  </tbody>\n",
       "</table>\n"
      ],
      "text/plain": [
       "<pandas.io.formats.style.Styler at 0x7fc000df9af0>"
      ]
     },
     "execution_count": 8,
     "metadata": {},
     "output_type": "execute_result"
    }
   ],
   "source": [
    "msm.info(molsys, element='molecule',\n",
    "         selection='molecule_type!=[\"water\", \"protein\"] within 4.0 angstroms of molecule_type==\"protein\"')"
   ]
  },
  {
   "cell_type": "markdown",
   "metadata": {},
   "source": [
    "## With chains\n",
    "\n",
    "The function can also be applied to `chain` elements as shown below:"
   ]
  },
  {
   "cell_type": "code",
   "execution_count": 9,
   "metadata": {},
   "outputs": [
    {
     "data": {
      "text/html": [
       "<style type=\"text/css\">\n",
       "</style>\n",
       "<table id=\"T_f1a70\">\n",
       "  <thead>\n",
       "    <tr>\n",
       "      <th id=\"T_f1a70_level0_col0\" class=\"col_heading level0 col0\" >index</th>\n",
       "      <th id=\"T_f1a70_level0_col1\" class=\"col_heading level0 col1\" >id</th>\n",
       "      <th id=\"T_f1a70_level0_col2\" class=\"col_heading level0 col2\" >name</th>\n",
       "      <th id=\"T_f1a70_level0_col3\" class=\"col_heading level0 col3\" >n atoms</th>\n",
       "      <th id=\"T_f1a70_level0_col4\" class=\"col_heading level0 col4\" >n groups</th>\n",
       "      <th id=\"T_f1a70_level0_col5\" class=\"col_heading level0 col5\" >n components</th>\n",
       "      <th id=\"T_f1a70_level0_col6\" class=\"col_heading level0 col6\" >molecule index</th>\n",
       "      <th id=\"T_f1a70_level0_col7\" class=\"col_heading level0 col7\" >molecule type</th>\n",
       "      <th id=\"T_f1a70_level0_col8\" class=\"col_heading level0 col8\" >entity index</th>\n",
       "      <th id=\"T_f1a70_level0_col9\" class=\"col_heading level0 col9\" >entity name</th>\n",
       "    </tr>\n",
       "  </thead>\n",
       "  <tbody>\n",
       "    <tr>\n",
       "      <td id=\"T_f1a70_row0_col0\" class=\"data row0 col0\" >5</td>\n",
       "      <td id=\"T_f1a70_row0_col1\" class=\"data row0 col1\" >5</td>\n",
       "      <td id=\"T_f1a70_row0_col2\" class=\"data row0 col2\" >A</td>\n",
       "      <td id=\"T_f1a70_row0_col3\" class=\"data row0 col3\" >136</td>\n",
       "      <td id=\"T_f1a70_row0_col4\" class=\"data row0 col4\" >136</td>\n",
       "      <td id=\"T_f1a70_row0_col5\" class=\"data row0 col5\" >136</td>\n",
       "      <td id=\"T_f1a70_row0_col6\" class=\"data row0 col6\" >[5, 6, 7, 8, 9, 10, 11, 12, 13, 14, 15, 16, 17, 18, 19, 20, 21, 22, 23, 24, 25, 26, 27, 28, 29, 30, 31, 32, 33, 34, 35, 36, 37, 38, 39, 40, 41, 42, 43, 44, 45, 46, 47, 48, 49, 50, 51, 52, 53, 54, 55, 56, 57, 58, 59, 60, 61, 62, 63, 64, 65, 66, 67, 68, 69, 70, 71, 72, 73, 74, 75, 76, 77, 78, 79, 80, 81, 82, 83, 84, 85, 86, 87, 88, 89, 90, 91, 92, 93, 94, 95, 96, 97, 98, 99, 100, 101, 102, 103, 104, 105, 106, 107, 108, 109, 110, 111, 112, 113, 114, 115, 116, 117, 118, 119, 120, 121, 122, 123, 124, 125, 126, 127, 128, 129, 130, 131, 132, 133, 134, 135, 136, 137, 138, 139, 140]</td>\n",
       "      <td id=\"T_f1a70_row0_col7\" class=\"data row0 col7\" >['water', 'water', 'water', 'water', 'water', 'water', 'water', 'water', 'water', 'water', 'water', 'water', 'water', 'water', 'water', 'water', 'water', 'water', 'water', 'water', 'water', 'water', 'water', 'water', 'water', 'water', 'water', 'water', 'water', 'water', 'water', 'water', 'water', 'water', 'water', 'water', 'water', 'water', 'water', 'water', 'water', 'water', 'water', 'water', 'water', 'water', 'water', 'water', 'water', 'water', 'water', 'water', 'water', 'water', 'water', 'water', 'water', 'water', 'water', 'water', 'water', 'water', 'water', 'water', 'water', 'water', 'water', 'water', 'water', 'water', 'water', 'water', 'water', 'water', 'water', 'water', 'water', 'water', 'water', 'water', 'water', 'water', 'water', 'water', 'water', 'water', 'water', 'water', 'water', 'water', 'water', 'water', 'water', 'water', 'water', 'water', 'water', 'water', 'water', 'water', 'water', 'water', 'water', 'water', 'water', 'water', 'water', 'water', 'water', 'water', 'water', 'water', 'water', 'water', 'water', 'water', 'water', 'water', 'water', 'water', 'water', 'water', 'water', 'water', 'water', 'water', 'water', 'water', 'water', 'water', 'water', 'water', 'water', 'water', 'water', 'water']</td>\n",
       "      <td id=\"T_f1a70_row0_col8\" class=\"data row0 col8\" >4</td>\n",
       "      <td id=\"T_f1a70_row0_col9\" class=\"data row0 col9\" >water</td>\n",
       "    </tr>\n",
       "  </tbody>\n",
       "</table>\n"
      ],
      "text/plain": [
       "<pandas.io.formats.style.Styler at 0x7fc000d3b860>"
      ]
     },
     "execution_count": 9,
     "metadata": {},
     "output_type": "execute_result"
    }
   ],
   "source": [
    "msm.info(molsys, element='chain', selection='molecule_type==\"water\"')"
   ]
  },
  {
   "cell_type": "markdown",
   "metadata": {},
   "source": [
    "## With entities\n",
    "\n",
    "This example shows how to obtain a summary of `entity` elements:"
   ]
  },
  {
   "cell_type": "code",
   "execution_count": 10,
   "metadata": {},
   "outputs": [
    {
     "data": {
      "text/html": [
       "<style type=\"text/css\">\n",
       "</style>\n",
       "<table id=\"T_43fd7\">\n",
       "  <thead>\n",
       "    <tr>\n",
       "      <th id=\"T_43fd7_level0_col0\" class=\"col_heading level0 col0\" >index</th>\n",
       "      <th id=\"T_43fd7_level0_col1\" class=\"col_heading level0 col1\" >name</th>\n",
       "      <th id=\"T_43fd7_level0_col2\" class=\"col_heading level0 col2\" >type</th>\n",
       "      <th id=\"T_43fd7_level0_col3\" class=\"col_heading level0 col3\" >n atoms</th>\n",
       "      <th id=\"T_43fd7_level0_col4\" class=\"col_heading level0 col4\" >n groups</th>\n",
       "      <th id=\"T_43fd7_level0_col5\" class=\"col_heading level0 col5\" >n components</th>\n",
       "      <th id=\"T_43fd7_level0_col6\" class=\"col_heading level0 col6\" >n chains</th>\n",
       "      <th id=\"T_43fd7_level0_col7\" class=\"col_heading level0 col7\" >n molecules</th>\n",
       "    </tr>\n",
       "  </thead>\n",
       "  <tbody>\n",
       "    <tr>\n",
       "      <td id=\"T_43fd7_row0_col0\" class=\"data row0 col0\" >0</td>\n",
       "      <td id=\"T_43fd7_row0_col1\" class=\"data row0 col1\" >T4 LYSOZYME</td>\n",
       "      <td id=\"T_43fd7_row0_col2\" class=\"data row0 col2\" >protein</td>\n",
       "      <td id=\"T_43fd7_row0_col3\" class=\"data row0 col3\" >1289</td>\n",
       "      <td id=\"T_43fd7_row0_col4\" class=\"data row0 col4\" >162</td>\n",
       "      <td id=\"T_43fd7_row0_col5\" class=\"data row0 col5\" >1</td>\n",
       "      <td id=\"T_43fd7_row0_col6\" class=\"data row0 col6\" >1</td>\n",
       "      <td id=\"T_43fd7_row0_col7\" class=\"data row0 col7\" >1</td>\n",
       "    </tr>\n",
       "    <tr>\n",
       "      <td id=\"T_43fd7_row1_col0\" class=\"data row1 col0\" >1</td>\n",
       "      <td id=\"T_43fd7_row1_col1\" class=\"data row1 col1\" >CHLORIDE ION</td>\n",
       "      <td id=\"T_43fd7_row1_col2\" class=\"data row1 col2\" >ion</td>\n",
       "      <td id=\"T_43fd7_row1_col3\" class=\"data row1 col3\" >2</td>\n",
       "      <td id=\"T_43fd7_row1_col4\" class=\"data row1 col4\" >2</td>\n",
       "      <td id=\"T_43fd7_row1_col5\" class=\"data row1 col5\" >2</td>\n",
       "      <td id=\"T_43fd7_row1_col6\" class=\"data row1 col6\" >2</td>\n",
       "      <td id=\"T_43fd7_row1_col7\" class=\"data row1 col7\" >2</td>\n",
       "    </tr>\n",
       "    <tr>\n",
       "      <td id=\"T_43fd7_row2_col0\" class=\"data row2 col0\" >2</td>\n",
       "      <td id=\"T_43fd7_row2_col1\" class=\"data row2 col1\" >2-HYDROXYETHYL DISULFIDE</td>\n",
       "      <td id=\"T_43fd7_row2_col2\" class=\"data row2 col2\" >small molecule</td>\n",
       "      <td id=\"T_43fd7_row2_col3\" class=\"data row2 col3\" >8</td>\n",
       "      <td id=\"T_43fd7_row2_col4\" class=\"data row2 col4\" >1</td>\n",
       "      <td id=\"T_43fd7_row2_col5\" class=\"data row2 col5\" >1</td>\n",
       "      <td id=\"T_43fd7_row2_col6\" class=\"data row2 col6\" >1</td>\n",
       "      <td id=\"T_43fd7_row2_col7\" class=\"data row2 col7\" >1</td>\n",
       "    </tr>\n",
       "    <tr>\n",
       "      <td id=\"T_43fd7_row3_col0\" class=\"data row3 col0\" >3</td>\n",
       "      <td id=\"T_43fd7_row3_col1\" class=\"data row3 col1\" >BENZENE</td>\n",
       "      <td id=\"T_43fd7_row3_col2\" class=\"data row3 col2\" >small molecule</td>\n",
       "      <td id=\"T_43fd7_row3_col3\" class=\"data row3 col3\" >6</td>\n",
       "      <td id=\"T_43fd7_row3_col4\" class=\"data row3 col4\" >1</td>\n",
       "      <td id=\"T_43fd7_row3_col5\" class=\"data row3 col5\" >1</td>\n",
       "      <td id=\"T_43fd7_row3_col6\" class=\"data row3 col6\" >1</td>\n",
       "      <td id=\"T_43fd7_row3_col7\" class=\"data row3 col7\" >1</td>\n",
       "    </tr>\n",
       "    <tr>\n",
       "      <td id=\"T_43fd7_row4_col0\" class=\"data row4 col0\" >4</td>\n",
       "      <td id=\"T_43fd7_row4_col1\" class=\"data row4 col1\" >water</td>\n",
       "      <td id=\"T_43fd7_row4_col2\" class=\"data row4 col2\" >water</td>\n",
       "      <td id=\"T_43fd7_row4_col3\" class=\"data row4 col3\" >136</td>\n",
       "      <td id=\"T_43fd7_row4_col4\" class=\"data row4 col4\" >136</td>\n",
       "      <td id=\"T_43fd7_row4_col5\" class=\"data row4 col5\" >136</td>\n",
       "      <td id=\"T_43fd7_row4_col6\" class=\"data row4 col6\" >1</td>\n",
       "      <td id=\"T_43fd7_row4_col7\" class=\"data row4 col7\" >136</td>\n",
       "    </tr>\n",
       "  </tbody>\n",
       "</table>\n"
      ],
      "text/plain": [
       "<pandas.io.formats.style.Styler at 0x7fc000b5b980>"
      ]
     },
     "execution_count": 10,
     "metadata": {},
     "output_type": "execute_result"
    }
   ],
   "source": [
    "msm.info(molsys, element='entity')"
   ]
  },
  {
   "cell_type": "markdown",
   "metadata": {},
   "source": [
    "## With system\n",
    "\n",
    "Let's see an example of how this function works with the system (default option):"
   ]
  },
  {
   "cell_type": "code",
   "execution_count": 11,
   "metadata": {},
   "outputs": [
    {
     "data": {
      "text/html": [
       "<style type=\"text/css\">\n",
       "</style>\n",
       "<table id=\"T_a6502\">\n",
       "  <thead>\n",
       "    <tr>\n",
       "      <th id=\"T_a6502_level0_col0\" class=\"col_heading level0 col0\" >form</th>\n",
       "      <th id=\"T_a6502_level0_col1\" class=\"col_heading level0 col1\" >n_atoms</th>\n",
       "      <th id=\"T_a6502_level0_col2\" class=\"col_heading level0 col2\" >n_groups</th>\n",
       "      <th id=\"T_a6502_level0_col3\" class=\"col_heading level0 col3\" >n_components</th>\n",
       "      <th id=\"T_a6502_level0_col4\" class=\"col_heading level0 col4\" >n_chains</th>\n",
       "      <th id=\"T_a6502_level0_col5\" class=\"col_heading level0 col5\" >n_molecules</th>\n",
       "      <th id=\"T_a6502_level0_col6\" class=\"col_heading level0 col6\" >n_entities</th>\n",
       "      <th id=\"T_a6502_level0_col7\" class=\"col_heading level0 col7\" >n_waters</th>\n",
       "      <th id=\"T_a6502_level0_col8\" class=\"col_heading level0 col8\" >n_ions</th>\n",
       "      <th id=\"T_a6502_level0_col9\" class=\"col_heading level0 col9\" >n_small_molecules</th>\n",
       "      <th id=\"T_a6502_level0_col10\" class=\"col_heading level0 col10\" >n_proteins</th>\n",
       "      <th id=\"T_a6502_level0_col11\" class=\"col_heading level0 col11\" >n_structures</th>\n",
       "    </tr>\n",
       "  </thead>\n",
       "  <tbody>\n",
       "    <tr>\n",
       "      <td id=\"T_a6502_row0_col0\" class=\"data row0 col0\" >molsysmt.MolSys</td>\n",
       "      <td id=\"T_a6502_row0_col1\" class=\"data row0 col1\" >1441</td>\n",
       "      <td id=\"T_a6502_row0_col2\" class=\"data row0 col2\" >302</td>\n",
       "      <td id=\"T_a6502_row0_col3\" class=\"data row0 col3\" >141</td>\n",
       "      <td id=\"T_a6502_row0_col4\" class=\"data row0 col4\" >6</td>\n",
       "      <td id=\"T_a6502_row0_col5\" class=\"data row0 col5\" >141</td>\n",
       "      <td id=\"T_a6502_row0_col6\" class=\"data row0 col6\" >5</td>\n",
       "      <td id=\"T_a6502_row0_col7\" class=\"data row0 col7\" >136</td>\n",
       "      <td id=\"T_a6502_row0_col8\" class=\"data row0 col8\" >2</td>\n",
       "      <td id=\"T_a6502_row0_col9\" class=\"data row0 col9\" >2</td>\n",
       "      <td id=\"T_a6502_row0_col10\" class=\"data row0 col10\" >1</td>\n",
       "      <td id=\"T_a6502_row0_col11\" class=\"data row0 col11\" >1</td>\n",
       "    </tr>\n",
       "  </tbody>\n",
       "</table>\n"
      ],
      "text/plain": [
       "<pandas.io.formats.style.Styler at 0x7fc000d38110>"
      ]
     },
     "execution_count": 11,
     "metadata": {},
     "output_type": "execute_result"
    }
   ],
   "source": [
    "msm.info(molsys)"
   ]
  },
  {
   "cell_type": "markdown",
   "metadata": {},
   "source": [
    ":::{seealso}\n",
    "[User guide > Introduction > Molecular System > Elements](../../intro/molecular_systems/elements.ipynb):    \n",
    "[User guide > Tools > Basic > Convert](convert.ipynb):    \n",
    "[User guide > Tools > Basic > Get label](get_label.ipynb):    \n",
    "\n",
    "[User guide > Introduction > Molecular System > Elements](../../intro/molecular_systems/elements.ipynb):    \n",
    "Describe the different hierarchical levels (atom, group, molecule, etc.) used in molecular systems.\n",
    "\n",
    "[User guide > Tools > Basic > Convert](convert.ipynb):    \n",
    "Convert a molecular system into another form.\n",
    "\n",
    "[User guide > Tools > Basic > Get label](get_label.ipynb):    \n",
    "Generate formatted labels for elements in a molecular system.\n",
    "\n",
    ":::"
   ]
  }
 ],
 "metadata": {
  "kernelspec": {
   "display_name": "Python 3 (ipykernel)",
   "language": "python",
   "name": "python3"
  },
  "language_info": {
   "codemirror_mode": {
    "name": "ipython",
    "version": 3
   },
   "file_extension": ".py",
   "mimetype": "text/x-python",
   "name": "python",
   "nbconvert_exporter": "python",
   "pygments_lexer": "ipython3",
   "version": "3.12.9"
  },
  "widgets": {
   "application/vnd.jupyter.widget-state+json": {
    "state": {
     "48a6288ad47e4aa390e70ca1332a0750": {
      "model_module": "@jupyter-widgets/base",
      "model_module_version": "2.0.0",
      "model_name": "LayoutModel",
      "state": {
       "_model_module": "@jupyter-widgets/base",
       "_model_module_version": "2.0.0",
       "_model_name": "LayoutModel",
       "_view_count": null,
       "_view_module": "@jupyter-widgets/base",
       "_view_module_version": "2.0.0",
       "_view_name": "LayoutView",
       "align_content": null,
       "align_items": null,
       "align_self": null,
       "border_bottom": null,
       "border_left": null,
       "border_right": null,
       "border_top": null,
       "bottom": null,
       "display": null,
       "flex": null,
       "flex_flow": null,
       "grid_area": null,
       "grid_auto_columns": null,
       "grid_auto_flow": null,
       "grid_auto_rows": null,
       "grid_column": null,
       "grid_gap": null,
       "grid_row": null,
       "grid_template_areas": null,
       "grid_template_columns": null,
       "grid_template_rows": null,
       "height": null,
       "justify_content": null,
       "justify_items": null,
       "left": null,
       "margin": null,
       "max_height": null,
       "max_width": null,
       "min_height": null,
       "min_width": null,
       "object_fit": null,
       "object_position": null,
       "order": null,
       "overflow": null,
       "padding": null,
       "right": null,
       "top": null,
       "visibility": null,
       "width": null
      }
     },
     "c197db15c4a945308d20ad645f2d5cdc": {
      "model_module": "nglview-js-widgets",
      "model_module_version": "3.1.4",
      "model_name": "ColormakerRegistryModel",
      "state": {
       "_dom_classes": [],
       "_model_module": "nglview-js-widgets",
       "_model_module_version": "3.1.4",
       "_model_name": "ColormakerRegistryModel",
       "_msg_ar": [],
       "_msg_q": [],
       "_ready": false,
       "_view_count": null,
       "_view_module": "nglview-js-widgets",
       "_view_module_version": "3.1.4",
       "_view_name": "ColormakerRegistryView",
       "layout": "IPY_MODEL_48a6288ad47e4aa390e70ca1332a0750",
       "tabbable": null,
       "tooltip": null
      }
     }
    },
    "version_major": 2,
    "version_minor": 0
   }
  }
 },
 "nbformat": 4,
 "nbformat_minor": 4
}
