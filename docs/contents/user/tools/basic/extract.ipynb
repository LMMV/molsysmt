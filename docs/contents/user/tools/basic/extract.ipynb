{
 "cells": [
  {
   "cell_type": "code",
   "execution_count": 1,
   "metadata": {
    "tags": [
     "remove-input"
    ]
   },
   "outputs": [],
   "source": [
    "# This cell is removed with the tag: \"remove-input\"\n",
    "# As such, it will not be shown in documentation\n",
    "\n",
    "import warnings\n",
    "warnings.filterwarnings('ignore')"
   ]
  },
  {
   "cell_type": "markdown",
   "metadata": {},
   "source": [
    "(UserGuide_Tools_Basic_Extract)=\n",
    "# Extract\n",
    "\n",
    "*Extracting a portion of a molecular system.*\n",
    "\n",
    "The function {func}`molsysmt.basic.extract` allows to extract a part of a molecular system. It's output is a new molecular system with the elements selected by the user.\n",
    "\n",
    "Let's see {func}`molsysmt.basic.extract` in action with a simple example:"
   ]
  },
  {
   "cell_type": "code",
   "execution_count": 2,
   "metadata": {},
   "outputs": [
    {
     "data": {
      "application/vnd.jupyter.widget-view+json": {
       "model_id": "509b0a838d9e44a59f54f8d2aa2f9b1a",
       "version_major": 2,
       "version_minor": 0
      },
      "text/plain": []
     },
     "metadata": {},
     "output_type": "display_data"
    }
   ],
   "source": [
    "import molsysmt as msm"
   ]
  },
  {
   "cell_type": "code",
   "execution_count": 3,
   "metadata": {},
   "outputs": [],
   "source": [
    "molecular_system = msm.convert('181L')"
   ]
  },
  {
   "cell_type": "markdown",
   "metadata": {},
   "source": [
    "```{admonition} Tip\n",
    ":class: tip\n",
    "The default output form of {func}`molsysmt.basic.convert` is the native `molsysmt.MolSys`.\n",
    "```"
   ]
  },
  {
   "cell_type": "code",
   "execution_count": 4,
   "metadata": {},
   "outputs": [
    {
     "data": {
      "text/html": [
       "<style type=\"text/css\">\n",
       "</style>\n",
       "<table id=\"T_d29b0\">\n",
       "  <thead>\n",
       "    <tr>\n",
       "      <th id=\"T_d29b0_level0_col0\" class=\"col_heading level0 col0\" >index</th>\n",
       "      <th id=\"T_d29b0_level0_col1\" class=\"col_heading level0 col1\" >name</th>\n",
       "      <th id=\"T_d29b0_level0_col2\" class=\"col_heading level0 col2\" >type</th>\n",
       "      <th id=\"T_d29b0_level0_col3\" class=\"col_heading level0 col3\" >n atoms</th>\n",
       "      <th id=\"T_d29b0_level0_col4\" class=\"col_heading level0 col4\" >n groups</th>\n",
       "      <th id=\"T_d29b0_level0_col5\" class=\"col_heading level0 col5\" >n components</th>\n",
       "      <th id=\"T_d29b0_level0_col6\" class=\"col_heading level0 col6\" >n chains</th>\n",
       "      <th id=\"T_d29b0_level0_col7\" class=\"col_heading level0 col7\" >n molecules</th>\n",
       "    </tr>\n",
       "  </thead>\n",
       "  <tbody>\n",
       "    <tr>\n",
       "      <td id=\"T_d29b0_row0_col0\" class=\"data row0 col0\" >0</td>\n",
       "      <td id=\"T_d29b0_row0_col1\" class=\"data row0 col1\" >T4 lysozyme</td>\n",
       "      <td id=\"T_d29b0_row0_col2\" class=\"data row0 col2\" >protein</td>\n",
       "      <td id=\"T_d29b0_row0_col3\" class=\"data row0 col3\" >1289</td>\n",
       "      <td id=\"T_d29b0_row0_col4\" class=\"data row0 col4\" >162</td>\n",
       "      <td id=\"T_d29b0_row0_col5\" class=\"data row0 col5\" >1</td>\n",
       "      <td id=\"T_d29b0_row0_col6\" class=\"data row0 col6\" >1</td>\n",
       "      <td id=\"T_d29b0_row0_col7\" class=\"data row0 col7\" >1</td>\n",
       "    </tr>\n",
       "    <tr>\n",
       "      <td id=\"T_d29b0_row1_col0\" class=\"data row1 col0\" >1</td>\n",
       "      <td id=\"T_d29b0_row1_col1\" class=\"data row1 col1\" >Chloride ion</td>\n",
       "      <td id=\"T_d29b0_row1_col2\" class=\"data row1 col2\" >ion</td>\n",
       "      <td id=\"T_d29b0_row1_col3\" class=\"data row1 col3\" >2</td>\n",
       "      <td id=\"T_d29b0_row1_col4\" class=\"data row1 col4\" >2</td>\n",
       "      <td id=\"T_d29b0_row1_col5\" class=\"data row1 col5\" >2</td>\n",
       "      <td id=\"T_d29b0_row1_col6\" class=\"data row1 col6\" >2</td>\n",
       "      <td id=\"T_d29b0_row1_col7\" class=\"data row1 col7\" >2</td>\n",
       "    </tr>\n",
       "    <tr>\n",
       "      <td id=\"T_d29b0_row2_col0\" class=\"data row2 col0\" >2</td>\n",
       "      <td id=\"T_d29b0_row2_col1\" class=\"data row2 col1\" >2-hydroxyethyl disulfide</td>\n",
       "      <td id=\"T_d29b0_row2_col2\" class=\"data row2 col2\" >small molecule</td>\n",
       "      <td id=\"T_d29b0_row2_col3\" class=\"data row2 col3\" >8</td>\n",
       "      <td id=\"T_d29b0_row2_col4\" class=\"data row2 col4\" >1</td>\n",
       "      <td id=\"T_d29b0_row2_col5\" class=\"data row2 col5\" >1</td>\n",
       "      <td id=\"T_d29b0_row2_col6\" class=\"data row2 col6\" >1</td>\n",
       "      <td id=\"T_d29b0_row2_col7\" class=\"data row2 col7\" >1</td>\n",
       "    </tr>\n",
       "    <tr>\n",
       "      <td id=\"T_d29b0_row3_col0\" class=\"data row3 col0\" >3</td>\n",
       "      <td id=\"T_d29b0_row3_col1\" class=\"data row3 col1\" >Benzene</td>\n",
       "      <td id=\"T_d29b0_row3_col2\" class=\"data row3 col2\" >small molecule</td>\n",
       "      <td id=\"T_d29b0_row3_col3\" class=\"data row3 col3\" >6</td>\n",
       "      <td id=\"T_d29b0_row3_col4\" class=\"data row3 col4\" >1</td>\n",
       "      <td id=\"T_d29b0_row3_col5\" class=\"data row3 col5\" >1</td>\n",
       "      <td id=\"T_d29b0_row3_col6\" class=\"data row3 col6\" >1</td>\n",
       "      <td id=\"T_d29b0_row3_col7\" class=\"data row3 col7\" >1</td>\n",
       "    </tr>\n",
       "    <tr>\n",
       "      <td id=\"T_d29b0_row4_col0\" class=\"data row4 col0\" >4</td>\n",
       "      <td id=\"T_d29b0_row4_col1\" class=\"data row4 col1\" >water</td>\n",
       "      <td id=\"T_d29b0_row4_col2\" class=\"data row4 col2\" >water</td>\n",
       "      <td id=\"T_d29b0_row4_col3\" class=\"data row4 col3\" >136</td>\n",
       "      <td id=\"T_d29b0_row4_col4\" class=\"data row4 col4\" >136</td>\n",
       "      <td id=\"T_d29b0_row4_col5\" class=\"data row4 col5\" >136</td>\n",
       "      <td id=\"T_d29b0_row4_col6\" class=\"data row4 col6\" >1</td>\n",
       "      <td id=\"T_d29b0_row4_col7\" class=\"data row4 col7\" >136</td>\n",
       "    </tr>\n",
       "  </tbody>\n",
       "</table>\n"
      ],
      "text/plain": [
       "<pandas.io.formats.style.Styler at 0x7f42cf7e1280>"
      ]
     },
     "execution_count": 4,
     "metadata": {},
     "output_type": "execute_result"
    }
   ],
   "source": [
    "msm.info(molecular_system, element='entity')"
   ]
  },
  {
   "cell_type": "code",
   "execution_count": 5,
   "metadata": {},
   "outputs": [],
   "source": [
    "molecular_subsystem = msm.extract(molecular_system, selection='entity_name in [\"T4 lysozyme\", \"Benzene\"]')"
   ]
  },
  {
   "cell_type": "markdown",
   "metadata": {},
   "source": [
    "```{admonition} Tip\n",
    ":class: tip\n",
    "All methods defined in the {ref}`molsysmt.basic <API basic>` module can be invoked also from the main level of the library. Hence, {func}`molsysmt.extract` is the same method as {func}`molsysmt.basic.extract`.\n",
    "```"
   ]
  },
  {
   "cell_type": "code",
   "execution_count": 6,
   "metadata": {},
   "outputs": [
    {
     "data": {
      "text/html": [
       "<style type=\"text/css\">\n",
       "</style>\n",
       "<table id=\"T_c7608\">\n",
       "  <thead>\n",
       "    <tr>\n",
       "      <th id=\"T_c7608_level0_col0\" class=\"col_heading level0 col0\" >index</th>\n",
       "      <th id=\"T_c7608_level0_col1\" class=\"col_heading level0 col1\" >name</th>\n",
       "      <th id=\"T_c7608_level0_col2\" class=\"col_heading level0 col2\" >type</th>\n",
       "      <th id=\"T_c7608_level0_col3\" class=\"col_heading level0 col3\" >n atoms</th>\n",
       "      <th id=\"T_c7608_level0_col4\" class=\"col_heading level0 col4\" >n groups</th>\n",
       "      <th id=\"T_c7608_level0_col5\" class=\"col_heading level0 col5\" >n components</th>\n",
       "      <th id=\"T_c7608_level0_col6\" class=\"col_heading level0 col6\" >n chains</th>\n",
       "      <th id=\"T_c7608_level0_col7\" class=\"col_heading level0 col7\" >n molecules</th>\n",
       "    </tr>\n",
       "  </thead>\n",
       "  <tbody>\n",
       "    <tr>\n",
       "      <td id=\"T_c7608_row0_col0\" class=\"data row0 col0\" >0</td>\n",
       "      <td id=\"T_c7608_row0_col1\" class=\"data row0 col1\" >T4 lysozyme</td>\n",
       "      <td id=\"T_c7608_row0_col2\" class=\"data row0 col2\" >protein</td>\n",
       "      <td id=\"T_c7608_row0_col3\" class=\"data row0 col3\" >1289</td>\n",
       "      <td id=\"T_c7608_row0_col4\" class=\"data row0 col4\" >162</td>\n",
       "      <td id=\"T_c7608_row0_col5\" class=\"data row0 col5\" >1</td>\n",
       "      <td id=\"T_c7608_row0_col6\" class=\"data row0 col6\" >1</td>\n",
       "      <td id=\"T_c7608_row0_col7\" class=\"data row0 col7\" >1</td>\n",
       "    </tr>\n",
       "    <tr>\n",
       "      <td id=\"T_c7608_row1_col0\" class=\"data row1 col0\" >1</td>\n",
       "      <td id=\"T_c7608_row1_col1\" class=\"data row1 col1\" >Benzene</td>\n",
       "      <td id=\"T_c7608_row1_col2\" class=\"data row1 col2\" >small molecule</td>\n",
       "      <td id=\"T_c7608_row1_col3\" class=\"data row1 col3\" >6</td>\n",
       "      <td id=\"T_c7608_row1_col4\" class=\"data row1 col4\" >1</td>\n",
       "      <td id=\"T_c7608_row1_col5\" class=\"data row1 col5\" >1</td>\n",
       "      <td id=\"T_c7608_row1_col6\" class=\"data row1 col6\" >1</td>\n",
       "      <td id=\"T_c7608_row1_col7\" class=\"data row1 col7\" >1</td>\n",
       "    </tr>\n",
       "  </tbody>\n",
       "</table>\n"
      ],
      "text/plain": [
       "<pandas.io.formats.style.Styler at 0x7f43d421c9a0>"
      ]
     },
     "execution_count": 6,
     "metadata": {},
     "output_type": "execute_result"
    }
   ],
   "source": [
    "msm.info(molecular_subsystem, element='entity')"
   ]
  },
  {
   "cell_type": "markdown",
   "metadata": {},
   "source": [
    "```{admonition} See also\n",
    ":class: attention\n",
    "{func}`molsysmt.basic.extract`, {func}`molsysmt.basic.convert`, {func}`molsysmt.basic.info`\n",
    "```"
   ]
  },
  {
   "cell_type": "markdown",
   "metadata": {},
   "source": []
  }
 ],
 "metadata": {
  "kernelspec": {
   "display_name": "Python 3 (ipykernel)",
   "language": "python",
   "name": "python3"
  },
  "language_info": {
   "codemirror_mode": {
    "name": "ipython",
    "version": 3
   },
   "file_extension": ".py",
   "mimetype": "text/x-python",
   "name": "python",
   "nbconvert_exporter": "python",
   "pygments_lexer": "ipython3",
   "version": "3.9.15"
  }
 },
 "nbformat": 4,
 "nbformat_minor": 4
}
