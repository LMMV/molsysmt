{
 "cells": [
  {
   "cell_type": "code",
   "execution_count": 1,
   "metadata": {
    "execution": {
     "iopub.execute_input": "2025-04-12T21:50:30.720327Z",
     "iopub.status.busy": "2025-04-12T21:50:30.719885Z",
     "iopub.status.idle": "2025-04-12T21:50:30.725056Z",
     "shell.execute_reply": "2025-04-12T21:50:30.724358Z"
    },
    "tags": [
     "remove-input"
    ]
   },
   "outputs": [],
   "source": [
    "# This cell is removed with the tag: \"remove-input\"\n",
    "# As such, it will not be shown in documentation\n",
    "\n",
    "#import warnings\n",
    "#warnings.filterwarnings('ignore')"
   ]
  },
  {
   "cell_type": "markdown",
   "metadata": {},
   "source": [
    "(Tutorial_Extract)=\n",
    "# Extract\n",
    "\n",
    "*Extracting a subset of atoms and structures from a molecular system.*\n",
    "\n",
    "The function {func}`molsysmt.basic.extract` allows you to extract a subset of a molecular system based on atom selections and structure indices. It's output is a new molecular system with the elements and structures selected by the user.\n",
    "\n",
    "## How this function works\n",
    "\n",
    "```{admonition} API documentation\n",
    "Follow this link for a detailed description of the input arguments, raised errors, and returned objects of this function:{func}`molsysmt.basic.extract`.\n",
    "```\n",
    "\n",
    "Let's see {func}`molsysmt.basic.extract` in action with a simple example:"
   ]
  },
  {
   "cell_type": "code",
   "execution_count": 2,
   "metadata": {
    "execution": {
     "iopub.execute_input": "2025-04-12T21:50:30.727790Z",
     "iopub.status.busy": "2025-04-12T21:50:30.727520Z",
     "iopub.status.idle": "2025-04-12T21:50:36.012224Z",
     "shell.execute_reply": "2025-04-12T21:50:36.011508Z"
    }
   },
   "outputs": [
    {
     "data": {
      "application/vnd.jupyter.widget-view+json": {
       "model_id": "bd3b14dce031465b97fc6c8c11a8c25c",
       "version_major": 2,
       "version_minor": 0
      },
      "text/plain": []
     },
     "metadata": {},
     "output_type": "display_data"
    }
   ],
   "source": [
    "import molsysmt as msm"
   ]
  },
  {
   "cell_type": "code",
   "execution_count": 3,
   "metadata": {
    "execution": {
     "iopub.execute_input": "2025-04-12T21:50:36.015796Z",
     "iopub.status.busy": "2025-04-12T21:50:36.015256Z",
     "iopub.status.idle": "2025-04-12T21:50:36.893149Z",
     "shell.execute_reply": "2025-04-12T21:50:36.892251Z"
    }
   },
   "outputs": [],
   "source": [
    "molsys = msm.convert('181L')"
   ]
  },
  {
   "cell_type": "code",
   "execution_count": 4,
   "metadata": {
    "execution": {
     "iopub.execute_input": "2025-04-12T21:50:36.896836Z",
     "iopub.status.busy": "2025-04-12T21:50:36.896336Z",
     "iopub.status.idle": "2025-04-12T21:50:37.490813Z",
     "shell.execute_reply": "2025-04-12T21:50:37.490025Z"
    }
   },
   "outputs": [
    {
     "data": {
      "text/html": [
       "<style type=\"text/css\">\n",
       "</style>\n",
       "<table id=\"T_c5c34\">\n",
       "  <thead>\n",
       "    <tr>\n",
       "      <th id=\"T_c5c34_level0_col0\" class=\"col_heading level0 col0\" >index</th>\n",
       "      <th id=\"T_c5c34_level0_col1\" class=\"col_heading level0 col1\" >name</th>\n",
       "      <th id=\"T_c5c34_level0_col2\" class=\"col_heading level0 col2\" >type</th>\n",
       "      <th id=\"T_c5c34_level0_col3\" class=\"col_heading level0 col3\" >n atoms</th>\n",
       "      <th id=\"T_c5c34_level0_col4\" class=\"col_heading level0 col4\" >n groups</th>\n",
       "      <th id=\"T_c5c34_level0_col5\" class=\"col_heading level0 col5\" >n components</th>\n",
       "      <th id=\"T_c5c34_level0_col6\" class=\"col_heading level0 col6\" >n chains</th>\n",
       "      <th id=\"T_c5c34_level0_col7\" class=\"col_heading level0 col7\" >n molecules</th>\n",
       "    </tr>\n",
       "  </thead>\n",
       "  <tbody>\n",
       "    <tr>\n",
       "      <td id=\"T_c5c34_row0_col0\" class=\"data row0 col0\" >0</td>\n",
       "      <td id=\"T_c5c34_row0_col1\" class=\"data row0 col1\" >T4 LYSOZYME</td>\n",
       "      <td id=\"T_c5c34_row0_col2\" class=\"data row0 col2\" >protein</td>\n",
       "      <td id=\"T_c5c34_row0_col3\" class=\"data row0 col3\" >1289</td>\n",
       "      <td id=\"T_c5c34_row0_col4\" class=\"data row0 col4\" >162</td>\n",
       "      <td id=\"T_c5c34_row0_col5\" class=\"data row0 col5\" >1</td>\n",
       "      <td id=\"T_c5c34_row0_col6\" class=\"data row0 col6\" >1</td>\n",
       "      <td id=\"T_c5c34_row0_col7\" class=\"data row0 col7\" >1</td>\n",
       "    </tr>\n",
       "    <tr>\n",
       "      <td id=\"T_c5c34_row1_col0\" class=\"data row1 col0\" >1</td>\n",
       "      <td id=\"T_c5c34_row1_col1\" class=\"data row1 col1\" >CHLORIDE ION</td>\n",
       "      <td id=\"T_c5c34_row1_col2\" class=\"data row1 col2\" >ion</td>\n",
       "      <td id=\"T_c5c34_row1_col3\" class=\"data row1 col3\" >2</td>\n",
       "      <td id=\"T_c5c34_row1_col4\" class=\"data row1 col4\" >2</td>\n",
       "      <td id=\"T_c5c34_row1_col5\" class=\"data row1 col5\" >2</td>\n",
       "      <td id=\"T_c5c34_row1_col6\" class=\"data row1 col6\" >2</td>\n",
       "      <td id=\"T_c5c34_row1_col7\" class=\"data row1 col7\" >2</td>\n",
       "    </tr>\n",
       "    <tr>\n",
       "      <td id=\"T_c5c34_row2_col0\" class=\"data row2 col0\" >2</td>\n",
       "      <td id=\"T_c5c34_row2_col1\" class=\"data row2 col1\" >2-HYDROXYETHYL DISULFIDE</td>\n",
       "      <td id=\"T_c5c34_row2_col2\" class=\"data row2 col2\" >small molecule</td>\n",
       "      <td id=\"T_c5c34_row2_col3\" class=\"data row2 col3\" >8</td>\n",
       "      <td id=\"T_c5c34_row2_col4\" class=\"data row2 col4\" >1</td>\n",
       "      <td id=\"T_c5c34_row2_col5\" class=\"data row2 col5\" >1</td>\n",
       "      <td id=\"T_c5c34_row2_col6\" class=\"data row2 col6\" >1</td>\n",
       "      <td id=\"T_c5c34_row2_col7\" class=\"data row2 col7\" >1</td>\n",
       "    </tr>\n",
       "    <tr>\n",
       "      <td id=\"T_c5c34_row3_col0\" class=\"data row3 col0\" >3</td>\n",
       "      <td id=\"T_c5c34_row3_col1\" class=\"data row3 col1\" >BENZENE</td>\n",
       "      <td id=\"T_c5c34_row3_col2\" class=\"data row3 col2\" >small molecule</td>\n",
       "      <td id=\"T_c5c34_row3_col3\" class=\"data row3 col3\" >6</td>\n",
       "      <td id=\"T_c5c34_row3_col4\" class=\"data row3 col4\" >1</td>\n",
       "      <td id=\"T_c5c34_row3_col5\" class=\"data row3 col5\" >1</td>\n",
       "      <td id=\"T_c5c34_row3_col6\" class=\"data row3 col6\" >1</td>\n",
       "      <td id=\"T_c5c34_row3_col7\" class=\"data row3 col7\" >1</td>\n",
       "    </tr>\n",
       "    <tr>\n",
       "      <td id=\"T_c5c34_row4_col0\" class=\"data row4 col0\" >4</td>\n",
       "      <td id=\"T_c5c34_row4_col1\" class=\"data row4 col1\" >water</td>\n",
       "      <td id=\"T_c5c34_row4_col2\" class=\"data row4 col2\" >water</td>\n",
       "      <td id=\"T_c5c34_row4_col3\" class=\"data row4 col3\" >136</td>\n",
       "      <td id=\"T_c5c34_row4_col4\" class=\"data row4 col4\" >136</td>\n",
       "      <td id=\"T_c5c34_row4_col5\" class=\"data row4 col5\" >136</td>\n",
       "      <td id=\"T_c5c34_row4_col6\" class=\"data row4 col6\" >1</td>\n",
       "      <td id=\"T_c5c34_row4_col7\" class=\"data row4 col7\" >136</td>\n",
       "    </tr>\n",
       "  </tbody>\n",
       "</table>\n"
      ],
      "text/plain": [
       "<pandas.io.formats.style.Styler at 0x7f37bfb58bf0>"
      ]
     },
     "execution_count": 4,
     "metadata": {},
     "output_type": "execute_result"
    }
   ],
   "source": [
    "msm.info(molsys, element='entity')"
   ]
  },
  {
   "cell_type": "markdown",
   "metadata": {},
   "source": [
    "We will extract only the protein and benzene entities from the system by using a selection based on `entity_name`."
   ]
  },
  {
   "cell_type": "code",
   "execution_count": 5,
   "metadata": {
    "execution": {
     "iopub.execute_input": "2025-04-12T21:50:37.494347Z",
     "iopub.status.busy": "2025-04-12T21:50:37.494108Z",
     "iopub.status.idle": "2025-04-12T21:50:37.645282Z",
     "shell.execute_reply": "2025-04-12T21:50:37.644486Z"
    }
   },
   "outputs": [],
   "source": [
    "molsubsys = msm.extract(molsys, selection='entity_name in [\"T4 LYSOZYME\", \"BENZENE\"]')"
   ]
  },
  {
   "cell_type": "markdown",
   "metadata": {},
   "source": [
    "```{admonition} Tip\n",
    ":class: tip\n",
    "All methods defined in the {ref}`molsysmt.basic <API basic>` module can be invoked also from the main level of the library. Hence, {func}`molsysmt.extract` is the same method as {func}`molsysmt.basic.extract`.\n",
    "```"
   ]
  },
  {
   "cell_type": "code",
   "execution_count": 6,
   "metadata": {
    "execution": {
     "iopub.execute_input": "2025-04-12T21:50:37.649707Z",
     "iopub.status.busy": "2025-04-12T21:50:37.649405Z",
     "iopub.status.idle": "2025-04-12T21:50:38.227179Z",
     "shell.execute_reply": "2025-04-12T21:50:38.226306Z"
    }
   },
   "outputs": [
    {
     "data": {
      "text/html": [
       "<style type=\"text/css\">\n",
       "</style>\n",
       "<table id=\"T_918dc\">\n",
       "  <thead>\n",
       "    <tr>\n",
       "      <th id=\"T_918dc_level0_col0\" class=\"col_heading level0 col0\" >index</th>\n",
       "      <th id=\"T_918dc_level0_col1\" class=\"col_heading level0 col1\" >name</th>\n",
       "      <th id=\"T_918dc_level0_col2\" class=\"col_heading level0 col2\" >type</th>\n",
       "      <th id=\"T_918dc_level0_col3\" class=\"col_heading level0 col3\" >n atoms</th>\n",
       "      <th id=\"T_918dc_level0_col4\" class=\"col_heading level0 col4\" >n groups</th>\n",
       "      <th id=\"T_918dc_level0_col5\" class=\"col_heading level0 col5\" >n components</th>\n",
       "      <th id=\"T_918dc_level0_col6\" class=\"col_heading level0 col6\" >n chains</th>\n",
       "      <th id=\"T_918dc_level0_col7\" class=\"col_heading level0 col7\" >n molecules</th>\n",
       "    </tr>\n",
       "  </thead>\n",
       "  <tbody>\n",
       "    <tr>\n",
       "      <td id=\"T_918dc_row0_col0\" class=\"data row0 col0\" >0</td>\n",
       "      <td id=\"T_918dc_row0_col1\" class=\"data row0 col1\" >T4 LYSOZYME</td>\n",
       "      <td id=\"T_918dc_row0_col2\" class=\"data row0 col2\" >protein</td>\n",
       "      <td id=\"T_918dc_row0_col3\" class=\"data row0 col3\" >1289</td>\n",
       "      <td id=\"T_918dc_row0_col4\" class=\"data row0 col4\" >162</td>\n",
       "      <td id=\"T_918dc_row0_col5\" class=\"data row0 col5\" >1</td>\n",
       "      <td id=\"T_918dc_row0_col6\" class=\"data row0 col6\" >1</td>\n",
       "      <td id=\"T_918dc_row0_col7\" class=\"data row0 col7\" >1</td>\n",
       "    </tr>\n",
       "    <tr>\n",
       "      <td id=\"T_918dc_row1_col0\" class=\"data row1 col0\" >1</td>\n",
       "      <td id=\"T_918dc_row1_col1\" class=\"data row1 col1\" >BENZENE</td>\n",
       "      <td id=\"T_918dc_row1_col2\" class=\"data row1 col2\" >small molecule</td>\n",
       "      <td id=\"T_918dc_row1_col3\" class=\"data row1 col3\" >6</td>\n",
       "      <td id=\"T_918dc_row1_col4\" class=\"data row1 col4\" >1</td>\n",
       "      <td id=\"T_918dc_row1_col5\" class=\"data row1 col5\" >1</td>\n",
       "      <td id=\"T_918dc_row1_col6\" class=\"data row1 col6\" >1</td>\n",
       "      <td id=\"T_918dc_row1_col7\" class=\"data row1 col7\" >1</td>\n",
       "    </tr>\n",
       "  </tbody>\n",
       "</table>\n"
      ],
      "text/plain": [
       "<pandas.io.formats.style.Styler at 0x7f37bc38d850>"
      ]
     },
     "execution_count": 6,
     "metadata": {},
     "output_type": "execute_result"
    }
   ],
   "source": [
    "msm.info(molsubsys, element='entity')"
   ]
  },
  {
   "cell_type": "markdown",
   "metadata": {},
   "source": [
    ":::{seealso}\n",
    "[User guide > Tools > Basic > Convert](convert.ipynb):    \n",
    "Convert a molecular system into another form.\n",
    "\n",
    "[User guide > Tools > Basic > Info](info.ipynb):    \n",
    "Display summary information about a molecular system.\n",
    ":::"
   ]
  }
 ],
 "metadata": {
  "kernelspec": {
   "display_name": "Python 3 (ipykernel)",
   "language": "python",
   "name": "python3"
  },
  "language_info": {
   "codemirror_mode": {
    "name": "ipython",
    "version": 3
   },
   "file_extension": ".py",
   "mimetype": "text/x-python",
   "name": "python",
   "nbconvert_exporter": "python",
   "pygments_lexer": "ipython3",
   "version": "3.12.9"
  },
  "widgets": {
   "application/vnd.jupyter.widget-state+json": {
    "state": {
     "bd3b14dce031465b97fc6c8c11a8c25c": {
      "model_module": "nglview-js-widgets",
      "model_module_version": "3.1.4",
      "model_name": "ColormakerRegistryModel",
      "state": {
       "_dom_classes": [],
       "_model_module": "nglview-js-widgets",
       "_model_module_version": "3.1.4",
       "_model_name": "ColormakerRegistryModel",
       "_msg_ar": [],
       "_msg_q": [],
       "_ready": false,
       "_view_count": null,
       "_view_module": "nglview-js-widgets",
       "_view_module_version": "3.1.4",
       "_view_name": "ColormakerRegistryView",
       "layout": "IPY_MODEL_f5658f16c4144aa8a10d182b155538a2",
       "tabbable": null,
       "tooltip": null
      }
     },
     "f5658f16c4144aa8a10d182b155538a2": {
      "model_module": "@jupyter-widgets/base",
      "model_module_version": "2.0.0",
      "model_name": "LayoutModel",
      "state": {
       "_model_module": "@jupyter-widgets/base",
       "_model_module_version": "2.0.0",
       "_model_name": "LayoutModel",
       "_view_count": null,
       "_view_module": "@jupyter-widgets/base",
       "_view_module_version": "2.0.0",
       "_view_name": "LayoutView",
       "align_content": null,
       "align_items": null,
       "align_self": null,
       "border_bottom": null,
       "border_left": null,
       "border_right": null,
       "border_top": null,
       "bottom": null,
       "display": null,
       "flex": null,
       "flex_flow": null,
       "grid_area": null,
       "grid_auto_columns": null,
       "grid_auto_flow": null,
       "grid_auto_rows": null,
       "grid_column": null,
       "grid_gap": null,
       "grid_row": null,
       "grid_template_areas": null,
       "grid_template_columns": null,
       "grid_template_rows": null,
       "height": null,
       "justify_content": null,
       "justify_items": null,
       "left": null,
       "margin": null,
       "max_height": null,
       "max_width": null,
       "min_height": null,
       "min_width": null,
       "object_fit": null,
       "object_position": null,
       "order": null,
       "overflow": null,
       "padding": null,
       "right": null,
       "top": null,
       "visibility": null,
       "width": null
      }
     }
    },
    "version_major": 2,
    "version_minor": 0
   }
  }
 },
 "nbformat": 4,
 "nbformat_minor": 4
}
