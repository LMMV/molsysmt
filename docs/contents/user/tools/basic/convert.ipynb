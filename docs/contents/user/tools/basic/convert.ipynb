{
 "cells": [
  {
   "cell_type": "code",
   "execution_count": 1,
   "metadata": {
    "tags": [
     "remove-input"
    ]
   },
   "outputs": [],
   "source": [
    "# This cell is removed with the tag: \"remove-input\"\n",
    "# As such, it will not be shown in documentation\n",
    "\n",
    "#import warnings\n",
    "#warnings.filterwarnings('ignore')"
   ]
  },
  {
   "cell_type": "markdown",
   "metadata": {},
   "source": [
    "(Tutorial_Convert)=\n",
    "# Convert\n",
    "\n",
    "*Converting a molecular system into other form*\n",
    "\n",
    "In the context of MolSysMT, a molecular system can have different 'forms'. There by, there should be a function in this library to convert a system from a form into other form. This function is {func}`molsysmt.basic.convert`. \n",
    "\n",
    ":::{hint}\n",
    "Visit the section [User guide > Introduction > Molecular System > Forms](../../intro/molecular_systems/forms.md) in case you are not familiar with the concept of \"form\" in MolSysMT.\n",
    ":::\n",
    "\n",
    "## How this function works\n",
    "\n",
    "\n",
    "```{admonition} API documentation\n",
    "Follow this link for a detailed description of the input arguments, raised errors, and returned objects of this function:{func}`molsysmt.basic.convert`.\n",
    "```\n",
    "\n",
    "To have a first approach to {func}`molsysmt.basic.convert`, the following example illustrates how the function operates in a simple context: the conversion of a molecular system from its form to a different form."
   ]
  },
  {
   "cell_type": "code",
   "execution_count": 2,
   "metadata": {},
   "outputs": [
    {
     "data": {
      "application/vnd.jupyter.widget-view+json": {
       "model_id": "1bbcf8e8f4f749cbb2cd6491b6ff1f5e",
       "version_major": 2,
       "version_minor": 0
      },
      "text/plain": []
     },
     "metadata": {},
     "output_type": "display_data"
    }
   ],
   "source": [
    "import molsysmt as msm"
   ]
  },
  {
   "cell_type": "code",
   "execution_count": 3,
   "metadata": {},
   "outputs": [],
   "source": [
    "molecular_system_A = '181L'\n",
    "molecular_system_B = msm.convert(molecular_system_A, to_form='181L.mmtf')\n",
    "molecular_system_C = msm.convert(molecular_system_B)\n",
    "molecular_system_D = msm.convert(molecular_system_C, to_form='string:pdb_text')\n",
    "molecular_system_E = msm.convert(molecular_system_D, to_form='mdtraj.Trajectory')\n",
    "molecular_system_F = msm.convert(molecular_system_E, to_form='nglview.NGLWidget')\n",
    "molecular_system_G = msm.convert(molecular_system_F, to_form='openmm.Topology')\n",
    "molecular_system_H = msm.convert(molecular_system_G, to_form='string:aminoacids3')"
   ]
  },
  {
   "cell_type": "markdown",
   "metadata": {},
   "source": [
    ":::{tip}\n",
    "All methods defined in the {ref}`molsysmt.basic <API basic>` module can be invoked also from the main level of the library. Hence, {func}`molsysmt.convert` is the same method as {func}`molsysmt.basic.convert`.\n",
    ":::\n",
    "\n",
    ":::{tip}\n",
    "The default output form of {func}`molsysmt.basic.convert` is the native `molsysmt.MolSys`.\n",
    ":::"
   ]
  },
  {
   "cell_type": "markdown",
   "metadata": {},
   "source": [
    "The molecular system was converted from the form \"string:pdb_id\" to \"string:aminoacids3\" passing through some intermediate forms: \"string:pdb_id\" $\\rightarrow$ \"molsysmt.MolSys\" $\\rightarrow$ \"string:pdb_text\" $\\rightarrow$ \"mdtraj.Trajectory\" $\\rightarrow$ \"nglview.NGLWidget\" $\\rightarrow$ \"openmm.Topology\" $\\rightarrow$ \"string:aminoacids3\". We can have a look to each form with the help of {func}\"molsysmt.basic.info\":"
   ]
  },
  {
   "cell_type": "code",
   "execution_count": 4,
   "metadata": {
    "tags": [
     "scroll-output"
    ]
   },
   "outputs": [
    {
     "data": {
      "text/html": [
       "<style type=\"text/css\">\n",
       "</style>\n",
       "<table id=\"T_db3d1\">\n",
       "  <thead>\n",
       "    <tr>\n",
       "      <th id=\"T_db3d1_level0_col0\" class=\"col_heading level0 col0\" >form</th>\n",
       "      <th id=\"T_db3d1_level0_col1\" class=\"col_heading level0 col1\" >n_atoms</th>\n",
       "      <th id=\"T_db3d1_level0_col2\" class=\"col_heading level0 col2\" >n_groups</th>\n",
       "      <th id=\"T_db3d1_level0_col3\" class=\"col_heading level0 col3\" >n_components</th>\n",
       "      <th id=\"T_db3d1_level0_col4\" class=\"col_heading level0 col4\" >n_chains</th>\n",
       "      <th id=\"T_db3d1_level0_col5\" class=\"col_heading level0 col5\" >n_molecules</th>\n",
       "      <th id=\"T_db3d1_level0_col6\" class=\"col_heading level0 col6\" >n_entities</th>\n",
       "      <th id=\"T_db3d1_level0_col7\" class=\"col_heading level0 col7\" >n_waters</th>\n",
       "      <th id=\"T_db3d1_level0_col8\" class=\"col_heading level0 col8\" >n_ions</th>\n",
       "      <th id=\"T_db3d1_level0_col9\" class=\"col_heading level0 col9\" >n_small_molecules</th>\n",
       "      <th id=\"T_db3d1_level0_col10\" class=\"col_heading level0 col10\" >n_proteins</th>\n",
       "      <th id=\"T_db3d1_level0_col11\" class=\"col_heading level0 col11\" >n_structures</th>\n",
       "    </tr>\n",
       "  </thead>\n",
       "  <tbody>\n",
       "    <tr>\n",
       "      <td id=\"T_db3d1_row0_col0\" class=\"data row0 col0\" >openmm.Topology</td>\n",
       "      <td id=\"T_db3d1_row0_col1\" class=\"data row0 col1\" >1441</td>\n",
       "      <td id=\"T_db3d1_row0_col2\" class=\"data row0 col2\" >302</td>\n",
       "      <td id=\"T_db3d1_row0_col3\" class=\"data row0 col3\" >141</td>\n",
       "      <td id=\"T_db3d1_row0_col4\" class=\"data row0 col4\" >6</td>\n",
       "      <td id=\"T_db3d1_row0_col5\" class=\"data row0 col5\" >141</td>\n",
       "      <td id=\"T_db3d1_row0_col6\" class=\"data row0 col6\" >5</td>\n",
       "      <td id=\"T_db3d1_row0_col7\" class=\"data row0 col7\" >136</td>\n",
       "      <td id=\"T_db3d1_row0_col8\" class=\"data row0 col8\" >2</td>\n",
       "      <td id=\"T_db3d1_row0_col9\" class=\"data row0 col9\" >2</td>\n",
       "      <td id=\"T_db3d1_row0_col10\" class=\"data row0 col10\" >1</td>\n",
       "      <td id=\"T_db3d1_row0_col11\" class=\"data row0 col11\" >None</td>\n",
       "    </tr>\n",
       "  </tbody>\n",
       "</table>\n"
      ],
      "text/plain": [
       "<pandas.io.formats.style.Styler at 0x7fdb4305f640>"
      ]
     },
     "execution_count": 4,
     "metadata": {},
     "output_type": "execute_result"
    }
   ],
   "source": [
    "msm.info(molecular_system_F)"
   ]
  },
  {
   "cell_type": "code",
   "execution_count": null,
   "metadata": {
    "editable": true,
    "slideshow": {
     "slide_type": ""
    },
    "tags": [
     "remove-input"
    ]
   },
   "outputs": [],
   "source": [
    "####### REMOVING FILES ############################\n",
    "# This cell is removed with the tag: \"remove-input\"\n",
    "# As such, it will not be shown in documentation\n",
    "\n",
    "import os\n",
    "os.remove('181L.mmtf')"
   ]
  },
  {
   "cell_type": "markdown",
   "metadata": {},
   "source": [
    "Finally, the conversion can be done over the entiry system or over a part of it. The input argument `selection` works with most of the MolSysMT methods, and {func}`molsysmt.basic.convert()` is not an exception. Lets see how a simple selection operates on a conversion: "
   ]
  },
  {
   "cell_type": "code",
   "execution_count": null,
   "metadata": {},
   "outputs": [],
   "source": [
    "benzene = msm.convert('181L', to_form='string:pdb_text', selection='molecule_name==\"Benzene\"')"
   ]
  },
  {
   "cell_type": "code",
   "execution_count": null,
   "metadata": {},
   "outputs": [],
   "source": [
    "print(benzene)"
   ]
  },
  {
   "cell_type": "markdown",
   "metadata": {},
   "source": [
    "## Multiple items into one\n",
    "\n",
    ":::{hint}\n",
    "Visit the section [User guide > Introduction > Molecular System > Items](../../intro/molecular_systems/items.md) in case you are not familiar with the concept of \"item\" in MolSysMT.\n",
    ":::"
   ]
  },
  {
   "cell_type": "markdown",
   "metadata": {},
   "source": [
    "Sometimes the molecular system comes from the combination of multiple items with different forms. For example, we can have two files with topology and coordinates to be converted into a single molecular item:"
   ]
  },
  {
   "cell_type": "code",
   "execution_count": null,
   "metadata": {},
   "outputs": [],
   "source": [
    "from molsysmt.systems import demo"
   ]
  },
  {
   "cell_type": "code",
   "execution_count": null,
   "metadata": {},
   "outputs": [],
   "source": [
    "prmtop_file = demo['pentalanine']['pentalanine.prmtop']\n",
    "inpcrd_file = demo['pentalanine']['pentalanine.inpcrd']"
   ]
  },
  {
   "cell_type": "code",
   "execution_count": null,
   "metadata": {},
   "outputs": [],
   "source": [
    "msm.info(prmtop_file)"
   ]
  },
  {
   "cell_type": "code",
   "execution_count": null,
   "metadata": {},
   "outputs": [],
   "source": [
    "msm.info(inpcrd_file)"
   ]
  },
  {
   "cell_type": "code",
   "execution_count": null,
   "metadata": {},
   "outputs": [],
   "source": [
    "molecular_system = msm.convert([prmtop_file, inpcrd_file], to_form='molsysmt.MolSys')"
   ]
  },
  {
   "cell_type": "code",
   "execution_count": null,
   "metadata": {},
   "outputs": [],
   "source": [
    "msm.info(molecular_system)"
   ]
  },
  {
   "cell_type": "markdown",
   "metadata": {},
   "source": [
    "## An item into multiple ones\n",
    "\n",
    ":::{hint}\n",
    "Visit the section [User guide > Introduction > Molecular System > Items](../../intro/molecular_systems/items.md) in case you are not familiar with the concept of \"item\" in MolSysMT.\n",
    ":::"
   ]
  },
  {
   "cell_type": "markdown",
   "metadata": {},
   "source": [
    "The way to convert multiple items into one was illustrated in the previous section. Let's see now how to produce more than a single item with different forms just in one line:"
   ]
  },
  {
   "cell_type": "code",
   "execution_count": null,
   "metadata": {},
   "outputs": [],
   "source": [
    "h5_file = demo['pentalanine']['traj_pentalanine.h5']"
   ]
  },
  {
   "cell_type": "code",
   "execution_count": null,
   "metadata": {},
   "outputs": [],
   "source": [
    "topology, structures = msm.convert(h5_file, to_form=['molsysmt.Topology','molsysmt.Structures'])"
   ]
  },
  {
   "cell_type": "code",
   "execution_count": null,
   "metadata": {},
   "outputs": [],
   "source": [
    "msm.info(topology)"
   ]
  },
  {
   "cell_type": "code",
   "execution_count": null,
   "metadata": {},
   "outputs": [],
   "source": [
    "msm.info(structures)"
   ]
  },
  {
   "cell_type": "code",
   "execution_count": null,
   "metadata": {},
   "outputs": [],
   "source": [
    "msm.info([topology, structures])"
   ]
  },
  {
   "cell_type": "markdown",
   "metadata": {},
   "source": [
    "Lets now visualize the combination of both forms to double check that they were properly converted:"
   ]
  },
  {
   "cell_type": "code",
   "execution_count": null,
   "metadata": {
    "tags": [
     "remove-input"
    ]
   },
   "outputs": [],
   "source": [
    "# This cell is removed with the tag: \"remove-input\"\n",
    "# As such, it will not be shown in documentation\n",
    "\n",
    "nglview_htmlfile = '../../../../_static/nglview/pentalanine.html'"
   ]
  },
  {
   "cell_type": "code",
   "execution_count": null,
   "metadata": {},
   "outputs": [],
   "source": [
    "view = msm.view([topology, structures], structure_indices=3500, standard=True, viewer='NGLView')\n",
    "view"
   ]
  },
  {
   "cell_type": "code",
   "execution_count": null,
   "metadata": {
    "editable": true,
    "slideshow": {
     "slide_type": ""
    },
    "tags": [
     "remove-input"
    ]
   },
   "outputs": [],
   "source": [
    "# This cell is removed with the tag: \"remove-input\"\n",
    "# As such, it will not be shown in documentation\n",
    "\n",
    "if False:\n",
    "    # to write an html the view had to be displayed in a cell before\n",
    "    msm.thirds.nglview.write_html(view, nglview_htmlfile)"
   ]
  },
  {
   "cell_type": "markdown",
   "metadata": {},
   "source": [
    "## Supported conversions"
   ]
  },
  {
   "cell_type": "code",
   "execution_count": null,
   "metadata": {},
   "outputs": [],
   "source": [
    "msm.supported.conversions(from_form='mdtraj.Trajectory', to_form_type='string')"
   ]
  },
  {
   "cell_type": "code",
   "execution_count": null,
   "metadata": {},
   "outputs": [],
   "source": [
    "msm.supported.conversions(from_form='mdtraj.Trajectory', to_form_type='file', as_rows='to')"
   ]
  },
  {
   "cell_type": "code",
   "execution_count": null,
   "metadata": {},
   "outputs": [],
   "source": [
    "from_list=['pytraj.Trajectory','MDAnalysis.Universe']\n",
    "to_list=['mdtraj.Trajectory', 'openmm.Topology']\n",
    "msm.supported.conversions(from_form=from_list, to_form=to_list, as_rows='from')"
   ]
  },
  {
   "cell_type": "markdown",
   "metadata": {},
   "source": [
    ":::{seealso}\n",
    "[User guide > Introduction > Molecular System > Items](../../intro/molecular_systems/items.md):    \n",
    "[User guide > Introduction > Molecular System > Forms](../../intro/molecular_systems/forms.md):    \n",
    "[User guide > Introduction > Supported](../../intro/supported.md):    \n",
    "[User guide > Introduction > Demo systems](../../intro/demo_systems.ipynb):\n",
    "[User guide > Tools > Basic > Selection](selection.ipynb): Printing out summary information of a molecular system.    \n",
    "[User guide > Tools > Basic > Info](info.ipynb): Printing out summary information of a molecular system.    \n",
    "[User guide > Tools > Basic > View](view.ipynb): Showing a molecular system.    \n",
    ":::"
   ]
  }
 ],
 "metadata": {
  "kernelspec": {
   "display_name": "Python 3 (ipykernel)",
   "language": "python",
   "name": "python3"
  },
  "language_info": {
   "codemirror_mode": {
    "name": "ipython",
    "version": 3
   },
   "file_extension": ".py",
   "mimetype": "text/x-python",
   "name": "python",
   "nbconvert_exporter": "python",
   "pygments_lexer": "ipython3",
   "version": "3.10.11"
  }
 },
 "nbformat": 4,
 "nbformat_minor": 4
}
