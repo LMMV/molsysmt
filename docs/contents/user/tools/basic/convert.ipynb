{
 "cells": [
  {
   "cell_type": "code",
   "execution_count": 1,
   "metadata": {
    "tags": [
     "remove-input"
    ]
   },
   "outputs": [],
   "source": [
    "# This cell is removed with the tag: \"remove-input\"\n",
    "# As such, it will not be shown in documentation\n",
    "\n",
    "#import warnings\n",
    "#warnings.filterwarnings('ignore')"
   ]
  },
  {
   "cell_type": "markdown",
   "metadata": {},
   "source": [
    "(Tutorial_Convert)=\n",
    "# Convert\n",
    "\n",
    "*Converting a molecular system into other form*\n",
    "\n",
    "In the context of MolSysMT, a molecular system can have different 'forms'. There by, there should be a function in this library to convert a system from a form into other form. This function is {func}`molsysmt.basic.convert`. \n",
    "\n",
    "```{admonition} API documentation\n",
    "Follow this link for a detailed description of the input arguments, raised errors, and returned objects of this function:{func}`molsysmt.basic.convert`.\n",
    "```\n",
    "\n",
    "## From form to form\n",
    "\n",
    ":::{hint}\n",
    "Visit the section [User guide > Introduction > Molecular System > Forms](../../intro/molecular_systems/forms.md) in case you are not familiar with the concept of \"form\" in MolSysMT.\n",
    ":::\n",
    "\n",
    "To have a first approach to {func}`molsysmt.basic.convert`, the following example illustrates how the function operates in a simple context: the conversion of a molecular system from its form to a different form."
   ]
  },
  {
   "cell_type": "code",
   "execution_count": 2,
   "metadata": {},
   "outputs": [
    {
     "data": {
      "application/vnd.jupyter.widget-view+json": {
       "model_id": "e0331b3d47914b1fad3920616bfa5a53",
       "version_major": 2,
       "version_minor": 0
      },
      "text/plain": []
     },
     "metadata": {},
     "output_type": "display_data"
    }
   ],
   "source": [
    "import molsysmt as msm"
   ]
  },
  {
   "cell_type": "code",
   "execution_count": 3,
   "metadata": {},
   "outputs": [],
   "source": [
    "molecular_system_A = '181L'\n",
    "molecular_system_B = msm.convert(molecular_system_A, to_form='181L.mmtf')\n",
    "molecular_system_C = msm.convert(molecular_system_B, to_form='string:pdb_text')\n",
    "molecular_system_D = msm.convert(molecular_system_C, to_form='mdtraj.Trajectory')\n",
    "molecular_system_E = msm.convert(molecular_system_D, to_form='nglview.NGLWidget')\n",
    "molecular_system_F = msm.convert(molecular_system_E, to_form='openmm.Topology')\n",
    "molecular_system_G = msm.convert(molecular_system_F, to_form='string:aminoacids3')"
   ]
  },
  {
   "cell_type": "markdown",
   "metadata": {},
   "source": [
    "The molecular system was converted from the form `string:pdb_id` to `string:aminoacids3` passing through some intermediate forms: `string:pdb_id` $\\rightarrow$ `string:pdb_text` $\\rightarrow$ `mdtraj.Trajectory` $\\rightarrow$ `nglview.NGLWidget` $\\rightarrow$ `openmm.Topology` $\\rightarrow$ `string:aminoacids3`. We can have a look to each form with the help of {func}`molsysmt.basic.info`:"
   ]
  },
  {
   "cell_type": "code",
   "execution_count": 4,
   "metadata": {
    "tags": [
     "scroll-output"
    ]
   },
   "outputs": [
    {
     "data": {
      "text/html": [
       "<style type=\"text/css\">\n",
       "</style>\n",
       "<table id=\"T_28d0a\">\n",
       "  <thead>\n",
       "    <tr>\n",
       "      <th id=\"T_28d0a_level0_col0\" class=\"col_heading level0 col0\" >form</th>\n",
       "      <th id=\"T_28d0a_level0_col1\" class=\"col_heading level0 col1\" >n_atoms</th>\n",
       "      <th id=\"T_28d0a_level0_col2\" class=\"col_heading level0 col2\" >n_groups</th>\n",
       "      <th id=\"T_28d0a_level0_col3\" class=\"col_heading level0 col3\" >n_components</th>\n",
       "      <th id=\"T_28d0a_level0_col4\" class=\"col_heading level0 col4\" >n_chains</th>\n",
       "      <th id=\"T_28d0a_level0_col5\" class=\"col_heading level0 col5\" >n_molecules</th>\n",
       "      <th id=\"T_28d0a_level0_col6\" class=\"col_heading level0 col6\" >n_entities</th>\n",
       "      <th id=\"T_28d0a_level0_col7\" class=\"col_heading level0 col7\" >n_waters</th>\n",
       "      <th id=\"T_28d0a_level0_col8\" class=\"col_heading level0 col8\" >n_ions</th>\n",
       "      <th id=\"T_28d0a_level0_col9\" class=\"col_heading level0 col9\" >n_small_molecules</th>\n",
       "      <th id=\"T_28d0a_level0_col10\" class=\"col_heading level0 col10\" >n_proteins</th>\n",
       "      <th id=\"T_28d0a_level0_col11\" class=\"col_heading level0 col11\" >n_structures</th>\n",
       "    </tr>\n",
       "  </thead>\n",
       "  <tbody>\n",
       "    <tr>\n",
       "      <td id=\"T_28d0a_row0_col0\" class=\"data row0 col0\" >nglview.NGLWidget</td>\n",
       "      <td id=\"T_28d0a_row0_col1\" class=\"data row0 col1\" >1441</td>\n",
       "      <td id=\"T_28d0a_row0_col2\" class=\"data row0 col2\" >302</td>\n",
       "      <td id=\"T_28d0a_row0_col3\" class=\"data row0 col3\" >141</td>\n",
       "      <td id=\"T_28d0a_row0_col4\" class=\"data row0 col4\" >6</td>\n",
       "      <td id=\"T_28d0a_row0_col5\" class=\"data row0 col5\" >141</td>\n",
       "      <td id=\"T_28d0a_row0_col6\" class=\"data row0 col6\" >1</td>\n",
       "      <td id=\"T_28d0a_row0_col7\" class=\"data row0 col7\" >136</td>\n",
       "      <td id=\"T_28d0a_row0_col8\" class=\"data row0 col8\" >2</td>\n",
       "      <td id=\"T_28d0a_row0_col9\" class=\"data row0 col9\" >2</td>\n",
       "      <td id=\"T_28d0a_row0_col10\" class=\"data row0 col10\" >1</td>\n",
       "      <td id=\"T_28d0a_row0_col11\" class=\"data row0 col11\" >1</td>\n",
       "    </tr>\n",
       "  </tbody>\n",
       "</table>\n"
      ],
      "text/plain": [
       "<pandas.io.formats.style.Styler at 0x7f687fa07070>"
      ]
     },
     "execution_count": 4,
     "metadata": {},
     "output_type": "execute_result"
    }
   ],
   "source": [
    "msm.info(molecular_system_E)"
   ]
  },
  {
   "cell_type": "markdown",
   "metadata": {},
   "source": [
    "```{admonition} Tip\n",
    ":class: tip\n",
    "All methods defined in the {ref}`molsysmt.basic <API basic>` module can be invoked also from the main level of the library. Hence, {func}`molsysmt.convert` is the same method as {func}`molsysmt.basic.convert`.\n",
    "```"
   ]
  },
  {
   "cell_type": "code",
   "execution_count": 5,
   "metadata": {
    "editable": true,
    "slideshow": {
     "slide_type": ""
    },
    "tags": [
     "remove-input"
    ]
   },
   "outputs": [],
   "source": [
    "####### REMOVING FILES ############################\n",
    "# This cell is removed with the tag: \"remove-input\"\n",
    "# As such, it will not be shown in documentation\n",
    "\n",
    "import os\n",
    "os.remove('181L.mmtf')"
   ]
  },
  {
   "cell_type": "markdown",
   "metadata": {},
   "source": [
    "## How to convert just a selection"
   ]
  },
  {
   "cell_type": "markdown",
   "metadata": {},
   "source": [
    "The conversion can be done over the entiry system or over a part of it. The input argument `selection` works with most of the MolSysMT methods, and {func}`molsysmt.basic.convert()` is not an exception. Lets see how a simple selection operates on a conversion: "
   ]
  },
  {
   "cell_type": "code",
   "execution_count": 6,
   "metadata": {},
   "outputs": [],
   "source": [
    "benzene = msm.convert('181L', to_form='string:pdb_text', selection='molecule_name==\"Benzene\"')"
   ]
  },
  {
   "cell_type": "code",
   "execution_count": 7,
   "metadata": {},
   "outputs": [
    {
     "name": "stdout",
     "output_type": "stream",
     "text": [
      "REMARK   1 CREATED WITH OPENMM 8.0 BY MOLSYSMT 0.7.5+64.ge8c4d6c5.dirty, 2023-06-14\n",
      "CRYST1   60.900   60.900   97.000  90.00  90.00 120.00 P 1           1 \n",
      "HETATM    1  C1  BNZ A 400      25.978   5.327   4.779  1.00  0.00           C  \n",
      "HETATM    2  C2  BNZ A 400      26.395   5.074   3.499  1.00  0.00           C  \n",
      "HETATM    3  C3  BNZ A 400      27.340   5.860   2.902  1.00  0.00           C  \n",
      "HETATM    4  C4  BNZ A 400      27.837   6.921   3.569  1.00  0.00           C  \n",
      "HETATM    5  C5  BNZ A 400      27.420   7.196   4.856  1.00  0.00           C  \n",
      "HETATM    6  C6  BNZ A 400      26.498   6.379   5.469  1.00  0.00           C  \n",
      "TER       7      BNZ A 400\n",
      "CONECT    1    2    6\n",
      "CONECT    2    1    3\n",
      "CONECT    3    2    4\n",
      "CONECT    4    3    5\n",
      "CONECT    5    4    6\n",
      "CONECT    6    1    5\n",
      "END\n",
      "\n"
     ]
    }
   ],
   "source": [
    "print(benzene)"
   ]
  },
  {
   "cell_type": "markdown",
   "metadata": {},
   "source": [
    "## How to combine multiple items into one\n",
    "\n",
    ":::{hint}\n",
    "Visit the section [User guide > Introduction > Molecular System > Items](../../intro/molecular_systems/items.md) in case you are not familiar with the concept of \"item\" in MolSysMT.\n",
    ":::"
   ]
  },
  {
   "cell_type": "markdown",
   "metadata": {},
   "source": [
    "Sometimes the molecular system comes from the combination of multiple items with different forms. For example, we can have two files with topology and coordinates to be converted into a single molecular item:"
   ]
  },
  {
   "cell_type": "code",
   "execution_count": 8,
   "metadata": {},
   "outputs": [],
   "source": [
    "from molsysmt.systems import demo"
   ]
  },
  {
   "cell_type": "code",
   "execution_count": 9,
   "metadata": {},
   "outputs": [],
   "source": [
    "prmtop_file = demo['pentalanine']['pentalanine.prmtop']\n",
    "inpcrd_file = demo['pentalanine']['pentalanine.inpcrd']"
   ]
  },
  {
   "cell_type": "code",
   "execution_count": 10,
   "metadata": {},
   "outputs": [
    {
     "data": {
      "text/html": [
       "<style type=\"text/css\">\n",
       "</style>\n",
       "<table id=\"T_752f0\">\n",
       "  <thead>\n",
       "    <tr>\n",
       "      <th id=\"T_752f0_level0_col0\" class=\"col_heading level0 col0\" >form</th>\n",
       "      <th id=\"T_752f0_level0_col1\" class=\"col_heading level0 col1\" >n_atoms</th>\n",
       "      <th id=\"T_752f0_level0_col2\" class=\"col_heading level0 col2\" >n_groups</th>\n",
       "      <th id=\"T_752f0_level0_col3\" class=\"col_heading level0 col3\" >n_components</th>\n",
       "      <th id=\"T_752f0_level0_col4\" class=\"col_heading level0 col4\" >n_chains</th>\n",
       "      <th id=\"T_752f0_level0_col5\" class=\"col_heading level0 col5\" >n_molecules</th>\n",
       "      <th id=\"T_752f0_level0_col6\" class=\"col_heading level0 col6\" >n_entities</th>\n",
       "      <th id=\"T_752f0_level0_col7\" class=\"col_heading level0 col7\" >n_waters</th>\n",
       "      <th id=\"T_752f0_level0_col8\" class=\"col_heading level0 col8\" >n_peptides</th>\n",
       "      <th id=\"T_752f0_level0_col9\" class=\"col_heading level0 col9\" >n_structures</th>\n",
       "    </tr>\n",
       "  </thead>\n",
       "  <tbody>\n",
       "    <tr>\n",
       "      <td id=\"T_752f0_row0_col0\" class=\"data row0 col0\" >file:prmtop</td>\n",
       "      <td id=\"T_752f0_row0_col1\" class=\"data row0 col1\" >5207</td>\n",
       "      <td id=\"T_752f0_row0_col2\" class=\"data row0 col2\" >1722</td>\n",
       "      <td id=\"T_752f0_row0_col3\" class=\"data row0 col3\" >1716</td>\n",
       "      <td id=\"T_752f0_row0_col4\" class=\"data row0 col4\" >1</td>\n",
       "      <td id=\"T_752f0_row0_col5\" class=\"data row0 col5\" >1716</td>\n",
       "      <td id=\"T_752f0_row0_col6\" class=\"data row0 col6\" >None</td>\n",
       "      <td id=\"T_752f0_row0_col7\" class=\"data row0 col7\" >1715</td>\n",
       "      <td id=\"T_752f0_row0_col8\" class=\"data row0 col8\" >1</td>\n",
       "      <td id=\"T_752f0_row0_col9\" class=\"data row0 col9\" >None</td>\n",
       "    </tr>\n",
       "  </tbody>\n",
       "</table>\n"
      ],
      "text/plain": [
       "<pandas.io.formats.style.Styler at 0x7f687f522fb0>"
      ]
     },
     "execution_count": 10,
     "metadata": {},
     "output_type": "execute_result"
    }
   ],
   "source": [
    "msm.info(prmtop_file)"
   ]
  },
  {
   "cell_type": "code",
   "execution_count": 11,
   "metadata": {},
   "outputs": [
    {
     "data": {
      "text/html": [
       "<style type=\"text/css\">\n",
       "</style>\n",
       "<table id=\"T_7e4df\">\n",
       "  <thead>\n",
       "    <tr>\n",
       "      <th id=\"T_7e4df_level0_col0\" class=\"col_heading level0 col0\" >form</th>\n",
       "      <th id=\"T_7e4df_level0_col1\" class=\"col_heading level0 col1\" >n_atoms</th>\n",
       "      <th id=\"T_7e4df_level0_col2\" class=\"col_heading level0 col2\" >n_groups</th>\n",
       "      <th id=\"T_7e4df_level0_col3\" class=\"col_heading level0 col3\" >n_components</th>\n",
       "      <th id=\"T_7e4df_level0_col4\" class=\"col_heading level0 col4\" >n_chains</th>\n",
       "      <th id=\"T_7e4df_level0_col5\" class=\"col_heading level0 col5\" >n_molecules</th>\n",
       "      <th id=\"T_7e4df_level0_col6\" class=\"col_heading level0 col6\" >n_entities</th>\n",
       "      <th id=\"T_7e4df_level0_col7\" class=\"col_heading level0 col7\" >n_structures</th>\n",
       "    </tr>\n",
       "  </thead>\n",
       "  <tbody>\n",
       "    <tr>\n",
       "      <td id=\"T_7e4df_row0_col0\" class=\"data row0 col0\" >file:inpcrd</td>\n",
       "      <td id=\"T_7e4df_row0_col1\" class=\"data row0 col1\" >5207</td>\n",
       "      <td id=\"T_7e4df_row0_col2\" class=\"data row0 col2\" >None</td>\n",
       "      <td id=\"T_7e4df_row0_col3\" class=\"data row0 col3\" >None</td>\n",
       "      <td id=\"T_7e4df_row0_col4\" class=\"data row0 col4\" >None</td>\n",
       "      <td id=\"T_7e4df_row0_col5\" class=\"data row0 col5\" >None</td>\n",
       "      <td id=\"T_7e4df_row0_col6\" class=\"data row0 col6\" >None</td>\n",
       "      <td id=\"T_7e4df_row0_col7\" class=\"data row0 col7\" >1</td>\n",
       "    </tr>\n",
       "  </tbody>\n",
       "</table>\n"
      ],
      "text/plain": [
       "<pandas.io.formats.style.Styler at 0x7f6874797880>"
      ]
     },
     "execution_count": 11,
     "metadata": {},
     "output_type": "execute_result"
    }
   ],
   "source": [
    "msm.info(inpcrd_file)"
   ]
  },
  {
   "cell_type": "code",
   "execution_count": 12,
   "metadata": {},
   "outputs": [],
   "source": [
    "molecular_system = msm.convert([prmtop_file, inpcrd_file], to_form='molsysmt.MolSys')"
   ]
  },
  {
   "cell_type": "code",
   "execution_count": 13,
   "metadata": {},
   "outputs": [
    {
     "data": {
      "text/html": [
       "<style type=\"text/css\">\n",
       "</style>\n",
       "<table id=\"T_935f0\">\n",
       "  <thead>\n",
       "    <tr>\n",
       "      <th id=\"T_935f0_level0_col0\" class=\"col_heading level0 col0\" >form</th>\n",
       "      <th id=\"T_935f0_level0_col1\" class=\"col_heading level0 col1\" >n_atoms</th>\n",
       "      <th id=\"T_935f0_level0_col2\" class=\"col_heading level0 col2\" >n_groups</th>\n",
       "      <th id=\"T_935f0_level0_col3\" class=\"col_heading level0 col3\" >n_components</th>\n",
       "      <th id=\"T_935f0_level0_col4\" class=\"col_heading level0 col4\" >n_chains</th>\n",
       "      <th id=\"T_935f0_level0_col5\" class=\"col_heading level0 col5\" >n_molecules</th>\n",
       "      <th id=\"T_935f0_level0_col6\" class=\"col_heading level0 col6\" >n_entities</th>\n",
       "      <th id=\"T_935f0_level0_col7\" class=\"col_heading level0 col7\" >n_waters</th>\n",
       "      <th id=\"T_935f0_level0_col8\" class=\"col_heading level0 col8\" >n_peptides</th>\n",
       "      <th id=\"T_935f0_level0_col9\" class=\"col_heading level0 col9\" >n_structures</th>\n",
       "    </tr>\n",
       "  </thead>\n",
       "  <tbody>\n",
       "    <tr>\n",
       "      <td id=\"T_935f0_row0_col0\" class=\"data row0 col0\" >molsysmt.MolSys</td>\n",
       "      <td id=\"T_935f0_row0_col1\" class=\"data row0 col1\" >5207</td>\n",
       "      <td id=\"T_935f0_row0_col2\" class=\"data row0 col2\" >1722</td>\n",
       "      <td id=\"T_935f0_row0_col3\" class=\"data row0 col3\" >1716</td>\n",
       "      <td id=\"T_935f0_row0_col4\" class=\"data row0 col4\" >1</td>\n",
       "      <td id=\"T_935f0_row0_col5\" class=\"data row0 col5\" >1716</td>\n",
       "      <td id=\"T_935f0_row0_col6\" class=\"data row0 col6\" >1</td>\n",
       "      <td id=\"T_935f0_row0_col7\" class=\"data row0 col7\" >1715</td>\n",
       "      <td id=\"T_935f0_row0_col8\" class=\"data row0 col8\" >1</td>\n",
       "      <td id=\"T_935f0_row0_col9\" class=\"data row0 col9\" >1</td>\n",
       "    </tr>\n",
       "  </tbody>\n",
       "</table>\n"
      ],
      "text/plain": [
       "<pandas.io.formats.style.Styler at 0x7f6874d84cd0>"
      ]
     },
     "execution_count": 13,
     "metadata": {},
     "output_type": "execute_result"
    }
   ],
   "source": [
    "msm.info(molecular_system)"
   ]
  },
  {
   "cell_type": "markdown",
   "metadata": {},
   "source": [
    "## How to convert an item into multiple ones\n",
    "\n",
    ":::{hint}\n",
    "Visit the section [User guide > Introduction > Molecular System > Items](../../intro/molecular_systems/items.md) in case you are not familiar with the concept of \"item\" in MolSysMT.\n",
    ":::"
   ]
  },
  {
   "cell_type": "markdown",
   "metadata": {},
   "source": [
    "The way to convert multiple items into one was illustrated in the previous section. Let's see now how to produce more than a single item with different forms just in one line:"
   ]
  },
  {
   "cell_type": "code",
   "execution_count": 14,
   "metadata": {},
   "outputs": [],
   "source": [
    "h5_file = demo['pentalanine']['traj_pentalanine.h5']"
   ]
  },
  {
   "cell_type": "code",
   "execution_count": 15,
   "metadata": {},
   "outputs": [
    {
     "ename": "UnboundLocalError",
     "evalue": "local variable 'kwargs' referenced before assignment",
     "output_type": "error",
     "traceback": [
      "\u001b[0;31m---------------------------------------------------------------------------\u001b[0m",
      "\u001b[0;31mUnboundLocalError\u001b[0m                         Traceback (most recent call last)",
      "Cell \u001b[0;32mIn[15], line 1\u001b[0m\n\u001b[0;32m----> 1\u001b[0m topology, structures \u001b[38;5;241m=\u001b[39m \u001b[43mmsm\u001b[49m\u001b[38;5;241;43m.\u001b[39;49m\u001b[43mconvert\u001b[49m\u001b[43m(\u001b[49m\u001b[43mh5_file\u001b[49m\u001b[43m,\u001b[49m\u001b[43m \u001b[49m\u001b[43mto_form\u001b[49m\u001b[38;5;241;43m=\u001b[39;49m\u001b[43m[\u001b[49m\u001b[38;5;124;43m'\u001b[39;49m\u001b[38;5;124;43mmolsysmt.Topology\u001b[39;49m\u001b[38;5;124;43m'\u001b[39;49m\u001b[43m,\u001b[49m\u001b[38;5;124;43m'\u001b[39;49m\u001b[38;5;124;43mmolsysmt.Structures\u001b[39;49m\u001b[38;5;124;43m'\u001b[39;49m\u001b[43m]\u001b[49m\u001b[43m)\u001b[49m\n",
      "File \u001b[0;32m~/projects@uibcdf/MolSysMT/molsysmt/_private/digestion/digest.py:117\u001b[0m, in \u001b[0;36mdigest.<locals>.digestor.<locals>.wrapper\u001b[0;34m(*args, **kwargs)\u001b[0m\n\u001b[1;32m    115\u001b[0m     \u001b[38;5;28;01mreturn\u001b[39;00m func(all_args[\u001b[38;5;124m'\u001b[39m\u001b[38;5;124mself\u001b[39m\u001b[38;5;124m'\u001b[39m], \u001b[38;5;241m*\u001b[39m\u001b[38;5;241m*\u001b[39mfinal_args)\n\u001b[1;32m    116\u001b[0m \u001b[38;5;28;01melse\u001b[39;00m:\n\u001b[0;32m--> 117\u001b[0m     \u001b[38;5;28;01mreturn\u001b[39;00m \u001b[43mfunc\u001b[49m\u001b[43m(\u001b[49m\u001b[38;5;241;43m*\u001b[39;49m\u001b[38;5;241;43m*\u001b[39;49m\u001b[43mfinal_args\u001b[49m\u001b[43m)\u001b[49m\n",
      "File \u001b[0;32m~/projects@uibcdf/MolSysMT/molsysmt/basic/convert.py:471\u001b[0m, in \u001b[0;36mconvert\u001b[0;34m(molecular_system, to_form, selection, structure_indices, syntax, **kwargs)\u001b[0m\n\u001b[1;32m    468\u001b[0m     output\u001b[38;5;241m=\u001b[39m[]\n\u001b[1;32m    469\u001b[0m     \u001b[38;5;28;01mfor\u001b[39;00m item_out \u001b[38;5;129;01min\u001b[39;00m to_form:\n\u001b[1;32m    470\u001b[0m         output\u001b[38;5;241m.\u001b[39mappend(\n\u001b[0;32m--> 471\u001b[0m             \u001b[43mconvert\u001b[49m\u001b[43m(\u001b[49m\u001b[43mmolecular_system\u001b[49m\u001b[43m,\u001b[49m\u001b[43m \u001b[49m\u001b[43mto_form\u001b[49m\u001b[38;5;241;43m=\u001b[39;49m\u001b[43mitem_out\u001b[49m\u001b[43m,\u001b[49m\u001b[43m \u001b[49m\u001b[43mselection\u001b[49m\u001b[38;5;241;43m=\u001b[39;49m\u001b[43mselection\u001b[49m\u001b[43m,\u001b[49m\u001b[43m \u001b[49m\u001b[43mstructure_indices\u001b[49m\u001b[38;5;241;43m=\u001b[39;49m\u001b[43mstructure_indices\u001b[49m\u001b[43m,\u001b[49m\n\u001b[1;32m    472\u001b[0m \u001b[43m                    \u001b[49m\u001b[43msyntax\u001b[49m\u001b[38;5;241;43m=\u001b[39;49m\u001b[43msyntax\u001b[49m\u001b[43m,\u001b[49m\u001b[43m \u001b[49m\u001b[43mverbose\u001b[49m\u001b[38;5;241;43m=\u001b[39;49m\u001b[43mverbose\u001b[49m\u001b[43m)\u001b[49m)\n\u001b[1;32m    473\u001b[0m     \u001b[38;5;28;01mreturn\u001b[39;00m output\n\u001b[1;32m    475\u001b[0m \u001b[38;5;66;03m# If one to one\u001b[39;00m\n",
      "File \u001b[0;32m~/projects@uibcdf/MolSysMT/molsysmt/_private/digestion/digest.py:117\u001b[0m, in \u001b[0;36mdigest.<locals>.digestor.<locals>.wrapper\u001b[0;34m(*args, **kwargs)\u001b[0m\n\u001b[1;32m    115\u001b[0m     \u001b[38;5;28;01mreturn\u001b[39;00m func(all_args[\u001b[38;5;124m'\u001b[39m\u001b[38;5;124mself\u001b[39m\u001b[38;5;124m'\u001b[39m], \u001b[38;5;241m*\u001b[39m\u001b[38;5;241m*\u001b[39mfinal_args)\n\u001b[1;32m    116\u001b[0m \u001b[38;5;28;01melse\u001b[39;00m:\n\u001b[0;32m--> 117\u001b[0m     \u001b[38;5;28;01mreturn\u001b[39;00m \u001b[43mfunc\u001b[49m\u001b[43m(\u001b[49m\u001b[38;5;241;43m*\u001b[39;49m\u001b[38;5;241;43m*\u001b[39;49m\u001b[43mfinal_args\u001b[49m\u001b[43m)\u001b[49m\n",
      "File \u001b[0;32m~/projects@uibcdf/MolSysMT/molsysmt/basic/convert.py:480\u001b[0m, in \u001b[0;36mconvert\u001b[0;34m(***failed resolving arguments***)\u001b[0m\n\u001b[1;32m    475\u001b[0m \u001b[38;5;66;03m# If one to one\u001b[39;00m\n\u001b[1;32m    477\u001b[0m \u001b[38;5;28;01mif\u001b[39;00m \u001b[38;5;129;01mnot\u001b[39;00m \u001b[38;5;28misinstance\u001b[39m(from_form, (\u001b[38;5;28mlist\u001b[39m, \u001b[38;5;28mtuple\u001b[39m)):\n\u001b[1;32m    479\u001b[0m     output \u001b[38;5;241m=\u001b[39m _convert_one_to_one(molecular_system, to_form\u001b[38;5;241m=\u001b[39mto_form, selection\u001b[38;5;241m=\u001b[39mselection, structure_indices\u001b[38;5;241m=\u001b[39mstructure_indices,\n\u001b[0;32m--> 480\u001b[0m             syntax\u001b[38;5;241m=\u001b[39msyntax, verbose\u001b[38;5;241m=\u001b[39mverbose, \u001b[38;5;241m*\u001b[39m\u001b[38;5;241m*\u001b[39m\u001b[43mkwargs\u001b[49m)\n\u001b[1;32m    483\u001b[0m \u001b[38;5;66;03m# If multiple to one\u001b[39;00m\n\u001b[1;32m    484\u001b[0m \n\u001b[1;32m    485\u001b[0m \u001b[38;5;28;01melse\u001b[39;00m:\n\u001b[1;32m    486\u001b[0m \n\u001b[1;32m    487\u001b[0m     \u001b[38;5;66;03m# conversions in private shortcuts\u001b[39;00m\n\u001b[1;32m    488\u001b[0m     \u001b[38;5;28;01mif\u001b[39;00m \u001b[38;5;28mtuple\u001b[39m(\u001b[38;5;28msorted\u001b[39m(from_form)) \u001b[38;5;129;01min\u001b[39;00m _multiple_conversion_shortcuts:\n",
      "\u001b[0;31mUnboundLocalError\u001b[0m: local variable 'kwargs' referenced before assignment"
     ]
    }
   ],
   "source": [
    "topology, structures = msm.convert(h5_file, to_form=['molsysmt.Topology','molsysmt.Structures'])"
   ]
  },
  {
   "cell_type": "code",
   "execution_count": 16,
   "metadata": {},
   "outputs": [
    {
     "ename": "NameError",
     "evalue": "name 'topology' is not defined",
     "output_type": "error",
     "traceback": [
      "\u001b[0;31m---------------------------------------------------------------------------\u001b[0m",
      "\u001b[0;31mNameError\u001b[0m                                 Traceback (most recent call last)",
      "Cell \u001b[0;32mIn[16], line 1\u001b[0m\n\u001b[0;32m----> 1\u001b[0m msm\u001b[38;5;241m.\u001b[39minfo(\u001b[43mtopology\u001b[49m)\n",
      "\u001b[0;31mNameError\u001b[0m: name 'topology' is not defined"
     ]
    }
   ],
   "source": [
    "msm.info(topology)"
   ]
  },
  {
   "cell_type": "code",
   "execution_count": null,
   "metadata": {},
   "outputs": [],
   "source": [
    "msm.info(structures)"
   ]
  },
  {
   "cell_type": "code",
   "execution_count": null,
   "metadata": {},
   "outputs": [],
   "source": [
    "msm.info([topology, structures])"
   ]
  },
  {
   "cell_type": "markdown",
   "metadata": {},
   "source": [
    "Lets now visualize the combination of both forms to double check that they were properly converted:"
   ]
  },
  {
   "cell_type": "code",
   "execution_count": null,
   "metadata": {
    "tags": [
     "remove-input"
    ]
   },
   "outputs": [],
   "source": [
    "# This cell is removed with the tag: \"remove-input\"\n",
    "# As such, it will not be shown in documentation\n",
    "\n",
    "nglview_htmlfile = '../../../../_static/nglview/pentalanine.html'"
   ]
  },
  {
   "cell_type": "code",
   "execution_count": null,
   "metadata": {},
   "outputs": [],
   "source": [
    "view = msm.view([topology, structures], structure_indices=3500, standard=True, viewer='NGLView')\n",
    "view"
   ]
  },
  {
   "cell_type": "code",
   "execution_count": null,
   "metadata": {
    "editable": true,
    "slideshow": {
     "slide_type": ""
    },
    "tags": [
     "remove-input"
    ]
   },
   "outputs": [],
   "source": [
    "# This cell is removed with the tag: \"remove-input\"\n",
    "# As such, it will not be shown in documentation\n",
    "\n",
    "if False:\n",
    "    # to write an html the view had to be displayed in a cell before\n",
    "    msm.thirds.nglview.write_html(view, nglview_htmlfile)"
   ]
  },
  {
   "cell_type": "markdown",
   "metadata": {},
   "source": [
    "## Supported conversions"
   ]
  },
  {
   "cell_type": "code",
   "execution_count": null,
   "metadata": {},
   "outputs": [],
   "source": [
    "msm.supported.conversions(from_form='mdtraj.Trajectory', to_form_type='string')"
   ]
  },
  {
   "cell_type": "code",
   "execution_count": null,
   "metadata": {},
   "outputs": [],
   "source": [
    "msm.supported.conversions(from_form='mdtraj.Trajectory', to_form_type='file', as_rows='to')"
   ]
  },
  {
   "cell_type": "code",
   "execution_count": null,
   "metadata": {},
   "outputs": [],
   "source": [
    "from_list=['pytraj.Trajectory','MDAnalysis.Universe']\n",
    "to_list=['mdtraj.Trajectory', 'openmm.Topology']\n",
    "msm.supported.conversions(from_form=from_list, to_form=to_list, as_rows='from')"
   ]
  },
  {
   "cell_type": "markdown",
   "metadata": {},
   "source": [
    ":::{seealso}\n",
    "[User guide > Introduction > Molecular System > Items](../../intro/molecular_systems/items.md):    \n",
    "[User guide > Introduction > Molecular System > Forms](../../intro/molecular_systems/forms.md):    \n",
    "[User guide > Introduction > Supported](../../intro/supported.md):    \n",
    "[User guide > Introduction > Demo systems](../../intro/demo_systems.ipynb):\n",
    "[User guide > Tools > Basic > Selection](selection.ipynb): Printing out summary information of a molecular system.    \n",
    "[User guide > Tools > Basic > Info](info.ipynb): Printing out summary information of a molecular system.    \n",
    "[User guide > Tools > Basic > View](view.ipynb): Showing a molecular system.    \n",
    ":::"
   ]
  }
 ],
 "metadata": {
  "kernelspec": {
   "display_name": "Python 3 (ipykernel)",
   "language": "python",
   "name": "python3"
  },
  "language_info": {
   "codemirror_mode": {
    "name": "ipython",
    "version": 3
   },
   "file_extension": ".py",
   "mimetype": "text/x-python",
   "name": "python",
   "nbconvert_exporter": "python",
   "pygments_lexer": "ipython3",
   "version": "3.10.11"
  }
 },
 "nbformat": 4,
 "nbformat_minor": 4
}
