{
 "cells": [
  {
   "cell_type": "code",
   "execution_count": 1,
   "metadata": {
    "tags": [
     "remove-input"
    ]
   },
   "outputs": [],
   "source": [
    "# This cell is removed with the tag: \"remove-input\"\n",
    "# As such, it will not be shown in documentation\n",
    "\n",
    "import warnings\n",
    "warnings.filterwarnings('ignore')\n",
    "\n",
    "nglview_static_dir = '../../../../_static/nglview/user/tools/basic/convert/'\n"
   ]
  },
  {
   "cell_type": "markdown",
   "metadata": {},
   "source": [
    "(UserGuide_Tools_Basic_Convert)=\n",
    "# Convert\n",
    "\n",
    "*Converting a molecular system into other form*\n",
    "\n",
    "In the context of MolSysMT, a molecular system can have different 'forms'. There by, there should be a function in this library to convert a system from a form into other form. This function is {func}`molsysmt.basic.convert`. \n",
    "\n",
    "## From form to form\n",
    "\n",
    "Before talking a bit on how {func}`molsysmt.basic.convert` can be used in the following section, let's see it in action:"
   ]
  },
  {
   "cell_type": "code",
   "execution_count": 2,
   "metadata": {},
   "outputs": [
    {
     "data": {
      "application/vnd.jupyter.widget-view+json": {
       "model_id": "d1f99b5dbcd74a29b3d9c586039f26ec",
       "version_major": 2,
       "version_minor": 0
      },
      "text/plain": []
     },
     "metadata": {},
     "output_type": "display_data"
    }
   ],
   "source": [
    "import molsysmt as msm"
   ]
  },
  {
   "cell_type": "code",
   "execution_count": 3,
   "metadata": {},
   "outputs": [],
   "source": [
    "molecular_system_A = '181L'\n",
    "molecular_system_B = msm.convert(molecular_system_A, to_form='181L.mmtf')\n",
    "molecular_system_C = msm.convert(molecular_system_B, to_form='string:pdb_text')\n",
    "molecular_system_D = msm.convert(molecular_system_C, to_form='mdtraj.Trajectory')\n",
    "molecular_system_E = msm.convert(molecular_system_D, to_form='nglview.NGLWidget')\n",
    "molecular_system_F = msm.convert(molecular_system_E, to_form='openmm.Topology')\n",
    "molecular_system_G = msm.convert(molecular_system_F, to_form='string:aminoacids3')"
   ]
  },
  {
   "cell_type": "markdown",
   "metadata": {},
   "source": [
    "The molecular system was converted from the form `string:pdb_id` to `string:aminoacids3` passing through some intermediate forms: `string:pdb_id` $\\rightarrow$ `string:pdb_text` $\\rightarrow$ `mdtraj.Trajectory` $\\rightarrow$ `nglview.NGLWidget` $\\rightarrow$ `openmm.Topology` $\\rightarrow$ `string:aminoacids3`. We can have a look to each form with the help of {func}`molsysmt.basic.info`:"
   ]
  },
  {
   "cell_type": "code",
   "execution_count": 4,
   "metadata": {
    "tags": [
     "scroll-output"
    ]
   },
   "outputs": [
    {
     "data": {
      "text/html": [
       "<style type=\"text/css\">\n",
       "</style>\n",
       "<table id=\"T_31d3f\">\n",
       "  <thead>\n",
       "    <tr>\n",
       "      <th id=\"T_31d3f_level0_col0\" class=\"col_heading level0 col0\" >form</th>\n",
       "      <th id=\"T_31d3f_level0_col1\" class=\"col_heading level0 col1\" >n_atoms</th>\n",
       "      <th id=\"T_31d3f_level0_col2\" class=\"col_heading level0 col2\" >n_groups</th>\n",
       "      <th id=\"T_31d3f_level0_col3\" class=\"col_heading level0 col3\" >n_components</th>\n",
       "      <th id=\"T_31d3f_level0_col4\" class=\"col_heading level0 col4\" >n_chains</th>\n",
       "      <th id=\"T_31d3f_level0_col5\" class=\"col_heading level0 col5\" >n_molecules</th>\n",
       "      <th id=\"T_31d3f_level0_col6\" class=\"col_heading level0 col6\" >n_entities</th>\n",
       "      <th id=\"T_31d3f_level0_col7\" class=\"col_heading level0 col7\" >n_waters</th>\n",
       "      <th id=\"T_31d3f_level0_col8\" class=\"col_heading level0 col8\" >n_ions</th>\n",
       "      <th id=\"T_31d3f_level0_col9\" class=\"col_heading level0 col9\" >n_small_molecules</th>\n",
       "      <th id=\"T_31d3f_level0_col10\" class=\"col_heading level0 col10\" >n_proteins</th>\n",
       "      <th id=\"T_31d3f_level0_col11\" class=\"col_heading level0 col11\" >n_structures</th>\n",
       "    </tr>\n",
       "  </thead>\n",
       "  <tbody>\n",
       "    <tr>\n",
       "      <td id=\"T_31d3f_row0_col0\" class=\"data row0 col0\" >nglview.NGLWidget</td>\n",
       "      <td id=\"T_31d3f_row0_col1\" class=\"data row0 col1\" >1441</td>\n",
       "      <td id=\"T_31d3f_row0_col2\" class=\"data row0 col2\" >302</td>\n",
       "      <td id=\"T_31d3f_row0_col3\" class=\"data row0 col3\" >141</td>\n",
       "      <td id=\"T_31d3f_row0_col4\" class=\"data row0 col4\" >6</td>\n",
       "      <td id=\"T_31d3f_row0_col5\" class=\"data row0 col5\" >141</td>\n",
       "      <td id=\"T_31d3f_row0_col6\" class=\"data row0 col6\" >5</td>\n",
       "      <td id=\"T_31d3f_row0_col7\" class=\"data row0 col7\" >136</td>\n",
       "      <td id=\"T_31d3f_row0_col8\" class=\"data row0 col8\" >2</td>\n",
       "      <td id=\"T_31d3f_row0_col9\" class=\"data row0 col9\" >2</td>\n",
       "      <td id=\"T_31d3f_row0_col10\" class=\"data row0 col10\" >1</td>\n",
       "      <td id=\"T_31d3f_row0_col11\" class=\"data row0 col11\" >1</td>\n",
       "    </tr>\n",
       "  </tbody>\n",
       "</table>\n"
      ],
      "text/plain": [
       "<pandas.io.formats.style.Styler at 0x7f55538b3940>"
      ]
     },
     "execution_count": 4,
     "metadata": {},
     "output_type": "execute_result"
    }
   ],
   "source": [
    "msm.info(molecular_system_E)"
   ]
  },
  {
   "cell_type": "markdown",
   "metadata": {},
   "source": [
    "```{admonition} Tip\n",
    ":class: tip\n",
    "All methods defined in the {ref}`molsysmt.basic <API basic>` module can be invoked also from the main level of the library. Hence, {func}`molsysmt.convert` is the same method as {func}`molsysmt.basic.convert`.\n",
    "```"
   ]
  },
  {
   "cell_type": "markdown",
   "metadata": {},
   "source": [
    "## How to convert just a selection"
   ]
  },
  {
   "cell_type": "markdown",
   "metadata": {},
   "source": [
    "The conversion can be done over the entiry system or over a part of it. The input argument `selection` works with most of the MolSysMT methods, and {func}`molsysmt.basic.convert()` is not an exception. Lets see how a simple selection operates on a conversion: "
   ]
  },
  {
   "cell_type": "code",
   "execution_count": 5,
   "metadata": {},
   "outputs": [],
   "source": [
    "benzene = msm.convert('181L', to_form='string:pdb_text', selection='molecule_name==\"Benzene\"')"
   ]
  },
  {
   "cell_type": "code",
   "execution_count": 6,
   "metadata": {},
   "outputs": [
    {
     "name": "stdout",
     "output_type": "stream",
     "text": [
      "REMARK   1 CREATED WITH OPENMM 7.7 BY MOLSYSMT 0.7.3+33.g8d5973ef.dirty, 2023-03-21\n",
      "CRYST1   60.900   60.900   97.000  90.00  90.00 120.00 P 1           1 \n",
      "HETATM    1  C1  BNZ A 400      25.978   5.327   4.779  1.00  0.00           C  \n",
      "HETATM    2  C2  BNZ A 400      26.395   5.074   3.499  1.00  0.00           C  \n",
      "HETATM    3  C3  BNZ A 400      27.340   5.860   2.902  1.00  0.00           C  \n",
      "HETATM    4  C4  BNZ A 400      27.837   6.921   3.569  1.00  0.00           C  \n",
      "HETATM    5  C5  BNZ A 400      27.420   7.196   4.856  1.00  0.00           C  \n",
      "HETATM    6  C6  BNZ A 400      26.498   6.379   5.469  1.00  0.00           C  \n",
      "TER       7      BNZ A 400\n",
      "CONECT    1    2    6\n",
      "CONECT    2    1    3\n",
      "CONECT    3    2    4\n",
      "CONECT    4    3    5\n",
      "CONECT    5    4    6\n",
      "CONECT    6    1    5\n",
      "END\n",
      "\n"
     ]
    }
   ],
   "source": [
    "print(benzene)"
   ]
  },
  {
   "cell_type": "markdown",
   "metadata": {},
   "source": [
    "## How to combine multiple forms into one"
   ]
  },
  {
   "cell_type": "markdown",
   "metadata": {},
   "source": [
    "Sometimes the molecular system comes from the combination of more than a form. For example, we can have two files with topology and coordinates to be converted into a single molecular form:"
   ]
  },
  {
   "cell_type": "code",
   "execution_count": 7,
   "metadata": {},
   "outputs": [],
   "source": [
    "prmtop_file = msm.demo['pentalanine']['pentalanine.prmtop']\n",
    "inpcrd_file = msm.demo['pentalanine']['pentalanine.inpcrd']"
   ]
  },
  {
   "cell_type": "code",
   "execution_count": 8,
   "metadata": {},
   "outputs": [
    {
     "data": {
      "text/html": [
       "<style type=\"text/css\">\n",
       "</style>\n",
       "<table id=\"T_ff02f\">\n",
       "  <thead>\n",
       "    <tr>\n",
       "      <th id=\"T_ff02f_level0_col0\" class=\"col_heading level0 col0\" >form</th>\n",
       "      <th id=\"T_ff02f_level0_col1\" class=\"col_heading level0 col1\" >n_atoms</th>\n",
       "      <th id=\"T_ff02f_level0_col2\" class=\"col_heading level0 col2\" >n_groups</th>\n",
       "      <th id=\"T_ff02f_level0_col3\" class=\"col_heading level0 col3\" >n_components</th>\n",
       "      <th id=\"T_ff02f_level0_col4\" class=\"col_heading level0 col4\" >n_chains</th>\n",
       "      <th id=\"T_ff02f_level0_col5\" class=\"col_heading level0 col5\" >n_molecules</th>\n",
       "      <th id=\"T_ff02f_level0_col6\" class=\"col_heading level0 col6\" >n_entities</th>\n",
       "      <th id=\"T_ff02f_level0_col7\" class=\"col_heading level0 col7\" >n_waters</th>\n",
       "      <th id=\"T_ff02f_level0_col8\" class=\"col_heading level0 col8\" >n_peptides</th>\n",
       "      <th id=\"T_ff02f_level0_col9\" class=\"col_heading level0 col9\" >n_structures</th>\n",
       "    </tr>\n",
       "  </thead>\n",
       "  <tbody>\n",
       "    <tr>\n",
       "      <td id=\"T_ff02f_row0_col0\" class=\"data row0 col0\" >file:prmtop</td>\n",
       "      <td id=\"T_ff02f_row0_col1\" class=\"data row0 col1\" >5207</td>\n",
       "      <td id=\"T_ff02f_row0_col2\" class=\"data row0 col2\" >1722</td>\n",
       "      <td id=\"T_ff02f_row0_col3\" class=\"data row0 col3\" >1716</td>\n",
       "      <td id=\"T_ff02f_row0_col4\" class=\"data row0 col4\" >1</td>\n",
       "      <td id=\"T_ff02f_row0_col5\" class=\"data row0 col5\" >1716</td>\n",
       "      <td id=\"T_ff02f_row0_col6\" class=\"data row0 col6\" >None</td>\n",
       "      <td id=\"T_ff02f_row0_col7\" class=\"data row0 col7\" >1715</td>\n",
       "      <td id=\"T_ff02f_row0_col8\" class=\"data row0 col8\" >1</td>\n",
       "      <td id=\"T_ff02f_row0_col9\" class=\"data row0 col9\" >None</td>\n",
       "    </tr>\n",
       "  </tbody>\n",
       "</table>\n"
      ],
      "text/plain": [
       "<pandas.io.formats.style.Styler at 0x7f55560b9490>"
      ]
     },
     "execution_count": 8,
     "metadata": {},
     "output_type": "execute_result"
    }
   ],
   "source": [
    "msm.info(prmtop_file)"
   ]
  },
  {
   "cell_type": "code",
   "execution_count": 9,
   "metadata": {},
   "outputs": [
    {
     "data": {
      "text/html": [
       "<style type=\"text/css\">\n",
       "</style>\n",
       "<table id=\"T_86837\">\n",
       "  <thead>\n",
       "    <tr>\n",
       "      <th id=\"T_86837_level0_col0\" class=\"col_heading level0 col0\" >form</th>\n",
       "      <th id=\"T_86837_level0_col1\" class=\"col_heading level0 col1\" >n_atoms</th>\n",
       "      <th id=\"T_86837_level0_col2\" class=\"col_heading level0 col2\" >n_groups</th>\n",
       "      <th id=\"T_86837_level0_col3\" class=\"col_heading level0 col3\" >n_components</th>\n",
       "      <th id=\"T_86837_level0_col4\" class=\"col_heading level0 col4\" >n_chains</th>\n",
       "      <th id=\"T_86837_level0_col5\" class=\"col_heading level0 col5\" >n_molecules</th>\n",
       "      <th id=\"T_86837_level0_col6\" class=\"col_heading level0 col6\" >n_entities</th>\n",
       "      <th id=\"T_86837_level0_col7\" class=\"col_heading level0 col7\" >n_structures</th>\n",
       "    </tr>\n",
       "  </thead>\n",
       "  <tbody>\n",
       "    <tr>\n",
       "      <td id=\"T_86837_row0_col0\" class=\"data row0 col0\" >file:inpcrd</td>\n",
       "      <td id=\"T_86837_row0_col1\" class=\"data row0 col1\" >5207</td>\n",
       "      <td id=\"T_86837_row0_col2\" class=\"data row0 col2\" >None</td>\n",
       "      <td id=\"T_86837_row0_col3\" class=\"data row0 col3\" >None</td>\n",
       "      <td id=\"T_86837_row0_col4\" class=\"data row0 col4\" >None</td>\n",
       "      <td id=\"T_86837_row0_col5\" class=\"data row0 col5\" >None</td>\n",
       "      <td id=\"T_86837_row0_col6\" class=\"data row0 col6\" >None</td>\n",
       "      <td id=\"T_86837_row0_col7\" class=\"data row0 col7\" >1</td>\n",
       "    </tr>\n",
       "  </tbody>\n",
       "</table>\n"
      ],
      "text/plain": [
       "<pandas.io.formats.style.Styler at 0x7f5552b78640>"
      ]
     },
     "execution_count": 9,
     "metadata": {},
     "output_type": "execute_result"
    }
   ],
   "source": [
    "msm.info(inpcrd_file)"
   ]
  },
  {
   "cell_type": "code",
   "execution_count": 10,
   "metadata": {},
   "outputs": [],
   "source": [
    "molecular_system = msm.convert([prmtop_file, inpcrd_file], to_form='molsysmt.MolSys')"
   ]
  },
  {
   "cell_type": "code",
   "execution_count": 11,
   "metadata": {},
   "outputs": [
    {
     "data": {
      "text/html": [
       "<style type=\"text/css\">\n",
       "</style>\n",
       "<table id=\"T_4ec0c\">\n",
       "  <thead>\n",
       "    <tr>\n",
       "      <th id=\"T_4ec0c_level0_col0\" class=\"col_heading level0 col0\" >form</th>\n",
       "      <th id=\"T_4ec0c_level0_col1\" class=\"col_heading level0 col1\" >n_atoms</th>\n",
       "      <th id=\"T_4ec0c_level0_col2\" class=\"col_heading level0 col2\" >n_groups</th>\n",
       "      <th id=\"T_4ec0c_level0_col3\" class=\"col_heading level0 col3\" >n_components</th>\n",
       "      <th id=\"T_4ec0c_level0_col4\" class=\"col_heading level0 col4\" >n_chains</th>\n",
       "      <th id=\"T_4ec0c_level0_col5\" class=\"col_heading level0 col5\" >n_molecules</th>\n",
       "      <th id=\"T_4ec0c_level0_col6\" class=\"col_heading level0 col6\" >n_entities</th>\n",
       "      <th id=\"T_4ec0c_level0_col7\" class=\"col_heading level0 col7\" >n_waters</th>\n",
       "      <th id=\"T_4ec0c_level0_col8\" class=\"col_heading level0 col8\" >n_peptides</th>\n",
       "      <th id=\"T_4ec0c_level0_col9\" class=\"col_heading level0 col9\" >n_structures</th>\n",
       "    </tr>\n",
       "  </thead>\n",
       "  <tbody>\n",
       "    <tr>\n",
       "      <td id=\"T_4ec0c_row0_col0\" class=\"data row0 col0\" >molsysmt.MolSys</td>\n",
       "      <td id=\"T_4ec0c_row0_col1\" class=\"data row0 col1\" >5207</td>\n",
       "      <td id=\"T_4ec0c_row0_col2\" class=\"data row0 col2\" >1722</td>\n",
       "      <td id=\"T_4ec0c_row0_col3\" class=\"data row0 col3\" >1716</td>\n",
       "      <td id=\"T_4ec0c_row0_col4\" class=\"data row0 col4\" >1</td>\n",
       "      <td id=\"T_4ec0c_row0_col5\" class=\"data row0 col5\" >1716</td>\n",
       "      <td id=\"T_4ec0c_row0_col6\" class=\"data row0 col6\" >2</td>\n",
       "      <td id=\"T_4ec0c_row0_col7\" class=\"data row0 col7\" >1715</td>\n",
       "      <td id=\"T_4ec0c_row0_col8\" class=\"data row0 col8\" >1</td>\n",
       "      <td id=\"T_4ec0c_row0_col9\" class=\"data row0 col9\" >1</td>\n",
       "    </tr>\n",
       "  </tbody>\n",
       "</table>\n"
      ],
      "text/plain": [
       "<pandas.io.formats.style.Styler at 0x7f5552b78280>"
      ]
     },
     "execution_count": 11,
     "metadata": {},
     "output_type": "execute_result"
    }
   ],
   "source": [
    "msm.info(molecular_system)"
   ]
  },
  {
   "cell_type": "markdown",
   "metadata": {},
   "source": [
    "## How to convert a form into multiple ones at once"
   ]
  },
  {
   "cell_type": "markdown",
   "metadata": {},
   "source": [
    "The way to convert multiple forms into one was illustrated in the previous section. Let's see now how to produce more than a single output form in just a line:"
   ]
  },
  {
   "cell_type": "code",
   "execution_count": 12,
   "metadata": {},
   "outputs": [],
   "source": [
    "h5_file = msm.demo['pentalanine']['traj.h5']\n",
    "topology, structures = msm.convert(h5_file, to_form=['molsysmt.Topology','molsysmt.Structures'])"
   ]
  },
  {
   "cell_type": "code",
   "execution_count": 13,
   "metadata": {},
   "outputs": [
    {
     "data": {
      "text/html": [
       "<style type=\"text/css\">\n",
       "</style>\n",
       "<table id=\"T_f52b7\">\n",
       "  <thead>\n",
       "    <tr>\n",
       "      <th id=\"T_f52b7_level0_col0\" class=\"col_heading level0 col0\" >form</th>\n",
       "      <th id=\"T_f52b7_level0_col1\" class=\"col_heading level0 col1\" >n_atoms</th>\n",
       "      <th id=\"T_f52b7_level0_col2\" class=\"col_heading level0 col2\" >n_groups</th>\n",
       "      <th id=\"T_f52b7_level0_col3\" class=\"col_heading level0 col3\" >n_components</th>\n",
       "      <th id=\"T_f52b7_level0_col4\" class=\"col_heading level0 col4\" >n_chains</th>\n",
       "      <th id=\"T_f52b7_level0_col5\" class=\"col_heading level0 col5\" >n_molecules</th>\n",
       "      <th id=\"T_f52b7_level0_col6\" class=\"col_heading level0 col6\" >n_entities</th>\n",
       "      <th id=\"T_f52b7_level0_col7\" class=\"col_heading level0 col7\" >n_peptides</th>\n",
       "      <th id=\"T_f52b7_level0_col8\" class=\"col_heading level0 col8\" >n_structures</th>\n",
       "    </tr>\n",
       "  </thead>\n",
       "  <tbody>\n",
       "    <tr>\n",
       "      <td id=\"T_f52b7_row0_col0\" class=\"data row0 col0\" >molsysmt.Topology</td>\n",
       "      <td id=\"T_f52b7_row0_col1\" class=\"data row0 col1\" >62</td>\n",
       "      <td id=\"T_f52b7_row0_col2\" class=\"data row0 col2\" >7</td>\n",
       "      <td id=\"T_f52b7_row0_col3\" class=\"data row0 col3\" >1</td>\n",
       "      <td id=\"T_f52b7_row0_col4\" class=\"data row0 col4\" >1</td>\n",
       "      <td id=\"T_f52b7_row0_col5\" class=\"data row0 col5\" >1</td>\n",
       "      <td id=\"T_f52b7_row0_col6\" class=\"data row0 col6\" >1</td>\n",
       "      <td id=\"T_f52b7_row0_col7\" class=\"data row0 col7\" >1</td>\n",
       "      <td id=\"T_f52b7_row0_col8\" class=\"data row0 col8\" >None</td>\n",
       "    </tr>\n",
       "  </tbody>\n",
       "</table>\n"
      ],
      "text/plain": [
       "<pandas.io.formats.style.Styler at 0x7f55530e9a00>"
      ]
     },
     "execution_count": 13,
     "metadata": {},
     "output_type": "execute_result"
    }
   ],
   "source": [
    "msm.info(topology)"
   ]
  },
  {
   "cell_type": "code",
   "execution_count": 14,
   "metadata": {},
   "outputs": [
    {
     "data": {
      "text/html": [
       "<style type=\"text/css\">\n",
       "</style>\n",
       "<table id=\"T_04e3a\">\n",
       "  <thead>\n",
       "    <tr>\n",
       "      <th id=\"T_04e3a_level0_col0\" class=\"col_heading level0 col0\" >form</th>\n",
       "      <th id=\"T_04e3a_level0_col1\" class=\"col_heading level0 col1\" >n_atoms</th>\n",
       "      <th id=\"T_04e3a_level0_col2\" class=\"col_heading level0 col2\" >n_groups</th>\n",
       "      <th id=\"T_04e3a_level0_col3\" class=\"col_heading level0 col3\" >n_components</th>\n",
       "      <th id=\"T_04e3a_level0_col4\" class=\"col_heading level0 col4\" >n_chains</th>\n",
       "      <th id=\"T_04e3a_level0_col5\" class=\"col_heading level0 col5\" >n_molecules</th>\n",
       "      <th id=\"T_04e3a_level0_col6\" class=\"col_heading level0 col6\" >n_entities</th>\n",
       "      <th id=\"T_04e3a_level0_col7\" class=\"col_heading level0 col7\" >n_structures</th>\n",
       "    </tr>\n",
       "  </thead>\n",
       "  <tbody>\n",
       "    <tr>\n",
       "      <td id=\"T_04e3a_row0_col0\" class=\"data row0 col0\" >molsysmt.Structures</td>\n",
       "      <td id=\"T_04e3a_row0_col1\" class=\"data row0 col1\" >62</td>\n",
       "      <td id=\"T_04e3a_row0_col2\" class=\"data row0 col2\" >None</td>\n",
       "      <td id=\"T_04e3a_row0_col3\" class=\"data row0 col3\" >None</td>\n",
       "      <td id=\"T_04e3a_row0_col4\" class=\"data row0 col4\" >None</td>\n",
       "      <td id=\"T_04e3a_row0_col5\" class=\"data row0 col5\" >None</td>\n",
       "      <td id=\"T_04e3a_row0_col6\" class=\"data row0 col6\" >None</td>\n",
       "      <td id=\"T_04e3a_row0_col7\" class=\"data row0 col7\" >5000</td>\n",
       "    </tr>\n",
       "  </tbody>\n",
       "</table>\n"
      ],
      "text/plain": [
       "<pandas.io.formats.style.Styler at 0x7f55530de490>"
      ]
     },
     "execution_count": 14,
     "metadata": {},
     "output_type": "execute_result"
    }
   ],
   "source": [
    "msm.info(structures)"
   ]
  },
  {
   "cell_type": "code",
   "execution_count": 15,
   "metadata": {},
   "outputs": [
    {
     "data": {
      "text/html": [
       "<style type=\"text/css\">\n",
       "</style>\n",
       "<table id=\"T_9444c\">\n",
       "  <thead>\n",
       "    <tr>\n",
       "      <th id=\"T_9444c_level0_col0\" class=\"col_heading level0 col0\" >form</th>\n",
       "      <th id=\"T_9444c_level0_col1\" class=\"col_heading level0 col1\" >n_atoms</th>\n",
       "      <th id=\"T_9444c_level0_col2\" class=\"col_heading level0 col2\" >n_groups</th>\n",
       "      <th id=\"T_9444c_level0_col3\" class=\"col_heading level0 col3\" >n_components</th>\n",
       "      <th id=\"T_9444c_level0_col4\" class=\"col_heading level0 col4\" >n_chains</th>\n",
       "      <th id=\"T_9444c_level0_col5\" class=\"col_heading level0 col5\" >n_molecules</th>\n",
       "      <th id=\"T_9444c_level0_col6\" class=\"col_heading level0 col6\" >n_entities</th>\n",
       "      <th id=\"T_9444c_level0_col7\" class=\"col_heading level0 col7\" >n_peptides</th>\n",
       "      <th id=\"T_9444c_level0_col8\" class=\"col_heading level0 col8\" >n_structures</th>\n",
       "    </tr>\n",
       "  </thead>\n",
       "  <tbody>\n",
       "    <tr>\n",
       "      <td id=\"T_9444c_row0_col0\" class=\"data row0 col0\" >['molsysmt.Topology', 'molsysmt.Structures']</td>\n",
       "      <td id=\"T_9444c_row0_col1\" class=\"data row0 col1\" >62</td>\n",
       "      <td id=\"T_9444c_row0_col2\" class=\"data row0 col2\" >7</td>\n",
       "      <td id=\"T_9444c_row0_col3\" class=\"data row0 col3\" >1</td>\n",
       "      <td id=\"T_9444c_row0_col4\" class=\"data row0 col4\" >1</td>\n",
       "      <td id=\"T_9444c_row0_col5\" class=\"data row0 col5\" >1</td>\n",
       "      <td id=\"T_9444c_row0_col6\" class=\"data row0 col6\" >1</td>\n",
       "      <td id=\"T_9444c_row0_col7\" class=\"data row0 col7\" >1</td>\n",
       "      <td id=\"T_9444c_row0_col8\" class=\"data row0 col8\" >5000</td>\n",
       "    </tr>\n",
       "  </tbody>\n",
       "</table>\n"
      ],
      "text/plain": [
       "<pandas.io.formats.style.Styler at 0x7f55530e9340>"
      ]
     },
     "execution_count": 15,
     "metadata": {},
     "output_type": "execute_result"
    }
   ],
   "source": [
    "msm.info([topology, structures])"
   ]
  },
  {
   "cell_type": "markdown",
   "metadata": {},
   "source": [
    "Lets now visualize the combination of both forms to double check that they were properly converted:"
   ]
  },
  {
   "cell_type": "code",
   "execution_count": 16,
   "metadata": {
    "tags": [
     "remove-input"
    ]
   },
   "outputs": [],
   "source": [
    "# This cell is removed with the tag: \"remove-input\"\n",
    "# As such, it will not be shown in documentation\n",
    "\n",
    "nglview_htmlfile = nglview_static_dir+'pentalanine.html'"
   ]
  },
  {
   "cell_type": "code",
   "execution_count": 17,
   "metadata": {},
   "outputs": [
    {
     "data": {
      "application/vnd.jupyter.widget-view+json": {
       "model_id": "85f48ba7b3fa4e57a6997c99a535dce3",
       "version_major": 2,
       "version_minor": 0
      },
      "text/plain": [
       "NGLWidget()"
      ]
     },
     "metadata": {},
     "output_type": "display_data"
    }
   ],
   "source": [
    "msm.view([topology, structures], structure_indices=3500, standard=True, viewer='NGLView')"
   ]
  },
  {
   "cell_type": "code",
   "execution_count": null,
   "metadata": {},
   "outputs": [],
   "source": []
  },
  {
   "cell_type": "markdown",
   "metadata": {},
   "source": [
    "## Conversions implemented in MolSysMT"
   ]
  },
  {
   "cell_type": "code",
   "execution_count": 18,
   "metadata": {},
   "outputs": [
    {
     "data": {
      "text/html": [
       "<style type=\"text/css\">\n",
       "#T_f5d8e_row0_col0, #T_f5d8e_row0_col1 {\n",
       "  background-color: #C2CFB2;\n",
       "  text-align: center;\n",
       "}\n",
       "#T_f5d8e_row0_col2, #T_f5d8e_row0_col3 {\n",
       "  background-color: #E2856E;\n",
       "  text-align: center;\n",
       "}\n",
       "</style>\n",
       "<table id=\"T_f5d8e\">\n",
       "  <thead>\n",
       "    <tr>\n",
       "      <th class=\"blank level0\" >&nbsp;</th>\n",
       "      <th id=\"T_f5d8e_level0_col0\" class=\"col_heading level0 col0\" >string:aminoacids1</th>\n",
       "      <th id=\"T_f5d8e_level0_col1\" class=\"col_heading level0 col1\" >string:aminoacids3</th>\n",
       "      <th id=\"T_f5d8e_level0_col2\" class=\"col_heading level0 col2\" >string:pdb_id</th>\n",
       "      <th id=\"T_f5d8e_level0_col3\" class=\"col_heading level0 col3\" >string:pdb_text</th>\n",
       "    </tr>\n",
       "  </thead>\n",
       "  <tbody>\n",
       "    <tr>\n",
       "      <th id=\"T_f5d8e_level0_row0\" class=\"row_heading level0 row0\" >mdtraj.Trajectory</th>\n",
       "      <td id=\"T_f5d8e_row0_col0\" class=\"data row0 col0\" >True</td>\n",
       "      <td id=\"T_f5d8e_row0_col1\" class=\"data row0 col1\" >True</td>\n",
       "      <td id=\"T_f5d8e_row0_col2\" class=\"data row0 col2\" >False</td>\n",
       "      <td id=\"T_f5d8e_row0_col3\" class=\"data row0 col3\" >False</td>\n",
       "    </tr>\n",
       "  </tbody>\n",
       "</table>\n"
      ],
      "text/plain": [
       "<pandas.io.formats.style.Styler at 0x7f55536489d0>"
      ]
     },
     "execution_count": 18,
     "metadata": {},
     "output_type": "execute_result"
    }
   ],
   "source": [
    "msm.help.convert(from_form='mdtraj.Trajectory', to_form_type='string')"
   ]
  },
  {
   "cell_type": "code",
   "execution_count": 19,
   "metadata": {},
   "outputs": [
    {
     "data": {
      "text/html": [
       "<style type=\"text/css\">\n",
       "#T_fc3bf_row0_col0, #T_fc3bf_row1_col0, #T_fc3bf_row2_col0, #T_fc3bf_row3_col0, #T_fc3bf_row4_col0, #T_fc3bf_row5_col0, #T_fc3bf_row6_col0, #T_fc3bf_row7_col0, #T_fc3bf_row9_col0, #T_fc3bf_row10_col0, #T_fc3bf_row11_col0, #T_fc3bf_row13_col0 {\n",
       "  background-color: #E2856E;\n",
       "  text-align: center;\n",
       "}\n",
       "#T_fc3bf_row8_col0, #T_fc3bf_row12_col0 {\n",
       "  background-color: #C2CFB2;\n",
       "  text-align: center;\n",
       "}\n",
       "</style>\n",
       "<table id=\"T_fc3bf\">\n",
       "  <thead>\n",
       "    <tr>\n",
       "      <th class=\"blank level0\" >&nbsp;</th>\n",
       "      <th id=\"T_fc3bf_level0_col0\" class=\"col_heading level0 col0\" >mdtraj.Trajectory</th>\n",
       "    </tr>\n",
       "  </thead>\n",
       "  <tbody>\n",
       "    <tr>\n",
       "      <th id=\"T_fc3bf_level0_row0\" class=\"row_heading level0 row0\" >file:crd</th>\n",
       "      <td id=\"T_fc3bf_row0_col0\" class=\"data row0 col0\" >False</td>\n",
       "    </tr>\n",
       "    <tr>\n",
       "      <th id=\"T_fc3bf_level0_row1\" class=\"row_heading level0 row1\" >file:dcd</th>\n",
       "      <td id=\"T_fc3bf_row1_col0\" class=\"data row1 col0\" >False</td>\n",
       "    </tr>\n",
       "    <tr>\n",
       "      <th id=\"T_fc3bf_level0_row2\" class=\"row_heading level0 row2\" >file:gro</th>\n",
       "      <td id=\"T_fc3bf_row2_col0\" class=\"data row2 col0\" >False</td>\n",
       "    </tr>\n",
       "    <tr>\n",
       "      <th id=\"T_fc3bf_level0_row3\" class=\"row_heading level0 row3\" >file:h5</th>\n",
       "      <td id=\"T_fc3bf_row3_col0\" class=\"data row3 col0\" >False</td>\n",
       "    </tr>\n",
       "    <tr>\n",
       "      <th id=\"T_fc3bf_level0_row4\" class=\"row_heading level0 row4\" >file:inpcrd</th>\n",
       "      <td id=\"T_fc3bf_row4_col0\" class=\"data row4 col0\" >False</td>\n",
       "    </tr>\n",
       "    <tr>\n",
       "      <th id=\"T_fc3bf_level0_row5\" class=\"row_heading level0 row5\" >file:mmtf</th>\n",
       "      <td id=\"T_fc3bf_row5_col0\" class=\"data row5 col0\" >False</td>\n",
       "    </tr>\n",
       "    <tr>\n",
       "      <th id=\"T_fc3bf_level0_row6\" class=\"row_heading level0 row6\" >file:mol2</th>\n",
       "      <td id=\"T_fc3bf_row6_col0\" class=\"data row6 col0\" >False</td>\n",
       "    </tr>\n",
       "    <tr>\n",
       "      <th id=\"T_fc3bf_level0_row7\" class=\"row_heading level0 row7\" >file:msmpk</th>\n",
       "      <td id=\"T_fc3bf_row7_col0\" class=\"data row7 col0\" >False</td>\n",
       "    </tr>\n",
       "    <tr>\n",
       "      <th id=\"T_fc3bf_level0_row8\" class=\"row_heading level0 row8\" >file:pdb</th>\n",
       "      <td id=\"T_fc3bf_row8_col0\" class=\"data row8 col0\" >True</td>\n",
       "    </tr>\n",
       "    <tr>\n",
       "      <th id=\"T_fc3bf_level0_row9\" class=\"row_heading level0 row9\" >file:prmtop</th>\n",
       "      <td id=\"T_fc3bf_row9_col0\" class=\"data row9 col0\" >False</td>\n",
       "    </tr>\n",
       "    <tr>\n",
       "      <th id=\"T_fc3bf_level0_row10\" class=\"row_heading level0 row10\" >file:psf</th>\n",
       "      <td id=\"T_fc3bf_row10_col0\" class=\"data row10 col0\" >False</td>\n",
       "    </tr>\n",
       "    <tr>\n",
       "      <th id=\"T_fc3bf_level0_row11\" class=\"row_heading level0 row11\" >file:trjpk</th>\n",
       "      <td id=\"T_fc3bf_row11_col0\" class=\"data row11 col0\" >False</td>\n",
       "    </tr>\n",
       "    <tr>\n",
       "      <th id=\"T_fc3bf_level0_row12\" class=\"row_heading level0 row12\" >file:xtc</th>\n",
       "      <td id=\"T_fc3bf_row12_col0\" class=\"data row12 col0\" >True</td>\n",
       "    </tr>\n",
       "    <tr>\n",
       "      <th id=\"T_fc3bf_level0_row13\" class=\"row_heading level0 row13\" >file:xyznpy</th>\n",
       "      <td id=\"T_fc3bf_row13_col0\" class=\"data row13 col0\" >False</td>\n",
       "    </tr>\n",
       "  </tbody>\n",
       "</table>\n"
      ],
      "text/plain": [
       "<pandas.io.formats.style.Styler at 0x7f5552bde340>"
      ]
     },
     "execution_count": 19,
     "metadata": {},
     "output_type": "execute_result"
    }
   ],
   "source": [
    "msm.help.convert(from_form='mdtraj.Trajectory', to_form_type='file', as_rows='to')"
   ]
  },
  {
   "cell_type": "code",
   "execution_count": 21,
   "metadata": {},
   "outputs": [
    {
     "data": {
      "text/html": [
       "<style type=\"text/css\">\n",
       "#T_6aa4e_row0_col0, #T_6aa4e_row1_col0 {\n",
       "  background-color: #C2CFB2;\n",
       "  text-align: center;\n",
       "}\n",
       "#T_6aa4e_row0_col1, #T_6aa4e_row1_col1 {\n",
       "  background-color: #E2856E;\n",
       "  text-align: center;\n",
       "}\n",
       "</style>\n",
       "<table id=\"T_6aa4e\">\n",
       "  <thead>\n",
       "    <tr>\n",
       "      <th class=\"blank level0\" >&nbsp;</th>\n",
       "      <th id=\"T_6aa4e_level0_col0\" class=\"col_heading level0 col0\" >mdtraj.Trajectory</th>\n",
       "      <th id=\"T_6aa4e_level0_col1\" class=\"col_heading level0 col1\" >openmm.Topology</th>\n",
       "    </tr>\n",
       "  </thead>\n",
       "  <tbody>\n",
       "    <tr>\n",
       "      <th id=\"T_6aa4e_level0_row0\" class=\"row_heading level0 row0\" >pytraj.Trajectory</th>\n",
       "      <td id=\"T_6aa4e_row0_col0\" class=\"data row0 col0\" >True</td>\n",
       "      <td id=\"T_6aa4e_row0_col1\" class=\"data row0 col1\" >False</td>\n",
       "    </tr>\n",
       "    <tr>\n",
       "      <th id=\"T_6aa4e_level0_row1\" class=\"row_heading level0 row1\" >MDAnalysis.Universe</th>\n",
       "      <td id=\"T_6aa4e_row1_col0\" class=\"data row1 col0\" >True</td>\n",
       "      <td id=\"T_6aa4e_row1_col1\" class=\"data row1 col1\" >False</td>\n",
       "    </tr>\n",
       "  </tbody>\n",
       "</table>\n"
      ],
      "text/plain": [
       "<pandas.io.formats.style.Styler at 0x7f5552b131f0>"
      ]
     },
     "execution_count": 21,
     "metadata": {},
     "output_type": "execute_result"
    }
   ],
   "source": [
    "from_list=['pytraj.Trajectory','MDAnalysis.Universe']\n",
    "to_list=['mdtraj.Trajectory', 'openmm.Topology']\n",
    "msm.help.convert(from_form=from_list, to_form=to_list, as_rows='from')"
   ]
  },
  {
   "cell_type": "markdown",
   "metadata": {},
   "source": [
    "```{admonition} See also\n",
    ":class: attention\n",
    "{func}`molsysmt.basic.convert`, {func}`molsysmt.help.convert`, {func}`molsysmt.basic.info`, {func}`molsysmt.basic.view`\n",
    "```"
   ]
  },
  {
   "cell_type": "code",
   "execution_count": 22,
   "metadata": {
    "tags": [
     "remove-input"
    ]
   },
   "outputs": [],
   "source": [
    "####### REMOVING FILES ############################\n",
    "# This cell is removed with the tag: \"remove-input\"\n",
    "# As such, it will not be shown in documentation\n",
    "\n",
    "import os\n",
    "os.remove('181L.mmtf')"
   ]
  }
 ],
 "metadata": {
  "kernelspec": {
   "display_name": "Python 3 (ipykernel)",
   "language": "python",
   "name": "python3"
  },
  "language_info": {
   "codemirror_mode": {
    "name": "ipython",
    "version": 3
   },
   "file_extension": ".py",
   "mimetype": "text/x-python",
   "name": "python",
   "nbconvert_exporter": "python",
   "pygments_lexer": "ipython3",
   "version": "3.9.15"
  }
 },
 "nbformat": 4,
 "nbformat_minor": 4
}
