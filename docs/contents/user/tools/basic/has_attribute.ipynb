{
 "cells": [
  {
   "cell_type": "code",
   "execution_count": 1,
   "id": "83ecdd1d-aa92-443d-9fa7-dfe3adac50c2",
   "metadata": {
    "tags": [
     "remove-input"
    ]
   },
   "outputs": [],
   "source": [
    "# This cell is removed with the tag: \"remove-input\"\n",
    "# As such, it will not be shown in documentation\n",
    "\n",
    "#import warnings\n",
    "#warnings.filterwarnings('ignore')"
   ]
  },
  {
   "cell_type": "markdown",
   "id": "095d0ac2-57d4-4581-ad7a-d1c3c3da7891",
   "metadata": {},
   "source": [
    "(Tutorial_Has_attribute)=\n",
    "# Has attribute\n",
    "\n",
    "*Checking whether a molecular system has a specific attribute.*\n",
    "\n",
    "Not all molecular system forms include the same attributes, and not all molecular systems have values for every available attribute. For example, an `openmm.Topology` system supports a periodic box, but a particular molecular system might not define one. In order to check whether or not a molecular has a specific attribute value, MolSysMT provides a specific function in the `basic` module: {func}`molsysmt.basic.has_attribute`. \n",
    "\n",
    "## How this function works\n",
    "\n",
    ":::{admonition} API documentation\n",
    "Follow this link for a detailed description of the input arguments, raised errors, and returned objects of this function:{func}`molsysmt.basic.has_attribute`.\n",
    ":::\n",
    "\n",
    "Let's illustrate the use of {func}`molsysmt.basic.has_attribute` with the following examples."
   ]
  },
  {
   "cell_type": "code",
   "execution_count": 2,
   "id": "ccf509b5-a79a-41f7-b432-789945069627",
   "metadata": {
    "tags": []
   },
   "outputs": [
    {
     "data": {
      "application/vnd.jupyter.widget-view+json": {
       "model_id": "52f44e35b5cb45ec9ace5b56195b22ed",
       "version_major": 2,
       "version_minor": 0
      },
      "text/plain": []
     },
     "metadata": {},
     "output_type": "display_data"
    }
   ],
   "source": [
    "import molsysmt as msm"
   ]
  },
  {
   "cell_type": "code",
   "execution_count": 5,
   "id": "06c8778b-b835-4bf3-9a10-448add565480",
   "metadata": {
    "tags": []
   },
   "outputs": [],
   "source": [
    "molsys = msm.systems['pentalanine']['pentalanine.inpcrd']"
   ]
  },
  {
   "cell_type": "code",
   "execution_count": 6,
   "id": "86924b7a-ae89-49b9-8ef1-698fa31b9499",
   "metadata": {
    "tags": []
   },
   "outputs": [
    {
     "data": {
      "text/plain": [
       "True"
      ]
     },
     "execution_count": 6,
     "metadata": {},
     "output_type": "execute_result"
    }
   ],
   "source": [
    "msm.has_attribute(molsys, attribute='box')"
   ]
  },
  {
   "cell_type": "markdown",
   "id": "72d30572-e39a-40dc-9544-a69157b0fe5b",
   "metadata": {},
   "source": [
    "```{admonition} Tip\n",
    ":class: tip\n",
    "All methods defined in the {ref}`molsysmt.basic <API basic>` module can be invoked also from the main level of the library. Hence, {func}`molsysmt.has_attribute` is the same method as {func}`molsysmt.basic.has_attribute`.\n",
    "```"
   ]
  },
  {
   "cell_type": "markdown",
   "id": "7e3e6b87-f32c-4fc2-89be-ccd0e0d0f3dd",
   "metadata": {},
   "source": [
    "The function confirms that two conditions are met:\n",
    "- the \"file:inpcrd\" molecular system form has the attribute 'box'\n",
    "- the molecular system has a value different from `None` for the attribute 'box'.\n",
    "\n",
    "Indeed, we can retrieve the corresponding value:"
   ]
  },
  {
   "cell_type": "code",
   "execution_count": 7,
   "id": "d0fc1064-7592-446f-8e72-9138ebfc3143",
   "metadata": {},
   "outputs": [
    {
     "data": {
      "text/html": [
       "<table><tbody><tr><th>Magnitude</th><td style='text-align:left;'><pre>[[[4.29511093 0.0 0.0]  [-1.4317035278131303 4.049469460244502 0.0]  [-1.4317035278131303 -2.0247344850669022 3.506943565903758]]]</pre></td></tr><tr><th>Units</th><td style='text-align:left;'>nanometer</td></tr></tbody></table>"
      ],
      "text/latex": [
       "$arr[,0,:,:] = \\begin{pmatrix} &  & \\\\ \n",
       " &  & \\\\ \n",
       " &  & \\end{pmatrix}\\ \\mathrm{nanometer}$"
      ],
      "text/plain": [
       "<Quantity([[[ 4.29511093  0.          0.        ]\n",
       "  [-1.43170353  4.04946946  0.        ]\n",
       "  [-1.43170353 -2.02473449  3.50694357]]], 'nanometer')>"
      ]
     },
     "execution_count": 7,
     "metadata": {},
     "output_type": "execute_result"
    }
   ],
   "source": [
    "msm.get(molsys, box=True)"
   ]
  },
  {
   "cell_type": "markdown",
   "id": "cd3602cc-3cda-4031-97d0-4c021c3bd573",
   "metadata": {},
   "source": [
    "A molecular system may support a given attribute, but the value may still be None. In this case the function {func}`molsysmt.basic.has_attribute` returns `False`. Let's see this case with the following example:"
   ]
  },
  {
   "cell_type": "code",
   "execution_count": 8,
   "id": "87508f47-7083-4af6-b676-a9fe8aa6a032",
   "metadata": {},
   "outputs": [],
   "source": [
    "molsys = msm.convert(msm.systems['pentalanine']['pentalanine.prmtop'], to_form='openmm.Topology')"
   ]
  },
  {
   "cell_type": "code",
   "execution_count": 9,
   "id": "53a4e688-e55a-42e4-ac24-e2a9e1e7e505",
   "metadata": {},
   "outputs": [],
   "source": [
    "msm.set(molsys, box=None)"
   ]
  },
  {
   "cell_type": "code",
   "execution_count": 10,
   "id": "3b19723c-8243-4a95-8d93-1372e6f0d0c8",
   "metadata": {},
   "outputs": [
    {
     "data": {
      "text/plain": [
       "False"
      ]
     },
     "execution_count": 10,
     "metadata": {},
     "output_type": "execute_result"
    }
   ],
   "source": [
    "msm.has_attribute(molsys, attribute='box')"
   ]
  },
  {
   "cell_type": "markdown",
   "id": "54b92935-1755-40e1-9c9a-02f4af04ba1b",
   "metadata": {},
   "source": [
    "We can check whether a specific form (regardless of system instance) supports an attribute using {func}`molsysmt.form.has_attribute`."
   ]
  },
  {
   "cell_type": "code",
   "execution_count": 11,
   "id": "1e56d134-8b80-4688-a1e0-d7e37819c2b7",
   "metadata": {},
   "outputs": [
    {
     "data": {
      "text/plain": [
       "True"
      ]
     },
     "execution_count": 11,
     "metadata": {},
     "output_type": "execute_result"
    }
   ],
   "source": [
    "msm.form.has_attribute('file:prmtop', attribute='box')"
   ]
  },
  {
   "cell_type": "markdown",
   "id": "aa462ba3-687e-42a7-b93c-008413f4b769",
   "metadata": {},
   "source": [
    "Finally, let's see how {func}`molsysmt.basic.has_attribute` behaves when the requested attribute is not supported by the molecular system's form."
   ]
  },
  {
   "cell_type": "code",
   "execution_count": 12,
   "id": "e9422108-09bc-404a-93f5-bb582f629ffe",
   "metadata": {},
   "outputs": [],
   "source": [
    "molecular_system = msm.systems['pentalanine']['pentalanine.prmtop']"
   ]
  },
  {
   "cell_type": "code",
   "execution_count": 14,
   "id": "2734f6bc-a1ff-446e-bd66-26667ad47165",
   "metadata": {},
   "outputs": [
    {
     "data": {
      "text/plain": [
       "False"
      ]
     },
     "execution_count": 14,
     "metadata": {},
     "output_type": "execute_result"
    }
   ],
   "source": [
    "msm.has_attribute(molsys, attribute='coordinates')"
   ]
  },
  {
   "cell_type": "markdown",
   "id": "69fb7ffa-fb4f-47a5-9f3a-e1d92c5d6b24",
   "metadata": {},
   "source": [
    ":::{seealso}\n",
    "[User guide > Introduction > Molecular System > Attributes](../../intro/molecular_systems/attributes.ipynb):    \n",
    "List and describe the standard attributes available for molecular systems in MolSysMT.\n",
    "\n",
    "[User guide > Tools > Basic > Get attributes](get_attributes.ipynb):    \n",
    "Check which attributes are present in a given molecular system.\n",
    "\n",
    "[User guide > Tools > Form > Get attributes](../form/get_attributes.ipynb):    \n",
    "List the attributes available for a specific form.\n",
    "\n",
    "[User guide > Tools > Form > Has attribute](../form/has_attribute.ipynb):    \n",
    "Check whether a form supports a given attribute.\n",
    "\n",
    ":::"
   ]
  }
 ],
 "metadata": {
  "kernelspec": {
   "display_name": "Python 3 (ipykernel)",
   "language": "python",
   "name": "python3"
  },
  "language_info": {
   "codemirror_mode": {
    "name": "ipython",
    "version": 3
   },
   "file_extension": ".py",
   "mimetype": "text/x-python",
   "name": "python",
   "nbconvert_exporter": "python",
   "pygments_lexer": "ipython3",
   "version": "3.12.9"
  },
  "widgets": {
   "application/vnd.jupyter.widget-state+json": {
    "state": {
     "1df565247c2d41eaaa692a79c4c77bc5": {
      "model_module": "@jupyter-widgets/base",
      "model_module_version": "2.0.0",
      "model_name": "LayoutModel",
      "state": {
       "_model_module": "@jupyter-widgets/base",
       "_model_module_version": "2.0.0",
       "_model_name": "LayoutModel",
       "_view_count": null,
       "_view_module": "@jupyter-widgets/base",
       "_view_module_version": "2.0.0",
       "_view_name": "LayoutView",
       "align_content": null,
       "align_items": null,
       "align_self": null,
       "border_bottom": null,
       "border_left": null,
       "border_right": null,
       "border_top": null,
       "bottom": null,
       "display": null,
       "flex": null,
       "flex_flow": null,
       "grid_area": null,
       "grid_auto_columns": null,
       "grid_auto_flow": null,
       "grid_auto_rows": null,
       "grid_column": null,
       "grid_gap": null,
       "grid_row": null,
       "grid_template_areas": null,
       "grid_template_columns": null,
       "grid_template_rows": null,
       "height": null,
       "justify_content": null,
       "justify_items": null,
       "left": null,
       "margin": null,
       "max_height": null,
       "max_width": null,
       "min_height": null,
       "min_width": null,
       "object_fit": null,
       "object_position": null,
       "order": null,
       "overflow": null,
       "padding": null,
       "right": null,
       "top": null,
       "visibility": null,
       "width": null
      }
     },
     "9f8ac78b85d1401a937c281c48aece68": {
      "model_module": "nglview-js-widgets",
      "model_module_version": "3.1.4",
      "model_name": "ColormakerRegistryModel",
      "state": {
       "_dom_classes": [],
       "_model_module": "nglview-js-widgets",
       "_model_module_version": "3.1.4",
       "_model_name": "ColormakerRegistryModel",
       "_msg_ar": [],
       "_msg_q": [],
       "_ready": false,
       "_view_count": null,
       "_view_module": "nglview-js-widgets",
       "_view_module_version": "3.1.4",
       "_view_name": "ColormakerRegistryView",
       "layout": "IPY_MODEL_1df565247c2d41eaaa692a79c4c77bc5",
       "tabbable": null,
       "tooltip": null
      }
     }
    },
    "version_major": 2,
    "version_minor": 0
   }
  }
 },
 "nbformat": 4,
 "nbformat_minor": 5
}
