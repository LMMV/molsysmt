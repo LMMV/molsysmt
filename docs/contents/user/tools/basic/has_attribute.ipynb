{
 "cells": [
  {
   "cell_type": "code",
   "execution_count": 1,
   "id": "83ecdd1d-aa92-443d-9fa7-dfe3adac50c2",
   "metadata": {
    "tags": [
     "remove-input"
    ]
   },
   "outputs": [],
   "source": [
    "# This cell is removed with the tag: \"remove-input\"\n",
    "# As such, it will not be shown in documentation\n",
    "\n",
    "import warnings\n",
    "warnings.filterwarnings('ignore')\n"
   ]
  },
  {
   "cell_type": "markdown",
   "id": "095d0ac2-57d4-4581-ad7a-d1c3c3da7891",
   "metadata": {},
   "source": [
    "(UserGuide_Tools_Basic_HasAttribute)=\n",
    "# Has attribute\n",
    "\n",
    "*Checking if a molecular system has a certain attribute*\n",
    "\n",
    "Not all diferent forms of a molecular system has the same attributes. For instance, a `string:aminoacids3` system has no `coordinates`, or a `file:prminp` has no `atom_names`. In order to check whether or not an item as an attribute, MolSysMT provides a specific function in the `basic` module: {func}`molsysmt.basic.has_attribute`. Let's illustrate its use:"
   ]
  },
  {
   "cell_type": "code",
   "execution_count": 2,
   "id": "ccf509b5-a79a-41f7-b432-789945069627",
   "metadata": {},
   "outputs": [
    {
     "data": {
      "application/vnd.jupyter.widget-view+json": {
       "model_id": "e8d6a25621fa4408bbe762fa10d9d03a",
       "version_major": 2,
       "version_minor": 0
      },
      "text/plain": []
     },
     "metadata": {},
     "output_type": "display_data"
    }
   ],
   "source": [
    "import molsysmt as msm"
   ]
  },
  {
   "cell_type": "code",
   "execution_count": 3,
   "id": "06c8778b-b835-4bf3-9a10-448add565480",
   "metadata": {},
   "outputs": [],
   "source": [
    "molecular_system = msm.demo['pentalanine']['pentalanine.inpcrd']"
   ]
  },
  {
   "cell_type": "code",
   "execution_count": 4,
   "id": "86924b7a-ae89-49b9-8ef1-698fa31b9499",
   "metadata": {},
   "outputs": [
    {
     "data": {
      "text/plain": [
       "True"
      ]
     },
     "execution_count": 4,
     "metadata": {},
     "output_type": "execute_result"
    }
   ],
   "source": [
    "msm.has_attribute(molecular_system, attribute='box')"
   ]
  },
  {
   "cell_type": "code",
   "execution_count": 5,
   "id": "032488bc-9cc2-4f15-906b-717849d17885",
   "metadata": {},
   "outputs": [
    {
     "data": {
      "text/plain": [
       "False"
      ]
     },
     "execution_count": 5,
     "metadata": {},
     "output_type": "execute_result"
    }
   ],
   "source": [
    "msm.has_attribute(molecular_system, attribute='group_name')"
   ]
  },
  {
   "cell_type": "markdown",
   "id": "72d30572-e39a-40dc-9544-a69157b0fe5b",
   "metadata": {},
   "source": [
    "```{admonition} Tip\n",
    ":class: tip\n",
    "All methods defined in the {ref}`molsysmt.basic <API basic>` module can be invoked also from the main level of the library. Hence, {func}`molsysmt.has_attribute` is the same method as {func}`molsysmt.basic.has_attribute`.\n",
    "```"
   ]
  },
  {
   "cell_type": "markdown",
   "id": "38e7b6c8-7e70-48f5-b115-b2b3c96206b9",
   "metadata": {},
   "source": [
    "```{admonition} See also\n",
    ":class: attention\n",
    "{func}`molsysmt.basic.has_attribute`\n",
    "```"
   ]
  }
 ],
 "metadata": {
  "kernelspec": {
   "display_name": "Python 3 (ipykernel)",
   "language": "python",
   "name": "python3"
  },
  "language_info": {
   "codemirror_mode": {
    "name": "ipython",
    "version": 3
   },
   "file_extension": ".py",
   "mimetype": "text/x-python",
   "name": "python",
   "nbconvert_exporter": "python",
   "pygments_lexer": "ipython3",
   "version": "3.9.13"
  }
 },
 "nbformat": 4,
 "nbformat_minor": 5
}
