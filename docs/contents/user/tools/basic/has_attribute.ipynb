{
 "cells": [
  {
   "cell_type": "code",
   "execution_count": 1,
   "id": "83ecdd1d-aa92-443d-9fa7-dfe3adac50c2",
   "metadata": {
    "execution": {
     "iopub.execute_input": "2025-03-11T21:03:28.456461Z",
     "iopub.status.busy": "2025-03-11T21:03:28.456057Z",
     "iopub.status.idle": "2025-03-11T21:03:28.460690Z",
     "shell.execute_reply": "2025-03-11T21:03:28.459884Z"
    },
    "tags": [
     "remove-input"
    ]
   },
   "outputs": [],
   "source": [
    "# This cell is removed with the tag: \"remove-input\"\n",
    "# As such, it will not be shown in documentation\n",
    "\n",
    "#import warnings\n",
    "#warnings.filterwarnings('ignore')"
   ]
  },
  {
   "cell_type": "markdown",
   "id": "095d0ac2-57d4-4581-ad7a-d1c3c3da7891",
   "metadata": {},
   "source": [
    "(UTB_Has_attribute)=\n",
    "# Has attribute\n",
    "\n",
    "*Checking if a molecular system has a certain attribute value.*\n",
    "\n",
    "Not all forms of a molecular system have the same attributes, and not all molecular systems have all its attribute values. For instance, an \"openmm.Topology\" system has the posibility to include a periodic box, but maybe our molecular system has by definition no box. In order to check whether or not a molecular has a specific attribute value, MolSysMT provides a specific function in the `basic` module: {func}`molsysmt.basic.has_attribute`. \n",
    "\n",
    "## How this function works\n",
    "\n",
    ":::{admonition} API documentation\n",
    "Follow this link for a detailed description of the input arguments, raised errors, and returned objects of this function:{func}`molsysmt.basic.has_attribute`.\n",
    ":::\n",
    "\n",
    "Let's illustrate the use of {func}`molsysmt.basic.has_attribute` with the following examples.\n"
   ]
  },
  {
   "cell_type": "code",
   "execution_count": 2,
   "id": "ccf509b5-a79a-41f7-b432-789945069627",
   "metadata": {
    "execution": {
     "iopub.execute_input": "2025-03-11T21:03:28.464223Z",
     "iopub.status.busy": "2025-03-11T21:03:28.463684Z",
     "iopub.status.idle": "2025-03-11T21:03:36.108322Z",
     "shell.execute_reply": "2025-03-11T21:03:36.107434Z"
    },
    "tags": []
   },
   "outputs": [
    {
     "data": {
      "application/vnd.jupyter.widget-view+json": {
       "model_id": "9f8ac78b85d1401a937c281c48aece68",
       "version_major": 2,
       "version_minor": 0
      },
      "text/plain": []
     },
     "metadata": {},
     "output_type": "display_data"
    }
   ],
   "source": [
    "import molsysmt as msm\n",
    "from molsysmt import systems"
   ]
  },
  {
   "cell_type": "code",
   "execution_count": 3,
   "id": "06c8778b-b835-4bf3-9a10-448add565480",
   "metadata": {
    "execution": {
     "iopub.execute_input": "2025-03-11T21:03:36.112822Z",
     "iopub.status.busy": "2025-03-11T21:03:36.111451Z",
     "iopub.status.idle": "2025-03-11T21:03:36.116638Z",
     "shell.execute_reply": "2025-03-11T21:03:36.115724Z"
    },
    "tags": []
   },
   "outputs": [],
   "source": [
    "molecular_system = systems['pentalanine']['pentalanine.inpcrd']"
   ]
  },
  {
   "cell_type": "code",
   "execution_count": 4,
   "id": "86924b7a-ae89-49b9-8ef1-698fa31b9499",
   "metadata": {
    "execution": {
     "iopub.execute_input": "2025-03-11T21:03:36.120005Z",
     "iopub.status.busy": "2025-03-11T21:03:36.119564Z",
     "iopub.status.idle": "2025-03-11T21:03:36.222126Z",
     "shell.execute_reply": "2025-03-11T21:03:36.221208Z"
    },
    "tags": []
   },
   "outputs": [
    {
     "data": {
      "text/plain": [
       "True"
      ]
     },
     "execution_count": 4,
     "metadata": {},
     "output_type": "execute_result"
    }
   ],
   "source": [
    "msm.has_attribute(molecular_system, attribute='box')"
   ]
  },
  {
   "cell_type": "markdown",
   "id": "72d30572-e39a-40dc-9544-a69157b0fe5b",
   "metadata": {},
   "source": [
    "```{admonition} Tip\n",
    ":class: tip\n",
    "All methods defined in the {ref}`molsysmt.basic <API basic>` module can be invoked also from the main level of the library. Hence, {func}`molsysmt.has_attribute` is the same method as {func}`molsysmt.basic.has_attribute`.\n",
    "```"
   ]
  },
  {
   "cell_type": "markdown",
   "id": "7e3e6b87-f32c-4fc2-89be-ccd0e0d0f3dd",
   "metadata": {},
   "source": [
    "We have checked that two conditions are fulfilled:\n",
    "- the \"file:inpcrd\" molecular system form has the attribute 'box'\n",
    "- the molecular system has a value different from `None` for the attribute 'box'.\n",
    "\n",
    "In deed, we can get the corresponding value:"
   ]
  },
  {
   "cell_type": "code",
   "execution_count": 5,
   "id": "d0fc1064-7592-446f-8e72-9138ebfc3143",
   "metadata": {
    "execution": {
     "iopub.execute_input": "2025-03-11T21:03:36.226875Z",
     "iopub.status.busy": "2025-03-11T21:03:36.225634Z",
     "iopub.status.idle": "2025-03-11T21:03:36.324073Z",
     "shell.execute_reply": "2025-03-11T21:03:36.323159Z"
    }
   },
   "outputs": [
    {
     "data": {
      "text/html": [
       "<table><tbody><tr><th>Magnitude</th><td style='text-align:left;'><pre>[[[4.29511093 0.0 0.0]  [-1.4317035278131303 4.049469460244502 0.0]  [-1.4317035278131303 -2.0247344850669022 3.506943565903758]]]</pre></td></tr><tr><th>Units</th><td style='text-align:left;'>nanometer</td></tr></tbody></table>"
      ],
      "text/latex": [
       "$arr[,0,:,:] = \\begin{pmatrix} &  & \\\\ \n",
       " &  & \\\\ \n",
       " &  & \\end{pmatrix}\\ \\mathrm{nanometer}$"
      ],
      "text/plain": [
       "<Quantity([[[ 4.29511093  0.          0.        ]\n",
       "  [-1.43170353  4.04946946  0.        ]\n",
       "  [-1.43170353 -2.02473449  3.50694357]]], 'nanometer')>"
      ]
     },
     "execution_count": 5,
     "metadata": {},
     "output_type": "execute_result"
    }
   ],
   "source": [
    "msm.get(molecular_system, box=True)"
   ]
  },
  {
   "cell_type": "markdown",
   "id": "cd3602cc-3cda-4031-97d0-4c021c3bd573",
   "metadata": {},
   "source": [
    "The molecular system could have a certain attribute but with no value in it. In this case the function {func}`molsysmt.basic.has_attribute` returns `False`. Let's see this case with the following example:"
   ]
  },
  {
   "cell_type": "code",
   "execution_count": 6,
   "id": "87508f47-7083-4af6-b676-a9fe8aa6a032",
   "metadata": {
    "execution": {
     "iopub.execute_input": "2025-03-11T21:03:36.327523Z",
     "iopub.status.busy": "2025-03-11T21:03:36.327076Z",
     "iopub.status.idle": "2025-03-11T21:03:37.071689Z",
     "shell.execute_reply": "2025-03-11T21:03:37.070792Z"
    }
   },
   "outputs": [],
   "source": [
    "molecular_system = msm.convert(systems['pentalanine']['pentalanine.prmtop'], to_form='openmm.Topology')"
   ]
  },
  {
   "cell_type": "code",
   "execution_count": 7,
   "id": "53a4e688-e55a-42e4-ac24-e2a9e1e7e505",
   "metadata": {
    "execution": {
     "iopub.execute_input": "2025-03-11T21:03:37.074997Z",
     "iopub.status.busy": "2025-03-11T21:03:37.074629Z",
     "iopub.status.idle": "2025-03-11T21:03:37.235910Z",
     "shell.execute_reply": "2025-03-11T21:03:37.235027Z"
    }
   },
   "outputs": [],
   "source": [
    "msm.set(molecular_system, box=None)"
   ]
  },
  {
   "cell_type": "code",
   "execution_count": 8,
   "id": "3b19723c-8243-4a95-8d93-1372e6f0d0c8",
   "metadata": {
    "execution": {
     "iopub.execute_input": "2025-03-11T21:03:37.238641Z",
     "iopub.status.busy": "2025-03-11T21:03:37.238368Z",
     "iopub.status.idle": "2025-03-11T21:03:37.319649Z",
     "shell.execute_reply": "2025-03-11T21:03:37.318690Z"
    }
   },
   "outputs": [
    {
     "data": {
      "text/plain": [
       "False"
      ]
     },
     "execution_count": 8,
     "metadata": {},
     "output_type": "execute_result"
    }
   ],
   "source": [
    "msm.has_attribute(molecular_system, attribute='box')"
   ]
  },
  {
   "cell_type": "markdown",
   "id": "54b92935-1755-40e1-9c9a-02f4af04ba1b",
   "metadata": {},
   "source": [
    "We can check that the 'openmm.Topology' contains the 'coordinates' attribute with the help of the function {func}`molsysmt.form.has_attribute`:"
   ]
  },
  {
   "cell_type": "code",
   "execution_count": 9,
   "id": "1e56d134-8b80-4688-a1e0-d7e37819c2b7",
   "metadata": {
    "execution": {
     "iopub.execute_input": "2025-03-11T21:03:37.322645Z",
     "iopub.status.busy": "2025-03-11T21:03:37.322321Z",
     "iopub.status.idle": "2025-03-11T21:03:37.326959Z",
     "shell.execute_reply": "2025-03-11T21:03:37.326267Z"
    }
   },
   "outputs": [
    {
     "data": {
      "text/plain": [
       "True"
      ]
     },
     "execution_count": 9,
     "metadata": {},
     "output_type": "execute_result"
    }
   ],
   "source": [
    "msm.form.has_attribute('file:prmtop', attribute='box')"
   ]
  },
  {
   "cell_type": "markdown",
   "id": "aa462ba3-687e-42a7-b93c-008413f4b769",
   "metadata": {},
   "source": [
    "Finnally, let's see how {func}`molsysmt.basic.has_attribute` works when the attribute is not found in the molecular system's form:"
   ]
  },
  {
   "cell_type": "code",
   "execution_count": 10,
   "id": "e9422108-09bc-404a-93f5-bb582f629ffe",
   "metadata": {
    "execution": {
     "iopub.execute_input": "2025-03-11T21:03:37.330498Z",
     "iopub.status.busy": "2025-03-11T21:03:37.329928Z",
     "iopub.status.idle": "2025-03-11T21:03:37.334783Z",
     "shell.execute_reply": "2025-03-11T21:03:37.333936Z"
    }
   },
   "outputs": [],
   "source": [
    "molecular_system = systems['pentalanine']['pentalanine.prmtop']"
   ]
  },
  {
   "cell_type": "code",
   "execution_count": 11,
   "id": "2734f6bc-a1ff-446e-bd66-26667ad47165",
   "metadata": {
    "execution": {
     "iopub.execute_input": "2025-03-11T21:03:37.337815Z",
     "iopub.status.busy": "2025-03-11T21:03:37.337410Z",
     "iopub.status.idle": "2025-03-11T21:03:37.344377Z",
     "shell.execute_reply": "2025-03-11T21:03:37.343615Z"
    }
   },
   "outputs": [
    {
     "data": {
      "text/plain": [
       "False"
      ]
     },
     "execution_count": 11,
     "metadata": {},
     "output_type": "execute_result"
    }
   ],
   "source": [
    "msm.has_attribute(molecular_system, attribute='coordinates')"
   ]
  },
  {
   "cell_type": "markdown",
   "id": "69fb7ffa-fb4f-47a5-9f3a-e1d92c5d6b24",
   "metadata": {},
   "source": [
    ":::{seealso}\n",
    "[User guide > Introduction > Molecular System > Attributes](../../intro/molecular_systems/attributes.ipynb):    \n",
    "[User guide > Tools > Basic > Get attributes](get_attributes.ipynb):    \n",
    "[User guide > Tools > Form > Get attributes](../form/get_attributes.ipynb):    \n",
    "[User guide > Tools > Form > Has attribute](../form/has_attribute.ipynb):    \n",
    ":::"
   ]
  }
 ],
 "metadata": {
  "kernelspec": {
   "display_name": "Python 3 (ipykernel)",
   "language": "python",
   "name": "python3"
  },
  "language_info": {
   "codemirror_mode": {
    "name": "ipython",
    "version": 3
   },
   "file_extension": ".py",
   "mimetype": "text/x-python",
   "name": "python",
   "nbconvert_exporter": "python",
   "pygments_lexer": "ipython3",
   "version": "3.12.8"
  },
  "widgets": {
   "application/vnd.jupyter.widget-state+json": {
    "state": {
     "1df565247c2d41eaaa692a79c4c77bc5": {
      "model_module": "@jupyter-widgets/base",
      "model_module_version": "2.0.0",
      "model_name": "LayoutModel",
      "state": {
       "_model_module": "@jupyter-widgets/base",
       "_model_module_version": "2.0.0",
       "_model_name": "LayoutModel",
       "_view_count": null,
       "_view_module": "@jupyter-widgets/base",
       "_view_module_version": "2.0.0",
       "_view_name": "LayoutView",
       "align_content": null,
       "align_items": null,
       "align_self": null,
       "border_bottom": null,
       "border_left": null,
       "border_right": null,
       "border_top": null,
       "bottom": null,
       "display": null,
       "flex": null,
       "flex_flow": null,
       "grid_area": null,
       "grid_auto_columns": null,
       "grid_auto_flow": null,
       "grid_auto_rows": null,
       "grid_column": null,
       "grid_gap": null,
       "grid_row": null,
       "grid_template_areas": null,
       "grid_template_columns": null,
       "grid_template_rows": null,
       "height": null,
       "justify_content": null,
       "justify_items": null,
       "left": null,
       "margin": null,
       "max_height": null,
       "max_width": null,
       "min_height": null,
       "min_width": null,
       "object_fit": null,
       "object_position": null,
       "order": null,
       "overflow": null,
       "padding": null,
       "right": null,
       "top": null,
       "visibility": null,
       "width": null
      }
     },
     "9f8ac78b85d1401a937c281c48aece68": {
      "model_module": "nglview-js-widgets",
      "model_module_version": "3.1.4",
      "model_name": "ColormakerRegistryModel",
      "state": {
       "_dom_classes": [],
       "_model_module": "nglview-js-widgets",
       "_model_module_version": "3.1.4",
       "_model_name": "ColormakerRegistryModel",
       "_msg_ar": [],
       "_msg_q": [],
       "_ready": false,
       "_view_count": null,
       "_view_module": "nglview-js-widgets",
       "_view_module_version": "3.1.4",
       "_view_name": "ColormakerRegistryView",
       "layout": "IPY_MODEL_1df565247c2d41eaaa692a79c4c77bc5",
       "tabbable": null,
       "tooltip": null
      }
     }
    },
    "version_major": 2,
    "version_minor": 0
   }
  }
 },
 "nbformat": 4,
 "nbformat_minor": 5
}
