{
 "cells": [
  {
   "cell_type": "code",
   "execution_count": 1,
   "metadata": {
    "execution": {
     "iopub.execute_input": "2025-04-12T20:26:54.402295Z",
     "iopub.status.busy": "2025-04-12T20:26:54.401856Z",
     "iopub.status.idle": "2025-04-12T20:26:54.406862Z",
     "shell.execute_reply": "2025-04-12T20:26:54.406069Z"
    },
    "tags": [
     "remove-input"
    ]
   },
   "outputs": [],
   "source": [
    "# This cell is removed with the tag: \"remove-input\"\n",
    "# As such, it will not be shown in documentation\n",
    "\n",
    "#import warnings\n",
    "#warnings.filterwarnings('ignore')"
   ]
  },
  {
   "cell_type": "markdown",
   "metadata": {},
   "source": [
    "(Tutorial_Merge)=\n",
    "# Merge\n",
    "\n",
    "*Merging elements from multiple molecular systems.*\n",
    "\n",
    "Elements coming from different molecular systems can be merged in a new molecular system with the {func}`molsysmt.basic.merge` function.\n",
    "\n",
    "## How this function works\n",
    "\n",
    "```{admonition} API documentation\n",
    "Follow this link for a detailed description of the input arguments, raised errors, and returned objects of this function:{func}`molsysmt.basic.merge`.\n",
    "```\n",
    "\n",
    "Let’s demonstrate how this function works using three peptides, each defined as a separate molecular system: proline dipeptide ($A$), valine dipeptide ($B$), and lysine dipeptide ($C$)."
   ]
  },
  {
   "cell_type": "code",
   "execution_count": 2,
   "metadata": {
    "execution": {
     "iopub.execute_input": "2025-04-12T20:26:54.409569Z",
     "iopub.status.busy": "2025-04-12T20:26:54.409284Z",
     "iopub.status.idle": "2025-04-12T20:26:59.427715Z",
     "shell.execute_reply": "2025-04-12T20:26:59.426865Z"
    }
   },
   "outputs": [
    {
     "data": {
      "application/vnd.jupyter.widget-view+json": {
       "model_id": "24aca24d259c44bdb9b80c113e095278",
       "version_major": 2,
       "version_minor": 0
      },
      "text/plain": []
     },
     "metadata": {},
     "output_type": "display_data"
    }
   ],
   "source": [
    "import molsysmt as msm"
   ]
  },
  {
   "cell_type": "code",
   "execution_count": 3,
   "metadata": {
    "execution": {
     "iopub.execute_input": "2025-04-12T20:26:59.431475Z",
     "iopub.status.busy": "2025-04-12T20:26:59.430811Z",
     "iopub.status.idle": "2025-04-12T20:27:00.449639Z",
     "shell.execute_reply": "2025-04-12T20:27:00.448595Z"
    }
   },
   "outputs": [],
   "source": [
    "molsys_A = msm.build.build_peptide('AceProNme')\n",
    "molsys_B = msm.build.build_peptide('AceValNme')\n",
    "molsys_C = msm.build.build_peptide('AceLysNme')"
   ]
  },
  {
   "cell_type": "markdown",
   "metadata": {},
   "source": [
    "To prevent overlaps when merging, the systems $B$ and $C$ are translated in space before being combined with $A$."
   ]
  },
  {
   "cell_type": "code",
   "execution_count": 4,
   "metadata": {
    "execution": {
     "iopub.execute_input": "2025-04-12T20:27:00.452913Z",
     "iopub.status.busy": "2025-04-12T20:27:00.452436Z",
     "iopub.status.idle": "2025-04-12T20:27:01.228003Z",
     "shell.execute_reply": "2025-04-12T20:27:01.227074Z"
    }
   },
   "outputs": [],
   "source": [
    "molsys_B = msm.structure.translate(molsys_B, translation='[-1.0, 0.0, 0.0] nanometers')\n",
    "molsys_C = msm.structure.translate(molsys_C, translation='[1.0, 0.0, 0.0] nanometers')"
   ]
  },
  {
   "cell_type": "code",
   "execution_count": 5,
   "metadata": {
    "execution": {
     "iopub.execute_input": "2025-04-12T20:27:01.230566Z",
     "iopub.status.busy": "2025-04-12T20:27:01.230317Z",
     "iopub.status.idle": "2025-04-12T20:27:01.396836Z",
     "shell.execute_reply": "2025-04-12T20:27:01.396211Z"
    }
   },
   "outputs": [],
   "source": [
    "molsys_D = msm.merge([molsys_A, molsys_B, molsys_C])"
   ]
  },
  {
   "cell_type": "markdown",
   "metadata": {},
   "source": [
    ":::{tip}\n",
    "All methods defined in the {ref}`molsysmt.basic <API basic>` module can be invoked also from the main level of the library. Thus, {func}`molsysmt.merge` is simply an alias of {func}`molsysmt.basic.merge`.\n",
    ":::"
   ]
  },
  {
   "cell_type": "markdown",
   "metadata": {},
   "source": [
    "Let’s now inspect the contents of the merged system $D$:"
   ]
  },
  {
   "cell_type": "code",
   "execution_count": 6,
   "metadata": {
    "execution": {
     "iopub.execute_input": "2025-04-12T20:27:01.399516Z",
     "iopub.status.busy": "2025-04-12T20:27:01.399241Z",
     "iopub.status.idle": "2025-04-12T20:27:02.430756Z",
     "shell.execute_reply": "2025-04-12T20:27:02.429924Z"
    }
   },
   "outputs": [
    {
     "data": {
      "text/html": [
       "<style type=\"text/css\">\n",
       "</style>\n",
       "<table id=\"T_0f115\">\n",
       "  <thead>\n",
       "    <tr>\n",
       "      <th id=\"T_0f115_level0_col0\" class=\"col_heading level0 col0\" >form</th>\n",
       "      <th id=\"T_0f115_level0_col1\" class=\"col_heading level0 col1\" >n_atoms</th>\n",
       "      <th id=\"T_0f115_level0_col2\" class=\"col_heading level0 col2\" >n_groups</th>\n",
       "      <th id=\"T_0f115_level0_col3\" class=\"col_heading level0 col3\" >n_components</th>\n",
       "      <th id=\"T_0f115_level0_col4\" class=\"col_heading level0 col4\" >n_chains</th>\n",
       "      <th id=\"T_0f115_level0_col5\" class=\"col_heading level0 col5\" >n_molecules</th>\n",
       "      <th id=\"T_0f115_level0_col6\" class=\"col_heading level0 col6\" >n_entities</th>\n",
       "      <th id=\"T_0f115_level0_col7\" class=\"col_heading level0 col7\" >n_peptides</th>\n",
       "      <th id=\"T_0f115_level0_col8\" class=\"col_heading level0 col8\" >n_structures</th>\n",
       "    </tr>\n",
       "  </thead>\n",
       "  <tbody>\n",
       "    <tr>\n",
       "      <td id=\"T_0f115_row0_col0\" class=\"data row0 col0\" >molsysmt.MolSys</td>\n",
       "      <td id=\"T_0f115_row0_col1\" class=\"data row0 col1\" >88</td>\n",
       "      <td id=\"T_0f115_row0_col2\" class=\"data row0 col2\" >9</td>\n",
       "      <td id=\"T_0f115_row0_col3\" class=\"data row0 col3\" >3</td>\n",
       "      <td id=\"T_0f115_row0_col4\" class=\"data row0 col4\" >3</td>\n",
       "      <td id=\"T_0f115_row0_col5\" class=\"data row0 col5\" >3</td>\n",
       "      <td id=\"T_0f115_row0_col6\" class=\"data row0 col6\" >1</td>\n",
       "      <td id=\"T_0f115_row0_col7\" class=\"data row0 col7\" >3</td>\n",
       "      <td id=\"T_0f115_row0_col8\" class=\"data row0 col8\" >1</td>\n",
       "    </tr>\n",
       "  </tbody>\n",
       "</table>\n"
      ],
      "text/plain": [
       "<pandas.io.formats.style.Styler at 0x7fd7a13d3620>"
      ]
     },
     "execution_count": 6,
     "metadata": {},
     "output_type": "execute_result"
    }
   ],
   "source": [
    "msm.info(molsys_D)"
   ]
  },
  {
   "cell_type": "code",
   "execution_count": 7,
   "metadata": {
    "editable": true,
    "execution": {
     "iopub.execute_input": "2025-04-12T20:27:02.433830Z",
     "iopub.status.busy": "2025-04-12T20:27:02.433529Z",
     "iopub.status.idle": "2025-04-12T20:27:02.437500Z",
     "shell.execute_reply": "2025-04-12T20:27:02.436798Z"
    },
    "slideshow": {
     "slide_type": ""
    },
    "tags": [
     "remove-input"
    ]
   },
   "outputs": [],
   "source": [
    "# This cell is removed with the tag: \"remove-input\"\n",
    "# As such, it will not be shown in documentation\n",
    "\n",
    "nglview_htmlfile = '../../../../_static/nglview/merge.html'"
   ]
  },
  {
   "cell_type": "code",
   "execution_count": 8,
   "metadata": {
    "execution": {
     "iopub.execute_input": "2025-04-12T20:27:02.440291Z",
     "iopub.status.busy": "2025-04-12T20:27:02.440037Z",
     "iopub.status.idle": "2025-04-12T20:27:02.505442Z",
     "shell.execute_reply": "2025-04-12T20:27:02.504623Z"
    }
   },
   "outputs": [
    {
     "data": {
      "text/html": [
       "\n",
       "        <iframe\n",
       "            width=\"100%\"\n",
       "            height=\"320vh\"\n",
       "            src=\"../../../../_static/nglview/merge.html\"\n",
       "            frameborder=\"0\"\n",
       "            allowfullscreen\n",
       "            \n",
       "        ></iframe>\n",
       "        "
      ],
      "text/plain": [
       "<IPython.lib.display.IFrame at 0x7fd7a123b0b0>"
      ]
     },
     "execution_count": 8,
     "metadata": {},
     "output_type": "execute_result"
    }
   ],
   "source": [
    "msm.view(molsys_D, standard=True)"
   ]
  },
  {
   "cell_type": "code",
   "execution_count": 9,
   "metadata": {
    "editable": true,
    "execution": {
     "iopub.execute_input": "2025-04-12T20:27:02.508674Z",
     "iopub.status.busy": "2025-04-12T20:27:02.508400Z",
     "iopub.status.idle": "2025-04-12T20:27:02.512387Z",
     "shell.execute_reply": "2025-04-12T20:27:02.511830Z"
    },
    "slideshow": {
     "slide_type": ""
    },
    "tags": [
     "remove-input"
    ]
   },
   "outputs": [],
   "source": [
    "# This cell is removed with the tag: \"remove-input\"\n",
    "# As such, it will not be shown in documentation\n",
    "\n",
    "if False:\n",
    "    # to write an html the view had to be displayed in a cell before\n",
    "    msm.thirds.nglview.write_html(view, nglview_htmlfile)"
   ]
  },
  {
   "cell_type": "markdown",
   "metadata": {},
   "source": [
    ":::{seealso}\n",
    "[User guide > Tools > Build > Build peptide](../build/build_peptide.ipynb):    \n",
    "Build peptides from amino acid sequences.\n",
    "\n",
    "[User guide > Tools > Structure > Translate](../structure/translate.ipynb):    \n",
    "Translate molecular systems or selected elements in space.\n",
    "\n",
    "[User guide > Tools > Basic > Info](info.ipynb):    \n",
    "Display summary tables of a molecular system.\n",
    "\n",
    "[User guide > Tools > Basic > View](view.ipynb):    \n",
    "Visualize molecular systems in 3D.\n",
    "\n",
    "[User guide > Tools > Basic > Add](add.ipynb):    \n",
    "Add elements from one system into another.\n",
    "\n",
    ":::"
   ]
  }
 ],
 "metadata": {
  "kernelspec": {
   "display_name": "Python 3 (ipykernel)",
   "language": "python",
   "name": "python3"
  },
  "language_info": {
   "codemirror_mode": {
    "name": "ipython",
    "version": 3
   },
   "file_extension": ".py",
   "mimetype": "text/x-python",
   "name": "python",
   "nbconvert_exporter": "python",
   "pygments_lexer": "ipython3",
   "version": "3.12.9"
  },
  "widgets": {
   "application/vnd.jupyter.widget-state+json": {
    "state": {
     "24aca24d259c44bdb9b80c113e095278": {
      "model_module": "nglview-js-widgets",
      "model_module_version": "3.1.4",
      "model_name": "ColormakerRegistryModel",
      "state": {
       "_dom_classes": [],
       "_model_module": "nglview-js-widgets",
       "_model_module_version": "3.1.4",
       "_model_name": "ColormakerRegistryModel",
       "_msg_ar": [],
       "_msg_q": [],
       "_ready": false,
       "_view_count": null,
       "_view_module": "nglview-js-widgets",
       "_view_module_version": "3.1.4",
       "_view_name": "ColormakerRegistryView",
       "layout": "IPY_MODEL_d2b02849b1f3419781ed2b1a64b3179a",
       "tabbable": null,
       "tooltip": null
      }
     },
     "d2b02849b1f3419781ed2b1a64b3179a": {
      "model_module": "@jupyter-widgets/base",
      "model_module_version": "2.0.0",
      "model_name": "LayoutModel",
      "state": {
       "_model_module": "@jupyter-widgets/base",
       "_model_module_version": "2.0.0",
       "_model_name": "LayoutModel",
       "_view_count": null,
       "_view_module": "@jupyter-widgets/base",
       "_view_module_version": "2.0.0",
       "_view_name": "LayoutView",
       "align_content": null,
       "align_items": null,
       "align_self": null,
       "border_bottom": null,
       "border_left": null,
       "border_right": null,
       "border_top": null,
       "bottom": null,
       "display": null,
       "flex": null,
       "flex_flow": null,
       "grid_area": null,
       "grid_auto_columns": null,
       "grid_auto_flow": null,
       "grid_auto_rows": null,
       "grid_column": null,
       "grid_gap": null,
       "grid_row": null,
       "grid_template_areas": null,
       "grid_template_columns": null,
       "grid_template_rows": null,
       "height": null,
       "justify_content": null,
       "justify_items": null,
       "left": null,
       "margin": null,
       "max_height": null,
       "max_width": null,
       "min_height": null,
       "min_width": null,
       "object_fit": null,
       "object_position": null,
       "order": null,
       "overflow": null,
       "padding": null,
       "right": null,
       "top": null,
       "visibility": null,
       "width": null
      }
     }
    },
    "version_major": 2,
    "version_minor": 0
   }
  }
 },
 "nbformat": 4,
 "nbformat_minor": 4
}
