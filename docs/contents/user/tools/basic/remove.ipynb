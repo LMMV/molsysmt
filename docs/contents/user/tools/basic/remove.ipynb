{
 "cells": [
  {
   "cell_type": "code",
   "execution_count": 1,
   "metadata": {
    "editable": true,
    "execution": {
     "iopub.execute_input": "2025-04-13T02:38:51.179825Z",
     "iopub.status.busy": "2025-04-13T02:38:51.178985Z",
     "iopub.status.idle": "2025-04-13T02:38:51.194516Z",
     "shell.execute_reply": "2025-04-13T02:38:51.192600Z"
    },
    "slideshow": {
     "slide_type": ""
    },
    "tags": [
     "remove-input"
    ]
   },
   "outputs": [],
   "source": [
    "# This cell is removed with the tag: \"remove-input\"\n",
    "# As such, it will not be shown in documentation\n",
    "\n",
    "#import warnings\n",
    "#warnings.filterwarnings('ignore')"
   ]
  },
  {
   "cell_type": "markdown",
   "metadata": {},
   "source": [
    "(Tutorial_Remove)=\n",
    "# Remove\n",
    "\n",
    "*Removing atoms or structures from a molecular system*\n",
    "\n",
    "The function {func}`molsysmt.basic.remove` allows atoms or structures from a molecular system.\n",
    "\n",
    "## How this function works\n",
    "\n",
    "```{admonition} API documentation\n",
    "Follow this link for a detailed description of the input arguments, raised errors, and returned objects of this function:{func}`molsysmt.basic.remove`.\n",
    "```"
   ]
  },
  {
   "cell_type": "markdown",
   "metadata": {},
   "source": [
    "### Removing atoms\n",
    "\n",
    "The function {func}`molsysmt.basic.remove` removes atoms from a molecular system. The input argument `selection` allows us to define the elements to be removed. Let’s see a basic example:"
   ]
  },
  {
   "cell_type": "code",
   "execution_count": 2,
   "metadata": {
    "execution": {
     "iopub.execute_input": "2025-04-13T02:38:51.201920Z",
     "iopub.status.busy": "2025-04-13T02:38:51.200792Z",
     "iopub.status.idle": "2025-04-13T02:38:56.235290Z",
     "shell.execute_reply": "2025-04-13T02:38:56.234604Z"
    }
   },
   "outputs": [
    {
     "data": {
      "application/vnd.jupyter.widget-view+json": {
       "model_id": "3316615f2f594fd3b96a19b7ebee7d75",
       "version_major": 2,
       "version_minor": 0
      },
      "text/plain": []
     },
     "metadata": {},
     "output_type": "display_data"
    }
   ],
   "source": [
    "import molsysmt as msm"
   ]
  },
  {
   "cell_type": "code",
   "execution_count": 3,
   "metadata": {
    "execution": {
     "iopub.execute_input": "2025-04-13T02:38:56.238334Z",
     "iopub.status.busy": "2025-04-13T02:38:56.237294Z",
     "iopub.status.idle": "2025-04-13T02:38:58.033541Z",
     "shell.execute_reply": "2025-04-13T02:38:58.032834Z"
    }
   },
   "outputs": [],
   "source": [
    "molsys = msm.convert('181L')"
   ]
  },
  {
   "cell_type": "code",
   "execution_count": 4,
   "metadata": {
    "execution": {
     "iopub.execute_input": "2025-04-13T02:38:58.035929Z",
     "iopub.status.busy": "2025-04-13T02:38:58.035564Z",
     "iopub.status.idle": "2025-04-13T02:38:59.037019Z",
     "shell.execute_reply": "2025-04-13T02:38:59.036371Z"
    }
   },
   "outputs": [
    {
     "data": {
      "text/html": [
       "<style type=\"text/css\">\n",
       "</style>\n",
       "<table id=\"T_a0411\">\n",
       "  <thead>\n",
       "    <tr>\n",
       "      <th id=\"T_a0411_level0_col0\" class=\"col_heading level0 col0\" >index</th>\n",
       "      <th id=\"T_a0411_level0_col1\" class=\"col_heading level0 col1\" >id</th>\n",
       "      <th id=\"T_a0411_level0_col2\" class=\"col_heading level0 col2\" >name</th>\n",
       "      <th id=\"T_a0411_level0_col3\" class=\"col_heading level0 col3\" >n atoms</th>\n",
       "      <th id=\"T_a0411_level0_col4\" class=\"col_heading level0 col4\" >n groups</th>\n",
       "      <th id=\"T_a0411_level0_col5\" class=\"col_heading level0 col5\" >n components</th>\n",
       "      <th id=\"T_a0411_level0_col6\" class=\"col_heading level0 col6\" >molecule index</th>\n",
       "      <th id=\"T_a0411_level0_col7\" class=\"col_heading level0 col7\" >molecule type</th>\n",
       "      <th id=\"T_a0411_level0_col8\" class=\"col_heading level0 col8\" >entity index</th>\n",
       "      <th id=\"T_a0411_level0_col9\" class=\"col_heading level0 col9\" >entity name</th>\n",
       "    </tr>\n",
       "  </thead>\n",
       "  <tbody>\n",
       "    <tr>\n",
       "      <td id=\"T_a0411_row0_col0\" class=\"data row0 col0\" >0</td>\n",
       "      <td id=\"T_a0411_row0_col1\" class=\"data row0 col1\" >0</td>\n",
       "      <td id=\"T_a0411_row0_col2\" class=\"data row0 col2\" >A</td>\n",
       "      <td id=\"T_a0411_row0_col3\" class=\"data row0 col3\" >1289</td>\n",
       "      <td id=\"T_a0411_row0_col4\" class=\"data row0 col4\" >162</td>\n",
       "      <td id=\"T_a0411_row0_col5\" class=\"data row0 col5\" >1</td>\n",
       "      <td id=\"T_a0411_row0_col6\" class=\"data row0 col6\" >0</td>\n",
       "      <td id=\"T_a0411_row0_col7\" class=\"data row0 col7\" >protein</td>\n",
       "      <td id=\"T_a0411_row0_col8\" class=\"data row0 col8\" >0</td>\n",
       "      <td id=\"T_a0411_row0_col9\" class=\"data row0 col9\" >T4 LYSOZYME</td>\n",
       "    </tr>\n",
       "    <tr>\n",
       "      <td id=\"T_a0411_row1_col0\" class=\"data row1 col0\" >1</td>\n",
       "      <td id=\"T_a0411_row1_col1\" class=\"data row1 col1\" >1</td>\n",
       "      <td id=\"T_a0411_row1_col2\" class=\"data row1 col2\" >A</td>\n",
       "      <td id=\"T_a0411_row1_col3\" class=\"data row1 col3\" >1</td>\n",
       "      <td id=\"T_a0411_row1_col4\" class=\"data row1 col4\" >1</td>\n",
       "      <td id=\"T_a0411_row1_col5\" class=\"data row1 col5\" >1</td>\n",
       "      <td id=\"T_a0411_row1_col6\" class=\"data row1 col6\" >1</td>\n",
       "      <td id=\"T_a0411_row1_col7\" class=\"data row1 col7\" >ion</td>\n",
       "      <td id=\"T_a0411_row1_col8\" class=\"data row1 col8\" >1</td>\n",
       "      <td id=\"T_a0411_row1_col9\" class=\"data row1 col9\" >CHLORIDE ION</td>\n",
       "    </tr>\n",
       "    <tr>\n",
       "      <td id=\"T_a0411_row2_col0\" class=\"data row2 col0\" >2</td>\n",
       "      <td id=\"T_a0411_row2_col1\" class=\"data row2 col1\" >2</td>\n",
       "      <td id=\"T_a0411_row2_col2\" class=\"data row2 col2\" >A</td>\n",
       "      <td id=\"T_a0411_row2_col3\" class=\"data row2 col3\" >1</td>\n",
       "      <td id=\"T_a0411_row2_col4\" class=\"data row2 col4\" >1</td>\n",
       "      <td id=\"T_a0411_row2_col5\" class=\"data row2 col5\" >1</td>\n",
       "      <td id=\"T_a0411_row2_col6\" class=\"data row2 col6\" >2</td>\n",
       "      <td id=\"T_a0411_row2_col7\" class=\"data row2 col7\" >ion</td>\n",
       "      <td id=\"T_a0411_row2_col8\" class=\"data row2 col8\" >1</td>\n",
       "      <td id=\"T_a0411_row2_col9\" class=\"data row2 col9\" >CHLORIDE ION</td>\n",
       "    </tr>\n",
       "    <tr>\n",
       "      <td id=\"T_a0411_row3_col0\" class=\"data row3 col0\" >3</td>\n",
       "      <td id=\"T_a0411_row3_col1\" class=\"data row3 col1\" >3</td>\n",
       "      <td id=\"T_a0411_row3_col2\" class=\"data row3 col2\" >A</td>\n",
       "      <td id=\"T_a0411_row3_col3\" class=\"data row3 col3\" >8</td>\n",
       "      <td id=\"T_a0411_row3_col4\" class=\"data row3 col4\" >1</td>\n",
       "      <td id=\"T_a0411_row3_col5\" class=\"data row3 col5\" >1</td>\n",
       "      <td id=\"T_a0411_row3_col6\" class=\"data row3 col6\" >3</td>\n",
       "      <td id=\"T_a0411_row3_col7\" class=\"data row3 col7\" >small molecule</td>\n",
       "      <td id=\"T_a0411_row3_col8\" class=\"data row3 col8\" >2</td>\n",
       "      <td id=\"T_a0411_row3_col9\" class=\"data row3 col9\" >2-HYDROXYETHYL DISULFIDE</td>\n",
       "    </tr>\n",
       "    <tr>\n",
       "      <td id=\"T_a0411_row4_col0\" class=\"data row4 col0\" >4</td>\n",
       "      <td id=\"T_a0411_row4_col1\" class=\"data row4 col1\" >4</td>\n",
       "      <td id=\"T_a0411_row4_col2\" class=\"data row4 col2\" >A</td>\n",
       "      <td id=\"T_a0411_row4_col3\" class=\"data row4 col3\" >6</td>\n",
       "      <td id=\"T_a0411_row4_col4\" class=\"data row4 col4\" >1</td>\n",
       "      <td id=\"T_a0411_row4_col5\" class=\"data row4 col5\" >1</td>\n",
       "      <td id=\"T_a0411_row4_col6\" class=\"data row4 col6\" >4</td>\n",
       "      <td id=\"T_a0411_row4_col7\" class=\"data row4 col7\" >small molecule</td>\n",
       "      <td id=\"T_a0411_row4_col8\" class=\"data row4 col8\" >3</td>\n",
       "      <td id=\"T_a0411_row4_col9\" class=\"data row4 col9\" >BENZENE</td>\n",
       "    </tr>\n",
       "    <tr>\n",
       "      <td id=\"T_a0411_row5_col0\" class=\"data row5 col0\" >5</td>\n",
       "      <td id=\"T_a0411_row5_col1\" class=\"data row5 col1\" >5</td>\n",
       "      <td id=\"T_a0411_row5_col2\" class=\"data row5 col2\" >A</td>\n",
       "      <td id=\"T_a0411_row5_col3\" class=\"data row5 col3\" >136</td>\n",
       "      <td id=\"T_a0411_row5_col4\" class=\"data row5 col4\" >136</td>\n",
       "      <td id=\"T_a0411_row5_col5\" class=\"data row5 col5\" >136</td>\n",
       "      <td id=\"T_a0411_row5_col6\" class=\"data row5 col6\" >[5, 6, 7, 8, 9, 10, 11, 12, 13, 14, 15, 16, 17, 18, 19, 20, 21, 22, 23, 24, 25, 26, 27, 28, 29, 30, 31, 32, 33, 34, 35, 36, 37, 38, 39, 40, 41, 42, 43, 44, 45, 46, 47, 48, 49, 50, 51, 52, 53, 54, 55, 56, 57, 58, 59, 60, 61, 62, 63, 64, 65, 66, 67, 68, 69, 70, 71, 72, 73, 74, 75, 76, 77, 78, 79, 80, 81, 82, 83, 84, 85, 86, 87, 88, 89, 90, 91, 92, 93, 94, 95, 96, 97, 98, 99, 100, 101, 102, 103, 104, 105, 106, 107, 108, 109, 110, 111, 112, 113, 114, 115, 116, 117, 118, 119, 120, 121, 122, 123, 124, 125, 126, 127, 128, 129, 130, 131, 132, 133, 134, 135, 136, 137, 138, 139, 140]</td>\n",
       "      <td id=\"T_a0411_row5_col7\" class=\"data row5 col7\" >['water', 'water', 'water', 'water', 'water', 'water', 'water', 'water', 'water', 'water', 'water', 'water', 'water', 'water', 'water', 'water', 'water', 'water', 'water', 'water', 'water', 'water', 'water', 'water', 'water', 'water', 'water', 'water', 'water', 'water', 'water', 'water', 'water', 'water', 'water', 'water', 'water', 'water', 'water', 'water', 'water', 'water', 'water', 'water', 'water', 'water', 'water', 'water', 'water', 'water', 'water', 'water', 'water', 'water', 'water', 'water', 'water', 'water', 'water', 'water', 'water', 'water', 'water', 'water', 'water', 'water', 'water', 'water', 'water', 'water', 'water', 'water', 'water', 'water', 'water', 'water', 'water', 'water', 'water', 'water', 'water', 'water', 'water', 'water', 'water', 'water', 'water', 'water', 'water', 'water', 'water', 'water', 'water', 'water', 'water', 'water', 'water', 'water', 'water', 'water', 'water', 'water', 'water', 'water', 'water', 'water', 'water', 'water', 'water', 'water', 'water', 'water', 'water', 'water', 'water', 'water', 'water', 'water', 'water', 'water', 'water', 'water', 'water', 'water', 'water', 'water', 'water', 'water', 'water', 'water', 'water', 'water', 'water', 'water', 'water', 'water']</td>\n",
       "      <td id=\"T_a0411_row5_col8\" class=\"data row5 col8\" >4</td>\n",
       "      <td id=\"T_a0411_row5_col9\" class=\"data row5 col9\" >water</td>\n",
       "    </tr>\n",
       "  </tbody>\n",
       "</table>\n"
      ],
      "text/plain": [
       "<pandas.io.formats.style.Styler at 0x7d09bb845b50>"
      ]
     },
     "execution_count": 4,
     "metadata": {},
     "output_type": "execute_result"
    }
   ],
   "source": [
    "msm.info(molsys, element='chain')"
   ]
  },
  {
   "cell_type": "code",
   "execution_count": 5,
   "metadata": {
    "execution": {
     "iopub.execute_input": "2025-04-13T02:38:59.040096Z",
     "iopub.status.busy": "2025-04-13T02:38:59.039177Z",
     "iopub.status.idle": "2025-04-13T02:38:59.431893Z",
     "shell.execute_reply": "2025-04-13T02:38:59.431171Z"
    }
   },
   "outputs": [],
   "source": [
    "molsys_trimmed = msm.remove(molsys, selection='chain_index==[1,2,3,4,5]')"
   ]
  },
  {
   "cell_type": "markdown",
   "metadata": {},
   "source": [
    ":::{tip}\n",
    "All methods defined in the {ref}`molsysmt.basic <API basic>` module can be invoked also from the main level of the library. Hence, {func}`molsysmt.remove` is the same method as {func}`molsysmt.basic.remove`.\n",
    ":::"
   ]
  },
  {
   "cell_type": "code",
   "execution_count": 6,
   "metadata": {
    "execution": {
     "iopub.execute_input": "2025-04-13T02:38:59.435143Z",
     "iopub.status.busy": "2025-04-13T02:38:59.434335Z",
     "iopub.status.idle": "2025-04-13T02:39:00.360669Z",
     "shell.execute_reply": "2025-04-13T02:39:00.359847Z"
    }
   },
   "outputs": [
    {
     "data": {
      "text/html": [
       "<style type=\"text/css\">\n",
       "</style>\n",
       "<table id=\"T_183a5\">\n",
       "  <thead>\n",
       "    <tr>\n",
       "      <th id=\"T_183a5_level0_col0\" class=\"col_heading level0 col0\" >index</th>\n",
       "      <th id=\"T_183a5_level0_col1\" class=\"col_heading level0 col1\" >id</th>\n",
       "      <th id=\"T_183a5_level0_col2\" class=\"col_heading level0 col2\" >name</th>\n",
       "      <th id=\"T_183a5_level0_col3\" class=\"col_heading level0 col3\" >n atoms</th>\n",
       "      <th id=\"T_183a5_level0_col4\" class=\"col_heading level0 col4\" >n groups</th>\n",
       "      <th id=\"T_183a5_level0_col5\" class=\"col_heading level0 col5\" >n components</th>\n",
       "      <th id=\"T_183a5_level0_col6\" class=\"col_heading level0 col6\" >molecule index</th>\n",
       "      <th id=\"T_183a5_level0_col7\" class=\"col_heading level0 col7\" >molecule type</th>\n",
       "      <th id=\"T_183a5_level0_col8\" class=\"col_heading level0 col8\" >entity index</th>\n",
       "      <th id=\"T_183a5_level0_col9\" class=\"col_heading level0 col9\" >entity name</th>\n",
       "    </tr>\n",
       "  </thead>\n",
       "  <tbody>\n",
       "    <tr>\n",
       "      <td id=\"T_183a5_row0_col0\" class=\"data row0 col0\" >0</td>\n",
       "      <td id=\"T_183a5_row0_col1\" class=\"data row0 col1\" >0</td>\n",
       "      <td id=\"T_183a5_row0_col2\" class=\"data row0 col2\" >A</td>\n",
       "      <td id=\"T_183a5_row0_col3\" class=\"data row0 col3\" >1289</td>\n",
       "      <td id=\"T_183a5_row0_col4\" class=\"data row0 col4\" >162</td>\n",
       "      <td id=\"T_183a5_row0_col5\" class=\"data row0 col5\" >1</td>\n",
       "      <td id=\"T_183a5_row0_col6\" class=\"data row0 col6\" >0</td>\n",
       "      <td id=\"T_183a5_row0_col7\" class=\"data row0 col7\" >protein</td>\n",
       "      <td id=\"T_183a5_row0_col8\" class=\"data row0 col8\" >0</td>\n",
       "      <td id=\"T_183a5_row0_col9\" class=\"data row0 col9\" >T4 LYSOZYME</td>\n",
       "    </tr>\n",
       "  </tbody>\n",
       "</table>\n"
      ],
      "text/plain": [
       "<pandas.io.formats.style.Styler at 0x7d09bb6fb710>"
      ]
     },
     "execution_count": 6,
     "metadata": {},
     "output_type": "execute_result"
    }
   ],
   "source": [
    "msm.info(molsys_trimmed, element='chain')"
   ]
  },
  {
   "cell_type": "markdown",
   "metadata": {},
   "source": [
    "### Removing structures\n",
    "\n",
    "The function {func}`molsysmt.basic.remove` can also remove structures from a molecular system. The input argument `structure_indices` can be used to choose the structures to be removed. The following example shows how to remove structures using this argument:"
   ]
  },
  {
   "cell_type": "code",
   "execution_count": 7,
   "metadata": {
    "execution": {
     "iopub.execute_input": "2025-04-13T02:39:00.362876Z",
     "iopub.status.busy": "2025-04-13T02:39:00.362632Z",
     "iopub.status.idle": "2025-04-13T02:39:00.475603Z",
     "shell.execute_reply": "2025-04-13T02:39:00.474997Z"
    }
   },
   "outputs": [],
   "source": [
    "pdbfile = msm.systems['Trp-Cage']['1l2y.pdb']\n",
    "molsys = msm.convert(pdbfile, to_form='molsysmt.Structures')"
   ]
  },
  {
   "cell_type": "code",
   "execution_count": 8,
   "metadata": {
    "execution": {
     "iopub.execute_input": "2025-04-13T02:39:00.478230Z",
     "iopub.status.busy": "2025-04-13T02:39:00.477822Z",
     "iopub.status.idle": "2025-04-13T02:39:00.489099Z",
     "shell.execute_reply": "2025-04-13T02:39:00.488493Z"
    }
   },
   "outputs": [
    {
     "data": {
      "text/html": [
       "<style type=\"text/css\">\n",
       "</style>\n",
       "<table id=\"T_21c00\">\n",
       "  <thead>\n",
       "    <tr>\n",
       "      <th id=\"T_21c00_level0_col0\" class=\"col_heading level0 col0\" >form</th>\n",
       "      <th id=\"T_21c00_level0_col1\" class=\"col_heading level0 col1\" >n_atoms</th>\n",
       "      <th id=\"T_21c00_level0_col2\" class=\"col_heading level0 col2\" >n_groups</th>\n",
       "      <th id=\"T_21c00_level0_col3\" class=\"col_heading level0 col3\" >n_components</th>\n",
       "      <th id=\"T_21c00_level0_col4\" class=\"col_heading level0 col4\" >n_chains</th>\n",
       "      <th id=\"T_21c00_level0_col5\" class=\"col_heading level0 col5\" >n_molecules</th>\n",
       "      <th id=\"T_21c00_level0_col6\" class=\"col_heading level0 col6\" >n_entities</th>\n",
       "      <th id=\"T_21c00_level0_col7\" class=\"col_heading level0 col7\" >n_structures</th>\n",
       "    </tr>\n",
       "  </thead>\n",
       "  <tbody>\n",
       "    <tr>\n",
       "      <td id=\"T_21c00_row0_col0\" class=\"data row0 col0\" >molsysmt.Structures</td>\n",
       "      <td id=\"T_21c00_row0_col1\" class=\"data row0 col1\" >304</td>\n",
       "      <td id=\"T_21c00_row0_col2\" class=\"data row0 col2\" >None</td>\n",
       "      <td id=\"T_21c00_row0_col3\" class=\"data row0 col3\" >None</td>\n",
       "      <td id=\"T_21c00_row0_col4\" class=\"data row0 col4\" >None</td>\n",
       "      <td id=\"T_21c00_row0_col5\" class=\"data row0 col5\" >None</td>\n",
       "      <td id=\"T_21c00_row0_col6\" class=\"data row0 col6\" >None</td>\n",
       "      <td id=\"T_21c00_row0_col7\" class=\"data row0 col7\" >38</td>\n",
       "    </tr>\n",
       "  </tbody>\n",
       "</table>\n"
      ],
      "text/plain": [
       "<pandas.io.formats.style.Styler at 0x7d09bb75ce60>"
      ]
     },
     "execution_count": 8,
     "metadata": {},
     "output_type": "execute_result"
    }
   ],
   "source": [
    "msm.info(molsys)"
   ]
  },
  {
   "cell_type": "code",
   "execution_count": 9,
   "metadata": {
    "execution": {
     "iopub.execute_input": "2025-04-13T02:39:00.491367Z",
     "iopub.status.busy": "2025-04-13T02:39:00.490966Z",
     "iopub.status.idle": "2025-04-13T02:39:00.495847Z",
     "shell.execute_reply": "2025-04-13T02:39:00.495199Z"
    }
   },
   "outputs": [],
   "source": [
    "molsys_trimmed = msm.remove(molsys, structure_indices=range(1,38))"
   ]
  },
  {
   "cell_type": "code",
   "execution_count": 10,
   "metadata": {
    "execution": {
     "iopub.execute_input": "2025-04-13T02:39:00.497987Z",
     "iopub.status.busy": "2025-04-13T02:39:00.497763Z",
     "iopub.status.idle": "2025-04-13T02:39:00.510371Z",
     "shell.execute_reply": "2025-04-13T02:39:00.509698Z"
    }
   },
   "outputs": [
    {
     "data": {
      "text/html": [
       "<style type=\"text/css\">\n",
       "</style>\n",
       "<table id=\"T_3bd9c\">\n",
       "  <thead>\n",
       "    <tr>\n",
       "      <th id=\"T_3bd9c_level0_col0\" class=\"col_heading level0 col0\" >form</th>\n",
       "      <th id=\"T_3bd9c_level0_col1\" class=\"col_heading level0 col1\" >n_atoms</th>\n",
       "      <th id=\"T_3bd9c_level0_col2\" class=\"col_heading level0 col2\" >n_groups</th>\n",
       "      <th id=\"T_3bd9c_level0_col3\" class=\"col_heading level0 col3\" >n_components</th>\n",
       "      <th id=\"T_3bd9c_level0_col4\" class=\"col_heading level0 col4\" >n_chains</th>\n",
       "      <th id=\"T_3bd9c_level0_col5\" class=\"col_heading level0 col5\" >n_molecules</th>\n",
       "      <th id=\"T_3bd9c_level0_col6\" class=\"col_heading level0 col6\" >n_entities</th>\n",
       "      <th id=\"T_3bd9c_level0_col7\" class=\"col_heading level0 col7\" >n_structures</th>\n",
       "    </tr>\n",
       "  </thead>\n",
       "  <tbody>\n",
       "    <tr>\n",
       "      <td id=\"T_3bd9c_row0_col0\" class=\"data row0 col0\" >molsysmt.Structures</td>\n",
       "      <td id=\"T_3bd9c_row0_col1\" class=\"data row0 col1\" >304</td>\n",
       "      <td id=\"T_3bd9c_row0_col2\" class=\"data row0 col2\" >None</td>\n",
       "      <td id=\"T_3bd9c_row0_col3\" class=\"data row0 col3\" >None</td>\n",
       "      <td id=\"T_3bd9c_row0_col4\" class=\"data row0 col4\" >None</td>\n",
       "      <td id=\"T_3bd9c_row0_col5\" class=\"data row0 col5\" >None</td>\n",
       "      <td id=\"T_3bd9c_row0_col6\" class=\"data row0 col6\" >None</td>\n",
       "      <td id=\"T_3bd9c_row0_col7\" class=\"data row0 col7\" >1</td>\n",
       "    </tr>\n",
       "  </tbody>\n",
       "</table>\n"
      ],
      "text/plain": [
       "<pandas.io.formats.style.Styler at 0x7d09bb75e690>"
      ]
     },
     "execution_count": 10,
     "metadata": {},
     "output_type": "execute_result"
    }
   ],
   "source": [
    "msm.info(molsys_trimmed)"
   ]
  },
  {
   "cell_type": "markdown",
   "metadata": {
    "editable": true,
    "slideshow": {
     "slide_type": ""
    },
    "tags": [
     "remove-input"
    ]
   },
   "source": [
    ":::{seealso}    \n",
    "\n",
    "[User guide > Tools > Basic > Info](info.ipynb):    \n",
    "Display a summary of the contents of a molecular system.\n",
    "\n",
    "[User guide > Tools > Basic > Selection](selection.ipynb):    \n",
    "Select atoms or structural elements using flexible syntax.\n",
    "\n",
    ":::"
   ]
  },
  {
   "cell_type": "markdown",
   "metadata": {},
   "source": [
    ":::{versionadded} 1.0.0    \n",
    "The function {func}`molsysmt.basic.remove` was introduced in version 1.0.0.    \n",
    ":::"
   ]
  }
 ],
 "metadata": {
  "kernelspec": {
   "display_name": "Python 3 (ipykernel)",
   "language": "python",
   "name": "python3"
  },
  "language_info": {
   "codemirror_mode": {
    "name": "ipython",
    "version": 3
   },
   "file_extension": ".py",
   "mimetype": "text/x-python",
   "name": "python",
   "nbconvert_exporter": "python",
   "pygments_lexer": "ipython3",
   "version": "3.12.9"
  },
  "widgets": {
   "application/vnd.jupyter.widget-state+json": {
    "state": {
     "3316615f2f594fd3b96a19b7ebee7d75": {
      "model_module": "nglview-js-widgets",
      "model_module_version": "3.0.8",
      "model_name": "ColormakerRegistryModel",
      "state": {
       "_dom_classes": [],
       "_model_module": "nglview-js-widgets",
       "_model_module_version": "3.0.8",
       "_model_name": "ColormakerRegistryModel",
       "_msg_ar": [],
       "_msg_q": [],
       "_ready": false,
       "_view_count": null,
       "_view_module": "nglview-js-widgets",
       "_view_module_version": "3.0.8",
       "_view_name": "ColormakerRegistryView",
       "layout": "IPY_MODEL_6e9ad5ac2a3e4754b130158dfe7c3e8c",
       "tabbable": null,
       "tooltip": null
      }
     },
     "6e9ad5ac2a3e4754b130158dfe7c3e8c": {
      "model_module": "@jupyter-widgets/base",
      "model_module_version": "2.0.0",
      "model_name": "LayoutModel",
      "state": {
       "_model_module": "@jupyter-widgets/base",
       "_model_module_version": "2.0.0",
       "_model_name": "LayoutModel",
       "_view_count": null,
       "_view_module": "@jupyter-widgets/base",
       "_view_module_version": "2.0.0",
       "_view_name": "LayoutView",
       "align_content": null,
       "align_items": null,
       "align_self": null,
       "border_bottom": null,
       "border_left": null,
       "border_right": null,
       "border_top": null,
       "bottom": null,
       "display": null,
       "flex": null,
       "flex_flow": null,
       "grid_area": null,
       "grid_auto_columns": null,
       "grid_auto_flow": null,
       "grid_auto_rows": null,
       "grid_column": null,
       "grid_gap": null,
       "grid_row": null,
       "grid_template_areas": null,
       "grid_template_columns": null,
       "grid_template_rows": null,
       "height": null,
       "justify_content": null,
       "justify_items": null,
       "left": null,
       "margin": null,
       "max_height": null,
       "max_width": null,
       "min_height": null,
       "min_width": null,
       "object_fit": null,
       "object_position": null,
       "order": null,
       "overflow": null,
       "padding": null,
       "right": null,
       "top": null,
       "visibility": null,
       "width": null
      }
     }
    },
    "version_major": 2,
    "version_minor": 0
   }
  }
 },
 "nbformat": 4,
 "nbformat_minor": 4
}
