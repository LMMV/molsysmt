{
 "cells": [
  {
   "cell_type": "code",
   "execution_count": 1,
   "metadata": {},
   "outputs": [],
   "source": [
    "# This cell is removed with the tag: \"remove-input\"\n",
    "# As such, it will not be shown in documentation\n",
    "\n",
    "import warnings\n",
    "warnings.filterwarnings('ignore')"
   ]
  },
  {
   "cell_type": "markdown",
   "metadata": {},
   "source": [
    "(UserGuide_Tools_Basic_Remove)=\n",
    "# Remove\n",
    "\n",
    "*Removing atoms or structures from a molecular system*\n",
    "\n",
    "The function {func}`molsysmt.basic.remove` can remove atoms or structures from a molecular system."
   ]
  },
  {
   "cell_type": "markdown",
   "metadata": {},
   "source": [
    "## Removing atoms\n",
    "\n",
    "The function {func}`molsysmt.basic.remove` remove atoms from a molecular system. The input argument `selection` allows us to define the elements to be removed. Let's illustrate this with a simple example:"
   ]
  },
  {
   "cell_type": "code",
   "execution_count": 3,
   "metadata": {},
   "outputs": [
    {
     "data": {
      "application/vnd.jupyter.widget-view+json": {
       "model_id": "c16d5a80d3704fe9acd758bfd10c6c37",
       "version_major": 2,
       "version_minor": 0
      },
      "text/plain": []
     },
     "metadata": {},
     "output_type": "display_data"
    }
   ],
   "source": [
    "import molsysmt as msm"
   ]
  },
  {
   "cell_type": "code",
   "execution_count": 4,
   "metadata": {},
   "outputs": [],
   "source": [
    "molecular_system = msm.convert('181L')"
   ]
  },
  {
   "cell_type": "code",
   "execution_count": 8,
   "metadata": {},
   "outputs": [
    {
     "data": {
      "text/html": [
       "<style type=\"text/css\">\n",
       "</style>\n",
       "<table id=\"T_35daa\">\n",
       "  <thead>\n",
       "    <tr>\n",
       "      <th id=\"T_35daa_level0_col0\" class=\"col_heading level0 col0\" >index</th>\n",
       "      <th id=\"T_35daa_level0_col1\" class=\"col_heading level0 col1\" >id</th>\n",
       "      <th id=\"T_35daa_level0_col2\" class=\"col_heading level0 col2\" >name</th>\n",
       "      <th id=\"T_35daa_level0_col3\" class=\"col_heading level0 col3\" >n atoms</th>\n",
       "      <th id=\"T_35daa_level0_col4\" class=\"col_heading level0 col4\" >n groups</th>\n",
       "      <th id=\"T_35daa_level0_col5\" class=\"col_heading level0 col5\" >n components</th>\n",
       "      <th id=\"T_35daa_level0_col6\" class=\"col_heading level0 col6\" >molecule index</th>\n",
       "      <th id=\"T_35daa_level0_col7\" class=\"col_heading level0 col7\" >molecule type</th>\n",
       "      <th id=\"T_35daa_level0_col8\" class=\"col_heading level0 col8\" >entity index</th>\n",
       "      <th id=\"T_35daa_level0_col9\" class=\"col_heading level0 col9\" >entity name</th>\n",
       "    </tr>\n",
       "  </thead>\n",
       "  <tbody>\n",
       "    <tr>\n",
       "      <td id=\"T_35daa_row0_col0\" class=\"data row0 col0\" >0</td>\n",
       "      <td id=\"T_35daa_row0_col1\" class=\"data row0 col1\" >A</td>\n",
       "      <td id=\"T_35daa_row0_col2\" class=\"data row0 col2\" >A</td>\n",
       "      <td id=\"T_35daa_row0_col3\" class=\"data row0 col3\" >1289</td>\n",
       "      <td id=\"T_35daa_row0_col4\" class=\"data row0 col4\" >162</td>\n",
       "      <td id=\"T_35daa_row0_col5\" class=\"data row0 col5\" >1</td>\n",
       "      <td id=\"T_35daa_row0_col6\" class=\"data row0 col6\" >0</td>\n",
       "      <td id=\"T_35daa_row0_col7\" class=\"data row0 col7\" >protein</td>\n",
       "      <td id=\"T_35daa_row0_col8\" class=\"data row0 col8\" >0</td>\n",
       "      <td id=\"T_35daa_row0_col9\" class=\"data row0 col9\" >T4 lysozyme</td>\n",
       "    </tr>\n",
       "    <tr>\n",
       "      <td id=\"T_35daa_row1_col0\" class=\"data row1 col0\" >1</td>\n",
       "      <td id=\"T_35daa_row1_col1\" class=\"data row1 col1\" >B</td>\n",
       "      <td id=\"T_35daa_row1_col2\" class=\"data row1 col2\" >A</td>\n",
       "      <td id=\"T_35daa_row1_col3\" class=\"data row1 col3\" >1</td>\n",
       "      <td id=\"T_35daa_row1_col4\" class=\"data row1 col4\" >1</td>\n",
       "      <td id=\"T_35daa_row1_col5\" class=\"data row1 col5\" >1</td>\n",
       "      <td id=\"T_35daa_row1_col6\" class=\"data row1 col6\" >1</td>\n",
       "      <td id=\"T_35daa_row1_col7\" class=\"data row1 col7\" >ion</td>\n",
       "      <td id=\"T_35daa_row1_col8\" class=\"data row1 col8\" >1</td>\n",
       "      <td id=\"T_35daa_row1_col9\" class=\"data row1 col9\" >Chloride ion</td>\n",
       "    </tr>\n",
       "    <tr>\n",
       "      <td id=\"T_35daa_row2_col0\" class=\"data row2 col0\" >2</td>\n",
       "      <td id=\"T_35daa_row2_col1\" class=\"data row2 col1\" >C</td>\n",
       "      <td id=\"T_35daa_row2_col2\" class=\"data row2 col2\" >A</td>\n",
       "      <td id=\"T_35daa_row2_col3\" class=\"data row2 col3\" >1</td>\n",
       "      <td id=\"T_35daa_row2_col4\" class=\"data row2 col4\" >1</td>\n",
       "      <td id=\"T_35daa_row2_col5\" class=\"data row2 col5\" >1</td>\n",
       "      <td id=\"T_35daa_row2_col6\" class=\"data row2 col6\" >2</td>\n",
       "      <td id=\"T_35daa_row2_col7\" class=\"data row2 col7\" >ion</td>\n",
       "      <td id=\"T_35daa_row2_col8\" class=\"data row2 col8\" >1</td>\n",
       "      <td id=\"T_35daa_row2_col9\" class=\"data row2 col9\" >Chloride ion</td>\n",
       "    </tr>\n",
       "    <tr>\n",
       "      <td id=\"T_35daa_row3_col0\" class=\"data row3 col0\" >3</td>\n",
       "      <td id=\"T_35daa_row3_col1\" class=\"data row3 col1\" >D</td>\n",
       "      <td id=\"T_35daa_row3_col2\" class=\"data row3 col2\" >A</td>\n",
       "      <td id=\"T_35daa_row3_col3\" class=\"data row3 col3\" >8</td>\n",
       "      <td id=\"T_35daa_row3_col4\" class=\"data row3 col4\" >1</td>\n",
       "      <td id=\"T_35daa_row3_col5\" class=\"data row3 col5\" >1</td>\n",
       "      <td id=\"T_35daa_row3_col6\" class=\"data row3 col6\" >3</td>\n",
       "      <td id=\"T_35daa_row3_col7\" class=\"data row3 col7\" >small molecule</td>\n",
       "      <td id=\"T_35daa_row3_col8\" class=\"data row3 col8\" >2</td>\n",
       "      <td id=\"T_35daa_row3_col9\" class=\"data row3 col9\" >2-hydroxyethyl disulfide</td>\n",
       "    </tr>\n",
       "    <tr>\n",
       "      <td id=\"T_35daa_row4_col0\" class=\"data row4 col0\" >4</td>\n",
       "      <td id=\"T_35daa_row4_col1\" class=\"data row4 col1\" >E</td>\n",
       "      <td id=\"T_35daa_row4_col2\" class=\"data row4 col2\" >A</td>\n",
       "      <td id=\"T_35daa_row4_col3\" class=\"data row4 col3\" >6</td>\n",
       "      <td id=\"T_35daa_row4_col4\" class=\"data row4 col4\" >1</td>\n",
       "      <td id=\"T_35daa_row4_col5\" class=\"data row4 col5\" >1</td>\n",
       "      <td id=\"T_35daa_row4_col6\" class=\"data row4 col6\" >4</td>\n",
       "      <td id=\"T_35daa_row4_col7\" class=\"data row4 col7\" >small molecule</td>\n",
       "      <td id=\"T_35daa_row4_col8\" class=\"data row4 col8\" >3</td>\n",
       "      <td id=\"T_35daa_row4_col9\" class=\"data row4 col9\" >Benzene</td>\n",
       "    </tr>\n",
       "    <tr>\n",
       "      <td id=\"T_35daa_row5_col0\" class=\"data row5 col0\" >5</td>\n",
       "      <td id=\"T_35daa_row5_col1\" class=\"data row5 col1\" >F</td>\n",
       "      <td id=\"T_35daa_row5_col2\" class=\"data row5 col2\" >A</td>\n",
       "      <td id=\"T_35daa_row5_col3\" class=\"data row5 col3\" >136</td>\n",
       "      <td id=\"T_35daa_row5_col4\" class=\"data row5 col4\" >136</td>\n",
       "      <td id=\"T_35daa_row5_col5\" class=\"data row5 col5\" >136</td>\n",
       "      <td id=\"T_35daa_row5_col6\" class=\"data row5 col6\" >[  5   6   7   8   9  10  11  12  13  14  15  16  17  18  19  20  21  22\n",
       "  23  24  25  26  27  28  29  30  31  32  33  34  35  36  37  38  39  40\n",
       "  41  42  43  44  45  46  47  48  49  50  51  52  53  54  55  56  57  58\n",
       "  59  60  61  62  63  64  65  66  67  68  69  70  71  72  73  74  75  76\n",
       "  77  78  79  80  81  82  83  84  85  86  87  88  89  90  91  92  93  94\n",
       "  95  96  97  98  99 100 101 102 103 104 105 106 107 108 109 110 111 112\n",
       " 113 114 115 116 117 118 119 120 121 122 123 124 125 126 127 128 129 130\n",
       " 131 132 133 134 135 136 137 138 139 140]</td>\n",
       "      <td id=\"T_35daa_row5_col7\" class=\"data row5 col7\" >['water' 'water' 'water' 'water' 'water' 'water' 'water' 'water' 'water'\n",
       " 'water' 'water' 'water' 'water' 'water' 'water' 'water' 'water' 'water'\n",
       " 'water' 'water' 'water' 'water' 'water' 'water' 'water' 'water' 'water'\n",
       " 'water' 'water' 'water' 'water' 'water' 'water' 'water' 'water' 'water'\n",
       " 'water' 'water' 'water' 'water' 'water' 'water' 'water' 'water' 'water'\n",
       " 'water' 'water' 'water' 'water' 'water' 'water' 'water' 'water' 'water'\n",
       " 'water' 'water' 'water' 'water' 'water' 'water' 'water' 'water' 'water'\n",
       " 'water' 'water' 'water' 'water' 'water' 'water' 'water' 'water' 'water'\n",
       " 'water' 'water' 'water' 'water' 'water' 'water' 'water' 'water' 'water'\n",
       " 'water' 'water' 'water' 'water' 'water' 'water' 'water' 'water' 'water'\n",
       " 'water' 'water' 'water' 'water' 'water' 'water' 'water' 'water' 'water'\n",
       " 'water' 'water' 'water' 'water' 'water' 'water' 'water' 'water' 'water'\n",
       " 'water' 'water' 'water' 'water' 'water' 'water' 'water' 'water' 'water'\n",
       " 'water' 'water' 'water' 'water' 'water' 'water' 'water' 'water' 'water'\n",
       " 'water' 'water' 'water' 'water' 'water' 'water' 'water' 'water' 'water'\n",
       " 'water']</td>\n",
       "      <td id=\"T_35daa_row5_col8\" class=\"data row5 col8\" >4</td>\n",
       "      <td id=\"T_35daa_row5_col9\" class=\"data row5 col9\" >water</td>\n",
       "    </tr>\n",
       "  </tbody>\n",
       "</table>\n"
      ],
      "text/plain": [
       "<pandas.io.formats.style.Styler at 0x7f05b5332ee0>"
      ]
     },
     "execution_count": 8,
     "metadata": {},
     "output_type": "execute_result"
    }
   ],
   "source": [
    "msm.info(molecular_system, element='chain')"
   ]
  },
  {
   "cell_type": "code",
   "execution_count": 9,
   "metadata": {},
   "outputs": [],
   "source": [
    "molecular_system_trimmed = msm.remove(molecular_system, selection='chain_index==[1,2,3,4,5]')"
   ]
  },
  {
   "cell_type": "code",
   "execution_count": 10,
   "metadata": {},
   "outputs": [
    {
     "data": {
      "text/html": [
       "<style type=\"text/css\">\n",
       "</style>\n",
       "<table id=\"T_33637\">\n",
       "  <thead>\n",
       "    <tr>\n",
       "      <th id=\"T_33637_level0_col0\" class=\"col_heading level0 col0\" >form</th>\n",
       "      <th id=\"T_33637_level0_col1\" class=\"col_heading level0 col1\" >n_atoms</th>\n",
       "      <th id=\"T_33637_level0_col2\" class=\"col_heading level0 col2\" >n_groups</th>\n",
       "      <th id=\"T_33637_level0_col3\" class=\"col_heading level0 col3\" >n_components</th>\n",
       "      <th id=\"T_33637_level0_col4\" class=\"col_heading level0 col4\" >n_chains</th>\n",
       "      <th id=\"T_33637_level0_col5\" class=\"col_heading level0 col5\" >n_molecules</th>\n",
       "      <th id=\"T_33637_level0_col6\" class=\"col_heading level0 col6\" >n_entities</th>\n",
       "      <th id=\"T_33637_level0_col7\" class=\"col_heading level0 col7\" >n_proteins</th>\n",
       "      <th id=\"T_33637_level0_col8\" class=\"col_heading level0 col8\" >n_structures</th>\n",
       "    </tr>\n",
       "  </thead>\n",
       "  <tbody>\n",
       "    <tr>\n",
       "      <td id=\"T_33637_row0_col0\" class=\"data row0 col0\" >molsysmt.MolSys</td>\n",
       "      <td id=\"T_33637_row0_col1\" class=\"data row0 col1\" >1289</td>\n",
       "      <td id=\"T_33637_row0_col2\" class=\"data row0 col2\" >162</td>\n",
       "      <td id=\"T_33637_row0_col3\" class=\"data row0 col3\" >1</td>\n",
       "      <td id=\"T_33637_row0_col4\" class=\"data row0 col4\" >1</td>\n",
       "      <td id=\"T_33637_row0_col5\" class=\"data row0 col5\" >1</td>\n",
       "      <td id=\"T_33637_row0_col6\" class=\"data row0 col6\" >1</td>\n",
       "      <td id=\"T_33637_row0_col7\" class=\"data row0 col7\" >1</td>\n",
       "      <td id=\"T_33637_row0_col8\" class=\"data row0 col8\" >1</td>\n",
       "    </tr>\n",
       "  </tbody>\n",
       "</table>\n"
      ],
      "text/plain": [
       "<pandas.io.formats.style.Styler at 0x7f05b5338eb0>"
      ]
     },
     "execution_count": 10,
     "metadata": {},
     "output_type": "execute_result"
    }
   ],
   "source": [
    "msm.info(molecular_system_trimmed)"
   ]
  },
  {
   "cell_type": "markdown",
   "metadata": {},
   "source": [
    "## Removing structures\n",
    "\n",
    "The function {func}`molsysmt.basic.remove` can also remove structures. The input argument `structure_indices` can be used to choose the structures to be removed. Let's illustrate this with a simple example:"
   ]
  },
  {
   "cell_type": "code",
   "execution_count": 11,
   "metadata": {},
   "outputs": [],
   "source": [
    "pdbfile = msm.demo['Trp-Cage']['1l2y.pdb']\n",
    "molecular_system = msm.convert(pdbfile, to_form='molsysmt.Structures')"
   ]
  },
  {
   "cell_type": "code",
   "execution_count": 12,
   "metadata": {},
   "outputs": [
    {
     "data": {
      "text/html": [
       "<style type=\"text/css\">\n",
       "</style>\n",
       "<table id=\"T_78359\">\n",
       "  <thead>\n",
       "    <tr>\n",
       "      <th id=\"T_78359_level0_col0\" class=\"col_heading level0 col0\" >form</th>\n",
       "      <th id=\"T_78359_level0_col1\" class=\"col_heading level0 col1\" >n_atoms</th>\n",
       "      <th id=\"T_78359_level0_col2\" class=\"col_heading level0 col2\" >n_groups</th>\n",
       "      <th id=\"T_78359_level0_col3\" class=\"col_heading level0 col3\" >n_components</th>\n",
       "      <th id=\"T_78359_level0_col4\" class=\"col_heading level0 col4\" >n_chains</th>\n",
       "      <th id=\"T_78359_level0_col5\" class=\"col_heading level0 col5\" >n_molecules</th>\n",
       "      <th id=\"T_78359_level0_col6\" class=\"col_heading level0 col6\" >n_entities</th>\n",
       "      <th id=\"T_78359_level0_col7\" class=\"col_heading level0 col7\" >n_structures</th>\n",
       "    </tr>\n",
       "  </thead>\n",
       "  <tbody>\n",
       "    <tr>\n",
       "      <td id=\"T_78359_row0_col0\" class=\"data row0 col0\" >molsysmt.Structures</td>\n",
       "      <td id=\"T_78359_row0_col1\" class=\"data row0 col1\" >304</td>\n",
       "      <td id=\"T_78359_row0_col2\" class=\"data row0 col2\" >None</td>\n",
       "      <td id=\"T_78359_row0_col3\" class=\"data row0 col3\" >None</td>\n",
       "      <td id=\"T_78359_row0_col4\" class=\"data row0 col4\" >None</td>\n",
       "      <td id=\"T_78359_row0_col5\" class=\"data row0 col5\" >None</td>\n",
       "      <td id=\"T_78359_row0_col6\" class=\"data row0 col6\" >None</td>\n",
       "      <td id=\"T_78359_row0_col7\" class=\"data row0 col7\" >38</td>\n",
       "    </tr>\n",
       "  </tbody>\n",
       "</table>\n"
      ],
      "text/plain": [
       "<pandas.io.formats.style.Styler at 0x7f05b5367670>"
      ]
     },
     "execution_count": 12,
     "metadata": {},
     "output_type": "execute_result"
    }
   ],
   "source": [
    "msm.info(molecular_system)"
   ]
  },
  {
   "cell_type": "code",
   "execution_count": 13,
   "metadata": {},
   "outputs": [],
   "source": [
    "molecular_system_trimmed = msm.remove(molecular_system, structure_indices=range(1,38))"
   ]
  },
  {
   "cell_type": "code",
   "execution_count": 14,
   "metadata": {},
   "outputs": [
    {
     "data": {
      "text/html": [
       "<style type=\"text/css\">\n",
       "</style>\n",
       "<table id=\"T_70b19\">\n",
       "  <thead>\n",
       "    <tr>\n",
       "      <th id=\"T_70b19_level0_col0\" class=\"col_heading level0 col0\" >form</th>\n",
       "      <th id=\"T_70b19_level0_col1\" class=\"col_heading level0 col1\" >n_atoms</th>\n",
       "      <th id=\"T_70b19_level0_col2\" class=\"col_heading level0 col2\" >n_groups</th>\n",
       "      <th id=\"T_70b19_level0_col3\" class=\"col_heading level0 col3\" >n_components</th>\n",
       "      <th id=\"T_70b19_level0_col4\" class=\"col_heading level0 col4\" >n_chains</th>\n",
       "      <th id=\"T_70b19_level0_col5\" class=\"col_heading level0 col5\" >n_molecules</th>\n",
       "      <th id=\"T_70b19_level0_col6\" class=\"col_heading level0 col6\" >n_entities</th>\n",
       "      <th id=\"T_70b19_level0_col7\" class=\"col_heading level0 col7\" >n_structures</th>\n",
       "    </tr>\n",
       "  </thead>\n",
       "  <tbody>\n",
       "    <tr>\n",
       "      <td id=\"T_70b19_row0_col0\" class=\"data row0 col0\" >molsysmt.Structures</td>\n",
       "      <td id=\"T_70b19_row0_col1\" class=\"data row0 col1\" >304</td>\n",
       "      <td id=\"T_70b19_row0_col2\" class=\"data row0 col2\" >None</td>\n",
       "      <td id=\"T_70b19_row0_col3\" class=\"data row0 col3\" >None</td>\n",
       "      <td id=\"T_70b19_row0_col4\" class=\"data row0 col4\" >None</td>\n",
       "      <td id=\"T_70b19_row0_col5\" class=\"data row0 col5\" >None</td>\n",
       "      <td id=\"T_70b19_row0_col6\" class=\"data row0 col6\" >None</td>\n",
       "      <td id=\"T_70b19_row0_col7\" class=\"data row0 col7\" >1</td>\n",
       "    </tr>\n",
       "  </tbody>\n",
       "</table>\n"
      ],
      "text/plain": [
       "<pandas.io.formats.style.Styler at 0x7f05b53298e0>"
      ]
     },
     "execution_count": 14,
     "metadata": {},
     "output_type": "execute_result"
    }
   ],
   "source": [
    "msm.info(molecular_system_trimmed)"
   ]
  }
 ],
 "metadata": {
  "kernelspec": {
   "display_name": "Python 3 (ipykernel)",
   "language": "python",
   "name": "python3"
  },
  "language_info": {
   "codemirror_mode": {
    "name": "ipython",
    "version": 3
   },
   "file_extension": ".py",
   "mimetype": "text/x-python",
   "name": "python",
   "nbconvert_exporter": "python",
   "pygments_lexer": "ipython3",
   "version": "3.9.13"
  }
 },
 "nbformat": 4,
 "nbformat_minor": 4
}
