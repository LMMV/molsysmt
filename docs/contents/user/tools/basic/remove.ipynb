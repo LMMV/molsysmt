{
 "cells": [
  {
   "cell_type": "code",
   "execution_count": 1,
   "metadata": {
    "editable": true,
    "execution": {
     "iopub.execute_input": "2025-03-11T21:03:16.959152Z",
     "iopub.status.busy": "2025-03-11T21:03:16.958705Z",
     "iopub.status.idle": "2025-03-11T21:03:16.963555Z",
     "shell.execute_reply": "2025-03-11T21:03:16.962667Z"
    },
    "slideshow": {
     "slide_type": ""
    },
    "tags": [
     "remove-input"
    ]
   },
   "outputs": [],
   "source": [
    "# This cell is removed with the tag: \"remove-input\"\n",
    "# As such, it will not be shown in documentation\n",
    "\n",
    "#import warnings\n",
    "#warnings.filterwarnings('ignore')"
   ]
  },
  {
   "cell_type": "markdown",
   "metadata": {},
   "source": [
    "(Tutorial_Remove)=\n",
    "# Remove\n",
    "\n",
    "*Removing atoms or structures from a molecular system*\n",
    "\n",
    "The function {func}`molsysmt.basic.remove` can remove atoms or structures from a molecular system.\n",
    "\n",
    "## How this function works\n",
    "\n",
    "```{admonition} API documentation\n",
    "Follow this link for a detailed description of the input arguments, raised errors, and returned objects of this function:{func}`molsysmt.basic.remove`.\n",
    "```"
   ]
  },
  {
   "cell_type": "markdown",
   "metadata": {},
   "source": [
    "### Removing atoms\n",
    "\n",
    "The function {func}`molsysmt.basic.remove` remove atoms from a molecular system. The input argument `selection` allows us to define the elements to be removed. Let's illustrate this with a simple example:"
   ]
  },
  {
   "cell_type": "code",
   "execution_count": 2,
   "metadata": {
    "execution": {
     "iopub.execute_input": "2025-03-11T21:03:16.966954Z",
     "iopub.status.busy": "2025-03-11T21:03:16.966606Z",
     "iopub.status.idle": "2025-03-11T21:03:25.412543Z",
     "shell.execute_reply": "2025-03-11T21:03:25.411781Z"
    }
   },
   "outputs": [
    {
     "data": {
      "application/vnd.jupyter.widget-view+json": {
       "model_id": "aea008a33e9b4e9784e72a8502fed8cc",
       "version_major": 2,
       "version_minor": 0
      },
      "text/plain": []
     },
     "metadata": {},
     "output_type": "display_data"
    }
   ],
   "source": [
    "import molsysmt as msm"
   ]
  },
  {
   "cell_type": "code",
   "execution_count": 3,
   "metadata": {
    "execution": {
     "iopub.execute_input": "2025-03-11T21:03:25.415591Z",
     "iopub.status.busy": "2025-03-11T21:03:25.414887Z",
     "iopub.status.idle": "2025-03-11T21:03:26.955957Z",
     "shell.execute_reply": "2025-03-11T21:03:26.955116Z"
    }
   },
   "outputs": [],
   "source": [
    "molecular_system = msm.convert('181L')"
   ]
  },
  {
   "cell_type": "code",
   "execution_count": 4,
   "metadata": {
    "execution": {
     "iopub.execute_input": "2025-03-11T21:03:26.968974Z",
     "iopub.status.busy": "2025-03-11T21:03:26.967783Z",
     "iopub.status.idle": "2025-03-11T21:03:28.844704Z",
     "shell.execute_reply": "2025-03-11T21:03:28.844056Z"
    }
   },
   "outputs": [
    {
     "data": {
      "text/html": [
       "<style type=\"text/css\">\n",
       "</style>\n",
       "<table id=\"T_f4b60\">\n",
       "  <thead>\n",
       "    <tr>\n",
       "      <th id=\"T_f4b60_level0_col0\" class=\"col_heading level0 col0\" >index</th>\n",
       "      <th id=\"T_f4b60_level0_col1\" class=\"col_heading level0 col1\" >id</th>\n",
       "      <th id=\"T_f4b60_level0_col2\" class=\"col_heading level0 col2\" >name</th>\n",
       "      <th id=\"T_f4b60_level0_col3\" class=\"col_heading level0 col3\" >n atoms</th>\n",
       "      <th id=\"T_f4b60_level0_col4\" class=\"col_heading level0 col4\" >n groups</th>\n",
       "      <th id=\"T_f4b60_level0_col5\" class=\"col_heading level0 col5\" >n components</th>\n",
       "      <th id=\"T_f4b60_level0_col6\" class=\"col_heading level0 col6\" >molecule index</th>\n",
       "      <th id=\"T_f4b60_level0_col7\" class=\"col_heading level0 col7\" >molecule type</th>\n",
       "      <th id=\"T_f4b60_level0_col8\" class=\"col_heading level0 col8\" >entity index</th>\n",
       "      <th id=\"T_f4b60_level0_col9\" class=\"col_heading level0 col9\" >entity name</th>\n",
       "    </tr>\n",
       "  </thead>\n",
       "  <tbody>\n",
       "    <tr>\n",
       "      <td id=\"T_f4b60_row0_col0\" class=\"data row0 col0\" >0</td>\n",
       "      <td id=\"T_f4b60_row0_col1\" class=\"data row0 col1\" >0</td>\n",
       "      <td id=\"T_f4b60_row0_col2\" class=\"data row0 col2\" >A</td>\n",
       "      <td id=\"T_f4b60_row0_col3\" class=\"data row0 col3\" >1289</td>\n",
       "      <td id=\"T_f4b60_row0_col4\" class=\"data row0 col4\" >162</td>\n",
       "      <td id=\"T_f4b60_row0_col5\" class=\"data row0 col5\" >1</td>\n",
       "      <td id=\"T_f4b60_row0_col6\" class=\"data row0 col6\" >0</td>\n",
       "      <td id=\"T_f4b60_row0_col7\" class=\"data row0 col7\" >protein</td>\n",
       "      <td id=\"T_f4b60_row0_col8\" class=\"data row0 col8\" >0</td>\n",
       "      <td id=\"T_f4b60_row0_col9\" class=\"data row0 col9\" >T4 LYSOZYME</td>\n",
       "    </tr>\n",
       "    <tr>\n",
       "      <td id=\"T_f4b60_row1_col0\" class=\"data row1 col0\" >1</td>\n",
       "      <td id=\"T_f4b60_row1_col1\" class=\"data row1 col1\" >1</td>\n",
       "      <td id=\"T_f4b60_row1_col2\" class=\"data row1 col2\" >A</td>\n",
       "      <td id=\"T_f4b60_row1_col3\" class=\"data row1 col3\" >1</td>\n",
       "      <td id=\"T_f4b60_row1_col4\" class=\"data row1 col4\" >1</td>\n",
       "      <td id=\"T_f4b60_row1_col5\" class=\"data row1 col5\" >1</td>\n",
       "      <td id=\"T_f4b60_row1_col6\" class=\"data row1 col6\" >1</td>\n",
       "      <td id=\"T_f4b60_row1_col7\" class=\"data row1 col7\" >ion</td>\n",
       "      <td id=\"T_f4b60_row1_col8\" class=\"data row1 col8\" >1</td>\n",
       "      <td id=\"T_f4b60_row1_col9\" class=\"data row1 col9\" >CHLORIDE ION</td>\n",
       "    </tr>\n",
       "    <tr>\n",
       "      <td id=\"T_f4b60_row2_col0\" class=\"data row2 col0\" >2</td>\n",
       "      <td id=\"T_f4b60_row2_col1\" class=\"data row2 col1\" >2</td>\n",
       "      <td id=\"T_f4b60_row2_col2\" class=\"data row2 col2\" >A</td>\n",
       "      <td id=\"T_f4b60_row2_col3\" class=\"data row2 col3\" >1</td>\n",
       "      <td id=\"T_f4b60_row2_col4\" class=\"data row2 col4\" >1</td>\n",
       "      <td id=\"T_f4b60_row2_col5\" class=\"data row2 col5\" >1</td>\n",
       "      <td id=\"T_f4b60_row2_col6\" class=\"data row2 col6\" >2</td>\n",
       "      <td id=\"T_f4b60_row2_col7\" class=\"data row2 col7\" >ion</td>\n",
       "      <td id=\"T_f4b60_row2_col8\" class=\"data row2 col8\" >1</td>\n",
       "      <td id=\"T_f4b60_row2_col9\" class=\"data row2 col9\" >CHLORIDE ION</td>\n",
       "    </tr>\n",
       "    <tr>\n",
       "      <td id=\"T_f4b60_row3_col0\" class=\"data row3 col0\" >3</td>\n",
       "      <td id=\"T_f4b60_row3_col1\" class=\"data row3 col1\" >3</td>\n",
       "      <td id=\"T_f4b60_row3_col2\" class=\"data row3 col2\" >A</td>\n",
       "      <td id=\"T_f4b60_row3_col3\" class=\"data row3 col3\" >8</td>\n",
       "      <td id=\"T_f4b60_row3_col4\" class=\"data row3 col4\" >1</td>\n",
       "      <td id=\"T_f4b60_row3_col5\" class=\"data row3 col5\" >1</td>\n",
       "      <td id=\"T_f4b60_row3_col6\" class=\"data row3 col6\" >3</td>\n",
       "      <td id=\"T_f4b60_row3_col7\" class=\"data row3 col7\" >small molecule</td>\n",
       "      <td id=\"T_f4b60_row3_col8\" class=\"data row3 col8\" >2</td>\n",
       "      <td id=\"T_f4b60_row3_col9\" class=\"data row3 col9\" >2-HYDROXYETHYL DISULFIDE</td>\n",
       "    </tr>\n",
       "    <tr>\n",
       "      <td id=\"T_f4b60_row4_col0\" class=\"data row4 col0\" >4</td>\n",
       "      <td id=\"T_f4b60_row4_col1\" class=\"data row4 col1\" >4</td>\n",
       "      <td id=\"T_f4b60_row4_col2\" class=\"data row4 col2\" >A</td>\n",
       "      <td id=\"T_f4b60_row4_col3\" class=\"data row4 col3\" >6</td>\n",
       "      <td id=\"T_f4b60_row4_col4\" class=\"data row4 col4\" >1</td>\n",
       "      <td id=\"T_f4b60_row4_col5\" class=\"data row4 col5\" >1</td>\n",
       "      <td id=\"T_f4b60_row4_col6\" class=\"data row4 col6\" >4</td>\n",
       "      <td id=\"T_f4b60_row4_col7\" class=\"data row4 col7\" >small molecule</td>\n",
       "      <td id=\"T_f4b60_row4_col8\" class=\"data row4 col8\" >3</td>\n",
       "      <td id=\"T_f4b60_row4_col9\" class=\"data row4 col9\" >BENZENE</td>\n",
       "    </tr>\n",
       "    <tr>\n",
       "      <td id=\"T_f4b60_row5_col0\" class=\"data row5 col0\" >5</td>\n",
       "      <td id=\"T_f4b60_row5_col1\" class=\"data row5 col1\" >5</td>\n",
       "      <td id=\"T_f4b60_row5_col2\" class=\"data row5 col2\" >A</td>\n",
       "      <td id=\"T_f4b60_row5_col3\" class=\"data row5 col3\" >136</td>\n",
       "      <td id=\"T_f4b60_row5_col4\" class=\"data row5 col4\" >136</td>\n",
       "      <td id=\"T_f4b60_row5_col5\" class=\"data row5 col5\" >136</td>\n",
       "      <td id=\"T_f4b60_row5_col6\" class=\"data row5 col6\" >[5, 6, 7, 8, 9, 10, 11, 12, 13, 14, 15, 16, 17, 18, 19, 20, 21, 22, 23, 24, 25, 26, 27, 28, 29, 30, 31, 32, 33, 34, 35, 36, 37, 38, 39, 40, 41, 42, 43, 44, 45, 46, 47, 48, 49, 50, 51, 52, 53, 54, 55, 56, 57, 58, 59, 60, 61, 62, 63, 64, 65, 66, 67, 68, 69, 70, 71, 72, 73, 74, 75, 76, 77, 78, 79, 80, 81, 82, 83, 84, 85, 86, 87, 88, 89, 90, 91, 92, 93, 94, 95, 96, 97, 98, 99, 100, 101, 102, 103, 104, 105, 106, 107, 108, 109, 110, 111, 112, 113, 114, 115, 116, 117, 118, 119, 120, 121, 122, 123, 124, 125, 126, 127, 128, 129, 130, 131, 132, 133, 134, 135, 136, 137, 138, 139, 140]</td>\n",
       "      <td id=\"T_f4b60_row5_col7\" class=\"data row5 col7\" >['water', 'water', 'water', 'water', 'water', 'water', 'water', 'water', 'water', 'water', 'water', 'water', 'water', 'water', 'water', 'water', 'water', 'water', 'water', 'water', 'water', 'water', 'water', 'water', 'water', 'water', 'water', 'water', 'water', 'water', 'water', 'water', 'water', 'water', 'water', 'water', 'water', 'water', 'water', 'water', 'water', 'water', 'water', 'water', 'water', 'water', 'water', 'water', 'water', 'water', 'water', 'water', 'water', 'water', 'water', 'water', 'water', 'water', 'water', 'water', 'water', 'water', 'water', 'water', 'water', 'water', 'water', 'water', 'water', 'water', 'water', 'water', 'water', 'water', 'water', 'water', 'water', 'water', 'water', 'water', 'water', 'water', 'water', 'water', 'water', 'water', 'water', 'water', 'water', 'water', 'water', 'water', 'water', 'water', 'water', 'water', 'water', 'water', 'water', 'water', 'water', 'water', 'water', 'water', 'water', 'water', 'water', 'water', 'water', 'water', 'water', 'water', 'water', 'water', 'water', 'water', 'water', 'water', 'water', 'water', 'water', 'water', 'water', 'water', 'water', 'water', 'water', 'water', 'water', 'water', 'water', 'water', 'water', 'water', 'water', 'water']</td>\n",
       "      <td id=\"T_f4b60_row5_col8\" class=\"data row5 col8\" >4</td>\n",
       "      <td id=\"T_f4b60_row5_col9\" class=\"data row5 col9\" >water</td>\n",
       "    </tr>\n",
       "  </tbody>\n",
       "</table>\n"
      ],
      "text/plain": [
       "<pandas.io.formats.style.Styler at 0x7fb17ffeea20>"
      ]
     },
     "execution_count": 4,
     "metadata": {},
     "output_type": "execute_result"
    }
   ],
   "source": [
    "msm.info(molecular_system, element='chain')"
   ]
  },
  {
   "cell_type": "code",
   "execution_count": 5,
   "metadata": {
    "execution": {
     "iopub.execute_input": "2025-03-11T21:03:28.847905Z",
     "iopub.status.busy": "2025-03-11T21:03:28.847570Z",
     "iopub.status.idle": "2025-03-11T21:03:29.484627Z",
     "shell.execute_reply": "2025-03-11T21:03:29.483639Z"
    }
   },
   "outputs": [],
   "source": [
    "molecular_system_trimmed = msm.remove(molecular_system, selection='chain_index==[1,2,3,4,5]')"
   ]
  },
  {
   "cell_type": "markdown",
   "metadata": {},
   "source": [
    ":::{tip}\n",
    "All methods defined in the {ref}`molsysmt.basic <API basic>` module can be invoked also from the main level of the library. Hence, {func}`molsysmt.remove` is the same method as {func}`molsysmt.basic.remove`.\n",
    ":::"
   ]
  },
  {
   "cell_type": "code",
   "execution_count": 6,
   "metadata": {
    "execution": {
     "iopub.execute_input": "2025-03-11T21:03:29.488052Z",
     "iopub.status.busy": "2025-03-11T21:03:29.487643Z",
     "iopub.status.idle": "2025-03-11T21:03:31.449871Z",
     "shell.execute_reply": "2025-03-11T21:03:31.448932Z"
    }
   },
   "outputs": [
    {
     "data": {
      "text/html": [
       "<style type=\"text/css\">\n",
       "</style>\n",
       "<table id=\"T_c625c\">\n",
       "  <thead>\n",
       "    <tr>\n",
       "      <th id=\"T_c625c_level0_col0\" class=\"col_heading level0 col0\" >index</th>\n",
       "      <th id=\"T_c625c_level0_col1\" class=\"col_heading level0 col1\" >id</th>\n",
       "      <th id=\"T_c625c_level0_col2\" class=\"col_heading level0 col2\" >name</th>\n",
       "      <th id=\"T_c625c_level0_col3\" class=\"col_heading level0 col3\" >n atoms</th>\n",
       "      <th id=\"T_c625c_level0_col4\" class=\"col_heading level0 col4\" >n groups</th>\n",
       "      <th id=\"T_c625c_level0_col5\" class=\"col_heading level0 col5\" >n components</th>\n",
       "      <th id=\"T_c625c_level0_col6\" class=\"col_heading level0 col6\" >molecule index</th>\n",
       "      <th id=\"T_c625c_level0_col7\" class=\"col_heading level0 col7\" >molecule type</th>\n",
       "      <th id=\"T_c625c_level0_col8\" class=\"col_heading level0 col8\" >entity index</th>\n",
       "      <th id=\"T_c625c_level0_col9\" class=\"col_heading level0 col9\" >entity name</th>\n",
       "    </tr>\n",
       "  </thead>\n",
       "  <tbody>\n",
       "    <tr>\n",
       "      <td id=\"T_c625c_row0_col0\" class=\"data row0 col0\" >0</td>\n",
       "      <td id=\"T_c625c_row0_col1\" class=\"data row0 col1\" >0</td>\n",
       "      <td id=\"T_c625c_row0_col2\" class=\"data row0 col2\" >A</td>\n",
       "      <td id=\"T_c625c_row0_col3\" class=\"data row0 col3\" >1289</td>\n",
       "      <td id=\"T_c625c_row0_col4\" class=\"data row0 col4\" >162</td>\n",
       "      <td id=\"T_c625c_row0_col5\" class=\"data row0 col5\" >1</td>\n",
       "      <td id=\"T_c625c_row0_col6\" class=\"data row0 col6\" >0</td>\n",
       "      <td id=\"T_c625c_row0_col7\" class=\"data row0 col7\" >protein</td>\n",
       "      <td id=\"T_c625c_row0_col8\" class=\"data row0 col8\" >0</td>\n",
       "      <td id=\"T_c625c_row0_col9\" class=\"data row0 col9\" >T4 LYSOZYME</td>\n",
       "    </tr>\n",
       "  </tbody>\n",
       "</table>\n"
      ],
      "text/plain": [
       "<pandas.io.formats.style.Styler at 0x7fb18389a930>"
      ]
     },
     "execution_count": 6,
     "metadata": {},
     "output_type": "execute_result"
    }
   ],
   "source": [
    "msm.info(molecular_system_trimmed, element='chain')"
   ]
  },
  {
   "cell_type": "markdown",
   "metadata": {},
   "source": [
    "### Removing structures\n",
    "\n",
    "The function {func}`molsysmt.basic.remove` can also remove structures. The input argument `structure_indices` can be used to choose the structures to be removed. Let's illustrate this with a simple example:"
   ]
  },
  {
   "cell_type": "code",
   "execution_count": 7,
   "metadata": {
    "execution": {
     "iopub.execute_input": "2025-03-11T21:03:31.454309Z",
     "iopub.status.busy": "2025-03-11T21:03:31.453692Z",
     "iopub.status.idle": "2025-03-11T21:03:31.707927Z",
     "shell.execute_reply": "2025-03-11T21:03:31.706934Z"
    }
   },
   "outputs": [],
   "source": [
    "pdbfile = msm.systems['Trp-Cage']['1l2y.pdb']\n",
    "molecular_system = msm.convert(pdbfile, to_form='molsysmt.Structures')"
   ]
  },
  {
   "cell_type": "code",
   "execution_count": 8,
   "metadata": {
    "execution": {
     "iopub.execute_input": "2025-03-11T21:03:31.711395Z",
     "iopub.status.busy": "2025-03-11T21:03:31.710932Z",
     "iopub.status.idle": "2025-03-11T21:03:31.728938Z",
     "shell.execute_reply": "2025-03-11T21:03:31.728134Z"
    }
   },
   "outputs": [
    {
     "data": {
      "text/html": [
       "<style type=\"text/css\">\n",
       "</style>\n",
       "<table id=\"T_f5ab2\">\n",
       "  <thead>\n",
       "    <tr>\n",
       "      <th id=\"T_f5ab2_level0_col0\" class=\"col_heading level0 col0\" >form</th>\n",
       "      <th id=\"T_f5ab2_level0_col1\" class=\"col_heading level0 col1\" >n_atoms</th>\n",
       "      <th id=\"T_f5ab2_level0_col2\" class=\"col_heading level0 col2\" >n_groups</th>\n",
       "      <th id=\"T_f5ab2_level0_col3\" class=\"col_heading level0 col3\" >n_components</th>\n",
       "      <th id=\"T_f5ab2_level0_col4\" class=\"col_heading level0 col4\" >n_chains</th>\n",
       "      <th id=\"T_f5ab2_level0_col5\" class=\"col_heading level0 col5\" >n_molecules</th>\n",
       "      <th id=\"T_f5ab2_level0_col6\" class=\"col_heading level0 col6\" >n_entities</th>\n",
       "      <th id=\"T_f5ab2_level0_col7\" class=\"col_heading level0 col7\" >n_structures</th>\n",
       "    </tr>\n",
       "  </thead>\n",
       "  <tbody>\n",
       "    <tr>\n",
       "      <td id=\"T_f5ab2_row0_col0\" class=\"data row0 col0\" >molsysmt.Structures</td>\n",
       "      <td id=\"T_f5ab2_row0_col1\" class=\"data row0 col1\" >304</td>\n",
       "      <td id=\"T_f5ab2_row0_col2\" class=\"data row0 col2\" >None</td>\n",
       "      <td id=\"T_f5ab2_row0_col3\" class=\"data row0 col3\" >None</td>\n",
       "      <td id=\"T_f5ab2_row0_col4\" class=\"data row0 col4\" >None</td>\n",
       "      <td id=\"T_f5ab2_row0_col5\" class=\"data row0 col5\" >None</td>\n",
       "      <td id=\"T_f5ab2_row0_col6\" class=\"data row0 col6\" >None</td>\n",
       "      <td id=\"T_f5ab2_row0_col7\" class=\"data row0 col7\" >38</td>\n",
       "    </tr>\n",
       "  </tbody>\n",
       "</table>\n"
      ],
      "text/plain": [
       "<pandas.io.formats.style.Styler at 0x7fb182d04c20>"
      ]
     },
     "execution_count": 8,
     "metadata": {},
     "output_type": "execute_result"
    }
   ],
   "source": [
    "msm.info(molecular_system)"
   ]
  },
  {
   "cell_type": "code",
   "execution_count": 9,
   "metadata": {
    "execution": {
     "iopub.execute_input": "2025-03-11T21:03:31.733217Z",
     "iopub.status.busy": "2025-03-11T21:03:31.732584Z",
     "iopub.status.idle": "2025-03-11T21:03:31.738843Z",
     "shell.execute_reply": "2025-03-11T21:03:31.737982Z"
    }
   },
   "outputs": [],
   "source": [
    "molecular_system_trimmed = msm.remove(molecular_system, structure_indices=range(1,38))"
   ]
  },
  {
   "cell_type": "markdown",
   "metadata": {},
   "source": [
    ":::{tip}\n",
    "All methods defined in the {ref}`molsysmt.basic <API basic>` module can be invoked also from the main level of the library. Hence, {func}`molsysmt.remove` is the same method as {func}`molsysmt.basic.remove`.\n",
    ":::"
   ]
  },
  {
   "cell_type": "code",
   "execution_count": 10,
   "metadata": {
    "execution": {
     "iopub.execute_input": "2025-03-11T21:03:31.742702Z",
     "iopub.status.busy": "2025-03-11T21:03:31.742046Z",
     "iopub.status.idle": "2025-03-11T21:03:31.758742Z",
     "shell.execute_reply": "2025-03-11T21:03:31.757911Z"
    }
   },
   "outputs": [
    {
     "data": {
      "text/html": [
       "<style type=\"text/css\">\n",
       "</style>\n",
       "<table id=\"T_ebc24\">\n",
       "  <thead>\n",
       "    <tr>\n",
       "      <th id=\"T_ebc24_level0_col0\" class=\"col_heading level0 col0\" >form</th>\n",
       "      <th id=\"T_ebc24_level0_col1\" class=\"col_heading level0 col1\" >n_atoms</th>\n",
       "      <th id=\"T_ebc24_level0_col2\" class=\"col_heading level0 col2\" >n_groups</th>\n",
       "      <th id=\"T_ebc24_level0_col3\" class=\"col_heading level0 col3\" >n_components</th>\n",
       "      <th id=\"T_ebc24_level0_col4\" class=\"col_heading level0 col4\" >n_chains</th>\n",
       "      <th id=\"T_ebc24_level0_col5\" class=\"col_heading level0 col5\" >n_molecules</th>\n",
       "      <th id=\"T_ebc24_level0_col6\" class=\"col_heading level0 col6\" >n_entities</th>\n",
       "      <th id=\"T_ebc24_level0_col7\" class=\"col_heading level0 col7\" >n_structures</th>\n",
       "    </tr>\n",
       "  </thead>\n",
       "  <tbody>\n",
       "    <tr>\n",
       "      <td id=\"T_ebc24_row0_col0\" class=\"data row0 col0\" >molsysmt.Structures</td>\n",
       "      <td id=\"T_ebc24_row0_col1\" class=\"data row0 col1\" >304</td>\n",
       "      <td id=\"T_ebc24_row0_col2\" class=\"data row0 col2\" >None</td>\n",
       "      <td id=\"T_ebc24_row0_col3\" class=\"data row0 col3\" >None</td>\n",
       "      <td id=\"T_ebc24_row0_col4\" class=\"data row0 col4\" >None</td>\n",
       "      <td id=\"T_ebc24_row0_col5\" class=\"data row0 col5\" >None</td>\n",
       "      <td id=\"T_ebc24_row0_col6\" class=\"data row0 col6\" >None</td>\n",
       "      <td id=\"T_ebc24_row0_col7\" class=\"data row0 col7\" >1</td>\n",
       "    </tr>\n",
       "  </tbody>\n",
       "</table>\n"
      ],
      "text/plain": [
       "<pandas.io.formats.style.Styler at 0x7fb180026480>"
      ]
     },
     "execution_count": 10,
     "metadata": {},
     "output_type": "execute_result"
    }
   ],
   "source": [
    "msm.info(molecular_system_trimmed)"
   ]
  },
  {
   "cell_type": "markdown",
   "metadata": {
    "editable": true,
    "slideshow": {
     "slide_type": ""
    },
    "tags": [
     "remove-input"
    ]
   },
   "source": [
    ":::{seealso}\n",
    "[User guide > Tools > Basic > Info](info.ipynb): Printing out summary information of a molecular system.    \n",
    "[User guide > Tools > Basic > Selection](selection.ipynb):    \n",
    ":::"
   ]
  }
 ],
 "metadata": {
  "kernelspec": {
   "display_name": "Python 3 (ipykernel)",
   "language": "python",
   "name": "python3"
  },
  "language_info": {
   "codemirror_mode": {
    "name": "ipython",
    "version": 3
   },
   "file_extension": ".py",
   "mimetype": "text/x-python",
   "name": "python",
   "nbconvert_exporter": "python",
   "pygments_lexer": "ipython3",
   "version": "3.12.8"
  },
  "widgets": {
   "application/vnd.jupyter.widget-state+json": {
    "state": {
     "aea008a33e9b4e9784e72a8502fed8cc": {
      "model_module": "nglview-js-widgets",
      "model_module_version": "3.1.4",
      "model_name": "ColormakerRegistryModel",
      "state": {
       "_dom_classes": [],
       "_model_module": "nglview-js-widgets",
       "_model_module_version": "3.1.4",
       "_model_name": "ColormakerRegistryModel",
       "_msg_ar": [],
       "_msg_q": [],
       "_ready": false,
       "_view_count": null,
       "_view_module": "nglview-js-widgets",
       "_view_module_version": "3.1.4",
       "_view_name": "ColormakerRegistryView",
       "layout": "IPY_MODEL_d094a3c60b18471fb6d417b84f1e74c4",
       "tabbable": null,
       "tooltip": null
      }
     },
     "d094a3c60b18471fb6d417b84f1e74c4": {
      "model_module": "@jupyter-widgets/base",
      "model_module_version": "2.0.0",
      "model_name": "LayoutModel",
      "state": {
       "_model_module": "@jupyter-widgets/base",
       "_model_module_version": "2.0.0",
       "_model_name": "LayoutModel",
       "_view_count": null,
       "_view_module": "@jupyter-widgets/base",
       "_view_module_version": "2.0.0",
       "_view_name": "LayoutView",
       "align_content": null,
       "align_items": null,
       "align_self": null,
       "border_bottom": null,
       "border_left": null,
       "border_right": null,
       "border_top": null,
       "bottom": null,
       "display": null,
       "flex": null,
       "flex_flow": null,
       "grid_area": null,
       "grid_auto_columns": null,
       "grid_auto_flow": null,
       "grid_auto_rows": null,
       "grid_column": null,
       "grid_gap": null,
       "grid_row": null,
       "grid_template_areas": null,
       "grid_template_columns": null,
       "grid_template_rows": null,
       "height": null,
       "justify_content": null,
       "justify_items": null,
       "left": null,
       "margin": null,
       "max_height": null,
       "max_width": null,
       "min_height": null,
       "min_width": null,
       "object_fit": null,
       "object_position": null,
       "order": null,
       "overflow": null,
       "padding": null,
       "right": null,
       "top": null,
       "visibility": null,
       "width": null
      }
     }
    },
    "version_major": 2,
    "version_minor": 0
   }
  }
 },
 "nbformat": 4,
 "nbformat_minor": 4
}
