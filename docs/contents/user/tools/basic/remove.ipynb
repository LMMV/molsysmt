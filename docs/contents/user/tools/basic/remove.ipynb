{
 "cells": [
  {
   "cell_type": "code",
   "execution_count": 1,
   "metadata": {
    "editable": true,
    "execution": {
     "iopub.execute_input": "2025-04-13T03:08:06.440257Z",
     "iopub.status.busy": "2025-04-13T03:08:06.439578Z",
     "iopub.status.idle": "2025-04-13T03:08:06.450495Z",
     "shell.execute_reply": "2025-04-13T03:08:06.447949Z"
    },
    "slideshow": {
     "slide_type": ""
    },
    "tags": [
     "remove-input"
    ]
   },
   "outputs": [],
   "source": [
    "# This cell is removed with the tag: \"remove-input\"\n",
    "# As such, it will not be shown in documentation\n",
    "\n",
    "#import warnings\n",
    "#warnings.filterwarnings('ignore')"
   ]
  },
  {
   "cell_type": "markdown",
   "metadata": {},
   "source": [
    "(Tutorial_Remove)=\n",
    "# Remove\n",
    "\n",
    "*Removing atoms or structures from a molecular system*\n",
    "\n",
    "The function {func}`molsysmt.basic.remove` allows atoms or structures from a molecular system.\n",
    "\n",
    ":::{versionadded} 1.0.0\n",
    ":::\n",
    "\n",
    "## How this function works\n",
    "\n",
    "```{admonition} API documentation\n",
    "Follow this link for a detailed description of the input arguments, raised errors, and returned objects of this function:{func}`molsysmt.basic.remove`.\n",
    "```"
   ]
  },
  {
   "cell_type": "markdown",
   "metadata": {},
   "source": [
    "### Removing atoms\n",
    "\n",
    "The function {func}`molsysmt.basic.remove` removes atoms from a molecular system. The input argument `selection` allows us to define the elements to be removed. Let’s see a basic example:"
   ]
  },
  {
   "cell_type": "code",
   "execution_count": 2,
   "metadata": {
    "execution": {
     "iopub.execute_input": "2025-04-13T03:08:06.458332Z",
     "iopub.status.busy": "2025-04-13T03:08:06.457655Z",
     "iopub.status.idle": "2025-04-13T03:08:11.337080Z",
     "shell.execute_reply": "2025-04-13T03:08:11.336283Z"
    }
   },
   "outputs": [
    {
     "data": {
      "application/vnd.jupyter.widget-view+json": {
       "model_id": "a732e83305c1443caaa4c19d56767e33",
       "version_major": 2,
       "version_minor": 0
      },
      "text/plain": []
     },
     "metadata": {},
     "output_type": "display_data"
    }
   ],
   "source": [
    "import molsysmt as msm"
   ]
  },
  {
   "cell_type": "code",
   "execution_count": 3,
   "metadata": {
    "execution": {
     "iopub.execute_input": "2025-04-13T03:08:11.339331Z",
     "iopub.status.busy": "2025-04-13T03:08:11.338899Z",
     "iopub.status.idle": "2025-04-13T03:08:13.284453Z",
     "shell.execute_reply": "2025-04-13T03:08:13.283784Z"
    }
   },
   "outputs": [],
   "source": [
    "molsys = msm.convert('181L')"
   ]
  },
  {
   "cell_type": "code",
   "execution_count": 4,
   "metadata": {
    "execution": {
     "iopub.execute_input": "2025-04-13T03:08:13.286803Z",
     "iopub.status.busy": "2025-04-13T03:08:13.286440Z",
     "iopub.status.idle": "2025-04-13T03:08:14.272702Z",
     "shell.execute_reply": "2025-04-13T03:08:14.272155Z"
    }
   },
   "outputs": [
    {
     "data": {
      "text/html": [
       "<style type=\"text/css\">\n",
       "</style>\n",
       "<table id=\"T_bc69d\">\n",
       "  <thead>\n",
       "    <tr>\n",
       "      <th id=\"T_bc69d_level0_col0\" class=\"col_heading level0 col0\" >index</th>\n",
       "      <th id=\"T_bc69d_level0_col1\" class=\"col_heading level0 col1\" >id</th>\n",
       "      <th id=\"T_bc69d_level0_col2\" class=\"col_heading level0 col2\" >name</th>\n",
       "      <th id=\"T_bc69d_level0_col3\" class=\"col_heading level0 col3\" >n atoms</th>\n",
       "      <th id=\"T_bc69d_level0_col4\" class=\"col_heading level0 col4\" >n groups</th>\n",
       "      <th id=\"T_bc69d_level0_col5\" class=\"col_heading level0 col5\" >n components</th>\n",
       "      <th id=\"T_bc69d_level0_col6\" class=\"col_heading level0 col6\" >molecule index</th>\n",
       "      <th id=\"T_bc69d_level0_col7\" class=\"col_heading level0 col7\" >molecule type</th>\n",
       "      <th id=\"T_bc69d_level0_col8\" class=\"col_heading level0 col8\" >entity index</th>\n",
       "      <th id=\"T_bc69d_level0_col9\" class=\"col_heading level0 col9\" >entity name</th>\n",
       "    </tr>\n",
       "  </thead>\n",
       "  <tbody>\n",
       "    <tr>\n",
       "      <td id=\"T_bc69d_row0_col0\" class=\"data row0 col0\" >0</td>\n",
       "      <td id=\"T_bc69d_row0_col1\" class=\"data row0 col1\" >0</td>\n",
       "      <td id=\"T_bc69d_row0_col2\" class=\"data row0 col2\" >A</td>\n",
       "      <td id=\"T_bc69d_row0_col3\" class=\"data row0 col3\" >1289</td>\n",
       "      <td id=\"T_bc69d_row0_col4\" class=\"data row0 col4\" >162</td>\n",
       "      <td id=\"T_bc69d_row0_col5\" class=\"data row0 col5\" >1</td>\n",
       "      <td id=\"T_bc69d_row0_col6\" class=\"data row0 col6\" >0</td>\n",
       "      <td id=\"T_bc69d_row0_col7\" class=\"data row0 col7\" >protein</td>\n",
       "      <td id=\"T_bc69d_row0_col8\" class=\"data row0 col8\" >0</td>\n",
       "      <td id=\"T_bc69d_row0_col9\" class=\"data row0 col9\" >T4 LYSOZYME</td>\n",
       "    </tr>\n",
       "    <tr>\n",
       "      <td id=\"T_bc69d_row1_col0\" class=\"data row1 col0\" >1</td>\n",
       "      <td id=\"T_bc69d_row1_col1\" class=\"data row1 col1\" >1</td>\n",
       "      <td id=\"T_bc69d_row1_col2\" class=\"data row1 col2\" >A</td>\n",
       "      <td id=\"T_bc69d_row1_col3\" class=\"data row1 col3\" >1</td>\n",
       "      <td id=\"T_bc69d_row1_col4\" class=\"data row1 col4\" >1</td>\n",
       "      <td id=\"T_bc69d_row1_col5\" class=\"data row1 col5\" >1</td>\n",
       "      <td id=\"T_bc69d_row1_col6\" class=\"data row1 col6\" >1</td>\n",
       "      <td id=\"T_bc69d_row1_col7\" class=\"data row1 col7\" >ion</td>\n",
       "      <td id=\"T_bc69d_row1_col8\" class=\"data row1 col8\" >1</td>\n",
       "      <td id=\"T_bc69d_row1_col9\" class=\"data row1 col9\" >CHLORIDE ION</td>\n",
       "    </tr>\n",
       "    <tr>\n",
       "      <td id=\"T_bc69d_row2_col0\" class=\"data row2 col0\" >2</td>\n",
       "      <td id=\"T_bc69d_row2_col1\" class=\"data row2 col1\" >2</td>\n",
       "      <td id=\"T_bc69d_row2_col2\" class=\"data row2 col2\" >A</td>\n",
       "      <td id=\"T_bc69d_row2_col3\" class=\"data row2 col3\" >1</td>\n",
       "      <td id=\"T_bc69d_row2_col4\" class=\"data row2 col4\" >1</td>\n",
       "      <td id=\"T_bc69d_row2_col5\" class=\"data row2 col5\" >1</td>\n",
       "      <td id=\"T_bc69d_row2_col6\" class=\"data row2 col6\" >2</td>\n",
       "      <td id=\"T_bc69d_row2_col7\" class=\"data row2 col7\" >ion</td>\n",
       "      <td id=\"T_bc69d_row2_col8\" class=\"data row2 col8\" >1</td>\n",
       "      <td id=\"T_bc69d_row2_col9\" class=\"data row2 col9\" >CHLORIDE ION</td>\n",
       "    </tr>\n",
       "    <tr>\n",
       "      <td id=\"T_bc69d_row3_col0\" class=\"data row3 col0\" >3</td>\n",
       "      <td id=\"T_bc69d_row3_col1\" class=\"data row3 col1\" >3</td>\n",
       "      <td id=\"T_bc69d_row3_col2\" class=\"data row3 col2\" >A</td>\n",
       "      <td id=\"T_bc69d_row3_col3\" class=\"data row3 col3\" >8</td>\n",
       "      <td id=\"T_bc69d_row3_col4\" class=\"data row3 col4\" >1</td>\n",
       "      <td id=\"T_bc69d_row3_col5\" class=\"data row3 col5\" >1</td>\n",
       "      <td id=\"T_bc69d_row3_col6\" class=\"data row3 col6\" >3</td>\n",
       "      <td id=\"T_bc69d_row3_col7\" class=\"data row3 col7\" >small molecule</td>\n",
       "      <td id=\"T_bc69d_row3_col8\" class=\"data row3 col8\" >2</td>\n",
       "      <td id=\"T_bc69d_row3_col9\" class=\"data row3 col9\" >2-HYDROXYETHYL DISULFIDE</td>\n",
       "    </tr>\n",
       "    <tr>\n",
       "      <td id=\"T_bc69d_row4_col0\" class=\"data row4 col0\" >4</td>\n",
       "      <td id=\"T_bc69d_row4_col1\" class=\"data row4 col1\" >4</td>\n",
       "      <td id=\"T_bc69d_row4_col2\" class=\"data row4 col2\" >A</td>\n",
       "      <td id=\"T_bc69d_row4_col3\" class=\"data row4 col3\" >6</td>\n",
       "      <td id=\"T_bc69d_row4_col4\" class=\"data row4 col4\" >1</td>\n",
       "      <td id=\"T_bc69d_row4_col5\" class=\"data row4 col5\" >1</td>\n",
       "      <td id=\"T_bc69d_row4_col6\" class=\"data row4 col6\" >4</td>\n",
       "      <td id=\"T_bc69d_row4_col7\" class=\"data row4 col7\" >small molecule</td>\n",
       "      <td id=\"T_bc69d_row4_col8\" class=\"data row4 col8\" >3</td>\n",
       "      <td id=\"T_bc69d_row4_col9\" class=\"data row4 col9\" >BENZENE</td>\n",
       "    </tr>\n",
       "    <tr>\n",
       "      <td id=\"T_bc69d_row5_col0\" class=\"data row5 col0\" >5</td>\n",
       "      <td id=\"T_bc69d_row5_col1\" class=\"data row5 col1\" >5</td>\n",
       "      <td id=\"T_bc69d_row5_col2\" class=\"data row5 col2\" >A</td>\n",
       "      <td id=\"T_bc69d_row5_col3\" class=\"data row5 col3\" >136</td>\n",
       "      <td id=\"T_bc69d_row5_col4\" class=\"data row5 col4\" >136</td>\n",
       "      <td id=\"T_bc69d_row5_col5\" class=\"data row5 col5\" >136</td>\n",
       "      <td id=\"T_bc69d_row5_col6\" class=\"data row5 col6\" >[5, 6, 7, 8, 9, 10, 11, 12, 13, 14, 15, 16, 17, 18, 19, 20, 21, 22, 23, 24, 25, 26, 27, 28, 29, 30, 31, 32, 33, 34, 35, 36, 37, 38, 39, 40, 41, 42, 43, 44, 45, 46, 47, 48, 49, 50, 51, 52, 53, 54, 55, 56, 57, 58, 59, 60, 61, 62, 63, 64, 65, 66, 67, 68, 69, 70, 71, 72, 73, 74, 75, 76, 77, 78, 79, 80, 81, 82, 83, 84, 85, 86, 87, 88, 89, 90, 91, 92, 93, 94, 95, 96, 97, 98, 99, 100, 101, 102, 103, 104, 105, 106, 107, 108, 109, 110, 111, 112, 113, 114, 115, 116, 117, 118, 119, 120, 121, 122, 123, 124, 125, 126, 127, 128, 129, 130, 131, 132, 133, 134, 135, 136, 137, 138, 139, 140]</td>\n",
       "      <td id=\"T_bc69d_row5_col7\" class=\"data row5 col7\" >['water', 'water', 'water', 'water', 'water', 'water', 'water', 'water', 'water', 'water', 'water', 'water', 'water', 'water', 'water', 'water', 'water', 'water', 'water', 'water', 'water', 'water', 'water', 'water', 'water', 'water', 'water', 'water', 'water', 'water', 'water', 'water', 'water', 'water', 'water', 'water', 'water', 'water', 'water', 'water', 'water', 'water', 'water', 'water', 'water', 'water', 'water', 'water', 'water', 'water', 'water', 'water', 'water', 'water', 'water', 'water', 'water', 'water', 'water', 'water', 'water', 'water', 'water', 'water', 'water', 'water', 'water', 'water', 'water', 'water', 'water', 'water', 'water', 'water', 'water', 'water', 'water', 'water', 'water', 'water', 'water', 'water', 'water', 'water', 'water', 'water', 'water', 'water', 'water', 'water', 'water', 'water', 'water', 'water', 'water', 'water', 'water', 'water', 'water', 'water', 'water', 'water', 'water', 'water', 'water', 'water', 'water', 'water', 'water', 'water', 'water', 'water', 'water', 'water', 'water', 'water', 'water', 'water', 'water', 'water', 'water', 'water', 'water', 'water', 'water', 'water', 'water', 'water', 'water', 'water', 'water', 'water', 'water', 'water', 'water', 'water']</td>\n",
       "      <td id=\"T_bc69d_row5_col8\" class=\"data row5 col8\" >4</td>\n",
       "      <td id=\"T_bc69d_row5_col9\" class=\"data row5 col9\" >water</td>\n",
       "    </tr>\n",
       "  </tbody>\n",
       "</table>\n"
      ],
      "text/plain": [
       "<pandas.io.formats.style.Styler at 0x7a7c018b1f70>"
      ]
     },
     "execution_count": 4,
     "metadata": {},
     "output_type": "execute_result"
    }
   ],
   "source": [
    "msm.info(molsys, element='chain')"
   ]
  },
  {
   "cell_type": "code",
   "execution_count": 5,
   "metadata": {
    "execution": {
     "iopub.execute_input": "2025-04-13T03:08:14.274862Z",
     "iopub.status.busy": "2025-04-13T03:08:14.274467Z",
     "iopub.status.idle": "2025-04-13T03:08:14.666092Z",
     "shell.execute_reply": "2025-04-13T03:08:14.665339Z"
    }
   },
   "outputs": [],
   "source": [
    "molsys_trimmed = msm.remove(molsys, selection='chain_index==[1,2,3,4,5]')"
   ]
  },
  {
   "cell_type": "markdown",
   "metadata": {},
   "source": [
    ":::{tip}\n",
    "All methods defined in the {ref}`molsysmt.basic <API basic>` module can be invoked also from the main level of the library. Hence, {func}`molsysmt.remove` is the same method as {func}`molsysmt.basic.remove`.\n",
    ":::"
   ]
  },
  {
   "cell_type": "code",
   "execution_count": 6,
   "metadata": {
    "execution": {
     "iopub.execute_input": "2025-04-13T03:08:14.668794Z",
     "iopub.status.busy": "2025-04-13T03:08:14.668393Z",
     "iopub.status.idle": "2025-04-13T03:08:15.563758Z",
     "shell.execute_reply": "2025-04-13T03:08:15.562968Z"
    }
   },
   "outputs": [
    {
     "data": {
      "text/html": [
       "<style type=\"text/css\">\n",
       "</style>\n",
       "<table id=\"T_e796f\">\n",
       "  <thead>\n",
       "    <tr>\n",
       "      <th id=\"T_e796f_level0_col0\" class=\"col_heading level0 col0\" >index</th>\n",
       "      <th id=\"T_e796f_level0_col1\" class=\"col_heading level0 col1\" >id</th>\n",
       "      <th id=\"T_e796f_level0_col2\" class=\"col_heading level0 col2\" >name</th>\n",
       "      <th id=\"T_e796f_level0_col3\" class=\"col_heading level0 col3\" >n atoms</th>\n",
       "      <th id=\"T_e796f_level0_col4\" class=\"col_heading level0 col4\" >n groups</th>\n",
       "      <th id=\"T_e796f_level0_col5\" class=\"col_heading level0 col5\" >n components</th>\n",
       "      <th id=\"T_e796f_level0_col6\" class=\"col_heading level0 col6\" >molecule index</th>\n",
       "      <th id=\"T_e796f_level0_col7\" class=\"col_heading level0 col7\" >molecule type</th>\n",
       "      <th id=\"T_e796f_level0_col8\" class=\"col_heading level0 col8\" >entity index</th>\n",
       "      <th id=\"T_e796f_level0_col9\" class=\"col_heading level0 col9\" >entity name</th>\n",
       "    </tr>\n",
       "  </thead>\n",
       "  <tbody>\n",
       "    <tr>\n",
       "      <td id=\"T_e796f_row0_col0\" class=\"data row0 col0\" >0</td>\n",
       "      <td id=\"T_e796f_row0_col1\" class=\"data row0 col1\" >0</td>\n",
       "      <td id=\"T_e796f_row0_col2\" class=\"data row0 col2\" >A</td>\n",
       "      <td id=\"T_e796f_row0_col3\" class=\"data row0 col3\" >1289</td>\n",
       "      <td id=\"T_e796f_row0_col4\" class=\"data row0 col4\" >162</td>\n",
       "      <td id=\"T_e796f_row0_col5\" class=\"data row0 col5\" >1</td>\n",
       "      <td id=\"T_e796f_row0_col6\" class=\"data row0 col6\" >0</td>\n",
       "      <td id=\"T_e796f_row0_col7\" class=\"data row0 col7\" >protein</td>\n",
       "      <td id=\"T_e796f_row0_col8\" class=\"data row0 col8\" >0</td>\n",
       "      <td id=\"T_e796f_row0_col9\" class=\"data row0 col9\" >T4 LYSOZYME</td>\n",
       "    </tr>\n",
       "  </tbody>\n",
       "</table>\n"
      ],
      "text/plain": [
       "<pandas.io.formats.style.Styler at 0x7a7c0189f410>"
      ]
     },
     "execution_count": 6,
     "metadata": {},
     "output_type": "execute_result"
    }
   ],
   "source": [
    "msm.info(molsys_trimmed, element='chain')"
   ]
  },
  {
   "cell_type": "markdown",
   "metadata": {},
   "source": [
    "### Removing structures\n",
    "\n",
    "The function {func}`molsysmt.basic.remove` can also remove structures from a molecular system. The input argument `structure_indices` can be used to choose the structures to be removed. The following example shows how to remove structures using this argument:"
   ]
  },
  {
   "cell_type": "code",
   "execution_count": 7,
   "metadata": {
    "execution": {
     "iopub.execute_input": "2025-04-13T03:08:15.566745Z",
     "iopub.status.busy": "2025-04-13T03:08:15.566321Z",
     "iopub.status.idle": "2025-04-13T03:08:15.694470Z",
     "shell.execute_reply": "2025-04-13T03:08:15.693848Z"
    }
   },
   "outputs": [],
   "source": [
    "pdbfile = msm.systems['Trp-Cage']['1l2y.pdb']\n",
    "molsys = msm.convert(pdbfile, to_form='molsysmt.Structures')"
   ]
  },
  {
   "cell_type": "code",
   "execution_count": 8,
   "metadata": {
    "execution": {
     "iopub.execute_input": "2025-04-13T03:08:15.696661Z",
     "iopub.status.busy": "2025-04-13T03:08:15.696377Z",
     "iopub.status.idle": "2025-04-13T03:08:15.708044Z",
     "shell.execute_reply": "2025-04-13T03:08:15.707436Z"
    }
   },
   "outputs": [
    {
     "data": {
      "text/html": [
       "<style type=\"text/css\">\n",
       "</style>\n",
       "<table id=\"T_2f444\">\n",
       "  <thead>\n",
       "    <tr>\n",
       "      <th id=\"T_2f444_level0_col0\" class=\"col_heading level0 col0\" >form</th>\n",
       "      <th id=\"T_2f444_level0_col1\" class=\"col_heading level0 col1\" >n_atoms</th>\n",
       "      <th id=\"T_2f444_level0_col2\" class=\"col_heading level0 col2\" >n_groups</th>\n",
       "      <th id=\"T_2f444_level0_col3\" class=\"col_heading level0 col3\" >n_components</th>\n",
       "      <th id=\"T_2f444_level0_col4\" class=\"col_heading level0 col4\" >n_chains</th>\n",
       "      <th id=\"T_2f444_level0_col5\" class=\"col_heading level0 col5\" >n_molecules</th>\n",
       "      <th id=\"T_2f444_level0_col6\" class=\"col_heading level0 col6\" >n_entities</th>\n",
       "      <th id=\"T_2f444_level0_col7\" class=\"col_heading level0 col7\" >n_structures</th>\n",
       "    </tr>\n",
       "  </thead>\n",
       "  <tbody>\n",
       "    <tr>\n",
       "      <td id=\"T_2f444_row0_col0\" class=\"data row0 col0\" >molsysmt.Structures</td>\n",
       "      <td id=\"T_2f444_row0_col1\" class=\"data row0 col1\" >304</td>\n",
       "      <td id=\"T_2f444_row0_col2\" class=\"data row0 col2\" >None</td>\n",
       "      <td id=\"T_2f444_row0_col3\" class=\"data row0 col3\" >None</td>\n",
       "      <td id=\"T_2f444_row0_col4\" class=\"data row0 col4\" >None</td>\n",
       "      <td id=\"T_2f444_row0_col5\" class=\"data row0 col5\" >None</td>\n",
       "      <td id=\"T_2f444_row0_col6\" class=\"data row0 col6\" >None</td>\n",
       "      <td id=\"T_2f444_row0_col7\" class=\"data row0 col7\" >38</td>\n",
       "    </tr>\n",
       "  </tbody>\n",
       "</table>\n"
      ],
      "text/plain": [
       "<pandas.io.formats.style.Styler at 0x7a7c017bc080>"
      ]
     },
     "execution_count": 8,
     "metadata": {},
     "output_type": "execute_result"
    }
   ],
   "source": [
    "msm.info(molsys)"
   ]
  },
  {
   "cell_type": "code",
   "execution_count": 9,
   "metadata": {
    "execution": {
     "iopub.execute_input": "2025-04-13T03:08:15.710492Z",
     "iopub.status.busy": "2025-04-13T03:08:15.710225Z",
     "iopub.status.idle": "2025-04-13T03:08:15.714426Z",
     "shell.execute_reply": "2025-04-13T03:08:15.713726Z"
    }
   },
   "outputs": [],
   "source": [
    "molsys_trimmed = msm.remove(molsys, structure_indices=range(1,38))"
   ]
  },
  {
   "cell_type": "code",
   "execution_count": 10,
   "metadata": {
    "execution": {
     "iopub.execute_input": "2025-04-13T03:08:15.716629Z",
     "iopub.status.busy": "2025-04-13T03:08:15.716232Z",
     "iopub.status.idle": "2025-04-13T03:08:15.727964Z",
     "shell.execute_reply": "2025-04-13T03:08:15.727233Z"
    }
   },
   "outputs": [
    {
     "data": {
      "text/html": [
       "<style type=\"text/css\">\n",
       "</style>\n",
       "<table id=\"T_453c2\">\n",
       "  <thead>\n",
       "    <tr>\n",
       "      <th id=\"T_453c2_level0_col0\" class=\"col_heading level0 col0\" >form</th>\n",
       "      <th id=\"T_453c2_level0_col1\" class=\"col_heading level0 col1\" >n_atoms</th>\n",
       "      <th id=\"T_453c2_level0_col2\" class=\"col_heading level0 col2\" >n_groups</th>\n",
       "      <th id=\"T_453c2_level0_col3\" class=\"col_heading level0 col3\" >n_components</th>\n",
       "      <th id=\"T_453c2_level0_col4\" class=\"col_heading level0 col4\" >n_chains</th>\n",
       "      <th id=\"T_453c2_level0_col5\" class=\"col_heading level0 col5\" >n_molecules</th>\n",
       "      <th id=\"T_453c2_level0_col6\" class=\"col_heading level0 col6\" >n_entities</th>\n",
       "      <th id=\"T_453c2_level0_col7\" class=\"col_heading level0 col7\" >n_structures</th>\n",
       "    </tr>\n",
       "  </thead>\n",
       "  <tbody>\n",
       "    <tr>\n",
       "      <td id=\"T_453c2_row0_col0\" class=\"data row0 col0\" >molsysmt.Structures</td>\n",
       "      <td id=\"T_453c2_row0_col1\" class=\"data row0 col1\" >304</td>\n",
       "      <td id=\"T_453c2_row0_col2\" class=\"data row0 col2\" >None</td>\n",
       "      <td id=\"T_453c2_row0_col3\" class=\"data row0 col3\" >None</td>\n",
       "      <td id=\"T_453c2_row0_col4\" class=\"data row0 col4\" >None</td>\n",
       "      <td id=\"T_453c2_row0_col5\" class=\"data row0 col5\" >None</td>\n",
       "      <td id=\"T_453c2_row0_col6\" class=\"data row0 col6\" >None</td>\n",
       "      <td id=\"T_453c2_row0_col7\" class=\"data row0 col7\" >1</td>\n",
       "    </tr>\n",
       "  </tbody>\n",
       "</table>\n"
      ],
      "text/plain": [
       "<pandas.io.formats.style.Styler at 0x7a7c017bc290>"
      ]
     },
     "execution_count": 10,
     "metadata": {},
     "output_type": "execute_result"
    }
   ],
   "source": [
    "msm.info(molsys_trimmed)"
   ]
  },
  {
   "cell_type": "markdown",
   "metadata": {
    "editable": true,
    "slideshow": {
     "slide_type": ""
    },
    "tags": [
     "remove-input"
    ]
   },
   "source": [
    ":::{seealso}    \n",
    "\n",
    "[User guide > Tools > Basic > Info](info.ipynb):    \n",
    "Display a summary of the contents of a molecular system.\n",
    "\n",
    "[User guide > Tools > Basic > Selection](selection.ipynb):    \n",
    "Select atoms or structural elements using flexible syntax.\n",
    "\n",
    ":::"
   ]
  }
 ],
 "metadata": {
  "kernelspec": {
   "display_name": "Python 3 (ipykernel)",
   "language": "python",
   "name": "python3"
  },
  "language_info": {
   "codemirror_mode": {
    "name": "ipython",
    "version": 3
   },
   "file_extension": ".py",
   "mimetype": "text/x-python",
   "name": "python",
   "nbconvert_exporter": "python",
   "pygments_lexer": "ipython3",
   "version": "3.12.9"
  },
  "widgets": {
   "application/vnd.jupyter.widget-state+json": {
    "state": {
     "a732e83305c1443caaa4c19d56767e33": {
      "model_module": "nglview-js-widgets",
      "model_module_version": "3.0.8",
      "model_name": "ColormakerRegistryModel",
      "state": {
       "_dom_classes": [],
       "_model_module": "nglview-js-widgets",
       "_model_module_version": "3.0.8",
       "_model_name": "ColormakerRegistryModel",
       "_msg_ar": [],
       "_msg_q": [],
       "_ready": false,
       "_view_count": null,
       "_view_module": "nglview-js-widgets",
       "_view_module_version": "3.0.8",
       "_view_name": "ColormakerRegistryView",
       "layout": "IPY_MODEL_bf7850efd09c4dd98416ccefd4aa8270",
       "tabbable": null,
       "tooltip": null
      }
     },
     "bf7850efd09c4dd98416ccefd4aa8270": {
      "model_module": "@jupyter-widgets/base",
      "model_module_version": "2.0.0",
      "model_name": "LayoutModel",
      "state": {
       "_model_module": "@jupyter-widgets/base",
       "_model_module_version": "2.0.0",
       "_model_name": "LayoutModel",
       "_view_count": null,
       "_view_module": "@jupyter-widgets/base",
       "_view_module_version": "2.0.0",
       "_view_name": "LayoutView",
       "align_content": null,
       "align_items": null,
       "align_self": null,
       "border_bottom": null,
       "border_left": null,
       "border_right": null,
       "border_top": null,
       "bottom": null,
       "display": null,
       "flex": null,
       "flex_flow": null,
       "grid_area": null,
       "grid_auto_columns": null,
       "grid_auto_flow": null,
       "grid_auto_rows": null,
       "grid_column": null,
       "grid_gap": null,
       "grid_row": null,
       "grid_template_areas": null,
       "grid_template_columns": null,
       "grid_template_rows": null,
       "height": null,
       "justify_content": null,
       "justify_items": null,
       "left": null,
       "margin": null,
       "max_height": null,
       "max_width": null,
       "min_height": null,
       "min_width": null,
       "object_fit": null,
       "object_position": null,
       "order": null,
       "overflow": null,
       "padding": null,
       "right": null,
       "top": null,
       "visibility": null,
       "width": null
      }
     }
    },
    "version_major": 2,
    "version_minor": 0
   }
  }
 },
 "nbformat": 4,
 "nbformat_minor": 4
}
