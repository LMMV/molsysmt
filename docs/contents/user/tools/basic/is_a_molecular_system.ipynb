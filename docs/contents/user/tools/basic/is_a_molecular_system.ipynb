{
 "cells": [
  {
   "cell_type": "code",
   "execution_count": 1,
   "id": "a0618016-10d1-4c4e-a40e-796deb8e5837",
   "metadata": {
    "execution": {
     "iopub.execute_input": "2025-04-13T03:05:55.473620Z",
     "iopub.status.busy": "2025-04-13T03:05:55.472638Z",
     "iopub.status.idle": "2025-04-13T03:05:55.490261Z",
     "shell.execute_reply": "2025-04-13T03:05:55.488220Z"
    },
    "tags": [
     "remove-input"
    ]
   },
   "outputs": [],
   "source": [
    "# This cell is removed with the tag: \"remove-input\"\n",
    "# As such, it will not be shown in documentation\n",
    "\n",
    "#import warnings\n",
    "#warnings.filterwarnings('ignore')"
   ]
  },
  {
   "cell_type": "markdown",
   "id": "4728b13f-673a-4839-8231-6bd9ca795cc3",
   "metadata": {},
   "source": [
    "(Tutorial_Is_a_molecular_system)=\n",
    "# Is a molecular system\n",
    "\n",
    "*Verifying whether an object defines a single valid molecular system*\n",
    "\n",
    "A molecular system can be defined using a single item or a list of items. To check whether a given collection defines a valid molecular system, use the function {func}molsysmt.basic.is_a_molecular_system.\n",
    "\n",
    "But what does “valid” mean in this context? It means that all items can be combined into a single system — without internal inconsistencies — by layering their attributes (e.g., topology, coordinates, box) in a compatible way.\n",
    "\n",
    ":::{hint} What is an item?\n",
    "Visit the section [User guide > Introduction > Molecular System](../../intro/molecular_systems/items.md) in case you are not familiar with the concept of \"item\" in MolSysMT.\n",
    ":::\n",
    "\n",
    ":::{versionadded} 1.0.0\n",
    ":::\n",
    "\n",
    "## How this function works\n",
    "\n",
    ":::{admonition} API documentation\n",
    "Follow this link for a detailed description of the input arguments, raised errors, and returned objects of this function:{func}`molsysmt.basic.is_a_molecular_system`.\n",
    ":::\n",
    "\n",
    "Let’s illustrate how the function works with a simple example:"
   ]
  },
  {
   "cell_type": "code",
   "execution_count": 2,
   "id": "5e4f1659-b339-4ee7-962f-10c5f448d490",
   "metadata": {
    "execution": {
     "iopub.execute_input": "2025-04-13T03:05:55.496780Z",
     "iopub.status.busy": "2025-04-13T03:05:55.496098Z",
     "iopub.status.idle": "2025-04-13T03:06:01.436396Z",
     "shell.execute_reply": "2025-04-13T03:06:01.435519Z"
    }
   },
   "outputs": [
    {
     "data": {
      "application/vnd.jupyter.widget-view+json": {
       "model_id": "be5168163a55492ba1f033748e9f4678",
       "version_major": 2,
       "version_minor": 0
      },
      "text/plain": []
     },
     "metadata": {},
     "output_type": "display_data"
    }
   ],
   "source": [
    "import molsysmt as msm"
   ]
  },
  {
   "cell_type": "code",
   "execution_count": 3,
   "id": "383f082c-52b1-4cc4-a9d0-14370293bc3e",
   "metadata": {
    "execution": {
     "iopub.execute_input": "2025-04-13T03:06:01.439607Z",
     "iopub.status.busy": "2025-04-13T03:06:01.438962Z",
     "iopub.status.idle": "2025-04-13T03:06:01.443845Z",
     "shell.execute_reply": "2025-04-13T03:06:01.443095Z"
    }
   },
   "outputs": [],
   "source": [
    "topology = msm.systems['pentalanine']['pentalanine.prmtop']\n",
    "structures_A = msm.systems['pentalanine']['pentalanine.inpcrd']\n",
    "structures_B = msm.systems['chicken villin HP35']['traj_chicken_villin_HP35_solvated.dcd']"
   ]
  },
  {
   "cell_type": "markdown",
   "id": "b1991594-d48d-40e2-8ac1-825e0c8341a0",
   "metadata": {},
   "source": [
    "We have a single item — a *.prmtop file — that by itself defines a molecular system with no structure data:"
   ]
  },
  {
   "cell_type": "code",
   "execution_count": 4,
   "id": "c12f8d05-00b9-44b4-b95e-ac6b84e91196",
   "metadata": {
    "execution": {
     "iopub.execute_input": "2025-04-13T03:06:01.446994Z",
     "iopub.status.busy": "2025-04-13T03:06:01.446571Z",
     "iopub.status.idle": "2025-04-13T03:06:07.016661Z",
     "shell.execute_reply": "2025-04-13T03:06:07.015575Z"
    }
   },
   "outputs": [
    {
     "data": {
      "text/html": [
       "<style type=\"text/css\">\n",
       "</style>\n",
       "<table id=\"T_38157\">\n",
       "  <thead>\n",
       "    <tr>\n",
       "      <th id=\"T_38157_level0_col0\" class=\"col_heading level0 col0\" >form</th>\n",
       "      <th id=\"T_38157_level0_col1\" class=\"col_heading level0 col1\" >n_atoms</th>\n",
       "      <th id=\"T_38157_level0_col2\" class=\"col_heading level0 col2\" >n_groups</th>\n",
       "      <th id=\"T_38157_level0_col3\" class=\"col_heading level0 col3\" >n_components</th>\n",
       "      <th id=\"T_38157_level0_col4\" class=\"col_heading level0 col4\" >n_chains</th>\n",
       "      <th id=\"T_38157_level0_col5\" class=\"col_heading level0 col5\" >n_molecules</th>\n",
       "      <th id=\"T_38157_level0_col6\" class=\"col_heading level0 col6\" >n_entities</th>\n",
       "      <th id=\"T_38157_level0_col7\" class=\"col_heading level0 col7\" >n_waters</th>\n",
       "      <th id=\"T_38157_level0_col8\" class=\"col_heading level0 col8\" >n_peptides</th>\n",
       "      <th id=\"T_38157_level0_col9\" class=\"col_heading level0 col9\" >n_structures</th>\n",
       "    </tr>\n",
       "  </thead>\n",
       "  <tbody>\n",
       "    <tr>\n",
       "      <td id=\"T_38157_row0_col0\" class=\"data row0 col0\" >file:prmtop</td>\n",
       "      <td id=\"T_38157_row0_col1\" class=\"data row0 col1\" >5207</td>\n",
       "      <td id=\"T_38157_row0_col2\" class=\"data row0 col2\" >1722</td>\n",
       "      <td id=\"T_38157_row0_col3\" class=\"data row0 col3\" >1716</td>\n",
       "      <td id=\"T_38157_row0_col4\" class=\"data row0 col4\" >1</td>\n",
       "      <td id=\"T_38157_row0_col5\" class=\"data row0 col5\" >1716</td>\n",
       "      <td id=\"T_38157_row0_col6\" class=\"data row0 col6\" >2</td>\n",
       "      <td id=\"T_38157_row0_col7\" class=\"data row0 col7\" >1715</td>\n",
       "      <td id=\"T_38157_row0_col8\" class=\"data row0 col8\" >1</td>\n",
       "      <td id=\"T_38157_row0_col9\" class=\"data row0 col9\" >None</td>\n",
       "    </tr>\n",
       "  </tbody>\n",
       "</table>\n"
      ],
      "text/plain": [
       "<pandas.io.formats.style.Styler at 0x71cdc97111f0>"
      ]
     },
     "execution_count": 4,
     "metadata": {},
     "output_type": "execute_result"
    }
   ],
   "source": [
    "msm.info(topology)"
   ]
  },
  {
   "cell_type": "markdown",
   "id": "5eee45b5-776b-4f7c-ad2e-3622e92eb1d6",
   "metadata": {},
   "source": [
    "We also have two items — an \"inpcrd\" file and a \"dcd\" trajectory — which can independently define molecular systems without topological attributes."
   ]
  },
  {
   "cell_type": "code",
   "execution_count": 5,
   "id": "b8fa26c9-51eb-4694-aaf9-7a8e86a4e18c",
   "metadata": {
    "execution": {
     "iopub.execute_input": "2025-04-13T03:06:07.025707Z",
     "iopub.status.busy": "2025-04-13T03:06:07.024455Z",
     "iopub.status.idle": "2025-04-13T03:06:07.525156Z",
     "shell.execute_reply": "2025-04-13T03:06:07.522983Z"
    }
   },
   "outputs": [
    {
     "data": {
      "text/html": [
       "<style type=\"text/css\">\n",
       "</style>\n",
       "<table id=\"T_5695b\">\n",
       "  <thead>\n",
       "    <tr>\n",
       "      <th id=\"T_5695b_level0_col0\" class=\"col_heading level0 col0\" >form</th>\n",
       "      <th id=\"T_5695b_level0_col1\" class=\"col_heading level0 col1\" >n_atoms</th>\n",
       "      <th id=\"T_5695b_level0_col2\" class=\"col_heading level0 col2\" >n_groups</th>\n",
       "      <th id=\"T_5695b_level0_col3\" class=\"col_heading level0 col3\" >n_components</th>\n",
       "      <th id=\"T_5695b_level0_col4\" class=\"col_heading level0 col4\" >n_chains</th>\n",
       "      <th id=\"T_5695b_level0_col5\" class=\"col_heading level0 col5\" >n_molecules</th>\n",
       "      <th id=\"T_5695b_level0_col6\" class=\"col_heading level0 col6\" >n_entities</th>\n",
       "      <th id=\"T_5695b_level0_col7\" class=\"col_heading level0 col7\" >n_structures</th>\n",
       "    </tr>\n",
       "  </thead>\n",
       "  <tbody>\n",
       "    <tr>\n",
       "      <td id=\"T_5695b_row0_col0\" class=\"data row0 col0\" >file:inpcrd</td>\n",
       "      <td id=\"T_5695b_row0_col1\" class=\"data row0 col1\" >5207</td>\n",
       "      <td id=\"T_5695b_row0_col2\" class=\"data row0 col2\" >None</td>\n",
       "      <td id=\"T_5695b_row0_col3\" class=\"data row0 col3\" >None</td>\n",
       "      <td id=\"T_5695b_row0_col4\" class=\"data row0 col4\" >None</td>\n",
       "      <td id=\"T_5695b_row0_col5\" class=\"data row0 col5\" >None</td>\n",
       "      <td id=\"T_5695b_row0_col6\" class=\"data row0 col6\" >None</td>\n",
       "      <td id=\"T_5695b_row0_col7\" class=\"data row0 col7\" >1</td>\n",
       "    </tr>\n",
       "  </tbody>\n",
       "</table>\n"
      ],
      "text/plain": [
       "<pandas.io.formats.style.Styler at 0x71cdc75594c0>"
      ]
     },
     "execution_count": 5,
     "metadata": {},
     "output_type": "execute_result"
    }
   ],
   "source": [
    "msm.info(structures_A)"
   ]
  },
  {
   "cell_type": "code",
   "execution_count": 6,
   "id": "bc588c4d-4996-46dc-8f6a-1838df2e5183",
   "metadata": {
    "execution": {
     "iopub.execute_input": "2025-04-13T03:06:07.529595Z",
     "iopub.status.busy": "2025-04-13T03:06:07.529234Z",
     "iopub.status.idle": "2025-04-13T03:06:07.604660Z",
     "shell.execute_reply": "2025-04-13T03:06:07.601259Z"
    }
   },
   "outputs": [
    {
     "data": {
      "text/html": [
       "<style type=\"text/css\">\n",
       "</style>\n",
       "<table id=\"T_ce748\">\n",
       "  <thead>\n",
       "    <tr>\n",
       "      <th id=\"T_ce748_level0_col0\" class=\"col_heading level0 col0\" >form</th>\n",
       "      <th id=\"T_ce748_level0_col1\" class=\"col_heading level0 col1\" >n_atoms</th>\n",
       "      <th id=\"T_ce748_level0_col2\" class=\"col_heading level0 col2\" >n_groups</th>\n",
       "      <th id=\"T_ce748_level0_col3\" class=\"col_heading level0 col3\" >n_components</th>\n",
       "      <th id=\"T_ce748_level0_col4\" class=\"col_heading level0 col4\" >n_chains</th>\n",
       "      <th id=\"T_ce748_level0_col5\" class=\"col_heading level0 col5\" >n_molecules</th>\n",
       "      <th id=\"T_ce748_level0_col6\" class=\"col_heading level0 col6\" >n_entities</th>\n",
       "      <th id=\"T_ce748_level0_col7\" class=\"col_heading level0 col7\" >n_structures</th>\n",
       "    </tr>\n",
       "  </thead>\n",
       "  <tbody>\n",
       "    <tr>\n",
       "      <td id=\"T_ce748_row0_col0\" class=\"data row0 col0\" >file:dcd</td>\n",
       "      <td id=\"T_ce748_row0_col1\" class=\"data row0 col1\" >4306</td>\n",
       "      <td id=\"T_ce748_row0_col2\" class=\"data row0 col2\" >None</td>\n",
       "      <td id=\"T_ce748_row0_col3\" class=\"data row0 col3\" >None</td>\n",
       "      <td id=\"T_ce748_row0_col4\" class=\"data row0 col4\" >None</td>\n",
       "      <td id=\"T_ce748_row0_col5\" class=\"data row0 col5\" >None</td>\n",
       "      <td id=\"T_ce748_row0_col6\" class=\"data row0 col6\" >None</td>\n",
       "      <td id=\"T_ce748_row0_col7\" class=\"data row0 col7\" >20</td>\n",
       "    </tr>\n",
       "  </tbody>\n",
       "</table>\n"
      ],
      "text/plain": [
       "<pandas.io.formats.style.Styler at 0x71cdc67af320>"
      ]
     },
     "execution_count": 6,
     "metadata": {},
     "output_type": "execute_result"
    }
   ],
   "source": [
    "msm.info(structures_B)"
   ]
  },
  {
   "cell_type": "markdown",
   "id": "9ad461e2-5f32-4ef2-a571-926ef0bc0038",
   "metadata": {},
   "source": [
    "Can the items `topology` and `structures_A` be combined to form a valid molecular system?"
   ]
  },
  {
   "cell_type": "code",
   "execution_count": 7,
   "id": "b706b385-8ae3-4f43-afec-4dc6fd8b3f85",
   "metadata": {
    "execution": {
     "iopub.execute_input": "2025-04-13T03:06:07.611816Z",
     "iopub.status.busy": "2025-04-13T03:06:07.610990Z",
     "iopub.status.idle": "2025-04-13T03:06:08.067280Z",
     "shell.execute_reply": "2025-04-13T03:06:08.065867Z"
    }
   },
   "outputs": [
    {
     "data": {
      "text/plain": [
       "True"
      ]
     },
     "execution_count": 7,
     "metadata": {},
     "output_type": "execute_result"
    }
   ],
   "source": [
    "msm.is_a_molecular_system([topology, structures_A])"
   ]
  },
  {
   "cell_type": "markdown",
   "id": "5e41a124-1797-4680-8567-8217ded641df",
   "metadata": {},
   "source": [
    "```{admonition} Tip\n",
    ":class: tip\n",
    "All functions in the {ref}`molsysmt.basic <API basic>` module are also accessible from the top-level namespace of the library. Hence, {func}`molsysmt.is_a_molecular_system` is the same method as {func}`molsysmt.basic.is_a_molecular_system`.\n",
    "```"
   ]
  },
  {
   "cell_type": "markdown",
   "id": "126b5d3a-85fa-4f9f-bddf-c5be6d0ef2fc",
   "metadata": {},
   "source": [
    "What about combining `topology` with `structures_B`?"
   ]
  },
  {
   "cell_type": "code",
   "execution_count": 8,
   "id": "b938c4da-d438-4581-8552-091579eb36dc",
   "metadata": {
    "execution": {
     "iopub.execute_input": "2025-04-13T03:06:08.076113Z",
     "iopub.status.busy": "2025-04-13T03:06:08.075214Z",
     "iopub.status.idle": "2025-04-13T03:06:08.245277Z",
     "shell.execute_reply": "2025-04-13T03:06:08.243239Z"
    }
   },
   "outputs": [
    {
     "data": {
      "text/plain": [
       "False"
      ]
     },
     "execution_count": 8,
     "metadata": {},
     "output_type": "execute_result"
    }
   ],
   "source": [
    "msm.is_a_molecular_system([topology, structures_B])"
   ]
  },
  {
   "cell_type": "markdown",
   "id": "0e873102-6634-4e76-aa59-5ff97665b272",
   "metadata": {},
   "source": [
    ":::{seealso}\n",
    "[User guide > Introduction > Demo systems > Items](../../intro/demo_systems.ipynb):    \n",
    "Explore examples of individual items used in molecular systems.\n",
    "\n",
    "[User guide > Introduction > Molecular System > Items](../../intro/molecular_systems/items.md):    \n",
    "Learn how molecular systems are constructed from one or more items.\n",
    "\n",
    "[User guide > Tools > Basic > Info](info.ipynb):    \n",
    "Display summary tables of molecular system elements.\n",
    "\n",
    "[User guide > Tools > Basic > Are multiple molecular systems](are_multiple_molecular_systems.ipynb):    \n",
    "Check if a list of objects are valid and independent molecular systems.\n",
    "\n",
    ":::"
   ]
  }
 ],
 "metadata": {
  "kernelspec": {
   "display_name": "Python 3 (ipykernel)",
   "language": "python",
   "name": "python3"
  },
  "language_info": {
   "codemirror_mode": {
    "name": "ipython",
    "version": 3
   },
   "file_extension": ".py",
   "mimetype": "text/x-python",
   "name": "python",
   "nbconvert_exporter": "python",
   "pygments_lexer": "ipython3",
   "version": "3.12.9"
  },
  "widgets": {
   "application/vnd.jupyter.widget-state+json": {
    "state": {
     "3cdfc6a41dc64948839f68e5d15adc47": {
      "model_module": "@jupyter-widgets/base",
      "model_module_version": "2.0.0",
      "model_name": "LayoutModel",
      "state": {
       "_model_module": "@jupyter-widgets/base",
       "_model_module_version": "2.0.0",
       "_model_name": "LayoutModel",
       "_view_count": null,
       "_view_module": "@jupyter-widgets/base",
       "_view_module_version": "2.0.0",
       "_view_name": "LayoutView",
       "align_content": null,
       "align_items": null,
       "align_self": null,
       "border_bottom": null,
       "border_left": null,
       "border_right": null,
       "border_top": null,
       "bottom": null,
       "display": null,
       "flex": null,
       "flex_flow": null,
       "grid_area": null,
       "grid_auto_columns": null,
       "grid_auto_flow": null,
       "grid_auto_rows": null,
       "grid_column": null,
       "grid_gap": null,
       "grid_row": null,
       "grid_template_areas": null,
       "grid_template_columns": null,
       "grid_template_rows": null,
       "height": null,
       "justify_content": null,
       "justify_items": null,
       "left": null,
       "margin": null,
       "max_height": null,
       "max_width": null,
       "min_height": null,
       "min_width": null,
       "object_fit": null,
       "object_position": null,
       "order": null,
       "overflow": null,
       "padding": null,
       "right": null,
       "top": null,
       "visibility": null,
       "width": null
      }
     },
     "be5168163a55492ba1f033748e9f4678": {
      "model_module": "nglview-js-widgets",
      "model_module_version": "3.0.8",
      "model_name": "ColormakerRegistryModel",
      "state": {
       "_dom_classes": [],
       "_model_module": "nglview-js-widgets",
       "_model_module_version": "3.0.8",
       "_model_name": "ColormakerRegistryModel",
       "_msg_ar": [],
       "_msg_q": [],
       "_ready": false,
       "_view_count": null,
       "_view_module": "nglview-js-widgets",
       "_view_module_version": "3.0.8",
       "_view_name": "ColormakerRegistryView",
       "layout": "IPY_MODEL_3cdfc6a41dc64948839f68e5d15adc47",
       "tabbable": null,
       "tooltip": null
      }
     }
    },
    "version_major": 2,
    "version_minor": 0
   }
  }
 },
 "nbformat": 4,
 "nbformat_minor": 5
}
