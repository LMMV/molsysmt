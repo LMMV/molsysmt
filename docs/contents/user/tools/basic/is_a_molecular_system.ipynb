{
 "cells": [
  {
   "cell_type": "code",
   "execution_count": 1,
   "id": "a0618016-10d1-4c4e-a40e-796deb8e5837",
   "metadata": {
    "execution": {
     "iopub.execute_input": "2025-03-11T21:03:46.537095Z",
     "iopub.status.busy": "2025-03-11T21:03:46.536710Z",
     "iopub.status.idle": "2025-03-11T21:03:46.541354Z",
     "shell.execute_reply": "2025-03-11T21:03:46.540573Z"
    },
    "tags": [
     "remove-input"
    ]
   },
   "outputs": [],
   "source": [
    "# This cell is removed with the tag: \"remove-input\"\n",
    "# As such, it will not be shown in documentation\n",
    "\n",
    "#import warnings\n",
    "#warnings.filterwarnings('ignore')"
   ]
  },
  {
   "cell_type": "markdown",
   "id": "4728b13f-673a-4839-8231-6bd9ca795cc3",
   "metadata": {},
   "source": [
    "(Tutorial_Is_a_molecular_system)=\n",
    "# Is a molecular system\n",
    "\n",
    "*Verifying the validity of a molecular system*\n",
    "\n",
    "A molecular system can be defined with a single item or with list of items. To check if a given collection of items defines, or not, a valid molecular system, the function {func}`molsysmt.basic.is_a_molecular_system` can be used. But what does \"a valid molecular system\" means? It means that all items can be combined adding attributes over the same system without incompatibilities.\n",
    "\n",
    ":::{hint}\n",
    "Visit the section [User guide > Introduction > Molecular System](../../intro/molecular_systems/items.md) in case you are not familiar with the concept of \"item\" in MolSysMT.\n",
    ":::\n",
    "\n",
    "## How this function works\n",
    "\n",
    ":::{admonition} API documentation\n",
    "Follow this link for a detailed description of the input arguments, raised errors, and returned objects of this function:{func}`molsysmt.basic.is_a_molecular_system`.\n",
    ":::\n",
    "\n",
    "Let's illustrate how this function works this with an example:"
   ]
  },
  {
   "cell_type": "code",
   "execution_count": 2,
   "id": "5e4f1659-b339-4ee7-962f-10c5f448d490",
   "metadata": {
    "execution": {
     "iopub.execute_input": "2025-03-11T21:03:46.544634Z",
     "iopub.status.busy": "2025-03-11T21:03:46.544235Z",
     "iopub.status.idle": "2025-03-11T21:03:54.581603Z",
     "shell.execute_reply": "2025-03-11T21:03:54.580138Z"
    }
   },
   "outputs": [
    {
     "data": {
      "application/vnd.jupyter.widget-view+json": {
       "model_id": "4f7117c8330843d8a8bdbde59f27cb0a",
       "version_major": 2,
       "version_minor": 0
      },
      "text/plain": []
     },
     "metadata": {},
     "output_type": "display_data"
    }
   ],
   "source": [
    "import molsysmt as msm"
   ]
  },
  {
   "cell_type": "code",
   "execution_count": 3,
   "id": "383f082c-52b1-4cc4-a9d0-14370293bc3e",
   "metadata": {
    "execution": {
     "iopub.execute_input": "2025-03-11T21:03:54.586925Z",
     "iopub.status.busy": "2025-03-11T21:03:54.586003Z",
     "iopub.status.idle": "2025-03-11T21:03:54.591247Z",
     "shell.execute_reply": "2025-03-11T21:03:54.590373Z"
    }
   },
   "outputs": [],
   "source": [
    "topology = msm.systems['pentalanine']['pentalanine.prmtop']\n",
    "structures_A = msm.systems['pentalanine']['pentalanine.inpcrd']\n",
    "structures_B = msm.systems['chicken villin HP35']['traj_chicken_villin_HP35_solvated.dcd']"
   ]
  },
  {
   "cell_type": "markdown",
   "id": "b1991594-d48d-40e2-8ac1-825e0c8341a0",
   "metadata": {},
   "source": [
    "We have and item, a \\*.prmtop file, that per se can define a molecular system without structures:"
   ]
  },
  {
   "cell_type": "code",
   "execution_count": 4,
   "id": "c12f8d05-00b9-44b4-b95e-ac6b84e91196",
   "metadata": {
    "execution": {
     "iopub.execute_input": "2025-03-11T21:03:54.594894Z",
     "iopub.status.busy": "2025-03-11T21:03:54.594501Z",
     "iopub.status.idle": "2025-03-11T21:03:57.066462Z",
     "shell.execute_reply": "2025-03-11T21:03:57.065407Z"
    }
   },
   "outputs": [
    {
     "data": {
      "text/html": [
       "<style type=\"text/css\">\n",
       "</style>\n",
       "<table id=\"T_57d26\">\n",
       "  <thead>\n",
       "    <tr>\n",
       "      <th id=\"T_57d26_level0_col0\" class=\"col_heading level0 col0\" >form</th>\n",
       "      <th id=\"T_57d26_level0_col1\" class=\"col_heading level0 col1\" >n_atoms</th>\n",
       "      <th id=\"T_57d26_level0_col2\" class=\"col_heading level0 col2\" >n_groups</th>\n",
       "      <th id=\"T_57d26_level0_col3\" class=\"col_heading level0 col3\" >n_components</th>\n",
       "      <th id=\"T_57d26_level0_col4\" class=\"col_heading level0 col4\" >n_chains</th>\n",
       "      <th id=\"T_57d26_level0_col5\" class=\"col_heading level0 col5\" >n_molecules</th>\n",
       "      <th id=\"T_57d26_level0_col6\" class=\"col_heading level0 col6\" >n_entities</th>\n",
       "      <th id=\"T_57d26_level0_col7\" class=\"col_heading level0 col7\" >n_waters</th>\n",
       "      <th id=\"T_57d26_level0_col8\" class=\"col_heading level0 col8\" >n_peptides</th>\n",
       "      <th id=\"T_57d26_level0_col9\" class=\"col_heading level0 col9\" >n_structures</th>\n",
       "    </tr>\n",
       "  </thead>\n",
       "  <tbody>\n",
       "    <tr>\n",
       "      <td id=\"T_57d26_row0_col0\" class=\"data row0 col0\" >file:prmtop</td>\n",
       "      <td id=\"T_57d26_row0_col1\" class=\"data row0 col1\" >5207</td>\n",
       "      <td id=\"T_57d26_row0_col2\" class=\"data row0 col2\" >1722</td>\n",
       "      <td id=\"T_57d26_row0_col3\" class=\"data row0 col3\" >1716</td>\n",
       "      <td id=\"T_57d26_row0_col4\" class=\"data row0 col4\" >1</td>\n",
       "      <td id=\"T_57d26_row0_col5\" class=\"data row0 col5\" >1716</td>\n",
       "      <td id=\"T_57d26_row0_col6\" class=\"data row0 col6\" >2</td>\n",
       "      <td id=\"T_57d26_row0_col7\" class=\"data row0 col7\" >1715</td>\n",
       "      <td id=\"T_57d26_row0_col8\" class=\"data row0 col8\" >1</td>\n",
       "      <td id=\"T_57d26_row0_col9\" class=\"data row0 col9\" >None</td>\n",
       "    </tr>\n",
       "  </tbody>\n",
       "</table>\n"
      ],
      "text/plain": [
       "<pandas.io.formats.style.Styler at 0x7f1f0c4405f0>"
      ]
     },
     "execution_count": 4,
     "metadata": {},
     "output_type": "execute_result"
    }
   ],
   "source": [
    "msm.info(topology)"
   ]
  },
  {
   "cell_type": "markdown",
   "id": "5eee45b5-776b-4f7c-ad2e-3622e92eb1d6",
   "metadata": {},
   "source": [
    "We also have two items, a \"file:inpcrd\" and a \"file:dcd\" file, that again, each one can define a molecular system with no topological attributes:"
   ]
  },
  {
   "cell_type": "code",
   "execution_count": 5,
   "id": "b8fa26c9-51eb-4694-aaf9-7a8e86a4e18c",
   "metadata": {
    "execution": {
     "iopub.execute_input": "2025-03-11T21:03:57.070199Z",
     "iopub.status.busy": "2025-03-11T21:03:57.069605Z",
     "iopub.status.idle": "2025-03-11T21:03:57.557449Z",
     "shell.execute_reply": "2025-03-11T21:03:57.556572Z"
    }
   },
   "outputs": [
    {
     "data": {
      "text/html": [
       "<style type=\"text/css\">\n",
       "</style>\n",
       "<table id=\"T_96324\">\n",
       "  <thead>\n",
       "    <tr>\n",
       "      <th id=\"T_96324_level0_col0\" class=\"col_heading level0 col0\" >form</th>\n",
       "      <th id=\"T_96324_level0_col1\" class=\"col_heading level0 col1\" >n_atoms</th>\n",
       "      <th id=\"T_96324_level0_col2\" class=\"col_heading level0 col2\" >n_groups</th>\n",
       "      <th id=\"T_96324_level0_col3\" class=\"col_heading level0 col3\" >n_components</th>\n",
       "      <th id=\"T_96324_level0_col4\" class=\"col_heading level0 col4\" >n_chains</th>\n",
       "      <th id=\"T_96324_level0_col5\" class=\"col_heading level0 col5\" >n_molecules</th>\n",
       "      <th id=\"T_96324_level0_col6\" class=\"col_heading level0 col6\" >n_entities</th>\n",
       "      <th id=\"T_96324_level0_col7\" class=\"col_heading level0 col7\" >n_structures</th>\n",
       "    </tr>\n",
       "  </thead>\n",
       "  <tbody>\n",
       "    <tr>\n",
       "      <td id=\"T_96324_row0_col0\" class=\"data row0 col0\" >file:inpcrd</td>\n",
       "      <td id=\"T_96324_row0_col1\" class=\"data row0 col1\" >5207</td>\n",
       "      <td id=\"T_96324_row0_col2\" class=\"data row0 col2\" >None</td>\n",
       "      <td id=\"T_96324_row0_col3\" class=\"data row0 col3\" >None</td>\n",
       "      <td id=\"T_96324_row0_col4\" class=\"data row0 col4\" >None</td>\n",
       "      <td id=\"T_96324_row0_col5\" class=\"data row0 col5\" >None</td>\n",
       "      <td id=\"T_96324_row0_col6\" class=\"data row0 col6\" >None</td>\n",
       "      <td id=\"T_96324_row0_col7\" class=\"data row0 col7\" >1</td>\n",
       "    </tr>\n",
       "  </tbody>\n",
       "</table>\n"
      ],
      "text/plain": [
       "<pandas.io.formats.style.Styler at 0x7f1f0c3aade0>"
      ]
     },
     "execution_count": 5,
     "metadata": {},
     "output_type": "execute_result"
    }
   ],
   "source": [
    "msm.info(structures_A)"
   ]
  },
  {
   "cell_type": "code",
   "execution_count": 6,
   "id": "bc588c4d-4996-46dc-8f6a-1838df2e5183",
   "metadata": {
    "execution": {
     "iopub.execute_input": "2025-03-11T21:03:57.560506Z",
     "iopub.status.busy": "2025-03-11T21:03:57.560148Z",
     "iopub.status.idle": "2025-03-11T21:03:57.689481Z",
     "shell.execute_reply": "2025-03-11T21:03:57.688526Z"
    }
   },
   "outputs": [
    {
     "data": {
      "text/html": [
       "<style type=\"text/css\">\n",
       "</style>\n",
       "<table id=\"T_610f9\">\n",
       "  <thead>\n",
       "    <tr>\n",
       "      <th id=\"T_610f9_level0_col0\" class=\"col_heading level0 col0\" >form</th>\n",
       "      <th id=\"T_610f9_level0_col1\" class=\"col_heading level0 col1\" >n_atoms</th>\n",
       "      <th id=\"T_610f9_level0_col2\" class=\"col_heading level0 col2\" >n_groups</th>\n",
       "      <th id=\"T_610f9_level0_col3\" class=\"col_heading level0 col3\" >n_components</th>\n",
       "      <th id=\"T_610f9_level0_col4\" class=\"col_heading level0 col4\" >n_chains</th>\n",
       "      <th id=\"T_610f9_level0_col5\" class=\"col_heading level0 col5\" >n_molecules</th>\n",
       "      <th id=\"T_610f9_level0_col6\" class=\"col_heading level0 col6\" >n_entities</th>\n",
       "      <th id=\"T_610f9_level0_col7\" class=\"col_heading level0 col7\" >n_structures</th>\n",
       "    </tr>\n",
       "  </thead>\n",
       "  <tbody>\n",
       "    <tr>\n",
       "      <td id=\"T_610f9_row0_col0\" class=\"data row0 col0\" >file:dcd</td>\n",
       "      <td id=\"T_610f9_row0_col1\" class=\"data row0 col1\" >4306</td>\n",
       "      <td id=\"T_610f9_row0_col2\" class=\"data row0 col2\" >None</td>\n",
       "      <td id=\"T_610f9_row0_col3\" class=\"data row0 col3\" >None</td>\n",
       "      <td id=\"T_610f9_row0_col4\" class=\"data row0 col4\" >None</td>\n",
       "      <td id=\"T_610f9_row0_col5\" class=\"data row0 col5\" >None</td>\n",
       "      <td id=\"T_610f9_row0_col6\" class=\"data row0 col6\" >None</td>\n",
       "      <td id=\"T_610f9_row0_col7\" class=\"data row0 col7\" >20</td>\n",
       "    </tr>\n",
       "  </tbody>\n",
       "</table>\n"
      ],
      "text/plain": [
       "<pandas.io.formats.style.Styler at 0x7f1f08c5e1e0>"
      ]
     },
     "execution_count": 6,
     "metadata": {},
     "output_type": "execute_result"
    }
   ],
   "source": [
    "msm.info(structures_B)"
   ]
  },
  {
   "cell_type": "markdown",
   "id": "9ad461e2-5f32-4ef2-a571-926ef0bc0038",
   "metadata": {},
   "source": [
    "We can wonder, can the items `topology` and `structures_A` define a molecular system together?"
   ]
  },
  {
   "cell_type": "code",
   "execution_count": 7,
   "id": "b706b385-8ae3-4f43-afec-4dc6fd8b3f85",
   "metadata": {
    "execution": {
     "iopub.execute_input": "2025-03-11T21:03:57.692789Z",
     "iopub.status.busy": "2025-03-11T21:03:57.692369Z",
     "iopub.status.idle": "2025-03-11T21:03:57.864826Z",
     "shell.execute_reply": "2025-03-11T21:03:57.863926Z"
    }
   },
   "outputs": [
    {
     "data": {
      "text/plain": [
       "True"
      ]
     },
     "execution_count": 7,
     "metadata": {},
     "output_type": "execute_result"
    }
   ],
   "source": [
    "msm.is_a_molecular_system([topology, structures_A])"
   ]
  },
  {
   "cell_type": "markdown",
   "id": "5e41a124-1797-4680-8567-8217ded641df",
   "metadata": {},
   "source": [
    "```{admonition} Tip\n",
    ":class: tip\n",
    "All methods defined in the {ref}`molsysmt.basic <API basic>` module can be invoked also from the main level of the library. Hence, {func}`molsysmt.is_a_molecular_system` is the same method as {func}`molsysmt.basic.is_a_molecular_system`.\n",
    "```"
   ]
  },
  {
   "cell_type": "markdown",
   "id": "126b5d3a-85fa-4f9f-bddf-c5be6d0ef2fc",
   "metadata": {},
   "source": [
    "And can the items `topology` and `structures_B` be used to define a molecular system?"
   ]
  },
  {
   "cell_type": "code",
   "execution_count": 8,
   "id": "b938c4da-d438-4581-8552-091579eb36dc",
   "metadata": {
    "execution": {
     "iopub.execute_input": "2025-03-11T21:03:57.868020Z",
     "iopub.status.busy": "2025-03-11T21:03:57.867604Z",
     "iopub.status.idle": "2025-03-11T21:03:57.995072Z",
     "shell.execute_reply": "2025-03-11T21:03:57.994303Z"
    }
   },
   "outputs": [
    {
     "data": {
      "text/plain": [
       "False"
      ]
     },
     "execution_count": 8,
     "metadata": {},
     "output_type": "execute_result"
    }
   ],
   "source": [
    "msm.is_a_molecular_system([topology, structures_B])"
   ]
  },
  {
   "cell_type": "markdown",
   "id": "0e873102-6634-4e76-aa59-5ff97665b272",
   "metadata": {},
   "source": [
    ":::{seealso}\n",
    "[User guide > Introduction > Demo systems > Items](../../intro/demo_systems.ipynb):    \n",
    "[User guide > Introduction > Molecular System > Items](../../intro/molecular_systems/items.md):    \n",
    "[User guide > Tools > Basic > Info](info.ipynb):    \n",
    "[User guide > Tools > Basic > Are multiple molecular systems](are_multiple_molecular_systems.ipynb):    \n",
    ":::"
   ]
  }
 ],
 "metadata": {
  "kernelspec": {
   "display_name": "Python 3 (ipykernel)",
   "language": "python",
   "name": "python3"
  },
  "language_info": {
   "codemirror_mode": {
    "name": "ipython",
    "version": 3
   },
   "file_extension": ".py",
   "mimetype": "text/x-python",
   "name": "python",
   "nbconvert_exporter": "python",
   "pygments_lexer": "ipython3",
   "version": "3.12.8"
  },
  "widgets": {
   "application/vnd.jupyter.widget-state+json": {
    "state": {
     "0f4ccf1c72a649f887091a466b80cc7e": {
      "model_module": "@jupyter-widgets/base",
      "model_module_version": "2.0.0",
      "model_name": "LayoutModel",
      "state": {
       "_model_module": "@jupyter-widgets/base",
       "_model_module_version": "2.0.0",
       "_model_name": "LayoutModel",
       "_view_count": null,
       "_view_module": "@jupyter-widgets/base",
       "_view_module_version": "2.0.0",
       "_view_name": "LayoutView",
       "align_content": null,
       "align_items": null,
       "align_self": null,
       "border_bottom": null,
       "border_left": null,
       "border_right": null,
       "border_top": null,
       "bottom": null,
       "display": null,
       "flex": null,
       "flex_flow": null,
       "grid_area": null,
       "grid_auto_columns": null,
       "grid_auto_flow": null,
       "grid_auto_rows": null,
       "grid_column": null,
       "grid_gap": null,
       "grid_row": null,
       "grid_template_areas": null,
       "grid_template_columns": null,
       "grid_template_rows": null,
       "height": null,
       "justify_content": null,
       "justify_items": null,
       "left": null,
       "margin": null,
       "max_height": null,
       "max_width": null,
       "min_height": null,
       "min_width": null,
       "object_fit": null,
       "object_position": null,
       "order": null,
       "overflow": null,
       "padding": null,
       "right": null,
       "top": null,
       "visibility": null,
       "width": null
      }
     },
     "4f7117c8330843d8a8bdbde59f27cb0a": {
      "model_module": "nglview-js-widgets",
      "model_module_version": "3.1.4",
      "model_name": "ColormakerRegistryModel",
      "state": {
       "_dom_classes": [],
       "_model_module": "nglview-js-widgets",
       "_model_module_version": "3.1.4",
       "_model_name": "ColormakerRegistryModel",
       "_msg_ar": [],
       "_msg_q": [],
       "_ready": false,
       "_view_count": null,
       "_view_module": "nglview-js-widgets",
       "_view_module_version": "3.1.4",
       "_view_name": "ColormakerRegistryView",
       "layout": "IPY_MODEL_0f4ccf1c72a649f887091a466b80cc7e",
       "tabbable": null,
       "tooltip": null
      }
     }
    },
    "version_major": 2,
    "version_minor": 0
   }
  }
 },
 "nbformat": 4,
 "nbformat_minor": 5
}
