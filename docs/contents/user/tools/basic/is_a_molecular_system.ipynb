{
 "cells": [
  {
   "cell_type": "code",
   "execution_count": 1,
   "id": "a0618016-10d1-4c4e-a40e-796deb8e5837",
   "metadata": {
    "tags": [
     "remove-input"
    ]
   },
   "outputs": [],
   "source": [
    "# This cell is removed with the tag: \"remove-input\"\n",
    "# As such, it will not be shown in documentation\n",
    "\n",
    "import warnings\n",
    "warnings.filterwarnings('ignore')"
   ]
  },
  {
   "cell_type": "markdown",
   "id": "4728b13f-673a-4839-8231-6bd9ca795cc3",
   "metadata": {},
   "source": [
    "(UserGuide_Tools_Basic_IsAMolecularSystem)=\n",
    "# Is a molecular system\n",
    "\n",
    "*Checking the validity of a molecular system*\n",
    "\n",
    "A molecular system can be defined with a list of items. To check if a given collection of items defines, or not, a valid molecular system, the function `molsysmt.basic.is_a_molecular_system` can be used.\n",
    "\n",
    "What does 'a valid molecular system' means? It means that all items can be combined adding attributes over the same system. Let's illustrate this with an example:"
   ]
  },
  {
   "cell_type": "code",
   "execution_count": 2,
   "id": "5e4f1659-b339-4ee7-962f-10c5f448d490",
   "metadata": {},
   "outputs": [
    {
     "data": {
      "application/vnd.jupyter.widget-view+json": {
       "model_id": "04faa6f8ee2d49138b35cdb706f59296",
       "version_major": 2,
       "version_minor": 0
      },
      "text/plain": []
     },
     "metadata": {},
     "output_type": "display_data"
    }
   ],
   "source": [
    "import molsysmt as msm"
   ]
  },
  {
   "cell_type": "code",
   "execution_count": 3,
   "id": "383f082c-52b1-4cc4-a9d0-14370293bc3e",
   "metadata": {},
   "outputs": [],
   "source": [
    "topology = msm.demo['pentalanine']['pentalanine.prmtop']\n",
    "structures_A = msm.demo['pentalanine']['pentalanine.inpcrd']\n",
    "structures_B = msm.demo['chicken villin HP35']['traj_explicit_solvent.dcd']"
   ]
  },
  {
   "cell_type": "markdown",
   "id": "b1991594-d48d-40e2-8ac1-825e0c8341a0",
   "metadata": {},
   "source": [
    "We have and item, a \\*.prmtop file, that per se can define a molecular system without structures:"
   ]
  },
  {
   "cell_type": "code",
   "execution_count": 4,
   "id": "c12f8d05-00b9-44b4-b95e-ac6b84e91196",
   "metadata": {},
   "outputs": [
    {
     "data": {
      "text/html": [
       "<style type=\"text/css\">\n",
       "</style>\n",
       "<table id=\"T_db5e9\">\n",
       "  <thead>\n",
       "    <tr>\n",
       "      <th id=\"T_db5e9_level0_col0\" class=\"col_heading level0 col0\" >form</th>\n",
       "      <th id=\"T_db5e9_level0_col1\" class=\"col_heading level0 col1\" >n_atoms</th>\n",
       "      <th id=\"T_db5e9_level0_col2\" class=\"col_heading level0 col2\" >n_groups</th>\n",
       "      <th id=\"T_db5e9_level0_col3\" class=\"col_heading level0 col3\" >n_components</th>\n",
       "      <th id=\"T_db5e9_level0_col4\" class=\"col_heading level0 col4\" >n_chains</th>\n",
       "      <th id=\"T_db5e9_level0_col5\" class=\"col_heading level0 col5\" >n_molecules</th>\n",
       "      <th id=\"T_db5e9_level0_col6\" class=\"col_heading level0 col6\" >n_entities</th>\n",
       "      <th id=\"T_db5e9_level0_col7\" class=\"col_heading level0 col7\" >n_waters</th>\n",
       "      <th id=\"T_db5e9_level0_col8\" class=\"col_heading level0 col8\" >n_peptides</th>\n",
       "      <th id=\"T_db5e9_level0_col9\" class=\"col_heading level0 col9\" >n_structures</th>\n",
       "    </tr>\n",
       "  </thead>\n",
       "  <tbody>\n",
       "    <tr>\n",
       "      <td id=\"T_db5e9_row0_col0\" class=\"data row0 col0\" >file:prmtop</td>\n",
       "      <td id=\"T_db5e9_row0_col1\" class=\"data row0 col1\" >5207</td>\n",
       "      <td id=\"T_db5e9_row0_col2\" class=\"data row0 col2\" >1722</td>\n",
       "      <td id=\"T_db5e9_row0_col3\" class=\"data row0 col3\" >1716</td>\n",
       "      <td id=\"T_db5e9_row0_col4\" class=\"data row0 col4\" >1</td>\n",
       "      <td id=\"T_db5e9_row0_col5\" class=\"data row0 col5\" >1716</td>\n",
       "      <td id=\"T_db5e9_row0_col6\" class=\"data row0 col6\" >None</td>\n",
       "      <td id=\"T_db5e9_row0_col7\" class=\"data row0 col7\" >1715</td>\n",
       "      <td id=\"T_db5e9_row0_col8\" class=\"data row0 col8\" >1</td>\n",
       "      <td id=\"T_db5e9_row0_col9\" class=\"data row0 col9\" >None</td>\n",
       "    </tr>\n",
       "  </tbody>\n",
       "</table>\n"
      ],
      "text/plain": [
       "<pandas.io.formats.style.Styler at 0x7feed62d1160>"
      ]
     },
     "execution_count": 4,
     "metadata": {},
     "output_type": "execute_result"
    }
   ],
   "source": [
    "msm.info(topology)"
   ]
  },
  {
   "cell_type": "markdown",
   "id": "5eee45b5-776b-4f7c-ad2e-3622e92eb1d6",
   "metadata": {},
   "source": [
    "We also have two items, a \\*.inpcrd and a \\*.dcd file, that again, each one can define a molecular system with no topological attributes:"
   ]
  },
  {
   "cell_type": "code",
   "execution_count": 5,
   "id": "b8fa26c9-51eb-4694-aaf9-7a8e86a4e18c",
   "metadata": {},
   "outputs": [
    {
     "data": {
      "text/html": [
       "<style type=\"text/css\">\n",
       "</style>\n",
       "<table id=\"T_f9952\">\n",
       "  <thead>\n",
       "    <tr>\n",
       "      <th id=\"T_f9952_level0_col0\" class=\"col_heading level0 col0\" >form</th>\n",
       "      <th id=\"T_f9952_level0_col1\" class=\"col_heading level0 col1\" >n_atoms</th>\n",
       "      <th id=\"T_f9952_level0_col2\" class=\"col_heading level0 col2\" >n_groups</th>\n",
       "      <th id=\"T_f9952_level0_col3\" class=\"col_heading level0 col3\" >n_components</th>\n",
       "      <th id=\"T_f9952_level0_col4\" class=\"col_heading level0 col4\" >n_chains</th>\n",
       "      <th id=\"T_f9952_level0_col5\" class=\"col_heading level0 col5\" >n_molecules</th>\n",
       "      <th id=\"T_f9952_level0_col6\" class=\"col_heading level0 col6\" >n_entities</th>\n",
       "      <th id=\"T_f9952_level0_col7\" class=\"col_heading level0 col7\" >n_structures</th>\n",
       "    </tr>\n",
       "  </thead>\n",
       "  <tbody>\n",
       "    <tr>\n",
       "      <td id=\"T_f9952_row0_col0\" class=\"data row0 col0\" >file:inpcrd</td>\n",
       "      <td id=\"T_f9952_row0_col1\" class=\"data row0 col1\" >5207</td>\n",
       "      <td id=\"T_f9952_row0_col2\" class=\"data row0 col2\" >None</td>\n",
       "      <td id=\"T_f9952_row0_col3\" class=\"data row0 col3\" >None</td>\n",
       "      <td id=\"T_f9952_row0_col4\" class=\"data row0 col4\" >None</td>\n",
       "      <td id=\"T_f9952_row0_col5\" class=\"data row0 col5\" >None</td>\n",
       "      <td id=\"T_f9952_row0_col6\" class=\"data row0 col6\" >None</td>\n",
       "      <td id=\"T_f9952_row0_col7\" class=\"data row0 col7\" >1</td>\n",
       "    </tr>\n",
       "  </tbody>\n",
       "</table>\n"
      ],
      "text/plain": [
       "<pandas.io.formats.style.Styler at 0x7feed5d648b0>"
      ]
     },
     "execution_count": 5,
     "metadata": {},
     "output_type": "execute_result"
    }
   ],
   "source": [
    "msm.info(structures_A)"
   ]
  },
  {
   "cell_type": "code",
   "execution_count": 6,
   "id": "bc588c4d-4996-46dc-8f6a-1838df2e5183",
   "metadata": {},
   "outputs": [
    {
     "data": {
      "text/html": [
       "<style type=\"text/css\">\n",
       "</style>\n",
       "<table id=\"T_04a8a\">\n",
       "  <thead>\n",
       "    <tr>\n",
       "      <th id=\"T_04a8a_level0_col0\" class=\"col_heading level0 col0\" >form</th>\n",
       "      <th id=\"T_04a8a_level0_col1\" class=\"col_heading level0 col1\" >n_atoms</th>\n",
       "      <th id=\"T_04a8a_level0_col2\" class=\"col_heading level0 col2\" >n_groups</th>\n",
       "      <th id=\"T_04a8a_level0_col3\" class=\"col_heading level0 col3\" >n_components</th>\n",
       "      <th id=\"T_04a8a_level0_col4\" class=\"col_heading level0 col4\" >n_chains</th>\n",
       "      <th id=\"T_04a8a_level0_col5\" class=\"col_heading level0 col5\" >n_molecules</th>\n",
       "      <th id=\"T_04a8a_level0_col6\" class=\"col_heading level0 col6\" >n_entities</th>\n",
       "      <th id=\"T_04a8a_level0_col7\" class=\"col_heading level0 col7\" >n_structures</th>\n",
       "    </tr>\n",
       "  </thead>\n",
       "  <tbody>\n",
       "    <tr>\n",
       "      <td id=\"T_04a8a_row0_col0\" class=\"data row0 col0\" >file:dcd</td>\n",
       "      <td id=\"T_04a8a_row0_col1\" class=\"data row0 col1\" >5674</td>\n",
       "      <td id=\"T_04a8a_row0_col2\" class=\"data row0 col2\" >None</td>\n",
       "      <td id=\"T_04a8a_row0_col3\" class=\"data row0 col3\" >None</td>\n",
       "      <td id=\"T_04a8a_row0_col4\" class=\"data row0 col4\" >None</td>\n",
       "      <td id=\"T_04a8a_row0_col5\" class=\"data row0 col5\" >None</td>\n",
       "      <td id=\"T_04a8a_row0_col6\" class=\"data row0 col6\" >None</td>\n",
       "      <td id=\"T_04a8a_row0_col7\" class=\"data row0 col7\" >20</td>\n",
       "    </tr>\n",
       "  </tbody>\n",
       "</table>\n"
      ],
      "text/plain": [
       "<pandas.io.formats.style.Styler at 0x7feed539fe80>"
      ]
     },
     "execution_count": 6,
     "metadata": {},
     "output_type": "execute_result"
    }
   ],
   "source": [
    "msm.info(structures_B)"
   ]
  },
  {
   "cell_type": "markdown",
   "id": "9ad461e2-5f32-4ef2-a571-926ef0bc0038",
   "metadata": {},
   "source": [
    "We can wonder, can the items `topology` and `structures_A` define a molecular system together?"
   ]
  },
  {
   "cell_type": "code",
   "execution_count": 7,
   "id": "b706b385-8ae3-4f43-afec-4dc6fd8b3f85",
   "metadata": {},
   "outputs": [
    {
     "data": {
      "text/plain": [
       "True"
      ]
     },
     "execution_count": 7,
     "metadata": {},
     "output_type": "execute_result"
    }
   ],
   "source": [
    "msm.is_a_molecular_system([topology, structures_A])"
   ]
  },
  {
   "cell_type": "markdown",
   "id": "5e41a124-1797-4680-8567-8217ded641df",
   "metadata": {},
   "source": [
    "```{admonition} Tip\n",
    ":class: tip\n",
    "All methods defined in the {ref}`molsysmt.basic <API basic>` module can be invoked also from the main level of the library. Hence, {func}`molsysmt.is_a_molecular_system` is the same method as {func}`molsysmt.basic.is_a_molecular_system`.\n",
    "```"
   ]
  },
  {
   "cell_type": "markdown",
   "id": "126b5d3a-85fa-4f9f-bddf-c5be6d0ef2fc",
   "metadata": {},
   "source": [
    "And can the items `topology` and `structures_B` be used to define a molecular system?"
   ]
  },
  {
   "cell_type": "code",
   "execution_count": 8,
   "id": "b938c4da-d438-4581-8552-091579eb36dc",
   "metadata": {},
   "outputs": [
    {
     "data": {
      "text/plain": [
       "False"
      ]
     },
     "execution_count": 8,
     "metadata": {},
     "output_type": "execute_result"
    }
   ],
   "source": [
    "msm.is_a_molecular_system([topology, structures_B])"
   ]
  },
  {
   "cell_type": "markdown",
   "id": "0da01eaa-7e2e-4fee-ad3b-a51463751de7",
   "metadata": {},
   "source": [
    "```{admonition} See also\n",
    ":class: attention\n",
    "{func}`molsysmt.basic.is_a_molecular_system`, {func}`molsysmt.basic.info`\n",
    "```"
   ]
  }
 ],
 "metadata": {
  "kernelspec": {
   "display_name": "Python 3 (ipykernel)",
   "language": "python",
   "name": "python3"
  },
  "language_info": {
   "codemirror_mode": {
    "name": "ipython",
    "version": 3
   },
   "file_extension": ".py",
   "mimetype": "text/x-python",
   "name": "python",
   "nbconvert_exporter": "python",
   "pygments_lexer": "ipython3",
   "version": "3.9.13"
  }
 },
 "nbformat": 4,
 "nbformat_minor": 5
}
