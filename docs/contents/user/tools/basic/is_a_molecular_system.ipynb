{
 "cells": [
  {
   "cell_type": "code",
   "execution_count": null,
   "id": "a0618016-10d1-4c4e-a40e-796deb8e5837",
   "metadata": {
    "tags": [
     "remove-input"
    ]
   },
   "outputs": [],
   "source": [
    "# This cell is removed with the tag: \"remove-input\"\n",
    "# As such, it will not be shown in documentation\n",
    "\n",
    "#import warnings\n",
    "#warnings.filterwarnings('ignore')"
   ]
  },
  {
   "cell_type": "markdown",
   "id": "4728b13f-673a-4839-8231-6bd9ca795cc3",
   "metadata": {},
   "source": [
    "(Tutorial_Is_a_molecular_system)=\n",
    "# Is a molecular system\n",
    "\n",
    "*Verifying the validity of a molecular system*\n",
    "\n",
    "A molecular system can be defined with a single item or with list of items. To check if a given collection of items defines, or not, a valid molecular system, the function {func}`molsysmt.basic.is_a_molecular_system` can be used. But what does \"a valid molecular system\" means? It means that all items can be combined adding attributes over the same system without incompatibilities.\n",
    "\n",
    ":::{hint}\n",
    "Visit the section [User guide > Introduction > Molecular System](../../intro/molecular_systems/items.md) in case you are not familiar with the concept of \"item\" in MolSysMT.\n",
    ":::\n",
    "\n",
    "## How this function works\n",
    "\n",
    ":::{admonition} API documentation\n",
    "Follow this link for a detailed description of the input arguments, raised errors, and returned objects of this function:{func}`molsysmt.basic.is_a_molecular_system`.\n",
    ":::\n",
    "\n",
    "Let's illustrate how this function works this with an example:"
   ]
  },
  {
   "cell_type": "code",
   "execution_count": null,
   "id": "5e4f1659-b339-4ee7-962f-10c5f448d490",
   "metadata": {},
   "outputs": [],
   "source": [
    "import molsysmt as msm"
   ]
  },
  {
   "cell_type": "code",
   "execution_count": null,
   "id": "383f082c-52b1-4cc4-a9d0-14370293bc3e",
   "metadata": {},
   "outputs": [],
   "source": [
    "topology = msm.systems.demo['pentalanine']['pentalanine.prmtop']\n",
    "structures_A = msm.systems.demo['pentalanine']['pentalanine.inpcrd']\n",
    "structures_B = msm.systems.demo['chicken villin HP35']['traj_chicken_villin_HP35_solvated.dcd']"
   ]
  },
  {
   "cell_type": "markdown",
   "id": "b1991594-d48d-40e2-8ac1-825e0c8341a0",
   "metadata": {},
   "source": [
    "We have and item, a \\*.prmtop file, that per se can define a molecular system without structures:"
   ]
  },
  {
   "cell_type": "code",
   "execution_count": null,
   "id": "c12f8d05-00b9-44b4-b95e-ac6b84e91196",
   "metadata": {},
   "outputs": [],
   "source": [
    "msm.info(topology)"
   ]
  },
  {
   "cell_type": "markdown",
   "id": "5eee45b5-776b-4f7c-ad2e-3622e92eb1d6",
   "metadata": {},
   "source": [
    "We also have two items, a \"file:inpcrd\" and a \"file:dcd\" file, that again, each one can define a molecular system with no topological attributes:"
   ]
  },
  {
   "cell_type": "code",
   "execution_count": null,
   "id": "b8fa26c9-51eb-4694-aaf9-7a8e86a4e18c",
   "metadata": {},
   "outputs": [],
   "source": [
    "msm.info(structures_A)"
   ]
  },
  {
   "cell_type": "code",
   "execution_count": null,
   "id": "bc588c4d-4996-46dc-8f6a-1838df2e5183",
   "metadata": {},
   "outputs": [],
   "source": [
    "msm.info(structures_B)"
   ]
  },
  {
   "cell_type": "markdown",
   "id": "9ad461e2-5f32-4ef2-a571-926ef0bc0038",
   "metadata": {},
   "source": [
    "We can wonder, can the items `topology` and `structures_A` define a molecular system together?"
   ]
  },
  {
   "cell_type": "code",
   "execution_count": null,
   "id": "b706b385-8ae3-4f43-afec-4dc6fd8b3f85",
   "metadata": {},
   "outputs": [],
   "source": [
    "msm.is_a_molecular_system([topology, structures_A])"
   ]
  },
  {
   "cell_type": "markdown",
   "id": "5e41a124-1797-4680-8567-8217ded641df",
   "metadata": {},
   "source": [
    "```{admonition} Tip\n",
    ":class: tip\n",
    "All methods defined in the {ref}`molsysmt.basic <API basic>` module can be invoked also from the main level of the library. Hence, {func}`molsysmt.is_a_molecular_system` is the same method as {func}`molsysmt.basic.is_a_molecular_system`.\n",
    "```"
   ]
  },
  {
   "cell_type": "markdown",
   "id": "126b5d3a-85fa-4f9f-bddf-c5be6d0ef2fc",
   "metadata": {},
   "source": [
    "And can the items `topology` and `structures_B` be used to define a molecular system?"
   ]
  },
  {
   "cell_type": "code",
   "execution_count": null,
   "id": "b938c4da-d438-4581-8552-091579eb36dc",
   "metadata": {},
   "outputs": [],
   "source": [
    "msm.is_a_molecular_system([topology, structures_B])"
   ]
  },
  {
   "cell_type": "markdown",
   "id": "0e873102-6634-4e76-aa59-5ff97665b272",
   "metadata": {},
   "source": [
    ":::{seealso}\n",
    "[User guide > Introduction > Demo systems > Items](../../intro/demo_systems.ipynb):    \n",
    "[User guide > Introduction > Molecular System > Items](../../intro/molecular_systems/items.md):    \n",
    "[User guide > Tools > Basic > Info](info.ipynb):    \n",
    "[User guide > Tools > Basic > Are multiple molecular systems](are_multiple_molecular_systems.ipynb):    \n",
    ":::"
   ]
  }
 ],
 "metadata": {
  "kernelspec": {
   "display_name": "Python 3 (ipykernel)",
   "language": "python",
   "name": "python3"
  },
  "language_info": {
   "codemirror_mode": {
    "name": "ipython",
    "version": 3
   },
   "file_extension": ".py",
   "mimetype": "text/x-python",
   "name": "python",
   "nbconvert_exporter": "python",
   "pygments_lexer": "ipython3",
   "version": "3.10.11"
  }
 },
 "nbformat": 4,
 "nbformat_minor": 5
}
