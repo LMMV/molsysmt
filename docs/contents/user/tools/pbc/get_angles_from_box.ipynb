{
 "cells": [
  {
   "cell_type": "code",
   "execution_count": 1,
   "id": "277f8137-6a46-4815-be61-3b547e3f0ec3",
   "metadata": {
    "execution": {
     "iopub.execute_input": "2025-03-11T21:05:57.192794Z",
     "iopub.status.busy": "2025-03-11T21:05:57.191891Z",
     "iopub.status.idle": "2025-03-11T21:05:57.218769Z",
     "shell.execute_reply": "2025-03-11T21:05:57.217882Z"
    }
   },
   "outputs": [],
   "source": [
    "%load_ext autoreload\n",
    "%autoreload 2"
   ]
  },
  {
   "cell_type": "code",
   "execution_count": 2,
   "id": "3b373f6e-54f2-462a-b1ff-942e89d1e492",
   "metadata": {
    "execution": {
     "iopub.execute_input": "2025-03-11T21:05:57.221732Z",
     "iopub.status.busy": "2025-03-11T21:05:57.221314Z",
     "iopub.status.idle": "2025-03-11T21:06:06.701546Z",
     "shell.execute_reply": "2025-03-11T21:06:06.700621Z"
    }
   },
   "outputs": [
    {
     "data": {
      "application/vnd.jupyter.widget-view+json": {
       "model_id": "6c3fa37651914263985b2511d000257b",
       "version_major": 2,
       "version_minor": 0
      },
      "text/plain": []
     },
     "metadata": {},
     "output_type": "display_data"
    }
   ],
   "source": [
    "import molsysmt as msm"
   ]
  },
  {
   "cell_type": "markdown",
   "id": "f05671b3-7461-44ea-84d5-9466d97cf4b2",
   "metadata": {},
   "source": [
    "# Get angles from vectors"
   ]
  },
  {
   "cell_type": "code",
   "execution_count": 3,
   "id": "8a620150-5db7-43ec-983a-b5a7c8e50761",
   "metadata": {
    "execution": {
     "iopub.execute_input": "2025-03-11T21:06:06.706357Z",
     "iopub.status.busy": "2025-03-11T21:06:06.705384Z",
     "iopub.status.idle": "2025-03-11T21:06:07.625962Z",
     "shell.execute_reply": "2025-03-11T21:06:07.625025Z"
    }
   },
   "outputs": [],
   "source": [
    "molsys = msm.convert(msm.systems['Met-enkephalin']['met_enkephalin.h5msm'])"
   ]
  },
  {
   "cell_type": "code",
   "execution_count": 4,
   "id": "e914cd15-8031-4fb8-b898-90c9f70f3028",
   "metadata": {
    "execution": {
     "iopub.execute_input": "2025-03-11T21:06:07.629937Z",
     "iopub.status.busy": "2025-03-11T21:06:07.628893Z",
     "iopub.status.idle": "2025-03-11T21:06:27.208951Z",
     "shell.execute_reply": "2025-03-11T21:06:27.207906Z"
    }
   },
   "outputs": [],
   "source": [
    "molsys_cub = msm.build.solvate(molsys, box_shape='cubic', clearance='14.0 angstroms', engine='PDBFixer')\n",
    "molsys_oct = msm.build.solvate(molsys, box_shape='truncated octahedral',  clearance='14.0 angstroms', engine='PDBFixer')\n",
    "molsys_dod = msm.build.solvate(molsys, box_shape='rhombic dodecahedral', clearance='14.0 angstroms', engine='PDBFixer')"
   ]
  },
  {
   "cell_type": "code",
   "execution_count": 5,
   "id": "c5f147fb-e641-49d1-83f2-2fe5ae721584",
   "metadata": {
    "execution": {
     "iopub.execute_input": "2025-03-11T21:06:27.212924Z",
     "iopub.status.busy": "2025-03-11T21:06:27.212017Z",
     "iopub.status.idle": "2025-03-11T21:06:27.632448Z",
     "shell.execute_reply": "2025-03-11T21:06:27.631474Z"
    }
   },
   "outputs": [
    {
     "data": {
      "text/html": [
       "<table><tbody><tr><th>Magnitude</th><td style='text-align:left;'><pre>[[89.99998127603166 89.99998127603166 89.99998127603166]]</pre></td></tr><tr><th>Units</th><td style='text-align:left;'>degree</td></tr></tbody></table>"
      ],
      "text/latex": [
       "$\\begin{pmatrix} &  & \\end{pmatrix}\\ \\mathrm{degree}$"
      ],
      "text/plain": [
       "<Quantity([[89.99998128 89.99998128 89.99998128]], 'degree')>"
      ]
     },
     "execution_count": 5,
     "metadata": {},
     "output_type": "execute_result"
    }
   ],
   "source": [
    "box = msm.get(molsys_cub, element='system', box=True)\n",
    "msm.pbc.get_angles_from_box(box)"
   ]
  },
  {
   "cell_type": "code",
   "execution_count": 6,
   "id": "870890f3-abac-48b0-958d-0d30e45e043f",
   "metadata": {
    "execution": {
     "iopub.execute_input": "2025-03-11T21:06:27.635822Z",
     "iopub.status.busy": "2025-03-11T21:06:27.635132Z",
     "iopub.status.idle": "2025-03-11T21:06:28.057447Z",
     "shell.execute_reply": "2025-03-11T21:06:28.056542Z"
    }
   },
   "outputs": [
    {
     "data": {
      "text/html": [
       "<table><tbody><tr><th>Magnitude</th><td style='text-align:left;'><pre>[[70.5287554536443 109.47120709841901 70.5287554536443]]</pre></td></tr><tr><th>Units</th><td style='text-align:left;'>degree</td></tr></tbody></table>"
      ],
      "text/latex": [
       "$\\begin{pmatrix} &  & \\end{pmatrix}\\ \\mathrm{degree}$"
      ],
      "text/plain": [
       "<Quantity([[ 70.52875545 109.4712071   70.52875545]], 'degree')>"
      ]
     },
     "execution_count": 6,
     "metadata": {},
     "output_type": "execute_result"
    }
   ],
   "source": [
    "box = msm.get(molsys_oct, element='system', box=True)\n",
    "msm.pbc.get_angles_from_box(box)"
   ]
  },
  {
   "cell_type": "code",
   "execution_count": 7,
   "id": "5bd1ae3c-4d12-4284-ba5e-5c3e44725b38",
   "metadata": {
    "execution": {
     "iopub.execute_input": "2025-03-11T21:06:28.061235Z",
     "iopub.status.busy": "2025-03-11T21:06:28.060527Z",
     "iopub.status.idle": "2025-03-11T21:06:28.466261Z",
     "shell.execute_reply": "2025-03-11T21:06:28.465325Z"
    }
   },
   "outputs": [
    {
     "data": {
      "text/html": [
       "<table><tbody><tr><th>Magnitude</th><td style='text-align:left;'><pre>[[60.00002571454079 60.00002571454079 89.99998127603166]]</pre></td></tr><tr><th>Units</th><td style='text-align:left;'>degree</td></tr></tbody></table>"
      ],
      "text/latex": [
       "$\\begin{pmatrix} &  & \\end{pmatrix}\\ \\mathrm{degree}$"
      ],
      "text/plain": [
       "<Quantity([[60.00002571 60.00002571 89.99998128]], 'degree')>"
      ]
     },
     "execution_count": 7,
     "metadata": {},
     "output_type": "execute_result"
    }
   ],
   "source": [
    "box = msm.get(molsys_dod, element='system', box=True)\n",
    "msm.pbc.get_angles_from_box(box)"
   ]
  },
  {
   "cell_type": "code",
   "execution_count": null,
   "id": "d4f15bd4-4b8f-4e55-8c9e-0c0544ea01d3",
   "metadata": {},
   "outputs": [],
   "source": []
  }
 ],
 "metadata": {
  "kernelspec": {
   "display_name": "Python 3 (ipykernel)",
   "language": "python",
   "name": "python3"
  },
  "language_info": {
   "codemirror_mode": {
    "name": "ipython",
    "version": 3
   },
   "file_extension": ".py",
   "mimetype": "text/x-python",
   "name": "python",
   "nbconvert_exporter": "python",
   "pygments_lexer": "ipython3",
   "version": "3.12.8"
  },
  "widgets": {
   "application/vnd.jupyter.widget-state+json": {
    "state": {
     "6c3fa37651914263985b2511d000257b": {
      "model_module": "nglview-js-widgets",
      "model_module_version": "3.1.4",
      "model_name": "ColormakerRegistryModel",
      "state": {
       "_dom_classes": [],
       "_model_module": "nglview-js-widgets",
       "_model_module_version": "3.1.4",
       "_model_name": "ColormakerRegistryModel",
       "_msg_ar": [],
       "_msg_q": [],
       "_ready": false,
       "_view_count": null,
       "_view_module": "nglview-js-widgets",
       "_view_module_version": "3.1.4",
       "_view_name": "ColormakerRegistryView",
       "layout": "IPY_MODEL_a9dd38eb16ca4f5a90d717ec386975e9",
       "tabbable": null,
       "tooltip": null
      }
     },
     "a9dd38eb16ca4f5a90d717ec386975e9": {
      "model_module": "@jupyter-widgets/base",
      "model_module_version": "2.0.0",
      "model_name": "LayoutModel",
      "state": {
       "_model_module": "@jupyter-widgets/base",
       "_model_module_version": "2.0.0",
       "_model_name": "LayoutModel",
       "_view_count": null,
       "_view_module": "@jupyter-widgets/base",
       "_view_module_version": "2.0.0",
       "_view_name": "LayoutView",
       "align_content": null,
       "align_items": null,
       "align_self": null,
       "border_bottom": null,
       "border_left": null,
       "border_right": null,
       "border_top": null,
       "bottom": null,
       "display": null,
       "flex": null,
       "flex_flow": null,
       "grid_area": null,
       "grid_auto_columns": null,
       "grid_auto_flow": null,
       "grid_auto_rows": null,
       "grid_column": null,
       "grid_gap": null,
       "grid_row": null,
       "grid_template_areas": null,
       "grid_template_columns": null,
       "grid_template_rows": null,
       "height": null,
       "justify_content": null,
       "justify_items": null,
       "left": null,
       "margin": null,
       "max_height": null,
       "max_width": null,
       "min_height": null,
       "min_width": null,
       "object_fit": null,
       "object_position": null,
       "order": null,
       "overflow": null,
       "padding": null,
       "right": null,
       "top": null,
       "visibility": null,
       "width": null
      }
     }
    },
    "version_major": 2,
    "version_minor": 0
   }
  }
 },
 "nbformat": 4,
 "nbformat_minor": 5
}
