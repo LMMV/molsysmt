{
 "cells": [
  {
   "cell_type": "code",
   "execution_count": 1,
   "id": "277f8137-6a46-4815-be61-3b547e3f0ec3",
   "metadata": {},
   "outputs": [],
   "source": [
    "%load_ext autoreload\n",
    "%autoreload 2"
   ]
  },
  {
   "cell_type": "code",
   "execution_count": 2,
   "id": "3b373f6e-54f2-462a-b1ff-942e89d1e492",
   "metadata": {},
   "outputs": [
    {
     "data": {
      "application/vnd.jupyter.widget-view+json": {
       "model_id": "f36b141c55754046b40f4986ff99f5cc",
       "version_major": 2,
       "version_minor": 0
      },
      "text/plain": []
     },
     "metadata": {},
     "output_type": "display_data"
    }
   ],
   "source": [
    "import molsysmt as msm"
   ]
  },
  {
   "cell_type": "markdown",
   "id": "f05671b3-7461-44ea-84d5-9466d97cf4b2",
   "metadata": {},
   "source": [
    "# Get angles from vectors"
   ]
  },
  {
   "cell_type": "code",
   "execution_count": 3,
   "id": "8a620150-5db7-43ec-983a-b5a7c8e50761",
   "metadata": {},
   "outputs": [],
   "source": [
    "molsys = msm.convert(msm.demo['Met-enkephalin']['vacuum.msmpk'])"
   ]
  },
  {
   "cell_type": "code",
   "execution_count": 5,
   "id": "e914cd15-8031-4fb8-b898-90c9f70f3028",
   "metadata": {},
   "outputs": [],
   "source": [
    "molsys_cub = msm.build.solvate(molsys, box_shape='cubic', clearance='14.0 angstroms', engine='PDBFixer')\n",
    "molsys_oct = msm.build.solvate(molsys, box_shape='truncated octahedral',  clearance='14.0 angstroms', engine='PDBFixer')\n",
    "molsys_dod = msm.build.solvate(molsys, box_shape='rhombic dodecahedral', clearance='14.0 angstroms', engine='PDBFixer')"
   ]
  },
  {
   "cell_type": "code",
   "execution_count": 7,
   "id": "c5f147fb-e641-49d1-83f2-2fe5ae721584",
   "metadata": {},
   "outputs": [
    {
     "data": {
      "text/html": [
       "<table><tbody><tr><th>Magnitude</th><td style='text-align:left;'><pre>[[90.000001 90.000001 90.000001]]</pre></td></tr><tr><th>Units</th><td style='text-align:left;'>degree</td></tr></tbody></table>"
      ],
      "text/latex": [
       "$\\begin{pmatrix}90.000001 & 90.000001 & 90.000001\\end{pmatrix}\\ \\mathrm{degree}$"
      ],
      "text/plain": [
       "array([[90.000001, 90.000001, 90.000001]]) <Unit('degree')>"
      ]
     },
     "execution_count": 7,
     "metadata": {},
     "output_type": "execute_result"
    }
   ],
   "source": [
    "box = msm.get(molsys_cub, element='system', box=True)\n",
    "msm.pbc.box_angles_from_box(box)"
   ]
  },
  {
   "cell_type": "code",
   "execution_count": 9,
   "id": "870890f3-abac-48b0-958d-0d30e45e043f",
   "metadata": {},
   "outputs": [
    {
     "data": {
      "text/html": [
       "<table><tbody><tr><th>Magnitude</th><td style='text-align:left;'><pre>[[70.52878 109.471221 70.52878]]</pre></td></tr><tr><th>Units</th><td style='text-align:left;'>degree</td></tr></tbody></table>"
      ],
      "text/latex": [
       "$\\begin{pmatrix}70.52878 & 109.471221 & 70.52878\\end{pmatrix}\\ \\mathrm{degree}$"
      ],
      "text/plain": [
       "array([[ 70.52878 , 109.471221,  70.52878 ]]) <Unit('degree')>"
      ]
     },
     "execution_count": 9,
     "metadata": {},
     "output_type": "execute_result"
    }
   ],
   "source": [
    "box = msm.get(molsys_oct, element='system', box=True)\n",
    "msm.pbc.box_angles_from_box(box)"
   ]
  },
  {
   "cell_type": "code",
   "execution_count": 11,
   "id": "5bd1ae3c-4d12-4284-ba5e-5c3e44725b38",
   "metadata": {},
   "outputs": [
    {
     "data": {
      "text/html": [
       "<table><tbody><tr><th>Magnitude</th><td style='text-align:left;'><pre>[[60.0 60.0 90.000001]]</pre></td></tr><tr><th>Units</th><td style='text-align:left;'>degree</td></tr></tbody></table>"
      ],
      "text/latex": [
       "$\\begin{pmatrix}60.0 & 60.0 & 90.000001\\end{pmatrix}\\ \\mathrm{degree}$"
      ],
      "text/plain": [
       "array([[60.      , 60.      , 90.000001]]) <Unit('degree')>"
      ]
     },
     "execution_count": 11,
     "metadata": {},
     "output_type": "execute_result"
    }
   ],
   "source": [
    "box = msm.get(molsys_dod, element='system', box=True)\n",
    "msm.pbc.box_angles_from_box(box)"
   ]
  },
  {
   "cell_type": "code",
   "execution_count": null,
   "id": "d4f15bd4-4b8f-4e55-8c9e-0c0544ea01d3",
   "metadata": {},
   "outputs": [],
   "source": []
  }
 ],
 "metadata": {
  "kernelspec": {
   "display_name": "Python 3 (ipykernel)",
   "language": "python",
   "name": "python3"
  },
  "language_info": {
   "codemirror_mode": {
    "name": "ipython",
    "version": 3
   },
   "file_extension": ".py",
   "mimetype": "text/x-python",
   "name": "python",
   "nbconvert_exporter": "python",
   "pygments_lexer": "ipython3",
   "version": "3.10.11"
  }
 },
 "nbformat": 4,
 "nbformat_minor": 5
}
