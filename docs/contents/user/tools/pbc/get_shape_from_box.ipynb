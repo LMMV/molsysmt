{
 "cells": [
  {
   "cell_type": "code",
   "execution_count": 1,
   "id": "277f8137-6a46-4815-be61-3b547e3f0ec3",
   "metadata": {
    "execution": {
     "iopub.execute_input": "2025-03-11T21:05:51.586097Z",
     "iopub.status.busy": "2025-03-11T21:05:51.585537Z",
     "iopub.status.idle": "2025-03-11T21:05:51.652124Z",
     "shell.execute_reply": "2025-03-11T21:05:51.651119Z"
    }
   },
   "outputs": [],
   "source": [
    "%load_ext autoreload\n",
    "%autoreload 2"
   ]
  },
  {
   "cell_type": "code",
   "execution_count": 2,
   "id": "3b373f6e-54f2-462a-b1ff-942e89d1e492",
   "metadata": {
    "execution": {
     "iopub.execute_input": "2025-03-11T21:05:51.656536Z",
     "iopub.status.busy": "2025-03-11T21:05:51.655155Z",
     "iopub.status.idle": "2025-03-11T21:06:01.080704Z",
     "shell.execute_reply": "2025-03-11T21:06:01.079773Z"
    }
   },
   "outputs": [
    {
     "data": {
      "application/vnd.jupyter.widget-view+json": {
       "model_id": "024dfbb3b9f34beaaa4516e173788724",
       "version_major": 2,
       "version_minor": 0
      },
      "text/plain": []
     },
     "metadata": {},
     "output_type": "display_data"
    }
   ],
   "source": [
    "import molsysmt as msm"
   ]
  },
  {
   "cell_type": "markdown",
   "id": "f05671b3-7461-44ea-84d5-9466d97cf4b2",
   "metadata": {},
   "source": [
    "# Get shape from box"
   ]
  },
  {
   "cell_type": "code",
   "execution_count": 3,
   "id": "8a620150-5db7-43ec-983a-b5a7c8e50761",
   "metadata": {
    "execution": {
     "iopub.execute_input": "2025-03-11T21:06:01.085259Z",
     "iopub.status.busy": "2025-03-11T21:06:01.084322Z",
     "iopub.status.idle": "2025-03-11T21:06:02.100127Z",
     "shell.execute_reply": "2025-03-11T21:06:02.099103Z"
    }
   },
   "outputs": [],
   "source": [
    "molsys = msm.convert(msm.systems['Met-enkephalin']['met_enkephalin.h5msm'])"
   ]
  },
  {
   "cell_type": "code",
   "execution_count": 4,
   "id": "e914cd15-8031-4fb8-b898-90c9f70f3028",
   "metadata": {
    "execution": {
     "iopub.execute_input": "2025-03-11T21:06:02.104175Z",
     "iopub.status.busy": "2025-03-11T21:06:02.103141Z",
     "iopub.status.idle": "2025-03-11T21:06:21.086694Z",
     "shell.execute_reply": "2025-03-11T21:06:21.085740Z"
    }
   },
   "outputs": [],
   "source": [
    "molsys_cub = msm.build.solvate(molsys, box_shape='cubic', clearance='14.0 angstroms', engine='PDBFixer')\n",
    "molsys_oct = msm.build.solvate(molsys, box_shape='truncated octahedral',  clearance='14.0 angstroms', engine='PDBFixer')\n",
    "molsys_dod = msm.build.solvate(molsys, box_shape='rhombic dodecahedral', clearance='14.0 angstroms', engine='PDBFixer')"
   ]
  },
  {
   "cell_type": "code",
   "execution_count": 5,
   "id": "c5f147fb-e641-49d1-83f2-2fe5ae721584",
   "metadata": {
    "execution": {
     "iopub.execute_input": "2025-03-11T21:06:21.090441Z",
     "iopub.status.busy": "2025-03-11T21:06:21.090080Z",
     "iopub.status.idle": "2025-03-11T21:06:21.483787Z",
     "shell.execute_reply": "2025-03-11T21:06:21.482871Z"
    }
   },
   "outputs": [
    {
     "data": {
      "text/plain": [
       "'cubic'"
      ]
     },
     "execution_count": 5,
     "metadata": {},
     "output_type": "execute_result"
    }
   ],
   "source": [
    "vectors_cub = msm.get(molsys_cub, element='system', box=True)\n",
    "msm.pbc.get_shape_from_box(vectors_cub)"
   ]
  },
  {
   "cell_type": "code",
   "execution_count": 6,
   "id": "870890f3-abac-48b0-958d-0d30e45e043f",
   "metadata": {
    "execution": {
     "iopub.execute_input": "2025-03-11T21:06:21.487472Z",
     "iopub.status.busy": "2025-03-11T21:06:21.486993Z",
     "iopub.status.idle": "2025-03-11T21:06:21.952988Z",
     "shell.execute_reply": "2025-03-11T21:06:21.952126Z"
    }
   },
   "outputs": [
    {
     "data": {
      "text/plain": [
       "'truncated octahedral'"
      ]
     },
     "execution_count": 6,
     "metadata": {},
     "output_type": "execute_result"
    }
   ],
   "source": [
    "vectors_oct = msm.get(molsys_oct, element='system', box=True)\n",
    "msm.pbc.get_shape_from_box(vectors_oct)"
   ]
  },
  {
   "cell_type": "code",
   "execution_count": 7,
   "id": "5bd1ae3c-4d12-4284-ba5e-5c3e44725b38",
   "metadata": {
    "execution": {
     "iopub.execute_input": "2025-03-11T21:06:21.956589Z",
     "iopub.status.busy": "2025-03-11T21:06:21.955951Z",
     "iopub.status.idle": "2025-03-11T21:06:22.468855Z",
     "shell.execute_reply": "2025-03-11T21:06:22.468024Z"
    }
   },
   "outputs": [
    {
     "data": {
      "text/plain": [
       "'rhombic dodecahedral'"
      ]
     },
     "execution_count": 7,
     "metadata": {},
     "output_type": "execute_result"
    }
   ],
   "source": [
    "vectors_dod = msm.get(molsys_dod, element='system', box=True)\n",
    "msm.pbc.get_shape_from_box(vectors_dod)"
   ]
  }
 ],
 "metadata": {
  "kernelspec": {
   "display_name": "Python 3 (ipykernel)",
   "language": "python",
   "name": "python3"
  },
  "language_info": {
   "codemirror_mode": {
    "name": "ipython",
    "version": 3
   },
   "file_extension": ".py",
   "mimetype": "text/x-python",
   "name": "python",
   "nbconvert_exporter": "python",
   "pygments_lexer": "ipython3",
   "version": "3.12.8"
  },
  "widgets": {
   "application/vnd.jupyter.widget-state+json": {
    "state": {
     "024dfbb3b9f34beaaa4516e173788724": {
      "model_module": "nglview-js-widgets",
      "model_module_version": "3.1.4",
      "model_name": "ColormakerRegistryModel",
      "state": {
       "_dom_classes": [],
       "_model_module": "nglview-js-widgets",
       "_model_module_version": "3.1.4",
       "_model_name": "ColormakerRegistryModel",
       "_msg_ar": [],
       "_msg_q": [],
       "_ready": false,
       "_view_count": null,
       "_view_module": "nglview-js-widgets",
       "_view_module_version": "3.1.4",
       "_view_name": "ColormakerRegistryView",
       "layout": "IPY_MODEL_20d7d97a6c2a4480990dc7a3978adf98",
       "tabbable": null,
       "tooltip": null
      }
     },
     "20d7d97a6c2a4480990dc7a3978adf98": {
      "model_module": "@jupyter-widgets/base",
      "model_module_version": "2.0.0",
      "model_name": "LayoutModel",
      "state": {
       "_model_module": "@jupyter-widgets/base",
       "_model_module_version": "2.0.0",
       "_model_name": "LayoutModel",
       "_view_count": null,
       "_view_module": "@jupyter-widgets/base",
       "_view_module_version": "2.0.0",
       "_view_name": "LayoutView",
       "align_content": null,
       "align_items": null,
       "align_self": null,
       "border_bottom": null,
       "border_left": null,
       "border_right": null,
       "border_top": null,
       "bottom": null,
       "display": null,
       "flex": null,
       "flex_flow": null,
       "grid_area": null,
       "grid_auto_columns": null,
       "grid_auto_flow": null,
       "grid_auto_rows": null,
       "grid_column": null,
       "grid_gap": null,
       "grid_row": null,
       "grid_template_areas": null,
       "grid_template_columns": null,
       "grid_template_rows": null,
       "height": null,
       "justify_content": null,
       "justify_items": null,
       "left": null,
       "margin": null,
       "max_height": null,
       "max_width": null,
       "min_height": null,
       "min_width": null,
       "object_fit": null,
       "object_position": null,
       "order": null,
       "overflow": null,
       "padding": null,
       "right": null,
       "top": null,
       "visibility": null,
       "width": null
      }
     }
    },
    "version_major": 2,
    "version_minor": 0
   }
  }
 },
 "nbformat": 4,
 "nbformat_minor": 5
}
