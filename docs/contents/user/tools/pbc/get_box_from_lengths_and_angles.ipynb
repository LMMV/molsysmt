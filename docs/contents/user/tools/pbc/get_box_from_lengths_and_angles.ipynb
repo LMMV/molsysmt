{
 "cells": [
  {
   "cell_type": "code",
   "execution_count": 1,
   "id": "277f8137-6a46-4815-be61-3b547e3f0ec3",
   "metadata": {
    "execution": {
     "iopub.execute_input": "2025-03-11T21:05:49.007001Z",
     "iopub.status.busy": "2025-03-11T21:05:49.006094Z",
     "iopub.status.idle": "2025-03-11T21:05:49.033830Z",
     "shell.execute_reply": "2025-03-11T21:05:49.033129Z"
    }
   },
   "outputs": [],
   "source": [
    "%load_ext autoreload\n",
    "%autoreload 2"
   ]
  },
  {
   "cell_type": "code",
   "execution_count": 2,
   "id": "3b373f6e-54f2-462a-b1ff-942e89d1e492",
   "metadata": {
    "execution": {
     "iopub.execute_input": "2025-03-11T21:05:49.036983Z",
     "iopub.status.busy": "2025-03-11T21:05:49.036670Z",
     "iopub.status.idle": "2025-03-11T21:05:58.020135Z",
     "shell.execute_reply": "2025-03-11T21:05:58.019118Z"
    }
   },
   "outputs": [
    {
     "data": {
      "application/vnd.jupyter.widget-view+json": {
       "model_id": "2d6fe85f538440bcb399d7d95186db92",
       "version_major": 2,
       "version_minor": 0
      },
      "text/plain": []
     },
     "metadata": {},
     "output_type": "display_data"
    }
   ],
   "source": [
    "import molsysmt as msm"
   ]
  },
  {
   "cell_type": "markdown",
   "id": "f05671b3-7461-44ea-84d5-9466d97cf4b2",
   "metadata": {},
   "source": [
    "# Get boxfrom lengths and angles"
   ]
  },
  {
   "cell_type": "code",
   "execution_count": 3,
   "id": "dcfef7c5-06c9-4a38-a261-d9a34e3363ab",
   "metadata": {
    "execution": {
     "iopub.execute_input": "2025-03-11T21:05:58.024660Z",
     "iopub.status.busy": "2025-03-11T21:05:58.023724Z",
     "iopub.status.idle": "2025-03-11T21:05:58.095156Z",
     "shell.execute_reply": "2025-03-11T21:05:58.094043Z"
    }
   },
   "outputs": [],
   "source": [
    "angles = [[60.0, 60.0, 90.0]] * msm.pyunitwizard.unit('degrees')\n",
    "lengths = [[2.0, 2.0, 2.0]] * msm.pyunitwizard.unit('nm')"
   ]
  },
  {
   "cell_type": "code",
   "execution_count": 4,
   "id": "5bd1ae3c-4d12-4284-ba5e-5c3e44725b38",
   "metadata": {
    "execution": {
     "iopub.execute_input": "2025-03-11T21:05:58.099041Z",
     "iopub.status.busy": "2025-03-11T21:05:58.098625Z",
     "iopub.status.idle": "2025-03-11T21:05:58.191167Z",
     "shell.execute_reply": "2025-03-11T21:05:58.190208Z"
    }
   },
   "outputs": [
    {
     "data": {
      "text/html": [
       "<table><tbody><tr><th>Magnitude</th><td style='text-align:left;'><pre>[[[2.0 0.0 0.0]  [0.0 2.0 0.0]  [1.0 1.0 1.414214]]]</pre></td></tr><tr><th>Units</th><td style='text-align:left;'>nanometer</td></tr></tbody></table>"
      ],
      "text/latex": [
       "$arr[,0,:,:] = \\begin{pmatrix} &  & \\\\ \n",
       " &  & \\\\ \n",
       " &  & \\end{pmatrix}\\ \\mathrm{nanometer}$"
      ],
      "text/plain": [
       "<Quantity([[[2.       0.       0.      ]\n",
       "  [0.       2.       0.      ]\n",
       "  [1.       1.       1.414214]]], 'nanometer')>"
      ]
     },
     "execution_count": 4,
     "metadata": {},
     "output_type": "execute_result"
    }
   ],
   "source": [
    "msm.pbc.get_box_from_lengths_and_angles(lengths, angles)"
   ]
  }
 ],
 "metadata": {
  "kernelspec": {
   "display_name": "Python 3 (ipykernel)",
   "language": "python",
   "name": "python3"
  },
  "language_info": {
   "codemirror_mode": {
    "name": "ipython",
    "version": 3
   },
   "file_extension": ".py",
   "mimetype": "text/x-python",
   "name": "python",
   "nbconvert_exporter": "python",
   "pygments_lexer": "ipython3",
   "version": "3.12.8"
  },
  "widgets": {
   "application/vnd.jupyter.widget-state+json": {
    "state": {
     "2d6fe85f538440bcb399d7d95186db92": {
      "model_module": "nglview-js-widgets",
      "model_module_version": "3.1.4",
      "model_name": "ColormakerRegistryModel",
      "state": {
       "_dom_classes": [],
       "_model_module": "nglview-js-widgets",
       "_model_module_version": "3.1.4",
       "_model_name": "ColormakerRegistryModel",
       "_msg_ar": [],
       "_msg_q": [],
       "_ready": false,
       "_view_count": null,
       "_view_module": "nglview-js-widgets",
       "_view_module_version": "3.1.4",
       "_view_name": "ColormakerRegistryView",
       "layout": "IPY_MODEL_41485e5705e14421aac56c8c08c9a763",
       "tabbable": null,
       "tooltip": null
      }
     },
     "41485e5705e14421aac56c8c08c9a763": {
      "model_module": "@jupyter-widgets/base",
      "model_module_version": "2.0.0",
      "model_name": "LayoutModel",
      "state": {
       "_model_module": "@jupyter-widgets/base",
       "_model_module_version": "2.0.0",
       "_model_name": "LayoutModel",
       "_view_count": null,
       "_view_module": "@jupyter-widgets/base",
       "_view_module_version": "2.0.0",
       "_view_name": "LayoutView",
       "align_content": null,
       "align_items": null,
       "align_self": null,
       "border_bottom": null,
       "border_left": null,
       "border_right": null,
       "border_top": null,
       "bottom": null,
       "display": null,
       "flex": null,
       "flex_flow": null,
       "grid_area": null,
       "grid_auto_columns": null,
       "grid_auto_flow": null,
       "grid_auto_rows": null,
       "grid_column": null,
       "grid_gap": null,
       "grid_row": null,
       "grid_template_areas": null,
       "grid_template_columns": null,
       "grid_template_rows": null,
       "height": null,
       "justify_content": null,
       "justify_items": null,
       "left": null,
       "margin": null,
       "max_height": null,
       "max_width": null,
       "min_height": null,
       "min_width": null,
       "object_fit": null,
       "object_position": null,
       "order": null,
       "overflow": null,
       "padding": null,
       "right": null,
       "top": null,
       "visibility": null,
       "width": null
      }
     }
    },
    "version_major": 2,
    "version_minor": 0
   }
  }
 },
 "nbformat": 4,
 "nbformat_minor": 5
}
