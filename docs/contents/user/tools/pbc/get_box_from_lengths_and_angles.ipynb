{
 "cells": [
  {
   "cell_type": "code",
   "execution_count": 1,
   "id": "277f8137-6a46-4815-be61-3b547e3f0ec3",
   "metadata": {},
   "outputs": [],
   "source": [
    "%load_ext autoreload\n",
    "%autoreload 2"
   ]
  },
  {
   "cell_type": "code",
   "execution_count": 2,
   "id": "3b373f6e-54f2-462a-b1ff-942e89d1e492",
   "metadata": {},
   "outputs": [
    {
     "data": {
      "application/vnd.jupyter.widget-view+json": {
       "model_id": "9e5d33aed0484bc98a6aec107a579f46",
       "version_major": 2,
       "version_minor": 0
      },
      "text/plain": []
     },
     "metadata": {},
     "output_type": "display_data"
    }
   ],
   "source": [
    "import molsysmt as msm"
   ]
  },
  {
   "cell_type": "markdown",
   "id": "f05671b3-7461-44ea-84d5-9466d97cf4b2",
   "metadata": {},
   "source": [
    "# Get boxfrom lengths and angles"
   ]
  },
  {
   "cell_type": "code",
   "execution_count": 3,
   "id": "dcfef7c5-06c9-4a38-a261-d9a34e3363ab",
   "metadata": {},
   "outputs": [],
   "source": [
    "angles = [[60.0, 60.0, 90.0]] * msm.puw.unit('degrees')\n",
    "lengths = [[2.0, 2.0, 2.0]] * msm.puw.unit('nm')"
   ]
  },
  {
   "cell_type": "code",
   "execution_count": 4,
   "id": "5bd1ae3c-4d12-4284-ba5e-5c3e44725b38",
   "metadata": {},
   "outputs": [
    {
     "data": {
      "text/html": [
       "<table><tbody><tr><th>Magnitude</th><td style='text-align:left;'><pre>[[[2.0 0.0 0.0]<br>  [0.0 2.0 0.0]<br>  [1.0 1.0 1.414214]]]</pre></td></tr><tr><th>Units</th><td style='text-align:left;'>nanometer</td></tr></tbody></table>"
      ],
      "text/latex": [
       "$arr[,0,:,:] = \\begin{pmatrix}2.0 & 0.0 & 0.0\\\\ \n",
       "0.0 & 2.0 & 0.0\\\\ \n",
       "1.0 & 1.0 & 1.414214\\end{pmatrix}\\ \\mathrm{nanometer}$"
      ],
      "text/plain": [
       "array([[[2.      , 0.      , 0.      ],\n",
       "        [0.      , 2.      , 0.      ],\n",
       "        [1.      , 1.      , 1.414214]]]) <Unit('nanometer')>"
      ]
     },
     "execution_count": 4,
     "metadata": {},
     "output_type": "execute_result"
    }
   ],
   "source": [
    "msm.pbc.box_from_box_lengths_and_angles(lengths, angles)"
   ]
  },
  {
   "cell_type": "code",
   "execution_count": null,
   "id": "c291d4dc-1865-443d-9abe-b627aecad62d",
   "metadata": {},
   "outputs": [],
   "source": []
  }
 ],
 "metadata": {
  "kernelspec": {
   "display_name": "Python 3 (ipykernel)",
   "language": "python",
   "name": "python3"
  },
  "language_info": {
   "codemirror_mode": {
    "name": "ipython",
    "version": 3
   },
   "file_extension": ".py",
   "mimetype": "text/x-python",
   "name": "python",
   "nbconvert_exporter": "python",
   "pygments_lexer": "ipython3",
   "version": "3.10.11"
  }
 },
 "nbformat": 4,
 "nbformat_minor": 5
}
