{
 "cells": [
  {
   "cell_type": "markdown",
   "id": "cc96bcc6-17be-47b2-8a76-846c94722633",
   "metadata": {},
   "source": [
    "# Has PBC"
   ]
  },
  {
   "cell_type": "code",
   "execution_count": 1,
   "id": "e10159ac-6463-4fc5-a8b2-f5625f84579d",
   "metadata": {
    "execution": {
     "iopub.execute_input": "2025-03-11T21:05:59.685997Z",
     "iopub.status.busy": "2025-03-11T21:05:59.685600Z",
     "iopub.status.idle": "2025-03-11T21:06:08.198111Z",
     "shell.execute_reply": "2025-03-11T21:06:08.197398Z"
    }
   },
   "outputs": [
    {
     "data": {
      "application/vnd.jupyter.widget-view+json": {
       "model_id": "b79b6cec4ff946b4aca2d35eb1e2da10",
       "version_major": 2,
       "version_minor": 0
      },
      "text/plain": []
     },
     "metadata": {},
     "output_type": "display_data"
    }
   ],
   "source": [
    "import molsysmt as msm\n",
    "from molsysmt import pyunitwizard as puw\n",
    "import numpy as np"
   ]
  },
  {
   "cell_type": "code",
   "execution_count": 2,
   "id": "c5ede556-9c03-44a5-94af-ec805d4b869f",
   "metadata": {
    "execution": {
     "iopub.execute_input": "2025-03-11T21:06:08.202666Z",
     "iopub.status.busy": "2025-03-11T21:06:08.201778Z",
     "iopub.status.idle": "2025-03-11T21:06:08.320846Z",
     "shell.execute_reply": "2025-03-11T21:06:08.319874Z"
    }
   },
   "outputs": [],
   "source": [
    "box = puw.quantity(2.0*np.identity(3), 'nm')\n",
    "molsys = msm.build.make_water_box(box)"
   ]
  },
  {
   "cell_type": "code",
   "execution_count": 3,
   "id": "5f373abe-4c09-4452-8b16-91919dba617c",
   "metadata": {
    "execution": {
     "iopub.execute_input": "2025-03-11T21:06:08.325320Z",
     "iopub.status.busy": "2025-03-11T21:06:08.324462Z",
     "iopub.status.idle": "2025-03-11T21:06:09.291332Z",
     "shell.execute_reply": "2025-03-11T21:06:09.290537Z"
    }
   },
   "outputs": [
    {
     "data": {
      "text/plain": [
       "True"
      ]
     },
     "execution_count": 3,
     "metadata": {},
     "output_type": "execute_result"
    }
   ],
   "source": [
    "msm.pbc.has_pbc(molsys)"
   ]
  },
  {
   "cell_type": "code",
   "execution_count": 4,
   "id": "23271f39-e905-4e01-bdea-732c1051ec1f",
   "metadata": {
    "execution": {
     "iopub.execute_input": "2025-03-11T21:06:09.294657Z",
     "iopub.status.busy": "2025-03-11T21:06:09.294069Z",
     "iopub.status.idle": "2025-03-11T21:06:09.519583Z",
     "shell.execute_reply": "2025-03-11T21:06:09.518682Z"
    }
   },
   "outputs": [],
   "source": [
    "msm.set(molsys, box=None)"
   ]
  },
  {
   "cell_type": "code",
   "execution_count": 5,
   "id": "2eb99205-3e41-41cd-849e-ae26bc6f75f9",
   "metadata": {
    "execution": {
     "iopub.execute_input": "2025-03-11T21:06:09.523275Z",
     "iopub.status.busy": "2025-03-11T21:06:09.522685Z",
     "iopub.status.idle": "2025-03-11T21:06:09.794937Z",
     "shell.execute_reply": "2025-03-11T21:06:09.793820Z"
    }
   },
   "outputs": [
    {
     "data": {
      "text/plain": [
       "False"
      ]
     },
     "execution_count": 5,
     "metadata": {},
     "output_type": "execute_result"
    }
   ],
   "source": [
    "msm.pbc.has_pbc(molsys)"
   ]
  }
 ],
 "metadata": {
  "kernelspec": {
   "display_name": "Python 3 (ipykernel)",
   "language": "python",
   "name": "python3"
  },
  "language_info": {
   "codemirror_mode": {
    "name": "ipython",
    "version": 3
   },
   "file_extension": ".py",
   "mimetype": "text/x-python",
   "name": "python",
   "nbconvert_exporter": "python",
   "pygments_lexer": "ipython3",
   "version": "3.12.8"
  },
  "widgets": {
   "application/vnd.jupyter.widget-state+json": {
    "state": {
     "b79b6cec4ff946b4aca2d35eb1e2da10": {
      "model_module": "nglview-js-widgets",
      "model_module_version": "3.1.4",
      "model_name": "ColormakerRegistryModel",
      "state": {
       "_dom_classes": [],
       "_model_module": "nglview-js-widgets",
       "_model_module_version": "3.1.4",
       "_model_name": "ColormakerRegistryModel",
       "_msg_ar": [],
       "_msg_q": [],
       "_ready": false,
       "_view_count": null,
       "_view_module": "nglview-js-widgets",
       "_view_module_version": "3.1.4",
       "_view_name": "ColormakerRegistryView",
       "layout": "IPY_MODEL_e58b0c7f4e6c47fc967c97876b57e951",
       "tabbable": null,
       "tooltip": null
      }
     },
     "e58b0c7f4e6c47fc967c97876b57e951": {
      "model_module": "@jupyter-widgets/base",
      "model_module_version": "2.0.0",
      "model_name": "LayoutModel",
      "state": {
       "_model_module": "@jupyter-widgets/base",
       "_model_module_version": "2.0.0",
       "_model_name": "LayoutModel",
       "_view_count": null,
       "_view_module": "@jupyter-widgets/base",
       "_view_module_version": "2.0.0",
       "_view_name": "LayoutView",
       "align_content": null,
       "align_items": null,
       "align_self": null,
       "border_bottom": null,
       "border_left": null,
       "border_right": null,
       "border_top": null,
       "bottom": null,
       "display": null,
       "flex": null,
       "flex_flow": null,
       "grid_area": null,
       "grid_auto_columns": null,
       "grid_auto_flow": null,
       "grid_auto_rows": null,
       "grid_column": null,
       "grid_gap": null,
       "grid_row": null,
       "grid_template_areas": null,
       "grid_template_columns": null,
       "grid_template_rows": null,
       "height": null,
       "justify_content": null,
       "justify_items": null,
       "left": null,
       "margin": null,
       "max_height": null,
       "max_width": null,
       "min_height": null,
       "min_width": null,
       "object_fit": null,
       "object_position": null,
       "order": null,
       "overflow": null,
       "padding": null,
       "right": null,
       "top": null,
       "visibility": null,
       "width": null
      }
     }
    },
    "version_major": 2,
    "version_minor": 0
   }
  }
 },
 "nbformat": 4,
 "nbformat_minor": 5
}
