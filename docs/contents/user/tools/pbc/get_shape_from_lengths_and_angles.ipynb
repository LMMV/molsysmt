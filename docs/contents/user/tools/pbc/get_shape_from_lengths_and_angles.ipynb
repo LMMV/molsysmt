{
 "cells": [
  {
   "cell_type": "code",
   "execution_count": 1,
   "id": "277f8137-6a46-4815-be61-3b547e3f0ec3",
   "metadata": {},
   "outputs": [],
   "source": [
    "%load_ext autoreload\n",
    "%autoreload 2"
   ]
  },
  {
   "cell_type": "code",
   "execution_count": 2,
   "id": "3b373f6e-54f2-462a-b1ff-942e89d1e492",
   "metadata": {},
   "outputs": [
    {
     "data": {
      "application/vnd.jupyter.widget-view+json": {
       "model_id": "325eb0fdd8204d15beba13689bb4f546",
       "version_major": 2,
       "version_minor": 0
      },
      "text/plain": []
     },
     "metadata": {},
     "output_type": "display_data"
    }
   ],
   "source": [
    "import molsysmt as msm"
   ]
  },
  {
   "cell_type": "markdown",
   "id": "f05671b3-7461-44ea-84d5-9466d97cf4b2",
   "metadata": {},
   "source": [
    "# Shape from angles"
   ]
  },
  {
   "cell_type": "code",
   "execution_count": 3,
   "id": "8a620150-5db7-43ec-983a-b5a7c8e50761",
   "metadata": {},
   "outputs": [],
   "source": [
    "molsys = msm.convert(msm.demo['Met-enkephalin']['vacuum.msmpk'])"
   ]
  },
  {
   "cell_type": "code",
   "execution_count": 4,
   "id": "e914cd15-8031-4fb8-b898-90c9f70f3028",
   "metadata": {},
   "outputs": [],
   "source": [
    "molsys_cub = msm.build.solvate(molsys, box_shape='cubic', clearance='14.0 angstroms', engine='PDBFixer')\n",
    "molsys_oct = msm.build.solvate(molsys, box_shape='truncated octahedral',  clearance='14.0 angstroms', engine='PDBFixer')\n",
    "molsys_dod = msm.build.solvate(molsys, box_shape='rhombic dodecahedral', clearance='14.0 angstroms', engine='PDBFixer')"
   ]
  },
  {
   "cell_type": "code",
   "execution_count": 5,
   "id": "c5f147fb-e641-49d1-83f2-2fe5ae721584",
   "metadata": {},
   "outputs": [
    {
     "data": {
      "text/plain": [
       "'cubic'"
      ]
     },
     "execution_count": 5,
     "metadata": {},
     "output_type": "execute_result"
    }
   ],
   "source": [
    "angles_cub = msm.get(molsys_cub, element='system', box_angles=True)\n",
    "msm.pbc.box_shape_from_box_angles(angles_cub)"
   ]
  },
  {
   "cell_type": "code",
   "execution_count": 6,
   "id": "870890f3-abac-48b0-958d-0d30e45e043f",
   "metadata": {},
   "outputs": [
    {
     "data": {
      "text/plain": [
       "'truncated octahedral'"
      ]
     },
     "execution_count": 6,
     "metadata": {},
     "output_type": "execute_result"
    }
   ],
   "source": [
    "angles_oct = msm.get(molsys_oct, element='system', box_angles=True)\n",
    "msm.pbc.box_shape_from_box_angles(angles_oct)"
   ]
  },
  {
   "cell_type": "code",
   "execution_count": 7,
   "id": "5bd1ae3c-4d12-4284-ba5e-5c3e44725b38",
   "metadata": {},
   "outputs": [
    {
     "data": {
      "text/plain": [
       "'rhombic dodecahedral'"
      ]
     },
     "execution_count": 7,
     "metadata": {},
     "output_type": "execute_result"
    }
   ],
   "source": [
    "angles_dod = msm.get(molsys_dod, element='system', box_angles=True)\n",
    "msm.pbc.box_shape_from_box_angles(angles_dod)"
   ]
  },
  {
   "cell_type": "code",
   "execution_count": null,
   "id": "3b787a5d-1ff4-47e6-81ce-9bc050cd61a0",
   "metadata": {},
   "outputs": [],
   "source": []
  }
 ],
 "metadata": {
  "kernelspec": {
   "display_name": "Python 3 (ipykernel)",
   "language": "python",
   "name": "python3"
  },
  "language_info": {
   "codemirror_mode": {
    "name": "ipython",
    "version": 3
   },
   "file_extension": ".py",
   "mimetype": "text/x-python",
   "name": "python",
   "nbconvert_exporter": "python",
   "pygments_lexer": "ipython3",
   "version": "3.9.13"
  }
 },
 "nbformat": 4,
 "nbformat_minor": 5
}
