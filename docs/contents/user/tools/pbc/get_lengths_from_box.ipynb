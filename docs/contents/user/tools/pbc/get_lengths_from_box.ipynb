{
 "cells": [
  {
   "cell_type": "code",
   "execution_count": 1,
   "id": "277f8137-6a46-4815-be61-3b547e3f0ec3",
   "metadata": {
    "execution": {
     "iopub.execute_input": "2025-03-11T21:05:51.443024Z",
     "iopub.status.busy": "2025-03-11T21:05:51.442162Z",
     "iopub.status.idle": "2025-03-11T21:05:51.479726Z",
     "shell.execute_reply": "2025-03-11T21:05:51.478752Z"
    }
   },
   "outputs": [],
   "source": [
    "%load_ext autoreload\n",
    "%autoreload 2"
   ]
  },
  {
   "cell_type": "code",
   "execution_count": 2,
   "id": "3b373f6e-54f2-462a-b1ff-942e89d1e492",
   "metadata": {
    "execution": {
     "iopub.execute_input": "2025-03-11T21:05:51.484185Z",
     "iopub.status.busy": "2025-03-11T21:05:51.483258Z",
     "iopub.status.idle": "2025-03-11T21:05:59.961029Z",
     "shell.execute_reply": "2025-03-11T21:05:59.960037Z"
    }
   },
   "outputs": [
    {
     "data": {
      "application/vnd.jupyter.widget-view+json": {
       "model_id": "15cb1456dbf8436bbfb102c5c73af399",
       "version_major": 2,
       "version_minor": 0
      },
      "text/plain": []
     },
     "metadata": {},
     "output_type": "display_data"
    }
   ],
   "source": [
    "import molsysmt as msm"
   ]
  },
  {
   "cell_type": "markdown",
   "id": "f05671b3-7461-44ea-84d5-9466d97cf4b2",
   "metadata": {},
   "source": [
    "# Get lengths from box"
   ]
  },
  {
   "cell_type": "code",
   "execution_count": 3,
   "id": "8a620150-5db7-43ec-983a-b5a7c8e50761",
   "metadata": {
    "execution": {
     "iopub.execute_input": "2025-03-11T21:05:59.965424Z",
     "iopub.status.busy": "2025-03-11T21:05:59.964512Z",
     "iopub.status.idle": "2025-03-11T21:06:00.866566Z",
     "shell.execute_reply": "2025-03-11T21:06:00.865503Z"
    }
   },
   "outputs": [],
   "source": [
    "molsys = msm.convert(msm.systems['Met-enkephalin']['met_enkephalin.h5msm'])"
   ]
  },
  {
   "cell_type": "code",
   "execution_count": 4,
   "id": "e914cd15-8031-4fb8-b898-90c9f70f3028",
   "metadata": {
    "execution": {
     "iopub.execute_input": "2025-03-11T21:06:00.870605Z",
     "iopub.status.busy": "2025-03-11T21:06:00.869732Z",
     "iopub.status.idle": "2025-03-11T21:06:20.454837Z",
     "shell.execute_reply": "2025-03-11T21:06:20.454119Z"
    }
   },
   "outputs": [],
   "source": [
    "molsys_cub = msm.build.solvate(molsys, box_shape='cubic', clearance='14.0 angstroms', engine='PDBFixer')\n",
    "molsys_oct = msm.build.solvate(molsys, box_shape='truncated octahedral',  clearance='14.0 angstroms', engine='PDBFixer')\n",
    "molsys_dod = msm.build.solvate(molsys, box_shape='rhombic dodecahedral', clearance='14.0 angstroms', engine='PDBFixer')"
   ]
  },
  {
   "cell_type": "code",
   "execution_count": 5,
   "id": "c5f147fb-e641-49d1-83f2-2fe5ae721584",
   "metadata": {
    "execution": {
     "iopub.execute_input": "2025-03-11T21:06:20.458290Z",
     "iopub.status.busy": "2025-03-11T21:06:20.457822Z",
     "iopub.status.idle": "2025-03-11T21:06:20.866383Z",
     "shell.execute_reply": "2025-03-11T21:06:20.864461Z"
    }
   },
   "outputs": [
    {
     "data": {
      "text/html": [
       "<table><tbody><tr><th>Magnitude</th><td style='text-align:left;'><pre>[[3.1236 3.1236 3.1236]]</pre></td></tr><tr><th>Units</th><td style='text-align:left;'>nanometer</td></tr></tbody></table>"
      ],
      "text/latex": [
       "$\\begin{pmatrix} &  & \\end{pmatrix}\\ \\mathrm{nanometer}$"
      ],
      "text/plain": [
       "<Quantity([[3.1236 3.1236 3.1236]], 'nanometer')>"
      ]
     },
     "execution_count": 5,
     "metadata": {},
     "output_type": "execute_result"
    }
   ],
   "source": [
    "box = msm.get(molsys_cub, element='system', box=True)\n",
    "msm.pbc.get_lengths_from_box(box)"
   ]
  },
  {
   "cell_type": "code",
   "execution_count": 6,
   "id": "870890f3-abac-48b0-958d-0d30e45e043f",
   "metadata": {
    "execution": {
     "iopub.execute_input": "2025-03-11T21:06:20.870389Z",
     "iopub.status.busy": "2025-03-11T21:06:20.869633Z",
     "iopub.status.idle": "2025-03-11T21:06:21.267956Z",
     "shell.execute_reply": "2025-03-11T21:06:21.267102Z"
    }
   },
   "outputs": [
    {
     "data": {
      "text/html": [
       "<table><tbody><tr><th>Magnitude</th><td style='text-align:left;'><pre>[[3.1236 3.1236 3.1236]]</pre></td></tr><tr><th>Units</th><td style='text-align:left;'>nanometer</td></tr></tbody></table>"
      ],
      "text/latex": [
       "$\\begin{pmatrix} &  & \\end{pmatrix}\\ \\mathrm{nanometer}$"
      ],
      "text/plain": [
       "<Quantity([[3.1236 3.1236 3.1236]], 'nanometer')>"
      ]
     },
     "execution_count": 6,
     "metadata": {},
     "output_type": "execute_result"
    }
   ],
   "source": [
    "box = msm.get(molsys_oct, element='system', box=True)\n",
    "msm.pbc.get_lengths_from_box(box)"
   ]
  },
  {
   "cell_type": "code",
   "execution_count": 7,
   "id": "5bd1ae3c-4d12-4284-ba5e-5c3e44725b38",
   "metadata": {
    "execution": {
     "iopub.execute_input": "2025-03-11T21:06:21.272212Z",
     "iopub.status.busy": "2025-03-11T21:06:21.271608Z",
     "iopub.status.idle": "2025-03-11T21:06:21.677999Z",
     "shell.execute_reply": "2025-03-11T21:06:21.677152Z"
    }
   },
   "outputs": [
    {
     "data": {
      "text/html": [
       "<table><tbody><tr><th>Magnitude</th><td style='text-align:left;'><pre>[[3.1236 3.1236 3.1236]]</pre></td></tr><tr><th>Units</th><td style='text-align:left;'>nanometer</td></tr></tbody></table>"
      ],
      "text/latex": [
       "$\\begin{pmatrix} &  & \\end{pmatrix}\\ \\mathrm{nanometer}$"
      ],
      "text/plain": [
       "<Quantity([[3.1236 3.1236 3.1236]], 'nanometer')>"
      ]
     },
     "execution_count": 7,
     "metadata": {},
     "output_type": "execute_result"
    }
   ],
   "source": [
    "box = msm.get(molsys_dod, element='system', box=True)\n",
    "msm.pbc.get_lengths_from_box(box)"
   ]
  },
  {
   "cell_type": "code",
   "execution_count": null,
   "id": "dc70fbf4-2c8c-484f-bf54-e7af1a283794",
   "metadata": {},
   "outputs": [],
   "source": []
  }
 ],
 "metadata": {
  "kernelspec": {
   "display_name": "Python 3 (ipykernel)",
   "language": "python",
   "name": "python3"
  },
  "language_info": {
   "codemirror_mode": {
    "name": "ipython",
    "version": 3
   },
   "file_extension": ".py",
   "mimetype": "text/x-python",
   "name": "python",
   "nbconvert_exporter": "python",
   "pygments_lexer": "ipython3",
   "version": "3.12.8"
  },
  "widgets": {
   "application/vnd.jupyter.widget-state+json": {
    "state": {
     "15cb1456dbf8436bbfb102c5c73af399": {
      "model_module": "nglview-js-widgets",
      "model_module_version": "3.1.4",
      "model_name": "ColormakerRegistryModel",
      "state": {
       "_dom_classes": [],
       "_model_module": "nglview-js-widgets",
       "_model_module_version": "3.1.4",
       "_model_name": "ColormakerRegistryModel",
       "_msg_ar": [],
       "_msg_q": [],
       "_ready": false,
       "_view_count": null,
       "_view_module": "nglview-js-widgets",
       "_view_module_version": "3.1.4",
       "_view_name": "ColormakerRegistryView",
       "layout": "IPY_MODEL_1a9a510d4f5d43e9bb01c7a388ca9dbf",
       "tabbable": null,
       "tooltip": null
      }
     },
     "1a9a510d4f5d43e9bb01c7a388ca9dbf": {
      "model_module": "@jupyter-widgets/base",
      "model_module_version": "2.0.0",
      "model_name": "LayoutModel",
      "state": {
       "_model_module": "@jupyter-widgets/base",
       "_model_module_version": "2.0.0",
       "_model_name": "LayoutModel",
       "_view_count": null,
       "_view_module": "@jupyter-widgets/base",
       "_view_module_version": "2.0.0",
       "_view_name": "LayoutView",
       "align_content": null,
       "align_items": null,
       "align_self": null,
       "border_bottom": null,
       "border_left": null,
       "border_right": null,
       "border_top": null,
       "bottom": null,
       "display": null,
       "flex": null,
       "flex_flow": null,
       "grid_area": null,
       "grid_auto_columns": null,
       "grid_auto_flow": null,
       "grid_auto_rows": null,
       "grid_column": null,
       "grid_gap": null,
       "grid_row": null,
       "grid_template_areas": null,
       "grid_template_columns": null,
       "grid_template_rows": null,
       "height": null,
       "justify_content": null,
       "justify_items": null,
       "left": null,
       "margin": null,
       "max_height": null,
       "max_width": null,
       "min_height": null,
       "min_width": null,
       "object_fit": null,
       "object_position": null,
       "order": null,
       "overflow": null,
       "padding": null,
       "right": null,
       "top": null,
       "visibility": null,
       "width": null
      }
     }
    },
    "version_major": 2,
    "version_minor": 0
   }
  }
 },
 "nbformat": 4,
 "nbformat_minor": 5
}
