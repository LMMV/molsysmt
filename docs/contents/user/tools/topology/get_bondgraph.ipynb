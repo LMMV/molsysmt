{
 "cells": [
  {
   "cell_type": "code",
   "execution_count": 1,
   "metadata": {
    "editable": true,
    "execution": {
     "iopub.execute_input": "2025-03-11T21:08:14.053518Z",
     "iopub.status.busy": "2025-03-11T21:08:14.053116Z",
     "iopub.status.idle": "2025-03-11T21:08:14.097278Z",
     "shell.execute_reply": "2025-03-11T21:08:14.096293Z"
    },
    "slideshow": {
     "slide_type": ""
    },
    "tags": []
   },
   "outputs": [],
   "source": [
    "%load_ext autoreload\n",
    "%autoreload 2"
   ]
  },
  {
   "cell_type": "code",
   "execution_count": 2,
   "metadata": {
    "execution": {
     "iopub.execute_input": "2025-03-11T21:08:14.101104Z",
     "iopub.status.busy": "2025-03-11T21:08:14.100475Z",
     "iopub.status.idle": "2025-03-11T21:08:23.496305Z",
     "shell.execute_reply": "2025-03-11T21:08:23.495264Z"
    }
   },
   "outputs": [
    {
     "data": {
      "application/vnd.jupyter.widget-view+json": {
       "model_id": "ec6bb9df6077413c81d0ee1a63d1edc7",
       "version_major": 2,
       "version_minor": 0
      },
      "text/plain": []
     },
     "metadata": {},
     "output_type": "display_data"
    }
   ],
   "source": [
    "import molsysmt as msm"
   ]
  },
  {
   "cell_type": "markdown",
   "metadata": {},
   "source": [
    "# Get bondgraph\n",
    "\n",
    "Having the topology of the molecular system given by the covalent bonds can be very useful to, for instance, getting the number of disconnected components we have in the system. The method `molsysmt.bondgraph` returns the undirected network or graph where the nodes are the atoms and the undirected edges are given by the covalent bonds. The resulting graph can be encoded as a native python object from libraries such as NetworkX.\n",
    "\n",
    "Lets load a molecular system to show how `molsysmt.bondgraph` works:"
   ]
  },
  {
   "cell_type": "code",
   "execution_count": 3,
   "metadata": {
    "execution": {
     "iopub.execute_input": "2025-03-11T21:08:23.502003Z",
     "iopub.status.busy": "2025-03-11T21:08:23.499944Z",
     "iopub.status.idle": "2025-03-11T21:08:24.453547Z",
     "shell.execute_reply": "2025-03-11T21:08:24.452724Z"
    }
   },
   "outputs": [],
   "source": [
    "molecular_system = msm.systems['TcTIM']['1tcd.h5msm']\n",
    "molecular_system = msm.convert(molecular_system, 'molsysmt.MolSys')"
   ]
  },
  {
   "cell_type": "markdown",
   "metadata": {},
   "source": [
    "Lets get the bond graph defined by the atoms of the first molecule:"
   ]
  },
  {
   "cell_type": "code",
   "execution_count": 4,
   "metadata": {
    "execution": {
     "iopub.execute_input": "2025-03-11T21:08:24.457679Z",
     "iopub.status.busy": "2025-03-11T21:08:24.456559Z",
     "iopub.status.idle": "2025-03-11T21:08:25.381775Z",
     "shell.execute_reply": "2025-03-11T21:08:25.380833Z"
    }
   },
   "outputs": [],
   "source": [
    "graph = msm.topology.get_bondgraph(molecular_system, selection='molecule_index==0', to_form=\"networkx.Graph\")"
   ]
  },
  {
   "cell_type": "code",
   "execution_count": 5,
   "metadata": {
    "execution": {
     "iopub.execute_input": "2025-03-11T21:08:25.386145Z",
     "iopub.status.busy": "2025-03-11T21:08:25.385432Z",
     "iopub.status.idle": "2025-03-11T21:08:25.461442Z",
     "shell.execute_reply": "2025-03-11T21:08:25.460531Z"
    }
   },
   "outputs": [
    {
     "name": "stdout",
     "output_type": "stream",
     "text": [
      "The graph has 1906 nodes and 1942 edges\n"
     ]
    }
   ],
   "source": [
    "n_nodes = graph.number_of_nodes()\n",
    "n_edges = graph.number_of_edges()\n",
    "print('The graph has {} nodes and {} edges'.format(n_nodes, n_edges))"
   ]
  },
  {
   "cell_type": "code",
   "execution_count": 6,
   "metadata": {
    "execution": {
     "iopub.execute_input": "2025-03-11T21:08:25.465591Z",
     "iopub.status.busy": "2025-03-11T21:08:25.464902Z",
     "iopub.status.idle": "2025-03-11T21:08:26.321766Z",
     "shell.execute_reply": "2025-03-11T21:08:26.320795Z"
    }
   },
   "outputs": [],
   "source": [
    "n_atoms, n_bonds = msm.get(molecular_system, element='atom', selection='molecule_index==0', n_atoms=True,\n",
    "                           n_inner_bonds=True)"
   ]
  },
  {
   "cell_type": "code",
   "execution_count": 7,
   "metadata": {
    "execution": {
     "iopub.execute_input": "2025-03-11T21:08:26.325325Z",
     "iopub.status.busy": "2025-03-11T21:08:26.324712Z",
     "iopub.status.idle": "2025-03-11T21:08:26.439933Z",
     "shell.execute_reply": "2025-03-11T21:08:26.439110Z"
    }
   },
   "outputs": [
    {
     "name": "stdout",
     "output_type": "stream",
     "text": [
      "The molecule has 1906 atoms and 1942 bonds\n"
     ]
    }
   ],
   "source": [
    "print('The molecule has {} atoms and {} bonds'.format(n_atoms, n_bonds))"
   ]
  },
  {
   "cell_type": "markdown",
   "metadata": {},
   "source": [
    "The output object was chosen to be a NetworkX graph. Lets see how many disconnected components are in the molecule:"
   ]
  },
  {
   "cell_type": "code",
   "execution_count": 8,
   "metadata": {
    "execution": {
     "iopub.execute_input": "2025-03-11T21:08:26.443512Z",
     "iopub.status.busy": "2025-03-11T21:08:26.442857Z",
     "iopub.status.idle": "2025-03-11T21:08:26.534424Z",
     "shell.execute_reply": "2025-03-11T21:08:26.533439Z"
    }
   },
   "outputs": [],
   "source": [
    "from networkx import connected_components"
   ]
  },
  {
   "cell_type": "code",
   "execution_count": 9,
   "metadata": {
    "execution": {
     "iopub.execute_input": "2025-03-11T21:08:26.538132Z",
     "iopub.status.busy": "2025-03-11T21:08:26.537720Z",
     "iopub.status.idle": "2025-03-11T21:08:26.612561Z",
     "shell.execute_reply": "2025-03-11T21:08:26.611586Z"
    }
   },
   "outputs": [],
   "source": [
    "components = connected_components(graph)"
   ]
  },
  {
   "cell_type": "code",
   "execution_count": 10,
   "metadata": {
    "execution": {
     "iopub.execute_input": "2025-03-11T21:08:26.616641Z",
     "iopub.status.busy": "2025-03-11T21:08:26.615774Z",
     "iopub.status.idle": "2025-03-11T21:08:26.693479Z",
     "shell.execute_reply": "2025-03-11T21:08:26.692564Z"
    }
   },
   "outputs": [
    {
     "name": "stdout",
     "output_type": "stream",
     "text": [
      "Number of components in the graph: 1\n"
     ]
    }
   ],
   "source": [
    "print('Number of components in the graph: {}'.format(len(list(components))))"
   ]
  },
  {
   "cell_type": "markdown",
   "metadata": {},
   "source": [
    "Actually, this is the definition of the element \"component\" in MolSysMT:"
   ]
  },
  {
   "cell_type": "code",
   "execution_count": 11,
   "metadata": {
    "editable": true,
    "execution": {
     "iopub.execute_input": "2025-03-11T21:08:26.697006Z",
     "iopub.status.busy": "2025-03-11T21:08:26.696131Z",
     "iopub.status.idle": "2025-03-11T21:08:27.307936Z",
     "shell.execute_reply": "2025-03-11T21:08:27.307108Z"
    },
    "slideshow": {
     "slide_type": ""
    },
    "tags": []
   },
   "outputs": [
    {
     "data": {
      "text/plain": [
       "1"
      ]
     },
     "execution_count": 11,
     "metadata": {},
     "output_type": "execute_result"
    }
   ],
   "source": [
    "msm.get(molecular_system, element='atom', selection='molecule_index==0', n_components=True)"
   ]
  }
 ],
 "metadata": {
  "kernelspec": {
   "display_name": "Python 3 (ipykernel)",
   "language": "python",
   "name": "python3"
  },
  "language_info": {
   "codemirror_mode": {
    "name": "ipython",
    "version": 3
   },
   "file_extension": ".py",
   "mimetype": "text/x-python",
   "name": "python",
   "nbconvert_exporter": "python",
   "pygments_lexer": "ipython3",
   "version": "3.12.8"
  },
  "widgets": {
   "application/vnd.jupyter.widget-state+json": {
    "state": {
     "dd070025ff4647359926b34ce14dac3e": {
      "model_module": "@jupyter-widgets/base",
      "model_module_version": "2.0.0",
      "model_name": "LayoutModel",
      "state": {
       "_model_module": "@jupyter-widgets/base",
       "_model_module_version": "2.0.0",
       "_model_name": "LayoutModel",
       "_view_count": null,
       "_view_module": "@jupyter-widgets/base",
       "_view_module_version": "2.0.0",
       "_view_name": "LayoutView",
       "align_content": null,
       "align_items": null,
       "align_self": null,
       "border_bottom": null,
       "border_left": null,
       "border_right": null,
       "border_top": null,
       "bottom": null,
       "display": null,
       "flex": null,
       "flex_flow": null,
       "grid_area": null,
       "grid_auto_columns": null,
       "grid_auto_flow": null,
       "grid_auto_rows": null,
       "grid_column": null,
       "grid_gap": null,
       "grid_row": null,
       "grid_template_areas": null,
       "grid_template_columns": null,
       "grid_template_rows": null,
       "height": null,
       "justify_content": null,
       "justify_items": null,
       "left": null,
       "margin": null,
       "max_height": null,
       "max_width": null,
       "min_height": null,
       "min_width": null,
       "object_fit": null,
       "object_position": null,
       "order": null,
       "overflow": null,
       "padding": null,
       "right": null,
       "top": null,
       "visibility": null,
       "width": null
      }
     },
     "ec6bb9df6077413c81d0ee1a63d1edc7": {
      "model_module": "nglview-js-widgets",
      "model_module_version": "3.1.4",
      "model_name": "ColormakerRegistryModel",
      "state": {
       "_dom_classes": [],
       "_model_module": "nglview-js-widgets",
       "_model_module_version": "3.1.4",
       "_model_name": "ColormakerRegistryModel",
       "_msg_ar": [],
       "_msg_q": [],
       "_ready": false,
       "_view_count": null,
       "_view_module": "nglview-js-widgets",
       "_view_module_version": "3.1.4",
       "_view_name": "ColormakerRegistryView",
       "layout": "IPY_MODEL_dd070025ff4647359926b34ce14dac3e",
       "tabbable": null,
       "tooltip": null
      }
     }
    },
    "version_major": 2,
    "version_minor": 0
   }
  }
 },
 "nbformat": 4,
 "nbformat_minor": 4
}
