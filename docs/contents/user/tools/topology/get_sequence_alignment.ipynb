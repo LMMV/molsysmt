{
 "cells": [
  {
   "cell_type": "code",
   "execution_count": 1,
   "id": "00cf9f52-0b7a-4523-8d63-616d6bffa54d",
   "metadata": {
    "execution": {
     "iopub.execute_input": "2025-03-11T21:08:14.064357Z",
     "iopub.status.busy": "2025-03-11T21:08:14.063818Z",
     "iopub.status.idle": "2025-03-11T21:08:14.102603Z",
     "shell.execute_reply": "2025-03-11T21:08:14.101741Z"
    }
   },
   "outputs": [],
   "source": [
    "%load_ext autoreload\n",
    "%autoreload 2"
   ]
  },
  {
   "cell_type": "code",
   "execution_count": 2,
   "id": "b8878459-7d35-4fb1-800f-14a77bb79bdc",
   "metadata": {
    "execution": {
     "iopub.execute_input": "2025-03-11T21:08:14.106682Z",
     "iopub.status.busy": "2025-03-11T21:08:14.106136Z",
     "iopub.status.idle": "2025-03-11T21:08:23.045296Z",
     "shell.execute_reply": "2025-03-11T21:08:23.043180Z"
    }
   },
   "outputs": [
    {
     "data": {
      "application/vnd.jupyter.widget-view+json": {
       "model_id": "fcf9bdfc8aed45faad5cffb6d33bc08c",
       "version_major": 2,
       "version_minor": 0
      },
      "text/plain": []
     },
     "metadata": {},
     "output_type": "display_data"
    }
   ],
   "source": [
    "import molsysmt as msm"
   ]
  },
  {
   "cell_type": "markdown",
   "id": "77f3441d-f808-430d-ab58-2f104bae8975",
   "metadata": {},
   "source": [
    "# Get sequence alignment"
   ]
  },
  {
   "cell_type": "code",
   "execution_count": 3,
   "id": "3ac5b2d3-f038-4351-a450-0ecf70f2d9f4",
   "metadata": {
    "execution": {
     "iopub.execute_input": "2025-03-11T21:08:23.050066Z",
     "iopub.status.busy": "2025-03-11T21:08:23.048870Z",
     "iopub.status.idle": "2025-03-11T21:08:25.287333Z",
     "shell.execute_reply": "2025-03-11T21:08:25.286280Z"
    }
   },
   "outputs": [],
   "source": [
    "molecular_system_1 = msm.convert('pdb_id:181l', to_form='molsysmt.MolSys')\n",
    "molecular_system_2 = msm.convert('pdb_id:1l17', to_form='molsysmt.MolSys')"
   ]
  },
  {
   "cell_type": "code",
   "execution_count": 4,
   "id": "44b76afa-eff2-4ef3-a273-b28ddbb4c5e1",
   "metadata": {
    "execution": {
     "iopub.execute_input": "2025-03-11T21:08:25.292375Z",
     "iopub.status.busy": "2025-03-11T21:08:25.291046Z",
     "iopub.status.idle": "2025-03-11T21:08:25.754361Z",
     "shell.execute_reply": "2025-03-11T21:08:25.753442Z"
    }
   },
   "outputs": [
    {
     "data": {
      "text/plain": [
       "162"
      ]
     },
     "execution_count": 4,
     "metadata": {},
     "output_type": "execute_result"
    }
   ],
   "source": [
    "msm.get(molecular_system_1, element='atom', selection='molecule_type==\"protein\"', n_groups=True)"
   ]
  },
  {
   "cell_type": "code",
   "execution_count": 5,
   "id": "27f8fda5-dcd8-4251-aa37-8ca7096545a6",
   "metadata": {
    "execution": {
     "iopub.execute_input": "2025-03-11T21:08:25.757629Z",
     "iopub.status.busy": "2025-03-11T21:08:25.757252Z",
     "iopub.status.idle": "2025-03-11T21:08:26.289952Z",
     "shell.execute_reply": "2025-03-11T21:08:26.289214Z"
    }
   },
   "outputs": [
    {
     "data": {
      "text/plain": [
       "164"
      ]
     },
     "execution_count": 5,
     "metadata": {},
     "output_type": "execute_result"
    }
   ],
   "source": [
    "msm.get(molecular_system_2, element='atom', selection='molecule_type==\"protein\"', n_groups=True)"
   ]
  },
  {
   "cell_type": "code",
   "execution_count": 6,
   "id": "51dc47da-d7fe-456f-a2f3-5f32e53695a7",
   "metadata": {
    "execution": {
     "iopub.execute_input": "2025-03-11T21:08:26.292983Z",
     "iopub.status.busy": "2025-03-11T21:08:26.292482Z",
     "iopub.status.idle": "2025-03-11T21:08:27.508216Z",
     "shell.execute_reply": "2025-03-11T21:08:27.507143Z"
    }
   },
   "outputs": [
    {
     "name": "stdout",
     "output_type": "stream",
     "text": [
      "MN\u001b[1;31;48mI\u001b[mFEMLRIDEGLRLKIYKDTEGYYTIGIGHLLTKSPSLNAAKSELDKAIGRN\u001b[1;31;48mT\u001b[mNGVITKDEAEKLFNQDVDAAVRGILRNAKLKPVYDSLDAVRR\u001b[1;31;48mA\u001b[mA\u001b[1;31;48mA\u001b[mINMVFQMGETGVAGFTNSLRMLQQKRWDEAAVNLAKSRWYNQTPNRAKRVITTFRTGTWDAYK--\n",
      "\n",
      "MN\u001b[1;31;48mV\u001b[mFEMLRIDEGLRLKIYKDTEGYYTIGIGHLLTKSPSLNAAKSELDKAIGRN\u001b[1;31;48mC\u001b[mNGVITKDEAEKLFNQDVDAAVRGILRNAKLKPVYDSLDAVRR\u001b[1;31;48mC\u001b[mA\u001b[1;31;48mL\u001b[mINMVFQMGETGVAGFTNSLRMLQQKRWDEAAVNLAKSRWYNQTPNRAKRVITTFRTGTWDAYK\u001b[1;34;48mN\u001b[m\u001b[1;34;48mL\u001b[m\n"
     ]
    }
   ],
   "source": [
    "msm.topology.get_sequence_alignment(molecular_system_1, selection='molecule_type==\"protein\"',\n",
    "                                    reference_molecular_system=molecular_system_2, reference_selection='molecule_type==\"protein\"',\n",
    "                                    prettyprint=True)"
   ]
  },
  {
   "cell_type": "code",
   "execution_count": 7,
   "id": "8b7401f7-7418-4e31-b4d5-9a1a63ba5bcb",
   "metadata": {
    "execution": {
     "iopub.execute_input": "2025-03-11T21:08:27.512200Z",
     "iopub.status.busy": "2025-03-11T21:08:27.511387Z",
     "iopub.status.idle": "2025-03-11T21:08:28.874098Z",
     "shell.execute_reply": "2025-03-11T21:08:28.873098Z"
    }
   },
   "outputs": [],
   "source": [
    "seq, seq_ref = msm.topology.get_sequence_alignment(molecular_system_1, selection='molecule_type==\"protein\"',\n",
    "                                    reference_molecular_system=molecular_system_2, reference_selection='molecule_type==\"protein\"')"
   ]
  },
  {
   "cell_type": "code",
   "execution_count": 8,
   "id": "70813a8b-a581-45c7-8826-3e7788150e46",
   "metadata": {
    "execution": {
     "iopub.execute_input": "2025-03-11T21:08:28.877758Z",
     "iopub.status.busy": "2025-03-11T21:08:28.877113Z",
     "iopub.status.idle": "2025-03-11T21:08:28.950298Z",
     "shell.execute_reply": "2025-03-11T21:08:28.949365Z"
    }
   },
   "outputs": [
    {
     "data": {
      "text/plain": [
       "'MNIFEMLRIDEGLRLKIYKDTEGYYTIGIGHLLTKSPSLNAAKSELDKAIGRNTNGVITKDEAEKLFNQDVDAAVRGILRNAKLKPVYDSLDAVRRAAAINMVFQMGETGVAGFTNSLRMLQQKRWDEAAVNLAKSRWYNQTPNRAKRVITTFRTGTWDAYK--'"
      ]
     },
     "execution_count": 8,
     "metadata": {},
     "output_type": "execute_result"
    }
   ],
   "source": [
    "seq"
   ]
  },
  {
   "cell_type": "code",
   "execution_count": 9,
   "id": "1d612630-7b7b-4732-8393-2ce88f53dab4",
   "metadata": {
    "execution": {
     "iopub.execute_input": "2025-03-11T21:08:28.954705Z",
     "iopub.status.busy": "2025-03-11T21:08:28.954110Z",
     "iopub.status.idle": "2025-03-11T21:08:29.027447Z",
     "shell.execute_reply": "2025-03-11T21:08:29.026481Z"
    }
   },
   "outputs": [
    {
     "data": {
      "text/plain": [
       "'MNVFEMLRIDEGLRLKIYKDTEGYYTIGIGHLLTKSPSLNAAKSELDKAIGRNCNGVITKDEAEKLFNQDVDAAVRGILRNAKLKPVYDSLDAVRRCALINMVFQMGETGVAGFTNSLRMLQQKRWDEAAVNLAKSRWYNQTPNRAKRVITTFRTGTWDAYKNL'"
      ]
     },
     "execution_count": 9,
     "metadata": {},
     "output_type": "execute_result"
    }
   ],
   "source": [
    "seq_ref"
   ]
  },
  {
   "cell_type": "code",
   "execution_count": null,
   "id": "3fb95ecc-22d9-4bac-ae0e-eb450610d693",
   "metadata": {},
   "outputs": [],
   "source": []
  }
 ],
 "metadata": {
  "kernelspec": {
   "display_name": "Python 3 (ipykernel)",
   "language": "python",
   "name": "python3"
  },
  "language_info": {
   "codemirror_mode": {
    "name": "ipython",
    "version": 3
   },
   "file_extension": ".py",
   "mimetype": "text/x-python",
   "name": "python",
   "nbconvert_exporter": "python",
   "pygments_lexer": "ipython3",
   "version": "3.12.8"
  },
  "widgets": {
   "application/vnd.jupyter.widget-state+json": {
    "state": {
     "e296ef6e292f4a3a82ebfe178e77f7e1": {
      "model_module": "@jupyter-widgets/base",
      "model_module_version": "2.0.0",
      "model_name": "LayoutModel",
      "state": {
       "_model_module": "@jupyter-widgets/base",
       "_model_module_version": "2.0.0",
       "_model_name": "LayoutModel",
       "_view_count": null,
       "_view_module": "@jupyter-widgets/base",
       "_view_module_version": "2.0.0",
       "_view_name": "LayoutView",
       "align_content": null,
       "align_items": null,
       "align_self": null,
       "border_bottom": null,
       "border_left": null,
       "border_right": null,
       "border_top": null,
       "bottom": null,
       "display": null,
       "flex": null,
       "flex_flow": null,
       "grid_area": null,
       "grid_auto_columns": null,
       "grid_auto_flow": null,
       "grid_auto_rows": null,
       "grid_column": null,
       "grid_gap": null,
       "grid_row": null,
       "grid_template_areas": null,
       "grid_template_columns": null,
       "grid_template_rows": null,
       "height": null,
       "justify_content": null,
       "justify_items": null,
       "left": null,
       "margin": null,
       "max_height": null,
       "max_width": null,
       "min_height": null,
       "min_width": null,
       "object_fit": null,
       "object_position": null,
       "order": null,
       "overflow": null,
       "padding": null,
       "right": null,
       "top": null,
       "visibility": null,
       "width": null
      }
     },
     "fcf9bdfc8aed45faad5cffb6d33bc08c": {
      "model_module": "nglview-js-widgets",
      "model_module_version": "3.1.4",
      "model_name": "ColormakerRegistryModel",
      "state": {
       "_dom_classes": [],
       "_model_module": "nglview-js-widgets",
       "_model_module_version": "3.1.4",
       "_model_name": "ColormakerRegistryModel",
       "_msg_ar": [],
       "_msg_q": [],
       "_ready": false,
       "_view_count": null,
       "_view_module": "nglview-js-widgets",
       "_view_module_version": "3.1.4",
       "_view_name": "ColormakerRegistryView",
       "layout": "IPY_MODEL_e296ef6e292f4a3a82ebfe178e77f7e1",
       "tabbable": null,
       "tooltip": null
      }
     }
    },
    "version_major": 2,
    "version_minor": 0
   }
  }
 },
 "nbformat": 4,
 "nbformat_minor": 5
}
