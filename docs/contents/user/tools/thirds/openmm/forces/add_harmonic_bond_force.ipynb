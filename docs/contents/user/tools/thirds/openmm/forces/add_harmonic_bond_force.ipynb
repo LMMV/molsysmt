{
 "cells": [
  {
   "cell_type": "markdown",
   "id": "653bc9c8-3e1b-45ee-944d-85874a8b33b3",
   "metadata": {},
   "source": [
    "# Add harmonic bond force"
   ]
  },
  {
   "cell_type": "code",
   "execution_count": 1,
   "id": "64de0002-d07f-4bb1-8c28-b7c0f3e8762f",
   "metadata": {},
   "outputs": [
    {
     "data": {
      "application/vnd.jupyter.widget-view+json": {
       "model_id": "57fb11f642e5467db505fb49d6f6104e",
       "version_major": 2,
       "version_minor": 0
      },
      "text/plain": []
     },
     "metadata": {},
     "output_type": "display_data"
    }
   ],
   "source": [
    "import molsysmt as msm"
   ]
  },
  {
   "cell_type": "code",
   "execution_count": 2,
   "id": "6e09021e-88d6-4ade-9ae5-dfa9ec540214",
   "metadata": {},
   "outputs": [],
   "source": [
    "import openmm as mm\n",
    "from openmm import unit\n",
    "from openmm import app\n",
    "from tqdm import tqdm\n",
    "import numpy as np\n",
    "from matplotlib import pyplot as plt"
   ]
  },
  {
   "cell_type": "code",
   "execution_count": 3,
   "id": "ca497621-27bc-40fc-bdd3-521672abd160",
   "metadata": {},
   "outputs": [],
   "source": [
    "topology = app.Topology()\n",
    "chain = topology.addChain('A')\n",
    "residue = topology.addResidue('Ar', chain)\n",
    "atom = topology.addAtom(name='Ar', element= app.element.argon, residue=residue)\n",
    "chain = topology.addChain('B')\n",
    "residue = topology.addResidue('Ar', chain)\n",
    "atom = topology.addAtom(name='Ar', element= app.element.argon, residue=residue)"
   ]
  },
  {
   "cell_type": "code",
   "execution_count": 4,
   "id": "d1a638b7-79f8-44b3-98bb-0b6488ce2ebf",
   "metadata": {},
   "outputs": [
    {
     "data": {
      "text/plain": [
       "1"
      ]
     },
     "execution_count": 4,
     "metadata": {},
     "output_type": "execute_result"
    }
   ],
   "source": [
    "system = mm.System()\n",
    "system.addParticle(atom.element.mass)\n",
    "system.addParticle(atom.element.mass)"
   ]
  },
  {
   "cell_type": "code",
   "execution_count": 5,
   "id": "2dd1d2d8-d85e-4396-8fa6-d3920bee98d1",
   "metadata": {},
   "outputs": [],
   "source": [
    "temperature = 300*unit.kelvin"
   ]
  },
  {
   "cell_type": "code",
   "execution_count": 6,
   "id": "ae200579-9af9-40de-aba3-7dce8fa33e54",
   "metadata": {},
   "outputs": [],
   "source": [
    "integration_timestep = 2.0*unit.femtoseconds\n",
    "saving_interval = 1.00*unit.picoseconds\n",
    "logging_interval = 100.00*unit.picoseconds\n",
    "simulation_time = 1000.*unit.picoseconds\n",
    "\n",
    "saving_steps = int(saving_interval/integration_timestep)\n",
    "logging_steps = int(logging_interval/integration_timestep)\n",
    "md_steps = int(simulation_time/integration_timestep)"
   ]
  },
  {
   "cell_type": "code",
   "execution_count": 7,
   "id": "c3ca01e5-f1d4-4881-8b41-7f140dd441b7",
   "metadata": {},
   "outputs": [],
   "source": [
    "friction   = 5.0/unit.picoseconds\n",
    "integrator = mm.LangevinIntegrator(temperature, friction, integration_timestep)"
   ]
  },
  {
   "cell_type": "code",
   "execution_count": 8,
   "id": "43e38fd7-6f23-44e4-951d-9d9f8149cc0e",
   "metadata": {},
   "outputs": [],
   "source": [
    "platform = mm.Platform.getPlatformByName('OpenCL')"
   ]
  },
  {
   "cell_type": "code",
   "execution_count": 9,
   "id": "67262061-18b1-44d0-be45-e4d3b3d6c7f8",
   "metadata": {},
   "outputs": [],
   "source": [
    "simulation = app.Simulation(topology, system, integrator, platform)"
   ]
  },
  {
   "cell_type": "code",
   "execution_count": 10,
   "id": "ed35177f-05b2-4d21-9037-1169805c4dee",
   "metadata": {},
   "outputs": [],
   "source": [
    "initial_positions  = [[0.0, 0.0, 0.0], [1.0, 1.0, 1.0]] * unit.nanometers\n",
    "simulation.context.setPositions(initial_positions)"
   ]
  },
  {
   "cell_type": "code",
   "execution_count": 11,
   "id": "f98ee3bf-39f4-4292-80a0-2d140cb2c042",
   "metadata": {},
   "outputs": [],
   "source": [
    "Lbox = 2.0\n",
    "v1 = [Lbox,0,0] * unit.nanometers\n",
    "v2 = [0,Lbox,0] * unit.nanometers\n",
    "v3 = [0,0,Lbox] * unit.nanometers\n",
    "simulation.context.setPeriodicBoxVectors(v1, v2, v3)"
   ]
  },
  {
   "cell_type": "code",
   "execution_count": 12,
   "id": "67fa9250-88fe-4e5b-8e87-053ab69739a8",
   "metadata": {},
   "outputs": [
    {
     "data": {
      "text/plain": [
       "0"
      ]
     },
     "execution_count": 12,
     "metadata": {},
     "output_type": "execute_result"
    }
   ],
   "source": [
    "msm.thirds.openmm.forces.add_harmonic_bond_force(simulation, atom_pair=[0,1],\n",
    "                                                 force_constant='1000 kilojoules/(mol*nanometers**2)',\n",
    "                                                 bond_length='1 nanometer',\n",
    "                                                 pbc=True)"
   ]
  },
  {
   "cell_type": "code",
   "execution_count": null,
   "id": "ac3fb780-483b-4466-a7bf-4789ab3a5127",
   "metadata": {},
   "outputs": [],
   "source": [
    "reporter_tqdm = msm.thirds.openmm.reporters.TQDMReporter(logging_steps, md_steps, temperature=False)\n",
    "simulation.reporters.append(reporter_tqdm)"
   ]
  },
  {
   "cell_type": "code",
   "execution_count": null,
   "id": "4ce9a2e5-9dce-4bc2-987f-537e6e8ac28a",
   "metadata": {},
   "outputs": [],
   "source": [
    "reporter_trajectory_dict = msm.thirds.openmm.reporters.TrajectoryDictReporter(saving_steps, time=True, coordinates=True)\n",
    "simulation.reporters.append(reporter_trajectory_dict)"
   ]
  },
  {
   "cell_type": "code",
   "execution_count": null,
   "id": "02f7ba93-b25e-4a9a-b197-9ef5c34a479c",
   "metadata": {},
   "outputs": [],
   "source": [
    "simulation.step(md_steps)"
   ]
  },
  {
   "cell_type": "code",
   "execution_count": null,
   "id": "1d98eba5-96a5-4f6d-bca6-30b0641d78e8",
   "metadata": {},
   "outputs": [],
   "source": [
    "trajectory_dict = reporter_trajectory_dict.finalize()"
   ]
  },
  {
   "cell_type": "code",
   "execution_count": null,
   "id": "6f0c68d0-3191-4266-b338-789328039407",
   "metadata": {},
   "outputs": [],
   "source": [
    "plt.plot(trajectory_dict['time'], trajectory_dict['coordinates'][:,0,0])\n",
    "plt.plot(trajectory_dict['time'], trajectory_dict['coordinates'][:,1,0])\n",
    "plt.axhline(y=0.5, color='red', linestyle='-')\n",
    "plt.show()"
   ]
  },
  {
   "cell_type": "code",
   "execution_count": null,
   "id": "4ec8947c-9e0c-437a-8c1c-523939c5277a",
   "metadata": {},
   "outputs": [],
   "source": [
    "aa = [[0,1],[2,3]]"
   ]
  },
  {
   "cell_type": "code",
   "execution_count": null,
   "id": "eaf16cea-703c-44bc-a4a5-225474a78157",
   "metadata": {},
   "outputs": [],
   "source": [
    "for ii,jj in aa:\n",
    "    print(ii,jj)"
   ]
  },
  {
   "cell_type": "code",
   "execution_count": null,
   "id": "7991c8d7-79bb-4bb6-a745-d9eae2201f59",
   "metadata": {},
   "outputs": [],
   "source": []
  }
 ],
 "metadata": {
  "kernelspec": {
   "display_name": "Python 3 (ipykernel)",
   "language": "python",
   "name": "python3"
  },
  "language_info": {
   "codemirror_mode": {
    "name": "ipython",
    "version": 3
   },
   "file_extension": ".py",
   "mimetype": "text/x-python",
   "name": "python",
   "nbconvert_exporter": "python",
   "pygments_lexer": "ipython3",
   "version": "3.12.8"
  }
 },
 "nbformat": 4,
 "nbformat_minor": 5
}
