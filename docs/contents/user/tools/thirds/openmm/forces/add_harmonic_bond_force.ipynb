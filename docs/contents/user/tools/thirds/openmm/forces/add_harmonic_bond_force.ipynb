{
 "cells": [
  {
   "cell_type": "markdown",
   "id": "653bc9c8-3e1b-45ee-944d-85874a8b33b3",
   "metadata": {},
   "source": [
    "# Add harmonic bond force"
   ]
  },
  {
   "cell_type": "code",
   "execution_count": 1,
   "id": "64de0002-d07f-4bb1-8c28-b7c0f3e8762f",
   "metadata": {},
   "outputs": [
    {
     "data": {
      "application/vnd.jupyter.widget-view+json": {
       "model_id": "705dd0ebbd3f4616ae402eaea93de1cc",
       "version_major": 2,
       "version_minor": 0
      },
      "text/plain": []
     },
     "metadata": {},
     "output_type": "display_data"
    }
   ],
   "source": [
    "import molsysmt as msm"
   ]
  },
  {
   "cell_type": "code",
   "execution_count": 2,
   "id": "6e09021e-88d6-4ade-9ae5-dfa9ec540214",
   "metadata": {},
   "outputs": [],
   "source": [
    "import openmm as mm\n",
    "from openmm import unit\n",
    "from openmm import app\n",
    "from tqdm import tqdm\n",
    "import numpy as np\n",
    "from matplotlib import pyplot as plt"
   ]
  },
  {
   "cell_type": "code",
   "execution_count": 3,
   "id": "ca497621-27bc-40fc-bdd3-521672abd160",
   "metadata": {},
   "outputs": [],
   "source": [
    "topology = app.Topology()\n",
    "chain = topology.addChain('A')\n",
    "residue = topology.addResidue('Ar', chain)\n",
    "atom = topology.addAtom(name='Ar', element= app.element.argon, residue=residue)\n",
    "chain = topology.addChain('B')\n",
    "residue = topology.addResidue('Ar', chain)\n",
    "atom = topology.addAtom(name='Ar', element= app.element.argon, residue=residue)"
   ]
  },
  {
   "cell_type": "code",
   "execution_count": 4,
   "id": "d1a638b7-79f8-44b3-98bb-0b6488ce2ebf",
   "metadata": {},
   "outputs": [
    {
     "data": {
      "text/plain": [
       "1"
      ]
     },
     "execution_count": 4,
     "metadata": {},
     "output_type": "execute_result"
    }
   ],
   "source": [
    "system = mm.System()\n",
    "system.addParticle(atom.element.mass)\n",
    "system.addParticle(atom.element.mass)"
   ]
  },
  {
   "cell_type": "code",
   "execution_count": 5,
   "id": "2dd1d2d8-d85e-4396-8fa6-d3920bee98d1",
   "metadata": {},
   "outputs": [],
   "source": [
    "temperature = 300*unit.kelvin"
   ]
  },
  {
   "cell_type": "code",
   "execution_count": 6,
   "id": "ae200579-9af9-40de-aba3-7dce8fa33e54",
   "metadata": {},
   "outputs": [],
   "source": [
    "integration_timestep = 2.0*unit.femtoseconds\n",
    "saving_interval = 1.00*unit.picoseconds\n",
    "logging_interval = 100.00*unit.picoseconds\n",
    "simulation_time = 1000.*unit.picoseconds\n",
    "\n",
    "saving_steps = int(saving_interval/integration_timestep)\n",
    "logging_steps = int(logging_interval/integration_timestep)\n",
    "md_steps = int(simulation_time/integration_timestep)"
   ]
  },
  {
   "cell_type": "code",
   "execution_count": 7,
   "id": "c3ca01e5-f1d4-4881-8b41-7f140dd441b7",
   "metadata": {},
   "outputs": [],
   "source": [
    "friction   = 5.0/unit.picoseconds\n",
    "integrator = mm.LangevinIntegrator(temperature, friction, integration_timestep)"
   ]
  },
  {
   "cell_type": "code",
   "execution_count": 8,
   "id": "43e38fd7-6f23-44e4-951d-9d9f8149cc0e",
   "metadata": {},
   "outputs": [],
   "source": [
    "platform = mm.Platform.getPlatformByName('OpenCL')"
   ]
  },
  {
   "cell_type": "code",
   "execution_count": 9,
   "id": "67262061-18b1-44d0-be45-e4d3b3d6c7f8",
   "metadata": {},
   "outputs": [],
   "source": [
    "simulation = app.Simulation(topology, system, integrator, platform)"
   ]
  },
  {
   "cell_type": "code",
   "execution_count": 10,
   "id": "ed35177f-05b2-4d21-9037-1169805c4dee",
   "metadata": {},
   "outputs": [],
   "source": [
    "initial_positions  = [[0.0, 0.0, 0.0], [1.0, 1.0, 1.0]] * unit.nanometers\n",
    "simulation.context.setPositions(initial_positions)"
   ]
  },
  {
   "cell_type": "code",
   "execution_count": 11,
   "id": "f98ee3bf-39f4-4292-80a0-2d140cb2c042",
   "metadata": {},
   "outputs": [],
   "source": [
    "Lbox = 2.0\n",
    "v1 = [Lbox,0,0] * unit.nanometers\n",
    "v2 = [0,Lbox,0] * unit.nanometers\n",
    "v3 = [0,0,Lbox] * unit.nanometers\n",
    "simulation.context.setPeriodicBoxVectors(v1, v2, v3)"
   ]
  },
  {
   "cell_type": "code",
   "execution_count": 12,
   "id": "67fa9250-88fe-4e5b-8e87-053ab69739a8",
   "metadata": {},
   "outputs": [
    {
     "ename": "AttributeError",
     "evalue": "'int' object has no attribute 'shape'",
     "output_type": "error",
     "traceback": [
      "\u001b[0;31m---------------------------------------------------------------------------\u001b[0m",
      "\u001b[0;31mAttributeError\u001b[0m                            Traceback (most recent call last)",
      "Cell \u001b[0;32mIn[12], line 1\u001b[0m\n\u001b[0;32m----> 1\u001b[0m \u001b[43mmsm\u001b[49m\u001b[38;5;241;43m.\u001b[39;49m\u001b[43mthirds\u001b[49m\u001b[38;5;241;43m.\u001b[39;49m\u001b[43mopenmm\u001b[49m\u001b[38;5;241;43m.\u001b[39;49m\u001b[43mforces\u001b[49m\u001b[38;5;241;43m.\u001b[39;49m\u001b[43madd_harmonic_bond_force\u001b[49m\u001b[43m(\u001b[49m\u001b[43msimulation\u001b[49m\u001b[43m,\u001b[49m\u001b[43m \u001b[49m\u001b[43matom_pair\u001b[49m\u001b[38;5;241;43m=\u001b[39;49m\u001b[43m[\u001b[49m\u001b[38;5;241;43m0\u001b[39;49m\u001b[43m,\u001b[49m\u001b[38;5;241;43m1\u001b[39;49m\u001b[43m]\u001b[49m\u001b[43m,\u001b[49m\n\u001b[1;32m      2\u001b[0m \u001b[43m                                                 \u001b[49m\u001b[43mforce_constant\u001b[49m\u001b[38;5;241;43m=\u001b[39;49m\u001b[38;5;124;43m'\u001b[39;49m\u001b[38;5;124;43m1000 kilojoules/(mol*nanometers**2)\u001b[39;49m\u001b[38;5;124;43m'\u001b[39;49m\u001b[43m,\u001b[49m\n\u001b[1;32m      3\u001b[0m \u001b[43m                                                 \u001b[49m\u001b[43mbond_length\u001b[49m\u001b[38;5;241;43m=\u001b[39;49m\u001b[38;5;124;43m'\u001b[39;49m\u001b[38;5;124;43m1 nanometer\u001b[39;49m\u001b[38;5;124;43m'\u001b[39;49m\u001b[43m,\u001b[49m\n\u001b[1;32m      4\u001b[0m \u001b[43m                                                 \u001b[49m\u001b[43mpbc\u001b[49m\u001b[38;5;241;43m=\u001b[39;49m\u001b[38;5;28;43;01mTrue\u001b[39;49;00m\u001b[43m)\u001b[49m\n",
      "File \u001b[0;32m~/repos@uibcdf/MolSysMT/molsysmt/_private/digestion/digest.py:122\u001b[0m, in \u001b[0;36mdigest.<locals>.digestor.<locals>.wrapper\u001b[0;34m(*args, **kwargs)\u001b[0m\n\u001b[1;32m    120\u001b[0m     \u001b[38;5;28;01mreturn\u001b[39;00m func(all_args[\u001b[38;5;124m'\u001b[39m\u001b[38;5;124mself\u001b[39m\u001b[38;5;124m'\u001b[39m], \u001b[38;5;241m*\u001b[39m\u001b[38;5;241m*\u001b[39mfinal_args)\n\u001b[1;32m    121\u001b[0m \u001b[38;5;28;01melse\u001b[39;00m:\n\u001b[0;32m--> 122\u001b[0m     \u001b[38;5;28;01mreturn\u001b[39;00m \u001b[43mfunc\u001b[49m\u001b[43m(\u001b[49m\u001b[38;5;241;43m*\u001b[39;49m\u001b[38;5;241;43m*\u001b[39;49m\u001b[43mfinal_args\u001b[49m\u001b[43m)\u001b[49m\n",
      "File \u001b[0;32m~/repos@uibcdf/MolSysMT/molsysmt/thirds/openmm/forces/add_harmonic_bond_force.py:22\u001b[0m, in \u001b[0;36madd_harmonic_bond_force\u001b[0;34m(molecular_system, atom_pair, force_constant, bond_length, pbc, return_force, syntax, skip_digestion)\u001b[0m\n\u001b[1;32m     18\u001b[0m bond_length \u001b[38;5;241m=\u001b[39m puw\u001b[38;5;241m.\u001b[39mconvert(bond_length, to_form\u001b[38;5;241m=\u001b[39m\u001b[38;5;124m'\u001b[39m\u001b[38;5;124mopenmm.unit\u001b[39m\u001b[38;5;124m'\u001b[39m)\n\u001b[1;32m     20\u001b[0m force \u001b[38;5;241m=\u001b[39m HarmonicBondForce()\n\u001b[0;32m---> 22\u001b[0m n_pairs_in_distances_minima \u001b[38;5;241m=\u001b[39m \u001b[43mbond_length\u001b[49m\u001b[38;5;241;43m.\u001b[39;49m\u001b[43mshape\u001b[49m[\u001b[38;5;241m0\u001b[39m]\n\u001b[1;32m     24\u001b[0m \u001b[38;5;28;01mfor\u001b[39;00m ii, atoms_pair \u001b[38;5;129;01min\u001b[39;00m \u001b[38;5;28menumerate\u001b[39m(atoms_pairs):\n\u001b[1;32m     25\u001b[0m     force\u001b[38;5;241m.\u001b[39maddBond(\u001b[38;5;28mint\u001b[39m(atom_pair[\u001b[38;5;241m0\u001b[39m]), \u001b[38;5;28mint\u001b[39m(atom_pair[\u001b[38;5;241m1\u001b[39m]), bond_length[ii], force_constant[ii])\n",
      "File \u001b[0;32m~/Myopt/miniconda3/envs/MolSysMT@uibcdf_3.12/lib/python3.12/site-packages/openmm/unit/quantity.py:205\u001b[0m, in \u001b[0;36mQuantity.__getattr__\u001b[0;34m(self, attribute)\u001b[0m\n\u001b[1;32m    201\u001b[0m \u001b[38;5;28;01mdef\u001b[39;00m \u001b[38;5;21m__getattr__\u001b[39m(\u001b[38;5;28mself\u001b[39m, attribute):\n\u001b[1;32m    202\u001b[0m \u001b[38;5;250m    \u001b[39m\u001b[38;5;124;03m\"\"\"\u001b[39;00m\n\u001b[1;32m    203\u001b[0m \u001b[38;5;124;03m    Delegate unrecognized attribute calls to the underlying value type.\u001b[39;00m\n\u001b[1;32m    204\u001b[0m \u001b[38;5;124;03m    \"\"\"\u001b[39;00m\n\u001b[0;32m--> 205\u001b[0m     ret_val \u001b[38;5;241m=\u001b[39m \u001b[38;5;28;43mgetattr\u001b[39;49m\u001b[43m(\u001b[49m\u001b[38;5;28;43mself\u001b[39;49m\u001b[38;5;241;43m.\u001b[39;49m\u001b[43m_value\u001b[49m\u001b[43m,\u001b[49m\u001b[43m \u001b[49m\u001b[43mattribute\u001b[49m\u001b[43m)\u001b[49m\n\u001b[1;32m    206\u001b[0m     \u001b[38;5;28;01mreturn\u001b[39;00m ret_val\n",
      "\u001b[0;31mAttributeError\u001b[0m: 'int' object has no attribute 'shape'"
     ]
    }
   ],
   "source": [
    "msm.thirds.openmm.forces.add_harmonic_bond_force(simulation, atom_pair=[0,1],\n",
    "                                                 force_constant='1000 kilojoules/(mol*nanometers**2)',\n",
    "                                                 bond_length='1 nanometer',\n",
    "                                                 pbc=True)"
   ]
  },
  {
   "cell_type": "code",
   "execution_count": null,
   "id": "ac3fb780-483b-4466-a7bf-4789ab3a5127",
   "metadata": {},
   "outputs": [],
   "source": [
    "reporter_tqdm = msm.thirds.openmm.reporters.TQDMReporter(logging_steps, md_steps, temperature=False)\n",
    "simulation.reporters.append(reporter_tqdm)"
   ]
  },
  {
   "cell_type": "code",
   "execution_count": null,
   "id": "4ce9a2e5-9dce-4bc2-987f-537e6e8ac28a",
   "metadata": {},
   "outputs": [],
   "source": [
    "reporter_trajectory_dict = msm.thirds.openmm.reporters.TrajectoryDictReporter(saving_steps, time=True, coordinates=True)\n",
    "simulation.reporters.append(reporter_trajectory_dict)"
   ]
  },
  {
   "cell_type": "code",
   "execution_count": null,
   "id": "02f7ba93-b25e-4a9a-b197-9ef5c34a479c",
   "metadata": {},
   "outputs": [],
   "source": [
    "simulation.step(md_steps)"
   ]
  },
  {
   "cell_type": "code",
   "execution_count": null,
   "id": "1d98eba5-96a5-4f6d-bca6-30b0641d78e8",
   "metadata": {},
   "outputs": [],
   "source": [
    "trajectory_dict = reporter_trajectory_dict.finalize()"
   ]
  },
  {
   "cell_type": "code",
   "execution_count": null,
   "id": "6f0c68d0-3191-4266-b338-789328039407",
   "metadata": {},
   "outputs": [],
   "source": [
    "plt.plot(trajectory_dict['time'], trajectory_dict['coordinates'][:,0,0])\n",
    "plt.plot(trajectory_dict['time'], trajectory_dict['coordinates'][:,1,0])\n",
    "plt.axhline(y=0.5, color='red', linestyle='-')\n",
    "plt.show()"
   ]
  }
 ],
 "metadata": {
  "kernelspec": {
   "display_name": "Python 3 (ipykernel)",
   "language": "python",
   "name": "python3"
  },
  "language_info": {
   "codemirror_mode": {
    "name": "ipython",
    "version": 3
   },
   "file_extension": ".py",
   "mimetype": "text/x-python",
   "name": "python",
   "nbconvert_exporter": "python",
   "pygments_lexer": "ipython3",
   "version": "3.12.8"
  }
 },
 "nbformat": 4,
 "nbformat_minor": 5
}
