{
 "cells": [
  {
   "cell_type": "markdown",
   "id": "653bc9c8-3e1b-45ee-944d-85874a8b33b3",
   "metadata": {},
   "source": [
    "# Add constant force"
   ]
  },
  {
   "cell_type": "code",
   "execution_count": 1,
   "id": "64de0002-d07f-4bb1-8c28-b7c0f3e8762f",
   "metadata": {},
   "outputs": [
    {
     "data": {
      "application/vnd.jupyter.widget-view+json": {
       "model_id": "942a96616e00485f9c06a1ba6d6322f8",
       "version_major": 2,
       "version_minor": 0
      },
      "text/plain": []
     },
     "metadata": {},
     "output_type": "display_data"
    }
   ],
   "source": [
    "import molsysmt as msm"
   ]
  },
  {
   "cell_type": "code",
   "execution_count": 2,
   "id": "6e09021e-88d6-4ade-9ae5-dfa9ec540214",
   "metadata": {},
   "outputs": [],
   "source": [
    "import openmm as mm\n",
    "from openmm import unit\n",
    "from openmm import app\n",
    "from tqdm import tqdm\n",
    "import numpy as np\n",
    "from matplotlib import pyplot as plt"
   ]
  },
  {
   "cell_type": "code",
   "execution_count": 3,
   "id": "700dd8a9-7648-41e9-9808-ed561c245425",
   "metadata": {},
   "outputs": [],
   "source": [
    "molecular_system = msm.systems['Trp-Cage']['1l2y.h5msm']"
   ]
  },
  {
   "cell_type": "code",
   "execution_count": 4,
   "id": "0bc2e9dd-dac6-4489-a1d2-b7c690493c32",
   "metadata": {},
   "outputs": [],
   "source": [
    "topology = msm.convert(molecular_system, to_form='openmm.Topology')\n",
    "positions = msm.get(molecular_system, element='atom', structure_indices=0, coordinates=True)\n",
    "positions = msm.pyunitwizard.convert(positions[0], to_form='openmm.unit')"
   ]
  },
  {
   "cell_type": "code",
   "execution_count": 5,
   "id": "920b5cee-6b00-4b7e-a065-7077f123ef07",
   "metadata": {},
   "outputs": [],
   "source": [
    "forcefield = app.ForceField(\"amber14-all.xml\", \"amber14/tip3p.xml\")"
   ]
  },
  {
   "cell_type": "code",
   "execution_count": 6,
   "id": "d1a638b7-79f8-44b3-98bb-0b6488ce2ebf",
   "metadata": {},
   "outputs": [],
   "source": [
    "system = forcefield.createSystem(topology, nonbondedMethod=app.NoCutoff, constraints=app.HBonds)"
   ]
  },
  {
   "cell_type": "code",
   "execution_count": 7,
   "id": "2dd1d2d8-d85e-4396-8fa6-d3920bee98d1",
   "metadata": {},
   "outputs": [],
   "source": [
    "temperature = 300*unit.kelvin"
   ]
  },
  {
   "cell_type": "code",
   "execution_count": 8,
   "id": "6fd55714-cef6-4ab3-aeb0-f9555f21bc8a",
   "metadata": {},
   "outputs": [],
   "source": [
    "integration_timestep = 2.0*unit.femtoseconds\n",
    "saving_interval = 1.00*unit.picoseconds\n",
    "logging_interval = 100.00*unit.picoseconds\n",
    "simulation_time = 500.*unit.picoseconds\n",
    "\n",
    "saving_steps = int(saving_interval/integration_timestep)\n",
    "logging_steps = int(logging_interval/integration_timestep)\n",
    "md_steps = int(simulation_time/integration_timestep)"
   ]
  },
  {
   "cell_type": "code",
   "execution_count": 9,
   "id": "c3ca01e5-f1d4-4881-8b41-7f140dd441b7",
   "metadata": {},
   "outputs": [],
   "source": [
    "friction   = 5.0/unit.picoseconds\n",
    "integrator = mm.LangevinIntegrator(temperature, friction, integration_timestep)"
   ]
  },
  {
   "cell_type": "code",
   "execution_count": 10,
   "id": "43e38fd7-6f23-44e4-951d-9d9f8149cc0e",
   "metadata": {},
   "outputs": [],
   "source": [
    "platform = mm.Platform.getPlatformByName('OpenCL')"
   ]
  },
  {
   "cell_type": "code",
   "execution_count": 11,
   "id": "67262061-18b1-44d0-be45-e4d3b3d6c7f8",
   "metadata": {},
   "outputs": [],
   "source": [
    "simulation = app.Simulation(topology, system, integrator, platform)"
   ]
  },
  {
   "cell_type": "code",
   "execution_count": 12,
   "id": "5c69b0b6-93d0-4e93-901d-df21b34cf525",
   "metadata": {},
   "outputs": [],
   "source": [
    "simulation.context.setPositions(positions)"
   ]
  },
  {
   "cell_type": "code",
   "execution_count": 13,
   "id": "260b42b3-4383-4eed-bacc-05396be28320",
   "metadata": {},
   "outputs": [
    {
     "data": {
      "text/plain": [
       "20"
      ]
     },
     "execution_count": 13,
     "metadata": {},
     "output_type": "execute_result"
    }
   ],
   "source": [
    "msm.get(simulation, n_groups=True)"
   ]
  },
  {
   "cell_type": "code",
   "execution_count": 14,
   "id": "81562d53-36eb-40c6-8a52-d73713b5bf82",
   "metadata": {},
   "outputs": [
    {
     "data": {
      "text/html": [
       "<style type=\"text/css\">\n",
       "</style>\n",
       "<table id=\"T_a45e9\">\n",
       "  <thead>\n",
       "    <tr>\n",
       "      <th id=\"T_a45e9_level0_col0\" class=\"col_heading level0 col0\" >index</th>\n",
       "      <th id=\"T_a45e9_level0_col1\" class=\"col_heading level0 col1\" >id</th>\n",
       "      <th id=\"T_a45e9_level0_col2\" class=\"col_heading level0 col2\" >name</th>\n",
       "      <th id=\"T_a45e9_level0_col3\" class=\"col_heading level0 col3\" >type</th>\n",
       "      <th id=\"T_a45e9_level0_col4\" class=\"col_heading level0 col4\" >group index</th>\n",
       "      <th id=\"T_a45e9_level0_col5\" class=\"col_heading level0 col5\" >group id</th>\n",
       "      <th id=\"T_a45e9_level0_col6\" class=\"col_heading level0 col6\" >group name</th>\n",
       "      <th id=\"T_a45e9_level0_col7\" class=\"col_heading level0 col7\" >group type</th>\n",
       "      <th id=\"T_a45e9_level0_col8\" class=\"col_heading level0 col8\" >component index</th>\n",
       "      <th id=\"T_a45e9_level0_col9\" class=\"col_heading level0 col9\" >chain index</th>\n",
       "      <th id=\"T_a45e9_level0_col10\" class=\"col_heading level0 col10\" >molecule index</th>\n",
       "      <th id=\"T_a45e9_level0_col11\" class=\"col_heading level0 col11\" >molecule type</th>\n",
       "      <th id=\"T_a45e9_level0_col12\" class=\"col_heading level0 col12\" >entity index</th>\n",
       "      <th id=\"T_a45e9_level0_col13\" class=\"col_heading level0 col13\" >entity name</th>\n",
       "    </tr>\n",
       "  </thead>\n",
       "  <tbody>\n",
       "    <tr>\n",
       "      <td id=\"T_a45e9_row0_col0\" class=\"data row0 col0\" >1</td>\n",
       "      <td id=\"T_a45e9_row0_col1\" class=\"data row0 col1\" >2</td>\n",
       "      <td id=\"T_a45e9_row0_col2\" class=\"data row0 col2\" >CA</td>\n",
       "      <td id=\"T_a45e9_row0_col3\" class=\"data row0 col3\" >C</td>\n",
       "      <td id=\"T_a45e9_row0_col4\" class=\"data row0 col4\" >0</td>\n",
       "      <td id=\"T_a45e9_row0_col5\" class=\"data row0 col5\" >1</td>\n",
       "      <td id=\"T_a45e9_row0_col6\" class=\"data row0 col6\" >ASN</td>\n",
       "      <td id=\"T_a45e9_row0_col7\" class=\"data row0 col7\" >amino acid</td>\n",
       "      <td id=\"T_a45e9_row0_col8\" class=\"data row0 col8\" >0</td>\n",
       "      <td id=\"T_a45e9_row0_col9\" class=\"data row0 col9\" >0</td>\n",
       "      <td id=\"T_a45e9_row0_col10\" class=\"data row0 col10\" >0</td>\n",
       "      <td id=\"T_a45e9_row0_col11\" class=\"data row0 col11\" >peptide</td>\n",
       "      <td id=\"T_a45e9_row0_col12\" class=\"data row0 col12\" >0</td>\n",
       "      <td id=\"T_a45e9_row0_col13\" class=\"data row0 col13\" >None</td>\n",
       "    </tr>\n",
       "    <tr>\n",
       "      <td id=\"T_a45e9_row1_col0\" class=\"data row1 col0\" >2</td>\n",
       "      <td id=\"T_a45e9_row1_col1\" class=\"data row1 col1\" >3</td>\n",
       "      <td id=\"T_a45e9_row1_col2\" class=\"data row1 col2\" >C</td>\n",
       "      <td id=\"T_a45e9_row1_col3\" class=\"data row1 col3\" >C</td>\n",
       "      <td id=\"T_a45e9_row1_col4\" class=\"data row1 col4\" >0</td>\n",
       "      <td id=\"T_a45e9_row1_col5\" class=\"data row1 col5\" >1</td>\n",
       "      <td id=\"T_a45e9_row1_col6\" class=\"data row1 col6\" >ASN</td>\n",
       "      <td id=\"T_a45e9_row1_col7\" class=\"data row1 col7\" >amino acid</td>\n",
       "      <td id=\"T_a45e9_row1_col8\" class=\"data row1 col8\" >0</td>\n",
       "      <td id=\"T_a45e9_row1_col9\" class=\"data row1 col9\" >0</td>\n",
       "      <td id=\"T_a45e9_row1_col10\" class=\"data row1 col10\" >0</td>\n",
       "      <td id=\"T_a45e9_row1_col11\" class=\"data row1 col11\" >peptide</td>\n",
       "      <td id=\"T_a45e9_row1_col12\" class=\"data row1 col12\" >0</td>\n",
       "      <td id=\"T_a45e9_row1_col13\" class=\"data row1 col13\" >None</td>\n",
       "    </tr>\n",
       "    <tr>\n",
       "      <td id=\"T_a45e9_row2_col0\" class=\"data row2 col0\" >4</td>\n",
       "      <td id=\"T_a45e9_row2_col1\" class=\"data row2 col1\" >5</td>\n",
       "      <td id=\"T_a45e9_row2_col2\" class=\"data row2 col2\" >CB</td>\n",
       "      <td id=\"T_a45e9_row2_col3\" class=\"data row2 col3\" >C</td>\n",
       "      <td id=\"T_a45e9_row2_col4\" class=\"data row2 col4\" >0</td>\n",
       "      <td id=\"T_a45e9_row2_col5\" class=\"data row2 col5\" >1</td>\n",
       "      <td id=\"T_a45e9_row2_col6\" class=\"data row2 col6\" >ASN</td>\n",
       "      <td id=\"T_a45e9_row2_col7\" class=\"data row2 col7\" >amino acid</td>\n",
       "      <td id=\"T_a45e9_row2_col8\" class=\"data row2 col8\" >0</td>\n",
       "      <td id=\"T_a45e9_row2_col9\" class=\"data row2 col9\" >0</td>\n",
       "      <td id=\"T_a45e9_row2_col10\" class=\"data row2 col10\" >0</td>\n",
       "      <td id=\"T_a45e9_row2_col11\" class=\"data row2 col11\" >peptide</td>\n",
       "      <td id=\"T_a45e9_row2_col12\" class=\"data row2 col12\" >0</td>\n",
       "      <td id=\"T_a45e9_row2_col13\" class=\"data row2 col13\" >None</td>\n",
       "    </tr>\n",
       "    <tr>\n",
       "      <td id=\"T_a45e9_row3_col0\" class=\"data row3 col0\" >5</td>\n",
       "      <td id=\"T_a45e9_row3_col1\" class=\"data row3 col1\" >6</td>\n",
       "      <td id=\"T_a45e9_row3_col2\" class=\"data row3 col2\" >CG</td>\n",
       "      <td id=\"T_a45e9_row3_col3\" class=\"data row3 col3\" >C</td>\n",
       "      <td id=\"T_a45e9_row3_col4\" class=\"data row3 col4\" >0</td>\n",
       "      <td id=\"T_a45e9_row3_col5\" class=\"data row3 col5\" >1</td>\n",
       "      <td id=\"T_a45e9_row3_col6\" class=\"data row3 col6\" >ASN</td>\n",
       "      <td id=\"T_a45e9_row3_col7\" class=\"data row3 col7\" >amino acid</td>\n",
       "      <td id=\"T_a45e9_row3_col8\" class=\"data row3 col8\" >0</td>\n",
       "      <td id=\"T_a45e9_row3_col9\" class=\"data row3 col9\" >0</td>\n",
       "      <td id=\"T_a45e9_row3_col10\" class=\"data row3 col10\" >0</td>\n",
       "      <td id=\"T_a45e9_row3_col11\" class=\"data row3 col11\" >peptide</td>\n",
       "      <td id=\"T_a45e9_row3_col12\" class=\"data row3 col12\" >0</td>\n",
       "      <td id=\"T_a45e9_row3_col13\" class=\"data row3 col13\" >None</td>\n",
       "    </tr>\n",
       "  </tbody>\n",
       "</table>\n"
      ],
      "text/plain": [
       "<pandas.io.formats.style.Styler at 0x7ca207fce2a0>"
      ]
     },
     "execution_count": 14,
     "metadata": {},
     "output_type": "execute_result"
    }
   ],
   "source": [
    "msm.info(simulation, element='atom', selection='group_index==0 and atom_type==\"C\"')"
   ]
  },
  {
   "cell_type": "code",
   "execution_count": 15,
   "id": "5b82d0d4-fe49-43bf-800e-fcd0d653d8f0",
   "metadata": {},
   "outputs": [
    {
     "data": {
      "text/html": [
       "<style type=\"text/css\">\n",
       "</style>\n",
       "<table id=\"T_66933\">\n",
       "  <thead>\n",
       "    <tr>\n",
       "      <th id=\"T_66933_level0_col0\" class=\"col_heading level0 col0\" >index</th>\n",
       "      <th id=\"T_66933_level0_col1\" class=\"col_heading level0 col1\" >id</th>\n",
       "      <th id=\"T_66933_level0_col2\" class=\"col_heading level0 col2\" >name</th>\n",
       "      <th id=\"T_66933_level0_col3\" class=\"col_heading level0 col3\" >type</th>\n",
       "      <th id=\"T_66933_level0_col4\" class=\"col_heading level0 col4\" >group index</th>\n",
       "      <th id=\"T_66933_level0_col5\" class=\"col_heading level0 col5\" >group id</th>\n",
       "      <th id=\"T_66933_level0_col6\" class=\"col_heading level0 col6\" >group name</th>\n",
       "      <th id=\"T_66933_level0_col7\" class=\"col_heading level0 col7\" >group type</th>\n",
       "      <th id=\"T_66933_level0_col8\" class=\"col_heading level0 col8\" >component index</th>\n",
       "      <th id=\"T_66933_level0_col9\" class=\"col_heading level0 col9\" >chain index</th>\n",
       "      <th id=\"T_66933_level0_col10\" class=\"col_heading level0 col10\" >molecule index</th>\n",
       "      <th id=\"T_66933_level0_col11\" class=\"col_heading level0 col11\" >molecule type</th>\n",
       "      <th id=\"T_66933_level0_col12\" class=\"col_heading level0 col12\" >entity index</th>\n",
       "      <th id=\"T_66933_level0_col13\" class=\"col_heading level0 col13\" >entity name</th>\n",
       "    </tr>\n",
       "  </thead>\n",
       "  <tbody>\n",
       "    <tr>\n",
       "      <td id=\"T_66933_row0_col0\" class=\"data row0 col0\" >293</td>\n",
       "      <td id=\"T_66933_row0_col1\" class=\"data row0 col1\" >294</td>\n",
       "      <td id=\"T_66933_row0_col2\" class=\"data row0 col2\" >CA</td>\n",
       "      <td id=\"T_66933_row0_col3\" class=\"data row0 col3\" >C</td>\n",
       "      <td id=\"T_66933_row0_col4\" class=\"data row0 col4\" >19</td>\n",
       "      <td id=\"T_66933_row0_col5\" class=\"data row0 col5\" >20</td>\n",
       "      <td id=\"T_66933_row0_col6\" class=\"data row0 col6\" >SER</td>\n",
       "      <td id=\"T_66933_row0_col7\" class=\"data row0 col7\" >amino acid</td>\n",
       "      <td id=\"T_66933_row0_col8\" class=\"data row0 col8\" >0</td>\n",
       "      <td id=\"T_66933_row0_col9\" class=\"data row0 col9\" >0</td>\n",
       "      <td id=\"T_66933_row0_col10\" class=\"data row0 col10\" >0</td>\n",
       "      <td id=\"T_66933_row0_col11\" class=\"data row0 col11\" >peptide</td>\n",
       "      <td id=\"T_66933_row0_col12\" class=\"data row0 col12\" >0</td>\n",
       "      <td id=\"T_66933_row0_col13\" class=\"data row0 col13\" >None</td>\n",
       "    </tr>\n",
       "    <tr>\n",
       "      <td id=\"T_66933_row1_col0\" class=\"data row1 col0\" >294</td>\n",
       "      <td id=\"T_66933_row1_col1\" class=\"data row1 col1\" >295</td>\n",
       "      <td id=\"T_66933_row1_col2\" class=\"data row1 col2\" >C</td>\n",
       "      <td id=\"T_66933_row1_col3\" class=\"data row1 col3\" >C</td>\n",
       "      <td id=\"T_66933_row1_col4\" class=\"data row1 col4\" >19</td>\n",
       "      <td id=\"T_66933_row1_col5\" class=\"data row1 col5\" >20</td>\n",
       "      <td id=\"T_66933_row1_col6\" class=\"data row1 col6\" >SER</td>\n",
       "      <td id=\"T_66933_row1_col7\" class=\"data row1 col7\" >amino acid</td>\n",
       "      <td id=\"T_66933_row1_col8\" class=\"data row1 col8\" >0</td>\n",
       "      <td id=\"T_66933_row1_col9\" class=\"data row1 col9\" >0</td>\n",
       "      <td id=\"T_66933_row1_col10\" class=\"data row1 col10\" >0</td>\n",
       "      <td id=\"T_66933_row1_col11\" class=\"data row1 col11\" >peptide</td>\n",
       "      <td id=\"T_66933_row1_col12\" class=\"data row1 col12\" >0</td>\n",
       "      <td id=\"T_66933_row1_col13\" class=\"data row1 col13\" >None</td>\n",
       "    </tr>\n",
       "    <tr>\n",
       "      <td id=\"T_66933_row2_col0\" class=\"data row2 col0\" >296</td>\n",
       "      <td id=\"T_66933_row2_col1\" class=\"data row2 col1\" >297</td>\n",
       "      <td id=\"T_66933_row2_col2\" class=\"data row2 col2\" >CB</td>\n",
       "      <td id=\"T_66933_row2_col3\" class=\"data row2 col3\" >C</td>\n",
       "      <td id=\"T_66933_row2_col4\" class=\"data row2 col4\" >19</td>\n",
       "      <td id=\"T_66933_row2_col5\" class=\"data row2 col5\" >20</td>\n",
       "      <td id=\"T_66933_row2_col6\" class=\"data row2 col6\" >SER</td>\n",
       "      <td id=\"T_66933_row2_col7\" class=\"data row2 col7\" >amino acid</td>\n",
       "      <td id=\"T_66933_row2_col8\" class=\"data row2 col8\" >0</td>\n",
       "      <td id=\"T_66933_row2_col9\" class=\"data row2 col9\" >0</td>\n",
       "      <td id=\"T_66933_row2_col10\" class=\"data row2 col10\" >0</td>\n",
       "      <td id=\"T_66933_row2_col11\" class=\"data row2 col11\" >peptide</td>\n",
       "      <td id=\"T_66933_row2_col12\" class=\"data row2 col12\" >0</td>\n",
       "      <td id=\"T_66933_row2_col13\" class=\"data row2 col13\" >None</td>\n",
       "    </tr>\n",
       "  </tbody>\n",
       "</table>\n"
      ],
      "text/plain": [
       "<pandas.io.formats.style.Styler at 0x7ca20642ce90>"
      ]
     },
     "execution_count": 15,
     "metadata": {},
     "output_type": "execute_result"
    }
   ],
   "source": [
    "msm.info(simulation, element='atom', selection='group_index==19 and atom_type==\"C\"')"
   ]
  },
  {
   "cell_type": "code",
   "execution_count": 16,
   "id": "83cc4907-bac3-492f-892d-82d74ec5991e",
   "metadata": {},
   "outputs": [
    {
     "data": {
      "text/plain": [
       "5"
      ]
     },
     "execution_count": 16,
     "metadata": {},
     "output_type": "execute_result"
    }
   ],
   "source": [
    "msm.thirds.openmm.forces.pin_atoms(simulation, selection='group_index==0 and atom_name==\"CA\"')"
   ]
  },
  {
   "cell_type": "code",
   "execution_count": 17,
   "id": "991d580d-2f65-444e-a907-c0b94fb9de9b",
   "metadata": {},
   "outputs": [
    {
     "data": {
      "text/plain": [
       "6"
      ]
     },
     "execution_count": 17,
     "metadata": {},
     "output_type": "execute_result"
    }
   ],
   "source": [
    "msm.thirds.openmm.forces.add_constant_force(simulation, selection='group_index==19 and atom_name==\"CA\"',\n",
    "                                            force = '[500,0,0] kilojoules/(mole*nanometer)')"
   ]
  },
  {
   "cell_type": "code",
   "execution_count": 18,
   "id": "ac3fb780-483b-4466-a7bf-4789ab3a5127",
   "metadata": {},
   "outputs": [],
   "source": [
    "reporter_tqdm = msm.thirds.openmm.reporters.TQDMReporter(logging_steps, md_steps, temperature=False)\n",
    "simulation.reporters.append(reporter_tqdm)"
   ]
  },
  {
   "cell_type": "code",
   "execution_count": 19,
   "id": "4ce9a2e5-9dce-4bc2-987f-537e6e8ac28a",
   "metadata": {},
   "outputs": [],
   "source": [
    "reporter_trajectory_dict = msm.thirds.openmm.reporters.TrajectoryDictReporter(saving_steps, time=True, coordinates=True)\n",
    "simulation.reporters.append(reporter_trajectory_dict)"
   ]
  },
  {
   "cell_type": "code",
   "execution_count": 20,
   "id": "02f7ba93-b25e-4a9a-b197-9ef5c34a479c",
   "metadata": {},
   "outputs": [
    {
     "data": {
      "application/vnd.jupyter.widget-view+json": {
       "model_id": "d0097d576eb349cfb8359f01722b5277",
       "version_major": 2,
       "version_minor": 0
      },
      "text/plain": [
       "  0%|          | 0/250000 [00:00<?, ?it/s]"
      ]
     },
     "metadata": {},
     "output_type": "display_data"
    },
    {
     "name": "stdout",
     "output_type": "stream",
     "text": [
      "\n",
      "Potential energy: -2009.93 kJ/mol ± 362.21 kJ/mol\n",
      "\n",
      "Execution time: 0 days, 0 hours, 0 minutes, and 23.97 seconds (1802.053 ns/day).\n",
      "\n"
     ]
    }
   ],
   "source": [
    "simulation.step(md_steps)"
   ]
  },
  {
   "cell_type": "code",
   "execution_count": 21,
   "id": "1d98eba5-96a5-4f6d-bca6-30b0641d78e8",
   "metadata": {},
   "outputs": [],
   "source": [
    "trajectory_dict = reporter_trajectory_dict.finalize()"
   ]
  },
  {
   "cell_type": "code",
   "execution_count": 22,
   "id": "2a907a94-2472-4cd6-965f-c6011d8cb808",
   "metadata": {},
   "outputs": [],
   "source": [
    "index_CA1, index_CA20 = msm.get(topology, element='atom', selection='group_index in [0,19] and atom_name==\"CA\"', atom_index=True)"
   ]
  },
  {
   "cell_type": "code",
   "execution_count": 23,
   "id": "79d4e627-614e-442c-8979-1585976c0d47",
   "metadata": {},
   "outputs": [
    {
     "data": {
      "image/png": "[encoded data removed]",
      "text/plain": [
       "<Figure size 640x480 with 1 Axes>"
      ]
     },
     "metadata": {},
     "output_type": "display_data"
    }
   ],
   "source": [
    "plt.plot(trajectory_dict['time'], trajectory_dict['coordinates'][:,index_CA1,0])\n",
    "plt.plot(trajectory_dict['time'], trajectory_dict['coordinates'][:,index_CA20,0])\n",
    "plt.show()"
   ]
  },
  {
   "cell_type": "code",
   "execution_count": 24,
   "id": "6484b6a7-0fa9-4131-b974-8dd858714dd3",
   "metadata": {},
   "outputs": [
    {
     "data": {
      "application/vnd.jupyter.widget-view+json": {
       "model_id": "49d1b219e6c743e399b8ecf79e65d08a",
       "version_major": 2,
       "version_minor": 0
      },
      "text/plain": [
       "NGLWidget(max_frame=500)"
      ]
     },
     "metadata": {},
     "output_type": "display_data"
    }
   ],
   "source": [
    "msm.view([topology, trajectory_dict])"
   ]
  },
  {
   "cell_type": "code",
   "execution_count": null,
   "id": "29c7d3f4-f9a6-469d-aa11-825d41d3c21f",
   "metadata": {},
   "outputs": [],
   "source": []
  }
 ],
 "metadata": {
  "kernelspec": {
   "display_name": "Python 3 (ipykernel)",
   "language": "python",
   "name": "python3"
  },
  "language_info": {
   "codemirror_mode": {
    "name": "ipython",
    "version": 3
   },
   "file_extension": ".py",
   "mimetype": "text/x-python",
   "name": "python",
   "nbconvert_exporter": "python",
   "pygments_lexer": "ipython3",
   "version": "3.12.8"
  }
 },
 "nbformat": 4,
 "nbformat_minor": 5
}
