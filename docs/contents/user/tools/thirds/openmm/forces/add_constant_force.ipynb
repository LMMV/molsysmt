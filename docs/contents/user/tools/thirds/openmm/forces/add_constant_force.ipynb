{
 "cells": [
  {
   "cell_type": "markdown",
   "id": "653bc9c8-3e1b-45ee-944d-85874a8b33b3",
   "metadata": {},
   "source": [
    "# Add constant force"
   ]
  },
  {
   "cell_type": "code",
   "execution_count": 1,
   "id": "64de0002-d07f-4bb1-8c28-b7c0f3e8762f",
   "metadata": {},
   "outputs": [
    {
     "data": {
      "application/vnd.jupyter.widget-view+json": {
       "model_id": "0d478fe68ac444adbba93e3e48b16909",
       "version_major": 2,
       "version_minor": 0
      },
      "text/plain": []
     },
     "metadata": {},
     "output_type": "display_data"
    }
   ],
   "source": [
    "import molsysmt as msm"
   ]
  },
  {
   "cell_type": "code",
   "execution_count": 2,
   "id": "6e09021e-88d6-4ade-9ae5-dfa9ec540214",
   "metadata": {},
   "outputs": [],
   "source": [
    "import openmm as mm\n",
    "from openmm import unit\n",
    "from openmm import app\n",
    "from tqdm import tqdm\n",
    "import numpy as np\n",
    "from matplotlib import pyplot as plt"
   ]
  },
  {
   "cell_type": "code",
   "execution_count": 3,
   "id": "700dd8a9-7648-41e9-9808-ed561c245425",
   "metadata": {},
   "outputs": [],
   "source": [
    "molecular_system = msm.systems['Trp-Cage']['1l2y.h5msm']"
   ]
  },
  {
   "cell_type": "code",
   "execution_count": 4,
   "id": "0bc2e9dd-dac6-4489-a1d2-b7c690493c32",
   "metadata": {},
   "outputs": [],
   "source": [
    "topology = msm.convert(molecular_system, to_form='openmm.Topology')\n",
    "positions = msm.get(molecular_system, element='atom', structure_indices=0, coordinates=True)\n",
    "positions = msm.pyunitwizard.convert(positions[0], to_form='openmm.unit')"
   ]
  },
  {
   "cell_type": "code",
   "execution_count": 5,
   "id": "920b5cee-6b00-4b7e-a065-7077f123ef07",
   "metadata": {},
   "outputs": [],
   "source": [
    "forcefield = app.ForceField(\"amber14-all.xml\", \"amber14/tip3p.xml\")"
   ]
  },
  {
   "cell_type": "code",
   "execution_count": 6,
   "id": "d1a638b7-79f8-44b3-98bb-0b6488ce2ebf",
   "metadata": {},
   "outputs": [],
   "source": [
    "system = forcefield.createSystem(topology, nonbondedMethod=app.NoCutoff, constraints=app.HBonds)"
   ]
  },
  {
   "cell_type": "code",
   "execution_count": 7,
   "id": "2dd1d2d8-d85e-4396-8fa6-d3920bee98d1",
   "metadata": {},
   "outputs": [],
   "source": [
    "temperature = 300*unit.kelvin"
   ]
  },
  {
   "cell_type": "code",
   "execution_count": 8,
   "id": "6fd55714-cef6-4ab3-aeb0-f9555f21bc8a",
   "metadata": {},
   "outputs": [],
   "source": [
    "integration_timestep = 2.0*unit.femtoseconds\n",
    "saving_interval = 1.00*unit.picoseconds\n",
    "logging_interval = 100.00*unit.picoseconds\n",
    "simulation_time = 1000.*unit.picoseconds\n",
    "\n",
    "saving_steps = int(saving_interval/integration_timestep)\n",
    "logging_steps = int(logging_interval/integration_timestep)\n",
    "md_steps = int(simulation_time/integration_timestep)"
   ]
  },
  {
   "cell_type": "code",
   "execution_count": 9,
   "id": "c3ca01e5-f1d4-4881-8b41-7f140dd441b7",
   "metadata": {},
   "outputs": [],
   "source": [
    "friction   = 5.0/unit.picoseconds\n",
    "integrator = mm.LangevinIntegrator(temperature, friction, integration_timestep)"
   ]
  },
  {
   "cell_type": "code",
   "execution_count": 10,
   "id": "43e38fd7-6f23-44e4-951d-9d9f8149cc0e",
   "metadata": {},
   "outputs": [],
   "source": [
    "platform = mm.Platform.getPlatformByName('OpenCL')"
   ]
  },
  {
   "cell_type": "code",
   "execution_count": 11,
   "id": "67262061-18b1-44d0-be45-e4d3b3d6c7f8",
   "metadata": {},
   "outputs": [],
   "source": [
    "simulation = app.Simulation(topology, system, integrator, platform)"
   ]
  },
  {
   "cell_type": "code",
   "execution_count": 12,
   "id": "5c69b0b6-93d0-4e93-901d-df21b34cf525",
   "metadata": {},
   "outputs": [],
   "source": [
    "simulation.context.setPositions(positions)"
   ]
  },
  {
   "cell_type": "code",
   "execution_count": 13,
   "id": "260b42b3-4383-4eed-bacc-05396be28320",
   "metadata": {},
   "outputs": [
    {
     "data": {
      "text/plain": [
       "20"
      ]
     },
     "execution_count": 13,
     "metadata": {},
     "output_type": "execute_result"
    }
   ],
   "source": [
    "msm.get(simulation, n_groups=True)"
   ]
  },
  {
   "cell_type": "code",
   "execution_count": 14,
   "id": "81562d53-36eb-40c6-8a52-d73713b5bf82",
   "metadata": {},
   "outputs": [
    {
     "data": {
      "text/html": [
       "<style type=\"text/css\">\n",
       "</style>\n",
       "<table id=\"T_224bf\">\n",
       "  <thead>\n",
       "    <tr>\n",
       "      <th id=\"T_224bf_level0_col0\" class=\"col_heading level0 col0\" >index</th>\n",
       "      <th id=\"T_224bf_level0_col1\" class=\"col_heading level0 col1\" >id</th>\n",
       "      <th id=\"T_224bf_level0_col2\" class=\"col_heading level0 col2\" >name</th>\n",
       "      <th id=\"T_224bf_level0_col3\" class=\"col_heading level0 col3\" >type</th>\n",
       "      <th id=\"T_224bf_level0_col4\" class=\"col_heading level0 col4\" >group index</th>\n",
       "      <th id=\"T_224bf_level0_col5\" class=\"col_heading level0 col5\" >group id</th>\n",
       "      <th id=\"T_224bf_level0_col6\" class=\"col_heading level0 col6\" >group name</th>\n",
       "      <th id=\"T_224bf_level0_col7\" class=\"col_heading level0 col7\" >group type</th>\n",
       "      <th id=\"T_224bf_level0_col8\" class=\"col_heading level0 col8\" >component index</th>\n",
       "      <th id=\"T_224bf_level0_col9\" class=\"col_heading level0 col9\" >chain index</th>\n",
       "      <th id=\"T_224bf_level0_col10\" class=\"col_heading level0 col10\" >molecule index</th>\n",
       "      <th id=\"T_224bf_level0_col11\" class=\"col_heading level0 col11\" >molecule type</th>\n",
       "      <th id=\"T_224bf_level0_col12\" class=\"col_heading level0 col12\" >entity index</th>\n",
       "      <th id=\"T_224bf_level0_col13\" class=\"col_heading level0 col13\" >entity name</th>\n",
       "    </tr>\n",
       "  </thead>\n",
       "  <tbody>\n",
       "    <tr>\n",
       "      <td id=\"T_224bf_row0_col0\" class=\"data row0 col0\" >1</td>\n",
       "      <td id=\"T_224bf_row0_col1\" class=\"data row0 col1\" >2</td>\n",
       "      <td id=\"T_224bf_row0_col2\" class=\"data row0 col2\" >CA</td>\n",
       "      <td id=\"T_224bf_row0_col3\" class=\"data row0 col3\" >C</td>\n",
       "      <td id=\"T_224bf_row0_col4\" class=\"data row0 col4\" >0</td>\n",
       "      <td id=\"T_224bf_row0_col5\" class=\"data row0 col5\" >1</td>\n",
       "      <td id=\"T_224bf_row0_col6\" class=\"data row0 col6\" >ASN</td>\n",
       "      <td id=\"T_224bf_row0_col7\" class=\"data row0 col7\" >amino acid</td>\n",
       "      <td id=\"T_224bf_row0_col8\" class=\"data row0 col8\" >0</td>\n",
       "      <td id=\"T_224bf_row0_col9\" class=\"data row0 col9\" >0</td>\n",
       "      <td id=\"T_224bf_row0_col10\" class=\"data row0 col10\" >0</td>\n",
       "      <td id=\"T_224bf_row0_col11\" class=\"data row0 col11\" >peptide</td>\n",
       "      <td id=\"T_224bf_row0_col12\" class=\"data row0 col12\" >0</td>\n",
       "      <td id=\"T_224bf_row0_col13\" class=\"data row0 col13\" >None</td>\n",
       "    </tr>\n",
       "    <tr>\n",
       "      <td id=\"T_224bf_row1_col0\" class=\"data row1 col0\" >2</td>\n",
       "      <td id=\"T_224bf_row1_col1\" class=\"data row1 col1\" >3</td>\n",
       "      <td id=\"T_224bf_row1_col2\" class=\"data row1 col2\" >C</td>\n",
       "      <td id=\"T_224bf_row1_col3\" class=\"data row1 col3\" >C</td>\n",
       "      <td id=\"T_224bf_row1_col4\" class=\"data row1 col4\" >0</td>\n",
       "      <td id=\"T_224bf_row1_col5\" class=\"data row1 col5\" >1</td>\n",
       "      <td id=\"T_224bf_row1_col6\" class=\"data row1 col6\" >ASN</td>\n",
       "      <td id=\"T_224bf_row1_col7\" class=\"data row1 col7\" >amino acid</td>\n",
       "      <td id=\"T_224bf_row1_col8\" class=\"data row1 col8\" >0</td>\n",
       "      <td id=\"T_224bf_row1_col9\" class=\"data row1 col9\" >0</td>\n",
       "      <td id=\"T_224bf_row1_col10\" class=\"data row1 col10\" >0</td>\n",
       "      <td id=\"T_224bf_row1_col11\" class=\"data row1 col11\" >peptide</td>\n",
       "      <td id=\"T_224bf_row1_col12\" class=\"data row1 col12\" >0</td>\n",
       "      <td id=\"T_224bf_row1_col13\" class=\"data row1 col13\" >None</td>\n",
       "    </tr>\n",
       "    <tr>\n",
       "      <td id=\"T_224bf_row2_col0\" class=\"data row2 col0\" >4</td>\n",
       "      <td id=\"T_224bf_row2_col1\" class=\"data row2 col1\" >5</td>\n",
       "      <td id=\"T_224bf_row2_col2\" class=\"data row2 col2\" >CB</td>\n",
       "      <td id=\"T_224bf_row2_col3\" class=\"data row2 col3\" >C</td>\n",
       "      <td id=\"T_224bf_row2_col4\" class=\"data row2 col4\" >0</td>\n",
       "      <td id=\"T_224bf_row2_col5\" class=\"data row2 col5\" >1</td>\n",
       "      <td id=\"T_224bf_row2_col6\" class=\"data row2 col6\" >ASN</td>\n",
       "      <td id=\"T_224bf_row2_col7\" class=\"data row2 col7\" >amino acid</td>\n",
       "      <td id=\"T_224bf_row2_col8\" class=\"data row2 col8\" >0</td>\n",
       "      <td id=\"T_224bf_row2_col9\" class=\"data row2 col9\" >0</td>\n",
       "      <td id=\"T_224bf_row2_col10\" class=\"data row2 col10\" >0</td>\n",
       "      <td id=\"T_224bf_row2_col11\" class=\"data row2 col11\" >peptide</td>\n",
       "      <td id=\"T_224bf_row2_col12\" class=\"data row2 col12\" >0</td>\n",
       "      <td id=\"T_224bf_row2_col13\" class=\"data row2 col13\" >None</td>\n",
       "    </tr>\n",
       "    <tr>\n",
       "      <td id=\"T_224bf_row3_col0\" class=\"data row3 col0\" >5</td>\n",
       "      <td id=\"T_224bf_row3_col1\" class=\"data row3 col1\" >6</td>\n",
       "      <td id=\"T_224bf_row3_col2\" class=\"data row3 col2\" >CG</td>\n",
       "      <td id=\"T_224bf_row3_col3\" class=\"data row3 col3\" >C</td>\n",
       "      <td id=\"T_224bf_row3_col4\" class=\"data row3 col4\" >0</td>\n",
       "      <td id=\"T_224bf_row3_col5\" class=\"data row3 col5\" >1</td>\n",
       "      <td id=\"T_224bf_row3_col6\" class=\"data row3 col6\" >ASN</td>\n",
       "      <td id=\"T_224bf_row3_col7\" class=\"data row3 col7\" >amino acid</td>\n",
       "      <td id=\"T_224bf_row3_col8\" class=\"data row3 col8\" >0</td>\n",
       "      <td id=\"T_224bf_row3_col9\" class=\"data row3 col9\" >0</td>\n",
       "      <td id=\"T_224bf_row3_col10\" class=\"data row3 col10\" >0</td>\n",
       "      <td id=\"T_224bf_row3_col11\" class=\"data row3 col11\" >peptide</td>\n",
       "      <td id=\"T_224bf_row3_col12\" class=\"data row3 col12\" >0</td>\n",
       "      <td id=\"T_224bf_row3_col13\" class=\"data row3 col13\" >None</td>\n",
       "    </tr>\n",
       "  </tbody>\n",
       "</table>\n"
      ],
      "text/plain": [
       "<pandas.io.formats.style.Styler at 0x7faef4c258b0>"
      ]
     },
     "execution_count": 14,
     "metadata": {},
     "output_type": "execute_result"
    }
   ],
   "source": [
    "msm.info(simulation, element='atom', selection='group_index==0 and atom_type==\"C\"')"
   ]
  },
  {
   "cell_type": "code",
   "execution_count": 15,
   "id": "5b82d0d4-fe49-43bf-800e-fcd0d653d8f0",
   "metadata": {},
   "outputs": [
    {
     "data": {
      "text/html": [
       "<style type=\"text/css\">\n",
       "</style>\n",
       "<table id=\"T_f46e2\">\n",
       "  <thead>\n",
       "    <tr>\n",
       "      <th id=\"T_f46e2_level0_col0\" class=\"col_heading level0 col0\" >index</th>\n",
       "      <th id=\"T_f46e2_level0_col1\" class=\"col_heading level0 col1\" >id</th>\n",
       "      <th id=\"T_f46e2_level0_col2\" class=\"col_heading level0 col2\" >name</th>\n",
       "      <th id=\"T_f46e2_level0_col3\" class=\"col_heading level0 col3\" >type</th>\n",
       "      <th id=\"T_f46e2_level0_col4\" class=\"col_heading level0 col4\" >group index</th>\n",
       "      <th id=\"T_f46e2_level0_col5\" class=\"col_heading level0 col5\" >group id</th>\n",
       "      <th id=\"T_f46e2_level0_col6\" class=\"col_heading level0 col6\" >group name</th>\n",
       "      <th id=\"T_f46e2_level0_col7\" class=\"col_heading level0 col7\" >group type</th>\n",
       "      <th id=\"T_f46e2_level0_col8\" class=\"col_heading level0 col8\" >component index</th>\n",
       "      <th id=\"T_f46e2_level0_col9\" class=\"col_heading level0 col9\" >chain index</th>\n",
       "      <th id=\"T_f46e2_level0_col10\" class=\"col_heading level0 col10\" >molecule index</th>\n",
       "      <th id=\"T_f46e2_level0_col11\" class=\"col_heading level0 col11\" >molecule type</th>\n",
       "      <th id=\"T_f46e2_level0_col12\" class=\"col_heading level0 col12\" >entity index</th>\n",
       "      <th id=\"T_f46e2_level0_col13\" class=\"col_heading level0 col13\" >entity name</th>\n",
       "    </tr>\n",
       "  </thead>\n",
       "  <tbody>\n",
       "    <tr>\n",
       "      <td id=\"T_f46e2_row0_col0\" class=\"data row0 col0\" >293</td>\n",
       "      <td id=\"T_f46e2_row0_col1\" class=\"data row0 col1\" >294</td>\n",
       "      <td id=\"T_f46e2_row0_col2\" class=\"data row0 col2\" >CA</td>\n",
       "      <td id=\"T_f46e2_row0_col3\" class=\"data row0 col3\" >C</td>\n",
       "      <td id=\"T_f46e2_row0_col4\" class=\"data row0 col4\" >19</td>\n",
       "      <td id=\"T_f46e2_row0_col5\" class=\"data row0 col5\" >20</td>\n",
       "      <td id=\"T_f46e2_row0_col6\" class=\"data row0 col6\" >SER</td>\n",
       "      <td id=\"T_f46e2_row0_col7\" class=\"data row0 col7\" >amino acid</td>\n",
       "      <td id=\"T_f46e2_row0_col8\" class=\"data row0 col8\" >0</td>\n",
       "      <td id=\"T_f46e2_row0_col9\" class=\"data row0 col9\" >0</td>\n",
       "      <td id=\"T_f46e2_row0_col10\" class=\"data row0 col10\" >0</td>\n",
       "      <td id=\"T_f46e2_row0_col11\" class=\"data row0 col11\" >peptide</td>\n",
       "      <td id=\"T_f46e2_row0_col12\" class=\"data row0 col12\" >0</td>\n",
       "      <td id=\"T_f46e2_row0_col13\" class=\"data row0 col13\" >None</td>\n",
       "    </tr>\n",
       "    <tr>\n",
       "      <td id=\"T_f46e2_row1_col0\" class=\"data row1 col0\" >294</td>\n",
       "      <td id=\"T_f46e2_row1_col1\" class=\"data row1 col1\" >295</td>\n",
       "      <td id=\"T_f46e2_row1_col2\" class=\"data row1 col2\" >C</td>\n",
       "      <td id=\"T_f46e2_row1_col3\" class=\"data row1 col3\" >C</td>\n",
       "      <td id=\"T_f46e2_row1_col4\" class=\"data row1 col4\" >19</td>\n",
       "      <td id=\"T_f46e2_row1_col5\" class=\"data row1 col5\" >20</td>\n",
       "      <td id=\"T_f46e2_row1_col6\" class=\"data row1 col6\" >SER</td>\n",
       "      <td id=\"T_f46e2_row1_col7\" class=\"data row1 col7\" >amino acid</td>\n",
       "      <td id=\"T_f46e2_row1_col8\" class=\"data row1 col8\" >0</td>\n",
       "      <td id=\"T_f46e2_row1_col9\" class=\"data row1 col9\" >0</td>\n",
       "      <td id=\"T_f46e2_row1_col10\" class=\"data row1 col10\" >0</td>\n",
       "      <td id=\"T_f46e2_row1_col11\" class=\"data row1 col11\" >peptide</td>\n",
       "      <td id=\"T_f46e2_row1_col12\" class=\"data row1 col12\" >0</td>\n",
       "      <td id=\"T_f46e2_row1_col13\" class=\"data row1 col13\" >None</td>\n",
       "    </tr>\n",
       "    <tr>\n",
       "      <td id=\"T_f46e2_row2_col0\" class=\"data row2 col0\" >296</td>\n",
       "      <td id=\"T_f46e2_row2_col1\" class=\"data row2 col1\" >297</td>\n",
       "      <td id=\"T_f46e2_row2_col2\" class=\"data row2 col2\" >CB</td>\n",
       "      <td id=\"T_f46e2_row2_col3\" class=\"data row2 col3\" >C</td>\n",
       "      <td id=\"T_f46e2_row2_col4\" class=\"data row2 col4\" >19</td>\n",
       "      <td id=\"T_f46e2_row2_col5\" class=\"data row2 col5\" >20</td>\n",
       "      <td id=\"T_f46e2_row2_col6\" class=\"data row2 col6\" >SER</td>\n",
       "      <td id=\"T_f46e2_row2_col7\" class=\"data row2 col7\" >amino acid</td>\n",
       "      <td id=\"T_f46e2_row2_col8\" class=\"data row2 col8\" >0</td>\n",
       "      <td id=\"T_f46e2_row2_col9\" class=\"data row2 col9\" >0</td>\n",
       "      <td id=\"T_f46e2_row2_col10\" class=\"data row2 col10\" >0</td>\n",
       "      <td id=\"T_f46e2_row2_col11\" class=\"data row2 col11\" >peptide</td>\n",
       "      <td id=\"T_f46e2_row2_col12\" class=\"data row2 col12\" >0</td>\n",
       "      <td id=\"T_f46e2_row2_col13\" class=\"data row2 col13\" >None</td>\n",
       "    </tr>\n",
       "  </tbody>\n",
       "</table>\n"
      ],
      "text/plain": [
       "<pandas.io.formats.style.Styler at 0x7faef2417ec0>"
      ]
     },
     "execution_count": 15,
     "metadata": {},
     "output_type": "execute_result"
    }
   ],
   "source": [
    "msm.info(simulation, element='atom', selection='group_index==19 and atom_type==\"C\"')"
   ]
  },
  {
   "cell_type": "code",
   "execution_count": 16,
   "id": "83cc4907-bac3-492f-892d-82d74ec5991e",
   "metadata": {},
   "outputs": [
    {
     "data": {
      "text/plain": [
       "5"
      ]
     },
     "execution_count": 16,
     "metadata": {},
     "output_type": "execute_result"
    }
   ],
   "source": [
    "msm.thirds.openmm.forces.pin_atoms(simulation, selection='group_index==0 and atom_name==\"CA\"')"
   ]
  },
  {
   "cell_type": "code",
   "execution_count": 17,
   "id": "991d580d-2f65-444e-a907-c0b94fb9de9b",
   "metadata": {},
   "outputs": [
    {
     "data": {
      "text/plain": [
       "6"
      ]
     },
     "execution_count": 17,
     "metadata": {},
     "output_type": "execute_result"
    }
   ],
   "source": [
    "msm.thirds.openmm.forces.add_constant_force(simulation, selection='group_index==19 and atom_name==\"CA\"',\n",
    "                                            force = '[500,0,0] kilojoules/(mole*nanometer)')"
   ]
  },
  {
   "cell_type": "code",
   "execution_count": 18,
   "id": "ac3fb780-483b-4466-a7bf-4789ab3a5127",
   "metadata": {},
   "outputs": [],
   "source": [
    "reporter_tqdm = msm.thirds.openmm.reporters.TQDMReporter(logging_steps, md_steps, temperature=False)\n",
    "simulation.reporters.append(reporter_tqdm)"
   ]
  },
  {
   "cell_type": "code",
   "execution_count": 19,
   "id": "4ce9a2e5-9dce-4bc2-987f-537e6e8ac28a",
   "metadata": {},
   "outputs": [],
   "source": [
    "reporter_trajectory_dict = msm.thirds.openmm.reporters.TrajectoryDictReporter(saving_steps, time=True, coordinates=True)\n",
    "simulation.reporters.append(reporter_trajectory_dict)"
   ]
  },
  {
   "cell_type": "code",
   "execution_count": 20,
   "id": "02f7ba93-b25e-4a9a-b197-9ef5c34a479c",
   "metadata": {},
   "outputs": [
    {
     "data": {
      "application/vnd.jupyter.widget-view+json": {
       "model_id": "5629bade730943c488bf38b1ad33e54e",
       "version_major": 2,
       "version_minor": 0
      },
      "text/plain": [
       "  0%|          | 0/500000 [00:00<?, ?it/s]"
      ]
     },
     "metadata": {},
     "output_type": "display_data"
    },
    {
     "name": "stdout",
     "output_type": "stream",
     "text": [
      "\n",
      "Potential energy: -2075.71 kJ/mol ± 323.37 kJ/mol\n",
      "\n",
      "Execution time: 0 days, 0 hours, 0 minutes, and 46.94 seconds (1840.782 ns/day).\n",
      "\n"
     ]
    }
   ],
   "source": [
    "simulation.step(md_steps)"
   ]
  },
  {
   "cell_type": "code",
   "execution_count": 21,
   "id": "1d98eba5-96a5-4f6d-bca6-30b0641d78e8",
   "metadata": {},
   "outputs": [],
   "source": [
    "trajectory_dict = reporter_trajectory_dict.finalize()"
   ]
  },
  {
   "cell_type": "code",
   "execution_count": 27,
   "id": "2a907a94-2472-4cd6-965f-c6011d8cb808",
   "metadata": {},
   "outputs": [],
   "source": [
    "index_CA1, index_CA20 = msm.get(topology, element='atom', selection='group_index in [0,19] and atom_name==\"CA\"', atom_index=True)"
   ]
  },
  {
   "cell_type": "code",
   "execution_count": 29,
   "id": "79d4e627-614e-442c-8979-1585976c0d47",
   "metadata": {},
   "outputs": [
    {
     "data": {
      "image/png": "[encoded data removed]",
      "text/plain": [
       "<Figure size 640x480 with 1 Axes>"
      ]
     },
     "metadata": {},
     "output_type": "display_data"
    }
   ],
   "source": [
    "plt.plot(trajectory_dict['time'], trajectory_dict['coordinates'][:,index_CA1,0])\n",
    "plt.plot(trajectory_dict['time'], trajectory_dict['coordinates'][:,index_CA20,0])\n",
    "plt.show()"
   ]
  },
  {
   "cell_type": "code",
   "execution_count": 24,
   "id": "604f7d08-ec0b-4dea-8623-127ffd2d2ca8",
   "metadata": {},
   "outputs": [
    {
     "data": {
      "text/html": [
       "<style type=\"text/css\">\n",
       "</style>\n",
       "<table id=\"T_aed01\">\n",
       "  <thead>\n",
       "    <tr>\n",
       "      <th id=\"T_aed01_level0_col0\" class=\"col_heading level0 col0\" >form</th>\n",
       "      <th id=\"T_aed01_level0_col1\" class=\"col_heading level0 col1\" >n_atoms</th>\n",
       "      <th id=\"T_aed01_level0_col2\" class=\"col_heading level0 col2\" >n_groups</th>\n",
       "      <th id=\"T_aed01_level0_col3\" class=\"col_heading level0 col3\" >n_components</th>\n",
       "      <th id=\"T_aed01_level0_col4\" class=\"col_heading level0 col4\" >n_chains</th>\n",
       "      <th id=\"T_aed01_level0_col5\" class=\"col_heading level0 col5\" >n_molecules</th>\n",
       "      <th id=\"T_aed01_level0_col6\" class=\"col_heading level0 col6\" >n_entities</th>\n",
       "      <th id=\"T_aed01_level0_col7\" class=\"col_heading level0 col7\" >n_peptides</th>\n",
       "      <th id=\"T_aed01_level0_col8\" class=\"col_heading level0 col8\" >n_structures</th>\n",
       "    </tr>\n",
       "  </thead>\n",
       "  <tbody>\n",
       "    <tr>\n",
       "      <td id=\"T_aed01_row0_col0\" class=\"data row0 col0\" >['openmm.Topology', 'molsysmt.StructuresDict']</td>\n",
       "      <td id=\"T_aed01_row0_col1\" class=\"data row0 col1\" >304</td>\n",
       "      <td id=\"T_aed01_row0_col2\" class=\"data row0 col2\" >20</td>\n",
       "      <td id=\"T_aed01_row0_col3\" class=\"data row0 col3\" >1</td>\n",
       "      <td id=\"T_aed01_row0_col4\" class=\"data row0 col4\" >1</td>\n",
       "      <td id=\"T_aed01_row0_col5\" class=\"data row0 col5\" >1</td>\n",
       "      <td id=\"T_aed01_row0_col6\" class=\"data row0 col6\" >1</td>\n",
       "      <td id=\"T_aed01_row0_col7\" class=\"data row0 col7\" >1</td>\n",
       "      <td id=\"T_aed01_row0_col8\" class=\"data row0 col8\" >1001</td>\n",
       "    </tr>\n",
       "  </tbody>\n",
       "</table>\n"
      ],
      "text/plain": [
       "<pandas.io.formats.style.Styler at 0x7faef248ddf0>"
      ]
     },
     "execution_count": 24,
     "metadata": {},
     "output_type": "execute_result"
    }
   ],
   "source": [
    "msm.info([topology,trajectory_dict])"
   ]
  },
  {
   "cell_type": "code",
   "execution_count": 30,
   "id": "6beb844c-925a-47af-b837-5aa458d18b7c",
   "metadata": {},
   "outputs": [
    {
     "ename": "ArgumentError",
     "evalue": "Error in molsysmt.form.molsysmt_StructuresDict.has_attribute.has_attribute due to the attribute argument with value occupancy.Check  for more information. If you still need help, open a new issue in https://github.com/uibcdf/MolSysMT/issues.",
     "output_type": "error",
     "traceback": [
      "\u001b[0;31m---------------------------------------------------------------------------\u001b[0m",
      "\u001b[0;31mArgumentError\u001b[0m                             Traceback (most recent call last)",
      "Cell \u001b[0;32mIn[30], line 1\u001b[0m\n\u001b[0;32m----> 1\u001b[0m molsys_end \u001b[38;5;241m=\u001b[39m \u001b[43mmsm\u001b[49m\u001b[38;5;241;43m.\u001b[39;49m\u001b[43mconvert\u001b[49m\u001b[43m(\u001b[49m\u001b[43m[\u001b[49m\u001b[43mtopology\u001b[49m\u001b[43m,\u001b[49m\u001b[43m \u001b[49m\u001b[43mtrajectory_dict\u001b[49m\u001b[43m]\u001b[49m\u001b[43m)\u001b[49m\n",
      "File \u001b[0;32m~/repos@uibcdf/MolSysMT/molsysmt/_private/digestion/digest.py:122\u001b[0m, in \u001b[0;36mdigest.<locals>.digestor.<locals>.wrapper\u001b[0;34m(*args, **kwargs)\u001b[0m\n\u001b[1;32m    120\u001b[0m     \u001b[38;5;28;01mreturn\u001b[39;00m func(all_args[\u001b[38;5;124m'\u001b[39m\u001b[38;5;124mself\u001b[39m\u001b[38;5;124m'\u001b[39m], \u001b[38;5;241m*\u001b[39m\u001b[38;5;241m*\u001b[39mfinal_args)\n\u001b[1;32m    121\u001b[0m \u001b[38;5;28;01melse\u001b[39;00m:\n\u001b[0;32m--> 122\u001b[0m     \u001b[38;5;28;01mreturn\u001b[39;00m \u001b[43mfunc\u001b[49m\u001b[43m(\u001b[49m\u001b[38;5;241;43m*\u001b[39;49m\u001b[38;5;241;43m*\u001b[39;49m\u001b[43mfinal_args\u001b[49m\u001b[43m)\u001b[49m\n",
      "File \u001b[0;32m~/repos@uibcdf/MolSysMT/molsysmt/basic/convert.py:544\u001b[0m, in \u001b[0;36mconvert\u001b[0;34m(molecular_system, to_form, selection, structure_indices, syntax, verbose, skip_digestion, **kwargs)\u001b[0m\n\u001b[1;32m    542\u001b[0m     \u001b[38;5;66;03m# general conversion\u001b[39;00m\n\u001b[1;32m    543\u001b[0m     \u001b[38;5;28;01mif\u001b[39;00m output \u001b[38;5;129;01mis\u001b[39;00m \u001b[38;5;28;01mNone\u001b[39;00m:\n\u001b[0;32m--> 544\u001b[0m         output \u001b[38;5;241m=\u001b[39m \u001b[43m_convert_multiple_to_one\u001b[49m\u001b[43m(\u001b[49m\u001b[43mmolecular_system\u001b[49m\u001b[43m,\u001b[49m\u001b[43m \u001b[49m\u001b[43mfrom_form\u001b[49m\u001b[43m,\u001b[49m\u001b[43m \u001b[49m\u001b[43mto_form\u001b[49m\u001b[38;5;241;43m=\u001b[39;49m\u001b[43mto_form\u001b[49m\u001b[43m,\u001b[49m\u001b[43m \u001b[49m\u001b[43mselection\u001b[49m\u001b[38;5;241;43m=\u001b[39;49m\u001b[43mselection\u001b[49m\u001b[43m,\u001b[49m\u001b[43m \u001b[49m\u001b[43mstructure_indices\u001b[49m\u001b[38;5;241;43m=\u001b[39;49m\u001b[43mstructure_indices\u001b[49m\u001b[43m,\u001b[49m\n\u001b[1;32m    545\u001b[0m \u001b[43m            \u001b[49m\u001b[43msyntax\u001b[49m\u001b[38;5;241;43m=\u001b[39;49m\u001b[43msyntax\u001b[49m\u001b[43m,\u001b[49m\u001b[43m \u001b[49m\u001b[43mverbose\u001b[49m\u001b[38;5;241;43m=\u001b[39;49m\u001b[43mverbose\u001b[49m\u001b[43m,\u001b[49m\u001b[43m \u001b[49m\u001b[43mskip_digestion\u001b[49m\u001b[38;5;241;43m=\u001b[39;49m\u001b[38;5;28;43;01mTrue\u001b[39;49;00m\u001b[43m,\u001b[49m\u001b[43m \u001b[49m\u001b[38;5;241;43m*\u001b[39;49m\u001b[38;5;241;43m*\u001b[39;49m\u001b[43mkwargs\u001b[49m\u001b[43m)\u001b[49m\n\u001b[1;32m    547\u001b[0m \u001b[38;5;66;03m# Returning the output\u001b[39;00m\n\u001b[1;32m    549\u001b[0m \u001b[38;5;28;01mif\u001b[39;00m output \u001b[38;5;129;01mis\u001b[39;00m \u001b[38;5;28;01mNone\u001b[39;00m:\n",
      "File \u001b[0;32m~/repos@uibcdf/MolSysMT/molsysmt/basic/convert.py:206\u001b[0m, in \u001b[0;36m_convert_multiple_to_one\u001b[0;34m(molecular_system, from_forms, to_form, selection, structure_indices, syntax, verbose, **kwargs)\u001b[0m\n\u001b[1;32m    204\u001b[0m \u001b[38;5;28;01mfor\u001b[39;00m ii,jj \u001b[38;5;129;01min\u001b[39;00m _dict_modules[from_form]\u001b[38;5;241m.\u001b[39mattributes\u001b[38;5;241m.\u001b[39mitems():\n\u001b[1;32m    205\u001b[0m     \u001b[38;5;28;01mif\u001b[39;00m jj:\n\u001b[0;32m--> 206\u001b[0m         \u001b[38;5;28;01mif\u001b[39;00m \u001b[43m_dict_modules\u001b[49m\u001b[43m[\u001b[49m\u001b[43mfrom_form\u001b[49m\u001b[43m]\u001b[49m\u001b[38;5;241;43m.\u001b[39;49m\u001b[43mhas_attribute\u001b[49m\u001b[43m(\u001b[49m\u001b[43mfrom_item\u001b[49m\u001b[43m,\u001b[49m\u001b[43m \u001b[49m\u001b[43mii\u001b[49m\u001b[43m)\u001b[49m:\n\u001b[1;32m    207\u001b[0m             aux_set\u001b[38;5;241m.\u001b[39madd(ii)\n\u001b[1;32m    208\u001b[0m from_attributes\u001b[38;5;241m.\u001b[39mappend(aux_set)\n",
      "File \u001b[0;32m~/repos@uibcdf/MolSysMT/molsysmt/_private/digestion/digest.py:109\u001b[0m, in \u001b[0;36mdigest.<locals>.digestor.<locals>.wrapper\u001b[0;34m(*args, **kwargs)\u001b[0m\n\u001b[1;32m    105\u001b[0m     \u001b[38;5;28;01mpass\u001b[39;00m\n\u001b[1;32m    108\u001b[0m \u001b[38;5;28;01mfor\u001b[39;00m arg_name \u001b[38;5;129;01min\u001b[39;00m all_args:\n\u001b[0;32m--> 109\u001b[0m     \u001b[43mgut\u001b[49m\u001b[43m(\u001b[49m\u001b[43marg_name\u001b[49m\u001b[43m)\u001b[49m\n\u001b[1;32m    112\u001b[0m \u001b[38;5;28;01mfor\u001b[39;00m arg_name \u001b[38;5;129;01min\u001b[39;00m not_digested_args:\n\u001b[1;32m    113\u001b[0m     \u001b[38;5;28;01mif\u001b[39;00m arg_name \u001b[38;5;129;01mnot\u001b[39;00m \u001b[38;5;129;01min\u001b[39;00m [\u001b[38;5;124m'\u001b[39m\u001b[38;5;124mself\u001b[39m\u001b[38;5;124m'\u001b[39m]:\n",
      "File \u001b[0;32m~/repos@uibcdf/MolSysMT/molsysmt/_private/digestion/digest.py:100\u001b[0m, in \u001b[0;36mdigest.<locals>.digestor.<locals>.wrapper.<locals>.gut\u001b[0;34m(arg_name)\u001b[0m\n\u001b[1;32m     98\u001b[0m         \u001b[38;5;28;01melse\u001b[39;00m:\n\u001b[1;32m     99\u001b[0m             parameters_dict[parameter] \u001b[38;5;241m=\u001b[39m \u001b[38;5;28;01mNone\u001b[39;00m\n\u001b[0;32m--> 100\u001b[0m     digested_args[arg_name] \u001b[38;5;241m=\u001b[39m \u001b[43mdigestion_functions\u001b[49m\u001b[43m[\u001b[49m\u001b[43marg_name\u001b[49m\u001b[43m]\u001b[49m\u001b[43m(\u001b[49m\u001b[43mall_args\u001b[49m\u001b[43m[\u001b[49m\u001b[43marg_name\u001b[49m\u001b[43m]\u001b[49m\u001b[43m,\u001b[49m\n\u001b[1;32m    101\u001b[0m \u001b[43m                                                  \u001b[49m\u001b[43mcaller\u001b[49m\u001b[38;5;241;43m=\u001b[39;49m\u001b[43mcaller\u001b[49m\u001b[43m,\u001b[49m\n\u001b[1;32m    102\u001b[0m \u001b[43m                                                  \u001b[49m\u001b[38;5;241;43m*\u001b[39;49m\u001b[38;5;241;43m*\u001b[39;49m\u001b[43mparameters_dict\u001b[49m\u001b[43m)\u001b[49m\n\u001b[1;32m    103\u001b[0m \u001b[38;5;28;01melse\u001b[39;00m:\n\u001b[1;32m    104\u001b[0m     not_digested_args[arg_name] \u001b[38;5;241m=\u001b[39m all_args[arg_name]\n",
      "File \u001b[0;32m~/repos@uibcdf/MolSysMT/molsysmt/_private/digestion/argument/attribute.py:13\u001b[0m, in \u001b[0;36mdigest_attribute\u001b[0;34m(attribute, caller)\u001b[0m\n\u001b[1;32m     10\u001b[0m     \u001b[38;5;28;01mif\u001b[39;00m attribute\u001b[38;5;241m.\u001b[39mlower() \u001b[38;5;129;01min\u001b[39;00m [\u001b[38;5;124m'\u001b[39m\u001b[38;5;124mstructural\u001b[39m\u001b[38;5;124m'\u001b[39m, \u001b[38;5;124m'\u001b[39m\u001b[38;5;124mtopological\u001b[39m\u001b[38;5;124m'\u001b[39m, \u001b[38;5;124m'\u001b[39m\u001b[38;5;124mmechanical\u001b[39m\u001b[38;5;124m'\u001b[39m]:\n\u001b[1;32m     11\u001b[0m         \u001b[38;5;28;01mreturn\u001b[39;00m attribute\u001b[38;5;241m.\u001b[39mlower()\n\u001b[0;32m---> 13\u001b[0m \u001b[38;5;28;01mraise\u001b[39;00m ArgumentError(\u001b[38;5;124m'\u001b[39m\u001b[38;5;124mattribute\u001b[39m\u001b[38;5;124m'\u001b[39m, value\u001b[38;5;241m=\u001b[39mattribute, caller\u001b[38;5;241m=\u001b[39mcaller, message\u001b[38;5;241m=\u001b[39m\u001b[38;5;28;01mNone\u001b[39;00m)\n",
      "\u001b[0;31mArgumentError\u001b[0m: Error in molsysmt.form.molsysmt_StructuresDict.has_attribute.has_attribute due to the attribute argument with value occupancy.Check  for more information. If you still need help, open a new issue in https://github.com/uibcdf/MolSysMT/issues."
     ]
    }
   ],
   "source": [
    "molsys_end = msm.convert([topology, trajectory_dict])"
   ]
  },
  {
   "cell_type": "code",
   "execution_count": 25,
   "id": "6484b6a7-0fa9-4131-b974-8dd858714dd3",
   "metadata": {},
   "outputs": [
    {
     "ename": "ArgumentError",
     "evalue": "Error in molsysmt.form.molsysmt_StructuresDict.has_attribute.has_attribute due to the attribute argument with value occupancy.Check  for more information. If you still need help, open a new issue in https://github.com/uibcdf/MolSysMT/issues.",
     "output_type": "error",
     "traceback": [
      "\u001b[0;31m---------------------------------------------------------------------------\u001b[0m",
      "\u001b[0;31mArgumentError\u001b[0m                             Traceback (most recent call last)",
      "Cell \u001b[0;32mIn[25], line 1\u001b[0m\n\u001b[0;32m----> 1\u001b[0m \u001b[43mmsm\u001b[49m\u001b[38;5;241;43m.\u001b[39;49m\u001b[43mview\u001b[49m\u001b[43m(\u001b[49m\u001b[43m[\u001b[49m\u001b[43mtopology\u001b[49m\u001b[43m,\u001b[49m\u001b[43m \u001b[49m\u001b[43mtrajectory_dict\u001b[49m\u001b[43m]\u001b[49m\u001b[43m)\u001b[49m\n",
      "File \u001b[0;32m~/repos@uibcdf/MolSysMT/molsysmt/_private/digestion/digest.py:122\u001b[0m, in \u001b[0;36mdigest.<locals>.digestor.<locals>.wrapper\u001b[0;34m(*args, **kwargs)\u001b[0m\n\u001b[1;32m    120\u001b[0m     \u001b[38;5;28;01mreturn\u001b[39;00m func(all_args[\u001b[38;5;124m'\u001b[39m\u001b[38;5;124mself\u001b[39m\u001b[38;5;124m'\u001b[39m], \u001b[38;5;241m*\u001b[39m\u001b[38;5;241m*\u001b[39mfinal_args)\n\u001b[1;32m    121\u001b[0m \u001b[38;5;28;01melse\u001b[39;00m:\n\u001b[0;32m--> 122\u001b[0m     \u001b[38;5;28;01mreturn\u001b[39;00m \u001b[43mfunc\u001b[49m\u001b[43m(\u001b[49m\u001b[38;5;241;43m*\u001b[39;49m\u001b[38;5;241;43m*\u001b[39;49m\u001b[43mfinal_args\u001b[49m\u001b[43m)\u001b[49m\n",
      "File \u001b[0;32m~/repos@uibcdf/MolSysMT/molsysmt/basic/view.py:125\u001b[0m, in \u001b[0;36mview\u001b[0;34m(molecular_system, selection, structure_indices, standard, with_water_as, with_ions_as, viewer, syntax, skip_digestion)\u001b[0m\n\u001b[1;32m    121\u001b[0m \u001b[38;5;28;01mfrom\u001b[39;00m \u001b[38;5;21;01mmolsysmt\u001b[39;00m\u001b[38;5;21;01m.\u001b[39;00m\u001b[38;5;21;01msupported\u001b[39;00m\u001b[38;5;21;01m.\u001b[39;00m\u001b[38;5;21;01mviewers\u001b[39;00m \u001b[38;5;28;01mimport\u001b[39;00m viewers_forms\n\u001b[1;32m    123\u001b[0m form_viewer \u001b[38;5;241m=\u001b[39m viewers_forms[viewer]\n\u001b[0;32m--> 125\u001b[0m tmp_item \u001b[38;5;241m=\u001b[39m \u001b[43mconvert\u001b[49m\u001b[43m(\u001b[49m\u001b[43mmolecular_system\u001b[49m\u001b[43m,\u001b[49m\u001b[43m \u001b[49m\u001b[43mto_form\u001b[49m\u001b[38;5;241;43m=\u001b[39;49m\u001b[43mform_viewer\u001b[49m\u001b[43m,\u001b[49m\u001b[43m \u001b[49m\u001b[43mselection\u001b[49m\u001b[38;5;241;43m=\u001b[39;49m\u001b[43mselection\u001b[49m\u001b[43m,\u001b[49m\n\u001b[1;32m    126\u001b[0m \u001b[43m                    \u001b[49m\u001b[43mstructure_indices\u001b[49m\u001b[38;5;241;43m=\u001b[39;49m\u001b[43mstructure_indices\u001b[49m\u001b[43m,\u001b[49m\u001b[43m \u001b[49m\u001b[43msyntax\u001b[49m\u001b[38;5;241;43m=\u001b[39;49m\u001b[43msyntax\u001b[49m\u001b[43m)\u001b[49m\n\u001b[1;32m    128\u001b[0m \u001b[38;5;28;01mif\u001b[39;00m standard:\n\u001b[1;32m    129\u001b[0m     \u001b[38;5;28;01mif\u001b[39;00m viewer\u001b[38;5;241m==\u001b[39m\u001b[38;5;124m'\u001b[39m\u001b[38;5;124mNGLView\u001b[39m\u001b[38;5;124m'\u001b[39m:\n",
      "File \u001b[0;32m~/repos@uibcdf/MolSysMT/molsysmt/_private/digestion/digest.py:122\u001b[0m, in \u001b[0;36mdigest.<locals>.digestor.<locals>.wrapper\u001b[0;34m(*args, **kwargs)\u001b[0m\n\u001b[1;32m    120\u001b[0m     \u001b[38;5;28;01mreturn\u001b[39;00m func(all_args[\u001b[38;5;124m'\u001b[39m\u001b[38;5;124mself\u001b[39m\u001b[38;5;124m'\u001b[39m], \u001b[38;5;241m*\u001b[39m\u001b[38;5;241m*\u001b[39mfinal_args)\n\u001b[1;32m    121\u001b[0m \u001b[38;5;28;01melse\u001b[39;00m:\n\u001b[0;32m--> 122\u001b[0m     \u001b[38;5;28;01mreturn\u001b[39;00m \u001b[43mfunc\u001b[49m\u001b[43m(\u001b[49m\u001b[38;5;241;43m*\u001b[39;49m\u001b[38;5;241;43m*\u001b[39;49m\u001b[43mfinal_args\u001b[49m\u001b[43m)\u001b[49m\n",
      "File \u001b[0;32m~/repos@uibcdf/MolSysMT/molsysmt/basic/convert.py:544\u001b[0m, in \u001b[0;36mconvert\u001b[0;34m(molecular_system, to_form, selection, structure_indices, syntax, verbose, skip_digestion, **kwargs)\u001b[0m\n\u001b[1;32m    542\u001b[0m     \u001b[38;5;66;03m# general conversion\u001b[39;00m\n\u001b[1;32m    543\u001b[0m     \u001b[38;5;28;01mif\u001b[39;00m output \u001b[38;5;129;01mis\u001b[39;00m \u001b[38;5;28;01mNone\u001b[39;00m:\n\u001b[0;32m--> 544\u001b[0m         output \u001b[38;5;241m=\u001b[39m \u001b[43m_convert_multiple_to_one\u001b[49m\u001b[43m(\u001b[49m\u001b[43mmolecular_system\u001b[49m\u001b[43m,\u001b[49m\u001b[43m \u001b[49m\u001b[43mfrom_form\u001b[49m\u001b[43m,\u001b[49m\u001b[43m \u001b[49m\u001b[43mto_form\u001b[49m\u001b[38;5;241;43m=\u001b[39;49m\u001b[43mto_form\u001b[49m\u001b[43m,\u001b[49m\u001b[43m \u001b[49m\u001b[43mselection\u001b[49m\u001b[38;5;241;43m=\u001b[39;49m\u001b[43mselection\u001b[49m\u001b[43m,\u001b[49m\u001b[43m \u001b[49m\u001b[43mstructure_indices\u001b[49m\u001b[38;5;241;43m=\u001b[39;49m\u001b[43mstructure_indices\u001b[49m\u001b[43m,\u001b[49m\n\u001b[1;32m    545\u001b[0m \u001b[43m            \u001b[49m\u001b[43msyntax\u001b[49m\u001b[38;5;241;43m=\u001b[39;49m\u001b[43msyntax\u001b[49m\u001b[43m,\u001b[49m\u001b[43m \u001b[49m\u001b[43mverbose\u001b[49m\u001b[38;5;241;43m=\u001b[39;49m\u001b[43mverbose\u001b[49m\u001b[43m,\u001b[49m\u001b[43m \u001b[49m\u001b[43mskip_digestion\u001b[49m\u001b[38;5;241;43m=\u001b[39;49m\u001b[38;5;28;43;01mTrue\u001b[39;49;00m\u001b[43m,\u001b[49m\u001b[43m \u001b[49m\u001b[38;5;241;43m*\u001b[39;49m\u001b[38;5;241;43m*\u001b[39;49m\u001b[43mkwargs\u001b[49m\u001b[43m)\u001b[49m\n\u001b[1;32m    547\u001b[0m \u001b[38;5;66;03m# Returning the output\u001b[39;00m\n\u001b[1;32m    549\u001b[0m \u001b[38;5;28;01mif\u001b[39;00m output \u001b[38;5;129;01mis\u001b[39;00m \u001b[38;5;28;01mNone\u001b[39;00m:\n",
      "File \u001b[0;32m~/repos@uibcdf/MolSysMT/molsysmt/basic/convert.py:206\u001b[0m, in \u001b[0;36m_convert_multiple_to_one\u001b[0;34m(molecular_system, from_forms, to_form, selection, structure_indices, syntax, verbose, **kwargs)\u001b[0m\n\u001b[1;32m    204\u001b[0m \u001b[38;5;28;01mfor\u001b[39;00m ii,jj \u001b[38;5;129;01min\u001b[39;00m _dict_modules[from_form]\u001b[38;5;241m.\u001b[39mattributes\u001b[38;5;241m.\u001b[39mitems():\n\u001b[1;32m    205\u001b[0m     \u001b[38;5;28;01mif\u001b[39;00m jj:\n\u001b[0;32m--> 206\u001b[0m         \u001b[38;5;28;01mif\u001b[39;00m \u001b[43m_dict_modules\u001b[49m\u001b[43m[\u001b[49m\u001b[43mfrom_form\u001b[49m\u001b[43m]\u001b[49m\u001b[38;5;241;43m.\u001b[39;49m\u001b[43mhas_attribute\u001b[49m\u001b[43m(\u001b[49m\u001b[43mfrom_item\u001b[49m\u001b[43m,\u001b[49m\u001b[43m \u001b[49m\u001b[43mii\u001b[49m\u001b[43m)\u001b[49m:\n\u001b[1;32m    207\u001b[0m             aux_set\u001b[38;5;241m.\u001b[39madd(ii)\n\u001b[1;32m    208\u001b[0m from_attributes\u001b[38;5;241m.\u001b[39mappend(aux_set)\n",
      "File \u001b[0;32m~/repos@uibcdf/MolSysMT/molsysmt/_private/digestion/digest.py:109\u001b[0m, in \u001b[0;36mdigest.<locals>.digestor.<locals>.wrapper\u001b[0;34m(*args, **kwargs)\u001b[0m\n\u001b[1;32m    105\u001b[0m     \u001b[38;5;28;01mpass\u001b[39;00m\n\u001b[1;32m    108\u001b[0m \u001b[38;5;28;01mfor\u001b[39;00m arg_name \u001b[38;5;129;01min\u001b[39;00m all_args:\n\u001b[0;32m--> 109\u001b[0m     \u001b[43mgut\u001b[49m\u001b[43m(\u001b[49m\u001b[43marg_name\u001b[49m\u001b[43m)\u001b[49m\n\u001b[1;32m    112\u001b[0m \u001b[38;5;28;01mfor\u001b[39;00m arg_name \u001b[38;5;129;01min\u001b[39;00m not_digested_args:\n\u001b[1;32m    113\u001b[0m     \u001b[38;5;28;01mif\u001b[39;00m arg_name \u001b[38;5;129;01mnot\u001b[39;00m \u001b[38;5;129;01min\u001b[39;00m [\u001b[38;5;124m'\u001b[39m\u001b[38;5;124mself\u001b[39m\u001b[38;5;124m'\u001b[39m]:\n",
      "File \u001b[0;32m~/repos@uibcdf/MolSysMT/molsysmt/_private/digestion/digest.py:100\u001b[0m, in \u001b[0;36mdigest.<locals>.digestor.<locals>.wrapper.<locals>.gut\u001b[0;34m(arg_name)\u001b[0m\n\u001b[1;32m     98\u001b[0m         \u001b[38;5;28;01melse\u001b[39;00m:\n\u001b[1;32m     99\u001b[0m             parameters_dict[parameter] \u001b[38;5;241m=\u001b[39m \u001b[38;5;28;01mNone\u001b[39;00m\n\u001b[0;32m--> 100\u001b[0m     digested_args[arg_name] \u001b[38;5;241m=\u001b[39m \u001b[43mdigestion_functions\u001b[49m\u001b[43m[\u001b[49m\u001b[43marg_name\u001b[49m\u001b[43m]\u001b[49m\u001b[43m(\u001b[49m\u001b[43mall_args\u001b[49m\u001b[43m[\u001b[49m\u001b[43marg_name\u001b[49m\u001b[43m]\u001b[49m\u001b[43m,\u001b[49m\n\u001b[1;32m    101\u001b[0m \u001b[43m                                                  \u001b[49m\u001b[43mcaller\u001b[49m\u001b[38;5;241;43m=\u001b[39;49m\u001b[43mcaller\u001b[49m\u001b[43m,\u001b[49m\n\u001b[1;32m    102\u001b[0m \u001b[43m                                                  \u001b[49m\u001b[38;5;241;43m*\u001b[39;49m\u001b[38;5;241;43m*\u001b[39;49m\u001b[43mparameters_dict\u001b[49m\u001b[43m)\u001b[49m\n\u001b[1;32m    103\u001b[0m \u001b[38;5;28;01melse\u001b[39;00m:\n\u001b[1;32m    104\u001b[0m     not_digested_args[arg_name] \u001b[38;5;241m=\u001b[39m all_args[arg_name]\n",
      "File \u001b[0;32m~/repos@uibcdf/MolSysMT/molsysmt/_private/digestion/argument/attribute.py:13\u001b[0m, in \u001b[0;36mdigest_attribute\u001b[0;34m(attribute, caller)\u001b[0m\n\u001b[1;32m     10\u001b[0m     \u001b[38;5;28;01mif\u001b[39;00m attribute\u001b[38;5;241m.\u001b[39mlower() \u001b[38;5;129;01min\u001b[39;00m [\u001b[38;5;124m'\u001b[39m\u001b[38;5;124mstructural\u001b[39m\u001b[38;5;124m'\u001b[39m, \u001b[38;5;124m'\u001b[39m\u001b[38;5;124mtopological\u001b[39m\u001b[38;5;124m'\u001b[39m, \u001b[38;5;124m'\u001b[39m\u001b[38;5;124mmechanical\u001b[39m\u001b[38;5;124m'\u001b[39m]:\n\u001b[1;32m     11\u001b[0m         \u001b[38;5;28;01mreturn\u001b[39;00m attribute\u001b[38;5;241m.\u001b[39mlower()\n\u001b[0;32m---> 13\u001b[0m \u001b[38;5;28;01mraise\u001b[39;00m ArgumentError(\u001b[38;5;124m'\u001b[39m\u001b[38;5;124mattribute\u001b[39m\u001b[38;5;124m'\u001b[39m, value\u001b[38;5;241m=\u001b[39mattribute, caller\u001b[38;5;241m=\u001b[39mcaller, message\u001b[38;5;241m=\u001b[39m\u001b[38;5;28;01mNone\u001b[39;00m)\n",
      "\u001b[0;31mArgumentError\u001b[0m: Error in molsysmt.form.molsysmt_StructuresDict.has_attribute.has_attribute due to the attribute argument with value occupancy.Check  for more information. If you still need help, open a new issue in https://github.com/uibcdf/MolSysMT/issues."
     ]
    }
   ],
   "source": [
    "msm.view([topology, trajectory_dict])"
   ]
  },
  {
   "cell_type": "code",
   "execution_count": null,
   "id": "29c7d3f4-f9a6-469d-aa11-825d41d3c21f",
   "metadata": {},
   "outputs": [],
   "source": []
  }
 ],
 "metadata": {
  "kernelspec": {
   "display_name": "Python 3 (ipykernel)",
   "language": "python",
   "name": "python3"
  },
  "language_info": {
   "codemirror_mode": {
    "name": "ipython",
    "version": 3
   },
   "file_extension": ".py",
   "mimetype": "text/x-python",
   "name": "python",
   "nbconvert_exporter": "python",
   "pygments_lexer": "ipython3",
   "version": "3.12.8"
  }
 },
 "nbformat": 4,
 "nbformat_minor": 5
}
