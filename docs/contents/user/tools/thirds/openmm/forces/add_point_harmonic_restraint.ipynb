{
 "cells": [
  {
   "cell_type": "markdown",
   "id": "653bc9c8-3e1b-45ee-944d-85874a8b33b3",
   "metadata": {},
   "source": [
    "# Add allowed z region"
   ]
  },
  {
   "cell_type": "code",
   "execution_count": 1,
   "id": "64de0002-d07f-4bb1-8c28-b7c0f3e8762f",
   "metadata": {},
   "outputs": [
    {
     "data": {
      "application/vnd.jupyter.widget-view+json": {
       "model_id": "8c4196ad4c164d2bb1675a5e474db6d1",
       "version_major": 2,
       "version_minor": 0
      },
      "text/plain": []
     },
     "metadata": {},
     "output_type": "display_data"
    }
   ],
   "source": [
    "import molsysmt as msm"
   ]
  },
  {
   "cell_type": "code",
   "execution_count": 2,
   "id": "6e09021e-88d6-4ade-9ae5-dfa9ec540214",
   "metadata": {},
   "outputs": [],
   "source": [
    "import openmm as mm\n",
    "from openmm import unit\n",
    "from openmm import app\n",
    "from tqdm import tqdm\n",
    "import numpy as np\n",
    "from matplotlib import pyplot as plt"
   ]
  },
  {
   "cell_type": "code",
   "execution_count": 3,
   "id": "ca497621-27bc-40fc-bdd3-521672abd160",
   "metadata": {},
   "outputs": [],
   "source": [
    "topology = app.Topology()\n",
    "chain = topology.addChain('A')\n",
    "residue = topology.addResidue('Ar', chain)\n",
    "atom = topology.addAtom(name='Ar', element= app.element.argon, residue=residue)\n",
    "chain = topology.addChain('B')\n",
    "residue = topology.addResidue('Ar', chain)\n",
    "atom = topology.addAtom(name='Ar', element= app.element.argon, residue=residue)"
   ]
  },
  {
   "cell_type": "code",
   "execution_count": 4,
   "id": "d1a638b7-79f8-44b3-98bb-0b6488ce2ebf",
   "metadata": {},
   "outputs": [
    {
     "data": {
      "text/plain": [
       "1"
      ]
     },
     "execution_count": 4,
     "metadata": {},
     "output_type": "execute_result"
    }
   ],
   "source": [
    "system = mm.System()\n",
    "system.addParticle(atom.element.mass)\n",
    "system.addParticle(atom.element.mass)"
   ]
  },
  {
   "cell_type": "code",
   "execution_count": 5,
   "id": "2dd1d2d8-d85e-4396-8fa6-d3920bee98d1",
   "metadata": {},
   "outputs": [],
   "source": [
    "temperature = 300*unit.kelvin"
   ]
  },
  {
   "cell_type": "code",
   "execution_count": 6,
   "id": "ae200579-9af9-40de-aba3-7dce8fa33e54",
   "metadata": {},
   "outputs": [],
   "source": [
    "integration_timestep = 2.0*unit.femtoseconds\n",
    "saving_interval = 1.00*unit.picoseconds\n",
    "logging_interval = 100.00*unit.picoseconds\n",
    "simulation_time = 1000.*unit.picoseconds\n",
    "\n",
    "saving_steps = int(saving_interval/integration_timestep)\n",
    "logging_steps = int(logging_interval/integration_timestep)\n",
    "md_steps = int(simulation_time/integration_timestep)"
   ]
  },
  {
   "cell_type": "code",
   "execution_count": 7,
   "id": "c3ca01e5-f1d4-4881-8b41-7f140dd441b7",
   "metadata": {},
   "outputs": [],
   "source": [
    "friction   = 5.0/unit.picoseconds\n",
    "integrator = mm.LangevinIntegrator(temperature, friction, integration_timestep)"
   ]
  },
  {
   "cell_type": "code",
   "execution_count": 8,
   "id": "43e38fd7-6f23-44e4-951d-9d9f8149cc0e",
   "metadata": {},
   "outputs": [],
   "source": [
    "platform = mm.Platform.getPlatformByName('OpenCL')"
   ]
  },
  {
   "cell_type": "code",
   "execution_count": 9,
   "id": "67262061-18b1-44d0-be45-e4d3b3d6c7f8",
   "metadata": {},
   "outputs": [],
   "source": [
    "simulation = app.Simulation(topology, system, integrator, platform)"
   ]
  },
  {
   "cell_type": "code",
   "execution_count": 10,
   "id": "ed35177f-05b2-4d21-9037-1169805c4dee",
   "metadata": {},
   "outputs": [],
   "source": [
    "initial_positions  = [[0.0, 0.0, 0.0], [1.0, 1.0, 1.0]] * unit.nanometers\n",
    "simulation.context.setPositions(initial_positions)"
   ]
  },
  {
   "cell_type": "code",
   "execution_count": 11,
   "id": "f98ee3bf-39f4-4292-80a0-2d140cb2c042",
   "metadata": {},
   "outputs": [],
   "source": [
    "Lbox = 2.0\n",
    "v1 = [Lbox,0,0] * unit.nanometers\n",
    "v2 = [0,Lbox,0] * unit.nanometers\n",
    "v3 = [0,0,Lbox] * unit.nanometers\n",
    "simulation.context.setPeriodicBoxVectors(v1, v2, v3)"
   ]
  },
  {
   "cell_type": "code",
   "execution_count": 12,
   "id": "67fa9250-88fe-4e5b-8e87-053ab69739a8",
   "metadata": {},
   "outputs": [
    {
     "data": {
      "text/plain": [
       "0"
      ]
     },
     "execution_count": 12,
     "metadata": {},
     "output_type": "execute_result"
    }
   ],
   "source": [
    "msm.thirds.openmm.forces.add_point_harmonic_restraint(simulation, selection='chain_name==\"A\"',\n",
    "                                                      force_constant='500 kilojoules/(mol*nanometers**2)',\n",
    "                                                      point='[0.5, 0.5, 0.5] nm', pbc=True)"
   ]
  },
  {
   "cell_type": "code",
   "execution_count": 13,
   "id": "ac3fb780-483b-4466-a7bf-4789ab3a5127",
   "metadata": {},
   "outputs": [],
   "source": [
    "reporter_tqdm = msm.thirds.openmm.reporters.TQDMReporter(logging_steps, md_steps, temperature=False)\n",
    "simulation.reporters.append(reporter_tqdm)"
   ]
  },
  {
   "cell_type": "code",
   "execution_count": 14,
   "id": "4ce9a2e5-9dce-4bc2-987f-537e6e8ac28a",
   "metadata": {},
   "outputs": [],
   "source": [
    "reporter_trajectory_dict = msm.thirds.openmm.reporters.TrajectoryDictReporter(saving_steps, time=True, coordinates=True)\n",
    "simulation.reporters.append(reporter_trajectory_dict)"
   ]
  },
  {
   "cell_type": "code",
   "execution_count": 15,
   "id": "02f7ba93-b25e-4a9a-b197-9ef5c34a479c",
   "metadata": {},
   "outputs": [
    {
     "data": {
      "application/vnd.jupyter.widget-view+json": {
       "model_id": "17281897867943c2be83aace6e153c88",
       "version_major": 2,
       "version_minor": 0
      },
      "text/plain": [
       "  0%|          | 0/500000 [00:00<?, ?it/s]"
      ]
     },
     "metadata": {},
     "output_type": "display_data"
    },
    {
     "name": "stdout",
     "output_type": "stream",
     "text": [
      "\n",
      "Potential energy: 19.55 kJ/mol ± 53.13 kJ/mol\n",
      "\n",
      "Execution time: 0 days, 0 hours, 0 minutes, and 15.95 seconds (5416.381 ns/day).\n",
      "\n"
     ]
    }
   ],
   "source": [
    "simulation.step(md_steps)"
   ]
  },
  {
   "cell_type": "code",
   "execution_count": 16,
   "id": "1d98eba5-96a5-4f6d-bca6-30b0641d78e8",
   "metadata": {},
   "outputs": [],
   "source": [
    "trajectory_dict = reporter_trajectory_dict.finalize()"
   ]
  },
  {
   "cell_type": "code",
   "execution_count": 19,
   "id": "6f0c68d0-3191-4266-b338-789328039407",
   "metadata": {},
   "outputs": [
    {
     "data": {
      "image/png": "[encoded data removed]",
      "text/plain": [
       "<Figure size 640x480 with 1 Axes>"
      ]
     },
     "metadata": {},
     "output_type": "display_data"
    }
   ],
   "source": [
    "plt.plot(trajectory_dict['time'], trajectory_dict['coordinates'][:,0,0])\n",
    "plt.plot(trajectory_dict['time'], trajectory_dict['coordinates'][:,1,0])\n",
    "plt.axhline(y=0.5, color='red', linestyle='-')\n",
    "plt.show()"
   ]
  },
  {
   "cell_type": "code",
   "execution_count": null,
   "id": "604f7d08-ec0b-4dea-8623-127ffd2d2ca8",
   "metadata": {},
   "outputs": [],
   "source": []
  }
 ],
 "metadata": {
  "kernelspec": {
   "display_name": "Python 3 (ipykernel)",
   "language": "python",
   "name": "python3"
  },
  "language_info": {
   "codemirror_mode": {
    "name": "ipython",
    "version": 3
   },
   "file_extension": ".py",
   "mimetype": "text/x-python",
   "name": "python",
   "nbconvert_exporter": "python",
   "pygments_lexer": "ipython3",
   "version": "3.12.8"
  }
 },
 "nbformat": 4,
 "nbformat_minor": 5
}
