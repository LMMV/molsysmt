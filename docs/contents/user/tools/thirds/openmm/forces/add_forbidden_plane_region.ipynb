{
 "cells": [
  {
   "cell_type": "markdown",
   "id": "653bc9c8-3e1b-45ee-944d-85874a8b33b3",
   "metadata": {},
   "source": [
    "# Add forbidden plane region"
   ]
  },
  {
   "cell_type": "code",
   "execution_count": 1,
   "id": "64de0002-d07f-4bb1-8c28-b7c0f3e8762f",
   "metadata": {
    "execution": {
     "iopub.execute_input": "2025-03-11T21:05:07.478620Z",
     "iopub.status.busy": "2025-03-11T21:05:07.478251Z",
     "iopub.status.idle": "2025-03-11T21:05:15.653555Z",
     "shell.execute_reply": "2025-03-11T21:05:15.651745Z"
    }
   },
   "outputs": [
    {
     "data": {
      "application/vnd.jupyter.widget-view+json": {
       "model_id": "76f4267faf30419a8397327ff46b632e",
       "version_major": 2,
       "version_minor": 0
      },
      "text/plain": []
     },
     "metadata": {},
     "output_type": "display_data"
    }
   ],
   "source": [
    "import molsysmt as msm"
   ]
  },
  {
   "cell_type": "code",
   "execution_count": 2,
   "id": "6e09021e-88d6-4ade-9ae5-dfa9ec540214",
   "metadata": {
    "execution": {
     "iopub.execute_input": "2025-03-11T21:05:15.657859Z",
     "iopub.status.busy": "2025-03-11T21:05:15.656940Z",
     "iopub.status.idle": "2025-03-11T21:05:15.697329Z",
     "shell.execute_reply": "2025-03-11T21:05:15.696403Z"
    }
   },
   "outputs": [],
   "source": [
    "import openmm as mm\n",
    "from openmm import unit\n",
    "from openmm import app\n",
    "from tqdm import tqdm\n",
    "import numpy as np\n",
    "from matplotlib import pyplot as plt"
   ]
  },
  {
   "cell_type": "code",
   "execution_count": 3,
   "id": "96637603-6cd0-49f4-8d8c-bd692f1d51e5",
   "metadata": {
    "execution": {
     "iopub.execute_input": "2025-03-11T21:05:15.701424Z",
     "iopub.status.busy": "2025-03-11T21:05:15.700559Z",
     "iopub.status.idle": "2025-03-11T21:05:15.711778Z",
     "shell.execute_reply": "2025-03-11T21:05:15.710917Z"
    }
   },
   "outputs": [
    {
     "data": {
      "text/plain": [
       "0"
      ]
     },
     "execution_count": 3,
     "metadata": {},
     "output_type": "execute_result"
    }
   ],
   "source": [
    "system = mm.System()\n",
    "system.addParticle(39.948 * unit.amu) # masa del átomo de argón"
   ]
  },
  {
   "cell_type": "code",
   "execution_count": 4,
   "id": "991d580d-2f65-444e-a907-c0b94fb9de9b",
   "metadata": {
    "execution": {
     "iopub.execute_input": "2025-03-11T21:05:15.715331Z",
     "iopub.status.busy": "2025-03-11T21:05:15.714627Z",
     "iopub.status.idle": "2025-03-11T21:05:15.737884Z",
     "shell.execute_reply": "2025-03-11T21:05:15.737101Z"
    }
   },
   "outputs": [
    {
     "data": {
      "text/plain": [
       "0"
      ]
     },
     "execution_count": 4,
     "metadata": {},
     "output_type": "execute_result"
    }
   ],
   "source": [
    "msm.thirds.openmm.forces.add_forbidden_plane_region(system, point='[1.0, 0.0, 0.0] nm', normal_vector=[1,0,0],\n",
    "                                                    width='1.5 nm', force_constant = '5000 kilojoules/(mol*angstroms**2)',\n",
    "                                                    pbc=True)"
   ]
  },
  {
   "cell_type": "code",
   "execution_count": 5,
   "id": "2dd1d2d8-d85e-4396-8fa6-d3920bee98d1",
   "metadata": {
    "execution": {
     "iopub.execute_input": "2025-03-11T21:05:15.741707Z",
     "iopub.status.busy": "2025-03-11T21:05:15.740965Z",
     "iopub.status.idle": "2025-03-11T21:05:15.745932Z",
     "shell.execute_reply": "2025-03-11T21:05:15.744420Z"
    }
   },
   "outputs": [],
   "source": [
    "# Formalismo NVT\n",
    "temperature = 300*unit.kelvin"
   ]
  },
  {
   "cell_type": "code",
   "execution_count": 6,
   "id": "ae200579-9af9-40de-aba3-7dce8fa33e54",
   "metadata": {
    "execution": {
     "iopub.execute_input": "2025-03-11T21:05:15.749352Z",
     "iopub.status.busy": "2025-03-11T21:05:15.748830Z",
     "iopub.status.idle": "2025-03-11T21:05:15.754192Z",
     "shell.execute_reply": "2025-03-11T21:05:15.753299Z"
    }
   },
   "outputs": [],
   "source": [
    "integration_timestep = 2.0*unit.femtoseconds\n",
    "saving_timestep = 1.00*unit.picoseconds\n",
    "simulation_time = 1000.*unit.picoseconds\n",
    "\n",
    "saving_steps = int(saving_timestep/integration_timestep)\n",
    "num_saving_steps = int(simulation_time/saving_timestep)"
   ]
  },
  {
   "cell_type": "code",
   "execution_count": 7,
   "id": "c3ca01e5-f1d4-4881-8b41-7f140dd441b7",
   "metadata": {
    "execution": {
     "iopub.execute_input": "2025-03-11T21:05:15.757742Z",
     "iopub.status.busy": "2025-03-11T21:05:15.757138Z",
     "iopub.status.idle": "2025-03-11T21:05:15.762621Z",
     "shell.execute_reply": "2025-03-11T21:05:15.761178Z"
    }
   },
   "outputs": [],
   "source": [
    "friction   = 5.0/unit.picoseconds\n",
    "integrator = mm.LangevinIntegrator(temperature, friction, integration_timestep)"
   ]
  },
  {
   "cell_type": "code",
   "execution_count": 8,
   "id": "43e38fd7-6f23-44e4-951d-9d9f8149cc0e",
   "metadata": {
    "execution": {
     "iopub.execute_input": "2025-03-11T21:05:15.766316Z",
     "iopub.status.busy": "2025-03-11T21:05:15.765637Z",
     "iopub.status.idle": "2025-03-11T21:05:15.770216Z",
     "shell.execute_reply": "2025-03-11T21:05:15.769302Z"
    }
   },
   "outputs": [],
   "source": [
    "platform = mm.Platform.getPlatformByName('OpenCL')"
   ]
  },
  {
   "cell_type": "code",
   "execution_count": 9,
   "id": "a3287fd3-cb9a-434e-b4e5-2b98a1b4478d",
   "metadata": {
    "execution": {
     "iopub.execute_input": "2025-03-11T21:05:15.773530Z",
     "iopub.status.busy": "2025-03-11T21:05:15.773083Z",
     "iopub.status.idle": "2025-03-11T21:05:15.779862Z",
     "shell.execute_reply": "2025-03-11T21:05:15.778918Z"
    }
   },
   "outputs": [],
   "source": [
    "times = np.zeros(num_saving_steps, np.float32) * unit.picoseconds\n",
    "positions  = np.zeros([num_saving_steps,3], np.float32) * unit.nanometers\n",
    "velocities = np.zeros([num_saving_steps,3], np.float32) * unit.nanometers/unit.picosecond\n",
    "potential_energies   = np.zeros([num_saving_steps], np.float32) * unit.kilocalories_per_mole\n",
    "kinetic_energies     = np.zeros([num_saving_steps], np.float32) * unit.kilocalories_per_mole"
   ]
  },
  {
   "cell_type": "code",
   "execution_count": 10,
   "id": "5c69b0b6-93d0-4e93-901d-df21b34cf525",
   "metadata": {
    "execution": {
     "iopub.execute_input": "2025-03-11T21:05:15.783139Z",
     "iopub.status.busy": "2025-03-11T21:05:15.782685Z",
     "iopub.status.idle": "2025-03-11T21:05:15.787247Z",
     "shell.execute_reply": "2025-03-11T21:05:15.786317Z"
    }
   },
   "outputs": [],
   "source": [
    "initial_positions  = [[2.0, 0.0, 0.0]] * unit.nanometers"
   ]
  },
  {
   "cell_type": "code",
   "execution_count": 11,
   "id": "a10b47a1-fa8f-480c-9261-8ecb259a2352",
   "metadata": {
    "execution": {
     "iopub.execute_input": "2025-03-11T21:05:15.790366Z",
     "iopub.status.busy": "2025-03-11T21:05:15.789943Z",
     "iopub.status.idle": "2025-03-11T21:05:15.999709Z",
     "shell.execute_reply": "2025-03-11T21:05:15.998762Z"
    }
   },
   "outputs": [],
   "source": [
    "context = mm.Context(system, integrator, platform)\n",
    "context.setPositions(initial_positions)"
   ]
  },
  {
   "cell_type": "code",
   "execution_count": 12,
   "id": "8f358f9e-faab-4b93-9dc6-16f58dad933a",
   "metadata": {
    "execution": {
     "iopub.execute_input": "2025-03-11T21:05:16.003291Z",
     "iopub.status.busy": "2025-03-11T21:05:16.002798Z",
     "iopub.status.idle": "2025-03-11T21:05:16.008407Z",
     "shell.execute_reply": "2025-03-11T21:05:16.007491Z"
    }
   },
   "outputs": [],
   "source": [
    "L = 2.0\n",
    "v1 = [L,0,0] * unit.nanometers\n",
    "v2 = [0,L,0] * unit.nanometers\n",
    "v3 = [0,0,L] * unit.nanometers\n",
    "L = L * unit.nanometers\n",
    "context.setPeriodicBoxVectors(v1, v2, v3)"
   ]
  },
  {
   "cell_type": "code",
   "execution_count": 13,
   "id": "b4f8fa76-c874-4fdc-9f75-ec40f4579943",
   "metadata": {
    "execution": {
     "iopub.execute_input": "2025-03-11T21:05:16.011633Z",
     "iopub.status.busy": "2025-03-11T21:05:16.011240Z",
     "iopub.status.idle": "2025-03-11T21:05:16.015645Z",
     "shell.execute_reply": "2025-03-11T21:05:16.014823Z"
    }
   },
   "outputs": [],
   "source": [
    "state = context.getState(getEnergy=True, getPositions=True, getVelocities=True)"
   ]
  },
  {
   "cell_type": "code",
   "execution_count": 14,
   "id": "97849832-985e-41ec-bf4b-bb18ebf817eb",
   "metadata": {
    "execution": {
     "iopub.execute_input": "2025-03-11T21:05:16.018877Z",
     "iopub.status.busy": "2025-03-11T21:05:16.018503Z",
     "iopub.status.idle": "2025-03-11T21:05:16.024685Z",
     "shell.execute_reply": "2025-03-11T21:05:16.023819Z"
    }
   },
   "outputs": [],
   "source": [
    "times[0] =  state.getTime()\n",
    "positions[0] = state.getPositions()[0]\n",
    "velocities[0] = state.getVelocities()[0]\n",
    "kinetic_energies[0]=state.getKineticEnergy()\n",
    "potential_energies[0]=state.getPotentialEnergy()"
   ]
  },
  {
   "cell_type": "code",
   "execution_count": 15,
   "id": "4559e045-b60d-46d0-a0dc-2f988edfcb6d",
   "metadata": {
    "execution": {
     "iopub.execute_input": "2025-03-11T21:05:16.028312Z",
     "iopub.status.busy": "2025-03-11T21:05:16.027642Z",
     "iopub.status.idle": "2025-03-11T21:05:43.920764Z",
     "shell.execute_reply": "2025-03-11T21:05:43.919526Z"
    }
   },
   "outputs": [
    {
     "name": "stderr",
     "output_type": "stream",
     "text": [
      "\r",
      "  0%|                                                                                                                                                | 0/999 [00:00<?, ?it/s]"
     ]
    },
    {
     "name": "stderr",
     "output_type": "stream",
     "text": [
      "\r",
      "  0%|▌                                                                                                                                       | 4/999 [00:00<00:29, 34.10it/s]"
     ]
    },
    {
     "name": "stderr",
     "output_type": "stream",
     "text": [
      "\r",
      "  1%|█▎                                                                                                                                     | 10/999 [00:00<00:22, 44.89it/s]"
     ]
    },
    {
     "name": "stderr",
     "output_type": "stream",
     "text": [
      "\r",
      "  2%|██                                                                                                                                     | 15/999 [00:00<00:22, 44.69it/s]"
     ]
    },
    {
     "name": "stderr",
     "output_type": "stream",
     "text": [
      "\r",
      "  2%|██▋                                                                                                                                    | 20/999 [00:00<00:21, 45.73it/s]"
     ]
    },
    {
     "name": "stderr",
     "output_type": "stream",
     "text": [
      "\r",
      "  3%|███▍                                                                                                                                   | 25/999 [00:00<00:20, 46.87it/s]"
     ]
    },
    {
     "name": "stderr",
     "output_type": "stream",
     "text": [
      "\r",
      "  3%|████▏                                                                                                                                  | 31/999 [00:00<00:19, 50.24it/s]"
     ]
    },
    {
     "name": "stderr",
     "output_type": "stream",
     "text": [
      "\r",
      "  4%|█████                                                                                                                                  | 37/999 [00:00<00:19, 48.67it/s]"
     ]
    },
    {
     "name": "stderr",
     "output_type": "stream",
     "text": [
      "\r",
      "  4%|█████▊                                                                                                                                 | 43/999 [00:00<00:18, 50.81it/s]"
     ]
    },
    {
     "name": "stderr",
     "output_type": "stream",
     "text": [
      "\r",
      "  5%|██████▌                                                                                                                                | 49/999 [00:00<00:17, 52.89it/s]"
     ]
    },
    {
     "name": "stderr",
     "output_type": "stream",
     "text": [
      "\r",
      "  6%|███████▍                                                                                                                               | 55/999 [00:01<00:18, 50.83it/s]"
     ]
    },
    {
     "name": "stderr",
     "output_type": "stream",
     "text": [
      "\r",
      "  6%|████████▏                                                                                                                              | 61/999 [00:01<00:21, 43.98it/s]"
     ]
    },
    {
     "name": "stderr",
     "output_type": "stream",
     "text": [
      "\r",
      "  7%|████████▉                                                                                                                              | 66/999 [00:01<00:22, 40.65it/s]"
     ]
    },
    {
     "name": "stderr",
     "output_type": "stream",
     "text": [
      "\r",
      "  7%|█████████▌                                                                                                                             | 71/999 [00:01<00:23, 39.14it/s]"
     ]
    },
    {
     "name": "stderr",
     "output_type": "stream",
     "text": [
      "\r",
      "  8%|██████████▎                                                                                                                            | 76/999 [00:01<00:28, 32.83it/s]"
     ]
    },
    {
     "name": "stderr",
     "output_type": "stream",
     "text": [
      "\r",
      "  8%|██████████▊                                                                                                                            | 80/999 [00:01<00:27, 33.24it/s]"
     ]
    },
    {
     "name": "stderr",
     "output_type": "stream",
     "text": [
      "\r",
      "  8%|███████████▎                                                                                                                           | 84/999 [00:02<00:27, 33.60it/s]"
     ]
    },
    {
     "name": "stderr",
     "output_type": "stream",
     "text": [
      "\r",
      "  9%|███████████▉                                                                                                                           | 88/999 [00:02<00:27, 33.26it/s]"
     ]
    },
    {
     "name": "stderr",
     "output_type": "stream",
     "text": [
      "\r",
      "  9%|████████████▍                                                                                                                          | 92/999 [00:02<00:26, 34.48it/s]"
     ]
    },
    {
     "name": "stderr",
     "output_type": "stream",
     "text": [
      "\r",
      " 10%|████████████▉                                                                                                                          | 96/999 [00:02<00:26, 34.32it/s]"
     ]
    },
    {
     "name": "stderr",
     "output_type": "stream",
     "text": [
      "\r",
      " 10%|█████████████▍                                                                                                                        | 100/999 [00:02<00:25, 34.60it/s]"
     ]
    },
    {
     "name": "stderr",
     "output_type": "stream",
     "text": [
      "\r",
      " 10%|█████████████▉                                                                                                                        | 104/999 [00:02<00:25, 34.60it/s]"
     ]
    },
    {
     "name": "stderr",
     "output_type": "stream",
     "text": [
      "\r",
      " 11%|██████████████▍                                                                                                                       | 108/999 [00:02<00:25, 34.56it/s]"
     ]
    },
    {
     "name": "stderr",
     "output_type": "stream",
     "text": [
      "\r",
      " 11%|███████████████                                                                                                                       | 112/999 [00:02<00:26, 33.41it/s]"
     ]
    },
    {
     "name": "stderr",
     "output_type": "stream",
     "text": [
      "\r",
      " 12%|███████████████▌                                                                                                                      | 116/999 [00:02<00:25, 34.06it/s]"
     ]
    },
    {
     "name": "stderr",
     "output_type": "stream",
     "text": [
      "\r",
      " 12%|████████████████                                                                                                                      | 120/999 [00:03<00:25, 35.01it/s]"
     ]
    },
    {
     "name": "stderr",
     "output_type": "stream",
     "text": [
      "\r",
      " 12%|████████████████▋                                                                                                                     | 124/999 [00:03<00:25, 34.54it/s]"
     ]
    },
    {
     "name": "stderr",
     "output_type": "stream",
     "text": [
      "\r",
      " 13%|█████████████████▏                                                                                                                    | 128/999 [00:03<00:25, 34.78it/s]"
     ]
    },
    {
     "name": "stderr",
     "output_type": "stream",
     "text": [
      "\r",
      " 13%|█████████████████▋                                                                                                                    | 132/999 [00:03<00:24, 35.82it/s]"
     ]
    },
    {
     "name": "stderr",
     "output_type": "stream",
     "text": [
      "\r",
      " 14%|██████████████████▏                                                                                                                   | 136/999 [00:03<00:24, 35.52it/s]"
     ]
    },
    {
     "name": "stderr",
     "output_type": "stream",
     "text": [
      "\r",
      " 14%|██████████████████▊                                                                                                                   | 140/999 [00:03<00:24, 35.27it/s]"
     ]
    },
    {
     "name": "stderr",
     "output_type": "stream",
     "text": [
      "\r",
      " 14%|███████████████████▎                                                                                                                  | 144/999 [00:03<00:24, 34.99it/s]"
     ]
    },
    {
     "name": "stderr",
     "output_type": "stream",
     "text": [
      "\r",
      " 15%|███████████████████▊                                                                                                                  | 148/999 [00:03<00:24, 34.83it/s]"
     ]
    },
    {
     "name": "stderr",
     "output_type": "stream",
     "text": [
      "\r",
      " 15%|████████████████████▍                                                                                                                 | 152/999 [00:03<00:24, 34.81it/s]"
     ]
    },
    {
     "name": "stderr",
     "output_type": "stream",
     "text": [
      "\r",
      " 16%|████████████████████▉                                                                                                                 | 156/999 [00:04<00:24, 34.75it/s]"
     ]
    },
    {
     "name": "stderr",
     "output_type": "stream",
     "text": [
      "\r",
      " 16%|█████████████████████▍                                                                                                                | 160/999 [00:04<00:24, 34.69it/s]"
     ]
    },
    {
     "name": "stderr",
     "output_type": "stream",
     "text": [
      "\r",
      " 16%|█████████████████████▉                                                                                                                | 164/999 [00:04<00:24, 34.66it/s]"
     ]
    },
    {
     "name": "stderr",
     "output_type": "stream",
     "text": [
      "\r",
      " 17%|██████████████████████▌                                                                                                               | 168/999 [00:04<00:23, 34.77it/s]"
     ]
    },
    {
     "name": "stderr",
     "output_type": "stream",
     "text": [
      "\r",
      " 17%|███████████████████████                                                                                                               | 172/999 [00:04<00:30, 27.44it/s]"
     ]
    },
    {
     "name": "stderr",
     "output_type": "stream",
     "text": [
      "\r",
      " 18%|███████████████████████▌                                                                                                              | 176/999 [00:04<00:28, 28.99it/s]"
     ]
    },
    {
     "name": "stderr",
     "output_type": "stream",
     "text": [
      "\r",
      " 18%|████████████████████████▏                                                                                                             | 180/999 [00:04<00:27, 30.28it/s]"
     ]
    },
    {
     "name": "stderr",
     "output_type": "stream",
     "text": [
      "\r",
      " 18%|████████████████████████▋                                                                                                             | 184/999 [00:05<00:26, 31.28it/s]"
     ]
    },
    {
     "name": "stderr",
     "output_type": "stream",
     "text": [
      "\r",
      " 19%|█████████████████████████▏                                                                                                            | 188/999 [00:05<00:27, 29.00it/s]"
     ]
    },
    {
     "name": "stderr",
     "output_type": "stream",
     "text": [
      "\r",
      " 19%|█████████████████████████▊                                                                                                            | 192/999 [00:05<00:27, 28.92it/s]"
     ]
    },
    {
     "name": "stderr",
     "output_type": "stream",
     "text": [
      "\r",
      " 20%|██████████████████████████▏                                                                                                           | 195/999 [00:05<00:31, 25.55it/s]"
     ]
    },
    {
     "name": "stderr",
     "output_type": "stream",
     "text": [
      "\r",
      " 20%|███████████████████████████                                                                                                           | 202/999 [00:05<00:23, 34.53it/s]"
     ]
    },
    {
     "name": "stderr",
     "output_type": "stream",
     "text": [
      "\r",
      " 21%|███████████████████████████▉                                                                                                          | 208/999 [00:05<00:19, 40.50it/s]"
     ]
    },
    {
     "name": "stderr",
     "output_type": "stream",
     "text": [
      "\r",
      " 21%|████████████████████████████▌                                                                                                         | 213/999 [00:05<00:19, 40.95it/s]"
     ]
    },
    {
     "name": "stderr",
     "output_type": "stream",
     "text": [
      "\r",
      " 22%|█████████████████████████████▍                                                                                                        | 219/999 [00:05<00:17, 45.70it/s]"
     ]
    },
    {
     "name": "stderr",
     "output_type": "stream",
     "text": [
      "\r",
      " 23%|██████████████████████████████▏                                                                                                       | 225/999 [00:06<00:15, 49.11it/s]"
     ]
    },
    {
     "name": "stderr",
     "output_type": "stream",
     "text": [
      "\r",
      " 23%|██████████████████████████████▉                                                                                                       | 231/999 [00:06<00:14, 51.87it/s]"
     ]
    },
    {
     "name": "stderr",
     "output_type": "stream",
     "text": [
      "\r",
      " 24%|███████████████████████████████▊                                                                                                      | 237/999 [00:06<00:16, 47.30it/s]"
     ]
    },
    {
     "name": "stderr",
     "output_type": "stream",
     "text": [
      "\r",
      " 24%|████████████████████████████████▍                                                                                                     | 242/999 [00:06<00:17, 43.55it/s]"
     ]
    },
    {
     "name": "stderr",
     "output_type": "stream",
     "text": [
      "\r",
      " 25%|█████████████████████████████████▏                                                                                                    | 247/999 [00:06<00:17, 42.14it/s]"
     ]
    },
    {
     "name": "stderr",
     "output_type": "stream",
     "text": [
      "\r",
      " 25%|█████████████████████████████████▊                                                                                                    | 252/999 [00:06<00:18, 41.14it/s]"
     ]
    },
    {
     "name": "stderr",
     "output_type": "stream",
     "text": [
      "\r",
      " 26%|██████████████████████████████████▍                                                                                                   | 257/999 [00:06<00:18, 40.46it/s]"
     ]
    },
    {
     "name": "stderr",
     "output_type": "stream",
     "text": [
      "\r",
      " 26%|███████████████████████████████████▏                                                                                                  | 262/999 [00:07<00:22, 32.78it/s]"
     ]
    },
    {
     "name": "stderr",
     "output_type": "stream",
     "text": [
      "\r",
      " 27%|███████████████████████████████████▋                                                                                                  | 266/999 [00:07<00:23, 31.43it/s]"
     ]
    },
    {
     "name": "stderr",
     "output_type": "stream",
     "text": [
      "\r",
      " 27%|████████████████████████████████████▏                                                                                                 | 270/999 [00:07<00:22, 32.06it/s]"
     ]
    },
    {
     "name": "stderr",
     "output_type": "stream",
     "text": [
      "\r",
      " 27%|████████████████████████████████████▊                                                                                                 | 274/999 [00:07<00:22, 32.77it/s]"
     ]
    },
    {
     "name": "stderr",
     "output_type": "stream",
     "text": [
      "\r",
      " 28%|█████████████████████████████████████▎                                                                                                | 278/999 [00:07<00:24, 29.06it/s]"
     ]
    },
    {
     "name": "stderr",
     "output_type": "stream",
     "text": [
      "\r",
      " 28%|█████████████████████████████████████▊                                                                                                | 282/999 [00:07<00:23, 30.47it/s]"
     ]
    },
    {
     "name": "stderr",
     "output_type": "stream",
     "text": [
      "\r",
      " 29%|██████████████████████████████████████▎                                                                                               | 286/999 [00:07<00:22, 31.65it/s]"
     ]
    },
    {
     "name": "stderr",
     "output_type": "stream",
     "text": [
      "\r",
      " 29%|███████████████████████████████████████▏                                                                                              | 292/999 [00:07<00:18, 37.37it/s]"
     ]
    },
    {
     "name": "stderr",
     "output_type": "stream",
     "text": [
      "\r",
      " 30%|███████████████████████████████████████▉                                                                                              | 298/999 [00:08<00:17, 40.36it/s]"
     ]
    },
    {
     "name": "stderr",
     "output_type": "stream",
     "text": [
      "\r",
      " 30%|████████████████████████████████████████▋                                                                                             | 303/999 [00:08<00:18, 38.28it/s]"
     ]
    },
    {
     "name": "stderr",
     "output_type": "stream",
     "text": [
      "\r",
      " 31%|█████████████████████████████████████████▏                                                                                            | 307/999 [00:08<00:21, 32.36it/s]"
     ]
    },
    {
     "name": "stderr",
     "output_type": "stream",
     "text": [
      "\r",
      " 31%|█████████████████████████████████████████▋                                                                                            | 311/999 [00:08<00:24, 28.60it/s]"
     ]
    },
    {
     "name": "stderr",
     "output_type": "stream",
     "text": [
      "\r",
      " 32%|██████████████████████████████████████████▍                                                                                           | 316/999 [00:08<00:20, 33.11it/s]"
     ]
    },
    {
     "name": "stderr",
     "output_type": "stream",
     "text": [
      "\r",
      " 32%|██████████████████████████████████████████▉                                                                                           | 320/999 [00:08<00:19, 34.04it/s]"
     ]
    },
    {
     "name": "stderr",
     "output_type": "stream",
     "text": [
      "\r",
      " 32%|███████████████████████████████████████████▍                                                                                          | 324/999 [00:08<00:21, 31.23it/s]"
     ]
    },
    {
     "name": "stderr",
     "output_type": "stream",
     "text": [
      "\r",
      " 33%|███████████████████████████████████████████▉                                                                                          | 328/999 [00:09<00:25, 26.45it/s]"
     ]
    },
    {
     "name": "stderr",
     "output_type": "stream",
     "text": [
      "\r",
      " 33%|████████████████████████████████████████████▍                                                                                         | 331/999 [00:09<00:25, 26.61it/s]"
     ]
    },
    {
     "name": "stderr",
     "output_type": "stream",
     "text": [
      "\r",
      " 34%|████████████████████████████████████████████▉                                                                                         | 335/999 [00:09<00:23, 28.63it/s]"
     ]
    },
    {
     "name": "stderr",
     "output_type": "stream",
     "text": [
      "\r",
      " 34%|█████████████████████████████████████████████▍                                                                                        | 339/999 [00:09<00:21, 30.16it/s]"
     ]
    },
    {
     "name": "stderr",
     "output_type": "stream",
     "text": [
      "\r",
      " 34%|██████████████████████████████████████████████                                                                                        | 343/999 [00:09<00:20, 31.37it/s]"
     ]
    },
    {
     "name": "stderr",
     "output_type": "stream",
     "text": [
      "\r",
      " 35%|██████████████████████████████████████████████▌                                                                                       | 347/999 [00:09<00:20, 32.29it/s]"
     ]
    },
    {
     "name": "stderr",
     "output_type": "stream",
     "text": [
      "\r",
      " 35%|███████████████████████████████████████████████                                                                                       | 351/999 [00:09<00:19, 33.16it/s]"
     ]
    },
    {
     "name": "stderr",
     "output_type": "stream",
     "text": [
      "\r",
      " 36%|███████████████████████████████████████████████▌                                                                                      | 355/999 [00:09<00:18, 34.45it/s]"
     ]
    },
    {
     "name": "stderr",
     "output_type": "stream",
     "text": [
      "\r",
      " 36%|████████████████████████████████████████████████▏                                                                                     | 359/999 [00:10<00:18, 35.48it/s]"
     ]
    },
    {
     "name": "stderr",
     "output_type": "stream",
     "text": [
      "\r",
      " 37%|████████████████████████████████████████████████▉                                                                                     | 365/999 [00:10<00:15, 39.76it/s]"
     ]
    },
    {
     "name": "stderr",
     "output_type": "stream",
     "text": [
      "\r",
      " 37%|█████████████████████████████████████████████████▍                                                                                    | 369/999 [00:10<00:16, 38.13it/s]"
     ]
    },
    {
     "name": "stderr",
     "output_type": "stream",
     "text": [
      "\r",
      " 37%|██████████████████████████████████████████████████                                                                                    | 373/999 [00:10<00:18, 34.03it/s]"
     ]
    },
    {
     "name": "stderr",
     "output_type": "stream",
     "text": [
      "\r",
      " 38%|██████████████████████████████████████████████████▌                                                                                   | 377/999 [00:10<00:20, 30.30it/s]"
     ]
    },
    {
     "name": "stderr",
     "output_type": "stream",
     "text": [
      "\r",
      " 38%|███████████████████████████████████████████████████                                                                                   | 381/999 [00:10<00:19, 31.34it/s]"
     ]
    },
    {
     "name": "stderr",
     "output_type": "stream",
     "text": [
      "\r",
      " 39%|███████████████████████████████████████████████████▋                                                                                  | 385/999 [00:10<00:19, 32.09it/s]"
     ]
    },
    {
     "name": "stderr",
     "output_type": "stream",
     "text": [
      "\r",
      " 39%|████████████████████████████████████████████████████▏                                                                                 | 389/999 [00:10<00:18, 32.66it/s]"
     ]
    },
    {
     "name": "stderr",
     "output_type": "stream",
     "text": [
      "\r",
      " 39%|████████████████████████████████████████████████████▋                                                                                 | 393/999 [00:11<00:18, 33.20it/s]"
     ]
    },
    {
     "name": "stderr",
     "output_type": "stream",
     "text": [
      "\r",
      " 40%|█████████████████████████████████████████████████████▎                                                                                | 397/999 [00:11<00:17, 33.47it/s]"
     ]
    },
    {
     "name": "stderr",
     "output_type": "stream",
     "text": [
      "\r",
      " 40%|█████████████████████████████████████████████████████▊                                                                                | 401/999 [00:11<00:17, 33.81it/s]"
     ]
    },
    {
     "name": "stderr",
     "output_type": "stream",
     "text": [
      "\r",
      " 41%|██████████████████████████████████████████████████████▎                                                                               | 405/999 [00:11<00:17, 33.86it/s]"
     ]
    },
    {
     "name": "stderr",
     "output_type": "stream",
     "text": [
      "\r",
      " 41%|██████████████████████████████████████████████████████▊                                                                               | 409/999 [00:11<00:17, 33.99it/s]"
     ]
    },
    {
     "name": "stderr",
     "output_type": "stream",
     "text": [
      "\r",
      " 41%|███████████████████████████████████████████████████████▍                                                                              | 413/999 [00:11<00:17, 34.08it/s]"
     ]
    },
    {
     "name": "stderr",
     "output_type": "stream",
     "text": [
      "\r",
      " 42%|███████████████████████████████████████████████████████▉                                                                              | 417/999 [00:11<00:17, 34.11it/s]"
     ]
    },
    {
     "name": "stderr",
     "output_type": "stream",
     "text": [
      "\r",
      " 42%|████████████████████████████████████████████████████████▍                                                                             | 421/999 [00:11<00:16, 34.24it/s]"
     ]
    },
    {
     "name": "stderr",
     "output_type": "stream",
     "text": [
      "\r",
      " 43%|█████████████████████████████████████████████████████████                                                                             | 425/999 [00:11<00:16, 34.52it/s]"
     ]
    },
    {
     "name": "stderr",
     "output_type": "stream",
     "text": [
      "\r",
      " 43%|█████████████████████████████████████████████████████████▌                                                                            | 429/999 [00:12<00:18, 30.04it/s]"
     ]
    },
    {
     "name": "stderr",
     "output_type": "stream",
     "text": [
      "\r",
      " 43%|██████████████████████████████████████████████████████████                                                                            | 433/999 [00:12<00:18, 31.20it/s]"
     ]
    },
    {
     "name": "stderr",
     "output_type": "stream",
     "text": [
      "\r",
      " 44%|██████████████████████████████████████████████████████████▌                                                                           | 437/999 [00:12<00:19, 28.72it/s]"
     ]
    },
    {
     "name": "stderr",
     "output_type": "stream",
     "text": [
      "\r",
      " 44%|███████████████████████████████████████████████████████████▏                                                                          | 441/999 [00:12<00:18, 29.64it/s]"
     ]
    },
    {
     "name": "stderr",
     "output_type": "stream",
     "text": [
      "\r",
      " 45%|███████████████████████████████████████████████████████████▋                                                                          | 445/999 [00:12<00:17, 30.78it/s]"
     ]
    },
    {
     "name": "stderr",
     "output_type": "stream",
     "text": [
      "\r",
      " 45%|████████████████████████████████████████████████████████████▏                                                                         | 449/999 [00:12<00:17, 30.98it/s]"
     ]
    },
    {
     "name": "stderr",
     "output_type": "stream",
     "text": [
      "\r",
      " 45%|████████████████████████████████████████████████████████████▊                                                                         | 453/999 [00:12<00:18, 29.24it/s]"
     ]
    },
    {
     "name": "stderr",
     "output_type": "stream",
     "text": [
      "\r",
      " 46%|█████████████████████████████████████████████████████████████▏                                                                        | 456/999 [00:13<00:20, 26.78it/s]"
     ]
    },
    {
     "name": "stderr",
     "output_type": "stream",
     "text": [
      "\r",
      " 46%|█████████████████████████████████████████████████████████████▋                                                                        | 460/999 [00:13<00:18, 28.86it/s]"
     ]
    },
    {
     "name": "stderr",
     "output_type": "stream",
     "text": [
      "\r",
      " 46%|██████████████████████████████████████████████████████████████▏                                                                       | 464/999 [00:13<00:17, 29.93it/s]"
     ]
    },
    {
     "name": "stderr",
     "output_type": "stream",
     "text": [
      "\r",
      " 47%|██████████████████████████████████████████████████████████████▊                                                                       | 468/999 [00:13<00:16, 31.27it/s]"
     ]
    },
    {
     "name": "stderr",
     "output_type": "stream",
     "text": [
      "\r",
      " 47%|███████████████████████████████████████████████████████████████▎                                                                      | 472/999 [00:13<00:16, 32.16it/s]"
     ]
    },
    {
     "name": "stderr",
     "output_type": "stream",
     "text": [
      "\r",
      " 48%|███████████████████████████████████████████████████████████████▊                                                                      | 476/999 [00:13<00:15, 33.00it/s]"
     ]
    },
    {
     "name": "stderr",
     "output_type": "stream",
     "text": [
      "\r",
      " 48%|████████████████████████████████████████████████████████████████▍                                                                     | 480/999 [00:13<00:15, 33.18it/s]"
     ]
    },
    {
     "name": "stderr",
     "output_type": "stream",
     "text": [
      "\r",
      " 48%|████████████████████████████████████████████████████████████████▉                                                                     | 484/999 [00:13<00:15, 33.62it/s]"
     ]
    },
    {
     "name": "stderr",
     "output_type": "stream",
     "text": [
      "\r",
      " 49%|█████████████████████████████████████████████████████████████████▍                                                                    | 488/999 [00:14<00:15, 34.04it/s]"
     ]
    },
    {
     "name": "stderr",
     "output_type": "stream",
     "text": [
      "\r",
      " 49%|█████████████████████████████████████████████████████████████████▉                                                                    | 492/999 [00:14<00:14, 34.13it/s]"
     ]
    },
    {
     "name": "stderr",
     "output_type": "stream",
     "text": [
      "\r",
      " 50%|██████████████████████████████████████████████████████████████████▌                                                                   | 496/999 [00:14<00:14, 34.42it/s]"
     ]
    },
    {
     "name": "stderr",
     "output_type": "stream",
     "text": [
      "\r",
      " 50%|███████████████████████████████████████████████████████████████████                                                                   | 500/999 [00:14<00:14, 34.37it/s]"
     ]
    },
    {
     "name": "stderr",
     "output_type": "stream",
     "text": [
      "\r",
      " 50%|███████████████████████████████████████████████████████████████████▌                                                                  | 504/999 [00:14<00:14, 34.49it/s]"
     ]
    },
    {
     "name": "stderr",
     "output_type": "stream",
     "text": [
      "\r",
      " 51%|████████████████████████████████████████████████████████████████████▏                                                                 | 508/999 [00:14<00:14, 34.55it/s]"
     ]
    },
    {
     "name": "stderr",
     "output_type": "stream",
     "text": [
      "\r",
      " 51%|████████████████████████████████████████████████████████████████████▊                                                                 | 513/999 [00:14<00:12, 38.02it/s]"
     ]
    },
    {
     "name": "stderr",
     "output_type": "stream",
     "text": [
      "\r",
      " 52%|█████████████████████████████████████████████████████████████████████▎                                                                | 517/999 [00:14<00:13, 36.76it/s]"
     ]
    },
    {
     "name": "stderr",
     "output_type": "stream",
     "text": [
      "\r",
      " 52%|█████████████████████████████████████████████████████████████████████▉                                                                | 521/999 [00:14<00:13, 35.98it/s]"
     ]
    },
    {
     "name": "stderr",
     "output_type": "stream",
     "text": [
      "\r",
      " 53%|██████████████████████████████████████████████████████████████████████▍                                                               | 525/999 [00:15<00:13, 35.62it/s]"
     ]
    },
    {
     "name": "stderr",
     "output_type": "stream",
     "text": [
      "\r",
      " 53%|██████████████████████████████████████████████████████████████████████▉                                                               | 529/999 [00:15<00:13, 35.81it/s]"
     ]
    },
    {
     "name": "stderr",
     "output_type": "stream",
     "text": [
      "\r",
      " 53%|███████████████████████████████████████████████████████████████████████▍                                                              | 533/999 [00:15<00:13, 34.45it/s]"
     ]
    },
    {
     "name": "stderr",
     "output_type": "stream",
     "text": [
      "\r",
      " 54%|████████████████████████████████████████████████████████████████████████                                                              | 537/999 [00:15<00:13, 35.12it/s]"
     ]
    },
    {
     "name": "stderr",
     "output_type": "stream",
     "text": [
      "\r",
      " 54%|████████████████████████████████████████████████████████████████████████▌                                                             | 541/999 [00:15<00:12, 36.04it/s]"
     ]
    },
    {
     "name": "stderr",
     "output_type": "stream",
     "text": [
      "\r",
      " 55%|█████████████████████████████████████████████████████████████████████████                                                             | 545/999 [00:15<00:12, 35.19it/s]"
     ]
    },
    {
     "name": "stderr",
     "output_type": "stream",
     "text": [
      "\r",
      " 55%|█████████████████████████████████████████████████████████████████████████▋                                                            | 549/999 [00:15<00:12, 35.73it/s]"
     ]
    },
    {
     "name": "stderr",
     "output_type": "stream",
     "text": [
      "\r",
      " 55%|██████████████████████████████████████████████████████████████████████████▏                                                           | 553/999 [00:15<00:12, 35.95it/s]"
     ]
    },
    {
     "name": "stderr",
     "output_type": "stream",
     "text": [
      "\r",
      " 56%|██████████████████████████████████████████████████████████████████████████▋                                                           | 557/999 [00:15<00:12, 36.75it/s]"
     ]
    },
    {
     "name": "stderr",
     "output_type": "stream",
     "text": [
      "\r",
      " 56%|███████████████████████████████████████████████████████████████████████████▏                                                          | 561/999 [00:16<00:11, 37.29it/s]"
     ]
    },
    {
     "name": "stderr",
     "output_type": "stream",
     "text": [
      "\r",
      " 57%|███████████████████████████████████████████████████████████████████████████▊                                                          | 565/999 [00:16<00:11, 37.73it/s]"
     ]
    },
    {
     "name": "stderr",
     "output_type": "stream",
     "text": [
      "\r",
      " 57%|████████████████████████████████████████████████████████████████████████████▎                                                         | 569/999 [00:16<00:11, 38.04it/s]"
     ]
    },
    {
     "name": "stderr",
     "output_type": "stream",
     "text": [
      "\r",
      " 57%|████████████████████████████████████████████████████████████████████████████▊                                                         | 573/999 [00:16<00:11, 38.10it/s]"
     ]
    },
    {
     "name": "stderr",
     "output_type": "stream",
     "text": [
      "\r",
      " 58%|█████████████████████████████████████████████████████████████████████████████▍                                                        | 577/999 [00:16<00:14, 30.10it/s]"
     ]
    },
    {
     "name": "stderr",
     "output_type": "stream",
     "text": [
      "\r",
      " 58%|█████████████████████████████████████████████████████████████████████████████▉                                                        | 581/999 [00:16<00:13, 31.45it/s]"
     ]
    },
    {
     "name": "stderr",
     "output_type": "stream",
     "text": [
      "\r",
      " 59%|██████████████████████████████████████████████████████████████████████████████▍                                                       | 585/999 [00:16<00:12, 33.34it/s]"
     ]
    },
    {
     "name": "stderr",
     "output_type": "stream",
     "text": [
      "\r",
      " 59%|███████████████████████████████████████████████████████████████████████████████                                                       | 589/999 [00:16<00:11, 34.75it/s]"
     ]
    },
    {
     "name": "stderr",
     "output_type": "stream",
     "text": [
      "\r",
      " 59%|███████████████████████████████████████████████████████████████████████████████▋                                                      | 594/999 [00:17<00:10, 37.25it/s]"
     ]
    },
    {
     "name": "stderr",
     "output_type": "stream",
     "text": [
      "\r",
      " 60%|████████████████████████████████████████████████████████████████████████████████▍                                                     | 600/999 [00:17<00:09, 43.14it/s]"
     ]
    },
    {
     "name": "stderr",
     "output_type": "stream",
     "text": [
      "\r",
      " 61%|█████████████████████████████████████████████████████████████████████████████████▎                                                    | 606/999 [00:17<00:08, 47.31it/s]"
     ]
    },
    {
     "name": "stderr",
     "output_type": "stream",
     "text": [
      "\r",
      " 61%|█████████████████████████████████████████████████████████████████████████████████▉                                                    | 611/999 [00:17<00:09, 42.51it/s]"
     ]
    },
    {
     "name": "stderr",
     "output_type": "stream",
     "text": [
      "\r",
      " 62%|██████████████████████████████████████████████████████████████████████████████████▋                                                   | 616/999 [00:17<00:09, 39.82it/s]"
     ]
    },
    {
     "name": "stderr",
     "output_type": "stream",
     "text": [
      "\r",
      " 62%|███████████████████████████████████████████████████████████████████████████████████▎                                                  | 621/999 [00:17<00:09, 38.53it/s]"
     ]
    },
    {
     "name": "stderr",
     "output_type": "stream",
     "text": [
      "\r",
      " 63%|███████████████████████████████████████████████████████████████████████████████████▊                                                  | 625/999 [00:17<00:09, 37.98it/s]"
     ]
    },
    {
     "name": "stderr",
     "output_type": "stream",
     "text": [
      "\r",
      " 63%|████████████████████████████████████████████████████████████████████████████████████▌                                                 | 630/999 [00:17<00:09, 39.63it/s]"
     ]
    },
    {
     "name": "stderr",
     "output_type": "stream",
     "text": [
      "\r",
      " 64%|█████████████████████████████████████████████████████████████████████████████████████▎                                                | 636/999 [00:17<00:08, 44.88it/s]"
     ]
    },
    {
     "name": "stderr",
     "output_type": "stream",
     "text": [
      "\r",
      " 64%|█████████████████████████████████████████████████████████████████████████████████████▉                                                | 641/999 [00:18<00:08, 41.39it/s]"
     ]
    },
    {
     "name": "stderr",
     "output_type": "stream",
     "text": [
      "\r",
      " 65%|██████████████████████████████████████████████████████████████████████████████████████▋                                               | 646/999 [00:18<00:09, 39.18it/s]"
     ]
    },
    {
     "name": "stderr",
     "output_type": "stream",
     "text": [
      "\r",
      " 65%|███████████████████████████████████████████████████████████████████████████████████████▎                                              | 651/999 [00:18<00:09, 37.77it/s]"
     ]
    },
    {
     "name": "stderr",
     "output_type": "stream",
     "text": [
      "\r",
      " 66%|███████████████████████████████████████████████████████████████████████████████████████▊                                              | 655/999 [00:18<00:09, 36.73it/s]"
     ]
    },
    {
     "name": "stderr",
     "output_type": "stream",
     "text": [
      "\r",
      " 66%|████████████████████████████████████████████████████████████████████████████████████████▍                                             | 659/999 [00:18<00:10, 31.41it/s]"
     ]
    },
    {
     "name": "stderr",
     "output_type": "stream",
     "text": [
      "\r",
      " 66%|████████████████████████████████████████████████████████████████████████████████████████▉                                             | 663/999 [00:18<00:10, 32.10it/s]"
     ]
    },
    {
     "name": "stderr",
     "output_type": "stream",
     "text": [
      "\r",
      " 67%|█████████████████████████████████████████████████████████████████████████████████████████▌                                            | 668/999 [00:18<00:09, 34.93it/s]"
     ]
    },
    {
     "name": "stderr",
     "output_type": "stream",
     "text": [
      "\r",
      " 67%|██████████████████████████████████████████████████████████████████████████████████████████▍                                           | 674/999 [00:19<00:08, 40.39it/s]"
     ]
    },
    {
     "name": "stderr",
     "output_type": "stream",
     "text": [
      "\r",
      " 68%|███████████████████████████████████████████████████████████████████████████████████████████▏                                          | 680/999 [00:19<00:07, 45.33it/s]"
     ]
    },
    {
     "name": "stderr",
     "output_type": "stream",
     "text": [
      "\r",
      " 69%|████████████████████████████████████████████████████████████████████████████████████████████                                          | 686/999 [00:19<00:06, 48.92it/s]"
     ]
    },
    {
     "name": "stderr",
     "output_type": "stream",
     "text": [
      "\r",
      " 69%|████████████████████████████████████████████████████████████████████████████████████████████▊                                         | 692/999 [00:19<00:07, 42.86it/s]"
     ]
    },
    {
     "name": "stderr",
     "output_type": "stream",
     "text": [
      "\r",
      " 70%|█████████████████████████████████████████████████████████████████████████████████████████████▍                                        | 697/999 [00:19<00:07, 40.38it/s]"
     ]
    },
    {
     "name": "stderr",
     "output_type": "stream",
     "text": [
      "\r",
      " 70%|██████████████████████████████████████████████████████████████████████████████████████████████▏                                       | 702/999 [00:19<00:07, 38.56it/s]"
     ]
    },
    {
     "name": "stderr",
     "output_type": "stream",
     "text": [
      "\r",
      " 71%|██████████████████████████████████████████████████████████████████████████████████████████████▊                                       | 707/999 [00:19<00:07, 37.43it/s]"
     ]
    },
    {
     "name": "stderr",
     "output_type": "stream",
     "text": [
      "\r",
      " 71%|███████████████████████████████████████████████████████████████████████████████████████████████▎                                      | 711/999 [00:19<00:07, 36.65it/s]"
     ]
    },
    {
     "name": "stderr",
     "output_type": "stream",
     "text": [
      "\r",
      " 72%|███████████████████████████████████████████████████████████████████████████████████████████████▉                                      | 715/999 [00:20<00:07, 36.23it/s]"
     ]
    },
    {
     "name": "stderr",
     "output_type": "stream",
     "text": [
      "\r",
      " 72%|████████████████████████████████████████████████████████████████████████████████████████████████▍                                     | 719/999 [00:20<00:07, 35.73it/s]"
     ]
    },
    {
     "name": "stderr",
     "output_type": "stream",
     "text": [
      "\r",
      " 72%|█████████████████████████████████████████████████████████████████████████████████████████████████                                     | 724/999 [00:20<00:06, 39.34it/s]"
     ]
    },
    {
     "name": "stderr",
     "output_type": "stream",
     "text": [
      "\r",
      " 73%|█████████████████████████████████████████████████████████████████████████████████████████████████▉                                    | 730/999 [00:20<00:06, 43.07it/s]"
     ]
    },
    {
     "name": "stderr",
     "output_type": "stream",
     "text": [
      "\r",
      " 74%|██████████████████████████████████████████████████████████████████████████████████████████████████▌                                   | 735/999 [00:20<00:05, 44.52it/s]"
     ]
    },
    {
     "name": "stderr",
     "output_type": "stream",
     "text": [
      "\r",
      " 74%|███████████████████████████████████████████████████████████████████████████████████████████████████▎                                  | 740/999 [00:20<00:06, 40.68it/s]"
     ]
    },
    {
     "name": "stderr",
     "output_type": "stream",
     "text": [
      "\r",
      " 75%|███████████████████████████████████████████████████████████████████████████████████████████████████▉                                  | 745/999 [00:20<00:06, 36.82it/s]"
     ]
    },
    {
     "name": "stderr",
     "output_type": "stream",
     "text": [
      "\r",
      " 75%|████████████████████████████████████████████████████████████████████████████████████████████████████▍                                 | 749/999 [00:20<00:06, 37.22it/s]"
     ]
    },
    {
     "name": "stderr",
     "output_type": "stream",
     "text": [
      "\r",
      " 75%|█████████████████████████████████████████████████████████████████████████████████████████████████████                                 | 753/999 [00:21<00:06, 37.55it/s]"
     ]
    },
    {
     "name": "stderr",
     "output_type": "stream",
     "text": [
      "\r",
      " 76%|█████████████████████████████████████████████████████████████████████████████████████████████████████▌                                | 757/999 [00:21<00:06, 37.30it/s]"
     ]
    },
    {
     "name": "stderr",
     "output_type": "stream",
     "text": [
      "\r",
      " 76%|██████████████████████████████████████████████████████████████████████████████████████████████████████                                | 761/999 [00:21<00:06, 36.30it/s]"
     ]
    },
    {
     "name": "stderr",
     "output_type": "stream",
     "text": [
      "\r",
      " 77%|██████████████████████████████████████████████████████████████████████████████████████████████████████▌                               | 765/999 [00:21<00:06, 35.53it/s]"
     ]
    },
    {
     "name": "stderr",
     "output_type": "stream",
     "text": [
      "\r",
      " 77%|███████████████████████████████████████████████████████████████████████████████████████████████████████▏                              | 769/999 [00:21<00:06, 35.27it/s]"
     ]
    },
    {
     "name": "stderr",
     "output_type": "stream",
     "text": [
      "\r",
      " 77%|███████████████████████████████████████████████████████████████████████████████████████████████████████▋                              | 773/999 [00:21<00:06, 35.64it/s]"
     ]
    },
    {
     "name": "stderr",
     "output_type": "stream",
     "text": [
      "\r",
      " 78%|████████████████████████████████████████████████████████████████████████████████████████████████████████▏                             | 777/999 [00:21<00:06, 34.76it/s]"
     ]
    },
    {
     "name": "stderr",
     "output_type": "stream",
     "text": [
      "\r",
      " 78%|████████████████████████████████████████████████████████████████████████████████████████████████████████▊                             | 781/999 [00:21<00:06, 34.58it/s]"
     ]
    },
    {
     "name": "stderr",
     "output_type": "stream",
     "text": [
      "\r",
      " 79%|█████████████████████████████████████████████████████████████████████████████████████████████████████████▎                            | 785/999 [00:21<00:06, 34.69it/s]"
     ]
    },
    {
     "name": "stderr",
     "output_type": "stream",
     "text": [
      "\r",
      " 79%|█████████████████████████████████████████████████████████████████████████████████████████████████████████▊                            | 789/999 [00:22<00:05, 35.50it/s]"
     ]
    },
    {
     "name": "stderr",
     "output_type": "stream",
     "text": [
      "\r",
      " 79%|██████████████████████████████████████████████████████████████████████████████████████████████████████████▎                           | 793/999 [00:22<00:06, 29.66it/s]"
     ]
    },
    {
     "name": "stderr",
     "output_type": "stream",
     "text": [
      "\r",
      " 80%|███████████████████████████████████████████████████████████████████████████████████████████████████████████                           | 798/999 [00:22<00:06, 33.14it/s]"
     ]
    },
    {
     "name": "stderr",
     "output_type": "stream",
     "text": [
      "\r",
      " 80%|███████████████████████████████████████████████████████████████████████████████████████████████████████████▌                          | 802/999 [00:22<00:05, 34.59it/s]"
     ]
    },
    {
     "name": "stderr",
     "output_type": "stream",
     "text": [
      "\r",
      " 81%|████████████████████████████████████████████████████████████████████████████████████████████████████████████                          | 806/999 [00:22<00:05, 35.49it/s]"
     ]
    },
    {
     "name": "stderr",
     "output_type": "stream",
     "text": [
      "\r",
      " 81%|████████████████████████████████████████████████████████████████████████████████████████████████████████████▋                         | 810/999 [00:22<00:05, 36.29it/s]"
     ]
    },
    {
     "name": "stderr",
     "output_type": "stream",
     "text": [
      "\r",
      " 81%|█████████████████████████████████████████████████████████████████████████████████████████████████████████████▏                        | 814/999 [00:22<00:05, 36.82it/s]"
     ]
    },
    {
     "name": "stderr",
     "output_type": "stream",
     "text": [
      "\r",
      " 82%|█████████████████████████████████████████████████████████████████████████████████████████████████████████████▋                        | 818/999 [00:22<00:05, 35.77it/s]"
     ]
    },
    {
     "name": "stderr",
     "output_type": "stream",
     "text": [
      "\r",
      " 82%|██████████████████████████████████████████████████████████████████████████████████████████████████████████████▎                       | 822/999 [00:23<00:04, 35.75it/s]"
     ]
    },
    {
     "name": "stderr",
     "output_type": "stream",
     "text": [
      "\r",
      " 83%|██████████████████████████████████████████████████████████████████████████████████████████████████████████████▊                       | 826/999 [00:23<00:04, 36.04it/s]"
     ]
    },
    {
     "name": "stderr",
     "output_type": "stream",
     "text": [
      "\r",
      " 83%|███████████████████████████████████████████████████████████████████████████████████████████████████████████████▎                      | 830/999 [00:23<00:04, 35.97it/s]"
     ]
    },
    {
     "name": "stderr",
     "output_type": "stream",
     "text": [
      "\r",
      " 83%|███████████████████████████████████████████████████████████████████████████████████████████████████████████████▊                      | 834/999 [00:23<00:04, 36.20it/s]"
     ]
    },
    {
     "name": "stderr",
     "output_type": "stream",
     "text": [
      "\r",
      " 84%|████████████████████████████████████████████████████████████████████████████████████████████████████████████████▍                     | 838/999 [00:23<00:04, 36.26it/s]"
     ]
    },
    {
     "name": "stderr",
     "output_type": "stream",
     "text": [
      "\r",
      " 84%|████████████████████████████████████████████████████████████████████████████████████████████████████████████████▉                     | 842/999 [00:23<00:04, 35.81it/s]"
     ]
    },
    {
     "name": "stderr",
     "output_type": "stream",
     "text": [
      "\r",
      " 85%|█████████████████████████████████████████████████████████████████████████████████████████████████████████████████▍                    | 846/999 [00:23<00:04, 35.91it/s]"
     ]
    },
    {
     "name": "stderr",
     "output_type": "stream",
     "text": [
      "\r",
      " 85%|██████████████████████████████████████████████████████████████████████████████████████████████████████████████████                    | 850/999 [00:23<00:04, 36.00it/s]"
     ]
    },
    {
     "name": "stderr",
     "output_type": "stream",
     "text": [
      "\r",
      " 85%|██████████████████████████████████████████████████████████████████████████████████████████████████████████████████▌                   | 854/999 [00:23<00:04, 35.50it/s]"
     ]
    },
    {
     "name": "stderr",
     "output_type": "stream",
     "text": [
      "\r",
      " 86%|███████████████████████████████████████████████████████████████████████████████████████████████████████████████████                   | 858/999 [00:24<00:04, 34.95it/s]"
     ]
    },
    {
     "name": "stderr",
     "output_type": "stream",
     "text": [
      "\r",
      " 86%|███████████████████████████████████████████████████████████████████████████████████████████████████████████████████▉                  | 864/999 [00:24<00:03, 39.99it/s]"
     ]
    },
    {
     "name": "stderr",
     "output_type": "stream",
     "text": [
      "\r",
      " 87%|████████████████████████████████████████████████████████████████████████████████████████████████████████████████████▋                 | 870/999 [00:24<00:02, 43.33it/s]"
     ]
    },
    {
     "name": "stderr",
     "output_type": "stream",
     "text": [
      "\r",
      " 88%|█████████████████████████████████████████████████████████████████████████████████████████████████████████████████████▎                | 875/999 [00:24<00:02, 42.01it/s]"
     ]
    },
    {
     "name": "stderr",
     "output_type": "stream",
     "text": [
      "\r",
      " 88%|██████████████████████████████████████████████████████████████████████████████████████████████████████████████████████                | 880/999 [00:24<00:02, 41.05it/s]"
     ]
    },
    {
     "name": "stderr",
     "output_type": "stream",
     "text": [
      "\r",
      " 89%|██████████████████████████████████████████████████████████████████████████████████████████████████████████████████████▋               | 885/999 [00:24<00:02, 39.49it/s]"
     ]
    },
    {
     "name": "stderr",
     "output_type": "stream",
     "text": [
      "\r",
      " 89%|███████████████████████████████████████████████████████████████████████████████████████████████████████████████████████▏              | 889/999 [00:24<00:02, 38.52it/s]"
     ]
    },
    {
     "name": "stderr",
     "output_type": "stream",
     "text": [
      "\r",
      " 89%|███████████████████████████████████████████████████████████████████████████████████████████████████████████████████████▊              | 893/999 [00:24<00:02, 37.24it/s]"
     ]
    },
    {
     "name": "stderr",
     "output_type": "stream",
     "text": [
      "\r",
      " 90%|████████████████████████████████████████████████████████████████████████████████████████████████████████████████████████▎             | 897/999 [00:25<00:02, 36.49it/s]"
     ]
    },
    {
     "name": "stderr",
     "output_type": "stream",
     "text": [
      "\r",
      " 90%|████████████████████████████████████████████████████████████████████████████████████████████████████████████████████████▊             | 901/999 [00:25<00:02, 35.79it/s]"
     ]
    },
    {
     "name": "stderr",
     "output_type": "stream",
     "text": [
      "\r",
      " 91%|█████████████████████████████████████████████████████████████████████████████████████████████████████████████████████████▍            | 905/999 [00:25<00:02, 35.44it/s]"
     ]
    },
    {
     "name": "stderr",
     "output_type": "stream",
     "text": [
      "\r",
      " 91%|█████████████████████████████████████████████████████████████████████████████████████████████████████████████████████████▉            | 909/999 [00:25<00:02, 35.42it/s]"
     ]
    },
    {
     "name": "stderr",
     "output_type": "stream",
     "text": [
      "\r",
      " 91%|██████████████████████████████████████████████████████████████████████████████████████████████████████████████████████████▍           | 913/999 [00:25<00:02, 35.29it/s]"
     ]
    },
    {
     "name": "stderr",
     "output_type": "stream",
     "text": [
      "\r",
      " 92%|███████████████████████████████████████████████████████████████████████████████████████████████████████████████████████████           | 917/999 [00:25<00:02, 35.09it/s]"
     ]
    },
    {
     "name": "stderr",
     "output_type": "stream",
     "text": [
      "\r",
      " 92%|███████████████████████████████████████████████████████████████████████████████████████████████████████████████████████████▌          | 921/999 [00:25<00:02, 31.39it/s]"
     ]
    },
    {
     "name": "stderr",
     "output_type": "stream",
     "text": [
      "\r",
      " 93%|████████████████████████████████████████████████████████████████████████████████████████████████████████████████████████████          | 925/999 [00:25<00:02, 31.64it/s]"
     ]
    },
    {
     "name": "stderr",
     "output_type": "stream",
     "text": [
      "\r",
      " 93%|████████████████████████████████████████████████████████████████████████████████████████████████████████████████████████████▌         | 929/999 [00:25<00:02, 33.46it/s]"
     ]
    },
    {
     "name": "stderr",
     "output_type": "stream",
     "text": [
      "\r",
      " 93%|█████████████████████████████████████████████████████████████████████████████████████████████████████████████████████████████▏        | 933/999 [00:26<00:01, 34.72it/s]"
     ]
    },
    {
     "name": "stderr",
     "output_type": "stream",
     "text": [
      "\r",
      " 94%|█████████████████████████████████████████████████████████████████████████████████████████████████████████████████████████████▋        | 937/999 [00:26<00:01, 35.78it/s]"
     ]
    },
    {
     "name": "stderr",
     "output_type": "stream",
     "text": [
      "\r",
      " 94%|██████████████████████████████████████████████████████████████████████████████████████████████████████████████████████████████▏       | 941/999 [00:26<00:01, 35.07it/s]"
     ]
    },
    {
     "name": "stderr",
     "output_type": "stream",
     "text": [
      "\r",
      " 95%|██████████████████████████████████████████████████████████████████████████████████████████████████████████████████████████████▊       | 945/999 [00:26<00:01, 34.48it/s]"
     ]
    },
    {
     "name": "stderr",
     "output_type": "stream",
     "text": [
      "\r",
      " 95%|███████████████████████████████████████████████████████████████████████████████████████████████████████████████████████████████▎      | 949/999 [00:26<00:01, 35.61it/s]"
     ]
    },
    {
     "name": "stderr",
     "output_type": "stream",
     "text": [
      "\r",
      " 95%|███████████████████████████████████████████████████████████████████████████████████████████████████████████████████████████████▊      | 953/999 [00:26<00:01, 36.47it/s]"
     ]
    },
    {
     "name": "stderr",
     "output_type": "stream",
     "text": [
      "\r",
      " 96%|████████████████████████████████████████████████████████████████████████████████████████████████████████████████████████████████▎     | 957/999 [00:26<00:01, 37.07it/s]"
     ]
    },
    {
     "name": "stderr",
     "output_type": "stream",
     "text": [
      "\r",
      " 96%|████████████████████████████████████████████████████████████████████████████████████████████████████████████████████████████████▉     | 961/999 [00:26<00:01, 35.94it/s]"
     ]
    },
    {
     "name": "stderr",
     "output_type": "stream",
     "text": [
      "\r",
      " 97%|█████████████████████████████████████████████████████████████████████████████████████████████████████████████████████████████████▍    | 965/999 [00:26<00:00, 35.99it/s]"
     ]
    },
    {
     "name": "stderr",
     "output_type": "stream",
     "text": [
      "\r",
      " 97%|██████████████████████████████████████████████████████████████████████████████████████████████████████████████████████████████████    | 970/999 [00:27<00:00, 37.19it/s]"
     ]
    },
    {
     "name": "stderr",
     "output_type": "stream",
     "text": [
      "\r",
      " 98%|██████████████████████████████████████████████████████████████████████████████████████████████████████████████████████████████████▉   | 976/999 [00:27<00:00, 42.89it/s]"
     ]
    },
    {
     "name": "stderr",
     "output_type": "stream",
     "text": [
      "\r",
      " 98%|███████████████████████████████████████████████████████████████████████████████████████████████████████████████████████████████████▌  | 981/999 [00:27<00:00, 38.66it/s]"
     ]
    },
    {
     "name": "stderr",
     "output_type": "stream",
     "text": [
      "\r",
      " 99%|████████████████████████████████████████████████████████████████████████████████████████████████████████████████████████████████████  | 985/999 [00:27<00:00, 37.48it/s]"
     ]
    },
    {
     "name": "stderr",
     "output_type": "stream",
     "text": [
      "\r",
      " 99%|████████████████████████████████████████████████████████████████████████████████████████████████████████████████████████████████████▋ | 989/999 [00:27<00:00, 36.57it/s]"
     ]
    },
    {
     "name": "stderr",
     "output_type": "stream",
     "text": [
      "\r",
      " 99%|█████████████████████████████████████████████████████████████████████████████████████████████████████████████████████████████████████▏| 993/999 [00:27<00:00, 35.76it/s]"
     ]
    },
    {
     "name": "stderr",
     "output_type": "stream",
     "text": [
      "\r",
      "100%|█████████████████████████████████████████████████████████████████████████████████████████████████████████████████████████████████████▋| 997/999 [00:27<00:00, 35.28it/s]"
     ]
    },
    {
     "name": "stderr",
     "output_type": "stream",
     "text": [
      "\r",
      "100%|██████████████████████████████████████████████████████████████████████████████████████████████████████████████████████████████████████| 999/999 [00:27<00:00, 35.83it/s]"
     ]
    },
    {
     "name": "stderr",
     "output_type": "stream",
     "text": [
      "\n"
     ]
    }
   ],
   "source": [
    "for ii in tqdm(range(1,num_saving_steps)):\n",
    "    context.getIntegrator().step(saving_steps)\n",
    "    state_xx = context.getState(getEnergy=True, getPositions=True, getVelocities=True)\n",
    "    times[ii] = state_xx.getTime()\n",
    "    positions[ii] = state_xx.getPositions()[0]\n",
    "    velocities[ii] = state_xx.getVelocities()[0]\n",
    "    kinetic_energies[ii]=state_xx.getKineticEnergy()\n",
    "    potential_energies[ii]=state_xx.getPotentialEnergy()"
   ]
  },
  {
   "cell_type": "code",
   "execution_count": 16,
   "id": "6f0c68d0-3191-4266-b338-789328039407",
   "metadata": {
    "execution": {
     "iopub.execute_input": "2025-03-11T21:05:43.924536Z",
     "iopub.status.busy": "2025-03-11T21:05:43.924127Z",
     "iopub.status.idle": "2025-03-11T21:05:44.209476Z",
     "shell.execute_reply": "2025-03-11T21:05:44.208461Z"
    }
   },
   "outputs": [
    {
     "data": {
      "image/png": "[encoded data removed]",
      "text/plain": [
       "<Figure size 640x480 with 1 Axes>"
      ]
     },
     "metadata": {},
     "output_type": "display_data"
    }
   ],
   "source": [
    "plt.plot(times, positions[:,0])\n",
    "plt.axhline(y=2.25, color='red', linestyle='-')\n",
    "plt.axhline(y=1.75, color='red', linestyle='-')\n",
    "plt.show()"
   ]
  },
  {
   "cell_type": "code",
   "execution_count": 17,
   "id": "1466d618-4631-4c65-aba3-c55cf31af44b",
   "metadata": {
    "execution": {
     "iopub.execute_input": "2025-03-11T21:05:44.213114Z",
     "iopub.status.busy": "2025-03-11T21:05:44.212556Z",
     "iopub.status.idle": "2025-03-11T21:05:44.410049Z",
     "shell.execute_reply": "2025-03-11T21:05:44.409103Z"
    }
   },
   "outputs": [
    {
     "data": {
      "image/png": "[encoded data removed]",
      "text/plain": [
       "<Figure size 640x480 with 1 Axes>"
      ]
     },
     "metadata": {},
     "output_type": "display_data"
    }
   ],
   "source": [
    "plt.plot(times, positions[:,1])\n",
    "plt.plot(times, positions[:,2])\n",
    "plt.show()"
   ]
  },
  {
   "cell_type": "code",
   "execution_count": null,
   "id": "436041a6-60b0-4724-888b-7aedcd1b93ce",
   "metadata": {},
   "outputs": [],
   "source": []
  }
 ],
 "metadata": {
  "kernelspec": {
   "display_name": "Python 3 (ipykernel)",
   "language": "python",
   "name": "python3"
  },
  "language_info": {
   "codemirror_mode": {
    "name": "ipython",
    "version": 3
   },
   "file_extension": ".py",
   "mimetype": "text/x-python",
   "name": "python",
   "nbconvert_exporter": "python",
   "pygments_lexer": "ipython3",
   "version": "3.12.8"
  },
  "widgets": {
   "application/vnd.jupyter.widget-state+json": {
    "state": {
     "76f4267faf30419a8397327ff46b632e": {
      "model_module": "nglview-js-widgets",
      "model_module_version": "3.1.4",
      "model_name": "ColormakerRegistryModel",
      "state": {
       "_dom_classes": [],
       "_model_module": "nglview-js-widgets",
       "_model_module_version": "3.1.4",
       "_model_name": "ColormakerRegistryModel",
       "_msg_ar": [],
       "_msg_q": [],
       "_ready": false,
       "_view_count": null,
       "_view_module": "nglview-js-widgets",
       "_view_module_version": "3.1.4",
       "_view_name": "ColormakerRegistryView",
       "layout": "IPY_MODEL_d6f512ebaeb04c81a4a2d31b0ab34df5",
       "tabbable": null,
       "tooltip": null
      }
     },
     "d6f512ebaeb04c81a4a2d31b0ab34df5": {
      "model_module": "@jupyter-widgets/base",
      "model_module_version": "2.0.0",
      "model_name": "LayoutModel",
      "state": {
       "_model_module": "@jupyter-widgets/base",
       "_model_module_version": "2.0.0",
       "_model_name": "LayoutModel",
       "_view_count": null,
       "_view_module": "@jupyter-widgets/base",
       "_view_module_version": "2.0.0",
       "_view_name": "LayoutView",
       "align_content": null,
       "align_items": null,
       "align_self": null,
       "border_bottom": null,
       "border_left": null,
       "border_right": null,
       "border_top": null,
       "bottom": null,
       "display": null,
       "flex": null,
       "flex_flow": null,
       "grid_area": null,
       "grid_auto_columns": null,
       "grid_auto_flow": null,
       "grid_auto_rows": null,
       "grid_column": null,
       "grid_gap": null,
       "grid_row": null,
       "grid_template_areas": null,
       "grid_template_columns": null,
       "grid_template_rows": null,
       "height": null,
       "justify_content": null,
       "justify_items": null,
       "left": null,
       "margin": null,
       "max_height": null,
       "max_width": null,
       "min_height": null,
       "min_width": null,
       "object_fit": null,
       "object_position": null,
       "order": null,
       "overflow": null,
       "padding": null,
       "right": null,
       "top": null,
       "visibility": null,
       "width": null
      }
     }
    },
    "version_major": 2,
    "version_minor": 0
   }
  }
 },
 "nbformat": 4,
 "nbformat_minor": 5
}
