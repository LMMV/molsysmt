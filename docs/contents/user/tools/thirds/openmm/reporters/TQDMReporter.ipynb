{
 "cells": [
  {
   "cell_type": "code",
   "execution_count": 1,
   "id": "3b22d893-0ae8-49d3-b00a-c52833e84e98",
   "metadata": {
    "execution": {
     "iopub.execute_input": "2025-03-11T21:04:43.907860Z",
     "iopub.status.busy": "2025-03-11T21:04:43.907419Z",
     "iopub.status.idle": "2025-03-11T21:04:52.852235Z",
     "shell.execute_reply": "2025-03-11T21:04:52.851429Z"
    }
   },
   "outputs": [
    {
     "data": {
      "application/vnd.jupyter.widget-view+json": {
       "model_id": "32bfe5c2e29340bab0a62eb0e685c760",
       "version_major": 2,
       "version_minor": 0
      },
      "text/plain": []
     },
     "metadata": {},
     "output_type": "display_data"
    }
   ],
   "source": [
    "import molsysmt as msm\n",
    "from molsysmt import pyunitwizard as puw\n",
    "import numpy as np\n",
    "\n",
    "import openmm as mm\n",
    "from openmm import app\n",
    "from openmm import unit"
   ]
  },
  {
   "cell_type": "code",
   "execution_count": 2,
   "id": "22b111e7-eded-4cab-a0be-eefa57719644",
   "metadata": {
    "execution": {
     "iopub.execute_input": "2025-03-11T21:04:52.855877Z",
     "iopub.status.busy": "2025-03-11T21:04:52.855178Z",
     "iopub.status.idle": "2025-03-11T21:04:52.858806Z",
     "shell.execute_reply": "2025-03-11T21:04:52.858154Z"
    }
   },
   "outputs": [],
   "source": [
    "#import os\n",
    "#from sys import stdout\n",
    "#from mdtraj.reporters import HDF5Reporter\n",
    "#from pathlib import Path\n",
    "#import shutil"
   ]
  },
  {
   "cell_type": "code",
   "execution_count": 3,
   "id": "f9bd614b-0ce6-4933-9513-526bcef747e7",
   "metadata": {
    "execution": {
     "iopub.execute_input": "2025-03-11T21:04:52.862150Z",
     "iopub.status.busy": "2025-03-11T21:04:52.861392Z",
     "iopub.status.idle": "2025-03-11T21:04:55.553023Z",
     "shell.execute_reply": "2025-03-11T21:04:55.551987Z"
    }
   },
   "outputs": [],
   "source": [
    "modeller = msm.convert(msm.systems['Trp-Cage']['1l2y.h5msm'], to_form='openmm.Modeller', structure_indices=0)\n",
    "forcefield = app.ForceField(\"amber14-all.xml\", \"amber14/tip3p.xml\")\n",
    "system = forcefield.createSystem(modeller.topology, nonbondedMethod=app.NoCutoff, constraints=app.HBonds)\n",
    "integrator = mm.LangevinIntegrator(300*unit.kelvin, 1.0/unit.picosecond, 2.0*unit.femtoseconds)\n",
    "platform = mm.Platform.getPlatformByName('CPU')\n",
    "simulation = app.Simulation(modeller.topology, system, integrator, platform)\n",
    "simulation.context.setPositions(modeller.positions)\n",
    "simulation.minimizeEnergy()\n",
    "simulation.context.setVelocitiesToTemperature(300*unit.kelvin)"
   ]
  },
  {
   "cell_type": "code",
   "execution_count": 4,
   "id": "52ab45e1-a792-477d-913e-48b83a1cf391",
   "metadata": {
    "execution": {
     "iopub.execute_input": "2025-03-11T21:04:55.557559Z",
     "iopub.status.busy": "2025-03-11T21:04:55.556788Z",
     "iopub.status.idle": "2025-03-11T21:04:55.561736Z",
     "shell.execute_reply": "2025-03-11T21:04:55.560780Z"
    }
   },
   "outputs": [],
   "source": [
    "tqdm_reporter = msm.thirds.openmm.reporters.TQDMReporter(100,1000)"
   ]
  },
  {
   "cell_type": "code",
   "execution_count": 5,
   "id": "bff1c777-5dc0-4e37-843f-44b92d7f4bfc",
   "metadata": {
    "execution": {
     "iopub.execute_input": "2025-03-11T21:04:55.566395Z",
     "iopub.status.busy": "2025-03-11T21:04:55.565904Z",
     "iopub.status.idle": "2025-03-11T21:04:55.570472Z",
     "shell.execute_reply": "2025-03-11T21:04:55.569606Z"
    }
   },
   "outputs": [],
   "source": [
    "simulation.reporters.append(tqdm_reporter)"
   ]
  },
  {
   "cell_type": "code",
   "execution_count": 6,
   "id": "eed90624-925e-4f35-8f86-d0250f953315",
   "metadata": {
    "execution": {
     "iopub.execute_input": "2025-03-11T21:04:55.574330Z",
     "iopub.status.busy": "2025-03-11T21:04:55.573727Z",
     "iopub.status.idle": "2025-03-11T21:04:58.014842Z",
     "shell.execute_reply": "2025-03-11T21:04:58.013610Z"
    }
   },
   "outputs": [
    {
     "data": {
      "application/vnd.jupyter.widget-view+json": {
       "model_id": "b7a409d3b3434986990e59e0d90361c2",
       "version_major": 2,
       "version_minor": 0
      },
      "text/plain": [
       "  0%|          | 0/1000 [00:00<?, ?it/s]"
      ]
     },
     "metadata": {},
     "output_type": "display_data"
    },
    {
     "name": "stdout",
     "output_type": "stream",
     "text": [
      "\n",
      "Potential energy: -1434.68 kJ/mol ± 240.40 kJ/mol\n",
      "Temperature: 245.88 K ± 35.00 K\n",
      "\n",
      "Execution time: 0 days, 0 hours, 0 minutes, and 2.43 seconds (70.977 ns/day).\n",
      "\n"
     ]
    }
   ],
   "source": [
    "simulation.step(1000)"
   ]
  },
  {
   "cell_type": "code",
   "execution_count": 7,
   "id": "fb7b465b-a250-45c1-be53-2809bb281976",
   "metadata": {
    "execution": {
     "iopub.execute_input": "2025-03-11T21:04:58.019481Z",
     "iopub.status.busy": "2025-03-11T21:04:58.018603Z",
     "iopub.status.idle": "2025-03-11T21:04:58.029045Z",
     "shell.execute_reply": "2025-03-11T21:04:58.027278Z"
    }
   },
   "outputs": [
    {
     "data": {
      "text/plain": [
       "11"
      ]
     },
     "execution_count": 7,
     "metadata": {},
     "output_type": "execute_result"
    }
   ],
   "source": [
    "tqdm_reporter._iters"
   ]
  },
  {
   "cell_type": "code",
   "execution_count": 8,
   "id": "43fcb116-6308-4b06-9bba-7bb068b7c827",
   "metadata": {
    "execution": {
     "iopub.execute_input": "2025-03-11T21:04:58.033218Z",
     "iopub.status.busy": "2025-03-11T21:04:58.032788Z",
     "iopub.status.idle": "2025-03-11T21:04:58.041840Z",
     "shell.execute_reply": "2025-03-11T21:04:58.040844Z"
    }
   },
   "outputs": [
    {
     "data": {
      "text/plain": [
       "Quantity(value=2.0000000000000013, unit=picosecond)"
      ]
     },
     "execution_count": 8,
     "metadata": {},
     "output_type": "execute_result"
    }
   ],
   "source": [
    "tqdm_reporter._end_md_time"
   ]
  },
  {
   "cell_type": "code",
   "execution_count": null,
   "id": "88d28659-93a5-46cf-8751-faf99cdbefd9",
   "metadata": {},
   "outputs": [],
   "source": []
  }
 ],
 "metadata": {
  "kernelspec": {
   "display_name": "Python 3 (ipykernel)",
   "language": "python",
   "name": "python3"
  },
  "language_info": {
   "codemirror_mode": {
    "name": "ipython",
    "version": 3
   },
   "file_extension": ".py",
   "mimetype": "text/x-python",
   "name": "python",
   "nbconvert_exporter": "python",
   "pygments_lexer": "ipython3",
   "version": "3.12.8"
  },
  "widgets": {
   "application/vnd.jupyter.widget-state+json": {
    "state": {
     "00ad1189e3a046139ab30fb13c932a3b": {
      "model_module": "@jupyter-widgets/base",
      "model_module_version": "2.0.0",
      "model_name": "LayoutModel",
      "state": {
       "_model_module": "@jupyter-widgets/base",
       "_model_module_version": "2.0.0",
       "_model_name": "LayoutModel",
       "_view_count": null,
       "_view_module": "@jupyter-widgets/base",
       "_view_module_version": "2.0.0",
       "_view_name": "LayoutView",
       "align_content": null,
       "align_items": null,
       "align_self": null,
       "border_bottom": null,
       "border_left": null,
       "border_right": null,
       "border_top": null,
       "bottom": null,
       "display": null,
       "flex": null,
       "flex_flow": null,
       "grid_area": null,
       "grid_auto_columns": null,
       "grid_auto_flow": null,
       "grid_auto_rows": null,
       "grid_column": null,
       "grid_gap": null,
       "grid_row": null,
       "grid_template_areas": null,
       "grid_template_columns": null,
       "grid_template_rows": null,
       "height": null,
       "justify_content": null,
       "justify_items": null,
       "left": null,
       "margin": null,
       "max_height": null,
       "max_width": null,
       "min_height": null,
       "min_width": null,
       "object_fit": null,
       "object_position": null,
       "order": null,
       "overflow": null,
       "padding": null,
       "right": null,
       "top": null,
       "visibility": null,
       "width": null
      }
     },
     "051d101f5c354d4899d1061f1ea91728": {
      "model_module": "@jupyter-widgets/controls",
      "model_module_version": "2.0.0",
      "model_name": "HTMLStyleModel",
      "state": {
       "_model_module": "@jupyter-widgets/controls",
       "_model_module_version": "2.0.0",
       "_model_name": "HTMLStyleModel",
       "_view_count": null,
       "_view_module": "@jupyter-widgets/base",
       "_view_module_version": "2.0.0",
       "_view_name": "StyleView",
       "background": null,
       "description_width": "",
       "font_size": null,
       "text_color": null
      }
     },
     "32bfe5c2e29340bab0a62eb0e685c760": {
      "model_module": "nglview-js-widgets",
      "model_module_version": "3.1.4",
      "model_name": "ColormakerRegistryModel",
      "state": {
       "_dom_classes": [],
       "_model_module": "nglview-js-widgets",
       "_model_module_version": "3.1.4",
       "_model_name": "ColormakerRegistryModel",
       "_msg_ar": [],
       "_msg_q": [],
       "_ready": false,
       "_view_count": null,
       "_view_module": "nglview-js-widgets",
       "_view_module_version": "3.1.4",
       "_view_name": "ColormakerRegistryView",
       "layout": "IPY_MODEL_00ad1189e3a046139ab30fb13c932a3b",
       "tabbable": null,
       "tooltip": null
      }
     },
     "873c4ca71d7a43c581db9b1f823542df": {
      "model_module": "@jupyter-widgets/base",
      "model_module_version": "2.0.0",
      "model_name": "LayoutModel",
      "state": {
       "_model_module": "@jupyter-widgets/base",
       "_model_module_version": "2.0.0",
       "_model_name": "LayoutModel",
       "_view_count": null,
       "_view_module": "@jupyter-widgets/base",
       "_view_module_version": "2.0.0",
       "_view_name": "LayoutView",
       "align_content": null,
       "align_items": null,
       "align_self": null,
       "border_bottom": null,
       "border_left": null,
       "border_right": null,
       "border_top": null,
       "bottom": null,
       "display": null,
       "flex": null,
       "flex_flow": null,
       "grid_area": null,
       "grid_auto_columns": null,
       "grid_auto_flow": null,
       "grid_auto_rows": null,
       "grid_column": null,
       "grid_gap": null,
       "grid_row": null,
       "grid_template_areas": null,
       "grid_template_columns": null,
       "grid_template_rows": null,
       "height": null,
       "justify_content": null,
       "justify_items": null,
       "left": null,
       "margin": null,
       "max_height": null,
       "max_width": null,
       "min_height": null,
       "min_width": null,
       "object_fit": null,
       "object_position": null,
       "order": null,
       "overflow": null,
       "padding": null,
       "right": null,
       "top": null,
       "visibility": null,
       "width": null
      }
     },
     "8eac57fafdff4fd3a7d6de591d1c2213": {
      "model_module": "@jupyter-widgets/base",
      "model_module_version": "2.0.0",
      "model_name": "LayoutModel",
      "state": {
       "_model_module": "@jupyter-widgets/base",
       "_model_module_version": "2.0.0",
       "_model_name": "LayoutModel",
       "_view_count": null,
       "_view_module": "@jupyter-widgets/base",
       "_view_module_version": "2.0.0",
       "_view_name": "LayoutView",
       "align_content": null,
       "align_items": null,
       "align_self": null,
       "border_bottom": null,
       "border_left": null,
       "border_right": null,
       "border_top": null,
       "bottom": null,
       "display": null,
       "flex": null,
       "flex_flow": null,
       "grid_area": null,
       "grid_auto_columns": null,
       "grid_auto_flow": null,
       "grid_auto_rows": null,
       "grid_column": null,
       "grid_gap": null,
       "grid_row": null,
       "grid_template_areas": null,
       "grid_template_columns": null,
       "grid_template_rows": null,
       "height": null,
       "justify_content": null,
       "justify_items": null,
       "left": null,
       "margin": null,
       "max_height": null,
       "max_width": null,
       "min_height": null,
       "min_width": null,
       "object_fit": null,
       "object_position": null,
       "order": null,
       "overflow": null,
       "padding": null,
       "right": null,
       "top": null,
       "visibility": null,
       "width": null
      }
     },
     "96422d9b685d4a949a16fd62a282398c": {
      "model_module": "@jupyter-widgets/controls",
      "model_module_version": "2.0.0",
      "model_name": "FloatProgressModel",
      "state": {
       "_dom_classes": [],
       "_model_module": "@jupyter-widgets/controls",
       "_model_module_version": "2.0.0",
       "_model_name": "FloatProgressModel",
       "_view_count": null,
       "_view_module": "@jupyter-widgets/controls",
       "_view_module_version": "2.0.0",
       "_view_name": "ProgressView",
       "bar_style": "success",
       "description": "",
       "description_allow_html": false,
       "layout": "IPY_MODEL_f804a52a0460485f99bfaa1b00627859",
       "max": 1000.0,
       "min": 0.0,
       "orientation": "horizontal",
       "style": "IPY_MODEL_b99fb32186834ab6925633cdab043afa",
       "tabbable": null,
       "tooltip": null,
       "value": 1000.0
      }
     },
     "ace64f2b4cc04b61a3991e70bca12175": {
      "model_module": "@jupyter-widgets/controls",
      "model_module_version": "2.0.0",
      "model_name": "HTMLModel",
      "state": {
       "_dom_classes": [],
       "_model_module": "@jupyter-widgets/controls",
       "_model_module_version": "2.0.0",
       "_model_name": "HTMLModel",
       "_view_count": null,
       "_view_module": "@jupyter-widgets/controls",
       "_view_module_version": "2.0.0",
       "_view_name": "HTMLView",
       "description": "",
       "description_allow_html": false,
       "layout": "IPY_MODEL_873c4ca71d7a43c581db9b1f823542df",
       "placeholder": "​",
       "style": "IPY_MODEL_fca6ae3c6845492b83d8104911435a68",
       "tabbable": null,
       "tooltip": null,
       "value": " 1000/1000 [00:02&lt;00:00, 368.12it/s, potential_energy=-1265.73 kJ/mol, temperature=262.22 K]"
      }
     },
     "b7a409d3b3434986990e59e0d90361c2": {
      "model_module": "@jupyter-widgets/controls",
      "model_module_version": "2.0.0",
      "model_name": "HBoxModel",
      "state": {
       "_dom_classes": [],
       "_model_module": "@jupyter-widgets/controls",
       "_model_module_version": "2.0.0",
       "_model_name": "HBoxModel",
       "_view_count": null,
       "_view_module": "@jupyter-widgets/controls",
       "_view_module_version": "2.0.0",
       "_view_name": "HBoxView",
       "box_style": "",
       "children": [
        "IPY_MODEL_b8326a6d3b0f4501ba570322b93bf3a5",
        "IPY_MODEL_96422d9b685d4a949a16fd62a282398c",
        "IPY_MODEL_ace64f2b4cc04b61a3991e70bca12175"
       ],
       "layout": "IPY_MODEL_dbc5decb231543fbb1144a257d03090d",
       "tabbable": null,
       "tooltip": null
      }
     },
     "b8326a6d3b0f4501ba570322b93bf3a5": {
      "model_module": "@jupyter-widgets/controls",
      "model_module_version": "2.0.0",
      "model_name": "HTMLModel",
      "state": {
       "_dom_classes": [],
       "_model_module": "@jupyter-widgets/controls",
       "_model_module_version": "2.0.0",
       "_model_name": "HTMLModel",
       "_view_count": null,
       "_view_module": "@jupyter-widgets/controls",
       "_view_module_version": "2.0.0",
       "_view_name": "HTMLView",
       "description": "",
       "description_allow_html": false,
       "layout": "IPY_MODEL_8eac57fafdff4fd3a7d6de591d1c2213",
       "placeholder": "​",
       "style": "IPY_MODEL_051d101f5c354d4899d1061f1ea91728",
       "tabbable": null,
       "tooltip": null,
       "value": "100%"
      }
     },
     "b99fb32186834ab6925633cdab043afa": {
      "model_module": "@jupyter-widgets/controls",
      "model_module_version": "2.0.0",
      "model_name": "ProgressStyleModel",
      "state": {
       "_model_module": "@jupyter-widgets/controls",
       "_model_module_version": "2.0.0",
       "_model_name": "ProgressStyleModel",
       "_view_count": null,
       "_view_module": "@jupyter-widgets/base",
       "_view_module_version": "2.0.0",
       "_view_name": "StyleView",
       "bar_color": null,
       "description_width": ""
      }
     },
     "dbc5decb231543fbb1144a257d03090d": {
      "model_module": "@jupyter-widgets/base",
      "model_module_version": "2.0.0",
      "model_name": "LayoutModel",
      "state": {
       "_model_module": "@jupyter-widgets/base",
       "_model_module_version": "2.0.0",
       "_model_name": "LayoutModel",
       "_view_count": null,
       "_view_module": "@jupyter-widgets/base",
       "_view_module_version": "2.0.0",
       "_view_name": "LayoutView",
       "align_content": null,
       "align_items": null,
       "align_self": null,
       "border_bottom": null,
       "border_left": null,
       "border_right": null,
       "border_top": null,
       "bottom": null,
       "display": null,
       "flex": null,
       "flex_flow": null,
       "grid_area": null,
       "grid_auto_columns": null,
       "grid_auto_flow": null,
       "grid_auto_rows": null,
       "grid_column": null,
       "grid_gap": null,
       "grid_row": null,
       "grid_template_areas": null,
       "grid_template_columns": null,
       "grid_template_rows": null,
       "height": null,
       "justify_content": null,
       "justify_items": null,
       "left": null,
       "margin": null,
       "max_height": null,
       "max_width": null,
       "min_height": null,
       "min_width": null,
       "object_fit": null,
       "object_position": null,
       "order": null,
       "overflow": null,
       "padding": null,
       "right": null,
       "top": null,
       "visibility": null,
       "width": null
      }
     },
     "f804a52a0460485f99bfaa1b00627859": {
      "model_module": "@jupyter-widgets/base",
      "model_module_version": "2.0.0",
      "model_name": "LayoutModel",
      "state": {
       "_model_module": "@jupyter-widgets/base",
       "_model_module_version": "2.0.0",
       "_model_name": "LayoutModel",
       "_view_count": null,
       "_view_module": "@jupyter-widgets/base",
       "_view_module_version": "2.0.0",
       "_view_name": "LayoutView",
       "align_content": null,
       "align_items": null,
       "align_self": null,
       "border_bottom": null,
       "border_left": null,
       "border_right": null,
       "border_top": null,
       "bottom": null,
       "display": null,
       "flex": null,
       "flex_flow": null,
       "grid_area": null,
       "grid_auto_columns": null,
       "grid_auto_flow": null,
       "grid_auto_rows": null,
       "grid_column": null,
       "grid_gap": null,
       "grid_row": null,
       "grid_template_areas": null,
       "grid_template_columns": null,
       "grid_template_rows": null,
       "height": null,
       "justify_content": null,
       "justify_items": null,
       "left": null,
       "margin": null,
       "max_height": null,
       "max_width": null,
       "min_height": null,
       "min_width": null,
       "object_fit": null,
       "object_position": null,
       "order": null,
       "overflow": null,
       "padding": null,
       "right": null,
       "top": null,
       "visibility": null,
       "width": null
      }
     },
     "fca6ae3c6845492b83d8104911435a68": {
      "model_module": "@jupyter-widgets/controls",
      "model_module_version": "2.0.0",
      "model_name": "HTMLStyleModel",
      "state": {
       "_model_module": "@jupyter-widgets/controls",
       "_model_module_version": "2.0.0",
       "_model_name": "HTMLStyleModel",
       "_view_count": null,
       "_view_module": "@jupyter-widgets/base",
       "_view_module_version": "2.0.0",
       "_view_name": "StyleView",
       "background": null,
       "description_width": "",
       "font_size": null,
       "text_color": null
      }
     }
    },
    "version_major": 2,
    "version_minor": 0
   }
  }
 },
 "nbformat": 4,
 "nbformat_minor": 5
}
