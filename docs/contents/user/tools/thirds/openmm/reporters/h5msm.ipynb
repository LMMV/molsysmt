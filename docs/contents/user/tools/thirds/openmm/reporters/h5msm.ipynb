{
 "cells": [
  {
   "cell_type": "code",
   "execution_count": 1,
   "id": "3b22d893-0ae8-49d3-b00a-c52833e84e98",
   "metadata": {},
   "outputs": [
    {
     "data": {
      "application/vnd.jupyter.widget-view+json": {
       "model_id": "2b135dcdfc754f4f931c4aaa6396f0c6",
       "version_major": 2,
       "version_minor": 0
      },
      "text/plain": []
     },
     "metadata": {},
     "output_type": "display_data"
    }
   ],
   "source": [
    "import molsysmt as msm\n",
    "from molsysmt import pyunitwizard as puw\n",
    "import numpy as np\n",
    "\n",
    "import openmm as mm\n",
    "from openmm import app\n",
    "from openmm import unit"
   ]
  },
  {
   "cell_type": "code",
   "execution_count": null,
   "id": "62162d65-dcff-432d-bbbd-c360a466e4db",
   "metadata": {},
   "outputs": [],
   "source": [
    "import os"
   ]
  },
  {
   "cell_type": "code",
   "execution_count": null,
   "id": "22b111e7-eded-4cab-a0be-eefa57719644",
   "metadata": {},
   "outputs": [],
   "source": [
    "#import os\n",
    "#from sys import stdout\n",
    "#from mdtraj.reporters import HDF5Reporter\n",
    "#from pathlib import Path\n",
    "#import shutil"
   ]
  },
  {
   "cell_type": "code",
   "execution_count": null,
   "id": "f9bd614b-0ce6-4933-9513-526bcef747e7",
   "metadata": {},
   "outputs": [],
   "source": [
    "modeller = msm.convert(msm.systems['Trp-Cage']['1l2y.h5msm'], to_form='openmm.Modeller', structure_indices=0)\n",
    "forcefield = app.ForceField(\"amber14-all.xml\", \"amber14/tip3p.xml\")\n",
    "system = forcefield.createSystem(modeller.topology, nonbondedMethod=app.NoCutoff, constraints=app.HBonds)\n",
    "integrator = mm.LangevinIntegrator(300*unit.kelvin, 1.0/unit.picosecond, 2.0*unit.femtoseconds)\n",
    "platform = mm.Platform.getPlatformByName('CPU')\n",
    "simulation = app.Simulation(modeller.topology, system, integrator, platform)\n",
    "simulation.context.setPositions(modeller.positions)\n",
    "simulation.minimizeEnergy()\n",
    "simulation.context.setVelocitiesToTemperature(300*unit.kelvin)"
   ]
  },
  {
   "cell_type": "code",
   "execution_count": null,
   "id": "52ab45e1-a792-477d-913e-48b83a1cf391",
   "metadata": {},
   "outputs": [],
   "source": [
    "tqdm_reporter = msm.thirds.openmm.reporters.H5MSMReporter('test.h5msm', 100, 1000)"
   ]
  },
  {
   "cell_type": "code",
   "execution_count": null,
   "id": "bff1c777-5dc0-4e37-843f-44b92d7f4bfc",
   "metadata": {},
   "outputs": [],
   "source": [
    "simulation.reporters.append(tqdm_reporter)"
   ]
  },
  {
   "cell_type": "code",
   "execution_count": null,
   "id": "eed90624-925e-4f35-8f86-d0250f953315",
   "metadata": {},
   "outputs": [],
   "source": [
    "simulation.step(1000)"
   ]
  },
  {
   "cell_type": "code",
   "execution_count": null,
   "id": "fb7b465b-a250-45c1-be53-2809bb281976",
   "metadata": {},
   "outputs": [],
   "source": [
    "tqdm_reporter.close()"
   ]
  },
  {
   "cell_type": "code",
   "execution_count": null,
   "id": "9ebab0fa-539f-4a55-ac01-0d9e03a4d2c3",
   "metadata": {},
   "outputs": [],
   "source": [
    "molsys = msm.convert('test.h5msm')"
   ]
  },
  {
   "cell_type": "code",
   "execution_count": null,
   "id": "c6db16fe-23d4-4d4d-bd59-58de203c3f62",
   "metadata": {},
   "outputs": [],
   "source": [
    "msm.info(molsys)"
   ]
  },
  {
   "cell_type": "code",
   "execution_count": null,
   "id": "108ec655-9a9f-4d46-885c-550479db2a82",
   "metadata": {},
   "outputs": [],
   "source": [
    "os.remove('test.h5msm')"
   ]
  },
  {
   "cell_type": "code",
   "execution_count": null,
   "id": "de23fdaa-e40f-43b2-808c-68db5a24713f",
   "metadata": {},
   "outputs": [],
   "source": []
  }
 ],
 "metadata": {
  "kernelspec": {
   "display_name": "Python 3 (ipykernel)",
   "language": "python",
   "name": "python3"
  },
  "language_info": {
   "codemirror_mode": {
    "name": "ipython",
    "version": 3
   },
   "file_extension": ".py",
   "mimetype": "text/x-python",
   "name": "python",
   "nbconvert_exporter": "python",
   "pygments_lexer": "ipython3",
   "version": "3.12.8"
  }
 },
 "nbformat": 4,
 "nbformat_minor": 5
}
