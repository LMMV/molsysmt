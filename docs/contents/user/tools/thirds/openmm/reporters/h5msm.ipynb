{
 "cells": [
  {
   "cell_type": "code",
   "execution_count": 1,
   "id": "3b22d893-0ae8-49d3-b00a-c52833e84e98",
   "metadata": {
    "execution": {
     "iopub.execute_input": "2025-03-11T21:04:53.784716Z",
     "iopub.status.busy": "2025-03-11T21:04:53.783992Z",
     "iopub.status.idle": "2025-03-11T21:05:02.848076Z",
     "shell.execute_reply": "2025-03-11T21:05:02.847139Z"
    }
   },
   "outputs": [
    {
     "data": {
      "application/vnd.jupyter.widget-view+json": {
       "model_id": "c029da2d554e4f958fa006311f00b6dd",
       "version_major": 2,
       "version_minor": 0
      },
      "text/plain": []
     },
     "metadata": {},
     "output_type": "display_data"
    }
   ],
   "source": [
    "import molsysmt as msm\n",
    "from molsysmt import pyunitwizard as puw\n",
    "import numpy as np\n",
    "\n",
    "import openmm as mm\n",
    "from openmm import app\n",
    "from openmm import unit"
   ]
  },
  {
   "cell_type": "code",
   "execution_count": 2,
   "id": "62162d65-dcff-432d-bbbd-c360a466e4db",
   "metadata": {
    "execution": {
     "iopub.execute_input": "2025-03-11T21:05:02.851854Z",
     "iopub.status.busy": "2025-03-11T21:05:02.850998Z",
     "iopub.status.idle": "2025-03-11T21:05:02.855520Z",
     "shell.execute_reply": "2025-03-11T21:05:02.854707Z"
    }
   },
   "outputs": [],
   "source": [
    "import os"
   ]
  },
  {
   "cell_type": "code",
   "execution_count": 3,
   "id": "22b111e7-eded-4cab-a0be-eefa57719644",
   "metadata": {
    "execution": {
     "iopub.execute_input": "2025-03-11T21:05:02.858894Z",
     "iopub.status.busy": "2025-03-11T21:05:02.858503Z",
     "iopub.status.idle": "2025-03-11T21:05:02.862432Z",
     "shell.execute_reply": "2025-03-11T21:05:02.861619Z"
    }
   },
   "outputs": [],
   "source": [
    "#import os\n",
    "#from sys import stdout\n",
    "#from mdtraj.reporters import HDF5Reporter\n",
    "#from pathlib import Path\n",
    "#import shutil"
   ]
  },
  {
   "cell_type": "code",
   "execution_count": 4,
   "id": "f9bd614b-0ce6-4933-9513-526bcef747e7",
   "metadata": {
    "execution": {
     "iopub.execute_input": "2025-03-11T21:05:02.865310Z",
     "iopub.status.busy": "2025-03-11T21:05:02.864921Z",
     "iopub.status.idle": "2025-03-11T21:05:05.702916Z",
     "shell.execute_reply": "2025-03-11T21:05:05.701950Z"
    }
   },
   "outputs": [],
   "source": [
    "modeller = msm.convert(msm.systems['Trp-Cage']['1l2y.h5msm'], to_form='openmm.Modeller', structure_indices=0)\n",
    "forcefield = app.ForceField(\"amber14-all.xml\", \"amber14/tip3p.xml\")\n",
    "system = forcefield.createSystem(modeller.topology, nonbondedMethod=app.NoCutoff, constraints=app.HBonds)\n",
    "integrator = mm.LangevinIntegrator(300*unit.kelvin, 1.0/unit.picosecond, 2.0*unit.femtoseconds)\n",
    "platform = mm.Platform.getPlatformByName('CPU')\n",
    "simulation = app.Simulation(modeller.topology, system, integrator, platform)\n",
    "simulation.context.setPositions(modeller.positions)\n",
    "simulation.minimizeEnergy()\n",
    "simulation.context.setVelocitiesToTemperature(300*unit.kelvin)"
   ]
  },
  {
   "cell_type": "code",
   "execution_count": 5,
   "id": "52ab45e1-a792-477d-913e-48b83a1cf391",
   "metadata": {
    "execution": {
     "iopub.execute_input": "2025-03-11T21:05:05.706456Z",
     "iopub.status.busy": "2025-03-11T21:05:05.706034Z",
     "iopub.status.idle": "2025-03-11T21:05:05.769161Z",
     "shell.execute_reply": "2025-03-11T21:05:05.768214Z"
    }
   },
   "outputs": [],
   "source": [
    "tqdm_reporter = msm.thirds.openmm.reporters.H5MSMReporter('test.h5msm', 100, 1000)"
   ]
  },
  {
   "cell_type": "code",
   "execution_count": 6,
   "id": "bff1c777-5dc0-4e37-843f-44b92d7f4bfc",
   "metadata": {
    "execution": {
     "iopub.execute_input": "2025-03-11T21:05:05.772544Z",
     "iopub.status.busy": "2025-03-11T21:05:05.772195Z",
     "iopub.status.idle": "2025-03-11T21:05:05.776597Z",
     "shell.execute_reply": "2025-03-11T21:05:05.775714Z"
    }
   },
   "outputs": [],
   "source": [
    "simulation.reporters.append(tqdm_reporter)"
   ]
  },
  {
   "cell_type": "code",
   "execution_count": 7,
   "id": "eed90624-925e-4f35-8f86-d0250f953315",
   "metadata": {
    "execution": {
     "iopub.execute_input": "2025-03-11T21:05:05.781580Z",
     "iopub.status.busy": "2025-03-11T21:05:05.781149Z",
     "iopub.status.idle": "2025-03-11T21:05:08.660023Z",
     "shell.execute_reply": "2025-03-11T21:05:08.659090Z"
    }
   },
   "outputs": [],
   "source": [
    "simulation.step(1000)"
   ]
  },
  {
   "cell_type": "code",
   "execution_count": 8,
   "id": "fb7b465b-a250-45c1-be53-2809bb281976",
   "metadata": {
    "execution": {
     "iopub.execute_input": "2025-03-11T21:05:08.664604Z",
     "iopub.status.busy": "2025-03-11T21:05:08.664136Z",
     "iopub.status.idle": "2025-03-11T21:05:08.669039Z",
     "shell.execute_reply": "2025-03-11T21:05:08.668202Z"
    }
   },
   "outputs": [],
   "source": [
    "tqdm_reporter.close()"
   ]
  },
  {
   "cell_type": "code",
   "execution_count": 9,
   "id": "9ebab0fa-539f-4a55-ac01-0d9e03a4d2c3",
   "metadata": {
    "execution": {
     "iopub.execute_input": "2025-03-11T21:05:08.672648Z",
     "iopub.status.busy": "2025-03-11T21:05:08.671977Z",
     "iopub.status.idle": "2025-03-11T21:05:08.852051Z",
     "shell.execute_reply": "2025-03-11T21:05:08.850988Z"
    }
   },
   "outputs": [],
   "source": [
    "molsys = msm.convert('test.h5msm')"
   ]
  },
  {
   "cell_type": "code",
   "execution_count": 10,
   "id": "c6db16fe-23d4-4d4d-bd59-58de203c3f62",
   "metadata": {
    "execution": {
     "iopub.execute_input": "2025-03-11T21:05:08.856641Z",
     "iopub.status.busy": "2025-03-11T21:05:08.856031Z",
     "iopub.status.idle": "2025-03-11T21:05:11.915501Z",
     "shell.execute_reply": "2025-03-11T21:05:11.914671Z"
    }
   },
   "outputs": [
    {
     "data": {
      "text/html": [
       "<style type=\"text/css\">\n",
       "</style>\n",
       "<table id=\"T_55929\">\n",
       "  <thead>\n",
       "    <tr>\n",
       "      <th id=\"T_55929_level0_col0\" class=\"col_heading level0 col0\" >form</th>\n",
       "      <th id=\"T_55929_level0_col1\" class=\"col_heading level0 col1\" >n_atoms</th>\n",
       "      <th id=\"T_55929_level0_col2\" class=\"col_heading level0 col2\" >n_groups</th>\n",
       "      <th id=\"T_55929_level0_col3\" class=\"col_heading level0 col3\" >n_components</th>\n",
       "      <th id=\"T_55929_level0_col4\" class=\"col_heading level0 col4\" >n_chains</th>\n",
       "      <th id=\"T_55929_level0_col5\" class=\"col_heading level0 col5\" >n_molecules</th>\n",
       "      <th id=\"T_55929_level0_col6\" class=\"col_heading level0 col6\" >n_entities</th>\n",
       "      <th id=\"T_55929_level0_col7\" class=\"col_heading level0 col7\" >n_peptides</th>\n",
       "      <th id=\"T_55929_level0_col8\" class=\"col_heading level0 col8\" >n_structures</th>\n",
       "    </tr>\n",
       "  </thead>\n",
       "  <tbody>\n",
       "    <tr>\n",
       "      <td id=\"T_55929_row0_col0\" class=\"data row0 col0\" >molsysmt.MolSys</td>\n",
       "      <td id=\"T_55929_row0_col1\" class=\"data row0 col1\" >304</td>\n",
       "      <td id=\"T_55929_row0_col2\" class=\"data row0 col2\" >20</td>\n",
       "      <td id=\"T_55929_row0_col3\" class=\"data row0 col3\" >1</td>\n",
       "      <td id=\"T_55929_row0_col4\" class=\"data row0 col4\" >1</td>\n",
       "      <td id=\"T_55929_row0_col5\" class=\"data row0 col5\" >1</td>\n",
       "      <td id=\"T_55929_row0_col6\" class=\"data row0 col6\" >1</td>\n",
       "      <td id=\"T_55929_row0_col7\" class=\"data row0 col7\" >1</td>\n",
       "      <td id=\"T_55929_row0_col8\" class=\"data row0 col8\" >11</td>\n",
       "    </tr>\n",
       "  </tbody>\n",
       "</table>\n"
      ],
      "text/plain": [
       "<pandas.io.formats.style.Styler at 0x7f6ff20e4440>"
      ]
     },
     "execution_count": 10,
     "metadata": {},
     "output_type": "execute_result"
    }
   ],
   "source": [
    "msm.info(molsys)"
   ]
  },
  {
   "cell_type": "code",
   "execution_count": 11,
   "id": "108ec655-9a9f-4d46-885c-550479db2a82",
   "metadata": {
    "execution": {
     "iopub.execute_input": "2025-03-11T21:05:11.918490Z",
     "iopub.status.busy": "2025-03-11T21:05:11.918153Z",
     "iopub.status.idle": "2025-03-11T21:05:11.921834Z",
     "shell.execute_reply": "2025-03-11T21:05:11.921059Z"
    }
   },
   "outputs": [],
   "source": [
    "os.remove('test.h5msm')"
   ]
  },
  {
   "cell_type": "code",
   "execution_count": null,
   "id": "de23fdaa-e40f-43b2-808c-68db5a24713f",
   "metadata": {},
   "outputs": [],
   "source": []
  }
 ],
 "metadata": {
  "kernelspec": {
   "display_name": "Python 3 (ipykernel)",
   "language": "python",
   "name": "python3"
  },
  "language_info": {
   "codemirror_mode": {
    "name": "ipython",
    "version": 3
   },
   "file_extension": ".py",
   "mimetype": "text/x-python",
   "name": "python",
   "nbconvert_exporter": "python",
   "pygments_lexer": "ipython3",
   "version": "3.12.8"
  },
  "widgets": {
   "application/vnd.jupyter.widget-state+json": {
    "state": {
     "5dee2173224748ebb1b86a7c1276ce9d": {
      "model_module": "@jupyter-widgets/base",
      "model_module_version": "2.0.0",
      "model_name": "LayoutModel",
      "state": {
       "_model_module": "@jupyter-widgets/base",
       "_model_module_version": "2.0.0",
       "_model_name": "LayoutModel",
       "_view_count": null,
       "_view_module": "@jupyter-widgets/base",
       "_view_module_version": "2.0.0",
       "_view_name": "LayoutView",
       "align_content": null,
       "align_items": null,
       "align_self": null,
       "border_bottom": null,
       "border_left": null,
       "border_right": null,
       "border_top": null,
       "bottom": null,
       "display": null,
       "flex": null,
       "flex_flow": null,
       "grid_area": null,
       "grid_auto_columns": null,
       "grid_auto_flow": null,
       "grid_auto_rows": null,
       "grid_column": null,
       "grid_gap": null,
       "grid_row": null,
       "grid_template_areas": null,
       "grid_template_columns": null,
       "grid_template_rows": null,
       "height": null,
       "justify_content": null,
       "justify_items": null,
       "left": null,
       "margin": null,
       "max_height": null,
       "max_width": null,
       "min_height": null,
       "min_width": null,
       "object_fit": null,
       "object_position": null,
       "order": null,
       "overflow": null,
       "padding": null,
       "right": null,
       "top": null,
       "visibility": null,
       "width": null
      }
     },
     "c029da2d554e4f958fa006311f00b6dd": {
      "model_module": "nglview-js-widgets",
      "model_module_version": "3.1.4",
      "model_name": "ColormakerRegistryModel",
      "state": {
       "_dom_classes": [],
       "_model_module": "nglview-js-widgets",
       "_model_module_version": "3.1.4",
       "_model_name": "ColormakerRegistryModel",
       "_msg_ar": [],
       "_msg_q": [],
       "_ready": false,
       "_view_count": null,
       "_view_module": "nglview-js-widgets",
       "_view_module_version": "3.1.4",
       "_view_name": "ColormakerRegistryView",
       "layout": "IPY_MODEL_5dee2173224748ebb1b86a7c1276ce9d",
       "tabbable": null,
       "tooltip": null
      }
     }
    },
    "version_major": 2,
    "version_minor": 0
   }
  }
 },
 "nbformat": 4,
 "nbformat_minor": 5
}
