{
 "cells": [
  {
   "cell_type": "code",
   "execution_count": 1,
   "id": "3b22d893-0ae8-49d3-b00a-c52833e84e98",
   "metadata": {},
   "outputs": [
    {
     "data": {
      "application/vnd.jupyter.widget-view+json": {
       "model_id": "d950c4e052a945329379ff8995fafdcc",
       "version_major": 2,
       "version_minor": 0
      },
      "text/plain": []
     },
     "metadata": {},
     "output_type": "display_data"
    }
   ],
   "source": [
    "import molsysmt as msm\n",
    "from molsysmt import pyunitwizard as puw\n",
    "import numpy as np\n",
    "\n",
    "import openmm as mm\n",
    "from openmm import app\n",
    "from openmm import unit"
   ]
  },
  {
   "cell_type": "code",
   "execution_count": 3,
   "id": "22b111e7-eded-4cab-a0be-eefa57719644",
   "metadata": {},
   "outputs": [],
   "source": [
    "#import os\n",
    "#from sys import stdout\n",
    "#from mdtraj.reporters import HDF5Reporter\n",
    "#from pathlib import Path\n",
    "#import shutil"
   ]
  },
  {
   "cell_type": "code",
   "execution_count": 4,
   "id": "f9bd614b-0ce6-4933-9513-526bcef747e7",
   "metadata": {},
   "outputs": [],
   "source": [
    "modeller = msm.convert(msm.systems['Trp-Cage']['1l2y.h5msm'], to_form='openmm.Modeller', structure_indices=0)\n",
    "forcefield = app.ForceField(\"amber14-all.xml\", \"amber14/tip3p.xml\")\n",
    "system = forcefield.createSystem(modeller.topology, nonbondedMethod=app.NoCutoff, constraints=app.HBonds)\n",
    "integrator = mm.LangevinIntegrator(300*unit.kelvin, 1.0/unit.picosecond, 2.0*unit.femtoseconds)\n",
    "platform = mm.Platform.getPlatformByName('CPU')\n",
    "simulation = app.Simulation(modeller.topology, system, integrator, platform)\n",
    "simulation.context.setPositions(modeller.positions)\n",
    "simulation.minimizeEnergy()\n",
    "simulation.context.setVelocitiesToTemperature(300*unit.kelvin)"
   ]
  },
  {
   "cell_type": "code",
   "execution_count": 5,
   "id": "52ab45e1-a792-477d-913e-48b83a1cf391",
   "metadata": {},
   "outputs": [],
   "source": [
    "reporter = msm.thirds.openmm.reporters.StructuresDictReporter(100, time=True, coordinates=True, velocities=True,\n",
    "             potentialEnergy=True, kineticEnergy=True, totalEnergy=True, temperature=True, box=True)"
   ]
  },
  {
   "cell_type": "code",
   "execution_count": null,
   "id": "bff1c777-5dc0-4e37-843f-44b92d7f4bfc",
   "metadata": {},
   "outputs": [],
   "source": [
    "simulation.reporters.append(reporter)"
   ]
  },
  {
   "cell_type": "code",
   "execution_count": null,
   "id": "eed90624-925e-4f35-8f86-d0250f953315",
   "metadata": {},
   "outputs": [],
   "source": [
    "simulation.step(1000)"
   ]
  },
  {
   "cell_type": "code",
   "execution_count": null,
   "id": "fb7b465b-a250-45c1-be53-2809bb281976",
   "metadata": {},
   "outputs": [],
   "source": [
    "traj_dict=reporter.finalize()"
   ]
  },
  {
   "cell_type": "code",
   "execution_count": null,
   "id": "43fcb116-6308-4b06-9bba-7bb068b7c827",
   "metadata": {},
   "outputs": [],
   "source": [
    "traj_dict"
   ]
  },
  {
   "cell_type": "code",
   "execution_count": null,
   "id": "88d28659-93a5-46cf-8751-faf99cdbefd9",
   "metadata": {},
   "outputs": [],
   "source": []
  }
 ],
 "metadata": {
  "kernelspec": {
   "display_name": "Python 3 (ipykernel)",
   "language": "python",
   "name": "python3"
  },
  "language_info": {
   "codemirror_mode": {
    "name": "ipython",
    "version": 3
   },
   "file_extension": ".py",
   "mimetype": "text/x-python",
   "name": "python",
   "nbconvert_exporter": "python",
   "pygments_lexer": "ipython3",
   "version": "3.12.8"
  }
 },
 "nbformat": 4,
 "nbformat_minor": 5
}
