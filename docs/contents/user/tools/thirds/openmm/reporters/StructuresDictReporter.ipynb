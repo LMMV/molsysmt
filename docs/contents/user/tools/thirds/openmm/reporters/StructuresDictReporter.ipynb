{
 "cells": [
  {
   "cell_type": "code",
   "execution_count": 1,
   "id": "3b22d893-0ae8-49d3-b00a-c52833e84e98",
   "metadata": {
    "execution": {
     "iopub.execute_input": "2025-03-11T21:04:47.101540Z",
     "iopub.status.busy": "2025-03-11T21:04:47.100857Z",
     "iopub.status.idle": "2025-03-11T21:04:55.600409Z",
     "shell.execute_reply": "2025-03-11T21:04:55.599544Z"
    }
   },
   "outputs": [
    {
     "data": {
      "application/vnd.jupyter.widget-view+json": {
       "model_id": "4d23c978e6dc4f0da095f89f35a1b824",
       "version_major": 2,
       "version_minor": 0
      },
      "text/plain": []
     },
     "metadata": {},
     "output_type": "display_data"
    }
   ],
   "source": [
    "import molsysmt as msm\n",
    "from molsysmt import pyunitwizard as puw\n",
    "import numpy as np\n",
    "\n",
    "import openmm as mm\n",
    "from openmm import app\n",
    "from openmm import unit"
   ]
  },
  {
   "cell_type": "code",
   "execution_count": 2,
   "id": "22b111e7-eded-4cab-a0be-eefa57719644",
   "metadata": {
    "execution": {
     "iopub.execute_input": "2025-03-11T21:04:55.604593Z",
     "iopub.status.busy": "2025-03-11T21:04:55.603623Z",
     "iopub.status.idle": "2025-03-11T21:04:55.607633Z",
     "shell.execute_reply": "2025-03-11T21:04:55.606827Z"
    }
   },
   "outputs": [],
   "source": [
    "#import os\n",
    "#from sys import stdout\n",
    "#from mdtraj.reporters import HDF5Reporter\n",
    "#from pathlib import Path\n",
    "#import shutil"
   ]
  },
  {
   "cell_type": "code",
   "execution_count": 3,
   "id": "f9bd614b-0ce6-4933-9513-526bcef747e7",
   "metadata": {
    "execution": {
     "iopub.execute_input": "2025-03-11T21:04:55.611324Z",
     "iopub.status.busy": "2025-03-11T21:04:55.610656Z",
     "iopub.status.idle": "2025-03-11T21:04:58.424822Z",
     "shell.execute_reply": "2025-03-11T21:04:58.423804Z"
    }
   },
   "outputs": [],
   "source": [
    "modeller = msm.convert(msm.systems['Trp-Cage']['1l2y.h5msm'], to_form='openmm.Modeller', structure_indices=0)\n",
    "forcefield = app.ForceField(\"amber14-all.xml\", \"amber14/tip3p.xml\")\n",
    "system = forcefield.createSystem(modeller.topology, nonbondedMethod=app.NoCutoff, constraints=app.HBonds)\n",
    "integrator = mm.LangevinIntegrator(300*unit.kelvin, 1.0/unit.picosecond, 2.0*unit.femtoseconds)\n",
    "platform = mm.Platform.getPlatformByName('CPU')\n",
    "simulation = app.Simulation(modeller.topology, system, integrator, platform)\n",
    "simulation.context.setPositions(modeller.positions)\n",
    "simulation.minimizeEnergy()\n",
    "simulation.context.setVelocitiesToTemperature(300*unit.kelvin)"
   ]
  },
  {
   "cell_type": "code",
   "execution_count": 4,
   "id": "52ab45e1-a792-477d-913e-48b83a1cf391",
   "metadata": {
    "execution": {
     "iopub.execute_input": "2025-03-11T21:04:58.428745Z",
     "iopub.status.busy": "2025-03-11T21:04:58.427828Z",
     "iopub.status.idle": "2025-03-11T21:04:58.433500Z",
     "shell.execute_reply": "2025-03-11T21:04:58.432572Z"
    }
   },
   "outputs": [],
   "source": [
    "reporter = msm.thirds.openmm.reporters.StructuresDictReporter(100, time=True, coordinates=True, velocities=True,\n",
    "             potentialEnergy=True, kineticEnergy=True, totalEnergy=True, temperature=True, box=True)"
   ]
  },
  {
   "cell_type": "code",
   "execution_count": 5,
   "id": "bff1c777-5dc0-4e37-843f-44b92d7f4bfc",
   "metadata": {
    "execution": {
     "iopub.execute_input": "2025-03-11T21:04:58.437011Z",
     "iopub.status.busy": "2025-03-11T21:04:58.436418Z",
     "iopub.status.idle": "2025-03-11T21:04:58.444062Z",
     "shell.execute_reply": "2025-03-11T21:04:58.443051Z"
    }
   },
   "outputs": [],
   "source": [
    "simulation.reporters.append(reporter)"
   ]
  },
  {
   "cell_type": "code",
   "execution_count": 6,
   "id": "eed90624-925e-4f35-8f86-d0250f953315",
   "metadata": {
    "execution": {
     "iopub.execute_input": "2025-03-11T21:04:58.447484Z",
     "iopub.status.busy": "2025-03-11T21:04:58.447026Z",
     "iopub.status.idle": "2025-03-11T21:05:00.543384Z",
     "shell.execute_reply": "2025-03-11T21:05:00.542382Z"
    }
   },
   "outputs": [],
   "source": [
    "simulation.step(1000)"
   ]
  },
  {
   "cell_type": "code",
   "execution_count": 7,
   "id": "fb7b465b-a250-45c1-be53-2809bb281976",
   "metadata": {
    "execution": {
     "iopub.execute_input": "2025-03-11T21:05:00.547663Z",
     "iopub.status.busy": "2025-03-11T21:05:00.547056Z",
     "iopub.status.idle": "2025-03-11T21:05:00.551919Z",
     "shell.execute_reply": "2025-03-11T21:05:00.551022Z"
    }
   },
   "outputs": [],
   "source": [
    "traj_dict=reporter.finalize()"
   ]
  },
  {
   "cell_type": "code",
   "execution_count": 8,
   "id": "43fcb116-6308-4b06-9bba-7bb068b7c827",
   "metadata": {
    "execution": {
     "iopub.execute_input": "2025-03-11T21:05:00.555471Z",
     "iopub.status.busy": "2025-03-11T21:05:00.555011Z",
     "iopub.status.idle": "2025-03-11T21:05:00.572035Z",
     "shell.execute_reply": "2025-03-11T21:05:00.571031Z"
    }
   },
   "outputs": [
    {
     "data": {
      "text/plain": [
       "{'time': Quantity(value=array([0. , 0.2, 0.4, 0.6, 0.8, 1. , 1.2, 1.4, 1.6, 1.8, 2. ]), unit=picosecond),\n",
       " 'coordinates': Quantity(value=array([[[-0.72200716,  0.74687458,  0.06325117],\n",
       "         [-0.81117778,  0.65173262, -0.00614635],\n",
       "         [-0.73971946,  0.52405617, -0.04964606],\n",
       "         ...,\n",
       "         [-0.31109098,  0.9572841 ,  0.01453481],\n",
       "         [-0.36562284,  0.93760861,  0.18215989],\n",
       "         [-0.13263314,  0.88782852,  0.22257557]],\n",
       " \n",
       "        [[-0.71277627,  0.7608948 ,  0.04007655],\n",
       "         [-0.80350538,  0.65900468, -0.0200496 ],\n",
       "         [-0.73894981,  0.53124441, -0.06957174],\n",
       "         ...,\n",
       "         [-0.27404877,  0.9727904 ,  0.01019226],\n",
       "         [-0.35573277,  0.95130787,  0.16763174],\n",
       "         [-0.10774503,  0.85252673,  0.16546225]],\n",
       " \n",
       "        [[-0.69703724,  0.77310874,  0.03018326],\n",
       "         [-0.80010331,  0.66773742, -0.00577986],\n",
       "         [-0.74070607,  0.53229127, -0.04895775],\n",
       "         ...,\n",
       "         [-0.29828791,  0.97481569, -0.04351094],\n",
       "         [-0.35635063,  0.98614165,  0.12749962],\n",
       "         [-0.11951731,  0.9310727 ,  0.15611598]],\n",
       " \n",
       "        ...,\n",
       " \n",
       "        [[-0.71405839,  0.78381262,  0.12148058],\n",
       "         [-0.82039395,  0.71276504,  0.04405617],\n",
       "         [-0.77893986,  0.57102817,  0.01687582],\n",
       "         ...,\n",
       "         [-0.34237995,  0.93804799, -0.1565915 ],\n",
       "         [-0.34967935,  0.99280817,  0.01311318],\n",
       "         [-0.11088343,  0.96332722,  0.00474771]],\n",
       " \n",
       "        [[-0.69823679,  0.76223945,  0.11558891],\n",
       "         [-0.81292398,  0.70486118,  0.0464179 ],\n",
       "         [-0.78648233,  0.55471211,  0.00924068],\n",
       "         ...,\n",
       "         [-0.34866753,  0.91981459, -0.09319206],\n",
       "         [-0.332664  ,  0.94981625,  0.08519434],\n",
       "         [-0.11960317,  0.98779583,  0.05233074]],\n",
       " \n",
       "        [[-0.7129777 ,  0.72361379,  0.13540932],\n",
       "         [-0.81756944,  0.69550464,  0.03705157],\n",
       "         [-0.81341736,  0.54578746, -0.0167491 ],\n",
       "         ...,\n",
       "         [-0.31068302,  0.91264719, -0.0350887 ],\n",
       "         [-0.31772936,  0.88115544,  0.14096492],\n",
       "         [-0.09105218,  0.8032484 ,  0.11493883]]]), unit=nanometer),\n",
       " 'velocities': Quantity(value=array([[[-5.45394715e-01,  9.71766372e-02,  2.76753058e-01],\n",
       "         [-2.63607249e-01, -3.81104642e-01, -3.43076432e-01],\n",
       "         [ 4.78032069e-01,  1.35076650e-01, -3.47571500e-01],\n",
       "         ...,\n",
       "         [-1.03450431e+00,  6.75863396e-01, -3.47964048e-01],\n",
       "         [-1.10924535e+00, -1.65069615e+00, -4.84981319e-01],\n",
       "         [ 1.62031805e-01, -6.91812602e-01,  8.66574930e-02]],\n",
       " \n",
       "        [[ 3.47938741e-01,  7.71950278e-02,  2.94119190e-01],\n",
       "         [ 1.46475378e-01, -9.66313941e-02, -3.77039165e-01],\n",
       "         [-3.44632741e-02, -4.01028009e-01,  1.91744809e-01],\n",
       "         ...,\n",
       "         [ 4.11392174e-02,  9.52453479e-01,  1.40036295e-01],\n",
       "         [ 1.54691546e-01,  6.02582341e-01, -6.87619413e-02],\n",
       "         [ 1.88674023e+00,  8.22249472e-01,  8.33037745e-01]],\n",
       " \n",
       "        [[ 8.87308661e-02,  2.82136136e-01, -5.78514092e-02],\n",
       "         [-2.01098260e-04,  8.31269078e-02, -3.65667155e-01],\n",
       "         [ 1.93255412e-01,  3.08888877e-01,  4.78250057e-01],\n",
       "         ...,\n",
       "         [ 2.04227640e+00,  7.55821474e-01, -2.28984740e-01],\n",
       "         [-1.63528467e-02, -5.16079895e-01, -8.24452577e-02],\n",
       "         [-2.66290796e+00, -4.91591155e-01,  3.33523019e-01]],\n",
       " \n",
       "        ...,\n",
       " \n",
       "        [[-7.48962583e-01,  5.51911105e-01,  3.34883787e-01],\n",
       "         [ 4.70957519e-01, -1.00685069e+00,  2.80077519e-01],\n",
       "         [ 7.18130873e-01, -2.08619928e-01,  7.80436007e-01],\n",
       "         ...,\n",
       "         [ 2.71174609e+00, -4.61863553e-01, -9.25184579e-01],\n",
       "         [-1.00043440e+00, -2.44308859e-01, -6.60110908e-01],\n",
       "         [-6.83950844e-01, -3.04576491e+00,  3.86387704e-02]],\n",
       " \n",
       "        [[-6.37995946e-01, -1.82406711e-02, -1.67033232e-03],\n",
       "         [ 1.48357795e-01, -1.40019824e-01, -1.06547869e-01],\n",
       "         [ 1.51307371e-01, -9.79272877e-01, -4.31193970e-01],\n",
       "         ...,\n",
       "         [ 1.57861058e+00,  8.96689654e-01, -1.21428424e+00],\n",
       "         [ 7.30954180e-01,  2.42012137e+00, -3.82725290e-01],\n",
       "         [ 2.55591215e-01, -1.16728805e+00,  1.09325607e+00]],\n",
       " \n",
       "        [[ 1.19942655e-01, -7.16645527e-02, -1.20915906e-01],\n",
       "         [ 4.26634434e-01, -3.11358714e-01,  1.18977159e-01],\n",
       "         [-6.83620202e-01, -9.47396910e-01, -7.86106721e-01],\n",
       "         ...,\n",
       "         [ 6.66284222e-01, -9.83888518e-01, -4.11460227e-01],\n",
       "         [ 1.94802785e+00, -3.17970099e-01,  7.13591306e-01],\n",
       "         [ 1.62271536e+00, -4.64034913e-01, -2.77081297e-01]]]), unit=nanometer/picosecond),\n",
       " 'potential_energy': Quantity(value=array([-2124.9816625 , -1536.13024529, -1466.80826271, -1428.14305611,\n",
       "        -1413.20652613, -1305.92068202, -1365.83412   , -1324.59319184,\n",
       "        -1319.3051802 , -1265.28806986, -1284.39320948]), unit=kilojoule/mole),\n",
       " 'kinetic_energy': Quantity(value=array([949.97107051, 542.64019083, 637.41021131, 704.28048554,\n",
       "        763.92319376, 738.07812536, 815.89605261, 781.33240578,\n",
       "        861.33572899, 823.56304519, 870.85902072]), unit=kilojoule/mole),\n",
       " 'total_energy': Quantity(value=array([-1175.01059199,  -993.49005446,  -829.3980514 ,  -723.86257057,\n",
       "         -649.28333237,  -567.84255666,  -549.93806739,  -543.26078606,\n",
       "         -457.96945121,  -441.72502467,  -413.53418877]), unit=kilojoule/mole),\n",
       " 'temperature': Quantity(value=array([301.06787318, 171.97526665, 202.01008496, 223.20282637,\n",
       "        242.10498441, 233.91408259, 258.57638924, 247.62236763,\n",
       "        272.97727697, 261.00623708, 275.99542907]), unit=kelvin),\n",
       " 'box': Quantity(value=array([[[2., 0., 0.],\n",
       "         [0., 2., 0.],\n",
       "         [0., 0., 2.]],\n",
       " \n",
       "        [[2., 0., 0.],\n",
       "         [0., 2., 0.],\n",
       "         [0., 0., 2.]],\n",
       " \n",
       "        [[2., 0., 0.],\n",
       "         [0., 2., 0.],\n",
       "         [0., 0., 2.]],\n",
       " \n",
       "        [[2., 0., 0.],\n",
       "         [0., 2., 0.],\n",
       "         [0., 0., 2.]],\n",
       " \n",
       "        [[2., 0., 0.],\n",
       "         [0., 2., 0.],\n",
       "         [0., 0., 2.]],\n",
       " \n",
       "        [[2., 0., 0.],\n",
       "         [0., 2., 0.],\n",
       "         [0., 0., 2.]],\n",
       " \n",
       "        [[2., 0., 0.],\n",
       "         [0., 2., 0.],\n",
       "         [0., 0., 2.]],\n",
       " \n",
       "        [[2., 0., 0.],\n",
       "         [0., 2., 0.],\n",
       "         [0., 0., 2.]],\n",
       " \n",
       "        [[2., 0., 0.],\n",
       "         [0., 2., 0.],\n",
       "         [0., 0., 2.]],\n",
       " \n",
       "        [[2., 0., 0.],\n",
       "         [0., 2., 0.],\n",
       "         [0., 0., 2.]],\n",
       " \n",
       "        [[2., 0., 0.],\n",
       "         [0., 2., 0.],\n",
       "         [0., 0., 2.]]]), unit=nanometer)}"
      ]
     },
     "execution_count": 8,
     "metadata": {},
     "output_type": "execute_result"
    }
   ],
   "source": [
    "traj_dict"
   ]
  },
  {
   "cell_type": "code",
   "execution_count": null,
   "id": "88d28659-93a5-46cf-8751-faf99cdbefd9",
   "metadata": {},
   "outputs": [],
   "source": []
  }
 ],
 "metadata": {
  "kernelspec": {
   "display_name": "Python 3 (ipykernel)",
   "language": "python",
   "name": "python3"
  },
  "language_info": {
   "codemirror_mode": {
    "name": "ipython",
    "version": 3
   },
   "file_extension": ".py",
   "mimetype": "text/x-python",
   "name": "python",
   "nbconvert_exporter": "python",
   "pygments_lexer": "ipython3",
   "version": "3.12.8"
  },
  "widgets": {
   "application/vnd.jupyter.widget-state+json": {
    "state": {
     "4d23c978e6dc4f0da095f89f35a1b824": {
      "model_module": "nglview-js-widgets",
      "model_module_version": "3.1.4",
      "model_name": "ColormakerRegistryModel",
      "state": {
       "_dom_classes": [],
       "_model_module": "nglview-js-widgets",
       "_model_module_version": "3.1.4",
       "_model_name": "ColormakerRegistryModel",
       "_msg_ar": [],
       "_msg_q": [],
       "_ready": false,
       "_view_count": null,
       "_view_module": "nglview-js-widgets",
       "_view_module_version": "3.1.4",
       "_view_name": "ColormakerRegistryView",
       "layout": "IPY_MODEL_fb43b216b4964806974b7b75fd430a5e",
       "tabbable": null,
       "tooltip": null
      }
     },
     "fb43b216b4964806974b7b75fd430a5e": {
      "model_module": "@jupyter-widgets/base",
      "model_module_version": "2.0.0",
      "model_name": "LayoutModel",
      "state": {
       "_model_module": "@jupyter-widgets/base",
       "_model_module_version": "2.0.0",
       "_model_name": "LayoutModel",
       "_view_count": null,
       "_view_module": "@jupyter-widgets/base",
       "_view_module_version": "2.0.0",
       "_view_name": "LayoutView",
       "align_content": null,
       "align_items": null,
       "align_self": null,
       "border_bottom": null,
       "border_left": null,
       "border_right": null,
       "border_top": null,
       "bottom": null,
       "display": null,
       "flex": null,
       "flex_flow": null,
       "grid_area": null,
       "grid_auto_columns": null,
       "grid_auto_flow": null,
       "grid_auto_rows": null,
       "grid_column": null,
       "grid_gap": null,
       "grid_row": null,
       "grid_template_areas": null,
       "grid_template_columns": null,
       "grid_template_rows": null,
       "height": null,
       "justify_content": null,
       "justify_items": null,
       "left": null,
       "margin": null,
       "max_height": null,
       "max_width": null,
       "min_height": null,
       "min_width": null,
       "object_fit": null,
       "object_position": null,
       "order": null,
       "overflow": null,
       "padding": null,
       "right": null,
       "top": null,
       "visibility": null,
       "width": null
      }
     }
    },
    "version_major": 2,
    "version_minor": 0
   }
  }
 },
 "nbformat": 4,
 "nbformat_minor": 5
}
