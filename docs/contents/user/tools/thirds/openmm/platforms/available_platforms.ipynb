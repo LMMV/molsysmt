{
 "cells": [
  {
   "cell_type": "code",
   "execution_count": 1,
   "id": "e46bfd7e-2657-4e2e-999d-c74a2ed5c1fe",
   "metadata": {
    "execution": {
     "iopub.execute_input": "2025-03-11T21:04:40.767994Z",
     "iopub.status.busy": "2025-03-11T21:04:40.767425Z",
     "iopub.status.idle": "2025-03-11T21:04:48.806397Z",
     "shell.execute_reply": "2025-03-11T21:04:48.805528Z"
    }
   },
   "outputs": [
    {
     "data": {
      "application/vnd.jupyter.widget-view+json": {
       "model_id": "c8868552f5044523bdab7ae606fb074c",
       "version_major": 2,
       "version_minor": 0
      },
      "text/plain": []
     },
     "metadata": {},
     "output_type": "display_data"
    }
   ],
   "source": [
    "import molsysmt as msm"
   ]
  },
  {
   "cell_type": "markdown",
   "id": "1776f6bd-e89e-415d-933a-041b6c4e5754",
   "metadata": {},
   "source": [
    "# Available platorms"
   ]
  },
  {
   "cell_type": "code",
   "execution_count": 2,
   "id": "ac124ead-6a66-4d66-a5f0-d8383f7ee1ee",
   "metadata": {
    "execution": {
     "iopub.execute_input": "2025-03-11T21:04:48.810791Z",
     "iopub.status.busy": "2025-03-11T21:04:48.809747Z",
     "iopub.status.idle": "2025-03-11T21:04:48.816140Z",
     "shell.execute_reply": "2025-03-11T21:04:48.815206Z"
    }
   },
   "outputs": [
    {
     "name": "stdout",
     "output_type": "stream",
     "text": [
      "Platform Reference with speed 1.0\n",
      "Platform CPU with speed 10.0\n",
      "Platform CUDA with speed 100.0\n",
      "Platform OpenCL with speed 50.0\n"
     ]
    }
   ],
   "source": [
    "msm.thirds.openmm.platforms.available_platforms(verbose=True)"
   ]
  },
  {
   "cell_type": "code",
   "execution_count": 3,
   "id": "8edbc285-d16d-4be4-b0d3-acf95cce4f09",
   "metadata": {
    "execution": {
     "iopub.execute_input": "2025-03-11T21:04:48.819512Z",
     "iopub.status.busy": "2025-03-11T21:04:48.818999Z",
     "iopub.status.idle": "2025-03-11T21:04:48.824572Z",
     "shell.execute_reply": "2025-03-11T21:04:48.823649Z"
    }
   },
   "outputs": [],
   "source": [
    "platforms = msm.thirds.openmm.platforms.available_platforms(verbose=False)"
   ]
  },
  {
   "cell_type": "code",
   "execution_count": 4,
   "id": "6a771d24-2ec6-4f3f-b306-5c72959b952b",
   "metadata": {
    "execution": {
     "iopub.execute_input": "2025-03-11T21:04:48.828159Z",
     "iopub.status.busy": "2025-03-11T21:04:48.827725Z",
     "iopub.status.idle": "2025-03-11T21:04:48.838304Z",
     "shell.execute_reply": "2025-03-11T21:04:48.837352Z"
    }
   },
   "outputs": [
    {
     "data": {
      "text/plain": [
       "['Reference', 'CPU', 'CUDA', 'OpenCL']"
      ]
     },
     "execution_count": 4,
     "metadata": {},
     "output_type": "execute_result"
    }
   ],
   "source": [
    "platforms"
   ]
  }
 ],
 "metadata": {
  "kernelspec": {
   "display_name": "Python 3 (ipykernel)",
   "language": "python",
   "name": "python3"
  },
  "language_info": {
   "codemirror_mode": {
    "name": "ipython",
    "version": 3
   },
   "file_extension": ".py",
   "mimetype": "text/x-python",
   "name": "python",
   "nbconvert_exporter": "python",
   "pygments_lexer": "ipython3",
   "version": "3.12.8"
  },
  "widgets": {
   "application/vnd.jupyter.widget-state+json": {
    "state": {
     "028009ff296d4be5abcc688f1a6c8447": {
      "model_module": "@jupyter-widgets/base",
      "model_module_version": "2.0.0",
      "model_name": "LayoutModel",
      "state": {
       "_model_module": "@jupyter-widgets/base",
       "_model_module_version": "2.0.0",
       "_model_name": "LayoutModel",
       "_view_count": null,
       "_view_module": "@jupyter-widgets/base",
       "_view_module_version": "2.0.0",
       "_view_name": "LayoutView",
       "align_content": null,
       "align_items": null,
       "align_self": null,
       "border_bottom": null,
       "border_left": null,
       "border_right": null,
       "border_top": null,
       "bottom": null,
       "display": null,
       "flex": null,
       "flex_flow": null,
       "grid_area": null,
       "grid_auto_columns": null,
       "grid_auto_flow": null,
       "grid_auto_rows": null,
       "grid_column": null,
       "grid_gap": null,
       "grid_row": null,
       "grid_template_areas": null,
       "grid_template_columns": null,
       "grid_template_rows": null,
       "height": null,
       "justify_content": null,
       "justify_items": null,
       "left": null,
       "margin": null,
       "max_height": null,
       "max_width": null,
       "min_height": null,
       "min_width": null,
       "object_fit": null,
       "object_position": null,
       "order": null,
       "overflow": null,
       "padding": null,
       "right": null,
       "top": null,
       "visibility": null,
       "width": null
      }
     },
     "c8868552f5044523bdab7ae606fb074c": {
      "model_module": "nglview-js-widgets",
      "model_module_version": "3.1.4",
      "model_name": "ColormakerRegistryModel",
      "state": {
       "_dom_classes": [],
       "_model_module": "nglview-js-widgets",
       "_model_module_version": "3.1.4",
       "_model_name": "ColormakerRegistryModel",
       "_msg_ar": [],
       "_msg_q": [],
       "_ready": false,
       "_view_count": null,
       "_view_module": "nglview-js-widgets",
       "_view_module_version": "3.1.4",
       "_view_name": "ColormakerRegistryView",
       "layout": "IPY_MODEL_028009ff296d4be5abcc688f1a6c8447",
       "tabbable": null,
       "tooltip": null
      }
     }
    },
    "version_major": 2,
    "version_minor": 0
   }
  }
 },
 "nbformat": 4,
 "nbformat_minor": 5
}
