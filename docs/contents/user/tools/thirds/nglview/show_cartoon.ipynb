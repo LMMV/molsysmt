{
 "cells": [
  {
   "cell_type": "markdown",
   "id": "076f5fb3-fdc5-4cad-a0f2-2dd0dc0173a6",
   "metadata": {},
   "source": [
    "# Show as balls and sticks"
   ]
  },
  {
   "cell_type": "code",
   "execution_count": 1,
   "id": "929d66d7-d205-434b-b5e8-47fb27705f61",
   "metadata": {},
   "outputs": [
    {
     "data": {
      "application/vnd.jupyter.widget-view+json": {
       "model_id": "e243e818c732427782a072e8008cdde7",
       "version_major": 2,
       "version_minor": 0
      },
      "text/plain": []
     },
     "metadata": {},
     "output_type": "display_data"
    }
   ],
   "source": [
    "import molsysmt as msm\n",
    "from molsysmt import pyunitwizard as puw\n",
    "import nglview as nv\n",
    "import numpy as np"
   ]
  },
  {
   "cell_type": "code",
   "execution_count": 2,
   "id": "09b930a3-ace1-47bc-ad85-fe345e5411c3",
   "metadata": {},
   "outputs": [],
   "source": [
    "molsys = msm.convert(msm.systems['chicken villin HP35']['chicken_villin_HP35.h5msm'])"
   ]
  },
  {
   "cell_type": "code",
   "execution_count": 3,
   "id": "2bcd0020-b8df-4a25-bba2-82b8cc89ecce",
   "metadata": {},
   "outputs": [],
   "source": [
    "view = msm.view(molsys)\n",
    "view.clear()"
   ]
  },
  {
   "cell_type": "code",
   "execution_count": 6,
   "id": "2d822e1a-2cc5-4008-bc39-5cfbe946130a",
   "metadata": {},
   "outputs": [],
   "source": [
    "msm.thirds.nglview.show_as_cartoon(view, selection='group_index in [5,6,7,8,9,10]')"
   ]
  },
  {
   "cell_type": "code",
   "execution_count": 5,
   "id": "7e0f24c3-12b0-4746-b813-65d3ed5bb743",
   "metadata": {},
   "outputs": [
    {
     "data": {
      "application/vnd.jupyter.widget-view+json": {
       "model_id": "149cc5c0c9bb4daa8bc24b1bde4f5c14",
       "version_major": 2,
       "version_minor": 0
      },
      "text/plain": [
       "NGLWidget()"
      ]
     },
     "metadata": {},
     "output_type": "display_data"
    }
   ],
   "source": [
    "view"
   ]
  },
  {
   "cell_type": "code",
   "execution_count": 11,
   "id": "15c2a4df-fe7d-4966-92e7-6406791ebc0c",
   "metadata": {},
   "outputs": [
    {
     "data": {
      "application/vnd.jupyter.widget-view+json": {
       "model_id": "c543467d0afc4a548124cf17a657b994",
       "version_major": 2,
       "version_minor": 0
      },
      "text/plain": [
       "NGLWidget()"
      ]
     },
     "metadata": {},
     "output_type": "display_data"
    }
   ],
   "source": [
    "view = msm.view(molsys)\n",
    "view.clear()\n",
    "msm.thirds.nglview.show_as_balls_and_sticks(view, selection='all')\n",
    "msm.thirds.nglview.show_as_cartoon(view, selection='group_index in [5,6,7,8,9,10]', color='purple')\n",
    "view"
   ]
  },
  {
   "cell_type": "code",
   "execution_count": 12,
   "id": "f6e4a19d-f981-4fe1-8975-c95e0e9d3429",
   "metadata": {},
   "outputs": [
    {
     "data": {
      "text/plain": [
       "{'component_index': 0,\n",
       " 'target': 'compList',\n",
       " 'type': 'call_method',\n",
       " 'methodName': 'addRepresentation',\n",
       " 'reconstruc_color_scheme': False,\n",
       " 'args': ['cartoon'],\n",
       " 'kwargs': {'sele': '@65,66,67,68,69,70,71,72,73,74,75,76,77,78,79,80,81,82,83,84,85,86,87,88,89,90,91,92,93,94,95,96,97,98,99,100,101,102,103,104,105,106,107,108,109,110,111,112,113,114,115,116,117,118,119,120,121,122,123,124,125,126,127,128,129,130,131,132,133,134,135,136,137,138,139,140,141,142,143,144,145,146,147,148,149,150,151,152,153,154,155,156,157,158,159',\n",
       "  'color': 'purple'}}"
      ]
     },
     "execution_count": 12,
     "metadata": {},
     "output_type": "execute_result"
    }
   ],
   "source": [
    "view._ngl_msg_archive[-1]"
   ]
  },
  {
   "cell_type": "code",
   "execution_count": null,
   "id": "69e51b72-376c-4071-a0e5-2113ffdbdad8",
   "metadata": {},
   "outputs": [],
   "source": []
  }
 ],
 "metadata": {
  "kernelspec": {
   "display_name": "Python 3 (ipykernel)",
   "language": "python",
   "name": "python3"
  },
  "language_info": {
   "codemirror_mode": {
    "name": "ipython",
    "version": 3
   },
   "file_extension": ".py",
   "mimetype": "text/x-python",
   "name": "python",
   "nbconvert_exporter": "python",
   "pygments_lexer": "ipython3",
   "version": "3.12.8"
  }
 },
 "nbformat": 4,
 "nbformat_minor": 5
}
