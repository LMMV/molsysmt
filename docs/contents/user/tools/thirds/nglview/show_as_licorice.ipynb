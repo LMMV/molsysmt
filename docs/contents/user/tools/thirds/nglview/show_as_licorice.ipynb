{
 "cells": [
  {
   "cell_type": "markdown",
   "id": "9c838aa8-2cfc-4648-a03b-e9b9c066bc04",
   "metadata": {},
   "source": [
    "# Show as licorice"
   ]
  },
  {
   "cell_type": "code",
   "execution_count": 1,
   "id": "d37e60af-a222-42e6-8f32-b656e731815d",
   "metadata": {},
   "outputs": [
    {
     "data": {
      "application/vnd.jupyter.widget-view+json": {
       "model_id": "e1e40df6a7f24c338c0912e9e177dfda",
       "version_major": 2,
       "version_minor": 0
      },
      "text/plain": []
     },
     "metadata": {},
     "output_type": "display_data"
    }
   ],
   "source": [
    "import molsysmt as msm\n",
    "from molsysmt import pyunitwizard as puw\n",
    "import nglview as nv\n",
    "import numpy as np"
   ]
  },
  {
   "cell_type": "code",
   "execution_count": 2,
   "id": "09b930a3-ace1-47bc-ad85-fe345e5411c3",
   "metadata": {},
   "outputs": [],
   "source": [
    "molsys = msm.convert(msm.systems['chicken villin HP35']['chicken_villin_HP35.h5msm'])"
   ]
  },
  {
   "cell_type": "code",
   "execution_count": 3,
   "id": "2bcd0020-b8df-4a25-bba2-82b8cc89ecce",
   "metadata": {},
   "outputs": [],
   "source": [
    "view = msm.view(molsys)\n",
    "view.clear()"
   ]
  },
  {
   "cell_type": "code",
   "execution_count": 4,
   "id": "2d822e1a-2cc5-4008-bc39-5cfbe946130a",
   "metadata": {},
   "outputs": [],
   "source": [
    "msm.thirds.nglview.show_as_licorice(view, selection='group_index in [0,1,2]')"
   ]
  },
  {
   "cell_type": "code",
   "execution_count": 5,
   "id": "7e0f24c3-12b0-4746-b813-65d3ed5bb743",
   "metadata": {},
   "outputs": [
    {
     "data": {
      "application/vnd.jupyter.widget-view+json": {
       "model_id": "4e8dd3ec58064342bdffc872f7ffee6d",
       "version_major": 2,
       "version_minor": 0
      },
      "text/plain": [
       "NGLWidget()"
      ]
     },
     "metadata": {},
     "output_type": "display_data"
    }
   ],
   "source": [
    "view"
   ]
  },
  {
   "cell_type": "code",
   "execution_count": 6,
   "id": "15c2a4df-fe7d-4966-92e7-6406791ebc0c",
   "metadata": {},
   "outputs": [
    {
     "data": {
      "application/vnd.jupyter.widget-view+json": {
       "model_id": "1b591216a4c84f20b4bb6d91c9ad29e2",
       "version_major": 2,
       "version_minor": 0
      },
      "text/plain": [
       "NGLWidget()"
      ]
     },
     "metadata": {},
     "output_type": "display_data"
    }
   ],
   "source": [
    "view = msm.view(molsys)\n",
    "view.clear()\n",
    "msm.thirds.nglview.show_as_cartoon(view, selection='all')\n",
    "msm.thirds.nglview.show_as_licorice(view, selection='group_index in [0,1,2]')\n",
    "view"
   ]
  },
  {
   "cell_type": "code",
   "execution_count": null,
   "id": "3a9270d0-d4bd-495e-8814-cca3806ea54d",
   "metadata": {},
   "outputs": [],
   "source": []
  }
 ],
 "metadata": {
  "kernelspec": {
   "display_name": "Python 3 (ipykernel)",
   "language": "python",
   "name": "python3"
  },
  "language_info": {
   "codemirror_mode": {
    "name": "ipython",
    "version": 3
   },
   "file_extension": ".py",
   "mimetype": "text/x-python",
   "name": "python",
   "nbconvert_exporter": "python",
   "pygments_lexer": "ipython3",
   "version": "3.12.8"
  }
 },
 "nbformat": 4,
 "nbformat_minor": 5
}
