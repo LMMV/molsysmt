{
 "cells": [
  {
   "cell_type": "markdown",
   "id": "076f5fb3-fdc5-4cad-a0f2-2dd0dc0173a6",
   "metadata": {},
   "source": [
    "# Add contacts"
   ]
  },
  {
   "cell_type": "code",
   "execution_count": 1,
   "id": "929d66d7-d205-434b-b5e8-47fb27705f61",
   "metadata": {},
   "outputs": [
    {
     "data": {
      "application/vnd.jupyter.widget-view+json": {
       "model_id": "f5873845aede4bd8adde67d44e51751c",
       "version_major": 2,
       "version_minor": 0
      },
      "text/plain": []
     },
     "metadata": {},
     "output_type": "display_data"
    }
   ],
   "source": [
    "import molsysmt as msm\n",
    "from molsysmt import pyunitwizard as puw\n",
    "import nglview as nv\n",
    "import numpy as np"
   ]
  },
  {
   "cell_type": "code",
   "execution_count": 2,
   "id": "09b930a3-ace1-47bc-ad85-fe345e5411c3",
   "metadata": {},
   "outputs": [],
   "source": [
    "molsys = msm.convert(msm.systems['chicken villin HP35']['chicken_villin_HP35.h5msm'])"
   ]
  },
  {
   "cell_type": "code",
   "execution_count": 3,
   "id": "79c2304f-5417-4590-9032-4fd8fb94118e",
   "metadata": {},
   "outputs": [],
   "source": [
    "contacts = msm.structure.get_contacts(molsys, selection='atom_name==\"CA\"', threshold='9 angstroms',\n",
    "                                      output_type='pairs', output_indices='atom')"
   ]
  },
  {
   "cell_type": "code",
   "execution_count": 4,
   "id": "9d090ca6-6a7c-44b5-887b-7bc937adccbc",
   "metadata": {},
   "outputs": [
    {
     "data": {
      "application/vnd.jupyter.widget-view+json": {
       "model_id": "503fa6932bd044c19213e3c093a5760a",
       "version_major": 2,
       "version_minor": 0
      },
      "text/plain": [
       "NGLWidget()"
      ]
     },
     "metadata": {},
     "output_type": "display_data"
    }
   ],
   "source": [
    "view = msm.view(molsys, standard=True)\n",
    "msm.thirds.nglview.add_contacts(view, np.array(contacts[0]))\n",
    "view"
   ]
  },
  {
   "cell_type": "code",
   "execution_count": null,
   "id": "01ac026c-e931-491c-af9c-9b68e24a59d3",
   "metadata": {},
   "outputs": [],
   "source": []
  }
 ],
 "metadata": {
  "kernelspec": {
   "display_name": "Python 3 (ipykernel)",
   "language": "python",
   "name": "python3"
  },
  "language_info": {
   "codemirror_mode": {
    "name": "ipython",
    "version": 3
   },
   "file_extension": ".py",
   "mimetype": "text/x-python",
   "name": "python",
   "nbconvert_exporter": "python",
   "pygments_lexer": "ipython3",
   "version": "3.12.8"
  }
 },
 "nbformat": 4,
 "nbformat_minor": 5
}
