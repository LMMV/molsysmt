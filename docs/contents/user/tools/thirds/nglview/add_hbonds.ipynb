{
 "cells": [
  {
   "cell_type": "markdown",
   "id": "c79a89ab-fd57-44e9-a29f-5b2ff55c8303",
   "metadata": {},
   "source": [
    "# Add hbonds"
   ]
  },
  {
   "cell_type": "code",
   "execution_count": 1,
   "id": "d0d2d63c-477b-4b98-b1ad-c5539cb6bfaf",
   "metadata": {},
   "outputs": [
    {
     "data": {
      "application/vnd.jupyter.widget-view+json": {
       "model_id": "df4e36caa53849eeb2d2646b330e8849",
       "version_major": 2,
       "version_minor": 0
      },
      "text/plain": []
     },
     "metadata": {},
     "output_type": "display_data"
    }
   ],
   "source": [
    "import molsysmt as msm"
   ]
  },
  {
   "cell_type": "code",
   "execution_count": 2,
   "id": "cdfb9b86-bb28-43bc-8ce1-b8e18fef057c",
   "metadata": {},
   "outputs": [],
   "source": [
    "molsys = msm.convert(msm.systems.demo['Barnase-Barstar']['barnase_barstar.msmpk'])"
   ]
  },
  {
   "cell_type": "code",
   "execution_count": 3,
   "id": "14302ba3-9022-4af6-ae11-18121d80dec0",
   "metadata": {},
   "outputs": [],
   "source": [
    "hbonds, distance, angles = msm.hbonds.get_luzard_chandler_hbonds(molsys, selection='molecule_name==\"Barnase\"',\n",
    "                                              selection_2='molecule_name==\"Barstar\"')"
   ]
  },
  {
   "cell_type": "code",
   "execution_count": 47,
   "id": "c7a2c6fe-7dd5-4930-a1b4-74d5bc24ca1a",
   "metadata": {},
   "outputs": [
    {
     "data": {
      "application/vnd.jupyter.widget-view+json": {
       "model_id": "04efae918bea4a80a7a6c804a6fbbf4a",
       "version_major": 2,
       "version_minor": 0
      },
      "text/plain": [
       "NGLWidget()"
      ]
     },
     "metadata": {},
     "output_type": "display_data"
    }
   ],
   "source": [
    "view = msm.view(molsys)\n",
    "view"
   ]
  },
  {
   "cell_type": "code",
   "execution_count": 48,
   "id": "8cf868e6-aff6-4ad0-9e5f-6889ec3655b2",
   "metadata": {},
   "outputs": [],
   "source": [
    "kwargs=kwargs={'position1':[0,0,0], 'position2':[10,10,10], 'color':[1,0,0], 'color2':[0,1,0], 'radius':[0.2]}\n",
    "msg = view._get_remote_call_msg(\"addBuffer\", target=\"Widget\", args=[\"cylinder\"], kwargs=kwargs, fire_embed=True)\n",
    "\n",
    "def callback(widget, msg=msg):\n",
    "    widget.send(msg)\n",
    "\n",
    "callback._method_name = 'addBuffer'\n",
    "callback._ngl_msg = msg\n",
    "\n",
    "if view.loaded:\n",
    "    view._remote_call_thread.q.append(callback)\n",
    "else:\n",
    "    view._ngl_displayed_callbacks_before_loaded.append(callback)\n",
    "\n",
    "view._ngl_msg_archive.append(msg)"
   ]
  },
  {
   "cell_type": "code",
   "execution_count": null,
   "id": "a6b4197f-e624-40fa-ad45-ecf3c5ad4498",
   "metadata": {},
   "outputs": [],
   "source": []
  }
 ],
 "metadata": {
  "kernelspec": {
   "display_name": "Python 3 (ipykernel)",
   "language": "python",
   "name": "python3"
  },
  "language_info": {
   "codemirror_mode": {
    "name": "ipython",
    "version": 3
   },
   "file_extension": ".py",
   "mimetype": "text/x-python",
   "name": "python",
   "nbconvert_exporter": "python",
   "pygments_lexer": "ipython3",
   "version": "3.10.12"
  }
 },
 "nbformat": 4,
 "nbformat_minor": 5
}
