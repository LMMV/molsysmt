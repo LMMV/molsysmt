{
 "cells": [
  {
   "cell_type": "markdown",
   "id": "c79a89ab-fd57-44e9-a29f-5b2ff55c8303",
   "metadata": {},
   "source": [
    "# Add hbonds"
   ]
  },
  {
   "cell_type": "code",
   "execution_count": 1,
   "id": "d0d2d63c-477b-4b98-b1ad-c5539cb6bfaf",
   "metadata": {},
   "outputs": [
    {
     "data": {
      "application/vnd.jupyter.widget-view+json": {
       "model_id": "b334624abae64b2e8b1f7f81d3dce5b1",
       "version_major": 2,
       "version_minor": 0
      },
      "text/plain": []
     },
     "metadata": {},
     "output_type": "display_data"
    }
   ],
   "source": [
    "import molsysmt as msm\n",
    "import numpy as np\n",
    "from molsysmt import pyunitwizard as puw"
   ]
  },
  {
   "cell_type": "code",
   "execution_count": 2,
   "id": "cdfb9b86-bb28-43bc-8ce1-b8e18fef057c",
   "metadata": {},
   "outputs": [],
   "source": [
    "molsys = msm.convert(msm.systems['Barnase-Barstar']['barnase_barstar.h5msm'])"
   ]
  },
  {
   "cell_type": "code",
   "execution_count": null,
   "id": "14302ba3-9022-4af6-ae11-18121d80dec0",
   "metadata": {},
   "outputs": [],
   "source": [
    "hbonds, distance, angles = msm.hbonds.get_luzard_chandler_hbonds(molsys, selection='molecule_name==\"BARNASE\"',\n",
    "                                              selection_2='molecule_name==\"BARSTAR\"')"
   ]
  },
  {
   "cell_type": "code",
   "execution_count": null,
   "id": "c7a2c6fe-7dd5-4930-a1b4-74d5bc24ca1a",
   "metadata": {},
   "outputs": [],
   "source": [
    "view = msm.view(molsys)"
   ]
  },
  {
   "cell_type": "code",
   "execution_count": null,
   "id": "a7838a1a-18e6-4a1d-be9f-99f02bfb1a1e",
   "metadata": {},
   "outputs": [],
   "source": [
    "msm.thirds.nglview.add_hbonds(view, hbonds[0])"
   ]
  },
  {
   "cell_type": "code",
   "execution_count": null,
   "id": "a78022d5-2853-4d08-a446-0ce9815f548e",
   "metadata": {},
   "outputs": [],
   "source": [
    "view"
   ]
  },
  {
   "cell_type": "code",
   "execution_count": null,
   "id": "baaf8908-7035-4532-91d0-9dff97972972",
   "metadata": {},
   "outputs": [],
   "source": [
    "view._ngl_msg_archive[-len(hbonds[0]):]"
   ]
  },
  {
   "cell_type": "code",
   "execution_count": null,
   "id": "66c86a9b-af49-43b9-96e3-7d5245e842f9",
   "metadata": {},
   "outputs": [],
   "source": [
    "view = msm.view(molsys)\n",
    "msm.thirds.nglview.add_hbonds(view, hbonds, hbond_level='group')\n",
    "view"
   ]
  },
  {
   "cell_type": "code",
   "execution_count": null,
   "id": "a6b4197f-e624-40fa-ad45-ecf3c5ad4498",
   "metadata": {},
   "outputs": [],
   "source": [
    "view._ngl_msg_archive[-1]"
   ]
  },
  {
   "cell_type": "code",
   "execution_count": null,
   "id": "1d9b5604-c965-4a5c-9d38-f431d19fb439",
   "metadata": {},
   "outputs": [],
   "source": []
  }
 ],
 "metadata": {
  "kernelspec": {
   "display_name": "Python 3 (ipykernel)",
   "language": "python",
   "name": "python3"
  },
  "language_info": {
   "codemirror_mode": {
    "name": "ipython",
    "version": 3
   },
   "file_extension": ".py",
   "mimetype": "text/x-python",
   "name": "python",
   "nbconvert_exporter": "python",
   "pygments_lexer": "ipython3",
   "version": "3.12.8"
  }
 },
 "nbformat": 4,
 "nbformat_minor": 5
}
