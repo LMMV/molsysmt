{
 "cells": [
  {
   "cell_type": "markdown",
   "id": "c79a89ab-fd57-44e9-a29f-5b2ff55c8303",
   "metadata": {},
   "source": [
    "# Add hbonds"
   ]
  },
  {
   "cell_type": "code",
   "execution_count": 1,
   "id": "d0d2d63c-477b-4b98-b1ad-c5539cb6bfaf",
   "metadata": {},
   "outputs": [
    {
     "data": {
      "application/vnd.jupyter.widget-view+json": {
       "model_id": "ee5f55c729c44e238abc57b706cd98a5",
       "version_major": 2,
       "version_minor": 0
      },
      "text/plain": []
     },
     "metadata": {},
     "output_type": "display_data"
    }
   ],
   "source": [
    "import molsysmt as msm\n",
    "import numpy as np\n",
    "from molsysmt import pyunitwizard as puw"
   ]
  },
  {
   "cell_type": "code",
   "execution_count": 2,
   "id": "cdfb9b86-bb28-43bc-8ce1-b8e18fef057c",
   "metadata": {},
   "outputs": [],
   "source": [
    "molsys = msm.convert(msm.systems['Barnase-Barstar']['barnase_barstar.h5msm'])"
   ]
  },
  {
   "cell_type": "code",
   "execution_count": 3,
   "id": "14302ba3-9022-4af6-ae11-18121d80dec0",
   "metadata": {},
   "outputs": [],
   "source": [
    "hbonds, distance, angles = msm.hbonds.get_luzard_chandler_hbonds(molsys, selection='molecule_name==\"BARNASE\"',\n",
    "                                              selection_2='molecule_name==\"BARSTAR\"')"
   ]
  },
  {
   "cell_type": "code",
   "execution_count": 4,
   "id": "c7a2c6fe-7dd5-4930-a1b4-74d5bc24ca1a",
   "metadata": {},
   "outputs": [],
   "source": [
    "view = msm.view(molsys)"
   ]
  },
  {
   "cell_type": "code",
   "execution_count": 5,
   "id": "a7838a1a-18e6-4a1d-be9f-99f02bfb1a1e",
   "metadata": {},
   "outputs": [],
   "source": [
    "msm.thirds.nglview.add_hbonds(view, hbonds[0])"
   ]
  },
  {
   "cell_type": "code",
   "execution_count": 6,
   "id": "a78022d5-2853-4d08-a446-0ce9815f548e",
   "metadata": {},
   "outputs": [
    {
     "data": {
      "application/vnd.jupyter.widget-view+json": {
       "model_id": "5d5e24e2431047379ac8c5b7afaf64da",
       "version_major": 2,
       "version_minor": 0
      },
      "text/plain": [
       "NGLWidget()"
      ]
     },
     "metadata": {},
     "output_type": "display_data"
    }
   ],
   "source": [
    "view"
   ]
  },
  {
   "cell_type": "code",
   "execution_count": 7,
   "id": "baaf8908-7035-4532-91d0-9dff97972972",
   "metadata": {},
   "outputs": [
    {
     "data": {
      "text/plain": [
       "[{'target': 'Widget',\n",
       "  'type': 'call_method',\n",
       "  'methodName': 'addBuffer',\n",
       "  'reconstruc_color_scheme': False,\n",
       "  'args': ['cylinder'],\n",
       "  'kwargs': {'position1': [-5.247293710708618,\n",
       "    19.186444282531735,\n",
       "    19.44340348243713],\n",
       "   'position2': [-3.686832785606384, 18.340388536453244, 19.435247182846066],\n",
       "   'color': (1.0, 0.7647058823529411, 0.0),\n",
       "   'color2': (1.0, 0.7647058823529411, 0.0),\n",
       "   'radius': [0.1]},\n",
       "  'fire_embed': True},\n",
       " {'target': 'Widget',\n",
       "  'type': 'call_method',\n",
       "  'methodName': 'addBuffer',\n",
       "  'reconstruc_color_scheme': False,\n",
       "  'args': ['cylinder'],\n",
       "  'kwargs': {'position1': [-6.685975193977355,\n",
       "    18.89811277389526,\n",
       "    20.17341375350952],\n",
       "   'position2': [-7.354150414466857, 17.8285801410675, 21.60024404525757],\n",
       "   'color': (1.0, 0.7647058823529411, 0.0),\n",
       "   'color2': (1.0, 0.7647058823529411, 0.0),\n",
       "   'radius': [0.1]},\n",
       "  'fire_embed': True},\n",
       " {'target': 'Widget',\n",
       "  'type': 'call_method',\n",
       "  'methodName': 'addBuffer',\n",
       "  'reconstruc_color_scheme': False,\n",
       "  'args': ['cylinder'],\n",
       "  'kwargs': {'position1': [-6.210030913352966,\n",
       "    6.627396941184998,\n",
       "    20.4465389251709],\n",
       "   'position2': [-6.3025277853012085, 7.862630486488341, 21.76173686981201],\n",
       "   'color': (1.0, 0.7647058823529411, 0.0),\n",
       "   'color2': (1.0, 0.7647058823529411, 0.0),\n",
       "   'radius': [0.1]},\n",
       "  'fire_embed': True},\n",
       " {'target': 'Widget',\n",
       "  'type': 'call_method',\n",
       "  'methodName': 'addBuffer',\n",
       "  'reconstruc_color_scheme': False,\n",
       "  'args': ['cylinder'],\n",
       "  'kwargs': {'position1': [-4.144642949104308,\n",
       "    26.535282135009766,\n",
       "    27.01393365859985],\n",
       "   'position2': [-3.775904476642608, 25.063350200653076, 25.93294620513916],\n",
       "   'color': (1.0, 0.7647058823529411, 0.0),\n",
       "   'color2': (1.0, 0.7647058823529411, 0.0),\n",
       "   'radius': [0.1]},\n",
       "  'fire_embed': True},\n",
       " {'target': 'Widget',\n",
       "  'type': 'call_method',\n",
       "  'methodName': 'addBuffer',\n",
       "  'reconstruc_color_scheme': False,\n",
       "  'args': ['cylinder'],\n",
       "  'kwargs': {'position1': [-9.159447550773619,\n",
       "    23.250844478607178,\n",
       "    30.010797977447506],\n",
       "   'position2': [-10.895626544952393, 23.138952255249023, 29.83021259307861],\n",
       "   'color': (1.0, 0.7647058823529411, 0.0),\n",
       "   'color2': (1.0, 0.7647058823529411, 0.0),\n",
       "   'radius': [0.1]},\n",
       "  'fire_embed': True},\n",
       " {'target': 'Widget',\n",
       "  'type': 'call_method',\n",
       "  'methodName': 'addBuffer',\n",
       "  'reconstruc_color_scheme': False,\n",
       "  'args': ['cylinder'],\n",
       "  'kwargs': {'position1': [-10.028960704803467,\n",
       "    22.802672386169434,\n",
       "    28.29990148544311],\n",
       "   'position2': [-10.895626544952393, 23.138952255249023, 29.83021259307861],\n",
       "   'color': (1.0, 0.7647058823529411, 0.0),\n",
       "   'color2': (1.0, 0.7647058823529411, 0.0),\n",
       "   'radius': [0.1]},\n",
       "  'fire_embed': True},\n",
       " {'target': 'Widget',\n",
       "  'type': 'call_method',\n",
       "  'methodName': 'addBuffer',\n",
       "  'reconstruc_color_scheme': False,\n",
       "  'args': ['cylinder'],\n",
       "  'kwargs': {'position1': [-1.8626928329467771,\n",
       "    26.986129283905026,\n",
       "    27.84260034561157],\n",
       "   'position2': [-2.01196938753128, 26.345398426055908, 26.044774055480957],\n",
       "   'color': (1.0, 0.7647058823529411, 0.0),\n",
       "   'color2': (1.0, 0.7647058823529411, 0.0),\n",
       "   'radius': [0.1]},\n",
       "  'fire_embed': True},\n",
       " {'target': 'Widget',\n",
       "  'type': 'call_method',\n",
       "  'methodName': 'addBuffer',\n",
       "  'reconstruc_color_scheme': False,\n",
       "  'args': ['cylinder'],\n",
       "  'kwargs': {'position1': [-3.1241124868392944,\n",
       "    15.150575637817381,\n",
       "    17.930588722229],\n",
       "   'position2': [-3.5638552904129024, 13.467502593994139, 18.639309406280514],\n",
       "   'color': (1.0, 0.7647058823529411, 0.0),\n",
       "   'color2': (1.0, 0.7647058823529411, 0.0),\n",
       "   'radius': [0.1]},\n",
       "  'fire_embed': True},\n",
       " {'target': 'Widget',\n",
       "  'type': 'call_method',\n",
       "  'methodName': 'addBuffer',\n",
       "  'reconstruc_color_scheme': False,\n",
       "  'args': ['cylinder'],\n",
       "  'kwargs': {'position1': [-3.3161571621894836,\n",
       "    16.756920814514157,\n",
       "    18.623909950256344],\n",
       "   'position2': [-3.686832785606384, 18.340388536453244, 19.435247182846066],\n",
       "   'color': (1.0, 0.7647058823529411, 0.0),\n",
       "   'color2': (1.0, 0.7647058823529411, 0.0),\n",
       "   'radius': [0.1]},\n",
       "  'fire_embed': True},\n",
       " {'target': 'Widget',\n",
       "  'type': 'call_method',\n",
       "  'methodName': 'addBuffer',\n",
       "  'reconstruc_color_scheme': False,\n",
       "  'args': ['cylinder'],\n",
       "  'kwargs': {'position1': [-2.920057773590088,\n",
       "    18.471298217773434,\n",
       "    17.67906546592712],\n",
       "   'position2': [-3.686832785606384, 18.340388536453244, 19.435247182846066],\n",
       "   'color': (1.0, 0.7647058823529411, 0.0),\n",
       "   'color2': (1.0, 0.7647058823529411, 0.0),\n",
       "   'radius': [0.1]},\n",
       "  'fire_embed': True},\n",
       " {'target': 'Widget',\n",
       "  'type': 'call_method',\n",
       "  'methodName': 'addBuffer',\n",
       "  'reconstruc_color_scheme': False,\n",
       "  'args': ['cylinder'],\n",
       "  'kwargs': {'position1': [-0.9295479953289031,\n",
       "    20.004606246948242,\n",
       "    18.160806894302365],\n",
       "   'position2': [-1.5206241607666016, 18.48177075386047, 19.456453323364254],\n",
       "   'color': (1.0, 0.7647058823529411, 0.0),\n",
       "   'color2': (1.0, 0.7647058823529411, 0.0),\n",
       "   'radius': [0.1]},\n",
       "  'fire_embed': True},\n",
       " {'target': 'Widget',\n",
       "  'type': 'call_method',\n",
       "  'methodName': 'addBuffer',\n",
       "  'reconstruc_color_scheme': False,\n",
       "  'args': ['cylinder'],\n",
       "  'kwargs': {'position1': [-0.06234965752810239,\n",
       "    18.07005405426025,\n",
       "    18.55726361274719],\n",
       "   'position2': [-1.5206241607666016, 18.48177075386047, 19.456453323364254],\n",
       "   'color': (1.0, 0.7647058823529411, 0.0),\n",
       "   'color2': (1.0, 0.7647058823529411, 0.0),\n",
       "   'radius': [0.1]},\n",
       "  'fire_embed': True},\n",
       " {'target': 'Widget',\n",
       "  'type': 'call_method',\n",
       "  'methodName': 'addBuffer',\n",
       "  'reconstruc_color_scheme': False,\n",
       "  'args': ['cylinder'],\n",
       "  'kwargs': {'position1': [4.429079890251159,\n",
       "    16.80558085441589,\n",
       "    21.864187717437744],\n",
       "   'position2': [6.463786363601685, 16.914893388748165, 21.98854923248291],\n",
       "   'color': (1.0, 0.7647058823529411, 0.0),\n",
       "   'color2': (1.0, 0.7647058823529411, 0.0),\n",
       "   'radius': [0.1]},\n",
       "  'fire_embed': True},\n",
       " {'target': 'Widget',\n",
       "  'type': 'call_method',\n",
       "  'methodName': 'addBuffer',\n",
       "  'reconstruc_color_scheme': False,\n",
       "  'args': ['cylinder'],\n",
       "  'kwargs': {'position1': [7.886076569557189,\n",
       "    21.144845485687256,\n",
       "    27.1231198310852],\n",
       "   'position2': [6.088290214538574, 20.526785850524902, 27.205274105072018],\n",
       "   'color': (1.0, 0.7647058823529411, 0.0),\n",
       "   'color2': (1.0, 0.7647058823529411, 0.0),\n",
       "   'radius': [0.1]},\n",
       "  'fire_embed': True},\n",
       " {'target': 'Widget',\n",
       "  'type': 'call_method',\n",
       "  'methodName': 'addBuffer',\n",
       "  'reconstruc_color_scheme': False,\n",
       "  'args': ['cylinder'],\n",
       "  'kwargs': {'position1': [3.5935053229331966,\n",
       "    21.946885585784912,\n",
       "    25.251073837280273],\n",
       "   'position2': [3.7323477864265437, 21.483581066131592, 23.264484405517578],\n",
       "   'color': (1.0, 0.7647058823529411, 0.0),\n",
       "   'color2': (1.0, 0.7647058823529411, 0.0),\n",
       "   'radius': [0.1]},\n",
       "  'fire_embed': True},\n",
       " {'target': 'Widget',\n",
       "  'type': 'call_method',\n",
       "  'methodName': 'addBuffer',\n",
       "  'reconstruc_color_scheme': False,\n",
       "  'args': ['cylinder'],\n",
       "  'kwargs': {'position1': [0.708894357085228,\n",
       "    22.803034782409668,\n",
       "    29.830343723297116],\n",
       "   'position2': [0.9796330332756041, 24.627838134765625, 29.675526618957516],\n",
       "   'color': (1.0, 0.7647058823529411, 0.0),\n",
       "   'color2': (1.0, 0.7647058823529411, 0.0),\n",
       "   'radius': [0.1]},\n",
       "  'fire_embed': True}]"
      ]
     },
     "execution_count": 7,
     "metadata": {},
     "output_type": "execute_result"
    }
   ],
   "source": [
    "view._ngl_msg_archive[-len(hbonds[0]):]"
   ]
  },
  {
   "cell_type": "code",
   "execution_count": null,
   "id": "66c86a9b-af49-43b9-96e3-7d5245e842f9",
   "metadata": {},
   "outputs": [],
   "source": [
    "view = msm.view(molsys)\n",
    "msm.thirds.nglview.add_hbonds(view, hbonds, hbond_level='group')\n",
    "view"
   ]
  },
  {
   "cell_type": "code",
   "execution_count": null,
   "id": "a6b4197f-e624-40fa-ad45-ecf3c5ad4498",
   "metadata": {},
   "outputs": [],
   "source": [
    "view._ngl_msg_archive[-1]"
   ]
  },
  {
   "cell_type": "code",
   "execution_count": null,
   "id": "1d9b5604-c965-4a5c-9d38-f431d19fb439",
   "metadata": {},
   "outputs": [],
   "source": []
  }
 ],
 "metadata": {
  "kernelspec": {
   "display_name": "Python 3 (ipykernel)",
   "language": "python",
   "name": "python3"
  },
  "language_info": {
   "codemirror_mode": {
    "name": "ipython",
    "version": 3
   },
   "file_extension": ".py",
   "mimetype": "text/x-python",
   "name": "python",
   "nbconvert_exporter": "python",
   "pygments_lexer": "ipython3",
   "version": "3.12.8"
  }
 },
 "nbformat": 4,
 "nbformat_minor": 5
}
