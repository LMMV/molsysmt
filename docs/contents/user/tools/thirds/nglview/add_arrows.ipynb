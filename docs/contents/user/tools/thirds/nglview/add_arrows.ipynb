{
 "cells": [
  {
   "cell_type": "markdown",
   "id": "076f5fb3-fdc5-4cad-a0f2-2dd0dc0173a6",
   "metadata": {},
   "source": [
    "# Add arrows"
   ]
  },
  {
   "cell_type": "code",
   "execution_count": 1,
   "id": "ce3cebe7-4369-4d23-a8ba-4b1ed7758c9f",
   "metadata": {},
   "outputs": [
    {
     "data": {
      "application/vnd.jupyter.widget-view+json": {
       "model_id": "651d53ded2944d8fb32196b30d0a8dc8",
       "version_major": 2,
       "version_minor": 0
      },
      "text/plain": []
     },
     "metadata": {},
     "output_type": "display_data"
    }
   ],
   "source": [
    "import molsysmt as msm\n",
    "from molsysmt import pyunitwizard as puw\n",
    "import numpy as np"
   ]
  },
  {
   "cell_type": "code",
   "execution_count": 2,
   "id": "7f117f22-46e0-4928-a192-dc68f7e9d9e3",
   "metadata": {},
   "outputs": [],
   "source": [
    "molecular_system = msm.convert('181L', selection='molecule_type==\"protein\"')"
   ]
  },
  {
   "cell_type": "code",
   "execution_count": 3,
   "id": "9ede7e3b-1de2-4414-9c5a-513866826718",
   "metadata": {},
   "outputs": [],
   "source": [
    "n_CAs, coordinates_CAs = msm.get(molecular_system, selection='atom_name==\"CA\"', n_atoms=True, coordinates=True)"
   ]
  },
  {
   "cell_type": "code",
   "execution_count": 4,
   "id": "ec81e187-2f2a-4399-9192-1940a1dd1c37",
   "metadata": {},
   "outputs": [],
   "source": [
    "arrows = puw.quantity(2.0*np.ones([n_CAs,3]), 'angstroms')"
   ]
  },
  {
   "cell_type": "code",
   "execution_count": 5,
   "id": "9ef8c575-e40d-451b-a2e5-93192433a005",
   "metadata": {},
   "outputs": [],
   "source": [
    "view = msm.view(molecular_system)"
   ]
  },
  {
   "cell_type": "code",
   "execution_count": 6,
   "id": "1c3ab7aa-d99a-4ace-838b-225c2040ca0a",
   "metadata": {},
   "outputs": [],
   "source": [
    "msm.thirds.nglview.add_arrows(view, arrows, origin=coordinates_CAs)"
   ]
  },
  {
   "cell_type": "code",
   "execution_count": 7,
   "id": "4b119c2b-4f60-440e-9964-5979a32a380a",
   "metadata": {},
   "outputs": [],
   "source": [
    "msm.thirds.nglview.add_arrows(view, puw.quantity([[10,0,0],[0,10,0],[0,0,10]], 'angstroms'),\n",
    "                              origin=puw.quantity([[0,0,0],[0,0,0],[0,0,0]], 'angstroms'),\n",
    "                              color=['#FF0000', '#00FF00', '#0000FF'], radius='0.2 angstroms')"
   ]
  },
  {
   "cell_type": "code",
   "execution_count": 8,
   "id": "929d66d7-d205-434b-b5e8-47fb27705f61",
   "metadata": {},
   "outputs": [
    {
     "data": {
      "application/vnd.jupyter.widget-view+json": {
       "model_id": "5ef73157669947c0b4f4f9c1f63dca2a",
       "version_major": 2,
       "version_minor": 0
      },
      "text/plain": [
       "NGLWidget()"
      ]
     },
     "metadata": {},
     "output_type": "display_data"
    }
   ],
   "source": [
    "view\n",
    "\n"
   ]
  },
  {
   "cell_type": "code",
   "execution_count": 54,
   "id": "105bad4e-7ee2-43de-9a80-68544a9ff2e8",
   "metadata": {},
   "outputs": [],
   "source": [
    "view = msm.view(molecular_system)"
   ]
  },
  {
   "cell_type": "code",
   "execution_count": 55,
   "id": "a7f9cb89-6fa5-4f76-a570-a6d0faf46e38",
   "metadata": {},
   "outputs": [],
   "source": [
    "arrows = puw.quantity([[9,0,0],[0,6,0],[0,0,-12], [0,5,5]], 'angstroms')"
   ]
  },
  {
   "cell_type": "code",
   "execution_count": 56,
   "id": "44bb51fc-d81d-47bb-9a6d-9db96a95cd04",
   "metadata": {},
   "outputs": [],
   "source": [
    "msm.thirds.nglview.add_arrows(view, arrows, selection='atom_name==\"CA\" and group_index in [10,30,60,90]', color='#0B6E4F', \n",
    "                             radius='0.5 angstroms')"
   ]
  },
  {
   "cell_type": "code",
   "execution_count": 57,
   "id": "5fab1a62-1800-4e6d-b968-2e0777171375",
   "metadata": {},
   "outputs": [
    {
     "data": {
      "application/vnd.jupyter.widget-view+json": {
       "model_id": "cb126cd2594746e79e6e993663cfd850",
       "version_major": 2,
       "version_minor": 0
      },
      "text/plain": [
       "NGLWidget()"
      ]
     },
     "metadata": {},
     "output_type": "display_data"
    }
   ],
   "source": [
    "view"
   ]
  }
 ],
 "metadata": {
  "kernelspec": {
   "display_name": "Python 3 (ipykernel)",
   "language": "python",
   "name": "python3"
  },
  "language_info": {
   "codemirror_mode": {
    "name": "ipython",
    "version": 3
   },
   "file_extension": ".py",
   "mimetype": "text/x-python",
   "name": "python",
   "nbconvert_exporter": "python",
   "pygments_lexer": "ipython3",
   "version": "3.11.9"
  }
 },
 "nbformat": 4,
 "nbformat_minor": 5
}
