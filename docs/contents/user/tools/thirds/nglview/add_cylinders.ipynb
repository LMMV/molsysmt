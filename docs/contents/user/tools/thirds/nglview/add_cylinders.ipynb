{
 "cells": [
  {
   "cell_type": "markdown",
   "id": "076f5fb3-fdc5-4cad-a0f2-2dd0dc0173a6",
   "metadata": {},
   "source": [
    "# Add cylinders"
   ]
  },
  {
   "cell_type": "code",
   "execution_count": 1,
   "id": "929d66d7-d205-434b-b5e8-47fb27705f61",
   "metadata": {},
   "outputs": [
    {
     "data": {
      "application/vnd.jupyter.widget-view+json": {
       "model_id": "ddf03771dd86420cb065f7da77c7ab87",
       "version_major": 2,
       "version_minor": 0
      },
      "text/plain": []
     },
     "metadata": {},
     "output_type": "display_data"
    }
   ],
   "source": [
    "import molsysmt as msm\n",
    "from molsysmt import pyunitwizard as puw\n",
    "import nglview as nv"
   ]
  },
  {
   "cell_type": "code",
   "execution_count": 2,
   "id": "ab05e759-8009-4338-aff8-177da392ab73",
   "metadata": {},
   "outputs": [
    {
     "data": {
      "application/vnd.jupyter.widget-view+json": {
       "model_id": "8c0b05a4be564c64b8b4e095e12abfc1",
       "version_major": 2,
       "version_minor": 0
      },
      "text/plain": [
       "NGLWidget()"
      ]
     },
     "metadata": {},
     "output_type": "display_data"
    }
   ],
   "source": [
    "view = nv.NGLWidget()\n",
    "\n",
    "start = puw.quantity([[0,0,0], [0,5,0]], 'angstroms')\n",
    "end = puw.quantity([[10,0,0], [0,10,0]], 'angstroms')\n",
    "\n",
    "msm.thirds.nglview.add_cylinders(view, start, end, color='#ff0000', color_2='#0000ff', radius='0.2 angstroms')\n",
    "\n",
    "view"
   ]
  },
  {
   "cell_type": "code",
   "execution_count": 3,
   "id": "61d7e27b-2e7b-44e3-b950-a4e374113668",
   "metadata": {},
   "outputs": [
    {
     "name": "stdout",
     "output_type": "stream",
     "text": [
      "Help on method func in module nglview.utils.widget_utils:\n",
      "\n",
      "func(selection='all', **kwargs) method of nglview.widget.NGLWidget instance\n",
      "    Shortcut for `add_representation` method\n",
      "    \n",
      "    Examples\n",
      "    --------\n",
      "    >>> view.add_contact()\n",
      "    >>> # is equal to\n",
      "    >>> view.add_representation('contact')\n",
      "\n"
     ]
    }
   ],
   "source": [
    "help(view.add_contact)"
   ]
  },
  {
   "cell_type": "code",
   "execution_count": null,
   "id": "14b33437-8b4d-464f-9edc-9ea7dc0684e2",
   "metadata": {},
   "outputs": [],
   "source": [
    "view._ngl_msg_archive"
   ]
  },
  {
   "cell_type": "code",
   "execution_count": 4,
   "id": "09b930a3-ace1-47bc-ad85-fe345e5411c3",
   "metadata": {},
   "outputs": [],
   "source": [
    "molsys = msm.convert(msm.systems.demo['chicken villin HP35']['chicken_villin_HP35.msmpk'])"
   ]
  },
  {
   "cell_type": "code",
   "execution_count": 5,
   "id": "0725129a-9a08-45cd-8ce2-211b9d8b6329",
   "metadata": {},
   "outputs": [
    {
     "data": {
      "application/vnd.jupyter.widget-view+json": {
       "model_id": "e45c10677e62436fb364977d77efd7a4",
       "version_major": 2,
       "version_minor": 0
      },
      "text/plain": [
       "NGLWidget()"
      ]
     },
     "metadata": {},
     "output_type": "display_data"
    }
   ],
   "source": [
    "view = msm.view(molsys, standard=True)\n",
    "view"
   ]
  },
  {
   "cell_type": "code",
   "execution_count": 9,
   "id": "d14f87c4-2bab-4e22-866d-16de0e8ef397",
   "metadata": {},
   "outputs": [
    {
     "ename": "TypeError",
     "evalue": "_add_repr_method_shortcut.<locals>.make_func_add.<locals>.func() takes from 1 to 2 positional arguments but 3 were given",
     "output_type": "error",
     "traceback": [
      "\u001b[0;31m---------------------------------------------------------------------------\u001b[0m",
      "\u001b[0;31mTypeError\u001b[0m                                 Traceback (most recent call last)",
      "Cell \u001b[0;32mIn[9], line 1\u001b[0m\n\u001b[0;32m----> 1\u001b[0m \u001b[43mview\u001b[49m\u001b[38;5;241;43m.\u001b[39;49m\u001b[43madd_contact\u001b[49m\u001b[43m(\u001b[49m\u001b[38;5;124;43m'\u001b[39;49m\u001b[38;5;124;43mhydrogen_bond\u001b[39;49m\u001b[38;5;124;43m'\u001b[39;49m\u001b[43m,\u001b[49m\u001b[43m \u001b[49m\u001b[43m{\u001b[49m\u001b[38;5;124;43m'\u001b[39;49m\u001b[38;5;124;43matom1\u001b[39;49m\u001b[38;5;124;43m'\u001b[39;49m\u001b[43m:\u001b[49m\u001b[38;5;241;43m0\u001b[39;49m\u001b[43m,\u001b[49m\u001b[43m \u001b[49m\u001b[38;5;124;43m'\u001b[39;49m\u001b[38;5;124;43matom2\u001b[39;49m\u001b[38;5;124;43m'\u001b[39;49m\u001b[43m:\u001b[49m\u001b[38;5;241;43m10\u001b[39;49m\u001b[43m}\u001b[49m\u001b[43m)\u001b[49m\n",
      "\u001b[0;31mTypeError\u001b[0m: _add_repr_method_shortcut.<locals>.make_func_add.<locals>.func() takes from 1 to 2 positional arguments but 3 were given"
     ]
    }
   ],
   "source": [
    "view.add_contact('hydrogen_bond', {'atom1':0, 'atom2':10})"
   ]
  },
  {
   "cell_type": "code",
   "execution_count": null,
   "id": "79c2304f-5417-4590-9032-4fd8fb94118e",
   "metadata": {},
   "outputs": [],
   "source": [
    "contacts = msm.structure.get_contacts(molsys, selection='atom_name==\"CA\"', threshold='9 angstroms',\n",
    "                                     output_type='pairs', output_indices='atom_index')"
   ]
  },
  {
   "cell_type": "code",
   "execution_count": null,
   "id": "ba09d881-d845-4d6f-81ab-c5e7199a5fe5",
   "metadata": {},
   "outputs": [],
   "source": [
    "start = msm.get(molsys, element='atom', selection=contacts[0][:,0], coordinates=True)\n",
    "end = msm.get(molsys, element='atom', selection=contacts[0][:,1], coordinates=True)"
   ]
  },
  {
   "cell_type": "code",
   "execution_count": null,
   "id": "9d090ca6-6a7c-44b5-887b-7bc937adccbc",
   "metadata": {},
   "outputs": [],
   "source": [
    "view = msm.view(molsys, standard=True)\n",
    "msm.thirds.nglview.add_cylinders(view, start[0], end[0])\n",
    "view"
   ]
  },
  {
   "cell_type": "code",
   "execution_count": null,
   "id": "21d45186-cccf-42f4-80ad-2036470809ae",
   "metadata": {},
   "outputs": [],
   "source": [
    "start, groups_start = msm.get(molsys, element='atom', selection=contacts[0][:,0], coordinates=True, group_index=True)\n",
    "end, groups_end = msm.get(molsys, element='atom', selection=contacts[0][:,1], coordinates=True, group_index=True)"
   ]
  },
  {
   "cell_type": "code",
   "execution_count": null,
   "id": "fdf87147-2ddb-4800-ae64-49dc09d49dba",
   "metadata": {},
   "outputs": [],
   "source": [
    "view = msm.view(molsys, standard=True)\n",
    "msm.thirds.nglview.add_cylinders(view, start[0], end[0], color_values=groups_start, color_values_2=groups_end,\n",
    "                                 colormap='viridis')\n",
    "view"
   ]
  }
 ],
 "metadata": {
  "kernelspec": {
   "display_name": "Python 3 (ipykernel)",
   "language": "python",
   "name": "python3"
  },
  "language_info": {
   "codemirror_mode": {
    "name": "ipython",
    "version": 3
   },
   "file_extension": ".py",
   "mimetype": "text/x-python",
   "name": "python",
   "nbconvert_exporter": "python",
   "pygments_lexer": "ipython3",
   "version": "3.10.12"
  }
 },
 "nbformat": 4,
 "nbformat_minor": 5
}
