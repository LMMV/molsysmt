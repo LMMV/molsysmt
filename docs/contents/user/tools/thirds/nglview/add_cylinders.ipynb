{
 "cells": [
  {
   "cell_type": "markdown",
   "id": "076f5fb3-fdc5-4cad-a0f2-2dd0dc0173a6",
   "metadata": {},
   "source": [
    "# Add cylinders"
   ]
  },
  {
   "cell_type": "code",
   "execution_count": 1,
   "id": "929d66d7-d205-434b-b5e8-47fb27705f61",
   "metadata": {},
   "outputs": [
    {
     "data": {
      "application/vnd.jupyter.widget-view+json": {
       "model_id": "19fcfec3e1e247259210d4e147e40154",
       "version_major": 2,
       "version_minor": 0
      },
      "text/plain": []
     },
     "metadata": {},
     "output_type": "display_data"
    }
   ],
   "source": [
    "import molsysmt as msm\n",
    "from molsysmt import pyunitwizard as puw\n",
    "import nglview as nv"
   ]
  },
  {
   "cell_type": "code",
   "execution_count": 2,
   "id": "ab05e759-8009-4338-aff8-177da392ab73",
   "metadata": {},
   "outputs": [
    {
     "data": {
      "application/vnd.jupyter.widget-view+json": {
       "model_id": "d79747cfcffe46089ab1734e6a87c3a6",
       "version_major": 2,
       "version_minor": 0
      },
      "text/plain": [
       "NGLWidget()"
      ]
     },
     "metadata": {},
     "output_type": "display_data"
    }
   ],
   "source": [
    "view = nv.NGLWidget()\n",
    "\n",
    "start = puw.quantity([[0,0,0], [0,5,0]], 'angstroms')\n",
    "end = puw.quantity([[10,0,0], [0,10,0]], 'angstroms')\n",
    "\n",
    "msm.thirds.nglview.add_cylinders(view, start, end, color='#ff0000', color2='#0000ff', radius='0.2 angstroms')\n",
    "\n",
    "view"
   ]
  },
  {
   "cell_type": "code",
   "execution_count": 3,
   "id": "09b930a3-ace1-47bc-ad85-fe345e5411c3",
   "metadata": {},
   "outputs": [],
   "source": [
    "molsys = msm.convert(msm.systems.demo['chicken villin HP35']['chicken_villin_HP35.msmpk'])"
   ]
  },
  {
   "cell_type": "code",
   "execution_count": 4,
   "id": "79c2304f-5417-4590-9032-4fd8fb94118e",
   "metadata": {},
   "outputs": [],
   "source": [
    "contacts = msm.structure.get_contacts(molsys, selection='atom_name==\"CA\"', threshold='9 angstroms',\n",
    "                                     output_type='pairs', output_indices='atom_index')"
   ]
  },
  {
   "cell_type": "code",
   "execution_count": 5,
   "id": "ba09d881-d845-4d6f-81ab-c5e7199a5fe5",
   "metadata": {},
   "outputs": [],
   "source": [
    "start = msm.get(molsys, element='atom', selection=contacts[0][:,0], coordinates=True)\n",
    "end = msm.get(molsys, element='atom', selection=contacts[0][:,1], coordinates=True)"
   ]
  },
  {
   "cell_type": "code",
   "execution_count": 9,
   "id": "9d090ca6-6a7c-44b5-887b-7bc937adccbc",
   "metadata": {},
   "outputs": [],
   "source": [
    "view = msm.view(molsys, standard=True)"
   ]
  },
  {
   "cell_type": "code",
   "execution_count": 10,
   "id": "67d0c6f0-44b7-40c8-a75e-6dedd3b55dd7",
   "metadata": {},
   "outputs": [],
   "source": [
    "msm.thirds.nglview.add_cylinders(view, start[0], end[0], radius='0.1 angstroms')"
   ]
  },
  {
   "cell_type": "code",
   "execution_count": 11,
   "id": "8d6e264a-8d01-4f6a-bdbf-357a3fe1e360",
   "metadata": {},
   "outputs": [
    {
     "data": {
      "application/vnd.jupyter.widget-view+json": {
       "model_id": "09525876e2724c2a9f139f0f07df0b1e",
       "version_major": 2,
       "version_minor": 0
      },
      "text/plain": [
       "NGLWidget()"
      ]
     },
     "metadata": {},
     "output_type": "display_data"
    }
   ],
   "source": [
    "view"
   ]
  }
 ],
 "metadata": {
  "kernelspec": {
   "display_name": "Python 3 (ipykernel)",
   "language": "python",
   "name": "python3"
  },
  "language_info": {
   "codemirror_mode": {
    "name": "ipython",
    "version": 3
   },
   "file_extension": ".py",
   "mimetype": "text/x-python",
   "name": "python",
   "nbconvert_exporter": "python",
   "pygments_lexer": "ipython3",
   "version": "3.10.12"
  }
 },
 "nbformat": 4,
 "nbformat_minor": 5
}
