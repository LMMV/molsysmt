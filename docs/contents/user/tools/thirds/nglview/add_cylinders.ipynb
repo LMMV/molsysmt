{
 "cells": [
  {
   "cell_type": "markdown",
   "id": "076f5fb3-fdc5-4cad-a0f2-2dd0dc0173a6",
   "metadata": {},
   "source": [
    "# Add cylinders"
   ]
  },
  {
   "cell_type": "code",
   "execution_count": 20,
   "id": "929d66d7-d205-434b-b5e8-47fb27705f61",
   "metadata": {},
   "outputs": [],
   "source": [
    "import molsysmt as msm\n",
    "from molsysmt import pyunitwizard as puw\n",
    "import nglview as nv\n",
    "import numpy as np"
   ]
  },
  {
   "cell_type": "code",
   "execution_count": 2,
   "id": "ab05e759-8009-4338-aff8-177da392ab73",
   "metadata": {},
   "outputs": [
    {
     "data": {
      "application/vnd.jupyter.widget-view+json": {
       "model_id": "096c947686a44d3da960be5e7e5176b2",
       "version_major": 2,
       "version_minor": 0
      },
      "text/plain": [
       "NGLWidget()"
      ]
     },
     "metadata": {},
     "output_type": "display_data"
    }
   ],
   "source": [
    "view = nv.NGLWidget()\n",
    "\n",
    "start = puw.quantity([[0,0,0], [0,5,0]], 'angstroms')\n",
    "end = puw.quantity([[10,0,0], [0,10,0]], 'angstroms')\n",
    "\n",
    "msm.thirds.nglview.add_cylinders(view, start, end, color='#ff0000', color_2='#0000ff', radius='0.2 angstroms')\n",
    "\n",
    "view"
   ]
  },
  {
   "cell_type": "code",
   "execution_count": 3,
   "id": "61d7e27b-2e7b-44e3-b950-a4e374113668",
   "metadata": {},
   "outputs": [
    {
     "name": "stdout",
     "output_type": "stream",
     "text": [
      "Help on method func in module nglview.utils.widget_utils:\n",
      "\n",
      "func(selection='all', **kwargs) method of nglview.widget.NGLWidget instance\n",
      "    Shortcut for `add_representation` method\n",
      "    \n",
      "    Examples\n",
      "    --------\n",
      "    >>> view.add_contact()\n",
      "    >>> # is equal to\n",
      "    >>> view.add_representation('contact')\n",
      "\n"
     ]
    }
   ],
   "source": [
    "help(view.add_contact)"
   ]
  },
  {
   "cell_type": "code",
   "execution_count": 4,
   "id": "14b33437-8b4d-464f-9edc-9ea7dc0684e2",
   "metadata": {},
   "outputs": [
    {
     "data": {
      "text/plain": [
       "[{'target': 'Widget',\n",
       "  'type': 'call_method',\n",
       "  'methodName': 'addBuffer',\n",
       "  'reconstruc_color_scheme': False,\n",
       "  'args': ['cylinder'],\n",
       "  'kwargs': {'position1': [0, 0, 0],\n",
       "   'position2': [10, 0, 0],\n",
       "   'color': (1.0, 0.0, 0.0),\n",
       "   'color2': (0.0, 0.0, 1.0),\n",
       "   'radius': [0.2]},\n",
       "  'fire_embed': True},\n",
       " {'target': 'Widget',\n",
       "  'type': 'call_method',\n",
       "  'methodName': 'addBuffer',\n",
       "  'reconstruc_color_scheme': False,\n",
       "  'args': ['cylinder'],\n",
       "  'kwargs': {'position1': [0, 5, 0],\n",
       "   'position2': [0, 10, 0],\n",
       "   'color': (1.0, 0.0, 0.0),\n",
       "   'color2': (0.0, 0.0, 1.0),\n",
       "   'radius': [0.2]},\n",
       "  'fire_embed': True}]"
      ]
     },
     "execution_count": 4,
     "metadata": {},
     "output_type": "execute_result"
    }
   ],
   "source": [
    "view._ngl_msg_archive"
   ]
  },
  {
   "cell_type": "code",
   "execution_count": 6,
   "id": "09b930a3-ace1-47bc-ad85-fe345e5411c3",
   "metadata": {},
   "outputs": [],
   "source": [
    "molsys = msm.convert(msm.systems['chicken villin HP35']['chicken_villin_HP35.h5msm'])"
   ]
  },
  {
   "cell_type": "code",
   "execution_count": 7,
   "id": "0725129a-9a08-45cd-8ce2-211b9d8b6329",
   "metadata": {},
   "outputs": [
    {
     "data": {
      "application/vnd.jupyter.widget-view+json": {
       "model_id": "ffc2cc5d057a45c6a52d64a6b3f52a20",
       "version_major": 2,
       "version_minor": 0
      },
      "text/plain": [
       "NGLWidget()"
      ]
     },
     "metadata": {},
     "output_type": "display_data"
    }
   ],
   "source": [
    "view = msm.view(molsys, standard=True)\n",
    "view"
   ]
  },
  {
   "cell_type": "code",
   "execution_count": 8,
   "id": "d14f87c4-2bab-4e22-866d-16de0e8ef397",
   "metadata": {},
   "outputs": [
    {
     "ename": "TypeError",
     "evalue": "_add_repr_method_shortcut.<locals>.make_func_add.<locals>.func() takes from 1 to 2 positional arguments but 3 were given",
     "output_type": "error",
     "traceback": [
      "\u001b[0;31m---------------------------------------------------------------------------\u001b[0m",
      "\u001b[0;31mTypeError\u001b[0m                                 Traceback (most recent call last)",
      "Cell \u001b[0;32mIn[8], line 1\u001b[0m\n\u001b[0;32m----> 1\u001b[0m \u001b[43mview\u001b[49m\u001b[38;5;241;43m.\u001b[39;49m\u001b[43madd_contact\u001b[49m\u001b[43m(\u001b[49m\u001b[38;5;124;43m'\u001b[39;49m\u001b[38;5;124;43mhydrogen_bond\u001b[39;49m\u001b[38;5;124;43m'\u001b[39;49m\u001b[43m,\u001b[49m\u001b[43m \u001b[49m\u001b[43m{\u001b[49m\u001b[38;5;124;43m'\u001b[39;49m\u001b[38;5;124;43matom1\u001b[39;49m\u001b[38;5;124;43m'\u001b[39;49m\u001b[43m:\u001b[49m\u001b[38;5;241;43m0\u001b[39;49m\u001b[43m,\u001b[49m\u001b[43m \u001b[49m\u001b[38;5;124;43m'\u001b[39;49m\u001b[38;5;124;43matom2\u001b[39;49m\u001b[38;5;124;43m'\u001b[39;49m\u001b[43m:\u001b[49m\u001b[38;5;241;43m10\u001b[39;49m\u001b[43m}\u001b[49m\u001b[43m)\u001b[49m\n",
      "\u001b[0;31mTypeError\u001b[0m: _add_repr_method_shortcut.<locals>.make_func_add.<locals>.func() takes from 1 to 2 positional arguments but 3 were given"
     ]
    }
   ],
   "source": [
    "view.add_contact('hydrogen_bond', {'atom1':0, 'atom2':10})"
   ]
  },
  {
   "cell_type": "code",
   "execution_count": 10,
   "id": "79c2304f-5417-4590-9032-4fd8fb94118e",
   "metadata": {},
   "outputs": [],
   "source": [
    "contacts = msm.structure.get_contacts(molsys, selection='atom_name==\"CA\"', threshold='9 angstroms',\n",
    "                                     output_type='pairs', output_indices='atom')"
   ]
  },
  {
   "cell_type": "code",
   "execution_count": 21,
   "id": "ba09d881-d845-4d6f-81ab-c5e7199a5fe5",
   "metadata": {},
   "outputs": [],
   "source": [
    "start = msm.get(molsys, element='atom', selection=np.array(contacts[0])[:,0], coordinates=True)\n",
    "end = msm.get(molsys, element='atom', selection=np.array(contacts[0])[:,1], coordinates=True)"
   ]
  },
  {
   "cell_type": "code",
   "execution_count": 22,
   "id": "9d090ca6-6a7c-44b5-887b-7bc937adccbc",
   "metadata": {},
   "outputs": [
    {
     "data": {
      "application/vnd.jupyter.widget-view+json": {
       "model_id": "b95fbe4348c343469f6e0225b6d2a755",
       "version_major": 2,
       "version_minor": 0
      },
      "text/plain": [
       "NGLWidget()"
      ]
     },
     "metadata": {},
     "output_type": "display_data"
    }
   ],
   "source": [
    "view = msm.view(molsys, standard=True)\n",
    "msm.thirds.nglview.add_cylinders(view, start[0], end[0])\n",
    "view"
   ]
  },
  {
   "cell_type": "code",
   "execution_count": 23,
   "id": "21d45186-cccf-42f4-80ad-2036470809ae",
   "metadata": {},
   "outputs": [],
   "source": [
    "start, groups_start = msm.get(molsys, element='atom', selection=np.array(contacts[0])[:,0], coordinates=True, group_index=True)\n",
    "end, groups_end = msm.get(molsys, element='atom', selection=np.array(contacts[0])[:,1], coordinates=True, group_index=True)"
   ]
  },
  {
   "cell_type": "code",
   "execution_count": 24,
   "id": "fdf87147-2ddb-4800-ae64-49dc09d49dba",
   "metadata": {},
   "outputs": [
    {
     "data": {
      "application/vnd.jupyter.widget-view+json": {
       "model_id": "a76f762ab4264be5a3923d896af4629f",
       "version_major": 2,
       "version_minor": 0
      },
      "text/plain": [
       "NGLWidget()"
      ]
     },
     "metadata": {},
     "output_type": "display_data"
    }
   ],
   "source": [
    "view = msm.view(molsys, standard=True)\n",
    "msm.thirds.nglview.add_cylinders(view, start[0], end[0], color_values=groups_start, color_values_2=groups_end,\n",
    "                                 colormap='viridis')\n",
    "view"
   ]
  },
  {
   "cell_type": "code",
   "execution_count": null,
   "id": "20ce2a08-6929-43e3-baf2-62022bb64e2e",
   "metadata": {},
   "outputs": [],
   "source": []
  }
 ],
 "metadata": {
  "kernelspec": {
   "display_name": "Python 3 (ipykernel)",
   "language": "python",
   "name": "python3"
  },
  "language_info": {
   "codemirror_mode": {
    "name": "ipython",
    "version": 3
   },
   "file_extension": ".py",
   "mimetype": "text/x-python",
   "name": "python",
   "nbconvert_exporter": "python",
   "pygments_lexer": "ipython3",
   "version": "3.10.14"
  }
 },
 "nbformat": 4,
 "nbformat_minor": 5
}
