{
 "cells": [
  {
   "cell_type": "code",
   "execution_count": 1,
   "id": "c55e0a44-c9d9-4229-9a9b-96ecd1ed9b8d",
   "metadata": {
    "execution": {
     "iopub.execute_input": "2025-03-11T21:07:39.034812Z",
     "iopub.status.busy": "2025-03-11T21:07:39.034159Z",
     "iopub.status.idle": "2025-03-11T21:07:39.071340Z",
     "shell.execute_reply": "2025-03-11T21:07:39.070257Z"
    }
   },
   "outputs": [],
   "source": [
    "%load_ext autoreload\n",
    "%autoreload 2"
   ]
  },
  {
   "cell_type": "code",
   "execution_count": 2,
   "id": "cc4d7152-a00a-4654-be50-b421e01f584d",
   "metadata": {
    "execution": {
     "iopub.execute_input": "2025-03-11T21:07:39.075792Z",
     "iopub.status.busy": "2025-03-11T21:07:39.075091Z",
     "iopub.status.idle": "2025-03-11T21:07:47.556730Z",
     "shell.execute_reply": "2025-03-11T21:07:47.555699Z"
    }
   },
   "outputs": [
    {
     "data": {
      "application/vnd.jupyter.widget-view+json": {
       "model_id": "190d229787734e4ca13d13d3bd673d5d",
       "version_major": 2,
       "version_minor": 0
      },
      "text/plain": []
     },
     "metadata": {},
     "output_type": "display_data"
    }
   ],
   "source": [
    "import molsysmt as msm"
   ]
  },
  {
   "cell_type": "markdown",
   "id": "e203abd4-cf31-4dc5-afa7-b3d980bd30a9",
   "metadata": {},
   "source": [
    "# Get number of components\n",
    "\n",
    "AAA\n",
    "\n"
   ]
  },
  {
   "cell_type": "code",
   "execution_count": 3,
   "id": "f5ae9d14-a25f-40cd-b895-44aade003898",
   "metadata": {
    "execution": {
     "iopub.execute_input": "2025-03-11T21:07:47.560772Z",
     "iopub.status.busy": "2025-03-11T21:07:47.559926Z",
     "iopub.status.idle": "2025-03-11T21:07:48.537024Z",
     "shell.execute_reply": "2025-03-11T21:07:48.536276Z"
    }
   },
   "outputs": [],
   "source": [
    "molsys = msm.convert(msm.systems['chicken villin HP35']['chicken_villin_HP35_solvated.h5msm'])"
   ]
  },
  {
   "cell_type": "code",
   "execution_count": 4,
   "id": "6de8ddad-1b3d-447a-974d-eed4b4154169",
   "metadata": {
    "execution": {
     "iopub.execute_input": "2025-03-11T21:07:48.541097Z",
     "iopub.status.busy": "2025-03-11T21:07:48.540161Z",
     "iopub.status.idle": "2025-03-11T21:07:49.689195Z",
     "shell.execute_reply": "2025-03-11T21:07:49.688342Z"
    }
   },
   "outputs": [
    {
     "data": {
      "text/plain": [
       "3"
      ]
     },
     "execution_count": 4,
     "metadata": {},
     "output_type": "execute_result"
    }
   ],
   "source": [
    "msm.element.entity.get_n_entities(molsys, selection='all', redefine_entities=True)"
   ]
  },
  {
   "cell_type": "code",
   "execution_count": 5,
   "id": "d02da3fc-babc-46bd-ac67-824f2ea2588a",
   "metadata": {
    "execution": {
     "iopub.execute_input": "2025-03-11T21:07:49.693128Z",
     "iopub.status.busy": "2025-03-11T21:07:49.692543Z",
     "iopub.status.idle": "2025-03-11T21:07:50.191122Z",
     "shell.execute_reply": "2025-03-11T21:07:50.190274Z"
    }
   },
   "outputs": [
    {
     "data": {
      "text/plain": [
       "3"
      ]
     },
     "execution_count": 5,
     "metadata": {},
     "output_type": "execute_result"
    }
   ],
   "source": [
    "msm.element.entity.get_n_entities(molsys, selection='all', redefine_entities=False)"
   ]
  },
  {
   "cell_type": "code",
   "execution_count": null,
   "id": "2f5f452b-f037-4503-bb99-f68e99f71fbb",
   "metadata": {},
   "outputs": [],
   "source": []
  }
 ],
 "metadata": {
  "kernelspec": {
   "display_name": "Python 3 (ipykernel)",
   "language": "python",
   "name": "python3"
  },
  "language_info": {
   "codemirror_mode": {
    "name": "ipython",
    "version": 3
   },
   "file_extension": ".py",
   "mimetype": "text/x-python",
   "name": "python",
   "nbconvert_exporter": "python",
   "pygments_lexer": "ipython3",
   "version": "3.12.8"
  },
  "widgets": {
   "application/vnd.jupyter.widget-state+json": {
    "state": {
     "190d229787734e4ca13d13d3bd673d5d": {
      "model_module": "nglview-js-widgets",
      "model_module_version": "3.1.4",
      "model_name": "ColormakerRegistryModel",
      "state": {
       "_dom_classes": [],
       "_model_module": "nglview-js-widgets",
       "_model_module_version": "3.1.4",
       "_model_name": "ColormakerRegistryModel",
       "_msg_ar": [],
       "_msg_q": [],
       "_ready": false,
       "_view_count": null,
       "_view_module": "nglview-js-widgets",
       "_view_module_version": "3.1.4",
       "_view_name": "ColormakerRegistryView",
       "layout": "IPY_MODEL_73475f42f1734625abb7514cb580882d",
       "tabbable": null,
       "tooltip": null
      }
     },
     "73475f42f1734625abb7514cb580882d": {
      "model_module": "@jupyter-widgets/base",
      "model_module_version": "2.0.0",
      "model_name": "LayoutModel",
      "state": {
       "_model_module": "@jupyter-widgets/base",
       "_model_module_version": "2.0.0",
       "_model_name": "LayoutModel",
       "_view_count": null,
       "_view_module": "@jupyter-widgets/base",
       "_view_module_version": "2.0.0",
       "_view_name": "LayoutView",
       "align_content": null,
       "align_items": null,
       "align_self": null,
       "border_bottom": null,
       "border_left": null,
       "border_right": null,
       "border_top": null,
       "bottom": null,
       "display": null,
       "flex": null,
       "flex_flow": null,
       "grid_area": null,
       "grid_auto_columns": null,
       "grid_auto_flow": null,
       "grid_auto_rows": null,
       "grid_column": null,
       "grid_gap": null,
       "grid_row": null,
       "grid_template_areas": null,
       "grid_template_columns": null,
       "grid_template_rows": null,
       "height": null,
       "justify_content": null,
       "justify_items": null,
       "left": null,
       "margin": null,
       "max_height": null,
       "max_width": null,
       "min_height": null,
       "min_width": null,
       "object_fit": null,
       "object_position": null,
       "order": null,
       "overflow": null,
       "padding": null,
       "right": null,
       "top": null,
       "visibility": null,
       "width": null
      }
     }
    },
    "version_major": 2,
    "version_minor": 0
   }
  }
 },
 "nbformat": 4,
 "nbformat_minor": 5
}
