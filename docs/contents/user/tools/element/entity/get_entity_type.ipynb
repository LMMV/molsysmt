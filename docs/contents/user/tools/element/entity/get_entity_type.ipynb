{
 "cells": [
  {
   "cell_type": "code",
   "execution_count": 1,
   "id": "c55e0a44-c9d9-4229-9a9b-96ecd1ed9b8d",
   "metadata": {
    "execution": {
     "iopub.execute_input": "2025-03-11T21:07:37.292640Z",
     "iopub.status.busy": "2025-03-11T21:07:37.292327Z",
     "iopub.status.idle": "2025-03-11T21:07:37.332053Z",
     "shell.execute_reply": "2025-03-11T21:07:37.331273Z"
    }
   },
   "outputs": [],
   "source": [
    "%load_ext autoreload\n",
    "%autoreload 2"
   ]
  },
  {
   "cell_type": "code",
   "execution_count": 2,
   "id": "cc4d7152-a00a-4654-be50-b421e01f584d",
   "metadata": {
    "execution": {
     "iopub.execute_input": "2025-03-11T21:07:37.335676Z",
     "iopub.status.busy": "2025-03-11T21:07:37.335057Z",
     "iopub.status.idle": "2025-03-11T21:07:46.120413Z",
     "shell.execute_reply": "2025-03-11T21:07:46.119388Z"
    }
   },
   "outputs": [
    {
     "data": {
      "application/vnd.jupyter.widget-view+json": {
       "model_id": "14e8ab8f49e04ab2b84de05ba82da93b",
       "version_major": 2,
       "version_minor": 0
      },
      "text/plain": []
     },
     "metadata": {},
     "output_type": "display_data"
    }
   ],
   "source": [
    "import molsysmt as msm"
   ]
  },
  {
   "cell_type": "markdown",
   "id": "e203abd4-cf31-4dc5-afa7-b3d980bd30a9",
   "metadata": {},
   "source": [
    "# Get entity type\n",
    "\n",
    "AAA\n",
    "\n"
   ]
  },
  {
   "cell_type": "code",
   "execution_count": 3,
   "id": "f5ae9d14-a25f-40cd-b895-44aade003898",
   "metadata": {
    "execution": {
     "iopub.execute_input": "2025-03-11T21:07:46.125080Z",
     "iopub.status.busy": "2025-03-11T21:07:46.124120Z",
     "iopub.status.idle": "2025-03-11T21:07:47.174999Z",
     "shell.execute_reply": "2025-03-11T21:07:47.174040Z"
    }
   },
   "outputs": [],
   "source": [
    "molsys = msm.convert(msm.systems['chicken villin HP35']['chicken_villin_HP35_solvated.h5msm'])"
   ]
  },
  {
   "cell_type": "code",
   "execution_count": 4,
   "id": "6de8ddad-1b3d-447a-974d-eed4b4154169",
   "metadata": {
    "execution": {
     "iopub.execute_input": "2025-03-11T21:07:47.180913Z",
     "iopub.status.busy": "2025-03-11T21:07:47.179095Z",
     "iopub.status.idle": "2025-03-11T21:07:48.178945Z",
     "shell.execute_reply": "2025-03-11T21:07:48.177952Z"
    }
   },
   "outputs": [],
   "source": [
    "types = msm.element.entity.get_entity_type(molsys, element='entity', selection='all',\n",
    "                                                redefine_entities=False, redefine_types=True)"
   ]
  },
  {
   "cell_type": "code",
   "execution_count": 5,
   "id": "8db211cd-5011-4279-b2d6-b2f5ed911301",
   "metadata": {
    "execution": {
     "iopub.execute_input": "2025-03-11T21:07:48.182265Z",
     "iopub.status.busy": "2025-03-11T21:07:48.181852Z",
     "iopub.status.idle": "2025-03-11T21:07:48.231460Z",
     "shell.execute_reply": "2025-03-11T21:07:48.230774Z"
    }
   },
   "outputs": [
    {
     "data": {
      "text/plain": [
       "['peptide', 'water', 'ion']"
      ]
     },
     "execution_count": 5,
     "metadata": {},
     "output_type": "execute_result"
    }
   ],
   "source": [
    "types"
   ]
  },
  {
   "cell_type": "code",
   "execution_count": 6,
   "id": "4bc49782-b276-490d-8ee5-a07a78741499",
   "metadata": {
    "execution": {
     "iopub.execute_input": "2025-03-11T21:07:48.234132Z",
     "iopub.status.busy": "2025-03-11T21:07:48.233868Z",
     "iopub.status.idle": "2025-03-11T21:07:48.670528Z",
     "shell.execute_reply": "2025-03-11T21:07:48.669515Z"
    }
   },
   "outputs": [],
   "source": [
    "types = msm.element.entity.get_entity_type(molsys, element='entity', selection='all',\n",
    "                                                redefine_entities=False, redefine_types=False)"
   ]
  },
  {
   "cell_type": "code",
   "execution_count": 7,
   "id": "92ada865-986b-42b1-8459-8bae44cb33ff",
   "metadata": {
    "execution": {
     "iopub.execute_input": "2025-03-11T21:07:48.674392Z",
     "iopub.status.busy": "2025-03-11T21:07:48.673741Z",
     "iopub.status.idle": "2025-03-11T21:07:48.751355Z",
     "shell.execute_reply": "2025-03-11T21:07:48.750411Z"
    }
   },
   "outputs": [
    {
     "data": {
      "text/plain": [
       "['peptide', 'water', 'ion']"
      ]
     },
     "execution_count": 7,
     "metadata": {},
     "output_type": "execute_result"
    }
   ],
   "source": [
    "types"
   ]
  },
  {
   "cell_type": "code",
   "execution_count": null,
   "id": "374ac289-e4e6-43a8-ba31-b4e596e2ac5d",
   "metadata": {},
   "outputs": [],
   "source": []
  }
 ],
 "metadata": {
  "kernelspec": {
   "display_name": "Python 3 (ipykernel)",
   "language": "python",
   "name": "python3"
  },
  "language_info": {
   "codemirror_mode": {
    "name": "ipython",
    "version": 3
   },
   "file_extension": ".py",
   "mimetype": "text/x-python",
   "name": "python",
   "nbconvert_exporter": "python",
   "pygments_lexer": "ipython3",
   "version": "3.12.8"
  },
  "widgets": {
   "application/vnd.jupyter.widget-state+json": {
    "state": {
     "14e8ab8f49e04ab2b84de05ba82da93b": {
      "model_module": "nglview-js-widgets",
      "model_module_version": "3.1.4",
      "model_name": "ColormakerRegistryModel",
      "state": {
       "_dom_classes": [],
       "_model_module": "nglview-js-widgets",
       "_model_module_version": "3.1.4",
       "_model_name": "ColormakerRegistryModel",
       "_msg_ar": [],
       "_msg_q": [],
       "_ready": false,
       "_view_count": null,
       "_view_module": "nglview-js-widgets",
       "_view_module_version": "3.1.4",
       "_view_name": "ColormakerRegistryView",
       "layout": "IPY_MODEL_c3417ff8e090460d94fe6dc6af835cd8",
       "tabbable": null,
       "tooltip": null
      }
     },
     "c3417ff8e090460d94fe6dc6af835cd8": {
      "model_module": "@jupyter-widgets/base",
      "model_module_version": "2.0.0",
      "model_name": "LayoutModel",
      "state": {
       "_model_module": "@jupyter-widgets/base",
       "_model_module_version": "2.0.0",
       "_model_name": "LayoutModel",
       "_view_count": null,
       "_view_module": "@jupyter-widgets/base",
       "_view_module_version": "2.0.0",
       "_view_name": "LayoutView",
       "align_content": null,
       "align_items": null,
       "align_self": null,
       "border_bottom": null,
       "border_left": null,
       "border_right": null,
       "border_top": null,
       "bottom": null,
       "display": null,
       "flex": null,
       "flex_flow": null,
       "grid_area": null,
       "grid_auto_columns": null,
       "grid_auto_flow": null,
       "grid_auto_rows": null,
       "grid_column": null,
       "grid_gap": null,
       "grid_row": null,
       "grid_template_areas": null,
       "grid_template_columns": null,
       "grid_template_rows": null,
       "height": null,
       "justify_content": null,
       "justify_items": null,
       "left": null,
       "margin": null,
       "max_height": null,
       "max_width": null,
       "min_height": null,
       "min_width": null,
       "object_fit": null,
       "object_position": null,
       "order": null,
       "overflow": null,
       "padding": null,
       "right": null,
       "top": null,
       "visibility": null,
       "width": null
      }
     }
    },
    "version_major": 2,
    "version_minor": 0
   }
  }
 },
 "nbformat": 4,
 "nbformat_minor": 5
}
