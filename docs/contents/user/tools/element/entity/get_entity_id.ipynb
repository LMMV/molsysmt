{
 "cells": [
  {
   "cell_type": "code",
   "execution_count": 1,
   "id": "c55e0a44-c9d9-4229-9a9b-96ecd1ed9b8d",
   "metadata": {
    "execution": {
     "iopub.execute_input": "2025-03-11T21:07:36.932309Z",
     "iopub.status.busy": "2025-03-11T21:07:36.931696Z",
     "iopub.status.idle": "2025-03-11T21:07:36.965859Z",
     "shell.execute_reply": "2025-03-11T21:07:36.964879Z"
    }
   },
   "outputs": [],
   "source": [
    "%load_ext autoreload\n",
    "%autoreload 2"
   ]
  },
  {
   "cell_type": "code",
   "execution_count": 2,
   "id": "cc4d7152-a00a-4654-be50-b421e01f584d",
   "metadata": {
    "execution": {
     "iopub.execute_input": "2025-03-11T21:07:36.969797Z",
     "iopub.status.busy": "2025-03-11T21:07:36.969103Z",
     "iopub.status.idle": "2025-03-11T21:07:45.955365Z",
     "shell.execute_reply": "2025-03-11T21:07:45.954122Z"
    }
   },
   "outputs": [
    {
     "data": {
      "application/vnd.jupyter.widget-view+json": {
       "model_id": "1f9216bb52b64bedb7ad4053230c80e5",
       "version_major": 2,
       "version_minor": 0
      },
      "text/plain": []
     },
     "metadata": {},
     "output_type": "display_data"
    }
   ],
   "source": [
    "import molsysmt as msm"
   ]
  },
  {
   "cell_type": "markdown",
   "id": "e203abd4-cf31-4dc5-afa7-b3d980bd30a9",
   "metadata": {},
   "source": [
    "# Get entity id\n",
    "\n",
    "AAA\n",
    "\n"
   ]
  },
  {
   "cell_type": "code",
   "execution_count": 3,
   "id": "f5ae9d14-a25f-40cd-b895-44aade003898",
   "metadata": {
    "execution": {
     "iopub.execute_input": "2025-03-11T21:07:45.960875Z",
     "iopub.status.busy": "2025-03-11T21:07:45.959729Z",
     "iopub.status.idle": "2025-03-11T21:07:47.035388Z",
     "shell.execute_reply": "2025-03-11T21:07:47.034355Z"
    }
   },
   "outputs": [],
   "source": [
    "molsys = msm.convert(msm.systems['chicken villin HP35']['chicken_villin_HP35_solvated.h5msm'])"
   ]
  },
  {
   "cell_type": "code",
   "execution_count": 4,
   "id": "6de8ddad-1b3d-447a-974d-eed4b4154169",
   "metadata": {
    "execution": {
     "iopub.execute_input": "2025-03-11T21:07:47.039815Z",
     "iopub.status.busy": "2025-03-11T21:07:47.038619Z",
     "iopub.status.idle": "2025-03-11T21:07:51.548583Z",
     "shell.execute_reply": "2025-03-11T21:07:51.547526Z"
    }
   },
   "outputs": [],
   "source": [
    "ids = msm.element.entity.get_entity_id(molsys, element='entity', selection='all', redefine_entities=True,\n",
    "                                      redefine_ids=True)"
   ]
  },
  {
   "cell_type": "code",
   "execution_count": 5,
   "id": "a7cabea5-abbc-4d93-ad28-0b9b1138e009",
   "metadata": {
    "execution": {
     "iopub.execute_input": "2025-03-11T21:07:51.552779Z",
     "iopub.status.busy": "2025-03-11T21:07:51.552065Z",
     "iopub.status.idle": "2025-03-11T21:07:51.628842Z",
     "shell.execute_reply": "2025-03-11T21:07:51.627849Z"
    }
   },
   "outputs": [
    {
     "data": {
      "text/plain": [
       "[0, 1, 2]"
      ]
     },
     "execution_count": 5,
     "metadata": {},
     "output_type": "execute_result"
    }
   ],
   "source": [
    "ids"
   ]
  },
  {
   "cell_type": "code",
   "execution_count": 6,
   "id": "b989bc2a-8d43-401e-a5b4-eed023051b6f",
   "metadata": {
    "execution": {
     "iopub.execute_input": "2025-03-11T21:07:51.632236Z",
     "iopub.status.busy": "2025-03-11T21:07:51.631792Z",
     "iopub.status.idle": "2025-03-11T21:07:52.087488Z",
     "shell.execute_reply": "2025-03-11T21:07:52.086511Z"
    }
   },
   "outputs": [],
   "source": [
    "ids = msm.element.entity.get_entity_id(molsys, element='entity', selection='all', redefine_entities=False,\n",
    "                                      redefine_ids=False)"
   ]
  },
  {
   "cell_type": "code",
   "execution_count": 7,
   "id": "8db211cd-5011-4279-b2d6-b2f5ed911301",
   "metadata": {
    "execution": {
     "iopub.execute_input": "2025-03-11T21:07:52.091802Z",
     "iopub.status.busy": "2025-03-11T21:07:52.091179Z",
     "iopub.status.idle": "2025-03-11T21:07:52.139316Z",
     "shell.execute_reply": "2025-03-11T21:07:52.138393Z"
    }
   },
   "outputs": [
    {
     "data": {
      "text/plain": [
       "[0, 1, 2]"
      ]
     },
     "execution_count": 7,
     "metadata": {},
     "output_type": "execute_result"
    }
   ],
   "source": [
    "ids"
   ]
  },
  {
   "cell_type": "code",
   "execution_count": null,
   "id": "d69aeb5f-928f-4cca-899e-8e40536fb253",
   "metadata": {},
   "outputs": [],
   "source": []
  }
 ],
 "metadata": {
  "kernelspec": {
   "display_name": "Python 3 (ipykernel)",
   "language": "python",
   "name": "python3"
  },
  "language_info": {
   "codemirror_mode": {
    "name": "ipython",
    "version": 3
   },
   "file_extension": ".py",
   "mimetype": "text/x-python",
   "name": "python",
   "nbconvert_exporter": "python",
   "pygments_lexer": "ipython3",
   "version": "3.12.8"
  },
  "widgets": {
   "application/vnd.jupyter.widget-state+json": {
    "state": {
     "1f9216bb52b64bedb7ad4053230c80e5": {
      "model_module": "nglview-js-widgets",
      "model_module_version": "3.1.4",
      "model_name": "ColormakerRegistryModel",
      "state": {
       "_dom_classes": [],
       "_model_module": "nglview-js-widgets",
       "_model_module_version": "3.1.4",
       "_model_name": "ColormakerRegistryModel",
       "_msg_ar": [],
       "_msg_q": [],
       "_ready": false,
       "_view_count": null,
       "_view_module": "nglview-js-widgets",
       "_view_module_version": "3.1.4",
       "_view_name": "ColormakerRegistryView",
       "layout": "IPY_MODEL_757464310bd64dd9a0e74b6c1721f980",
       "tabbable": null,
       "tooltip": null
      }
     },
     "757464310bd64dd9a0e74b6c1721f980": {
      "model_module": "@jupyter-widgets/base",
      "model_module_version": "2.0.0",
      "model_name": "LayoutModel",
      "state": {
       "_model_module": "@jupyter-widgets/base",
       "_model_module_version": "2.0.0",
       "_model_name": "LayoutModel",
       "_view_count": null,
       "_view_module": "@jupyter-widgets/base",
       "_view_module_version": "2.0.0",
       "_view_name": "LayoutView",
       "align_content": null,
       "align_items": null,
       "align_self": null,
       "border_bottom": null,
       "border_left": null,
       "border_right": null,
       "border_top": null,
       "bottom": null,
       "display": null,
       "flex": null,
       "flex_flow": null,
       "grid_area": null,
       "grid_auto_columns": null,
       "grid_auto_flow": null,
       "grid_auto_rows": null,
       "grid_column": null,
       "grid_gap": null,
       "grid_row": null,
       "grid_template_areas": null,
       "grid_template_columns": null,
       "grid_template_rows": null,
       "height": null,
       "justify_content": null,
       "justify_items": null,
       "left": null,
       "margin": null,
       "max_height": null,
       "max_width": null,
       "min_height": null,
       "min_width": null,
       "object_fit": null,
       "object_position": null,
       "order": null,
       "overflow": null,
       "padding": null,
       "right": null,
       "top": null,
       "visibility": null,
       "width": null
      }
     }
    },
    "version_major": 2,
    "version_minor": 0
   }
  }
 },
 "nbformat": 4,
 "nbformat_minor": 5
}
