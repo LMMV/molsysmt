{
 "cells": [
  {
   "cell_type": "code",
   "execution_count": 1,
   "id": "c55e0a44-c9d9-4229-9a9b-96ecd1ed9b8d",
   "metadata": {
    "execution": {
     "iopub.execute_input": "2025-03-11T21:07:41.868960Z",
     "iopub.status.busy": "2025-03-11T21:07:41.868578Z",
     "iopub.status.idle": "2025-03-11T21:07:41.906775Z",
     "shell.execute_reply": "2025-03-11T21:07:41.905935Z"
    }
   },
   "outputs": [],
   "source": [
    "%load_ext autoreload\n",
    "%autoreload 2"
   ]
  },
  {
   "cell_type": "code",
   "execution_count": 2,
   "id": "cc4d7152-a00a-4654-be50-b421e01f584d",
   "metadata": {
    "execution": {
     "iopub.execute_input": "2025-03-11T21:07:41.910609Z",
     "iopub.status.busy": "2025-03-11T21:07:41.909999Z",
     "iopub.status.idle": "2025-03-11T21:07:50.766567Z",
     "shell.execute_reply": "2025-03-11T21:07:50.765527Z"
    }
   },
   "outputs": [
    {
     "data": {
      "application/vnd.jupyter.widget-view+json": {
       "model_id": "9add93fcd8ca4ddfbaee54c48afd7eb4",
       "version_major": 2,
       "version_minor": 0
      },
      "text/plain": []
     },
     "metadata": {},
     "output_type": "display_data"
    }
   ],
   "source": [
    "import molsysmt as msm"
   ]
  },
  {
   "cell_type": "markdown",
   "id": "e203abd4-cf31-4dc5-afa7-b3d980bd30a9",
   "metadata": {},
   "source": [
    "# Get entity index\n",
    "\n",
    "AAA\n",
    "\n"
   ]
  },
  {
   "cell_type": "code",
   "execution_count": 3,
   "id": "f5ae9d14-a25f-40cd-b895-44aade003898",
   "metadata": {
    "execution": {
     "iopub.execute_input": "2025-03-11T21:07:50.771177Z",
     "iopub.status.busy": "2025-03-11T21:07:50.770163Z",
     "iopub.status.idle": "2025-03-11T21:07:51.824736Z",
     "shell.execute_reply": "2025-03-11T21:07:51.823745Z"
    }
   },
   "outputs": [],
   "source": [
    "molsys = msm.convert(msm.systems['chicken villin HP35']['chicken_villin_HP35_solvated.h5msm'])"
   ]
  },
  {
   "cell_type": "code",
   "execution_count": 4,
   "id": "6de8ddad-1b3d-447a-974d-eed4b4154169",
   "metadata": {
    "execution": {
     "iopub.execute_input": "2025-03-11T21:07:51.828630Z",
     "iopub.status.busy": "2025-03-11T21:07:51.827385Z",
     "iopub.status.idle": "2025-03-11T21:07:52.203893Z",
     "shell.execute_reply": "2025-03-11T21:07:52.202898Z"
    }
   },
   "outputs": [],
   "source": [
    "indices = msm.element.entity.get_entity_index(molsys, element='entity', selection='all',\n",
    "                                              redefine_molecules=False, redefine_indices=False)"
   ]
  },
  {
   "cell_type": "code",
   "execution_count": 5,
   "id": "6a530bfd-d6d0-4623-ae03-d71ab1c96734",
   "metadata": {
    "execution": {
     "iopub.execute_input": "2025-03-11T21:07:52.207577Z",
     "iopub.status.busy": "2025-03-11T21:07:52.207125Z",
     "iopub.status.idle": "2025-03-11T21:07:52.281558Z",
     "shell.execute_reply": "2025-03-11T21:07:52.280648Z"
    }
   },
   "outputs": [
    {
     "data": {
      "text/plain": [
       "[0, 1, 2]"
      ]
     },
     "execution_count": 5,
     "metadata": {},
     "output_type": "execute_result"
    }
   ],
   "source": [
    "indices"
   ]
  },
  {
   "cell_type": "code",
   "execution_count": 6,
   "id": "e95ab768-68e8-473b-8577-ea34c52c9267",
   "metadata": {
    "execution": {
     "iopub.execute_input": "2025-03-11T21:07:52.285157Z",
     "iopub.status.busy": "2025-03-11T21:07:52.284444Z",
     "iopub.status.idle": "2025-03-11T21:07:53.223655Z",
     "shell.execute_reply": "2025-03-11T21:07:53.222780Z"
    }
   },
   "outputs": [],
   "source": [
    "indices = msm.element.entity.get_entity_index(molsys, element='entity', selection='all',\n",
    "                                              redefine_molecules=False, redefine_indices=True)"
   ]
  },
  {
   "cell_type": "code",
   "execution_count": 7,
   "id": "9aee62b5-532b-4ea4-957b-8bb1a1712d5f",
   "metadata": {
    "execution": {
     "iopub.execute_input": "2025-03-11T21:07:53.226699Z",
     "iopub.status.busy": "2025-03-11T21:07:53.226437Z",
     "iopub.status.idle": "2025-03-11T21:07:53.270420Z",
     "shell.execute_reply": "2025-03-11T21:07:53.269427Z"
    }
   },
   "outputs": [
    {
     "data": {
      "text/plain": [
       "[0, 1, 2]"
      ]
     },
     "execution_count": 7,
     "metadata": {},
     "output_type": "execute_result"
    }
   ],
   "source": [
    "indices"
   ]
  },
  {
   "cell_type": "code",
   "execution_count": null,
   "id": "225c289d-8777-45ac-b26c-b77e224d2d92",
   "metadata": {},
   "outputs": [],
   "source": []
  }
 ],
 "metadata": {
  "kernelspec": {
   "display_name": "Python 3 (ipykernel)",
   "language": "python",
   "name": "python3"
  },
  "language_info": {
   "codemirror_mode": {
    "name": "ipython",
    "version": 3
   },
   "file_extension": ".py",
   "mimetype": "text/x-python",
   "name": "python",
   "nbconvert_exporter": "python",
   "pygments_lexer": "ipython3",
   "version": "3.12.8"
  },
  "widgets": {
   "application/vnd.jupyter.widget-state+json": {
    "state": {
     "31f947409b56480fa005547c9212b75e": {
      "model_module": "@jupyter-widgets/base",
      "model_module_version": "2.0.0",
      "model_name": "LayoutModel",
      "state": {
       "_model_module": "@jupyter-widgets/base",
       "_model_module_version": "2.0.0",
       "_model_name": "LayoutModel",
       "_view_count": null,
       "_view_module": "@jupyter-widgets/base",
       "_view_module_version": "2.0.0",
       "_view_name": "LayoutView",
       "align_content": null,
       "align_items": null,
       "align_self": null,
       "border_bottom": null,
       "border_left": null,
       "border_right": null,
       "border_top": null,
       "bottom": null,
       "display": null,
       "flex": null,
       "flex_flow": null,
       "grid_area": null,
       "grid_auto_columns": null,
       "grid_auto_flow": null,
       "grid_auto_rows": null,
       "grid_column": null,
       "grid_gap": null,
       "grid_row": null,
       "grid_template_areas": null,
       "grid_template_columns": null,
       "grid_template_rows": null,
       "height": null,
       "justify_content": null,
       "justify_items": null,
       "left": null,
       "margin": null,
       "max_height": null,
       "max_width": null,
       "min_height": null,
       "min_width": null,
       "object_fit": null,
       "object_position": null,
       "order": null,
       "overflow": null,
       "padding": null,
       "right": null,
       "top": null,
       "visibility": null,
       "width": null
      }
     },
     "9add93fcd8ca4ddfbaee54c48afd7eb4": {
      "model_module": "nglview-js-widgets",
      "model_module_version": "3.1.4",
      "model_name": "ColormakerRegistryModel",
      "state": {
       "_dom_classes": [],
       "_model_module": "nglview-js-widgets",
       "_model_module_version": "3.1.4",
       "_model_name": "ColormakerRegistryModel",
       "_msg_ar": [],
       "_msg_q": [],
       "_ready": false,
       "_view_count": null,
       "_view_module": "nglview-js-widgets",
       "_view_module_version": "3.1.4",
       "_view_name": "ColormakerRegistryView",
       "layout": "IPY_MODEL_31f947409b56480fa005547c9212b75e",
       "tabbable": null,
       "tooltip": null
      }
     }
    },
    "version_major": 2,
    "version_minor": 0
   }
  }
 },
 "nbformat": 4,
 "nbformat_minor": 5
}
