{
 "cells": [
  {
   "cell_type": "code",
   "execution_count": 1,
   "id": "c55e0a44-c9d9-4229-9a9b-96ecd1ed9b8d",
   "metadata": {
    "execution": {
     "iopub.execute_input": "2025-03-11T21:07:03.225947Z",
     "iopub.status.busy": "2025-03-11T21:07:03.225589Z",
     "iopub.status.idle": "2025-03-11T21:07:03.258804Z",
     "shell.execute_reply": "2025-03-11T21:07:03.258010Z"
    }
   },
   "outputs": [],
   "source": [
    "%load_ext autoreload\n",
    "%autoreload 2"
   ]
  },
  {
   "cell_type": "code",
   "execution_count": 2,
   "id": "cc4d7152-a00a-4654-be50-b421e01f584d",
   "metadata": {
    "execution": {
     "iopub.execute_input": "2025-03-11T21:07:03.263352Z",
     "iopub.status.busy": "2025-03-11T21:07:03.262336Z",
     "iopub.status.idle": "2025-03-11T21:07:10.858117Z",
     "shell.execute_reply": "2025-03-11T21:07:10.857100Z"
    }
   },
   "outputs": [
    {
     "data": {
      "application/vnd.jupyter.widget-view+json": {
       "model_id": "9f297fc944dd43368f67668107c3fef5",
       "version_major": 2,
       "version_minor": 0
      },
      "text/plain": []
     },
     "metadata": {},
     "output_type": "display_data"
    }
   ],
   "source": [
    "import molsysmt as msm"
   ]
  },
  {
   "cell_type": "markdown",
   "id": "e203abd4-cf31-4dc5-afa7-b3d980bd30a9",
   "metadata": {},
   "source": [
    "# Get component index\n",
    "\n",
    "AAA\n",
    "\n"
   ]
  },
  {
   "cell_type": "code",
   "execution_count": 3,
   "id": "f5ae9d14-a25f-40cd-b895-44aade003898",
   "metadata": {
    "execution": {
     "iopub.execute_input": "2025-03-11T21:07:10.862806Z",
     "iopub.status.busy": "2025-03-11T21:07:10.861786Z",
     "iopub.status.idle": "2025-03-11T21:07:11.733053Z",
     "shell.execute_reply": "2025-03-11T21:07:11.732424Z"
    }
   },
   "outputs": [],
   "source": [
    "molsys = msm.convert(msm.systems['chicken villin HP35']['chicken_villin_HP35_solvated.h5msm'])"
   ]
  },
  {
   "cell_type": "code",
   "execution_count": 4,
   "id": "6de8ddad-1b3d-447a-974d-eed4b4154169",
   "metadata": {
    "execution": {
     "iopub.execute_input": "2025-03-11T21:07:11.735818Z",
     "iopub.status.busy": "2025-03-11T21:07:11.735185Z",
     "iopub.status.idle": "2025-03-11T21:07:12.245801Z",
     "shell.execute_reply": "2025-03-11T21:07:12.244783Z"
    }
   },
   "outputs": [],
   "source": [
    "indices = msm.element.component.get_component_index(molsys, element='group', selection='all',\n",
    "                                                    redefine_indices=True)"
   ]
  },
  {
   "cell_type": "code",
   "execution_count": 5,
   "id": "a7cabea5-abbc-4d93-ad28-0b9b1138e009",
   "metadata": {
    "execution": {
     "iopub.execute_input": "2025-03-11T21:07:12.249638Z",
     "iopub.status.busy": "2025-03-11T21:07:12.249069Z",
     "iopub.status.idle": "2025-03-11T21:07:12.531866Z",
     "shell.execute_reply": "2025-03-11T21:07:12.530956Z"
    }
   },
   "outputs": [],
   "source": [
    "indices = msm.element.component.get_component_index(molsys, element='component', selection='all',\n",
    "                                                    redefine_indices=True)"
   ]
  },
  {
   "cell_type": "code",
   "execution_count": 6,
   "id": "8db211cd-5011-4279-b2d6-b2f5ed911301",
   "metadata": {
    "execution": {
     "iopub.execute_input": "2025-03-11T21:07:12.535408Z",
     "iopub.status.busy": "2025-03-11T21:07:12.534808Z",
     "iopub.status.idle": "2025-03-11T21:07:12.613213Z",
     "shell.execute_reply": "2025-03-11T21:07:12.612174Z"
    }
   },
   "outputs": [
    {
     "data": {
      "text/plain": [
       "1236"
      ]
     },
     "execution_count": 6,
     "metadata": {},
     "output_type": "execute_result"
    }
   ],
   "source": [
    "len(indices)"
   ]
  },
  {
   "cell_type": "code",
   "execution_count": null,
   "id": "225c289d-8777-45ac-b26c-b77e224d2d92",
   "metadata": {},
   "outputs": [],
   "source": []
  }
 ],
 "metadata": {
  "kernelspec": {
   "display_name": "Python 3 (ipykernel)",
   "language": "python",
   "name": "python3"
  },
  "language_info": {
   "codemirror_mode": {
    "name": "ipython",
    "version": 3
   },
   "file_extension": ".py",
   "mimetype": "text/x-python",
   "name": "python",
   "nbconvert_exporter": "python",
   "pygments_lexer": "ipython3",
   "version": "3.12.8"
  },
  "widgets": {
   "application/vnd.jupyter.widget-state+json": {
    "state": {
     "9f297fc944dd43368f67668107c3fef5": {
      "model_module": "nglview-js-widgets",
      "model_module_version": "3.1.4",
      "model_name": "ColormakerRegistryModel",
      "state": {
       "_dom_classes": [],
       "_model_module": "nglview-js-widgets",
       "_model_module_version": "3.1.4",
       "_model_name": "ColormakerRegistryModel",
       "_msg_ar": [],
       "_msg_q": [],
       "_ready": false,
       "_view_count": null,
       "_view_module": "nglview-js-widgets",
       "_view_module_version": "3.1.4",
       "_view_name": "ColormakerRegistryView",
       "layout": "IPY_MODEL_fc7697e4c01a4299873c96bdb66671dd",
       "tabbable": null,
       "tooltip": null
      }
     },
     "fc7697e4c01a4299873c96bdb66671dd": {
      "model_module": "@jupyter-widgets/base",
      "model_module_version": "2.0.0",
      "model_name": "LayoutModel",
      "state": {
       "_model_module": "@jupyter-widgets/base",
       "_model_module_version": "2.0.0",
       "_model_name": "LayoutModel",
       "_view_count": null,
       "_view_module": "@jupyter-widgets/base",
       "_view_module_version": "2.0.0",
       "_view_name": "LayoutView",
       "align_content": null,
       "align_items": null,
       "align_self": null,
       "border_bottom": null,
       "border_left": null,
       "border_right": null,
       "border_top": null,
       "bottom": null,
       "display": null,
       "flex": null,
       "flex_flow": null,
       "grid_area": null,
       "grid_auto_columns": null,
       "grid_auto_flow": null,
       "grid_auto_rows": null,
       "grid_column": null,
       "grid_gap": null,
       "grid_row": null,
       "grid_template_areas": null,
       "grid_template_columns": null,
       "grid_template_rows": null,
       "height": null,
       "justify_content": null,
       "justify_items": null,
       "left": null,
       "margin": null,
       "max_height": null,
       "max_width": null,
       "min_height": null,
       "min_width": null,
       "object_fit": null,
       "object_position": null,
       "order": null,
       "overflow": null,
       "padding": null,
       "right": null,
       "top": null,
       "visibility": null,
       "width": null
      }
     }
    },
    "version_major": 2,
    "version_minor": 0
   }
  }
 },
 "nbformat": 4,
 "nbformat_minor": 5
}
