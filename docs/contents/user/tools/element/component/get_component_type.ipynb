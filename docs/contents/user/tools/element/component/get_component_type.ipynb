{
 "cells": [
  {
   "cell_type": "code",
   "execution_count": 1,
   "id": "c55e0a44-c9d9-4229-9a9b-96ecd1ed9b8d",
   "metadata": {
    "execution": {
     "iopub.execute_input": "2025-03-11T21:07:22.398944Z",
     "iopub.status.busy": "2025-03-11T21:07:22.398415Z",
     "iopub.status.idle": "2025-03-11T21:07:22.436550Z",
     "shell.execute_reply": "2025-03-11T21:07:22.435489Z"
    }
   },
   "outputs": [],
   "source": [
    "%load_ext autoreload\n",
    "%autoreload 2"
   ]
  },
  {
   "cell_type": "code",
   "execution_count": 2,
   "id": "cc4d7152-a00a-4654-be50-b421e01f584d",
   "metadata": {
    "execution": {
     "iopub.execute_input": "2025-03-11T21:07:22.440436Z",
     "iopub.status.busy": "2025-03-11T21:07:22.439508Z",
     "iopub.status.idle": "2025-03-11T21:07:31.376867Z",
     "shell.execute_reply": "2025-03-11T21:07:31.376024Z"
    }
   },
   "outputs": [
    {
     "data": {
      "application/vnd.jupyter.widget-view+json": {
       "model_id": "090aa75233f14a328b3e4dbfd23cc154",
       "version_major": 2,
       "version_minor": 0
      },
      "text/plain": []
     },
     "metadata": {},
     "output_type": "display_data"
    }
   ],
   "source": [
    "import molsysmt as msm"
   ]
  },
  {
   "cell_type": "markdown",
   "id": "e203abd4-cf31-4dc5-afa7-b3d980bd30a9",
   "metadata": {},
   "source": [
    "# Get component type\n",
    "\n",
    "AAA\n",
    "\n"
   ]
  },
  {
   "cell_type": "code",
   "execution_count": 3,
   "id": "f5ae9d14-a25f-40cd-b895-44aade003898",
   "metadata": {
    "execution": {
     "iopub.execute_input": "2025-03-11T21:07:31.381756Z",
     "iopub.status.busy": "2025-03-11T21:07:31.380228Z",
     "iopub.status.idle": "2025-03-11T21:07:32.408669Z",
     "shell.execute_reply": "2025-03-11T21:07:32.407726Z"
    }
   },
   "outputs": [],
   "source": [
    "molsys = msm.convert(msm.systems['chicken villin HP35']['chicken_villin_HP35_solvated.h5msm'])"
   ]
  },
  {
   "cell_type": "code",
   "execution_count": 4,
   "id": "6de8ddad-1b3d-447a-974d-eed4b4154169",
   "metadata": {
    "execution": {
     "iopub.execute_input": "2025-03-11T21:07:32.413076Z",
     "iopub.status.busy": "2025-03-11T21:07:32.412234Z",
     "iopub.status.idle": "2025-03-11T21:07:33.508249Z",
     "shell.execute_reply": "2025-03-11T21:07:33.507157Z"
    }
   },
   "outputs": [],
   "source": [
    "types = msm.element.component.get_component_type(molsys, element='component', selection='all',\n",
    "                                                redefine_indices=True, redefine_types=True)"
   ]
  },
  {
   "cell_type": "code",
   "execution_count": null,
   "id": "8db211cd-5011-4279-b2d6-b2f5ed911301",
   "metadata": {},
   "outputs": [],
   "source": []
  }
 ],
 "metadata": {
  "kernelspec": {
   "display_name": "Python 3 (ipykernel)",
   "language": "python",
   "name": "python3"
  },
  "language_info": {
   "codemirror_mode": {
    "name": "ipython",
    "version": 3
   },
   "file_extension": ".py",
   "mimetype": "text/x-python",
   "name": "python",
   "nbconvert_exporter": "python",
   "pygments_lexer": "ipython3",
   "version": "3.12.8"
  },
  "widgets": {
   "application/vnd.jupyter.widget-state+json": {
    "state": {
     "090aa75233f14a328b3e4dbfd23cc154": {
      "model_module": "nglview-js-widgets",
      "model_module_version": "3.1.4",
      "model_name": "ColormakerRegistryModel",
      "state": {
       "_dom_classes": [],
       "_model_module": "nglview-js-widgets",
       "_model_module_version": "3.1.4",
       "_model_name": "ColormakerRegistryModel",
       "_msg_ar": [],
       "_msg_q": [],
       "_ready": false,
       "_view_count": null,
       "_view_module": "nglview-js-widgets",
       "_view_module_version": "3.1.4",
       "_view_name": "ColormakerRegistryView",
       "layout": "IPY_MODEL_c6817f10ba3644fb9992c7a407c3a78e",
       "tabbable": null,
       "tooltip": null
      }
     },
     "c6817f10ba3644fb9992c7a407c3a78e": {
      "model_module": "@jupyter-widgets/base",
      "model_module_version": "2.0.0",
      "model_name": "LayoutModel",
      "state": {
       "_model_module": "@jupyter-widgets/base",
       "_model_module_version": "2.0.0",
       "_model_name": "LayoutModel",
       "_view_count": null,
       "_view_module": "@jupyter-widgets/base",
       "_view_module_version": "2.0.0",
       "_view_name": "LayoutView",
       "align_content": null,
       "align_items": null,
       "align_self": null,
       "border_bottom": null,
       "border_left": null,
       "border_right": null,
       "border_top": null,
       "bottom": null,
       "display": null,
       "flex": null,
       "flex_flow": null,
       "grid_area": null,
       "grid_auto_columns": null,
       "grid_auto_flow": null,
       "grid_auto_rows": null,
       "grid_column": null,
       "grid_gap": null,
       "grid_row": null,
       "grid_template_areas": null,
       "grid_template_columns": null,
       "grid_template_rows": null,
       "height": null,
       "justify_content": null,
       "justify_items": null,
       "left": null,
       "margin": null,
       "max_height": null,
       "max_width": null,
       "min_height": null,
       "min_width": null,
       "object_fit": null,
       "object_position": null,
       "order": null,
       "overflow": null,
       "padding": null,
       "right": null,
       "top": null,
       "visibility": null,
       "width": null
      }
     }
    },
    "version_major": 2,
    "version_minor": 0
   }
  }
 },
 "nbformat": 4,
 "nbformat_minor": 5
}
