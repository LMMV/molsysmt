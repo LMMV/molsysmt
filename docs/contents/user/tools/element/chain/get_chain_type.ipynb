{
 "cells": [
  {
   "cell_type": "code",
   "execution_count": 1,
   "id": "c55e0a44-c9d9-4229-9a9b-96ecd1ed9b8d",
   "metadata": {
    "execution": {
     "iopub.execute_input": "2025-03-11T21:07:45.179780Z",
     "iopub.status.busy": "2025-03-11T21:07:45.179351Z",
     "iopub.status.idle": "2025-03-11T21:07:45.215053Z",
     "shell.execute_reply": "2025-03-11T21:07:45.214044Z"
    }
   },
   "outputs": [],
   "source": [
    "%load_ext autoreload\n",
    "%autoreload 2"
   ]
  },
  {
   "cell_type": "code",
   "execution_count": 2,
   "id": "cc4d7152-a00a-4654-be50-b421e01f584d",
   "metadata": {
    "execution": {
     "iopub.execute_input": "2025-03-11T21:07:45.218867Z",
     "iopub.status.busy": "2025-03-11T21:07:45.218401Z",
     "iopub.status.idle": "2025-03-11T21:07:54.514753Z",
     "shell.execute_reply": "2025-03-11T21:07:54.513809Z"
    }
   },
   "outputs": [
    {
     "data": {
      "application/vnd.jupyter.widget-view+json": {
       "model_id": "a3340f98900b421e91ff69f28038fd94",
       "version_major": 2,
       "version_minor": 0
      },
      "text/plain": []
     },
     "metadata": {},
     "output_type": "display_data"
    }
   ],
   "source": [
    "import molsysmt as msm"
   ]
  },
  {
   "cell_type": "markdown",
   "id": "e203abd4-cf31-4dc5-afa7-b3d980bd30a9",
   "metadata": {},
   "source": [
    "# Get chain type\n",
    "\n",
    "AAA\n",
    "\n"
   ]
  },
  {
   "cell_type": "code",
   "execution_count": 3,
   "id": "f5ae9d14-a25f-40cd-b895-44aade003898",
   "metadata": {
    "execution": {
     "iopub.execute_input": "2025-03-11T21:07:54.519828Z",
     "iopub.status.busy": "2025-03-11T21:07:54.518554Z",
     "iopub.status.idle": "2025-03-11T21:07:55.294215Z",
     "shell.execute_reply": "2025-03-11T21:07:55.293357Z"
    }
   },
   "outputs": [],
   "source": [
    "molsys = msm.convert(msm.systems['chicken villin HP35']['chicken_villin_HP35_solvated.h5msm'])"
   ]
  },
  {
   "cell_type": "code",
   "execution_count": 4,
   "id": "9cc29651-b3e7-45ef-b96f-33423a664a9f",
   "metadata": {
    "execution": {
     "iopub.execute_input": "2025-03-11T21:07:55.297850Z",
     "iopub.status.busy": "2025-03-11T21:07:55.296831Z",
     "iopub.status.idle": "2025-03-11T21:07:55.713540Z",
     "shell.execute_reply": "2025-03-11T21:07:55.712609Z"
    }
   },
   "outputs": [
    {
     "data": {
      "text/plain": [
       "2"
      ]
     },
     "execution_count": 4,
     "metadata": {},
     "output_type": "execute_result"
    }
   ],
   "source": [
    "msm.get(molsys, n_chains=True)"
   ]
  },
  {
   "cell_type": "code",
   "execution_count": 5,
   "id": "6de8ddad-1b3d-447a-974d-eed4b4154169",
   "metadata": {
    "execution": {
     "iopub.execute_input": "2025-03-11T21:07:55.717028Z",
     "iopub.status.busy": "2025-03-11T21:07:55.716590Z",
     "iopub.status.idle": "2025-03-11T21:07:56.419936Z",
     "shell.execute_reply": "2025-03-11T21:07:56.419094Z"
    }
   },
   "outputs": [],
   "source": [
    "o = msm.element.chain.get_chain_type(molsys, element='chain', selection='all', redefine_types=True)"
   ]
  },
  {
   "cell_type": "code",
   "execution_count": 6,
   "id": "c1d4c379-72fe-49f8-b289-ab6595c657fc",
   "metadata": {
    "execution": {
     "iopub.execute_input": "2025-03-11T21:07:56.423178Z",
     "iopub.status.busy": "2025-03-11T21:07:56.422833Z",
     "iopub.status.idle": "2025-03-11T21:07:56.468613Z",
     "shell.execute_reply": "2025-03-11T21:07:56.467945Z"
    }
   },
   "outputs": [
    {
     "data": {
      "text/plain": [
       "True"
      ]
     },
     "execution_count": 6,
     "metadata": {},
     "output_type": "execute_result"
    }
   ],
   "source": [
    "['peptide', 'ions + water']==o"
   ]
  },
  {
   "cell_type": "code",
   "execution_count": 7,
   "id": "18681d8c-cb37-4a86-b439-aaf658dbeec7",
   "metadata": {
    "execution": {
     "iopub.execute_input": "2025-03-11T21:07:56.471503Z",
     "iopub.status.busy": "2025-03-11T21:07:56.471245Z",
     "iopub.status.idle": "2025-03-11T21:07:56.543127Z",
     "shell.execute_reply": "2025-03-11T21:07:56.542247Z"
    }
   },
   "outputs": [
    {
     "data": {
      "text/plain": [
       "['peptide', 'ions + water']"
      ]
     },
     "execution_count": 7,
     "metadata": {},
     "output_type": "execute_result"
    }
   ],
   "source": [
    "o"
   ]
  },
  {
   "cell_type": "code",
   "execution_count": 8,
   "id": "5ff2e5b3-50e5-4265-8f50-3f68bf2cafc3",
   "metadata": {
    "execution": {
     "iopub.execute_input": "2025-03-11T21:07:56.546799Z",
     "iopub.status.busy": "2025-03-11T21:07:56.546066Z",
     "iopub.status.idle": "2025-03-11T21:07:57.185764Z",
     "shell.execute_reply": "2025-03-11T21:07:57.184808Z"
    }
   },
   "outputs": [],
   "source": [
    "msm.build.define_new_chain(molsys, selection='all', chain_id=0, chain_name='A')"
   ]
  },
  {
   "cell_type": "code",
   "execution_count": 9,
   "id": "342ec693-9a69-458a-9e36-7e2b92ee6e90",
   "metadata": {
    "execution": {
     "iopub.execute_input": "2025-03-11T21:07:57.189701Z",
     "iopub.status.busy": "2025-03-11T21:07:57.189302Z",
     "iopub.status.idle": "2025-03-11T21:07:58.146737Z",
     "shell.execute_reply": "2025-03-11T21:07:58.145993Z"
    }
   },
   "outputs": [
    {
     "data": {
      "text/plain": [
       "['system']"
      ]
     },
     "execution_count": 9,
     "metadata": {},
     "output_type": "execute_result"
    }
   ],
   "source": [
    "msm.element.chain.get_chain_type(molsys, element='chain', selection='all', redefine_types=True)"
   ]
  },
  {
   "cell_type": "code",
   "execution_count": null,
   "id": "a7cabea5-abbc-4d93-ad28-0b9b1138e009",
   "metadata": {},
   "outputs": [],
   "source": []
  }
 ],
 "metadata": {
  "kernelspec": {
   "display_name": "Python 3 (ipykernel)",
   "language": "python",
   "name": "python3"
  },
  "language_info": {
   "codemirror_mode": {
    "name": "ipython",
    "version": 3
   },
   "file_extension": ".py",
   "mimetype": "text/x-python",
   "name": "python",
   "nbconvert_exporter": "python",
   "pygments_lexer": "ipython3",
   "version": "3.12.8"
  },
  "widgets": {
   "application/vnd.jupyter.widget-state+json": {
    "state": {
     "53b080f17e834818b9e4c66c53193ef8": {
      "model_module": "@jupyter-widgets/base",
      "model_module_version": "2.0.0",
      "model_name": "LayoutModel",
      "state": {
       "_model_module": "@jupyter-widgets/base",
       "_model_module_version": "2.0.0",
       "_model_name": "LayoutModel",
       "_view_count": null,
       "_view_module": "@jupyter-widgets/base",
       "_view_module_version": "2.0.0",
       "_view_name": "LayoutView",
       "align_content": null,
       "align_items": null,
       "align_self": null,
       "border_bottom": null,
       "border_left": null,
       "border_right": null,
       "border_top": null,
       "bottom": null,
       "display": null,
       "flex": null,
       "flex_flow": null,
       "grid_area": null,
       "grid_auto_columns": null,
       "grid_auto_flow": null,
       "grid_auto_rows": null,
       "grid_column": null,
       "grid_gap": null,
       "grid_row": null,
       "grid_template_areas": null,
       "grid_template_columns": null,
       "grid_template_rows": null,
       "height": null,
       "justify_content": null,
       "justify_items": null,
       "left": null,
       "margin": null,
       "max_height": null,
       "max_width": null,
       "min_height": null,
       "min_width": null,
       "object_fit": null,
       "object_position": null,
       "order": null,
       "overflow": null,
       "padding": null,
       "right": null,
       "top": null,
       "visibility": null,
       "width": null
      }
     },
     "a3340f98900b421e91ff69f28038fd94": {
      "model_module": "nglview-js-widgets",
      "model_module_version": "3.1.4",
      "model_name": "ColormakerRegistryModel",
      "state": {
       "_dom_classes": [],
       "_model_module": "nglview-js-widgets",
       "_model_module_version": "3.1.4",
       "_model_name": "ColormakerRegistryModel",
       "_msg_ar": [],
       "_msg_q": [],
       "_ready": false,
       "_view_count": null,
       "_view_module": "nglview-js-widgets",
       "_view_module_version": "3.1.4",
       "_view_name": "ColormakerRegistryView",
       "layout": "IPY_MODEL_53b080f17e834818b9e4c66c53193ef8",
       "tabbable": null,
       "tooltip": null
      }
     }
    },
    "version_major": 2,
    "version_minor": 0
   }
  }
 },
 "nbformat": 4,
 "nbformat_minor": 5
}
