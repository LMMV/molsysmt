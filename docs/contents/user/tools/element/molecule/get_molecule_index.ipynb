{
 "cells": [
  {
   "cell_type": "code",
   "execution_count": 1,
   "id": "c55e0a44-c9d9-4229-9a9b-96ecd1ed9b8d",
   "metadata": {
    "execution": {
     "iopub.execute_input": "2025-03-11T21:07:28.532351Z",
     "iopub.status.busy": "2025-03-11T21:07:28.531975Z",
     "iopub.status.idle": "2025-03-11T21:07:28.569801Z",
     "shell.execute_reply": "2025-03-11T21:07:28.568855Z"
    }
   },
   "outputs": [],
   "source": [
    "%load_ext autoreload\n",
    "%autoreload 2"
   ]
  },
  {
   "cell_type": "code",
   "execution_count": 2,
   "id": "cc4d7152-a00a-4654-be50-b421e01f584d",
   "metadata": {
    "execution": {
     "iopub.execute_input": "2025-03-11T21:07:28.573760Z",
     "iopub.status.busy": "2025-03-11T21:07:28.573345Z",
     "iopub.status.idle": "2025-03-11T21:07:36.245656Z",
     "shell.execute_reply": "2025-03-11T21:07:36.244941Z"
    }
   },
   "outputs": [
    {
     "data": {
      "application/vnd.jupyter.widget-view+json": {
       "model_id": "45f51c4c9457448dac919ba1440b1f37",
       "version_major": 2,
       "version_minor": 0
      },
      "text/plain": []
     },
     "metadata": {},
     "output_type": "display_data"
    }
   ],
   "source": [
    "import molsysmt as msm"
   ]
  },
  {
   "cell_type": "markdown",
   "id": "e203abd4-cf31-4dc5-afa7-b3d980bd30a9",
   "metadata": {},
   "source": [
    "# Get molecule index\n",
    "\n",
    "In construction..."
   ]
  },
  {
   "cell_type": "code",
   "execution_count": 3,
   "id": "f5ae9d14-a25f-40cd-b895-44aade003898",
   "metadata": {
    "execution": {
     "iopub.execute_input": "2025-03-11T21:07:36.249268Z",
     "iopub.status.busy": "2025-03-11T21:07:36.248531Z",
     "iopub.status.idle": "2025-03-11T21:07:37.264276Z",
     "shell.execute_reply": "2025-03-11T21:07:37.263139Z"
    }
   },
   "outputs": [],
   "source": [
    "molsys = msm.convert(msm.systems['chicken villin HP35']['chicken_villin_HP35_solvated.h5msm'])"
   ]
  },
  {
   "cell_type": "code",
   "execution_count": 4,
   "id": "6de8ddad-1b3d-447a-974d-eed4b4154169",
   "metadata": {
    "execution": {
     "iopub.execute_input": "2025-03-11T21:07:37.268239Z",
     "iopub.status.busy": "2025-03-11T21:07:37.267344Z",
     "iopub.status.idle": "2025-03-11T21:07:37.600601Z",
     "shell.execute_reply": "2025-03-11T21:07:37.599778Z"
    }
   },
   "outputs": [],
   "source": [
    "indices = msm.element.molecule.get_molecule_index(molsys, element='molecule', selection='all')"
   ]
  },
  {
   "cell_type": "code",
   "execution_count": 5,
   "id": "8db211cd-5011-4279-b2d6-b2f5ed911301",
   "metadata": {
    "execution": {
     "iopub.execute_input": "2025-03-11T21:07:37.604073Z",
     "iopub.status.busy": "2025-03-11T21:07:37.603658Z",
     "iopub.status.idle": "2025-03-11T21:07:37.681552Z",
     "shell.execute_reply": "2025-03-11T21:07:37.680602Z"
    }
   },
   "outputs": [
    {
     "data": {
      "text/plain": [
       "1236"
      ]
     },
     "execution_count": 5,
     "metadata": {},
     "output_type": "execute_result"
    }
   ],
   "source": [
    "len(indices)"
   ]
  },
  {
   "cell_type": "code",
   "execution_count": 6,
   "id": "0a7b64ab-9172-449b-80e4-092f4ebbb4bc",
   "metadata": {
    "execution": {
     "iopub.execute_input": "2025-03-11T21:07:37.685190Z",
     "iopub.status.busy": "2025-03-11T21:07:37.684497Z",
     "iopub.status.idle": "2025-03-11T21:07:38.218770Z",
     "shell.execute_reply": "2025-03-11T21:07:38.217849Z"
    }
   },
   "outputs": [],
   "source": [
    "indices = msm.element.molecule.get_molecule_index(molsys, element='atom', selection='all', redefine_indices=True, redefine_components=True)"
   ]
  },
  {
   "cell_type": "code",
   "execution_count": null,
   "id": "cee34701-77c5-4250-ad01-2722e99bc790",
   "metadata": {},
   "outputs": [],
   "source": []
  }
 ],
 "metadata": {
  "kernelspec": {
   "display_name": "Python 3 (ipykernel)",
   "language": "python",
   "name": "python3"
  },
  "language_info": {
   "codemirror_mode": {
    "name": "ipython",
    "version": 3
   },
   "file_extension": ".py",
   "mimetype": "text/x-python",
   "name": "python",
   "nbconvert_exporter": "python",
   "pygments_lexer": "ipython3",
   "version": "3.12.8"
  },
  "widgets": {
   "application/vnd.jupyter.widget-state+json": {
    "state": {
     "45f51c4c9457448dac919ba1440b1f37": {
      "model_module": "nglview-js-widgets",
      "model_module_version": "3.1.4",
      "model_name": "ColormakerRegistryModel",
      "state": {
       "_dom_classes": [],
       "_model_module": "nglview-js-widgets",
       "_model_module_version": "3.1.4",
       "_model_name": "ColormakerRegistryModel",
       "_msg_ar": [],
       "_msg_q": [],
       "_ready": false,
       "_view_count": null,
       "_view_module": "nglview-js-widgets",
       "_view_module_version": "3.1.4",
       "_view_name": "ColormakerRegistryView",
       "layout": "IPY_MODEL_987ffa69e9b140a585379c3b411bd902",
       "tabbable": null,
       "tooltip": null
      }
     },
     "987ffa69e9b140a585379c3b411bd902": {
      "model_module": "@jupyter-widgets/base",
      "model_module_version": "2.0.0",
      "model_name": "LayoutModel",
      "state": {
       "_model_module": "@jupyter-widgets/base",
       "_model_module_version": "2.0.0",
       "_model_name": "LayoutModel",
       "_view_count": null,
       "_view_module": "@jupyter-widgets/base",
       "_view_module_version": "2.0.0",
       "_view_name": "LayoutView",
       "align_content": null,
       "align_items": null,
       "align_self": null,
       "border_bottom": null,
       "border_left": null,
       "border_right": null,
       "border_top": null,
       "bottom": null,
       "display": null,
       "flex": null,
       "flex_flow": null,
       "grid_area": null,
       "grid_auto_columns": null,
       "grid_auto_flow": null,
       "grid_auto_rows": null,
       "grid_column": null,
       "grid_gap": null,
       "grid_row": null,
       "grid_template_areas": null,
       "grid_template_columns": null,
       "grid_template_rows": null,
       "height": null,
       "justify_content": null,
       "justify_items": null,
       "left": null,
       "margin": null,
       "max_height": null,
       "max_width": null,
       "min_height": null,
       "min_width": null,
       "object_fit": null,
       "object_position": null,
       "order": null,
       "overflow": null,
       "padding": null,
       "right": null,
       "top": null,
       "visibility": null,
       "width": null
      }
     }
    },
    "version_major": 2,
    "version_minor": 0
   }
  }
 },
 "nbformat": 4,
 "nbformat_minor": 5
}
