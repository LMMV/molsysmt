{
 "cells": [
  {
   "cell_type": "code",
   "execution_count": 1,
   "id": "c55e0a44-c9d9-4229-9a9b-96ecd1ed9b8d",
   "metadata": {
    "execution": {
     "iopub.execute_input": "2025-03-11T21:07:25.542890Z",
     "iopub.status.busy": "2025-03-11T21:07:25.542160Z",
     "iopub.status.idle": "2025-03-11T21:07:25.578830Z",
     "shell.execute_reply": "2025-03-11T21:07:25.577914Z"
    }
   },
   "outputs": [],
   "source": [
    "%load_ext autoreload\n",
    "%autoreload 2"
   ]
  },
  {
   "cell_type": "code",
   "execution_count": 2,
   "id": "cc4d7152-a00a-4654-be50-b421e01f584d",
   "metadata": {
    "execution": {
     "iopub.execute_input": "2025-03-11T21:07:25.582436Z",
     "iopub.status.busy": "2025-03-11T21:07:25.581792Z",
     "iopub.status.idle": "2025-03-11T21:07:33.619942Z",
     "shell.execute_reply": "2025-03-11T21:07:33.619246Z"
    }
   },
   "outputs": [
    {
     "data": {
      "application/vnd.jupyter.widget-view+json": {
       "model_id": "90cb32a7d01b4da69f0f1a4542152faa",
       "version_major": 2,
       "version_minor": 0
      },
      "text/plain": []
     },
     "metadata": {},
     "output_type": "display_data"
    }
   ],
   "source": [
    "import molsysmt as msm"
   ]
  },
  {
   "cell_type": "markdown",
   "id": "e203abd4-cf31-4dc5-afa7-b3d980bd30a9",
   "metadata": {},
   "source": [
    "# Get molecule type\n",
    "\n",
    "In construction."
   ]
  },
  {
   "cell_type": "code",
   "execution_count": 3,
   "id": "f5ae9d14-a25f-40cd-b895-44aade003898",
   "metadata": {
    "execution": {
     "iopub.execute_input": "2025-03-11T21:07:33.624173Z",
     "iopub.status.busy": "2025-03-11T21:07:33.623458Z",
     "iopub.status.idle": "2025-03-11T21:07:34.479084Z",
     "shell.execute_reply": "2025-03-11T21:07:34.478081Z"
    }
   },
   "outputs": [],
   "source": [
    "molsys = msm.convert(msm.systems['chicken villin HP35']['chicken_villin_HP35_solvated.h5msm'])"
   ]
  },
  {
   "cell_type": "code",
   "execution_count": 4,
   "id": "6de8ddad-1b3d-447a-974d-eed4b4154169",
   "metadata": {
    "execution": {
     "iopub.execute_input": "2025-03-11T21:07:34.483141Z",
     "iopub.status.busy": "2025-03-11T21:07:34.482238Z",
     "iopub.status.idle": "2025-03-11T21:07:34.982465Z",
     "shell.execute_reply": "2025-03-11T21:07:34.981740Z"
    }
   },
   "outputs": [],
   "source": [
    "types = msm.element.molecule.get_molecule_type(molsys, element='molecule', selection='all')"
   ]
  },
  {
   "cell_type": "code",
   "execution_count": 5,
   "id": "8db211cd-5011-4279-b2d6-b2f5ed911301",
   "metadata": {
    "execution": {
     "iopub.execute_input": "2025-03-11T21:07:34.985420Z",
     "iopub.status.busy": "2025-03-11T21:07:34.984877Z",
     "iopub.status.idle": "2025-03-11T21:07:35.064074Z",
     "shell.execute_reply": "2025-03-11T21:07:35.063102Z"
    }
   },
   "outputs": [
    {
     "data": {
      "text/plain": [
       "1236"
      ]
     },
     "execution_count": 5,
     "metadata": {},
     "output_type": "execute_result"
    }
   ],
   "source": [
    "len(types)"
   ]
  },
  {
   "cell_type": "code",
   "execution_count": 6,
   "id": "a2c25b97-8386-4345-95f2-1771c45789ae",
   "metadata": {
    "execution": {
     "iopub.execute_input": "2025-03-11T21:07:35.068635Z",
     "iopub.status.busy": "2025-03-11T21:07:35.068190Z",
     "iopub.status.idle": "2025-03-11T21:07:35.180299Z",
     "shell.execute_reply": "2025-03-11T21:07:35.179323Z"
    }
   },
   "outputs": [
    {
     "data": {
      "text/plain": [
       "['ion', 'ion']"
      ]
     },
     "execution_count": 6,
     "metadata": {},
     "output_type": "execute_result"
    }
   ],
   "source": [
    "types[-2:]"
   ]
  },
  {
   "cell_type": "code",
   "execution_count": null,
   "id": "bcdb7d8c-0aff-483c-8d98-8d8b55cadbf6",
   "metadata": {},
   "outputs": [],
   "source": []
  }
 ],
 "metadata": {
  "kernelspec": {
   "display_name": "Python 3 (ipykernel)",
   "language": "python",
   "name": "python3"
  },
  "language_info": {
   "codemirror_mode": {
    "name": "ipython",
    "version": 3
   },
   "file_extension": ".py",
   "mimetype": "text/x-python",
   "name": "python",
   "nbconvert_exporter": "python",
   "pygments_lexer": "ipython3",
   "version": "3.12.8"
  },
  "widgets": {
   "application/vnd.jupyter.widget-state+json": {
    "state": {
     "57ee965d8dca453497c0777bc5196709": {
      "model_module": "@jupyter-widgets/base",
      "model_module_version": "2.0.0",
      "model_name": "LayoutModel",
      "state": {
       "_model_module": "@jupyter-widgets/base",
       "_model_module_version": "2.0.0",
       "_model_name": "LayoutModel",
       "_view_count": null,
       "_view_module": "@jupyter-widgets/base",
       "_view_module_version": "2.0.0",
       "_view_name": "LayoutView",
       "align_content": null,
       "align_items": null,
       "align_self": null,
       "border_bottom": null,
       "border_left": null,
       "border_right": null,
       "border_top": null,
       "bottom": null,
       "display": null,
       "flex": null,
       "flex_flow": null,
       "grid_area": null,
       "grid_auto_columns": null,
       "grid_auto_flow": null,
       "grid_auto_rows": null,
       "grid_column": null,
       "grid_gap": null,
       "grid_row": null,
       "grid_template_areas": null,
       "grid_template_columns": null,
       "grid_template_rows": null,
       "height": null,
       "justify_content": null,
       "justify_items": null,
       "left": null,
       "margin": null,
       "max_height": null,
       "max_width": null,
       "min_height": null,
       "min_width": null,
       "object_fit": null,
       "object_position": null,
       "order": null,
       "overflow": null,
       "padding": null,
       "right": null,
       "top": null,
       "visibility": null,
       "width": null
      }
     },
     "90cb32a7d01b4da69f0f1a4542152faa": {
      "model_module": "nglview-js-widgets",
      "model_module_version": "3.1.4",
      "model_name": "ColormakerRegistryModel",
      "state": {
       "_dom_classes": [],
       "_model_module": "nglview-js-widgets",
       "_model_module_version": "3.1.4",
       "_model_name": "ColormakerRegistryModel",
       "_msg_ar": [],
       "_msg_q": [],
       "_ready": false,
       "_view_count": null,
       "_view_module": "nglview-js-widgets",
       "_view_module_version": "3.1.4",
       "_view_name": "ColormakerRegistryView",
       "layout": "IPY_MODEL_57ee965d8dca453497c0777bc5196709",
       "tabbable": null,
       "tooltip": null
      }
     }
    },
    "version_major": 2,
    "version_minor": 0
   }
  }
 },
 "nbformat": 4,
 "nbformat_minor": 5
}
