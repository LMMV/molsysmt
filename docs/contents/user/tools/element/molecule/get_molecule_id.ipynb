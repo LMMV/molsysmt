{
 "cells": [
  {
   "cell_type": "code",
   "execution_count": 1,
   "id": "c55e0a44-c9d9-4229-9a9b-96ecd1ed9b8d",
   "metadata": {
    "execution": {
     "iopub.execute_input": "2025-03-11T21:07:31.402249Z",
     "iopub.status.busy": "2025-03-11T21:07:31.401917Z",
     "iopub.status.idle": "2025-03-11T21:07:31.436408Z",
     "shell.execute_reply": "2025-03-11T21:07:31.435359Z"
    }
   },
   "outputs": [],
   "source": [
    "%load_ext autoreload\n",
    "%autoreload 2"
   ]
  },
  {
   "cell_type": "code",
   "execution_count": 2,
   "id": "cc4d7152-a00a-4654-be50-b421e01f584d",
   "metadata": {
    "execution": {
     "iopub.execute_input": "2025-03-11T21:07:31.439662Z",
     "iopub.status.busy": "2025-03-11T21:07:31.439307Z",
     "iopub.status.idle": "2025-03-11T21:07:40.492829Z",
     "shell.execute_reply": "2025-03-11T21:07:40.491857Z"
    }
   },
   "outputs": [
    {
     "data": {
      "application/vnd.jupyter.widget-view+json": {
       "model_id": "c8faa14c511c457e95e8158bc504ae61",
       "version_major": 2,
       "version_minor": 0
      },
      "text/plain": []
     },
     "metadata": {},
     "output_type": "display_data"
    }
   ],
   "source": [
    "import molsysmt as msm"
   ]
  },
  {
   "cell_type": "markdown",
   "id": "e203abd4-cf31-4dc5-afa7-b3d980bd30a9",
   "metadata": {},
   "source": [
    "# Get molecule id\n",
    "\n",
    "In construction."
   ]
  },
  {
   "cell_type": "code",
   "execution_count": 3,
   "id": "f5ae9d14-a25f-40cd-b895-44aade003898",
   "metadata": {
    "execution": {
     "iopub.execute_input": "2025-03-11T21:07:40.497626Z",
     "iopub.status.busy": "2025-03-11T21:07:40.496454Z",
     "iopub.status.idle": "2025-03-11T21:07:41.504364Z",
     "shell.execute_reply": "2025-03-11T21:07:41.503625Z"
    }
   },
   "outputs": [],
   "source": [
    "molsys = msm.convert(msm.systems['chicken villin HP35']['chicken_villin_HP35_solvated.h5msm'])"
   ]
  },
  {
   "cell_type": "code",
   "execution_count": 4,
   "id": "6de8ddad-1b3d-447a-974d-eed4b4154169",
   "metadata": {
    "execution": {
     "iopub.execute_input": "2025-03-11T21:07:41.508145Z",
     "iopub.status.busy": "2025-03-11T21:07:41.507335Z",
     "iopub.status.idle": "2025-03-11T21:07:41.838641Z",
     "shell.execute_reply": "2025-03-11T21:07:41.837852Z"
    }
   },
   "outputs": [],
   "source": [
    "ids = msm.element.molecule.get_molecule_id(molsys, element='molecule', selection='all')"
   ]
  },
  {
   "cell_type": "code",
   "execution_count": 5,
   "id": "8db211cd-5011-4279-b2d6-b2f5ed911301",
   "metadata": {
    "execution": {
     "iopub.execute_input": "2025-03-11T21:07:41.841862Z",
     "iopub.status.busy": "2025-03-11T21:07:41.841505Z",
     "iopub.status.idle": "2025-03-11T21:07:41.897539Z",
     "shell.execute_reply": "2025-03-11T21:07:41.896855Z"
    }
   },
   "outputs": [
    {
     "data": {
      "text/plain": [
       "1236"
      ]
     },
     "execution_count": 5,
     "metadata": {},
     "output_type": "execute_result"
    }
   ],
   "source": [
    "len(ids)"
   ]
  },
  {
   "cell_type": "code",
   "execution_count": 6,
   "id": "3eb18702-1f24-4605-990e-28267bbdad71",
   "metadata": {
    "execution": {
     "iopub.execute_input": "2025-03-11T21:07:41.901203Z",
     "iopub.status.busy": "2025-03-11T21:07:41.900457Z",
     "iopub.status.idle": "2025-03-11T21:07:42.410895Z",
     "shell.execute_reply": "2025-03-11T21:07:42.409889Z"
    }
   },
   "outputs": [],
   "source": [
    "ids = msm.element.molecule.get_molecule_id(molsys, element='molecule', selection='all',\n",
    "                                           redefine_molecules=True, redefine_ids=True)"
   ]
  },
  {
   "cell_type": "code",
   "execution_count": 7,
   "id": "49343db0-140b-45bd-aba1-962bbb9bc653",
   "metadata": {
    "execution": {
     "iopub.execute_input": "2025-03-11T21:07:42.414778Z",
     "iopub.status.busy": "2025-03-11T21:07:42.414153Z",
     "iopub.status.idle": "2025-03-11T21:07:42.484819Z",
     "shell.execute_reply": "2025-03-11T21:07:42.483860Z"
    }
   },
   "outputs": [
    {
     "data": {
      "text/plain": [
       "1236"
      ]
     },
     "execution_count": 7,
     "metadata": {},
     "output_type": "execute_result"
    }
   ],
   "source": [
    "len(ids)"
   ]
  },
  {
   "cell_type": "code",
   "execution_count": null,
   "id": "3e91a16e-0355-4e36-8924-0c6c3c828090",
   "metadata": {},
   "outputs": [],
   "source": []
  }
 ],
 "metadata": {
  "kernelspec": {
   "display_name": "Python 3 (ipykernel)",
   "language": "python",
   "name": "python3"
  },
  "language_info": {
   "codemirror_mode": {
    "name": "ipython",
    "version": 3
   },
   "file_extension": ".py",
   "mimetype": "text/x-python",
   "name": "python",
   "nbconvert_exporter": "python",
   "pygments_lexer": "ipython3",
   "version": "3.12.8"
  },
  "widgets": {
   "application/vnd.jupyter.widget-state+json": {
    "state": {
     "bf568e79b4774608b21d86681a7f18b0": {
      "model_module": "@jupyter-widgets/base",
      "model_module_version": "2.0.0",
      "model_name": "LayoutModel",
      "state": {
       "_model_module": "@jupyter-widgets/base",
       "_model_module_version": "2.0.0",
       "_model_name": "LayoutModel",
       "_view_count": null,
       "_view_module": "@jupyter-widgets/base",
       "_view_module_version": "2.0.0",
       "_view_name": "LayoutView",
       "align_content": null,
       "align_items": null,
       "align_self": null,
       "border_bottom": null,
       "border_left": null,
       "border_right": null,
       "border_top": null,
       "bottom": null,
       "display": null,
       "flex": null,
       "flex_flow": null,
       "grid_area": null,
       "grid_auto_columns": null,
       "grid_auto_flow": null,
       "grid_auto_rows": null,
       "grid_column": null,
       "grid_gap": null,
       "grid_row": null,
       "grid_template_areas": null,
       "grid_template_columns": null,
       "grid_template_rows": null,
       "height": null,
       "justify_content": null,
       "justify_items": null,
       "left": null,
       "margin": null,
       "max_height": null,
       "max_width": null,
       "min_height": null,
       "min_width": null,
       "object_fit": null,
       "object_position": null,
       "order": null,
       "overflow": null,
       "padding": null,
       "right": null,
       "top": null,
       "visibility": null,
       "width": null
      }
     },
     "c8faa14c511c457e95e8158bc504ae61": {
      "model_module": "nglview-js-widgets",
      "model_module_version": "3.1.4",
      "model_name": "ColormakerRegistryModel",
      "state": {
       "_dom_classes": [],
       "_model_module": "nglview-js-widgets",
       "_model_module_version": "3.1.4",
       "_model_name": "ColormakerRegistryModel",
       "_msg_ar": [],
       "_msg_q": [],
       "_ready": false,
       "_view_count": null,
       "_view_module": "nglview-js-widgets",
       "_view_module_version": "3.1.4",
       "_view_name": "ColormakerRegistryView",
       "layout": "IPY_MODEL_bf568e79b4774608b21d86681a7f18b0",
       "tabbable": null,
       "tooltip": null
      }
     }
    },
    "version_major": 2,
    "version_minor": 0
   }
  }
 },
 "nbformat": 4,
 "nbformat_minor": 5
}
