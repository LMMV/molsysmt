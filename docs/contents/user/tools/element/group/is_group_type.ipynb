{
 "cells": [
  {
   "cell_type": "code",
   "execution_count": 1,
   "id": "c55e0a44-c9d9-4229-9a9b-96ecd1ed9b8d",
   "metadata": {
    "execution": {
     "iopub.execute_input": "2025-03-11T21:08:03.486275Z",
     "iopub.status.busy": "2025-03-11T21:08:03.485569Z",
     "iopub.status.idle": "2025-03-11T21:08:03.523581Z",
     "shell.execute_reply": "2025-03-11T21:08:03.522471Z"
    }
   },
   "outputs": [],
   "source": [
    "%load_ext autoreload\n",
    "%autoreload 2"
   ]
  },
  {
   "cell_type": "code",
   "execution_count": 2,
   "id": "cc4d7152-a00a-4654-be50-b421e01f584d",
   "metadata": {
    "execution": {
     "iopub.execute_input": "2025-03-11T21:08:03.527889Z",
     "iopub.status.busy": "2025-03-11T21:08:03.527096Z",
     "iopub.status.idle": "2025-03-11T21:08:13.292134Z",
     "shell.execute_reply": "2025-03-11T21:08:13.291125Z"
    }
   },
   "outputs": [
    {
     "data": {
      "application/vnd.jupyter.widget-view+json": {
       "model_id": "6390769599a6480f899b57df322409c7",
       "version_major": 2,
       "version_minor": 0
      },
      "text/plain": []
     },
     "metadata": {},
     "output_type": "display_data"
    }
   ],
   "source": [
    "import molsysmt as msm"
   ]
  },
  {
   "cell_type": "markdown",
   "id": "e203abd4-cf31-4dc5-afa7-b3d980bd30a9",
   "metadata": {},
   "source": [
    "# Is group type\n",
    "\n",
    "In construction."
   ]
  },
  {
   "cell_type": "code",
   "execution_count": 3,
   "id": "d02da3fc-babc-46bd-ac67-824f2ea2588a",
   "metadata": {
    "execution": {
     "iopub.execute_input": "2025-03-11T21:08:13.300384Z",
     "iopub.status.busy": "2025-03-11T21:08:13.299244Z",
     "iopub.status.idle": "2025-03-11T21:08:13.380165Z",
     "shell.execute_reply": "2025-03-11T21:08:13.379217Z"
    }
   },
   "outputs": [
    {
     "data": {
      "text/plain": [
       "True"
      ]
     },
     "execution_count": 3,
     "metadata": {},
     "output_type": "execute_result"
    }
   ],
   "source": [
    "msm.element.group.is_group_type('water')"
   ]
  },
  {
   "cell_type": "code",
   "execution_count": 4,
   "id": "c0af30b4-d6a0-49a8-a134-8f64fcfc6140",
   "metadata": {
    "execution": {
     "iopub.execute_input": "2025-03-11T21:08:13.384361Z",
     "iopub.status.busy": "2025-03-11T21:08:13.383651Z",
     "iopub.status.idle": "2025-03-11T21:08:13.458004Z",
     "shell.execute_reply": "2025-03-11T21:08:13.457090Z"
    }
   },
   "outputs": [
    {
     "data": {
      "text/plain": [
       "True"
      ]
     },
     "execution_count": 4,
     "metadata": {},
     "output_type": "execute_result"
    }
   ],
   "source": [
    "msm.element.group.is_group_type('lipid')"
   ]
  },
  {
   "cell_type": "code",
   "execution_count": 5,
   "id": "835416a3-0584-4f83-afdf-04be79129295",
   "metadata": {
    "execution": {
     "iopub.execute_input": "2025-03-11T21:08:13.461844Z",
     "iopub.status.busy": "2025-03-11T21:08:13.461352Z",
     "iopub.status.idle": "2025-03-11T21:08:13.526936Z",
     "shell.execute_reply": "2025-03-11T21:08:13.525912Z"
    }
   },
   "outputs": [
    {
     "data": {
      "text/plain": [
       "True"
      ]
     },
     "execution_count": 5,
     "metadata": {},
     "output_type": "execute_result"
    }
   ],
   "source": [
    "msm.element.group.is_group_type('terminal capping')"
   ]
  },
  {
   "cell_type": "code",
   "execution_count": 6,
   "id": "bc8b7376-9025-4405-a51e-4521638e56d0",
   "metadata": {
    "execution": {
     "iopub.execute_input": "2025-03-11T21:08:13.530788Z",
     "iopub.status.busy": "2025-03-11T21:08:13.530155Z",
     "iopub.status.idle": "2025-03-11T21:08:13.606421Z",
     "shell.execute_reply": "2025-03-11T21:08:13.605436Z"
    }
   },
   "outputs": [
    {
     "data": {
      "text/plain": [
       "True"
      ]
     },
     "execution_count": 6,
     "metadata": {},
     "output_type": "execute_result"
    }
   ],
   "source": [
    "msm.element.group.is_group_type('amino acid')"
   ]
  },
  {
   "cell_type": "code",
   "execution_count": null,
   "id": "46baffcf-b621-4b7e-ab7f-8b55721c93d0",
   "metadata": {},
   "outputs": [],
   "source": []
  }
 ],
 "metadata": {
  "kernelspec": {
   "display_name": "Python 3 (ipykernel)",
   "language": "python",
   "name": "python3"
  },
  "language_info": {
   "codemirror_mode": {
    "name": "ipython",
    "version": 3
   },
   "file_extension": ".py",
   "mimetype": "text/x-python",
   "name": "python",
   "nbconvert_exporter": "python",
   "pygments_lexer": "ipython3",
   "version": "3.12.8"
  },
  "widgets": {
   "application/vnd.jupyter.widget-state+json": {
    "state": {
     "6390769599a6480f899b57df322409c7": {
      "model_module": "nglview-js-widgets",
      "model_module_version": "3.1.4",
      "model_name": "ColormakerRegistryModel",
      "state": {
       "_dom_classes": [],
       "_model_module": "nglview-js-widgets",
       "_model_module_version": "3.1.4",
       "_model_name": "ColormakerRegistryModel",
       "_msg_ar": [],
       "_msg_q": [],
       "_ready": false,
       "_view_count": null,
       "_view_module": "nglview-js-widgets",
       "_view_module_version": "3.1.4",
       "_view_name": "ColormakerRegistryView",
       "layout": "IPY_MODEL_f87da1e4a59a4fe9a2b641834bef2026",
       "tabbable": null,
       "tooltip": null
      }
     },
     "f87da1e4a59a4fe9a2b641834bef2026": {
      "model_module": "@jupyter-widgets/base",
      "model_module_version": "2.0.0",
      "model_name": "LayoutModel",
      "state": {
       "_model_module": "@jupyter-widgets/base",
       "_model_module_version": "2.0.0",
       "_model_name": "LayoutModel",
       "_view_count": null,
       "_view_module": "@jupyter-widgets/base",
       "_view_module_version": "2.0.0",
       "_view_name": "LayoutView",
       "align_content": null,
       "align_items": null,
       "align_self": null,
       "border_bottom": null,
       "border_left": null,
       "border_right": null,
       "border_top": null,
       "bottom": null,
       "display": null,
       "flex": null,
       "flex_flow": null,
       "grid_area": null,
       "grid_auto_columns": null,
       "grid_auto_flow": null,
       "grid_auto_rows": null,
       "grid_column": null,
       "grid_gap": null,
       "grid_row": null,
       "grid_template_areas": null,
       "grid_template_columns": null,
       "grid_template_rows": null,
       "height": null,
       "justify_content": null,
       "justify_items": null,
       "left": null,
       "margin": null,
       "max_height": null,
       "max_width": null,
       "min_height": null,
       "min_width": null,
       "object_fit": null,
       "object_position": null,
       "order": null,
       "overflow": null,
       "padding": null,
       "right": null,
       "top": null,
       "visibility": null,
       "width": null
      }
     }
    },
    "version_major": 2,
    "version_minor": 0
   }
  }
 },
 "nbformat": 4,
 "nbformat_minor": 5
}
