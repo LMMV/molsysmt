{
 "cells": [
  {
   "cell_type": "code",
   "execution_count": 1,
   "id": "d7c08bc5-fd41-4f3c-8879-0bd4adacd556",
   "metadata": {
    "execution": {
     "iopub.execute_input": "2025-03-11T21:07:53.066340Z",
     "iopub.status.busy": "2025-03-11T21:07:53.065947Z",
     "iopub.status.idle": "2025-03-11T21:07:53.103751Z",
     "shell.execute_reply": "2025-03-11T21:07:53.102725Z"
    }
   },
   "outputs": [],
   "source": [
    "%load_ext autoreload\n",
    "%autoreload 2"
   ]
  },
  {
   "cell_type": "code",
   "execution_count": 2,
   "id": "607973f4-2241-40e3-86da-f704f16fd143",
   "metadata": {
    "execution": {
     "iopub.execute_input": "2025-03-11T21:07:53.107616Z",
     "iopub.status.busy": "2025-03-11T21:07:53.107210Z",
     "iopub.status.idle": "2025-03-11T21:08:01.214271Z",
     "shell.execute_reply": "2025-03-11T21:08:01.213278Z"
    }
   },
   "outputs": [
    {
     "data": {
      "application/vnd.jupyter.widget-view+json": {
       "model_id": "397c3c600733477195db56146e5c3cde",
       "version_major": 2,
       "version_minor": 0
      },
      "text/plain": []
     },
     "metadata": {},
     "output_type": "display_data"
    }
   ],
   "source": [
    "import molsysmt as msm"
   ]
  },
  {
   "cell_type": "markdown",
   "id": "82900f87-29f1-406f-bb90-c4fce9ed9fc4",
   "metadata": {},
   "source": [
    "# Is amino acid\n",
    "\n",
    "In construction."
   ]
  },
  {
   "cell_type": "code",
   "execution_count": 3,
   "id": "f9e84e7d-787e-4198-bb22-a43587048c6e",
   "metadata": {
    "execution": {
     "iopub.execute_input": "2025-03-11T21:08:01.218702Z",
     "iopub.status.busy": "2025-03-11T21:08:01.217616Z",
     "iopub.status.idle": "2025-03-11T21:08:01.293460Z",
     "shell.execute_reply": "2025-03-11T21:08:01.292492Z"
    }
   },
   "outputs": [
    {
     "data": {
      "text/plain": [
       "True"
      ]
     },
     "execution_count": 3,
     "metadata": {},
     "output_type": "execute_result"
    }
   ],
   "source": [
    "msm.element.group.amino_acid.is_amino_acid('ALA')"
   ]
  },
  {
   "cell_type": "code",
   "execution_count": null,
   "id": "25754eac-cc88-4e84-b502-de6b3eb4b421",
   "metadata": {},
   "outputs": [],
   "source": []
  }
 ],
 "metadata": {
  "kernelspec": {
   "display_name": "Python 3 (ipykernel)",
   "language": "python",
   "name": "python3"
  },
  "language_info": {
   "codemirror_mode": {
    "name": "ipython",
    "version": 3
   },
   "file_extension": ".py",
   "mimetype": "text/x-python",
   "name": "python",
   "nbconvert_exporter": "python",
   "pygments_lexer": "ipython3",
   "version": "3.12.8"
  },
  "widgets": {
   "application/vnd.jupyter.widget-state+json": {
    "state": {
     "397c3c600733477195db56146e5c3cde": {
      "model_module": "nglview-js-widgets",
      "model_module_version": "3.1.4",
      "model_name": "ColormakerRegistryModel",
      "state": {
       "_dom_classes": [],
       "_model_module": "nglview-js-widgets",
       "_model_module_version": "3.1.4",
       "_model_name": "ColormakerRegistryModel",
       "_msg_ar": [],
       "_msg_q": [],
       "_ready": false,
       "_view_count": null,
       "_view_module": "nglview-js-widgets",
       "_view_module_version": "3.1.4",
       "_view_name": "ColormakerRegistryView",
       "layout": "IPY_MODEL_cce4880bc4b249008e7e68b0d3c79d7d",
       "tabbable": null,
       "tooltip": null
      }
     },
     "cce4880bc4b249008e7e68b0d3c79d7d": {
      "model_module": "@jupyter-widgets/base",
      "model_module_version": "2.0.0",
      "model_name": "LayoutModel",
      "state": {
       "_model_module": "@jupyter-widgets/base",
       "_model_module_version": "2.0.0",
       "_model_name": "LayoutModel",
       "_view_count": null,
       "_view_module": "@jupyter-widgets/base",
       "_view_module_version": "2.0.0",
       "_view_name": "LayoutView",
       "align_content": null,
       "align_items": null,
       "align_self": null,
       "border_bottom": null,
       "border_left": null,
       "border_right": null,
       "border_top": null,
       "bottom": null,
       "display": null,
       "flex": null,
       "flex_flow": null,
       "grid_area": null,
       "grid_auto_columns": null,
       "grid_auto_flow": null,
       "grid_auto_rows": null,
       "grid_column": null,
       "grid_gap": null,
       "grid_row": null,
       "grid_template_areas": null,
       "grid_template_columns": null,
       "grid_template_rows": null,
       "height": null,
       "justify_content": null,
       "justify_items": null,
       "left": null,
       "margin": null,
       "max_height": null,
       "max_width": null,
       "min_height": null,
       "min_width": null,
       "object_fit": null,
       "object_position": null,
       "order": null,
       "overflow": null,
       "padding": null,
       "right": null,
       "top": null,
       "visibility": null,
       "width": null
      }
     }
    },
    "version_major": 2,
    "version_minor": 0
   }
  }
 },
 "nbformat": 4,
 "nbformat_minor": 5
}
