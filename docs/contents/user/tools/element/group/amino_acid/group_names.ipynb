{
 "cells": [
  {
   "cell_type": "code",
   "execution_count": 1,
   "id": "d7c08bc5-fd41-4f3c-8879-0bd4adacd556",
   "metadata": {
    "execution": {
     "iopub.execute_input": "2025-03-11T21:07:49.123914Z",
     "iopub.status.busy": "2025-03-11T21:07:49.123358Z",
     "iopub.status.idle": "2025-03-11T21:07:49.161925Z",
     "shell.execute_reply": "2025-03-11T21:07:49.160988Z"
    }
   },
   "outputs": [],
   "source": [
    "%load_ext autoreload\n",
    "%autoreload 2"
   ]
  },
  {
   "cell_type": "code",
   "execution_count": 2,
   "id": "607973f4-2241-40e3-86da-f704f16fd143",
   "metadata": {
    "execution": {
     "iopub.execute_input": "2025-03-11T21:07:49.165914Z",
     "iopub.status.busy": "2025-03-11T21:07:49.165292Z",
     "iopub.status.idle": "2025-03-11T21:07:57.879860Z",
     "shell.execute_reply": "2025-03-11T21:07:57.878908Z"
    }
   },
   "outputs": [
    {
     "data": {
      "application/vnd.jupyter.widget-view+json": {
       "model_id": "1c194dc710eb41068705bdd3fe75db53",
       "version_major": 2,
       "version_minor": 0
      },
      "text/plain": []
     },
     "metadata": {},
     "output_type": "display_data"
    }
   ],
   "source": [
    "import molsysmt as msm"
   ]
  },
  {
   "cell_type": "markdown",
   "id": "82900f87-29f1-406f-bb90-c4fce9ed9fc4",
   "metadata": {},
   "source": [
    "# Group names\n",
    "\n",
    "In construction."
   ]
  },
  {
   "cell_type": "code",
   "execution_count": 3,
   "id": "c71194f1-f77a-4a4c-b205-e9ad6669d952",
   "metadata": {
    "execution": {
     "iopub.execute_input": "2025-03-11T21:07:57.885175Z",
     "iopub.status.busy": "2025-03-11T21:07:57.883747Z",
     "iopub.status.idle": "2025-03-11T21:07:57.961107Z",
     "shell.execute_reply": "2025-03-11T21:07:57.960134Z"
    }
   },
   "outputs": [
    {
     "data": {
      "text/plain": [
       "['ABU',\n",
       " 'AIB',\n",
       " 'ALA',\n",
       " 'ARG',\n",
       " 'ARGN',\n",
       " 'ASH',\n",
       " 'ASN',\n",
       " 'ASN1',\n",
       " 'ASP',\n",
       " 'ASP1',\n",
       " 'ASPH',\n",
       " 'ASPP',\n",
       " 'CALA',\n",
       " 'CARG',\n",
       " 'CASN',\n",
       " 'CASP',\n",
       " 'CASPH',\n",
       " 'CCYS',\n",
       " 'CCYS2',\n",
       " 'CDAB',\n",
       " 'CGLN',\n",
       " 'CGLU',\n",
       " 'CGLUH',\n",
       " 'CGLY',\n",
       " 'CHID',\n",
       " 'CHIE',\n",
       " 'CHIP',\n",
       " 'CHISD',\n",
       " 'CHISE',\n",
       " 'CHISH',\n",
       " 'CHYP',\n",
       " 'CILE',\n",
       " 'CLEU',\n",
       " 'CLYS',\n",
       " 'CLYSN',\n",
       " 'CMET',\n",
       " 'CORN',\n",
       " 'CPHE',\n",
       " 'CPRO',\n",
       " 'CSER',\n",
       " 'CTHR',\n",
       " 'CTRP',\n",
       " 'CTYR',\n",
       " 'CVAL',\n",
       " 'CYM',\n",
       " 'CYN',\n",
       " 'CYS',\n",
       " 'CYS1',\n",
       " 'CYS2',\n",
       " 'CYSH',\n",
       " 'CYX',\n",
       " 'DAB',\n",
       " 'DALA',\n",
       " 'GLH',\n",
       " 'GLN',\n",
       " 'GLU',\n",
       " 'GLUH',\n",
       " 'GLUP',\n",
       " 'GLY',\n",
       " 'HID',\n",
       " 'HIE',\n",
       " 'HIP',\n",
       " 'HIS',\n",
       " 'HIS1',\n",
       " 'HISA',\n",
       " 'HISB',\n",
       " 'HISD',\n",
       " 'HISE',\n",
       " 'HISH',\n",
       " 'HISP',\n",
       " 'HSD',\n",
       " 'HSE',\n",
       " 'HSP',\n",
       " 'HYP',\n",
       " 'ILE',\n",
       " 'LEU',\n",
       " 'LSN',\n",
       " 'LYN',\n",
       " 'LYP',\n",
       " 'LYS',\n",
       " 'LYSH',\n",
       " 'LYSN',\n",
       " 'MELEU',\n",
       " 'MET',\n",
       " 'MEVAL',\n",
       " 'NAC',\n",
       " 'NALA',\n",
       " 'NARG',\n",
       " 'NASN',\n",
       " 'NASP',\n",
       " 'NASPH',\n",
       " 'NCYS',\n",
       " 'NCYS2',\n",
       " 'NDAB',\n",
       " 'NGLN',\n",
       " 'NGLU',\n",
       " 'NGLUH',\n",
       " 'NGLY',\n",
       " 'NHID',\n",
       " 'NHIE',\n",
       " 'NHIP',\n",
       " 'NHISD',\n",
       " 'NHISE',\n",
       " 'NHISH',\n",
       " 'NHYP',\n",
       " 'NILE',\n",
       " 'NLEU',\n",
       " 'NLYS',\n",
       " 'NLYSN',\n",
       " 'NMET',\n",
       " 'NORN',\n",
       " 'NPHE',\n",
       " 'NPRO',\n",
       " 'NSER',\n",
       " 'NTHR',\n",
       " 'NTRP',\n",
       " 'NTYR',\n",
       " 'NVAL',\n",
       " 'ORN',\n",
       " 'PGLU',\n",
       " 'PHE',\n",
       " 'PHEH',\n",
       " 'PHEU',\n",
       " 'PHL',\n",
       " 'PRO',\n",
       " 'SER',\n",
       " 'THR',\n",
       " 'TRP',\n",
       " 'TRPH',\n",
       " 'TRPU',\n",
       " 'TYR',\n",
       " 'TYRH',\n",
       " 'TYRU',\n",
       " 'VAL']"
      ]
     },
     "execution_count": 3,
     "metadata": {},
     "output_type": "execute_result"
    }
   ],
   "source": [
    "msm.element.group.amino_acid.group_names"
   ]
  },
  {
   "cell_type": "code",
   "execution_count": null,
   "id": "25754eac-cc88-4e84-b502-de6b3eb4b421",
   "metadata": {},
   "outputs": [],
   "source": []
  }
 ],
 "metadata": {
  "kernelspec": {
   "display_name": "Python 3 (ipykernel)",
   "language": "python",
   "name": "python3"
  },
  "language_info": {
   "codemirror_mode": {
    "name": "ipython",
    "version": 3
   },
   "file_extension": ".py",
   "mimetype": "text/x-python",
   "name": "python",
   "nbconvert_exporter": "python",
   "pygments_lexer": "ipython3",
   "version": "3.12.8"
  },
  "widgets": {
   "application/vnd.jupyter.widget-state+json": {
    "state": {
     "1c194dc710eb41068705bdd3fe75db53": {
      "model_module": "nglview-js-widgets",
      "model_module_version": "3.1.4",
      "model_name": "ColormakerRegistryModel",
      "state": {
       "_dom_classes": [],
       "_model_module": "nglview-js-widgets",
       "_model_module_version": "3.1.4",
       "_model_name": "ColormakerRegistryModel",
       "_msg_ar": [],
       "_msg_q": [],
       "_ready": false,
       "_view_count": null,
       "_view_module": "nglview-js-widgets",
       "_view_module_version": "3.1.4",
       "_view_name": "ColormakerRegistryView",
       "layout": "IPY_MODEL_db2f9c6f66ee4e00bba5591d3ed3d855",
       "tabbable": null,
       "tooltip": null
      }
     },
     "db2f9c6f66ee4e00bba5591d3ed3d855": {
      "model_module": "@jupyter-widgets/base",
      "model_module_version": "2.0.0",
      "model_name": "LayoutModel",
      "state": {
       "_model_module": "@jupyter-widgets/base",
       "_model_module_version": "2.0.0",
       "_model_name": "LayoutModel",
       "_view_count": null,
       "_view_module": "@jupyter-widgets/base",
       "_view_module_version": "2.0.0",
       "_view_name": "LayoutView",
       "align_content": null,
       "align_items": null,
       "align_self": null,
       "border_bottom": null,
       "border_left": null,
       "border_right": null,
       "border_top": null,
       "bottom": null,
       "display": null,
       "flex": null,
       "flex_flow": null,
       "grid_area": null,
       "grid_auto_columns": null,
       "grid_auto_flow": null,
       "grid_auto_rows": null,
       "grid_column": null,
       "grid_gap": null,
       "grid_row": null,
       "grid_template_areas": null,
       "grid_template_columns": null,
       "grid_template_rows": null,
       "height": null,
       "justify_content": null,
       "justify_items": null,
       "left": null,
       "margin": null,
       "max_height": null,
       "max_width": null,
       "min_height": null,
       "min_width": null,
       "object_fit": null,
       "object_position": null,
       "order": null,
       "overflow": null,
       "padding": null,
       "right": null,
       "top": null,
       "visibility": null,
       "width": null
      }
     }
    },
    "version_major": 2,
    "version_minor": 0
   }
  }
 },
 "nbformat": 4,
 "nbformat_minor": 5
}
