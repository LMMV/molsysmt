{
 "cells": [
  {
   "cell_type": "code",
   "execution_count": 1,
   "id": "d7c08bc5-fd41-4f3c-8879-0bd4adacd556",
   "metadata": {
    "execution": {
     "iopub.execute_input": "2025-03-11T21:07:55.509669Z",
     "iopub.status.busy": "2025-03-11T21:07:55.509005Z",
     "iopub.status.idle": "2025-03-11T21:07:55.546728Z",
     "shell.execute_reply": "2025-03-11T21:07:55.545811Z"
    }
   },
   "outputs": [],
   "source": [
    "%load_ext autoreload\n",
    "%autoreload 2"
   ]
  },
  {
   "cell_type": "code",
   "execution_count": 2,
   "id": "607973f4-2241-40e3-86da-f704f16fd143",
   "metadata": {
    "execution": {
     "iopub.execute_input": "2025-03-11T21:07:55.550596Z",
     "iopub.status.busy": "2025-03-11T21:07:55.549871Z",
     "iopub.status.idle": "2025-03-11T21:08:04.547018Z",
     "shell.execute_reply": "2025-03-11T21:08:04.546063Z"
    }
   },
   "outputs": [
    {
     "data": {
      "application/vnd.jupyter.widget-view+json": {
       "model_id": "5632ba6d0b1d43659a6d3587be5f19af",
       "version_major": 2,
       "version_minor": 0
      },
      "text/plain": []
     },
     "metadata": {},
     "output_type": "display_data"
    }
   ],
   "source": [
    "import molsysmt as msm"
   ]
  },
  {
   "cell_type": "markdown",
   "id": "82900f87-29f1-406f-bb90-c4fce9ed9fc4",
   "metadata": {},
   "source": [
    "# Get bonded atom pairs\n",
    "\n",
    "In construction."
   ]
  },
  {
   "cell_type": "code",
   "execution_count": 3,
   "id": "25754eac-cc88-4e84-b502-de6b3eb4b421",
   "metadata": {
    "execution": {
     "iopub.execute_input": "2025-03-11T21:08:04.551584Z",
     "iopub.status.busy": "2025-03-11T21:08:04.550674Z",
     "iopub.status.idle": "2025-03-11T21:08:04.622644Z",
     "shell.execute_reply": "2025-03-11T21:08:04.621651Z"
    }
   },
   "outputs": [
    {
     "data": {
      "text/plain": [
       "[[0, 1],\n",
       " [0, 8],\n",
       " [0, 9],\n",
       " [1, 2],\n",
       " [1, 4],\n",
       " [1, 10],\n",
       " [2, 3],\n",
       " [2, 7],\n",
       " [4, 5],\n",
       " [4, 6],\n",
       " [4, 11],\n",
       " [5, 12],\n",
       " [5, 13],\n",
       " [5, 14],\n",
       " [6, 15],\n",
       " [6, 16],\n",
       " [6, 17],\n",
       " [7, 18]]"
      ]
     },
     "execution_count": 3,
     "metadata": {},
     "output_type": "execute_result"
    }
   ],
   "source": [
    "atom_names = ['N','CA','C','O','CB','CG1','CG2','OXT','H','HN2','HA','HB',\n",
    "              '1HG1','2HG1','3HG1','1HG2','2HG2','3HG2','HXT']\n",
    "msm.element.group.amino_acid.get_bonded_atom_pairs('VAL', atom_names)"
   ]
  },
  {
   "cell_type": "code",
   "execution_count": 4,
   "id": "eca93417-4d2a-49b0-bb6b-8c59788099e7",
   "metadata": {
    "execution": {
     "iopub.execute_input": "2025-03-11T21:08:04.626099Z",
     "iopub.status.busy": "2025-03-11T21:08:04.625549Z",
     "iopub.status.idle": "2025-03-11T21:08:04.693008Z",
     "shell.execute_reply": "2025-03-11T21:08:04.691973Z"
    }
   },
   "outputs": [
    {
     "data": {
      "text/plain": [
       "[[10, 11],\n",
       " [10, 18],\n",
       " [10, 19],\n",
       " [11, 12],\n",
       " [11, 14],\n",
       " [11, 20],\n",
       " [12, 13],\n",
       " [12, 17],\n",
       " [14, 15],\n",
       " [14, 16],\n",
       " [14, 21],\n",
       " [15, 22],\n",
       " [15, 23],\n",
       " [15, 24],\n",
       " [16, 25],\n",
       " [16, 26],\n",
       " [16, 27],\n",
       " [17, 28]]"
      ]
     },
     "execution_count": 4,
     "metadata": {},
     "output_type": "execute_result"
    }
   ],
   "source": [
    "atom_names = ['N','CA','C','O','CB','CG1','CG2','OXT','H','HN2','HA','HB',\n",
    "              '1HG1','2HG1','3HG1','1HG2','2HG2','3HG2','HXT']\n",
    "atom_indices = list(range(10, 10+len(atom_names)))\n",
    "msm.element.group.amino_acid.get_bonded_atom_pairs('VAL', atom_names, atom_indices=atom_indices)"
   ]
  },
  {
   "cell_type": "code",
   "execution_count": 5,
   "id": "34030731-d3d0-4340-bef7-5ac4d7ba39bd",
   "metadata": {
    "execution": {
     "iopub.execute_input": "2025-03-11T21:08:04.696247Z",
     "iopub.status.busy": "2025-03-11T21:08:04.695913Z",
     "iopub.status.idle": "2025-03-11T21:08:04.762388Z",
     "shell.execute_reply": "2025-03-11T21:08:04.761510Z"
    }
   },
   "outputs": [
    {
     "data": {
      "text/plain": [
       "[[0, 1],\n",
       " [1, 2],\n",
       " [1, 4],\n",
       " [2, 3],\n",
       " [2, 10],\n",
       " [4, 5],\n",
       " [5, 6],\n",
       " [5, 7],\n",
       " [6, 8],\n",
       " [7, 9],\n",
       " [8, 9]]"
      ]
     },
     "execution_count": 5,
     "metadata": {},
     "output_type": "execute_result"
    }
   ],
   "source": [
    "atom_names = ['N','CA','C','O','CB','CG','ND1','CD2','CE1','NE2','OXT']\n",
    "msm.element.group.amino_acid.get_bonded_atom_pairs('HIS', atom_names)"
   ]
  }
 ],
 "metadata": {
  "kernelspec": {
   "display_name": "Python 3 (ipykernel)",
   "language": "python",
   "name": "python3"
  },
  "language_info": {
   "codemirror_mode": {
    "name": "ipython",
    "version": 3
   },
   "file_extension": ".py",
   "mimetype": "text/x-python",
   "name": "python",
   "nbconvert_exporter": "python",
   "pygments_lexer": "ipython3",
   "version": "3.12.8"
  },
  "widgets": {
   "application/vnd.jupyter.widget-state+json": {
    "state": {
     "34c7c9abd56642b4b4456c4252b78741": {
      "model_module": "@jupyter-widgets/base",
      "model_module_version": "2.0.0",
      "model_name": "LayoutModel",
      "state": {
       "_model_module": "@jupyter-widgets/base",
       "_model_module_version": "2.0.0",
       "_model_name": "LayoutModel",
       "_view_count": null,
       "_view_module": "@jupyter-widgets/base",
       "_view_module_version": "2.0.0",
       "_view_name": "LayoutView",
       "align_content": null,
       "align_items": null,
       "align_self": null,
       "border_bottom": null,
       "border_left": null,
       "border_right": null,
       "border_top": null,
       "bottom": null,
       "display": null,
       "flex": null,
       "flex_flow": null,
       "grid_area": null,
       "grid_auto_columns": null,
       "grid_auto_flow": null,
       "grid_auto_rows": null,
       "grid_column": null,
       "grid_gap": null,
       "grid_row": null,
       "grid_template_areas": null,
       "grid_template_columns": null,
       "grid_template_rows": null,
       "height": null,
       "justify_content": null,
       "justify_items": null,
       "left": null,
       "margin": null,
       "max_height": null,
       "max_width": null,
       "min_height": null,
       "min_width": null,
       "object_fit": null,
       "object_position": null,
       "order": null,
       "overflow": null,
       "padding": null,
       "right": null,
       "top": null,
       "visibility": null,
       "width": null
      }
     },
     "5632ba6d0b1d43659a6d3587be5f19af": {
      "model_module": "nglview-js-widgets",
      "model_module_version": "3.1.4",
      "model_name": "ColormakerRegistryModel",
      "state": {
       "_dom_classes": [],
       "_model_module": "nglview-js-widgets",
       "_model_module_version": "3.1.4",
       "_model_name": "ColormakerRegistryModel",
       "_msg_ar": [],
       "_msg_q": [],
       "_ready": false,
       "_view_count": null,
       "_view_module": "nglview-js-widgets",
       "_view_module_version": "3.1.4",
       "_view_name": "ColormakerRegistryView",
       "layout": "IPY_MODEL_34c7c9abd56642b4b4456c4252b78741",
       "tabbable": null,
       "tooltip": null
      }
     }
    },
    "version_major": 2,
    "version_minor": 0
   }
  }
 },
 "nbformat": 4,
 "nbformat_minor": 5
}
