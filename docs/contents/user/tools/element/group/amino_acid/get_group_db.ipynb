{
 "cells": [
  {
   "cell_type": "code",
   "execution_count": 1,
   "id": "d7c08bc5-fd41-4f3c-8879-0bd4adacd556",
   "metadata": {
    "execution": {
     "iopub.execute_input": "2025-03-11T21:07:54.218116Z",
     "iopub.status.busy": "2025-03-11T21:07:54.217557Z",
     "iopub.status.idle": "2025-03-11T21:07:54.254797Z",
     "shell.execute_reply": "2025-03-11T21:07:54.253887Z"
    }
   },
   "outputs": [],
   "source": [
    "%load_ext autoreload\n",
    "%autoreload 2"
   ]
  },
  {
   "cell_type": "code",
   "execution_count": 2,
   "id": "607973f4-2241-40e3-86da-f704f16fd143",
   "metadata": {
    "execution": {
     "iopub.execute_input": "2025-03-11T21:07:54.258625Z",
     "iopub.status.busy": "2025-03-11T21:07:54.258057Z",
     "iopub.status.idle": "2025-03-11T21:08:03.712264Z",
     "shell.execute_reply": "2025-03-11T21:08:03.708241Z"
    }
   },
   "outputs": [
    {
     "data": {
      "application/vnd.jupyter.widget-view+json": {
       "model_id": "c7ea24ab3a9e49399d834345dc8784db",
       "version_major": 2,
       "version_minor": 0
      },
      "text/plain": []
     },
     "metadata": {},
     "output_type": "display_data"
    }
   ],
   "source": [
    "import molsysmt as msm"
   ]
  },
  {
   "cell_type": "markdown",
   "id": "82900f87-29f1-406f-bb90-c4fce9ed9fc4",
   "metadata": {},
   "source": [
    "# Get group DB\n",
    "\n",
    "In construction."
   ]
  },
  {
   "cell_type": "code",
   "execution_count": 3,
   "id": "f9e84e7d-787e-4198-bb22-a43587048c6e",
   "metadata": {
    "execution": {
     "iopub.execute_input": "2025-03-11T21:08:03.716883Z",
     "iopub.status.busy": "2025-03-11T21:08:03.715999Z",
     "iopub.status.idle": "2025-03-11T21:08:03.784412Z",
     "shell.execute_reply": "2025-03-11T21:08:03.783457Z"
    }
   },
   "outputs": [],
   "source": [
    "db_entry = msm.element.group.amino_acid.get_group_db('VAL')"
   ]
  },
  {
   "cell_type": "code",
   "execution_count": 4,
   "id": "c71194f1-f77a-4a4c-b205-e9ad6669d952",
   "metadata": {
    "execution": {
     "iopub.execute_input": "2025-03-11T21:08:03.788253Z",
     "iopub.status.busy": "2025-03-11T21:08:03.787841Z",
     "iopub.status.idle": "2025-03-11T21:08:03.868415Z",
     "shell.execute_reply": "2025-03-11T21:08:03.867533Z"
    }
   },
   "outputs": [
    {
     "data": {
      "text/plain": [
       "{'name': 'VALINE',\n",
       " 'topology': [{'atoms': ['N',\n",
       "    'CA',\n",
       "    'C',\n",
       "    'O',\n",
       "    'CB',\n",
       "    'CG1',\n",
       "    'CG2',\n",
       "    'OXT',\n",
       "    'H',\n",
       "    'H2',\n",
       "    'HA',\n",
       "    'HB',\n",
       "    'HG11',\n",
       "    'HG12',\n",
       "    'HG13',\n",
       "    'HG21',\n",
       "    'HG22',\n",
       "    'HG23',\n",
       "    'HXT'],\n",
       "   'bonds': [['N', 'CA'],\n",
       "    ['N', 'H'],\n",
       "    ['N', 'H2'],\n",
       "    ['CA', 'C'],\n",
       "    ['CA', 'CB'],\n",
       "    ['CA', 'HA'],\n",
       "    ['C', 'O'],\n",
       "    ['C', 'OXT'],\n",
       "    ['CB', 'CG1'],\n",
       "    ['CB', 'CG2'],\n",
       "    ['CB', 'HB'],\n",
       "    ['CG1', 'HG11'],\n",
       "    ['CG1', 'HG12'],\n",
       "    ['CG1', 'HG13'],\n",
       "    ['CG2', 'HG21'],\n",
       "    ['CG2', 'HG22'],\n",
       "    ['CG2', 'HG23'],\n",
       "    ['OXT', 'HXT']]},\n",
       "  {'atoms': ['N',\n",
       "    'CA',\n",
       "    'C',\n",
       "    'O',\n",
       "    'CB',\n",
       "    'CG1',\n",
       "    'CG2',\n",
       "    'OXT',\n",
       "    'H',\n",
       "    'HN2',\n",
       "    'HA',\n",
       "    'HB',\n",
       "    '1HG1',\n",
       "    '2HG1',\n",
       "    '3HG1',\n",
       "    '1HG2',\n",
       "    '2HG2',\n",
       "    '3HG2',\n",
       "    'HXT'],\n",
       "   'bonds': [['N', 'CA'],\n",
       "    ['N', 'H'],\n",
       "    ['N', 'HN2'],\n",
       "    ['CA', 'C'],\n",
       "    ['CA', 'CB'],\n",
       "    ['CA', 'HA'],\n",
       "    ['C', 'O'],\n",
       "    ['C', 'OXT'],\n",
       "    ['CB', 'CG1'],\n",
       "    ['CB', 'CG2'],\n",
       "    ['CB', 'HB'],\n",
       "    ['CG1', '1HG1'],\n",
       "    ['CG1', '2HG1'],\n",
       "    ['CG1', '3HG1'],\n",
       "    ['CG2', '1HG2'],\n",
       "    ['CG2', '2HG2'],\n",
       "    ['CG2', '3HG2'],\n",
       "    ['OXT', 'HXT']]},\n",
       "  {'atoms': ['N',\n",
       "    'H',\n",
       "    'CA',\n",
       "    'HA',\n",
       "    'CB',\n",
       "    'HB',\n",
       "    'CG1',\n",
       "    'HG11',\n",
       "    'HG12',\n",
       "    'HG13',\n",
       "    'CG2',\n",
       "    'HG21',\n",
       "    'HG22',\n",
       "    'HG23',\n",
       "    'C',\n",
       "    'O'],\n",
       "   'bonds': [['N', 'H'],\n",
       "    ['N', 'CA'],\n",
       "    ['CA', 'HA'],\n",
       "    ['CA', 'CB'],\n",
       "    ['CA', 'C'],\n",
       "    ['CB', 'HB'],\n",
       "    ['CB', 'CG1'],\n",
       "    ['CB', 'CG2'],\n",
       "    ['CG1', 'HG11'],\n",
       "    ['CG1', 'HG12'],\n",
       "    ['CG1', 'HG13'],\n",
       "    ['CG2', 'HG21'],\n",
       "    ['CG2', 'HG22'],\n",
       "    ['CG2', 'HG23'],\n",
       "    ['C', 'O']]},\n",
       "  {'atoms': ['N',\n",
       "    'HN',\n",
       "    'CA',\n",
       "    'HA',\n",
       "    'CB',\n",
       "    'HB',\n",
       "    'CG1',\n",
       "    'HG11',\n",
       "    'HG12',\n",
       "    'HG13',\n",
       "    'CG2',\n",
       "    'HG21',\n",
       "    'HG22',\n",
       "    'HG23',\n",
       "    'C',\n",
       "    'O'],\n",
       "   'bonds': [['CB', 'CA'],\n",
       "    ['CG1', 'CB'],\n",
       "    ['CG2', 'CB'],\n",
       "    ['N', 'HN'],\n",
       "    ['N', 'CA'],\n",
       "    ['C', 'CA'],\n",
       "    ['CA', 'HA'],\n",
       "    ['CB', 'HB'],\n",
       "    ['CG1', 'HG11'],\n",
       "    ['CG1', 'HG12'],\n",
       "    ['CG1', 'HG13'],\n",
       "    ['CG2', 'HG21'],\n",
       "    ['CG2', 'HG22'],\n",
       "    ['CG2', 'HG23'],\n",
       "    ['O', 'C']]}]}"
      ]
     },
     "execution_count": 4,
     "metadata": {},
     "output_type": "execute_result"
    }
   ],
   "source": [
    "db_entry"
   ]
  },
  {
   "cell_type": "code",
   "execution_count": 5,
   "id": "25754eac-cc88-4e84-b502-de6b3eb4b421",
   "metadata": {
    "execution": {
     "iopub.execute_input": "2025-03-11T21:08:03.871485Z",
     "iopub.status.busy": "2025-03-11T21:08:03.871105Z",
     "iopub.status.idle": "2025-03-11T21:08:03.941206Z",
     "shell.execute_reply": "2025-03-11T21:08:03.940233Z"
    }
   },
   "outputs": [],
   "source": [
    "db_entry = msm.element.group.amino_acid.get_group_db('HIS')"
   ]
  },
  {
   "cell_type": "code",
   "execution_count": 6,
   "id": "85b20c06-85aa-44bb-b010-2766fa5940dd",
   "metadata": {
    "execution": {
     "iopub.execute_input": "2025-03-11T21:08:03.944762Z",
     "iopub.status.busy": "2025-03-11T21:08:03.944093Z",
     "iopub.status.idle": "2025-03-11T21:08:04.018055Z",
     "shell.execute_reply": "2025-03-11T21:08:04.017169Z"
    }
   },
   "outputs": [
    {
     "data": {
      "text/plain": [
       "{'name': 'HISTIDINE',\n",
       " 'topology': [{'atoms': ['N',\n",
       "    'CA',\n",
       "    'C',\n",
       "    'O',\n",
       "    'CB',\n",
       "    'CG',\n",
       "    'ND1',\n",
       "    'CD2',\n",
       "    'CE1',\n",
       "    'NE2',\n",
       "    'OXT',\n",
       "    'H',\n",
       "    'H2',\n",
       "    'HA',\n",
       "    'HB2',\n",
       "    'HB3',\n",
       "    'HD1',\n",
       "    'HD2',\n",
       "    'HE1',\n",
       "    'HE2',\n",
       "    'HXT'],\n",
       "   'bonds': [['N', 'CA'],\n",
       "    ['N', 'H'],\n",
       "    ['N', 'H2'],\n",
       "    ['CA', 'C'],\n",
       "    ['CA', 'CB'],\n",
       "    ['CA', 'HA'],\n",
       "    ['C', 'O'],\n",
       "    ['C', 'OXT'],\n",
       "    ['CB', 'CG'],\n",
       "    ['CB', 'HB2'],\n",
       "    ['CB', 'HB3'],\n",
       "    ['CG', 'ND1'],\n",
       "    ['CG', 'CD2'],\n",
       "    ['ND1', 'CE1'],\n",
       "    ['ND1', 'HD1'],\n",
       "    ['CD2', 'NE2'],\n",
       "    ['CD2', 'HD2'],\n",
       "    ['CE1', 'NE2'],\n",
       "    ['CE1', 'HE1'],\n",
       "    ['NE2', 'HE2'],\n",
       "    ['OXT', 'HXT']]},\n",
       "  {'atoms': ['N',\n",
       "    'CA',\n",
       "    'C',\n",
       "    'O',\n",
       "    'CB',\n",
       "    'CG',\n",
       "    'ND1',\n",
       "    'CD2',\n",
       "    'CE1',\n",
       "    'NE2',\n",
       "    'OXT',\n",
       "    'H',\n",
       "    'HN2',\n",
       "    'HA',\n",
       "    '1HB',\n",
       "    '2HB',\n",
       "    'HD1',\n",
       "    'HD2',\n",
       "    'HE1',\n",
       "    'HE2',\n",
       "    'HXT'],\n",
       "   'bonds': [['N', 'CA'],\n",
       "    ['N', 'H'],\n",
       "    ['N', 'HN2'],\n",
       "    ['CA', 'C'],\n",
       "    ['CA', 'CB'],\n",
       "    ['CA', 'HA'],\n",
       "    ['C', 'O'],\n",
       "    ['C', 'OXT'],\n",
       "    ['CB', 'CG'],\n",
       "    ['CB', '1HB'],\n",
       "    ['CB', '2HB'],\n",
       "    ['CG', 'ND1'],\n",
       "    ['CG', 'CD2'],\n",
       "    ['ND1', 'CE1'],\n",
       "    ['ND1', 'HD1'],\n",
       "    ['CD2', 'NE2'],\n",
       "    ['CD2', 'HD2'],\n",
       "    ['CE1', 'NE2'],\n",
       "    ['CE1', 'HE1'],\n",
       "    ['NE2', 'HE2'],\n",
       "    ['OXT', 'HXT']]}]}"
      ]
     },
     "execution_count": 6,
     "metadata": {},
     "output_type": "execute_result"
    }
   ],
   "source": [
    "db_entry"
   ]
  },
  {
   "cell_type": "code",
   "execution_count": null,
   "id": "332b5823-eb49-4e95-9cf1-d3f0a8c2b7d4",
   "metadata": {},
   "outputs": [],
   "source": []
  }
 ],
 "metadata": {
  "kernelspec": {
   "display_name": "Python 3 (ipykernel)",
   "language": "python",
   "name": "python3"
  },
  "language_info": {
   "codemirror_mode": {
    "name": "ipython",
    "version": 3
   },
   "file_extension": ".py",
   "mimetype": "text/x-python",
   "name": "python",
   "nbconvert_exporter": "python",
   "pygments_lexer": "ipython3",
   "version": "3.12.8"
  },
  "widgets": {
   "application/vnd.jupyter.widget-state+json": {
    "state": {
     "c7ea24ab3a9e49399d834345dc8784db": {
      "model_module": "nglview-js-widgets",
      "model_module_version": "3.1.4",
      "model_name": "ColormakerRegistryModel",
      "state": {
       "_dom_classes": [],
       "_model_module": "nglview-js-widgets",
       "_model_module_version": "3.1.4",
       "_model_name": "ColormakerRegistryModel",
       "_msg_ar": [],
       "_msg_q": [],
       "_ready": false,
       "_view_count": null,
       "_view_module": "nglview-js-widgets",
       "_view_module_version": "3.1.4",
       "_view_name": "ColormakerRegistryView",
       "layout": "IPY_MODEL_f6288c89cbb04a7b9db50cb28333a555",
       "tabbable": null,
       "tooltip": null
      }
     },
     "f6288c89cbb04a7b9db50cb28333a555": {
      "model_module": "@jupyter-widgets/base",
      "model_module_version": "2.0.0",
      "model_name": "LayoutModel",
      "state": {
       "_model_module": "@jupyter-widgets/base",
       "_model_module_version": "2.0.0",
       "_model_name": "LayoutModel",
       "_view_count": null,
       "_view_module": "@jupyter-widgets/base",
       "_view_module_version": "2.0.0",
       "_view_name": "LayoutView",
       "align_content": null,
       "align_items": null,
       "align_self": null,
       "border_bottom": null,
       "border_left": null,
       "border_right": null,
       "border_top": null,
       "bottom": null,
       "display": null,
       "flex": null,
       "flex_flow": null,
       "grid_area": null,
       "grid_auto_columns": null,
       "grid_auto_flow": null,
       "grid_auto_rows": null,
       "grid_column": null,
       "grid_gap": null,
       "grid_row": null,
       "grid_template_areas": null,
       "grid_template_columns": null,
       "grid_template_rows": null,
       "height": null,
       "justify_content": null,
       "justify_items": null,
       "left": null,
       "margin": null,
       "max_height": null,
       "max_width": null,
       "min_height": null,
       "min_width": null,
       "object_fit": null,
       "object_position": null,
       "order": null,
       "overflow": null,
       "padding": null,
       "right": null,
       "top": null,
       "visibility": null,
       "width": null
      }
     }
    },
    "version_major": 2,
    "version_minor": 0
   }
  }
 },
 "nbformat": 4,
 "nbformat_minor": 5
}
