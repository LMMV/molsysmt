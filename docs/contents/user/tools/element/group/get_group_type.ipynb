{
 "cells": [
  {
   "cell_type": "code",
   "execution_count": 1,
   "id": "c55e0a44-c9d9-4229-9a9b-96ecd1ed9b8d",
   "metadata": {
    "execution": {
     "iopub.execute_input": "2025-03-11T21:08:03.710955Z",
     "iopub.status.busy": "2025-03-11T21:08:03.710161Z",
     "iopub.status.idle": "2025-03-11T21:08:03.747958Z",
     "shell.execute_reply": "2025-03-11T21:08:03.746990Z"
    }
   },
   "outputs": [],
   "source": [
    "%load_ext autoreload\n",
    "%autoreload 2"
   ]
  },
  {
   "cell_type": "code",
   "execution_count": 2,
   "id": "cc4d7152-a00a-4654-be50-b421e01f584d",
   "metadata": {
    "execution": {
     "iopub.execute_input": "2025-03-11T21:08:03.751602Z",
     "iopub.status.busy": "2025-03-11T21:08:03.750921Z",
     "iopub.status.idle": "2025-03-11T21:08:13.129827Z",
     "shell.execute_reply": "2025-03-11T21:08:13.129102Z"
    }
   },
   "outputs": [
    {
     "data": {
      "application/vnd.jupyter.widget-view+json": {
       "model_id": "884a4c6f90024d60a1282f920ba5d98f",
       "version_major": 2,
       "version_minor": 0
      },
      "text/plain": []
     },
     "metadata": {},
     "output_type": "display_data"
    }
   ],
   "source": [
    "import molsysmt as msm"
   ]
  },
  {
   "cell_type": "markdown",
   "id": "e203abd4-cf31-4dc5-afa7-b3d980bd30a9",
   "metadata": {},
   "source": [
    "# Get group type\n",
    "\n",
    "In construction."
   ]
  },
  {
   "cell_type": "code",
   "execution_count": 3,
   "id": "f5ae9d14-a25f-40cd-b895-44aade003898",
   "metadata": {
    "execution": {
     "iopub.execute_input": "2025-03-11T21:08:13.134197Z",
     "iopub.status.busy": "2025-03-11T21:08:13.133214Z",
     "iopub.status.idle": "2025-03-11T21:08:14.189187Z",
     "shell.execute_reply": "2025-03-11T21:08:14.188192Z"
    }
   },
   "outputs": [],
   "source": [
    "molsys = msm.convert(msm.systems['chicken villin HP35']['chicken_villin_HP35_solvated.h5msm'])"
   ]
  },
  {
   "cell_type": "code",
   "execution_count": 4,
   "id": "6de8ddad-1b3d-447a-974d-eed4b4154169",
   "metadata": {
    "execution": {
     "iopub.execute_input": "2025-03-11T21:08:14.193791Z",
     "iopub.status.busy": "2025-03-11T21:08:14.192767Z",
     "iopub.status.idle": "2025-03-11T21:08:14.695520Z",
     "shell.execute_reply": "2025-03-11T21:08:14.694540Z"
    }
   },
   "outputs": [],
   "source": [
    "types = msm.element.group.get_group_type(molsys, element='group', selection='all')"
   ]
  },
  {
   "cell_type": "code",
   "execution_count": 5,
   "id": "877cd452-492f-4bf9-9ef5-d2ded6dcf3dd",
   "metadata": {
    "execution": {
     "iopub.execute_input": "2025-03-11T21:08:14.699777Z",
     "iopub.status.busy": "2025-03-11T21:08:14.699159Z",
     "iopub.status.idle": "2025-03-11T21:08:15.155905Z",
     "shell.execute_reply": "2025-03-11T21:08:15.155030Z"
    }
   },
   "outputs": [],
   "source": [
    "types2 = msm.element.group.get_group_type(molsys, element='group', selection='all', redefine_types=True)"
   ]
  }
 ],
 "metadata": {
  "kernelspec": {
   "display_name": "Python 3 (ipykernel)",
   "language": "python",
   "name": "python3"
  },
  "language_info": {
   "codemirror_mode": {
    "name": "ipython",
    "version": 3
   },
   "file_extension": ".py",
   "mimetype": "text/x-python",
   "name": "python",
   "nbconvert_exporter": "python",
   "pygments_lexer": "ipython3",
   "version": "3.12.8"
  },
  "widgets": {
   "application/vnd.jupyter.widget-state+json": {
    "state": {
     "3bde896ee8d7422baaec5efa3b9488f7": {
      "model_module": "@jupyter-widgets/base",
      "model_module_version": "2.0.0",
      "model_name": "LayoutModel",
      "state": {
       "_model_module": "@jupyter-widgets/base",
       "_model_module_version": "2.0.0",
       "_model_name": "LayoutModel",
       "_view_count": null,
       "_view_module": "@jupyter-widgets/base",
       "_view_module_version": "2.0.0",
       "_view_name": "LayoutView",
       "align_content": null,
       "align_items": null,
       "align_self": null,
       "border_bottom": null,
       "border_left": null,
       "border_right": null,
       "border_top": null,
       "bottom": null,
       "display": null,
       "flex": null,
       "flex_flow": null,
       "grid_area": null,
       "grid_auto_columns": null,
       "grid_auto_flow": null,
       "grid_auto_rows": null,
       "grid_column": null,
       "grid_gap": null,
       "grid_row": null,
       "grid_template_areas": null,
       "grid_template_columns": null,
       "grid_template_rows": null,
       "height": null,
       "justify_content": null,
       "justify_items": null,
       "left": null,
       "margin": null,
       "max_height": null,
       "max_width": null,
       "min_height": null,
       "min_width": null,
       "object_fit": null,
       "object_position": null,
       "order": null,
       "overflow": null,
       "padding": null,
       "right": null,
       "top": null,
       "visibility": null,
       "width": null
      }
     },
     "884a4c6f90024d60a1282f920ba5d98f": {
      "model_module": "nglview-js-widgets",
      "model_module_version": "3.1.4",
      "model_name": "ColormakerRegistryModel",
      "state": {
       "_dom_classes": [],
       "_model_module": "nglview-js-widgets",
       "_model_module_version": "3.1.4",
       "_model_name": "ColormakerRegistryModel",
       "_msg_ar": [],
       "_msg_q": [],
       "_ready": false,
       "_view_count": null,
       "_view_module": "nglview-js-widgets",
       "_view_module_version": "3.1.4",
       "_view_name": "ColormakerRegistryView",
       "layout": "IPY_MODEL_3bde896ee8d7422baaec5efa3b9488f7",
       "tabbable": null,
       "tooltip": null
      }
     }
    },
    "version_major": 2,
    "version_minor": 0
   }
  }
 },
 "nbformat": 4,
 "nbformat_minor": 5
}
