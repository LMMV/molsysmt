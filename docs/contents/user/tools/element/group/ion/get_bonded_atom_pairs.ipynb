{
 "cells": [
  {
   "cell_type": "code",
   "execution_count": 1,
   "id": "d7c08bc5-fd41-4f3c-8879-0bd4adacd556",
   "metadata": {
    "execution": {
     "iopub.execute_input": "2025-03-11T21:07:49.080012Z",
     "iopub.status.busy": "2025-03-11T21:07:49.079236Z",
     "iopub.status.idle": "2025-03-11T21:07:49.117283Z",
     "shell.execute_reply": "2025-03-11T21:07:49.116439Z"
    }
   },
   "outputs": [],
   "source": [
    "%load_ext autoreload\n",
    "%autoreload 2"
   ]
  },
  {
   "cell_type": "code",
   "execution_count": 2,
   "id": "607973f4-2241-40e3-86da-f704f16fd143",
   "metadata": {
    "execution": {
     "iopub.execute_input": "2025-03-11T21:07:49.121969Z",
     "iopub.status.busy": "2025-03-11T21:07:49.120577Z",
     "iopub.status.idle": "2025-03-11T21:07:56.722567Z",
     "shell.execute_reply": "2025-03-11T21:07:56.721227Z"
    }
   },
   "outputs": [
    {
     "data": {
      "application/vnd.jupyter.widget-view+json": {
       "model_id": "4d693a63a9a147a0a0b6454fbe0141a2",
       "version_major": 2,
       "version_minor": 0
      },
      "text/plain": []
     },
     "metadata": {},
     "output_type": "display_data"
    }
   ],
   "source": [
    "import molsysmt as msm"
   ]
  },
  {
   "cell_type": "markdown",
   "id": "82900f87-29f1-406f-bb90-c4fce9ed9fc4",
   "metadata": {},
   "source": [
    "# Get bonded atom pairs\n",
    "\n",
    "In construction."
   ]
  },
  {
   "cell_type": "code",
   "execution_count": 3,
   "id": "25754eac-cc88-4e84-b502-de6b3eb4b421",
   "metadata": {
    "execution": {
     "iopub.execute_input": "2025-03-11T21:07:56.725634Z",
     "iopub.status.busy": "2025-03-11T21:07:56.725024Z",
     "iopub.status.idle": "2025-03-11T21:07:56.774587Z",
     "shell.execute_reply": "2025-03-11T21:07:56.773689Z"
    }
   },
   "outputs": [
    {
     "data": {
      "text/plain": [
       "[[0, 1], [0, 2], [0, 3], [0, 4]]"
      ]
     },
     "execution_count": 3,
     "metadata": {},
     "output_type": "execute_result"
    }
   ],
   "source": [
    "msm.element.group.ion.get_bonded_atom_pairs('NH4', ['N', 'HN1', 'HN2', 'HN3', 'HN4'])"
   ]
  },
  {
   "cell_type": "code",
   "execution_count": 4,
   "id": "eca93417-4d2a-49b0-bb6b-8c59788099e7",
   "metadata": {
    "execution": {
     "iopub.execute_input": "2025-03-11T21:07:56.777979Z",
     "iopub.status.busy": "2025-03-11T21:07:56.776956Z",
     "iopub.status.idle": "2025-03-11T21:07:56.827415Z",
     "shell.execute_reply": "2025-03-11T21:07:56.826659Z"
    }
   },
   "outputs": [
    {
     "data": {
      "text/plain": [
       "[[10, 11], [10, 12], [10, 13], [10, 14]]"
      ]
     },
     "execution_count": 4,
     "metadata": {},
     "output_type": "execute_result"
    }
   ],
   "source": [
    "msm.element.group.ion.get_bonded_atom_pairs('NH4', ['N', 'HN1', 'HN2', 'HN3', 'HN4'],\n",
    "                                            atom_indices=[10,11,12,13,14])"
   ]
  },
  {
   "cell_type": "code",
   "execution_count": 5,
   "id": "a3d5ed12-0081-4c28-8078-5ce59947a1a8",
   "metadata": {
    "execution": {
     "iopub.execute_input": "2025-03-11T21:07:56.830689Z",
     "iopub.status.busy": "2025-03-11T21:07:56.830273Z",
     "iopub.status.idle": "2025-03-11T21:07:56.902112Z",
     "shell.execute_reply": "2025-03-11T21:07:56.901021Z"
    }
   },
   "outputs": [
    {
     "data": {
      "text/plain": [
       "[]"
      ]
     },
     "execution_count": 5,
     "metadata": {},
     "output_type": "execute_result"
    }
   ],
   "source": [
    "msm.element.group.ion.get_bonded_atom_pairs('K', ['K'])"
   ]
  }
 ],
 "metadata": {
  "kernelspec": {
   "display_name": "Python 3 (ipykernel)",
   "language": "python",
   "name": "python3"
  },
  "language_info": {
   "codemirror_mode": {
    "name": "ipython",
    "version": 3
   },
   "file_extension": ".py",
   "mimetype": "text/x-python",
   "name": "python",
   "nbconvert_exporter": "python",
   "pygments_lexer": "ipython3",
   "version": "3.12.8"
  },
  "widgets": {
   "application/vnd.jupyter.widget-state+json": {
    "state": {
     "2bc6ad1d395943afb9f7d6defc10fa15": {
      "model_module": "@jupyter-widgets/base",
      "model_module_version": "2.0.0",
      "model_name": "LayoutModel",
      "state": {
       "_model_module": "@jupyter-widgets/base",
       "_model_module_version": "2.0.0",
       "_model_name": "LayoutModel",
       "_view_count": null,
       "_view_module": "@jupyter-widgets/base",
       "_view_module_version": "2.0.0",
       "_view_name": "LayoutView",
       "align_content": null,
       "align_items": null,
       "align_self": null,
       "border_bottom": null,
       "border_left": null,
       "border_right": null,
       "border_top": null,
       "bottom": null,
       "display": null,
       "flex": null,
       "flex_flow": null,
       "grid_area": null,
       "grid_auto_columns": null,
       "grid_auto_flow": null,
       "grid_auto_rows": null,
       "grid_column": null,
       "grid_gap": null,
       "grid_row": null,
       "grid_template_areas": null,
       "grid_template_columns": null,
       "grid_template_rows": null,
       "height": null,
       "justify_content": null,
       "justify_items": null,
       "left": null,
       "margin": null,
       "max_height": null,
       "max_width": null,
       "min_height": null,
       "min_width": null,
       "object_fit": null,
       "object_position": null,
       "order": null,
       "overflow": null,
       "padding": null,
       "right": null,
       "top": null,
       "visibility": null,
       "width": null
      }
     },
     "4d693a63a9a147a0a0b6454fbe0141a2": {
      "model_module": "nglview-js-widgets",
      "model_module_version": "3.1.4",
      "model_name": "ColormakerRegistryModel",
      "state": {
       "_dom_classes": [],
       "_model_module": "nglview-js-widgets",
       "_model_module_version": "3.1.4",
       "_model_name": "ColormakerRegistryModel",
       "_msg_ar": [],
       "_msg_q": [],
       "_ready": false,
       "_view_count": null,
       "_view_module": "nglview-js-widgets",
       "_view_module_version": "3.1.4",
       "_view_name": "ColormakerRegistryView",
       "layout": "IPY_MODEL_2bc6ad1d395943afb9f7d6defc10fa15",
       "tabbable": null,
       "tooltip": null
      }
     }
    },
    "version_major": 2,
    "version_minor": 0
   }
  }
 },
 "nbformat": 4,
 "nbformat_minor": 5
}
