{
 "cells": [
  {
   "cell_type": "code",
   "execution_count": 1,
   "id": "d7c08bc5-fd41-4f3c-8879-0bd4adacd556",
   "metadata": {
    "execution": {
     "iopub.execute_input": "2025-03-11T21:07:47.451939Z",
     "iopub.status.busy": "2025-03-11T21:07:47.451561Z",
     "iopub.status.idle": "2025-03-11T21:07:47.495541Z",
     "shell.execute_reply": "2025-03-11T21:07:47.494575Z"
    }
   },
   "outputs": [],
   "source": [
    "%load_ext autoreload\n",
    "%autoreload 2"
   ]
  },
  {
   "cell_type": "code",
   "execution_count": 2,
   "id": "607973f4-2241-40e3-86da-f704f16fd143",
   "metadata": {
    "execution": {
     "iopub.execute_input": "2025-03-11T21:07:47.499467Z",
     "iopub.status.busy": "2025-03-11T21:07:47.498804Z",
     "iopub.status.idle": "2025-03-11T21:07:56.865392Z",
     "shell.execute_reply": "2025-03-11T21:07:56.864349Z"
    }
   },
   "outputs": [
    {
     "data": {
      "application/vnd.jupyter.widget-view+json": {
       "model_id": "b7c1e8a2852e46abad1ad883e3d22008",
       "version_major": 2,
       "version_minor": 0
      },
      "text/plain": []
     },
     "metadata": {},
     "output_type": "display_data"
    }
   ],
   "source": [
    "import molsysmt as msm"
   ]
  },
  {
   "cell_type": "markdown",
   "id": "82900f87-29f1-406f-bb90-c4fce9ed9fc4",
   "metadata": {},
   "source": [
    "# Is ion\n",
    "\n",
    "In construction."
   ]
  },
  {
   "cell_type": "code",
   "execution_count": 3,
   "id": "f9e84e7d-787e-4198-bb22-a43587048c6e",
   "metadata": {
    "execution": {
     "iopub.execute_input": "2025-03-11T21:07:56.870330Z",
     "iopub.status.busy": "2025-03-11T21:07:56.869420Z",
     "iopub.status.idle": "2025-03-11T21:07:56.948547Z",
     "shell.execute_reply": "2025-03-11T21:07:56.947319Z"
    }
   },
   "outputs": [
    {
     "data": {
      "text/plain": [
       "True"
      ]
     },
     "execution_count": 3,
     "metadata": {},
     "output_type": "execute_result"
    }
   ],
   "source": [
    "msm.element.group.ion.is_ion('K')"
   ]
  },
  {
   "cell_type": "code",
   "execution_count": 4,
   "id": "c71194f1-f77a-4a4c-b205-e9ad6669d952",
   "metadata": {
    "execution": {
     "iopub.execute_input": "2025-03-11T21:07:56.952199Z",
     "iopub.status.busy": "2025-03-11T21:07:56.951685Z",
     "iopub.status.idle": "2025-03-11T21:07:57.027592Z",
     "shell.execute_reply": "2025-03-11T21:07:57.026645Z"
    }
   },
   "outputs": [
    {
     "data": {
      "text/plain": [
       "['118',\n",
       " '119',\n",
       " '1AL',\n",
       " '2FK',\n",
       " '2HP',\n",
       " '3CO',\n",
       " '3MT',\n",
       " '3NI',\n",
       " '3P8',\n",
       " '4MO',\n",
       " '4PU',\n",
       " '4TI',\n",
       " '6MO',\n",
       " 'ACT',\n",
       " 'AG',\n",
       " 'AL',\n",
       " 'ALF',\n",
       " 'AM',\n",
       " 'ATH',\n",
       " 'AU',\n",
       " 'AU3',\n",
       " 'AUC',\n",
       " 'AZI',\n",
       " 'BA',\n",
       " 'BCT',\n",
       " 'BEF',\n",
       " 'BF4',\n",
       " 'BO4',\n",
       " 'BR',\n",
       " 'BS3',\n",
       " 'CA',\n",
       " 'CAC',\n",
       " 'CD',\n",
       " 'CE',\n",
       " 'CF',\n",
       " 'CHT',\n",
       " 'CL',\n",
       " 'CO',\n",
       " 'CO3',\n",
       " 'CON',\n",
       " 'CR',\n",
       " 'CS',\n",
       " 'CU',\n",
       " 'CU1',\n",
       " 'CUA',\n",
       " 'CUZ',\n",
       " 'CYN',\n",
       " 'DME',\n",
       " 'DMI',\n",
       " 'DSC',\n",
       " 'DTI',\n",
       " 'DY',\n",
       " 'E4N',\n",
       " 'EDR',\n",
       " 'EMC',\n",
       " 'ER3',\n",
       " 'EU',\n",
       " 'EU3',\n",
       " 'F',\n",
       " 'FE',\n",
       " 'FE2',\n",
       " 'FPO',\n",
       " 'GA',\n",
       " 'GD3',\n",
       " 'GEP',\n",
       " 'HAI',\n",
       " 'HG',\n",
       " 'HGC',\n",
       " 'IN',\n",
       " 'IOD',\n",
       " 'IR',\n",
       " 'IR3',\n",
       " 'IRI',\n",
       " 'IUM',\n",
       " 'K',\n",
       " 'LA',\n",
       " 'LCO',\n",
       " 'LCP',\n",
       " 'LI',\n",
       " 'LU',\n",
       " 'MAC',\n",
       " 'MG',\n",
       " 'MLI',\n",
       " 'MMC',\n",
       " 'MN',\n",
       " 'MN3',\n",
       " 'MOO',\n",
       " 'MOS',\n",
       " 'MOW',\n",
       " 'MW2',\n",
       " 'NA',\n",
       " 'NET',\n",
       " 'NH4',\n",
       " 'NI',\n",
       " 'NO2',\n",
       " 'NO3',\n",
       " 'NRU',\n",
       " 'O4M',\n",
       " 'OAA',\n",
       " 'OH',\n",
       " 'OS',\n",
       " 'OS4',\n",
       " 'OXL',\n",
       " 'PB',\n",
       " 'PBM',\n",
       " 'PD',\n",
       " 'PDV',\n",
       " 'PER',\n",
       " 'PI',\n",
       " 'PO3',\n",
       " 'PO4',\n",
       " 'PR',\n",
       " 'PT',\n",
       " 'PT4',\n",
       " 'PTN',\n",
       " 'RB',\n",
       " 'RH3',\n",
       " 'RHD',\n",
       " 'RHF',\n",
       " 'RU',\n",
       " 'SB',\n",
       " 'SCN',\n",
       " 'SE4',\n",
       " 'SEK',\n",
       " 'SM',\n",
       " 'SMO',\n",
       " 'SO3',\n",
       " 'SO4',\n",
       " 'SR',\n",
       " 'T1A',\n",
       " 'TB',\n",
       " 'TBA',\n",
       " 'TCN',\n",
       " 'TEA',\n",
       " 'TH',\n",
       " 'THE',\n",
       " 'TL',\n",
       " 'TMA',\n",
       " 'TRA',\n",
       " 'UNX',\n",
       " 'V',\n",
       " 'VN3',\n",
       " 'VO4',\n",
       " 'W',\n",
       " 'WO5',\n",
       " 'Y1',\n",
       " 'YB',\n",
       " 'YB2',\n",
       " 'YT3',\n",
       " 'ZCM',\n",
       " 'ZN',\n",
       " 'ZR',\n",
       " 'BSY',\n",
       " 'CU3',\n",
       " 'NT3',\n",
       " 'BE',\n",
       " 'CA+2',\n",
       " 'CAL',\n",
       " 'CL-',\n",
       " 'I',\n",
       " 'IB+',\n",
       " 'K+',\n",
       " 'MN5',\n",
       " 'MN6',\n",
       " 'NA+',\n",
       " 'NA+2',\n",
       " 'NA2',\n",
       " 'NA5',\n",
       " 'NA6',\n",
       " 'NI1',\n",
       " 'NI2',\n",
       " 'NI3',\n",
       " 'V2+',\n",
       " 'ZN2',\n",
       " 'ZN3']"
      ]
     },
     "execution_count": 4,
     "metadata": {},
     "output_type": "execute_result"
    }
   ],
   "source": [
    "msm.element.group.ion.group_names"
   ]
  },
  {
   "cell_type": "code",
   "execution_count": null,
   "id": "25754eac-cc88-4e84-b502-de6b3eb4b421",
   "metadata": {},
   "outputs": [],
   "source": []
  }
 ],
 "metadata": {
  "kernelspec": {
   "display_name": "Python 3 (ipykernel)",
   "language": "python",
   "name": "python3"
  },
  "language_info": {
   "codemirror_mode": {
    "name": "ipython",
    "version": 3
   },
   "file_extension": ".py",
   "mimetype": "text/x-python",
   "name": "python",
   "nbconvert_exporter": "python",
   "pygments_lexer": "ipython3",
   "version": "3.12.8"
  },
  "widgets": {
   "application/vnd.jupyter.widget-state+json": {
    "state": {
     "27540f883e31482cbb83ea70000f2150": {
      "model_module": "@jupyter-widgets/base",
      "model_module_version": "2.0.0",
      "model_name": "LayoutModel",
      "state": {
       "_model_module": "@jupyter-widgets/base",
       "_model_module_version": "2.0.0",
       "_model_name": "LayoutModel",
       "_view_count": null,
       "_view_module": "@jupyter-widgets/base",
       "_view_module_version": "2.0.0",
       "_view_name": "LayoutView",
       "align_content": null,
       "align_items": null,
       "align_self": null,
       "border_bottom": null,
       "border_left": null,
       "border_right": null,
       "border_top": null,
       "bottom": null,
       "display": null,
       "flex": null,
       "flex_flow": null,
       "grid_area": null,
       "grid_auto_columns": null,
       "grid_auto_flow": null,
       "grid_auto_rows": null,
       "grid_column": null,
       "grid_gap": null,
       "grid_row": null,
       "grid_template_areas": null,
       "grid_template_columns": null,
       "grid_template_rows": null,
       "height": null,
       "justify_content": null,
       "justify_items": null,
       "left": null,
       "margin": null,
       "max_height": null,
       "max_width": null,
       "min_height": null,
       "min_width": null,
       "object_fit": null,
       "object_position": null,
       "order": null,
       "overflow": null,
       "padding": null,
       "right": null,
       "top": null,
       "visibility": null,
       "width": null
      }
     },
     "b7c1e8a2852e46abad1ad883e3d22008": {
      "model_module": "nglview-js-widgets",
      "model_module_version": "3.1.4",
      "model_name": "ColormakerRegistryModel",
      "state": {
       "_dom_classes": [],
       "_model_module": "nglview-js-widgets",
       "_model_module_version": "3.1.4",
       "_model_name": "ColormakerRegistryModel",
       "_msg_ar": [],
       "_msg_q": [],
       "_ready": false,
       "_view_count": null,
       "_view_module": "nglview-js-widgets",
       "_view_module_version": "3.1.4",
       "_view_name": "ColormakerRegistryView",
       "layout": "IPY_MODEL_27540f883e31482cbb83ea70000f2150",
       "tabbable": null,
       "tooltip": null
      }
     }
    },
    "version_major": 2,
    "version_minor": 0
   }
  }
 },
 "nbformat": 4,
 "nbformat_minor": 5
}
