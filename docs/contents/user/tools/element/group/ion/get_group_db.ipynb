{
 "cells": [
  {
   "cell_type": "code",
   "execution_count": 1,
   "id": "d7c08bc5-fd41-4f3c-8879-0bd4adacd556",
   "metadata": {
    "execution": {
     "iopub.execute_input": "2025-03-11T21:07:49.333234Z",
     "iopub.status.busy": "2025-03-11T21:07:49.332437Z",
     "iopub.status.idle": "2025-03-11T21:07:49.370267Z",
     "shell.execute_reply": "2025-03-11T21:07:49.369238Z"
    }
   },
   "outputs": [],
   "source": [
    "%load_ext autoreload\n",
    "%autoreload 2"
   ]
  },
  {
   "cell_type": "code",
   "execution_count": 2,
   "id": "607973f4-2241-40e3-86da-f704f16fd143",
   "metadata": {
    "execution": {
     "iopub.execute_input": "2025-03-11T21:07:49.374215Z",
     "iopub.status.busy": "2025-03-11T21:07:49.373734Z",
     "iopub.status.idle": "2025-03-11T21:07:59.256257Z",
     "shell.execute_reply": "2025-03-11T21:07:59.255147Z"
    }
   },
   "outputs": [
    {
     "data": {
      "application/vnd.jupyter.widget-view+json": {
       "model_id": "6162889357234c4cb96148f69f90e694",
       "version_major": 2,
       "version_minor": 0
      },
      "text/plain": []
     },
     "metadata": {},
     "output_type": "display_data"
    }
   ],
   "source": [
    "import molsysmt as msm"
   ]
  },
  {
   "cell_type": "markdown",
   "id": "82900f87-29f1-406f-bb90-c4fce9ed9fc4",
   "metadata": {},
   "source": [
    "# Get group DB\n",
    "\n",
    "In construction."
   ]
  },
  {
   "cell_type": "code",
   "execution_count": 3,
   "id": "f9e84e7d-787e-4198-bb22-a43587048c6e",
   "metadata": {
    "execution": {
     "iopub.execute_input": "2025-03-11T21:07:59.260316Z",
     "iopub.status.busy": "2025-03-11T21:07:59.259354Z",
     "iopub.status.idle": "2025-03-11T21:07:59.347898Z",
     "shell.execute_reply": "2025-03-11T21:07:59.347110Z"
    }
   },
   "outputs": [],
   "source": [
    "db_entry = msm.element.group.ion.get_group_db('NA')"
   ]
  },
  {
   "cell_type": "code",
   "execution_count": 4,
   "id": "c71194f1-f77a-4a4c-b205-e9ad6669d952",
   "metadata": {
    "execution": {
     "iopub.execute_input": "2025-03-11T21:07:59.356218Z",
     "iopub.status.busy": "2025-03-11T21:07:59.355719Z",
     "iopub.status.idle": "2025-03-11T21:07:59.428058Z",
     "shell.execute_reply": "2025-03-11T21:07:59.427093Z"
    }
   },
   "outputs": [
    {
     "data": {
      "text/plain": [
       "{'name': '\"SODIUM ION\"',\n",
       " 'three_letter_code': 'NA',\n",
       " 'atom_name': ['NA', 'NA'],\n",
       " 'bonds': []}"
      ]
     },
     "execution_count": 4,
     "metadata": {},
     "output_type": "execute_result"
    }
   ],
   "source": [
    "db_entry"
   ]
  },
  {
   "cell_type": "code",
   "execution_count": null,
   "id": "25754eac-cc88-4e84-b502-de6b3eb4b421",
   "metadata": {},
   "outputs": [],
   "source": []
  }
 ],
 "metadata": {
  "kernelspec": {
   "display_name": "Python 3 (ipykernel)",
   "language": "python",
   "name": "python3"
  },
  "language_info": {
   "codemirror_mode": {
    "name": "ipython",
    "version": 3
   },
   "file_extension": ".py",
   "mimetype": "text/x-python",
   "name": "python",
   "nbconvert_exporter": "python",
   "pygments_lexer": "ipython3",
   "version": "3.12.8"
  },
  "widgets": {
   "application/vnd.jupyter.widget-state+json": {
    "state": {
     "6162889357234c4cb96148f69f90e694": {
      "model_module": "nglview-js-widgets",
      "model_module_version": "3.1.4",
      "model_name": "ColormakerRegistryModel",
      "state": {
       "_dom_classes": [],
       "_model_module": "nglview-js-widgets",
       "_model_module_version": "3.1.4",
       "_model_name": "ColormakerRegistryModel",
       "_msg_ar": [],
       "_msg_q": [],
       "_ready": false,
       "_view_count": null,
       "_view_module": "nglview-js-widgets",
       "_view_module_version": "3.1.4",
       "_view_name": "ColormakerRegistryView",
       "layout": "IPY_MODEL_fe613a86ebb94154b6ce592c450df363",
       "tabbable": null,
       "tooltip": null
      }
     },
     "fe613a86ebb94154b6ce592c450df363": {
      "model_module": "@jupyter-widgets/base",
      "model_module_version": "2.0.0",
      "model_name": "LayoutModel",
      "state": {
       "_model_module": "@jupyter-widgets/base",
       "_model_module_version": "2.0.0",
       "_model_name": "LayoutModel",
       "_view_count": null,
       "_view_module": "@jupyter-widgets/base",
       "_view_module_version": "2.0.0",
       "_view_name": "LayoutView",
       "align_content": null,
       "align_items": null,
       "align_self": null,
       "border_bottom": null,
       "border_left": null,
       "border_right": null,
       "border_top": null,
       "bottom": null,
       "display": null,
       "flex": null,
       "flex_flow": null,
       "grid_area": null,
       "grid_auto_columns": null,
       "grid_auto_flow": null,
       "grid_auto_rows": null,
       "grid_column": null,
       "grid_gap": null,
       "grid_row": null,
       "grid_template_areas": null,
       "grid_template_columns": null,
       "grid_template_rows": null,
       "height": null,
       "justify_content": null,
       "justify_items": null,
       "left": null,
       "margin": null,
       "max_height": null,
       "max_width": null,
       "min_height": null,
       "min_width": null,
       "object_fit": null,
       "object_position": null,
       "order": null,
       "overflow": null,
       "padding": null,
       "right": null,
       "top": null,
       "visibility": null,
       "width": null
      }
     }
    },
    "version_major": 2,
    "version_minor": 0
   }
  }
 },
 "nbformat": 4,
 "nbformat_minor": 5
}
