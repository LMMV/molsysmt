{
 "cells": [
  {
   "cell_type": "code",
   "execution_count": 1,
   "id": "d7c08bc5-fd41-4f3c-8879-0bd4adacd556",
   "metadata": {
    "execution": {
     "iopub.execute_input": "2025-03-11T21:08:04.172668Z",
     "iopub.status.busy": "2025-03-11T21:08:04.172043Z",
     "iopub.status.idle": "2025-03-11T21:08:04.209075Z",
     "shell.execute_reply": "2025-03-11T21:08:04.208089Z"
    }
   },
   "outputs": [],
   "source": [
    "%load_ext autoreload\n",
    "%autoreload 2"
   ]
  },
  {
   "cell_type": "code",
   "execution_count": 2,
   "id": "607973f4-2241-40e3-86da-f704f16fd143",
   "metadata": {
    "execution": {
     "iopub.execute_input": "2025-03-11T21:08:04.212999Z",
     "iopub.status.busy": "2025-03-11T21:08:04.212374Z",
     "iopub.status.idle": "2025-03-11T21:08:12.623991Z",
     "shell.execute_reply": "2025-03-11T21:08:12.623104Z"
    }
   },
   "outputs": [
    {
     "data": {
      "application/vnd.jupyter.widget-view+json": {
       "model_id": "1a5430dc64f04fb49dd08af4e00b5027",
       "version_major": 2,
       "version_minor": 0
      },
      "text/plain": []
     },
     "metadata": {},
     "output_type": "display_data"
    }
   ],
   "source": [
    "import molsysmt as msm"
   ]
  },
  {
   "cell_type": "markdown",
   "id": "82900f87-29f1-406f-bb90-c4fce9ed9fc4",
   "metadata": {},
   "source": [
    "# Get bonded atom pairs\n",
    "\n",
    "In construction."
   ]
  },
  {
   "cell_type": "code",
   "execution_count": 3,
   "id": "25754eac-cc88-4e84-b502-de6b3eb4b421",
   "metadata": {
    "execution": {
     "iopub.execute_input": "2025-03-11T21:08:12.628896Z",
     "iopub.status.busy": "2025-03-11T21:08:12.627605Z",
     "iopub.status.idle": "2025-03-11T21:08:12.703757Z",
     "shell.execute_reply": "2025-03-11T21:08:12.702901Z"
    }
   },
   "outputs": [
    {
     "data": {
      "text/plain": [
       "[[0, 1], [0, 2], [0, 3], [0, 4]]"
      ]
     },
     "execution_count": 3,
     "metadata": {},
     "output_type": "execute_result"
    }
   ],
   "source": [
    "msm.element.group.get_bonded_atom_pairs('NH4', ['N', 'HN1', 'HN2', 'HN3', 'HN4'])"
   ]
  },
  {
   "cell_type": "code",
   "execution_count": 4,
   "id": "eca93417-4d2a-49b0-bb6b-8c59788099e7",
   "metadata": {
    "execution": {
     "iopub.execute_input": "2025-03-11T21:08:12.707243Z",
     "iopub.status.busy": "2025-03-11T21:08:12.706788Z",
     "iopub.status.idle": "2025-03-11T21:08:12.773970Z",
     "shell.execute_reply": "2025-03-11T21:08:12.773048Z"
    }
   },
   "outputs": [
    {
     "data": {
      "text/plain": [
       "[[10, 11], [10, 12], [10, 13], [10, 14]]"
      ]
     },
     "execution_count": 4,
     "metadata": {},
     "output_type": "execute_result"
    }
   ],
   "source": [
    "msm.element.group.get_bonded_atom_pairs('NH4', ['N', 'HN1', 'HN2', 'HN3', 'HN4'],\n",
    "                                        atom_indices=[10,11,12,13,14])"
   ]
  },
  {
   "cell_type": "code",
   "execution_count": 5,
   "id": "a3d5ed12-0081-4c28-8078-5ce59947a1a8",
   "metadata": {
    "execution": {
     "iopub.execute_input": "2025-03-11T21:08:12.777442Z",
     "iopub.status.busy": "2025-03-11T21:08:12.776887Z",
     "iopub.status.idle": "2025-03-11T21:08:12.822151Z",
     "shell.execute_reply": "2025-03-11T21:08:12.821314Z"
    }
   },
   "outputs": [
    {
     "data": {
      "text/plain": [
       "[[0, 1],\n",
       " [1, 2],\n",
       " [1, 4],\n",
       " [2, 3],\n",
       " [2, 10],\n",
       " [4, 5],\n",
       " [5, 6],\n",
       " [5, 7],\n",
       " [6, 8],\n",
       " [7, 9],\n",
       " [8, 9]]"
      ]
     },
     "execution_count": 5,
     "metadata": {},
     "output_type": "execute_result"
    }
   ],
   "source": [
    "atom_names = ['N','CA','C','O','CB','CG','ND1','CD2','CE1','NE2','OXT']\n",
    "msm.element.group.get_bonded_atom_pairs('HIS', atom_names)"
   ]
  },
  {
   "cell_type": "code",
   "execution_count": 6,
   "id": "d550ca32-1117-4b3e-813a-534c106fefe4",
   "metadata": {
    "execution": {
     "iopub.execute_input": "2025-03-11T21:08:12.825143Z",
     "iopub.status.busy": "2025-03-11T21:08:12.824565Z",
     "iopub.status.idle": "2025-03-11T21:08:12.870652Z",
     "shell.execute_reply": "2025-03-11T21:08:12.869950Z"
    }
   },
   "outputs": [
    {
     "data": {
      "text/plain": [
       "[[10, 11],\n",
       " [10, 18],\n",
       " [10, 19],\n",
       " [11, 12],\n",
       " [11, 14],\n",
       " [11, 20],\n",
       " [12, 13],\n",
       " [12, 17],\n",
       " [14, 15],\n",
       " [14, 16],\n",
       " [14, 21],\n",
       " [15, 22],\n",
       " [15, 23],\n",
       " [15, 24],\n",
       " [16, 25],\n",
       " [16, 26],\n",
       " [16, 27],\n",
       " [17, 28]]"
      ]
     },
     "execution_count": 6,
     "metadata": {},
     "output_type": "execute_result"
    }
   ],
   "source": [
    "atom_names = ['N','CA','C','O','CB','CG1','CG2','OXT','H','HN2','HA','HB',\n",
    "              '1HG1','2HG1','3HG1','1HG2','2HG2','3HG2','HXT']\n",
    "atom_indices = list(range(10, 10+len(atom_names)))\n",
    "msm.element.group.amino_acid.get_bonded_atom_pairs('VAL', atom_names, atom_indices=atom_indices)"
   ]
  }
 ],
 "metadata": {
  "kernelspec": {
   "display_name": "Python 3 (ipykernel)",
   "language": "python",
   "name": "python3"
  },
  "language_info": {
   "codemirror_mode": {
    "name": "ipython",
    "version": 3
   },
   "file_extension": ".py",
   "mimetype": "text/x-python",
   "name": "python",
   "nbconvert_exporter": "python",
   "pygments_lexer": "ipython3",
   "version": "3.12.8"
  },
  "widgets": {
   "application/vnd.jupyter.widget-state+json": {
    "state": {
     "1a5430dc64f04fb49dd08af4e00b5027": {
      "model_module": "nglview-js-widgets",
      "model_module_version": "3.1.4",
      "model_name": "ColormakerRegistryModel",
      "state": {
       "_dom_classes": [],
       "_model_module": "nglview-js-widgets",
       "_model_module_version": "3.1.4",
       "_model_name": "ColormakerRegistryModel",
       "_msg_ar": [],
       "_msg_q": [],
       "_ready": false,
       "_view_count": null,
       "_view_module": "nglview-js-widgets",
       "_view_module_version": "3.1.4",
       "_view_name": "ColormakerRegistryView",
       "layout": "IPY_MODEL_ddde234c78a447d2813ef48e08793b12",
       "tabbable": null,
       "tooltip": null
      }
     },
     "ddde234c78a447d2813ef48e08793b12": {
      "model_module": "@jupyter-widgets/base",
      "model_module_version": "2.0.0",
      "model_name": "LayoutModel",
      "state": {
       "_model_module": "@jupyter-widgets/base",
       "_model_module_version": "2.0.0",
       "_model_name": "LayoutModel",
       "_view_count": null,
       "_view_module": "@jupyter-widgets/base",
       "_view_module_version": "2.0.0",
       "_view_name": "LayoutView",
       "align_content": null,
       "align_items": null,
       "align_self": null,
       "border_bottom": null,
       "border_left": null,
       "border_right": null,
       "border_top": null,
       "bottom": null,
       "display": null,
       "flex": null,
       "flex_flow": null,
       "grid_area": null,
       "grid_auto_columns": null,
       "grid_auto_flow": null,
       "grid_auto_rows": null,
       "grid_column": null,
       "grid_gap": null,
       "grid_row": null,
       "grid_template_areas": null,
       "grid_template_columns": null,
       "grid_template_rows": null,
       "height": null,
       "justify_content": null,
       "justify_items": null,
       "left": null,
       "margin": null,
       "max_height": null,
       "max_width": null,
       "min_height": null,
       "min_width": null,
       "object_fit": null,
       "object_position": null,
       "order": null,
       "overflow": null,
       "padding": null,
       "right": null,
       "top": null,
       "visibility": null,
       "width": null
      }
     }
    },
    "version_major": 2,
    "version_minor": 0
   }
  }
 },
 "nbformat": 4,
 "nbformat_minor": 5
}
