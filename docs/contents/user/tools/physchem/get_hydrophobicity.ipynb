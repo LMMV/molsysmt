{
 "cells": [
  {
   "cell_type": "markdown",
   "id": "1daf6537-58f0-496f-acb0-e771d4735b7d",
   "metadata": {
    "editable": true,
    "slideshow": {
     "slide_type": ""
    },
    "tags": []
   },
   "source": [
    "# Get hydrophobicity"
   ]
  },
  {
   "cell_type": "code",
   "execution_count": 1,
   "id": "c3c463fe-1210-480d-92f5-8f1ea78368c2",
   "metadata": {},
   "outputs": [
    {
     "data": {
      "application/vnd.jupyter.widget-view+json": {
       "model_id": "18f6a964de3f45439de4eb002a29ee01",
       "version_major": 2,
       "version_minor": 0
      },
      "text/plain": []
     },
     "metadata": {},
     "output_type": "display_data"
    }
   ],
   "source": [
    "import molsysmt as msm"
   ]
  },
  {
   "cell_type": "code",
   "execution_count": 2,
   "id": "42e671d7-8a82-42a8-ac1b-032cd02c62a3",
   "metadata": {},
   "outputs": [],
   "source": [
    "molsys = msm.convert(msm.systems['T4 lysozyme L99A']['181l.h5msm'], selection='molecule_type==\"protein\"')"
   ]
  },
  {
   "cell_type": "code",
   "execution_count": 4,
   "id": "2ac20c7a-ec0d-414e-a2c3-27f3e11de786",
   "metadata": {},
   "outputs": [],
   "source": [
    "hydrophob = msm.physchem.get_hydrophobicity(molsys, definition='eisenberg')"
   ]
  },
  {
   "cell_type": "code",
   "execution_count": 5,
   "id": "d6b74336-050b-4b94-a047-a0a969e3f9ef",
   "metadata": {},
   "outputs": [],
   "source": [
    "view = msm.view(molsys)\n",
    "msm.thirds.nglview.set_color_by_value(view, values=hydrophob, mid_value=0.0)"
   ]
  },
  {
   "cell_type": "code",
   "execution_count": 6,
   "id": "9b5bb0e4-90da-4483-b6f0-55c33a4ef176",
   "metadata": {},
   "outputs": [
    {
     "data": {
      "application/vnd.jupyter.widget-view+json": {
       "model_id": "bfd8f9709c3c4633a4130847a9fb32d7",
       "version_major": 2,
       "version_minor": 0
      },
      "text/plain": [
       "NGLWidget()"
      ]
     },
     "metadata": {},
     "output_type": "display_data"
    }
   ],
   "source": [
    "view"
   ]
  },
  {
   "cell_type": "code",
   "execution_count": null,
   "id": "d94c2d84-2781-49ee-a783-719e4d49b6e2",
   "metadata": {},
   "outputs": [],
   "source": []
  }
 ],
 "metadata": {
  "kernelspec": {
   "display_name": "Python 3 (ipykernel)",
   "language": "python",
   "name": "python3"
  },
  "language_info": {
   "codemirror_mode": {
    "name": "ipython",
    "version": 3
   },
   "file_extension": ".py",
   "mimetype": "text/x-python",
   "name": "python",
   "nbconvert_exporter": "python",
   "pygments_lexer": "ipython3",
   "version": "3.12.8"
  }
 },
 "nbformat": 4,
 "nbformat_minor": 5
}
