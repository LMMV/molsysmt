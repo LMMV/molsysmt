{
 "cells": [
  {
   "cell_type": "markdown",
   "id": "1daf6537-58f0-496f-acb0-e771d4735b7d",
   "metadata": {
    "editable": true,
    "slideshow": {
     "slide_type": ""
    },
    "tags": []
   },
   "source": [
    "# Get area buried"
   ]
  },
  {
   "cell_type": "code",
   "execution_count": 1,
   "id": "c3c463fe-1210-480d-92f5-8f1ea78368c2",
   "metadata": {},
   "outputs": [
    {
     "data": {
      "application/vnd.jupyter.widget-view+json": {
       "model_id": "596e19be057f423185561ce353004366",
       "version_major": 2,
       "version_minor": 0
      },
      "text/plain": []
     },
     "metadata": {},
     "output_type": "display_data"
    }
   ],
   "source": [
    "import molsysmt as msm"
   ]
  },
  {
   "cell_type": "code",
   "execution_count": 2,
   "id": "5df96605-53ee-4c31-ba39-649c9aaa4487",
   "metadata": {},
   "outputs": [],
   "source": [
    "molecular_system = msm.convert(msm.systems['T4 lysozyme L99A']['181l.h5msm'],\n",
    "                               selection='molecule_type==\"protein\"')"
   ]
  },
  {
   "cell_type": "code",
   "execution_count": 3,
   "id": "11b288a5-5357-4bbb-9c12-3273a178920e",
   "metadata": {},
   "outputs": [],
   "source": [
    "ab_groups = msm.physchem.get_area_buried(molecular_system, element='group', definition='rose')"
   ]
  },
  {
   "cell_type": "code",
   "execution_count": 5,
   "id": "bed4d193-73bb-4b96-8ca0-55da0c542cb4",
   "metadata": {},
   "outputs": [],
   "source": [
    "view = msm.view(molecular_system)\n",
    "msm.thirds.nglview.set_color_by_value(view, values=ab_groups, min_value=0.0, cmap=\"Purples\")"
   ]
  },
  {
   "cell_type": "code",
   "execution_count": 6,
   "id": "3026d26e-3a19-4c01-93c0-7d779fdd554e",
   "metadata": {},
   "outputs": [
    {
     "data": {
      "application/vnd.jupyter.widget-view+json": {
       "model_id": "28ad5a5526124994a6653a5db2f3a21d",
       "version_major": 2,
       "version_minor": 0
      },
      "text/plain": [
       "NGLWidget()"
      ]
     },
     "metadata": {},
     "output_type": "display_data"
    }
   ],
   "source": [
    "view"
   ]
  },
  {
   "cell_type": "code",
   "execution_count": null,
   "id": "53fdd63e-89b1-47cb-86d2-ec20546a3329",
   "metadata": {},
   "outputs": [],
   "source": []
  }
 ],
 "metadata": {
  "kernelspec": {
   "display_name": "Python 3 (ipykernel)",
   "language": "python",
   "name": "python3"
  },
  "language_info": {
   "codemirror_mode": {
    "name": "ipython",
    "version": 3
   },
   "file_extension": ".py",
   "mimetype": "text/x-python",
   "name": "python",
   "nbconvert_exporter": "python",
   "pygments_lexer": "ipython3",
   "version": "3.12.8"
  }
 },
 "nbformat": 4,
 "nbformat_minor": 5
}
