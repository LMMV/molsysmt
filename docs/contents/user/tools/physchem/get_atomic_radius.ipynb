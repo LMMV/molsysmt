{
 "cells": [
  {
   "cell_type": "markdown",
   "id": "1daf6537-58f0-496f-acb0-e771d4735b7d",
   "metadata": {
    "editable": true,
    "slideshow": {
     "slide_type": ""
    },
    "tags": []
   },
   "source": [
    "# Get atomic radius"
   ]
  },
  {
   "cell_type": "code",
   "execution_count": 1,
   "id": "c3c463fe-1210-480d-92f5-8f1ea78368c2",
   "metadata": {
    "execution": {
     "iopub.execute_input": "2025-03-11T21:08:46.285028Z",
     "iopub.status.busy": "2025-03-11T21:08:46.284653Z",
     "iopub.status.idle": "2025-03-11T21:08:55.087977Z",
     "shell.execute_reply": "2025-03-11T21:08:55.086916Z"
    }
   },
   "outputs": [
    {
     "data": {
      "application/vnd.jupyter.widget-view+json": {
       "model_id": "d3aa1f97a1474929801e1629164ce1e9",
       "version_major": 2,
       "version_minor": 0
      },
      "text/plain": []
     },
     "metadata": {},
     "output_type": "display_data"
    }
   ],
   "source": [
    "import molsysmt as msm"
   ]
  },
  {
   "cell_type": "code",
   "execution_count": 2,
   "id": "42ea1bbe-a39c-4bce-87f4-a380d37c0f02",
   "metadata": {
    "execution": {
     "iopub.execute_input": "2025-03-11T21:08:55.093064Z",
     "iopub.status.busy": "2025-03-11T21:08:55.091527Z",
     "iopub.status.idle": "2025-03-11T21:08:56.056619Z",
     "shell.execute_reply": "2025-03-11T21:08:56.050176Z"
    }
   },
   "outputs": [],
   "source": [
    "molecular_system = msm.convert(msm.systems['Trp-Cage']['1l2y.h5msm'])"
   ]
  },
  {
   "cell_type": "code",
   "execution_count": 3,
   "id": "620f7cd4-16c5-49ba-a209-48b296d9e8d6",
   "metadata": {
    "execution": {
     "iopub.execute_input": "2025-03-11T21:08:56.061858Z",
     "iopub.status.busy": "2025-03-11T21:08:56.060199Z",
     "iopub.status.idle": "2025-03-11T21:08:56.793962Z",
     "shell.execute_reply": "2025-03-11T21:08:56.793046Z"
    }
   },
   "outputs": [],
   "source": [
    "radius_atom = msm.physchem.get_atomic_radius(molecular_system, element='atom', selection='group_id==4',\n",
    "                                             definition='vdw')"
   ]
  },
  {
   "cell_type": "code",
   "execution_count": 4,
   "id": "d0d6dc48-94a5-4b13-afef-1d9f2b3f70a8",
   "metadata": {
    "execution": {
     "iopub.execute_input": "2025-03-11T21:08:56.799377Z",
     "iopub.status.busy": "2025-03-11T21:08:56.797960Z",
     "iopub.status.idle": "2025-03-11T21:08:56.821642Z",
     "shell.execute_reply": "2025-03-11T21:08:56.820825Z"
    }
   },
   "outputs": [
    {
     "data": {
      "text/html": [
       "<table><tbody><tr><th>Magnitude</th><td style='text-align:left;'><pre>[0.155 0.17 0.17 0.152 0.17 0.17 0.17 0.17 0.11 0.11 0.11 0.11 0.11 0.11 0.11 0.11 0.11 0.11 0.11]</pre></td></tr><tr><th>Units</th><td style='text-align:left;'>nanometer</td></tr></tbody></table>"
      ],
      "text/latex": [
       "$\\begin{pmatrix} &  &  &  &  &  &  &  &  &  &  &  &  &  &  &  &  &  & \\end{pmatrix}\\ \\mathrm{nanometer}$"
      ],
      "text/plain": [
       "<Quantity([0.155 0.17  0.17  0.152 0.17  0.17  0.17  0.17  0.11  0.11  0.11  0.11\n",
       " 0.11  0.11  0.11  0.11  0.11  0.11  0.11 ], 'nanometer')>"
      ]
     },
     "execution_count": 4,
     "metadata": {},
     "output_type": "execute_result"
    }
   ],
   "source": [
    "radius_atom"
   ]
  }
 ],
 "metadata": {
  "kernelspec": {
   "display_name": "Python 3 (ipykernel)",
   "language": "python",
   "name": "python3"
  },
  "language_info": {
   "codemirror_mode": {
    "name": "ipython",
    "version": 3
   },
   "file_extension": ".py",
   "mimetype": "text/x-python",
   "name": "python",
   "nbconvert_exporter": "python",
   "pygments_lexer": "ipython3",
   "version": "3.12.8"
  },
  "widgets": {
   "application/vnd.jupyter.widget-state+json": {
    "state": {
     "2edc120020b94a96870d6f68a16e244d": {
      "model_module": "@jupyter-widgets/base",
      "model_module_version": "2.0.0",
      "model_name": "LayoutModel",
      "state": {
       "_model_module": "@jupyter-widgets/base",
       "_model_module_version": "2.0.0",
       "_model_name": "LayoutModel",
       "_view_count": null,
       "_view_module": "@jupyter-widgets/base",
       "_view_module_version": "2.0.0",
       "_view_name": "LayoutView",
       "align_content": null,
       "align_items": null,
       "align_self": null,
       "border_bottom": null,
       "border_left": null,
       "border_right": null,
       "border_top": null,
       "bottom": null,
       "display": null,
       "flex": null,
       "flex_flow": null,
       "grid_area": null,
       "grid_auto_columns": null,
       "grid_auto_flow": null,
       "grid_auto_rows": null,
       "grid_column": null,
       "grid_gap": null,
       "grid_row": null,
       "grid_template_areas": null,
       "grid_template_columns": null,
       "grid_template_rows": null,
       "height": null,
       "justify_content": null,
       "justify_items": null,
       "left": null,
       "margin": null,
       "max_height": null,
       "max_width": null,
       "min_height": null,
       "min_width": null,
       "object_fit": null,
       "object_position": null,
       "order": null,
       "overflow": null,
       "padding": null,
       "right": null,
       "top": null,
       "visibility": null,
       "width": null
      }
     },
     "d3aa1f97a1474929801e1629164ce1e9": {
      "model_module": "nglview-js-widgets",
      "model_module_version": "3.1.4",
      "model_name": "ColormakerRegistryModel",
      "state": {
       "_dom_classes": [],
       "_model_module": "nglview-js-widgets",
       "_model_module_version": "3.1.4",
       "_model_name": "ColormakerRegistryModel",
       "_msg_ar": [],
       "_msg_q": [],
       "_ready": false,
       "_view_count": null,
       "_view_module": "nglview-js-widgets",
       "_view_module_version": "3.1.4",
       "_view_name": "ColormakerRegistryView",
       "layout": "IPY_MODEL_2edc120020b94a96870d6f68a16e244d",
       "tabbable": null,
       "tooltip": null
      }
     }
    },
    "version_major": 2,
    "version_minor": 0
   }
  }
 },
 "nbformat": 4,
 "nbformat_minor": 5
}
