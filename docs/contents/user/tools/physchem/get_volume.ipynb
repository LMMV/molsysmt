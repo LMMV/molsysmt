{
 "cells": [
  {
   "cell_type": "markdown",
   "id": "1daf6537-58f0-496f-acb0-e771d4735b7d",
   "metadata": {
    "editable": true,
    "slideshow": {
     "slide_type": ""
    },
    "tags": []
   },
   "source": [
    "# Get volume"
   ]
  },
  {
   "cell_type": "code",
   "execution_count": 1,
   "id": "c3c463fe-1210-480d-92f5-8f1ea78368c2",
   "metadata": {
    "editable": true,
    "slideshow": {
     "slide_type": ""
    },
    "tags": []
   },
   "outputs": [
    {
     "data": {
      "application/vnd.jupyter.widget-view+json": {
       "model_id": "c00a91ff263643f187e9c0fd5aea2ee9",
       "version_major": 2,
       "version_minor": 0
      },
      "text/plain": []
     },
     "metadata": {},
     "output_type": "display_data"
    }
   ],
   "source": [
    "import molsysmt as msm"
   ]
  },
  {
   "cell_type": "code",
   "execution_count": 2,
   "id": "98e4f200-e4b5-436a-9cb9-bdd10276fd95",
   "metadata": {},
   "outputs": [],
   "source": [
    "molsys = msm.convert(msm.systems['T4 lysozyme L99A']['181l.h5msm'], selection='molecule_type==\"protein\"')"
   ]
  },
  {
   "cell_type": "code",
   "execution_count": 3,
   "id": "8371a2ae-9bed-4940-b1d9-5622520549bd",
   "metadata": {},
   "outputs": [],
   "source": [
    "volume = msm.physchem.get_volume(molsys, definition='grantham')"
   ]
  },
  {
   "cell_type": "code",
   "execution_count": 4,
   "id": "56e347c4-194a-4156-a687-a6e7a0d17509",
   "metadata": {},
   "outputs": [],
   "source": [
    "view = msm.view(molsys)\n",
    "msm.thirds.nglview.set_color_by_value(view, values=volume, min_value=0.0, cmap='Purples')"
   ]
  },
  {
   "cell_type": "code",
   "execution_count": 5,
   "id": "1556ba4d-3751-4ffb-a131-27d9d509579f",
   "metadata": {},
   "outputs": [
    {
     "data": {
      "application/vnd.jupyter.widget-view+json": {
       "model_id": "b188f980373d4c558bc59723329b0329",
       "version_major": 2,
       "version_minor": 0
      },
      "text/plain": [
       "NGLWidget()"
      ]
     },
     "metadata": {},
     "output_type": "display_data"
    }
   ],
   "source": [
    "view"
   ]
  },
  {
   "cell_type": "code",
   "execution_count": null,
   "id": "87b718f8-93a7-4594-b42b-284645d6ce50",
   "metadata": {},
   "outputs": [],
   "source": []
  }
 ],
 "metadata": {
  "kernelspec": {
   "display_name": "Python 3 (ipykernel)",
   "language": "python",
   "name": "python3"
  },
  "language_info": {
   "codemirror_mode": {
    "name": "ipython",
    "version": 3
   },
   "file_extension": ".py",
   "mimetype": "text/x-python",
   "name": "python",
   "nbconvert_exporter": "python",
   "pygments_lexer": "ipython3",
   "version": "3.12.8"
  }
 },
 "nbformat": 4,
 "nbformat_minor": 5
}
