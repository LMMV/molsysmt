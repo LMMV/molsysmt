{
 "cells": [
  {
   "cell_type": "markdown",
   "id": "1daf6537-58f0-496f-acb0-e771d4735b7d",
   "metadata": {
    "editable": true,
    "slideshow": {
     "slide_type": ""
    },
    "tags": []
   },
   "source": [
    "# Get mass"
   ]
  },
  {
   "cell_type": "code",
   "execution_count": 1,
   "id": "c3c463fe-1210-480d-92f5-8f1ea78368c2",
   "metadata": {},
   "outputs": [
    {
     "data": {
      "application/vnd.jupyter.widget-view+json": {
       "model_id": "d7f93606e61c4c409cea1db3fd45f6ac",
       "version_major": 2,
       "version_minor": 0
      },
      "text/plain": []
     },
     "metadata": {},
     "output_type": "display_data"
    }
   ],
   "source": [
    "import molsysmt as msm"
   ]
  },
  {
   "cell_type": "code",
   "execution_count": 2,
   "id": "87456bcf-bb71-4c08-aa2e-6eb851c7e200",
   "metadata": {},
   "outputs": [],
   "source": [
    "molsys = msm.convert(msm.systems['T4 lysozyme L99A']['181l.h5msm'])"
   ]
  },
  {
   "cell_type": "code",
   "execution_count": 3,
   "id": "b415b24b-0ca9-4e45-a503-3e25f2f2aaaa",
   "metadata": {},
   "outputs": [
    {
     "data": {
      "text/html": [
       "<style type=\"text/css\">\n",
       "</style>\n",
       "<table id=\"T_6d2f3\">\n",
       "  <thead>\n",
       "    <tr>\n",
       "      <th id=\"T_6d2f3_level0_col0\" class=\"col_heading level0 col0\" >form</th>\n",
       "      <th id=\"T_6d2f3_level0_col1\" class=\"col_heading level0 col1\" >n_atoms</th>\n",
       "      <th id=\"T_6d2f3_level0_col2\" class=\"col_heading level0 col2\" >n_groups</th>\n",
       "      <th id=\"T_6d2f3_level0_col3\" class=\"col_heading level0 col3\" >n_components</th>\n",
       "      <th id=\"T_6d2f3_level0_col4\" class=\"col_heading level0 col4\" >n_chains</th>\n",
       "      <th id=\"T_6d2f3_level0_col5\" class=\"col_heading level0 col5\" >n_molecules</th>\n",
       "      <th id=\"T_6d2f3_level0_col6\" class=\"col_heading level0 col6\" >n_entities</th>\n",
       "      <th id=\"T_6d2f3_level0_col7\" class=\"col_heading level0 col7\" >n_waters</th>\n",
       "      <th id=\"T_6d2f3_level0_col8\" class=\"col_heading level0 col8\" >n_ions</th>\n",
       "      <th id=\"T_6d2f3_level0_col9\" class=\"col_heading level0 col9\" >n_small_molecules</th>\n",
       "      <th id=\"T_6d2f3_level0_col10\" class=\"col_heading level0 col10\" >n_proteins</th>\n",
       "      <th id=\"T_6d2f3_level0_col11\" class=\"col_heading level0 col11\" >n_structures</th>\n",
       "    </tr>\n",
       "  </thead>\n",
       "  <tbody>\n",
       "    <tr>\n",
       "      <td id=\"T_6d2f3_row0_col0\" class=\"data row0 col0\" >molsysmt.MolSys</td>\n",
       "      <td id=\"T_6d2f3_row0_col1\" class=\"data row0 col1\" >1441</td>\n",
       "      <td id=\"T_6d2f3_row0_col2\" class=\"data row0 col2\" >302</td>\n",
       "      <td id=\"T_6d2f3_row0_col3\" class=\"data row0 col3\" >141</td>\n",
       "      <td id=\"T_6d2f3_row0_col4\" class=\"data row0 col4\" >6</td>\n",
       "      <td id=\"T_6d2f3_row0_col5\" class=\"data row0 col5\" >141</td>\n",
       "      <td id=\"T_6d2f3_row0_col6\" class=\"data row0 col6\" >5</td>\n",
       "      <td id=\"T_6d2f3_row0_col7\" class=\"data row0 col7\" >136</td>\n",
       "      <td id=\"T_6d2f3_row0_col8\" class=\"data row0 col8\" >2</td>\n",
       "      <td id=\"T_6d2f3_row0_col9\" class=\"data row0 col9\" >2</td>\n",
       "      <td id=\"T_6d2f3_row0_col10\" class=\"data row0 col10\" >1</td>\n",
       "      <td id=\"T_6d2f3_row0_col11\" class=\"data row0 col11\" >1</td>\n",
       "    </tr>\n",
       "  </tbody>\n",
       "</table>\n"
      ],
      "text/plain": [
       "<pandas.io.formats.style.Styler at 0x745f46c60b30>"
      ]
     },
     "execution_count": 3,
     "metadata": {},
     "output_type": "execute_result"
    }
   ],
   "source": [
    "msm.info(molsys)"
   ]
  },
  {
   "cell_type": "code",
   "execution_count": 4,
   "id": "bfa09238-64de-4cca-8648-1df76f7e4bd5",
   "metadata": {},
   "outputs": [],
   "source": [
    "mass_atoms = msm.physchem.get_mass(molsys, element='atom', selection='molecule_type==\"protein\"')"
   ]
  },
  {
   "cell_type": "code",
   "execution_count": 5,
   "id": "72553d49-cbc6-45af-bdb1-9fbb6cc2dbe5",
   "metadata": {},
   "outputs": [
    {
     "data": {
      "text/html": [
       "<table><tbody><tr><th>Magnitude</th><td style='text-align:left;'><pre>[14.007 12.011 12.011 ... 12.011 12.011 14.007]</pre></td></tr><tr><th>Units</th><td style='text-align:left;'>unified_atomic_mass_unit</td></tr></tbody></table>"
      ],
      "text/latex": [
       "$\\begin{pmatrix} &  &  &  &  &  &  &  &  &  &  &  &  &  &  &  &  &  &  &  &  &  &  &  &  &  &  &  &  &  &  &  &  &  &  &  &  &  &  &  &  &  &  &  &  &  &  &  &  &  &  &  &  &  &  &  &  &  &  &  &  &  &  &  &  &  &  &  &  &  &  &  &  &  &  &  &  &  &  &  &  &  &  &  &  &  &  &  &  &  &  &  &  &  &  &  &  &  &  &  &  &  &  &  &  &  &  &  &  &  &  &  &  &  &  &  &  &  &  &  &  &  &  &  &  &  &  &  &  &  &  &  &  &  &  &  &  &  &  &  &  &  &  &  &  &  &  &  &  &  &  &  &  &  &  &  &  &  &  &  &  &  &  &  &  &  &  &  &  &  &  &  &  &  &  &  &  &  &  &  &  &  &  &  &  &  &  &  &  &  &  &  &  &  &  &  &  &  &  &  &  &  &  &  &  &  &  &  &  &  &  &  &  &  &  &  &  &  &  &  &  &  &  &  &  &  &  &  &  &  &  &  &  &  &  &  &  &  &  &  &  &  &  &  &  &  &  &  &  &  &  &  &  &  &  &  &  &  &  &  &  &  &  &  &  &  &  &  &  &  &  &  &  &  &  &  &  &  &  &  &  &  &  &  &  &  &  &  &  &  &  &  &  &  &  &  &  &  &  &  &  &  &  &  &  &  &  &  &  &  &  &  &  &  &  &  &  &  &  &  &  &  &  &  &  &  &  &  &  &  &  &  &  &  &  &  &  &  &  &  &  &  &  &  &  &  &  &  &  &  &  &  &  &  &  &  &  &  &  &  &  &  &  &  &  &  &  &  &  &  &  &  &  &  &  &  &  &  &  &  &  &  &  &  &  &  &  &  &  &  &  &  &  &  &  &  &  &  &  &  &  &  &  &  &  &  &  &  &  &  &  &  &  &  &  &  &  &  &  &  &  &  &  &  &  &  &  &  &  &  &  &  &  &  &  &  &  &  &  &  &  &  &  &  &  &  &  &  &  &  &  &  &  &  &  &  &  &  &  &  &  &  &  &  &  &  &  &  &  &  &  &  &  &  &  &  &  &  &  &  &  &  &  &  &  &  &  &  &  &  &  &  &  &  &  &  &  &  &  &  &  &  &  &  &  &  &  &  &  &  &  &  &  &  &  &  &  &  &  &  &  &  &  &  &  &  &  &  &  &  &  &  &  &  &  &  &  &  &  &  &  &  &  &  &  &  &  &  &  &  &  &  &  &  &  &  &  &  &  &  &  &  &  &  &  &  &  &  &  &  &  &  &  &  &  &  &  &  &  &  &  &  &  &  &  &  &  &  &  &  &  &  &  &  &  &  &  &  &  &  &  &  &  &  &  &  &  &  &  &  &  &  &  &  &  &  &  &  &  &  &  &  &  &  &  &  &  &  &  &  &  &  &  &  &  &  &  &  &  &  &  &  &  &  &  &  &  &  &  &  &  &  &  &  &  &  &  &  &  &  &  &  &  &  &  &  &  &  &  &  &  &  &  &  &  &  &  &  &  &  &  &  &  &  &  &  &  &  &  &  &  &  &  &  &  &  &  &  &  &  &  &  &  &  &  &  &  &  &  &  &  &  &  &  &  &  &  &  &  &  &  &  &  &  &  &  &  &  &  &  &  &  &  &  &  &  &  &  &  &  &  &  &  &  &  &  &  &  &  &  &  &  &  &  &  &  &  &  &  &  &  &  &  &  &  &  &  &  &  &  &  &  &  &  &  &  &  &  &  &  &  &  &  &  &  &  &  &  &  &  &  &  &  &  &  &  &  &  &  &  &  &  &  &  &  &  &  &  &  &  &  &  &  &  &  &  &  &  &  &  &  &  &  &  &  &  &  &  &  &  &  &  &  &  &  &  &  &  &  &  &  &  &  &  &  &  &  &  &  &  &  &  &  &  &  &  &  &  &  &  &  &  &  &  &  &  &  &  &  &  &  &  &  &  &  &  &  &  &  &  &  &  &  &  &  &  &  &  &  &  &  &  &  &  &  &  &  &  &  &  &  &  &  &  &  &  &  &  &  &  &  &  &  &  &  &  &  &  &  &  &  &  &  &  &  &  &  &  &  &  &  &  &  &  &  &  &  &  &  &  &  &  &  &  &  &  &  &  &  &  &  &  &  &  &  &  &  &  &  &  &  &  &  &  &  &  &  &  &  &  &  &  &  &  &  &  &  &  &  &  &  &  &  &  &  &  &  &  &  &  &  &  &  &  &  &  &  &  &  &  &  &  &  &  &  &  &  &  &  &  &  &  &  &  &  &  &  &  &  &  &  &  &  &  &  &  &  &  &  &  &  &  &  &  &  &  &  &  &  &  &  &  &  &  &  &  &  &  &  &  &  &  &  &  &  &  &  &  &  &  &  &  &  &  &  &  &  &  &  &  &  &  &  &  &  &  &  &  &  &  &  &  &  &  &  &  &  &  &  &  &  &  &  &  &  &  &  &  &  &  &  &  &  &  &  &  &  &  &  &  &  &  &  &  &  &  &  &  &  &  &  &  &  &  &  &  &  &  &  &  &  &  &  &  &  &  &  &  &  &  &  &  &  &  &  &  &  &  &  &  &  &  &  &  &  &  &  &  &  &  &  &  &  &  &  &  &  &  &  &  &  &  &  &  &  &  &  &  &  &  &  &  &  &  &  &  &  &  &  &  &  &  &  &  &  &  &  &  &  &  &  &  &  &  &  &  &  &  &  &  &  &  &  &  &  &  &  &  &  &  &  &  &  &  &  &  &  &  &  &  &  &  &  &  &  &  &  &  &  &  &  &  &  &  &  &  &  &  &  &  &  &  &  &  &  &  &  &  &  &  &  &  &  &  &  &  &  &  &  &  &  &  &  &  &  &  &  &  &  &  &  &  &  &  &  &  &  &  & \\end{pmatrix}\\ \\mathrm{unified\\_atomic\\_mass\\_unit}$"
      ],
      "text/plain": [
       "<Quantity([14.007 12.011 12.011 ... 12.011 12.011 14.007], 'unified_atomic_mass_unit')>"
      ]
     },
     "execution_count": 5,
     "metadata": {},
     "output_type": "execute_result"
    }
   ],
   "source": [
    "mass_atoms"
   ]
  },
  {
   "cell_type": "code",
   "execution_count": 6,
   "id": "18ef6a0a-e744-4adc-bcfb-a134e4793a4b",
   "metadata": {},
   "outputs": [],
   "source": [
    "mass_groups = msm.physchem.get_mass(molsys, element='group', selection='molecule_type==\"protein\"')"
   ]
  },
  {
   "cell_type": "code",
   "execution_count": 7,
   "id": "b34cca1b-9c63-4693-abda-3af3953c3b86",
   "metadata": {},
   "outputs": [
    {
     "data": {
      "text/html": [
       "<table><tbody><tr><th>Magnitude</th><td style='text-align:left;'><pre>[122.12099999999998 108.056 102.072 138.105 122.059 122.12099999999998 102.072 144.093 102.072 110.048 122.059 54.028 102.072 144.093 102.072 116.07900000000001 102.072 154.10399999999998 116.07900000000001 110.048 94.04899999999999 122.059 54.028 154.10399999999998 154.10399999999998 94.04899999999999 102.072 54.028 102.072 54.028 130.08599999999998 102.072 102.072 94.04899999999999 116.07900000000001 82.038 90.06099999999999 82.038 102.072 108.056 66.039 66.039 116.07900000000001 82.038 122.059 102.072 110.048 116.07900000000001 66.039 102.072 54.028 144.093 108.056 94.04899999999999 108.056 54.028 90.06099999999999 102.072 94.04899999999999 116.07900000000001 110.048 122.059 66.039 122.059 116.07900000000001 102.072 138.105 108.056 120.06700000000001 110.048 90.06099999999999 110.048 66.039 66.039 90.06099999999999 144.093 54.028 102.072 102.072 144.093 108.056 66.039 116.07900000000001 102.072 116.07900000000001 90.06099999999999 90.06099999999999 154.10399999999998 110.048 82.038 102.072 110.048 66.039 90.06099999999999 144.093 144.093 66.039 66.039 66.039 102.072 108.056 122.12099999999998 90.06099999999999 138.105 120.06700000000001 122.12099999999998 54.028 122.059 94.04899999999999 54.028 90.06099999999999 66.039 54.028 138.105 94.04899999999999 108.056 82.038 102.072 144.093 122.12099999999998 102.072 120.06700000000001 120.06700000000001 116.07900000000001 144.093 176.134 110.048 122.059 66.039 66.039 90.06099999999999 108.056 102.072 66.039 116.07900000000001 82.038 144.093 176.134 154.10399999999998 108.056 120.06700000000001 94.04899999999999 90.06099999999999 108.056 144.093 66.039 116.07900000000001 144.093 90.06099999999999 102.072 94.04899999999999 94.04899999999999 138.105 144.093 94.04899999999999 54.028 94.04899999999999 176.134 110.048 66.039 154.10399999999998 116.07900000000001]</pre></td></tr><tr><th>Units</th><td style='text-align:left;'>unified_atomic_mass_unit</td></tr></tbody></table>"
      ],
      "text/latex": [
       "$\\begin{pmatrix} &  &  &  &  &  &  &  &  &  &  &  &  &  &  &  &  &  &  &  &  &  &  &  &  &  &  &  &  &  &  &  &  &  &  &  &  &  &  &  &  &  &  &  &  &  &  &  &  &  &  &  &  &  &  &  &  &  &  &  &  &  &  &  &  &  &  &  &  &  &  &  &  &  &  &  &  &  &  &  &  &  &  &  &  &  &  &  &  &  &  &  &  &  &  &  &  &  &  &  &  &  &  &  &  &  &  &  &  &  &  &  &  &  &  &  &  &  &  &  &  &  &  &  &  &  &  &  &  &  &  &  &  &  &  &  &  &  &  &  &  &  &  &  &  &  &  &  &  &  &  &  &  &  &  &  &  &  &  &  &  & \\end{pmatrix}\\ \\mathrm{unified\\_atomic\\_mass\\_unit}$"
      ],
      "text/plain": [
       "<Quantity([122.121 108.056 102.072 138.105 122.059 122.121 102.072 144.093 102.072\n",
       " 110.048 122.059  54.028 102.072 144.093 102.072 116.079 102.072 154.104\n",
       " 116.079 110.048  94.049 122.059  54.028 154.104 154.104  94.049 102.072\n",
       "  54.028 102.072  54.028 130.086 102.072 102.072  94.049 116.079  82.038\n",
       "  90.061  82.038 102.072 108.056  66.039  66.039 116.079  82.038 122.059\n",
       " 102.072 110.048 116.079  66.039 102.072  54.028 144.093 108.056  94.049\n",
       " 108.056  54.028  90.061 102.072  94.049 116.079 110.048 122.059  66.039\n",
       " 122.059 116.079 102.072 138.105 108.056 120.067 110.048  90.061 110.048\n",
       "  66.039  66.039  90.061 144.093  54.028 102.072 102.072 144.093 108.056\n",
       "  66.039 116.079 102.072 116.079  90.061  90.061 154.104 110.048  82.038\n",
       " 102.072 110.048  66.039  90.061 144.093 144.093  66.039  66.039  66.039\n",
       " 102.072 108.056 122.121  90.061 138.105 120.067 122.121  54.028 122.059\n",
       "  94.049  54.028  90.061  66.039  54.028 138.105  94.049 108.056  82.038\n",
       " 102.072 144.093 122.121 102.072 120.067 120.067 116.079 144.093 176.134\n",
       " 110.048 122.059  66.039  66.039  90.061 108.056 102.072  66.039 116.079\n",
       "  82.038 144.093 176.134 154.104 108.056 120.067  94.049  90.061 108.056\n",
       " 144.093  66.039 116.079 144.093  90.061 102.072  94.049  94.049 138.105\n",
       " 144.093  94.049  54.028  94.049 176.134 110.048  66.039 154.104 116.079], 'unified_atomic_mass_unit')>"
      ]
     },
     "execution_count": 7,
     "metadata": {},
     "output_type": "execute_result"
    }
   ],
   "source": [
    "mass_groups"
   ]
  },
  {
   "cell_type": "code",
   "execution_count": 8,
   "id": "229ec7f5-8d96-4b67-baa9-e1371023e0f0",
   "metadata": {},
   "outputs": [
    {
     "data": {
      "text/html": [
       "19463.619999999995 unified_atomic_mass_unit"
      ],
      "text/latex": [
       "$19463.619999999995\\ \\mathrm{unified\\_atomic\\_mass\\_unit}$"
      ],
      "text/plain": [
       "<Quantity(19463.62, 'unified_atomic_mass_unit')>"
      ]
     },
     "execution_count": 8,
     "metadata": {},
     "output_type": "execute_result"
    }
   ],
   "source": [
    "msm.physchem.get_mass(molsys, element='system')"
   ]
  },
  {
   "cell_type": "code",
   "execution_count": 9,
   "id": "7c1f433d-7351-40fb-815f-180b91fa17d9",
   "metadata": {},
   "outputs": [],
   "source": [
    "from openmm import app\n",
    "molsys = msm.systems['Trp-Cage']['1l2y.h5msm']\n",
    "openmm_topology = msm.convert(molsys, to_form='openmm.Topology')\n",
    "\n",
    "forcefield = app.ForceField(\"amber14-all.xml\", \"amber14/tip3p.xml\")\n",
    "system = forcefield.createSystem(openmm_topology, nonbondedMethod=app.NoCutoff, constraints=app.HBonds)"
   ]
  },
  {
   "cell_type": "code",
   "execution_count": 11,
   "id": "a1dd17d6-2bb1-4bbf-9193-7ac5f2db69d2",
   "metadata": {},
   "outputs": [
    {
     "data": {
      "text/html": [
       "2170.4500000000016 unified_atomic_mass_unit"
      ],
      "text/latex": [
       "$2170.4500000000016\\ \\mathrm{unified\\_atomic\\_mass\\_unit}$"
      ],
      "text/plain": [
       "<Quantity(2170.45, 'unified_atomic_mass_unit')>"
      ]
     },
     "execution_count": 11,
     "metadata": {},
     "output_type": "execute_result"
    }
   ],
   "source": [
    "msm.physchem.get_mass(system, element='system', method='OpenMM')"
   ]
  },
  {
   "cell_type": "code",
   "execution_count": null,
   "id": "d270100f-5d53-4e18-9ffa-826debf6ed64",
   "metadata": {},
   "outputs": [],
   "source": []
  }
 ],
 "metadata": {
  "kernelspec": {
   "display_name": "Python 3 (ipykernel)",
   "language": "python",
   "name": "python3"
  },
  "language_info": {
   "codemirror_mode": {
    "name": "ipython",
    "version": 3
   },
   "file_extension": ".py",
   "mimetype": "text/x-python",
   "name": "python",
   "nbconvert_exporter": "python",
   "pygments_lexer": "ipython3",
   "version": "3.12.8"
  }
 },
 "nbformat": 4,
 "nbformat_minor": 5
}
