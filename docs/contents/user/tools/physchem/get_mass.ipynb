{
 "cells": [
  {
   "cell_type": "markdown",
   "id": "1daf6537-58f0-496f-acb0-e771d4735b7d",
   "metadata": {
    "editable": true,
    "slideshow": {
     "slide_type": ""
    },
    "tags": []
   },
   "source": [
    "# Get mass"
   ]
  },
  {
   "cell_type": "code",
   "execution_count": 1,
   "id": "c3c463fe-1210-480d-92f5-8f1ea78368c2",
   "metadata": {},
   "outputs": [
    {
     "data": {
      "application/vnd.jupyter.widget-view+json": {
       "model_id": "105becc2e7e44cc7bb62828acd277896",
       "version_major": 2,
       "version_minor": 0
      },
      "text/plain": []
     },
     "metadata": {},
     "output_type": "display_data"
    }
   ],
   "source": [
    "import molsysmt as msm"
   ]
  },
  {
   "cell_type": "code",
   "execution_count": 2,
   "id": "87456bcf-bb71-4c08-aa2e-6eb851c7e200",
   "metadata": {},
   "outputs": [],
   "source": [
    "molsys = msm.convert(msm.systems['T4 lysozyme L99A']['181l.h5msm'])"
   ]
  },
  {
   "cell_type": "code",
   "execution_count": null,
   "id": "b415b24b-0ca9-4e45-a503-3e25f2f2aaaa",
   "metadata": {},
   "outputs": [],
   "source": [
    "msm.info(molsys)"
   ]
  },
  {
   "cell_type": "code",
   "execution_count": null,
   "id": "bfa09238-64de-4cca-8648-1df76f7e4bd5",
   "metadata": {},
   "outputs": [],
   "source": [
    "mass_atoms = msm.physchem.get_mass(molsys, element='atom', selection='molecule_type==\"protein\"')"
   ]
  },
  {
   "cell_type": "code",
   "execution_count": null,
   "id": "72553d49-cbc6-45af-bdb1-9fbb6cc2dbe5",
   "metadata": {},
   "outputs": [],
   "source": [
    "mass_atoms[0:10]"
   ]
  },
  {
   "cell_type": "code",
   "execution_count": null,
   "id": "903122ab-f42f-4d33-854a-89eb482a3aa5",
   "metadata": {},
   "outputs": [],
   "source": [
    "aa = msm.pyunitwizard.quantity([14.007,12.011,12.011,15.999,12.011,12.011,32.06,12.011,14.007,12.011], unit='dalton')"
   ]
  },
  {
   "cell_type": "code",
   "execution_count": null,
   "id": "12f0504a-a2d6-47e8-b199-596cc12a956c",
   "metadata": {},
   "outputs": [],
   "source": [
    "msm.pyunitwizard.are_close(aa, mass_atoms[0:10])"
   ]
  },
  {
   "cell_type": "code",
   "execution_count": null,
   "id": "18ef6a0a-e744-4adc-bcfb-a134e4793a4b",
   "metadata": {},
   "outputs": [],
   "source": [
    "mass_groups = msm.physchem.get_mass(molsys, element='group', selection='molecule_type==\"protein\"')"
   ]
  },
  {
   "cell_type": "code",
   "execution_count": null,
   "id": "b34cca1b-9c63-4693-abda-3af3953c3b86",
   "metadata": {},
   "outputs": [],
   "source": [
    "mass_groups"
   ]
  },
  {
   "cell_type": "code",
   "execution_count": null,
   "id": "229ec7f5-8d96-4b67-baa9-e1371023e0f0",
   "metadata": {},
   "outputs": [],
   "source": [
    "msm.physchem.get_mass(molsys, element='system')"
   ]
  },
  {
   "cell_type": "code",
   "execution_count": null,
   "id": "7c1f433d-7351-40fb-815f-180b91fa17d9",
   "metadata": {},
   "outputs": [],
   "source": [
    "from openmm import app\n",
    "molsys = msm.systems['Trp-Cage']['1l2y.h5msm']\n",
    "openmm_topology = msm.convert(molsys, to_form='openmm.Topology')\n",
    "\n",
    "forcefield = app.ForceField(\"amber14-all.xml\", \"amber14/tip3p.xml\")\n",
    "system = forcefield.createSystem(openmm_topology, nonbondedMethod=app.NoCutoff, constraints=app.HBonds)"
   ]
  },
  {
   "cell_type": "code",
   "execution_count": null,
   "id": "31e08ef1-075f-4e9c-8e30-2f6538944086",
   "metadata": {},
   "outputs": [],
   "source": [
    "aa = msm.physchem.get_mass(openmm_topology, element='group', method='OpenMM')"
   ]
  },
  {
   "cell_type": "code",
   "execution_count": null,
   "id": "2afe30eb-0549-4f81-9eb4-542b5bd6d272",
   "metadata": {},
   "outputs": [],
   "source": [
    "aa[0:10]"
   ]
  },
  {
   "cell_type": "code",
   "execution_count": null,
   "id": "c6ccd3b8-7862-42bc-bda6-10af573036ca",
   "metadata": {},
   "outputs": [],
   "source": []
  },
  {
   "cell_type": "code",
   "execution_count": null,
   "id": "d96e61d7-a888-440e-bd35-b8c179f3c169",
   "metadata": {},
   "outputs": [],
   "source": [
    "msm.get(system, element='group', atom_indices=True)"
   ]
  },
  {
   "cell_type": "code",
   "execution_count": null,
   "id": "a1dd17d6-2bb1-4bbf-9193-7ac5f2db69d2",
   "metadata": {},
   "outputs": [],
   "source": [
    "msm.physchem.get_mass(system, element='system', method='OpenMM')"
   ]
  },
  {
   "cell_type": "code",
   "execution_count": null,
   "id": "37fbd433-e5ca-4751-8f9d-ab5dafa5e2f0",
   "metadata": {},
   "outputs": [],
   "source": [
    "msm.physchem.get_mass(system, element='group', method='OpenMM')"
   ]
  },
  {
   "cell_type": "code",
   "execution_count": null,
   "id": "1fa6ed5c-4369-4970-a8c4-3c4ad14a3dd1",
   "metadata": {},
   "outputs": [],
   "source": [
    "msm.pyunitwizard.utils."
   ]
  },
  {
   "cell_type": "code",
   "execution_count": null,
   "id": "479164d6-f7a4-47fb-9bb9-3a8e3069d975",
   "metadata": {},
   "outputs": [],
   "source": [
    "for atom in openmm_topology.atoms():\n",
    "    _"
   ]
  },
  {
   "cell_type": "code",
   "execution_count": null,
   "id": "3f3d376a-8642-42cf-82be-48384851c39c",
   "metadata": {},
   "outputs": [],
   "source": [
    "atom.element.mass"
   ]
  },
  {
   "cell_type": "code",
   "execution_count": null,
   "id": "a6e01be0-4525-467a-b455-21bf39a0bdd3",
   "metadata": {},
   "outputs": [],
   "source": [
    "aa = list(openmm_topology.atoms())"
   ]
  },
  {
   "cell_type": "code",
   "execution_count": null,
   "id": "b060c2fc-e1fa-4869-b32b-5ca553f06c37",
   "metadata": {},
   "outputs": [],
   "source": [
    "aa"
   ]
  },
  {
   "cell_type": "code",
   "execution_count": null,
   "id": "d270100f-5d53-4e18-9ffa-826debf6ed64",
   "metadata": {},
   "outputs": [],
   "source": []
  }
 ],
 "metadata": {
  "kernelspec": {
   "display_name": "Python 3 (ipykernel)",
   "language": "python",
   "name": "python3"
  },
  "language_info": {
   "codemirror_mode": {
    "name": "ipython",
    "version": 3
   },
   "file_extension": ".py",
   "mimetype": "text/x-python",
   "name": "python",
   "nbconvert_exporter": "python",
   "pygments_lexer": "ipython3",
   "version": "3.12.8"
  }
 },
 "nbformat": 4,
 "nbformat_minor": 5
}
