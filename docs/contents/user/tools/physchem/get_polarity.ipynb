{
 "cells": [
  {
   "cell_type": "markdown",
   "id": "1daf6537-58f0-496f-acb0-e771d4735b7d",
   "metadata": {
    "editable": true,
    "slideshow": {
     "slide_type": ""
    },
    "tags": []
   },
   "source": [
    "# Get polarity"
   ]
  },
  {
   "cell_type": "code",
   "execution_count": 1,
   "id": "c3c463fe-1210-480d-92f5-8f1ea78368c2",
   "metadata": {},
   "outputs": [
    {
     "data": {
      "application/vnd.jupyter.widget-view+json": {
       "model_id": "84a1e7b4df984c00b3bbc55c4ce77e2d",
       "version_major": 2,
       "version_minor": 0
      },
      "text/plain": []
     },
     "metadata": {},
     "output_type": "display_data"
    }
   ],
   "source": [
    "import molsysmt as msm"
   ]
  },
  {
   "cell_type": "code",
   "execution_count": 2,
   "id": "9d9514b0-11bd-450d-806a-2055834d4cfb",
   "metadata": {},
   "outputs": [],
   "source": [
    "molecular_system = msm.convert(msm.systems['T4 lysozyme L99A']['181l.h5msm'],\n",
    "                               selection='molecule_type==\"protein\"')"
   ]
  },
  {
   "cell_type": "code",
   "execution_count": 3,
   "id": "2d189bff-a4ed-4ab8-bc17-90c305c2e4ac",
   "metadata": {},
   "outputs": [],
   "source": [
    "polarity_groups = msm.physchem.get_polarity(molecular_system, element='group', definition='grantham')"
   ]
  },
  {
   "cell_type": "code",
   "execution_count": 7,
   "id": "b2d1ad77-13c5-4856-9fc0-108890e527dd",
   "metadata": {},
   "outputs": [],
   "source": [
    "view = msm.view(molecular_system)\n",
    "msm.thirds.nglview.set_color_by_value(view, values=polarity_groups, min_value=0.0, cmap=\"Purples\")"
   ]
  },
  {
   "cell_type": "code",
   "execution_count": 8,
   "id": "8b77c2e0-c40d-4fbf-8d34-b6b366bf21aa",
   "metadata": {},
   "outputs": [
    {
     "data": {
      "application/vnd.jupyter.widget-view+json": {
       "model_id": "bc6f6f0e32bd4cb99d54c65bd9a0d104",
       "version_major": 2,
       "version_minor": 0
      },
      "text/plain": [
       "NGLWidget()"
      ]
     },
     "metadata": {},
     "output_type": "display_data"
    }
   ],
   "source": [
    "view"
   ]
  },
  {
   "cell_type": "code",
   "execution_count": null,
   "id": "5ec09ee0-fb29-4bdf-bc51-ed072b49c278",
   "metadata": {},
   "outputs": [],
   "source": []
  }
 ],
 "metadata": {
  "kernelspec": {
   "display_name": "Python 3 (ipykernel)",
   "language": "python",
   "name": "python3"
  },
  "language_info": {
   "codemirror_mode": {
    "name": "ipython",
    "version": 3
   },
   "file_extension": ".py",
   "mimetype": "text/x-python",
   "name": "python",
   "nbconvert_exporter": "python",
   "pygments_lexer": "ipython3",
   "version": "3.12.8"
  }
 },
 "nbformat": 4,
 "nbformat_minor": 5
}
