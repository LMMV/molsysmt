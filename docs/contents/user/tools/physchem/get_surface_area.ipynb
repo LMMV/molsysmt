{
 "cells": [
  {
   "cell_type": "markdown",
   "id": "1daf6537-58f0-496f-acb0-e771d4735b7d",
   "metadata": {
    "editable": true,
    "slideshow": {
     "slide_type": ""
    },
    "tags": []
   },
   "source": [
    "# Get surface area"
   ]
  },
  {
   "cell_type": "code",
   "execution_count": 1,
   "id": "c3c463fe-1210-480d-92f5-8f1ea78368c2",
   "metadata": {},
   "outputs": [
    {
     "data": {
      "application/vnd.jupyter.widget-view+json": {
       "model_id": "e666a897d99343e1a042ad6f15a92299",
       "version_major": 2,
       "version_minor": 0
      },
      "text/plain": []
     },
     "metadata": {},
     "output_type": "display_data"
    }
   ],
   "source": [
    "import molsysmt as msm"
   ]
  },
  {
   "cell_type": "code",
   "execution_count": 2,
   "id": "1ed6cd3f-f072-4170-b4c4-3ffd5d108620",
   "metadata": {},
   "outputs": [],
   "source": [
    "molecular_system = msm.convert(msm.systems['T4 lysozyme L99A']['181l.h5msm'],\n",
    "                               selection='molecule_type==\"protein\"')"
   ]
  },
  {
   "cell_type": "code",
   "execution_count": 3,
   "id": "d0c815a4-0e7d-443a-964e-1f03deab9dfb",
   "metadata": {},
   "outputs": [],
   "source": [
    "sa_groups = msm.physchem.get_surface_area(molecular_system, element='group', definition='collantes')"
   ]
  },
  {
   "cell_type": "code",
   "execution_count": 6,
   "id": "77572151-bb73-454f-9f8f-ee96cc8ab05a",
   "metadata": {},
   "outputs": [],
   "source": [
    "view = msm.view(molecular_system)\n",
    "msm.thirds.nglview.set_color_by_value(view, values=sa_groups, min_value=0.0, cmap=\"Purples\")"
   ]
  },
  {
   "cell_type": "code",
   "execution_count": 7,
   "id": "9ef781fd-c692-42ff-9d03-ccda6fd16f4c",
   "metadata": {},
   "outputs": [
    {
     "data": {
      "application/vnd.jupyter.widget-view+json": {
       "model_id": "ec400b2f8a9a44cf9f090fb00136f7e8",
       "version_major": 2,
       "version_minor": 0
      },
      "text/plain": [
       "NGLWidget()"
      ]
     },
     "metadata": {},
     "output_type": "display_data"
    }
   ],
   "source": [
    "view"
   ]
  },
  {
   "cell_type": "code",
   "execution_count": null,
   "id": "9d23a125-b442-41a6-9832-2d0149027e18",
   "metadata": {},
   "outputs": [],
   "source": []
  }
 ],
 "metadata": {
  "kernelspec": {
   "display_name": "Python 3 (ipykernel)",
   "language": "python",
   "name": "python3"
  },
  "language_info": {
   "codemirror_mode": {
    "name": "ipython",
    "version": 3
   },
   "file_extension": ".py",
   "mimetype": "text/x-python",
   "name": "python",
   "nbconvert_exporter": "python",
   "pygments_lexer": "ipython3",
   "version": "3.12.8"
  }
 },
 "nbformat": 4,
 "nbformat_minor": 5
}
