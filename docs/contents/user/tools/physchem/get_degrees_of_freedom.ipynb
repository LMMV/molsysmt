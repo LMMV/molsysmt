{
 "cells": [
  {
   "cell_type": "markdown",
   "id": "1daf6537-58f0-496f-acb0-e771d4735b7d",
   "metadata": {
    "editable": true,
    "slideshow": {
     "slide_type": ""
    },
    "tags": []
   },
   "source": [
    "# Get degrees of freedom"
   ]
  },
  {
   "cell_type": "code",
   "execution_count": 1,
   "id": "c3c463fe-1210-480d-92f5-8f1ea78368c2",
   "metadata": {},
   "outputs": [
    {
     "data": {
      "application/vnd.jupyter.widget-view+json": {
       "model_id": "0284911ac0384dedab7df90691974d44",
       "version_major": 2,
       "version_minor": 0
      },
      "text/plain": []
     },
     "metadata": {},
     "output_type": "display_data"
    }
   ],
   "source": [
    "import molsysmt as msm"
   ]
  },
  {
   "cell_type": "code",
   "execution_count": 2,
   "id": "e7556259-8097-42ae-98b6-498fc1fc7499",
   "metadata": {},
   "outputs": [],
   "source": [
    "molecular_system = msm.convert(msm.systems['T4 lysozyme L99A']['181l.h5msm'],\n",
    "                               selection='molecule_type==\"protein\"')"
   ]
  },
  {
   "cell_type": "code",
   "execution_count": 3,
   "id": "0deba7c2-1f88-4d7b-94fa-d9c598f00cb4",
   "metadata": {},
   "outputs": [],
   "source": [
    "tt_groups = msm.physchem.get_transmembrane_tendency(molecular_system, element='group',\n",
    "                                                    definition='zhao')"
   ]
  },
  {
   "cell_type": "code",
   "execution_count": 8,
   "id": "3a4ea51e-4fb4-4e05-80b8-dc0de2dca5a8",
   "metadata": {},
   "outputs": [],
   "source": [
    "view = msm.view(molecular_system)\n",
    "msm.thirds.nglview.set_color_by_value(view, values=tt_groups, mid_value=0.0)"
   ]
  },
  {
   "cell_type": "code",
   "execution_count": 9,
   "id": "7226e658-3abc-430d-9b5d-fbf2bdbec625",
   "metadata": {},
   "outputs": [
    {
     "data": {
      "application/vnd.jupyter.widget-view+json": {
       "model_id": "e647cca337d346f1b9d9ad122fc00568",
       "version_major": 2,
       "version_minor": 0
      },
      "text/plain": [
       "NGLWidget()"
      ]
     },
     "metadata": {},
     "output_type": "display_data"
    }
   ],
   "source": [
    "view"
   ]
  },
  {
   "cell_type": "code",
   "execution_count": null,
   "id": "c7add9be-10a1-4e9d-abad-0da19da10bdb",
   "metadata": {},
   "outputs": [],
   "source": []
  }
 ],
 "metadata": {
  "kernelspec": {
   "display_name": "Python 3 (ipykernel)",
   "language": "python",
   "name": "python3"
  },
  "language_info": {
   "codemirror_mode": {
    "name": "ipython",
    "version": 3
   },
   "file_extension": ".py",
   "mimetype": "text/x-python",
   "name": "python",
   "nbconvert_exporter": "python",
   "pygments_lexer": "ipython3",
   "version": "3.12.8"
  }
 },
 "nbformat": 4,
 "nbformat_minor": 5
}
