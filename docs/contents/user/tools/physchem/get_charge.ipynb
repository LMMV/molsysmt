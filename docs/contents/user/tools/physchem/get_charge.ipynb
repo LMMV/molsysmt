{
 "cells": [
  {
   "cell_type": "markdown",
   "id": "1daf6537-58f0-496f-acb0-e771d4735b7d",
   "metadata": {
    "editable": true,
    "slideshow": {
     "slide_type": ""
    },
    "tags": []
   },
   "source": [
    "# Get charge"
   ]
  },
  {
   "cell_type": "code",
   "execution_count": 1,
   "id": "76439ef2-0a82-4260-bbce-342473008fef",
   "metadata": {},
   "outputs": [
    {
     "data": {
      "application/vnd.jupyter.widget-view+json": {
       "model_id": "54a46f8787704fd6b2dcff8fa2b628ab",
       "version_major": 2,
       "version_minor": 0
      },
      "text/plain": []
     },
     "metadata": {},
     "output_type": "display_data"
    }
   ],
   "source": [
    "import molsysmt as msm"
   ]
  },
  {
   "cell_type": "code",
   "execution_count": 2,
   "id": "af381561-43ad-4288-a5ef-2526ab98b1fe",
   "metadata": {},
   "outputs": [],
   "source": [
    "molecular_system = msm.convert(msm.systems['T4 lysozyme L99A']['181l.h5msm'],\n",
    "                               selection='molecule_type==\"protein\"')"
   ]
  },
  {
   "cell_type": "code",
   "execution_count": 3,
   "id": "e4adeac8-61f1-452d-863e-9d927c1058a6",
   "metadata": {},
   "outputs": [],
   "source": [
    "charge_groups = msm.physchem.get_charge(molecular_system, element='group', definition='physical_pH7')"
   ]
  },
  {
   "cell_type": "code",
   "execution_count": 4,
   "id": "53ac9935-9b12-435f-98dd-b1cfe5e1122e",
   "metadata": {},
   "outputs": [
    {
     "data": {
      "text/html": [
       "<table><tbody><tr><th>Magnitude</th><td style='text-align:left;'><pre>[0.0 0.0 0.0 0.0 -1.0 0.0 0.0 1.0 0.0 -1.0 -1.0 0.0 0.0 1.0 0.0 1.0 0.0 0.0 1.0 -1.0 0.0 -1.0 0.0 0.0 0.0 0.0 0.0 0.0 0.0 0.0 0.1 0.0 0.0 0.0 1.0 0.0 0.0 0.0 0.0 0.0 0.0 0.0 1.0 0.0 -1.0 0.0 -1.0 1.0 0.0 0.0 0.0 1.0 0.0 0.0 0.0 0.0 0.0 0.0 0.0 1.0 -1.0 -1.0 0.0 -1.0 1.0 0.0 0.0 0.0 0.0 -1.0 0.0 -1.0 0.0 0.0 0.0 1.0 0.0 0.0 0.0 1.0 0.0 0.0 1.0 0.0 1.0 0.0 0.0 0.0 -1.0 0.0 0.0 -1.0 0.0 0.0 1.0 1.0 0.0 0.0 0.0 0.0 0.0 0.0 0.0 0.0 0.0 0.0 0.0 -1.0 0.0 0.0 0.0 0.0 0.0 0.0 0.0 0.0 0.0 0.0 1.0 0.0 0.0 0.0 0.0 1.0 1.0 0.0 -1.0 -1.0 0.0 0.0 0.0 0.0 0.0 0.0 1.0 0.0 1.0 0.0 0.0 0.0 0.0 0.0 0.0 0.0 1.0 0.0 1.0 1.0 0.0 0.0 0.0 0.0 0.0 1.0 0.0 0.0 0.0 0.0 -1.0 0.0 0.0 1.0]</pre></td></tr><tr><th>Units</th><td style='text-align:left;'>elementary_charge</td></tr></tbody></table>"
      ],
      "text/latex": [
       "$\\begin{pmatrix} &  &  &  &  &  &  &  &  &  &  &  &  &  &  &  &  &  &  &  &  &  &  &  &  &  &  &  &  &  &  &  &  &  &  &  &  &  &  &  &  &  &  &  &  &  &  &  &  &  &  &  &  &  &  &  &  &  &  &  &  &  &  &  &  &  &  &  &  &  &  &  &  &  &  &  &  &  &  &  &  &  &  &  &  &  &  &  &  &  &  &  &  &  &  &  &  &  &  &  &  &  &  &  &  &  &  &  &  &  &  &  &  &  &  &  &  &  &  &  &  &  &  &  &  &  &  &  &  &  &  &  &  &  &  &  &  &  &  &  &  &  &  &  &  &  &  &  &  &  &  &  &  &  &  &  &  &  &  &  &  & \\end{pmatrix}\\ \\mathrm{elementary\\_charge}$"
      ],
      "text/plain": [
       "<Quantity([ 0.   0.   0.   0.  -1.   0.   0.   1.   0.  -1.  -1.   0.   0.   1.\n",
       "  0.   1.   0.   0.   1.  -1.   0.  -1.   0.   0.   0.   0.   0.   0.\n",
       "  0.   0.   0.1  0.   0.   0.   1.   0.   0.   0.   0.   0.   0.   0.\n",
       "  1.   0.  -1.   0.  -1.   1.   0.   0.   0.   1.   0.   0.   0.   0.\n",
       "  0.   0.   0.   1.  -1.  -1.   0.  -1.   1.   0.   0.   0.   0.  -1.\n",
       "  0.  -1.   0.   0.   0.   1.   0.   0.   0.   1.   0.   0.   1.   0.\n",
       "  1.   0.   0.   0.  -1.   0.   0.  -1.   0.   0.   1.   1.   0.   0.\n",
       "  0.   0.   0.   0.   0.   0.   0.   0.   0.  -1.   0.   0.   0.   0.\n",
       "  0.   0.   0.   0.   0.   0.   1.   0.   0.   0.   0.   1.   1.   0.\n",
       " -1.  -1.   0.   0.   0.   0.   0.   0.   1.   0.   1.   0.   0.   0.\n",
       "  0.   0.   0.   0.   1.   0.   1.   1.   0.   0.   0.   0.   0.   1.\n",
       "  0.   0.   0.   0.  -1.   0.   0.   1. ], 'elementary_charge')>"
      ]
     },
     "execution_count": 4,
     "metadata": {},
     "output_type": "execute_result"
    }
   ],
   "source": [
    "charge_groups"
   ]
  },
  {
   "cell_type": "code",
   "execution_count": 5,
   "id": "9e24a5d7-3373-42db-8747-fbfd7a51d7f2",
   "metadata": {},
   "outputs": [],
   "source": [
    "view = msm.view(molecular_system)\n",
    "msm.thirds.nglview.set_color_by_value(view, values=charge_groups)"
   ]
  },
  {
   "cell_type": "code",
   "execution_count": 6,
   "id": "68b5815c-b1e2-42f9-8c77-cb55be18a3d3",
   "metadata": {},
   "outputs": [
    {
     "data": {
      "application/vnd.jupyter.widget-view+json": {
       "model_id": "c5901ebaedd548ed9b3676148d2604d8",
       "version_major": 2,
       "version_minor": 0
      },
      "text/plain": [
       "NGLWidget()"
      ]
     },
     "metadata": {},
     "output_type": "display_data"
    }
   ],
   "source": [
    "view"
   ]
  },
  {
   "cell_type": "code",
   "execution_count": 7,
   "id": "99931c09-e2b3-48ff-9ec9-084f1bc13efd",
   "metadata": {},
   "outputs": [],
   "source": [
    "from openmm import app\n",
    "molsys = msm.systems['Trp-Cage']['1l2y.h5msm']\n",
    "openmm_topology = msm.convert(molsys, to_form='openmm.Topology')\n",
    "\n",
    "forcefield = app.ForceField(\"amber14-all.xml\", \"amber14/tip3p.xml\")\n",
    "system = forcefield.createSystem(openmm_topology, nonbondedMethod=app.NoCutoff, constraints=app.HBonds)"
   ]
  },
  {
   "cell_type": "code",
   "execution_count": 8,
   "id": "7879f034-a60b-4781-b7aa-70ddb0c1ec4f",
   "metadata": {},
   "outputs": [],
   "source": [
    "charge_atom = msm.physchem.get_charge(openmm_topology, element='atom', definition='OpenMM')"
   ]
  },
  {
   "cell_type": "code",
   "execution_count": 9,
   "id": "8dd7b039-3277-4010-b6d9-32d7623589f0",
   "metadata": {},
   "outputs": [],
   "source": [
    "view = msm.view(molsys, structure_indices=0)\n",
    "view.clear()\n",
    "msm.thirds.nglview.set_color_by_value(view, element='atom', values=charge_atom, mid_value=0.0, representation='licorice')"
   ]
  },
  {
   "cell_type": "code",
   "execution_count": 10,
   "id": "5faac691-56a9-4aae-9e03-336e8e7611b6",
   "metadata": {},
   "outputs": [
    {
     "data": {
      "application/vnd.jupyter.widget-view+json": {
       "model_id": "ec6419d25d344e8090c29bdc33a1bbba",
       "version_major": 2,
       "version_minor": 0
      },
      "text/plain": [
       "NGLWidget()"
      ]
     },
     "metadata": {},
     "output_type": "display_data"
    }
   ],
   "source": [
    "view"
   ]
  },
  {
   "cell_type": "code",
   "execution_count": 11,
   "id": "3dc76f9a-7a6f-468f-8d2a-7c9d9a0b0478",
   "metadata": {},
   "outputs": [],
   "source": [
    "charge_system = msm.physchem.get_charge(system, element='system', definition='OpenMM')"
   ]
  },
  {
   "cell_type": "code",
   "execution_count": 12,
   "id": "63e932bf-47d3-49ce-8431-1c6ceb88850b",
   "metadata": {},
   "outputs": [
    {
     "data": {
      "text/html": [
       "1.0 elementary_charge"
      ],
      "text/latex": [
       "$1.0\\ \\mathrm{elementary\\_charge}$"
      ],
      "text/plain": [
       "<Quantity(1.0, 'elementary_charge')>"
      ]
     },
     "execution_count": 12,
     "metadata": {},
     "output_type": "execute_result"
    }
   ],
   "source": [
    "charge_system"
   ]
  },
  {
   "cell_type": "code",
   "execution_count": 15,
   "id": "c2da9b58-44c8-41cb-85fa-90d08ae5388b",
   "metadata": {},
   "outputs": [
    {
     "data": {
      "text/html": [
       "1.0 elementary_charge"
      ],
      "text/latex": [
       "$1.0\\ \\mathrm{elementary\\_charge}$"
      ],
      "text/plain": [
       "<Quantity(1.0, 'elementary_charge')>"
      ]
     },
     "execution_count": 15,
     "metadata": {},
     "output_type": "execute_result"
    }
   ],
   "source": [
    "msm.physchem.get_charge(openmm_topology, element='system', definition='OpenMM')"
   ]
  },
  {
   "cell_type": "code",
   "execution_count": null,
   "id": "28381580-90f7-46dc-8f0f-fbfcc3b65cd1",
   "metadata": {},
   "outputs": [],
   "source": []
  }
 ],
 "metadata": {
  "kernelspec": {
   "display_name": "Python 3 (ipykernel)",
   "language": "python",
   "name": "python3"
  },
  "language_info": {
   "codemirror_mode": {
    "name": "ipython",
    "version": 3
   },
   "file_extension": ".py",
   "mimetype": "text/x-python",
   "name": "python",
   "nbconvert_exporter": "python",
   "pygments_lexer": "ipython3",
   "version": "3.12.8"
  }
 },
 "nbformat": 4,
 "nbformat_minor": 5
}
