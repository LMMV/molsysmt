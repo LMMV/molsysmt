{
 "cells": [
  {
   "cell_type": "code",
   "execution_count": 1,
   "id": "83ecdd1d-aa92-443d-9fa7-dfe3adac50c2",
   "metadata": {
    "execution": {
     "iopub.execute_input": "2025-03-11T21:05:30.142134Z",
     "iopub.status.busy": "2025-03-11T21:05:30.141482Z",
     "iopub.status.idle": "2025-03-11T21:05:30.146604Z",
     "shell.execute_reply": "2025-03-11T21:05:30.145801Z"
    },
    "tags": [
     "remove-input"
    ]
   },
   "outputs": [],
   "source": [
    "# This cell is removed with the tag: \"remove-input\"\n",
    "# As such, it will not be shown in documentation\n",
    "\n",
    "#import warnings\n",
    "#warnings.filterwarnings('ignore')"
   ]
  },
  {
   "cell_type": "markdown",
   "id": "095d0ac2-57d4-4581-ad7a-d1c3c3da7891",
   "metadata": {},
   "source": [
    "(UTF_Has_attribute)=\n",
    "# Has attribute\n",
    "\n",
    "*Checking if a molecular system's form has a certain attribute.*\n",
    "\n",
    "Not all forms of a molecular system have the same attributes. For instance, a \"string:aminoacids3\" system has no atom coordinates, or a \"file:prminp\" has no atom names. In order to check whether or not a molecular systems' form has a specific attribute, MolSysMT provides a specific function in the `form` module: {func}`molsysmt.form.has_attribute`. \n",
    "\n",
    "## How this function works\n",
    "\n",
    ":::{admonition} API documentation\n",
    "Follow this link for a detailed description of the input arguments, raised errors, and returned objects of this function:{func}`molsysmt.form.has_attribute`.\n",
    ":::\n",
    "\n",
    "Let's illustrate the use of {func}`molsysmt.form.has_attribute` with the following examples:"
   ]
  },
  {
   "cell_type": "code",
   "execution_count": 2,
   "id": "ccf509b5-a79a-41f7-b432-789945069627",
   "metadata": {
    "execution": {
     "iopub.execute_input": "2025-03-11T21:05:30.150055Z",
     "iopub.status.busy": "2025-03-11T21:05:30.149391Z",
     "iopub.status.idle": "2025-03-11T21:05:38.942492Z",
     "shell.execute_reply": "2025-03-11T21:05:38.941502Z"
    },
    "tags": []
   },
   "outputs": [
    {
     "data": {
      "application/vnd.jupyter.widget-view+json": {
       "model_id": "ee867fce753f44f486da18e7da1d1dcd",
       "version_major": 2,
       "version_minor": 0
      },
      "text/plain": []
     },
     "metadata": {},
     "output_type": "display_data"
    }
   ],
   "source": [
    "import molsysmt as msm"
   ]
  },
  {
   "cell_type": "code",
   "execution_count": 3,
   "id": "86924b7a-ae89-49b9-8ef1-698fa31b9499",
   "metadata": {
    "execution": {
     "iopub.execute_input": "2025-03-11T21:05:38.947099Z",
     "iopub.status.busy": "2025-03-11T21:05:38.945849Z",
     "iopub.status.idle": "2025-03-11T21:05:38.958226Z",
     "shell.execute_reply": "2025-03-11T21:05:38.957297Z"
    },
    "tags": []
   },
   "outputs": [
    {
     "data": {
      "text/plain": [
       "True"
      ]
     },
     "execution_count": 3,
     "metadata": {},
     "output_type": "execute_result"
    }
   ],
   "source": [
    "msm.form.has_attribute('file:inpcrd', attribute='box')"
   ]
  },
  {
   "cell_type": "code",
   "execution_count": 4,
   "id": "032488bc-9cc2-4f15-906b-717849d17885",
   "metadata": {
    "execution": {
     "iopub.execute_input": "2025-03-11T21:05:38.962336Z",
     "iopub.status.busy": "2025-03-11T21:05:38.961656Z",
     "iopub.status.idle": "2025-03-11T21:05:38.968269Z",
     "shell.execute_reply": "2025-03-11T21:05:38.967320Z"
    },
    "tags": []
   },
   "outputs": [
    {
     "data": {
      "text/plain": [
       "False"
      ]
     },
     "execution_count": 4,
     "metadata": {},
     "output_type": "execute_result"
    }
   ],
   "source": [
    "msm.form.has_attribute('file:inpcrd', attribute='group_name')"
   ]
  },
  {
   "cell_type": "code",
   "execution_count": 5,
   "id": "61a42837-74dc-4ef3-b7b6-698cf42fe624",
   "metadata": {
    "execution": {
     "iopub.execute_input": "2025-03-11T21:05:38.971919Z",
     "iopub.status.busy": "2025-03-11T21:05:38.971245Z",
     "iopub.status.idle": "2025-03-11T21:05:38.977771Z",
     "shell.execute_reply": "2025-03-11T21:05:38.976813Z"
    }
   },
   "outputs": [
    {
     "data": {
      "text/plain": [
       "True"
      ]
     },
     "execution_count": 5,
     "metadata": {},
     "output_type": "execute_result"
    }
   ],
   "source": [
    "msm.form.has_attribute(['molsysmt.Topology','file:inpcrd'], attribute='group_name')"
   ]
  },
  {
   "cell_type": "markdown",
   "id": "69fb7ffa-fb4f-47a5-9f3a-e1d92c5d6b24",
   "metadata": {},
   "source": [
    ":::{seealso}\n",
    "[User guide > Introduction > Molecular System > Attributes](../../intro/molecular_systems/attributes.ipynb):    \n",
    "[User guide > Tools > Form > Get attributes](get_attributes.ipynb):      \n",
    ":::"
   ]
  }
 ],
 "metadata": {
  "kernelspec": {
   "display_name": "Python 3 (ipykernel)",
   "language": "python",
   "name": "python3"
  },
  "language_info": {
   "codemirror_mode": {
    "name": "ipython",
    "version": 3
   },
   "file_extension": ".py",
   "mimetype": "text/x-python",
   "name": "python",
   "nbconvert_exporter": "python",
   "pygments_lexer": "ipython3",
   "version": "3.12.8"
  },
  "widgets": {
   "application/vnd.jupyter.widget-state+json": {
    "state": {
     "c6bbd45a5be84f3b818162f2b0f890e5": {
      "model_module": "@jupyter-widgets/base",
      "model_module_version": "2.0.0",
      "model_name": "LayoutModel",
      "state": {
       "_model_module": "@jupyter-widgets/base",
       "_model_module_version": "2.0.0",
       "_model_name": "LayoutModel",
       "_view_count": null,
       "_view_module": "@jupyter-widgets/base",
       "_view_module_version": "2.0.0",
       "_view_name": "LayoutView",
       "align_content": null,
       "align_items": null,
       "align_self": null,
       "border_bottom": null,
       "border_left": null,
       "border_right": null,
       "border_top": null,
       "bottom": null,
       "display": null,
       "flex": null,
       "flex_flow": null,
       "grid_area": null,
       "grid_auto_columns": null,
       "grid_auto_flow": null,
       "grid_auto_rows": null,
       "grid_column": null,
       "grid_gap": null,
       "grid_row": null,
       "grid_template_areas": null,
       "grid_template_columns": null,
       "grid_template_rows": null,
       "height": null,
       "justify_content": null,
       "justify_items": null,
       "left": null,
       "margin": null,
       "max_height": null,
       "max_width": null,
       "min_height": null,
       "min_width": null,
       "object_fit": null,
       "object_position": null,
       "order": null,
       "overflow": null,
       "padding": null,
       "right": null,
       "top": null,
       "visibility": null,
       "width": null
      }
     },
     "ee867fce753f44f486da18e7da1d1dcd": {
      "model_module": "nglview-js-widgets",
      "model_module_version": "3.1.4",
      "model_name": "ColormakerRegistryModel",
      "state": {
       "_dom_classes": [],
       "_model_module": "nglview-js-widgets",
       "_model_module_version": "3.1.4",
       "_model_name": "ColormakerRegistryModel",
       "_msg_ar": [],
       "_msg_q": [],
       "_ready": false,
       "_view_count": null,
       "_view_module": "nglview-js-widgets",
       "_view_module_version": "3.1.4",
       "_view_name": "ColormakerRegistryView",
       "layout": "IPY_MODEL_c6bbd45a5be84f3b818162f2b0f890e5",
       "tabbable": null,
       "tooltip": null
      }
     }
    },
    "version_major": 2,
    "version_minor": 0
   }
  }
 },
 "nbformat": 4,
 "nbformat_minor": 5
}
