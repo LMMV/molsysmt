{
 "cells": [
  {
   "cell_type": "code",
   "execution_count": 1,
   "id": "7c755cb8-b260-4d73-9e84-90d6a20dd0eb",
   "metadata": {
    "execution": {
     "iopub.execute_input": "2025-03-11T21:05:30.037714Z",
     "iopub.status.busy": "2025-03-11T21:05:30.037096Z",
     "iopub.status.idle": "2025-03-11T21:05:30.042593Z",
     "shell.execute_reply": "2025-03-11T21:05:30.041842Z"
    },
    "tags": [
     "remove-input"
    ]
   },
   "outputs": [],
   "source": [
    "# This cell is removed with the tag: \"remove-input\"\n",
    "# As such, it will not be shown in documentation\n",
    "\n",
    "#import warnings\n",
    "#warnings.filterwarnings('ignore')"
   ]
  },
  {
   "cell_type": "markdown",
   "id": "095d0ac2-57d4-4581-ad7a-d1c3c3da7891",
   "metadata": {},
   "source": [
    "(UTF_Get_attributes)=\n",
    "# Get attributes\n",
    "\n",
    "*Getting the list of attributes of a molecular system's form.*\n",
    "\n",
    "Moleculars systems have attributes such as number of atoms, group ids, box shape or water model. The set of attributes of a system and its elements defines the system. It is what makes a molecular system different from others. And given that a system can take different forms, the number of attributes is limited by each form. For instance, a PDB file (form:\"file:pdb\") can store the atom names of a protein and the spatial coordinates of at least one structure, but the sequence of the one-letter code of its aminoacids (form:\"string:aminoacids1\") defines also a molecular system (the same system) but with an only attribute -the group names- (without atom names and spatial coordinates). As such, the set of attributes of a specific form of a molecular system form contains all the information about the system this form can store or provide.\n",
    "\n",
    ":::{hint}\n",
    "Visit the section [User guide > Introduction > Molecular System](../../intro/molecular_systems/index.md) in case you are not familiar with the concepts of \"form\" or \"attribute\" in MolSysMT.\n",
    ":::\n",
    "\n",
    "The list of attributes defined in MolSysMT for a molecular system can be checked in the section [User guide > Introduction > Molecular system > Attributes](../../indtroduction/molecular_system/attributes.ipynb). And given a molecular systems' form, the function {func}`molsysmt.form.get_attributes` returns a dictionary or a list where the user can find whether or not a specific attribute is present.\n",
    "\n",
    "## How this function works\n",
    "\n",
    ":::{admonition} API documentation\n",
    "Follow this link for a detailed description of the input arguments, raised errors, and returned objects of this function:{func}`molsysmt.form.get_attributes`.\n",
    ":::"
   ]
  },
  {
   "cell_type": "code",
   "execution_count": 2,
   "id": "bbecf5a9-b8d3-49ac-85e3-e7cea880c231",
   "metadata": {
    "execution": {
     "iopub.execute_input": "2025-03-11T21:05:30.045830Z",
     "iopub.status.busy": "2025-03-11T21:05:30.045510Z",
     "iopub.status.idle": "2025-03-11T21:05:38.340011Z",
     "shell.execute_reply": "2025-03-11T21:05:38.339000Z"
    }
   },
   "outputs": [
    {
     "data": {
      "application/vnd.jupyter.widget-view+json": {
       "model_id": "ea8c2c7b5c694478ae1bc1c64c1d11b4",
       "version_major": 2,
       "version_minor": 0
      },
      "text/plain": []
     },
     "metadata": {},
     "output_type": "display_data"
    }
   ],
   "source": [
    "import molsysmt as msm"
   ]
  },
  {
   "cell_type": "code",
   "execution_count": 3,
   "id": "dcaa17b3-57a1-4335-bd47-53156e6fc0fb",
   "metadata": {
    "execution": {
     "iopub.execute_input": "2025-03-11T21:05:38.344645Z",
     "iopub.status.busy": "2025-03-11T21:05:38.343302Z",
     "iopub.status.idle": "2025-03-11T21:05:38.348991Z",
     "shell.execute_reply": "2025-03-11T21:05:38.348011Z"
    }
   },
   "outputs": [],
   "source": [
    "dict_attributes = msm.form.get_attributes('openmm.Topology')"
   ]
  },
  {
   "cell_type": "markdown",
   "id": "cf52ffd6-04cc-4906-9f70-073a4ae98764",
   "metadata": {},
   "source": [
    "Let's inspect the resultant dictionary printing out only the keys with True value:"
   ]
  },
  {
   "cell_type": "code",
   "execution_count": 4,
   "id": "b1cd56d3-1541-4504-94bf-810518ab150c",
   "metadata": {
    "execution": {
     "iopub.execute_input": "2025-03-11T21:05:38.352859Z",
     "iopub.status.busy": "2025-03-11T21:05:38.352105Z",
     "iopub.status.idle": "2025-03-11T21:05:38.357823Z",
     "shell.execute_reply": "2025-03-11T21:05:38.356925Z"
    }
   },
   "outputs": [
    {
     "name": "stdout",
     "output_type": "stream",
     "text": [
      "['atom_index', 'atom_name', 'atom_id', 'atom_type', 'group_index', 'group_name', 'group_id', 'group_type', 'component_index', 'component_name', 'component_id', 'component_type', 'chain_index', 'chain_name', 'chain_id', 'chain_type', 'molecule_index', 'molecule_name', 'molecule_id', 'molecule_type', 'entity_index', 'entity_type', 'bond_index', 'bonded_atoms', 'bonded_atom_pairs', 'inner_bonded_atoms', 'inner_bonded_atom_pairs', 'inner_bond_index', 'n_atoms', 'n_groups', 'n_components', 'n_chains', 'n_molecules', 'n_entities', 'n_bonds', 'n_inner_bonds', 'n_amino_acids', 'n_ions', 'n_waters', 'n_small_molecules', 'n_peptides', 'n_proteins', 'n_dnas', 'n_rnas', 'n_lipids', 'n_oligosaccharides', 'n_saccharides', 'box', 'box_shape', 'box_angles', 'box_lengths', 'box_volume']\n"
     ]
    }
   ],
   "source": [
    "print([key for key,value in dict_attributes.items() if value])"
   ]
  },
  {
   "cell_type": "markdown",
   "id": "872fc2d7-8da3-4a8b-97ec-533494ee67eb",
   "metadata": {},
   "source": [
    "As it was mentioned before, not all forms have the same attributes. Let's illustrate this having five different forms:"
   ]
  },
  {
   "cell_type": "code",
   "execution_count": 5,
   "id": "45cc237c-7947-4486-b8c7-bf1c9daae40d",
   "metadata": {
    "execution": {
     "iopub.execute_input": "2025-03-11T21:05:38.362146Z",
     "iopub.status.busy": "2025-03-11T21:05:38.361622Z",
     "iopub.status.idle": "2025-03-11T21:05:38.367803Z",
     "shell.execute_reply": "2025-03-11T21:05:38.366875Z"
    }
   },
   "outputs": [],
   "source": [
    "dict_attributes_A = msm.form.get_attributes('file:mmtf')\n",
    "dict_attributes_B = msm.form.get_attributes('molsysmt.MolSys')\n",
    "dict_attributes_C = msm.form.get_attributes('openmm.Topology')\n",
    "dict_attributes_D = msm.form.get_attributes('XYZ')\n",
    "dict_attributes_E = msm.form.get_attributes('string:amino_acids_3')"
   ]
  },
  {
   "cell_type": "markdown",
   "id": "d1b0b5e9-be2f-45ce-ab93-4afc78e0d133",
   "metadata": {},
   "source": [
    "We can check now what forms have group names:"
   ]
  },
  {
   "cell_type": "code",
   "execution_count": 6,
   "id": "3f45ae63-7649-4a61-ab05-719589307e96",
   "metadata": {
    "execution": {
     "iopub.execute_input": "2025-03-11T21:05:38.371526Z",
     "iopub.status.busy": "2025-03-11T21:05:38.370852Z",
     "iopub.status.idle": "2025-03-11T21:05:38.377145Z",
     "shell.execute_reply": "2025-03-11T21:05:38.376066Z"
    }
   },
   "outputs": [
    {
     "name": "stdout",
     "output_type": "stream",
     "text": [
      "In A: True\n",
      "In B: True\n",
      "In C: True\n",
      "In D: False\n",
      "In E: True\n"
     ]
    }
   ],
   "source": [
    "attribute = 'group_name'\n",
    "\n",
    "print('In A:', dict_attributes_A[attribute])\n",
    "print('In B:', dict_attributes_B[attribute])\n",
    "print('In C:', dict_attributes_C[attribute])\n",
    "print('In D:', dict_attributes_D[attribute])\n",
    "print('In E:', dict_attributes_E[attribute])"
   ]
  },
  {
   "cell_type": "markdown",
   "id": "3089cae6-7db4-448d-af21-7e21a6b0c89e",
   "metadata": {},
   "source": [
    "Or what forms have entity names, box, or coordinates:"
   ]
  },
  {
   "cell_type": "code",
   "execution_count": 7,
   "id": "20315d98-9487-4215-aad5-3495699b340b",
   "metadata": {
    "execution": {
     "iopub.execute_input": "2025-03-11T21:05:38.380755Z",
     "iopub.status.busy": "2025-03-11T21:05:38.380302Z",
     "iopub.status.idle": "2025-03-11T21:05:38.386141Z",
     "shell.execute_reply": "2025-03-11T21:05:38.385345Z"
    }
   },
   "outputs": [
    {
     "name": "stdout",
     "output_type": "stream",
     "text": [
      "In A: True\n",
      "In B: True\n",
      "In C: False\n",
      "In D: False\n",
      "In E: False\n"
     ]
    }
   ],
   "source": [
    "attribute = 'entity_name'\n",
    "\n",
    "print('In A:', dict_attributes_A[attribute])\n",
    "print('In B:', dict_attributes_B[attribute])\n",
    "print('In C:', dict_attributes_C[attribute])\n",
    "print('In D:', dict_attributes_D[attribute])\n",
    "print('In E:', dict_attributes_E[attribute])"
   ]
  },
  {
   "cell_type": "code",
   "execution_count": 8,
   "id": "84a273f8-fe32-4e2c-8e30-f04eadc47582",
   "metadata": {
    "execution": {
     "iopub.execute_input": "2025-03-11T21:05:38.389688Z",
     "iopub.status.busy": "2025-03-11T21:05:38.388989Z",
     "iopub.status.idle": "2025-03-11T21:05:38.394740Z",
     "shell.execute_reply": "2025-03-11T21:05:38.393728Z"
    }
   },
   "outputs": [
    {
     "name": "stdout",
     "output_type": "stream",
     "text": [
      "In A: True\n",
      "In B: True\n",
      "In C: True\n",
      "In D: False\n",
      "In E: False\n"
     ]
    }
   ],
   "source": [
    "attribute = 'box'\n",
    "\n",
    "print('In A:', dict_attributes_A[attribute])\n",
    "print('In B:', dict_attributes_B[attribute])\n",
    "print('In C:', dict_attributes_C[attribute])\n",
    "print('In D:', dict_attributes_D[attribute])\n",
    "print('In E:', dict_attributes_E[attribute])"
   ]
  },
  {
   "cell_type": "markdown",
   "id": "890015d4-8739-408f-9613-15b10a659c0d",
   "metadata": {},
   "source": [
    ":::{seealso}\n",
    "[User guide > Introduction > Molecular System > Forms](../../intro/molecular_systems/forms.md):    \n",
    "[User guide > Introduction > Molecular System > Attributes](../../intro/molecular_systems/attributes.ipynb):    \n",
    "[User guide > Tools > Basic > Get attributes](get_attributes.ipynb):     \n",
    ":::"
   ]
  }
 ],
 "metadata": {
  "kernelspec": {
   "display_name": "Python 3 (ipykernel)",
   "language": "python",
   "name": "python3"
  },
  "language_info": {
   "codemirror_mode": {
    "name": "ipython",
    "version": 3
   },
   "file_extension": ".py",
   "mimetype": "text/x-python",
   "name": "python",
   "nbconvert_exporter": "python",
   "pygments_lexer": "ipython3",
   "version": "3.12.8"
  },
  "widgets": {
   "application/vnd.jupyter.widget-state+json": {
    "state": {
     "32f5d1ad114f409cb4c527aa81cede93": {
      "model_module": "@jupyter-widgets/base",
      "model_module_version": "2.0.0",
      "model_name": "LayoutModel",
      "state": {
       "_model_module": "@jupyter-widgets/base",
       "_model_module_version": "2.0.0",
       "_model_name": "LayoutModel",
       "_view_count": null,
       "_view_module": "@jupyter-widgets/base",
       "_view_module_version": "2.0.0",
       "_view_name": "LayoutView",
       "align_content": null,
       "align_items": null,
       "align_self": null,
       "border_bottom": null,
       "border_left": null,
       "border_right": null,
       "border_top": null,
       "bottom": null,
       "display": null,
       "flex": null,
       "flex_flow": null,
       "grid_area": null,
       "grid_auto_columns": null,
       "grid_auto_flow": null,
       "grid_auto_rows": null,
       "grid_column": null,
       "grid_gap": null,
       "grid_row": null,
       "grid_template_areas": null,
       "grid_template_columns": null,
       "grid_template_rows": null,
       "height": null,
       "justify_content": null,
       "justify_items": null,
       "left": null,
       "margin": null,
       "max_height": null,
       "max_width": null,
       "min_height": null,
       "min_width": null,
       "object_fit": null,
       "object_position": null,
       "order": null,
       "overflow": null,
       "padding": null,
       "right": null,
       "top": null,
       "visibility": null,
       "width": null
      }
     },
     "ea8c2c7b5c694478ae1bc1c64c1d11b4": {
      "model_module": "nglview-js-widgets",
      "model_module_version": "3.1.4",
      "model_name": "ColormakerRegistryModel",
      "state": {
       "_dom_classes": [],
       "_model_module": "nglview-js-widgets",
       "_model_module_version": "3.1.4",
       "_model_name": "ColormakerRegistryModel",
       "_msg_ar": [],
       "_msg_q": [],
       "_ready": false,
       "_view_count": null,
       "_view_module": "nglview-js-widgets",
       "_view_module_version": "3.1.4",
       "_view_name": "ColormakerRegistryView",
       "layout": "IPY_MODEL_32f5d1ad114f409cb4c527aa81cede93",
       "tabbable": null,
       "tooltip": null
      }
     }
    },
    "version_major": 2,
    "version_minor": 0
   }
  }
 },
 "nbformat": 4,
 "nbformat_minor": 5
}
